{
 "cells": [
  {
   "cell_type": "code",
   "execution_count": 1,
   "metadata": {},
   "outputs": [
    {
     "name": "stdout",
     "output_type": "stream",
     "text": [
      "Using cuda.\n"
     ]
    }
   ],
   "source": [
    "%matplotlib inline\n",
    "import matplotlib.pyplot as plt\n",
    "import torchvision\n",
    "from torch.utils.data import TensorDataset, random_split, DataLoader\n",
    "import torch.nn as nn\n",
    "import time\n",
    "import wandb\n",
    "from sklearn.metrics import accuracy_score\n",
    "from imblearn.over_sampling import SMOTE\n",
    "import torch\n",
    "device = torch.device('cuda' if torch.cuda.is_available() else 'cpu')\n",
    "print(f'Using {device}.')"
   ]
  },
  {
   "cell_type": "code",
   "execution_count": 2,
   "metadata": {},
   "outputs": [],
   "source": [
    "def data_loading(data_path, label_path, batch_size, train_ratio=0.8):\n",
    "    data = torch.load(data_path)\n",
    "    labels = torch.load(label_path)\n",
    "    data = nn.functional.normalize(data, dim=1)\n",
    "    \n",
    "    # reshaping the dataset so  the channels will be the second dimension.\n",
    "    data = data.permute(0, 2, 1)\n",
    "    print(data.shape)\n",
    "    n_samples, n_channels, n_features = data.shape\n",
    "    X_reshaped = data.reshape(n_samples, -1) \n",
    "    # Apply SMOTE\n",
    "    smote = SMOTE()\n",
    "    data_resampled, labels_resampled = smote.fit_resample(X_reshaped, labels)\n",
    "\n",
    "    # Reshape X_resampled back to 3D\n",
    "    data_resampled = data_resampled.reshape(-1, n_channels, n_features)\n",
    "    print(data_resampled.shape)\n",
    "    data_resampled = torch.tensor(data_resampled)\n",
    "    labels_resampled = torch.tensor(labels_resampled)\n",
    "    dataset = TensorDataset(data_resampled, labels_resampled)\n",
    "    train_size = int(train_ratio * len(dataset))\n",
    "    test_size = len(dataset) - train_size\n",
    "    train_dataset, test_dataset = random_split(dataset, [train_size, test_size])\n",
    "    return DataLoader(train_dataset, batch_size=batch_size, shuffle=True), DataLoader(test_dataset, batch_size=batch_size, shuffle=False)\n",
    "\n"
   ]
  },
  {
   "cell_type": "code",
   "execution_count": 3,
   "metadata": {},
   "outputs": [],
   "source": [
    "def data_loading(data_path, label_path, batch_size, train_ratio=0.8):\n",
    "    data = torch.load(data_path)\n",
    "    labels = torch.load(label_path)\n",
    "    data = nn.functional.normalize(data, dim=1)\n",
    "    # print(labels.shape)\n",
    "    # print(data)\n",
    "    # print((labels==1).sum())\n",
    "    # reshaping the dataset so  the channels will be the second dimension.\n",
    "    data = data.permute(0, 2, 1)\n",
    "    n_samples, n_channels, n_features = data.shape\n",
    "    X_reshaped = data.reshape(n_samples, -1) \n",
    "    # Apply SMOTE\n",
    "    smote = SMOTE(random_state=42, sampling_strategy='all')\n",
    "    data_resampled, labels_resampled = smote.fit_resample(X_reshaped, labels)\n",
    "\n",
    "    # Reshape X_resampled back to 3D\n",
    "    data_resampled = data_resampled.reshape(-1, n_channels, n_features)\n",
    "    # print(labels_resampled.shape)\n",
    "    data_resampled = torch.tensor(data_resampled)\n",
    "    labels_resampled = torch.tensor(labels_resampled)\n",
    "    dataset = TensorDataset(data_resampled, labels_resampled)\n",
    "    train_size = int(train_ratio * len(dataset))\n",
    "    test_size = len(dataset) - train_size\n",
    "    train_dataset, test_dataset = random_split(dataset, [train_size, test_size])\n",
    "    return DataLoader(train_dataset, batch_size=batch_size, shuffle=True), DataLoader(test_dataset, batch_size=batch_size, shuffle=False), dataset\n",
    "\n"
   ]
  },
  {
   "cell_type": "markdown",
   "metadata": {},
   "source": [
    "class LSTMModel(nn.Module):\n",
    "    def __init__(self, input_dim, hidden_dim, output_dim):\n",
    "        super(LSTMModel, self).__init__()\n",
    "        self.lstm = nn.LSTM(input_dim, hidden_dim, batch_first=True)\n",
    "        self.fc = nn.Linear(hidden_dim, output_dim)\n",
    "    \n",
    "    def forward(self, x):\n",
    "        _, (hn, _) = self.lstm(x)\n",
    "        return self.fc(hn[-1])\n",
    "\n",
    "# Train the model\n",
    "def train_lstm(train_loader, test_loader, input_dim, hidden_dim=50, output_dim=1, epochs=10, lr=0.001):\n",
    "    model = LSTMModel(input_dim, hidden_dim, output_dim)\n",
    "    criterion = nn.CrossEntropyLoss()\n",
    "    optimizer = torch.optim.Adam(model.parameters(), lr=lr)\n",
    "    \n",
    "    # Train model\n",
    "    model.train()\n",
    "    for epoch in range(epochs):\n",
    "        for inputs, labels in train_loader:\n",
    "            optimizer.zero_grad()\n",
    "            outputs = model(inputs)\n",
    "            loss = criterion(outputs.squeeze(), labels)\n",
    "            loss.backward()\n",
    "            optimizer.step()\n",
    "    \n",
    "    # Evaluate model\n",
    "    model.eval()\n",
    "    y_true = []\n",
    "    y_pred = []\n",
    "    with torch.no_grad():\n",
    "        for inputs, labels in test_loader:\n",
    "            outputs = model(inputs).squeeze()\n",
    "            preds = torch.sigmoid(outputs) > 0.5\n",
    "            y_true.extend(labels.numpy())\n",
    "            y_pred.extend(preds.numpy())\n",
    "    \n",
    "    accuracy = accuracy_score(y_true, y_pred)\n",
    "    return accuracy\n",
    "\n",
    "# Feature Ablation: Evaluate the impact of each feature\n",
    "def feature_ablation(train_loader, test_loader, num_features):\n",
    "    accuracies = []\n",
    "    for i in range(num_features):\n",
    "        # Create subset of features\n",
    "        def create_subset_loader(loader, feature_indices):\n",
    "            inputs_list = []\n",
    "            labels_list = []\n",
    "            for inputs, labels in loader:\n",
    "                inputs_list.append(inputs[:, :, feature_indices])\n",
    "                labels_list.append(labels)\n",
    "            dataset_subset = TensorDataset(torch.cat(inputs_list), torch.cat(labels_list))\n",
    "            return DataLoader(dataset_subset, batch_size=loader.batch_size, shuffle=True)\n",
    "\n",
    "        feature_indices = list(range(num_features))\n",
    "        feature_indices.remove(i)  # Remove the i-th feature\n",
    "        \n",
    "        train_loader_subset = create_subset_loader(train_loader, feature_indices)\n",
    "        test_loader_subset = create_subset_loader(test_loader, feature_indices)\n",
    "        \n",
    "        input_dim_subset = len(feature_indices)\n",
    "        accuracy = train_lstm(train_loader_subset, test_loader_subset, input_dim=input_dim_subset)\n",
    "        accuracies.append(accuracy)\n",
    "        print(f\"Feature {i} accuracy: {accuracy}\")\n",
    "\n",
    "    return accuracies\n",
    "\n",
    "# Example usage\n",
    "data_path = 'data.pt'\n",
    "label_path = 'label.pt'\n",
    "batch_size = 32\n",
    "\n",
    "train_loader, test_loader, dataset = data_loading(data_path, label_path, batch_size)\n",
    "num_features = dataset[0][0].shape[1]  # Number of features from the original dataset\n",
    "\n",
    "# Perform feature ablation\n",
    "accuracies = feature_ablation(train_loader, test_loader, num_features)"
   ]
  },
  {
   "cell_type": "code",
   "execution_count": 4,
   "metadata": {},
   "outputs": [],
   "source": [
    "# Define the CNN architecture\n",
    "class SimpleCNN(nn.Module):\n",
    "    def __init__(self, dropout):\n",
    "        super(SimpleCNN, self).__init__()\n",
    "        self.conv1 = nn.Conv1d(in_channels=24, out_channels=32, kernel_size=5)\n",
    "        self.bn1 = nn.BatchNorm1d(32)\n",
    "        self.conv2 = nn.Conv1d(in_channels=32, out_channels=32, kernel_size=5)\n",
    "        self.bn2 = nn.BatchNorm1d(32)\n",
    "        self.pool = nn.MaxPool1d(kernel_size=2, padding=0, stride=1)\n",
    "        # the size of the out channels x number  of nodes \n",
    "        self.fc1 = nn.Linear(1312, 200)\n",
    "        self.fc2 = nn.Linear(200, 2)\n",
    "        self.flatten = nn.Flatten()\n",
    "        self.relu = nn.ReLU()\n",
    "        self.dropout = nn.Dropout(dropout)\n",
    "        self.sigmoid = nn.Sigmoid()\n",
    "\n",
    "    def forward(self, x):\n",
    "        x = self.relu(self.bn1(self.conv1(x)))\n",
    "        x = self.relu(self.bn2(self.conv2(x)))\n",
    "        x = self.dropout(x)\n",
    "        x = self.pool(x)\n",
    "        x = self.flatten(x)\n",
    "        x = self.relu(self.fc1(x))\n",
    "        x - self.dropout(x)\n",
    "        x = self.sigmoid(self.fc2(x))\n",
    "        return x\n"
   ]
  },
  {
   "cell_type": "code",
   "execution_count": 5,
   "metadata": {},
   "outputs": [],
   "source": [
    "def correct(logits, y):\n",
    "    y_hat = logits.argmax(axis=1) # Finds the column with the highest value for each row of `logits`.\n",
    "    return (y_hat == y).float().sum() # Computes the number of times that `y_hat` and `y` match."
   ]
  },
  {
   "cell_type": "code",
   "execution_count": 6,
   "metadata": {},
   "outputs": [],
   "source": [
    "def evaluate_metric(model, data_iter, metric):\n",
    "    \"\"\"Compute the average `metric` of the model on a dataset.\"\"\"\n",
    "    c = torch.tensor(0.).to(device)\n",
    "    n = torch.tensor(0.).to(device)\n",
    "    for X, y in data_iter:\n",
    "        X, y = X.to(device), y.to(device) # Moves data to `device`\n",
    "        logits = model(X)\n",
    "        c += metric(logits, y)\n",
    "        n += len(y)\n",
    "    return c*100 / n"
   ]
  },
  {
   "cell_type": "code",
   "execution_count": 7,
   "metadata": {},
   "outputs": [
    {
     "name": "stdout",
     "output_type": "stream",
     "text": [
      "(1370, 24, 50)\n"
     ]
    }
   ],
   "source": [
    "train, test = data_loading(data_path='NASA_data_50.pt', label_path='NASA_label_50.pt', batch_size=64)"
   ]
  },
  {
   "cell_type": "markdown",
   "metadata": {},
   "source": [
    "## Training"
   ]
  },
  {
   "cell_type": "code",
   "execution_count": 8,
   "metadata": {},
   "outputs": [
    {
     "name": "stderr",
     "output_type": "stream",
     "text": [
      "\u001b[34m\u001b[1mwandb\u001b[0m: Currently logged in as: \u001b[33md-hadjikazemi\u001b[0m (\u001b[33md-hadjikazemi-queen-mary-university-of-london\u001b[0m). Use \u001b[1m`wandb login --relogin`\u001b[0m to force relogin\n"
     ]
    },
    {
     "data": {
      "text/html": [
       "wandb version 0.17.5 is available!  To upgrade, please run:\n",
       " $ pip install wandb --upgrade"
      ],
      "text/plain": [
       "<IPython.core.display.HTML object>"
      ]
     },
     "metadata": {},
     "output_type": "display_data"
    },
    {
     "data": {
      "text/html": [
       "Tracking run with wandb version 0.17.4"
      ],
      "text/plain": [
       "<IPython.core.display.HTML object>"
      ]
     },
     "metadata": {},
     "output_type": "display_data"
    },
    {
     "data": {
      "text/html": [
       "Run data is saved locally in <code>/home/diba/wandb/run-20240721_202358-5o5t3j2a</code>"
      ],
      "text/plain": [
       "<IPython.core.display.HTML object>"
      ]
     },
     "metadata": {},
     "output_type": "display_data"
    },
    {
     "data": {
      "text/html": [
       "Syncing run <strong><a href='https://wandb.ai/d-hadjikazemi-queen-mary-university-of-london/NASA_turbo_fan/runs/5o5t3j2a' target=\"_blank\">smart-galaxy-25</a></strong> to <a href='https://wandb.ai/d-hadjikazemi-queen-mary-university-of-london/NASA_turbo_fan' target=\"_blank\">Weights & Biases</a> (<a href='https://wandb.me/run' target=\"_blank\">docs</a>)<br/>"
      ],
      "text/plain": [
       "<IPython.core.display.HTML object>"
      ]
     },
     "metadata": {},
     "output_type": "display_data"
    },
    {
     "data": {
      "text/html": [
       " View project at <a href='https://wandb.ai/d-hadjikazemi-queen-mary-university-of-london/NASA_turbo_fan' target=\"_blank\">https://wandb.ai/d-hadjikazemi-queen-mary-university-of-london/NASA_turbo_fan</a>"
      ],
      "text/plain": [
       "<IPython.core.display.HTML object>"
      ]
     },
     "metadata": {},
     "output_type": "display_data"
    },
    {
     "data": {
      "text/html": [
       " View run at <a href='https://wandb.ai/d-hadjikazemi-queen-mary-university-of-london/NASA_turbo_fan/runs/5o5t3j2a' target=\"_blank\">https://wandb.ai/d-hadjikazemi-queen-mary-university-of-london/NASA_turbo_fan/runs/5o5t3j2a</a>"
      ],
      "text/plain": [
       "<IPython.core.display.HTML object>"
      ]
     },
     "metadata": {},
     "output_type": "display_data"
    },
    {
     "name": "stdout",
     "output_type": "stream",
     "text": [
      "(1370, 24, 50)\n",
      "\n",
      "Epoch 1/100.\n",
      "Training accuracy: 50.09123992919922. Testing accuracy: 48.90510940551758. Duration: 0.277s.\n",
      "\n",
      "Epoch 2/100.\n",
      "Training accuracy: 49.63503646850586. Testing accuracy: 51.45985412597656. Duration: 0.032s.\n",
      "\n",
      "Epoch 3/100.\n",
      "Training accuracy: 49.63503646850586. Testing accuracy: 51.45985412597656. Duration: 0.029s.\n",
      "\n",
      "Epoch 4/100.\n",
      "Training accuracy: 59.215328216552734. Testing accuracy: 57.66423416137695. Duration: 0.027s.\n",
      "\n",
      "Epoch 5/100.\n",
      "Training accuracy: 82.57299041748047. Testing accuracy: 79.56204223632812. Duration: 0.026s.\n",
      "\n",
      "Epoch 6/100.\n",
      "Training accuracy: 82.02555084228516. Testing accuracy: 79.56204223632812. Duration: 0.026s.\n",
      "\n",
      "Epoch 7/100.\n",
      "Training accuracy: 83.0291976928711. Testing accuracy: 81.02189636230469. Duration: 0.025s.\n",
      "\n",
      "Epoch 8/100.\n",
      "Training accuracy: 84.21533203125. Testing accuracy: 82.11679077148438. Duration: 0.026s.\n",
      "\n",
      "Epoch 9/100.\n",
      "Training accuracy: 81.1131362915039. Testing accuracy: 81.02189636230469. Duration: 0.026s.\n",
      "\n",
      "Epoch 10/100.\n",
      "Training accuracy: 80.65693664550781. Testing accuracy: 78.10218811035156. Duration: 0.026s.\n",
      "\n",
      "Epoch 11/100.\n",
      "Training accuracy: 85.21897888183594. Testing accuracy: 82.84671783447266. Duration: 0.026s.\n",
      "\n",
      "Epoch 12/100.\n",
      "Training accuracy: 85.21897888183594. Testing accuracy: 82.48175048828125. Duration: 0.026s.\n",
      "\n",
      "Epoch 13/100.\n",
      "Training accuracy: 83.48540496826172. Testing accuracy: 78.46715545654297. Duration: 0.025s.\n",
      "\n",
      "Epoch 14/100.\n",
      "Training accuracy: 83.0291976928711. Testing accuracy: 78.10218811035156. Duration: 0.025s.\n",
      "\n",
      "Epoch 15/100.\n",
      "Training accuracy: 85.857666015625. Testing accuracy: 82.11679077148438. Duration: 0.027s.\n",
      "\n",
      "Epoch 16/100.\n",
      "Training accuracy: 86.77007293701172. Testing accuracy: 81.75182342529297. Duration: 0.026s.\n",
      "\n",
      "Epoch 17/100.\n",
      "Training accuracy: 81.75182342529297. Testing accuracy: 78.83211517333984. Duration: 0.027s.\n",
      "\n",
      "Epoch 18/100.\n",
      "Training accuracy: 84.85401153564453. Testing accuracy: 82.84671783447266. Duration: 0.027s.\n",
      "\n",
      "Epoch 19/100.\n",
      "Training accuracy: 81.29562377929688. Testing accuracy: 78.83211517333984. Duration: 0.026s.\n",
      "\n",
      "Epoch 20/100.\n",
      "Training accuracy: 87.13504028320312. Testing accuracy: 83.57664489746094. Duration: 0.026s.\n",
      "\n",
      "Epoch 21/100.\n",
      "Training accuracy: 87.40876007080078. Testing accuracy: 83.57664489746094. Duration: 0.026s.\n",
      "\n",
      "Epoch 22/100.\n",
      "Training accuracy: 87.95620727539062. Testing accuracy: 83.57664489746094. Duration: 0.027s.\n",
      "\n",
      "Epoch 23/100.\n",
      "Training accuracy: 87.59123992919922. Testing accuracy: 83.57664489746094. Duration: 0.025s.\n",
      "\n",
      "Epoch 24/100.\n",
      "Training accuracy: 88.6861343383789. Testing accuracy: 83.21167755126953. Duration: 0.025s.\n",
      "\n",
      "Epoch 25/100.\n",
      "Training accuracy: 88.04744720458984. Testing accuracy: 83.21167755126953. Duration: 0.026s.\n",
      "\n",
      "Epoch 26/100.\n",
      "Training accuracy: 87.95620727539062. Testing accuracy: 82.84671783447266. Duration: 0.026s.\n",
      "\n",
      "Epoch 27/100.\n",
      "Training accuracy: 88.13868713378906. Testing accuracy: 82.84671783447266. Duration: 0.025s.\n",
      "\n",
      "Epoch 28/100.\n",
      "Training accuracy: 87.95620727539062. Testing accuracy: 83.21167755126953. Duration: 0.026s.\n",
      "\n",
      "Epoch 29/100.\n",
      "Training accuracy: 89.05109405517578. Testing accuracy: 83.94160461425781. Duration: 0.025s.\n",
      "\n",
      "Epoch 30/100.\n",
      "Training accuracy: 88.13868713378906. Testing accuracy: 83.57664489746094. Duration: 0.026s.\n",
      "\n",
      "Epoch 31/100.\n",
      "Training accuracy: 83.30291748046875. Testing accuracy: 80.2919692993164. Duration: 0.034s.\n",
      "\n",
      "Epoch 32/100.\n",
      "Training accuracy: 85.58393859863281. Testing accuracy: 81.75182342529297. Duration: 0.030s.\n",
      "\n",
      "Epoch 33/100.\n",
      "Training accuracy: 89.142333984375. Testing accuracy: 83.94160461425781. Duration: 0.028s.\n",
      "\n",
      "Epoch 34/100.\n",
      "Training accuracy: 87.40876007080078. Testing accuracy: 82.84671783447266. Duration: 0.025s.\n",
      "\n",
      "Epoch 35/100.\n",
      "Training accuracy: 88.41240692138672. Testing accuracy: 83.21167755126953. Duration: 0.025s.\n",
      "\n",
      "Epoch 36/100.\n",
      "Training accuracy: 91.60584259033203. Testing accuracy: 85.40145874023438. Duration: 0.028s.\n",
      "\n",
      "Epoch 37/100.\n",
      "Training accuracy: 87.86495971679688. Testing accuracy: 83.21167755126953. Duration: 0.028s.\n",
      "\n",
      "Epoch 38/100.\n",
      "Training accuracy: 92.42700958251953. Testing accuracy: 85.40145874023438. Duration: 0.027s.\n",
      "\n",
      "Epoch 39/100.\n",
      "Training accuracy: 90.41970825195312. Testing accuracy: 85.0364990234375. Duration: 0.027s.\n",
      "\n",
      "Epoch 40/100.\n",
      "Training accuracy: 92.42700958251953. Testing accuracy: 84.6715316772461. Duration: 0.026s.\n",
      "\n",
      "Epoch 41/100.\n",
      "Training accuracy: 92.51824951171875. Testing accuracy: 84.6715316772461. Duration: 0.025s.\n",
      "\n",
      "Epoch 42/100.\n",
      "Training accuracy: 90.87591552734375. Testing accuracy: 85.0364990234375. Duration: 0.025s.\n",
      "\n",
      "Epoch 43/100.\n",
      "Training accuracy: 85.40145874023438. Testing accuracy: 80.65693664550781. Duration: 0.025s.\n",
      "\n",
      "Epoch 44/100.\n",
      "Training accuracy: 90.87591552734375. Testing accuracy: 84.30657196044922. Duration: 0.025s.\n",
      "\n",
      "Epoch 45/100.\n",
      "Training accuracy: 90.3284683227539. Testing accuracy: 84.6715316772461. Duration: 0.025s.\n",
      "\n",
      "Epoch 46/100.\n",
      "Training accuracy: 93.24817657470703. Testing accuracy: 85.40145874023438. Duration: 0.025s.\n",
      "\n",
      "Epoch 47/100.\n",
      "Training accuracy: 92.06204223632812. Testing accuracy: 85.76642608642578. Duration: 0.026s.\n",
      "\n",
      "Epoch 48/100.\n",
      "Training accuracy: 87.68247985839844. Testing accuracy: 82.48175048828125. Duration: 0.025s.\n",
      "\n",
      "Epoch 49/100.\n",
      "Training accuracy: 87.77371978759766. Testing accuracy: 82.48175048828125. Duration: 0.026s.\n",
      "\n",
      "Epoch 50/100.\n",
      "Training accuracy: 92.88320922851562. Testing accuracy: 85.40145874023438. Duration: 0.025s.\n",
      "\n",
      "Epoch 51/100.\n",
      "Training accuracy: 92.33576965332031. Testing accuracy: 86.13138580322266. Duration: 0.025s.\n",
      "\n",
      "Epoch 52/100.\n",
      "Training accuracy: 93.52189636230469. Testing accuracy: 85.40145874023438. Duration: 0.025s.\n",
      "\n",
      "Epoch 53/100.\n",
      "Training accuracy: 93.70437622070312. Testing accuracy: 85.76642608642578. Duration: 0.025s.\n",
      "\n",
      "Epoch 54/100.\n",
      "Training accuracy: 92.24452209472656. Testing accuracy: 85.76642608642578. Duration: 0.025s.\n",
      "\n",
      "Epoch 55/100.\n",
      "Training accuracy: 89.32481384277344. Testing accuracy: 83.57664489746094. Duration: 0.026s.\n",
      "\n",
      "Epoch 56/100.\n",
      "Training accuracy: 93.33941650390625. Testing accuracy: 86.13138580322266. Duration: 0.026s.\n",
      "\n",
      "Epoch 57/100.\n",
      "Training accuracy: 94.06934356689453. Testing accuracy: 83.94160461425781. Duration: 0.026s.\n",
      "\n",
      "Epoch 58/100.\n",
      "Training accuracy: 93.8868637084961. Testing accuracy: 86.13138580322266. Duration: 0.025s.\n",
      "\n",
      "Epoch 59/100.\n",
      "Training accuracy: 94.25182342529297. Testing accuracy: 86.49635314941406. Duration: 0.025s.\n",
      "\n",
      "Epoch 60/100.\n",
      "Training accuracy: 90.87591552734375. Testing accuracy: 84.30657196044922. Duration: 0.025s.\n",
      "\n",
      "Epoch 61/100.\n",
      "Training accuracy: 93.52189636230469. Testing accuracy: 86.13138580322266. Duration: 0.025s.\n",
      "\n",
      "Epoch 62/100.\n",
      "Training accuracy: 92.60948944091797. Testing accuracy: 85.0364990234375. Duration: 0.025s.\n",
      "\n",
      "Epoch 63/100.\n",
      "Training accuracy: 94.25182342529297. Testing accuracy: 86.86131286621094. Duration: 0.026s.\n",
      "\n",
      "Epoch 64/100.\n",
      "Training accuracy: 94.16058349609375. Testing accuracy: 87.22628021240234. Duration: 0.029s.\n",
      "\n",
      "Epoch 65/100.\n",
      "Training accuracy: 93.0656967163086. Testing accuracy: 86.49635314941406. Duration: 0.026s.\n",
      "\n",
      "Epoch 66/100.\n",
      "Training accuracy: 90.87591552734375. Testing accuracy: 84.6715316772461. Duration: 0.027s.\n",
      "\n",
      "Epoch 67/100.\n",
      "Training accuracy: 94.16058349609375. Testing accuracy: 86.49635314941406. Duration: 0.026s.\n",
      "\n",
      "Epoch 68/100.\n",
      "Training accuracy: 93.52189636230469. Testing accuracy: 85.76642608642578. Duration: 0.026s.\n",
      "\n",
      "Epoch 69/100.\n",
      "Training accuracy: 94.7080307006836. Testing accuracy: 86.49635314941406. Duration: 0.025s.\n",
      "\n",
      "Epoch 70/100.\n",
      "Training accuracy: 94.98175048828125. Testing accuracy: 87.59123992919922. Duration: 0.027s.\n",
      "\n",
      "Epoch 71/100.\n",
      "Training accuracy: 86.86131286621094. Testing accuracy: 81.75182342529297. Duration: 0.027s.\n",
      "\n",
      "Epoch 72/100.\n",
      "Training accuracy: 90.96715545654297. Testing accuracy: 83.21167755126953. Duration: 0.025s.\n",
      "\n",
      "Epoch 73/100.\n",
      "Training accuracy: 91.05839538574219. Testing accuracy: 83.94160461425781. Duration: 0.025s.\n",
      "\n",
      "Epoch 74/100.\n",
      "Training accuracy: 93.24817657470703. Testing accuracy: 85.40145874023438. Duration: 0.025s.\n",
      "\n",
      "Epoch 75/100.\n",
      "Training accuracy: 96.53284454345703. Testing accuracy: 86.13138580322266. Duration: 0.025s.\n",
      "\n",
      "Epoch 76/100.\n",
      "Training accuracy: 95.80291748046875. Testing accuracy: 86.13138580322266. Duration: 0.025s.\n",
      "\n",
      "Epoch 77/100.\n",
      "Training accuracy: 96.16788482666016. Testing accuracy: 86.49635314941406. Duration: 0.025s.\n",
      "\n",
      "Epoch 78/100.\n",
      "Training accuracy: 92.33576965332031. Testing accuracy: 85.40145874023438. Duration: 0.025s.\n",
      "\n",
      "Epoch 79/100.\n",
      "Training accuracy: 95.07299041748047. Testing accuracy: 86.49635314941406. Duration: 0.025s.\n",
      "\n",
      "Epoch 80/100.\n",
      "Training accuracy: 92.7919692993164. Testing accuracy: 85.40145874023438. Duration: 0.025s.\n",
      "\n",
      "Epoch 81/100.\n",
      "Training accuracy: 95.98540496826172. Testing accuracy: 86.86131286621094. Duration: 0.025s.\n",
      "\n",
      "Epoch 82/100.\n",
      "Training accuracy: 94.79927062988281. Testing accuracy: 86.49635314941406. Duration: 0.025s.\n",
      "\n",
      "Epoch 83/100.\n",
      "Training accuracy: 95.98540496826172. Testing accuracy: 87.22628021240234. Duration: 0.025s.\n",
      "\n",
      "Epoch 84/100.\n",
      "Training accuracy: 95.98540496826172. Testing accuracy: 87.59123992919922. Duration: 0.025s.\n",
      "\n",
      "Epoch 85/100.\n",
      "Training accuracy: 94.25182342529297. Testing accuracy: 85.40145874023438. Duration: 0.025s.\n",
      "\n",
      "Epoch 86/100.\n",
      "Training accuracy: 95.5291976928711. Testing accuracy: 87.95620727539062. Duration: 0.025s.\n",
      "\n",
      "Epoch 87/100.\n",
      "Training accuracy: 96.07664489746094. Testing accuracy: 87.59123992919922. Duration: 0.025s.\n",
      "\n",
      "Epoch 88/100.\n",
      "Training accuracy: 95.98540496826172. Testing accuracy: 87.22628021240234. Duration: 0.025s.\n",
      "\n",
      "Epoch 89/100.\n",
      "Training accuracy: 95.98540496826172. Testing accuracy: 87.59123992919922. Duration: 0.025s.\n",
      "\n",
      "Epoch 90/100.\n",
      "Training accuracy: 92.15328216552734. Testing accuracy: 83.21167755126953. Duration: 0.025s.\n",
      "\n",
      "Epoch 91/100.\n",
      "Training accuracy: 95.43795776367188. Testing accuracy: 87.22628021240234. Duration: 0.025s.\n",
      "\n",
      "Epoch 92/100.\n",
      "Training accuracy: 95.16423034667969. Testing accuracy: 87.22628021240234. Duration: 0.025s.\n",
      "\n",
      "Epoch 93/100.\n",
      "Training accuracy: 95.5291976928711. Testing accuracy: 87.95620727539062. Duration: 0.025s.\n",
      "\n",
      "Epoch 94/100.\n",
      "Training accuracy: 96.53284454345703. Testing accuracy: 87.59123992919922. Duration: 0.025s.\n",
      "\n",
      "Epoch 95/100.\n",
      "Training accuracy: 95.89415740966797. Testing accuracy: 87.22628021240234. Duration: 0.028s.\n",
      "\n",
      "Epoch 96/100.\n",
      "Training accuracy: 95.62043762207031. Testing accuracy: 86.86131286621094. Duration: 0.025s.\n",
      "\n",
      "Epoch 97/100.\n",
      "Training accuracy: 96.71533203125. Testing accuracy: 86.49635314941406. Duration: 0.025s.\n",
      "\n",
      "Epoch 98/100.\n",
      "Training accuracy: 97.1715316772461. Testing accuracy: 85.76642608642578. Duration: 0.025s.\n",
      "\n",
      "Epoch 99/100.\n",
      "Training accuracy: 97.1715316772461. Testing accuracy: 86.49635314941406. Duration: 0.027s.\n",
      "\n",
      "Epoch 100/100.\n",
      "Training accuracy: 97.26277160644531. Testing accuracy: 86.49635314941406. Duration: 0.025s.\n"
     ]
    },
    {
     "data": {
      "image/png": "[encoded data removed]",
      "text/plain": [
       "<Figure size 640x480 with 1 Axes>"
      ]
     },
     "metadata": {},
     "output_type": "display_data"
    },
    {
     "data": {
      "image/png": "[encoded data removed]",
      "text/plain": [
       "<Figure size 640x480 with 1 Axes>"
      ]
     },
     "metadata": {},
     "output_type": "display_data"
    },
    {
     "data": {
      "application/vnd.jupyter.widget-view+json": {
       "model_id": "7075081a8c7d47338f2e053c7ec48890",
       "version_major": 2,
       "version_minor": 0
      },
      "text/plain": [
       "VBox(children=(Label(value='0.004 MB of 0.004 MB uploaded\\r'), FloatProgress(value=1.0, max=1.0)))"
      ]
     },
     "metadata": {},
     "output_type": "display_data"
    },
    {
     "data": {
      "text/html": [
       "<style>\n",
       "    table.wandb td:nth-child(1) { padding: 0 10px; text-align: left ; width: auto;} td:nth-child(2) {text-align: left ; width: 100%}\n",
       "    .wandb-row { display: flex; flex-direction: row; flex-wrap: wrap; justify-content: flex-start; width: 100% }\n",
       "    .wandb-col { display: flex; flex-direction: column; flex-basis: 100%; flex: 1; padding: 10px; }\n",
       "    </style>\n",
       "<div class=\"wandb-row\"><div class=\"wandb-col\"><h3>Run history:</h3><br/><table class=\"wandb\"><tr><td>test_acc</td><td>▁▁▇▇▇▆▇▇▇▇▇▇▇▇██▇▇█▇████████▇███████████</td></tr><tr><td>train_acc</td><td>▁▁▆▆▆▆▆▆▇▇▇▇▆▇▇▇▇▇▇▇▇▇▇█▇███▇▇██████████</td></tr><tr><td>train_loss</td><td>██▇▅▇▆▇▆▄▄▇▂▇▃▃▆▄▃▂▁▃▃▄▁▄▄▃▁▃▁█▃▁▂▃▃▁▆▅▅</td></tr></table><br/></div><div class=\"wandb-col\"><h3>Run summary:</h3><br/><table class=\"wandb\"><tr><td>test_acc</td><td>86.49635</td></tr><tr><td>train_acc</td><td>97.26277</td></tr><tr><td>train_loss</td><td>0.52766</td></tr></table><br/></div></div>"
      ],
      "text/plain": [
       "<IPython.core.display.HTML object>"
      ]
     },
     "metadata": {},
     "output_type": "display_data"
    },
    {
     "data": {
      "text/html": [
       " View run <strong style=\"color:#cdcd00\">smart-galaxy-25</strong> at: <a href='https://wandb.ai/d-hadjikazemi-queen-mary-university-of-london/NASA_turbo_fan/runs/5o5t3j2a' target=\"_blank\">https://wandb.ai/d-hadjikazemi-queen-mary-university-of-london/NASA_turbo_fan/runs/5o5t3j2a</a><br/> View project at: <a href='https://wandb.ai/d-hadjikazemi-queen-mary-university-of-london/NASA_turbo_fan' target=\"_blank\">https://wandb.ai/d-hadjikazemi-queen-mary-university-of-london/NASA_turbo_fan</a><br/>Synced 6 W&B file(s), 0 media file(s), 0 artifact file(s) and 0 other file(s)"
      ],
      "text/plain": [
       "<IPython.core.display.HTML object>"
      ]
     },
     "metadata": {},
     "output_type": "display_data"
    },
    {
     "data": {
      "text/html": [
       "Find logs at: <code>./wandb/run-20240721_202358-5o5t3j2a/logs</code>"
      ],
      "text/plain": [
       "<IPython.core.display.HTML object>"
      ]
     },
     "metadata": {},
     "output_type": "display_data"
    },
    {
     "data": {
      "text/html": [
       "The new W&B backend becomes opt-out in version 0.18.0; try it out with `wandb.require(\"core\")`! See https://wandb.me/wandb-core for more information."
      ],
      "text/plain": [
       "<IPython.core.display.HTML object>"
      ]
     },
     "metadata": {},
     "output_type": "display_data"
    }
   ],
   "source": [
    "wandb.init(\n",
    "    # set the wandb project where this run will be logged\n",
    "    project=\"NASA_turbo_fan\",\n",
    "    # name= \"with 50 data points\",\n",
    "    # track hyperparameters and run metadata\n",
    "    config={\n",
    "    \"learning_rate\": 0.0001,\n",
    "    \"architecture\": \"CNN\",\n",
    "    \"epochs\": 100,\n",
    "    \"loss\": nn.BCELoss(),\n",
    "    \"batch_size\": 64,\n",
    "    \"decay\":1e-5,\n",
    "    'dropout': 0.6\n",
    "    }\n",
    ")\n",
    "config = wandb.config\n",
    "data_path = 'NASA_data_50.pt'\n",
    "label_path = 'NASA_label_50.pt'\n",
    "train_loader, test_loader = data_loading(data_path=data_path, label_path=label_path,batch_size= config.batch_size)\n",
    "\n",
    "losses = [] # Stores the loss for each training batch\n",
    "train_accs = [] # Stores the training accuracy after each epoch\n",
    "test_accs = [] # Stores the testing accuracy after each epoch\n",
    "\n",
    "# Create an instance of the CNN\n",
    "model = SimpleCNN(dropout=config.dropout)\n",
    "\n",
    "# Loss and optimizer\n",
    "loss = nn.CrossEntropyLoss()\n",
    "optimizer = torch.optim.Adam(model.parameters(), lr=config.learning_rate, weight_decay=config.decay)\n",
    "\n",
    "model.to(device)\n",
    "\n",
    "num_epochs = 100\n",
    "for epoch in range(config.epochs):\n",
    "    print(f'\\nEpoch {epoch + 1}/{num_epochs}.')\n",
    "    start_time = time.perf_counter()\n",
    "\n",
    "    model.train() # This is necessary because batch normalization behaves differently between training and evaluation\n",
    "\n",
    "    for X, y in train_loader:\n",
    "        X, y = X.to(device), y.to(device) # Moves data to `device`\n",
    "        logits = model(X) # Computes the logits for the batch of images `X`\n",
    "        l = loss(logits, y) # Computes the loss given the `logits` and the class vector `y`\n",
    "        optimizer.zero_grad() # Zeroes the gradients stored in the model parameters\n",
    "        l.backward() # Computes the gradient of the loss `l` with respect to the model parameters\n",
    "\n",
    "        optimizer.step() # Updates the model parameters based on the gradients stored inside them\n",
    "\n",
    "        train_loss = float(l)\n",
    "        losses.append(train_loss) # Stores the loss for this batch\n",
    "\n",
    "    model.eval() # This is necessary because batch normalization behaves differently between training and evaluation\n",
    "    train_acc = evaluate_metric(model, train_loader, correct)\n",
    "    train_accs.append(train_acc)\n",
    "    test_acc = evaluate_metric(model, test_loader, correct)\n",
    "    test_accs.append(test_acc)\n",
    "    metrics = {\"train_loss\": train_loss,\n",
    "               \"train_acc\": train_acc,\n",
    "               \"test_acc\": test_acc}\n",
    "    wandb.log(metrics)\n",
    "\n",
    "    end_time = time.perf_counter()\n",
    "\n",
    "    print(f'Training accuracy: {train_accs[-1]}. Testing accuracy: {test_accs[-1]}. Duration: {end_time - start_time:.3f}s.') # Computes and displays training/testing dataset accuracy.\n",
    "\n",
    "plt.plot(losses) # Plots the loss for each training batch\n",
    "plt.xlabel('Training batch')\n",
    "plt.ylabel('Cross entropy loss')\n",
    "plt.show()\n",
    "\n",
    "plt.plot(list(map(lambda x: x.cpu(),train_accs)), label='Training accuracy')\n",
    "plt.plot(list(map(lambda x: x.cpu(),test_accs)), label='Testing accuracy')\n",
    "plt.legend(loc='best')\n",
    "plt.xlabel('Epoch')\n",
    "plt.show()\n",
    "wandb.finish()"
   ]
  },
  {
   "cell_type": "code",
   "execution_count": 9,
   "metadata": {},
   "outputs": [
    {
     "name": "stdout",
     "output_type": "stream",
     "text": [
      "max test accuracy 87.95620727539062\n"
     ]
    }
   ],
   "source": [
    "print('max test accuracy {}'.format(max(test_accs)))"
   ]
  }
 ],
 "metadata": {
  "kernelspec": {
   "display_name": "Python 3 (ipykernel)",
   "language": "python",
   "name": "python3"
  },
  "language_info": {
   "codemirror_mode": {
    "name": "ipython",
    "version": 3
   },
   "file_extension": ".py",
   "mimetype": "text/x-python",
   "name": "python",
   "nbconvert_exporter": "python",
   "pygments_lexer": "ipython3",
   "version": "3.10.0"
  }
 },
 "nbformat": 4,
 "nbformat_minor": 2
}
