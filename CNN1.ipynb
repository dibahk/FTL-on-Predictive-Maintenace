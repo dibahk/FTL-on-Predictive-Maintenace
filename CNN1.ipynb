{
 "cells": [
  {
   "cell_type": "code",
   "execution_count": 20,
   "metadata": {},
   "outputs": [
    {
     "name": "stdout",
     "output_type": "stream",
     "text": [
      "Using cuda.\n"
     ]
    }
   ],
   "source": [
    "%matplotlib inline\n",
    "import matplotlib.pyplot as plt\n",
    "import torchvision\n",
    "from torch.utils.data import TensorDataset, random_split, DataLoader\n",
    "import torch.nn as nn\n",
    "import time\n",
    "import wandb\n",
    "from sklearn.metrics import accuracy_score\n",
    "from imblearn.over_sampling import SMOTE\n",
    "import torch\n",
    "device = torch.device('cuda' if torch.cuda.is_available() else 'cpu')\n",
    "print(f'Using {device}.')"
   ]
  },
  {
   "cell_type": "code",
   "execution_count": 21,
   "metadata": {},
   "outputs": [],
   "source": [
    "def data_loading(data_path, label_path, batch_size, train_ratio=0.8):\n",
    "    data = torch.load(data_path)\n",
    "    labels = torch.load(label_path)\n",
    "    data = nn.functional.normalize(data, dim=1)\n",
    "    \n",
    "    # reshaping the dataset so  the channels will be the second dimension.\n",
    "    data = data.permute(0, 2, 1)\n",
    "    n_samples, n_channels, n_features = data.shape\n",
    "    X_reshaped = data.reshape(n_samples, -1) \n",
    "    # Apply SMOTE\n",
    "    smote = SMOTE()\n",
    "    data_resampled, labels_resampled = smote.fit_resample(X_reshaped, labels)\n",
    "\n",
    "    # Reshape X_resampled back to 3D\n",
    "    data_resampled = data_resampled.reshape(-1, n_channels, n_features)\n",
    "    print(data_resampled.shape)\n",
    "    data_resampled = torch.tensor(data_resampled)\n",
    "    labels_resampled = torch.tensor(labels_resampled)\n",
    "    dataset = TensorDataset(data_resampled, labels_resampled)\n",
    "    train_size = int(train_ratio * len(dataset))\n",
    "    test_size = len(dataset) - train_size\n",
    "    train_dataset, test_dataset = random_split(dataset, [train_size, test_size])\n",
    "    return DataLoader(train_dataset, batch_size=batch_size, shuffle=True), DataLoader(test_dataset, batch_size=batch_size, shuffle=False)\n",
    "\n"
   ]
  },
  {
   "cell_type": "code",
   "execution_count": 25,
   "metadata": {},
   "outputs": [
    {
     "name": "stdout",
     "output_type": "stream",
     "text": [
      "(326, 24, 100)\n"
     ]
    },
    {
     "ename": "RuntimeError",
     "evalue": "input.size(-1) must be equal to input_size. Expected 99, got 100",
     "output_type": "error",
     "traceback": [
      "\u001b[0;31m---------------------------------------------------------------------------\u001b[0m",
      "\u001b[0;31mRuntimeError\u001b[0m                              Traceback (most recent call last)",
      "Cell \u001b[0;32mIn[25], line 64\u001b[0m\n\u001b[1;32m     61\u001b[0m num_features \u001b[38;5;241m=\u001b[39m \u001b[38;5;241m24\u001b[39m  \u001b[38;5;66;03m# Number of features\u001b[39;00m\n\u001b[1;32m     63\u001b[0m \u001b[38;5;66;03m# Perform feature ablation\u001b[39;00m\n\u001b[0;32m---> 64\u001b[0m accuracies \u001b[38;5;241m=\u001b[39m \u001b[43mfeature_ablation\u001b[49m\u001b[43m(\u001b[49m\u001b[43mtrain_loader\u001b[49m\u001b[43m,\u001b[49m\u001b[43m \u001b[49m\u001b[43mtest_loader\u001b[49m\u001b[43m,\u001b[49m\u001b[43m \u001b[49m\u001b[43mnum_features\u001b[49m\u001b[43m)\u001b[49m\n",
      "Cell \u001b[0;32mIn[25], line 49\u001b[0m, in \u001b[0;36mfeature_ablation\u001b[0;34m(train_loader, test_loader, num_features)\u001b[0m\n\u001b[1;32m     46\u001b[0m train_loader_subset \u001b[38;5;241m=\u001b[39m [(inputs[:, :i], labels) \u001b[38;5;28;01mfor\u001b[39;00m inputs, labels \u001b[38;5;129;01min\u001b[39;00m train_loader]\n\u001b[1;32m     47\u001b[0m test_loader_subset \u001b[38;5;241m=\u001b[39m [(inputs[:, :i], labels) \u001b[38;5;28;01mfor\u001b[39;00m inputs, labels \u001b[38;5;129;01min\u001b[39;00m test_loader]\n\u001b[0;32m---> 49\u001b[0m accuracy \u001b[38;5;241m=\u001b[39m \u001b[43mtrain_lstm\u001b[49m\u001b[43m(\u001b[49m\u001b[43mtrain_loader_subset\u001b[49m\u001b[43m,\u001b[49m\u001b[43m \u001b[49m\u001b[43mtest_loader_subset\u001b[49m\u001b[43m,\u001b[49m\u001b[43m \u001b[49m\u001b[43minput_dim\u001b[49m\u001b[38;5;241;43m=\u001b[39;49m\u001b[43mtrain_loader\u001b[49m\u001b[38;5;241;43m.\u001b[39;49m\u001b[43mdataset\u001b[49m\u001b[43m[\u001b[49m\u001b[38;5;241;43m0\u001b[39;49m\u001b[43m]\u001b[49m\u001b[43m[\u001b[49m\u001b[38;5;241;43m0\u001b[39;49m\u001b[43m]\u001b[49m\u001b[38;5;241;43m.\u001b[39;49m\u001b[43mshape\u001b[49m\u001b[43m[\u001b[49m\u001b[38;5;241;43m1\u001b[39;49m\u001b[43m]\u001b[49m\u001b[43m \u001b[49m\u001b[38;5;241;43m-\u001b[39;49m\u001b[43m \u001b[49m\u001b[38;5;241;43m1\u001b[39;49m\u001b[43m)\u001b[49m\n\u001b[1;32m     50\u001b[0m accuracies\u001b[38;5;241m.\u001b[39mappend(accuracy)\n\u001b[1;32m     51\u001b[0m \u001b[38;5;28mprint\u001b[39m(\u001b[38;5;124mf\u001b[39m\u001b[38;5;124m\"\u001b[39m\u001b[38;5;124mFeature \u001b[39m\u001b[38;5;132;01m{\u001b[39;00mi\u001b[38;5;132;01m}\u001b[39;00m\u001b[38;5;124m accuracy: \u001b[39m\u001b[38;5;132;01m{\u001b[39;00maccuracy\u001b[38;5;132;01m}\u001b[39;00m\u001b[38;5;124m\"\u001b[39m)\n",
      "Cell \u001b[0;32mIn[25], line 22\u001b[0m, in \u001b[0;36mtrain_lstm\u001b[0;34m(train_loader, test_loader, input_dim, hidden_dim, output_dim, epochs, lr)\u001b[0m\n\u001b[1;32m     20\u001b[0m \u001b[38;5;28;01mfor\u001b[39;00m inputs, labels \u001b[38;5;129;01min\u001b[39;00m train_loader:\n\u001b[1;32m     21\u001b[0m     optimizer\u001b[38;5;241m.\u001b[39mzero_grad()\n\u001b[0;32m---> 22\u001b[0m     outputs \u001b[38;5;241m=\u001b[39m \u001b[43mmodel\u001b[49m\u001b[43m(\u001b[49m\u001b[43minputs\u001b[49m\u001b[43m)\u001b[49m\n\u001b[1;32m     23\u001b[0m     loss \u001b[38;5;241m=\u001b[39m criterion(outputs\u001b[38;5;241m.\u001b[39msqueeze(), labels)\n\u001b[1;32m     24\u001b[0m     loss\u001b[38;5;241m.\u001b[39mbackward()\n",
      "File \u001b[0;32m~/miniconda3/envs/FTL/lib/python3.10/site-packages/torch/nn/modules/module.py:1532\u001b[0m, in \u001b[0;36mModule._wrapped_call_impl\u001b[0;34m(self, *args, **kwargs)\u001b[0m\n\u001b[1;32m   1530\u001b[0m     \u001b[38;5;28;01mreturn\u001b[39;00m \u001b[38;5;28mself\u001b[39m\u001b[38;5;241m.\u001b[39m_compiled_call_impl(\u001b[38;5;241m*\u001b[39margs, \u001b[38;5;241m*\u001b[39m\u001b[38;5;241m*\u001b[39mkwargs)  \u001b[38;5;66;03m# type: ignore[misc]\u001b[39;00m\n\u001b[1;32m   1531\u001b[0m \u001b[38;5;28;01melse\u001b[39;00m:\n\u001b[0;32m-> 1532\u001b[0m     \u001b[38;5;28;01mreturn\u001b[39;00m \u001b[38;5;28;43mself\u001b[39;49m\u001b[38;5;241;43m.\u001b[39;49m\u001b[43m_call_impl\u001b[49m\u001b[43m(\u001b[49m\u001b[38;5;241;43m*\u001b[39;49m\u001b[43margs\u001b[49m\u001b[43m,\u001b[49m\u001b[43m \u001b[49m\u001b[38;5;241;43m*\u001b[39;49m\u001b[38;5;241;43m*\u001b[39;49m\u001b[43mkwargs\u001b[49m\u001b[43m)\u001b[49m\n",
      "File \u001b[0;32m~/miniconda3/envs/FTL/lib/python3.10/site-packages/torch/nn/modules/module.py:1541\u001b[0m, in \u001b[0;36mModule._call_impl\u001b[0;34m(self, *args, **kwargs)\u001b[0m\n\u001b[1;32m   1536\u001b[0m \u001b[38;5;66;03m# If we don't have any hooks, we want to skip the rest of the logic in\u001b[39;00m\n\u001b[1;32m   1537\u001b[0m \u001b[38;5;66;03m# this function, and just call forward.\u001b[39;00m\n\u001b[1;32m   1538\u001b[0m \u001b[38;5;28;01mif\u001b[39;00m \u001b[38;5;129;01mnot\u001b[39;00m (\u001b[38;5;28mself\u001b[39m\u001b[38;5;241m.\u001b[39m_backward_hooks \u001b[38;5;129;01mor\u001b[39;00m \u001b[38;5;28mself\u001b[39m\u001b[38;5;241m.\u001b[39m_backward_pre_hooks \u001b[38;5;129;01mor\u001b[39;00m \u001b[38;5;28mself\u001b[39m\u001b[38;5;241m.\u001b[39m_forward_hooks \u001b[38;5;129;01mor\u001b[39;00m \u001b[38;5;28mself\u001b[39m\u001b[38;5;241m.\u001b[39m_forward_pre_hooks\n\u001b[1;32m   1539\u001b[0m         \u001b[38;5;129;01mor\u001b[39;00m _global_backward_pre_hooks \u001b[38;5;129;01mor\u001b[39;00m _global_backward_hooks\n\u001b[1;32m   1540\u001b[0m         \u001b[38;5;129;01mor\u001b[39;00m _global_forward_hooks \u001b[38;5;129;01mor\u001b[39;00m _global_forward_pre_hooks):\n\u001b[0;32m-> 1541\u001b[0m     \u001b[38;5;28;01mreturn\u001b[39;00m \u001b[43mforward_call\u001b[49m\u001b[43m(\u001b[49m\u001b[38;5;241;43m*\u001b[39;49m\u001b[43margs\u001b[49m\u001b[43m,\u001b[49m\u001b[43m \u001b[49m\u001b[38;5;241;43m*\u001b[39;49m\u001b[38;5;241;43m*\u001b[39;49m\u001b[43mkwargs\u001b[49m\u001b[43m)\u001b[49m\n\u001b[1;32m   1543\u001b[0m \u001b[38;5;28;01mtry\u001b[39;00m:\n\u001b[1;32m   1544\u001b[0m     result \u001b[38;5;241m=\u001b[39m \u001b[38;5;28;01mNone\u001b[39;00m\n",
      "Cell \u001b[0;32mIn[25], line 8\u001b[0m, in \u001b[0;36mLSTMModel.forward\u001b[0;34m(self, x)\u001b[0m\n\u001b[1;32m      7\u001b[0m \u001b[38;5;28;01mdef\u001b[39;00m \u001b[38;5;21mforward\u001b[39m(\u001b[38;5;28mself\u001b[39m, x):\n\u001b[0;32m----> 8\u001b[0m     _, (hn, _) \u001b[38;5;241m=\u001b[39m \u001b[38;5;28;43mself\u001b[39;49m\u001b[38;5;241;43m.\u001b[39;49m\u001b[43mlstm\u001b[49m\u001b[43m(\u001b[49m\u001b[43mx\u001b[49m\u001b[43m)\u001b[49m\n\u001b[1;32m      9\u001b[0m     \u001b[38;5;28;01mreturn\u001b[39;00m \u001b[38;5;28mself\u001b[39m\u001b[38;5;241m.\u001b[39mfc(hn[\u001b[38;5;241m-\u001b[39m\u001b[38;5;241m1\u001b[39m])\n",
      "File \u001b[0;32m~/miniconda3/envs/FTL/lib/python3.10/site-packages/torch/nn/modules/module.py:1532\u001b[0m, in \u001b[0;36mModule._wrapped_call_impl\u001b[0;34m(self, *args, **kwargs)\u001b[0m\n\u001b[1;32m   1530\u001b[0m     \u001b[38;5;28;01mreturn\u001b[39;00m \u001b[38;5;28mself\u001b[39m\u001b[38;5;241m.\u001b[39m_compiled_call_impl(\u001b[38;5;241m*\u001b[39margs, \u001b[38;5;241m*\u001b[39m\u001b[38;5;241m*\u001b[39mkwargs)  \u001b[38;5;66;03m# type: ignore[misc]\u001b[39;00m\n\u001b[1;32m   1531\u001b[0m \u001b[38;5;28;01melse\u001b[39;00m:\n\u001b[0;32m-> 1532\u001b[0m     \u001b[38;5;28;01mreturn\u001b[39;00m \u001b[38;5;28;43mself\u001b[39;49m\u001b[38;5;241;43m.\u001b[39;49m\u001b[43m_call_impl\u001b[49m\u001b[43m(\u001b[49m\u001b[38;5;241;43m*\u001b[39;49m\u001b[43margs\u001b[49m\u001b[43m,\u001b[49m\u001b[43m \u001b[49m\u001b[38;5;241;43m*\u001b[39;49m\u001b[38;5;241;43m*\u001b[39;49m\u001b[43mkwargs\u001b[49m\u001b[43m)\u001b[49m\n",
      "File \u001b[0;32m~/miniconda3/envs/FTL/lib/python3.10/site-packages/torch/nn/modules/module.py:1541\u001b[0m, in \u001b[0;36mModule._call_impl\u001b[0;34m(self, *args, **kwargs)\u001b[0m\n\u001b[1;32m   1536\u001b[0m \u001b[38;5;66;03m# If we don't have any hooks, we want to skip the rest of the logic in\u001b[39;00m\n\u001b[1;32m   1537\u001b[0m \u001b[38;5;66;03m# this function, and just call forward.\u001b[39;00m\n\u001b[1;32m   1538\u001b[0m \u001b[38;5;28;01mif\u001b[39;00m \u001b[38;5;129;01mnot\u001b[39;00m (\u001b[38;5;28mself\u001b[39m\u001b[38;5;241m.\u001b[39m_backward_hooks \u001b[38;5;129;01mor\u001b[39;00m \u001b[38;5;28mself\u001b[39m\u001b[38;5;241m.\u001b[39m_backward_pre_hooks \u001b[38;5;129;01mor\u001b[39;00m \u001b[38;5;28mself\u001b[39m\u001b[38;5;241m.\u001b[39m_forward_hooks \u001b[38;5;129;01mor\u001b[39;00m \u001b[38;5;28mself\u001b[39m\u001b[38;5;241m.\u001b[39m_forward_pre_hooks\n\u001b[1;32m   1539\u001b[0m         \u001b[38;5;129;01mor\u001b[39;00m _global_backward_pre_hooks \u001b[38;5;129;01mor\u001b[39;00m _global_backward_hooks\n\u001b[1;32m   1540\u001b[0m         \u001b[38;5;129;01mor\u001b[39;00m _global_forward_hooks \u001b[38;5;129;01mor\u001b[39;00m _global_forward_pre_hooks):\n\u001b[0;32m-> 1541\u001b[0m     \u001b[38;5;28;01mreturn\u001b[39;00m \u001b[43mforward_call\u001b[49m\u001b[43m(\u001b[49m\u001b[38;5;241;43m*\u001b[39;49m\u001b[43margs\u001b[49m\u001b[43m,\u001b[49m\u001b[43m \u001b[49m\u001b[38;5;241;43m*\u001b[39;49m\u001b[38;5;241;43m*\u001b[39;49m\u001b[43mkwargs\u001b[49m\u001b[43m)\u001b[49m\n\u001b[1;32m   1543\u001b[0m \u001b[38;5;28;01mtry\u001b[39;00m:\n\u001b[1;32m   1544\u001b[0m     result \u001b[38;5;241m=\u001b[39m \u001b[38;5;28;01mNone\u001b[39;00m\n",
      "File \u001b[0;32m~/miniconda3/envs/FTL/lib/python3.10/site-packages/torch/nn/modules/rnn.py:892\u001b[0m, in \u001b[0;36mLSTM.forward\u001b[0;34m(self, input, hx)\u001b[0m\n\u001b[1;32m    888\u001b[0m     c_zeros \u001b[38;5;241m=\u001b[39m torch\u001b[38;5;241m.\u001b[39mzeros(\u001b[38;5;28mself\u001b[39m\u001b[38;5;241m.\u001b[39mnum_layers \u001b[38;5;241m*\u001b[39m num_directions,\n\u001b[1;32m    889\u001b[0m                           max_batch_size, \u001b[38;5;28mself\u001b[39m\u001b[38;5;241m.\u001b[39mhidden_size,\n\u001b[1;32m    890\u001b[0m                           dtype\u001b[38;5;241m=\u001b[39m\u001b[38;5;28minput\u001b[39m\u001b[38;5;241m.\u001b[39mdtype, device\u001b[38;5;241m=\u001b[39m\u001b[38;5;28minput\u001b[39m\u001b[38;5;241m.\u001b[39mdevice)\n\u001b[1;32m    891\u001b[0m     hx \u001b[38;5;241m=\u001b[39m (h_zeros, c_zeros)\n\u001b[0;32m--> 892\u001b[0m     \u001b[38;5;28;43mself\u001b[39;49m\u001b[38;5;241;43m.\u001b[39;49m\u001b[43mcheck_forward_args\u001b[49m\u001b[43m(\u001b[49m\u001b[38;5;28;43minput\u001b[39;49m\u001b[43m,\u001b[49m\u001b[43m \u001b[49m\u001b[43mhx\u001b[49m\u001b[43m,\u001b[49m\u001b[43m \u001b[49m\u001b[43mbatch_sizes\u001b[49m\u001b[43m)\u001b[49m\n\u001b[1;32m    893\u001b[0m \u001b[38;5;28;01melse\u001b[39;00m:\n\u001b[1;32m    894\u001b[0m     \u001b[38;5;28;01mif\u001b[39;00m is_batched:\n",
      "File \u001b[0;32m~/miniconda3/envs/FTL/lib/python3.10/site-packages/torch/nn/modules/rnn.py:821\u001b[0m, in \u001b[0;36mLSTM.check_forward_args\u001b[0;34m(self, input, hidden, batch_sizes)\u001b[0m\n\u001b[1;32m    816\u001b[0m \u001b[38;5;28;01mdef\u001b[39;00m \u001b[38;5;21mcheck_forward_args\u001b[39m(\u001b[38;5;28mself\u001b[39m,  \u001b[38;5;66;03m# type: ignore[override]\u001b[39;00m\n\u001b[1;32m    817\u001b[0m                        \u001b[38;5;28minput\u001b[39m: Tensor,\n\u001b[1;32m    818\u001b[0m                        hidden: Tuple[Tensor, Tensor],\n\u001b[1;32m    819\u001b[0m                        batch_sizes: Optional[Tensor],\n\u001b[1;32m    820\u001b[0m                        ):\n\u001b[0;32m--> 821\u001b[0m     \u001b[38;5;28;43mself\u001b[39;49m\u001b[38;5;241;43m.\u001b[39;49m\u001b[43mcheck_input\u001b[49m\u001b[43m(\u001b[49m\u001b[38;5;28;43minput\u001b[39;49m\u001b[43m,\u001b[49m\u001b[43m \u001b[49m\u001b[43mbatch_sizes\u001b[49m\u001b[43m)\u001b[49m\n\u001b[1;32m    822\u001b[0m     \u001b[38;5;28mself\u001b[39m\u001b[38;5;241m.\u001b[39mcheck_hidden_size(hidden[\u001b[38;5;241m0\u001b[39m], \u001b[38;5;28mself\u001b[39m\u001b[38;5;241m.\u001b[39mget_expected_hidden_size(\u001b[38;5;28minput\u001b[39m, batch_sizes),\n\u001b[1;32m    823\u001b[0m                            \u001b[38;5;124m'\u001b[39m\u001b[38;5;124mExpected hidden[0] size \u001b[39m\u001b[38;5;132;01m{}\u001b[39;00m\u001b[38;5;124m, got \u001b[39m\u001b[38;5;132;01m{}\u001b[39;00m\u001b[38;5;124m'\u001b[39m)\n\u001b[1;32m    824\u001b[0m     \u001b[38;5;28mself\u001b[39m\u001b[38;5;241m.\u001b[39mcheck_hidden_size(hidden[\u001b[38;5;241m1\u001b[39m], \u001b[38;5;28mself\u001b[39m\u001b[38;5;241m.\u001b[39mget_expected_cell_size(\u001b[38;5;28minput\u001b[39m, batch_sizes),\n\u001b[1;32m    825\u001b[0m                            \u001b[38;5;124m'\u001b[39m\u001b[38;5;124mExpected hidden[1] size \u001b[39m\u001b[38;5;132;01m{}\u001b[39;00m\u001b[38;5;124m, got \u001b[39m\u001b[38;5;132;01m{}\u001b[39;00m\u001b[38;5;124m'\u001b[39m)\n",
      "File \u001b[0;32m~/miniconda3/envs/FTL/lib/python3.10/site-packages/torch/nn/modules/rnn.py:240\u001b[0m, in \u001b[0;36mRNNBase.check_input\u001b[0;34m(self, input, batch_sizes)\u001b[0m\n\u001b[1;32m    237\u001b[0m     \u001b[38;5;28;01mraise\u001b[39;00m \u001b[38;5;167;01mRuntimeError\u001b[39;00m(\n\u001b[1;32m    238\u001b[0m         \u001b[38;5;124mf\u001b[39m\u001b[38;5;124m'\u001b[39m\u001b[38;5;124minput must have \u001b[39m\u001b[38;5;132;01m{\u001b[39;00mexpected_input_dim\u001b[38;5;132;01m}\u001b[39;00m\u001b[38;5;124m dimensions, got \u001b[39m\u001b[38;5;132;01m{\u001b[39;00m\u001b[38;5;28minput\u001b[39m\u001b[38;5;241m.\u001b[39mdim()\u001b[38;5;132;01m}\u001b[39;00m\u001b[38;5;124m'\u001b[39m)\n\u001b[1;32m    239\u001b[0m \u001b[38;5;28;01mif\u001b[39;00m \u001b[38;5;28mself\u001b[39m\u001b[38;5;241m.\u001b[39minput_size \u001b[38;5;241m!=\u001b[39m \u001b[38;5;28minput\u001b[39m\u001b[38;5;241m.\u001b[39msize(\u001b[38;5;241m-\u001b[39m\u001b[38;5;241m1\u001b[39m):\n\u001b[0;32m--> 240\u001b[0m     \u001b[38;5;28;01mraise\u001b[39;00m \u001b[38;5;167;01mRuntimeError\u001b[39;00m(\n\u001b[1;32m    241\u001b[0m         \u001b[38;5;124mf\u001b[39m\u001b[38;5;124m'\u001b[39m\u001b[38;5;124minput.size(-1) must be equal to input_size. Expected \u001b[39m\u001b[38;5;132;01m{\u001b[39;00m\u001b[38;5;28mself\u001b[39m\u001b[38;5;241m.\u001b[39minput_size\u001b[38;5;132;01m}\u001b[39;00m\u001b[38;5;124m, got \u001b[39m\u001b[38;5;132;01m{\u001b[39;00m\u001b[38;5;28minput\u001b[39m\u001b[38;5;241m.\u001b[39msize(\u001b[38;5;241m-\u001b[39m\u001b[38;5;241m1\u001b[39m)\u001b[38;5;132;01m}\u001b[39;00m\u001b[38;5;124m'\u001b[39m)\n",
      "\u001b[0;31mRuntimeError\u001b[0m: input.size(-1) must be equal to input_size. Expected 99, got 100"
     ]
    }
   ],
   "source": [
    "class LSTMModel(nn.Module):\n",
    "    def __init__(self, input_dim, hidden_dim, output_dim):\n",
    "        super(LSTMModel, self).__init__()\n",
    "        self.lstm = nn.LSTM(input_dim, hidden_dim, batch_first=True)\n",
    "        self.fc = nn.Linear(hidden_dim, output_dim)\n",
    "    \n",
    "    def forward(self, x):\n",
    "        _, (hn, _) = self.lstm(x)\n",
    "        return self.fc(hn[-1])\n",
    "\n",
    "# Train the model\n",
    "def train_lstm(train_loader, test_loader, input_dim, hidden_dim=50, output_dim=1, epochs=10, lr=0.001):\n",
    "    model = LSTMModel(input_dim, hidden_dim, output_dim)\n",
    "    criterion = nn.BCEWithLogitsLoss()\n",
    "    optimizer = torch.optim.Adam(model.parameters(), lr=lr)\n",
    "    \n",
    "    # Train model\n",
    "    model.train()\n",
    "    for epoch in range(epochs):\n",
    "        for inputs, labels in train_loader:\n",
    "            optimizer.zero_grad()\n",
    "            outputs = model(inputs)\n",
    "            loss = criterion(outputs.squeeze(), labels)\n",
    "            loss.backward()\n",
    "            optimizer.step()\n",
    "    \n",
    "    # Evaluate model\n",
    "    model.eval()\n",
    "    y_true = []\n",
    "    y_pred = []\n",
    "    with torch.no_grad():\n",
    "        for inputs, labels in test_loader:\n",
    "            outputs = model(inputs).squeeze()\n",
    "            preds = torch.sigmoid(outputs) > 0.5\n",
    "            y_true.extend(labels.numpy())\n",
    "            y_pred.extend(preds.numpy())\n",
    "    \n",
    "    accuracy = accuracy_score(y_true, y_pred)\n",
    "    return accuracy\n",
    "\n",
    "# Feature Ablation: Evaluate the impact of each feature\n",
    "def feature_ablation(train_loader, test_loader, num_features):\n",
    "    accuracies = []\n",
    "    for i in range(num_features):\n",
    "        # Create subset of features\n",
    "        train_loader_subset = [(inputs[:, :i+1], labels) for inputs, labels in train_loader]\n",
    "        test_loader_subset = [(inputs[:, :i+1], labels) for inputs, labels in test_loader]\n",
    "        \n",
    "        accuracy = train_lstm(train_loader_subset, test_loader_subset, input_dim=train_loader.dataset[0][0].shape[1] - 1)\n",
    "        accuracies.append(accuracy)\n",
    "        print(f\"Feature {i} accuracy: {accuracy}\")\n",
    "\n",
    "    return accuracies\n",
    "\n",
    "# Example usage\n",
    "data_path = 'data.pt'\n",
    "label_path = 'label.pt'\n",
    "batch_size = 32\n",
    "\n",
    "train_loader, test_loader = data_loading(data_path, label_path, batch_size)\n",
    "num_features = 24  # Number of features\n",
    "\n",
    "# Perform feature ablation\n",
    "accuracies = feature_ablation(train_loader, test_loader, num_features)"
   ]
  },
  {
   "cell_type": "code",
   "execution_count": 3,
   "metadata": {},
   "outputs": [],
   "source": [
    "# Define the CNN architecture\n",
    "class SimpleCNN(nn.Module):\n",
    "    def __init__(self, dropout):\n",
    "        super(SimpleCNN, self).__init__()\n",
    "        self.conv1 = nn.Conv1d(in_channels=24, out_channels=32, kernel_size=5)\n",
    "        self.bn1 = nn.BatchNorm1d(32)\n",
    "        self.conv2 = nn.Conv1d(in_channels=32, out_channels=32, kernel_size=5)\n",
    "        self.bn2 = nn.BatchNorm1d(32)\n",
    "        self.pool = nn.MaxPool1d(kernel_size=2, padding=0, stride=1)\n",
    "        # the size of the out channels x number  of nodes \n",
    "        self.fc1 = nn.Linear(32*91, 200)\n",
    "        self.fc2 = nn.Linear(200, 2)\n",
    "        self.flatten = nn.Flatten()\n",
    "        self.relu = nn.ReLU()\n",
    "        self.dropout = nn.Dropout(dropout)\n",
    "        self.sigmoid = nn.Sigmoid()\n",
    "\n",
    "    def forward(self, x):\n",
    "        x = self.relu(self.bn1(self.conv1(x)))\n",
    "        x = self.relu(self.bn2(self.conv2(x)))\n",
    "        x = self.dropout(x)\n",
    "        x = self.pool(x)\n",
    "        x = self.flatten(x)\n",
    "        x = self.relu(self.fc1(x))\n",
    "        x - self.dropout(x)\n",
    "        x = self.sigmoid(self.fc2(x))\n",
    "        return x\n"
   ]
  },
  {
   "cell_type": "code",
   "execution_count": 4,
   "metadata": {},
   "outputs": [],
   "source": [
    "def correct(logits, y):\n",
    "    y_hat = logits.argmax(axis=1) # Finds the column with the highest value for each row of `logits`.\n",
    "    return (y_hat == y).float().sum() # Computes the number of times that `y_hat` and `y` match."
   ]
  },
  {
   "cell_type": "code",
   "execution_count": 5,
   "metadata": {},
   "outputs": [],
   "source": [
    "def evaluate_metric(model, data_iter, metric):\n",
    "    \"\"\"Compute the average `metric` of the model on a dataset.\"\"\"\n",
    "    c = torch.tensor(0.).to(device)\n",
    "    n = torch.tensor(0.).to(device)\n",
    "    for X, y in data_iter:\n",
    "        X, y = X.to(device), y.to(device) # Moves data to `device`\n",
    "        logits = model(X)\n",
    "        c += metric(logits, y)\n",
    "        n += len(y)\n",
    "    return c*100 / n"
   ]
  },
  {
   "cell_type": "markdown",
   "metadata": {},
   "source": [
    "## Training"
   ]
  },
  {
   "cell_type": "code",
   "execution_count": 6,
   "metadata": {},
   "outputs": [
    {
     "name": "stderr",
     "output_type": "stream",
     "text": [
      "\u001b[34m\u001b[1mwandb\u001b[0m: Currently logged in as: \u001b[33md-hadjikazemi\u001b[0m (\u001b[33md-hadjikazemi-queen-mary-university-of-london\u001b[0m). Use \u001b[1m`wandb login --relogin`\u001b[0m to force relogin\n"
     ]
    },
    {
     "data": {
      "text/html": [
       "wandb version 0.17.5 is available!  To upgrade, please run:\n",
       " $ pip install wandb --upgrade"
      ],
      "text/plain": [
       "<IPython.core.display.HTML object>"
      ]
     },
     "metadata": {},
     "output_type": "display_data"
    },
    {
     "data": {
      "text/html": [
       "Tracking run with wandb version 0.17.4"
      ],
      "text/plain": [
       "<IPython.core.display.HTML object>"
      ]
     },
     "metadata": {},
     "output_type": "display_data"
    },
    {
     "data": {
      "text/html": [
       "Run data is saved locally in <code>/home/diba/wandb/run-20240720_090055-7otbmmts</code>"
      ],
      "text/plain": [
       "<IPython.core.display.HTML object>"
      ]
     },
     "metadata": {},
     "output_type": "display_data"
    },
    {
     "data": {
      "text/html": [
       "Syncing run <strong><a href='https://wandb.ai/d-hadjikazemi-queen-mary-university-of-london/NASA_turbo_fan/runs/7otbmmts' target=\"_blank\">With batchnorm1d_3</a></strong> to <a href='https://wandb.ai/d-hadjikazemi-queen-mary-university-of-london/NASA_turbo_fan' target=\"_blank\">Weights & Biases</a> (<a href='https://wandb.me/run' target=\"_blank\">docs</a>)<br/>"
      ],
      "text/plain": [
       "<IPython.core.display.HTML object>"
      ]
     },
     "metadata": {},
     "output_type": "display_data"
    },
    {
     "data": {
      "text/html": [
       " View project at <a href='https://wandb.ai/d-hadjikazemi-queen-mary-university-of-london/NASA_turbo_fan' target=\"_blank\">https://wandb.ai/d-hadjikazemi-queen-mary-university-of-london/NASA_turbo_fan</a>"
      ],
      "text/plain": [
       "<IPython.core.display.HTML object>"
      ]
     },
     "metadata": {},
     "output_type": "display_data"
    },
    {
     "data": {
      "text/html": [
       " View run at <a href='https://wandb.ai/d-hadjikazemi-queen-mary-university-of-london/NASA_turbo_fan/runs/7otbmmts' target=\"_blank\">https://wandb.ai/d-hadjikazemi-queen-mary-university-of-london/NASA_turbo_fan/runs/7otbmmts</a>"
      ],
      "text/plain": [
       "<IPython.core.display.HTML object>"
      ]
     },
     "metadata": {},
     "output_type": "display_data"
    },
    {
     "name": "stdout",
     "output_type": "stream",
     "text": [
      "(326, 24, 100)\n",
      "\n",
      "Epoch 1/100.\n",
      "Training accuracy: 48.846153259277344. Testing accuracy: 54.54545593261719. Duration: 0.449s.\n",
      "\n",
      "Epoch 2/100.\n",
      "Training accuracy: 51.153846740722656. Testing accuracy: 45.45454406738281. Duration: 0.024s.\n",
      "\n",
      "Epoch 3/100.\n",
      "Training accuracy: 51.153846740722656. Testing accuracy: 45.45454406738281. Duration: 0.026s.\n",
      "\n",
      "Epoch 4/100.\n",
      "Training accuracy: 58.46154022216797. Testing accuracy: 53.030303955078125. Duration: 0.041s.\n",
      "\n",
      "Epoch 5/100.\n",
      "Training accuracy: 48.846153259277344. Testing accuracy: 54.54545593261719. Duration: 0.040s.\n",
      "\n",
      "Epoch 6/100.\n",
      "Training accuracy: 48.846153259277344. Testing accuracy: 54.54545593261719. Duration: 0.036s.\n",
      "\n",
      "Epoch 7/100.\n",
      "Training accuracy: 48.846153259277344. Testing accuracy: 54.54545593261719. Duration: 0.028s.\n",
      "\n",
      "Epoch 8/100.\n",
      "Training accuracy: 48.846153259277344. Testing accuracy: 54.54545593261719. Duration: 0.024s.\n",
      "\n",
      "Epoch 9/100.\n",
      "Training accuracy: 49.230770111083984. Testing accuracy: 54.54545593261719. Duration: 0.018s.\n",
      "\n",
      "Epoch 10/100.\n",
      "Training accuracy: 55.38461685180664. Testing accuracy: 51.51515197753906. Duration: 0.047s.\n",
      "\n",
      "Epoch 11/100.\n",
      "Training accuracy: 81.15384674072266. Testing accuracy: 59.09090805053711. Duration: 0.032s.\n",
      "\n",
      "Epoch 12/100.\n",
      "Training accuracy: 80.76923370361328. Testing accuracy: 51.51515197753906. Duration: 0.050s.\n",
      "\n",
      "Epoch 13/100.\n",
      "Training accuracy: 84.61538696289062. Testing accuracy: 63.6363639831543. Duration: 0.046s.\n",
      "\n",
      "Epoch 14/100.\n",
      "Training accuracy: 69.61538696289062. Testing accuracy: 45.45454406738281. Duration: 0.052s.\n",
      "\n",
      "Epoch 15/100.\n",
      "Training accuracy: 73.84615325927734. Testing accuracy: 48.48484802246094. Duration: 0.042s.\n",
      "\n",
      "Epoch 16/100.\n",
      "Training accuracy: 87.30769348144531. Testing accuracy: 59.09090805053711. Duration: 0.041s.\n",
      "\n",
      "Epoch 17/100.\n",
      "Training accuracy: 84.23076629638672. Testing accuracy: 56.06060791015625. Duration: 0.058s.\n",
      "\n",
      "Epoch 18/100.\n",
      "Training accuracy: 81.92308044433594. Testing accuracy: 54.54545593261719. Duration: 0.047s.\n",
      "\n",
      "Epoch 19/100.\n",
      "Training accuracy: 81.15384674072266. Testing accuracy: 54.54545593261719. Duration: 0.032s.\n",
      "\n",
      "Epoch 20/100.\n",
      "Training accuracy: 90.0. Testing accuracy: 59.09090805053711. Duration: 0.051s.\n",
      "\n",
      "Epoch 21/100.\n",
      "Training accuracy: 82.30769348144531. Testing accuracy: 59.09090805053711. Duration: 0.049s.\n",
      "\n",
      "Epoch 22/100.\n",
      "Training accuracy: 91.15384674072266. Testing accuracy: 60.60606002807617. Duration: 0.029s.\n",
      "\n",
      "Epoch 23/100.\n",
      "Training accuracy: 91.92308044433594. Testing accuracy: 57.57575607299805. Duration: 0.024s.\n",
      "\n",
      "Epoch 24/100.\n",
      "Training accuracy: 90.76923370361328. Testing accuracy: 56.06060791015625. Duration: 0.030s.\n",
      "\n",
      "Epoch 25/100.\n",
      "Training accuracy: 87.69230651855469. Testing accuracy: 59.09090805053711. Duration: 0.025s.\n",
      "\n",
      "Epoch 26/100.\n",
      "Training accuracy: 92.30769348144531. Testing accuracy: 57.57575607299805. Duration: 0.028s.\n",
      "\n",
      "Epoch 27/100.\n",
      "Training accuracy: 83.46154022216797. Testing accuracy: 57.57575607299805. Duration: 0.053s.\n",
      "\n",
      "Epoch 28/100.\n",
      "Training accuracy: 87.30769348144531. Testing accuracy: 56.06060791015625. Duration: 0.046s.\n",
      "\n",
      "Epoch 29/100.\n",
      "Training accuracy: 83.07691955566406. Testing accuracy: 54.54545593261719. Duration: 0.037s.\n",
      "\n",
      "Epoch 30/100.\n",
      "Training accuracy: 73.07691955566406. Testing accuracy: 43.93939208984375. Duration: 0.025s.\n",
      "\n",
      "Epoch 31/100.\n",
      "Training accuracy: 91.53845977783203. Testing accuracy: 62.121212005615234. Duration: 0.026s.\n",
      "\n",
      "Epoch 32/100.\n",
      "Training accuracy: 93.46154022216797. Testing accuracy: 60.60606002807617. Duration: 0.033s.\n",
      "\n",
      "Epoch 33/100.\n",
      "Training accuracy: 94.23076629638672. Testing accuracy: 60.60606002807617. Duration: 0.025s.\n",
      "\n",
      "Epoch 34/100.\n",
      "Training accuracy: 93.46154022216797. Testing accuracy: 56.06060791015625. Duration: 0.024s.\n",
      "\n",
      "Epoch 35/100.\n",
      "Training accuracy: 93.46154022216797. Testing accuracy: 60.60606002807617. Duration: 0.020s.\n",
      "\n",
      "Epoch 36/100.\n",
      "Training accuracy: 93.46154022216797. Testing accuracy: 59.09090805053711. Duration: 0.048s.\n",
      "\n",
      "Epoch 37/100.\n",
      "Training accuracy: 93.46154022216797. Testing accuracy: 60.60606002807617. Duration: 0.039s.\n",
      "\n",
      "Epoch 38/100.\n",
      "Training accuracy: 93.84615325927734. Testing accuracy: 60.60606002807617. Duration: 0.020s.\n",
      "\n",
      "Epoch 39/100.\n",
      "Training accuracy: 93.84615325927734. Testing accuracy: 56.06060791015625. Duration: 0.036s.\n",
      "\n",
      "Epoch 40/100.\n",
      "Training accuracy: 94.61538696289062. Testing accuracy: 59.09090805053711. Duration: 0.027s.\n",
      "\n",
      "Epoch 41/100.\n",
      "Training accuracy: 95.76923370361328. Testing accuracy: 57.57575607299805. Duration: 0.024s.\n",
      "\n",
      "Epoch 42/100.\n",
      "Training accuracy: 95.38461303710938. Testing accuracy: 60.60606002807617. Duration: 0.024s.\n",
      "\n",
      "Epoch 43/100.\n",
      "Training accuracy: 95.76923370361328. Testing accuracy: 60.60606002807617. Duration: 0.034s.\n",
      "\n",
      "Epoch 44/100.\n",
      "Training accuracy: 95.38461303710938. Testing accuracy: 60.60606002807617. Duration: 0.043s.\n",
      "\n",
      "Epoch 45/100.\n",
      "Training accuracy: 95.0. Testing accuracy: 60.60606002807617. Duration: 0.032s.\n",
      "\n",
      "Epoch 46/100.\n",
      "Training accuracy: 96.92308044433594. Testing accuracy: 56.06060791015625. Duration: 0.026s.\n",
      "\n",
      "Epoch 47/100.\n",
      "Training accuracy: 96.92308044433594. Testing accuracy: 59.09090805053711. Duration: 0.043s.\n",
      "\n",
      "Epoch 48/100.\n",
      "Training accuracy: 96.15384674072266. Testing accuracy: 56.06060791015625. Duration: 0.032s.\n",
      "\n",
      "Epoch 49/100.\n",
      "Training accuracy: 97.30769348144531. Testing accuracy: 57.57575607299805. Duration: 0.029s.\n",
      "\n",
      "Epoch 50/100.\n",
      "Training accuracy: 97.30769348144531. Testing accuracy: 57.57575607299805. Duration: 0.019s.\n",
      "\n",
      "Epoch 51/100.\n",
      "Training accuracy: 97.69230651855469. Testing accuracy: 59.09090805053711. Duration: 0.026s.\n",
      "\n",
      "Epoch 52/100.\n",
      "Training accuracy: 97.69230651855469. Testing accuracy: 59.09090805053711. Duration: 0.042s.\n",
      "\n",
      "Epoch 53/100.\n",
      "Training accuracy: 96.92308044433594. Testing accuracy: 54.54545593261719. Duration: 0.051s.\n",
      "\n",
      "Epoch 54/100.\n",
      "Training accuracy: 96.53845977783203. Testing accuracy: 57.57575607299805. Duration: 0.021s.\n",
      "\n",
      "Epoch 55/100.\n",
      "Training accuracy: 98.07691955566406. Testing accuracy: 53.030303955078125. Duration: 0.021s.\n",
      "\n",
      "Epoch 56/100.\n",
      "Training accuracy: 98.46154022216797. Testing accuracy: 56.06060791015625. Duration: 0.020s.\n",
      "\n",
      "Epoch 57/100.\n",
      "Training accuracy: 98.46154022216797. Testing accuracy: 54.54545593261719. Duration: 0.027s.\n",
      "\n",
      "Epoch 58/100.\n",
      "Training accuracy: 97.30769348144531. Testing accuracy: 57.57575607299805. Duration: 0.039s.\n",
      "\n",
      "Epoch 59/100.\n",
      "Training accuracy: 97.30769348144531. Testing accuracy: 56.06060791015625. Duration: 0.048s.\n",
      "\n",
      "Epoch 60/100.\n",
      "Training accuracy: 98.84615325927734. Testing accuracy: 50.0. Duration: 0.024s.\n",
      "\n",
      "Epoch 61/100.\n",
      "Training accuracy: 98.84615325927734. Testing accuracy: 51.51515197753906. Duration: 0.044s.\n",
      "\n",
      "Epoch 62/100.\n",
      "Training accuracy: 98.84615325927734. Testing accuracy: 54.54545593261719. Duration: 0.048s.\n",
      "\n",
      "Epoch 63/100.\n",
      "Training accuracy: 98.84615325927734. Testing accuracy: 56.06060791015625. Duration: 0.049s.\n",
      "\n",
      "Epoch 64/100.\n",
      "Training accuracy: 98.84615325927734. Testing accuracy: 57.57575607299805. Duration: 0.044s.\n",
      "\n",
      "Epoch 65/100.\n",
      "Training accuracy: 98.07691955566406. Testing accuracy: 56.06060791015625. Duration: 0.027s.\n",
      "\n",
      "Epoch 66/100.\n",
      "Training accuracy: 98.07691955566406. Testing accuracy: 54.54545593261719. Duration: 0.025s.\n",
      "\n",
      "Epoch 67/100.\n",
      "Training accuracy: 98.46154022216797. Testing accuracy: 54.54545593261719. Duration: 0.058s.\n",
      "\n",
      "Epoch 68/100.\n",
      "Training accuracy: 98.46154022216797. Testing accuracy: 54.54545593261719. Duration: 0.041s.\n",
      "\n",
      "Epoch 69/100.\n",
      "Training accuracy: 98.46154022216797. Testing accuracy: 54.54545593261719. Duration: 0.042s.\n",
      "\n",
      "Epoch 70/100.\n",
      "Training accuracy: 98.84615325927734. Testing accuracy: 54.54545593261719. Duration: 0.049s.\n",
      "\n",
      "Epoch 71/100.\n",
      "Training accuracy: 98.07691955566406. Testing accuracy: 59.09090805053711. Duration: 0.017s.\n",
      "\n",
      "Epoch 72/100.\n",
      "Training accuracy: 97.30769348144531. Testing accuracy: 59.09090805053711. Duration: 0.024s.\n",
      "\n",
      "Epoch 73/100.\n",
      "Training accuracy: 98.84615325927734. Testing accuracy: 54.54545593261719. Duration: 0.025s.\n",
      "\n",
      "Epoch 74/100.\n",
      "Training accuracy: 98.84615325927734. Testing accuracy: 53.030303955078125. Duration: 0.039s.\n",
      "\n",
      "Epoch 75/100.\n",
      "Training accuracy: 98.84615325927734. Testing accuracy: 57.57575607299805. Duration: 0.012s.\n",
      "\n",
      "Epoch 76/100.\n",
      "Training accuracy: 97.30769348144531. Testing accuracy: 60.60606002807617. Duration: 0.019s.\n",
      "\n",
      "Epoch 77/100.\n",
      "Training accuracy: 98.07691955566406. Testing accuracy: 60.60606002807617. Duration: 0.020s.\n",
      "\n",
      "Epoch 78/100.\n",
      "Training accuracy: 98.84615325927734. Testing accuracy: 53.030303955078125. Duration: 0.014s.\n",
      "\n",
      "Epoch 79/100.\n",
      "Training accuracy: 98.84615325927734. Testing accuracy: 56.06060791015625. Duration: 0.009s.\n",
      "\n",
      "Epoch 80/100.\n",
      "Training accuracy: 98.84615325927734. Testing accuracy: 54.54545593261719. Duration: 0.009s.\n",
      "\n",
      "Epoch 81/100.\n",
      "Training accuracy: 98.84615325927734. Testing accuracy: 57.57575607299805. Duration: 0.009s.\n",
      "\n",
      "Epoch 82/100.\n",
      "Training accuracy: 98.84615325927734. Testing accuracy: 59.09090805053711. Duration: 0.010s.\n",
      "\n",
      "Epoch 83/100.\n",
      "Training accuracy: 98.84615325927734. Testing accuracy: 53.030303955078125. Duration: 0.011s.\n",
      "\n",
      "Epoch 84/100.\n",
      "Training accuracy: 98.84615325927734. Testing accuracy: 54.54545593261719. Duration: 0.012s.\n",
      "\n",
      "Epoch 85/100.\n",
      "Training accuracy: 99.61538696289062. Testing accuracy: 57.57575607299805. Duration: 0.011s.\n",
      "\n",
      "Epoch 86/100.\n",
      "Training accuracy: 99.61538696289062. Testing accuracy: 56.06060791015625. Duration: 0.012s.\n",
      "\n",
      "Epoch 87/100.\n",
      "Training accuracy: 99.61538696289062. Testing accuracy: 56.06060791015625. Duration: 0.011s.\n",
      "\n",
      "Epoch 88/100.\n",
      "Training accuracy: 99.61538696289062. Testing accuracy: 54.54545593261719. Duration: 0.012s.\n",
      "\n",
      "Epoch 89/100.\n",
      "Training accuracy: 99.61538696289062. Testing accuracy: 56.06060791015625. Duration: 0.012s.\n",
      "\n",
      "Epoch 90/100.\n",
      "Training accuracy: 99.61538696289062. Testing accuracy: 60.60606002807617. Duration: 0.012s.\n",
      "\n",
      "Epoch 91/100.\n",
      "Training accuracy: 99.61538696289062. Testing accuracy: 60.60606002807617. Duration: 0.011s.\n",
      "\n",
      "Epoch 92/100.\n",
      "Training accuracy: 99.61538696289062. Testing accuracy: 56.06060791015625. Duration: 0.009s.\n",
      "\n",
      "Epoch 93/100.\n",
      "Training accuracy: 99.23076629638672. Testing accuracy: 54.54545593261719. Duration: 0.010s.\n",
      "\n",
      "Epoch 94/100.\n",
      "Training accuracy: 99.61538696289062. Testing accuracy: 57.57575607299805. Duration: 0.010s.\n",
      "\n",
      "Epoch 95/100.\n",
      "Training accuracy: 99.61538696289062. Testing accuracy: 62.121212005615234. Duration: 0.010s.\n",
      "\n",
      "Epoch 96/100.\n",
      "Training accuracy: 99.61538696289062. Testing accuracy: 62.121212005615234. Duration: 0.010s.\n",
      "\n",
      "Epoch 97/100.\n",
      "Training accuracy: 99.61538696289062. Testing accuracy: 57.57575607299805. Duration: 0.010s.\n",
      "\n",
      "Epoch 98/100.\n",
      "Training accuracy: 99.61538696289062. Testing accuracy: 56.06060791015625. Duration: 0.015s.\n",
      "\n",
      "Epoch 99/100.\n",
      "Training accuracy: 99.61538696289062. Testing accuracy: 57.57575607299805. Duration: 0.019s.\n",
      "\n",
      "Epoch 100/100.\n",
      "Training accuracy: 99.61538696289062. Testing accuracy: 57.57575607299805. Duration: 0.037s.\n"
     ]
    },
    {
     "data": {
      "image/png": "[encoded data removed]",
      "text/plain": [
       "<Figure size 640x480 with 1 Axes>"
      ]
     },
     "metadata": {},
     "output_type": "display_data"
    },
    {
     "data": {
      "image/png": "[encoded data removed]",
      "text/plain": [
       "<Figure size 640x480 with 1 Axes>"
      ]
     },
     "metadata": {},
     "output_type": "display_data"
    },
    {
     "data": {
      "application/vnd.jupyter.widget-view+json": {
       "model_id": "c7ec3c0a151b4cc2a3adcdc81b75a09f",
       "version_major": 2,
       "version_minor": 0
      },
      "text/plain": [
       "VBox(children=(Label(value='0.025 MB of 0.025 MB uploaded\\r'), FloatProgress(value=1.0, max=1.0)))"
      ]
     },
     "metadata": {},
     "output_type": "display_data"
    },
    {
     "data": {
      "text/html": [
       "<style>\n",
       "    table.wandb td:nth-child(1) { padding: 0 10px; text-align: left ; width: auto;} td:nth-child(2) {text-align: left ; width: 100%}\n",
       "    .wandb-row { display: flex; flex-direction: row; flex-wrap: wrap; justify-content: flex-start; width: 100% }\n",
       "    .wandb-col { display: flex; flex-direction: column; flex-basis: 100%; flex: 1; padding: 10px; }\n",
       "    </style>\n",
       "<div class=\"wandb-row\"><div class=\"wandb-col\"><h3>Run history:</h3><br/><table class=\"wandb\"><tr><td>test_acc</td><td>▅▁▅▅▆█▆▅▆▆▆▅▇▅▆▅▆▇▅▆▆▆▅▅▃▆▅▅▆▄▇▅▆▅▅▅▅▆▆▆</td></tr><tr><td>train_acc</td><td>▁▁▁▁▅▆▆▆▆▇▇▆▇▇▇▇▇▇██████████████████████</td></tr><tr><td>train_loss</td><td>▆▆▅▅▅▄▅▄▅▃▅█▂▃▃▄▃▂▂▃▂▅▂▄▁▂▂▃▁▄▁▂▄▂▄▂▁▁▂▂</td></tr></table><br/></div><div class=\"wandb-col\"><h3>Run summary:</h3><br/><table class=\"wandb\"><tr><td>test_acc</td><td>57.57576</td></tr><tr><td>train_acc</td><td>99.61539</td></tr><tr><td>train_loss</td><td>0.38204</td></tr></table><br/></div></div>"
      ],
      "text/plain": [
       "<IPython.core.display.HTML object>"
      ]
     },
     "metadata": {},
     "output_type": "display_data"
    },
    {
     "data": {
      "text/html": [
       " View run <strong style=\"color:#cdcd00\">With batchnorm1d_3</strong> at: <a href='https://wandb.ai/d-hadjikazemi-queen-mary-university-of-london/NASA_turbo_fan/runs/7otbmmts' target=\"_blank\">https://wandb.ai/d-hadjikazemi-queen-mary-university-of-london/NASA_turbo_fan/runs/7otbmmts</a><br/> View project at: <a href='https://wandb.ai/d-hadjikazemi-queen-mary-university-of-london/NASA_turbo_fan' target=\"_blank\">https://wandb.ai/d-hadjikazemi-queen-mary-university-of-london/NASA_turbo_fan</a><br/>Synced 6 W&B file(s), 0 media file(s), 0 artifact file(s) and 0 other file(s)"
      ],
      "text/plain": [
       "<IPython.core.display.HTML object>"
      ]
     },
     "metadata": {},
     "output_type": "display_data"
    },
    {
     "data": {
      "text/html": [
       "Find logs at: <code>./wandb/run-20240720_090055-7otbmmts/logs</code>"
      ],
      "text/plain": [
       "<IPython.core.display.HTML object>"
      ]
     },
     "metadata": {},
     "output_type": "display_data"
    },
    {
     "data": {
      "text/html": [
       "The new W&B backend becomes opt-out in version 0.18.0; try it out with `wandb.require(\"core\")`! See https://wandb.me/wandb-core for more information."
      ],
      "text/plain": [
       "<IPython.core.display.HTML object>"
      ]
     },
     "metadata": {},
     "output_type": "display_data"
    }
   ],
   "source": [
    "wandb.init(\n",
    "    # set the wandb project where this run will be logged\n",
    "    project=\"NASA_turbo_fan\",\n",
    "    name= \"feature selection\",\n",
    "    # track hyperparameters and run metadata\n",
    "    config={\n",
    "    \"learning_rate\": 0.0001,\n",
    "    \"architecture\": \"CNN\",\n",
    "    \"epochs\": 100,\n",
    "    \"loss\": nn.BCELoss(),\n",
    "    \"batch_size\": 64,\n",
    "    \"decay\":1e-5,\n",
    "    'dropout': 0.6\n",
    "    }\n",
    ")\n",
    "config = wandb.config\n",
    "\n",
    "train_loader, test_loader = data_loading(data_path='data.pt', label_path='label.pt',batch_size= config.batch_size)\n",
    "\n",
    "losses = [] # Stores the loss for each training batch\n",
    "train_accs = [] # Stores the training accuracy after each epoch\n",
    "test_accs = [] # Stores the testing accuracy after each epoch\n",
    "\n",
    "# Create an instance of the CNN\n",
    "model = SimpleCNN(dropout=config.dropout)\n",
    "\n",
    "# Loss and optimizer\n",
    "loss = nn.CrossEntropyLoss()\n",
    "optimizer = torch.optim.Adam(model.parameters(), lr=config.learning_rate, weight_decay=config.decay)\n",
    "\n",
    "model.to(device)\n",
    "\n",
    "num_epochs = 100\n",
    "for epoch in range(config.epochs):\n",
    "    print(f'\\nEpoch {epoch + 1}/{num_epochs}.')\n",
    "    start_time = time.perf_counter()\n",
    "\n",
    "    model.train() # This is necessary because batch normalization behaves differently between training and evaluation\n",
    "\n",
    "    for X, y in train_loader:\n",
    "        X, y = X.to(device), y.to(device) # Moves data to `device`\n",
    "        logits = model(X) # Computes the logits for the batch of images `X`\n",
    "        l = loss(logits, y) # Computes the loss given the `logits` and the class vector `y`\n",
    "        optimizer.zero_grad() # Zeroes the gradients stored in the model parameters\n",
    "        l.backward() # Computes the gradient of the loss `l` with respect to the model parameters\n",
    "\n",
    "        optimizer.step() # Updates the model parameters based on the gradients stored inside them\n",
    "\n",
    "        train_loss = float(l)\n",
    "        losses.append(train_loss) # Stores the loss for this batch\n",
    "\n",
    "    model.eval() # This is necessary because batch normalization behaves differently between training and evaluation\n",
    "    train_acc = evaluate_metric(model, train_loader, correct)\n",
    "    train_accs.append(train_acc)\n",
    "    test_acc = evaluate_metric(model, test_loader, correct)\n",
    "    test_accs.append(test_acc)\n",
    "    metrics = {\"train_loss\": train_loss,\n",
    "               \"train_acc\": train_acc,\n",
    "               \"test_acc\": test_acc}\n",
    "    wandb.log(metrics)\n",
    "\n",
    "    end_time = time.perf_counter()\n",
    "\n",
    "    print(f'Training accuracy: {train_accs[-1]}. Testing accuracy: {test_accs[-1]}. Duration: {end_time - start_time:.3f}s.') # Computes and displays training/testing dataset accuracy.\n",
    "\n",
    "plt.plot(losses) # Plots the loss for each training batch\n",
    "plt.xlabel('Training batch')\n",
    "plt.ylabel('Cross entropy loss')\n",
    "plt.show()\n",
    "\n",
    "plt.plot(list(map(lambda x: x.cpu(),train_accs)), label='Training accuracy')\n",
    "plt.plot(list(map(lambda x: x.cpu(),test_accs)), label='Testing accuracy')\n",
    "plt.legend(loc='best')\n",
    "plt.xlabel('Epoch')\n",
    "plt.show()\n",
    "wandb.finish()"
   ]
  },
  {
   "cell_type": "code",
   "execution_count": 7,
   "metadata": {},
   "outputs": [
    {
     "name": "stdout",
     "output_type": "stream",
     "text": [
      "max test accuracy 63.6363639831543\n"
     ]
    }
   ],
   "source": [
    "print('max test accuracy {}'.format(max(test_accs)))"
   ]
  }
 ],
 "metadata": {
  "kernelspec": {
   "display_name": "Python 3 (ipykernel)",
   "language": "python",
   "name": "python3"
  },
  "language_info": {
   "codemirror_mode": {
    "name": "ipython",
    "version": 3
   },
   "file_extension": ".py",
   "mimetype": "text/x-python",
   "name": "python",
   "nbconvert_exporter": "python",
   "pygments_lexer": "ipython3",
   "version": "3.10.0"
  }
 },
 "nbformat": 4,
 "nbformat_minor": 2
}
