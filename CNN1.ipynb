{
 "cells": [
  {
   "cell_type": "code",
   "execution_count": 1,
   "metadata": {},
   "outputs": [
    {
     "name": "stdout",
     "output_type": "stream",
     "text": [
      "Using cuda.\n"
     ]
    }
   ],
   "source": [
    "%matplotlib inline\n",
    "import matplotlib.pyplot as plt\n",
    "import torchvision\n",
    "from torch.utils.data import TensorDataset, random_split, DataLoader\n",
    "import torch.nn as nn\n",
    "import time\n",
    "import wandb\n",
    "from sklearn.metrics import accuracy_score\n",
    "from imblearn.over_sampling import SMOTE\n",
    "import torch\n",
    "from datetime import datetime\n",
    "from sklearn.decomposition import PCA\n",
    "from time import gmtime, strftime\n",
    "\n",
    "now = datetime.now() # current date and time\n",
    "date_time = now.strftime(\"%d-%m-%Y_%H:%M:%S\")\n",
    "device = torch.device('cuda' if torch.cuda.is_available() else 'cpu')\n",
    "print(f'Using {device}.')"
   ]
  },
  {
   "cell_type": "code",
   "execution_count": 2,
   "metadata": {},
   "outputs": [
    {
     "name": "stdout",
     "output_type": "stream",
     "text": [
      "torch.Size([848, 24, 50])\n",
      "torch.float32\n",
      "torch.float32\n",
      "tensor([[[-7.3558e-01, -8.0054e-02, -3.0530e-02,  ...,  1.9037e-04,\n",
      "           4.1084e-02,  2.7795e-03],\n",
      "         [ 3.9606e-04, -6.9186e-04,  4.1972e-02,  ...,  1.8910e-03,\n",
      "           1.0167e-04,  4.2928e-06],\n",
      "         [ 4.2156e-02,  2.0239e-03,  1.6764e-04,  ..., -2.9601e-05,\n",
      "           4.3266e-02,  2.5506e-03],\n",
      "         [ 6.3010e-05, -2.2457e-04,  4.2156e-02,  ...,  2.7900e-03,\n",
      "           8.4373e-04,  1.8398e-04]],\n",
      "\n",
      "        [[-6.6175e-01,  1.1410e-01,  1.1123e-01,  ..., -6.2278e-04,\n",
      "           4.2175e-02,  2.5151e-03],\n",
      "         [ 7.7689e-04,  2.1387e-04,  4.1976e-02,  ...,  1.8435e-03,\n",
      "           1.3220e-04, -9.8226e-05],\n",
      "         [ 4.2156e-02,  2.0239e-03,  1.6764e-04,  ...,  4.5508e-04,\n",
      "           4.2668e-02,  2.1513e-03],\n",
      "         [ 4.8032e-04, -2.2325e-04,  4.2156e-02,  ...,  1.7142e-03,\n",
      "           7.1757e-04,  5.3931e-04]],\n",
      "\n",
      "        [[-5.8702e-01,  1.4570e-01,  1.0275e-02,  ..., -5.1172e-04,\n",
      "           4.1801e-02,  2.1278e-03],\n",
      "         [ 3.0274e-04,  4.4547e-06,  4.1844e-02,  ...,  1.9439e-03,\n",
      "           1.5723e-04, -4.0535e-05],\n",
      "         [ 4.2156e-02,  2.0239e-03,  1.6764e-04,  ..., -4.1177e-04,\n",
      "           4.2333e-02,  2.1728e-03],\n",
      "         [-5.6821e-05,  2.7931e-04,  4.2156e-02,  ...,  2.8975e-03,\n",
      "           1.5812e-04, -3.9976e-04]],\n",
      "\n",
      "        ...,\n",
      "\n",
      "        [[-2.4424e-02, -5.2487e-03,  5.5132e-02,  ..., -6.9481e-03,\n",
      "           3.4910e-02, -4.5035e-03],\n",
      "         [ 4.8026e-04,  8.5437e-03,  4.5074e-02,  ...,  5.4868e-03,\n",
      "          -4.5733e-03, -5.0717e-03],\n",
      "         [ 4.4758e-02, -3.2355e-04, -1.8192e-02,  ...,  1.9188e-03,\n",
      "           5.4099e-02,  9.5725e-03],\n",
      "         [ 1.8274e-02, -1.8449e-02,  3.2165e-02,  ...,  1.8272e-02,\n",
      "          -7.2525e-02, -7.5205e-02]],\n",
      "\n",
      "        [[-9.4094e-02,  1.7191e-02, -2.9618e-02,  ...,  1.1049e-02,\n",
      "           2.2110e-02,  8.1601e-03],\n",
      "         [ 3.6616e-03, -2.8616e-03,  5.5254e-02,  ...,  7.0747e-04,\n",
      "          -5.4467e-03,  3.1526e-03],\n",
      "         [ 4.7965e-02, -2.0179e-02,  6.7883e-03,  ..., -8.9943e-03,\n",
      "           2.1889e-02,  1.9359e-03],\n",
      "         [-6.3806e-04, -4.7885e-03,  5.3420e-02,  ..., -5.3000e-02,\n",
      "          -7.0051e-02,  4.3186e-02]],\n",
      "\n",
      "        [[-4.8236e-02,  1.9339e-03, -3.7767e-02,  ...,  5.8264e-03,\n",
      "           2.0226e-02,  1.2306e-02],\n",
      "         [-1.5866e-02,  1.6517e-02,  6.0698e-02,  ...,  1.2912e-02,\n",
      "          -1.5756e-03, -2.7397e-03],\n",
      "         [ 3.2239e-02,  3.5728e-03,  2.1019e-02,  ..., -4.0426e-03,\n",
      "           1.8392e-02,  2.6190e-04],\n",
      "         [-2.0756e-03, -2.3785e-02,  7.4690e-02,  ...,  1.1984e-01,\n",
      "          -1.3969e-02, -3.1495e-02]]])\n",
      "685\n",
      "(1370, 4, 50)\n"
     ]
    },
    {
     "data": {
      "text/plain": [
       "(<torch.utils.data.dataloader.DataLoader at 0x7f6a68af2260>,\n",
       " <torch.utils.data.dataloader.DataLoader at 0x7f6a68af2440>)"
      ]
     },
     "execution_count": 2,
     "metadata": {},
     "output_type": "execute_result"
    }
   ],
   "source": [
    "def data_loading(data_path, label_path, batch_size, train_ratio=0.8):\n",
    "    data = torch.load(data_path)\n",
    "    labels = torch.load(label_path)\n",
    "    data = nn.functional.normalize(data, dim=1)\n",
    "    # reshaping the dataset so  the channels will be the second dimension.\n",
    "    data = data.permute(0, 2, 1)\n",
    "    print(data.size())\n",
    "    \n",
    "    def pca_reduction(data, n_components=4):\n",
    "        data_reshaped = data.reshape(-1, data.shape[1])\n",
    "\n",
    "        # Apply PCA\n",
    "        pca = PCA(n_components=n_components)\n",
    "        \n",
    "        data_reduced = pca.fit_transform(data_reshaped)\n",
    "\n",
    "        # Reshape back to (samples, n_components, time_steps)\n",
    "        data_reduced = data_reduced.reshape(data.shape[0], n_components, data.shape[2])\n",
    "\n",
    "        return data_reduced\n",
    "    print(data.dtype)\n",
    "    data = pca_reduction(data, n_components=4)\n",
    "    data =(torch.from_numpy(data)).float()\n",
    "    print(data.dtype)\n",
    "    print(data)\n",
    "    n_samples, n_channels, n_features = data.shape\n",
    "    X_reshaped = data.reshape(n_samples, -1) \n",
    "    \n",
    "    # Apply SMOTE\n",
    "    smote = SMOTE(sampling_strategy='minority')\n",
    "    data_resampled, labels_resampled = smote.fit_resample(X_reshaped, labels)\n",
    "    print((labels_resampled==1).sum())\n",
    "    # Reshape X_resampled back to 3D\n",
    "    data_resampled = data_resampled.reshape(-1, n_channels, n_features)\n",
    "    print(data_resampled.shape)\n",
    "    data_resampled = torch.tensor(data_resampled)\n",
    "    labels_resampled = torch.tensor(labels_resampled)\n",
    "    dataset = TensorDataset(data_resampled, labels_resampled)\n",
    "    train_size = int(train_ratio * len(dataset))\n",
    "    test_size = len(dataset) - train_size\n",
    "    train_dataset, test_dataset = random_split(dataset, [train_size, test_size])\n",
    "    return DataLoader(train_dataset, batch_size=batch_size, shuffle=True), DataLoader(test_dataset, batch_size=batch_size, shuffle=False)\n",
    "data_path = 'NASA_data_50.pt'\n",
    "label_path = 'NASA_label_50.pt'\n",
    "data_loading(data_path=data_path, label_path=label_path,batch_size= 64)\n"
   ]
  },
  {
   "cell_type": "code",
   "execution_count": 3,
   "metadata": {},
   "outputs": [],
   "source": [
    "# Define the CNN architecture\n",
    "class SimpleCNN(nn.Module):\n",
    "    def __init__(self, dropout):\n",
    "        super(SimpleCNN, self).__init__()\n",
    "        self.conv1 = nn.Conv1d(in_channels=4, out_channels=8, kernel_size=5)\n",
    "        self.bn1 = nn.BatchNorm1d(8)\n",
    "        self.conv2 = nn.Conv1d(in_channels=8, out_channels=8, kernel_size=5)\n",
    "        self.bn2 = nn.BatchNorm1d(8)\n",
    "        self.pool = nn.MaxPool1d(kernel_size=2, padding=0, stride=1)\n",
    "        # the size of the out channels x number  of nodes \n",
    "        self.fc1 = nn.Linear(328, 200)\n",
    "        self.fc2 = nn.Linear(200, 2)\n",
    "        self.flatten = nn.Flatten()\n",
    "        self.relu = nn.ReLU()\n",
    "        self.dropout = nn.Dropout(dropout)\n",
    "        self.sigmoid = nn.Sigmoid()\n",
    "\n",
    "    def forward(self, x):\n",
    "        x = self.relu(self.bn1(self.conv1(x)))\n",
    "        x = self.relu(self.bn2(self.conv2(x)))\n",
    "        x = self.dropout(x)\n",
    "        x = self.pool(x)\n",
    "        x = self.flatten(x)\n",
    "        x = self.relu(self.fc1(x))\n",
    "        x - self.dropout(x)\n",
    "        x = self.sigmoid(self.fc2(x))\n",
    "        return x\n"
   ]
  },
  {
   "cell_type": "code",
   "execution_count": 4,
   "metadata": {},
   "outputs": [],
   "source": [
    "def correct(logits, y):\n",
    "    y_hat = logits.argmax(axis=1) # Finds the column with the highest value for each row of `logits`.\n",
    "    return (y_hat == y).float().sum() # Computes the number of times that `y_hat` and `y` match."
   ]
  },
  {
   "cell_type": "code",
   "execution_count": 5,
   "metadata": {},
   "outputs": [],
   "source": [
    "def evaluate_metric(model, data_iter, metric):\n",
    "    \"\"\"Compute the average `metric` of the model on a dataset.\"\"\"\n",
    "    c = torch.tensor(0.).to(device)\n",
    "    n = torch.tensor(0.).to(device)\n",
    "    for X, y in data_iter:\n",
    "        X, y = X.to(device), y.to(device) # Moves data to `device`\n",
    "        logits = model(X)\n",
    "        c += metric(logits, y)\n",
    "        n += len(y)\n",
    "    return c*100 / n"
   ]
  },
  {
   "cell_type": "markdown",
   "metadata": {},
   "source": [
    "## Training"
   ]
  },
  {
   "cell_type": "code",
   "execution_count": 6,
   "metadata": {},
   "outputs": [
    {
     "name": "stderr",
     "output_type": "stream",
     "text": [
      "\u001b[34m\u001b[1mwandb\u001b[0m: Currently logged in as: \u001b[33md-hadjikazemi\u001b[0m (\u001b[33md-hadjikazemi-queen-mary-university-of-london\u001b[0m). Use \u001b[1m`wandb login --relogin`\u001b[0m to force relogin\n"
     ]
    },
    {
     "data": {
      "text/html": [
       "wandb version 0.17.5 is available!  To upgrade, please run:\n",
       " $ pip install wandb --upgrade"
      ],
      "text/plain": [
       "<IPython.core.display.HTML object>"
      ]
     },
     "metadata": {},
     "output_type": "display_data"
    },
    {
     "data": {
      "text/html": [
       "Tracking run with wandb version 0.17.4"
      ],
      "text/plain": [
       "<IPython.core.display.HTML object>"
      ]
     },
     "metadata": {},
     "output_type": "display_data"
    },
    {
     "data": {
      "text/html": [
       "Run data is saved locally in <code>/home/diba/wandb/run-20240724_205404-f2he738q</code>"
      ],
      "text/plain": [
       "<IPython.core.display.HTML object>"
      ]
     },
     "metadata": {},
     "output_type": "display_data"
    },
    {
     "data": {
      "text/html": [
       "Syncing run <strong><a href='https://wandb.ai/d-hadjikazemi-queen-mary-university-of-london/NASA_turbo_fan/runs/f2he738q' target=\"_blank\">feature reduction_24-07-2024_20:54:02</a></strong> to <a href='https://wandb.ai/d-hadjikazemi-queen-mary-university-of-london/NASA_turbo_fan' target=\"_blank\">Weights & Biases</a> (<a href='https://wandb.me/run' target=\"_blank\">docs</a>)<br/>"
      ],
      "text/plain": [
       "<IPython.core.display.HTML object>"
      ]
     },
     "metadata": {},
     "output_type": "display_data"
    },
    {
     "data": {
      "text/html": [
       " View project at <a href='https://wandb.ai/d-hadjikazemi-queen-mary-university-of-london/NASA_turbo_fan' target=\"_blank\">https://wandb.ai/d-hadjikazemi-queen-mary-university-of-london/NASA_turbo_fan</a>"
      ],
      "text/plain": [
       "<IPython.core.display.HTML object>"
      ]
     },
     "metadata": {},
     "output_type": "display_data"
    },
    {
     "data": {
      "text/html": [
       " View run at <a href='https://wandb.ai/d-hadjikazemi-queen-mary-university-of-london/NASA_turbo_fan/runs/f2he738q' target=\"_blank\">https://wandb.ai/d-hadjikazemi-queen-mary-university-of-london/NASA_turbo_fan/runs/f2he738q</a>"
      ],
      "text/plain": [
       "<IPython.core.display.HTML object>"
      ]
     },
     "metadata": {},
     "output_type": "display_data"
    },
    {
     "name": "stdout",
     "output_type": "stream",
     "text": [
      "torch.Size([848, 24, 50])\n",
      "torch.float32\n",
      "torch.float32\n",
      "tensor([[[-7.3558e-01, -8.0054e-02, -3.0530e-02,  ...,  1.9037e-04,\n",
      "           4.1084e-02,  2.7795e-03],\n",
      "         [ 3.9606e-04, -6.9186e-04,  4.1972e-02,  ...,  1.8910e-03,\n",
      "           1.0167e-04,  4.2928e-06],\n",
      "         [ 4.2156e-02,  2.0239e-03,  1.6764e-04,  ..., -2.9601e-05,\n",
      "           4.3266e-02,  2.5506e-03],\n",
      "         [ 6.3010e-05, -2.2457e-04,  4.2156e-02,  ...,  2.7900e-03,\n",
      "           8.4373e-04,  1.8398e-04]],\n",
      "\n",
      "        [[-6.6175e-01,  1.1410e-01,  1.1123e-01,  ..., -6.2278e-04,\n",
      "           4.2175e-02,  2.5151e-03],\n",
      "         [ 7.7689e-04,  2.1387e-04,  4.1976e-02,  ...,  1.8435e-03,\n",
      "           1.3220e-04, -9.8226e-05],\n",
      "         [ 4.2156e-02,  2.0239e-03,  1.6764e-04,  ...,  4.5508e-04,\n",
      "           4.2668e-02,  2.1513e-03],\n",
      "         [ 4.8032e-04, -2.2325e-04,  4.2156e-02,  ...,  1.7142e-03,\n",
      "           7.1757e-04,  5.3931e-04]],\n",
      "\n",
      "        [[-5.8702e-01,  1.4570e-01,  1.0275e-02,  ..., -5.1172e-04,\n",
      "           4.1801e-02,  2.1278e-03],\n",
      "         [ 3.0274e-04,  4.4547e-06,  4.1844e-02,  ...,  1.9439e-03,\n",
      "           1.5723e-04, -4.0535e-05],\n",
      "         [ 4.2156e-02,  2.0239e-03,  1.6764e-04,  ..., -4.1177e-04,\n",
      "           4.2333e-02,  2.1728e-03],\n",
      "         [-5.6821e-05,  2.7931e-04,  4.2156e-02,  ...,  2.8975e-03,\n",
      "           1.5812e-04, -3.9976e-04]],\n",
      "\n",
      "        ...,\n",
      "\n",
      "        [[-2.4424e-02, -5.2487e-03,  5.5132e-02,  ..., -6.9481e-03,\n",
      "           3.4910e-02, -4.5035e-03],\n",
      "         [ 4.8026e-04,  8.5437e-03,  4.5074e-02,  ...,  5.4868e-03,\n",
      "          -4.5733e-03, -5.0717e-03],\n",
      "         [ 4.4758e-02, -3.2355e-04, -1.8192e-02,  ...,  1.9188e-03,\n",
      "           5.4099e-02,  9.5725e-03],\n",
      "         [ 1.8274e-02, -1.8449e-02,  3.2165e-02,  ...,  1.8272e-02,\n",
      "          -7.2525e-02, -7.5205e-02]],\n",
      "\n",
      "        [[-9.4094e-02,  1.7191e-02, -2.9618e-02,  ...,  1.1049e-02,\n",
      "           2.2110e-02,  8.1601e-03],\n",
      "         [ 3.6616e-03, -2.8616e-03,  5.5254e-02,  ...,  7.0747e-04,\n",
      "          -5.4467e-03,  3.1526e-03],\n",
      "         [ 4.7965e-02, -2.0179e-02,  6.7883e-03,  ..., -8.9943e-03,\n",
      "           2.1889e-02,  1.9359e-03],\n",
      "         [-6.3806e-04, -4.7885e-03,  5.3420e-02,  ..., -5.3000e-02,\n",
      "          -7.0051e-02,  4.3186e-02]],\n",
      "\n",
      "        [[-4.8236e-02,  1.9339e-03, -3.7767e-02,  ...,  5.8264e-03,\n",
      "           2.0226e-02,  1.2306e-02],\n",
      "         [-1.5866e-02,  1.6517e-02,  6.0698e-02,  ...,  1.2912e-02,\n",
      "          -1.5756e-03, -2.7397e-03],\n",
      "         [ 3.2239e-02,  3.5728e-03,  2.1019e-02,  ..., -4.0426e-03,\n",
      "           1.8392e-02,  2.6190e-04],\n",
      "         [-2.0756e-03, -2.3785e-02,  7.4690e-02,  ...,  1.1984e-01,\n",
      "          -1.3969e-02, -3.1495e-02]]])\n",
      "685\n",
      "(1370, 4, 50)\n",
      "\n",
      "Epoch 1/100.\n",
      "Training accuracy: 50.91240692138672. Testing accuracy: 49.27007293701172. Duration: 0.453s.\n",
      "\n",
      "Epoch 2/100.\n",
      "Training accuracy: 53.19343185424805. Testing accuracy: 48.90510940551758. Duration: 0.068s.\n",
      "\n",
      "Epoch 3/100.\n",
      "Training accuracy: 56.66058349609375. Testing accuracy: 47.810218811035156. Duration: 0.057s.\n",
      "\n",
      "Epoch 4/100.\n",
      "Training accuracy: 59.39781188964844. Testing accuracy: 49.27007293701172. Duration: 0.066s.\n",
      "\n",
      "Epoch 5/100.\n",
      "Training accuracy: 61.131385803222656. Testing accuracy: 58.029197692871094. Duration: 0.069s.\n",
      "\n",
      "Epoch 6/100.\n",
      "Training accuracy: 60.766422271728516. Testing accuracy: 52.554744720458984. Duration: 0.074s.\n",
      "\n",
      "Epoch 7/100.\n",
      "Training accuracy: 57.84671401977539. Testing accuracy: 51.45985412597656. Duration: 0.076s.\n",
      "\n",
      "Epoch 8/100.\n",
      "Training accuracy: 58.57664108276367. Testing accuracy: 53.284671783447266. Duration: 0.133s.\n",
      "\n",
      "Epoch 9/100.\n",
      "Training accuracy: 58.57664108276367. Testing accuracy: 52.189781188964844. Duration: 0.139s.\n",
      "\n",
      "Epoch 10/100.\n",
      "Training accuracy: 60.401458740234375. Testing accuracy: 52.189781188964844. Duration: 0.131s.\n",
      "\n",
      "Epoch 11/100.\n",
      "Training accuracy: 62.86496353149414. Testing accuracy: 52.919708251953125. Duration: 0.111s.\n",
      "\n",
      "Epoch 12/100.\n",
      "Training accuracy: 66.78832244873047. Testing accuracy: 57.29927062988281. Duration: 0.134s.\n",
      "\n",
      "Epoch 13/100.\n",
      "Training accuracy: 65.23722839355469. Testing accuracy: 54.37956237792969. Duration: 0.086s.\n",
      "\n",
      "Epoch 14/100.\n",
      "Training accuracy: 67.33576965332031. Testing accuracy: 59.124088287353516. Duration: 0.105s.\n",
      "\n",
      "Epoch 15/100.\n",
      "Training accuracy: 65.60218811035156. Testing accuracy: 56.20438003540039. Duration: 0.086s.\n",
      "\n",
      "Epoch 16/100.\n",
      "Training accuracy: 67.33576965332031. Testing accuracy: 61.31386947631836. Duration: 0.079s.\n",
      "\n",
      "Epoch 17/100.\n",
      "Training accuracy: 66.51459503173828. Testing accuracy: 56.93430709838867. Duration: 0.090s.\n",
      "\n",
      "Epoch 18/100.\n",
      "Training accuracy: 66.87956237792969. Testing accuracy: 58.029197692871094. Duration: 0.083s.\n",
      "\n",
      "Epoch 19/100.\n",
      "Training accuracy: 67.70072937011719. Testing accuracy: 60.94890594482422. Duration: 0.088s.\n",
      "\n",
      "Epoch 20/100.\n",
      "Training accuracy: 66.69708251953125. Testing accuracy: 57.66423416137695. Duration: 0.075s.\n",
      "\n",
      "Epoch 21/100.\n",
      "Training accuracy: 68.6131362915039. Testing accuracy: 61.31386947631836. Duration: 0.090s.\n",
      "\n",
      "Epoch 22/100.\n",
      "Training accuracy: 68.52189636230469. Testing accuracy: 62.04379653930664. Duration: 0.074s.\n",
      "\n",
      "Epoch 23/100.\n",
      "Training accuracy: 69.61679077148438. Testing accuracy: 62.40876007080078. Duration: 0.069s.\n",
      "\n",
      "Epoch 24/100.\n",
      "Training accuracy: 70.07299041748047. Testing accuracy: 62.77372360229492. Duration: 0.074s.\n",
      "\n",
      "Epoch 25/100.\n",
      "Training accuracy: 69.79927062988281. Testing accuracy: 61.6788330078125. Duration: 0.084s.\n",
      "\n",
      "Epoch 26/100.\n",
      "Training accuracy: 70.34671783447266. Testing accuracy: 62.04379653930664. Duration: 0.095s.\n",
      "\n",
      "Epoch 27/100.\n",
      "Training accuracy: 68.52189636230469. Testing accuracy: 62.40876007080078. Duration: 0.108s.\n",
      "\n",
      "Epoch 28/100.\n",
      "Training accuracy: 70.5291976928711. Testing accuracy: 63.868614196777344. Duration: 0.104s.\n",
      "\n",
      "Epoch 29/100.\n",
      "Training accuracy: 71.07664489746094. Testing accuracy: 63.868614196777344. Duration: 0.092s.\n",
      "\n",
      "Epoch 30/100.\n",
      "Training accuracy: 70.98540496826172. Testing accuracy: 64.59854125976562. Duration: 0.078s.\n",
      "\n",
      "Epoch 31/100.\n",
      "Training accuracy: 70.98540496826172. Testing accuracy: 62.77372360229492. Duration: 0.067s.\n",
      "\n",
      "Epoch 32/100.\n",
      "Training accuracy: 71.80657196044922. Testing accuracy: 66.05839538574219. Duration: 0.105s.\n",
      "\n",
      "Epoch 33/100.\n",
      "Training accuracy: 70.71167755126953. Testing accuracy: 63.868614196777344. Duration: 0.094s.\n",
      "\n",
      "Epoch 34/100.\n",
      "Training accuracy: 71.07664489746094. Testing accuracy: 64.23357391357422. Duration: 0.066s.\n",
      "\n",
      "Epoch 35/100.\n",
      "Training accuracy: 72.44525909423828. Testing accuracy: 66.05839538574219. Duration: 0.115s.\n",
      "\n",
      "Epoch 36/100.\n",
      "Training accuracy: 70.80291748046875. Testing accuracy: 64.23357391357422. Duration: 0.107s.\n",
      "\n",
      "Epoch 37/100.\n",
      "Training accuracy: 72.44525909423828. Testing accuracy: 67.15328216552734. Duration: 0.103s.\n",
      "\n",
      "Epoch 38/100.\n",
      "Training accuracy: 72.71897888183594. Testing accuracy: 67.51824951171875. Duration: 0.107s.\n",
      "\n",
      "Epoch 39/100.\n",
      "Training accuracy: 72.81021881103516. Testing accuracy: 66.42335510253906. Duration: 0.117s.\n",
      "\n",
      "Epoch 40/100.\n",
      "Training accuracy: 73.90511322021484. Testing accuracy: 67.15328216552734. Duration: 0.104s.\n",
      "\n",
      "Epoch 41/100.\n",
      "Training accuracy: 74.27007293701172. Testing accuracy: 67.88320922851562. Duration: 0.096s.\n",
      "\n",
      "Epoch 42/100.\n",
      "Training accuracy: 72.71897888183594. Testing accuracy: 66.78832244873047. Duration: 0.076s.\n",
      "\n",
      "Epoch 43/100.\n",
      "Training accuracy: 73.8138656616211. Testing accuracy: 66.42335510253906. Duration: 0.087s.\n",
      "\n",
      "Epoch 44/100.\n",
      "Training accuracy: 74.08759307861328. Testing accuracy: 68.24817657470703. Duration: 0.101s.\n",
      "\n",
      "Epoch 45/100.\n",
      "Training accuracy: 73.44890594482422. Testing accuracy: 66.78832244873047. Duration: 0.094s.\n",
      "\n",
      "Epoch 46/100.\n",
      "Training accuracy: 74.36131286621094. Testing accuracy: 69.34306335449219. Duration: 0.076s.\n",
      "\n",
      "Epoch 47/100.\n",
      "Training accuracy: 74.81752014160156. Testing accuracy: 68.6131362915039. Duration: 0.073s.\n",
      "\n",
      "Epoch 48/100.\n",
      "Training accuracy: 75.27371978759766. Testing accuracy: 69.34306335449219. Duration: 0.072s.\n",
      "\n",
      "Epoch 49/100.\n",
      "Training accuracy: 74.72628021240234. Testing accuracy: 68.6131362915039. Duration: 0.052s.\n",
      "\n",
      "Epoch 50/100.\n",
      "Training accuracy: 75.8211669921875. Testing accuracy: 70.80291748046875. Duration: 0.064s.\n",
      "\n",
      "Epoch 51/100.\n",
      "Training accuracy: 75.45620727539062. Testing accuracy: 70.43795776367188. Duration: 0.081s.\n",
      "\n",
      "Epoch 52/100.\n",
      "Training accuracy: 76.00364685058594. Testing accuracy: 70.80291748046875. Duration: 0.062s.\n",
      "\n",
      "Epoch 53/100.\n",
      "Training accuracy: 75.91240692138672. Testing accuracy: 71.53284454345703. Duration: 0.072s.\n",
      "\n",
      "Epoch 54/100.\n",
      "Training accuracy: 76.1861343383789. Testing accuracy: 70.80291748046875. Duration: 0.087s.\n",
      "\n",
      "Epoch 55/100.\n",
      "Training accuracy: 76.00364685058594. Testing accuracy: 68.97810363769531. Duration: 0.079s.\n",
      "\n",
      "Epoch 56/100.\n",
      "Training accuracy: 76.09488677978516. Testing accuracy: 70.43795776367188. Duration: 0.072s.\n",
      "\n",
      "Epoch 57/100.\n",
      "Training accuracy: 76.09488677978516. Testing accuracy: 69.7080307006836. Duration: 0.078s.\n",
      "\n",
      "Epoch 58/100.\n",
      "Training accuracy: 76.45985412597656. Testing accuracy: 69.7080307006836. Duration: 0.129s.\n",
      "\n",
      "Epoch 59/100.\n",
      "Training accuracy: 77.28102111816406. Testing accuracy: 70.07299041748047. Duration: 0.140s.\n",
      "\n",
      "Epoch 60/100.\n",
      "Training accuracy: 76.642333984375. Testing accuracy: 69.7080307006836. Duration: 0.104s.\n",
      "\n",
      "Epoch 61/100.\n",
      "Training accuracy: 76.91606140136719. Testing accuracy: 69.34306335449219. Duration: 0.093s.\n",
      "\n",
      "Epoch 62/100.\n",
      "Training accuracy: 77.18978118896484. Testing accuracy: 70.80291748046875. Duration: 0.091s.\n",
      "\n",
      "Epoch 63/100.\n",
      "Training accuracy: 76.642333984375. Testing accuracy: 71.89781188964844. Duration: 0.131s.\n",
      "\n",
      "Epoch 64/100.\n",
      "Training accuracy: 77.55474090576172. Testing accuracy: 69.7080307006836. Duration: 0.097s.\n",
      "\n",
      "Epoch 65/100.\n",
      "Training accuracy: 77.55474090576172. Testing accuracy: 72.26277160644531. Duration: 0.082s.\n",
      "\n",
      "Epoch 66/100.\n",
      "Training accuracy: 77.4635009765625. Testing accuracy: 72.62773895263672. Duration: 0.193s.\n",
      "\n",
      "Epoch 67/100.\n",
      "Training accuracy: 78.46715545654297. Testing accuracy: 71.16788482666016. Duration: 0.116s.\n",
      "\n",
      "Epoch 68/100.\n",
      "Training accuracy: 78.01094818115234. Testing accuracy: 72.62773895263672. Duration: 0.067s.\n",
      "\n",
      "Epoch 69/100.\n",
      "Training accuracy: 78.10218811035156. Testing accuracy: 70.80291748046875. Duration: 0.064s.\n",
      "\n",
      "Epoch 70/100.\n",
      "Training accuracy: 77.28102111816406. Testing accuracy: 72.62773895263672. Duration: 0.094s.\n",
      "\n",
      "Epoch 71/100.\n",
      "Training accuracy: 78.37591552734375. Testing accuracy: 72.9926986694336. Duration: 0.103s.\n",
      "\n",
      "Epoch 72/100.\n",
      "Training accuracy: 78.6496353149414. Testing accuracy: 70.80291748046875. Duration: 0.093s.\n",
      "\n",
      "Epoch 73/100.\n",
      "Training accuracy: 79.01459503173828. Testing accuracy: 73.72262573242188. Duration: 0.096s.\n",
      "\n",
      "Epoch 74/100.\n",
      "Training accuracy: 79.37956237792969. Testing accuracy: 73.357666015625. Duration: 0.071s.\n",
      "\n",
      "Epoch 75/100.\n",
      "Training accuracy: 78.46715545654297. Testing accuracy: 73.357666015625. Duration: 0.067s.\n",
      "\n",
      "Epoch 76/100.\n",
      "Training accuracy: 79.19708251953125. Testing accuracy: 73.72262573242188. Duration: 0.057s.\n",
      "\n",
      "Epoch 77/100.\n",
      "Training accuracy: 78.46715545654297. Testing accuracy: 71.89781188964844. Duration: 0.063s.\n",
      "\n",
      "Epoch 78/100.\n",
      "Training accuracy: 79.10584259033203. Testing accuracy: 71.89781188964844. Duration: 0.071s.\n",
      "\n",
      "Epoch 79/100.\n",
      "Training accuracy: 79.37956237792969. Testing accuracy: 73.357666015625. Duration: 0.097s.\n",
      "\n",
      "Epoch 80/100.\n",
      "Training accuracy: 78.74087524414062. Testing accuracy: 73.357666015625. Duration: 0.086s.\n",
      "\n",
      "Epoch 81/100.\n",
      "Training accuracy: 80.10948944091797. Testing accuracy: 73.72262573242188. Duration: 0.071s.\n",
      "\n",
      "Epoch 82/100.\n",
      "Training accuracy: 79.65328216552734. Testing accuracy: 73.72262573242188. Duration: 0.097s.\n",
      "\n",
      "Epoch 83/100.\n",
      "Training accuracy: 79.74452209472656. Testing accuracy: 73.357666015625. Duration: 0.074s.\n",
      "\n",
      "Epoch 84/100.\n",
      "Training accuracy: 80.20072937011719. Testing accuracy: 72.9926986694336. Duration: 0.089s.\n",
      "\n",
      "Epoch 85/100.\n",
      "Training accuracy: 79.74452209472656. Testing accuracy: 72.62773895263672. Duration: 0.092s.\n",
      "\n",
      "Epoch 86/100.\n",
      "Training accuracy: 80.20072937011719. Testing accuracy: 72.9926986694336. Duration: 0.109s.\n",
      "\n",
      "Epoch 87/100.\n",
      "Training accuracy: 80.47444915771484. Testing accuracy: 73.72262573242188. Duration: 0.108s.\n",
      "\n",
      "Epoch 88/100.\n",
      "Training accuracy: 80.01824951171875. Testing accuracy: 73.72262573242188. Duration: 0.096s.\n",
      "\n",
      "Epoch 89/100.\n",
      "Training accuracy: 80.01824951171875. Testing accuracy: 73.72262573242188. Duration: 0.119s.\n",
      "\n",
      "Epoch 90/100.\n",
      "Training accuracy: 79.74452209472656. Testing accuracy: 73.357666015625. Duration: 0.085s.\n",
      "\n",
      "Epoch 91/100.\n",
      "Training accuracy: 80.93065643310547. Testing accuracy: 73.72262573242188. Duration: 0.097s.\n",
      "\n",
      "Epoch 92/100.\n",
      "Training accuracy: 80.5656967163086. Testing accuracy: 73.72262573242188. Duration: 0.104s.\n",
      "\n",
      "Epoch 93/100.\n",
      "Training accuracy: 79.92700958251953. Testing accuracy: 73.357666015625. Duration: 0.097s.\n",
      "\n",
      "Epoch 94/100.\n",
      "Training accuracy: 81.02189636230469. Testing accuracy: 73.357666015625. Duration: 0.100s.\n",
      "\n",
      "Epoch 95/100.\n",
      "Training accuracy: 80.74817657470703. Testing accuracy: 72.26277160644531. Duration: 0.093s.\n",
      "\n",
      "Epoch 96/100.\n",
      "Training accuracy: 80.20072937011719. Testing accuracy: 72.9926986694336. Duration: 0.079s.\n",
      "\n",
      "Epoch 97/100.\n",
      "Training accuracy: 80.2919692993164. Testing accuracy: 73.72262573242188. Duration: 0.102s.\n",
      "\n",
      "Epoch 98/100.\n",
      "Training accuracy: 81.3868637084961. Testing accuracy: 73.72262573242188. Duration: 0.083s.\n",
      "\n",
      "Epoch 99/100.\n",
      "Training accuracy: 80.47444915771484. Testing accuracy: 73.357666015625. Duration: 0.088s.\n",
      "\n",
      "Epoch 100/100.\n",
      "Training accuracy: 80.74817657470703. Testing accuracy: 73.357666015625. Duration: 0.101s.\n"
     ]
    },
    {
     "data": {
      "image/png": "[encoded data removed]",
      "text/plain": [
       "<Figure size 640x480 with 1 Axes>"
      ]
     },
     "metadata": {},
     "output_type": "display_data"
    },
    {
     "data": {
      "image/png": "[encoded data removed]",
      "text/plain": [
       "<Figure size 640x480 with 1 Axes>"
      ]
     },
     "metadata": {},
     "output_type": "display_data"
    },
    {
     "data": {
      "application/vnd.jupyter.widget-view+json": {
       "model_id": "b4ec32d3d6ff4845aeeb2cfb166fc46c",
       "version_major": 2,
       "version_minor": 0
      },
      "text/plain": [
       "VBox(children=(Label(value='0.004 MB of 0.004 MB uploaded\\r'), FloatProgress(value=1.0, max=1.0)))"
      ]
     },
     "metadata": {},
     "output_type": "display_data"
    },
    {
     "data": {
      "text/html": [
       "<style>\n",
       "    table.wandb td:nth-child(1) { padding: 0 10px; text-align: left ; width: auto;} td:nth-child(2) {text-align: left ; width: 100%}\n",
       "    .wandb-row { display: flex; flex-direction: row; flex-wrap: wrap; justify-content: flex-start; width: 100% }\n",
       "    .wandb-col { display: flex; flex-direction: column; flex-basis: 100%; flex: 1; padding: 10px; }\n",
       "    </style>\n",
       "<div class=\"wandb-row\"><div class=\"wandb-col\"><h3>Run history:</h3><br/><table class=\"wandb\"><tr><td>test_acc</td><td>▁▁▂▂▂▃▅▄▅▅▅▅▅▅▅▆▆▇▇▇▇▇▇▇▇▇▇▇▇███████████</td></tr><tr><td>train_acc</td><td>▁▂▃▃▄▄▅▅▅▅▆▆▆▆▆▆▆▆▆▇▇▇▇▇▇▇▇▇▇█▇█████████</td></tr><tr><td>train_loss</td><td>█▇▇▇▇▇▇█▅▆▅▅█▆▄▄█▅▇▇▄▆▆▆▆▆▂▂▆▁▅▅▂▇▃▅▃▃▆▅</td></tr></table><br/></div><div class=\"wandb-col\"><h3>Run summary:</h3><br/><table class=\"wandb\"><tr><td>test_acc</td><td>73.35767</td></tr><tr><td>train_acc</td><td>80.74818</td></tr><tr><td>train_loss</td><td>0.59896</td></tr></table><br/></div></div>"
      ],
      "text/plain": [
       "<IPython.core.display.HTML object>"
      ]
     },
     "metadata": {},
     "output_type": "display_data"
    },
    {
     "data": {
      "text/html": [
       " View run <strong style=\"color:#cdcd00\">feature reduction_24-07-2024_20:54:02</strong> at: <a href='https://wandb.ai/d-hadjikazemi-queen-mary-university-of-london/NASA_turbo_fan/runs/f2he738q' target=\"_blank\">https://wandb.ai/d-hadjikazemi-queen-mary-university-of-london/NASA_turbo_fan/runs/f2he738q</a><br/> View project at: <a href='https://wandb.ai/d-hadjikazemi-queen-mary-university-of-london/NASA_turbo_fan' target=\"_blank\">https://wandb.ai/d-hadjikazemi-queen-mary-university-of-london/NASA_turbo_fan</a><br/>Synced 6 W&B file(s), 0 media file(s), 0 artifact file(s) and 0 other file(s)"
      ],
      "text/plain": [
       "<IPython.core.display.HTML object>"
      ]
     },
     "metadata": {},
     "output_type": "display_data"
    },
    {
     "data": {
      "text/html": [
       "Find logs at: <code>./wandb/run-20240724_205404-f2he738q/logs</code>"
      ],
      "text/plain": [
       "<IPython.core.display.HTML object>"
      ]
     },
     "metadata": {},
     "output_type": "display_data"
    },
    {
     "data": {
      "text/html": [
       "The new W&B backend becomes opt-out in version 0.18.0; try it out with `wandb.require(\"core\")`! See https://wandb.me/wandb-core for more information."
      ],
      "text/plain": [
       "<IPython.core.display.HTML object>"
      ]
     },
     "metadata": {},
     "output_type": "display_data"
    }
   ],
   "source": [
    "wandb.init(\n",
    "    # set the wandb project where this run will be logged\n",
    "    project=\"NASA_turbo_fan\",\n",
    "    name= \"feature reduction_{}\".format(date_time),\n",
    "    # track hyperparameters and run metadata\n",
    "    config={\n",
    "    \"learning_rate\": 0.0001,\n",
    "    \"architecture\": \"CNN\",\n",
    "    \"epochs\": 100,\n",
    "    \"loss\": nn.BCELoss(),\n",
    "    \"batch_size\": 64,\n",
    "    \"decay\":1e-5,\n",
    "    'dropout': 0.5\n",
    "    }\n",
    ")\n",
    "config = wandb.config\n",
    "data_path = 'NASA_data_50.pt'\n",
    "label_path = 'NASA_label_50.pt'\n",
    "train_loader, test_loader = data_loading(data_path=data_path, label_path=label_path,batch_size= config.batch_size)\n",
    "\n",
    "losses = [] # Stores the loss for each training batch\n",
    "train_accs = [] # Stores the training accuracy after each epoch\n",
    "test_accs = [] # Stores the testing accuracy after each epoch\n",
    "\n",
    "# Create an instance of the CNN\n",
    "model = SimpleCNN(dropout=config.dropout)\n",
    "\n",
    "# Loss and optimizer\n",
    "loss = nn.CrossEntropyLoss()\n",
    "optimizer = torch.optim.Adam(model.parameters(), lr=config.learning_rate, weight_decay=config.decay)\n",
    "\n",
    "model.to(device)\n",
    "\n",
    "num_epochs = 100\n",
    "for epoch in range(config.epochs):\n",
    "    print(f'\\nEpoch {epoch + 1}/{num_epochs}.')\n",
    "    start_time = time.perf_counter()\n",
    "\n",
    "    model.train() # This is necessary because batch normalization behaves differently between training and evaluation\n",
    "\n",
    "    for X, y in train_loader:\n",
    "        X, y = X.to(device), y.to(device) # Moves data to `device`\n",
    "        logits = model(X) # Computes the logits for the batch of images `X`\n",
    "        l = loss(logits, y) # Computes the loss given the `logits` and the class vector `y`\n",
    "        optimizer.zero_grad() # Zeroes the gradients stored in the model parameters\n",
    "        l.backward() # Computes the gradient of the loss `l` with respect to the model parameters\n",
    "\n",
    "        optimizer.step() # Updates the model parameters based on the gradients stored inside them\n",
    "\n",
    "        train_loss = float(l)\n",
    "        losses.append(train_loss) # Stores the loss for this batch\n",
    "\n",
    "    model.eval() # This is necessary because batch normalization behaves differently between training and evaluation\n",
    "    train_acc = evaluate_metric(model, train_loader, correct)\n",
    "    train_accs.append(train_acc)\n",
    "    test_acc = evaluate_metric(model, test_loader, correct)\n",
    "    test_accs.append(test_acc)\n",
    "    metrics = {\"train_loss\": train_loss,\n",
    "               \"train_acc\": train_acc,\n",
    "               \"test_acc\": test_acc}\n",
    "    wandb.log(metrics)\n",
    "\n",
    "    end_time = time.perf_counter()\n",
    "\n",
    "    print(f'Training accuracy: {train_accs[-1]}. Testing accuracy: {test_accs[-1]}. Duration: {end_time - start_time:.3f}s.') # Computes and displays training/testing dataset accuracy.\n",
    "\n",
    "plt.plot(losses) # Plots the loss for each training batch\n",
    "plt.xlabel('Training batch')\n",
    "plt.ylabel('Cross entropy loss')\n",
    "plt.show()\n",
    "\n",
    "plt.plot(list(map(lambda x: x.cpu(),train_accs)), label='Training accuracy')\n",
    "plt.plot(list(map(lambda x: x.cpu(),test_accs)), label='Testing accuracy')\n",
    "plt.legend(loc='best')\n",
    "plt.xlabel('Epoch')\n",
    "plt.show()\n",
    "wandb.finish()"
   ]
  },
  {
   "cell_type": "code",
   "execution_count": 7,
   "metadata": {},
   "outputs": [
    {
     "name": "stdout",
     "output_type": "stream",
     "text": [
      "max test accuracy 73.72262573242188\n"
     ]
    }
   ],
   "source": [
    "print('max test accuracy {}'.format(max(test_accs)))"
   ]
  }
 ],
 "metadata": {
  "kernelspec": {
   "display_name": "Python 3 (ipykernel)",
   "language": "python",
   "name": "python3"
  },
  "language_info": {
   "codemirror_mode": {
    "name": "ipython",
    "version": 3
   },
   "file_extension": ".py",
   "mimetype": "text/x-python",
   "name": "python",
   "nbconvert_exporter": "python",
   "pygments_lexer": "ipython3",
   "version": "3.10.0"
  }
 },
 "nbformat": 4,
 "nbformat_minor": 2
}
