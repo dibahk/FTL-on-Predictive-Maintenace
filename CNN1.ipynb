{
 "cells": [
  {
   "cell_type": "code",
   "execution_count": 1,
   "metadata": {},
   "outputs": [
    {
     "name": "stdout",
     "output_type": "stream",
     "text": [
      "Using cuda.\n"
     ]
    }
   ],
   "source": [
    "%matplotlib inline\n",
    "import matplotlib.pyplot as plt\n",
    "import torchvision\n",
    "from torch.utils.data import TensorDataset, random_split, DataLoader\n",
    "import torch.nn as nn\n",
    "import time\n",
    "import wandb\n",
    "from imblearn.over_sampling import SMOTE\n",
    "import torch\n",
    "device = torch.device('cuda' if torch.cuda.is_available() else 'cpu')\n",
    "print(f'Using {device}.')"
   ]
  },
  {
   "cell_type": "markdown",
   "metadata": {},
   "source": [
    "wandb.init(\n",
    "    # set the wandb project where this run will be logged\n",
    "    project=\"my-awesome-project\",\n",
    "\n",
    "    # track hyperparameters and run metadata\n",
    "    config={\n",
    "    \"learning_rate\": 0.001,\n",
    "    \"architecture\": \"CNN\",\n",
    "    \"epochs\": 10,\n",
    "    \"loss\": nn.BCELoss(),\n",
    "    \"batch_size\": 64\n",
    "    }\n",
    ")\n",
    "config = wandb.config"
   ]
  },
  {
   "cell_type": "markdown",
   "metadata": {},
   "source": [
    "def log_image_table(images, predicted, labels, probs):\n",
    "    \"Log a wandb.Table with (img, pred, target, scores)\"\n",
    "    # 🐝 Create a wandb Table to log images, labels and predictions to\n",
    "    table = wandb.Table(columns=[\"image\", \"pred\", \"target\"]+[f\"score_{i}\" for i in range(10)])\n",
    "    for img, pred, targ, prob in zip(images.to(\"cpu\"), predicted.to(\"cpu\"), labels.to(\"cpu\"), probs.to(\"cpu\")):\n",
    "        table.add_data(wandb.Image(img[0].numpy()*255), pred, targ, *prob.numpy())\n",
    "    wandb.log({\"predictions_table\":table}, commit=False)"
   ]
  },
  {
   "cell_type": "code",
   "execution_count": 2,
   "metadata": {},
   "outputs": [],
   "source": [
    "def data_loading(data_path, label_path, batch_size, train_ratio=0.8):\n",
    "    data = torch.load(data_path)\n",
    "    labels = torch.load(label_path)\n",
    "    data = nn.functional.normalize(data, dim=1)\n",
    "    \n",
    "    # reshaping the dataset so  the channels will be the second dimension.\n",
    "    data = data.permute(0, 2, 1)\n",
    "    n_samples, n_channels, n_features = data.shape\n",
    "    print(type(data))\n",
    "    X_reshaped = data.reshape(n_samples, -1) \n",
    "    # Apply SMOTE\n",
    "    smote = SMOTE(sampling_strategy='minority')\n",
    "    data_resampled, labels_resampled = smote.fit_resample(X_reshaped, labels)\n",
    "\n",
    "    # Reshape X_resampled back to 3D\n",
    "    data_resampled = data_resampled.reshape(-1, n_channels, n_features)\n",
    "    print(type(labels_resampled))\n",
    "    print(data_resampled.shape)\n",
    "    data_resampled = torch.tensor(data_resampled)\n",
    "    labels_resampled = torch.tensor(labels_resampled)\n",
    "    dataset = TensorDataset(data_resampled, labels_resampled)\n",
    "    train_size = int(train_ratio * len(dataset))\n",
    "    test_size = len(dataset) - train_size\n",
    "    train_dataset, test_dataset = random_split(dataset, [train_size, test_size])\n",
    "    return DataLoader(train_dataset, batch_size=batch_size, shuffle=True), DataLoader(test_dataset, batch_size=batch_size, shuffle=False)\n",
    "\n"
   ]
  },
  {
   "cell_type": "markdown",
   "metadata": {},
   "source": [
    "X, y = next(iter(train_loader)) # Requests the first training batch\n",
    "print(X.size()) \n",
    "print(y.size())"
   ]
  },
  {
   "cell_type": "code",
   "execution_count": 3,
   "metadata": {},
   "outputs": [],
   "source": [
    "# Define the CNN architecture\n",
    "class SimpleCNN(nn.Module):\n",
    "    def __init__(self):\n",
    "        super(SimpleCNN, self).__init__()\n",
    "        self.conv1 = nn.Conv1d(in_channels=24, out_channels=32, kernel_size=5)\n",
    "        self.conv2 = nn.Conv1d(in_channels=32, out_channels=32, kernel_size=5)\n",
    "        self.pool = nn.MaxPool1d(kernel_size=2, padding=0, stride=1)\n",
    "        # the size of the out channels x number  of nodes \n",
    "        self.fc1 = nn.Linear(32*91, 200)\n",
    "        self.fc2 = nn.Linear(200, 2)\n",
    "        self.flatten = nn.Flatten()\n",
    "        self.relu = nn.ReLU()\n",
    "        self.dropout = nn.Dropout(0.5)\n",
    "        self.sigmoid = nn.Sigmoid()\n",
    "\n",
    "    def forward(self, x):\n",
    "        x = self.relu(self.conv1(x))\n",
    "        x = self.relu(self.conv2(x))\n",
    "        x = self.dropout(x)\n",
    "        x = self.pool(x)\n",
    "        x = self.flatten(x)\n",
    "        x = self.relu(self.fc1(x))\n",
    "        x - self.dropout(x)\n",
    "        x = self.sigmoid(self.fc2(x))\n",
    "        return x\n"
   ]
  },
  {
   "cell_type": "markdown",
   "metadata": {},
   "source": [
    "# Create an instance of the CNN\n",
    "model = SimpleCNN()\n",
    "lr = 0.001\n",
    "# Loss and optimizer\n",
    "loss = nn.CrossEntropyLoss()\n",
    "optimizer = torch.optim.Adam(model.parameters(), lr=lr, weight_decay=1e-5)\n",
    "\n",
    "model.to(device)"
   ]
  },
  {
   "cell_type": "code",
   "execution_count": 4,
   "metadata": {},
   "outputs": [],
   "source": [
    "def correct(logits, y):\n",
    "    y_hat = logits.argmax(axis=1) # Finds the column with the highest value for each row of `logits`.\n",
    "    return (y_hat == y).float().sum() # Computes the number of times that `y_hat` and `y` match."
   ]
  },
  {
   "cell_type": "code",
   "execution_count": 5,
   "metadata": {},
   "outputs": [],
   "source": [
    "def evaluate_metric(model, data_iter, metric):\n",
    "    \"\"\"Compute the average `metric` of the model on a dataset.\"\"\"\n",
    "    c = torch.tensor(0.).to(device)\n",
    "    n = torch.tensor(0.).to(device)\n",
    "    for X, y in data_iter:\n",
    "        X, y = X.to(device), y.to(device) # Moves data to `device`\n",
    "        logits = model(X)\n",
    "        c += metric(logits, y)\n",
    "        n += len(y)\n",
    "    return c*100 / n"
   ]
  },
  {
   "cell_type": "markdown",
   "metadata": {},
   "source": [
    "## Training"
   ]
  },
  {
   "cell_type": "code",
   "execution_count": 6,
   "metadata": {},
   "outputs": [
    {
     "name": "stderr",
     "output_type": "stream",
     "text": [
      "\u001b[34m\u001b[1mwandb\u001b[0m: Currently logged in as: \u001b[33md-hadjikazemi\u001b[0m (\u001b[33md-hadjikazemi-queen-mary-university-of-london\u001b[0m). Use \u001b[1m`wandb login --relogin`\u001b[0m to force relogin\n"
     ]
    },
    {
     "data": {
      "text/html": [
       "Tracking run with wandb version 0.17.4"
      ],
      "text/plain": [
       "<IPython.core.display.HTML object>"
      ]
     },
     "metadata": {},
     "output_type": "display_data"
    },
    {
     "data": {
      "text/html": [
       "Run data is saved locally in <code>/home/diba/wandb/run-20240718_213616-xhp9w7wq</code>"
      ],
      "text/plain": [
       "<IPython.core.display.HTML object>"
      ]
     },
     "metadata": {},
     "output_type": "display_data"
    },
    {
     "data": {
      "text/html": [
       "Syncing run <strong><a href='https://wandb.ai/d-hadjikazemi-queen-mary-university-of-london/NASA_turbo_fan/runs/xhp9w7wq' target=\"_blank\">Experiment 1</a></strong> to <a href='https://wandb.ai/d-hadjikazemi-queen-mary-university-of-london/NASA_turbo_fan' target=\"_blank\">Weights & Biases</a> (<a href='https://wandb.me/run' target=\"_blank\">docs</a>)<br/>"
      ],
      "text/plain": [
       "<IPython.core.display.HTML object>"
      ]
     },
     "metadata": {},
     "output_type": "display_data"
    },
    {
     "data": {
      "text/html": [
       " View project at <a href='https://wandb.ai/d-hadjikazemi-queen-mary-university-of-london/NASA_turbo_fan' target=\"_blank\">https://wandb.ai/d-hadjikazemi-queen-mary-university-of-london/NASA_turbo_fan</a>"
      ],
      "text/plain": [
       "<IPython.core.display.HTML object>"
      ]
     },
     "metadata": {},
     "output_type": "display_data"
    },
    {
     "data": {
      "text/html": [
       " View run at <a href='https://wandb.ai/d-hadjikazemi-queen-mary-university-of-london/NASA_turbo_fan/runs/xhp9w7wq' target=\"_blank\">https://wandb.ai/d-hadjikazemi-queen-mary-university-of-london/NASA_turbo_fan/runs/xhp9w7wq</a>"
      ],
      "text/plain": [
       "<IPython.core.display.HTML object>"
      ]
     },
     "metadata": {},
     "output_type": "display_data"
    },
    {
     "name": "stdout",
     "output_type": "stream",
     "text": [
      "<class 'torch.Tensor'>\n",
      "<class 'numpy.ndarray'>\n",
      "(236, 24, 100)\n",
      "\n",
      "Epoch 1/100.\n",
      "Training accuracy: 52.65957260131836. Testing accuracy: 39.58333206176758. Duration: 0.348s.\n",
      "\n",
      "Epoch 2/100.\n",
      "Training accuracy: 52.65957260131836. Testing accuracy: 39.58333206176758. Duration: 0.018s.\n",
      "\n",
      "Epoch 3/100.\n",
      "Training accuracy: 52.65957260131836. Testing accuracy: 39.58333206176758. Duration: 0.013s.\n",
      "\n",
      "Epoch 4/100.\n",
      "Training accuracy: 52.65957260131836. Testing accuracy: 39.58333206176758. Duration: 0.013s.\n",
      "\n",
      "Epoch 5/100.\n",
      "Training accuracy: 52.65957260131836. Testing accuracy: 39.58333206176758. Duration: 0.011s.\n",
      "\n",
      "Epoch 6/100.\n",
      "Training accuracy: 52.65957260131836. Testing accuracy: 39.58333206176758. Duration: 0.009s.\n",
      "\n",
      "Epoch 7/100.\n",
      "Training accuracy: 52.65957260131836. Testing accuracy: 39.58333206176758. Duration: 0.039s.\n",
      "\n",
      "Epoch 8/100.\n",
      "Training accuracy: 52.65957260131836. Testing accuracy: 39.58333206176758. Duration: 0.044s.\n",
      "\n",
      "Epoch 9/100.\n",
      "Training accuracy: 52.65957260131836. Testing accuracy: 39.58333206176758. Duration: 0.036s.\n",
      "\n",
      "Epoch 10/100.\n",
      "Training accuracy: 52.65957260131836. Testing accuracy: 39.58333206176758. Duration: 0.034s.\n",
      "\n",
      "Epoch 11/100.\n",
      "Training accuracy: 52.65957260131836. Testing accuracy: 39.58333206176758. Duration: 0.036s.\n",
      "\n",
      "Epoch 12/100.\n",
      "Training accuracy: 52.65957260131836. Testing accuracy: 39.58333206176758. Duration: 0.039s.\n",
      "\n",
      "Epoch 13/100.\n",
      "Training accuracy: 52.65957260131836. Testing accuracy: 39.58333206176758. Duration: 0.037s.\n",
      "\n",
      "Epoch 14/100.\n",
      "Training accuracy: 52.65957260131836. Testing accuracy: 39.58333206176758. Duration: 0.035s.\n",
      "\n",
      "Epoch 15/100.\n",
      "Training accuracy: 52.65957260131836. Testing accuracy: 39.58333206176758. Duration: 0.039s.\n",
      "\n",
      "Epoch 16/100.\n",
      "Training accuracy: 52.65957260131836. Testing accuracy: 39.58333206176758. Duration: 0.039s.\n",
      "\n",
      "Epoch 17/100.\n",
      "Training accuracy: 52.65957260131836. Testing accuracy: 39.58333206176758. Duration: 0.039s.\n",
      "\n",
      "Epoch 18/100.\n",
      "Training accuracy: 52.65957260131836. Testing accuracy: 39.58333206176758. Duration: 0.038s.\n",
      "\n",
      "Epoch 19/100.\n",
      "Training accuracy: 52.65957260131836. Testing accuracy: 39.58333206176758. Duration: 0.039s.\n",
      "\n",
      "Epoch 20/100.\n",
      "Training accuracy: 52.65957260131836. Testing accuracy: 39.58333206176758. Duration: 0.042s.\n",
      "\n",
      "Epoch 21/100.\n",
      "Training accuracy: 52.65957260131836. Testing accuracy: 39.58333206176758. Duration: 0.040s.\n",
      "\n",
      "Epoch 22/100.\n",
      "Training accuracy: 52.65957260131836. Testing accuracy: 39.58333206176758. Duration: 0.038s.\n",
      "\n",
      "Epoch 23/100.\n",
      "Training accuracy: 54.787235260009766. Testing accuracy: 41.66666793823242. Duration: 0.039s.\n",
      "\n",
      "Epoch 24/100.\n",
      "Training accuracy: 56.38298034667969. Testing accuracy: 41.66666793823242. Duration: 0.038s.\n",
      "\n",
      "Epoch 25/100.\n",
      "Training accuracy: 60.63829803466797. Testing accuracy: 43.75. Duration: 0.041s.\n",
      "\n",
      "Epoch 26/100.\n",
      "Training accuracy: 72.34042358398438. Testing accuracy: 45.83333206176758. Duration: 0.072s.\n",
      "\n",
      "Epoch 27/100.\n",
      "Training accuracy: 59.04255294799805. Testing accuracy: 43.75. Duration: 0.066s.\n",
      "\n",
      "Epoch 28/100.\n",
      "Training accuracy: 75.0. Testing accuracy: 43.75. Duration: 0.069s.\n",
      "\n",
      "Epoch 29/100.\n",
      "Training accuracy: 75.53191375732422. Testing accuracy: 45.83333206176758. Duration: 0.069s.\n",
      "\n",
      "Epoch 30/100.\n",
      "Training accuracy: 68.0851058959961. Testing accuracy: 39.58333206176758. Duration: 0.069s.\n",
      "\n",
      "Epoch 31/100.\n",
      "Training accuracy: 77.65957641601562. Testing accuracy: 47.91666793823242. Duration: 0.047s.\n",
      "\n",
      "Epoch 32/100.\n",
      "Training accuracy: 77.1276626586914. Testing accuracy: 52.08333206176758. Duration: 0.066s.\n",
      "\n",
      "Epoch 33/100.\n",
      "Training accuracy: 77.65957641601562. Testing accuracy: 47.91666793823242. Duration: 0.069s.\n",
      "\n",
      "Epoch 34/100.\n",
      "Training accuracy: 77.65957641601562. Testing accuracy: 52.08333206176758. Duration: 0.069s.\n",
      "\n",
      "Epoch 35/100.\n",
      "Training accuracy: 77.1276626586914. Testing accuracy: 45.83333206176758. Duration: 0.088s.\n",
      "\n",
      "Epoch 36/100.\n",
      "Training accuracy: 79.7872314453125. Testing accuracy: 45.83333206176758. Duration: 0.100s.\n",
      "\n",
      "Epoch 37/100.\n",
      "Training accuracy: 78.72340393066406. Testing accuracy: 45.83333206176758. Duration: 0.106s.\n",
      "\n",
      "Epoch 38/100.\n",
      "Training accuracy: 79.7872314453125. Testing accuracy: 60.41666793823242. Duration: 0.106s.\n",
      "\n",
      "Epoch 39/100.\n",
      "Training accuracy: 79.25531768798828. Testing accuracy: 54.16666793823242. Duration: 0.107s.\n",
      "\n",
      "Epoch 40/100.\n",
      "Training accuracy: 83.51063537597656. Testing accuracy: 52.08333206176758. Duration: 0.107s.\n",
      "\n",
      "Epoch 41/100.\n",
      "Training accuracy: 84.04255676269531. Testing accuracy: 56.25. Duration: 0.106s.\n",
      "\n",
      "Epoch 42/100.\n",
      "Training accuracy: 84.04255676269531. Testing accuracy: 52.08333206176758. Duration: 0.106s.\n",
      "\n",
      "Epoch 43/100.\n",
      "Training accuracy: 85.10638427734375. Testing accuracy: 56.25. Duration: 0.106s.\n",
      "\n",
      "Epoch 44/100.\n",
      "Training accuracy: 86.7021255493164. Testing accuracy: 54.16666793823242. Duration: 0.106s.\n",
      "\n",
      "Epoch 45/100.\n",
      "Training accuracy: 81.38298034667969. Testing accuracy: 52.08333206176758. Duration: 0.106s.\n",
      "\n",
      "Epoch 46/100.\n",
      "Training accuracy: 85.10638427734375. Testing accuracy: 54.16666793823242. Duration: 0.109s.\n",
      "\n",
      "Epoch 47/100.\n",
      "Training accuracy: 82.97872161865234. Testing accuracy: 58.33333206176758. Duration: 0.106s.\n",
      "\n",
      "Epoch 48/100.\n",
      "Training accuracy: 81.38298034667969. Testing accuracy: 52.08333206176758. Duration: 0.106s.\n",
      "\n",
      "Epoch 49/100.\n",
      "Training accuracy: 87.23403930664062. Testing accuracy: 58.33333206176758. Duration: 0.106s.\n",
      "\n",
      "Epoch 50/100.\n",
      "Training accuracy: 84.57447052001953. Testing accuracy: 62.5. Duration: 0.106s.\n",
      "\n",
      "Epoch 51/100.\n",
      "Training accuracy: 87.23403930664062. Testing accuracy: 62.5. Duration: 0.107s.\n",
      "\n",
      "Epoch 52/100.\n",
      "Training accuracy: 85.63829803466797. Testing accuracy: 60.41666793823242. Duration: 0.106s.\n",
      "\n",
      "Epoch 53/100.\n",
      "Training accuracy: 89.89361572265625. Testing accuracy: 56.25. Duration: 0.106s.\n",
      "\n",
      "Epoch 54/100.\n",
      "Training accuracy: 91.48936462402344. Testing accuracy: 54.16666793823242. Duration: 0.106s.\n",
      "\n",
      "Epoch 55/100.\n",
      "Training accuracy: 88.82978820800781. Testing accuracy: 62.5. Duration: 0.096s.\n",
      "\n",
      "Epoch 56/100.\n",
      "Training accuracy: 92.02127838134766. Testing accuracy: 56.25. Duration: 0.061s.\n",
      "\n",
      "Epoch 57/100.\n",
      "Training accuracy: 92.02127838134766. Testing accuracy: 60.41666793823242. Duration: 0.051s.\n",
      "\n",
      "Epoch 58/100.\n",
      "Training accuracy: 89.36170196533203. Testing accuracy: 58.33333206176758. Duration: 0.049s.\n",
      "\n",
      "Epoch 59/100.\n",
      "Training accuracy: 91.48936462402344. Testing accuracy: 58.33333206176758. Duration: 0.051s.\n",
      "\n",
      "Epoch 60/100.\n",
      "Training accuracy: 92.55319213867188. Testing accuracy: 56.25. Duration: 0.051s.\n",
      "\n",
      "Epoch 61/100.\n",
      "Training accuracy: 93.0851058959961. Testing accuracy: 56.25. Duration: 0.056s.\n",
      "\n",
      "Epoch 62/100.\n",
      "Training accuracy: 93.0851058959961. Testing accuracy: 60.41666793823242. Duration: 0.053s.\n",
      "\n",
      "Epoch 63/100.\n",
      "Training accuracy: 93.61701965332031. Testing accuracy: 58.33333206176758. Duration: 0.051s.\n",
      "\n",
      "Epoch 64/100.\n",
      "Training accuracy: 93.61701965332031. Testing accuracy: 56.25. Duration: 0.057s.\n",
      "\n",
      "Epoch 65/100.\n",
      "Training accuracy: 94.14893341064453. Testing accuracy: 56.25. Duration: 0.049s.\n",
      "\n",
      "Epoch 66/100.\n",
      "Training accuracy: 93.61701965332031. Testing accuracy: 60.41666793823242. Duration: 0.050s.\n",
      "\n",
      "Epoch 67/100.\n",
      "Training accuracy: 92.55319213867188. Testing accuracy: 54.16666793823242. Duration: 0.066s.\n",
      "\n",
      "Epoch 68/100.\n",
      "Training accuracy: 94.14893341064453. Testing accuracy: 62.5. Duration: 0.045s.\n",
      "\n",
      "Epoch 69/100.\n",
      "Training accuracy: 95.2127685546875. Testing accuracy: 60.41666793823242. Duration: 0.036s.\n",
      "\n",
      "Epoch 70/100.\n",
      "Training accuracy: 94.14893341064453. Testing accuracy: 52.08333206176758. Duration: 0.040s.\n",
      "\n",
      "Epoch 71/100.\n",
      "Training accuracy: 95.2127685546875. Testing accuracy: 54.16666793823242. Duration: 0.037s.\n",
      "\n",
      "Epoch 72/100.\n",
      "Training accuracy: 95.74468231201172. Testing accuracy: 60.41666793823242. Duration: 0.033s.\n",
      "\n",
      "Epoch 73/100.\n",
      "Training accuracy: 95.74468231201172. Testing accuracy: 60.41666793823242. Duration: 0.029s.\n",
      "\n",
      "Epoch 74/100.\n",
      "Training accuracy: 95.74468231201172. Testing accuracy: 52.08333206176758. Duration: 0.016s.\n",
      "\n",
      "Epoch 75/100.\n",
      "Training accuracy: 96.27659606933594. Testing accuracy: 62.5. Duration: 0.015s.\n",
      "\n",
      "Epoch 76/100.\n",
      "Training accuracy: 95.2127685546875. Testing accuracy: 56.25. Duration: 0.017s.\n",
      "\n",
      "Epoch 77/100.\n",
      "Training accuracy: 94.14893341064453. Testing accuracy: 50.0. Duration: 0.020s.\n",
      "\n",
      "Epoch 78/100.\n",
      "Training accuracy: 96.80850982666016. Testing accuracy: 56.25. Duration: 0.013s.\n",
      "\n",
      "Epoch 79/100.\n",
      "Training accuracy: 97.34042358398438. Testing accuracy: 60.41666793823242. Duration: 0.017s.\n",
      "\n",
      "Epoch 80/100.\n",
      "Training accuracy: 95.74468231201172. Testing accuracy: 54.16666793823242. Duration: 0.018s.\n",
      "\n",
      "Epoch 81/100.\n",
      "Training accuracy: 95.74468231201172. Testing accuracy: 52.08333206176758. Duration: 0.015s.\n",
      "\n",
      "Epoch 82/100.\n",
      "Training accuracy: 96.27659606933594. Testing accuracy: 58.33333206176758. Duration: 0.016s.\n",
      "\n",
      "Epoch 83/100.\n",
      "Training accuracy: 96.80850982666016. Testing accuracy: 56.25. Duration: 0.013s.\n",
      "\n",
      "Epoch 84/100.\n",
      "Training accuracy: 96.27659606933594. Testing accuracy: 47.91666793823242. Duration: 0.020s.\n",
      "\n",
      "Epoch 85/100.\n",
      "Training accuracy: 96.27659606933594. Testing accuracy: 58.33333206176758. Duration: 0.019s.\n",
      "\n",
      "Epoch 86/100.\n",
      "Training accuracy: 96.80850982666016. Testing accuracy: 60.41666793823242. Duration: 0.019s.\n",
      "\n",
      "Epoch 87/100.\n",
      "Training accuracy: 96.27659606933594. Testing accuracy: 52.08333206176758. Duration: 0.018s.\n",
      "\n",
      "Epoch 88/100.\n",
      "Training accuracy: 97.34042358398438. Testing accuracy: 54.16666793823242. Duration: 0.011s.\n",
      "\n",
      "Epoch 89/100.\n",
      "Training accuracy: 96.27659606933594. Testing accuracy: 58.33333206176758. Duration: 0.014s.\n",
      "\n",
      "Epoch 90/100.\n",
      "Training accuracy: 96.27659606933594. Testing accuracy: 58.33333206176758. Duration: 0.014s.\n",
      "\n",
      "Epoch 91/100.\n",
      "Training accuracy: 96.80850982666016. Testing accuracy: 54.16666793823242. Duration: 0.018s.\n",
      "\n",
      "Epoch 92/100.\n",
      "Training accuracy: 96.80850982666016. Testing accuracy: 54.16666793823242. Duration: 0.017s.\n",
      "\n",
      "Epoch 93/100.\n",
      "Training accuracy: 96.80850982666016. Testing accuracy: 54.16666793823242. Duration: 0.018s.\n",
      "\n",
      "Epoch 94/100.\n",
      "Training accuracy: 97.34042358398438. Testing accuracy: 60.41666793823242. Duration: 0.023s.\n",
      "\n",
      "Epoch 95/100.\n",
      "Training accuracy: 97.34042358398438. Testing accuracy: 56.25. Duration: 0.021s.\n",
      "\n",
      "Epoch 96/100.\n",
      "Training accuracy: 98.40425872802734. Testing accuracy: 56.25. Duration: 0.018s.\n",
      "\n",
      "Epoch 97/100.\n",
      "Training accuracy: 97.34042358398438. Testing accuracy: 50.0. Duration: 0.025s.\n",
      "\n",
      "Epoch 98/100.\n",
      "Training accuracy: 98.40425872802734. Testing accuracy: 52.08333206176758. Duration: 0.022s.\n",
      "\n",
      "Epoch 99/100.\n",
      "Training accuracy: 96.80850982666016. Testing accuracy: 56.25. Duration: 0.020s.\n",
      "\n",
      "Epoch 100/100.\n",
      "Training accuracy: 97.34042358398438. Testing accuracy: 58.33333206176758. Duration: 0.037s.\n"
     ]
    },
    {
     "data": {
      "image/png": "[encoded data removed]",
      "text/plain": [
       "<Figure size 640x480 with 1 Axes>"
      ]
     },
     "metadata": {},
     "output_type": "display_data"
    },
    {
     "data": {
      "image/png": "[encoded data removed]",
      "text/plain": [
       "<Figure size 640x480 with 1 Axes>"
      ]
     },
     "metadata": {},
     "output_type": "display_data"
    },
    {
     "data": {
      "application/vnd.jupyter.widget-view+json": {
       "model_id": "5fd187aec93649d6bafa75b93afd2d96",
       "version_major": 2,
       "version_minor": 0
      },
      "text/plain": [
       "VBox(children=(Label(value='0.004 MB of 0.007 MB uploaded\\r'), FloatProgress(value=0.5767188916224265, max=1.0…"
      ]
     },
     "metadata": {},
     "output_type": "display_data"
    },
    {
     "data": {
      "text/html": [
       "<style>\n",
       "    table.wandb td:nth-child(1) { padding: 0 10px; text-align: left ; width: auto;} td:nth-child(2) {text-align: left ; width: 100%}\n",
       "    .wandb-row { display: flex; flex-direction: row; flex-wrap: wrap; justify-content: flex-start; width: 100% }\n",
       "    .wandb-col { display: flex; flex-direction: column; flex-basis: 100%; flex: 1; padding: 10px; }\n",
       "    </style>\n",
       "<div class=\"wandb-row\"><div class=\"wandb-col\"><h3>Run history:</h3><br/><table class=\"wandb\"><tr><td>test_acc</td><td>▁▁▁▁▁▁▁▁▁▂▃▂▄▅▃▅▆▅▅▇█▅▆▇▆▆▅▇▇▅▄▇▇▄▅▇▅▇▄▇</td></tr><tr><td>train_acc</td><td>▁▁▁▁▁▁▁▁▁▁▄▅▅▅▅▅▆▆▆▆▆▇▇▇▇▇▇███▇█████████</td></tr><tr><td>train_loss</td><td>█████████▇▇█▆▅▅▅▅▅▃▅▅▃▃▂▃▂▂▄▃▃▂▂▂▂▂▁▁▂▂▂</td></tr></table><br/></div><div class=\"wandb-col\"><h3>Run summary:</h3><br/><table class=\"wandb\"><tr><td>test_acc</td><td>58.33333</td></tr><tr><td>train_acc</td><td>97.34042</td></tr><tr><td>train_loss</td><td>0.41514</td></tr></table><br/></div></div>"
      ],
      "text/plain": [
       "<IPython.core.display.HTML object>"
      ]
     },
     "metadata": {},
     "output_type": "display_data"
    },
    {
     "data": {
      "text/html": [
       " View run <strong style=\"color:#cdcd00\">Experiment 1</strong> at: <a href='https://wandb.ai/d-hadjikazemi-queen-mary-university-of-london/NASA_turbo_fan/runs/xhp9w7wq' target=\"_blank\">https://wandb.ai/d-hadjikazemi-queen-mary-university-of-london/NASA_turbo_fan/runs/xhp9w7wq</a><br/> View project at: <a href='https://wandb.ai/d-hadjikazemi-queen-mary-university-of-london/NASA_turbo_fan' target=\"_blank\">https://wandb.ai/d-hadjikazemi-queen-mary-university-of-london/NASA_turbo_fan</a><br/>Synced 6 W&B file(s), 0 media file(s), 0 artifact file(s) and 0 other file(s)"
      ],
      "text/plain": [
       "<IPython.core.display.HTML object>"
      ]
     },
     "metadata": {},
     "output_type": "display_data"
    },
    {
     "data": {
      "text/html": [
       "Find logs at: <code>./wandb/run-20240718_213616-xhp9w7wq/logs</code>"
      ],
      "text/plain": [
       "<IPython.core.display.HTML object>"
      ]
     },
     "metadata": {},
     "output_type": "display_data"
    },
    {
     "data": {
      "text/html": [
       "The new W&B backend becomes opt-out in version 0.18.0; try it out with `wandb.require(\"core\")`! See https://wandb.me/wandb-core for more information."
      ],
      "text/plain": [
       "<IPython.core.display.HTML object>"
      ]
     },
     "metadata": {},
     "output_type": "display_data"
    }
   ],
   "source": [
    "wandb.init(\n",
    "    # set the wandb project where this run will be logged\n",
    "    project=\"NASA_turbo_fan\",\n",
    "    name= \"Experiment 1\",\n",
    "    # track hyperparameters and run metadata\n",
    "    config={\n",
    "    \"learning_rate\": 0.001,\n",
    "    \"architecture\": \"CNN\",\n",
    "    \"epochs\": 100,\n",
    "    \"loss\": nn.BCELoss(),\n",
    "    \"batch_size\": 64,\n",
    "    \"decay\":1e-5\n",
    "    }\n",
    ")\n",
    "config = wandb.config\n",
    "\n",
    "train_loader, test_loader = data_loading(data_path='data.pt', label_path='label.pt',batch_size= config.batch_size)\n",
    "\n",
    "losses = [] # Stores the loss for each training batch\n",
    "train_accs = [] # Stores the training accuracy after each epoch\n",
    "test_accs = [] # Stores the testing accuracy after each epoch\n",
    "\n",
    "# Create an instance of the CNN\n",
    "model = SimpleCNN()\n",
    "\n",
    "# Loss and optimizer\n",
    "loss = nn.CrossEntropyLoss()\n",
    "optimizer = torch.optim.Adam(model.parameters(), lr=config.learning_rate, weight_decay=config.decay)\n",
    "\n",
    "model.to(device)\n",
    "\n",
    "num_epochs = 100\n",
    "for epoch in range(config.epochs):\n",
    "    print(f'\\nEpoch {epoch + 1}/{num_epochs}.')\n",
    "    start_time = time.perf_counter()\n",
    "\n",
    "    model.train() # This is necessary because batch normalization behaves differently between training and evaluation\n",
    "\n",
    "    for X, y in train_loader:\n",
    "        X, y = X.to(device), y.to(device) # Moves data to `device`\n",
    "        logits = model(X) # Computes the logits for the batch of images `X`\n",
    "        l = loss(logits, y) # Computes the loss given the `logits` and the class vector `y`\n",
    "        optimizer.zero_grad() # Zeroes the gradients stored in the model parameters\n",
    "        l.backward() # Computes the gradient of the loss `l` with respect to the model parameters\n",
    "\n",
    "        optimizer.step() # Updates the model parameters based on the gradients stored inside them\n",
    "\n",
    "        train_loss = float(l)\n",
    "        losses.append(train_loss) # Stores the loss for this batch\n",
    "\n",
    "    model.eval() # This is necessary because batch normalization behaves differently between training and evaluation\n",
    "    train_acc = evaluate_metric(model, train_loader, correct)\n",
    "    train_accs.append(train_acc)\n",
    "    test_acc = evaluate_metric(model, test_loader, correct)\n",
    "    test_accs.append(test_acc)\n",
    "    metrics = {\"train_loss\": train_loss,\n",
    "               \"train_acc\": train_acc,\n",
    "               \"test_acc\": test_acc}\n",
    "    wandb.log(metrics)\n",
    "\n",
    "    end_time = time.perf_counter()\n",
    "\n",
    "    print(f'Training accuracy: {train_accs[-1]}. Testing accuracy: {test_accs[-1]}. Duration: {end_time - start_time:.3f}s.') # Computes and displays training/testing dataset accuracy.\n",
    "\n",
    "plt.plot(losses) # Plots the loss for each training batch\n",
    "plt.xlabel('Training batch')\n",
    "plt.ylabel('Cross entropy loss')\n",
    "plt.show()\n",
    "\n",
    "plt.plot(list(map(lambda x: x.cpu(),train_accs)), label='Training accuracy')\n",
    "plt.plot(list(map(lambda x: x.cpu(),test_accs)), label='Testing accuracy')\n",
    "plt.legend(loc='best')\n",
    "plt.xlabel('Epoch')\n",
    "plt.show()\n",
    "wandb.finish()"
   ]
  },
  {
   "cell_type": "code",
   "execution_count": 7,
   "metadata": {},
   "outputs": [
    {
     "name": "stdout",
     "output_type": "stream",
     "text": [
      "max test accuracy 62.5\n"
     ]
    }
   ],
   "source": [
    "print('max test accuracy {}'.format(max(test_accs)))"
   ]
  },
  {
   "cell_type": "markdown",
   "metadata": {},
   "source": [
    "# Training function\n",
    "def train(model, train_loader, criterion, optimizer, epochs=100):\n",
    "    model.train()\n",
    "    for epoch in range(epochs):\n",
    "        running_loss = 0.0\n",
    "        for inputs, labels in train_loader:\n",
    "            # Move data to the appropriate device (CPU or GPU)\n",
    "            inputs, labels = inputs.to(device), labels.to(device)\n",
    "            \n",
    "            # Zero the parameter gradients\n",
    "            optimizer.zero_grad()\n",
    "            \n",
    "            # Forward pass\n",
    "            outputs = model(inputs)\n",
    "            loss = criterion(outputs, labels)\n",
    "            \n",
    "            # Backward pass and optimize\n",
    "            loss.backward()\n",
    "            optimizer.step()\n",
    "            \n",
    "            running_loss += loss.item()\n",
    "        \n",
    "        print(f'Epoch [{epoch + 1}/{epochs}], Loss: {running_loss / len(train_loader):.4f}')\n"
   ]
  },
  {
   "cell_type": "markdown",
   "metadata": {},
   "source": [
    "# Evaluation function\n",
    "def evaluate(model, test_loader, criterion):\n",
    "    model.eval()\n",
    "    test_loss = 0.0\n",
    "    correct = 0\n",
    "    total = 0\n",
    "    with torch.no_grad():\n",
    "        for inputs, labels in test_loader:\n",
    "            inputs, labels = inputs.to(device), labels.to(device)\n",
    "            outputs = model(inputs)\n",
    "            loss = criterion(outputs, labels)\n",
    "            test_loss += loss.item()\n",
    "            predicted = outputs.argmax(axis=1)\n",
    "            total += labels.size(0)\n",
    "            correct += (predicted == labels).sum().item()\n",
    "    \n",
    "    accuracy = 100 * correct / total\n",
    "    print(f'Test Loss: {test_loss / len(test_loader):.4f}, Test Accuracy: {accuracy:.2f}%')"
   ]
  },
  {
   "cell_type": "markdown",
   "metadata": {},
   "source": [
    "# Train the model\n",
    "train(model, train_loader, criterion, optimizer, epochs=100)\n",
    "\n",
    "# Evaluate the model\n",
    "evaluate(model, test_loader, criterion)"
   ]
  }
 ],
 "metadata": {
  "kernelspec": {
   "display_name": "Python 3 (ipykernel)",
   "language": "python",
   "name": "python3"
  },
  "language_info": {
   "codemirror_mode": {
    "name": "ipython",
    "version": 3
   },
   "file_extension": ".py",
   "mimetype": "text/x-python",
   "name": "python",
   "nbconvert_exporter": "python",
   "pygments_lexer": "ipython3",
   "version": "3.10.0"
  }
 },
 "nbformat": 4,
 "nbformat_minor": 2
}
