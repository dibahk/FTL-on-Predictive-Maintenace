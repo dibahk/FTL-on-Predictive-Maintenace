{
 "cells": [
  {
   "cell_type": "code",
   "execution_count": 1,
   "metadata": {},
   "outputs": [
    {
     "name": "stdout",
     "output_type": "stream",
     "text": [
      "Using cuda.\n"
     ]
    }
   ],
   "source": [
    "%matplotlib inline\n",
    "import matplotlib.pyplot as plt\n",
    "import torchvision\n",
    "from torch.utils.data import TensorDataset, random_split, DataLoader\n",
    "import torch.nn as nn\n",
    "import time\n",
    "import wandb\n",
    "from imblearn.over_sampling import SMOTE\n",
    "import torch\n",
    "device = torch.device('cuda' if torch.cuda.is_available() else 'cpu')\n",
    "print(f'Using {device}.')"
   ]
  },
  {
   "cell_type": "code",
   "execution_count": 2,
   "metadata": {},
   "outputs": [],
   "source": [
    "def data_loading(data_path, label_path, batch_size, train_ratio=0.8):\n",
    "    data = torch.load(data_path)\n",
    "    labels = torch.load(label_path)\n",
    "    data = nn.functional.normalize(data, dim=1)\n",
    "    \n",
    "    # reshaping the dataset so  the channels will be the second dimension.\n",
    "    data = data.permute(0, 2, 1)\n",
    "    n_samples, n_channels, n_features = data.shape\n",
    "    print(type(data))\n",
    "    X_reshaped = data.reshape(n_samples, -1) \n",
    "    # Apply SMOTE\n",
    "    smote = SMOTE(sampling_strategy='minority')\n",
    "    data_resampled, labels_resampled = smote.fit_resample(X_reshaped, labels)\n",
    "\n",
    "    # Reshape X_resampled back to 3D\n",
    "    data_resampled = data_resampled.reshape(-1, n_channels, n_features)\n",
    "    print(type(labels_resampled))\n",
    "    print(data_resampled.shape)\n",
    "    data_resampled = torch.tensor(data_resampled)\n",
    "    labels_resampled = torch.tensor(labels_resampled)\n",
    "    dataset = TensorDataset(data_resampled, labels_resampled)\n",
    "    train_size = int(train_ratio * len(dataset))\n",
    "    test_size = len(dataset) - train_size\n",
    "    train_dataset, test_dataset = random_split(dataset, [train_size, test_size])\n",
    "    return DataLoader(train_dataset, batch_size=batch_size, shuffle=True), DataLoader(test_dataset, batch_size=batch_size, shuffle=False)\n"
   ]
  },
  {
   "cell_type": "code",
   "execution_count": 3,
   "metadata": {},
   "outputs": [],
   "source": [
    "# Define the CNN architecture\n",
    "class SimpleCNN(nn.Module):\n",
    "    def __init__(self, dropout):\n",
    "        super(SimpleCNN, self).__init__()\n",
    "        self.conv1 = nn.Conv1d(in_channels=4, out_channels=32, kernel_size=5)\n",
    "        self.bn1 = nn.BatchNorm1d(32)\n",
    "        self.conv2 = nn.Conv1d(in_channels=32, out_channels=32, kernel_size=5)\n",
    "        self.bn2 = nn.BatchNorm1d(32)\n",
    "        self.pool = nn.MaxPool1d(kernel_size=2, padding=0, stride=1)\n",
    "        # the size of the out channels x number  of nodes \n",
    "        self.fc1 = nn.Linear(32*91, 200)\n",
    "        self.fc2 = nn.Linear(200, 2)\n",
    "        self.flatten = nn.Flatten()\n",
    "        self.relu = nn.ReLU()\n",
    "        self.dropout = nn.Dropout(dropout)\n",
    "        self.sigmoid = nn.Sigmoid()\n",
    "\n",
    "    def forward(self, x):\n",
    "        x = self.relu(self.bn1(self.conv1(x)))\n",
    "        x = self.relu(self.bn2(self.conv2(x)))\n",
    "        x = self.dropout(x)\n",
    "        x = self.pool(x)\n",
    "        x = self.flatten(x)\n",
    "        x = self.relu(self.fc1(x))\n",
    "        x - self.dropout(x)\n",
    "        x = self.sigmoid(self.fc2(x))\n",
    "        return x"
   ]
  },
  {
   "cell_type": "code",
   "execution_count": 4,
   "metadata": {},
   "outputs": [],
   "source": [
    "def correct(logits, y):\n",
    "    y_hat = logits.argmax(axis=1) # Finds the column with the highest value for each row of `logits`.\n",
    "    return (y_hat == y).float().sum() # Computes the number of times that `y_hat` and `y` match."
   ]
  },
  {
   "cell_type": "code",
   "execution_count": 5,
   "metadata": {},
   "outputs": [],
   "source": [
    "def evaluate_metric(model, data_iter, metric):\n",
    "    \"\"\"Compute the average `metric` of the model on a dataset.\"\"\"\n",
    "    c = torch.tensor(0.).to(device)\n",
    "    n = torch.tensor(0.).to(device)\n",
    "    for X, y in data_iter:\n",
    "        X, y = X.to(device), y.to(device) # Moves data to `device`\n",
    "        logits = model(X)\n",
    "        c += metric(logits, y)\n",
    "        n += len(y)\n",
    "    return c*100 / n"
   ]
  },
  {
   "cell_type": "code",
   "execution_count": 6,
   "metadata": {},
   "outputs": [
    {
     "name": "stderr",
     "output_type": "stream",
     "text": [
      "\u001b[34m\u001b[1mwandb\u001b[0m: Currently logged in as: \u001b[33md-hadjikazemi\u001b[0m (\u001b[33md-hadjikazemi-queen-mary-university-of-london\u001b[0m). Use \u001b[1m`wandb login --relogin`\u001b[0m to force relogin\n"
     ]
    },
    {
     "data": {
      "text/html": [
       "wandb version 0.17.5 is available!  To upgrade, please run:\n",
       " $ pip install wandb --upgrade"
      ],
      "text/plain": [
       "<IPython.core.display.HTML object>"
      ]
     },
     "metadata": {},
     "output_type": "display_data"
    },
    {
     "data": {
      "text/html": [
       "Tracking run with wandb version 0.17.4"
      ],
      "text/plain": [
       "<IPython.core.display.HTML object>"
      ]
     },
     "metadata": {},
     "output_type": "display_data"
    },
    {
     "data": {
      "text/html": [
       "Run data is saved locally in <code>/home/diba/wandb/run-20240720_001935-ia4bh3xj</code>"
      ],
      "text/plain": [
       "<IPython.core.display.HTML object>"
      ]
     },
     "metadata": {},
     "output_type": "display_data"
    },
    {
     "data": {
      "text/html": [
       "Syncing run <strong><a href='https://wandb.ai/d-hadjikazemi-queen-mary-university-of-london/AZURE/runs/ia4bh3xj' target=\"_blank\">With batchnorm1d_1</a></strong> to <a href='https://wandb.ai/d-hadjikazemi-queen-mary-university-of-london/AZURE' target=\"_blank\">Weights & Biases</a> (<a href='https://wandb.me/run' target=\"_blank\">docs</a>)<br/>"
      ],
      "text/plain": [
       "<IPython.core.display.HTML object>"
      ]
     },
     "metadata": {},
     "output_type": "display_data"
    },
    {
     "data": {
      "text/html": [
       " View project at <a href='https://wandb.ai/d-hadjikazemi-queen-mary-university-of-london/AZURE' target=\"_blank\">https://wandb.ai/d-hadjikazemi-queen-mary-university-of-london/AZURE</a>"
      ],
      "text/plain": [
       "<IPython.core.display.HTML object>"
      ]
     },
     "metadata": {},
     "output_type": "display_data"
    },
    {
     "data": {
      "text/html": [
       " View run at <a href='https://wandb.ai/d-hadjikazemi-queen-mary-university-of-london/AZURE/runs/ia4bh3xj' target=\"_blank\">https://wandb.ai/d-hadjikazemi-queen-mary-university-of-london/AZURE/runs/ia4bh3xj</a>"
      ],
      "text/plain": [
       "<IPython.core.display.HTML object>"
      ]
     },
     "metadata": {},
     "output_type": "display_data"
    },
    {
     "name": "stdout",
     "output_type": "stream",
     "text": [
      "<class 'torch.Tensor'>\n",
      "<class 'numpy.ndarray'>\n",
      "(2860, 4, 100)\n",
      "\n",
      "Epoch 1/100.\n",
      "Training accuracy: 50.21853256225586. Testing accuracy: 49.12587356567383. Duration: 1.265s.\n",
      "\n",
      "Epoch 2/100.\n",
      "Training accuracy: 50.21853256225586. Testing accuracy: 49.12587356567383. Duration: 0.623s.\n",
      "\n",
      "Epoch 3/100.\n",
      "Training accuracy: 84.13461303710938. Testing accuracy: 79.72028350830078. Duration: 1.015s.\n",
      "\n",
      "Epoch 4/100.\n",
      "Training accuracy: 86.18881225585938. Testing accuracy: 84.09091186523438. Duration: 1.038s.\n",
      "\n",
      "Epoch 5/100.\n",
      "Training accuracy: 86.14510345458984. Testing accuracy: 83.91608428955078. Duration: 1.035s.\n",
      "\n",
      "Epoch 6/100.\n",
      "Training accuracy: 84.83391571044922. Testing accuracy: 82.69230651855469. Duration: 0.939s.\n",
      "\n",
      "Epoch 7/100.\n",
      "Training accuracy: 87.10664367675781. Testing accuracy: 84.26573181152344. Duration: 0.654s.\n",
      "\n",
      "Epoch 8/100.\n",
      "Training accuracy: 86.2325210571289. Testing accuracy: 83.91608428955078. Duration: 0.376s.\n",
      "\n",
      "Epoch 9/100.\n",
      "Training accuracy: 87.80594635009766. Testing accuracy: 85.48950958251953. Duration: 0.663s.\n",
      "\n",
      "Epoch 10/100.\n",
      "Training accuracy: 87.3251724243164. Testing accuracy: 84.61538696289062. Duration: 1.037s.\n",
      "\n",
      "Epoch 11/100.\n",
      "Training accuracy: 89.55419921875. Testing accuracy: 87.06293487548828. Duration: 1.035s.\n",
      "\n",
      "Epoch 12/100.\n",
      "Training accuracy: 90.69055938720703. Testing accuracy: 87.23776245117188. Duration: 1.034s.\n",
      "\n",
      "Epoch 13/100.\n",
      "Training accuracy: 89.42308044433594. Testing accuracy: 86.53845977783203. Duration: 1.036s.\n",
      "\n",
      "Epoch 14/100.\n",
      "Training accuracy: 90.07867431640625. Testing accuracy: 87.58740997314453. Duration: 0.916s.\n",
      "\n",
      "Epoch 15/100.\n",
      "Training accuracy: 88.94230651855469. Testing accuracy: 86.01398468017578. Duration: 0.669s.\n",
      "\n",
      "Epoch 16/100.\n",
      "Training accuracy: 91.30244445800781. Testing accuracy: 89.68531799316406. Duration: 0.398s.\n",
      "\n",
      "Epoch 17/100.\n",
      "Training accuracy: 87.01923370361328. Testing accuracy: 84.09091186523438. Duration: 0.692s.\n",
      "\n",
      "Epoch 18/100.\n",
      "Training accuracy: 90.38461303710938. Testing accuracy: 87.76223754882812. Duration: 1.039s.\n",
      "\n",
      "Epoch 19/100.\n",
      "Training accuracy: 88.41783142089844. Testing accuracy: 85.48950958251953. Duration: 1.036s.\n",
      "\n",
      "Epoch 20/100.\n",
      "Training accuracy: 89.68531799316406. Testing accuracy: 87.23776245117188. Duration: 1.035s.\n",
      "\n",
      "Epoch 21/100.\n",
      "Training accuracy: 89.02971649169922. Testing accuracy: 86.18881225585938. Duration: 1.038s.\n",
      "\n",
      "Epoch 22/100.\n",
      "Training accuracy: 88.24300384521484. Testing accuracy: 85.31468200683594. Duration: 0.923s.\n",
      "\n",
      "Epoch 23/100.\n",
      "Training accuracy: 88.59265899658203. Testing accuracy: 85.66433715820312. Duration: 0.668s.\n",
      "\n",
      "Epoch 24/100.\n",
      "Training accuracy: 89.99125671386719. Testing accuracy: 87.41259002685547. Duration: 0.423s.\n",
      "\n",
      "Epoch 25/100.\n",
      "Training accuracy: 90.55944061279297. Testing accuracy: 87.93706512451172. Duration: 0.660s.\n",
      "\n",
      "Epoch 26/100.\n",
      "Training accuracy: 91.21503448486328. Testing accuracy: 89.51049041748047. Duration: 1.017s.\n",
      "\n",
      "Epoch 27/100.\n",
      "Training accuracy: 88.81118774414062. Testing accuracy: 85.83915710449219. Duration: 1.032s.\n",
      "\n",
      "Epoch 28/100.\n",
      "Training accuracy: 90.07867431640625. Testing accuracy: 87.41259002685547. Duration: 1.040s.\n",
      "\n",
      "Epoch 29/100.\n",
      "Training accuracy: 91.4772720336914. Testing accuracy: 88.28671264648438. Duration: 1.035s.\n",
      "\n",
      "Epoch 30/100.\n",
      "Training accuracy: 90.99650573730469. Testing accuracy: 88.11188507080078. Duration: 0.956s.\n",
      "\n",
      "Epoch 31/100.\n",
      "Training accuracy: 88.24300384521484. Testing accuracy: 85.31468200683594. Duration: 0.734s.\n",
      "\n",
      "Epoch 32/100.\n",
      "Training accuracy: 91.43356323242188. Testing accuracy: 88.63636016845703. Duration: 0.414s.\n",
      "\n",
      "Epoch 33/100.\n",
      "Training accuracy: 89.42308044433594. Testing accuracy: 86.88811492919922. Duration: 0.457s.\n",
      "\n",
      "Epoch 34/100.\n",
      "Training accuracy: 91.30244445800781. Testing accuracy: 88.81118774414062. Duration: 1.008s.\n",
      "\n",
      "Epoch 35/100.\n",
      "Training accuracy: 90.73426818847656. Testing accuracy: 87.93706512451172. Duration: 1.036s.\n",
      "\n",
      "Epoch 36/100.\n",
      "Training accuracy: 88.68006896972656. Testing accuracy: 86.18881225585938. Duration: 1.034s.\n",
      "\n",
      "Epoch 37/100.\n",
      "Training accuracy: 90.55944061279297. Testing accuracy: 87.76223754882812. Duration: 0.921s.\n",
      "\n",
      "Epoch 38/100.\n",
      "Training accuracy: 92.39510345458984. Testing accuracy: 89.86013793945312. Duration: 0.567s.\n",
      "\n",
      "Epoch 39/100.\n",
      "Training accuracy: 90.25349426269531. Testing accuracy: 86.18881225585938. Duration: 0.415s.\n",
      "\n",
      "Epoch 40/100.\n",
      "Training accuracy: 90.12237548828125. Testing accuracy: 87.06293487548828. Duration: 0.372s.\n",
      "\n",
      "Epoch 41/100.\n",
      "Training accuracy: 90.51573181152344. Testing accuracy: 87.76223754882812. Duration: 0.377s.\n",
      "\n",
      "Epoch 42/100.\n",
      "Training accuracy: 91.04020690917969. Testing accuracy: 88.81118774414062. Duration: 0.446s.\n",
      "\n",
      "Epoch 43/100.\n",
      "Training accuracy: 91.30244445800781. Testing accuracy: 89.33566284179688. Duration: 0.555s.\n",
      "\n",
      "Epoch 44/100.\n",
      "Training accuracy: 92.13286590576172. Testing accuracy: 89.68531799316406. Duration: 0.521s.\n",
      "\n",
      "Epoch 45/100.\n",
      "Training accuracy: 92.08915710449219. Testing accuracy: 89.68531799316406. Duration: 0.522s.\n",
      "\n",
      "Epoch 46/100.\n",
      "Training accuracy: 92.04545593261719. Testing accuracy: 89.68531799316406. Duration: 0.525s.\n",
      "\n",
      "Epoch 47/100.\n",
      "Training accuracy: 90.86538696289062. Testing accuracy: 88.46154022216797. Duration: 0.526s.\n",
      "\n",
      "Epoch 48/100.\n",
      "Training accuracy: 91.8706283569336. Testing accuracy: 89.51049041748047. Duration: 0.530s.\n",
      "\n",
      "Epoch 49/100.\n",
      "Training accuracy: 92.26398468017578. Testing accuracy: 89.68531799316406. Duration: 0.528s.\n",
      "\n",
      "Epoch 50/100.\n",
      "Training accuracy: 91.652099609375. Testing accuracy: 89.16084289550781. Duration: 0.493s.\n",
      "\n",
      "Epoch 51/100.\n",
      "Training accuracy: 92.08915710449219. Testing accuracy: 89.33566284179688. Duration: 0.388s.\n",
      "\n",
      "Epoch 52/100.\n",
      "Training accuracy: 89.94755554199219. Testing accuracy: 87.23776245117188. Duration: 0.399s.\n",
      "\n",
      "Epoch 53/100.\n",
      "Training accuracy: 86.2325210571289. Testing accuracy: 83.56643676757812. Duration: 0.434s.\n",
      "\n",
      "Epoch 54/100.\n",
      "Training accuracy: 91.91433715820312. Testing accuracy: 90.03496551513672. Duration: 0.397s.\n",
      "\n",
      "Epoch 55/100.\n",
      "Training accuracy: 92.13286590576172. Testing accuracy: 89.33566284179688. Duration: 0.395s.\n",
      "\n",
      "Epoch 56/100.\n",
      "Training accuracy: 91.4772720336914. Testing accuracy: 88.63636016845703. Duration: 0.399s.\n",
      "\n",
      "Epoch 57/100.\n",
      "Training accuracy: 89.20454406738281. Testing accuracy: 87.76223754882812. Duration: 0.411s.\n",
      "\n",
      "Epoch 58/100.\n",
      "Training accuracy: 90.25349426269531. Testing accuracy: 87.41259002685547. Duration: 0.414s.\n",
      "\n",
      "Epoch 59/100.\n",
      "Training accuracy: 91.17132568359375. Testing accuracy: 88.46154022216797. Duration: 0.427s.\n",
      "\n",
      "Epoch 60/100.\n",
      "Training accuracy: 89.29196166992188. Testing accuracy: 86.71328735351562. Duration: 0.372s.\n",
      "\n",
      "Epoch 61/100.\n",
      "Training accuracy: 89.11713409423828. Testing accuracy: 86.18881225585938. Duration: 0.395s.\n",
      "\n",
      "Epoch 62/100.\n",
      "Training accuracy: 90.29720306396484. Testing accuracy: 88.46154022216797. Duration: 0.835s.\n",
      "\n",
      "Epoch 63/100.\n",
      "Training accuracy: 91.43356323242188. Testing accuracy: 88.11188507080078. Duration: 1.047s.\n",
      "\n",
      "Epoch 64/100.\n",
      "Training accuracy: 92.30769348144531. Testing accuracy: 89.86013793945312. Duration: 1.030s.\n",
      "\n",
      "Epoch 65/100.\n",
      "Training accuracy: 91.34615325927734. Testing accuracy: 88.28671264648438. Duration: 1.039s.\n",
      "\n",
      "Epoch 66/100.\n",
      "Training accuracy: 92.35140228271484. Testing accuracy: 89.68531799316406. Duration: 1.035s.\n",
      "\n",
      "Epoch 67/100.\n",
      "Training accuracy: 88.89859771728516. Testing accuracy: 86.36363983154297. Duration: 0.910s.\n",
      "\n",
      "Epoch 68/100.\n",
      "Training accuracy: 90.25349426269531. Testing accuracy: 87.23776245117188. Duration: 0.628s.\n",
      "\n",
      "Epoch 69/100.\n",
      "Training accuracy: 91.17132568359375. Testing accuracy: 88.11188507080078. Duration: 0.491s.\n",
      "\n",
      "Epoch 70/100.\n",
      "Training accuracy: 91.56468200683594. Testing accuracy: 88.81118774414062. Duration: 0.650s.\n",
      "\n",
      "Epoch 71/100.\n",
      "Training accuracy: 92.4825210571289. Testing accuracy: 90.03496551513672. Duration: 0.782s.\n",
      "\n",
      "Epoch 72/100.\n",
      "Training accuracy: 91.91433715820312. Testing accuracy: 89.16084289550781. Duration: 0.677s.\n",
      "\n",
      "Epoch 73/100.\n",
      "Training accuracy: 90.90908813476562. Testing accuracy: 88.46154022216797. Duration: 0.655s.\n",
      "\n",
      "Epoch 74/100.\n",
      "Training accuracy: 88.41783142089844. Testing accuracy: 86.01398468017578. Duration: 0.909s.\n",
      "\n",
      "Epoch 75/100.\n",
      "Training accuracy: 91.4772720336914. Testing accuracy: 88.81118774414062. Duration: 0.834s.\n",
      "\n",
      "Epoch 76/100.\n",
      "Training accuracy: 90.51573181152344. Testing accuracy: 87.41259002685547. Duration: 0.655s.\n",
      "\n",
      "Epoch 77/100.\n",
      "Training accuracy: 91.08391571044922. Testing accuracy: 88.11188507080078. Duration: 0.707s.\n",
      "\n",
      "Epoch 78/100.\n",
      "Training accuracy: 90.07867431640625. Testing accuracy: 86.88811492919922. Duration: 0.726s.\n",
      "\n",
      "Epoch 79/100.\n",
      "Training accuracy: 92.26398468017578. Testing accuracy: 89.68531799316406. Duration: 0.705s.\n",
      "\n",
      "Epoch 80/100.\n",
      "Training accuracy: 91.95803833007812. Testing accuracy: 89.51049041748047. Duration: 0.971s.\n",
      "\n",
      "Epoch 81/100.\n",
      "Training accuracy: 90.20979309082031. Testing accuracy: 87.06293487548828. Duration: 0.980s.\n",
      "\n",
      "Epoch 82/100.\n",
      "Training accuracy: 88.98601531982422. Testing accuracy: 86.18881225585938. Duration: 0.995s.\n",
      "\n",
      "Epoch 83/100.\n",
      "Training accuracy: 90.95279693603516. Testing accuracy: 87.41259002685547. Duration: 0.825s.\n",
      "\n",
      "Epoch 84/100.\n",
      "Training accuracy: 88.02447509765625. Testing accuracy: 84.44055938720703. Duration: 0.449s.\n",
      "\n",
      "Epoch 85/100.\n",
      "Training accuracy: 88.5489501953125. Testing accuracy: 85.48950958251953. Duration: 0.292s.\n",
      "\n",
      "Epoch 86/100.\n",
      "Training accuracy: 92.35140228271484. Testing accuracy: 89.51049041748047. Duration: 0.419s.\n",
      "\n",
      "Epoch 87/100.\n",
      "Training accuracy: 92.26398468017578. Testing accuracy: 89.33566284179688. Duration: 0.748s.\n",
      "\n",
      "Epoch 88/100.\n",
      "Training accuracy: 92.30769348144531. Testing accuracy: 89.51049041748047. Duration: 0.978s.\n",
      "\n",
      "Epoch 89/100.\n",
      "Training accuracy: 91.652099609375. Testing accuracy: 88.98601531982422. Duration: 0.963s.\n",
      "\n",
      "Epoch 90/100.\n",
      "Training accuracy: 91.95803833007812. Testing accuracy: 89.33566284179688. Duration: 0.978s.\n",
      "\n",
      "Epoch 91/100.\n",
      "Training accuracy: 90.99650573730469. Testing accuracy: 88.46154022216797. Duration: 0.905s.\n",
      "\n",
      "Epoch 92/100.\n",
      "Training accuracy: 88.98601531982422. Testing accuracy: 86.18881225585938. Duration: 0.726s.\n",
      "\n",
      "Epoch 93/100.\n",
      "Training accuracy: 91.82691955566406. Testing accuracy: 90.20979309082031. Duration: 0.330s.\n",
      "\n",
      "Epoch 94/100.\n",
      "Training accuracy: 92.00174713134766. Testing accuracy: 89.51049041748047. Duration: 0.581s.\n",
      "\n",
      "Epoch 95/100.\n",
      "Training accuracy: 91.21503448486328. Testing accuracy: 88.11188507080078. Duration: 0.650s.\n",
      "\n",
      "Epoch 96/100.\n",
      "Training accuracy: 90.6468505859375. Testing accuracy: 87.93706512451172. Duration: 0.973s.\n",
      "\n",
      "Epoch 97/100.\n",
      "Training accuracy: 92.13286590576172. Testing accuracy: 89.86013793945312. Duration: 0.985s.\n",
      "\n",
      "Epoch 98/100.\n",
      "Training accuracy: 92.35140228271484. Testing accuracy: 90.38461303710938. Duration: 0.977s.\n",
      "\n",
      "Epoch 99/100.\n",
      "Training accuracy: 91.56468200683594. Testing accuracy: 88.81118774414062. Duration: 0.900s.\n",
      "\n",
      "Epoch 100/100.\n",
      "Training accuracy: 91.8706283569336. Testing accuracy: 89.16084289550781. Duration: 0.786s.\n"
     ]
    },
    {
     "data": {
      "image/png": "[encoded data removed]",
      "text/plain": [
       "<Figure size 640x480 with 1 Axes>"
      ]
     },
     "metadata": {},
     "output_type": "display_data"
    },
    {
     "data": {
      "image/png": "[encoded data removed]",
      "text/plain": [
       "<Figure size 640x480 with 1 Axes>"
      ]
     },
     "metadata": {},
     "output_type": "display_data"
    },
    {
     "data": {
      "application/vnd.jupyter.widget-view+json": {
       "model_id": "26fcbc9239ee439a803aaa74d76308b6",
       "version_major": 2,
       "version_minor": 0
      },
      "text/plain": [
       "VBox(children=(Label(value='0.004 MB of 0.026 MB uploaded\\r'), FloatProgress(value=0.16650467289719625, max=1.…"
      ]
     },
     "metadata": {},
     "output_type": "display_data"
    },
    {
     "data": {
      "text/html": [
       "<style>\n",
       "    table.wandb td:nth-child(1) { padding: 0 10px; text-align: left ; width: auto;} td:nth-child(2) {text-align: left ; width: 100%}\n",
       "    .wandb-row { display: flex; flex-direction: row; flex-wrap: wrap; justify-content: flex-start; width: 100% }\n",
       "    .wandb-col { display: flex; flex-direction: column; flex-basis: 100%; flex: 1; padding: 10px; }\n",
       "    </style>\n",
       "<div class=\"wandb-row\"><div class=\"wandb-col\"><h3>Run history:</h3><br/><table class=\"wandb\"><tr><td>test_acc</td><td>▁▆▇▇▇▇██▇▇██▇█▇▇████████▇█▇██▇██▇▇██▇███</td></tr><tr><td>train_acc</td><td>▁▇▇▇████▇▇██▇█▇█████████▇█▇██▇██▇▇██▇███</td></tr><tr><td>train_loss</td><td>█▅▃▅▃▃▃▄▃▃▃▃▂▃▅▁▃▂▃▃▃▂▃▅▃▄▃▁▃▄▄▄▄▃▄▃▂▂▁▂</td></tr></table><br/></div><div class=\"wandb-col\"><h3>Run summary:</h3><br/><table class=\"wandb\"><tr><td>test_acc</td><td>89.16084</td></tr><tr><td>train_acc</td><td>91.87063</td></tr><tr><td>train_loss</td><td>0.39337</td></tr></table><br/></div></div>"
      ],
      "text/plain": [
       "<IPython.core.display.HTML object>"
      ]
     },
     "metadata": {},
     "output_type": "display_data"
    },
    {
     "data": {
      "text/html": [
       " View run <strong style=\"color:#cdcd00\">With batchnorm1d_1</strong> at: <a href='https://wandb.ai/d-hadjikazemi-queen-mary-university-of-london/AZURE/runs/ia4bh3xj' target=\"_blank\">https://wandb.ai/d-hadjikazemi-queen-mary-university-of-london/AZURE/runs/ia4bh3xj</a><br/> View project at: <a href='https://wandb.ai/d-hadjikazemi-queen-mary-university-of-london/AZURE' target=\"_blank\">https://wandb.ai/d-hadjikazemi-queen-mary-university-of-london/AZURE</a><br/>Synced 6 W&B file(s), 0 media file(s), 0 artifact file(s) and 0 other file(s)"
      ],
      "text/plain": [
       "<IPython.core.display.HTML object>"
      ]
     },
     "metadata": {},
     "output_type": "display_data"
    },
    {
     "data": {
      "text/html": [
       "Find logs at: <code>./wandb/run-20240720_001935-ia4bh3xj/logs</code>"
      ],
      "text/plain": [
       "<IPython.core.display.HTML object>"
      ]
     },
     "metadata": {},
     "output_type": "display_data"
    },
    {
     "data": {
      "text/html": [
       "The new W&B backend becomes opt-out in version 0.18.0; try it out with `wandb.require(\"core\")`! See https://wandb.me/wandb-core for more information."
      ],
      "text/plain": [
       "<IPython.core.display.HTML object>"
      ]
     },
     "metadata": {},
     "output_type": "display_data"
    }
   ],
   "source": [
    "wandb.init(\n",
    "    # set the wandb project where this run will be logged\n",
    "    project=\"AZURE\",\n",
    "    name= \"With batchnorm1d_1\",\n",
    "    # track hyperparameters and run metadata\n",
    "    config={\n",
    "    \"learning_rate\": 0.0001,\n",
    "    \"architecture\": \"CNN\",\n",
    "    \"epochs\": 100,\n",
    "    \"loss\": nn.BCELoss(),\n",
    "    \"batch_size\": 64,\n",
    "    \"decay\":1e-5,\n",
    "    'dropout': 0.6\n",
    "    }\n",
    ")\n",
    "config = wandb.config\n",
    "\n",
    "train_loader, test_loader = data_loading(data_path='data_1_20', label_path='label_1_20',batch_size= config.batch_size)\n",
    "\n",
    "losses = [] # Stores the loss for each training batch\n",
    "train_accs = [] # Stores the training accuracy after each epoch\n",
    "test_accs = [] # Stores the testing accuracy after each epoch\n",
    "\n",
    "# Create an instance of the CNN\n",
    "model = SimpleCNN(dropout=config.dropout)\n",
    "\n",
    "# Loss and optimizer\n",
    "loss = nn.CrossEntropyLoss()\n",
    "optimizer = torch.optim.Adam(model.parameters(), lr=config.learning_rate, weight_decay=config.decay)\n",
    "\n",
    "model.to(device)\n",
    "\n",
    "num_epochs = 100\n",
    "for epoch in range(config.epochs):\n",
    "    print(f'\\nEpoch {epoch + 1}/{num_epochs}.')\n",
    "    start_time = time.perf_counter()\n",
    "\n",
    "    model.train() # This is necessary because batch normalization behaves differently between training and evaluation\n",
    "\n",
    "    for X, y in train_loader:\n",
    "        X, y = X.to(device), y.to(device) # Moves data to `device`\n",
    "        logits = model(X) # Computes the logits for the batch of images `X`\n",
    "        l = loss(logits, y) # Computes the loss given the `logits` and the class vector `y`\n",
    "        optimizer.zero_grad() # Zeroes the gradients stored in the model parameters\n",
    "        l.backward() # Computes the gradient of the loss `l` with respect to the model parameters\n",
    "\n",
    "        optimizer.step() # Updates the model parameters based on the gradients stored inside them\n",
    "\n",
    "        train_loss = float(l)\n",
    "        losses.append(train_loss) # Stores the loss for this batch\n",
    "\n",
    "    model.eval() # This is necessary because batch normalization behaves differently between training and evaluation\n",
    "    train_acc = evaluate_metric(model, train_loader, correct)\n",
    "    train_accs.append(train_acc)\n",
    "    test_acc = evaluate_metric(model, test_loader, correct)\n",
    "    test_accs.append(test_acc)\n",
    "    metrics = {\"train_loss\": train_loss,\n",
    "               \"train_acc\": train_acc,\n",
    "               \"test_acc\": test_acc}\n",
    "    wandb.log(metrics)\n",
    "\n",
    "    end_time = time.perf_counter()\n",
    "\n",
    "    print(f'Training accuracy: {train_accs[-1]}. Testing accuracy: {test_accs[-1]}. Duration: {end_time - start_time:.3f}s.') # Computes and displays training/testing dataset accuracy.\n",
    "\n",
    "plt.plot(losses) # Plots the loss for each training batch\n",
    "plt.xlabel('Training batch')\n",
    "plt.ylabel('Cross entropy loss')\n",
    "plt.show()\n",
    "\n",
    "plt.plot(list(map(lambda x: x.cpu(),train_accs)), label='Training accuracy')\n",
    "plt.plot(list(map(lambda x: x.cpu(),test_accs)), label='Testing accuracy')\n",
    "plt.legend(loc='best')\n",
    "plt.xlabel('Epoch')\n",
    "plt.show()\n",
    "wandb.finish()"
   ]
  }
 ],
 "metadata": {
  "kernelspec": {
   "display_name": "Python 3 (ipykernel)",
   "language": "python",
   "name": "python3"
  },
  "language_info": {
   "codemirror_mode": {
    "name": "ipython",
    "version": 3
   },
   "file_extension": ".py",
   "mimetype": "text/x-python",
   "name": "python",
   "nbconvert_exporter": "python",
   "pygments_lexer": "ipython3",
   "version": "3.10.0"
  }
 },
 "nbformat": 4,
 "nbformat_minor": 2
}
