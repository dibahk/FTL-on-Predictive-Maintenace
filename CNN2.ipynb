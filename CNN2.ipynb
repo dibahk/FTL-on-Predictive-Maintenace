{
 "cells": [
  {
   "cell_type": "code",
   "execution_count": 1,
   "metadata": {},
   "outputs": [
    {
     "name": "stdout",
     "output_type": "stream",
     "text": [
      "Using cuda.\n"
     ]
    }
   ],
   "source": [
    "%matplotlib inline\n",
    "import matplotlib.pyplot as plt\n",
    "import torchvision\n",
    "from torch.utils.data import TensorDataset, random_split, DataLoader\n",
    "import torch.nn as nn\n",
    "import time\n",
    "import wandb\n",
    "from imblearn.over_sampling import SMOTE\n",
    "import torch\n",
    "from datetime import datetime\n",
    "from time import gmtime, strftime\n",
    "\n",
    "now = datetime.now() # current date and time\n",
    "date_time = now.strftime(\"%d-%m-%Y_%H:%M:%S\")\n",
    "device = torch.device('cuda' if torch.cuda.is_available() else 'cpu')\n",
    "print(f'Using {device}.')"
   ]
  },
  {
   "cell_type": "code",
   "execution_count": 2,
   "metadata": {},
   "outputs": [],
   "source": [
    "def data_loading(data_path, label_path, batch_size, train_ratio=0.8):\n",
    "    data = torch.load(data_path)\n",
    "    labels = torch.load(label_path)\n",
    "    data = nn.functional.normalize(data, dim=1)\n",
    "    data = data[:700, :, :]\n",
    "    labels = labels[:700]\n",
    "    print((labels==1).sum())\n",
    "    # reshaping the dataset so  the channels will be the second dimension.\n",
    "    data = data.permute(0, 2, 1)\n",
    "    print(data.size())\n",
    "    n_samples, n_channels, n_features = data.shape\n",
    "    X_reshaped = data.reshape(n_samples, -1) \n",
    "    # Apply SMOTE\n",
    "    smote = SMOTE(sampling_strategy='minority')\n",
    "    data_resampled, labels_resampled = smote.fit_resample(X_reshaped, labels)\n",
    "    print((labels_resampled==1).sum())\n",
    "    # Reshape X_resampled back to 3D\n",
    "    data_resampled = data_resampled.reshape(-1, n_channels, n_features)\n",
    "    print(data_resampled.shape)\n",
    "    data_resampled = torch.tensor(data_resampled)\n",
    "    labels_resampled = torch.tensor(labels_resampled)\n",
    "    dataset = TensorDataset(data_resampled, labels_resampled)\n",
    "    train_size = int(train_ratio * len(dataset))\n",
    "    test_size = len(dataset) - train_size\n",
    "    train_dataset, test_dataset = random_split(dataset, [train_size, test_size])\n",
    "    return DataLoader(train_dataset, batch_size=batch_size, shuffle=True), DataLoader(test_dataset, batch_size=batch_size, shuffle=False)\n"
   ]
  },
  {
   "cell_type": "code",
   "execution_count": 3,
   "metadata": {},
   "outputs": [],
   "source": [
    "# Define the CNN architecture\n",
    "class SimpleCNN(nn.Module):\n",
    "    def __init__(self, dropout):\n",
    "        super(SimpleCNN, self).__init__()\n",
    "        self.conv1 = nn.Conv1d(in_channels=4, out_channels=8, kernel_size=5)\n",
    "        self.bn1 = nn.BatchNorm1d(8)\n",
    "        self.conv2 = nn.Conv1d(in_channels=8, out_channels=8, kernel_size=5)\n",
    "        self.bn2 = nn.BatchNorm1d(8)\n",
    "        self.pool = nn.MaxPool1d(kernel_size=2, padding=0, stride=1)\n",
    "        # the size of the out channels x number  of nodes \n",
    "        self.fc1 = nn.Linear(328, 200)\n",
    "        self.fc2 = nn.Linear(200, 2)\n",
    "        self.flatten = nn.Flatten()\n",
    "        self.relu = nn.ReLU()\n",
    "        self.dropout = nn.Dropout(dropout)\n",
    "        self.sigmoid = nn.Sigmoid()\n",
    "\n",
    "    def forward(self, x):\n",
    "        x = self.relu(self.bn1(self.conv1(x)))\n",
    "        x = self.relu(self.bn2(self.conv2(x)))\n",
    "        x = self.dropout(x)\n",
    "        x = self.pool(x)\n",
    "        x = self.flatten(x)\n",
    "        x = self.relu(self.fc1(x))\n",
    "        x - self.dropout(x)\n",
    "        x = self.sigmoid(self.fc2(x))\n",
    "        return x"
   ]
  },
  {
   "cell_type": "code",
   "execution_count": 4,
   "metadata": {},
   "outputs": [],
   "source": [
    "def correct(logits, y):\n",
    "    y_hat = logits.argmax(axis=1) # Finds the column with the highest value for each row of `logits`.\n",
    "    return (y_hat == y).float().sum() # Computes the number of times that `y_hat` and `y` match."
   ]
  },
  {
   "cell_type": "code",
   "execution_count": 5,
   "metadata": {},
   "outputs": [],
   "source": [
    "def evaluate_metric(model, data_iter, metric):\n",
    "    \"\"\"Compute the average `metric` of the model on a dataset.\"\"\"\n",
    "    c = torch.tensor(0.).to(device)\n",
    "    n = torch.tensor(0.).to(device)\n",
    "    for X, y in data_iter:\n",
    "        X, y = X.to(device), y.to(device) # Moves data to `device`\n",
    "        logits = model(X)\n",
    "        c += metric(logits, y)\n",
    "        n += len(y)\n",
    "    return c*100 / n"
   ]
  },
  {
   "cell_type": "code",
   "execution_count": 6,
   "metadata": {},
   "outputs": [
    {
     "name": "stderr",
     "output_type": "stream",
     "text": [
      "\u001b[34m\u001b[1mwandb\u001b[0m: Currently logged in as: \u001b[33md-hadjikazemi\u001b[0m (\u001b[33md-hadjikazemi-queen-mary-university-of-london\u001b[0m). Use \u001b[1m`wandb login --relogin`\u001b[0m to force relogin\n"
     ]
    },
    {
     "data": {
      "text/html": [
       "wandb version 0.17.5 is available!  To upgrade, please run:\n",
       " $ pip install wandb --upgrade"
      ],
      "text/plain": [
       "<IPython.core.display.HTML object>"
      ]
     },
     "metadata": {},
     "output_type": "display_data"
    },
    {
     "data": {
      "text/html": [
       "Tracking run with wandb version 0.17.4"
      ],
      "text/plain": [
       "<IPython.core.display.HTML object>"
      ]
     },
     "metadata": {},
     "output_type": "display_data"
    },
    {
     "data": {
      "text/html": [
       "Run data is saved locally in <code>/home/diba/wandb/run-20240722_164716-b504czz9</code>"
      ],
      "text/plain": [
       "<IPython.core.display.HTML object>"
      ]
     },
     "metadata": {},
     "output_type": "display_data"
    },
    {
     "data": {
      "text/html": [
       "Syncing run <strong><a href='https://wandb.ai/d-hadjikazemi-queen-mary-university-of-london/AZURE/runs/b504czz9' target=\"_blank\">With 50 time points and 20 machines 22-07-2024_16:47:15</a></strong> to <a href='https://wandb.ai/d-hadjikazemi-queen-mary-university-of-london/AZURE' target=\"_blank\">Weights & Biases</a> (<a href='https://wandb.me/run' target=\"_blank\">docs</a>)<br/>"
      ],
      "text/plain": [
       "<IPython.core.display.HTML object>"
      ]
     },
     "metadata": {},
     "output_type": "display_data"
    },
    {
     "data": {
      "text/html": [
       " View project at <a href='https://wandb.ai/d-hadjikazemi-queen-mary-university-of-london/AZURE' target=\"_blank\">https://wandb.ai/d-hadjikazemi-queen-mary-university-of-london/AZURE</a>"
      ],
      "text/plain": [
       "<IPython.core.display.HTML object>"
      ]
     },
     "metadata": {},
     "output_type": "display_data"
    },
    {
     "data": {
      "text/html": [
       " View run at <a href='https://wandb.ai/d-hadjikazemi-queen-mary-university-of-london/AZURE/runs/b504czz9' target=\"_blank\">https://wandb.ai/d-hadjikazemi-queen-mary-university-of-london/AZURE/runs/b504czz9</a>"
      ],
      "text/plain": [
       "<IPython.core.display.HTML object>"
      ]
     },
     "metadata": {},
     "output_type": "display_data"
    },
    {
     "name": "stdout",
     "output_type": "stream",
     "text": [
      "tensor(64)\n",
      "torch.Size([700, 4, 50])\n",
      "636\n",
      "(1272, 4, 50)\n",
      "\n",
      "Epoch 1/100.\n",
      "Training accuracy: 50.049163818359375. Testing accuracy: 49.80392074584961. Duration: 0.270s.\n",
      "\n",
      "Epoch 2/100.\n",
      "Training accuracy: 49.950836181640625. Testing accuracy: 50.19607925415039. Duration: 0.025s.\n",
      "\n",
      "Epoch 3/100.\n",
      "Training accuracy: 49.950836181640625. Testing accuracy: 50.19607925415039. Duration: 0.024s.\n",
      "\n",
      "Epoch 4/100.\n",
      "Training accuracy: 49.950836181640625. Testing accuracy: 50.19607925415039. Duration: 0.022s.\n",
      "\n",
      "Epoch 5/100.\n",
      "Training accuracy: 49.950836181640625. Testing accuracy: 50.19607925415039. Duration: 0.021s.\n",
      "\n",
      "Epoch 6/100.\n",
      "Training accuracy: 69.71485137939453. Testing accuracy: 70.5882339477539. Duration: 0.020s.\n",
      "\n",
      "Epoch 7/100.\n",
      "Training accuracy: 79.25270080566406. Testing accuracy: 78.03921508789062. Duration: 0.020s.\n",
      "\n",
      "Epoch 8/100.\n",
      "Training accuracy: 76.99114990234375. Testing accuracy: 74.90196228027344. Duration: 0.020s.\n",
      "\n",
      "Epoch 9/100.\n",
      "Training accuracy: 78.56440734863281. Testing accuracy: 75.29412078857422. Duration: 0.021s.\n",
      "\n",
      "Epoch 10/100.\n",
      "Training accuracy: 78.07276153564453. Testing accuracy: 75.68627166748047. Duration: 0.021s.\n",
      "\n",
      "Epoch 11/100.\n",
      "Training accuracy: 78.56440734863281. Testing accuracy: 75.29412078857422. Duration: 0.021s.\n",
      "\n",
      "Epoch 12/100.\n",
      "Training accuracy: 78.07276153564453. Testing accuracy: 75.29412078857422. Duration: 0.021s.\n",
      "\n",
      "Epoch 13/100.\n",
      "Training accuracy: 77.87610626220703. Testing accuracy: 76.86274719238281. Duration: 0.020s.\n",
      "\n",
      "Epoch 14/100.\n",
      "Training accuracy: 76.79449462890625. Testing accuracy: 75.68627166748047. Duration: 0.021s.\n",
      "\n",
      "Epoch 15/100.\n",
      "Training accuracy: 81.02261352539062. Testing accuracy: 78.82353210449219. Duration: 0.021s.\n",
      "\n",
      "Epoch 16/100.\n",
      "Training accuracy: 80.72763061523438. Testing accuracy: 77.64705657958984. Duration: 0.020s.\n",
      "\n",
      "Epoch 17/100.\n",
      "Training accuracy: 81.3176040649414. Testing accuracy: 78.82353210449219. Duration: 0.021s.\n",
      "\n",
      "Epoch 18/100.\n",
      "Training accuracy: 82.1042251586914. Testing accuracy: 78.82353210449219. Duration: 0.021s.\n",
      "\n",
      "Epoch 19/100.\n",
      "Training accuracy: 82.49754333496094. Testing accuracy: 79.60784149169922. Duration: 0.021s.\n",
      "\n",
      "Epoch 20/100.\n",
      "Training accuracy: 82.1042251586914. Testing accuracy: 79.60784149169922. Duration: 0.021s.\n",
      "\n",
      "Epoch 21/100.\n",
      "Training accuracy: 82.98918151855469. Testing accuracy: 81.5686264038086. Duration: 0.022s.\n",
      "\n",
      "Epoch 22/100.\n",
      "Training accuracy: 81.41593170166016. Testing accuracy: 79.60784149169922. Duration: 0.021s.\n",
      "\n",
      "Epoch 23/100.\n",
      "Training accuracy: 86.33235168457031. Testing accuracy: 83.92156982421875. Duration: 0.021s.\n",
      "\n",
      "Epoch 24/100.\n",
      "Training accuracy: 84.07079315185547. Testing accuracy: 83.92156982421875. Duration: 0.021s.\n",
      "\n",
      "Epoch 25/100.\n",
      "Training accuracy: 85.84070587158203. Testing accuracy: 84.31372833251953. Duration: 0.021s.\n",
      "\n",
      "Epoch 26/100.\n",
      "Training accuracy: 85.34906768798828. Testing accuracy: 84.31372833251953. Duration: 0.021s.\n",
      "\n",
      "Epoch 27/100.\n",
      "Training accuracy: 83.67748260498047. Testing accuracy: 82.7450942993164. Duration: 0.020s.\n",
      "\n",
      "Epoch 28/100.\n",
      "Training accuracy: 83.57915496826172. Testing accuracy: 83.13725280761719. Duration: 0.020s.\n",
      "\n",
      "Epoch 29/100.\n",
      "Training accuracy: 82.69419860839844. Testing accuracy: 80.0. Duration: 0.020s.\n",
      "\n",
      "Epoch 30/100.\n",
      "Training accuracy: 87.2173080444336. Testing accuracy: 86.66666412353516. Duration: 0.020s.\n",
      "\n",
      "Epoch 31/100.\n",
      "Training accuracy: 85.74237823486328. Testing accuracy: 86.66666412353516. Duration: 0.021s.\n",
      "\n",
      "Epoch 32/100.\n",
      "Training accuracy: 84.07079315185547. Testing accuracy: 83.92156982421875. Duration: 0.021s.\n",
      "\n",
      "Epoch 33/100.\n",
      "Training accuracy: 85.93903350830078. Testing accuracy: 87.45098114013672. Duration: 0.021s.\n",
      "\n",
      "Epoch 34/100.\n",
      "Training accuracy: 86.33235168457031. Testing accuracy: 87.45098114013672. Duration: 0.020s.\n",
      "\n",
      "Epoch 35/100.\n",
      "Training accuracy: 88.00393676757812. Testing accuracy: 85.09803771972656. Duration: 0.020s.\n",
      "\n",
      "Epoch 36/100.\n",
      "Training accuracy: 88.29891967773438. Testing accuracy: 85.09803771972656. Duration: 0.021s.\n",
      "\n",
      "Epoch 37/100.\n",
      "Training accuracy: 88.59390258789062. Testing accuracy: 88.62744903564453. Duration: 0.023s.\n",
      "\n",
      "Epoch 38/100.\n",
      "Training accuracy: 89.18387603759766. Testing accuracy: 87.8431396484375. Duration: 0.021s.\n",
      "\n",
      "Epoch 39/100.\n",
      "Training accuracy: 89.38053131103516. Testing accuracy: 87.8431396484375. Duration: 0.020s.\n",
      "\n",
      "Epoch 40/100.\n",
      "Training accuracy: 86.72566223144531. Testing accuracy: 87.45098114013672. Duration: 0.020s.\n",
      "\n",
      "Epoch 41/100.\n",
      "Training accuracy: 86.33235168457031. Testing accuracy: 87.05882263183594. Duration: 0.022s.\n",
      "\n",
      "Epoch 42/100.\n",
      "Training accuracy: 88.69223022460938. Testing accuracy: 87.05882263183594. Duration: 0.021s.\n",
      "\n",
      "Epoch 43/100.\n",
      "Training accuracy: 85.93903350830078. Testing accuracy: 87.05882263183594. Duration: 0.021s.\n",
      "\n",
      "Epoch 44/100.\n",
      "Training accuracy: 85.74237823486328. Testing accuracy: 86.2745132446289. Duration: 0.022s.\n",
      "\n",
      "Epoch 45/100.\n",
      "Training accuracy: 87.4139633178711. Testing accuracy: 87.8431396484375. Duration: 0.021s.\n",
      "\n",
      "Epoch 46/100.\n",
      "Training accuracy: 86.23402404785156. Testing accuracy: 87.05882263183594. Duration: 0.021s.\n",
      "\n",
      "Epoch 47/100.\n",
      "Training accuracy: 86.03736114501953. Testing accuracy: 87.05882263183594. Duration: 0.021s.\n",
      "\n",
      "Epoch 48/100.\n",
      "Training accuracy: 84.56243896484375. Testing accuracy: 84.31372833251953. Duration: 0.021s.\n",
      "\n",
      "Epoch 49/100.\n",
      "Training accuracy: 85.74237823486328. Testing accuracy: 86.2745132446289. Duration: 0.021s.\n",
      "\n",
      "Epoch 50/100.\n",
      "Training accuracy: 88.39724731445312. Testing accuracy: 87.8431396484375. Duration: 0.022s.\n",
      "\n",
      "Epoch 51/100.\n",
      "Training accuracy: 85.64405059814453. Testing accuracy: 85.88235473632812. Duration: 0.022s.\n",
      "\n",
      "Epoch 52/100.\n",
      "Training accuracy: 88.98722076416016. Testing accuracy: 86.66666412353516. Duration: 0.021s.\n",
      "\n",
      "Epoch 53/100.\n",
      "Training accuracy: 90.26548767089844. Testing accuracy: 87.45098114013672. Duration: 0.021s.\n",
      "\n",
      "Epoch 54/100.\n",
      "Training accuracy: 88.88888549804688. Testing accuracy: 88.23529052734375. Duration: 0.021s.\n",
      "\n",
      "Epoch 55/100.\n",
      "Training accuracy: 89.8721694946289. Testing accuracy: 87.45098114013672. Duration: 0.020s.\n",
      "\n",
      "Epoch 56/100.\n",
      "Training accuracy: 89.77384185791016. Testing accuracy: 88.23529052734375. Duration: 0.020s.\n",
      "\n",
      "Epoch 57/100.\n",
      "Training accuracy: 90.46214294433594. Testing accuracy: 87.45098114013672. Duration: 0.020s.\n",
      "\n",
      "Epoch 58/100.\n",
      "Training accuracy: 87.70894622802734. Testing accuracy: 87.8431396484375. Duration: 0.020s.\n",
      "\n",
      "Epoch 59/100.\n",
      "Training accuracy: 89.18387603759766. Testing accuracy: 86.66666412353516. Duration: 0.020s.\n",
      "\n",
      "Epoch 60/100.\n",
      "Training accuracy: 89.6755142211914. Testing accuracy: 86.66666412353516. Duration: 0.020s.\n",
      "\n",
      "Epoch 61/100.\n",
      "Training accuracy: 92.035400390625. Testing accuracy: 88.23529052734375. Duration: 0.021s.\n",
      "\n",
      "Epoch 62/100.\n",
      "Training accuracy: 88.29891967773438. Testing accuracy: 87.8431396484375. Duration: 0.021s.\n",
      "\n",
      "Epoch 63/100.\n",
      "Training accuracy: 84.75909423828125. Testing accuracy: 85.09803771972656. Duration: 0.020s.\n",
      "\n",
      "Epoch 64/100.\n",
      "Training accuracy: 88.20059204101562. Testing accuracy: 87.8431396484375. Duration: 0.020s.\n",
      "\n",
      "Epoch 65/100.\n",
      "Training accuracy: 85.54572296142578. Testing accuracy: 85.88235473632812. Duration: 0.020s.\n",
      "\n",
      "Epoch 66/100.\n",
      "Training accuracy: 89.0855484008789. Testing accuracy: 88.23529052734375. Duration: 0.022s.\n",
      "\n",
      "Epoch 67/100.\n",
      "Training accuracy: 89.8721694946289. Testing accuracy: 87.05882263183594. Duration: 0.021s.\n",
      "\n",
      "Epoch 68/100.\n",
      "Training accuracy: 89.38053131103516. Testing accuracy: 88.23529052734375. Duration: 0.021s.\n",
      "\n",
      "Epoch 69/100.\n",
      "Training accuracy: 89.6755142211914. Testing accuracy: 88.23529052734375. Duration: 0.022s.\n",
      "\n",
      "Epoch 70/100.\n",
      "Training accuracy: 89.2822036743164. Testing accuracy: 88.23529052734375. Duration: 0.021s.\n",
      "\n",
      "Epoch 71/100.\n",
      "Training accuracy: 88.88888549804688. Testing accuracy: 87.8431396484375. Duration: 0.022s.\n",
      "\n",
      "Epoch 72/100.\n",
      "Training accuracy: 89.97050476074219. Testing accuracy: 88.23529052734375. Duration: 0.022s.\n",
      "\n",
      "Epoch 73/100.\n",
      "Training accuracy: 89.97050476074219. Testing accuracy: 88.23529052734375. Duration: 0.022s.\n",
      "\n",
      "Epoch 74/100.\n",
      "Training accuracy: 87.31563568115234. Testing accuracy: 87.8431396484375. Duration: 0.021s.\n",
      "\n",
      "Epoch 75/100.\n",
      "Training accuracy: 89.0855484008789. Testing accuracy: 88.23529052734375. Duration: 0.021s.\n",
      "\n",
      "Epoch 76/100.\n",
      "Training accuracy: 87.70894622802734. Testing accuracy: 87.8431396484375. Duration: 0.021s.\n",
      "\n",
      "Epoch 77/100.\n",
      "Training accuracy: 88.59390258789062. Testing accuracy: 87.8431396484375. Duration: 0.021s.\n",
      "\n",
      "Epoch 78/100.\n",
      "Training accuracy: 90.36381530761719. Testing accuracy: 86.66666412353516. Duration: 0.021s.\n",
      "\n",
      "Epoch 79/100.\n",
      "Training accuracy: 87.0206527709961. Testing accuracy: 87.05882263183594. Duration: 0.021s.\n",
      "\n",
      "Epoch 80/100.\n",
      "Training accuracy: 89.97050476074219. Testing accuracy: 86.66666412353516. Duration: 0.021s.\n",
      "\n",
      "Epoch 81/100.\n",
      "Training accuracy: 90.95378875732422. Testing accuracy: 88.62744903564453. Duration: 0.022s.\n",
      "\n",
      "Epoch 82/100.\n",
      "Training accuracy: 91.44542694091797. Testing accuracy: 87.8431396484375. Duration: 0.022s.\n",
      "\n",
      "Epoch 83/100.\n",
      "Training accuracy: 90.75712585449219. Testing accuracy: 88.62744903564453. Duration: 0.021s.\n",
      "\n",
      "Epoch 84/100.\n",
      "Training accuracy: 90.16716003417969. Testing accuracy: 86.2745132446289. Duration: 0.022s.\n",
      "\n",
      "Epoch 85/100.\n",
      "Training accuracy: 89.0855484008789. Testing accuracy: 87.8431396484375. Duration: 0.021s.\n",
      "\n",
      "Epoch 86/100.\n",
      "Training accuracy: 89.18387603759766. Testing accuracy: 88.23529052734375. Duration: 0.021s.\n",
      "\n",
      "Epoch 87/100.\n",
      "Training accuracy: 90.36381530761719. Testing accuracy: 87.05882263183594. Duration: 0.021s.\n",
      "\n",
      "Epoch 88/100.\n",
      "Training accuracy: 88.69223022460938. Testing accuracy: 87.8431396484375. Duration: 0.021s.\n",
      "\n",
      "Epoch 89/100.\n",
      "Training accuracy: 87.8072738647461. Testing accuracy: 87.45098114013672. Duration: 0.021s.\n",
      "\n",
      "Epoch 90/100.\n",
      "Training accuracy: 88.10226440429688. Testing accuracy: 87.8431396484375. Duration: 0.021s.\n",
      "\n",
      "Epoch 91/100.\n",
      "Training accuracy: 91.44542694091797. Testing accuracy: 87.8431396484375. Duration: 0.021s.\n",
      "\n",
      "Epoch 92/100.\n",
      "Training accuracy: 88.00393676757812. Testing accuracy: 87.8431396484375. Duration: 0.021s.\n",
      "\n",
      "Epoch 93/100.\n",
      "Training accuracy: 85.44739532470703. Testing accuracy: 85.09803771972656. Duration: 0.021s.\n",
      "\n",
      "Epoch 94/100.\n",
      "Training accuracy: 90.26548767089844. Testing accuracy: 87.05882263183594. Duration: 0.021s.\n",
      "\n",
      "Epoch 95/100.\n",
      "Training accuracy: 89.4788589477539. Testing accuracy: 87.8431396484375. Duration: 0.021s.\n",
      "\n",
      "Epoch 96/100.\n",
      "Training accuracy: 88.39724731445312. Testing accuracy: 87.8431396484375. Duration: 0.021s.\n",
      "\n",
      "Epoch 97/100.\n",
      "Training accuracy: 89.8721694946289. Testing accuracy: 88.23529052734375. Duration: 0.021s.\n",
      "\n",
      "Epoch 98/100.\n",
      "Training accuracy: 88.98722076416016. Testing accuracy: 87.8431396484375. Duration: 0.021s.\n",
      "\n",
      "Epoch 99/100.\n",
      "Training accuracy: 89.38053131103516. Testing accuracy: 88.23529052734375. Duration: 0.021s.\n",
      "\n",
      "Epoch 100/100.\n",
      "Training accuracy: 91.05211639404297. Testing accuracy: 87.45098114013672. Duration: 0.021s.\n"
     ]
    },
    {
     "data": {
      "image/png": "[encoded data removed]",
      "text/plain": [
       "<Figure size 640x480 with 1 Axes>"
      ]
     },
     "metadata": {},
     "output_type": "display_data"
    },
    {
     "data": {
      "image/png": "[encoded data removed]",
      "text/plain": [
       "<Figure size 640x480 with 1 Axes>"
      ]
     },
     "metadata": {},
     "output_type": "display_data"
    },
    {
     "data": {
      "application/vnd.jupyter.widget-view+json": {
       "model_id": "1033e288489545b288e5d4eed65d0ed9",
       "version_major": 2,
       "version_minor": 0
      },
      "text/plain": [
       "VBox(children=(Label(value='0.004 MB of 0.004 MB uploaded\\r'), FloatProgress(value=1.0, max=1.0)))"
      ]
     },
     "metadata": {},
     "output_type": "display_data"
    },
    {
     "data": {
      "text/html": [
       "<style>\n",
       "    table.wandb td:nth-child(1) { padding: 0 10px; text-align: left ; width: auto;} td:nth-child(2) {text-align: left ; width: 100%}\n",
       "    .wandb-row { display: flex; flex-direction: row; flex-wrap: wrap; justify-content: flex-start; width: 100% }\n",
       "    .wandb-col { display: flex; flex-direction: column; flex-basis: 100%; flex: 1; padding: 10px; }\n",
       "    </style>\n",
       "<div class=\"wandb-row\"><div class=\"wandb-col\"><h3>Run history:</h3><br/><table class=\"wandb\"><tr><td>test_acc</td><td>▁▁▅▆▆▆▆▆▇▇▇▇██▇█████████████████████████</td></tr><tr><td>train_acc</td><td>▁▁▄▅▆▆▆▆▆▇▇▇▇▇▇█▇▇▇▇▇▇███▇███▇▇▇███▇▇███</td></tr><tr><td>train_loss</td><td>██▆▇▄▄▄▄▄▃▃▃▄▃▃▂▂▃▄▁▂▂▂▂▂▅▁▃▂▂▃▂▂▃▃▂▃▂▂▂</td></tr></table><br/></div><div class=\"wandb-col\"><h3>Run summary:</h3><br/><table class=\"wandb\"><tr><td>test_acc</td><td>87.45098</td></tr><tr><td>train_acc</td><td>91.05212</td></tr><tr><td>train_loss</td><td>0.41889</td></tr></table><br/></div></div>"
      ],
      "text/plain": [
       "<IPython.core.display.HTML object>"
      ]
     },
     "metadata": {},
     "output_type": "display_data"
    },
    {
     "data": {
      "text/html": [
       " View run <strong style=\"color:#cdcd00\">With 50 time points and 20 machines 22-07-2024_16:47:15</strong> at: <a href='https://wandb.ai/d-hadjikazemi-queen-mary-university-of-london/AZURE/runs/b504czz9' target=\"_blank\">https://wandb.ai/d-hadjikazemi-queen-mary-university-of-london/AZURE/runs/b504czz9</a><br/> View project at: <a href='https://wandb.ai/d-hadjikazemi-queen-mary-university-of-london/AZURE' target=\"_blank\">https://wandb.ai/d-hadjikazemi-queen-mary-university-of-london/AZURE</a><br/>Synced 6 W&B file(s), 0 media file(s), 0 artifact file(s) and 0 other file(s)"
      ],
      "text/plain": [
       "<IPython.core.display.HTML object>"
      ]
     },
     "metadata": {},
     "output_type": "display_data"
    },
    {
     "data": {
      "text/html": [
       "Find logs at: <code>./wandb/run-20240722_164716-b504czz9/logs</code>"
      ],
      "text/plain": [
       "<IPython.core.display.HTML object>"
      ]
     },
     "metadata": {},
     "output_type": "display_data"
    },
    {
     "data": {
      "text/html": [
       "The new W&B backend becomes opt-out in version 0.18.0; try it out with `wandb.require(\"core\")`! See https://wandb.me/wandb-core for more information."
      ],
      "text/plain": [
       "<IPython.core.display.HTML object>"
      ]
     },
     "metadata": {},
     "output_type": "display_data"
    }
   ],
   "source": [
    "wandb.init(\n",
    "    # set the wandb project where this run will be logged\n",
    "    project=\"AZURE\",\n",
    "    name= \"With 50 time points and 20 machines {}\".format(date_time),\n",
    "    # track hyperparameters and run metadata\n",
    "    config={\n",
    "    \"learning_rate\": 0.0001,\n",
    "    \"architecture\": \"CNN\",\n",
    "    \"epochs\": 100,\n",
    "    \"loss\": nn.BCELoss(),\n",
    "    \"batch_size\": 64,\n",
    "    \"decay\":1e-5,\n",
    "    'dropout': 0.1,\n",
    "    'number of machines': 20\n",
    "    }\n",
    ")\n",
    "config = wandb.config\n",
    "\n",
    "train_loader, test_loader = data_loading(data_path='AZURE_data_50.pt', label_path='AZURE_label_50.pt', batch_size= config.batch_size)\n",
    "\n",
    "losses = [] # Stores the loss for each training batch\n",
    "train_accs = [] # Stores the training accuracy after each epoch\n",
    "test_accs = [] # Stores the testing accuracy after each epoch\n",
    "\n",
    "# Create an instance of the CNN\n",
    "model = SimpleCNN(dropout=config.dropout)\n",
    "\n",
    "# Loss and optimizer\n",
    "loss = nn.CrossEntropyLoss()\n",
    "optimizer = torch.optim.Adam(model.parameters(), lr=config.learning_rate, weight_decay=config.decay)\n",
    "\n",
    "model.to(device)\n",
    "\n",
    "num_epochs = 100\n",
    "for epoch in range(config.epochs):\n",
    "    print(f'\\nEpoch {epoch + 1}/{num_epochs}.')\n",
    "    start_time = time.perf_counter()\n",
    "\n",
    "    model.train() # This is necessary because batch normalization behaves differently between training and evaluation\n",
    "\n",
    "    for X, y in train_loader:\n",
    "        X, y = X.to(device), y.to(device) # Moves data to `device`\n",
    "        logits = model(X) # Computes the logits for the batch of images `X`\n",
    "        l = loss(logits, y) # Computes the loss given the `logits` and the class vector `y`\n",
    "        optimizer.zero_grad() # Zeroes the gradients stored in the model parameters\n",
    "        l.backward() # Computes the gradient of the loss `l` with respect to the model parameters\n",
    "\n",
    "        optimizer.step() # Updates the model parameters based on the gradients stored inside them\n",
    "\n",
    "        train_loss = float(l)\n",
    "        losses.append(train_loss) # Stores the loss for this batch\n",
    "\n",
    "    model.eval() # This is necessary because batch normalization behaves differently between training and evaluation\n",
    "    train_acc = evaluate_metric(model, train_loader, correct)\n",
    "    train_accs.append(train_acc)\n",
    "    test_acc = evaluate_metric(model, test_loader, correct)\n",
    "    test_accs.append(test_acc)\n",
    "    metrics = {\"train_loss\": train_loss,\n",
    "               \"train_acc\": train_acc,\n",
    "               \"test_acc\": test_acc}\n",
    "    wandb.log(metrics)\n",
    "\n",
    "    end_time = time.perf_counter()\n",
    "\n",
    "    print(f'Training accuracy: {train_accs[-1]}. Testing accuracy: {test_accs[-1]}. Duration: {end_time - start_time:.3f}s.') # Computes and displays training/testing dataset accuracy.\n",
    "\n",
    "plt.plot(losses) # Plots the loss for each training batch\n",
    "plt.xlabel('Training batch')\n",
    "plt.ylabel('Cross entropy loss')\n",
    "plt.show()\n",
    "\n",
    "plt.plot(list(map(lambda x: x.cpu(),train_accs)), label='Training accuracy')\n",
    "plt.plot(list(map(lambda x: x.cpu(),test_accs)), label='Testing accuracy')\n",
    "plt.legend(loc='best')\n",
    "plt.xlabel('Epoch')\n",
    "plt.show()\n",
    "wandb.finish()"
   ]
  },
  {
   "cell_type": "code",
   "execution_count": 7,
   "metadata": {},
   "outputs": [
    {
     "data": {
      "text/plain": [
       "'BCELoss()'"
      ]
     },
     "execution_count": 7,
     "metadata": {},
     "output_type": "execute_result"
    }
   ],
   "source": [
    "config.loss"
   ]
  },
  {
   "cell_type": "code",
   "execution_count": 8,
   "metadata": {},
   "outputs": [
    {
     "data": {
      "text/plain": [
       "<torch.utils.data.dataloader.DataLoader at 0x7f754da64640>"
      ]
     },
     "execution_count": 8,
     "metadata": {},
     "output_type": "execute_result"
    }
   ],
   "source": [
    "train_loader"
   ]
  },
  {
   "cell_type": "code",
   "execution_count": null,
   "metadata": {},
   "outputs": [],
   "source": []
  }
 ],
 "metadata": {
  "kernelspec": {
   "display_name": "Python 3 (ipykernel)",
   "language": "python",
   "name": "python3"
  },
  "language_info": {
   "codemirror_mode": {
    "name": "ipython",
    "version": 3
   },
   "file_extension": ".py",
   "mimetype": "text/x-python",
   "name": "python",
   "nbconvert_exporter": "python",
   "pygments_lexer": "ipython3",
   "version": "3.10.0"
  }
 },
 "nbformat": 4,
 "nbformat_minor": 2
}
