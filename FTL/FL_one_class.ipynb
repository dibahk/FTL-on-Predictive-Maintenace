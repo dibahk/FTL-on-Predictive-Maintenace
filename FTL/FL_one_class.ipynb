{
 "cells": [
  {
   "cell_type": "code",
   "execution_count": 1,
   "metadata": {},
   "outputs": [
    {
     "name": "stdout",
     "output_type": "stream",
     "text": [
      "Using cuda.\n"
     ]
    }
   ],
   "source": [
    "%matplotlib inline\n",
    "import matplotlib.pyplot as plt\n",
    "import torchvision\n",
    "from torch.utils.data import TensorDataset, random_split, DataLoader\n",
    "import torch.nn as nn\n",
    "import time\n",
    "import wandb\n",
    "from sklearn.metrics import accuracy_score\n",
    "from imblearn.over_sampling import SMOTE\n",
    "import torch\n",
    "from datetime import datetime\n",
    "from collections import OrderedDict\n",
    "from sklearn.decomposition import PCA\n",
    "import flwr as fl\n",
    "from flwr.common import Metrics \n",
    "from time import gmtime, strftime\n",
    "from flwr.server.strategy import FedAvg, FedAdagrad, FedProx\n",
    "import random\n",
    "from flwr.common import ndarrays_to_parameters, NDArrays, Scalar, Context\n",
    "\n",
    "now = datetime.now() # current date and time\n",
    "date_time = now.strftime(\"%d-%m-%Y_%H:%M:%S\")\n",
    "device = torch.device('cuda' if torch.cuda.is_available() else 'cpu')\n",
    "print(f'Using {device}.')"
   ]
  },
  {
   "cell_type": "code",
   "execution_count": 2,
   "metadata": {},
   "outputs": [
    {
     "name": "stderr",
     "output_type": "stream",
     "text": [
      "\u001b[34m\u001b[1mwandb\u001b[0m: Currently logged in as: \u001b[33md-hadjikazemi\u001b[0m (\u001b[33md-hadjikazemi-queen-mary-university-of-london\u001b[0m). Use \u001b[1m`wandb login --relogin`\u001b[0m to force relogin\n",
      "/home/diba/miniconda3/envs/FTL/lib/python3.10/site-packages/wandb/sdk/lib/ipython.py:77: DeprecationWarning: Importing display from IPython.core.display is deprecated since IPython 7.14, please import from IPython display\n",
      "  from IPython.core.display import HTML, display  # type: ignore\n"
     ]
    },
    {
     "data": {
      "text/html": [
       "wandb version 0.17.7 is available!  To upgrade, please run:\n",
       " $ pip install wandb --upgrade"
      ],
      "text/plain": [
       "<IPython.core.display.HTML object>"
      ]
     },
     "metadata": {},
     "output_type": "display_data"
    },
    {
     "data": {
      "text/html": [
       "Tracking run with wandb version 0.17.4"
      ],
      "text/plain": [
       "<IPython.core.display.HTML object>"
      ]
     },
     "metadata": {},
     "output_type": "display_data"
    },
    {
     "data": {
      "text/html": [
       "Run data is saved locally in <code>/home/diba/wandb/run-20240817_211155-gb6mz0iz</code>"
      ],
      "text/plain": [
       "<IPython.core.display.HTML object>"
      ]
     },
     "metadata": {},
     "output_type": "display_data"
    },
    {
     "data": {
      "text/html": [
       "Syncing run <strong><a href='https://wandb.ai/d-hadjikazemi-queen-mary-university-of-london/FTL%20one%20class/runs/gb6mz0iz' target=\"_blank\">centralized training_17-08-2024_21:11:54</a></strong> to <a href='https://wandb.ai/d-hadjikazemi-queen-mary-university-of-london/FTL%20one%20class' target=\"_blank\">Weights & Biases</a> (<a href='https://wandb.me/run' target=\"_blank\">docs</a>)<br/>"
      ],
      "text/plain": [
       "<IPython.core.display.HTML object>"
      ]
     },
     "metadata": {},
     "output_type": "display_data"
    },
    {
     "data": {
      "text/html": [
       " View project at <a href='https://wandb.ai/d-hadjikazemi-queen-mary-university-of-london/FTL%20one%20class' target=\"_blank\">https://wandb.ai/d-hadjikazemi-queen-mary-university-of-london/FTL%20one%20class</a>"
      ],
      "text/plain": [
       "<IPython.core.display.HTML object>"
      ]
     },
     "metadata": {},
     "output_type": "display_data"
    },
    {
     "data": {
      "text/html": [
       " View run at <a href='https://wandb.ai/d-hadjikazemi-queen-mary-university-of-london/FTL%20one%20class/runs/gb6mz0iz' target=\"_blank\">https://wandb.ai/d-hadjikazemi-queen-mary-university-of-london/FTL%20one%20class/runs/gb6mz0iz</a>"
      ],
      "text/plain": [
       "<IPython.core.display.HTML object>"
      ]
     },
     "metadata": {},
     "output_type": "display_data"
    }
   ],
   "source": [
    "wandb.init(\n",
    "    # set the wandb project where this run will be logged\n",
    "    project=\"FTL one class\",\n",
    "    name= \"centralized training_{}\".format(date_time),\n",
    "    # track hyperparameters and run metadata\n",
    "    config={\n",
    "    \"learning_rate\": 0.0001,\n",
    "    \"architecture\": \"CNN\",\n",
    "    \"epochs\": 100,\n",
    "    \"batch_size\": 64,\n",
    "    \"decay\":0,\n",
    "    'dropout': 0.0,\n",
    "    \"learning_rate_TL\": 0.0001,\n",
    "    \"batch_size_TL\": 64,\n",
    "    \"decay_TL\":1e-5,\n",
    "    'num_rounds_TL': 40, \n",
    "    'epochs_TL': 100,\n",
    "    'dropout_TL': 0.001,\n",
    "    \"learning_rate_FL\": 0.0001,\n",
    "    \"batch_size_FL\": 64,\n",
    "    \"decay_FL\": 1e-5,\n",
    "    'num_rounds_FL': 50, \n",
    "    'epochs_FL': 100,\n",
    "    'dropout_FL': 0.001\n",
    "    }\n",
    ")\n",
    "\n",
    "transfer_i = random.randint(0, 3)\n",
    "configuration  = dict(wandb.config)\n",
    "\n",
    "\n",
    "def data_loading_AZURE(data_paths, label_paths, batch_size, train_ratio=0.8, val_ratio=0.5):\n",
    "    trainloader = []\n",
    "    valloader = []\n",
    "    testdata_list = []\n",
    "    testlabels_list = []\n",
    "    for i in range(len(data_paths)):\n",
    "        # importing from paths\n",
    "        data = torch.load(data_paths[i])\n",
    "        labels = torch.load(label_paths[i])\n",
    "        data = nn.functional.normalize(data, dim=1)\n",
    "        # reshaping the dataset so  the channels will be the second dimension.\n",
    "        data = data.permute(0, 2, 1)\n",
    "        print(data.size())\n",
    "        n_samples, n_channels, n_features = data.shape\n",
    "        X_reshaped = data.reshape(n_samples, -1) \n",
    "        # Apply SMOTE\n",
    "        smote = SMOTE(sampling_strategy='minority')\n",
    "        data_resampled, labels_resampled = smote.fit_resample(X_reshaped, labels)\n",
    "        # Reshape X_resampled back to 3D\n",
    "        data_resampled = data_resampled.reshape(-1, n_channels, n_features)\n",
    "        print(data_resampled.shape)\n",
    "        data_resampled = torch.tensor(data_resampled)\n",
    "        labels_resampled = torch.tensor(labels_resampled)\n",
    "        dataset = TensorDataset(data_resampled, labels_resampled)\n",
    "        train_size = int(train_ratio * len(dataset))\n",
    "        test_size = len(dataset) - train_size\n",
    "        val_size = int(val_ratio * test_size)\n",
    "        test_size = test_size - val_size\n",
    "\n",
    "        train_dataset, val_dataset, test_dataset = random_split(dataset, [train_size, val_size, test_size])\n",
    "        if i == transfer_i:\n",
    "            trainloader_transfer = DataLoader(train_dataset, batch_size=batch_size, shuffle=True)\n",
    "            valloader_transfer = DataLoader(val_dataset, batch_size=batch_size, shuffle=True)\n",
    "\n",
    "        else:\n",
    "            trainloader.append(DataLoader(train_dataset, batch_size=batch_size, shuffle=True))\n",
    "            valloader.append(DataLoader(val_dataset, batch_size=batch_size, shuffle=True))\n",
    "            \n",
    "        testdata_list.append(test_dataset.dataset.tensors[0][test_dataset.indices])\n",
    "        testlabels_list.append(test_dataset.dataset.tensors[1][test_dataset.indices])\n",
    "\n",
    "    testdata = torch.cat(testdata_list, dim=0)\n",
    "    testlabels = torch.cat(testlabels_list, dim=0)\n",
    "    \n",
    "    # Create a DataLoader for the combined test data\n",
    "    testloader = DataLoader(TensorDataset(testdata, testlabels), batch_size=batch_size, shuffle=False)\n",
    "    \n",
    "    return trainloader, valloader, testloader, trainloader_transfer, valloader_transfer\n",
    "\n",
    "def data_loading_NASA(data_path, label_path, batch_size, train_ratio=0.8, val_ratio = 0.5):\n",
    "    data = torch.load(data_path)\n",
    "    labels = torch.load(label_path)\n",
    "    data = nn.functional.normalize(data, dim=1)\n",
    "    # reshaping the dataset so  the channels will be the second dimension.\n",
    "    data = data.permute(0, 2, 1)\n",
    "    print(data.size())\n",
    "\n",
    "    def pca_reduction(data, n_components=4):\n",
    "        data_reshaped = data.reshape(-1, data.shape[1])\n",
    "\n",
    "        # Apply PCA\n",
    "        pca = PCA(n_components=n_components)\n",
    "        \n",
    "        data_reduced = pca.fit_transform(data_reshaped)\n",
    "\n",
    "        # Reshape back to (samples, n_components, time_steps)\n",
    "        data_reduced = data_reduced.reshape(data.shape[0], n_components, data.shape[2])\n",
    "\n",
    "        return data_reduced\n",
    "    print(data.dtype)\n",
    "    data = pca_reduction(data, n_components=4)\n",
    "    data =(torch.from_numpy(data)).float()\n",
    "    n_samples, n_channels, n_features = data.shape\n",
    "    X_reshaped = data.reshape(n_samples, -1) \n",
    "    \n",
    "    n_samples, n_channels, n_features = data.shape\n",
    "    X_reshaped = data.reshape(n_samples, -1) \n",
    "    \n",
    "    # Apply SMOTE\n",
    "    smote = SMOTE(sampling_strategy='minority')\n",
    "    data_resampled, labels_resampled = smote.fit_resample(X_reshaped, labels)\n",
    "    print((labels_resampled==1).sum())\n",
    "    # Reshape X_resampled back to 3D\n",
    "    data_resampled = data_resampled.reshape(-1, n_channels, n_features)\n",
    "    print(data_resampled.shape)\n",
    "    data_resampled = torch.tensor(data_resampled)\n",
    "    labels_resampled = torch.tensor(labels_resampled)\n",
    "    dataset = TensorDataset(data_resampled, labels_resampled)\n",
    "    train_size = int(train_ratio * len(dataset))\n",
    "    test_size = len(dataset) - train_size\n",
    "    val_size = int(val_ratio * test_size)\n",
    "    test_size = test_size - val_size\n",
    "    train_dataset, val_dataset, test_dataset = random_split(dataset, [train_size, val_size, test_size])\n",
    "    return DataLoader(train_dataset, batch_size=batch_size, shuffle=True), DataLoader(val_dataset, batch_size=batch_size, shuffle=True), DataLoader(test_dataset, batch_size=batch_size, shuffle=False)\n"
   ]
  },
  {
   "cell_type": "code",
   "execution_count": 3,
   "metadata": {},
   "outputs": [],
   "source": [
    "# Define the CNN architecture\n",
    "class Neural_Network(nn.Module):\n",
    "    def __init__(self):\n",
    "        super(Neural_Network, self).__init__()\n",
    "        self.conv1 = nn.Conv1d(in_channels=4, out_channels=8, kernel_size=5)\n",
    "        self.bn1 = nn.BatchNorm1d(8)\n",
    "        self.conv2 = nn.Conv1d(in_channels=8, out_channels=8, kernel_size=5)\n",
    "        self.bn2 = nn.BatchNorm1d(8)\n",
    "        self.pool = nn.MaxPool1d(kernel_size=2, padding=0, stride=1)\n",
    "        # the size of the out channels x number  of nodes \n",
    "        self.fc1 = nn.Linear(328, 200)\n",
    "        self.fc2 = nn.Linear(200, 2)\n",
    "        self.flatten = nn.Flatten()\n",
    "        self.relu = nn.ReLU()\n",
    "        self.dropout = nn.Dropout(configuration['dropout'])\n",
    "        self.sigmoid = nn.Sigmoid()\n",
    "\n",
    "    def forward(self, x):\n",
    "        # x = self.relu(self.conv1(x))\n",
    "        # x = self.relu(self.conv2(x))\n",
    "        x = self.relu(self.bn1(self.conv1(x)))\n",
    "        x = self.relu(self.bn2(self.conv2(x)))\n",
    "        x = self.dropout(x)\n",
    "        x = self.pool(x)\n",
    "        x = self.flatten(x)\n",
    "        x = self.relu(self.fc1(x))\n",
    "        x - self.dropout(x)\n",
    "        x = self.sigmoid(self.fc2(x))\n",
    "        return x"
   ]
  },
  {
   "cell_type": "code",
   "execution_count": 4,
   "metadata": {},
   "outputs": [],
   "source": [
    "def correct(logits, y):\n",
    "    y_hat = logits.argmax(axis=1) # Finds the column with the highest value for each row of `logits`.\n",
    "    return (y_hat == y).float().sum() # Computes the number of times that `y_hat` and `y` match.\n",
    "\n",
    "def evaluate_metric(model, data_iter, metric):\n",
    "    \"\"\"Compute the average `metric` of the model on a dataset.\"\"\"\n",
    "    c = torch.tensor(0.).to(device)\n",
    "    n = torch.tensor(0.).to(device)\n",
    "    for X, y in data_iter:\n",
    "        X, y = X.to(device), y.to(device) # Moves data to `device`\n",
    "        logits = model(X)\n",
    "        c += metric(logits, y)\n",
    "        n += len(y)\n",
    "    return c*100 / n\n"
   ]
  },
  {
   "cell_type": "code",
   "execution_count": 5,
   "metadata": {},
   "outputs": [
    {
     "name": "stdout",
     "output_type": "stream",
     "text": [
      "torch.Size([848, 24, 50])\n",
      "torch.float32\n",
      "685\n",
      "(1370, 4, 50)\n"
     ]
    }
   ],
   "source": [
    "def train(model, train_loaders,test_loader, config, epochs, name):\n",
    "    loss = nn.CrossEntropyLoss()\n",
    "    optimizer = torch.optim.Adam(model.parameters(), lr=config['learning_rate'], weight_decay=config['decay'])\n",
    "    losses = [] # Stores the loss for each training batch\n",
    "    train_accs = [] # Stores the training accuracy after each epoch\n",
    "    test_accs = []\n",
    "    for epoch in range(epochs):\n",
    "        print(f'\\nEpoch {epoch + 1}/{epochs}')\n",
    "        total, epoch_loss = 0, 0.0\n",
    "        model.train() # This is necessary because batch normalization behaves differently between training and evaluation\n",
    "        \n",
    "        for X, y in train_loaders:\n",
    "            X, y = X.to(device), y.to(device) # Moves data to `device`\n",
    "            logits = model(X) # Computes the logits for the batch of images `X`\n",
    "            l = loss(logits, y) # Computes the loss given the `logits` and the class vector `y`\n",
    "            optimizer.zero_grad() # Zeroes the gradients stored in the model parameters\n",
    "            l.backward() # Computes the gradient of the loss `l` with respect to the model parameters\n",
    "\n",
    "            optimizer.step() # Updates the model parameters based on the gradients stored inside them\n",
    "            epoch_loss += l\n",
    "            \n",
    "        model.eval() # This is necessary because batch normalization behaves differently between training and evaluation\n",
    "        train_acc = evaluate_metric(model, train_loaders, correct)\n",
    "        train_accs.append(train_acc)\n",
    "        test_acc = evaluate_metric(model, test_loader, correct)\n",
    "        test_accs.append(test_acc)\n",
    "        wandb.log({f'{name} training accuraccy': train_acc,\n",
    "                  f'{name} validation accuracy': test_acc})\n",
    "        print(f'Epoch {epoch+1}: Training accuracy: {train_accs[-1]} Testing accuracy: {test_accs[-1]}.') # Computes and displays training/testing dataset accuracy.\n",
    "    plt.plot(list(map(lambda x: x.cpu(),train_accs)), label='Training accuracy')\n",
    "    plt.plot(list(map(lambda x: x.cpu(),test_accs)), label='Validation accuracy')\n",
    "    plt.title('accuracies')\n",
    "    plt.legend()\n",
    "\n",
    "def test(model, test_loaders,  configuration):\n",
    "    loss = nn.CrossEntropyLoss()\n",
    "    test_accs = []\n",
    "    optimizer = torch.optim.Adam(model.parameters(), lr=configuration['learning_rate'], weight_decay=configuration['decay'])\n",
    "    test_acc = []\n",
    "    l = 0.0\n",
    "    model.eval() # This is necessary because batch normalization behaves differently between training and evaluation\n",
    "    for X, y in test_loaders:    \n",
    "        X, y = X.to(device), y.to(device) # Moves data to `device`\n",
    "        logits = model(X)\n",
    "        l = loss(logits, y).item()\n",
    "        test_acc = evaluate_metric(model, test_loaders, correct)\n",
    "        test_accs.append(test_acc)\n",
    "        \n",
    "        # wandb.log({\"test_acc\": test_acc})\n",
    "        l /= len(test_loaders)\n",
    "        end_time = time.perf_counter()\n",
    "        # print('Testing accuracy: {test_accs[-1]}.')\n",
    "        return l, test_acc\n",
    "\n",
    "NASA = data_loading_NASA(data_path='NASA_data_50.pt', label_path= 'NASA_label_50.pt', batch_size= configuration['batch_size'])"
   ]
  },
  {
   "cell_type": "code",
   "execution_count": 6,
   "metadata": {},
   "outputs": [
    {
     "name": "stdout",
     "output_type": "stream",
     "text": [
      "\n",
      "Epoch 1/100\n",
      "Epoch 1: Training accuracy: 50.09123992919922 Testing accuracy: 42.33576583862305.\n",
      "\n",
      "Epoch 2/100\n",
      "Epoch 2: Training accuracy: 52.6459846496582 Testing accuracy: 48.90510940551758.\n",
      "\n",
      "Epoch 3/100\n",
      "Epoch 3: Training accuracy: 53.55839538574219 Testing accuracy: 49.63503646850586.\n",
      "\n",
      "Epoch 4/100\n",
      "Epoch 4: Training accuracy: 62.40876007080078 Testing accuracy: 57.66423416137695.\n",
      "\n",
      "Epoch 5/100\n",
      "Epoch 5: Training accuracy: 63.41240692138672 Testing accuracy: 59.124088287353516.\n",
      "\n",
      "Epoch 6/100\n",
      "Epoch 6: Training accuracy: 65.87591552734375 Testing accuracy: 59.8540153503418.\n",
      "\n",
      "Epoch 7/100\n",
      "Epoch 7: Training accuracy: 67.60948944091797 Testing accuracy: 61.31386947631836.\n",
      "\n",
      "Epoch 8/100\n",
      "Epoch 8: Training accuracy: 68.70437622070312 Testing accuracy: 62.77372360229492.\n",
      "\n",
      "Epoch 9/100\n",
      "Epoch 9: Training accuracy: 69.06934356689453 Testing accuracy: 62.04379653930664.\n",
      "\n",
      "Epoch 10/100\n",
      "Epoch 10: Training accuracy: 66.69708251953125 Testing accuracy: 59.124088287353516.\n",
      "\n",
      "Epoch 11/100\n",
      "Epoch 11: Training accuracy: 71.25912475585938 Testing accuracy: 64.23357391357422.\n",
      "\n",
      "Epoch 12/100\n",
      "Epoch 12: Training accuracy: 71.80657196044922 Testing accuracy: 66.42335510253906.\n",
      "\n",
      "Epoch 13/100\n",
      "Epoch 13: Training accuracy: 70.71167755126953 Testing accuracy: 64.23357391357422.\n",
      "\n",
      "Epoch 14/100\n",
      "Epoch 14: Training accuracy: 73.44890594482422 Testing accuracy: 71.53284454345703.\n",
      "\n",
      "Epoch 15/100\n",
      "Epoch 15: Training accuracy: 71.89781188964844 Testing accuracy: 64.9635009765625.\n",
      "\n",
      "Epoch 16/100\n",
      "Epoch 16: Training accuracy: 73.63138580322266 Testing accuracy: 69.34306335449219.\n",
      "\n",
      "Epoch 17/100\n",
      "Epoch 17: Training accuracy: 73.72262573242188 Testing accuracy: 68.6131362915039.\n",
      "\n",
      "Epoch 18/100\n",
      "Epoch 18: Training accuracy: 73.72262573242188 Testing accuracy: 69.34306335449219.\n",
      "\n",
      "Epoch 19/100\n",
      "Epoch 19: Training accuracy: 74.90876007080078 Testing accuracy: 70.80291748046875.\n",
      "\n",
      "Epoch 20/100\n",
      "Epoch 20: Training accuracy: 74.63504028320312 Testing accuracy: 70.07299041748047.\n",
      "\n",
      "Epoch 21/100\n",
      "Epoch 21: Training accuracy: 75.8211669921875 Testing accuracy: 68.6131362915039.\n",
      "\n",
      "Epoch 22/100\n",
      "Epoch 22: Training accuracy: 75.27371978759766 Testing accuracy: 70.80291748046875.\n",
      "\n",
      "Epoch 23/100\n",
      "Epoch 23: Training accuracy: 76.1861343383789 Testing accuracy: 70.07299041748047.\n",
      "\n",
      "Epoch 24/100\n",
      "Epoch 24: Training accuracy: 76.45985412597656 Testing accuracy: 70.07299041748047.\n",
      "\n",
      "Epoch 25/100\n",
      "Epoch 25: Training accuracy: 76.82481384277344 Testing accuracy: 69.34306335449219.\n",
      "\n",
      "Epoch 26/100\n",
      "Epoch 26: Training accuracy: 76.73357391357422 Testing accuracy: 71.53284454345703.\n",
      "\n",
      "Epoch 27/100\n",
      "Epoch 27: Training accuracy: 77.73722839355469 Testing accuracy: 72.26277160644531.\n",
      "\n",
      "Epoch 28/100\n",
      "Epoch 28: Training accuracy: 77.64598846435547 Testing accuracy: 73.72262573242188.\n",
      "\n",
      "Epoch 29/100\n",
      "Epoch 29: Training accuracy: 78.74087524414062 Testing accuracy: 72.26277160644531.\n",
      "\n",
      "Epoch 30/100\n",
      "Epoch 30: Training accuracy: 79.37956237792969 Testing accuracy: 73.72262573242188.\n",
      "\n",
      "Epoch 31/100\n",
      "Epoch 31: Training accuracy: 79.4708023071289 Testing accuracy: 74.45255279541016.\n",
      "\n",
      "Epoch 32/100\n",
      "Epoch 32: Training accuracy: 79.92700958251953 Testing accuracy: 72.9926986694336.\n",
      "\n",
      "Epoch 33/100\n",
      "Epoch 33: Training accuracy: 80.2919692993164 Testing accuracy: 72.9926986694336.\n",
      "\n",
      "Epoch 34/100\n",
      "Epoch 34: Training accuracy: 79.65328216552734 Testing accuracy: 74.45255279541016.\n",
      "\n",
      "Epoch 35/100\n",
      "Epoch 35: Training accuracy: 80.65693664550781 Testing accuracy: 72.9926986694336.\n",
      "\n",
      "Epoch 36/100\n",
      "Epoch 36: Training accuracy: 80.38320922851562 Testing accuracy: 74.45255279541016.\n",
      "\n",
      "Epoch 37/100\n",
      "Epoch 37: Training accuracy: 81.3868637084961 Testing accuracy: 74.45255279541016.\n",
      "\n",
      "Epoch 38/100\n",
      "Epoch 38: Training accuracy: 81.1131362915039 Testing accuracy: 72.26277160644531.\n",
      "\n",
      "Epoch 39/100\n",
      "Epoch 39: Training accuracy: 81.75182342529297 Testing accuracy: 74.45255279541016.\n",
      "\n",
      "Epoch 40/100\n",
      "Epoch 40: Training accuracy: 81.9343032836914 Testing accuracy: 72.26277160644531.\n",
      "\n",
      "Epoch 41/100\n",
      "Epoch 41: Training accuracy: 82.29927062988281 Testing accuracy: 75.91240692138672.\n",
      "\n",
      "Epoch 42/100\n",
      "Epoch 42: Training accuracy: 82.39051055908203 Testing accuracy: 72.26277160644531.\n",
      "\n",
      "Epoch 43/100\n",
      "Epoch 43: Training accuracy: 82.75547790527344 Testing accuracy: 75.18247985839844.\n",
      "\n",
      "Epoch 44/100\n",
      "Epoch 44: Training accuracy: 82.48175048828125 Testing accuracy: 74.45255279541016.\n",
      "\n",
      "Epoch 45/100\n",
      "Epoch 45: Training accuracy: 83.0291976928711 Testing accuracy: 72.26277160644531.\n",
      "\n",
      "Epoch 46/100\n",
      "Epoch 46: Training accuracy: 83.12043762207031 Testing accuracy: 72.9926986694336.\n",
      "\n",
      "Epoch 47/100\n",
      "Epoch 47: Training accuracy: 83.39415740966797 Testing accuracy: 76.642333984375.\n",
      "\n",
      "Epoch 48/100\n",
      "Epoch 48: Training accuracy: 83.57664489746094 Testing accuracy: 72.26277160644531.\n",
      "\n",
      "Epoch 49/100\n",
      "Epoch 49: Training accuracy: 83.39415740966797 Testing accuracy: 73.72262573242188.\n",
      "\n",
      "Epoch 50/100\n",
      "Epoch 50: Training accuracy: 83.75912475585938 Testing accuracy: 72.26277160644531.\n",
      "\n",
      "Epoch 51/100\n",
      "Epoch 51: Training accuracy: 84.6715316772461 Testing accuracy: 75.91240692138672.\n",
      "\n",
      "Epoch 52/100\n",
      "Epoch 52: Training accuracy: 84.30657196044922 Testing accuracy: 72.9926986694336.\n",
      "\n",
      "Epoch 53/100\n",
      "Epoch 53: Training accuracy: 84.30657196044922 Testing accuracy: 73.72262573242188.\n",
      "\n",
      "Epoch 54/100\n",
      "Epoch 54: Training accuracy: 84.30657196044922 Testing accuracy: 73.72262573242188.\n",
      "\n",
      "Epoch 55/100\n",
      "Epoch 55: Training accuracy: 84.94525909423828 Testing accuracy: 72.26277160644531.\n",
      "\n",
      "Epoch 56/100\n",
      "Epoch 56: Training accuracy: 85.4926986694336 Testing accuracy: 74.45255279541016.\n",
      "\n",
      "Epoch 57/100\n",
      "Epoch 57: Training accuracy: 85.40145874023438 Testing accuracy: 74.45255279541016.\n",
      "\n",
      "Epoch 58/100\n",
      "Epoch 58: Training accuracy: 85.21897888183594 Testing accuracy: 72.26277160644531.\n",
      "\n",
      "Epoch 59/100\n",
      "Epoch 59: Training accuracy: 85.67518615722656 Testing accuracy: 76.642333984375.\n",
      "\n",
      "Epoch 60/100\n",
      "Epoch 60: Training accuracy: 86.04014587402344 Testing accuracy: 73.72262573242188.\n",
      "\n",
      "Epoch 61/100\n",
      "Epoch 61: Training accuracy: 86.04014587402344 Testing accuracy: 75.91240692138672.\n",
      "\n",
      "Epoch 62/100\n",
      "Epoch 62: Training accuracy: 86.77007293701172 Testing accuracy: 74.45255279541016.\n",
      "\n",
      "Epoch 63/100\n",
      "Epoch 63: Training accuracy: 87.04379272460938 Testing accuracy: 75.18247985839844.\n",
      "\n",
      "Epoch 64/100\n",
      "Epoch 64: Training accuracy: 86.3138656616211 Testing accuracy: 75.91240692138672.\n",
      "\n",
      "Epoch 65/100\n",
      "Epoch 65: Training accuracy: 86.95255279541016 Testing accuracy: 74.45255279541016.\n",
      "\n",
      "Epoch 66/100\n",
      "Epoch 66: Training accuracy: 86.40511322021484 Testing accuracy: 77.37226104736328.\n",
      "\n",
      "Epoch 67/100\n",
      "Epoch 67: Training accuracy: 86.58759307861328 Testing accuracy: 79.56204223632812.\n",
      "\n",
      "Epoch 68/100\n",
      "Epoch 68: Training accuracy: 87.77371978759766 Testing accuracy: 76.642333984375.\n",
      "\n",
      "Epoch 69/100\n",
      "Epoch 69: Training accuracy: 87.86495971679688 Testing accuracy: 75.91240692138672.\n",
      "\n",
      "Epoch 70/100\n",
      "Epoch 70: Training accuracy: 87.86495971679688 Testing accuracy: 77.37226104736328.\n",
      "\n",
      "Epoch 71/100\n",
      "Epoch 71: Training accuracy: 88.86861419677734 Testing accuracy: 77.37226104736328.\n",
      "\n",
      "Epoch 72/100\n",
      "Epoch 72: Training accuracy: 89.05109405517578 Testing accuracy: 77.37226104736328.\n",
      "\n",
      "Epoch 73/100\n",
      "Epoch 73: Training accuracy: 89.142333984375 Testing accuracy: 78.10218811035156.\n",
      "\n",
      "Epoch 74/100\n",
      "Epoch 74: Training accuracy: 88.95985412597656 Testing accuracy: 78.10218811035156.\n",
      "\n",
      "Epoch 75/100\n",
      "Epoch 75: Training accuracy: 89.78102111816406 Testing accuracy: 78.10218811035156.\n",
      "\n",
      "Epoch 76/100\n",
      "Epoch 76: Training accuracy: 89.5073013305664 Testing accuracy: 78.10218811035156.\n",
      "\n",
      "Epoch 77/100\n",
      "Epoch 77: Training accuracy: 90.23722839355469 Testing accuracy: 78.10218811035156.\n",
      "\n",
      "Epoch 78/100\n",
      "Epoch 78: Training accuracy: 89.05109405517578 Testing accuracy: 78.10218811035156.\n",
      "\n",
      "Epoch 79/100\n",
      "Epoch 79: Training accuracy: 90.3284683227539 Testing accuracy: 77.37226104736328.\n",
      "\n",
      "Epoch 80/100\n",
      "Epoch 80: Training accuracy: 90.51094818115234 Testing accuracy: 78.10218811035156.\n",
      "\n",
      "Epoch 81/100\n",
      "Epoch 81: Training accuracy: 89.41606140136719 Testing accuracy: 81.02189636230469.\n",
      "\n",
      "Epoch 82/100\n",
      "Epoch 82: Training accuracy: 90.23722839355469 Testing accuracy: 79.56204223632812.\n",
      "\n",
      "Epoch 83/100\n",
      "Epoch 83: Training accuracy: 90.23722839355469 Testing accuracy: 79.56204223632812.\n",
      "\n",
      "Epoch 84/100\n",
      "Epoch 84: Training accuracy: 90.60218811035156 Testing accuracy: 79.56204223632812.\n",
      "\n",
      "Epoch 85/100\n",
      "Epoch 85: Training accuracy: 90.69342803955078 Testing accuracy: 76.642333984375.\n",
      "\n",
      "Epoch 86/100\n",
      "Epoch 86: Training accuracy: 89.41606140136719 Testing accuracy: 81.02189636230469.\n",
      "\n",
      "Epoch 87/100\n",
      "Epoch 87: Training accuracy: 91.24087524414062 Testing accuracy: 77.37226104736328.\n",
      "\n",
      "Epoch 88/100\n",
      "Epoch 88: Training accuracy: 91.33211517333984 Testing accuracy: 78.83211517333984.\n",
      "\n",
      "Epoch 89/100\n",
      "Epoch 89: Training accuracy: 90.69342803955078 Testing accuracy: 79.56204223632812.\n",
      "\n",
      "Epoch 90/100\n",
      "Epoch 90: Training accuracy: 90.69342803955078 Testing accuracy: 80.2919692993164.\n",
      "\n",
      "Epoch 91/100\n",
      "Epoch 91: Training accuracy: 91.51459503173828 Testing accuracy: 78.83211517333984.\n",
      "\n",
      "Epoch 92/100\n",
      "Epoch 92: Training accuracy: 91.87956237792969 Testing accuracy: 78.83211517333984.\n",
      "\n",
      "Epoch 93/100\n",
      "Epoch 93: Training accuracy: 91.78832244873047 Testing accuracy: 80.2919692993164.\n",
      "\n",
      "Epoch 94/100\n",
      "Epoch 94: Training accuracy: 91.69708251953125 Testing accuracy: 80.2919692993164.\n",
      "\n",
      "Epoch 95/100\n",
      "Epoch 95: Training accuracy: 91.69708251953125 Testing accuracy: 81.02189636230469.\n",
      "\n",
      "Epoch 96/100\n",
      "Epoch 96: Training accuracy: 91.69708251953125 Testing accuracy: 81.75182342529297.\n",
      "\n",
      "Epoch 97/100\n",
      "Epoch 97: Training accuracy: 92.06204223632812 Testing accuracy: 81.02189636230469.\n",
      "\n",
      "Epoch 98/100\n",
      "Epoch 98: Training accuracy: 91.60584259033203 Testing accuracy: 81.75182342529297.\n",
      "\n",
      "Epoch 99/100\n",
      "Epoch 99: Training accuracy: 91.60584259033203 Testing accuracy: 75.91240692138672.\n",
      "\n",
      "Epoch 100/100\n",
      "Epoch 100: Training accuracy: 91.24087524414062 Testing accuracy: 81.02189636230469.\n",
      "Epoch 1: validation loss 0.16729295253753662, accuracy 77.37226104736328\n",
      "Final test set performance:\n",
      "\tloss 0.1790117621421814\n",
      "\taccuracy 81.02189636230469\n"
     ]
    },
    {
     "name": "stderr",
     "output_type": "stream",
     "text": [
      "/home/diba/miniconda3/envs/FTL/lib/python3.10/site-packages/wandb/sdk/lib/ipython.py:89: DeprecationWarning: Importing display from IPython.core.display is deprecated since IPython 7.14, please import from IPython display\n",
      "  from IPython.core.display import display\n"
     ]
    },
    {
     "data": {
      "application/vnd.jupyter.widget-view+json": {
       "model_id": "1967db9ef5ed4e488505ebda88f7926e",
       "version_major": 2,
       "version_minor": 0
      },
      "text/plain": [
       "VBox(children=(Label(value='0.004 MB of 0.004 MB uploaded\\r'), FloatProgress(value=1.0, max=1.0)))"
      ]
     },
     "metadata": {},
     "output_type": "display_data"
    },
    {
     "data": {
      "text/html": [
       "<style>\n",
       "    table.wandb td:nth-child(1) { padding: 0 10px; text-align: left ; width: auto;} td:nth-child(2) {text-align: left ; width: 100%}\n",
       "    .wandb-row { display: flex; flex-direction: row; flex-wrap: wrap; justify-content: flex-start; width: 100% }\n",
       "    .wandb-col { display: flex; flex-direction: column; flex-basis: 100%; flex: 1; padding: 10px; }\n",
       "    </style>\n",
       "<div class=\"wandb-row\"><div class=\"wandb-col\"><h3>Run history:</h3><br/><table class=\"wandb\"><tr><td>centralized training accuraccy</td><td>▁▂▄▄▅▄▅▅▅▅▅▆▆▆▆▆▆▆▇▇▇▇▇▇▇▇▇▇▇▇██████████</td></tr><tr><td>centralized validation accuracy</td><td>▁▂▄▅▅▅▆▆▆▆▆▇▇▇▇▇▇▇▇▇▇▇▇▇▇▇█▇▇▇▇▇██▇█████</td></tr></table><br/></div><div class=\"wandb-col\"><h3>Run summary:</h3><br/><table class=\"wandb\"><tr><td>centralized training accuraccy</td><td>91.24088</td></tr><tr><td>centralized validation accuracy</td><td>81.0219</td></tr></table><br/></div></div>"
      ],
      "text/plain": [
       "<IPython.core.display.HTML object>"
      ]
     },
     "metadata": {},
     "output_type": "display_data"
    },
    {
     "data": {
      "text/html": [
       " View run <strong style=\"color:#cdcd00\">centralized training_17-08-2024_21:11:54</strong> at: <a href='https://wandb.ai/d-hadjikazemi-queen-mary-university-of-london/FTL%20one%20class/runs/gb6mz0iz' target=\"_blank\">https://wandb.ai/d-hadjikazemi-queen-mary-university-of-london/FTL%20one%20class/runs/gb6mz0iz</a><br/> View project at: <a href='https://wandb.ai/d-hadjikazemi-queen-mary-university-of-london/FTL%20one%20class' target=\"_blank\">https://wandb.ai/d-hadjikazemi-queen-mary-university-of-london/FTL%20one%20class</a><br/>Synced 6 W&B file(s), 0 media file(s), 0 artifact file(s) and 0 other file(s)"
      ],
      "text/plain": [
       "<IPython.core.display.HTML object>"
      ]
     },
     "metadata": {},
     "output_type": "display_data"
    },
    {
     "data": {
      "text/html": [
       "Find logs at: <code>./wandb/run-20240817_211155-gb6mz0iz/logs</code>"
      ],
      "text/plain": [
       "<IPython.core.display.HTML object>"
      ]
     },
     "metadata": {},
     "output_type": "display_data"
    },
    {
     "data": {
      "text/html": [
       "The new W&B backend becomes opt-out in version 0.18.0; try it out with `wandb.require(\"core\")`! See https://wandb.me/wandb-core for more information."
      ],
      "text/plain": [
       "<IPython.core.display.HTML object>"
      ]
     },
     "metadata": {},
     "output_type": "display_data"
    },
    {
     "data": {
      "image/png": "[encoded data removed]",
      "text/plain": [
       "<Figure size 640x480 with 1 Axes>"
      ]
     },
     "metadata": {},
     "output_type": "display_data"
    }
   ],
   "source": [
    "trainloader = NASA[0]\n",
    "valloader = NASA[1]\n",
    "testloader = NASA[2]\n",
    "net = Neural_Network().to(device)\n",
    "losses = []\n",
    "accuracies = []\n",
    "for epoch in range(1):\n",
    "    train(net, trainloader, testloader, configuration, configuration['epochs'], name='centralized')\n",
    "    loss, accuracy = test(net, valloader, configuration)\n",
    "    losses.append(loss)\n",
    "    accuracies.append(int(accuracy))\n",
    "    print(f\"Epoch {epoch+1}: validation loss {loss}, accuracy {accuracy}\")\n",
    "# plt.plot(accuracies)\n",
    "loss, accuracy = test(net, testloader, configuration=configuration)\n",
    "print(f\"Final test set performance:\\n\\tloss {loss}\\n\\taccuracy {accuracy}\")\n",
    "wandb.finish()"
   ]
  },
  {
   "cell_type": "markdown",
   "metadata": {},
   "source": [
    "## Federated Learning"
   ]
  },
  {
   "cell_type": "code",
   "execution_count": 7,
   "metadata": {},
   "outputs": [
    {
     "name": "stdout",
     "output_type": "stream",
     "text": [
      "torch.Size([1002, 4, 50])\n",
      "(1670, 4, 50)\n",
      "torch.Size([936, 4, 50])\n",
      "(1560, 4, 50)\n",
      "torch.Size([1242, 4, 50])\n",
      "(2070, 4, 50)\n",
      "torch.Size([1014, 4, 50])\n",
      "(1690, 4, 50)\n"
     ]
    }
   ],
   "source": [
    "azure_data_paths = ['AZURE_data_1.pt', 'AZURE_data_2.pt','AZURE_data_3.pt','AZURE_data_4.pt']\n",
    "azure_label_paths = ['AZURE_label_1.pt','AZURE_label_2.pt','AZURE_label_3.pt','AZURE_label_4.pt']\n",
    "azure_train_loaders, azure_val_loaders, azure_test_loader, azure_train_loaders_transfer, azure_val_loaders_transfer = data_loading_AZURE(azure_data_paths, azure_label_paths, batch_size=configuration['batch_size_FL'])"
   ]
  },
  {
   "cell_type": "code",
   "execution_count": 8,
   "metadata": {},
   "outputs": [
    {
     "name": "stderr",
     "output_type": "stream",
     "text": [
      "/home/diba/miniconda3/envs/FTL/lib/python3.10/site-packages/wandb/sdk/lib/ipython.py:89: DeprecationWarning: Importing display from IPython.core.display is deprecated since IPython 7.14, please import from IPython display\n",
      "  from IPython.core.display import display\n"
     ]
    },
    {
     "data": {
      "application/vnd.jupyter.widget-view+json": {
       "model_id": "b7f65e3f147b4fce88d6685012e84622",
       "version_major": 2,
       "version_minor": 0
      },
      "text/plain": [
       "VBox(children=(Label(value='Waiting for wandb.init()...\\r'), FloatProgress(value=0.011112560711100943, max=1.0…"
      ]
     },
     "metadata": {},
     "output_type": "display_data"
    },
    {
     "data": {
      "text/html": [
       "wandb version 0.17.7 is available!  To upgrade, please run:\n",
       " $ pip install wandb --upgrade"
      ],
      "text/plain": [
       "<IPython.core.display.HTML object>"
      ]
     },
     "metadata": {},
     "output_type": "display_data"
    },
    {
     "data": {
      "text/html": [
       "Tracking run with wandb version 0.17.4"
      ],
      "text/plain": [
       "<IPython.core.display.HTML object>"
      ]
     },
     "metadata": {},
     "output_type": "display_data"
    },
    {
     "data": {
      "text/html": [
       "Run data is saved locally in <code>/home/diba/wandb/run-20240817_211214-mhno68b1</code>"
      ],
      "text/plain": [
       "<IPython.core.display.HTML object>"
      ]
     },
     "metadata": {},
     "output_type": "display_data"
    },
    {
     "data": {
      "text/html": [
       "Syncing run <strong><a href='https://wandb.ai/d-hadjikazemi-queen-mary-university-of-london/FTL%20one%20class/runs/mhno68b1' target=\"_blank\">federated learning phase_17-08-2024_21:11:54</a></strong> to <a href='https://wandb.ai/d-hadjikazemi-queen-mary-university-of-london/FTL%20one%20class' target=\"_blank\">Weights & Biases</a> (<a href='https://wandb.me/run' target=\"_blank\">docs</a>)<br/>"
      ],
      "text/plain": [
       "<IPython.core.display.HTML object>"
      ]
     },
     "metadata": {},
     "output_type": "display_data"
    },
    {
     "data": {
      "text/html": [
       " View project at <a href='https://wandb.ai/d-hadjikazemi-queen-mary-university-of-london/FTL%20one%20class' target=\"_blank\">https://wandb.ai/d-hadjikazemi-queen-mary-university-of-london/FTL%20one%20class</a>"
      ],
      "text/plain": [
       "<IPython.core.display.HTML object>"
      ]
     },
     "metadata": {},
     "output_type": "display_data"
    },
    {
     "data": {
      "text/html": [
       " View run at <a href='https://wandb.ai/d-hadjikazemi-queen-mary-university-of-london/FTL%20one%20class/runs/mhno68b1' target=\"_blank\">https://wandb.ai/d-hadjikazemi-queen-mary-university-of-london/FTL%20one%20class/runs/mhno68b1</a>"
      ],
      "text/plain": [
       "<IPython.core.display.HTML object>"
      ]
     },
     "metadata": {},
     "output_type": "display_data"
    },
    {
     "data": {
      "text/html": [
       "<button onClick=\"this.nextSibling.style.display='block';this.style.display='none';\">Display W&B run</button><iframe src='https://wandb.ai/d-hadjikazemi-queen-mary-university-of-london/FTL%20one%20class/runs/mhno68b1?jupyter=true' style='border:none;width:100%;height:420px;display:none;'></iframe>"
      ],
      "text/plain": [
       "<wandb.sdk.wandb_run.Run at 0x7fad5285eb60>"
      ]
     },
     "execution_count": 8,
     "metadata": {},
     "output_type": "execute_result"
    }
   ],
   "source": [
    "wandb.init(\n",
    "    # set the wandb project where this run will be logged\n",
    "    project=\"FTL one class\",\n",
    "    name= \"federated learning phase_{}\".format(date_time),\n",
    "    # track hyperparameters and run metadata\n",
    "    config={\n",
    "    \"learning_rate\": 0.0001,\n",
    "    \"architecture\": \"CNN\",\n",
    "    \"epochs\": 100,\n",
    "    \"batch_size\": 64,\n",
    "    \"decay\":0,\n",
    "    'dropout': 0.0,\n",
    "    \"learning_rate_TL\": 0.0001,\n",
    "    \"batch_size_TL\": 64,\n",
    "    \"decay_TL\":1e-5,\n",
    "    'num_rounds_TL': 40, \n",
    "    'epochs_TL': 100,\n",
    "    'dropout_TL': 0.001,\n",
    "    \"learning_rate_FL\": 0.0001,\n",
    "    \"batch_size_FL\": 64,\n",
    "    \"decay_FL\": 1e-5,\n",
    "    'num_rounds_FL': 50, \n",
    "    'epochs_FL': 100,\n",
    "    'dropout_FL': 0.001\n",
    "    }\n",
    ")"
   ]
  },
  {
   "cell_type": "code",
   "execution_count": 9,
   "metadata": {},
   "outputs": [],
   "source": [
    "# Define the CNN architecture\n",
    "class Neural_Network_FL(nn.Module):\n",
    "    def __init__(self):\n",
    "        super(Neural_Network_FL, self).__init__()\n",
    "        self.conv1 = nn.Conv1d(in_channels=4, out_channels=8, kernel_size=5)\n",
    "        self.conv2 = nn.Conv1d(in_channels=8, out_channels=8, kernel_size=5)\n",
    "        self.pool = nn.MaxPool1d(kernel_size=2, padding=0, stride=1)\n",
    "        # the size of the out channels x number  of nodes \n",
    "        self.fc1 = nn.Linear(328, 200)\n",
    "        self.fc2 = nn.Linear(200, 2)\n",
    "        self.flatten = nn.Flatten()\n",
    "        self.relu = nn.ReLU()\n",
    "        self.dropout = nn.Dropout(configuration['dropout'])\n",
    "        self.sigmoid = nn.Sigmoid()\n",
    "\n",
    "    def forward(self, x):\n",
    "        x = self.relu(self.conv1(x))\n",
    "        x = self.relu(self.conv2(x))\n",
    "        x = self.dropout(x)\n",
    "        x = self.pool(x)\n",
    "        x = self.flatten(x)\n",
    "        x = self.relu(self.fc1(x))\n",
    "        x - self.dropout(x)\n",
    "        x = self.sigmoid(self.fc2(x))\n",
    "        return x"
   ]
  },
  {
   "cell_type": "code",
   "execution_count": 10,
   "metadata": {},
   "outputs": [],
   "source": [
    "def train_FL(model, train_loaders,test_loader, config, epochs):\n",
    "    loss = nn.CrossEntropyLoss()\n",
    "    optimizer = torch.optim.Adam(model.parameters(), lr=config['learning_rate'], weight_decay=config['decay'])\n",
    "    losses = [] # Stores the loss for each training batch\n",
    "    train_accs = [] # Stores the training accuracy after each epoch\n",
    "    test_accs = []\n",
    "    \n",
    "    for epoch in range(epochs):\n",
    "        print(f'\\nEpoch {epoch + 1}/{epochs}')\n",
    "        total, epoch_loss = 0, 0.0\n",
    "        model.train() # This is necessary because batch normalization behaves differently between training and evaluation\n",
    "        \n",
    "        for X, y in train_loaders:\n",
    "            X, y = X.to(device), y.to(device) # Moves data to `device`\n",
    "            logits = model(X) # Computes the logits for the batch of images `X`\n",
    "            l = loss(logits, y) # Computes the loss given the `logits` and the class vector `y`\n",
    "            optimizer.zero_grad() # Zeroes the gradients stored in the model parameters\n",
    "            l.backward() # Computes the gradient of the loss `l` with respect to the model parameters\n",
    "\n",
    "            optimizer.step() # Updates the model parameters based on the gradients stored inside them\n",
    "            epoch_loss += l\n",
    "            \n",
    "        model.eval() # This is necessary because batch normalization behaves differently between training and evaluation\n",
    "        train_acc = evaluate_metric(model, train_loaders, correct)\n",
    "        train_accs.append(train_acc)\n",
    "        test_acc = evaluate_metric(model, test_loader, correct)\n",
    "        test_accs.append(test_acc)\n",
    "        print(f'Epoch {epoch+1}: Training accuracy: {train_accs[-1]} Testing accuracy: {test_accs[-1]}.') # Computes and displays training/testing dataset accuracy.\n",
    "    plt.plot(list(map(lambda x: x.cpu(),train_accs)), label='Training accuracy')\n",
    "    plt.plot(list(map(lambda x: x.cpu(),test_accs)), label='Validation accuracy')\n",
    "    plt.title('accuracies')\n",
    "    plt.legend()\n"
   ]
  },
  {
   "cell_type": "code",
   "execution_count": 11,
   "metadata": {},
   "outputs": [],
   "source": [
    "def get_parameters(model):\n",
    "    # Return model parameters as a list of NumPy ndarrays, excluding parameters of BN layers when using FedBN\n",
    "    return [val.cpu().numpy() for name, val in model.state_dict().items() if ('bn1' not in name and 'bn2' not in name)]\n",
    "\n",
    "def set_parameters(model, parameters):\n",
    "    # Set model parameters from a list of NumPy ndarrays\n",
    "    keys = [k for k in model.state_dict().keys() if 'bn' not in k]\n",
    "    params_dict = zip(keys, parameters)\n",
    "    state_dict = OrderedDict({k: torch.tensor(v) for k, v in params_dict})\n",
    "    model.load_state_dict(state_dict, strict=False)\n",
    "\n",
    "net_FL = Neural_Network_FL().to(device)\n",
    "parameters_centralized = get_parameters(net)\n",
    "set_parameters(net_FL, parameters_centralized)\n",
    "step = 0"
   ]
  },
  {
   "cell_type": "code",
   "execution_count": 12,
   "metadata": {},
   "outputs": [],
   "source": [
    "class FlowerClient(fl.client.NumPyClient):\n",
    "    def __init__(self, net, trainloader, valloader, configuration):\n",
    "        self.net = net\n",
    "        self.trainloader = trainloader\n",
    "        self.valloader = valloader\n",
    "\n",
    "    def get_parameters(self, config):\n",
    "        return get_parameters(self.net)\n",
    "\n",
    "    def fit(self, parameters, config):\n",
    "        set_parameters(self.net, parameters)\n",
    "        train_FL(self.net, self.trainloader,self.valloader,configuration, configuration['epochs_FL'])\n",
    "        return get_parameters(self.net), len(self.trainloader), {}\n",
    "\n",
    "    def evaluate(self, parameters, config):\n",
    "        set_parameters(self.net, parameters)\n",
    "        loss, accuracy = test(self.net, self.valloader, configuration)\n",
    "        return float(loss), len(self.valloader), {\"accuracy\": float(accuracy)}\n",
    "    \n",
    "\n",
    "def client_fn(cid) -> FlowerClient:\n",
    "    net = Neural_Network().to(device)\n",
    "    trainloader = azure_train_loaders[int(cid)]\n",
    "    valloader = azure_val_loaders[int(cid)]\n",
    "    return FlowerClient(net_FL, trainloader, valloader, configuration).to_client()\n"
   ]
  },
  {
   "cell_type": "code",
   "execution_count": 13,
   "metadata": {},
   "outputs": [
    {
     "name": "stderr",
     "output_type": "stream",
     "text": [
      "\u001b[93mWARNING \u001b[0m:   \n",
      "Setting `min_available_clients` lower than `min_fit_clients` or\n",
      "`min_evaluate_clients` can cause the server to fail when there are too few clients\n",
      "connected to the server. `min_available_clients` must be set to a value larger\n",
      "than or equal to the values of `min_fit_clients` and `min_evaluate_clients`.\n",
      "\n",
      "\u001b[92mINFO \u001b[0m:      Starting Flower simulation, config: num_rounds=50, no round_timeout\n",
      "2024-08-17 21:12:19,620\tINFO worker.py:1621 -- Started a local Ray instance.\n",
      "\u001b[92mINFO \u001b[0m:      Flower VCE: Ray initialized with resources: {'node:__internal_head__': 1.0, 'object_store_memory': 54092040192.0, 'memory': 116214760448.0, 'node:192.168.1.146': 1.0, 'CPU': 32.0, 'GPU': 2.0, 'accelerator_type:G': 1.0}\n",
      "\u001b[92mINFO \u001b[0m:      Optimize your simulation with Flower VCE: https://flower.ai/docs/framework/how-to-run-simulations.html\n",
      "\u001b[92mINFO \u001b[0m:      Flower VCE: Resources for each Virtual Client: {'num_cpus': 1, 'num_gpus': 1.0}\n",
      "\u001b[92mINFO \u001b[0m:      Flower VCE: Creating VirtualClientEngineActorPool with 2 actors\n",
      "\u001b[92mINFO \u001b[0m:      [INIT]\n",
      "\u001b[92mINFO \u001b[0m:      Using initial global parameters provided by strategy\n",
      "\u001b[92mINFO \u001b[0m:      Evaluating initial global parameters\n",
      "\u001b[92mINFO \u001b[0m:      initial parameters (loss, other metrics): 0.06493556499481201, {'accuracy': tensor(46.6381, device='cuda:0')}\n",
      "\u001b[92mINFO \u001b[0m:      \n",
      "\u001b[92mINFO \u001b[0m:      [ROUND 1]\n",
      "\u001b[92mINFO \u001b[0m:      configure_fit: strategy sampled 3 clients (out of 3)\n"
     ]
    },
    {
     "name": "stdout",
     "output_type": "stream",
     "text": [
      "Server-side evaluation loss 0.06493556499481201 / accuracy 46.63805389404297\n",
      "\u001b[2m\u001b[36m(ClientAppActor pid=403866)\u001b[0m \n",
      "\u001b[2m\u001b[36m(ClientAppActor pid=403866)\u001b[0m Epoch 1/100\n",
      "\u001b[2m\u001b[36m(ClientAppActor pid=403866)\u001b[0m Epoch 1: Training accuracy: 49.87922668457031 Testing accuracy: 55.55555725097656.\n",
      "\u001b[2m\u001b[36m(ClientAppActor pid=403866)\u001b[0m Epoch 2: Training accuracy: 49.87922668457031 Testing accuracy: 55.55555725097656.\n",
      "\u001b[2m\u001b[36m(ClientAppActor pid=403866)\u001b[0m \u001b[32m [repeated 26x across cluster] (Ray deduplicates logs by default. Set RAY_DEDUP_LOGS=0 to disable log deduplication, or see https://docs.ray.io/en/master/ray-observability/ray-logging.html#log-deduplication for more options.)\u001b[0m\n",
      "\u001b[2m\u001b[36m(ClientAppActor pid=403866)\u001b[0m Epoch 17/100\u001b[32m [repeated 26x across cluster]\u001b[0m\n",
      "\u001b[2m\u001b[36m(ClientAppActor pid=403867)\u001b[0m Epoch 12: Training accuracy: 50.67365264892578 Testing accuracy: 46.107784271240234.\u001b[32m [repeated 30x across cluster]\u001b[0m\n",
      "\u001b[2m\u001b[36m(ClientAppActor pid=403866)\u001b[0m \u001b[32m [repeated 51x across cluster]\u001b[0m\n",
      "\u001b[2m\u001b[36m(ClientAppActor pid=403866)\u001b[0m Epoch 56/100\u001b[32m [repeated 51x across cluster]\u001b[0m\n",
      "\u001b[2m\u001b[36m(ClientAppActor pid=403866)\u001b[0m Epoch 65: Training accuracy: 72.70531463623047 Testing accuracy: 72.94686126708984.\u001b[32m [repeated 57x across cluster]\u001b[0m\n",
      "\u001b[2m\u001b[36m(ClientAppActor pid=403866)\u001b[0m \u001b[32m [repeated 60x across cluster]\u001b[0m\n",
      "\u001b[2m\u001b[36m(ClientAppActor pid=403866)\u001b[0m Epoch 3/100\u001b[32m [repeated 60x across cluster]\u001b[0m\n",
      "\u001b[2m\u001b[36m(ClientAppActor pid=403866)\u001b[0m Epoch 14: Training accuracy: 50.44378662109375 Testing accuracy: 49.70414352416992.\u001b[32m [repeated 64x across cluster]\u001b[0m\n"
     ]
    },
    {
     "name": "stderr",
     "output_type": "stream",
     "text": [
      "\u001b[92mINFO \u001b[0m:      aggregate_fit: received 3 results and 0 failures\n",
      "\u001b[93mWARNING \u001b[0m:   No fit_metrics_aggregation_fn provided\n",
      "\u001b[92mINFO \u001b[0m:      fit progress: (1, 0.059781957756389274, {'accuracy': tensor(70.6724, device='cuda:0')}, 21.06122073000006)\n",
      "\u001b[92mINFO \u001b[0m:      configure_evaluate: strategy sampled 1 clients (out of 3)\n",
      "\u001b[92mINFO \u001b[0m:      aggregate_evaluate: received 1 results and 0 failures\n",
      "\u001b[92mINFO \u001b[0m:      \n",
      "\u001b[92mINFO \u001b[0m:      [ROUND 2]\n",
      "\u001b[92mINFO \u001b[0m:      configure_fit: strategy sampled 3 clients (out of 3)\n"
     ]
    },
    {
     "name": "stdout",
     "output_type": "stream",
     "text": [
      "Server-side evaluation loss 0.059781957756389274 / accuracy 70.6723861694336\n",
      "\u001b[2m\u001b[36m(ClientAppActor pid=403867)\u001b[0m \u001b[32m [repeated 191x across cluster]\u001b[0m\n",
      "\u001b[2m\u001b[36m(ClientAppActor pid=403867)\u001b[0m Epoch 19/100\u001b[32m [repeated 191x across cluster]\u001b[0m\n",
      "\u001b[2m\u001b[36m(ClientAppActor pid=403867)\u001b[0m Epoch 51: Training accuracy: 71.556884765625 Testing accuracy: 70.65868377685547.\u001b[32m [repeated 233x across cluster]\u001b[0m\n",
      "\u001b[2m\u001b[36m(ClientAppActor pid=403867)\u001b[0m \u001b[32m [repeated 133x across cluster]\u001b[0m\n",
      "\u001b[2m\u001b[36m(ClientAppActor pid=403867)\u001b[0m Epoch 92/100\u001b[32m [repeated 133x across cluster]\u001b[0m\n",
      "\u001b[2m\u001b[36m(ClientAppActor pid=403866)\u001b[0m Epoch 75: Training accuracy: 73.00296020507812 Testing accuracy: 72.78106689453125.\u001b[32m [repeated 82x across cluster]\u001b[0m\n",
      "\u001b[2m\u001b[36m(ClientAppActor pid=403866)\u001b[0m \u001b[32m [repeated 43x across cluster]\u001b[0m\n",
      "\u001b[2m\u001b[36m(ClientAppActor pid=403866)\u001b[0m Epoch 99/100\u001b[32m [repeated 43x across cluster]\u001b[0m\n",
      "\u001b[2m\u001b[36m(ClientAppActor pid=403867)\u001b[0m Epoch 9: Training accuracy: 71.31642150878906 Testing accuracy: 75.36231994628906.\u001b[32m [repeated 41x across cluster]\u001b[0m\n",
      "\u001b[2m\u001b[36m(ClientAppActor pid=403867)\u001b[0m \u001b[32m [repeated 18x across cluster]\u001b[0m\n",
      "\u001b[2m\u001b[36m(ClientAppActor pid=403867)\u001b[0m Epoch 23/100\u001b[32m [repeated 18x across cluster]\u001b[0m\n",
      "\u001b[2m\u001b[36m(ClientAppActor pid=403867)\u001b[0m Epoch 30: Training accuracy: 74.51690673828125 Testing accuracy: 73.91304016113281.\u001b[32m [repeated 21x across cluster]\u001b[0m\n"
     ]
    },
    {
     "name": "stderr",
     "output_type": "stream",
     "text": [
      "\u001b[92mINFO \u001b[0m:      aggregate_fit: received 3 results and 0 failures\n",
      "\u001b[92mINFO \u001b[0m:      fit progress: (2, 0.05273230509324507, {'accuracy': tensor(72.2461, device='cuda:0')}, 40.38657671799956)\n",
      "\u001b[92mINFO \u001b[0m:      configure_evaluate: strategy sampled 1 clients (out of 3)\n",
      "\u001b[92mINFO \u001b[0m:      aggregate_evaluate: received 1 results and 0 failures\n",
      "\u001b[92mINFO \u001b[0m:      \n",
      "\u001b[92mINFO \u001b[0m:      [ROUND 3]\n",
      "\u001b[92mINFO \u001b[0m:      configure_fit: strategy sampled 3 clients (out of 3)\n"
     ]
    },
    {
     "name": "stdout",
     "output_type": "stream",
     "text": [
      "Server-side evaluation loss 0.05273230509324507 / accuracy 72.24606323242188\n",
      "\u001b[2m\u001b[36m(ClientAppActor pid=403867)\u001b[0m \u001b[32m [repeated 152x across cluster]\u001b[0m\n",
      "\u001b[2m\u001b[36m(ClientAppActor pid=403867)\u001b[0m Epoch 52/100\u001b[32m [repeated 152x across cluster]\u001b[0m\n",
      "\u001b[2m\u001b[36m(ClientAppActor pid=403867)\u001b[0m Epoch 72: Training accuracy: 74.5772933959961 Testing accuracy: 76.32849884033203.\u001b[32m [repeated 183x across cluster]\u001b[0m\n",
      "\u001b[2m\u001b[36m(ClientAppActor pid=403867)\u001b[0m \u001b[32m [repeated 195x across cluster]\u001b[0m\n",
      "\u001b[2m\u001b[36m(ClientAppActor pid=403867)\u001b[0m Epoch 70/100\u001b[32m [repeated 195x across cluster]\u001b[0m\n",
      "\u001b[2m\u001b[36m(ClientAppActor pid=403867)\u001b[0m Epoch 71: Training accuracy: 73.2035903930664 Testing accuracy: 72.45509338378906.\u001b[32m [repeated 158x across cluster]\u001b[0m\n",
      "\u001b[2m\u001b[36m(ClientAppActor pid=403867)\u001b[0m \u001b[32m [repeated 11x across cluster]\u001b[0m\n",
      "\u001b[2m\u001b[36m(ClientAppActor pid=403867)\u001b[0m Epoch 81/100\u001b[32m [repeated 11x across cluster]\u001b[0m\n",
      "\u001b[2m\u001b[36m(ClientAppActor pid=403867)\u001b[0m Epoch 82: Training accuracy: 70.65868377685547 Testing accuracy: 67.6646728515625.\u001b[32m [repeated 11x across cluster]\u001b[0m\n",
      "\u001b[2m\u001b[36m(ClientAppActor pid=403867)\u001b[0m \u001b[32m [repeated 12x across cluster]\u001b[0m\n",
      "\u001b[2m\u001b[36m(ClientAppActor pid=403867)\u001b[0m Epoch 93/100\u001b[32m [repeated 12x across cluster]\u001b[0m\n",
      "\u001b[2m\u001b[36m(ClientAppActor pid=403867)\u001b[0m Epoch 94: Training accuracy: 71.40718841552734 Testing accuracy: 72.45509338378906.\u001b[32m [repeated 12x across cluster]\u001b[0m\n"
     ]
    },
    {
     "name": "stderr",
     "output_type": "stream",
     "text": [
      "\u001b[92mINFO \u001b[0m:      aggregate_fit: received 3 results and 0 failures\n",
      "\u001b[92mINFO \u001b[0m:      fit progress: (3, 0.051631694490259346, {'accuracy': tensor(72.2461, device='cuda:0')}, 61.60479454199958)\n",
      "\u001b[92mINFO \u001b[0m:      configure_evaluate: strategy sampled 1 clients (out of 3)\n"
     ]
    },
    {
     "name": "stdout",
     "output_type": "stream",
     "text": [
      "Server-side evaluation loss 0.051631694490259346 / accuracy 72.24606323242188\n"
     ]
    },
    {
     "name": "stderr",
     "output_type": "stream",
     "text": [
      "\u001b[92mINFO \u001b[0m:      aggregate_evaluate: received 1 results and 0 failures\n",
      "\u001b[92mINFO \u001b[0m:      \n",
      "\u001b[92mINFO \u001b[0m:      [ROUND 4]\n",
      "\u001b[92mINFO \u001b[0m:      configure_fit: strategy sampled 3 clients (out of 3)\n"
     ]
    },
    {
     "name": "stdout",
     "output_type": "stream",
     "text": [
      "\u001b[2m\u001b[36m(ClientAppActor pid=403866)\u001b[0m \u001b[32m [repeated 43x across cluster]\u001b[0m\n",
      "\u001b[2m\u001b[36m(ClientAppActor pid=403866)\u001b[0m Epoch 34/100\u001b[32m [repeated 43x across cluster]\u001b[0m\n",
      "\u001b[2m\u001b[36m(ClientAppActor pid=403867)\u001b[0m Epoch 6: Training accuracy: 75.66425323486328 Testing accuracy: 74.87922668457031.\u001b[32m [repeated 73x across cluster]\u001b[0m\n",
      "\u001b[2m\u001b[36m(ClientAppActor pid=403867)\u001b[0m \u001b[32m [repeated 239x across cluster]\u001b[0m\n",
      "\u001b[2m\u001b[36m(ClientAppActor pid=403867)\u001b[0m Epoch 97/100\u001b[32m [repeated 239x across cluster]\u001b[0m\n",
      "\u001b[2m\u001b[36m(ClientAppActor pid=403866)\u001b[0m Epoch 95: Training accuracy: 74.1124267578125 Testing accuracy: 73.9645004272461.\u001b[32m [repeated 228x across cluster]\u001b[0m\n"
     ]
    },
    {
     "name": "stderr",
     "output_type": "stream",
     "text": [
      "\u001b[92mINFO \u001b[0m:      aggregate_fit: received 3 results and 0 failures\n",
      "\u001b[92mINFO \u001b[0m:      fit progress: (4, 0.05191037871620872, {'accuracy': tensor(71.6738, device='cuda:0')}, 70.12842795799952)\n",
      "\u001b[92mINFO \u001b[0m:      configure_evaluate: strategy sampled 1 clients (out of 3)\n",
      "\u001b[92mINFO \u001b[0m:      aggregate_evaluate: received 1 results and 0 failures\n",
      "\u001b[92mINFO \u001b[0m:      \n",
      "\u001b[92mINFO \u001b[0m:      [ROUND 5]\n",
      "\u001b[92mINFO \u001b[0m:      configure_fit: strategy sampled 3 clients (out of 3)\n"
     ]
    },
    {
     "name": "stdout",
     "output_type": "stream",
     "text": [
      "Server-side evaluation loss 0.05191037871620872 / accuracy 71.67382049560547\n",
      "\u001b[2m\u001b[36m(ClientAppActor pid=403866)\u001b[0m \u001b[32m [repeated 47x across cluster]\u001b[0m\n",
      "\u001b[2m\u001b[36m(ClientAppActor pid=403866)\u001b[0m Epoch 17/100\u001b[32m [repeated 47x across cluster]\u001b[0m\n",
      "\u001b[2m\u001b[36m(ClientAppActor pid=403866)\u001b[0m Epoch 21: Training accuracy: 73.2784423828125 Testing accuracy: 74.25149536132812.\u001b[32m [repeated 32x across cluster]\u001b[0m\n",
      "\u001b[2m\u001b[36m(ClientAppActor pid=403867)\u001b[0m \u001b[32m [repeated 34x across cluster]\u001b[0m\n",
      "\u001b[2m\u001b[36m(ClientAppActor pid=403867)\u001b[0m Epoch 15/100\u001b[32m [repeated 34x across cluster]\u001b[0m\n",
      "\u001b[2m\u001b[36m(ClientAppActor pid=403866)\u001b[0m Epoch 47: Training accuracy: 73.95209503173828 Testing accuracy: 75.44910430908203.\u001b[32m [repeated 35x across cluster]\u001b[0m\n",
      "\u001b[2m\u001b[36m(ClientAppActor pid=403866)\u001b[0m \u001b[32m [repeated 68x across cluster]\u001b[0m\n",
      "\u001b[2m\u001b[36m(ClientAppActor pid=403866)\u001b[0m Epoch 95/100\u001b[32m [repeated 68x across cluster]\u001b[0m\n",
      "\u001b[2m\u001b[36m(ClientAppActor pid=403867)\u001b[0m Epoch 41: Training accuracy: 75.12077331542969 Testing accuracy: 75.36231994628906.\u001b[32m [repeated 106x across cluster]\u001b[0m\n"
     ]
    },
    {
     "name": "stderr",
     "output_type": "stream",
     "text": [
      "\u001b[92mINFO \u001b[0m:      aggregate_fit: received 3 results and 0 failures\n",
      "\u001b[92mINFO \u001b[0m:      fit progress: (5, 0.05232052369551225, {'accuracy': tensor(70.8155, device='cuda:0')}, 86.74632144100178)\n",
      "\u001b[92mINFO \u001b[0m:      configure_evaluate: strategy sampled 1 clients (out of 3)\n",
      "\u001b[92mINFO \u001b[0m:      aggregate_evaluate: received 1 results and 0 failures\n",
      "\u001b[92mINFO \u001b[0m:      \n",
      "\u001b[92mINFO \u001b[0m:      [ROUND 6]\n",
      "\u001b[92mINFO \u001b[0m:      configure_fit: strategy sampled 3 clients (out of 3)\n"
     ]
    },
    {
     "name": "stdout",
     "output_type": "stream",
     "text": [
      "Server-side evaluation loss 0.05232052369551225 / accuracy 70.8154525756836\n",
      "\u001b[2m\u001b[36m(ClientAppActor pid=403866)\u001b[0m \u001b[32m [repeated 223x across cluster]\u001b[0m\n",
      "\u001b[2m\u001b[36m(ClientAppActor pid=403866)\u001b[0m Epoch 12/100\u001b[32m [repeated 223x across cluster]\u001b[0m\n",
      "\u001b[2m\u001b[36m(ClientAppActor pid=403866)\u001b[0m Epoch 16: Training accuracy: 75.48309326171875 Testing accuracy: 74.87922668457031.\u001b[32m [repeated 186x across cluster]\u001b[0m\n",
      "\u001b[2m\u001b[36m(ClientAppActor pid=403866)\u001b[0m \u001b[32m [repeated 45x across cluster]\u001b[0m\n",
      "\u001b[2m\u001b[36m(ClientAppActor pid=403866)\u001b[0m Epoch 44/100\u001b[32m [repeated 45x across cluster]\u001b[0m\n",
      "\u001b[2m\u001b[36m(ClientAppActor pid=403866)\u001b[0m Epoch 53: Training accuracy: 75.84541320800781 Testing accuracy: 76.81159210205078.\u001b[32m [repeated 49x across cluster]\u001b[0m\n",
      "\u001b[2m\u001b[36m(ClientAppActor pid=403867)\u001b[0m \u001b[32m [repeated 60x across cluster]\u001b[0m\n",
      "\u001b[2m\u001b[36m(ClientAppActor pid=403867)\u001b[0m Epoch 60/100\u001b[32m [repeated 60x across cluster]\u001b[0m\n",
      "\u001b[2m\u001b[36m(ClientAppActor pid=403866)\u001b[0m Epoch 13: Training accuracy: 75.59171295166016 Testing accuracy: 75.7396469116211.\u001b[32m [repeated 71x across cluster]\u001b[0m\n",
      "\u001b[2m\u001b[36m(ClientAppActor pid=403867)\u001b[0m \u001b[32m [repeated 125x across cluster]\u001b[0m\n",
      "\u001b[2m\u001b[36m(ClientAppActor pid=403867)\u001b[0m Epoch 77/100\u001b[32m [repeated 125x across cluster]\u001b[0m\n",
      "\u001b[2m\u001b[36m(ClientAppActor pid=403867)\u001b[0m Epoch 83: Training accuracy: 74.10179901123047 Testing accuracy: 75.44910430908203.\u001b[32m [repeated 109x across cluster]\u001b[0m\n"
     ]
    },
    {
     "name": "stderr",
     "output_type": "stream",
     "text": [
      "\u001b[92mINFO \u001b[0m:      aggregate_fit: received 3 results and 0 failures\n",
      "\u001b[92mINFO \u001b[0m:      fit progress: (6, 0.0528517636385831, {'accuracy': tensor(72.1030, device='cuda:0')}, 105.75990144200114)\n",
      "\u001b[92mINFO \u001b[0m:      configure_evaluate: strategy sampled 1 clients (out of 3)\n",
      "\u001b[92mINFO \u001b[0m:      aggregate_evaluate: received 1 results and 0 failures\n",
      "\u001b[92mINFO \u001b[0m:      \n",
      "\u001b[92mINFO \u001b[0m:      [ROUND 7]\n",
      "\u001b[92mINFO \u001b[0m:      configure_fit: strategy sampled 3 clients (out of 3)\n"
     ]
    },
    {
     "name": "stdout",
     "output_type": "stream",
     "text": [
      "Server-side evaluation loss 0.0528517636385831 / accuracy 72.1030044555664\n",
      "\u001b[2m\u001b[36m(ClientAppActor pid=403867)\u001b[0m \u001b[32m [repeated 167x across cluster]\u001b[0m\n",
      "\u001b[2m\u001b[36m(ClientAppActor pid=403867)\u001b[0m Epoch 72/100\u001b[32m [repeated 167x across cluster]\u001b[0m\n",
      "\u001b[2m\u001b[36m(ClientAppActor pid=403866)\u001b[0m Epoch 3: Training accuracy: 73.50299072265625 Testing accuracy: 75.44910430908203.\u001b[32m [repeated 220x across cluster]\u001b[0m\n",
      "\u001b[2m\u001b[36m(ClientAppActor pid=403866)\u001b[0m \u001b[32m [repeated 80x across cluster]\u001b[0m\n",
      "\u001b[2m\u001b[36m(ClientAppActor pid=403866)\u001b[0m Epoch 24/100\u001b[32m [repeated 80x across cluster]\u001b[0m\n",
      "\u001b[2m\u001b[36m(ClientAppActor pid=403866)\u001b[0m Epoch 29: Training accuracy: 74.62574768066406 Testing accuracy: 72.45509338378906.\u001b[32m [repeated 26x across cluster]\u001b[0m\n",
      "\u001b[2m\u001b[36m(ClientAppActor pid=403866)\u001b[0m \u001b[32m [repeated 30x across cluster]\u001b[0m\n",
      "\u001b[2m\u001b[36m(ClientAppActor pid=403866)\u001b[0m Epoch 54/100\u001b[32m [repeated 30x across cluster]\u001b[0m\n",
      "\u001b[2m\u001b[36m(ClientAppActor pid=403866)\u001b[0m Epoch 87: Training accuracy: 74.85029602050781 Testing accuracy: 76.04790496826172.\u001b[32m [repeated 58x across cluster]\u001b[0m\n"
     ]
    },
    {
     "name": "stderr",
     "output_type": "stream",
     "text": [
      "\u001b[92mINFO \u001b[0m:      aggregate_fit: received 3 results and 0 failures\n",
      "\u001b[92mINFO \u001b[0m:      fit progress: (7, 0.053121897307309235, {'accuracy': tensor(70.6724, device='cuda:0')}, 120.50783652099926)\n",
      "\u001b[92mINFO \u001b[0m:      configure_evaluate: strategy sampled 1 clients (out of 3)\n",
      "\u001b[92mINFO \u001b[0m:      aggregate_evaluate: received 1 results and 0 failures\n",
      "\u001b[92mINFO \u001b[0m:      \n",
      "\u001b[92mINFO \u001b[0m:      [ROUND 8]\n",
      "\u001b[92mINFO \u001b[0m:      configure_fit: strategy sampled 3 clients (out of 3)\n"
     ]
    },
    {
     "name": "stdout",
     "output_type": "stream",
     "text": [
      "Server-side evaluation loss 0.053121897307309235 / accuracy 70.6723861694336\n",
      "\u001b[2m\u001b[36m(ClientAppActor pid=403866)\u001b[0m \u001b[32m [repeated 113x across cluster]\u001b[0m\n",
      "\u001b[2m\u001b[36m(ClientAppActor pid=403866)\u001b[0m Epoch 60/100\u001b[32m [repeated 113x across cluster]\u001b[0m\n",
      "\u001b[2m\u001b[36m(ClientAppActor pid=403866)\u001b[0m Epoch 83: Training accuracy: 74.75845336914062 Testing accuracy: 75.84541320800781.\u001b[32m [repeated 105x across cluster]\u001b[0m\n",
      "\u001b[2m\u001b[36m(ClientAppActor pid=403867)\u001b[0m \u001b[32m [repeated 149x across cluster]\u001b[0m\n",
      "\u001b[2m\u001b[36m(ClientAppActor pid=403867)\u001b[0m Epoch 45/100\u001b[32m [repeated 149x across cluster]\u001b[0m\n",
      "\u001b[2m\u001b[36m(ClientAppActor pid=403867)\u001b[0m Epoch 65: Training accuracy: 73.2784423828125 Testing accuracy: 77.84431457519531.\u001b[32m [repeated 173x across cluster]\u001b[0m\n"
     ]
    },
    {
     "name": "stderr",
     "output_type": "stream",
     "text": [
      "\u001b[92mINFO \u001b[0m:      aggregate_fit: received 3 results and 0 failures\n",
      "\u001b[92mINFO \u001b[0m:      fit progress: (8, 0.05350592461499301, {'accuracy': tensor(70.3863, device='cuda:0')}, 131.06346793500052)\n",
      "\u001b[92mINFO \u001b[0m:      configure_evaluate: strategy sampled 1 clients (out of 3)\n",
      "\u001b[92mINFO \u001b[0m:      aggregate_evaluate: received 1 results and 0 failures\n",
      "\u001b[92mINFO \u001b[0m:      \n",
      "\u001b[92mINFO \u001b[0m:      [ROUND 9]\n",
      "\u001b[92mINFO \u001b[0m:      configure_fit: strategy sampled 3 clients (out of 3)\n"
     ]
    },
    {
     "name": "stdout",
     "output_type": "stream",
     "text": [
      "Server-side evaluation loss 0.05350592461499301 / accuracy 70.38626861572266\n",
      "\u001b[2m\u001b[36m(ClientAppActor pid=403867)\u001b[0m \u001b[32m [repeated 197x across cluster]\u001b[0m\n",
      "\u001b[2m\u001b[36m(ClientAppActor pid=403867)\u001b[0m Epoch 68/100\u001b[32m [repeated 197x across cluster]\u001b[0m\n",
      "\u001b[2m\u001b[36m(ClientAppActor pid=403867)\u001b[0m Epoch 71: Training accuracy: 75.29940032958984 Testing accuracy: 73.05389404296875.\u001b[32m [repeated 157x across cluster]\u001b[0m\n",
      "\u001b[2m\u001b[36m(ClientAppActor pid=403866)\u001b[0m \u001b[32m [repeated 47x across cluster]\u001b[0m\n",
      "\u001b[2m\u001b[36m(ClientAppActor pid=403866)\u001b[0m Epoch 79/100\u001b[32m [repeated 47x across cluster]\u001b[0m\n",
      "\u001b[2m\u001b[36m(ClientAppActor pid=403866)\u001b[0m Epoch 92: Training accuracy: 75.44378662109375 Testing accuracy: 75.1479263305664.\u001b[32m [repeated 53x across cluster]\u001b[0m\n",
      "\u001b[2m\u001b[36m(ClientAppActor pid=403866)\u001b[0m \u001b[32m [repeated 58x across cluster]\u001b[0m\n",
      "\u001b[2m\u001b[36m(ClientAppActor pid=403866)\u001b[0m Epoch 26/100\u001b[32m [repeated 58x across cluster]\u001b[0m\n",
      "\u001b[2m\u001b[36m(ClientAppActor pid=403866)\u001b[0m Epoch 36: Training accuracy: 76.50965881347656 Testing accuracy: 76.32849884033203.\u001b[32m [repeated 55x across cluster]\u001b[0m\n"
     ]
    },
    {
     "name": "stderr",
     "output_type": "stream",
     "text": [
      "\u001b[92mINFO \u001b[0m:      aggregate_fit: received 3 results and 0 failures\n",
      "\u001b[92mINFO \u001b[0m:      fit progress: (9, 0.05349561301144687, {'accuracy': tensor(71.1016, device='cuda:0')}, 148.61873203399955)\n",
      "\u001b[92mINFO \u001b[0m:      configure_evaluate: strategy sampled 1 clients (out of 3)\n",
      "\u001b[92mINFO \u001b[0m:      aggregate_evaluate: received 1 results and 0 failures\n",
      "\u001b[92mINFO \u001b[0m:      \n",
      "\u001b[92mINFO \u001b[0m:      [ROUND 10]\n",
      "\u001b[92mINFO \u001b[0m:      configure_fit: strategy sampled 3 clients (out of 3)\n"
     ]
    },
    {
     "name": "stdout",
     "output_type": "stream",
     "text": [
      "Server-side evaluation loss 0.05349561301144687 / accuracy 71.10157012939453\n",
      "\u001b[2m\u001b[36m(ClientAppActor pid=403866)\u001b[0m \u001b[32m [repeated 89x across cluster]\u001b[0m\n",
      "\u001b[2m\u001b[36m(ClientAppActor pid=403866)\u001b[0m Epoch 6/100\u001b[32m [repeated 89x across cluster]\u001b[0m\n",
      "\u001b[2m\u001b[36m(ClientAppActor pid=403866)\u001b[0m Epoch 27: Training accuracy: 77.23429870605469 Testing accuracy: 76.81159210205078.\u001b[32m [repeated 99x across cluster]\u001b[0m\n",
      "\u001b[2m\u001b[36m(ClientAppActor pid=403866)\u001b[0m \u001b[32m [repeated 105x across cluster]\u001b[0m\n",
      "\u001b[2m\u001b[36m(ClientAppActor pid=403866)\u001b[0m Epoch 100/100\u001b[32m [repeated 105x across cluster]\u001b[0m\n",
      "\u001b[2m\u001b[36m(ClientAppActor pid=403867)\u001b[0m Epoch 25: Training accuracy: 74.70059967041016 Testing accuracy: 76.04790496826172.\u001b[32m [repeated 120x across cluster]\u001b[0m\n"
     ]
    },
    {
     "name": "stderr",
     "output_type": "stream",
     "text": [
      "\u001b[92mINFO \u001b[0m:      aggregate_fit: received 3 results and 0 failures\n",
      "\u001b[92mINFO \u001b[0m:      fit progress: (10, 0.053595868023959076, {'accuracy': tensor(71.6738, device='cuda:0')}, 159.14087649000066)\n",
      "\u001b[92mINFO \u001b[0m:      configure_evaluate: strategy sampled 1 clients (out of 3)\n"
     ]
    },
    {
     "name": "stdout",
     "output_type": "stream",
     "text": [
      "\u001b[2m\u001b[36m(ClientAppActor pid=403867)\u001b[0m \u001b[32m [repeated 183x across cluster]\u001b[0m\n",
      "\u001b[2m\u001b[36m(ClientAppActor pid=403867)\u001b[0m Epoch 95/100\u001b[32m [repeated 183x across cluster]\u001b[0m\n",
      "Server-side evaluation loss 0.053595868023959076 / accuracy 71.67382049560547\n"
     ]
    },
    {
     "name": "stderr",
     "output_type": "stream",
     "text": [
      "\u001b[92mINFO \u001b[0m:      aggregate_evaluate: received 1 results and 0 failures\n",
      "\u001b[92mINFO \u001b[0m:      \n",
      "\u001b[92mINFO \u001b[0m:      [ROUND 11]\n",
      "\u001b[92mINFO \u001b[0m:      configure_fit: strategy sampled 3 clients (out of 3)\n"
     ]
    },
    {
     "name": "stdout",
     "output_type": "stream",
     "text": [
      "\u001b[2m\u001b[36m(ClientAppActor pid=403867)\u001b[0m Epoch 33: Training accuracy: 74.40119934082031 Testing accuracy: 72.45509338378906.\u001b[32m [repeated 207x across cluster]\u001b[0m\n",
      "\u001b[2m\u001b[36m(ClientAppActor pid=403866)\u001b[0m \u001b[32m [repeated 197x across cluster]\u001b[0m\n",
      "\u001b[2m\u001b[36m(ClientAppActor pid=403866)\u001b[0m Epoch 79/100\u001b[32m [repeated 197x across cluster]\u001b[0m\n",
      "\u001b[2m\u001b[36m(ClientAppActor pid=403866)\u001b[0m Epoch 84: Training accuracy: 77.5147933959961 Testing accuracy: 73.9645004272461.\u001b[32m [repeated 142x across cluster]\u001b[0m\n",
      "\u001b[2m\u001b[36m(ClientAppActor pid=403867)\u001b[0m \u001b[32m [repeated 32x across cluster]\u001b[0m\n",
      "\u001b[2m\u001b[36m(ClientAppActor pid=403867)\u001b[0m Epoch 24/100\u001b[32m [repeated 32x across cluster]\u001b[0m\n",
      "\u001b[2m\u001b[36m(ClientAppActor pid=403867)\u001b[0m Epoch 25: Training accuracy: 75.24154663085938 Testing accuracy: 75.84541320800781.\u001b[32m [repeated 27x across cluster]\u001b[0m\n",
      "\u001b[2m\u001b[36m(ClientAppActor pid=403867)\u001b[0m \u001b[32m [repeated 10x across cluster]\u001b[0m\n",
      "\u001b[2m\u001b[36m(ClientAppActor pid=403867)\u001b[0m Epoch 34/100\u001b[32m [repeated 10x across cluster]\u001b[0m\n",
      "\u001b[2m\u001b[36m(ClientAppActor pid=403867)\u001b[0m Epoch 35: Training accuracy: 76.87197875976562 Testing accuracy: 76.81159210205078.\u001b[32m [repeated 10x across cluster]\u001b[0m\n",
      "\u001b[2m\u001b[36m(ClientAppActor pid=403867)\u001b[0m \u001b[32m [repeated 17x across cluster]\u001b[0m\n",
      "\u001b[2m\u001b[36m(ClientAppActor pid=403867)\u001b[0m Epoch 51/100\u001b[32m [repeated 17x across cluster]\u001b[0m\n",
      "\u001b[2m\u001b[36m(ClientAppActor pid=403867)\u001b[0m Epoch 62: Training accuracy: 77.71739196777344 Testing accuracy: 77.29468536376953.\u001b[32m [repeated 27x across cluster]\u001b[0m\n"
     ]
    },
    {
     "name": "stderr",
     "output_type": "stream",
     "text": [
      "\u001b[92mINFO \u001b[0m:      aggregate_fit: received 3 results and 0 failures\n",
      "\u001b[92mINFO \u001b[0m:      fit progress: (11, 0.05412781238555908, {'accuracy': tensor(70.1001, device='cuda:0')}, 182.85759214200152)\n",
      "\u001b[92mINFO \u001b[0m:      configure_evaluate: strategy sampled 1 clients (out of 3)\n",
      "\u001b[92mINFO \u001b[0m:      aggregate_evaluate: received 1 results and 0 failures\n",
      "\u001b[92mINFO \u001b[0m:      \n",
      "\u001b[92mINFO \u001b[0m:      [ROUND 12]\n",
      "\u001b[92mINFO \u001b[0m:      configure_fit: strategy sampled 3 clients (out of 3)\n"
     ]
    },
    {
     "name": "stdout",
     "output_type": "stream",
     "text": [
      "Server-side evaluation loss 0.05412781238555908 / accuracy 70.10014343261719\n",
      "\u001b[2m\u001b[36m(ClientAppActor pid=403867)\u001b[0m \u001b[32m [repeated 149x across cluster]\u001b[0m\n",
      "\u001b[2m\u001b[36m(ClientAppActor pid=403867)\u001b[0m Epoch 56/100\u001b[32m [repeated 149x across cluster]\u001b[0m\n",
      "\u001b[2m\u001b[36m(ClientAppActor pid=403866)\u001b[0m Epoch 50: Training accuracy: 76.19760131835938 Testing accuracy: 74.85029602050781.\u001b[32m [repeated 153x across cluster]\u001b[0m\n",
      "\u001b[2m\u001b[36m(ClientAppActor pid=403867)\u001b[0m \u001b[32m [repeated 46x across cluster]\u001b[0m\n",
      "\u001b[2m\u001b[36m(ClientAppActor pid=403867)\u001b[0m Epoch 76/100\u001b[32m [repeated 46x across cluster]\u001b[0m\n",
      "\u001b[2m\u001b[36m(ClientAppActor pid=403866)\u001b[0m Epoch 76: Training accuracy: 76.57185363769531 Testing accuracy: 77.84431457519531.\u001b[32m [repeated 38x across cluster]\u001b[0m\n",
      "\u001b[2m\u001b[36m(ClientAppActor pid=403867)\u001b[0m \u001b[32m [repeated 42x across cluster]\u001b[0m\n",
      "\u001b[2m\u001b[36m(ClientAppActor pid=403867)\u001b[0m Epoch 88/100\u001b[32m [repeated 42x across cluster]\u001b[0m\n",
      "\u001b[2m\u001b[36m(ClientAppActor pid=403867)\u001b[0m Epoch 90: Training accuracy: 76.0354995727539 Testing accuracy: 74.55621337890625.\u001b[32m [repeated 41x across cluster]\u001b[0m\n",
      "\u001b[2m\u001b[36m(ClientAppActor pid=403866)\u001b[0m \u001b[32m [repeated 52x across cluster]\u001b[0m\n",
      "\u001b[2m\u001b[36m(ClientAppActor pid=403866)\u001b[0m Epoch 41/100\u001b[32m [repeated 52x across cluster]\u001b[0m\n",
      "\u001b[2m\u001b[36m(ClientAppActor pid=403866)\u001b[0m Epoch 64: Training accuracy: 77.23429870605469 Testing accuracy: 77.29468536376953.\u001b[32m [repeated 70x across cluster]\u001b[0m\n"
     ]
    },
    {
     "name": "stderr",
     "output_type": "stream",
     "text": [
      "\u001b[92mINFO \u001b[0m:      aggregate_fit: received 3 results and 0 failures\n",
      "\u001b[92mINFO \u001b[0m:      fit progress: (12, 0.05378336798061024, {'accuracy': tensor(71.9599, device='cuda:0')}, 202.36703666800167)\n",
      "\u001b[92mINFO \u001b[0m:      configure_evaluate: strategy sampled 1 clients (out of 3)\n",
      "\u001b[92mINFO \u001b[0m:      aggregate_evaluate: received 1 results and 0 failures\n",
      "\u001b[92mINFO \u001b[0m:      \n",
      "\u001b[92mINFO \u001b[0m:      [ROUND 13]\n",
      "\u001b[92mINFO \u001b[0m:      configure_fit: strategy sampled 3 clients (out of 3)\n"
     ]
    },
    {
     "name": "stdout",
     "output_type": "stream",
     "text": [
      "Server-side evaluation loss 0.05378336798061024 / accuracy 71.95994567871094\n",
      "\u001b[2m\u001b[36m(ClientAppActor pid=403867)\u001b[0m \u001b[32m [repeated 153x across cluster]\u001b[0m\n",
      "\u001b[2m\u001b[36m(ClientAppActor pid=403867)\u001b[0m Epoch 14/100\u001b[32m [repeated 153x across cluster]\u001b[0m\n",
      "\u001b[2m\u001b[36m(ClientAppActor pid=403867)\u001b[0m Epoch 27: Training accuracy: 77.07100677490234 Testing accuracy: 76.92308044433594.\u001b[32m [repeated 175x across cluster]\u001b[0m\n",
      "\u001b[2m\u001b[36m(ClientAppActor pid=403867)\u001b[0m \u001b[32m [repeated 186x across cluster]\u001b[0m\n",
      "\u001b[2m\u001b[36m(ClientAppActor pid=403867)\u001b[0m Epoch 79/100\u001b[32m [repeated 186x across cluster]\u001b[0m\n"
     ]
    },
    {
     "name": "stderr",
     "output_type": "stream",
     "text": [
      "\u001b[92mINFO \u001b[0m:      aggregate_fit: received 3 results and 0 failures\n",
      "\u001b[92mINFO \u001b[0m:      fit progress: (13, 0.054018600420518356, {'accuracy': tensor(70.9585, device='cuda:0')}, 211.170020906)\n",
      "\u001b[92mINFO \u001b[0m:      configure_evaluate: strategy sampled 1 clients (out of 3)\n",
      "\u001b[92mINFO \u001b[0m:      aggregate_evaluate: received 1 results and 0 failures\n",
      "\u001b[92mINFO \u001b[0m:      \n",
      "\u001b[92mINFO \u001b[0m:      [ROUND 14]\n",
      "\u001b[92mINFO \u001b[0m:      configure_fit: strategy sampled 3 clients (out of 3)\n"
     ]
    },
    {
     "name": "stdout",
     "output_type": "stream",
     "text": [
      "\u001b[2m\u001b[36m(ClientAppActor pid=403867)\u001b[0m Epoch 95: Training accuracy: 78.4023666381836 Testing accuracy: 73.9645004272461.\u001b[32m [repeated 156x across cluster]\u001b[0m\n",
      "Server-side evaluation loss 0.054018600420518356 / accuracy 70.95851135253906\n",
      "\u001b[2m\u001b[36m(ClientAppActor pid=403867)\u001b[0m \u001b[32m [repeated 238x across cluster]\u001b[0m\n",
      "\u001b[2m\u001b[36m(ClientAppActor pid=403867)\u001b[0m Epoch 20/100\u001b[32m [repeated 238x across cluster]\u001b[0m\n",
      "\u001b[2m\u001b[36m(ClientAppActor pid=403867)\u001b[0m Epoch 34: Training accuracy: 77.59661865234375 Testing accuracy: 77.29468536376953.\u001b[32m [repeated 239x across cluster]\u001b[0m\n",
      "\u001b[2m\u001b[36m(ClientAppActor pid=403867)\u001b[0m \u001b[32m [repeated 25x across cluster]\u001b[0m\n",
      "\u001b[2m\u001b[36m(ClientAppActor pid=403867)\u001b[0m Epoch 42/100\u001b[32m [repeated 25x across cluster]\u001b[0m\n",
      "\u001b[2m\u001b[36m(ClientAppActor pid=403867)\u001b[0m Epoch 44: Training accuracy: 77.71739196777344 Testing accuracy: 77.29468536376953.\u001b[32m [repeated 10x across cluster]\u001b[0m\n",
      "\u001b[2m\u001b[36m(ClientAppActor pid=403867)\u001b[0m \u001b[32m [repeated 9x across cluster]\u001b[0m\n",
      "\u001b[2m\u001b[36m(ClientAppActor pid=403867)\u001b[0m Epoch 51/100\u001b[32m [repeated 9x across cluster]\u001b[0m\n",
      "\u001b[2m\u001b[36m(ClientAppActor pid=403867)\u001b[0m Epoch 53: Training accuracy: 77.59661865234375 Testing accuracy: 77.77777862548828.\u001b[32m [repeated 9x across cluster]\u001b[0m\n",
      "\u001b[2m\u001b[36m(ClientAppActor pid=403867)\u001b[0m \u001b[32m [repeated 9x across cluster]\u001b[0m\n",
      "\u001b[2m\u001b[36m(ClientAppActor pid=403867)\u001b[0m Epoch 60/100\u001b[32m [repeated 9x across cluster]\u001b[0m\n",
      "\u001b[2m\u001b[36m(ClientAppActor pid=403867)\u001b[0m Epoch 63: Training accuracy: 76.93236541748047 Testing accuracy: 77.29468536376953.\u001b[32m [repeated 10x across cluster]\u001b[0m\n",
      "\u001b[2m\u001b[36m(ClientAppActor pid=403867)\u001b[0m \u001b[32m [repeated 23x across cluster]\u001b[0m\n",
      "\u001b[2m\u001b[36m(ClientAppActor pid=403867)\u001b[0m Epoch 83/100\u001b[32m [repeated 23x across cluster]\u001b[0m\n"
     ]
    },
    {
     "name": "stderr",
     "output_type": "stream",
     "text": [
      "\u001b[92mINFO \u001b[0m:      aggregate_fit: received 3 results and 0 failures\n",
      "\u001b[92mINFO \u001b[0m:      fit progress: (14, 0.05436120250008323, {'accuracy': tensor(71.1016, device='cuda:0')}, 235.89106455799993)\n",
      "\u001b[92mINFO \u001b[0m:      configure_evaluate: strategy sampled 1 clients (out of 3)\n",
      "\u001b[92mINFO \u001b[0m:      aggregate_evaluate: received 1 results and 0 failures\n",
      "\u001b[92mINFO \u001b[0m:      \n",
      "\u001b[92mINFO \u001b[0m:      [ROUND 15]\n",
      "\u001b[92mINFO \u001b[0m:      configure_fit: strategy sampled 3 clients (out of 3)\n"
     ]
    },
    {
     "name": "stdout",
     "output_type": "stream",
     "text": [
      "Server-side evaluation loss 0.05436120250008323 / accuracy 71.10157012939453\n",
      "\u001b[2m\u001b[36m(ClientAppActor pid=403867)\u001b[0m Epoch 32: Training accuracy: 76.5700454711914 Testing accuracy: 77.29468536376953.\u001b[32m [repeated 104x across cluster]\u001b[0m\n",
      "\u001b[2m\u001b[36m(ClientAppActor pid=403866)\u001b[0m \u001b[32m [repeated 164x across cluster]\u001b[0m\n",
      "\u001b[2m\u001b[36m(ClientAppActor pid=403866)\u001b[0m Epoch 73/100\u001b[32m [repeated 164x across cluster]\u001b[0m\n",
      "\u001b[2m\u001b[36m(ClientAppActor pid=403866)\u001b[0m Epoch 82: Training accuracy: 76.6467056274414 Testing accuracy: 76.04790496826172.\u001b[32m [repeated 92x across cluster]\u001b[0m\n",
      "\u001b[2m\u001b[36m(ClientAppActor pid=403866)\u001b[0m \u001b[32m [repeated 37x across cluster]\u001b[0m\n",
      "\u001b[2m\u001b[36m(ClientAppActor pid=403866)\u001b[0m Epoch 100/100\u001b[32m [repeated 37x across cluster]\u001b[0m\n",
      "\u001b[2m\u001b[36m(ClientAppActor pid=403866)\u001b[0m Epoch 13: Training accuracy: 77.5147933959961 Testing accuracy: 75.7396469116211.\u001b[32m [repeated 40x across cluster]\u001b[0m\n",
      "\u001b[2m\u001b[36m(ClientAppActor pid=403866)\u001b[0m \u001b[32m [repeated 87x across cluster]\u001b[0m\n",
      "\u001b[2m\u001b[36m(ClientAppActor pid=403866)\u001b[0m Epoch 78/100\u001b[32m [repeated 87x across cluster]\u001b[0m\n",
      "\u001b[2m\u001b[36m(ClientAppActor pid=403867)\u001b[0m Epoch 96: Training accuracy: 76.99275207519531 Testing accuracy: 77.77777862548828.\u001b[32m [repeated 97x across cluster]\u001b[0m\n"
     ]
    },
    {
     "name": "stderr",
     "output_type": "stream",
     "text": [
      "\u001b[92mINFO \u001b[0m:      aggregate_fit: received 3 results and 0 failures\n",
      "\u001b[92mINFO \u001b[0m:      fit progress: (15, 0.05465879765423862, {'accuracy': tensor(70.3863, device='cuda:0')}, 254.6697178409995)\n",
      "\u001b[92mINFO \u001b[0m:      configure_evaluate: strategy sampled 1 clients (out of 3)\n"
     ]
    },
    {
     "name": "stdout",
     "output_type": "stream",
     "text": [
      "Server-side evaluation loss 0.05465879765423862 / accuracy 70.38626861572266\n"
     ]
    },
    {
     "name": "stderr",
     "output_type": "stream",
     "text": [
      "\u001b[92mINFO \u001b[0m:      aggregate_evaluate: received 1 results and 0 failures\n",
      "\u001b[92mINFO \u001b[0m:      \n",
      "\u001b[92mINFO \u001b[0m:      [ROUND 16]\n",
      "\u001b[92mINFO \u001b[0m:      configure_fit: strategy sampled 3 clients (out of 3)\n"
     ]
    },
    {
     "name": "stdout",
     "output_type": "stream",
     "text": [
      "\u001b[2m\u001b[36m(ClientAppActor pid=403867)\u001b[0m \u001b[32m [repeated 49x across cluster]\u001b[0m\n",
      "\u001b[2m\u001b[36m(ClientAppActor pid=403867)\u001b[0m Epoch 2/100\u001b[32m [repeated 49x across cluster]\u001b[0m\n",
      "\u001b[2m\u001b[36m(ClientAppActor pid=403867)\u001b[0m Epoch 6: Training accuracy: 77.29290008544922 Testing accuracy: 75.1479263305664.\u001b[32m [repeated 82x across cluster]\u001b[0m\n",
      "\u001b[2m\u001b[36m(ClientAppActor pid=403867)\u001b[0m \u001b[32m [repeated 223x across cluster]\u001b[0m\n",
      "\u001b[2m\u001b[36m(ClientAppActor pid=403867)\u001b[0m Epoch 91/100\u001b[32m [repeated 223x across cluster]\u001b[0m\n",
      "\u001b[2m\u001b[36m(ClientAppActor pid=403866)\u001b[0m Epoch 93: Training accuracy: 77.17391204833984 Testing accuracy: 78.74396514892578.\u001b[32m [repeated 215x across cluster]\u001b[0m\n"
     ]
    },
    {
     "name": "stderr",
     "output_type": "stream",
     "text": [
      "\u001b[92mINFO \u001b[0m:      aggregate_fit: received 3 results and 0 failures\n",
      "\u001b[92mINFO \u001b[0m:      fit progress: (16, 0.054056340997869316, {'accuracy': tensor(71.9599, device='cuda:0')}, 264.2711434060002)\n",
      "\u001b[92mINFO \u001b[0m:      configure_evaluate: strategy sampled 1 clients (out of 3)\n",
      "\u001b[92mINFO \u001b[0m:      aggregate_evaluate: received 1 results and 0 failures\n",
      "\u001b[92mINFO \u001b[0m:      \n",
      "\u001b[92mINFO \u001b[0m:      [ROUND 17]\n",
      "\u001b[92mINFO \u001b[0m:      configure_fit: strategy sampled 3 clients (out of 3)\n"
     ]
    },
    {
     "name": "stdout",
     "output_type": "stream",
     "text": [
      "Server-side evaluation loss 0.054056340997869316 / accuracy 71.95994567871094\n",
      "\u001b[2m\u001b[36m(ClientAppActor pid=403866)\u001b[0m \u001b[32m [repeated 66x across cluster]\u001b[0m\n",
      "\u001b[2m\u001b[36m(ClientAppActor pid=403866)\u001b[0m Epoch 7/100\u001b[32m [repeated 66x across cluster]\u001b[0m\n",
      "\u001b[2m\u001b[36m(ClientAppActor pid=403866)\u001b[0m Epoch 21: Training accuracy: 76.49700927734375 Testing accuracy: 74.25149536132812.\u001b[32m [repeated 33x across cluster]\u001b[0m\n",
      "\u001b[2m\u001b[36m(ClientAppActor pid=403866)\u001b[0m \u001b[32m [repeated 61x across cluster]\u001b[0m\n",
      "\u001b[2m\u001b[36m(ClientAppActor pid=403866)\u001b[0m Epoch 58/100\u001b[32m [repeated 61x across cluster]\u001b[0m\n",
      "\u001b[2m\u001b[36m(ClientAppActor pid=403866)\u001b[0m Epoch 81: Training accuracy: 77.76946258544922 Testing accuracy: 75.44910430908203.\u001b[32m [repeated 69x across cluster]\u001b[0m\n",
      "\u001b[2m\u001b[36m(ClientAppActor pid=403867)\u001b[0m \u001b[32m [repeated 107x across cluster]\u001b[0m\n",
      "\u001b[2m\u001b[36m(ClientAppActor pid=403867)\u001b[0m Epoch 21/100\u001b[32m [repeated 107x across cluster]\u001b[0m\n",
      "\u001b[2m\u001b[36m(ClientAppActor pid=403867)\u001b[0m Epoch 24: Training accuracy: 77.47584533691406 Testing accuracy: 78.74396514892578.\u001b[32m [repeated 129x across cluster]\u001b[0m\n",
      "\u001b[2m\u001b[36m(ClientAppActor pid=403867)\u001b[0m \u001b[32m [repeated 60x across cluster]\u001b[0m\n",
      "\u001b[2m\u001b[36m(ClientAppActor pid=403867)\u001b[0m Epoch 37/100\u001b[32m [repeated 60x across cluster]\u001b[0m\n",
      "\u001b[2m\u001b[36m(ClientAppActor pid=403867)\u001b[0m Epoch 82: Training accuracy: 77.113525390625 Testing accuracy: 77.29468536376953.\u001b[32m [repeated 58x across cluster]\u001b[0m\n"
     ]
    },
    {
     "name": "stderr",
     "output_type": "stream",
     "text": [
      "\u001b[92mINFO \u001b[0m:      aggregate_fit: received 3 results and 0 failures\n",
      "\u001b[92mINFO \u001b[0m:      fit progress: (17, 0.05445396358316595, {'accuracy': tensor(70.8155, device='cuda:0')}, 283.78020718100015)\n",
      "\u001b[92mINFO \u001b[0m:      configure_evaluate: strategy sampled 1 clients (out of 3)\n",
      "\u001b[92mINFO \u001b[0m:      aggregate_evaluate: received 1 results and 0 failures\n",
      "\u001b[92mINFO \u001b[0m:      \n",
      "\u001b[92mINFO \u001b[0m:      [ROUND 18]\n",
      "\u001b[92mINFO \u001b[0m:      configure_fit: strategy sampled 3 clients (out of 3)\n"
     ]
    },
    {
     "name": "stdout",
     "output_type": "stream",
     "text": [
      "Server-side evaluation loss 0.05445396358316595 / accuracy 70.8154525756836\n",
      "\u001b[2m\u001b[36m(ClientAppActor pid=403867)\u001b[0m \u001b[32m [repeated 141x across cluster]\u001b[0m\n",
      "\u001b[2m\u001b[36m(ClientAppActor pid=403867)\u001b[0m Epoch 51/100\u001b[32m [repeated 141x across cluster]\u001b[0m\n",
      "\u001b[2m\u001b[36m(ClientAppActor pid=403867)\u001b[0m Epoch 58: Training accuracy: 77.17066192626953 Testing accuracy: 76.04790496826172.\u001b[32m [repeated 113x across cluster]\u001b[0m\n",
      "\u001b[2m\u001b[36m(ClientAppActor pid=403866)\u001b[0m \u001b[32m [repeated 37x across cluster]\u001b[0m\n",
      "\u001b[2m\u001b[36m(ClientAppActor pid=403866)\u001b[0m Epoch 50/100\u001b[32m [repeated 37x across cluster]\u001b[0m\n",
      "\u001b[2m\u001b[36m(ClientAppActor pid=403867)\u001b[0m Epoch 70: Training accuracy: 77.09580993652344 Testing accuracy: 77.84431457519531.\u001b[32m [repeated 33x across cluster]\u001b[0m\n",
      "\u001b[2m\u001b[36m(ClientAppActor pid=403866)\u001b[0m \u001b[32m [repeated 32x across cluster]\u001b[0m\n",
      "\u001b[2m\u001b[36m(ClientAppActor pid=403866)\u001b[0m Epoch 71/100\u001b[32m [repeated 32x across cluster]\u001b[0m\n",
      "\u001b[2m\u001b[36m(ClientAppActor pid=403866)\u001b[0m Epoch 80: Training accuracy: 74.87922668457031 Testing accuracy: 75.36231994628906.\u001b[32m [repeated 33x across cluster]\u001b[0m\n",
      "\u001b[2m\u001b[36m(ClientAppActor pid=403866)\u001b[0m \u001b[32m [repeated 43x across cluster]\u001b[0m\n",
      "\u001b[2m\u001b[36m(ClientAppActor pid=403866)\u001b[0m Epoch 2/100\u001b[32m [repeated 43x across cluster]\u001b[0m\n",
      "\u001b[2m\u001b[36m(ClientAppActor pid=403866)\u001b[0m Epoch 42: Training accuracy: 78.03254699707031 Testing accuracy: 76.92308044433594.\u001b[32m [repeated 77x across cluster]\u001b[0m\n"
     ]
    },
    {
     "name": "stderr",
     "output_type": "stream",
     "text": [
      "\u001b[92mINFO \u001b[0m:      aggregate_fit: received 3 results and 0 failures\n",
      "\u001b[92mINFO \u001b[0m:      fit progress: (18, 0.054393210194327614, {'accuracy': tensor(71.3877, device='cuda:0')}, 305.2426167720005)\n",
      "\u001b[92mINFO \u001b[0m:      configure_evaluate: strategy sampled 1 clients (out of 3)\n",
      "\u001b[92mINFO \u001b[0m:      aggregate_evaluate: received 1 results and 0 failures\n",
      "\u001b[92mINFO \u001b[0m:      \n",
      "\u001b[92mINFO \u001b[0m:      [ROUND 19]\n",
      "\u001b[92mINFO \u001b[0m:      configure_fit: strategy sampled 3 clients (out of 3)\n"
     ]
    },
    {
     "name": "stdout",
     "output_type": "stream",
     "text": [
      "Server-side evaluation loss 0.054393210194327614 / accuracy 71.3876953125\n",
      "\u001b[2m\u001b[36m(ClientAppActor pid=403867)\u001b[0m \u001b[32m [repeated 147x across cluster]\u001b[0m\n",
      "\u001b[2m\u001b[36m(ClientAppActor pid=403867)\u001b[0m Epoch 13/100\u001b[32m [repeated 147x across cluster]\u001b[0m\n",
      "\u001b[2m\u001b[36m(ClientAppActor pid=403867)\u001b[0m Epoch 86: Training accuracy: 78.14009857177734 Testing accuracy: 78.26087188720703.\u001b[32m [repeated 241x across cluster]\u001b[0m\n",
      "\u001b[2m\u001b[36m(ClientAppActor pid=403866)\u001b[0m \u001b[32m [repeated 196x across cluster]\u001b[0m\n",
      "\u001b[2m\u001b[36m(ClientAppActor pid=403866)\u001b[0m Epoch 33/100\u001b[32m [repeated 196x across cluster]\u001b[0m\n",
      "\u001b[2m\u001b[36m(ClientAppActor pid=403866)\u001b[0m Epoch 43: Training accuracy: 78.25444030761719 Testing accuracy: 76.33135986328125.\u001b[32m [repeated 64x across cluster]\u001b[0m\n",
      "\u001b[2m\u001b[36m(ClientAppActor pid=403866)\u001b[0m \u001b[32m [repeated 37x across cluster]\u001b[0m\n",
      "\u001b[2m\u001b[36m(ClientAppActor pid=403866)\u001b[0m Epoch 70/100\u001b[32m [repeated 37x across cluster]\u001b[0m\n"
     ]
    },
    {
     "name": "stderr",
     "output_type": "stream",
     "text": [
      "\u001b[92mINFO \u001b[0m:      aggregate_fit: received 3 results and 0 failures\n",
      "\u001b[92mINFO \u001b[0m:      fit progress: (19, 0.05446942827918313, {'accuracy': tensor(71.3877, device='cuda:0')}, 318.57595005500116)\n",
      "\u001b[92mINFO \u001b[0m:      configure_evaluate: strategy sampled 1 clients (out of 3)\n",
      "\u001b[92mINFO \u001b[0m:      aggregate_evaluate: received 1 results and 0 failures\n",
      "\u001b[92mINFO \u001b[0m:      \n",
      "\u001b[92mINFO \u001b[0m:      [ROUND 20]\n",
      "\u001b[92mINFO \u001b[0m:      configure_fit: strategy sampled 3 clients (out of 3)\n"
     ]
    },
    {
     "name": "stdout",
     "output_type": "stream",
     "text": [
      "\u001b[2m\u001b[36m(ClientAppActor pid=403866)\u001b[0m Epoch 100: Training accuracy: 78.69822692871094 Testing accuracy: 75.1479263305664.\u001b[32m [repeated 57x across cluster]\u001b[0m\n",
      "Server-side evaluation loss 0.05446942827918313 / accuracy 71.3876953125\n",
      "\u001b[2m\u001b[36m(ClientAppActor pid=403866)\u001b[0m \u001b[32m [repeated 67x across cluster]\u001b[0m\n",
      "\u001b[2m\u001b[36m(ClientAppActor pid=403866)\u001b[0m Epoch 33/100\u001b[32m [repeated 67x across cluster]\u001b[0m\n",
      "\u001b[2m\u001b[36m(ClientAppActor pid=403867)\u001b[0m Epoch 9: Training accuracy: 76.81159210205078 Testing accuracy: 78.26087188720703.\u001b[32m [repeated 103x across cluster]\u001b[0m\n",
      "\u001b[2m\u001b[36m(ClientAppActor pid=403866)\u001b[0m \u001b[32m [repeated 150x across cluster]\u001b[0m\n",
      "\u001b[2m\u001b[36m(ClientAppActor pid=403866)\u001b[0m Epoch 70/100\u001b[32m [repeated 150x across cluster]\u001b[0m\n",
      "\u001b[2m\u001b[36m(ClientAppActor pid=403867)\u001b[0m Epoch 39: Training accuracy: 79.28743743896484 Testing accuracy: 78.26087188720703.\u001b[32m [repeated 136x across cluster]\u001b[0m\n"
     ]
    },
    {
     "name": "stderr",
     "output_type": "stream",
     "text": [
      "\u001b[92mINFO \u001b[0m:      aggregate_fit: received 3 results and 0 failures\n",
      "\u001b[92mINFO \u001b[0m:      fit progress: (20, 0.05512780492955988, {'accuracy': tensor(70.3863, device='cuda:0')}, 330.70678191299885)\n",
      "\u001b[92mINFO \u001b[0m:      configure_evaluate: strategy sampled 1 clients (out of 3)\n",
      "\u001b[92mINFO \u001b[0m:      aggregate_evaluate: received 1 results and 0 failures\n",
      "\u001b[92mINFO \u001b[0m:      \n",
      "\u001b[92mINFO \u001b[0m:      [ROUND 21]\n",
      "\u001b[92mINFO \u001b[0m:      configure_fit: strategy sampled 3 clients (out of 3)\n"
     ]
    },
    {
     "name": "stdout",
     "output_type": "stream",
     "text": [
      "Server-side evaluation loss 0.05512780492955988 / accuracy 70.38626861572266\n",
      "\u001b[2m\u001b[36m(ClientAppActor pid=403867)\u001b[0m \u001b[32m [repeated 127x across cluster]\u001b[0m\n",
      "\u001b[2m\u001b[36m(ClientAppActor pid=403867)\u001b[0m Epoch 9/100\u001b[32m [repeated 127x across cluster]\u001b[0m\n",
      "\u001b[2m\u001b[36m(ClientAppActor pid=403867)\u001b[0m Epoch 41: Training accuracy: 77.17066192626953 Testing accuracy: 78.443115234375.\u001b[32m [repeated 125x across cluster]\u001b[0m\n",
      "\u001b[2m\u001b[36m(ClientAppActor pid=403866)\u001b[0m \u001b[32m [repeated 69x across cluster]\u001b[0m\n",
      "\u001b[2m\u001b[36m(ClientAppActor pid=403866)\u001b[0m Epoch 36/100\u001b[32m [repeated 69x across cluster]\u001b[0m\n",
      "\u001b[2m\u001b[36m(ClientAppActor pid=403867)\u001b[0m Epoch 53: Training accuracy: 78.29341125488281 Testing accuracy: 75.44910430908203.\u001b[32m [repeated 36x across cluster]\u001b[0m\n",
      "\u001b[2m\u001b[36m(ClientAppActor pid=403866)\u001b[0m \u001b[32m [repeated 37x across cluster]\u001b[0m\n",
      "\u001b[2m\u001b[36m(ClientAppActor pid=403866)\u001b[0m Epoch 61/100\u001b[32m [repeated 37x across cluster]\u001b[0m\n",
      "\u001b[2m\u001b[36m(ClientAppActor pid=403866)\u001b[0m Epoch 94: Training accuracy: 78.32839965820312 Testing accuracy: 75.7396469116211.\u001b[32m [repeated 58x across cluster]\u001b[0m\n",
      "\u001b[2m\u001b[36m(ClientAppActor pid=403867)\u001b[0m \u001b[32m [repeated 68x across cluster]\u001b[0m\n",
      "\u001b[2m\u001b[36m(ClientAppActor pid=403867)\u001b[0m Epoch 71/100\u001b[32m [repeated 68x across cluster]\u001b[0m\n",
      "\u001b[2m\u001b[36m(ClientAppActor pid=403867)\u001b[0m Epoch 76: Training accuracy: 78.3682632446289 Testing accuracy: 76.6467056274414.\u001b[32m [repeated 61x across cluster]\u001b[0m\n",
      "\u001b[2m\u001b[36m(ClientAppActor pid=403866)\u001b[0m \u001b[32m [repeated 71x across cluster]\u001b[0m\n",
      "\u001b[2m\u001b[36m(ClientAppActor pid=403866)\u001b[0m Epoch 77/100\u001b[32m [repeated 71x across cluster]\u001b[0m\n"
     ]
    },
    {
     "name": "stderr",
     "output_type": "stream",
     "text": [
      "\u001b[92mINFO \u001b[0m:      aggregate_fit: received 3 results and 0 failures\n",
      "\u001b[92mINFO \u001b[0m:      fit progress: (21, 0.054405808448791504, {'accuracy': tensor(71.1016, device='cuda:0')}, 353.3204510450014)\n",
      "\u001b[92mINFO \u001b[0m:      configure_evaluate: strategy sampled 1 clients (out of 3)\n",
      "\u001b[92mINFO \u001b[0m:      aggregate_evaluate: received 1 results and 0 failures\n",
      "\u001b[92mINFO \u001b[0m:      \n",
      "\u001b[92mINFO \u001b[0m:      [ROUND 22]\n",
      "\u001b[92mINFO \u001b[0m:      configure_fit: strategy sampled 3 clients (out of 3)\n"
     ]
    },
    {
     "name": "stdout",
     "output_type": "stream",
     "text": [
      "Server-side evaluation loss 0.054405808448791504 / accuracy 71.10157012939453\n",
      "\u001b[2m\u001b[36m(ClientAppActor pid=403867)\u001b[0m Epoch 11: Training accuracy: 77.59661865234375 Testing accuracy: 79.22705078125.\u001b[32m [repeated 102x across cluster]\u001b[0m\n",
      "\u001b[2m\u001b[36m(ClientAppActor pid=403867)\u001b[0m \u001b[32m [repeated 199x across cluster]\u001b[0m\n",
      "\u001b[2m\u001b[36m(ClientAppActor pid=403867)\u001b[0m Epoch 78/100\u001b[32m [repeated 199x across cluster]\u001b[0m\n",
      "\u001b[2m\u001b[36m(ClientAppActor pid=403866)\u001b[0m Epoch 13: Training accuracy: 78.77218627929688 Testing accuracy: 78.10650634765625.\u001b[32m [repeated 192x across cluster]\u001b[0m\n",
      "\u001b[2m\u001b[36m(ClientAppActor pid=403866)\u001b[0m \u001b[32m [repeated 66x across cluster]\u001b[0m\n",
      "\u001b[2m\u001b[36m(ClientAppActor pid=403866)\u001b[0m Epoch 24/100\u001b[32m [repeated 66x across cluster]\u001b[0m\n",
      "\u001b[2m\u001b[36m(ClientAppActor pid=403866)\u001b[0m Epoch 36: Training accuracy: 77.6627197265625 Testing accuracy: 76.33135986328125.\u001b[32m [repeated 23x across cluster]\u001b[0m\n",
      "\u001b[2m\u001b[36m(ClientAppActor pid=403866)\u001b[0m \u001b[32m [repeated 23x across cluster]\u001b[0m\n",
      "\u001b[2m\u001b[36m(ClientAppActor pid=403866)\u001b[0m Epoch 47/100\u001b[32m [repeated 23x across cluster]\u001b[0m\n",
      "\u001b[2m\u001b[36m(ClientAppActor pid=403866)\u001b[0m Epoch 58: Training accuracy: 78.47633361816406 Testing accuracy: 76.92308044433594.\u001b[32m [repeated 22x across cluster]\u001b[0m\n",
      "\u001b[2m\u001b[36m(ClientAppActor pid=403866)\u001b[0m \u001b[32m [repeated 27x across cluster]\u001b[0m\n",
      "\u001b[2m\u001b[36m(ClientAppActor pid=403866)\u001b[0m Epoch 74/100\u001b[32m [repeated 27x across cluster]\u001b[0m\n"
     ]
    },
    {
     "name": "stderr",
     "output_type": "stream",
     "text": [
      "\u001b[92mINFO \u001b[0m:      aggregate_fit: received 3 results and 0 failures\n",
      "\u001b[92mINFO \u001b[0m:      fit progress: (22, 0.05480491031299938, {'accuracy': tensor(70.9585, device='cuda:0')}, 372.3845185730024)\n",
      "\u001b[92mINFO \u001b[0m:      configure_evaluate: strategy sampled 1 clients (out of 3)\n",
      "\u001b[92mINFO \u001b[0m:      aggregate_evaluate: received 1 results and 0 failures\n",
      "\u001b[92mINFO \u001b[0m:      \n",
      "\u001b[92mINFO \u001b[0m:      [ROUND 23]\n",
      "\u001b[92mINFO \u001b[0m:      configure_fit: strategy sampled 3 clients (out of 3)\n"
     ]
    },
    {
     "name": "stdout",
     "output_type": "stream",
     "text": [
      "Server-side evaluation loss 0.05480491031299938 / accuracy 70.95851135253906\n",
      "\u001b[2m\u001b[36m(ClientAppActor pid=403867)\u001b[0m Epoch 6: Training accuracy: 76.34730529785156 Testing accuracy: 75.44910430908203.\u001b[32m [repeated 90x across cluster]\u001b[0m\n",
      "\u001b[2m\u001b[36m(ClientAppActor pid=403867)\u001b[0m \u001b[32m [repeated 160x across cluster]\u001b[0m\n",
      "\u001b[2m\u001b[36m(ClientAppActor pid=403867)\u001b[0m Epoch 27/100\u001b[32m [repeated 160x across cluster]\u001b[0m\n",
      "\u001b[2m\u001b[36m(ClientAppActor pid=403867)\u001b[0m Epoch 64: Training accuracy: 78.21855926513672 Testing accuracy: 74.85029602050781.\u001b[32m [repeated 216x across cluster]\u001b[0m\n"
     ]
    },
    {
     "name": "stderr",
     "output_type": "stream",
     "text": [
      "\u001b[92mINFO \u001b[0m:      aggregate_fit: received 3 results and 0 failures\n",
      "\u001b[92mINFO \u001b[0m:      fit progress: (23, 0.054708475416356865, {'accuracy': tensor(71.1016, device='cuda:0')}, 380.6023437170006)\n",
      "\u001b[92mINFO \u001b[0m:      configure_evaluate: strategy sampled 1 clients (out of 3)\n",
      "\u001b[92mINFO \u001b[0m:      aggregate_evaluate: received 1 results and 0 failures\n",
      "\u001b[92mINFO \u001b[0m:      \n",
      "\u001b[92mINFO \u001b[0m:      [ROUND 24]\n",
      "\u001b[92mINFO \u001b[0m:      configure_fit: strategy sampled 3 clients (out of 3)\n"
     ]
    },
    {
     "name": "stdout",
     "output_type": "stream",
     "text": [
      "Server-side evaluation loss 0.054708475416356865 / accuracy 71.10157012939453\n",
      "\u001b[2m\u001b[36m(ClientAppActor pid=403867)\u001b[0m \u001b[32m [repeated 217x across cluster]\u001b[0m\n",
      "\u001b[2m\u001b[36m(ClientAppActor pid=403867)\u001b[0m Epoch 27/100\u001b[32m [repeated 217x across cluster]\u001b[0m\n",
      "\u001b[2m\u001b[36m(ClientAppActor pid=403867)\u001b[0m Epoch 72: Training accuracy: 79.46859741210938 Testing accuracy: 79.71014404296875.\u001b[32m [repeated 169x across cluster]\u001b[0m\n",
      "\u001b[2m\u001b[36m(ClientAppActor pid=403866)\u001b[0m \u001b[32m [repeated 102x across cluster]\u001b[0m\n",
      "\u001b[2m\u001b[36m(ClientAppActor pid=403866)\u001b[0m Epoch 76/100\u001b[32m [repeated 102x across cluster]\u001b[0m\n",
      "\u001b[2m\u001b[36m(ClientAppActor pid=403866)\u001b[0m Epoch 89: Training accuracy: 80.1775131225586 Testing accuracy: 78.69822692871094.\u001b[32m [repeated 37x across cluster]\u001b[0m\n",
      "\u001b[2m\u001b[36m(ClientAppActor pid=403867)\u001b[0m \u001b[32m [repeated 38x across cluster]\u001b[0m\n",
      "\u001b[2m\u001b[36m(ClientAppActor pid=403867)\u001b[0m Epoch 91/100\u001b[32m [repeated 38x across cluster]\u001b[0m\n",
      "\u001b[2m\u001b[36m(ClientAppActor pid=403867)\u001b[0m Epoch 99: Training accuracy: 79.52898406982422 Testing accuracy: 79.22705078125.\u001b[32m [repeated 42x across cluster]\u001b[0m\n",
      "\u001b[2m\u001b[36m(ClientAppActor pid=403866)\u001b[0m \u001b[32m [repeated 57x across cluster]\u001b[0m\n",
      "\u001b[2m\u001b[36m(ClientAppActor pid=403866)\u001b[0m Epoch 48/100\u001b[32m [repeated 57x across cluster]\u001b[0m\n"
     ]
    },
    {
     "name": "stderr",
     "output_type": "stream",
     "text": [
      "\u001b[92mINFO \u001b[0m:      aggregate_fit: received 3 results and 0 failures\n",
      "\u001b[92mINFO \u001b[0m:      fit progress: (24, 0.05562719431790439, {'accuracy': tensor(70.5293, device='cuda:0')}, 398.7033154620003)\n",
      "\u001b[92mINFO \u001b[0m:      configure_evaluate: strategy sampled 1 clients (out of 3)\n",
      "\u001b[92mINFO \u001b[0m:      aggregate_evaluate: received 1 results and 0 failures\n",
      "\u001b[92mINFO \u001b[0m:      \n",
      "\u001b[92mINFO \u001b[0m:      [ROUND 25]\n",
      "\u001b[92mINFO \u001b[0m:      configure_fit: strategy sampled 3 clients (out of 3)\n"
     ]
    },
    {
     "name": "stdout",
     "output_type": "stream",
     "text": [
      "Server-side evaluation loss 0.05562719431790439 / accuracy 70.52932739257812\n",
      "\u001b[2m\u001b[36m(ClientAppActor pid=403866)\u001b[0m Epoch 12: Training accuracy: 79.34782409667969 Testing accuracy: 79.22705078125.\u001b[32m [repeated 102x across cluster]\u001b[0m\n",
      "\u001b[2m\u001b[36m(ClientAppActor pid=403867)\u001b[0m \u001b[32m [repeated 136x across cluster]\u001b[0m\n",
      "\u001b[2m\u001b[36m(ClientAppActor pid=403867)\u001b[0m Epoch 25/100\u001b[32m [repeated 136x across cluster]\u001b[0m\n",
      "\u001b[2m\u001b[36m(ClientAppActor pid=403867)\u001b[0m Epoch 58: Training accuracy: 79.73372650146484 Testing accuracy: 78.10650634765625.\u001b[32m [repeated 169x across cluster]\u001b[0m\n",
      "\u001b[2m\u001b[36m(ClientAppActor pid=403867)\u001b[0m \u001b[32m [repeated 203x across cluster]\u001b[0m\n",
      "\u001b[2m\u001b[36m(ClientAppActor pid=403867)\u001b[0m Epoch 96/100\u001b[32m [repeated 203x across cluster]\u001b[0m\n"
     ]
    },
    {
     "name": "stderr",
     "output_type": "stream",
     "text": [
      "\u001b[92mINFO \u001b[0m:      aggregate_fit: received 3 results and 0 failures\n",
      "\u001b[92mINFO \u001b[0m:      fit progress: (25, 0.05474663322622126, {'accuracy': tensor(71.1016, device='cuda:0')}, 406.99268935000146)\n",
      "\u001b[92mINFO \u001b[0m:      configure_evaluate: strategy sampled 1 clients (out of 3)\n",
      "\u001b[92mINFO \u001b[0m:      aggregate_evaluate: received 1 results and 0 failures\n",
      "\u001b[92mINFO \u001b[0m:      \n",
      "\u001b[92mINFO \u001b[0m:      [ROUND 26]\n",
      "\u001b[92mINFO \u001b[0m:      configure_fit: strategy sampled 3 clients (out of 3)\n"
     ]
    },
    {
     "name": "stdout",
     "output_type": "stream",
     "text": [
      "Server-side evaluation loss 0.05474663322622126 / accuracy 71.10157012939453\n",
      "\u001b[2m\u001b[36m(ClientAppActor pid=403867)\u001b[0m Epoch 75: Training accuracy: 75.67365264892578 Testing accuracy: 72.45509338378906.\u001b[32m [repeated 241x across cluster]\u001b[0m\n",
      "\u001b[2m\u001b[36m(ClientAppActor pid=403867)\u001b[0m \u001b[32m [repeated 209x across cluster]\u001b[0m\n",
      "\u001b[2m\u001b[36m(ClientAppActor pid=403867)\u001b[0m Epoch 17/100\u001b[32m [repeated 209x across cluster]\u001b[0m\n",
      "\u001b[2m\u001b[36m(ClientAppActor pid=403867)\u001b[0m Epoch 22: Training accuracy: 78.8043441772461 Testing accuracy: 79.22705078125.\u001b[32m [repeated 88x across cluster]\u001b[0m\n",
      "\u001b[2m\u001b[36m(ClientAppActor pid=403867)\u001b[0m \u001b[32m [repeated 32x across cluster]\u001b[0m\n",
      "\u001b[2m\u001b[36m(ClientAppActor pid=403867)\u001b[0m Epoch 28/100\u001b[32m [repeated 32x across cluster]\u001b[0m\n",
      "\u001b[2m\u001b[36m(ClientAppActor pid=403867)\u001b[0m Epoch 32: Training accuracy: 78.44203186035156 Testing accuracy: 79.22705078125.\u001b[32m [repeated 20x across cluster]\u001b[0m\n",
      "\u001b[2m\u001b[36m(ClientAppActor pid=403867)\u001b[0m \u001b[32m [repeated 10x across cluster]\u001b[0m\n",
      "\u001b[2m\u001b[36m(ClientAppActor pid=403867)\u001b[0m Epoch 38/100\u001b[32m [repeated 10x across cluster]\u001b[0m\n",
      "\u001b[2m\u001b[36m(ClientAppActor pid=403867)\u001b[0m Epoch 42: Training accuracy: 79.34782409667969 Testing accuracy: 78.74396514892578.\u001b[32m [repeated 10x across cluster]\u001b[0m\n",
      "\u001b[2m\u001b[36m(ClientAppActor pid=403867)\u001b[0m \u001b[32m [repeated 10x across cluster]\u001b[0m\n",
      "\u001b[2m\u001b[36m(ClientAppActor pid=403867)\u001b[0m Epoch 48/100\u001b[32m [repeated 10x across cluster]\u001b[0m\n",
      "\u001b[2m\u001b[36m(ClientAppActor pid=403867)\u001b[0m Epoch 51: Training accuracy: 79.58937072753906 Testing accuracy: 79.71014404296875.\u001b[32m [repeated 9x across cluster]\u001b[0m\n",
      "\u001b[2m\u001b[36m(ClientAppActor pid=403867)\u001b[0m \u001b[32m [repeated 11x across cluster]\u001b[0m\n",
      "\u001b[2m\u001b[36m(ClientAppActor pid=403867)\u001b[0m Epoch 59/100\u001b[32m [repeated 11x across cluster]\u001b[0m\n",
      "\u001b[2m\u001b[36m(ClientAppActor pid=403867)\u001b[0m Epoch 83: Training accuracy: 78.01932525634766 Testing accuracy: 81.159423828125.\u001b[32m [repeated 32x across cluster]\u001b[0m\n"
     ]
    },
    {
     "name": "stderr",
     "output_type": "stream",
     "text": [
      "\u001b[92mINFO \u001b[0m:      aggregate_fit: received 3 results and 0 failures\n",
      "\u001b[92mINFO \u001b[0m:      fit progress: (26, 0.053625507788224655, {'accuracy': tensor(73.6767, device='cuda:0')}, 435.9324788410013)\n",
      "\u001b[92mINFO \u001b[0m:      configure_evaluate: strategy sampled 1 clients (out of 3)\n",
      "\u001b[92mINFO \u001b[0m:      aggregate_evaluate: received 1 results and 0 failures\n",
      "\u001b[92mINFO \u001b[0m:      \n",
      "\u001b[92mINFO \u001b[0m:      [ROUND 27]\n",
      "\u001b[92mINFO \u001b[0m:      configure_fit: strategy sampled 3 clients (out of 3)\n"
     ]
    },
    {
     "name": "stdout",
     "output_type": "stream",
     "text": [
      "Server-side evaluation loss 0.053625507788224655 / accuracy 73.67668151855469\n",
      "\u001b[2m\u001b[36m(ClientAppActor pid=403867)\u001b[0m \u001b[32m [repeated 128x across cluster]\u001b[0m\n",
      "\u001b[2m\u001b[36m(ClientAppActor pid=403867)\u001b[0m Epoch 44/100\u001b[32m [repeated 128x across cluster]\u001b[0m\n",
      "\u001b[2m\u001b[36m(ClientAppActor pid=403867)\u001b[0m Epoch 74: Training accuracy: 79.89130401611328 Testing accuracy: 79.71014404296875.\u001b[32m [repeated 158x across cluster]\u001b[0m\n",
      "\u001b[2m\u001b[36m(ClientAppActor pid=403866)\u001b[0m \u001b[32m [repeated 74x across cluster]\u001b[0m\n",
      "\u001b[2m\u001b[36m(ClientAppActor pid=403866)\u001b[0m Epoch 81/100\u001b[32m [repeated 74x across cluster]\u001b[0m\n",
      "\u001b[2m\u001b[36m(ClientAppActor pid=403867)\u001b[0m Epoch 84: Training accuracy: 80.13285064697266 Testing accuracy: 79.22705078125.\u001b[32m [repeated 35x across cluster]\u001b[0m\n",
      "\u001b[2m\u001b[36m(ClientAppActor pid=403867)\u001b[0m \u001b[32m [repeated 39x across cluster]\u001b[0m\n",
      "\u001b[2m\u001b[36m(ClientAppActor pid=403867)\u001b[0m Epoch 96/100\u001b[32m [repeated 39x across cluster]\u001b[0m\n",
      "\u001b[2m\u001b[36m(ClientAppActor pid=403866)\u001b[0m Epoch 23: Training accuracy: 78.32839965820312 Testing accuracy: 77.5147933959961.\u001b[32m [repeated 47x across cluster]\u001b[0m\n",
      "\u001b[2m\u001b[36m(ClientAppActor pid=403866)\u001b[0m \u001b[32m [repeated 72x across cluster]\u001b[0m\n",
      "\u001b[2m\u001b[36m(ClientAppActor pid=403866)\u001b[0m Epoch 72/100\u001b[32m [repeated 72x across cluster]\u001b[0m\n"
     ]
    },
    {
     "name": "stderr",
     "output_type": "stream",
     "text": [
      "\u001b[92mINFO \u001b[0m:      aggregate_fit: received 3 results and 0 failures\n",
      "\u001b[92mINFO \u001b[0m:      fit progress: (27, 0.05371668122031472, {'accuracy': tensor(73.6767, device='cuda:0')}, 453.8048336280008)\n",
      "\u001b[92mINFO \u001b[0m:      configure_evaluate: strategy sampled 1 clients (out of 3)\n",
      "\u001b[92mINFO \u001b[0m:      aggregate_evaluate: received 1 results and 0 failures\n",
      "\u001b[92mINFO \u001b[0m:      \n",
      "\u001b[92mINFO \u001b[0m:      [ROUND 28]\n",
      "\u001b[92mINFO \u001b[0m:      configure_fit: strategy sampled 3 clients (out of 3)\n"
     ]
    },
    {
     "name": "stdout",
     "output_type": "stream",
     "text": [
      "Server-side evaluation loss 0.05371668122031472 / accuracy 73.67668151855469\n",
      "\u001b[2m\u001b[36m(ClientAppActor pid=403867)\u001b[0m Epoch 17: Training accuracy: 79.26646423339844 Testing accuracy: 76.04790496826172.\u001b[32m [repeated 118x across cluster]\u001b[0m\n",
      "\u001b[2m\u001b[36m(ClientAppActor pid=403867)\u001b[0m \u001b[32m [repeated 197x across cluster]\u001b[0m\n",
      "\u001b[2m\u001b[36m(ClientAppActor pid=403867)\u001b[0m Epoch 98/100\u001b[32m [repeated 197x across cluster]\u001b[0m\n",
      "\u001b[2m\u001b[36m(ClientAppActor pid=403867)\u001b[0m Epoch 50: Training accuracy: 79.73372650146484 Testing accuracy: 79.2899398803711.\u001b[32m [repeated 207x across cluster]\u001b[0m\n",
      "\u001b[2m\u001b[36m(ClientAppActor pid=403867)\u001b[0m \u001b[32m [repeated 89x across cluster]\u001b[0m\n",
      "\u001b[2m\u001b[36m(ClientAppActor pid=403867)\u001b[0m Epoch 58/100\u001b[32m [repeated 89x across cluster]\u001b[0m\n",
      "\u001b[2m\u001b[36m(ClientAppActor pid=403867)\u001b[0m Epoch 63: Training accuracy: 78.99407958984375 Testing accuracy: 74.55621337890625.\u001b[32m [repeated 15x across cluster]\u001b[0m\n",
      "\u001b[2m\u001b[36m(ClientAppActor pid=403867)\u001b[0m \u001b[32m [repeated 12x across cluster]\u001b[0m\n",
      "\u001b[2m\u001b[36m(ClientAppActor pid=403867)\u001b[0m Epoch 70/100\u001b[32m [repeated 12x across cluster]\u001b[0m\n",
      "\u001b[2m\u001b[36m(ClientAppActor pid=403867)\u001b[0m Epoch 74: Training accuracy: 78.99407958984375 Testing accuracy: 77.5147933959961.\u001b[32m [repeated 11x across cluster]\u001b[0m\n",
      "\u001b[2m\u001b[36m(ClientAppActor pid=403867)\u001b[0m \u001b[32m [repeated 12x across cluster]\u001b[0m\n",
      "\u001b[2m\u001b[36m(ClientAppActor pid=403867)\u001b[0m Epoch 82/100\u001b[32m [repeated 12x across cluster]\u001b[0m\n",
      "\u001b[2m\u001b[36m(ClientAppActor pid=403867)\u001b[0m Epoch 94: Training accuracy: 80.69526672363281 Testing accuracy: 78.10650634765625.\u001b[32m [repeated 20x across cluster]\u001b[0m\n"
     ]
    },
    {
     "name": "stderr",
     "output_type": "stream",
     "text": [
      "\u001b[92mINFO \u001b[0m:      aggregate_fit: received 3 results and 0 failures\n",
      "\u001b[92mINFO \u001b[0m:      fit progress: (28, 0.05365835536609997, {'accuracy': tensor(73.2475, device='cuda:0')}, 476.34300829100175)\n",
      "\u001b[92mINFO \u001b[0m:      configure_evaluate: strategy sampled 1 clients (out of 3)\n",
      "\u001b[92mINFO \u001b[0m:      aggregate_evaluate: received 1 results and 0 failures\n",
      "\u001b[92mINFO \u001b[0m:      \n",
      "\u001b[92mINFO \u001b[0m:      [ROUND 29]\n",
      "\u001b[92mINFO \u001b[0m:      configure_fit: strategy sampled 3 clients (out of 3)\n"
     ]
    },
    {
     "name": "stdout",
     "output_type": "stream",
     "text": [
      "Server-side evaluation loss 0.05365835536609997 / accuracy 73.24749755859375\n",
      "\u001b[2m\u001b[36m(ClientAppActor pid=403867)\u001b[0m \u001b[32m [repeated 83x across cluster]\u001b[0m\n",
      "\u001b[2m\u001b[36m(ClientAppActor pid=403867)\u001b[0m Epoch 45/100\u001b[32m [repeated 83x across cluster]\u001b[0m\n",
      "\u001b[2m\u001b[36m(ClientAppActor pid=403867)\u001b[0m Epoch 12: Training accuracy: 78.77218627929688 Testing accuracy: 74.55621337890625.\u001b[32m [repeated 174x across cluster]\u001b[0m\n",
      "\u001b[2m\u001b[36m(ClientAppActor pid=403867)\u001b[0m \u001b[32m [repeated 208x across cluster]\u001b[0m\n",
      "\u001b[2m\u001b[36m(ClientAppActor pid=403867)\u001b[0m Epoch 78/100\u001b[32m [repeated 208x across cluster]\u001b[0m\n",
      "\u001b[2m\u001b[36m(ClientAppActor pid=403867)\u001b[0m Epoch 86: Training accuracy: 80.39940643310547 Testing accuracy: 77.5147933959961.\u001b[32m [repeated 118x across cluster]\u001b[0m\n",
      "\u001b[2m\u001b[36m(ClientAppActor pid=403867)\u001b[0m \u001b[32m [repeated 20x across cluster]\u001b[0m\n",
      "\u001b[2m\u001b[36m(ClientAppActor pid=403867)\u001b[0m Epoch 93/100\u001b[32m [repeated 20x across cluster]\u001b[0m\n",
      "\u001b[2m\u001b[36m(ClientAppActor pid=403867)\u001b[0m Epoch 98: Training accuracy: 79.65975952148438 Testing accuracy: 76.92308044433594.\u001b[32m [repeated 12x across cluster]\u001b[0m\n"
     ]
    },
    {
     "name": "stderr",
     "output_type": "stream",
     "text": [
      "\u001b[92mINFO \u001b[0m:      aggregate_fit: received 3 results and 0 failures\n",
      "\u001b[92mINFO \u001b[0m:      fit progress: (29, 0.05583605441180142, {'accuracy': tensor(70.8155, device='cuda:0')}, 492.562496843002)\n",
      "\u001b[92mINFO \u001b[0m:      configure_evaluate: strategy sampled 1 clients (out of 3)\n",
      "\u001b[92mINFO \u001b[0m:      aggregate_evaluate: received 1 results and 0 failures\n",
      "\u001b[92mINFO \u001b[0m:      \n",
      "\u001b[92mINFO \u001b[0m:      [ROUND 30]\n",
      "\u001b[92mINFO \u001b[0m:      configure_fit: strategy sampled 3 clients (out of 3)\n"
     ]
    },
    {
     "name": "stdout",
     "output_type": "stream",
     "text": [
      "Server-side evaluation loss 0.05583605441180142 / accuracy 70.8154525756836\n",
      "\u001b[2m\u001b[36m(ClientAppActor pid=403867)\u001b[0m \u001b[32m [repeated 19x across cluster]\u001b[0m\n",
      "\u001b[2m\u001b[36m(ClientAppActor pid=403867)\u001b[0m Epoch 3/100\u001b[32m [repeated 19x across cluster]\u001b[0m\n",
      "\u001b[2m\u001b[36m(ClientAppActor pid=403866)\u001b[0m Epoch 72: Training accuracy: 78.84615325927734 Testing accuracy: 77.5147933959961.\u001b[32m [repeated 82x across cluster]\u001b[0m\n",
      "\u001b[2m\u001b[36m(ClientAppActor pid=403866)\u001b[0m \u001b[32m [repeated 119x across cluster]\u001b[0m\n",
      "\u001b[2m\u001b[36m(ClientAppActor pid=403866)\u001b[0m Epoch 17/100\u001b[32m [repeated 119x across cluster]\u001b[0m\n",
      "\u001b[2m\u001b[36m(ClientAppActor pid=403866)\u001b[0m Epoch 68: Training accuracy: 79.89130401611328 Testing accuracy: 80.1932373046875.\u001b[32m [repeated 107x across cluster]\u001b[0m\n",
      "\u001b[2m\u001b[36m(ClientAppActor pid=403867)\u001b[0m \u001b[32m [repeated 98x across cluster]\u001b[0m\n",
      "\u001b[2m\u001b[36m(ClientAppActor pid=403867)\u001b[0m Epoch 29/100\u001b[32m [repeated 98x across cluster]\u001b[0m\n"
     ]
    },
    {
     "name": "stderr",
     "output_type": "stream",
     "text": [
      "\u001b[92mINFO \u001b[0m:      aggregate_fit: received 3 results and 0 failures\n",
      "\u001b[92mINFO \u001b[0m:      fit progress: (30, 0.054285759275609795, {'accuracy': tensor(72.2461, device='cuda:0')}, 506.6097426180022)\n",
      "\u001b[92mINFO \u001b[0m:      configure_evaluate: strategy sampled 1 clients (out of 3)\n",
      "\u001b[92mINFO \u001b[0m:      aggregate_evaluate: received 1 results and 0 failures\n",
      "\u001b[92mINFO \u001b[0m:      \n",
      "\u001b[92mINFO \u001b[0m:      [ROUND 31]\n",
      "\u001b[92mINFO \u001b[0m:      configure_fit: strategy sampled 3 clients (out of 3)\n"
     ]
    },
    {
     "name": "stdout",
     "output_type": "stream",
     "text": [
      "Server-side evaluation loss 0.054285759275609795 / accuracy 72.24606323242188\n",
      "\u001b[2m\u001b[36m(ClientAppActor pid=403867)\u001b[0m Epoch 100: Training accuracy: 80.76347351074219 Testing accuracy: 77.2455062866211.\u001b[32m [repeated 113x across cluster]\u001b[0m\n",
      "\u001b[2m\u001b[36m(ClientAppActor pid=403867)\u001b[0m \u001b[32m [repeated 174x across cluster]\u001b[0m\n",
      "\u001b[2m\u001b[36m(ClientAppActor pid=403867)\u001b[0m Epoch 64/100\u001b[32m [repeated 174x across cluster]\u001b[0m\n",
      "\u001b[2m\u001b[36m(ClientAppActor pid=403866)\u001b[0m Epoch 52: Training accuracy: 80.02958679199219 Testing accuracy: 77.5147933959961.\u001b[32m [repeated 138x across cluster]\u001b[0m\n",
      "\u001b[2m\u001b[36m(ClientAppActor pid=403866)\u001b[0m \u001b[32m [repeated 52x across cluster]\u001b[0m\n",
      "\u001b[2m\u001b[36m(ClientAppActor pid=403866)\u001b[0m Epoch 62/100\u001b[32m [repeated 52x across cluster]\u001b[0m\n",
      "\u001b[2m\u001b[36m(ClientAppActor pid=403867)\u001b[0m Epoch 100: Training accuracy: 80.83832550048828 Testing accuracy: 79.04191589355469.\u001b[32m [repeated 34x across cluster]\u001b[0m\n",
      "\u001b[2m\u001b[36m(ClientAppActor pid=403866)\u001b[0m \u001b[32m [repeated 33x across cluster]\u001b[0m\n",
      "\u001b[2m\u001b[36m(ClientAppActor pid=403866)\u001b[0m Epoch 83/100\u001b[32m [repeated 33x across cluster]\u001b[0m\n",
      "\u001b[2m\u001b[36m(ClientAppActor pid=403866)\u001b[0m Epoch 96: Training accuracy: 79.80769348144531 Testing accuracy: 76.92308044433594.\u001b[32m [repeated 34x across cluster]\u001b[0m\n",
      "\u001b[2m\u001b[36m(ClientAppActor pid=403867)\u001b[0m \u001b[32m [repeated 28x across cluster]\u001b[0m\n",
      "\u001b[2m\u001b[36m(ClientAppActor pid=403867)\u001b[0m Epoch 16/100\u001b[32m [repeated 28x across cluster]\u001b[0m\n",
      "\u001b[2m\u001b[36m(ClientAppActor pid=403867)\u001b[0m Epoch 22: Training accuracy: 80.07246398925781 Testing accuracy: 80.1932373046875.\u001b[32m [repeated 16x across cluster]\u001b[0m\n",
      "\u001b[2m\u001b[36m(ClientAppActor pid=403867)\u001b[0m \u001b[32m [repeated 14x across cluster]\u001b[0m\n",
      "\u001b[2m\u001b[36m(ClientAppActor pid=403867)\u001b[0m Epoch 30/100\u001b[32m [repeated 14x across cluster]\u001b[0m\n",
      "\u001b[2m\u001b[36m(ClientAppActor pid=403867)\u001b[0m Epoch 90: Training accuracy: 77.83816528320312 Testing accuracy: 76.81159210205078.\u001b[32m [repeated 68x across cluster]\u001b[0m\n"
     ]
    },
    {
     "name": "stderr",
     "output_type": "stream",
     "text": [
      "\u001b[92mINFO \u001b[0m:      aggregate_fit: received 3 results and 0 failures\n",
      "\u001b[92mINFO \u001b[0m:      fit progress: (31, 0.054772897200150925, {'accuracy': tensor(72.2461, device='cuda:0')}, 532.8955112110016)\n",
      "\u001b[92mINFO \u001b[0m:      configure_evaluate: strategy sampled 1 clients (out of 3)\n",
      "\u001b[92mINFO \u001b[0m:      aggregate_evaluate: received 1 results and 0 failures\n",
      "\u001b[92mINFO \u001b[0m:      \n",
      "\u001b[92mINFO \u001b[0m:      [ROUND 32]\n",
      "\u001b[92mINFO \u001b[0m:      configure_fit: strategy sampled 3 clients (out of 3)\n"
     ]
    },
    {
     "name": "stdout",
     "output_type": "stream",
     "text": [
      "Server-side evaluation loss 0.054772897200150925 / accuracy 72.24606323242188\n",
      "\u001b[2m\u001b[36m(ClientAppActor pid=403867)\u001b[0m \u001b[32m [repeated 107x across cluster]\u001b[0m\n",
      "\u001b[2m\u001b[36m(ClientAppActor pid=403867)\u001b[0m Epoch 27/100\u001b[32m [repeated 107x across cluster]\u001b[0m\n",
      "\u001b[2m\u001b[36m(ClientAppActor pid=403866)\u001b[0m Epoch 24: Training accuracy: 78.29341125488281 Testing accuracy: 77.84431457519531.\u001b[32m [repeated 67x across cluster]\u001b[0m\n",
      "\u001b[2m\u001b[36m(ClientAppActor pid=403866)\u001b[0m \u001b[32m [repeated 51x across cluster]\u001b[0m\n",
      "\u001b[2m\u001b[36m(ClientAppActor pid=403866)\u001b[0m Epoch 48/100\u001b[32m [repeated 51x across cluster]\u001b[0m\n",
      "\u001b[2m\u001b[36m(ClientAppActor pid=403866)\u001b[0m Epoch 79: Training accuracy: 80.83832550048828 Testing accuracy: 76.04790496826172.\u001b[32m [repeated 67x across cluster]\u001b[0m\n",
      "\u001b[2m\u001b[36m(ClientAppActor pid=403866)\u001b[0m \u001b[32m [repeated 66x across cluster]\u001b[0m\n",
      "\u001b[2m\u001b[36m(ClientAppActor pid=403866)\u001b[0m Epoch 3/100\u001b[32m [repeated 66x across cluster]\u001b[0m\n",
      "\u001b[2m\u001b[36m(ClientAppActor pid=403866)\u001b[0m Epoch 43: Training accuracy: 79.7705307006836 Testing accuracy: 80.67633056640625.\u001b[32m [repeated 76x across cluster]\u001b[0m\n",
      "\u001b[2m\u001b[36m(ClientAppActor pid=403866)\u001b[0m \u001b[32m [repeated 89x across cluster]\u001b[0m\n",
      "\u001b[2m\u001b[36m(ClientAppActor pid=403866)\u001b[0m Epoch 81/100\u001b[32m [repeated 89x across cluster]\u001b[0m\n",
      "\u001b[2m\u001b[36m(ClientAppActor pid=403867)\u001b[0m Epoch 68: Training accuracy: 79.4378662109375 Testing accuracy: 77.5147933959961.\u001b[32m [repeated 68x across cluster]\u001b[0m\n",
      "\u001b[2m\u001b[36m(ClientAppActor pid=403867)\u001b[0m \u001b[32m [repeated 31x across cluster]\u001b[0m\n",
      "\u001b[2m\u001b[36m(ClientAppActor pid=403867)\u001b[0m Epoch 74/100\u001b[32m [repeated 31x across cluster]\u001b[0m\n"
     ]
    },
    {
     "name": "stderr",
     "output_type": "stream",
     "text": [
      "\u001b[92mINFO \u001b[0m:      aggregate_fit: received 3 results and 0 failures\n",
      "\u001b[92mINFO \u001b[0m:      fit progress: (32, 0.05536497722972523, {'accuracy': tensor(71.9599, device='cuda:0')}, 556.7199546100019)\n",
      "\u001b[92mINFO \u001b[0m:      configure_evaluate: strategy sampled 1 clients (out of 3)\n",
      "\u001b[92mINFO \u001b[0m:      aggregate_evaluate: received 1 results and 0 failures\n",
      "\u001b[92mINFO \u001b[0m:      \n",
      "\u001b[92mINFO \u001b[0m:      [ROUND 33]\n",
      "\u001b[92mINFO \u001b[0m:      configure_fit: strategy sampled 3 clients (out of 3)\n"
     ]
    },
    {
     "name": "stdout",
     "output_type": "stream",
     "text": [
      "Server-side evaluation loss 0.05536497722972523 / accuracy 71.95994567871094\n",
      "\u001b[2m\u001b[36m(ClientAppActor pid=403867)\u001b[0m Epoch 32: Training accuracy: 79.26646423339844 Testing accuracy: 76.04790496826172.\u001b[32m [repeated 88x across cluster]\u001b[0m\n",
      "\u001b[2m\u001b[36m(ClientAppActor pid=403867)\u001b[0m \u001b[32m [repeated 188x across cluster]\u001b[0m\n",
      "\u001b[2m\u001b[36m(ClientAppActor pid=403867)\u001b[0m Epoch 96/100\u001b[32m [repeated 188x across cluster]\u001b[0m\n",
      "\u001b[2m\u001b[36m(ClientAppActor pid=403866)\u001b[0m Epoch 81: Training accuracy: 79.58580017089844 Testing accuracy: 77.5147933959961.\u001b[32m [repeated 142x across cluster]\u001b[0m\n",
      "\u001b[2m\u001b[36m(ClientAppActor pid=403866)\u001b[0m \u001b[32m [repeated 51x across cluster]\u001b[0m\n",
      "\u001b[2m\u001b[36m(ClientAppActor pid=403866)\u001b[0m Epoch 91/100\u001b[32m [repeated 51x across cluster]\u001b[0m\n",
      "\u001b[2m\u001b[36m(ClientAppActor pid=403867)\u001b[0m Epoch 27: Training accuracy: 79.40821075439453 Testing accuracy: 79.22705078125.\u001b[32m [repeated 29x across cluster]\u001b[0m\n",
      "\u001b[2m\u001b[36m(ClientAppActor pid=403867)\u001b[0m \u001b[32m [repeated 20x across cluster]\u001b[0m\n",
      "\u001b[2m\u001b[36m(ClientAppActor pid=403867)\u001b[0m Epoch 33/100\u001b[32m [repeated 20x across cluster]\u001b[0m\n",
      "\u001b[2m\u001b[36m(ClientAppActor pid=403867)\u001b[0m Epoch 37: Training accuracy: 80.25362396240234 Testing accuracy: 80.1932373046875.\u001b[32m [repeated 10x across cluster]\u001b[0m\n",
      "\u001b[2m\u001b[36m(ClientAppActor pid=403867)\u001b[0m \u001b[32m [repeated 11x across cluster]\u001b[0m\n",
      "\u001b[2m\u001b[36m(ClientAppActor pid=403867)\u001b[0m Epoch 44/100\u001b[32m [repeated 11x across cluster]\u001b[0m\n",
      "\u001b[2m\u001b[36m(ClientAppActor pid=403867)\u001b[0m Epoch 64: Training accuracy: 81.21981048583984 Testing accuracy: 80.67633056640625.\u001b[32m [repeated 27x across cluster]\u001b[0m\n"
     ]
    },
    {
     "name": "stderr",
     "output_type": "stream",
     "text": [
      "\u001b[92mINFO \u001b[0m:      aggregate_fit: received 3 results and 0 failures\n",
      "\u001b[92mINFO \u001b[0m:      fit progress: (33, 0.054231139746579254, {'accuracy': tensor(72.8183, device='cuda:0')}, 579.6886309040019)\n",
      "\u001b[92mINFO \u001b[0m:      configure_evaluate: strategy sampled 1 clients (out of 3)\n",
      "\u001b[92mINFO \u001b[0m:      aggregate_evaluate: received 1 results and 0 failures\n",
      "\u001b[92mINFO \u001b[0m:      \n",
      "\u001b[92mINFO \u001b[0m:      [ROUND 34]\n",
      "\u001b[92mINFO \u001b[0m:      configure_fit: strategy sampled 3 clients (out of 3)\n"
     ]
    },
    {
     "name": "stdout",
     "output_type": "stream",
     "text": [
      "Server-side evaluation loss 0.054231139746579254 / accuracy 72.81831359863281\n",
      "\u001b[2m\u001b[36m(ClientAppActor pid=403867)\u001b[0m \u001b[32m [repeated 94x across cluster]\u001b[0m\n",
      "\u001b[2m\u001b[36m(ClientAppActor pid=403867)\u001b[0m Epoch 21/100\u001b[32m [repeated 94x across cluster]\u001b[0m\n",
      "\u001b[2m\u001b[36m(ClientAppActor pid=403866)\u001b[0m Epoch 44: Training accuracy: 78.3682632446289 Testing accuracy: 79.04191589355469.\u001b[32m [repeated 142x across cluster]\u001b[0m\n",
      "\u001b[2m\u001b[36m(ClientAppActor pid=403866)\u001b[0m \u001b[32m [repeated 89x across cluster]\u001b[0m\n",
      "\u001b[2m\u001b[36m(ClientAppActor pid=403866)\u001b[0m Epoch 57/100\u001b[32m [repeated 89x across cluster]\u001b[0m\n",
      "\u001b[2m\u001b[36m(ClientAppActor pid=403866)\u001b[0m Epoch 82: Training accuracy: 81.13772583007812 Testing accuracy: 79.04191589355469.\u001b[32m [repeated 51x across cluster]\u001b[0m\n",
      "\u001b[2m\u001b[36m(ClientAppActor pid=403866)\u001b[0m \u001b[32m [repeated 60x across cluster]\u001b[0m\n",
      "\u001b[2m\u001b[36m(ClientAppActor pid=403866)\u001b[0m Epoch 5/100\u001b[32m [repeated 60x across cluster]\u001b[0m\n",
      "\u001b[2m\u001b[36m(ClientAppActor pid=403866)\u001b[0m Epoch 25: Training accuracy: 79.52898406982422 Testing accuracy: 80.1932373046875.\u001b[32m [repeated 55x across cluster]\u001b[0m\n",
      "\u001b[2m\u001b[36m(ClientAppActor pid=403866)\u001b[0m \u001b[32m [repeated 54x across cluster]\u001b[0m\n",
      "\u001b[2m\u001b[36m(ClientAppActor pid=403866)\u001b[0m Epoch 46/100\u001b[32m [repeated 54x across cluster]\u001b[0m\n",
      "\u001b[2m\u001b[36m(ClientAppActor pid=403866)\u001b[0m Epoch 85: Training accuracy: 81.46134948730469 Testing accuracy: 81.159423828125.\u001b[32m [repeated 73x across cluster]\u001b[0m\n"
     ]
    },
    {
     "name": "stderr",
     "output_type": "stream",
     "text": [
      "\u001b[92mINFO \u001b[0m:      aggregate_fit: received 3 results and 0 failures\n",
      "\u001b[92mINFO \u001b[0m:      fit progress: (34, 0.05385302955454046, {'accuracy': tensor(72.9614, device='cuda:0')}, 599.0671526090009)\n",
      "\u001b[92mINFO \u001b[0m:      configure_evaluate: strategy sampled 1 clients (out of 3)\n",
      "\u001b[92mINFO \u001b[0m:      aggregate_evaluate: received 1 results and 0 failures\n",
      "\u001b[92mINFO \u001b[0m:      \n",
      "\u001b[92mINFO \u001b[0m:      [ROUND 35]\n",
      "\u001b[92mINFO \u001b[0m:      configure_fit: strategy sampled 3 clients (out of 3)\n"
     ]
    },
    {
     "name": "stdout",
     "output_type": "stream",
     "text": [
      "Server-side evaluation loss 0.05385302955454046 / accuracy 72.96137237548828\n",
      "\u001b[2m\u001b[36m(ClientAppActor pid=403867)\u001b[0m \u001b[32m [repeated 91x across cluster]\u001b[0m\n",
      "\u001b[2m\u001b[36m(ClientAppActor pid=403867)\u001b[0m Epoch 11/100\u001b[32m [repeated 91x across cluster]\u001b[0m\n",
      "\u001b[2m\u001b[36m(ClientAppActor pid=403867)\u001b[0m Epoch 65: Training accuracy: 81.28742218017578 Testing accuracy: 77.2455062866211.\u001b[32m [repeated 147x across cluster]\u001b[0m\n",
      "\u001b[2m\u001b[36m(ClientAppActor pid=403867)\u001b[0m \u001b[32m [repeated 196x across cluster]\u001b[0m\n",
      "\u001b[2m\u001b[36m(ClientAppActor pid=403867)\u001b[0m Epoch 28/100\u001b[32m [repeated 196x across cluster]\u001b[0m\n",
      "\u001b[2m\u001b[36m(ClientAppActor pid=403867)\u001b[0m Epoch 47: Training accuracy: 80.99112701416016 Testing accuracy: 78.10650634765625.\u001b[32m [repeated 115x across cluster]\u001b[0m\n",
      "\u001b[2m\u001b[36m(ClientAppActor pid=403867)\u001b[0m \u001b[32m [repeated 26x across cluster]\u001b[0m\n",
      "\u001b[2m\u001b[36m(ClientAppActor pid=403867)\u001b[0m Epoch 54/100\u001b[32m [repeated 26x across cluster]\u001b[0m\n",
      "\u001b[2m\u001b[36m(ClientAppActor pid=403867)\u001b[0m Epoch 59: Training accuracy: 80.91716003417969 Testing accuracy: 78.10650634765625.\u001b[32m [repeated 12x across cluster]\u001b[0m\n",
      "\u001b[2m\u001b[36m(ClientAppActor pid=403867)\u001b[0m \u001b[32m [repeated 12x across cluster]\u001b[0m\n",
      "\u001b[2m\u001b[36m(ClientAppActor pid=403867)\u001b[0m Epoch 66/100\u001b[32m [repeated 12x across cluster]\u001b[0m\n",
      "\u001b[2m\u001b[36m(ClientAppActor pid=403867)\u001b[0m Epoch 71: Training accuracy: 81.13905334472656 Testing accuracy: 76.92308044433594.\u001b[32m [repeated 12x across cluster]\u001b[0m\n",
      "\u001b[2m\u001b[36m(ClientAppActor pid=403867)\u001b[0m \u001b[32m [repeated 13x across cluster]\u001b[0m\n",
      "\u001b[2m\u001b[36m(ClientAppActor pid=403867)\u001b[0m Epoch 79/100\u001b[32m [repeated 13x across cluster]\u001b[0m\n",
      "\u001b[2m\u001b[36m(ClientAppActor pid=403867)\u001b[0m Epoch 89: Training accuracy: 81.4349136352539 Testing accuracy: 78.10650634765625.\u001b[32m [repeated 18x across cluster]\u001b[0m\n"
     ]
    },
    {
     "name": "stderr",
     "output_type": "stream",
     "text": [
      "\u001b[92mINFO \u001b[0m:      aggregate_fit: received 3 results and 0 failures\n",
      "\u001b[92mINFO \u001b[0m:      fit progress: (35, 0.05411955443295566, {'accuracy': tensor(73.3906, device='cuda:0')}, 625.430777081001)\n",
      "\u001b[92mINFO \u001b[0m:      configure_evaluate: strategy sampled 1 clients (out of 3)\n",
      "\u001b[92mINFO \u001b[0m:      aggregate_evaluate: received 1 results and 0 failures\n",
      "\u001b[92mINFO \u001b[0m:      \n",
      "\u001b[92mINFO \u001b[0m:      [ROUND 36]\n",
      "\u001b[92mINFO \u001b[0m:      configure_fit: strategy sampled 3 clients (out of 3)\n"
     ]
    },
    {
     "name": "stdout",
     "output_type": "stream",
     "text": [
      "Server-side evaluation loss 0.05411955443295566 / accuracy 73.39055633544922\n",
      "\u001b[2m\u001b[36m(ClientAppActor pid=403867)\u001b[0m \u001b[32m [repeated 45x across cluster]\u001b[0m\n",
      "\u001b[2m\u001b[36m(ClientAppActor pid=403867)\u001b[0m Epoch 18/100\u001b[32m [repeated 45x across cluster]\u001b[0m\n",
      "\u001b[2m\u001b[36m(ClientAppActor pid=403867)\u001b[0m Epoch 86: Training accuracy: 81.51197814941406 Testing accuracy: 77.84431457519531.\u001b[32m [repeated 145x across cluster]\u001b[0m\n",
      "\u001b[2m\u001b[36m(ClientAppActor pid=403866)\u001b[0m \u001b[32m [repeated 176x across cluster]\u001b[0m\n",
      "\u001b[2m\u001b[36m(ClientAppActor pid=403866)\u001b[0m Epoch 77/100\u001b[32m [repeated 176x across cluster]\u001b[0m\n",
      "\u001b[2m\u001b[36m(ClientAppActor pid=403867)\u001b[0m Epoch 28: Training accuracy: 79.34782409667969 Testing accuracy: 78.74396514892578.\u001b[32m [repeated 81x across cluster]\u001b[0m\n",
      "\u001b[2m\u001b[36m(ClientAppActor pid=403867)\u001b[0m \u001b[32m [repeated 35x across cluster]\u001b[0m\n",
      "\u001b[2m\u001b[36m(ClientAppActor pid=403867)\u001b[0m Epoch 35/100\u001b[32m [repeated 35x across cluster]\u001b[0m\n",
      "\u001b[2m\u001b[36m(ClientAppActor pid=403867)\u001b[0m Epoch 43: Training accuracy: 80.79710388183594 Testing accuracy: 80.67633056640625.\u001b[32m [repeated 28x across cluster]\u001b[0m\n",
      "\u001b[2m\u001b[36m(ClientAppActor pid=403867)\u001b[0m \u001b[32m [repeated 19x across cluster]\u001b[0m\n",
      "\u001b[2m\u001b[36m(ClientAppActor pid=403867)\u001b[0m Epoch 54/100\u001b[32m [repeated 19x across cluster]\u001b[0m\n",
      "\u001b[2m\u001b[36m(ClientAppActor pid=403867)\u001b[0m Epoch 70: Training accuracy: 79.28743743896484 Testing accuracy: 80.1932373046875.\u001b[32m [repeated 27x across cluster]\u001b[0m\n",
      "\u001b[2m\u001b[36m(ClientAppActor pid=403867)\u001b[0m \u001b[32m [repeated 43x across cluster]\u001b[0m\n",
      "\u001b[2m\u001b[36m(ClientAppActor pid=403867)\u001b[0m Epoch 97/100\u001b[32m [repeated 43x across cluster]\u001b[0m\n"
     ]
    },
    {
     "name": "stderr",
     "output_type": "stream",
     "text": [
      "\u001b[92mINFO \u001b[0m:      aggregate_fit: received 3 results and 0 failures\n",
      "\u001b[92mINFO \u001b[0m:      fit progress: (36, 0.05335615981708874, {'accuracy': tensor(73.2475, device='cuda:0')}, 647.0007843999992)\n",
      "\u001b[92mINFO \u001b[0m:      configure_evaluate: strategy sampled 1 clients (out of 3)\n",
      "\u001b[92mINFO \u001b[0m:      aggregate_evaluate: received 1 results and 0 failures\n",
      "\u001b[92mINFO \u001b[0m:      \n",
      "\u001b[92mINFO \u001b[0m:      [ROUND 37]\n",
      "\u001b[92mINFO \u001b[0m:      configure_fit: strategy sampled 3 clients (out of 3)\n"
     ]
    },
    {
     "name": "stdout",
     "output_type": "stream",
     "text": [
      "Server-side evaluation loss 0.05335615981708874 / accuracy 73.24749755859375\n",
      "\u001b[2m\u001b[36m(ClientAppActor pid=403867)\u001b[0m Epoch 19: Training accuracy: 80.01207733154297 Testing accuracy: 79.71014404296875.\u001b[32m [repeated 65x across cluster]\u001b[0m\n",
      "\u001b[2m\u001b[36m(ClientAppActor pid=403867)\u001b[0m \u001b[32m [repeated 120x across cluster]\u001b[0m\n",
      "\u001b[2m\u001b[36m(ClientAppActor pid=403867)\u001b[0m Epoch 47/100\u001b[32m [repeated 120x across cluster]\u001b[0m\n",
      "\u001b[2m\u001b[36m(ClientAppActor pid=403867)\u001b[0m Epoch 95: Training accuracy: 81.8840560913086 Testing accuracy: 80.67633056640625.\u001b[32m [repeated 177x across cluster]\u001b[0m\n",
      "\u001b[2m\u001b[36m(ClientAppActor pid=403866)\u001b[0m \u001b[32m [repeated 151x across cluster]\u001b[0m\n",
      "\u001b[2m\u001b[36m(ClientAppActor pid=403866)\u001b[0m Epoch 68/100\u001b[32m [repeated 151x across cluster]\u001b[0m\n",
      "\u001b[2m\u001b[36m(ClientAppActor pid=403866)\u001b[0m Epoch 76: Training accuracy: 78.3682632446289 Testing accuracy: 79.64071655273438.\u001b[32m [repeated 64x across cluster]\u001b[0m\n",
      "\u001b[2m\u001b[36m(ClientAppActor pid=403866)\u001b[0m \u001b[32m [repeated 19x across cluster]\u001b[0m\n",
      "\u001b[2m\u001b[36m(ClientAppActor pid=403866)\u001b[0m Epoch 87/100\u001b[32m [repeated 19x across cluster]\u001b[0m\n",
      "\u001b[2m\u001b[36m(ClientAppActor pid=403866)\u001b[0m Epoch 97: Training accuracy: 80.98802185058594 Testing accuracy: 80.83832550048828.\u001b[32m [repeated 21x across cluster]\u001b[0m\n"
     ]
    },
    {
     "name": "stderr",
     "output_type": "stream",
     "text": [
      "\u001b[92mINFO \u001b[0m:      aggregate_fit: received 3 results and 0 failures\n",
      "\u001b[92mINFO \u001b[0m:      fit progress: (37, 0.05315114151347767, {'accuracy': tensor(73.5336, device='cuda:0')}, 665.153663052999)\n",
      "\u001b[92mINFO \u001b[0m:      configure_evaluate: strategy sampled 1 clients (out of 3)\n",
      "\u001b[92mINFO \u001b[0m:      aggregate_evaluate: received 1 results and 0 failures\n",
      "\u001b[92mINFO \u001b[0m:      \n",
      "\u001b[92mINFO \u001b[0m:      [ROUND 38]\n",
      "\u001b[92mINFO \u001b[0m:      configure_fit: strategy sampled 3 clients (out of 3)\n"
     ]
    },
    {
     "name": "stdout",
     "output_type": "stream",
     "text": [
      "Server-side evaluation loss 0.05315114151347767 / accuracy 73.53362274169922\n",
      "\u001b[2m\u001b[36m(ClientAppActor pid=403866)\u001b[0m \u001b[32m [repeated 25x across cluster]\u001b[0m\n",
      "\u001b[2m\u001b[36m(ClientAppActor pid=403866)\u001b[0m Epoch 8/100\u001b[32m [repeated 25x across cluster]\u001b[0m\n",
      "\u001b[2m\u001b[36m(ClientAppActor pid=403866)\u001b[0m Epoch 25: Training accuracy: 81.0650863647461 Testing accuracy: 78.69822692871094.\u001b[32m [repeated 35x across cluster]\u001b[0m\n",
      "\u001b[2m\u001b[36m(ClientAppActor pid=403867)\u001b[0m \u001b[32m [repeated 80x across cluster]\u001b[0m\n",
      "\u001b[2m\u001b[36m(ClientAppActor pid=403867)\u001b[0m Epoch 14/100\u001b[32m [repeated 80x across cluster]\u001b[0m\n",
      "\u001b[2m\u001b[36m(ClientAppActor pid=403866)\u001b[0m Epoch 32: Training accuracy: 80.61376953125 Testing accuracy: 78.443115234375.\u001b[32m [repeated 120x across cluster]\u001b[0m\n",
      "\u001b[2m\u001b[36m(ClientAppActor pid=403867)\u001b[0m \u001b[32m [repeated 138x across cluster]\u001b[0m\n",
      "\u001b[2m\u001b[36m(ClientAppActor pid=403867)\u001b[0m Epoch 31/100\u001b[32m [repeated 138x across cluster]\u001b[0m\n",
      "\u001b[2m\u001b[36m(ClientAppActor pid=403867)\u001b[0m Epoch 56: Training accuracy: 78.32125854492188 Testing accuracy: 77.77777862548828.\u001b[32m [repeated 104x across cluster]\u001b[0m\n",
      "\u001b[2m\u001b[36m(ClientAppActor pid=403867)\u001b[0m \u001b[32m [repeated 57x across cluster]\u001b[0m\n",
      "\u001b[2m\u001b[36m(ClientAppActor pid=403867)\u001b[0m Epoch 87/100\u001b[32m [repeated 57x across cluster]\u001b[0m\n"
     ]
    },
    {
     "name": "stderr",
     "output_type": "stream",
     "text": [
      "\u001b[92mINFO \u001b[0m:      aggregate_fit: received 3 results and 0 failures\n",
      "\u001b[92mINFO \u001b[0m:      fit progress: (38, 0.05319211699745872, {'accuracy': tensor(73.9628, device='cuda:0')}, 682.67273097)\n",
      "\u001b[92mINFO \u001b[0m:      configure_evaluate: strategy sampled 1 clients (out of 3)\n",
      "\u001b[92mINFO \u001b[0m:      aggregate_evaluate: received 1 results and 0 failures\n",
      "\u001b[92mINFO \u001b[0m:      \n",
      "\u001b[92mINFO \u001b[0m:      [ROUND 39]\n",
      "\u001b[92mINFO \u001b[0m:      configure_fit: strategy sampled 3 clients (out of 3)\n"
     ]
    },
    {
     "name": "stdout",
     "output_type": "stream",
     "text": [
      "Server-side evaluation loss 0.05319211699745872 / accuracy 73.96280670166016\n",
      "\u001b[2m\u001b[36m(ClientAppActor pid=403867)\u001b[0m Epoch 49: Training accuracy: 81.13905334472656 Testing accuracy: 77.5147933959961.\u001b[32m [repeated 126x across cluster]\u001b[0m\n",
      "\u001b[2m\u001b[36m(ClientAppActor pid=403866)\u001b[0m \u001b[32m [repeated 156x across cluster]\u001b[0m\n",
      "\u001b[2m\u001b[36m(ClientAppActor pid=403866)\u001b[0m Epoch 56/100\u001b[32m [repeated 156x across cluster]\u001b[0m\n",
      "\u001b[2m\u001b[36m(ClientAppActor pid=403867)\u001b[0m Epoch 92: Training accuracy: 81.0650863647461 Testing accuracy: 78.10650634765625.\u001b[32m [repeated 73x across cluster]\u001b[0m\n",
      "\u001b[2m\u001b[36m(ClientAppActor pid=403867)\u001b[0m \u001b[32m [repeated 31x across cluster]\u001b[0m\n",
      "\u001b[2m\u001b[36m(ClientAppActor pid=403867)\u001b[0m Epoch 100/100\u001b[32m [repeated 31x across cluster]\u001b[0m\n",
      "\u001b[2m\u001b[36m(ClientAppActor pid=403867)\u001b[0m Epoch 10: Training accuracy: 80.61376953125 Testing accuracy: 77.84431457519531.\u001b[32m [repeated 36x across cluster]\u001b[0m\n",
      "\u001b[2m\u001b[36m(ClientAppActor pid=403867)\u001b[0m \u001b[32m [repeated 43x across cluster]\u001b[0m\n",
      "\u001b[2m\u001b[36m(ClientAppActor pid=403867)\u001b[0m Epoch 26/100\u001b[32m [repeated 43x across cluster]\u001b[0m\n",
      "\u001b[2m\u001b[36m(ClientAppActor pid=403867)\u001b[0m Epoch 55: Training accuracy: 78.66766357421875 Testing accuracy: 74.85029602050781.\u001b[32m [repeated 64x across cluster]\u001b[0m\n",
      "\u001b[2m\u001b[36m(ClientAppActor pid=403867)\u001b[0m \u001b[32m [repeated 74x across cluster]\u001b[0m\n",
      "\u001b[2m\u001b[36m(ClientAppActor pid=403867)\u001b[0m Epoch 91/100\u001b[32m [repeated 74x across cluster]\u001b[0m\n"
     ]
    },
    {
     "name": "stderr",
     "output_type": "stream",
     "text": [
      "\u001b[92mINFO \u001b[0m:      aggregate_fit: received 3 results and 0 failures\n",
      "\u001b[92mINFO \u001b[0m:      fit progress: (39, 0.05357642065395008, {'accuracy': tensor(73.8197, device='cuda:0')}, 703.027641867)\n",
      "\u001b[92mINFO \u001b[0m:      configure_evaluate: strategy sampled 1 clients (out of 3)\n",
      "\u001b[92mINFO \u001b[0m:      aggregate_evaluate: received 1 results and 0 failures\n",
      "\u001b[92mINFO \u001b[0m:      \n",
      "\u001b[92mINFO \u001b[0m:      [ROUND 40]\n",
      "\u001b[92mINFO \u001b[0m:      configure_fit: strategy sampled 3 clients (out of 3)\n"
     ]
    },
    {
     "name": "stdout",
     "output_type": "stream",
     "text": [
      "Server-side evaluation loss 0.05357642065395008 / accuracy 73.81974029541016\n",
      "\u001b[2m\u001b[36m(ClientAppActor pid=403867)\u001b[0m Epoch 50: Training accuracy: 75.82335662841797 Testing accuracy: 80.23951721191406.\u001b[32m [repeated 127x across cluster]\u001b[0m\n",
      "\u001b[2m\u001b[36m(ClientAppActor pid=403867)\u001b[0m \u001b[32m [repeated 188x across cluster]\u001b[0m\n",
      "\u001b[2m\u001b[36m(ClientAppActor pid=403867)\u001b[0m Epoch 16/100\u001b[32m [repeated 188x across cluster]\u001b[0m\n",
      "\u001b[2m\u001b[36m(ClientAppActor pid=403866)\u001b[0m Epoch 72: Training accuracy: 78.56280517578125 Testing accuracy: 77.77777862548828.\u001b[32m [repeated 115x across cluster]\u001b[0m\n",
      "\u001b[2m\u001b[36m(ClientAppActor pid=403866)\u001b[0m \u001b[32m [repeated 37x across cluster]\u001b[0m\n",
      "\u001b[2m\u001b[36m(ClientAppActor pid=403866)\u001b[0m Epoch 83/100\u001b[32m [repeated 37x across cluster]\u001b[0m\n",
      "\u001b[2m\u001b[36m(ClientAppActor pid=403866)\u001b[0m Epoch 93: Training accuracy: 81.94444274902344 Testing accuracy: 82.12560272216797.\u001b[32m [repeated 34x across cluster]\u001b[0m\n",
      "\u001b[2m\u001b[36m(ClientAppActor pid=403867)\u001b[0m \u001b[32m [repeated 30x across cluster]\u001b[0m\n",
      "\u001b[2m\u001b[36m(ClientAppActor pid=403867)\u001b[0m Epoch 46/100\u001b[32m [repeated 30x across cluster]\u001b[0m\n",
      "\u001b[2m\u001b[36m(ClientAppActor pid=403867)\u001b[0m Epoch 51: Training accuracy: 78.25444030761719 Testing accuracy: 73.9645004272461.\u001b[32m [repeated 20x across cluster]\u001b[0m\n",
      "\u001b[2m\u001b[36m(ClientAppActor pid=403867)\u001b[0m \u001b[32m [repeated 12x across cluster]\u001b[0m\n",
      "\u001b[2m\u001b[36m(ClientAppActor pid=403867)\u001b[0m Epoch 58/100\u001b[32m [repeated 12x across cluster]\u001b[0m\n",
      "\u001b[2m\u001b[36m(ClientAppActor pid=403867)\u001b[0m Epoch 62: Training accuracy: 80.10355377197266 Testing accuracy: 78.10650634765625.\u001b[32m [repeated 11x across cluster]\u001b[0m\n",
      "\u001b[2m\u001b[36m(ClientAppActor pid=403867)\u001b[0m \u001b[32m [repeated 11x across cluster]\u001b[0m\n",
      "\u001b[2m\u001b[36m(ClientAppActor pid=403867)\u001b[0m Epoch 69/100\u001b[32m [repeated 11x across cluster]\u001b[0m\n",
      "\u001b[2m\u001b[36m(ClientAppActor pid=403867)\u001b[0m Epoch 93: Training accuracy: 81.65680694580078 Testing accuracy: 78.10650634765625.\u001b[32m [repeated 31x across cluster]\u001b[0m\n"
     ]
    },
    {
     "name": "stderr",
     "output_type": "stream",
     "text": [
      "\u001b[92mINFO \u001b[0m:      aggregate_fit: received 3 results and 0 failures\n",
      "\u001b[92mINFO \u001b[0m:      fit progress: (40, 0.05348348075693304, {'accuracy': tensor(74.2489, device='cuda:0')}, 731.2645224449989)\n",
      "\u001b[92mINFO \u001b[0m:      configure_evaluate: strategy sampled 1 clients (out of 3)\n",
      "\u001b[92mINFO \u001b[0m:      aggregate_evaluate: received 1 results and 0 failures\n",
      "\u001b[92mINFO \u001b[0m:      \n",
      "\u001b[92mINFO \u001b[0m:      [ROUND 41]\n",
      "\u001b[92mINFO \u001b[0m:      configure_fit: strategy sampled 3 clients (out of 3)\n"
     ]
    },
    {
     "name": "stdout",
     "output_type": "stream",
     "text": [
      "Server-side evaluation loss 0.05348348075693304 / accuracy 74.2489242553711\n",
      "\u001b[2m\u001b[36m(ClientAppActor pid=403867)\u001b[0m \u001b[32m [repeated 149x across cluster]\u001b[0m\n",
      "\u001b[2m\u001b[36m(ClientAppActor pid=403867)\u001b[0m Epoch 56/100\u001b[32m [repeated 149x across cluster]\u001b[0m\n",
      "\u001b[2m\u001b[36m(ClientAppActor pid=403867)\u001b[0m Epoch 1: Training accuracy: 80.01207733154297 Testing accuracy: 82.60869598388672.\u001b[32m [repeated 207x across cluster]\u001b[0m\n",
      "\u001b[2m\u001b[36m(ClientAppActor pid=403867)\u001b[0m \u001b[32m [repeated 94x across cluster]\u001b[0m\n",
      "\u001b[2m\u001b[36m(ClientAppActor pid=403867)\u001b[0m Epoch 12/100\u001b[32m [repeated 94x across cluster]\u001b[0m\n",
      "\u001b[2m\u001b[36m(ClientAppActor pid=403867)\u001b[0m Epoch 15: Training accuracy: 80.67633056640625 Testing accuracy: 79.22705078125.\u001b[32m [repeated 15x across cluster]\u001b[0m\n",
      "\u001b[2m\u001b[36m(ClientAppActor pid=403867)\u001b[0m \u001b[32m [repeated 10x across cluster]\u001b[0m\n",
      "\u001b[2m\u001b[36m(ClientAppActor pid=403867)\u001b[0m Epoch 22/100\u001b[32m [repeated 10x across cluster]\u001b[0m\n",
      "\u001b[2m\u001b[36m(ClientAppActor pid=403867)\u001b[0m Epoch 25: Training accuracy: 80.97826385498047 Testing accuracy: 80.67633056640625.\u001b[32m [repeated 10x across cluster]\u001b[0m\n",
      "\u001b[2m\u001b[36m(ClientAppActor pid=403867)\u001b[0m \u001b[32m [repeated 10x across cluster]\u001b[0m\n",
      "\u001b[2m\u001b[36m(ClientAppActor pid=403867)\u001b[0m Epoch 32/100\u001b[32m [repeated 10x across cluster]\u001b[0m\n",
      "\u001b[2m\u001b[36m(ClientAppActor pid=403867)\u001b[0m Epoch 35: Training accuracy: 80.67633056640625 Testing accuracy: 79.22705078125.\u001b[32m [repeated 10x across cluster]\u001b[0m\n",
      "\u001b[2m\u001b[36m(ClientAppActor pid=403867)\u001b[0m \u001b[32m [repeated 14x across cluster]\u001b[0m\n",
      "\u001b[2m\u001b[36m(ClientAppActor pid=403867)\u001b[0m Epoch 46/100\u001b[32m [repeated 14x across cluster]\u001b[0m\n",
      "\u001b[2m\u001b[36m(ClientAppActor pid=403867)\u001b[0m Epoch 71: Training accuracy: 80.7367172241211 Testing accuracy: 80.1932373046875.\u001b[32m [repeated 36x across cluster]\u001b[0m\n"
     ]
    },
    {
     "name": "stderr",
     "output_type": "stream",
     "text": [
      "\u001b[92mINFO \u001b[0m:      aggregate_fit: received 3 results and 0 failures\n",
      "\u001b[92mINFO \u001b[0m:      fit progress: (41, 0.05394537340510975, {'accuracy': tensor(73.3906, device='cuda:0')}, 757.6278605330008)\n",
      "\u001b[92mINFO \u001b[0m:      configure_evaluate: strategy sampled 1 clients (out of 3)\n",
      "\u001b[92mINFO \u001b[0m:      aggregate_evaluate: received 1 results and 0 failures\n",
      "\u001b[92mINFO \u001b[0m:      \n",
      "\u001b[92mINFO \u001b[0m:      [ROUND 42]\n",
      "\u001b[92mINFO \u001b[0m:      configure_fit: strategy sampled 3 clients (out of 3)\n"
     ]
    },
    {
     "name": "stdout",
     "output_type": "stream",
     "text": [
      "Server-side evaluation loss 0.05394537340510975 / accuracy 73.39055633544922\n",
      "\u001b[2m\u001b[36m(ClientAppActor pid=403867)\u001b[0m \u001b[32m [repeated 176x across cluster]\u001b[0m\n",
      "\u001b[2m\u001b[36m(ClientAppActor pid=403867)\u001b[0m Epoch 79/100\u001b[32m [repeated 176x across cluster]\u001b[0m\n",
      "\u001b[2m\u001b[36m(ClientAppActor pid=403867)\u001b[0m Epoch 100: Training accuracy: 78.84615325927734 Testing accuracy: 74.55621337890625.\u001b[32m [repeated 178x across cluster]\u001b[0m\n",
      "\u001b[2m\u001b[36m(ClientAppActor pid=403867)\u001b[0m \u001b[32m [repeated 49x across cluster]\u001b[0m\n",
      "\u001b[2m\u001b[36m(ClientAppActor pid=403867)\u001b[0m Epoch 8/100\u001b[32m [repeated 49x across cluster]\u001b[0m\n",
      "\u001b[2m\u001b[36m(ClientAppActor pid=403867)\u001b[0m Epoch 13: Training accuracy: 77.02095794677734 Testing accuracy: 79.64071655273438.\u001b[32m [repeated 35x across cluster]\u001b[0m\n",
      "\u001b[2m\u001b[36m(ClientAppActor pid=403867)\u001b[0m \u001b[32m [repeated 39x across cluster]\u001b[0m\n",
      "\u001b[2m\u001b[36m(ClientAppActor pid=403867)\u001b[0m Epoch 26/100\u001b[32m [repeated 39x across cluster]\u001b[0m\n",
      "\u001b[2m\u001b[36m(ClientAppActor pid=403866)\u001b[0m Epoch 90: Training accuracy: 80.49517059326172 Testing accuracy: 79.22705078125.\u001b[32m [repeated 39x across cluster]\u001b[0m\n",
      "\u001b[2m\u001b[36m(ClientAppActor pid=403867)\u001b[0m \u001b[32m [repeated 38x across cluster]\u001b[0m\n",
      "\u001b[2m\u001b[36m(ClientAppActor pid=403867)\u001b[0m Epoch 48/100\u001b[32m [repeated 38x across cluster]\u001b[0m\n",
      "\u001b[2m\u001b[36m(ClientAppActor pid=403867)\u001b[0m Epoch 54: Training accuracy: 82.78443145751953 Testing accuracy: 77.84431457519531.\u001b[32m [repeated 31x across cluster]\u001b[0m\n",
      "\u001b[2m\u001b[36m(ClientAppActor pid=403867)\u001b[0m \u001b[32m [repeated 45x across cluster]\u001b[0m\n",
      "\u001b[2m\u001b[36m(ClientAppActor pid=403867)\u001b[0m Epoch 93/100\u001b[32m [repeated 45x across cluster]\u001b[0m\n"
     ]
    },
    {
     "name": "stderr",
     "output_type": "stream",
     "text": [
      "\u001b[92mINFO \u001b[0m:      aggregate_fit: received 3 results and 0 failures\n",
      "\u001b[92mINFO \u001b[0m:      fit progress: (42, 0.05500600012865933, {'accuracy': tensor(72.2461, device='cuda:0')}, 780.878272967002)\n",
      "\u001b[92mINFO \u001b[0m:      configure_evaluate: strategy sampled 1 clients (out of 3)\n",
      "\u001b[92mINFO \u001b[0m:      aggregate_evaluate: received 1 results and 0 failures\n",
      "\u001b[92mINFO \u001b[0m:      \n",
      "\u001b[92mINFO \u001b[0m:      [ROUND 43]\n",
      "\u001b[92mINFO \u001b[0m:      configure_fit: strategy sampled 3 clients (out of 3)\n"
     ]
    },
    {
     "name": "stdout",
     "output_type": "stream",
     "text": [
      "Server-side evaluation loss 0.05500600012865933 / accuracy 72.24606323242188\n",
      "\u001b[2m\u001b[36m(ClientAppActor pid=403867)\u001b[0m Epoch 42: Training accuracy: 81.58283996582031 Testing accuracy: 78.69822692871094.\u001b[32m [repeated 118x across cluster]\u001b[0m\n",
      "\u001b[2m\u001b[36m(ClientAppActor pid=403866)\u001b[0m \u001b[32m [repeated 185x across cluster]\u001b[0m\n",
      "\u001b[2m\u001b[36m(ClientAppActor pid=403866)\u001b[0m Epoch 73/100\u001b[32m [repeated 185x across cluster]\u001b[0m\n",
      "\u001b[2m\u001b[36m(ClientAppActor pid=403867)\u001b[0m Epoch 9: Training accuracy: 81.66167449951172 Testing accuracy: 77.2455062866211.\u001b[32m [repeated 115x across cluster]\u001b[0m\n",
      "\u001b[2m\u001b[36m(ClientAppActor pid=403866)\u001b[0m \u001b[32m [repeated 32x across cluster]\u001b[0m\n",
      "\u001b[2m\u001b[36m(ClientAppActor pid=403866)\u001b[0m Epoch 93/100\u001b[32m [repeated 32x across cluster]\u001b[0m\n",
      "\u001b[2m\u001b[36m(ClientAppActor pid=403867)\u001b[0m Epoch 21: Training accuracy: 78.14371490478516 Testing accuracy: 74.25149536132812.\u001b[32m [repeated 34x across cluster]\u001b[0m\n",
      "\u001b[2m\u001b[36m(ClientAppActor pid=403867)\u001b[0m \u001b[32m [repeated 19x across cluster]\u001b[0m\n",
      "\u001b[2m\u001b[36m(ClientAppActor pid=403867)\u001b[0m Epoch 29/100\u001b[32m [repeated 19x across cluster]\u001b[0m\n",
      "\u001b[2m\u001b[36m(ClientAppActor pid=403867)\u001b[0m Epoch 33: Training accuracy: 80.46407318115234 Testing accuracy: 79.64071655273438.\u001b[32m [repeated 12x across cluster]\u001b[0m\n",
      "\u001b[2m\u001b[36m(ClientAppActor pid=403867)\u001b[0m \u001b[32m [repeated 12x across cluster]\u001b[0m\n",
      "\u001b[2m\u001b[36m(ClientAppActor pid=403867)\u001b[0m Epoch 41/100\u001b[32m [repeated 12x across cluster]\u001b[0m\n",
      "\u001b[2m\u001b[36m(ClientAppActor pid=403867)\u001b[0m Epoch 44: Training accuracy: 81.88623046875 Testing accuracy: 76.6467056274414.\u001b[32m [repeated 11x across cluster]\u001b[0m\n",
      "\u001b[2m\u001b[36m(ClientAppActor pid=403867)\u001b[0m \u001b[32m [repeated 12x across cluster]\u001b[0m\n",
      "\u001b[2m\u001b[36m(ClientAppActor pid=403867)\u001b[0m Epoch 53/100\u001b[32m [repeated 12x across cluster]\u001b[0m\n",
      "\u001b[2m\u001b[36m(ClientAppActor pid=403867)\u001b[0m Epoch 59: Training accuracy: 82.70957946777344 Testing accuracy: 77.84431457519531.\u001b[32m [repeated 15x across cluster]\u001b[0m\n",
      "\u001b[2m\u001b[36m(ClientAppActor pid=403867)\u001b[0m \u001b[32m [repeated 36x across cluster]\u001b[0m\n",
      "\u001b[2m\u001b[36m(ClientAppActor pid=403867)\u001b[0m Epoch 89/100\u001b[32m [repeated 36x across cluster]\u001b[0m\n"
     ]
    },
    {
     "name": "stderr",
     "output_type": "stream",
     "text": [
      "\u001b[92mINFO \u001b[0m:      aggregate_fit: received 3 results and 0 failures\n",
      "\u001b[92mINFO \u001b[0m:      fit progress: (43, 0.0537196777083657, {'accuracy': tensor(74.1059, device='cuda:0')}, 812.5448766590016)\n",
      "\u001b[92mINFO \u001b[0m:      configure_evaluate: strategy sampled 1 clients (out of 3)\n",
      "\u001b[92mINFO \u001b[0m:      aggregate_evaluate: received 1 results and 0 failures\n",
      "\u001b[92mINFO \u001b[0m:      \n",
      "\u001b[92mINFO \u001b[0m:      [ROUND 44]\n",
      "\u001b[92mINFO \u001b[0m:      configure_fit: strategy sampled 3 clients (out of 3)\n"
     ]
    },
    {
     "name": "stdout",
     "output_type": "stream",
     "text": [
      "Server-side evaluation loss 0.0537196777083657 / accuracy 74.10586547851562\n",
      "\u001b[2m\u001b[36m(ClientAppActor pid=403867)\u001b[0m Epoch 29: Training accuracy: 82.18563079833984 Testing accuracy: 77.2455062866211.\u001b[32m [repeated 92x across cluster]\u001b[0m\n",
      "\u001b[2m\u001b[36m(ClientAppActor pid=403867)\u001b[0m \u001b[32m [repeated 238x across cluster]\u001b[0m\n",
      "\u001b[2m\u001b[36m(ClientAppActor pid=403867)\u001b[0m Epoch 33/100\u001b[32m [repeated 238x across cluster]\u001b[0m\n",
      "\u001b[2m\u001b[36m(ClientAppActor pid=403867)\u001b[0m Epoch 56: Training accuracy: 82.17455291748047 Testing accuracy: 78.69822692871094.\u001b[32m [repeated 205x across cluster]\u001b[0m\n",
      "\u001b[2m\u001b[36m(ClientAppActor pid=403867)\u001b[0m \u001b[32m [repeated 37x across cluster]\u001b[0m\n",
      "\u001b[2m\u001b[36m(ClientAppActor pid=403867)\u001b[0m Epoch 64/100\u001b[32m [repeated 37x across cluster]\u001b[0m\n",
      "\u001b[2m\u001b[36m(ClientAppActor pid=403867)\u001b[0m Epoch 67: Training accuracy: 81.4349136352539 Testing accuracy: 77.5147933959961.\u001b[32m [repeated 11x across cluster]\u001b[0m\n",
      "\u001b[2m\u001b[36m(ClientAppActor pid=403867)\u001b[0m \u001b[32m [repeated 11x across cluster]\u001b[0m\n",
      "\u001b[2m\u001b[36m(ClientAppActor pid=403867)\u001b[0m Epoch 75/100\u001b[32m [repeated 11x across cluster]\u001b[0m\n",
      "\u001b[2m\u001b[36m(ClientAppActor pid=403867)\u001b[0m Epoch 78: Training accuracy: 81.4349136352539 Testing accuracy: 78.10650634765625.\u001b[32m [repeated 11x across cluster]\u001b[0m\n",
      "\u001b[2m\u001b[36m(ClientAppActor pid=403867)\u001b[0m \u001b[32m [repeated 12x across cluster]\u001b[0m\n",
      "\u001b[2m\u001b[36m(ClientAppActor pid=403867)\u001b[0m Epoch 87/100\u001b[32m [repeated 12x across cluster]\u001b[0m\n",
      "\u001b[2m\u001b[36m(ClientAppActor pid=403867)\u001b[0m Epoch 97: Training accuracy: 82.39644622802734 Testing accuracy: 78.10650634765625.\u001b[32m [repeated 19x across cluster]\u001b[0m\n"
     ]
    },
    {
     "name": "stderr",
     "output_type": "stream",
     "text": [
      "\u001b[92mINFO \u001b[0m:      aggregate_fit: received 3 results and 0 failures\n",
      "\u001b[92mINFO \u001b[0m:      fit progress: (44, 0.05367011373693293, {'accuracy': tensor(74.2489, device='cuda:0')}, 834.4273550290018)\n",
      "\u001b[92mINFO \u001b[0m:      configure_evaluate: strategy sampled 1 clients (out of 3)\n",
      "\u001b[92mINFO \u001b[0m:      aggregate_evaluate: received 1 results and 0 failures\n",
      "\u001b[92mINFO \u001b[0m:      \n",
      "\u001b[92mINFO \u001b[0m:      [ROUND 45]\n",
      "\u001b[92mINFO \u001b[0m:      configure_fit: strategy sampled 3 clients (out of 3)\n"
     ]
    },
    {
     "name": "stdout",
     "output_type": "stream",
     "text": [
      "Server-side evaluation loss 0.05367011373693293 / accuracy 74.2489242553711\n",
      "\u001b[2m\u001b[36m(ClientAppActor pid=403867)\u001b[0m \u001b[32m [repeated 115x across cluster]\u001b[0m\n",
      "\u001b[2m\u001b[36m(ClientAppActor pid=403867)\u001b[0m Epoch 38/100\u001b[32m [repeated 115x across cluster]\u001b[0m\n",
      "\u001b[2m\u001b[36m(ClientAppActor pid=403867)\u001b[0m Epoch 67: Training accuracy: 83.15868377685547 Testing accuracy: 77.84431457519531.\u001b[32m [repeated 182x across cluster]\u001b[0m\n"
     ]
    },
    {
     "name": "stderr",
     "output_type": "stream",
     "text": [
      "\u001b[92mINFO \u001b[0m:      aggregate_fit: received 3 results and 0 failures\n",
      "\u001b[92mINFO \u001b[0m:      fit progress: (45, 0.05381635102358731, {'accuracy': tensor(73.6767, device='cuda:0')}, 841.9388020450024)\n",
      "\u001b[92mINFO \u001b[0m:      configure_evaluate: strategy sampled 1 clients (out of 3)\n",
      "\u001b[92mINFO \u001b[0m:      aggregate_evaluate: received 1 results and 0 failures\n",
      "\u001b[92mINFO \u001b[0m:      \n",
      "\u001b[92mINFO \u001b[0m:      [ROUND 46]\n",
      "\u001b[92mINFO \u001b[0m:      configure_fit: strategy sampled 3 clients (out of 3)\n"
     ]
    },
    {
     "name": "stdout",
     "output_type": "stream",
     "text": [
      "Server-side evaluation loss 0.05381635102358731 / accuracy 73.67668151855469\n",
      "\u001b[2m\u001b[36m(ClientAppActor pid=403867)\u001b[0m \u001b[32m [repeated 207x across cluster]\u001b[0m\n",
      "\u001b[2m\u001b[36m(ClientAppActor pid=403867)\u001b[0m Epoch 8/100\u001b[32m [repeated 207x across cluster]\u001b[0m\n",
      "\u001b[2m\u001b[36m(ClientAppActor pid=403866)\u001b[0m Epoch 9: Training accuracy: 80.25362396240234 Testing accuracy: 81.159423828125.\u001b[32m [repeated 147x across cluster]\u001b[0m\n",
      "\u001b[2m\u001b[36m(ClientAppActor pid=403866)\u001b[0m \u001b[32m [repeated 50x across cluster]\u001b[0m\n",
      "\u001b[2m\u001b[36m(ClientAppActor pid=403866)\u001b[0m Epoch 33/100\u001b[32m [repeated 50x across cluster]\u001b[0m\n",
      "\u001b[2m\u001b[36m(ClientAppActor pid=403867)\u001b[0m Epoch 29: Training accuracy: 81.65680694580078 Testing accuracy: 77.5147933959961.\u001b[32m [repeated 51x across cluster]\u001b[0m\n",
      "\u001b[2m\u001b[36m(ClientAppActor pid=403866)\u001b[0m \u001b[32m [repeated 65x across cluster]\u001b[0m\n",
      "\u001b[2m\u001b[36m(ClientAppActor pid=403866)\u001b[0m Epoch 88/100\u001b[32m [repeated 65x across cluster]\u001b[0m\n",
      "\u001b[2m\u001b[36m(ClientAppActor pid=403866)\u001b[0m Epoch 34: Training accuracy: 83.08383178710938 Testing accuracy: 77.84431457519531.\u001b[32m [repeated 96x across cluster]\u001b[0m\n",
      "\u001b[2m\u001b[36m(ClientAppActor pid=403867)\u001b[0m \u001b[32m [repeated 123x across cluster]\u001b[0m\n",
      "\u001b[2m\u001b[36m(ClientAppActor pid=403867)\u001b[0m Epoch 47/100\u001b[32m [repeated 123x across cluster]\u001b[0m\n",
      "\u001b[2m\u001b[36m(ClientAppActor pid=403867)\u001b[0m Epoch 50: Training accuracy: 82.54438018798828 Testing accuracy: 79.2899398803711.\u001b[32m [repeated 77x across cluster]\u001b[0m\n",
      "\u001b[2m\u001b[36m(ClientAppActor pid=403867)\u001b[0m \u001b[32m [repeated 11x across cluster]\u001b[0m\n",
      "\u001b[2m\u001b[36m(ClientAppActor pid=403867)\u001b[0m Epoch 58/100\u001b[32m [repeated 11x across cluster]\u001b[0m\n",
      "\u001b[2m\u001b[36m(ClientAppActor pid=403867)\u001b[0m Epoch 61: Training accuracy: 81.73076629638672 Testing accuracy: 78.10650634765625.\u001b[32m [repeated 11x across cluster]\u001b[0m\n"
     ]
    },
    {
     "name": "stderr",
     "output_type": "stream",
     "text": [
      "\u001b[92mINFO \u001b[0m:      aggregate_fit: received 3 results and 0 failures\n",
      "\u001b[92mINFO \u001b[0m:      fit progress: (46, 0.053983552889390427, {'accuracy': tensor(73.6767, device='cuda:0')}, 867.6894293370024)\n",
      "\u001b[92mINFO \u001b[0m:      configure_evaluate: strategy sampled 1 clients (out of 3)\n",
      "\u001b[92mINFO \u001b[0m:      aggregate_evaluate: received 1 results and 0 failures\n",
      "\u001b[92mINFO \u001b[0m:      \n",
      "\u001b[92mINFO \u001b[0m:      [ROUND 47]\n",
      "\u001b[92mINFO \u001b[0m:      configure_fit: strategy sampled 3 clients (out of 3)\n"
     ]
    },
    {
     "name": "stdout",
     "output_type": "stream",
     "text": [
      "Server-side evaluation loss 0.053983552889390427 / accuracy 73.67668151855469\n",
      "\u001b[2m\u001b[36m(ClientAppActor pid=403867)\u001b[0m \u001b[32m [repeated 47x across cluster]\u001b[0m\n",
      "\u001b[2m\u001b[36m(ClientAppActor pid=403867)\u001b[0m Epoch 4/100\u001b[32m [repeated 47x across cluster]\u001b[0m\n",
      "\u001b[2m\u001b[36m(ClientAppActor pid=403867)\u001b[0m Epoch 46: Training accuracy: 82.97101593017578 Testing accuracy: 81.159423828125.\u001b[32m [repeated 132x across cluster]\u001b[0m\n",
      "\u001b[2m\u001b[36m(ClientAppActor pid=403866)\u001b[0m \u001b[32m [repeated 202x across cluster]\u001b[0m\n",
      "\u001b[2m\u001b[36m(ClientAppActor pid=403866)\u001b[0m Epoch 7/100\u001b[32m [repeated 202x across cluster]\u001b[0m\n",
      "\u001b[2m\u001b[36m(ClientAppActor pid=403866)\u001b[0m Epoch 12: Training accuracy: 82.47041320800781 Testing accuracy: 79.88166046142578.\u001b[32m [repeated 119x across cluster]\u001b[0m\n",
      "\u001b[2m\u001b[36m(ClientAppActor pid=403866)\u001b[0m \u001b[32m [repeated 22x across cluster]\u001b[0m\n",
      "\u001b[2m\u001b[36m(ClientAppActor pid=403866)\u001b[0m Epoch 29/100\u001b[32m [repeated 22x across cluster]\u001b[0m\n",
      "\u001b[2m\u001b[36m(ClientAppActor pid=403866)\u001b[0m Epoch 35: Training accuracy: 81.58283996582031 Testing accuracy: 78.10650634765625.\u001b[32m [repeated 23x across cluster]\u001b[0m\n",
      "\u001b[2m\u001b[36m(ClientAppActor pid=403866)\u001b[0m \u001b[32m [repeated 25x across cluster]\u001b[0m\n",
      "\u001b[2m\u001b[36m(ClientAppActor pid=403866)\u001b[0m Epoch 54/100\u001b[32m [repeated 25x across cluster]\u001b[0m\n",
      "\u001b[2m\u001b[36m(ClientAppActor pid=403866)\u001b[0m Epoch 60: Training accuracy: 81.50887298583984 Testing accuracy: 74.55621337890625.\u001b[32m [repeated 25x across cluster]\u001b[0m\n"
     ]
    },
    {
     "name": "stderr",
     "output_type": "stream",
     "text": [
      "\u001b[92mINFO \u001b[0m:      aggregate_fit: received 3 results and 0 failures\n",
      "\u001b[92mINFO \u001b[0m:      fit progress: (47, 0.054144073616374626, {'accuracy': tensor(72.5322, device='cuda:0')}, 886.9784620600003)\n",
      "\u001b[92mINFO \u001b[0m:      configure_evaluate: strategy sampled 1 clients (out of 3)\n",
      "\u001b[92mINFO \u001b[0m:      aggregate_evaluate: received 1 results and 0 failures\n",
      "\u001b[92mINFO \u001b[0m:      \n",
      "\u001b[92mINFO \u001b[0m:      [ROUND 48]\n",
      "\u001b[92mINFO \u001b[0m:      configure_fit: strategy sampled 3 clients (out of 3)\n"
     ]
    },
    {
     "name": "stdout",
     "output_type": "stream",
     "text": [
      "Server-side evaluation loss 0.054144073616374626 / accuracy 72.53218841552734\n",
      "\u001b[2m\u001b[36m(ClientAppActor pid=403866)\u001b[0m \u001b[32m [repeated 80x across cluster]\u001b[0m\n",
      "\u001b[2m\u001b[36m(ClientAppActor pid=403866)\u001b[0m Epoch 31/100\u001b[32m [repeated 80x across cluster]\u001b[0m\n",
      "\u001b[2m\u001b[36m(ClientAppActor pid=403867)\u001b[0m Epoch 12: Training accuracy: 82.4101791381836 Testing accuracy: 78.443115234375.\u001b[32m [repeated 113x across cluster]\u001b[0m\n",
      "\u001b[2m\u001b[36m(ClientAppActor pid=403866)\u001b[0m \u001b[32m [repeated 242x across cluster]\u001b[0m\n",
      "\u001b[2m\u001b[36m(ClientAppActor pid=403866)\u001b[0m Epoch 76/100\u001b[32m [repeated 242x across cluster]\u001b[0m\n",
      "\u001b[2m\u001b[36m(ClientAppActor pid=403866)\u001b[0m Epoch 85: Training accuracy: 81.9526596069336 Testing accuracy: 73.9645004272461.\u001b[32m [repeated 212x across cluster]\u001b[0m\n"
     ]
    },
    {
     "name": "stderr",
     "output_type": "stream",
     "text": [
      "\u001b[92mINFO \u001b[0m:      aggregate_fit: received 3 results and 0 failures\n",
      "\u001b[92mINFO \u001b[0m:      fit progress: (48, 0.054357387802817604, {'accuracy': tensor(72.1030, device='cuda:0')}, 898.345779244999)\n",
      "\u001b[92mINFO \u001b[0m:      configure_evaluate: strategy sampled 1 clients (out of 3)\n",
      "\u001b[92mINFO \u001b[0m:      aggregate_evaluate: received 1 results and 0 failures\n",
      "\u001b[92mINFO \u001b[0m:      \n",
      "\u001b[92mINFO \u001b[0m:      [ROUND 49]\n",
      "\u001b[92mINFO \u001b[0m:      configure_fit: strategy sampled 3 clients (out of 3)\n"
     ]
    },
    {
     "name": "stdout",
     "output_type": "stream",
     "text": [
      "Server-side evaluation loss 0.054357387802817604 / accuracy 72.1030044555664\n",
      "\u001b[2m\u001b[36m(ClientAppActor pid=403866)\u001b[0m \u001b[32m [repeated 25x across cluster]\u001b[0m\n",
      "\u001b[2m\u001b[36m(ClientAppActor pid=403866)\u001b[0m Epoch 1/100\u001b[32m [repeated 25x across cluster]\u001b[0m\n",
      "\u001b[2m\u001b[36m(ClientAppActor pid=403866)\u001b[0m Epoch 5: Training accuracy: 81.64250946044922 Testing accuracy: 80.1932373046875.\u001b[32m [repeated 22x across cluster]\u001b[0m\n",
      "\u001b[2m\u001b[36m(ClientAppActor pid=403866)\u001b[0m \u001b[32m [repeated 33x across cluster]\u001b[0m\n",
      "\u001b[2m\u001b[36m(ClientAppActor pid=403866)\u001b[0m Epoch 22/100\u001b[32m [repeated 33x across cluster]\u001b[0m\n",
      "\u001b[2m\u001b[36m(ClientAppActor pid=403866)\u001b[0m Epoch 27: Training accuracy: 81.09903717041016 Testing accuracy: 82.12560272216797.\u001b[32m [repeated 34x across cluster]\u001b[0m\n",
      "\u001b[2m\u001b[36m(ClientAppActor pid=403866)\u001b[0m \u001b[32m [repeated 43x across cluster]\u001b[0m\n",
      "\u001b[2m\u001b[36m(ClientAppActor pid=403866)\u001b[0m Epoch 53/100\u001b[32m [repeated 43x across cluster]\u001b[0m\n",
      "\u001b[2m\u001b[36m(ClientAppActor pid=403866)\u001b[0m Epoch 79: Training accuracy: 82.66908264160156 Testing accuracy: 80.67633056640625.\u001b[32m [repeated 64x across cluster]\u001b[0m\n",
      "\u001b[2m\u001b[36m(ClientAppActor pid=403867)\u001b[0m \u001b[32m [repeated 177x across cluster]\u001b[0m\n",
      "\u001b[2m\u001b[36m(ClientAppActor pid=403867)\u001b[0m Epoch 66/100\u001b[32m [repeated 177x across cluster]\u001b[0m\n"
     ]
    },
    {
     "name": "stderr",
     "output_type": "stream",
     "text": [
      "\u001b[92mINFO \u001b[0m:      aggregate_fit: received 3 results and 0 failures\n",
      "\u001b[92mINFO \u001b[0m:      fit progress: (49, 0.052829216827045784, {'accuracy': tensor(75.2504, device='cuda:0')}, 914.7892056929995)\n",
      "\u001b[92mINFO \u001b[0m:      configure_evaluate: strategy sampled 1 clients (out of 3)\n",
      "\u001b[92mINFO \u001b[0m:      aggregate_evaluate: received 1 results and 0 failures\n",
      "\u001b[92mINFO \u001b[0m:      \n",
      "\u001b[92mINFO \u001b[0m:      [ROUND 50]\n",
      "\u001b[92mINFO \u001b[0m:      configure_fit: strategy sampled 3 clients (out of 3)\n"
     ]
    },
    {
     "name": "stdout",
     "output_type": "stream",
     "text": [
      "Server-side evaluation loss 0.052829216827045784 / accuracy 75.25035858154297\n",
      "\u001b[2m\u001b[36m(ClientAppActor pid=403867)\u001b[0m Epoch 9: Training accuracy: 79.56586456298828 Testing accuracy: 74.85029602050781.\u001b[32m [repeated 207x across cluster]\u001b[0m\n",
      "\u001b[2m\u001b[36m(ClientAppActor pid=403866)\u001b[0m \u001b[32m [repeated 200x across cluster]\u001b[0m\n",
      "\u001b[2m\u001b[36m(ClientAppActor pid=403866)\u001b[0m Epoch 62/100\u001b[32m [repeated 200x across cluster]\u001b[0m\n",
      "\u001b[2m\u001b[36m(ClientAppActor pid=403866)\u001b[0m Epoch 66: Training accuracy: 82.54438018798828 Testing accuracy: 78.69822692871094.\u001b[32m [repeated 148x across cluster]\u001b[0m\n",
      "\u001b[2m\u001b[36m(ClientAppActor pid=403866)\u001b[0m \u001b[32m [repeated 37x across cluster]\u001b[0m\n",
      "\u001b[2m\u001b[36m(ClientAppActor pid=403866)\u001b[0m Epoch 88/100\u001b[32m [repeated 37x across cluster]\u001b[0m\n",
      "\u001b[2m\u001b[36m(ClientAppActor pid=403866)\u001b[0m Epoch 93: Training accuracy: 82.3224868774414 Testing accuracy: 79.2899398803711.\u001b[32m [repeated 37x across cluster]\u001b[0m\n",
      "\u001b[2m\u001b[36m(ClientAppActor pid=403867)\u001b[0m \u001b[32m [repeated 22x across cluster]\u001b[0m\n",
      "\u001b[2m\u001b[36m(ClientAppActor pid=403867)\u001b[0m Epoch 13/100\u001b[32m [repeated 22x across cluster]\u001b[0m\n",
      "\u001b[2m\u001b[36m(ClientAppActor pid=403867)\u001b[0m Epoch 14: Training accuracy: 80.91787719726562 Testing accuracy: 78.74396514892578.\u001b[32m [repeated 17x across cluster]\u001b[0m\n",
      "\u001b[2m\u001b[36m(ClientAppActor pid=403867)\u001b[0m \u001b[32m [repeated 9x across cluster]\u001b[0m\n",
      "\u001b[2m\u001b[36m(ClientAppActor pid=403867)\u001b[0m Epoch 22/100\u001b[32m [repeated 9x across cluster]\u001b[0m\n",
      "\u001b[2m\u001b[36m(ClientAppActor pid=403867)\u001b[0m Epoch 23: Training accuracy: 81.64250946044922 Testing accuracy: 79.71014404296875.\u001b[32m [repeated 9x across cluster]\u001b[0m\n"
     ]
    },
    {
     "name": "stderr",
     "output_type": "stream",
     "text": [
      "\u001b[92mINFO \u001b[0m:      aggregate_fit: received 3 results and 0 failures\n",
      "\u001b[92mINFO \u001b[0m:      fit progress: (50, 0.0533631064675071, {'accuracy': tensor(74.3920, device='cuda:0')}, 939.3014240190023)\n",
      "\u001b[92mINFO \u001b[0m:      configure_evaluate: strategy sampled 1 clients (out of 3)\n",
      "\u001b[92mINFO \u001b[0m:      aggregate_evaluate: received 1 results and 0 failures\n",
      "\u001b[92mINFO \u001b[0m:      \n",
      "\u001b[92mINFO \u001b[0m:      [SUMMARY]\n",
      "\u001b[92mINFO \u001b[0m:      Run finished 50 rounds in 939.32s\n",
      "\u001b[92mINFO \u001b[0m:      History (loss, distributed):\n",
      "\u001b[92mINFO \u001b[0m:      \t('\\tround 1: 0.22172397375106812\\n'\n",
      "\u001b[92mINFO \u001b[0m:      \t '\\tround 2: 0.20192269484202066\\n'\n",
      "\u001b[92mINFO \u001b[0m:      \t '\\tround 3: 0.19755450884501138\\n'\n",
      "\u001b[92mINFO \u001b[0m:      \t '\\tround 4: 0.18038658301035562\\n'\n",
      "\u001b[92mINFO \u001b[0m:      \t '\\tround 5: 0.12710511684417725\\n'\n",
      "\u001b[92mINFO \u001b[0m:      \t '\\tround 6: 0.14743468165397644\\n'\n",
      "\u001b[92mINFO \u001b[0m:      \t '\\tround 7: 0.18274664878845215\\n'\n",
      "\u001b[92mINFO \u001b[0m:      \t '\\tround 8: 0.1959397792816162\\n'\n",
      "\u001b[92mINFO \u001b[0m:      \t '\\tround 9: 0.13566847145557404\\n'\n",
      "\u001b[92mINFO \u001b[0m:      \t '\\tround 10: 0.1715706984202067\\n'\n",
      "\u001b[92mINFO \u001b[0m:      \t '\\tround 11: 0.18612933158874512\\n'\n",
      "\u001b[92mINFO \u001b[0m:      \t '\\tround 12: 0.1796621878941854\\n'\n",
      "\u001b[92mINFO \u001b[0m:      \t '\\tround 13: 0.13805246353149414\\n'\n",
      "\u001b[92mINFO \u001b[0m:      \t '\\tround 14: 0.18355989456176758\\n'\n",
      "\u001b[92mINFO \u001b[0m:      \t '\\tround 15: 0.17435155312220255\\n'\n",
      "\u001b[92mINFO \u001b[0m:      \t '\\tround 16: 0.17067267497380575\\n'\n",
      "\u001b[92mINFO \u001b[0m:      \t '\\tround 17: 0.1340298056602478\\n'\n",
      "\u001b[92mINFO \u001b[0m:      \t '\\tround 18: 0.1298781782388687\\n'\n",
      "\u001b[92mINFO \u001b[0m:      \t '\\tround 19: 0.12323491275310516\\n'\n",
      "\u001b[92mINFO \u001b[0m:      \t '\\tround 20: 0.19866190354029337\\n'\n",
      "\u001b[92mINFO \u001b[0m:      \t '\\tround 21: 0.18512845039367676\\n'\n",
      "\u001b[92mINFO \u001b[0m:      \t '\\tround 22: 0.14493806660175323\\n'\n",
      "\u001b[92mINFO \u001b[0m:      \t '\\tround 23: 0.12142147868871689\\n'\n",
      "\u001b[92mINFO \u001b[0m:      \t '\\tround 24: 0.12671597301959991\\n'\n",
      "\u001b[92mINFO \u001b[0m:      \t '\\tround 25: 0.17127964893976846\\n'\n",
      "\u001b[92mINFO \u001b[0m:      \t '\\tround 26: 0.17358974615732828\\n'\n",
      "\u001b[92mINFO \u001b[0m:      \t '\\tround 27: 0.17456636826197305\\n'\n",
      "\u001b[92mINFO \u001b[0m:      \t '\\tround 28: 0.1816708246866862\\n'\n",
      "\u001b[92mINFO \u001b[0m:      \t '\\tround 29: 0.17311390240987143\\n'\n",
      "\u001b[92mINFO \u001b[0m:      \t '\\tround 30: 0.17559228340784708\\n'\n",
      "\u001b[92mINFO \u001b[0m:      \t '\\tround 31: 0.18314548333485922\\n'\n",
      "\u001b[92mINFO \u001b[0m:      \t '\\tround 32: 0.15974122285842896\\n'\n",
      "\u001b[92mINFO \u001b[0m:      \t '\\tround 33: 0.12979121506214142\\n'\n",
      "\u001b[92mINFO \u001b[0m:      \t '\\tround 34: 0.1703349749247233\\n'\n",
      "\u001b[92mINFO \u001b[0m:      \t '\\tround 35: 0.1481416622797648\\n'\n",
      "\u001b[92mINFO \u001b[0m:      \t '\\tround 36: 0.16979769865671793\\n'\n",
      "\u001b[92mINFO \u001b[0m:      \t '\\tround 37: 0.17395983139673868\\n'\n",
      "\u001b[92mINFO \u001b[0m:      \t '\\tround 38: 0.17237923542658487\\n'\n",
      "\u001b[92mINFO \u001b[0m:      \t '\\tround 39: 0.15363194545110068\\n'\n",
      "\u001b[92mINFO \u001b[0m:      \t '\\tround 40: 0.17835013071695963\\n'\n",
      "\u001b[92mINFO \u001b[0m:      \t '\\tround 41: 0.13577982783317566\\n'\n",
      "\u001b[92mINFO \u001b[0m:      \t '\\tround 42: 0.1324290782213211\\n'\n",
      "\u001b[92mINFO \u001b[0m:      \t '\\tround 43: 0.13529150187969208\\n'\n",
      "\u001b[92mINFO \u001b[0m:      \t '\\tround 44: 0.12339457869529724\\n'\n",
      "\u001b[92mINFO \u001b[0m:      \t '\\tround 45: 0.1838319500287374\\n'\n",
      "\u001b[92mINFO \u001b[0m:      \t '\\tround 46: 0.1936636765797933\\n'\n",
      "\u001b[92mINFO \u001b[0m:      \t '\\tround 47: 0.16390894850095114\\n'\n",
      "\u001b[92mINFO \u001b[0m:      \t '\\tround 48: 0.13646110892295837\\n'\n",
      "\u001b[92mINFO \u001b[0m:      \t '\\tround 49: 0.1761834224065145\\n'\n",
      "\u001b[92mINFO \u001b[0m:      \t '\\tround 50: 0.12869565188884735\\n')History (loss, centralized):\n",
      "\u001b[92mINFO \u001b[0m:      \t('\\tround 0: 0.06493556499481201\\n'\n",
      "\u001b[92mINFO \u001b[0m:      \t '\\tround 1: 0.059781957756389274\\n'\n",
      "\u001b[92mINFO \u001b[0m:      \t '\\tround 2: 0.05273230509324507\\n'\n",
      "\u001b[92mINFO \u001b[0m:      \t '\\tround 3: 0.051631694490259346\\n'\n",
      "\u001b[92mINFO \u001b[0m:      \t '\\tround 4: 0.05191037871620872\\n'\n",
      "\u001b[92mINFO \u001b[0m:      \t '\\tround 5: 0.05232052369551225\\n'\n",
      "\u001b[92mINFO \u001b[0m:      \t '\\tround 6: 0.0528517636385831\\n'\n",
      "\u001b[92mINFO \u001b[0m:      \t '\\tround 7: 0.053121897307309235\\n'\n",
      "\u001b[92mINFO \u001b[0m:      \t '\\tround 8: 0.05350592461499301\\n'\n",
      "\u001b[92mINFO \u001b[0m:      \t '\\tround 9: 0.05349561301144687\\n'\n",
      "\u001b[92mINFO \u001b[0m:      \t '\\tround 10: 0.053595868023959076\\n'\n",
      "\u001b[92mINFO \u001b[0m:      \t '\\tround 11: 0.05412781238555908\\n'\n",
      "\u001b[92mINFO \u001b[0m:      \t '\\tround 12: 0.05378336798061024\\n'\n",
      "\u001b[92mINFO \u001b[0m:      \t '\\tround 13: 0.054018600420518356\\n'\n",
      "\u001b[92mINFO \u001b[0m:      \t '\\tround 14: 0.05436120250008323\\n'\n",
      "\u001b[92mINFO \u001b[0m:      \t '\\tround 15: 0.05465879765423862\\n'\n",
      "\u001b[92mINFO \u001b[0m:      \t '\\tround 16: 0.054056340997869316\\n'\n",
      "\u001b[92mINFO \u001b[0m:      \t '\\tround 17: 0.05445396358316595\\n'\n",
      "\u001b[92mINFO \u001b[0m:      \t '\\tround 18: 0.054393210194327614\\n'\n",
      "\u001b[92mINFO \u001b[0m:      \t '\\tround 19: 0.05446942827918313\\n'\n",
      "\u001b[92mINFO \u001b[0m:      \t '\\tround 20: 0.05512780492955988\\n'\n",
      "\u001b[92mINFO \u001b[0m:      \t '\\tround 21: 0.054405808448791504\\n'\n",
      "\u001b[92mINFO \u001b[0m:      \t '\\tround 22: 0.05480491031299938\\n'\n",
      "\u001b[92mINFO \u001b[0m:      \t '\\tround 23: 0.054708475416356865\\n'\n",
      "\u001b[92mINFO \u001b[0m:      \t '\\tround 24: 0.05562719431790439\\n'\n",
      "\u001b[92mINFO \u001b[0m:      \t '\\tround 25: 0.05474663322622126\\n'\n",
      "\u001b[92mINFO \u001b[0m:      \t '\\tround 26: 0.053625507788224655\\n'\n",
      "\u001b[92mINFO \u001b[0m:      \t '\\tround 27: 0.05371668122031472\\n'\n",
      "\u001b[92mINFO \u001b[0m:      \t '\\tround 28: 0.05365835536609997\\n'\n",
      "\u001b[92mINFO \u001b[0m:      \t '\\tround 29: 0.05583605441180142\\n'\n",
      "\u001b[92mINFO \u001b[0m:      \t '\\tround 30: 0.054285759275609795\\n'\n",
      "\u001b[92mINFO \u001b[0m:      \t '\\tround 31: 0.054772897200150925\\n'\n",
      "\u001b[92mINFO \u001b[0m:      \t '\\tround 32: 0.05536497722972523\\n'\n",
      "\u001b[92mINFO \u001b[0m:      \t '\\tround 33: 0.054231139746579254\\n'\n",
      "\u001b[92mINFO \u001b[0m:      \t '\\tround 34: 0.05385302955454046\\n'\n",
      "\u001b[92mINFO \u001b[0m:      \t '\\tround 35: 0.05411955443295566\\n'\n",
      "\u001b[92mINFO \u001b[0m:      \t '\\tround 36: 0.05335615981708874\\n'\n",
      "\u001b[92mINFO \u001b[0m:      \t '\\tround 37: 0.05315114151347767\\n'\n",
      "\u001b[92mINFO \u001b[0m:      \t '\\tround 38: 0.05319211699745872\\n'\n",
      "\u001b[92mINFO \u001b[0m:      \t '\\tround 39: 0.05357642065395008\\n'\n",
      "\u001b[92mINFO \u001b[0m:      \t '\\tround 40: 0.05348348075693304\\n'\n",
      "\u001b[92mINFO \u001b[0m:      \t '\\tround 41: 0.05394537340510975\\n'\n",
      "\u001b[92mINFO \u001b[0m:      \t '\\tround 42: 0.05500600012865933\\n'\n",
      "\u001b[92mINFO \u001b[0m:      \t '\\tround 43: 0.0537196777083657\\n'\n",
      "\u001b[92mINFO \u001b[0m:      \t '\\tround 44: 0.05367011373693293\\n'\n",
      "\u001b[92mINFO \u001b[0m:      \t '\\tround 45: 0.05381635102358731\\n'\n",
      "\u001b[92mINFO \u001b[0m:      \t '\\tround 46: 0.053983552889390427\\n'\n",
      "\u001b[92mINFO \u001b[0m:      \t '\\tround 47: 0.054144073616374626\\n'\n",
      "\u001b[92mINFO \u001b[0m:      \t '\\tround 48: 0.054357387802817604\\n'\n",
      "\u001b[92mINFO \u001b[0m:      \t '\\tround 49: 0.052829216827045784\\n'\n",
      "\u001b[92mINFO \u001b[0m:      \t '\\tround 50: 0.0533631064675071\\n')History (metrics, distributed, evaluate):\n",
      "\u001b[92mINFO \u001b[0m:      \t{'accuracy': [(1, 68.86227416992188),\n",
      "\u001b[92mINFO \u001b[0m:      \t              (2, 73.3727798461914),\n",
      "\u001b[92mINFO \u001b[0m:      \t              (3, 71.85628509521484),\n",
      "\u001b[92mINFO \u001b[0m:      \t              (4, 75.7396469116211),\n",
      "\u001b[92mINFO \u001b[0m:      \t              (5, 75.84541320800781),\n",
      "\u001b[92mINFO \u001b[0m:      \t              (6, 74.87922668457031),\n",
      "\u001b[92mINFO \u001b[0m:      \t              (7, 74.85029602050781),\n",
      "\u001b[92mINFO \u001b[0m:      \t              (8, 73.65269470214844),\n",
      "\u001b[92mINFO \u001b[0m:      \t              (9, 75.84541320800781),\n",
      "\u001b[92mINFO \u001b[0m:      \t              (10, 76.04790496826172),\n",
      "\u001b[92mINFO \u001b[0m:      \t              (11, 76.6467056274414),\n",
      "\u001b[92mINFO \u001b[0m:      \t              (12, 76.04790496826172),\n",
      "\u001b[92mINFO \u001b[0m:      \t              (13, 78.26087188720703),\n",
      "\u001b[92mINFO \u001b[0m:      \t              (14, 77.5147933959961),\n",
      "\u001b[92mINFO \u001b[0m:      \t              (15, 77.5147933959961),\n",
      "\u001b[92mINFO \u001b[0m:      \t              (16, 77.2455062866211),\n",
      "\u001b[92mINFO \u001b[0m:      \t              (17, 79.71014404296875),\n",
      "\u001b[92mINFO \u001b[0m:      \t              (18, 78.74396514892578),\n",
      "\u001b[92mINFO \u001b[0m:      \t              (19, 79.71014404296875),\n",
      "\u001b[92mINFO \u001b[0m:      \t              (20, 76.92308044433594),\n",
      "\u001b[92mINFO \u001b[0m:      \t              (21, 78.10650634765625),\n",
      "\u001b[92mINFO \u001b[0m:      \t              (22, 79.71014404296875),\n",
      "\u001b[92mINFO \u001b[0m:      \t              (23, 79.71014404296875),\n",
      "\u001b[92mINFO \u001b[0m:      \t              (24, 77.77777862548828),\n",
      "\u001b[92mINFO \u001b[0m:      \t              (25, 78.10650634765625),\n",
      "\u001b[92mINFO \u001b[0m:      \t              (26, 78.69822692871094),\n",
      "\u001b[92mINFO \u001b[0m:      \t              (27, 76.6467056274414),\n",
      "\u001b[92mINFO \u001b[0m:      \t              (28, 78.69822692871094),\n",
      "\u001b[92mINFO \u001b[0m:      \t              (29, 76.33135986328125),\n",
      "\u001b[92mINFO \u001b[0m:      \t              (30, 78.69822692871094),\n",
      "\u001b[92mINFO \u001b[0m:      \t              (31, 79.04191589355469),\n",
      "\u001b[92mINFO \u001b[0m:      \t              (32, 80.83832550048828),\n",
      "\u001b[92mINFO \u001b[0m:      \t              (33, 79.71014404296875),\n",
      "\u001b[92mINFO \u001b[0m:      \t              (34, 76.92308044433594),\n",
      "\u001b[92mINFO \u001b[0m:      \t              (35, 78.443115234375),\n",
      "\u001b[92mINFO \u001b[0m:      \t              (36, 80.83832550048828),\n",
      "\u001b[92mINFO \u001b[0m:      \t              (37, 80.83832550048828),\n",
      "\u001b[92mINFO \u001b[0m:      \t              (38, 80.23951721191406),\n",
      "\u001b[92mINFO \u001b[0m:      \t              (39, 79.64071655273438),\n",
      "\u001b[92mINFO \u001b[0m:      \t              (40, 76.92308044433594),\n",
      "\u001b[92mINFO \u001b[0m:      \t              (41, 80.67633056640625),\n",
      "\u001b[92mINFO \u001b[0m:      \t              (42, 79.22705078125),\n",
      "\u001b[92mINFO \u001b[0m:      \t              (43, 80.67633056640625),\n",
      "\u001b[92mINFO \u001b[0m:      \t              (44, 81.159423828125),\n",
      "\u001b[92mINFO \u001b[0m:      \t              (45, 75.7396469116211),\n",
      "\u001b[92mINFO \u001b[0m:      \t              (46, 75.7396469116211),\n",
      "\u001b[92mINFO \u001b[0m:      \t              (47, 80.23951721191406),\n",
      "\u001b[92mINFO \u001b[0m:      \t              (48, 78.74396514892578),\n",
      "\u001b[92mINFO \u001b[0m:      \t              (49, 80.23951721191406),\n",
      "\u001b[92mINFO \u001b[0m:      \t              (50, 81.159423828125)]}History (metrics, centralized):\n",
      "\u001b[92mINFO \u001b[0m:      \t{'accuracy': [(0, tensor(46.6381, device='cuda:0')),\n",
      "\u001b[92mINFO \u001b[0m:      \t              (1, tensor(70.6724, device='cuda:0')),\n",
      "\u001b[92mINFO \u001b[0m:      \t              (2, tensor(72.2461, device='cuda:0')),\n",
      "\u001b[92mINFO \u001b[0m:      \t              (3, tensor(72.2461, device='cuda:0')),\n",
      "\u001b[92mINFO \u001b[0m:      \t              (4, tensor(71.6738, device='cuda:0')),\n",
      "\u001b[92mINFO \u001b[0m:      \t              (5, tensor(70.8155, device='cuda:0')),\n",
      "\u001b[92mINFO \u001b[0m:      \t              (6, tensor(72.1030, device='cuda:0')),\n",
      "\u001b[92mINFO \u001b[0m:      \t              (7, tensor(70.6724, device='cuda:0')),\n",
      "\u001b[92mINFO \u001b[0m:      \t              (8, tensor(70.3863, device='cuda:0')),\n",
      "\u001b[92mINFO \u001b[0m:      \t              (9, tensor(71.1016, device='cuda:0')),\n",
      "\u001b[92mINFO \u001b[0m:      \t              (10, tensor(71.6738, device='cuda:0')),\n",
      "\u001b[92mINFO \u001b[0m:      \t              (11, tensor(70.1001, device='cuda:0')),\n",
      "\u001b[92mINFO \u001b[0m:      \t              (12, tensor(71.9599, device='cuda:0')),\n",
      "\u001b[92mINFO \u001b[0m:      \t              (13, tensor(70.9585, device='cuda:0')),\n",
      "\u001b[92mINFO \u001b[0m:      \t              (14, tensor(71.1016, device='cuda:0')),\n",
      "\u001b[92mINFO \u001b[0m:      \t              (15, tensor(70.3863, device='cuda:0')),\n",
      "\u001b[92mINFO \u001b[0m:      \t              (16, tensor(71.9599, device='cuda:0')),\n",
      "\u001b[92mINFO \u001b[0m:      \t              (17, tensor(70.8155, device='cuda:0')),\n",
      "\u001b[92mINFO \u001b[0m:      \t              (18, tensor(71.3877, device='cuda:0')),\n",
      "\u001b[92mINFO \u001b[0m:      \t              (19, tensor(71.3877, device='cuda:0')),\n",
      "\u001b[92mINFO \u001b[0m:      \t              (20, tensor(70.3863, device='cuda:0')),\n",
      "\u001b[92mINFO \u001b[0m:      \t              (21, tensor(71.1016, device='cuda:0')),\n",
      "\u001b[92mINFO \u001b[0m:      \t              (22, tensor(70.9585, device='cuda:0')),\n",
      "\u001b[92mINFO \u001b[0m:      \t              (23, tensor(71.1016, device='cuda:0')),\n",
      "\u001b[92mINFO \u001b[0m:      \t              (24, tensor(70.5293, device='cuda:0')),\n",
      "\u001b[92mINFO \u001b[0m:      \t              (25, tensor(71.1016, device='cuda:0')),\n",
      "\u001b[92mINFO \u001b[0m:      \t              (26, tensor(73.6767, device='cuda:0')),\n",
      "\u001b[92mINFO \u001b[0m:      \t              (27, tensor(73.6767, device='cuda:0')),\n",
      "\u001b[92mINFO \u001b[0m:      \t              (28, tensor(73.2475, device='cuda:0')),\n",
      "\u001b[92mINFO \u001b[0m:      \t              (29, tensor(70.8155, device='cuda:0')),\n",
      "\u001b[92mINFO \u001b[0m:      \t              (30, tensor(72.2461, device='cuda:0')),\n",
      "\u001b[92mINFO \u001b[0m:      \t              (31, tensor(72.2461, device='cuda:0')),\n",
      "\u001b[92mINFO \u001b[0m:      \t              (32, tensor(71.9599, device='cuda:0')),\n",
      "\u001b[92mINFO \u001b[0m:      \t              (33, tensor(72.8183, device='cuda:0')),\n",
      "\u001b[92mINFO \u001b[0m:      \t              (34, tensor(72.9614, device='cuda:0')),\n",
      "\u001b[92mINFO \u001b[0m:      \t              (35, tensor(73.3906, device='cuda:0')),\n",
      "\u001b[92mINFO \u001b[0m:      \t              (36, tensor(73.2475, device='cuda:0')),\n",
      "\u001b[92mINFO \u001b[0m:      \t              (37, tensor(73.5336, device='cuda:0')),\n",
      "\u001b[92mINFO \u001b[0m:      \t              (38, tensor(73.9628, device='cuda:0')),\n",
      "\u001b[92mINFO \u001b[0m:      \t              (39, tensor(73.8197, device='cuda:0')),\n",
      "\u001b[92mINFO \u001b[0m:      \t              (40, tensor(74.2489, device='cuda:0')),\n",
      "\u001b[92mINFO \u001b[0m:      \t              (41, tensor(73.3906, device='cuda:0')),\n",
      "\u001b[92mINFO \u001b[0m:      \t              (42, tensor(72.2461, device='cuda:0')),\n",
      "\u001b[92mINFO \u001b[0m:      \t              (43, tensor(74.1059, device='cuda:0')),\n",
      "\u001b[92mINFO \u001b[0m:      \t              (44, tensor(74.2489, device='cuda:0')),\n",
      "\u001b[92mINFO \u001b[0m:      \t              (45, tensor(73.6767, device='cuda:0')),\n",
      "\u001b[92mINFO \u001b[0m:      \t              (46, tensor(73.6767, device='cuda:0')),\n",
      "\u001b[92mINFO \u001b[0m:      \t              (47, tensor(72.5322, device='cuda:0')),\n",
      "\u001b[92mINFO \u001b[0m:      \t              (48, tensor(72.1030, device='cuda:0')),\n",
      "\u001b[92mINFO \u001b[0m:      \t              (49, tensor(75.2504, device='cuda:0')),\n",
      "\u001b[92mINFO \u001b[0m:      \t              (50, tensor(74.3920, device='cuda:0'))]}\n",
      "\u001b[92mINFO \u001b[0m:      \n"
     ]
    },
    {
     "name": "stdout",
     "output_type": "stream",
     "text": [
      "Server-side evaluation loss 0.0533631064675071 / accuracy 74.3919906616211\n"
     ]
    }
   ],
   "source": [
    "# client will be allocated 1x CPU and 0x GPUs\n",
    "if device.type == 'cuda':\n",
    "    # here we are assigning an entire GPU for each client.\n",
    "    client_resources = {\"num_cpus\": 1, \"num_gpus\": 1.0}\n",
    "    # Refer to our documentation for more details about Flower Simulations\n",
    "    # and how to setup these `client_resources`.\n",
    "    \n",
    "# The `evaluate` function will be called by Flower after every round\n",
    "fl_acc = []\n",
    "def evaluate(server_round,parameters,config):\n",
    "    testloader = azure_test_loader\n",
    "    set_parameters(net_FL, parameters)  # Update model with the latest parameters\n",
    "    loss, accuracy = test(net_FL, testloader, configuration)\n",
    "    print(f\"Server-side evaluation loss {loss} / accuracy {accuracy}\")\n",
    "    fl_acc.append(accuracy)\n",
    "    metrics = {'FL loss': loss,\n",
    "               \"FL accuracy\": accuracy}\n",
    "    wandb.log(metrics)\n",
    "    return loss, {\"accuracy\": accuracy}\n",
    "\n",
    "def weighted_average(metrics):\n",
    "    # Multiply accuracy of each client by number of examples used\n",
    "    accuracies = [num_examples * m[\"accuracy\"] for num_examples, m in metrics]\n",
    "    examples = [num_examples for num_examples, _ in metrics]\n",
    "\n",
    "    # Aggregate and return custom metric (weighted average)\n",
    "    return {\"accuracy\": sum(accuracies) / sum(examples)}\n",
    "params = get_parameters(net_FL)\n",
    "strategy = fl.server.strategy.FedAvg(\n",
    "    fraction_fit=1,\n",
    "    fraction_evaluate=0.5,\n",
    "    min_fit_clients=2,\n",
    "    min_evaluate_clients=1,\n",
    "    min_available_clients=1,\n",
    "    evaluate_fn=evaluate,\n",
    "    initial_parameters= ndarrays_to_parameters(params),\n",
    "    evaluate_metrics_aggregation_fn=weighted_average # <-- pass the metric aggregation function\n",
    ")\n",
    "# Start simulation\n",
    "history = fl.simulation.start_simulation(\n",
    "    client_fn=client_fn,\n",
    "    num_clients=3,\n",
    "    config=fl.server.ServerConfig(num_rounds=configuration['num_rounds_FL']),\n",
    "    strategy=strategy,\n",
    "    client_resources=client_resources,\n",
    ")"
   ]
  },
  {
   "cell_type": "code",
   "execution_count": 14,
   "metadata": {},
   "outputs": [
    {
     "data": {
      "text/plain": [
       "Text(0.5, 0, 'Rounds')"
      ]
     },
     "execution_count": 14,
     "metadata": {},
     "output_type": "execute_result"
    },
    {
     "data": {
      "image/png": "[encoded data removed]",
      "text/plain": [
       "<Figure size 640x480 with 1 Axes>"
      ]
     },
     "metadata": {},
     "output_type": "display_data"
    }
   ],
   "source": [
    "fl_acc\n",
    "f = []\n",
    "for i in fl_acc:\n",
    "    f.append(float(i))\n",
    "plt.plot(f)\n",
    "plt.title('Federated Learning test accuracies')\n",
    "plt.ylabel('Accuracies')\n",
    "plt.xlabel('Rounds')"
   ]
  },
  {
   "cell_type": "code",
   "execution_count": 15,
   "metadata": {},
   "outputs": [
    {
     "data": {
      "text/plain": [
       "tensor(75.2504, device='cuda:0')"
      ]
     },
     "execution_count": 15,
     "metadata": {},
     "output_type": "execute_result"
    }
   ],
   "source": [
    "max(fl_acc)"
   ]
  },
  {
   "cell_type": "markdown",
   "metadata": {},
   "source": [
    "# Transfer Learning"
   ]
  },
  {
   "cell_type": "code",
   "execution_count": 16,
   "metadata": {},
   "outputs": [
    {
     "name": "stderr",
     "output_type": "stream",
     "text": [
      "/home/diba/miniconda3/envs/FTL/lib/python3.10/site-packages/wandb/sdk/lib/ipython.py:77: DeprecationWarning: Importing display from IPython.core.display is deprecated since IPython 7.14, please import from IPython display\n",
      "  from IPython.core.display import HTML, display  # type: ignore\n"
     ]
    },
    {
     "data": {
      "text/html": [
       "Finishing last run (ID:mhno68b1) before initializing another..."
      ],
      "text/plain": [
       "<IPython.core.display.HTML object>"
      ]
     },
     "metadata": {},
     "output_type": "display_data"
    },
    {
     "data": {
      "application/vnd.jupyter.widget-view+json": {
       "model_id": "ee6e2159c8cf4d6e90f64e58175de8c8",
       "version_major": 2,
       "version_minor": 0
      },
      "text/plain": [
       "VBox(children=(Label(value='0.004 MB of 0.004 MB uploaded\\r'), FloatProgress(value=1.0, max=1.0)))"
      ]
     },
     "metadata": {},
     "output_type": "display_data"
    },
    {
     "data": {
      "text/html": [
       "<style>\n",
       "    table.wandb td:nth-child(1) { padding: 0 10px; text-align: left ; width: auto;} td:nth-child(2) {text-align: left ; width: 100%}\n",
       "    .wandb-row { display: flex; flex-direction: row; flex-wrap: wrap; justify-content: flex-start; width: 100% }\n",
       "    .wandb-col { display: flex; flex-direction: column; flex-basis: 100%; flex: 1; padding: 10px; }\n",
       "    </style>\n",
       "<div class=\"wandb-row\"><div class=\"wandb-col\"><h3>Run history:</h3><br/><table class=\"wandb\"><tr><td>FL accuracy</td><td>▁▇▇▇▇▇▇▇▇▇▇▇▇▇▇▇▇▇▇▇▇██▇▇▇███████▇████▇█</td></tr><tr><td>FL loss</td><td>█▅▂▁▁▂▂▂▂▂▂▂▃▂▂▂▃▂▃▃▃▂▂▃▂▃▂▂▂▂▂▂▂▃▂▂▂▂▂▂</td></tr></table><br/></div><div class=\"wandb-col\"><h3>Run summary:</h3><br/><table class=\"wandb\"><tr><td>FL accuracy</td><td>74.39199</td></tr><tr><td>FL loss</td><td>0.05336</td></tr></table><br/></div></div>"
      ],
      "text/plain": [
       "<IPython.core.display.HTML object>"
      ]
     },
     "metadata": {},
     "output_type": "display_data"
    },
    {
     "data": {
      "text/html": [
       " View run <strong style=\"color:#cdcd00\">federated learning phase_17-08-2024_21:11:54</strong> at: <a href='https://wandb.ai/d-hadjikazemi-queen-mary-university-of-london/FTL%20one%20class/runs/mhno68b1' target=\"_blank\">https://wandb.ai/d-hadjikazemi-queen-mary-university-of-london/FTL%20one%20class/runs/mhno68b1</a><br/> View project at: <a href='https://wandb.ai/d-hadjikazemi-queen-mary-university-of-london/FTL%20one%20class' target=\"_blank\">https://wandb.ai/d-hadjikazemi-queen-mary-university-of-london/FTL%20one%20class</a><br/>Synced 6 W&B file(s), 0 media file(s), 0 artifact file(s) and 0 other file(s)"
      ],
      "text/plain": [
       "<IPython.core.display.HTML object>"
      ]
     },
     "metadata": {},
     "output_type": "display_data"
    },
    {
     "data": {
      "text/html": [
       "Find logs at: <code>./wandb/run-20240817_211214-mhno68b1/logs</code>"
      ],
      "text/plain": [
       "<IPython.core.display.HTML object>"
      ]
     },
     "metadata": {},
     "output_type": "display_data"
    },
    {
     "data": {
      "text/html": [
       "The new W&B backend becomes opt-out in version 0.18.0; try it out with `wandb.require(\"core\")`! See https://wandb.me/wandb-core for more information."
      ],
      "text/plain": [
       "<IPython.core.display.HTML object>"
      ]
     },
     "metadata": {},
     "output_type": "display_data"
    },
    {
     "data": {
      "text/html": [
       "Successfully finished last run (ID:mhno68b1). Initializing new run:<br/>"
      ],
      "text/plain": [
       "<IPython.core.display.HTML object>"
      ]
     },
     "metadata": {},
     "output_type": "display_data"
    },
    {
     "data": {
      "application/vnd.jupyter.widget-view+json": {
       "model_id": "0b90ee19ede7427488d59e78994267dc",
       "version_major": 2,
       "version_minor": 0
      },
      "text/plain": [
       "VBox(children=(Label(value='Waiting for wandb.init()...\\r'), FloatProgress(value=0.011112471400014732, max=1.0…"
      ]
     },
     "metadata": {},
     "output_type": "display_data"
    },
    {
     "data": {
      "text/html": [
       "wandb version 0.17.7 is available!  To upgrade, please run:\n",
       " $ pip install wandb --upgrade"
      ],
      "text/plain": [
       "<IPython.core.display.HTML object>"
      ]
     },
     "metadata": {},
     "output_type": "display_data"
    },
    {
     "data": {
      "text/html": [
       "Tracking run with wandb version 0.17.4"
      ],
      "text/plain": [
       "<IPython.core.display.HTML object>"
      ]
     },
     "metadata": {},
     "output_type": "display_data"
    },
    {
     "data": {
      "text/html": [
       "Run data is saved locally in <code>/home/diba/wandb/run-20240817_212800-1t1vvp9i</code>"
      ],
      "text/plain": [
       "<IPython.core.display.HTML object>"
      ]
     },
     "metadata": {},
     "output_type": "display_data"
    },
    {
     "data": {
      "text/html": [
       "Syncing run <strong><a href='https://wandb.ai/d-hadjikazemi-queen-mary-university-of-london/FTL%20one%20class/runs/1t1vvp9i' target=\"_blank\">Transfer Learning phase_17-08-2024_21:11:54</a></strong> to <a href='https://wandb.ai/d-hadjikazemi-queen-mary-university-of-london/FTL%20one%20class' target=\"_blank\">Weights & Biases</a> (<a href='https://wandb.me/run' target=\"_blank\">docs</a>)<br/>"
      ],
      "text/plain": [
       "<IPython.core.display.HTML object>"
      ]
     },
     "metadata": {},
     "output_type": "display_data"
    },
    {
     "data": {
      "text/html": [
       " View project at <a href='https://wandb.ai/d-hadjikazemi-queen-mary-university-of-london/FTL%20one%20class' target=\"_blank\">https://wandb.ai/d-hadjikazemi-queen-mary-university-of-london/FTL%20one%20class</a>"
      ],
      "text/plain": [
       "<IPython.core.display.HTML object>"
      ]
     },
     "metadata": {},
     "output_type": "display_data"
    },
    {
     "data": {
      "text/html": [
       " View run at <a href='https://wandb.ai/d-hadjikazemi-queen-mary-university-of-london/FTL%20one%20class/runs/1t1vvp9i' target=\"_blank\">https://wandb.ai/d-hadjikazemi-queen-mary-university-of-london/FTL%20one%20class/runs/1t1vvp9i</a>"
      ],
      "text/plain": [
       "<IPython.core.display.HTML object>"
      ]
     },
     "metadata": {},
     "output_type": "display_data"
    },
    {
     "data": {
      "text/html": [
       "<button onClick=\"this.nextSibling.style.display='block';this.style.display='none';\">Display W&B run</button><iframe src='https://wandb.ai/d-hadjikazemi-queen-mary-university-of-london/FTL%20one%20class/runs/1t1vvp9i?jupyter=true' style='border:none;width:100%;height:420px;display:none;'></iframe>"
      ],
      "text/plain": [
       "<wandb.sdk.wandb_run.Run at 0x7faee15bc430>"
      ]
     },
     "execution_count": 16,
     "metadata": {},
     "output_type": "execute_result"
    }
   ],
   "source": [
    "wandb.init(\n",
    "    # set the wandb project where this run will be logged\n",
    "    project=\"FTL one class\",\n",
    "    name= \"Transfer Learning phase_{}\".format(date_time),\n",
    "    # track hyperparameters and run metadata\n",
    "    config={\n",
    "    \"learning_rate\": 0.0001,\n",
    "    \"architecture\": \"CNN\",\n",
    "    \"epochs\": 100,\n",
    "    \"batch_size\": 64,\n",
    "    \"decay\":0,\n",
    "    'dropout': 0.0,\n",
    "    \"learning_rate_TL\": 0.0001,\n",
    "    \"batch_size_TL\": 64,\n",
    "    \"decay_TL\":1e-5,\n",
    "    'num_rounds_TL': 40, \n",
    "    'epochs_TL': 100,\n",
    "    'dropout_TL': 0.001,\n",
    "    \"learning_rate_FL\": 0.0001,\n",
    "    \"batch_size_FL\": 64,\n",
    "    \"decay_FL\": 1e-5,\n",
    "    'num_rounds_FL': 50, \n",
    "    'epochs_FL': 100,\n",
    "    'dropout_FL': 0.001\n",
    "    }\n",
    ")"
   ]
  },
  {
   "cell_type": "code",
   "execution_count": 17,
   "metadata": {},
   "outputs": [
    {
     "name": "stdout",
     "output_type": "stream",
     "text": [
      "\n",
      "Epoch 1/100\n",
      "Epoch 1: Training accuracy: 50.64102554321289 Testing accuracy: 48.71794891357422.\n",
      "\n",
      "Epoch 2/100\n",
      "Epoch 2: Training accuracy: 63.78205108642578 Testing accuracy: 55.128204345703125.\n",
      "\n",
      "Epoch 3/100\n",
      "Epoch 3: Training accuracy: 67.54808044433594 Testing accuracy: 58.33333206176758.\n",
      "\n",
      "Epoch 4/100\n",
      "Epoch 4: Training accuracy: 69.63140869140625 Testing accuracy: 59.61538314819336.\n",
      "\n",
      "Epoch 5/100\n",
      "Epoch 5: Training accuracy: 71.15384674072266 Testing accuracy: 60.25640869140625.\n",
      "\n",
      "Epoch 6/100\n",
      "Epoch 6: Training accuracy: 72.91666412353516 Testing accuracy: 60.89743423461914.\n",
      "\n",
      "Epoch 7/100\n",
      "Epoch 7: Training accuracy: 74.19871520996094 Testing accuracy: 60.89743423461914.\n",
      "\n",
      "Epoch 8/100\n",
      "Epoch 8: Training accuracy: 75.88140869140625 Testing accuracy: 61.53845977783203.\n",
      "\n",
      "Epoch 9/100\n",
      "Epoch 9: Training accuracy: 77.24359130859375 Testing accuracy: 63.46154022216797.\n",
      "\n",
      "Epoch 10/100\n",
      "Epoch 10: Training accuracy: 75.64102935791016 Testing accuracy: 64.74359130859375.\n",
      "\n",
      "Epoch 11/100\n",
      "Epoch 11: Training accuracy: 78.20513153076172 Testing accuracy: 66.66666412353516.\n",
      "\n",
      "Epoch 12/100\n",
      "Epoch 12: Training accuracy: 78.44551086425781 Testing accuracy: 66.02564239501953.\n",
      "\n",
      "Epoch 13/100\n",
      "Epoch 13: Training accuracy: 78.84615325927734 Testing accuracy: 66.66666412353516.\n",
      "\n",
      "Epoch 14/100\n",
      "Epoch 14: Training accuracy: 79.7275619506836 Testing accuracy: 67.94871520996094.\n",
      "\n",
      "Epoch 15/100\n",
      "Epoch 15: Training accuracy: 80.36859130859375 Testing accuracy: 70.5128173828125.\n",
      "\n",
      "Epoch 16/100\n",
      "Epoch 16: Training accuracy: 80.84935760498047 Testing accuracy: 71.79486846923828.\n",
      "\n",
      "Epoch 17/100\n",
      "Epoch 17: Training accuracy: 81.73076629638672 Testing accuracy: 72.43589782714844.\n",
      "\n",
      "Epoch 18/100\n",
      "Epoch 18: Training accuracy: 81.25 Testing accuracy: 70.5128173828125.\n",
      "\n",
      "Epoch 19/100\n",
      "Epoch 19: Training accuracy: 81.97115325927734 Testing accuracy: 71.15384674072266.\n",
      "\n",
      "Epoch 20/100\n",
      "Epoch 20: Training accuracy: 81.97115325927734 Testing accuracy: 73.07691955566406.\n",
      "\n",
      "Epoch 21/100\n",
      "Epoch 21: Training accuracy: 81.73076629638672 Testing accuracy: 72.43589782714844.\n",
      "\n",
      "Epoch 22/100\n",
      "Epoch 22: Training accuracy: 82.13140869140625 Testing accuracy: 73.07691955566406.\n",
      "\n",
      "Epoch 23/100\n",
      "Epoch 23: Training accuracy: 80.52884674072266 Testing accuracy: 71.15384674072266.\n",
      "\n",
      "Epoch 24/100\n",
      "Epoch 24: Training accuracy: 82.45191955566406 Testing accuracy: 72.43589782714844.\n",
      "\n",
      "Epoch 25/100\n",
      "Epoch 25: Training accuracy: 81.25 Testing accuracy: 71.79486846923828.\n",
      "\n",
      "Epoch 26/100\n",
      "Epoch 26: Training accuracy: 82.8525619506836 Testing accuracy: 72.43589782714844.\n",
      "\n",
      "Epoch 27/100\n",
      "Epoch 27: Training accuracy: 82.7724380493164 Testing accuracy: 73.07691955566406.\n",
      "\n",
      "Epoch 28/100\n",
      "Epoch 28: Training accuracy: 81.97115325927734 Testing accuracy: 73.07691955566406.\n",
      "\n",
      "Epoch 29/100\n",
      "Epoch 29: Training accuracy: 82.7724380493164 Testing accuracy: 73.71794891357422.\n",
      "\n",
      "Epoch 30/100\n",
      "Epoch 30: Training accuracy: 82.8525619506836 Testing accuracy: 73.07691955566406.\n",
      "\n",
      "Epoch 31/100\n",
      "Epoch 31: Training accuracy: 82.93269348144531 Testing accuracy: 75.0.\n",
      "\n",
      "Epoch 32/100\n",
      "Epoch 32: Training accuracy: 83.17308044433594 Testing accuracy: 73.07691955566406.\n",
      "\n",
      "Epoch 33/100\n",
      "Epoch 33: Training accuracy: 83.09294891357422 Testing accuracy: 75.0.\n",
      "\n",
      "Epoch 34/100\n",
      "Epoch 34: Training accuracy: 83.65384674072266 Testing accuracy: 75.0.\n",
      "\n",
      "Epoch 35/100\n",
      "Epoch 35: Training accuracy: 83.33333587646484 Testing accuracy: 74.35897064208984.\n",
      "\n",
      "Epoch 36/100\n",
      "Epoch 36: Training accuracy: 83.73397064208984 Testing accuracy: 74.35897064208984.\n",
      "\n",
      "Epoch 37/100\n",
      "Epoch 37: Training accuracy: 83.57371520996094 Testing accuracy: 75.64102935791016.\n",
      "\n",
      "Epoch 38/100\n",
      "Epoch 38: Training accuracy: 83.41345977783203 Testing accuracy: 74.35897064208984.\n",
      "\n",
      "Epoch 39/100\n",
      "Epoch 39: Training accuracy: 83.57371520996094 Testing accuracy: 75.64102935791016.\n",
      "\n",
      "Epoch 40/100\n",
      "Epoch 40: Training accuracy: 83.0128173828125 Testing accuracy: 76.92308044433594.\n",
      "\n",
      "Epoch 41/100\n",
      "Epoch 41: Training accuracy: 83.25320434570312 Testing accuracy: 75.64102935791016.\n",
      "\n",
      "Epoch 42/100\n",
      "Epoch 42: Training accuracy: 82.8525619506836 Testing accuracy: 76.92308044433594.\n",
      "\n",
      "Epoch 43/100\n",
      "Epoch 43: Training accuracy: 84.375 Testing accuracy: 75.64102935791016.\n",
      "\n",
      "Epoch 44/100\n",
      "Epoch 44: Training accuracy: 84.45513153076172 Testing accuracy: 75.0.\n",
      "\n",
      "Epoch 45/100\n",
      "Epoch 45: Training accuracy: 83.33333587646484 Testing accuracy: 77.56410217285156.\n",
      "\n",
      "Epoch 46/100\n",
      "Epoch 46: Training accuracy: 84.375 Testing accuracy: 75.0.\n",
      "\n",
      "Epoch 47/100\n",
      "Epoch 47: Training accuracy: 83.65384674072266 Testing accuracy: 77.56410217285156.\n",
      "\n",
      "Epoch 48/100\n",
      "Epoch 48: Training accuracy: 84.45513153076172 Testing accuracy: 75.64102935791016.\n",
      "\n",
      "Epoch 49/100\n",
      "Epoch 49: Training accuracy: 84.45513153076172 Testing accuracy: 75.64102935791016.\n",
      "\n",
      "Epoch 50/100\n",
      "Epoch 50: Training accuracy: 84.2147445678711 Testing accuracy: 73.07691955566406.\n",
      "\n",
      "Epoch 51/100\n",
      "Epoch 51: Training accuracy: 84.93589782714844 Testing accuracy: 76.92308044433594.\n",
      "\n",
      "Epoch 52/100\n",
      "Epoch 52: Training accuracy: 85.01602935791016 Testing accuracy: 74.35897064208984.\n",
      "\n",
      "Epoch 53/100\n",
      "Epoch 53: Training accuracy: 84.85576629638672 Testing accuracy: 77.56410217285156.\n",
      "\n",
      "Epoch 54/100\n",
      "Epoch 54: Training accuracy: 84.77564239501953 Testing accuracy: 78.84615325927734.\n",
      "\n",
      "Epoch 55/100\n",
      "Epoch 55: Training accuracy: 84.29486846923828 Testing accuracy: 76.92308044433594.\n",
      "\n",
      "Epoch 56/100\n",
      "Epoch 56: Training accuracy: 84.93589782714844 Testing accuracy: 76.92308044433594.\n",
      "\n",
      "Epoch 57/100\n",
      "Epoch 57: Training accuracy: 85.01602935791016 Testing accuracy: 76.92308044433594.\n",
      "\n",
      "Epoch 58/100\n",
      "Epoch 58: Training accuracy: 84.85576629638672 Testing accuracy: 76.28205108642578.\n",
      "\n",
      "Epoch 59/100\n",
      "Epoch 59: Training accuracy: 84.93589782714844 Testing accuracy: 76.28205108642578.\n",
      "\n",
      "Epoch 60/100\n",
      "Epoch 60: Training accuracy: 84.29486846923828 Testing accuracy: 78.84615325927734.\n",
      "\n",
      "Epoch 61/100\n",
      "Epoch 61: Training accuracy: 85.09615325927734 Testing accuracy: 77.56410217285156.\n",
      "\n",
      "Epoch 62/100\n",
      "Epoch 62: Training accuracy: 84.2147445678711 Testing accuracy: 80.12820434570312.\n",
      "\n",
      "Epoch 63/100\n",
      "Epoch 63: Training accuracy: 85.01602935791016 Testing accuracy: 76.28205108642578.\n",
      "\n",
      "Epoch 64/100\n",
      "Epoch 64: Training accuracy: 85.25640869140625 Testing accuracy: 77.56410217285156.\n",
      "\n",
      "Epoch 65/100\n",
      "Epoch 65: Training accuracy: 85.01602935791016 Testing accuracy: 76.28205108642578.\n",
      "\n",
      "Epoch 66/100\n",
      "Epoch 66: Training accuracy: 85.01602935791016 Testing accuracy: 76.28205108642578.\n",
      "\n",
      "Epoch 67/100\n",
      "Epoch 67: Training accuracy: 85.09615325927734 Testing accuracy: 76.92308044433594.\n",
      "\n",
      "Epoch 68/100\n",
      "Epoch 68: Training accuracy: 85.25640869140625 Testing accuracy: 75.64102935791016.\n",
      "\n",
      "Epoch 69/100\n",
      "Epoch 69: Training accuracy: 85.57691955566406 Testing accuracy: 80.12820434570312.\n",
      "\n",
      "Epoch 70/100\n",
      "Epoch 70: Training accuracy: 83.25320434570312 Testing accuracy: 79.4871826171875.\n",
      "\n",
      "Epoch 71/100\n",
      "Epoch 71: Training accuracy: 85.41666412353516 Testing accuracy: 78.20513153076172.\n",
      "\n",
      "Epoch 72/100\n",
      "Epoch 72: Training accuracy: 85.41666412353516 Testing accuracy: 80.12820434570312.\n",
      "\n",
      "Epoch 73/100\n",
      "Epoch 73: Training accuracy: 85.01602935791016 Testing accuracy: 80.12820434570312.\n",
      "\n",
      "Epoch 74/100\n",
      "Epoch 74: Training accuracy: 85.57691955566406 Testing accuracy: 77.56410217285156.\n",
      "\n",
      "Epoch 75/100\n",
      "Epoch 75: Training accuracy: 85.09615325927734 Testing accuracy: 76.92308044433594.\n",
      "\n",
      "Epoch 76/100\n",
      "Epoch 76: Training accuracy: 85.49679565429688 Testing accuracy: 78.20513153076172.\n",
      "\n",
      "Epoch 77/100\n",
      "Epoch 77: Training accuracy: 85.41666412353516 Testing accuracy: 76.92308044433594.\n",
      "\n",
      "Epoch 78/100\n",
      "Epoch 78: Training accuracy: 85.7371826171875 Testing accuracy: 78.84615325927734.\n",
      "\n",
      "Epoch 79/100\n",
      "Epoch 79: Training accuracy: 85.65705108642578 Testing accuracy: 80.12820434570312.\n",
      "\n",
      "Epoch 80/100\n",
      "Epoch 80: Training accuracy: 85.33654022216797 Testing accuracy: 80.12820434570312.\n",
      "\n",
      "Epoch 81/100\n",
      "Epoch 81: Training accuracy: 84.77564239501953 Testing accuracy: 80.12820434570312.\n",
      "\n",
      "Epoch 82/100\n",
      "Epoch 82: Training accuracy: 85.01602935791016 Testing accuracy: 80.12820434570312.\n",
      "\n",
      "Epoch 83/100\n",
      "Epoch 83: Training accuracy: 85.57691955566406 Testing accuracy: 78.84615325927734.\n",
      "\n",
      "Epoch 84/100\n",
      "Epoch 84: Training accuracy: 85.81730651855469 Testing accuracy: 78.20513153076172.\n",
      "\n",
      "Epoch 85/100\n",
      "Epoch 85: Training accuracy: 85.8974380493164 Testing accuracy: 80.76923370361328.\n",
      "\n",
      "Epoch 86/100\n",
      "Epoch 86: Training accuracy: 85.49679565429688 Testing accuracy: 78.20513153076172.\n",
      "\n",
      "Epoch 87/100\n",
      "Epoch 87: Training accuracy: 85.7371826171875 Testing accuracy: 80.76923370361328.\n",
      "\n",
      "Epoch 88/100\n",
      "Epoch 88: Training accuracy: 85.57691955566406 Testing accuracy: 77.56410217285156.\n",
      "\n",
      "Epoch 89/100\n",
      "Epoch 89: Training accuracy: 85.81730651855469 Testing accuracy: 77.56410217285156.\n",
      "\n",
      "Epoch 90/100\n",
      "Epoch 90: Training accuracy: 85.41666412353516 Testing accuracy: 78.20513153076172.\n",
      "\n",
      "Epoch 91/100\n",
      "Epoch 91: Training accuracy: 85.65705108642578 Testing accuracy: 78.20513153076172.\n",
      "\n",
      "Epoch 92/100\n",
      "Epoch 92: Training accuracy: 84.93589782714844 Testing accuracy: 73.71794891357422.\n",
      "\n",
      "Epoch 93/100\n",
      "Epoch 93: Training accuracy: 85.01602935791016 Testing accuracy: 75.0.\n",
      "\n",
      "Epoch 94/100\n",
      "Epoch 94: Training accuracy: 85.49679565429688 Testing accuracy: 77.56410217285156.\n",
      "\n",
      "Epoch 95/100\n",
      "Epoch 95: Training accuracy: 85.25640869140625 Testing accuracy: 75.0.\n",
      "\n",
      "Epoch 96/100\n",
      "Epoch 96: Training accuracy: 86.1378173828125 Testing accuracy: 80.76923370361328.\n",
      "\n",
      "Epoch 97/100\n",
      "Epoch 97: Training accuracy: 85.9775619506836 Testing accuracy: 80.12820434570312.\n",
      "\n",
      "Epoch 98/100\n",
      "Epoch 98: Training accuracy: 85.8974380493164 Testing accuracy: 79.4871826171875.\n",
      "\n",
      "Epoch 99/100\n",
      "Epoch 99: Training accuracy: 85.7371826171875 Testing accuracy: 76.92308044433594.\n",
      "\n",
      "Epoch 100/100\n",
      "Epoch 100: Training accuracy: 85.7371826171875 Testing accuracy: 80.76923370361328.\n",
      "Epoch 1: validation loss 0.1778602401415507, accuracy 80.76923370361328\n",
      "Final test set performance:\n",
      "\tloss 0.1778602401415507\n",
      "\taccuracy 80.76923370361328\n"
     ]
    },
    {
     "data": {
      "application/vnd.jupyter.widget-view+json": {
       "model_id": "a50103dc576e4d0fb3166dd55f931cf7",
       "version_major": 2,
       "version_minor": 0
      },
      "text/plain": [
       "VBox(children=(Label(value='0.004 MB of 0.004 MB uploaded\\r'), FloatProgress(value=1.0, max=1.0)))"
      ]
     },
     "metadata": {},
     "output_type": "display_data"
    },
    {
     "data": {
      "text/html": [
       "<style>\n",
       "    table.wandb td:nth-child(1) { padding: 0 10px; text-align: left ; width: auto;} td:nth-child(2) {text-align: left ; width: 100%}\n",
       "    .wandb-row { display: flex; flex-direction: row; flex-wrap: wrap; justify-content: flex-start; width: 100% }\n",
       "    .wandb-col { display: flex; flex-direction: column; flex-basis: 100%; flex: 1; padding: 10px; }\n",
       "    </style>\n",
       "<div class=\"wandb-row\"><div class=\"wandb-col\"><h3>Run history:</h3><br/><table class=\"wandb\"><tr><td>transfer training accuraccy</td><td>▁▄▅▆▆▇▇▇▇▇▇▇▇███▇███████████████████████</td></tr><tr><td>transfer validation accuracy</td><td>▁▃▄▄▅▅▆▆▆▆▆▆▇▇▇▇▇▇▇▇▇█▇▇▇▇▇██▇▇██▇█▇▆▇██</td></tr></table><br/></div><div class=\"wandb-col\"><h3>Run summary:</h3><br/><table class=\"wandb\"><tr><td>transfer training accuraccy</td><td>85.73718</td></tr><tr><td>transfer validation accuracy</td><td>80.76923</td></tr></table><br/></div></div>"
      ],
      "text/plain": [
       "<IPython.core.display.HTML object>"
      ]
     },
     "metadata": {},
     "output_type": "display_data"
    },
    {
     "data": {
      "text/html": [
       " View run <strong style=\"color:#cdcd00\">Transfer Learning phase_17-08-2024_21:11:54</strong> at: <a href='https://wandb.ai/d-hadjikazemi-queen-mary-university-of-london/FTL%20one%20class/runs/1t1vvp9i' target=\"_blank\">https://wandb.ai/d-hadjikazemi-queen-mary-university-of-london/FTL%20one%20class/runs/1t1vvp9i</a><br/> View project at: <a href='https://wandb.ai/d-hadjikazemi-queen-mary-university-of-london/FTL%20one%20class' target=\"_blank\">https://wandb.ai/d-hadjikazemi-queen-mary-university-of-london/FTL%20one%20class</a><br/>Synced 6 W&B file(s), 0 media file(s), 0 artifact file(s) and 0 other file(s)"
      ],
      "text/plain": [
       "<IPython.core.display.HTML object>"
      ]
     },
     "metadata": {},
     "output_type": "display_data"
    },
    {
     "data": {
      "text/html": [
       "Find logs at: <code>./wandb/run-20240817_212800-1t1vvp9i/logs</code>"
      ],
      "text/plain": [
       "<IPython.core.display.HTML object>"
      ]
     },
     "metadata": {},
     "output_type": "display_data"
    },
    {
     "data": {
      "text/html": [
       "The new W&B backend becomes opt-out in version 0.18.0; try it out with `wandb.require(\"core\")`! See https://wandb.me/wandb-core for more information."
      ],
      "text/plain": [
       "<IPython.core.display.HTML object>"
      ]
     },
     "metadata": {},
     "output_type": "display_data"
    },
    {
     "data": {
      "image/png": "[encoded data removed]",
      "text/plain": [
       "<Figure size 640x480 with 1 Axes>"
      ]
     },
     "metadata": {},
     "output_type": "display_data"
    }
   ],
   "source": [
    "losses_transfer = []\n",
    "accuracies_transfer = []\n",
    "for epoch in range(1):\n",
    "    train(net, azure_train_loaders_transfer, azure_val_loaders_transfer, configuration, configuration['epochs'], name= \"transfer\")\n",
    "    loss, accuracy = test(net, azure_val_loaders_transfer, configuration)\n",
    "    losses_transfer.append(loss)\n",
    "    accuracies_transfer.append(int(accuracy))\n",
    "    print(f\"Epoch {epoch+1}: validation loss {loss}, accuracy {accuracy}\")\n",
    "# plt.plot(accuracies)\n",
    "losses_transfer, accuracy_transfer = test(net, testloader, configuration=configuration)\n",
    "print(f\"Final test set performance:\\n\\tloss {loss}\\n\\taccuracy {accuracy}\")\n",
    "wandb.finish()"
   ]
  },
  {
   "cell_type": "markdown",
   "metadata": {},
   "source": [
    "# Federated Transfer Learning"
   ]
  },
  {
   "cell_type": "markdown",
   "metadata": {},
   "source": [
    "wandb.init(\n",
    "    # set the wandb project where this run will be logged\n",
    "    project=\"FTL one class\",\n",
    "    name= \"federated transfer learning phase_{}\".format(date_time),\n",
    "    # track hyperparameters and run metadata\n",
    "    config={\n",
    "    \"learning_rate\": 0.0001,\n",
    "    \"architecture\": \"CNN\",\n",
    "    \"epochs\": 100,\n",
    "    \"batch_size\": 64,\n",
    "    \"decay\":0,\n",
    "    'dropout': 0.0,\n",
    "    \"learning_rate_TL\": 0.0001,\n",
    "    \"batch_size_TL\": 64,\n",
    "    \"decay_TL\":1e-5,\n",
    "    'num_rounds_TL': 40, \n",
    "    'epochs_TL': 100,\n",
    "    'dropout_TL': 0.001,\n",
    "    \"learning_rate_FL\": 0.0001,\n",
    "    \"batch_size_FL\": 64,\n",
    "    \"decay_FL\": 1e-5,\n",
    "    'num_rounds_FL': 50, \n",
    "    'epochs_FL': 100,\n",
    "    'dropout_FL': 0.001\n",
    "    }\n",
    ")"
   ]
  },
  {
   "cell_type": "code",
   "execution_count": 18,
   "metadata": {},
   "outputs": [],
   "source": [
    "net_FTL = Neural_Network_FL().to(device)\n",
    "parameters_centralized = get_parameters(net)\n",
    "set_parameters(net_FTL, parameters_centralized)"
   ]
  },
  {
   "cell_type": "code",
   "execution_count": 19,
   "metadata": {},
   "outputs": [],
   "source": [
    "class FlowerClient(fl.client.NumPyClient):\n",
    "    def __init__(self, net, trainloader, valloader, configuration):\n",
    "        self.net = net\n",
    "        self.trainloader = trainloader\n",
    "        self.valloader = valloader\n",
    "\n",
    "    def get_parameters(self, config):\n",
    "        return get_parameters(self.net)\n",
    "\n",
    "    def fit(self, parameters, config):\n",
    "        set_parameters(self.net, parameters)\n",
    "        train_FL(self.net, self.trainloader,self.valloader,configuration, configuration['epochs_FL'])\n",
    "        return get_parameters(self.net), len(self.trainloader), {}\n",
    "\n",
    "    def evaluate(self, parameters, config):\n",
    "        set_parameters(self.net, parameters)\n",
    "        loss, accuracy = test(self.net, self.valloader, configuration)\n",
    "        return float(loss), len(self.valloader), {\"accuracy\": float(accuracy)}\n",
    "    \n",
    "\n",
    "def client_fn(cid) -> FlowerClient:\n",
    "    net = Neural_Network().to(device)\n",
    "    trainloader = azure_train_loaders[int(cid)]\n",
    "    valloader = azure_val_loaders[int(cid)]\n",
    "    return FlowerClient(net_FTL, trainloader, valloader, configuration).to_client()\n"
   ]
  },
  {
   "cell_type": "code",
   "execution_count": 20,
   "metadata": {},
   "outputs": [
    {
     "name": "stderr",
     "output_type": "stream",
     "text": [
      "\u001b[93mWARNING \u001b[0m:   \n",
      "Setting `min_available_clients` lower than `min_fit_clients` or\n",
      "`min_evaluate_clients` can cause the server to fail when there are too few clients\n",
      "connected to the server. `min_available_clients` must be set to a value larger\n",
      "than or equal to the values of `min_fit_clients` and `min_evaluate_clients`.\n",
      "\n",
      "\u001b[92mINFO \u001b[0m:      Starting Flower simulation, config: num_rounds=50, no round_timeout\n",
      "2024-08-17 21:28:21,706\tINFO worker.py:1621 -- Started a local Ray instance.\n",
      "\u001b[92mINFO \u001b[0m:      Flower VCE: Ray initialized with resources: {'accelerator_type:G': 1.0, 'GPU': 2.0, 'node:192.168.1.146': 1.0, 'memory': 112027538842.0, 'object_store_memory': 52297516646.0, 'CPU': 32.0, 'node:__internal_head__': 1.0}\n",
      "\u001b[92mINFO \u001b[0m:      Optimize your simulation with Flower VCE: https://flower.ai/docs/framework/how-to-run-simulations.html\n",
      "\u001b[92mINFO \u001b[0m:      Flower VCE: Resources for each Virtual Client: {'num_cpus': 1, 'num_gpus': 1.0}\n",
      "\u001b[92mINFO \u001b[0m:      Flower VCE: Creating VirtualClientEngineActorPool with 2 actors\n",
      "\u001b[92mINFO \u001b[0m:      [INIT]\n",
      "\u001b[92mINFO \u001b[0m:      Using initial global parameters provided by strategy\n",
      "\u001b[92mINFO \u001b[0m:      Evaluating initial global parameters\n",
      "\u001b[91mERROR \u001b[0m:     You must call wandb.init() before wandb.log()\n",
      "\u001b[91mERROR \u001b[0m:     Traceback (most recent call last):\n",
      "  File \"/home/diba/miniconda3/envs/FTL/lib/python3.10/site-packages/flwr/simulation/app.py\", line 308, in start_simulation\n",
      "    hist = run_fl(\n",
      "  File \"/home/diba/miniconda3/envs/FTL/lib/python3.10/site-packages/flwr/server/server.py\", line 483, in run_fl\n",
      "    hist, elapsed_time = server.fit(\n",
      "  File \"/home/diba/miniconda3/envs/FTL/lib/python3.10/site-packages/flwr/server/server.py\", line 95, in fit\n",
      "    res = self.strategy.evaluate(0, parameters=self.parameters)\n",
      "  File \"/home/diba/miniconda3/envs/FTL/lib/python3.10/site-packages/flwr/server/strategy/fedavg.py\", line 167, in evaluate\n",
      "    eval_res = self.evaluate_fn(server_round, parameters_ndarrays, {})\n",
      "  File \"/tmp/ipykernel_402018/2191627830.py\", line 18, in evaluate\n",
      "    wandb.log(metrics)\n",
      "  File \"/home/diba/miniconda3/envs/FTL/lib/python3.10/site-packages/wandb/sdk/lib/preinit.py\", line 36, in preinit_wrapper\n",
      "    raise wandb.Error(f\"You must call wandb.init() before {name}()\")\n",
      "wandb.errors.Error: You must call wandb.init() before wandb.log()\n",
      "\n",
      "\u001b[91mERROR \u001b[0m:     Your simulation crashed :(. This could be because of several reasons. The most common are: \n",
      "\t > Sometimes, issues in the simulation code itself can cause crashes. It's always a good idea to double-check your code for any potential bugs or inconsistencies that might be contributing to the problem. For example: \n",
      "\t\t - You might be using a class attribute in your clients that hasn't been defined.\n",
      "\t\t - There could be an incorrect method call to a 3rd party library (e.g., PyTorch).\n",
      "\t\t - The return types of methods in your clients/strategies might be incorrect.\n",
      "\t > Your system couldn't fit a single VirtualClient: try lowering `client_resources`.\n",
      "\t > All the actors in your pool crashed. This could be because: \n",
      "\t\t - You clients hit an out-of-memory (OOM) error and actors couldn't recover from it. Try launching your simulation with more generous `client_resources` setting (i.e. it seems {'num_cpus': 1, 'num_gpus': 1.0} is not enough for your run). Use fewer concurrent actors. \n",
      "\t\t - You were running a multi-node simulation and all worker nodes disconnected. The head node might still be alive but cannot accommodate any actor with resources: {'num_cpus': 1, 'num_gpus': 1.0}.\n",
      "Take a look at the Flower simulation examples for guidance <https://flower.ai/docs/framework/how-to-run-simulations.html>.\n"
     ]
    },
    {
     "name": "stdout",
     "output_type": "stream",
     "text": [
      "Server-side evaluation loss 0.06892872940410268 / accuracy 46.63805389404297\n"
     ]
    },
    {
     "ename": "RuntimeError",
     "evalue": "Simulation crashed.",
     "output_type": "error",
     "traceback": [
      "\u001b[0;31m---------------------------------------------------------------------------\u001b[0m",
      "\u001b[0;31mError\u001b[0m                                     Traceback (most recent call last)",
      "File \u001b[0;32m~/miniconda3/envs/FTL/lib/python3.10/site-packages/flwr/simulation/app.py:308\u001b[0m, in \u001b[0;36mstart_simulation\u001b[0;34m(client_fn, num_clients, clients_ids, client_resources, server, config, strategy, client_manager, ray_init_args, keep_initialised, actor_type, actor_kwargs, actor_scheduling)\u001b[0m\n\u001b[1;32m    306\u001b[0m \u001b[38;5;28;01mtry\u001b[39;00m:\n\u001b[1;32m    307\u001b[0m     \u001b[38;5;66;03m# Start training\u001b[39;00m\n\u001b[0;32m--> 308\u001b[0m     hist \u001b[38;5;241m=\u001b[39m \u001b[43mrun_fl\u001b[49m\u001b[43m(\u001b[49m\n\u001b[1;32m    309\u001b[0m \u001b[43m        \u001b[49m\u001b[43mserver\u001b[49m\u001b[38;5;241;43m=\u001b[39;49m\u001b[43minitialized_server\u001b[49m\u001b[43m,\u001b[49m\n\u001b[1;32m    310\u001b[0m \u001b[43m        \u001b[49m\u001b[43mconfig\u001b[49m\u001b[38;5;241;43m=\u001b[39;49m\u001b[43minitialized_config\u001b[49m\u001b[43m,\u001b[49m\n\u001b[1;32m    311\u001b[0m \u001b[43m    \u001b[49m\u001b[43m)\u001b[49m\n\u001b[1;32m    312\u001b[0m \u001b[38;5;28;01mexcept\u001b[39;00m \u001b[38;5;167;01mException\u001b[39;00m \u001b[38;5;28;01mas\u001b[39;00m ex:\n",
      "File \u001b[0;32m~/miniconda3/envs/FTL/lib/python3.10/site-packages/flwr/server/server.py:483\u001b[0m, in \u001b[0;36mrun_fl\u001b[0;34m(server, config)\u001b[0m\n\u001b[1;32m    482\u001b[0m \u001b[38;5;250m\u001b[39m\u001b[38;5;124;03m\"\"\"Train a model on the given server and return the History object.\"\"\"\u001b[39;00m\n\u001b[0;32m--> 483\u001b[0m hist, elapsed_time \u001b[38;5;241m=\u001b[39m \u001b[43mserver\u001b[49m\u001b[38;5;241;43m.\u001b[39;49m\u001b[43mfit\u001b[49m\u001b[43m(\u001b[49m\n\u001b[1;32m    484\u001b[0m \u001b[43m    \u001b[49m\u001b[43mnum_rounds\u001b[49m\u001b[38;5;241;43m=\u001b[39;49m\u001b[43mconfig\u001b[49m\u001b[38;5;241;43m.\u001b[39;49m\u001b[43mnum_rounds\u001b[49m\u001b[43m,\u001b[49m\u001b[43m \u001b[49m\u001b[43mtimeout\u001b[49m\u001b[38;5;241;43m=\u001b[39;49m\u001b[43mconfig\u001b[49m\u001b[38;5;241;43m.\u001b[39;49m\u001b[43mround_timeout\u001b[49m\n\u001b[1;32m    485\u001b[0m \u001b[43m\u001b[49m\u001b[43m)\u001b[49m\n\u001b[1;32m    487\u001b[0m log(INFO, \u001b[38;5;124m\"\u001b[39m\u001b[38;5;124m\"\u001b[39m)\n",
      "File \u001b[0;32m~/miniconda3/envs/FTL/lib/python3.10/site-packages/flwr/server/server.py:95\u001b[0m, in \u001b[0;36mServer.fit\u001b[0;34m(self, num_rounds, timeout)\u001b[0m\n\u001b[1;32m     94\u001b[0m log(INFO, \u001b[38;5;124m\"\u001b[39m\u001b[38;5;124mEvaluating initial global parameters\u001b[39m\u001b[38;5;124m\"\u001b[39m)\n\u001b[0;32m---> 95\u001b[0m res \u001b[38;5;241m=\u001b[39m \u001b[38;5;28;43mself\u001b[39;49m\u001b[38;5;241;43m.\u001b[39;49m\u001b[43mstrategy\u001b[49m\u001b[38;5;241;43m.\u001b[39;49m\u001b[43mevaluate\u001b[49m\u001b[43m(\u001b[49m\u001b[38;5;241;43m0\u001b[39;49m\u001b[43m,\u001b[49m\u001b[43m \u001b[49m\u001b[43mparameters\u001b[49m\u001b[38;5;241;43m=\u001b[39;49m\u001b[38;5;28;43mself\u001b[39;49m\u001b[38;5;241;43m.\u001b[39;49m\u001b[43mparameters\u001b[49m\u001b[43m)\u001b[49m\n\u001b[1;32m     96\u001b[0m \u001b[38;5;28;01mif\u001b[39;00m res \u001b[38;5;129;01mis\u001b[39;00m \u001b[38;5;129;01mnot\u001b[39;00m \u001b[38;5;28;01mNone\u001b[39;00m:\n",
      "File \u001b[0;32m~/miniconda3/envs/FTL/lib/python3.10/site-packages/flwr/server/strategy/fedavg.py:167\u001b[0m, in \u001b[0;36mFedAvg.evaluate\u001b[0;34m(self, server_round, parameters)\u001b[0m\n\u001b[1;32m    166\u001b[0m parameters_ndarrays \u001b[38;5;241m=\u001b[39m parameters_to_ndarrays(parameters)\n\u001b[0;32m--> 167\u001b[0m eval_res \u001b[38;5;241m=\u001b[39m \u001b[38;5;28;43mself\u001b[39;49m\u001b[38;5;241;43m.\u001b[39;49m\u001b[43mevaluate_fn\u001b[49m\u001b[43m(\u001b[49m\u001b[43mserver_round\u001b[49m\u001b[43m,\u001b[49m\u001b[43m \u001b[49m\u001b[43mparameters_ndarrays\u001b[49m\u001b[43m,\u001b[49m\u001b[43m \u001b[49m\u001b[43m{\u001b[49m\u001b[43m}\u001b[49m\u001b[43m)\u001b[49m\n\u001b[1;32m    168\u001b[0m \u001b[38;5;28;01mif\u001b[39;00m eval_res \u001b[38;5;129;01mis\u001b[39;00m \u001b[38;5;28;01mNone\u001b[39;00m:\n",
      "Cell \u001b[0;32mIn[20], line 18\u001b[0m, in \u001b[0;36mevaluate\u001b[0;34m(server_round, parameters, config)\u001b[0m\n\u001b[1;32m     16\u001b[0m metrics \u001b[38;5;241m=\u001b[39m {\u001b[38;5;124m'\u001b[39m\u001b[38;5;124mFTL loss\u001b[39m\u001b[38;5;124m'\u001b[39m: loss,\n\u001b[1;32m     17\u001b[0m            \u001b[38;5;124m\"\u001b[39m\u001b[38;5;124mFTL accuracy\u001b[39m\u001b[38;5;124m\"\u001b[39m: accuracy}\n\u001b[0;32m---> 18\u001b[0m \u001b[43mwandb\u001b[49m\u001b[38;5;241;43m.\u001b[39;49m\u001b[43mlog\u001b[49m\u001b[43m(\u001b[49m\u001b[43mmetrics\u001b[49m\u001b[43m)\u001b[49m\n\u001b[1;32m     19\u001b[0m \u001b[38;5;28;01mreturn\u001b[39;00m loss, {\u001b[38;5;124m\"\u001b[39m\u001b[38;5;124maccuracy\u001b[39m\u001b[38;5;124m\"\u001b[39m: accuracy}\n",
      "File \u001b[0;32m~/miniconda3/envs/FTL/lib/python3.10/site-packages/wandb/sdk/lib/preinit.py:36\u001b[0m, in \u001b[0;36mPreInitCallable.<locals>.preinit_wrapper\u001b[0;34m(*args, **kwargs)\u001b[0m\n\u001b[1;32m     35\u001b[0m \u001b[38;5;28;01mdef\u001b[39;00m \u001b[38;5;21mpreinit_wrapper\u001b[39m(\u001b[38;5;241m*\u001b[39margs: Any, \u001b[38;5;241m*\u001b[39m\u001b[38;5;241m*\u001b[39mkwargs: Any) \u001b[38;5;241m-\u001b[39m\u001b[38;5;241m>\u001b[39m Any:\n\u001b[0;32m---> 36\u001b[0m     \u001b[38;5;28;01mraise\u001b[39;00m wandb\u001b[38;5;241m.\u001b[39mError(\u001b[38;5;124mf\u001b[39m\u001b[38;5;124m\"\u001b[39m\u001b[38;5;124mYou must call wandb.init() before \u001b[39m\u001b[38;5;132;01m{\u001b[39;00mname\u001b[38;5;132;01m}\u001b[39;00m\u001b[38;5;124m()\u001b[39m\u001b[38;5;124m\"\u001b[39m)\n",
      "\u001b[0;31mError\u001b[0m: You must call wandb.init() before wandb.log()",
      "\nThe above exception was the direct cause of the following exception:\n",
      "\u001b[0;31mRuntimeError\u001b[0m                              Traceback (most recent call last)",
      "Cell \u001b[0;32mIn[20], line 40\u001b[0m\n\u001b[1;32m     29\u001b[0m strategy \u001b[38;5;241m=\u001b[39m fl\u001b[38;5;241m.\u001b[39mserver\u001b[38;5;241m.\u001b[39mstrategy\u001b[38;5;241m.\u001b[39mFedAvg(\n\u001b[1;32m     30\u001b[0m     fraction_fit\u001b[38;5;241m=\u001b[39m\u001b[38;5;241m1\u001b[39m,\n\u001b[1;32m     31\u001b[0m     fraction_evaluate\u001b[38;5;241m=\u001b[39m\u001b[38;5;241m0.5\u001b[39m,\n\u001b[0;32m   (...)\u001b[0m\n\u001b[1;32m     37\u001b[0m     evaluate_metrics_aggregation_fn\u001b[38;5;241m=\u001b[39mweighted_average \u001b[38;5;66;03m# <-- pass the metric aggregation function\u001b[39;00m\n\u001b[1;32m     38\u001b[0m )\n\u001b[1;32m     39\u001b[0m \u001b[38;5;66;03m# Start simulation\u001b[39;00m\n\u001b[0;32m---> 40\u001b[0m history \u001b[38;5;241m=\u001b[39m \u001b[43mfl\u001b[49m\u001b[38;5;241;43m.\u001b[39;49m\u001b[43msimulation\u001b[49m\u001b[38;5;241;43m.\u001b[39;49m\u001b[43mstart_simulation\u001b[49m\u001b[43m(\u001b[49m\n\u001b[1;32m     41\u001b[0m \u001b[43m    \u001b[49m\u001b[43mclient_fn\u001b[49m\u001b[38;5;241;43m=\u001b[39;49m\u001b[43mclient_fn\u001b[49m\u001b[43m,\u001b[49m\n\u001b[1;32m     42\u001b[0m \u001b[43m    \u001b[49m\u001b[43mnum_clients\u001b[49m\u001b[38;5;241;43m=\u001b[39;49m\u001b[38;5;241;43m3\u001b[39;49m\u001b[43m,\u001b[49m\n\u001b[1;32m     43\u001b[0m \u001b[43m    \u001b[49m\u001b[43mconfig\u001b[49m\u001b[38;5;241;43m=\u001b[39;49m\u001b[43mfl\u001b[49m\u001b[38;5;241;43m.\u001b[39;49m\u001b[43mserver\u001b[49m\u001b[38;5;241;43m.\u001b[39;49m\u001b[43mServerConfig\u001b[49m\u001b[43m(\u001b[49m\u001b[43mnum_rounds\u001b[49m\u001b[38;5;241;43m=\u001b[39;49m\u001b[43mconfiguration\u001b[49m\u001b[43m[\u001b[49m\u001b[38;5;124;43m'\u001b[39;49m\u001b[38;5;124;43mnum_rounds_FL\u001b[39;49m\u001b[38;5;124;43m'\u001b[39;49m\u001b[43m]\u001b[49m\u001b[43m)\u001b[49m\u001b[43m,\u001b[49m\n\u001b[1;32m     44\u001b[0m \u001b[43m    \u001b[49m\u001b[43mstrategy\u001b[49m\u001b[38;5;241;43m=\u001b[39;49m\u001b[43mstrategy\u001b[49m\u001b[43m,\u001b[49m\n\u001b[1;32m     45\u001b[0m \u001b[43m    \u001b[49m\u001b[43mclient_resources\u001b[49m\u001b[38;5;241;43m=\u001b[39;49m\u001b[43mclient_resources\u001b[49m\u001b[43m,\u001b[49m\n\u001b[1;32m     46\u001b[0m \u001b[43m)\u001b[49m\n",
      "File \u001b[0;32m~/miniconda3/envs/FTL/lib/python3.10/site-packages/flwr/simulation/app.py:344\u001b[0m, in \u001b[0;36mstart_simulation\u001b[0;34m(client_fn, num_clients, clients_ids, client_resources, server, config, strategy, client_manager, ray_init_args, keep_initialised, actor_type, actor_kwargs, actor_scheduling)\u001b[0m\n\u001b[1;32m    314\u001b[0m     log(ERROR, traceback\u001b[38;5;241m.\u001b[39mformat_exc())\n\u001b[1;32m    315\u001b[0m     log(\n\u001b[1;32m    316\u001b[0m         ERROR,\n\u001b[1;32m    317\u001b[0m         \u001b[38;5;124m\"\u001b[39m\u001b[38;5;124mYour simulation crashed :(. This could be because of several reasons. \u001b[39m\u001b[38;5;124m\"\u001b[39m\n\u001b[0;32m   (...)\u001b[0m\n\u001b[1;32m    342\u001b[0m         client_resources,\n\u001b[1;32m    343\u001b[0m     )\n\u001b[0;32m--> 344\u001b[0m     \u001b[38;5;28;01mraise\u001b[39;00m \u001b[38;5;167;01mRuntimeError\u001b[39;00m(\u001b[38;5;124m\"\u001b[39m\u001b[38;5;124mSimulation crashed.\u001b[39m\u001b[38;5;124m\"\u001b[39m) \u001b[38;5;28;01mfrom\u001b[39;00m \u001b[38;5;21;01mex\u001b[39;00m\n\u001b[1;32m    346\u001b[0m \u001b[38;5;28;01mfinally\u001b[39;00m:\n\u001b[1;32m    347\u001b[0m     \u001b[38;5;66;03m# Stop time monitoring resources in cluster\u001b[39;00m\n\u001b[1;32m    348\u001b[0m     f_stop\u001b[38;5;241m.\u001b[39mset()\n",
      "\u001b[0;31mRuntimeError\u001b[0m: Simulation crashed."
     ]
    }
   ],
   "source": [
    "# client will be allocated 1x CPU and 0x GPUs\n",
    "if device.type == 'cuda':\n",
    "    # here we are assigning an entire GPU for each client.\n",
    "    client_resources = {\"num_cpus\": 1, \"num_gpus\": 1.0}\n",
    "    # Refer to our documentation for more details about Flower Simulations\n",
    "    # and how to setup these `client_resources`.\n",
    "    \n",
    "# The `evaluate` function will be called by Flower after every round\n",
    "ftl_acc = []\n",
    "def evaluate(server_round,parameters,config):\n",
    "    testloader = azure_test_loader\n",
    "    set_parameters(net_FTL, parameters)  # Update model with the latest parameters\n",
    "    loss, accuracy = test(net_FTL, testloader, configuration)\n",
    "    print(f\"Server-side evaluation loss {loss} / accuracy {accuracy}\")\n",
    "    ftl_acc.append(accuracy)\n",
    "    metrics = {'FTL loss': loss,\n",
    "               \"FTL accuracy\": accuracy}\n",
    "    wandb.log(metrics)\n",
    "    return loss, {\"accuracy\": accuracy}\n",
    "\n",
    "def weighted_average(metrics):\n",
    "    # Multiply accuracy of each client by number of examples used\n",
    "    accuracies = [num_examples * m[\"accuracy\"] for num_examples, m in metrics]\n",
    "    examples = [num_examples for num_examples, _ in metrics]\n",
    "\n",
    "    # Aggregate and return custom metric (weighted average)\n",
    "    return {\"accuracy\": sum(accuracies) / sum(examples)}\n",
    "params = get_parameters(net_FTL)\n",
    "strategy = fl.server.strategy.FedAvg(\n",
    "    fraction_fit=1,\n",
    "    fraction_evaluate=0.5,\n",
    "    min_fit_clients=2,\n",
    "    min_evaluate_clients=1,\n",
    "    min_available_clients=1,\n",
    "    evaluate_fn=evaluate,\n",
    "    initial_parameters= ndarrays_to_parameters(params),\n",
    "    evaluate_metrics_aggregation_fn=weighted_average # <-- pass the metric aggregation function\n",
    ")\n",
    "# Start simulation\n",
    "history = fl.simulation.start_simulation(\n",
    "    client_fn=client_fn,\n",
    "    num_clients=3,\n",
    "    config=fl.server.ServerConfig(num_rounds=configuration['num_rounds_FL']),\n",
    "    strategy=strategy,\n",
    "    client_resources=client_resources,\n",
    ")"
   ]
  },
  {
   "cell_type": "code",
   "execution_count": null,
   "metadata": {},
   "outputs": [],
   "source": [
    "f = []\n",
    "for i in ftl_acc:\n",
    "    f.append(float(i))\n",
    "plt.plot(f)\n",
    "plt.title('Federated Transfer Learning test accuracies')\n",
    "plt.ylabel('Accuracies')\n",
    "plt.xlabel('Rounds')"
   ]
  },
  {
   "cell_type": "code",
   "execution_count": null,
   "metadata": {},
   "outputs": [],
   "source": [
    "max(ftl_acc)"
   ]
  }
 ],
 "metadata": {
  "kernelspec": {
   "display_name": "Python 3 (ipykernel)",
   "language": "python",
   "name": "python3"
  },
  "language_info": {
   "codemirror_mode": {
    "name": "ipython",
    "version": 3
   },
   "file_extension": ".py",
   "mimetype": "text/x-python",
   "name": "python",
   "nbconvert_exporter": "python",
   "pygments_lexer": "ipython3",
   "version": "3.10.0"
  }
 },
 "nbformat": 4,
 "nbformat_minor": 2
}
