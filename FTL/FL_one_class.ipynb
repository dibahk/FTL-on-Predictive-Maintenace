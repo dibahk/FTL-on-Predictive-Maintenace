{
 "cells": [
  {
   "cell_type": "code",
   "execution_count": 1,
   "metadata": {},
   "outputs": [
    {
     "name": "stdout",
     "output_type": "stream",
     "text": [
      "Using cuda.\n"
     ]
    }
   ],
   "source": [
    "%matplotlib inline\n",
    "import matplotlib.pyplot as plt\n",
    "import torchvision\n",
    "from torch.utils.data import TensorDataset, random_split, DataLoader\n",
    "import torch.nn as nn\n",
    "import time\n",
    "import wandb\n",
    "from sklearn.metrics import accuracy_score\n",
    "from imblearn.over_sampling import SMOTE\n",
    "import torch\n",
    "from datetime import datetime\n",
    "from collections import OrderedDict\n",
    "from sklearn.decomposition import PCA\n",
    "import flwr as fl\n",
    "from flwr.common import Metrics \n",
    "from time import gmtime, strftime\n",
    "from flwr.server.strategy import FedAvg, FedAdagrad, FedProx\n",
    "import random\n",
    "from flwr.common import ndarrays_to_parameters, NDArrays, Scalar, Context\n",
    "\n",
    "now = datetime.now() # current date and time\n",
    "date_time = now.strftime(\"%d-%m-%Y_%H:%M:%S\")\n",
    "device = torch.device('cuda' if torch.cuda.is_available() else 'cpu')\n",
    "print(f'Using {device}.')"
   ]
  },
  {
   "cell_type": "code",
   "execution_count": 2,
   "metadata": {},
   "outputs": [
    {
     "name": "stderr",
     "output_type": "stream",
     "text": [
      "\u001b[34m\u001b[1mwandb\u001b[0m: Currently logged in as: \u001b[33md-hadjikazemi\u001b[0m (\u001b[33md-hadjikazemi-queen-mary-university-of-london\u001b[0m). Use \u001b[1m`wandb login --relogin`\u001b[0m to force relogin\n",
      "/home/diba/miniconda3/envs/FTL/lib/python3.10/site-packages/wandb/sdk/lib/ipython.py:89: DeprecationWarning: Importing display from IPython.core.display is deprecated since IPython 7.14, please import from IPython display\n",
      "  from IPython.core.display import display\n"
     ]
    },
    {
     "data": {
      "application/vnd.jupyter.widget-view+json": {
       "model_id": "58ac58fd7507406a9e5e5560e7562b60",
       "version_major": 2,
       "version_minor": 0
      },
      "text/plain": [
       "VBox(children=(Label(value='Waiting for wandb.init()...\\r'), FloatProgress(value=0.011112881911038939, max=1.0…"
      ]
     },
     "metadata": {},
     "output_type": "display_data"
    },
    {
     "data": {
      "text/html": [
       "wandb version 0.17.7 is available!  To upgrade, please run:\n",
       " $ pip install wandb --upgrade"
      ],
      "text/plain": [
       "<IPython.core.display.HTML object>"
      ]
     },
     "metadata": {},
     "output_type": "display_data"
    },
    {
     "data": {
      "text/html": [
       "Tracking run with wandb version 0.17.4"
      ],
      "text/plain": [
       "<IPython.core.display.HTML object>"
      ]
     },
     "metadata": {},
     "output_type": "display_data"
    },
    {
     "data": {
      "text/html": [
       "Run data is saved locally in <code>/home/diba/wandb/run-20240819_000733-jh13qrbj</code>"
      ],
      "text/plain": [
       "<IPython.core.display.HTML object>"
      ]
     },
     "metadata": {},
     "output_type": "display_data"
    },
    {
     "data": {
      "text/html": [
       "Syncing run <strong><a href='https://wandb.ai/d-hadjikazemi-queen-mary-university-of-london/FTL%20one%20class/runs/jh13qrbj' target=\"_blank\">centralized training_19-08-2024_00:07:32</a></strong> to <a href='https://wandb.ai/d-hadjikazemi-queen-mary-university-of-london/FTL%20one%20class' target=\"_blank\">Weights & Biases</a> (<a href='https://wandb.me/run' target=\"_blank\">docs</a>)<br/>"
      ],
      "text/plain": [
       "<IPython.core.display.HTML object>"
      ]
     },
     "metadata": {},
     "output_type": "display_data"
    },
    {
     "data": {
      "text/html": [
       " View project at <a href='https://wandb.ai/d-hadjikazemi-queen-mary-university-of-london/FTL%20one%20class' target=\"_blank\">https://wandb.ai/d-hadjikazemi-queen-mary-university-of-london/FTL%20one%20class</a>"
      ],
      "text/plain": [
       "<IPython.core.display.HTML object>"
      ]
     },
     "metadata": {},
     "output_type": "display_data"
    },
    {
     "data": {
      "text/html": [
       " View run at <a href='https://wandb.ai/d-hadjikazemi-queen-mary-university-of-london/FTL%20one%20class/runs/jh13qrbj' target=\"_blank\">https://wandb.ai/d-hadjikazemi-queen-mary-university-of-london/FTL%20one%20class/runs/jh13qrbj</a>"
      ],
      "text/plain": [
       "<IPython.core.display.HTML object>"
      ]
     },
     "metadata": {},
     "output_type": "display_data"
    }
   ],
   "source": [
    "wandb.init(\n",
    "    # set the wandb project where this run will be logged\n",
    "    project=\"FTL one class\",\n",
    "    name= \"centralized training_{}\".format(date_time),\n",
    "    # track hyperparameters and run metadata\n",
    "    config={\n",
    "    \"learning_rate\": 0.001,\n",
    "    \"architecture\": \"CNN\",\n",
    "    \"epochs\": 100,\n",
    "    \"batch_size\": 64,\n",
    "    \"decay\":0,\n",
    "    'dropout': 0.01,\n",
    "    \"learning_rate_FL\": 0.0001,\n",
    "    \"batch_size_FL\": 64,\n",
    "    \"decay_FL\": 1e-5,\n",
    "    'num_rounds_FL': 50, \n",
    "    'epochs_FL': 100,\n",
    "    'dropout_FL': 0.001\n",
    "    }\n",
    ")\n",
    "\n",
    "transfer_i = random.randint(0, 3)\n",
    "configuration  = dict(wandb.config)\n",
    "\n",
    "\n",
    "def data_loading_AZURE(data_paths, label_paths, batch_size, train_ratio=0.8, val_ratio=0.5):\n",
    "    trainloader = []\n",
    "    valloader = []\n",
    "    testdata_list = []\n",
    "    testlabels_list = []\n",
    "    for i in range(len(data_paths)):\n",
    "        # importing from paths\n",
    "        data = torch.load(data_paths[i])\n",
    "        labels = torch.load(label_paths[i])\n",
    "        data = nn.functional.normalize(data, dim=1)\n",
    "        # reshaping the dataset so  the channels will be the second dimension.\n",
    "        data = data.permute(0, 2, 1)\n",
    "        print(data.size())\n",
    "        n_samples, n_channels, n_features = data.shape\n",
    "        X_reshaped = data.reshape(n_samples, -1) \n",
    "        # Apply SMOTE\n",
    "        smote = SMOTE(sampling_strategy='minority')\n",
    "        data_resampled, labels_resampled = smote.fit_resample(X_reshaped, labels)\n",
    "        # Reshape X_resampled back to 3D\n",
    "        data_resampled = data_resampled.reshape(-1, n_channels, n_features)\n",
    "        print(data_resampled.shape)\n",
    "        data_resampled = torch.tensor(data_resampled)\n",
    "        labels_resampled = torch.tensor(labels_resampled)\n",
    "        dataset = TensorDataset(data_resampled, labels_resampled)\n",
    "        train_size = int(train_ratio * len(dataset))\n",
    "        test_size = len(dataset) - train_size\n",
    "        val_size = int(val_ratio * test_size)\n",
    "        test_size = test_size - val_size\n",
    "\n",
    "        train_dataset, val_dataset, test_dataset = random_split(dataset, [train_size, val_size, test_size])\n",
    "        print(f\"client {i}\")\n",
    "        print(f\"train size = {train_size}\")\n",
    "        print(f\"validation size = {val_size}\")\n",
    "        print(f\"test set = {test_size}\")\n",
    "        if i == transfer_i:\n",
    "            trainloader_transfer = DataLoader(train_dataset, batch_size=batch_size, shuffle=True)\n",
    "            valloader_transfer = DataLoader(val_dataset, batch_size=batch_size, shuffle=True)\n",
    "\n",
    "        else:\n",
    "            trainloader.append(DataLoader(train_dataset, batch_size=batch_size, shuffle=True))\n",
    "            valloader.append(DataLoader(val_dataset, batch_size=batch_size, shuffle=True))\n",
    "            \n",
    "        testdata_list.append(test_dataset.dataset.tensors[0][test_dataset.indices])\n",
    "        testlabels_list.append(test_dataset.dataset.tensors[1][test_dataset.indices])\n",
    "\n",
    "    testdata = torch.cat(testdata_list, dim=0)\n",
    "    testlabels = torch.cat(testlabels_list, dim=0)\n",
    "    \n",
    "    # Create a DataLoader for the combined test data\n",
    "    testloader = DataLoader(TensorDataset(testdata, testlabels), batch_size=batch_size, shuffle=False)\n",
    "    \n",
    "    return trainloader, valloader, testloader, trainloader_transfer, valloader_transfer\n",
    "\n",
    "def data_loading_NASA(data_path, label_path, batch_size, train_ratio=0.8, val_ratio = 0.5):\n",
    "    data = torch.load(data_path)\n",
    "    labels = torch.load(label_path)\n",
    "    data = nn.functional.normalize(data, dim=1)\n",
    "    # reshaping the dataset so  the channels will be the second dimension.\n",
    "    data = data.permute(0, 2, 1)\n",
    "    print(data.size())\n",
    "\n",
    "    def pca_reduction(data, n_components=4):\n",
    "        data_reshaped = data.reshape(-1, data.shape[1])\n",
    "\n",
    "        # Apply PCA\n",
    "        pca = PCA(n_components=n_components)\n",
    "        \n",
    "        data_reduced = pca.fit_transform(data_reshaped)\n",
    "\n",
    "        # Reshape back to (samples, n_components, time_steps)\n",
    "        data_reduced = data_reduced.reshape(data.shape[0], n_components, data.shape[2])\n",
    "\n",
    "        return data_reduced\n",
    "    print(data.dtype)\n",
    "    data = pca_reduction(data, n_components=4)\n",
    "    data =(torch.from_numpy(data)).float()\n",
    "    n_samples, n_channels, n_features = data.shape\n",
    "    X_reshaped = data.reshape(n_samples, -1) \n",
    "    \n",
    "    n_samples, n_channels, n_features = data.shape\n",
    "    X_reshaped = data.reshape(n_samples, -1) \n",
    "    \n",
    "    # Apply SMOTE\n",
    "    smote = SMOTE(sampling_strategy='minority')\n",
    "    data_resampled, labels_resampled = smote.fit_resample(X_reshaped, labels)\n",
    "    print((labels_resampled==1).sum())\n",
    "    # Reshape X_resampled back to 3D\n",
    "    data_resampled = data_resampled.reshape(-1, n_channels, n_features)\n",
    "    print(data_resampled.shape)\n",
    "    data_resampled = torch.tensor(data_resampled)\n",
    "    labels_resampled = torch.tensor(labels_resampled)\n",
    "    dataset = TensorDataset(data_resampled, labels_resampled)\n",
    "    train_size = int(train_ratio * len(dataset))\n",
    "    test_size = len(dataset) - train_size\n",
    "    val_size = int(val_ratio * test_size)\n",
    "    test_size = test_size - val_size\n",
    "    train_dataset, val_dataset, test_dataset = random_split(dataset, [train_size, val_size, test_size])\n",
    "    return DataLoader(train_dataset, batch_size=batch_size, shuffle=True), DataLoader(val_dataset, batch_size=batch_size, shuffle=True), DataLoader(test_dataset, batch_size=batch_size, shuffle=False)\n"
   ]
  },
  {
   "cell_type": "code",
   "execution_count": 3,
   "metadata": {},
   "outputs": [],
   "source": [
    "# Define the CNN architecture\n",
    "class Neural_Network(nn.Module):\n",
    "    def __init__(self):\n",
    "        super(Neural_Network, self).__init__()\n",
    "        self.conv1 = nn.Conv1d(in_channels=4, out_channels=8, kernel_size=5)\n",
    "        self.bn1 = nn.BatchNorm1d(8)\n",
    "        self.conv2 = nn.Conv1d(in_channels=8, out_channels=8, kernel_size=5)\n",
    "        self.bn2 = nn.BatchNorm1d(8)\n",
    "        self.pool = nn.MaxPool1d(kernel_size=2, padding=0, stride=1)\n",
    "        # the size of the out channels x number  of nodes \n",
    "        self.fc1 = nn.Linear(328, 200)\n",
    "        self.fc2 = nn.Linear(200, 2)\n",
    "        self.flatten = nn.Flatten()\n",
    "        self.relu = nn.ReLU()\n",
    "        self.dropout = nn.Dropout(configuration['dropout'])\n",
    "        self.sigmoid = nn.Sigmoid()\n",
    "\n",
    "    def forward(self, x):\n",
    "        # x = self.relu(self.conv1(x))\n",
    "        # x = self.relu(self.conv2(x))\n",
    "        x = self.relu(self.bn1(self.conv1(x)))\n",
    "        x = self.relu(self.bn2(self.conv2(x)))\n",
    "        x = self.dropout(x)\n",
    "        x = self.pool(x)\n",
    "        x = self.flatten(x)\n",
    "        x = self.relu(self.fc1(x))\n",
    "        x - self.dropout(x)\n",
    "        x = self.sigmoid(self.fc2(x))\n",
    "        return x"
   ]
  },
  {
   "cell_type": "code",
   "execution_count": 4,
   "metadata": {},
   "outputs": [],
   "source": [
    "def correct(logits, y):\n",
    "    y_hat = logits.argmax(axis=1) # Finds the column with the highest value for each row of `logits`.\n",
    "    return (y_hat == y).float().sum() # Computes the number of times that `y_hat` and `y` match.\n",
    "\n",
    "def evaluate_metric(model, data_iter, metric):\n",
    "    \"\"\"Compute the average `metric` of the model on a dataset.\"\"\"\n",
    "    c = torch.tensor(0.).to(device)\n",
    "    n = torch.tensor(0.).to(device)\n",
    "    for X, y in data_iter:\n",
    "        X, y = X.to(device), y.to(device) # Moves data to `device`\n",
    "        logits = model(X)\n",
    "        c += metric(logits, y)\n",
    "        n += len(y)\n",
    "    return c*100 / n\n"
   ]
  },
  {
   "cell_type": "code",
   "execution_count": 5,
   "metadata": {},
   "outputs": [
    {
     "name": "stdout",
     "output_type": "stream",
     "text": [
      "torch.Size([848, 24, 50])\n",
      "torch.float32\n",
      "685\n",
      "(1370, 4, 50)\n"
     ]
    }
   ],
   "source": [
    "def train(model, train_loaders,test_loader, config, epochs, name):\n",
    "    loss = nn.CrossEntropyLoss()\n",
    "    optimizer = torch.optim.Adam(model.parameters(), lr=config['learning_rate'], weight_decay=config['decay'])\n",
    "    losses = [] # Stores the loss for each training batch\n",
    "    train_accs = [] # Stores the training accuracy after each epoch\n",
    "    test_accs = []\n",
    "    for epoch in range(epochs):\n",
    "        print(f'\\nEpoch {epoch + 1}/{epochs}')\n",
    "        total, epoch_loss = 0, 0.0\n",
    "        model.train() # This is necessary because batch normalization behaves differently between training and evaluation\n",
    "        \n",
    "        for X, y in train_loaders:\n",
    "            X, y = X.to(device), y.to(device) # Moves data to `device`\n",
    "            logits = model(X) # Computes the logits for the batch of images `X`\n",
    "            l = loss(logits, y) # Computes the loss given the `logits` and the class vector `y`\n",
    "            optimizer.zero_grad() # Zeroes the gradients stored in the model parameters\n",
    "            l.backward() # Computes the gradient of the loss `l` with respect to the model parameters\n",
    "\n",
    "            optimizer.step() # Updates the model parameters based on the gradients stored inside them\n",
    "            epoch_loss += l\n",
    "            \n",
    "        model.eval() # This is necessary because batch normalization behaves differently between training and evaluation\n",
    "        train_acc = evaluate_metric(model, train_loaders, correct)\n",
    "        train_accs.append(train_acc)\n",
    "        test_acc = evaluate_metric(model, test_loader, correct)\n",
    "        test_accs.append(test_acc)\n",
    "        wandb.log({f'{name} training accuraccy': train_acc,\n",
    "                  f'{name} validation accuracy': test_acc})\n",
    "        print(f'Epoch {epoch+1}: Training accuracy: {train_accs[-1]} Testing accuracy: {test_accs[-1]}.') # Computes and displays training/testing dataset accuracy.\n",
    "    plt.plot(list(map(lambda x: x.cpu(),train_accs)), label='Training accuracy')\n",
    "    plt.plot(list(map(lambda x: x.cpu(),test_accs)), label='Validation accuracy')\n",
    "    plt.title('accuracies')\n",
    "    plt.legend()\n",
    "\n",
    "def test(model, test_loaders,  configuration):\n",
    "    loss = nn.CrossEntropyLoss()\n",
    "    test_accs = []\n",
    "    optimizer = torch.optim.Adam(model.parameters(), lr=configuration['learning_rate'], weight_decay=configuration['decay'])\n",
    "    test_acc = []\n",
    "    l = 0.0\n",
    "    model.eval() # This is necessary because batch normalization behaves differently between training and evaluation\n",
    "    for X, y in test_loaders:    \n",
    "        X, y = X.to(device), y.to(device) # Moves data to `device`\n",
    "        logits = model(X)\n",
    "        l = loss(logits, y).item()\n",
    "        test_acc = evaluate_metric(model, test_loaders, correct)\n",
    "        test_accs.append(test_acc)\n",
    "        \n",
    "        # wandb.log({\"test_acc\": test_acc})\n",
    "        l /= len(test_loaders)\n",
    "        end_time = time.perf_counter()\n",
    "        # print('Testing accuracy: {test_accs[-1]}.')\n",
    "        return l, test_acc\n",
    "\n",
    "NASA = data_loading_NASA(data_path='NASA_data_50.pt', label_path= 'NASA_label_50.pt', batch_size= configuration['batch_size'])"
   ]
  },
  {
   "cell_type": "code",
   "execution_count": 6,
   "metadata": {},
   "outputs": [
    {
     "name": "stdout",
     "output_type": "stream",
     "text": [
      "\n",
      "Epoch 1/100\n",
      "Epoch 1: Training accuracy: 49.54379653930664 Testing accuracy: 50.36496353149414.\n",
      "\n",
      "Epoch 2/100\n",
      "Epoch 2: Training accuracy: 49.63503646850586 Testing accuracy: 50.36496353149414.\n",
      "\n",
      "Epoch 3/100\n",
      "Epoch 3: Training accuracy: 52.37226104736328 Testing accuracy: 56.93430709838867.\n",
      "\n",
      "Epoch 4/100\n",
      "Epoch 4: Training accuracy: 66.1496353149414 Testing accuracy: 67.88320922851562.\n",
      "\n",
      "Epoch 5/100\n",
      "Epoch 5: Training accuracy: 77.09854125976562 Testing accuracy: 67.88320922851562.\n",
      "\n",
      "Epoch 6/100\n",
      "Epoch 6: Training accuracy: 70.25547790527344 Testing accuracy: 67.88320922851562.\n",
      "\n",
      "Epoch 7/100\n",
      "Epoch 7: Training accuracy: 79.83576965332031 Testing accuracy: 72.9926986694336.\n",
      "\n",
      "Epoch 8/100\n",
      "Epoch 8: Training accuracy: 81.47810363769531 Testing accuracy: 78.83211517333984.\n",
      "\n",
      "Epoch 9/100\n",
      "Epoch 9: Training accuracy: 83.0291976928711 Testing accuracy: 77.37226104736328.\n",
      "\n",
      "Epoch 10/100\n",
      "Epoch 10: Training accuracy: 84.30657196044922 Testing accuracy: 75.91240692138672.\n",
      "\n",
      "Epoch 11/100\n",
      "Epoch 11: Training accuracy: 83.21167755126953 Testing accuracy: 78.10218811035156.\n",
      "\n",
      "Epoch 12/100\n",
      "Epoch 12: Training accuracy: 87.04379272460938 Testing accuracy: 80.2919692993164.\n",
      "\n",
      "Epoch 13/100\n",
      "Epoch 13: Training accuracy: 86.95255279541016 Testing accuracy: 81.02189636230469.\n",
      "\n",
      "Epoch 14/100\n",
      "Epoch 14: Training accuracy: 88.6861343383789 Testing accuracy: 82.48175048828125.\n",
      "\n",
      "Epoch 15/100\n",
      "Epoch 15: Training accuracy: 89.05109405517578 Testing accuracy: 82.48175048828125.\n",
      "\n",
      "Epoch 16/100\n",
      "Epoch 16: Training accuracy: 88.6861343383789 Testing accuracy: 83.94160461425781.\n",
      "\n",
      "Epoch 17/100\n",
      "Epoch 17: Training accuracy: 88.50364685058594 Testing accuracy: 81.75182342529297.\n",
      "\n",
      "Epoch 18/100\n",
      "Epoch 18: Training accuracy: 90.23722839355469 Testing accuracy: 83.94160461425781.\n",
      "\n",
      "Epoch 19/100\n",
      "Epoch 19: Training accuracy: 90.60218811035156 Testing accuracy: 83.94160461425781.\n",
      "\n",
      "Epoch 20/100\n",
      "Epoch 20: Training accuracy: 91.87956237792969 Testing accuracy: 83.21167755126953.\n",
      "\n",
      "Epoch 21/100\n",
      "Epoch 21: Training accuracy: 92.15328216552734 Testing accuracy: 83.94160461425781.\n",
      "\n",
      "Epoch 22/100\n",
      "Epoch 22: Training accuracy: 92.06204223632812 Testing accuracy: 84.6715316772461.\n",
      "\n",
      "Epoch 23/100\n",
      "Epoch 23: Training accuracy: 93.24817657470703 Testing accuracy: 84.6715316772461.\n",
      "\n",
      "Epoch 24/100\n",
      "Epoch 24: Training accuracy: 93.52189636230469 Testing accuracy: 84.6715316772461.\n",
      "\n",
      "Epoch 25/100\n",
      "Epoch 25: Training accuracy: 92.88320922851562 Testing accuracy: 85.40145874023438.\n",
      "\n",
      "Epoch 26/100\n",
      "Epoch 26: Training accuracy: 93.0656967163086 Testing accuracy: 82.48175048828125.\n",
      "\n",
      "Epoch 27/100\n",
      "Epoch 27: Training accuracy: 92.88320922851562 Testing accuracy: 86.13138580322266.\n",
      "\n",
      "Epoch 28/100\n",
      "Epoch 28: Training accuracy: 93.8868637084961 Testing accuracy: 83.21167755126953.\n",
      "\n",
      "Epoch 29/100\n",
      "Epoch 29: Training accuracy: 92.42700958251953 Testing accuracy: 81.75182342529297.\n",
      "\n",
      "Epoch 30/100\n",
      "Epoch 30: Training accuracy: 95.07299041748047 Testing accuracy: 85.40145874023438.\n",
      "\n",
      "Epoch 31/100\n",
      "Epoch 31: Training accuracy: 94.61679077148438 Testing accuracy: 89.05109405517578.\n",
      "\n",
      "Epoch 32/100\n",
      "Epoch 32: Training accuracy: 91.33211517333984 Testing accuracy: 84.6715316772461.\n",
      "\n",
      "Epoch 33/100\n",
      "Epoch 33: Training accuracy: 94.79927062988281 Testing accuracy: 85.40145874023438.\n",
      "\n",
      "Epoch 34/100\n",
      "Epoch 34: Training accuracy: 95.25547790527344 Testing accuracy: 89.05109405517578.\n",
      "\n",
      "Epoch 35/100\n",
      "Epoch 35: Training accuracy: 95.80291748046875 Testing accuracy: 88.3211669921875.\n",
      "\n",
      "Epoch 36/100\n",
      "Epoch 36: Training accuracy: 95.71167755126953 Testing accuracy: 86.86131286621094.\n",
      "\n",
      "Epoch 37/100\n",
      "Epoch 37: Training accuracy: 94.34306335449219 Testing accuracy: 86.86131286621094.\n",
      "\n",
      "Epoch 38/100\n",
      "Epoch 38: Training accuracy: 95.62043762207031 Testing accuracy: 87.59123992919922.\n",
      "\n",
      "Epoch 39/100\n",
      "Epoch 39: Training accuracy: 95.80291748046875 Testing accuracy: 88.3211669921875.\n",
      "\n",
      "Epoch 40/100\n",
      "Epoch 40: Training accuracy: 96.07664489746094 Testing accuracy: 89.78102111816406.\n",
      "\n",
      "Epoch 41/100\n",
      "Epoch 41: Training accuracy: 95.25547790527344 Testing accuracy: 85.40145874023438.\n",
      "\n",
      "Epoch 42/100\n",
      "Epoch 42: Training accuracy: 96.44160461425781 Testing accuracy: 88.3211669921875.\n",
      "\n",
      "Epoch 43/100\n",
      "Epoch 43: Training accuracy: 96.44160461425781 Testing accuracy: 89.05109405517578.\n",
      "\n",
      "Epoch 44/100\n",
      "Epoch 44: Training accuracy: 95.25547790527344 Testing accuracy: 86.13138580322266.\n",
      "\n",
      "Epoch 45/100\n",
      "Epoch 45: Training accuracy: 95.71167755126953 Testing accuracy: 86.86131286621094.\n",
      "\n",
      "Epoch 46/100\n",
      "Epoch 46: Training accuracy: 96.71533203125 Testing accuracy: 88.3211669921875.\n",
      "\n",
      "Epoch 47/100\n",
      "Epoch 47: Training accuracy: 96.80657196044922 Testing accuracy: 89.05109405517578.\n",
      "\n",
      "Epoch 48/100\n",
      "Epoch 48: Training accuracy: 96.98905181884766 Testing accuracy: 89.78102111816406.\n",
      "\n",
      "Epoch 49/100\n",
      "Epoch 49: Training accuracy: 96.62408447265625 Testing accuracy: 87.59123992919922.\n",
      "\n",
      "Epoch 50/100\n",
      "Epoch 50: Training accuracy: 97.08029174804688 Testing accuracy: 88.3211669921875.\n",
      "\n",
      "Epoch 51/100\n",
      "Epoch 51: Training accuracy: 95.71167755126953 Testing accuracy: 85.40145874023438.\n",
      "\n",
      "Epoch 52/100\n",
      "Epoch 52: Training accuracy: 96.25912475585938 Testing accuracy: 83.94160461425781.\n",
      "\n",
      "Epoch 53/100\n",
      "Epoch 53: Training accuracy: 96.07664489746094 Testing accuracy: 87.59123992919922.\n",
      "\n",
      "Epoch 54/100\n",
      "Epoch 54: Training accuracy: 96.07664489746094 Testing accuracy: 89.05109405517578.\n",
      "\n",
      "Epoch 55/100\n",
      "Epoch 55: Training accuracy: 96.89781188964844 Testing accuracy: 85.40145874023438.\n",
      "\n",
      "Epoch 56/100\n",
      "Epoch 56: Training accuracy: 97.08029174804688 Testing accuracy: 87.59123992919922.\n",
      "\n",
      "Epoch 57/100\n",
      "Epoch 57: Training accuracy: 97.26277160644531 Testing accuracy: 85.40145874023438.\n",
      "\n",
      "Epoch 58/100\n",
      "Epoch 58: Training accuracy: 97.5364990234375 Testing accuracy: 89.05109405517578.\n",
      "\n",
      "Epoch 59/100\n",
      "Epoch 59: Training accuracy: 97.26277160644531 Testing accuracy: 89.78102111816406.\n",
      "\n",
      "Epoch 60/100\n",
      "Epoch 60: Training accuracy: 97.08029174804688 Testing accuracy: 91.24087524414062.\n",
      "\n",
      "Epoch 61/100\n",
      "Epoch 61: Training accuracy: 97.26277160644531 Testing accuracy: 86.86131286621094.\n",
      "\n",
      "Epoch 62/100\n",
      "Epoch 62: Training accuracy: 97.44525909423828 Testing accuracy: 88.3211669921875.\n",
      "\n",
      "Epoch 63/100\n",
      "Epoch 63: Training accuracy: 96.62408447265625 Testing accuracy: 89.78102111816406.\n",
      "\n",
      "Epoch 64/100\n",
      "Epoch 64: Training accuracy: 97.26277160644531 Testing accuracy: 89.05109405517578.\n",
      "\n",
      "Epoch 65/100\n",
      "Epoch 65: Training accuracy: 97.35401153564453 Testing accuracy: 89.78102111816406.\n",
      "\n",
      "Epoch 66/100\n",
      "Epoch 66: Training accuracy: 97.5364990234375 Testing accuracy: 89.05109405517578.\n",
      "\n",
      "Epoch 67/100\n",
      "Epoch 67: Training accuracy: 97.44525909423828 Testing accuracy: 81.02189636230469.\n",
      "\n",
      "Epoch 68/100\n",
      "Epoch 68: Training accuracy: 97.5364990234375 Testing accuracy: 89.05109405517578.\n",
      "\n",
      "Epoch 69/100\n",
      "Epoch 69: Training accuracy: 97.62773895263672 Testing accuracy: 89.05109405517578.\n",
      "\n",
      "Epoch 70/100\n",
      "Epoch 70: Training accuracy: 97.08029174804688 Testing accuracy: 85.40145874023438.\n",
      "\n",
      "Epoch 71/100\n",
      "Epoch 71: Training accuracy: 96.98905181884766 Testing accuracy: 86.86131286621094.\n",
      "\n",
      "Epoch 72/100\n",
      "Epoch 72: Training accuracy: 97.62773895263672 Testing accuracy: 87.59123992919922.\n",
      "\n",
      "Epoch 73/100\n",
      "Epoch 73: Training accuracy: 97.44525909423828 Testing accuracy: 88.3211669921875.\n",
      "\n",
      "Epoch 74/100\n",
      "Epoch 74: Training accuracy: 96.98905181884766 Testing accuracy: 86.13138580322266.\n",
      "\n",
      "Epoch 75/100\n",
      "Epoch 75: Training accuracy: 97.35401153564453 Testing accuracy: 85.40145874023438.\n",
      "\n",
      "Epoch 76/100\n",
      "Epoch 76: Training accuracy: 97.5364990234375 Testing accuracy: 86.13138580322266.\n",
      "\n",
      "Epoch 77/100\n",
      "Epoch 77: Training accuracy: 97.5364990234375 Testing accuracy: 86.13138580322266.\n",
      "\n",
      "Epoch 78/100\n",
      "Epoch 78: Training accuracy: 97.71897888183594 Testing accuracy: 89.05109405517578.\n",
      "\n",
      "Epoch 79/100\n",
      "Epoch 79: Training accuracy: 97.5364990234375 Testing accuracy: 84.6715316772461.\n",
      "\n",
      "Epoch 80/100\n",
      "Epoch 80: Training accuracy: 97.5364990234375 Testing accuracy: 87.59123992919922.\n",
      "\n",
      "Epoch 81/100\n",
      "Epoch 81: Training accuracy: 97.71897888183594 Testing accuracy: 88.3211669921875.\n",
      "\n",
      "Epoch 82/100\n",
      "Epoch 82: Training accuracy: 97.62773895263672 Testing accuracy: 89.78102111816406.\n",
      "\n",
      "Epoch 83/100\n",
      "Epoch 83: Training accuracy: 97.71897888183594 Testing accuracy: 87.59123992919922.\n",
      "\n",
      "Epoch 84/100\n",
      "Epoch 84: Training accuracy: 97.71897888183594 Testing accuracy: 89.78102111816406.\n",
      "\n",
      "Epoch 85/100\n",
      "Epoch 85: Training accuracy: 97.62773895263672 Testing accuracy: 86.86131286621094.\n",
      "\n",
      "Epoch 86/100\n",
      "Epoch 86: Training accuracy: 97.62773895263672 Testing accuracy: 86.13138580322266.\n",
      "\n",
      "Epoch 87/100\n",
      "Epoch 87: Training accuracy: 96.25912475585938 Testing accuracy: 89.05109405517578.\n",
      "\n",
      "Epoch 88/100\n",
      "Epoch 88: Training accuracy: 97.62773895263672 Testing accuracy: 85.40145874023438.\n",
      "\n",
      "Epoch 89/100\n",
      "Epoch 89: Training accuracy: 97.5364990234375 Testing accuracy: 90.51094818115234.\n",
      "\n",
      "Epoch 90/100\n",
      "Epoch 90: Training accuracy: 97.62773895263672 Testing accuracy: 89.05109405517578.\n",
      "\n",
      "Epoch 91/100\n",
      "Epoch 91: Training accuracy: 97.62773895263672 Testing accuracy: 88.3211669921875.\n",
      "\n",
      "Epoch 92/100\n",
      "Epoch 92: Training accuracy: 97.62773895263672 Testing accuracy: 88.3211669921875.\n",
      "\n",
      "Epoch 93/100\n",
      "Epoch 93: Training accuracy: 97.62773895263672 Testing accuracy: 87.59123992919922.\n",
      "\n",
      "Epoch 94/100\n",
      "Epoch 94: Training accuracy: 97.62773895263672 Testing accuracy: 86.13138580322266.\n",
      "\n",
      "Epoch 95/100\n",
      "Epoch 95: Training accuracy: 97.62773895263672 Testing accuracy: 88.3211669921875.\n",
      "\n",
      "Epoch 96/100\n",
      "Epoch 96: Training accuracy: 97.62773895263672 Testing accuracy: 88.3211669921875.\n",
      "\n",
      "Epoch 97/100\n",
      "Epoch 97: Training accuracy: 97.5364990234375 Testing accuracy: 90.51094818115234.\n",
      "\n",
      "Epoch 98/100\n",
      "Epoch 98: Training accuracy: 97.62773895263672 Testing accuracy: 84.6715316772461.\n",
      "\n",
      "Epoch 99/100\n",
      "Epoch 99: Training accuracy: 97.62773895263672 Testing accuracy: 89.05109405517578.\n",
      "\n",
      "Epoch 100/100\n",
      "Epoch 100: Training accuracy: 97.62773895263672 Testing accuracy: 84.6715316772461.\n",
      "Epoch 1: validation loss 0.1383566459019979, accuracy 89.78102111816406\n",
      "Final test set performance:\n",
      "\tloss 0.14333117008209229\n",
      "\taccuracy 84.6715316772461\n"
     ]
    },
    {
     "name": "stderr",
     "output_type": "stream",
     "text": [
      "/home/diba/miniconda3/envs/FTL/lib/python3.10/site-packages/wandb/sdk/lib/ipython.py:89: DeprecationWarning: Importing display from IPython.core.display is deprecated since IPython 7.14, please import from IPython display\n",
      "  from IPython.core.display import display\n"
     ]
    },
    {
     "data": {
      "application/vnd.jupyter.widget-view+json": {
       "model_id": "d5f44e6a3fe6447a800b86983acfd3e8",
       "version_major": 2,
       "version_minor": 0
      },
      "text/plain": [
       "VBox(children=(Label(value='0.004 MB of 0.004 MB uploaded\\r'), FloatProgress(value=1.0, max=1.0)))"
      ]
     },
     "metadata": {},
     "output_type": "display_data"
    },
    {
     "data": {
      "text/html": [
       "<style>\n",
       "    table.wandb td:nth-child(1) { padding: 0 10px; text-align: left ; width: auto;} td:nth-child(2) {text-align: left ; width: 100%}\n",
       "    .wandb-row { display: flex; flex-direction: row; flex-wrap: wrap; justify-content: flex-start; width: 100% }\n",
       "    .wandb-col { display: flex; flex-direction: column; flex-basis: 100%; flex: 1; padding: 10px; }\n",
       "    </style>\n",
       "<div class=\"wandb-row\"><div class=\"wandb-col\"><h3>Run history:</h3><br/><table class=\"wandb\"><tr><td>centralized training accuraccy</td><td>▁▁▄▆▆▆▇▇▇▇▇▇████████████████████████████</td></tr><tr><td>centralized validation accuracy</td><td>▁▂▄▆▆▆▇▇▇▇▇▇██▇█▇▇█▇▇█▇█▇█▆█▇▇▇▇█████▇█▇</td></tr></table><br/></div><div class=\"wandb-col\"><h3>Run summary:</h3><br/><table class=\"wandb\"><tr><td>centralized training accuraccy</td><td>97.62774</td></tr><tr><td>centralized validation accuracy</td><td>84.67153</td></tr></table><br/></div></div>"
      ],
      "text/plain": [
       "<IPython.core.display.HTML object>"
      ]
     },
     "metadata": {},
     "output_type": "display_data"
    },
    {
     "data": {
      "text/html": [
       " View run <strong style=\"color:#cdcd00\">centralized training_19-08-2024_00:07:32</strong> at: <a href='https://wandb.ai/d-hadjikazemi-queen-mary-university-of-london/FTL%20one%20class/runs/jh13qrbj' target=\"_blank\">https://wandb.ai/d-hadjikazemi-queen-mary-university-of-london/FTL%20one%20class/runs/jh13qrbj</a><br/> View project at: <a href='https://wandb.ai/d-hadjikazemi-queen-mary-university-of-london/FTL%20one%20class' target=\"_blank\">https://wandb.ai/d-hadjikazemi-queen-mary-university-of-london/FTL%20one%20class</a><br/>Synced 6 W&B file(s), 0 media file(s), 0 artifact file(s) and 0 other file(s)"
      ],
      "text/plain": [
       "<IPython.core.display.HTML object>"
      ]
     },
     "metadata": {},
     "output_type": "display_data"
    },
    {
     "data": {
      "text/html": [
       "Find logs at: <code>./wandb/run-20240819_000733-jh13qrbj/logs</code>"
      ],
      "text/plain": [
       "<IPython.core.display.HTML object>"
      ]
     },
     "metadata": {},
     "output_type": "display_data"
    },
    {
     "data": {
      "text/html": [
       "The new W&B backend becomes opt-out in version 0.18.0; try it out with `wandb.require(\"core\")`! See https://wandb.me/wandb-core for more information."
      ],
      "text/plain": [
       "<IPython.core.display.HTML object>"
      ]
     },
     "metadata": {},
     "output_type": "display_data"
    },
    {
     "data": {
      "image/png": "[encoded data removed]",
      "text/plain": [
       "<Figure size 640x480 with 1 Axes>"
      ]
     },
     "metadata": {},
     "output_type": "display_data"
    }
   ],
   "source": [
    "trainloader = NASA[0]\n",
    "valloader = NASA[1]\n",
    "testloader = NASA[2]\n",
    "net = Neural_Network().to(device)\n",
    "losses = []\n",
    "accuracies = []\n",
    "for epoch in range(1):\n",
    "    train(net, trainloader, testloader, configuration, configuration['epochs'], name='centralized')\n",
    "    loss, accuracy = test(net, valloader, configuration)\n",
    "    losses.append(loss)\n",
    "    accuracies.append(int(accuracy))\n",
    "    print(f\"Epoch {epoch+1}: validation loss {loss}, accuracy {accuracy}\")\n",
    "# plt.plot(accuracies)\n",
    "loss, accuracy = test(net, testloader, configuration=configuration)\n",
    "print(f\"Final test set performance:\\n\\tloss {loss}\\n\\taccuracy {accuracy}\")\n",
    "wandb.finish()"
   ]
  },
  {
   "cell_type": "code",
   "execution_count": 7,
   "metadata": {},
   "outputs": [],
   "source": [
    "torch.save(net.state_dict(), 'NASA.pth')"
   ]
  },
  {
   "cell_type": "markdown",
   "metadata": {},
   "source": [
    "## Federated Learning"
   ]
  },
  {
   "cell_type": "code",
   "execution_count": 8,
   "metadata": {},
   "outputs": [
    {
     "name": "stdout",
     "output_type": "stream",
     "text": [
      "torch.Size([1002, 4, 50])\n",
      "(1670, 4, 50)\n",
      "client 0\n",
      "train size = 1336\n",
      "validation size = 167\n",
      "test set = 167\n",
      "torch.Size([936, 4, 50])\n",
      "(1560, 4, 50)\n",
      "client 1\n",
      "train size = 1248\n",
      "validation size = 156\n",
      "test set = 156\n",
      "torch.Size([1242, 4, 50])\n",
      "(2070, 4, 50)\n",
      "client 2\n",
      "train size = 1656\n",
      "validation size = 207\n",
      "test set = 207\n",
      "torch.Size([1014, 4, 50])\n",
      "(1690, 4, 50)\n",
      "client 3\n",
      "train size = 1352\n",
      "validation size = 169\n",
      "test set = 169\n"
     ]
    }
   ],
   "source": [
    "azure_data_paths = ['AZURE_data_1.pt', 'AZURE_data_2.pt','AZURE_data_3.pt','AZURE_data_4.pt']\n",
    "azure_label_paths = ['AZURE_label_1.pt','AZURE_label_2.pt','AZURE_label_3.pt','AZURE_label_4.pt']\n",
    "azure_train_loaders, azure_val_loaders, azure_test_loader, azure_train_loaders_transfer, azure_val_loaders_transfer = data_loading_AZURE(azure_data_paths, azure_label_paths, batch_size=configuration['batch_size_FL'])"
   ]
  },
  {
   "cell_type": "code",
   "execution_count": 9,
   "metadata": {},
   "outputs": [
    {
     "name": "stderr",
     "output_type": "stream",
     "text": [
      "/home/diba/miniconda3/envs/FTL/lib/python3.10/site-packages/wandb/sdk/lib/ipython.py:77: DeprecationWarning: Importing display from IPython.core.display is deprecated since IPython 7.14, please import from IPython display\n",
      "  from IPython.core.display import HTML, display  # type: ignore\n"
     ]
    },
    {
     "data": {
      "text/html": [
       "wandb version 0.17.7 is available!  To upgrade, please run:\n",
       " $ pip install wandb --upgrade"
      ],
      "text/plain": [
       "<IPython.core.display.HTML object>"
      ]
     },
     "metadata": {},
     "output_type": "display_data"
    },
    {
     "data": {
      "text/html": [
       "Tracking run with wandb version 0.17.4"
      ],
      "text/plain": [
       "<IPython.core.display.HTML object>"
      ]
     },
     "metadata": {},
     "output_type": "display_data"
    },
    {
     "data": {
      "text/html": [
       "Run data is saved locally in <code>/home/diba/wandb/run-20240819_001119-ilun3bpo</code>"
      ],
      "text/plain": [
       "<IPython.core.display.HTML object>"
      ]
     },
     "metadata": {},
     "output_type": "display_data"
    },
    {
     "data": {
      "text/html": [
       "Syncing run <strong><a href='https://wandb.ai/d-hadjikazemi-queen-mary-university-of-london/FTL%20one%20class/runs/ilun3bpo' target=\"_blank\">federated learning phase_19-08-2024_00:07:32</a></strong> to <a href='https://wandb.ai/d-hadjikazemi-queen-mary-university-of-london/FTL%20one%20class' target=\"_blank\">Weights & Biases</a> (<a href='https://wandb.me/run' target=\"_blank\">docs</a>)<br/>"
      ],
      "text/plain": [
       "<IPython.core.display.HTML object>"
      ]
     },
     "metadata": {},
     "output_type": "display_data"
    },
    {
     "data": {
      "text/html": [
       " View project at <a href='https://wandb.ai/d-hadjikazemi-queen-mary-university-of-london/FTL%20one%20class' target=\"_blank\">https://wandb.ai/d-hadjikazemi-queen-mary-university-of-london/FTL%20one%20class</a>"
      ],
      "text/plain": [
       "<IPython.core.display.HTML object>"
      ]
     },
     "metadata": {},
     "output_type": "display_data"
    },
    {
     "data": {
      "text/html": [
       " View run at <a href='https://wandb.ai/d-hadjikazemi-queen-mary-university-of-london/FTL%20one%20class/runs/ilun3bpo' target=\"_blank\">https://wandb.ai/d-hadjikazemi-queen-mary-university-of-london/FTL%20one%20class/runs/ilun3bpo</a>"
      ],
      "text/plain": [
       "<IPython.core.display.HTML object>"
      ]
     },
     "metadata": {},
     "output_type": "display_data"
    },
    {
     "data": {
      "text/html": [
       "<button onClick=\"this.nextSibling.style.display='block';this.style.display='none';\">Display W&B run</button><iframe src='https://wandb.ai/d-hadjikazemi-queen-mary-university-of-london/FTL%20one%20class/runs/ilun3bpo?jupyter=true' style='border:none;width:100%;height:420px;display:none;'></iframe>"
      ],
      "text/plain": [
       "<wandb.sdk.wandb_run.Run at 0x7f9ba4dfc5e0>"
      ]
     },
     "execution_count": 9,
     "metadata": {},
     "output_type": "execute_result"
    }
   ],
   "source": [
    "wandb.init(\n",
    "    # set the wandb project where this run will be logged\n",
    "    project=\"FTL one class\",\n",
    "    name= \"federated learning phase_{}\".format(date_time),\n",
    "    # track hyperparameters and run metadata\n",
    "    config= configuration\n",
    ")"
   ]
  },
  {
   "cell_type": "code",
   "execution_count": 10,
   "metadata": {},
   "outputs": [],
   "source": [
    "# Define the CNN architecture\n",
    "class Neural_Network_FL(nn.Module):\n",
    "    def __init__(self):\n",
    "        super(Neural_Network_FL, self).__init__()\n",
    "        self.conv1 = nn.Conv1d(in_channels=4, out_channels=8, kernel_size=5)\n",
    "        self.conv2 = nn.Conv1d(in_channels=8, out_channels=8, kernel_size=5)\n",
    "        self.pool = nn.MaxPool1d(kernel_size=2, padding=0, stride=1)\n",
    "        # the size of the out channels x number  of nodes \n",
    "        self.fc1 = nn.Linear(328, 200)\n",
    "        self.fc2 = nn.Linear(200, 2)\n",
    "        self.flatten = nn.Flatten()\n",
    "        self.relu = nn.ReLU()\n",
    "        self.dropout = nn.Dropout(configuration['dropout'])\n",
    "        self.sigmoid = nn.Sigmoid()\n",
    "\n",
    "    def forward(self, x):\n",
    "        x = self.relu(self.conv1(x))\n",
    "        x = self.relu(self.conv2(x))\n",
    "        x = self.dropout(x)\n",
    "        x = self.pool(x)\n",
    "        x = self.flatten(x)\n",
    "        x = self.relu(self.fc1(x))\n",
    "        x - self.dropout(x)\n",
    "        x = self.sigmoid(self.fc2(x))\n",
    "        return x"
   ]
  },
  {
   "cell_type": "code",
   "execution_count": 11,
   "metadata": {},
   "outputs": [],
   "source": [
    "def train_FL(model, train_loaders,test_loader, config, epochs):\n",
    "    loss = nn.CrossEntropyLoss()\n",
    "    optimizer = torch.optim.Adam(model.parameters(), lr=config['learning_rate'], weight_decay=config['decay'])\n",
    "    losses = [] # Stores the loss for each training batch\n",
    "    train_accs = [] # Stores the training accuracy after each epoch\n",
    "    test_accs = []\n",
    "    \n",
    "    for epoch in range(epochs):\n",
    "        print(f'\\nEpoch {epoch + 1}/{epochs}')\n",
    "        total, epoch_loss = 0, 0.0\n",
    "        model.train() # This is necessary because batch normalization behaves differently between training and evaluation\n",
    "        \n",
    "        for X, y in train_loaders:\n",
    "            X, y = X.to(device), y.to(device) # Moves data to `device`\n",
    "            logits = model(X) # Computes the logits for the batch of images `X`\n",
    "            l = loss(logits, y) # Computes the loss given the `logits` and the class vector `y`\n",
    "            optimizer.zero_grad() # Zeroes the gradients stored in the model parameters\n",
    "            l.backward() # Computes the gradient of the loss `l` with respect to the model parameters\n",
    "\n",
    "            optimizer.step() # Updates the model parameters based on the gradients stored inside them\n",
    "            epoch_loss += l\n",
    "            \n",
    "        model.eval() # This is necessary because batch normalization behaves differently between training and evaluation\n",
    "        train_acc = evaluate_metric(model, train_loaders, correct)\n",
    "        train_accs.append(train_acc)\n",
    "        test_acc = evaluate_metric(model, test_loader, correct)\n",
    "        test_accs.append(test_acc)\n",
    "        print(f'Epoch {epoch+1}: Training accuracy: {train_accs[-1]} Testing accuracy: {test_accs[-1]}.') # Computes and displays training/testing dataset accuracy.\n",
    "    plt.plot(list(map(lambda x: x.cpu(),train_accs)), label='Training accuracy')\n",
    "    plt.plot(list(map(lambda x: x.cpu(),test_accs)), label='Validation accuracy')\n",
    "    plt.title('accuracies')\n",
    "    plt.legend()\n"
   ]
  },
  {
   "cell_type": "code",
   "execution_count": 12,
   "metadata": {},
   "outputs": [],
   "source": [
    "def get_parameters(model):\n",
    "    # Return model parameters as a list of NumPy ndarrays, excluding parameters of BN layers when using FedBN\n",
    "    return [val.cpu().numpy() for name, val in model.state_dict().items() if ('bn1' not in name and 'bn2' not in name)]\n",
    "\n",
    "def set_parameters(model, parameters):\n",
    "    # Set model parameters from a list of NumPy ndarrays\n",
    "    keys = [k for k in model.state_dict().keys() if 'bn' not in k]\n",
    "    params_dict = zip(keys, parameters)\n",
    "    state_dict = OrderedDict({k: torch.tensor(v) for k, v in params_dict})\n",
    "    model.load_state_dict(state_dict, strict=False)\n",
    "\n",
    "net_FL = Neural_Network_FL().to(device)\n",
    "parameters_centralized = get_parameters(net)\n",
    "set_parameters(net_FL, parameters_centralized)\n",
    "step = 0"
   ]
  },
  {
   "cell_type": "code",
   "execution_count": 13,
   "metadata": {},
   "outputs": [],
   "source": [
    "class FlowerClient(fl.client.NumPyClient):\n",
    "    def __init__(self, net, trainloader, valloader, configuration):\n",
    "        self.net = net\n",
    "        self.trainloader = trainloader\n",
    "        self.valloader = valloader\n",
    "\n",
    "    def get_parameters(self, config):\n",
    "        return get_parameters(self.net)\n",
    "\n",
    "    def fit(self, parameters, config):\n",
    "        set_parameters(self.net, parameters)\n",
    "        train_FL(self.net, self.trainloader,self.valloader,configuration, configuration['epochs_FL'])\n",
    "        return get_parameters(self.net), len(self.trainloader), {}\n",
    "\n",
    "    def evaluate(self, parameters, config):\n",
    "        set_parameters(self.net, parameters)\n",
    "        loss, accuracy = test(self.net, self.valloader, configuration)\n",
    "        return float(loss), len(self.valloader), {\"accuracy\": float(accuracy)}\n",
    "    \n",
    "\n",
    "def client_fn(cid) -> FlowerClient:\n",
    "    net = Neural_Network().to(device)\n",
    "    trainloader = azure_train_loaders[int(cid)]\n",
    "    valloader = azure_val_loaders[int(cid)]\n",
    "    return FlowerClient(net_FL, trainloader, valloader, configuration).to_client()\n"
   ]
  },
  {
   "cell_type": "code",
   "execution_count": 14,
   "metadata": {},
   "outputs": [
    {
     "name": "stderr",
     "output_type": "stream",
     "text": [
      "\u001b[93mWARNING \u001b[0m:   \n",
      "Setting `min_available_clients` lower than `min_fit_clients` or\n",
      "`min_evaluate_clients` can cause the server to fail when there are too few clients\n",
      "connected to the server. `min_available_clients` must be set to a value larger\n",
      "than or equal to the values of `min_fit_clients` and `min_evaluate_clients`.\n",
      "\n",
      "\u001b[92mINFO \u001b[0m:      Starting Flower simulation, config: num_rounds=50, no round_timeout\n",
      "2024-08-19 00:11:24,224\tINFO worker.py:1621 -- Started a local Ray instance.\n",
      "\u001b[92mINFO \u001b[0m:      Flower VCE: Ray initialized with resources: {'node:__internal_head__': 1.0, 'object_store_memory': 49811662848.0, 'accelerator_type:G': 1.0, 'GPU': 2.0, 'node:192.168.1.146': 1.0, 'memory': 106227213312.0, 'CPU': 32.0}\n",
      "\u001b[92mINFO \u001b[0m:      Optimize your simulation with Flower VCE: https://flower.ai/docs/framework/how-to-run-simulations.html\n",
      "\u001b[92mINFO \u001b[0m:      Flower VCE: Resources for each Virtual Client: {'num_cpus': 1, 'num_gpus': 1.0}\n",
      "\u001b[92mINFO \u001b[0m:      Flower VCE: Creating VirtualClientEngineActorPool with 2 actors\n",
      "\u001b[92mINFO \u001b[0m:      [INIT]\n",
      "\u001b[92mINFO \u001b[0m:      Using initial global parameters provided by strategy\n",
      "\u001b[92mINFO \u001b[0m:      Evaluating initial global parameters\n",
      "\u001b[92mINFO \u001b[0m:      initial parameters (loss, other metrics): 0.07022364031184804, {'accuracy': tensor(48.4979, device='cuda:0')}\n",
      "\u001b[92mINFO \u001b[0m:      \n",
      "\u001b[92mINFO \u001b[0m:      [ROUND 1]\n",
      "\u001b[92mINFO \u001b[0m:      configure_fit: strategy sampled 3 clients (out of 3)\n"
     ]
    },
    {
     "name": "stdout",
     "output_type": "stream",
     "text": [
      "Server-side evaluation loss 0.07022364031184804 / accuracy 48.49785232543945\n",
      "\u001b[2m\u001b[36m(ClientAppActor pid=1242551)\u001b[0m \n",
      "\u001b[2m\u001b[36m(ClientAppActor pid=1242551)\u001b[0m Epoch 1/100\n",
      "\u001b[2m\u001b[36m(ClientAppActor pid=1242551)\u001b[0m Epoch 1: Training accuracy: 50.59880065917969 Testing accuracy: 47.90419006347656.\n",
      "\u001b[2m\u001b[36m(ClientAppActor pid=1242551)\u001b[0m Epoch 2: Training accuracy: 49.40119934082031 Testing accuracy: 52.09580993652344.\n",
      "\u001b[2m\u001b[36m(ClientAppActor pid=1242551)\u001b[0m \u001b[32m [repeated 12x across cluster] (Ray deduplicates logs by default. Set RAY_DEDUP_LOGS=0 to disable log deduplication, or see https://docs.ray.io/en/master/ray-observability/ray-logging.html#log-deduplication for more options.)\u001b[0m\n",
      "\u001b[2m\u001b[36m(ClientAppActor pid=1242551)\u001b[0m Epoch 8/100\u001b[32m [repeated 12x across cluster]\u001b[0m\n",
      "\u001b[2m\u001b[36m(ClientAppActor pid=1242552)\u001b[0m Epoch 6: Training accuracy: 51.28205108642578 Testing accuracy: 44.230770111083984.\u001b[32m [repeated 13x across cluster]\u001b[0m\n",
      "\u001b[2m\u001b[36m(ClientAppActor pid=1242552)\u001b[0m \u001b[32m [repeated 15x across cluster]\u001b[0m\n",
      "\u001b[2m\u001b[36m(ClientAppActor pid=1242552)\u001b[0m Epoch 12/100\u001b[32m [repeated 15x across cluster]\u001b[0m\n",
      "\u001b[2m\u001b[36m(ClientAppActor pid=1242551)\u001b[0m Epoch 18: Training accuracy: 50.59880065917969 Testing accuracy: 47.90419006347656.\u001b[32m [repeated 16x across cluster]\u001b[0m\n",
      "\u001b[2m\u001b[36m(ClientAppActor pid=1242551)\u001b[0m \u001b[32m [repeated 15x across cluster]\u001b[0m\n",
      "\u001b[2m\u001b[36m(ClientAppActor pid=1242551)\u001b[0m Epoch 25/100\u001b[32m [repeated 15x across cluster]\u001b[0m\n",
      "\u001b[2m\u001b[36m(ClientAppActor pid=1242551)\u001b[0m Epoch 27: Training accuracy: 51.94610595703125 Testing accuracy: 47.305389404296875.\u001b[32m [repeated 15x across cluster]\u001b[0m\n",
      "\u001b[2m\u001b[36m(ClientAppActor pid=1242551)\u001b[0m \u001b[32m [repeated 16x across cluster]\u001b[0m\n",
      "\u001b[2m\u001b[36m(ClientAppActor pid=1242551)\u001b[0m Epoch 34/100\u001b[32m [repeated 16x across cluster]\u001b[0m\n",
      "\u001b[2m\u001b[36m(ClientAppActor pid=1242551)\u001b[0m Epoch 37: Training accuracy: 50.59880065917969 Testing accuracy: 47.90419006347656.\u001b[32m [repeated 18x across cluster]\u001b[0m\n",
      "\u001b[2m\u001b[36m(ClientAppActor pid=1242551)\u001b[0m \u001b[32m [repeated 24x across cluster]\u001b[0m\n",
      "\u001b[2m\u001b[36m(ClientAppActor pid=1242551)\u001b[0m Epoch 50/100\u001b[32m [repeated 24x across cluster]\u001b[0m\n",
      "\u001b[2m\u001b[36m(ClientAppActor pid=1242551)\u001b[0m Epoch 64: Training accuracy: 50.59880065917969 Testing accuracy: 47.90419006347656.\u001b[32m [repeated 35x across cluster]\u001b[0m\n",
      "\u001b[2m\u001b[36m(ClientAppActor pid=1242551)\u001b[0m \u001b[32m [repeated 45x across cluster]\u001b[0m\n",
      "\u001b[2m\u001b[36m(ClientAppActor pid=1242551)\u001b[0m Epoch 87/100\u001b[32m [repeated 45x across cluster]\u001b[0m\n",
      "\u001b[2m\u001b[36m(ClientAppActor pid=1242551)\u001b[0m Epoch 97: Training accuracy: 54.79042053222656 Testing accuracy: 51.497005462646484.\u001b[32m [repeated 42x across cluster]\u001b[0m\n",
      "\u001b[2m\u001b[36m(ClientAppActor pid=1242551)\u001b[0m \u001b[32m [repeated 37x across cluster]\u001b[0m\n",
      "\u001b[2m\u001b[36m(ClientAppActor pid=1242551)\u001b[0m Epoch 13/100\u001b[32m [repeated 37x across cluster]\u001b[0m\n",
      "\u001b[2m\u001b[36m(ClientAppActor pid=1242551)\u001b[0m Epoch 24: Training accuracy: 49.63017654418945 Testing accuracy: 49.1124267578125.\u001b[32m [repeated 38x across cluster]\u001b[0m\n",
      "\u001b[2m\u001b[36m(ClientAppActor pid=1242551)\u001b[0m \u001b[32m [repeated 46x across cluster]\u001b[0m\n",
      "\u001b[2m\u001b[36m(ClientAppActor pid=1242551)\u001b[0m Epoch 49/100\u001b[32m [repeated 46x across cluster]\u001b[0m\n",
      "\u001b[2m\u001b[36m(ClientAppActor pid=1242551)\u001b[0m Epoch 57: Training accuracy: 50.36982345581055 Testing accuracy: 50.8875732421875.\u001b[32m [repeated 43x across cluster]\u001b[0m\n",
      "\u001b[2m\u001b[36m(ClientAppActor pid=1242551)\u001b[0m \u001b[32m [repeated 24x across cluster]\u001b[0m\n",
      "\u001b[2m\u001b[36m(ClientAppActor pid=1242551)\u001b[0m Epoch 65/100\u001b[32m [repeated 24x across cluster]\u001b[0m\n",
      "\u001b[2m\u001b[36m(ClientAppActor pid=1242551)\u001b[0m Epoch 74: Training accuracy: 58.210060119628906 Testing accuracy: 55.62130355834961.\u001b[32m [repeated 23x across cluster]\u001b[0m\n",
      "\u001b[2m\u001b[36m(ClientAppActor pid=1242551)\u001b[0m \u001b[32m [repeated 28x across cluster]\u001b[0m\n",
      "\u001b[2m\u001b[36m(ClientAppActor pid=1242551)\u001b[0m Epoch 87/100\u001b[32m [repeated 28x across cluster]\u001b[0m\n",
      "\u001b[2m\u001b[36m(ClientAppActor pid=1242551)\u001b[0m Epoch 95: Training accuracy: 51.47929000854492 Testing accuracy: 53.25443649291992.\u001b[32m [repeated 29x across cluster]\u001b[0m\n",
      "\u001b[2m\u001b[36m(ClientAppActor pid=1242552)\u001b[0m \u001b[32m [repeated 21x across cluster]\u001b[0m\n",
      "\u001b[2m\u001b[36m(ClientAppActor pid=1242552)\u001b[0m Epoch 84/100\u001b[32m [repeated 21x across cluster]\u001b[0m\n",
      "\u001b[2m\u001b[36m(ClientAppActor pid=1242552)\u001b[0m Epoch 86: Training accuracy: 61.45833206176758 Testing accuracy: 65.38461303710938.\u001b[32m [repeated 12x across cluster]\u001b[0m\n",
      "\u001b[2m\u001b[36m(ClientAppActor pid=1242552)\u001b[0m \u001b[32m [repeated 6x across cluster]\u001b[0m\n",
      "\u001b[2m\u001b[36m(ClientAppActor pid=1242552)\u001b[0m Epoch 90/100\u001b[32m [repeated 6x across cluster]\u001b[0m\n",
      "\u001b[2m\u001b[36m(ClientAppActor pid=1242552)\u001b[0m Epoch 94: Training accuracy: 55.68910217285156 Testing accuracy: 60.25640869140625.\u001b[32m [repeated 8x across cluster]\u001b[0m\n",
      "\u001b[2m\u001b[36m(ClientAppActor pid=1242552)\u001b[0m \u001b[32m [repeated 8x across cluster]\u001b[0m\n",
      "\u001b[2m\u001b[36m(ClientAppActor pid=1242552)\u001b[0m Epoch 98/100\u001b[32m [repeated 8x across cluster]\u001b[0m\n"
     ]
    },
    {
     "name": "stderr",
     "output_type": "stream",
     "text": [
      "\u001b[92mINFO \u001b[0m:      aggregate_fit: received 3 results and 0 failures\n",
      "\u001b[93mWARNING \u001b[0m:   No fit_metrics_aggregation_fn provided\n",
      "\u001b[92mINFO \u001b[0m:      fit progress: (1, 0.06291168928146362, {'accuracy': tensor(48.4979, device='cuda:0')}, 71.97469461298897)\n",
      "\u001b[92mINFO \u001b[0m:      configure_evaluate: strategy sampled 1 clients (out of 3)\n"
     ]
    },
    {
     "name": "stdout",
     "output_type": "stream",
     "text": [
      "\u001b[2m\u001b[36m(ClientAppActor pid=1242552)\u001b[0m Epoch 100: Training accuracy: 65.86538696289062 Testing accuracy: 71.79486846923828.\u001b[32m [repeated 6x across cluster]\u001b[0m\n",
      "Server-side evaluation loss 0.06291168928146362 / accuracy 48.49785232543945\n"
     ]
    },
    {
     "name": "stderr",
     "output_type": "stream",
     "text": [
      "\u001b[92mINFO \u001b[0m:      aggregate_evaluate: received 1 results and 0 failures\n",
      "\u001b[92mINFO \u001b[0m:      \n",
      "\u001b[92mINFO \u001b[0m:      [ROUND 2]\n",
      "\u001b[92mINFO \u001b[0m:      configure_fit: strategy sampled 3 clients (out of 3)\n"
     ]
    },
    {
     "name": "stdout",
     "output_type": "stream",
     "text": [
      "\u001b[2m\u001b[36m(ClientAppActor pid=1242551)\u001b[0m \u001b[32m [repeated 16x across cluster]\u001b[0m\n",
      "\u001b[2m\u001b[36m(ClientAppActor pid=1242551)\u001b[0m Epoch 11/100\u001b[32m [repeated 16x across cluster]\u001b[0m\n",
      "\u001b[2m\u001b[36m(ClientAppActor pid=1242551)\u001b[0m Epoch 18: Training accuracy: 68.34935760498047 Testing accuracy: 75.64102935791016.\u001b[32m [repeated 23x across cluster]\u001b[0m\n",
      "\u001b[2m\u001b[36m(ClientAppActor pid=1242551)\u001b[0m \u001b[32m [repeated 28x across cluster]\u001b[0m\n",
      "\u001b[2m\u001b[36m(ClientAppActor pid=1242551)\u001b[0m Epoch 33/100\u001b[32m [repeated 28x across cluster]\u001b[0m\n",
      "\u001b[2m\u001b[36m(ClientAppActor pid=1242551)\u001b[0m Epoch 40: Training accuracy: 70.67308044433594 Testing accuracy: 77.56410217285156.\u001b[32m [repeated 28x across cluster]\u001b[0m\n",
      "\u001b[2m\u001b[36m(ClientAppActor pid=1242551)\u001b[0m \u001b[32m [repeated 27x across cluster]\u001b[0m\n",
      "\u001b[2m\u001b[36m(ClientAppActor pid=1242551)\u001b[0m Epoch 54/100\u001b[32m [repeated 27x across cluster]\u001b[0m\n",
      "\u001b[2m\u001b[36m(ClientAppActor pid=1242551)\u001b[0m Epoch 91: Training accuracy: 73.15705108642578 Testing accuracy: 73.07691955566406.\u001b[32m [repeated 58x across cluster]\u001b[0m\n",
      "\u001b[2m\u001b[36m(ClientAppActor pid=1242551)\u001b[0m \u001b[32m [repeated 106x across cluster]\u001b[0m\n",
      "\u001b[2m\u001b[36m(ClientAppActor pid=1242551)\u001b[0m Epoch 51/100\u001b[32m [repeated 106x across cluster]\u001b[0m\n",
      "\u001b[2m\u001b[36m(ClientAppActor pid=1242551)\u001b[0m Epoch 84: Training accuracy: 67.96407318115234 Testing accuracy: 65.8682632446289.\u001b[32m [repeated 102x across cluster]\u001b[0m\n",
      "\u001b[2m\u001b[36m(ClientAppActor pid=1242552)\u001b[0m \u001b[32m [repeated 60x across cluster]\u001b[0m\n",
      "\u001b[2m\u001b[36m(ClientAppActor pid=1242552)\u001b[0m Epoch 35/100\u001b[32m [repeated 60x across cluster]\u001b[0m\n",
      "\u001b[2m\u001b[36m(ClientAppActor pid=1242552)\u001b[0m Epoch 38: Training accuracy: 67.01183319091797 Testing accuracy: 68.63905334472656.\u001b[32m [repeated 27x across cluster]\u001b[0m\n",
      "\u001b[2m\u001b[36m(ClientAppActor pid=1242552)\u001b[0m \u001b[32m [repeated 9x across cluster]\u001b[0m\n",
      "\u001b[2m\u001b[36m(ClientAppActor pid=1242552)\u001b[0m Epoch 44/100\u001b[32m [repeated 9x across cluster]\u001b[0m\n",
      "\u001b[2m\u001b[36m(ClientAppActor pid=1242552)\u001b[0m Epoch 46: Training accuracy: 67.38166046142578 Testing accuracy: 63.90532684326172.\u001b[32m [repeated 8x across cluster]\u001b[0m\n",
      "\u001b[2m\u001b[36m(ClientAppActor pid=1242552)\u001b[0m \u001b[32m [repeated 12x across cluster]\u001b[0m\n",
      "\u001b[2m\u001b[36m(ClientAppActor pid=1242552)\u001b[0m Epoch 56/100\u001b[32m [repeated 12x across cluster]\u001b[0m\n",
      "\u001b[2m\u001b[36m(ClientAppActor pid=1242552)\u001b[0m Epoch 57: Training accuracy: 68.86094665527344 Testing accuracy: 66.27218627929688.\u001b[32m [repeated 11x across cluster]\u001b[0m\n",
      "\u001b[2m\u001b[36m(ClientAppActor pid=1242552)\u001b[0m \u001b[32m [repeated 22x across cluster]\u001b[0m\n",
      "\u001b[2m\u001b[36m(ClientAppActor pid=1242552)\u001b[0m Epoch 78/100\u001b[32m [repeated 22x across cluster]\u001b[0m\n",
      "\u001b[2m\u001b[36m(ClientAppActor pid=1242552)\u001b[0m Epoch 83: Training accuracy: 67.30769348144531 Testing accuracy: 66.27218627929688.\u001b[32m [repeated 26x across cluster]\u001b[0m\n",
      "\u001b[2m\u001b[36m(ClientAppActor pid=1242552)\u001b[0m \u001b[32m [repeated 17x across cluster]\u001b[0m\n",
      "\u001b[2m\u001b[36m(ClientAppActor pid=1242552)\u001b[0m Epoch 95/100\u001b[32m [repeated 17x across cluster]\u001b[0m\n",
      "\u001b[2m\u001b[36m(ClientAppActor pid=1242552)\u001b[0m Epoch 95: Training accuracy: 70.48816680908203 Testing accuracy: 65.68047332763672.\u001b[32m [repeated 12x across cluster]\u001b[0m\n"
     ]
    },
    {
     "name": "stderr",
     "output_type": "stream",
     "text": [
      "\u001b[92mINFO \u001b[0m:      aggregate_fit: received 3 results and 0 failures\n",
      "\u001b[92mINFO \u001b[0m:      fit progress: (2, 0.05747946825894443, {'accuracy': tensor(66.3805, device='cuda:0')}, 121.84040839898807)\n",
      "\u001b[92mINFO \u001b[0m:      configure_evaluate: strategy sampled 1 clients (out of 3)\n"
     ]
    },
    {
     "name": "stdout",
     "output_type": "stream",
     "text": [
      "Server-side evaluation loss 0.05747946825894443 / accuracy 66.38054656982422\n"
     ]
    },
    {
     "name": "stderr",
     "output_type": "stream",
     "text": [
      "\u001b[92mINFO \u001b[0m:      aggregate_evaluate: received 1 results and 0 failures\n",
      "\u001b[92mINFO \u001b[0m:      \n",
      "\u001b[92mINFO \u001b[0m:      [ROUND 3]\n",
      "\u001b[92mINFO \u001b[0m:      configure_fit: strategy sampled 3 clients (out of 3)\n"
     ]
    },
    {
     "name": "stdout",
     "output_type": "stream",
     "text": [
      "\u001b[2m\u001b[36m(ClientAppActor pid=1242551)\u001b[0m \u001b[32m [repeated 6x across cluster]\u001b[0m\n",
      "\u001b[2m\u001b[36m(ClientAppActor pid=1242551)\u001b[0m Epoch 1/100\u001b[32m [repeated 6x across cluster]\u001b[0m\n",
      "\u001b[2m\u001b[36m(ClientAppActor pid=1242551)\u001b[0m Epoch 1: Training accuracy: 70.5128173828125 Testing accuracy: 75.0.\u001b[32m [repeated 6x across cluster]\u001b[0m\n",
      "\u001b[2m\u001b[36m(ClientAppActor pid=1242551)\u001b[0m \u001b[32m [repeated 17x across cluster]\u001b[0m\n",
      "\u001b[2m\u001b[36m(ClientAppActor pid=1242551)\u001b[0m Epoch 11/100\u001b[32m [repeated 17x across cluster]\u001b[0m\n",
      "\u001b[2m\u001b[36m(ClientAppActor pid=1242552)\u001b[0m Epoch 7: Training accuracy: 67.06586456298828 Testing accuracy: 66.4670639038086.\u001b[32m [repeated 16x across cluster]\u001b[0m\n",
      "\u001b[2m\u001b[36m(ClientAppActor pid=1242552)\u001b[0m \u001b[32m [repeated 15x across cluster]\u001b[0m\n",
      "\u001b[2m\u001b[36m(ClientAppActor pid=1242552)\u001b[0m Epoch 14/100\u001b[32m [repeated 15x across cluster]\u001b[0m\n",
      "\u001b[2m\u001b[36m(ClientAppActor pid=1242551)\u001b[0m Epoch 20: Training accuracy: 69.31089782714844 Testing accuracy: 71.79486846923828.\u001b[32m [repeated 16x across cluster]\u001b[0m\n",
      "\u001b[2m\u001b[36m(ClientAppActor pid=1242551)\u001b[0m \u001b[32m [repeated 16x across cluster]\u001b[0m\n",
      "\u001b[2m\u001b[36m(ClientAppActor pid=1242551)\u001b[0m Epoch 29/100\u001b[32m [repeated 16x across cluster]\u001b[0m\n",
      "\u001b[2m\u001b[36m(ClientAppActor pid=1242552)\u001b[0m Epoch 20: Training accuracy: 69.3113784790039 Testing accuracy: 65.26946258544922.\u001b[32m [repeated 16x across cluster]\u001b[0m\n",
      "\u001b[2m\u001b[36m(ClientAppActor pid=1242552)\u001b[0m \u001b[32m [repeated 15x across cluster]\u001b[0m\n",
      "\u001b[2m\u001b[36m(ClientAppActor pid=1242552)\u001b[0m Epoch 27/100\u001b[32m [repeated 15x across cluster]\u001b[0m\n",
      "\u001b[2m\u001b[36m(ClientAppActor pid=1242551)\u001b[0m Epoch 38: Training accuracy: 72.67628479003906 Testing accuracy: 74.35897064208984.\u001b[32m [repeated 16x across cluster]\u001b[0m\n",
      "\u001b[2m\u001b[36m(ClientAppActor pid=1242551)\u001b[0m \u001b[32m [repeated 20x across cluster]\u001b[0m\n",
      "\u001b[2m\u001b[36m(ClientAppActor pid=1242551)\u001b[0m Epoch 47/100\u001b[32m [repeated 20x across cluster]\u001b[0m\n",
      "\u001b[2m\u001b[36m(ClientAppActor pid=1242552)\u001b[0m Epoch 38: Training accuracy: 70.73353576660156 Testing accuracy: 65.26946258544922.\u001b[32m [repeated 20x across cluster]\u001b[0m\n",
      "\u001b[2m\u001b[36m(ClientAppActor pid=1242551)\u001b[0m \u001b[32m [repeated 24x across cluster]\u001b[0m\n",
      "\u001b[2m\u001b[36m(ClientAppActor pid=1242551)\u001b[0m Epoch 61/100\u001b[32m [repeated 24x across cluster]\u001b[0m\n",
      "\u001b[2m\u001b[36m(ClientAppActor pid=1242551)\u001b[0m Epoch 62: Training accuracy: 74.75961303710938 Testing accuracy: 73.07691955566406.\u001b[32m [repeated 25x across cluster]\u001b[0m\n",
      "\u001b[2m\u001b[36m(ClientAppActor pid=1242552)\u001b[0m \u001b[32m [repeated 26x across cluster]\u001b[0m\n",
      "\u001b[2m\u001b[36m(ClientAppActor pid=1242552)\u001b[0m Epoch 58/100\u001b[32m [repeated 26x across cluster]\u001b[0m\n",
      "\u001b[2m\u001b[36m(ClientAppActor pid=1242551)\u001b[0m Epoch 78: Training accuracy: 72.27564239501953 Testing accuracy: 73.71794891357422.\u001b[32m [repeated 26x across cluster]\u001b[0m\n",
      "\u001b[2m\u001b[36m(ClientAppActor pid=1242552)\u001b[0m \u001b[32m [repeated 27x across cluster]\u001b[0m\n",
      "\u001b[2m\u001b[36m(ClientAppActor pid=1242552)\u001b[0m Epoch 68/100\u001b[32m [repeated 27x across cluster]\u001b[0m\n",
      "\u001b[2m\u001b[36m(ClientAppActor pid=1242551)\u001b[0m Epoch 95: Training accuracy: 74.51923370361328 Testing accuracy: 73.07691955566406.\u001b[32m [repeated 27x across cluster]\u001b[0m\n",
      "\u001b[2m\u001b[36m(ClientAppActor pid=1242551)\u001b[0m \u001b[32m [repeated 17x across cluster]\u001b[0m\n",
      "\u001b[2m\u001b[36m(ClientAppActor pid=1242551)\u001b[0m Epoch 3/100\u001b[32m [repeated 17x across cluster]\u001b[0m\n",
      "\u001b[2m\u001b[36m(ClientAppActor pid=1242552)\u001b[0m Epoch 75: Training accuracy: 70.50897979736328 Testing accuracy: 67.06586456298828.\u001b[32m [repeated 14x across cluster]\u001b[0m\n",
      "\u001b[2m\u001b[36m(ClientAppActor pid=1242551)\u001b[0m \u001b[32m [repeated 15x across cluster]\u001b[0m\n",
      "\u001b[2m\u001b[36m(ClientAppActor pid=1242551)\u001b[0m Epoch 12/100\u001b[32m [repeated 15x across cluster]\u001b[0m\n",
      "\u001b[2m\u001b[36m(ClientAppActor pid=1242551)\u001b[0m Epoch 12: Training accuracy: 68.63905334472656 Testing accuracy: 66.86390686035156.\u001b[32m [repeated 16x across cluster]\u001b[0m\n",
      "\u001b[2m\u001b[36m(ClientAppActor pid=1242551)\u001b[0m \u001b[32m [repeated 15x across cluster]\u001b[0m\n",
      "\u001b[2m\u001b[36m(ClientAppActor pid=1242551)\u001b[0m Epoch 20/100\u001b[32m [repeated 15x across cluster]\u001b[0m\n",
      "\u001b[2m\u001b[36m(ClientAppActor pid=1242551)\u001b[0m Epoch 21: Training accuracy: 68.9349136352539 Testing accuracy: 66.86390686035156.\u001b[32m [repeated 16x across cluster]\u001b[0m\n",
      "\u001b[2m\u001b[36m(ClientAppActor pid=1242551)\u001b[0m \u001b[32m [repeated 15x across cluster]\u001b[0m\n",
      "\u001b[2m\u001b[36m(ClientAppActor pid=1242551)\u001b[0m Epoch 28/100\u001b[32m [repeated 15x across cluster]\u001b[0m\n",
      "\u001b[2m\u001b[36m(ClientAppActor pid=1242551)\u001b[0m Epoch 29: Training accuracy: 65.97633361816406 Testing accuracy: 66.86390686035156.\u001b[32m [repeated 15x across cluster]\u001b[0m\n",
      "\u001b[2m\u001b[36m(ClientAppActor pid=1242551)\u001b[0m \u001b[32m [repeated 15x across cluster]\u001b[0m\n",
      "\u001b[2m\u001b[36m(ClientAppActor pid=1242551)\u001b[0m Epoch 38/100\u001b[32m [repeated 15x across cluster]\u001b[0m\n",
      "\u001b[2m\u001b[36m(ClientAppActor pid=1242551)\u001b[0m Epoch 40: Training accuracy: 70.93195343017578 Testing accuracy: 65.08876037597656.\u001b[32m [repeated 16x across cluster]\u001b[0m\n",
      "\u001b[2m\u001b[36m(ClientAppActor pid=1242551)\u001b[0m \u001b[32m [repeated 13x across cluster]\u001b[0m\n",
      "\u001b[2m\u001b[36m(ClientAppActor pid=1242551)\u001b[0m Epoch 51/100\u001b[32m [repeated 13x across cluster]\u001b[0m\n",
      "\u001b[2m\u001b[36m(ClientAppActor pid=1242551)\u001b[0m Epoch 53: Training accuracy: 72.04141998291016 Testing accuracy: 65.68047332763672.\u001b[32m [repeated 13x across cluster]\u001b[0m\n",
      "\u001b[2m\u001b[36m(ClientAppActor pid=1242551)\u001b[0m \u001b[32m [repeated 13x across cluster]\u001b[0m\n",
      "\u001b[2m\u001b[36m(ClientAppActor pid=1242551)\u001b[0m Epoch 64/100\u001b[32m [repeated 13x across cluster]\u001b[0m\n",
      "\u001b[2m\u001b[36m(ClientAppActor pid=1242551)\u001b[0m Epoch 71: Training accuracy: 71.74555969238281 Testing accuracy: 64.49703979492188.\u001b[32m [repeated 18x across cluster]\u001b[0m\n",
      "\u001b[2m\u001b[36m(ClientAppActor pid=1242551)\u001b[0m \u001b[32m [repeated 26x across cluster]\u001b[0m\n",
      "\u001b[2m\u001b[36m(ClientAppActor pid=1242551)\u001b[0m Epoch 90/100\u001b[32m [repeated 26x across cluster]\u001b[0m\n",
      "\u001b[2m\u001b[36m(ClientAppActor pid=1242551)\u001b[0m Epoch 93: Training accuracy: 70.19230651855469 Testing accuracy: 67.45561981201172.\u001b[32m [repeated 22x across cluster]\u001b[0m\n"
     ]
    },
    {
     "name": "stderr",
     "output_type": "stream",
     "text": [
      "\u001b[92mINFO \u001b[0m:      aggregate_fit: received 3 results and 0 failures\n",
      "\u001b[92mINFO \u001b[0m:      fit progress: (3, 0.05793445760553533, {'accuracy': tensor(67.0958, device='cuda:0')}, 208.9309902399982)\n",
      "\u001b[92mINFO \u001b[0m:      configure_evaluate: strategy sampled 1 clients (out of 3)\n",
      "\u001b[92mINFO \u001b[0m:      aggregate_evaluate: received 1 results and 0 failures\n",
      "\u001b[92mINFO \u001b[0m:      \n",
      "\u001b[92mINFO \u001b[0m:      [ROUND 4]\n",
      "\u001b[92mINFO \u001b[0m:      configure_fit: strategy sampled 3 clients (out of 3)\n"
     ]
    },
    {
     "name": "stdout",
     "output_type": "stream",
     "text": [
      "Server-side evaluation loss 0.05793445760553533 / accuracy 67.0958480834961\n",
      "\u001b[2m\u001b[36m(ClientAppActor pid=1242551)\u001b[0m \u001b[32m [repeated 20x across cluster]\u001b[0m\n",
      "\u001b[2m\u001b[36m(ClientAppActor pid=1242551)\u001b[0m Epoch 7/100\u001b[32m [repeated 20x across cluster]\u001b[0m\n",
      "\u001b[2m\u001b[36m(ClientAppActor pid=1242551)\u001b[0m Epoch 13: Training accuracy: 70.73353576660156 Testing accuracy: 70.05988311767578.\u001b[32m [repeated 25x across cluster]\u001b[0m\n",
      "\u001b[2m\u001b[36m(ClientAppActor pid=1242551)\u001b[0m \u001b[32m [repeated 56x across cluster]\u001b[0m\n",
      "\u001b[2m\u001b[36m(ClientAppActor pid=1242551)\u001b[0m Epoch 55/100\u001b[32m [repeated 56x across cluster]\u001b[0m\n",
      "\u001b[2m\u001b[36m(ClientAppActor pid=1242551)\u001b[0m Epoch 100: Training accuracy: 72.60478973388672 Testing accuracy: 68.26347351074219.\u001b[32m [repeated 94x across cluster]\u001b[0m\n",
      "\u001b[2m\u001b[36m(ClientAppActor pid=1242552)\u001b[0m \u001b[32m [repeated 158x across cluster]\u001b[0m\n",
      "\u001b[2m\u001b[36m(ClientAppActor pid=1242552)\u001b[0m Epoch 24/100\u001b[32m [repeated 158x across cluster]\u001b[0m\n",
      "\u001b[2m\u001b[36m(ClientAppActor pid=1242552)\u001b[0m Epoch 54: Training accuracy: 72.78106689453125 Testing accuracy: 68.0473403930664.\u001b[32m [repeated 142x across cluster]\u001b[0m\n"
     ]
    },
    {
     "name": "stderr",
     "output_type": "stream",
     "text": [
      "\u001b[92mINFO \u001b[0m:      aggregate_fit: received 3 results and 0 failures\n",
      "\u001b[92mINFO \u001b[0m:      fit progress: (4, 0.055276979099620475, {'accuracy': tensor(67.6681, device='cuda:0')}, 224.58658998299506)\n",
      "\u001b[92mINFO \u001b[0m:      configure_evaluate: strategy sampled 1 clients (out of 3)\n",
      "\u001b[92mINFO \u001b[0m:      aggregate_evaluate: received 1 results and 0 failures\n",
      "\u001b[92mINFO \u001b[0m:      \n",
      "\u001b[92mINFO \u001b[0m:      [ROUND 5]\n",
      "\u001b[92mINFO \u001b[0m:      configure_fit: strategy sampled 3 clients (out of 3)\n"
     ]
    },
    {
     "name": "stdout",
     "output_type": "stream",
     "text": [
      "Server-side evaluation loss 0.055276979099620475 / accuracy 67.66809844970703\n",
      "\u001b[2m\u001b[36m(ClientAppActor pid=1242552)\u001b[0m \u001b[32m [repeated 102x across cluster]\u001b[0m\n",
      "\u001b[2m\u001b[36m(ClientAppActor pid=1242552)\u001b[0m Epoch 20/100\u001b[32m [repeated 102x across cluster]\u001b[0m\n",
      "\u001b[2m\u001b[36m(ClientAppActor pid=1242551)\u001b[0m Epoch 11: Training accuracy: 65.68047332763672 Testing accuracy: 60.946746826171875.\u001b[32m [repeated 81x across cluster]\u001b[0m\n",
      "\u001b[2m\u001b[36m(ClientAppActor pid=1242551)\u001b[0m \u001b[32m [repeated 26x across cluster]\u001b[0m\n",
      "\u001b[2m\u001b[36m(ClientAppActor pid=1242551)\u001b[0m Epoch 21/100\u001b[32m [repeated 26x across cluster]\u001b[0m\n",
      "\u001b[2m\u001b[36m(ClientAppActor pid=1242551)\u001b[0m Epoch 23: Training accuracy: 70.63609313964844 Testing accuracy: 66.86390686035156.\u001b[32m [repeated 20x across cluster]\u001b[0m\n",
      "\u001b[2m\u001b[36m(ClientAppActor pid=1242552)\u001b[0m \u001b[32m [repeated 13x across cluster]\u001b[0m\n",
      "\u001b[2m\u001b[36m(ClientAppActor pid=1242552)\u001b[0m Epoch 37/100\u001b[32m [repeated 13x across cluster]\u001b[0m\n",
      "\u001b[2m\u001b[36m(ClientAppActor pid=1242552)\u001b[0m Epoch 40: Training accuracy: 71.556884765625 Testing accuracy: 67.06586456298828.\u001b[32m [repeated 17x across cluster]\u001b[0m\n",
      "\u001b[2m\u001b[36m(ClientAppActor pid=1242552)\u001b[0m \u001b[32m [repeated 16x across cluster]\u001b[0m\n",
      "\u001b[2m\u001b[36m(ClientAppActor pid=1242552)\u001b[0m Epoch 44/100\u001b[32m [repeated 16x across cluster]\u001b[0m\n",
      "\u001b[2m\u001b[36m(ClientAppActor pid=1242552)\u001b[0m Epoch 46: Training accuracy: 72.45509338378906 Testing accuracy: 65.26946258544922.\u001b[32m [repeated 14x across cluster]\u001b[0m\n",
      "\u001b[2m\u001b[36m(ClientAppActor pid=1242552)\u001b[0m \u001b[32m [repeated 15x across cluster]\u001b[0m\n",
      "\u001b[2m\u001b[36m(ClientAppActor pid=1242552)\u001b[0m Epoch 50/100\u001b[32m [repeated 15x across cluster]\u001b[0m\n",
      "\u001b[2m\u001b[36m(ClientAppActor pid=1242551)\u001b[0m Epoch 50: Training accuracy: 75.51775360107422 Testing accuracy: 68.0473403930664.\u001b[32m [repeated 16x across cluster]\u001b[0m\n",
      "\u001b[2m\u001b[36m(ClientAppActor pid=1242552)\u001b[0m \u001b[32m [repeated 18x across cluster]\u001b[0m\n",
      "\u001b[2m\u001b[36m(ClientAppActor pid=1242552)\u001b[0m Epoch 57/100\u001b[32m [repeated 18x across cluster]\u001b[0m\n",
      "\u001b[2m\u001b[36m(ClientAppActor pid=1242551)\u001b[0m Epoch 62: Training accuracy: 74.33432006835938 Testing accuracy: 66.86390686035156.\u001b[32m [repeated 18x across cluster]\u001b[0m\n",
      "\u001b[2m\u001b[36m(ClientAppActor pid=1242551)\u001b[0m \u001b[32m [repeated 16x across cluster]\u001b[0m\n",
      "\u001b[2m\u001b[36m(ClientAppActor pid=1242551)\u001b[0m Epoch 68/100\u001b[32m [repeated 16x across cluster]\u001b[0m\n",
      "\u001b[2m\u001b[36m(ClientAppActor pid=1242551)\u001b[0m Epoch 74: Training accuracy: 70.19230651855469 Testing accuracy: 65.68047332763672.\u001b[32m [repeated 19x across cluster]\u001b[0m\n",
      "\u001b[2m\u001b[36m(ClientAppActor pid=1242551)\u001b[0m \u001b[32m [repeated 18x across cluster]\u001b[0m\n",
      "\u001b[2m\u001b[36m(ClientAppActor pid=1242551)\u001b[0m Epoch 79/100\u001b[32m [repeated 18x across cluster]\u001b[0m\n",
      "\u001b[2m\u001b[36m(ClientAppActor pid=1242552)\u001b[0m Epoch 72: Training accuracy: 73.65269470214844 Testing accuracy: 64.67066192626953.\u001b[32m [repeated 18x across cluster]\u001b[0m\n",
      "\u001b[2m\u001b[36m(ClientAppActor pid=1242551)\u001b[0m \u001b[32m [repeated 18x across cluster]\u001b[0m\n",
      "\u001b[2m\u001b[36m(ClientAppActor pid=1242551)\u001b[0m Epoch 91/100\u001b[32m [repeated 18x across cluster]\u001b[0m\n",
      "\u001b[2m\u001b[36m(ClientAppActor pid=1242551)\u001b[0m Epoch 98: Training accuracy: 76.92308044433594 Testing accuracy: 68.0473403930664.\u001b[32m [repeated 19x across cluster]\u001b[0m\n",
      "\u001b[2m\u001b[36m(ClientAppActor pid=1242551)\u001b[0m \u001b[32m [repeated 18x across cluster]\u001b[0m\n",
      "\u001b[2m\u001b[36m(ClientAppActor pid=1242551)\u001b[0m Epoch 2/100\u001b[32m [repeated 18x across cluster]\u001b[0m\n",
      "\u001b[2m\u001b[36m(ClientAppActor pid=1242551)\u001b[0m Epoch 9: Training accuracy: 73.6378173828125 Testing accuracy: 73.07691955566406.\u001b[32m [repeated 18x across cluster]\u001b[0m\n",
      "\u001b[2m\u001b[36m(ClientAppActor pid=1242551)\u001b[0m \u001b[32m [repeated 19x across cluster]\u001b[0m\n",
      "\u001b[2m\u001b[36m(ClientAppActor pid=1242551)\u001b[0m Epoch 15/100\u001b[32m [repeated 19x across cluster]\u001b[0m\n",
      "\u001b[2m\u001b[36m(ClientAppActor pid=1242551)\u001b[0m Epoch 21: Training accuracy: 75.08013153076172 Testing accuracy: 76.92308044433594.\u001b[32m [repeated 18x across cluster]\u001b[0m\n",
      "\u001b[2m\u001b[36m(ClientAppActor pid=1242551)\u001b[0m \u001b[32m [repeated 20x across cluster]\u001b[0m\n",
      "\u001b[2m\u001b[36m(ClientAppActor pid=1242551)\u001b[0m Epoch 28/100\u001b[32m [repeated 20x across cluster]\u001b[0m\n",
      "\u001b[2m\u001b[36m(ClientAppActor pid=1242552)\u001b[0m Epoch 98: Training accuracy: 75.67365264892578 Testing accuracy: 71.85628509521484.\u001b[32m [repeated 19x across cluster]\u001b[0m\n",
      "\u001b[2m\u001b[36m(ClientAppActor pid=1242551)\u001b[0m \u001b[32m [repeated 19x across cluster]\u001b[0m\n",
      "\u001b[2m\u001b[36m(ClientAppActor pid=1242551)\u001b[0m Epoch 42/100\u001b[32m [repeated 19x across cluster]\u001b[0m\n",
      "\u001b[2m\u001b[36m(ClientAppActor pid=1242551)\u001b[0m Epoch 88: Training accuracy: 77.40384674072266 Testing accuracy: 76.28205108642578.\u001b[32m [repeated 57x across cluster]\u001b[0m\n"
     ]
    },
    {
     "name": "stderr",
     "output_type": "stream",
     "text": [
      "\u001b[92mINFO \u001b[0m:      aggregate_fit: received 3 results and 0 failures\n",
      "\u001b[92mINFO \u001b[0m:      fit progress: (5, 0.05437457019632513, {'accuracy': tensor(67.9542, device='cuda:0')}, 291.52515728300205)\n",
      "\u001b[92mINFO \u001b[0m:      configure_evaluate: strategy sampled 1 clients (out of 3)\n",
      "\u001b[92mINFO \u001b[0m:      aggregate_evaluate: received 1 results and 0 failures\n",
      "\u001b[92mINFO \u001b[0m:      \n",
      "\u001b[92mINFO \u001b[0m:      [ROUND 6]\n",
      "\u001b[92mINFO \u001b[0m:      configure_fit: strategy sampled 3 clients (out of 3)\n"
     ]
    },
    {
     "name": "stdout",
     "output_type": "stream",
     "text": [
      "Server-side evaluation loss 0.05437457019632513 / accuracy 67.9542236328125\n",
      "\u001b[2m\u001b[36m(ClientAppActor pid=1242551)\u001b[0m \u001b[32m [repeated 91x across cluster]\u001b[0m\n",
      "\u001b[2m\u001b[36m(ClientAppActor pid=1242551)\u001b[0m Epoch 29/100\u001b[32m [repeated 91x across cluster]\u001b[0m\n",
      "\u001b[2m\u001b[36m(ClientAppActor pid=1242551)\u001b[0m Epoch 75: Training accuracy: 71.1077880859375 Testing accuracy: 65.8682632446289.\u001b[32m [repeated 95x across cluster]\u001b[0m\n",
      "\u001b[2m\u001b[36m(ClientAppActor pid=1242551)\u001b[0m \u001b[32m [repeated 95x across cluster]\u001b[0m\n",
      "\u001b[2m\u001b[36m(ClientAppActor pid=1242551)\u001b[0m Epoch 14/100\u001b[32m [repeated 95x across cluster]\u001b[0m\n",
      "\u001b[2m\u001b[36m(ClientAppActor pid=1242551)\u001b[0m Epoch 42: Training accuracy: 72.11538696289062 Testing accuracy: 65.68047332763672.\u001b[32m [repeated 76x across cluster]\u001b[0m\n",
      "\u001b[2m\u001b[36m(ClientAppActor pid=1242551)\u001b[0m \u001b[32m [repeated 50x across cluster]\u001b[0m\n",
      "\u001b[2m\u001b[36m(ClientAppActor pid=1242551)\u001b[0m Epoch 57/100\u001b[32m [repeated 50x across cluster]\u001b[0m\n",
      "\u001b[2m\u001b[36m(ClientAppActor pid=1242551)\u001b[0m Epoch 63: Training accuracy: 77.14497375488281 Testing accuracy: 69.23076629638672.\u001b[32m [repeated 27x across cluster]\u001b[0m\n",
      "\u001b[2m\u001b[36m(ClientAppActor pid=1242551)\u001b[0m \u001b[32m [repeated 28x across cluster]\u001b[0m\n",
      "\u001b[2m\u001b[36m(ClientAppActor pid=1242551)\u001b[0m Epoch 79/100\u001b[32m [repeated 28x across cluster]\u001b[0m\n",
      "\u001b[2m\u001b[36m(ClientAppActor pid=1242551)\u001b[0m Epoch 90: Training accuracy: 73.00296020507812 Testing accuracy: 66.27218627929688.\u001b[32m [repeated 34x across cluster]\u001b[0m\n",
      "\u001b[2m\u001b[36m(ClientAppActor pid=1242552)\u001b[0m \u001b[32m [repeated 30x across cluster]\u001b[0m\n",
      "\u001b[2m\u001b[36m(ClientAppActor pid=1242552)\u001b[0m Epoch 36/100\u001b[32m [repeated 30x across cluster]\u001b[0m\n",
      "\u001b[2m\u001b[36m(ClientAppActor pid=1242552)\u001b[0m Epoch 37: Training accuracy: 74.67948913574219 Testing accuracy: 72.43589782714844.\u001b[32m [repeated 17x across cluster]\u001b[0m\n",
      "\u001b[2m\u001b[36m(ClientAppActor pid=1242552)\u001b[0m \u001b[32m [repeated 7x across cluster]\u001b[0m\n",
      "\u001b[2m\u001b[36m(ClientAppActor pid=1242552)\u001b[0m Epoch 43/100\u001b[32m [repeated 7x across cluster]\u001b[0m\n",
      "\u001b[2m\u001b[36m(ClientAppActor pid=1242552)\u001b[0m Epoch 44: Training accuracy: 70.03205108642578 Testing accuracy: 67.94871520996094.\u001b[32m [repeated 7x across cluster]\u001b[0m\n",
      "\u001b[2m\u001b[36m(ClientAppActor pid=1242552)\u001b[0m \u001b[32m [repeated 7x across cluster]\u001b[0m\n",
      "\u001b[2m\u001b[36m(ClientAppActor pid=1242552)\u001b[0m Epoch 50/100\u001b[32m [repeated 7x across cluster]\u001b[0m\n",
      "\u001b[2m\u001b[36m(ClientAppActor pid=1242552)\u001b[0m Epoch 51: Training accuracy: 78.52564239501953 Testing accuracy: 75.64102935791016.\u001b[32m [repeated 7x across cluster]\u001b[0m\n",
      "\u001b[2m\u001b[36m(ClientAppActor pid=1242552)\u001b[0m \u001b[32m [repeated 7x across cluster]\u001b[0m\n",
      "\u001b[2m\u001b[36m(ClientAppActor pid=1242552)\u001b[0m Epoch 57/100\u001b[32m [repeated 7x across cluster]\u001b[0m\n",
      "\u001b[2m\u001b[36m(ClientAppActor pid=1242552)\u001b[0m Epoch 58: Training accuracy: 75.0 Testing accuracy: 73.07691955566406.\u001b[32m [repeated 7x across cluster]\u001b[0m\n",
      "\u001b[2m\u001b[36m(ClientAppActor pid=1242552)\u001b[0m \u001b[32m [repeated 7x across cluster]\u001b[0m\n",
      "\u001b[2m\u001b[36m(ClientAppActor pid=1242552)\u001b[0m Epoch 64/100\u001b[32m [repeated 7x across cluster]\u001b[0m\n",
      "\u001b[2m\u001b[36m(ClientAppActor pid=1242552)\u001b[0m Epoch 64: Training accuracy: 78.44551086425781 Testing accuracy: 75.0.\u001b[32m [repeated 6x across cluster]\u001b[0m\n",
      "\u001b[2m\u001b[36m(ClientAppActor pid=1242552)\u001b[0m \u001b[32m [repeated 9x across cluster]\u001b[0m\n",
      "\u001b[2m\u001b[36m(ClientAppActor pid=1242552)\u001b[0m Epoch 73/100\u001b[32m [repeated 9x across cluster]\u001b[0m\n",
      "\u001b[2m\u001b[36m(ClientAppActor pid=1242552)\u001b[0m Epoch 74: Training accuracy: 78.84615325927734 Testing accuracy: 73.71794891357422.\u001b[32m [repeated 10x across cluster]\u001b[0m\n"
     ]
    },
    {
     "name": "stderr",
     "output_type": "stream",
     "text": [
      "\u001b[92mINFO \u001b[0m:      aggregate_fit: received 3 results and 0 failures\n",
      "\u001b[92mINFO \u001b[0m:      fit progress: (6, 0.05401570688594471, {'accuracy': tensor(67.3820, device='cuda:0')}, 345.001847994994)\n",
      "\u001b[92mINFO \u001b[0m:      configure_evaluate: strategy sampled 1 clients (out of 3)\n",
      "\u001b[92mINFO \u001b[0m:      aggregate_evaluate: received 1 results and 0 failures\n",
      "\u001b[92mINFO \u001b[0m:      \n",
      "\u001b[92mINFO \u001b[0m:      [ROUND 7]\n",
      "\u001b[92mINFO \u001b[0m:      configure_fit: strategy sampled 3 clients (out of 3)\n"
     ]
    },
    {
     "name": "stdout",
     "output_type": "stream",
     "text": [
      "Server-side evaluation loss 0.05401570688594471 / accuracy 67.38197326660156\n",
      "\u001b[2m\u001b[36m(ClientAppActor pid=1242551)\u001b[0m \u001b[32m [repeated 106x across cluster]\u001b[0m\n",
      "\u001b[2m\u001b[36m(ClientAppActor pid=1242551)\u001b[0m Epoch 28/100\u001b[32m [repeated 106x across cluster]\u001b[0m\n",
      "\u001b[2m\u001b[36m(ClientAppActor pid=1242551)\u001b[0m Epoch 35: Training accuracy: 74.25149536132812 Testing accuracy: 70.65868377685547.\u001b[32m [repeated 134x across cluster]\u001b[0m\n",
      "\u001b[2m\u001b[36m(ClientAppActor pid=1242551)\u001b[0m \u001b[32m [repeated 110x across cluster]\u001b[0m\n",
      "\u001b[2m\u001b[36m(ClientAppActor pid=1242551)\u001b[0m Epoch 66/100\u001b[32m [repeated 110x across cluster]\u001b[0m\n",
      "\u001b[2m\u001b[36m(ClientAppActor pid=1242551)\u001b[0m Epoch 68: Training accuracy: 78.59281158447266 Testing accuracy: 71.25748443603516.\u001b[32m [repeated 84x across cluster]\u001b[0m\n",
      "\u001b[2m\u001b[36m(ClientAppActor pid=1242551)\u001b[0m \u001b[32m [repeated 27x across cluster]\u001b[0m\n",
      "\u001b[2m\u001b[36m(ClientAppActor pid=1242551)\u001b[0m Epoch 82/100\u001b[32m [repeated 27x across cluster]\u001b[0m\n",
      "\u001b[2m\u001b[36m(ClientAppActor pid=1242551)\u001b[0m Epoch 84: Training accuracy: 78.29341125488281 Testing accuracy: 72.45509338378906.\u001b[32m [repeated 27x across cluster]\u001b[0m\n",
      "\u001b[2m\u001b[36m(ClientAppActor pid=1242551)\u001b[0m \u001b[32m [repeated 26x across cluster]\u001b[0m\n",
      "\u001b[2m\u001b[36m(ClientAppActor pid=1242551)\u001b[0m Epoch 98/100\u001b[32m [repeated 26x across cluster]\u001b[0m\n",
      "\u001b[2m\u001b[36m(ClientAppActor pid=1242552)\u001b[0m Epoch 46: Training accuracy: 76.28205108642578 Testing accuracy: 75.0.\u001b[32m [repeated 27x across cluster]\u001b[0m\n",
      "\u001b[2m\u001b[36m(ClientAppActor pid=1242552)\u001b[0m \u001b[32m [repeated 14x across cluster]\u001b[0m\n",
      "\u001b[2m\u001b[36m(ClientAppActor pid=1242552)\u001b[0m Epoch 56/100\u001b[32m [repeated 14x across cluster]\u001b[0m\n",
      "\u001b[2m\u001b[36m(ClientAppActor pid=1242552)\u001b[0m Epoch 57: Training accuracy: 79.4871826171875 Testing accuracy: 74.35897064208984.\u001b[32m [repeated 11x across cluster]\u001b[0m\n",
      "\u001b[2m\u001b[36m(ClientAppActor pid=1242552)\u001b[0m \u001b[32m [repeated 11x across cluster]\u001b[0m\n",
      "\u001b[2m\u001b[36m(ClientAppActor pid=1242552)\u001b[0m Epoch 67/100\u001b[32m [repeated 11x across cluster]\u001b[0m\n",
      "\u001b[2m\u001b[36m(ClientAppActor pid=1242552)\u001b[0m Epoch 68: Training accuracy: 77.80448913574219 Testing accuracy: 74.35897064208984.\u001b[32m [repeated 11x across cluster]\u001b[0m\n",
      "\u001b[2m\u001b[36m(ClientAppActor pid=1242552)\u001b[0m \u001b[32m [repeated 8x across cluster]\u001b[0m\n",
      "\u001b[2m\u001b[36m(ClientAppActor pid=1242552)\u001b[0m Epoch 75/100\u001b[32m [repeated 8x across cluster]\u001b[0m\n",
      "\u001b[2m\u001b[36m(ClientAppActor pid=1242552)\u001b[0m Epoch 75: Training accuracy: 81.00961303710938 Testing accuracy: 75.64102935791016.\u001b[32m [repeated 7x across cluster]\u001b[0m\n",
      "\u001b[2m\u001b[36m(ClientAppActor pid=1242552)\u001b[0m \u001b[32m [repeated 7x across cluster]\u001b[0m\n",
      "\u001b[2m\u001b[36m(ClientAppActor pid=1242552)\u001b[0m Epoch 82/100\u001b[32m [repeated 7x across cluster]\u001b[0m\n",
      "\u001b[2m\u001b[36m(ClientAppActor pid=1242552)\u001b[0m Epoch 82: Training accuracy: 79.00640869140625 Testing accuracy: 76.92308044433594.\u001b[32m [repeated 7x across cluster]\u001b[0m\n",
      "\u001b[2m\u001b[36m(ClientAppActor pid=1242552)\u001b[0m \u001b[32m [repeated 7x across cluster]\u001b[0m\n",
      "\u001b[2m\u001b[36m(ClientAppActor pid=1242552)\u001b[0m Epoch 89/100\u001b[32m [repeated 7x across cluster]\u001b[0m\n",
      "\u001b[2m\u001b[36m(ClientAppActor pid=1242552)\u001b[0m Epoch 89: Training accuracy: 79.40705108642578 Testing accuracy: 74.35897064208984.\u001b[32m [repeated 7x across cluster]\u001b[0m\n",
      "\u001b[2m\u001b[36m(ClientAppActor pid=1242552)\u001b[0m \u001b[32m [repeated 8x across cluster]\u001b[0m\n",
      "\u001b[2m\u001b[36m(ClientAppActor pid=1242552)\u001b[0m Epoch 97/100\u001b[32m [repeated 8x across cluster]\u001b[0m\n",
      "\u001b[2m\u001b[36m(ClientAppActor pid=1242552)\u001b[0m Epoch 97: Training accuracy: 77.24359130859375 Testing accuracy: 75.0.\u001b[32m [repeated 8x across cluster]\u001b[0m\n"
     ]
    },
    {
     "name": "stderr",
     "output_type": "stream",
     "text": [
      "\u001b[92mINFO \u001b[0m:      aggregate_fit: received 3 results and 0 failures\n",
      "\u001b[92mINFO \u001b[0m:      fit progress: (7, 0.054223244840448555, {'accuracy': tensor(68.9557, device='cuda:0')}, 398.2140105180006)\n",
      "\u001b[92mINFO \u001b[0m:      configure_evaluate: strategy sampled 1 clients (out of 3)\n"
     ]
    },
    {
     "name": "stdout",
     "output_type": "stream",
     "text": [
      "Server-side evaluation loss 0.054223244840448555 / accuracy 68.95565032958984\n"
     ]
    },
    {
     "name": "stderr",
     "output_type": "stream",
     "text": [
      "\u001b[92mINFO \u001b[0m:      aggregate_evaluate: received 1 results and 0 failures\n",
      "\u001b[92mINFO \u001b[0m:      \n",
      "\u001b[92mINFO \u001b[0m:      [ROUND 8]\n",
      "\u001b[92mINFO \u001b[0m:      configure_fit: strategy sampled 3 clients (out of 3)\n"
     ]
    },
    {
     "name": "stdout",
     "output_type": "stream",
     "text": [
      "\u001b[2m\u001b[36m(ClientAppActor pid=1242551)\u001b[0m \u001b[32m [repeated 7x across cluster]\u001b[0m\n",
      "\u001b[2m\u001b[36m(ClientAppActor pid=1242551)\u001b[0m Epoch 3/100\u001b[32m [repeated 7x across cluster]\u001b[0m\n",
      "\u001b[2m\u001b[36m(ClientAppActor pid=1242551)\u001b[0m Epoch 3: Training accuracy: 72.45509338378906 Testing accuracy: 68.26347351074219.\u001b[32m [repeated 7x across cluster]\u001b[0m\n",
      "\u001b[2m\u001b[36m(ClientAppActor pid=1242551)\u001b[0m \u001b[32m [repeated 17x across cluster]\u001b[0m\n",
      "\u001b[2m\u001b[36m(ClientAppActor pid=1242551)\u001b[0m Epoch 12/100\u001b[32m [repeated 17x across cluster]\u001b[0m\n",
      "\u001b[2m\u001b[36m(ClientAppActor pid=1242551)\u001b[0m Epoch 12: Training accuracy: 74.85029602050781 Testing accuracy: 70.65868377685547.\u001b[32m [repeated 17x across cluster]\u001b[0m\n",
      "\u001b[2m\u001b[36m(ClientAppActor pid=1242551)\u001b[0m \u001b[32m [repeated 17x across cluster]\u001b[0m\n",
      "\u001b[2m\u001b[36m(ClientAppActor pid=1242551)\u001b[0m Epoch 23/100\u001b[32m [repeated 17x across cluster]\u001b[0m\n",
      "\u001b[2m\u001b[36m(ClientAppActor pid=1242551)\u001b[0m Epoch 23: Training accuracy: 76.49700927734375 Testing accuracy: 70.05988311767578.\u001b[32m [repeated 17x across cluster]\u001b[0m\n",
      "\u001b[2m\u001b[36m(ClientAppActor pid=1242551)\u001b[0m \u001b[32m [repeated 23x across cluster]\u001b[0m\n",
      "\u001b[2m\u001b[36m(ClientAppActor pid=1242551)\u001b[0m Epoch 37/100\u001b[32m [repeated 23x across cluster]\u001b[0m\n",
      "\u001b[2m\u001b[36m(ClientAppActor pid=1242551)\u001b[0m Epoch 37: Training accuracy: 75.37425231933594 Testing accuracy: 67.06586456298828.\u001b[32m [repeated 22x across cluster]\u001b[0m\n",
      "\u001b[2m\u001b[36m(ClientAppActor pid=1242551)\u001b[0m \u001b[32m [repeated 20x across cluster]\u001b[0m\n",
      "\u001b[2m\u001b[36m(ClientAppActor pid=1242551)\u001b[0m Epoch 49/100\u001b[32m [repeated 20x across cluster]\u001b[0m\n",
      "\u001b[2m\u001b[36m(ClientAppActor pid=1242552)\u001b[0m Epoch 32: Training accuracy: 76.7628173828125 Testing accuracy: 69.87179565429688.\u001b[32m [repeated 20x across cluster]\u001b[0m\n",
      "\u001b[2m\u001b[36m(ClientAppActor pid=1242551)\u001b[0m \u001b[32m [repeated 21x across cluster]\u001b[0m\n",
      "\u001b[2m\u001b[36m(ClientAppActor pid=1242551)\u001b[0m Epoch 61/100\u001b[32m [repeated 21x across cluster]\u001b[0m\n",
      "\u001b[2m\u001b[36m(ClientAppActor pid=1242551)\u001b[0m Epoch 61: Training accuracy: 78.66766357421875 Testing accuracy: 70.65868377685547.\u001b[32m [repeated 22x across cluster]\u001b[0m\n",
      "\u001b[2m\u001b[36m(ClientAppActor pid=1242552)\u001b[0m \u001b[32m [repeated 26x across cluster]\u001b[0m\n",
      "\u001b[2m\u001b[36m(ClientAppActor pid=1242552)\u001b[0m Epoch 55/100\u001b[32m [repeated 26x across cluster]\u001b[0m\n",
      "\u001b[2m\u001b[36m(ClientAppActor pid=1242551)\u001b[0m Epoch 74: Training accuracy: 76.49700927734375 Testing accuracy: 71.85628509521484.\u001b[32m [repeated 26x across cluster]\u001b[0m\n",
      "\u001b[2m\u001b[36m(ClientAppActor pid=1242551)\u001b[0m \u001b[32m [repeated 85x across cluster]\u001b[0m\n",
      "\u001b[2m\u001b[36m(ClientAppActor pid=1242551)\u001b[0m Epoch 15/100\u001b[32m [repeated 85x across cluster]\u001b[0m\n",
      "\u001b[2m\u001b[36m(ClientAppActor pid=1242551)\u001b[0m Epoch 19: Training accuracy: 77.73668670654297 Testing accuracy: 68.63905334472656.\u001b[32m [repeated 91x across cluster]\u001b[0m\n",
      "\u001b[2m\u001b[36m(ClientAppActor pid=1242551)\u001b[0m \u001b[32m [repeated 50x across cluster]\u001b[0m\n",
      "\u001b[2m\u001b[36m(ClientAppActor pid=1242551)\u001b[0m Epoch 63/100\u001b[32m [repeated 50x across cluster]\u001b[0m\n",
      "\u001b[2m\u001b[36m(ClientAppActor pid=1242551)\u001b[0m Epoch 63: Training accuracy: 79.4378662109375 Testing accuracy: 69.23076629638672.\u001b[32m [repeated 44x across cluster]\u001b[0m\n",
      "\u001b[2m\u001b[36m(ClientAppActor pid=1242551)\u001b[0m \u001b[32m [repeated 11x across cluster]\u001b[0m\n",
      "\u001b[2m\u001b[36m(ClientAppActor pid=1242551)\u001b[0m Epoch 74/100\u001b[32m [repeated 11x across cluster]\u001b[0m\n",
      "\u001b[2m\u001b[36m(ClientAppActor pid=1242551)\u001b[0m Epoch 74: Training accuracy: 78.99407958984375 Testing accuracy: 69.8224868774414.\u001b[32m [repeated 11x across cluster]\u001b[0m\n",
      "\u001b[2m\u001b[36m(ClientAppActor pid=1242551)\u001b[0m \u001b[32m [repeated 9x across cluster]\u001b[0m\n",
      "\u001b[2m\u001b[36m(ClientAppActor pid=1242551)\u001b[0m Epoch 83/100\u001b[32m [repeated 9x across cluster]\u001b[0m\n",
      "\u001b[2m\u001b[36m(ClientAppActor pid=1242551)\u001b[0m Epoch 84: Training accuracy: 78.99407958984375 Testing accuracy: 69.23076629638672.\u001b[32m [repeated 10x across cluster]\u001b[0m\n",
      "\u001b[2m\u001b[36m(ClientAppActor pid=1242551)\u001b[0m \u001b[32m [repeated 8x across cluster]\u001b[0m\n",
      "\u001b[2m\u001b[36m(ClientAppActor pid=1242551)\u001b[0m Epoch 91/100\u001b[32m [repeated 8x across cluster]\u001b[0m\n",
      "\u001b[2m\u001b[36m(ClientAppActor pid=1242551)\u001b[0m Epoch 92: Training accuracy: 74.55621337890625 Testing accuracy: 67.45561981201172.\u001b[32m [repeated 8x across cluster]\u001b[0m\n",
      "\u001b[2m\u001b[36m(ClientAppActor pid=1242551)\u001b[0m \u001b[32m [repeated 9x across cluster]\u001b[0m\n",
      "\u001b[2m\u001b[36m(ClientAppActor pid=1242551)\u001b[0m Epoch 100/100\u001b[32m [repeated 9x across cluster]\u001b[0m\n"
     ]
    },
    {
     "name": "stderr",
     "output_type": "stream",
     "text": [
      "\u001b[92mINFO \u001b[0m:      aggregate_fit: received 3 results and 0 failures\n",
      "\u001b[92mINFO \u001b[0m:      fit progress: (8, 0.05367442152716897, {'accuracy': tensor(68.8126, device='cuda:0')}, 462.87532931999885)\n",
      "\u001b[92mINFO \u001b[0m:      configure_evaluate: strategy sampled 1 clients (out of 3)\n",
      "\u001b[92mINFO \u001b[0m:      aggregate_evaluate: received 1 results and 0 failures\n",
      "\u001b[92mINFO \u001b[0m:      \n",
      "\u001b[92mINFO \u001b[0m:      [ROUND 9]\n",
      "\u001b[92mINFO \u001b[0m:      configure_fit: strategy sampled 3 clients (out of 3)\n"
     ]
    },
    {
     "name": "stdout",
     "output_type": "stream",
     "text": [
      "Server-side evaluation loss 0.05367442152716897 / accuracy 68.81259155273438\n",
      "\u001b[2m\u001b[36m(ClientAppActor pid=1242551)\u001b[0m Epoch 100: Training accuracy: 80.47337341308594 Testing accuracy: 68.63905334472656.\u001b[32m [repeated 8x across cluster]\u001b[0m\n",
      "\u001b[2m\u001b[36m(ClientAppActor pid=1242551)\u001b[0m \u001b[32m [repeated 17x across cluster]\u001b[0m\n",
      "\u001b[2m\u001b[36m(ClientAppActor pid=1242551)\u001b[0m Epoch 11/100\u001b[32m [repeated 17x across cluster]\u001b[0m\n",
      "\u001b[2m\u001b[36m(ClientAppActor pid=1242552)\u001b[0m Epoch 7: Training accuracy: 77.08333587646484 Testing accuracy: 76.92308044433594.\u001b[32m [repeated 18x across cluster]\u001b[0m\n",
      "\u001b[2m\u001b[36m(ClientAppActor pid=1242551)\u001b[0m \u001b[32m [repeated 20x across cluster]\u001b[0m\n",
      "\u001b[2m\u001b[36m(ClientAppActor pid=1242551)\u001b[0m Epoch 24/100\u001b[32m [repeated 20x across cluster]\u001b[0m\n",
      "\u001b[2m\u001b[36m(ClientAppActor pid=1242551)\u001b[0m Epoch 24: Training accuracy: 77.02095794677734 Testing accuracy: 68.26347351074219.\u001b[32m [repeated 19x across cluster]\u001b[0m\n",
      "\u001b[2m\u001b[36m(ClientAppActor pid=1242551)\u001b[0m \u001b[32m [repeated 20x across cluster]\u001b[0m\n",
      "\u001b[2m\u001b[36m(ClientAppActor pid=1242551)\u001b[0m Epoch 37/100\u001b[32m [repeated 20x across cluster]\u001b[0m\n",
      "\u001b[2m\u001b[36m(ClientAppActor pid=1242551)\u001b[0m Epoch 37: Training accuracy: 78.14371490478516 Testing accuracy: 70.65868377685547.\u001b[32m [repeated 20x across cluster]\u001b[0m\n",
      "\u001b[2m\u001b[36m(ClientAppActor pid=1242552)\u001b[0m \u001b[32m [repeated 18x across cluster]\u001b[0m\n",
      "\u001b[2m\u001b[36m(ClientAppActor pid=1242552)\u001b[0m Epoch 27/100\u001b[32m [repeated 18x across cluster]\u001b[0m\n",
      "\u001b[2m\u001b[36m(ClientAppActor pid=1242552)\u001b[0m Epoch 27: Training accuracy: 81.4102554321289 Testing accuracy: 76.28205108642578.\u001b[32m [repeated 19x across cluster]\u001b[0m\n",
      "\u001b[2m\u001b[36m(ClientAppActor pid=1242551)\u001b[0m \u001b[32m [repeated 18x across cluster]\u001b[0m\n",
      "\u001b[2m\u001b[36m(ClientAppActor pid=1242551)\u001b[0m Epoch 60/100\u001b[32m [repeated 18x across cluster]\u001b[0m\n",
      "\u001b[2m\u001b[36m(ClientAppActor pid=1242552)\u001b[0m Epoch 34: Training accuracy: 81.00961303710938 Testing accuracy: 75.64102935791016.\u001b[32m [repeated 18x across cluster]\u001b[0m\n",
      "\u001b[2m\u001b[36m(ClientAppActor pid=1242552)\u001b[0m \u001b[32m [repeated 20x across cluster]\u001b[0m\n",
      "\u001b[2m\u001b[36m(ClientAppActor pid=1242552)\u001b[0m Epoch 41/100\u001b[32m [repeated 20x across cluster]\u001b[0m\n",
      "\u001b[2m\u001b[36m(ClientAppActor pid=1242551)\u001b[0m Epoch 73: Training accuracy: 79.04191589355469 Testing accuracy: 71.25748443603516.\u001b[32m [repeated 19x across cluster]\u001b[0m\n",
      "\u001b[2m\u001b[36m(ClientAppActor pid=1242551)\u001b[0m \u001b[32m [repeated 18x across cluster]\u001b[0m\n",
      "\u001b[2m\u001b[36m(ClientAppActor pid=1242551)\u001b[0m Epoch 84/100\u001b[32m [repeated 18x across cluster]\u001b[0m\n",
      "\u001b[2m\u001b[36m(ClientAppActor pid=1242551)\u001b[0m Epoch 85: Training accuracy: 78.81736755371094 Testing accuracy: 73.65269470214844.\u001b[32m [repeated 19x across cluster]\u001b[0m\n",
      "\u001b[2m\u001b[36m(ClientAppActor pid=1242551)\u001b[0m \u001b[32m [repeated 36x across cluster]\u001b[0m\n",
      "\u001b[2m\u001b[36m(ClientAppActor pid=1242551)\u001b[0m Epoch 14/100\u001b[32m [repeated 36x across cluster]\u001b[0m\n",
      "\u001b[2m\u001b[36m(ClientAppActor pid=1242551)\u001b[0m Epoch 18: Training accuracy: 75.59171295166016 Testing accuracy: 68.0473403930664.\u001b[32m [repeated 40x across cluster]\u001b[0m\n",
      "\u001b[2m\u001b[36m(ClientAppActor pid=1242551)\u001b[0m \u001b[32m [repeated 81x across cluster]\u001b[0m\n",
      "\u001b[2m\u001b[36m(ClientAppActor pid=1242551)\u001b[0m Epoch 84/100\u001b[32m [repeated 81x across cluster]\u001b[0m\n",
      "\u001b[2m\u001b[36m(ClientAppActor pid=1242551)\u001b[0m Epoch 91: Training accuracy: 79.58580017089844 Testing accuracy: 70.41419982910156.\u001b[32m [repeated 83x across cluster]\u001b[0m\n",
      "\u001b[2m\u001b[36m(ClientAppActor pid=1242552)\u001b[0m \u001b[32m [repeated 30x across cluster]\u001b[0m\n",
      "\u001b[2m\u001b[36m(ClientAppActor pid=1242552)\u001b[0m Epoch 78/100\u001b[32m [repeated 30x across cluster]\u001b[0m\n",
      "\u001b[2m\u001b[36m(ClientAppActor pid=1242552)\u001b[0m Epoch 78: Training accuracy: 81.97115325927734 Testing accuracy: 75.64102935791016.\u001b[32m [repeated 23x across cluster]\u001b[0m\n",
      "\u001b[2m\u001b[36m(ClientAppActor pid=1242552)\u001b[0m \u001b[32m [repeated 8x across cluster]\u001b[0m\n",
      "\u001b[2m\u001b[36m(ClientAppActor pid=1242552)\u001b[0m Epoch 86/100\u001b[32m [repeated 8x across cluster]\u001b[0m\n",
      "\u001b[2m\u001b[36m(ClientAppActor pid=1242552)\u001b[0m Epoch 86: Training accuracy: 74.43910217285156 Testing accuracy: 71.79486846923828.\u001b[32m [repeated 8x across cluster]\u001b[0m\n",
      "\u001b[2m\u001b[36m(ClientAppActor pid=1242552)\u001b[0m \u001b[32m [repeated 10x across cluster]\u001b[0m\n",
      "\u001b[2m\u001b[36m(ClientAppActor pid=1242552)\u001b[0m Epoch 96/100\u001b[32m [repeated 10x across cluster]\u001b[0m\n",
      "\u001b[2m\u001b[36m(ClientAppActor pid=1242552)\u001b[0m Epoch 95: Training accuracy: 82.13140869140625 Testing accuracy: 75.64102935791016.\u001b[32m [repeated 9x across cluster]\u001b[0m\n"
     ]
    },
    {
     "name": "stderr",
     "output_type": "stream",
     "text": [
      "\u001b[92mINFO \u001b[0m:      aggregate_fit: received 3 results and 0 failures\n",
      "\u001b[92mINFO \u001b[0m:      fit progress: (9, 0.052951157093048096, {'accuracy': tensor(69.2418, device='cuda:0')}, 528.7246704569989)\n",
      "\u001b[92mINFO \u001b[0m:      configure_evaluate: strategy sampled 1 clients (out of 3)\n"
     ]
    },
    {
     "name": "stdout",
     "output_type": "stream",
     "text": [
      "Server-side evaluation loss 0.052951157093048096 / accuracy 69.24177551269531\n"
     ]
    },
    {
     "name": "stderr",
     "output_type": "stream",
     "text": [
      "\u001b[92mINFO \u001b[0m:      aggregate_evaluate: received 1 results and 0 failures\n",
      "\u001b[92mINFO \u001b[0m:      \n",
      "\u001b[92mINFO \u001b[0m:      [ROUND 10]\n",
      "\u001b[92mINFO \u001b[0m:      configure_fit: strategy sampled 3 clients (out of 3)\n"
     ]
    },
    {
     "name": "stdout",
     "output_type": "stream",
     "text": [
      "\u001b[2m\u001b[36m(ClientAppActor pid=1242551)\u001b[0m \u001b[32m [repeated 13x across cluster]\u001b[0m\n",
      "\u001b[2m\u001b[36m(ClientAppActor pid=1242551)\u001b[0m Epoch 5/100\u001b[32m [repeated 13x across cluster]\u001b[0m\n",
      "\u001b[2m\u001b[36m(ClientAppActor pid=1242551)\u001b[0m Epoch 4: Training accuracy: 72.97904205322266 Testing accuracy: 63.473052978515625.\u001b[32m [repeated 12x across cluster]\u001b[0m\n",
      "\u001b[2m\u001b[36m(ClientAppActor pid=1242551)\u001b[0m \u001b[32m [repeated 30x across cluster]\u001b[0m\n",
      "\u001b[2m\u001b[36m(ClientAppActor pid=1242551)\u001b[0m Epoch 28/100\u001b[32m [repeated 30x across cluster]\u001b[0m\n",
      "\u001b[2m\u001b[36m(ClientAppActor pid=1242551)\u001b[0m Epoch 27: Training accuracy: 77.84431457519531 Testing accuracy: 70.65868377685547.\u001b[32m [repeated 30x across cluster]\u001b[0m\n",
      "\u001b[2m\u001b[36m(ClientAppActor pid=1242551)\u001b[0m \u001b[32m [repeated 37x across cluster]\u001b[0m\n",
      "\u001b[2m\u001b[36m(ClientAppActor pid=1242551)\u001b[0m Epoch 52/100\u001b[32m [repeated 37x across cluster]\u001b[0m\n",
      "\u001b[2m\u001b[36m(ClientAppActor pid=1242551)\u001b[0m Epoch 51: Training accuracy: 78.8922119140625 Testing accuracy: 73.05389404296875.\u001b[32m [repeated 37x across cluster]\u001b[0m\n",
      "\u001b[2m\u001b[36m(ClientAppActor pid=1242551)\u001b[0m \u001b[32m [repeated 35x across cluster]\u001b[0m\n",
      "\u001b[2m\u001b[36m(ClientAppActor pid=1242551)\u001b[0m Epoch 73/100\u001b[32m [repeated 35x across cluster]\u001b[0m\n",
      "\u001b[2m\u001b[36m(ClientAppActor pid=1242551)\u001b[0m Epoch 72: Training accuracy: 78.14371490478516 Testing accuracy: 74.25149536132812.\u001b[32m [repeated 35x across cluster]\u001b[0m\n",
      "\u001b[2m\u001b[36m(ClientAppActor pid=1242551)\u001b[0m \u001b[32m [repeated 56x across cluster]\u001b[0m\n",
      "\u001b[2m\u001b[36m(ClientAppActor pid=1242551)\u001b[0m Epoch 100/100\u001b[32m [repeated 56x across cluster]\u001b[0m\n",
      "\u001b[2m\u001b[36m(ClientAppActor pid=1242551)\u001b[0m Epoch 100: Training accuracy: 76.49700927734375 Testing accuracy: 76.04790496826172.\u001b[32m [repeated 57x across cluster]\u001b[0m\n",
      "\u001b[2m\u001b[36m(ClientAppActor pid=1242551)\u001b[0m \u001b[32m [repeated 60x across cluster]\u001b[0m\n",
      "\u001b[2m\u001b[36m(ClientAppActor pid=1242551)\u001b[0m Epoch 27/100\u001b[32m [repeated 60x across cluster]\u001b[0m\n",
      "\u001b[2m\u001b[36m(ClientAppActor pid=1242551)\u001b[0m Epoch 26: Training accuracy: 74.18639373779297 Testing accuracy: 66.86390686035156.\u001b[32m [repeated 60x across cluster]\u001b[0m\n",
      "\u001b[2m\u001b[36m(ClientAppActor pid=1242551)\u001b[0m \u001b[32m [repeated 15x across cluster]\u001b[0m\n",
      "\u001b[2m\u001b[36m(ClientAppActor pid=1242551)\u001b[0m Epoch 42/100\u001b[32m [repeated 15x across cluster]\u001b[0m\n",
      "\u001b[2m\u001b[36m(ClientAppActor pid=1242551)\u001b[0m Epoch 41: Training accuracy: 76.33135986328125 Testing accuracy: 69.23076629638672.\u001b[32m [repeated 15x across cluster]\u001b[0m\n",
      "\u001b[2m\u001b[36m(ClientAppActor pid=1242551)\u001b[0m \u001b[32m [repeated 15x across cluster]\u001b[0m\n",
      "\u001b[2m\u001b[36m(ClientAppActor pid=1242551)\u001b[0m Epoch 57/100\u001b[32m [repeated 15x across cluster]\u001b[0m\n",
      "\u001b[2m\u001b[36m(ClientAppActor pid=1242551)\u001b[0m Epoch 56: Training accuracy: 79.58580017089844 Testing accuracy: 70.41419982910156.\u001b[32m [repeated 15x across cluster]\u001b[0m\n",
      "\u001b[2m\u001b[36m(ClientAppActor pid=1242551)\u001b[0m \u001b[32m [repeated 8x across cluster]\u001b[0m\n",
      "\u001b[2m\u001b[36m(ClientAppActor pid=1242551)\u001b[0m Epoch 65/100\u001b[32m [repeated 8x across cluster]\u001b[0m\n",
      "\u001b[2m\u001b[36m(ClientAppActor pid=1242551)\u001b[0m Epoch 64: Training accuracy: 78.4023666381836 Testing accuracy: 70.41419982910156.\u001b[32m [repeated 8x across cluster]\u001b[0m\n",
      "\u001b[2m\u001b[36m(ClientAppActor pid=1242551)\u001b[0m \u001b[32m [repeated 9x across cluster]\u001b[0m\n",
      "\u001b[2m\u001b[36m(ClientAppActor pid=1242551)\u001b[0m Epoch 74/100\u001b[32m [repeated 9x across cluster]\u001b[0m\n",
      "\u001b[2m\u001b[36m(ClientAppActor pid=1242551)\u001b[0m Epoch 73: Training accuracy: 80.84319305419922 Testing accuracy: 69.23076629638672.\u001b[32m [repeated 9x across cluster]\u001b[0m\n",
      "\u001b[2m\u001b[36m(ClientAppActor pid=1242551)\u001b[0m \u001b[32m [repeated 8x across cluster]\u001b[0m\n",
      "\u001b[2m\u001b[36m(ClientAppActor pid=1242551)\u001b[0m Epoch 82/100\u001b[32m [repeated 8x across cluster]\u001b[0m\n",
      "\u001b[2m\u001b[36m(ClientAppActor pid=1242551)\u001b[0m Epoch 81: Training accuracy: 72.11538696289062 Testing accuracy: 64.49703979492188.\u001b[32m [repeated 8x across cluster]\u001b[0m\n",
      "\u001b[2m\u001b[36m(ClientAppActor pid=1242551)\u001b[0m \u001b[32m [repeated 9x across cluster]\u001b[0m\n",
      "\u001b[2m\u001b[36m(ClientAppActor pid=1242551)\u001b[0m Epoch 91/100\u001b[32m [repeated 9x across cluster]\u001b[0m\n",
      "\u001b[2m\u001b[36m(ClientAppActor pid=1242551)\u001b[0m Epoch 90: Training accuracy: 80.76923370361328 Testing accuracy: 71.00592041015625.\u001b[32m [repeated 9x across cluster]\u001b[0m\n",
      "\u001b[2m\u001b[36m(ClientAppActor pid=1242551)\u001b[0m \u001b[32m [repeated 9x across cluster]\u001b[0m\n",
      "\u001b[2m\u001b[36m(ClientAppActor pid=1242551)\u001b[0m Epoch 100/100\u001b[32m [repeated 9x across cluster]\u001b[0m\n",
      "\u001b[2m\u001b[36m(ClientAppActor pid=1242551)\u001b[0m Epoch 99: Training accuracy: 80.99112701416016 Testing accuracy: 68.0473403930664.\u001b[32m [repeated 9x across cluster]\u001b[0m\n"
     ]
    },
    {
     "name": "stderr",
     "output_type": "stream",
     "text": [
      "\u001b[92mINFO \u001b[0m:      aggregate_fit: received 3 results and 0 failures\n",
      "\u001b[92mINFO \u001b[0m:      fit progress: (10, 0.05247203328392722, {'accuracy': tensor(69.3848, device='cuda:0')}, 594.4548949759919)\n",
      "\u001b[92mINFO \u001b[0m:      configure_evaluate: strategy sampled 1 clients (out of 3)\n"
     ]
    },
    {
     "name": "stdout",
     "output_type": "stream",
     "text": [
      "Server-side evaluation loss 0.05247203328392722 / accuracy 69.38483428955078\n"
     ]
    },
    {
     "name": "stderr",
     "output_type": "stream",
     "text": [
      "\u001b[92mINFO \u001b[0m:      aggregate_evaluate: received 1 results and 0 failures\n",
      "\u001b[92mINFO \u001b[0m:      \n",
      "\u001b[92mINFO \u001b[0m:      [ROUND 11]\n",
      "\u001b[92mINFO \u001b[0m:      configure_fit: strategy sampled 3 clients (out of 3)\n"
     ]
    },
    {
     "name": "stdout",
     "output_type": "stream",
     "text": [
      "\u001b[2m\u001b[36m(ClientAppActor pid=1242551)\u001b[0m \u001b[32m [repeated 11x across cluster]\u001b[0m\n",
      "\u001b[2m\u001b[36m(ClientAppActor pid=1242551)\u001b[0m Epoch 6/100\u001b[32m [repeated 11x across cluster]\u001b[0m\n",
      "\u001b[2m\u001b[36m(ClientAppActor pid=1242551)\u001b[0m Epoch 5: Training accuracy: 75.14970397949219 Testing accuracy: 72.45509338378906.\u001b[32m [repeated 10x across cluster]\u001b[0m\n",
      "\u001b[2m\u001b[36m(ClientAppActor pid=1242551)\u001b[0m \u001b[32m [repeated 15x across cluster]\u001b[0m\n",
      "\u001b[2m\u001b[36m(ClientAppActor pid=1242551)\u001b[0m Epoch 15/100\u001b[32m [repeated 15x across cluster]\u001b[0m\n",
      "\u001b[2m\u001b[36m(ClientAppActor pid=1242551)\u001b[0m Epoch 14: Training accuracy: 75.67365264892578 Testing accuracy: 66.4670639038086.\u001b[32m [repeated 15x across cluster]\u001b[0m\n",
      "\u001b[2m\u001b[36m(ClientAppActor pid=1242551)\u001b[0m \u001b[32m [repeated 16x across cluster]\u001b[0m\n",
      "\u001b[2m\u001b[36m(ClientAppActor pid=1242551)\u001b[0m Epoch 25/100\u001b[32m [repeated 16x across cluster]\u001b[0m\n",
      "\u001b[2m\u001b[36m(ClientAppActor pid=1242551)\u001b[0m Epoch 24: Training accuracy: 77.84431457519531 Testing accuracy: 72.45509338378906.\u001b[32m [repeated 16x across cluster]\u001b[0m\n",
      "\u001b[2m\u001b[36m(ClientAppActor pid=1242552)\u001b[0m \u001b[32m [repeated 14x across cluster]\u001b[0m\n",
      "\u001b[2m\u001b[36m(ClientAppActor pid=1242552)\u001b[0m Epoch 24/100\u001b[32m [repeated 14x across cluster]\u001b[0m\n",
      "\u001b[2m\u001b[36m(ClientAppActor pid=1242552)\u001b[0m Epoch 23: Training accuracy: 80.39940643310547 Testing accuracy: 69.23076629638672.\u001b[32m [repeated 14x across cluster]\u001b[0m\n",
      "\u001b[2m\u001b[36m(ClientAppActor pid=1242551)\u001b[0m \u001b[32m [repeated 16x across cluster]\u001b[0m\n",
      "\u001b[2m\u001b[36m(ClientAppActor pid=1242551)\u001b[0m Epoch 42/100\u001b[32m [repeated 16x across cluster]\u001b[0m\n",
      "\u001b[2m\u001b[36m(ClientAppActor pid=1242551)\u001b[0m Epoch 41: Training accuracy: 75.82335662841797 Testing accuracy: 64.07185363769531.\u001b[32m [repeated 16x across cluster]\u001b[0m\n",
      "\u001b[2m\u001b[36m(ClientAppActor pid=1242552)\u001b[0m \u001b[32m [repeated 18x across cluster]\u001b[0m\n",
      "\u001b[2m\u001b[36m(ClientAppActor pid=1242552)\u001b[0m Epoch 36/100\u001b[32m [repeated 18x across cluster]\u001b[0m\n",
      "\u001b[2m\u001b[36m(ClientAppActor pid=1242552)\u001b[0m Epoch 35: Training accuracy: 80.62129974365234 Testing accuracy: 68.0473403930664.\u001b[32m [repeated 18x across cluster]\u001b[0m\n",
      "\u001b[2m\u001b[36m(ClientAppActor pid=1242552)\u001b[0m \u001b[32m [repeated 28x across cluster]\u001b[0m\n",
      "\u001b[2m\u001b[36m(ClientAppActor pid=1242552)\u001b[0m Epoch 44/100\u001b[32m [repeated 28x across cluster]\u001b[0m\n",
      "\u001b[2m\u001b[36m(ClientAppActor pid=1242552)\u001b[0m Epoch 43: Training accuracy: 80.84319305419922 Testing accuracy: 68.0473403930664.\u001b[32m [repeated 28x across cluster]\u001b[0m\n",
      "\u001b[2m\u001b[36m(ClientAppActor pid=1242551)\u001b[0m \u001b[32m [repeated 49x across cluster]\u001b[0m\n",
      "\u001b[2m\u001b[36m(ClientAppActor pid=1242551)\u001b[0m Epoch 13/100\u001b[32m [repeated 49x across cluster]\u001b[0m\n",
      "\u001b[2m\u001b[36m(ClientAppActor pid=1242551)\u001b[0m Epoch 12: Training accuracy: 78.44551086425781 Testing accuracy: 76.28205108642578.\u001b[32m [repeated 49x across cluster]\u001b[0m\n",
      "\u001b[2m\u001b[36m(ClientAppActor pid=1242551)\u001b[0m \u001b[32m [repeated 42x across cluster]\u001b[0m\n",
      "\u001b[2m\u001b[36m(ClientAppActor pid=1242551)\u001b[0m Epoch 41/100\u001b[32m [repeated 42x across cluster]\u001b[0m\n",
      "\u001b[2m\u001b[36m(ClientAppActor pid=1242551)\u001b[0m Epoch 40: Training accuracy: 80.76923370361328 Testing accuracy: 75.0.\u001b[32m [repeated 42x across cluster]\u001b[0m\n",
      "\u001b[2m\u001b[36m(ClientAppActor pid=1242552)\u001b[0m \u001b[32m [repeated 49x across cluster]\u001b[0m\n",
      "\u001b[2m\u001b[36m(ClientAppActor pid=1242552)\u001b[0m Epoch 83/100\u001b[32m [repeated 49x across cluster]\u001b[0m\n",
      "\u001b[2m\u001b[36m(ClientAppActor pid=1242552)\u001b[0m Epoch 82: Training accuracy: 81.13905334472656 Testing accuracy: 68.63905334472656.\u001b[32m [repeated 49x across cluster]\u001b[0m\n",
      "\u001b[2m\u001b[36m(ClientAppActor pid=1242551)\u001b[0m \u001b[32m [repeated 21x across cluster]\u001b[0m\n",
      "\u001b[2m\u001b[36m(ClientAppActor pid=1242551)\u001b[0m Epoch 86/100\u001b[32m [repeated 21x across cluster]\u001b[0m\n",
      "\u001b[2m\u001b[36m(ClientAppActor pid=1242551)\u001b[0m Epoch 85: Training accuracy: 82.37179565429688 Testing accuracy: 75.0.\u001b[32m [repeated 21x across cluster]\u001b[0m\n"
     ]
    },
    {
     "name": "stderr",
     "output_type": "stream",
     "text": [
      "\u001b[92mINFO \u001b[0m:      aggregate_fit: received 3 results and 0 failures\n",
      "\u001b[92mINFO \u001b[0m:      fit progress: (11, 0.054149844429709694, {'accuracy': tensor(69.8140, device='cuda:0')}, 654.7559215309884)\n",
      "\u001b[92mINFO \u001b[0m:      configure_evaluate: strategy sampled 1 clients (out of 3)\n",
      "\u001b[92mINFO \u001b[0m:      aggregate_evaluate: received 1 results and 0 failures\n",
      "\u001b[92mINFO \u001b[0m:      \n",
      "\u001b[92mINFO \u001b[0m:      [ROUND 12]\n",
      "\u001b[92mINFO \u001b[0m:      configure_fit: strategy sampled 3 clients (out of 3)\n"
     ]
    },
    {
     "name": "stdout",
     "output_type": "stream",
     "text": [
      "Server-side evaluation loss 0.054149844429709694 / accuracy 69.81401824951172\n",
      "\u001b[2m\u001b[36m(ClientAppActor pid=1242551)\u001b[0m \u001b[32m [repeated 22x across cluster]\u001b[0m\n",
      "\u001b[2m\u001b[36m(ClientAppActor pid=1242551)\u001b[0m Epoch 1/100\u001b[32m [repeated 22x across cluster]\u001b[0m\n",
      "\u001b[2m\u001b[36m(ClientAppActor pid=1242551)\u001b[0m Epoch 100: Training accuracy: 84.29486846923828 Testing accuracy: 78.20513153076172.\u001b[32m [repeated 23x across cluster]\u001b[0m\n",
      "\u001b[2m\u001b[36m(ClientAppActor pid=1242552)\u001b[0m \u001b[32m [repeated 23x across cluster]\u001b[0m\n",
      "\u001b[2m\u001b[36m(ClientAppActor pid=1242552)\u001b[0m Epoch 11/100\u001b[32m [repeated 23x across cluster]\u001b[0m\n",
      "\u001b[2m\u001b[36m(ClientAppActor pid=1242552)\u001b[0m Epoch 10: Training accuracy: 76.7964096069336 Testing accuracy: 73.65269470214844.\u001b[32m [repeated 22x across cluster]\u001b[0m\n",
      "\u001b[2m\u001b[36m(ClientAppActor pid=1242552)\u001b[0m \u001b[32m [repeated 16x across cluster]\u001b[0m\n",
      "\u001b[2m\u001b[36m(ClientAppActor pid=1242552)\u001b[0m Epoch 18/100\u001b[32m [repeated 16x across cluster]\u001b[0m\n",
      "\u001b[2m\u001b[36m(ClientAppActor pid=1242552)\u001b[0m Epoch 17: Training accuracy: 77.39521026611328 Testing accuracy: 67.6646728515625.\u001b[32m [repeated 16x across cluster]\u001b[0m\n",
      "\u001b[2m\u001b[36m(ClientAppActor pid=1242551)\u001b[0m \u001b[32m [repeated 15x across cluster]\u001b[0m\n",
      "\u001b[2m\u001b[36m(ClientAppActor pid=1242551)\u001b[0m Epoch 31/100\u001b[32m [repeated 15x across cluster]\u001b[0m\n",
      "\u001b[2m\u001b[36m(ClientAppActor pid=1242551)\u001b[0m Epoch 30: Training accuracy: 80.62129974365234 Testing accuracy: 68.63905334472656.\u001b[32m [repeated 15x across cluster]\u001b[0m\n",
      "\u001b[2m\u001b[36m(ClientAppActor pid=1242551)\u001b[0m \u001b[32m [repeated 16x across cluster]\u001b[0m\n",
      "\u001b[2m\u001b[36m(ClientAppActor pid=1242551)\u001b[0m Epoch 40/100\u001b[32m [repeated 16x across cluster]\u001b[0m\n",
      "\u001b[2m\u001b[36m(ClientAppActor pid=1242551)\u001b[0m Epoch 39: Training accuracy: 80.99112701416016 Testing accuracy: 68.63905334472656.\u001b[32m [repeated 16x across cluster]\u001b[0m\n",
      "\u001b[2m\u001b[36m(ClientAppActor pid=1242552)\u001b[0m \u001b[32m [repeated 15x across cluster]\u001b[0m\n",
      "\u001b[2m\u001b[36m(ClientAppActor pid=1242552)\u001b[0m Epoch 38/100\u001b[32m [repeated 15x across cluster]\u001b[0m\n",
      "\u001b[2m\u001b[36m(ClientAppActor pid=1242552)\u001b[0m Epoch 37: Training accuracy: 77.47006225585938 Testing accuracy: 72.45509338378906.\u001b[32m [repeated 15x across cluster]\u001b[0m\n",
      "\u001b[2m\u001b[36m(ClientAppActor pid=1242552)\u001b[0m \u001b[32m [repeated 15x across cluster]\u001b[0m\n",
      "\u001b[2m\u001b[36m(ClientAppActor pid=1242552)\u001b[0m Epoch 45/100\u001b[32m [repeated 15x across cluster]\u001b[0m\n",
      "\u001b[2m\u001b[36m(ClientAppActor pid=1242552)\u001b[0m Epoch 44: Training accuracy: 79.56586456298828 Testing accuracy: 72.45509338378906.\u001b[32m [repeated 15x across cluster]\u001b[0m\n",
      "\u001b[2m\u001b[36m(ClientAppActor pid=1242551)\u001b[0m \u001b[32m [repeated 15x across cluster]\u001b[0m\n",
      "\u001b[2m\u001b[36m(ClientAppActor pid=1242551)\u001b[0m Epoch 65/100\u001b[32m [repeated 15x across cluster]\u001b[0m\n",
      "\u001b[2m\u001b[36m(ClientAppActor pid=1242551)\u001b[0m Epoch 64: Training accuracy: 79.2899398803711 Testing accuracy: 71.5976333618164.\u001b[32m [repeated 15x across cluster]\u001b[0m\n",
      "\u001b[2m\u001b[36m(ClientAppActor pid=1242552)\u001b[0m \u001b[32m [repeated 18x across cluster]\u001b[0m\n",
      "\u001b[2m\u001b[36m(ClientAppActor pid=1242552)\u001b[0m Epoch 60/100\u001b[32m [repeated 18x across cluster]\u001b[0m\n",
      "\u001b[2m\u001b[36m(ClientAppActor pid=1242552)\u001b[0m Epoch 59: Training accuracy: 79.49102020263672 Testing accuracy: 73.05389404296875.\u001b[32m [repeated 18x across cluster]\u001b[0m\n",
      "\u001b[2m\u001b[36m(ClientAppActor pid=1242551)\u001b[0m \u001b[32m [repeated 23x across cluster]\u001b[0m\n",
      "\u001b[2m\u001b[36m(ClientAppActor pid=1242551)\u001b[0m Epoch 86/100\u001b[32m [repeated 23x across cluster]\u001b[0m\n",
      "\u001b[2m\u001b[36m(ClientAppActor pid=1242551)\u001b[0m Epoch 85: Training accuracy: 81.65680694580078 Testing accuracy: 71.00592041015625.\u001b[32m [repeated 23x across cluster]\u001b[0m\n",
      "\u001b[2m\u001b[36m(ClientAppActor pid=1242552)\u001b[0m \u001b[32m [repeated 29x across cluster]\u001b[0m\n",
      "\u001b[2m\u001b[36m(ClientAppActor pid=1242552)\u001b[0m Epoch 88/100\u001b[32m [repeated 29x across cluster]\u001b[0m\n",
      "\u001b[2m\u001b[36m(ClientAppActor pid=1242552)\u001b[0m Epoch 87: Training accuracy: 79.34131622314453 Testing accuracy: 73.65269470214844.\u001b[32m [repeated 29x across cluster]\u001b[0m\n",
      "\u001b[2m\u001b[36m(ClientAppActor pid=1242551)\u001b[0m \u001b[32m [repeated 28x across cluster]\u001b[0m\n",
      "\u001b[2m\u001b[36m(ClientAppActor pid=1242551)\u001b[0m Epoch 14/100\u001b[32m [repeated 28x across cluster]\u001b[0m\n",
      "\u001b[2m\u001b[36m(ClientAppActor pid=1242551)\u001b[0m Epoch 13: Training accuracy: 81.0897445678711 Testing accuracy: 73.71794891357422.\u001b[32m [repeated 29x across cluster]\u001b[0m\n",
      "\u001b[2m\u001b[36m(ClientAppActor pid=1242551)\u001b[0m \u001b[32m [repeated 15x across cluster]\u001b[0m\n",
      "\u001b[2m\u001b[36m(ClientAppActor pid=1242551)\u001b[0m Epoch 29/100\u001b[32m [repeated 15x across cluster]\u001b[0m\n",
      "\u001b[2m\u001b[36m(ClientAppActor pid=1242551)\u001b[0m Epoch 28: Training accuracy: 80.84935760498047 Testing accuracy: 75.64102935791016.\u001b[32m [repeated 15x across cluster]\u001b[0m\n",
      "\u001b[2m\u001b[36m(ClientAppActor pid=1242551)\u001b[0m \u001b[32m [repeated 8x across cluster]\u001b[0m\n",
      "\u001b[2m\u001b[36m(ClientAppActor pid=1242551)\u001b[0m Epoch 37/100\u001b[32m [repeated 8x across cluster]\u001b[0m\n",
      "\u001b[2m\u001b[36m(ClientAppActor pid=1242551)\u001b[0m Epoch 36: Training accuracy: 80.76923370361328 Testing accuracy: 75.64102935791016.\u001b[32m [repeated 8x across cluster]\u001b[0m\n",
      "\u001b[2m\u001b[36m(ClientAppActor pid=1242551)\u001b[0m \u001b[32m [repeated 10x across cluster]\u001b[0m\n",
      "\u001b[2m\u001b[36m(ClientAppActor pid=1242551)\u001b[0m Epoch 47/100\u001b[32m [repeated 10x across cluster]\u001b[0m\n",
      "\u001b[2m\u001b[36m(ClientAppActor pid=1242551)\u001b[0m Epoch 46: Training accuracy: 82.6121826171875 Testing accuracy: 75.64102935791016.\u001b[32m [repeated 10x across cluster]\u001b[0m\n",
      "\u001b[2m\u001b[36m(ClientAppActor pid=1242551)\u001b[0m \u001b[32m [repeated 10x across cluster]\u001b[0m\n",
      "\u001b[2m\u001b[36m(ClientAppActor pid=1242551)\u001b[0m Epoch 57/100\u001b[32m [repeated 10x across cluster]\u001b[0m\n",
      "\u001b[2m\u001b[36m(ClientAppActor pid=1242551)\u001b[0m Epoch 56: Training accuracy: 84.13461303710938 Testing accuracy: 77.56410217285156.\u001b[32m [repeated 10x across cluster]\u001b[0m\n",
      "\u001b[2m\u001b[36m(ClientAppActor pid=1242551)\u001b[0m \u001b[32m [repeated 10x across cluster]\u001b[0m\n",
      "\u001b[2m\u001b[36m(ClientAppActor pid=1242551)\u001b[0m Epoch 67/100\u001b[32m [repeated 10x across cluster]\u001b[0m\n",
      "\u001b[2m\u001b[36m(ClientAppActor pid=1242551)\u001b[0m Epoch 66: Training accuracy: 84.29486846923828 Testing accuracy: 75.64102935791016.\u001b[32m [repeated 10x across cluster]\u001b[0m\n",
      "\u001b[2m\u001b[36m(ClientAppActor pid=1242551)\u001b[0m \u001b[32m [repeated 14x across cluster]\u001b[0m\n",
      "\u001b[2m\u001b[36m(ClientAppActor pid=1242551)\u001b[0m Epoch 81/100\u001b[32m [repeated 14x across cluster]\u001b[0m\n",
      "\u001b[2m\u001b[36m(ClientAppActor pid=1242551)\u001b[0m Epoch 80: Training accuracy: 83.65384674072266 Testing accuracy: 76.92308044433594.\u001b[32m [repeated 14x across cluster]\u001b[0m\n",
      "\u001b[2m\u001b[36m(ClientAppActor pid=1242551)\u001b[0m \u001b[32m [repeated 15x across cluster]\u001b[0m\n",
      "\u001b[2m\u001b[36m(ClientAppActor pid=1242551)\u001b[0m Epoch 96/100\u001b[32m [repeated 15x across cluster]\u001b[0m\n",
      "\u001b[2m\u001b[36m(ClientAppActor pid=1242551)\u001b[0m Epoch 95: Training accuracy: 84.29486846923828 Testing accuracy: 75.64102935791016.\u001b[32m [repeated 15x across cluster]\u001b[0m\n"
     ]
    },
    {
     "name": "stderr",
     "output_type": "stream",
     "text": [
      "\u001b[92mINFO \u001b[0m:      aggregate_fit: received 3 results and 0 failures\n",
      "\u001b[92mINFO \u001b[0m:      fit progress: (12, 0.05300327864560214, {'accuracy': tensor(69.5279, device='cuda:0')}, 751.9811937049963)\n",
      "\u001b[92mINFO \u001b[0m:      configure_evaluate: strategy sampled 1 clients (out of 3)\n",
      "\u001b[92mINFO \u001b[0m:      aggregate_evaluate: received 1 results and 0 failures\n",
      "\u001b[92mINFO \u001b[0m:      \n",
      "\u001b[92mINFO \u001b[0m:      [ROUND 13]\n",
      "\u001b[92mINFO \u001b[0m:      configure_fit: strategy sampled 3 clients (out of 3)\n"
     ]
    },
    {
     "name": "stdout",
     "output_type": "stream",
     "text": [
      "Server-side evaluation loss 0.05300327864560214 / accuracy 69.52790069580078\n",
      "\u001b[2m\u001b[36m(ClientAppActor pid=1242552)\u001b[0m \u001b[32m [repeated 19x across cluster]\u001b[0m\n",
      "\u001b[2m\u001b[36m(ClientAppActor pid=1242552)\u001b[0m Epoch 8/100\u001b[32m [repeated 19x across cluster]\u001b[0m\n",
      "\u001b[2m\u001b[36m(ClientAppActor pid=1242552)\u001b[0m Epoch 7: Training accuracy: 80.12820434570312 Testing accuracy: 75.64102935791016.\u001b[32m [repeated 18x across cluster]\u001b[0m\n",
      "\u001b[2m\u001b[36m(ClientAppActor pid=1242552)\u001b[0m \u001b[32m [repeated 23x across cluster]\u001b[0m\n",
      "\u001b[2m\u001b[36m(ClientAppActor pid=1242552)\u001b[0m Epoch 19/100\u001b[32m [repeated 23x across cluster]\u001b[0m\n",
      "\u001b[2m\u001b[36m(ClientAppActor pid=1242552)\u001b[0m Epoch 18: Training accuracy: 81.49038696289062 Testing accuracy: 74.35897064208984.\u001b[32m [repeated 23x across cluster]\u001b[0m\n",
      "\u001b[2m\u001b[36m(ClientAppActor pid=1242551)\u001b[0m \u001b[32m [repeated 87x across cluster]\u001b[0m\n",
      "\u001b[2m\u001b[36m(ClientAppActor pid=1242551)\u001b[0m Epoch 78/100\u001b[32m [repeated 87x across cluster]\u001b[0m\n",
      "\u001b[2m\u001b[36m(ClientAppActor pid=1242551)\u001b[0m Epoch 77: Training accuracy: 80.69526672363281 Testing accuracy: 71.00592041015625.\u001b[32m [repeated 87x across cluster]\u001b[0m\n",
      "\u001b[2m\u001b[36m(ClientAppActor pid=1242551)\u001b[0m \u001b[32m [repeated 146x across cluster]\u001b[0m\n",
      "\u001b[2m\u001b[36m(ClientAppActor pid=1242551)\u001b[0m Epoch 71/100\u001b[32m [repeated 146x across cluster]\u001b[0m\n",
      "\u001b[2m\u001b[36m(ClientAppActor pid=1242551)\u001b[0m Epoch 70: Training accuracy: 74.77545166015625 Testing accuracy: 67.06586456298828.\u001b[32m [repeated 147x across cluster]\u001b[0m\n",
      "\u001b[2m\u001b[36m(ClientAppActor pid=1242551)\u001b[0m \u001b[32m [repeated 21x across cluster]\u001b[0m\n",
      "\u001b[2m\u001b[36m(ClientAppActor pid=1242551)\u001b[0m Epoch 92/100\u001b[32m [repeated 21x across cluster]\u001b[0m\n",
      "\u001b[2m\u001b[36m(ClientAppActor pid=1242551)\u001b[0m Epoch 91: Training accuracy: 79.49102020263672 Testing accuracy: 73.65269470214844.\u001b[32m [repeated 21x across cluster]\u001b[0m\n"
     ]
    },
    {
     "name": "stderr",
     "output_type": "stream",
     "text": [
      "\u001b[92mINFO \u001b[0m:      aggregate_fit: received 3 results and 0 failures\n"
     ]
    },
    {
     "name": "stdout",
     "output_type": "stream",
     "text": [
      "\u001b[2m\u001b[36m(ClientAppActor pid=1242551)\u001b[0m \u001b[32m [repeated 8x across cluster]\u001b[0m\n",
      "\u001b[2m\u001b[36m(ClientAppActor pid=1242551)\u001b[0m Epoch 100/100\u001b[32m [repeated 8x across cluster]\u001b[0m\n",
      "\u001b[2m\u001b[36m(ClientAppActor pid=1242551)\u001b[0m Epoch 100: Training accuracy: 79.94011688232422 Testing accuracy: 72.45509338378906.\u001b[32m [repeated 9x across cluster]\u001b[0m\n"
     ]
    },
    {
     "name": "stderr",
     "output_type": "stream",
     "text": [
      "\u001b[92mINFO \u001b[0m:      fit progress: (13, 0.05440027605403553, {'accuracy': tensor(70.1001, device='cuda:0')}, 781.0183910429914)\n",
      "\u001b[92mINFO \u001b[0m:      configure_evaluate: strategy sampled 1 clients (out of 3)\n"
     ]
    },
    {
     "name": "stdout",
     "output_type": "stream",
     "text": [
      "Server-side evaluation loss 0.05440027605403553 / accuracy 70.10014343261719\n"
     ]
    },
    {
     "name": "stderr",
     "output_type": "stream",
     "text": [
      "\u001b[92mINFO \u001b[0m:      aggregate_evaluate: received 1 results and 0 failures\n",
      "\u001b[92mINFO \u001b[0m:      \n",
      "\u001b[92mINFO \u001b[0m:      [ROUND 14]\n",
      "\u001b[92mINFO \u001b[0m:      configure_fit: strategy sampled 3 clients (out of 3)\n"
     ]
    },
    {
     "name": "stdout",
     "output_type": "stream",
     "text": [
      "\u001b[2m\u001b[36m(ClientAppActor pid=1242551)\u001b[0m \u001b[32m [repeated 16x across cluster]\u001b[0m\n",
      "\u001b[2m\u001b[36m(ClientAppActor pid=1242551)\u001b[0m Epoch 10/100\u001b[32m [repeated 16x across cluster]\u001b[0m\n",
      "\u001b[2m\u001b[36m(ClientAppActor pid=1242551)\u001b[0m Epoch 9: Training accuracy: 77.61975860595703 Testing accuracy: 68.86227416992188.\u001b[32m [repeated 14x across cluster]\u001b[0m\n",
      "\u001b[2m\u001b[36m(ClientAppActor pid=1242551)\u001b[0m \u001b[32m [repeated 14x across cluster]\u001b[0m\n",
      "\u001b[2m\u001b[36m(ClientAppActor pid=1242551)\u001b[0m Epoch 18/100\u001b[32m [repeated 14x across cluster]\u001b[0m\n",
      "\u001b[2m\u001b[36m(ClientAppActor pid=1242551)\u001b[0m Epoch 17: Training accuracy: 76.57185363769531 Testing accuracy: 71.25748443603516.\u001b[32m [repeated 14x across cluster]\u001b[0m\n",
      "\u001b[2m\u001b[36m(ClientAppActor pid=1242551)\u001b[0m \u001b[32m [repeated 16x across cluster]\u001b[0m\n",
      "\u001b[2m\u001b[36m(ClientAppActor pid=1242551)\u001b[0m Epoch 27/100\u001b[32m [repeated 16x across cluster]\u001b[0m\n",
      "\u001b[2m\u001b[36m(ClientAppActor pid=1242551)\u001b[0m Epoch 26: Training accuracy: 78.81736755371094 Testing accuracy: 70.65868377685547.\u001b[32m [repeated 16x across cluster]\u001b[0m\n",
      "\u001b[2m\u001b[36m(ClientAppActor pid=1242552)\u001b[0m \u001b[32m [repeated 16x across cluster]\u001b[0m\n",
      "\u001b[2m\u001b[36m(ClientAppActor pid=1242552)\u001b[0m Epoch 26/100\u001b[32m [repeated 16x across cluster]\u001b[0m\n",
      "\u001b[2m\u001b[36m(ClientAppActor pid=1242552)\u001b[0m Epoch 25: Training accuracy: 81.21302032470703 Testing accuracy: 68.63905334472656.\u001b[32m [repeated 16x across cluster]\u001b[0m\n",
      "\u001b[2m\u001b[36m(ClientAppActor pid=1242552)\u001b[0m \u001b[32m [repeated 13x across cluster]\u001b[0m\n",
      "\u001b[2m\u001b[36m(ClientAppActor pid=1242552)\u001b[0m Epoch 32/100\u001b[32m [repeated 13x across cluster]\u001b[0m\n",
      "\u001b[2m\u001b[36m(ClientAppActor pid=1242552)\u001b[0m Epoch 31: Training accuracy: 81.28697967529297 Testing accuracy: 68.0473403930664.\u001b[32m [repeated 13x across cluster]\u001b[0m\n",
      "\u001b[2m\u001b[36m(ClientAppActor pid=1242551)\u001b[0m \u001b[32m [repeated 16x across cluster]\u001b[0m\n",
      "\u001b[2m\u001b[36m(ClientAppActor pid=1242551)\u001b[0m Epoch 53/100\u001b[32m [repeated 16x across cluster]\u001b[0m\n",
      "\u001b[2m\u001b[36m(ClientAppActor pid=1242551)\u001b[0m Epoch 52: Training accuracy: 79.04191589355469 Testing accuracy: 73.65269470214844.\u001b[32m [repeated 16x across cluster]\u001b[0m\n",
      "\u001b[2m\u001b[36m(ClientAppActor pid=1242551)\u001b[0m \u001b[32m [repeated 15x across cluster]\u001b[0m\n",
      "\u001b[2m\u001b[36m(ClientAppActor pid=1242551)\u001b[0m Epoch 62/100\u001b[32m [repeated 15x across cluster]\u001b[0m\n",
      "\u001b[2m\u001b[36m(ClientAppActor pid=1242551)\u001b[0m Epoch 61: Training accuracy: 80.23951721191406 Testing accuracy: 74.85029602050781.\u001b[32m [repeated 15x across cluster]\u001b[0m\n",
      "\u001b[2m\u001b[36m(ClientAppActor pid=1242551)\u001b[0m \u001b[32m [repeated 15x across cluster]\u001b[0m\n",
      "\u001b[2m\u001b[36m(ClientAppActor pid=1242551)\u001b[0m Epoch 70/100\u001b[32m [repeated 15x across cluster]\u001b[0m\n",
      "\u001b[2m\u001b[36m(ClientAppActor pid=1242551)\u001b[0m Epoch 69: Training accuracy: 78.14371490478516 Testing accuracy: 73.05389404296875.\u001b[32m [repeated 15x across cluster]\u001b[0m\n",
      "\u001b[2m\u001b[36m(ClientAppActor pid=1242552)\u001b[0m \u001b[32m [repeated 15x across cluster]\u001b[0m\n",
      "\u001b[2m\u001b[36m(ClientAppActor pid=1242552)\u001b[0m Epoch 57/100\u001b[32m [repeated 15x across cluster]\u001b[0m\n",
      "\u001b[2m\u001b[36m(ClientAppActor pid=1242552)\u001b[0m Epoch 56: Training accuracy: 81.65680694580078 Testing accuracy: 71.00592041015625.\u001b[32m [repeated 15x across cluster]\u001b[0m\n",
      "\u001b[2m\u001b[36m(ClientAppActor pid=1242551)\u001b[0m \u001b[32m [repeated 18x across cluster]\u001b[0m\n",
      "\u001b[2m\u001b[36m(ClientAppActor pid=1242551)\u001b[0m Epoch 91/100\u001b[32m [repeated 18x across cluster]\u001b[0m\n",
      "\u001b[2m\u001b[36m(ClientAppActor pid=1242551)\u001b[0m Epoch 90: Training accuracy: 79.94011688232422 Testing accuracy: 74.85029602050781.\u001b[32m [repeated 18x across cluster]\u001b[0m\n",
      "\u001b[2m\u001b[36m(ClientAppActor pid=1242551)\u001b[0m \u001b[32m [repeated 25x across cluster]\u001b[0m\n",
      "\u001b[2m\u001b[36m(ClientAppActor pid=1242551)\u001b[0m Epoch 8/100\u001b[32m [repeated 25x across cluster]\u001b[0m\n",
      "\u001b[2m\u001b[36m(ClientAppActor pid=1242551)\u001b[0m Epoch 7: Training accuracy: 77.08333587646484 Testing accuracy: 72.43589782714844.\u001b[32m [repeated 25x across cluster]\u001b[0m\n",
      "\u001b[2m\u001b[36m(ClientAppActor pid=1242551)\u001b[0m \u001b[32m [repeated 30x across cluster]\u001b[0m\n",
      "\u001b[2m\u001b[36m(ClientAppActor pid=1242551)\u001b[0m Epoch 28/100\u001b[32m [repeated 30x across cluster]\u001b[0m\n",
      "\u001b[2m\u001b[36m(ClientAppActor pid=1242551)\u001b[0m Epoch 27: Training accuracy: 82.21154022216797 Testing accuracy: 74.35897064208984.\u001b[32m [repeated 30x across cluster]\u001b[0m\n",
      "\u001b[2m\u001b[36m(ClientAppActor pid=1242552)\u001b[0m \u001b[32m [repeated 82x across cluster]\u001b[0m\n",
      "\u001b[2m\u001b[36m(ClientAppActor pid=1242552)\u001b[0m Epoch 91/100\u001b[32m [repeated 82x across cluster]\u001b[0m\n",
      "\u001b[2m\u001b[36m(ClientAppActor pid=1242552)\u001b[0m Epoch 90: Training accuracy: 78.99407958984375 Testing accuracy: 71.00592041015625.\u001b[32m [repeated 83x across cluster]\u001b[0m\n",
      "\u001b[2m\u001b[36m(ClientAppActor pid=1242552)\u001b[0m \u001b[32m [repeated 7x across cluster]\u001b[0m\n",
      "\u001b[2m\u001b[36m(ClientAppActor pid=1242552)\u001b[0m Epoch 98/100\u001b[32m [repeated 7x across cluster]\u001b[0m\n",
      "\u001b[2m\u001b[36m(ClientAppActor pid=1242552)\u001b[0m Epoch 97: Training accuracy: 81.58283996582031 Testing accuracy: 71.5976333618164.\u001b[32m [repeated 7x across cluster]\u001b[0m\n"
     ]
    },
    {
     "name": "stderr",
     "output_type": "stream",
     "text": [
      "\u001b[92mINFO \u001b[0m:      aggregate_fit: received 3 results and 0 failures\n",
      "\u001b[92mINFO \u001b[0m:      fit progress: (14, 0.053941309452056885, {'accuracy': tensor(70.3863, device='cuda:0')}, 856.7075049099949)\n",
      "\u001b[92mINFO \u001b[0m:      configure_evaluate: strategy sampled 1 clients (out of 3)\n"
     ]
    },
    {
     "name": "stdout",
     "output_type": "stream",
     "text": [
      "Server-side evaluation loss 0.053941309452056885 / accuracy 70.38626861572266\n"
     ]
    },
    {
     "name": "stderr",
     "output_type": "stream",
     "text": [
      "\u001b[92mINFO \u001b[0m:      aggregate_evaluate: received 1 results and 0 failures\n",
      "\u001b[92mINFO \u001b[0m:      \n",
      "\u001b[92mINFO \u001b[0m:      [ROUND 15]\n",
      "\u001b[92mINFO \u001b[0m:      configure_fit: strategy sampled 3 clients (out of 3)\n"
     ]
    },
    {
     "name": "stdout",
     "output_type": "stream",
     "text": [
      "\u001b[2m\u001b[36m(ClientAppActor pid=1242551)\u001b[0m \u001b[32m [repeated 11x across cluster]\u001b[0m\n",
      "\u001b[2m\u001b[36m(ClientAppActor pid=1242551)\u001b[0m Epoch 6/100\u001b[32m [repeated 11x across cluster]\u001b[0m\n",
      "\u001b[2m\u001b[36m(ClientAppActor pid=1242551)\u001b[0m Epoch 5: Training accuracy: 78.18047332763672 Testing accuracy: 69.8224868774414.\u001b[32m [repeated 10x across cluster]\u001b[0m\n",
      "\u001b[2m\u001b[36m(ClientAppActor pid=1242552)\u001b[0m \u001b[32m [repeated 29x across cluster]\u001b[0m\n",
      "\u001b[2m\u001b[36m(ClientAppActor pid=1242552)\u001b[0m Epoch 12/100\u001b[32m [repeated 29x across cluster]\u001b[0m\n",
      "\u001b[2m\u001b[36m(ClientAppActor pid=1242552)\u001b[0m Epoch 11: Training accuracy: 77.69461059570312 Testing accuracy: 68.26347351074219.\u001b[32m [repeated 29x across cluster]\u001b[0m\n",
      "\u001b[2m\u001b[36m(ClientAppActor pid=1242552)\u001b[0m \u001b[32m [repeated 29x across cluster]\u001b[0m\n",
      "\u001b[2m\u001b[36m(ClientAppActor pid=1242552)\u001b[0m Epoch 21/100\u001b[32m [repeated 29x across cluster]\u001b[0m\n",
      "\u001b[2m\u001b[36m(ClientAppActor pid=1242552)\u001b[0m Epoch 20: Training accuracy: 79.41616821289062 Testing accuracy: 72.45509338378906.\u001b[32m [repeated 29x across cluster]\u001b[0m\n",
      "\u001b[2m\u001b[36m(ClientAppActor pid=1242551)\u001b[0m \u001b[32m [repeated 26x across cluster]\u001b[0m\n",
      "\u001b[2m\u001b[36m(ClientAppActor pid=1242551)\u001b[0m Epoch 65/100\u001b[32m [repeated 26x across cluster]\u001b[0m\n",
      "\u001b[2m\u001b[36m(ClientAppActor pid=1242551)\u001b[0m Epoch 64: Training accuracy: 80.10355377197266 Testing accuracy: 71.5976333618164.\u001b[32m [repeated 26x across cluster]\u001b[0m\n",
      "\u001b[2m\u001b[36m(ClientAppActor pid=1242551)\u001b[0m \u001b[32m [repeated 29x across cluster]\u001b[0m\n",
      "\u001b[2m\u001b[36m(ClientAppActor pid=1242551)\u001b[0m Epoch 85/100\u001b[32m [repeated 29x across cluster]\u001b[0m\n",
      "\u001b[2m\u001b[36m(ClientAppActor pid=1242551)\u001b[0m Epoch 84: Training accuracy: 80.69526672363281 Testing accuracy: 71.00592041015625.\u001b[32m [repeated 29x across cluster]\u001b[0m\n",
      "\u001b[2m\u001b[36m(ClientAppActor pid=1242551)\u001b[0m \u001b[32m [repeated 28x across cluster]\u001b[0m\n",
      "\u001b[2m\u001b[36m(ClientAppActor pid=1242551)\u001b[0m Epoch 3/100\u001b[32m [repeated 28x across cluster]\u001b[0m\n",
      "\u001b[2m\u001b[36m(ClientAppActor pid=1242551)\u001b[0m Epoch 2: Training accuracy: 79.00640869140625 Testing accuracy: 75.0.\u001b[32m [repeated 28x across cluster]\u001b[0m\n",
      "\u001b[2m\u001b[36m(ClientAppActor pid=1242551)\u001b[0m \u001b[32m [repeated 85x across cluster]\u001b[0m\n",
      "\u001b[2m\u001b[36m(ClientAppActor pid=1242551)\u001b[0m Epoch 69/100\u001b[32m [repeated 85x across cluster]\u001b[0m\n",
      "\u001b[2m\u001b[36m(ClientAppActor pid=1242551)\u001b[0m Epoch 68: Training accuracy: 85.01602935791016 Testing accuracy: 75.64102935791016.\u001b[32m [repeated 85x across cluster]\u001b[0m\n"
     ]
    },
    {
     "name": "stderr",
     "output_type": "stream",
     "text": [
      "\u001b[92mINFO \u001b[0m:      aggregate_fit: received 3 results and 0 failures\n",
      "\u001b[92mINFO \u001b[0m:      fit progress: (15, 0.051986401731317695, {'accuracy': tensor(70.1001, device='cuda:0')}, 895.2734782629996)\n",
      "\u001b[92mINFO \u001b[0m:      configure_evaluate: strategy sampled 1 clients (out of 3)\n",
      "\u001b[92mINFO \u001b[0m:      aggregate_evaluate: received 1 results and 0 failures\n",
      "\u001b[92mINFO \u001b[0m:      \n",
      "\u001b[92mINFO \u001b[0m:      [ROUND 16]\n",
      "\u001b[92mINFO \u001b[0m:      configure_fit: strategy sampled 3 clients (out of 3)\n"
     ]
    },
    {
     "name": "stdout",
     "output_type": "stream",
     "text": [
      "\u001b[2m\u001b[36m(ClientAppActor pid=1242552)\u001b[0m \u001b[32m [repeated 65x across cluster]\u001b[0m\n",
      "\u001b[2m\u001b[36m(ClientAppActor pid=1242552)\u001b[0m Epoch 100/100\u001b[32m [repeated 65x across cluster]\u001b[0m\n",
      "\u001b[2m\u001b[36m(ClientAppActor pid=1242552)\u001b[0m Epoch 99: Training accuracy: 80.0898208618164 Testing accuracy: 74.85029602050781.\u001b[32m [repeated 66x across cluster]\u001b[0m\n",
      "Server-side evaluation loss 0.051986401731317695 / accuracy 70.10014343261719\n",
      "\u001b[2m\u001b[36m(ClientAppActor pid=1242551)\u001b[0m \u001b[32m [repeated 56x across cluster]\u001b[0m\n",
      "\u001b[2m\u001b[36m(ClientAppActor pid=1242551)\u001b[0m Epoch 42/100\u001b[32m [repeated 56x across cluster]\u001b[0m\n",
      "\u001b[2m\u001b[36m(ClientAppActor pid=1242551)\u001b[0m Epoch 41: Training accuracy: 81.58283996582031 Testing accuracy: 71.00592041015625.\u001b[32m [repeated 55x across cluster]\u001b[0m\n",
      "\u001b[2m\u001b[36m(ClientAppActor pid=1242551)\u001b[0m \u001b[32m [repeated 36x across cluster]\u001b[0m\n",
      "\u001b[2m\u001b[36m(ClientAppActor pid=1242551)\u001b[0m Epoch 64/100\u001b[32m [repeated 36x across cluster]\u001b[0m\n",
      "\u001b[2m\u001b[36m(ClientAppActor pid=1242551)\u001b[0m Epoch 63: Training accuracy: 81.28697967529297 Testing accuracy: 71.5976333618164.\u001b[32m [repeated 36x across cluster]\u001b[0m\n",
      "\u001b[2m\u001b[36m(ClientAppActor pid=1242551)\u001b[0m \u001b[32m [repeated 36x across cluster]\u001b[0m\n",
      "\u001b[2m\u001b[36m(ClientAppActor pid=1242551)\u001b[0m Epoch 87/100\u001b[32m [repeated 36x across cluster]\u001b[0m\n",
      "\u001b[2m\u001b[36m(ClientAppActor pid=1242551)\u001b[0m Epoch 86: Training accuracy: 79.21597290039062 Testing accuracy: 71.5976333618164.\u001b[32m [repeated 36x across cluster]\u001b[0m\n",
      "\u001b[2m\u001b[36m(ClientAppActor pid=1242552)\u001b[0m \u001b[32m [repeated 36x across cluster]\u001b[0m\n",
      "\u001b[2m\u001b[36m(ClientAppActor pid=1242552)\u001b[0m Epoch 58/100\u001b[32m [repeated 36x across cluster]\u001b[0m\n",
      "\u001b[2m\u001b[36m(ClientAppActor pid=1242552)\u001b[0m Epoch 57: Training accuracy: 84.61538696289062 Testing accuracy: 78.84615325927734.\u001b[32m [repeated 36x across cluster]\u001b[0m\n",
      "\u001b[2m\u001b[36m(ClientAppActor pid=1242551)\u001b[0m \u001b[32m [repeated 19x across cluster]\u001b[0m\n",
      "\u001b[2m\u001b[36m(ClientAppActor pid=1242551)\u001b[0m Epoch 17/100\u001b[32m [repeated 19x across cluster]\u001b[0m\n",
      "\u001b[2m\u001b[36m(ClientAppActor pid=1242551)\u001b[0m Epoch 16: Training accuracy: 77.32035827636719 Testing accuracy: 71.25748443603516.\u001b[32m [repeated 19x across cluster]\u001b[0m\n",
      "\u001b[2m\u001b[36m(ClientAppActor pid=1242551)\u001b[0m \u001b[32m [repeated 15x across cluster]\u001b[0m\n",
      "\u001b[2m\u001b[36m(ClientAppActor pid=1242551)\u001b[0m Epoch 25/100\u001b[32m [repeated 15x across cluster]\u001b[0m\n",
      "\u001b[2m\u001b[36m(ClientAppActor pid=1242551)\u001b[0m Epoch 24: Training accuracy: 80.1646728515625 Testing accuracy: 73.05389404296875.\u001b[32m [repeated 15x across cluster]\u001b[0m\n",
      "\u001b[2m\u001b[36m(ClientAppActor pid=1242551)\u001b[0m \u001b[32m [repeated 16x across cluster]\u001b[0m\n",
      "\u001b[2m\u001b[36m(ClientAppActor pid=1242551)\u001b[0m Epoch 34/100\u001b[32m [repeated 16x across cluster]\u001b[0m\n",
      "\u001b[2m\u001b[36m(ClientAppActor pid=1242551)\u001b[0m Epoch 33: Training accuracy: 79.71556854248047 Testing accuracy: 74.85029602050781.\u001b[32m [repeated 16x across cluster]\u001b[0m\n",
      "\u001b[2m\u001b[36m(ClientAppActor pid=1242552)\u001b[0m \u001b[32m [repeated 16x across cluster]\u001b[0m\n",
      "\u001b[2m\u001b[36m(ClientAppActor pid=1242552)\u001b[0m Epoch 88/100\u001b[32m [repeated 16x across cluster]\u001b[0m\n",
      "\u001b[2m\u001b[36m(ClientAppActor pid=1242552)\u001b[0m Epoch 87: Training accuracy: 84.61538696289062 Testing accuracy: 75.0.\u001b[32m [repeated 16x across cluster]\u001b[0m\n",
      "\u001b[2m\u001b[36m(ClientAppActor pid=1242552)\u001b[0m \u001b[32m [repeated 14x across cluster]\u001b[0m\n",
      "\u001b[2m\u001b[36m(ClientAppActor pid=1242552)\u001b[0m Epoch 94/100\u001b[32m [repeated 14x across cluster]\u001b[0m\n",
      "\u001b[2m\u001b[36m(ClientAppActor pid=1242552)\u001b[0m Epoch 93: Training accuracy: 84.61538696289062 Testing accuracy: 75.64102935791016.\u001b[32m [repeated 14x across cluster]\u001b[0m\n",
      "\u001b[2m\u001b[36m(ClientAppActor pid=1242551)\u001b[0m \u001b[32m [repeated 17x across cluster]\u001b[0m\n",
      "\u001b[2m\u001b[36m(ClientAppActor pid=1242551)\u001b[0m Epoch 61/100\u001b[32m [repeated 17x across cluster]\u001b[0m\n",
      "\u001b[2m\u001b[36m(ClientAppActor pid=1242551)\u001b[0m Epoch 60: Training accuracy: 76.94610595703125 Testing accuracy: 72.45509338378906.\u001b[32m [repeated 18x across cluster]\u001b[0m\n",
      "\u001b[2m\u001b[36m(ClientAppActor pid=1242551)\u001b[0m \u001b[32m [repeated 13x across cluster]\u001b[0m\n",
      "\u001b[2m\u001b[36m(ClientAppActor pid=1242551)\u001b[0m Epoch 74/100\u001b[32m [repeated 13x across cluster]\u001b[0m\n",
      "\u001b[2m\u001b[36m(ClientAppActor pid=1242551)\u001b[0m Epoch 73: Training accuracy: 80.98802185058594 Testing accuracy: 76.04790496826172.\u001b[32m [repeated 13x across cluster]\u001b[0m\n",
      "\u001b[2m\u001b[36m(ClientAppActor pid=1242551)\u001b[0m \u001b[32m [repeated 14x across cluster]\u001b[0m\n",
      "\u001b[2m\u001b[36m(ClientAppActor pid=1242551)\u001b[0m Epoch 88/100\u001b[32m [repeated 14x across cluster]\u001b[0m\n",
      "\u001b[2m\u001b[36m(ClientAppActor pid=1242551)\u001b[0m Epoch 87: Training accuracy: 81.13772583007812 Testing accuracy: 77.84431457519531.\u001b[32m [repeated 14x across cluster]\u001b[0m\n"
     ]
    },
    {
     "name": "stderr",
     "output_type": "stream",
     "text": [
      "\u001b[92mINFO \u001b[0m:      aggregate_fit: received 3 results and 0 failures\n",
      "\u001b[92mINFO \u001b[0m:      fit progress: (16, 0.052389004013755104, {'accuracy': tensor(69.9571, device='cuda:0')}, 961.7428475929919)\n",
      "\u001b[92mINFO \u001b[0m:      configure_evaluate: strategy sampled 1 clients (out of 3)\n",
      "\u001b[92mINFO \u001b[0m:      aggregate_evaluate: received 1 results and 0 failures\n",
      "\u001b[92mINFO \u001b[0m:      \n",
      "\u001b[92mINFO \u001b[0m:      [ROUND 17]\n",
      "\u001b[92mINFO \u001b[0m:      configure_fit: strategy sampled 3 clients (out of 3)\n"
     ]
    },
    {
     "name": "stdout",
     "output_type": "stream",
     "text": [
      "Server-side evaluation loss 0.052389004013755104 / accuracy 69.95708465576172\n",
      "\u001b[2m\u001b[36m(ClientAppActor pid=1242551)\u001b[0m \u001b[32m [repeated 19x across cluster]\u001b[0m\n",
      "\u001b[2m\u001b[36m(ClientAppActor pid=1242551)\u001b[0m Epoch 4/100\u001b[32m [repeated 19x across cluster]\u001b[0m\n",
      "\u001b[2m\u001b[36m(ClientAppActor pid=1242551)\u001b[0m Epoch 3: Training accuracy: 76.47928619384766 Testing accuracy: 71.00592041015625.\u001b[32m [repeated 18x across cluster]\u001b[0m\n",
      "\u001b[2m\u001b[36m(ClientAppActor pid=1242551)\u001b[0m \u001b[32m [repeated 19x across cluster]\u001b[0m\n",
      "\u001b[2m\u001b[36m(ClientAppActor pid=1242551)\u001b[0m Epoch 13/100\u001b[32m [repeated 19x across cluster]\u001b[0m\n",
      "\u001b[2m\u001b[36m(ClientAppActor pid=1242551)\u001b[0m Epoch 12: Training accuracy: 79.80769348144531 Testing accuracy: 70.41419982910156.\u001b[32m [repeated 19x across cluster]\u001b[0m\n",
      "\u001b[2m\u001b[36m(ClientAppActor pid=1242552)\u001b[0m \u001b[32m [repeated 23x across cluster]\u001b[0m\n",
      "\u001b[2m\u001b[36m(ClientAppActor pid=1242552)\u001b[0m Epoch 28/100\u001b[32m [repeated 23x across cluster]\u001b[0m\n",
      "\u001b[2m\u001b[36m(ClientAppActor pid=1242552)\u001b[0m Epoch 27: Training accuracy: 84.29486846923828 Testing accuracy: 80.12820434570312.\u001b[32m [repeated 23x across cluster]\u001b[0m\n",
      "\u001b[2m\u001b[36m(ClientAppActor pid=1242552)\u001b[0m \u001b[32m [repeated 22x across cluster]\u001b[0m\n",
      "\u001b[2m\u001b[36m(ClientAppActor pid=1242552)\u001b[0m Epoch 41/100\u001b[32m [repeated 22x across cluster]\u001b[0m\n",
      "\u001b[2m\u001b[36m(ClientAppActor pid=1242552)\u001b[0m Epoch 40: Training accuracy: 85.09615325927734 Testing accuracy: 77.56410217285156.\u001b[32m [repeated 22x across cluster]\u001b[0m\n",
      "\u001b[2m\u001b[36m(ClientAppActor pid=1242552)\u001b[0m \u001b[32m [repeated 21x across cluster]\u001b[0m\n",
      "\u001b[2m\u001b[36m(ClientAppActor pid=1242552)\u001b[0m Epoch 55/100\u001b[32m [repeated 21x across cluster]\u001b[0m\n",
      "\u001b[2m\u001b[36m(ClientAppActor pid=1242552)\u001b[0m Epoch 54: Training accuracy: 84.93589782714844 Testing accuracy: 78.20513153076172.\u001b[32m [repeated 21x across cluster]\u001b[0m\n",
      "\u001b[2m\u001b[36m(ClientAppActor pid=1242551)\u001b[0m \u001b[32m [repeated 20x across cluster]\u001b[0m\n",
      "\u001b[2m\u001b[36m(ClientAppActor pid=1242551)\u001b[0m Epoch 47/100\u001b[32m [repeated 20x across cluster]\u001b[0m\n",
      "\u001b[2m\u001b[36m(ClientAppActor pid=1242551)\u001b[0m Epoch 46: Training accuracy: 81.87870025634766 Testing accuracy: 71.5976333618164.\u001b[32m [repeated 20x across cluster]\u001b[0m\n",
      "\u001b[2m\u001b[36m(ClientAppActor pid=1242551)\u001b[0m \u001b[32m [repeated 24x across cluster]\u001b[0m\n",
      "\u001b[2m\u001b[36m(ClientAppActor pid=1242551)\u001b[0m Epoch 58/100\u001b[32m [repeated 24x across cluster]\u001b[0m\n",
      "\u001b[2m\u001b[36m(ClientAppActor pid=1242551)\u001b[0m Epoch 57: Training accuracy: 81.28697967529297 Testing accuracy: 69.8224868774414.\u001b[32m [repeated 24x across cluster]\u001b[0m\n",
      "\u001b[2m\u001b[36m(ClientAppActor pid=1242552)\u001b[0m \u001b[32m [repeated 31x across cluster]\u001b[0m\n",
      "\u001b[2m\u001b[36m(ClientAppActor pid=1242552)\u001b[0m Epoch 92/100\u001b[32m [repeated 31x across cluster]\u001b[0m\n",
      "\u001b[2m\u001b[36m(ClientAppActor pid=1242552)\u001b[0m Epoch 91: Training accuracy: 84.77564239501953 Testing accuracy: 75.0.\u001b[32m [repeated 31x across cluster]\u001b[0m\n",
      "\u001b[2m\u001b[36m(ClientAppActor pid=1242552)\u001b[0m \u001b[32m [repeated 37x across cluster]\u001b[0m\n",
      "\u001b[2m\u001b[36m(ClientAppActor pid=1242552)\u001b[0m Epoch 10/100\u001b[32m [repeated 37x across cluster]\u001b[0m\n",
      "\u001b[2m\u001b[36m(ClientAppActor pid=1242552)\u001b[0m Epoch 9: Training accuracy: 75.74850463867188 Testing accuracy: 70.05988311767578.\u001b[32m [repeated 37x across cluster]\u001b[0m\n",
      "\u001b[2m\u001b[36m(ClientAppActor pid=1242552)\u001b[0m \u001b[32m [repeated 23x across cluster]\u001b[0m\n",
      "\u001b[2m\u001b[36m(ClientAppActor pid=1242552)\u001b[0m Epoch 27/100\u001b[32m [repeated 23x across cluster]\u001b[0m\n",
      "\u001b[2m\u001b[36m(ClientAppActor pid=1242552)\u001b[0m Epoch 26: Training accuracy: 80.0898208618164 Testing accuracy: 73.05389404296875.\u001b[32m [repeated 24x across cluster]\u001b[0m\n",
      "\u001b[2m\u001b[36m(ClientAppActor pid=1242552)\u001b[0m \u001b[32m [repeated 11x across cluster]\u001b[0m\n",
      "\u001b[2m\u001b[36m(ClientAppActor pid=1242552)\u001b[0m Epoch 38/100\u001b[32m [repeated 11x across cluster]\u001b[0m\n",
      "\u001b[2m\u001b[36m(ClientAppActor pid=1242552)\u001b[0m Epoch 37: Training accuracy: 81.13772583007812 Testing accuracy: 76.04790496826172.\u001b[32m [repeated 11x across cluster]\u001b[0m\n",
      "\u001b[2m\u001b[36m(ClientAppActor pid=1242552)\u001b[0m \u001b[32m [repeated 10x across cluster]\u001b[0m\n",
      "\u001b[2m\u001b[36m(ClientAppActor pid=1242552)\u001b[0m Epoch 48/100\u001b[32m [repeated 10x across cluster]\u001b[0m\n",
      "\u001b[2m\u001b[36m(ClientAppActor pid=1242552)\u001b[0m Epoch 47: Training accuracy: 81.13772583007812 Testing accuracy: 77.2455062866211.\u001b[32m [repeated 10x across cluster]\u001b[0m\n",
      "\u001b[2m\u001b[36m(ClientAppActor pid=1242552)\u001b[0m \u001b[32m [repeated 10x across cluster]\u001b[0m\n",
      "\u001b[2m\u001b[36m(ClientAppActor pid=1242552)\u001b[0m Epoch 58/100\u001b[32m [repeated 10x across cluster]\u001b[0m\n",
      "\u001b[2m\u001b[36m(ClientAppActor pid=1242552)\u001b[0m Epoch 57: Training accuracy: 80.6886215209961 Testing accuracy: 76.04790496826172.\u001b[32m [repeated 10x across cluster]\u001b[0m\n",
      "\u001b[2m\u001b[36m(ClientAppActor pid=1242552)\u001b[0m \u001b[32m [repeated 7x across cluster]\u001b[0m\n",
      "\u001b[2m\u001b[36m(ClientAppActor pid=1242552)\u001b[0m Epoch 65/100\u001b[32m [repeated 7x across cluster]\u001b[0m\n",
      "\u001b[2m\u001b[36m(ClientAppActor pid=1242552)\u001b[0m Epoch 64: Training accuracy: 80.61376953125 Testing accuracy: 74.85029602050781.\u001b[32m [repeated 7x across cluster]\u001b[0m\n",
      "\u001b[2m\u001b[36m(ClientAppActor pid=1242552)\u001b[0m \u001b[32m [repeated 7x across cluster]\u001b[0m\n",
      "\u001b[2m\u001b[36m(ClientAppActor pid=1242552)\u001b[0m Epoch 72/100\u001b[32m [repeated 7x across cluster]\u001b[0m\n",
      "\u001b[2m\u001b[36m(ClientAppActor pid=1242552)\u001b[0m Epoch 71: Training accuracy: 80.38922119140625 Testing accuracy: 73.65269470214844.\u001b[32m [repeated 7x across cluster]\u001b[0m\n",
      "\u001b[2m\u001b[36m(ClientAppActor pid=1242552)\u001b[0m \u001b[32m [repeated 7x across cluster]\u001b[0m\n",
      "\u001b[2m\u001b[36m(ClientAppActor pid=1242552)\u001b[0m Epoch 79/100\u001b[32m [repeated 7x across cluster]\u001b[0m\n",
      "\u001b[2m\u001b[36m(ClientAppActor pid=1242552)\u001b[0m Epoch 78: Training accuracy: 79.56586456298828 Testing accuracy: 72.45509338378906.\u001b[32m [repeated 7x across cluster]\u001b[0m\n",
      "\u001b[2m\u001b[36m(ClientAppActor pid=1242552)\u001b[0m \u001b[32m [repeated 7x across cluster]\u001b[0m\n",
      "\u001b[2m\u001b[36m(ClientAppActor pid=1242552)\u001b[0m Epoch 86/100\u001b[32m [repeated 7x across cluster]\u001b[0m\n",
      "\u001b[2m\u001b[36m(ClientAppActor pid=1242552)\u001b[0m Epoch 85: Training accuracy: 80.31436920166016 Testing accuracy: 75.44910430908203.\u001b[32m [repeated 7x across cluster]\u001b[0m\n",
      "\u001b[2m\u001b[36m(ClientAppActor pid=1242552)\u001b[0m \u001b[32m [repeated 6x across cluster]\u001b[0m\n",
      "\u001b[2m\u001b[36m(ClientAppActor pid=1242552)\u001b[0m Epoch 92/100\u001b[32m [repeated 6x across cluster]\u001b[0m\n",
      "\u001b[2m\u001b[36m(ClientAppActor pid=1242552)\u001b[0m Epoch 91: Training accuracy: 80.23951721191406 Testing accuracy: 76.04790496826172.\u001b[32m [repeated 6x across cluster]\u001b[0m\n",
      "\u001b[2m\u001b[36m(ClientAppActor pid=1242552)\u001b[0m \u001b[32m [repeated 7x across cluster]\u001b[0m\n",
      "\u001b[2m\u001b[36m(ClientAppActor pid=1242552)\u001b[0m Epoch 99/100\u001b[32m [repeated 7x across cluster]\u001b[0m\n",
      "\u001b[2m\u001b[36m(ClientAppActor pid=1242552)\u001b[0m Epoch 98: Training accuracy: 80.0898208618164 Testing accuracy: 74.25149536132812.\u001b[32m [repeated 7x across cluster]\u001b[0m\n"
     ]
    },
    {
     "name": "stderr",
     "output_type": "stream",
     "text": [
      "\u001b[92mINFO \u001b[0m:      aggregate_fit: received 3 results and 0 failures\n",
      "\u001b[92mINFO \u001b[0m:      fit progress: (17, 0.05416814847425981, {'accuracy': tensor(69.2418, device='cuda:0')}, 1059.983143311998)\n",
      "\u001b[92mINFO \u001b[0m:      configure_evaluate: strategy sampled 1 clients (out of 3)\n"
     ]
    },
    {
     "name": "stdout",
     "output_type": "stream",
     "text": [
      "Server-side evaluation loss 0.05416814847425981 / accuracy 69.24177551269531\n"
     ]
    },
    {
     "name": "stderr",
     "output_type": "stream",
     "text": [
      "\u001b[92mINFO \u001b[0m:      aggregate_evaluate: received 1 results and 0 failures\n",
      "\u001b[92mINFO \u001b[0m:      \n",
      "\u001b[92mINFO \u001b[0m:      [ROUND 18]\n",
      "\u001b[92mINFO \u001b[0m:      configure_fit: strategy sampled 3 clients (out of 3)\n"
     ]
    },
    {
     "name": "stdout",
     "output_type": "stream",
     "text": [
      "\u001b[2m\u001b[36m(ClientAppActor pid=1242552)\u001b[0m \u001b[32m [repeated 16x across cluster]\u001b[0m\n",
      "\u001b[2m\u001b[36m(ClientAppActor pid=1242552)\u001b[0m Epoch 4/100\u001b[32m [repeated 16x across cluster]\u001b[0m\n",
      "\u001b[2m\u001b[36m(ClientAppActor pid=1242552)\u001b[0m Epoch 3: Training accuracy: 76.57185363769531 Testing accuracy: 67.06586456298828.\u001b[32m [repeated 15x across cluster]\u001b[0m\n",
      "\u001b[2m\u001b[36m(ClientAppActor pid=1242552)\u001b[0m \u001b[32m [repeated 19x across cluster]\u001b[0m\n",
      "\u001b[2m\u001b[36m(ClientAppActor pid=1242552)\u001b[0m Epoch 11/100\u001b[32m [repeated 19x across cluster]\u001b[0m\n",
      "\u001b[2m\u001b[36m(ClientAppActor pid=1242552)\u001b[0m Epoch 10: Training accuracy: 79.49102020263672 Testing accuracy: 73.05389404296875.\u001b[32m [repeated 19x across cluster]\u001b[0m\n",
      "\u001b[2m\u001b[36m(ClientAppActor pid=1242551)\u001b[0m \u001b[32m [repeated 19x across cluster]\u001b[0m\n",
      "\u001b[2m\u001b[36m(ClientAppActor pid=1242551)\u001b[0m Epoch 36/100\u001b[32m [repeated 19x across cluster]\u001b[0m\n",
      "\u001b[2m\u001b[36m(ClientAppActor pid=1242551)\u001b[0m Epoch 35: Training accuracy: 85.09615325927734 Testing accuracy: 77.56410217285156.\u001b[32m [repeated 19x across cluster]\u001b[0m\n",
      "\u001b[2m\u001b[36m(ClientAppActor pid=1242551)\u001b[0m \u001b[32m [repeated 27x across cluster]\u001b[0m\n",
      "\u001b[2m\u001b[36m(ClientAppActor pid=1242551)\u001b[0m Epoch 57/100\u001b[32m [repeated 27x across cluster]\u001b[0m\n",
      "\u001b[2m\u001b[36m(ClientAppActor pid=1242551)\u001b[0m Epoch 56: Training accuracy: 84.85576629638672 Testing accuracy: 79.4871826171875.\u001b[32m [repeated 27x across cluster]\u001b[0m\n",
      "\u001b[2m\u001b[36m(ClientAppActor pid=1242551)\u001b[0m \u001b[32m [repeated 59x across cluster]\u001b[0m\n",
      "\u001b[2m\u001b[36m(ClientAppActor pid=1242551)\u001b[0m Epoch 10/100\u001b[32m [repeated 59x across cluster]\u001b[0m\n",
      "\u001b[2m\u001b[36m(ClientAppActor pid=1242551)\u001b[0m Epoch 9: Training accuracy: 80.62129974365234 Testing accuracy: 70.41419982910156.\u001b[32m [repeated 59x across cluster]\u001b[0m\n",
      "\u001b[2m\u001b[36m(ClientAppActor pid=1242552)\u001b[0m \u001b[32m [repeated 99x across cluster]\u001b[0m\n",
      "\u001b[2m\u001b[36m(ClientAppActor pid=1242552)\u001b[0m Epoch 38/100\u001b[32m [repeated 99x across cluster]\u001b[0m\n",
      "\u001b[2m\u001b[36m(ClientAppActor pid=1242552)\u001b[0m Epoch 37: Training accuracy: 80.31436920166016 Testing accuracy: 74.85029602050781.\u001b[32m [repeated 100x across cluster]\u001b[0m\n",
      "\u001b[2m\u001b[36m(ClientAppActor pid=1242552)\u001b[0m \u001b[32m [repeated 10x across cluster]\u001b[0m\n",
      "\u001b[2m\u001b[36m(ClientAppActor pid=1242552)\u001b[0m Epoch 48/100\u001b[32m [repeated 10x across cluster]\u001b[0m\n",
      "\u001b[2m\u001b[36m(ClientAppActor pid=1242552)\u001b[0m Epoch 47: Training accuracy: 80.46407318115234 Testing accuracy: 75.44910430908203.\u001b[32m [repeated 10x across cluster]\u001b[0m\n",
      "\u001b[2m\u001b[36m(ClientAppActor pid=1242552)\u001b[0m \u001b[32m [repeated 9x across cluster]\u001b[0m\n",
      "\u001b[2m\u001b[36m(ClientAppActor pid=1242552)\u001b[0m Epoch 57/100\u001b[32m [repeated 9x across cluster]\u001b[0m\n",
      "\u001b[2m\u001b[36m(ClientAppActor pid=1242552)\u001b[0m Epoch 56: Training accuracy: 79.79042053222656 Testing accuracy: 76.6467056274414.\u001b[32m [repeated 9x across cluster]\u001b[0m\n",
      "\u001b[2m\u001b[36m(ClientAppActor pid=1242552)\u001b[0m \u001b[32m [repeated 6x across cluster]\u001b[0m\n",
      "\u001b[2m\u001b[36m(ClientAppActor pid=1242552)\u001b[0m Epoch 63/100\u001b[32m [repeated 6x across cluster]\u001b[0m\n",
      "\u001b[2m\u001b[36m(ClientAppActor pid=1242552)\u001b[0m Epoch 62: Training accuracy: 81.06287384033203 Testing accuracy: 77.2455062866211.\u001b[32m [repeated 6x across cluster]\u001b[0m\n",
      "\u001b[2m\u001b[36m(ClientAppActor pid=1242552)\u001b[0m \u001b[32m [repeated 7x across cluster]\u001b[0m\n",
      "\u001b[2m\u001b[36m(ClientAppActor pid=1242552)\u001b[0m Epoch 70/100\u001b[32m [repeated 7x across cluster]\u001b[0m\n",
      "\u001b[2m\u001b[36m(ClientAppActor pid=1242552)\u001b[0m Epoch 69: Training accuracy: 79.34131622314453 Testing accuracy: 71.25748443603516.\u001b[32m [repeated 7x across cluster]\u001b[0m\n",
      "\u001b[2m\u001b[36m(ClientAppActor pid=1242552)\u001b[0m \u001b[32m [repeated 8x across cluster]\u001b[0m\n",
      "\u001b[2m\u001b[36m(ClientAppActor pid=1242552)\u001b[0m Epoch 78/100\u001b[32m [repeated 8x across cluster]\u001b[0m\n",
      "\u001b[2m\u001b[36m(ClientAppActor pid=1242552)\u001b[0m Epoch 77: Training accuracy: 80.76347351074219 Testing accuracy: 76.04790496826172.\u001b[32m [repeated 8x across cluster]\u001b[0m\n",
      "\u001b[2m\u001b[36m(ClientAppActor pid=1242552)\u001b[0m \u001b[32m [repeated 12x across cluster]\u001b[0m\n",
      "\u001b[2m\u001b[36m(ClientAppActor pid=1242552)\u001b[0m Epoch 90/100\u001b[32m [repeated 12x across cluster]\u001b[0m\n",
      "\u001b[2m\u001b[36m(ClientAppActor pid=1242552)\u001b[0m Epoch 89: Training accuracy: 81.13772583007812 Testing accuracy: 77.2455062866211.\u001b[32m [repeated 12x across cluster]\u001b[0m\n"
     ]
    },
    {
     "name": "stderr",
     "output_type": "stream",
     "text": [
      "\u001b[92mINFO \u001b[0m:      aggregate_fit: received 3 results and 0 failures\n",
      "\u001b[92mINFO \u001b[0m:      fit progress: (18, 0.05274857716126875, {'accuracy': tensor(70.9585, device='cuda:0')}, 1125.2485354809905)\n",
      "\u001b[92mINFO \u001b[0m:      configure_evaluate: strategy sampled 1 clients (out of 3)\n",
      "\u001b[92mINFO \u001b[0m:      aggregate_evaluate: received 1 results and 0 failures\n",
      "\u001b[92mINFO \u001b[0m:      \n",
      "\u001b[92mINFO \u001b[0m:      [ROUND 19]\n",
      "\u001b[92mINFO \u001b[0m:      configure_fit: strategy sampled 3 clients (out of 3)\n"
     ]
    },
    {
     "name": "stdout",
     "output_type": "stream",
     "text": [
      "Server-side evaluation loss 0.05274857716126875 / accuracy 70.95851135253906\n",
      "\u001b[2m\u001b[36m(ClientAppActor pid=1242551)\u001b[0m \u001b[32m [repeated 11x across cluster]\u001b[0m\n",
      "\u001b[2m\u001b[36m(ClientAppActor pid=1242551)\u001b[0m Epoch 1/100\u001b[32m [repeated 11x across cluster]\u001b[0m\n",
      "\u001b[2m\u001b[36m(ClientAppActor pid=1242552)\u001b[0m Epoch 100: Training accuracy: 78.9670639038086 Testing accuracy: 72.45509338378906.\u001b[32m [repeated 11x across cluster]\u001b[0m\n",
      "\u001b[2m\u001b[36m(ClientAppActor pid=1242551)\u001b[0m \u001b[32m [repeated 31x across cluster]\u001b[0m\n",
      "\u001b[2m\u001b[36m(ClientAppActor pid=1242551)\u001b[0m Epoch 21/100\u001b[32m [repeated 31x across cluster]\u001b[0m\n",
      "\u001b[2m\u001b[36m(ClientAppActor pid=1242551)\u001b[0m Epoch 20: Training accuracy: 81.21302032470703 Testing accuracy: 72.18934631347656.\u001b[32m [repeated 30x across cluster]\u001b[0m\n",
      "\u001b[2m\u001b[36m(ClientAppActor pid=1242551)\u001b[0m \u001b[32m [repeated 96x across cluster]\u001b[0m\n",
      "\u001b[2m\u001b[36m(ClientAppActor pid=1242551)\u001b[0m Epoch 4/100\u001b[32m [repeated 96x across cluster]\u001b[0m\n",
      "\u001b[2m\u001b[36m(ClientAppActor pid=1242551)\u001b[0m Epoch 3: Training accuracy: 80.28845977783203 Testing accuracy: 73.07691955566406.\u001b[32m [repeated 96x across cluster]\u001b[0m\n",
      "\u001b[2m\u001b[36m(ClientAppActor pid=1242551)\u001b[0m \u001b[32m [repeated 164x across cluster]\u001b[0m\n",
      "\u001b[2m\u001b[36m(ClientAppActor pid=1242551)\u001b[0m Epoch 92/100\u001b[32m [repeated 164x across cluster]\u001b[0m\n",
      "\u001b[2m\u001b[36m(ClientAppActor pid=1242551)\u001b[0m Epoch 91: Training accuracy: 84.69551086425781 Testing accuracy: 75.0.\u001b[32m [repeated 165x across cluster]\u001b[0m\n"
     ]
    },
    {
     "name": "stderr",
     "output_type": "stream",
     "text": [
      "\u001b[92mINFO \u001b[0m:      aggregate_fit: received 3 results and 0 failures\n",
      "\u001b[92mINFO \u001b[0m:      fit progress: (19, 0.05412959510629827, {'accuracy': tensor(69.9571, device='cuda:0')}, 1143.86751543)\n",
      "\u001b[92mINFO \u001b[0m:      configure_evaluate: strategy sampled 1 clients (out of 3)\n",
      "\u001b[92mINFO \u001b[0m:      aggregate_evaluate: received 1 results and 0 failures\n",
      "\u001b[92mINFO \u001b[0m:      \n",
      "\u001b[92mINFO \u001b[0m:      [ROUND 20]\n",
      "\u001b[92mINFO \u001b[0m:      configure_fit: strategy sampled 3 clients (out of 3)\n"
     ]
    },
    {
     "name": "stdout",
     "output_type": "stream",
     "text": [
      "Server-side evaluation loss 0.05412959510629827 / accuracy 69.95708465576172\n",
      "\u001b[2m\u001b[36m(ClientAppActor pid=1242551)\u001b[0m \u001b[32m [repeated 19x across cluster]\u001b[0m\n",
      "\u001b[2m\u001b[36m(ClientAppActor pid=1242551)\u001b[0m Epoch 7/100\u001b[32m [repeated 19x across cluster]\u001b[0m\n",
      "\u001b[2m\u001b[36m(ClientAppActor pid=1242551)\u001b[0m Epoch 6: Training accuracy: 79.34131622314453 Testing accuracy: 71.25748443603516.\u001b[32m [repeated 18x across cluster]\u001b[0m\n",
      "\u001b[2m\u001b[36m(ClientAppActor pid=1242551)\u001b[0m \u001b[32m [repeated 27x across cluster]\u001b[0m\n",
      "\u001b[2m\u001b[36m(ClientAppActor pid=1242551)\u001b[0m Epoch 23/100\u001b[32m [repeated 27x across cluster]\u001b[0m\n",
      "\u001b[2m\u001b[36m(ClientAppActor pid=1242551)\u001b[0m Epoch 22: Training accuracy: 80.0898208618164 Testing accuracy: 73.05389404296875.\u001b[32m [repeated 27x across cluster]\u001b[0m\n",
      "\u001b[2m\u001b[36m(ClientAppActor pid=1242552)\u001b[0m \u001b[32m [repeated 14x across cluster]\u001b[0m\n",
      "\u001b[2m\u001b[36m(ClientAppActor pid=1242552)\u001b[0m Epoch 22/100\u001b[32m [repeated 14x across cluster]\u001b[0m\n",
      "\u001b[2m\u001b[36m(ClientAppActor pid=1242552)\u001b[0m Epoch 21: Training accuracy: 84.69551086425781 Testing accuracy: 78.20513153076172.\u001b[32m [repeated 14x across cluster]\u001b[0m\n",
      "\u001b[2m\u001b[36m(ClientAppActor pid=1242552)\u001b[0m \u001b[32m [repeated 18x across cluster]\u001b[0m\n",
      "\u001b[2m\u001b[36m(ClientAppActor pid=1242552)\u001b[0m Epoch 30/100\u001b[32m [repeated 18x across cluster]\u001b[0m\n",
      "\u001b[2m\u001b[36m(ClientAppActor pid=1242552)\u001b[0m Epoch 29: Training accuracy: 84.69551086425781 Testing accuracy: 76.92308044433594.\u001b[32m [repeated 18x across cluster]\u001b[0m\n",
      "\u001b[2m\u001b[36m(ClientAppActor pid=1242552)\u001b[0m \u001b[32m [repeated 15x across cluster]\u001b[0m\n",
      "\u001b[2m\u001b[36m(ClientAppActor pid=1242552)\u001b[0m Epoch 36/100\u001b[32m [repeated 15x across cluster]\u001b[0m\n",
      "\u001b[2m\u001b[36m(ClientAppActor pid=1242552)\u001b[0m Epoch 35: Training accuracy: 85.17628479003906 Testing accuracy: 76.92308044433594.\u001b[32m [repeated 15x across cluster]\u001b[0m\n",
      "\u001b[2m\u001b[36m(ClientAppActor pid=1242551)\u001b[0m \u001b[32m [repeated 16x across cluster]\u001b[0m\n",
      "\u001b[2m\u001b[36m(ClientAppActor pid=1242551)\u001b[0m Epoch 58/100\u001b[32m [repeated 16x across cluster]\u001b[0m\n",
      "\u001b[2m\u001b[36m(ClientAppActor pid=1242551)\u001b[0m Epoch 57: Training accuracy: 80.23951721191406 Testing accuracy: 74.85029602050781.\u001b[32m [repeated 16x across cluster]\u001b[0m\n",
      "\u001b[2m\u001b[36m(ClientAppActor pid=1242552)\u001b[0m \u001b[32m [repeated 15x across cluster]\u001b[0m\n",
      "\u001b[2m\u001b[36m(ClientAppActor pid=1242552)\u001b[0m Epoch 50/100\u001b[32m [repeated 15x across cluster]\u001b[0m\n",
      "\u001b[2m\u001b[36m(ClientAppActor pid=1242552)\u001b[0m Epoch 49: Training accuracy: 82.69230651855469 Testing accuracy: 75.64102935791016.\u001b[32m [repeated 15x across cluster]\u001b[0m\n",
      "\u001b[2m\u001b[36m(ClientAppActor pid=1242551)\u001b[0m \u001b[32m [repeated 17x across cluster]\u001b[0m\n",
      "\u001b[2m\u001b[36m(ClientAppActor pid=1242551)\u001b[0m Epoch 76/100\u001b[32m [repeated 17x across cluster]\u001b[0m\n",
      "\u001b[2m\u001b[36m(ClientAppActor pid=1242551)\u001b[0m Epoch 75: Training accuracy: 81.21257781982422 Testing accuracy: 77.2455062866211.\u001b[32m [repeated 17x across cluster]\u001b[0m\n",
      "\u001b[2m\u001b[36m(ClientAppActor pid=1242551)\u001b[0m \u001b[32m [repeated 14x across cluster]\u001b[0m\n",
      "\u001b[2m\u001b[36m(ClientAppActor pid=1242551)\u001b[0m Epoch 84/100\u001b[32m [repeated 14x across cluster]\u001b[0m\n",
      "\u001b[2m\u001b[36m(ClientAppActor pid=1242551)\u001b[0m Epoch 83: Training accuracy: 77.91915893554688 Testing accuracy: 72.45509338378906.\u001b[32m [repeated 14x across cluster]\u001b[0m\n",
      "\u001b[2m\u001b[36m(ClientAppActor pid=1242552)\u001b[0m \u001b[32m [repeated 16x across cluster]\u001b[0m\n",
      "\u001b[2m\u001b[36m(ClientAppActor pid=1242552)\u001b[0m Epoch 71/100\u001b[32m [repeated 16x across cluster]\u001b[0m\n",
      "\u001b[2m\u001b[36m(ClientAppActor pid=1242552)\u001b[0m Epoch 70: Training accuracy: 85.09615325927734 Testing accuracy: 77.56410217285156.\u001b[32m [repeated 16x across cluster]\u001b[0m\n",
      "\u001b[2m\u001b[36m(ClientAppActor pid=1242552)\u001b[0m \u001b[32m [repeated 14x across cluster]\u001b[0m\n",
      "\u001b[2m\u001b[36m(ClientAppActor pid=1242552)\u001b[0m Epoch 77/100\u001b[32m [repeated 14x across cluster]\u001b[0m\n",
      "\u001b[2m\u001b[36m(ClientAppActor pid=1242552)\u001b[0m Epoch 76: Training accuracy: 85.01602935791016 Testing accuracy: 76.92308044433594.\u001b[32m [repeated 14x across cluster]\u001b[0m\n",
      "\u001b[2m\u001b[36m(ClientAppActor pid=1242551)\u001b[0m \u001b[32m [repeated 16x across cluster]\u001b[0m\n",
      "\u001b[2m\u001b[36m(ClientAppActor pid=1242551)\u001b[0m Epoch 9/100\u001b[32m [repeated 16x across cluster]\u001b[0m\n",
      "\u001b[2m\u001b[36m(ClientAppActor pid=1242551)\u001b[0m Epoch 8: Training accuracy: 80.5473403930664 Testing accuracy: 71.00592041015625.\u001b[32m [repeated 16x across cluster]\u001b[0m\n",
      "\u001b[2m\u001b[36m(ClientAppActor pid=1242551)\u001b[0m \u001b[32m [repeated 14x across cluster]\u001b[0m\n",
      "\u001b[2m\u001b[36m(ClientAppActor pid=1242551)\u001b[0m Epoch 17/100\u001b[32m [repeated 14x across cluster]\u001b[0m\n",
      "\u001b[2m\u001b[36m(ClientAppActor pid=1242551)\u001b[0m Epoch 16: Training accuracy: 81.9526596069336 Testing accuracy: 72.18934631347656.\u001b[32m [repeated 14x across cluster]\u001b[0m\n",
      "\u001b[2m\u001b[36m(ClientAppActor pid=1242551)\u001b[0m \u001b[32m [repeated 45x across cluster]\u001b[0m\n",
      "\u001b[2m\u001b[36m(ClientAppActor pid=1242551)\u001b[0m Epoch 55/100\u001b[32m [repeated 45x across cluster]\u001b[0m\n",
      "\u001b[2m\u001b[36m(ClientAppActor pid=1242551)\u001b[0m Epoch 54: Training accuracy: 78.47633361816406 Testing accuracy: 63.90532684326172.\u001b[32m [repeated 45x across cluster]\u001b[0m\n"
     ]
    },
    {
     "name": "stderr",
     "output_type": "stream",
     "text": [
      "\u001b[92mINFO \u001b[0m:      aggregate_fit: received 3 results and 0 failures\n",
      "\u001b[92mINFO \u001b[0m:      fit progress: (20, 0.05330281907861883, {'accuracy': tensor(70.2432, device='cuda:0')}, 1217.29341456799)\n",
      "\u001b[92mINFO \u001b[0m:      configure_evaluate: strategy sampled 1 clients (out of 3)\n"
     ]
    },
    {
     "name": "stdout",
     "output_type": "stream",
     "text": [
      "Server-side evaluation loss 0.05330281907861883 / accuracy 70.24320220947266\n"
     ]
    },
    {
     "name": "stderr",
     "output_type": "stream",
     "text": [
      "\u001b[92mINFO \u001b[0m:      aggregate_evaluate: received 1 results and 0 failures\n",
      "\u001b[92mINFO \u001b[0m:      \n",
      "\u001b[92mINFO \u001b[0m:      [ROUND 21]\n",
      "\u001b[92mINFO \u001b[0m:      configure_fit: strategy sampled 3 clients (out of 3)\n"
     ]
    },
    {
     "name": "stdout",
     "output_type": "stream",
     "text": [
      "\u001b[2m\u001b[36m(ClientAppActor pid=1242551)\u001b[0m \u001b[32m [repeated 88x across cluster]\u001b[0m\n",
      "\u001b[2m\u001b[36m(ClientAppActor pid=1242551)\u001b[0m Epoch 38/100\u001b[32m [repeated 88x across cluster]\u001b[0m\n",
      "\u001b[2m\u001b[36m(ClientAppActor pid=1242551)\u001b[0m Epoch 37: Training accuracy: 84.29486846923828 Testing accuracy: 75.64102935791016.\u001b[32m [repeated 88x across cluster]\u001b[0m\n",
      "\u001b[2m\u001b[36m(ClientAppActor pid=1242551)\u001b[0m \u001b[32m [repeated 105x across cluster]\u001b[0m\n",
      "\u001b[2m\u001b[36m(ClientAppActor pid=1242551)\u001b[0m Epoch 33/100\u001b[32m [repeated 105x across cluster]\u001b[0m\n",
      "\u001b[2m\u001b[36m(ClientAppActor pid=1242551)\u001b[0m Epoch 32: Training accuracy: 79.95561981201172 Testing accuracy: 69.8224868774414.\u001b[32m [repeated 105x across cluster]\u001b[0m\n",
      "\u001b[2m\u001b[36m(ClientAppActor pid=1242552)\u001b[0m \u001b[32m [repeated 83x across cluster]\u001b[0m\n",
      "\u001b[2m\u001b[36m(ClientAppActor pid=1242552)\u001b[0m Epoch 28/100\u001b[32m [repeated 83x across cluster]\u001b[0m\n",
      "\u001b[2m\u001b[36m(ClientAppActor pid=1242552)\u001b[0m Epoch 27: Training accuracy: 80.46407318115234 Testing accuracy: 75.44910430908203.\u001b[32m [repeated 84x across cluster]\u001b[0m\n",
      "\u001b[2m\u001b[36m(ClientAppActor pid=1242552)\u001b[0m \u001b[32m [repeated 8x across cluster]\u001b[0m\n",
      "\u001b[2m\u001b[36m(ClientAppActor pid=1242552)\u001b[0m Epoch 36/100\u001b[32m [repeated 8x across cluster]\u001b[0m\n",
      "\u001b[2m\u001b[36m(ClientAppActor pid=1242552)\u001b[0m Epoch 35: Training accuracy: 80.46407318115234 Testing accuracy: 73.05389404296875.\u001b[32m [repeated 8x across cluster]\u001b[0m\n",
      "\u001b[2m\u001b[36m(ClientAppActor pid=1242552)\u001b[0m \u001b[32m [repeated 9x across cluster]\u001b[0m\n",
      "\u001b[2m\u001b[36m(ClientAppActor pid=1242552)\u001b[0m Epoch 45/100\u001b[32m [repeated 9x across cluster]\u001b[0m\n",
      "\u001b[2m\u001b[36m(ClientAppActor pid=1242552)\u001b[0m Epoch 44: Training accuracy: 80.91316986083984 Testing accuracy: 75.44910430908203.\u001b[32m [repeated 9x across cluster]\u001b[0m\n",
      "\u001b[2m\u001b[36m(ClientAppActor pid=1242552)\u001b[0m \u001b[32m [repeated 10x across cluster]\u001b[0m\n",
      "\u001b[2m\u001b[36m(ClientAppActor pid=1242552)\u001b[0m Epoch 55/100\u001b[32m [repeated 10x across cluster]\u001b[0m\n",
      "\u001b[2m\u001b[36m(ClientAppActor pid=1242552)\u001b[0m Epoch 54: Training accuracy: 80.0898208618164 Testing accuracy: 74.85029602050781.\u001b[32m [repeated 10x across cluster]\u001b[0m\n",
      "\u001b[2m\u001b[36m(ClientAppActor pid=1242552)\u001b[0m \u001b[32m [repeated 10x across cluster]\u001b[0m\n",
      "\u001b[2m\u001b[36m(ClientAppActor pid=1242552)\u001b[0m Epoch 65/100\u001b[32m [repeated 10x across cluster]\u001b[0m\n",
      "\u001b[2m\u001b[36m(ClientAppActor pid=1242552)\u001b[0m Epoch 64: Training accuracy: 80.38922119140625 Testing accuracy: 76.6467056274414.\u001b[32m [repeated 10x across cluster]\u001b[0m\n",
      "\u001b[2m\u001b[36m(ClientAppActor pid=1242552)\u001b[0m \u001b[32m [repeated 29x across cluster]\u001b[0m\n",
      "\u001b[2m\u001b[36m(ClientAppActor pid=1242552)\u001b[0m Epoch 94/100\u001b[32m [repeated 29x across cluster]\u001b[0m\n",
      "\u001b[2m\u001b[36m(ClientAppActor pid=1242552)\u001b[0m Epoch 93: Training accuracy: 81.66167449951172 Testing accuracy: 79.04191589355469.\u001b[32m [repeated 29x across cluster]\u001b[0m\n"
     ]
    },
    {
     "name": "stderr",
     "output_type": "stream",
     "text": [
      "\u001b[92mINFO \u001b[0m:      aggregate_fit: received 3 results and 0 failures\n",
      "\u001b[92mINFO \u001b[0m:      fit progress: (21, 0.05415578321977095, {'accuracy': tensor(69.3848, device='cuda:0')}, 1259.2449150869943)\n",
      "\u001b[92mINFO \u001b[0m:      configure_evaluate: strategy sampled 1 clients (out of 3)\n"
     ]
    },
    {
     "name": "stdout",
     "output_type": "stream",
     "text": [
      "Server-side evaluation loss 0.05415578321977095 / accuracy 69.38483428955078\n"
     ]
    },
    {
     "name": "stderr",
     "output_type": "stream",
     "text": [
      "\u001b[92mINFO \u001b[0m:      aggregate_evaluate: received 1 results and 0 failures\n",
      "\u001b[92mINFO \u001b[0m:      \n",
      "\u001b[92mINFO \u001b[0m:      [ROUND 22]\n",
      "\u001b[92mINFO \u001b[0m:      configure_fit: strategy sampled 3 clients (out of 3)\n"
     ]
    },
    {
     "name": "stdout",
     "output_type": "stream",
     "text": [
      "\u001b[2m\u001b[36m(ClientAppActor pid=1242551)\u001b[0m \u001b[32m [repeated 7x across cluster]\u001b[0m\n",
      "\u001b[2m\u001b[36m(ClientAppActor pid=1242551)\u001b[0m Epoch 1/100\u001b[32m [repeated 7x across cluster]\u001b[0m\n",
      "\u001b[2m\u001b[36m(ClientAppActor pid=1242552)\u001b[0m Epoch 100: Training accuracy: 81.51197814941406 Testing accuracy: 77.2455062866211.\u001b[32m [repeated 7x across cluster]\u001b[0m\n",
      "\u001b[2m\u001b[36m(ClientAppActor pid=1242551)\u001b[0m \u001b[32m [repeated 17x across cluster]\u001b[0m\n",
      "\u001b[2m\u001b[36m(ClientAppActor pid=1242551)\u001b[0m Epoch 10/100\u001b[32m [repeated 17x across cluster]\u001b[0m\n",
      "\u001b[2m\u001b[36m(ClientAppActor pid=1242551)\u001b[0m Epoch 9: Training accuracy: 75.74850463867188 Testing accuracy: 71.25748443603516.\u001b[32m [repeated 16x across cluster]\u001b[0m\n",
      "\u001b[2m\u001b[36m(ClientAppActor pid=1242552)\u001b[0m \u001b[32m [repeated 16x across cluster]\u001b[0m\n",
      "\u001b[2m\u001b[36m(ClientAppActor pid=1242552)\u001b[0m Epoch 15/100\u001b[32m [repeated 16x across cluster]\u001b[0m\n",
      "\u001b[2m\u001b[36m(ClientAppActor pid=1242552)\u001b[0m Epoch 14: Training accuracy: 80.76923370361328 Testing accuracy: 75.0.\u001b[32m [repeated 16x across cluster]\u001b[0m\n",
      "\u001b[2m\u001b[36m(ClientAppActor pid=1242551)\u001b[0m \u001b[32m [repeated 20x across cluster]\u001b[0m\n",
      "\u001b[2m\u001b[36m(ClientAppActor pid=1242551)\u001b[0m Epoch 30/100\u001b[32m [repeated 20x across cluster]\u001b[0m\n",
      "\u001b[2m\u001b[36m(ClientAppActor pid=1242551)\u001b[0m Epoch 29: Training accuracy: 78.74251556396484 Testing accuracy: 68.86227416992188.\u001b[32m [repeated 20x across cluster]\u001b[0m\n",
      "\u001b[2m\u001b[36m(ClientAppActor pid=1242551)\u001b[0m \u001b[32m [repeated 24x across cluster]\u001b[0m\n",
      "\u001b[2m\u001b[36m(ClientAppActor pid=1242551)\u001b[0m Epoch 43/100\u001b[32m [repeated 24x across cluster]\u001b[0m\n",
      "\u001b[2m\u001b[36m(ClientAppActor pid=1242551)\u001b[0m Epoch 42: Training accuracy: 81.06287384033203 Testing accuracy: 78.443115234375.\u001b[32m [repeated 24x across cluster]\u001b[0m\n",
      "\u001b[2m\u001b[36m(ClientAppActor pid=1242551)\u001b[0m \u001b[32m [repeated 28x across cluster]\u001b[0m\n",
      "\u001b[2m\u001b[36m(ClientAppActor pid=1242551)\u001b[0m Epoch 59/100\u001b[32m [repeated 28x across cluster]\u001b[0m\n",
      "\u001b[2m\u001b[36m(ClientAppActor pid=1242551)\u001b[0m Epoch 58: Training accuracy: 80.76347351074219 Testing accuracy: 76.04790496826172.\u001b[32m [repeated 28x across cluster]\u001b[0m\n",
      "\u001b[2m\u001b[36m(ClientAppActor pid=1242551)\u001b[0m \u001b[32m [repeated 30x across cluster]\u001b[0m\n",
      "\u001b[2m\u001b[36m(ClientAppActor pid=1242551)\u001b[0m Epoch 74/100\u001b[32m [repeated 30x across cluster]\u001b[0m\n",
      "\u001b[2m\u001b[36m(ClientAppActor pid=1242551)\u001b[0m Epoch 73: Training accuracy: 81.36227416992188 Testing accuracy: 78.443115234375.\u001b[32m [repeated 30x across cluster]\u001b[0m\n",
      "\u001b[2m\u001b[36m(ClientAppActor pid=1242551)\u001b[0m \u001b[32m [repeated 16x across cluster]\u001b[0m\n",
      "\u001b[2m\u001b[36m(ClientAppActor pid=1242551)\u001b[0m Epoch 83/100\u001b[32m [repeated 16x across cluster]\u001b[0m\n",
      "\u001b[2m\u001b[36m(ClientAppActor pid=1242551)\u001b[0m Epoch 82: Training accuracy: 79.94011688232422 Testing accuracy: 77.2455062866211.\u001b[32m [repeated 16x across cluster]\u001b[0m\n",
      "\u001b[2m\u001b[36m(ClientAppActor pid=1242552)\u001b[0m \u001b[32m [repeated 17x across cluster]\u001b[0m\n",
      "\u001b[2m\u001b[36m(ClientAppActor pid=1242552)\u001b[0m Epoch 79/100\u001b[32m [repeated 17x across cluster]\u001b[0m\n",
      "\u001b[2m\u001b[36m(ClientAppActor pid=1242552)\u001b[0m Epoch 78: Training accuracy: 85.57691955566406 Testing accuracy: 76.92308044433594.\u001b[32m [repeated 17x across cluster]\u001b[0m\n",
      "\u001b[2m\u001b[36m(ClientAppActor pid=1242551)\u001b[0m \u001b[32m [repeated 18x across cluster]\u001b[0m\n",
      "\u001b[2m\u001b[36m(ClientAppActor pid=1242551)\u001b[0m Epoch 100/100\u001b[32m [repeated 18x across cluster]\u001b[0m\n",
      "\u001b[2m\u001b[36m(ClientAppActor pid=1242551)\u001b[0m Epoch 99: Training accuracy: 79.94011688232422 Testing accuracy: 76.6467056274414.\u001b[32m [repeated 18x across cluster]\u001b[0m\n",
      "\u001b[2m\u001b[36m(ClientAppActor pid=1242551)\u001b[0m \u001b[32m [repeated 15x across cluster]\u001b[0m\n",
      "\u001b[2m\u001b[36m(ClientAppActor pid=1242551)\u001b[0m Epoch 7/100\u001b[32m [repeated 15x across cluster]\u001b[0m\n",
      "\u001b[2m\u001b[36m(ClientAppActor pid=1242551)\u001b[0m Epoch 6: Training accuracy: 80.91716003417969 Testing accuracy: 72.78106689453125.\u001b[32m [repeated 15x across cluster]\u001b[0m\n",
      "\u001b[2m\u001b[36m(ClientAppActor pid=1242551)\u001b[0m \u001b[32m [repeated 14x across cluster]\u001b[0m\n",
      "\u001b[2m\u001b[36m(ClientAppActor pid=1242551)\u001b[0m Epoch 16/100\u001b[32m [repeated 14x across cluster]\u001b[0m\n",
      "\u001b[2m\u001b[36m(ClientAppActor pid=1242551)\u001b[0m Epoch 15: Training accuracy: 81.28697967529297 Testing accuracy: 72.18934631347656.\u001b[32m [repeated 15x across cluster]\u001b[0m\n",
      "\u001b[2m\u001b[36m(ClientAppActor pid=1242551)\u001b[0m \u001b[32m [repeated 9x across cluster]\u001b[0m\n",
      "\u001b[2m\u001b[36m(ClientAppActor pid=1242551)\u001b[0m Epoch 25/100\u001b[32m [repeated 9x across cluster]\u001b[0m\n",
      "\u001b[2m\u001b[36m(ClientAppActor pid=1242551)\u001b[0m Epoch 24: Training accuracy: 80.91716003417969 Testing accuracy: 72.78106689453125.\u001b[32m [repeated 9x across cluster]\u001b[0m\n",
      "\u001b[2m\u001b[36m(ClientAppActor pid=1242551)\u001b[0m \u001b[32m [repeated 8x across cluster]\u001b[0m\n",
      "\u001b[2m\u001b[36m(ClientAppActor pid=1242551)\u001b[0m Epoch 33/100\u001b[32m [repeated 8x across cluster]\u001b[0m\n",
      "\u001b[2m\u001b[36m(ClientAppActor pid=1242551)\u001b[0m Epoch 32: Training accuracy: 82.91419982910156 Testing accuracy: 72.18934631347656.\u001b[32m [repeated 8x across cluster]\u001b[0m\n",
      "\u001b[2m\u001b[36m(ClientAppActor pid=1242551)\u001b[0m \u001b[32m [repeated 8x across cluster]\u001b[0m\n",
      "\u001b[2m\u001b[36m(ClientAppActor pid=1242551)\u001b[0m Epoch 41/100\u001b[32m [repeated 8x across cluster]\u001b[0m\n",
      "\u001b[2m\u001b[36m(ClientAppActor pid=1242551)\u001b[0m Epoch 40: Training accuracy: 81.50887298583984 Testing accuracy: 71.00592041015625.\u001b[32m [repeated 8x across cluster]\u001b[0m\n",
      "\u001b[2m\u001b[36m(ClientAppActor pid=1242551)\u001b[0m \u001b[32m [repeated 8x across cluster]\u001b[0m\n",
      "\u001b[2m\u001b[36m(ClientAppActor pid=1242551)\u001b[0m Epoch 49/100\u001b[32m [repeated 8x across cluster]\u001b[0m\n",
      "\u001b[2m\u001b[36m(ClientAppActor pid=1242551)\u001b[0m Epoch 48: Training accuracy: 80.02958679199219 Testing accuracy: 71.5976333618164.\u001b[32m [repeated 8x across cluster]\u001b[0m\n",
      "\u001b[2m\u001b[36m(ClientAppActor pid=1242551)\u001b[0m \u001b[32m [repeated 9x across cluster]\u001b[0m\n",
      "\u001b[2m\u001b[36m(ClientAppActor pid=1242551)\u001b[0m Epoch 58/100\u001b[32m [repeated 9x across cluster]\u001b[0m\n",
      "\u001b[2m\u001b[36m(ClientAppActor pid=1242551)\u001b[0m Epoch 57: Training accuracy: 82.39644622802734 Testing accuracy: 72.78106689453125.\u001b[32m [repeated 9x across cluster]\u001b[0m\n",
      "\u001b[2m\u001b[36m(ClientAppActor pid=1242551)\u001b[0m \u001b[32m [repeated 18x across cluster]\u001b[0m\n",
      "\u001b[2m\u001b[36m(ClientAppActor pid=1242551)\u001b[0m Epoch 76/100\u001b[32m [repeated 18x across cluster]\u001b[0m\n",
      "\u001b[2m\u001b[36m(ClientAppActor pid=1242551)\u001b[0m Epoch 75: Training accuracy: 82.54438018798828 Testing accuracy: 71.5976333618164.\u001b[32m [repeated 18x across cluster]\u001b[0m\n"
     ]
    },
    {
     "name": "stderr",
     "output_type": "stream",
     "text": [
      "\u001b[92mINFO \u001b[0m:      aggregate_fit: received 3 results and 0 failures\n",
      "\u001b[92mINFO \u001b[0m:      fit progress: (22, 0.053253011270002884, {'accuracy': tensor(70.3863, device='cuda:0')}, 1352.0347588379955)\n",
      "\u001b[92mINFO \u001b[0m:      configure_evaluate: strategy sampled 1 clients (out of 3)\n",
      "\u001b[92mINFO \u001b[0m:      aggregate_evaluate: received 1 results and 0 failures\n",
      "\u001b[92mINFO \u001b[0m:      \n",
      "\u001b[92mINFO \u001b[0m:      [ROUND 23]\n",
      "\u001b[92mINFO \u001b[0m:      configure_fit: strategy sampled 3 clients (out of 3)\n"
     ]
    },
    {
     "name": "stdout",
     "output_type": "stream",
     "text": [
      "Server-side evaluation loss 0.053253011270002884 / accuracy 70.38626861572266\n",
      "\u001b[2m\u001b[36m(ClientAppActor pid=1242551)\u001b[0m \u001b[32m [repeated 41x across cluster]\u001b[0m\n",
      "\u001b[2m\u001b[36m(ClientAppActor pid=1242551)\u001b[0m Epoch 7/100\u001b[32m [repeated 41x across cluster]\u001b[0m\n",
      "\u001b[2m\u001b[36m(ClientAppActor pid=1242551)\u001b[0m Epoch 6: Training accuracy: 82.7724380493164 Testing accuracy: 75.64102935791016.\u001b[32m [repeated 40x across cluster]\u001b[0m\n",
      "\u001b[2m\u001b[36m(ClientAppActor pid=1242552)\u001b[0m \u001b[32m [repeated 63x across cluster]\u001b[0m\n",
      "\u001b[2m\u001b[36m(ClientAppActor pid=1242552)\u001b[0m Epoch 44/100\u001b[32m [repeated 63x across cluster]\u001b[0m\n",
      "\u001b[2m\u001b[36m(ClientAppActor pid=1242552)\u001b[0m Epoch 43: Training accuracy: 81.36227416992188 Testing accuracy: 77.2455062866211.\u001b[32m [repeated 63x across cluster]\u001b[0m\n",
      "\u001b[2m\u001b[36m(ClientAppActor pid=1242551)\u001b[0m \u001b[32m [repeated 56x across cluster]\u001b[0m\n",
      "\u001b[2m\u001b[36m(ClientAppActor pid=1242551)\u001b[0m Epoch 57/100\u001b[32m [repeated 56x across cluster]\u001b[0m\n",
      "\u001b[2m\u001b[36m(ClientAppActor pid=1242551)\u001b[0m Epoch 56: Training accuracy: 85.09615325927734 Testing accuracy: 78.84615325927734.\u001b[32m [repeated 56x across cluster]\u001b[0m\n",
      "\u001b[2m\u001b[36m(ClientAppActor pid=1242551)\u001b[0m \u001b[32m [repeated 37x across cluster]\u001b[0m\n",
      "\u001b[2m\u001b[36m(ClientAppActor pid=1242551)\u001b[0m Epoch 76/100\u001b[32m [repeated 37x across cluster]\u001b[0m\n",
      "\u001b[2m\u001b[36m(ClientAppActor pid=1242551)\u001b[0m Epoch 75: Training accuracy: 84.5352554321289 Testing accuracy: 75.0.\u001b[32m [repeated 37x across cluster]\u001b[0m\n",
      "\u001b[2m\u001b[36m(ClientAppActor pid=1242551)\u001b[0m \u001b[32m [repeated 16x across cluster]\u001b[0m\n",
      "\u001b[2m\u001b[36m(ClientAppActor pid=1242551)\u001b[0m Epoch 86/100\u001b[32m [repeated 16x across cluster]\u001b[0m\n",
      "\u001b[2m\u001b[36m(ClientAppActor pid=1242551)\u001b[0m Epoch 85: Training accuracy: 85.9775619506836 Testing accuracy: 76.92308044433594.\u001b[32m [repeated 16x across cluster]\u001b[0m\n",
      "\u001b[2m\u001b[36m(ClientAppActor pid=1242551)\u001b[0m \u001b[32m [repeated 14x across cluster]\u001b[0m\n",
      "\u001b[2m\u001b[36m(ClientAppActor pid=1242551)\u001b[0m Epoch 94/100\u001b[32m [repeated 14x across cluster]\u001b[0m\n",
      "\u001b[2m\u001b[36m(ClientAppActor pid=1242551)\u001b[0m Epoch 93: Training accuracy: 85.57691955566406 Testing accuracy: 75.64102935791016.\u001b[32m [repeated 14x across cluster]\u001b[0m\n",
      "\u001b[2m\u001b[36m(ClientAppActor pid=1242552)\u001b[0m \u001b[32m [repeated 14x across cluster]\u001b[0m\n",
      "\u001b[2m\u001b[36m(ClientAppActor pid=1242552)\u001b[0m Epoch 17/100\u001b[32m [repeated 14x across cluster]\u001b[0m\n",
      "\u001b[2m\u001b[36m(ClientAppActor pid=1242552)\u001b[0m Epoch 16: Training accuracy: 81.80473327636719 Testing accuracy: 71.5976333618164.\u001b[32m [repeated 15x across cluster]\u001b[0m\n",
      "\u001b[2m\u001b[36m(ClientAppActor pid=1242552)\u001b[0m \u001b[32m [repeated 7x across cluster]\u001b[0m\n",
      "\u001b[2m\u001b[36m(ClientAppActor pid=1242552)\u001b[0m Epoch 24/100\u001b[32m [repeated 7x across cluster]\u001b[0m\n",
      "\u001b[2m\u001b[36m(ClientAppActor pid=1242552)\u001b[0m Epoch 23: Training accuracy: 82.69230651855469 Testing accuracy: 72.18934631347656.\u001b[32m [repeated 7x across cluster]\u001b[0m\n",
      "\u001b[2m\u001b[36m(ClientAppActor pid=1242552)\u001b[0m \u001b[32m [repeated 6x across cluster]\u001b[0m\n",
      "\u001b[2m\u001b[36m(ClientAppActor pid=1242552)\u001b[0m Epoch 30/100\u001b[32m [repeated 6x across cluster]\u001b[0m\n",
      "\u001b[2m\u001b[36m(ClientAppActor pid=1242552)\u001b[0m Epoch 29: Training accuracy: 82.39644622802734 Testing accuracy: 71.00592041015625.\u001b[32m [repeated 6x across cluster]\u001b[0m\n",
      "\u001b[2m\u001b[36m(ClientAppActor pid=1242552)\u001b[0m \u001b[32m [repeated 7x across cluster]\u001b[0m\n",
      "\u001b[2m\u001b[36m(ClientAppActor pid=1242552)\u001b[0m Epoch 37/100\u001b[32m [repeated 7x across cluster]\u001b[0m\n",
      "\u001b[2m\u001b[36m(ClientAppActor pid=1242552)\u001b[0m Epoch 36: Training accuracy: 82.39644622802734 Testing accuracy: 72.18934631347656.\u001b[32m [repeated 7x across cluster]\u001b[0m\n",
      "\u001b[2m\u001b[36m(ClientAppActor pid=1242552)\u001b[0m \u001b[32m [repeated 7x across cluster]\u001b[0m\n",
      "\u001b[2m\u001b[36m(ClientAppActor pid=1242552)\u001b[0m Epoch 44/100\u001b[32m [repeated 7x across cluster]\u001b[0m\n",
      "\u001b[2m\u001b[36m(ClientAppActor pid=1242552)\u001b[0m Epoch 43: Training accuracy: 82.69230651855469 Testing accuracy: 71.00592041015625.\u001b[32m [repeated 7x across cluster]\u001b[0m\n",
      "\u001b[2m\u001b[36m(ClientAppActor pid=1242552)\u001b[0m \u001b[32m [repeated 6x across cluster]\u001b[0m\n",
      "\u001b[2m\u001b[36m(ClientAppActor pid=1242552)\u001b[0m Epoch 50/100\u001b[32m [repeated 6x across cluster]\u001b[0m\n",
      "\u001b[2m\u001b[36m(ClientAppActor pid=1242552)\u001b[0m Epoch 49: Training accuracy: 82.3224868774414 Testing accuracy: 72.18934631347656.\u001b[32m [repeated 6x across cluster]\u001b[0m\n",
      "\u001b[2m\u001b[36m(ClientAppActor pid=1242552)\u001b[0m \u001b[32m [repeated 7x across cluster]\u001b[0m\n",
      "\u001b[2m\u001b[36m(ClientAppActor pid=1242552)\u001b[0m Epoch 57/100\u001b[32m [repeated 7x across cluster]\u001b[0m\n",
      "\u001b[2m\u001b[36m(ClientAppActor pid=1242552)\u001b[0m Epoch 56: Training accuracy: 82.84024047851562 Testing accuracy: 72.18934631347656.\u001b[32m [repeated 7x across cluster]\u001b[0m\n",
      "\u001b[2m\u001b[36m(ClientAppActor pid=1242552)\u001b[0m \u001b[32m [repeated 8x across cluster]\u001b[0m\n",
      "\u001b[2m\u001b[36m(ClientAppActor pid=1242552)\u001b[0m Epoch 65/100\u001b[32m [repeated 8x across cluster]\u001b[0m\n",
      "\u001b[2m\u001b[36m(ClientAppActor pid=1242552)\u001b[0m Epoch 64: Training accuracy: 82.17455291748047 Testing accuracy: 71.5976333618164.\u001b[32m [repeated 8x across cluster]\u001b[0m\n",
      "\u001b[2m\u001b[36m(ClientAppActor pid=1242552)\u001b[0m \u001b[32m [repeated 10x across cluster]\u001b[0m\n",
      "\u001b[2m\u001b[36m(ClientAppActor pid=1242552)\u001b[0m Epoch 75/100\u001b[32m [repeated 10x across cluster]\u001b[0m\n",
      "\u001b[2m\u001b[36m(ClientAppActor pid=1242552)\u001b[0m Epoch 74: Training accuracy: 82.69230651855469 Testing accuracy: 71.00592041015625.\u001b[32m [repeated 10x across cluster]\u001b[0m\n",
      "\u001b[2m\u001b[36m(ClientAppActor pid=1242552)\u001b[0m \u001b[32m [repeated 10x across cluster]\u001b[0m\n",
      "\u001b[2m\u001b[36m(ClientAppActor pid=1242552)\u001b[0m Epoch 85/100\u001b[32m [repeated 10x across cluster]\u001b[0m\n",
      "\u001b[2m\u001b[36m(ClientAppActor pid=1242552)\u001b[0m Epoch 84: Training accuracy: 81.0650863647461 Testing accuracy: 72.78106689453125.\u001b[32m [repeated 10x across cluster]\u001b[0m\n",
      "\u001b[2m\u001b[36m(ClientAppActor pid=1242552)\u001b[0m \u001b[32m [repeated 7x across cluster]\u001b[0m\n",
      "\u001b[2m\u001b[36m(ClientAppActor pid=1242552)\u001b[0m Epoch 92/100\u001b[32m [repeated 7x across cluster]\u001b[0m\n",
      "\u001b[2m\u001b[36m(ClientAppActor pid=1242552)\u001b[0m Epoch 91: Training accuracy: 82.76627349853516 Testing accuracy: 72.18934631347656.\u001b[32m [repeated 7x across cluster]\u001b[0m\n",
      "\u001b[2m\u001b[36m(ClientAppActor pid=1242552)\u001b[0m \u001b[32m [repeated 6x across cluster]\u001b[0m\n",
      "\u001b[2m\u001b[36m(ClientAppActor pid=1242552)\u001b[0m Epoch 98/100\u001b[32m [repeated 6x across cluster]\u001b[0m\n",
      "\u001b[2m\u001b[36m(ClientAppActor pid=1242552)\u001b[0m Epoch 97: Training accuracy: 81.36094665527344 Testing accuracy: 72.78106689453125.\u001b[32m [repeated 6x across cluster]\u001b[0m\n"
     ]
    },
    {
     "name": "stderr",
     "output_type": "stream",
     "text": [
      "\u001b[92mINFO \u001b[0m:      aggregate_fit: received 3 results and 0 failures\n",
      "\u001b[92mINFO \u001b[0m:      fit progress: (23, 0.05257383801720359, {'accuracy': tensor(70.1001, device='cuda:0')}, 1446.4986148019962)\n",
      "\u001b[92mINFO \u001b[0m:      configure_evaluate: strategy sampled 1 clients (out of 3)\n"
     ]
    },
    {
     "name": "stdout",
     "output_type": "stream",
     "text": [
      "Server-side evaluation loss 0.05257383801720359 / accuracy 70.10014343261719\n"
     ]
    },
    {
     "name": "stderr",
     "output_type": "stream",
     "text": [
      "\u001b[92mINFO \u001b[0m:      aggregate_evaluate: received 1 results and 0 failures\n",
      "\u001b[92mINFO \u001b[0m:      \n",
      "\u001b[92mINFO \u001b[0m:      [ROUND 24]\n",
      "\u001b[92mINFO \u001b[0m:      configure_fit: strategy sampled 3 clients (out of 3)\n"
     ]
    },
    {
     "name": "stdout",
     "output_type": "stream",
     "text": [
      "\u001b[2m\u001b[36m(ClientAppActor pid=1242552)\u001b[0m \u001b[32m [repeated 16x across cluster]\u001b[0m\n",
      "\u001b[2m\u001b[36m(ClientAppActor pid=1242552)\u001b[0m Epoch 4/100\u001b[32m [repeated 16x across cluster]\u001b[0m\n",
      "\u001b[2m\u001b[36m(ClientAppActor pid=1242552)\u001b[0m Epoch 3: Training accuracy: 82.6121826171875 Testing accuracy: 75.0.\u001b[32m [repeated 15x across cluster]\u001b[0m\n",
      "\u001b[2m\u001b[36m(ClientAppActor pid=1242552)\u001b[0m \u001b[32m [repeated 26x across cluster]\u001b[0m\n",
      "\u001b[2m\u001b[36m(ClientAppActor pid=1242552)\u001b[0m Epoch 10/100\u001b[32m [repeated 26x across cluster]\u001b[0m\n",
      "\u001b[2m\u001b[36m(ClientAppActor pid=1242552)\u001b[0m Epoch 9: Training accuracy: 84.85576629638672 Testing accuracy: 76.28205108642578.\u001b[32m [repeated 26x across cluster]\u001b[0m\n",
      "\u001b[2m\u001b[36m(ClientAppActor pid=1242551)\u001b[0m \u001b[32m [repeated 31x across cluster]\u001b[0m\n",
      "\u001b[2m\u001b[36m(ClientAppActor pid=1242551)\u001b[0m Epoch 54/100\u001b[32m [repeated 31x across cluster]\u001b[0m\n",
      "\u001b[2m\u001b[36m(ClientAppActor pid=1242551)\u001b[0m Epoch 53: Training accuracy: 81.73652648925781 Testing accuracy: 77.2455062866211.\u001b[32m [repeated 31x across cluster]\u001b[0m\n",
      "\u001b[2m\u001b[36m(ClientAppActor pid=1242551)\u001b[0m \u001b[32m [repeated 27x across cluster]\u001b[0m\n",
      "\u001b[2m\u001b[36m(ClientAppActor pid=1242551)\u001b[0m Epoch 75/100\u001b[32m [repeated 27x across cluster]\u001b[0m\n",
      "\u001b[2m\u001b[36m(ClientAppActor pid=1242551)\u001b[0m Epoch 74: Training accuracy: 80.0898208618164 Testing accuracy: 76.6467056274414.\u001b[32m [repeated 27x across cluster]\u001b[0m\n",
      "\u001b[2m\u001b[36m(ClientAppActor pid=1242551)\u001b[0m \u001b[32m [repeated 26x across cluster]\u001b[0m\n",
      "\u001b[2m\u001b[36m(ClientAppActor pid=1242551)\u001b[0m Epoch 94/100\u001b[32m [repeated 26x across cluster]\u001b[0m\n",
      "\u001b[2m\u001b[36m(ClientAppActor pid=1242551)\u001b[0m Epoch 93: Training accuracy: 78.74251556396484 Testing accuracy: 76.6467056274414.\u001b[32m [repeated 26x across cluster]\u001b[0m\n",
      "\u001b[2m\u001b[36m(ClientAppActor pid=1242551)\u001b[0m \u001b[32m [repeated 28x across cluster]\u001b[0m\n",
      "\u001b[2m\u001b[36m(ClientAppActor pid=1242551)\u001b[0m Epoch 15/100\u001b[32m [repeated 28x across cluster]\u001b[0m\n",
      "\u001b[2m\u001b[36m(ClientAppActor pid=1242551)\u001b[0m Epoch 14: Training accuracy: 81.73076629638672 Testing accuracy: 72.78106689453125.\u001b[32m [repeated 28x across cluster]\u001b[0m\n",
      "\u001b[2m\u001b[36m(ClientAppActor pid=1242552)\u001b[0m \u001b[32m [repeated 94x across cluster]\u001b[0m\n",
      "\u001b[2m\u001b[36m(ClientAppActor pid=1242552)\u001b[0m Epoch 46/100\u001b[32m [repeated 94x across cluster]\u001b[0m\n",
      "\u001b[2m\u001b[36m(ClientAppActor pid=1242552)\u001b[0m Epoch 45: Training accuracy: 85.33654022216797 Testing accuracy: 76.28205108642578.\u001b[32m [repeated 95x across cluster]\u001b[0m\n",
      "\u001b[2m\u001b[36m(ClientAppActor pid=1242552)\u001b[0m \u001b[32m [repeated 15x across cluster]\u001b[0m\n",
      "\u001b[2m\u001b[36m(ClientAppActor pid=1242552)\u001b[0m Epoch 61/100\u001b[32m [repeated 15x across cluster]\u001b[0m\n",
      "\u001b[2m\u001b[36m(ClientAppActor pid=1242552)\u001b[0m Epoch 60: Training accuracy: 84.61538696289062 Testing accuracy: 80.12820434570312.\u001b[32m [repeated 15x across cluster]\u001b[0m\n",
      "\u001b[2m\u001b[36m(ClientAppActor pid=1242552)\u001b[0m \u001b[32m [repeated 15x across cluster]\u001b[0m\n",
      "\u001b[2m\u001b[36m(ClientAppActor pid=1242552)\u001b[0m Epoch 76/100\u001b[32m [repeated 15x across cluster]\u001b[0m\n",
      "\u001b[2m\u001b[36m(ClientAppActor pid=1242552)\u001b[0m Epoch 75: Training accuracy: 85.01602935791016 Testing accuracy: 75.64102935791016.\u001b[32m [repeated 15x across cluster]\u001b[0m\n",
      "\u001b[2m\u001b[36m(ClientAppActor pid=1242552)\u001b[0m \u001b[32m [repeated 8x across cluster]\u001b[0m\n",
      "\u001b[2m\u001b[36m(ClientAppActor pid=1242552)\u001b[0m Epoch 84/100\u001b[32m [repeated 8x across cluster]\u001b[0m\n",
      "\u001b[2m\u001b[36m(ClientAppActor pid=1242552)\u001b[0m Epoch 83: Training accuracy: 85.41666412353516 Testing accuracy: 77.56410217285156.\u001b[32m [repeated 8x across cluster]\u001b[0m\n",
      "\u001b[2m\u001b[36m(ClientAppActor pid=1242552)\u001b[0m \u001b[32m [repeated 10x across cluster]\u001b[0m\n",
      "\u001b[2m\u001b[36m(ClientAppActor pid=1242552)\u001b[0m Epoch 94/100\u001b[32m [repeated 10x across cluster]\u001b[0m\n",
      "\u001b[2m\u001b[36m(ClientAppActor pid=1242552)\u001b[0m Epoch 93: Training accuracy: 85.17628479003906 Testing accuracy: 76.92308044433594.\u001b[32m [repeated 10x across cluster]\u001b[0m\n"
     ]
    },
    {
     "name": "stderr",
     "output_type": "stream",
     "text": [
      "\u001b[92mINFO \u001b[0m:      aggregate_fit: received 3 results and 0 failures\n",
      "\u001b[92mINFO \u001b[0m:      fit progress: (24, 0.054000388492237435, {'accuracy': tensor(69.5279, device='cuda:0')}, 1505.9108126329957)\n",
      "\u001b[92mINFO \u001b[0m:      configure_evaluate: strategy sampled 1 clients (out of 3)\n"
     ]
    },
    {
     "name": "stdout",
     "output_type": "stream",
     "text": [
      "Server-side evaluation loss 0.054000388492237435 / accuracy 69.52790069580078\n"
     ]
    },
    {
     "name": "stderr",
     "output_type": "stream",
     "text": [
      "\u001b[92mINFO \u001b[0m:      aggregate_evaluate: received 1 results and 0 failures\n",
      "\u001b[92mINFO \u001b[0m:      \n",
      "\u001b[92mINFO \u001b[0m:      [ROUND 25]\n",
      "\u001b[92mINFO \u001b[0m:      configure_fit: strategy sampled 3 clients (out of 3)\n"
     ]
    },
    {
     "name": "stdout",
     "output_type": "stream",
     "text": [
      "\u001b[2m\u001b[36m(ClientAppActor pid=1242552)\u001b[0m \u001b[32m [repeated 9x across cluster]\u001b[0m\n",
      "\u001b[2m\u001b[36m(ClientAppActor pid=1242552)\u001b[0m Epoch 2/100\u001b[32m [repeated 9x across cluster]\u001b[0m\n",
      "\u001b[2m\u001b[36m(ClientAppActor pid=1242552)\u001b[0m Epoch 1: Training accuracy: 80.36859130859375 Testing accuracy: 74.35897064208984.\u001b[32m [repeated 8x across cluster]\u001b[0m\n",
      "\u001b[2m\u001b[36m(ClientAppActor pid=1242551)\u001b[0m \u001b[32m [repeated 32x across cluster]\u001b[0m\n",
      "\u001b[2m\u001b[36m(ClientAppActor pid=1242551)\u001b[0m Epoch 21/100\u001b[32m [repeated 32x across cluster]\u001b[0m\n",
      "\u001b[2m\u001b[36m(ClientAppActor pid=1242551)\u001b[0m Epoch 20: Training accuracy: 81.80473327636719 Testing accuracy: 70.41419982910156.\u001b[32m [repeated 32x across cluster]\u001b[0m\n",
      "\u001b[2m\u001b[36m(ClientAppActor pid=1242552)\u001b[0m \u001b[32m [repeated 32x across cluster]\u001b[0m\n",
      "\u001b[2m\u001b[36m(ClientAppActor pid=1242552)\u001b[0m Epoch 27/100\u001b[32m [repeated 32x across cluster]\u001b[0m\n",
      "\u001b[2m\u001b[36m(ClientAppActor pid=1242552)\u001b[0m Epoch 26: Training accuracy: 85.09615325927734 Testing accuracy: 78.20513153076172.\u001b[32m [repeated 32x across cluster]\u001b[0m\n",
      "\u001b[2m\u001b[36m(ClientAppActor pid=1242551)\u001b[0m \u001b[32m [repeated 33x across cluster]\u001b[0m\n",
      "\u001b[2m\u001b[36m(ClientAppActor pid=1242551)\u001b[0m Epoch 61/100\u001b[32m [repeated 33x across cluster]\u001b[0m\n",
      "\u001b[2m\u001b[36m(ClientAppActor pid=1242551)\u001b[0m Epoch 60: Training accuracy: 82.10059356689453 Testing accuracy: 72.18934631347656.\u001b[32m [repeated 33x across cluster]\u001b[0m\n",
      "\u001b[2m\u001b[36m(ClientAppActor pid=1242551)\u001b[0m \u001b[32m [repeated 63x across cluster]\u001b[0m\n",
      "\u001b[2m\u001b[36m(ClientAppActor pid=1242551)\u001b[0m Epoch 95/100\u001b[32m [repeated 63x across cluster]\u001b[0m\n",
      "\u001b[2m\u001b[36m(ClientAppActor pid=1242551)\u001b[0m Epoch 94: Training accuracy: 82.69230651855469 Testing accuracy: 72.18934631347656.\u001b[32m [repeated 63x across cluster]\u001b[0m\n",
      "\u001b[2m\u001b[36m(ClientAppActor pid=1242551)\u001b[0m \u001b[32m [repeated 31x across cluster]\u001b[0m\n",
      "\u001b[2m\u001b[36m(ClientAppActor pid=1242551)\u001b[0m Epoch 8/100\u001b[32m [repeated 31x across cluster]\u001b[0m\n",
      "\u001b[2m\u001b[36m(ClientAppActor pid=1242551)\u001b[0m Epoch 7: Training accuracy: 80.0898208618164 Testing accuracy: 76.04790496826172.\u001b[32m [repeated 31x across cluster]\u001b[0m\n",
      "\u001b[2m\u001b[36m(ClientAppActor pid=1242551)\u001b[0m \u001b[32m [repeated 26x across cluster]\u001b[0m\n",
      "\u001b[2m\u001b[36m(ClientAppActor pid=1242551)\u001b[0m Epoch 23/100\u001b[32m [repeated 26x across cluster]\u001b[0m\n",
      "\u001b[2m\u001b[36m(ClientAppActor pid=1242551)\u001b[0m Epoch 22: Training accuracy: 81.13772583007812 Testing accuracy: 75.44910430908203.\u001b[32m [repeated 26x across cluster]\u001b[0m\n",
      "\u001b[2m\u001b[36m(ClientAppActor pid=1242551)\u001b[0m \u001b[32m [repeated 20x across cluster]\u001b[0m\n",
      "\u001b[2m\u001b[36m(ClientAppActor pid=1242551)\u001b[0m Epoch 40/100\u001b[32m [repeated 20x across cluster]\u001b[0m\n",
      "\u001b[2m\u001b[36m(ClientAppActor pid=1242551)\u001b[0m Epoch 39: Training accuracy: 81.51197814941406 Testing accuracy: 76.6467056274414.\u001b[32m [repeated 21x across cluster]\u001b[0m\n",
      "\u001b[2m\u001b[36m(ClientAppActor pid=1242551)\u001b[0m \u001b[32m [repeated 9x across cluster]\u001b[0m\n",
      "\u001b[2m\u001b[36m(ClientAppActor pid=1242551)\u001b[0m Epoch 49/100\u001b[32m [repeated 9x across cluster]\u001b[0m\n",
      "\u001b[2m\u001b[36m(ClientAppActor pid=1242551)\u001b[0m Epoch 48: Training accuracy: 81.06287384033203 Testing accuracy: 76.04790496826172.\u001b[32m [repeated 9x across cluster]\u001b[0m\n",
      "\u001b[2m\u001b[36m(ClientAppActor pid=1242551)\u001b[0m \u001b[32m [repeated 9x across cluster]\u001b[0m\n",
      "\u001b[2m\u001b[36m(ClientAppActor pid=1242551)\u001b[0m Epoch 58/100\u001b[32m [repeated 9x across cluster]\u001b[0m\n",
      "\u001b[2m\u001b[36m(ClientAppActor pid=1242551)\u001b[0m Epoch 57: Training accuracy: 80.53892517089844 Testing accuracy: 78.443115234375.\u001b[32m [repeated 9x across cluster]\u001b[0m\n",
      "\u001b[2m\u001b[36m(ClientAppActor pid=1242551)\u001b[0m \u001b[32m [repeated 9x across cluster]\u001b[0m\n",
      "\u001b[2m\u001b[36m(ClientAppActor pid=1242551)\u001b[0m Epoch 67/100\u001b[32m [repeated 9x across cluster]\u001b[0m\n",
      "\u001b[2m\u001b[36m(ClientAppActor pid=1242551)\u001b[0m Epoch 66: Training accuracy: 80.53892517089844 Testing accuracy: 75.44910430908203.\u001b[32m [repeated 9x across cluster]\u001b[0m\n",
      "\u001b[2m\u001b[36m(ClientAppActor pid=1242551)\u001b[0m \u001b[32m [repeated 9x across cluster]\u001b[0m\n",
      "\u001b[2m\u001b[36m(ClientAppActor pid=1242551)\u001b[0m Epoch 76/100\u001b[32m [repeated 9x across cluster]\u001b[0m\n",
      "\u001b[2m\u001b[36m(ClientAppActor pid=1242551)\u001b[0m Epoch 75: Training accuracy: 81.13772583007812 Testing accuracy: 76.04790496826172.\u001b[32m [repeated 9x across cluster]\u001b[0m\n",
      "\u001b[2m\u001b[36m(ClientAppActor pid=1242551)\u001b[0m \u001b[32m [repeated 9x across cluster]\u001b[0m\n",
      "\u001b[2m\u001b[36m(ClientAppActor pid=1242551)\u001b[0m Epoch 85/100\u001b[32m [repeated 9x across cluster]\u001b[0m\n",
      "\u001b[2m\u001b[36m(ClientAppActor pid=1242551)\u001b[0m Epoch 84: Training accuracy: 78.29341125488281 Testing accuracy: 74.85029602050781.\u001b[32m [repeated 9x across cluster]\u001b[0m\n",
      "\u001b[2m\u001b[36m(ClientAppActor pid=1242551)\u001b[0m \u001b[32m [repeated 9x across cluster]\u001b[0m\n",
      "\u001b[2m\u001b[36m(ClientAppActor pid=1242551)\u001b[0m Epoch 94/100\u001b[32m [repeated 9x across cluster]\u001b[0m\n",
      "\u001b[2m\u001b[36m(ClientAppActor pid=1242551)\u001b[0m Epoch 93: Training accuracy: 81.51197814941406 Testing accuracy: 76.6467056274414.\u001b[32m [repeated 9x across cluster]\u001b[0m\n"
     ]
    },
    {
     "name": "stderr",
     "output_type": "stream",
     "text": [
      "\u001b[92mINFO \u001b[0m:      aggregate_fit: received 3 results and 0 failures\n",
      "\u001b[92mINFO \u001b[0m:      fit progress: (25, 0.05460675738074563, {'accuracy': tensor(69.5279, device='cuda:0')}, 1579.454205172995)\n",
      "\u001b[92mINFO \u001b[0m:      configure_evaluate: strategy sampled 1 clients (out of 3)\n",
      "\u001b[92mINFO \u001b[0m:      aggregate_evaluate: received 1 results and 0 failures\n",
      "\u001b[92mINFO \u001b[0m:      \n",
      "\u001b[92mINFO \u001b[0m:      [ROUND 26]\n",
      "\u001b[92mINFO \u001b[0m:      configure_fit: strategy sampled 3 clients (out of 3)\n"
     ]
    },
    {
     "name": "stdout",
     "output_type": "stream",
     "text": [
      "Server-side evaluation loss 0.05460675738074563 / accuracy 69.52790069580078\n",
      "\u001b[2m\u001b[36m(ClientAppActor pid=1242551)\u001b[0m \u001b[32m [repeated 7x across cluster]\u001b[0m\n",
      "\u001b[2m\u001b[36m(ClientAppActor pid=1242551)\u001b[0m Epoch 1/100\u001b[32m [repeated 7x across cluster]\u001b[0m\n",
      "\u001b[2m\u001b[36m(ClientAppActor pid=1242551)\u001b[0m Epoch 100: Training accuracy: 78.8922119140625 Testing accuracy: 73.05389404296875.\u001b[32m [repeated 7x across cluster]\u001b[0m\n",
      "\u001b[2m\u001b[36m(ClientAppActor pid=1242552)\u001b[0m \u001b[32m [repeated 16x across cluster]\u001b[0m\n",
      "\u001b[2m\u001b[36m(ClientAppActor pid=1242552)\u001b[0m Epoch 8/100\u001b[32m [repeated 16x across cluster]\u001b[0m\n",
      "\u001b[2m\u001b[36m(ClientAppActor pid=1242552)\u001b[0m Epoch 7: Training accuracy: 84.93589782714844 Testing accuracy: 76.92308044433594.\u001b[32m [repeated 15x across cluster]\u001b[0m\n",
      "\u001b[2m\u001b[36m(ClientAppActor pid=1242551)\u001b[0m \u001b[32m [repeated 16x across cluster]\u001b[0m\n",
      "\u001b[2m\u001b[36m(ClientAppActor pid=1242551)\u001b[0m Epoch 19/100\u001b[32m [repeated 16x across cluster]\u001b[0m\n",
      "\u001b[2m\u001b[36m(ClientAppActor pid=1242551)\u001b[0m Epoch 18: Training accuracy: 80.61376953125 Testing accuracy: 73.05389404296875.\u001b[32m [repeated 16x across cluster]\u001b[0m\n",
      "\u001b[2m\u001b[36m(ClientAppActor pid=1242551)\u001b[0m \u001b[32m [repeated 15x across cluster]\u001b[0m\n",
      "\u001b[2m\u001b[36m(ClientAppActor pid=1242551)\u001b[0m Epoch 27/100\u001b[32m [repeated 15x across cluster]\u001b[0m\n",
      "\u001b[2m\u001b[36m(ClientAppActor pid=1242551)\u001b[0m Epoch 26: Training accuracy: 80.23951721191406 Testing accuracy: 74.85029602050781.\u001b[32m [repeated 15x across cluster]\u001b[0m\n",
      "\u001b[2m\u001b[36m(ClientAppActor pid=1242552)\u001b[0m \u001b[32m [repeated 17x across cluster]\u001b[0m\n",
      "\u001b[2m\u001b[36m(ClientAppActor pid=1242552)\u001b[0m Epoch 29/100\u001b[32m [repeated 17x across cluster]\u001b[0m\n",
      "\u001b[2m\u001b[36m(ClientAppActor pid=1242552)\u001b[0m Epoch 28: Training accuracy: 84.5352554321289 Testing accuracy: 75.0.\u001b[32m [repeated 17x across cluster]\u001b[0m\n",
      "\u001b[2m\u001b[36m(ClientAppActor pid=1242551)\u001b[0m \u001b[32m [repeated 28x across cluster]\u001b[0m\n",
      "\u001b[2m\u001b[36m(ClientAppActor pid=1242551)\u001b[0m Epoch 56/100\u001b[32m [repeated 28x across cluster]\u001b[0m\n",
      "\u001b[2m\u001b[36m(ClientAppActor pid=1242551)\u001b[0m Epoch 55: Training accuracy: 80.53892517089844 Testing accuracy: 75.44910430908203.\u001b[32m [repeated 28x across cluster]\u001b[0m\n",
      "\u001b[2m\u001b[36m(ClientAppActor pid=1242551)\u001b[0m \u001b[32m [repeated 49x across cluster]\u001b[0m\n",
      "\u001b[2m\u001b[36m(ClientAppActor pid=1242551)\u001b[0m Epoch 95/100\u001b[32m [repeated 49x across cluster]\u001b[0m\n",
      "\u001b[2m\u001b[36m(ClientAppActor pid=1242551)\u001b[0m Epoch 94: Training accuracy: 81.06287384033203 Testing accuracy: 79.04191589355469.\u001b[32m [repeated 49x across cluster]\u001b[0m\n",
      "\u001b[2m\u001b[36m(ClientAppActor pid=1242552)\u001b[0m \u001b[32m [repeated 58x across cluster]\u001b[0m\n",
      "\u001b[2m\u001b[36m(ClientAppActor pid=1242552)\u001b[0m Epoch 80/100\u001b[32m [repeated 58x across cluster]\u001b[0m\n",
      "\u001b[2m\u001b[36m(ClientAppActor pid=1242552)\u001b[0m Epoch 79: Training accuracy: 85.33654022216797 Testing accuracy: 75.64102935791016.\u001b[32m [repeated 58x across cluster]\u001b[0m\n",
      "\u001b[2m\u001b[36m(ClientAppActor pid=1242551)\u001b[0m \u001b[32m [repeated 48x across cluster]\u001b[0m\n",
      "\u001b[2m\u001b[36m(ClientAppActor pid=1242551)\u001b[0m Epoch 48/100\u001b[32m [repeated 48x across cluster]\u001b[0m\n",
      "\u001b[2m\u001b[36m(ClientAppActor pid=1242551)\u001b[0m Epoch 47: Training accuracy: 82.91419982910156 Testing accuracy: 72.18934631347656.\u001b[32m [repeated 49x across cluster]\u001b[0m\n",
      "\u001b[2m\u001b[36m(ClientAppActor pid=1242551)\u001b[0m \u001b[32m [repeated 11x across cluster]\u001b[0m\n",
      "\u001b[2m\u001b[36m(ClientAppActor pid=1242551)\u001b[0m Epoch 59/100\u001b[32m [repeated 11x across cluster]\u001b[0m\n",
      "\u001b[2m\u001b[36m(ClientAppActor pid=1242551)\u001b[0m Epoch 58: Training accuracy: 82.76627349853516 Testing accuracy: 71.5976333618164.\u001b[32m [repeated 11x across cluster]\u001b[0m\n",
      "\u001b[2m\u001b[36m(ClientAppActor pid=1242551)\u001b[0m \u001b[32m [repeated 17x across cluster]\u001b[0m\n",
      "\u001b[2m\u001b[36m(ClientAppActor pid=1242551)\u001b[0m Epoch 76/100\u001b[32m [repeated 17x across cluster]\u001b[0m\n",
      "\u001b[2m\u001b[36m(ClientAppActor pid=1242551)\u001b[0m Epoch 75: Training accuracy: 82.02662658691406 Testing accuracy: 71.00592041015625.\u001b[32m [repeated 17x across cluster]\u001b[0m\n"
     ]
    },
    {
     "name": "stderr",
     "output_type": "stream",
     "text": [
      "\u001b[92mINFO \u001b[0m:      aggregate_fit: received 3 results and 0 failures\n",
      "\u001b[92mINFO \u001b[0m:      fit progress: (26, 0.0526570894501426, {'accuracy': tensor(69.9571, device='cuda:0')}, 1636.0120938990003)\n",
      "\u001b[92mINFO \u001b[0m:      configure_evaluate: strategy sampled 1 clients (out of 3)\n",
      "\u001b[92mINFO \u001b[0m:      aggregate_evaluate: received 1 results and 0 failures\n",
      "\u001b[92mINFO \u001b[0m:      \n",
      "\u001b[92mINFO \u001b[0m:      [ROUND 27]\n",
      "\u001b[92mINFO \u001b[0m:      configure_fit: strategy sampled 3 clients (out of 3)\n"
     ]
    },
    {
     "name": "stdout",
     "output_type": "stream",
     "text": [
      "Server-side evaluation loss 0.0526570894501426 / accuracy 69.95708465576172\n",
      "\u001b[2m\u001b[36m(ClientAppActor pid=1242551)\u001b[0m \u001b[32m [repeated 27x across cluster]\u001b[0m\n",
      "\u001b[2m\u001b[36m(ClientAppActor pid=1242551)\u001b[0m Epoch 2/100\u001b[32m [repeated 27x across cluster]\u001b[0m\n",
      "\u001b[2m\u001b[36m(ClientAppActor pid=1242551)\u001b[0m Epoch 1: Training accuracy: 80.84935760498047 Testing accuracy: 72.43589782714844.\u001b[32m [repeated 26x across cluster]\u001b[0m\n",
      "\u001b[2m\u001b[36m(ClientAppActor pid=1242551)\u001b[0m \u001b[32m [repeated 39x across cluster]\u001b[0m\n",
      "\u001b[2m\u001b[36m(ClientAppActor pid=1242551)\u001b[0m Epoch 22/100\u001b[32m [repeated 39x across cluster]\u001b[0m\n",
      "\u001b[2m\u001b[36m(ClientAppActor pid=1242551)\u001b[0m Epoch 21: Training accuracy: 85.57691955566406 Testing accuracy: 75.64102935791016.\u001b[32m [repeated 39x across cluster]\u001b[0m\n",
      "\u001b[2m\u001b[36m(ClientAppActor pid=1242551)\u001b[0m \u001b[32m [repeated 17x across cluster]\u001b[0m\n",
      "\u001b[2m\u001b[36m(ClientAppActor pid=1242551)\u001b[0m Epoch 32/100\u001b[32m [repeated 17x across cluster]\u001b[0m\n",
      "\u001b[2m\u001b[36m(ClientAppActor pid=1242551)\u001b[0m Epoch 31: Training accuracy: 83.41345977783203 Testing accuracy: 75.0.\u001b[32m [repeated 17x across cluster]\u001b[0m\n",
      "\u001b[2m\u001b[36m(ClientAppActor pid=1242551)\u001b[0m \u001b[32m [repeated 14x across cluster]\u001b[0m\n",
      "\u001b[2m\u001b[36m(ClientAppActor pid=1242551)\u001b[0m Epoch 40/100\u001b[32m [repeated 14x across cluster]\u001b[0m\n",
      "\u001b[2m\u001b[36m(ClientAppActor pid=1242551)\u001b[0m Epoch 39: Training accuracy: 85.8974380493164 Testing accuracy: 76.92308044433594.\u001b[32m [repeated 14x across cluster]\u001b[0m\n",
      "\u001b[2m\u001b[36m(ClientAppActor pid=1242552)\u001b[0m \u001b[32m [repeated 18x across cluster]\u001b[0m\n",
      "\u001b[2m\u001b[36m(ClientAppActor pid=1242552)\u001b[0m Epoch 41/100\u001b[32m [repeated 18x across cluster]\u001b[0m\n",
      "\u001b[2m\u001b[36m(ClientAppActor pid=1242552)\u001b[0m Epoch 40: Training accuracy: 81.28742218017578 Testing accuracy: 76.04790496826172.\u001b[32m [repeated 18x across cluster]\u001b[0m\n",
      "\u001b[2m\u001b[36m(ClientAppActor pid=1242551)\u001b[0m \u001b[32m [repeated 16x across cluster]\u001b[0m\n",
      "\u001b[2m\u001b[36m(ClientAppActor pid=1242551)\u001b[0m Epoch 60/100\u001b[32m [repeated 16x across cluster]\u001b[0m\n",
      "\u001b[2m\u001b[36m(ClientAppActor pid=1242551)\u001b[0m Epoch 59: Training accuracy: 85.8974380493164 Testing accuracy: 76.92308044433594.\u001b[32m [repeated 16x across cluster]\u001b[0m\n",
      "\u001b[2m\u001b[36m(ClientAppActor pid=1242551)\u001b[0m \u001b[32m [repeated 16x across cluster]\u001b[0m\n",
      "\u001b[2m\u001b[36m(ClientAppActor pid=1242551)\u001b[0m Epoch 69/100\u001b[32m [repeated 16x across cluster]\u001b[0m\n",
      "\u001b[2m\u001b[36m(ClientAppActor pid=1242551)\u001b[0m Epoch 68: Training accuracy: 84.5352554321289 Testing accuracy: 77.56410217285156.\u001b[32m [repeated 16x across cluster]\u001b[0m\n",
      "\u001b[2m\u001b[36m(ClientAppActor pid=1242551)\u001b[0m \u001b[32m [repeated 35x across cluster]\u001b[0m\n",
      "\u001b[2m\u001b[36m(ClientAppActor pid=1242551)\u001b[0m Epoch 98/100\u001b[32m [repeated 35x across cluster]\u001b[0m\n",
      "\u001b[2m\u001b[36m(ClientAppActor pid=1242551)\u001b[0m Epoch 97: Training accuracy: 85.41666412353516 Testing accuracy: 76.28205108642578.\u001b[32m [repeated 35x across cluster]\u001b[0m\n",
      "\u001b[2m\u001b[36m(ClientAppActor pid=1242552)\u001b[0m \u001b[32m [repeated 37x across cluster]\u001b[0m\n",
      "\u001b[2m\u001b[36m(ClientAppActor pid=1242552)\u001b[0m Epoch 71/100\u001b[32m [repeated 37x across cluster]\u001b[0m\n",
      "\u001b[2m\u001b[36m(ClientAppActor pid=1242552)\u001b[0m Epoch 70: Training accuracy: 81.13772583007812 Testing accuracy: 75.44910430908203.\u001b[32m [repeated 37x across cluster]\u001b[0m\n",
      "\u001b[2m\u001b[36m(ClientAppActor pid=1242551)\u001b[0m \u001b[32m [repeated 41x across cluster]\u001b[0m\n",
      "\u001b[2m\u001b[36m(ClientAppActor pid=1242551)\u001b[0m Epoch 56/100\u001b[32m [repeated 41x across cluster]\u001b[0m\n",
      "\u001b[2m\u001b[36m(ClientAppActor pid=1242551)\u001b[0m Epoch 55: Training accuracy: 82.61833953857422 Testing accuracy: 71.00592041015625.\u001b[32m [repeated 41x across cluster]\u001b[0m\n",
      "\u001b[2m\u001b[36m(ClientAppActor pid=1242551)\u001b[0m \u001b[32m [repeated 29x across cluster]\u001b[0m\n",
      "\u001b[2m\u001b[36m(ClientAppActor pid=1242551)\u001b[0m Epoch 77/100\u001b[32m [repeated 29x across cluster]\u001b[0m\n",
      "\u001b[2m\u001b[36m(ClientAppActor pid=1242551)\u001b[0m Epoch 76: Training accuracy: 82.47041320800781 Testing accuracy: 72.18934631347656.\u001b[32m [repeated 29x across cluster]\u001b[0m\n",
      "\u001b[2m\u001b[36m(ClientAppActor pid=1242551)\u001b[0m \u001b[32m [repeated 29x across cluster]\u001b[0m\n",
      "\u001b[2m\u001b[36m(ClientAppActor pid=1242551)\u001b[0m Epoch 100/100\u001b[32m [repeated 29x across cluster]\u001b[0m\n",
      "\u001b[2m\u001b[36m(ClientAppActor pid=1242551)\u001b[0m Epoch 99: Training accuracy: 82.69230651855469 Testing accuracy: 71.5976333618164.\u001b[32m [repeated 29x across cluster]\u001b[0m\n"
     ]
    },
    {
     "name": "stderr",
     "output_type": "stream",
     "text": [
      "\u001b[92mINFO \u001b[0m:      aggregate_fit: received 3 results and 0 failures\n",
      "\u001b[92mINFO \u001b[0m:      fit progress: (27, 0.05020384355024858, {'accuracy': tensor(71.2446, device='cuda:0')}, 1698.1537214679993)\n",
      "\u001b[92mINFO \u001b[0m:      configure_evaluate: strategy sampled 1 clients (out of 3)\n"
     ]
    },
    {
     "name": "stdout",
     "output_type": "stream",
     "text": [
      "Server-side evaluation loss 0.05020384355024858 / accuracy 71.24463653564453\n"
     ]
    },
    {
     "name": "stderr",
     "output_type": "stream",
     "text": [
      "\u001b[92mINFO \u001b[0m:      aggregate_evaluate: received 1 results and 0 failures\n",
      "\u001b[92mINFO \u001b[0m:      \n",
      "\u001b[92mINFO \u001b[0m:      [ROUND 28]\n",
      "\u001b[92mINFO \u001b[0m:      configure_fit: strategy sampled 3 clients (out of 3)\n"
     ]
    },
    {
     "name": "stdout",
     "output_type": "stream",
     "text": [
      "\u001b[2m\u001b[36m(ClientAppActor pid=1242551)\u001b[0m \u001b[32m [repeated 7x across cluster]\u001b[0m\n",
      "\u001b[2m\u001b[36m(ClientAppActor pid=1242551)\u001b[0m Epoch 1/100\u001b[32m [repeated 7x across cluster]\u001b[0m\n",
      "\u001b[2m\u001b[36m(ClientAppActor pid=1242552)\u001b[0m Epoch 100: Training accuracy: 80.38922119140625 Testing accuracy: 73.65269470214844.\u001b[32m [repeated 8x across cluster]\u001b[0m\n",
      "\u001b[2m\u001b[36m(ClientAppActor pid=1242551)\u001b[0m \u001b[32m [repeated 29x across cluster]\u001b[0m\n",
      "\u001b[2m\u001b[36m(ClientAppActor pid=1242551)\u001b[0m Epoch 24/100\u001b[32m [repeated 29x across cluster]\u001b[0m\n",
      "\u001b[2m\u001b[36m(ClientAppActor pid=1242551)\u001b[0m Epoch 23: Training accuracy: 80.31436920166016 Testing accuracy: 74.85029602050781.\u001b[32m [repeated 28x across cluster]\u001b[0m\n",
      "\u001b[2m\u001b[36m(ClientAppActor pid=1242551)\u001b[0m \u001b[32m [repeated 30x across cluster]\u001b[0m\n",
      "\u001b[2m\u001b[36m(ClientAppActor pid=1242551)\u001b[0m Epoch 47/100\u001b[32m [repeated 30x across cluster]\u001b[0m\n",
      "\u001b[2m\u001b[36m(ClientAppActor pid=1242551)\u001b[0m Epoch 46: Training accuracy: 80.98802185058594 Testing accuracy: 76.04790496826172.\u001b[32m [repeated 30x across cluster]\u001b[0m\n",
      "\u001b[2m\u001b[36m(ClientAppActor pid=1242551)\u001b[0m \u001b[32m [repeated 26x across cluster]\u001b[0m\n",
      "\u001b[2m\u001b[36m(ClientAppActor pid=1242551)\u001b[0m Epoch 68/100\u001b[32m [repeated 26x across cluster]\u001b[0m\n",
      "\u001b[2m\u001b[36m(ClientAppActor pid=1242551)\u001b[0m Epoch 67: Training accuracy: 81.21257781982422 Testing accuracy: 76.04790496826172.\u001b[32m [repeated 26x across cluster]\u001b[0m\n",
      "\u001b[2m\u001b[36m(ClientAppActor pid=1242551)\u001b[0m \u001b[32m [repeated 28x across cluster]\u001b[0m\n",
      "\u001b[2m\u001b[36m(ClientAppActor pid=1242551)\u001b[0m Epoch 89/100\u001b[32m [repeated 28x across cluster]\u001b[0m\n",
      "\u001b[2m\u001b[36m(ClientAppActor pid=1242551)\u001b[0m Epoch 88: Training accuracy: 81.36227416992188 Testing accuracy: 76.04790496826172.\u001b[32m [repeated 28x across cluster]\u001b[0m\n",
      "\u001b[2m\u001b[36m(ClientAppActor pid=1242551)\u001b[0m \u001b[32m [repeated 25x across cluster]\u001b[0m\n",
      "\u001b[2m\u001b[36m(ClientAppActor pid=1242551)\u001b[0m Epoch 9/100\u001b[32m [repeated 25x across cluster]\u001b[0m\n",
      "\u001b[2m\u001b[36m(ClientAppActor pid=1242551)\u001b[0m Epoch 8: Training accuracy: 85.25640869140625 Testing accuracy: 78.20513153076172.\u001b[32m [repeated 25x across cluster]\u001b[0m\n",
      "\u001b[2m\u001b[36m(ClientAppActor pid=1242551)\u001b[0m \u001b[32m [repeated 52x across cluster]\u001b[0m\n",
      "\u001b[2m\u001b[36m(ClientAppActor pid=1242551)\u001b[0m Epoch 54/100\u001b[32m [repeated 52x across cluster]\u001b[0m\n",
      "\u001b[2m\u001b[36m(ClientAppActor pid=1242551)\u001b[0m Epoch 53: Training accuracy: 85.81730651855469 Testing accuracy: 77.56410217285156.\u001b[32m [repeated 52x across cluster]\u001b[0m\n",
      "\u001b[2m\u001b[36m(ClientAppActor pid=1242552)\u001b[0m \u001b[32m [repeated 55x across cluster]\u001b[0m\n",
      "\u001b[2m\u001b[36m(ClientAppActor pid=1242552)\u001b[0m Epoch 46/100\u001b[32m [repeated 55x across cluster]\u001b[0m\n",
      "\u001b[2m\u001b[36m(ClientAppActor pid=1242552)\u001b[0m Epoch 45: Training accuracy: 82.02662658691406 Testing accuracy: 72.18934631347656.\u001b[32m [repeated 56x across cluster]\u001b[0m\n",
      "\u001b[2m\u001b[36m(ClientAppActor pid=1242552)\u001b[0m \u001b[32m [repeated 10x across cluster]\u001b[0m\n",
      "\u001b[2m\u001b[36m(ClientAppActor pid=1242552)\u001b[0m Epoch 56/100\u001b[32m [repeated 10x across cluster]\u001b[0m\n",
      "\u001b[2m\u001b[36m(ClientAppActor pid=1242552)\u001b[0m Epoch 55: Training accuracy: 82.10059356689453 Testing accuracy: 72.18934631347656.\u001b[32m [repeated 10x across cluster]\u001b[0m\n",
      "\u001b[2m\u001b[36m(ClientAppActor pid=1242552)\u001b[0m \u001b[32m [repeated 9x across cluster]\u001b[0m\n",
      "\u001b[2m\u001b[36m(ClientAppActor pid=1242552)\u001b[0m Epoch 65/100\u001b[32m [repeated 9x across cluster]\u001b[0m\n",
      "\u001b[2m\u001b[36m(ClientAppActor pid=1242552)\u001b[0m Epoch 64: Training accuracy: 83.0621337890625 Testing accuracy: 73.3727798461914.\u001b[32m [repeated 9x across cluster]\u001b[0m\n",
      "\u001b[2m\u001b[36m(ClientAppActor pid=1242552)\u001b[0m \u001b[32m [repeated 6x across cluster]\u001b[0m\n",
      "\u001b[2m\u001b[36m(ClientAppActor pid=1242552)\u001b[0m Epoch 71/100\u001b[32m [repeated 6x across cluster]\u001b[0m\n",
      "\u001b[2m\u001b[36m(ClientAppActor pid=1242552)\u001b[0m Epoch 70: Training accuracy: 83.13609313964844 Testing accuracy: 72.18934631347656.\u001b[32m [repeated 6x across cluster]\u001b[0m\n",
      "\u001b[2m\u001b[36m(ClientAppActor pid=1242552)\u001b[0m \u001b[32m [repeated 9x across cluster]\u001b[0m\n",
      "\u001b[2m\u001b[36m(ClientAppActor pid=1242552)\u001b[0m Epoch 80/100\u001b[32m [repeated 9x across cluster]\u001b[0m\n",
      "\u001b[2m\u001b[36m(ClientAppActor pid=1242552)\u001b[0m Epoch 79: Training accuracy: 82.47041320800781 Testing accuracy: 72.78106689453125.\u001b[32m [repeated 9x across cluster]\u001b[0m\n",
      "\u001b[2m\u001b[36m(ClientAppActor pid=1242552)\u001b[0m \u001b[32m [repeated 11x across cluster]\u001b[0m\n",
      "\u001b[2m\u001b[36m(ClientAppActor pid=1242552)\u001b[0m Epoch 91/100\u001b[32m [repeated 11x across cluster]\u001b[0m\n",
      "\u001b[2m\u001b[36m(ClientAppActor pid=1242552)\u001b[0m Epoch 90: Training accuracy: 83.13609313964844 Testing accuracy: 72.18934631347656.\u001b[32m [repeated 11x across cluster]\u001b[0m\n"
     ]
    },
    {
     "name": "stderr",
     "output_type": "stream",
     "text": [
      "\u001b[92mINFO \u001b[0m:      aggregate_fit: received 3 results and 0 failures\n",
      "\u001b[92mINFO \u001b[0m:      fit progress: (28, 0.05101730606772683, {'accuracy': tensor(71.1016, device='cuda:0')}, 1767.0706950439926)\n",
      "\u001b[92mINFO \u001b[0m:      configure_evaluate: strategy sampled 1 clients (out of 3)\n",
      "\u001b[92mINFO \u001b[0m:      aggregate_evaluate: received 1 results and 0 failures\n",
      "\u001b[92mINFO \u001b[0m:      \n",
      "\u001b[92mINFO \u001b[0m:      [ROUND 29]\n",
      "\u001b[92mINFO \u001b[0m:      configure_fit: strategy sampled 3 clients (out of 3)\n"
     ]
    },
    {
     "name": "stdout",
     "output_type": "stream",
     "text": [
      "Server-side evaluation loss 0.05101730606772683 / accuracy 71.10157012939453\n",
      "\u001b[2m\u001b[36m(ClientAppActor pid=1242551)\u001b[0m \u001b[32m [repeated 10x across cluster]\u001b[0m\n",
      "\u001b[2m\u001b[36m(ClientAppActor pid=1242551)\u001b[0m Epoch 1/100\u001b[32m [repeated 10x across cluster]\u001b[0m\n",
      "\u001b[2m\u001b[36m(ClientAppActor pid=1242552)\u001b[0m Epoch 100: Training accuracy: 82.76627349853516 Testing accuracy: 71.5976333618164.\u001b[32m [repeated 10x across cluster]\u001b[0m\n",
      "\u001b[2m\u001b[36m(ClientAppActor pid=1242551)\u001b[0m \u001b[32m [repeated 33x across cluster]\u001b[0m\n",
      "\u001b[2m\u001b[36m(ClientAppActor pid=1242551)\u001b[0m Epoch 22/100\u001b[32m [repeated 33x across cluster]\u001b[0m\n",
      "\u001b[2m\u001b[36m(ClientAppActor pid=1242551)\u001b[0m Epoch 21: Training accuracy: 81.88623046875 Testing accuracy: 77.2455062866211.\u001b[32m [repeated 32x across cluster]\u001b[0m\n",
      "\u001b[2m\u001b[36m(ClientAppActor pid=1242551)\u001b[0m \u001b[32m [repeated 38x across cluster]\u001b[0m\n",
      "\u001b[2m\u001b[36m(ClientAppActor pid=1242551)\u001b[0m Epoch 45/100\u001b[32m [repeated 38x across cluster]\u001b[0m\n",
      "\u001b[2m\u001b[36m(ClientAppActor pid=1242551)\u001b[0m Epoch 44: Training accuracy: 80.0898208618164 Testing accuracy: 77.2455062866211.\u001b[32m [repeated 38x across cluster]\u001b[0m\n",
      "\u001b[2m\u001b[36m(ClientAppActor pid=1242552)\u001b[0m \u001b[32m [repeated 74x across cluster]\u001b[0m\n",
      "\u001b[2m\u001b[36m(ClientAppActor pid=1242552)\u001b[0m Epoch 66/100\u001b[32m [repeated 74x across cluster]\u001b[0m\n",
      "\u001b[2m\u001b[36m(ClientAppActor pid=1242552)\u001b[0m Epoch 65: Training accuracy: 85.7371826171875 Testing accuracy: 76.28205108642578.\u001b[32m [repeated 74x across cluster]\u001b[0m\n",
      "\u001b[2m\u001b[36m(ClientAppActor pid=1242551)\u001b[0m \u001b[32m [repeated 24x across cluster]\u001b[0m\n",
      "\u001b[2m\u001b[36m(ClientAppActor pid=1242551)\u001b[0m Epoch 94/100\u001b[32m [repeated 24x across cluster]\u001b[0m\n",
      "\u001b[2m\u001b[36m(ClientAppActor pid=1242551)\u001b[0m Epoch 93: Training accuracy: 81.51197814941406 Testing accuracy: 75.44910430908203.\u001b[32m [repeated 24x across cluster]\u001b[0m\n",
      "\u001b[2m\u001b[36m(ClientAppActor pid=1242551)\u001b[0m \u001b[32m [repeated 26x across cluster]\u001b[0m\n",
      "\u001b[2m\u001b[36m(ClientAppActor pid=1242551)\u001b[0m Epoch 9/100\u001b[32m [repeated 26x across cluster]\u001b[0m\n",
      "\u001b[2m\u001b[36m(ClientAppActor pid=1242551)\u001b[0m Epoch 8: Training accuracy: 81.36094665527344 Testing accuracy: 71.00592041015625.\u001b[32m [repeated 26x across cluster]\u001b[0m\n",
      "\u001b[2m\u001b[36m(ClientAppActor pid=1242551)\u001b[0m \u001b[32m [repeated 23x across cluster]\u001b[0m\n",
      "\u001b[2m\u001b[36m(ClientAppActor pid=1242551)\u001b[0m Epoch 23/100\u001b[32m [repeated 23x across cluster]\u001b[0m\n",
      "\u001b[2m\u001b[36m(ClientAppActor pid=1242551)\u001b[0m Epoch 22: Training accuracy: 82.47041320800781 Testing accuracy: 71.5976333618164.\u001b[32m [repeated 23x across cluster]\u001b[0m\n",
      "\u001b[2m\u001b[36m(ClientAppActor pid=1242551)\u001b[0m \u001b[32m [repeated 13x across cluster]\u001b[0m\n",
      "\u001b[2m\u001b[36m(ClientAppActor pid=1242551)\u001b[0m Epoch 32/100\u001b[32m [repeated 13x across cluster]\u001b[0m\n",
      "\u001b[2m\u001b[36m(ClientAppActor pid=1242551)\u001b[0m Epoch 31: Training accuracy: 82.24851989746094 Testing accuracy: 72.18934631347656.\u001b[32m [repeated 14x across cluster]\u001b[0m\n",
      "\u001b[2m\u001b[36m(ClientAppActor pid=1242551)\u001b[0m \u001b[32m [repeated 8x across cluster]\u001b[0m\n",
      "\u001b[2m\u001b[36m(ClientAppActor pid=1242551)\u001b[0m Epoch 40/100\u001b[32m [repeated 8x across cluster]\u001b[0m\n",
      "\u001b[2m\u001b[36m(ClientAppActor pid=1242551)\u001b[0m Epoch 39: Training accuracy: 82.47041320800781 Testing accuracy: 72.78106689453125.\u001b[32m [repeated 8x across cluster]\u001b[0m\n",
      "\u001b[2m\u001b[36m(ClientAppActor pid=1242551)\u001b[0m \u001b[32m [repeated 9x across cluster]\u001b[0m\n",
      "\u001b[2m\u001b[36m(ClientAppActor pid=1242551)\u001b[0m Epoch 49/100\u001b[32m [repeated 9x across cluster]\u001b[0m\n",
      "\u001b[2m\u001b[36m(ClientAppActor pid=1242551)\u001b[0m Epoch 48: Training accuracy: 82.69230651855469 Testing accuracy: 72.18934631347656.\u001b[32m [repeated 9x across cluster]\u001b[0m\n",
      "\u001b[2m\u001b[36m(ClientAppActor pid=1242551)\u001b[0m \u001b[32m [repeated 9x across cluster]\u001b[0m\n",
      "\u001b[2m\u001b[36m(ClientAppActor pid=1242551)\u001b[0m Epoch 58/100\u001b[32m [repeated 9x across cluster]\u001b[0m\n",
      "\u001b[2m\u001b[36m(ClientAppActor pid=1242551)\u001b[0m Epoch 57: Training accuracy: 82.47041320800781 Testing accuracy: 72.78106689453125.\u001b[32m [repeated 9x across cluster]\u001b[0m\n",
      "\u001b[2m\u001b[36m(ClientAppActor pid=1242551)\u001b[0m \u001b[32m [repeated 9x across cluster]\u001b[0m\n",
      "\u001b[2m\u001b[36m(ClientAppActor pid=1242551)\u001b[0m Epoch 67/100\u001b[32m [repeated 9x across cluster]\u001b[0m\n",
      "\u001b[2m\u001b[36m(ClientAppActor pid=1242551)\u001b[0m Epoch 66: Training accuracy: 83.13609313964844 Testing accuracy: 72.78106689453125.\u001b[32m [repeated 9x across cluster]\u001b[0m\n",
      "\u001b[2m\u001b[36m(ClientAppActor pid=1242551)\u001b[0m \u001b[32m [repeated 9x across cluster]\u001b[0m\n",
      "\u001b[2m\u001b[36m(ClientAppActor pid=1242551)\u001b[0m Epoch 76/100\u001b[32m [repeated 9x across cluster]\u001b[0m\n",
      "\u001b[2m\u001b[36m(ClientAppActor pid=1242551)\u001b[0m Epoch 75: Training accuracy: 83.0621337890625 Testing accuracy: 72.18934631347656.\u001b[32m [repeated 9x across cluster]\u001b[0m\n",
      "\u001b[2m\u001b[36m(ClientAppActor pid=1242551)\u001b[0m \u001b[32m [repeated 8x across cluster]\u001b[0m\n",
      "\u001b[2m\u001b[36m(ClientAppActor pid=1242551)\u001b[0m Epoch 84/100\u001b[32m [repeated 8x across cluster]\u001b[0m\n",
      "\u001b[2m\u001b[36m(ClientAppActor pid=1242551)\u001b[0m Epoch 83: Training accuracy: 82.61833953857422 Testing accuracy: 72.18934631347656.\u001b[32m [repeated 8x across cluster]\u001b[0m\n",
      "\u001b[2m\u001b[36m(ClientAppActor pid=1242551)\u001b[0m \u001b[32m [repeated 9x across cluster]\u001b[0m\n",
      "\u001b[2m\u001b[36m(ClientAppActor pid=1242551)\u001b[0m Epoch 93/100\u001b[32m [repeated 9x across cluster]\u001b[0m\n",
      "\u001b[2m\u001b[36m(ClientAppActor pid=1242551)\u001b[0m Epoch 92: Training accuracy: 82.84024047851562 Testing accuracy: 71.5976333618164.\u001b[32m [repeated 9x across cluster]\u001b[0m\n"
     ]
    },
    {
     "name": "stderr",
     "output_type": "stream",
     "text": [
      "\u001b[92mINFO \u001b[0m:      aggregate_fit: received 3 results and 0 failures\n",
      "\u001b[92mINFO \u001b[0m:      fit progress: (29, 0.05352159521796487, {'accuracy': tensor(69.8140, device='cuda:0')}, 1846.684275156993)\n",
      "\u001b[92mINFO \u001b[0m:      configure_evaluate: strategy sampled 1 clients (out of 3)\n"
     ]
    },
    {
     "name": "stdout",
     "output_type": "stream",
     "text": [
      "Server-side evaluation loss 0.05352159521796487 / accuracy 69.81401824951172\n"
     ]
    },
    {
     "name": "stderr",
     "output_type": "stream",
     "text": [
      "\u001b[92mINFO \u001b[0m:      aggregate_evaluate: received 1 results and 0 failures\n",
      "\u001b[92mINFO \u001b[0m:      \n",
      "\u001b[92mINFO \u001b[0m:      [ROUND 30]\n",
      "\u001b[92mINFO \u001b[0m:      configure_fit: strategy sampled 3 clients (out of 3)\n"
     ]
    },
    {
     "name": "stdout",
     "output_type": "stream",
     "text": [
      "\u001b[2m\u001b[36m(ClientAppActor pid=1242551)\u001b[0m \u001b[32m [repeated 8x across cluster]\u001b[0m\n",
      "\u001b[2m\u001b[36m(ClientAppActor pid=1242551)\u001b[0m Epoch 1/100\u001b[32m [repeated 8x across cluster]\u001b[0m\n",
      "\u001b[2m\u001b[36m(ClientAppActor pid=1242551)\u001b[0m Epoch 100: Training accuracy: 81.80473327636719 Testing accuracy: 70.41419982910156.\u001b[32m [repeated 8x across cluster]\u001b[0m\n",
      "\u001b[2m\u001b[36m(ClientAppActor pid=1242551)\u001b[0m \u001b[32m [repeated 15x across cluster]\u001b[0m\n",
      "\u001b[2m\u001b[36m(ClientAppActor pid=1242551)\u001b[0m Epoch 9/100\u001b[32m [repeated 15x across cluster]\u001b[0m\n",
      "\u001b[2m\u001b[36m(ClientAppActor pid=1242551)\u001b[0m Epoch 8: Training accuracy: 84.85576629638672 Testing accuracy: 76.92308044433594.\u001b[32m [repeated 14x across cluster]\u001b[0m\n",
      "\u001b[2m\u001b[36m(ClientAppActor pid=1242552)\u001b[0m \u001b[32m [repeated 16x across cluster]\u001b[0m\n",
      "\u001b[2m\u001b[36m(ClientAppActor pid=1242552)\u001b[0m Epoch 14/100\u001b[32m [repeated 16x across cluster]\u001b[0m\n",
      "\u001b[2m\u001b[36m(ClientAppActor pid=1242552)\u001b[0m Epoch 13: Training accuracy: 81.21257781982422 Testing accuracy: 77.84431457519531.\u001b[32m [repeated 16x across cluster]\u001b[0m\n",
      "\u001b[2m\u001b[36m(ClientAppActor pid=1242551)\u001b[0m \u001b[32m [repeated 33x across cluster]\u001b[0m\n",
      "\u001b[2m\u001b[36m(ClientAppActor pid=1242551)\u001b[0m Epoch 44/100\u001b[32m [repeated 33x across cluster]\u001b[0m\n",
      "\u001b[2m\u001b[36m(ClientAppActor pid=1242551)\u001b[0m Epoch 43: Training accuracy: 85.41666412353516 Testing accuracy: 76.92308044433594.\u001b[32m [repeated 33x across cluster]\u001b[0m\n",
      "\u001b[2m\u001b[36m(ClientAppActor pid=1242551)\u001b[0m \u001b[32m [repeated 103x across cluster]\u001b[0m\n",
      "\u001b[2m\u001b[36m(ClientAppActor pid=1242551)\u001b[0m Epoch 39/100\u001b[32m [repeated 103x across cluster]\u001b[0m\n",
      "\u001b[2m\u001b[36m(ClientAppActor pid=1242551)\u001b[0m Epoch 38: Training accuracy: 81.28697967529297 Testing accuracy: 71.5976333618164.\u001b[32m [repeated 103x across cluster]\u001b[0m\n",
      "\u001b[2m\u001b[36m(ClientAppActor pid=1242552)\u001b[0m \u001b[32m [repeated 90x across cluster]\u001b[0m\n",
      "\u001b[2m\u001b[36m(ClientAppActor pid=1242552)\u001b[0m Epoch 58/100\u001b[32m [repeated 90x across cluster]\u001b[0m\n",
      "\u001b[2m\u001b[36m(ClientAppActor pid=1242552)\u001b[0m Epoch 57: Training accuracy: 81.28742218017578 Testing accuracy: 76.04790496826172.\u001b[32m [repeated 91x across cluster]\u001b[0m\n",
      "\u001b[2m\u001b[36m(ClientAppActor pid=1242552)\u001b[0m \u001b[32m [repeated 20x across cluster]\u001b[0m\n",
      "\u001b[2m\u001b[36m(ClientAppActor pid=1242552)\u001b[0m Epoch 78/100\u001b[32m [repeated 20x across cluster]\u001b[0m\n",
      "\u001b[2m\u001b[36m(ClientAppActor pid=1242552)\u001b[0m Epoch 77: Training accuracy: 82.03592681884766 Testing accuracy: 77.84431457519531.\u001b[32m [repeated 20x across cluster]\u001b[0m\n",
      "\u001b[2m\u001b[36m(ClientAppActor pid=1242552)\u001b[0m \u001b[32m [repeated 16x across cluster]\u001b[0m\n",
      "\u001b[2m\u001b[36m(ClientAppActor pid=1242552)\u001b[0m Epoch 94/100\u001b[32m [repeated 16x across cluster]\u001b[0m\n",
      "\u001b[2m\u001b[36m(ClientAppActor pid=1242552)\u001b[0m Epoch 93: Training accuracy: 80.76347351074219 Testing accuracy: 77.2455062866211.\u001b[32m [repeated 16x across cluster]\u001b[0m\n"
     ]
    },
    {
     "name": "stderr",
     "output_type": "stream",
     "text": [
      "\u001b[92mINFO \u001b[0m:      aggregate_fit: received 3 results and 0 failures\n"
     ]
    },
    {
     "name": "stdout",
     "output_type": "stream",
     "text": [
      "\u001b[2m\u001b[36m(ClientAppActor pid=1242552)\u001b[0m \u001b[32m [repeated 6x across cluster]\u001b[0m\n",
      "\u001b[2m\u001b[36m(ClientAppActor pid=1242552)\u001b[0m Epoch 100/100\u001b[32m [repeated 6x across cluster]\u001b[0m\n",
      "\u001b[2m\u001b[36m(ClientAppActor pid=1242552)\u001b[0m Epoch 100: Training accuracy: 81.73652648925781 Testing accuracy: 77.84431457519531.\u001b[32m [repeated 7x across cluster]\u001b[0m\n"
     ]
    },
    {
     "name": "stderr",
     "output_type": "stream",
     "text": [
      "\u001b[92mINFO \u001b[0m:      fit progress: (30, 0.052272677421569824, {'accuracy': tensor(69.9571, device='cuda:0')}, 1889.3302802309918)\n",
      "\u001b[92mINFO \u001b[0m:      configure_evaluate: strategy sampled 1 clients (out of 3)\n"
     ]
    },
    {
     "name": "stdout",
     "output_type": "stream",
     "text": [
      "Server-side evaluation loss 0.052272677421569824 / accuracy 69.95708465576172\n"
     ]
    },
    {
     "name": "stderr",
     "output_type": "stream",
     "text": [
      "\u001b[92mINFO \u001b[0m:      aggregate_evaluate: received 1 results and 0 failures\n",
      "\u001b[92mINFO \u001b[0m:      \n",
      "\u001b[92mINFO \u001b[0m:      [ROUND 31]\n",
      "\u001b[92mINFO \u001b[0m:      configure_fit: strategy sampled 3 clients (out of 3)\n"
     ]
    },
    {
     "name": "stdout",
     "output_type": "stream",
     "text": [
      "\u001b[2m\u001b[36m(ClientAppActor pid=1242552)\u001b[0m \u001b[32m [repeated 14x across cluster]\u001b[0m\n",
      "\u001b[2m\u001b[36m(ClientAppActor pid=1242552)\u001b[0m Epoch 6/100\u001b[32m [repeated 14x across cluster]\u001b[0m\n",
      "\u001b[2m\u001b[36m(ClientAppActor pid=1242552)\u001b[0m Epoch 5: Training accuracy: 85.01602935791016 Testing accuracy: 76.92308044433594.\u001b[32m [repeated 12x across cluster]\u001b[0m\n",
      "\u001b[2m\u001b[36m(ClientAppActor pid=1242552)\u001b[0m \u001b[32m [repeated 15x across cluster]\u001b[0m\n",
      "\u001b[2m\u001b[36m(ClientAppActor pid=1242552)\u001b[0m Epoch 13/100\u001b[32m [repeated 15x across cluster]\u001b[0m\n",
      "\u001b[2m\u001b[36m(ClientAppActor pid=1242552)\u001b[0m Epoch 12: Training accuracy: 83.41345977783203 Testing accuracy: 76.92308044433594.\u001b[32m [repeated 15x across cluster]\u001b[0m\n",
      "\u001b[2m\u001b[36m(ClientAppActor pid=1242552)\u001b[0m \u001b[32m [repeated 16x across cluster]\u001b[0m\n",
      "\u001b[2m\u001b[36m(ClientAppActor pid=1242552)\u001b[0m Epoch 20/100\u001b[32m [repeated 16x across cluster]\u001b[0m\n",
      "\u001b[2m\u001b[36m(ClientAppActor pid=1242552)\u001b[0m Epoch 19: Training accuracy: 84.93589782714844 Testing accuracy: 78.20513153076172.\u001b[32m [repeated 16x across cluster]\u001b[0m\n",
      "\u001b[2m\u001b[36m(ClientAppActor pid=1242552)\u001b[0m \u001b[32m [repeated 16x across cluster]\u001b[0m\n",
      "\u001b[2m\u001b[36m(ClientAppActor pid=1242552)\u001b[0m Epoch 27/100\u001b[32m [repeated 16x across cluster]\u001b[0m\n",
      "\u001b[2m\u001b[36m(ClientAppActor pid=1242552)\u001b[0m Epoch 26: Training accuracy: 85.33654022216797 Testing accuracy: 76.92308044433594.\u001b[32m [repeated 16x across cluster]\u001b[0m\n",
      "\u001b[2m\u001b[36m(ClientAppActor pid=1242552)\u001b[0m \u001b[32m [repeated 14x across cluster]\u001b[0m\n",
      "\u001b[2m\u001b[36m(ClientAppActor pid=1242552)\u001b[0m Epoch 34/100\u001b[32m [repeated 14x across cluster]\u001b[0m\n",
      "\u001b[2m\u001b[36m(ClientAppActor pid=1242552)\u001b[0m Epoch 33: Training accuracy: 84.85576629638672 Testing accuracy: 76.28205108642578.\u001b[32m [repeated 14x across cluster]\u001b[0m\n",
      "\u001b[2m\u001b[36m(ClientAppActor pid=1242551)\u001b[0m \u001b[32m [repeated 16x across cluster]\u001b[0m\n",
      "\u001b[2m\u001b[36m(ClientAppActor pid=1242551)\u001b[0m Epoch 51/100\u001b[32m [repeated 16x across cluster]\u001b[0m\n",
      "\u001b[2m\u001b[36m(ClientAppActor pid=1242551)\u001b[0m Epoch 50: Training accuracy: 83.2100601196289 Testing accuracy: 72.18934631347656.\u001b[32m [repeated 16x across cluster]\u001b[0m\n",
      "\u001b[2m\u001b[36m(ClientAppActor pid=1242552)\u001b[0m \u001b[32m [repeated 16x across cluster]\u001b[0m\n",
      "\u001b[2m\u001b[36m(ClientAppActor pid=1242552)\u001b[0m Epoch 48/100\u001b[32m [repeated 16x across cluster]\u001b[0m\n",
      "\u001b[2m\u001b[36m(ClientAppActor pid=1242552)\u001b[0m Epoch 47: Training accuracy: 85.33654022216797 Testing accuracy: 78.20513153076172.\u001b[32m [repeated 16x across cluster]\u001b[0m\n",
      "\u001b[2m\u001b[36m(ClientAppActor pid=1242551)\u001b[0m \u001b[32m [repeated 14x across cluster]\u001b[0m\n",
      "\u001b[2m\u001b[36m(ClientAppActor pid=1242551)\u001b[0m Epoch 67/100\u001b[32m [repeated 14x across cluster]\u001b[0m\n",
      "\u001b[2m\u001b[36m(ClientAppActor pid=1242551)\u001b[0m Epoch 66: Training accuracy: 83.0621337890625 Testing accuracy: 72.18934631347656.\u001b[32m [repeated 14x across cluster]\u001b[0m\n",
      "\u001b[2m\u001b[36m(ClientAppActor pid=1242552)\u001b[0m \u001b[32m [repeated 17x across cluster]\u001b[0m\n",
      "\u001b[2m\u001b[36m(ClientAppActor pid=1242552)\u001b[0m Epoch 62/100\u001b[32m [repeated 17x across cluster]\u001b[0m\n",
      "\u001b[2m\u001b[36m(ClientAppActor pid=1242552)\u001b[0m Epoch 61: Training accuracy: 84.05448913574219 Testing accuracy: 78.84615325927734.\u001b[32m [repeated 17x across cluster]\u001b[0m\n",
      "\u001b[2m\u001b[36m(ClientAppActor pid=1242551)\u001b[0m \u001b[32m [repeated 24x across cluster]\u001b[0m\n",
      "\u001b[2m\u001b[36m(ClientAppActor pid=1242551)\u001b[0m Epoch 91/100\u001b[32m [repeated 24x across cluster]\u001b[0m\n",
      "\u001b[2m\u001b[36m(ClientAppActor pid=1242551)\u001b[0m Epoch 90: Training accuracy: 82.91419982910156 Testing accuracy: 72.78106689453125.\u001b[32m [repeated 24x across cluster]\u001b[0m\n",
      "\u001b[2m\u001b[36m(ClientAppActor pid=1242551)\u001b[0m \u001b[32m [repeated 24x across cluster]\u001b[0m\n",
      "\u001b[2m\u001b[36m(ClientAppActor pid=1242551)\u001b[0m Epoch 4/100\u001b[32m [repeated 24x across cluster]\u001b[0m\n",
      "\u001b[2m\u001b[36m(ClientAppActor pid=1242551)\u001b[0m Epoch 3: Training accuracy: 79.86527252197266 Testing accuracy: 73.05389404296875.\u001b[32m [repeated 24x across cluster]\u001b[0m\n",
      "\u001b[2m\u001b[36m(ClientAppActor pid=1242551)\u001b[0m \u001b[32m [repeated 27x across cluster]\u001b[0m\n",
      "\u001b[2m\u001b[36m(ClientAppActor pid=1242551)\u001b[0m Epoch 20/100\u001b[32m [repeated 27x across cluster]\u001b[0m\n",
      "\u001b[2m\u001b[36m(ClientAppActor pid=1242551)\u001b[0m Epoch 19: Training accuracy: 80.46407318115234 Testing accuracy: 74.85029602050781.\u001b[32m [repeated 27x across cluster]\u001b[0m\n",
      "\u001b[2m\u001b[36m(ClientAppActor pid=1242551)\u001b[0m \u001b[32m [repeated 20x across cluster]\u001b[0m\n",
      "\u001b[2m\u001b[36m(ClientAppActor pid=1242551)\u001b[0m Epoch 33/100\u001b[32m [repeated 20x across cluster]\u001b[0m\n",
      "\u001b[2m\u001b[36m(ClientAppActor pid=1242551)\u001b[0m Epoch 32: Training accuracy: 81.88623046875 Testing accuracy: 77.84431457519531.\u001b[32m [repeated 21x across cluster]\u001b[0m\n",
      "\u001b[2m\u001b[36m(ClientAppActor pid=1242551)\u001b[0m \u001b[32m [repeated 13x across cluster]\u001b[0m\n",
      "\u001b[2m\u001b[36m(ClientAppActor pid=1242551)\u001b[0m Epoch 46/100\u001b[32m [repeated 13x across cluster]\u001b[0m\n",
      "\u001b[2m\u001b[36m(ClientAppActor pid=1242551)\u001b[0m Epoch 45: Training accuracy: 78.443115234375 Testing accuracy: 68.86227416992188.\u001b[32m [repeated 13x across cluster]\u001b[0m\n",
      "\u001b[2m\u001b[36m(ClientAppActor pid=1242551)\u001b[0m \u001b[32m [repeated 18x across cluster]\u001b[0m\n",
      "\u001b[2m\u001b[36m(ClientAppActor pid=1242551)\u001b[0m Epoch 64/100\u001b[32m [repeated 18x across cluster]\u001b[0m\n",
      "\u001b[2m\u001b[36m(ClientAppActor pid=1242551)\u001b[0m Epoch 63: Training accuracy: 80.98802185058594 Testing accuracy: 74.25149536132812.\u001b[32m [repeated 18x across cluster]\u001b[0m\n",
      "\u001b[2m\u001b[36m(ClientAppActor pid=1242551)\u001b[0m \u001b[32m [repeated 20x across cluster]\u001b[0m\n",
      "\u001b[2m\u001b[36m(ClientAppActor pid=1242551)\u001b[0m Epoch 84/100\u001b[32m [repeated 20x across cluster]\u001b[0m\n",
      "\u001b[2m\u001b[36m(ClientAppActor pid=1242551)\u001b[0m Epoch 83: Training accuracy: 81.43712615966797 Testing accuracy: 76.04790496826172.\u001b[32m [repeated 20x across cluster]\u001b[0m\n"
     ]
    },
    {
     "name": "stderr",
     "output_type": "stream",
     "text": [
      "\u001b[92mINFO \u001b[0m:      aggregate_fit: received 3 results and 0 failures\n",
      "\u001b[92mINFO \u001b[0m:      fit progress: (31, 0.05141448974609375, {'accuracy': tensor(70.2432, device='cuda:0')}, 1976.7968270080019)\n",
      "\u001b[92mINFO \u001b[0m:      configure_evaluate: strategy sampled 1 clients (out of 3)\n",
      "\u001b[92mINFO \u001b[0m:      aggregate_evaluate: received 1 results and 0 failures\n",
      "\u001b[92mINFO \u001b[0m:      \n",
      "\u001b[92mINFO \u001b[0m:      [ROUND 32]\n",
      "\u001b[92mINFO \u001b[0m:      configure_fit: strategy sampled 3 clients (out of 3)\n"
     ]
    },
    {
     "name": "stdout",
     "output_type": "stream",
     "text": [
      "Server-side evaluation loss 0.05141448974609375 / accuracy 70.24320220947266\n",
      "\u001b[2m\u001b[36m(ClientAppActor pid=1242551)\u001b[0m \u001b[32m [repeated 20x across cluster]\u001b[0m\n",
      "\u001b[2m\u001b[36m(ClientAppActor pid=1242551)\u001b[0m Epoch 3/100\u001b[32m [repeated 20x across cluster]\u001b[0m\n",
      "\u001b[2m\u001b[36m(ClientAppActor pid=1242551)\u001b[0m Epoch 2: Training accuracy: 81.97115325927734 Testing accuracy: 75.64102935791016.\u001b[32m [repeated 19x across cluster]\u001b[0m\n",
      "\u001b[2m\u001b[36m(ClientAppActor pid=1242551)\u001b[0m \u001b[32m [repeated 34x across cluster]\u001b[0m\n",
      "\u001b[2m\u001b[36m(ClientAppActor pid=1242551)\u001b[0m Epoch 24/100\u001b[32m [repeated 34x across cluster]\u001b[0m\n",
      "\u001b[2m\u001b[36m(ClientAppActor pid=1242551)\u001b[0m Epoch 23: Training accuracy: 84.85576629638672 Testing accuracy: 77.56410217285156.\u001b[32m [repeated 34x across cluster]\u001b[0m\n",
      "\u001b[2m\u001b[36m(ClientAppActor pid=1242552)\u001b[0m \u001b[32m [repeated 33x across cluster]\u001b[0m\n",
      "\u001b[2m\u001b[36m(ClientAppActor pid=1242552)\u001b[0m Epoch 33/100\u001b[32m [repeated 33x across cluster]\u001b[0m\n",
      "\u001b[2m\u001b[36m(ClientAppActor pid=1242552)\u001b[0m Epoch 32: Training accuracy: 83.35798645019531 Testing accuracy: 73.3727798461914.\u001b[32m [repeated 33x across cluster]\u001b[0m\n",
      "\u001b[2m\u001b[36m(ClientAppActor pid=1242551)\u001b[0m \u001b[32m [repeated 16x across cluster]\u001b[0m\n",
      "\u001b[2m\u001b[36m(ClientAppActor pid=1242551)\u001b[0m Epoch 48/100\u001b[32m [repeated 16x across cluster]\u001b[0m\n",
      "\u001b[2m\u001b[36m(ClientAppActor pid=1242551)\u001b[0m Epoch 47: Training accuracy: 85.7371826171875 Testing accuracy: 75.64102935791016.\u001b[32m [repeated 16x across cluster]\u001b[0m\n",
      "\u001b[2m\u001b[36m(ClientAppActor pid=1242551)\u001b[0m \u001b[32m [repeated 14x across cluster]\u001b[0m\n",
      "\u001b[2m\u001b[36m(ClientAppActor pid=1242551)\u001b[0m Epoch 56/100\u001b[32m [repeated 14x across cluster]\u001b[0m\n",
      "\u001b[2m\u001b[36m(ClientAppActor pid=1242551)\u001b[0m Epoch 55: Training accuracy: 84.13461303710938 Testing accuracy: 76.28205108642578.\u001b[32m [repeated 14x across cluster]\u001b[0m\n",
      "\u001b[2m\u001b[36m(ClientAppActor pid=1242551)\u001b[0m \u001b[32m [repeated 21x across cluster]\u001b[0m\n",
      "\u001b[2m\u001b[36m(ClientAppActor pid=1242551)\u001b[0m Epoch 71/100\u001b[32m [repeated 21x across cluster]\u001b[0m\n",
      "\u001b[2m\u001b[36m(ClientAppActor pid=1242551)\u001b[0m Epoch 70: Training accuracy: 85.01602935791016 Testing accuracy: 77.56410217285156.\u001b[32m [repeated 21x across cluster]\u001b[0m\n",
      "\u001b[2m\u001b[36m(ClientAppActor pid=1242551)\u001b[0m \u001b[32m [repeated 25x across cluster]\u001b[0m\n",
      "\u001b[2m\u001b[36m(ClientAppActor pid=1242551)\u001b[0m Epoch 86/100\u001b[32m [repeated 25x across cluster]\u001b[0m\n",
      "\u001b[2m\u001b[36m(ClientAppActor pid=1242551)\u001b[0m Epoch 85: Training accuracy: 85.9775619506836 Testing accuracy: 76.28205108642578.\u001b[32m [repeated 25x across cluster]\u001b[0m\n",
      "\u001b[2m\u001b[36m(ClientAppActor pid=1242551)\u001b[0m \u001b[32m [repeated 25x across cluster]\u001b[0m\n",
      "\u001b[2m\u001b[36m(ClientAppActor pid=1242551)\u001b[0m Epoch 1/100\u001b[32m [repeated 25x across cluster]\u001b[0m\n",
      "\u001b[2m\u001b[36m(ClientAppActor pid=1242552)\u001b[0m Epoch 70: Training accuracy: 83.43195343017578 Testing accuracy: 72.18934631347656.\u001b[32m [repeated 25x across cluster]\u001b[0m\n",
      "\u001b[2m\u001b[36m(ClientAppActor pid=1242551)\u001b[0m \u001b[32m [repeated 25x across cluster]\u001b[0m\n",
      "\u001b[2m\u001b[36m(ClientAppActor pid=1242551)\u001b[0m Epoch 17/100\u001b[32m [repeated 25x across cluster]\u001b[0m\n",
      "\u001b[2m\u001b[36m(ClientAppActor pid=1242551)\u001b[0m Epoch 16: Training accuracy: 79.86527252197266 Testing accuracy: 73.65269470214844.\u001b[32m [repeated 25x across cluster]\u001b[0m\n",
      "\u001b[2m\u001b[36m(ClientAppActor pid=1242552)\u001b[0m \u001b[32m [repeated 18x across cluster]\u001b[0m\n",
      "\u001b[2m\u001b[36m(ClientAppActor pid=1242552)\u001b[0m Epoch 88/100\u001b[32m [repeated 18x across cluster]\u001b[0m\n",
      "\u001b[2m\u001b[36m(ClientAppActor pid=1242552)\u001b[0m Epoch 87: Training accuracy: 83.0621337890625 Testing accuracy: 72.78106689453125.\u001b[32m [repeated 18x across cluster]\u001b[0m\n",
      "\u001b[2m\u001b[36m(ClientAppActor pid=1242551)\u001b[0m \u001b[32m [repeated 16x across cluster]\u001b[0m\n",
      "\u001b[2m\u001b[36m(ClientAppActor pid=1242551)\u001b[0m Epoch 37/100\u001b[32m [repeated 16x across cluster]\u001b[0m\n",
      "\u001b[2m\u001b[36m(ClientAppActor pid=1242551)\u001b[0m Epoch 36: Training accuracy: 78.8922119140625 Testing accuracy: 71.85628509521484.\u001b[32m [repeated 16x across cluster]\u001b[0m\n",
      "\u001b[2m\u001b[36m(ClientAppActor pid=1242551)\u001b[0m \u001b[32m [repeated 16x across cluster]\u001b[0m\n",
      "\u001b[2m\u001b[36m(ClientAppActor pid=1242551)\u001b[0m Epoch 47/100\u001b[32m [repeated 16x across cluster]\u001b[0m\n",
      "\u001b[2m\u001b[36m(ClientAppActor pid=1242551)\u001b[0m Epoch 46: Training accuracy: 81.21257781982422 Testing accuracy: 74.85029602050781.\u001b[32m [repeated 16x across cluster]\u001b[0m\n",
      "\u001b[2m\u001b[36m(ClientAppActor pid=1242551)\u001b[0m \u001b[32m [repeated 13x across cluster]\u001b[0m\n",
      "\u001b[2m\u001b[36m(ClientAppActor pid=1242551)\u001b[0m Epoch 60/100\u001b[32m [repeated 13x across cluster]\u001b[0m\n",
      "\u001b[2m\u001b[36m(ClientAppActor pid=1242551)\u001b[0m Epoch 59: Training accuracy: 79.86527252197266 Testing accuracy: 74.85029602050781.\u001b[32m [repeated 14x across cluster]\u001b[0m\n",
      "\u001b[2m\u001b[36m(ClientAppActor pid=1242551)\u001b[0m \u001b[32m [repeated 12x across cluster]\u001b[0m\n",
      "\u001b[2m\u001b[36m(ClientAppActor pid=1242551)\u001b[0m Epoch 72/100\u001b[32m [repeated 12x across cluster]\u001b[0m\n",
      "\u001b[2m\u001b[36m(ClientAppActor pid=1242551)\u001b[0m Epoch 71: Training accuracy: 81.13772583007812 Testing accuracy: 77.2455062866211.\u001b[32m [repeated 12x across cluster]\u001b[0m\n",
      "\u001b[2m\u001b[36m(ClientAppActor pid=1242551)\u001b[0m \u001b[32m [repeated 13x across cluster]\u001b[0m\n",
      "\u001b[2m\u001b[36m(ClientAppActor pid=1242551)\u001b[0m Epoch 85/100\u001b[32m [repeated 13x across cluster]\u001b[0m\n",
      "\u001b[2m\u001b[36m(ClientAppActor pid=1242551)\u001b[0m Epoch 84: Training accuracy: 81.96107482910156 Testing accuracy: 78.443115234375.\u001b[32m [repeated 13x across cluster]\u001b[0m\n",
      "\u001b[2m\u001b[36m(ClientAppActor pid=1242551)\u001b[0m \u001b[32m [repeated 14x across cluster]\u001b[0m\n",
      "\u001b[2m\u001b[36m(ClientAppActor pid=1242551)\u001b[0m Epoch 99/100\u001b[32m [repeated 14x across cluster]\u001b[0m\n",
      "\u001b[2m\u001b[36m(ClientAppActor pid=1242551)\u001b[0m Epoch 98: Training accuracy: 81.96107482910156 Testing accuracy: 76.04790496826172.\u001b[32m [repeated 14x across cluster]\u001b[0m\n"
     ]
    },
    {
     "name": "stderr",
     "output_type": "stream",
     "text": [
      "\u001b[92mINFO \u001b[0m:      aggregate_fit: received 3 results and 0 failures\n",
      "\u001b[92mINFO \u001b[0m:      fit progress: (32, 0.051577427170493385, {'accuracy': tensor(70.8155, device='cuda:0')}, 2057.0917409589892)\n",
      "\u001b[92mINFO \u001b[0m:      configure_evaluate: strategy sampled 1 clients (out of 3)\n"
     ]
    },
    {
     "name": "stdout",
     "output_type": "stream",
     "text": [
      "Server-side evaluation loss 0.051577427170493385 / accuracy 70.8154525756836\n"
     ]
    },
    {
     "name": "stderr",
     "output_type": "stream",
     "text": [
      "\u001b[92mINFO \u001b[0m:      aggregate_evaluate: received 1 results and 0 failures\n",
      "\u001b[92mINFO \u001b[0m:      \n",
      "\u001b[92mINFO \u001b[0m:      [ROUND 33]\n",
      "\u001b[92mINFO \u001b[0m:      configure_fit: strategy sampled 3 clients (out of 3)\n"
     ]
    },
    {
     "name": "stdout",
     "output_type": "stream",
     "text": [
      "\u001b[2m\u001b[36m(ClientAppActor pid=1242551)\u001b[0m \u001b[32m [repeated 20x across cluster]\u001b[0m\n",
      "\u001b[2m\u001b[36m(ClientAppActor pid=1242551)\u001b[0m Epoch 15/100\u001b[32m [repeated 20x across cluster]\u001b[0m\n",
      "\u001b[2m\u001b[36m(ClientAppActor pid=1242551)\u001b[0m Epoch 14: Training accuracy: 86.05769348144531 Testing accuracy: 77.56410217285156.\u001b[32m [repeated 19x across cluster]\u001b[0m\n",
      "\u001b[2m\u001b[36m(ClientAppActor pid=1242551)\u001b[0m \u001b[32m [repeated 29x across cluster]\u001b[0m\n",
      "\u001b[2m\u001b[36m(ClientAppActor pid=1242551)\u001b[0m Epoch 37/100\u001b[32m [repeated 29x across cluster]\u001b[0m\n",
      "\u001b[2m\u001b[36m(ClientAppActor pid=1242551)\u001b[0m Epoch 36: Training accuracy: 85.81730651855469 Testing accuracy: 76.28205108642578.\u001b[32m [repeated 29x across cluster]\u001b[0m\n",
      "\u001b[2m\u001b[36m(ClientAppActor pid=1242551)\u001b[0m \u001b[32m [repeated 26x across cluster]\u001b[0m\n",
      "\u001b[2m\u001b[36m(ClientAppActor pid=1242551)\u001b[0m Epoch 58/100\u001b[32m [repeated 26x across cluster]\u001b[0m\n",
      "\u001b[2m\u001b[36m(ClientAppActor pid=1242551)\u001b[0m Epoch 57: Training accuracy: 86.05769348144531 Testing accuracy: 77.56410217285156.\u001b[32m [repeated 26x across cluster]\u001b[0m\n",
      "\u001b[2m\u001b[36m(ClientAppActor pid=1242551)\u001b[0m \u001b[32m [repeated 83x across cluster]\u001b[0m\n",
      "\u001b[2m\u001b[36m(ClientAppActor pid=1242551)\u001b[0m Epoch 33/100\u001b[32m [repeated 83x across cluster]\u001b[0m\n",
      "\u001b[2m\u001b[36m(ClientAppActor pid=1242551)\u001b[0m Epoch 32: Training accuracy: 82.11077880859375 Testing accuracy: 77.84431457519531.\u001b[32m [repeated 83x across cluster]\u001b[0m\n",
      "\u001b[2m\u001b[36m(ClientAppActor pid=1242552)\u001b[0m \u001b[32m [repeated 82x across cluster]\u001b[0m\n",
      "\u001b[2m\u001b[36m(ClientAppActor pid=1242552)\u001b[0m Epoch 39/100\u001b[32m [repeated 82x across cluster]\u001b[0m\n",
      "\u001b[2m\u001b[36m(ClientAppActor pid=1242552)\u001b[0m Epoch 38: Training accuracy: 82.69230651855469 Testing accuracy: 71.5976333618164.\u001b[32m [repeated 83x across cluster]\u001b[0m\n",
      "\u001b[2m\u001b[36m(ClientAppActor pid=1242552)\u001b[0m \u001b[32m [repeated 19x across cluster]\u001b[0m\n",
      "\u001b[2m\u001b[36m(ClientAppActor pid=1242552)\u001b[0m Epoch 58/100\u001b[32m [repeated 19x across cluster]\u001b[0m\n",
      "\u001b[2m\u001b[36m(ClientAppActor pid=1242552)\u001b[0m Epoch 57: Training accuracy: 82.98816680908203 Testing accuracy: 72.18934631347656.\u001b[32m [repeated 19x across cluster]\u001b[0m\n",
      "\u001b[2m\u001b[36m(ClientAppActor pid=1242552)\u001b[0m \u001b[32m [repeated 7x across cluster]\u001b[0m\n",
      "\u001b[2m\u001b[36m(ClientAppActor pid=1242552)\u001b[0m Epoch 65/100\u001b[32m [repeated 7x across cluster]\u001b[0m\n",
      "\u001b[2m\u001b[36m(ClientAppActor pid=1242552)\u001b[0m Epoch 64: Training accuracy: 82.54438018798828 Testing accuracy: 71.5976333618164.\u001b[32m [repeated 7x across cluster]\u001b[0m\n",
      "\u001b[2m\u001b[36m(ClientAppActor pid=1242552)\u001b[0m \u001b[32m [repeated 6x across cluster]\u001b[0m\n",
      "\u001b[2m\u001b[36m(ClientAppActor pid=1242552)\u001b[0m Epoch 71/100\u001b[32m [repeated 6x across cluster]\u001b[0m\n",
      "\u001b[2m\u001b[36m(ClientAppActor pid=1242552)\u001b[0m Epoch 70: Training accuracy: 82.98816680908203 Testing accuracy: 71.5976333618164.\u001b[32m [repeated 6x across cluster]\u001b[0m\n",
      "\u001b[2m\u001b[36m(ClientAppActor pid=1242552)\u001b[0m \u001b[32m [repeated 7x across cluster]\u001b[0m\n",
      "\u001b[2m\u001b[36m(ClientAppActor pid=1242552)\u001b[0m Epoch 78/100\u001b[32m [repeated 7x across cluster]\u001b[0m\n",
      "\u001b[2m\u001b[36m(ClientAppActor pid=1242552)\u001b[0m Epoch 77: Training accuracy: 83.2100601196289 Testing accuracy: 71.5976333618164.\u001b[32m [repeated 7x across cluster]\u001b[0m\n",
      "\u001b[2m\u001b[36m(ClientAppActor pid=1242552)\u001b[0m \u001b[32m [repeated 6x across cluster]\u001b[0m\n",
      "\u001b[2m\u001b[36m(ClientAppActor pid=1242552)\u001b[0m Epoch 84/100\u001b[32m [repeated 6x across cluster]\u001b[0m\n",
      "\u001b[2m\u001b[36m(ClientAppActor pid=1242552)\u001b[0m Epoch 83: Training accuracy: 83.65384674072266 Testing accuracy: 73.3727798461914.\u001b[32m [repeated 6x across cluster]\u001b[0m\n",
      "\u001b[2m\u001b[36m(ClientAppActor pid=1242552)\u001b[0m \u001b[32m [repeated 7x across cluster]\u001b[0m\n",
      "\u001b[2m\u001b[36m(ClientAppActor pid=1242552)\u001b[0m Epoch 91/100\u001b[32m [repeated 7x across cluster]\u001b[0m\n",
      "\u001b[2m\u001b[36m(ClientAppActor pid=1242552)\u001b[0m Epoch 90: Training accuracy: 82.76627349853516 Testing accuracy: 71.5976333618164.\u001b[32m [repeated 7x across cluster]\u001b[0m\n",
      "\u001b[2m\u001b[36m(ClientAppActor pid=1242552)\u001b[0m \u001b[32m [repeated 7x across cluster]\u001b[0m\n",
      "\u001b[2m\u001b[36m(ClientAppActor pid=1242552)\u001b[0m Epoch 98/100\u001b[32m [repeated 7x across cluster]\u001b[0m\n",
      "\u001b[2m\u001b[36m(ClientAppActor pid=1242552)\u001b[0m Epoch 97: Training accuracy: 83.28402709960938 Testing accuracy: 72.18934631347656.\u001b[32m [repeated 7x across cluster]\u001b[0m\n"
     ]
    },
    {
     "name": "stderr",
     "output_type": "stream",
     "text": [
      "\u001b[92mINFO \u001b[0m:      aggregate_fit: received 3 results and 0 failures\n",
      "\u001b[92mINFO \u001b[0m:      fit progress: (33, 0.05053623156114058, {'accuracy': tensor(71.2446, device='cuda:0')}, 2122.556202926993)\n",
      "\u001b[92mINFO \u001b[0m:      configure_evaluate: strategy sampled 1 clients (out of 3)\n"
     ]
    },
    {
     "name": "stdout",
     "output_type": "stream",
     "text": [
      "Server-side evaluation loss 0.05053623156114058 / accuracy 71.24463653564453\n"
     ]
    },
    {
     "name": "stderr",
     "output_type": "stream",
     "text": [
      "\u001b[92mINFO \u001b[0m:      aggregate_evaluate: received 1 results and 0 failures\n",
      "\u001b[92mINFO \u001b[0m:      \n",
      "\u001b[92mINFO \u001b[0m:      [ROUND 34]\n",
      "\u001b[92mINFO \u001b[0m:      configure_fit: strategy sampled 3 clients (out of 3)\n"
     ]
    },
    {
     "name": "stdout",
     "output_type": "stream",
     "text": [
      "\u001b[2m\u001b[36m(ClientAppActor pid=1242552)\u001b[0m \u001b[32m [repeated 10x across cluster]\u001b[0m\n",
      "\u001b[2m\u001b[36m(ClientAppActor pid=1242552)\u001b[0m Epoch 3/100\u001b[32m [repeated 10x across cluster]\u001b[0m\n",
      "\u001b[2m\u001b[36m(ClientAppActor pid=1242552)\u001b[0m Epoch 2: Training accuracy: 81.9526596069336 Testing accuracy: 72.18934631347656.\u001b[32m [repeated 9x across cluster]\u001b[0m\n",
      "\u001b[2m\u001b[36m(ClientAppActor pid=1242551)\u001b[0m \u001b[32m [repeated 19x across cluster]\u001b[0m\n",
      "\u001b[2m\u001b[36m(ClientAppActor pid=1242551)\u001b[0m Epoch 18/100\u001b[32m [repeated 19x across cluster]\u001b[0m\n",
      "\u001b[2m\u001b[36m(ClientAppActor pid=1242551)\u001b[0m Epoch 17: Training accuracy: 80.61376953125 Testing accuracy: 74.85029602050781.\u001b[32m [repeated 19x across cluster]\u001b[0m\n",
      "\u001b[2m\u001b[36m(ClientAppActor pid=1242551)\u001b[0m \u001b[32m [repeated 17x across cluster]\u001b[0m\n",
      "\u001b[2m\u001b[36m(ClientAppActor pid=1242551)\u001b[0m Epoch 29/100\u001b[32m [repeated 17x across cluster]\u001b[0m\n",
      "\u001b[2m\u001b[36m(ClientAppActor pid=1242551)\u001b[0m Epoch 28: Training accuracy: 79.86527252197266 Testing accuracy: 74.25149536132812.\u001b[32m [repeated 17x across cluster]\u001b[0m\n",
      "\u001b[2m\u001b[36m(ClientAppActor pid=1242551)\u001b[0m \u001b[32m [repeated 24x across cluster]\u001b[0m\n",
      "\u001b[2m\u001b[36m(ClientAppActor pid=1242551)\u001b[0m Epoch 45/100\u001b[32m [repeated 24x across cluster]\u001b[0m\n",
      "\u001b[2m\u001b[36m(ClientAppActor pid=1242551)\u001b[0m Epoch 44: Training accuracy: 80.61376953125 Testing accuracy: 78.443115234375.\u001b[32m [repeated 24x across cluster]\u001b[0m\n",
      "\u001b[2m\u001b[36m(ClientAppActor pid=1242551)\u001b[0m \u001b[32m [repeated 38x across cluster]\u001b[0m\n",
      "\u001b[2m\u001b[36m(ClientAppActor pid=1242551)\u001b[0m Epoch 73/100\u001b[32m [repeated 38x across cluster]\u001b[0m\n",
      "\u001b[2m\u001b[36m(ClientAppActor pid=1242551)\u001b[0m Epoch 72: Training accuracy: 81.21257781982422 Testing accuracy: 77.2455062866211.\u001b[32m [repeated 38x across cluster]\u001b[0m\n",
      "\u001b[2m\u001b[36m(ClientAppActor pid=1242551)\u001b[0m \u001b[32m [repeated 42x across cluster]\u001b[0m\n",
      "\u001b[2m\u001b[36m(ClientAppActor pid=1242551)\u001b[0m Epoch 5/100\u001b[32m [repeated 42x across cluster]\u001b[0m\n",
      "\u001b[2m\u001b[36m(ClientAppActor pid=1242551)\u001b[0m Epoch 4: Training accuracy: 84.69551086425781 Testing accuracy: 75.64102935791016.\u001b[32m [repeated 42x across cluster]\u001b[0m\n",
      "\u001b[2m\u001b[36m(ClientAppActor pid=1242552)\u001b[0m \u001b[32m [repeated 32x across cluster]\u001b[0m\n",
      "\u001b[2m\u001b[36m(ClientAppActor pid=1242552)\u001b[0m Epoch 52/100\u001b[32m [repeated 32x across cluster]\u001b[0m\n",
      "\u001b[2m\u001b[36m(ClientAppActor pid=1242552)\u001b[0m Epoch 51: Training accuracy: 83.50592041015625 Testing accuracy: 72.78106689453125.\u001b[32m [repeated 32x across cluster]\u001b[0m\n",
      "\u001b[2m\u001b[36m(ClientAppActor pid=1242551)\u001b[0m \u001b[32m [repeated 32x across cluster]\u001b[0m\n",
      "\u001b[2m\u001b[36m(ClientAppActor pid=1242551)\u001b[0m Epoch 52/100\u001b[32m [repeated 32x across cluster]\u001b[0m\n",
      "\u001b[2m\u001b[36m(ClientAppActor pid=1242551)\u001b[0m Epoch 51: Training accuracy: 85.49679565429688 Testing accuracy: 75.0.\u001b[32m [repeated 32x across cluster]\u001b[0m\n",
      "\u001b[2m\u001b[36m(ClientAppActor pid=1242551)\u001b[0m \u001b[32m [repeated 33x across cluster]\u001b[0m\n",
      "\u001b[2m\u001b[36m(ClientAppActor pid=1242551)\u001b[0m Epoch 78/100\u001b[32m [repeated 33x across cluster]\u001b[0m\n",
      "\u001b[2m\u001b[36m(ClientAppActor pid=1242551)\u001b[0m Epoch 77: Training accuracy: 85.49679565429688 Testing accuracy: 77.56410217285156.\u001b[32m [repeated 33x across cluster]\u001b[0m\n",
      "\u001b[2m\u001b[36m(ClientAppActor pid=1242551)\u001b[0m \u001b[32m [repeated 31x across cluster]\u001b[0m\n",
      "\u001b[2m\u001b[36m(ClientAppActor pid=1242551)\u001b[0m Epoch 100/100\u001b[32m [repeated 31x across cluster]\u001b[0m\n",
      "\u001b[2m\u001b[36m(ClientAppActor pid=1242551)\u001b[0m Epoch 99: Training accuracy: 85.57691955566406 Testing accuracy: 78.20513153076172.\u001b[32m [repeated 31x across cluster]\u001b[0m\n",
      "\u001b[2m\u001b[36m(ClientAppActor pid=1242552)\u001b[0m \u001b[32m [repeated 11x across cluster]\u001b[0m\n",
      "\u001b[2m\u001b[36m(ClientAppActor pid=1242552)\u001b[0m Epoch 87/100\u001b[32m [repeated 11x across cluster]\u001b[0m\n",
      "\u001b[2m\u001b[36m(ClientAppActor pid=1242552)\u001b[0m Epoch 86: Training accuracy: 82.61833953857422 Testing accuracy: 71.5976333618164.\u001b[32m [repeated 12x across cluster]\u001b[0m\n",
      "\u001b[2m\u001b[36m(ClientAppActor pid=1242552)\u001b[0m \u001b[32m [repeated 11x across cluster]\u001b[0m\n",
      "\u001b[2m\u001b[36m(ClientAppActor pid=1242552)\u001b[0m Epoch 98/100\u001b[32m [repeated 11x across cluster]\u001b[0m\n",
      "\u001b[2m\u001b[36m(ClientAppActor pid=1242552)\u001b[0m Epoch 97: Training accuracy: 83.28402709960938 Testing accuracy: 72.78106689453125.\u001b[32m [repeated 11x across cluster]\u001b[0m\n"
     ]
    },
    {
     "name": "stderr",
     "output_type": "stream",
     "text": [
      "\u001b[92mINFO \u001b[0m:      aggregate_fit: received 3 results and 0 failures\n",
      "\u001b[92mINFO \u001b[0m:      fit progress: (34, 0.051748167384754525, {'accuracy': tensor(70.1001, device='cuda:0')}, 2183.686158673998)\n",
      "\u001b[92mINFO \u001b[0m:      configure_evaluate: strategy sampled 1 clients (out of 3)\n",
      "\u001b[92mINFO \u001b[0m:      aggregate_evaluate: received 1 results and 0 failures\n",
      "\u001b[92mINFO \u001b[0m:      \n",
      "\u001b[92mINFO \u001b[0m:      [ROUND 35]\n",
      "\u001b[92mINFO \u001b[0m:      configure_fit: strategy sampled 3 clients (out of 3)\n"
     ]
    },
    {
     "name": "stdout",
     "output_type": "stream",
     "text": [
      "Server-side evaluation loss 0.051748167384754525 / accuracy 70.10014343261719\n",
      "\u001b[2m\u001b[36m(ClientAppActor pid=1242552)\u001b[0m \u001b[32m [repeated 29x across cluster]\u001b[0m\n",
      "\u001b[2m\u001b[36m(ClientAppActor pid=1242552)\u001b[0m Epoch 15/100\u001b[32m [repeated 29x across cluster]\u001b[0m\n",
      "\u001b[2m\u001b[36m(ClientAppActor pid=1242552)\u001b[0m Epoch 14: Training accuracy: 85.65705108642578 Testing accuracy: 78.20513153076172.\u001b[32m [repeated 28x across cluster]\u001b[0m\n",
      "\u001b[2m\u001b[36m(ClientAppActor pid=1242552)\u001b[0m \u001b[32m [repeated 41x across cluster]\u001b[0m\n",
      "\u001b[2m\u001b[36m(ClientAppActor pid=1242552)\u001b[0m Epoch 38/100\u001b[32m [repeated 41x across cluster]\u001b[0m\n",
      "\u001b[2m\u001b[36m(ClientAppActor pid=1242552)\u001b[0m Epoch 37: Training accuracy: 85.33654022216797 Testing accuracy: 76.28205108642578.\u001b[32m [repeated 41x across cluster]\u001b[0m\n",
      "\u001b[2m\u001b[36m(ClientAppActor pid=1242551)\u001b[0m \u001b[32m [repeated 24x across cluster]\u001b[0m\n",
      "\u001b[2m\u001b[36m(ClientAppActor pid=1242551)\u001b[0m Epoch 44/100\u001b[32m [repeated 24x across cluster]\u001b[0m\n",
      "\u001b[2m\u001b[36m(ClientAppActor pid=1242551)\u001b[0m Epoch 43: Training accuracy: 83.50592041015625 Testing accuracy: 72.78106689453125.\u001b[32m [repeated 24x across cluster]\u001b[0m\n",
      "\u001b[2m\u001b[36m(ClientAppActor pid=1242551)\u001b[0m \u001b[32m [repeated 26x across cluster]\u001b[0m\n",
      "\u001b[2m\u001b[36m(ClientAppActor pid=1242551)\u001b[0m Epoch 59/100\u001b[32m [repeated 26x across cluster]\u001b[0m\n",
      "\u001b[2m\u001b[36m(ClientAppActor pid=1242551)\u001b[0m Epoch 58: Training accuracy: 82.61833953857422 Testing accuracy: 71.00592041015625.\u001b[32m [repeated 26x across cluster]\u001b[0m\n",
      "\u001b[2m\u001b[36m(ClientAppActor pid=1242551)\u001b[0m \u001b[32m [repeated 22x across cluster]\u001b[0m\n",
      "\u001b[2m\u001b[36m(ClientAppActor pid=1242551)\u001b[0m Epoch 72/100\u001b[32m [repeated 22x across cluster]\u001b[0m\n",
      "\u001b[2m\u001b[36m(ClientAppActor pid=1242551)\u001b[0m Epoch 71: Training accuracy: 83.65384674072266 Testing accuracy: 72.78106689453125.\u001b[32m [repeated 22x across cluster]\u001b[0m\n",
      "\u001b[2m\u001b[36m(ClientAppActor pid=1242552)\u001b[0m \u001b[32m [repeated 14x across cluster]\u001b[0m\n",
      "\u001b[2m\u001b[36m(ClientAppActor pid=1242552)\u001b[0m Epoch 75/100\u001b[32m [repeated 14x across cluster]\u001b[0m\n",
      "\u001b[2m\u001b[36m(ClientAppActor pid=1242552)\u001b[0m Epoch 74: Training accuracy: 85.25640869140625 Testing accuracy: 76.28205108642578.\u001b[32m [repeated 14x across cluster]\u001b[0m\n",
      "\u001b[2m\u001b[36m(ClientAppActor pid=1242551)\u001b[0m \u001b[32m [repeated 16x across cluster]\u001b[0m\n",
      "\u001b[2m\u001b[36m(ClientAppActor pid=1242551)\u001b[0m Epoch 88/100\u001b[32m [repeated 16x across cluster]\u001b[0m\n",
      "\u001b[2m\u001b[36m(ClientAppActor pid=1242551)\u001b[0m Epoch 87: Training accuracy: 83.94970703125 Testing accuracy: 72.78106689453125.\u001b[32m [repeated 16x across cluster]\u001b[0m\n",
      "\u001b[2m\u001b[36m(ClientAppActor pid=1242551)\u001b[0m \u001b[32m [repeated 16x across cluster]\u001b[0m\n",
      "\u001b[2m\u001b[36m(ClientAppActor pid=1242551)\u001b[0m Epoch 98/100\u001b[32m [repeated 16x across cluster]\u001b[0m\n",
      "\u001b[2m\u001b[36m(ClientAppActor pid=1242551)\u001b[0m Epoch 97: Training accuracy: 83.80177307128906 Testing accuracy: 72.18934631347656.\u001b[32m [repeated 16x across cluster]\u001b[0m\n",
      "\u001b[2m\u001b[36m(ClientAppActor pid=1242551)\u001b[0m \u001b[32m [repeated 15x across cluster]\u001b[0m\n",
      "\u001b[2m\u001b[36m(ClientAppActor pid=1242551)\u001b[0m Epoch 5/100\u001b[32m [repeated 15x across cluster]\u001b[0m\n",
      "\u001b[2m\u001b[36m(ClientAppActor pid=1242551)\u001b[0m Epoch 4: Training accuracy: 79.11676788330078 Testing accuracy: 74.25149536132812.\u001b[32m [repeated 15x across cluster]\u001b[0m\n",
      "\u001b[2m\u001b[36m(ClientAppActor pid=1242551)\u001b[0m \u001b[32m [repeated 14x across cluster]\u001b[0m\n",
      "\u001b[2m\u001b[36m(ClientAppActor pid=1242551)\u001b[0m Epoch 15/100\u001b[32m [repeated 14x across cluster]\u001b[0m\n",
      "\u001b[2m\u001b[36m(ClientAppActor pid=1242551)\u001b[0m Epoch 14: Training accuracy: 80.83832550048828 Testing accuracy: 74.85029602050781.\u001b[32m [repeated 15x across cluster]\u001b[0m\n",
      "\u001b[2m\u001b[36m(ClientAppActor pid=1242551)\u001b[0m \u001b[32m [repeated 14x across cluster]\u001b[0m\n",
      "\u001b[2m\u001b[36m(ClientAppActor pid=1242551)\u001b[0m Epoch 29/100\u001b[32m [repeated 14x across cluster]\u001b[0m\n",
      "\u001b[2m\u001b[36m(ClientAppActor pid=1242551)\u001b[0m Epoch 28: Training accuracy: 80.83832550048828 Testing accuracy: 76.6467056274414.\u001b[32m [repeated 14x across cluster]\u001b[0m\n",
      "\u001b[2m\u001b[36m(ClientAppActor pid=1242551)\u001b[0m \u001b[32m [repeated 14x across cluster]\u001b[0m\n",
      "\u001b[2m\u001b[36m(ClientAppActor pid=1242551)\u001b[0m Epoch 43/100\u001b[32m [repeated 14x across cluster]\u001b[0m\n",
      "\u001b[2m\u001b[36m(ClientAppActor pid=1242551)\u001b[0m Epoch 42: Training accuracy: 80.98802185058594 Testing accuracy: 73.05389404296875.\u001b[32m [repeated 14x across cluster]\u001b[0m\n",
      "\u001b[2m\u001b[36m(ClientAppActor pid=1242551)\u001b[0m \u001b[32m [repeated 13x across cluster]\u001b[0m\n",
      "\u001b[2m\u001b[36m(ClientAppActor pid=1242551)\u001b[0m Epoch 56/100\u001b[32m [repeated 13x across cluster]\u001b[0m\n",
      "\u001b[2m\u001b[36m(ClientAppActor pid=1242551)\u001b[0m Epoch 55: Training accuracy: 82.11077880859375 Testing accuracy: 75.44910430908203.\u001b[32m [repeated 13x across cluster]\u001b[0m\n",
      "\u001b[2m\u001b[36m(ClientAppActor pid=1242551)\u001b[0m \u001b[32m [repeated 11x across cluster]\u001b[0m\n",
      "\u001b[2m\u001b[36m(ClientAppActor pid=1242551)\u001b[0m Epoch 67/100\u001b[32m [repeated 11x across cluster]\u001b[0m\n",
      "\u001b[2m\u001b[36m(ClientAppActor pid=1242551)\u001b[0m Epoch 66: Training accuracy: 80.6886215209961 Testing accuracy: 77.2455062866211.\u001b[32m [repeated 11x across cluster]\u001b[0m\n",
      "\u001b[2m\u001b[36m(ClientAppActor pid=1242551)\u001b[0m \u001b[32m [repeated 12x across cluster]\u001b[0m\n",
      "\u001b[2m\u001b[36m(ClientAppActor pid=1242551)\u001b[0m Epoch 79/100\u001b[32m [repeated 12x across cluster]\u001b[0m\n",
      "\u001b[2m\u001b[36m(ClientAppActor pid=1242551)\u001b[0m Epoch 78: Training accuracy: 82.26048278808594 Testing accuracy: 76.6467056274414.\u001b[32m [repeated 12x across cluster]\u001b[0m\n"
     ]
    },
    {
     "name": "stderr",
     "output_type": "stream",
     "text": [
      "\u001b[92mINFO \u001b[0m:      aggregate_fit: received 3 results and 0 failures\n",
      "\u001b[92mINFO \u001b[0m:      fit progress: (35, 0.05063487724824385, {'accuracy': tensor(71.1016, device='cuda:0')}, 2265.338803027)\n",
      "\u001b[92mINFO \u001b[0m:      configure_evaluate: strategy sampled 1 clients (out of 3)\n",
      "\u001b[92mINFO \u001b[0m:      aggregate_evaluate: received 1 results and 0 failures\n",
      "\u001b[92mINFO \u001b[0m:      \n",
      "\u001b[92mINFO \u001b[0m:      [ROUND 36]\n",
      "\u001b[92mINFO \u001b[0m:      configure_fit: strategy sampled 3 clients (out of 3)\n"
     ]
    },
    {
     "name": "stdout",
     "output_type": "stream",
     "text": [
      "Server-side evaluation loss 0.05063487724824385 / accuracy 71.10157012939453\n",
      "\u001b[2m\u001b[36m(ClientAppActor pid=1242551)\u001b[0m \u001b[32m [repeated 39x across cluster]\u001b[0m\n",
      "\u001b[2m\u001b[36m(ClientAppActor pid=1242551)\u001b[0m Epoch 17/100\u001b[32m [repeated 39x across cluster]\u001b[0m\n",
      "\u001b[2m\u001b[36m(ClientAppActor pid=1242551)\u001b[0m Epoch 16: Training accuracy: 80.91316986083984 Testing accuracy: 76.04790496826172.\u001b[32m [repeated 38x across cluster]\u001b[0m\n",
      "\u001b[2m\u001b[36m(ClientAppActor pid=1242551)\u001b[0m \u001b[32m [repeated 92x across cluster]\u001b[0m\n",
      "\u001b[2m\u001b[36m(ClientAppActor pid=1242551)\u001b[0m Epoch 98/100\u001b[32m [repeated 92x across cluster]\u001b[0m\n",
      "\u001b[2m\u001b[36m(ClientAppActor pid=1242551)\u001b[0m Epoch 97: Training accuracy: 81.06287384033203 Testing accuracy: 76.04790496826172.\u001b[32m [repeated 92x across cluster]\u001b[0m\n",
      "\u001b[2m\u001b[36m(ClientAppActor pid=1242551)\u001b[0m \u001b[32m [repeated 84x across cluster]\u001b[0m\n",
      "\u001b[2m\u001b[36m(ClientAppActor pid=1242551)\u001b[0m Epoch 72/100\u001b[32m [repeated 84x across cluster]\u001b[0m\n",
      "\u001b[2m\u001b[36m(ClientAppActor pid=1242551)\u001b[0m Epoch 71: Training accuracy: 83.43195343017578 Testing accuracy: 72.18934631347656.\u001b[32m [repeated 84x across cluster]\u001b[0m\n",
      "\u001b[2m\u001b[36m(ClientAppActor pid=1242551)\u001b[0m \u001b[32m [repeated 31x across cluster]\u001b[0m\n",
      "\u001b[2m\u001b[36m(ClientAppActor pid=1242551)\u001b[0m Epoch 95/100\u001b[32m [repeated 31x across cluster]\u001b[0m\n",
      "\u001b[2m\u001b[36m(ClientAppActor pid=1242551)\u001b[0m Epoch 94: Training accuracy: 84.17160034179688 Testing accuracy: 72.78106689453125.\u001b[32m [repeated 31x across cluster]\u001b[0m\n",
      "\u001b[2m\u001b[36m(ClientAppActor pid=1242552)\u001b[0m \u001b[32m [repeated 15x across cluster]\u001b[0m\n",
      "\u001b[2m\u001b[36m(ClientAppActor pid=1242552)\u001b[0m Epoch 40/100\u001b[32m [repeated 15x across cluster]\u001b[0m\n",
      "\u001b[2m\u001b[36m(ClientAppActor pid=1242552)\u001b[0m Epoch 39: Training accuracy: 85.7371826171875 Testing accuracy: 76.92308044433594.\u001b[32m [repeated 16x across cluster]\u001b[0m\n",
      "\u001b[2m\u001b[36m(ClientAppActor pid=1242552)\u001b[0m \u001b[32m [repeated 10x across cluster]\u001b[0m\n",
      "\u001b[2m\u001b[36m(ClientAppActor pid=1242552)\u001b[0m Epoch 50/100\u001b[32m [repeated 10x across cluster]\u001b[0m\n",
      "\u001b[2m\u001b[36m(ClientAppActor pid=1242552)\u001b[0m Epoch 49: Training accuracy: 83.65384674072266 Testing accuracy: 80.12820434570312.\u001b[32m [repeated 10x across cluster]\u001b[0m\n",
      "\u001b[2m\u001b[36m(ClientAppActor pid=1242552)\u001b[0m \u001b[32m [repeated 13x across cluster]\u001b[0m\n",
      "\u001b[2m\u001b[36m(ClientAppActor pid=1242552)\u001b[0m Epoch 63/100\u001b[32m [repeated 13x across cluster]\u001b[0m\n",
      "\u001b[2m\u001b[36m(ClientAppActor pid=1242552)\u001b[0m Epoch 62: Training accuracy: 85.41666412353516 Testing accuracy: 75.64102935791016.\u001b[32m [repeated 13x across cluster]\u001b[0m\n",
      "\u001b[2m\u001b[36m(ClientAppActor pid=1242552)\u001b[0m \u001b[32m [repeated 11x across cluster]\u001b[0m\n",
      "\u001b[2m\u001b[36m(ClientAppActor pid=1242552)\u001b[0m Epoch 74/100\u001b[32m [repeated 11x across cluster]\u001b[0m\n",
      "\u001b[2m\u001b[36m(ClientAppActor pid=1242552)\u001b[0m Epoch 73: Training accuracy: 85.49679565429688 Testing accuracy: 76.92308044433594.\u001b[32m [repeated 11x across cluster]\u001b[0m\n",
      "\u001b[2m\u001b[36m(ClientAppActor pid=1242552)\u001b[0m \u001b[32m [repeated 12x across cluster]\u001b[0m\n",
      "\u001b[2m\u001b[36m(ClientAppActor pid=1242552)\u001b[0m Epoch 86/100\u001b[32m [repeated 12x across cluster]\u001b[0m\n",
      "\u001b[2m\u001b[36m(ClientAppActor pid=1242552)\u001b[0m Epoch 85: Training accuracy: 85.8974380493164 Testing accuracy: 77.56410217285156.\u001b[32m [repeated 12x across cluster]\u001b[0m\n"
     ]
    },
    {
     "name": "stderr",
     "output_type": "stream",
     "text": [
      "\u001b[92mINFO \u001b[0m:      aggregate_fit: received 3 results and 0 failures\n",
      "\u001b[92mINFO \u001b[0m:      fit progress: (36, 0.04930047013542869, {'accuracy': tensor(71.2446, device='cuda:0')}, 2313.7275587009935)\n",
      "\u001b[92mINFO \u001b[0m:      configure_evaluate: strategy sampled 1 clients (out of 3)\n",
      "\u001b[92mINFO \u001b[0m:      aggregate_evaluate: received 1 results and 0 failures\n",
      "\u001b[92mINFO \u001b[0m:      \n",
      "\u001b[92mINFO \u001b[0m:      [ROUND 37]\n",
      "\u001b[92mINFO \u001b[0m:      configure_fit: strategy sampled 3 clients (out of 3)\n"
     ]
    },
    {
     "name": "stdout",
     "output_type": "stream",
     "text": [
      "Server-side evaluation loss 0.04930047013542869 / accuracy 71.24463653564453\n",
      "\u001b[2m\u001b[36m(ClientAppActor pid=1242552)\u001b[0m \u001b[32m [repeated 14x across cluster]\u001b[0m\n",
      "\u001b[2m\u001b[36m(ClientAppActor pid=1242552)\u001b[0m Epoch 100/100\u001b[32m [repeated 14x across cluster]\u001b[0m\n",
      "\u001b[2m\u001b[36m(ClientAppActor pid=1242552)\u001b[0m Epoch 100: Training accuracy: 86.05769348144531 Testing accuracy: 77.56410217285156.\u001b[32m [repeated 15x across cluster]\u001b[0m\n",
      "\u001b[2m\u001b[36m(ClientAppActor pid=1242551)\u001b[0m \u001b[32m [repeated 134x across cluster]\u001b[0m\n",
      "\u001b[2m\u001b[36m(ClientAppActor pid=1242551)\u001b[0m Epoch 1/100\u001b[32m [repeated 134x across cluster]\u001b[0m\n",
      "\u001b[2m\u001b[36m(ClientAppActor pid=1242551)\u001b[0m Epoch 100: Training accuracy: 83.35798645019531 Testing accuracy: 72.78106689453125.\u001b[32m [repeated 132x across cluster]\u001b[0m\n",
      "\u001b[2m\u001b[36m(ClientAppActor pid=1242551)\u001b[0m \u001b[32m [repeated 99x across cluster]\u001b[0m\n",
      "\u001b[2m\u001b[36m(ClientAppActor pid=1242551)\u001b[0m Epoch 66/100\u001b[32m [repeated 99x across cluster]\u001b[0m\n",
      "\u001b[2m\u001b[36m(ClientAppActor pid=1242551)\u001b[0m Epoch 65: Training accuracy: 85.9775619506836 Testing accuracy: 76.92308044433594.\u001b[32m [repeated 99x across cluster]\u001b[0m\n",
      "\u001b[2m\u001b[36m(ClientAppActor pid=1242551)\u001b[0m \u001b[32m [repeated 21x across cluster]\u001b[0m\n",
      "\u001b[2m\u001b[36m(ClientAppActor pid=1242551)\u001b[0m Epoch 77/100\u001b[32m [repeated 21x across cluster]\u001b[0m\n",
      "\u001b[2m\u001b[36m(ClientAppActor pid=1242551)\u001b[0m Epoch 76: Training accuracy: 82.21154022216797 Testing accuracy: 76.92308044433594.\u001b[32m [repeated 21x across cluster]\u001b[0m\n",
      "\u001b[2m\u001b[36m(ClientAppActor pid=1242551)\u001b[0m \u001b[32m [repeated 15x across cluster]\u001b[0m\n",
      "\u001b[2m\u001b[36m(ClientAppActor pid=1242551)\u001b[0m Epoch 86/100\u001b[32m [repeated 15x across cluster]\u001b[0m\n",
      "\u001b[2m\u001b[36m(ClientAppActor pid=1242551)\u001b[0m Epoch 85: Training accuracy: 85.49679565429688 Testing accuracy: 76.92308044433594.\u001b[32m [repeated 15x across cluster]\u001b[0m\n",
      "\u001b[2m\u001b[36m(ClientAppActor pid=1242551)\u001b[0m \u001b[32m [repeated 16x across cluster]\u001b[0m\n",
      "\u001b[2m\u001b[36m(ClientAppActor pid=1242551)\u001b[0m Epoch 95/100\u001b[32m [repeated 16x across cluster]\u001b[0m\n",
      "\u001b[2m\u001b[36m(ClientAppActor pid=1242551)\u001b[0m Epoch 94: Training accuracy: 86.05769348144531 Testing accuracy: 75.0.\u001b[32m [repeated 16x across cluster]\u001b[0m\n",
      "\u001b[2m\u001b[36m(ClientAppActor pid=1242552)\u001b[0m \u001b[32m [repeated 12x across cluster]\u001b[0m\n",
      "\u001b[2m\u001b[36m(ClientAppActor pid=1242552)\u001b[0m Epoch 97/100\u001b[32m [repeated 12x across cluster]\u001b[0m\n",
      "\u001b[2m\u001b[36m(ClientAppActor pid=1242552)\u001b[0m Epoch 96: Training accuracy: 81.88623046875 Testing accuracy: 75.44910430908203.\u001b[32m [repeated 13x across cluster]\u001b[0m\n"
     ]
    },
    {
     "name": "stderr",
     "output_type": "stream",
     "text": [
      "\u001b[92mINFO \u001b[0m:      aggregate_fit: received 3 results and 0 failures\n",
      "\u001b[92mINFO \u001b[0m:      fit progress: (37, 0.049484561790119515, {'accuracy': tensor(71.5308, device='cuda:0')}, 2348.5351356159954)\n",
      "\u001b[92mINFO \u001b[0m:      configure_evaluate: strategy sampled 1 clients (out of 3)\n"
     ]
    },
    {
     "name": "stdout",
     "output_type": "stream",
     "text": [
      "Server-side evaluation loss 0.049484561790119515 / accuracy 71.53076171875\n"
     ]
    },
    {
     "name": "stderr",
     "output_type": "stream",
     "text": [
      "\u001b[92mINFO \u001b[0m:      aggregate_evaluate: received 1 results and 0 failures\n",
      "\u001b[92mINFO \u001b[0m:      \n",
      "\u001b[92mINFO \u001b[0m:      [ROUND 38]\n",
      "\u001b[92mINFO \u001b[0m:      configure_fit: strategy sampled 3 clients (out of 3)\n"
     ]
    },
    {
     "name": "stdout",
     "output_type": "stream",
     "text": [
      "\u001b[2m\u001b[36m(ClientAppActor pid=1242551)\u001b[0m \u001b[32m [repeated 10x across cluster]\u001b[0m\n",
      "\u001b[2m\u001b[36m(ClientAppActor pid=1242551)\u001b[0m Epoch 5/100\u001b[32m [repeated 10x across cluster]\u001b[0m\n",
      "\u001b[2m\u001b[36m(ClientAppActor pid=1242551)\u001b[0m Epoch 4: Training accuracy: 85.33654022216797 Testing accuracy: 77.56410217285156.\u001b[32m [repeated 9x across cluster]\u001b[0m\n",
      "\u001b[2m\u001b[36m(ClientAppActor pid=1242551)\u001b[0m \u001b[32m [repeated 14x across cluster]\u001b[0m\n",
      "\u001b[2m\u001b[36m(ClientAppActor pid=1242551)\u001b[0m Epoch 13/100\u001b[32m [repeated 14x across cluster]\u001b[0m\n",
      "\u001b[2m\u001b[36m(ClientAppActor pid=1242551)\u001b[0m Epoch 12: Training accuracy: 85.7371826171875 Testing accuracy: 78.20513153076172.\u001b[32m [repeated 14x across cluster]\u001b[0m\n",
      "\u001b[2m\u001b[36m(ClientAppActor pid=1242551)\u001b[0m \u001b[32m [repeated 17x across cluster]\u001b[0m\n",
      "\u001b[2m\u001b[36m(ClientAppActor pid=1242551)\u001b[0m Epoch 23/100\u001b[32m [repeated 17x across cluster]\u001b[0m\n",
      "\u001b[2m\u001b[36m(ClientAppActor pid=1242551)\u001b[0m Epoch 22: Training accuracy: 85.57691955566406 Testing accuracy: 80.12820434570312.\u001b[32m [repeated 17x across cluster]\u001b[0m\n",
      "\u001b[2m\u001b[36m(ClientAppActor pid=1242551)\u001b[0m \u001b[32m [repeated 14x across cluster]\u001b[0m\n",
      "\u001b[2m\u001b[36m(ClientAppActor pid=1242551)\u001b[0m Epoch 31/100\u001b[32m [repeated 14x across cluster]\u001b[0m\n",
      "\u001b[2m\u001b[36m(ClientAppActor pid=1242551)\u001b[0m Epoch 30: Training accuracy: 85.81730651855469 Testing accuracy: 75.64102935791016.\u001b[32m [repeated 14x across cluster]\u001b[0m\n",
      "\u001b[2m\u001b[36m(ClientAppActor pid=1242551)\u001b[0m \u001b[32m [repeated 17x across cluster]\u001b[0m\n",
      "\u001b[2m\u001b[36m(ClientAppActor pid=1242551)\u001b[0m Epoch 41/100\u001b[32m [repeated 17x across cluster]\u001b[0m\n",
      "\u001b[2m\u001b[36m(ClientAppActor pid=1242551)\u001b[0m Epoch 40: Training accuracy: 85.9775619506836 Testing accuracy: 76.92308044433594.\u001b[32m [repeated 17x across cluster]\u001b[0m\n",
      "\u001b[2m\u001b[36m(ClientAppActor pid=1242551)\u001b[0m \u001b[32m [repeated 16x across cluster]\u001b[0m\n",
      "\u001b[2m\u001b[36m(ClientAppActor pid=1242551)\u001b[0m Epoch 51/100\u001b[32m [repeated 16x across cluster]\u001b[0m\n",
      "\u001b[2m\u001b[36m(ClientAppActor pid=1242551)\u001b[0m Epoch 50: Training accuracy: 86.21794891357422 Testing accuracy: 77.56410217285156.\u001b[32m [repeated 16x across cluster]\u001b[0m\n",
      "\u001b[2m\u001b[36m(ClientAppActor pid=1242552)\u001b[0m \u001b[32m [repeated 15x across cluster]\u001b[0m\n",
      "\u001b[2m\u001b[36m(ClientAppActor pid=1242552)\u001b[0m Epoch 42/100\u001b[32m [repeated 15x across cluster]\u001b[0m\n",
      "\u001b[2m\u001b[36m(ClientAppActor pid=1242552)\u001b[0m Epoch 41: Training accuracy: 80.53892517089844 Testing accuracy: 76.6467056274414.\u001b[32m [repeated 15x across cluster]\u001b[0m\n",
      "\u001b[2m\u001b[36m(ClientAppActor pid=1242552)\u001b[0m \u001b[32m [repeated 21x across cluster]\u001b[0m\n",
      "\u001b[2m\u001b[36m(ClientAppActor pid=1242552)\u001b[0m Epoch 48/100\u001b[32m [repeated 21x across cluster]\u001b[0m\n",
      "\u001b[2m\u001b[36m(ClientAppActor pid=1242552)\u001b[0m Epoch 47: Training accuracy: 82.18563079833984 Testing accuracy: 76.04790496826172.\u001b[32m [repeated 21x across cluster]\u001b[0m\n",
      "\u001b[2m\u001b[36m(ClientAppActor pid=1242551)\u001b[0m \u001b[32m [repeated 27x across cluster]\u001b[0m\n",
      "\u001b[2m\u001b[36m(ClientAppActor pid=1242551)\u001b[0m Epoch 91/100\u001b[32m [repeated 27x across cluster]\u001b[0m\n",
      "\u001b[2m\u001b[36m(ClientAppActor pid=1242551)\u001b[0m Epoch 90: Training accuracy: 86.1378173828125 Testing accuracy: 76.28205108642578.\u001b[32m [repeated 27x across cluster]\u001b[0m\n",
      "\u001b[2m\u001b[36m(ClientAppActor pid=1242551)\u001b[0m \u001b[32m [repeated 25x across cluster]\u001b[0m\n",
      "\u001b[2m\u001b[36m(ClientAppActor pid=1242551)\u001b[0m Epoch 5/100\u001b[32m [repeated 25x across cluster]\u001b[0m\n",
      "\u001b[2m\u001b[36m(ClientAppActor pid=1242551)\u001b[0m Epoch 4: Training accuracy: 83.80177307128906 Testing accuracy: 72.78106689453125.\u001b[32m [repeated 25x across cluster]\u001b[0m\n",
      "\u001b[2m\u001b[36m(ClientAppActor pid=1242551)\u001b[0m \u001b[32m [repeated 49x across cluster]\u001b[0m\n",
      "\u001b[2m\u001b[36m(ClientAppActor pid=1242551)\u001b[0m Epoch 41/100\u001b[32m [repeated 49x across cluster]\u001b[0m\n",
      "\u001b[2m\u001b[36m(ClientAppActor pid=1242551)\u001b[0m Epoch 40: Training accuracy: 84.02366638183594 Testing accuracy: 72.78106689453125.\u001b[32m [repeated 49x across cluster]\u001b[0m\n",
      "\u001b[2m\u001b[36m(ClientAppActor pid=1242551)\u001b[0m \u001b[32m [repeated 36x across cluster]\u001b[0m\n",
      "\u001b[2m\u001b[36m(ClientAppActor pid=1242551)\u001b[0m Epoch 68/100\u001b[32m [repeated 36x across cluster]\u001b[0m\n",
      "\u001b[2m\u001b[36m(ClientAppActor pid=1242551)\u001b[0m Epoch 67: Training accuracy: 82.98816680908203 Testing accuracy: 72.78106689453125.\u001b[32m [repeated 36x across cluster]\u001b[0m\n",
      "\u001b[2m\u001b[36m(ClientAppActor pid=1242551)\u001b[0m \u001b[32m [repeated 31x across cluster]\u001b[0m\n",
      "\u001b[2m\u001b[36m(ClientAppActor pid=1242551)\u001b[0m Epoch 89/100\u001b[32m [repeated 31x across cluster]\u001b[0m\n",
      "\u001b[2m\u001b[36m(ClientAppActor pid=1242551)\u001b[0m Epoch 88: Training accuracy: 84.02366638183594 Testing accuracy: 72.78106689453125.\u001b[32m [repeated 31x across cluster]\u001b[0m\n"
     ]
    },
    {
     "name": "stderr",
     "output_type": "stream",
     "text": [
      "\u001b[92mINFO \u001b[0m:      aggregate_fit: received 3 results and 0 failures\n",
      "\u001b[92mINFO \u001b[0m:      fit progress: (38, 0.04964228651740334, {'accuracy': tensor(71.3877, device='cuda:0')}, 2415.2505463989946)\n",
      "\u001b[92mINFO \u001b[0m:      configure_evaluate: strategy sampled 1 clients (out of 3)\n",
      "\u001b[92mINFO \u001b[0m:      aggregate_evaluate: received 1 results and 0 failures\n",
      "\u001b[92mINFO \u001b[0m:      \n",
      "\u001b[92mINFO \u001b[0m:      [ROUND 39]\n",
      "\u001b[92mINFO \u001b[0m:      configure_fit: strategy sampled 3 clients (out of 3)\n"
     ]
    },
    {
     "name": "stdout",
     "output_type": "stream",
     "text": [
      "Server-side evaluation loss 0.04964228651740334 / accuracy 71.3876953125\n",
      "\u001b[2m\u001b[36m(ClientAppActor pid=1242552)\u001b[0m \u001b[32m [repeated 25x across cluster]\u001b[0m\n",
      "\u001b[2m\u001b[36m(ClientAppActor pid=1242552)\u001b[0m Epoch 6/100\u001b[32m [repeated 25x across cluster]\u001b[0m\n",
      "\u001b[2m\u001b[36m(ClientAppActor pid=1242552)\u001b[0m Epoch 5: Training accuracy: 82.84024047851562 Testing accuracy: 72.78106689453125.\u001b[32m [repeated 25x across cluster]\u001b[0m\n",
      "\u001b[2m\u001b[36m(ClientAppActor pid=1242552)\u001b[0m \u001b[32m [repeated 37x across cluster]\u001b[0m\n",
      "\u001b[2m\u001b[36m(ClientAppActor pid=1242552)\u001b[0m Epoch 18/100\u001b[32m [repeated 37x across cluster]\u001b[0m\n",
      "\u001b[2m\u001b[36m(ClientAppActor pid=1242552)\u001b[0m Epoch 17: Training accuracy: 84.02366638183594 Testing accuracy: 73.3727798461914.\u001b[32m [repeated 37x across cluster]\u001b[0m\n",
      "\u001b[2m\u001b[36m(ClientAppActor pid=1242551)\u001b[0m \u001b[32m [repeated 38x across cluster]\u001b[0m\n",
      "\u001b[2m\u001b[36m(ClientAppActor pid=1242551)\u001b[0m Epoch 59/100\u001b[32m [repeated 38x across cluster]\u001b[0m\n",
      "\u001b[2m\u001b[36m(ClientAppActor pid=1242551)\u001b[0m Epoch 58: Training accuracy: 86.05769348144531 Testing accuracy: 76.28205108642578.\u001b[32m [repeated 38x across cluster]\u001b[0m\n",
      "\u001b[2m\u001b[36m(ClientAppActor pid=1242551)\u001b[0m \u001b[32m [repeated 36x across cluster]\u001b[0m\n",
      "\u001b[2m\u001b[36m(ClientAppActor pid=1242551)\u001b[0m Epoch 83/100\u001b[32m [repeated 36x across cluster]\u001b[0m\n",
      "\u001b[2m\u001b[36m(ClientAppActor pid=1242551)\u001b[0m Epoch 82: Training accuracy: 85.33654022216797 Testing accuracy: 76.28205108642578.\u001b[32m [repeated 36x across cluster]\u001b[0m\n",
      "\u001b[2m\u001b[36m(ClientAppActor pid=1242551)\u001b[0m \u001b[32m [repeated 34x across cluster]\u001b[0m\n",
      "\u001b[2m\u001b[36m(ClientAppActor pid=1242551)\u001b[0m Epoch 5/100\u001b[32m [repeated 34x across cluster]\u001b[0m\n",
      "\u001b[2m\u001b[36m(ClientAppActor pid=1242551)\u001b[0m Epoch 4: Training accuracy: 81.66167449951172 Testing accuracy: 75.44910430908203.\u001b[32m [repeated 34x across cluster]\u001b[0m\n",
      "\u001b[2m\u001b[36m(ClientAppActor pid=1242551)\u001b[0m \u001b[32m [repeated 112x across cluster]\u001b[0m\n",
      "\u001b[2m\u001b[36m(ClientAppActor pid=1242551)\u001b[0m Epoch 94/100\u001b[32m [repeated 112x across cluster]\u001b[0m\n",
      "\u001b[2m\u001b[36m(ClientAppActor pid=1242551)\u001b[0m Epoch 93: Training accuracy: 82.18563079833984 Testing accuracy: 76.6467056274414.\u001b[32m [repeated 112x across cluster]\u001b[0m\n"
     ]
    },
    {
     "name": "stderr",
     "output_type": "stream",
     "text": [
      "\u001b[92mINFO \u001b[0m:      aggregate_fit: received 3 results and 0 failures\n",
      "\u001b[92mINFO \u001b[0m:      fit progress: (39, 0.050209630619395866, {'accuracy': tensor(70.8155, device='cuda:0')}, 2447.2921903889946)\n",
      "\u001b[92mINFO \u001b[0m:      configure_evaluate: strategy sampled 1 clients (out of 3)\n",
      "\u001b[92mINFO \u001b[0m:      aggregate_evaluate: received 1 results and 0 failures\n",
      "\u001b[92mINFO \u001b[0m:      \n",
      "\u001b[92mINFO \u001b[0m:      [ROUND 40]\n",
      "\u001b[92mINFO \u001b[0m:      configure_fit: strategy sampled 3 clients (out of 3)\n"
     ]
    },
    {
     "name": "stdout",
     "output_type": "stream",
     "text": [
      "Server-side evaluation loss 0.050209630619395866 / accuracy 70.8154525756836\n",
      "\u001b[2m\u001b[36m(ClientAppActor pid=1242551)\u001b[0m \u001b[32m [repeated 59x across cluster]\u001b[0m\n",
      "\u001b[2m\u001b[36m(ClientAppActor pid=1242551)\u001b[0m Epoch 23/100\u001b[32m [repeated 59x across cluster]\u001b[0m\n",
      "\u001b[2m\u001b[36m(ClientAppActor pid=1242551)\u001b[0m Epoch 22: Training accuracy: 82.48503112792969 Testing accuracy: 73.65269470214844.\u001b[32m [repeated 59x across cluster]\u001b[0m\n",
      "\u001b[2m\u001b[36m(ClientAppActor pid=1242551)\u001b[0m \u001b[32m [repeated 32x across cluster]\u001b[0m\n",
      "\u001b[2m\u001b[36m(ClientAppActor pid=1242551)\u001b[0m Epoch 44/100\u001b[32m [repeated 32x across cluster]\u001b[0m\n",
      "\u001b[2m\u001b[36m(ClientAppActor pid=1242551)\u001b[0m Epoch 43: Training accuracy: 82.26048278808594 Testing accuracy: 76.6467056274414.\u001b[32m [repeated 32x across cluster]\u001b[0m\n",
      "\u001b[2m\u001b[36m(ClientAppActor pid=1242551)\u001b[0m \u001b[32m [repeated 36x across cluster]\u001b[0m\n",
      "\u001b[2m\u001b[36m(ClientAppActor pid=1242551)\u001b[0m Epoch 61/100\u001b[32m [repeated 36x across cluster]\u001b[0m\n",
      "\u001b[2m\u001b[36m(ClientAppActor pid=1242551)\u001b[0m Epoch 60: Training accuracy: 81.51197814941406 Testing accuracy: 76.6467056274414.\u001b[32m [repeated 36x across cluster]\u001b[0m\n",
      "\u001b[2m\u001b[36m(ClientAppActor pid=1242551)\u001b[0m \u001b[32m [repeated 25x across cluster]\u001b[0m\n",
      "\u001b[2m\u001b[36m(ClientAppActor pid=1242551)\u001b[0m Epoch 73/100\u001b[32m [repeated 25x across cluster]\u001b[0m\n",
      "\u001b[2m\u001b[36m(ClientAppActor pid=1242551)\u001b[0m Epoch 72: Training accuracy: 81.51197814941406 Testing accuracy: 77.2455062866211.\u001b[32m [repeated 25x across cluster]\u001b[0m\n",
      "\u001b[2m\u001b[36m(ClientAppActor pid=1242551)\u001b[0m \u001b[32m [repeated 16x across cluster]\u001b[0m\n",
      "\u001b[2m\u001b[36m(ClientAppActor pid=1242551)\u001b[0m Epoch 82/100\u001b[32m [repeated 16x across cluster]\u001b[0m\n",
      "\u001b[2m\u001b[36m(ClientAppActor pid=1242551)\u001b[0m Epoch 81: Training accuracy: 82.48503112792969 Testing accuracy: 77.84431457519531.\u001b[32m [repeated 16x across cluster]\u001b[0m\n",
      "\u001b[2m\u001b[36m(ClientAppActor pid=1242552)\u001b[0m \u001b[32m [repeated 16x across cluster]\u001b[0m\n",
      "\u001b[2m\u001b[36m(ClientAppActor pid=1242552)\u001b[0m Epoch 65/100\u001b[32m [repeated 16x across cluster]\u001b[0m\n",
      "\u001b[2m\u001b[36m(ClientAppActor pid=1242552)\u001b[0m Epoch 64: Training accuracy: 85.41666412353516 Testing accuracy: 76.28205108642578.\u001b[32m [repeated 16x across cluster]\u001b[0m\n",
      "\u001b[2m\u001b[36m(ClientAppActor pid=1242551)\u001b[0m \u001b[32m [repeated 16x across cluster]\u001b[0m\n",
      "\u001b[2m\u001b[36m(ClientAppActor pid=1242551)\u001b[0m Epoch 100/100\u001b[32m [repeated 16x across cluster]\u001b[0m\n",
      "\u001b[2m\u001b[36m(ClientAppActor pid=1242551)\u001b[0m Epoch 99: Training accuracy: 81.73652648925781 Testing accuracy: 76.04790496826172.\u001b[32m [repeated 16x across cluster]\u001b[0m\n",
      "\u001b[2m\u001b[36m(ClientAppActor pid=1242551)\u001b[0m \u001b[32m [repeated 15x across cluster]\u001b[0m\n",
      "\u001b[2m\u001b[36m(ClientAppActor pid=1242551)\u001b[0m Epoch 8/100\u001b[32m [repeated 15x across cluster]\u001b[0m\n",
      "\u001b[2m\u001b[36m(ClientAppActor pid=1242551)\u001b[0m Epoch 7: Training accuracy: 84.0976333618164 Testing accuracy: 72.18934631347656.\u001b[32m [repeated 15x across cluster]\u001b[0m\n",
      "\u001b[2m\u001b[36m(ClientAppActor pid=1242551)\u001b[0m \u001b[32m [repeated 15x across cluster]\u001b[0m\n",
      "\u001b[2m\u001b[36m(ClientAppActor pid=1242551)\u001b[0m Epoch 16/100\u001b[32m [repeated 15x across cluster]\u001b[0m\n",
      "\u001b[2m\u001b[36m(ClientAppActor pid=1242551)\u001b[0m Epoch 15: Training accuracy: 84.17160034179688 Testing accuracy: 72.78106689453125.\u001b[32m [repeated 15x across cluster]\u001b[0m\n",
      "\u001b[2m\u001b[36m(ClientAppActor pid=1242551)\u001b[0m \u001b[32m [repeated 15x across cluster]\u001b[0m\n",
      "\u001b[2m\u001b[36m(ClientAppActor pid=1242551)\u001b[0m Epoch 25/100\u001b[32m [repeated 15x across cluster]\u001b[0m\n",
      "\u001b[2m\u001b[36m(ClientAppActor pid=1242551)\u001b[0m Epoch 24: Training accuracy: 81.65680694580078 Testing accuracy: 71.00592041015625.\u001b[32m [repeated 15x across cluster]\u001b[0m\n",
      "\u001b[2m\u001b[36m(ClientAppActor pid=1242551)\u001b[0m \u001b[32m [repeated 18x across cluster]\u001b[0m\n",
      "\u001b[2m\u001b[36m(ClientAppActor pid=1242551)\u001b[0m Epoch 34/100\u001b[32m [repeated 18x across cluster]\u001b[0m\n",
      "\u001b[2m\u001b[36m(ClientAppActor pid=1242551)\u001b[0m Epoch 33: Training accuracy: 83.72781372070312 Testing accuracy: 72.18934631347656.\u001b[32m [repeated 18x across cluster]\u001b[0m\n",
      "\u001b[2m\u001b[36m(ClientAppActor pid=1242551)\u001b[0m \u001b[32m [repeated 15x across cluster]\u001b[0m\n",
      "\u001b[2m\u001b[36m(ClientAppActor pid=1242551)\u001b[0m Epoch 49/100\u001b[32m [repeated 15x across cluster]\u001b[0m\n",
      "\u001b[2m\u001b[36m(ClientAppActor pid=1242551)\u001b[0m Epoch 48: Training accuracy: 83.72781372070312 Testing accuracy: 72.78106689453125.\u001b[32m [repeated 16x across cluster]\u001b[0m\n",
      "\u001b[2m\u001b[36m(ClientAppActor pid=1242551)\u001b[0m \u001b[32m [repeated 13x across cluster]\u001b[0m\n",
      "\u001b[2m\u001b[36m(ClientAppActor pid=1242551)\u001b[0m Epoch 62/100\u001b[32m [repeated 13x across cluster]\u001b[0m\n",
      "\u001b[2m\u001b[36m(ClientAppActor pid=1242551)\u001b[0m Epoch 61: Training accuracy: 84.17160034179688 Testing accuracy: 73.3727798461914.\u001b[32m [repeated 13x across cluster]\u001b[0m\n",
      "\u001b[2m\u001b[36m(ClientAppActor pid=1242551)\u001b[0m \u001b[32m [repeated 31x across cluster]\u001b[0m\n",
      "\u001b[2m\u001b[36m(ClientAppActor pid=1242551)\u001b[0m Epoch 93/100\u001b[32m [repeated 31x across cluster]\u001b[0m\n",
      "\u001b[2m\u001b[36m(ClientAppActor pid=1242551)\u001b[0m Epoch 92: Training accuracy: 84.54141998291016 Testing accuracy: 73.9645004272461.\u001b[32m [repeated 31x across cluster]\u001b[0m\n"
     ]
    },
    {
     "name": "stderr",
     "output_type": "stream",
     "text": [
      "\u001b[92mINFO \u001b[0m:      aggregate_fit: received 3 results and 0 failures\n",
      "\u001b[92mINFO \u001b[0m:      fit progress: (40, 0.04961390386928211, {'accuracy': tensor(71.2446, device='cuda:0')}, 2518.0492620430014)\n",
      "\u001b[92mINFO \u001b[0m:      configure_evaluate: strategy sampled 1 clients (out of 3)\n"
     ]
    },
    {
     "name": "stdout",
     "output_type": "stream",
     "text": [
      "Server-side evaluation loss 0.04961390386928211 / accuracy 71.24463653564453\n"
     ]
    },
    {
     "name": "stderr",
     "output_type": "stream",
     "text": [
      "\u001b[92mINFO \u001b[0m:      aggregate_evaluate: received 1 results and 0 failures\n",
      "\u001b[92mINFO \u001b[0m:      \n",
      "\u001b[92mINFO \u001b[0m:      [ROUND 41]\n",
      "\u001b[92mINFO \u001b[0m:      configure_fit: strategy sampled 3 clients (out of 3)\n"
     ]
    },
    {
     "name": "stdout",
     "output_type": "stream",
     "text": [
      "\u001b[2m\u001b[36m(ClientAppActor pid=1242551)\u001b[0m \u001b[32m [repeated 19x across cluster]\u001b[0m\n",
      "\u001b[2m\u001b[36m(ClientAppActor pid=1242551)\u001b[0m Epoch 7/100\u001b[32m [repeated 19x across cluster]\u001b[0m\n",
      "\u001b[2m\u001b[36m(ClientAppActor pid=1242551)\u001b[0m Epoch 6: Training accuracy: 84.77564239501953 Testing accuracy: 80.12820434570312.\u001b[32m [repeated 18x across cluster]\u001b[0m\n",
      "\u001b[2m\u001b[36m(ClientAppActor pid=1242551)\u001b[0m \u001b[32m [repeated 26x across cluster]\u001b[0m\n",
      "\u001b[2m\u001b[36m(ClientAppActor pid=1242551)\u001b[0m Epoch 21/100\u001b[32m [repeated 26x across cluster]\u001b[0m\n",
      "\u001b[2m\u001b[36m(ClientAppActor pid=1242551)\u001b[0m Epoch 20: Training accuracy: 86.29808044433594 Testing accuracy: 78.20513153076172.\u001b[32m [repeated 26x across cluster]\u001b[0m\n",
      "\u001b[2m\u001b[36m(ClientAppActor pid=1242551)\u001b[0m \u001b[32m [repeated 27x across cluster]\u001b[0m\n",
      "\u001b[2m\u001b[36m(ClientAppActor pid=1242551)\u001b[0m Epoch 36/100\u001b[32m [repeated 27x across cluster]\u001b[0m\n",
      "\u001b[2m\u001b[36m(ClientAppActor pid=1242551)\u001b[0m Epoch 35: Training accuracy: 85.33654022216797 Testing accuracy: 76.92308044433594.\u001b[32m [repeated 27x across cluster]\u001b[0m\n",
      "\u001b[2m\u001b[36m(ClientAppActor pid=1242552)\u001b[0m \u001b[32m [repeated 40x across cluster]\u001b[0m\n",
      "\u001b[2m\u001b[36m(ClientAppActor pid=1242552)\u001b[0m Epoch 46/100\u001b[32m [repeated 40x across cluster]\u001b[0m\n",
      "\u001b[2m\u001b[36m(ClientAppActor pid=1242552)\u001b[0m Epoch 45: Training accuracy: 83.43195343017578 Testing accuracy: 71.5976333618164.\u001b[32m [repeated 40x across cluster]\u001b[0m\n",
      "\u001b[2m\u001b[36m(ClientAppActor pid=1242551)\u001b[0m \u001b[32m [repeated 17x across cluster]\u001b[0m\n",
      "\u001b[2m\u001b[36m(ClientAppActor pid=1242551)\u001b[0m Epoch 70/100\u001b[32m [repeated 17x across cluster]\u001b[0m\n",
      "\u001b[2m\u001b[36m(ClientAppActor pid=1242551)\u001b[0m Epoch 69: Training accuracy: 86.05769348144531 Testing accuracy: 78.20513153076172.\u001b[32m [repeated 17x across cluster]\u001b[0m\n",
      "\u001b[2m\u001b[36m(ClientAppActor pid=1242551)\u001b[0m \u001b[32m [repeated 15x across cluster]\u001b[0m\n",
      "\u001b[2m\u001b[36m(ClientAppActor pid=1242551)\u001b[0m Epoch 79/100\u001b[32m [repeated 15x across cluster]\u001b[0m\n",
      "\u001b[2m\u001b[36m(ClientAppActor pid=1242551)\u001b[0m Epoch 78: Training accuracy: 85.7371826171875 Testing accuracy: 76.92308044433594.\u001b[32m [repeated 15x across cluster]\u001b[0m\n",
      "\u001b[2m\u001b[36m(ClientAppActor pid=1242551)\u001b[0m \u001b[32m [repeated 15x across cluster]\u001b[0m\n",
      "\u001b[2m\u001b[36m(ClientAppActor pid=1242551)\u001b[0m Epoch 88/100\u001b[32m [repeated 15x across cluster]\u001b[0m\n",
      "\u001b[2m\u001b[36m(ClientAppActor pid=1242551)\u001b[0m Epoch 87: Training accuracy: 85.81730651855469 Testing accuracy: 80.12820434570312.\u001b[32m [repeated 15x across cluster]\u001b[0m\n",
      "\u001b[2m\u001b[36m(ClientAppActor pid=1242551)\u001b[0m \u001b[32m [repeated 16x across cluster]\u001b[0m\n",
      "\u001b[2m\u001b[36m(ClientAppActor pid=1242551)\u001b[0m Epoch 98/100\u001b[32m [repeated 16x across cluster]\u001b[0m\n",
      "\u001b[2m\u001b[36m(ClientAppActor pid=1242551)\u001b[0m Epoch 97: Training accuracy: 86.1378173828125 Testing accuracy: 75.64102935791016.\u001b[32m [repeated 16x across cluster]\u001b[0m\n",
      "\u001b[2m\u001b[36m(ClientAppActor pid=1242551)\u001b[0m \u001b[32m [repeated 14x across cluster]\u001b[0m\n",
      "\u001b[2m\u001b[36m(ClientAppActor pid=1242551)\u001b[0m Epoch 6/100\u001b[32m [repeated 14x across cluster]\u001b[0m\n",
      "\u001b[2m\u001b[36m(ClientAppActor pid=1242551)\u001b[0m Epoch 5: Training accuracy: 82.11077880859375 Testing accuracy: 73.65269470214844.\u001b[32m [repeated 14x across cluster]\u001b[0m\n",
      "\u001b[2m\u001b[36m(ClientAppActor pid=1242552)\u001b[0m \u001b[32m [repeated 15x across cluster]\u001b[0m\n",
      "\u001b[2m\u001b[36m(ClientAppActor pid=1242552)\u001b[0m Epoch 83/100\u001b[32m [repeated 15x across cluster]\u001b[0m\n",
      "\u001b[2m\u001b[36m(ClientAppActor pid=1242552)\u001b[0m Epoch 82: Training accuracy: 84.02366638183594 Testing accuracy: 72.78106689453125.\u001b[32m [repeated 15x across cluster]\u001b[0m\n",
      "\u001b[2m\u001b[36m(ClientAppActor pid=1242552)\u001b[0m \u001b[32m [repeated 18x across cluster]\u001b[0m\n",
      "\u001b[2m\u001b[36m(ClientAppActor pid=1242552)\u001b[0m Epoch 89/100\u001b[32m [repeated 18x across cluster]\u001b[0m\n",
      "\u001b[2m\u001b[36m(ClientAppActor pid=1242552)\u001b[0m Epoch 88: Training accuracy: 83.87574005126953 Testing accuracy: 72.18934631347656.\u001b[32m [repeated 18x across cluster]\u001b[0m\n",
      "\u001b[2m\u001b[36m(ClientAppActor pid=1242551)\u001b[0m \u001b[32m [repeated 25x across cluster]\u001b[0m\n",
      "\u001b[2m\u001b[36m(ClientAppActor pid=1242551)\u001b[0m Epoch 42/100\u001b[32m [repeated 25x across cluster]\u001b[0m\n",
      "\u001b[2m\u001b[36m(ClientAppActor pid=1242551)\u001b[0m Epoch 41: Training accuracy: 82.48503112792969 Testing accuracy: 75.44910430908203.\u001b[32m [repeated 25x across cluster]\u001b[0m\n",
      "\u001b[2m\u001b[36m(ClientAppActor pid=1242551)\u001b[0m \u001b[32m [repeated 17x across cluster]\u001b[0m\n",
      "\u001b[2m\u001b[36m(ClientAppActor pid=1242551)\u001b[0m Epoch 57/100\u001b[32m [repeated 17x across cluster]\u001b[0m\n",
      "\u001b[2m\u001b[36m(ClientAppActor pid=1242551)\u001b[0m Epoch 56: Training accuracy: 82.70957946777344 Testing accuracy: 75.44910430908203.\u001b[32m [repeated 18x across cluster]\u001b[0m\n",
      "\u001b[2m\u001b[36m(ClientAppActor pid=1242551)\u001b[0m \u001b[32m [repeated 16x across cluster]\u001b[0m\n",
      "\u001b[2m\u001b[36m(ClientAppActor pid=1242551)\u001b[0m Epoch 73/100\u001b[32m [repeated 16x across cluster]\u001b[0m\n",
      "\u001b[2m\u001b[36m(ClientAppActor pid=1242551)\u001b[0m Epoch 72: Training accuracy: 81.58683013916016 Testing accuracy: 76.6467056274414.\u001b[32m [repeated 16x across cluster]\u001b[0m\n",
      "\u001b[2m\u001b[36m(ClientAppActor pid=1242551)\u001b[0m \u001b[32m [repeated 9x across cluster]\u001b[0m\n",
      "\u001b[2m\u001b[36m(ClientAppActor pid=1242551)\u001b[0m Epoch 82/100\u001b[32m [repeated 9x across cluster]\u001b[0m\n",
      "\u001b[2m\u001b[36m(ClientAppActor pid=1242551)\u001b[0m Epoch 81: Training accuracy: 81.73652648925781 Testing accuracy: 77.2455062866211.\u001b[32m [repeated 9x across cluster]\u001b[0m\n",
      "\u001b[2m\u001b[36m(ClientAppActor pid=1242551)\u001b[0m \u001b[32m [repeated 10x across cluster]\u001b[0m\n",
      "\u001b[2m\u001b[36m(ClientAppActor pid=1242551)\u001b[0m Epoch 92/100\u001b[32m [repeated 10x across cluster]\u001b[0m\n",
      "\u001b[2m\u001b[36m(ClientAppActor pid=1242551)\u001b[0m Epoch 91: Training accuracy: 81.96107482910156 Testing accuracy: 76.6467056274414.\u001b[32m [repeated 10x across cluster]\u001b[0m\n",
      "\u001b[2m\u001b[36m(ClientAppActor pid=1242551)\u001b[0m \u001b[32m [repeated 8x across cluster]\u001b[0m\n",
      "\u001b[2m\u001b[36m(ClientAppActor pid=1242551)\u001b[0m Epoch 100/100\u001b[32m [repeated 8x across cluster]\u001b[0m\n",
      "\u001b[2m\u001b[36m(ClientAppActor pid=1242551)\u001b[0m Epoch 99: Training accuracy: 82.63472747802734 Testing accuracy: 77.2455062866211.\u001b[32m [repeated 8x across cluster]\u001b[0m\n"
     ]
    },
    {
     "name": "stderr",
     "output_type": "stream",
     "text": [
      "\u001b[92mINFO \u001b[0m:      aggregate_fit: received 3 results and 0 failures\n",
      "\u001b[92mINFO \u001b[0m:      fit progress: (41, 0.04982220042835583, {'accuracy': tensor(71.3877, device='cuda:0')}, 2605.649020675992)\n",
      "\u001b[92mINFO \u001b[0m:      configure_evaluate: strategy sampled 1 clients (out of 3)\n"
     ]
    },
    {
     "name": "stdout",
     "output_type": "stream",
     "text": [
      "Server-side evaluation loss 0.04982220042835583 / accuracy 71.3876953125\n"
     ]
    },
    {
     "name": "stderr",
     "output_type": "stream",
     "text": [
      "\u001b[92mINFO \u001b[0m:      aggregate_evaluate: received 1 results and 0 failures\n",
      "\u001b[92mINFO \u001b[0m:      \n",
      "\u001b[92mINFO \u001b[0m:      [ROUND 42]\n",
      "\u001b[92mINFO \u001b[0m:      configure_fit: strategy sampled 3 clients (out of 3)\n"
     ]
    },
    {
     "name": "stdout",
     "output_type": "stream",
     "text": [
      "\u001b[2m\u001b[36m(ClientAppActor pid=1242551)\u001b[0m \u001b[32m [repeated 18x across cluster]\u001b[0m\n",
      "\u001b[2m\u001b[36m(ClientAppActor pid=1242551)\u001b[0m Epoch 7/100\u001b[32m [repeated 18x across cluster]\u001b[0m\n",
      "\u001b[2m\u001b[36m(ClientAppActor pid=1242551)\u001b[0m Epoch 6: Training accuracy: 82.26048278808594 Testing accuracy: 74.85029602050781.\u001b[32m [repeated 17x across cluster]\u001b[0m\n",
      "\u001b[2m\u001b[36m(ClientAppActor pid=1242551)\u001b[0m \u001b[32m [repeated 22x across cluster]\u001b[0m\n",
      "\u001b[2m\u001b[36m(ClientAppActor pid=1242551)\u001b[0m Epoch 18/100\u001b[32m [repeated 22x across cluster]\u001b[0m\n",
      "\u001b[2m\u001b[36m(ClientAppActor pid=1242551)\u001b[0m Epoch 17: Training accuracy: 82.3353271484375 Testing accuracy: 75.44910430908203.\u001b[32m [repeated 22x across cluster]\u001b[0m\n",
      "\u001b[2m\u001b[36m(ClientAppActor pid=1242552)\u001b[0m \u001b[32m [repeated 24x across cluster]\u001b[0m\n",
      "\u001b[2m\u001b[36m(ClientAppActor pid=1242552)\u001b[0m Epoch 34/100\u001b[32m [repeated 24x across cluster]\u001b[0m\n",
      "\u001b[2m\u001b[36m(ClientAppActor pid=1242552)\u001b[0m Epoch 33: Training accuracy: 84.17160034179688 Testing accuracy: 72.18934631347656.\u001b[32m [repeated 24x across cluster]\u001b[0m\n",
      "\u001b[2m\u001b[36m(ClientAppActor pid=1242551)\u001b[0m \u001b[32m [repeated 30x across cluster]\u001b[0m\n",
      "\u001b[2m\u001b[36m(ClientAppActor pid=1242551)\u001b[0m Epoch 50/100\u001b[32m [repeated 30x across cluster]\u001b[0m\n",
      "\u001b[2m\u001b[36m(ClientAppActor pid=1242551)\u001b[0m Epoch 49: Training accuracy: 83.00897979736328 Testing accuracy: 77.84431457519531.\u001b[32m [repeated 30x across cluster]\u001b[0m\n",
      "\u001b[2m\u001b[36m(ClientAppActor pid=1242551)\u001b[0m \u001b[32m [repeated 34x across cluster]\u001b[0m\n",
      "\u001b[2m\u001b[36m(ClientAppActor pid=1242551)\u001b[0m Epoch 70/100\u001b[32m [repeated 34x across cluster]\u001b[0m\n",
      "\u001b[2m\u001b[36m(ClientAppActor pid=1242551)\u001b[0m Epoch 69: Training accuracy: 81.73652648925781 Testing accuracy: 76.6467056274414.\u001b[32m [repeated 34x across cluster]\u001b[0m\n",
      "\u001b[2m\u001b[36m(ClientAppActor pid=1242551)\u001b[0m \u001b[32m [repeated 28x across cluster]\u001b[0m\n",
      "\u001b[2m\u001b[36m(ClientAppActor pid=1242551)\u001b[0m Epoch 83/100\u001b[32m [repeated 28x across cluster]\u001b[0m\n",
      "\u001b[2m\u001b[36m(ClientAppActor pid=1242551)\u001b[0m Epoch 82: Training accuracy: 82.55988311767578 Testing accuracy: 76.6467056274414.\u001b[32m [repeated 28x across cluster]\u001b[0m\n",
      "\u001b[2m\u001b[36m(ClientAppActor pid=1242551)\u001b[0m \u001b[32m [repeated 24x across cluster]\u001b[0m\n",
      "\u001b[2m\u001b[36m(ClientAppActor pid=1242551)\u001b[0m Epoch 98/100\u001b[32m [repeated 24x across cluster]\u001b[0m\n",
      "\u001b[2m\u001b[36m(ClientAppActor pid=1242551)\u001b[0m Epoch 97: Training accuracy: 76.7215576171875 Testing accuracy: 73.05389404296875.\u001b[32m [repeated 24x across cluster]\u001b[0m\n",
      "\u001b[2m\u001b[36m(ClientAppActor pid=1242551)\u001b[0m \u001b[32m [repeated 25x across cluster]\u001b[0m\n",
      "\u001b[2m\u001b[36m(ClientAppActor pid=1242551)\u001b[0m Epoch 13/100\u001b[32m [repeated 25x across cluster]\u001b[0m\n",
      "\u001b[2m\u001b[36m(ClientAppActor pid=1242551)\u001b[0m Epoch 12: Training accuracy: 85.33654022216797 Testing accuracy: 76.92308044433594.\u001b[32m [repeated 25x across cluster]\u001b[0m\n",
      "\u001b[2m\u001b[36m(ClientAppActor pid=1242551)\u001b[0m \u001b[32m [repeated 25x across cluster]\u001b[0m\n",
      "\u001b[2m\u001b[36m(ClientAppActor pid=1242551)\u001b[0m Epoch 30/100\u001b[32m [repeated 25x across cluster]\u001b[0m\n",
      "\u001b[2m\u001b[36m(ClientAppActor pid=1242551)\u001b[0m Epoch 29: Training accuracy: 84.77564239501953 Testing accuracy: 75.0.\u001b[32m [repeated 26x across cluster]\u001b[0m\n",
      "\u001b[2m\u001b[36m(ClientAppActor pid=1242551)\u001b[0m \u001b[32m [repeated 11x across cluster]\u001b[0m\n",
      "\u001b[2m\u001b[36m(ClientAppActor pid=1242551)\u001b[0m Epoch 41/100\u001b[32m [repeated 11x across cluster]\u001b[0m\n",
      "\u001b[2m\u001b[36m(ClientAppActor pid=1242551)\u001b[0m Epoch 40: Training accuracy: 86.05769348144531 Testing accuracy: 78.20513153076172.\u001b[32m [repeated 11x across cluster]\u001b[0m\n",
      "\u001b[2m\u001b[36m(ClientAppActor pid=1242551)\u001b[0m \u001b[32m [repeated 10x across cluster]\u001b[0m\n",
      "\u001b[2m\u001b[36m(ClientAppActor pid=1242551)\u001b[0m Epoch 51/100\u001b[32m [repeated 10x across cluster]\u001b[0m\n",
      "\u001b[2m\u001b[36m(ClientAppActor pid=1242551)\u001b[0m Epoch 50: Training accuracy: 85.65705108642578 Testing accuracy: 76.92308044433594.\u001b[32m [repeated 10x across cluster]\u001b[0m\n",
      "\u001b[2m\u001b[36m(ClientAppActor pid=1242551)\u001b[0m \u001b[32m [repeated 8x across cluster]\u001b[0m\n",
      "\u001b[2m\u001b[36m(ClientAppActor pid=1242551)\u001b[0m Epoch 59/100\u001b[32m [repeated 8x across cluster]\u001b[0m\n",
      "\u001b[2m\u001b[36m(ClientAppActor pid=1242551)\u001b[0m Epoch 58: Training accuracy: 81.97115325927734 Testing accuracy: 75.0.\u001b[32m [repeated 8x across cluster]\u001b[0m\n",
      "\u001b[2m\u001b[36m(ClientAppActor pid=1242551)\u001b[0m \u001b[32m [repeated 10x across cluster]\u001b[0m\n",
      "\u001b[2m\u001b[36m(ClientAppActor pid=1242551)\u001b[0m Epoch 69/100\u001b[32m [repeated 10x across cluster]\u001b[0m\n",
      "\u001b[2m\u001b[36m(ClientAppActor pid=1242551)\u001b[0m Epoch 68: Training accuracy: 86.29808044433594 Testing accuracy: 76.92308044433594.\u001b[32m [repeated 10x across cluster]\u001b[0m\n",
      "\u001b[2m\u001b[36m(ClientAppActor pid=1242551)\u001b[0m \u001b[32m [repeated 10x across cluster]\u001b[0m\n",
      "\u001b[2m\u001b[36m(ClientAppActor pid=1242551)\u001b[0m Epoch 79/100\u001b[32m [repeated 10x across cluster]\u001b[0m\n",
      "\u001b[2m\u001b[36m(ClientAppActor pid=1242551)\u001b[0m Epoch 78: Training accuracy: 85.57691955566406 Testing accuracy: 77.56410217285156.\u001b[32m [repeated 10x across cluster]\u001b[0m\n",
      "\u001b[2m\u001b[36m(ClientAppActor pid=1242551)\u001b[0m \u001b[32m [repeated 8x across cluster]\u001b[0m\n",
      "\u001b[2m\u001b[36m(ClientAppActor pid=1242551)\u001b[0m Epoch 87/100\u001b[32m [repeated 8x across cluster]\u001b[0m\n",
      "\u001b[2m\u001b[36m(ClientAppActor pid=1242551)\u001b[0m Epoch 86: Training accuracy: 85.65705108642578 Testing accuracy: 76.92308044433594.\u001b[32m [repeated 8x across cluster]\u001b[0m\n",
      "\u001b[2m\u001b[36m(ClientAppActor pid=1242551)\u001b[0m \u001b[32m [repeated 10x across cluster]\u001b[0m\n",
      "\u001b[2m\u001b[36m(ClientAppActor pid=1242551)\u001b[0m Epoch 97/100\u001b[32m [repeated 10x across cluster]\u001b[0m\n",
      "\u001b[2m\u001b[36m(ClientAppActor pid=1242551)\u001b[0m Epoch 96: Training accuracy: 85.57691955566406 Testing accuracy: 76.92308044433594.\u001b[32m [repeated 10x across cluster]\u001b[0m\n"
     ]
    },
    {
     "name": "stderr",
     "output_type": "stream",
     "text": [
      "\u001b[92mINFO \u001b[0m:      aggregate_fit: received 3 results and 0 failures\n",
      "\u001b[92mINFO \u001b[0m:      fit progress: (42, 0.048289271918210114, {'accuracy': tensor(71.6738, device='cuda:0')}, 2691.836235209994)\n",
      "\u001b[92mINFO \u001b[0m:      configure_evaluate: strategy sampled 1 clients (out of 3)\n"
     ]
    },
    {
     "name": "stdout",
     "output_type": "stream",
     "text": [
      "Server-side evaluation loss 0.048289271918210114 / accuracy 71.67382049560547\n"
     ]
    },
    {
     "name": "stderr",
     "output_type": "stream",
     "text": [
      "\u001b[92mINFO \u001b[0m:      aggregate_evaluate: received 1 results and 0 failures\n",
      "\u001b[92mINFO \u001b[0m:      \n",
      "\u001b[92mINFO \u001b[0m:      [ROUND 43]\n",
      "\u001b[92mINFO \u001b[0m:      configure_fit: strategy sampled 3 clients (out of 3)\n"
     ]
    },
    {
     "name": "stdout",
     "output_type": "stream",
     "text": [
      "\u001b[2m\u001b[36m(ClientAppActor pid=1242552)\u001b[0m \u001b[32m [repeated 13x across cluster]\u001b[0m\n",
      "\u001b[2m\u001b[36m(ClientAppActor pid=1242552)\u001b[0m Epoch 5/100\u001b[32m [repeated 13x across cluster]\u001b[0m\n",
      "\u001b[2m\u001b[36m(ClientAppActor pid=1242552)\u001b[0m Epoch 4: Training accuracy: 82.11077880859375 Testing accuracy: 73.65269470214844.\u001b[32m [repeated 12x across cluster]\u001b[0m\n",
      "\u001b[2m\u001b[36m(ClientAppActor pid=1242551)\u001b[0m \u001b[32m [repeated 16x across cluster]\u001b[0m\n",
      "\u001b[2m\u001b[36m(ClientAppActor pid=1242551)\u001b[0m Epoch 14/100\u001b[32m [repeated 16x across cluster]\u001b[0m\n",
      "\u001b[2m\u001b[36m(ClientAppActor pid=1242551)\u001b[0m Epoch 13: Training accuracy: 86.05769348144531 Testing accuracy: 78.84615325927734.\u001b[32m [repeated 16x across cluster]\u001b[0m\n",
      "\u001b[2m\u001b[36m(ClientAppActor pid=1242551)\u001b[0m \u001b[32m [repeated 23x across cluster]\u001b[0m\n",
      "\u001b[2m\u001b[36m(ClientAppActor pid=1242551)\u001b[0m Epoch 28/100\u001b[32m [repeated 23x across cluster]\u001b[0m\n",
      "\u001b[2m\u001b[36m(ClientAppActor pid=1242551)\u001b[0m Epoch 27: Training accuracy: 86.05769348144531 Testing accuracy: 76.92308044433594.\u001b[32m [repeated 23x across cluster]\u001b[0m\n",
      "\u001b[2m\u001b[36m(ClientAppActor pid=1242551)\u001b[0m \u001b[32m [repeated 30x across cluster]\u001b[0m\n",
      "\u001b[2m\u001b[36m(ClientAppActor pid=1242551)\u001b[0m Epoch 49/100\u001b[32m [repeated 30x across cluster]\u001b[0m\n",
      "\u001b[2m\u001b[36m(ClientAppActor pid=1242551)\u001b[0m Epoch 48: Training accuracy: 85.17628479003906 Testing accuracy: 75.64102935791016.\u001b[32m [repeated 30x across cluster]\u001b[0m\n",
      "\u001b[2m\u001b[36m(ClientAppActor pid=1242551)\u001b[0m \u001b[32m [repeated 114x across cluster]\u001b[0m\n",
      "\u001b[2m\u001b[36m(ClientAppActor pid=1242551)\u001b[0m Epoch 48/100\u001b[32m [repeated 114x across cluster]\u001b[0m\n",
      "\u001b[2m\u001b[36m(ClientAppActor pid=1242551)\u001b[0m Epoch 47: Training accuracy: 83.87574005126953 Testing accuracy: 71.5976333618164.\u001b[32m [repeated 114x across cluster]\u001b[0m\n",
      "\u001b[2m\u001b[36m(ClientAppActor pid=1242552)\u001b[0m \u001b[32m [repeated 67x across cluster]\u001b[0m\n",
      "\u001b[2m\u001b[36m(ClientAppActor pid=1242552)\u001b[0m Epoch 60/100\u001b[32m [repeated 67x across cluster]\u001b[0m\n",
      "\u001b[2m\u001b[36m(ClientAppActor pid=1242552)\u001b[0m Epoch 59: Training accuracy: 82.48503112792969 Testing accuracy: 76.6467056274414.\u001b[32m [repeated 68x across cluster]\u001b[0m\n",
      "\u001b[2m\u001b[36m(ClientAppActor pid=1242552)\u001b[0m \u001b[32m [repeated 13x across cluster]\u001b[0m\n",
      "\u001b[2m\u001b[36m(ClientAppActor pid=1242552)\u001b[0m Epoch 73/100\u001b[32m [repeated 13x across cluster]\u001b[0m\n",
      "\u001b[2m\u001b[36m(ClientAppActor pid=1242552)\u001b[0m Epoch 72: Training accuracy: 82.85928344726562 Testing accuracy: 76.6467056274414.\u001b[32m [repeated 13x across cluster]\u001b[0m\n",
      "\u001b[2m\u001b[36m(ClientAppActor pid=1242552)\u001b[0m \u001b[32m [repeated 19x across cluster]\u001b[0m\n",
      "\u001b[2m\u001b[36m(ClientAppActor pid=1242552)\u001b[0m Epoch 92/100\u001b[32m [repeated 19x across cluster]\u001b[0m\n",
      "\u001b[2m\u001b[36m(ClientAppActor pid=1242552)\u001b[0m Epoch 91: Training accuracy: 82.93413543701172 Testing accuracy: 76.6467056274414.\u001b[32m [repeated 19x across cluster]\u001b[0m\n",
      "\u001b[2m\u001b[36m(ClientAppActor pid=1242552)\u001b[0m \u001b[32m [repeated 8x across cluster]\u001b[0m\n",
      "\u001b[2m\u001b[36m(ClientAppActor pid=1242552)\u001b[0m Epoch 100/100\u001b[32m [repeated 8x across cluster]\u001b[0m\n",
      "\u001b[2m\u001b[36m(ClientAppActor pid=1242552)\u001b[0m Epoch 99: Training accuracy: 82.63472747802734 Testing accuracy: 77.84431457519531.\u001b[32m [repeated 8x across cluster]\u001b[0m\n"
     ]
    },
    {
     "name": "stderr",
     "output_type": "stream",
     "text": [
      "\u001b[92mINFO \u001b[0m:      aggregate_fit: received 3 results and 0 failures\n",
      "\u001b[92mINFO \u001b[0m:      fit progress: (43, 0.049385298382152214, {'accuracy': tensor(71.5308, device='cuda:0')}, 2737.381253225991)\n",
      "\u001b[92mINFO \u001b[0m:      configure_evaluate: strategy sampled 1 clients (out of 3)\n"
     ]
    },
    {
     "name": "stdout",
     "output_type": "stream",
     "text": [
      "Server-side evaluation loss 0.049385298382152214 / accuracy 71.53076171875\n"
     ]
    },
    {
     "name": "stderr",
     "output_type": "stream",
     "text": [
      "\u001b[92mINFO \u001b[0m:      aggregate_evaluate: received 1 results and 0 failures\n",
      "\u001b[92mINFO \u001b[0m:      \n",
      "\u001b[92mINFO \u001b[0m:      [ROUND 44]\n",
      "\u001b[92mINFO \u001b[0m:      configure_fit: strategy sampled 3 clients (out of 3)\n"
     ]
    },
    {
     "name": "stdout",
     "output_type": "stream",
     "text": [
      "\u001b[2m\u001b[36m(ClientAppActor pid=1242551)\u001b[0m \u001b[32m [repeated 13x across cluster]\u001b[0m\n",
      "\u001b[2m\u001b[36m(ClientAppActor pid=1242551)\u001b[0m Epoch 8/100\u001b[32m [repeated 13x across cluster]\u001b[0m\n",
      "\u001b[2m\u001b[36m(ClientAppActor pid=1242551)\u001b[0m Epoch 7: Training accuracy: 84.2147445678711 Testing accuracy: 75.0.\u001b[32m [repeated 12x across cluster]\u001b[0m\n",
      "\u001b[2m\u001b[36m(ClientAppActor pid=1242551)\u001b[0m \u001b[32m [repeated 17x across cluster]\u001b[0m\n",
      "\u001b[2m\u001b[36m(ClientAppActor pid=1242551)\u001b[0m Epoch 18/100\u001b[32m [repeated 17x across cluster]\u001b[0m\n",
      "\u001b[2m\u001b[36m(ClientAppActor pid=1242551)\u001b[0m Epoch 17: Training accuracy: 84.93589782714844 Testing accuracy: 78.84615325927734.\u001b[32m [repeated 17x across cluster]\u001b[0m\n",
      "\u001b[2m\u001b[36m(ClientAppActor pid=1242552)\u001b[0m \u001b[32m [repeated 15x across cluster]\u001b[0m\n",
      "\u001b[2m\u001b[36m(ClientAppActor pid=1242552)\u001b[0m Epoch 19/100\u001b[32m [repeated 15x across cluster]\u001b[0m\n",
      "\u001b[2m\u001b[36m(ClientAppActor pid=1242552)\u001b[0m Epoch 18: Training accuracy: 81.51197814941406 Testing accuracy: 76.04790496826172.\u001b[32m [repeated 15x across cluster]\u001b[0m\n",
      "\u001b[2m\u001b[36m(ClientAppActor pid=1242551)\u001b[0m \u001b[32m [repeated 16x across cluster]\u001b[0m\n",
      "\u001b[2m\u001b[36m(ClientAppActor pid=1242551)\u001b[0m Epoch 36/100\u001b[32m [repeated 16x across cluster]\u001b[0m\n",
      "\u001b[2m\u001b[36m(ClientAppActor pid=1242551)\u001b[0m Epoch 35: Training accuracy: 86.05769348144531 Testing accuracy: 76.92308044433594.\u001b[32m [repeated 16x across cluster]\u001b[0m\n",
      "\u001b[2m\u001b[36m(ClientAppActor pid=1242551)\u001b[0m \u001b[32m [repeated 16x across cluster]\u001b[0m\n",
      "\u001b[2m\u001b[36m(ClientAppActor pid=1242551)\u001b[0m Epoch 45/100\u001b[32m [repeated 16x across cluster]\u001b[0m\n",
      "\u001b[2m\u001b[36m(ClientAppActor pid=1242551)\u001b[0m Epoch 44: Training accuracy: 86.05769348144531 Testing accuracy: 76.92308044433594.\u001b[32m [repeated 16x across cluster]\u001b[0m\n",
      "\u001b[2m\u001b[36m(ClientAppActor pid=1242552)\u001b[0m \u001b[32m [repeated 15x across cluster]\u001b[0m\n",
      "\u001b[2m\u001b[36m(ClientAppActor pid=1242552)\u001b[0m Epoch 39/100\u001b[32m [repeated 15x across cluster]\u001b[0m\n",
      "\u001b[2m\u001b[36m(ClientAppActor pid=1242552)\u001b[0m Epoch 38: Training accuracy: 82.11077880859375 Testing accuracy: 76.6467056274414.\u001b[32m [repeated 15x across cluster]\u001b[0m\n",
      "\u001b[2m\u001b[36m(ClientAppActor pid=1242552)\u001b[0m \u001b[32m [repeated 21x across cluster]\u001b[0m\n",
      "\u001b[2m\u001b[36m(ClientAppActor pid=1242552)\u001b[0m Epoch 50/100\u001b[32m [repeated 21x across cluster]\u001b[0m\n",
      "\u001b[2m\u001b[36m(ClientAppActor pid=1242552)\u001b[0m Epoch 49: Training accuracy: 82.11077880859375 Testing accuracy: 78.443115234375.\u001b[32m [repeated 21x across cluster]\u001b[0m\n",
      "\u001b[2m\u001b[36m(ClientAppActor pid=1242552)\u001b[0m \u001b[32m [repeated 29x across cluster]\u001b[0m\n",
      "\u001b[2m\u001b[36m(ClientAppActor pid=1242552)\u001b[0m Epoch 66/100\u001b[32m [repeated 29x across cluster]\u001b[0m\n",
      "\u001b[2m\u001b[36m(ClientAppActor pid=1242552)\u001b[0m Epoch 65: Training accuracy: 82.78443145751953 Testing accuracy: 76.04790496826172.\u001b[32m [repeated 29x across cluster]\u001b[0m\n",
      "\u001b[2m\u001b[36m(ClientAppActor pid=1242552)\u001b[0m \u001b[32m [repeated 29x across cluster]\u001b[0m\n",
      "\u001b[2m\u001b[36m(ClientAppActor pid=1242552)\u001b[0m Epoch 82/100\u001b[32m [repeated 29x across cluster]\u001b[0m\n",
      "\u001b[2m\u001b[36m(ClientAppActor pid=1242552)\u001b[0m Epoch 81: Training accuracy: 83.23353576660156 Testing accuracy: 77.84431457519531.\u001b[32m [repeated 29x across cluster]\u001b[0m\n",
      "\u001b[2m\u001b[36m(ClientAppActor pid=1242551)\u001b[0m \u001b[32m [repeated 34x across cluster]\u001b[0m\n",
      "\u001b[2m\u001b[36m(ClientAppActor pid=1242551)\u001b[0m Epoch 5/100\u001b[32m [repeated 34x across cluster]\u001b[0m\n",
      "\u001b[2m\u001b[36m(ClientAppActor pid=1242551)\u001b[0m Epoch 4: Training accuracy: 83.80177307128906 Testing accuracy: 72.18934631347656.\u001b[32m [repeated 35x across cluster]\u001b[0m\n",
      "\u001b[2m\u001b[36m(ClientAppActor pid=1242551)\u001b[0m \u001b[32m [repeated 11x across cluster]\u001b[0m\n",
      "\u001b[2m\u001b[36m(ClientAppActor pid=1242551)\u001b[0m Epoch 16/100\u001b[32m [repeated 11x across cluster]\u001b[0m\n",
      "\u001b[2m\u001b[36m(ClientAppActor pid=1242551)\u001b[0m Epoch 15: Training accuracy: 84.39349365234375 Testing accuracy: 72.78106689453125.\u001b[32m [repeated 11x across cluster]\u001b[0m\n",
      "\u001b[2m\u001b[36m(ClientAppActor pid=1242551)\u001b[0m \u001b[32m [repeated 9x across cluster]\u001b[0m\n",
      "\u001b[2m\u001b[36m(ClientAppActor pid=1242551)\u001b[0m Epoch 25/100\u001b[32m [repeated 9x across cluster]\u001b[0m\n",
      "\u001b[2m\u001b[36m(ClientAppActor pid=1242551)\u001b[0m Epoch 24: Training accuracy: 83.87574005126953 Testing accuracy: 72.78106689453125.\u001b[32m [repeated 9x across cluster]\u001b[0m\n",
      "\u001b[2m\u001b[36m(ClientAppActor pid=1242551)\u001b[0m \u001b[32m [repeated 8x across cluster]\u001b[0m\n",
      "\u001b[2m\u001b[36m(ClientAppActor pid=1242551)\u001b[0m Epoch 33/100\u001b[32m [repeated 8x across cluster]\u001b[0m\n",
      "\u001b[2m\u001b[36m(ClientAppActor pid=1242551)\u001b[0m Epoch 32: Training accuracy: 83.43195343017578 Testing accuracy: 72.18934631347656.\u001b[32m [repeated 8x across cluster]\u001b[0m\n",
      "\u001b[2m\u001b[36m(ClientAppActor pid=1242551)\u001b[0m \u001b[32m [repeated 9x across cluster]\u001b[0m\n",
      "\u001b[2m\u001b[36m(ClientAppActor pid=1242551)\u001b[0m Epoch 42/100\u001b[32m [repeated 9x across cluster]\u001b[0m\n",
      "\u001b[2m\u001b[36m(ClientAppActor pid=1242551)\u001b[0m Epoch 41: Training accuracy: 83.65384674072266 Testing accuracy: 71.5976333618164.\u001b[32m [repeated 9x across cluster]\u001b[0m\n",
      "\u001b[2m\u001b[36m(ClientAppActor pid=1242551)\u001b[0m \u001b[32m [repeated 12x across cluster]\u001b[0m\n",
      "\u001b[2m\u001b[36m(ClientAppActor pid=1242551)\u001b[0m Epoch 54/100\u001b[32m [repeated 12x across cluster]\u001b[0m\n",
      "\u001b[2m\u001b[36m(ClientAppActor pid=1242551)\u001b[0m Epoch 53: Training accuracy: 83.87574005126953 Testing accuracy: 71.00592041015625.\u001b[32m [repeated 12x across cluster]\u001b[0m\n",
      "\u001b[2m\u001b[36m(ClientAppActor pid=1242551)\u001b[0m \u001b[32m [repeated 13x across cluster]\u001b[0m\n",
      "\u001b[2m\u001b[36m(ClientAppActor pid=1242551)\u001b[0m Epoch 67/100\u001b[32m [repeated 13x across cluster]\u001b[0m\n",
      "\u001b[2m\u001b[36m(ClientAppActor pid=1242551)\u001b[0m Epoch 66: Training accuracy: 83.94970703125 Testing accuracy: 73.3727798461914.\u001b[32m [repeated 13x across cluster]\u001b[0m\n",
      "\u001b[2m\u001b[36m(ClientAppActor pid=1242551)\u001b[0m \u001b[32m [repeated 13x across cluster]\u001b[0m\n",
      "\u001b[2m\u001b[36m(ClientAppActor pid=1242551)\u001b[0m Epoch 80/100\u001b[32m [repeated 13x across cluster]\u001b[0m\n",
      "\u001b[2m\u001b[36m(ClientAppActor pid=1242551)\u001b[0m Epoch 79: Training accuracy: 82.54438018798828 Testing accuracy: 69.8224868774414.\u001b[32m [repeated 13x across cluster]\u001b[0m\n",
      "\u001b[2m\u001b[36m(ClientAppActor pid=1242551)\u001b[0m \u001b[32m [repeated 10x across cluster]\u001b[0m\n",
      "\u001b[2m\u001b[36m(ClientAppActor pid=1242551)\u001b[0m Epoch 90/100\u001b[32m [repeated 10x across cluster]\u001b[0m\n",
      "\u001b[2m\u001b[36m(ClientAppActor pid=1242551)\u001b[0m Epoch 89: Training accuracy: 84.0976333618164 Testing accuracy: 72.78106689453125.\u001b[32m [repeated 10x across cluster]\u001b[0m\n"
     ]
    },
    {
     "name": "stderr",
     "output_type": "stream",
     "text": [
      "\u001b[92mINFO \u001b[0m:      aggregate_fit: received 3 results and 0 failures\n",
      "\u001b[92mINFO \u001b[0m:      fit progress: (44, 0.04860534451224587, {'accuracy': tensor(72.2461, device='cuda:0')}, 2832.7278843419917)\n",
      "\u001b[92mINFO \u001b[0m:      configure_evaluate: strategy sampled 1 clients (out of 3)\n",
      "\u001b[92mINFO \u001b[0m:      aggregate_evaluate: received 1 results and 0 failures\n",
      "\u001b[92mINFO \u001b[0m:      \n",
      "\u001b[92mINFO \u001b[0m:      [ROUND 45]\n",
      "\u001b[92mINFO \u001b[0m:      configure_fit: strategy sampled 3 clients (out of 3)\n"
     ]
    },
    {
     "name": "stdout",
     "output_type": "stream",
     "text": [
      "Server-side evaluation loss 0.04860534451224587 / accuracy 72.24606323242188\n",
      "\u001b[2m\u001b[36m(ClientAppActor pid=1242552)\u001b[0m \u001b[32m [repeated 125x across cluster]\u001b[0m\n",
      "\u001b[2m\u001b[36m(ClientAppActor pid=1242552)\u001b[0m Epoch 95/100\u001b[32m [repeated 125x across cluster]\u001b[0m\n",
      "\u001b[2m\u001b[36m(ClientAppActor pid=1242552)\u001b[0m Epoch 94: Training accuracy: 83.08383178710938 Testing accuracy: 76.6467056274414.\u001b[32m [repeated 124x across cluster]\u001b[0m\n",
      "\u001b[2m\u001b[36m(ClientAppActor pid=1242551)\u001b[0m \u001b[32m [repeated 136x across cluster]\u001b[0m\n",
      "\u001b[2m\u001b[36m(ClientAppActor pid=1242551)\u001b[0m Epoch 54/100\u001b[32m [repeated 136x across cluster]\u001b[0m\n",
      "\u001b[2m\u001b[36m(ClientAppActor pid=1242551)\u001b[0m Epoch 53: Training accuracy: 86.1378173828125 Testing accuracy: 76.92308044433594.\u001b[32m [repeated 136x across cluster]\u001b[0m\n",
      "\u001b[2m\u001b[36m(ClientAppActor pid=1242551)\u001b[0m \u001b[32m [repeated 42x across cluster]\u001b[0m\n",
      "\u001b[2m\u001b[36m(ClientAppActor pid=1242551)\u001b[0m Epoch 93/100\u001b[32m [repeated 42x across cluster]\u001b[0m\n",
      "\u001b[2m\u001b[36m(ClientAppActor pid=1242551)\u001b[0m Epoch 92: Training accuracy: 85.9775619506836 Testing accuracy: 75.64102935791016.\u001b[32m [repeated 43x across cluster]\u001b[0m\n"
     ]
    },
    {
     "name": "stderr",
     "output_type": "stream",
     "text": [
      "\u001b[92mINFO \u001b[0m:      aggregate_fit: received 3 results and 0 failures\n",
      "\u001b[92mINFO \u001b[0m:      fit progress: (45, 0.04886243018237027, {'accuracy': tensor(72.1030, device='cuda:0')}, 2850.07275490099)\n",
      "\u001b[92mINFO \u001b[0m:      configure_evaluate: strategy sampled 1 clients (out of 3)\n"
     ]
    },
    {
     "name": "stdout",
     "output_type": "stream",
     "text": [
      "Server-side evaluation loss 0.04886243018237027 / accuracy 72.1030044555664\n"
     ]
    },
    {
     "name": "stderr",
     "output_type": "stream",
     "text": [
      "\u001b[92mINFO \u001b[0m:      aggregate_evaluate: received 1 results and 0 failures\n",
      "\u001b[92mINFO \u001b[0m:      \n",
      "\u001b[92mINFO \u001b[0m:      [ROUND 46]\n",
      "\u001b[92mINFO \u001b[0m:      configure_fit: strategy sampled 3 clients (out of 3)\n"
     ]
    },
    {
     "name": "stdout",
     "output_type": "stream",
     "text": [
      "\u001b[2m\u001b[36m(ClientAppActor pid=1242552)\u001b[0m \u001b[32m [repeated 11x across cluster]\u001b[0m\n",
      "\u001b[2m\u001b[36m(ClientAppActor pid=1242552)\u001b[0m Epoch 2/100\u001b[32m [repeated 11x across cluster]\u001b[0m\n",
      "\u001b[2m\u001b[36m(ClientAppActor pid=1242552)\u001b[0m Epoch 1: Training accuracy: 83.72781372070312 Testing accuracy: 71.5976333618164.\u001b[32m [repeated 10x across cluster]\u001b[0m\n",
      "\u001b[2m\u001b[36m(ClientAppActor pid=1242552)\u001b[0m \u001b[32m [repeated 16x across cluster]\u001b[0m\n",
      "\u001b[2m\u001b[36m(ClientAppActor pid=1242552)\u001b[0m Epoch 9/100\u001b[32m [repeated 16x across cluster]\u001b[0m\n",
      "\u001b[2m\u001b[36m(ClientAppActor pid=1242552)\u001b[0m Epoch 8: Training accuracy: 83.43195343017578 Testing accuracy: 72.78106689453125.\u001b[32m [repeated 16x across cluster]\u001b[0m\n",
      "\u001b[2m\u001b[36m(ClientAppActor pid=1242552)\u001b[0m \u001b[32m [repeated 16x across cluster]\u001b[0m\n",
      "\u001b[2m\u001b[36m(ClientAppActor pid=1242552)\u001b[0m Epoch 15/100\u001b[32m [repeated 16x across cluster]\u001b[0m\n",
      "\u001b[2m\u001b[36m(ClientAppActor pid=1242552)\u001b[0m Epoch 14: Training accuracy: 83.65384674072266 Testing accuracy: 72.18934631347656.\u001b[32m [repeated 16x across cluster]\u001b[0m\n",
      "\u001b[2m\u001b[36m(ClientAppActor pid=1242552)\u001b[0m \u001b[32m [repeated 16x across cluster]\u001b[0m\n",
      "\u001b[2m\u001b[36m(ClientAppActor pid=1242552)\u001b[0m Epoch 22/100\u001b[32m [repeated 16x across cluster]\u001b[0m\n",
      "\u001b[2m\u001b[36m(ClientAppActor pid=1242552)\u001b[0m Epoch 21: Training accuracy: 84.24555969238281 Testing accuracy: 72.78106689453125.\u001b[32m [repeated 16x across cluster]\u001b[0m\n",
      "\u001b[2m\u001b[36m(ClientAppActor pid=1242551)\u001b[0m \u001b[32m [repeated 15x across cluster]\u001b[0m\n",
      "\u001b[2m\u001b[36m(ClientAppActor pid=1242551)\u001b[0m Epoch 40/100\u001b[32m [repeated 15x across cluster]\u001b[0m\n",
      "\u001b[2m\u001b[36m(ClientAppActor pid=1242551)\u001b[0m Epoch 39: Training accuracy: 86.1378173828125 Testing accuracy: 76.28205108642578.\u001b[32m [repeated 15x across cluster]\u001b[0m\n",
      "\u001b[2m\u001b[36m(ClientAppActor pid=1242551)\u001b[0m \u001b[32m [repeated 18x across cluster]\u001b[0m\n",
      "\u001b[2m\u001b[36m(ClientAppActor pid=1242551)\u001b[0m Epoch 51/100\u001b[32m [repeated 18x across cluster]\u001b[0m\n",
      "\u001b[2m\u001b[36m(ClientAppActor pid=1242551)\u001b[0m Epoch 50: Training accuracy: 85.9775619506836 Testing accuracy: 77.56410217285156.\u001b[32m [repeated 18x across cluster]\u001b[0m\n",
      "\u001b[2m\u001b[36m(ClientAppActor pid=1242551)\u001b[0m \u001b[32m [repeated 18x across cluster]\u001b[0m\n",
      "\u001b[2m\u001b[36m(ClientAppActor pid=1242551)\u001b[0m Epoch 63/100\u001b[32m [repeated 18x across cluster]\u001b[0m\n",
      "\u001b[2m\u001b[36m(ClientAppActor pid=1242551)\u001b[0m Epoch 62: Training accuracy: 85.7371826171875 Testing accuracy: 77.56410217285156.\u001b[32m [repeated 18x across cluster]\u001b[0m\n",
      "\u001b[2m\u001b[36m(ClientAppActor pid=1242551)\u001b[0m \u001b[32m [repeated 18x across cluster]\u001b[0m\n",
      "\u001b[2m\u001b[36m(ClientAppActor pid=1242551)\u001b[0m Epoch 75/100\u001b[32m [repeated 18x across cluster]\u001b[0m\n",
      "\u001b[2m\u001b[36m(ClientAppActor pid=1242551)\u001b[0m Epoch 74: Training accuracy: 85.7371826171875 Testing accuracy: 76.92308044433594.\u001b[32m [repeated 18x across cluster]\u001b[0m\n",
      "\u001b[2m\u001b[36m(ClientAppActor pid=1242552)\u001b[0m \u001b[32m [repeated 19x across cluster]\u001b[0m\n",
      "\u001b[2m\u001b[36m(ClientAppActor pid=1242552)\u001b[0m Epoch 53/100\u001b[32m [repeated 19x across cluster]\u001b[0m\n",
      "\u001b[2m\u001b[36m(ClientAppActor pid=1242552)\u001b[0m Epoch 52: Training accuracy: 83.57987976074219 Testing accuracy: 71.5976333618164.\u001b[32m [repeated 19x across cluster]\u001b[0m\n",
      "\u001b[2m\u001b[36m(ClientAppActor pid=1242551)\u001b[0m \u001b[32m [repeated 42x across cluster]\u001b[0m\n",
      "\u001b[2m\u001b[36m(ClientAppActor pid=1242551)\u001b[0m Epoch 22/100\u001b[32m [repeated 42x across cluster]\u001b[0m\n",
      "\u001b[2m\u001b[36m(ClientAppActor pid=1242551)\u001b[0m Epoch 21: Training accuracy: 82.26048278808594 Testing accuracy: 76.04790496826172.\u001b[32m [repeated 42x across cluster]\u001b[0m\n",
      "\u001b[2m\u001b[36m(ClientAppActor pid=1242552)\u001b[0m \u001b[32m [repeated 87x across cluster]\u001b[0m\n",
      "\u001b[2m\u001b[36m(ClientAppActor pid=1242552)\u001b[0m Epoch 69/100\u001b[32m [repeated 87x across cluster]\u001b[0m\n",
      "\u001b[2m\u001b[36m(ClientAppActor pid=1242552)\u001b[0m Epoch 68: Training accuracy: 84.24555969238281 Testing accuracy: 71.5976333618164.\u001b[32m [repeated 88x across cluster]\u001b[0m\n",
      "\u001b[2m\u001b[36m(ClientAppActor pid=1242552)\u001b[0m \u001b[32m [repeated 10x across cluster]\u001b[0m\n",
      "\u001b[2m\u001b[36m(ClientAppActor pid=1242552)\u001b[0m Epoch 79/100\u001b[32m [repeated 10x across cluster]\u001b[0m\n",
      "\u001b[2m\u001b[36m(ClientAppActor pid=1242552)\u001b[0m Epoch 78: Training accuracy: 84.46745300292969 Testing accuracy: 71.5976333618164.\u001b[32m [repeated 10x across cluster]\u001b[0m\n",
      "\u001b[2m\u001b[36m(ClientAppActor pid=1242552)\u001b[0m \u001b[32m [repeated 7x across cluster]\u001b[0m\n",
      "\u001b[2m\u001b[36m(ClientAppActor pid=1242552)\u001b[0m Epoch 86/100\u001b[32m [repeated 7x across cluster]\u001b[0m\n",
      "\u001b[2m\u001b[36m(ClientAppActor pid=1242552)\u001b[0m Epoch 85: Training accuracy: 84.02366638183594 Testing accuracy: 71.5976333618164.\u001b[32m [repeated 7x across cluster]\u001b[0m\n",
      "\u001b[2m\u001b[36m(ClientAppActor pid=1242552)\u001b[0m \u001b[32m [repeated 8x across cluster]\u001b[0m\n",
      "\u001b[2m\u001b[36m(ClientAppActor pid=1242552)\u001b[0m Epoch 94/100\u001b[32m [repeated 8x across cluster]\u001b[0m\n",
      "\u001b[2m\u001b[36m(ClientAppActor pid=1242552)\u001b[0m Epoch 93: Training accuracy: 84.39349365234375 Testing accuracy: 71.5976333618164.\u001b[32m [repeated 8x across cluster]\u001b[0m\n"
     ]
    },
    {
     "name": "stderr",
     "output_type": "stream",
     "text": [
      "\u001b[92mINFO \u001b[0m:      aggregate_fit: received 3 results and 0 failures\n",
      "\u001b[92mINFO \u001b[0m:      fit progress: (46, 0.04862935434688221, {'accuracy': tensor(72.2461, device='cuda:0')}, 2925.211632679988)\n",
      "\u001b[92mINFO \u001b[0m:      configure_evaluate: strategy sampled 1 clients (out of 3)\n"
     ]
    },
    {
     "name": "stdout",
     "output_type": "stream",
     "text": [
      "\u001b[2m\u001b[36m(ClientAppActor pid=1242552)\u001b[0m \u001b[32m [repeated 6x across cluster]\u001b[0m\n",
      "\u001b[2m\u001b[36m(ClientAppActor pid=1242552)\u001b[0m Epoch 100/100\u001b[32m [repeated 6x across cluster]\u001b[0m\n",
      "\u001b[2m\u001b[36m(ClientAppActor pid=1242552)\u001b[0m Epoch 100: Training accuracy: 84.39349365234375 Testing accuracy: 71.00592041015625.\u001b[32m [repeated 7x across cluster]\u001b[0m\n",
      "Server-side evaluation loss 0.04862935434688221 / accuracy 72.24606323242188\n"
     ]
    },
    {
     "name": "stderr",
     "output_type": "stream",
     "text": [
      "\u001b[92mINFO \u001b[0m:      aggregate_evaluate: received 1 results and 0 failures\n",
      "\u001b[92mINFO \u001b[0m:      \n",
      "\u001b[92mINFO \u001b[0m:      [ROUND 47]\n",
      "\u001b[92mINFO \u001b[0m:      configure_fit: strategy sampled 3 clients (out of 3)\n"
     ]
    },
    {
     "name": "stdout",
     "output_type": "stream",
     "text": [
      "\u001b[2m\u001b[36m(ClientAppActor pid=1242551)\u001b[0m \u001b[32m [repeated 29x across cluster]\u001b[0m\n",
      "\u001b[2m\u001b[36m(ClientAppActor pid=1242551)\u001b[0m Epoch 21/100\u001b[32m [repeated 29x across cluster]\u001b[0m\n",
      "\u001b[2m\u001b[36m(ClientAppActor pid=1242551)\u001b[0m Epoch 20: Training accuracy: 82.69230651855469 Testing accuracy: 71.5976333618164.\u001b[32m [repeated 27x across cluster]\u001b[0m\n",
      "\u001b[2m\u001b[36m(ClientAppActor pid=1242551)\u001b[0m \u001b[32m [repeated 31x across cluster]\u001b[0m\n",
      "\u001b[2m\u001b[36m(ClientAppActor pid=1242551)\u001b[0m Epoch 44/100\u001b[32m [repeated 31x across cluster]\u001b[0m\n",
      "\u001b[2m\u001b[36m(ClientAppActor pid=1242551)\u001b[0m Epoch 43: Training accuracy: 84.54141998291016 Testing accuracy: 72.18934631347656.\u001b[32m [repeated 31x across cluster]\u001b[0m\n",
      "\u001b[2m\u001b[36m(ClientAppActor pid=1242551)\u001b[0m \u001b[32m [repeated 30x across cluster]\u001b[0m\n",
      "\u001b[2m\u001b[36m(ClientAppActor pid=1242551)\u001b[0m Epoch 65/100\u001b[32m [repeated 30x across cluster]\u001b[0m\n",
      "\u001b[2m\u001b[36m(ClientAppActor pid=1242551)\u001b[0m Epoch 64: Training accuracy: 80.76923370361328 Testing accuracy: 69.23076629638672.\u001b[32m [repeated 30x across cluster]\u001b[0m\n",
      "\u001b[2m\u001b[36m(ClientAppActor pid=1242551)\u001b[0m \u001b[32m [repeated 27x across cluster]\u001b[0m\n",
      "\u001b[2m\u001b[36m(ClientAppActor pid=1242551)\u001b[0m Epoch 84/100\u001b[32m [repeated 27x across cluster]\u001b[0m\n",
      "\u001b[2m\u001b[36m(ClientAppActor pid=1242551)\u001b[0m Epoch 83: Training accuracy: 84.54141998291016 Testing accuracy: 71.5976333618164.\u001b[32m [repeated 27x across cluster]\u001b[0m\n",
      "\u001b[2m\u001b[36m(ClientAppActor pid=1242551)\u001b[0m \u001b[32m [repeated 87x across cluster]\u001b[0m\n",
      "\u001b[2m\u001b[36m(ClientAppActor pid=1242551)\u001b[0m Epoch 32/100\u001b[32m [repeated 87x across cluster]\u001b[0m\n",
      "\u001b[2m\u001b[36m(ClientAppActor pid=1242551)\u001b[0m Epoch 31: Training accuracy: 85.9775619506836 Testing accuracy: 77.56410217285156.\u001b[32m [repeated 87x across cluster]\u001b[0m\n",
      "\u001b[2m\u001b[36m(ClientAppActor pid=1242551)\u001b[0m \u001b[32m [repeated 56x across cluster]\u001b[0m\n",
      "\u001b[2m\u001b[36m(ClientAppActor pid=1242551)\u001b[0m Epoch 60/100\u001b[32m [repeated 56x across cluster]\u001b[0m\n",
      "\u001b[2m\u001b[36m(ClientAppActor pid=1242551)\u001b[0m Epoch 59: Training accuracy: 86.1378173828125 Testing accuracy: 78.20513153076172.\u001b[32m [repeated 57x across cluster]\u001b[0m\n",
      "\u001b[2m\u001b[36m(ClientAppActor pid=1242551)\u001b[0m \u001b[32m [repeated 17x across cluster]\u001b[0m\n",
      "\u001b[2m\u001b[36m(ClientAppActor pid=1242551)\u001b[0m Epoch 77/100\u001b[32m [repeated 17x across cluster]\u001b[0m\n",
      "\u001b[2m\u001b[36m(ClientAppActor pid=1242551)\u001b[0m Epoch 76: Training accuracy: 86.05769348144531 Testing accuracy: 76.92308044433594.\u001b[32m [repeated 17x across cluster]\u001b[0m\n",
      "\u001b[2m\u001b[36m(ClientAppActor pid=1242551)\u001b[0m \u001b[32m [repeated 15x across cluster]\u001b[0m\n",
      "\u001b[2m\u001b[36m(ClientAppActor pid=1242551)\u001b[0m Epoch 92/100\u001b[32m [repeated 15x across cluster]\u001b[0m\n",
      "\u001b[2m\u001b[36m(ClientAppActor pid=1242551)\u001b[0m Epoch 91: Training accuracy: 85.81730651855469 Testing accuracy: 76.92308044433594.\u001b[32m [repeated 15x across cluster]\u001b[0m\n",
      "\u001b[2m\u001b[36m(ClientAppActor pid=1242551)\u001b[0m \u001b[32m [repeated 8x across cluster]\u001b[0m\n",
      "\u001b[2m\u001b[36m(ClientAppActor pid=1242551)\u001b[0m Epoch 100/100\u001b[32m [repeated 8x across cluster]\u001b[0m\n",
      "\u001b[2m\u001b[36m(ClientAppActor pid=1242551)\u001b[0m Epoch 99: Training accuracy: 85.41666412353516 Testing accuracy: 75.64102935791016.\u001b[32m [repeated 8x across cluster]\u001b[0m\n"
     ]
    },
    {
     "name": "stderr",
     "output_type": "stream",
     "text": [
      "\u001b[92mINFO \u001b[0m:      aggregate_fit: received 3 results and 0 failures\n",
      "\u001b[92mINFO \u001b[0m:      fit progress: (47, 0.04874465682289817, {'accuracy': tensor(72.3891, device='cuda:0')}, 2972.3462658819917)\n",
      "\u001b[92mINFO \u001b[0m:      configure_evaluate: strategy sampled 1 clients (out of 3)\n"
     ]
    },
    {
     "name": "stdout",
     "output_type": "stream",
     "text": [
      "Server-side evaluation loss 0.04874465682289817 / accuracy 72.38912963867188\n"
     ]
    },
    {
     "name": "stderr",
     "output_type": "stream",
     "text": [
      "\u001b[92mINFO \u001b[0m:      aggregate_evaluate: received 1 results and 0 failures\n",
      "\u001b[92mINFO \u001b[0m:      \n",
      "\u001b[92mINFO \u001b[0m:      [ROUND 48]\n",
      "\u001b[92mINFO \u001b[0m:      configure_fit: strategy sampled 3 clients (out of 3)\n"
     ]
    },
    {
     "name": "stdout",
     "output_type": "stream",
     "text": [
      "\u001b[2m\u001b[36m(ClientAppActor pid=1242551)\u001b[0m \u001b[32m [repeated 15x across cluster]\u001b[0m\n",
      "\u001b[2m\u001b[36m(ClientAppActor pid=1242551)\u001b[0m Epoch 9/100\u001b[32m [repeated 15x across cluster]\u001b[0m\n",
      "\u001b[2m\u001b[36m(ClientAppActor pid=1242551)\u001b[0m Epoch 8: Training accuracy: 80.98802185058594 Testing accuracy: 74.85029602050781.\u001b[32m [repeated 14x across cluster]\u001b[0m\n",
      "\u001b[2m\u001b[36m(ClientAppActor pid=1242551)\u001b[0m \u001b[32m [repeated 16x across cluster]\u001b[0m\n",
      "\u001b[2m\u001b[36m(ClientAppActor pid=1242551)\u001b[0m Epoch 19/100\u001b[32m [repeated 16x across cluster]\u001b[0m\n",
      "\u001b[2m\u001b[36m(ClientAppActor pid=1242551)\u001b[0m Epoch 18: Training accuracy: 80.91316986083984 Testing accuracy: 77.2455062866211.\u001b[32m [repeated 16x across cluster]\u001b[0m\n",
      "\u001b[2m\u001b[36m(ClientAppActor pid=1242551)\u001b[0m \u001b[32m [repeated 17x across cluster]\u001b[0m\n",
      "\u001b[2m\u001b[36m(ClientAppActor pid=1242551)\u001b[0m Epoch 27/100\u001b[32m [repeated 17x across cluster]\u001b[0m\n",
      "\u001b[2m\u001b[36m(ClientAppActor pid=1242551)\u001b[0m Epoch 26: Training accuracy: 82.11077880859375 Testing accuracy: 77.2455062866211.\u001b[32m [repeated 17x across cluster]\u001b[0m\n",
      "\u001b[2m\u001b[36m(ClientAppActor pid=1242552)\u001b[0m \u001b[32m [repeated 17x across cluster]\u001b[0m\n",
      "\u001b[2m\u001b[36m(ClientAppActor pid=1242552)\u001b[0m Epoch 30/100\u001b[32m [repeated 17x across cluster]\u001b[0m\n",
      "\u001b[2m\u001b[36m(ClientAppActor pid=1242552)\u001b[0m Epoch 29: Training accuracy: 84.31952667236328 Testing accuracy: 71.5976333618164.\u001b[32m [repeated 17x across cluster]\u001b[0m\n",
      "\u001b[2m\u001b[36m(ClientAppActor pid=1242551)\u001b[0m \u001b[32m [repeated 17x across cluster]\u001b[0m\n",
      "\u001b[2m\u001b[36m(ClientAppActor pid=1242551)\u001b[0m Epoch 45/100\u001b[32m [repeated 17x across cluster]\u001b[0m\n",
      "\u001b[2m\u001b[36m(ClientAppActor pid=1242551)\u001b[0m Epoch 44: Training accuracy: 81.58683013916016 Testing accuracy: 77.2455062866211.\u001b[32m [repeated 17x across cluster]\u001b[0m\n",
      "\u001b[2m\u001b[36m(ClientAppActor pid=1242552)\u001b[0m \u001b[32m [repeated 16x across cluster]\u001b[0m\n",
      "\u001b[2m\u001b[36m(ClientAppActor pid=1242552)\u001b[0m Epoch 46/100\u001b[32m [repeated 16x across cluster]\u001b[0m\n",
      "\u001b[2m\u001b[36m(ClientAppActor pid=1242552)\u001b[0m Epoch 45: Training accuracy: 84.31952667236328 Testing accuracy: 71.00592041015625.\u001b[32m [repeated 16x across cluster]\u001b[0m\n",
      "\u001b[2m\u001b[36m(ClientAppActor pid=1242552)\u001b[0m \u001b[32m [repeated 22x across cluster]\u001b[0m\n",
      "\u001b[2m\u001b[36m(ClientAppActor pid=1242552)\u001b[0m Epoch 54/100\u001b[32m [repeated 22x across cluster]\u001b[0m\n",
      "\u001b[2m\u001b[36m(ClientAppActor pid=1242552)\u001b[0m Epoch 53: Training accuracy: 84.46745300292969 Testing accuracy: 71.5976333618164.\u001b[32m [repeated 22x across cluster]\u001b[0m\n",
      "\u001b[2m\u001b[36m(ClientAppActor pid=1242551)\u001b[0m \u001b[32m [repeated 23x across cluster]\u001b[0m\n",
      "\u001b[2m\u001b[36m(ClientAppActor pid=1242551)\u001b[0m Epoch 82/100\u001b[32m [repeated 23x across cluster]\u001b[0m\n",
      "\u001b[2m\u001b[36m(ClientAppActor pid=1242551)\u001b[0m Epoch 81: Training accuracy: 80.76347351074219 Testing accuracy: 76.6467056274414.\u001b[32m [repeated 23x across cluster]\u001b[0m\n",
      "\u001b[2m\u001b[36m(ClientAppActor pid=1242551)\u001b[0m \u001b[32m [repeated 21x across cluster]\u001b[0m\n",
      "\u001b[2m\u001b[36m(ClientAppActor pid=1242551)\u001b[0m Epoch 94/100\u001b[32m [repeated 21x across cluster]\u001b[0m\n",
      "\u001b[2m\u001b[36m(ClientAppActor pid=1242551)\u001b[0m Epoch 93: Training accuracy: 82.48503112792969 Testing accuracy: 75.44910430908203.\u001b[32m [repeated 21x across cluster]\u001b[0m\n",
      "\u001b[2m\u001b[36m(ClientAppActor pid=1242551)\u001b[0m \u001b[32m [repeated 27x across cluster]\u001b[0m\n",
      "\u001b[2m\u001b[36m(ClientAppActor pid=1242551)\u001b[0m Epoch 12/100\u001b[32m [repeated 27x across cluster]\u001b[0m\n",
      "\u001b[2m\u001b[36m(ClientAppActor pid=1242551)\u001b[0m Epoch 11: Training accuracy: 85.49679565429688 Testing accuracy: 76.92308044433594.\u001b[32m [repeated 27x across cluster]\u001b[0m\n",
      "\u001b[2m\u001b[36m(ClientAppActor pid=1242551)\u001b[0m \u001b[32m [repeated 42x across cluster]\u001b[0m\n",
      "\u001b[2m\u001b[36m(ClientAppActor pid=1242551)\u001b[0m Epoch 39/100\u001b[32m [repeated 42x across cluster]\u001b[0m\n",
      "\u001b[2m\u001b[36m(ClientAppActor pid=1242551)\u001b[0m Epoch 38: Training accuracy: 85.9775619506836 Testing accuracy: 76.28205108642578.\u001b[32m [repeated 42x across cluster]\u001b[0m\n",
      "\u001b[2m\u001b[36m(ClientAppActor pid=1242551)\u001b[0m \u001b[32m [repeated 43x across cluster]\u001b[0m\n",
      "\u001b[2m\u001b[36m(ClientAppActor pid=1242551)\u001b[0m Epoch 76/100\u001b[32m [repeated 43x across cluster]\u001b[0m\n",
      "\u001b[2m\u001b[36m(ClientAppActor pid=1242551)\u001b[0m Epoch 75: Training accuracy: 86.21794891357422 Testing accuracy: 76.92308044433594.\u001b[32m [repeated 44x across cluster]\u001b[0m\n",
      "\u001b[2m\u001b[36m(ClientAppActor pid=1242551)\u001b[0m \u001b[32m [repeated 11x across cluster]\u001b[0m\n",
      "\u001b[2m\u001b[36m(ClientAppActor pid=1242551)\u001b[0m Epoch 87/100\u001b[32m [repeated 11x across cluster]\u001b[0m\n",
      "\u001b[2m\u001b[36m(ClientAppActor pid=1242551)\u001b[0m Epoch 86: Training accuracy: 86.1378173828125 Testing accuracy: 76.92308044433594.\u001b[32m [repeated 11x across cluster]\u001b[0m\n",
      "\u001b[2m\u001b[36m(ClientAppActor pid=1242551)\u001b[0m \u001b[32m [repeated 13x across cluster]\u001b[0m\n",
      "\u001b[2m\u001b[36m(ClientAppActor pid=1242551)\u001b[0m Epoch 100/100\u001b[32m [repeated 13x across cluster]\u001b[0m\n",
      "\u001b[2m\u001b[36m(ClientAppActor pid=1242551)\u001b[0m Epoch 99: Training accuracy: 86.05769348144531 Testing accuracy: 76.28205108642578.\u001b[32m [repeated 13x across cluster]\u001b[0m\n"
     ]
    },
    {
     "name": "stderr",
     "output_type": "stream",
     "text": [
      "\u001b[92mINFO \u001b[0m:      aggregate_fit: received 3 results and 0 failures\n",
      "\u001b[92mINFO \u001b[0m:      fit progress: (48, 0.04834606430747292, {'accuracy': tensor(72.2461, device='cuda:0')}, 3045.7581732219987)\n",
      "\u001b[92mINFO \u001b[0m:      configure_evaluate: strategy sampled 1 clients (out of 3)\n"
     ]
    },
    {
     "name": "stdout",
     "output_type": "stream",
     "text": [
      "Server-side evaluation loss 0.04834606430747292 / accuracy 72.24606323242188\n"
     ]
    },
    {
     "name": "stderr",
     "output_type": "stream",
     "text": [
      "\u001b[92mINFO \u001b[0m:      aggregate_evaluate: received 1 results and 0 failures\n",
      "\u001b[92mINFO \u001b[0m:      \n",
      "\u001b[92mINFO \u001b[0m:      [ROUND 49]\n",
      "\u001b[92mINFO \u001b[0m:      configure_fit: strategy sampled 3 clients (out of 3)\n"
     ]
    },
    {
     "name": "stdout",
     "output_type": "stream",
     "text": [
      "\u001b[2m\u001b[36m(ClientAppActor pid=1242551)\u001b[0m \u001b[32m [repeated 20x across cluster]\u001b[0m\n",
      "\u001b[2m\u001b[36m(ClientAppActor pid=1242551)\u001b[0m Epoch 11/100\u001b[32m [repeated 20x across cluster]\u001b[0m\n",
      "\u001b[2m\u001b[36m(ClientAppActor pid=1242551)\u001b[0m Epoch 10: Training accuracy: 84.0976333618164 Testing accuracy: 71.5976333618164.\u001b[32m [repeated 19x across cluster]\u001b[0m\n",
      "\u001b[2m\u001b[36m(ClientAppActor pid=1242551)\u001b[0m \u001b[32m [repeated 26x across cluster]\u001b[0m\n",
      "\u001b[2m\u001b[36m(ClientAppActor pid=1242551)\u001b[0m Epoch 24/100\u001b[32m [repeated 26x across cluster]\u001b[0m\n",
      "\u001b[2m\u001b[36m(ClientAppActor pid=1242551)\u001b[0m Epoch 23: Training accuracy: 84.46745300292969 Testing accuracy: 71.5976333618164.\u001b[32m [repeated 26x across cluster]\u001b[0m\n",
      "\u001b[2m\u001b[36m(ClientAppActor pid=1242551)\u001b[0m \u001b[32m [repeated 35x across cluster]\u001b[0m\n",
      "\u001b[2m\u001b[36m(ClientAppActor pid=1242551)\u001b[0m Epoch 47/100\u001b[32m [repeated 35x across cluster]\u001b[0m\n",
      "\u001b[2m\u001b[36m(ClientAppActor pid=1242551)\u001b[0m Epoch 46: Training accuracy: 84.39349365234375 Testing accuracy: 71.5976333618164.\u001b[32m [repeated 35x across cluster]\u001b[0m\n",
      "\u001b[2m\u001b[36m(ClientAppActor pid=1242551)\u001b[0m \u001b[32m [repeated 38x across cluster]\u001b[0m\n",
      "\u001b[2m\u001b[36m(ClientAppActor pid=1242551)\u001b[0m Epoch 70/100\u001b[32m [repeated 38x across cluster]\u001b[0m\n",
      "\u001b[2m\u001b[36m(ClientAppActor pid=1242551)\u001b[0m Epoch 69: Training accuracy: 83.80177307128906 Testing accuracy: 71.5976333618164.\u001b[32m [repeated 38x across cluster]\u001b[0m\n",
      "\u001b[2m\u001b[36m(ClientAppActor pid=1242551)\u001b[0m \u001b[32m [repeated 32x across cluster]\u001b[0m\n",
      "\u001b[2m\u001b[36m(ClientAppActor pid=1242551)\u001b[0m Epoch 86/100\u001b[32m [repeated 32x across cluster]\u001b[0m\n",
      "\u001b[2m\u001b[36m(ClientAppActor pid=1242551)\u001b[0m Epoch 85: Training accuracy: 82.98816680908203 Testing accuracy: 69.23076629638672.\u001b[32m [repeated 32x across cluster]\u001b[0m\n",
      "\u001b[2m\u001b[36m(ClientAppActor pid=1242552)\u001b[0m \u001b[32m [repeated 16x across cluster]\u001b[0m\n",
      "\u001b[2m\u001b[36m(ClientAppActor pid=1242552)\u001b[0m Epoch 73/100\u001b[32m [repeated 16x across cluster]\u001b[0m\n",
      "\u001b[2m\u001b[36m(ClientAppActor pid=1242552)\u001b[0m Epoch 72: Training accuracy: 85.57691955566406 Testing accuracy: 76.28205108642578.\u001b[32m [repeated 16x across cluster]\u001b[0m\n",
      "\u001b[2m\u001b[36m(ClientAppActor pid=1242551)\u001b[0m \u001b[32m [repeated 20x across cluster]\u001b[0m\n",
      "\u001b[2m\u001b[36m(ClientAppActor pid=1242551)\u001b[0m Epoch 4/100\u001b[32m [repeated 20x across cluster]\u001b[0m\n",
      "\u001b[2m\u001b[36m(ClientAppActor pid=1242551)\u001b[0m Epoch 3: Training accuracy: 81.66167449951172 Testing accuracy: 76.04790496826172.\u001b[32m [repeated 20x across cluster]\u001b[0m\n",
      "\u001b[2m\u001b[36m(ClientAppActor pid=1242551)\u001b[0m \u001b[32m [repeated 23x across cluster]\u001b[0m\n",
      "\u001b[2m\u001b[36m(ClientAppActor pid=1242551)\u001b[0m Epoch 17/100\u001b[32m [repeated 23x across cluster]\u001b[0m\n",
      "\u001b[2m\u001b[36m(ClientAppActor pid=1242551)\u001b[0m Epoch 16: Training accuracy: 81.88623046875 Testing accuracy: 76.04790496826172.\u001b[32m [repeated 23x across cluster]\u001b[0m\n",
      "\u001b[2m\u001b[36m(ClientAppActor pid=1242551)\u001b[0m \u001b[32m [repeated 24x across cluster]\u001b[0m\n",
      "\u001b[2m\u001b[36m(ClientAppActor pid=1242551)\u001b[0m Epoch 34/100\u001b[32m [repeated 24x across cluster]\u001b[0m\n",
      "\u001b[2m\u001b[36m(ClientAppActor pid=1242551)\u001b[0m Epoch 33: Training accuracy: 82.85928344726562 Testing accuracy: 74.85029602050781.\u001b[32m [repeated 25x across cluster]\u001b[0m\n",
      "\u001b[2m\u001b[36m(ClientAppActor pid=1242551)\u001b[0m \u001b[32m [repeated 17x across cluster]\u001b[0m\n",
      "\u001b[2m\u001b[36m(ClientAppActor pid=1242551)\u001b[0m Epoch 51/100\u001b[32m [repeated 17x across cluster]\u001b[0m\n",
      "\u001b[2m\u001b[36m(ClientAppActor pid=1242551)\u001b[0m Epoch 50: Training accuracy: 82.48503112792969 Testing accuracy: 75.44910430908203.\u001b[32m [repeated 17x across cluster]\u001b[0m\n",
      "\u001b[2m\u001b[36m(ClientAppActor pid=1242551)\u001b[0m \u001b[32m [repeated 8x across cluster]\u001b[0m\n",
      "\u001b[2m\u001b[36m(ClientAppActor pid=1242551)\u001b[0m Epoch 59/100\u001b[32m [repeated 8x across cluster]\u001b[0m\n",
      "\u001b[2m\u001b[36m(ClientAppActor pid=1242551)\u001b[0m Epoch 58: Training accuracy: 82.78443145751953 Testing accuracy: 75.44910430908203.\u001b[32m [repeated 8x across cluster]\u001b[0m\n",
      "\u001b[2m\u001b[36m(ClientAppActor pid=1242551)\u001b[0m \u001b[32m [repeated 10x across cluster]\u001b[0m\n",
      "\u001b[2m\u001b[36m(ClientAppActor pid=1242551)\u001b[0m Epoch 69/100\u001b[32m [repeated 10x across cluster]\u001b[0m\n",
      "\u001b[2m\u001b[36m(ClientAppActor pid=1242551)\u001b[0m Epoch 68: Training accuracy: 82.26048278808594 Testing accuracy: 76.04790496826172.\u001b[32m [repeated 10x across cluster]\u001b[0m\n",
      "\u001b[2m\u001b[36m(ClientAppActor pid=1242551)\u001b[0m \u001b[32m [repeated 8x across cluster]\u001b[0m\n",
      "\u001b[2m\u001b[36m(ClientAppActor pid=1242551)\u001b[0m Epoch 77/100\u001b[32m [repeated 8x across cluster]\u001b[0m\n",
      "\u001b[2m\u001b[36m(ClientAppActor pid=1242551)\u001b[0m Epoch 76: Training accuracy: 82.4101791381836 Testing accuracy: 74.25149536132812.\u001b[32m [repeated 8x across cluster]\u001b[0m\n",
      "\u001b[2m\u001b[36m(ClientAppActor pid=1242551)\u001b[0m \u001b[32m [repeated 9x across cluster]\u001b[0m\n",
      "\u001b[2m\u001b[36m(ClientAppActor pid=1242551)\u001b[0m Epoch 86/100\u001b[32m [repeated 9x across cluster]\u001b[0m\n",
      "\u001b[2m\u001b[36m(ClientAppActor pid=1242551)\u001b[0m Epoch 85: Training accuracy: 82.4101791381836 Testing accuracy: 77.84431457519531.\u001b[32m [repeated 9x across cluster]\u001b[0m\n",
      "\u001b[2m\u001b[36m(ClientAppActor pid=1242551)\u001b[0m \u001b[32m [repeated 12x across cluster]\u001b[0m\n",
      "\u001b[2m\u001b[36m(ClientAppActor pid=1242551)\u001b[0m Epoch 98/100\u001b[32m [repeated 12x across cluster]\u001b[0m\n",
      "\u001b[2m\u001b[36m(ClientAppActor pid=1242551)\u001b[0m Epoch 97: Training accuracy: 82.78443145751953 Testing accuracy: 76.04790496826172.\u001b[32m [repeated 12x across cluster]\u001b[0m\n"
     ]
    },
    {
     "name": "stderr",
     "output_type": "stream",
     "text": [
      "\u001b[92mINFO \u001b[0m:      aggregate_fit: received 3 results and 0 failures\n",
      "\u001b[92mINFO \u001b[0m:      fit progress: (49, 0.0484420277855613, {'accuracy': tensor(71.9599, device='cuda:0')}, 3125.164246176995)\n",
      "\u001b[92mINFO \u001b[0m:      configure_evaluate: strategy sampled 1 clients (out of 3)\n"
     ]
    },
    {
     "name": "stdout",
     "output_type": "stream",
     "text": [
      "Server-side evaluation loss 0.0484420277855613 / accuracy 71.95994567871094\n"
     ]
    },
    {
     "name": "stderr",
     "output_type": "stream",
     "text": [
      "\u001b[92mINFO \u001b[0m:      aggregate_evaluate: received 1 results and 0 failures\n",
      "\u001b[92mINFO \u001b[0m:      \n",
      "\u001b[92mINFO \u001b[0m:      [ROUND 50]\n",
      "\u001b[92mINFO \u001b[0m:      configure_fit: strategy sampled 3 clients (out of 3)\n"
     ]
    },
    {
     "name": "stdout",
     "output_type": "stream",
     "text": [
      "\u001b[2m\u001b[36m(ClientAppActor pid=1242551)\u001b[0m \u001b[32m [repeated 16x across cluster]\u001b[0m\n",
      "\u001b[2m\u001b[36m(ClientAppActor pid=1242551)\u001b[0m Epoch 9/100\u001b[32m [repeated 16x across cluster]\u001b[0m\n",
      "\u001b[2m\u001b[36m(ClientAppActor pid=1242551)\u001b[0m Epoch 8: Training accuracy: 82.55988311767578 Testing accuracy: 75.44910430908203.\u001b[32m [repeated 15x across cluster]\u001b[0m\n",
      "\u001b[2m\u001b[36m(ClientAppActor pid=1242552)\u001b[0m \u001b[32m [repeated 23x across cluster]\u001b[0m\n",
      "\u001b[2m\u001b[36m(ClientAppActor pid=1242552)\u001b[0m Epoch 11/100\u001b[32m [repeated 23x across cluster]\u001b[0m\n",
      "\u001b[2m\u001b[36m(ClientAppActor pid=1242552)\u001b[0m Epoch 10: Training accuracy: 84.31952667236328 Testing accuracy: 71.5976333618164.\u001b[32m [repeated 23x across cluster]\u001b[0m\n",
      "\u001b[2m\u001b[36m(ClientAppActor pid=1242551)\u001b[0m \u001b[32m [repeated 27x across cluster]\u001b[0m\n",
      "\u001b[2m\u001b[36m(ClientAppActor pid=1242551)\u001b[0m Epoch 47/100\u001b[32m [repeated 27x across cluster]\u001b[0m\n",
      "\u001b[2m\u001b[36m(ClientAppActor pid=1242551)\u001b[0m Epoch 46: Training accuracy: 82.63472747802734 Testing accuracy: 74.25149536132812.\u001b[32m [repeated 27x across cluster]\u001b[0m\n",
      "\u001b[2m\u001b[36m(ClientAppActor pid=1242551)\u001b[0m \u001b[32m [repeated 26x across cluster]\u001b[0m\n",
      "\u001b[2m\u001b[36m(ClientAppActor pid=1242551)\u001b[0m Epoch 67/100\u001b[32m [repeated 26x across cluster]\u001b[0m\n",
      "\u001b[2m\u001b[36m(ClientAppActor pid=1242551)\u001b[0m Epoch 66: Training accuracy: 82.26048278808594 Testing accuracy: 76.04790496826172.\u001b[32m [repeated 26x across cluster]\u001b[0m\n",
      "\u001b[2m\u001b[36m(ClientAppActor pid=1242551)\u001b[0m \u001b[32m [repeated 56x across cluster]\u001b[0m\n",
      "\u001b[2m\u001b[36m(ClientAppActor pid=1242551)\u001b[0m Epoch 16/100\u001b[32m [repeated 56x across cluster]\u001b[0m\n",
      "\u001b[2m\u001b[36m(ClientAppActor pid=1242551)\u001b[0m Epoch 15: Training accuracy: 85.81730651855469 Testing accuracy: 76.92308044433594.\u001b[32m [repeated 56x across cluster]\u001b[0m\n",
      "\u001b[2m\u001b[36m(ClientAppActor pid=1242552)\u001b[0m \u001b[32m [repeated 92x across cluster]\u001b[0m\n",
      "\u001b[2m\u001b[36m(ClientAppActor pid=1242552)\u001b[0m Epoch 38/100\u001b[32m [repeated 92x across cluster]\u001b[0m\n",
      "\u001b[2m\u001b[36m(ClientAppActor pid=1242552)\u001b[0m Epoch 37: Training accuracy: 84.24555969238281 Testing accuracy: 72.18934631347656.\u001b[32m [repeated 93x across cluster]\u001b[0m\n",
      "\u001b[2m\u001b[36m(ClientAppActor pid=1242552)\u001b[0m \u001b[32m [repeated 10x across cluster]\u001b[0m\n",
      "\u001b[2m\u001b[36m(ClientAppActor pid=1242552)\u001b[0m Epoch 48/100\u001b[32m [repeated 10x across cluster]\u001b[0m\n",
      "\u001b[2m\u001b[36m(ClientAppActor pid=1242552)\u001b[0m Epoch 47: Training accuracy: 83.80177307128906 Testing accuracy: 71.00592041015625.\u001b[32m [repeated 10x across cluster]\u001b[0m\n",
      "\u001b[2m\u001b[36m(ClientAppActor pid=1242552)\u001b[0m \u001b[32m [repeated 10x across cluster]\u001b[0m\n",
      "\u001b[2m\u001b[36m(ClientAppActor pid=1242552)\u001b[0m Epoch 58/100\u001b[32m [repeated 10x across cluster]\u001b[0m\n",
      "\u001b[2m\u001b[36m(ClientAppActor pid=1242552)\u001b[0m Epoch 57: Training accuracy: 84.39349365234375 Testing accuracy: 72.18934631347656.\u001b[32m [repeated 10x across cluster]\u001b[0m\n",
      "\u001b[2m\u001b[36m(ClientAppActor pid=1242552)\u001b[0m \u001b[32m [repeated 6x across cluster]\u001b[0m\n",
      "\u001b[2m\u001b[36m(ClientAppActor pid=1242552)\u001b[0m Epoch 64/100\u001b[32m [repeated 6x across cluster]\u001b[0m\n",
      "\u001b[2m\u001b[36m(ClientAppActor pid=1242552)\u001b[0m Epoch 63: Training accuracy: 83.65384674072266 Testing accuracy: 72.18934631347656.\u001b[32m [repeated 6x across cluster]\u001b[0m\n",
      "\u001b[2m\u001b[36m(ClientAppActor pid=1242552)\u001b[0m \u001b[32m [repeated 9x across cluster]\u001b[0m\n",
      "\u001b[2m\u001b[36m(ClientAppActor pid=1242552)\u001b[0m Epoch 73/100\u001b[32m [repeated 9x across cluster]\u001b[0m\n",
      "\u001b[2m\u001b[36m(ClientAppActor pid=1242552)\u001b[0m Epoch 72: Training accuracy: 83.50592041015625 Testing accuracy: 71.5976333618164.\u001b[32m [repeated 9x across cluster]\u001b[0m\n",
      "\u001b[2m\u001b[36m(ClientAppActor pid=1242552)\u001b[0m \u001b[32m [repeated 9x across cluster]\u001b[0m\n",
      "\u001b[2m\u001b[36m(ClientAppActor pid=1242552)\u001b[0m Epoch 82/100\u001b[32m [repeated 9x across cluster]\u001b[0m\n",
      "\u001b[2m\u001b[36m(ClientAppActor pid=1242552)\u001b[0m Epoch 81: Training accuracy: 84.02366638183594 Testing accuracy: 72.18934631347656.\u001b[32m [repeated 9x across cluster]\u001b[0m\n",
      "\u001b[2m\u001b[36m(ClientAppActor pid=1242552)\u001b[0m \u001b[32m [repeated 11x across cluster]\u001b[0m\n",
      "\u001b[2m\u001b[36m(ClientAppActor pid=1242552)\u001b[0m Epoch 93/100\u001b[32m [repeated 11x across cluster]\u001b[0m\n",
      "\u001b[2m\u001b[36m(ClientAppActor pid=1242552)\u001b[0m Epoch 92: Training accuracy: 84.31952667236328 Testing accuracy: 71.5976333618164.\u001b[32m [repeated 11x across cluster]\u001b[0m\n"
     ]
    },
    {
     "name": "stderr",
     "output_type": "stream",
     "text": [
      "\u001b[92mINFO \u001b[0m:      aggregate_fit: received 3 results and 0 failures\n",
      "\u001b[92mINFO \u001b[0m:      fit progress: (50, 0.047400843013416634, {'accuracy': tensor(72.2461, device='cuda:0')}, 3191.0369379959884)\n",
      "\u001b[92mINFO \u001b[0m:      configure_evaluate: strategy sampled 1 clients (out of 3)\n"
     ]
    },
    {
     "name": "stdout",
     "output_type": "stream",
     "text": [
      "Server-side evaluation loss 0.047400843013416634 / accuracy 72.24606323242188\n"
     ]
    },
    {
     "name": "stderr",
     "output_type": "stream",
     "text": [
      "\u001b[92mINFO \u001b[0m:      aggregate_evaluate: received 1 results and 0 failures\n",
      "\u001b[92mINFO \u001b[0m:      \n",
      "\u001b[92mINFO \u001b[0m:      [SUMMARY]\n",
      "\u001b[92mINFO \u001b[0m:      Run finished 50 rounds in 3191.31s\n",
      "\u001b[92mINFO \u001b[0m:      History (loss, distributed):\n",
      "\u001b[92mINFO \u001b[0m:      \t('\\tround 1: 0.23253335555394491\\n'\n",
      "\u001b[92mINFO \u001b[0m:      \t '\\tround 2: 0.2130018671353658\\n'\n",
      "\u001b[92mINFO \u001b[0m:      \t '\\tround 3: 0.20327516396840414\\n'\n",
      "\u001b[92mINFO \u001b[0m:      \t '\\tround 4: 0.19145588080088297\\n'\n",
      "\u001b[92mINFO \u001b[0m:      \t '\\tround 5: 0.1872619390487671\\n'\n",
      "\u001b[92mINFO \u001b[0m:      \t '\\tround 6: 0.1852680246035258\\n'\n",
      "\u001b[92mINFO \u001b[0m:      \t '\\tround 7: 0.19125870863596597\\n'\n",
      "\u001b[92mINFO \u001b[0m:      \t '\\tround 8: 0.22083733479181925\\n'\n",
      "\u001b[92mINFO \u001b[0m:      \t '\\tround 9: 0.22017119328180948\\n'\n",
      "\u001b[92mINFO \u001b[0m:      \t '\\tround 10: 0.19606451193491617\\n'\n",
      "\u001b[92mINFO \u001b[0m:      \t '\\tround 11: 0.22417028745015463\\n'\n",
      "\u001b[92mINFO \u001b[0m:      \t '\\tround 12: 0.218579630057017\\n'\n",
      "\u001b[92mINFO \u001b[0m:      \t '\\tround 13: 0.20146761337916055\\n'\n",
      "\u001b[92mINFO \u001b[0m:      \t '\\tround 14: 0.20112252235412598\\n'\n",
      "\u001b[92mINFO \u001b[0m:      \t '\\tround 15: 0.19787639379501343\\n'\n",
      "\u001b[92mINFO \u001b[0m:      \t '\\tround 16: 0.1793907086054484\\n'\n",
      "\u001b[92mINFO \u001b[0m:      \t '\\tround 17: 0.2447782357533773\\n'\n",
      "\u001b[92mINFO \u001b[0m:      \t '\\tround 18: 0.2070784568786621\\n'\n",
      "\u001b[92mINFO \u001b[0m:      \t '\\tround 19: 0.18369102478027344\\n'\n",
      "\u001b[92mINFO \u001b[0m:      \t '\\tround 20: 0.20285123586654663\\n'\n",
      "\u001b[92mINFO \u001b[0m:      \t '\\tround 21: 0.1784497300783793\\n'\n",
      "\u001b[92mINFO \u001b[0m:      \t '\\tround 22: 0.18930826584498087\\n'\n",
      "\u001b[92mINFO \u001b[0m:      \t '\\tround 23: 0.22068236271540323\\n'\n",
      "\u001b[92mINFO \u001b[0m:      \t '\\tround 24: 0.1957449714342753\\n'\n",
      "\u001b[92mINFO \u001b[0m:      \t '\\tround 25: 0.2290083964665731\\n'\n",
      "\u001b[92mINFO \u001b[0m:      \t '\\tround 26: 0.2197525898615519\\n'\n",
      "\u001b[92mINFO \u001b[0m:      \t '\\tround 27: 0.1923003395398458\\n'\n",
      "\u001b[92mINFO \u001b[0m:      \t '\\tround 28: 0.22274031241734824\\n'\n",
      "\u001b[92mINFO \u001b[0m:      \t '\\tround 29: 0.17635669310887656\\n'\n",
      "\u001b[92mINFO \u001b[0m:      \t '\\tround 30: 0.1696390708287557\\n'\n",
      "\u001b[92mINFO \u001b[0m:      \t '\\tround 31: 0.19080831607182822\\n'\n",
      "\u001b[92mINFO \u001b[0m:      \t '\\tround 32: 0.2159414291381836\\n'\n",
      "\u001b[92mINFO \u001b[0m:      \t '\\tround 33: 0.21028188864390054\\n'\n",
      "\u001b[92mINFO \u001b[0m:      \t '\\tround 34: 0.1794967254002889\\n'\n",
      "\u001b[92mINFO \u001b[0m:      \t '\\tround 35: 0.2176904877026876\\n'\n",
      "\u001b[92mINFO \u001b[0m:      \t '\\tround 36: 0.22681756814320883\\n'\n",
      "\u001b[92mINFO \u001b[0m:      \t '\\tround 37: 0.18928790092468262\\n'\n",
      "\u001b[92mINFO \u001b[0m:      \t '\\tround 38: 0.22009676694869995\\n'\n",
      "\u001b[92mINFO \u001b[0m:      \t '\\tround 39: 0.19077646732330322\\n'\n",
      "\u001b[92mINFO \u001b[0m:      \t '\\tround 40: 0.17781265576680502\\n'\n",
      "\u001b[92mINFO \u001b[0m:      \t '\\tround 41: 0.18318297465642294\\n'\n",
      "\u001b[92mINFO \u001b[0m:      \t '\\tround 42: 0.1713139216105143\\n'\n",
      "\u001b[92mINFO \u001b[0m:      \t '\\tround 43: 0.22669929265975952\\n'\n",
      "\u001b[92mINFO \u001b[0m:      \t '\\tround 44: 0.18624581893285116\\n'\n",
      "\u001b[92mINFO \u001b[0m:      \t '\\tround 45: 0.2111716071764628\\n'\n",
      "\u001b[92mINFO \u001b[0m:      \t '\\tround 46: 0.1743184725443522\\n'\n",
      "\u001b[92mINFO \u001b[0m:      \t '\\tround 47: 0.18546676635742188\\n'\n",
      "\u001b[92mINFO \u001b[0m:      \t '\\tround 48: 0.17262128988901773\\n'\n",
      "\u001b[92mINFO \u001b[0m:      \t '\\tround 49: 0.18971902132034302\\n'\n",
      "\u001b[92mINFO \u001b[0m:      \t '\\tround 50: 0.19275718927383423\\n')History (loss, centralized):\n",
      "\u001b[92mINFO \u001b[0m:      \t('\\tround 0: 0.07022364031184804\\n'\n",
      "\u001b[92mINFO \u001b[0m:      \t '\\tround 1: 0.06291168928146362\\n'\n",
      "\u001b[92mINFO \u001b[0m:      \t '\\tround 2: 0.05747946825894443\\n'\n",
      "\u001b[92mINFO \u001b[0m:      \t '\\tround 3: 0.05793445760553533\\n'\n",
      "\u001b[92mINFO \u001b[0m:      \t '\\tround 4: 0.055276979099620475\\n'\n",
      "\u001b[92mINFO \u001b[0m:      \t '\\tround 5: 0.05437457019632513\\n'\n",
      "\u001b[92mINFO \u001b[0m:      \t '\\tround 6: 0.05401570688594471\\n'\n",
      "\u001b[92mINFO \u001b[0m:      \t '\\tround 7: 0.054223244840448555\\n'\n",
      "\u001b[92mINFO \u001b[0m:      \t '\\tround 8: 0.05367442152716897\\n'\n",
      "\u001b[92mINFO \u001b[0m:      \t '\\tround 9: 0.052951157093048096\\n'\n",
      "\u001b[92mINFO \u001b[0m:      \t '\\tround 10: 0.05247203328392722\\n'\n",
      "\u001b[92mINFO \u001b[0m:      \t '\\tround 11: 0.054149844429709694\\n'\n",
      "\u001b[92mINFO \u001b[0m:      \t '\\tround 12: 0.05300327864560214\\n'\n",
      "\u001b[92mINFO \u001b[0m:      \t '\\tround 13: 0.05440027605403553\\n'\n",
      "\u001b[92mINFO \u001b[0m:      \t '\\tround 14: 0.053941309452056885\\n'\n",
      "\u001b[92mINFO \u001b[0m:      \t '\\tround 15: 0.051986401731317695\\n'\n",
      "\u001b[92mINFO \u001b[0m:      \t '\\tround 16: 0.052389004013755104\\n'\n",
      "\u001b[92mINFO \u001b[0m:      \t '\\tround 17: 0.05416814847425981\\n'\n",
      "\u001b[92mINFO \u001b[0m:      \t '\\tround 18: 0.05274857716126875\\n'\n",
      "\u001b[92mINFO \u001b[0m:      \t '\\tround 19: 0.05412959510629827\\n'\n",
      "\u001b[92mINFO \u001b[0m:      \t '\\tround 20: 0.05330281907861883\\n'\n",
      "\u001b[92mINFO \u001b[0m:      \t '\\tround 21: 0.05415578321977095\\n'\n",
      "\u001b[92mINFO \u001b[0m:      \t '\\tround 22: 0.053253011270002884\\n'\n",
      "\u001b[92mINFO \u001b[0m:      \t '\\tround 23: 0.05257383801720359\\n'\n",
      "\u001b[92mINFO \u001b[0m:      \t '\\tround 24: 0.054000388492237435\\n'\n",
      "\u001b[92mINFO \u001b[0m:      \t '\\tround 25: 0.05460675738074563\\n'\n",
      "\u001b[92mINFO \u001b[0m:      \t '\\tround 26: 0.0526570894501426\\n'\n",
      "\u001b[92mINFO \u001b[0m:      \t '\\tround 27: 0.05020384355024858\\n'\n",
      "\u001b[92mINFO \u001b[0m:      \t '\\tround 28: 0.05101730606772683\\n'\n",
      "\u001b[92mINFO \u001b[0m:      \t '\\tround 29: 0.05352159521796487\\n'\n",
      "\u001b[92mINFO \u001b[0m:      \t '\\tround 30: 0.052272677421569824\\n'\n",
      "\u001b[92mINFO \u001b[0m:      \t '\\tround 31: 0.05141448974609375\\n'\n",
      "\u001b[92mINFO \u001b[0m:      \t '\\tround 32: 0.051577427170493385\\n'\n",
      "\u001b[92mINFO \u001b[0m:      \t '\\tround 33: 0.05053623156114058\\n'\n",
      "\u001b[92mINFO \u001b[0m:      \t '\\tround 34: 0.051748167384754525\\n'\n",
      "\u001b[92mINFO \u001b[0m:      \t '\\tround 35: 0.05063487724824385\\n'\n",
      "\u001b[92mINFO \u001b[0m:      \t '\\tround 36: 0.04930047013542869\\n'\n",
      "\u001b[92mINFO \u001b[0m:      \t '\\tround 37: 0.049484561790119515\\n'\n",
      "\u001b[92mINFO \u001b[0m:      \t '\\tround 38: 0.04964228651740334\\n'\n",
      "\u001b[92mINFO \u001b[0m:      \t '\\tround 39: 0.050209630619395866\\n'\n",
      "\u001b[92mINFO \u001b[0m:      \t '\\tround 40: 0.04961390386928211\\n'\n",
      "\u001b[92mINFO \u001b[0m:      \t '\\tround 41: 0.04982220042835583\\n'\n",
      "\u001b[92mINFO \u001b[0m:      \t '\\tround 42: 0.048289271918210114\\n'\n",
      "\u001b[92mINFO \u001b[0m:      \t '\\tround 43: 0.049385298382152214\\n'\n",
      "\u001b[92mINFO \u001b[0m:      \t '\\tround 44: 0.04860534451224587\\n'\n",
      "\u001b[92mINFO \u001b[0m:      \t '\\tround 45: 0.04886243018237027\\n'\n",
      "\u001b[92mINFO \u001b[0m:      \t '\\tround 46: 0.04862935434688221\\n'\n",
      "\u001b[92mINFO \u001b[0m:      \t '\\tround 47: 0.04874465682289817\\n'\n",
      "\u001b[92mINFO \u001b[0m:      \t '\\tround 48: 0.04834606430747292\\n'\n",
      "\u001b[92mINFO \u001b[0m:      \t '\\tround 49: 0.0484420277855613\\n'\n",
      "\u001b[92mINFO \u001b[0m:      \t '\\tround 50: 0.047400843013416634\\n')History (metrics, distributed, evaluate):\n",
      "\u001b[92mINFO \u001b[0m:      \t{'accuracy': [(1, 44.230770111083984),\n",
      "\u001b[92mINFO \u001b[0m:      \t              (2, 58.68263626098633),\n",
      "\u001b[92mINFO \u001b[0m:      \t              (3, 64.67066192626953),\n",
      "\u001b[92mINFO \u001b[0m:      \t              (4, 73.07691955566406),\n",
      "\u001b[92mINFO \u001b[0m:      \t              (5, 73.71794891357422),\n",
      "\u001b[92mINFO \u001b[0m:      \t              (6, 75.64102935791016),\n",
      "\u001b[92mINFO \u001b[0m:      \t              (7, 66.4670639038086),\n",
      "\u001b[92mINFO \u001b[0m:      \t              (8, 68.0473403930664),\n",
      "\u001b[92mINFO \u001b[0m:      \t              (9, 67.45561981201172),\n",
      "\u001b[92mINFO \u001b[0m:      \t              (10, 71.25748443603516),\n",
      "\u001b[92mINFO \u001b[0m:      \t              (11, 65.8682632446289),\n",
      "\u001b[92mINFO \u001b[0m:      \t              (12, 73.07691955566406),\n",
      "\u001b[92mINFO \u001b[0m:      \t              (13, 68.0473403930664),\n",
      "\u001b[92mINFO \u001b[0m:      \t              (14, 74.35897064208984),\n",
      "\u001b[92mINFO \u001b[0m:      \t              (15, 67.6646728515625),\n",
      "\u001b[92mINFO \u001b[0m:      \t              (16, 74.35897064208984),\n",
      "\u001b[92mINFO \u001b[0m:      \t              (17, 62.87425231933594),\n",
      "\u001b[92mINFO \u001b[0m:      \t              (18, 67.6646728515625),\n",
      "\u001b[92mINFO \u001b[0m:      \t              (19, 74.35897064208984),\n",
      "\u001b[92mINFO \u001b[0m:      \t              (20, 73.07691955566406),\n",
      "\u001b[92mINFO \u001b[0m:      \t              (21, 71.15384674072266),\n",
      "\u001b[92mINFO \u001b[0m:      \t              (22, 75.0),\n",
      "\u001b[92mINFO \u001b[0m:      \t              (23, 63.473052978515625),\n",
      "\u001b[92mINFO \u001b[0m:      \t              (24, 64.07185363769531),\n",
      "\u001b[92mINFO \u001b[0m:      \t              (25, 62.87425231933594),\n",
      "\u001b[92mINFO \u001b[0m:      \t              (26, 65.8682632446289),\n",
      "\u001b[92mINFO \u001b[0m:      \t              (27, 76.28205108642578),\n",
      "\u001b[92mINFO \u001b[0m:      \t              (28, 68.86227416992188),\n",
      "\u001b[92mINFO \u001b[0m:      \t              (29, 73.07691955566406),\n",
      "\u001b[92mINFO \u001b[0m:      \t              (30, 73.07691955566406),\n",
      "\u001b[92mINFO \u001b[0m:      \t              (31, 65.8682632446289),\n",
      "\u001b[92mINFO \u001b[0m:      \t              (32, 65.8682632446289),\n",
      "\u001b[92mINFO \u001b[0m:      \t              (33, 70.41419982910156),\n",
      "\u001b[92mINFO \u001b[0m:      \t              (34, 71.00592041015625),\n",
      "\u001b[92mINFO \u001b[0m:      \t              (35, 71.00592041015625),\n",
      "\u001b[92mINFO \u001b[0m:      \t              (36, 69.46107482910156),\n",
      "\u001b[92mINFO \u001b[0m:      \t              (37, 71.00592041015625),\n",
      "\u001b[92mINFO \u001b[0m:      \t              (38, 66.4670639038086),\n",
      "\u001b[92mINFO \u001b[0m:      \t              (39, 72.43589782714844),\n",
      "\u001b[92mINFO \u001b[0m:      \t              (40, 71.00592041015625),\n",
      "\u001b[92mINFO \u001b[0m:      \t              (41, 71.00592041015625),\n",
      "\u001b[92mINFO \u001b[0m:      \t              (42, 73.07691955566406),\n",
      "\u001b[92mINFO \u001b[0m:      \t              (43, 65.8682632446289),\n",
      "\u001b[92mINFO \u001b[0m:      \t              (44, 75.0),\n",
      "\u001b[92mINFO \u001b[0m:      \t              (45, 66.4670639038086),\n",
      "\u001b[92mINFO \u001b[0m:      \t              (46, 76.28205108642578),\n",
      "\u001b[92mINFO \u001b[0m:      \t              (47, 71.5976333618164),\n",
      "\u001b[92mINFO \u001b[0m:      \t              (48, 75.0),\n",
      "\u001b[92mINFO \u001b[0m:      \t              (49, 70.41419982910156),\n",
      "\u001b[92mINFO \u001b[0m:      \t              (50, 68.26347351074219)]}History (metrics, centralized):\n",
      "\u001b[92mINFO \u001b[0m:      \t{'accuracy': [(0, tensor(48.4979, device='cuda:0')),\n",
      "\u001b[92mINFO \u001b[0m:      \t              (1, tensor(48.4979, device='cuda:0')),\n",
      "\u001b[92mINFO \u001b[0m:      \t              (2, tensor(66.3805, device='cuda:0')),\n",
      "\u001b[92mINFO \u001b[0m:      \t              (3, tensor(67.0958, device='cuda:0')),\n",
      "\u001b[92mINFO \u001b[0m:      \t              (4, tensor(67.6681, device='cuda:0')),\n",
      "\u001b[92mINFO \u001b[0m:      \t              (5, tensor(67.9542, device='cuda:0')),\n",
      "\u001b[92mINFO \u001b[0m:      \t              (6, tensor(67.3820, device='cuda:0')),\n",
      "\u001b[92mINFO \u001b[0m:      \t              (7, tensor(68.9557, device='cuda:0')),\n",
      "\u001b[92mINFO \u001b[0m:      \t              (8, tensor(68.8126, device='cuda:0')),\n",
      "\u001b[92mINFO \u001b[0m:      \t              (9, tensor(69.2418, device='cuda:0')),\n",
      "\u001b[92mINFO \u001b[0m:      \t              (10, tensor(69.3848, device='cuda:0')),\n",
      "\u001b[92mINFO \u001b[0m:      \t              (11, tensor(69.8140, device='cuda:0')),\n",
      "\u001b[92mINFO \u001b[0m:      \t              (12, tensor(69.5279, device='cuda:0')),\n",
      "\u001b[92mINFO \u001b[0m:      \t              (13, tensor(70.1001, device='cuda:0')),\n",
      "\u001b[92mINFO \u001b[0m:      \t              (14, tensor(70.3863, device='cuda:0')),\n",
      "\u001b[92mINFO \u001b[0m:      \t              (15, tensor(70.1001, device='cuda:0')),\n",
      "\u001b[92mINFO \u001b[0m:      \t              (16, tensor(69.9571, device='cuda:0')),\n",
      "\u001b[92mINFO \u001b[0m:      \t              (17, tensor(69.2418, device='cuda:0')),\n",
      "\u001b[92mINFO \u001b[0m:      \t              (18, tensor(70.9585, device='cuda:0')),\n",
      "\u001b[92mINFO \u001b[0m:      \t              (19, tensor(69.9571, device='cuda:0')),\n",
      "\u001b[92mINFO \u001b[0m:      \t              (20, tensor(70.2432, device='cuda:0')),\n",
      "\u001b[92mINFO \u001b[0m:      \t              (21, tensor(69.3848, device='cuda:0')),\n",
      "\u001b[92mINFO \u001b[0m:      \t              (22, tensor(70.3863, device='cuda:0')),\n",
      "\u001b[92mINFO \u001b[0m:      \t              (23, tensor(70.1001, device='cuda:0')),\n",
      "\u001b[92mINFO \u001b[0m:      \t              (24, tensor(69.5279, device='cuda:0')),\n",
      "\u001b[92mINFO \u001b[0m:      \t              (25, tensor(69.5279, device='cuda:0')),\n",
      "\u001b[92mINFO \u001b[0m:      \t              (26, tensor(69.9571, device='cuda:0')),\n",
      "\u001b[92mINFO \u001b[0m:      \t              (27, tensor(71.2446, device='cuda:0')),\n",
      "\u001b[92mINFO \u001b[0m:      \t              (28, tensor(71.1016, device='cuda:0')),\n",
      "\u001b[92mINFO \u001b[0m:      \t              (29, tensor(69.8140, device='cuda:0')),\n",
      "\u001b[92mINFO \u001b[0m:      \t              (30, tensor(69.9571, device='cuda:0')),\n",
      "\u001b[92mINFO \u001b[0m:      \t              (31, tensor(70.2432, device='cuda:0')),\n",
      "\u001b[92mINFO \u001b[0m:      \t              (32, tensor(70.8155, device='cuda:0')),\n",
      "\u001b[92mINFO \u001b[0m:      \t              (33, tensor(71.2446, device='cuda:0')),\n",
      "\u001b[92mINFO \u001b[0m:      \t              (34, tensor(70.1001, device='cuda:0')),\n",
      "\u001b[92mINFO \u001b[0m:      \t              (35, tensor(71.1016, device='cuda:0')),\n",
      "\u001b[92mINFO \u001b[0m:      \t              (36, tensor(71.2446, device='cuda:0')),\n",
      "\u001b[92mINFO \u001b[0m:      \t              (37, tensor(71.5308, device='cuda:0')),\n",
      "\u001b[92mINFO \u001b[0m:      \t              (38, tensor(71.3877, device='cuda:0')),\n",
      "\u001b[92mINFO \u001b[0m:      \t              (39, tensor(70.8155, device='cuda:0')),\n",
      "\u001b[92mINFO \u001b[0m:      \t              (40, tensor(71.2446, device='cuda:0')),\n",
      "\u001b[92mINFO \u001b[0m:      \t              (41, tensor(71.3877, device='cuda:0')),\n",
      "\u001b[92mINFO \u001b[0m:      \t              (42, tensor(71.6738, device='cuda:0')),\n",
      "\u001b[92mINFO \u001b[0m:      \t              (43, tensor(71.5308, device='cuda:0')),\n",
      "\u001b[92mINFO \u001b[0m:      \t              (44, tensor(72.2461, device='cuda:0')),\n",
      "\u001b[92mINFO \u001b[0m:      \t              (45, tensor(72.1030, device='cuda:0')),\n",
      "\u001b[92mINFO \u001b[0m:      \t              (46, tensor(72.2461, device='cuda:0')),\n",
      "\u001b[92mINFO \u001b[0m:      \t              (47, tensor(72.3891, device='cuda:0')),\n",
      "\u001b[92mINFO \u001b[0m:      \t              (48, tensor(72.2461, device='cuda:0')),\n",
      "\u001b[92mINFO \u001b[0m:      \t              (49, tensor(71.9599, device='cuda:0')),\n",
      "\u001b[92mINFO \u001b[0m:      \t              (50, tensor(72.2461, device='cuda:0'))]}\n",
      "\u001b[92mINFO \u001b[0m:      \n"
     ]
    }
   ],
   "source": [
    "# client will be allocated 1x CPU and 0x GPUs\n",
    "if device.type == 'cuda':\n",
    "    # here we are assigning an entire GPU for each client.\n",
    "    client_resources = {\"num_cpus\": 1, \"num_gpus\": 1.0}\n",
    "    # Refer to our documentation for more details about Flower Simulations\n",
    "    # and how to setup these `client_resources`.\n",
    "    \n",
    "# The `evaluate` function will be called by Flower after every round\n",
    "fl_acc = []\n",
    "def evaluate(server_round,parameters,config):\n",
    "    testloader = azure_test_loader\n",
    "    set_parameters(net_FL, parameters)  # Update model with the latest parameters\n",
    "    loss, accuracy = test(net_FL, testloader, configuration)\n",
    "    print(f\"Server-side evaluation loss {loss} / accuracy {accuracy}\")\n",
    "    fl_acc.append(accuracy)\n",
    "    metrics = {'FL loss': loss,\n",
    "               \"FL accuracy\": accuracy}\n",
    "    wandb.log(metrics)\n",
    "    return loss, {\"accuracy\": accuracy}\n",
    "\n",
    "def weighted_average(metrics):\n",
    "    # Multiply accuracy of each client by number of examples used\n",
    "    accuracies = [num_examples * m[\"accuracy\"] for num_examples, m in metrics]\n",
    "    examples = [num_examples for num_examples, _ in metrics]\n",
    "\n",
    "    # Aggregate and return custom metric (weighted average)\n",
    "    return {\"accuracy\": sum(accuracies) / sum(examples)}\n",
    "params = get_parameters(net_FL)\n",
    "strategy = fl.server.strategy.FedAvg(\n",
    "    fraction_fit=1,\n",
    "    fraction_evaluate=0.5,\n",
    "    min_fit_clients=2,\n",
    "    min_evaluate_clients=1,\n",
    "    min_available_clients=1,\n",
    "    evaluate_fn=evaluate,\n",
    "    initial_parameters= ndarrays_to_parameters(params),\n",
    "    evaluate_metrics_aggregation_fn=weighted_average # <-- pass the metric aggregation function\n",
    ")\n",
    "# Start simulation\n",
    "history = fl.simulation.start_simulation(\n",
    "    client_fn=client_fn,\n",
    "    num_clients=3,\n",
    "    config=fl.server.ServerConfig(num_rounds=configuration['num_rounds_FL']),\n",
    "    strategy=strategy,\n",
    "    client_resources=client_resources,\n",
    ")"
   ]
  },
  {
   "cell_type": "code",
   "execution_count": 15,
   "metadata": {},
   "outputs": [
    {
     "data": {
      "text/plain": [
       "Text(0.5, 0, 'Rounds')"
      ]
     },
     "execution_count": 15,
     "metadata": {},
     "output_type": "execute_result"
    },
    {
     "data": {
      "image/png": "[encoded data removed]",
      "text/plain": [
       "<Figure size 640x480 with 1 Axes>"
      ]
     },
     "metadata": {},
     "output_type": "display_data"
    }
   ],
   "source": [
    "fl_acc\n",
    "f = []\n",
    "for i in fl_acc:\n",
    "    f.append(float(i))\n",
    "plt.plot(f)\n",
    "plt.title('Federated Learning test accuracies')\n",
    "plt.ylabel('Accuracies')\n",
    "plt.xlabel('Rounds')"
   ]
  },
  {
   "cell_type": "code",
   "execution_count": 16,
   "metadata": {},
   "outputs": [
    {
     "data": {
      "text/plain": [
       "tensor(72.3891, device='cuda:0')"
      ]
     },
     "execution_count": 16,
     "metadata": {},
     "output_type": "execute_result"
    }
   ],
   "source": [
    "max(fl_acc)"
   ]
  },
  {
   "cell_type": "code",
   "execution_count": 17,
   "metadata": {},
   "outputs": [],
   "source": [
    "torch.save(net_FL.state_dict(), 'FL1c.pth')"
   ]
  },
  {
   "cell_type": "markdown",
   "metadata": {},
   "source": [
    "# Transfer Learning"
   ]
  },
  {
   "cell_type": "code",
   "execution_count": 18,
   "metadata": {},
   "outputs": [
    {
     "name": "stderr",
     "output_type": "stream",
     "text": [
      "/home/diba/miniconda3/envs/FTL/lib/python3.10/site-packages/wandb/sdk/lib/ipython.py:77: DeprecationWarning: Importing display from IPython.core.display is deprecated since IPython 7.14, please import from IPython display\n",
      "  from IPython.core.display import HTML, display  # type: ignore\n"
     ]
    },
    {
     "data": {
      "text/html": [
       "Finishing last run (ID:ilun3bpo) before initializing another..."
      ],
      "text/plain": [
       "<IPython.core.display.HTML object>"
      ]
     },
     "metadata": {},
     "output_type": "display_data"
    },
    {
     "data": {
      "application/vnd.jupyter.widget-view+json": {
       "model_id": "fb908f2b313346b78aeb81e195154c18",
       "version_major": 2,
       "version_minor": 0
      },
      "text/plain": [
       "VBox(children=(Label(value='0.004 MB of 0.004 MB uploaded\\r'), FloatProgress(value=1.0, max=1.0)))"
      ]
     },
     "metadata": {},
     "output_type": "display_data"
    },
    {
     "data": {
      "text/html": [
       "<style>\n",
       "    table.wandb td:nth-child(1) { padding: 0 10px; text-align: left ; width: auto;} td:nth-child(2) {text-align: left ; width: 100%}\n",
       "    .wandb-row { display: flex; flex-direction: row; flex-wrap: wrap; justify-content: flex-start; width: 100% }\n",
       "    .wandb-col { display: flex; flex-direction: column; flex-basis: 100%; flex: 1; padding: 10px; }\n",
       "    </style>\n",
       "<div class=\"wandb-row\"><div class=\"wandb-col\"><h3>Run history:</h3><br/><table class=\"wandb\"><tr><td>FL accuracy</td><td>▁▁▆▆▇▇▇▇▇▇▇▇▇▇▇▇▇▇▇▇▇▇█▇▇██▇████████████</td></tr><tr><td>FL loss</td><td>█▆▄▄▃▃▃▃▃▃▃▃▂▃▃▃▃▃▃▃▃▃▂▃▂▂▂▂▂▂▂▂▂▁▂▁▁▁▁▁</td></tr></table><br/></div><div class=\"wandb-col\"><h3>Run summary:</h3><br/><table class=\"wandb\"><tr><td>FL accuracy</td><td>72.24606</td></tr><tr><td>FL loss</td><td>0.0474</td></tr></table><br/></div></div>"
      ],
      "text/plain": [
       "<IPython.core.display.HTML object>"
      ]
     },
     "metadata": {},
     "output_type": "display_data"
    },
    {
     "data": {
      "text/html": [
       " View run <strong style=\"color:#cdcd00\">federated learning phase_19-08-2024_00:07:32</strong> at: <a href='https://wandb.ai/d-hadjikazemi-queen-mary-university-of-london/FTL%20one%20class/runs/ilun3bpo' target=\"_blank\">https://wandb.ai/d-hadjikazemi-queen-mary-university-of-london/FTL%20one%20class/runs/ilun3bpo</a><br/> View project at: <a href='https://wandb.ai/d-hadjikazemi-queen-mary-university-of-london/FTL%20one%20class' target=\"_blank\">https://wandb.ai/d-hadjikazemi-queen-mary-university-of-london/FTL%20one%20class</a><br/>Synced 6 W&B file(s), 0 media file(s), 0 artifact file(s) and 0 other file(s)"
      ],
      "text/plain": [
       "<IPython.core.display.HTML object>"
      ]
     },
     "metadata": {},
     "output_type": "display_data"
    },
    {
     "data": {
      "text/html": [
       "Find logs at: <code>./wandb/run-20240819_001119-ilun3bpo/logs</code>"
      ],
      "text/plain": [
       "<IPython.core.display.HTML object>"
      ]
     },
     "metadata": {},
     "output_type": "display_data"
    },
    {
     "data": {
      "text/html": [
       "The new W&B backend becomes opt-out in version 0.18.0; try it out with `wandb.require(\"core\")`! See https://wandb.me/wandb-core for more information."
      ],
      "text/plain": [
       "<IPython.core.display.HTML object>"
      ]
     },
     "metadata": {},
     "output_type": "display_data"
    },
    {
     "data": {
      "text/html": [
       "Successfully finished last run (ID:ilun3bpo). Initializing new run:<br/>"
      ],
      "text/plain": [
       "<IPython.core.display.HTML object>"
      ]
     },
     "metadata": {},
     "output_type": "display_data"
    },
    {
     "data": {
      "application/vnd.jupyter.widget-view+json": {
       "model_id": "672eddfa81674dc9aea6f37f64d2b3fc",
       "version_major": 2,
       "version_minor": 0
      },
      "text/plain": [
       "VBox(children=(Label(value='Waiting for wandb.init()...\\r'), FloatProgress(value=0.011112420977668888, max=1.0…"
      ]
     },
     "metadata": {},
     "output_type": "display_data"
    },
    {
     "data": {
      "text/html": [
       "wandb version 0.17.7 is available!  To upgrade, please run:\n",
       " $ pip install wandb --upgrade"
      ],
      "text/plain": [
       "<IPython.core.display.HTML object>"
      ]
     },
     "metadata": {},
     "output_type": "display_data"
    },
    {
     "data": {
      "text/html": [
       "Tracking run with wandb version 0.17.4"
      ],
      "text/plain": [
       "<IPython.core.display.HTML object>"
      ]
     },
     "metadata": {},
     "output_type": "display_data"
    },
    {
     "data": {
      "text/html": [
       "Run data is saved locally in <code>/home/diba/wandb/run-20240819_010438-zuyvfdlj</code>"
      ],
      "text/plain": [
       "<IPython.core.display.HTML object>"
      ]
     },
     "metadata": {},
     "output_type": "display_data"
    },
    {
     "data": {
      "text/html": [
       "Syncing run <strong><a href='https://wandb.ai/d-hadjikazemi-queen-mary-university-of-london/FTL%20unified/runs/zuyvfdlj' target=\"_blank\">transfer learning phase_19-08-2024_00:07:32</a></strong> to <a href='https://wandb.ai/d-hadjikazemi-queen-mary-university-of-london/FTL%20unified' target=\"_blank\">Weights & Biases</a> (<a href='https://wandb.me/run' target=\"_blank\">docs</a>)<br/>"
      ],
      "text/plain": [
       "<IPython.core.display.HTML object>"
      ]
     },
     "metadata": {},
     "output_type": "display_data"
    },
    {
     "data": {
      "text/html": [
       " View project at <a href='https://wandb.ai/d-hadjikazemi-queen-mary-university-of-london/FTL%20unified' target=\"_blank\">https://wandb.ai/d-hadjikazemi-queen-mary-university-of-london/FTL%20unified</a>"
      ],
      "text/plain": [
       "<IPython.core.display.HTML object>"
      ]
     },
     "metadata": {},
     "output_type": "display_data"
    },
    {
     "data": {
      "text/html": [
       " View run at <a href='https://wandb.ai/d-hadjikazemi-queen-mary-university-of-london/FTL%20unified/runs/zuyvfdlj' target=\"_blank\">https://wandb.ai/d-hadjikazemi-queen-mary-university-of-london/FTL%20unified/runs/zuyvfdlj</a>"
      ],
      "text/plain": [
       "<IPython.core.display.HTML object>"
      ]
     },
     "metadata": {},
     "output_type": "display_data"
    }
   ],
   "source": [
    "wandb.init(\n",
    "    # set the wandb project where this run will be logged\n",
    "    project=\"FTL unified\",\n",
    "    name= \"transfer learning phase_{}\".format(date_time),\n",
    "    # track hyperparameters and run metadata\n",
    "    config= {\n",
    "    \"learning_rate\": 0.0001,\n",
    "    \"architecture\": \"CNN\",\n",
    "    \"epochs\": 100,\n",
    "    \"batch_size\": 64,\n",
    "    \"decay\":0,\n",
    "    'dropout': 0.001,\n",
    "    \"learning_rate_FL\": 0.0001,\n",
    "    \"batch_size_FL\": 64,\n",
    "    \"decay_FL\": 1e-5,\n",
    "    'num_rounds_FL': 50, \n",
    "    'epochs_FL': 100,\n",
    "    'dropout_FL': 0.001\n",
    "    }\n",
    ")\n",
    "configuration_TL = dict(wandb.config)\n"
   ]
  },
  {
   "cell_type": "code",
   "execution_count": 19,
   "metadata": {},
   "outputs": [
    {
     "name": "stdout",
     "output_type": "stream",
     "text": [
      "\n",
      "Epoch 1/100\n",
      "Epoch 1: Training accuracy: 49.033817291259766 Testing accuracy: 58.454105377197266.\n",
      "\n",
      "Epoch 2/100\n",
      "Epoch 2: Training accuracy: 60.62801742553711 Testing accuracy: 62.31884002685547.\n",
      "\n",
      "Epoch 3/100\n",
      "Epoch 3: Training accuracy: 63.949275970458984 Testing accuracy: 62.31884002685547.\n",
      "\n",
      "Epoch 4/100\n",
      "Epoch 4: Training accuracy: 65.94203186035156 Testing accuracy: 62.31884002685547.\n",
      "\n",
      "Epoch 5/100\n",
      "Epoch 5: Training accuracy: 67.51207733154297 Testing accuracy: 64.25120544433594.\n",
      "\n",
      "Epoch 6/100\n",
      "Epoch 6: Training accuracy: 69.20289611816406 Testing accuracy: 64.73429870605469.\n",
      "\n",
      "Epoch 7/100\n",
      "Epoch 7: Training accuracy: 70.65217590332031 Testing accuracy: 66.18357849121094.\n",
      "\n",
      "Epoch 8/100\n",
      "Epoch 8: Training accuracy: 71.1956558227539 Testing accuracy: 66.18357849121094.\n",
      "\n",
      "Epoch 9/100\n",
      "Epoch 9: Training accuracy: 71.73912811279297 Testing accuracy: 67.1497573852539.\n",
      "\n",
      "Epoch 10/100\n",
      "Epoch 10: Training accuracy: 71.79951477050781 Testing accuracy: 68.59903717041016.\n",
      "\n",
      "Epoch 11/100\n",
      "Epoch 11: Training accuracy: 72.76570129394531 Testing accuracy: 69.56521606445312.\n",
      "\n",
      "Epoch 12/100\n",
      "Epoch 12: Training accuracy: 73.12802124023438 Testing accuracy: 68.1159439086914.\n",
      "\n",
      "Epoch 13/100\n",
      "Epoch 13: Training accuracy: 72.76570129394531 Testing accuracy: 69.56521606445312.\n",
      "\n",
      "Epoch 14/100\n",
      "Epoch 14: Training accuracy: 73.55072784423828 Testing accuracy: 69.56521606445312.\n",
      "\n",
      "Epoch 15/100\n",
      "Epoch 15: Training accuracy: 73.79226684570312 Testing accuracy: 70.53140258789062.\n",
      "\n",
      "Epoch 16/100\n",
      "Epoch 16: Training accuracy: 74.63768005371094 Testing accuracy: 70.04830932617188.\n",
      "\n",
      "Epoch 17/100\n",
      "Epoch 17: Training accuracy: 73.73188781738281 Testing accuracy: 69.08212280273438.\n",
      "\n",
      "Epoch 18/100\n",
      "Epoch 18: Training accuracy: 74.93961334228516 Testing accuracy: 69.08212280273438.\n",
      "\n",
      "Epoch 19/100\n",
      "Epoch 19: Training accuracy: 75.72463989257812 Testing accuracy: 70.53140258789062.\n",
      "\n",
      "Epoch 20/100\n",
      "Epoch 20: Training accuracy: 76.14734649658203 Testing accuracy: 67.63285064697266.\n",
      "\n",
      "Epoch 21/100\n",
      "Epoch 21: Training accuracy: 76.26811218261719 Testing accuracy: 72.4637680053711.\n",
      "\n",
      "Epoch 22/100\n",
      "Epoch 22: Training accuracy: 76.81159210205078 Testing accuracy: 72.4637680053711.\n",
      "\n",
      "Epoch 23/100\n",
      "Epoch 23: Training accuracy: 76.6908187866211 Testing accuracy: 69.08212280273438.\n",
      "\n",
      "Epoch 24/100\n",
      "Epoch 24: Training accuracy: 76.44927215576172 Testing accuracy: 71.4975814819336.\n",
      "\n",
      "Epoch 25/100\n",
      "Epoch 25: Training accuracy: 77.41545867919922 Testing accuracy: 70.53140258789062.\n",
      "\n",
      "Epoch 26/100\n",
      "Epoch 26: Training accuracy: 78.01932525634766 Testing accuracy: 71.98067474365234.\n",
      "\n",
      "Epoch 27/100\n",
      "Epoch 27: Training accuracy: 77.05313873291016 Testing accuracy: 66.66666412353516.\n",
      "\n",
      "Epoch 28/100\n",
      "Epoch 28: Training accuracy: 78.0797119140625 Testing accuracy: 72.4637680053711.\n",
      "\n",
      "Epoch 29/100\n",
      "Epoch 29: Training accuracy: 77.77777862548828 Testing accuracy: 69.08212280273438.\n",
      "\n",
      "Epoch 30/100\n",
      "Epoch 30: Training accuracy: 78.0797119140625 Testing accuracy: 71.01449584960938.\n",
      "\n",
      "Epoch 31/100\n",
      "Epoch 31: Training accuracy: 79.10627746582031 Testing accuracy: 73.91304016113281.\n",
      "\n",
      "Epoch 32/100\n",
      "Epoch 32: Training accuracy: 79.16666412353516 Testing accuracy: 72.94686126708984.\n",
      "\n",
      "Epoch 33/100\n",
      "Epoch 33: Training accuracy: 79.28743743896484 Testing accuracy: 73.91304016113281.\n",
      "\n",
      "Epoch 34/100\n",
      "Epoch 34: Training accuracy: 77.6570053100586 Testing accuracy: 72.94686126708984.\n",
      "\n",
      "Epoch 35/100\n",
      "Epoch 35: Training accuracy: 79.46859741210938 Testing accuracy: 73.91304016113281.\n",
      "\n",
      "Epoch 36/100\n",
      "Epoch 36: Training accuracy: 79.58937072753906 Testing accuracy: 73.91304016113281.\n",
      "\n",
      "Epoch 37/100\n",
      "Epoch 37: Training accuracy: 79.10627746582031 Testing accuracy: 71.98067474365234.\n",
      "\n",
      "Epoch 38/100\n",
      "Epoch 38: Training accuracy: 80.25362396240234 Testing accuracy: 74.39613342285156.\n",
      "\n",
      "Epoch 39/100\n",
      "Epoch 39: Training accuracy: 80.13285064697266 Testing accuracy: 74.87922668457031.\n",
      "\n",
      "Epoch 40/100\n",
      "Epoch 40: Training accuracy: 78.8043441772461 Testing accuracy: 73.4299545288086.\n",
      "\n",
      "Epoch 41/100\n",
      "Epoch 41: Training accuracy: 79.95169067382812 Testing accuracy: 74.87922668457031.\n",
      "\n",
      "Epoch 42/100\n",
      "Epoch 42: Training accuracy: 79.28743743896484 Testing accuracy: 73.4299545288086.\n",
      "\n",
      "Epoch 43/100\n",
      "Epoch 43: Training accuracy: 80.25362396240234 Testing accuracy: 74.87922668457031.\n",
      "\n",
      "Epoch 44/100\n",
      "Epoch 44: Training accuracy: 80.25362396240234 Testing accuracy: 74.87922668457031.\n",
      "\n",
      "Epoch 45/100\n",
      "Epoch 45: Training accuracy: 80.37439727783203 Testing accuracy: 74.87922668457031.\n",
      "\n",
      "Epoch 46/100\n",
      "Epoch 46: Training accuracy: 80.31401062011719 Testing accuracy: 74.87922668457031.\n",
      "\n",
      "Epoch 47/100\n",
      "Epoch 47: Training accuracy: 80.25362396240234 Testing accuracy: 74.39613342285156.\n",
      "\n",
      "Epoch 48/100\n",
      "Epoch 48: Training accuracy: 79.71014404296875 Testing accuracy: 74.39613342285156.\n",
      "\n",
      "Epoch 49/100\n",
      "Epoch 49: Training accuracy: 79.16666412353516 Testing accuracy: 70.53140258789062.\n",
      "\n",
      "Epoch 50/100\n",
      "Epoch 50: Training accuracy: 80.55555725097656 Testing accuracy: 74.87922668457031.\n",
      "\n",
      "Epoch 51/100\n",
      "Epoch 51: Training accuracy: 79.40821075439453 Testing accuracy: 71.98067474365234.\n",
      "\n",
      "Epoch 52/100\n",
      "Epoch 52: Training accuracy: 81.03865051269531 Testing accuracy: 74.87922668457031.\n",
      "\n",
      "Epoch 53/100\n",
      "Epoch 53: Training accuracy: 79.7705307006836 Testing accuracy: 73.91304016113281.\n",
      "\n",
      "Epoch 54/100\n",
      "Epoch 54: Training accuracy: 80.79710388183594 Testing accuracy: 74.87922668457031.\n",
      "\n",
      "Epoch 55/100\n",
      "Epoch 55: Training accuracy: 81.09903717041016 Testing accuracy: 74.87922668457031.\n",
      "\n",
      "Epoch 56/100\n",
      "Epoch 56: Training accuracy: 80.67633056640625 Testing accuracy: 74.87922668457031.\n",
      "\n",
      "Epoch 57/100\n",
      "Epoch 57: Training accuracy: 80.79710388183594 Testing accuracy: 74.87922668457031.\n",
      "\n",
      "Epoch 58/100\n",
      "Epoch 58: Training accuracy: 80.43478393554688 Testing accuracy: 74.87922668457031.\n",
      "\n",
      "Epoch 59/100\n",
      "Epoch 59: Training accuracy: 80.43478393554688 Testing accuracy: 74.87922668457031.\n",
      "\n",
      "Epoch 60/100\n",
      "Epoch 60: Training accuracy: 80.25362396240234 Testing accuracy: 74.87922668457031.\n",
      "\n",
      "Epoch 61/100\n",
      "Epoch 61: Training accuracy: 80.49517059326172 Testing accuracy: 74.87922668457031.\n",
      "\n",
      "Epoch 62/100\n",
      "Epoch 62: Training accuracy: 80.79710388183594 Testing accuracy: 74.39613342285156.\n",
      "\n",
      "Epoch 63/100\n",
      "Epoch 63: Training accuracy: 80.01207733154297 Testing accuracy: 74.87922668457031.\n",
      "\n",
      "Epoch 64/100\n",
      "Epoch 64: Training accuracy: 80.79710388183594 Testing accuracy: 75.36231994628906.\n",
      "\n",
      "Epoch 65/100\n",
      "Epoch 65: Training accuracy: 80.67633056640625 Testing accuracy: 75.36231994628906.\n",
      "\n",
      "Epoch 66/100\n",
      "Epoch 66: Training accuracy: 80.7367172241211 Testing accuracy: 75.36231994628906.\n",
      "\n",
      "Epoch 67/100\n",
      "Epoch 67: Training accuracy: 81.340576171875 Testing accuracy: 76.32849884033203.\n",
      "\n",
      "Epoch 68/100\n",
      "Epoch 68: Training accuracy: 81.40096282958984 Testing accuracy: 75.84541320800781.\n",
      "\n",
      "Epoch 69/100\n",
      "Epoch 69: Training accuracy: 81.159423828125 Testing accuracy: 76.32849884033203.\n",
      "\n",
      "Epoch 70/100\n",
      "Epoch 70: Training accuracy: 81.40096282958984 Testing accuracy: 75.84541320800781.\n",
      "\n",
      "Epoch 71/100\n",
      "Epoch 71: Training accuracy: 81.340576171875 Testing accuracy: 76.81159210205078.\n",
      "\n",
      "Epoch 72/100\n",
      "Epoch 72: Training accuracy: 81.64250946044922 Testing accuracy: 75.84541320800781.\n",
      "\n",
      "Epoch 73/100\n",
      "Epoch 73: Training accuracy: 81.7632827758789 Testing accuracy: 76.81159210205078.\n",
      "\n",
      "Epoch 74/100\n",
      "Epoch 74: Training accuracy: 81.159423828125 Testing accuracy: 74.39613342285156.\n",
      "\n",
      "Epoch 75/100\n",
      "Epoch 75: Training accuracy: 81.64250946044922 Testing accuracy: 75.84541320800781.\n",
      "\n",
      "Epoch 76/100\n",
      "Epoch 76: Training accuracy: 81.82366943359375 Testing accuracy: 76.32849884033203.\n",
      "\n",
      "Epoch 77/100\n",
      "Epoch 77: Training accuracy: 81.82366943359375 Testing accuracy: 76.81159210205078.\n",
      "\n",
      "Epoch 78/100\n",
      "Epoch 78: Training accuracy: 81.82366943359375 Testing accuracy: 76.32849884033203.\n",
      "\n",
      "Epoch 79/100\n",
      "Epoch 79: Training accuracy: 80.55555725097656 Testing accuracy: 75.84541320800781.\n",
      "\n",
      "Epoch 80/100\n",
      "Epoch 80: Training accuracy: 81.94444274902344 Testing accuracy: 76.32849884033203.\n",
      "\n",
      "Epoch 81/100\n",
      "Epoch 81: Training accuracy: 82.24637603759766 Testing accuracy: 77.29468536376953.\n",
      "\n",
      "Epoch 82/100\n",
      "Epoch 82: Training accuracy: 82.06521606445312 Testing accuracy: 76.32849884033203.\n",
      "\n",
      "Epoch 83/100\n",
      "Epoch 83: Training accuracy: 81.94444274902344 Testing accuracy: 76.32849884033203.\n",
      "\n",
      "Epoch 84/100\n",
      "Epoch 84: Training accuracy: 82.24637603759766 Testing accuracy: 77.29468536376953.\n",
      "\n",
      "Epoch 85/100\n",
      "Epoch 85: Training accuracy: 80.43478393554688 Testing accuracy: 76.32849884033203.\n",
      "\n",
      "Epoch 86/100\n",
      "Epoch 86: Training accuracy: 82.00482940673828 Testing accuracy: 76.81159210205078.\n",
      "\n",
      "Epoch 87/100\n",
      "Epoch 87: Training accuracy: 82.3067626953125 Testing accuracy: 77.77777862548828.\n",
      "\n",
      "Epoch 88/100\n",
      "Epoch 88: Training accuracy: 81.82366943359375 Testing accuracy: 76.32849884033203.\n",
      "\n",
      "Epoch 89/100\n",
      "Epoch 89: Training accuracy: 82.06521606445312 Testing accuracy: 77.29468536376953.\n",
      "\n",
      "Epoch 90/100\n",
      "Epoch 90: Training accuracy: 82.42753601074219 Testing accuracy: 78.26087188720703.\n",
      "\n",
      "Epoch 91/100\n",
      "Epoch 91: Training accuracy: 82.00482940673828 Testing accuracy: 76.32849884033203.\n",
      "\n",
      "Epoch 92/100\n",
      "Epoch 92: Training accuracy: 82.36714935302734 Testing accuracy: 77.77777862548828.\n",
      "\n",
      "Epoch 93/100\n",
      "Epoch 93: Training accuracy: 81.82366943359375 Testing accuracy: 77.77777862548828.\n",
      "\n",
      "Epoch 94/100\n",
      "Epoch 94: Training accuracy: 82.18598937988281 Testing accuracy: 77.29468536376953.\n",
      "\n",
      "Epoch 95/100\n",
      "Epoch 95: Training accuracy: 82.36714935302734 Testing accuracy: 77.77777862548828.\n",
      "\n",
      "Epoch 96/100\n",
      "Epoch 96: Training accuracy: 82.36714935302734 Testing accuracy: 77.77777862548828.\n",
      "\n",
      "Epoch 97/100\n",
      "Epoch 97: Training accuracy: 82.42753601074219 Testing accuracy: 77.29468536376953.\n",
      "\n",
      "Epoch 98/100\n",
      "Epoch 98: Training accuracy: 82.66908264160156 Testing accuracy: 77.77777862548828.\n",
      "\n",
      "Epoch 99/100\n",
      "Epoch 99: Training accuracy: 82.3067626953125 Testing accuracy: 76.32849884033203.\n",
      "\n",
      "Epoch 100/100\n",
      "Epoch 100: Training accuracy: 82.78985595703125 Testing accuracy: 77.29468536376953.\n",
      "Epoch 1: validation loss 0.12438932806253433, accuracy 77.29468536376953\n",
      "Final test set performance:\n",
      "\tloss 0.12438932806253433\n",
      "\taccuracy 77.29468536376953\n"
     ]
    },
    {
     "data": {
      "application/vnd.jupyter.widget-view+json": {
       "model_id": "1ac7755655634d4bb55ad5937ca4978c",
       "version_major": 2,
       "version_minor": 0
      },
      "text/plain": [
       "VBox(children=(Label(value='0.004 MB of 0.004 MB uploaded\\r'), FloatProgress(value=1.0, max=1.0)))"
      ]
     },
     "metadata": {},
     "output_type": "display_data"
    },
    {
     "data": {
      "text/html": [
       "<style>\n",
       "    table.wandb td:nth-child(1) { padding: 0 10px; text-align: left ; width: auto;} td:nth-child(2) {text-align: left ; width: 100%}\n",
       "    .wandb-row { display: flex; flex-direction: row; flex-wrap: wrap; justify-content: flex-start; width: 100% }\n",
       "    .wandb-col { display: flex; flex-direction: column; flex-basis: 100%; flex: 1; padding: 10px; }\n",
       "    </style>\n",
       "<div class=\"wandb-row\"><div class=\"wandb-col\"><h3>Run history:</h3><br/><table class=\"wandb\"><tr><td>transfer training accuraccy</td><td>▁▄▅▆▆▆▆▆▇▇▇▇▇▇▇▇▇▇▇▇▇███████████████████</td></tr><tr><td>transfer validation accuracy</td><td>▁▂▃▄▅▅▅▅▆▅▆▆▇▆▇▇▇▇▇▅▆▇▇▇▇▇▇▇▇▇█▇▇███████</td></tr></table><br/></div><div class=\"wandb-col\"><h3>Run summary:</h3><br/><table class=\"wandb\"><tr><td>transfer training accuraccy</td><td>82.78986</td></tr><tr><td>transfer validation accuracy</td><td>77.29469</td></tr></table><br/></div></div>"
      ],
      "text/plain": [
       "<IPython.core.display.HTML object>"
      ]
     },
     "metadata": {},
     "output_type": "display_data"
    },
    {
     "data": {
      "text/html": [
       " View run <strong style=\"color:#cdcd00\">transfer learning phase_19-08-2024_00:07:32</strong> at: <a href='https://wandb.ai/d-hadjikazemi-queen-mary-university-of-london/FTL%20unified/runs/zuyvfdlj' target=\"_blank\">https://wandb.ai/d-hadjikazemi-queen-mary-university-of-london/FTL%20unified/runs/zuyvfdlj</a><br/> View project at: <a href='https://wandb.ai/d-hadjikazemi-queen-mary-university-of-london/FTL%20unified' target=\"_blank\">https://wandb.ai/d-hadjikazemi-queen-mary-university-of-london/FTL%20unified</a><br/>Synced 6 W&B file(s), 0 media file(s), 0 artifact file(s) and 0 other file(s)"
      ],
      "text/plain": [
       "<IPython.core.display.HTML object>"
      ]
     },
     "metadata": {},
     "output_type": "display_data"
    },
    {
     "data": {
      "text/html": [
       "Find logs at: <code>./wandb/run-20240819_010438-zuyvfdlj/logs</code>"
      ],
      "text/plain": [
       "<IPython.core.display.HTML object>"
      ]
     },
     "metadata": {},
     "output_type": "display_data"
    },
    {
     "data": {
      "text/html": [
       "The new W&B backend becomes opt-out in version 0.18.0; try it out with `wandb.require(\"core\")`! See https://wandb.me/wandb-core for more information."
      ],
      "text/plain": [
       "<IPython.core.display.HTML object>"
      ]
     },
     "metadata": {},
     "output_type": "display_data"
    },
    {
     "data": {
      "image/png": "[encoded data removed]",
      "text/plain": [
       "<Figure size 640x480 with 1 Axes>"
      ]
     },
     "metadata": {},
     "output_type": "display_data"
    }
   ],
   "source": [
    "losses_transfer = []\n",
    "accuracies_transfer = []\n",
    "for epoch in range(1):\n",
    "    train(net, azure_train_loaders_transfer, azure_val_loaders_transfer, configuration_TL, configuration_TL['epochs'], name= \"transfer\")\n",
    "    loss, accuracy = test(net, azure_val_loaders_transfer, configuration_TL)\n",
    "    losses_transfer.append(loss)\n",
    "    accuracies_transfer.append(int(accuracy))\n",
    "    print(f\"Epoch {epoch+1}: validation loss {loss}, accuracy {accuracy}\")\n",
    "# plt.plot(accuracies)\n",
    "losses_transfer, accuracy_transfer = test(net, testloader, configuration=configuration_TL)\n",
    "print(f\"Final test set performance:\\n\\tloss {loss}\\n\\taccuracy {accuracy}\")\n",
    "wandb.finish()"
   ]
  },
  {
   "cell_type": "code",
   "execution_count": 20,
   "metadata": {},
   "outputs": [],
   "source": [
    "torch.save(net.state_dict(), 'TL1c.pth')"
   ]
  },
  {
   "cell_type": "markdown",
   "metadata": {},
   "source": [
    "# Federated Transfer Learning"
   ]
  },
  {
   "cell_type": "code",
   "execution_count": 21,
   "metadata": {},
   "outputs": [
    {
     "data": {
      "application/vnd.jupyter.widget-view+json": {
       "model_id": "8a3948db1cd14c19b549eb5043a7dcdc",
       "version_major": 2,
       "version_minor": 0
      },
      "text/plain": [
       "VBox(children=(Label(value='Waiting for wandb.init()...\\r'), FloatProgress(value=0.011112576611049007, max=1.0…"
      ]
     },
     "metadata": {},
     "output_type": "display_data"
    },
    {
     "data": {
      "text/html": [
       "wandb version 0.17.7 is available!  To upgrade, please run:\n",
       " $ pip install wandb --upgrade"
      ],
      "text/plain": [
       "<IPython.core.display.HTML object>"
      ]
     },
     "metadata": {},
     "output_type": "display_data"
    },
    {
     "data": {
      "text/html": [
       "Tracking run with wandb version 0.17.4"
      ],
      "text/plain": [
       "<IPython.core.display.HTML object>"
      ]
     },
     "metadata": {},
     "output_type": "display_data"
    },
    {
     "data": {
      "text/html": [
       "Run data is saved locally in <code>/home/diba/wandb/run-20240819_010552-wrwst7vj</code>"
      ],
      "text/plain": [
       "<IPython.core.display.HTML object>"
      ]
     },
     "metadata": {},
     "output_type": "display_data"
    },
    {
     "data": {
      "text/html": [
       "Syncing run <strong><a href='https://wandb.ai/d-hadjikazemi-queen-mary-university-of-london/FTL%20one%20class/runs/wrwst7vj' target=\"_blank\">federated transfer learning phase_19-08-2024_00:07:32</a></strong> to <a href='https://wandb.ai/d-hadjikazemi-queen-mary-university-of-london/FTL%20one%20class' target=\"_blank\">Weights & Biases</a> (<a href='https://wandb.me/run' target=\"_blank\">docs</a>)<br/>"
      ],
      "text/plain": [
       "<IPython.core.display.HTML object>"
      ]
     },
     "metadata": {},
     "output_type": "display_data"
    },
    {
     "data": {
      "text/html": [
       " View project at <a href='https://wandb.ai/d-hadjikazemi-queen-mary-university-of-london/FTL%20one%20class' target=\"_blank\">https://wandb.ai/d-hadjikazemi-queen-mary-university-of-london/FTL%20one%20class</a>"
      ],
      "text/plain": [
       "<IPython.core.display.HTML object>"
      ]
     },
     "metadata": {},
     "output_type": "display_data"
    },
    {
     "data": {
      "text/html": [
       " View run at <a href='https://wandb.ai/d-hadjikazemi-queen-mary-university-of-london/FTL%20one%20class/runs/wrwst7vj' target=\"_blank\">https://wandb.ai/d-hadjikazemi-queen-mary-university-of-london/FTL%20one%20class/runs/wrwst7vj</a>"
      ],
      "text/plain": [
       "<IPython.core.display.HTML object>"
      ]
     },
     "metadata": {},
     "output_type": "display_data"
    },
    {
     "data": {
      "text/html": [
       "<button onClick=\"this.nextSibling.style.display='block';this.style.display='none';\">Display W&B run</button><iframe src='https://wandb.ai/d-hadjikazemi-queen-mary-university-of-london/FTL%20one%20class/runs/wrwst7vj?jupyter=true' style='border:none;width:100%;height:420px;display:none;'></iframe>"
      ],
      "text/plain": [
       "<wandb.sdk.wandb_run.Run at 0x7f9d1a785780>"
      ]
     },
     "execution_count": 21,
     "metadata": {},
     "output_type": "execute_result"
    }
   ],
   "source": [
    "wandb.init(\n",
    "    # set the wandb project where this run will be logged\n",
    "    project=\"FTL one class\",\n",
    "    name= \"federated transfer learning phase_{}\".format(date_time),\n",
    "    # track hyperparameters and run metadata\n",
    "    config=configuration\n",
    ")"
   ]
  },
  {
   "cell_type": "code",
   "execution_count": 22,
   "metadata": {},
   "outputs": [],
   "source": [
    "net_FTL = Neural_Network_FL().to(device)\n",
    "parameters_centralized = get_parameters(net)\n",
    "set_parameters(net_FTL, parameters_centralized)"
   ]
  },
  {
   "cell_type": "code",
   "execution_count": 23,
   "metadata": {},
   "outputs": [],
   "source": [
    "class FlowerClient(fl.client.NumPyClient):\n",
    "    def __init__(self, net, trainloader, valloader, configuration):\n",
    "        self.net = net\n",
    "        self.trainloader = trainloader\n",
    "        self.valloader = valloader\n",
    "\n",
    "    def get_parameters(self, config):\n",
    "        return get_parameters(self.net)\n",
    "\n",
    "    def fit(self, parameters, config):\n",
    "        set_parameters(self.net, parameters)\n",
    "        train_FL(self.net, self.trainloader,self.valloader,configuration, configuration['epochs_FL'])\n",
    "        return get_parameters(self.net), len(self.trainloader), {}\n",
    "\n",
    "    def evaluate(self, parameters, config):\n",
    "        set_parameters(self.net, parameters)\n",
    "        loss, accuracy = test(self.net, self.valloader, configuration)\n",
    "        return float(loss), len(self.valloader), {\"accuracy\": float(accuracy)}\n",
    "    \n",
    "\n",
    "def client_fn(cid) -> FlowerClient:\n",
    "    net = Neural_Network().to(device)\n",
    "    trainloader = azure_train_loaders[int(cid)]\n",
    "    valloader = azure_val_loaders[int(cid)]\n",
    "    return FlowerClient(net_FTL, trainloader, valloader, configuration).to_client()\n"
   ]
  },
  {
   "cell_type": "code",
   "execution_count": 24,
   "metadata": {},
   "outputs": [
    {
     "name": "stderr",
     "output_type": "stream",
     "text": [
      "\u001b[93mWARNING \u001b[0m:   \n",
      "Setting `min_available_clients` lower than `min_fit_clients` or\n",
      "`min_evaluate_clients` can cause the server to fail when there are too few clients\n",
      "connected to the server. `min_available_clients` must be set to a value larger\n",
      "than or equal to the values of `min_fit_clients` and `min_evaluate_clients`.\n",
      "\n",
      "\u001b[92mINFO \u001b[0m:      Starting Flower simulation, config: num_rounds=50, no round_timeout\n",
      "2024-08-19 01:05:58,506\tINFO worker.py:1621 -- Started a local Ray instance.\n",
      "\u001b[92mINFO \u001b[0m:      Flower VCE: Ray initialized with resources: {'node:__internal_head__': 1.0, 'CPU': 32.0, 'accelerator_type:G': 1.0, 'GPU': 2.0, 'object_store_memory': 49464544051.0, 'node:192.168.1.146': 1.0, 'memory': 105417269453.0}\n",
      "\u001b[92mINFO \u001b[0m:      Optimize your simulation with Flower VCE: https://flower.ai/docs/framework/how-to-run-simulations.html\n",
      "\u001b[92mINFO \u001b[0m:      Flower VCE: Resources for each Virtual Client: {'num_cpus': 1, 'num_gpus': 1.0}\n",
      "\u001b[92mINFO \u001b[0m:      Flower VCE: Creating VirtualClientEngineActorPool with 2 actors\n",
      "\u001b[92mINFO \u001b[0m:      [INIT]\n",
      "\u001b[92mINFO \u001b[0m:      Using initial global parameters provided by strategy\n",
      "\u001b[92mINFO \u001b[0m:      Evaluating initial global parameters\n",
      "\u001b[92mINFO \u001b[0m:      initial parameters (loss, other metrics): 0.07164897701957008, {'accuracy': tensor(48.4979, device='cuda:0')}\n",
      "\u001b[92mINFO \u001b[0m:      \n",
      "\u001b[92mINFO \u001b[0m:      [ROUND 1]\n",
      "\u001b[92mINFO \u001b[0m:      configure_fit: strategy sampled 3 clients (out of 3)\n"
     ]
    },
    {
     "name": "stdout",
     "output_type": "stream",
     "text": [
      "Server-side evaluation loss 0.07164897701957008 / accuracy 48.49785232543945\n",
      "\u001b[2m\u001b[36m(ClientAppActor pid=1320832)\u001b[0m \n",
      "\u001b[2m\u001b[36m(ClientAppActor pid=1320832)\u001b[0m Epoch 1/100\n",
      "\u001b[2m\u001b[36m(ClientAppActor pid=1320832)\u001b[0m Epoch 1: Training accuracy: 51.28205108642578 Testing accuracy: 44.230770111083984.\n",
      "\u001b[2m\u001b[36m(ClientAppActor pid=1320832)\u001b[0m Epoch 2: Training accuracy: 48.71794891357422 Testing accuracy: 55.769229888916016.\n",
      "\u001b[2m\u001b[36m(ClientAppActor pid=1320832)\u001b[0m \u001b[32m [repeated 67x across cluster]\u001b[0m\n",
      "\u001b[2m\u001b[36m(ClientAppActor pid=1320832)\u001b[0m Epoch 60/100\u001b[32m [repeated 67x across cluster]\u001b[0m\n",
      "\u001b[2m\u001b[36m(ClientAppActor pid=1320832)\u001b[0m Epoch 79: Training accuracy: 51.28205108642578 Testing accuracy: 44.230770111083984.\u001b[32m [repeated 86x across cluster]\u001b[0m\n",
      "\u001b[2m\u001b[36m(ClientAppActor pid=1320832)\u001b[0m \u001b[32m [repeated 83x across cluster]\u001b[0m\n",
      "\u001b[2m\u001b[36m(ClientAppActor pid=1320832)\u001b[0m Epoch 33/100\u001b[32m [repeated 83x across cluster]\u001b[0m\n",
      "\u001b[2m\u001b[36m(ClientAppActor pid=1320832)\u001b[0m Epoch 55: Training accuracy: 49.63017654418945 Testing accuracy: 49.1124267578125.\u001b[32m [repeated 86x across cluster]\u001b[0m\n",
      "\u001b[2m\u001b[36m(ClientAppActor pid=1320832)\u001b[0m \u001b[32m [repeated 65x across cluster]\u001b[0m\n",
      "\u001b[2m\u001b[36m(ClientAppActor pid=1320832)\u001b[0m Epoch 90/100\u001b[32m [repeated 65x across cluster]\u001b[0m\n",
      "\u001b[2m\u001b[36m(ClientAppActor pid=1320832)\u001b[0m Epoch 93: Training accuracy: 50.8875732421875 Testing accuracy: 49.70414352416992.\u001b[32m [repeated 46x across cluster]\u001b[0m\n",
      "\u001b[2m\u001b[36m(ClientAppActor pid=1320835)\u001b[0m \u001b[32m [repeated 17x across cluster]\u001b[0m\n",
      "\u001b[2m\u001b[36m(ClientAppActor pid=1320835)\u001b[0m Epoch 33/100\u001b[32m [repeated 17x across cluster]\u001b[0m\n",
      "\u001b[2m\u001b[36m(ClientAppActor pid=1320835)\u001b[0m Epoch 33: Training accuracy: 50.59880065917969 Testing accuracy: 47.90419006347656.\u001b[32m [repeated 13x across cluster]\u001b[0m\n",
      "\u001b[2m\u001b[36m(ClientAppActor pid=1320835)\u001b[0m \u001b[32m [repeated 8x across cluster]\u001b[0m\n",
      "\u001b[2m\u001b[36m(ClientAppActor pid=1320835)\u001b[0m Epoch 41/100\u001b[32m [repeated 8x across cluster]\u001b[0m\n",
      "\u001b[2m\u001b[36m(ClientAppActor pid=1320835)\u001b[0m Epoch 41: Training accuracy: 50.59880065917969 Testing accuracy: 47.90419006347656.\u001b[32m [repeated 8x across cluster]\u001b[0m\n",
      "\u001b[2m\u001b[36m(ClientAppActor pid=1320835)\u001b[0m \u001b[32m [repeated 10x across cluster]\u001b[0m\n",
      "\u001b[2m\u001b[36m(ClientAppActor pid=1320835)\u001b[0m Epoch 51/100\u001b[32m [repeated 10x across cluster]\u001b[0m\n",
      "\u001b[2m\u001b[36m(ClientAppActor pid=1320835)\u001b[0m Epoch 52: Training accuracy: 50.59880065917969 Testing accuracy: 47.90419006347656.\u001b[32m [repeated 11x across cluster]\u001b[0m\n",
      "\u001b[2m\u001b[36m(ClientAppActor pid=1320835)\u001b[0m \u001b[32m [repeated 16x across cluster]\u001b[0m\n",
      "\u001b[2m\u001b[36m(ClientAppActor pid=1320835)\u001b[0m Epoch 67/100\u001b[32m [repeated 16x across cluster]\u001b[0m\n",
      "\u001b[2m\u001b[36m(ClientAppActor pid=1320835)\u001b[0m Epoch 69: Training accuracy: 50.59880065917969 Testing accuracy: 47.90419006347656.\u001b[32m [repeated 17x across cluster]\u001b[0m\n",
      "\u001b[2m\u001b[36m(ClientAppActor pid=1320835)\u001b[0m \u001b[32m [repeated 15x across cluster]\u001b[0m\n",
      "\u001b[2m\u001b[36m(ClientAppActor pid=1320835)\u001b[0m Epoch 82/100\u001b[32m [repeated 15x across cluster]\u001b[0m\n",
      "\u001b[2m\u001b[36m(ClientAppActor pid=1320835)\u001b[0m Epoch 82: Training accuracy: 50.59880065917969 Testing accuracy: 47.90419006347656.\u001b[32m [repeated 13x across cluster]\u001b[0m\n",
      "\u001b[2m\u001b[36m(ClientAppActor pid=1320835)\u001b[0m \u001b[32m [repeated 7x across cluster]\u001b[0m\n",
      "\u001b[2m\u001b[36m(ClientAppActor pid=1320835)\u001b[0m Epoch 89/100\u001b[32m [repeated 7x across cluster]\u001b[0m\n",
      "\u001b[2m\u001b[36m(ClientAppActor pid=1320835)\u001b[0m Epoch 89: Training accuracy: 50.59880065917969 Testing accuracy: 47.90419006347656.\u001b[32m [repeated 7x across cluster]\u001b[0m\n",
      "\u001b[2m\u001b[36m(ClientAppActor pid=1320835)\u001b[0m \u001b[32m [repeated 7x across cluster]\u001b[0m\n",
      "\u001b[2m\u001b[36m(ClientAppActor pid=1320835)\u001b[0m Epoch 96/100\u001b[32m [repeated 7x across cluster]\u001b[0m\n",
      "\u001b[2m\u001b[36m(ClientAppActor pid=1320835)\u001b[0m Epoch 96: Training accuracy: 50.59880065917969 Testing accuracy: 47.90419006347656.\u001b[32m [repeated 7x across cluster]\u001b[0m\n"
     ]
    },
    {
     "name": "stderr",
     "output_type": "stream",
     "text": [
      "\u001b[92mINFO \u001b[0m:      aggregate_fit: received 3 results and 0 failures\n",
      "\u001b[93mWARNING \u001b[0m:   No fit_metrics_aggregation_fn provided\n",
      "\u001b[92mINFO \u001b[0m:      fit progress: (1, 0.06294957074252042, {'accuracy': tensor(56.0801, device='cuda:0')}, 58.629802099007065)\n",
      "\u001b[92mINFO \u001b[0m:      configure_evaluate: strategy sampled 1 clients (out of 3)\n"
     ]
    },
    {
     "name": "stdout",
     "output_type": "stream",
     "text": [
      "Server-side evaluation loss 0.06294957074252042 / accuracy 56.080116271972656\n"
     ]
    },
    {
     "name": "stderr",
     "output_type": "stream",
     "text": [
      "\u001b[92mINFO \u001b[0m:      aggregate_evaluate: received 1 results and 0 failures\n",
      "\u001b[92mINFO \u001b[0m:      \n",
      "\u001b[92mINFO \u001b[0m:      [ROUND 2]\n",
      "\u001b[92mINFO \u001b[0m:      configure_fit: strategy sampled 3 clients (out of 3)\n"
     ]
    },
    {
     "name": "stdout",
     "output_type": "stream",
     "text": [
      "\u001b[2m\u001b[36m(ClientAppActor pid=1320832)\u001b[0m \u001b[32m [repeated 7x across cluster]\u001b[0m\n",
      "\u001b[2m\u001b[36m(ClientAppActor pid=1320832)\u001b[0m Epoch 2/100\u001b[32m [repeated 7x across cluster]\u001b[0m\n",
      "\u001b[2m\u001b[36m(ClientAppActor pid=1320832)\u001b[0m Epoch 3: Training accuracy: 50.59880065917969 Testing accuracy: 47.90419006347656.\u001b[32m [repeated 9x across cluster]\u001b[0m\n",
      "\u001b[2m\u001b[36m(ClientAppActor pid=1320835)\u001b[0m \u001b[32m [repeated 24x across cluster]\u001b[0m\n",
      "\u001b[2m\u001b[36m(ClientAppActor pid=1320835)\u001b[0m Epoch 12/100\u001b[32m [repeated 24x across cluster]\u001b[0m\n",
      "\u001b[2m\u001b[36m(ClientAppActor pid=1320832)\u001b[0m Epoch 17: Training accuracy: 57.11077880859375 Testing accuracy: 53.29341506958008.\u001b[32m [repeated 24x across cluster]\u001b[0m\n",
      "\u001b[2m\u001b[36m(ClientAppActor pid=1320835)\u001b[0m \u001b[32m [repeated 24x across cluster]\u001b[0m\n",
      "\u001b[2m\u001b[36m(ClientAppActor pid=1320835)\u001b[0m Epoch 22/100\u001b[32m [repeated 24x across cluster]\u001b[0m\n",
      "\u001b[2m\u001b[36m(ClientAppActor pid=1320835)\u001b[0m Epoch 23: Training accuracy: 61.09467315673828 Testing accuracy: 60.35503005981445.\u001b[32m [repeated 24x across cluster]\u001b[0m\n",
      "\u001b[2m\u001b[36m(ClientAppActor pid=1320832)\u001b[0m \u001b[32m [repeated 30x across cluster]\u001b[0m\n",
      "\u001b[2m\u001b[36m(ClientAppActor pid=1320832)\u001b[0m Epoch 45/100\u001b[32m [repeated 30x across cluster]\u001b[0m\n",
      "\u001b[2m\u001b[36m(ClientAppActor pid=1320835)\u001b[0m Epoch 38: Training accuracy: 68.86094665527344 Testing accuracy: 68.0473403930664.\u001b[32m [repeated 31x across cluster]\u001b[0m\n",
      "\u001b[2m\u001b[36m(ClientAppActor pid=1320835)\u001b[0m \u001b[32m [repeated 21x across cluster]\u001b[0m\n",
      "\u001b[2m\u001b[36m(ClientAppActor pid=1320835)\u001b[0m Epoch 47/100\u001b[32m [repeated 21x across cluster]\u001b[0m\n",
      "\u001b[2m\u001b[36m(ClientAppActor pid=1320835)\u001b[0m Epoch 47: Training accuracy: 54.51183319091797 Testing accuracy: 53.846153259277344.\u001b[32m [repeated 18x across cluster]\u001b[0m\n",
      "\u001b[2m\u001b[36m(ClientAppActor pid=1320835)\u001b[0m \u001b[32m [repeated 17x across cluster]\u001b[0m\n",
      "\u001b[2m\u001b[36m(ClientAppActor pid=1320835)\u001b[0m Epoch 55/100\u001b[32m [repeated 17x across cluster]\u001b[0m\n",
      "\u001b[2m\u001b[36m(ClientAppActor pid=1320835)\u001b[0m Epoch 56: Training accuracy: 69.4526596069336 Testing accuracy: 65.68047332763672.\u001b[32m [repeated 18x across cluster]\u001b[0m\n",
      "\u001b[2m\u001b[36m(ClientAppActor pid=1320832)\u001b[0m \u001b[32m [repeated 17x across cluster]\u001b[0m\n",
      "\u001b[2m\u001b[36m(ClientAppActor pid=1320832)\u001b[0m Epoch 73/100\u001b[32m [repeated 17x across cluster]\u001b[0m\n",
      "\u001b[2m\u001b[36m(ClientAppActor pid=1320832)\u001b[0m Epoch 73: Training accuracy: 68.63772583007812 Testing accuracy: 63.473052978515625.\u001b[32m [repeated 15x across cluster]\u001b[0m\n",
      "\u001b[2m\u001b[36m(ClientAppActor pid=1320832)\u001b[0m \u001b[32m [repeated 18x across cluster]\u001b[0m\n",
      "\u001b[2m\u001b[36m(ClientAppActor pid=1320832)\u001b[0m Epoch 82/100\u001b[32m [repeated 18x across cluster]\u001b[0m\n",
      "\u001b[2m\u001b[36m(ClientAppActor pid=1320832)\u001b[0m Epoch 81: Training accuracy: 70.80838012695312 Testing accuracy: 66.4670639038086.\u001b[32m [repeated 17x across cluster]\u001b[0m\n",
      "\u001b[2m\u001b[36m(ClientAppActor pid=1320835)\u001b[0m \u001b[32m [repeated 17x across cluster]\u001b[0m\n",
      "\u001b[2m\u001b[36m(ClientAppActor pid=1320835)\u001b[0m Epoch 80/100\u001b[32m [repeated 17x across cluster]\u001b[0m\n",
      "\u001b[2m\u001b[36m(ClientAppActor pid=1320835)\u001b[0m Epoch 79: Training accuracy: 67.08580017089844 Testing accuracy: 66.27218627929688.\u001b[32m [repeated 17x across cluster]\u001b[0m\n",
      "\u001b[2m\u001b[36m(ClientAppActor pid=1320832)\u001b[0m \u001b[32m [repeated 17x across cluster]\u001b[0m\n",
      "\u001b[2m\u001b[36m(ClientAppActor pid=1320832)\u001b[0m Epoch 100/100\u001b[32m [repeated 17x across cluster]\u001b[0m\n",
      "\u001b[2m\u001b[36m(ClientAppActor pid=1320832)\u001b[0m Epoch 99: Training accuracy: 70.80838012695312 Testing accuracy: 64.07185363769531.\u001b[32m [repeated 17x across cluster]\u001b[0m\n",
      "\u001b[2m\u001b[36m(ClientAppActor pid=1320832)\u001b[0m \u001b[32m [repeated 16x across cluster]\u001b[0m\n",
      "\u001b[2m\u001b[36m(ClientAppActor pid=1320832)\u001b[0m Epoch 8/100\u001b[32m [repeated 16x across cluster]\u001b[0m\n",
      "\u001b[2m\u001b[36m(ClientAppActor pid=1320832)\u001b[0m Epoch 7: Training accuracy: 51.28205108642578 Testing accuracy: 44.230770111083984.\u001b[32m [repeated 16x across cluster]\u001b[0m\n",
      "\u001b[2m\u001b[36m(ClientAppActor pid=1320832)\u001b[0m \u001b[32m [repeated 14x across cluster]\u001b[0m\n",
      "\u001b[2m\u001b[36m(ClientAppActor pid=1320832)\u001b[0m Epoch 18/100\u001b[32m [repeated 14x across cluster]\u001b[0m\n",
      "\u001b[2m\u001b[36m(ClientAppActor pid=1320832)\u001b[0m Epoch 17: Training accuracy: 51.28205108642578 Testing accuracy: 44.230770111083984.\u001b[32m [repeated 15x across cluster]\u001b[0m\n",
      "\u001b[2m\u001b[36m(ClientAppActor pid=1320832)\u001b[0m \u001b[32m [repeated 14x across cluster]\u001b[0m\n",
      "\u001b[2m\u001b[36m(ClientAppActor pid=1320832)\u001b[0m Epoch 32/100\u001b[32m [repeated 14x across cluster]\u001b[0m\n",
      "\u001b[2m\u001b[36m(ClientAppActor pid=1320832)\u001b[0m Epoch 31: Training accuracy: 51.28205108642578 Testing accuracy: 44.230770111083984.\u001b[32m [repeated 14x across cluster]\u001b[0m\n",
      "\u001b[2m\u001b[36m(ClientAppActor pid=1320832)\u001b[0m \u001b[32m [repeated 20x across cluster]\u001b[0m\n",
      "\u001b[2m\u001b[36m(ClientAppActor pid=1320832)\u001b[0m Epoch 52/100\u001b[32m [repeated 20x across cluster]\u001b[0m\n",
      "\u001b[2m\u001b[36m(ClientAppActor pid=1320832)\u001b[0m Epoch 51: Training accuracy: 51.28205108642578 Testing accuracy: 44.230770111083984.\u001b[32m [repeated 20x across cluster]\u001b[0m\n"
     ]
    },
    {
     "name": "stderr",
     "output_type": "stream",
     "text": [
      "\u001b[92mINFO \u001b[0m:      aggregate_fit: received 3 results and 0 failures\n",
      "\u001b[92mINFO \u001b[0m:      fit progress: (2, 0.06119682030244307, {'accuracy': tensor(54.9356, device='cuda:0')}, 130.9498479830072)\n",
      "\u001b[92mINFO \u001b[0m:      configure_evaluate: strategy sampled 1 clients (out of 3)\n",
      "\u001b[92mINFO \u001b[0m:      aggregate_evaluate: received 1 results and 0 failures\n",
      "\u001b[92mINFO \u001b[0m:      \n",
      "\u001b[92mINFO \u001b[0m:      [ROUND 3]\n",
      "\u001b[92mINFO \u001b[0m:      configure_fit: strategy sampled 3 clients (out of 3)\n"
     ]
    },
    {
     "name": "stdout",
     "output_type": "stream",
     "text": [
      "Server-side evaluation loss 0.06119682030244307 / accuracy 54.93562316894531\n",
      "\u001b[2m\u001b[36m(ClientAppActor pid=1320832)\u001b[0m \u001b[32m [repeated 103x across cluster]\u001b[0m\n",
      "\u001b[2m\u001b[36m(ClientAppActor pid=1320832)\u001b[0m Epoch 52/100\u001b[32m [repeated 103x across cluster]\u001b[0m\n",
      "\u001b[2m\u001b[36m(ClientAppActor pid=1320832)\u001b[0m Epoch 51: Training accuracy: 71.67160034179688 Testing accuracy: 68.63905334472656.\u001b[32m [repeated 102x across cluster]\u001b[0m\n",
      "\u001b[2m\u001b[36m(ClientAppActor pid=1320832)\u001b[0m \u001b[32m [repeated 118x across cluster]\u001b[0m\n",
      "\u001b[2m\u001b[36m(ClientAppActor pid=1320832)\u001b[0m Epoch 57/100\u001b[32m [repeated 118x across cluster]\u001b[0m\n",
      "\u001b[2m\u001b[36m(ClientAppActor pid=1320832)\u001b[0m Epoch 56: Training accuracy: 63.46154022216797 Testing accuracy: 69.23076629638672.\u001b[32m [repeated 118x across cluster]\u001b[0m\n",
      "\u001b[2m\u001b[36m(ClientAppActor pid=1320835)\u001b[0m \u001b[32m [repeated 72x across cluster]\u001b[0m\n",
      "\u001b[2m\u001b[36m(ClientAppActor pid=1320835)\u001b[0m Epoch 45/100\u001b[32m [repeated 72x across cluster]\u001b[0m\n",
      "\u001b[2m\u001b[36m(ClientAppActor pid=1320835)\u001b[0m Epoch 44: Training accuracy: 69.61077880859375 Testing accuracy: 72.45509338378906.\u001b[32m [repeated 73x across cluster]\u001b[0m\n",
      "\u001b[2m\u001b[36m(ClientAppActor pid=1320835)\u001b[0m \u001b[32m [repeated 10x across cluster]\u001b[0m\n",
      "\u001b[2m\u001b[36m(ClientAppActor pid=1320835)\u001b[0m Epoch 55/100\u001b[32m [repeated 10x across cluster]\u001b[0m\n",
      "\u001b[2m\u001b[36m(ClientAppActor pid=1320835)\u001b[0m Epoch 54: Training accuracy: 74.02694702148438 Testing accuracy: 65.8682632446289.\u001b[32m [repeated 10x across cluster]\u001b[0m\n",
      "\u001b[2m\u001b[36m(ClientAppActor pid=1320835)\u001b[0m \u001b[32m [repeated 13x across cluster]\u001b[0m\n",
      "\u001b[2m\u001b[36m(ClientAppActor pid=1320835)\u001b[0m Epoch 68/100\u001b[32m [repeated 13x across cluster]\u001b[0m\n",
      "\u001b[2m\u001b[36m(ClientAppActor pid=1320835)\u001b[0m Epoch 67: Training accuracy: 66.99102020263672 Testing accuracy: 59.88024139404297.\u001b[32m [repeated 13x across cluster]\u001b[0m\n",
      "\u001b[2m\u001b[36m(ClientAppActor pid=1320835)\u001b[0m \u001b[32m [repeated 19x across cluster]\u001b[0m\n",
      "\u001b[2m\u001b[36m(ClientAppActor pid=1320835)\u001b[0m Epoch 87/100\u001b[32m [repeated 19x across cluster]\u001b[0m\n",
      "\u001b[2m\u001b[36m(ClientAppActor pid=1320835)\u001b[0m Epoch 86: Training accuracy: 69.8353271484375 Testing accuracy: 71.85628509521484.\u001b[32m [repeated 19x across cluster]\u001b[0m\n",
      "\u001b[2m\u001b[36m(ClientAppActor pid=1320835)\u001b[0m \u001b[32m [repeated 7x across cluster]\u001b[0m\n",
      "\u001b[2m\u001b[36m(ClientAppActor pid=1320835)\u001b[0m Epoch 94/100\u001b[32m [repeated 7x across cluster]\u001b[0m\n",
      "\u001b[2m\u001b[36m(ClientAppActor pid=1320835)\u001b[0m Epoch 93: Training accuracy: 72.97904205322266 Testing accuracy: 64.07185363769531.\u001b[32m [repeated 7x across cluster]\u001b[0m\n",
      "\u001b[2m\u001b[36m(ClientAppActor pid=1320835)\u001b[0m \u001b[32m [repeated 6x across cluster]\u001b[0m\n",
      "\u001b[2m\u001b[36m(ClientAppActor pid=1320835)\u001b[0m Epoch 100/100\u001b[32m [repeated 6x across cluster]\u001b[0m\n",
      "\u001b[2m\u001b[36m(ClientAppActor pid=1320835)\u001b[0m Epoch 99: Training accuracy: 74.02694702148438 Testing accuracy: 67.06586456298828.\u001b[32m [repeated 6x across cluster]\u001b[0m\n"
     ]
    },
    {
     "name": "stderr",
     "output_type": "stream",
     "text": [
      "\u001b[92mINFO \u001b[0m:      aggregate_fit: received 3 results and 0 failures\n",
      "\u001b[92mINFO \u001b[0m:      fit progress: (3, 0.05127310752868652, {'accuracy': tensor(71.6738, device='cuda:0')}, 170.23835488699842)\n",
      "\u001b[92mINFO \u001b[0m:      configure_evaluate: strategy sampled 1 clients (out of 3)\n"
     ]
    },
    {
     "name": "stdout",
     "output_type": "stream",
     "text": [
      "Server-side evaluation loss 0.05127310752868652 / accuracy 71.67382049560547\n"
     ]
    },
    {
     "name": "stderr",
     "output_type": "stream",
     "text": [
      "\u001b[92mINFO \u001b[0m:      aggregate_evaluate: received 1 results and 0 failures\n",
      "\u001b[92mINFO \u001b[0m:      \n",
      "\u001b[92mINFO \u001b[0m:      [ROUND 4]\n",
      "\u001b[92mINFO \u001b[0m:      configure_fit: strategy sampled 3 clients (out of 3)\n"
     ]
    },
    {
     "name": "stdout",
     "output_type": "stream",
     "text": [
      "\u001b[2m\u001b[36m(ClientAppActor pid=1320832)\u001b[0m \u001b[32m [repeated 12x across cluster]\u001b[0m\n",
      "\u001b[2m\u001b[36m(ClientAppActor pid=1320832)\u001b[0m Epoch 7/100\u001b[32m [repeated 12x across cluster]\u001b[0m\n",
      "\u001b[2m\u001b[36m(ClientAppActor pid=1320832)\u001b[0m Epoch 6: Training accuracy: 69.15680694580078 Testing accuracy: 68.0473403930664.\u001b[32m [repeated 11x across cluster]\u001b[0m\n",
      "\u001b[2m\u001b[36m(ClientAppActor pid=1320835)\u001b[0m \u001b[32m [repeated 15x across cluster]\u001b[0m\n",
      "\u001b[2m\u001b[36m(ClientAppActor pid=1320835)\u001b[0m Epoch 12/100\u001b[32m [repeated 15x across cluster]\u001b[0m\n",
      "\u001b[2m\u001b[36m(ClientAppActor pid=1320835)\u001b[0m Epoch 11: Training accuracy: 69.8353271484375 Testing accuracy: 60.479042053222656.\u001b[32m [repeated 15x across cluster]\u001b[0m\n",
      "\u001b[2m\u001b[36m(ClientAppActor pid=1320835)\u001b[0m \u001b[32m [repeated 16x across cluster]\u001b[0m\n",
      "\u001b[2m\u001b[36m(ClientAppActor pid=1320835)\u001b[0m Epoch 19/100\u001b[32m [repeated 16x across cluster]\u001b[0m\n",
      "\u001b[2m\u001b[36m(ClientAppActor pid=1320835)\u001b[0m Epoch 18: Training accuracy: 69.3113784790039 Testing accuracy: 71.25748443603516.\u001b[32m [repeated 16x across cluster]\u001b[0m\n",
      "\u001b[2m\u001b[36m(ClientAppActor pid=1320832)\u001b[0m \u001b[32m [repeated 14x across cluster]\u001b[0m\n",
      "\u001b[2m\u001b[36m(ClientAppActor pid=1320832)\u001b[0m Epoch 32/100\u001b[32m [repeated 14x across cluster]\u001b[0m\n",
      "\u001b[2m\u001b[36m(ClientAppActor pid=1320832)\u001b[0m Epoch 31: Training accuracy: 72.78106689453125 Testing accuracy: 68.63905334472656.\u001b[32m [repeated 14x across cluster]\u001b[0m\n",
      "\u001b[2m\u001b[36m(ClientAppActor pid=1320832)\u001b[0m \u001b[32m [repeated 17x across cluster]\u001b[0m\n",
      "\u001b[2m\u001b[36m(ClientAppActor pid=1320832)\u001b[0m Epoch 42/100\u001b[32m [repeated 17x across cluster]\u001b[0m\n",
      "\u001b[2m\u001b[36m(ClientAppActor pid=1320832)\u001b[0m Epoch 41: Training accuracy: 68.86094665527344 Testing accuracy: 66.27218627929688.\u001b[32m [repeated 17x across cluster]\u001b[0m\n",
      "\u001b[2m\u001b[36m(ClientAppActor pid=1320835)\u001b[0m \u001b[32m [repeated 22x across cluster]\u001b[0m\n",
      "\u001b[2m\u001b[36m(ClientAppActor pid=1320835)\u001b[0m Epoch 40/100\u001b[32m [repeated 22x across cluster]\u001b[0m\n",
      "\u001b[2m\u001b[36m(ClientAppActor pid=1320835)\u001b[0m Epoch 39: Training accuracy: 73.42814636230469 Testing accuracy: 71.85628509521484.\u001b[32m [repeated 22x across cluster]\u001b[0m\n",
      "\u001b[2m\u001b[36m(ClientAppActor pid=1320832)\u001b[0m \u001b[32m [repeated 24x across cluster]\u001b[0m\n",
      "\u001b[2m\u001b[36m(ClientAppActor pid=1320832)\u001b[0m Epoch 70/100\u001b[32m [repeated 24x across cluster]\u001b[0m\n",
      "\u001b[2m\u001b[36m(ClientAppActor pid=1320832)\u001b[0m Epoch 69: Training accuracy: 72.63313293457031 Testing accuracy: 69.8224868774414.\u001b[32m [repeated 24x across cluster]\u001b[0m\n",
      "\u001b[2m\u001b[36m(ClientAppActor pid=1320835)\u001b[0m \u001b[32m [repeated 25x across cluster]\u001b[0m\n",
      "\u001b[2m\u001b[36m(ClientAppActor pid=1320835)\u001b[0m Epoch 61/100\u001b[32m [repeated 25x across cluster]\u001b[0m\n",
      "\u001b[2m\u001b[36m(ClientAppActor pid=1320835)\u001b[0m Epoch 60: Training accuracy: 70.50897979736328 Testing accuracy: 61.6766471862793.\u001b[32m [repeated 25x across cluster]\u001b[0m\n",
      "\u001b[2m\u001b[36m(ClientAppActor pid=1320835)\u001b[0m \u001b[32m [repeated 26x across cluster]\u001b[0m\n",
      "\u001b[2m\u001b[36m(ClientAppActor pid=1320835)\u001b[0m Epoch 71/100\u001b[32m [repeated 26x across cluster]\u001b[0m\n",
      "\u001b[2m\u001b[36m(ClientAppActor pid=1320835)\u001b[0m Epoch 70: Training accuracy: 71.6317367553711 Testing accuracy: 62.87425231933594.\u001b[32m [repeated 26x across cluster]\u001b[0m\n",
      "\u001b[2m\u001b[36m(ClientAppActor pid=1320835)\u001b[0m \u001b[32m [repeated 16x across cluster]\u001b[0m\n",
      "\u001b[2m\u001b[36m(ClientAppActor pid=1320835)\u001b[0m Epoch 78/100\u001b[32m [repeated 16x across cluster]\u001b[0m\n",
      "\u001b[2m\u001b[36m(ClientAppActor pid=1320835)\u001b[0m Epoch 77: Training accuracy: 71.70658874511719 Testing accuracy: 62.87425231933594.\u001b[32m [repeated 16x across cluster]\u001b[0m\n",
      "\u001b[2m\u001b[36m(ClientAppActor pid=1320835)\u001b[0m \u001b[32m [repeated 18x across cluster]\u001b[0m\n",
      "\u001b[2m\u001b[36m(ClientAppActor pid=1320835)\u001b[0m Epoch 85/100\u001b[32m [repeated 18x across cluster]\u001b[0m\n",
      "\u001b[2m\u001b[36m(ClientAppActor pid=1320835)\u001b[0m Epoch 84: Training accuracy: 66.24251556396484 Testing accuracy: 69.46107482910156.\u001b[32m [repeated 18x across cluster]\u001b[0m\n",
      "\u001b[2m\u001b[36m(ClientAppActor pid=1320832)\u001b[0m \u001b[32m [repeated 20x across cluster]\u001b[0m\n",
      "\u001b[2m\u001b[36m(ClientAppActor pid=1320832)\u001b[0m Epoch 34/100\u001b[32m [repeated 20x across cluster]\u001b[0m\n",
      "\u001b[2m\u001b[36m(ClientAppActor pid=1320832)\u001b[0m Epoch 33: Training accuracy: 71.63461303710938 Testing accuracy: 73.07691955566406.\u001b[32m [repeated 20x across cluster]\u001b[0m\n",
      "\u001b[2m\u001b[36m(ClientAppActor pid=1320835)\u001b[0m \u001b[32m [repeated 20x across cluster]\u001b[0m\n",
      "\u001b[2m\u001b[36m(ClientAppActor pid=1320835)\u001b[0m Epoch 98/100\u001b[32m [repeated 20x across cluster]\u001b[0m\n",
      "\u001b[2m\u001b[36m(ClientAppActor pid=1320835)\u001b[0m Epoch 97: Training accuracy: 74.62574768066406 Testing accuracy: 71.25748443603516.\u001b[32m [repeated 20x across cluster]\u001b[0m\n",
      "\u001b[2m\u001b[36m(ClientAppActor pid=1320832)\u001b[0m \u001b[32m [repeated 25x across cluster]\u001b[0m\n",
      "\u001b[2m\u001b[36m(ClientAppActor pid=1320832)\u001b[0m Epoch 70/100\u001b[32m [repeated 25x across cluster]\u001b[0m\n",
      "\u001b[2m\u001b[36m(ClientAppActor pid=1320832)\u001b[0m Epoch 69: Training accuracy: 75.24038696289062 Testing accuracy: 74.35897064208984.\u001b[32m [repeated 26x across cluster]\u001b[0m\n",
      "\u001b[2m\u001b[36m(ClientAppActor pid=1320832)\u001b[0m \u001b[32m [repeated 22x across cluster]\u001b[0m\n",
      "\u001b[2m\u001b[36m(ClientAppActor pid=1320832)\u001b[0m Epoch 92/100\u001b[32m [repeated 22x across cluster]\u001b[0m\n",
      "\u001b[2m\u001b[36m(ClientAppActor pid=1320832)\u001b[0m Epoch 91: Training accuracy: 72.67628479003906 Testing accuracy: 76.28205108642578.\u001b[32m [repeated 22x across cluster]\u001b[0m\n"
     ]
    },
    {
     "name": "stderr",
     "output_type": "stream",
     "text": [
      "\u001b[92mINFO \u001b[0m:      aggregate_fit: received 3 results and 0 failures\n",
      "\u001b[92mINFO \u001b[0m:      fit progress: (4, 0.05180619521574541, {'accuracy': tensor(70.9585, device='cuda:0')}, 248.28828007999982)\n",
      "\u001b[92mINFO \u001b[0m:      configure_evaluate: strategy sampled 1 clients (out of 3)\n",
      "\u001b[92mINFO \u001b[0m:      aggregate_evaluate: received 1 results and 0 failures\n",
      "\u001b[92mINFO \u001b[0m:      \n",
      "\u001b[92mINFO \u001b[0m:      [ROUND 5]\n",
      "\u001b[92mINFO \u001b[0m:      configure_fit: strategy sampled 3 clients (out of 3)\n"
     ]
    },
    {
     "name": "stdout",
     "output_type": "stream",
     "text": [
      "Server-side evaluation loss 0.05180619521574541 / accuracy 70.95851135253906\n",
      "\u001b[2m\u001b[36m(ClientAppActor pid=1320832)\u001b[0m \u001b[32m [repeated 32x across cluster]\u001b[0m\n",
      "\u001b[2m\u001b[36m(ClientAppActor pid=1320832)\u001b[0m Epoch 19/100\u001b[32m [repeated 32x across cluster]\u001b[0m\n",
      "\u001b[2m\u001b[36m(ClientAppActor pid=1320832)\u001b[0m Epoch 18: Training accuracy: 73.42814636230469 Testing accuracy: 68.26347351074219.\u001b[32m [repeated 31x across cluster]\u001b[0m\n",
      "\u001b[2m\u001b[36m(ClientAppActor pid=1320835)\u001b[0m \u001b[32m [repeated 37x across cluster]\u001b[0m\n",
      "\u001b[2m\u001b[36m(ClientAppActor pid=1320835)\u001b[0m Epoch 12/100\u001b[32m [repeated 37x across cluster]\u001b[0m\n",
      "\u001b[2m\u001b[36m(ClientAppActor pid=1320835)\u001b[0m Epoch 11: Training accuracy: 74.2603530883789 Testing accuracy: 70.41419982910156.\u001b[32m [repeated 37x across cluster]\u001b[0m\n",
      "\u001b[2m\u001b[36m(ClientAppActor pid=1320835)\u001b[0m \u001b[32m [repeated 33x across cluster]\u001b[0m\n",
      "\u001b[2m\u001b[36m(ClientAppActor pid=1320835)\u001b[0m Epoch 18/100\u001b[32m [repeated 33x across cluster]\u001b[0m\n",
      "\u001b[2m\u001b[36m(ClientAppActor pid=1320835)\u001b[0m Epoch 17: Training accuracy: 74.03845977783203 Testing accuracy: 70.41419982910156.\u001b[32m [repeated 33x across cluster]\u001b[0m\n",
      "\u001b[2m\u001b[36m(ClientAppActor pid=1320835)\u001b[0m \u001b[32m [repeated 76x across cluster]\u001b[0m\n",
      "\u001b[2m\u001b[36m(ClientAppActor pid=1320835)\u001b[0m Epoch 25/100\u001b[32m [repeated 76x across cluster]\u001b[0m\n",
      "\u001b[2m\u001b[36m(ClientAppActor pid=1320835)\u001b[0m Epoch 24: Training accuracy: 74.33432006835938 Testing accuracy: 69.8224868774414.\u001b[32m [repeated 76x across cluster]\u001b[0m\n"
     ]
    },
    {
     "name": "stderr",
     "output_type": "stream",
     "text": [
      "\u001b[92mINFO \u001b[0m:      aggregate_fit: received 3 results and 0 failures\n",
      "\u001b[92mINFO \u001b[0m:      fit progress: (5, 0.051353227008472786, {'accuracy': tensor(72.8183, device='cuda:0')}, 272.72486058301)\n",
      "\u001b[92mINFO \u001b[0m:      configure_evaluate: strategy sampled 1 clients (out of 3)\n",
      "\u001b[92mINFO \u001b[0m:      aggregate_evaluate: received 1 results and 0 failures\n",
      "\u001b[92mINFO \u001b[0m:      \n",
      "\u001b[92mINFO \u001b[0m:      [ROUND 6]\n",
      "\u001b[92mINFO \u001b[0m:      configure_fit: strategy sampled 3 clients (out of 3)\n"
     ]
    },
    {
     "name": "stdout",
     "output_type": "stream",
     "text": [
      "Server-side evaluation loss 0.051353227008472786 / accuracy 72.81831359863281\n",
      "\u001b[2m\u001b[36m(ClientAppActor pid=1320835)\u001b[0m \u001b[32m [repeated 137x across cluster]\u001b[0m\n",
      "\u001b[2m\u001b[36m(ClientAppActor pid=1320835)\u001b[0m Epoch 5/100\u001b[32m [repeated 137x across cluster]\u001b[0m\n",
      "\u001b[2m\u001b[36m(ClientAppActor pid=1320835)\u001b[0m Epoch 4: Training accuracy: 72.59615325927734 Testing accuracy: 73.71794891357422.\u001b[32m [repeated 137x across cluster]\u001b[0m\n",
      "\u001b[2m\u001b[36m(ClientAppActor pid=1320835)\u001b[0m \u001b[32m [repeated 82x across cluster]\u001b[0m\n",
      "\u001b[2m\u001b[36m(ClientAppActor pid=1320835)\u001b[0m Epoch 56/100\u001b[32m [repeated 82x across cluster]\u001b[0m\n",
      "\u001b[2m\u001b[36m(ClientAppActor pid=1320835)\u001b[0m Epoch 55: Training accuracy: 77.32371520996094 Testing accuracy: 75.64102935791016.\u001b[32m [repeated 82x across cluster]\u001b[0m\n",
      "\u001b[2m\u001b[36m(ClientAppActor pid=1320835)\u001b[0m \u001b[32m [repeated 13x across cluster]\u001b[0m\n",
      "\u001b[2m\u001b[36m(ClientAppActor pid=1320835)\u001b[0m Epoch 62/100\u001b[32m [repeated 13x across cluster]\u001b[0m\n",
      "\u001b[2m\u001b[36m(ClientAppActor pid=1320835)\u001b[0m Epoch 61: Training accuracy: 77.48397064208984 Testing accuracy: 73.71794891357422.\u001b[32m [repeated 13x across cluster]\u001b[0m\n",
      "\u001b[2m\u001b[36m(ClientAppActor pid=1320832)\u001b[0m \u001b[32m [repeated 17x across cluster]\u001b[0m\n",
      "\u001b[2m\u001b[36m(ClientAppActor pid=1320832)\u001b[0m Epoch 50/100\u001b[32m [repeated 17x across cluster]\u001b[0m\n",
      "\u001b[2m\u001b[36m(ClientAppActor pid=1320832)\u001b[0m Epoch 49: Training accuracy: 75.7396469116211 Testing accuracy: 71.00592041015625.\u001b[32m [repeated 17x across cluster]\u001b[0m\n",
      "\u001b[2m\u001b[36m(ClientAppActor pid=1320832)\u001b[0m \u001b[32m [repeated 15x across cluster]\u001b[0m\n",
      "\u001b[2m\u001b[36m(ClientAppActor pid=1320832)\u001b[0m Epoch 59/100\u001b[32m [repeated 15x across cluster]\u001b[0m\n",
      "\u001b[2m\u001b[36m(ClientAppActor pid=1320832)\u001b[0m Epoch 58: Training accuracy: 75.81360626220703 Testing accuracy: 71.5976333618164.\u001b[32m [repeated 15x across cluster]\u001b[0m\n",
      "\u001b[2m\u001b[36m(ClientAppActor pid=1320832)\u001b[0m \u001b[32m [repeated 16x across cluster]\u001b[0m\n",
      "\u001b[2m\u001b[36m(ClientAppActor pid=1320832)\u001b[0m Epoch 67/100\u001b[32m [repeated 16x across cluster]\u001b[0m\n",
      "\u001b[2m\u001b[36m(ClientAppActor pid=1320832)\u001b[0m Epoch 66: Training accuracy: 74.40828704833984 Testing accuracy: 70.41419982910156.\u001b[32m [repeated 16x across cluster]\u001b[0m\n",
      "\u001b[2m\u001b[36m(ClientAppActor pid=1320835)\u001b[0m \u001b[32m [repeated 15x across cluster]\u001b[0m\n",
      "\u001b[2m\u001b[36m(ClientAppActor pid=1320835)\u001b[0m Epoch 90/100\u001b[32m [repeated 15x across cluster]\u001b[0m\n",
      "\u001b[2m\u001b[36m(ClientAppActor pid=1320835)\u001b[0m Epoch 89: Training accuracy: 75.1602554321289 Testing accuracy: 73.07691955566406.\u001b[32m [repeated 15x across cluster]\u001b[0m\n",
      "\u001b[2m\u001b[36m(ClientAppActor pid=1320835)\u001b[0m \u001b[32m [repeated 16x across cluster]\u001b[0m\n",
      "\u001b[2m\u001b[36m(ClientAppActor pid=1320835)\u001b[0m Epoch 97/100\u001b[32m [repeated 16x across cluster]\u001b[0m\n",
      "\u001b[2m\u001b[36m(ClientAppActor pid=1320835)\u001b[0m Epoch 96: Training accuracy: 79.4871826171875 Testing accuracy: 76.92308044433594.\u001b[32m [repeated 16x across cluster]\u001b[0m\n",
      "\u001b[2m\u001b[36m(ClientAppActor pid=1320835)\u001b[0m \u001b[32m [repeated 14x across cluster]\u001b[0m\n",
      "\u001b[2m\u001b[36m(ClientAppActor pid=1320835)\u001b[0m Epoch 3/100\u001b[32m [repeated 14x across cluster]\u001b[0m\n",
      "\u001b[2m\u001b[36m(ClientAppActor pid=1320835)\u001b[0m Epoch 2: Training accuracy: 72.90419006347656 Testing accuracy: 74.85029602050781.\u001b[32m [repeated 14x across cluster]\u001b[0m\n",
      "\u001b[2m\u001b[36m(ClientAppActor pid=1320835)\u001b[0m \u001b[32m [repeated 15x across cluster]\u001b[0m\n",
      "\u001b[2m\u001b[36m(ClientAppActor pid=1320835)\u001b[0m Epoch 10/100\u001b[32m [repeated 15x across cluster]\u001b[0m\n",
      "\u001b[2m\u001b[36m(ClientAppActor pid=1320835)\u001b[0m Epoch 9: Training accuracy: 75.0 Testing accuracy: 74.85029602050781.\u001b[32m [repeated 15x across cluster]\u001b[0m\n",
      "\u001b[2m\u001b[36m(ClientAppActor pid=1320835)\u001b[0m \u001b[32m [repeated 7x across cluster]\u001b[0m\n",
      "\u001b[2m\u001b[36m(ClientAppActor pid=1320835)\u001b[0m Epoch 17/100\u001b[32m [repeated 7x across cluster]\u001b[0m\n",
      "\u001b[2m\u001b[36m(ClientAppActor pid=1320835)\u001b[0m Epoch 16: Training accuracy: 74.25149536132812 Testing accuracy: 71.85628509521484.\u001b[32m [repeated 8x across cluster]\u001b[0m\n",
      "\u001b[2m\u001b[36m(ClientAppActor pid=1320835)\u001b[0m \u001b[32m [repeated 8x across cluster]\u001b[0m\n",
      "\u001b[2m\u001b[36m(ClientAppActor pid=1320835)\u001b[0m Epoch 25/100\u001b[32m [repeated 8x across cluster]\u001b[0m\n",
      "\u001b[2m\u001b[36m(ClientAppActor pid=1320835)\u001b[0m Epoch 24: Training accuracy: 72.38024139404297 Testing accuracy: 64.67066192626953.\u001b[32m [repeated 8x across cluster]\u001b[0m\n",
      "\u001b[2m\u001b[36m(ClientAppActor pid=1320835)\u001b[0m \u001b[32m [repeated 6x across cluster]\u001b[0m\n",
      "\u001b[2m\u001b[36m(ClientAppActor pid=1320835)\u001b[0m Epoch 31/100\u001b[32m [repeated 6x across cluster]\u001b[0m\n",
      "\u001b[2m\u001b[36m(ClientAppActor pid=1320835)\u001b[0m Epoch 30: Training accuracy: 73.2784423828125 Testing accuracy: 72.45509338378906.\u001b[32m [repeated 6x across cluster]\u001b[0m\n",
      "\u001b[2m\u001b[36m(ClientAppActor pid=1320835)\u001b[0m \u001b[32m [repeated 8x across cluster]\u001b[0m\n",
      "\u001b[2m\u001b[36m(ClientAppActor pid=1320835)\u001b[0m Epoch 39/100\u001b[32m [repeated 8x across cluster]\u001b[0m\n",
      "\u001b[2m\u001b[36m(ClientAppActor pid=1320835)\u001b[0m Epoch 38: Training accuracy: 76.27245330810547 Testing accuracy: 69.46107482910156.\u001b[32m [repeated 8x across cluster]\u001b[0m\n",
      "\u001b[2m\u001b[36m(ClientAppActor pid=1320835)\u001b[0m \u001b[32m [repeated 9x across cluster]\u001b[0m\n",
      "\u001b[2m\u001b[36m(ClientAppActor pid=1320835)\u001b[0m Epoch 48/100\u001b[32m [repeated 9x across cluster]\u001b[0m\n",
      "\u001b[2m\u001b[36m(ClientAppActor pid=1320835)\u001b[0m Epoch 47: Training accuracy: 77.2455062866211 Testing accuracy: 73.65269470214844.\u001b[32m [repeated 9x across cluster]\u001b[0m\n",
      "\u001b[2m\u001b[36m(ClientAppActor pid=1320835)\u001b[0m \u001b[32m [repeated 11x across cluster]\u001b[0m\n",
      "\u001b[2m\u001b[36m(ClientAppActor pid=1320835)\u001b[0m Epoch 59/100\u001b[32m [repeated 11x across cluster]\u001b[0m\n",
      "\u001b[2m\u001b[36m(ClientAppActor pid=1320835)\u001b[0m Epoch 58: Training accuracy: 68.41316986083984 Testing accuracy: 71.85628509521484.\u001b[32m [repeated 11x across cluster]\u001b[0m\n",
      "\u001b[2m\u001b[36m(ClientAppActor pid=1320835)\u001b[0m \u001b[32m [repeated 11x across cluster]\u001b[0m\n",
      "\u001b[2m\u001b[36m(ClientAppActor pid=1320835)\u001b[0m Epoch 70/100\u001b[32m [repeated 11x across cluster]\u001b[0m\n",
      "\u001b[2m\u001b[36m(ClientAppActor pid=1320835)\u001b[0m Epoch 69: Training accuracy: 77.09580993652344 Testing accuracy: 76.04790496826172.\u001b[32m [repeated 11x across cluster]\u001b[0m\n",
      "\u001b[2m\u001b[36m(ClientAppActor pid=1320835)\u001b[0m \u001b[32m [repeated 8x across cluster]\u001b[0m\n",
      "\u001b[2m\u001b[36m(ClientAppActor pid=1320835)\u001b[0m Epoch 78/100\u001b[32m [repeated 8x across cluster]\u001b[0m\n",
      "\u001b[2m\u001b[36m(ClientAppActor pid=1320835)\u001b[0m Epoch 77: Training accuracy: 77.32035827636719 Testing accuracy: 76.6467056274414.\u001b[32m [repeated 8x across cluster]\u001b[0m\n",
      "\u001b[2m\u001b[36m(ClientAppActor pid=1320835)\u001b[0m \u001b[32m [repeated 9x across cluster]\u001b[0m\n",
      "\u001b[2m\u001b[36m(ClientAppActor pid=1320835)\u001b[0m Epoch 87/100\u001b[32m [repeated 9x across cluster]\u001b[0m\n",
      "\u001b[2m\u001b[36m(ClientAppActor pid=1320835)\u001b[0m Epoch 86: Training accuracy: 76.94610595703125 Testing accuracy: 74.25149536132812.\u001b[32m [repeated 9x across cluster]\u001b[0m\n",
      "\u001b[2m\u001b[36m(ClientAppActor pid=1320835)\u001b[0m \u001b[32m [repeated 8x across cluster]\u001b[0m\n",
      "\u001b[2m\u001b[36m(ClientAppActor pid=1320835)\u001b[0m Epoch 95/100\u001b[32m [repeated 8x across cluster]\u001b[0m\n",
      "\u001b[2m\u001b[36m(ClientAppActor pid=1320835)\u001b[0m Epoch 94: Training accuracy: 77.09580993652344 Testing accuracy: 76.04790496826172.\u001b[32m [repeated 8x across cluster]\u001b[0m\n"
     ]
    },
    {
     "name": "stderr",
     "output_type": "stream",
     "text": [
      "\u001b[92mINFO \u001b[0m:      aggregate_fit: received 3 results and 0 failures\n",
      "\u001b[92mINFO \u001b[0m:      fit progress: (6, 0.052127702669663864, {'accuracy': tensor(67.9542, device='cuda:0')}, 377.9952523079992)\n",
      "\u001b[92mINFO \u001b[0m:      configure_evaluate: strategy sampled 1 clients (out of 3)\n"
     ]
    },
    {
     "name": "stdout",
     "output_type": "stream",
     "text": [
      "Server-side evaluation loss 0.052127702669663864 / accuracy 67.9542236328125\n"
     ]
    },
    {
     "name": "stderr",
     "output_type": "stream",
     "text": [
      "\u001b[92mINFO \u001b[0m:      aggregate_evaluate: received 1 results and 0 failures\n",
      "\u001b[92mINFO \u001b[0m:      \n",
      "\u001b[92mINFO \u001b[0m:      [ROUND 7]\n",
      "\u001b[92mINFO \u001b[0m:      configure_fit: strategy sampled 3 clients (out of 3)\n"
     ]
    },
    {
     "name": "stdout",
     "output_type": "stream",
     "text": [
      "\u001b[2m\u001b[36m(ClientAppActor pid=1320832)\u001b[0m \u001b[32m [repeated 12x across cluster]\u001b[0m\n",
      "\u001b[2m\u001b[36m(ClientAppActor pid=1320832)\u001b[0m Epoch 5/100\u001b[32m [repeated 12x across cluster]\u001b[0m\n",
      "\u001b[2m\u001b[36m(ClientAppActor pid=1320832)\u001b[0m Epoch 4: Training accuracy: 74.19871520996094 Testing accuracy: 74.35897064208984.\u001b[32m [repeated 11x across cluster]\u001b[0m\n",
      "\u001b[2m\u001b[36m(ClientAppActor pid=1320832)\u001b[0m \u001b[32m [repeated 31x across cluster]\u001b[0m\n",
      "\u001b[2m\u001b[36m(ClientAppActor pid=1320832)\u001b[0m Epoch 27/100\u001b[32m [repeated 31x across cluster]\u001b[0m\n",
      "\u001b[2m\u001b[36m(ClientAppActor pid=1320832)\u001b[0m Epoch 26: Training accuracy: 77.72435760498047 Testing accuracy: 75.64102935791016.\u001b[32m [repeated 31x across cluster]\u001b[0m\n",
      "\u001b[2m\u001b[36m(ClientAppActor pid=1320835)\u001b[0m \u001b[32m [repeated 28x across cluster]\u001b[0m\n",
      "\u001b[2m\u001b[36m(ClientAppActor pid=1320835)\u001b[0m Epoch 19/100\u001b[32m [repeated 28x across cluster]\u001b[0m\n",
      "\u001b[2m\u001b[36m(ClientAppActor pid=1320835)\u001b[0m Epoch 18: Training accuracy: 72.7544937133789 Testing accuracy: 65.26946258544922.\u001b[32m [repeated 28x across cluster]\u001b[0m\n",
      "\u001b[2m\u001b[36m(ClientAppActor pid=1320835)\u001b[0m \u001b[32m [repeated 30x across cluster]\u001b[0m\n",
      "\u001b[2m\u001b[36m(ClientAppActor pid=1320835)\u001b[0m Epoch 30/100\u001b[32m [repeated 30x across cluster]\u001b[0m\n",
      "\u001b[2m\u001b[36m(ClientAppActor pid=1320835)\u001b[0m Epoch 29: Training accuracy: 71.4820327758789 Testing accuracy: 74.25149536132812.\u001b[32m [repeated 30x across cluster]\u001b[0m\n",
      "\u001b[2m\u001b[36m(ClientAppActor pid=1320835)\u001b[0m \u001b[32m [repeated 116x across cluster]\u001b[0m\n",
      "\u001b[2m\u001b[36m(ClientAppActor pid=1320835)\u001b[0m Epoch 58/100\u001b[32m [repeated 116x across cluster]\u001b[0m\n",
      "\u001b[2m\u001b[36m(ClientAppActor pid=1320835)\u001b[0m Epoch 57: Training accuracy: 77.47006225585938 Testing accuracy: 71.85628509521484.\u001b[32m [repeated 116x across cluster]\u001b[0m\n",
      "\u001b[2m\u001b[36m(ClientAppActor pid=1320835)\u001b[0m \u001b[32m [repeated 76x across cluster]\u001b[0m\n",
      "\u001b[2m\u001b[36m(ClientAppActor pid=1320835)\u001b[0m Epoch 88/100\u001b[32m [repeated 76x across cluster]\u001b[0m\n",
      "\u001b[2m\u001b[36m(ClientAppActor pid=1320835)\u001b[0m Epoch 87: Training accuracy: 75.14970397949219 Testing accuracy: 68.26347351074219.\u001b[32m [repeated 77x across cluster]\u001b[0m\n",
      "\u001b[2m\u001b[36m(ClientAppActor pid=1320835)\u001b[0m \u001b[32m [repeated 11x across cluster]\u001b[0m\n",
      "\u001b[2m\u001b[36m(ClientAppActor pid=1320835)\u001b[0m Epoch 99/100\u001b[32m [repeated 11x across cluster]\u001b[0m\n",
      "\u001b[2m\u001b[36m(ClientAppActor pid=1320835)\u001b[0m Epoch 98: Training accuracy: 77.69461059570312 Testing accuracy: 72.45509338378906.\u001b[32m [repeated 11x across cluster]\u001b[0m\n"
     ]
    },
    {
     "name": "stderr",
     "output_type": "stream",
     "text": [
      "\u001b[92mINFO \u001b[0m:      aggregate_fit: received 3 results and 0 failures\n",
      "\u001b[92mINFO \u001b[0m:      fit progress: (7, 0.05120925469831987, {'accuracy': tensor(72.6752, device='cuda:0')}, 411.4871955490089)\n",
      "\u001b[92mINFO \u001b[0m:      configure_evaluate: strategy sampled 1 clients (out of 3)\n",
      "\u001b[92mINFO \u001b[0m:      aggregate_evaluate: received 1 results and 0 failures\n",
      "\u001b[92mINFO \u001b[0m:      \n",
      "\u001b[92mINFO \u001b[0m:      [ROUND 8]\n",
      "\u001b[92mINFO \u001b[0m:      configure_fit: strategy sampled 3 clients (out of 3)\n"
     ]
    },
    {
     "name": "stdout",
     "output_type": "stream",
     "text": [
      "Server-side evaluation loss 0.05120925469831987 / accuracy 72.67524719238281\n",
      "\u001b[2m\u001b[36m(ClientAppActor pid=1320835)\u001b[0m \u001b[32m [repeated 29x across cluster]\u001b[0m\n",
      "\u001b[2m\u001b[36m(ClientAppActor pid=1320835)\u001b[0m Epoch 10/100\u001b[32m [repeated 29x across cluster]\u001b[0m\n",
      "\u001b[2m\u001b[36m(ClientAppActor pid=1320835)\u001b[0m Epoch 9: Training accuracy: 77.81065368652344 Testing accuracy: 74.55621337890625.\u001b[32m [repeated 28x across cluster]\u001b[0m\n",
      "\u001b[2m\u001b[36m(ClientAppActor pid=1320835)\u001b[0m \u001b[32m [repeated 27x across cluster]\u001b[0m\n",
      "\u001b[2m\u001b[36m(ClientAppActor pid=1320835)\u001b[0m Epoch 24/100\u001b[32m [repeated 27x across cluster]\u001b[0m\n",
      "\u001b[2m\u001b[36m(ClientAppActor pid=1320835)\u001b[0m Epoch 23: Training accuracy: 78.99407958984375 Testing accuracy: 75.7396469116211.\u001b[32m [repeated 27x across cluster]\u001b[0m\n",
      "\u001b[2m\u001b[36m(ClientAppActor pid=1320835)\u001b[0m \u001b[32m [repeated 14x across cluster]\u001b[0m\n",
      "\u001b[2m\u001b[36m(ClientAppActor pid=1320835)\u001b[0m Epoch 30/100\u001b[32m [repeated 14x across cluster]\u001b[0m\n",
      "\u001b[2m\u001b[36m(ClientAppActor pid=1320835)\u001b[0m Epoch 29: Training accuracy: 79.58580017089844 Testing accuracy: 76.33135986328125.\u001b[32m [repeated 14x across cluster]\u001b[0m\n",
      "\u001b[2m\u001b[36m(ClientAppActor pid=1320832)\u001b[0m \u001b[32m [repeated 16x across cluster]\u001b[0m\n",
      "\u001b[2m\u001b[36m(ClientAppActor pid=1320832)\u001b[0m Epoch 49/100\u001b[32m [repeated 16x across cluster]\u001b[0m\n",
      "\u001b[2m\u001b[36m(ClientAppActor pid=1320832)\u001b[0m Epoch 48: Training accuracy: 77.84431457519531 Testing accuracy: 73.05389404296875.\u001b[32m [repeated 16x across cluster]\u001b[0m\n",
      "\u001b[2m\u001b[36m(ClientAppActor pid=1320832)\u001b[0m \u001b[32m [repeated 15x across cluster]\u001b[0m\n",
      "\u001b[2m\u001b[36m(ClientAppActor pid=1320832)\u001b[0m Epoch 58/100\u001b[32m [repeated 15x across cluster]\u001b[0m\n",
      "\u001b[2m\u001b[36m(ClientAppActor pid=1320832)\u001b[0m Epoch 57: Training accuracy: 70.95808410644531 Testing accuracy: 62.275447845458984.\u001b[32m [repeated 15x across cluster]\u001b[0m\n",
      "\u001b[2m\u001b[36m(ClientAppActor pid=1320835)\u001b[0m \u001b[32m [repeated 15x across cluster]\u001b[0m\n",
      "\u001b[2m\u001b[36m(ClientAppActor pid=1320835)\u001b[0m Epoch 49/100\u001b[32m [repeated 15x across cluster]\u001b[0m\n",
      "\u001b[2m\u001b[36m(ClientAppActor pid=1320835)\u001b[0m Epoch 48: Training accuracy: 77.88461303710938 Testing accuracy: 74.55621337890625.\u001b[32m [repeated 15x across cluster]\u001b[0m\n",
      "\u001b[2m\u001b[36m(ClientAppActor pid=1320835)\u001b[0m \u001b[32m [repeated 15x across cluster]\u001b[0m\n",
      "\u001b[2m\u001b[36m(ClientAppActor pid=1320835)\u001b[0m Epoch 55/100\u001b[32m [repeated 15x across cluster]\u001b[0m\n",
      "\u001b[2m\u001b[36m(ClientAppActor pid=1320835)\u001b[0m Epoch 54: Training accuracy: 80.32544708251953 Testing accuracy: 77.5147933959961.\u001b[32m [repeated 15x across cluster]\u001b[0m\n",
      "\u001b[2m\u001b[36m(ClientAppActor pid=1320832)\u001b[0m \u001b[32m [repeated 15x across cluster]\u001b[0m\n",
      "\u001b[2m\u001b[36m(ClientAppActor pid=1320832)\u001b[0m Epoch 84/100\u001b[32m [repeated 15x across cluster]\u001b[0m\n",
      "\u001b[2m\u001b[36m(ClientAppActor pid=1320832)\u001b[0m Epoch 83: Training accuracy: 80.1646728515625 Testing accuracy: 78.443115234375.\u001b[32m [repeated 15x across cluster]\u001b[0m\n",
      "\u001b[2m\u001b[36m(ClientAppActor pid=1320832)\u001b[0m \u001b[32m [repeated 16x across cluster]\u001b[0m\n",
      "\u001b[2m\u001b[36m(ClientAppActor pid=1320832)\u001b[0m Epoch 94/100\u001b[32m [repeated 16x across cluster]\u001b[0m\n",
      "\u001b[2m\u001b[36m(ClientAppActor pid=1320832)\u001b[0m Epoch 93: Training accuracy: 79.56586456298828 Testing accuracy: 79.04191589355469.\u001b[32m [repeated 16x across cluster]\u001b[0m\n",
      "\u001b[2m\u001b[36m(ClientAppActor pid=1320832)\u001b[0m \u001b[32m [repeated 23x across cluster]\u001b[0m\n",
      "\u001b[2m\u001b[36m(ClientAppActor pid=1320832)\u001b[0m Epoch 8/100\u001b[32m [repeated 23x across cluster]\u001b[0m\n",
      "\u001b[2m\u001b[36m(ClientAppActor pid=1320832)\u001b[0m Epoch 7: Training accuracy: 73.95833587646484 Testing accuracy: 74.35897064208984.\u001b[32m [repeated 23x across cluster]\u001b[0m\n",
      "\u001b[2m\u001b[36m(ClientAppActor pid=1320832)\u001b[0m \u001b[32m [repeated 24x across cluster]\u001b[0m\n",
      "\u001b[2m\u001b[36m(ClientAppActor pid=1320832)\u001b[0m Epoch 22/100\u001b[32m [repeated 24x across cluster]\u001b[0m\n",
      "\u001b[2m\u001b[36m(ClientAppActor pid=1320832)\u001b[0m Epoch 21: Training accuracy: 71.15384674072266 Testing accuracy: 71.79486846923828.\u001b[32m [repeated 24x across cluster]\u001b[0m\n",
      "\u001b[2m\u001b[36m(ClientAppActor pid=1320832)\u001b[0m \u001b[32m [repeated 27x across cluster]\u001b[0m\n",
      "\u001b[2m\u001b[36m(ClientAppActor pid=1320832)\u001b[0m Epoch 39/100\u001b[32m [repeated 27x across cluster]\u001b[0m\n",
      "\u001b[2m\u001b[36m(ClientAppActor pid=1320832)\u001b[0m Epoch 38: Training accuracy: 78.92628479003906 Testing accuracy: 77.56410217285156.\u001b[32m [repeated 27x across cluster]\u001b[0m\n",
      "\u001b[2m\u001b[36m(ClientAppActor pid=1320832)\u001b[0m \u001b[32m [repeated 18x across cluster]\u001b[0m\n",
      "\u001b[2m\u001b[36m(ClientAppActor pid=1320832)\u001b[0m Epoch 53/100\u001b[32m [repeated 18x across cluster]\u001b[0m\n",
      "\u001b[2m\u001b[36m(ClientAppActor pid=1320832)\u001b[0m Epoch 52: Training accuracy: 79.7275619506836 Testing accuracy: 76.92308044433594.\u001b[32m [repeated 19x across cluster]\u001b[0m\n",
      "\u001b[2m\u001b[36m(ClientAppActor pid=1320832)\u001b[0m \u001b[32m [repeated 8x across cluster]\u001b[0m\n",
      "\u001b[2m\u001b[36m(ClientAppActor pid=1320832)\u001b[0m Epoch 61/100\u001b[32m [repeated 8x across cluster]\u001b[0m\n",
      "\u001b[2m\u001b[36m(ClientAppActor pid=1320832)\u001b[0m Epoch 60: Training accuracy: 80.60897064208984 Testing accuracy: 78.20513153076172.\u001b[32m [repeated 8x across cluster]\u001b[0m\n",
      "\u001b[2m\u001b[36m(ClientAppActor pid=1320832)\u001b[0m \u001b[32m [repeated 10x across cluster]\u001b[0m\n",
      "\u001b[2m\u001b[36m(ClientAppActor pid=1320832)\u001b[0m Epoch 71/100\u001b[32m [repeated 10x across cluster]\u001b[0m\n",
      "\u001b[2m\u001b[36m(ClientAppActor pid=1320832)\u001b[0m Epoch 70: Training accuracy: 80.60897064208984 Testing accuracy: 78.84615325927734.\u001b[32m [repeated 10x across cluster]\u001b[0m\n",
      "\u001b[2m\u001b[36m(ClientAppActor pid=1320832)\u001b[0m \u001b[32m [repeated 9x across cluster]\u001b[0m\n",
      "\u001b[2m\u001b[36m(ClientAppActor pid=1320832)\u001b[0m Epoch 80/100\u001b[32m [repeated 9x across cluster]\u001b[0m\n",
      "\u001b[2m\u001b[36m(ClientAppActor pid=1320832)\u001b[0m Epoch 79: Training accuracy: 80.60897064208984 Testing accuracy: 76.28205108642578.\u001b[32m [repeated 9x across cluster]\u001b[0m\n",
      "\u001b[2m\u001b[36m(ClientAppActor pid=1320832)\u001b[0m \u001b[32m [repeated 10x across cluster]\u001b[0m\n",
      "\u001b[2m\u001b[36m(ClientAppActor pid=1320832)\u001b[0m Epoch 90/100\u001b[32m [repeated 10x across cluster]\u001b[0m\n",
      "\u001b[2m\u001b[36m(ClientAppActor pid=1320832)\u001b[0m Epoch 89: Training accuracy: 81.16986846923828 Testing accuracy: 77.56410217285156.\u001b[32m [repeated 10x across cluster]\u001b[0m\n"
     ]
    },
    {
     "name": "stderr",
     "output_type": "stream",
     "text": [
      "\u001b[92mINFO \u001b[0m:      aggregate_fit: received 3 results and 0 failures\n",
      "\u001b[92mINFO \u001b[0m:      fit progress: (8, 0.0529342998157848, {'accuracy': tensor(73.2475, device='cuda:0')}, 503.448927275007)\n",
      "\u001b[92mINFO \u001b[0m:      configure_evaluate: strategy sampled 1 clients (out of 3)\n"
     ]
    },
    {
     "name": "stdout",
     "output_type": "stream",
     "text": [
      "Server-side evaluation loss 0.0529342998157848 / accuracy 73.24749755859375\n"
     ]
    },
    {
     "name": "stderr",
     "output_type": "stream",
     "text": [
      "\u001b[92mINFO \u001b[0m:      aggregate_evaluate: received 1 results and 0 failures\n",
      "\u001b[92mINFO \u001b[0m:      \n",
      "\u001b[92mINFO \u001b[0m:      [ROUND 9]\n",
      "\u001b[92mINFO \u001b[0m:      configure_fit: strategy sampled 3 clients (out of 3)\n"
     ]
    },
    {
     "name": "stdout",
     "output_type": "stream",
     "text": [
      "\u001b[2m\u001b[36m(ClientAppActor pid=1320832)\u001b[0m \u001b[32m [repeated 11x across cluster]\u001b[0m\n",
      "\u001b[2m\u001b[36m(ClientAppActor pid=1320832)\u001b[0m Epoch 1/100\u001b[32m [repeated 11x across cluster]\u001b[0m\n",
      "\u001b[2m\u001b[36m(ClientAppActor pid=1320832)\u001b[0m Epoch 100: Training accuracy: 79.7275619506836 Testing accuracy: 76.92308044433594.\u001b[32m [repeated 11x across cluster]\u001b[0m\n",
      "\u001b[2m\u001b[36m(ClientAppActor pid=1320835)\u001b[0m \u001b[32m [repeated 25x across cluster]\u001b[0m\n",
      "\u001b[2m\u001b[36m(ClientAppActor pid=1320835)\u001b[0m Epoch 13/100\u001b[32m [repeated 25x across cluster]\u001b[0m\n",
      "\u001b[2m\u001b[36m(ClientAppActor pid=1320835)\u001b[0m Epoch 12: Training accuracy: 75.07396697998047 Testing accuracy: 71.00592041015625.\u001b[32m [repeated 24x across cluster]\u001b[0m\n",
      "\u001b[2m\u001b[36m(ClientAppActor pid=1320832)\u001b[0m \u001b[32m [repeated 30x across cluster]\u001b[0m\n",
      "\u001b[2m\u001b[36m(ClientAppActor pid=1320832)\u001b[0m Epoch 26/100\u001b[32m [repeated 30x across cluster]\u001b[0m\n",
      "\u001b[2m\u001b[36m(ClientAppActor pid=1320832)\u001b[0m Epoch 25: Training accuracy: 79.6474380493164 Testing accuracy: 76.92308044433594.\u001b[32m [repeated 30x across cluster]\u001b[0m\n",
      "\u001b[2m\u001b[36m(ClientAppActor pid=1320835)\u001b[0m \u001b[32m [repeated 35x across cluster]\u001b[0m\n",
      "\u001b[2m\u001b[36m(ClientAppActor pid=1320835)\u001b[0m Epoch 54/100\u001b[32m [repeated 35x across cluster]\u001b[0m\n",
      "\u001b[2m\u001b[36m(ClientAppActor pid=1320835)\u001b[0m Epoch 53: Training accuracy: 78.10650634765625 Testing accuracy: 74.55621337890625.\u001b[32m [repeated 35x across cluster]\u001b[0m\n",
      "\u001b[2m\u001b[36m(ClientAppActor pid=1320835)\u001b[0m \u001b[32m [repeated 57x across cluster]\u001b[0m\n",
      "\u001b[2m\u001b[36m(ClientAppActor pid=1320835)\u001b[0m Epoch 98/100\u001b[32m [repeated 57x across cluster]\u001b[0m\n",
      "\u001b[2m\u001b[36m(ClientAppActor pid=1320835)\u001b[0m Epoch 97: Training accuracy: 81.21302032470703 Testing accuracy: 78.69822692871094.\u001b[32m [repeated 57x across cluster]\u001b[0m\n",
      "\u001b[2m\u001b[36m(ClientAppActor pid=1320832)\u001b[0m \u001b[32m [repeated 128x across cluster]\u001b[0m\n",
      "\u001b[2m\u001b[36m(ClientAppActor pid=1320832)\u001b[0m Epoch 76/100\u001b[32m [repeated 128x across cluster]\u001b[0m\n",
      "\u001b[2m\u001b[36m(ClientAppActor pid=1320832)\u001b[0m Epoch 75: Training accuracy: 81.0897445678711 Testing accuracy: 78.84615325927734.\u001b[32m [repeated 129x across cluster]\u001b[0m\n"
     ]
    },
    {
     "name": "stderr",
     "output_type": "stream",
     "text": [
      "\u001b[92mINFO \u001b[0m:      aggregate_fit: received 3 results and 0 failures\n",
      "\u001b[92mINFO \u001b[0m:      fit progress: (9, 0.05181828954003074, {'accuracy': tensor(72.9614, device='cuda:0')}, 532.71609704)\n",
      "\u001b[92mINFO \u001b[0m:      configure_evaluate: strategy sampled 1 clients (out of 3)\n",
      "\u001b[92mINFO \u001b[0m:      aggregate_evaluate: received 1 results and 0 failures\n",
      "\u001b[92mINFO \u001b[0m:      \n",
      "\u001b[92mINFO \u001b[0m:      [ROUND 10]\n",
      "\u001b[92mINFO \u001b[0m:      configure_fit: strategy sampled 3 clients (out of 3)\n"
     ]
    },
    {
     "name": "stdout",
     "output_type": "stream",
     "text": [
      "Server-side evaluation loss 0.05181828954003074 / accuracy 72.96137237548828\n",
      "\u001b[2m\u001b[36m(ClientAppActor pid=1320835)\u001b[0m \u001b[32m [repeated 86x across cluster]\u001b[0m\n",
      "\u001b[2m\u001b[36m(ClientAppActor pid=1320835)\u001b[0m Epoch 32/100\u001b[32m [repeated 86x across cluster]\u001b[0m\n",
      "\u001b[2m\u001b[36m(ClientAppActor pid=1320835)\u001b[0m Epoch 31: Training accuracy: 75.37425231933594 Testing accuracy: 70.05988311767578.\u001b[32m [repeated 85x across cluster]\u001b[0m\n",
      "\u001b[2m\u001b[36m(ClientAppActor pid=1320835)\u001b[0m \u001b[32m [repeated 60x across cluster]\u001b[0m\n",
      "\u001b[2m\u001b[36m(ClientAppActor pid=1320835)\u001b[0m Epoch 63/100\u001b[32m [repeated 60x across cluster]\u001b[0m\n",
      "\u001b[2m\u001b[36m(ClientAppActor pid=1320835)\u001b[0m Epoch 62: Training accuracy: 75.74850463867188 Testing accuracy: 77.84431457519531.\u001b[32m [repeated 60x across cluster]\u001b[0m\n",
      "\u001b[2m\u001b[36m(ClientAppActor pid=1320832)\u001b[0m \u001b[32m [repeated 16x across cluster]\u001b[0m\n",
      "\u001b[2m\u001b[36m(ClientAppActor pid=1320832)\u001b[0m Epoch 69/100\u001b[32m [repeated 16x across cluster]\u001b[0m\n",
      "\u001b[2m\u001b[36m(ClientAppActor pid=1320832)\u001b[0m Epoch 68: Training accuracy: 79.96794891357422 Testing accuracy: 76.28205108642578.\u001b[32m [repeated 16x across cluster]\u001b[0m\n",
      "\u001b[2m\u001b[36m(ClientAppActor pid=1320832)\u001b[0m \u001b[32m [repeated 15x across cluster]\u001b[0m\n",
      "\u001b[2m\u001b[36m(ClientAppActor pid=1320832)\u001b[0m Epoch 78/100\u001b[32m [repeated 15x across cluster]\u001b[0m\n",
      "\u001b[2m\u001b[36m(ClientAppActor pid=1320832)\u001b[0m Epoch 77: Training accuracy: 82.45191955566406 Testing accuracy: 79.4871826171875.\u001b[32m [repeated 15x across cluster]\u001b[0m\n",
      "\u001b[2m\u001b[36m(ClientAppActor pid=1320835)\u001b[0m \u001b[32m [repeated 16x across cluster]\u001b[0m\n",
      "\u001b[2m\u001b[36m(ClientAppActor pid=1320835)\u001b[0m Epoch 83/100\u001b[32m [repeated 16x across cluster]\u001b[0m\n",
      "\u001b[2m\u001b[36m(ClientAppActor pid=1320835)\u001b[0m Epoch 82: Training accuracy: 80.91316986083984 Testing accuracy: 81.43712615966797.\u001b[32m [repeated 16x across cluster]\u001b[0m\n",
      "\u001b[2m\u001b[36m(ClientAppActor pid=1320835)\u001b[0m \u001b[32m [repeated 16x across cluster]\u001b[0m\n",
      "\u001b[2m\u001b[36m(ClientAppActor pid=1320835)\u001b[0m Epoch 89/100\u001b[32m [repeated 16x across cluster]\u001b[0m\n",
      "\u001b[2m\u001b[36m(ClientAppActor pid=1320835)\u001b[0m Epoch 88: Training accuracy: 81.21257781982422 Testing accuracy: 82.03592681884766.\u001b[32m [repeated 16x across cluster]\u001b[0m\n",
      "\u001b[2m\u001b[36m(ClientAppActor pid=1320832)\u001b[0m \u001b[32m [repeated 16x across cluster]\u001b[0m\n",
      "\u001b[2m\u001b[36m(ClientAppActor pid=1320832)\u001b[0m Epoch 5/100\u001b[32m [repeated 16x across cluster]\u001b[0m\n",
      "\u001b[2m\u001b[36m(ClientAppActor pid=1320832)\u001b[0m Epoch 4: Training accuracy: 78.10650634765625 Testing accuracy: 74.55621337890625.\u001b[32m [repeated 16x across cluster]\u001b[0m\n",
      "\u001b[2m\u001b[36m(ClientAppActor pid=1320832)\u001b[0m \u001b[32m [repeated 12x across cluster]\u001b[0m\n",
      "\u001b[2m\u001b[36m(ClientAppActor pid=1320832)\u001b[0m Epoch 13/100\u001b[32m [repeated 12x across cluster]\u001b[0m\n",
      "\u001b[2m\u001b[36m(ClientAppActor pid=1320832)\u001b[0m Epoch 12: Training accuracy: 78.32839965820312 Testing accuracy: 76.33135986328125.\u001b[32m [repeated 13x across cluster]\u001b[0m\n",
      "\u001b[2m\u001b[36m(ClientAppActor pid=1320832)\u001b[0m \u001b[32m [repeated 8x across cluster]\u001b[0m\n",
      "\u001b[2m\u001b[36m(ClientAppActor pid=1320832)\u001b[0m Epoch 21/100\u001b[32m [repeated 8x across cluster]\u001b[0m\n",
      "\u001b[2m\u001b[36m(ClientAppActor pid=1320832)\u001b[0m Epoch 20: Training accuracy: 79.58580017089844 Testing accuracy: 76.33135986328125.\u001b[32m [repeated 8x across cluster]\u001b[0m\n",
      "\u001b[2m\u001b[36m(ClientAppActor pid=1320832)\u001b[0m \u001b[32m [repeated 9x across cluster]\u001b[0m\n",
      "\u001b[2m\u001b[36m(ClientAppActor pid=1320832)\u001b[0m Epoch 30/100\u001b[32m [repeated 9x across cluster]\u001b[0m\n",
      "\u001b[2m\u001b[36m(ClientAppActor pid=1320832)\u001b[0m Epoch 29: Training accuracy: 79.65975952148438 Testing accuracy: 75.7396469116211.\u001b[32m [repeated 9x across cluster]\u001b[0m\n",
      "\u001b[2m\u001b[36m(ClientAppActor pid=1320832)\u001b[0m \u001b[32m [repeated 8x across cluster]\u001b[0m\n",
      "\u001b[2m\u001b[36m(ClientAppActor pid=1320832)\u001b[0m Epoch 38/100\u001b[32m [repeated 8x across cluster]\u001b[0m\n",
      "\u001b[2m\u001b[36m(ClientAppActor pid=1320832)\u001b[0m Epoch 37: Training accuracy: 80.10355377197266 Testing accuracy: 76.33135986328125.\u001b[32m [repeated 8x across cluster]\u001b[0m\n",
      "\u001b[2m\u001b[36m(ClientAppActor pid=1320832)\u001b[0m \u001b[32m [repeated 9x across cluster]\u001b[0m\n",
      "\u001b[2m\u001b[36m(ClientAppActor pid=1320832)\u001b[0m Epoch 47/100\u001b[32m [repeated 9x across cluster]\u001b[0m\n",
      "\u001b[2m\u001b[36m(ClientAppActor pid=1320832)\u001b[0m Epoch 46: Training accuracy: 80.84319305419922 Testing accuracy: 78.10650634765625.\u001b[32m [repeated 9x across cluster]\u001b[0m\n",
      "\u001b[2m\u001b[36m(ClientAppActor pid=1320832)\u001b[0m \u001b[32m [repeated 8x across cluster]\u001b[0m\n",
      "\u001b[2m\u001b[36m(ClientAppActor pid=1320832)\u001b[0m Epoch 55/100\u001b[32m [repeated 8x across cluster]\u001b[0m\n",
      "\u001b[2m\u001b[36m(ClientAppActor pid=1320832)\u001b[0m Epoch 54: Training accuracy: 81.0650863647461 Testing accuracy: 78.10650634765625.\u001b[32m [repeated 8x across cluster]\u001b[0m\n",
      "\u001b[2m\u001b[36m(ClientAppActor pid=1320832)\u001b[0m \u001b[32m [repeated 14x across cluster]\u001b[0m\n",
      "\u001b[2m\u001b[36m(ClientAppActor pid=1320832)\u001b[0m Epoch 69/100\u001b[32m [repeated 14x across cluster]\u001b[0m\n",
      "\u001b[2m\u001b[36m(ClientAppActor pid=1320832)\u001b[0m Epoch 68: Training accuracy: 80.91716003417969 Testing accuracy: 77.5147933959961.\u001b[32m [repeated 14x across cluster]\u001b[0m\n",
      "\u001b[2m\u001b[36m(ClientAppActor pid=1320832)\u001b[0m \u001b[32m [repeated 16x across cluster]\u001b[0m\n",
      "\u001b[2m\u001b[36m(ClientAppActor pid=1320832)\u001b[0m Epoch 85/100\u001b[32m [repeated 16x across cluster]\u001b[0m\n",
      "\u001b[2m\u001b[36m(ClientAppActor pid=1320832)\u001b[0m Epoch 84: Training accuracy: 80.32544708251953 Testing accuracy: 75.7396469116211.\u001b[32m [repeated 16x across cluster]\u001b[0m\n"
     ]
    },
    {
     "name": "stderr",
     "output_type": "stream",
     "text": [
      "\u001b[92mINFO \u001b[0m:      aggregate_fit: received 3 results and 0 failures\n",
      "\u001b[92mINFO \u001b[0m:      fit progress: (10, 0.05141327056017789, {'accuracy': tensor(73.8197, device='cuda:0')}, 610.3480013020016)\n",
      "\u001b[92mINFO \u001b[0m:      configure_evaluate: strategy sampled 1 clients (out of 3)\n",
      "\u001b[92mINFO \u001b[0m:      aggregate_evaluate: received 1 results and 0 failures\n",
      "\u001b[92mINFO \u001b[0m:      \n",
      "\u001b[92mINFO \u001b[0m:      [ROUND 11]\n",
      "\u001b[92mINFO \u001b[0m:      configure_fit: strategy sampled 3 clients (out of 3)\n"
     ]
    },
    {
     "name": "stdout",
     "output_type": "stream",
     "text": [
      "Server-side evaluation loss 0.05141327056017789 / accuracy 73.81974029541016\n",
      "\u001b[2m\u001b[36m(ClientAppActor pid=1320835)\u001b[0m \u001b[32m [repeated 41x across cluster]\u001b[0m\n",
      "\u001b[2m\u001b[36m(ClientAppActor pid=1320835)\u001b[0m Epoch 12/100\u001b[32m [repeated 41x across cluster]\u001b[0m\n",
      "\u001b[2m\u001b[36m(ClientAppActor pid=1320835)\u001b[0m Epoch 11: Training accuracy: 78.18047332763672 Testing accuracy: 74.55621337890625.\u001b[32m [repeated 40x across cluster]\u001b[0m\n",
      "\u001b[2m\u001b[36m(ClientAppActor pid=1320832)\u001b[0m \u001b[32m [repeated 68x across cluster]\u001b[0m\n",
      "\u001b[2m\u001b[36m(ClientAppActor pid=1320832)\u001b[0m Epoch 64/100\u001b[32m [repeated 68x across cluster]\u001b[0m\n",
      "\u001b[2m\u001b[36m(ClientAppActor pid=1320832)\u001b[0m Epoch 63: Training accuracy: 81.73076629638672 Testing accuracy: 78.20513153076172.\u001b[32m [repeated 68x across cluster]\u001b[0m\n",
      "\u001b[2m\u001b[36m(ClientAppActor pid=1320832)\u001b[0m \u001b[32m [repeated 40x across cluster]\u001b[0m\n",
      "\u001b[2m\u001b[36m(ClientAppActor pid=1320832)\u001b[0m Epoch 92/100\u001b[32m [repeated 40x across cluster]\u001b[0m\n",
      "\u001b[2m\u001b[36m(ClientAppActor pid=1320832)\u001b[0m Epoch 91: Training accuracy: 81.97115325927734 Testing accuracy: 76.92308044433594.\u001b[32m [repeated 40x across cluster]\u001b[0m\n",
      "\u001b[2m\u001b[36m(ClientAppActor pid=1320835)\u001b[0m \u001b[32m [repeated 31x across cluster]\u001b[0m\n",
      "\u001b[2m\u001b[36m(ClientAppActor pid=1320835)\u001b[0m Epoch 54/100\u001b[32m [repeated 31x across cluster]\u001b[0m\n",
      "\u001b[2m\u001b[36m(ClientAppActor pid=1320835)\u001b[0m Epoch 53: Training accuracy: 80.84319305419922 Testing accuracy: 78.10650634765625.\u001b[32m [repeated 31x across cluster]\u001b[0m\n",
      "\u001b[2m\u001b[36m(ClientAppActor pid=1320835)\u001b[0m \u001b[32m [repeated 34x across cluster]\u001b[0m\n",
      "\u001b[2m\u001b[36m(ClientAppActor pid=1320835)\u001b[0m Epoch 70/100\u001b[32m [repeated 34x across cluster]\u001b[0m\n",
      "\u001b[2m\u001b[36m(ClientAppActor pid=1320835)\u001b[0m Epoch 69: Training accuracy: 80.84319305419922 Testing accuracy: 76.92308044433594.\u001b[32m [repeated 34x across cluster]\u001b[0m\n",
      "\u001b[2m\u001b[36m(ClientAppActor pid=1320832)\u001b[0m \u001b[32m [repeated 27x across cluster]\u001b[0m\n",
      "\u001b[2m\u001b[36m(ClientAppActor pid=1320832)\u001b[0m Epoch 44/100\u001b[32m [repeated 27x across cluster]\u001b[0m\n",
      "\u001b[2m\u001b[36m(ClientAppActor pid=1320832)\u001b[0m Epoch 43: Training accuracy: 80.91316986083984 Testing accuracy: 81.43712615966797.\u001b[32m [repeated 27x across cluster]\u001b[0m\n",
      "\u001b[2m\u001b[36m(ClientAppActor pid=1320835)\u001b[0m \u001b[32m [repeated 15x across cluster]\u001b[0m\n",
      "\u001b[2m\u001b[36m(ClientAppActor pid=1320835)\u001b[0m Epoch 89/100\u001b[32m [repeated 15x across cluster]\u001b[0m\n",
      "\u001b[2m\u001b[36m(ClientAppActor pid=1320835)\u001b[0m Epoch 88: Training accuracy: 80.32544708251953 Testing accuracy: 77.5147933959961.\u001b[32m [repeated 15x across cluster]\u001b[0m\n",
      "\u001b[2m\u001b[36m(ClientAppActor pid=1320832)\u001b[0m \u001b[32m [repeated 16x across cluster]\u001b[0m\n",
      "\u001b[2m\u001b[36m(ClientAppActor pid=1320832)\u001b[0m Epoch 62/100\u001b[32m [repeated 16x across cluster]\u001b[0m\n",
      "\u001b[2m\u001b[36m(ClientAppActor pid=1320832)\u001b[0m Epoch 61: Training accuracy: 81.13772583007812 Testing accuracy: 79.64071655273438.\u001b[32m [repeated 16x across cluster]\u001b[0m\n",
      "\u001b[2m\u001b[36m(ClientAppActor pid=1320832)\u001b[0m \u001b[32m [repeated 14x across cluster]\u001b[0m\n",
      "\u001b[2m\u001b[36m(ClientAppActor pid=1320832)\u001b[0m Epoch 71/100\u001b[32m [repeated 14x across cluster]\u001b[0m\n",
      "\u001b[2m\u001b[36m(ClientAppActor pid=1320832)\u001b[0m Epoch 70: Training accuracy: 79.71556854248047 Testing accuracy: 82.03592681884766.\u001b[32m [repeated 15x across cluster]\u001b[0m\n",
      "\u001b[2m\u001b[36m(ClientAppActor pid=1320832)\u001b[0m \u001b[32m [repeated 9x across cluster]\u001b[0m\n",
      "\u001b[2m\u001b[36m(ClientAppActor pid=1320832)\u001b[0m Epoch 80/100\u001b[32m [repeated 9x across cluster]\u001b[0m\n",
      "\u001b[2m\u001b[36m(ClientAppActor pid=1320832)\u001b[0m Epoch 79: Training accuracy: 80.61376953125 Testing accuracy: 82.03592681884766.\u001b[32m [repeated 9x across cluster]\u001b[0m\n",
      "\u001b[2m\u001b[36m(ClientAppActor pid=1320832)\u001b[0m \u001b[32m [repeated 16x across cluster]\u001b[0m\n",
      "\u001b[2m\u001b[36m(ClientAppActor pid=1320832)\u001b[0m Epoch 96/100\u001b[32m [repeated 16x across cluster]\u001b[0m\n",
      "\u001b[2m\u001b[36m(ClientAppActor pid=1320832)\u001b[0m Epoch 95: Training accuracy: 81.96107482910156 Testing accuracy: 80.23951721191406.\u001b[32m [repeated 16x across cluster]\u001b[0m\n"
     ]
    },
    {
     "name": "stderr",
     "output_type": "stream",
     "text": [
      "\u001b[92mINFO \u001b[0m:      aggregate_fit: received 3 results and 0 failures\n",
      "\u001b[92mINFO \u001b[0m:      fit progress: (11, 0.05465036088770086, {'accuracy': tensor(72.1030, device='cuda:0')}, 666.4015001020016)\n",
      "\u001b[92mINFO \u001b[0m:      configure_evaluate: strategy sampled 1 clients (out of 3)\n"
     ]
    },
    {
     "name": "stdout",
     "output_type": "stream",
     "text": [
      "Server-side evaluation loss 0.05465036088770086 / accuracy 72.1030044555664\n"
     ]
    },
    {
     "name": "stderr",
     "output_type": "stream",
     "text": [
      "\u001b[92mINFO \u001b[0m:      aggregate_evaluate: received 1 results and 0 failures\n",
      "\u001b[92mINFO \u001b[0m:      \n",
      "\u001b[92mINFO \u001b[0m:      [ROUND 12]\n",
      "\u001b[92mINFO \u001b[0m:      configure_fit: strategy sampled 3 clients (out of 3)\n"
     ]
    },
    {
     "name": "stdout",
     "output_type": "stream",
     "text": [
      "\u001b[2m\u001b[36m(ClientAppActor pid=1320835)\u001b[0m \u001b[32m [repeated 18x across cluster]\u001b[0m\n",
      "\u001b[2m\u001b[36m(ClientAppActor pid=1320835)\u001b[0m Epoch 7/100\u001b[32m [repeated 18x across cluster]\u001b[0m\n",
      "\u001b[2m\u001b[36m(ClientAppActor pid=1320835)\u001b[0m Epoch 6: Training accuracy: 75.72115325927734 Testing accuracy: 76.92308044433594.\u001b[32m [repeated 17x across cluster]\u001b[0m\n",
      "\u001b[2m\u001b[36m(ClientAppActor pid=1320832)\u001b[0m \u001b[32m [repeated 26x across cluster]\u001b[0m\n",
      "\u001b[2m\u001b[36m(ClientAppActor pid=1320832)\u001b[0m Epoch 23/100\u001b[32m [repeated 26x across cluster]\u001b[0m\n",
      "\u001b[2m\u001b[36m(ClientAppActor pid=1320832)\u001b[0m Epoch 22: Training accuracy: 80.62129974365234 Testing accuracy: 78.10650634765625.\u001b[32m [repeated 26x across cluster]\u001b[0m\n",
      "\u001b[2m\u001b[36m(ClientAppActor pid=1320832)\u001b[0m \u001b[32m [repeated 27x across cluster]\u001b[0m\n",
      "\u001b[2m\u001b[36m(ClientAppActor pid=1320832)\u001b[0m Epoch 39/100\u001b[32m [repeated 27x across cluster]\u001b[0m\n",
      "\u001b[2m\u001b[36m(ClientAppActor pid=1320832)\u001b[0m Epoch 38: Training accuracy: 79.80769348144531 Testing accuracy: 77.5147933959961.\u001b[32m [repeated 27x across cluster]\u001b[0m\n",
      "\u001b[2m\u001b[36m(ClientAppActor pid=1320835)\u001b[0m \u001b[32m [repeated 14x across cluster]\u001b[0m\n",
      "\u001b[2m\u001b[36m(ClientAppActor pid=1320835)\u001b[0m Epoch 35/100\u001b[32m [repeated 14x across cluster]\u001b[0m\n",
      "\u001b[2m\u001b[36m(ClientAppActor pid=1320835)\u001b[0m Epoch 34: Training accuracy: 81.33013153076172 Testing accuracy: 79.4871826171875.\u001b[32m [repeated 14x across cluster]\u001b[0m\n",
      "\u001b[2m\u001b[36m(ClientAppActor pid=1320832)\u001b[0m \u001b[32m [repeated 17x across cluster]\u001b[0m\n",
      "\u001b[2m\u001b[36m(ClientAppActor pid=1320832)\u001b[0m Epoch 56/100\u001b[32m [repeated 17x across cluster]\u001b[0m\n",
      "\u001b[2m\u001b[36m(ClientAppActor pid=1320832)\u001b[0m Epoch 55: Training accuracy: 81.58283996582031 Testing accuracy: 77.5147933959961.\u001b[32m [repeated 17x across cluster]\u001b[0m\n",
      "\u001b[2m\u001b[36m(ClientAppActor pid=1320835)\u001b[0m \u001b[32m [repeated 14x across cluster]\u001b[0m\n",
      "\u001b[2m\u001b[36m(ClientAppActor pid=1320835)\u001b[0m Epoch 49/100\u001b[32m [repeated 14x across cluster]\u001b[0m\n",
      "\u001b[2m\u001b[36m(ClientAppActor pid=1320835)\u001b[0m Epoch 48: Training accuracy: 81.33013153076172 Testing accuracy: 80.12820434570312.\u001b[32m [repeated 14x across cluster]\u001b[0m\n",
      "\u001b[2m\u001b[36m(ClientAppActor pid=1320835)\u001b[0m \u001b[32m [repeated 17x across cluster]\u001b[0m\n",
      "\u001b[2m\u001b[36m(ClientAppActor pid=1320835)\u001b[0m Epoch 56/100\u001b[32m [repeated 17x across cluster]\u001b[0m\n",
      "\u001b[2m\u001b[36m(ClientAppActor pid=1320835)\u001b[0m Epoch 55: Training accuracy: 81.89102935791016 Testing accuracy: 78.84615325927734.\u001b[32m [repeated 17x across cluster]\u001b[0m\n",
      "\u001b[2m\u001b[36m(ClientAppActor pid=1320832)\u001b[0m \u001b[32m [repeated 19x across cluster]\u001b[0m\n",
      "\u001b[2m\u001b[36m(ClientAppActor pid=1320832)\u001b[0m Epoch 86/100\u001b[32m [repeated 19x across cluster]\u001b[0m\n",
      "\u001b[2m\u001b[36m(ClientAppActor pid=1320832)\u001b[0m Epoch 85: Training accuracy: 81.0650863647461 Testing accuracy: 76.33135986328125.\u001b[32m [repeated 19x across cluster]\u001b[0m\n",
      "\u001b[2m\u001b[36m(ClientAppActor pid=1320835)\u001b[0m \u001b[32m [repeated 20x across cluster]\u001b[0m\n",
      "\u001b[2m\u001b[36m(ClientAppActor pid=1320835)\u001b[0m Epoch 70/100\u001b[32m [repeated 20x across cluster]\u001b[0m\n",
      "\u001b[2m\u001b[36m(ClientAppActor pid=1320835)\u001b[0m Epoch 69: Training accuracy: 83.0128173828125 Testing accuracy: 79.4871826171875.\u001b[32m [repeated 20x across cluster]\u001b[0m\n",
      "\u001b[2m\u001b[36m(ClientAppActor pid=1320835)\u001b[0m \u001b[32m [repeated 19x across cluster]\u001b[0m\n",
      "\u001b[2m\u001b[36m(ClientAppActor pid=1320835)\u001b[0m Epoch 77/100\u001b[32m [repeated 19x across cluster]\u001b[0m\n",
      "\u001b[2m\u001b[36m(ClientAppActor pid=1320835)\u001b[0m Epoch 76: Training accuracy: 82.37179565429688 Testing accuracy: 79.4871826171875.\u001b[32m [repeated 19x across cluster]\u001b[0m\n",
      "\u001b[2m\u001b[36m(ClientAppActor pid=1320832)\u001b[0m \u001b[32m [repeated 18x across cluster]\u001b[0m\n",
      "\u001b[2m\u001b[36m(ClientAppActor pid=1320832)\u001b[0m Epoch 22/100\u001b[32m [repeated 18x across cluster]\u001b[0m\n",
      "\u001b[2m\u001b[36m(ClientAppActor pid=1320832)\u001b[0m Epoch 21: Training accuracy: 78.443115234375 Testing accuracy: 81.43712615966797.\u001b[32m [repeated 18x across cluster]\u001b[0m\n",
      "\u001b[2m\u001b[36m(ClientAppActor pid=1320832)\u001b[0m \u001b[32m [repeated 19x across cluster]\u001b[0m\n",
      "\u001b[2m\u001b[36m(ClientAppActor pid=1320832)\u001b[0m Epoch 34/100\u001b[32m [repeated 19x across cluster]\u001b[0m\n",
      "\u001b[2m\u001b[36m(ClientAppActor pid=1320832)\u001b[0m Epoch 33: Training accuracy: 80.0898208618164 Testing accuracy: 80.83832550048828.\u001b[32m [repeated 19x across cluster]\u001b[0m\n",
      "\u001b[2m\u001b[36m(ClientAppActor pid=1320835)\u001b[0m \u001b[32m [repeated 19x across cluster]\u001b[0m\n",
      "\u001b[2m\u001b[36m(ClientAppActor pid=1320835)\u001b[0m Epoch 97/100\u001b[32m [repeated 19x across cluster]\u001b[0m\n",
      "\u001b[2m\u001b[36m(ClientAppActor pid=1320835)\u001b[0m Epoch 96: Training accuracy: 82.6121826171875 Testing accuracy: 78.84615325927734.\u001b[32m [repeated 19x across cluster]\u001b[0m\n",
      "\u001b[2m\u001b[36m(ClientAppActor pid=1320832)\u001b[0m \u001b[32m [repeated 39x across cluster]\u001b[0m\n",
      "\u001b[2m\u001b[36m(ClientAppActor pid=1320832)\u001b[0m Epoch 82/100\u001b[32m [repeated 39x across cluster]\u001b[0m\n",
      "\u001b[2m\u001b[36m(ClientAppActor pid=1320832)\u001b[0m Epoch 81: Training accuracy: 82.11077880859375 Testing accuracy: 81.43712615966797.\u001b[32m [repeated 40x across cluster]\u001b[0m\n"
     ]
    },
    {
     "name": "stderr",
     "output_type": "stream",
     "text": [
      "\u001b[92mINFO \u001b[0m:      aggregate_fit: received 3 results and 0 failures\n",
      "\u001b[92mINFO \u001b[0m:      fit progress: (12, 0.05211189660159024, {'accuracy': tensor(74.6781, device='cuda:0')}, 738.0495255170099)\n",
      "\u001b[92mINFO \u001b[0m:      configure_evaluate: strategy sampled 1 clients (out of 3)\n",
      "\u001b[92mINFO \u001b[0m:      aggregate_evaluate: received 1 results and 0 failures\n",
      "\u001b[92mINFO \u001b[0m:      \n",
      "\u001b[92mINFO \u001b[0m:      [ROUND 13]\n",
      "\u001b[92mINFO \u001b[0m:      configure_fit: strategy sampled 3 clients (out of 3)\n"
     ]
    },
    {
     "name": "stdout",
     "output_type": "stream",
     "text": [
      "Server-side evaluation loss 0.05211189660159024 / accuracy 74.67810821533203\n",
      "\u001b[2m\u001b[36m(ClientAppActor pid=1320835)\u001b[0m \u001b[32m [repeated 103x across cluster]\u001b[0m\n",
      "\u001b[2m\u001b[36m(ClientAppActor pid=1320835)\u001b[0m Epoch 9/100\u001b[32m [repeated 103x across cluster]\u001b[0m\n",
      "\u001b[2m\u001b[36m(ClientAppActor pid=1320835)\u001b[0m Epoch 8: Training accuracy: 79.96794891357422 Testing accuracy: 79.4871826171875.\u001b[32m [repeated 102x across cluster]\u001b[0m\n",
      "\u001b[2m\u001b[36m(ClientAppActor pid=1320832)\u001b[0m \u001b[32m [repeated 104x across cluster]\u001b[0m\n",
      "\u001b[2m\u001b[36m(ClientAppActor pid=1320832)\u001b[0m Epoch 64/100\u001b[32m [repeated 104x across cluster]\u001b[0m\n",
      "\u001b[2m\u001b[36m(ClientAppActor pid=1320832)\u001b[0m Epoch 63: Training accuracy: 78.69822692871094 Testing accuracy: 75.1479263305664.\u001b[32m [repeated 104x across cluster]\u001b[0m\n",
      "\u001b[2m\u001b[36m(ClientAppActor pid=1320835)\u001b[0m \u001b[32m [repeated 40x across cluster]\u001b[0m\n",
      "\u001b[2m\u001b[36m(ClientAppActor pid=1320835)\u001b[0m Epoch 36/100\u001b[32m [repeated 40x across cluster]\u001b[0m\n",
      "\u001b[2m\u001b[36m(ClientAppActor pid=1320835)\u001b[0m Epoch 35: Training accuracy: 81.57051086425781 Testing accuracy: 77.56410217285156.\u001b[32m [repeated 40x across cluster]\u001b[0m\n",
      "\u001b[2m\u001b[36m(ClientAppActor pid=1320835)\u001b[0m \u001b[32m [repeated 20x across cluster]\u001b[0m\n",
      "\u001b[2m\u001b[36m(ClientAppActor pid=1320835)\u001b[0m Epoch 49/100\u001b[32m [repeated 20x across cluster]\u001b[0m\n",
      "\u001b[2m\u001b[36m(ClientAppActor pid=1320835)\u001b[0m Epoch 48: Training accuracy: 80.84935760498047 Testing accuracy: 78.20513153076172.\u001b[32m [repeated 21x across cluster]\u001b[0m\n",
      "\u001b[2m\u001b[36m(ClientAppActor pid=1320835)\u001b[0m \u001b[32m [repeated 14x across cluster]\u001b[0m\n",
      "\u001b[2m\u001b[36m(ClientAppActor pid=1320835)\u001b[0m Epoch 63/100\u001b[32m [repeated 14x across cluster]\u001b[0m\n",
      "\u001b[2m\u001b[36m(ClientAppActor pid=1320835)\u001b[0m Epoch 62: Training accuracy: 81.73076629638672 Testing accuracy: 78.20513153076172.\u001b[32m [repeated 14x across cluster]\u001b[0m\n",
      "\u001b[2m\u001b[36m(ClientAppActor pid=1320835)\u001b[0m \u001b[32m [repeated 13x across cluster]\u001b[0m\n",
      "\u001b[2m\u001b[36m(ClientAppActor pid=1320835)\u001b[0m Epoch 76/100\u001b[32m [repeated 13x across cluster]\u001b[0m\n",
      "\u001b[2m\u001b[36m(ClientAppActor pid=1320835)\u001b[0m Epoch 75: Training accuracy: 82.53205108642578 Testing accuracy: 78.20513153076172.\u001b[32m [repeated 13x across cluster]\u001b[0m\n",
      "\u001b[2m\u001b[36m(ClientAppActor pid=1320835)\u001b[0m \u001b[32m [repeated 14x across cluster]\u001b[0m\n",
      "\u001b[2m\u001b[36m(ClientAppActor pid=1320835)\u001b[0m Epoch 90/100\u001b[32m [repeated 14x across cluster]\u001b[0m\n",
      "\u001b[2m\u001b[36m(ClientAppActor pid=1320835)\u001b[0m Epoch 89: Training accuracy: 83.09294891357422 Testing accuracy: 78.84615325927734.\u001b[32m [repeated 14x across cluster]\u001b[0m\n"
     ]
    },
    {
     "name": "stderr",
     "output_type": "stream",
     "text": [
      "\u001b[92mINFO \u001b[0m:      aggregate_fit: received 3 results and 0 failures\n",
      "\u001b[92mINFO \u001b[0m:      fit progress: (13, 0.05256367813457142, {'accuracy': tensor(72.5322, device='cuda:0')}, 778.1629899460095)\n",
      "\u001b[92mINFO \u001b[0m:      configure_evaluate: strategy sampled 1 clients (out of 3)\n",
      "\u001b[92mINFO \u001b[0m:      aggregate_evaluate: received 1 results and 0 failures\n",
      "\u001b[92mINFO \u001b[0m:      \n",
      "\u001b[92mINFO \u001b[0m:      [ROUND 14]\n",
      "\u001b[92mINFO \u001b[0m:      configure_fit: strategy sampled 3 clients (out of 3)\n"
     ]
    },
    {
     "name": "stdout",
     "output_type": "stream",
     "text": [
      "Server-side evaluation loss 0.05256367813457142 / accuracy 72.53218841552734\n",
      "\u001b[2m\u001b[36m(ClientAppActor pid=1320835)\u001b[0m \u001b[32m [repeated 11x across cluster]\u001b[0m\n",
      "\u001b[2m\u001b[36m(ClientAppActor pid=1320835)\u001b[0m Epoch 1/100\u001b[32m [repeated 11x across cluster]\u001b[0m\n",
      "\u001b[2m\u001b[36m(ClientAppActor pid=1320835)\u001b[0m Epoch 100: Training accuracy: 82.69230651855469 Testing accuracy: 80.12820434570312.\u001b[32m [repeated 11x across cluster]\u001b[0m\n",
      "\u001b[2m\u001b[36m(ClientAppActor pid=1320835)\u001b[0m \u001b[32m [repeated 51x across cluster]\u001b[0m\n",
      "\u001b[2m\u001b[36m(ClientAppActor pid=1320835)\u001b[0m Epoch 12/100\u001b[32m [repeated 51x across cluster]\u001b[0m\n",
      "\u001b[2m\u001b[36m(ClientAppActor pid=1320835)\u001b[0m Epoch 11: Training accuracy: 77.36686706542969 Testing accuracy: 73.9645004272461.\u001b[32m [repeated 50x across cluster]\u001b[0m\n",
      "\u001b[2m\u001b[36m(ClientAppActor pid=1320832)\u001b[0m \u001b[32m [repeated 171x across cluster]\u001b[0m\n",
      "\u001b[2m\u001b[36m(ClientAppActor pid=1320832)\u001b[0m Epoch 23/100\u001b[32m [repeated 171x across cluster]\u001b[0m\n",
      "\u001b[2m\u001b[36m(ClientAppActor pid=1320832)\u001b[0m Epoch 22: Training accuracy: 77.72435760498047 Testing accuracy: 75.64102935791016.\u001b[32m [repeated 172x across cluster]\u001b[0m\n",
      "\u001b[2m\u001b[36m(ClientAppActor pid=1320832)\u001b[0m \u001b[32m [repeated 17x across cluster]\u001b[0m\n",
      "\u001b[2m\u001b[36m(ClientAppActor pid=1320832)\u001b[0m Epoch 40/100\u001b[32m [repeated 17x across cluster]\u001b[0m\n",
      "\u001b[2m\u001b[36m(ClientAppActor pid=1320832)\u001b[0m Epoch 39: Training accuracy: 81.16986846923828 Testing accuracy: 78.20513153076172.\u001b[32m [repeated 17x across cluster]\u001b[0m\n",
      "\u001b[2m\u001b[36m(ClientAppActor pid=1320832)\u001b[0m \u001b[32m [repeated 15x across cluster]\u001b[0m\n",
      "\u001b[2m\u001b[36m(ClientAppActor pid=1320832)\u001b[0m Epoch 55/100\u001b[32m [repeated 15x across cluster]\u001b[0m\n",
      "\u001b[2m\u001b[36m(ClientAppActor pid=1320832)\u001b[0m Epoch 54: Training accuracy: 81.0897445678711 Testing accuracy: 78.84615325927734.\u001b[32m [repeated 15x across cluster]\u001b[0m\n",
      "\u001b[2m\u001b[36m(ClientAppActor pid=1320832)\u001b[0m \u001b[32m [repeated 8x across cluster]\u001b[0m\n",
      "\u001b[2m\u001b[36m(ClientAppActor pid=1320832)\u001b[0m Epoch 63/100\u001b[32m [repeated 8x across cluster]\u001b[0m\n",
      "\u001b[2m\u001b[36m(ClientAppActor pid=1320832)\u001b[0m Epoch 62: Training accuracy: 80.76923370361328 Testing accuracy: 78.20513153076172.\u001b[32m [repeated 8x across cluster]\u001b[0m\n",
      "\u001b[2m\u001b[36m(ClientAppActor pid=1320832)\u001b[0m \u001b[32m [repeated 10x across cluster]\u001b[0m\n",
      "\u001b[2m\u001b[36m(ClientAppActor pid=1320832)\u001b[0m Epoch 73/100\u001b[32m [repeated 10x across cluster]\u001b[0m\n",
      "\u001b[2m\u001b[36m(ClientAppActor pid=1320832)\u001b[0m Epoch 72: Training accuracy: 83.33333587646484 Testing accuracy: 80.12820434570312.\u001b[32m [repeated 10x across cluster]\u001b[0m\n",
      "\u001b[2m\u001b[36m(ClientAppActor pid=1320832)\u001b[0m \u001b[32m [repeated 10x across cluster]\u001b[0m\n",
      "\u001b[2m\u001b[36m(ClientAppActor pid=1320832)\u001b[0m Epoch 83/100\u001b[32m [repeated 10x across cluster]\u001b[0m\n",
      "\u001b[2m\u001b[36m(ClientAppActor pid=1320832)\u001b[0m Epoch 82: Training accuracy: 83.41345977783203 Testing accuracy: 80.12820434570312.\u001b[32m [repeated 10x across cluster]\u001b[0m\n",
      "\u001b[2m\u001b[36m(ClientAppActor pid=1320832)\u001b[0m \u001b[32m [repeated 8x across cluster]\u001b[0m\n",
      "\u001b[2m\u001b[36m(ClientAppActor pid=1320832)\u001b[0m Epoch 91/100\u001b[32m [repeated 8x across cluster]\u001b[0m\n",
      "\u001b[2m\u001b[36m(ClientAppActor pid=1320832)\u001b[0m Epoch 90: Training accuracy: 81.4102554321289 Testing accuracy: 78.20513153076172.\u001b[32m [repeated 8x across cluster]\u001b[0m\n"
     ]
    },
    {
     "name": "stderr",
     "output_type": "stream",
     "text": [
      "\u001b[92mINFO \u001b[0m:      aggregate_fit: received 3 results and 0 failures\n",
      "\u001b[92mINFO \u001b[0m:      fit progress: (14, 0.05147582292556763, {'accuracy': tensor(73.9628, device='cuda:0')}, 825.0856591519987)\n",
      "\u001b[92mINFO \u001b[0m:      configure_evaluate: strategy sampled 1 clients (out of 3)\n"
     ]
    },
    {
     "name": "stdout",
     "output_type": "stream",
     "text": [
      "Server-side evaluation loss 0.05147582292556763 / accuracy 73.96280670166016\n"
     ]
    },
    {
     "name": "stderr",
     "output_type": "stream",
     "text": [
      "\u001b[92mINFO \u001b[0m:      aggregate_evaluate: received 1 results and 0 failures\n",
      "\u001b[92mINFO \u001b[0m:      \n",
      "\u001b[92mINFO \u001b[0m:      [ROUND 15]\n",
      "\u001b[92mINFO \u001b[0m:      configure_fit: strategy sampled 3 clients (out of 3)\n"
     ]
    },
    {
     "name": "stdout",
     "output_type": "stream",
     "text": [
      "\u001b[2m\u001b[36m(ClientAppActor pid=1320832)\u001b[0m \u001b[32m [repeated 10x across cluster]\u001b[0m\n",
      "\u001b[2m\u001b[36m(ClientAppActor pid=1320832)\u001b[0m Epoch 1/100\u001b[32m [repeated 10x across cluster]\u001b[0m\n",
      "\u001b[2m\u001b[36m(ClientAppActor pid=1320832)\u001b[0m Epoch 100: Training accuracy: 83.41345977783203 Testing accuracy: 80.12820434570312.\u001b[32m [repeated 10x across cluster]\u001b[0m\n",
      "\u001b[2m\u001b[36m(ClientAppActor pid=1320835)\u001b[0m \u001b[32m [repeated 16x across cluster]\u001b[0m\n",
      "\u001b[2m\u001b[36m(ClientAppActor pid=1320835)\u001b[0m Epoch 8/100\u001b[32m [repeated 16x across cluster]\u001b[0m\n",
      "\u001b[2m\u001b[36m(ClientAppActor pid=1320835)\u001b[0m Epoch 7: Training accuracy: 78.59281158447266 Testing accuracy: 82.63472747802734.\u001b[32m [repeated 15x across cluster]\u001b[0m\n",
      "\u001b[2m\u001b[36m(ClientAppActor pid=1320835)\u001b[0m \u001b[32m [repeated 15x across cluster]\u001b[0m\n",
      "\u001b[2m\u001b[36m(ClientAppActor pid=1320835)\u001b[0m Epoch 14/100\u001b[32m [repeated 15x across cluster]\u001b[0m\n",
      "\u001b[2m\u001b[36m(ClientAppActor pid=1320835)\u001b[0m Epoch 13: Training accuracy: 79.56586456298828 Testing accuracy: 82.63472747802734.\u001b[32m [repeated 15x across cluster]\u001b[0m\n",
      "\u001b[2m\u001b[36m(ClientAppActor pid=1320835)\u001b[0m \u001b[32m [repeated 15x across cluster]\u001b[0m\n",
      "\u001b[2m\u001b[36m(ClientAppActor pid=1320835)\u001b[0m Epoch 21/100\u001b[32m [repeated 15x across cluster]\u001b[0m\n",
      "\u001b[2m\u001b[36m(ClientAppActor pid=1320835)\u001b[0m Epoch 20: Training accuracy: 80.46407318115234 Testing accuracy: 82.63472747802734.\u001b[32m [repeated 15x across cluster]\u001b[0m\n",
      "\u001b[2m\u001b[36m(ClientAppActor pid=1320835)\u001b[0m \u001b[32m [repeated 15x across cluster]\u001b[0m\n",
      "\u001b[2m\u001b[36m(ClientAppActor pid=1320835)\u001b[0m Epoch 27/100\u001b[32m [repeated 15x across cluster]\u001b[0m\n",
      "\u001b[2m\u001b[36m(ClientAppActor pid=1320835)\u001b[0m Epoch 26: Training accuracy: 78.8922119140625 Testing accuracy: 76.6467056274414.\u001b[32m [repeated 15x across cluster]\u001b[0m\n",
      "\u001b[2m\u001b[36m(ClientAppActor pid=1320832)\u001b[0m \u001b[32m [repeated 16x across cluster]\u001b[0m\n",
      "\u001b[2m\u001b[36m(ClientAppActor pid=1320832)\u001b[0m Epoch 44/100\u001b[32m [repeated 16x across cluster]\u001b[0m\n",
      "\u001b[2m\u001b[36m(ClientAppActor pid=1320832)\u001b[0m Epoch 43: Training accuracy: 77.14497375488281 Testing accuracy: 72.18934631347656.\u001b[32m [repeated 16x across cluster]\u001b[0m\n",
      "\u001b[2m\u001b[36m(ClientAppActor pid=1320835)\u001b[0m \u001b[32m [repeated 13x across cluster]\u001b[0m\n",
      "\u001b[2m\u001b[36m(ClientAppActor pid=1320835)\u001b[0m Epoch 40/100\u001b[32m [repeated 13x across cluster]\u001b[0m\n",
      "\u001b[2m\u001b[36m(ClientAppActor pid=1320835)\u001b[0m Epoch 39: Training accuracy: 81.21257781982422 Testing accuracy: 80.83832550048828.\u001b[32m [repeated 13x across cluster]\u001b[0m\n",
      "\u001b[2m\u001b[36m(ClientAppActor pid=1320832)\u001b[0m \u001b[32m [repeated 21x across cluster]\u001b[0m\n",
      "\u001b[2m\u001b[36m(ClientAppActor pid=1320832)\u001b[0m Epoch 65/100\u001b[32m [repeated 21x across cluster]\u001b[0m\n",
      "\u001b[2m\u001b[36m(ClientAppActor pid=1320832)\u001b[0m Epoch 64: Training accuracy: 80.84319305419922 Testing accuracy: 77.5147933959961.\u001b[32m [repeated 21x across cluster]\u001b[0m\n",
      "\u001b[2m\u001b[36m(ClientAppActor pid=1320832)\u001b[0m \u001b[32m [repeated 64x across cluster]\u001b[0m\n",
      "\u001b[2m\u001b[36m(ClientAppActor pid=1320832)\u001b[0m Epoch 21/100\u001b[32m [repeated 64x across cluster]\u001b[0m\n",
      "\u001b[2m\u001b[36m(ClientAppActor pid=1320832)\u001b[0m Epoch 20: Training accuracy: 82.05128479003906 Testing accuracy: 80.12820434570312.\u001b[32m [repeated 64x across cluster]\u001b[0m\n",
      "\u001b[2m\u001b[36m(ClientAppActor pid=1320832)\u001b[0m \u001b[32m [repeated 89x across cluster]\u001b[0m\n",
      "\u001b[2m\u001b[36m(ClientAppActor pid=1320832)\u001b[0m Epoch 100/100\u001b[32m [repeated 89x across cluster]\u001b[0m\n",
      "\u001b[2m\u001b[36m(ClientAppActor pid=1320832)\u001b[0m Epoch 99: Training accuracy: 83.0128173828125 Testing accuracy: 78.20513153076172.\u001b[32m [repeated 89x across cluster]\u001b[0m\n",
      "\u001b[2m\u001b[36m(ClientAppActor pid=1320835)\u001b[0m \u001b[32m [repeated 10x across cluster]\u001b[0m\n",
      "\u001b[2m\u001b[36m(ClientAppActor pid=1320835)\u001b[0m Epoch 75/100\u001b[32m [repeated 10x across cluster]\u001b[0m\n",
      "\u001b[2m\u001b[36m(ClientAppActor pid=1320835)\u001b[0m Epoch 74: Training accuracy: 81.88623046875 Testing accuracy: 82.03592681884766.\u001b[32m [repeated 11x across cluster]\u001b[0m\n",
      "\u001b[2m\u001b[36m(ClientAppActor pid=1320835)\u001b[0m \u001b[32m [repeated 6x across cluster]\u001b[0m\n",
      "\u001b[2m\u001b[36m(ClientAppActor pid=1320835)\u001b[0m Epoch 81/100\u001b[32m [repeated 6x across cluster]\u001b[0m\n",
      "\u001b[2m\u001b[36m(ClientAppActor pid=1320835)\u001b[0m Epoch 80: Training accuracy: 80.1646728515625 Testing accuracy: 82.63472747802734.\u001b[32m [repeated 6x across cluster]\u001b[0m\n",
      "\u001b[2m\u001b[36m(ClientAppActor pid=1320835)\u001b[0m \u001b[32m [repeated 8x across cluster]\u001b[0m\n",
      "\u001b[2m\u001b[36m(ClientAppActor pid=1320835)\u001b[0m Epoch 89/100\u001b[32m [repeated 8x across cluster]\u001b[0m\n",
      "\u001b[2m\u001b[36m(ClientAppActor pid=1320835)\u001b[0m Epoch 88: Training accuracy: 80.23951721191406 Testing accuracy: 82.63472747802734.\u001b[32m [repeated 8x across cluster]\u001b[0m\n",
      "\u001b[2m\u001b[36m(ClientAppActor pid=1320835)\u001b[0m \u001b[32m [repeated 8x across cluster]\u001b[0m\n",
      "\u001b[2m\u001b[36m(ClientAppActor pid=1320835)\u001b[0m Epoch 97/100\u001b[32m [repeated 8x across cluster]\u001b[0m\n",
      "\u001b[2m\u001b[36m(ClientAppActor pid=1320835)\u001b[0m Epoch 96: Training accuracy: 77.84431457519531 Testing accuracy: 73.05389404296875.\u001b[32m [repeated 8x across cluster]\u001b[0m\n"
     ]
    },
    {
     "name": "stderr",
     "output_type": "stream",
     "text": [
      "\u001b[92mINFO \u001b[0m:      aggregate_fit: received 3 results and 0 failures\n",
      "\u001b[92mINFO \u001b[0m:      fit progress: (15, 0.050865335897965866, {'accuracy': tensor(74.6781, device='cuda:0')}, 894.928953228009)\n",
      "\u001b[92mINFO \u001b[0m:      configure_evaluate: strategy sampled 1 clients (out of 3)\n"
     ]
    },
    {
     "name": "stdout",
     "output_type": "stream",
     "text": [
      "Server-side evaluation loss 0.050865335897965866 / accuracy 74.67810821533203\n"
     ]
    },
    {
     "name": "stderr",
     "output_type": "stream",
     "text": [
      "\u001b[92mINFO \u001b[0m:      aggregate_evaluate: received 1 results and 0 failures\n",
      "\u001b[92mINFO \u001b[0m:      \n",
      "\u001b[92mINFO \u001b[0m:      [ROUND 16]\n",
      "\u001b[92mINFO \u001b[0m:      configure_fit: strategy sampled 3 clients (out of 3)\n"
     ]
    },
    {
     "name": "stdout",
     "output_type": "stream",
     "text": [
      "\u001b[2m\u001b[36m(ClientAppActor pid=1320832)\u001b[0m \u001b[32m [repeated 26x across cluster]\u001b[0m\n",
      "\u001b[2m\u001b[36m(ClientAppActor pid=1320832)\u001b[0m Epoch 16/100\u001b[32m [repeated 26x across cluster]\u001b[0m\n",
      "\u001b[2m\u001b[36m(ClientAppActor pid=1320832)\u001b[0m Epoch 15: Training accuracy: 80.32544708251953 Testing accuracy: 77.5147933959961.\u001b[32m [repeated 25x across cluster]\u001b[0m\n",
      "\u001b[2m\u001b[36m(ClientAppActor pid=1320835)\u001b[0m \u001b[32m [repeated 31x across cluster]\u001b[0m\n",
      "\u001b[2m\u001b[36m(ClientAppActor pid=1320835)\u001b[0m Epoch 19/100\u001b[32m [repeated 31x across cluster]\u001b[0m\n",
      "\u001b[2m\u001b[36m(ClientAppActor pid=1320835)\u001b[0m Epoch 18: Training accuracy: 81.81089782714844 Testing accuracy: 80.12820434570312.\u001b[32m [repeated 31x across cluster]\u001b[0m\n",
      "\u001b[2m\u001b[36m(ClientAppActor pid=1320832)\u001b[0m \u001b[32m [repeated 34x across cluster]\u001b[0m\n",
      "\u001b[2m\u001b[36m(ClientAppActor pid=1320832)\u001b[0m Epoch 57/100\u001b[32m [repeated 34x across cluster]\u001b[0m\n",
      "\u001b[2m\u001b[36m(ClientAppActor pid=1320832)\u001b[0m Epoch 56: Training accuracy: 81.87870025634766 Testing accuracy: 78.69822692871094.\u001b[32m [repeated 34x across cluster]\u001b[0m\n",
      "\u001b[2m\u001b[36m(ClientAppActor pid=1320835)\u001b[0m \u001b[32m [repeated 53x across cluster]\u001b[0m\n",
      "\u001b[2m\u001b[36m(ClientAppActor pid=1320835)\u001b[0m Epoch 51/100\u001b[32m [repeated 53x across cluster]\u001b[0m\n",
      "\u001b[2m\u001b[36m(ClientAppActor pid=1320835)\u001b[0m Epoch 50: Training accuracy: 83.49359130859375 Testing accuracy: 79.4871826171875.\u001b[32m [repeated 53x across cluster]\u001b[0m\n",
      "\u001b[2m\u001b[36m(ClientAppActor pid=1320835)\u001b[0m \u001b[32m [repeated 132x across cluster]\u001b[0m\n",
      "\u001b[2m\u001b[36m(ClientAppActor pid=1320835)\u001b[0m Epoch 89/100\u001b[32m [repeated 132x across cluster]\u001b[0m\n",
      "\u001b[2m\u001b[36m(ClientAppActor pid=1320835)\u001b[0m Epoch 88: Training accuracy: 83.81410217285156 Testing accuracy: 80.12820434570312.\u001b[32m [repeated 132x across cluster]\u001b[0m\n"
     ]
    },
    {
     "name": "stderr",
     "output_type": "stream",
     "text": [
      "\u001b[92mINFO \u001b[0m:      aggregate_fit: received 3 results and 0 failures\n",
      "\u001b[92mINFO \u001b[0m:      fit progress: (16, 0.05288088321685791, {'accuracy': tensor(71.8169, device='cuda:0')}, 920.7416212090029)\n",
      "\u001b[92mINFO \u001b[0m:      configure_evaluate: strategy sampled 1 clients (out of 3)\n",
      "\u001b[92mINFO \u001b[0m:      aggregate_evaluate: received 1 results and 0 failures\n",
      "\u001b[92mINFO \u001b[0m:      \n",
      "\u001b[92mINFO \u001b[0m:      [ROUND 17]\n",
      "\u001b[92mINFO \u001b[0m:      configure_fit: strategy sampled 3 clients (out of 3)\n"
     ]
    },
    {
     "name": "stdout",
     "output_type": "stream",
     "text": [
      "Server-side evaluation loss 0.05288088321685791 / accuracy 71.81687927246094\n",
      "\u001b[2m\u001b[36m(ClientAppActor pid=1320835)\u001b[0m \u001b[32m [repeated 58x across cluster]\u001b[0m\n",
      "\u001b[2m\u001b[36m(ClientAppActor pid=1320835)\u001b[0m Epoch 11/100\u001b[32m [repeated 58x across cluster]\u001b[0m\n",
      "\u001b[2m\u001b[36m(ClientAppActor pid=1320835)\u001b[0m Epoch 10: Training accuracy: 76.87125396728516 Testing accuracy: 73.65269470214844.\u001b[32m [repeated 58x across cluster]\u001b[0m\n",
      "\u001b[2m\u001b[36m(ClientAppActor pid=1320832)\u001b[0m \u001b[32m [repeated 42x across cluster]\u001b[0m\n",
      "\u001b[2m\u001b[36m(ClientAppActor pid=1320832)\u001b[0m Epoch 42/100\u001b[32m [repeated 42x across cluster]\u001b[0m\n",
      "\u001b[2m\u001b[36m(ClientAppActor pid=1320832)\u001b[0m Epoch 41: Training accuracy: 82.24851989746094 Testing accuracy: 79.2899398803711.\u001b[32m [repeated 42x across cluster]\u001b[0m\n",
      "\u001b[2m\u001b[36m(ClientAppActor pid=1320832)\u001b[0m \u001b[32m [repeated 16x across cluster]\u001b[0m\n",
      "\u001b[2m\u001b[36m(ClientAppActor pid=1320832)\u001b[0m Epoch 51/100\u001b[32m [repeated 16x across cluster]\u001b[0m\n",
      "\u001b[2m\u001b[36m(ClientAppActor pid=1320832)\u001b[0m Epoch 50: Training accuracy: 82.61833953857422 Testing accuracy: 79.2899398803711.\u001b[32m [repeated 16x across cluster]\u001b[0m\n",
      "\u001b[2m\u001b[36m(ClientAppActor pid=1320835)\u001b[0m \u001b[32m [repeated 15x across cluster]\u001b[0m\n",
      "\u001b[2m\u001b[36m(ClientAppActor pid=1320835)\u001b[0m Epoch 45/100\u001b[32m [repeated 15x across cluster]\u001b[0m\n",
      "\u001b[2m\u001b[36m(ClientAppActor pid=1320835)\u001b[0m Epoch 44: Training accuracy: 78.8922119140625 Testing accuracy: 74.25149536132812.\u001b[32m [repeated 15x across cluster]\u001b[0m\n",
      "\u001b[2m\u001b[36m(ClientAppActor pid=1320835)\u001b[0m \u001b[32m [repeated 15x across cluster]\u001b[0m\n",
      "\u001b[2m\u001b[36m(ClientAppActor pid=1320835)\u001b[0m Epoch 52/100\u001b[32m [repeated 15x across cluster]\u001b[0m\n",
      "\u001b[2m\u001b[36m(ClientAppActor pid=1320835)\u001b[0m Epoch 51: Training accuracy: 77.2455062866211 Testing accuracy: 82.03592681884766.\u001b[32m [repeated 15x across cluster]\u001b[0m\n",
      "\u001b[2m\u001b[36m(ClientAppActor pid=1320835)\u001b[0m \u001b[32m [repeated 14x across cluster]\u001b[0m\n",
      "\u001b[2m\u001b[36m(ClientAppActor pid=1320835)\u001b[0m Epoch 58/100\u001b[32m [repeated 14x across cluster]\u001b[0m\n",
      "\u001b[2m\u001b[36m(ClientAppActor pid=1320835)\u001b[0m Epoch 57: Training accuracy: 82.70957946777344 Testing accuracy: 81.43712615966797.\u001b[32m [repeated 14x across cluster]\u001b[0m\n",
      "\u001b[2m\u001b[36m(ClientAppActor pid=1320835)\u001b[0m \u001b[32m [repeated 17x across cluster]\u001b[0m\n",
      "\u001b[2m\u001b[36m(ClientAppActor pid=1320835)\u001b[0m Epoch 65/100\u001b[32m [repeated 17x across cluster]\u001b[0m\n",
      "\u001b[2m\u001b[36m(ClientAppActor pid=1320835)\u001b[0m Epoch 64: Training accuracy: 82.3353271484375 Testing accuracy: 82.03592681884766.\u001b[32m [repeated 17x across cluster]\u001b[0m\n",
      "\u001b[2m\u001b[36m(ClientAppActor pid=1320832)\u001b[0m \u001b[32m [repeated 15x across cluster]\u001b[0m\n",
      "\u001b[2m\u001b[36m(ClientAppActor pid=1320832)\u001b[0m Epoch 94/100\u001b[32m [repeated 15x across cluster]\u001b[0m\n",
      "\u001b[2m\u001b[36m(ClientAppActor pid=1320832)\u001b[0m Epoch 93: Training accuracy: 82.39644622802734 Testing accuracy: 79.88166046142578.\u001b[32m [repeated 15x across cluster]\u001b[0m\n",
      "\u001b[2m\u001b[36m(ClientAppActor pid=1320835)\u001b[0m \u001b[32m [repeated 16x across cluster]\u001b[0m\n",
      "\u001b[2m\u001b[36m(ClientAppActor pid=1320835)\u001b[0m Epoch 79/100\u001b[32m [repeated 16x across cluster]\u001b[0m\n",
      "\u001b[2m\u001b[36m(ClientAppActor pid=1320835)\u001b[0m Epoch 78: Training accuracy: 78.8922119140625 Testing accuracy: 82.63472747802734.\u001b[32m [repeated 16x across cluster]\u001b[0m\n",
      "\u001b[2m\u001b[36m(ClientAppActor pid=1320835)\u001b[0m \u001b[32m [repeated 16x across cluster]\u001b[0m\n",
      "\u001b[2m\u001b[36m(ClientAppActor pid=1320835)\u001b[0m Epoch 85/100\u001b[32m [repeated 16x across cluster]\u001b[0m\n",
      "\u001b[2m\u001b[36m(ClientAppActor pid=1320835)\u001b[0m Epoch 84: Training accuracy: 82.63472747802734 Testing accuracy: 82.03592681884766.\u001b[32m [repeated 16x across cluster]\u001b[0m\n",
      "\u001b[2m\u001b[36m(ClientAppActor pid=1320832)\u001b[0m \u001b[32m [repeated 16x across cluster]\u001b[0m\n",
      "\u001b[2m\u001b[36m(ClientAppActor pid=1320832)\u001b[0m Epoch 21/100\u001b[32m [repeated 16x across cluster]\u001b[0m\n",
      "\u001b[2m\u001b[36m(ClientAppActor pid=1320832)\u001b[0m Epoch 20: Training accuracy: 80.68910217285156 Testing accuracy: 78.20513153076172.\u001b[32m [repeated 16x across cluster]\u001b[0m\n",
      "\u001b[2m\u001b[36m(ClientAppActor pid=1320832)\u001b[0m \u001b[32m [repeated 23x across cluster]\u001b[0m\n",
      "\u001b[2m\u001b[36m(ClientAppActor pid=1320832)\u001b[0m Epoch 38/100\u001b[32m [repeated 23x across cluster]\u001b[0m\n",
      "\u001b[2m\u001b[36m(ClientAppActor pid=1320832)\u001b[0m Epoch 37: Training accuracy: 82.37179565429688 Testing accuracy: 79.4871826171875.\u001b[32m [repeated 23x across cluster]\u001b[0m\n",
      "\u001b[2m\u001b[36m(ClientAppActor pid=1320832)\u001b[0m \u001b[32m [repeated 19x across cluster]\u001b[0m\n",
      "\u001b[2m\u001b[36m(ClientAppActor pid=1320832)\u001b[0m Epoch 55/100\u001b[32m [repeated 19x across cluster]\u001b[0m\n",
      "\u001b[2m\u001b[36m(ClientAppActor pid=1320832)\u001b[0m Epoch 54: Training accuracy: 82.29166412353516 Testing accuracy: 78.20513153076172.\u001b[32m [repeated 20x across cluster]\u001b[0m\n",
      "\u001b[2m\u001b[36m(ClientAppActor pid=1320832)\u001b[0m \u001b[32m [repeated 14x across cluster]\u001b[0m\n",
      "\u001b[2m\u001b[36m(ClientAppActor pid=1320832)\u001b[0m Epoch 69/100\u001b[32m [repeated 14x across cluster]\u001b[0m\n",
      "\u001b[2m\u001b[36m(ClientAppActor pid=1320832)\u001b[0m Epoch 68: Training accuracy: 83.81410217285156 Testing accuracy: 80.12820434570312.\u001b[32m [repeated 14x across cluster]\u001b[0m\n",
      "\u001b[2m\u001b[36m(ClientAppActor pid=1320832)\u001b[0m \u001b[32m [repeated 29x across cluster]\u001b[0m\n",
      "\u001b[2m\u001b[36m(ClientAppActor pid=1320832)\u001b[0m Epoch 98/100\u001b[32m [repeated 29x across cluster]\u001b[0m\n",
      "\u001b[2m\u001b[36m(ClientAppActor pid=1320832)\u001b[0m Epoch 97: Training accuracy: 83.65384674072266 Testing accuracy: 80.12820434570312.\u001b[32m [repeated 29x across cluster]\u001b[0m\n"
     ]
    },
    {
     "name": "stderr",
     "output_type": "stream",
     "text": [
      "\u001b[92mINFO \u001b[0m:      aggregate_fit: received 3 results and 0 failures\n",
      "\u001b[92mINFO \u001b[0m:      fit progress: (17, 0.050418485294688835, {'accuracy': tensor(74.8212, device='cuda:0')}, 998.4994769220066)\n",
      "\u001b[92mINFO \u001b[0m:      configure_evaluate: strategy sampled 1 clients (out of 3)\n",
      "\u001b[92mINFO \u001b[0m:      aggregate_evaluate: received 1 results and 0 failures\n",
      "\u001b[92mINFO \u001b[0m:      \n",
      "\u001b[92mINFO \u001b[0m:      [ROUND 18]\n",
      "\u001b[92mINFO \u001b[0m:      configure_fit: strategy sampled 3 clients (out of 3)\n"
     ]
    },
    {
     "name": "stdout",
     "output_type": "stream",
     "text": [
      "Server-side evaluation loss 0.050418485294688835 / accuracy 74.82117462158203\n",
      "\u001b[2m\u001b[36m(ClientAppActor pid=1320832)\u001b[0m \u001b[32m [repeated 21x across cluster]\u001b[0m\n",
      "\u001b[2m\u001b[36m(ClientAppActor pid=1320832)\u001b[0m Epoch 11/100\u001b[32m [repeated 21x across cluster]\u001b[0m\n",
      "\u001b[2m\u001b[36m(ClientAppActor pid=1320832)\u001b[0m Epoch 10: Training accuracy: 78.74251556396484 Testing accuracy: 80.83832550048828.\u001b[32m [repeated 20x across cluster]\u001b[0m\n",
      "\u001b[2m\u001b[36m(ClientAppActor pid=1320832)\u001b[0m \u001b[32m [repeated 24x across cluster]\u001b[0m\n",
      "\u001b[2m\u001b[36m(ClientAppActor pid=1320832)\u001b[0m Epoch 25/100\u001b[32m [repeated 24x across cluster]\u001b[0m\n",
      "\u001b[2m\u001b[36m(ClientAppActor pid=1320832)\u001b[0m Epoch 24: Training accuracy: 82.03592681884766 Testing accuracy: 82.03592681884766.\u001b[32m [repeated 24x across cluster]\u001b[0m\n",
      "\u001b[2m\u001b[36m(ClientAppActor pid=1320835)\u001b[0m \u001b[32m [repeated 44x across cluster]\u001b[0m\n",
      "\u001b[2m\u001b[36m(ClientAppActor pid=1320835)\u001b[0m Epoch 30/100\u001b[32m [repeated 44x across cluster]\u001b[0m\n",
      "\u001b[2m\u001b[36m(ClientAppActor pid=1320835)\u001b[0m Epoch 29: Training accuracy: 83.17308044433594 Testing accuracy: 78.84615325927734.\u001b[32m [repeated 44x across cluster]\u001b[0m\n",
      "\u001b[2m\u001b[36m(ClientAppActor pid=1320835)\u001b[0m \u001b[32m [repeated 33x across cluster]\u001b[0m\n",
      "\u001b[2m\u001b[36m(ClientAppActor pid=1320835)\u001b[0m Epoch 42/100\u001b[32m [repeated 33x across cluster]\u001b[0m\n",
      "\u001b[2m\u001b[36m(ClientAppActor pid=1320835)\u001b[0m Epoch 41: Training accuracy: 83.0128173828125 Testing accuracy: 78.84615325927734.\u001b[32m [repeated 33x across cluster]\u001b[0m\n",
      "\u001b[2m\u001b[36m(ClientAppActor pid=1320832)\u001b[0m \u001b[32m [repeated 33x across cluster]\u001b[0m\n",
      "\u001b[2m\u001b[36m(ClientAppActor pid=1320832)\u001b[0m Epoch 100/100\u001b[32m [repeated 33x across cluster]\u001b[0m\n",
      "\u001b[2m\u001b[36m(ClientAppActor pid=1320832)\u001b[0m Epoch 100: Training accuracy: 82.85928344726562 Testing accuracy: 79.64071655273438.\u001b[32m [repeated 34x across cluster]\u001b[0m\n",
      "\u001b[2m\u001b[36m(ClientAppActor pid=1320832)\u001b[0m \u001b[32m [repeated 35x across cluster]\u001b[0m\n",
      "\u001b[2m\u001b[36m(ClientAppActor pid=1320832)\u001b[0m Epoch 18/100\u001b[32m [repeated 35x across cluster]\u001b[0m\n",
      "\u001b[2m\u001b[36m(ClientAppActor pid=1320832)\u001b[0m Epoch 17: Training accuracy: 81.36094665527344 Testing accuracy: 78.10650634765625.\u001b[32m [repeated 34x across cluster]\u001b[0m\n",
      "\u001b[2m\u001b[36m(ClientAppActor pid=1320832)\u001b[0m \u001b[32m [repeated 26x across cluster]\u001b[0m\n",
      "\u001b[2m\u001b[36m(ClientAppActor pid=1320832)\u001b[0m Epoch 30/100\u001b[32m [repeated 26x across cluster]\u001b[0m\n",
      "\u001b[2m\u001b[36m(ClientAppActor pid=1320832)\u001b[0m Epoch 29: Training accuracy: 82.76627349853516 Testing accuracy: 81.0650863647461.\u001b[32m [repeated 26x across cluster]\u001b[0m\n",
      "\u001b[2m\u001b[36m(ClientAppActor pid=1320832)\u001b[0m \u001b[32m [repeated 16x across cluster]\u001b[0m\n",
      "\u001b[2m\u001b[36m(ClientAppActor pid=1320832)\u001b[0m Epoch 39/100\u001b[32m [repeated 16x across cluster]\u001b[0m\n",
      "\u001b[2m\u001b[36m(ClientAppActor pid=1320832)\u001b[0m Epoch 38: Training accuracy: 82.39644622802734 Testing accuracy: 78.10650634765625.\u001b[32m [repeated 16x across cluster]\u001b[0m\n",
      "\u001b[2m\u001b[36m(ClientAppActor pid=1320835)\u001b[0m \u001b[32m [repeated 22x across cluster]\u001b[0m\n",
      "\u001b[2m\u001b[36m(ClientAppActor pid=1320835)\u001b[0m Epoch 100/100\u001b[32m [repeated 22x across cluster]\u001b[0m\n",
      "\u001b[2m\u001b[36m(ClientAppActor pid=1320835)\u001b[0m Epoch 99: Training accuracy: 84.05448913574219 Testing accuracy: 79.4871826171875.\u001b[32m [repeated 22x across cluster]\u001b[0m\n",
      "\u001b[2m\u001b[36m(ClientAppActor pid=1320832)\u001b[0m \u001b[32m [repeated 13x across cluster]\u001b[0m\n",
      "\u001b[2m\u001b[36m(ClientAppActor pid=1320832)\u001b[0m Epoch 65/100\u001b[32m [repeated 13x across cluster]\u001b[0m\n",
      "\u001b[2m\u001b[36m(ClientAppActor pid=1320832)\u001b[0m Epoch 64: Training accuracy: 81.28697967529297 Testing accuracy: 77.5147933959961.\u001b[32m [repeated 14x across cluster]\u001b[0m\n",
      "\u001b[2m\u001b[36m(ClientAppActor pid=1320832)\u001b[0m \u001b[32m [repeated 15x across cluster]\u001b[0m\n",
      "\u001b[2m\u001b[36m(ClientAppActor pid=1320832)\u001b[0m Epoch 80/100\u001b[32m [repeated 15x across cluster]\u001b[0m\n",
      "\u001b[2m\u001b[36m(ClientAppActor pid=1320832)\u001b[0m Epoch 79: Training accuracy: 82.76627349853516 Testing accuracy: 78.10650634765625.\u001b[32m [repeated 15x across cluster]\u001b[0m\n",
      "\u001b[2m\u001b[36m(ClientAppActor pid=1320832)\u001b[0m \u001b[32m [repeated 16x across cluster]\u001b[0m\n",
      "\u001b[2m\u001b[36m(ClientAppActor pid=1320832)\u001b[0m Epoch 96/100\u001b[32m [repeated 16x across cluster]\u001b[0m\n",
      "\u001b[2m\u001b[36m(ClientAppActor pid=1320832)\u001b[0m Epoch 95: Training accuracy: 82.61833953857422 Testing accuracy: 79.2899398803711.\u001b[32m [repeated 16x across cluster]\u001b[0m\n"
     ]
    },
    {
     "name": "stderr",
     "output_type": "stream",
     "text": [
      "\u001b[92mINFO \u001b[0m:      aggregate_fit: received 3 results and 0 failures\n",
      "\u001b[92mINFO \u001b[0m:      fit progress: (18, 0.0500967719338157, {'accuracy': tensor(74.9642, device='cuda:0')}, 1063.775258905007)\n",
      "\u001b[92mINFO \u001b[0m:      configure_evaluate: strategy sampled 1 clients (out of 3)\n"
     ]
    },
    {
     "name": "stdout",
     "output_type": "stream",
     "text": [
      "Server-side evaluation loss 0.0500967719338157 / accuracy 74.9642333984375\n"
     ]
    },
    {
     "name": "stderr",
     "output_type": "stream",
     "text": [
      "\u001b[92mINFO \u001b[0m:      aggregate_evaluate: received 1 results and 0 failures\n",
      "\u001b[92mINFO \u001b[0m:      \n",
      "\u001b[92mINFO \u001b[0m:      [ROUND 19]\n",
      "\u001b[92mINFO \u001b[0m:      configure_fit: strategy sampled 3 clients (out of 3)\n"
     ]
    },
    {
     "name": "stdout",
     "output_type": "stream",
     "text": [
      "\u001b[2m\u001b[36m(ClientAppActor pid=1320835)\u001b[0m \u001b[32m [repeated 7x across cluster]\u001b[0m\n",
      "\u001b[2m\u001b[36m(ClientAppActor pid=1320835)\u001b[0m Epoch 2/100\u001b[32m [repeated 7x across cluster]\u001b[0m\n",
      "\u001b[2m\u001b[36m(ClientAppActor pid=1320835)\u001b[0m Epoch 1: Training accuracy: 76.20191955566406 Testing accuracy: 76.28205108642578.\u001b[32m [repeated 6x across cluster]\u001b[0m\n",
      "\u001b[2m\u001b[36m(ClientAppActor pid=1320835)\u001b[0m \u001b[32m [repeated 20x across cluster]\u001b[0m\n",
      "\u001b[2m\u001b[36m(ClientAppActor pid=1320835)\u001b[0m Epoch 12/100\u001b[32m [repeated 20x across cluster]\u001b[0m\n",
      "\u001b[2m\u001b[36m(ClientAppActor pid=1320835)\u001b[0m Epoch 11: Training accuracy: 81.81089782714844 Testing accuracy: 80.76923370361328.\u001b[32m [repeated 20x across cluster]\u001b[0m\n",
      "\u001b[2m\u001b[36m(ClientAppActor pid=1320835)\u001b[0m \u001b[32m [repeated 18x across cluster]\u001b[0m\n",
      "\u001b[2m\u001b[36m(ClientAppActor pid=1320835)\u001b[0m Epoch 22/100\u001b[32m [repeated 18x across cluster]\u001b[0m\n",
      "\u001b[2m\u001b[36m(ClientAppActor pid=1320835)\u001b[0m Epoch 21: Training accuracy: 81.81089782714844 Testing accuracy: 80.12820434570312.\u001b[32m [repeated 18x across cluster]\u001b[0m\n",
      "\u001b[2m\u001b[36m(ClientAppActor pid=1320835)\u001b[0m \u001b[32m [repeated 19x across cluster]\u001b[0m\n",
      "\u001b[2m\u001b[36m(ClientAppActor pid=1320835)\u001b[0m Epoch 30/100\u001b[32m [repeated 19x across cluster]\u001b[0m\n",
      "\u001b[2m\u001b[36m(ClientAppActor pid=1320835)\u001b[0m Epoch 29: Training accuracy: 83.33333587646484 Testing accuracy: 79.4871826171875.\u001b[32m [repeated 19x across cluster]\u001b[0m\n",
      "\u001b[2m\u001b[36m(ClientAppActor pid=1320832)\u001b[0m \u001b[32m [repeated 24x across cluster]\u001b[0m\n",
      "\u001b[2m\u001b[36m(ClientAppActor pid=1320832)\u001b[0m Epoch 45/100\u001b[32m [repeated 24x across cluster]\u001b[0m\n",
      "\u001b[2m\u001b[36m(ClientAppActor pid=1320832)\u001b[0m Epoch 44: Training accuracy: 82.55988311767578 Testing accuracy: 82.03592681884766.\u001b[32m [repeated 24x across cluster]\u001b[0m\n",
      "\u001b[2m\u001b[36m(ClientAppActor pid=1320832)\u001b[0m \u001b[32m [repeated 20x across cluster]\u001b[0m\n",
      "\u001b[2m\u001b[36m(ClientAppActor pid=1320832)\u001b[0m Epoch 57/100\u001b[32m [repeated 20x across cluster]\u001b[0m\n",
      "\u001b[2m\u001b[36m(ClientAppActor pid=1320832)\u001b[0m Epoch 56: Training accuracy: 81.58683013916016 Testing accuracy: 83.23353576660156.\u001b[32m [repeated 20x across cluster]\u001b[0m\n",
      "\u001b[2m\u001b[36m(ClientAppActor pid=1320832)\u001b[0m \u001b[32m [repeated 21x across cluster]\u001b[0m\n",
      "\u001b[2m\u001b[36m(ClientAppActor pid=1320832)\u001b[0m Epoch 69/100\u001b[32m [repeated 21x across cluster]\u001b[0m\n",
      "\u001b[2m\u001b[36m(ClientAppActor pid=1320832)\u001b[0m Epoch 68: Training accuracy: 80.83832550048828 Testing accuracy: 82.63472747802734.\u001b[32m [repeated 21x across cluster]\u001b[0m\n",
      "\u001b[2m\u001b[36m(ClientAppActor pid=1320832)\u001b[0m \u001b[32m [repeated 23x across cluster]\u001b[0m\n",
      "\u001b[2m\u001b[36m(ClientAppActor pid=1320832)\u001b[0m Epoch 82/100\u001b[32m [repeated 23x across cluster]\u001b[0m\n",
      "\u001b[2m\u001b[36m(ClientAppActor pid=1320832)\u001b[0m Epoch 81: Training accuracy: 82.48503112792969 Testing accuracy: 83.23353576660156.\u001b[32m [repeated 23x across cluster]\u001b[0m\n",
      "\u001b[2m\u001b[36m(ClientAppActor pid=1320835)\u001b[0m \u001b[32m [repeated 37x across cluster]\u001b[0m\n",
      "\u001b[2m\u001b[36m(ClientAppActor pid=1320835)\u001b[0m Epoch 82/100\u001b[32m [repeated 37x across cluster]\u001b[0m\n",
      "\u001b[2m\u001b[36m(ClientAppActor pid=1320835)\u001b[0m Epoch 81: Training accuracy: 84.05448913574219 Testing accuracy: 80.76923370361328.\u001b[32m [repeated 37x across cluster]\u001b[0m\n",
      "\u001b[2m\u001b[36m(ClientAppActor pid=1320832)\u001b[0m \u001b[32m [repeated 42x across cluster]\u001b[0m\n",
      "\u001b[2m\u001b[36m(ClientAppActor pid=1320832)\u001b[0m Epoch 27/100\u001b[32m [repeated 42x across cluster]\u001b[0m\n",
      "\u001b[2m\u001b[36m(ClientAppActor pid=1320832)\u001b[0m Epoch 26: Training accuracy: 81.50887298583984 Testing accuracy: 78.10650634765625.\u001b[32m [repeated 43x across cluster]\u001b[0m\n",
      "\u001b[2m\u001b[36m(ClientAppActor pid=1320832)\u001b[0m \u001b[32m [repeated 13x across cluster]\u001b[0m\n",
      "\u001b[2m\u001b[36m(ClientAppActor pid=1320832)\u001b[0m Epoch 40/100\u001b[32m [repeated 13x across cluster]\u001b[0m\n",
      "\u001b[2m\u001b[36m(ClientAppActor pid=1320832)\u001b[0m Epoch 39: Training accuracy: 82.10059356689453 Testing accuracy: 79.88166046142578.\u001b[32m [repeated 13x across cluster]\u001b[0m\n",
      "\u001b[2m\u001b[36m(ClientAppActor pid=1320832)\u001b[0m \u001b[32m [repeated 16x across cluster]\u001b[0m\n",
      "\u001b[2m\u001b[36m(ClientAppActor pid=1320832)\u001b[0m Epoch 56/100\u001b[32m [repeated 16x across cluster]\u001b[0m\n",
      "\u001b[2m\u001b[36m(ClientAppActor pid=1320832)\u001b[0m Epoch 55: Training accuracy: 80.47337341308594 Testing accuracy: 76.33135986328125.\u001b[32m [repeated 16x across cluster]\u001b[0m\n",
      "\u001b[2m\u001b[36m(ClientAppActor pid=1320832)\u001b[0m \u001b[32m [repeated 12x across cluster]\u001b[0m\n",
      "\u001b[2m\u001b[36m(ClientAppActor pid=1320832)\u001b[0m Epoch 68/100\u001b[32m [repeated 12x across cluster]\u001b[0m\n",
      "\u001b[2m\u001b[36m(ClientAppActor pid=1320832)\u001b[0m Epoch 67: Training accuracy: 82.24851989746094 Testing accuracy: 78.69822692871094.\u001b[32m [repeated 12x across cluster]\u001b[0m\n",
      "\u001b[2m\u001b[36m(ClientAppActor pid=1320832)\u001b[0m \u001b[32m [repeated 8x across cluster]\u001b[0m\n",
      "\u001b[2m\u001b[36m(ClientAppActor pid=1320832)\u001b[0m Epoch 76/100\u001b[32m [repeated 8x across cluster]\u001b[0m\n",
      "\u001b[2m\u001b[36m(ClientAppActor pid=1320832)\u001b[0m Epoch 75: Training accuracy: 82.91419982910156 Testing accuracy: 79.88166046142578.\u001b[32m [repeated 8x across cluster]\u001b[0m\n",
      "\u001b[2m\u001b[36m(ClientAppActor pid=1320832)\u001b[0m \u001b[32m [repeated 9x across cluster]\u001b[0m\n",
      "\u001b[2m\u001b[36m(ClientAppActor pid=1320832)\u001b[0m Epoch 85/100\u001b[32m [repeated 9x across cluster]\u001b[0m\n",
      "\u001b[2m\u001b[36m(ClientAppActor pid=1320832)\u001b[0m Epoch 84: Training accuracy: 79.88166046142578 Testing accuracy: 77.5147933959961.\u001b[32m [repeated 9x across cluster]\u001b[0m\n",
      "\u001b[2m\u001b[36m(ClientAppActor pid=1320832)\u001b[0m \u001b[32m [repeated 9x across cluster]\u001b[0m\n",
      "\u001b[2m\u001b[36m(ClientAppActor pid=1320832)\u001b[0m Epoch 94/100\u001b[32m [repeated 9x across cluster]\u001b[0m\n",
      "\u001b[2m\u001b[36m(ClientAppActor pid=1320832)\u001b[0m Epoch 93: Training accuracy: 80.10355377197266 Testing accuracy: 78.10650634765625.\u001b[32m [repeated 9x across cluster]\u001b[0m\n"
     ]
    },
    {
     "name": "stderr",
     "output_type": "stream",
     "text": [
      "\u001b[92mINFO \u001b[0m:      aggregate_fit: received 3 results and 0 failures\n",
      "\u001b[92mINFO \u001b[0m:      fit progress: (19, 0.049483624371615326, {'accuracy': tensor(74.2489, device='cuda:0')}, 1148.5982805970125)\n",
      "\u001b[92mINFO \u001b[0m:      configure_evaluate: strategy sampled 1 clients (out of 3)\n",
      "\u001b[92mINFO \u001b[0m:      aggregate_evaluate: received 1 results and 0 failures\n",
      "\u001b[92mINFO \u001b[0m:      \n",
      "\u001b[92mINFO \u001b[0m:      [ROUND 20]\n",
      "\u001b[92mINFO \u001b[0m:      configure_fit: strategy sampled 3 clients (out of 3)\n"
     ]
    },
    {
     "name": "stdout",
     "output_type": "stream",
     "text": [
      "Server-side evaluation loss 0.049483624371615326 / accuracy 74.2489242553711\n",
      "\u001b[2m\u001b[36m(ClientAppActor pid=1320835)\u001b[0m \u001b[32m [repeated 8x across cluster]\u001b[0m\n",
      "\u001b[2m\u001b[36m(ClientAppActor pid=1320835)\u001b[0m Epoch 1/100\u001b[32m [repeated 8x across cluster]\u001b[0m\n",
      "\u001b[2m\u001b[36m(ClientAppActor pid=1320832)\u001b[0m Epoch 100: Training accuracy: 82.3224868774414 Testing accuracy: 79.88166046142578.\u001b[32m [repeated 7x across cluster]\u001b[0m\n",
      "\u001b[2m\u001b[36m(ClientAppActor pid=1320832)\u001b[0m \u001b[32m [repeated 14x across cluster]\u001b[0m\n",
      "\u001b[2m\u001b[36m(ClientAppActor pid=1320832)\u001b[0m Epoch 9/100\u001b[32m [repeated 14x across cluster]\u001b[0m\n",
      "\u001b[2m\u001b[36m(ClientAppActor pid=1320832)\u001b[0m Epoch 8: Training accuracy: 81.36094665527344 Testing accuracy: 77.5147933959961.\u001b[32m [repeated 14x across cluster]\u001b[0m\n",
      "\u001b[2m\u001b[36m(ClientAppActor pid=1320835)\u001b[0m \u001b[32m [repeated 17x across cluster]\u001b[0m\n",
      "\u001b[2m\u001b[36m(ClientAppActor pid=1320835)\u001b[0m Epoch 15/100\u001b[32m [repeated 17x across cluster]\u001b[0m\n",
      "\u001b[2m\u001b[36m(ClientAppActor pid=1320835)\u001b[0m Epoch 14: Training accuracy: 81.25 Testing accuracy: 78.20513153076172.\u001b[32m [repeated 17x across cluster]\u001b[0m\n",
      "\u001b[2m\u001b[36m(ClientAppActor pid=1320832)\u001b[0m \u001b[32m [repeated 15x across cluster]\u001b[0m\n",
      "\u001b[2m\u001b[36m(ClientAppActor pid=1320832)\u001b[0m Epoch 27/100\u001b[32m [repeated 15x across cluster]\u001b[0m\n",
      "\u001b[2m\u001b[36m(ClientAppActor pid=1320832)\u001b[0m Epoch 26: Training accuracy: 82.3224868774414 Testing accuracy: 78.69822692871094.\u001b[32m [repeated 15x across cluster]\u001b[0m\n",
      "\u001b[2m\u001b[36m(ClientAppActor pid=1320835)\u001b[0m \u001b[32m [repeated 16x across cluster]\u001b[0m\n",
      "\u001b[2m\u001b[36m(ClientAppActor pid=1320835)\u001b[0m Epoch 29/100\u001b[32m [repeated 16x across cluster]\u001b[0m\n",
      "\u001b[2m\u001b[36m(ClientAppActor pid=1320835)\u001b[0m Epoch 28: Training accuracy: 81.0897445678711 Testing accuracy: 78.20513153076172.\u001b[32m [repeated 16x across cluster]\u001b[0m\n",
      "\u001b[2m\u001b[36m(ClientAppActor pid=1320835)\u001b[0m \u001b[32m [repeated 16x across cluster]\u001b[0m\n",
      "\u001b[2m\u001b[36m(ClientAppActor pid=1320835)\u001b[0m Epoch 36/100\u001b[32m [repeated 16x across cluster]\u001b[0m\n",
      "\u001b[2m\u001b[36m(ClientAppActor pid=1320835)\u001b[0m Epoch 35: Training accuracy: 82.21154022216797 Testing accuracy: 78.84615325927734.\u001b[32m [repeated 16x across cluster]\u001b[0m\n",
      "\u001b[2m\u001b[36m(ClientAppActor pid=1320832)\u001b[0m \u001b[32m [repeated 23x across cluster]\u001b[0m\n",
      "\u001b[2m\u001b[36m(ClientAppActor pid=1320832)\u001b[0m Epoch 57/100\u001b[32m [repeated 23x across cluster]\u001b[0m\n",
      "\u001b[2m\u001b[36m(ClientAppActor pid=1320832)\u001b[0m Epoch 56: Training accuracy: 81.73076629638672 Testing accuracy: 78.69822692871094.\u001b[32m [repeated 23x across cluster]\u001b[0m\n",
      "\u001b[2m\u001b[36m(ClientAppActor pid=1320835)\u001b[0m \u001b[32m [repeated 28x across cluster]\u001b[0m\n",
      "\u001b[2m\u001b[36m(ClientAppActor pid=1320835)\u001b[0m Epoch 63/100\u001b[32m [repeated 28x across cluster]\u001b[0m\n",
      "\u001b[2m\u001b[36m(ClientAppActor pid=1320835)\u001b[0m Epoch 62: Training accuracy: 80.52884674072266 Testing accuracy: 75.64102935791016.\u001b[32m [repeated 28x across cluster]\u001b[0m\n",
      "\u001b[2m\u001b[36m(ClientAppActor pid=1320832)\u001b[0m \u001b[32m [repeated 125x across cluster]\u001b[0m\n",
      "\u001b[2m\u001b[36m(ClientAppActor pid=1320832)\u001b[0m Epoch 56/100\u001b[32m [repeated 125x across cluster]\u001b[0m\n",
      "\u001b[2m\u001b[36m(ClientAppActor pid=1320832)\u001b[0m Epoch 55: Training accuracy: 82.48503112792969 Testing accuracy: 83.83233642578125.\u001b[32m [repeated 126x across cluster]\u001b[0m\n"
     ]
    },
    {
     "name": "stderr",
     "output_type": "stream",
     "text": [
      "\u001b[92mINFO \u001b[0m:      aggregate_fit: received 3 results and 0 failures\n",
      "\u001b[92mINFO \u001b[0m:      fit progress: (20, 0.052069008350372314, {'accuracy': tensor(73.3906, device='cuda:0')}, 1193.6128515940072)\n",
      "\u001b[92mINFO \u001b[0m:      configure_evaluate: strategy sampled 1 clients (out of 3)\n",
      "\u001b[92mINFO \u001b[0m:      aggregate_evaluate: received 1 results and 0 failures\n",
      "\u001b[92mINFO \u001b[0m:      \n",
      "\u001b[92mINFO \u001b[0m:      [ROUND 21]\n",
      "\u001b[92mINFO \u001b[0m:      configure_fit: strategy sampled 3 clients (out of 3)\n"
     ]
    },
    {
     "name": "stdout",
     "output_type": "stream",
     "text": [
      "Server-side evaluation loss 0.052069008350372314 / accuracy 73.39055633544922\n",
      "\u001b[2m\u001b[36m(ClientAppActor pid=1320835)\u001b[0m \u001b[32m [repeated 92x across cluster]\u001b[0m\n",
      "\u001b[2m\u001b[36m(ClientAppActor pid=1320835)\u001b[0m Epoch 30/100\u001b[32m [repeated 92x across cluster]\u001b[0m\n",
      "\u001b[2m\u001b[36m(ClientAppActor pid=1320835)\u001b[0m Epoch 29: Training accuracy: 83.57371520996094 Testing accuracy: 79.4871826171875.\u001b[32m [repeated 91x across cluster]\u001b[0m\n",
      "\u001b[2m\u001b[36m(ClientAppActor pid=1320835)\u001b[0m \u001b[32m [repeated 16x across cluster]\u001b[0m\n",
      "\u001b[2m\u001b[36m(ClientAppActor pid=1320835)\u001b[0m Epoch 37/100\u001b[32m [repeated 16x across cluster]\u001b[0m\n",
      "\u001b[2m\u001b[36m(ClientAppActor pid=1320835)\u001b[0m Epoch 36: Training accuracy: 83.0128173828125 Testing accuracy: 79.4871826171875.\u001b[32m [repeated 16x across cluster]\u001b[0m\n",
      "\u001b[2m\u001b[36m(ClientAppActor pid=1320835)\u001b[0m \u001b[32m [repeated 15x across cluster]\u001b[0m\n",
      "\u001b[2m\u001b[36m(ClientAppActor pid=1320835)\u001b[0m Epoch 44/100\u001b[32m [repeated 15x across cluster]\u001b[0m\n",
      "\u001b[2m\u001b[36m(ClientAppActor pid=1320835)\u001b[0m Epoch 43: Training accuracy: 82.8525619506836 Testing accuracy: 79.4871826171875.\u001b[32m [repeated 15x across cluster]\u001b[0m\n",
      "\u001b[2m\u001b[36m(ClientAppActor pid=1320835)\u001b[0m \u001b[32m [repeated 16x across cluster]\u001b[0m\n",
      "\u001b[2m\u001b[36m(ClientAppActor pid=1320835)\u001b[0m Epoch 51/100\u001b[32m [repeated 16x across cluster]\u001b[0m\n",
      "\u001b[2m\u001b[36m(ClientAppActor pid=1320835)\u001b[0m Epoch 50: Training accuracy: 83.57371520996094 Testing accuracy: 80.12820434570312.\u001b[32m [repeated 16x across cluster]\u001b[0m\n",
      "\u001b[2m\u001b[36m(ClientAppActor pid=1320835)\u001b[0m \u001b[32m [repeated 17x across cluster]\u001b[0m\n",
      "\u001b[2m\u001b[36m(ClientAppActor pid=1320835)\u001b[0m Epoch 58/100\u001b[32m [repeated 17x across cluster]\u001b[0m\n",
      "\u001b[2m\u001b[36m(ClientAppActor pid=1320835)\u001b[0m Epoch 57: Training accuracy: 83.17308044433594 Testing accuracy: 80.12820434570312.\u001b[32m [repeated 17x across cluster]\u001b[0m\n",
      "\u001b[2m\u001b[36m(ClientAppActor pid=1320835)\u001b[0m \u001b[32m [repeated 15x across cluster]\u001b[0m\n",
      "\u001b[2m\u001b[36m(ClientAppActor pid=1320835)\u001b[0m Epoch 65/100\u001b[32m [repeated 15x across cluster]\u001b[0m\n",
      "\u001b[2m\u001b[36m(ClientAppActor pid=1320835)\u001b[0m Epoch 64: Training accuracy: 83.17308044433594 Testing accuracy: 80.76923370361328.\u001b[32m [repeated 15x across cluster]\u001b[0m\n",
      "\u001b[2m\u001b[36m(ClientAppActor pid=1320835)\u001b[0m \u001b[32m [repeated 17x across cluster]\u001b[0m\n",
      "\u001b[2m\u001b[36m(ClientAppActor pid=1320835)\u001b[0m Epoch 72/100\u001b[32m [repeated 17x across cluster]\u001b[0m\n",
      "\u001b[2m\u001b[36m(ClientAppActor pid=1320835)\u001b[0m Epoch 71: Training accuracy: 84.13461303710938 Testing accuracy: 80.76923370361328.\u001b[32m [repeated 17x across cluster]\u001b[0m\n",
      "\u001b[2m\u001b[36m(ClientAppActor pid=1320835)\u001b[0m \u001b[32m [repeated 16x across cluster]\u001b[0m\n",
      "\u001b[2m\u001b[36m(ClientAppActor pid=1320835)\u001b[0m Epoch 79/100\u001b[32m [repeated 16x across cluster]\u001b[0m\n",
      "\u001b[2m\u001b[36m(ClientAppActor pid=1320835)\u001b[0m Epoch 78: Training accuracy: 83.57371520996094 Testing accuracy: 79.4871826171875.\u001b[32m [repeated 16x across cluster]\u001b[0m\n",
      "\u001b[2m\u001b[36m(ClientAppActor pid=1320832)\u001b[0m \u001b[32m [repeated 17x across cluster]\u001b[0m\n",
      "\u001b[2m\u001b[36m(ClientAppActor pid=1320832)\u001b[0m Epoch 89/100\u001b[32m [repeated 17x across cluster]\u001b[0m\n",
      "\u001b[2m\u001b[36m(ClientAppActor pid=1320832)\u001b[0m Epoch 88: Training accuracy: 83.00897979736328 Testing accuracy: 82.03592681884766.\u001b[32m [repeated 17x across cluster]\u001b[0m\n",
      "\u001b[2m\u001b[36m(ClientAppActor pid=1320835)\u001b[0m \u001b[32m [repeated 17x across cluster]\u001b[0m\n",
      "\u001b[2m\u001b[36m(ClientAppActor pid=1320835)\u001b[0m Epoch 96/100\u001b[32m [repeated 17x across cluster]\u001b[0m\n",
      "\u001b[2m\u001b[36m(ClientAppActor pid=1320835)\u001b[0m Epoch 95: Training accuracy: 83.97435760498047 Testing accuracy: 80.12820434570312.\u001b[32m [repeated 17x across cluster]\u001b[0m\n",
      "\u001b[2m\u001b[36m(ClientAppActor pid=1320832)\u001b[0m \u001b[32m [repeated 14x across cluster]\u001b[0m\n",
      "\u001b[2m\u001b[36m(ClientAppActor pid=1320832)\u001b[0m Epoch 8/100\u001b[32m [repeated 14x across cluster]\u001b[0m\n",
      "\u001b[2m\u001b[36m(ClientAppActor pid=1320832)\u001b[0m Epoch 7: Training accuracy: 81.36094665527344 Testing accuracy: 78.69822692871094.\u001b[32m [repeated 15x across cluster]\u001b[0m\n",
      "\u001b[2m\u001b[36m(ClientAppActor pid=1320832)\u001b[0m \u001b[32m [repeated 7x across cluster]\u001b[0m\n",
      "\u001b[2m\u001b[36m(ClientAppActor pid=1320832)\u001b[0m Epoch 15/100\u001b[32m [repeated 7x across cluster]\u001b[0m\n",
      "\u001b[2m\u001b[36m(ClientAppActor pid=1320832)\u001b[0m Epoch 14: Training accuracy: 82.54438018798828 Testing accuracy: 80.47337341308594.\u001b[32m [repeated 7x across cluster]\u001b[0m\n",
      "\u001b[2m\u001b[36m(ClientAppActor pid=1320832)\u001b[0m \u001b[32m [repeated 15x across cluster]\u001b[0m\n",
      "\u001b[2m\u001b[36m(ClientAppActor pid=1320832)\u001b[0m Epoch 30/100\u001b[32m [repeated 15x across cluster]\u001b[0m\n",
      "\u001b[2m\u001b[36m(ClientAppActor pid=1320832)\u001b[0m Epoch 29: Training accuracy: 82.10059356689453 Testing accuracy: 77.5147933959961.\u001b[32m [repeated 15x across cluster]\u001b[0m\n",
      "\u001b[2m\u001b[36m(ClientAppActor pid=1320832)\u001b[0m \u001b[32m [repeated 12x across cluster]\u001b[0m\n",
      "\u001b[2m\u001b[36m(ClientAppActor pid=1320832)\u001b[0m Epoch 42/100\u001b[32m [repeated 12x across cluster]\u001b[0m\n",
      "\u001b[2m\u001b[36m(ClientAppActor pid=1320832)\u001b[0m Epoch 41: Training accuracy: 82.54438018798828 Testing accuracy: 79.88166046142578.\u001b[32m [repeated 12x across cluster]\u001b[0m\n",
      "\u001b[2m\u001b[36m(ClientAppActor pid=1320832)\u001b[0m \u001b[32m [repeated 14x across cluster]\u001b[0m\n",
      "\u001b[2m\u001b[36m(ClientAppActor pid=1320832)\u001b[0m Epoch 56/100\u001b[32m [repeated 14x across cluster]\u001b[0m\n",
      "\u001b[2m\u001b[36m(ClientAppActor pid=1320832)\u001b[0m Epoch 55: Training accuracy: 82.39644622802734 Testing accuracy: 80.47337341308594.\u001b[32m [repeated 14x across cluster]\u001b[0m\n",
      "\u001b[2m\u001b[36m(ClientAppActor pid=1320832)\u001b[0m \u001b[32m [repeated 9x across cluster]\u001b[0m\n",
      "\u001b[2m\u001b[36m(ClientAppActor pid=1320832)\u001b[0m Epoch 65/100\u001b[32m [repeated 9x across cluster]\u001b[0m\n",
      "\u001b[2m\u001b[36m(ClientAppActor pid=1320832)\u001b[0m Epoch 64: Training accuracy: 82.76627349853516 Testing accuracy: 79.2899398803711.\u001b[32m [repeated 9x across cluster]\u001b[0m\n",
      "\u001b[2m\u001b[36m(ClientAppActor pid=1320832)\u001b[0m \u001b[32m [repeated 13x across cluster]\u001b[0m\n",
      "\u001b[2m\u001b[36m(ClientAppActor pid=1320832)\u001b[0m Epoch 78/100\u001b[32m [repeated 13x across cluster]\u001b[0m\n",
      "\u001b[2m\u001b[36m(ClientAppActor pid=1320832)\u001b[0m Epoch 77: Training accuracy: 81.4349136352539 Testing accuracy: 78.10650634765625.\u001b[32m [repeated 13x across cluster]\u001b[0m\n",
      "\u001b[2m\u001b[36m(ClientAppActor pid=1320832)\u001b[0m \u001b[32m [repeated 12x across cluster]\u001b[0m\n",
      "\u001b[2m\u001b[36m(ClientAppActor pid=1320832)\u001b[0m Epoch 90/100\u001b[32m [repeated 12x across cluster]\u001b[0m\n",
      "\u001b[2m\u001b[36m(ClientAppActor pid=1320832)\u001b[0m Epoch 89: Training accuracy: 82.54438018798828 Testing accuracy: 79.88166046142578.\u001b[32m [repeated 12x across cluster]\u001b[0m\n"
     ]
    },
    {
     "name": "stderr",
     "output_type": "stream",
     "text": [
      "\u001b[92mINFO \u001b[0m:      aggregate_fit: received 3 results and 0 failures\n",
      "\u001b[92mINFO \u001b[0m:      fit progress: (21, 0.049415360797535286, {'accuracy': tensor(74.6781, device='cuda:0')}, 1290.1885782169993)\n",
      "\u001b[92mINFO \u001b[0m:      configure_evaluate: strategy sampled 1 clients (out of 3)\n",
      "\u001b[92mINFO \u001b[0m:      aggregate_evaluate: received 1 results and 0 failures\n",
      "\u001b[92mINFO \u001b[0m:      \n",
      "\u001b[92mINFO \u001b[0m:      [ROUND 22]\n",
      "\u001b[92mINFO \u001b[0m:      configure_fit: strategy sampled 3 clients (out of 3)\n"
     ]
    },
    {
     "name": "stdout",
     "output_type": "stream",
     "text": [
      "Server-side evaluation loss 0.049415360797535286 / accuracy 74.67810821533203\n",
      "\u001b[2m\u001b[36m(ClientAppActor pid=1320835)\u001b[0m \u001b[32m [repeated 11x across cluster]\u001b[0m\n",
      "\u001b[2m\u001b[36m(ClientAppActor pid=1320835)\u001b[0m Epoch 1/100\u001b[32m [repeated 11x across cluster]\u001b[0m\n",
      "\u001b[2m\u001b[36m(ClientAppActor pid=1320832)\u001b[0m Epoch 100: Training accuracy: 81.73076629638672 Testing accuracy: 78.69822692871094.\u001b[32m [repeated 11x across cluster]\u001b[0m\n",
      "\u001b[2m\u001b[36m(ClientAppActor pid=1320835)\u001b[0m \u001b[32m [repeated 32x across cluster]\u001b[0m\n",
      "\u001b[2m\u001b[36m(ClientAppActor pid=1320835)\u001b[0m Epoch 21/100\u001b[32m [repeated 32x across cluster]\u001b[0m\n",
      "\u001b[2m\u001b[36m(ClientAppActor pid=1320835)\u001b[0m Epoch 20: Training accuracy: 80.1646728515625 Testing accuracy: 83.23353576660156.\u001b[32m [repeated 31x across cluster]\u001b[0m\n",
      "\u001b[2m\u001b[36m(ClientAppActor pid=1320835)\u001b[0m \u001b[32m [repeated 31x across cluster]\u001b[0m\n",
      "\u001b[2m\u001b[36m(ClientAppActor pid=1320835)\u001b[0m Epoch 39/100\u001b[32m [repeated 31x across cluster]\u001b[0m\n",
      "\u001b[2m\u001b[36m(ClientAppActor pid=1320835)\u001b[0m Epoch 38: Training accuracy: 82.78443145751953 Testing accuracy: 82.03592681884766.\u001b[32m [repeated 31x across cluster]\u001b[0m\n",
      "\u001b[2m\u001b[36m(ClientAppActor pid=1320835)\u001b[0m \u001b[32m [repeated 36x across cluster]\u001b[0m\n",
      "\u001b[2m\u001b[36m(ClientAppActor pid=1320835)\u001b[0m Epoch 57/100\u001b[32m [repeated 36x across cluster]\u001b[0m\n",
      "\u001b[2m\u001b[36m(ClientAppActor pid=1320835)\u001b[0m Epoch 56: Training accuracy: 82.85928344726562 Testing accuracy: 83.23353576660156.\u001b[32m [repeated 36x across cluster]\u001b[0m\n",
      "\u001b[2m\u001b[36m(ClientAppActor pid=1320832)\u001b[0m \u001b[32m [repeated 23x across cluster]\u001b[0m\n",
      "\u001b[2m\u001b[36m(ClientAppActor pid=1320832)\u001b[0m Epoch 57/100\u001b[32m [repeated 23x across cluster]\u001b[0m\n",
      "\u001b[2m\u001b[36m(ClientAppActor pid=1320832)\u001b[0m Epoch 56: Training accuracy: 84.2147445678711 Testing accuracy: 80.12820434570312.\u001b[32m [repeated 23x across cluster]\u001b[0m\n",
      "\u001b[2m\u001b[36m(ClientAppActor pid=1320835)\u001b[0m \u001b[32m [repeated 24x across cluster]\u001b[0m\n",
      "\u001b[2m\u001b[36m(ClientAppActor pid=1320835)\u001b[0m Epoch 77/100\u001b[32m [repeated 24x across cluster]\u001b[0m\n",
      "\u001b[2m\u001b[36m(ClientAppActor pid=1320835)\u001b[0m Epoch 76: Training accuracy: 82.4101791381836 Testing accuracy: 83.23353576660156.\u001b[32m [repeated 24x across cluster]\u001b[0m\n",
      "\u001b[2m\u001b[36m(ClientAppActor pid=1320835)\u001b[0m \u001b[32m [repeated 27x across cluster]\u001b[0m\n",
      "\u001b[2m\u001b[36m(ClientAppActor pid=1320835)\u001b[0m Epoch 87/100\u001b[32m [repeated 27x across cluster]\u001b[0m\n",
      "\u001b[2m\u001b[36m(ClientAppActor pid=1320835)\u001b[0m Epoch 86: Training accuracy: 82.11077880859375 Testing accuracy: 82.63472747802734.\u001b[32m [repeated 27x across cluster]\u001b[0m\n",
      "\u001b[2m\u001b[36m(ClientAppActor pid=1320832)\u001b[0m \u001b[32m [repeated 23x across cluster]\u001b[0m\n",
      "\u001b[2m\u001b[36m(ClientAppActor pid=1320832)\u001b[0m Epoch 1/100\u001b[32m [repeated 23x across cluster]\u001b[0m\n",
      "\u001b[2m\u001b[36m(ClientAppActor pid=1320835)\u001b[0m Epoch 95: Training accuracy: 83.08383178710938 Testing accuracy: 82.63472747802734.\u001b[32m [repeated 23x across cluster]\u001b[0m\n",
      "\u001b[2m\u001b[36m(ClientAppActor pid=1320832)\u001b[0m \u001b[32m [repeated 12x across cluster]\u001b[0m\n",
      "\u001b[2m\u001b[36m(ClientAppActor pid=1320832)\u001b[0m Epoch 9/100\u001b[32m [repeated 12x across cluster]\u001b[0m\n",
      "\u001b[2m\u001b[36m(ClientAppActor pid=1320832)\u001b[0m Epoch 8: Training accuracy: 80.91716003417969 Testing accuracy: 78.10650634765625.\u001b[32m [repeated 13x across cluster]\u001b[0m\n",
      "\u001b[2m\u001b[36m(ClientAppActor pid=1320832)\u001b[0m \u001b[32m [repeated 9x across cluster]\u001b[0m\n",
      "\u001b[2m\u001b[36m(ClientAppActor pid=1320832)\u001b[0m Epoch 18/100\u001b[32m [repeated 9x across cluster]\u001b[0m\n",
      "\u001b[2m\u001b[36m(ClientAppActor pid=1320832)\u001b[0m Epoch 17: Training accuracy: 82.69230651855469 Testing accuracy: 81.0650863647461.\u001b[32m [repeated 9x across cluster]\u001b[0m\n",
      "\u001b[2m\u001b[36m(ClientAppActor pid=1320832)\u001b[0m \u001b[32m [repeated 9x across cluster]\u001b[0m\n",
      "\u001b[2m\u001b[36m(ClientAppActor pid=1320832)\u001b[0m Epoch 27/100\u001b[32m [repeated 9x across cluster]\u001b[0m\n",
      "\u001b[2m\u001b[36m(ClientAppActor pid=1320832)\u001b[0m Epoch 26: Training accuracy: 82.39644622802734 Testing accuracy: 79.88166046142578.\u001b[32m [repeated 9x across cluster]\u001b[0m\n",
      "\u001b[2m\u001b[36m(ClientAppActor pid=1320832)\u001b[0m \u001b[32m [repeated 9x across cluster]\u001b[0m\n",
      "\u001b[2m\u001b[36m(ClientAppActor pid=1320832)\u001b[0m Epoch 36/100\u001b[32m [repeated 9x across cluster]\u001b[0m\n",
      "\u001b[2m\u001b[36m(ClientAppActor pid=1320832)\u001b[0m Epoch 35: Training accuracy: 82.91419982910156 Testing accuracy: 81.0650863647461.\u001b[32m [repeated 9x across cluster]\u001b[0m\n",
      "\u001b[2m\u001b[36m(ClientAppActor pid=1320832)\u001b[0m \u001b[32m [repeated 8x across cluster]\u001b[0m\n",
      "\u001b[2m\u001b[36m(ClientAppActor pid=1320832)\u001b[0m Epoch 44/100\u001b[32m [repeated 8x across cluster]\u001b[0m\n",
      "\u001b[2m\u001b[36m(ClientAppActor pid=1320832)\u001b[0m Epoch 43: Training accuracy: 81.0650863647461 Testing accuracy: 78.10650634765625.\u001b[32m [repeated 8x across cluster]\u001b[0m\n",
      "\u001b[2m\u001b[36m(ClientAppActor pid=1320832)\u001b[0m \u001b[32m [repeated 9x across cluster]\u001b[0m\n",
      "\u001b[2m\u001b[36m(ClientAppActor pid=1320832)\u001b[0m Epoch 53/100\u001b[32m [repeated 9x across cluster]\u001b[0m\n",
      "\u001b[2m\u001b[36m(ClientAppActor pid=1320832)\u001b[0m Epoch 52: Training accuracy: 82.54438018798828 Testing accuracy: 79.88166046142578.\u001b[32m [repeated 9x across cluster]\u001b[0m\n",
      "\u001b[2m\u001b[36m(ClientAppActor pid=1320832)\u001b[0m \u001b[32m [repeated 8x across cluster]\u001b[0m\n",
      "\u001b[2m\u001b[36m(ClientAppActor pid=1320832)\u001b[0m Epoch 61/100\u001b[32m [repeated 8x across cluster]\u001b[0m\n",
      "\u001b[2m\u001b[36m(ClientAppActor pid=1320832)\u001b[0m Epoch 60: Training accuracy: 82.98816680908203 Testing accuracy: 80.47337341308594.\u001b[32m [repeated 8x across cluster]\u001b[0m\n",
      "\u001b[2m\u001b[36m(ClientAppActor pid=1320832)\u001b[0m \u001b[32m [repeated 9x across cluster]\u001b[0m\n",
      "\u001b[2m\u001b[36m(ClientAppActor pid=1320832)\u001b[0m Epoch 70/100\u001b[32m [repeated 9x across cluster]\u001b[0m\n",
      "\u001b[2m\u001b[36m(ClientAppActor pid=1320832)\u001b[0m Epoch 69: Training accuracy: 82.54438018798828 Testing accuracy: 79.88166046142578.\u001b[32m [repeated 9x across cluster]\u001b[0m\n",
      "\u001b[2m\u001b[36m(ClientAppActor pid=1320832)\u001b[0m \u001b[32m [repeated 19x across cluster]\u001b[0m\n",
      "\u001b[2m\u001b[36m(ClientAppActor pid=1320832)\u001b[0m Epoch 89/100\u001b[32m [repeated 19x across cluster]\u001b[0m\n",
      "\u001b[2m\u001b[36m(ClientAppActor pid=1320832)\u001b[0m Epoch 88: Training accuracy: 81.73076629638672 Testing accuracy: 79.2899398803711.\u001b[32m [repeated 19x across cluster]\u001b[0m\n"
     ]
    },
    {
     "name": "stderr",
     "output_type": "stream",
     "text": [
      "\u001b[92mINFO \u001b[0m:      aggregate_fit: received 3 results and 0 failures\n",
      "\u001b[92mINFO \u001b[0m:      fit progress: (22, 0.051423257047479805, {'accuracy': tensor(72.5322, device='cuda:0')}, 1377.638434004999)\n",
      "\u001b[92mINFO \u001b[0m:      configure_evaluate: strategy sampled 1 clients (out of 3)\n",
      "\u001b[92mINFO \u001b[0m:      aggregate_evaluate: received 1 results and 0 failures\n",
      "\u001b[92mINFO \u001b[0m:      \n",
      "\u001b[92mINFO \u001b[0m:      [ROUND 23]\n",
      "\u001b[92mINFO \u001b[0m:      configure_fit: strategy sampled 3 clients (out of 3)\n"
     ]
    },
    {
     "name": "stdout",
     "output_type": "stream",
     "text": [
      "Server-side evaluation loss 0.051423257047479805 / accuracy 72.53218841552734\n",
      "\u001b[2m\u001b[36m(ClientAppActor pid=1320832)\u001b[0m \u001b[32m [repeated 21x across cluster]\u001b[0m\n",
      "\u001b[2m\u001b[36m(ClientAppActor pid=1320832)\u001b[0m Epoch 7/100\u001b[32m [repeated 21x across cluster]\u001b[0m\n",
      "\u001b[2m\u001b[36m(ClientAppActor pid=1320832)\u001b[0m Epoch 6: Training accuracy: 81.28697967529297 Testing accuracy: 79.2899398803711.\u001b[32m [repeated 20x across cluster]\u001b[0m\n",
      "\u001b[2m\u001b[36m(ClientAppActor pid=1320835)\u001b[0m \u001b[32m [repeated 72x across cluster]\u001b[0m\n",
      "\u001b[2m\u001b[36m(ClientAppActor pid=1320835)\u001b[0m Epoch 10/100\u001b[32m [repeated 72x across cluster]\u001b[0m\n",
      "\u001b[2m\u001b[36m(ClientAppActor pid=1320835)\u001b[0m Epoch 9: Training accuracy: 82.8525619506836 Testing accuracy: 80.76923370361328.\u001b[32m [repeated 72x across cluster]\u001b[0m\n",
      "\u001b[2m\u001b[36m(ClientAppActor pid=1320832)\u001b[0m \u001b[32m [repeated 95x across cluster]\u001b[0m\n",
      "\u001b[2m\u001b[36m(ClientAppActor pid=1320832)\u001b[0m Epoch 57/100\u001b[32m [repeated 95x across cluster]\u001b[0m\n",
      "\u001b[2m\u001b[36m(ClientAppActor pid=1320832)\u001b[0m Epoch 56: Training accuracy: 82.26048278808594 Testing accuracy: 77.84431457519531.\u001b[32m [repeated 95x across cluster]\u001b[0m\n",
      "\u001b[2m\u001b[36m(ClientAppActor pid=1320835)\u001b[0m \u001b[32m [repeated 54x across cluster]\u001b[0m\n",
      "\u001b[2m\u001b[36m(ClientAppActor pid=1320835)\u001b[0m Epoch 31/100\u001b[32m [repeated 54x across cluster]\u001b[0m\n",
      "\u001b[2m\u001b[36m(ClientAppActor pid=1320835)\u001b[0m Epoch 30: Training accuracy: 83.97435760498047 Testing accuracy: 80.12820434570312.\u001b[32m [repeated 55x across cluster]\u001b[0m\n",
      "\u001b[2m\u001b[36m(ClientAppActor pid=1320835)\u001b[0m \u001b[32m [repeated 7x across cluster]\u001b[0m\n",
      "\u001b[2m\u001b[36m(ClientAppActor pid=1320835)\u001b[0m Epoch 38/100\u001b[32m [repeated 7x across cluster]\u001b[0m\n",
      "\u001b[2m\u001b[36m(ClientAppActor pid=1320835)\u001b[0m Epoch 37: Training accuracy: 84.2147445678711 Testing accuracy: 80.76923370361328.\u001b[32m [repeated 7x across cluster]\u001b[0m\n",
      "\u001b[2m\u001b[36m(ClientAppActor pid=1320835)\u001b[0m \u001b[32m [repeated 9x across cluster]\u001b[0m\n",
      "\u001b[2m\u001b[36m(ClientAppActor pid=1320835)\u001b[0m Epoch 47/100\u001b[32m [repeated 9x across cluster]\u001b[0m\n",
      "\u001b[2m\u001b[36m(ClientAppActor pid=1320835)\u001b[0m Epoch 46: Training accuracy: 82.45191955566406 Testing accuracy: 78.84615325927734.\u001b[32m [repeated 9x across cluster]\u001b[0m\n",
      "\u001b[2m\u001b[36m(ClientAppActor pid=1320835)\u001b[0m \u001b[32m [repeated 8x across cluster]\u001b[0m\n",
      "\u001b[2m\u001b[36m(ClientAppActor pid=1320835)\u001b[0m Epoch 55/100\u001b[32m [repeated 8x across cluster]\u001b[0m\n",
      "\u001b[2m\u001b[36m(ClientAppActor pid=1320835)\u001b[0m Epoch 54: Training accuracy: 84.13461303710938 Testing accuracy: 80.76923370361328.\u001b[32m [repeated 8x across cluster]\u001b[0m\n",
      "\u001b[2m\u001b[36m(ClientAppActor pid=1320835)\u001b[0m \u001b[32m [repeated 9x across cluster]\u001b[0m\n",
      "\u001b[2m\u001b[36m(ClientAppActor pid=1320835)\u001b[0m Epoch 64/100\u001b[32m [repeated 9x across cluster]\u001b[0m\n",
      "\u001b[2m\u001b[36m(ClientAppActor pid=1320835)\u001b[0m Epoch 63: Training accuracy: 84.05448913574219 Testing accuracy: 80.12820434570312.\u001b[32m [repeated 9x across cluster]\u001b[0m\n",
      "\u001b[2m\u001b[36m(ClientAppActor pid=1320835)\u001b[0m \u001b[32m [repeated 13x across cluster]\u001b[0m\n",
      "\u001b[2m\u001b[36m(ClientAppActor pid=1320835)\u001b[0m Epoch 77/100\u001b[32m [repeated 13x across cluster]\u001b[0m\n",
      "\u001b[2m\u001b[36m(ClientAppActor pid=1320835)\u001b[0m Epoch 76: Training accuracy: 81.81089782714844 Testing accuracy: 78.84615325927734.\u001b[32m [repeated 13x across cluster]\u001b[0m\n",
      "\u001b[2m\u001b[36m(ClientAppActor pid=1320835)\u001b[0m \u001b[32m [repeated 14x across cluster]\u001b[0m\n",
      "\u001b[2m\u001b[36m(ClientAppActor pid=1320835)\u001b[0m Epoch 91/100\u001b[32m [repeated 14x across cluster]\u001b[0m\n",
      "\u001b[2m\u001b[36m(ClientAppActor pid=1320835)\u001b[0m Epoch 90: Training accuracy: 83.65384674072266 Testing accuracy: 80.12820434570312.\u001b[32m [repeated 14x across cluster]\u001b[0m\n"
     ]
    },
    {
     "name": "stderr",
     "output_type": "stream",
     "text": [
      "\u001b[92mINFO \u001b[0m:      aggregate_fit: received 3 results and 0 failures\n",
      "\u001b[92mINFO \u001b[0m:      fit progress: (23, 0.049809802662242546, {'accuracy': tensor(74.3920, device='cuda:0')}, 1432.0602669910004)\n",
      "\u001b[92mINFO \u001b[0m:      configure_evaluate: strategy sampled 1 clients (out of 3)\n",
      "\u001b[92mINFO \u001b[0m:      aggregate_evaluate: received 1 results and 0 failures\n",
      "\u001b[92mINFO \u001b[0m:      \n",
      "\u001b[92mINFO \u001b[0m:      [ROUND 24]\n",
      "\u001b[92mINFO \u001b[0m:      configure_fit: strategy sampled 3 clients (out of 3)\n"
     ]
    },
    {
     "name": "stdout",
     "output_type": "stream",
     "text": [
      "Server-side evaluation loss 0.049809802662242546 / accuracy 74.3919906616211\n",
      "\u001b[2m\u001b[36m(ClientAppActor pid=1320835)\u001b[0m \u001b[32m [repeated 21x across cluster]\u001b[0m\n",
      "\u001b[2m\u001b[36m(ClientAppActor pid=1320835)\u001b[0m Epoch 5/100\u001b[32m [repeated 21x across cluster]\u001b[0m\n",
      "\u001b[2m\u001b[36m(ClientAppActor pid=1320835)\u001b[0m Epoch 4: Training accuracy: 76.84911346435547 Testing accuracy: 73.9645004272461.\u001b[32m [repeated 20x across cluster]\u001b[0m\n",
      "\u001b[2m\u001b[36m(ClientAppActor pid=1320835)\u001b[0m \u001b[32m [repeated 210x across cluster]\u001b[0m\n",
      "\u001b[2m\u001b[36m(ClientAppActor pid=1320835)\u001b[0m Epoch 29/100\u001b[32m [repeated 210x across cluster]\u001b[0m\n",
      "\u001b[2m\u001b[36m(ClientAppActor pid=1320835)\u001b[0m Epoch 28: Training accuracy: 78.3682632446289 Testing accuracy: 74.85029602050781.\u001b[32m [repeated 210x across cluster]\u001b[0m\n",
      "\u001b[2m\u001b[36m(ClientAppActor pid=1320835)\u001b[0m \u001b[32m [repeated 24x across cluster]\u001b[0m\n",
      "\u001b[2m\u001b[36m(ClientAppActor pid=1320835)\u001b[0m Epoch 46/100\u001b[32m [repeated 24x across cluster]\u001b[0m\n",
      "\u001b[2m\u001b[36m(ClientAppActor pid=1320835)\u001b[0m Epoch 45: Training accuracy: 82.18563079833984 Testing accuracy: 78.443115234375.\u001b[32m [repeated 25x across cluster]\u001b[0m\n",
      "\u001b[2m\u001b[36m(ClientAppActor pid=1320835)\u001b[0m \u001b[32m [repeated 8x across cluster]\u001b[0m\n",
      "\u001b[2m\u001b[36m(ClientAppActor pid=1320835)\u001b[0m Epoch 54/100\u001b[32m [repeated 8x across cluster]\u001b[0m\n",
      "\u001b[2m\u001b[36m(ClientAppActor pid=1320835)\u001b[0m Epoch 53: Training accuracy: 83.00897979736328 Testing accuracy: 82.03592681884766.\u001b[32m [repeated 8x across cluster]\u001b[0m\n",
      "\u001b[2m\u001b[36m(ClientAppActor pid=1320835)\u001b[0m \u001b[32m [repeated 6x across cluster]\u001b[0m\n",
      "\u001b[2m\u001b[36m(ClientAppActor pid=1320835)\u001b[0m Epoch 60/100\u001b[32m [repeated 6x across cluster]\u001b[0m\n",
      "\u001b[2m\u001b[36m(ClientAppActor pid=1320835)\u001b[0m Epoch 59: Training accuracy: 82.63472747802734 Testing accuracy: 84.43113708496094.\u001b[32m [repeated 6x across cluster]\u001b[0m\n",
      "\u001b[2m\u001b[36m(ClientAppActor pid=1320835)\u001b[0m \u001b[32m [repeated 7x across cluster]\u001b[0m\n",
      "\u001b[2m\u001b[36m(ClientAppActor pid=1320835)\u001b[0m Epoch 67/100\u001b[32m [repeated 7x across cluster]\u001b[0m\n",
      "\u001b[2m\u001b[36m(ClientAppActor pid=1320835)\u001b[0m Epoch 66: Training accuracy: 83.00897979736328 Testing accuracy: 83.23353576660156.\u001b[32m [repeated 7x across cluster]\u001b[0m\n",
      "\u001b[2m\u001b[36m(ClientAppActor pid=1320835)\u001b[0m \u001b[32m [repeated 7x across cluster]\u001b[0m\n",
      "\u001b[2m\u001b[36m(ClientAppActor pid=1320835)\u001b[0m Epoch 74/100\u001b[32m [repeated 7x across cluster]\u001b[0m\n",
      "\u001b[2m\u001b[36m(ClientAppActor pid=1320835)\u001b[0m Epoch 73: Training accuracy: 82.85928344726562 Testing accuracy: 82.03592681884766.\u001b[32m [repeated 7x across cluster]\u001b[0m\n",
      "\u001b[2m\u001b[36m(ClientAppActor pid=1320835)\u001b[0m \u001b[32m [repeated 6x across cluster]\u001b[0m\n",
      "\u001b[2m\u001b[36m(ClientAppActor pid=1320835)\u001b[0m Epoch 80/100\u001b[32m [repeated 6x across cluster]\u001b[0m\n",
      "\u001b[2m\u001b[36m(ClientAppActor pid=1320835)\u001b[0m Epoch 79: Training accuracy: 81.73652648925781 Testing accuracy: 79.04191589355469.\u001b[32m [repeated 6x across cluster]\u001b[0m\n",
      "\u001b[2m\u001b[36m(ClientAppActor pid=1320835)\u001b[0m \u001b[32m [repeated 7x across cluster]\u001b[0m\n",
      "\u001b[2m\u001b[36m(ClientAppActor pid=1320835)\u001b[0m Epoch 87/100\u001b[32m [repeated 7x across cluster]\u001b[0m\n",
      "\u001b[2m\u001b[36m(ClientAppActor pid=1320835)\u001b[0m Epoch 86: Training accuracy: 82.11077880859375 Testing accuracy: 83.23353576660156.\u001b[32m [repeated 7x across cluster]\u001b[0m\n",
      "\u001b[2m\u001b[36m(ClientAppActor pid=1320835)\u001b[0m \u001b[32m [repeated 6x across cluster]\u001b[0m\n",
      "\u001b[2m\u001b[36m(ClientAppActor pid=1320835)\u001b[0m Epoch 93/100\u001b[32m [repeated 6x across cluster]\u001b[0m\n",
      "\u001b[2m\u001b[36m(ClientAppActor pid=1320835)\u001b[0m Epoch 92: Training accuracy: 82.3353271484375 Testing accuracy: 81.43712615966797.\u001b[32m [repeated 6x across cluster]\u001b[0m\n"
     ]
    },
    {
     "name": "stderr",
     "output_type": "stream",
     "text": [
      "\u001b[92mINFO \u001b[0m:      aggregate_fit: received 3 results and 0 failures\n",
      "\u001b[92mINFO \u001b[0m:      fit progress: (24, 0.050911041823300446, {'accuracy': tensor(74.2489, device='cuda:0')}, 1485.7123473090032)\n",
      "\u001b[92mINFO \u001b[0m:      configure_evaluate: strategy sampled 1 clients (out of 3)\n"
     ]
    },
    {
     "name": "stdout",
     "output_type": "stream",
     "text": [
      "\u001b[2m\u001b[36m(ClientAppActor pid=1320835)\u001b[0m \u001b[32m [repeated 7x across cluster]\u001b[0m\n",
      "\u001b[2m\u001b[36m(ClientAppActor pid=1320835)\u001b[0m Epoch 100/100\u001b[32m [repeated 7x across cluster]\u001b[0m\n",
      "\u001b[2m\u001b[36m(ClientAppActor pid=1320835)\u001b[0m Epoch 100: Training accuracy: 82.26048278808594 Testing accuracy: 79.64071655273438.\u001b[32m [repeated 8x across cluster]\u001b[0m\n",
      "Server-side evaluation loss 0.050911041823300446 / accuracy 74.2489242553711\n"
     ]
    },
    {
     "name": "stderr",
     "output_type": "stream",
     "text": [
      "\u001b[92mINFO \u001b[0m:      aggregate_evaluate: received 1 results and 0 failures\n",
      "\u001b[92mINFO \u001b[0m:      \n",
      "\u001b[92mINFO \u001b[0m:      [ROUND 25]\n",
      "\u001b[92mINFO \u001b[0m:      configure_fit: strategy sampled 3 clients (out of 3)\n"
     ]
    },
    {
     "name": "stdout",
     "output_type": "stream",
     "text": [
      "\u001b[2m\u001b[36m(ClientAppActor pid=1320835)\u001b[0m \u001b[32m [repeated 17x across cluster]\u001b[0m\n",
      "\u001b[2m\u001b[36m(ClientAppActor pid=1320835)\u001b[0m Epoch 6/100\u001b[32m [repeated 17x across cluster]\u001b[0m\n",
      "\u001b[2m\u001b[36m(ClientAppActor pid=1320835)\u001b[0m Epoch 5: Training accuracy: 82.37179565429688 Testing accuracy: 80.76923370361328.\u001b[32m [repeated 15x across cluster]\u001b[0m\n",
      "\u001b[2m\u001b[36m(ClientAppActor pid=1320832)\u001b[0m \u001b[32m [repeated 19x across cluster]\u001b[0m\n",
      "\u001b[2m\u001b[36m(ClientAppActor pid=1320832)\u001b[0m Epoch 23/100\u001b[32m [repeated 19x across cluster]\u001b[0m\n",
      "\u001b[2m\u001b[36m(ClientAppActor pid=1320832)\u001b[0m Epoch 22: Training accuracy: 81.9526596069336 Testing accuracy: 79.88166046142578.\u001b[32m [repeated 19x across cluster]\u001b[0m\n",
      "\u001b[2m\u001b[36m(ClientAppActor pid=1320832)\u001b[0m \u001b[32m [repeated 22x across cluster]\u001b[0m\n",
      "\u001b[2m\u001b[36m(ClientAppActor pid=1320832)\u001b[0m Epoch 39/100\u001b[32m [repeated 22x across cluster]\u001b[0m\n",
      "\u001b[2m\u001b[36m(ClientAppActor pid=1320832)\u001b[0m Epoch 38: Training accuracy: 82.3224868774414 Testing accuracy: 80.47337341308594.\u001b[32m [repeated 22x across cluster]\u001b[0m\n",
      "\u001b[2m\u001b[36m(ClientAppActor pid=1320835)\u001b[0m \u001b[32m [repeated 55x across cluster]\u001b[0m\n",
      "\u001b[2m\u001b[36m(ClientAppActor pid=1320835)\u001b[0m Epoch 29/100\u001b[32m [repeated 55x across cluster]\u001b[0m\n",
      "\u001b[2m\u001b[36m(ClientAppActor pid=1320835)\u001b[0m Epoch 28: Training accuracy: 83.0128173828125 Testing accuracy: 80.12820434570312.\u001b[32m [repeated 55x across cluster]\u001b[0m\n",
      "\u001b[2m\u001b[36m(ClientAppActor pid=1320832)\u001b[0m \u001b[32m [repeated 85x across cluster]\u001b[0m\n",
      "\u001b[2m\u001b[36m(ClientAppActor pid=1320832)\u001b[0m Epoch 59/100\u001b[32m [repeated 85x across cluster]\u001b[0m\n",
      "\u001b[2m\u001b[36m(ClientAppActor pid=1320832)\u001b[0m Epoch 58: Training accuracy: 82.26048278808594 Testing accuracy: 81.43712615966797.\u001b[32m [repeated 85x across cluster]\u001b[0m\n",
      "\u001b[2m\u001b[36m(ClientAppActor pid=1320832)\u001b[0m \u001b[32m [repeated 47x across cluster]\u001b[0m\n",
      "\u001b[2m\u001b[36m(ClientAppActor pid=1320832)\u001b[0m Epoch 98/100\u001b[32m [repeated 47x across cluster]\u001b[0m\n",
      "\u001b[2m\u001b[36m(ClientAppActor pid=1320832)\u001b[0m Epoch 97: Training accuracy: 82.48503112792969 Testing accuracy: 84.43113708496094.\u001b[32m [repeated 47x across cluster]\u001b[0m\n",
      "\u001b[2m\u001b[36m(ClientAppActor pid=1320835)\u001b[0m \u001b[32m [repeated 9x across cluster]\u001b[0m\n",
      "\u001b[2m\u001b[36m(ClientAppActor pid=1320835)\u001b[0m Epoch 54/100\u001b[32m [repeated 9x across cluster]\u001b[0m\n",
      "\u001b[2m\u001b[36m(ClientAppActor pid=1320835)\u001b[0m Epoch 53: Training accuracy: 83.09294891357422 Testing accuracy: 78.84615325927734.\u001b[32m [repeated 10x across cluster]\u001b[0m\n",
      "\u001b[2m\u001b[36m(ClientAppActor pid=1320835)\u001b[0m \u001b[32m [repeated 8x across cluster]\u001b[0m\n",
      "\u001b[2m\u001b[36m(ClientAppActor pid=1320835)\u001b[0m Epoch 62/100\u001b[32m [repeated 8x across cluster]\u001b[0m\n",
      "\u001b[2m\u001b[36m(ClientAppActor pid=1320835)\u001b[0m Epoch 61: Training accuracy: 83.49359130859375 Testing accuracy: 80.76923370361328.\u001b[32m [repeated 8x across cluster]\u001b[0m\n",
      "\u001b[2m\u001b[36m(ClientAppActor pid=1320835)\u001b[0m \u001b[32m [repeated 9x across cluster]\u001b[0m\n",
      "\u001b[2m\u001b[36m(ClientAppActor pid=1320835)\u001b[0m Epoch 71/100\u001b[32m [repeated 9x across cluster]\u001b[0m\n",
      "\u001b[2m\u001b[36m(ClientAppActor pid=1320835)\u001b[0m Epoch 70: Training accuracy: 83.65384674072266 Testing accuracy: 80.12820434570312.\u001b[32m [repeated 9x across cluster]\u001b[0m\n",
      "\u001b[2m\u001b[36m(ClientAppActor pid=1320835)\u001b[0m \u001b[32m [repeated 8x across cluster]\u001b[0m\n",
      "\u001b[2m\u001b[36m(ClientAppActor pid=1320835)\u001b[0m Epoch 79/100\u001b[32m [repeated 8x across cluster]\u001b[0m\n",
      "\u001b[2m\u001b[36m(ClientAppActor pid=1320835)\u001b[0m Epoch 78: Training accuracy: 83.97435760498047 Testing accuracy: 80.76923370361328.\u001b[32m [repeated 8x across cluster]\u001b[0m\n",
      "\u001b[2m\u001b[36m(ClientAppActor pid=1320835)\u001b[0m \u001b[32m [repeated 9x across cluster]\u001b[0m\n",
      "\u001b[2m\u001b[36m(ClientAppActor pid=1320835)\u001b[0m Epoch 88/100\u001b[32m [repeated 9x across cluster]\u001b[0m\n",
      "\u001b[2m\u001b[36m(ClientAppActor pid=1320835)\u001b[0m Epoch 87: Training accuracy: 82.8525619506836 Testing accuracy: 76.28205108642578.\u001b[32m [repeated 9x across cluster]\u001b[0m\n"
     ]
    },
    {
     "name": "stderr",
     "output_type": "stream",
     "text": [
      "\u001b[92mINFO \u001b[0m:      aggregate_fit: received 3 results and 0 failures\n",
      "\u001b[92mINFO \u001b[0m:      fit progress: (25, 0.050854135643352165, {'accuracy': tensor(73.6767, device='cuda:0')}, 1547.2473154530016)\n",
      "\u001b[92mINFO \u001b[0m:      configure_evaluate: strategy sampled 1 clients (out of 3)\n",
      "\u001b[92mINFO \u001b[0m:      aggregate_evaluate: received 1 results and 0 failures\n",
      "\u001b[92mINFO \u001b[0m:      \n",
      "\u001b[92mINFO \u001b[0m:      [ROUND 26]\n",
      "\u001b[92mINFO \u001b[0m:      configure_fit: strategy sampled 3 clients (out of 3)\n"
     ]
    },
    {
     "name": "stdout",
     "output_type": "stream",
     "text": [
      "Server-side evaluation loss 0.050854135643352165 / accuracy 73.67668151855469\n",
      "\u001b[2m\u001b[36m(ClientAppActor pid=1320835)\u001b[0m \u001b[32m [repeated 13x across cluster]\u001b[0m\n",
      "\u001b[2m\u001b[36m(ClientAppActor pid=1320835)\u001b[0m Epoch 1/100\u001b[32m [repeated 13x across cluster]\u001b[0m\n",
      "\u001b[2m\u001b[36m(ClientAppActor pid=1320835)\u001b[0m Epoch 100: Training accuracy: 84.13461303710938 Testing accuracy: 81.4102554321289.\u001b[32m [repeated 13x across cluster]\u001b[0m\n",
      "\u001b[2m\u001b[36m(ClientAppActor pid=1320832)\u001b[0m \u001b[32m [repeated 19x across cluster]\u001b[0m\n",
      "\u001b[2m\u001b[36m(ClientAppActor pid=1320832)\u001b[0m Epoch 9/100\u001b[32m [repeated 19x across cluster]\u001b[0m\n",
      "\u001b[2m\u001b[36m(ClientAppActor pid=1320832)\u001b[0m Epoch 8: Training accuracy: 81.80473327636719 Testing accuracy: 79.2899398803711.\u001b[32m [repeated 18x across cluster]\u001b[0m\n",
      "\u001b[2m\u001b[36m(ClientAppActor pid=1320835)\u001b[0m \u001b[32m [repeated 24x across cluster]\u001b[0m\n",
      "\u001b[2m\u001b[36m(ClientAppActor pid=1320835)\u001b[0m Epoch 21/100\u001b[32m [repeated 24x across cluster]\u001b[0m\n",
      "\u001b[2m\u001b[36m(ClientAppActor pid=1320835)\u001b[0m Epoch 20: Training accuracy: 83.17308044433594 Testing accuracy: 80.12820434570312.\u001b[32m [repeated 24x across cluster]\u001b[0m\n",
      "\u001b[2m\u001b[36m(ClientAppActor pid=1320835)\u001b[0m \u001b[32m [repeated 23x across cluster]\u001b[0m\n",
      "\u001b[2m\u001b[36m(ClientAppActor pid=1320835)\u001b[0m Epoch 32/100\u001b[32m [repeated 23x across cluster]\u001b[0m\n",
      "\u001b[2m\u001b[36m(ClientAppActor pid=1320835)\u001b[0m Epoch 31: Training accuracy: 82.6121826171875 Testing accuracy: 78.20513153076172.\u001b[32m [repeated 23x across cluster]\u001b[0m\n",
      "\u001b[2m\u001b[36m(ClientAppActor pid=1320832)\u001b[0m \u001b[32m [repeated 27x across cluster]\u001b[0m\n",
      "\u001b[2m\u001b[36m(ClientAppActor pid=1320832)\u001b[0m Epoch 52/100\u001b[32m [repeated 27x across cluster]\u001b[0m\n",
      "\u001b[2m\u001b[36m(ClientAppActor pid=1320832)\u001b[0m Epoch 51: Training accuracy: 82.91419982910156 Testing accuracy: 79.2899398803711.\u001b[32m [repeated 27x across cluster]\u001b[0m\n",
      "\u001b[2m\u001b[36m(ClientAppActor pid=1320835)\u001b[0m \u001b[32m [repeated 22x across cluster]\u001b[0m\n",
      "\u001b[2m\u001b[36m(ClientAppActor pid=1320835)\u001b[0m Epoch 52/100\u001b[32m [repeated 22x across cluster]\u001b[0m\n",
      "\u001b[2m\u001b[36m(ClientAppActor pid=1320835)\u001b[0m Epoch 51: Training accuracy: 83.73397064208984 Testing accuracy: 80.76923370361328.\u001b[32m [repeated 22x across cluster]\u001b[0m\n",
      "\u001b[2m\u001b[36m(ClientAppActor pid=1320835)\u001b[0m \u001b[32m [repeated 15x across cluster]\u001b[0m\n",
      "\u001b[2m\u001b[36m(ClientAppActor pid=1320835)\u001b[0m Epoch 58/100\u001b[32m [repeated 15x across cluster]\u001b[0m\n",
      "\u001b[2m\u001b[36m(ClientAppActor pid=1320835)\u001b[0m Epoch 57: Training accuracy: 83.97435760498047 Testing accuracy: 80.12820434570312.\u001b[32m [repeated 15x across cluster]\u001b[0m\n",
      "\u001b[2m\u001b[36m(ClientAppActor pid=1320832)\u001b[0m \u001b[32m [repeated 15x across cluster]\u001b[0m\n",
      "\u001b[2m\u001b[36m(ClientAppActor pid=1320832)\u001b[0m Epoch 81/100\u001b[32m [repeated 15x across cluster]\u001b[0m\n",
      "\u001b[2m\u001b[36m(ClientAppActor pid=1320832)\u001b[0m Epoch 80: Training accuracy: 81.50887298583984 Testing accuracy: 79.88166046142578.\u001b[32m [repeated 15x across cluster]\u001b[0m\n",
      "\u001b[2m\u001b[36m(ClientAppActor pid=1320835)\u001b[0m \u001b[32m [repeated 16x across cluster]\u001b[0m\n",
      "\u001b[2m\u001b[36m(ClientAppActor pid=1320835)\u001b[0m Epoch 72/100\u001b[32m [repeated 16x across cluster]\u001b[0m\n",
      "\u001b[2m\u001b[36m(ClientAppActor pid=1320835)\u001b[0m Epoch 71: Training accuracy: 84.2147445678711 Testing accuracy: 80.12820434570312.\u001b[32m [repeated 16x across cluster]\u001b[0m\n",
      "\u001b[2m\u001b[36m(ClientAppActor pid=1320835)\u001b[0m \u001b[32m [repeated 16x across cluster]\u001b[0m\n",
      "\u001b[2m\u001b[36m(ClientAppActor pid=1320835)\u001b[0m Epoch 80/100\u001b[32m [repeated 16x across cluster]\u001b[0m\n",
      "\u001b[2m\u001b[36m(ClientAppActor pid=1320835)\u001b[0m Epoch 79: Training accuracy: 84.05448913574219 Testing accuracy: 80.76923370361328.\u001b[32m [repeated 16x across cluster]\u001b[0m\n",
      "\u001b[2m\u001b[36m(ClientAppActor pid=1320835)\u001b[0m \u001b[32m [repeated 14x across cluster]\u001b[0m\n",
      "\u001b[2m\u001b[36m(ClientAppActor pid=1320835)\u001b[0m Epoch 86/100\u001b[32m [repeated 14x across cluster]\u001b[0m\n",
      "\u001b[2m\u001b[36m(ClientAppActor pid=1320835)\u001b[0m Epoch 85: Training accuracy: 83.65384674072266 Testing accuracy: 79.4871826171875.\u001b[32m [repeated 14x across cluster]\u001b[0m\n",
      "\u001b[2m\u001b[36m(ClientAppActor pid=1320835)\u001b[0m \u001b[32m [repeated 17x across cluster]\u001b[0m\n",
      "\u001b[2m\u001b[36m(ClientAppActor pid=1320835)\u001b[0m Epoch 94/100\u001b[32m [repeated 17x across cluster]\u001b[0m\n",
      "\u001b[2m\u001b[36m(ClientAppActor pid=1320835)\u001b[0m Epoch 93: Training accuracy: 84.29486846923828 Testing accuracy: 79.4871826171875.\u001b[32m [repeated 17x across cluster]\u001b[0m\n",
      "\u001b[2m\u001b[36m(ClientAppActor pid=1320832)\u001b[0m \u001b[32m [repeated 16x across cluster]\u001b[0m\n",
      "\u001b[2m\u001b[36m(ClientAppActor pid=1320832)\u001b[0m Epoch 25/100\u001b[32m [repeated 16x across cluster]\u001b[0m\n",
      "\u001b[2m\u001b[36m(ClientAppActor pid=1320835)\u001b[0m Epoch 100: Training accuracy: 83.89423370361328 Testing accuracy: 81.4102554321289.\u001b[32m [repeated 17x across cluster]\u001b[0m\n",
      "\u001b[2m\u001b[36m(ClientAppActor pid=1320832)\u001b[0m \u001b[32m [repeated 10x across cluster]\u001b[0m\n",
      "\u001b[2m\u001b[36m(ClientAppActor pid=1320832)\u001b[0m Epoch 35/100\u001b[32m [repeated 10x across cluster]\u001b[0m\n",
      "\u001b[2m\u001b[36m(ClientAppActor pid=1320832)\u001b[0m Epoch 34: Training accuracy: 82.55988311767578 Testing accuracy: 82.63472747802734.\u001b[32m [repeated 10x across cluster]\u001b[0m\n",
      "\u001b[2m\u001b[36m(ClientAppActor pid=1320832)\u001b[0m \u001b[32m [repeated 13x across cluster]\u001b[0m\n",
      "\u001b[2m\u001b[36m(ClientAppActor pid=1320832)\u001b[0m Epoch 48/100\u001b[32m [repeated 13x across cluster]\u001b[0m\n",
      "\u001b[2m\u001b[36m(ClientAppActor pid=1320832)\u001b[0m Epoch 47: Training accuracy: 82.63472747802734 Testing accuracy: 83.83233642578125.\u001b[32m [repeated 13x across cluster]\u001b[0m\n",
      "\u001b[2m\u001b[36m(ClientAppActor pid=1320832)\u001b[0m \u001b[32m [repeated 13x across cluster]\u001b[0m\n",
      "\u001b[2m\u001b[36m(ClientAppActor pid=1320832)\u001b[0m Epoch 61/100\u001b[32m [repeated 13x across cluster]\u001b[0m\n",
      "\u001b[2m\u001b[36m(ClientAppActor pid=1320832)\u001b[0m Epoch 60: Training accuracy: 82.78443145751953 Testing accuracy: 83.83233642578125.\u001b[32m [repeated 13x across cluster]\u001b[0m\n",
      "\u001b[2m\u001b[36m(ClientAppActor pid=1320832)\u001b[0m \u001b[32m [repeated 13x across cluster]\u001b[0m\n",
      "\u001b[2m\u001b[36m(ClientAppActor pid=1320832)\u001b[0m Epoch 74/100\u001b[32m [repeated 13x across cluster]\u001b[0m\n",
      "\u001b[2m\u001b[36m(ClientAppActor pid=1320832)\u001b[0m Epoch 73: Training accuracy: 83.6077880859375 Testing accuracy: 81.43712615966797.\u001b[32m [repeated 13x across cluster]\u001b[0m\n",
      "\u001b[2m\u001b[36m(ClientAppActor pid=1320832)\u001b[0m \u001b[32m [repeated 22x across cluster]\u001b[0m\n",
      "\u001b[2m\u001b[36m(ClientAppActor pid=1320832)\u001b[0m Epoch 96/100\u001b[32m [repeated 22x across cluster]\u001b[0m\n",
      "\u001b[2m\u001b[36m(ClientAppActor pid=1320832)\u001b[0m Epoch 95: Training accuracy: 83.23353576660156 Testing accuracy: 83.23353576660156.\u001b[32m [repeated 22x across cluster]\u001b[0m\n"
     ]
    },
    {
     "name": "stderr",
     "output_type": "stream",
     "text": [
      "\u001b[92mINFO \u001b[0m:      aggregate_fit: received 3 results and 0 failures\n",
      "\u001b[92mINFO \u001b[0m:      fit progress: (26, 0.05087241259488193, {'accuracy': tensor(74.3920, device='cuda:0')}, 1637.6639850720094)\n",
      "\u001b[92mINFO \u001b[0m:      configure_evaluate: strategy sampled 1 clients (out of 3)\n",
      "\u001b[92mINFO \u001b[0m:      aggregate_evaluate: received 1 results and 0 failures\n",
      "\u001b[92mINFO \u001b[0m:      \n",
      "\u001b[92mINFO \u001b[0m:      [ROUND 27]\n",
      "\u001b[92mINFO \u001b[0m:      configure_fit: strategy sampled 3 clients (out of 3)\n"
     ]
    },
    {
     "name": "stdout",
     "output_type": "stream",
     "text": [
      "Server-side evaluation loss 0.05087241259488193 / accuracy 74.3919906616211\n",
      "\u001b[2m\u001b[36m(ClientAppActor pid=1320832)\u001b[0m \u001b[32m [repeated 41x across cluster]\u001b[0m\n",
      "\u001b[2m\u001b[36m(ClientAppActor pid=1320832)\u001b[0m Epoch 26/100\u001b[32m [repeated 41x across cluster]\u001b[0m\n",
      "\u001b[2m\u001b[36m(ClientAppActor pid=1320832)\u001b[0m Epoch 25: Training accuracy: 83.23353576660156 Testing accuracy: 83.83233642578125.\u001b[32m [repeated 40x across cluster]\u001b[0m\n",
      "\u001b[2m\u001b[36m(ClientAppActor pid=1320832)\u001b[0m \u001b[32m [repeated 82x across cluster]\u001b[0m\n",
      "\u001b[2m\u001b[36m(ClientAppActor pid=1320832)\u001b[0m Epoch 89/100\u001b[32m [repeated 82x across cluster]\u001b[0m\n",
      "\u001b[2m\u001b[36m(ClientAppActor pid=1320832)\u001b[0m Epoch 88: Training accuracy: 82.18563079833984 Testing accuracy: 83.23353576660156.\u001b[32m [repeated 82x across cluster]\u001b[0m\n",
      "\u001b[2m\u001b[36m(ClientAppActor pid=1320835)\u001b[0m \u001b[32m [repeated 34x across cluster]\u001b[0m\n",
      "\u001b[2m\u001b[36m(ClientAppActor pid=1320835)\u001b[0m Epoch 50/100\u001b[32m [repeated 34x across cluster]\u001b[0m\n",
      "\u001b[2m\u001b[36m(ClientAppActor pid=1320835)\u001b[0m Epoch 49: Training accuracy: 82.91419982910156 Testing accuracy: 79.88166046142578.\u001b[32m [repeated 34x across cluster]\u001b[0m\n",
      "\u001b[2m\u001b[36m(ClientAppActor pid=1320835)\u001b[0m \u001b[32m [repeated 16x across cluster]\u001b[0m\n",
      "\u001b[2m\u001b[36m(ClientAppActor pid=1320835)\u001b[0m Epoch 57/100\u001b[32m [repeated 16x across cluster]\u001b[0m\n",
      "\u001b[2m\u001b[36m(ClientAppActor pid=1320835)\u001b[0m Epoch 56: Training accuracy: 82.91419982910156 Testing accuracy: 78.10650634765625.\u001b[32m [repeated 16x across cluster]\u001b[0m\n",
      "\u001b[2m\u001b[36m(ClientAppActor pid=1320832)\u001b[0m \u001b[32m [repeated 14x across cluster]\u001b[0m\n",
      "\u001b[2m\u001b[36m(ClientAppActor pid=1320832)\u001b[0m Epoch 21/100\u001b[32m [repeated 14x across cluster]\u001b[0m\n",
      "\u001b[2m\u001b[36m(ClientAppActor pid=1320832)\u001b[0m Epoch 20: Training accuracy: 72.43589782714844 Testing accuracy: 71.15384674072266.\u001b[32m [repeated 14x across cluster]\u001b[0m\n",
      "\u001b[2m\u001b[36m(ClientAppActor pid=1320832)\u001b[0m \u001b[32m [repeated 16x across cluster]\u001b[0m\n",
      "\u001b[2m\u001b[36m(ClientAppActor pid=1320832)\u001b[0m Epoch 30/100\u001b[32m [repeated 16x across cluster]\u001b[0m\n",
      "\u001b[2m\u001b[36m(ClientAppActor pid=1320832)\u001b[0m Epoch 29: Training accuracy: 83.49359130859375 Testing accuracy: 80.12820434570312.\u001b[32m [repeated 16x across cluster]\u001b[0m\n",
      "\u001b[2m\u001b[36m(ClientAppActor pid=1320832)\u001b[0m \u001b[32m [repeated 16x across cluster]\u001b[0m\n",
      "\u001b[2m\u001b[36m(ClientAppActor pid=1320832)\u001b[0m Epoch 40/100\u001b[32m [repeated 16x across cluster]\u001b[0m\n",
      "\u001b[2m\u001b[36m(ClientAppActor pid=1320832)\u001b[0m Epoch 39: Training accuracy: 82.21154022216797 Testing accuracy: 78.20513153076172.\u001b[32m [repeated 16x across cluster]\u001b[0m\n",
      "\u001b[2m\u001b[36m(ClientAppActor pid=1320832)\u001b[0m \u001b[32m [repeated 16x across cluster]\u001b[0m\n",
      "\u001b[2m\u001b[36m(ClientAppActor pid=1320832)\u001b[0m Epoch 49/100\u001b[32m [repeated 16x across cluster]\u001b[0m\n",
      "\u001b[2m\u001b[36m(ClientAppActor pid=1320832)\u001b[0m Epoch 48: Training accuracy: 84.375 Testing accuracy: 81.4102554321289.\u001b[32m [repeated 16x across cluster]\u001b[0m\n",
      "\u001b[2m\u001b[36m(ClientAppActor pid=1320835)\u001b[0m \u001b[32m [repeated 15x across cluster]\u001b[0m\n",
      "\u001b[2m\u001b[36m(ClientAppActor pid=1320835)\u001b[0m Epoch 88/100\u001b[32m [repeated 15x across cluster]\u001b[0m\n",
      "\u001b[2m\u001b[36m(ClientAppActor pid=1320835)\u001b[0m Epoch 87: Training accuracy: 81.36094665527344 Testing accuracy: 78.69822692871094.\u001b[32m [repeated 15x across cluster]\u001b[0m\n",
      "\u001b[2m\u001b[36m(ClientAppActor pid=1320835)\u001b[0m \u001b[32m [repeated 17x across cluster]\u001b[0m\n",
      "\u001b[2m\u001b[36m(ClientAppActor pid=1320835)\u001b[0m Epoch 95/100\u001b[32m [repeated 17x across cluster]\u001b[0m\n",
      "\u001b[2m\u001b[36m(ClientAppActor pid=1320835)\u001b[0m Epoch 94: Training accuracy: 82.84024047851562 Testing accuracy: 79.88166046142578.\u001b[32m [repeated 17x across cluster]\u001b[0m\n",
      "\u001b[2m\u001b[36m(ClientAppActor pid=1320832)\u001b[0m \u001b[32m [repeated 13x across cluster]\u001b[0m\n",
      "\u001b[2m\u001b[36m(ClientAppActor pid=1320832)\u001b[0m Epoch 76/100\u001b[32m [repeated 13x across cluster]\u001b[0m\n",
      "\u001b[2m\u001b[36m(ClientAppActor pid=1320835)\u001b[0m Epoch 100: Training accuracy: 82.10059356689453 Testing accuracy: 79.88166046142578.\u001b[32m [repeated 14x across cluster]\u001b[0m\n",
      "\u001b[2m\u001b[36m(ClientAppActor pid=1320832)\u001b[0m \u001b[32m [repeated 11x across cluster]\u001b[0m\n",
      "\u001b[2m\u001b[36m(ClientAppActor pid=1320832)\u001b[0m Epoch 87/100\u001b[32m [repeated 11x across cluster]\u001b[0m\n",
      "\u001b[2m\u001b[36m(ClientAppActor pid=1320832)\u001b[0m Epoch 86: Training accuracy: 81.97115325927734 Testing accuracy: 78.84615325927734.\u001b[32m [repeated 11x across cluster]\u001b[0m\n",
      "\u001b[2m\u001b[36m(ClientAppActor pid=1320832)\u001b[0m \u001b[32m [repeated 13x across cluster]\u001b[0m\n",
      "\u001b[2m\u001b[36m(ClientAppActor pid=1320832)\u001b[0m Epoch 100/100\u001b[32m [repeated 13x across cluster]\u001b[0m\n",
      "\u001b[2m\u001b[36m(ClientAppActor pid=1320832)\u001b[0m Epoch 99: Training accuracy: 83.97435760498047 Testing accuracy: 80.12820434570312.\u001b[32m [repeated 13x across cluster]\u001b[0m\n"
     ]
    },
    {
     "name": "stderr",
     "output_type": "stream",
     "text": [
      "\u001b[92mINFO \u001b[0m:      aggregate_fit: received 3 results and 0 failures\n",
      "\u001b[92mINFO \u001b[0m:      fit progress: (27, 0.05028225075114857, {'accuracy': tensor(73.9628, device='cuda:0')}, 1704.738762880006)\n",
      "\u001b[92mINFO \u001b[0m:      configure_evaluate: strategy sampled 1 clients (out of 3)\n",
      "\u001b[92mINFO \u001b[0m:      aggregate_evaluate: received 1 results and 0 failures\n",
      "\u001b[92mINFO \u001b[0m:      \n",
      "\u001b[92mINFO \u001b[0m:      [ROUND 28]\n",
      "\u001b[92mINFO \u001b[0m:      configure_fit: strategy sampled 3 clients (out of 3)\n"
     ]
    },
    {
     "name": "stdout",
     "output_type": "stream",
     "text": [
      "Server-side evaluation loss 0.05028225075114857 / accuracy 73.96280670166016\n",
      "\u001b[2m\u001b[36m(ClientAppActor pid=1320832)\u001b[0m \u001b[32m [repeated 23x across cluster]\u001b[0m\n",
      "\u001b[2m\u001b[36m(ClientAppActor pid=1320832)\u001b[0m Epoch 14/100\u001b[32m [repeated 23x across cluster]\u001b[0m\n",
      "\u001b[2m\u001b[36m(ClientAppActor pid=1320832)\u001b[0m Epoch 13: Training accuracy: 82.11077880859375 Testing accuracy: 83.83233642578125.\u001b[32m [repeated 22x across cluster]\u001b[0m\n",
      "\u001b[2m\u001b[36m(ClientAppActor pid=1320835)\u001b[0m \u001b[32m [repeated 24x across cluster]\u001b[0m\n",
      "\u001b[2m\u001b[36m(ClientAppActor pid=1320835)\u001b[0m Epoch 20/100\u001b[32m [repeated 24x across cluster]\u001b[0m\n",
      "\u001b[2m\u001b[36m(ClientAppActor pid=1320835)\u001b[0m Epoch 19: Training accuracy: 84.2147445678711 Testing accuracy: 80.76923370361328.\u001b[32m [repeated 24x across cluster]\u001b[0m\n",
      "\u001b[2m\u001b[36m(ClientAppActor pid=1320832)\u001b[0m \u001b[32m [repeated 27x across cluster]\u001b[0m\n",
      "\u001b[2m\u001b[36m(ClientAppActor pid=1320832)\u001b[0m Epoch 44/100\u001b[32m [repeated 27x across cluster]\u001b[0m\n",
      "\u001b[2m\u001b[36m(ClientAppActor pid=1320832)\u001b[0m Epoch 43: Training accuracy: 82.18563079833984 Testing accuracy: 79.04191589355469.\u001b[32m [repeated 27x across cluster]\u001b[0m\n",
      "\u001b[2m\u001b[36m(ClientAppActor pid=1320832)\u001b[0m \u001b[32m [repeated 22x across cluster]\u001b[0m\n",
      "\u001b[2m\u001b[36m(ClientAppActor pid=1320832)\u001b[0m Epoch 57/100\u001b[32m [repeated 22x across cluster]\u001b[0m\n",
      "\u001b[2m\u001b[36m(ClientAppActor pid=1320832)\u001b[0m Epoch 56: Training accuracy: 83.75748443603516 Testing accuracy: 82.03592681884766.\u001b[32m [repeated 22x across cluster]\u001b[0m\n",
      "\u001b[2m\u001b[36m(ClientAppActor pid=1320832)\u001b[0m \u001b[32m [repeated 21x across cluster]\u001b[0m\n",
      "\u001b[2m\u001b[36m(ClientAppActor pid=1320832)\u001b[0m Epoch 72/100\u001b[32m [repeated 21x across cluster]\u001b[0m\n",
      "\u001b[2m\u001b[36m(ClientAppActor pid=1320832)\u001b[0m Epoch 71: Training accuracy: 83.15868377685547 Testing accuracy: 84.43113708496094.\u001b[32m [repeated 21x across cluster]\u001b[0m\n",
      "\u001b[2m\u001b[36m(ClientAppActor pid=1320835)\u001b[0m \u001b[32m [repeated 31x across cluster]\u001b[0m\n",
      "\u001b[2m\u001b[36m(ClientAppActor pid=1320835)\u001b[0m Epoch 54/100\u001b[32m [repeated 31x across cluster]\u001b[0m\n",
      "\u001b[2m\u001b[36m(ClientAppActor pid=1320835)\u001b[0m Epoch 53: Training accuracy: 83.57371520996094 Testing accuracy: 80.12820434570312.\u001b[32m [repeated 31x across cluster]\u001b[0m\n",
      "\u001b[2m\u001b[36m(ClientAppActor pid=1320835)\u001b[0m \u001b[32m [repeated 30x across cluster]\u001b[0m\n",
      "\u001b[2m\u001b[36m(ClientAppActor pid=1320835)\u001b[0m Epoch 62/100\u001b[32m [repeated 30x across cluster]\u001b[0m\n",
      "\u001b[2m\u001b[36m(ClientAppActor pid=1320835)\u001b[0m Epoch 61: Training accuracy: 84.05448913574219 Testing accuracy: 80.12820434570312.\u001b[32m [repeated 30x across cluster]\u001b[0m\n",
      "\u001b[2m\u001b[36m(ClientAppActor pid=1320832)\u001b[0m \u001b[32m [repeated 32x across cluster]\u001b[0m\n",
      "\u001b[2m\u001b[36m(ClientAppActor pid=1320832)\u001b[0m Epoch 40/100\u001b[32m [repeated 32x across cluster]\u001b[0m\n",
      "\u001b[2m\u001b[36m(ClientAppActor pid=1320832)\u001b[0m Epoch 39: Training accuracy: 83.2100601196289 Testing accuracy: 79.88166046142578.\u001b[32m [repeated 32x across cluster]\u001b[0m\n",
      "\u001b[2m\u001b[36m(ClientAppActor pid=1320832)\u001b[0m \u001b[32m [repeated 30x across cluster]\u001b[0m\n",
      "\u001b[2m\u001b[36m(ClientAppActor pid=1320832)\u001b[0m Epoch 60/100\u001b[32m [repeated 30x across cluster]\u001b[0m\n",
      "\u001b[2m\u001b[36m(ClientAppActor pid=1320832)\u001b[0m Epoch 59: Training accuracy: 80.91716003417969 Testing accuracy: 76.33135986328125.\u001b[32m [repeated 30x across cluster]\u001b[0m\n",
      "\u001b[2m\u001b[36m(ClientAppActor pid=1320835)\u001b[0m \u001b[32m [repeated 30x across cluster]\u001b[0m\n",
      "\u001b[2m\u001b[36m(ClientAppActor pid=1320835)\u001b[0m Epoch 92/100\u001b[32m [repeated 30x across cluster]\u001b[0m\n",
      "\u001b[2m\u001b[36m(ClientAppActor pid=1320835)\u001b[0m Epoch 91: Training accuracy: 83.97435760498047 Testing accuracy: 80.12820434570312.\u001b[32m [repeated 30x across cluster]\u001b[0m\n",
      "\u001b[2m\u001b[36m(ClientAppActor pid=1320832)\u001b[0m \u001b[32m [repeated 27x across cluster]\u001b[0m\n",
      "\u001b[2m\u001b[36m(ClientAppActor pid=1320832)\u001b[0m Epoch 97/100\u001b[32m [repeated 27x across cluster]\u001b[0m\n",
      "\u001b[2m\u001b[36m(ClientAppActor pid=1320832)\u001b[0m Epoch 96: Training accuracy: 83.2100601196289 Testing accuracy: 80.47337341308594.\u001b[32m [repeated 28x across cluster]\u001b[0m\n"
     ]
    },
    {
     "name": "stderr",
     "output_type": "stream",
     "text": [
      "\u001b[92mINFO \u001b[0m:      aggregate_fit: received 3 results and 0 failures\n",
      "\u001b[92mINFO \u001b[0m:      fit progress: (28, 0.050702907822348854, {'accuracy': tensor(74.3920, device='cuda:0')}, 1763.7067576260015)\n",
      "\u001b[92mINFO \u001b[0m:      configure_evaluate: strategy sampled 1 clients (out of 3)\n"
     ]
    },
    {
     "name": "stdout",
     "output_type": "stream",
     "text": [
      "Server-side evaluation loss 0.050702907822348854 / accuracy 74.3919906616211\n"
     ]
    },
    {
     "name": "stderr",
     "output_type": "stream",
     "text": [
      "\u001b[92mINFO \u001b[0m:      aggregate_evaluate: received 1 results and 0 failures\n",
      "\u001b[92mINFO \u001b[0m:      \n",
      "\u001b[92mINFO \u001b[0m:      [ROUND 29]\n",
      "\u001b[92mINFO \u001b[0m:      configure_fit: strategy sampled 3 clients (out of 3)\n"
     ]
    },
    {
     "name": "stdout",
     "output_type": "stream",
     "text": [
      "\u001b[2m\u001b[36m(ClientAppActor pid=1320835)\u001b[0m \u001b[32m [repeated 13x across cluster]\u001b[0m\n",
      "\u001b[2m\u001b[36m(ClientAppActor pid=1320835)\u001b[0m Epoch 5/100\u001b[32m [repeated 13x across cluster]\u001b[0m\n",
      "\u001b[2m\u001b[36m(ClientAppActor pid=1320835)\u001b[0m Epoch 4: Training accuracy: 82.93269348144531 Testing accuracy: 80.12820434570312.\u001b[32m [repeated 12x across cluster]\u001b[0m\n",
      "\u001b[2m\u001b[36m(ClientAppActor pid=1320835)\u001b[0m \u001b[32m [repeated 25x across cluster]\u001b[0m\n",
      "\u001b[2m\u001b[36m(ClientAppActor pid=1320835)\u001b[0m Epoch 16/100\u001b[32m [repeated 25x across cluster]\u001b[0m\n",
      "\u001b[2m\u001b[36m(ClientAppActor pid=1320835)\u001b[0m Epoch 15: Training accuracy: 83.89423370361328 Testing accuracy: 80.76923370361328.\u001b[32m [repeated 25x across cluster]\u001b[0m\n",
      "\u001b[2m\u001b[36m(ClientAppActor pid=1320835)\u001b[0m \u001b[32m [repeated 25x across cluster]\u001b[0m\n",
      "\u001b[2m\u001b[36m(ClientAppActor pid=1320835)\u001b[0m Epoch 27/100\u001b[32m [repeated 25x across cluster]\u001b[0m\n",
      "\u001b[2m\u001b[36m(ClientAppActor pid=1320835)\u001b[0m Epoch 26: Training accuracy: 83.89423370361328 Testing accuracy: 81.4102554321289.\u001b[32m [repeated 25x across cluster]\u001b[0m\n",
      "\u001b[2m\u001b[36m(ClientAppActor pid=1320832)\u001b[0m \u001b[32m [repeated 27x across cluster]\u001b[0m\n",
      "\u001b[2m\u001b[36m(ClientAppActor pid=1320832)\u001b[0m Epoch 50/100\u001b[32m [repeated 27x across cluster]\u001b[0m\n",
      "\u001b[2m\u001b[36m(ClientAppActor pid=1320832)\u001b[0m Epoch 49: Training accuracy: 82.63472747802734 Testing accuracy: 81.43712615966797.\u001b[32m [repeated 27x across cluster]\u001b[0m\n",
      "\u001b[2m\u001b[36m(ClientAppActor pid=1320832)\u001b[0m \u001b[32m [repeated 22x across cluster]\u001b[0m\n",
      "\u001b[2m\u001b[36m(ClientAppActor pid=1320832)\u001b[0m Epoch 63/100\u001b[32m [repeated 22x across cluster]\u001b[0m\n",
      "\u001b[2m\u001b[36m(ClientAppActor pid=1320832)\u001b[0m Epoch 62: Training accuracy: 83.45808410644531 Testing accuracy: 83.23353576660156.\u001b[32m [repeated 22x across cluster]\u001b[0m\n",
      "\u001b[2m\u001b[36m(ClientAppActor pid=1320832)\u001b[0m \u001b[32m [repeated 16x across cluster]\u001b[0m\n",
      "\u001b[2m\u001b[36m(ClientAppActor pid=1320832)\u001b[0m Epoch 72/100\u001b[32m [repeated 16x across cluster]\u001b[0m\n",
      "\u001b[2m\u001b[36m(ClientAppActor pid=1320832)\u001b[0m Epoch 71: Training accuracy: 83.38323211669922 Testing accuracy: 82.63472747802734.\u001b[32m [repeated 16x across cluster]\u001b[0m\n",
      "\u001b[2m\u001b[36m(ClientAppActor pid=1320832)\u001b[0m \u001b[32m [repeated 15x across cluster]\u001b[0m\n",
      "\u001b[2m\u001b[36m(ClientAppActor pid=1320832)\u001b[0m Epoch 80/100\u001b[32m [repeated 15x across cluster]\u001b[0m\n",
      "\u001b[2m\u001b[36m(ClientAppActor pid=1320832)\u001b[0m Epoch 79: Training accuracy: 83.15868377685547 Testing accuracy: 85.02993774414062.\u001b[32m [repeated 15x across cluster]\u001b[0m\n",
      "\u001b[2m\u001b[36m(ClientAppActor pid=1320835)\u001b[0m \u001b[32m [repeated 15x across cluster]\u001b[0m\n",
      "\u001b[2m\u001b[36m(ClientAppActor pid=1320835)\u001b[0m Epoch 67/100\u001b[32m [repeated 15x across cluster]\u001b[0m\n",
      "\u001b[2m\u001b[36m(ClientAppActor pid=1320835)\u001b[0m Epoch 66: Training accuracy: 79.16666412353516 Testing accuracy: 77.56410217285156.\u001b[32m [repeated 15x across cluster]\u001b[0m\n",
      "\u001b[2m\u001b[36m(ClientAppActor pid=1320832)\u001b[0m \u001b[32m [repeated 16x across cluster]\u001b[0m\n",
      "\u001b[2m\u001b[36m(ClientAppActor pid=1320832)\u001b[0m Epoch 97/100\u001b[32m [repeated 16x across cluster]\u001b[0m\n",
      "\u001b[2m\u001b[36m(ClientAppActor pid=1320832)\u001b[0m Epoch 96: Training accuracy: 83.30838012695312 Testing accuracy: 84.43113708496094.\u001b[32m [repeated 16x across cluster]\u001b[0m\n",
      "\u001b[2m\u001b[36m(ClientAppActor pid=1320832)\u001b[0m \u001b[32m [repeated 14x across cluster]\u001b[0m\n",
      "\u001b[2m\u001b[36m(ClientAppActor pid=1320832)\u001b[0m Epoch 5/100\u001b[32m [repeated 14x across cluster]\u001b[0m\n",
      "\u001b[2m\u001b[36m(ClientAppActor pid=1320832)\u001b[0m Epoch 4: Training accuracy: 81.36094665527344 Testing accuracy: 76.92308044433594.\u001b[32m [repeated 14x across cluster]\u001b[0m\n",
      "\u001b[2m\u001b[36m(ClientAppActor pid=1320835)\u001b[0m \u001b[32m [repeated 16x across cluster]\u001b[0m\n",
      "\u001b[2m\u001b[36m(ClientAppActor pid=1320835)\u001b[0m Epoch 88/100\u001b[32m [repeated 16x across cluster]\u001b[0m\n",
      "\u001b[2m\u001b[36m(ClientAppActor pid=1320835)\u001b[0m Epoch 87: Training accuracy: 84.45513153076172 Testing accuracy: 80.76923370361328.\u001b[32m [repeated 16x across cluster]\u001b[0m\n",
      "\u001b[2m\u001b[36m(ClientAppActor pid=1320835)\u001b[0m \u001b[32m [repeated 14x across cluster]\u001b[0m\n",
      "\u001b[2m\u001b[36m(ClientAppActor pid=1320835)\u001b[0m Epoch 94/100\u001b[32m [repeated 14x across cluster]\u001b[0m\n",
      "\u001b[2m\u001b[36m(ClientAppActor pid=1320835)\u001b[0m Epoch 93: Training accuracy: 81.33013153076172 Testing accuracy: 77.56410217285156.\u001b[32m [repeated 14x across cluster]\u001b[0m\n",
      "\u001b[2m\u001b[36m(ClientAppActor pid=1320832)\u001b[0m \u001b[32m [repeated 15x across cluster]\u001b[0m\n",
      "\u001b[2m\u001b[36m(ClientAppActor pid=1320832)\u001b[0m Epoch 30/100\u001b[32m [repeated 15x across cluster]\u001b[0m\n",
      "\u001b[2m\u001b[36m(ClientAppActor pid=1320832)\u001b[0m Epoch 29: Training accuracy: 82.47041320800781 Testing accuracy: 79.88166046142578.\u001b[32m [repeated 16x across cluster]\u001b[0m\n",
      "\u001b[2m\u001b[36m(ClientAppActor pid=1320832)\u001b[0m \u001b[32m [repeated 8x across cluster]\u001b[0m\n",
      "\u001b[2m\u001b[36m(ClientAppActor pid=1320832)\u001b[0m Epoch 38/100\u001b[32m [repeated 8x across cluster]\u001b[0m\n",
      "\u001b[2m\u001b[36m(ClientAppActor pid=1320832)\u001b[0m Epoch 37: Training accuracy: 77.95858001708984 Testing accuracy: 75.7396469116211.\u001b[32m [repeated 8x across cluster]\u001b[0m\n",
      "\u001b[2m\u001b[36m(ClientAppActor pid=1320832)\u001b[0m \u001b[32m [repeated 11x across cluster]\u001b[0m\n",
      "\u001b[2m\u001b[36m(ClientAppActor pid=1320832)\u001b[0m Epoch 49/100\u001b[32m [repeated 11x across cluster]\u001b[0m\n",
      "\u001b[2m\u001b[36m(ClientAppActor pid=1320832)\u001b[0m Epoch 48: Training accuracy: 81.87870025634766 Testing accuracy: 76.92308044433594.\u001b[32m [repeated 11x across cluster]\u001b[0m\n"
     ]
    },
    {
     "name": "stderr",
     "output_type": "stream",
     "text": [
      "\u001b[92mINFO \u001b[0m:      aggregate_fit: received 3 results and 0 failures\n",
      "\u001b[92mINFO \u001b[0m:      fit progress: (29, 0.050017243081873115, {'accuracy': tensor(73.9628, device='cuda:0')}, 1844.1290356130048)\n",
      "\u001b[92mINFO \u001b[0m:      configure_evaluate: strategy sampled 1 clients (out of 3)\n",
      "\u001b[92mINFO \u001b[0m:      aggregate_evaluate: received 1 results and 0 failures\n",
      "\u001b[92mINFO \u001b[0m:      \n",
      "\u001b[92mINFO \u001b[0m:      [ROUND 30]\n",
      "\u001b[92mINFO \u001b[0m:      configure_fit: strategy sampled 3 clients (out of 3)\n"
     ]
    },
    {
     "name": "stdout",
     "output_type": "stream",
     "text": [
      "Server-side evaluation loss 0.050017243081873115 / accuracy 73.96280670166016\n",
      "\u001b[2m\u001b[36m(ClientAppActor pid=1320835)\u001b[0m \u001b[32m [repeated 61x across cluster]\u001b[0m\n",
      "\u001b[2m\u001b[36m(ClientAppActor pid=1320835)\u001b[0m Epoch 1/100\u001b[32m [repeated 61x across cluster]\u001b[0m\n",
      "\u001b[2m\u001b[36m(ClientAppActor pid=1320832)\u001b[0m Epoch 8: Training accuracy: 83.49359130859375 Testing accuracy: 79.4871826171875.\u001b[32m [repeated 60x across cluster]\u001b[0m\n",
      "\u001b[2m\u001b[36m(ClientAppActor pid=1320832)\u001b[0m \u001b[32m [repeated 140x across cluster]\u001b[0m\n",
      "\u001b[2m\u001b[36m(ClientAppActor pid=1320832)\u001b[0m Epoch 40/100\u001b[32m [repeated 140x across cluster]\u001b[0m\n",
      "\u001b[2m\u001b[36m(ClientAppActor pid=1320832)\u001b[0m Epoch 39: Training accuracy: 82.39644622802734 Testing accuracy: 80.47337341308594.\u001b[32m [repeated 140x across cluster]\u001b[0m\n",
      "\u001b[2m\u001b[36m(ClientAppActor pid=1320835)\u001b[0m \u001b[32m [repeated 75x across cluster]\u001b[0m\n",
      "\u001b[2m\u001b[36m(ClientAppActor pid=1320835)\u001b[0m Epoch 25/100\u001b[32m [repeated 75x across cluster]\u001b[0m\n",
      "\u001b[2m\u001b[36m(ClientAppActor pid=1320835)\u001b[0m Epoch 24: Training accuracy: 82.55988311767578 Testing accuracy: 82.03592681884766.\u001b[32m [repeated 76x across cluster]\u001b[0m\n",
      "\u001b[2m\u001b[36m(ClientAppActor pid=1320835)\u001b[0m \u001b[32m [repeated 12x across cluster]\u001b[0m\n",
      "\u001b[2m\u001b[36m(ClientAppActor pid=1320835)\u001b[0m Epoch 37/100\u001b[32m [repeated 12x across cluster]\u001b[0m\n",
      "\u001b[2m\u001b[36m(ClientAppActor pid=1320835)\u001b[0m Epoch 36: Training accuracy: 78.3682632446289 Testing accuracy: 72.45509338378906.\u001b[32m [repeated 12x across cluster]\u001b[0m\n",
      "\u001b[2m\u001b[36m(ClientAppActor pid=1320835)\u001b[0m \u001b[32m [repeated 9x across cluster]\u001b[0m\n",
      "\u001b[2m\u001b[36m(ClientAppActor pid=1320835)\u001b[0m Epoch 46/100\u001b[32m [repeated 9x across cluster]\u001b[0m\n",
      "\u001b[2m\u001b[36m(ClientAppActor pid=1320835)\u001b[0m Epoch 45: Training accuracy: 82.93413543701172 Testing accuracy: 81.43712615966797.\u001b[32m [repeated 9x across cluster]\u001b[0m\n",
      "\u001b[2m\u001b[36m(ClientAppActor pid=1320835)\u001b[0m \u001b[32m [repeated 7x across cluster]\u001b[0m\n",
      "\u001b[2m\u001b[36m(ClientAppActor pid=1320835)\u001b[0m Epoch 53/100\u001b[32m [repeated 7x across cluster]\u001b[0m\n",
      "\u001b[2m\u001b[36m(ClientAppActor pid=1320835)\u001b[0m Epoch 52: Training accuracy: 82.70957946777344 Testing accuracy: 83.23353576660156.\u001b[32m [repeated 7x across cluster]\u001b[0m\n",
      "\u001b[2m\u001b[36m(ClientAppActor pid=1320835)\u001b[0m \u001b[32m [repeated 9x across cluster]\u001b[0m\n",
      "\u001b[2m\u001b[36m(ClientAppActor pid=1320835)\u001b[0m Epoch 62/100\u001b[32m [repeated 9x across cluster]\u001b[0m\n",
      "\u001b[2m\u001b[36m(ClientAppActor pid=1320835)\u001b[0m Epoch 61: Training accuracy: 83.38323211669922 Testing accuracy: 83.83233642578125.\u001b[32m [repeated 9x across cluster]\u001b[0m\n",
      "\u001b[2m\u001b[36m(ClientAppActor pid=1320835)\u001b[0m \u001b[32m [repeated 9x across cluster]\u001b[0m\n",
      "\u001b[2m\u001b[36m(ClientAppActor pid=1320835)\u001b[0m Epoch 71/100\u001b[32m [repeated 9x across cluster]\u001b[0m\n",
      "\u001b[2m\u001b[36m(ClientAppActor pid=1320835)\u001b[0m Epoch 70: Training accuracy: 83.45808410644531 Testing accuracy: 82.03592681884766.\u001b[32m [repeated 9x across cluster]\u001b[0m\n",
      "\u001b[2m\u001b[36m(ClientAppActor pid=1320835)\u001b[0m \u001b[32m [repeated 8x across cluster]\u001b[0m\n",
      "\u001b[2m\u001b[36m(ClientAppActor pid=1320835)\u001b[0m Epoch 79/100\u001b[32m [repeated 8x across cluster]\u001b[0m\n",
      "\u001b[2m\u001b[36m(ClientAppActor pid=1320835)\u001b[0m Epoch 78: Training accuracy: 83.9820327758789 Testing accuracy: 83.23353576660156.\u001b[32m [repeated 8x across cluster]\u001b[0m\n",
      "\u001b[2m\u001b[36m(ClientAppActor pid=1320835)\u001b[0m \u001b[32m [repeated 13x across cluster]\u001b[0m\n",
      "\u001b[2m\u001b[36m(ClientAppActor pid=1320835)\u001b[0m Epoch 92/100\u001b[32m [repeated 13x across cluster]\u001b[0m\n",
      "\u001b[2m\u001b[36m(ClientAppActor pid=1320835)\u001b[0m Epoch 91: Training accuracy: 82.26048278808594 Testing accuracy: 83.23353576660156.\u001b[32m [repeated 13x across cluster]\u001b[0m\n"
     ]
    },
    {
     "name": "stderr",
     "output_type": "stream",
     "text": [
      "\u001b[92mINFO \u001b[0m:      aggregate_fit: received 3 results and 0 failures\n",
      "\u001b[92mINFO \u001b[0m:      fit progress: (30, 0.050575445998798714, {'accuracy': tensor(74.5350, device='cuda:0')}, 1894.2765993700013)\n",
      "\u001b[92mINFO \u001b[0m:      configure_evaluate: strategy sampled 1 clients (out of 3)\n",
      "\u001b[92mINFO \u001b[0m:      aggregate_evaluate: received 1 results and 0 failures\n",
      "\u001b[92mINFO \u001b[0m:      \n",
      "\u001b[92mINFO \u001b[0m:      [ROUND 31]\n",
      "\u001b[92mINFO \u001b[0m:      configure_fit: strategy sampled 3 clients (out of 3)\n"
     ]
    },
    {
     "name": "stdout",
     "output_type": "stream",
     "text": [
      "Server-side evaluation loss 0.050575445998798714 / accuracy 74.53504943847656\n",
      "\u001b[2m\u001b[36m(ClientAppActor pid=1320835)\u001b[0m \u001b[32m [repeated 43x across cluster]\u001b[0m\n",
      "\u001b[2m\u001b[36m(ClientAppActor pid=1320835)\u001b[0m Epoch 19/100\u001b[32m [repeated 43x across cluster]\u001b[0m\n",
      "\u001b[2m\u001b[36m(ClientAppActor pid=1320835)\u001b[0m Epoch 18: Training accuracy: 83.81410217285156 Testing accuracy: 80.76923370361328.\u001b[32m [repeated 42x across cluster]\u001b[0m\n",
      "\u001b[2m\u001b[36m(ClientAppActor pid=1320835)\u001b[0m \u001b[32m [repeated 198x across cluster]\u001b[0m\n",
      "\u001b[2m\u001b[36m(ClientAppActor pid=1320835)\u001b[0m Epoch 37/100\u001b[32m [repeated 198x across cluster]\u001b[0m\n",
      "\u001b[2m\u001b[36m(ClientAppActor pid=1320835)\u001b[0m Epoch 36: Training accuracy: 82.98816680908203 Testing accuracy: 79.88166046142578.\u001b[32m [repeated 198x across cluster]\u001b[0m\n",
      "\u001b[2m\u001b[36m(ClientAppActor pid=1320835)\u001b[0m \u001b[32m [repeated 26x across cluster]\u001b[0m\n",
      "\u001b[2m\u001b[36m(ClientAppActor pid=1320835)\u001b[0m Epoch 59/100\u001b[32m [repeated 26x across cluster]\u001b[0m\n",
      "\u001b[2m\u001b[36m(ClientAppActor pid=1320835)\u001b[0m Epoch 58: Training accuracy: 82.98816680908203 Testing accuracy: 78.69822692871094.\u001b[32m [repeated 27x across cluster]\u001b[0m\n",
      "\u001b[2m\u001b[36m(ClientAppActor pid=1320835)\u001b[0m \u001b[32m [repeated 6x across cluster]\u001b[0m\n",
      "\u001b[2m\u001b[36m(ClientAppActor pid=1320835)\u001b[0m Epoch 65/100\u001b[32m [repeated 6x across cluster]\u001b[0m\n",
      "\u001b[2m\u001b[36m(ClientAppActor pid=1320835)\u001b[0m Epoch 64: Training accuracy: 82.54438018798828 Testing accuracy: 80.47337341308594.\u001b[32m [repeated 6x across cluster]\u001b[0m\n",
      "\u001b[2m\u001b[36m(ClientAppActor pid=1320835)\u001b[0m \u001b[32m [repeated 7x across cluster]\u001b[0m\n",
      "\u001b[2m\u001b[36m(ClientAppActor pid=1320835)\u001b[0m Epoch 72/100\u001b[32m [repeated 7x across cluster]\u001b[0m\n",
      "\u001b[2m\u001b[36m(ClientAppActor pid=1320835)\u001b[0m Epoch 71: Training accuracy: 80.47337341308594 Testing accuracy: 75.1479263305664.\u001b[32m [repeated 7x across cluster]\u001b[0m\n",
      "\u001b[2m\u001b[36m(ClientAppActor pid=1320835)\u001b[0m \u001b[32m [repeated 6x across cluster]\u001b[0m\n",
      "\u001b[2m\u001b[36m(ClientAppActor pid=1320835)\u001b[0m Epoch 78/100\u001b[32m [repeated 6x across cluster]\u001b[0m\n",
      "\u001b[2m\u001b[36m(ClientAppActor pid=1320835)\u001b[0m Epoch 77: Training accuracy: 83.35798645019531 Testing accuracy: 81.0650863647461.\u001b[32m [repeated 6x across cluster]\u001b[0m\n",
      "\u001b[2m\u001b[36m(ClientAppActor pid=1320835)\u001b[0m \u001b[32m [repeated 7x across cluster]\u001b[0m\n",
      "\u001b[2m\u001b[36m(ClientAppActor pid=1320835)\u001b[0m Epoch 85/100\u001b[32m [repeated 7x across cluster]\u001b[0m\n",
      "\u001b[2m\u001b[36m(ClientAppActor pid=1320835)\u001b[0m Epoch 84: Training accuracy: 83.35798645019531 Testing accuracy: 81.0650863647461.\u001b[32m [repeated 7x across cluster]\u001b[0m\n",
      "\u001b[2m\u001b[36m(ClientAppActor pid=1320835)\u001b[0m \u001b[32m [repeated 6x across cluster]\u001b[0m\n",
      "\u001b[2m\u001b[36m(ClientAppActor pid=1320835)\u001b[0m Epoch 91/100\u001b[32m [repeated 6x across cluster]\u001b[0m\n",
      "\u001b[2m\u001b[36m(ClientAppActor pid=1320835)\u001b[0m Epoch 90: Training accuracy: 81.0650863647461 Testing accuracy: 79.2899398803711.\u001b[32m [repeated 6x across cluster]\u001b[0m\n",
      "\u001b[2m\u001b[36m(ClientAppActor pid=1320835)\u001b[0m \u001b[32m [repeated 7x across cluster]\u001b[0m\n",
      "\u001b[2m\u001b[36m(ClientAppActor pid=1320835)\u001b[0m Epoch 98/100\u001b[32m [repeated 7x across cluster]\u001b[0m\n",
      "\u001b[2m\u001b[36m(ClientAppActor pid=1320835)\u001b[0m Epoch 97: Training accuracy: 83.2100601196289 Testing accuracy: 79.2899398803711.\u001b[32m [repeated 7x across cluster]\u001b[0m\n"
     ]
    },
    {
     "name": "stderr",
     "output_type": "stream",
     "text": [
      "\u001b[92mINFO \u001b[0m:      aggregate_fit: received 3 results and 0 failures\n",
      "\u001b[92mINFO \u001b[0m:      fit progress: (31, 0.04912340099161321, {'accuracy': tensor(75.2504, device='cuda:0')}, 1942.820487902005)\n",
      "\u001b[92mINFO \u001b[0m:      configure_evaluate: strategy sampled 1 clients (out of 3)\n"
     ]
    },
    {
     "name": "stdout",
     "output_type": "stream",
     "text": [
      "Server-side evaluation loss 0.04912340099161321 / accuracy 75.25035858154297\n"
     ]
    },
    {
     "name": "stderr",
     "output_type": "stream",
     "text": [
      "\u001b[92mINFO \u001b[0m:      aggregate_evaluate: received 1 results and 0 failures\n",
      "\u001b[92mINFO \u001b[0m:      \n",
      "\u001b[92mINFO \u001b[0m:      [ROUND 32]\n",
      "\u001b[92mINFO \u001b[0m:      configure_fit: strategy sampled 3 clients (out of 3)\n"
     ]
    },
    {
     "name": "stdout",
     "output_type": "stream",
     "text": [
      "\u001b[2m\u001b[36m(ClientAppActor pid=1320832)\u001b[0m \u001b[32m [repeated 10x across cluster]\u001b[0m\n",
      "\u001b[2m\u001b[36m(ClientAppActor pid=1320832)\u001b[0m Epoch 5/100\u001b[32m [repeated 10x across cluster]\u001b[0m\n",
      "\u001b[2m\u001b[36m(ClientAppActor pid=1320832)\u001b[0m Epoch 4: Training accuracy: 82.03592681884766 Testing accuracy: 83.23353576660156.\u001b[32m [repeated 9x across cluster]\u001b[0m\n",
      "\u001b[2m\u001b[36m(ClientAppActor pid=1320832)\u001b[0m \u001b[32m [repeated 14x across cluster]\u001b[0m\n",
      "\u001b[2m\u001b[36m(ClientAppActor pid=1320832)\u001b[0m Epoch 13/100\u001b[32m [repeated 14x across cluster]\u001b[0m\n",
      "\u001b[2m\u001b[36m(ClientAppActor pid=1320832)\u001b[0m Epoch 12: Training accuracy: 83.38323211669922 Testing accuracy: 82.63472747802734.\u001b[32m [repeated 14x across cluster]\u001b[0m\n",
      "\u001b[2m\u001b[36m(ClientAppActor pid=1320835)\u001b[0m \u001b[32m [repeated 16x across cluster]\u001b[0m\n",
      "\u001b[2m\u001b[36m(ClientAppActor pid=1320835)\u001b[0m Epoch 16/100\u001b[32m [repeated 16x across cluster]\u001b[0m\n",
      "\u001b[2m\u001b[36m(ClientAppActor pid=1320835)\u001b[0m Epoch 15: Training accuracy: 82.47041320800781 Testing accuracy: 80.47337341308594.\u001b[32m [repeated 16x across cluster]\u001b[0m\n",
      "\u001b[2m\u001b[36m(ClientAppActor pid=1320832)\u001b[0m \u001b[32m [repeated 15x across cluster]\u001b[0m\n",
      "\u001b[2m\u001b[36m(ClientAppActor pid=1320832)\u001b[0m Epoch 31/100\u001b[32m [repeated 15x across cluster]\u001b[0m\n",
      "\u001b[2m\u001b[36m(ClientAppActor pid=1320832)\u001b[0m Epoch 30: Training accuracy: 84.20658874511719 Testing accuracy: 83.23353576660156.\u001b[32m [repeated 15x across cluster]\u001b[0m\n",
      "\u001b[2m\u001b[36m(ClientAppActor pid=1320835)\u001b[0m \u001b[32m [repeated 14x across cluster]\u001b[0m\n",
      "\u001b[2m\u001b[36m(ClientAppActor pid=1320835)\u001b[0m Epoch 28/100\u001b[32m [repeated 14x across cluster]\u001b[0m\n",
      "\u001b[2m\u001b[36m(ClientAppActor pid=1320835)\u001b[0m Epoch 27: Training accuracy: 77.6627197265625 Testing accuracy: 74.55621337890625.\u001b[32m [repeated 14x across cluster]\u001b[0m\n",
      "\u001b[2m\u001b[36m(ClientAppActor pid=1320832)\u001b[0m \u001b[32m [repeated 18x across cluster]\u001b[0m\n",
      "\u001b[2m\u001b[36m(ClientAppActor pid=1320832)\u001b[0m Epoch 51/100\u001b[32m [repeated 18x across cluster]\u001b[0m\n",
      "\u001b[2m\u001b[36m(ClientAppActor pid=1320832)\u001b[0m Epoch 50: Training accuracy: 83.90718841552734 Testing accuracy: 82.63472747802734.\u001b[32m [repeated 18x across cluster]\u001b[0m\n",
      "\u001b[2m\u001b[36m(ClientAppActor pid=1320832)\u001b[0m \u001b[32m [repeated 43x across cluster]\u001b[0m\n",
      "\u001b[2m\u001b[36m(ClientAppActor pid=1320832)\u001b[0m Epoch 88/100\u001b[32m [repeated 43x across cluster]\u001b[0m\n",
      "\u001b[2m\u001b[36m(ClientAppActor pid=1320832)\u001b[0m Epoch 87: Training accuracy: 84.1317367553711 Testing accuracy: 83.23353576660156.\u001b[32m [repeated 43x across cluster]\u001b[0m\n",
      "\u001b[2m\u001b[36m(ClientAppActor pid=1320832)\u001b[0m \u001b[32m [repeated 41x across cluster]\u001b[0m\n",
      "\u001b[2m\u001b[36m(ClientAppActor pid=1320832)\u001b[0m Epoch 17/100\u001b[32m [repeated 41x across cluster]\u001b[0m\n",
      "\u001b[2m\u001b[36m(ClientAppActor pid=1320832)\u001b[0m Epoch 16: Training accuracy: 83.97435760498047 Testing accuracy: 80.76923370361328.\u001b[32m [repeated 41x across cluster]\u001b[0m\n",
      "\u001b[2m\u001b[36m(ClientAppActor pid=1320835)\u001b[0m \u001b[32m [repeated 48x across cluster]\u001b[0m\n",
      "\u001b[2m\u001b[36m(ClientAppActor pid=1320835)\u001b[0m Epoch 67/100\u001b[32m [repeated 48x across cluster]\u001b[0m\n",
      "\u001b[2m\u001b[36m(ClientAppActor pid=1320835)\u001b[0m Epoch 66: Training accuracy: 83.2100601196289 Testing accuracy: 81.0650863647461.\u001b[32m [repeated 48x across cluster]\u001b[0m\n",
      "\u001b[2m\u001b[36m(ClientAppActor pid=1320832)\u001b[0m \u001b[32m [repeated 34x across cluster]\u001b[0m\n",
      "\u001b[2m\u001b[36m(ClientAppActor pid=1320832)\u001b[0m Epoch 72/100\u001b[32m [repeated 34x across cluster]\u001b[0m\n",
      "\u001b[2m\u001b[36m(ClientAppActor pid=1320832)\u001b[0m Epoch 71: Training accuracy: 83.89423370361328 Testing accuracy: 79.4871826171875.\u001b[32m [repeated 34x across cluster]\u001b[0m\n",
      "\u001b[2m\u001b[36m(ClientAppActor pid=1320832)\u001b[0m \u001b[32m [repeated 40x across cluster]\u001b[0m\n",
      "\u001b[2m\u001b[36m(ClientAppActor pid=1320832)\u001b[0m Epoch 100/100\u001b[32m [repeated 40x across cluster]\u001b[0m\n",
      "\u001b[2m\u001b[36m(ClientAppActor pid=1320832)\u001b[0m Epoch 100: Training accuracy: 84.375 Testing accuracy: 80.76923370361328.\u001b[32m [repeated 41x across cluster]\u001b[0m\n"
     ]
    },
    {
     "name": "stderr",
     "output_type": "stream",
     "text": [
      "\u001b[92mINFO \u001b[0m:      aggregate_fit: received 3 results and 0 failures\n",
      "\u001b[92mINFO \u001b[0m:      fit progress: (32, 0.051216743209145286, {'accuracy': tensor(73.8197, device='cuda:0')}, 1999.529791591005)\n",
      "\u001b[92mINFO \u001b[0m:      configure_evaluate: strategy sampled 1 clients (out of 3)\n",
      "\u001b[92mINFO \u001b[0m:      aggregate_evaluate: received 1 results and 0 failures\n",
      "\u001b[92mINFO \u001b[0m:      \n",
      "\u001b[92mINFO \u001b[0m:      [ROUND 33]\n",
      "\u001b[92mINFO \u001b[0m:      configure_fit: strategy sampled 3 clients (out of 3)\n"
     ]
    },
    {
     "name": "stdout",
     "output_type": "stream",
     "text": [
      "Server-side evaluation loss 0.051216743209145286 / accuracy 73.81974029541016\n",
      "\u001b[2m\u001b[36m(ClientAppActor pid=1320835)\u001b[0m \u001b[32m [repeated 19x across cluster]\u001b[0m\n",
      "\u001b[2m\u001b[36m(ClientAppActor pid=1320835)\u001b[0m Epoch 6/100\u001b[32m [repeated 19x across cluster]\u001b[0m\n",
      "\u001b[2m\u001b[36m(ClientAppActor pid=1320835)\u001b[0m Epoch 5: Training accuracy: 82.47041320800781 Testing accuracy: 79.88166046142578.\u001b[32m [repeated 18x across cluster]\u001b[0m\n",
      "\u001b[2m\u001b[36m(ClientAppActor pid=1320832)\u001b[0m \u001b[32m [repeated 15x across cluster]\u001b[0m\n",
      "\u001b[2m\u001b[36m(ClientAppActor pid=1320832)\u001b[0m Epoch 13/100\u001b[32m [repeated 15x across cluster]\u001b[0m\n",
      "\u001b[2m\u001b[36m(ClientAppActor pid=1320832)\u001b[0m Epoch 12: Training accuracy: 83.15868377685547 Testing accuracy: 83.83233642578125.\u001b[32m [repeated 15x across cluster]\u001b[0m\n",
      "\u001b[2m\u001b[36m(ClientAppActor pid=1320835)\u001b[0m \u001b[32m [repeated 16x across cluster]\u001b[0m\n",
      "\u001b[2m\u001b[36m(ClientAppActor pid=1320835)\u001b[0m Epoch 19/100\u001b[32m [repeated 16x across cluster]\u001b[0m\n",
      "\u001b[2m\u001b[36m(ClientAppActor pid=1320835)\u001b[0m Epoch 18: Training accuracy: 82.69230651855469 Testing accuracy: 81.0650863647461.\u001b[32m [repeated 16x across cluster]\u001b[0m\n",
      "\u001b[2m\u001b[36m(ClientAppActor pid=1320835)\u001b[0m \u001b[32m [repeated 15x across cluster]\u001b[0m\n",
      "\u001b[2m\u001b[36m(ClientAppActor pid=1320835)\u001b[0m Epoch 25/100\u001b[32m [repeated 15x across cluster]\u001b[0m\n",
      "\u001b[2m\u001b[36m(ClientAppActor pid=1320835)\u001b[0m Epoch 24: Training accuracy: 82.84024047851562 Testing accuracy: 80.47337341308594.\u001b[32m [repeated 15x across cluster]\u001b[0m\n",
      "\u001b[2m\u001b[36m(ClientAppActor pid=1320835)\u001b[0m \u001b[32m [repeated 15x across cluster]\u001b[0m\n",
      "\u001b[2m\u001b[36m(ClientAppActor pid=1320835)\u001b[0m Epoch 32/100\u001b[32m [repeated 15x across cluster]\u001b[0m\n",
      "\u001b[2m\u001b[36m(ClientAppActor pid=1320835)\u001b[0m Epoch 31: Training accuracy: 82.54438018798828 Testing accuracy: 80.47337341308594.\u001b[32m [repeated 15x across cluster]\u001b[0m\n",
      "\u001b[2m\u001b[36m(ClientAppActor pid=1320832)\u001b[0m \u001b[32m [repeated 15x across cluster]\u001b[0m\n",
      "\u001b[2m\u001b[36m(ClientAppActor pid=1320832)\u001b[0m Epoch 49/100\u001b[32m [repeated 15x across cluster]\u001b[0m\n",
      "\u001b[2m\u001b[36m(ClientAppActor pid=1320832)\u001b[0m Epoch 48: Training accuracy: 84.1317367553711 Testing accuracy: 83.23353576660156.\u001b[32m [repeated 15x across cluster]\u001b[0m\n",
      "\u001b[2m\u001b[36m(ClientAppActor pid=1320835)\u001b[0m \u001b[32m [repeated 16x across cluster]\u001b[0m\n",
      "\u001b[2m\u001b[36m(ClientAppActor pid=1320835)\u001b[0m Epoch 45/100\u001b[32m [repeated 16x across cluster]\u001b[0m\n",
      "\u001b[2m\u001b[36m(ClientAppActor pid=1320835)\u001b[0m Epoch 44: Training accuracy: 83.50592041015625 Testing accuracy: 81.0650863647461.\u001b[32m [repeated 16x across cluster]\u001b[0m\n",
      "\u001b[2m\u001b[36m(ClientAppActor pid=1320832)\u001b[0m \u001b[32m [repeated 14x across cluster]\u001b[0m\n",
      "\u001b[2m\u001b[36m(ClientAppActor pid=1320832)\u001b[0m Epoch 66/100\u001b[32m [repeated 14x across cluster]\u001b[0m\n",
      "\u001b[2m\u001b[36m(ClientAppActor pid=1320832)\u001b[0m Epoch 65: Training accuracy: 82.78443145751953 Testing accuracy: 83.83233642578125.\u001b[32m [repeated 14x across cluster]\u001b[0m\n",
      "\u001b[2m\u001b[36m(ClientAppActor pid=1320835)\u001b[0m \u001b[32m [repeated 17x across cluster]\u001b[0m\n",
      "\u001b[2m\u001b[36m(ClientAppActor pid=1320835)\u001b[0m Epoch 58/100\u001b[32m [repeated 17x across cluster]\u001b[0m\n",
      "\u001b[2m\u001b[36m(ClientAppActor pid=1320835)\u001b[0m Epoch 57: Training accuracy: 83.13609313964844 Testing accuracy: 81.0650863647461.\u001b[32m [repeated 17x across cluster]\u001b[0m\n",
      "\u001b[2m\u001b[36m(ClientAppActor pid=1320835)\u001b[0m \u001b[32m [repeated 24x across cluster]\u001b[0m\n",
      "\u001b[2m\u001b[36m(ClientAppActor pid=1320835)\u001b[0m Epoch 68/100\u001b[32m [repeated 24x across cluster]\u001b[0m\n",
      "\u001b[2m\u001b[36m(ClientAppActor pid=1320835)\u001b[0m Epoch 67: Training accuracy: 82.98816680908203 Testing accuracy: 81.0650863647461.\u001b[32m [repeated 24x across cluster]\u001b[0m\n",
      "\u001b[2m\u001b[36m(ClientAppActor pid=1320835)\u001b[0m \u001b[32m [repeated 24x across cluster]\u001b[0m\n",
      "\u001b[2m\u001b[36m(ClientAppActor pid=1320835)\u001b[0m Epoch 78/100\u001b[32m [repeated 24x across cluster]\u001b[0m\n",
      "\u001b[2m\u001b[36m(ClientAppActor pid=1320835)\u001b[0m Epoch 77: Training accuracy: 82.84024047851562 Testing accuracy: 80.47337341308594.\u001b[32m [repeated 24x across cluster]\u001b[0m\n",
      "\u001b[2m\u001b[36m(ClientAppActor pid=1320832)\u001b[0m \u001b[32m [repeated 27x across cluster]\u001b[0m\n",
      "\u001b[2m\u001b[36m(ClientAppActor pid=1320832)\u001b[0m Epoch 21/100\u001b[32m [repeated 27x across cluster]\u001b[0m\n",
      "\u001b[2m\u001b[36m(ClientAppActor pid=1320832)\u001b[0m Epoch 20: Training accuracy: 83.41345977783203 Testing accuracy: 79.4871826171875.\u001b[32m [repeated 27x across cluster]\u001b[0m\n",
      "\u001b[2m\u001b[36m(ClientAppActor pid=1320832)\u001b[0m \u001b[32m [repeated 18x across cluster]\u001b[0m\n",
      "\u001b[2m\u001b[36m(ClientAppActor pid=1320832)\u001b[0m Epoch 32/100\u001b[32m [repeated 18x across cluster]\u001b[0m\n",
      "\u001b[2m\u001b[36m(ClientAppActor pid=1320832)\u001b[0m Epoch 31: Training accuracy: 83.49359130859375 Testing accuracy: 79.4871826171875.\u001b[32m [repeated 18x across cluster]\u001b[0m\n",
      "\u001b[2m\u001b[36m(ClientAppActor pid=1320832)\u001b[0m \u001b[32m [repeated 32x across cluster]\u001b[0m\n",
      "\u001b[2m\u001b[36m(ClientAppActor pid=1320832)\u001b[0m Epoch 58/100\u001b[32m [repeated 32x across cluster]\u001b[0m\n",
      "\u001b[2m\u001b[36m(ClientAppActor pid=1320832)\u001b[0m Epoch 57: Training accuracy: 83.89423370361328 Testing accuracy: 79.4871826171875.\u001b[32m [repeated 33x across cluster]\u001b[0m\n",
      "\u001b[2m\u001b[36m(ClientAppActor pid=1320832)\u001b[0m \u001b[32m [repeated 26x across cluster]\u001b[0m\n",
      "\u001b[2m\u001b[36m(ClientAppActor pid=1320832)\u001b[0m Epoch 84/100\u001b[32m [repeated 26x across cluster]\u001b[0m\n",
      "\u001b[2m\u001b[36m(ClientAppActor pid=1320832)\u001b[0m Epoch 83: Training accuracy: 82.21154022216797 Testing accuracy: 78.20513153076172.\u001b[32m [repeated 26x across cluster]\u001b[0m\n"
     ]
    },
    {
     "name": "stderr",
     "output_type": "stream",
     "text": [
      "\u001b[92mINFO \u001b[0m:      aggregate_fit: received 3 results and 0 failures\n",
      "\u001b[92mINFO \u001b[0m:      fit progress: (33, 0.050502218983390114, {'accuracy': tensor(74.8212, device='cuda:0')}, 2079.3495095320104)\n",
      "\u001b[92mINFO \u001b[0m:      configure_evaluate: strategy sampled 1 clients (out of 3)\n",
      "\u001b[92mINFO \u001b[0m:      aggregate_evaluate: received 1 results and 0 failures\n",
      "\u001b[92mINFO \u001b[0m:      \n",
      "\u001b[92mINFO \u001b[0m:      [ROUND 34]\n",
      "\u001b[92mINFO \u001b[0m:      configure_fit: strategy sampled 3 clients (out of 3)\n"
     ]
    },
    {
     "name": "stdout",
     "output_type": "stream",
     "text": [
      "Server-side evaluation loss 0.050502218983390114 / accuracy 74.82117462158203\n",
      "\u001b[2m\u001b[36m(ClientAppActor pid=1320832)\u001b[0m \u001b[32m [repeated 21x across cluster]\u001b[0m\n",
      "\u001b[2m\u001b[36m(ClientAppActor pid=1320832)\u001b[0m Epoch 4/100\u001b[32m [repeated 21x across cluster]\u001b[0m\n",
      "\u001b[2m\u001b[36m(ClientAppActor pid=1320832)\u001b[0m Epoch 3: Training accuracy: 81.21257781982422 Testing accuracy: 83.23353576660156.\u001b[32m [repeated 20x across cluster]\u001b[0m\n",
      "\u001b[2m\u001b[36m(ClientAppActor pid=1320832)\u001b[0m \u001b[32m [repeated 28x across cluster]\u001b[0m\n",
      "\u001b[2m\u001b[36m(ClientAppActor pid=1320832)\u001b[0m Epoch 26/100\u001b[32m [repeated 28x across cluster]\u001b[0m\n",
      "\u001b[2m\u001b[36m(ClientAppActor pid=1320832)\u001b[0m Epoch 25: Training accuracy: 83.9820327758789 Testing accuracy: 83.23353576660156.\u001b[32m [repeated 28x across cluster]\u001b[0m\n",
      "\u001b[2m\u001b[36m(ClientAppActor pid=1320835)\u001b[0m \u001b[32m [repeated 26x across cluster]\u001b[0m\n",
      "\u001b[2m\u001b[36m(ClientAppActor pid=1320835)\u001b[0m Epoch 14/100\u001b[32m [repeated 26x across cluster]\u001b[0m\n",
      "\u001b[2m\u001b[36m(ClientAppActor pid=1320835)\u001b[0m Epoch 13: Training accuracy: 82.39644622802734 Testing accuracy: 80.47337341308594.\u001b[32m [repeated 26x across cluster]\u001b[0m\n",
      "\u001b[2m\u001b[36m(ClientAppActor pid=1320832)\u001b[0m \u001b[32m [repeated 29x across cluster]\u001b[0m\n",
      "\u001b[2m\u001b[36m(ClientAppActor pid=1320832)\u001b[0m Epoch 69/100\u001b[32m [repeated 29x across cluster]\u001b[0m\n",
      "\u001b[2m\u001b[36m(ClientAppActor pid=1320832)\u001b[0m Epoch 68: Training accuracy: 83.08383178710938 Testing accuracy: 83.23353576660156.\u001b[32m [repeated 29x across cluster]\u001b[0m\n",
      "\u001b[2m\u001b[36m(ClientAppActor pid=1320832)\u001b[0m \u001b[32m [repeated 33x across cluster]\u001b[0m\n",
      "\u001b[2m\u001b[36m(ClientAppActor pid=1320832)\u001b[0m Epoch 95/100\u001b[32m [repeated 33x across cluster]\u001b[0m\n",
      "\u001b[2m\u001b[36m(ClientAppActor pid=1320832)\u001b[0m Epoch 94: Training accuracy: 82.63472747802734 Testing accuracy: 83.23353576660156.\u001b[32m [repeated 33x across cluster]\u001b[0m\n",
      "\u001b[2m\u001b[36m(ClientAppActor pid=1320832)\u001b[0m \u001b[32m [repeated 70x across cluster]\u001b[0m\n",
      "\u001b[2m\u001b[36m(ClientAppActor pid=1320832)\u001b[0m Epoch 58/100\u001b[32m [repeated 70x across cluster]\u001b[0m\n",
      "\u001b[2m\u001b[36m(ClientAppActor pid=1320832)\u001b[0m Epoch 57: Training accuracy: 82.7724380493164 Testing accuracy: 78.84615325927734.\u001b[32m [repeated 70x across cluster]\u001b[0m\n",
      "\u001b[2m\u001b[36m(ClientAppActor pid=1320835)\u001b[0m \u001b[32m [repeated 76x across cluster]\u001b[0m\n",
      "\u001b[2m\u001b[36m(ClientAppActor pid=1320835)\u001b[0m Epoch 67/100\u001b[32m [repeated 76x across cluster]\u001b[0m\n",
      "\u001b[2m\u001b[36m(ClientAppActor pid=1320835)\u001b[0m Epoch 66: Training accuracy: 82.76627349853516 Testing accuracy: 81.0650863647461.\u001b[32m [repeated 77x across cluster]\u001b[0m\n"
     ]
    },
    {
     "name": "stderr",
     "output_type": "stream",
     "text": [
      "\u001b[92mINFO \u001b[0m:      aggregate_fit: received 3 results and 0 failures\n",
      "\u001b[92mINFO \u001b[0m:      fit progress: (34, 0.05016846006566828, {'accuracy': tensor(74.3920, device='cuda:0')}, 2112.817694889003)\n",
      "\u001b[92mINFO \u001b[0m:      configure_evaluate: strategy sampled 1 clients (out of 3)\n",
      "\u001b[92mINFO \u001b[0m:      aggregate_evaluate: received 1 results and 0 failures\n",
      "\u001b[92mINFO \u001b[0m:      \n",
      "\u001b[92mINFO \u001b[0m:      [ROUND 35]\n",
      "\u001b[92mINFO \u001b[0m:      configure_fit: strategy sampled 3 clients (out of 3)\n"
     ]
    },
    {
     "name": "stdout",
     "output_type": "stream",
     "text": [
      "Server-side evaluation loss 0.05016846006566828 / accuracy 74.3919906616211\n",
      "\u001b[2m\u001b[36m(ClientAppActor pid=1320835)\u001b[0m \u001b[32m [repeated 92x across cluster]\u001b[0m\n",
      "\u001b[2m\u001b[36m(ClientAppActor pid=1320835)\u001b[0m Epoch 31/100\u001b[32m [repeated 92x across cluster]\u001b[0m\n",
      "\u001b[2m\u001b[36m(ClientAppActor pid=1320835)\u001b[0m Epoch 30: Training accuracy: 83.2100601196289 Testing accuracy: 80.47337341308594.\u001b[32m [repeated 91x across cluster]\u001b[0m\n",
      "\u001b[2m\u001b[36m(ClientAppActor pid=1320832)\u001b[0m \u001b[32m [repeated 16x across cluster]\u001b[0m\n",
      "\u001b[2m\u001b[36m(ClientAppActor pid=1320832)\u001b[0m Epoch 38/100\u001b[32m [repeated 16x across cluster]\u001b[0m\n",
      "\u001b[2m\u001b[36m(ClientAppActor pid=1320832)\u001b[0m Epoch 37: Training accuracy: 84.05448913574219 Testing accuracy: 80.76923370361328.\u001b[32m [repeated 16x across cluster]\u001b[0m\n",
      "\u001b[2m\u001b[36m(ClientAppActor pid=1320835)\u001b[0m \u001b[32m [repeated 15x across cluster]\u001b[0m\n",
      "\u001b[2m\u001b[36m(ClientAppActor pid=1320835)\u001b[0m Epoch 44/100\u001b[32m [repeated 15x across cluster]\u001b[0m\n",
      "\u001b[2m\u001b[36m(ClientAppActor pid=1320835)\u001b[0m Epoch 43: Training accuracy: 83.65384674072266 Testing accuracy: 81.0650863647461.\u001b[32m [repeated 15x across cluster]\u001b[0m\n",
      "\u001b[2m\u001b[36m(ClientAppActor pid=1320832)\u001b[0m \u001b[32m [repeated 17x across cluster]\u001b[0m\n",
      "\u001b[2m\u001b[36m(ClientAppActor pid=1320832)\u001b[0m Epoch 57/100\u001b[32m [repeated 17x across cluster]\u001b[0m\n",
      "\u001b[2m\u001b[36m(ClientAppActor pid=1320832)\u001b[0m Epoch 56: Training accuracy: 83.97435760498047 Testing accuracy: 81.4102554321289.\u001b[32m [repeated 17x across cluster]\u001b[0m\n",
      "\u001b[2m\u001b[36m(ClientAppActor pid=1320832)\u001b[0m \u001b[32m [repeated 15x across cluster]\u001b[0m\n",
      "\u001b[2m\u001b[36m(ClientAppActor pid=1320832)\u001b[0m Epoch 66/100\u001b[32m [repeated 15x across cluster]\u001b[0m\n",
      "\u001b[2m\u001b[36m(ClientAppActor pid=1320832)\u001b[0m Epoch 65: Training accuracy: 83.17308044433594 Testing accuracy: 82.69230651855469.\u001b[32m [repeated 15x across cluster]\u001b[0m\n",
      "\u001b[2m\u001b[36m(ClientAppActor pid=1320832)\u001b[0m \u001b[32m [repeated 17x across cluster]\u001b[0m\n",
      "\u001b[2m\u001b[36m(ClientAppActor pid=1320832)\u001b[0m Epoch 76/100\u001b[32m [repeated 17x across cluster]\u001b[0m\n",
      "\u001b[2m\u001b[36m(ClientAppActor pid=1320832)\u001b[0m Epoch 75: Training accuracy: 84.29486846923828 Testing accuracy: 81.4102554321289.\u001b[32m [repeated 17x across cluster]\u001b[0m\n",
      "\u001b[2m\u001b[36m(ClientAppActor pid=1320832)\u001b[0m \u001b[32m [repeated 15x across cluster]\u001b[0m\n",
      "\u001b[2m\u001b[36m(ClientAppActor pid=1320832)\u001b[0m Epoch 85/100\u001b[32m [repeated 15x across cluster]\u001b[0m\n",
      "\u001b[2m\u001b[36m(ClientAppActor pid=1320832)\u001b[0m Epoch 84: Training accuracy: 84.45513153076172 Testing accuracy: 80.12820434570312.\u001b[32m [repeated 15x across cluster]\u001b[0m\n",
      "\u001b[2m\u001b[36m(ClientAppActor pid=1320835)\u001b[0m \u001b[32m [repeated 15x across cluster]\u001b[0m\n",
      "\u001b[2m\u001b[36m(ClientAppActor pid=1320835)\u001b[0m Epoch 76/100\u001b[32m [repeated 15x across cluster]\u001b[0m\n",
      "\u001b[2m\u001b[36m(ClientAppActor pid=1320835)\u001b[0m Epoch 75: Training accuracy: 83.50592041015625 Testing accuracy: 81.0650863647461.\u001b[32m [repeated 15x across cluster]\u001b[0m\n",
      "\u001b[2m\u001b[36m(ClientAppActor pid=1320832)\u001b[0m \u001b[32m [repeated 17x across cluster]\u001b[0m\n",
      "\u001b[2m\u001b[36m(ClientAppActor pid=1320832)\u001b[0m Epoch 2/100\u001b[32m [repeated 17x across cluster]\u001b[0m\n",
      "\u001b[2m\u001b[36m(ClientAppActor pid=1320832)\u001b[0m Epoch 1: Training accuracy: 78.66766357421875 Testing accuracy: 80.83832550048828.\u001b[32m [repeated 17x across cluster]\u001b[0m\n",
      "\u001b[2m\u001b[36m(ClientAppActor pid=1320835)\u001b[0m \u001b[32m [repeated 17x across cluster]\u001b[0m\n",
      "\u001b[2m\u001b[36m(ClientAppActor pid=1320835)\u001b[0m Epoch 93/100\u001b[32m [repeated 17x across cluster]\u001b[0m\n",
      "\u001b[2m\u001b[36m(ClientAppActor pid=1320835)\u001b[0m Epoch 92: Training accuracy: 82.54438018798828 Testing accuracy: 80.47337341308594.\u001b[32m [repeated 17x across cluster]\u001b[0m\n",
      "\u001b[2m\u001b[36m(ClientAppActor pid=1320832)\u001b[0m \u001b[32m [repeated 16x across cluster]\u001b[0m\n",
      "\u001b[2m\u001b[36m(ClientAppActor pid=1320832)\u001b[0m Epoch 19/100\u001b[32m [repeated 16x across cluster]\u001b[0m\n",
      "\u001b[2m\u001b[36m(ClientAppActor pid=1320835)\u001b[0m Epoch 100: Training accuracy: 82.61833953857422 Testing accuracy: 80.47337341308594.\u001b[32m [repeated 17x across cluster]\u001b[0m\n",
      "\u001b[2m\u001b[36m(ClientAppActor pid=1320832)\u001b[0m \u001b[32m [repeated 10x across cluster]\u001b[0m\n",
      "\u001b[2m\u001b[36m(ClientAppActor pid=1320832)\u001b[0m Epoch 29/100\u001b[32m [repeated 10x across cluster]\u001b[0m\n",
      "\u001b[2m\u001b[36m(ClientAppActor pid=1320832)\u001b[0m Epoch 28: Training accuracy: 82.93413543701172 Testing accuracy: 82.63472747802734.\u001b[32m [repeated 10x across cluster]\u001b[0m\n",
      "\u001b[2m\u001b[36m(ClientAppActor pid=1320832)\u001b[0m \u001b[32m [repeated 13x across cluster]\u001b[0m\n",
      "\u001b[2m\u001b[36m(ClientAppActor pid=1320832)\u001b[0m Epoch 42/100\u001b[32m [repeated 13x across cluster]\u001b[0m\n",
      "\u001b[2m\u001b[36m(ClientAppActor pid=1320832)\u001b[0m Epoch 41: Training accuracy: 83.5329360961914 Testing accuracy: 82.03592681884766.\u001b[32m [repeated 13x across cluster]\u001b[0m\n",
      "\u001b[2m\u001b[36m(ClientAppActor pid=1320832)\u001b[0m \u001b[32m [repeated 13x across cluster]\u001b[0m\n",
      "\u001b[2m\u001b[36m(ClientAppActor pid=1320832)\u001b[0m Epoch 55/100\u001b[32m [repeated 13x across cluster]\u001b[0m\n",
      "\u001b[2m\u001b[36m(ClientAppActor pid=1320832)\u001b[0m Epoch 54: Training accuracy: 84.20658874511719 Testing accuracy: 82.63472747802734.\u001b[32m [repeated 13x across cluster]\u001b[0m\n",
      "\u001b[2m\u001b[36m(ClientAppActor pid=1320832)\u001b[0m \u001b[32m [repeated 15x across cluster]\u001b[0m\n",
      "\u001b[2m\u001b[36m(ClientAppActor pid=1320832)\u001b[0m Epoch 70/100\u001b[32m [repeated 15x across cluster]\u001b[0m\n",
      "\u001b[2m\u001b[36m(ClientAppActor pid=1320832)\u001b[0m Epoch 69: Training accuracy: 84.20658874511719 Testing accuracy: 83.83233642578125.\u001b[32m [repeated 15x across cluster]\u001b[0m\n",
      "\u001b[2m\u001b[36m(ClientAppActor pid=1320832)\u001b[0m \u001b[32m [repeated 12x across cluster]\u001b[0m\n",
      "\u001b[2m\u001b[36m(ClientAppActor pid=1320832)\u001b[0m Epoch 82/100\u001b[32m [repeated 12x across cluster]\u001b[0m\n",
      "\u001b[2m\u001b[36m(ClientAppActor pid=1320832)\u001b[0m Epoch 81: Training accuracy: 83.38323211669922 Testing accuracy: 83.83233642578125.\u001b[32m [repeated 12x across cluster]\u001b[0m\n",
      "\u001b[2m\u001b[36m(ClientAppActor pid=1320832)\u001b[0m \u001b[32m [repeated 17x across cluster]\u001b[0m\n",
      "\u001b[2m\u001b[36m(ClientAppActor pid=1320832)\u001b[0m Epoch 99/100\u001b[32m [repeated 17x across cluster]\u001b[0m\n",
      "\u001b[2m\u001b[36m(ClientAppActor pid=1320832)\u001b[0m Epoch 98: Training accuracy: 82.78443145751953 Testing accuracy: 83.23353576660156.\u001b[32m [repeated 17x across cluster]\u001b[0m\n"
     ]
    },
    {
     "name": "stderr",
     "output_type": "stream",
     "text": [
      "\u001b[92mINFO \u001b[0m:      aggregate_fit: received 3 results and 0 failures\n",
      "\u001b[92mINFO \u001b[0m:      fit progress: (35, 0.050382895903153854, {'accuracy': tensor(74.8212, device='cuda:0')}, 2201.1884737810033)\n",
      "\u001b[92mINFO \u001b[0m:      configure_evaluate: strategy sampled 1 clients (out of 3)\n",
      "\u001b[92mINFO \u001b[0m:      aggregate_evaluate: received 1 results and 0 failures\n",
      "\u001b[92mINFO \u001b[0m:      \n",
      "\u001b[92mINFO \u001b[0m:      [ROUND 36]\n",
      "\u001b[92mINFO \u001b[0m:      configure_fit: strategy sampled 3 clients (out of 3)\n"
     ]
    },
    {
     "name": "stdout",
     "output_type": "stream",
     "text": [
      "Server-side evaluation loss 0.050382895903153854 / accuracy 74.82117462158203\n",
      "\u001b[2m\u001b[36m(ClientAppActor pid=1320835)\u001b[0m \u001b[32m [repeated 34x across cluster]\u001b[0m\n",
      "\u001b[2m\u001b[36m(ClientAppActor pid=1320835)\u001b[0m Epoch 13/100\u001b[32m [repeated 34x across cluster]\u001b[0m\n",
      "\u001b[2m\u001b[36m(ClientAppActor pid=1320835)\u001b[0m Epoch 12: Training accuracy: 82.91419982910156 Testing accuracy: 78.10650634765625.\u001b[32m [repeated 33x across cluster]\u001b[0m\n",
      "\u001b[2m\u001b[36m(ClientAppActor pid=1320835)\u001b[0m \u001b[32m [repeated 33x across cluster]\u001b[0m\n",
      "\u001b[2m\u001b[36m(ClientAppActor pid=1320835)\u001b[0m Epoch 25/100\u001b[32m [repeated 33x across cluster]\u001b[0m\n",
      "\u001b[2m\u001b[36m(ClientAppActor pid=1320835)\u001b[0m Epoch 24: Training accuracy: 82.76627349853516 Testing accuracy: 80.47337341308594.\u001b[32m [repeated 33x across cluster]\u001b[0m\n",
      "\u001b[2m\u001b[36m(ClientAppActor pid=1320835)\u001b[0m \u001b[32m [repeated 31x across cluster]\u001b[0m\n",
      "\u001b[2m\u001b[36m(ClientAppActor pid=1320835)\u001b[0m Epoch 36/100\u001b[32m [repeated 31x across cluster]\u001b[0m\n",
      "\u001b[2m\u001b[36m(ClientAppActor pid=1320835)\u001b[0m Epoch 35: Training accuracy: 80.10355377197266 Testing accuracy: 75.1479263305664.\u001b[32m [repeated 31x across cluster]\u001b[0m\n",
      "\u001b[2m\u001b[36m(ClientAppActor pid=1320835)\u001b[0m \u001b[32m [repeated 31x across cluster]\u001b[0m\n",
      "\u001b[2m\u001b[36m(ClientAppActor pid=1320835)\u001b[0m Epoch 46/100\u001b[32m [repeated 31x across cluster]\u001b[0m\n",
      "\u001b[2m\u001b[36m(ClientAppActor pid=1320835)\u001b[0m Epoch 45: Training accuracy: 81.58283996582031 Testing accuracy: 79.2899398803711.\u001b[32m [repeated 31x across cluster]\u001b[0m\n",
      "\u001b[2m\u001b[36m(ClientAppActor pid=1320835)\u001b[0m \u001b[32m [repeated 35x across cluster]\u001b[0m\n",
      "\u001b[2m\u001b[36m(ClientAppActor pid=1320835)\u001b[0m Epoch 63/100\u001b[32m [repeated 35x across cluster]\u001b[0m\n",
      "\u001b[2m\u001b[36m(ClientAppActor pid=1320835)\u001b[0m Epoch 62: Training accuracy: 83.13609313964844 Testing accuracy: 80.47337341308594.\u001b[32m [repeated 35x across cluster]\u001b[0m\n",
      "\u001b[2m\u001b[36m(ClientAppActor pid=1320835)\u001b[0m \u001b[32m [repeated 23x across cluster]\u001b[0m\n",
      "\u001b[2m\u001b[36m(ClientAppActor pid=1320835)\u001b[0m Epoch 70/100\u001b[32m [repeated 23x across cluster]\u001b[0m\n",
      "\u001b[2m\u001b[36m(ClientAppActor pid=1320835)\u001b[0m Epoch 69: Training accuracy: 83.28402709960938 Testing accuracy: 81.0650863647461.\u001b[32m [repeated 23x across cluster]\u001b[0m\n",
      "\u001b[2m\u001b[36m(ClientAppActor pid=1320832)\u001b[0m \u001b[32m [repeated 25x across cluster]\u001b[0m\n",
      "\u001b[2m\u001b[36m(ClientAppActor pid=1320832)\u001b[0m Epoch 32/100\u001b[32m [repeated 25x across cluster]\u001b[0m\n",
      "\u001b[2m\u001b[36m(ClientAppActor pid=1320832)\u001b[0m Epoch 31: Training accuracy: 82.78443145751953 Testing accuracy: 83.83233642578125.\u001b[32m [repeated 25x across cluster]\u001b[0m\n",
      "\u001b[2m\u001b[36m(ClientAppActor pid=1320832)\u001b[0m \u001b[32m [repeated 24x across cluster]\u001b[0m\n",
      "\u001b[2m\u001b[36m(ClientAppActor pid=1320832)\u001b[0m Epoch 46/100\u001b[32m [repeated 24x across cluster]\u001b[0m\n",
      "\u001b[2m\u001b[36m(ClientAppActor pid=1320832)\u001b[0m Epoch 45: Training accuracy: 82.78443145751953 Testing accuracy: 82.63472747802734.\u001b[32m [repeated 24x across cluster]\u001b[0m\n",
      "\u001b[2m\u001b[36m(ClientAppActor pid=1320835)\u001b[0m \u001b[32m [repeated 26x across cluster]\u001b[0m\n",
      "\u001b[2m\u001b[36m(ClientAppActor pid=1320835)\u001b[0m Epoch 99/100\u001b[32m [repeated 26x across cluster]\u001b[0m\n",
      "\u001b[2m\u001b[36m(ClientAppActor pid=1320835)\u001b[0m Epoch 98: Training accuracy: 83.35798645019531 Testing accuracy: 78.10650634765625.\u001b[32m [repeated 26x across cluster]\u001b[0m\n",
      "\u001b[2m\u001b[36m(ClientAppActor pid=1320832)\u001b[0m \u001b[32m [repeated 13x across cluster]\u001b[0m\n",
      "\u001b[2m\u001b[36m(ClientAppActor pid=1320832)\u001b[0m Epoch 74/100\u001b[32m [repeated 13x across cluster]\u001b[0m\n",
      "\u001b[2m\u001b[36m(ClientAppActor pid=1320832)\u001b[0m Epoch 73: Training accuracy: 83.83233642578125 Testing accuracy: 82.03592681884766.\u001b[32m [repeated 14x across cluster]\u001b[0m\n",
      "\u001b[2m\u001b[36m(ClientAppActor pid=1320832)\u001b[0m \u001b[32m [repeated 9x across cluster]\u001b[0m\n",
      "\u001b[2m\u001b[36m(ClientAppActor pid=1320832)\u001b[0m Epoch 83/100\u001b[32m [repeated 9x across cluster]\u001b[0m\n",
      "\u001b[2m\u001b[36m(ClientAppActor pid=1320832)\u001b[0m Epoch 82: Training accuracy: 83.83233642578125 Testing accuracy: 82.63472747802734.\u001b[32m [repeated 9x across cluster]\u001b[0m\n",
      "\u001b[2m\u001b[36m(ClientAppActor pid=1320832)\u001b[0m \u001b[32m [repeated 8x across cluster]\u001b[0m\n",
      "\u001b[2m\u001b[36m(ClientAppActor pid=1320832)\u001b[0m Epoch 91/100\u001b[32m [repeated 8x across cluster]\u001b[0m\n",
      "\u001b[2m\u001b[36m(ClientAppActor pid=1320832)\u001b[0m Epoch 90: Training accuracy: 83.68263244628906 Testing accuracy: 81.43712615966797.\u001b[32m [repeated 8x across cluster]\u001b[0m\n"
     ]
    },
    {
     "name": "stderr",
     "output_type": "stream",
     "text": [
      "\u001b[92mINFO \u001b[0m:      aggregate_fit: received 3 results and 0 failures\n"
     ]
    },
    {
     "name": "stdout",
     "output_type": "stream",
     "text": [
      "\u001b[2m\u001b[36m(ClientAppActor pid=1320832)\u001b[0m \u001b[32m [repeated 9x across cluster]\u001b[0m\n",
      "\u001b[2m\u001b[36m(ClientAppActor pid=1320832)\u001b[0m Epoch 100/100\u001b[32m [repeated 9x across cluster]\u001b[0m\n",
      "\u001b[2m\u001b[36m(ClientAppActor pid=1320832)\u001b[0m Epoch 100: Training accuracy: 79.71556854248047 Testing accuracy: 74.85029602050781.\u001b[32m [repeated 10x across cluster]\u001b[0m\n"
     ]
    },
    {
     "name": "stderr",
     "output_type": "stream",
     "text": [
      "\u001b[92mINFO \u001b[0m:      fit progress: (36, 0.05038895390250466, {'accuracy': tensor(75.1073, device='cuda:0')}, 2268.7830588450015)\n",
      "\u001b[92mINFO \u001b[0m:      configure_evaluate: strategy sampled 1 clients (out of 3)\n"
     ]
    },
    {
     "name": "stdout",
     "output_type": "stream",
     "text": [
      "Server-side evaluation loss 0.05038895390250466 / accuracy 75.1072998046875\n"
     ]
    },
    {
     "name": "stderr",
     "output_type": "stream",
     "text": [
      "\u001b[92mINFO \u001b[0m:      aggregate_evaluate: received 1 results and 0 failures\n",
      "\u001b[92mINFO \u001b[0m:      \n",
      "\u001b[92mINFO \u001b[0m:      [ROUND 37]\n",
      "\u001b[92mINFO \u001b[0m:      configure_fit: strategy sampled 3 clients (out of 3)\n"
     ]
    },
    {
     "name": "stdout",
     "output_type": "stream",
     "text": [
      "\u001b[2m\u001b[36m(ClientAppActor pid=1320835)\u001b[0m \u001b[32m [repeated 15x across cluster]\u001b[0m\n",
      "\u001b[2m\u001b[36m(ClientAppActor pid=1320835)\u001b[0m Epoch 7/100\u001b[32m [repeated 15x across cluster]\u001b[0m\n",
      "\u001b[2m\u001b[36m(ClientAppActor pid=1320835)\u001b[0m Epoch 6: Training accuracy: 82.55988311767578 Testing accuracy: 81.43712615966797.\u001b[32m [repeated 13x across cluster]\u001b[0m\n",
      "\u001b[2m\u001b[36m(ClientAppActor pid=1320832)\u001b[0m \u001b[32m [repeated 14x across cluster]\u001b[0m\n",
      "\u001b[2m\u001b[36m(ClientAppActor pid=1320832)\u001b[0m Epoch 16/100\u001b[32m [repeated 14x across cluster]\u001b[0m\n",
      "\u001b[2m\u001b[36m(ClientAppActor pid=1320832)\u001b[0m Epoch 15: Training accuracy: 83.0621337890625 Testing accuracy: 80.47337341308594.\u001b[32m [repeated 14x across cluster]\u001b[0m\n",
      "\u001b[2m\u001b[36m(ClientAppActor pid=1320832)\u001b[0m \u001b[32m [repeated 18x across cluster]\u001b[0m\n",
      "\u001b[2m\u001b[36m(ClientAppActor pid=1320832)\u001b[0m Epoch 27/100\u001b[32m [repeated 18x across cluster]\u001b[0m\n",
      "\u001b[2m\u001b[36m(ClientAppActor pid=1320832)\u001b[0m Epoch 26: Training accuracy: 83.43195343017578 Testing accuracy: 80.47337341308594.\u001b[32m [repeated 18x across cluster]\u001b[0m\n",
      "\u001b[2m\u001b[36m(ClientAppActor pid=1320832)\u001b[0m \u001b[32m [repeated 19x across cluster]\u001b[0m\n",
      "\u001b[2m\u001b[36m(ClientAppActor pid=1320832)\u001b[0m Epoch 40/100\u001b[32m [repeated 19x across cluster]\u001b[0m\n",
      "\u001b[2m\u001b[36m(ClientAppActor pid=1320832)\u001b[0m Epoch 39: Training accuracy: 83.50592041015625 Testing accuracy: 80.47337341308594.\u001b[32m [repeated 19x across cluster]\u001b[0m\n",
      "\u001b[2m\u001b[36m(ClientAppActor pid=1320835)\u001b[0m \u001b[32m [repeated 19x across cluster]\u001b[0m\n",
      "\u001b[2m\u001b[36m(ClientAppActor pid=1320835)\u001b[0m Epoch 33/100\u001b[32m [repeated 19x across cluster]\u001b[0m\n",
      "\u001b[2m\u001b[36m(ClientAppActor pid=1320835)\u001b[0m Epoch 32: Training accuracy: 83.68263244628906 Testing accuracy: 83.23353576660156.\u001b[32m [repeated 19x across cluster]\u001b[0m\n",
      "\u001b[2m\u001b[36m(ClientAppActor pid=1320835)\u001b[0m \u001b[32m [repeated 26x across cluster]\u001b[0m\n",
      "\u001b[2m\u001b[36m(ClientAppActor pid=1320835)\u001b[0m Epoch 39/100\u001b[32m [repeated 26x across cluster]\u001b[0m\n",
      "\u001b[2m\u001b[36m(ClientAppActor pid=1320835)\u001b[0m Epoch 38: Training accuracy: 83.08383178710938 Testing accuracy: 83.23353576660156.\u001b[32m [repeated 26x across cluster]\u001b[0m\n",
      "\u001b[2m\u001b[36m(ClientAppActor pid=1320832)\u001b[0m \u001b[32m [repeated 31x across cluster]\u001b[0m\n",
      "\u001b[2m\u001b[36m(ClientAppActor pid=1320832)\u001b[0m Epoch 97/100\u001b[32m [repeated 31x across cluster]\u001b[0m\n",
      "\u001b[2m\u001b[36m(ClientAppActor pid=1320832)\u001b[0m Epoch 96: Training accuracy: 82.3224868774414 Testing accuracy: 80.47337341308594.\u001b[32m [repeated 31x across cluster]\u001b[0m\n",
      "\u001b[2m\u001b[36m(ClientAppActor pid=1320835)\u001b[0m \u001b[32m [repeated 106x across cluster]\u001b[0m\n",
      "\u001b[2m\u001b[36m(ClientAppActor pid=1320835)\u001b[0m Epoch 52/100\u001b[32m [repeated 106x across cluster]\u001b[0m\n",
      "\u001b[2m\u001b[36m(ClientAppActor pid=1320835)\u001b[0m Epoch 51: Training accuracy: 83.00897979736328 Testing accuracy: 83.23353576660156.\u001b[32m [repeated 106x across cluster]\u001b[0m\n",
      "\u001b[2m\u001b[36m(ClientAppActor pid=1320835)\u001b[0m \u001b[32m [repeated 14x across cluster]\u001b[0m\n",
      "\u001b[2m\u001b[36m(ClientAppActor pid=1320835)\u001b[0m Epoch 62/100\u001b[32m [repeated 14x across cluster]\u001b[0m\n",
      "\u001b[2m\u001b[36m(ClientAppActor pid=1320835)\u001b[0m Epoch 61: Training accuracy: 82.26048278808594 Testing accuracy: 79.04191589355469.\u001b[32m [repeated 15x across cluster]\u001b[0m\n",
      "\u001b[2m\u001b[36m(ClientAppActor pid=1320835)\u001b[0m \u001b[32m [repeated 10x across cluster]\u001b[0m\n",
      "\u001b[2m\u001b[36m(ClientAppActor pid=1320835)\u001b[0m Epoch 72/100\u001b[32m [repeated 10x across cluster]\u001b[0m\n",
      "\u001b[2m\u001b[36m(ClientAppActor pid=1320835)\u001b[0m Epoch 71: Training accuracy: 83.38323211669922 Testing accuracy: 83.83233642578125.\u001b[32m [repeated 10x across cluster]\u001b[0m\n",
      "\u001b[2m\u001b[36m(ClientAppActor pid=1320835)\u001b[0m \u001b[32m [repeated 7x across cluster]\u001b[0m\n",
      "\u001b[2m\u001b[36m(ClientAppActor pid=1320835)\u001b[0m Epoch 79/100\u001b[32m [repeated 7x across cluster]\u001b[0m\n",
      "\u001b[2m\u001b[36m(ClientAppActor pid=1320835)\u001b[0m Epoch 78: Training accuracy: 83.30838012695312 Testing accuracy: 82.63472747802734.\u001b[32m [repeated 7x across cluster]\u001b[0m\n",
      "\u001b[2m\u001b[36m(ClientAppActor pid=1320835)\u001b[0m \u001b[32m [repeated 10x across cluster]\u001b[0m\n",
      "\u001b[2m\u001b[36m(ClientAppActor pid=1320835)\u001b[0m Epoch 89/100\u001b[32m [repeated 10x across cluster]\u001b[0m\n",
      "\u001b[2m\u001b[36m(ClientAppActor pid=1320835)\u001b[0m Epoch 88: Training accuracy: 83.90718841552734 Testing accuracy: 82.63472747802734.\u001b[32m [repeated 10x across cluster]\u001b[0m\n"
     ]
    },
    {
     "name": "stderr",
     "output_type": "stream",
     "text": [
      "\u001b[92mINFO \u001b[0m:      aggregate_fit: received 3 results and 0 failures\n",
      "\u001b[92mINFO \u001b[0m:      fit progress: (37, 0.050287355076182975, {'accuracy': tensor(75.5365, device='cuda:0')}, 2335.7980797780037)\n",
      "\u001b[92mINFO \u001b[0m:      configure_evaluate: strategy sampled 1 clients (out of 3)\n"
     ]
    },
    {
     "name": "stdout",
     "output_type": "stream",
     "text": [
      "Server-side evaluation loss 0.050287355076182975 / accuracy 75.53648376464844\n"
     ]
    },
    {
     "name": "stderr",
     "output_type": "stream",
     "text": [
      "\u001b[92mINFO \u001b[0m:      aggregate_evaluate: received 1 results and 0 failures\n",
      "\u001b[92mINFO \u001b[0m:      \n",
      "\u001b[92mINFO \u001b[0m:      [ROUND 38]\n",
      "\u001b[92mINFO \u001b[0m:      configure_fit: strategy sampled 3 clients (out of 3)\n"
     ]
    },
    {
     "name": "stdout",
     "output_type": "stream",
     "text": [
      "\u001b[2m\u001b[36m(ClientAppActor pid=1320835)\u001b[0m \u001b[32m [repeated 12x across cluster]\u001b[0m\n",
      "\u001b[2m\u001b[36m(ClientAppActor pid=1320835)\u001b[0m Epoch 1/100\u001b[32m [repeated 12x across cluster]\u001b[0m\n",
      "\u001b[2m\u001b[36m(ClientAppActor pid=1320835)\u001b[0m Epoch 100: Training accuracy: 81.8113784790039 Testing accuracy: 83.23353576660156.\u001b[32m [repeated 12x across cluster]\u001b[0m\n",
      "\u001b[2m\u001b[36m(ClientAppActor pid=1320832)\u001b[0m \u001b[32m [repeated 34x across cluster]\u001b[0m\n",
      "\u001b[2m\u001b[36m(ClientAppActor pid=1320832)\u001b[0m Epoch 22/100\u001b[32m [repeated 34x across cluster]\u001b[0m\n",
      "\u001b[2m\u001b[36m(ClientAppActor pid=1320832)\u001b[0m Epoch 21: Training accuracy: 84.93589782714844 Testing accuracy: 82.05128479003906.\u001b[32m [repeated 33x across cluster]\u001b[0m\n",
      "\u001b[2m\u001b[36m(ClientAppActor pid=1320835)\u001b[0m \u001b[32m [repeated 41x across cluster]\u001b[0m\n",
      "\u001b[2m\u001b[36m(ClientAppActor pid=1320835)\u001b[0m Epoch 25/100\u001b[32m [repeated 41x across cluster]\u001b[0m\n",
      "\u001b[2m\u001b[36m(ClientAppActor pid=1320835)\u001b[0m Epoch 24: Training accuracy: 83.5329360961914 Testing accuracy: 82.63472747802734.\u001b[32m [repeated 41x across cluster]\u001b[0m\n",
      "\u001b[2m\u001b[36m(ClientAppActor pid=1320832)\u001b[0m \u001b[32m [repeated 32x across cluster]\u001b[0m\n",
      "\u001b[2m\u001b[36m(ClientAppActor pid=1320832)\u001b[0m Epoch 73/100\u001b[32m [repeated 32x across cluster]\u001b[0m\n",
      "\u001b[2m\u001b[36m(ClientAppActor pid=1320832)\u001b[0m Epoch 72: Training accuracy: 85.01602935791016 Testing accuracy: 81.4102554321289.\u001b[32m [repeated 32x across cluster]\u001b[0m\n",
      "\u001b[2m\u001b[36m(ClientAppActor pid=1320832)\u001b[0m \u001b[32m [repeated 105x across cluster]\u001b[0m\n",
      "\u001b[2m\u001b[36m(ClientAppActor pid=1320832)\u001b[0m Epoch 65/100\u001b[32m [repeated 105x across cluster]\u001b[0m\n",
      "\u001b[2m\u001b[36m(ClientAppActor pid=1320832)\u001b[0m Epoch 64: Training accuracy: 83.50592041015625 Testing accuracy: 80.47337341308594.\u001b[32m [repeated 105x across cluster]\u001b[0m\n",
      "\u001b[2m\u001b[36m(ClientAppActor pid=1320835)\u001b[0m \u001b[32m [repeated 61x across cluster]\u001b[0m\n",
      "\u001b[2m\u001b[36m(ClientAppActor pid=1320835)\u001b[0m Epoch 74/100\u001b[32m [repeated 61x across cluster]\u001b[0m\n",
      "\u001b[2m\u001b[36m(ClientAppActor pid=1320835)\u001b[0m Epoch 73: Training accuracy: 83.90718841552734 Testing accuracy: 85.02993774414062.\u001b[32m [repeated 62x across cluster]\u001b[0m\n"
     ]
    },
    {
     "name": "stderr",
     "output_type": "stream",
     "text": [
      "\u001b[92mINFO \u001b[0m:      aggregate_fit: received 3 results and 0 failures\n",
      "\u001b[92mINFO \u001b[0m:      fit progress: (38, 0.051440417766571045, {'accuracy': tensor(74.2489, device='cuda:0')}, 2364.3098428390076)\n",
      "\u001b[92mINFO \u001b[0m:      configure_evaluate: strategy sampled 1 clients (out of 3)\n",
      "\u001b[92mINFO \u001b[0m:      aggregate_evaluate: received 1 results and 0 failures\n",
      "\u001b[92mINFO \u001b[0m:      \n",
      "\u001b[92mINFO \u001b[0m:      [ROUND 39]\n",
      "\u001b[92mINFO \u001b[0m:      configure_fit: strategy sampled 3 clients (out of 3)\n"
     ]
    },
    {
     "name": "stdout",
     "output_type": "stream",
     "text": [
      "Server-side evaluation loss 0.051440417766571045 / accuracy 74.2489242553711\n",
      "\u001b[2m\u001b[36m(ClientAppActor pid=1320835)\u001b[0m \u001b[32m [repeated 98x across cluster]\u001b[0m\n",
      "\u001b[2m\u001b[36m(ClientAppActor pid=1320835)\u001b[0m Epoch 41/100\u001b[32m [repeated 98x across cluster]\u001b[0m\n",
      "\u001b[2m\u001b[36m(ClientAppActor pid=1320835)\u001b[0m Epoch 40: Training accuracy: 83.0621337890625 Testing accuracy: 80.47337341308594.\u001b[32m [repeated 97x across cluster]\u001b[0m\n",
      "\u001b[2m\u001b[36m(ClientAppActor pid=1320832)\u001b[0m \u001b[32m [repeated 17x across cluster]\u001b[0m\n",
      "\u001b[2m\u001b[36m(ClientAppActor pid=1320832)\u001b[0m Epoch 41/100\u001b[32m [repeated 17x across cluster]\u001b[0m\n",
      "\u001b[2m\u001b[36m(ClientAppActor pid=1320832)\u001b[0m Epoch 40: Training accuracy: 84.375 Testing accuracy: 82.05128479003906.\u001b[32m [repeated 17x across cluster]\u001b[0m\n",
      "\u001b[2m\u001b[36m(ClientAppActor pid=1320832)\u001b[0m \u001b[32m [repeated 16x across cluster]\u001b[0m\n",
      "\u001b[2m\u001b[36m(ClientAppActor pid=1320832)\u001b[0m Epoch 50/100\u001b[32m [repeated 16x across cluster]\u001b[0m\n",
      "\u001b[2m\u001b[36m(ClientAppActor pid=1320832)\u001b[0m Epoch 49: Training accuracy: 84.375 Testing accuracy: 82.69230651855469.\u001b[32m [repeated 16x across cluster]\u001b[0m\n",
      "\u001b[2m\u001b[36m(ClientAppActor pid=1320832)\u001b[0m \u001b[32m [repeated 16x across cluster]\u001b[0m\n",
      "\u001b[2m\u001b[36m(ClientAppActor pid=1320832)\u001b[0m Epoch 60/100\u001b[32m [repeated 16x across cluster]\u001b[0m\n",
      "\u001b[2m\u001b[36m(ClientAppActor pid=1320832)\u001b[0m Epoch 59: Training accuracy: 84.85576629638672 Testing accuracy: 82.69230651855469.\u001b[32m [repeated 16x across cluster]\u001b[0m\n",
      "\u001b[2m\u001b[36m(ClientAppActor pid=1320832)\u001b[0m \u001b[32m [repeated 16x across cluster]\u001b[0m\n",
      "\u001b[2m\u001b[36m(ClientAppActor pid=1320832)\u001b[0m Epoch 69/100\u001b[32m [repeated 16x across cluster]\u001b[0m\n",
      "\u001b[2m\u001b[36m(ClientAppActor pid=1320832)\u001b[0m Epoch 68: Training accuracy: 83.09294891357422 Testing accuracy: 82.05128479003906.\u001b[32m [repeated 16x across cluster]\u001b[0m\n",
      "\u001b[2m\u001b[36m(ClientAppActor pid=1320835)\u001b[0m \u001b[32m [repeated 15x across cluster]\u001b[0m\n",
      "\u001b[2m\u001b[36m(ClientAppActor pid=1320835)\u001b[0m Epoch 75/100\u001b[32m [repeated 15x across cluster]\u001b[0m\n",
      "\u001b[2m\u001b[36m(ClientAppActor pid=1320835)\u001b[0m Epoch 74: Training accuracy: 81.21302032470703 Testing accuracy: 78.69822692871094.\u001b[32m [repeated 15x across cluster]\u001b[0m\n",
      "\u001b[2m\u001b[36m(ClientAppActor pid=1320832)\u001b[0m \u001b[32m [repeated 17x across cluster]\u001b[0m\n",
      "\u001b[2m\u001b[36m(ClientAppActor pid=1320832)\u001b[0m Epoch 88/100\u001b[32m [repeated 17x across cluster]\u001b[0m\n",
      "\u001b[2m\u001b[36m(ClientAppActor pid=1320832)\u001b[0m Epoch 87: Training accuracy: 84.45513153076172 Testing accuracy: 82.69230651855469.\u001b[32m [repeated 17x across cluster]\u001b[0m\n",
      "\u001b[2m\u001b[36m(ClientAppActor pid=1320832)\u001b[0m \u001b[32m [repeated 15x across cluster]\u001b[0m\n",
      "\u001b[2m\u001b[36m(ClientAppActor pid=1320832)\u001b[0m Epoch 97/100\u001b[32m [repeated 15x across cluster]\u001b[0m\n",
      "\u001b[2m\u001b[36m(ClientAppActor pid=1320832)\u001b[0m Epoch 96: Training accuracy: 84.2147445678711 Testing accuracy: 83.33333587646484.\u001b[32m [repeated 15x across cluster]\u001b[0m\n",
      "\u001b[2m\u001b[36m(ClientAppActor pid=1320832)\u001b[0m \u001b[32m [repeated 14x across cluster]\u001b[0m\n",
      "\u001b[2m\u001b[36m(ClientAppActor pid=1320832)\u001b[0m Epoch 5/100\u001b[32m [repeated 14x across cluster]\u001b[0m\n",
      "\u001b[2m\u001b[36m(ClientAppActor pid=1320832)\u001b[0m Epoch 4: Training accuracy: 82.63472747802734 Testing accuracy: 83.83233642578125.\u001b[32m [repeated 14x across cluster]\u001b[0m\n",
      "\u001b[2m\u001b[36m(ClientAppActor pid=1320832)\u001b[0m \u001b[32m [repeated 16x across cluster]\u001b[0m\n",
      "\u001b[2m\u001b[36m(ClientAppActor pid=1320832)\u001b[0m Epoch 14/100\u001b[32m [repeated 16x across cluster]\u001b[0m\n",
      "\u001b[2m\u001b[36m(ClientAppActor pid=1320835)\u001b[0m Epoch 100: Training accuracy: 82.84024047851562 Testing accuracy: 79.88166046142578.\u001b[32m [repeated 17x across cluster]\u001b[0m\n",
      "\u001b[2m\u001b[36m(ClientAppActor pid=1320832)\u001b[0m \u001b[32m [repeated 9x across cluster]\u001b[0m\n",
      "\u001b[2m\u001b[36m(ClientAppActor pid=1320832)\u001b[0m Epoch 23/100\u001b[32m [repeated 9x across cluster]\u001b[0m\n",
      "\u001b[2m\u001b[36m(ClientAppActor pid=1320832)\u001b[0m Epoch 22: Training accuracy: 83.6077880859375 Testing accuracy: 82.63472747802734.\u001b[32m [repeated 9x across cluster]\u001b[0m\n",
      "\u001b[2m\u001b[36m(ClientAppActor pid=1320832)\u001b[0m \u001b[32m [repeated 9x across cluster]\u001b[0m\n",
      "\u001b[2m\u001b[36m(ClientAppActor pid=1320832)\u001b[0m Epoch 32/100\u001b[32m [repeated 9x across cluster]\u001b[0m\n",
      "\u001b[2m\u001b[36m(ClientAppActor pid=1320832)\u001b[0m Epoch 31: Training accuracy: 82.63472747802734 Testing accuracy: 82.63472747802734.\u001b[32m [repeated 9x across cluster]\u001b[0m\n",
      "\u001b[2m\u001b[36m(ClientAppActor pid=1320832)\u001b[0m \u001b[32m [repeated 12x across cluster]\u001b[0m\n",
      "\u001b[2m\u001b[36m(ClientAppActor pid=1320832)\u001b[0m Epoch 44/100\u001b[32m [repeated 12x across cluster]\u001b[0m\n",
      "\u001b[2m\u001b[36m(ClientAppActor pid=1320832)\u001b[0m Epoch 43: Training accuracy: 81.8113784790039 Testing accuracy: 82.03592681884766.\u001b[32m [repeated 12x across cluster]\u001b[0m\n",
      "\u001b[2m\u001b[36m(ClientAppActor pid=1320832)\u001b[0m \u001b[32m [repeated 17x across cluster]\u001b[0m\n",
      "\u001b[2m\u001b[36m(ClientAppActor pid=1320832)\u001b[0m Epoch 61/100\u001b[32m [repeated 17x across cluster]\u001b[0m\n",
      "\u001b[2m\u001b[36m(ClientAppActor pid=1320832)\u001b[0m Epoch 60: Training accuracy: 82.11077880859375 Testing accuracy: 82.03592681884766.\u001b[32m [repeated 17x across cluster]\u001b[0m\n",
      "\u001b[2m\u001b[36m(ClientAppActor pid=1320832)\u001b[0m \u001b[32m [repeated 12x across cluster]\u001b[0m\n",
      "\u001b[2m\u001b[36m(ClientAppActor pid=1320832)\u001b[0m Epoch 73/100\u001b[32m [repeated 12x across cluster]\u001b[0m\n",
      "\u001b[2m\u001b[36m(ClientAppActor pid=1320832)\u001b[0m Epoch 72: Training accuracy: 83.68263244628906 Testing accuracy: 81.43712615966797.\u001b[32m [repeated 12x across cluster]\u001b[0m\n",
      "\u001b[2m\u001b[36m(ClientAppActor pid=1320832)\u001b[0m \u001b[32m [repeated 17x across cluster]\u001b[0m\n",
      "\u001b[2m\u001b[36m(ClientAppActor pid=1320832)\u001b[0m Epoch 90/100\u001b[32m [repeated 17x across cluster]\u001b[0m\n",
      "\u001b[2m\u001b[36m(ClientAppActor pid=1320832)\u001b[0m Epoch 89: Training accuracy: 83.75748443603516 Testing accuracy: 84.43113708496094.\u001b[32m [repeated 17x across cluster]\u001b[0m\n"
     ]
    },
    {
     "name": "stderr",
     "output_type": "stream",
     "text": [
      "\u001b[92mINFO \u001b[0m:      aggregate_fit: received 3 results and 0 failures\n",
      "\u001b[92mINFO \u001b[0m:      fit progress: (39, 0.05039700594815341, {'accuracy': tensor(75.6795, device='cuda:0')}, 2447.4696679810004)\n",
      "\u001b[92mINFO \u001b[0m:      configure_evaluate: strategy sampled 1 clients (out of 3)\n",
      "\u001b[92mINFO \u001b[0m:      aggregate_evaluate: received 1 results and 0 failures\n",
      "\u001b[92mINFO \u001b[0m:      \n",
      "\u001b[92mINFO \u001b[0m:      [ROUND 40]\n",
      "\u001b[92mINFO \u001b[0m:      configure_fit: strategy sampled 3 clients (out of 3)\n"
     ]
    },
    {
     "name": "stdout",
     "output_type": "stream",
     "text": [
      "Server-side evaluation loss 0.05039700594815341 / accuracy 75.6795425415039\n",
      "\u001b[2m\u001b[36m(ClientAppActor pid=1320835)\u001b[0m \u001b[32m [repeated 24x across cluster]\u001b[0m\n",
      "\u001b[2m\u001b[36m(ClientAppActor pid=1320835)\u001b[0m Epoch 6/100\u001b[32m [repeated 24x across cluster]\u001b[0m\n",
      "\u001b[2m\u001b[36m(ClientAppActor pid=1320835)\u001b[0m Epoch 5: Training accuracy: 81.21302032470703 Testing accuracy: 78.69822692871094.\u001b[32m [repeated 23x across cluster]\u001b[0m\n",
      "\u001b[2m\u001b[36m(ClientAppActor pid=1320835)\u001b[0m \u001b[32m [repeated 21x across cluster]\u001b[0m\n",
      "\u001b[2m\u001b[36m(ClientAppActor pid=1320835)\u001b[0m Epoch 14/100\u001b[32m [repeated 21x across cluster]\u001b[0m\n",
      "\u001b[2m\u001b[36m(ClientAppActor pid=1320835)\u001b[0m Epoch 13: Training accuracy: 83.35798645019531 Testing accuracy: 79.2899398803711.\u001b[32m [repeated 21x across cluster]\u001b[0m\n",
      "\u001b[2m\u001b[36m(ClientAppActor pid=1320832)\u001b[0m \u001b[32m [repeated 21x across cluster]\u001b[0m\n",
      "\u001b[2m\u001b[36m(ClientAppActor pid=1320832)\u001b[0m Epoch 35/100\u001b[32m [repeated 21x across cluster]\u001b[0m\n",
      "\u001b[2m\u001b[36m(ClientAppActor pid=1320832)\u001b[0m Epoch 34: Training accuracy: 84.375 Testing accuracy: 83.33333587646484.\u001b[32m [repeated 21x across cluster]\u001b[0m\n",
      "\u001b[2m\u001b[36m(ClientAppActor pid=1320832)\u001b[0m \u001b[32m [repeated 22x across cluster]\u001b[0m\n",
      "\u001b[2m\u001b[36m(ClientAppActor pid=1320832)\u001b[0m Epoch 47/100\u001b[32m [repeated 22x across cluster]\u001b[0m\n",
      "\u001b[2m\u001b[36m(ClientAppActor pid=1320832)\u001b[0m Epoch 46: Training accuracy: 84.45513153076172 Testing accuracy: 80.76923370361328.\u001b[32m [repeated 22x across cluster]\u001b[0m\n",
      "\u001b[2m\u001b[36m(ClientAppActor pid=1320835)\u001b[0m \u001b[32m [repeated 30x across cluster]\u001b[0m\n",
      "\u001b[2m\u001b[36m(ClientAppActor pid=1320835)\u001b[0m Epoch 46/100\u001b[32m [repeated 30x across cluster]\u001b[0m\n",
      "\u001b[2m\u001b[36m(ClientAppActor pid=1320835)\u001b[0m Epoch 45: Training accuracy: 83.28402709960938 Testing accuracy: 79.88166046142578.\u001b[32m [repeated 30x across cluster]\u001b[0m\n",
      "\u001b[2m\u001b[36m(ClientAppActor pid=1320832)\u001b[0m \u001b[32m [repeated 31x across cluster]\u001b[0m\n",
      "\u001b[2m\u001b[36m(ClientAppActor pid=1320832)\u001b[0m Epoch 77/100\u001b[32m [repeated 31x across cluster]\u001b[0m\n",
      "\u001b[2m\u001b[36m(ClientAppActor pid=1320832)\u001b[0m Epoch 76: Training accuracy: 84.69551086425781 Testing accuracy: 82.05128479003906.\u001b[32m [repeated 31x across cluster]\u001b[0m\n",
      "\u001b[2m\u001b[36m(ClientAppActor pid=1320835)\u001b[0m \u001b[32m [repeated 16x across cluster]\u001b[0m\n",
      "\u001b[2m\u001b[36m(ClientAppActor pid=1320835)\u001b[0m Epoch 69/100\u001b[32m [repeated 16x across cluster]\u001b[0m\n",
      "\u001b[2m\u001b[36m(ClientAppActor pid=1320835)\u001b[0m Epoch 68: Training accuracy: 83.43195343017578 Testing accuracy: 81.0650863647461.\u001b[32m [repeated 16x across cluster]\u001b[0m\n",
      "\u001b[2m\u001b[36m(ClientAppActor pid=1320832)\u001b[0m \u001b[32m [repeated 16x across cluster]\u001b[0m\n",
      "\u001b[2m\u001b[36m(ClientAppActor pid=1320832)\u001b[0m Epoch 96/100\u001b[32m [repeated 16x across cluster]\u001b[0m\n",
      "\u001b[2m\u001b[36m(ClientAppActor pid=1320832)\u001b[0m Epoch 95: Training accuracy: 83.17308044433594 Testing accuracy: 81.4102554321289.\u001b[32m [repeated 16x across cluster]\u001b[0m\n",
      "\u001b[2m\u001b[36m(ClientAppActor pid=1320832)\u001b[0m \u001b[32m [repeated 14x across cluster]\u001b[0m\n",
      "\u001b[2m\u001b[36m(ClientAppActor pid=1320832)\u001b[0m Epoch 4/100\u001b[32m [repeated 14x across cluster]\u001b[0m\n",
      "\u001b[2m\u001b[36m(ClientAppActor pid=1320832)\u001b[0m Epoch 3: Training accuracy: 82.3353271484375 Testing accuracy: 82.03592681884766.\u001b[32m [repeated 14x across cluster]\u001b[0m\n",
      "\u001b[2m\u001b[36m(ClientAppActor pid=1320832)\u001b[0m \u001b[32m [repeated 15x across cluster]\u001b[0m\n",
      "\u001b[2m\u001b[36m(ClientAppActor pid=1320832)\u001b[0m Epoch 13/100\u001b[32m [repeated 15x across cluster]\u001b[0m\n",
      "\u001b[2m\u001b[36m(ClientAppActor pid=1320832)\u001b[0m Epoch 12: Training accuracy: 83.30838012695312 Testing accuracy: 82.63472747802734.\u001b[32m [repeated 15x across cluster]\u001b[0m\n",
      "\u001b[2m\u001b[36m(ClientAppActor pid=1320832)\u001b[0m \u001b[32m [repeated 18x across cluster]\u001b[0m\n",
      "\u001b[2m\u001b[36m(ClientAppActor pid=1320832)\u001b[0m Epoch 23/100\u001b[32m [repeated 18x across cluster]\u001b[0m\n",
      "\u001b[2m\u001b[36m(ClientAppActor pid=1320832)\u001b[0m Epoch 22: Training accuracy: 82.48503112792969 Testing accuracy: 82.03592681884766.\u001b[32m [repeated 18x across cluster]\u001b[0m\n",
      "\u001b[2m\u001b[36m(ClientAppActor pid=1320832)\u001b[0m \u001b[32m [repeated 18x across cluster]\u001b[0m\n",
      "\u001b[2m\u001b[36m(ClientAppActor pid=1320832)\u001b[0m Epoch 36/100\u001b[32m [repeated 18x across cluster]\u001b[0m\n",
      "\u001b[2m\u001b[36m(ClientAppActor pid=1320832)\u001b[0m Epoch 35: Training accuracy: 82.11077880859375 Testing accuracy: 80.23951721191406.\u001b[32m [repeated 19x across cluster]\u001b[0m\n",
      "\u001b[2m\u001b[36m(ClientAppActor pid=1320832)\u001b[0m \u001b[32m [repeated 16x across cluster]\u001b[0m\n",
      "\u001b[2m\u001b[36m(ClientAppActor pid=1320832)\u001b[0m Epoch 52/100\u001b[32m [repeated 16x across cluster]\u001b[0m\n",
      "\u001b[2m\u001b[36m(ClientAppActor pid=1320832)\u001b[0m Epoch 51: Training accuracy: 83.9820327758789 Testing accuracy: 83.23353576660156.\u001b[32m [repeated 16x across cluster]\u001b[0m\n",
      "\u001b[2m\u001b[36m(ClientAppActor pid=1320832)\u001b[0m \u001b[32m [repeated 14x across cluster]\u001b[0m\n",
      "\u001b[2m\u001b[36m(ClientAppActor pid=1320832)\u001b[0m Epoch 66/100\u001b[32m [repeated 14x across cluster]\u001b[0m\n",
      "\u001b[2m\u001b[36m(ClientAppActor pid=1320832)\u001b[0m Epoch 65: Training accuracy: 81.88623046875 Testing accuracy: 82.03592681884766.\u001b[32m [repeated 14x across cluster]\u001b[0m\n",
      "\u001b[2m\u001b[36m(ClientAppActor pid=1320832)\u001b[0m \u001b[32m [repeated 8x across cluster]\u001b[0m\n",
      "\u001b[2m\u001b[36m(ClientAppActor pid=1320832)\u001b[0m Epoch 74/100\u001b[32m [repeated 8x across cluster]\u001b[0m\n",
      "\u001b[2m\u001b[36m(ClientAppActor pid=1320832)\u001b[0m Epoch 73: Training accuracy: 83.15868377685547 Testing accuracy: 83.83233642578125.\u001b[32m [repeated 8x across cluster]\u001b[0m\n",
      "\u001b[2m\u001b[36m(ClientAppActor pid=1320832)\u001b[0m \u001b[32m [repeated 11x across cluster]\u001b[0m\n",
      "\u001b[2m\u001b[36m(ClientAppActor pid=1320832)\u001b[0m Epoch 85/100\u001b[32m [repeated 11x across cluster]\u001b[0m\n",
      "\u001b[2m\u001b[36m(ClientAppActor pid=1320832)\u001b[0m Epoch 84: Training accuracy: 83.90718841552734 Testing accuracy: 84.43113708496094.\u001b[32m [repeated 11x across cluster]\u001b[0m\n",
      "\u001b[2m\u001b[36m(ClientAppActor pid=1320832)\u001b[0m \u001b[32m [repeated 15x across cluster]\u001b[0m\n",
      "\u001b[2m\u001b[36m(ClientAppActor pid=1320832)\u001b[0m Epoch 100/100\u001b[32m [repeated 15x across cluster]\u001b[0m\n",
      "\u001b[2m\u001b[36m(ClientAppActor pid=1320832)\u001b[0m Epoch 99: Training accuracy: 83.45808410644531 Testing accuracy: 83.23353576660156.\u001b[32m [repeated 15x across cluster]\u001b[0m\n"
     ]
    },
    {
     "name": "stderr",
     "output_type": "stream",
     "text": [
      "\u001b[92mINFO \u001b[0m:      aggregate_fit: received 3 results and 0 failures\n",
      "\u001b[92mINFO \u001b[0m:      fit progress: (40, 0.05254243178801103, {'accuracy': tensor(74.1059, device='cuda:0')}, 2535.5015050190123)\n",
      "\u001b[92mINFO \u001b[0m:      configure_evaluate: strategy sampled 1 clients (out of 3)\n"
     ]
    },
    {
     "name": "stdout",
     "output_type": "stream",
     "text": [
      "Server-side evaluation loss 0.05254243178801103 / accuracy 74.10586547851562\n"
     ]
    },
    {
     "name": "stderr",
     "output_type": "stream",
     "text": [
      "\u001b[92mINFO \u001b[0m:      aggregate_evaluate: received 1 results and 0 failures\n",
      "\u001b[92mINFO \u001b[0m:      \n",
      "\u001b[92mINFO \u001b[0m:      [ROUND 41]\n",
      "\u001b[92mINFO \u001b[0m:      configure_fit: strategy sampled 3 clients (out of 3)\n"
     ]
    },
    {
     "name": "stdout",
     "output_type": "stream",
     "text": [
      "\u001b[2m\u001b[36m(ClientAppActor pid=1320835)\u001b[0m \u001b[32m [repeated 18x across cluster]\u001b[0m\n",
      "\u001b[2m\u001b[36m(ClientAppActor pid=1320835)\u001b[0m Epoch 7/100\u001b[32m [repeated 18x across cluster]\u001b[0m\n",
      "\u001b[2m\u001b[36m(ClientAppActor pid=1320835)\u001b[0m Epoch 6: Training accuracy: 80.1646728515625 Testing accuracy: 81.43712615966797.\u001b[32m [repeated 17x across cluster]\u001b[0m\n",
      "\u001b[2m\u001b[36m(ClientAppActor pid=1320832)\u001b[0m \u001b[32m [repeated 21x across cluster]\u001b[0m\n",
      "\u001b[2m\u001b[36m(ClientAppActor pid=1320832)\u001b[0m Epoch 24/100\u001b[32m [repeated 21x across cluster]\u001b[0m\n",
      "\u001b[2m\u001b[36m(ClientAppActor pid=1320832)\u001b[0m Epoch 23: Training accuracy: 83.57987976074219 Testing accuracy: 80.47337341308594.\u001b[32m [repeated 21x across cluster]\u001b[0m\n",
      "\u001b[2m\u001b[36m(ClientAppActor pid=1320832)\u001b[0m \u001b[32m [repeated 28x across cluster]\u001b[0m\n",
      "\u001b[2m\u001b[36m(ClientAppActor pid=1320832)\u001b[0m Epoch 44/100\u001b[32m [repeated 28x across cluster]\u001b[0m\n",
      "\u001b[2m\u001b[36m(ClientAppActor pid=1320832)\u001b[0m Epoch 43: Training accuracy: 83.50592041015625 Testing accuracy: 79.88166046142578.\u001b[32m [repeated 28x across cluster]\u001b[0m\n",
      "\u001b[2m\u001b[36m(ClientAppActor pid=1320832)\u001b[0m \u001b[32m [repeated 30x across cluster]\u001b[0m\n",
      "\u001b[2m\u001b[36m(ClientAppActor pid=1320832)\u001b[0m Epoch 65/100\u001b[32m [repeated 30x across cluster]\u001b[0m\n",
      "\u001b[2m\u001b[36m(ClientAppActor pid=1320832)\u001b[0m Epoch 64: Training accuracy: 83.57987976074219 Testing accuracy: 81.0650863647461.\u001b[32m [repeated 30x across cluster]\u001b[0m\n",
      "\u001b[2m\u001b[36m(ClientAppActor pid=1320832)\u001b[0m \u001b[32m [repeated 29x across cluster]\u001b[0m\n",
      "\u001b[2m\u001b[36m(ClientAppActor pid=1320832)\u001b[0m Epoch 86/100\u001b[32m [repeated 29x across cluster]\u001b[0m\n",
      "\u001b[2m\u001b[36m(ClientAppActor pid=1320832)\u001b[0m Epoch 85: Training accuracy: 83.2100601196289 Testing accuracy: 77.5147933959961.\u001b[32m [repeated 29x across cluster]\u001b[0m\n",
      "\u001b[2m\u001b[36m(ClientAppActor pid=1320835)\u001b[0m \u001b[32m [repeated 130x across cluster]\u001b[0m\n",
      "\u001b[2m\u001b[36m(ClientAppActor pid=1320835)\u001b[0m Epoch 66/100\u001b[32m [repeated 130x across cluster]\u001b[0m\n",
      "\u001b[2m\u001b[36m(ClientAppActor pid=1320835)\u001b[0m Epoch 65: Training accuracy: 83.6077880859375 Testing accuracy: 80.83832550048828.\u001b[32m [repeated 130x across cluster]\u001b[0m\n"
     ]
    },
    {
     "name": "stderr",
     "output_type": "stream",
     "text": [
      "\u001b[92mINFO \u001b[0m:      aggregate_fit: received 3 results and 0 failures\n",
      "\u001b[92mINFO \u001b[0m:      fit progress: (41, 0.04973528060046109, {'accuracy': tensor(75.3934, device='cuda:0')}, 2567.244988877006)\n",
      "\u001b[92mINFO \u001b[0m:      configure_evaluate: strategy sampled 1 clients (out of 3)\n",
      "\u001b[92mINFO \u001b[0m:      aggregate_evaluate: received 1 results and 0 failures\n",
      "\u001b[92mINFO \u001b[0m:      \n",
      "\u001b[92mINFO \u001b[0m:      [ROUND 42]\n",
      "\u001b[92mINFO \u001b[0m:      configure_fit: strategy sampled 3 clients (out of 3)\n"
     ]
    },
    {
     "name": "stdout",
     "output_type": "stream",
     "text": [
      "Server-side evaluation loss 0.04973528060046109 / accuracy 75.39341735839844\n",
      "\u001b[2m\u001b[36m(ClientAppActor pid=1320835)\u001b[0m \u001b[32m [repeated 150x across cluster]\u001b[0m\n",
      "\u001b[2m\u001b[36m(ClientAppActor pid=1320835)\u001b[0m Epoch 76/100\u001b[32m [repeated 150x across cluster]\u001b[0m\n",
      "\u001b[2m\u001b[36m(ClientAppActor pid=1320835)\u001b[0m Epoch 75: Training accuracy: 83.13609313964844 Testing accuracy: 78.69822692871094.\u001b[32m [repeated 150x across cluster]\u001b[0m\n",
      "\u001b[2m\u001b[36m(ClientAppActor pid=1320832)\u001b[0m \u001b[32m [repeated 28x across cluster]\u001b[0m\n",
      "\u001b[2m\u001b[36m(ClientAppActor pid=1320832)\u001b[0m Epoch 49/100\u001b[32m [repeated 28x across cluster]\u001b[0m\n",
      "\u001b[2m\u001b[36m(ClientAppActor pid=1320832)\u001b[0m Epoch 48: Training accuracy: 84.45513153076172 Testing accuracy: 80.76923370361328.\u001b[32m [repeated 28x across cluster]\u001b[0m\n",
      "\u001b[2m\u001b[36m(ClientAppActor pid=1320835)\u001b[0m \u001b[32m [repeated 21x across cluster]\u001b[0m\n",
      "\u001b[2m\u001b[36m(ClientAppActor pid=1320835)\u001b[0m Epoch 94/100\u001b[32m [repeated 21x across cluster]\u001b[0m\n",
      "\u001b[2m\u001b[36m(ClientAppActor pid=1320835)\u001b[0m Epoch 93: Training accuracy: 83.72781372070312 Testing accuracy: 79.2899398803711.\u001b[32m [repeated 21x across cluster]\u001b[0m\n",
      "\u001b[2m\u001b[36m(ClientAppActor pid=1320832)\u001b[0m \u001b[32m [repeated 15x across cluster]\u001b[0m\n",
      "\u001b[2m\u001b[36m(ClientAppActor pid=1320832)\u001b[0m Epoch 71/100\u001b[32m [repeated 15x across cluster]\u001b[0m\n",
      "\u001b[2m\u001b[36m(ClientAppActor pid=1320832)\u001b[0m Epoch 70: Training accuracy: 84.375 Testing accuracy: 82.05128479003906.\u001b[32m [repeated 15x across cluster]\u001b[0m\n",
      "\u001b[2m\u001b[36m(ClientAppActor pid=1320832)\u001b[0m \u001b[32m [repeated 16x across cluster]\u001b[0m\n",
      "\u001b[2m\u001b[36m(ClientAppActor pid=1320832)\u001b[0m Epoch 80/100\u001b[32m [repeated 16x across cluster]\u001b[0m\n",
      "\u001b[2m\u001b[36m(ClientAppActor pid=1320832)\u001b[0m Epoch 79: Training accuracy: 84.05448913574219 Testing accuracy: 82.05128479003906.\u001b[32m [repeated 16x across cluster]\u001b[0m\n",
      "\u001b[2m\u001b[36m(ClientAppActor pid=1320835)\u001b[0m \u001b[32m [repeated 16x across cluster]\u001b[0m\n",
      "\u001b[2m\u001b[36m(ClientAppActor pid=1320835)\u001b[0m Epoch 13/100\u001b[32m [repeated 16x across cluster]\u001b[0m\n",
      "\u001b[2m\u001b[36m(ClientAppActor pid=1320835)\u001b[0m Epoch 12: Training accuracy: 80.31436920166016 Testing accuracy: 82.03592681884766.\u001b[32m [repeated 16x across cluster]\u001b[0m\n",
      "\u001b[2m\u001b[36m(ClientAppActor pid=1320835)\u001b[0m \u001b[32m [repeated 17x across cluster]\u001b[0m\n",
      "\u001b[2m\u001b[36m(ClientAppActor pid=1320835)\u001b[0m Epoch 20/100\u001b[32m [repeated 17x across cluster]\u001b[0m\n",
      "\u001b[2m\u001b[36m(ClientAppActor pid=1320835)\u001b[0m Epoch 19: Training accuracy: 83.15868377685547 Testing accuracy: 80.83832550048828.\u001b[32m [repeated 17x across cluster]\u001b[0m\n",
      "\u001b[2m\u001b[36m(ClientAppActor pid=1320835)\u001b[0m \u001b[32m [repeated 7x across cluster]\u001b[0m\n",
      "\u001b[2m\u001b[36m(ClientAppActor pid=1320835)\u001b[0m Epoch 26/100\u001b[32m [repeated 7x across cluster]\u001b[0m\n",
      "\u001b[2m\u001b[36m(ClientAppActor pid=1320835)\u001b[0m Epoch 25: Training accuracy: 82.85928344726562 Testing accuracy: 79.64071655273438.\u001b[32m [repeated 8x across cluster]\u001b[0m\n",
      "\u001b[2m\u001b[36m(ClientAppActor pid=1320835)\u001b[0m \u001b[32m [repeated 7x across cluster]\u001b[0m\n",
      "\u001b[2m\u001b[36m(ClientAppActor pid=1320835)\u001b[0m Epoch 33/100\u001b[32m [repeated 7x across cluster]\u001b[0m\n",
      "\u001b[2m\u001b[36m(ClientAppActor pid=1320835)\u001b[0m Epoch 32: Training accuracy: 83.15868377685547 Testing accuracy: 83.23353576660156.\u001b[32m [repeated 7x across cluster]\u001b[0m\n",
      "\u001b[2m\u001b[36m(ClientAppActor pid=1320835)\u001b[0m \u001b[32m [repeated 7x across cluster]\u001b[0m\n",
      "\u001b[2m\u001b[36m(ClientAppActor pid=1320835)\u001b[0m Epoch 40/100\u001b[32m [repeated 7x across cluster]\u001b[0m\n",
      "\u001b[2m\u001b[36m(ClientAppActor pid=1320835)\u001b[0m Epoch 39: Training accuracy: 83.6077880859375 Testing accuracy: 83.83233642578125.\u001b[32m [repeated 7x across cluster]\u001b[0m\n",
      "\u001b[2m\u001b[36m(ClientAppActor pid=1320835)\u001b[0m \u001b[32m [repeated 7x across cluster]\u001b[0m\n",
      "\u001b[2m\u001b[36m(ClientAppActor pid=1320835)\u001b[0m Epoch 47/100\u001b[32m [repeated 7x across cluster]\u001b[0m\n",
      "\u001b[2m\u001b[36m(ClientAppActor pid=1320835)\u001b[0m Epoch 46: Training accuracy: 80.98802185058594 Testing accuracy: 81.43712615966797.\u001b[32m [repeated 7x across cluster]\u001b[0m\n",
      "\u001b[2m\u001b[36m(ClientAppActor pid=1320835)\u001b[0m \u001b[32m [repeated 7x across cluster]\u001b[0m\n",
      "\u001b[2m\u001b[36m(ClientAppActor pid=1320835)\u001b[0m Epoch 54/100\u001b[32m [repeated 7x across cluster]\u001b[0m\n",
      "\u001b[2m\u001b[36m(ClientAppActor pid=1320835)\u001b[0m Epoch 53: Training accuracy: 83.5329360961914 Testing accuracy: 82.63472747802734.\u001b[32m [repeated 7x across cluster]\u001b[0m\n",
      "\u001b[2m\u001b[36m(ClientAppActor pid=1320835)\u001b[0m \u001b[32m [repeated 7x across cluster]\u001b[0m\n",
      "\u001b[2m\u001b[36m(ClientAppActor pid=1320835)\u001b[0m Epoch 61/100\u001b[32m [repeated 7x across cluster]\u001b[0m\n",
      "\u001b[2m\u001b[36m(ClientAppActor pid=1320835)\u001b[0m Epoch 60: Training accuracy: 84.056884765625 Testing accuracy: 83.23353576660156.\u001b[32m [repeated 7x across cluster]\u001b[0m\n",
      "\u001b[2m\u001b[36m(ClientAppActor pid=1320835)\u001b[0m \u001b[32m [repeated 6x across cluster]\u001b[0m\n",
      "\u001b[2m\u001b[36m(ClientAppActor pid=1320835)\u001b[0m Epoch 67/100\u001b[32m [repeated 6x across cluster]\u001b[0m\n",
      "\u001b[2m\u001b[36m(ClientAppActor pid=1320835)\u001b[0m Epoch 66: Training accuracy: 82.93413543701172 Testing accuracy: 80.23951721191406.\u001b[32m [repeated 6x across cluster]\u001b[0m\n",
      "\u001b[2m\u001b[36m(ClientAppActor pid=1320835)\u001b[0m \u001b[32m [repeated 10x across cluster]\u001b[0m\n",
      "\u001b[2m\u001b[36m(ClientAppActor pid=1320835)\u001b[0m Epoch 77/100\u001b[32m [repeated 10x across cluster]\u001b[0m\n",
      "\u001b[2m\u001b[36m(ClientAppActor pid=1320835)\u001b[0m Epoch 76: Training accuracy: 83.38323211669922 Testing accuracy: 82.03592681884766.\u001b[32m [repeated 10x across cluster]\u001b[0m\n",
      "\u001b[2m\u001b[36m(ClientAppActor pid=1320835)\u001b[0m \u001b[32m [repeated 19x across cluster]\u001b[0m\n",
      "\u001b[2m\u001b[36m(ClientAppActor pid=1320835)\u001b[0m Epoch 96/100\u001b[32m [repeated 19x across cluster]\u001b[0m\n",
      "\u001b[2m\u001b[36m(ClientAppActor pid=1320835)\u001b[0m Epoch 95: Training accuracy: 83.15868377685547 Testing accuracy: 82.63472747802734.\u001b[32m [repeated 19x across cluster]\u001b[0m\n"
     ]
    },
    {
     "name": "stderr",
     "output_type": "stream",
     "text": [
      "\u001b[92mINFO \u001b[0m:      aggregate_fit: received 3 results and 0 failures\n",
      "\u001b[92mINFO \u001b[0m:      fit progress: (42, 0.05090774731202559, {'accuracy': tensor(74.8212, device='cuda:0')}, 2652.0615471050114)\n",
      "\u001b[92mINFO \u001b[0m:      configure_evaluate: strategy sampled 1 clients (out of 3)\n",
      "\u001b[92mINFO \u001b[0m:      aggregate_evaluate: received 1 results and 0 failures\n",
      "\u001b[92mINFO \u001b[0m:      \n",
      "\u001b[92mINFO \u001b[0m:      [ROUND 43]\n",
      "\u001b[92mINFO \u001b[0m:      configure_fit: strategy sampled 3 clients (out of 3)\n"
     ]
    },
    {
     "name": "stdout",
     "output_type": "stream",
     "text": [
      "Server-side evaluation loss 0.05090774731202559 / accuracy 74.82117462158203\n",
      "\u001b[2m\u001b[36m(ClientAppActor pid=1320832)\u001b[0m \u001b[32m [repeated 44x across cluster]\u001b[0m\n",
      "\u001b[2m\u001b[36m(ClientAppActor pid=1320832)\u001b[0m Epoch 21/100\u001b[32m [repeated 44x across cluster]\u001b[0m\n",
      "\u001b[2m\u001b[36m(ClientAppActor pid=1320832)\u001b[0m Epoch 20: Training accuracy: 83.23353576660156 Testing accuracy: 82.03592681884766.\u001b[32m [repeated 43x across cluster]\u001b[0m\n",
      "\u001b[2m\u001b[36m(ClientAppActor pid=1320835)\u001b[0m \u001b[32m [repeated 36x across cluster]\u001b[0m\n",
      "\u001b[2m\u001b[36m(ClientAppActor pid=1320835)\u001b[0m Epoch 43/100\u001b[32m [repeated 36x across cluster]\u001b[0m\n",
      "\u001b[2m\u001b[36m(ClientAppActor pid=1320835)\u001b[0m Epoch 42: Training accuracy: 84.5352554321289 Testing accuracy: 82.05128479003906.\u001b[32m [repeated 36x across cluster]\u001b[0m\n",
      "\u001b[2m\u001b[36m(ClientAppActor pid=1320835)\u001b[0m \u001b[32m [repeated 37x across cluster]\u001b[0m\n",
      "\u001b[2m\u001b[36m(ClientAppActor pid=1320835)\u001b[0m Epoch 66/100\u001b[32m [repeated 37x across cluster]\u001b[0m\n",
      "\u001b[2m\u001b[36m(ClientAppActor pid=1320835)\u001b[0m Epoch 65: Training accuracy: 82.53205108642578 Testing accuracy: 80.12820434570312.\u001b[32m [repeated 37x across cluster]\u001b[0m\n",
      "\u001b[2m\u001b[36m(ClientAppActor pid=1320832)\u001b[0m \u001b[32m [repeated 15x across cluster]\u001b[0m\n",
      "\u001b[2m\u001b[36m(ClientAppActor pid=1320832)\u001b[0m Epoch 56/100\u001b[32m [repeated 15x across cluster]\u001b[0m\n",
      "\u001b[2m\u001b[36m(ClientAppActor pid=1320832)\u001b[0m Epoch 55: Training accuracy: 84.056884765625 Testing accuracy: 83.23353576660156.\u001b[32m [repeated 15x across cluster]\u001b[0m\n",
      "\u001b[2m\u001b[36m(ClientAppActor pid=1320835)\u001b[0m \u001b[32m [repeated 16x across cluster]\u001b[0m\n",
      "\u001b[2m\u001b[36m(ClientAppActor pid=1320835)\u001b[0m Epoch 80/100\u001b[32m [repeated 16x across cluster]\u001b[0m\n",
      "\u001b[2m\u001b[36m(ClientAppActor pid=1320835)\u001b[0m Epoch 79: Training accuracy: 84.69551086425781 Testing accuracy: 82.69230651855469.\u001b[32m [repeated 16x across cluster]\u001b[0m\n",
      "\u001b[2m\u001b[36m(ClientAppActor pid=1320832)\u001b[0m \u001b[32m [repeated 16x across cluster]\u001b[0m\n",
      "\u001b[2m\u001b[36m(ClientAppActor pid=1320832)\u001b[0m Epoch 74/100\u001b[32m [repeated 16x across cluster]\u001b[0m\n",
      "\u001b[2m\u001b[36m(ClientAppActor pid=1320832)\u001b[0m Epoch 73: Training accuracy: 83.9820327758789 Testing accuracy: 82.63472747802734.\u001b[32m [repeated 16x across cluster]\u001b[0m\n",
      "\u001b[2m\u001b[36m(ClientAppActor pid=1320832)\u001b[0m \u001b[32m [repeated 16x across cluster]\u001b[0m\n",
      "\u001b[2m\u001b[36m(ClientAppActor pid=1320832)\u001b[0m Epoch 83/100\u001b[32m [repeated 16x across cluster]\u001b[0m\n",
      "\u001b[2m\u001b[36m(ClientAppActor pid=1320832)\u001b[0m Epoch 82: Training accuracy: 83.9820327758789 Testing accuracy: 80.83832550048828.\u001b[32m [repeated 16x across cluster]\u001b[0m\n",
      "\u001b[2m\u001b[36m(ClientAppActor pid=1320832)\u001b[0m \u001b[32m [repeated 17x across cluster]\u001b[0m\n",
      "\u001b[2m\u001b[36m(ClientAppActor pid=1320832)\u001b[0m Epoch 93/100\u001b[32m [repeated 17x across cluster]\u001b[0m\n",
      "\u001b[2m\u001b[36m(ClientAppActor pid=1320832)\u001b[0m Epoch 92: Training accuracy: 81.96107482910156 Testing accuracy: 78.443115234375.\u001b[32m [repeated 17x across cluster]\u001b[0m\n",
      "\u001b[2m\u001b[36m(ClientAppActor pid=1320835)\u001b[0m \u001b[32m [repeated 14x across cluster]\u001b[0m\n",
      "\u001b[2m\u001b[36m(ClientAppActor pid=1320835)\u001b[0m Epoch 7/100\u001b[32m [repeated 14x across cluster]\u001b[0m\n",
      "\u001b[2m\u001b[36m(ClientAppActor pid=1320835)\u001b[0m Epoch 6: Training accuracy: 82.54438018798828 Testing accuracy: 79.2899398803711.\u001b[32m [repeated 15x across cluster]\u001b[0m\n",
      "\u001b[2m\u001b[36m(ClientAppActor pid=1320835)\u001b[0m \u001b[32m [repeated 7x across cluster]\u001b[0m\n",
      "\u001b[2m\u001b[36m(ClientAppActor pid=1320835)\u001b[0m Epoch 14/100\u001b[32m [repeated 7x across cluster]\u001b[0m\n",
      "\u001b[2m\u001b[36m(ClientAppActor pid=1320835)\u001b[0m Epoch 13: Training accuracy: 81.9526596069336 Testing accuracy: 78.69822692871094.\u001b[32m [repeated 7x across cluster]\u001b[0m\n",
      "\u001b[2m\u001b[36m(ClientAppActor pid=1320835)\u001b[0m \u001b[32m [repeated 7x across cluster]\u001b[0m\n",
      "\u001b[2m\u001b[36m(ClientAppActor pid=1320835)\u001b[0m Epoch 21/100\u001b[32m [repeated 7x across cluster]\u001b[0m\n",
      "\u001b[2m\u001b[36m(ClientAppActor pid=1320835)\u001b[0m Epoch 20: Training accuracy: 81.9526596069336 Testing accuracy: 77.5147933959961.\u001b[32m [repeated 7x across cluster]\u001b[0m\n",
      "\u001b[2m\u001b[36m(ClientAppActor pid=1320835)\u001b[0m \u001b[32m [repeated 8x across cluster]\u001b[0m\n",
      "\u001b[2m\u001b[36m(ClientAppActor pid=1320835)\u001b[0m Epoch 29/100\u001b[32m [repeated 8x across cluster]\u001b[0m\n",
      "\u001b[2m\u001b[36m(ClientAppActor pid=1320835)\u001b[0m Epoch 28: Training accuracy: 82.84024047851562 Testing accuracy: 77.5147933959961.\u001b[32m [repeated 8x across cluster]\u001b[0m\n",
      "\u001b[2m\u001b[36m(ClientAppActor pid=1320835)\u001b[0m \u001b[32m [repeated 10x across cluster]\u001b[0m\n",
      "\u001b[2m\u001b[36m(ClientAppActor pid=1320835)\u001b[0m Epoch 39/100\u001b[32m [repeated 10x across cluster]\u001b[0m\n",
      "\u001b[2m\u001b[36m(ClientAppActor pid=1320835)\u001b[0m Epoch 38: Training accuracy: 83.50592041015625 Testing accuracy: 80.47337341308594.\u001b[32m [repeated 10x across cluster]\u001b[0m\n",
      "\u001b[2m\u001b[36m(ClientAppActor pid=1320835)\u001b[0m \u001b[32m [repeated 10x across cluster]\u001b[0m\n",
      "\u001b[2m\u001b[36m(ClientAppActor pid=1320835)\u001b[0m Epoch 49/100\u001b[32m [repeated 10x across cluster]\u001b[0m\n",
      "\u001b[2m\u001b[36m(ClientAppActor pid=1320835)\u001b[0m Epoch 48: Training accuracy: 82.76627349853516 Testing accuracy: 79.88166046142578.\u001b[32m [repeated 10x across cluster]\u001b[0m\n",
      "\u001b[2m\u001b[36m(ClientAppActor pid=1320835)\u001b[0m \u001b[32m [repeated 6x across cluster]\u001b[0m\n",
      "\u001b[2m\u001b[36m(ClientAppActor pid=1320835)\u001b[0m Epoch 55/100\u001b[32m [repeated 6x across cluster]\u001b[0m\n",
      "\u001b[2m\u001b[36m(ClientAppActor pid=1320835)\u001b[0m Epoch 54: Training accuracy: 83.57987976074219 Testing accuracy: 80.47337341308594.\u001b[32m [repeated 6x across cluster]\u001b[0m\n",
      "\u001b[2m\u001b[36m(ClientAppActor pid=1320835)\u001b[0m \u001b[32m [repeated 8x across cluster]\u001b[0m\n",
      "\u001b[2m\u001b[36m(ClientAppActor pid=1320835)\u001b[0m Epoch 63/100\u001b[32m [repeated 8x across cluster]\u001b[0m\n",
      "\u001b[2m\u001b[36m(ClientAppActor pid=1320835)\u001b[0m Epoch 62: Training accuracy: 82.02662658691406 Testing accuracy: 79.2899398803711.\u001b[32m [repeated 8x across cluster]\u001b[0m\n",
      "\u001b[2m\u001b[36m(ClientAppActor pid=1320835)\u001b[0m \u001b[32m [repeated 7x across cluster]\u001b[0m\n",
      "\u001b[2m\u001b[36m(ClientAppActor pid=1320835)\u001b[0m Epoch 70/100\u001b[32m [repeated 7x across cluster]\u001b[0m\n",
      "\u001b[2m\u001b[36m(ClientAppActor pid=1320835)\u001b[0m Epoch 69: Training accuracy: 83.80177307128906 Testing accuracy: 79.2899398803711.\u001b[32m [repeated 7x across cluster]\u001b[0m\n",
      "\u001b[2m\u001b[36m(ClientAppActor pid=1320835)\u001b[0m \u001b[32m [repeated 9x across cluster]\u001b[0m\n",
      "\u001b[2m\u001b[36m(ClientAppActor pid=1320835)\u001b[0m Epoch 79/100\u001b[32m [repeated 9x across cluster]\u001b[0m\n",
      "\u001b[2m\u001b[36m(ClientAppActor pid=1320835)\u001b[0m Epoch 78: Training accuracy: 82.61833953857422 Testing accuracy: 76.92308044433594.\u001b[32m [repeated 9x across cluster]\u001b[0m\n",
      "\u001b[2m\u001b[36m(ClientAppActor pid=1320835)\u001b[0m \u001b[32m [repeated 7x across cluster]\u001b[0m\n",
      "\u001b[2m\u001b[36m(ClientAppActor pid=1320835)\u001b[0m Epoch 86/100\u001b[32m [repeated 7x across cluster]\u001b[0m\n",
      "\u001b[2m\u001b[36m(ClientAppActor pid=1320835)\u001b[0m Epoch 85: Training accuracy: 80.10355377197266 Testing accuracy: 75.7396469116211.\u001b[32m [repeated 7x across cluster]\u001b[0m\n",
      "\u001b[2m\u001b[36m(ClientAppActor pid=1320835)\u001b[0m \u001b[32m [repeated 11x across cluster]\u001b[0m\n",
      "\u001b[2m\u001b[36m(ClientAppActor pid=1320835)\u001b[0m Epoch 97/100\u001b[32m [repeated 11x across cluster]\u001b[0m\n",
      "\u001b[2m\u001b[36m(ClientAppActor pid=1320835)\u001b[0m Epoch 96: Training accuracy: 82.98816680908203 Testing accuracy: 78.10650634765625.\u001b[32m [repeated 11x across cluster]\u001b[0m\n"
     ]
    },
    {
     "name": "stderr",
     "output_type": "stream",
     "text": [
      "\u001b[92mINFO \u001b[0m:      aggregate_fit: received 3 results and 0 failures\n",
      "\u001b[92mINFO \u001b[0m:      fit progress: (43, 0.05164336074482311, {'accuracy': tensor(73.8197, device='cuda:0')}, 2759.053005504)\n",
      "\u001b[92mINFO \u001b[0m:      configure_evaluate: strategy sampled 1 clients (out of 3)\n",
      "\u001b[92mINFO \u001b[0m:      aggregate_evaluate: received 1 results and 0 failures\n",
      "\u001b[92mINFO \u001b[0m:      \n",
      "\u001b[92mINFO \u001b[0m:      [ROUND 44]\n",
      "\u001b[92mINFO \u001b[0m:      configure_fit: strategy sampled 3 clients (out of 3)\n"
     ]
    },
    {
     "name": "stdout",
     "output_type": "stream",
     "text": [
      "Server-side evaluation loss 0.05164336074482311 / accuracy 73.81974029541016\n",
      "\u001b[2m\u001b[36m(ClientAppActor pid=1320832)\u001b[0m \u001b[32m [repeated 25x across cluster]\u001b[0m\n",
      "\u001b[2m\u001b[36m(ClientAppActor pid=1320832)\u001b[0m Epoch 14/100\u001b[32m [repeated 25x across cluster]\u001b[0m\n",
      "\u001b[2m\u001b[36m(ClientAppActor pid=1320832)\u001b[0m Epoch 13: Training accuracy: 83.08383178710938 Testing accuracy: 82.03592681884766.\u001b[32m [repeated 24x across cluster]\u001b[0m\n",
      "\u001b[2m\u001b[36m(ClientAppActor pid=1320835)\u001b[0m \u001b[32m [repeated 151x across cluster]\u001b[0m\n",
      "\u001b[2m\u001b[36m(ClientAppActor pid=1320835)\u001b[0m Epoch 29/100\u001b[32m [repeated 151x across cluster]\u001b[0m\n",
      "\u001b[2m\u001b[36m(ClientAppActor pid=1320835)\u001b[0m Epoch 28: Training accuracy: 83.0621337890625 Testing accuracy: 79.88166046142578.\u001b[32m [repeated 151x across cluster]\u001b[0m\n",
      "\u001b[2m\u001b[36m(ClientAppActor pid=1320835)\u001b[0m \u001b[32m [repeated 88x across cluster]\u001b[0m\n",
      "\u001b[2m\u001b[36m(ClientAppActor pid=1320835)\u001b[0m Epoch 61/100\u001b[32m [repeated 88x across cluster]\u001b[0m\n",
      "\u001b[2m\u001b[36m(ClientAppActor pid=1320835)\u001b[0m Epoch 60: Training accuracy: 83.28402709960938 Testing accuracy: 80.47337341308594.\u001b[32m [repeated 89x across cluster]\u001b[0m\n",
      "\u001b[2m\u001b[36m(ClientAppActor pid=1320835)\u001b[0m \u001b[32m [repeated 13x across cluster]\u001b[0m\n",
      "\u001b[2m\u001b[36m(ClientAppActor pid=1320835)\u001b[0m Epoch 74/100\u001b[32m [repeated 13x across cluster]\u001b[0m\n",
      "\u001b[2m\u001b[36m(ClientAppActor pid=1320835)\u001b[0m Epoch 73: Training accuracy: 83.57987976074219 Testing accuracy: 80.47337341308594.\u001b[32m [repeated 13x across cluster]\u001b[0m\n",
      "\u001b[2m\u001b[36m(ClientAppActor pid=1320835)\u001b[0m \u001b[32m [repeated 18x across cluster]\u001b[0m\n",
      "\u001b[2m\u001b[36m(ClientAppActor pid=1320835)\u001b[0m Epoch 92/100\u001b[32m [repeated 18x across cluster]\u001b[0m\n",
      "\u001b[2m\u001b[36m(ClientAppActor pid=1320835)\u001b[0m Epoch 91: Training accuracy: 82.91419982910156 Testing accuracy: 79.88166046142578.\u001b[32m [repeated 18x across cluster]\u001b[0m\n"
     ]
    },
    {
     "name": "stderr",
     "output_type": "stream",
     "text": [
      "\u001b[92mINFO \u001b[0m:      aggregate_fit: received 3 results and 0 failures\n",
      "\u001b[92mINFO \u001b[0m:      fit progress: (44, 0.05203267661007968, {'accuracy': tensor(74.3920, device='cuda:0')}, 2783.409564517002)\n",
      "\u001b[92mINFO \u001b[0m:      configure_evaluate: strategy sampled 1 clients (out of 3)\n"
     ]
    },
    {
     "name": "stdout",
     "output_type": "stream",
     "text": [
      "Server-side evaluation loss 0.05203267661007968 / accuracy 74.3919906616211\n"
     ]
    },
    {
     "name": "stderr",
     "output_type": "stream",
     "text": [
      "\u001b[92mINFO \u001b[0m:      aggregate_evaluate: received 1 results and 0 failures\n",
      "\u001b[92mINFO \u001b[0m:      \n",
      "\u001b[92mINFO \u001b[0m:      [ROUND 45]\n",
      "\u001b[92mINFO \u001b[0m:      configure_fit: strategy sampled 3 clients (out of 3)\n"
     ]
    },
    {
     "name": "stdout",
     "output_type": "stream",
     "text": [
      "\u001b[2m\u001b[36m(ClientAppActor pid=1320832)\u001b[0m \u001b[32m [repeated 25x across cluster]\u001b[0m\n",
      "\u001b[2m\u001b[36m(ClientAppActor pid=1320832)\u001b[0m Epoch 10/100\u001b[32m [repeated 25x across cluster]\u001b[0m\n",
      "\u001b[2m\u001b[36m(ClientAppActor pid=1320832)\u001b[0m Epoch 9: Training accuracy: 84.13461303710938 Testing accuracy: 81.4102554321289.\u001b[32m [repeated 24x across cluster]\u001b[0m\n",
      "\u001b[2m\u001b[36m(ClientAppActor pid=1320835)\u001b[0m \u001b[32m [repeated 14x across cluster]\u001b[0m\n",
      "\u001b[2m\u001b[36m(ClientAppActor pid=1320835)\u001b[0m Epoch 14/100\u001b[32m [repeated 14x across cluster]\u001b[0m\n",
      "\u001b[2m\u001b[36m(ClientAppActor pid=1320835)\u001b[0m Epoch 13: Training accuracy: 83.57987976074219 Testing accuracy: 80.47337341308594.\u001b[32m [repeated 14x across cluster]\u001b[0m\n",
      "\u001b[2m\u001b[36m(ClientAppActor pid=1320835)\u001b[0m \u001b[32m [repeated 16x across cluster]\u001b[0m\n",
      "\u001b[2m\u001b[36m(ClientAppActor pid=1320835)\u001b[0m Epoch 20/100\u001b[32m [repeated 16x across cluster]\u001b[0m\n",
      "\u001b[2m\u001b[36m(ClientAppActor pid=1320835)\u001b[0m Epoch 19: Training accuracy: 82.39644622802734 Testing accuracy: 79.88166046142578.\u001b[32m [repeated 16x across cluster]\u001b[0m\n",
      "\u001b[2m\u001b[36m(ClientAppActor pid=1320832)\u001b[0m \u001b[32m [repeated 17x across cluster]\u001b[0m\n",
      "\u001b[2m\u001b[36m(ClientAppActor pid=1320832)\u001b[0m Epoch 38/100\u001b[32m [repeated 17x across cluster]\u001b[0m\n",
      "\u001b[2m\u001b[36m(ClientAppActor pid=1320832)\u001b[0m Epoch 37: Training accuracy: 84.05448913574219 Testing accuracy: 83.33333587646484.\u001b[32m [repeated 17x across cluster]\u001b[0m\n",
      "\u001b[2m\u001b[36m(ClientAppActor pid=1320835)\u001b[0m \u001b[32m [repeated 15x across cluster]\u001b[0m\n",
      "\u001b[2m\u001b[36m(ClientAppActor pid=1320835)\u001b[0m Epoch 33/100\u001b[32m [repeated 15x across cluster]\u001b[0m\n",
      "\u001b[2m\u001b[36m(ClientAppActor pid=1320835)\u001b[0m Epoch 32: Training accuracy: 78.32839965820312 Testing accuracy: 74.55621337890625.\u001b[32m [repeated 15x across cluster]\u001b[0m\n",
      "\u001b[2m\u001b[36m(ClientAppActor pid=1320832)\u001b[0m \u001b[32m [repeated 16x across cluster]\u001b[0m\n",
      "\u001b[2m\u001b[36m(ClientAppActor pid=1320832)\u001b[0m Epoch 56/100\u001b[32m [repeated 16x across cluster]\u001b[0m\n",
      "\u001b[2m\u001b[36m(ClientAppActor pid=1320832)\u001b[0m Epoch 55: Training accuracy: 84.5352554321289 Testing accuracy: 80.76923370361328.\u001b[32m [repeated 16x across cluster]\u001b[0m\n",
      "\u001b[2m\u001b[36m(ClientAppActor pid=1320832)\u001b[0m \u001b[32m [repeated 15x across cluster]\u001b[0m\n",
      "\u001b[2m\u001b[36m(ClientAppActor pid=1320832)\u001b[0m Epoch 65/100\u001b[32m [repeated 15x across cluster]\u001b[0m\n",
      "\u001b[2m\u001b[36m(ClientAppActor pid=1320832)\u001b[0m Epoch 64: Training accuracy: 84.77564239501953 Testing accuracy: 82.05128479003906.\u001b[32m [repeated 15x across cluster]\u001b[0m\n",
      "\u001b[2m\u001b[36m(ClientAppActor pid=1320832)\u001b[0m \u001b[32m [repeated 15x across cluster]\u001b[0m\n",
      "\u001b[2m\u001b[36m(ClientAppActor pid=1320832)\u001b[0m Epoch 74/100\u001b[32m [repeated 15x across cluster]\u001b[0m\n",
      "\u001b[2m\u001b[36m(ClientAppActor pid=1320832)\u001b[0m Epoch 73: Training accuracy: 84.61538696289062 Testing accuracy: 82.05128479003906.\u001b[32m [repeated 15x across cluster]\u001b[0m\n",
      "\u001b[2m\u001b[36m(ClientAppActor pid=1320832)\u001b[0m \u001b[32m [repeated 23x across cluster]\u001b[0m\n",
      "\u001b[2m\u001b[36m(ClientAppActor pid=1320832)\u001b[0m Epoch 90/100\u001b[32m [repeated 23x across cluster]\u001b[0m\n",
      "\u001b[2m\u001b[36m(ClientAppActor pid=1320832)\u001b[0m Epoch 89: Training accuracy: 83.97435760498047 Testing accuracy: 82.05128479003906.\u001b[32m [repeated 23x across cluster]\u001b[0m\n",
      "\u001b[2m\u001b[36m(ClientAppActor pid=1320832)\u001b[0m \u001b[32m [repeated 24x across cluster]\u001b[0m\n",
      "\u001b[2m\u001b[36m(ClientAppActor pid=1320832)\u001b[0m Epoch 4/100\u001b[32m [repeated 24x across cluster]\u001b[0m\n",
      "\u001b[2m\u001b[36m(ClientAppActor pid=1320832)\u001b[0m Epoch 3: Training accuracy: 78.59281158447266 Testing accuracy: 81.43712615966797.\u001b[32m [repeated 24x across cluster]\u001b[0m\n",
      "\u001b[2m\u001b[36m(ClientAppActor pid=1320832)\u001b[0m \u001b[32m [repeated 25x across cluster]\u001b[0m\n",
      "\u001b[2m\u001b[36m(ClientAppActor pid=1320832)\u001b[0m Epoch 19/100\u001b[32m [repeated 25x across cluster]\u001b[0m\n",
      "\u001b[2m\u001b[36m(ClientAppActor pid=1320832)\u001b[0m Epoch 18: Training accuracy: 80.38922119140625 Testing accuracy: 75.44910430908203.\u001b[32m [repeated 25x across cluster]\u001b[0m\n",
      "\u001b[2m\u001b[36m(ClientAppActor pid=1320832)\u001b[0m \u001b[32m [repeated 26x across cluster]\u001b[0m\n",
      "\u001b[2m\u001b[36m(ClientAppActor pid=1320832)\u001b[0m Epoch 35/100\u001b[32m [repeated 26x across cluster]\u001b[0m\n",
      "\u001b[2m\u001b[36m(ClientAppActor pid=1320832)\u001b[0m Epoch 34: Training accuracy: 83.08383178710938 Testing accuracy: 80.23951721191406.\u001b[32m [repeated 26x across cluster]\u001b[0m\n",
      "\u001b[2m\u001b[36m(ClientAppActor pid=1320835)\u001b[0m \u001b[32m [repeated 15x across cluster]\u001b[0m\n",
      "\u001b[2m\u001b[36m(ClientAppActor pid=1320835)\u001b[0m Epoch 95/100\u001b[32m [repeated 15x across cluster]\u001b[0m\n",
      "\u001b[2m\u001b[36m(ClientAppActor pid=1320835)\u001b[0m Epoch 94: Training accuracy: 83.43195343017578 Testing accuracy: 80.47337341308594.\u001b[32m [repeated 15x across cluster]\u001b[0m\n",
      "\u001b[2m\u001b[36m(ClientAppActor pid=1320832)\u001b[0m \u001b[32m [repeated 15x across cluster]\u001b[0m\n",
      "\u001b[2m\u001b[36m(ClientAppActor pid=1320832)\u001b[0m Epoch 53/100\u001b[32m [repeated 15x across cluster]\u001b[0m\n",
      "\u001b[2m\u001b[36m(ClientAppActor pid=1320832)\u001b[0m Epoch 52: Training accuracy: 83.90718841552734 Testing accuracy: 83.23353576660156.\u001b[32m [repeated 16x across cluster]\u001b[0m\n",
      "\u001b[2m\u001b[36m(ClientAppActor pid=1320832)\u001b[0m \u001b[32m [repeated 8x across cluster]\u001b[0m\n",
      "\u001b[2m\u001b[36m(ClientAppActor pid=1320832)\u001b[0m Epoch 61/100\u001b[32m [repeated 8x across cluster]\u001b[0m\n",
      "\u001b[2m\u001b[36m(ClientAppActor pid=1320832)\u001b[0m Epoch 60: Training accuracy: 83.9820327758789 Testing accuracy: 83.83233642578125.\u001b[32m [repeated 8x across cluster]\u001b[0m\n",
      "\u001b[2m\u001b[36m(ClientAppActor pid=1320832)\u001b[0m \u001b[32m [repeated 9x across cluster]\u001b[0m\n",
      "\u001b[2m\u001b[36m(ClientAppActor pid=1320832)\u001b[0m Epoch 70/100\u001b[32m [repeated 9x across cluster]\u001b[0m\n",
      "\u001b[2m\u001b[36m(ClientAppActor pid=1320832)\u001b[0m Epoch 69: Training accuracy: 83.45808410644531 Testing accuracy: 83.23353576660156.\u001b[32m [repeated 9x across cluster]\u001b[0m\n",
      "\u001b[2m\u001b[36m(ClientAppActor pid=1320832)\u001b[0m \u001b[32m [repeated 10x across cluster]\u001b[0m\n",
      "\u001b[2m\u001b[36m(ClientAppActor pid=1320832)\u001b[0m Epoch 80/100\u001b[32m [repeated 10x across cluster]\u001b[0m\n",
      "\u001b[2m\u001b[36m(ClientAppActor pid=1320832)\u001b[0m Epoch 79: Training accuracy: 83.30838012695312 Testing accuracy: 82.63472747802734.\u001b[32m [repeated 10x across cluster]\u001b[0m\n",
      "\u001b[2m\u001b[36m(ClientAppActor pid=1320832)\u001b[0m \u001b[32m [repeated 12x across cluster]\u001b[0m\n",
      "\u001b[2m\u001b[36m(ClientAppActor pid=1320832)\u001b[0m Epoch 92/100\u001b[32m [repeated 12x across cluster]\u001b[0m\n",
      "\u001b[2m\u001b[36m(ClientAppActor pid=1320832)\u001b[0m Epoch 91: Training accuracy: 82.55988311767578 Testing accuracy: 82.03592681884766.\u001b[32m [repeated 12x across cluster]\u001b[0m\n"
     ]
    },
    {
     "name": "stderr",
     "output_type": "stream",
     "text": [
      "\u001b[92mINFO \u001b[0m:      aggregate_fit: received 3 results and 0 failures\n",
      "\u001b[92mINFO \u001b[0m:      fit progress: (45, 0.051673022183504974, {'accuracy': tensor(74.3920, device='cuda:0')}, 2881.090904622004)\n",
      "\u001b[92mINFO \u001b[0m:      configure_evaluate: strategy sampled 1 clients (out of 3)\n",
      "\u001b[92mINFO \u001b[0m:      aggregate_evaluate: received 1 results and 0 failures\n",
      "\u001b[92mINFO \u001b[0m:      \n",
      "\u001b[92mINFO \u001b[0m:      [ROUND 46]\n",
      "\u001b[92mINFO \u001b[0m:      configure_fit: strategy sampled 3 clients (out of 3)\n"
     ]
    },
    {
     "name": "stdout",
     "output_type": "stream",
     "text": [
      "Server-side evaluation loss 0.051673022183504974 / accuracy 74.3919906616211\n",
      "\u001b[2m\u001b[36m(ClientAppActor pid=1320832)\u001b[0m \u001b[32m [repeated 12x across cluster]\u001b[0m\n",
      "\u001b[2m\u001b[36m(ClientAppActor pid=1320832)\u001b[0m Epoch 3/100\u001b[32m [repeated 12x across cluster]\u001b[0m\n",
      "\u001b[2m\u001b[36m(ClientAppActor pid=1320832)\u001b[0m Epoch 2: Training accuracy: 81.58683013916016 Testing accuracy: 80.23951721191406.\u001b[32m [repeated 11x across cluster]\u001b[0m\n",
      "\u001b[2m\u001b[36m(ClientAppActor pid=1320832)\u001b[0m \u001b[32m [repeated 18x across cluster]\u001b[0m\n",
      "\u001b[2m\u001b[36m(ClientAppActor pid=1320832)\u001b[0m Epoch 15/100\u001b[32m [repeated 18x across cluster]\u001b[0m\n",
      "\u001b[2m\u001b[36m(ClientAppActor pid=1320832)\u001b[0m Epoch 14: Training accuracy: 82.78443145751953 Testing accuracy: 80.83832550048828.\u001b[32m [repeated 18x across cluster]\u001b[0m\n",
      "\u001b[2m\u001b[36m(ClientAppActor pid=1320835)\u001b[0m \u001b[32m [repeated 24x across cluster]\u001b[0m\n",
      "\u001b[2m\u001b[36m(ClientAppActor pid=1320835)\u001b[0m Epoch 15/100\u001b[32m [repeated 24x across cluster]\u001b[0m\n",
      "\u001b[2m\u001b[36m(ClientAppActor pid=1320835)\u001b[0m Epoch 14: Training accuracy: 83.28402709960938 Testing accuracy: 79.88166046142578.\u001b[32m [repeated 24x across cluster]\u001b[0m\n",
      "\u001b[2m\u001b[36m(ClientAppActor pid=1320832)\u001b[0m \u001b[32m [repeated 30x across cluster]\u001b[0m\n",
      "\u001b[2m\u001b[36m(ClientAppActor pid=1320832)\u001b[0m Epoch 53/100\u001b[32m [repeated 30x across cluster]\u001b[0m\n",
      "\u001b[2m\u001b[36m(ClientAppActor pid=1320832)\u001b[0m Epoch 52: Training accuracy: 82.93413543701172 Testing accuracy: 82.03592681884766.\u001b[32m [repeated 30x across cluster]\u001b[0m\n",
      "\u001b[2m\u001b[36m(ClientAppActor pid=1320832)\u001b[0m \u001b[32m [repeated 109x across cluster]\u001b[0m\n",
      "\u001b[2m\u001b[36m(ClientAppActor pid=1320832)\u001b[0m Epoch 55/100\u001b[32m [repeated 109x across cluster]\u001b[0m\n",
      "\u001b[2m\u001b[36m(ClientAppActor pid=1320832)\u001b[0m Epoch 54: Training accuracy: 84.85576629638672 Testing accuracy: 82.05128479003906.\u001b[32m [repeated 109x across cluster]\u001b[0m\n",
      "\u001b[2m\u001b[36m(ClientAppActor pid=1320835)\u001b[0m \u001b[32m [repeated 74x across cluster]\u001b[0m\n",
      "\u001b[2m\u001b[36m(ClientAppActor pid=1320835)\u001b[0m Epoch 59/100\u001b[32m [repeated 74x across cluster]\u001b[0m\n",
      "\u001b[2m\u001b[36m(ClientAppActor pid=1320835)\u001b[0m Epoch 58: Training accuracy: 83.35798645019531 Testing accuracy: 79.88166046142578.\u001b[32m [repeated 75x across cluster]\u001b[0m\n",
      "\u001b[2m\u001b[36m(ClientAppActor pid=1320835)\u001b[0m \u001b[32m [repeated 25x across cluster]\u001b[0m\n",
      "\u001b[2m\u001b[36m(ClientAppActor pid=1320835)\u001b[0m Epoch 84/100\u001b[32m [repeated 25x across cluster]\u001b[0m\n",
      "\u001b[2m\u001b[36m(ClientAppActor pid=1320835)\u001b[0m Epoch 83: Training accuracy: 83.65384674072266 Testing accuracy: 80.47337341308594.\u001b[32m [repeated 25x across cluster]\u001b[0m\n",
      "\u001b[2m\u001b[36m(ClientAppActor pid=1320835)\u001b[0m \u001b[32m [repeated 13x across cluster]\u001b[0m\n",
      "\u001b[2m\u001b[36m(ClientAppActor pid=1320835)\u001b[0m Epoch 97/100\u001b[32m [repeated 13x across cluster]\u001b[0m\n",
      "\u001b[2m\u001b[36m(ClientAppActor pid=1320835)\u001b[0m Epoch 96: Training accuracy: 83.80177307128906 Testing accuracy: 78.69822692871094.\u001b[32m [repeated 13x across cluster]\u001b[0m\n"
     ]
    },
    {
     "name": "stderr",
     "output_type": "stream",
     "text": [
      "\u001b[92mINFO \u001b[0m:      aggregate_fit: received 3 results and 0 failures\n",
      "\u001b[92mINFO \u001b[0m:      fit progress: (46, 0.05110109394246882, {'accuracy': tensor(74.3920, device='cuda:0')}, 2921.1353115000093)\n",
      "\u001b[92mINFO \u001b[0m:      configure_evaluate: strategy sampled 1 clients (out of 3)\n"
     ]
    },
    {
     "name": "stdout",
     "output_type": "stream",
     "text": [
      "Server-side evaluation loss 0.05110109394246882 / accuracy 74.3919906616211\n"
     ]
    },
    {
     "name": "stderr",
     "output_type": "stream",
     "text": [
      "\u001b[92mINFO \u001b[0m:      aggregate_evaluate: received 1 results and 0 failures\n",
      "\u001b[92mINFO \u001b[0m:      \n",
      "\u001b[92mINFO \u001b[0m:      [ROUND 47]\n",
      "\u001b[92mINFO \u001b[0m:      configure_fit: strategy sampled 3 clients (out of 3)\n"
     ]
    },
    {
     "name": "stdout",
     "output_type": "stream",
     "text": [
      "\u001b[2m\u001b[36m(ClientAppActor pid=1320832)\u001b[0m \u001b[32m [repeated 22x across cluster]\u001b[0m\n",
      "\u001b[2m\u001b[36m(ClientAppActor pid=1320832)\u001b[0m Epoch 12/100\u001b[32m [repeated 22x across cluster]\u001b[0m\n",
      "\u001b[2m\u001b[36m(ClientAppActor pid=1320832)\u001b[0m Epoch 11: Training accuracy: 84.61538696289062 Testing accuracy: 82.69230651855469.\u001b[32m [repeated 21x across cluster]\u001b[0m\n",
      "\u001b[2m\u001b[36m(ClientAppActor pid=1320832)\u001b[0m \u001b[32m [repeated 32x across cluster]\u001b[0m\n",
      "\u001b[2m\u001b[36m(ClientAppActor pid=1320832)\u001b[0m Epoch 34/100\u001b[32m [repeated 32x across cluster]\u001b[0m\n",
      "\u001b[2m\u001b[36m(ClientAppActor pid=1320832)\u001b[0m Epoch 33: Training accuracy: 83.89423370361328 Testing accuracy: 82.69230651855469.\u001b[32m [repeated 32x across cluster]\u001b[0m\n",
      "\u001b[2m\u001b[36m(ClientAppActor pid=1320832)\u001b[0m \u001b[32m [repeated 43x across cluster]\u001b[0m\n",
      "\u001b[2m\u001b[36m(ClientAppActor pid=1320832)\u001b[0m Epoch 56/100\u001b[32m [repeated 43x across cluster]\u001b[0m\n",
      "\u001b[2m\u001b[36m(ClientAppActor pid=1320832)\u001b[0m Epoch 55: Training accuracy: 84.29486846923828 Testing accuracy: 82.69230651855469.\u001b[32m [repeated 43x across cluster]\u001b[0m\n",
      "\u001b[2m\u001b[36m(ClientAppActor pid=1320832)\u001b[0m \u001b[32m [repeated 17x across cluster]\u001b[0m\n",
      "\u001b[2m\u001b[36m(ClientAppActor pid=1320832)\u001b[0m Epoch 66/100\u001b[32m [repeated 17x across cluster]\u001b[0m\n",
      "\u001b[2m\u001b[36m(ClientAppActor pid=1320832)\u001b[0m Epoch 65: Training accuracy: 84.5352554321289 Testing accuracy: 81.4102554321289.\u001b[32m [repeated 17x across cluster]\u001b[0m\n",
      "\u001b[2m\u001b[36m(ClientAppActor pid=1320835)\u001b[0m \u001b[32m [repeated 15x across cluster]\u001b[0m\n",
      "\u001b[2m\u001b[36m(ClientAppActor pid=1320835)\u001b[0m Epoch 52/100\u001b[32m [repeated 15x across cluster]\u001b[0m\n",
      "\u001b[2m\u001b[36m(ClientAppActor pid=1320835)\u001b[0m Epoch 51: Training accuracy: 82.70957946777344 Testing accuracy: 82.03592681884766.\u001b[32m [repeated 15x across cluster]\u001b[0m\n",
      "\u001b[2m\u001b[36m(ClientAppActor pid=1320832)\u001b[0m \u001b[32m [repeated 17x across cluster]\u001b[0m\n",
      "\u001b[2m\u001b[36m(ClientAppActor pid=1320832)\u001b[0m Epoch 84/100\u001b[32m [repeated 17x across cluster]\u001b[0m\n",
      "\u001b[2m\u001b[36m(ClientAppActor pid=1320832)\u001b[0m Epoch 83: Training accuracy: 84.61538696289062 Testing accuracy: 81.4102554321289.\u001b[32m [repeated 17x across cluster]\u001b[0m\n",
      "\u001b[2m\u001b[36m(ClientAppActor pid=1320835)\u001b[0m \u001b[32m [repeated 15x across cluster]\u001b[0m\n",
      "\u001b[2m\u001b[36m(ClientAppActor pid=1320835)\u001b[0m Epoch 65/100\u001b[32m [repeated 15x across cluster]\u001b[0m\n",
      "\u001b[2m\u001b[36m(ClientAppActor pid=1320835)\u001b[0m Epoch 64: Training accuracy: 83.83233642578125 Testing accuracy: 82.03592681884766.\u001b[32m [repeated 15x across cluster]\u001b[0m\n",
      "\u001b[2m\u001b[36m(ClientAppActor pid=1320832)\u001b[0m \u001b[32m [repeated 18x across cluster]\u001b[0m\n",
      "\u001b[2m\u001b[36m(ClientAppActor pid=1320832)\u001b[0m Epoch 2/100\u001b[32m [repeated 18x across cluster]\u001b[0m\n",
      "\u001b[2m\u001b[36m(ClientAppActor pid=1320832)\u001b[0m Epoch 1: Training accuracy: 82.10059356689453 Testing accuracy: 76.33135986328125.\u001b[32m [repeated 18x across cluster]\u001b[0m\n",
      "\u001b[2m\u001b[36m(ClientAppActor pid=1320832)\u001b[0m \u001b[32m [repeated 23x across cluster]\u001b[0m\n",
      "\u001b[2m\u001b[36m(ClientAppActor pid=1320832)\u001b[0m Epoch 15/100\u001b[32m [repeated 23x across cluster]\u001b[0m\n",
      "\u001b[2m\u001b[36m(ClientAppActor pid=1320832)\u001b[0m Epoch 14: Training accuracy: 83.72781372070312 Testing accuracy: 80.47337341308594.\u001b[32m [repeated 23x across cluster]\u001b[0m\n",
      "\u001b[2m\u001b[36m(ClientAppActor pid=1320835)\u001b[0m \u001b[32m [repeated 25x across cluster]\u001b[0m\n",
      "\u001b[2m\u001b[36m(ClientAppActor pid=1320835)\u001b[0m Epoch 95/100\u001b[32m [repeated 25x across cluster]\u001b[0m\n",
      "\u001b[2m\u001b[36m(ClientAppActor pid=1320835)\u001b[0m Epoch 94: Training accuracy: 82.78443145751953 Testing accuracy: 82.63472747802734.\u001b[32m [repeated 25x across cluster]\u001b[0m\n",
      "\u001b[2m\u001b[36m(ClientAppActor pid=1320832)\u001b[0m \u001b[32m [repeated 22x across cluster]\u001b[0m\n",
      "\u001b[2m\u001b[36m(ClientAppActor pid=1320832)\u001b[0m Epoch 46/100\u001b[32m [repeated 22x across cluster]\u001b[0m\n",
      "\u001b[2m\u001b[36m(ClientAppActor pid=1320832)\u001b[0m Epoch 45: Training accuracy: 82.98816680908203 Testing accuracy: 79.88166046142578.\u001b[32m [repeated 23x across cluster]\u001b[0m\n",
      "\u001b[2m\u001b[36m(ClientAppActor pid=1320832)\u001b[0m \u001b[32m [repeated 9x across cluster]\u001b[0m\n",
      "\u001b[2m\u001b[36m(ClientAppActor pid=1320832)\u001b[0m Epoch 55/100\u001b[32m [repeated 9x across cluster]\u001b[0m\n",
      "\u001b[2m\u001b[36m(ClientAppActor pid=1320832)\u001b[0m Epoch 54: Training accuracy: 83.50592041015625 Testing accuracy: 79.88166046142578.\u001b[32m [repeated 9x across cluster]\u001b[0m\n",
      "\u001b[2m\u001b[36m(ClientAppActor pid=1320832)\u001b[0m \u001b[32m [repeated 10x across cluster]\u001b[0m\n",
      "\u001b[2m\u001b[36m(ClientAppActor pid=1320832)\u001b[0m Epoch 65/100\u001b[32m [repeated 10x across cluster]\u001b[0m\n",
      "\u001b[2m\u001b[36m(ClientAppActor pid=1320832)\u001b[0m Epoch 64: Training accuracy: 83.13609313964844 Testing accuracy: 79.88166046142578.\u001b[32m [repeated 10x across cluster]\u001b[0m\n",
      "\u001b[2m\u001b[36m(ClientAppActor pid=1320832)\u001b[0m \u001b[32m [repeated 8x across cluster]\u001b[0m\n",
      "\u001b[2m\u001b[36m(ClientAppActor pid=1320832)\u001b[0m Epoch 73/100\u001b[32m [repeated 8x across cluster]\u001b[0m\n",
      "\u001b[2m\u001b[36m(ClientAppActor pid=1320832)\u001b[0m Epoch 72: Training accuracy: 83.28402709960938 Testing accuracy: 77.5147933959961.\u001b[32m [repeated 8x across cluster]\u001b[0m\n",
      "\u001b[2m\u001b[36m(ClientAppActor pid=1320832)\u001b[0m \u001b[32m [repeated 9x across cluster]\u001b[0m\n",
      "\u001b[2m\u001b[36m(ClientAppActor pid=1320832)\u001b[0m Epoch 82/100\u001b[32m [repeated 9x across cluster]\u001b[0m\n",
      "\u001b[2m\u001b[36m(ClientAppActor pid=1320832)\u001b[0m Epoch 81: Training accuracy: 83.43195343017578 Testing accuracy: 80.47337341308594.\u001b[32m [repeated 9x across cluster]\u001b[0m\n",
      "\u001b[2m\u001b[36m(ClientAppActor pid=1320832)\u001b[0m \u001b[32m [repeated 8x across cluster]\u001b[0m\n",
      "\u001b[2m\u001b[36m(ClientAppActor pid=1320832)\u001b[0m Epoch 90/100\u001b[32m [repeated 8x across cluster]\u001b[0m\n",
      "\u001b[2m\u001b[36m(ClientAppActor pid=1320832)\u001b[0m Epoch 89: Training accuracy: 82.47041320800781 Testing accuracy: 79.88166046142578.\u001b[32m [repeated 8x across cluster]\u001b[0m\n",
      "\u001b[2m\u001b[36m(ClientAppActor pid=1320832)\u001b[0m \u001b[32m [repeated 8x across cluster]\u001b[0m\n",
      "\u001b[2m\u001b[36m(ClientAppActor pid=1320832)\u001b[0m Epoch 98/100\u001b[32m [repeated 8x across cluster]\u001b[0m\n",
      "\u001b[2m\u001b[36m(ClientAppActor pid=1320832)\u001b[0m Epoch 97: Training accuracy: 83.50592041015625 Testing accuracy: 77.5147933959961.\u001b[32m [repeated 8x across cluster]\u001b[0m\n"
     ]
    },
    {
     "name": "stderr",
     "output_type": "stream",
     "text": [
      "\u001b[92mINFO \u001b[0m:      aggregate_fit: received 3 results and 0 failures\n",
      "\u001b[92mINFO \u001b[0m:      fit progress: (47, 0.05206234346736561, {'accuracy': tensor(73.5336, device='cuda:0')}, 3009.814213597012)\n",
      "\u001b[92mINFO \u001b[0m:      configure_evaluate: strategy sampled 1 clients (out of 3)\n"
     ]
    },
    {
     "name": "stdout",
     "output_type": "stream",
     "text": [
      "Server-side evaluation loss 0.05206234346736561 / accuracy 73.53362274169922\n"
     ]
    },
    {
     "name": "stderr",
     "output_type": "stream",
     "text": [
      "\u001b[92mINFO \u001b[0m:      aggregate_evaluate: received 1 results and 0 failures\n",
      "\u001b[92mINFO \u001b[0m:      \n",
      "\u001b[92mINFO \u001b[0m:      [ROUND 48]\n",
      "\u001b[92mINFO \u001b[0m:      configure_fit: strategy sampled 3 clients (out of 3)\n"
     ]
    },
    {
     "name": "stdout",
     "output_type": "stream",
     "text": [
      "\u001b[2m\u001b[36m(ClientAppActor pid=1320835)\u001b[0m \u001b[32m [repeated 12x across cluster]\u001b[0m\n",
      "\u001b[2m\u001b[36m(ClientAppActor pid=1320835)\u001b[0m Epoch 5/100\u001b[32m [repeated 12x across cluster]\u001b[0m\n",
      "\u001b[2m\u001b[36m(ClientAppActor pid=1320835)\u001b[0m Epoch 4: Training accuracy: 83.33333587646484 Testing accuracy: 82.69230651855469.\u001b[32m [repeated 11x across cluster]\u001b[0m\n",
      "\u001b[2m\u001b[36m(ClientAppActor pid=1320832)\u001b[0m \u001b[32m [repeated 20x across cluster]\u001b[0m\n",
      "\u001b[2m\u001b[36m(ClientAppActor pid=1320832)\u001b[0m Epoch 16/100\u001b[32m [repeated 20x across cluster]\u001b[0m\n",
      "\u001b[2m\u001b[36m(ClientAppActor pid=1320832)\u001b[0m Epoch 15: Training accuracy: 83.5329360961914 Testing accuracy: 81.43712615966797.\u001b[32m [repeated 20x across cluster]\u001b[0m\n",
      "\u001b[2m\u001b[36m(ClientAppActor pid=1320832)\u001b[0m \u001b[32m [repeated 26x across cluster]\u001b[0m\n",
      "\u001b[2m\u001b[36m(ClientAppActor pid=1320832)\u001b[0m Epoch 33/100\u001b[32m [repeated 26x across cluster]\u001b[0m\n",
      "\u001b[2m\u001b[36m(ClientAppActor pid=1320832)\u001b[0m Epoch 32: Training accuracy: 84.28144073486328 Testing accuracy: 84.43113708496094.\u001b[32m [repeated 26x across cluster]\u001b[0m\n",
      "\u001b[2m\u001b[36m(ClientAppActor pid=1320835)\u001b[0m \u001b[32m [repeated 27x across cluster]\u001b[0m\n",
      "\u001b[2m\u001b[36m(ClientAppActor pid=1320835)\u001b[0m Epoch 32/100\u001b[32m [repeated 27x across cluster]\u001b[0m\n",
      "\u001b[2m\u001b[36m(ClientAppActor pid=1320835)\u001b[0m Epoch 31: Training accuracy: 80.92948913574219 Testing accuracy: 78.20513153076172.\u001b[32m [repeated 27x across cluster]\u001b[0m\n",
      "\u001b[2m\u001b[36m(ClientAppActor pid=1320832)\u001b[0m \u001b[32m [repeated 92x across cluster]\u001b[0m\n",
      "\u001b[2m\u001b[36m(ClientAppActor pid=1320832)\u001b[0m Epoch 34/100\u001b[32m [repeated 92x across cluster]\u001b[0m\n",
      "\u001b[2m\u001b[36m(ClientAppActor pid=1320832)\u001b[0m Epoch 33: Training accuracy: 83.50592041015625 Testing accuracy: 80.47337341308594.\u001b[32m [repeated 92x across cluster]\u001b[0m\n",
      "\u001b[2m\u001b[36m(ClientAppActor pid=1320835)\u001b[0m \u001b[32m [repeated 103x across cluster]\u001b[0m\n",
      "\u001b[2m\u001b[36m(ClientAppActor pid=1320835)\u001b[0m Epoch 78/100\u001b[32m [repeated 103x across cluster]\u001b[0m\n",
      "\u001b[2m\u001b[36m(ClientAppActor pid=1320835)\u001b[0m Epoch 77: Training accuracy: 84.2147445678711 Testing accuracy: 81.4102554321289.\u001b[32m [repeated 104x across cluster]\u001b[0m\n"
     ]
    },
    {
     "name": "stderr",
     "output_type": "stream",
     "text": [
      "\u001b[92mINFO \u001b[0m:      aggregate_fit: received 3 results and 0 failures\n",
      "\u001b[92mINFO \u001b[0m:      fit progress: (48, 0.050535879351876, {'accuracy': tensor(74.5350, device='cuda:0')}, 3042.7891780680075)\n",
      "\u001b[92mINFO \u001b[0m:      configure_evaluate: strategy sampled 1 clients (out of 3)\n"
     ]
    },
    {
     "name": "stdout",
     "output_type": "stream",
     "text": [
      "Server-side evaluation loss 0.050535879351876 / accuracy 74.53504943847656\n"
     ]
    },
    {
     "name": "stderr",
     "output_type": "stream",
     "text": [
      "\u001b[92mINFO \u001b[0m:      aggregate_evaluate: received 1 results and 0 failures\n",
      "\u001b[92mINFO \u001b[0m:      \n",
      "\u001b[92mINFO \u001b[0m:      [ROUND 49]\n",
      "\u001b[92mINFO \u001b[0m:      configure_fit: strategy sampled 3 clients (out of 3)\n"
     ]
    },
    {
     "name": "stdout",
     "output_type": "stream",
     "text": [
      "\u001b[2m\u001b[36m(ClientAppActor pid=1320835)\u001b[0m \u001b[32m [repeated 28x across cluster]\u001b[0m\n",
      "\u001b[2m\u001b[36m(ClientAppActor pid=1320835)\u001b[0m Epoch 3/100\u001b[32m [repeated 28x across cluster]\u001b[0m\n",
      "\u001b[2m\u001b[36m(ClientAppActor pid=1320835)\u001b[0m Epoch 2: Training accuracy: 83.25320434570312 Testing accuracy: 81.4102554321289.\u001b[32m [repeated 27x across cluster]\u001b[0m\n",
      "\u001b[2m\u001b[36m(ClientAppActor pid=1320832)\u001b[0m \u001b[32m [repeated 44x across cluster]\u001b[0m\n",
      "\u001b[2m\u001b[36m(ClientAppActor pid=1320832)\u001b[0m Epoch 29/100\u001b[32m [repeated 44x across cluster]\u001b[0m\n",
      "\u001b[2m\u001b[36m(ClientAppActor pid=1320832)\u001b[0m Epoch 28: Training accuracy: 83.83233642578125 Testing accuracy: 84.43113708496094.\u001b[32m [repeated 44x across cluster]\u001b[0m\n",
      "\u001b[2m\u001b[36m(ClientAppActor pid=1320832)\u001b[0m \u001b[32m [repeated 35x across cluster]\u001b[0m\n",
      "\u001b[2m\u001b[36m(ClientAppActor pid=1320832)\u001b[0m Epoch 44/100\u001b[32m [repeated 35x across cluster]\u001b[0m\n",
      "\u001b[2m\u001b[36m(ClientAppActor pid=1320832)\u001b[0m Epoch 43: Training accuracy: 83.38323211669922 Testing accuracy: 80.23951721191406.\u001b[32m [repeated 35x across cluster]\u001b[0m\n",
      "\u001b[2m\u001b[36m(ClientAppActor pid=1320835)\u001b[0m \u001b[32m [repeated 16x across cluster]\u001b[0m\n",
      "\u001b[2m\u001b[36m(ClientAppActor pid=1320835)\u001b[0m Epoch 48/100\u001b[32m [repeated 16x across cluster]\u001b[0m\n",
      "\u001b[2m\u001b[36m(ClientAppActor pid=1320835)\u001b[0m Epoch 47: Training accuracy: 84.69551086425781 Testing accuracy: 81.4102554321289.\u001b[32m [repeated 16x across cluster]\u001b[0m\n",
      "\u001b[2m\u001b[36m(ClientAppActor pid=1320832)\u001b[0m \u001b[32m [repeated 16x across cluster]\u001b[0m\n",
      "\u001b[2m\u001b[36m(ClientAppActor pid=1320832)\u001b[0m Epoch 62/100\u001b[32m [repeated 16x across cluster]\u001b[0m\n",
      "\u001b[2m\u001b[36m(ClientAppActor pid=1320832)\u001b[0m Epoch 61: Training accuracy: 84.056884765625 Testing accuracy: 82.63472747802734.\u001b[32m [repeated 16x across cluster]\u001b[0m\n",
      "\u001b[2m\u001b[36m(ClientAppActor pid=1320835)\u001b[0m \u001b[32m [repeated 15x across cluster]\u001b[0m\n",
      "\u001b[2m\u001b[36m(ClientAppActor pid=1320835)\u001b[0m Epoch 62/100\u001b[32m [repeated 15x across cluster]\u001b[0m\n",
      "\u001b[2m\u001b[36m(ClientAppActor pid=1320835)\u001b[0m Epoch 61: Training accuracy: 84.5352554321289 Testing accuracy: 83.33333587646484.\u001b[32m [repeated 15x across cluster]\u001b[0m\n",
      "\u001b[2m\u001b[36m(ClientAppActor pid=1320832)\u001b[0m \u001b[32m [repeated 17x across cluster]\u001b[0m\n",
      "\u001b[2m\u001b[36m(ClientAppActor pid=1320832)\u001b[0m Epoch 80/100\u001b[32m [repeated 17x across cluster]\u001b[0m\n",
      "\u001b[2m\u001b[36m(ClientAppActor pid=1320832)\u001b[0m Epoch 79: Training accuracy: 83.75748443603516 Testing accuracy: 84.43113708496094.\u001b[32m [repeated 17x across cluster]\u001b[0m\n",
      "\u001b[2m\u001b[36m(ClientAppActor pid=1320832)\u001b[0m \u001b[32m [repeated 14x across cluster]\u001b[0m\n",
      "\u001b[2m\u001b[36m(ClientAppActor pid=1320832)\u001b[0m Epoch 88/100\u001b[32m [repeated 14x across cluster]\u001b[0m\n",
      "\u001b[2m\u001b[36m(ClientAppActor pid=1320832)\u001b[0m Epoch 87: Training accuracy: 84.056884765625 Testing accuracy: 82.03592681884766.\u001b[32m [repeated 14x across cluster]\u001b[0m\n",
      "\u001b[2m\u001b[36m(ClientAppActor pid=1320835)\u001b[0m \u001b[32m [repeated 17x across cluster]\u001b[0m\n",
      "\u001b[2m\u001b[36m(ClientAppActor pid=1320835)\u001b[0m Epoch 83/100\u001b[32m [repeated 17x across cluster]\u001b[0m\n",
      "\u001b[2m\u001b[36m(ClientAppActor pid=1320835)\u001b[0m Epoch 82: Training accuracy: 84.93589782714844 Testing accuracy: 82.69230651855469.\u001b[32m [repeated 17x across cluster]\u001b[0m\n",
      "\u001b[2m\u001b[36m(ClientAppActor pid=1320832)\u001b[0m \u001b[32m [repeated 15x across cluster]\u001b[0m\n",
      "\u001b[2m\u001b[36m(ClientAppActor pid=1320832)\u001b[0m Epoch 6/100\u001b[32m [repeated 15x across cluster]\u001b[0m\n",
      "\u001b[2m\u001b[36m(ClientAppActor pid=1320832)\u001b[0m Epoch 5: Training accuracy: 83.50592041015625 Testing accuracy: 79.2899398803711.\u001b[32m [repeated 15x across cluster]\u001b[0m\n",
      "\u001b[2m\u001b[36m(ClientAppActor pid=1320835)\u001b[0m \u001b[32m [repeated 15x across cluster]\u001b[0m\n",
      "\u001b[2m\u001b[36m(ClientAppActor pid=1320835)\u001b[0m Epoch 97/100\u001b[32m [repeated 15x across cluster]\u001b[0m\n",
      "\u001b[2m\u001b[36m(ClientAppActor pid=1320835)\u001b[0m Epoch 96: Training accuracy: 84.45513153076172 Testing accuracy: 82.69230651855469.\u001b[32m [repeated 15x across cluster]\u001b[0m\n",
      "\u001b[2m\u001b[36m(ClientAppActor pid=1320832)\u001b[0m \u001b[32m [repeated 16x across cluster]\u001b[0m\n",
      "\u001b[2m\u001b[36m(ClientAppActor pid=1320832)\u001b[0m Epoch 26/100\u001b[32m [repeated 16x across cluster]\u001b[0m\n",
      "\u001b[2m\u001b[36m(ClientAppActor pid=1320832)\u001b[0m Epoch 25: Training accuracy: 83.13609313964844 Testing accuracy: 80.47337341308594.\u001b[32m [repeated 17x across cluster]\u001b[0m\n",
      "\u001b[2m\u001b[36m(ClientAppActor pid=1320832)\u001b[0m \u001b[32m [repeated 13x across cluster]\u001b[0m\n",
      "\u001b[2m\u001b[36m(ClientAppActor pid=1320832)\u001b[0m Epoch 39/100\u001b[32m [repeated 13x across cluster]\u001b[0m\n",
      "\u001b[2m\u001b[36m(ClientAppActor pid=1320832)\u001b[0m Epoch 38: Training accuracy: 83.87574005126953 Testing accuracy: 79.88166046142578.\u001b[32m [repeated 13x across cluster]\u001b[0m\n",
      "\u001b[2m\u001b[36m(ClientAppActor pid=1320832)\u001b[0m \u001b[32m [repeated 29x across cluster]\u001b[0m\n",
      "\u001b[2m\u001b[36m(ClientAppActor pid=1320832)\u001b[0m Epoch 68/100\u001b[32m [repeated 29x across cluster]\u001b[0m\n",
      "\u001b[2m\u001b[36m(ClientAppActor pid=1320832)\u001b[0m Epoch 67: Training accuracy: 83.57987976074219 Testing accuracy: 80.47337341308594.\u001b[32m [repeated 29x across cluster]\u001b[0m\n",
      "\u001b[2m\u001b[36m(ClientAppActor pid=1320832)\u001b[0m \u001b[32m [repeated 16x across cluster]\u001b[0m\n",
      "\u001b[2m\u001b[36m(ClientAppActor pid=1320832)\u001b[0m Epoch 84/100\u001b[32m [repeated 16x across cluster]\u001b[0m\n",
      "\u001b[2m\u001b[36m(ClientAppActor pid=1320832)\u001b[0m Epoch 83: Training accuracy: 82.17455291748047 Testing accuracy: 79.2899398803711.\u001b[32m [repeated 16x across cluster]\u001b[0m\n",
      "\u001b[2m\u001b[36m(ClientAppActor pid=1320832)\u001b[0m \u001b[32m [repeated 13x across cluster]\u001b[0m\n",
      "\u001b[2m\u001b[36m(ClientAppActor pid=1320832)\u001b[0m Epoch 97/100\u001b[32m [repeated 13x across cluster]\u001b[0m\n",
      "\u001b[2m\u001b[36m(ClientAppActor pid=1320832)\u001b[0m Epoch 96: Training accuracy: 83.50592041015625 Testing accuracy: 80.47337341308594.\u001b[32m [repeated 13x across cluster]\u001b[0m\n"
     ]
    },
    {
     "name": "stderr",
     "output_type": "stream",
     "text": [
      "\u001b[92mINFO \u001b[0m:      aggregate_fit: received 3 results and 0 failures\n",
      "\u001b[92mINFO \u001b[0m:      fit progress: (49, 0.0514152700250799, {'accuracy': tensor(74.2489, device='cuda:0')}, 3125.01084865701)\n",
      "\u001b[92mINFO \u001b[0m:      configure_evaluate: strategy sampled 1 clients (out of 3)\n",
      "\u001b[92mINFO \u001b[0m:      aggregate_evaluate: received 1 results and 0 failures\n",
      "\u001b[92mINFO \u001b[0m:      \n",
      "\u001b[92mINFO \u001b[0m:      [ROUND 50]\n",
      "\u001b[92mINFO \u001b[0m:      configure_fit: strategy sampled 3 clients (out of 3)\n"
     ]
    },
    {
     "name": "stdout",
     "output_type": "stream",
     "text": [
      "Server-side evaluation loss 0.0514152700250799 / accuracy 74.2489242553711\n",
      "\u001b[2m\u001b[36m(ClientAppActor pid=1320832)\u001b[0m \u001b[32m [repeated 16x across cluster]\u001b[0m\n",
      "\u001b[2m\u001b[36m(ClientAppActor pid=1320832)\u001b[0m Epoch 9/100\u001b[32m [repeated 16x across cluster]\u001b[0m\n",
      "\u001b[2m\u001b[36m(ClientAppActor pid=1320832)\u001b[0m Epoch 8: Training accuracy: 83.65384674072266 Testing accuracy: 80.47337341308594.\u001b[32m [repeated 15x across cluster]\u001b[0m\n",
      "\u001b[2m\u001b[36m(ClientAppActor pid=1320832)\u001b[0m \u001b[32m [repeated 25x across cluster]\u001b[0m\n",
      "\u001b[2m\u001b[36m(ClientAppActor pid=1320832)\u001b[0m Epoch 28/100\u001b[32m [repeated 25x across cluster]\u001b[0m\n",
      "\u001b[2m\u001b[36m(ClientAppActor pid=1320832)\u001b[0m Epoch 27: Training accuracy: 82.98816680908203 Testing accuracy: 79.2899398803711.\u001b[32m [repeated 25x across cluster]\u001b[0m\n",
      "\u001b[2m\u001b[36m(ClientAppActor pid=1320832)\u001b[0m \u001b[32m [repeated 28x across cluster]\u001b[0m\n",
      "\u001b[2m\u001b[36m(ClientAppActor pid=1320832)\u001b[0m Epoch 48/100\u001b[32m [repeated 28x across cluster]\u001b[0m\n",
      "\u001b[2m\u001b[36m(ClientAppActor pid=1320832)\u001b[0m Epoch 47: Training accuracy: 83.87574005126953 Testing accuracy: 81.0650863647461.\u001b[32m [repeated 28x across cluster]\u001b[0m\n",
      "\u001b[2m\u001b[36m(ClientAppActor pid=1320832)\u001b[0m \u001b[32m [repeated 28x across cluster]\u001b[0m\n",
      "\u001b[2m\u001b[36m(ClientAppActor pid=1320832)\u001b[0m Epoch 67/100\u001b[32m [repeated 28x across cluster]\u001b[0m\n",
      "\u001b[2m\u001b[36m(ClientAppActor pid=1320832)\u001b[0m Epoch 66: Training accuracy: 83.87574005126953 Testing accuracy: 81.0650863647461.\u001b[32m [repeated 28x across cluster]\u001b[0m\n",
      "\u001b[2m\u001b[36m(ClientAppActor pid=1320835)\u001b[0m \u001b[32m [repeated 32x across cluster]\u001b[0m\n",
      "\u001b[2m\u001b[36m(ClientAppActor pid=1320835)\u001b[0m Epoch 40/100\u001b[32m [repeated 32x across cluster]\u001b[0m\n",
      "\u001b[2m\u001b[36m(ClientAppActor pid=1320835)\u001b[0m Epoch 39: Training accuracy: 82.69230651855469 Testing accuracy: 81.4102554321289.\u001b[32m [repeated 32x across cluster]\u001b[0m\n",
      "\u001b[2m\u001b[36m(ClientAppActor pid=1320835)\u001b[0m \u001b[32m [repeated 36x across cluster]\u001b[0m\n",
      "\u001b[2m\u001b[36m(ClientAppActor pid=1320835)\u001b[0m Epoch 59/100\u001b[32m [repeated 36x across cluster]\u001b[0m\n",
      "\u001b[2m\u001b[36m(ClientAppActor pid=1320835)\u001b[0m Epoch 58: Training accuracy: 83.97435760498047 Testing accuracy: 82.69230651855469.\u001b[32m [repeated 36x across cluster]\u001b[0m\n",
      "\u001b[2m\u001b[36m(ClientAppActor pid=1320832)\u001b[0m \u001b[32m [repeated 22x across cluster]\u001b[0m\n",
      "\u001b[2m\u001b[36m(ClientAppActor pid=1320832)\u001b[0m Epoch 17/100\u001b[32m [repeated 22x across cluster]\u001b[0m\n",
      "\u001b[2m\u001b[36m(ClientAppActor pid=1320832)\u001b[0m Epoch 16: Training accuracy: 82.93413543701172 Testing accuracy: 82.63472747802734.\u001b[32m [repeated 22x across cluster]\u001b[0m\n",
      "\u001b[2m\u001b[36m(ClientAppActor pid=1320835)\u001b[0m \u001b[32m [repeated 25x across cluster]\u001b[0m\n",
      "\u001b[2m\u001b[36m(ClientAppActor pid=1320835)\u001b[0m Epoch 78/100\u001b[32m [repeated 25x across cluster]\u001b[0m\n",
      "\u001b[2m\u001b[36m(ClientAppActor pid=1320835)\u001b[0m Epoch 77: Training accuracy: 83.81410217285156 Testing accuracy: 82.05128479003906.\u001b[32m [repeated 25x across cluster]\u001b[0m\n",
      "\u001b[2m\u001b[36m(ClientAppActor pid=1320832)\u001b[0m \u001b[32m [repeated 25x across cluster]\u001b[0m\n",
      "\u001b[2m\u001b[36m(ClientAppActor pid=1320832)\u001b[0m Epoch 46/100\u001b[32m [repeated 25x across cluster]\u001b[0m\n",
      "\u001b[2m\u001b[36m(ClientAppActor pid=1320832)\u001b[0m Epoch 45: Training accuracy: 84.20658874511719 Testing accuracy: 83.83233642578125.\u001b[32m [repeated 25x across cluster]\u001b[0m\n",
      "\u001b[2m\u001b[36m(ClientAppActor pid=1320835)\u001b[0m \u001b[32m [repeated 26x across cluster]\u001b[0m\n",
      "\u001b[2m\u001b[36m(ClientAppActor pid=1320835)\u001b[0m Epoch 99/100\u001b[32m [repeated 26x across cluster]\u001b[0m\n",
      "\u001b[2m\u001b[36m(ClientAppActor pid=1320835)\u001b[0m Epoch 98: Training accuracy: 84.29486846923828 Testing accuracy: 83.33333587646484.\u001b[32m [repeated 26x across cluster]\u001b[0m\n",
      "\u001b[2m\u001b[36m(ClientAppActor pid=1320832)\u001b[0m \u001b[32m [repeated 12x across cluster]\u001b[0m\n",
      "\u001b[2m\u001b[36m(ClientAppActor pid=1320832)\u001b[0m Epoch 72/100\u001b[32m [repeated 12x across cluster]\u001b[0m\n",
      "\u001b[2m\u001b[36m(ClientAppActor pid=1320832)\u001b[0m Epoch 71: Training accuracy: 83.45808410644531 Testing accuracy: 83.23353576660156.\u001b[32m [repeated 13x across cluster]\u001b[0m\n",
      "\u001b[2m\u001b[36m(ClientAppActor pid=1320832)\u001b[0m \u001b[32m [repeated 10x across cluster]\u001b[0m\n",
      "\u001b[2m\u001b[36m(ClientAppActor pid=1320832)\u001b[0m Epoch 82/100\u001b[32m [repeated 10x across cluster]\u001b[0m\n",
      "\u001b[2m\u001b[36m(ClientAppActor pid=1320832)\u001b[0m Epoch 81: Training accuracy: 83.45808410644531 Testing accuracy: 83.23353576660156.\u001b[32m [repeated 10x across cluster]\u001b[0m\n",
      "\u001b[2m\u001b[36m(ClientAppActor pid=1320832)\u001b[0m \u001b[32m [repeated 8x across cluster]\u001b[0m\n",
      "\u001b[2m\u001b[36m(ClientAppActor pid=1320832)\u001b[0m Epoch 90/100\u001b[32m [repeated 8x across cluster]\u001b[0m\n",
      "\u001b[2m\u001b[36m(ClientAppActor pid=1320832)\u001b[0m Epoch 89: Training accuracy: 84.056884765625 Testing accuracy: 80.83832550048828.\u001b[32m [repeated 8x across cluster]\u001b[0m\n",
      "\u001b[2m\u001b[36m(ClientAppActor pid=1320832)\u001b[0m \u001b[32m [repeated 9x across cluster]\u001b[0m\n",
      "\u001b[2m\u001b[36m(ClientAppActor pid=1320832)\u001b[0m Epoch 99/100\u001b[32m [repeated 9x across cluster]\u001b[0m\n",
      "\u001b[2m\u001b[36m(ClientAppActor pid=1320832)\u001b[0m Epoch 98: Training accuracy: 84.056884765625 Testing accuracy: 82.63472747802734.\u001b[32m [repeated 9x across cluster]\u001b[0m\n"
     ]
    },
    {
     "name": "stderr",
     "output_type": "stream",
     "text": [
      "\u001b[92mINFO \u001b[0m:      aggregate_fit: received 3 results and 0 failures\n",
      "\u001b[92mINFO \u001b[0m:      fit progress: (50, 0.05191062255339189, {'accuracy': tensor(74.3920, device='cuda:0')}, 3197.268667084005)\n",
      "\u001b[92mINFO \u001b[0m:      configure_evaluate: strategy sampled 1 clients (out of 3)\n"
     ]
    },
    {
     "name": "stdout",
     "output_type": "stream",
     "text": [
      "Server-side evaluation loss 0.05191062255339189 / accuracy 74.3919906616211\n"
     ]
    },
    {
     "name": "stderr",
     "output_type": "stream",
     "text": [
      "\u001b[92mINFO \u001b[0m:      aggregate_evaluate: received 1 results and 0 failures\n",
      "\u001b[92mINFO \u001b[0m:      \n",
      "\u001b[92mINFO \u001b[0m:      [SUMMARY]\n",
      "\u001b[92mINFO \u001b[0m:      Run finished 50 rounds in 3197.53s\n",
      "\u001b[92mINFO \u001b[0m:      History (loss, distributed):\n",
      "\u001b[92mINFO \u001b[0m:      \t('\\tround 1: 0.23083442449569702\\n'\n",
      "\u001b[92mINFO \u001b[0m:      \t '\\tround 2: 0.20127719640731812\\n'\n",
      "\u001b[92mINFO \u001b[0m:      \t '\\tround 3: 0.20055818557739258\\n'\n",
      "\u001b[92mINFO \u001b[0m:      \t '\\tround 4: 0.17841384808222452\\n'\n",
      "\u001b[92mINFO \u001b[0m:      \t '\\tround 5: 0.18777557214101157\\n'\n",
      "\u001b[92mINFO \u001b[0m:      \t '\\tround 6: 0.18129841486612955\\n'\n",
      "\u001b[92mINFO \u001b[0m:      \t '\\tround 7: 0.20011687278747559\\n'\n",
      "\u001b[92mINFO \u001b[0m:      \t '\\tround 8: 0.18046677112579346\\n'\n",
      "\u001b[92mINFO \u001b[0m:      \t '\\tround 9: 0.18995060523351034\\n'\n",
      "\u001b[92mINFO \u001b[0m:      \t '\\tround 10: 0.2063706119855245\\n'\n",
      "\u001b[92mINFO \u001b[0m:      \t '\\tround 11: 0.19106815258661905\\n'\n",
      "\u001b[92mINFO \u001b[0m:      \t '\\tround 12: 0.19304420550664267\\n'\n",
      "\u001b[92mINFO \u001b[0m:      \t '\\tround 13: 0.18483700354894003\\n'\n",
      "\u001b[92mINFO \u001b[0m:      \t '\\tround 14: 0.17825575669606528\\n'\n",
      "\u001b[92mINFO \u001b[0m:      \t '\\tround 15: 0.22071093320846558\\n'\n",
      "\u001b[92mINFO \u001b[0m:      \t '\\tround 16: 0.17148437102635702\\n'\n",
      "\u001b[92mINFO \u001b[0m:      \t '\\tround 17: 0.19680807987848917\\n'\n",
      "\u001b[92mINFO \u001b[0m:      \t '\\tround 18: 0.20967362324396768\\n'\n",
      "\u001b[92mINFO \u001b[0m:      \t '\\tround 19: 0.18460291624069214\\n'\n",
      "\u001b[92mINFO \u001b[0m:      \t '\\tround 20: 0.18219848473866782\\n'\n",
      "\u001b[92mINFO \u001b[0m:      \t '\\tround 21: 0.20116998751958212\\n'\n",
      "\u001b[92mINFO \u001b[0m:      \t '\\tround 22: 0.1847629944483439\\n'\n",
      "\u001b[92mINFO \u001b[0m:      \t '\\tround 23: 0.1655618647734324\\n'\n",
      "\u001b[92mINFO \u001b[0m:      \t '\\tround 24: 0.15889239311218262\\n'\n",
      "\u001b[92mINFO \u001b[0m:      \t '\\tround 25: 0.17675807078679404\\n'\n",
      "\u001b[92mINFO \u001b[0m:      \t '\\tround 26: 0.21309820810953775\\n'\n",
      "\u001b[92mINFO \u001b[0m:      \t '\\tround 27: 0.18309712409973145\\n'\n",
      "\u001b[92mINFO \u001b[0m:      \t '\\tround 28: 0.1899617314338684\\n'\n",
      "\u001b[92mINFO \u001b[0m:      \t '\\tround 29: 0.18252980709075928\\n'\n",
      "\u001b[92mINFO \u001b[0m:      \t '\\tround 30: 0.18283957242965698\\n'\n",
      "\u001b[92mINFO \u001b[0m:      \t '\\tround 31: 0.17691383759180704\\n'\n",
      "\u001b[92mINFO \u001b[0m:      \t '\\tround 32: 0.20088589191436768\\n'\n",
      "\u001b[92mINFO \u001b[0m:      \t '\\tround 33: 0.17558548847834268\\n'\n",
      "\u001b[92mINFO \u001b[0m:      \t '\\tround 34: 0.1795718272527059\\n'\n",
      "\u001b[92mINFO \u001b[0m:      \t '\\tround 35: 0.16702834765116373\\n'\n",
      "\u001b[92mINFO \u001b[0m:      \t '\\tround 36: 0.19728481769561768\\n'\n",
      "\u001b[92mINFO \u001b[0m:      \t '\\tround 37: 0.16396531462669373\\n'\n",
      "\u001b[92mINFO \u001b[0m:      \t '\\tround 38: 0.17082075277964273\\n'\n",
      "\u001b[92mINFO \u001b[0m:      \t '\\tround 39: 0.16202229261398315\\n'\n",
      "\u001b[92mINFO \u001b[0m:      \t '\\tround 40: 0.2300028602282206\\n'\n",
      "\u001b[92mINFO \u001b[0m:      \t '\\tround 41: 0.19462881485621134\\n'\n",
      "\u001b[92mINFO \u001b[0m:      \t '\\tround 42: 0.20132140318552652\\n'\n",
      "\u001b[92mINFO \u001b[0m:      \t '\\tround 43: 0.16095741589864096\\n'\n",
      "\u001b[92mINFO \u001b[0m:      \t '\\tround 44: 0.18823872009913126\\n'\n",
      "\u001b[92mINFO \u001b[0m:      \t '\\tround 45: 0.175018310546875\\n'\n",
      "\u001b[92mINFO \u001b[0m:      \t '\\tround 46: 0.19206376870473227\\n'\n",
      "\u001b[92mINFO \u001b[0m:      \t '\\tround 47: 0.2215070923169454\\n'\n",
      "\u001b[92mINFO \u001b[0m:      \t '\\tround 48: 0.18433701992034912\\n'\n",
      "\u001b[92mINFO \u001b[0m:      \t '\\tround 49: 0.22131709257761636\\n'\n",
      "\u001b[92mINFO \u001b[0m:      \t '\\tround 50: 0.17872210343678793\\n')History (loss, centralized):\n",
      "\u001b[92mINFO \u001b[0m:      \t('\\tround 0: 0.07164897701957008\\n'\n",
      "\u001b[92mINFO \u001b[0m:      \t '\\tround 1: 0.06294957074252042\\n'\n",
      "\u001b[92mINFO \u001b[0m:      \t '\\tround 2: 0.06119682030244307\\n'\n",
      "\u001b[92mINFO \u001b[0m:      \t '\\tround 3: 0.05127310752868652\\n'\n",
      "\u001b[92mINFO \u001b[0m:      \t '\\tround 4: 0.05180619521574541\\n'\n",
      "\u001b[92mINFO \u001b[0m:      \t '\\tround 5: 0.051353227008472786\\n'\n",
      "\u001b[92mINFO \u001b[0m:      \t '\\tround 6: 0.052127702669663864\\n'\n",
      "\u001b[92mINFO \u001b[0m:      \t '\\tround 7: 0.05120925469831987\\n'\n",
      "\u001b[92mINFO \u001b[0m:      \t '\\tround 8: 0.0529342998157848\\n'\n",
      "\u001b[92mINFO \u001b[0m:      \t '\\tround 9: 0.05181828954003074\\n'\n",
      "\u001b[92mINFO \u001b[0m:      \t '\\tround 10: 0.05141327056017789\\n'\n",
      "\u001b[92mINFO \u001b[0m:      \t '\\tround 11: 0.05465036088770086\\n'\n",
      "\u001b[92mINFO \u001b[0m:      \t '\\tround 12: 0.05211189660159024\\n'\n",
      "\u001b[92mINFO \u001b[0m:      \t '\\tround 13: 0.05256367813457142\\n'\n",
      "\u001b[92mINFO \u001b[0m:      \t '\\tround 14: 0.05147582292556763\\n'\n",
      "\u001b[92mINFO \u001b[0m:      \t '\\tround 15: 0.050865335897965866\\n'\n",
      "\u001b[92mINFO \u001b[0m:      \t '\\tround 16: 0.05288088321685791\\n'\n",
      "\u001b[92mINFO \u001b[0m:      \t '\\tround 17: 0.050418485294688835\\n'\n",
      "\u001b[92mINFO \u001b[0m:      \t '\\tround 18: 0.0500967719338157\\n'\n",
      "\u001b[92mINFO \u001b[0m:      \t '\\tround 19: 0.049483624371615326\\n'\n",
      "\u001b[92mINFO \u001b[0m:      \t '\\tround 20: 0.052069008350372314\\n'\n",
      "\u001b[92mINFO \u001b[0m:      \t '\\tround 21: 0.049415360797535286\\n'\n",
      "\u001b[92mINFO \u001b[0m:      \t '\\tround 22: 0.051423257047479805\\n'\n",
      "\u001b[92mINFO \u001b[0m:      \t '\\tround 23: 0.049809802662242546\\n'\n",
      "\u001b[92mINFO \u001b[0m:      \t '\\tround 24: 0.050911041823300446\\n'\n",
      "\u001b[92mINFO \u001b[0m:      \t '\\tround 25: 0.050854135643352165\\n'\n",
      "\u001b[92mINFO \u001b[0m:      \t '\\tround 26: 0.05087241259488193\\n'\n",
      "\u001b[92mINFO \u001b[0m:      \t '\\tround 27: 0.05028225075114857\\n'\n",
      "\u001b[92mINFO \u001b[0m:      \t '\\tround 28: 0.050702907822348854\\n'\n",
      "\u001b[92mINFO \u001b[0m:      \t '\\tround 29: 0.050017243081873115\\n'\n",
      "\u001b[92mINFO \u001b[0m:      \t '\\tround 30: 0.050575445998798714\\n'\n",
      "\u001b[92mINFO \u001b[0m:      \t '\\tround 31: 0.04912340099161321\\n'\n",
      "\u001b[92mINFO \u001b[0m:      \t '\\tround 32: 0.051216743209145286\\n'\n",
      "\u001b[92mINFO \u001b[0m:      \t '\\tround 33: 0.050502218983390114\\n'\n",
      "\u001b[92mINFO \u001b[0m:      \t '\\tround 34: 0.05016846006566828\\n'\n",
      "\u001b[92mINFO \u001b[0m:      \t '\\tround 35: 0.050382895903153854\\n'\n",
      "\u001b[92mINFO \u001b[0m:      \t '\\tround 36: 0.05038895390250466\\n'\n",
      "\u001b[92mINFO \u001b[0m:      \t '\\tround 37: 0.050287355076182975\\n'\n",
      "\u001b[92mINFO \u001b[0m:      \t '\\tround 38: 0.051440417766571045\\n'\n",
      "\u001b[92mINFO \u001b[0m:      \t '\\tround 39: 0.05039700594815341\\n'\n",
      "\u001b[92mINFO \u001b[0m:      \t '\\tround 40: 0.05254243178801103\\n'\n",
      "\u001b[92mINFO \u001b[0m:      \t '\\tround 41: 0.04973528060046109\\n'\n",
      "\u001b[92mINFO \u001b[0m:      \t '\\tround 42: 0.05090774731202559\\n'\n",
      "\u001b[92mINFO \u001b[0m:      \t '\\tround 43: 0.05164336074482311\\n'\n",
      "\u001b[92mINFO \u001b[0m:      \t '\\tround 44: 0.05203267661007968\\n'\n",
      "\u001b[92mINFO \u001b[0m:      \t '\\tround 45: 0.051673022183504974\\n'\n",
      "\u001b[92mINFO \u001b[0m:      \t '\\tround 46: 0.05110109394246882\\n'\n",
      "\u001b[92mINFO \u001b[0m:      \t '\\tround 47: 0.05206234346736561\\n'\n",
      "\u001b[92mINFO \u001b[0m:      \t '\\tround 48: 0.050535879351876\\n'\n",
      "\u001b[92mINFO \u001b[0m:      \t '\\tround 49: 0.0514152700250799\\n'\n",
      "\u001b[92mINFO \u001b[0m:      \t '\\tround 50: 0.05191062255339189\\n')History (metrics, distributed, evaluate):\n",
      "\u001b[92mINFO \u001b[0m:      \t{'accuracy': [(1, 56.80473327636719),\n",
      "\u001b[92mINFO \u001b[0m:      \t              (2, 58.33333206176758),\n",
      "\u001b[92mINFO \u001b[0m:      \t              (3, 67.45561981201172),\n",
      "\u001b[92mINFO \u001b[0m:      \t              (4, 69.23076629638672),\n",
      "\u001b[92mINFO \u001b[0m:      \t              (5, 67.6646728515625),\n",
      "\u001b[92mINFO \u001b[0m:      \t              (6, 76.6467056274414),\n",
      "\u001b[92mINFO \u001b[0m:      \t              (7, 79.04191589355469),\n",
      "\u001b[92mINFO \u001b[0m:      \t              (8, 69.46107482910156),\n",
      "\u001b[92mINFO \u001b[0m:      \t              (9, 74.85029602050781),\n",
      "\u001b[92mINFO \u001b[0m:      \t              (10, 71.00592041015625),\n",
      "\u001b[92mINFO \u001b[0m:      \t              (11, 75.0),\n",
      "\u001b[92mINFO \u001b[0m:      \t              (12, 73.3727798461914),\n",
      "\u001b[92mINFO \u001b[0m:      \t              (13, 72.43589782714844),\n",
      "\u001b[92mINFO \u001b[0m:      \t              (14, 76.28205108642578),\n",
      "\u001b[92mINFO \u001b[0m:      \t              (15, 73.9645004272461),\n",
      "\u001b[92mINFO \u001b[0m:      \t              (16, 74.35897064208984),\n",
      "\u001b[92mINFO \u001b[0m:      \t              (17, 71.25748443603516),\n",
      "\u001b[92mINFO \u001b[0m:      \t              (18, 72.18934631347656),\n",
      "\u001b[92mINFO \u001b[0m:      \t              (19, 74.35897064208984),\n",
      "\u001b[92mINFO \u001b[0m:      \t              (20, 77.56410217285156),\n",
      "\u001b[92mINFO \u001b[0m:      \t              (21, 72.78106689453125),\n",
      "\u001b[92mINFO \u001b[0m:      \t              (22, 76.92308044433594),\n",
      "\u001b[92mINFO \u001b[0m:      \t              (23, 78.20513153076172),\n",
      "\u001b[92mINFO \u001b[0m:      \t              (24, 78.84615325927734),\n",
      "\u001b[92mINFO \u001b[0m:      \t              (25, 78.84615325927734),\n",
      "\u001b[92mINFO \u001b[0m:      \t              (26, 71.25748443603516),\n",
      "\u001b[92mINFO \u001b[0m:      \t              (27, 71.00592041015625),\n",
      "\u001b[92mINFO \u001b[0m:      \t              (28, 70.41419982910156),\n",
      "\u001b[92mINFO \u001b[0m:      \t              (29, 71.00592041015625),\n",
      "\u001b[92mINFO \u001b[0m:      \t              (30, 72.18934631347656),\n",
      "\u001b[92mINFO \u001b[0m:      \t              (31, 72.45509338378906),\n",
      "\u001b[92mINFO \u001b[0m:      \t              (32, 69.46107482910156),\n",
      "\u001b[92mINFO \u001b[0m:      \t              (33, 76.92308044433594),\n",
      "\u001b[92mINFO \u001b[0m:      \t              (34, 69.46107482910156),\n",
      "\u001b[92mINFO \u001b[0m:      \t              (35, 76.28205108642578),\n",
      "\u001b[92mINFO \u001b[0m:      \t              (36, 78.20513153076172),\n",
      "\u001b[92mINFO \u001b[0m:      \t              (37, 80.76923370361328),\n",
      "\u001b[92mINFO \u001b[0m:      \t              (38, 79.4871826171875),\n",
      "\u001b[92mINFO \u001b[0m:      \t              (39, 78.20513153076172),\n",
      "\u001b[92mINFO \u001b[0m:      \t              (40, 64.67066192626953),\n",
      "\u001b[92mINFO \u001b[0m:      \t              (41, 72.45509338378906),\n",
      "\u001b[92mINFO \u001b[0m:      \t              (42, 71.25748443603516),\n",
      "\u001b[92mINFO \u001b[0m:      \t              (43, 80.76923370361328),\n",
      "\u001b[92mINFO \u001b[0m:      \t              (44, 73.9645004272461),\n",
      "\u001b[92mINFO \u001b[0m:      \t              (45, 80.12820434570312),\n",
      "\u001b[92mINFO \u001b[0m:      \t              (46, 74.55621337890625),\n",
      "\u001b[92mINFO \u001b[0m:      \t              (47, 70.05988311767578),\n",
      "\u001b[92mINFO \u001b[0m:      \t              (48, 71.25748443603516),\n",
      "\u001b[92mINFO \u001b[0m:      \t              (49, 71.25748443603516),\n",
      "\u001b[92mINFO \u001b[0m:      \t              (50, 80.76923370361328)]}History (metrics, centralized):\n",
      "\u001b[92mINFO \u001b[0m:      \t{'accuracy': [(0, tensor(48.4979, device='cuda:0')),\n",
      "\u001b[92mINFO \u001b[0m:      \t              (1, tensor(56.0801, device='cuda:0')),\n",
      "\u001b[92mINFO \u001b[0m:      \t              (2, tensor(54.9356, device='cuda:0')),\n",
      "\u001b[92mINFO \u001b[0m:      \t              (3, tensor(71.6738, device='cuda:0')),\n",
      "\u001b[92mINFO \u001b[0m:      \t              (4, tensor(70.9585, device='cuda:0')),\n",
      "\u001b[92mINFO \u001b[0m:      \t              (5, tensor(72.8183, device='cuda:0')),\n",
      "\u001b[92mINFO \u001b[0m:      \t              (6, tensor(67.9542, device='cuda:0')),\n",
      "\u001b[92mINFO \u001b[0m:      \t              (7, tensor(72.6752, device='cuda:0')),\n",
      "\u001b[92mINFO \u001b[0m:      \t              (8, tensor(73.2475, device='cuda:0')),\n",
      "\u001b[92mINFO \u001b[0m:      \t              (9, tensor(72.9614, device='cuda:0')),\n",
      "\u001b[92mINFO \u001b[0m:      \t              (10, tensor(73.8197, device='cuda:0')),\n",
      "\u001b[92mINFO \u001b[0m:      \t              (11, tensor(72.1030, device='cuda:0')),\n",
      "\u001b[92mINFO \u001b[0m:      \t              (12, tensor(74.6781, device='cuda:0')),\n",
      "\u001b[92mINFO \u001b[0m:      \t              (13, tensor(72.5322, device='cuda:0')),\n",
      "\u001b[92mINFO \u001b[0m:      \t              (14, tensor(73.9628, device='cuda:0')),\n",
      "\u001b[92mINFO \u001b[0m:      \t              (15, tensor(74.6781, device='cuda:0')),\n",
      "\u001b[92mINFO \u001b[0m:      \t              (16, tensor(71.8169, device='cuda:0')),\n",
      "\u001b[92mINFO \u001b[0m:      \t              (17, tensor(74.8212, device='cuda:0')),\n",
      "\u001b[92mINFO \u001b[0m:      \t              (18, tensor(74.9642, device='cuda:0')),\n",
      "\u001b[92mINFO \u001b[0m:      \t              (19, tensor(74.2489, device='cuda:0')),\n",
      "\u001b[92mINFO \u001b[0m:      \t              (20, tensor(73.3906, device='cuda:0')),\n",
      "\u001b[92mINFO \u001b[0m:      \t              (21, tensor(74.6781, device='cuda:0')),\n",
      "\u001b[92mINFO \u001b[0m:      \t              (22, tensor(72.5322, device='cuda:0')),\n",
      "\u001b[92mINFO \u001b[0m:      \t              (23, tensor(74.3920, device='cuda:0')),\n",
      "\u001b[92mINFO \u001b[0m:      \t              (24, tensor(74.2489, device='cuda:0')),\n",
      "\u001b[92mINFO \u001b[0m:      \t              (25, tensor(73.6767, device='cuda:0')),\n",
      "\u001b[92mINFO \u001b[0m:      \t              (26, tensor(74.3920, device='cuda:0')),\n",
      "\u001b[92mINFO \u001b[0m:      \t              (27, tensor(73.9628, device='cuda:0')),\n",
      "\u001b[92mINFO \u001b[0m:      \t              (28, tensor(74.3920, device='cuda:0')),\n",
      "\u001b[92mINFO \u001b[0m:      \t              (29, tensor(73.9628, device='cuda:0')),\n",
      "\u001b[92mINFO \u001b[0m:      \t              (30, tensor(74.5350, device='cuda:0')),\n",
      "\u001b[92mINFO \u001b[0m:      \t              (31, tensor(75.2504, device='cuda:0')),\n",
      "\u001b[92mINFO \u001b[0m:      \t              (32, tensor(73.8197, device='cuda:0')),\n",
      "\u001b[92mINFO \u001b[0m:      \t              (33, tensor(74.8212, device='cuda:0')),\n",
      "\u001b[92mINFO \u001b[0m:      \t              (34, tensor(74.3920, device='cuda:0')),\n",
      "\u001b[92mINFO \u001b[0m:      \t              (35, tensor(74.8212, device='cuda:0')),\n",
      "\u001b[92mINFO \u001b[0m:      \t              (36, tensor(75.1073, device='cuda:0')),\n",
      "\u001b[92mINFO \u001b[0m:      \t              (37, tensor(75.5365, device='cuda:0')),\n",
      "\u001b[92mINFO \u001b[0m:      \t              (38, tensor(74.2489, device='cuda:0')),\n",
      "\u001b[92mINFO \u001b[0m:      \t              (39, tensor(75.6795, device='cuda:0')),\n",
      "\u001b[92mINFO \u001b[0m:      \t              (40, tensor(74.1059, device='cuda:0')),\n",
      "\u001b[92mINFO \u001b[0m:      \t              (41, tensor(75.3934, device='cuda:0')),\n",
      "\u001b[92mINFO \u001b[0m:      \t              (42, tensor(74.8212, device='cuda:0')),\n",
      "\u001b[92mINFO \u001b[0m:      \t              (43, tensor(73.8197, device='cuda:0')),\n",
      "\u001b[92mINFO \u001b[0m:      \t              (44, tensor(74.3920, device='cuda:0')),\n",
      "\u001b[92mINFO \u001b[0m:      \t              (45, tensor(74.3920, device='cuda:0')),\n",
      "\u001b[92mINFO \u001b[0m:      \t              (46, tensor(74.3920, device='cuda:0')),\n",
      "\u001b[92mINFO \u001b[0m:      \t              (47, tensor(73.5336, device='cuda:0')),\n",
      "\u001b[92mINFO \u001b[0m:      \t              (48, tensor(74.5350, device='cuda:0')),\n",
      "\u001b[92mINFO \u001b[0m:      \t              (49, tensor(74.2489, device='cuda:0')),\n",
      "\u001b[92mINFO \u001b[0m:      \t              (50, tensor(74.3920, device='cuda:0'))]}\n",
      "\u001b[92mINFO \u001b[0m:      \n"
     ]
    }
   ],
   "source": [
    "# client will be allocated 1x CPU and 0x GPUs\n",
    "if device.type == 'cuda':\n",
    "    # here we are assigning an entire GPU for each client.\n",
    "    client_resources = {\"num_cpus\": 1, \"num_gpus\": 1.0}\n",
    "    # Refer to our documentation for more details about Flower Simulations\n",
    "    # and how to setup these `client_resources`.\n",
    "    \n",
    "# The `evaluate` function will be called by Flower after every round\n",
    "ftl_acc = []\n",
    "def evaluate(server_round,parameters,config):\n",
    "    testloader = azure_test_loader\n",
    "    set_parameters(net_FTL, parameters)  # Update model with the latest parameters\n",
    "    loss, accuracy = test(net_FTL, testloader, configuration)\n",
    "    print(f\"Server-side evaluation loss {loss} / accuracy {accuracy}\")\n",
    "    ftl_acc.append(accuracy)\n",
    "    metrics = {'FTL loss': loss,\n",
    "               \"FTL accuracy\": accuracy}\n",
    "    wandb.log(metrics)\n",
    "    return loss, {\"accuracy\": accuracy}\n",
    "\n",
    "def weighted_average(metrics):\n",
    "    # Multiply accuracy of each client by number of examples used\n",
    "    accuracies = [num_examples * m[\"accuracy\"] for num_examples, m in metrics]\n",
    "    examples = [num_examples for num_examples, _ in metrics]\n",
    "\n",
    "    # Aggregate and return custom metric (weighted average)\n",
    "    return {\"accuracy\": sum(accuracies) / sum(examples)}\n",
    "params = get_parameters(net_FTL)\n",
    "strategy = fl.server.strategy.FedAvg(\n",
    "    fraction_fit=1,\n",
    "    fraction_evaluate=0.5,\n",
    "    min_fit_clients=2,\n",
    "    min_evaluate_clients=1,\n",
    "    min_available_clients=1,\n",
    "    evaluate_fn=evaluate,\n",
    "    initial_parameters= ndarrays_to_parameters(params),\n",
    "    evaluate_metrics_aggregation_fn=weighted_average # <-- pass the metric aggregation function\n",
    ")\n",
    "# Start simulation\n",
    "history = fl.simulation.start_simulation(\n",
    "    client_fn=client_fn,\n",
    "    num_clients=3,\n",
    "    config=fl.server.ServerConfig(num_rounds=configuration['num_rounds_FL']),\n",
    "    strategy=strategy,\n",
    "    client_resources=client_resources,\n",
    ")"
   ]
  },
  {
   "cell_type": "code",
   "execution_count": 25,
   "metadata": {},
   "outputs": [
    {
     "data": {
      "text/plain": [
       "Text(0.5, 0, 'Rounds')"
      ]
     },
     "execution_count": 25,
     "metadata": {},
     "output_type": "execute_result"
    },
    {
     "data": {
      "image/png": "[encoded data removed]",
      "text/plain": [
       "<Figure size 640x480 with 1 Axes>"
      ]
     },
     "metadata": {},
     "output_type": "display_data"
    }
   ],
   "source": [
    "f = []\n",
    "for i in ftl_acc:\n",
    "    f.append(float(i))\n",
    "plt.plot(f)\n",
    "plt.title('Federated Transfer Learning test accuracies')\n",
    "plt.ylabel('Accuracies')\n",
    "plt.xlabel('Rounds')"
   ]
  },
  {
   "cell_type": "code",
   "execution_count": 26,
   "metadata": {},
   "outputs": [
    {
     "data": {
      "text/plain": [
       "tensor(75.6795, device='cuda:0')"
      ]
     },
     "execution_count": 26,
     "metadata": {},
     "output_type": "execute_result"
    }
   ],
   "source": [
    "max(ftl_acc)"
   ]
  },
  {
   "cell_type": "code",
   "execution_count": 27,
   "metadata": {},
   "outputs": [],
   "source": [
    "torch.save(net_FTL.state_dict(), 'FTL1c.pth')"
   ]
  }
 ],
 "metadata": {
  "kernelspec": {
   "display_name": "Python 3 (ipykernel)",
   "language": "python",
   "name": "python3"
  }
 },
 "nbformat": 4,
 "nbformat_minor": 2
}
