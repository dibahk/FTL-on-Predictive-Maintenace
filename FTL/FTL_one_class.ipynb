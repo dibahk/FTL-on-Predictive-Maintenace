{
 "cells": [
  {
   "cell_type": "code",
   "execution_count": 1,
   "metadata": {},
   "outputs": [
    {
     "name": "stdout",
     "output_type": "stream",
     "text": [
      "Using cuda.\n"
     ]
    }
   ],
   "source": [
    "%matplotlib inline\n",
    "import matplotlib.pyplot as plt\n",
    "import torchvision\n",
    "from torch.utils.data import TensorDataset, random_split, DataLoader\n",
    "import torch.nn as nn\n",
    "import time\n",
    "import wandb\n",
    "from sklearn.metrics import accuracy_score\n",
    "from imblearn.over_sampling import SMOTE\n",
    "import torch\n",
    "from datetime import datetime\n",
    "from collections import OrderedDict\n",
    "from sklearn.decomposition import PCA\n",
    "import flwr as fl\n",
    "from flwr.common import Metrics \n",
    "from time import gmtime, strftime\n",
    "from flwr.server.strategy import FedAvg, FedAdagrad, FedProx\n",
    "import random\n",
    "from flwr.common import ndarrays_to_parameters, NDArrays, Scalar, Context\n",
    "\n",
    "now = datetime.now() # current date and time\n",
    "date_time = now.strftime(\"%d-%m-%Y_%H:%M:%S\")\n",
    "device = torch.device('cuda' if torch.cuda.is_available() else 'cpu')\n",
    "print(f'Using {device}.')"
   ]
  },
  {
   "cell_type": "code",
   "execution_count": 2,
   "metadata": {},
   "outputs": [
    {
     "name": "stderr",
     "output_type": "stream",
     "text": [
      "\u001b[34m\u001b[1mwandb\u001b[0m: Currently logged in as: \u001b[33md-hadjikazemi\u001b[0m (\u001b[33md-hadjikazemi-queen-mary-university-of-london\u001b[0m). Use \u001b[1m`wandb login --relogin`\u001b[0m to force relogin\n",
      "/home/diba/miniconda3/envs/FTL/lib/python3.10/site-packages/wandb/sdk/lib/ipython.py:77: DeprecationWarning: Importing display from IPython.core.display is deprecated since IPython 7.14, please import from IPython display\n",
      "  from IPython.core.display import HTML, display  # type: ignore\n"
     ]
    },
    {
     "data": {
      "text/html": [
       "wandb version 0.17.6 is available!  To upgrade, please run:\n",
       " $ pip install wandb --upgrade"
      ],
      "text/plain": [
       "<IPython.core.display.HTML object>"
      ]
     },
     "metadata": {},
     "output_type": "display_data"
    },
    {
     "data": {
      "text/html": [
       "Tracking run with wandb version 0.17.4"
      ],
      "text/plain": [
       "<IPython.core.display.HTML object>"
      ]
     },
     "metadata": {},
     "output_type": "display_data"
    },
    {
     "data": {
      "text/html": [
       "Run data is saved locally in <code>/home/diba/wandb/run-20240812_121951-f8c8w10d</code>"
      ],
      "text/plain": [
       "<IPython.core.display.HTML object>"
      ]
     },
     "metadata": {},
     "output_type": "display_data"
    },
    {
     "data": {
      "text/html": [
       "Syncing run <strong><a href='https://wandb.ai/d-hadjikazemi-queen-mary-university-of-london/FTL%20one%20class/runs/f8c8w10d' target=\"_blank\">without batch normalization_FedAvg_12-08-2024_12:19:51</a></strong> to <a href='https://wandb.ai/d-hadjikazemi-queen-mary-university-of-london/FTL%20one%20class' target=\"_blank\">Weights & Biases</a> (<a href='https://wandb.me/run' target=\"_blank\">docs</a>)<br/>"
      ],
      "text/plain": [
       "<IPython.core.display.HTML object>"
      ]
     },
     "metadata": {},
     "output_type": "display_data"
    },
    {
     "data": {
      "text/html": [
       " View project at <a href='https://wandb.ai/d-hadjikazemi-queen-mary-university-of-london/FTL%20one%20class' target=\"_blank\">https://wandb.ai/d-hadjikazemi-queen-mary-university-of-london/FTL%20one%20class</a>"
      ],
      "text/plain": [
       "<IPython.core.display.HTML object>"
      ]
     },
     "metadata": {},
     "output_type": "display_data"
    },
    {
     "data": {
      "text/html": [
       " View run at <a href='https://wandb.ai/d-hadjikazemi-queen-mary-university-of-london/FTL%20one%20class/runs/f8c8w10d' target=\"_blank\">https://wandb.ai/d-hadjikazemi-queen-mary-university-of-london/FTL%20one%20class/runs/f8c8w10d</a>"
      ],
      "text/plain": [
       "<IPython.core.display.HTML object>"
      ]
     },
     "metadata": {},
     "output_type": "display_data"
    }
   ],
   "source": [
    "wandb.init(\n",
    "    # set the wandb project where this run will be logged\n",
    "    project=\"FTL one class\",\n",
    "    name= \"without batch normalization_FedAvg_{}\".format(date_time),\n",
    "    # track hyperparameters and run metadata\n",
    "    config={\n",
    "    \"learning_rate\": 0.0001,\n",
    "    \"architecture\": \"CNN\",\n",
    "    \"epochs\": 100,\n",
    "    \"batch_size\": 64,\n",
    "    \"decay\":0,\n",
    "    'dropout': 0.0,\n",
    "    \"learning_rate_TL\": 0.0001,\n",
    "    \"batch_size_TL\": 64,\n",
    "    \"decay_TL\":1e-5,\n",
    "    'num_rounds_TL': 40, \n",
    "    'epochs_TL': 100,\n",
    "    'dropout_TL': 0.001,\n",
    "    \"learning_rate_FL\": 0.0001,\n",
    "    \"batch_size_FL\": 64,\n",
    "    \"decay_FL\": 1e-5,\n",
    "    'num_rounds_FL': 100, \n",
    "    'epochs_FL': 100,\n",
    "    'dropout_FL': 0.001\n",
    "    }\n",
    ")\n",
    "\n",
    "transfer_i = random.randint(0, 3)\n",
    "configuration  = dict(wandb.config)\n",
    "\n",
    "\n",
    "def data_loading_AZURE(data_paths, label_paths, batch_size, train_ratio=0.8, val_ratio=0.5):\n",
    "    trainloader = []\n",
    "    valloader = []\n",
    "    testdata_list = []\n",
    "    testlabels_list = []\n",
    "    for i in range(len(data_paths)):\n",
    "        # importing from paths\n",
    "        data = torch.load(data_paths[i])\n",
    "        labels = torch.load(label_paths[i])\n",
    "        data = nn.functional.normalize(data, dim=1)\n",
    "        # reshaping the dataset so  the channels will be the second dimension.\n",
    "        data = data.permute(0, 2, 1)\n",
    "        print(data.size())\n",
    "        n_samples, n_channels, n_features = data.shape\n",
    "        X_reshaped = data.reshape(n_samples, -1) \n",
    "        # Apply SMOTE\n",
    "        smote = SMOTE(sampling_strategy='minority')\n",
    "        data_resampled, labels_resampled = smote.fit_resample(X_reshaped, labels)\n",
    "        # Reshape X_resampled back to 3D\n",
    "        data_resampled = data_resampled.reshape(-1, n_channels, n_features)\n",
    "        print(data_resampled.shape)\n",
    "        data_resampled = torch.tensor(data_resampled)\n",
    "        labels_resampled = torch.tensor(labels_resampled)\n",
    "        dataset = TensorDataset(data_resampled, labels_resampled)\n",
    "        train_size = int(train_ratio * len(dataset))\n",
    "        test_size = len(dataset) - train_size\n",
    "        val_size = int(val_ratio * test_size)\n",
    "        test_size = test_size - val_size\n",
    "\n",
    "        train_dataset, val_dataset, test_dataset = random_split(dataset, [train_size, val_size, test_size])\n",
    "        if i == transfer_i:\n",
    "            trainloader_transfer = DataLoader(train_dataset, batch_size=batch_size, shuffle=True)\n",
    "            valloader_transfer = DataLoader(val_dataset, batch_size=batch_size, shuffle=True)\n",
    "\n",
    "        else:\n",
    "            trainloader.append(DataLoader(train_dataset, batch_size=batch_size, shuffle=True))\n",
    "            valloader.append(DataLoader(val_dataset, batch_size=batch_size, shuffle=True))\n",
    "            \n",
    "        testdata_list.append(test_dataset.dataset.tensors[0][test_dataset.indices])\n",
    "        testlabels_list.append(test_dataset.dataset.tensors[1][test_dataset.indices])\n",
    "\n",
    "    testdata = torch.cat(testdata_list, dim=0)\n",
    "    testlabels = torch.cat(testlabels_list, dim=0)\n",
    "    \n",
    "    # Create a DataLoader for the combined test data\n",
    "    testloader = DataLoader(TensorDataset(testdata, testlabels), batch_size=batch_size, shuffle=False)\n",
    "    \n",
    "    return trainloader, valloader, testloader, trainloader_transfer, valloader_transfer\n",
    "\n",
    "def data_loading_NASA(data_path, label_path, batch_size, train_ratio=0.8, val_ratio = 0.5):\n",
    "    data = torch.load(data_path)\n",
    "    labels = torch.load(label_path)\n",
    "    data = nn.functional.normalize(data, dim=1)\n",
    "    # reshaping the dataset so  the channels will be the second dimension.\n",
    "    data = data.permute(0, 2, 1)\n",
    "    print(data.size())\n",
    "\n",
    "    def pca_reduction(data, n_components=4):\n",
    "        data_reshaped = data.reshape(-1, data.shape[1])\n",
    "\n",
    "        # Apply PCA\n",
    "        pca = PCA(n_components=n_components)\n",
    "        \n",
    "        data_reduced = pca.fit_transform(data_reshaped)\n",
    "\n",
    "        # Reshape back to (samples, n_components, time_steps)\n",
    "        data_reduced = data_reduced.reshape(data.shape[0], n_components, data.shape[2])\n",
    "\n",
    "        return data_reduced\n",
    "    print(data.dtype)\n",
    "    data = pca_reduction(data, n_components=4)\n",
    "    data =(torch.from_numpy(data)).float()\n",
    "    n_samples, n_channels, n_features = data.shape\n",
    "    X_reshaped = data.reshape(n_samples, -1) \n",
    "    \n",
    "    n_samples, n_channels, n_features = data.shape\n",
    "    X_reshaped = data.reshape(n_samples, -1) \n",
    "    \n",
    "    # Apply SMOTE\n",
    "    smote = SMOTE(sampling_strategy='minority')\n",
    "    data_resampled, labels_resampled = smote.fit_resample(X_reshaped, labels)\n",
    "    print((labels_resampled==1).sum())\n",
    "    # Reshape X_resampled back to 3D\n",
    "    data_resampled = data_resampled.reshape(-1, n_channels, n_features)\n",
    "    print(data_resampled.shape)\n",
    "    data_resampled = torch.tensor(data_resampled)\n",
    "    labels_resampled = torch.tensor(labels_resampled)\n",
    "    dataset = TensorDataset(data_resampled, labels_resampled)\n",
    "    train_size = int(train_ratio * len(dataset))\n",
    "    test_size = len(dataset) - train_size\n",
    "    val_size = int(val_ratio * test_size)\n",
    "    test_size = test_size - val_size\n",
    "    train_dataset, val_dataset, test_dataset = random_split(dataset, [train_size, val_size, test_size])\n",
    "    return DataLoader(train_dataset, batch_size=batch_size, shuffle=True), DataLoader(val_dataset, batch_size=batch_size, shuffle=True), DataLoader(test_dataset, batch_size=batch_size, shuffle=False)\n"
   ]
  },
  {
   "cell_type": "code",
   "execution_count": 3,
   "metadata": {},
   "outputs": [],
   "source": [
    "# Define the CNN architecture\n",
    "class Neural_Network(nn.Module):\n",
    "    def __init__(self):\n",
    "        super(Neural_Network, self).__init__()\n",
    "        self.conv1 = nn.Conv1d(in_channels=4, out_channels=8, kernel_size=5)\n",
    "        self.bn1 = nn.BatchNorm1d(8)\n",
    "        self.conv2 = nn.Conv1d(in_channels=8, out_channels=8, kernel_size=5)\n",
    "        self.bn2 = nn.BatchNorm1d(8)\n",
    "        self.pool = nn.MaxPool1d(kernel_size=2, padding=0, stride=1)\n",
    "        # the size of the out channels x number  of nodes \n",
    "        self.fc1 = nn.Linear(328, 200)\n",
    "        self.fc2 = nn.Linear(200, 2)\n",
    "        self.flatten = nn.Flatten()\n",
    "        self.relu = nn.ReLU()\n",
    "        self.dropout = nn.Dropout(configuration['dropout'])\n",
    "        self.sigmoid = nn.Sigmoid()\n",
    "\n",
    "    def forward(self, x):\n",
    "        # x = self.relu(self.conv1(x))\n",
    "        # x = self.relu(self.conv2(x))\n",
    "        x = self.relu(self.bn1(self.conv1(x)))\n",
    "        x = self.relu(self.bn2(self.conv2(x)))\n",
    "        x = self.dropout(x)\n",
    "        x = self.pool(x)\n",
    "        x = self.flatten(x)\n",
    "        x = self.relu(self.fc1(x))\n",
    "        x - self.dropout(x)\n",
    "        x = self.sigmoid(self.fc2(x))\n",
    "        return x"
   ]
  },
  {
   "cell_type": "code",
   "execution_count": 4,
   "metadata": {},
   "outputs": [],
   "source": [
    "def correct(logits, y):\n",
    "    y_hat = logits.argmax(axis=1) # Finds the column with the highest value for each row of `logits`.\n",
    "    return (y_hat == y).float().sum() # Computes the number of times that `y_hat` and `y` match.\n",
    "\n",
    "def evaluate_metric(model, data_iter, metric):\n",
    "    \"\"\"Compute the average `metric` of the model on a dataset.\"\"\"\n",
    "    c = torch.tensor(0.).to(device)\n",
    "    n = torch.tensor(0.).to(device)\n",
    "    for X, y in data_iter:\n",
    "        X, y = X.to(device), y.to(device) # Moves data to `device`\n",
    "        logits = model(X)\n",
    "        c += metric(logits, y)\n",
    "        n += len(y)\n",
    "    return c*100 / n\n"
   ]
  },
  {
   "cell_type": "code",
   "execution_count": 5,
   "metadata": {},
   "outputs": [
    {
     "name": "stdout",
     "output_type": "stream",
     "text": [
      "torch.Size([848, 24, 50])\n",
      "torch.float32\n",
      "685\n",
      "(1370, 4, 50)\n"
     ]
    }
   ],
   "source": [
    "def train(model, train_loaders,test_loader, config, epochs):\n",
    "    loss = nn.CrossEntropyLoss()\n",
    "    optimizer = torch.optim.Adam(model.parameters(), lr=config['learning_rate'], weight_decay=config['decay'])\n",
    "    losses = [] # Stores the loss for each training batch\n",
    "    train_accs = [] # Stores the training accuracy after each epoch\n",
    "    test_accs = []\n",
    "    for epoch in range(epochs):\n",
    "        print(f'\\nEpoch {epoch + 1}/{epochs}')\n",
    "        total, epoch_loss = 0, 0.0\n",
    "        model.train() # This is necessary because batch normalization behaves differently between training and evaluation\n",
    "        \n",
    "        for X, y in train_loaders:\n",
    "            X, y = X.to(device), y.to(device) # Moves data to `device`\n",
    "            logits = model(X) # Computes the logits for the batch of images `X`\n",
    "            l = loss(logits, y) # Computes the loss given the `logits` and the class vector `y`\n",
    "            optimizer.zero_grad() # Zeroes the gradients stored in the model parameters\n",
    "            l.backward() # Computes the gradient of the loss `l` with respect to the model parameters\n",
    "\n",
    "            optimizer.step() # Updates the model parameters based on the gradients stored inside them\n",
    "            epoch_loss += l\n",
    "            \n",
    "        model.eval() # This is necessary because batch normalization behaves differently between training and evaluation\n",
    "        train_acc = evaluate_metric(model, train_loaders, correct)\n",
    "        train_accs.append(train_acc)\n",
    "        test_acc = evaluate_metric(model, test_loader, correct)\n",
    "        test_accs.append(test_acc)\n",
    "        print(f'Epoch {epoch+1}: Training accuracy: {train_accs[-1]} Testing accuracy: {test_accs[-1]}.') # Computes and displays training/testing dataset accuracy.\n",
    "    plt.plot(list(map(lambda x: x.cpu(),train_accs)), label='Training accuracy')\n",
    "    plt.plot(list(map(lambda x: x.cpu(),test_accs)), label='Validation accuracy')\n",
    "    plt.title('accuracies')\n",
    "    plt.legend()\n",
    "\n",
    "def test(model, test_loaders,  configuration):\n",
    "    loss = nn.CrossEntropyLoss()\n",
    "    test_accs = []\n",
    "    optimizer = torch.optim.Adam(model.parameters(), lr=configuration['learning_rate'], weight_decay=configuration['decay'])\n",
    "    test_acc = []\n",
    "    l = 0.0\n",
    "    model.eval() # This is necessary because batch normalization behaves differently between training and evaluation\n",
    "    for X, y in test_loaders:    \n",
    "        X, y = X.to(device), y.to(device) # Moves data to `device`\n",
    "        logits = model(X)\n",
    "        l = loss(logits, y).item()\n",
    "        test_acc = evaluate_metric(model, test_loaders, correct)\n",
    "        test_accs.append(test_acc)\n",
    "        \n",
    "        # wandb.log({\"test_acc\": test_acc})\n",
    "        l /= len(test_loaders)\n",
    "        end_time = time.perf_counter()\n",
    "        # print('Testing accuracy: {test_accs[-1]}.')\n",
    "        return l, test_acc\n",
    "\n",
    "NASA = data_loading_NASA(data_path='NASA_data_50.pt', label_path= 'NASA_label_50.pt', batch_size= configuration['batch_size'])"
   ]
  },
  {
   "cell_type": "code",
   "execution_count": 6,
   "metadata": {},
   "outputs": [
    {
     "name": "stdout",
     "output_type": "stream",
     "text": [
      "\n",
      "Epoch 1/100\n",
      "Epoch 1: Training accuracy: 52.554744720458984 Testing accuracy: 47.445255279541016.\n",
      "\n",
      "Epoch 2/100\n",
      "Epoch 2: Training accuracy: 55.83941650390625 Testing accuracy: 62.04379653930664.\n",
      "\n",
      "Epoch 3/100\n",
      "Epoch 3: Training accuracy: 57.937957763671875 Testing accuracy: 59.124088287353516.\n",
      "\n",
      "Epoch 4/100\n",
      "Epoch 4: Training accuracy: 58.029197692871094 Testing accuracy: 60.58394241333008.\n",
      "\n",
      "Epoch 5/100\n",
      "Epoch 5: Training accuracy: 58.94160461425781 Testing accuracy: 59.124088287353516.\n",
      "\n",
      "Epoch 6/100\n",
      "Epoch 6: Training accuracy: 61.22262954711914 Testing accuracy: 64.9635009765625.\n",
      "\n",
      "Epoch 7/100\n",
      "Epoch 7: Training accuracy: 62.22627639770508 Testing accuracy: 63.5036506652832.\n",
      "\n",
      "Epoch 8/100\n",
      "Epoch 8: Training accuracy: 62.04379653930664 Testing accuracy: 61.31386947631836.\n",
      "\n",
      "Epoch 9/100\n",
      "Epoch 9: Training accuracy: 67.42700958251953 Testing accuracy: 67.15328216552734.\n",
      "\n",
      "Epoch 10/100\n",
      "Epoch 10: Training accuracy: 66.60584259033203 Testing accuracy: 66.42335510253906.\n",
      "\n",
      "Epoch 11/100\n",
      "Epoch 11: Training accuracy: 68.15693664550781 Testing accuracy: 66.42335510253906.\n",
      "\n",
      "Epoch 12/100\n",
      "Epoch 12: Training accuracy: 69.06934356689453 Testing accuracy: 67.15328216552734.\n",
      "\n",
      "Epoch 13/100\n",
      "Epoch 13: Training accuracy: 68.97810363769531 Testing accuracy: 65.69342803955078.\n",
      "\n",
      "Epoch 14/100\n",
      "Epoch 14: Training accuracy: 70.5291976928711 Testing accuracy: 68.6131362915039.\n",
      "\n",
      "Epoch 15/100\n",
      "Epoch 15: Training accuracy: 71.07664489746094 Testing accuracy: 72.26277160644531.\n",
      "\n",
      "Epoch 16/100\n",
      "Epoch 16: Training accuracy: 70.89415740966797 Testing accuracy: 71.53284454345703.\n",
      "\n",
      "Epoch 17/100\n",
      "Epoch 17: Training accuracy: 71.53284454345703 Testing accuracy: 70.80291748046875.\n",
      "\n",
      "Epoch 18/100\n",
      "Epoch 18: Training accuracy: 73.54014587402344 Testing accuracy: 74.45255279541016.\n",
      "\n",
      "Epoch 19/100\n",
      "Epoch 19: Training accuracy: 72.5364990234375 Testing accuracy: 72.26277160644531.\n",
      "\n",
      "Epoch 20/100\n",
      "Epoch 20: Training accuracy: 73.90511322021484 Testing accuracy: 72.9926986694336.\n",
      "\n",
      "Epoch 21/100\n",
      "Epoch 21: Training accuracy: 74.45255279541016 Testing accuracy: 75.18247985839844.\n",
      "\n",
      "Epoch 22/100\n",
      "Epoch 22: Training accuracy: 74.36131286621094 Testing accuracy: 74.45255279541016.\n",
      "\n",
      "Epoch 23/100\n",
      "Epoch 23: Training accuracy: 74.36131286621094 Testing accuracy: 74.45255279541016.\n",
      "\n",
      "Epoch 24/100\n",
      "Epoch 24: Training accuracy: 74.72628021240234 Testing accuracy: 73.72262573242188.\n",
      "\n",
      "Epoch 25/100\n",
      "Epoch 25: Training accuracy: 74.08759307861328 Testing accuracy: 71.53284454345703.\n",
      "\n",
      "Epoch 26/100\n",
      "Epoch 26: Training accuracy: 74.90876007080078 Testing accuracy: 72.26277160644531.\n",
      "\n",
      "Epoch 27/100\n",
      "Epoch 27: Training accuracy: 75.18247985839844 Testing accuracy: 68.6131362915039.\n",
      "\n",
      "Epoch 28/100\n",
      "Epoch 28: Training accuracy: 75.09123992919922 Testing accuracy: 73.72262573242188.\n",
      "\n",
      "Epoch 29/100\n",
      "Epoch 29: Training accuracy: 75.54744720458984 Testing accuracy: 72.26277160644531.\n",
      "\n",
      "Epoch 30/100\n",
      "Epoch 30: Training accuracy: 75.8211669921875 Testing accuracy: 73.72262573242188.\n",
      "\n",
      "Epoch 31/100\n",
      "Epoch 31: Training accuracy: 76.27737426757812 Testing accuracy: 72.9926986694336.\n",
      "\n",
      "Epoch 32/100\n",
      "Epoch 32: Training accuracy: 76.73357391357422 Testing accuracy: 72.9926986694336.\n",
      "\n",
      "Epoch 33/100\n",
      "Epoch 33: Training accuracy: 76.55109405517578 Testing accuracy: 74.45255279541016.\n",
      "\n",
      "Epoch 34/100\n",
      "Epoch 34: Training accuracy: 77.4635009765625 Testing accuracy: 73.72262573242188.\n",
      "\n",
      "Epoch 35/100\n",
      "Epoch 35: Training accuracy: 77.91970825195312 Testing accuracy: 74.45255279541016.\n",
      "\n",
      "Epoch 36/100\n",
      "Epoch 36: Training accuracy: 78.46715545654297 Testing accuracy: 74.45255279541016.\n",
      "\n",
      "Epoch 37/100\n",
      "Epoch 37: Training accuracy: 78.74087524414062 Testing accuracy: 75.18247985839844.\n",
      "\n",
      "Epoch 38/100\n",
      "Epoch 38: Training accuracy: 79.37956237792969 Testing accuracy: 73.72262573242188.\n",
      "\n",
      "Epoch 39/100\n",
      "Epoch 39: Training accuracy: 79.65328216552734 Testing accuracy: 75.91240692138672.\n",
      "\n",
      "Epoch 40/100\n",
      "Epoch 40: Training accuracy: 79.65328216552734 Testing accuracy: 74.45255279541016.\n",
      "\n",
      "Epoch 41/100\n",
      "Epoch 41: Training accuracy: 80.47444915771484 Testing accuracy: 76.642333984375.\n",
      "\n",
      "Epoch 42/100\n",
      "Epoch 42: Training accuracy: 80.38320922851562 Testing accuracy: 75.91240692138672.\n",
      "\n",
      "Epoch 43/100\n",
      "Epoch 43: Training accuracy: 80.83941650390625 Testing accuracy: 76.642333984375.\n",
      "\n",
      "Epoch 44/100\n",
      "Epoch 44: Training accuracy: 81.29562377929688 Testing accuracy: 75.18247985839844.\n",
      "\n",
      "Epoch 45/100\n",
      "Epoch 45: Training accuracy: 81.47810363769531 Testing accuracy: 77.37226104736328.\n",
      "\n",
      "Epoch 46/100\n",
      "Epoch 46: Training accuracy: 81.66058349609375 Testing accuracy: 75.18247985839844.\n",
      "\n",
      "Epoch 47/100\n",
      "Epoch 47: Training accuracy: 81.9343032836914 Testing accuracy: 78.10218811035156.\n",
      "\n",
      "Epoch 48/100\n",
      "Epoch 48: Training accuracy: 81.84306335449219 Testing accuracy: 77.37226104736328.\n",
      "\n",
      "Epoch 49/100\n",
      "Epoch 49: Training accuracy: 82.66423034667969 Testing accuracy: 75.91240692138672.\n",
      "\n",
      "Epoch 50/100\n",
      "Epoch 50: Training accuracy: 82.57299041748047 Testing accuracy: 77.37226104736328.\n",
      "\n",
      "Epoch 51/100\n",
      "Epoch 51: Training accuracy: 82.2080307006836 Testing accuracy: 78.10218811035156.\n",
      "\n",
      "Epoch 52/100\n",
      "Epoch 52: Training accuracy: 83.57664489746094 Testing accuracy: 77.37226104736328.\n",
      "\n",
      "Epoch 53/100\n",
      "Epoch 53: Training accuracy: 83.75912475585938 Testing accuracy: 75.91240692138672.\n",
      "\n",
      "Epoch 54/100\n",
      "Epoch 54: Training accuracy: 82.93795776367188 Testing accuracy: 78.83211517333984.\n",
      "\n",
      "Epoch 55/100\n",
      "Epoch 55: Training accuracy: 84.6715316772461 Testing accuracy: 78.10218811035156.\n",
      "\n",
      "Epoch 56/100\n",
      "Epoch 56: Training accuracy: 83.57664489746094 Testing accuracy: 80.2919692993164.\n",
      "\n",
      "Epoch 57/100\n",
      "Epoch 57: Training accuracy: 83.66788482666016 Testing accuracy: 81.02189636230469.\n",
      "\n",
      "Epoch 58/100\n",
      "Epoch 58: Training accuracy: 84.85401153564453 Testing accuracy: 78.10218811035156.\n",
      "\n",
      "Epoch 59/100\n",
      "Epoch 59: Training accuracy: 84.85401153564453 Testing accuracy: 80.2919692993164.\n",
      "\n",
      "Epoch 60/100\n",
      "Epoch 60: Training accuracy: 85.12773895263672 Testing accuracy: 80.2919692993164.\n",
      "\n",
      "Epoch 61/100\n",
      "Epoch 61: Training accuracy: 84.6715316772461 Testing accuracy: 78.83211517333984.\n",
      "\n",
      "Epoch 62/100\n",
      "Epoch 62: Training accuracy: 85.40145874023438 Testing accuracy: 80.2919692993164.\n",
      "\n",
      "Epoch 63/100\n",
      "Epoch 63: Training accuracy: 86.13138580322266 Testing accuracy: 81.02189636230469.\n",
      "\n",
      "Epoch 64/100\n",
      "Epoch 64: Training accuracy: 85.76642608642578 Testing accuracy: 78.83211517333984.\n",
      "\n",
      "Epoch 65/100\n",
      "Epoch 65: Training accuracy: 86.04014587402344 Testing accuracy: 79.56204223632812.\n",
      "\n",
      "Epoch 66/100\n",
      "Epoch 66: Training accuracy: 86.13138580322266 Testing accuracy: 80.2919692993164.\n",
      "\n",
      "Epoch 67/100\n",
      "Epoch 67: Training accuracy: 86.6788330078125 Testing accuracy: 80.2919692993164.\n",
      "\n",
      "Epoch 68/100\n",
      "Epoch 68: Training accuracy: 87.13504028320312 Testing accuracy: 80.2919692993164.\n",
      "\n",
      "Epoch 69/100\n",
      "Epoch 69: Training accuracy: 87.40876007080078 Testing accuracy: 80.2919692993164.\n",
      "\n",
      "Epoch 70/100\n",
      "Epoch 70: Training accuracy: 86.77007293701172 Testing accuracy: 79.56204223632812.\n",
      "\n",
      "Epoch 71/100\n",
      "Epoch 71: Training accuracy: 87.04379272460938 Testing accuracy: 81.02189636230469.\n",
      "\n",
      "Epoch 72/100\n",
      "Epoch 72: Training accuracy: 88.13868713378906 Testing accuracy: 81.02189636230469.\n",
      "\n",
      "Epoch 73/100\n",
      "Epoch 73: Training accuracy: 87.59123992919922 Testing accuracy: 80.2919692993164.\n",
      "\n",
      "Epoch 74/100\n",
      "Epoch 74: Training accuracy: 89.142333984375 Testing accuracy: 83.21167755126953.\n",
      "\n",
      "Epoch 75/100\n",
      "Epoch 75: Training accuracy: 88.86861419677734 Testing accuracy: 81.75182342529297.\n",
      "\n",
      "Epoch 76/100\n",
      "Epoch 76: Training accuracy: 88.04744720458984 Testing accuracy: 79.56204223632812.\n",
      "\n",
      "Epoch 77/100\n",
      "Epoch 77: Training accuracy: 88.6861343383789 Testing accuracy: 81.75182342529297.\n",
      "\n",
      "Epoch 78/100\n",
      "Epoch 78: Training accuracy: 89.05109405517578 Testing accuracy: 80.2919692993164.\n",
      "\n",
      "Epoch 79/100\n",
      "Epoch 79: Training accuracy: 89.05109405517578 Testing accuracy: 80.2919692993164.\n",
      "\n",
      "Epoch 80/100\n",
      "Epoch 80: Training accuracy: 89.87226104736328 Testing accuracy: 81.02189636230469.\n",
      "\n",
      "Epoch 81/100\n",
      "Epoch 81: Training accuracy: 89.87226104736328 Testing accuracy: 80.2919692993164.\n",
      "\n",
      "Epoch 82/100\n",
      "Epoch 82: Training accuracy: 89.59854125976562 Testing accuracy: 80.2919692993164.\n",
      "\n",
      "Epoch 83/100\n",
      "Epoch 83: Training accuracy: 90.3284683227539 Testing accuracy: 83.94160461425781.\n",
      "\n",
      "Epoch 84/100\n",
      "Epoch 84: Training accuracy: 90.51094818115234 Testing accuracy: 83.21167755126953.\n",
      "\n",
      "Epoch 85/100\n",
      "Epoch 85: Training accuracy: 90.3284683227539 Testing accuracy: 82.48175048828125.\n",
      "\n",
      "Epoch 86/100\n",
      "Epoch 86: Training accuracy: 90.51094818115234 Testing accuracy: 84.6715316772461.\n",
      "\n",
      "Epoch 87/100\n",
      "Epoch 87: Training accuracy: 90.60218811035156 Testing accuracy: 82.48175048828125.\n",
      "\n",
      "Epoch 88/100\n",
      "Epoch 88: Training accuracy: 90.87591552734375 Testing accuracy: 81.75182342529297.\n",
      "\n",
      "Epoch 89/100\n",
      "Epoch 89: Training accuracy: 90.87591552734375 Testing accuracy: 82.48175048828125.\n",
      "\n",
      "Epoch 90/100\n",
      "Epoch 90: Training accuracy: 91.1496353149414 Testing accuracy: 81.75182342529297.\n",
      "\n",
      "Epoch 91/100\n",
      "Epoch 91: Training accuracy: 91.60584259033203 Testing accuracy: 82.48175048828125.\n",
      "\n",
      "Epoch 92/100\n",
      "Epoch 92: Training accuracy: 91.69708251953125 Testing accuracy: 83.21167755126953.\n",
      "\n",
      "Epoch 93/100\n",
      "Epoch 93: Training accuracy: 91.87956237792969 Testing accuracy: 82.48175048828125.\n",
      "\n",
      "Epoch 94/100\n",
      "Epoch 94: Training accuracy: 91.9708023071289 Testing accuracy: 82.48175048828125.\n",
      "\n",
      "Epoch 95/100\n",
      "Epoch 95: Training accuracy: 91.78832244873047 Testing accuracy: 83.21167755126953.\n",
      "\n",
      "Epoch 96/100\n",
      "Epoch 96: Training accuracy: 91.9708023071289 Testing accuracy: 84.6715316772461.\n",
      "\n",
      "Epoch 97/100\n",
      "Epoch 97: Training accuracy: 91.78832244873047 Testing accuracy: 83.21167755126953.\n",
      "\n",
      "Epoch 98/100\n",
      "Epoch 98: Training accuracy: 92.33576965332031 Testing accuracy: 84.6715316772461.\n",
      "\n",
      "Epoch 99/100\n",
      "Epoch 99: Training accuracy: 92.51824951171875 Testing accuracy: 83.21167755126953.\n",
      "\n",
      "Epoch 100/100\n",
      "Epoch 100: Training accuracy: 92.51824951171875 Testing accuracy: 85.40145874023438.\n",
      "Epoch 1: validation loss 0.14672046899795532, accuracy 84.6715316772461\n",
      "Final test set performance:\n",
      "\tloss 0.15733765562375387\n",
      "\taccuracy 85.40145874023438\n"
     ]
    },
    {
     "data": {
      "image/png": "[encoded data removed]",
      "text/plain": [
       "<Figure size 640x480 with 1 Axes>"
      ]
     },
     "metadata": {},
     "output_type": "display_data"
    }
   ],
   "source": [
    "trainloader = NASA[0]\n",
    "valloader = NASA[1]\n",
    "testloader = NASA[2]\n",
    "net = Neural_Network().to(device)\n",
    "losses = []\n",
    "accuracies = []\n",
    "for epoch in range(1):\n",
    "    train(net, trainloader, testloader, configuration, configuration['epochs'])\n",
    "    loss, accuracy = test(net, valloader, configuration)\n",
    "    losses.append(loss)\n",
    "    accuracies.append(int(accuracy))\n",
    "    print(f\"Epoch {epoch+1}: validation loss {loss}, accuracy {accuracy}\")\n",
    "# plt.plot(accuracies)\n",
    "loss, accuracy = test(net, testloader, configuration=configuration)\n",
    "\n",
    "print(f\"Final test set performance:\\n\\tloss {loss}\\n\\taccuracy {accuracy}\")"
   ]
  },
  {
   "cell_type": "markdown",
   "metadata": {},
   "source": [
    "## transfer learning"
   ]
  },
  {
   "cell_type": "code",
   "execution_count": 7,
   "metadata": {},
   "outputs": [
    {
     "name": "stdout",
     "output_type": "stream",
     "text": [
      "torch.Size([1002, 4, 50])\n",
      "(1670, 4, 50)\n",
      "torch.Size([936, 4, 50])\n",
      "(1560, 4, 50)\n",
      "torch.Size([1242, 4, 50])\n",
      "(2070, 4, 50)\n",
      "torch.Size([1014, 4, 50])\n",
      "(1690, 4, 50)\n"
     ]
    }
   ],
   "source": [
    "azure_data_paths = ['AZURE_data_1.pt', 'AZURE_data_2.pt','AZURE_data_3.pt','AZURE_data_4.pt']\n",
    "azure_label_paths = ['AZURE_label_1.pt','AZURE_label_2.pt','AZURE_label_3.pt','AZURE_label_4.pt']\n",
    "azure_train_loaders, azure_val_loaders, azure_test_loader, azure_train_loaders_transfer, azure_val_loaders_transfer = data_loading_AZURE(azure_data_paths, azure_label_paths, batch_size=configuration['batch_size_FL'])"
   ]
  },
  {
   "cell_type": "code",
   "execution_count": 8,
   "metadata": {},
   "outputs": [
    {
     "name": "stdout",
     "output_type": "stream",
     "text": [
      "\n",
      "Epoch 1/100\n",
      "Epoch 1: Training accuracy: 50.08012771606445 Testing accuracy: 51.28205108642578.\n",
      "\n",
      "Epoch 2/100\n",
      "Epoch 2: Training accuracy: 59.61538314819336 Testing accuracy: 57.69230651855469.\n",
      "\n",
      "Epoch 3/100\n",
      "Epoch 3: Training accuracy: 64.66345977783203 Testing accuracy: 61.53845977783203.\n",
      "\n",
      "Epoch 4/100\n",
      "Epoch 4: Training accuracy: 67.78845977783203 Testing accuracy: 67.30769348144531.\n",
      "\n",
      "Epoch 5/100\n",
      "Epoch 5: Training accuracy: 70.1121826171875 Testing accuracy: 69.23076629638672.\n",
      "\n",
      "Epoch 6/100\n",
      "Epoch 6: Training accuracy: 70.59294891357422 Testing accuracy: 69.23076629638672.\n",
      "\n",
      "Epoch 7/100\n",
      "Epoch 7: Training accuracy: 72.91666412353516 Testing accuracy: 69.87179565429688.\n",
      "\n",
      "Epoch 8/100\n",
      "Epoch 8: Training accuracy: 73.07691955566406 Testing accuracy: 71.15384674072266.\n",
      "\n",
      "Epoch 9/100\n",
      "Epoch 9: Training accuracy: 75.08013153076172 Testing accuracy: 73.07691955566406.\n",
      "\n",
      "Epoch 10/100\n",
      "Epoch 10: Training accuracy: 75.72115325927734 Testing accuracy: 71.79486846923828.\n",
      "\n",
      "Epoch 11/100\n",
      "Epoch 11: Training accuracy: 76.84294891357422 Testing accuracy: 75.64102935791016.\n",
      "\n",
      "Epoch 12/100\n",
      "Epoch 12: Training accuracy: 76.3621826171875 Testing accuracy: 73.71794891357422.\n",
      "\n",
      "Epoch 13/100\n",
      "Epoch 13: Training accuracy: 78.125 Testing accuracy: 76.28205108642578.\n",
      "\n",
      "Epoch 14/100\n",
      "Epoch 14: Training accuracy: 78.44551086425781 Testing accuracy: 76.28205108642578.\n",
      "\n",
      "Epoch 15/100\n",
      "Epoch 15: Training accuracy: 78.60576629638672 Testing accuracy: 74.35897064208984.\n",
      "\n",
      "Epoch 16/100\n",
      "Epoch 16: Training accuracy: 78.76602935791016 Testing accuracy: 75.64102935791016.\n",
      "\n",
      "Epoch 17/100\n",
      "Epoch 17: Training accuracy: 79.56730651855469 Testing accuracy: 75.64102935791016.\n",
      "\n",
      "Epoch 18/100\n",
      "Epoch 18: Training accuracy: 80.28845977783203 Testing accuracy: 76.28205108642578.\n",
      "\n",
      "Epoch 19/100\n",
      "Epoch 19: Training accuracy: 80.92948913574219 Testing accuracy: 77.56410217285156.\n",
      "\n",
      "Epoch 20/100\n",
      "Epoch 20: Training accuracy: 80.76923370361328 Testing accuracy: 76.92308044433594.\n",
      "\n",
      "Epoch 21/100\n",
      "Epoch 21: Training accuracy: 80.84935760498047 Testing accuracy: 77.56410217285156.\n",
      "\n",
      "Epoch 22/100\n",
      "Epoch 22: Training accuracy: 79.56730651855469 Testing accuracy: 76.28205108642578.\n",
      "\n",
      "Epoch 23/100\n",
      "Epoch 23: Training accuracy: 80.44871520996094 Testing accuracy: 77.56410217285156.\n",
      "\n",
      "Epoch 24/100\n",
      "Epoch 24: Training accuracy: 80.44871520996094 Testing accuracy: 77.56410217285156.\n",
      "\n",
      "Epoch 25/100\n",
      "Epoch 25: Training accuracy: 82.6121826171875 Testing accuracy: 79.4871826171875.\n",
      "\n",
      "Epoch 26/100\n",
      "Epoch 26: Training accuracy: 81.65064239501953 Testing accuracy: 78.20513153076172.\n",
      "\n",
      "Epoch 27/100\n",
      "Epoch 27: Training accuracy: 82.45191955566406 Testing accuracy: 79.4871826171875.\n",
      "\n",
      "Epoch 28/100\n",
      "Epoch 28: Training accuracy: 82.8525619506836 Testing accuracy: 80.76923370361328.\n",
      "\n",
      "Epoch 29/100\n",
      "Epoch 29: Training accuracy: 83.09294891357422 Testing accuracy: 80.76923370361328.\n",
      "\n",
      "Epoch 30/100\n",
      "Epoch 30: Training accuracy: 83.41345977783203 Testing accuracy: 79.4871826171875.\n",
      "\n",
      "Epoch 31/100\n",
      "Epoch 31: Training accuracy: 82.05128479003906 Testing accuracy: 80.12820434570312.\n",
      "\n",
      "Epoch 32/100\n",
      "Epoch 32: Training accuracy: 82.8525619506836 Testing accuracy: 80.12820434570312.\n",
      "\n",
      "Epoch 33/100\n",
      "Epoch 33: Training accuracy: 82.29166412353516 Testing accuracy: 80.12820434570312.\n",
      "\n",
      "Epoch 34/100\n",
      "Epoch 34: Training accuracy: 81.33013153076172 Testing accuracy: 79.4871826171875.\n",
      "\n",
      "Epoch 35/100\n",
      "Epoch 35: Training accuracy: 82.7724380493164 Testing accuracy: 82.05128479003906.\n",
      "\n",
      "Epoch 36/100\n",
      "Epoch 36: Training accuracy: 83.0128173828125 Testing accuracy: 81.4102554321289.\n",
      "\n",
      "Epoch 37/100\n",
      "Epoch 37: Training accuracy: 82.8525619506836 Testing accuracy: 81.4102554321289.\n",
      "\n",
      "Epoch 38/100\n",
      "Epoch 38: Training accuracy: 83.09294891357422 Testing accuracy: 81.4102554321289.\n",
      "\n",
      "Epoch 39/100\n",
      "Epoch 39: Training accuracy: 83.41345977783203 Testing accuracy: 82.05128479003906.\n",
      "\n",
      "Epoch 40/100\n",
      "Epoch 40: Training accuracy: 83.89423370361328 Testing accuracy: 82.05128479003906.\n",
      "\n",
      "Epoch 41/100\n",
      "Epoch 41: Training accuracy: 82.13140869140625 Testing accuracy: 81.4102554321289.\n",
      "\n",
      "Epoch 42/100\n",
      "Epoch 42: Training accuracy: 82.29166412353516 Testing accuracy: 81.4102554321289.\n",
      "\n",
      "Epoch 43/100\n",
      "Epoch 43: Training accuracy: 81.57051086425781 Testing accuracy: 80.12820434570312.\n",
      "\n",
      "Epoch 44/100\n",
      "Epoch 44: Training accuracy: 82.29166412353516 Testing accuracy: 82.05128479003906.\n",
      "\n",
      "Epoch 45/100\n",
      "Epoch 45: Training accuracy: 81.73076629638672 Testing accuracy: 79.4871826171875.\n",
      "\n",
      "Epoch 46/100\n",
      "Epoch 46: Training accuracy: 82.7724380493164 Testing accuracy: 80.76923370361328.\n",
      "\n",
      "Epoch 47/100\n",
      "Epoch 47: Training accuracy: 84.45513153076172 Testing accuracy: 83.33333587646484.\n",
      "\n",
      "Epoch 48/100\n",
      "Epoch 48: Training accuracy: 84.29486846923828 Testing accuracy: 83.33333587646484.\n",
      "\n",
      "Epoch 49/100\n",
      "Epoch 49: Training accuracy: 83.09294891357422 Testing accuracy: 82.69230651855469.\n",
      "\n",
      "Epoch 50/100\n",
      "Epoch 50: Training accuracy: 84.45513153076172 Testing accuracy: 83.33333587646484.\n",
      "\n",
      "Epoch 51/100\n",
      "Epoch 51: Training accuracy: 85.01602935791016 Testing accuracy: 81.4102554321289.\n",
      "\n",
      "Epoch 52/100\n",
      "Epoch 52: Training accuracy: 84.85576629638672 Testing accuracy: 83.97435760498047.\n",
      "\n",
      "Epoch 53/100\n",
      "Epoch 53: Training accuracy: 83.81410217285156 Testing accuracy: 83.33333587646484.\n",
      "\n",
      "Epoch 54/100\n",
      "Epoch 54: Training accuracy: 83.81410217285156 Testing accuracy: 83.33333587646484.\n",
      "\n",
      "Epoch 55/100\n",
      "Epoch 55: Training accuracy: 85.09615325927734 Testing accuracy: 82.69230651855469.\n",
      "\n",
      "Epoch 56/100\n",
      "Epoch 56: Training accuracy: 83.33333587646484 Testing accuracy: 82.05128479003906.\n",
      "\n",
      "Epoch 57/100\n",
      "Epoch 57: Training accuracy: 85.49679565429688 Testing accuracy: 82.69230651855469.\n",
      "\n",
      "Epoch 58/100\n",
      "Epoch 58: Training accuracy: 81.97115325927734 Testing accuracy: 78.84615325927734.\n",
      "\n",
      "Epoch 59/100\n",
      "Epoch 59: Training accuracy: 84.5352554321289 Testing accuracy: 83.33333587646484.\n",
      "\n",
      "Epoch 60/100\n",
      "Epoch 60: Training accuracy: 82.8525619506836 Testing accuracy: 80.76923370361328.\n",
      "\n",
      "Epoch 61/100\n",
      "Epoch 61: Training accuracy: 85.7371826171875 Testing accuracy: 80.76923370361328.\n",
      "\n",
      "Epoch 62/100\n",
      "Epoch 62: Training accuracy: 85.17628479003906 Testing accuracy: 82.05128479003906.\n",
      "\n",
      "Epoch 63/100\n",
      "Epoch 63: Training accuracy: 85.7371826171875 Testing accuracy: 80.76923370361328.\n",
      "\n",
      "Epoch 64/100\n",
      "Epoch 64: Training accuracy: 85.65705108642578 Testing accuracy: 80.76923370361328.\n",
      "\n",
      "Epoch 65/100\n",
      "Epoch 65: Training accuracy: 84.29486846923828 Testing accuracy: 81.4102554321289.\n",
      "\n",
      "Epoch 66/100\n",
      "Epoch 66: Training accuracy: 83.97435760498047 Testing accuracy: 82.69230651855469.\n",
      "\n",
      "Epoch 67/100\n",
      "Epoch 67: Training accuracy: 83.81410217285156 Testing accuracy: 82.69230651855469.\n",
      "\n",
      "Epoch 68/100\n",
      "Epoch 68: Training accuracy: 85.9775619506836 Testing accuracy: 81.4102554321289.\n",
      "\n",
      "Epoch 69/100\n",
      "Epoch 69: Training accuracy: 83.17308044433594 Testing accuracy: 81.4102554321289.\n",
      "\n",
      "Epoch 70/100\n",
      "Epoch 70: Training accuracy: 86.05769348144531 Testing accuracy: 82.69230651855469.\n",
      "\n",
      "Epoch 71/100\n",
      "Epoch 71: Training accuracy: 86.77884674072266 Testing accuracy: 81.4102554321289.\n",
      "\n",
      "Epoch 72/100\n",
      "Epoch 72: Training accuracy: 85.65705108642578 Testing accuracy: 81.4102554321289.\n",
      "\n",
      "Epoch 73/100\n",
      "Epoch 73: Training accuracy: 83.97435760498047 Testing accuracy: 81.4102554321289.\n",
      "\n",
      "Epoch 74/100\n",
      "Epoch 74: Training accuracy: 86.05769348144531 Testing accuracy: 82.05128479003906.\n",
      "\n",
      "Epoch 75/100\n",
      "Epoch 75: Training accuracy: 84.77564239501953 Testing accuracy: 80.76923370361328.\n",
      "\n",
      "Epoch 76/100\n",
      "Epoch 76: Training accuracy: 85.41666412353516 Testing accuracy: 81.4102554321289.\n",
      "\n",
      "Epoch 77/100\n",
      "Epoch 77: Training accuracy: 85.33654022216797 Testing accuracy: 81.4102554321289.\n",
      "\n",
      "Epoch 78/100\n",
      "Epoch 78: Training accuracy: 83.33333587646484 Testing accuracy: 81.4102554321289.\n",
      "\n",
      "Epoch 79/100\n",
      "Epoch 79: Training accuracy: 82.05128479003906 Testing accuracy: 78.20513153076172.\n",
      "\n",
      "Epoch 80/100\n",
      "Epoch 80: Training accuracy: 84.13461303710938 Testing accuracy: 81.4102554321289.\n",
      "\n",
      "Epoch 81/100\n",
      "Epoch 81: Training accuracy: 85.41666412353516 Testing accuracy: 81.4102554321289.\n",
      "\n",
      "Epoch 82/100\n",
      "Epoch 82: Training accuracy: 83.97435760498047 Testing accuracy: 81.4102554321289.\n",
      "\n",
      "Epoch 83/100\n",
      "Epoch 83: Training accuracy: 83.65384674072266 Testing accuracy: 79.4871826171875.\n",
      "\n",
      "Epoch 84/100\n",
      "Epoch 84: Training accuracy: 84.85576629638672 Testing accuracy: 81.4102554321289.\n",
      "\n",
      "Epoch 85/100\n",
      "Epoch 85: Training accuracy: 82.93269348144531 Testing accuracy: 80.12820434570312.\n",
      "\n",
      "Epoch 86/100\n",
      "Epoch 86: Training accuracy: 85.65705108642578 Testing accuracy: 81.4102554321289.\n",
      "\n",
      "Epoch 87/100\n",
      "Epoch 87: Training accuracy: 82.69230651855469 Testing accuracy: 78.84615325927734.\n",
      "\n",
      "Epoch 88/100\n",
      "Epoch 88: Training accuracy: 85.49679565429688 Testing accuracy: 81.4102554321289.\n",
      "\n",
      "Epoch 89/100\n",
      "Epoch 89: Training accuracy: 86.37820434570312 Testing accuracy: 82.69230651855469.\n",
      "\n",
      "Epoch 90/100\n",
      "Epoch 90: Training accuracy: 86.45833587646484 Testing accuracy: 83.33333587646484.\n",
      "\n",
      "Epoch 91/100\n",
      "Epoch 91: Training accuracy: 86.21794891357422 Testing accuracy: 83.33333587646484.\n",
      "\n",
      "Epoch 92/100\n",
      "Epoch 92: Training accuracy: 86.29808044433594 Testing accuracy: 82.69230651855469.\n",
      "\n",
      "Epoch 93/100\n",
      "Epoch 93: Training accuracy: 85.57691955566406 Testing accuracy: 80.12820434570312.\n",
      "\n",
      "Epoch 94/100\n",
      "Epoch 94: Training accuracy: 85.9775619506836 Testing accuracy: 80.76923370361328.\n",
      "\n",
      "Epoch 95/100\n",
      "Epoch 95: Training accuracy: 85.49679565429688 Testing accuracy: 81.4102554321289.\n",
      "\n",
      "Epoch 96/100\n",
      "Epoch 96: Training accuracy: 84.05448913574219 Testing accuracy: 80.76923370361328.\n",
      "\n",
      "Epoch 97/100\n",
      "Epoch 97: Training accuracy: 86.37820434570312 Testing accuracy: 83.33333587646484.\n",
      "\n",
      "Epoch 98/100\n",
      "Epoch 98: Training accuracy: 86.05769348144531 Testing accuracy: 82.69230651855469.\n",
      "\n",
      "Epoch 99/100\n",
      "Epoch 99: Training accuracy: 85.8974380493164 Testing accuracy: 81.4102554321289.\n",
      "\n",
      "Epoch 100/100\n",
      "Epoch 100: Training accuracy: 84.61538696289062 Testing accuracy: 81.4102554321289.\n",
      "Epoch 1: validation loss 0.16062259674072266, accuracy 81.4102554321289\n",
      "Final test set performance:\n",
      "\tloss 0.16062259674072266\n",
      "\taccuracy 81.4102554321289\n"
     ]
    },
    {
     "data": {
      "image/png": "[encoded data removed]",
      "text/plain": [
       "<Figure size 640x480 with 1 Axes>"
      ]
     },
     "metadata": {},
     "output_type": "display_data"
    }
   ],
   "source": [
    "losses_transfer = []\n",
    "accuracies_transfer = []\n",
    "for epoch in range(1):\n",
    "    train(net, azure_train_loaders_transfer, azure_val_loaders_transfer, configuration, configuration['epochs'])\n",
    "    loss, accuracy = test(net, azure_val_loaders_transfer, configuration)\n",
    "    losses_transfer.append(loss)\n",
    "    accuracies_transfer.append(int(accuracy))\n",
    "    print(f\"Epoch {epoch+1}: validation loss {loss}, accuracy {accuracy}\")\n",
    "# plt.plot(accuracies)\n",
    "losses_transfer, accuracy_transfer = test(net, testloader, configuration=configuration)\n",
    "\n",
    "print(f\"Final test set performance:\\n\\tloss {loss}\\n\\taccuracy {accuracy}\")"
   ]
  },
  {
   "cell_type": "markdown",
   "metadata": {},
   "source": [
    "trainloader = train_loaders[1]\n",
    "valloader = val_loaders[1]\n",
    "testloader = test_loaders[1]\n",
    "net = Neural_Network().to(device)\n",
    "losses = []\n",
    "accuracies = []\n",
    "for epoch in range(1):\n",
    "    train(net, trainloader, testloader, configuration, configuration['epochs'])\n",
    "    loss, accuracy = test(net, valloader, configuration)\n",
    "    losses.append(loss)\n",
    "    accuracies.append(int(accuracy))\n",
    "    print(f\"Epoch {epoch+1}: validation loss {loss}, accuracy {accuracy}\")\n",
    "<!-- # plt.plot(accuracies) -->\n",
    "loss, accuracy = test(net, testloader, configuration=configuration)\n",
    "print(f\"Final test set performance:\\n\\tloss {loss}\\n\\taccuracy {accuracy}\")"
   ]
  },
  {
   "cell_type": "markdown",
   "metadata": {},
   "source": [
    "## Federated Learning"
   ]
  },
  {
   "cell_type": "code",
   "execution_count": 9,
   "metadata": {},
   "outputs": [],
   "source": [
    "# Define the CNN architecture\n",
    "class Neural_Network_FL(nn.Module):\n",
    "    def __init__(self):\n",
    "        super(Neural_Network_FL, self).__init__()\n",
    "        self.conv1 = nn.Conv1d(in_channels=4, out_channels=8, kernel_size=5)\n",
    "        self.conv2 = nn.Conv1d(in_channels=8, out_channels=8, kernel_size=5)\n",
    "        self.pool = nn.MaxPool1d(kernel_size=2, padding=0, stride=1)\n",
    "        # the size of the out channels x number  of nodes \n",
    "        self.fc1 = nn.Linear(328, 200)\n",
    "        self.fc2 = nn.Linear(200, 2)\n",
    "        self.flatten = nn.Flatten()\n",
    "        self.relu = nn.ReLU()\n",
    "        self.dropout = nn.Dropout(configuration['dropout'])\n",
    "        self.sigmoid = nn.Sigmoid()\n",
    "\n",
    "    def forward(self, x):\n",
    "        x = self.relu(self.conv1(x))\n",
    "        x = self.relu(self.conv2(x))\n",
    "        x = self.dropout(x)\n",
    "        x = self.pool(x)\n",
    "        x = self.flatten(x)\n",
    "        x = self.relu(self.fc1(x))\n",
    "        x - self.dropout(x)\n",
    "        x = self.sigmoid(self.fc2(x))\n",
    "        return x"
   ]
  },
  {
   "cell_type": "code",
   "execution_count": 10,
   "metadata": {},
   "outputs": [],
   "source": [
    "def get_parameters(model):\n",
    "    # Return model parameters as a list of NumPy ndarrays, excluding parameters of BN layers when using FedBN\n",
    "    return [val.cpu().numpy() for name, val in model.state_dict().items() if ('bn1' not in name and 'bn2' not in name)]\n",
    "\n",
    "def set_parameters(model, parameters):\n",
    "    # Set model parameters from a list of NumPy ndarrays\n",
    "    keys = [k for k in model.state_dict().keys() if 'bn' not in k]\n",
    "    params_dict = zip(keys, parameters)\n",
    "    state_dict = OrderedDict({k: torch.tensor(v) for k, v in params_dict})\n",
    "    model.load_state_dict(state_dict, strict=False)\n",
    "\n",
    "net_FL = Neural_Network_FL().to(device)\n",
    "parameters_centralized = get_parameters(net)\n",
    "set_parameters(net_FL, parameters_centralized)"
   ]
  },
  {
   "cell_type": "code",
   "execution_count": 11,
   "metadata": {},
   "outputs": [],
   "source": [
    "class FlowerClient(fl.client.NumPyClient):\n",
    "    def __init__(self, net, trainloader, valloader, configuration):\n",
    "        self.net = net\n",
    "        self.trainloader = trainloader\n",
    "        self.valloader = valloader\n",
    "\n",
    "    def get_parameters(self, config):\n",
    "        return get_parameters(self.net)\n",
    "\n",
    "    def fit(self, parameters, config):\n",
    "        set_parameters(self.net, parameters)\n",
    "        train(self.net, self.trainloader,self.valloader,configuration, configuration['epochs_FL'])\n",
    "        return get_parameters(self.net), len(self.trainloader), {}\n",
    "\n",
    "    def evaluate(self, parameters, config):\n",
    "        set_parameters(self.net, parameters)\n",
    "        loss, accuracy = test(self.net, self.valloader, configuration)\n",
    "        return float(loss), len(self.valloader), {\"accuracy\": float(accuracy)}\n",
    "    \n",
    "\n",
    "def client_fn(cid) -> FlowerClient:\n",
    "    net = Neural_Network().to(device)\n",
    "    trainloader = azure_train_loaders[int(cid)]\n",
    "    valloader = azure_val_loaders[int(cid)]\n",
    "    return FlowerClient(net_FL, trainloader, valloader, configuration).to_client()\n"
   ]
  },
  {
   "cell_type": "code",
   "execution_count": 12,
   "metadata": {},
   "outputs": [
    {
     "name": "stderr",
     "output_type": "stream",
     "text": [
      "\u001b[93mWARNING \u001b[0m:   \n",
      "Setting `min_available_clients` lower than `min_fit_clients` or\n",
      "`min_evaluate_clients` can cause the server to fail when there are too few clients\n",
      "connected to the server. `min_available_clients` must be set to a value larger\n",
      "than or equal to the values of `min_fit_clients` and `min_evaluate_clients`.\n",
      "\n",
      "\u001b[92mINFO \u001b[0m:      Starting Flower simulation, config: num_rounds=100, no round_timeout\n",
      "2024-08-12 12:20:01,379\tINFO worker.py:1621 -- Started a local Ray instance.\n",
      "\u001b[92mINFO \u001b[0m:      Flower VCE: Ray initialized with resources: {'CPU': 32.0, 'object_store_memory': 56810865868.0, 'accelerator_type:G': 1.0, 'GPU': 2.0, 'node:__internal_head__': 1.0, 'memory': 122558687028.0, 'node:192.168.1.146': 1.0}\n",
      "\u001b[92mINFO \u001b[0m:      Optimize your simulation with Flower VCE: https://flower.ai/docs/framework/how-to-run-simulations.html\n",
      "\u001b[92mINFO \u001b[0m:      Flower VCE: Resources for each Virtual Client: {'num_cpus': 1, 'num_gpus': 1.0}\n",
      "\u001b[92mINFO \u001b[0m:      Flower VCE: Creating VirtualClientEngineActorPool with 2 actors\n",
      "\u001b[92mINFO \u001b[0m:      [INIT]\n",
      "\u001b[92mINFO \u001b[0m:      Using initial global parameters provided by strategy\n",
      "\u001b[92mINFO \u001b[0m:      Evaluating initial global parameters\n",
      "\u001b[92mINFO \u001b[0m:      initial parameters (loss, other metrics): 0.06810850446874445, {'accuracy': tensor(51.5021, device='cuda:0')}\n",
      "\u001b[92mINFO \u001b[0m:      \n",
      "\u001b[92mINFO \u001b[0m:      [ROUND 1]\n",
      "\u001b[92mINFO \u001b[0m:      configure_fit: strategy sampled 3 clients (out of 3)\n"
     ]
    },
    {
     "name": "stdout",
     "output_type": "stream",
     "text": [
      "Server-side evaluation loss 0.06810850446874445 / accuracy 51.50214767456055\n",
      "\u001b[2m\u001b[36m(ClientAppActor pid=2247181)\u001b[0m \n",
      "\u001b[2m\u001b[36m(ClientAppActor pid=2247181)\u001b[0m Epoch 1/100\n",
      "\u001b[2m\u001b[36m(ClientAppActor pid=2247181)\u001b[0m Epoch 1: Training accuracy: 48.96449661254883 Testing accuracy: 55.02958679199219.\n",
      "\u001b[2m\u001b[36m(ClientAppActor pid=2247181)\u001b[0m Epoch 2: Training accuracy: 48.96449661254883 Testing accuracy: 55.02958679199219.\n"
     ]
    },
    {
     "name": "stderr",
     "output_type": "stream",
     "text": [
      "\u001b[92mINFO \u001b[0m:      aggregate_fit: received 3 results and 0 failures\n",
      "\u001b[93mWARNING \u001b[0m:   No fit_metrics_aggregation_fn provided\n",
      "\u001b[92mINFO \u001b[0m:      fit progress: (1, 0.06300483508543535, {'accuracy': tensor(48.4979, device='cuda:0')}, 6.335179380024783)\n",
      "\u001b[92mINFO \u001b[0m:      configure_evaluate: strategy sampled 1 clients (out of 3)\n",
      "\u001b[92mINFO \u001b[0m:      aggregate_evaluate: received 1 results and 0 failures\n",
      "\u001b[92mINFO \u001b[0m:      \n",
      "\u001b[92mINFO \u001b[0m:      [ROUND 2]\n",
      "\u001b[92mINFO \u001b[0m:      configure_fit: strategy sampled 3 clients (out of 3)\n"
     ]
    },
    {
     "name": "stdout",
     "output_type": "stream",
     "text": [
      "\u001b[2m\u001b[36m(ClientAppActor pid=2247181)\u001b[0m \u001b[32m [repeated 299x across cluster] (Ray deduplicates logs by default. Set RAY_DEDUP_LOGS=0 to disable log deduplication, or see https://docs.ray.io/en/master/ray-observability/ray-logging.html#log-deduplication for more options.)\u001b[0m\n",
      "\u001b[2m\u001b[36m(ClientAppActor pid=2247181)\u001b[0m Epoch 100/100\u001b[32m [repeated 299x across cluster]\u001b[0m\n",
      "Server-side evaluation loss 0.06300483508543535 / accuracy 48.49785232543945\n",
      "\u001b[2m\u001b[36m(ClientAppActor pid=2247181)\u001b[0m Epoch 6: Training accuracy: 62.87425231933594 Testing accuracy: 59.88024139404297.\u001b[32m [repeated 305x across cluster]\u001b[0m\n",
      "\u001b[2m\u001b[36m(ClientAppActor pid=2247181)\u001b[0m \u001b[32m [repeated 287x across cluster]\u001b[0m\n",
      "\u001b[2m\u001b[36m(ClientAppActor pid=2247181)\u001b[0m Epoch 87/100\u001b[32m [repeated 287x across cluster]\u001b[0m\n"
     ]
    },
    {
     "name": "stderr",
     "output_type": "stream",
     "text": [
      "\u001b[92mINFO \u001b[0m:      aggregate_fit: received 3 results and 0 failures\n"
     ]
    },
    {
     "name": "stdout",
     "output_type": "stream",
     "text": [
      "\u001b[2m\u001b[36m(ClientAppActor pid=2247181)\u001b[0m Epoch 93: Training accuracy: 62.077293395996094 Testing accuracy: 61.352657318115234.\u001b[32m [repeated 286x across cluster]\u001b[0m\n"
     ]
    },
    {
     "name": "stderr",
     "output_type": "stream",
     "text": [
      "\u001b[92mINFO \u001b[0m:      fit progress: (2, 0.06273838064887306, {'accuracy': tensor(64.3777, device='cuda:0')}, 11.806584189995192)\n",
      "\u001b[92mINFO \u001b[0m:      configure_evaluate: strategy sampled 1 clients (out of 3)\n",
      "\u001b[92mINFO \u001b[0m:      aggregate_evaluate: received 1 results and 0 failures\n",
      "\u001b[92mINFO \u001b[0m:      \n",
      "\u001b[92mINFO \u001b[0m:      [ROUND 3]\n",
      "\u001b[92mINFO \u001b[0m:      configure_fit: strategy sampled 3 clients (out of 3)\n"
     ]
    },
    {
     "name": "stdout",
     "output_type": "stream",
     "text": [
      "Server-side evaluation loss 0.06273838064887306 / accuracy 64.377685546875\n",
      "\u001b[2m\u001b[36m(ClientAppActor pid=2247181)\u001b[0m \u001b[32m [repeated 298x across cluster]\u001b[0m\n",
      "\u001b[2m\u001b[36m(ClientAppActor pid=2247181)\u001b[0m Epoch 85/100\u001b[32m [repeated 298x across cluster]\u001b[0m\n"
     ]
    },
    {
     "name": "stderr",
     "output_type": "stream",
     "text": [
      "\u001b[92mINFO \u001b[0m:      aggregate_fit: received 3 results and 0 failures\n",
      "\u001b[92mINFO \u001b[0m:      fit progress: (3, 0.06055519797585227, {'accuracy': tensor(76.2518, device='cuda:0')}, 16.86658571206499)\n",
      "\u001b[92mINFO \u001b[0m:      configure_evaluate: strategy sampled 1 clients (out of 3)\n"
     ]
    },
    {
     "name": "stdout",
     "output_type": "stream",
     "text": [
      "\u001b[2m\u001b[36m(ClientAppActor pid=2247181)\u001b[0m Epoch 93: Training accuracy: 64.89521026611328 Testing accuracy: 68.86227416992188.\u001b[32m [repeated 300x across cluster]\u001b[0m\n",
      "Server-side evaluation loss 0.06055519797585227 / accuracy 76.25178527832031\n"
     ]
    },
    {
     "name": "stderr",
     "output_type": "stream",
     "text": [
      "\u001b[92mINFO \u001b[0m:      aggregate_evaluate: received 1 results and 0 failures\n",
      "\u001b[92mINFO \u001b[0m:      \n",
      "\u001b[92mINFO \u001b[0m:      [ROUND 4]\n",
      "\u001b[92mINFO \u001b[0m:      configure_fit: strategy sampled 3 clients (out of 3)\n"
     ]
    },
    {
     "name": "stdout",
     "output_type": "stream",
     "text": [
      "\u001b[2m\u001b[36m(ClientAppActor pid=2247182)\u001b[0m \u001b[32m [repeated 286x across cluster]\u001b[0m\n",
      "\u001b[2m\u001b[36m(ClientAppActor pid=2247182)\u001b[0m Epoch 71/100\u001b[32m [repeated 286x across cluster]\u001b[0m\n",
      "\u001b[2m\u001b[36m(ClientAppActor pid=2247182)\u001b[0m Epoch 77: Training accuracy: 70.53140258789062 Testing accuracy: 71.01449584960938.\u001b[32m [repeated 284x across cluster]\u001b[0m\n"
     ]
    },
    {
     "name": "stderr",
     "output_type": "stream",
     "text": [
      "\u001b[92mINFO \u001b[0m:      aggregate_fit: received 3 results and 0 failures\n",
      "\u001b[92mINFO \u001b[0m:      fit progress: (4, 0.05668346990238537, {'accuracy': tensor(75.9657, device='cuda:0')}, 22.442900302005)\n",
      "\u001b[92mINFO \u001b[0m:      configure_evaluate: strategy sampled 1 clients (out of 3)\n",
      "\u001b[92mINFO \u001b[0m:      aggregate_evaluate: received 1 results and 0 failures\n",
      "\u001b[92mINFO \u001b[0m:      \n",
      "\u001b[92mINFO \u001b[0m:      [ROUND 5]\n",
      "\u001b[92mINFO \u001b[0m:      configure_fit: strategy sampled 3 clients (out of 3)\n"
     ]
    },
    {
     "name": "stdout",
     "output_type": "stream",
     "text": [
      "Server-side evaluation loss 0.05668346990238537 / accuracy 75.96566772460938\n",
      "\u001b[2m\u001b[36m(ClientAppActor pid=2247181)\u001b[0m \u001b[32m [repeated 296x across cluster]\u001b[0m\n",
      "\u001b[2m\u001b[36m(ClientAppActor pid=2247181)\u001b[0m Epoch 67/100\u001b[32m [repeated 296x across cluster]\u001b[0m\n",
      "\u001b[2m\u001b[36m(ClientAppActor pid=2247181)\u001b[0m Epoch 74: Training accuracy: 73.72754669189453 Testing accuracy: 71.85628509521484.\u001b[32m [repeated 297x across cluster]\u001b[0m\n"
     ]
    },
    {
     "name": "stderr",
     "output_type": "stream",
     "text": [
      "\u001b[92mINFO \u001b[0m:      aggregate_fit: received 3 results and 0 failures\n",
      "\u001b[92mINFO \u001b[0m:      fit progress: (5, 0.05542629957199097, {'accuracy': tensor(74.9642, device='cuda:0')}, 27.45798112801276)\n",
      "\u001b[92mINFO \u001b[0m:      configure_evaluate: strategy sampled 1 clients (out of 3)\n",
      "\u001b[92mINFO \u001b[0m:      aggregate_evaluate: received 1 results and 0 failures\n",
      "\u001b[92mINFO \u001b[0m:      \n",
      "\u001b[92mINFO \u001b[0m:      [ROUND 6]\n",
      "\u001b[92mINFO \u001b[0m:      configure_fit: strategy sampled 3 clients (out of 3)\n"
     ]
    },
    {
     "name": "stdout",
     "output_type": "stream",
     "text": [
      "Server-side evaluation loss 0.05542629957199097 / accuracy 74.9642333984375\n",
      "\u001b[2m\u001b[36m(ClientAppActor pid=2247182)\u001b[0m \u001b[32m [repeated 300x across cluster]\u001b[0m\n",
      "\u001b[2m\u001b[36m(ClientAppActor pid=2247182)\u001b[0m Epoch 67/100\u001b[32m [repeated 300x across cluster]\u001b[0m\n",
      "\u001b[2m\u001b[36m(ClientAppActor pid=2247182)\u001b[0m Epoch 74: Training accuracy: 71.4820327758789 Testing accuracy: 67.06586456298828.\u001b[32m [repeated 300x across cluster]\u001b[0m\n"
     ]
    },
    {
     "name": "stderr",
     "output_type": "stream",
     "text": [
      "\u001b[92mINFO \u001b[0m:      aggregate_fit: received 3 results and 0 failures\n",
      "\u001b[92mINFO \u001b[0m:      fit progress: (6, 0.05449001897465099, {'accuracy': tensor(76.1087, device='cuda:0')}, 32.55147388810292)\n",
      "\u001b[92mINFO \u001b[0m:      configure_evaluate: strategy sampled 1 clients (out of 3)\n",
      "\u001b[92mINFO \u001b[0m:      aggregate_evaluate: received 1 results and 0 failures\n",
      "\u001b[92mINFO \u001b[0m:      \n",
      "\u001b[92mINFO \u001b[0m:      [ROUND 7]\n",
      "\u001b[92mINFO \u001b[0m:      configure_fit: strategy sampled 3 clients (out of 3)\n"
     ]
    },
    {
     "name": "stdout",
     "output_type": "stream",
     "text": [
      "Server-side evaluation loss 0.05449001897465099 / accuracy 76.10872650146484\n",
      "\u001b[2m\u001b[36m(ClientAppActor pid=2247181)\u001b[0m \u001b[32m [repeated 301x across cluster]\u001b[0m\n",
      "\u001b[2m\u001b[36m(ClientAppActor pid=2247181)\u001b[0m Epoch 68/100\u001b[32m [repeated 301x across cluster]\u001b[0m\n",
      "\u001b[2m\u001b[36m(ClientAppActor pid=2247181)\u001b[0m Epoch 75: Training accuracy: 72.04141998291016 Testing accuracy: 69.8224868774414.\u001b[32m [repeated 301x across cluster]\u001b[0m\n"
     ]
    },
    {
     "name": "stderr",
     "output_type": "stream",
     "text": [
      "\u001b[92mINFO \u001b[0m:      aggregate_fit: received 3 results and 0 failures\n",
      "\u001b[92mINFO \u001b[0m:      fit progress: (7, 0.053756773471832275, {'accuracy': tensor(75.5365, device='cuda:0')}, 37.62174940307159)\n",
      "\u001b[92mINFO \u001b[0m:      configure_evaluate: strategy sampled 1 clients (out of 3)\n",
      "\u001b[92mINFO \u001b[0m:      aggregate_evaluate: received 1 results and 0 failures\n",
      "\u001b[92mINFO \u001b[0m:      \n",
      "\u001b[92mINFO \u001b[0m:      [ROUND 8]\n",
      "\u001b[92mINFO \u001b[0m:      configure_fit: strategy sampled 3 clients (out of 3)\n"
     ]
    },
    {
     "name": "stdout",
     "output_type": "stream",
     "text": [
      "Server-side evaluation loss 0.053756773471832275 / accuracy 75.53648376464844\n",
      "\u001b[2m\u001b[36m(ClientAppActor pid=2247181)\u001b[0m \u001b[32m [repeated 302x across cluster]\u001b[0m\n",
      "\u001b[2m\u001b[36m(ClientAppActor pid=2247181)\u001b[0m Epoch 70/100\u001b[32m [repeated 302x across cluster]\u001b[0m\n",
      "\u001b[2m\u001b[36m(ClientAppActor pid=2247181)\u001b[0m Epoch 77: Training accuracy: 73.00296020507812 Testing accuracy: 69.8224868774414.\u001b[32m [repeated 302x across cluster]\u001b[0m\n"
     ]
    },
    {
     "name": "stderr",
     "output_type": "stream",
     "text": [
      "\u001b[92mINFO \u001b[0m:      aggregate_fit: received 3 results and 0 failures\n",
      "\u001b[92mINFO \u001b[0m:      fit progress: (8, 0.05335597558455034, {'accuracy': tensor(77.5393, device='cuda:0')}, 42.64560063101817)\n",
      "\u001b[92mINFO \u001b[0m:      configure_evaluate: strategy sampled 1 clients (out of 3)\n",
      "\u001b[92mINFO \u001b[0m:      aggregate_evaluate: received 1 results and 0 failures\n",
      "\u001b[92mINFO \u001b[0m:      \n",
      "\u001b[92mINFO \u001b[0m:      [ROUND 9]\n",
      "\u001b[92mINFO \u001b[0m:      configure_fit: strategy sampled 3 clients (out of 3)\n"
     ]
    },
    {
     "name": "stdout",
     "output_type": "stream",
     "text": [
      "Server-side evaluation loss 0.05335597558455034 / accuracy 77.53934478759766\n",
      "\u001b[2m\u001b[36m(ClientAppActor pid=2247182)\u001b[0m \u001b[32m [repeated 298x across cluster]\u001b[0m\n",
      "\u001b[2m\u001b[36m(ClientAppActor pid=2247182)\u001b[0m Epoch 68/100\u001b[32m [repeated 298x across cluster]\u001b[0m\n",
      "\u001b[2m\u001b[36m(ClientAppActor pid=2247182)\u001b[0m Epoch 76: Training accuracy: 73.50299072265625 Testing accuracy: 76.6467056274414.\u001b[32m [repeated 299x across cluster]\u001b[0m\n"
     ]
    },
    {
     "name": "stderr",
     "output_type": "stream",
     "text": [
      "\u001b[92mINFO \u001b[0m:      aggregate_fit: received 3 results and 0 failures\n",
      "\u001b[92mINFO \u001b[0m:      fit progress: (9, 0.053221957250074906, {'accuracy': tensor(78.3977, device='cuda:0')}, 47.736505947075784)\n",
      "\u001b[92mINFO \u001b[0m:      configure_evaluate: strategy sampled 1 clients (out of 3)\n",
      "\u001b[92mINFO \u001b[0m:      aggregate_evaluate: received 1 results and 0 failures\n",
      "\u001b[92mINFO \u001b[0m:      \n",
      "\u001b[92mINFO \u001b[0m:      [ROUND 10]\n",
      "\u001b[92mINFO \u001b[0m:      configure_fit: strategy sampled 3 clients (out of 3)\n"
     ]
    },
    {
     "name": "stdout",
     "output_type": "stream",
     "text": [
      "Server-side evaluation loss 0.053221957250074906 / accuracy 78.39771270751953\n",
      "\u001b[2m\u001b[36m(ClientAppActor pid=2247182)\u001b[0m \u001b[32m [repeated 290x across cluster]\u001b[0m\n",
      "\u001b[2m\u001b[36m(ClientAppActor pid=2247182)\u001b[0m Epoch 58/100\u001b[32m [repeated 290x across cluster]\u001b[0m\n",
      "\u001b[2m\u001b[36m(ClientAppActor pid=2247182)\u001b[0m Epoch 64: Training accuracy: 75.5434799194336 Testing accuracy: 76.32849884033203.\u001b[32m [repeated 288x across cluster]\u001b[0m\n"
     ]
    },
    {
     "name": "stderr",
     "output_type": "stream",
     "text": [
      "\u001b[92mINFO \u001b[0m:      aggregate_fit: received 3 results and 0 failures\n",
      "\u001b[92mINFO \u001b[0m:      fit progress: (10, 0.05321722680872137, {'accuracy': tensor(77.9685, device='cuda:0')}, 53.34056852210779)\n",
      "\u001b[92mINFO \u001b[0m:      configure_evaluate: strategy sampled 1 clients (out of 3)\n",
      "\u001b[92mINFO \u001b[0m:      aggregate_evaluate: received 1 results and 0 failures\n",
      "\u001b[92mINFO \u001b[0m:      \n",
      "\u001b[92mINFO \u001b[0m:      [ROUND 11]\n",
      "\u001b[92mINFO \u001b[0m:      configure_fit: strategy sampled 3 clients (out of 3)\n"
     ]
    },
    {
     "name": "stdout",
     "output_type": "stream",
     "text": [
      "Server-side evaluation loss 0.05321722680872137 / accuracy 77.9685287475586\n",
      "\u001b[2m\u001b[36m(ClientAppActor pid=2247182)\u001b[0m \u001b[32m [repeated 287x across cluster]\u001b[0m\n",
      "\u001b[2m\u001b[36m(ClientAppActor pid=2247182)\u001b[0m Epoch 45/100\u001b[32m [repeated 287x across cluster]\u001b[0m\n",
      "\u001b[2m\u001b[36m(ClientAppActor pid=2247182)\u001b[0m Epoch 53: Training accuracy: 73.95209503173828 Testing accuracy: 78.443115234375.\u001b[32m [repeated 289x across cluster]\u001b[0m\n"
     ]
    },
    {
     "name": "stderr",
     "output_type": "stream",
     "text": [
      "\u001b[92mINFO \u001b[0m:      aggregate_fit: received 3 results and 0 failures\n",
      "\u001b[92mINFO \u001b[0m:      fit progress: (11, 0.05435281991958618, {'accuracy': tensor(75.9657, device='cuda:0')}, 58.48653989308514)\n",
      "\u001b[92mINFO \u001b[0m:      configure_evaluate: strategy sampled 1 clients (out of 3)\n",
      "\u001b[92mINFO \u001b[0m:      aggregate_evaluate: received 1 results and 0 failures\n",
      "\u001b[92mINFO \u001b[0m:      \n",
      "\u001b[92mINFO \u001b[0m:      [ROUND 12]\n",
      "\u001b[92mINFO \u001b[0m:      configure_fit: strategy sampled 3 clients (out of 3)\n"
     ]
    },
    {
     "name": "stdout",
     "output_type": "stream",
     "text": [
      "Server-side evaluation loss 0.05435281991958618 / accuracy 75.96566772460938\n",
      "\u001b[2m\u001b[36m(ClientAppActor pid=2247181)\u001b[0m \u001b[32m [repeated 295x across cluster]\u001b[0m\n",
      "\u001b[2m\u001b[36m(ClientAppActor pid=2247181)\u001b[0m Epoch 40/100\u001b[32m [repeated 295x across cluster]\u001b[0m\n",
      "\u001b[2m\u001b[36m(ClientAppActor pid=2247181)\u001b[0m Epoch 46: Training accuracy: 74.69806671142578 Testing accuracy: 72.94686126708984.\u001b[32m [repeated 293x across cluster]\u001b[0m\n"
     ]
    },
    {
     "name": "stderr",
     "output_type": "stream",
     "text": [
      "\u001b[92mINFO \u001b[0m:      aggregate_fit: received 3 results and 0 failures\n",
      "\u001b[92mINFO \u001b[0m:      fit progress: (12, 0.05357713049108332, {'accuracy': tensor(76.9671, device='cuda:0')}, 64.09056662407238)\n",
      "\u001b[92mINFO \u001b[0m:      configure_evaluate: strategy sampled 1 clients (out of 3)\n",
      "\u001b[92mINFO \u001b[0m:      aggregate_evaluate: received 1 results and 0 failures\n",
      "\u001b[92mINFO \u001b[0m:      \n",
      "\u001b[92mINFO \u001b[0m:      [ROUND 13]\n",
      "\u001b[92mINFO \u001b[0m:      configure_fit: strategy sampled 3 clients (out of 3)\n"
     ]
    },
    {
     "name": "stdout",
     "output_type": "stream",
     "text": [
      "Server-side evaluation loss 0.05357713049108332 / accuracy 76.96709442138672\n",
      "\u001b[2m\u001b[36m(ClientAppActor pid=2247182)\u001b[0m \u001b[32m [repeated 286x across cluster]\u001b[0m\n",
      "\u001b[2m\u001b[36m(ClientAppActor pid=2247182)\u001b[0m Epoch 26/100\u001b[32m [repeated 286x across cluster]\u001b[0m\n",
      "\u001b[2m\u001b[36m(ClientAppActor pid=2247182)\u001b[0m Epoch 33: Training accuracy: 74.63018035888672 Testing accuracy: 72.78106689453125.\u001b[32m [repeated 287x across cluster]\u001b[0m\n"
     ]
    },
    {
     "name": "stderr",
     "output_type": "stream",
     "text": [
      "\u001b[92mINFO \u001b[0m:      aggregate_fit: received 3 results and 0 failures\n",
      "\u001b[92mINFO \u001b[0m:      fit progress: (13, 0.05446691404689442, {'accuracy': tensor(75.8226, device='cuda:0')}, 69.2126453591045)\n",
      "\u001b[92mINFO \u001b[0m:      configure_evaluate: strategy sampled 1 clients (out of 3)\n",
      "\u001b[92mINFO \u001b[0m:      aggregate_evaluate: received 1 results and 0 failures\n",
      "\u001b[92mINFO \u001b[0m:      \n",
      "\u001b[92mINFO \u001b[0m:      [ROUND 14]\n",
      "\u001b[92mINFO \u001b[0m:      configure_fit: strategy sampled 3 clients (out of 3)\n"
     ]
    },
    {
     "name": "stdout",
     "output_type": "stream",
     "text": [
      "Server-side evaluation loss 0.05446691404689442 / accuracy 75.82260131835938\n",
      "\u001b[2m\u001b[36m(ClientAppActor pid=2247181)\u001b[0m \u001b[32m [repeated 297x across cluster]\u001b[0m\n",
      "\u001b[2m\u001b[36m(ClientAppActor pid=2247181)\u001b[0m Epoch 23/100\u001b[32m [repeated 297x across cluster]\u001b[0m\n",
      "\u001b[2m\u001b[36m(ClientAppActor pid=2247181)\u001b[0m Epoch 28: Training accuracy: 73.91304016113281 Testing accuracy: 74.39613342285156.\u001b[32m [repeated 295x across cluster]\u001b[0m\n"
     ]
    },
    {
     "name": "stderr",
     "output_type": "stream",
     "text": [
      "\u001b[92mINFO \u001b[0m:      aggregate_fit: received 3 results and 0 failures\n",
      "\u001b[92mINFO \u001b[0m:      fit progress: (14, 0.0532611066644842, {'accuracy': tensor(77.5393, device='cuda:0')}, 74.7300120650325)\n",
      "\u001b[92mINFO \u001b[0m:      configure_evaluate: strategy sampled 1 clients (out of 3)\n",
      "\u001b[92mINFO \u001b[0m:      aggregate_evaluate: received 1 results and 0 failures\n",
      "\u001b[92mINFO \u001b[0m:      \n",
      "\u001b[92mINFO \u001b[0m:      [ROUND 15]\n",
      "\u001b[92mINFO \u001b[0m:      configure_fit: strategy sampled 3 clients (out of 3)\n"
     ]
    },
    {
     "name": "stdout",
     "output_type": "stream",
     "text": [
      "Server-side evaluation loss 0.0532611066644842 / accuracy 77.53934478759766\n",
      "\u001b[2m\u001b[36m(ClientAppActor pid=2247181)\u001b[0m \u001b[32m [repeated 283x across cluster]\u001b[0m\n",
      "\u001b[2m\u001b[36m(ClientAppActor pid=2247181)\u001b[0m Epoch 6/100\u001b[32m [repeated 283x across cluster]\u001b[0m\n",
      "\u001b[2m\u001b[36m(ClientAppActor pid=2247181)\u001b[0m Epoch 12: Training accuracy: 75.4227066040039 Testing accuracy: 76.81159210205078.\u001b[32m [repeated 284x across cluster]\u001b[0m\n"
     ]
    },
    {
     "name": "stderr",
     "output_type": "stream",
     "text": [
      "\u001b[92mINFO \u001b[0m:      aggregate_fit: received 3 results and 0 failures\n",
      "\u001b[92mINFO \u001b[0m:      fit progress: (15, 0.05310886014591564, {'accuracy': tensor(78.2546, device='cuda:0')}, 80.27893408306409)\n",
      "\u001b[92mINFO \u001b[0m:      configure_evaluate: strategy sampled 1 clients (out of 3)\n",
      "\u001b[92mINFO \u001b[0m:      aggregate_evaluate: received 1 results and 0 failures\n",
      "\u001b[92mINFO \u001b[0m:      \n",
      "\u001b[92mINFO \u001b[0m:      [ROUND 16]\n",
      "\u001b[92mINFO \u001b[0m:      configure_fit: strategy sampled 3 clients (out of 3)\n"
     ]
    },
    {
     "name": "stdout",
     "output_type": "stream",
     "text": [
      "Server-side evaluation loss 0.05310886014591564 / accuracy 78.25464630126953\n",
      "\u001b[2m\u001b[36m(ClientAppActor pid=2247181)\u001b[0m \u001b[32m [repeated 253x across cluster]\u001b[0m\n",
      "\u001b[2m\u001b[36m(ClientAppActor pid=2247181)\u001b[0m Epoch 90/100\u001b[32m [repeated 253x across cluster]\u001b[0m\n",
      "\u001b[2m\u001b[36m(ClientAppActor pid=2247181)\u001b[0m Epoch 98: Training accuracy: 75.37425231933594 Testing accuracy: 78.443115234375.\u001b[32m [repeated 261x across cluster]\u001b[0m\n"
     ]
    },
    {
     "name": "stderr",
     "output_type": "stream",
     "text": [
      "\u001b[92mINFO \u001b[0m:      aggregate_fit: received 3 results and 0 failures\n",
      "\u001b[92mINFO \u001b[0m:      fit progress: (16, 0.05291092937642878, {'accuracy': tensor(78.2546, device='cuda:0')}, 85.3070523540955)\n",
      "\u001b[92mINFO \u001b[0m:      configure_evaluate: strategy sampled 1 clients (out of 3)\n",
      "\u001b[92mINFO \u001b[0m:      aggregate_evaluate: received 1 results and 0 failures\n",
      "\u001b[92mINFO \u001b[0m:      \n",
      "\u001b[92mINFO \u001b[0m:      [ROUND 17]\n",
      "\u001b[92mINFO \u001b[0m:      configure_fit: strategy sampled 3 clients (out of 3)\n"
     ]
    },
    {
     "name": "stdout",
     "output_type": "stream",
     "text": [
      "Server-side evaluation loss 0.05291092937642878 / accuracy 78.25464630126953\n",
      "\u001b[2m\u001b[36m(ClientAppActor pid=2247181)\u001b[0m \u001b[32m [repeated 317x across cluster]\u001b[0m\n",
      "\u001b[2m\u001b[36m(ClientAppActor pid=2247181)\u001b[0m Epoch 90/100\u001b[32m [repeated 317x across cluster]\u001b[0m\n",
      "\u001b[2m\u001b[36m(ClientAppActor pid=2247181)\u001b[0m Epoch 97: Training accuracy: 74.77810668945312 Testing accuracy: 76.92308044433594.\u001b[32m [repeated 317x across cluster]\u001b[0m\n"
     ]
    },
    {
     "name": "stderr",
     "output_type": "stream",
     "text": [
      "\u001b[92mINFO \u001b[0m:      aggregate_fit: received 3 results and 0 failures\n",
      "\u001b[92mINFO \u001b[0m:      fit progress: (17, 0.0529062802141363, {'accuracy': tensor(78.2546, device='cuda:0')}, 90.91129679803271)\n",
      "\u001b[92mINFO \u001b[0m:      configure_evaluate: strategy sampled 1 clients (out of 3)\n",
      "\u001b[92mINFO \u001b[0m:      aggregate_evaluate: received 1 results and 0 failures\n",
      "\u001b[92mINFO \u001b[0m:      \n",
      "\u001b[92mINFO \u001b[0m:      [ROUND 18]\n",
      "\u001b[92mINFO \u001b[0m:      configure_fit: strategy sampled 3 clients (out of 3)\n"
     ]
    },
    {
     "name": "stdout",
     "output_type": "stream",
     "text": [
      "Server-side evaluation loss 0.0529062802141363 / accuracy 78.25464630126953\n",
      "\u001b[2m\u001b[36m(ClientAppActor pid=2247181)\u001b[0m \u001b[32m [repeated 259x across cluster]\u001b[0m\n",
      "\u001b[2m\u001b[36m(ClientAppActor pid=2247181)\u001b[0m Epoch 71/100\u001b[32m [repeated 259x across cluster]\u001b[0m\n",
      "\u001b[2m\u001b[36m(ClientAppActor pid=2247181)\u001b[0m Epoch 78: Training accuracy: 76.42215728759766 Testing accuracy: 79.04191589355469.\u001b[32m [repeated 259x across cluster]\u001b[0m\n"
     ]
    },
    {
     "name": "stderr",
     "output_type": "stream",
     "text": [
      "\u001b[92mINFO \u001b[0m:      aggregate_fit: received 3 results and 0 failures\n",
      "\u001b[92mINFO \u001b[0m:      fit progress: (18, 0.05287776751951738, {'accuracy': tensor(78.3977, device='cuda:0')}, 96.43821271904744)\n",
      "\u001b[92mINFO \u001b[0m:      configure_evaluate: strategy sampled 1 clients (out of 3)\n",
      "\u001b[92mINFO \u001b[0m:      aggregate_evaluate: received 1 results and 0 failures\n",
      "\u001b[92mINFO \u001b[0m:      \n",
      "\u001b[92mINFO \u001b[0m:      [ROUND 19]\n",
      "\u001b[92mINFO \u001b[0m:      configure_fit: strategy sampled 3 clients (out of 3)\n"
     ]
    },
    {
     "name": "stdout",
     "output_type": "stream",
     "text": [
      "Server-side evaluation loss 0.05287776751951738 / accuracy 78.39771270751953\n",
      "\u001b[2m\u001b[36m(ClientAppActor pid=2247181)\u001b[0m \u001b[32m [repeated 258x across cluster]\u001b[0m\n",
      "\u001b[2m\u001b[36m(ClientAppActor pid=2247181)\u001b[0m Epoch 54/100\u001b[32m [repeated 258x across cluster]\u001b[0m\n",
      "\u001b[2m\u001b[36m(ClientAppActor pid=2247181)\u001b[0m Epoch 61: Training accuracy: 77.17066192626953 Testing accuracy: 78.443115234375.\u001b[32m [repeated 257x across cluster]\u001b[0m\n"
     ]
    },
    {
     "name": "stderr",
     "output_type": "stream",
     "text": [
      "\u001b[92mINFO \u001b[0m:      aggregate_fit: received 3 results and 0 failures\n",
      "\u001b[92mINFO \u001b[0m:      fit progress: (19, 0.053005673668601296, {'accuracy': tensor(77.9685, device='cuda:0')}, 101.46103416208643)\n",
      "\u001b[92mINFO \u001b[0m:      configure_evaluate: strategy sampled 1 clients (out of 3)\n",
      "\u001b[92mINFO \u001b[0m:      aggregate_evaluate: received 1 results and 0 failures\n",
      "\u001b[92mINFO \u001b[0m:      \n",
      "\u001b[92mINFO \u001b[0m:      [ROUND 20]\n",
      "\u001b[92mINFO \u001b[0m:      configure_fit: strategy sampled 3 clients (out of 3)\n"
     ]
    },
    {
     "name": "stdout",
     "output_type": "stream",
     "text": [
      "Server-side evaluation loss 0.053005673668601296 / accuracy 77.9685287475586\n",
      "\u001b[2m\u001b[36m(ClientAppActor pid=2247181)\u001b[0m \u001b[32m [repeated 298x across cluster]\u001b[0m\n",
      "\u001b[2m\u001b[36m(ClientAppActor pid=2247181)\u001b[0m Epoch 44/100\u001b[32m [repeated 298x across cluster]\u001b[0m\n",
      "\u001b[2m\u001b[36m(ClientAppActor pid=2247181)\u001b[0m Epoch 49: Training accuracy: 76.08695983886719 Testing accuracy: 77.29468536376953.\u001b[32m [repeated 296x across cluster]\u001b[0m\n"
     ]
    },
    {
     "name": "stderr",
     "output_type": "stream",
     "text": [
      "\u001b[92mINFO \u001b[0m:      aggregate_fit: received 3 results and 0 failures\n",
      "\u001b[92mINFO \u001b[0m:      fit progress: (20, 0.052542556415904655, {'accuracy': tensor(79.1130, device='cuda:0')}, 106.64470582210924)\n",
      "\u001b[92mINFO \u001b[0m:      configure_evaluate: strategy sampled 1 clients (out of 3)\n",
      "\u001b[92mINFO \u001b[0m:      aggregate_evaluate: received 1 results and 0 failures\n",
      "\u001b[92mINFO \u001b[0m:      \n",
      "\u001b[92mINFO \u001b[0m:      [ROUND 21]\n",
      "\u001b[92mINFO \u001b[0m:      configure_fit: strategy sampled 3 clients (out of 3)\n"
     ]
    },
    {
     "name": "stdout",
     "output_type": "stream",
     "text": [
      "Server-side evaluation loss 0.052542556415904655 / accuracy 79.11302185058594\n",
      "\u001b[2m\u001b[36m(ClientAppActor pid=2247181)\u001b[0m \u001b[32m [repeated 291x across cluster]\u001b[0m\n",
      "\u001b[2m\u001b[36m(ClientAppActor pid=2247181)\u001b[0m Epoch 47/100\u001b[32m [repeated 291x across cluster]\u001b[0m\n",
      "\u001b[2m\u001b[36m(ClientAppActor pid=2247181)\u001b[0m Epoch 54: Training accuracy: 75.07396697998047 Testing accuracy: 76.92308044433594.\u001b[32m [repeated 293x across cluster]\u001b[0m\n"
     ]
    },
    {
     "name": "stderr",
     "output_type": "stream",
     "text": [
      "\u001b[92mINFO \u001b[0m:      aggregate_fit: received 3 results and 0 failures\n",
      "\u001b[92mINFO \u001b[0m:      fit progress: (21, 0.05295896530151367, {'accuracy': tensor(78.2546, device='cuda:0')}, 111.79242293501738)\n",
      "\u001b[92mINFO \u001b[0m:      configure_evaluate: strategy sampled 1 clients (out of 3)\n",
      "\u001b[92mINFO \u001b[0m:      aggregate_evaluate: received 1 results and 0 failures\n",
      "\u001b[92mINFO \u001b[0m:      \n",
      "\u001b[92mINFO \u001b[0m:      [ROUND 22]\n",
      "\u001b[92mINFO \u001b[0m:      configure_fit: strategy sampled 3 clients (out of 3)\n"
     ]
    },
    {
     "name": "stdout",
     "output_type": "stream",
     "text": [
      "Server-side evaluation loss 0.05295896530151367 / accuracy 78.25464630126953\n",
      "\u001b[2m\u001b[36m(ClientAppActor pid=2247181)\u001b[0m \u001b[32m [repeated 310x across cluster]\u001b[0m\n",
      "\u001b[2m\u001b[36m(ClientAppActor pid=2247181)\u001b[0m Epoch 48/100\u001b[32m [repeated 310x across cluster]\u001b[0m\n",
      "\u001b[2m\u001b[36m(ClientAppActor pid=2247181)\u001b[0m Epoch 55: Training accuracy: 75.22189331054688 Testing accuracy: 76.92308044433594.\u001b[32m [repeated 311x across cluster]\u001b[0m\n"
     ]
    },
    {
     "name": "stderr",
     "output_type": "stream",
     "text": [
      "\u001b[92mINFO \u001b[0m:      aggregate_fit: received 3 results and 0 failures\n",
      "\u001b[92mINFO \u001b[0m:      fit progress: (22, 0.05328269438310103, {'accuracy': tensor(77.8255, device='cuda:0')}, 117.39316707407124)\n",
      "\u001b[92mINFO \u001b[0m:      configure_evaluate: strategy sampled 1 clients (out of 3)\n",
      "\u001b[92mINFO \u001b[0m:      aggregate_evaluate: received 1 results and 0 failures\n",
      "\u001b[92mINFO \u001b[0m:      \n",
      "\u001b[92mINFO \u001b[0m:      [ROUND 23]\n",
      "\u001b[92mINFO \u001b[0m:      configure_fit: strategy sampled 3 clients (out of 3)\n"
     ]
    },
    {
     "name": "stdout",
     "output_type": "stream",
     "text": [
      "Server-side evaluation loss 0.05328269438310103 / accuracy 77.8254623413086\n",
      "\u001b[2m\u001b[36m(ClientAppActor pid=2247181)\u001b[0m \u001b[32m [repeated 254x across cluster]\u001b[0m\n",
      "\u001b[2m\u001b[36m(ClientAppActor pid=2247181)\u001b[0m Epoch 23/100\u001b[32m [repeated 254x across cluster]\u001b[0m\n",
      "\u001b[2m\u001b[36m(ClientAppActor pid=2247181)\u001b[0m Epoch 28: Training accuracy: 73.97342681884766 Testing accuracy: 74.39613342285156.\u001b[32m [repeated 252x across cluster]\u001b[0m\n"
     ]
    },
    {
     "name": "stderr",
     "output_type": "stream",
     "text": [
      "\u001b[92mINFO \u001b[0m:      aggregate_fit: received 3 results and 0 failures\n",
      "\u001b[92mINFO \u001b[0m:      fit progress: (23, 0.05244049700823697, {'accuracy': tensor(78.9700, device='cuda:0')}, 122.62578496907372)\n",
      "\u001b[92mINFO \u001b[0m:      configure_evaluate: strategy sampled 1 clients (out of 3)\n",
      "\u001b[92mINFO \u001b[0m:      aggregate_evaluate: received 1 results and 0 failures\n",
      "\u001b[92mINFO \u001b[0m:      \n",
      "\u001b[92mINFO \u001b[0m:      [ROUND 24]\n",
      "\u001b[92mINFO \u001b[0m:      configure_fit: strategy sampled 3 clients (out of 3)\n"
     ]
    },
    {
     "name": "stdout",
     "output_type": "stream",
     "text": [
      "Server-side evaluation loss 0.05244049700823697 / accuracy 78.96995544433594\n",
      "\u001b[2m\u001b[36m(ClientAppActor pid=2247181)\u001b[0m \u001b[32m [repeated 289x across cluster]\u001b[0m\n",
      "\u001b[2m\u001b[36m(ClientAppActor pid=2247181)\u001b[0m Epoch 21/100\u001b[32m [repeated 289x across cluster]\u001b[0m\n",
      "\u001b[2m\u001b[36m(ClientAppActor pid=2247181)\u001b[0m Epoch 28: Training accuracy: 75.51775360107422 Testing accuracy: 76.92308044433594.\u001b[32m [repeated 290x across cluster]\u001b[0m\n"
     ]
    },
    {
     "name": "stderr",
     "output_type": "stream",
     "text": [
      "\u001b[92mINFO \u001b[0m:      aggregate_fit: received 3 results and 0 failures\n",
      "\u001b[92mINFO \u001b[0m:      fit progress: (24, 0.05232774669473821, {'accuracy': tensor(78.9700, device='cuda:0')}, 127.69527103903238)\n",
      "\u001b[92mINFO \u001b[0m:      configure_evaluate: strategy sampled 1 clients (out of 3)\n",
      "\u001b[92mINFO \u001b[0m:      aggregate_evaluate: received 1 results and 0 failures\n",
      "\u001b[92mINFO \u001b[0m:      \n",
      "\u001b[92mINFO \u001b[0m:      [ROUND 25]\n",
      "\u001b[92mINFO \u001b[0m:      configure_fit: strategy sampled 3 clients (out of 3)\n"
     ]
    },
    {
     "name": "stdout",
     "output_type": "stream",
     "text": [
      "Server-side evaluation loss 0.05232774669473821 / accuracy 78.96995544433594\n",
      "\u001b[2m\u001b[36m(ClientAppActor pid=2247181)\u001b[0m \u001b[32m [repeated 301x across cluster]\u001b[0m\n",
      "\u001b[2m\u001b[36m(ClientAppActor pid=2247181)\u001b[0m Epoch 18/100\u001b[32m [repeated 300x across cluster]\u001b[0m\n",
      "\u001b[2m\u001b[36m(ClientAppActor pid=2247181)\u001b[0m Epoch 24: Training accuracy: 76.63043212890625 Testing accuracy: 77.77777862548828.\u001b[32m [repeated 301x across cluster]\u001b[0m\n"
     ]
    },
    {
     "name": "stderr",
     "output_type": "stream",
     "text": [
      "\u001b[92mINFO \u001b[0m:      aggregate_fit: received 3 results and 0 failures\n",
      "\u001b[92mINFO \u001b[0m:      fit progress: (25, 0.05348713831468062, {'accuracy': tensor(77.3963, device='cuda:0')}, 132.94902455201373)\n",
      "\u001b[92mINFO \u001b[0m:      configure_evaluate: strategy sampled 1 clients (out of 3)\n",
      "\u001b[92mINFO \u001b[0m:      aggregate_evaluate: received 1 results and 0 failures\n",
      "\u001b[92mINFO \u001b[0m:      \n",
      "\u001b[92mINFO \u001b[0m:      [ROUND 26]\n",
      "\u001b[92mINFO \u001b[0m:      configure_fit: strategy sampled 3 clients (out of 3)\n"
     ]
    },
    {
     "name": "stdout",
     "output_type": "stream",
     "text": [
      "Server-side evaluation loss 0.05348713831468062 / accuracy 77.39627838134766\n",
      "\u001b[2m\u001b[36m(ClientAppActor pid=2247181)\u001b[0m \u001b[32m [repeated 289x across cluster]\u001b[0m\n",
      "\u001b[2m\u001b[36m(ClientAppActor pid=2247181)\u001b[0m Epoch 13/100\u001b[32m [repeated 289x across cluster]\u001b[0m\n",
      "\u001b[2m\u001b[36m(ClientAppActor pid=2247181)\u001b[0m Epoch 18: Training accuracy: 76.32849884033203 Testing accuracy: 75.84541320800781.\u001b[32m [repeated 287x across cluster]\u001b[0m\n"
     ]
    },
    {
     "name": "stderr",
     "output_type": "stream",
     "text": [
      "\u001b[92mINFO \u001b[0m:      aggregate_fit: received 3 results and 0 failures\n",
      "\u001b[92mINFO \u001b[0m:      fit progress: (26, 0.053021284666928375, {'accuracy': tensor(78.2546, device='cuda:0')}, 138.08902977209073)\n",
      "\u001b[92mINFO \u001b[0m:      configure_evaluate: strategy sampled 1 clients (out of 3)\n",
      "\u001b[92mINFO \u001b[0m:      aggregate_evaluate: received 1 results and 0 failures\n",
      "\u001b[92mINFO \u001b[0m:      \n",
      "\u001b[92mINFO \u001b[0m:      [ROUND 27]\n",
      "\u001b[92mINFO \u001b[0m:      configure_fit: strategy sampled 3 clients (out of 3)\n"
     ]
    },
    {
     "name": "stdout",
     "output_type": "stream",
     "text": [
      "Server-side evaluation loss 0.053021284666928375 / accuracy 78.25464630126953\n",
      "\u001b[2m\u001b[36m(ClientAppActor pid=2247181)\u001b[0m \u001b[32m [repeated 296x across cluster]\u001b[0m\n",
      "\u001b[2m\u001b[36m(ClientAppActor pid=2247181)\u001b[0m Epoch 13/100\u001b[32m [repeated 296x across cluster]\u001b[0m\n",
      "\u001b[2m\u001b[36m(ClientAppActor pid=2247181)\u001b[0m Epoch 20: Training accuracy: 77.76946258544922 Testing accuracy: 79.64071655273438.\u001b[32m [repeated 297x across cluster]\u001b[0m\n"
     ]
    },
    {
     "name": "stderr",
     "output_type": "stream",
     "text": [
      "\u001b[92mINFO \u001b[0m:      aggregate_fit: received 3 results and 0 failures\n",
      "\u001b[92mINFO \u001b[0m:      fit progress: (27, 0.05257036469199441, {'accuracy': tensor(78.5408, device='cuda:0')}, 143.1080326680094)\n",
      "\u001b[92mINFO \u001b[0m:      configure_evaluate: strategy sampled 1 clients (out of 3)\n",
      "\u001b[92mINFO \u001b[0m:      aggregate_evaluate: received 1 results and 0 failures\n",
      "\u001b[92mINFO \u001b[0m:      \n",
      "\u001b[92mINFO \u001b[0m:      [ROUND 28]\n",
      "\u001b[92mINFO \u001b[0m:      configure_fit: strategy sampled 3 clients (out of 3)\n"
     ]
    },
    {
     "name": "stdout",
     "output_type": "stream",
     "text": [
      "Server-side evaluation loss 0.05257036469199441 / accuracy 78.540771484375\n",
      "\u001b[2m\u001b[36m(ClientAppActor pid=2247181)\u001b[0m \u001b[32m [repeated 304x across cluster]\u001b[0m\n",
      "\u001b[2m\u001b[36m(ClientAppActor pid=2247181)\u001b[0m Epoch 16/100\u001b[32m [repeated 304x across cluster]\u001b[0m\n",
      "\u001b[2m\u001b[36m(ClientAppActor pid=2247181)\u001b[0m Epoch 23: Training accuracy: 77.76946258544922 Testing accuracy: 79.64071655273438.\u001b[32m [repeated 304x across cluster]\u001b[0m\n"
     ]
    },
    {
     "name": "stderr",
     "output_type": "stream",
     "text": [
      "\u001b[92mINFO \u001b[0m:      aggregate_fit: received 3 results and 0 failures\n",
      "\u001b[92mINFO \u001b[0m:      fit progress: (28, 0.051714187318628486, {'accuracy': tensor(78.6838, device='cuda:0')}, 148.25629862910137)\n",
      "\u001b[92mINFO \u001b[0m:      configure_evaluate: strategy sampled 1 clients (out of 3)\n",
      "\u001b[92mINFO \u001b[0m:      aggregate_evaluate: received 1 results and 0 failures\n",
      "\u001b[92mINFO \u001b[0m:      \n",
      "\u001b[92mINFO \u001b[0m:      [ROUND 29]\n",
      "\u001b[92mINFO \u001b[0m:      configure_fit: strategy sampled 3 clients (out of 3)\n"
     ]
    },
    {
     "name": "stdout",
     "output_type": "stream",
     "text": [
      "Server-side evaluation loss 0.051714187318628486 / accuracy 78.68383026123047\n",
      "\u001b[2m\u001b[36m(ClientAppActor pid=2247181)\u001b[0m \u001b[32m [repeated 293x across cluster]\u001b[0m\n",
      "\u001b[2m\u001b[36m(ClientAppActor pid=2247181)\u001b[0m Epoch 10/100\u001b[32m [repeated 293x across cluster]\u001b[0m\n",
      "\u001b[2m\u001b[36m(ClientAppActor pid=2247181)\u001b[0m Epoch 16: Training accuracy: 77.113525390625 Testing accuracy: 79.22705078125.\u001b[32m [repeated 293x across cluster]\u001b[0m\n"
     ]
    },
    {
     "name": "stderr",
     "output_type": "stream",
     "text": [
      "\u001b[92mINFO \u001b[0m:      aggregate_fit: received 3 results and 0 failures\n",
      "\u001b[92mINFO \u001b[0m:      fit progress: (29, 0.053270697593688965, {'accuracy': tensor(77.3963, device='cuda:0')}, 153.58051441400312)\n",
      "\u001b[92mINFO \u001b[0m:      configure_evaluate: strategy sampled 1 clients (out of 3)\n",
      "\u001b[92mINFO \u001b[0m:      aggregate_evaluate: received 1 results and 0 failures\n",
      "\u001b[92mINFO \u001b[0m:      \n",
      "\u001b[92mINFO \u001b[0m:      [ROUND 30]\n",
      "\u001b[92mINFO \u001b[0m:      configure_fit: strategy sampled 3 clients (out of 3)\n"
     ]
    },
    {
     "name": "stdout",
     "output_type": "stream",
     "text": [
      "Server-side evaluation loss 0.053270697593688965 / accuracy 77.39627838134766\n",
      "\u001b[2m\u001b[36m(ClientAppActor pid=2247181)\u001b[0m \u001b[32m [repeated 285x across cluster]\u001b[0m\n",
      "\u001b[2m\u001b[36m(ClientAppActor pid=2247181)\u001b[0m Epoch 2/100\u001b[32m [repeated 285x across cluster]\u001b[0m\n",
      "\u001b[2m\u001b[36m(ClientAppActor pid=2247181)\u001b[0m Epoch 10: Training accuracy: 78.21855926513672 Testing accuracy: 80.23951721191406.\u001b[32m [repeated 285x across cluster]\u001b[0m\n",
      "\u001b[2m\u001b[36m(ClientAppActor pid=2247181)\u001b[0m \u001b[32m [repeated 286x across cluster]\u001b[0m\n",
      "\u001b[2m\u001b[36m(ClientAppActor pid=2247181)\u001b[0m Epoch 88/100\u001b[32m [repeated 286x across cluster]\u001b[0m\n"
     ]
    },
    {
     "name": "stderr",
     "output_type": "stream",
     "text": [
      "\u001b[92mINFO \u001b[0m:      aggregate_fit: received 3 results and 0 failures\n"
     ]
    },
    {
     "name": "stdout",
     "output_type": "stream",
     "text": [
      "\u001b[2m\u001b[36m(ClientAppActor pid=2247181)\u001b[0m Epoch 93: Training accuracy: 76.87197875976562 Testing accuracy: 77.29468536376953.\u001b[32m [repeated 278x across cluster]\u001b[0m\n"
     ]
    },
    {
     "name": "stderr",
     "output_type": "stream",
     "text": [
      "\u001b[92mINFO \u001b[0m:      fit progress: (30, 0.051842250607230446, {'accuracy': tensor(77.2532, device='cuda:0')}, 159.16230051103048)\n",
      "\u001b[92mINFO \u001b[0m:      configure_evaluate: strategy sampled 1 clients (out of 3)\n",
      "\u001b[92mINFO \u001b[0m:      aggregate_evaluate: received 1 results and 0 failures\n",
      "\u001b[92mINFO \u001b[0m:      \n",
      "\u001b[92mINFO \u001b[0m:      [ROUND 31]\n",
      "\u001b[92mINFO \u001b[0m:      configure_fit: strategy sampled 3 clients (out of 3)\n"
     ]
    },
    {
     "name": "stdout",
     "output_type": "stream",
     "text": [
      "Server-side evaluation loss 0.051842250607230446 / accuracy 77.25321960449219\n",
      "\u001b[2m\u001b[36m(ClientAppActor pid=2247182)\u001b[0m \u001b[32m [repeated 293x across cluster]\u001b[0m\n",
      "\u001b[2m\u001b[36m(ClientAppActor pid=2247182)\u001b[0m Epoch 81/100\u001b[32m [repeated 293x across cluster]\u001b[0m\n",
      "\u001b[2m\u001b[36m(ClientAppActor pid=2247182)\u001b[0m Epoch 88: Training accuracy: 75.07396697998047 Testing accuracy: 81.65680694580078.\u001b[32m [repeated 295x across cluster]\u001b[0m\n"
     ]
    },
    {
     "name": "stderr",
     "output_type": "stream",
     "text": [
      "\u001b[92mINFO \u001b[0m:      aggregate_fit: received 3 results and 0 failures\n",
      "\u001b[92mINFO \u001b[0m:      fit progress: (31, 0.05207496339624578, {'accuracy': tensor(78.8269, device='cuda:0')}, 164.27689825603738)\n",
      "\u001b[92mINFO \u001b[0m:      configure_evaluate: strategy sampled 1 clients (out of 3)\n",
      "\u001b[92mINFO \u001b[0m:      aggregate_evaluate: received 1 results and 0 failures\n",
      "\u001b[92mINFO \u001b[0m:      \n",
      "\u001b[92mINFO \u001b[0m:      [ROUND 32]\n",
      "\u001b[92mINFO \u001b[0m:      configure_fit: strategy sampled 3 clients (out of 3)\n"
     ]
    },
    {
     "name": "stdout",
     "output_type": "stream",
     "text": [
      "Server-side evaluation loss 0.05207496339624578 / accuracy 78.82689666748047\n",
      "\u001b[2m\u001b[36m(ClientAppActor pid=2247182)\u001b[0m \u001b[32m [repeated 295x across cluster]\u001b[0m\n",
      "\u001b[2m\u001b[36m(ClientAppActor pid=2247182)\u001b[0m Epoch 76/100\u001b[32m [repeated 295x across cluster]\u001b[0m\n",
      "\u001b[2m\u001b[36m(ClientAppActor pid=2247182)\u001b[0m Epoch 84: Training accuracy: 75.67365264892578 Testing accuracy: 76.6467056274414.\u001b[32m [repeated 296x across cluster]\u001b[0m\n"
     ]
    },
    {
     "name": "stderr",
     "output_type": "stream",
     "text": [
      "\u001b[92mINFO \u001b[0m:      aggregate_fit: received 3 results and 0 failures\n",
      "\u001b[92mINFO \u001b[0m:      fit progress: (32, 0.051354792985049164, {'accuracy': tensor(78.9700, device='cuda:0')}, 169.4505530130118)\n",
      "\u001b[92mINFO \u001b[0m:      configure_evaluate: strategy sampled 1 clients (out of 3)\n",
      "\u001b[92mINFO \u001b[0m:      aggregate_evaluate: received 1 results and 0 failures\n",
      "\u001b[92mINFO \u001b[0m:      \n",
      "\u001b[92mINFO \u001b[0m:      [ROUND 33]\n",
      "\u001b[92mINFO \u001b[0m:      configure_fit: strategy sampled 3 clients (out of 3)\n"
     ]
    },
    {
     "name": "stdout",
     "output_type": "stream",
     "text": [
      "Server-side evaluation loss 0.051354792985049164 / accuracy 78.96995544433594\n",
      "\u001b[2m\u001b[36m(ClientAppActor pid=2247182)\u001b[0m \u001b[32m [repeated 285x across cluster]\u001b[0m\n",
      "\u001b[2m\u001b[36m(ClientAppActor pid=2247182)\u001b[0m Epoch 61/100\u001b[32m [repeated 285x across cluster]\u001b[0m\n",
      "\u001b[2m\u001b[36m(ClientAppActor pid=2247182)\u001b[0m Epoch 67: Training accuracy: 76.32849884033203 Testing accuracy: 76.81159210205078.\u001b[32m [repeated 283x across cluster]\u001b[0m\n"
     ]
    },
    {
     "name": "stderr",
     "output_type": "stream",
     "text": [
      "\u001b[92mINFO \u001b[0m:      aggregate_fit: received 3 results and 0 failures\n",
      "\u001b[92mINFO \u001b[0m:      fit progress: (33, 0.05268219384280118, {'accuracy': tensor(77.6824, device='cuda:0')}, 175.15408669004682)\n",
      "\u001b[92mINFO \u001b[0m:      configure_evaluate: strategy sampled 1 clients (out of 3)\n",
      "\u001b[92mINFO \u001b[0m:      aggregate_evaluate: received 1 results and 0 failures\n",
      "\u001b[92mINFO \u001b[0m:      \n",
      "\u001b[92mINFO \u001b[0m:      [ROUND 34]\n",
      "\u001b[92mINFO \u001b[0m:      configure_fit: strategy sampled 3 clients (out of 3)\n"
     ]
    },
    {
     "name": "stdout",
     "output_type": "stream",
     "text": [
      "Server-side evaluation loss 0.05268219384280118 / accuracy 77.68240356445312\n",
      "\u001b[2m\u001b[36m(ClientAppActor pid=2247181)\u001b[0m \u001b[32m [repeated 279x across cluster]\u001b[0m\n",
      "\u001b[2m\u001b[36m(ClientAppActor pid=2247181)\u001b[0m Epoch 40/100\u001b[32m [repeated 279x across cluster]\u001b[0m\n",
      "\u001b[2m\u001b[36m(ClientAppActor pid=2247181)\u001b[0m Epoch 46: Training accuracy: 77.35507202148438 Testing accuracy: 76.32849884033203.\u001b[32m [repeated 279x across cluster]\u001b[0m\n"
     ]
    },
    {
     "name": "stderr",
     "output_type": "stream",
     "text": [
      "\u001b[92mINFO \u001b[0m:      aggregate_fit: received 3 results and 0 failures\n",
      "\u001b[92mINFO \u001b[0m:      fit progress: (34, 0.05129907347939231, {'accuracy': tensor(79.1130, device='cuda:0')}, 180.8497047451092)\n",
      "\u001b[92mINFO \u001b[0m:      configure_evaluate: strategy sampled 1 clients (out of 3)\n",
      "\u001b[92mINFO \u001b[0m:      aggregate_evaluate: received 1 results and 0 failures\n",
      "\u001b[92mINFO \u001b[0m:      \n",
      "\u001b[92mINFO \u001b[0m:      [ROUND 35]\n",
      "\u001b[92mINFO \u001b[0m:      configure_fit: strategy sampled 3 clients (out of 3)\n"
     ]
    },
    {
     "name": "stdout",
     "output_type": "stream",
     "text": [
      "Server-side evaluation loss 0.05129907347939231 / accuracy 79.11302185058594\n",
      "\u001b[2m\u001b[36m(ClientAppActor pid=2247182)\u001b[0m \u001b[32m [repeated 279x across cluster]\u001b[0m\n",
      "\u001b[2m\u001b[36m(ClientAppActor pid=2247182)\u001b[0m Epoch 19/100\u001b[32m [repeated 279x across cluster]\u001b[0m\n",
      "\u001b[2m\u001b[36m(ClientAppActor pid=2247182)\u001b[0m Epoch 25: Training accuracy: 77.29468536376953 Testing accuracy: 77.29468536376953.\u001b[32m [repeated 279x across cluster]\u001b[0m\n"
     ]
    },
    {
     "name": "stderr",
     "output_type": "stream",
     "text": [
      "\u001b[92mINFO \u001b[0m:      aggregate_fit: received 3 results and 0 failures\n",
      "\u001b[92mINFO \u001b[0m:      fit progress: (35, 0.051199712536551735, {'accuracy': tensor(79.2561, device='cuda:0')}, 186.5450377369998)\n",
      "\u001b[92mINFO \u001b[0m:      configure_evaluate: strategy sampled 1 clients (out of 3)\n",
      "\u001b[92mINFO \u001b[0m:      aggregate_evaluate: received 1 results and 0 failures\n",
      "\u001b[92mINFO \u001b[0m:      \n",
      "\u001b[92mINFO \u001b[0m:      [ROUND 36]\n",
      "\u001b[92mINFO \u001b[0m:      configure_fit: strategy sampled 3 clients (out of 3)\n"
     ]
    },
    {
     "name": "stdout",
     "output_type": "stream",
     "text": [
      "Server-side evaluation loss 0.051199712536551735 / accuracy 79.2560806274414\n",
      "\u001b[2m\u001b[36m(ClientAppActor pid=2247181)\u001b[0m \u001b[32m [repeated 255x across cluster]\u001b[0m\n",
      "\u001b[2m\u001b[36m(ClientAppActor pid=2247181)\u001b[0m Epoch 97/100\u001b[32m [repeated 255x across cluster]\u001b[0m\n",
      "\u001b[2m\u001b[36m(ClientAppActor pid=2247181)\u001b[0m Epoch 3: Training accuracy: 75.89820098876953 Testing accuracy: 79.64071655273438.\u001b[32m [repeated 260x across cluster]\u001b[0m\n"
     ]
    },
    {
     "name": "stderr",
     "output_type": "stream",
     "text": [
      "\u001b[92mINFO \u001b[0m:      aggregate_fit: received 3 results and 0 failures\n",
      "\u001b[92mINFO \u001b[0m:      fit progress: (36, 0.051011388952081856, {'accuracy': tensor(79.2561, device='cuda:0')}, 191.64806768507697)\n",
      "\u001b[92mINFO \u001b[0m:      configure_evaluate: strategy sampled 1 clients (out of 3)\n",
      "\u001b[92mINFO \u001b[0m:      aggregate_evaluate: received 1 results and 0 failures\n",
      "\u001b[92mINFO \u001b[0m:      \n",
      "\u001b[92mINFO \u001b[0m:      [ROUND 37]\n",
      "\u001b[92mINFO \u001b[0m:      configure_fit: strategy sampled 3 clients (out of 3)\n"
     ]
    },
    {
     "name": "stdout",
     "output_type": "stream",
     "text": [
      "Server-side evaluation loss 0.051011388952081856 / accuracy 79.2560806274414\n",
      "\u001b[2m\u001b[36m(ClientAppActor pid=2247181)\u001b[0m \u001b[32m [repeated 301x across cluster]\u001b[0m\n",
      "\u001b[2m\u001b[36m(ClientAppActor pid=2247181)\u001b[0m Epoch 98/100\u001b[32m [repeated 301x across cluster]\u001b[0m\n",
      "\u001b[2m\u001b[36m(ClientAppActor pid=2247181)\u001b[0m Epoch 4: Training accuracy: 78.3682632446289 Testing accuracy: 80.23951721191406.\u001b[32m [repeated 302x across cluster]\u001b[0m\n"
     ]
    },
    {
     "name": "stderr",
     "output_type": "stream",
     "text": [
      "\u001b[92mINFO \u001b[0m:      aggregate_fit: received 3 results and 0 failures\n",
      "\u001b[92mINFO \u001b[0m:      fit progress: (37, 0.05139121142300693, {'accuracy': tensor(78.6838, device='cuda:0')}, 196.7285245480016)\n",
      "\u001b[92mINFO \u001b[0m:      configure_evaluate: strategy sampled 1 clients (out of 3)\n",
      "\u001b[92mINFO \u001b[0m:      aggregate_evaluate: received 1 results and 0 failures\n",
      "\u001b[92mINFO \u001b[0m:      \n",
      "\u001b[92mINFO \u001b[0m:      [ROUND 38]\n",
      "\u001b[92mINFO \u001b[0m:      configure_fit: strategy sampled 3 clients (out of 3)\n"
     ]
    },
    {
     "name": "stdout",
     "output_type": "stream",
     "text": [
      "Server-side evaluation loss 0.05139121142300693 / accuracy 78.68383026123047\n",
      "\u001b[2m\u001b[36m(ClientAppActor pid=2247181)\u001b[0m \u001b[32m [repeated 321x across cluster]\u001b[0m\n",
      "\u001b[2m\u001b[36m(ClientAppActor pid=2247181)\u001b[0m Epoch 99/100\u001b[32m [repeated 321x across cluster]\u001b[0m\n",
      "\u001b[2m\u001b[36m(ClientAppActor pid=2247182)\u001b[0m Epoch 5: Training accuracy: 77.71739196777344 Testing accuracy: 78.74396514892578.\u001b[32m [repeated 318x across cluster]\u001b[0m\n"
     ]
    },
    {
     "name": "stderr",
     "output_type": "stream",
     "text": [
      "\u001b[92mINFO \u001b[0m:      aggregate_fit: received 3 results and 0 failures\n",
      "\u001b[92mINFO \u001b[0m:      fit progress: (38, 0.050030545754866165, {'accuracy': tensor(79.3991, device='cuda:0')}, 202.3358345410088)\n",
      "\u001b[92mINFO \u001b[0m:      configure_evaluate: strategy sampled 1 clients (out of 3)\n",
      "\u001b[92mINFO \u001b[0m:      aggregate_evaluate: received 1 results and 0 failures\n",
      "\u001b[92mINFO \u001b[0m:      \n",
      "\u001b[92mINFO \u001b[0m:      [ROUND 39]\n",
      "\u001b[92mINFO \u001b[0m:      configure_fit: strategy sampled 3 clients (out of 3)\n"
     ]
    },
    {
     "name": "stdout",
     "output_type": "stream",
     "text": [
      "Server-side evaluation loss 0.050030545754866165 / accuracy 79.39913940429688\n",
      "\u001b[2m\u001b[36m(ClientAppActor pid=2247181)\u001b[0m \u001b[32m [repeated 245x across cluster]\u001b[0m\n",
      "\u001b[2m\u001b[36m(ClientAppActor pid=2247181)\u001b[0m Epoch 81/100\u001b[32m [repeated 245x across cluster]\u001b[0m\n",
      "\u001b[2m\u001b[36m(ClientAppActor pid=2247181)\u001b[0m Epoch 87: Training accuracy: 79.34131622314453 Testing accuracy: 80.83832550048828.\u001b[32m [repeated 248x across cluster]\u001b[0m\n"
     ]
    },
    {
     "name": "stderr",
     "output_type": "stream",
     "text": [
      "\u001b[92mINFO \u001b[0m:      aggregate_fit: received 3 results and 0 failures\n",
      "\u001b[92mINFO \u001b[0m:      fit progress: (39, 0.049562053246931595, {'accuracy': tensor(79.3991, device='cuda:0')}, 207.46250782406423)\n",
      "\u001b[92mINFO \u001b[0m:      configure_evaluate: strategy sampled 1 clients (out of 3)\n",
      "\u001b[92mINFO \u001b[0m:      aggregate_evaluate: received 1 results and 0 failures\n",
      "\u001b[92mINFO \u001b[0m:      \n",
      "\u001b[92mINFO \u001b[0m:      [ROUND 40]\n",
      "\u001b[92mINFO \u001b[0m:      configure_fit: strategy sampled 3 clients (out of 3)\n"
     ]
    },
    {
     "name": "stdout",
     "output_type": "stream",
     "text": [
      "Server-side evaluation loss 0.049562053246931595 / accuracy 79.39913940429688\n",
      "\u001b[2m\u001b[36m(ClientAppActor pid=2247181)\u001b[0m \u001b[32m [repeated 295x across cluster]\u001b[0m\n",
      "\u001b[2m\u001b[36m(ClientAppActor pid=2247181)\u001b[0m Epoch 78/100\u001b[32m [repeated 295x across cluster]\u001b[0m\n",
      "\u001b[2m\u001b[36m(ClientAppActor pid=2247181)\u001b[0m Epoch 86: Training accuracy: 79.34131622314453 Testing accuracy: 80.83832550048828.\u001b[32m [repeated 296x across cluster]\u001b[0m\n"
     ]
    },
    {
     "name": "stderr",
     "output_type": "stream",
     "text": [
      "\u001b[92mINFO \u001b[0m:      aggregate_fit: received 3 results and 0 failures\n",
      "\u001b[92mINFO \u001b[0m:      fit progress: (40, 0.04939661242745139, {'accuracy': tensor(79.3991, device='cuda:0')}, 212.5807453300804)\n",
      "\u001b[92mINFO \u001b[0m:      configure_evaluate: strategy sampled 1 clients (out of 3)\n",
      "\u001b[92mINFO \u001b[0m:      aggregate_evaluate: received 1 results and 0 failures\n",
      "\u001b[92mINFO \u001b[0m:      \n",
      "\u001b[92mINFO \u001b[0m:      [ROUND 41]\n",
      "\u001b[92mINFO \u001b[0m:      configure_fit: strategy sampled 3 clients (out of 3)\n"
     ]
    },
    {
     "name": "stdout",
     "output_type": "stream",
     "text": [
      "Server-side evaluation loss 0.04939661242745139 / accuracy 79.39913940429688\n",
      "\u001b[2m\u001b[36m(ClientAppActor pid=2247181)\u001b[0m \u001b[32m [repeated 296x across cluster]\u001b[0m\n",
      "\u001b[2m\u001b[36m(ClientAppActor pid=2247181)\u001b[0m Epoch 74/100\u001b[32m [repeated 296x across cluster]\u001b[0m\n",
      "\u001b[2m\u001b[36m(ClientAppActor pid=2247181)\u001b[0m Epoch 81: Training accuracy: 76.775146484375 Testing accuracy: 77.5147933959961.\u001b[32m [repeated 296x across cluster]\u001b[0m\n"
     ]
    },
    {
     "name": "stderr",
     "output_type": "stream",
     "text": [
      "\u001b[92mINFO \u001b[0m:      aggregate_fit: received 3 results and 0 failures\n",
      "\u001b[92mINFO \u001b[0m:      fit progress: (41, 0.04893537543036721, {'accuracy': tensor(79.3991, device='cuda:0')}, 217.76767898409162)\n",
      "\u001b[92mINFO \u001b[0m:      configure_evaluate: strategy sampled 1 clients (out of 3)\n",
      "\u001b[92mINFO \u001b[0m:      aggregate_evaluate: received 1 results and 0 failures\n",
      "\u001b[92mINFO \u001b[0m:      \n",
      "\u001b[92mINFO \u001b[0m:      [ROUND 42]\n",
      "\u001b[92mINFO \u001b[0m:      configure_fit: strategy sampled 3 clients (out of 3)\n"
     ]
    },
    {
     "name": "stdout",
     "output_type": "stream",
     "text": [
      "Server-side evaluation loss 0.04893537543036721 / accuracy 79.39913940429688\n",
      "\u001b[2m\u001b[36m(ClientAppActor pid=2247181)\u001b[0m \u001b[32m [repeated 289x across cluster]\u001b[0m\n",
      "\u001b[2m\u001b[36m(ClientAppActor pid=2247181)\u001b[0m Epoch 69/100\u001b[32m [repeated 289x across cluster]\u001b[0m\n",
      "\u001b[2m\u001b[36m(ClientAppActor pid=2247181)\u001b[0m Epoch 75: Training accuracy: 77.36686706542969 Testing accuracy: 77.5147933959961.\u001b[32m [repeated 288x across cluster]\u001b[0m\n"
     ]
    },
    {
     "name": "stderr",
     "output_type": "stream",
     "text": [
      "\u001b[92mINFO \u001b[0m:      aggregate_fit: received 3 results and 0 failures\n",
      "\u001b[92mINFO \u001b[0m:      fit progress: (42, 0.04837510802529075, {'accuracy': tensor(79.5422, device='cuda:0')}, 222.92274993599858)\n",
      "\u001b[92mINFO \u001b[0m:      configure_evaluate: strategy sampled 1 clients (out of 3)\n",
      "\u001b[92mINFO \u001b[0m:      aggregate_evaluate: received 1 results and 0 failures\n",
      "\u001b[92mINFO \u001b[0m:      \n",
      "\u001b[92mINFO \u001b[0m:      [ROUND 43]\n",
      "\u001b[92mINFO \u001b[0m:      configure_fit: strategy sampled 3 clients (out of 3)\n"
     ]
    },
    {
     "name": "stdout",
     "output_type": "stream",
     "text": [
      "Server-side evaluation loss 0.04837510802529075 / accuracy 79.54220581054688\n",
      "\u001b[2m\u001b[36m(ClientAppActor pid=2247181)\u001b[0m \u001b[32m [repeated 309x across cluster]\u001b[0m\n",
      "\u001b[2m\u001b[36m(ClientAppActor pid=2247181)\u001b[0m Epoch 66/100\u001b[32m [repeated 309x across cluster]\u001b[0m\n",
      "\u001b[2m\u001b[36m(ClientAppActor pid=2247181)\u001b[0m Epoch 73: Training accuracy: 77.81065368652344 Testing accuracy: 79.2899398803711.\u001b[32m [repeated 311x across cluster]\u001b[0m\n"
     ]
    },
    {
     "name": "stderr",
     "output_type": "stream",
     "text": [
      "\u001b[92mINFO \u001b[0m:      aggregate_fit: received 3 results and 0 failures\n",
      "\u001b[92mINFO \u001b[0m:      fit progress: (43, 0.04843643036755649, {'accuracy': tensor(79.1130, device='cuda:0')}, 228.59079955809284)\n",
      "\u001b[92mINFO \u001b[0m:      configure_evaluate: strategy sampled 1 clients (out of 3)\n",
      "\u001b[92mINFO \u001b[0m:      aggregate_evaluate: received 1 results and 0 failures\n",
      "\u001b[92mINFO \u001b[0m:      \n",
      "\u001b[92mINFO \u001b[0m:      [ROUND 44]\n",
      "\u001b[92mINFO \u001b[0m:      configure_fit: strategy sampled 3 clients (out of 3)\n"
     ]
    },
    {
     "name": "stdout",
     "output_type": "stream",
     "text": [
      "Server-side evaluation loss 0.04843643036755649 / accuracy 79.11302185058594\n",
      "\u001b[2m\u001b[36m(ClientAppActor pid=2247181)\u001b[0m \u001b[32m [repeated 255x across cluster]\u001b[0m\n",
      "\u001b[2m\u001b[36m(ClientAppActor pid=2247181)\u001b[0m Epoch 46/100\u001b[32m [repeated 255x across cluster]\u001b[0m\n",
      "\u001b[2m\u001b[36m(ClientAppActor pid=2247181)\u001b[0m Epoch 53: Training accuracy: 78.29341125488281 Testing accuracy: 78.443115234375.\u001b[32m [repeated 255x across cluster]\u001b[0m\n"
     ]
    },
    {
     "name": "stderr",
     "output_type": "stream",
     "text": [
      "\u001b[92mINFO \u001b[0m:      aggregate_fit: received 3 results and 0 failures\n",
      "\u001b[92mINFO \u001b[0m:      fit progress: (44, 0.04823777892372825, {'accuracy': tensor(79.3991, device='cuda:0')}, 234.18170664506033)\n",
      "\u001b[92mINFO \u001b[0m:      configure_evaluate: strategy sampled 1 clients (out of 3)\n",
      "\u001b[92mINFO \u001b[0m:      aggregate_evaluate: received 1 results and 0 failures\n",
      "\u001b[92mINFO \u001b[0m:      \n",
      "\u001b[92mINFO \u001b[0m:      [ROUND 45]\n",
      "\u001b[92mINFO \u001b[0m:      configure_fit: strategy sampled 3 clients (out of 3)\n"
     ]
    },
    {
     "name": "stdout",
     "output_type": "stream",
     "text": [
      "Server-side evaluation loss 0.04823777892372825 / accuracy 79.39913940429688\n",
      "\u001b[2m\u001b[36m(ClientAppActor pid=2247181)\u001b[0m \u001b[32m [repeated 261x across cluster]\u001b[0m\n",
      "\u001b[2m\u001b[36m(ClientAppActor pid=2247181)\u001b[0m Epoch 25/100\u001b[32m [repeated 261x across cluster]\u001b[0m\n",
      "\u001b[2m\u001b[36m(ClientAppActor pid=2247181)\u001b[0m Epoch 32: Training accuracy: 78.47633361816406 Testing accuracy: 81.65680694580078.\u001b[32m [repeated 261x across cluster]\u001b[0m\n"
     ]
    },
    {
     "name": "stderr",
     "output_type": "stream",
     "text": [
      "\u001b[92mINFO \u001b[0m:      aggregate_fit: received 3 results and 0 failures\n",
      "\u001b[92mINFO \u001b[0m:      fit progress: (45, 0.04809260368347168, {'accuracy': tensor(78.9700, device='cuda:0')}, 239.94784260808956)\n",
      "\u001b[92mINFO \u001b[0m:      configure_evaluate: strategy sampled 1 clients (out of 3)\n",
      "\u001b[92mINFO \u001b[0m:      aggregate_evaluate: received 1 results and 0 failures\n",
      "\u001b[92mINFO \u001b[0m:      \n",
      "\u001b[92mINFO \u001b[0m:      [ROUND 46]\n",
      "\u001b[92mINFO \u001b[0m:      configure_fit: strategy sampled 3 clients (out of 3)\n"
     ]
    },
    {
     "name": "stdout",
     "output_type": "stream",
     "text": [
      "\u001b[2m\u001b[36m(ClientAppActor pid=2247182)\u001b[0m \u001b[32m [repeated 254x across cluster]\u001b[0m\n",
      "\u001b[2m\u001b[36m(ClientAppActor pid=2247182)\u001b[0m Epoch 100/100\u001b[32m [repeated 254x across cluster]\u001b[0m\n",
      "Server-side evaluation loss 0.04809260368347168 / accuracy 78.96995544433594\n",
      "\u001b[2m\u001b[36m(ClientAppActor pid=2247181)\u001b[0m Epoch 4: Training accuracy: 79.28743743896484 Testing accuracy: 80.67633056640625.\u001b[32m [repeated 245x across cluster]\u001b[0m\n"
     ]
    },
    {
     "name": "stderr",
     "output_type": "stream",
     "text": [
      "\u001b[92mINFO \u001b[0m:      aggregate_fit: received 3 results and 0 failures\n",
      "\u001b[92mINFO \u001b[0m:      fit progress: (46, 0.047542035579681396, {'accuracy': tensor(80.5436, device='cuda:0')}, 245.14974856108893)\n",
      "\u001b[92mINFO \u001b[0m:      configure_evaluate: strategy sampled 1 clients (out of 3)\n",
      "\u001b[92mINFO \u001b[0m:      aggregate_evaluate: received 1 results and 0 failures\n",
      "\u001b[92mINFO \u001b[0m:      \n",
      "\u001b[92mINFO \u001b[0m:      [ROUND 47]\n",
      "\u001b[92mINFO \u001b[0m:      configure_fit: strategy sampled 3 clients (out of 3)\n"
     ]
    },
    {
     "name": "stdout",
     "output_type": "stream",
     "text": [
      "\u001b[2m\u001b[36m(ClientAppActor pid=2247182)\u001b[0m \u001b[32m [repeated 296x across cluster]\u001b[0m\n",
      "\u001b[2m\u001b[36m(ClientAppActor pid=2247182)\u001b[0m Epoch 96/100\u001b[32m [repeated 296x across cluster]\u001b[0m\n",
      "Server-side evaluation loss 0.047542035579681396 / accuracy 80.54363250732422\n",
      "\u001b[2m\u001b[36m(ClientAppActor pid=2247182)\u001b[0m Epoch 99: Training accuracy: 79.65975952148438 Testing accuracy: 82.24851989746094.\u001b[32m [repeated 294x across cluster]\u001b[0m\n",
      "\u001b[2m\u001b[36m(ClientAppActor pid=2247182)\u001b[0m \u001b[32m [repeated 296x across cluster]\u001b[0m\n",
      "\u001b[2m\u001b[36m(ClientAppActor pid=2247182)\u001b[0m Epoch 92/100\u001b[32m [repeated 296x across cluster]\u001b[0m\n"
     ]
    },
    {
     "name": "stderr",
     "output_type": "stream",
     "text": [
      "\u001b[92mINFO \u001b[0m:      aggregate_fit: received 3 results and 0 failures\n",
      "\u001b[92mINFO \u001b[0m:      fit progress: (47, 0.04894620721990412, {'accuracy': tensor(77.9685, device='cuda:0')}, 250.40056726709008)\n",
      "\u001b[92mINFO \u001b[0m:      configure_evaluate: strategy sampled 1 clients (out of 3)\n",
      "\u001b[92mINFO \u001b[0m:      aggregate_evaluate: received 1 results and 0 failures\n",
      "\u001b[92mINFO \u001b[0m:      \n",
      "\u001b[92mINFO \u001b[0m:      [ROUND 48]\n",
      "\u001b[92mINFO \u001b[0m:      configure_fit: strategy sampled 3 clients (out of 3)\n"
     ]
    },
    {
     "name": "stdout",
     "output_type": "stream",
     "text": [
      "\u001b[2m\u001b[36m(ClientAppActor pid=2247182)\u001b[0m Epoch 99: Training accuracy: 76.42215728759766 Testing accuracy: 72.45509338378906.\u001b[32m [repeated 300x across cluster]\u001b[0m\n",
      "Server-side evaluation loss 0.04894620721990412 / accuracy 77.9685287475586\n",
      "\u001b[2m\u001b[36m(ClientAppActor pid=2247182)\u001b[0m \u001b[32m [repeated 295x across cluster]\u001b[0m\n",
      "\u001b[2m\u001b[36m(ClientAppActor pid=2247182)\u001b[0m Epoch 87/100\u001b[32m [repeated 295x across cluster]\u001b[0m\n"
     ]
    },
    {
     "name": "stderr",
     "output_type": "stream",
     "text": [
      "\u001b[92mINFO \u001b[0m:      aggregate_fit: received 3 results and 0 failures\n",
      "\u001b[92mINFO \u001b[0m:      fit progress: (48, 0.04718183929269964, {'accuracy': tensor(79.6853, device='cuda:0')}, 255.56832201906946)\n",
      "\u001b[92mINFO \u001b[0m:      configure_evaluate: strategy sampled 1 clients (out of 3)\n"
     ]
    },
    {
     "name": "stdout",
     "output_type": "stream",
     "text": [
      "\u001b[2m\u001b[36m(ClientAppActor pid=2247182)\u001b[0m Epoch 94: Training accuracy: 79.95561981201172 Testing accuracy: 82.24851989746094.\u001b[32m [repeated 295x across cluster]\u001b[0m\n",
      "Server-side evaluation loss 0.04718183929269964 / accuracy 79.68526458740234\n"
     ]
    },
    {
     "name": "stderr",
     "output_type": "stream",
     "text": [
      "\u001b[92mINFO \u001b[0m:      aggregate_evaluate: received 1 results and 0 failures\n",
      "\u001b[92mINFO \u001b[0m:      \n",
      "\u001b[92mINFO \u001b[0m:      [ROUND 49]\n",
      "\u001b[92mINFO \u001b[0m:      configure_fit: strategy sampled 3 clients (out of 3)\n"
     ]
    },
    {
     "name": "stdout",
     "output_type": "stream",
     "text": [
      "\u001b[2m\u001b[36m(ClientAppActor pid=2247181)\u001b[0m \u001b[32m [repeated 299x across cluster]\u001b[0m\n",
      "\u001b[2m\u001b[36m(ClientAppActor pid=2247181)\u001b[0m Epoch 86/100\u001b[32m [repeated 299x across cluster]\u001b[0m\n",
      "\u001b[2m\u001b[36m(ClientAppActor pid=2247181)\u001b[0m Epoch 93: Training accuracy: 79.80769348144531 Testing accuracy: 81.65680694580078.\u001b[32m [repeated 299x across cluster]\u001b[0m\n"
     ]
    },
    {
     "name": "stderr",
     "output_type": "stream",
     "text": [
      "\u001b[92mINFO \u001b[0m:      aggregate_fit: received 3 results and 0 failures\n",
      "\u001b[92mINFO \u001b[0m:      fit progress: (49, 0.047321975231170654, {'accuracy': tensor(80.4006, device='cuda:0')}, 260.6693800711073)\n",
      "\u001b[92mINFO \u001b[0m:      configure_evaluate: strategy sampled 1 clients (out of 3)\n",
      "\u001b[92mINFO \u001b[0m:      aggregate_evaluate: received 1 results and 0 failures\n",
      "\u001b[92mINFO \u001b[0m:      \n",
      "\u001b[92mINFO \u001b[0m:      [ROUND 50]\n",
      "\u001b[92mINFO \u001b[0m:      configure_fit: strategy sampled 3 clients (out of 3)\n"
     ]
    },
    {
     "name": "stdout",
     "output_type": "stream",
     "text": [
      "Server-side evaluation loss 0.047321975231170654 / accuracy 80.40057373046875\n",
      "\u001b[2m\u001b[36m(ClientAppActor pid=2247182)\u001b[0m \u001b[32m [repeated 295x across cluster]\u001b[0m\n",
      "\u001b[2m\u001b[36m(ClientAppActor pid=2247182)\u001b[0m Epoch 81/100\u001b[32m [repeated 295x across cluster]\u001b[0m\n",
      "\u001b[2m\u001b[36m(ClientAppActor pid=2247182)\u001b[0m Epoch 88: Training accuracy: 76.94610595703125 Testing accuracy: 77.2455062866211.\u001b[32m [repeated 295x across cluster]\u001b[0m\n"
     ]
    },
    {
     "name": "stderr",
     "output_type": "stream",
     "text": [
      "\u001b[92mINFO \u001b[0m:      aggregate_fit: received 3 results and 0 failures\n",
      "\u001b[92mINFO \u001b[0m:      fit progress: (50, 0.047835252501747826, {'accuracy': tensor(78.5408, device='cuda:0')}, 265.8709687771043)\n",
      "\u001b[92mINFO \u001b[0m:      configure_evaluate: strategy sampled 1 clients (out of 3)\n",
      "\u001b[92mINFO \u001b[0m:      aggregate_evaluate: received 1 results and 0 failures\n",
      "\u001b[92mINFO \u001b[0m:      \n",
      "\u001b[92mINFO \u001b[0m:      [ROUND 51]\n",
      "\u001b[92mINFO \u001b[0m:      configure_fit: strategy sampled 3 clients (out of 3)\n"
     ]
    },
    {
     "name": "stdout",
     "output_type": "stream",
     "text": [
      "Server-side evaluation loss 0.047835252501747826 / accuracy 78.540771484375\n",
      "\u001b[2m\u001b[36m(ClientAppActor pid=2247181)\u001b[0m \u001b[32m [repeated 283x across cluster]\u001b[0m\n",
      "\u001b[2m\u001b[36m(ClientAppActor pid=2247181)\u001b[0m Epoch 64/100\u001b[32m [repeated 283x across cluster]\u001b[0m\n",
      "\u001b[2m\u001b[36m(ClientAppActor pid=2247181)\u001b[0m Epoch 70: Training accuracy: 79.46859741210938 Testing accuracy: 77.77777862548828.\u001b[32m [repeated 282x across cluster]\u001b[0m\n"
     ]
    },
    {
     "name": "stderr",
     "output_type": "stream",
     "text": [
      "\u001b[92mINFO \u001b[0m:      aggregate_fit: received 3 results and 0 failures\n",
      "\u001b[92mINFO \u001b[0m:      fit progress: (51, 0.04758195985447277, {'accuracy': tensor(79.2561, device='cuda:0')}, 271.5524476020364)\n",
      "\u001b[92mINFO \u001b[0m:      configure_evaluate: strategy sampled 1 clients (out of 3)\n",
      "\u001b[92mINFO \u001b[0m:      aggregate_evaluate: received 1 results and 0 failures\n",
      "\u001b[92mINFO \u001b[0m:      \n",
      "\u001b[92mINFO \u001b[0m:      [ROUND 52]\n",
      "\u001b[92mINFO \u001b[0m:      configure_fit: strategy sampled 3 clients (out of 3)\n"
     ]
    },
    {
     "name": "stdout",
     "output_type": "stream",
     "text": [
      "Server-side evaluation loss 0.04758195985447277 / accuracy 79.2560806274414\n",
      "\u001b[2m\u001b[36m(ClientAppActor pid=2247181)\u001b[0m \u001b[32m [repeated 283x across cluster]\u001b[0m\n",
      "\u001b[2m\u001b[36m(ClientAppActor pid=2247181)\u001b[0m Epoch 46/100\u001b[32m [repeated 282x across cluster]\u001b[0m\n",
      "\u001b[2m\u001b[36m(ClientAppActor pid=2247181)\u001b[0m Epoch 51: Training accuracy: 79.40821075439453 Testing accuracy: 78.74396514892578.\u001b[32m [repeated 281x across cluster]\u001b[0m\n"
     ]
    },
    {
     "name": "stderr",
     "output_type": "stream",
     "text": [
      "\u001b[92mINFO \u001b[0m:      aggregate_fit: received 3 results and 0 failures\n",
      "\u001b[92mINFO \u001b[0m:      fit progress: (52, 0.04725941202857278, {'accuracy': tensor(79.3991, device='cuda:0')}, 277.18238600110635)\n",
      "\u001b[92mINFO \u001b[0m:      configure_evaluate: strategy sampled 1 clients (out of 3)\n",
      "\u001b[92mINFO \u001b[0m:      aggregate_evaluate: received 1 results and 0 failures\n",
      "\u001b[92mINFO \u001b[0m:      \n",
      "\u001b[92mINFO \u001b[0m:      [ROUND 53]\n",
      "\u001b[92mINFO \u001b[0m:      configure_fit: strategy sampled 3 clients (out of 3)\n"
     ]
    },
    {
     "name": "stdout",
     "output_type": "stream",
     "text": [
      "Server-side evaluation loss 0.04725941202857278 / accuracy 79.39913940429688\n",
      "\u001b[2m\u001b[36m(ClientAppActor pid=2247181)\u001b[0m \u001b[32m [repeated 288x across cluster]\u001b[0m\n",
      "\u001b[2m\u001b[36m(ClientAppActor pid=2247181)\u001b[0m Epoch 34/100\u001b[32m [repeated 288x across cluster]\u001b[0m\n",
      "\u001b[2m\u001b[36m(ClientAppActor pid=2247181)\u001b[0m Epoch 41: Training accuracy: 81.88623046875 Testing accuracy: 78.443115234375.\u001b[32m [repeated 290x across cluster]\u001b[0m\n"
     ]
    },
    {
     "name": "stderr",
     "output_type": "stream",
     "text": [
      "\u001b[92mINFO \u001b[0m:      aggregate_fit: received 3 results and 0 failures\n",
      "\u001b[92mINFO \u001b[0m:      fit progress: (53, 0.04704109105196866, {'accuracy': tensor(79.6853, device='cuda:0')}, 282.32668654609006)\n",
      "\u001b[92mINFO \u001b[0m:      configure_evaluate: strategy sampled 1 clients (out of 3)\n",
      "\u001b[92mINFO \u001b[0m:      aggregate_evaluate: received 1 results and 0 failures\n",
      "\u001b[92mINFO \u001b[0m:      \n",
      "\u001b[92mINFO \u001b[0m:      [ROUND 54]\n",
      "\u001b[92mINFO \u001b[0m:      configure_fit: strategy sampled 3 clients (out of 3)\n"
     ]
    },
    {
     "name": "stdout",
     "output_type": "stream",
     "text": [
      "Server-side evaluation loss 0.04704109105196866 / accuracy 79.68526458740234\n",
      "\u001b[2m\u001b[36m(ClientAppActor pid=2247182)\u001b[0m \u001b[32m [repeated 294x across cluster]\u001b[0m\n",
      "\u001b[2m\u001b[36m(ClientAppActor pid=2247182)\u001b[0m Epoch 28/100\u001b[32m [repeated 294x across cluster]\u001b[0m\n",
      "\u001b[2m\u001b[36m(ClientAppActor pid=2247182)\u001b[0m Epoch 35: Training accuracy: 80.39940643310547 Testing accuracy: 82.84024047851562.\u001b[32m [repeated 294x across cluster]\u001b[0m\n"
     ]
    },
    {
     "name": "stderr",
     "output_type": "stream",
     "text": [
      "\u001b[92mINFO \u001b[0m:      aggregate_fit: received 3 results and 0 failures\n",
      "\u001b[92mINFO \u001b[0m:      fit progress: (54, 0.048061500896107064, {'accuracy': tensor(78.6838, device='cuda:0')}, 287.5373167410726)\n",
      "\u001b[92mINFO \u001b[0m:      configure_evaluate: strategy sampled 1 clients (out of 3)\n",
      "\u001b[92mINFO \u001b[0m:      aggregate_evaluate: received 1 results and 0 failures\n",
      "\u001b[92mINFO \u001b[0m:      \n",
      "\u001b[92mINFO \u001b[0m:      [ROUND 55]\n",
      "\u001b[92mINFO \u001b[0m:      configure_fit: strategy sampled 3 clients (out of 3)\n"
     ]
    },
    {
     "name": "stdout",
     "output_type": "stream",
     "text": [
      "Server-side evaluation loss 0.048061500896107064 / accuracy 78.68383026123047\n",
      "\u001b[2m\u001b[36m(ClientAppActor pid=2247181)\u001b[0m \u001b[32m [repeated 287x across cluster]\u001b[0m\n",
      "\u001b[2m\u001b[36m(ClientAppActor pid=2247181)\u001b[0m Epoch 100/100\u001b[32m [repeated 287x across cluster]\u001b[0m\n",
      "\u001b[2m\u001b[36m(ClientAppActor pid=2247182)\u001b[0m Epoch 26: Training accuracy: 81.13772583007812 Testing accuracy: 76.6467056274414.\u001b[32m [repeated 291x across cluster]\u001b[0m\n"
     ]
    },
    {
     "name": "stderr",
     "output_type": "stream",
     "text": [
      "\u001b[92mINFO \u001b[0m:      aggregate_fit: received 3 results and 0 failures\n",
      "\u001b[92mINFO \u001b[0m:      fit progress: (55, 0.04808457331223921, {'accuracy': tensor(78.8269, device='cuda:0')}, 292.856463987031)\n",
      "\u001b[92mINFO \u001b[0m:      configure_evaluate: strategy sampled 1 clients (out of 3)\n",
      "\u001b[92mINFO \u001b[0m:      aggregate_evaluate: received 1 results and 0 failures\n",
      "\u001b[92mINFO \u001b[0m:      \n",
      "\u001b[92mINFO \u001b[0m:      [ROUND 56]\n",
      "\u001b[92mINFO \u001b[0m:      configure_fit: strategy sampled 3 clients (out of 3)\n"
     ]
    },
    {
     "name": "stdout",
     "output_type": "stream",
     "text": [
      "Server-side evaluation loss 0.04808457331223921 / accuracy 78.82689666748047\n",
      "\u001b[2m\u001b[36m(ClientAppActor pid=2247181)\u001b[0m \u001b[32m [repeated 283x across cluster]\u001b[0m\n",
      "\u001b[2m\u001b[36m(ClientAppActor pid=2247181)\u001b[0m Epoch 93/100\u001b[32m [repeated 283x across cluster]\u001b[0m\n",
      "\u001b[2m\u001b[36m(ClientAppActor pid=2247181)\u001b[0m Epoch 99: Training accuracy: 81.09903717041016 Testing accuracy: 78.74396514892578.\u001b[32m [repeated 285x across cluster]\u001b[0m\n"
     ]
    },
    {
     "name": "stderr",
     "output_type": "stream",
     "text": [
      "\u001b[92mINFO \u001b[0m:      aggregate_fit: received 3 results and 0 failures\n",
      "\u001b[92mINFO \u001b[0m:      fit progress: (56, 0.048026529225436126, {'accuracy': tensor(79.2561, device='cuda:0')}, 298.1066634760937)\n",
      "\u001b[92mINFO \u001b[0m:      configure_evaluate: strategy sampled 1 clients (out of 3)\n",
      "\u001b[92mINFO \u001b[0m:      aggregate_evaluate: received 1 results and 0 failures\n",
      "\u001b[92mINFO \u001b[0m:      \n",
      "\u001b[92mINFO \u001b[0m:      [ROUND 57]\n",
      "\u001b[92mINFO \u001b[0m:      configure_fit: strategy sampled 3 clients (out of 3)\n"
     ]
    },
    {
     "name": "stdout",
     "output_type": "stream",
     "text": [
      "Server-side evaluation loss 0.048026529225436126 / accuracy 79.2560806274414\n",
      "\u001b[2m\u001b[36m(ClientAppActor pid=2247181)\u001b[0m \u001b[32m [repeated 292x across cluster]\u001b[0m\n",
      "\u001b[2m\u001b[36m(ClientAppActor pid=2247181)\u001b[0m Epoch 90/100\u001b[32m [repeated 292x across cluster]\u001b[0m\n",
      "\u001b[2m\u001b[36m(ClientAppActor pid=2247181)\u001b[0m Epoch 95: Training accuracy: 81.159423828125 Testing accuracy: 78.74396514892578.\u001b[32m [repeated 291x across cluster]\u001b[0m\n"
     ]
    },
    {
     "name": "stderr",
     "output_type": "stream",
     "text": [
      "\u001b[92mINFO \u001b[0m:      aggregate_fit: received 3 results and 0 failures\n",
      "\u001b[92mINFO \u001b[0m:      fit progress: (57, 0.04793619025837292, {'accuracy': tensor(79.2561, device='cuda:0')}, 303.3377165381098)\n",
      "\u001b[92mINFO \u001b[0m:      configure_evaluate: strategy sampled 1 clients (out of 3)\n",
      "\u001b[92mINFO \u001b[0m:      aggregate_evaluate: received 1 results and 0 failures\n",
      "\u001b[92mINFO \u001b[0m:      \n",
      "\u001b[92mINFO \u001b[0m:      [ROUND 58]\n",
      "\u001b[92mINFO \u001b[0m:      configure_fit: strategy sampled 3 clients (out of 3)\n"
     ]
    },
    {
     "name": "stdout",
     "output_type": "stream",
     "text": [
      "Server-side evaluation loss 0.04793619025837292 / accuracy 79.2560806274414\n",
      "\u001b[2m\u001b[36m(ClientAppActor pid=2247181)\u001b[0m \u001b[32m [repeated 310x across cluster]\u001b[0m\n",
      "\u001b[2m\u001b[36m(ClientAppActor pid=2247181)\u001b[0m Epoch 100/100\u001b[32m [repeated 310x across cluster]\u001b[0m\n",
      "\u001b[2m\u001b[36m(ClientAppActor pid=2247182)\u001b[0m Epoch 6: Training accuracy: 79.52898406982422 Testing accuracy: 76.32849884033203.\u001b[32m [repeated 304x across cluster]\u001b[0m\n"
     ]
    },
    {
     "name": "stderr",
     "output_type": "stream",
     "text": [
      "\u001b[92mINFO \u001b[0m:      aggregate_fit: received 3 results and 0 failures\n",
      "\u001b[92mINFO \u001b[0m:      fit progress: (58, 0.047941489653153854, {'accuracy': tensor(79.5422, device='cuda:0')}, 309.06591969705187)\n",
      "\u001b[92mINFO \u001b[0m:      configure_evaluate: strategy sampled 1 clients (out of 3)\n",
      "\u001b[92mINFO \u001b[0m:      aggregate_evaluate: received 1 results and 0 failures\n",
      "\u001b[92mINFO \u001b[0m:      \n",
      "\u001b[92mINFO \u001b[0m:      [ROUND 59]\n",
      "\u001b[92mINFO \u001b[0m:      configure_fit: strategy sampled 3 clients (out of 3)\n"
     ]
    },
    {
     "name": "stdout",
     "output_type": "stream",
     "text": [
      "Server-side evaluation loss 0.047941489653153854 / accuracy 79.54220581054688\n",
      "\u001b[2m\u001b[36m(ClientAppActor pid=2247181)\u001b[0m \u001b[32m [repeated 254x across cluster]\u001b[0m\n",
      "\u001b[2m\u001b[36m(ClientAppActor pid=2247181)\u001b[0m Epoch 79/100\u001b[32m [repeated 254x across cluster]\u001b[0m\n",
      "\u001b[2m\u001b[36m(ClientAppActor pid=2247181)\u001b[0m Epoch 86: Training accuracy: 80.47337341308594 Testing accuracy: 81.0650863647461.\u001b[32m [repeated 263x across cluster]\u001b[0m\n"
     ]
    },
    {
     "name": "stderr",
     "output_type": "stream",
     "text": [
      "\u001b[92mINFO \u001b[0m:      aggregate_fit: received 3 results and 0 failures\n",
      "\u001b[92mINFO \u001b[0m:      fit progress: (59, 0.04830285635861484, {'accuracy': tensor(79.5422, device='cuda:0')}, 314.7600271900883)\n",
      "\u001b[92mINFO \u001b[0m:      configure_evaluate: strategy sampled 1 clients (out of 3)\n",
      "\u001b[92mINFO \u001b[0m:      aggregate_evaluate: received 1 results and 0 failures\n",
      "\u001b[92mINFO \u001b[0m:      \n",
      "\u001b[92mINFO \u001b[0m:      [ROUND 60]\n",
      "\u001b[92mINFO \u001b[0m:      configure_fit: strategy sampled 3 clients (out of 3)\n"
     ]
    },
    {
     "name": "stdout",
     "output_type": "stream",
     "text": [
      "Server-side evaluation loss 0.04830285635861484 / accuracy 79.54220581054688\n",
      "\u001b[2m\u001b[36m(ClientAppActor pid=2247181)\u001b[0m \u001b[32m [repeated 238x across cluster]\u001b[0m\n",
      "\u001b[2m\u001b[36m(ClientAppActor pid=2247181)\u001b[0m Epoch 44/100\u001b[32m [repeated 238x across cluster]\u001b[0m\n",
      "\u001b[2m\u001b[36m(ClientAppActor pid=2247181)\u001b[0m Epoch 50: Training accuracy: 78.26087188720703 Testing accuracy: 77.77777862548828.\u001b[32m [repeated 236x across cluster]\u001b[0m\n"
     ]
    },
    {
     "name": "stderr",
     "output_type": "stream",
     "text": [
      "\u001b[92mINFO \u001b[0m:      aggregate_fit: received 3 results and 0 failures\n",
      "\u001b[92mINFO \u001b[0m:      fit progress: (60, 0.04744402386925437, {'accuracy': tensor(79.3991, device='cuda:0')}, 319.9644545520423)\n",
      "\u001b[92mINFO \u001b[0m:      configure_evaluate: strategy sampled 1 clients (out of 3)\n",
      "\u001b[92mINFO \u001b[0m:      aggregate_evaluate: received 1 results and 0 failures\n",
      "\u001b[92mINFO \u001b[0m:      \n",
      "\u001b[92mINFO \u001b[0m:      [ROUND 61]\n",
      "\u001b[92mINFO \u001b[0m:      configure_fit: strategy sampled 3 clients (out of 3)\n"
     ]
    },
    {
     "name": "stdout",
     "output_type": "stream",
     "text": [
      "Server-side evaluation loss 0.04744402386925437 / accuracy 79.39913940429688\n",
      "\u001b[2m\u001b[36m(ClientAppActor pid=2247181)\u001b[0m \u001b[32m [repeated 299x across cluster]\u001b[0m\n",
      "\u001b[2m\u001b[36m(ClientAppActor pid=2247181)\u001b[0m Epoch 48/100\u001b[32m [repeated 299x across cluster]\u001b[0m\n",
      "\u001b[2m\u001b[36m(ClientAppActor pid=2247181)\u001b[0m Epoch 56: Training accuracy: 80.6886215209961 Testing accuracy: 77.84431457519531.\u001b[32m [repeated 301x across cluster]\u001b[0m\n"
     ]
    },
    {
     "name": "stderr",
     "output_type": "stream",
     "text": [
      "\u001b[92mINFO \u001b[0m:      aggregate_fit: received 3 results and 0 failures\n",
      "\u001b[92mINFO \u001b[0m:      fit progress: (61, 0.04746596379713579, {'accuracy': tensor(79.3991, device='cuda:0')}, 325.51023287302814)\n",
      "\u001b[92mINFO \u001b[0m:      configure_evaluate: strategy sampled 1 clients (out of 3)\n",
      "\u001b[92mINFO \u001b[0m:      aggregate_evaluate: received 1 results and 0 failures\n",
      "\u001b[92mINFO \u001b[0m:      \n",
      "\u001b[92mINFO \u001b[0m:      [ROUND 62]\n",
      "\u001b[92mINFO \u001b[0m:      configure_fit: strategy sampled 3 clients (out of 3)\n"
     ]
    },
    {
     "name": "stdout",
     "output_type": "stream",
     "text": [
      "Server-side evaluation loss 0.04746596379713579 / accuracy 79.39913940429688\n",
      "\u001b[2m\u001b[36m(ClientAppActor pid=2247181)\u001b[0m \u001b[32m [repeated 259x across cluster]\u001b[0m\n",
      "\u001b[2m\u001b[36m(ClientAppActor pid=2247181)\u001b[0m Epoch 25/100\u001b[32m [repeated 259x across cluster]\u001b[0m\n",
      "\u001b[2m\u001b[36m(ClientAppActor pid=2247181)\u001b[0m Epoch 30: Training accuracy: 81.40096282958984 Testing accuracy: 77.77777862548828.\u001b[32m [repeated 256x across cluster]\u001b[0m\n"
     ]
    },
    {
     "name": "stderr",
     "output_type": "stream",
     "text": [
      "\u001b[92mINFO \u001b[0m:      aggregate_fit: received 3 results and 0 failures\n",
      "\u001b[92mINFO \u001b[0m:      fit progress: (62, 0.04734415357763117, {'accuracy': tensor(79.3991, device='cuda:0')}, 330.7050967530813)\n",
      "\u001b[92mINFO \u001b[0m:      configure_evaluate: strategy sampled 1 clients (out of 3)\n",
      "\u001b[92mINFO \u001b[0m:      aggregate_evaluate: received 1 results and 0 failures\n",
      "\u001b[92mINFO \u001b[0m:      \n",
      "\u001b[92mINFO \u001b[0m:      [ROUND 63]\n",
      "\u001b[92mINFO \u001b[0m:      configure_fit: strategy sampled 3 clients (out of 3)\n"
     ]
    },
    {
     "name": "stdout",
     "output_type": "stream",
     "text": [
      "Server-side evaluation loss 0.04734415357763117 / accuracy 79.39913940429688\n",
      "\u001b[2m\u001b[36m(ClientAppActor pid=2247181)\u001b[0m \u001b[32m [repeated 292x across cluster]\u001b[0m\n",
      "\u001b[2m\u001b[36m(ClientAppActor pid=2247181)\u001b[0m Epoch 21/100\u001b[32m [repeated 292x across cluster]\u001b[0m\n",
      "\u001b[2m\u001b[36m(ClientAppActor pid=2247181)\u001b[0m Epoch 26: Training accuracy: 81.8840560913086 Testing accuracy: 80.67633056640625.\u001b[32m [repeated 292x across cluster]\u001b[0m\n"
     ]
    },
    {
     "name": "stderr",
     "output_type": "stream",
     "text": [
      "\u001b[92mINFO \u001b[0m:      aggregate_fit: received 3 results and 0 failures\n",
      "\u001b[92mINFO \u001b[0m:      fit progress: (63, 0.04757078669287942, {'accuracy': tensor(79.3991, device='cuda:0')}, 335.97901551704854)\n",
      "\u001b[92mINFO \u001b[0m:      configure_evaluate: strategy sampled 1 clients (out of 3)\n",
      "\u001b[92mINFO \u001b[0m:      aggregate_evaluate: received 1 results and 0 failures\n",
      "\u001b[92mINFO \u001b[0m:      \n",
      "\u001b[92mINFO \u001b[0m:      [ROUND 64]\n",
      "\u001b[92mINFO \u001b[0m:      configure_fit: strategy sampled 3 clients (out of 3)\n"
     ]
    },
    {
     "name": "stdout",
     "output_type": "stream",
     "text": [
      "Server-side evaluation loss 0.04757078669287942 / accuracy 79.39913940429688\n",
      "\u001b[2m\u001b[36m(ClientAppActor pid=2247181)\u001b[0m \u001b[32m [repeated 286x across cluster]\u001b[0m\n",
      "\u001b[2m\u001b[36m(ClientAppActor pid=2247181)\u001b[0m Epoch 15/100\u001b[32m [repeated 286x across cluster]\u001b[0m\n",
      "\u001b[2m\u001b[36m(ClientAppActor pid=2247181)\u001b[0m Epoch 20: Training accuracy: 79.58937072753906 Testing accuracy: 77.29468536376953.\u001b[32m [repeated 286x across cluster]\u001b[0m\n"
     ]
    },
    {
     "name": "stderr",
     "output_type": "stream",
     "text": [
      "\u001b[92mINFO \u001b[0m:      aggregate_fit: received 3 results and 0 failures\n",
      "\u001b[92mINFO \u001b[0m:      fit progress: (64, 0.04808056354522705, {'accuracy': tensor(79.5422, device='cuda:0')}, 341.15188440901693)\n",
      "\u001b[92mINFO \u001b[0m:      configure_evaluate: strategy sampled 1 clients (out of 3)\n",
      "\u001b[92mINFO \u001b[0m:      aggregate_evaluate: received 1 results and 0 failures\n",
      "\u001b[92mINFO \u001b[0m:      \n",
      "\u001b[92mINFO \u001b[0m:      [ROUND 65]\n",
      "\u001b[92mINFO \u001b[0m:      configure_fit: strategy sampled 3 clients (out of 3)\n"
     ]
    },
    {
     "name": "stdout",
     "output_type": "stream",
     "text": [
      "Server-side evaluation loss 0.04808056354522705 / accuracy 79.54220581054688\n",
      "\u001b[2m\u001b[36m(ClientAppActor pid=2247181)\u001b[0m \u001b[32m [repeated 293x across cluster]\u001b[0m\n",
      "\u001b[2m\u001b[36m(ClientAppActor pid=2247181)\u001b[0m Epoch 13/100\u001b[32m [repeated 293x across cluster]\u001b[0m\n",
      "\u001b[2m\u001b[36m(ClientAppActor pid=2247181)\u001b[0m Epoch 21: Training accuracy: 79.4378662109375 Testing accuracy: 81.0650863647461.\u001b[32m [repeated 294x across cluster]\u001b[0m\n"
     ]
    },
    {
     "name": "stderr",
     "output_type": "stream",
     "text": [
      "\u001b[92mINFO \u001b[0m:      aggregate_fit: received 3 results and 0 failures\n",
      "\u001b[92mINFO \u001b[0m:      fit progress: (65, 0.04786057363856922, {'accuracy': tensor(79.2561, device='cuda:0')}, 346.30107496411074)\n",
      "\u001b[92mINFO \u001b[0m:      configure_evaluate: strategy sampled 1 clients (out of 3)\n",
      "\u001b[92mINFO \u001b[0m:      aggregate_evaluate: received 1 results and 0 failures\n",
      "\u001b[92mINFO \u001b[0m:      \n",
      "\u001b[92mINFO \u001b[0m:      [ROUND 66]\n",
      "\u001b[92mINFO \u001b[0m:      configure_fit: strategy sampled 3 clients (out of 3)\n"
     ]
    },
    {
     "name": "stdout",
     "output_type": "stream",
     "text": [
      "Server-side evaluation loss 0.04786057363856922 / accuracy 79.2560806274414\n",
      "\u001b[2m\u001b[36m(ClientAppActor pid=2247181)\u001b[0m \u001b[32m [repeated 297x across cluster]\u001b[0m\n",
      "\u001b[2m\u001b[36m(ClientAppActor pid=2247181)\u001b[0m Epoch 12/100\u001b[32m [repeated 297x across cluster]\u001b[0m\n",
      "\u001b[2m\u001b[36m(ClientAppActor pid=2247181)\u001b[0m Epoch 19: Training accuracy: 82.10059356689453 Testing accuracy: 82.84024047851562.\u001b[32m [repeated 296x across cluster]\u001b[0m\n"
     ]
    },
    {
     "name": "stderr",
     "output_type": "stream",
     "text": [
      "\u001b[92mINFO \u001b[0m:      aggregate_fit: received 3 results and 0 failures\n",
      "\u001b[92mINFO \u001b[0m:      fit progress: (66, 0.04740353605963967, {'accuracy': tensor(79.8283, device='cuda:0')}, 351.4043349249987)\n",
      "\u001b[92mINFO \u001b[0m:      configure_evaluate: strategy sampled 1 clients (out of 3)\n",
      "\u001b[92mINFO \u001b[0m:      aggregate_evaluate: received 1 results and 0 failures\n",
      "\u001b[92mINFO \u001b[0m:      \n",
      "\u001b[92mINFO \u001b[0m:      [ROUND 67]\n",
      "\u001b[92mINFO \u001b[0m:      configure_fit: strategy sampled 3 clients (out of 3)\n"
     ]
    },
    {
     "name": "stdout",
     "output_type": "stream",
     "text": [
      "Server-side evaluation loss 0.04740353605963967 / accuracy 79.82832336425781\n",
      "\u001b[2m\u001b[36m(ClientAppActor pid=2247181)\u001b[0m \u001b[32m [repeated 298x across cluster]\u001b[0m\n",
      "\u001b[2m\u001b[36m(ClientAppActor pid=2247181)\u001b[0m Epoch 9/100\u001b[32m [repeated 298x across cluster]\u001b[0m\n",
      "\u001b[2m\u001b[36m(ClientAppActor pid=2247181)\u001b[0m Epoch 15: Training accuracy: 80.67633056640625 Testing accuracy: 78.74396514892578.\u001b[32m [repeated 298x across cluster]\u001b[0m\n"
     ]
    },
    {
     "name": "stderr",
     "output_type": "stream",
     "text": [
      "\u001b[92mINFO \u001b[0m:      aggregate_fit: received 3 results and 0 failures\n",
      "\u001b[92mINFO \u001b[0m:      fit progress: (67, 0.047349935228174385, {'accuracy': tensor(79.8283, device='cuda:0')}, 356.6485041230917)\n",
      "\u001b[92mINFO \u001b[0m:      configure_evaluate: strategy sampled 1 clients (out of 3)\n",
      "\u001b[92mINFO \u001b[0m:      aggregate_evaluate: received 1 results and 0 failures\n",
      "\u001b[92mINFO \u001b[0m:      \n",
      "\u001b[92mINFO \u001b[0m:      [ROUND 68]\n",
      "\u001b[92mINFO \u001b[0m:      configure_fit: strategy sampled 3 clients (out of 3)\n"
     ]
    },
    {
     "name": "stdout",
     "output_type": "stream",
     "text": [
      "Server-side evaluation loss 0.047349935228174385 / accuracy 79.82832336425781\n",
      "\u001b[2m\u001b[36m(ClientAppActor pid=2247181)\u001b[0m \u001b[32m [repeated 289x across cluster]\u001b[0m\n",
      "\u001b[2m\u001b[36m(ClientAppActor pid=2247181)\u001b[0m Epoch 4/100\u001b[32m [repeated 289x across cluster]\u001b[0m\n",
      "\u001b[2m\u001b[36m(ClientAppActor pid=2247181)\u001b[0m Epoch 9: Training accuracy: 81.28018951416016 Testing accuracy: 80.67633056640625.\u001b[32m [repeated 289x across cluster]\u001b[0m\n"
     ]
    },
    {
     "name": "stderr",
     "output_type": "stream",
     "text": [
      "\u001b[92mINFO \u001b[0m:      aggregate_fit: received 3 results and 0 failures\n",
      "\u001b[92mINFO \u001b[0m:      fit progress: (68, 0.0488682822747664, {'accuracy': tensor(79.2561, device='cuda:0')}, 361.9527243790217)\n",
      "\u001b[92mINFO \u001b[0m:      configure_evaluate: strategy sampled 1 clients (out of 3)\n",
      "\u001b[92mINFO \u001b[0m:      aggregate_evaluate: received 1 results and 0 failures\n",
      "\u001b[92mINFO \u001b[0m:      \n",
      "\u001b[92mINFO \u001b[0m:      [ROUND 69]\n",
      "\u001b[92mINFO \u001b[0m:      configure_fit: strategy sampled 3 clients (out of 3)\n"
     ]
    },
    {
     "name": "stdout",
     "output_type": "stream",
     "text": [
      "\u001b[2m\u001b[36m(ClientAppActor pid=2247182)\u001b[0m \u001b[32m [repeated 295x across cluster]\u001b[0m\n",
      "\u001b[2m\u001b[36m(ClientAppActor pid=2247182)\u001b[0m Epoch 100/100\u001b[32m [repeated 295x across cluster]\u001b[0m\n",
      "Server-side evaluation loss 0.0488682822747664 / accuracy 79.2560806274414\n",
      "\u001b[2m\u001b[36m(ClientAppActor pid=2247181)\u001b[0m Epoch 2: Training accuracy: 80.10355377197266 Testing accuracy: 82.24851989746094.\u001b[32m [repeated 285x across cluster]\u001b[0m\n"
     ]
    },
    {
     "name": "stderr",
     "output_type": "stream",
     "text": [
      "\u001b[92mINFO \u001b[0m:      aggregate_fit: received 3 results and 0 failures\n",
      "\u001b[92mINFO \u001b[0m:      fit progress: (69, 0.048306638544256035, {'accuracy': tensor(79.2561, device='cuda:0')}, 367.1159041610081)\n",
      "\u001b[92mINFO \u001b[0m:      configure_evaluate: strategy sampled 1 clients (out of 3)\n",
      "\u001b[92mINFO \u001b[0m:      aggregate_evaluate: received 1 results and 0 failures\n",
      "\u001b[92mINFO \u001b[0m:      \n",
      "\u001b[92mINFO \u001b[0m:      [ROUND 70]\n",
      "\u001b[92mINFO \u001b[0m:      configure_fit: strategy sampled 3 clients (out of 3)\n"
     ]
    },
    {
     "name": "stdout",
     "output_type": "stream",
     "text": [
      "\u001b[2m\u001b[36m(ClientAppActor pid=2247181)\u001b[0m \u001b[32m [repeated 295x across cluster]\u001b[0m\n",
      "\u001b[2m\u001b[36m(ClientAppActor pid=2247181)\u001b[0m Epoch 95/100\u001b[32m [repeated 295x across cluster]\u001b[0m\n",
      "Server-side evaluation loss 0.048306638544256035 / accuracy 79.2560806274414\n",
      "\u001b[2m\u001b[36m(ClientAppActor pid=2247181)\u001b[0m Epoch 100: Training accuracy: 80.53892517089844 Testing accuracy: 76.6467056274414.\u001b[32m [repeated 298x across cluster]\u001b[0m\n",
      "\u001b[2m\u001b[36m(ClientAppActor pid=2247182)\u001b[0m \u001b[32m [repeated 297x across cluster]\u001b[0m\n",
      "\u001b[2m\u001b[36m(ClientAppActor pid=2247182)\u001b[0m Epoch 92/100\u001b[32m [repeated 297x across cluster]\u001b[0m\n"
     ]
    },
    {
     "name": "stderr",
     "output_type": "stream",
     "text": [
      "\u001b[92mINFO \u001b[0m:      aggregate_fit: received 3 results and 0 failures\n",
      "\u001b[92mINFO \u001b[0m:      fit progress: (70, 0.04811398007652976, {'accuracy': tensor(79.6853, device='cuda:0')}, 372.2776565470267)\n",
      "\u001b[92mINFO \u001b[0m:      configure_evaluate: strategy sampled 1 clients (out of 3)\n",
      "\u001b[92mINFO \u001b[0m:      aggregate_evaluate: received 1 results and 0 failures\n",
      "\u001b[92mINFO \u001b[0m:      \n",
      "\u001b[92mINFO \u001b[0m:      [ROUND 71]\n",
      "\u001b[92mINFO \u001b[0m:      configure_fit: strategy sampled 3 clients (out of 3)\n"
     ]
    },
    {
     "name": "stdout",
     "output_type": "stream",
     "text": [
      "\u001b[2m\u001b[36m(ClientAppActor pid=2247182)\u001b[0m Epoch 99: Training accuracy: 83.0621337890625 Testing accuracy: 83.43195343017578.\u001b[32m [repeated 299x across cluster]\u001b[0m\n",
      "Server-side evaluation loss 0.04811398007652976 / accuracy 79.68526458740234\n",
      "\u001b[2m\u001b[36m(ClientAppActor pid=2247181)\u001b[0m \u001b[32m [repeated 285x across cluster]\u001b[0m\n",
      "\u001b[2m\u001b[36m(ClientAppActor pid=2247181)\u001b[0m Epoch 77/100\u001b[32m [repeated 285x across cluster]\u001b[0m\n",
      "\u001b[2m\u001b[36m(ClientAppActor pid=2247181)\u001b[0m Epoch 83: Training accuracy: 80.6159439086914 Testing accuracy: 77.77777862548828.\u001b[32m [repeated 284x across cluster]\u001b[0m\n"
     ]
    },
    {
     "name": "stderr",
     "output_type": "stream",
     "text": [
      "\u001b[92mINFO \u001b[0m:      aggregate_fit: received 3 results and 0 failures\n",
      "\u001b[92mINFO \u001b[0m:      fit progress: (71, 0.047550336881117386, {'accuracy': tensor(80.1144, device='cuda:0')}, 377.93062730901875)\n",
      "\u001b[92mINFO \u001b[0m:      configure_evaluate: strategy sampled 1 clients (out of 3)\n",
      "\u001b[92mINFO \u001b[0m:      aggregate_evaluate: received 1 results and 0 failures\n",
      "\u001b[92mINFO \u001b[0m:      \n",
      "\u001b[92mINFO \u001b[0m:      [ROUND 72]\n",
      "\u001b[92mINFO \u001b[0m:      configure_fit: strategy sampled 3 clients (out of 3)\n"
     ]
    },
    {
     "name": "stdout",
     "output_type": "stream",
     "text": [
      "Server-side evaluation loss 0.047550336881117386 / accuracy 80.11444854736328\n",
      "\u001b[2m\u001b[36m(ClientAppActor pid=2247181)\u001b[0m \u001b[32m [repeated 290x across cluster]\u001b[0m\n",
      "\u001b[2m\u001b[36m(ClientAppActor pid=2247181)\u001b[0m Epoch 67/100\u001b[32m [repeated 290x across cluster]\u001b[0m\n",
      "\u001b[2m\u001b[36m(ClientAppActor pid=2247181)\u001b[0m Epoch 74: Training accuracy: 83.68263244628906 Testing accuracy: 76.6467056274414.\u001b[32m [repeated 291x across cluster]\u001b[0m\n"
     ]
    },
    {
     "name": "stderr",
     "output_type": "stream",
     "text": [
      "\u001b[92mINFO \u001b[0m:      aggregate_fit: received 3 results and 0 failures\n",
      "\u001b[92mINFO \u001b[0m:      fit progress: (72, 0.047821640968322754, {'accuracy': tensor(79.9714, device='cuda:0')}, 383.0691949230386)\n",
      "\u001b[92mINFO \u001b[0m:      configure_evaluate: strategy sampled 1 clients (out of 3)\n",
      "\u001b[92mINFO \u001b[0m:      aggregate_evaluate: received 1 results and 0 failures\n",
      "\u001b[92mINFO \u001b[0m:      \n",
      "\u001b[92mINFO \u001b[0m:      [ROUND 73]\n",
      "\u001b[92mINFO \u001b[0m:      configure_fit: strategy sampled 3 clients (out of 3)\n"
     ]
    },
    {
     "name": "stdout",
     "output_type": "stream",
     "text": [
      "Server-side evaluation loss 0.047821640968322754 / accuracy 79.97138977050781\n",
      "\u001b[2m\u001b[36m(ClientAppActor pid=2247182)\u001b[0m \u001b[32m [repeated 286x across cluster]\u001b[0m\n",
      "\u001b[2m\u001b[36m(ClientAppActor pid=2247182)\u001b[0m Epoch 53/100\u001b[32m [repeated 286x across cluster]\u001b[0m\n",
      "\u001b[2m\u001b[36m(ClientAppActor pid=2247182)\u001b[0m Epoch 59: Training accuracy: 83.57488250732422 Testing accuracy: 78.74396514892578.\u001b[32m [repeated 285x across cluster]\u001b[0m\n"
     ]
    },
    {
     "name": "stderr",
     "output_type": "stream",
     "text": [
      "\u001b[92mINFO \u001b[0m:      aggregate_fit: received 3 results and 0 failures\n",
      "\u001b[92mINFO \u001b[0m:      fit progress: (73, 0.05136356028643521, {'accuracy': tensor(76.5379, device='cuda:0')}, 388.81664731900673)\n",
      "\u001b[92mINFO \u001b[0m:      configure_evaluate: strategy sampled 1 clients (out of 3)\n",
      "\u001b[92mINFO \u001b[0m:      aggregate_evaluate: received 1 results and 0 failures\n",
      "\u001b[92mINFO \u001b[0m:      \n",
      "\u001b[92mINFO \u001b[0m:      [ROUND 74]\n",
      "\u001b[92mINFO \u001b[0m:      configure_fit: strategy sampled 3 clients (out of 3)\n"
     ]
    },
    {
     "name": "stdout",
     "output_type": "stream",
     "text": [
      "Server-side evaluation loss 0.05136356028643521 / accuracy 76.53791046142578\n",
      "\u001b[2m\u001b[36m(ClientAppActor pid=2247181)\u001b[0m \u001b[32m [repeated 281x across cluster]\u001b[0m\n",
      "\u001b[2m\u001b[36m(ClientAppActor pid=2247181)\u001b[0m Epoch 34/100\u001b[32m [repeated 281x across cluster]\u001b[0m\n",
      "\u001b[2m\u001b[36m(ClientAppActor pid=2247181)\u001b[0m Epoch 41: Training accuracy: 83.83233642578125 Testing accuracy: 79.64071655273438.\u001b[32m [repeated 282x across cluster]\u001b[0m\n"
     ]
    },
    {
     "name": "stderr",
     "output_type": "stream",
     "text": [
      "\u001b[92mINFO \u001b[0m:      aggregate_fit: received 3 results and 0 failures\n",
      "\u001b[92mINFO \u001b[0m:      fit progress: (74, 0.0479314923286438, {'accuracy': tensor(79.6853, device='cuda:0')}, 394.0165235880995)\n",
      "\u001b[92mINFO \u001b[0m:      configure_evaluate: strategy sampled 1 clients (out of 3)\n",
      "\u001b[92mINFO \u001b[0m:      aggregate_evaluate: received 1 results and 0 failures\n",
      "\u001b[92mINFO \u001b[0m:      \n",
      "\u001b[92mINFO \u001b[0m:      [ROUND 75]\n",
      "\u001b[92mINFO \u001b[0m:      configure_fit: strategy sampled 3 clients (out of 3)\n"
     ]
    },
    {
     "name": "stdout",
     "output_type": "stream",
     "text": [
      "Server-side evaluation loss 0.0479314923286438 / accuracy 79.68526458740234\n",
      "\u001b[2m\u001b[36m(ClientAppActor pid=2247182)\u001b[0m \u001b[32m [repeated 299x across cluster]\u001b[0m\n",
      "\u001b[2m\u001b[36m(ClientAppActor pid=2247182)\u001b[0m Epoch 33/100\u001b[32m [repeated 299x across cluster]\u001b[0m\n",
      "\u001b[2m\u001b[36m(ClientAppActor pid=2247182)\u001b[0m Epoch 40: Training accuracy: 81.13905334472656 Testing accuracy: 79.2899398803711.\u001b[32m [repeated 299x across cluster]\u001b[0m\n"
     ]
    },
    {
     "name": "stderr",
     "output_type": "stream",
     "text": [
      "\u001b[92mINFO \u001b[0m:      aggregate_fit: received 3 results and 0 failures\n",
      "\u001b[92mINFO \u001b[0m:      fit progress: (75, 0.047858476638793945, {'accuracy': tensor(79.9714, device='cuda:0')}, 399.2484675910091)\n",
      "\u001b[92mINFO \u001b[0m:      configure_evaluate: strategy sampled 1 clients (out of 3)\n",
      "\u001b[92mINFO \u001b[0m:      aggregate_evaluate: received 1 results and 0 failures\n",
      "\u001b[92mINFO \u001b[0m:      \n",
      "\u001b[92mINFO \u001b[0m:      [ROUND 76]\n",
      "\u001b[92mINFO \u001b[0m:      configure_fit: strategy sampled 3 clients (out of 3)\n"
     ]
    },
    {
     "name": "stdout",
     "output_type": "stream",
     "text": [
      "Server-side evaluation loss 0.047858476638793945 / accuracy 79.97138977050781\n",
      "\u001b[2m\u001b[36m(ClientAppActor pid=2247182)\u001b[0m \u001b[32m [repeated 294x across cluster]\u001b[0m\n",
      "\u001b[2m\u001b[36m(ClientAppActor pid=2247182)\u001b[0m Epoch 27/100\u001b[32m [repeated 294x across cluster]\u001b[0m\n",
      "\u001b[2m\u001b[36m(ClientAppActor pid=2247182)\u001b[0m Epoch 34: Training accuracy: 80.91716003417969 Testing accuracy: 81.0650863647461.\u001b[32m [repeated 294x across cluster]\u001b[0m\n"
     ]
    },
    {
     "name": "stderr",
     "output_type": "stream",
     "text": [
      "\u001b[92mINFO \u001b[0m:      aggregate_fit: received 3 results and 0 failures\n",
      "\u001b[92mINFO \u001b[0m:      fit progress: (76, 0.047832066362554375, {'accuracy': tensor(79.8283, device='cuda:0')}, 404.5981912770076)\n",
      "\u001b[92mINFO \u001b[0m:      configure_evaluate: strategy sampled 1 clients (out of 3)\n",
      "\u001b[92mINFO \u001b[0m:      aggregate_evaluate: received 1 results and 0 failures\n",
      "\u001b[92mINFO \u001b[0m:      \n",
      "\u001b[92mINFO \u001b[0m:      [ROUND 77]\n",
      "\u001b[92mINFO \u001b[0m:      configure_fit: strategy sampled 3 clients (out of 3)\n"
     ]
    },
    {
     "name": "stdout",
     "output_type": "stream",
     "text": [
      "Server-side evaluation loss 0.047832066362554375 / accuracy 79.82832336425781\n",
      "\u001b[2m\u001b[36m(ClientAppActor pid=2247181)\u001b[0m \u001b[32m [repeated 289x across cluster]\u001b[0m\n",
      "\u001b[2m\u001b[36m(ClientAppActor pid=2247181)\u001b[0m Epoch 100/100\u001b[32m [repeated 289x across cluster]\u001b[0m\n",
      "\u001b[2m\u001b[36m(ClientAppActor pid=2247182)\u001b[0m Epoch 27: Training accuracy: 82.91419982910156 Testing accuracy: 82.84024047851562.\u001b[32m [repeated 293x across cluster]\u001b[0m\n"
     ]
    },
    {
     "name": "stderr",
     "output_type": "stream",
     "text": [
      "\u001b[92mINFO \u001b[0m:      aggregate_fit: received 3 results and 0 failures\n",
      "\u001b[92mINFO \u001b[0m:      fit progress: (77, 0.047539440068331634, {'accuracy': tensor(79.9714, device='cuda:0')}, 409.79213342408184)\n",
      "\u001b[92mINFO \u001b[0m:      configure_evaluate: strategy sampled 1 clients (out of 3)\n",
      "\u001b[92mINFO \u001b[0m:      aggregate_evaluate: received 1 results and 0 failures\n",
      "\u001b[92mINFO \u001b[0m:      \n",
      "\u001b[92mINFO \u001b[0m:      [ROUND 78]\n",
      "\u001b[92mINFO \u001b[0m:      configure_fit: strategy sampled 3 clients (out of 3)\n"
     ]
    },
    {
     "name": "stdout",
     "output_type": "stream",
     "text": [
      "Server-side evaluation loss 0.047539440068331634 / accuracy 79.97138977050781\n",
      "\u001b[2m\u001b[36m(ClientAppActor pid=2247181)\u001b[0m \u001b[32m [repeated 287x across cluster]\u001b[0m\n",
      "\u001b[2m\u001b[36m(ClientAppActor pid=2247181)\u001b[0m Epoch 96/100\u001b[32m [repeated 287x across cluster]\u001b[0m\n",
      "\u001b[2m\u001b[36m(ClientAppActor pid=2247181)\u001b[0m Epoch 100: Training accuracy: 81.40096282958984 Testing accuracy: 77.77777862548828.\u001b[32m [repeated 287x across cluster]\u001b[0m\n"
     ]
    },
    {
     "name": "stderr",
     "output_type": "stream",
     "text": [
      "\u001b[92mINFO \u001b[0m:      aggregate_fit: received 3 results and 0 failures\n",
      "\u001b[92mINFO \u001b[0m:      fit progress: (78, 0.051096200942993164, {'accuracy': tensor(77.2532, device='cuda:0')}, 415.092499727034)\n",
      "\u001b[92mINFO \u001b[0m:      configure_evaluate: strategy sampled 1 clients (out of 3)\n",
      "\u001b[92mINFO \u001b[0m:      aggregate_evaluate: received 1 results and 0 failures\n",
      "\u001b[92mINFO \u001b[0m:      \n",
      "\u001b[92mINFO \u001b[0m:      [ROUND 79]\n",
      "\u001b[92mINFO \u001b[0m:      configure_fit: strategy sampled 3 clients (out of 3)\n"
     ]
    },
    {
     "name": "stdout",
     "output_type": "stream",
     "text": [
      "Server-side evaluation loss 0.051096200942993164 / accuracy 77.25321960449219\n",
      "\u001b[2m\u001b[36m(ClientAppActor pid=2247182)\u001b[0m \u001b[32m [repeated 301x across cluster]\u001b[0m\n",
      "\u001b[2m\u001b[36m(ClientAppActor pid=2247182)\u001b[0m Epoch 4/100\u001b[32m [repeated 301x across cluster]\u001b[0m\n",
      "\u001b[2m\u001b[36m(ClientAppActor pid=2247182)\u001b[0m Epoch 10: Training accuracy: 82.66908264160156 Testing accuracy: 77.77777862548828.\u001b[32m [repeated 296x across cluster]\u001b[0m\n"
     ]
    },
    {
     "name": "stderr",
     "output_type": "stream",
     "text": [
      "\u001b[92mINFO \u001b[0m:      aggregate_fit: received 3 results and 0 failures\n",
      "\u001b[92mINFO \u001b[0m:      fit progress: (79, 0.04856571284207431, {'accuracy': tensor(80.2575, device='cuda:0')}, 420.85005590110086)\n",
      "\u001b[92mINFO \u001b[0m:      configure_evaluate: strategy sampled 1 clients (out of 3)\n",
      "\u001b[92mINFO \u001b[0m:      aggregate_evaluate: received 1 results and 0 failures\n",
      "\u001b[92mINFO \u001b[0m:      \n",
      "\u001b[92mINFO \u001b[0m:      [ROUND 80]\n",
      "\u001b[92mINFO \u001b[0m:      configure_fit: strategy sampled 3 clients (out of 3)\n"
     ]
    },
    {
     "name": "stdout",
     "output_type": "stream",
     "text": [
      "Server-side evaluation loss 0.04856571284207431 / accuracy 80.25750732421875\n",
      "\u001b[2m\u001b[36m(ClientAppActor pid=2247181)\u001b[0m \u001b[32m [repeated 237x across cluster]\u001b[0m\n",
      "\u001b[2m\u001b[36m(ClientAppActor pid=2247181)\u001b[0m Epoch 67/100\u001b[32m [repeated 237x across cluster]\u001b[0m\n",
      "\u001b[2m\u001b[36m(ClientAppActor pid=2247181)\u001b[0m Epoch 72: Training accuracy: 83.9975814819336 Testing accuracy: 80.67633056640625.\u001b[32m [repeated 242x across cluster]\u001b[0m\n"
     ]
    },
    {
     "name": "stderr",
     "output_type": "stream",
     "text": [
      "\u001b[92mINFO \u001b[0m:      aggregate_fit: received 3 results and 0 failures\n",
      "\u001b[92mINFO \u001b[0m:      fit progress: (80, 0.04847264831716364, {'accuracy': tensor(80.2575, device='cuda:0')}, 426.14156179502606)\n",
      "\u001b[92mINFO \u001b[0m:      configure_evaluate: strategy sampled 1 clients (out of 3)\n",
      "\u001b[92mINFO \u001b[0m:      aggregate_evaluate: received 1 results and 0 failures\n",
      "\u001b[92mINFO \u001b[0m:      \n",
      "\u001b[92mINFO \u001b[0m:      [ROUND 81]\n",
      "\u001b[92mINFO \u001b[0m:      configure_fit: strategy sampled 3 clients (out of 3)\n"
     ]
    },
    {
     "name": "stdout",
     "output_type": "stream",
     "text": [
      "Server-side evaluation loss 0.04847264831716364 / accuracy 80.25750732421875\n",
      "\u001b[2m\u001b[36m(ClientAppActor pid=2247181)\u001b[0m \u001b[32m [repeated 287x across cluster]\u001b[0m\n",
      "\u001b[2m\u001b[36m(ClientAppActor pid=2247181)\u001b[0m Epoch 72/100\u001b[32m [repeated 287x across cluster]\u001b[0m\n",
      "\u001b[2m\u001b[36m(ClientAppActor pid=2247181)\u001b[0m Epoch 79: Training accuracy: 84.50598907470703 Testing accuracy: 79.64071655273438.\u001b[32m [repeated 288x across cluster]\u001b[0m\n"
     ]
    },
    {
     "name": "stderr",
     "output_type": "stream",
     "text": [
      "\u001b[92mINFO \u001b[0m:      aggregate_fit: received 3 results and 0 failures\n",
      "\u001b[92mINFO \u001b[0m:      fit progress: (81, 0.04967753453688188, {'accuracy': tensor(79.1130, device='cuda:0')}, 431.3846174690407)\n",
      "\u001b[92mINFO \u001b[0m:      configure_evaluate: strategy sampled 1 clients (out of 3)\n",
      "\u001b[92mINFO \u001b[0m:      aggregate_evaluate: received 1 results and 0 failures\n",
      "\u001b[92mINFO \u001b[0m:      \n",
      "\u001b[92mINFO \u001b[0m:      [ROUND 82]\n",
      "\u001b[92mINFO \u001b[0m:      configure_fit: strategy sampled 3 clients (out of 3)\n"
     ]
    },
    {
     "name": "stdout",
     "output_type": "stream",
     "text": [
      "Server-side evaluation loss 0.04967753453688188 / accuracy 79.11302185058594\n",
      "\u001b[2m\u001b[36m(ClientAppActor pid=2247181)\u001b[0m \u001b[32m [repeated 299x across cluster]\u001b[0m\n",
      "\u001b[2m\u001b[36m(ClientAppActor pid=2247181)\u001b[0m Epoch 67/100\u001b[32m [repeated 299x across cluster]\u001b[0m\n",
      "\u001b[2m\u001b[36m(ClientAppActor pid=2247181)\u001b[0m Epoch 75: Training accuracy: 83.68263244628906 Testing accuracy: 79.64071655273438.\u001b[32m [repeated 301x across cluster]\u001b[0m\n"
     ]
    },
    {
     "name": "stderr",
     "output_type": "stream",
     "text": [
      "\u001b[92mINFO \u001b[0m:      aggregate_fit: received 3 results and 0 failures\n",
      "\u001b[92mINFO \u001b[0m:      fit progress: (82, 0.04781917008486661, {'accuracy': tensor(80.2575, device='cuda:0')}, 437.0051849600859)\n",
      "\u001b[92mINFO \u001b[0m:      configure_evaluate: strategy sampled 1 clients (out of 3)\n",
      "\u001b[92mINFO \u001b[0m:      aggregate_evaluate: received 1 results and 0 failures\n",
      "\u001b[92mINFO \u001b[0m:      \n",
      "\u001b[92mINFO \u001b[0m:      [ROUND 83]\n",
      "\u001b[92mINFO \u001b[0m:      configure_fit: strategy sampled 3 clients (out of 3)\n"
     ]
    },
    {
     "name": "stdout",
     "output_type": "stream",
     "text": [
      "Server-side evaluation loss 0.04781917008486661 / accuracy 80.25750732421875\n",
      "\u001b[2m\u001b[36m(ClientAppActor pid=2247181)\u001b[0m \u001b[32m [repeated 251x across cluster]\u001b[0m\n",
      "\u001b[2m\u001b[36m(ClientAppActor pid=2247181)\u001b[0m Epoch 45/100\u001b[32m [repeated 251x across cluster]\u001b[0m\n",
      "\u001b[2m\u001b[36m(ClientAppActor pid=2247181)\u001b[0m Epoch 52: Training accuracy: 83.15868377685547 Testing accuracy: 77.84431457519531.\u001b[32m [repeated 250x across cluster]\u001b[0m\n"
     ]
    },
    {
     "name": "stderr",
     "output_type": "stream",
     "text": [
      "\u001b[92mINFO \u001b[0m:      aggregate_fit: received 3 results and 0 failures\n",
      "\u001b[92mINFO \u001b[0m:      fit progress: (83, 0.050265355543656784, {'accuracy': tensor(78.3977, device='cuda:0')}, 442.3069409010932)\n",
      "\u001b[92mINFO \u001b[0m:      configure_evaluate: strategy sampled 1 clients (out of 3)\n",
      "\u001b[92mINFO \u001b[0m:      aggregate_evaluate: received 1 results and 0 failures\n",
      "\u001b[92mINFO \u001b[0m:      \n",
      "\u001b[92mINFO \u001b[0m:      [ROUND 84]\n",
      "\u001b[92mINFO \u001b[0m:      configure_fit: strategy sampled 3 clients (out of 3)\n"
     ]
    },
    {
     "name": "stdout",
     "output_type": "stream",
     "text": [
      "Server-side evaluation loss 0.050265355543656784 / accuracy 78.39771270751953\n",
      "\u001b[2m\u001b[36m(ClientAppActor pid=2247181)\u001b[0m \u001b[32m [repeated 282x across cluster]\u001b[0m\n",
      "\u001b[2m\u001b[36m(ClientAppActor pid=2247181)\u001b[0m Epoch 36/100\u001b[32m [repeated 282x across cluster]\u001b[0m\n",
      "\u001b[2m\u001b[36m(ClientAppActor pid=2247181)\u001b[0m Epoch 44: Training accuracy: 84.88024139404297 Testing accuracy: 79.64071655273438.\u001b[32m [repeated 282x across cluster]\u001b[0m\n"
     ]
    },
    {
     "name": "stderr",
     "output_type": "stream",
     "text": [
      "\u001b[92mINFO \u001b[0m:      aggregate_fit: received 3 results and 0 failures\n",
      "\u001b[92mINFO \u001b[0m:      fit progress: (84, 0.04945628209547563, {'accuracy': tensor(79.3991, device='cuda:0')}, 447.5353560160147)\n",
      "\u001b[92mINFO \u001b[0m:      configure_evaluate: strategy sampled 1 clients (out of 3)\n",
      "\u001b[92mINFO \u001b[0m:      aggregate_evaluate: received 1 results and 0 failures\n",
      "\u001b[92mINFO \u001b[0m:      \n",
      "\u001b[92mINFO \u001b[0m:      [ROUND 85]\n",
      "\u001b[92mINFO \u001b[0m:      configure_fit: strategy sampled 3 clients (out of 3)\n"
     ]
    },
    {
     "name": "stdout",
     "output_type": "stream",
     "text": [
      "Server-side evaluation loss 0.04945628209547563 / accuracy 79.39913940429688\n",
      "\u001b[2m\u001b[36m(ClientAppActor pid=2247181)\u001b[0m \u001b[32m [repeated 290x across cluster]\u001b[0m\n",
      "\u001b[2m\u001b[36m(ClientAppActor pid=2247181)\u001b[0m Epoch 25/100\u001b[32m [repeated 290x across cluster]\u001b[0m\n",
      "\u001b[2m\u001b[36m(ClientAppActor pid=2247181)\u001b[0m Epoch 30: Training accuracy: 83.75603485107422 Testing accuracy: 78.26087188720703.\u001b[32m [repeated 288x across cluster]\u001b[0m\n"
     ]
    },
    {
     "name": "stderr",
     "output_type": "stream",
     "text": [
      "\u001b[92mINFO \u001b[0m:      aggregate_fit: received 3 results and 0 failures\n",
      "\u001b[92mINFO \u001b[0m:      fit progress: (85, 0.04807276075536555, {'accuracy': tensor(80.2575, device='cuda:0')}, 452.9748858161038)\n",
      "\u001b[92mINFO \u001b[0m:      configure_evaluate: strategy sampled 1 clients (out of 3)\n",
      "\u001b[92mINFO \u001b[0m:      aggregate_evaluate: received 1 results and 0 failures\n",
      "\u001b[92mINFO \u001b[0m:      \n",
      "\u001b[92mINFO \u001b[0m:      [ROUND 86]\n",
      "\u001b[92mINFO \u001b[0m:      configure_fit: strategy sampled 3 clients (out of 3)\n"
     ]
    },
    {
     "name": "stdout",
     "output_type": "stream",
     "text": [
      "Server-side evaluation loss 0.04807276075536555 / accuracy 80.25750732421875\n",
      "\u001b[2m\u001b[36m(ClientAppActor pid=2247181)\u001b[0m \u001b[32m [repeated 279x across cluster]\u001b[0m\n",
      "\u001b[2m\u001b[36m(ClientAppActor pid=2247181)\u001b[0m Epoch 16/100\u001b[32m [repeated 279x across cluster]\u001b[0m\n",
      "\u001b[2m\u001b[36m(ClientAppActor pid=2247181)\u001b[0m Epoch 23: Training accuracy: 80.76923370361328 Testing accuracy: 80.47337341308594.\u001b[32m [repeated 282x across cluster]\u001b[0m\n"
     ]
    },
    {
     "name": "stderr",
     "output_type": "stream",
     "text": [
      "\u001b[92mINFO \u001b[0m:      aggregate_fit: received 3 results and 0 failures\n",
      "\u001b[92mINFO \u001b[0m:      fit progress: (86, 0.04967635328119451, {'accuracy': tensor(79.5422, device='cuda:0')}, 458.63525098608807)\n",
      "\u001b[92mINFO \u001b[0m:      configure_evaluate: strategy sampled 1 clients (out of 3)\n",
      "\u001b[92mINFO \u001b[0m:      aggregate_evaluate: received 1 results and 0 failures\n",
      "\u001b[92mINFO \u001b[0m:      \n",
      "\u001b[92mINFO \u001b[0m:      [ROUND 87]\n",
      "\u001b[92mINFO \u001b[0m:      configure_fit: strategy sampled 3 clients (out of 3)\n"
     ]
    },
    {
     "name": "stdout",
     "output_type": "stream",
     "text": [
      "\u001b[2m\u001b[36m(ClientAppActor pid=2247181)\u001b[0m \u001b[32m [repeated 268x across cluster]\u001b[0m\n",
      "\u001b[2m\u001b[36m(ClientAppActor pid=2247181)\u001b[0m Epoch 97/100\u001b[32m [repeated 268x across cluster]\u001b[0m\n",
      "Server-side evaluation loss 0.04967635328119451 / accuracy 79.54220581054688\n",
      "\u001b[2m\u001b[36m(ClientAppActor pid=2247181)\u001b[0m Epoch 100: Training accuracy: 84.48067474365234 Testing accuracy: 79.71014404296875.\u001b[32m [repeated 257x across cluster]\u001b[0m\n",
      "\u001b[2m\u001b[36m(ClientAppActor pid=2247181)\u001b[0m \u001b[32m [repeated 281x across cluster]\u001b[0m\n",
      "\u001b[2m\u001b[36m(ClientAppActor pid=2247181)\u001b[0m Epoch 78/100\u001b[32m [repeated 281x across cluster]\u001b[0m\n",
      "\u001b[2m\u001b[36m(ClientAppActor pid=2247181)\u001b[0m Epoch 84: Training accuracy: 83.15217590332031 Testing accuracy: 78.74396514892578.\u001b[32m [repeated 284x across cluster]\u001b[0m\n"
     ]
    },
    {
     "name": "stderr",
     "output_type": "stream",
     "text": [
      "\u001b[92mINFO \u001b[0m:      aggregate_fit: received 3 results and 0 failures\n",
      "\u001b[92mINFO \u001b[0m:      fit progress: (87, 0.048403566533868965, {'accuracy': tensor(79.9714, device='cuda:0')}, 464.3043567640707)\n",
      "\u001b[92mINFO \u001b[0m:      configure_evaluate: strategy sampled 1 clients (out of 3)\n",
      "\u001b[92mINFO \u001b[0m:      aggregate_evaluate: received 1 results and 0 failures\n",
      "\u001b[92mINFO \u001b[0m:      \n",
      "\u001b[92mINFO \u001b[0m:      [ROUND 88]\n",
      "\u001b[92mINFO \u001b[0m:      configure_fit: strategy sampled 3 clients (out of 3)\n"
     ]
    },
    {
     "name": "stdout",
     "output_type": "stream",
     "text": [
      "Server-side evaluation loss 0.048403566533868965 / accuracy 79.97138977050781\n",
      "\u001b[2m\u001b[36m(ClientAppActor pid=2247182)\u001b[0m \u001b[32m [repeated 279x across cluster]\u001b[0m\n",
      "\u001b[2m\u001b[36m(ClientAppActor pid=2247182)\u001b[0m Epoch 57/100\u001b[32m [repeated 279x across cluster]\u001b[0m\n",
      "\u001b[2m\u001b[36m(ClientAppActor pid=2247182)\u001b[0m Epoch 63: Training accuracy: 83.15217590332031 Testing accuracy: 78.74396514892578.\u001b[32m [repeated 279x across cluster]\u001b[0m\n"
     ]
    },
    {
     "name": "stderr",
     "output_type": "stream",
     "text": [
      "\u001b[92mINFO \u001b[0m:      aggregate_fit: received 3 results and 0 failures\n",
      "\u001b[92mINFO \u001b[0m:      fit progress: (88, 0.05025955221869729, {'accuracy': tensor(79.1130, device='cuda:0')}, 470.1146532529965)\n",
      "\u001b[92mINFO \u001b[0m:      configure_evaluate: strategy sampled 1 clients (out of 3)\n",
      "\u001b[92mINFO \u001b[0m:      aggregate_evaluate: received 1 results and 0 failures\n",
      "\u001b[92mINFO \u001b[0m:      \n",
      "\u001b[92mINFO \u001b[0m:      [ROUND 89]\n",
      "\u001b[92mINFO \u001b[0m:      configure_fit: strategy sampled 3 clients (out of 3)\n"
     ]
    },
    {
     "name": "stdout",
     "output_type": "stream",
     "text": [
      "Server-side evaluation loss 0.05025955221869729 / accuracy 79.11302185058594\n",
      "\u001b[2m\u001b[36m(ClientAppActor pid=2247182)\u001b[0m \u001b[32m [repeated 282x across cluster]\u001b[0m\n",
      "\u001b[2m\u001b[36m(ClientAppActor pid=2247182)\u001b[0m Epoch 39/100\u001b[32m [repeated 282x across cluster]\u001b[0m\n",
      "\u001b[2m\u001b[36m(ClientAppActor pid=2247182)\u001b[0m Epoch 46: Training accuracy: 83.35798645019531 Testing accuracy: 84.02366638183594.\u001b[32m [repeated 283x across cluster]\u001b[0m\n"
     ]
    },
    {
     "name": "stderr",
     "output_type": "stream",
     "text": [
      "\u001b[92mINFO \u001b[0m:      aggregate_fit: received 3 results and 0 failures\n",
      "\u001b[92mINFO \u001b[0m:      fit progress: (89, 0.04948101802305742, {'accuracy': tensor(79.5422, device='cuda:0')}, 475.3758901520632)\n",
      "\u001b[92mINFO \u001b[0m:      configure_evaluate: strategy sampled 1 clients (out of 3)\n",
      "\u001b[92mINFO \u001b[0m:      aggregate_evaluate: received 1 results and 0 failures\n",
      "\u001b[92mINFO \u001b[0m:      \n",
      "\u001b[92mINFO \u001b[0m:      [ROUND 90]\n",
      "\u001b[92mINFO \u001b[0m:      configure_fit: strategy sampled 3 clients (out of 3)\n"
     ]
    },
    {
     "name": "stdout",
     "output_type": "stream",
     "text": [
      "Server-side evaluation loss 0.04948101802305742 / accuracy 79.54220581054688\n",
      "\u001b[2m\u001b[36m(ClientAppActor pid=2247182)\u001b[0m \u001b[32m [repeated 290x across cluster]\u001b[0m\n",
      "\u001b[2m\u001b[36m(ClientAppActor pid=2247182)\u001b[0m Epoch 29/100\u001b[32m [repeated 290x across cluster]\u001b[0m\n",
      "\u001b[2m\u001b[36m(ClientAppActor pid=2247182)\u001b[0m Epoch 36: Training accuracy: 84.95509338378906 Testing accuracy: 80.23951721191406.\u001b[32m [repeated 290x across cluster]\u001b[0m\n"
     ]
    },
    {
     "name": "stderr",
     "output_type": "stream",
     "text": [
      "\u001b[92mINFO \u001b[0m:      aggregate_fit: received 3 results and 0 failures\n",
      "\u001b[92mINFO \u001b[0m:      fit progress: (90, 0.048082172870635986, {'accuracy': tensor(80.8298, device='cuda:0')}, 480.71652295801323)\n",
      "\u001b[92mINFO \u001b[0m:      configure_evaluate: strategy sampled 1 clients (out of 3)\n",
      "\u001b[92mINFO \u001b[0m:      aggregate_evaluate: received 1 results and 0 failures\n",
      "\u001b[92mINFO \u001b[0m:      \n",
      "\u001b[92mINFO \u001b[0m:      [ROUND 91]\n",
      "\u001b[92mINFO \u001b[0m:      configure_fit: strategy sampled 3 clients (out of 3)\n"
     ]
    },
    {
     "name": "stdout",
     "output_type": "stream",
     "text": [
      "Server-side evaluation loss 0.048082172870635986 / accuracy 80.82975769042969\n",
      "\u001b[2m\u001b[36m(ClientAppActor pid=2247181)\u001b[0m \u001b[32m [repeated 291x across cluster]\u001b[0m\n",
      "\u001b[2m\u001b[36m(ClientAppActor pid=2247181)\u001b[0m Epoch 20/100\u001b[32m [repeated 291x across cluster]\u001b[0m\n",
      "\u001b[2m\u001b[36m(ClientAppActor pid=2247181)\u001b[0m Epoch 26: Training accuracy: 84.35990142822266 Testing accuracy: 80.67633056640625.\u001b[32m [repeated 290x across cluster]\u001b[0m\n"
     ]
    },
    {
     "name": "stderr",
     "output_type": "stream",
     "text": [
      "\u001b[92mINFO \u001b[0m:      aggregate_fit: received 3 results and 0 failures\n",
      "\u001b[92mINFO \u001b[0m:      fit progress: (91, 0.049935671416195954, {'accuracy': tensor(78.8269, device='cuda:0')}, 486.38539758708794)\n",
      "\u001b[92mINFO \u001b[0m:      configure_evaluate: strategy sampled 1 clients (out of 3)\n",
      "\u001b[92mINFO \u001b[0m:      aggregate_evaluate: received 1 results and 0 failures\n",
      "\u001b[92mINFO \u001b[0m:      \n",
      "\u001b[92mINFO \u001b[0m:      [ROUND 92]\n",
      "\u001b[92mINFO \u001b[0m:      configure_fit: strategy sampled 3 clients (out of 3)\n"
     ]
    },
    {
     "name": "stdout",
     "output_type": "stream",
     "text": [
      "Server-side evaluation loss 0.049935671416195954 / accuracy 78.82689666748047\n",
      "\u001b[2m\u001b[36m(ClientAppActor pid=2247181)\u001b[0m \u001b[32m [repeated 262x across cluster]\u001b[0m\n",
      "\u001b[2m\u001b[36m(ClientAppActor pid=2247181)\u001b[0m Epoch 84/100\u001b[32m [repeated 262x across cluster]\u001b[0m\n",
      "\u001b[2m\u001b[36m(ClientAppActor pid=2247181)\u001b[0m Epoch 90: Training accuracy: 82.78985595703125 Testing accuracy: 77.77777862548828.\u001b[32m [repeated 267x across cluster]\u001b[0m\n"
     ]
    },
    {
     "name": "stderr",
     "output_type": "stream",
     "text": [
      "\u001b[92mINFO \u001b[0m:      aggregate_fit: received 3 results and 0 failures\n",
      "\u001b[92mINFO \u001b[0m:      fit progress: (92, 0.05087509480389682, {'accuracy': tensor(78.3977, device='cuda:0')}, 491.71886369306594)\n",
      "\u001b[92mINFO \u001b[0m:      configure_evaluate: strategy sampled 1 clients (out of 3)\n",
      "\u001b[92mINFO \u001b[0m:      aggregate_evaluate: received 1 results and 0 failures\n",
      "\u001b[92mINFO \u001b[0m:      \n",
      "\u001b[92mINFO \u001b[0m:      [ROUND 93]\n",
      "\u001b[92mINFO \u001b[0m:      configure_fit: strategy sampled 3 clients (out of 3)\n"
     ]
    },
    {
     "name": "stdout",
     "output_type": "stream",
     "text": [
      "Server-side evaluation loss 0.05087509480389682 / accuracy 78.39771270751953\n",
      "\u001b[2m\u001b[36m(ClientAppActor pid=2247181)\u001b[0m \u001b[32m [repeated 284x across cluster]\u001b[0m\n",
      "\u001b[2m\u001b[36m(ClientAppActor pid=2247181)\u001b[0m Epoch 76/100\u001b[32m [repeated 284x across cluster]\u001b[0m\n",
      "\u001b[2m\u001b[36m(ClientAppActor pid=2247181)\u001b[0m Epoch 82: Training accuracy: 84.11835479736328 Testing accuracy: 80.67633056640625.\u001b[32m [repeated 286x across cluster]\u001b[0m\n"
     ]
    },
    {
     "name": "stderr",
     "output_type": "stream",
     "text": [
      "\u001b[92mINFO \u001b[0m:      aggregate_fit: received 3 results and 0 failures\n",
      "\u001b[92mINFO \u001b[0m:      fit progress: (93, 0.050437564199621025, {'accuracy': tensor(79.2561, device='cuda:0')}, 496.922411615029)\n",
      "\u001b[92mINFO \u001b[0m:      configure_evaluate: strategy sampled 1 clients (out of 3)\n",
      "\u001b[92mINFO \u001b[0m:      aggregate_evaluate: received 1 results and 0 failures\n",
      "\u001b[92mINFO \u001b[0m:      \n",
      "\u001b[92mINFO \u001b[0m:      [ROUND 94]\n",
      "\u001b[92mINFO \u001b[0m:      configure_fit: strategy sampled 3 clients (out of 3)\n"
     ]
    },
    {
     "name": "stdout",
     "output_type": "stream",
     "text": [
      "Server-side evaluation loss 0.050437564199621025 / accuracy 79.2560806274414\n",
      "\u001b[2m\u001b[36m(ClientAppActor pid=2247181)\u001b[0m \u001b[32m [repeated 282x across cluster]\u001b[0m\n",
      "\u001b[2m\u001b[36m(ClientAppActor pid=2247181)\u001b[0m Epoch 83/100\u001b[32m [repeated 282x across cluster]\u001b[0m\n",
      "\u001b[2m\u001b[36m(ClientAppActor pid=2247181)\u001b[0m Epoch 90: Training accuracy: 83.13609313964844 Testing accuracy: 83.43195343017578.\u001b[32m [repeated 282x across cluster]\u001b[0m\n"
     ]
    },
    {
     "name": "stderr",
     "output_type": "stream",
     "text": [
      "\u001b[92mINFO \u001b[0m:      aggregate_fit: received 3 results and 0 failures\n",
      "\u001b[92mINFO \u001b[0m:      fit progress: (94, 0.05076543851332231, {'accuracy': tensor(78.2546, device='cuda:0')}, 502.25121980009135)\n",
      "\u001b[92mINFO \u001b[0m:      configure_evaluate: strategy sampled 1 clients (out of 3)\n",
      "\u001b[92mINFO \u001b[0m:      aggregate_evaluate: received 1 results and 0 failures\n",
      "\u001b[92mINFO \u001b[0m:      \n",
      "\u001b[92mINFO \u001b[0m:      [ROUND 95]\n",
      "\u001b[92mINFO \u001b[0m:      configure_fit: strategy sampled 3 clients (out of 3)\n"
     ]
    },
    {
     "name": "stdout",
     "output_type": "stream",
     "text": [
      "Server-side evaluation loss 0.05076543851332231 / accuracy 78.25464630126953\n",
      "\u001b[2m\u001b[36m(ClientAppActor pid=2247181)\u001b[0m \u001b[32m [repeated 288x across cluster]\u001b[0m\n",
      "\u001b[2m\u001b[36m(ClientAppActor pid=2247181)\u001b[0m Epoch 76/100\u001b[32m [repeated 288x across cluster]\u001b[0m\n",
      "\u001b[2m\u001b[36m(ClientAppActor pid=2247181)\u001b[0m Epoch 82: Training accuracy: 82.98816680908203 Testing accuracy: 81.0650863647461.\u001b[32m [repeated 286x across cluster]\u001b[0m\n"
     ]
    },
    {
     "name": "stderr",
     "output_type": "stream",
     "text": [
      "\u001b[92mINFO \u001b[0m:      aggregate_fit: received 3 results and 0 failures\n",
      "\u001b[92mINFO \u001b[0m:      fit progress: (95, 0.050733409144661644, {'accuracy': tensor(78.1116, device='cuda:0')}, 507.4300779030891)\n",
      "\u001b[92mINFO \u001b[0m:      configure_evaluate: strategy sampled 1 clients (out of 3)\n",
      "\u001b[92mINFO \u001b[0m:      aggregate_evaluate: received 1 results and 0 failures\n",
      "\u001b[92mINFO \u001b[0m:      \n",
      "\u001b[92mINFO \u001b[0m:      [ROUND 96]\n",
      "\u001b[92mINFO \u001b[0m:      configure_fit: strategy sampled 3 clients (out of 3)\n"
     ]
    },
    {
     "name": "stdout",
     "output_type": "stream",
     "text": [
      "Server-side evaluation loss 0.050733409144661644 / accuracy 78.11158752441406\n",
      "\u001b[2m\u001b[36m(ClientAppActor pid=2247181)\u001b[0m \u001b[32m [repeated 298x across cluster]\u001b[0m\n",
      "\u001b[2m\u001b[36m(ClientAppActor pid=2247181)\u001b[0m Epoch 70/100\u001b[32m [repeated 298x across cluster]\u001b[0m\n",
      "\u001b[2m\u001b[36m(ClientAppActor pid=2247181)\u001b[0m Epoch 77: Training accuracy: 84.58084106445312 Testing accuracy: 80.23951721191406.\u001b[32m [repeated 301x across cluster]\u001b[0m\n"
     ]
    },
    {
     "name": "stderr",
     "output_type": "stream",
     "text": [
      "\u001b[92mINFO \u001b[0m:      aggregate_fit: received 3 results and 0 failures\n",
      "\u001b[92mINFO \u001b[0m:      fit progress: (96, 0.04818227074363015, {'accuracy': tensor(81.1159, device='cuda:0')}, 513.186533648055)\n",
      "\u001b[92mINFO \u001b[0m:      configure_evaluate: strategy sampled 1 clients (out of 3)\n",
      "\u001b[92mINFO \u001b[0m:      aggregate_evaluate: received 1 results and 0 failures\n",
      "\u001b[92mINFO \u001b[0m:      \n",
      "\u001b[92mINFO \u001b[0m:      [ROUND 97]\n",
      "\u001b[92mINFO \u001b[0m:      configure_fit: strategy sampled 3 clients (out of 3)\n"
     ]
    },
    {
     "name": "stdout",
     "output_type": "stream",
     "text": [
      "Server-side evaluation loss 0.04818227074363015 / accuracy 81.11588287353516\n",
      "\u001b[2m\u001b[36m(ClientAppActor pid=2247181)\u001b[0m \u001b[32m [repeated 243x across cluster]\u001b[0m\n",
      "\u001b[2m\u001b[36m(ClientAppActor pid=2247181)\u001b[0m Epoch 37/100\u001b[32m [repeated 243x across cluster]\u001b[0m\n",
      "\u001b[2m\u001b[36m(ClientAppActor pid=2247181)\u001b[0m Epoch 43: Training accuracy: 83.81642150878906 Testing accuracy: 80.1932373046875.\u001b[32m [repeated 242x across cluster]\u001b[0m\n"
     ]
    },
    {
     "name": "stderr",
     "output_type": "stream",
     "text": [
      "\u001b[92mINFO \u001b[0m:      aggregate_fit: received 3 results and 0 failures\n",
      "\u001b[92mINFO \u001b[0m:      fit progress: (97, 0.048892638900063255, {'accuracy': tensor(79.9714, device='cuda:0')}, 518.5564706620062)\n",
      "\u001b[92mINFO \u001b[0m:      configure_evaluate: strategy sampled 1 clients (out of 3)\n",
      "\u001b[92mINFO \u001b[0m:      aggregate_evaluate: received 1 results and 0 failures\n",
      "\u001b[92mINFO \u001b[0m:      \n",
      "\u001b[92mINFO \u001b[0m:      [ROUND 98]\n",
      "\u001b[92mINFO \u001b[0m:      configure_fit: strategy sampled 3 clients (out of 3)\n"
     ]
    },
    {
     "name": "stdout",
     "output_type": "stream",
     "text": [
      "Server-side evaluation loss 0.048892638900063255 / accuracy 79.97138977050781\n",
      "\u001b[2m\u001b[36m(ClientAppActor pid=2247181)\u001b[0m \u001b[32m [repeated 278x across cluster]\u001b[0m\n",
      "\u001b[2m\u001b[36m(ClientAppActor pid=2247181)\u001b[0m Epoch 27/100\u001b[32m [repeated 278x across cluster]\u001b[0m\n",
      "\u001b[2m\u001b[36m(ClientAppActor pid=2247181)\u001b[0m Epoch 33: Training accuracy: 83.6956558227539 Testing accuracy: 79.71014404296875.\u001b[32m [repeated 277x across cluster]\u001b[0m\n"
     ]
    },
    {
     "name": "stderr",
     "output_type": "stream",
     "text": [
      "\u001b[92mINFO \u001b[0m:      aggregate_fit: received 3 results and 0 failures\n",
      "\u001b[92mINFO \u001b[0m:      fit progress: (98, 0.0495183142748746, {'accuracy': tensor(79.5422, device='cuda:0')}, 523.7812308570137)\n",
      "\u001b[92mINFO \u001b[0m:      configure_evaluate: strategy sampled 1 clients (out of 3)\n",
      "\u001b[92mINFO \u001b[0m:      aggregate_evaluate: received 1 results and 0 failures\n",
      "\u001b[92mINFO \u001b[0m:      \n",
      "\u001b[92mINFO \u001b[0m:      [ROUND 99]\n",
      "\u001b[92mINFO \u001b[0m:      configure_fit: strategy sampled 3 clients (out of 3)\n"
     ]
    },
    {
     "name": "stdout",
     "output_type": "stream",
     "text": [
      "Server-side evaluation loss 0.0495183142748746 / accuracy 79.54220581054688\n",
      "\u001b[2m\u001b[36m(ClientAppActor pid=2247181)\u001b[0m \u001b[32m [repeated 290x across cluster]\u001b[0m\n",
      "\u001b[2m\u001b[36m(ClientAppActor pid=2247181)\u001b[0m Epoch 22/100\u001b[32m [repeated 290x across cluster]\u001b[0m\n",
      "\u001b[2m\u001b[36m(ClientAppActor pid=2247181)\u001b[0m Epoch 28: Training accuracy: 84.66183471679688 Testing accuracy: 80.1932373046875.\u001b[32m [repeated 290x across cluster]\u001b[0m\n"
     ]
    },
    {
     "name": "stderr",
     "output_type": "stream",
     "text": [
      "\u001b[92mINFO \u001b[0m:      aggregate_fit: received 3 results and 0 failures\n",
      "\u001b[92mINFO \u001b[0m:      fit progress: (99, 0.04742355780168013, {'accuracy': tensor(81.4020, device='cuda:0')}, 529.071862689103)\n",
      "\u001b[92mINFO \u001b[0m:      configure_evaluate: strategy sampled 1 clients (out of 3)\n",
      "\u001b[92mINFO \u001b[0m:      aggregate_evaluate: received 1 results and 0 failures\n",
      "\u001b[92mINFO \u001b[0m:      \n",
      "\u001b[92mINFO \u001b[0m:      [ROUND 100]\n",
      "\u001b[92mINFO \u001b[0m:      configure_fit: strategy sampled 3 clients (out of 3)\n"
     ]
    },
    {
     "name": "stdout",
     "output_type": "stream",
     "text": [
      "Server-side evaluation loss 0.04742355780168013 / accuracy 81.4020004272461\n",
      "\u001b[2m\u001b[36m(ClientAppActor pid=2247181)\u001b[0m \u001b[32m [repeated 284x across cluster]\u001b[0m\n",
      "\u001b[2m\u001b[36m(ClientAppActor pid=2247181)\u001b[0m Epoch 15/100\u001b[32m [repeated 284x across cluster]\u001b[0m\n",
      "\u001b[2m\u001b[36m(ClientAppActor pid=2247181)\u001b[0m Epoch 21: Training accuracy: 84.4202880859375 Testing accuracy: 80.67633056640625.\u001b[32m [repeated 286x across cluster]\u001b[0m\n"
     ]
    },
    {
     "name": "stderr",
     "output_type": "stream",
     "text": [
      "\u001b[92mINFO \u001b[0m:      aggregate_fit: received 3 results and 0 failures\n",
      "\u001b[92mINFO \u001b[0m:      fit progress: (100, 0.05010454221205278, {'accuracy': tensor(78.8269, device='cuda:0')}, 534.4020945579978)\n",
      "\u001b[92mINFO \u001b[0m:      configure_evaluate: strategy sampled 1 clients (out of 3)\n",
      "\u001b[92mINFO \u001b[0m:      aggregate_evaluate: received 1 results and 0 failures\n",
      "\u001b[92mINFO \u001b[0m:      \n",
      "\u001b[92mINFO \u001b[0m:      [SUMMARY]\n",
      "\u001b[92mINFO \u001b[0m:      Run finished 100 rounds in 534.42s\n",
      "\u001b[92mINFO \u001b[0m:      History (loss, distributed):\n",
      "\u001b[92mINFO \u001b[0m:      \t('\\tround 1: 0.17297495901584625\\n'\n",
      "\u001b[92mINFO \u001b[0m:      \t '\\tround 2: 0.17255325615406036\\n'\n",
      "\u001b[92mINFO \u001b[0m:      \t '\\tround 3: 0.16429615020751953\\n'\n",
      "\u001b[92mINFO \u001b[0m:      \t '\\tround 4: 0.1523330956697464\\n'\n",
      "\u001b[92mINFO \u001b[0m:      \t '\\tround 5: 0.210383673508962\\n'\n",
      "\u001b[92mINFO \u001b[0m:      \t '\\tround 6: 0.2043804128964742\\n'\n",
      "\u001b[92mINFO \u001b[0m:      \t '\\tround 7: 0.19643574953079224\\n'\n",
      "\u001b[92mINFO \u001b[0m:      \t '\\tround 8: 0.18694663047790527\\n'\n",
      "\u001b[92mINFO \u001b[0m:      \t '\\tround 9: 0.13820795714855194\\n'\n",
      "\u001b[92mINFO \u001b[0m:      \t '\\tround 10: 0.12936344742774963\\n'\n",
      "\u001b[92mINFO \u001b[0m:      \t '\\tround 11: 0.19513404369354248\\n'\n",
      "\u001b[92mINFO \u001b[0m:      \t '\\tround 12: 0.17534462610880533\\n'\n",
      "\u001b[92mINFO \u001b[0m:      \t '\\tround 13: 0.13209600746631622\\n'\n",
      "\u001b[92mINFO \u001b[0m:      \t '\\tround 14: 0.12390889972448349\\n'\n",
      "\u001b[92mINFO \u001b[0m:      \t '\\tround 15: 0.13098172843456268\\n'\n",
      "\u001b[92mINFO \u001b[0m:      \t '\\tround 16: 0.19033960501352945\\n'\n",
      "\u001b[92mINFO \u001b[0m:      \t '\\tround 17: 0.14364449679851532\\n'\n",
      "\u001b[92mINFO \u001b[0m:      \t '\\tround 18: 0.11965397000312805\\n'\n",
      "\u001b[92mINFO \u001b[0m:      \t '\\tround 19: 0.16121153036753336\\n'\n",
      "\u001b[92mINFO \u001b[0m:      \t '\\tround 20: 0.16171281536420187\\n'\n",
      "\u001b[92mINFO \u001b[0m:      \t '\\tround 21: 0.18008655309677124\\n'\n",
      "\u001b[92mINFO \u001b[0m:      \t '\\tround 22: 0.13187085092067719\\n'\n",
      "\u001b[92mINFO \u001b[0m:      \t '\\tround 23: 0.17143766085306802\\n'\n",
      "\u001b[92mINFO \u001b[0m:      \t '\\tround 24: 0.1298520565032959\\n'\n",
      "\u001b[92mINFO \u001b[0m:      \t '\\tround 25: 0.18835779031117758\\n'\n",
      "\u001b[92mINFO \u001b[0m:      \t '\\tround 26: 0.19002938270568848\\n'\n",
      "\u001b[92mINFO \u001b[0m:      \t '\\tround 27: 0.1757481892903646\\n'\n",
      "\u001b[92mINFO \u001b[0m:      \t '\\tround 28: 0.15452271699905396\\n'\n",
      "\u001b[92mINFO \u001b[0m:      \t '\\tround 29: 0.13339710235595703\\n'\n",
      "\u001b[92mINFO \u001b[0m:      \t '\\tround 30: 0.17665386199951172\\n'\n",
      "\u001b[92mINFO \u001b[0m:      \t '\\tround 31: 0.16395209232966104\\n'\n",
      "\u001b[92mINFO \u001b[0m:      \t '\\tround 32: 0.18007699648539224\\n'\n",
      "\u001b[92mINFO \u001b[0m:      \t '\\tround 33: 0.17568357785542807\\n'\n",
      "\u001b[92mINFO \u001b[0m:      \t '\\tround 34: 0.11423264443874359\\n'\n",
      "\u001b[92mINFO \u001b[0m:      \t '\\tround 35: 0.17001813650131226\\n'\n",
      "\u001b[92mINFO \u001b[0m:      \t '\\tround 36: 0.1271071583032608\\n'\n",
      "\u001b[92mINFO \u001b[0m:      \t '\\tround 37: 0.13436050713062286\\n'\n",
      "\u001b[92mINFO \u001b[0m:      \t '\\tround 38: 0.14107175171375275\\n'\n",
      "\u001b[92mINFO \u001b[0m:      \t '\\tround 39: 0.12310285121202469\\n'\n",
      "\u001b[92mINFO \u001b[0m:      \t '\\tround 40: 0.1678299903869629\\n'\n",
      "\u001b[92mINFO \u001b[0m:      \t '\\tround 41: 0.11258885264396667\\n'\n",
      "\u001b[92mINFO \u001b[0m:      \t '\\tround 42: 0.18221739927927652\\n'\n",
      "\u001b[92mINFO \u001b[0m:      \t '\\tround 43: 0.14324335753917694\\n'\n",
      "\u001b[92mINFO \u001b[0m:      \t '\\tround 44: 0.17681159575780234\\n'\n",
      "\u001b[92mINFO \u001b[0m:      \t '\\tround 45: 0.1673132379849752\\n'\n",
      "\u001b[92mINFO \u001b[0m:      \t '\\tround 46: 0.11459863185882568\\n'\n",
      "\u001b[92mINFO \u001b[0m:      \t '\\tround 47: 0.16947458187739053\\n'\n",
      "\u001b[92mINFO \u001b[0m:      \t '\\tround 48: 0.163327823082606\\n'\n",
      "\u001b[92mINFO \u001b[0m:      \t '\\tround 49: 0.19050117333730063\\n'\n",
      "\u001b[92mINFO \u001b[0m:      \t '\\tround 50: 0.1630082627137502\\n'\n",
      "\u001b[92mINFO \u001b[0m:      \t '\\tround 51: 0.19061996539433798\\n'\n",
      "\u001b[92mINFO \u001b[0m:      \t '\\tround 52: 0.16366815567016602\\n'\n",
      "\u001b[92mINFO \u001b[0m:      \t '\\tround 53: 0.1894861857096354\\n'\n",
      "\u001b[92mINFO \u001b[0m:      \t '\\tround 54: 0.16457690795262656\\n'\n",
      "\u001b[92mINFO \u001b[0m:      \t '\\tround 55: 0.13781334459781647\\n'\n",
      "\u001b[92mINFO \u001b[0m:      \t '\\tround 56: 0.17141844828923544\\n'\n",
      "\u001b[92mINFO \u001b[0m:      \t '\\tround 57: 0.1707684596379598\\n'\n",
      "\u001b[92mINFO \u001b[0m:      \t '\\tround 58: 0.1702488660812378\\n'\n",
      "\u001b[92mINFO \u001b[0m:      \t '\\tround 59: 0.17503871520360312\\n'\n",
      "\u001b[92mINFO \u001b[0m:      \t '\\tround 60: 0.17701629797617593\\n'\n",
      "\u001b[92mINFO \u001b[0m:      \t '\\tround 61: 0.11917969584465027\\n'\n",
      "\u001b[92mINFO \u001b[0m:      \t '\\tround 62: 0.18769154946009317\\n'\n",
      "\u001b[92mINFO \u001b[0m:      \t '\\tround 63: 0.176800270875295\\n'\n",
      "\u001b[92mINFO \u001b[0m:      \t '\\tround 64: 0.16109750668207803\\n'\n",
      "\u001b[92mINFO \u001b[0m:      \t '\\tround 65: 0.1747352878252665\\n'\n",
      "\u001b[92mINFO \u001b[0m:      \t '\\tround 66: 0.17655481894810995\\n'\n",
      "\u001b[92mINFO \u001b[0m:      \t '\\tround 67: 0.1626198093096415\\n'\n",
      "\u001b[92mINFO \u001b[0m:      \t '\\tround 68: 0.12246017903089523\\n'\n",
      "\u001b[92mINFO \u001b[0m:      \t '\\tround 69: 0.12609794735908508\\n'\n",
      "\u001b[92mINFO \u001b[0m:      \t '\\tround 70: 0.12515844404697418\\n'\n",
      "\u001b[92mINFO \u001b[0m:      \t '\\tround 71: 0.1805115540822347\\n'\n",
      "\u001b[92mINFO \u001b[0m:      \t '\\tround 72: 0.15171241760253906\\n'\n",
      "\u001b[92mINFO \u001b[0m:      \t '\\tround 73: 0.17172956466674805\\n'\n",
      "\u001b[92mINFO \u001b[0m:      \t '\\tround 74: 0.18426676591237387\\n'\n",
      "\u001b[92mINFO \u001b[0m:      \t '\\tround 75: 0.1254836916923523\\n'\n",
      "\u001b[92mINFO \u001b[0m:      \t '\\tround 76: 0.13335442543029785\\n'\n",
      "\u001b[92mINFO \u001b[0m:      \t '\\tround 77: 0.1326521635055542\\n'\n",
      "\u001b[92mINFO \u001b[0m:      \t '\\tround 78: 0.1218678206205368\\n'\n",
      "\u001b[92mINFO \u001b[0m:      \t '\\tround 79: 0.12845870852470398\\n'\n",
      "\u001b[92mINFO \u001b[0m:      \t '\\tround 80: 0.19113745292027792\\n'\n",
      "\u001b[92mINFO \u001b[0m:      \t '\\tround 81: 0.16304218769073486\\n'\n",
      "\u001b[92mINFO \u001b[0m:      \t '\\tround 82: 0.1637045443058014\\n'\n",
      "\u001b[92mINFO \u001b[0m:      \t '\\tround 83: 0.12330128252506256\\n'\n",
      "\u001b[92mINFO \u001b[0m:      \t '\\tround 84: 0.12060486525297165\\n'\n",
      "\u001b[92mINFO \u001b[0m:      \t '\\tround 85: 0.19386806090672812\\n'\n",
      "\u001b[92mINFO \u001b[0m:      \t '\\tround 86: 0.1345154196023941\\n'\n",
      "\u001b[92mINFO \u001b[0m:      \t '\\tround 87: 0.17165456215540567\\n'\n",
      "\u001b[92mINFO \u001b[0m:      \t '\\tround 88: 0.1319902241230011\\n'\n",
      "\u001b[92mINFO \u001b[0m:      \t '\\tround 89: 0.20163238048553467\\n'\n",
      "\u001b[92mINFO \u001b[0m:      \t '\\tround 90: 0.17476975917816162\\n'\n",
      "\u001b[92mINFO \u001b[0m:      \t '\\tround 91: 0.17591001590092978\\n'\n",
      "\u001b[92mINFO \u001b[0m:      \t '\\tround 92: 0.191934863726298\\n'\n",
      "\u001b[92mINFO \u001b[0m:      \t '\\tround 93: 0.14073976874351501\\n'\n",
      "\u001b[92mINFO \u001b[0m:      \t '\\tround 94: 0.1329922080039978\\n'\n",
      "\u001b[92mINFO \u001b[0m:      \t '\\tround 95: 0.19117993116378784\\n'\n",
      "\u001b[92mINFO \u001b[0m:      \t '\\tround 96: 0.15363664428393045\\n'\n",
      "\u001b[92mINFO \u001b[0m:      \t '\\tround 97: 0.17001555363337198\\n'\n",
      "\u001b[92mINFO \u001b[0m:      \t '\\tround 98: 0.16803898413976034\\n'\n",
      "\u001b[92mINFO \u001b[0m:      \t '\\tround 99: 0.17006089289983115\\n'\n",
      "\u001b[92mINFO \u001b[0m:      \t '\\tround 100: 0.14865781863530478\\n')History (loss, centralized):\n",
      "\u001b[92mINFO \u001b[0m:      \t('\\tround 0: 0.06810850446874445\\n'\n",
      "\u001b[92mINFO \u001b[0m:      \t '\\tround 1: 0.06300483508543535\\n'\n",
      "\u001b[92mINFO \u001b[0m:      \t '\\tround 2: 0.06273838064887306\\n'\n",
      "\u001b[92mINFO \u001b[0m:      \t '\\tround 3: 0.06055519797585227\\n'\n",
      "\u001b[92mINFO \u001b[0m:      \t '\\tround 4: 0.05668346990238537\\n'\n",
      "\u001b[92mINFO \u001b[0m:      \t '\\tround 5: 0.05542629957199097\\n'\n",
      "\u001b[92mINFO \u001b[0m:      \t '\\tround 6: 0.05449001897465099\\n'\n",
      "\u001b[92mINFO \u001b[0m:      \t '\\tround 7: 0.053756773471832275\\n'\n",
      "\u001b[92mINFO \u001b[0m:      \t '\\tround 8: 0.05335597558455034\\n'\n",
      "\u001b[92mINFO \u001b[0m:      \t '\\tround 9: 0.053221957250074906\\n'\n",
      "\u001b[92mINFO \u001b[0m:      \t '\\tround 10: 0.05321722680872137\\n'\n",
      "\u001b[92mINFO \u001b[0m:      \t '\\tround 11: 0.05435281991958618\\n'\n",
      "\u001b[92mINFO \u001b[0m:      \t '\\tround 12: 0.05357713049108332\\n'\n",
      "\u001b[92mINFO \u001b[0m:      \t '\\tround 13: 0.05446691404689442\\n'\n",
      "\u001b[92mINFO \u001b[0m:      \t '\\tround 14: 0.0532611066644842\\n'\n",
      "\u001b[92mINFO \u001b[0m:      \t '\\tround 15: 0.05310886014591564\\n'\n",
      "\u001b[92mINFO \u001b[0m:      \t '\\tround 16: 0.05291092937642878\\n'\n",
      "\u001b[92mINFO \u001b[0m:      \t '\\tround 17: 0.0529062802141363\\n'\n",
      "\u001b[92mINFO \u001b[0m:      \t '\\tround 18: 0.05287776751951738\\n'\n",
      "\u001b[92mINFO \u001b[0m:      \t '\\tround 19: 0.053005673668601296\\n'\n",
      "\u001b[92mINFO \u001b[0m:      \t '\\tround 20: 0.052542556415904655\\n'\n",
      "\u001b[92mINFO \u001b[0m:      \t '\\tround 21: 0.05295896530151367\\n'\n",
      "\u001b[92mINFO \u001b[0m:      \t '\\tround 22: 0.05328269438310103\\n'\n",
      "\u001b[92mINFO \u001b[0m:      \t '\\tround 23: 0.05244049700823697\\n'\n",
      "\u001b[92mINFO \u001b[0m:      \t '\\tround 24: 0.05232774669473821\\n'\n",
      "\u001b[92mINFO \u001b[0m:      \t '\\tround 25: 0.05348713831468062\\n'\n",
      "\u001b[92mINFO \u001b[0m:      \t '\\tround 26: 0.053021284666928375\\n'\n",
      "\u001b[92mINFO \u001b[0m:      \t '\\tround 27: 0.05257036469199441\\n'\n",
      "\u001b[92mINFO \u001b[0m:      \t '\\tround 28: 0.051714187318628486\\n'\n",
      "\u001b[92mINFO \u001b[0m:      \t '\\tround 29: 0.053270697593688965\\n'\n",
      "\u001b[92mINFO \u001b[0m:      \t '\\tround 30: 0.051842250607230446\\n'\n",
      "\u001b[92mINFO \u001b[0m:      \t '\\tround 31: 0.05207496339624578\\n'\n",
      "\u001b[92mINFO \u001b[0m:      \t '\\tround 32: 0.051354792985049164\\n'\n",
      "\u001b[92mINFO \u001b[0m:      \t '\\tround 33: 0.05268219384280118\\n'\n",
      "\u001b[92mINFO \u001b[0m:      \t '\\tround 34: 0.05129907347939231\\n'\n",
      "\u001b[92mINFO \u001b[0m:      \t '\\tround 35: 0.051199712536551735\\n'\n",
      "\u001b[92mINFO \u001b[0m:      \t '\\tround 36: 0.051011388952081856\\n'\n",
      "\u001b[92mINFO \u001b[0m:      \t '\\tround 37: 0.05139121142300693\\n'\n",
      "\u001b[92mINFO \u001b[0m:      \t '\\tround 38: 0.050030545754866165\\n'\n",
      "\u001b[92mINFO \u001b[0m:      \t '\\tround 39: 0.049562053246931595\\n'\n",
      "\u001b[92mINFO \u001b[0m:      \t '\\tround 40: 0.04939661242745139\\n'\n",
      "\u001b[92mINFO \u001b[0m:      \t '\\tround 41: 0.04893537543036721\\n'\n",
      "\u001b[92mINFO \u001b[0m:      \t '\\tround 42: 0.04837510802529075\\n'\n",
      "\u001b[92mINFO \u001b[0m:      \t '\\tround 43: 0.04843643036755649\\n'\n",
      "\u001b[92mINFO \u001b[0m:      \t '\\tround 44: 0.04823777892372825\\n'\n",
      "\u001b[92mINFO \u001b[0m:      \t '\\tround 45: 0.04809260368347168\\n'\n",
      "\u001b[92mINFO \u001b[0m:      \t '\\tround 46: 0.047542035579681396\\n'\n",
      "\u001b[92mINFO \u001b[0m:      \t '\\tround 47: 0.04894620721990412\\n'\n",
      "\u001b[92mINFO \u001b[0m:      \t '\\tround 48: 0.04718183929269964\\n'\n",
      "\u001b[92mINFO \u001b[0m:      \t '\\tround 49: 0.047321975231170654\\n'\n",
      "\u001b[92mINFO \u001b[0m:      \t '\\tround 50: 0.047835252501747826\\n'\n",
      "\u001b[92mINFO \u001b[0m:      \t '\\tround 51: 0.04758195985447277\\n'\n",
      "\u001b[92mINFO \u001b[0m:      \t '\\tround 52: 0.04725941202857278\\n'\n",
      "\u001b[92mINFO \u001b[0m:      \t '\\tround 53: 0.04704109105196866\\n'\n",
      "\u001b[92mINFO \u001b[0m:      \t '\\tround 54: 0.048061500896107064\\n'\n",
      "\u001b[92mINFO \u001b[0m:      \t '\\tround 55: 0.04808457331223921\\n'\n",
      "\u001b[92mINFO \u001b[0m:      \t '\\tround 56: 0.048026529225436126\\n'\n",
      "\u001b[92mINFO \u001b[0m:      \t '\\tround 57: 0.04793619025837292\\n'\n",
      "\u001b[92mINFO \u001b[0m:      \t '\\tround 58: 0.047941489653153854\\n'\n",
      "\u001b[92mINFO \u001b[0m:      \t '\\tround 59: 0.04830285635861484\\n'\n",
      "\u001b[92mINFO \u001b[0m:      \t '\\tround 60: 0.04744402386925437\\n'\n",
      "\u001b[92mINFO \u001b[0m:      \t '\\tround 61: 0.04746596379713579\\n'\n",
      "\u001b[92mINFO \u001b[0m:      \t '\\tround 62: 0.04734415357763117\\n'\n",
      "\u001b[92mINFO \u001b[0m:      \t '\\tround 63: 0.04757078669287942\\n'\n",
      "\u001b[92mINFO \u001b[0m:      \t '\\tround 64: 0.04808056354522705\\n'\n",
      "\u001b[92mINFO \u001b[0m:      \t '\\tround 65: 0.04786057363856922\\n'\n",
      "\u001b[92mINFO \u001b[0m:      \t '\\tround 66: 0.04740353605963967\\n'\n",
      "\u001b[92mINFO \u001b[0m:      \t '\\tround 67: 0.047349935228174385\\n'\n",
      "\u001b[92mINFO \u001b[0m:      \t '\\tround 68: 0.0488682822747664\\n'\n",
      "\u001b[92mINFO \u001b[0m:      \t '\\tround 69: 0.048306638544256035\\n'\n",
      "\u001b[92mINFO \u001b[0m:      \t '\\tround 70: 0.04811398007652976\\n'\n",
      "\u001b[92mINFO \u001b[0m:      \t '\\tround 71: 0.047550336881117386\\n'\n",
      "\u001b[92mINFO \u001b[0m:      \t '\\tround 72: 0.047821640968322754\\n'\n",
      "\u001b[92mINFO \u001b[0m:      \t '\\tround 73: 0.05136356028643521\\n'\n",
      "\u001b[92mINFO \u001b[0m:      \t '\\tround 74: 0.0479314923286438\\n'\n",
      "\u001b[92mINFO \u001b[0m:      \t '\\tround 75: 0.047858476638793945\\n'\n",
      "\u001b[92mINFO \u001b[0m:      \t '\\tround 76: 0.047832066362554375\\n'\n",
      "\u001b[92mINFO \u001b[0m:      \t '\\tround 77: 0.047539440068331634\\n'\n",
      "\u001b[92mINFO \u001b[0m:      \t '\\tround 78: 0.051096200942993164\\n'\n",
      "\u001b[92mINFO \u001b[0m:      \t '\\tround 79: 0.04856571284207431\\n'\n",
      "\u001b[92mINFO \u001b[0m:      \t '\\tround 80: 0.04847264831716364\\n'\n",
      "\u001b[92mINFO \u001b[0m:      \t '\\tround 81: 0.04967753453688188\\n'\n",
      "\u001b[92mINFO \u001b[0m:      \t '\\tround 82: 0.04781917008486661\\n'\n",
      "\u001b[92mINFO \u001b[0m:      \t '\\tround 83: 0.050265355543656784\\n'\n",
      "\u001b[92mINFO \u001b[0m:      \t '\\tround 84: 0.04945628209547563\\n'\n",
      "\u001b[92mINFO \u001b[0m:      \t '\\tround 85: 0.04807276075536555\\n'\n",
      "\u001b[92mINFO \u001b[0m:      \t '\\tround 86: 0.04967635328119451\\n'\n",
      "\u001b[92mINFO \u001b[0m:      \t '\\tround 87: 0.048403566533868965\\n'\n",
      "\u001b[92mINFO \u001b[0m:      \t '\\tround 88: 0.05025955221869729\\n'\n",
      "\u001b[92mINFO \u001b[0m:      \t '\\tround 89: 0.04948101802305742\\n'\n",
      "\u001b[92mINFO \u001b[0m:      \t '\\tround 90: 0.048082172870635986\\n'\n",
      "\u001b[92mINFO \u001b[0m:      \t '\\tround 91: 0.049935671416195954\\n'\n",
      "\u001b[92mINFO \u001b[0m:      \t '\\tround 92: 0.05087509480389682\\n'\n",
      "\u001b[92mINFO \u001b[0m:      \t '\\tround 93: 0.050437564199621025\\n'\n",
      "\u001b[92mINFO \u001b[0m:      \t '\\tround 94: 0.05076543851332231\\n'\n",
      "\u001b[92mINFO \u001b[0m:      \t '\\tround 95: 0.050733409144661644\\n'\n",
      "\u001b[92mINFO \u001b[0m:      \t '\\tround 96: 0.04818227074363015\\n'\n",
      "\u001b[92mINFO \u001b[0m:      \t '\\tround 97: 0.048892638900063255\\n'\n",
      "\u001b[92mINFO \u001b[0m:      \t '\\tround 98: 0.0495183142748746\\n'\n",
      "\u001b[92mINFO \u001b[0m:      \t '\\tround 99: 0.04742355780168013\\n'\n",
      "\u001b[92mINFO \u001b[0m:      \t '\\tround 100: 0.05010454221205278\\n')History (metrics, distributed, evaluate):\n",
      "\u001b[92mINFO \u001b[0m:      \t{'accuracy': [(1, 47.342994689941406),\n",
      "\u001b[92mINFO \u001b[0m:      \t              (2, 60.869564056396484),\n",
      "\u001b[92mINFO \u001b[0m:      \t              (3, 76.32849884033203),\n",
      "\u001b[92mINFO \u001b[0m:      \t              (4, 74.87922668457031),\n",
      "\u001b[92mINFO \u001b[0m:      \t              (5, 65.26946258544922),\n",
      "\u001b[92mINFO \u001b[0m:      \t              (6, 68.86227416992188),\n",
      "\u001b[92mINFO \u001b[0m:      \t              (7, 73.05389404296875),\n",
      "\u001b[92mINFO \u001b[0m:      \t              (8, 77.84431457519531),\n",
      "\u001b[92mINFO \u001b[0m:      \t              (9, 76.81159210205078),\n",
      "\u001b[92mINFO \u001b[0m:      \t              (10, 75.36231994628906),\n",
      "\u001b[92mINFO \u001b[0m:      \t              (11, 70.65868377685547),\n",
      "\u001b[92mINFO \u001b[0m:      \t              (12, 76.33135986328125),\n",
      "\u001b[92mINFO \u001b[0m:      \t              (13, 72.94686126708984),\n",
      "\u001b[92mINFO \u001b[0m:      \t              (14, 75.36231994628906),\n",
      "\u001b[92mINFO \u001b[0m:      \t              (15, 76.32849884033203),\n",
      "\u001b[92mINFO \u001b[0m:      \t              (16, 80.47337341308594),\n",
      "\u001b[92mINFO \u001b[0m:      \t              (17, 76.81159210205078),\n",
      "\u001b[92mINFO \u001b[0m:      \t              (18, 77.29468536376953),\n",
      "\u001b[92mINFO \u001b[0m:      \t              (19, 79.64071655273438),\n",
      "\u001b[92mINFO \u001b[0m:      \t              (20, 80.47337341308594),\n",
      "\u001b[92mINFO \u001b[0m:      \t              (21, 79.04191589355469),\n",
      "\u001b[92mINFO \u001b[0m:      \t              (22, 74.39613342285156),\n",
      "\u001b[92mINFO \u001b[0m:      \t              (23, 79.2899398803711),\n",
      "\u001b[92mINFO \u001b[0m:      \t              (24, 76.81159210205078),\n",
      "\u001b[92mINFO \u001b[0m:      \t              (25, 74.55621337890625),\n",
      "\u001b[92mINFO \u001b[0m:      \t              (26, 77.2455062866211),\n",
      "\u001b[92mINFO \u001b[0m:      \t              (27, 80.23951721191406),\n",
      "\u001b[92mINFO \u001b[0m:      \t              (28, 81.65680694580078),\n",
      "\u001b[92mINFO \u001b[0m:      \t              (29, 74.39613342285156),\n",
      "\u001b[92mINFO \u001b[0m:      \t              (30, 79.04191589355469),\n",
      "\u001b[92mINFO \u001b[0m:      \t              (31, 77.5147933959961),\n",
      "\u001b[92mINFO \u001b[0m:      \t              (32, 79.88166046142578),\n",
      "\u001b[92mINFO \u001b[0m:      \t              (33, 77.84431457519531),\n",
      "\u001b[92mINFO \u001b[0m:      \t              (34, 77.29468536376953),\n",
      "\u001b[92mINFO \u001b[0m:      \t              (35, 79.64071655273438),\n",
      "\u001b[92mINFO \u001b[0m:      \t              (36, 77.77777862548828),\n",
      "\u001b[92mINFO \u001b[0m:      \t              (37, 76.81159210205078),\n",
      "\u001b[92mINFO \u001b[0m:      \t              (38, 78.26087188720703),\n",
      "\u001b[92mINFO \u001b[0m:      \t              (39, 79.22705078125),\n",
      "\u001b[92mINFO \u001b[0m:      \t              (40, 80.83832550048828),\n",
      "\u001b[92mINFO \u001b[0m:      \t              (41, 78.26087188720703),\n",
      "\u001b[92mINFO \u001b[0m:      \t              (42, 80.23951721191406),\n",
      "\u001b[92mINFO \u001b[0m:      \t              (43, 77.77777862548828),\n",
      "\u001b[92mINFO \u001b[0m:      \t              (44, 77.84431457519531),\n",
      "\u001b[92mINFO \u001b[0m:      \t              (45, 78.10650634765625),\n",
      "\u001b[92mINFO \u001b[0m:      \t              (46, 79.71014404296875),\n",
      "\u001b[92mINFO \u001b[0m:      \t              (47, 77.5147933959961),\n",
      "\u001b[92mINFO \u001b[0m:      \t              (48, 79.04191589355469),\n",
      "\u001b[92mINFO \u001b[0m:      \t              (49, 77.84431457519531),\n",
      "\u001b[92mINFO \u001b[0m:      \t              (50, 78.10650634765625),\n",
      "\u001b[92mINFO \u001b[0m:      \t              (51, 79.04191589355469),\n",
      "\u001b[92mINFO \u001b[0m:      \t              (52, 82.24851989746094),\n",
      "\u001b[92mINFO \u001b[0m:      \t              (53, 79.04191589355469),\n",
      "\u001b[92mINFO \u001b[0m:      \t              (54, 81.0650863647461),\n",
      "\u001b[92mINFO \u001b[0m:      \t              (55, 78.26087188720703),\n",
      "\u001b[92mINFO \u001b[0m:      \t              (56, 77.2455062866211),\n",
      "\u001b[92mINFO \u001b[0m:      \t              (57, 81.65680694580078),\n",
      "\u001b[92mINFO \u001b[0m:      \t              (58, 81.0650863647461),\n",
      "\u001b[92mINFO \u001b[0m:      \t              (59, 76.04790496826172),\n",
      "\u001b[92mINFO \u001b[0m:      \t              (60, 79.64071655273438),\n",
      "\u001b[92mINFO \u001b[0m:      \t              (61, 78.26087188720703),\n",
      "\u001b[92mINFO \u001b[0m:      \t              (62, 82.24851989746094),\n",
      "\u001b[92mINFO \u001b[0m:      \t              (63, 79.64071655273438),\n",
      "\u001b[92mINFO \u001b[0m:      \t              (64, 77.2455062866211),\n",
      "\u001b[92mINFO \u001b[0m:      \t              (65, 77.84431457519531),\n",
      "\u001b[92mINFO \u001b[0m:      \t              (66, 82.24851989746094),\n",
      "\u001b[92mINFO \u001b[0m:      \t              (67, 79.04191589355469),\n",
      "\u001b[92mINFO \u001b[0m:      \t              (68, 77.77777862548828),\n",
      "\u001b[92mINFO \u001b[0m:      \t              (69, 78.26087188720703),\n",
      "\u001b[92mINFO \u001b[0m:      \t              (70, 79.22705078125),\n",
      "\u001b[92mINFO \u001b[0m:      \t              (71, 79.64071655273438),\n",
      "\u001b[92mINFO \u001b[0m:      \t              (72, 82.84024047851562),\n",
      "\u001b[92mINFO \u001b[0m:      \t              (73, 80.47337341308594),\n",
      "\u001b[92mINFO \u001b[0m:      \t              (74, 82.84024047851562),\n",
      "\u001b[92mINFO \u001b[0m:      \t              (75, 78.26087188720703),\n",
      "\u001b[92mINFO \u001b[0m:      \t              (76, 78.26087188720703),\n",
      "\u001b[92mINFO \u001b[0m:      \t              (77, 80.1932373046875),\n",
      "\u001b[92mINFO \u001b[0m:      \t              (78, 75.84541320800781),\n",
      "\u001b[92mINFO \u001b[0m:      \t              (79, 78.74396514892578),\n",
      "\u001b[92mINFO \u001b[0m:      \t              (80, 77.2455062866211),\n",
      "\u001b[92mINFO \u001b[0m:      \t              (81, 81.65680694580078),\n",
      "\u001b[92mINFO \u001b[0m:      \t              (82, 83.43195343017578),\n",
      "\u001b[92mINFO \u001b[0m:      \t              (83, 77.29468536376953),\n",
      "\u001b[92mINFO \u001b[0m:      \t              (84, 77.77777862548828),\n",
      "\u001b[92mINFO \u001b[0m:      \t              (85, 83.43195343017578),\n",
      "\u001b[92mINFO \u001b[0m:      \t              (86, 77.29468536376953),\n",
      "\u001b[92mINFO \u001b[0m:      \t              (87, 84.02366638183594),\n",
      "\u001b[92mINFO \u001b[0m:      \t              (88, 78.26087188720703),\n",
      "\u001b[92mINFO \u001b[0m:      \t              (89, 78.443115234375),\n",
      "\u001b[92mINFO \u001b[0m:      \t              (90, 84.02366638183594),\n",
      "\u001b[92mINFO \u001b[0m:      \t              (91, 77.84431457519531),\n",
      "\u001b[92mINFO \u001b[0m:      \t              (92, 76.6467056274414),\n",
      "\u001b[92mINFO \u001b[0m:      \t              (93, 77.77777862548828),\n",
      "\u001b[92mINFO \u001b[0m:      \t              (94, 77.29468536376953),\n",
      "\u001b[92mINFO \u001b[0m:      \t              (95, 75.44910430908203),\n",
      "\u001b[92mINFO \u001b[0m:      \t              (96, 84.61538696289062),\n",
      "\u001b[92mINFO \u001b[0m:      \t              (97, 79.64071655273438),\n",
      "\u001b[92mINFO \u001b[0m:      \t              (98, 82.84024047851562),\n",
      "\u001b[92mINFO \u001b[0m:      \t              (99, 85.20709991455078),\n",
      "\u001b[92mINFO \u001b[0m:      \t              (100, 82.84024047851562)]}History (metrics, centralized):\n",
      "\u001b[92mINFO \u001b[0m:      \t{'accuracy': [(0, tensor(51.5021, device='cuda:0')),\n",
      "\u001b[92mINFO \u001b[0m:      \t              (1, tensor(48.4979, device='cuda:0')),\n",
      "\u001b[92mINFO \u001b[0m:      \t              (2, tensor(64.3777, device='cuda:0')),\n",
      "\u001b[92mINFO \u001b[0m:      \t              (3, tensor(76.2518, device='cuda:0')),\n",
      "\u001b[92mINFO \u001b[0m:      \t              (4, tensor(75.9657, device='cuda:0')),\n",
      "\u001b[92mINFO \u001b[0m:      \t              (5, tensor(74.9642, device='cuda:0')),\n",
      "\u001b[92mINFO \u001b[0m:      \t              (6, tensor(76.1087, device='cuda:0')),\n",
      "\u001b[92mINFO \u001b[0m:      \t              (7, tensor(75.5365, device='cuda:0')),\n",
      "\u001b[92mINFO \u001b[0m:      \t              (8, tensor(77.5393, device='cuda:0')),\n",
      "\u001b[92mINFO \u001b[0m:      \t              (9, tensor(78.3977, device='cuda:0')),\n",
      "\u001b[92mINFO \u001b[0m:      \t              (10, tensor(77.9685, device='cuda:0')),\n",
      "\u001b[92mINFO \u001b[0m:      \t              (11, tensor(75.9657, device='cuda:0')),\n",
      "\u001b[92mINFO \u001b[0m:      \t              (12, tensor(76.9671, device='cuda:0')),\n",
      "\u001b[92mINFO \u001b[0m:      \t              (13, tensor(75.8226, device='cuda:0')),\n",
      "\u001b[92mINFO \u001b[0m:      \t              (14, tensor(77.5393, device='cuda:0')),\n",
      "\u001b[92mINFO \u001b[0m:      \t              (15, tensor(78.2546, device='cuda:0')),\n",
      "\u001b[92mINFO \u001b[0m:      \t              (16, tensor(78.2546, device='cuda:0')),\n",
      "\u001b[92mINFO \u001b[0m:      \t              (17, tensor(78.2546, device='cuda:0')),\n",
      "\u001b[92mINFO \u001b[0m:      \t              (18, tensor(78.3977, device='cuda:0')),\n",
      "\u001b[92mINFO \u001b[0m:      \t              (19, tensor(77.9685, device='cuda:0')),\n",
      "\u001b[92mINFO \u001b[0m:      \t              (20, tensor(79.1130, device='cuda:0')),\n",
      "\u001b[92mINFO \u001b[0m:      \t              (21, tensor(78.2546, device='cuda:0')),\n",
      "\u001b[92mINFO \u001b[0m:      \t              (22, tensor(77.8255, device='cuda:0')),\n",
      "\u001b[92mINFO \u001b[0m:      \t              (23, tensor(78.9700, device='cuda:0')),\n",
      "\u001b[92mINFO \u001b[0m:      \t              (24, tensor(78.9700, device='cuda:0')),\n",
      "\u001b[92mINFO \u001b[0m:      \t              (25, tensor(77.3963, device='cuda:0')),\n",
      "\u001b[92mINFO \u001b[0m:      \t              (26, tensor(78.2546, device='cuda:0')),\n",
      "\u001b[92mINFO \u001b[0m:      \t              (27, tensor(78.5408, device='cuda:0')),\n",
      "\u001b[92mINFO \u001b[0m:      \t              (28, tensor(78.6838, device='cuda:0')),\n",
      "\u001b[92mINFO \u001b[0m:      \t              (29, tensor(77.3963, device='cuda:0')),\n",
      "\u001b[92mINFO \u001b[0m:      \t              (30, tensor(77.2532, device='cuda:0')),\n",
      "\u001b[92mINFO \u001b[0m:      \t              (31, tensor(78.8269, device='cuda:0')),\n",
      "\u001b[92mINFO \u001b[0m:      \t              (32, tensor(78.9700, device='cuda:0')),\n",
      "\u001b[92mINFO \u001b[0m:      \t              (33, tensor(77.6824, device='cuda:0')),\n",
      "\u001b[92mINFO \u001b[0m:      \t              (34, tensor(79.1130, device='cuda:0')),\n",
      "\u001b[92mINFO \u001b[0m:      \t              (35, tensor(79.2561, device='cuda:0')),\n",
      "\u001b[92mINFO \u001b[0m:      \t              (36, tensor(79.2561, device='cuda:0')),\n",
      "\u001b[92mINFO \u001b[0m:      \t              (37, tensor(78.6838, device='cuda:0')),\n",
      "\u001b[92mINFO \u001b[0m:      \t              (38, tensor(79.3991, device='cuda:0')),\n",
      "\u001b[92mINFO \u001b[0m:      \t              (39, tensor(79.3991, device='cuda:0')),\n",
      "\u001b[92mINFO \u001b[0m:      \t              (40, tensor(79.3991, device='cuda:0')),\n",
      "\u001b[92mINFO \u001b[0m:      \t              (41, tensor(79.3991, device='cuda:0')),\n",
      "\u001b[92mINFO \u001b[0m:      \t              (42, tensor(79.5422, device='cuda:0')),\n",
      "\u001b[92mINFO \u001b[0m:      \t              (43, tensor(79.1130, device='cuda:0')),\n",
      "\u001b[92mINFO \u001b[0m:      \t              (44, tensor(79.3991, device='cuda:0')),\n",
      "\u001b[92mINFO \u001b[0m:      \t              (45, tensor(78.9700, device='cuda:0')),\n",
      "\u001b[92mINFO \u001b[0m:      \t              (46, tensor(80.5436, device='cuda:0')),\n",
      "\u001b[92mINFO \u001b[0m:      \t              (47, tensor(77.9685, device='cuda:0')),\n",
      "\u001b[92mINFO \u001b[0m:      \t              (48, tensor(79.6853, device='cuda:0')),\n",
      "\u001b[92mINFO \u001b[0m:      \t              (49, tensor(80.4006, device='cuda:0')),\n",
      "\u001b[92mINFO \u001b[0m:      \t              (50, tensor(78.5408, device='cuda:0')),\n",
      "\u001b[92mINFO \u001b[0m:      \t              (51, tensor(79.2561, device='cuda:0')),\n",
      "\u001b[92mINFO \u001b[0m:      \t              (52, tensor(79.3991, device='cuda:0')),\n",
      "\u001b[92mINFO \u001b[0m:      \t              (53, tensor(79.6853, device='cuda:0')),\n",
      "\u001b[92mINFO \u001b[0m:      \t              (54, tensor(78.6838, device='cuda:0')),\n",
      "\u001b[92mINFO \u001b[0m:      \t              (55, tensor(78.8269, device='cuda:0')),\n",
      "\u001b[92mINFO \u001b[0m:      \t              (56, tensor(79.2561, device='cuda:0')),\n",
      "\u001b[92mINFO \u001b[0m:      \t              (57, tensor(79.2561, device='cuda:0')),\n",
      "\u001b[92mINFO \u001b[0m:      \t              (58, tensor(79.5422, device='cuda:0')),\n",
      "\u001b[92mINFO \u001b[0m:      \t              (59, tensor(79.5422, device='cuda:0')),\n",
      "\u001b[92mINFO \u001b[0m:      \t              (60, tensor(79.3991, device='cuda:0')),\n",
      "\u001b[92mINFO \u001b[0m:      \t              (61, tensor(79.3991, device='cuda:0')),\n",
      "\u001b[92mINFO \u001b[0m:      \t              (62, tensor(79.3991, device='cuda:0')),\n",
      "\u001b[92mINFO \u001b[0m:      \t              (63, tensor(79.3991, device='cuda:0')),\n",
      "\u001b[92mINFO \u001b[0m:      \t              (64, tensor(79.5422, device='cuda:0')),\n",
      "\u001b[92mINFO \u001b[0m:      \t              (65, tensor(79.2561, device='cuda:0')),\n",
      "\u001b[92mINFO \u001b[0m:      \t              (66, tensor(79.8283, device='cuda:0')),\n",
      "\u001b[92mINFO \u001b[0m:      \t              (67, tensor(79.8283, device='cuda:0')),\n",
      "\u001b[92mINFO \u001b[0m:      \t              (68, tensor(79.2561, device='cuda:0')),\n",
      "\u001b[92mINFO \u001b[0m:      \t              (69, tensor(79.2561, device='cuda:0')),\n",
      "\u001b[92mINFO \u001b[0m:      \t              (70, tensor(79.6853, device='cuda:0')),\n",
      "\u001b[92mINFO \u001b[0m:      \t              (71, tensor(80.1144, device='cuda:0')),\n",
      "\u001b[92mINFO \u001b[0m:      \t              (72, tensor(79.9714, device='cuda:0')),\n",
      "\u001b[92mINFO \u001b[0m:      \t              (73, tensor(76.5379, device='cuda:0')),\n",
      "\u001b[92mINFO \u001b[0m:      \t              (74, tensor(79.6853, device='cuda:0')),\n",
      "\u001b[92mINFO \u001b[0m:      \t              (75, tensor(79.9714, device='cuda:0')),\n",
      "\u001b[92mINFO \u001b[0m:      \t              (76, tensor(79.8283, device='cuda:0')),\n",
      "\u001b[92mINFO \u001b[0m:      \t              (77, tensor(79.9714, device='cuda:0')),\n",
      "\u001b[92mINFO \u001b[0m:      \t              (78, tensor(77.2532, device='cuda:0')),\n",
      "\u001b[92mINFO \u001b[0m:      \t              (79, tensor(80.2575, device='cuda:0')),\n",
      "\u001b[92mINFO \u001b[0m:      \t              (80, tensor(80.2575, device='cuda:0')),\n",
      "\u001b[92mINFO \u001b[0m:      \t              (81, tensor(79.1130, device='cuda:0')),\n",
      "\u001b[92mINFO \u001b[0m:      \t              (82, tensor(80.2575, device='cuda:0')),\n",
      "\u001b[92mINFO \u001b[0m:      \t              (83, tensor(78.3977, device='cuda:0')),\n",
      "\u001b[92mINFO \u001b[0m:      \t              (84, tensor(79.3991, device='cuda:0')),\n",
      "\u001b[92mINFO \u001b[0m:      \t              (85, tensor(80.2575, device='cuda:0')),\n",
      "\u001b[92mINFO \u001b[0m:      \t              (86, tensor(79.5422, device='cuda:0')),\n",
      "\u001b[92mINFO \u001b[0m:      \t              (87, tensor(79.9714, device='cuda:0')),\n",
      "\u001b[92mINFO \u001b[0m:      \t              (88, tensor(79.1130, device='cuda:0')),\n",
      "\u001b[92mINFO \u001b[0m:      \t              (89, tensor(79.5422, device='cuda:0')),\n",
      "\u001b[92mINFO \u001b[0m:      \t              (90, tensor(80.8298, device='cuda:0')),\n",
      "\u001b[92mINFO \u001b[0m:      \t              (91, tensor(78.8269, device='cuda:0')),\n",
      "\u001b[92mINFO \u001b[0m:      \t              (92, tensor(78.3977, device='cuda:0')),\n",
      "\u001b[92mINFO \u001b[0m:      \t              (93, tensor(79.2561, device='cuda:0')),\n",
      "\u001b[92mINFO \u001b[0m:      \t              (94, tensor(78.2546, device='cuda:0')),\n",
      "\u001b[92mINFO \u001b[0m:      \t              (95, tensor(78.1116, device='cuda:0')),\n",
      "\u001b[92mINFO \u001b[0m:      \t              (96, tensor(81.1159, device='cuda:0')),\n",
      "\u001b[92mINFO \u001b[0m:      \t              (97, tensor(79.9714, device='cuda:0')),\n",
      "\u001b[92mINFO \u001b[0m:      \t              (98, tensor(79.5422, device='cuda:0')),\n",
      "\u001b[92mINFO \u001b[0m:      \t              (99, tensor(81.4020, device='cuda:0')),\n",
      "\u001b[92mINFO \u001b[0m:      \t              (100, tensor(78.8269, device='cuda:0'))]}\n",
      "\u001b[92mINFO \u001b[0m:      \n"
     ]
    },
    {
     "name": "stdout",
     "output_type": "stream",
     "text": [
      "Server-side evaluation loss 0.05010454221205278 / accuracy 78.82689666748047\n"
     ]
    }
   ],
   "source": [
    "# client will be allocated 1x CPU and 0x GPUs\n",
    "if device.type == 'cuda':\n",
    "    # here we are assigning an entire GPU for each client.\n",
    "    client_resources = {\"num_cpus\": 1, \"num_gpus\": 1.0}\n",
    "    # Refer to our documentation for more details about Flower Simulations\n",
    "    # and how to setup these `client_resources`.\n",
    "    \n",
    "# The `evaluate` function will be called by Flower after every round\n",
    "fl_acc = []\n",
    "def evaluate(server_round,parameters,config,):\n",
    "    testloader = azure_test_loader\n",
    "    set_parameters(net_FL, parameters)  # Update model with the latest parameters\n",
    "    loss, accuracy = test(net_FL, testloader, configuration)\n",
    "    print(f\"Server-side evaluation loss {loss} / accuracy {accuracy}\")\n",
    "    fl_acc.append(accuracy)\n",
    "    metrics = {'FL loss': loss,\n",
    "               \"FL accuracy\": accuracy}\n",
    "    wandb.log(metrics)\n",
    "    return loss, {\"accuracy\": accuracy}\n",
    "\n",
    "def weighted_average(metrics):\n",
    "    # Multiply accuracy of each client by number of examples used\n",
    "    accuracies = [num_examples * m[\"accuracy\"] for num_examples, m in metrics]\n",
    "    examples = [num_examples for num_examples, _ in metrics]\n",
    "\n",
    "    # Aggregate and return custom metric (weighted average)\n",
    "    return {\"accuracy\": sum(accuracies) / sum(examples)}\n",
    "params = get_parameters(net_FL)\n",
    "strategy = fl.server.strategy.FedAvg(\n",
    "    fraction_fit=1,\n",
    "    fraction_evaluate=0.5,\n",
    "    min_fit_clients=2,\n",
    "    min_evaluate_clients=1,\n",
    "    min_available_clients=1,\n",
    "    evaluate_fn=evaluate,\n",
    "    initial_parameters= ndarrays_to_parameters(params),\n",
    "    evaluate_metrics_aggregation_fn=weighted_average # <-- pass the metric aggregation function\n",
    ")\n",
    "# Start simulation\n",
    "history = fl.simulation.start_simulation(\n",
    "    client_fn=client_fn,\n",
    "    num_clients=3,\n",
    "    config=fl.server.ServerConfig(num_rounds=configuration['num_rounds_FL']),\n",
    "    strategy=strategy,\n",
    "    client_resources=client_resources,\n",
    ")"
   ]
  },
  {
   "cell_type": "code",
   "execution_count": 13,
   "metadata": {},
   "outputs": [
    {
     "data": {
      "text/plain": [
       "Text(0.5, 0, 'Rounds')"
      ]
     },
     "execution_count": 13,
     "metadata": {},
     "output_type": "execute_result"
    },
    {
     "data": {
      "image/png": "[encoded data removed]",
      "text/plain": [
       "<Figure size 640x480 with 1 Axes>"
      ]
     },
     "metadata": {},
     "output_type": "display_data"
    }
   ],
   "source": [
    "fl_acc\n",
    "f = []\n",
    "for i in fl_acc:\n",
    "    f.append(float(i))\n",
    "plt.plot(f)\n",
    "plt.title('Federated Transfer Learning test accuracies')\n",
    "plt.ylabel('Accuracies')\n",
    "plt.xlabel('Rounds')"
   ]
  }
 ],
 "metadata": {
  "kernelspec": {
   "display_name": "Python 3 (ipykernel)",
   "language": "python",
   "name": "python3"
  },
  "language_info": {
   "codemirror_mode": {
    "name": "ipython",
    "version": 3
   },
   "file_extension": ".py",
   "mimetype": "text/x-python",
   "name": "python",
   "nbconvert_exporter": "python",
   "pygments_lexer": "ipython3",
   "version": "3.10.0"
  }
 },
 "nbformat": 4,
 "nbformat_minor": 2
}
