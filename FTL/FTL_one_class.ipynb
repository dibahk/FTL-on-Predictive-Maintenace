{
 "cells": [
  {
   "cell_type": "code",
   "execution_count": 1,
   "metadata": {},
   "outputs": [
    {
     "name": "stdout",
     "output_type": "stream",
     "text": [
      "Using cuda.\n"
     ]
    }
   ],
   "source": [
    "%matplotlib inline\n",
    "import matplotlib.pyplot as plt\n",
    "import torchvision\n",
    "from torch.utils.data import TensorDataset, random_split, DataLoader\n",
    "import torch.nn as nn\n",
    "import time\n",
    "import wandb\n",
    "from sklearn.metrics import accuracy_score\n",
    "from imblearn.over_sampling import SMOTE\n",
    "import torch\n",
    "from datetime import datetime\n",
    "from collections import OrderedDict\n",
    "from sklearn.decomposition import PCA\n",
    "import flwr as fl\n",
    "from flwr.common import Metrics \n",
    "from time import gmtime, strftime\n",
    "from flwr.server.strategy import FedAvg, FedAdagrad, FedProx\n",
    "import random\n",
    "from flwr.common import ndarrays_to_parameters, NDArrays, Scalar, Context\n",
    "\n",
    "now = datetime.now() # current date and time\n",
    "date_time = now.strftime(\"%d-%m-%Y_%H:%M:%S\")\n",
    "device = torch.device('cuda' if torch.cuda.is_available() else 'cpu')\n",
    "print(f'Using {device}.')"
   ]
  },
  {
   "cell_type": "code",
   "execution_count": 2,
   "metadata": {},
   "outputs": [
    {
     "name": "stderr",
     "output_type": "stream",
     "text": [
      "\u001b[34m\u001b[1mwandb\u001b[0m: Currently logged in as: \u001b[33md-hadjikazemi\u001b[0m (\u001b[33md-hadjikazemi-queen-mary-university-of-london\u001b[0m). Use \u001b[1m`wandb login --relogin`\u001b[0m to force relogin\n",
      "/home/diba/miniconda3/envs/FTL/lib/python3.10/site-packages/wandb/sdk/lib/ipython.py:77: DeprecationWarning: Importing display from IPython.core.display is deprecated since IPython 7.14, please import from IPython display\n",
      "  from IPython.core.display import HTML, display  # type: ignore\n"
     ]
    },
    {
     "data": {
      "text/html": [
       "wandb version 0.17.6 is available!  To upgrade, please run:\n",
       " $ pip install wandb --upgrade"
      ],
      "text/plain": [
       "<IPython.core.display.HTML object>"
      ]
     },
     "metadata": {},
     "output_type": "display_data"
    },
    {
     "data": {
      "text/html": [
       "Tracking run with wandb version 0.17.4"
      ],
      "text/plain": [
       "<IPython.core.display.HTML object>"
      ]
     },
     "metadata": {},
     "output_type": "display_data"
    },
    {
     "data": {
      "text/html": [
       "Run data is saved locally in <code>/home/diba/wandb/run-20240812_141602-jta69586</code>"
      ],
      "text/plain": [
       "<IPython.core.display.HTML object>"
      ]
     },
     "metadata": {},
     "output_type": "display_data"
    },
    {
     "data": {
      "text/html": [
       "Syncing run <strong><a href='https://wandb.ai/d-hadjikazemi-queen-mary-university-of-london/FTL%20one%20class/runs/jta69586' target=\"_blank\">centralized training_12-08-2024_14:16:02</a></strong> to <a href='https://wandb.ai/d-hadjikazemi-queen-mary-university-of-london/FTL%20one%20class' target=\"_blank\">Weights & Biases</a> (<a href='https://wandb.me/run' target=\"_blank\">docs</a>)<br/>"
      ],
      "text/plain": [
       "<IPython.core.display.HTML object>"
      ]
     },
     "metadata": {},
     "output_type": "display_data"
    },
    {
     "data": {
      "text/html": [
       " View project at <a href='https://wandb.ai/d-hadjikazemi-queen-mary-university-of-london/FTL%20one%20class' target=\"_blank\">https://wandb.ai/d-hadjikazemi-queen-mary-university-of-london/FTL%20one%20class</a>"
      ],
      "text/plain": [
       "<IPython.core.display.HTML object>"
      ]
     },
     "metadata": {},
     "output_type": "display_data"
    },
    {
     "data": {
      "text/html": [
       " View run at <a href='https://wandb.ai/d-hadjikazemi-queen-mary-university-of-london/FTL%20one%20class/runs/jta69586' target=\"_blank\">https://wandb.ai/d-hadjikazemi-queen-mary-university-of-london/FTL%20one%20class/runs/jta69586</a>"
      ],
      "text/plain": [
       "<IPython.core.display.HTML object>"
      ]
     },
     "metadata": {},
     "output_type": "display_data"
    }
   ],
   "source": [
    "wandb.init(\n",
    "    # set the wandb project where this run will be logged\n",
    "    project=\"FTL one class\",\n",
    "    name= \"centralized training_{}\".format(date_time),\n",
    "    # track hyperparameters and run metadata\n",
    "    config={\n",
    "    \"learning_rate\": 0.0001,\n",
    "    \"architecture\": \"CNN\",\n",
    "    \"epochs\": 100,\n",
    "    \"batch_size\": 64,\n",
    "    \"decay\":0,\n",
    "    'dropout': 0.0,\n",
    "    \"learning_rate_TL\": 0.0001,\n",
    "    \"batch_size_TL\": 64,\n",
    "    \"decay_TL\":1e-5,\n",
    "    'num_rounds_TL': 40, \n",
    "    'epochs_TL': 100,\n",
    "    'dropout_TL': 0.001,\n",
    "    \"learning_rate_FL\": 0.0001,\n",
    "    \"batch_size_FL\": 64,\n",
    "    \"decay_FL\": 1e-5,\n",
    "    'num_rounds_FL': 50, \n",
    "    'epochs_FL': 100,\n",
    "    'dropout_FL': 0.001\n",
    "    }\n",
    ")\n",
    "\n",
    "transfer_i = random.randint(0, 3)\n",
    "configuration  = dict(wandb.config)\n",
    "\n",
    "\n",
    "def data_loading_AZURE(data_paths, label_paths, batch_size, train_ratio=0.8, val_ratio=0.5):\n",
    "    trainloader = []\n",
    "    valloader = []\n",
    "    testdata_list = []\n",
    "    testlabels_list = []\n",
    "    for i in range(len(data_paths)):\n",
    "        # importing from paths\n",
    "        data = torch.load(data_paths[i])\n",
    "        labels = torch.load(label_paths[i])\n",
    "        data = nn.functional.normalize(data, dim=1)\n",
    "        # reshaping the dataset so  the channels will be the second dimension.\n",
    "        data = data.permute(0, 2, 1)\n",
    "        print(data.size())\n",
    "        n_samples, n_channels, n_features = data.shape\n",
    "        X_reshaped = data.reshape(n_samples, -1) \n",
    "        # Apply SMOTE\n",
    "        smote = SMOTE(sampling_strategy='minority')\n",
    "        data_resampled, labels_resampled = smote.fit_resample(X_reshaped, labels)\n",
    "        # Reshape X_resampled back to 3D\n",
    "        data_resampled = data_resampled.reshape(-1, n_channels, n_features)\n",
    "        print(data_resampled.shape)\n",
    "        data_resampled = torch.tensor(data_resampled)\n",
    "        labels_resampled = torch.tensor(labels_resampled)\n",
    "        dataset = TensorDataset(data_resampled, labels_resampled)\n",
    "        train_size = int(train_ratio * len(dataset))\n",
    "        test_size = len(dataset) - train_size\n",
    "        val_size = int(val_ratio * test_size)\n",
    "        test_size = test_size - val_size\n",
    "\n",
    "        train_dataset, val_dataset, test_dataset = random_split(dataset, [train_size, val_size, test_size])\n",
    "        if i == transfer_i:\n",
    "            trainloader_transfer = DataLoader(train_dataset, batch_size=batch_size, shuffle=True)\n",
    "            valloader_transfer = DataLoader(val_dataset, batch_size=batch_size, shuffle=True)\n",
    "\n",
    "        else:\n",
    "            trainloader.append(DataLoader(train_dataset, batch_size=batch_size, shuffle=True))\n",
    "            valloader.append(DataLoader(val_dataset, batch_size=batch_size, shuffle=True))\n",
    "            \n",
    "        testdata_list.append(test_dataset.dataset.tensors[0][test_dataset.indices])\n",
    "        testlabels_list.append(test_dataset.dataset.tensors[1][test_dataset.indices])\n",
    "\n",
    "    testdata = torch.cat(testdata_list, dim=0)\n",
    "    testlabels = torch.cat(testlabels_list, dim=0)\n",
    "    \n",
    "    # Create a DataLoader for the combined test data\n",
    "    testloader = DataLoader(TensorDataset(testdata, testlabels), batch_size=batch_size, shuffle=False)\n",
    "    \n",
    "    return trainloader, valloader, testloader, trainloader_transfer, valloader_transfer\n",
    "\n",
    "def data_loading_NASA(data_path, label_path, batch_size, train_ratio=0.8, val_ratio = 0.5):\n",
    "    data = torch.load(data_path)\n",
    "    labels = torch.load(label_path)\n",
    "    data = nn.functional.normalize(data, dim=1)\n",
    "    # reshaping the dataset so  the channels will be the second dimension.\n",
    "    data = data.permute(0, 2, 1)\n",
    "    print(data.size())\n",
    "\n",
    "    def pca_reduction(data, n_components=4):\n",
    "        data_reshaped = data.reshape(-1, data.shape[1])\n",
    "\n",
    "        # Apply PCA\n",
    "        pca = PCA(n_components=n_components)\n",
    "        \n",
    "        data_reduced = pca.fit_transform(data_reshaped)\n",
    "\n",
    "        # Reshape back to (samples, n_components, time_steps)\n",
    "        data_reduced = data_reduced.reshape(data.shape[0], n_components, data.shape[2])\n",
    "\n",
    "        return data_reduced\n",
    "    print(data.dtype)\n",
    "    data = pca_reduction(data, n_components=4)\n",
    "    data =(torch.from_numpy(data)).float()\n",
    "    n_samples, n_channels, n_features = data.shape\n",
    "    X_reshaped = data.reshape(n_samples, -1) \n",
    "    \n",
    "    n_samples, n_channels, n_features = data.shape\n",
    "    X_reshaped = data.reshape(n_samples, -1) \n",
    "    \n",
    "    # Apply SMOTE\n",
    "    smote = SMOTE(sampling_strategy='minority')\n",
    "    data_resampled, labels_resampled = smote.fit_resample(X_reshaped, labels)\n",
    "    print((labels_resampled==1).sum())\n",
    "    # Reshape X_resampled back to 3D\n",
    "    data_resampled = data_resampled.reshape(-1, n_channels, n_features)\n",
    "    print(data_resampled.shape)\n",
    "    data_resampled = torch.tensor(data_resampled)\n",
    "    labels_resampled = torch.tensor(labels_resampled)\n",
    "    dataset = TensorDataset(data_resampled, labels_resampled)\n",
    "    train_size = int(train_ratio * len(dataset))\n",
    "    test_size = len(dataset) - train_size\n",
    "    val_size = int(val_ratio * test_size)\n",
    "    test_size = test_size - val_size\n",
    "    train_dataset, val_dataset, test_dataset = random_split(dataset, [train_size, val_size, test_size])\n",
    "    return DataLoader(train_dataset, batch_size=batch_size, shuffle=True), DataLoader(val_dataset, batch_size=batch_size, shuffle=True), DataLoader(test_dataset, batch_size=batch_size, shuffle=False)\n"
   ]
  },
  {
   "cell_type": "code",
   "execution_count": 3,
   "metadata": {},
   "outputs": [],
   "source": [
    "# Define the CNN architecture\n",
    "class Neural_Network(nn.Module):\n",
    "    def __init__(self):\n",
    "        super(Neural_Network, self).__init__()\n",
    "        self.conv1 = nn.Conv1d(in_channels=4, out_channels=8, kernel_size=5)\n",
    "        self.bn1 = nn.BatchNorm1d(8)\n",
    "        self.conv2 = nn.Conv1d(in_channels=8, out_channels=8, kernel_size=5)\n",
    "        self.bn2 = nn.BatchNorm1d(8)\n",
    "        self.pool = nn.MaxPool1d(kernel_size=2, padding=0, stride=1)\n",
    "        # the size of the out channels x number  of nodes \n",
    "        self.fc1 = nn.Linear(328, 200)\n",
    "        self.fc2 = nn.Linear(200, 2)\n",
    "        self.flatten = nn.Flatten()\n",
    "        self.relu = nn.ReLU()\n",
    "        self.dropout = nn.Dropout(configuration['dropout'])\n",
    "        self.sigmoid = nn.Sigmoid()\n",
    "\n",
    "    def forward(self, x):\n",
    "        # x = self.relu(self.conv1(x))\n",
    "        # x = self.relu(self.conv2(x))\n",
    "        x = self.relu(self.bn1(self.conv1(x)))\n",
    "        x = self.relu(self.bn2(self.conv2(x)))\n",
    "        x = self.dropout(x)\n",
    "        x = self.pool(x)\n",
    "        x = self.flatten(x)\n",
    "        x = self.relu(self.fc1(x))\n",
    "        x - self.dropout(x)\n",
    "        x = self.sigmoid(self.fc2(x))\n",
    "        return x"
   ]
  },
  {
   "cell_type": "code",
   "execution_count": 4,
   "metadata": {},
   "outputs": [],
   "source": [
    "def correct(logits, y):\n",
    "    y_hat = logits.argmax(axis=1) # Finds the column with the highest value for each row of `logits`.\n",
    "    return (y_hat == y).float().sum() # Computes the number of times that `y_hat` and `y` match.\n",
    "\n",
    "def evaluate_metric(model, data_iter, metric):\n",
    "    \"\"\"Compute the average `metric` of the model on a dataset.\"\"\"\n",
    "    c = torch.tensor(0.).to(device)\n",
    "    n = torch.tensor(0.).to(device)\n",
    "    for X, y in data_iter:\n",
    "        X, y = X.to(device), y.to(device) # Moves data to `device`\n",
    "        logits = model(X)\n",
    "        c += metric(logits, y)\n",
    "        n += len(y)\n",
    "    return c*100 / n\n"
   ]
  },
  {
   "cell_type": "code",
   "execution_count": 5,
   "metadata": {},
   "outputs": [
    {
     "name": "stdout",
     "output_type": "stream",
     "text": [
      "torch.Size([848, 24, 50])\n",
      "torch.float32\n",
      "685\n",
      "(1370, 4, 50)\n"
     ]
    }
   ],
   "source": [
    "def train(model, train_loaders,test_loader, config, epochs, name):\n",
    "    loss = nn.CrossEntropyLoss()\n",
    "    optimizer = torch.optim.Adam(model.parameters(), lr=config['learning_rate'], weight_decay=config['decay'])\n",
    "    losses = [] # Stores the loss for each training batch\n",
    "    train_accs = [] # Stores the training accuracy after each epoch\n",
    "    test_accs = []\n",
    "    for epoch in range(epochs):\n",
    "        print(f'\\nEpoch {epoch + 1}/{epochs}')\n",
    "        total, epoch_loss = 0, 0.0\n",
    "        model.train() # This is necessary because batch normalization behaves differently between training and evaluation\n",
    "        \n",
    "        for X, y in train_loaders:\n",
    "            X, y = X.to(device), y.to(device) # Moves data to `device`\n",
    "            logits = model(X) # Computes the logits for the batch of images `X`\n",
    "            l = loss(logits, y) # Computes the loss given the `logits` and the class vector `y`\n",
    "            optimizer.zero_grad() # Zeroes the gradients stored in the model parameters\n",
    "            l.backward() # Computes the gradient of the loss `l` with respect to the model parameters\n",
    "\n",
    "            optimizer.step() # Updates the model parameters based on the gradients stored inside them\n",
    "            epoch_loss += l\n",
    "            \n",
    "        model.eval() # This is necessary because batch normalization behaves differently between training and evaluation\n",
    "        train_acc = evaluate_metric(model, train_loaders, correct)\n",
    "        train_accs.append(train_acc)\n",
    "        test_acc = evaluate_metric(model, test_loader, correct)\n",
    "        test_accs.append(test_acc)\n",
    "        wandb.log({f'{name} training accuraccy': train_acc,\n",
    "                  f'{name} validation accuracy': test_acc})\n",
    "        print(f'Epoch {epoch+1}: Training accuracy: {train_accs[-1]} Testing accuracy: {test_accs[-1]}.') # Computes and displays training/testing dataset accuracy.\n",
    "    plt.plot(list(map(lambda x: x.cpu(),train_accs)), label='Training accuracy')\n",
    "    plt.plot(list(map(lambda x: x.cpu(),test_accs)), label='Validation accuracy')\n",
    "    plt.title('accuracies')\n",
    "    plt.legend()\n",
    "\n",
    "def test(model, test_loaders,  configuration):\n",
    "    loss = nn.CrossEntropyLoss()\n",
    "    test_accs = []\n",
    "    optimizer = torch.optim.Adam(model.parameters(), lr=configuration['learning_rate'], weight_decay=configuration['decay'])\n",
    "    test_acc = []\n",
    "    l = 0.0\n",
    "    model.eval() # This is necessary because batch normalization behaves differently between training and evaluation\n",
    "    for X, y in test_loaders:    \n",
    "        X, y = X.to(device), y.to(device) # Moves data to `device`\n",
    "        logits = model(X)\n",
    "        l = loss(logits, y).item()\n",
    "        test_acc = evaluate_metric(model, test_loaders, correct)\n",
    "        test_accs.append(test_acc)\n",
    "        \n",
    "        # wandb.log({\"test_acc\": test_acc})\n",
    "        l /= len(test_loaders)\n",
    "        end_time = time.perf_counter()\n",
    "        # print('Testing accuracy: {test_accs[-1]}.')\n",
    "        return l, test_acc\n",
    "\n",
    "NASA = data_loading_NASA(data_path='NASA_data_50.pt', label_path= 'NASA_label_50.pt', batch_size= configuration['batch_size'])"
   ]
  },
  {
   "cell_type": "code",
   "execution_count": 6,
   "metadata": {},
   "outputs": [
    {
     "name": "stdout",
     "output_type": "stream",
     "text": [
      "\n",
      "Epoch 1/100\n",
      "Epoch 1: Training accuracy: 50.0 Testing accuracy: 46.715328216552734.\n",
      "\n",
      "Epoch 2/100\n",
      "Epoch 2: Training accuracy: 50.09123992919922 Testing accuracy: 53.284671783447266.\n",
      "\n",
      "Epoch 3/100\n",
      "Epoch 3: Training accuracy: 60.94890594482422 Testing accuracy: 57.66423416137695.\n",
      "\n",
      "Epoch 4/100\n",
      "Epoch 4: Training accuracy: 62.04379653930664 Testing accuracy: 55.47445297241211.\n",
      "\n",
      "Epoch 5/100\n",
      "Epoch 5: Training accuracy: 65.96715545654297 Testing accuracy: 62.77372360229492.\n",
      "\n",
      "Epoch 6/100\n",
      "Epoch 6: Training accuracy: 62.95620346069336 Testing accuracy: 59.124088287353516.\n",
      "\n",
      "Epoch 7/100\n",
      "Epoch 7: Training accuracy: 68.43065643310547 Testing accuracy: 64.23357391357422.\n",
      "\n",
      "Epoch 8/100\n",
      "Epoch 8: Training accuracy: 69.06934356689453 Testing accuracy: 66.42335510253906.\n",
      "\n",
      "Epoch 9/100\n",
      "Epoch 9: Training accuracy: 69.34306335449219 Testing accuracy: 64.9635009765625.\n",
      "\n",
      "Epoch 10/100\n",
      "Epoch 10: Training accuracy: 72.08029174804688 Testing accuracy: 71.53284454345703.\n",
      "\n",
      "Epoch 11/100\n",
      "Epoch 11: Training accuracy: 71.44160461425781 Testing accuracy: 66.42335510253906.\n",
      "\n",
      "Epoch 12/100\n",
      "Epoch 12: Training accuracy: 73.17518615722656 Testing accuracy: 70.80291748046875.\n",
      "\n",
      "Epoch 13/100\n",
      "Epoch 13: Training accuracy: 73.357666015625 Testing accuracy: 70.80291748046875.\n",
      "\n",
      "Epoch 14/100\n",
      "Epoch 14: Training accuracy: 74.08759307861328 Testing accuracy: 70.07299041748047.\n",
      "\n",
      "Epoch 15/100\n",
      "Epoch 15: Training accuracy: 74.45255279541016 Testing accuracy: 70.07299041748047.\n",
      "\n",
      "Epoch 16/100\n",
      "Epoch 16: Training accuracy: 74.27007293701172 Testing accuracy: 71.53284454345703.\n",
      "\n",
      "Epoch 17/100\n",
      "Epoch 17: Training accuracy: 75.8211669921875 Testing accuracy: 73.72262573242188.\n",
      "\n",
      "Epoch 18/100\n",
      "Epoch 18: Training accuracy: 74.72628021240234 Testing accuracy: 70.80291748046875.\n",
      "\n",
      "Epoch 19/100\n",
      "Epoch 19: Training accuracy: 75.0 Testing accuracy: 71.53284454345703.\n",
      "\n",
      "Epoch 20/100\n",
      "Epoch 20: Training accuracy: 76.55109405517578 Testing accuracy: 72.26277160644531.\n",
      "\n",
      "Epoch 21/100\n",
      "Epoch 21: Training accuracy: 76.82481384277344 Testing accuracy: 72.9926986694336.\n",
      "\n",
      "Epoch 22/100\n",
      "Epoch 22: Training accuracy: 76.1861343383789 Testing accuracy: 73.72262573242188.\n",
      "\n",
      "Epoch 23/100\n",
      "Epoch 23: Training accuracy: 76.91606140136719 Testing accuracy: 72.9926986694336.\n",
      "\n",
      "Epoch 24/100\n",
      "Epoch 24: Training accuracy: 77.37226104736328 Testing accuracy: 73.72262573242188.\n",
      "\n",
      "Epoch 25/100\n",
      "Epoch 25: Training accuracy: 78.74087524414062 Testing accuracy: 73.72262573242188.\n",
      "\n",
      "Epoch 26/100\n",
      "Epoch 26: Training accuracy: 79.01459503173828 Testing accuracy: 73.72262573242188.\n",
      "\n",
      "Epoch 27/100\n",
      "Epoch 27: Training accuracy: 79.28832244873047 Testing accuracy: 73.72262573242188.\n",
      "\n",
      "Epoch 28/100\n",
      "Epoch 28: Training accuracy: 78.74087524414062 Testing accuracy: 75.91240692138672.\n",
      "\n",
      "Epoch 29/100\n",
      "Epoch 29: Training accuracy: 79.65328216552734 Testing accuracy: 74.45255279541016.\n",
      "\n",
      "Epoch 30/100\n",
      "Epoch 30: Training accuracy: 80.74817657470703 Testing accuracy: 73.72262573242188.\n",
      "\n",
      "Epoch 31/100\n",
      "Epoch 31: Training accuracy: 80.83941650390625 Testing accuracy: 75.91240692138672.\n",
      "\n",
      "Epoch 32/100\n",
      "Epoch 32: Training accuracy: 80.01824951171875 Testing accuracy: 73.72262573242188.\n",
      "\n",
      "Epoch 33/100\n",
      "Epoch 33: Training accuracy: 81.9343032836914 Testing accuracy: 77.37226104736328.\n",
      "\n",
      "Epoch 34/100\n",
      "Epoch 34: Training accuracy: 82.29927062988281 Testing accuracy: 77.37226104736328.\n",
      "\n",
      "Epoch 35/100\n",
      "Epoch 35: Training accuracy: 82.57299041748047 Testing accuracy: 75.91240692138672.\n",
      "\n",
      "Epoch 36/100\n",
      "Epoch 36: Training accuracy: 82.57299041748047 Testing accuracy: 77.37226104736328.\n",
      "\n",
      "Epoch 37/100\n",
      "Epoch 37: Training accuracy: 83.48540496826172 Testing accuracy: 76.642333984375.\n",
      "\n",
      "Epoch 38/100\n",
      "Epoch 38: Training accuracy: 83.30291748046875 Testing accuracy: 78.10218811035156.\n",
      "\n",
      "Epoch 39/100\n",
      "Epoch 39: Training accuracy: 83.48540496826172 Testing accuracy: 78.10218811035156.\n",
      "\n",
      "Epoch 40/100\n",
      "Epoch 40: Training accuracy: 84.03284454345703 Testing accuracy: 78.83211517333984.\n",
      "\n",
      "Epoch 41/100\n",
      "Epoch 41: Training accuracy: 84.03284454345703 Testing accuracy: 78.83211517333984.\n",
      "\n",
      "Epoch 42/100\n",
      "Epoch 42: Training accuracy: 84.12408447265625 Testing accuracy: 78.10218811035156.\n",
      "\n",
      "Epoch 43/100\n",
      "Epoch 43: Training accuracy: 84.12408447265625 Testing accuracy: 78.83211517333984.\n",
      "\n",
      "Epoch 44/100\n",
      "Epoch 44: Training accuracy: 84.76277160644531 Testing accuracy: 79.56204223632812.\n",
      "\n",
      "Epoch 45/100\n",
      "Epoch 45: Training accuracy: 84.85401153564453 Testing accuracy: 80.2919692993164.\n",
      "\n",
      "Epoch 46/100\n",
      "Epoch 46: Training accuracy: 85.12773895263672 Testing accuracy: 80.2919692993164.\n",
      "\n",
      "Epoch 47/100\n",
      "Epoch 47: Training accuracy: 85.31021881103516 Testing accuracy: 80.2919692993164.\n",
      "\n",
      "Epoch 48/100\n",
      "Epoch 48: Training accuracy: 84.85401153564453 Testing accuracy: 79.56204223632812.\n",
      "\n",
      "Epoch 49/100\n",
      "Epoch 49: Training accuracy: 85.857666015625 Testing accuracy: 81.02189636230469.\n",
      "\n",
      "Epoch 50/100\n",
      "Epoch 50: Training accuracy: 86.13138580322266 Testing accuracy: 80.2919692993164.\n",
      "\n",
      "Epoch 51/100\n",
      "Epoch 51: Training accuracy: 86.49635314941406 Testing accuracy: 81.02189636230469.\n",
      "\n",
      "Epoch 52/100\n",
      "Epoch 52: Training accuracy: 86.49635314941406 Testing accuracy: 82.48175048828125.\n",
      "\n",
      "Epoch 53/100\n",
      "Epoch 53: Training accuracy: 86.13138580322266 Testing accuracy: 80.2919692993164.\n",
      "\n",
      "Epoch 54/100\n",
      "Epoch 54: Training accuracy: 86.86131286621094 Testing accuracy: 80.2919692993164.\n",
      "\n",
      "Epoch 55/100\n",
      "Epoch 55: Training accuracy: 87.04379272460938 Testing accuracy: 81.02189636230469.\n",
      "\n",
      "Epoch 56/100\n",
      "Epoch 56: Training accuracy: 87.31752014160156 Testing accuracy: 80.2919692993164.\n",
      "\n",
      "Epoch 57/100\n",
      "Epoch 57: Training accuracy: 87.59123992919922 Testing accuracy: 78.83211517333984.\n",
      "\n",
      "Epoch 58/100\n",
      "Epoch 58: Training accuracy: 86.77007293701172 Testing accuracy: 81.02189636230469.\n",
      "\n",
      "Epoch 59/100\n",
      "Epoch 59: Training accuracy: 87.68247985839844 Testing accuracy: 80.2919692993164.\n",
      "\n",
      "Epoch 60/100\n",
      "Epoch 60: Training accuracy: 88.22992706298828 Testing accuracy: 81.02189636230469.\n",
      "\n",
      "Epoch 61/100\n",
      "Epoch 61: Training accuracy: 88.22992706298828 Testing accuracy: 81.02189636230469.\n",
      "\n",
      "Epoch 62/100\n",
      "Epoch 62: Training accuracy: 87.77371978759766 Testing accuracy: 82.48175048828125.\n",
      "\n",
      "Epoch 63/100\n",
      "Epoch 63: Training accuracy: 88.13868713378906 Testing accuracy: 81.75182342529297.\n",
      "\n",
      "Epoch 64/100\n",
      "Epoch 64: Training accuracy: 89.32481384277344 Testing accuracy: 79.56204223632812.\n",
      "\n",
      "Epoch 65/100\n",
      "Epoch 65: Training accuracy: 89.32481384277344 Testing accuracy: 81.02189636230469.\n",
      "\n",
      "Epoch 66/100\n",
      "Epoch 66: Training accuracy: 89.32481384277344 Testing accuracy: 80.2919692993164.\n",
      "\n",
      "Epoch 67/100\n",
      "Epoch 67: Training accuracy: 89.32481384277344 Testing accuracy: 81.75182342529297.\n",
      "\n",
      "Epoch 68/100\n",
      "Epoch 68: Training accuracy: 89.68978118896484 Testing accuracy: 79.56204223632812.\n",
      "\n",
      "Epoch 69/100\n",
      "Epoch 69: Training accuracy: 89.59854125976562 Testing accuracy: 81.02189636230469.\n",
      "\n",
      "Epoch 70/100\n",
      "Epoch 70: Training accuracy: 89.68978118896484 Testing accuracy: 81.02189636230469.\n",
      "\n",
      "Epoch 71/100\n",
      "Epoch 71: Training accuracy: 90.3284683227539 Testing accuracy: 82.48175048828125.\n",
      "\n",
      "Epoch 72/100\n",
      "Epoch 72: Training accuracy: 89.68978118896484 Testing accuracy: 82.48175048828125.\n",
      "\n",
      "Epoch 73/100\n",
      "Epoch 73: Training accuracy: 91.05839538574219 Testing accuracy: 82.48175048828125.\n",
      "\n",
      "Epoch 74/100\n",
      "Epoch 74: Training accuracy: 89.5073013305664 Testing accuracy: 82.48175048828125.\n",
      "\n",
      "Epoch 75/100\n",
      "Epoch 75: Training accuracy: 91.05839538574219 Testing accuracy: 82.48175048828125.\n",
      "\n",
      "Epoch 76/100\n",
      "Epoch 76: Training accuracy: 90.69342803955078 Testing accuracy: 81.75182342529297.\n",
      "\n",
      "Epoch 77/100\n",
      "Epoch 77: Training accuracy: 91.05839538574219 Testing accuracy: 82.48175048828125.\n",
      "\n",
      "Epoch 78/100\n",
      "Epoch 78: Training accuracy: 91.1496353149414 Testing accuracy: 82.48175048828125.\n",
      "\n",
      "Epoch 79/100\n",
      "Epoch 79: Training accuracy: 91.42335510253906 Testing accuracy: 82.48175048828125.\n",
      "\n",
      "Epoch 80/100\n",
      "Epoch 80: Training accuracy: 90.78466796875 Testing accuracy: 83.94160461425781.\n",
      "\n",
      "Epoch 81/100\n",
      "Epoch 81: Training accuracy: 91.05839538574219 Testing accuracy: 85.40145874023438.\n",
      "\n",
      "Epoch 82/100\n",
      "Epoch 82: Training accuracy: 91.78832244873047 Testing accuracy: 83.94160461425781.\n",
      "\n",
      "Epoch 83/100\n",
      "Epoch 83: Training accuracy: 91.33211517333984 Testing accuracy: 83.21167755126953.\n",
      "\n",
      "Epoch 84/100\n",
      "Epoch 84: Training accuracy: 92.15328216552734 Testing accuracy: 82.48175048828125.\n",
      "\n",
      "Epoch 85/100\n",
      "Epoch 85: Training accuracy: 91.42335510253906 Testing accuracy: 84.6715316772461.\n",
      "\n",
      "Epoch 86/100\n",
      "Epoch 86: Training accuracy: 92.70072937011719 Testing accuracy: 83.21167755126953.\n",
      "\n",
      "Epoch 87/100\n",
      "Epoch 87: Training accuracy: 92.15328216552734 Testing accuracy: 85.40145874023438.\n",
      "\n",
      "Epoch 88/100\n",
      "Epoch 88: Training accuracy: 91.24087524414062 Testing accuracy: 84.6715316772461.\n",
      "\n",
      "Epoch 89/100\n",
      "Epoch 89: Training accuracy: 92.24452209472656 Testing accuracy: 84.6715316772461.\n",
      "\n",
      "Epoch 90/100\n",
      "Epoch 90: Training accuracy: 91.60584259033203 Testing accuracy: 86.13138580322266.\n",
      "\n",
      "Epoch 91/100\n",
      "Epoch 91: Training accuracy: 92.06204223632812 Testing accuracy: 86.13138580322266.\n",
      "\n",
      "Epoch 92/100\n",
      "Epoch 92: Training accuracy: 93.24817657470703 Testing accuracy: 83.94160461425781.\n",
      "\n",
      "Epoch 93/100\n",
      "Epoch 93: Training accuracy: 91.60584259033203 Testing accuracy: 85.40145874023438.\n",
      "\n",
      "Epoch 94/100\n",
      "Epoch 94: Training accuracy: 92.7919692993164 Testing accuracy: 84.6715316772461.\n",
      "\n",
      "Epoch 95/100\n",
      "Epoch 95: Training accuracy: 92.97444915771484 Testing accuracy: 85.40145874023438.\n",
      "\n",
      "Epoch 96/100\n",
      "Epoch 96: Training accuracy: 92.15328216552734 Testing accuracy: 86.86131286621094.\n",
      "\n",
      "Epoch 97/100\n",
      "Epoch 97: Training accuracy: 93.24817657470703 Testing accuracy: 85.40145874023438.\n",
      "\n",
      "Epoch 98/100\n",
      "Epoch 98: Training accuracy: 93.24817657470703 Testing accuracy: 85.40145874023438.\n",
      "\n",
      "Epoch 99/100\n",
      "Epoch 99: Training accuracy: 92.70072937011719 Testing accuracy: 86.13138580322266.\n",
      "\n",
      "Epoch 100/100\n",
      "Epoch 100: Training accuracy: 92.42700958251953 Testing accuracy: 86.13138580322266.\n",
      "Epoch 1: validation loss 0.1462402641773224, accuracy 85.40145874023438\n",
      "Final test set performance:\n",
      "\tloss 0.16701610883076987\n",
      "\taccuracy 86.13138580322266\n"
     ]
    },
    {
     "name": "stderr",
     "output_type": "stream",
     "text": [
      "/home/diba/miniconda3/envs/FTL/lib/python3.10/site-packages/wandb/sdk/lib/ipython.py:89: DeprecationWarning: Importing display from IPython.core.display is deprecated since IPython 7.14, please import from IPython display\n",
      "  from IPython.core.display import display\n"
     ]
    },
    {
     "data": {
      "application/vnd.jupyter.widget-view+json": {
       "model_id": "d5ead1b8fa844365b8a0463d3f1d9a50",
       "version_major": 2,
       "version_minor": 0
      },
      "text/plain": [
       "VBox(children=(Label(value='0.004 MB of 0.004 MB uploaded\\r'), FloatProgress(value=1.0, max=1.0)))"
      ]
     },
     "metadata": {},
     "output_type": "display_data"
    },
    {
     "data": {
      "text/html": [
       "<style>\n",
       "    table.wandb td:nth-child(1) { padding: 0 10px; text-align: left ; width: auto;} td:nth-child(2) {text-align: left ; width: 100%}\n",
       "    .wandb-row { display: flex; flex-direction: row; flex-wrap: wrap; justify-content: flex-start; width: 100% }\n",
       "    .wandb-col { display: flex; flex-direction: column; flex-basis: 100%; flex: 1; padding: 10px; }\n",
       "    </style>\n",
       "<div class=\"wandb-row\"><div class=\"wandb-col\"><h3>Run history:</h3><br/><table class=\"wandb\"><tr><td>centralized training accuraccy</td><td>▁▃▃▄▄▅▅▅▅▅▆▆▆▆▆▆▇▇▇▇▇▇▇▇▇▇▇▇▇▇██████████</td></tr><tr><td>centralized validation accuracy</td><td>▁▃▃▄▄▅▅▅▆▆▆▆▆▆▆▇▇▇▇▇▇▇▇▇▇▇▇▇▇▇▇▇█▇██████</td></tr></table><br/></div><div class=\"wandb-col\"><h3>Run summary:</h3><br/><table class=\"wandb\"><tr><td>centralized training accuraccy</td><td>92.42701</td></tr><tr><td>centralized validation accuracy</td><td>86.13139</td></tr></table><br/></div></div>"
      ],
      "text/plain": [
       "<IPython.core.display.HTML object>"
      ]
     },
     "metadata": {},
     "output_type": "display_data"
    },
    {
     "data": {
      "text/html": [
       " View run <strong style=\"color:#cdcd00\">centralized training_12-08-2024_14:16:02</strong> at: <a href='https://wandb.ai/d-hadjikazemi-queen-mary-university-of-london/FTL%20one%20class/runs/jta69586' target=\"_blank\">https://wandb.ai/d-hadjikazemi-queen-mary-university-of-london/FTL%20one%20class/runs/jta69586</a><br/> View project at: <a href='https://wandb.ai/d-hadjikazemi-queen-mary-university-of-london/FTL%20one%20class' target=\"_blank\">https://wandb.ai/d-hadjikazemi-queen-mary-university-of-london/FTL%20one%20class</a><br/>Synced 6 W&B file(s), 0 media file(s), 0 artifact file(s) and 0 other file(s)"
      ],
      "text/plain": [
       "<IPython.core.display.HTML object>"
      ]
     },
     "metadata": {},
     "output_type": "display_data"
    },
    {
     "data": {
      "text/html": [
       "Find logs at: <code>./wandb/run-20240812_141602-jta69586/logs</code>"
      ],
      "text/plain": [
       "<IPython.core.display.HTML object>"
      ]
     },
     "metadata": {},
     "output_type": "display_data"
    },
    {
     "data": {
      "text/html": [
       "The new W&B backend becomes opt-out in version 0.18.0; try it out with `wandb.require(\"core\")`! See https://wandb.me/wandb-core for more information."
      ],
      "text/plain": [
       "<IPython.core.display.HTML object>"
      ]
     },
     "metadata": {},
     "output_type": "display_data"
    },
    {
     "data": {
      "image/png": "[encoded data removed]",
      "text/plain": [
       "<Figure size 640x480 with 1 Axes>"
      ]
     },
     "metadata": {},
     "output_type": "display_data"
    }
   ],
   "source": [
    "trainloader = NASA[0]\n",
    "valloader = NASA[1]\n",
    "testloader = NASA[2]\n",
    "net = Neural_Network().to(device)\n",
    "losses = []\n",
    "accuracies = []\n",
    "for epoch in range(1):\n",
    "    train(net, trainloader, testloader, configuration, configuration['epochs'], name='centralized')\n",
    "    loss, accuracy = test(net, valloader, configuration)\n",
    "    losses.append(loss)\n",
    "    accuracies.append(int(accuracy))\n",
    "    print(f\"Epoch {epoch+1}: validation loss {loss}, accuracy {accuracy}\")\n",
    "# plt.plot(accuracies)\n",
    "loss, accuracy = test(net, testloader, configuration=configuration)\n",
    "print(f\"Final test set performance:\\n\\tloss {loss}\\n\\taccuracy {accuracy}\")\n",
    "wandb.finish()"
   ]
  },
  {
   "cell_type": "markdown",
   "metadata": {},
   "source": [
    "## transfer learning"
   ]
  },
  {
   "cell_type": "code",
   "execution_count": 7,
   "metadata": {},
   "outputs": [
    {
     "data": {
      "application/vnd.jupyter.widget-view+json": {
       "model_id": "51b8498f25e74693b115d08b754cf9b6",
       "version_major": 2,
       "version_minor": 0
      },
      "text/plain": [
       "VBox(children=(Label(value='Waiting for wandb.init()...\\r'), FloatProgress(value=0.011113131277832306, max=1.0…"
      ]
     },
     "metadata": {},
     "output_type": "display_data"
    },
    {
     "data": {
      "text/html": [
       "wandb version 0.17.6 is available!  To upgrade, please run:\n",
       " $ pip install wandb --upgrade"
      ],
      "text/plain": [
       "<IPython.core.display.HTML object>"
      ]
     },
     "metadata": {},
     "output_type": "display_data"
    },
    {
     "data": {
      "text/html": [
       "Tracking run with wandb version 0.17.4"
      ],
      "text/plain": [
       "<IPython.core.display.HTML object>"
      ]
     },
     "metadata": {},
     "output_type": "display_data"
    },
    {
     "data": {
      "text/html": [
       "Run data is saved locally in <code>/home/diba/wandb/run-20240812_141611-yw1e9m8e</code>"
      ],
      "text/plain": [
       "<IPython.core.display.HTML object>"
      ]
     },
     "metadata": {},
     "output_type": "display_data"
    },
    {
     "data": {
      "text/html": [
       "Syncing run <strong><a href='https://wandb.ai/d-hadjikazemi-queen-mary-university-of-london/FTL%20one%20class/runs/yw1e9m8e' target=\"_blank\">Transfer Learning phase_12-08-2024_14:16:02</a></strong> to <a href='https://wandb.ai/d-hadjikazemi-queen-mary-university-of-london/FTL%20one%20class' target=\"_blank\">Weights & Biases</a> (<a href='https://wandb.me/run' target=\"_blank\">docs</a>)<br/>"
      ],
      "text/plain": [
       "<IPython.core.display.HTML object>"
      ]
     },
     "metadata": {},
     "output_type": "display_data"
    },
    {
     "data": {
      "text/html": [
       " View project at <a href='https://wandb.ai/d-hadjikazemi-queen-mary-university-of-london/FTL%20one%20class' target=\"_blank\">https://wandb.ai/d-hadjikazemi-queen-mary-university-of-london/FTL%20one%20class</a>"
      ],
      "text/plain": [
       "<IPython.core.display.HTML object>"
      ]
     },
     "metadata": {},
     "output_type": "display_data"
    },
    {
     "data": {
      "text/html": [
       " View run at <a href='https://wandb.ai/d-hadjikazemi-queen-mary-university-of-london/FTL%20one%20class/runs/yw1e9m8e' target=\"_blank\">https://wandb.ai/d-hadjikazemi-queen-mary-university-of-london/FTL%20one%20class/runs/yw1e9m8e</a>"
      ],
      "text/plain": [
       "<IPython.core.display.HTML object>"
      ]
     },
     "metadata": {},
     "output_type": "display_data"
    },
    {
     "data": {
      "text/html": [
       "<button onClick=\"this.nextSibling.style.display='block';this.style.display='none';\">Display W&B run</button><iframe src='https://wandb.ai/d-hadjikazemi-queen-mary-university-of-london/FTL%20one%20class/runs/yw1e9m8e?jupyter=true' style='border:none;width:100%;height:420px;display:none;'></iframe>"
      ],
      "text/plain": [
       "<wandb.sdk.wandb_run.Run at 0x7f951db34a30>"
      ]
     },
     "execution_count": 7,
     "metadata": {},
     "output_type": "execute_result"
    }
   ],
   "source": [
    "wandb.init(\n",
    "    # set the wandb project where this run will be logged\n",
    "    project=\"FTL one class\",\n",
    "    name= \"Transfer Learning phase_{}\".format(date_time),\n",
    "    # track hyperparameters and run metadata\n",
    "    config={\n",
    "    \"learning_rate\": 0.0001,\n",
    "    \"architecture\": \"CNN\",\n",
    "    \"epochs\": 100,\n",
    "    \"batch_size\": 64,\n",
    "    \"decay\":0,\n",
    "    'dropout': 0.0,\n",
    "    \"learning_rate_TL\": 0.0001,\n",
    "    \"batch_size_TL\": 64,\n",
    "    \"decay_TL\":1e-5,\n",
    "    'num_rounds_TL': 40, \n",
    "    'epochs_TL': 100,\n",
    "    'dropout_TL': 0.001,\n",
    "    \"learning_rate_FL\": 0.0001,\n",
    "    \"batch_size_FL\": 64,\n",
    "    \"decay_FL\": 1e-5,\n",
    "    'num_rounds_FL': 50, \n",
    "    'epochs_FL': 100,\n",
    "    'dropout_FL': 0.001\n",
    "    }\n",
    ")"
   ]
  },
  {
   "cell_type": "code",
   "execution_count": 8,
   "metadata": {},
   "outputs": [
    {
     "name": "stdout",
     "output_type": "stream",
     "text": [
      "torch.Size([1002, 4, 50])\n",
      "(1670, 4, 50)\n",
      "torch.Size([936, 4, 50])\n",
      "(1560, 4, 50)\n",
      "torch.Size([1242, 4, 50])\n",
      "(2070, 4, 50)\n",
      "torch.Size([1014, 4, 50])\n",
      "(1690, 4, 50)\n"
     ]
    }
   ],
   "source": [
    "azure_data_paths = ['AZURE_data_1.pt', 'AZURE_data_2.pt','AZURE_data_3.pt','AZURE_data_4.pt']\n",
    "azure_label_paths = ['AZURE_label_1.pt','AZURE_label_2.pt','AZURE_label_3.pt','AZURE_label_4.pt']\n",
    "azure_train_loaders, azure_val_loaders, azure_test_loader, azure_train_loaders_transfer, azure_val_loaders_transfer = data_loading_AZURE(azure_data_paths, azure_label_paths, batch_size=configuration['batch_size_FL'])"
   ]
  },
  {
   "cell_type": "code",
   "execution_count": 9,
   "metadata": {},
   "outputs": [
    {
     "name": "stdout",
     "output_type": "stream",
     "text": [
      "\n",
      "Epoch 1/100\n",
      "Epoch 1: Training accuracy: 51.04166793823242 Testing accuracy: 43.589744567871094.\n",
      "\n",
      "Epoch 2/100\n",
      "Epoch 2: Training accuracy: 62.58012771606445 Testing accuracy: 53.20512771606445.\n",
      "\n",
      "Epoch 3/100\n",
      "Epoch 3: Training accuracy: 65.14423370361328 Testing accuracy: 56.410255432128906.\n",
      "\n",
      "Epoch 4/100\n",
      "Epoch 4: Training accuracy: 68.99038696289062 Testing accuracy: 62.17948532104492.\n",
      "\n",
      "Epoch 5/100\n",
      "Epoch 5: Training accuracy: 70.75320434570312 Testing accuracy: 64.1025619506836.\n",
      "\n",
      "Epoch 6/100\n",
      "Epoch 6: Training accuracy: 71.07371520996094 Testing accuracy: 66.66666412353516.\n",
      "\n",
      "Epoch 7/100\n",
      "Epoch 7: Training accuracy: 73.4775619506836 Testing accuracy: 67.94871520996094.\n",
      "\n",
      "Epoch 8/100\n",
      "Epoch 8: Training accuracy: 74.19871520996094 Testing accuracy: 69.87179565429688.\n",
      "\n",
      "Epoch 9/100\n",
      "Epoch 9: Training accuracy: 75.72115325927734 Testing accuracy: 68.5897445678711.\n",
      "\n",
      "Epoch 10/100\n",
      "Epoch 10: Training accuracy: 75.88140869140625 Testing accuracy: 68.5897445678711.\n",
      "\n",
      "Epoch 11/100\n",
      "Epoch 11: Training accuracy: 76.20191955566406 Testing accuracy: 69.87179565429688.\n",
      "\n",
      "Epoch 12/100\n",
      "Epoch 12: Training accuracy: 77.16345977783203 Testing accuracy: 70.5128173828125.\n",
      "\n",
      "Epoch 13/100\n",
      "Epoch 13: Training accuracy: 76.44230651855469 Testing accuracy: 70.5128173828125.\n",
      "\n",
      "Epoch 14/100\n",
      "Epoch 14: Training accuracy: 78.44551086425781 Testing accuracy: 70.5128173828125.\n",
      "\n",
      "Epoch 15/100\n",
      "Epoch 15: Training accuracy: 78.36538696289062 Testing accuracy: 70.5128173828125.\n",
      "\n",
      "Epoch 16/100\n",
      "Epoch 16: Training accuracy: 77.9647445678711 Testing accuracy: 70.5128173828125.\n",
      "\n",
      "Epoch 17/100\n",
      "Epoch 17: Training accuracy: 77.72435760498047 Testing accuracy: 70.5128173828125.\n",
      "\n",
      "Epoch 18/100\n",
      "Epoch 18: Training accuracy: 78.125 Testing accuracy: 71.15384674072266.\n",
      "\n",
      "Epoch 19/100\n",
      "Epoch 19: Training accuracy: 79.80769348144531 Testing accuracy: 71.79486846923828.\n",
      "\n",
      "Epoch 20/100\n",
      "Epoch 20: Training accuracy: 78.44551086425781 Testing accuracy: 71.79486846923828.\n",
      "\n",
      "Epoch 21/100\n",
      "Epoch 21: Training accuracy: 79.6474380493164 Testing accuracy: 71.79486846923828.\n",
      "\n",
      "Epoch 22/100\n",
      "Epoch 22: Training accuracy: 79.4871826171875 Testing accuracy: 71.79486846923828.\n",
      "\n",
      "Epoch 23/100\n",
      "Epoch 23: Training accuracy: 78.52564239501953 Testing accuracy: 71.79486846923828.\n",
      "\n",
      "Epoch 24/100\n",
      "Epoch 24: Training accuracy: 79.40705108642578 Testing accuracy: 71.79486846923828.\n",
      "\n",
      "Epoch 25/100\n",
      "Epoch 25: Training accuracy: 79.96794891357422 Testing accuracy: 72.43589782714844.\n",
      "\n",
      "Epoch 26/100\n",
      "Epoch 26: Training accuracy: 82.69230651855469 Testing accuracy: 75.0.\n",
      "\n",
      "Epoch 27/100\n",
      "Epoch 27: Training accuracy: 82.21154022216797 Testing accuracy: 73.07691955566406.\n",
      "\n",
      "Epoch 28/100\n",
      "Epoch 28: Training accuracy: 82.6121826171875 Testing accuracy: 75.64102935791016.\n",
      "\n",
      "Epoch 29/100\n",
      "Epoch 29: Training accuracy: 82.21154022216797 Testing accuracy: 76.28205108642578.\n",
      "\n",
      "Epoch 30/100\n",
      "Epoch 30: Training accuracy: 82.8525619506836 Testing accuracy: 75.64102935791016.\n",
      "\n",
      "Epoch 31/100\n",
      "Epoch 31: Training accuracy: 80.76923370361328 Testing accuracy: 73.07691955566406.\n",
      "\n",
      "Epoch 32/100\n",
      "Epoch 32: Training accuracy: 83.65384674072266 Testing accuracy: 77.56410217285156.\n",
      "\n",
      "Epoch 33/100\n",
      "Epoch 33: Training accuracy: 83.0128173828125 Testing accuracy: 76.92308044433594.\n",
      "\n",
      "Epoch 34/100\n",
      "Epoch 34: Training accuracy: 82.21154022216797 Testing accuracy: 75.64102935791016.\n",
      "\n",
      "Epoch 35/100\n",
      "Epoch 35: Training accuracy: 83.41345977783203 Testing accuracy: 76.92308044433594.\n",
      "\n",
      "Epoch 36/100\n",
      "Epoch 36: Training accuracy: 84.05448913574219 Testing accuracy: 76.92308044433594.\n",
      "\n",
      "Epoch 37/100\n",
      "Epoch 37: Training accuracy: 83.49359130859375 Testing accuracy: 76.92308044433594.\n",
      "\n",
      "Epoch 38/100\n",
      "Epoch 38: Training accuracy: 83.89423370361328 Testing accuracy: 77.56410217285156.\n",
      "\n",
      "Epoch 39/100\n",
      "Epoch 39: Training accuracy: 83.65384674072266 Testing accuracy: 77.56410217285156.\n",
      "\n",
      "Epoch 40/100\n",
      "Epoch 40: Training accuracy: 84.13461303710938 Testing accuracy: 76.28205108642578.\n",
      "\n",
      "Epoch 41/100\n",
      "Epoch 41: Training accuracy: 84.2147445678711 Testing accuracy: 76.92308044433594.\n",
      "\n",
      "Epoch 42/100\n",
      "Epoch 42: Training accuracy: 84.5352554321289 Testing accuracy: 76.92308044433594.\n",
      "\n",
      "Epoch 43/100\n",
      "Epoch 43: Training accuracy: 83.33333587646484 Testing accuracy: 77.56410217285156.\n",
      "\n",
      "Epoch 44/100\n",
      "Epoch 44: Training accuracy: 83.65384674072266 Testing accuracy: 76.28205108642578.\n",
      "\n",
      "Epoch 45/100\n",
      "Epoch 45: Training accuracy: 84.77564239501953 Testing accuracy: 78.20513153076172.\n",
      "\n",
      "Epoch 46/100\n",
      "Epoch 46: Training accuracy: 84.93589782714844 Testing accuracy: 76.92308044433594.\n",
      "\n",
      "Epoch 47/100\n",
      "Epoch 47: Training accuracy: 84.77564239501953 Testing accuracy: 78.20513153076172.\n",
      "\n",
      "Epoch 48/100\n",
      "Epoch 48: Training accuracy: 84.77564239501953 Testing accuracy: 78.20513153076172.\n",
      "\n",
      "Epoch 49/100\n",
      "Epoch 49: Training accuracy: 82.7724380493164 Testing accuracy: 76.92308044433594.\n",
      "\n",
      "Epoch 50/100\n",
      "Epoch 50: Training accuracy: 85.01602935791016 Testing accuracy: 76.92308044433594.\n",
      "\n",
      "Epoch 51/100\n",
      "Epoch 51: Training accuracy: 84.85576629638672 Testing accuracy: 78.20513153076172.\n",
      "\n",
      "Epoch 52/100\n",
      "Epoch 52: Training accuracy: 85.33654022216797 Testing accuracy: 78.84615325927734.\n",
      "\n",
      "Epoch 53/100\n",
      "Epoch 53: Training accuracy: 85.33654022216797 Testing accuracy: 77.56410217285156.\n",
      "\n",
      "Epoch 54/100\n",
      "Epoch 54: Training accuracy: 84.85576629638672 Testing accuracy: 77.56410217285156.\n",
      "\n",
      "Epoch 55/100\n",
      "Epoch 55: Training accuracy: 85.17628479003906 Testing accuracy: 79.4871826171875.\n",
      "\n",
      "Epoch 56/100\n",
      "Epoch 56: Training accuracy: 85.09615325927734 Testing accuracy: 75.64102935791016.\n",
      "\n",
      "Epoch 57/100\n",
      "Epoch 57: Training accuracy: 85.25640869140625 Testing accuracy: 78.84615325927734.\n",
      "\n",
      "Epoch 58/100\n",
      "Epoch 58: Training accuracy: 85.17628479003906 Testing accuracy: 78.20513153076172.\n",
      "\n",
      "Epoch 59/100\n",
      "Epoch 59: Training accuracy: 85.17628479003906 Testing accuracy: 78.84615325927734.\n",
      "\n",
      "Epoch 60/100\n",
      "Epoch 60: Training accuracy: 85.41666412353516 Testing accuracy: 78.84615325927734.\n",
      "\n",
      "Epoch 61/100\n",
      "Epoch 61: Training accuracy: 85.01602935791016 Testing accuracy: 76.92308044433594.\n",
      "\n",
      "Epoch 62/100\n",
      "Epoch 62: Training accuracy: 84.85576629638672 Testing accuracy: 78.20513153076172.\n",
      "\n",
      "Epoch 63/100\n",
      "Epoch 63: Training accuracy: 85.49679565429688 Testing accuracy: 78.84615325927734.\n",
      "\n",
      "Epoch 64/100\n",
      "Epoch 64: Training accuracy: 85.49679565429688 Testing accuracy: 77.56410217285156.\n",
      "\n",
      "Epoch 65/100\n",
      "Epoch 65: Training accuracy: 85.49679565429688 Testing accuracy: 79.4871826171875.\n",
      "\n",
      "Epoch 66/100\n",
      "Epoch 66: Training accuracy: 85.57691955566406 Testing accuracy: 78.84615325927734.\n",
      "\n",
      "Epoch 67/100\n",
      "Epoch 67: Training accuracy: 85.65705108642578 Testing accuracy: 79.4871826171875.\n",
      "\n",
      "Epoch 68/100\n",
      "Epoch 68: Training accuracy: 83.97435760498047 Testing accuracy: 77.56410217285156.\n",
      "\n",
      "Epoch 69/100\n",
      "Epoch 69: Training accuracy: 83.41345977783203 Testing accuracy: 76.28205108642578.\n",
      "\n",
      "Epoch 70/100\n",
      "Epoch 70: Training accuracy: 84.29486846923828 Testing accuracy: 76.92308044433594.\n",
      "\n",
      "Epoch 71/100\n",
      "Epoch 71: Training accuracy: 85.25640869140625 Testing accuracy: 77.56410217285156.\n",
      "\n",
      "Epoch 72/100\n",
      "Epoch 72: Training accuracy: 85.49679565429688 Testing accuracy: 80.12820434570312.\n",
      "\n",
      "Epoch 73/100\n",
      "Epoch 73: Training accuracy: 83.89423370361328 Testing accuracy: 76.28205108642578.\n",
      "\n",
      "Epoch 74/100\n",
      "Epoch 74: Training accuracy: 85.33654022216797 Testing accuracy: 75.64102935791016.\n",
      "\n",
      "Epoch 75/100\n",
      "Epoch 75: Training accuracy: 85.7371826171875 Testing accuracy: 78.84615325927734.\n",
      "\n",
      "Epoch 76/100\n",
      "Epoch 76: Training accuracy: 85.49679565429688 Testing accuracy: 77.56410217285156.\n",
      "\n",
      "Epoch 77/100\n",
      "Epoch 77: Training accuracy: 85.57691955566406 Testing accuracy: 80.12820434570312.\n",
      "\n",
      "Epoch 78/100\n",
      "Epoch 78: Training accuracy: 84.61538696289062 Testing accuracy: 76.28205108642578.\n",
      "\n",
      "Epoch 79/100\n",
      "Epoch 79: Training accuracy: 85.65705108642578 Testing accuracy: 79.4871826171875.\n",
      "\n",
      "Epoch 80/100\n",
      "Epoch 80: Training accuracy: 85.57691955566406 Testing accuracy: 78.84615325927734.\n",
      "\n",
      "Epoch 81/100\n",
      "Epoch 81: Training accuracy: 85.8974380493164 Testing accuracy: 80.12820434570312.\n",
      "\n",
      "Epoch 82/100\n",
      "Epoch 82: Training accuracy: 85.81730651855469 Testing accuracy: 80.12820434570312.\n",
      "\n",
      "Epoch 83/100\n",
      "Epoch 83: Training accuracy: 85.49679565429688 Testing accuracy: 78.20513153076172.\n",
      "\n",
      "Epoch 84/100\n",
      "Epoch 84: Training accuracy: 85.09615325927734 Testing accuracy: 77.56410217285156.\n",
      "\n",
      "Epoch 85/100\n",
      "Epoch 85: Training accuracy: 85.65705108642578 Testing accuracy: 78.20513153076172.\n",
      "\n",
      "Epoch 86/100\n",
      "Epoch 86: Training accuracy: 85.49679565429688 Testing accuracy: 78.20513153076172.\n",
      "\n",
      "Epoch 87/100\n",
      "Epoch 87: Training accuracy: 85.8974380493164 Testing accuracy: 78.84615325927734.\n",
      "\n",
      "Epoch 88/100\n",
      "Epoch 88: Training accuracy: 85.7371826171875 Testing accuracy: 79.4871826171875.\n",
      "\n",
      "Epoch 89/100\n",
      "Epoch 89: Training accuracy: 85.57691955566406 Testing accuracy: 79.4871826171875.\n",
      "\n",
      "Epoch 90/100\n",
      "Epoch 90: Training accuracy: 85.57691955566406 Testing accuracy: 78.84615325927734.\n",
      "\n",
      "Epoch 91/100\n",
      "Epoch 91: Training accuracy: 85.81730651855469 Testing accuracy: 78.84615325927734.\n",
      "\n",
      "Epoch 92/100\n",
      "Epoch 92: Training accuracy: 85.8974380493164 Testing accuracy: 78.84615325927734.\n",
      "\n",
      "Epoch 93/100\n",
      "Epoch 93: Training accuracy: 85.9775619506836 Testing accuracy: 78.84615325927734.\n",
      "\n",
      "Epoch 94/100\n",
      "Epoch 94: Training accuracy: 82.6121826171875 Testing accuracy: 74.35897064208984.\n",
      "\n",
      "Epoch 95/100\n",
      "Epoch 95: Training accuracy: 86.05769348144531 Testing accuracy: 78.84615325927734.\n",
      "\n",
      "Epoch 96/100\n",
      "Epoch 96: Training accuracy: 83.65384674072266 Testing accuracy: 77.56410217285156.\n",
      "\n",
      "Epoch 97/100\n",
      "Epoch 97: Training accuracy: 85.7371826171875 Testing accuracy: 80.12820434570312.\n",
      "\n",
      "Epoch 98/100\n",
      "Epoch 98: Training accuracy: 84.93589782714844 Testing accuracy: 78.84615325927734.\n",
      "\n",
      "Epoch 99/100\n",
      "Epoch 99: Training accuracy: 85.25640869140625 Testing accuracy: 78.84615325927734.\n",
      "\n",
      "Epoch 100/100\n",
      "Epoch 100: Training accuracy: 84.77564239501953 Testing accuracy: 79.4871826171875.\n",
      "Epoch 1: validation loss 0.1664439340432485, accuracy 79.4871826171875\n",
      "Final test set performance:\n",
      "\tloss 0.1664439340432485\n",
      "\taccuracy 79.4871826171875\n"
     ]
    },
    {
     "name": "stderr",
     "output_type": "stream",
     "text": [
      "/home/diba/miniconda3/envs/FTL/lib/python3.10/site-packages/wandb/sdk/lib/ipython.py:89: DeprecationWarning: Importing display from IPython.core.display is deprecated since IPython 7.14, please import from IPython display\n",
      "  from IPython.core.display import display\n"
     ]
    },
    {
     "data": {
      "application/vnd.jupyter.widget-view+json": {
       "model_id": "bda071b3e7f143889fd9db318295b8fb",
       "version_major": 2,
       "version_minor": 0
      },
      "text/plain": [
       "VBox(children=(Label(value='0.004 MB of 0.004 MB uploaded\\r'), FloatProgress(value=1.0, max=1.0)))"
      ]
     },
     "metadata": {},
     "output_type": "display_data"
    },
    {
     "data": {
      "text/html": [
       "<style>\n",
       "    table.wandb td:nth-child(1) { padding: 0 10px; text-align: left ; width: auto;} td:nth-child(2) {text-align: left ; width: 100%}\n",
       "    .wandb-row { display: flex; flex-direction: row; flex-wrap: wrap; justify-content: flex-start; width: 100% }\n",
       "    .wandb-col { display: flex; flex-direction: column; flex-basis: 100%; flex: 1; padding: 10px; }\n",
       "    </style>\n",
       "<div class=\"wandb-row\"><div class=\"wandb-col\"><h3>Run history:</h3><br/><table class=\"wandb\"><tr><td>transfer training accuraccy</td><td>▁▄▅▆▆▆▆▆▇▇▇▇▇▇█████▇█████████████████▇██</td></tr><tr><td>transfer validation accuracy</td><td>▁▃▅▆▆▆▆▆▆▆▇▇▇▇▇█▇▇▇▇██▇█▇██▇█▇███████▇██</td></tr></table><br/></div><div class=\"wandb-col\"><h3>Run summary:</h3><br/><table class=\"wandb\"><tr><td>transfer training accuraccy</td><td>84.77564</td></tr><tr><td>transfer validation accuracy</td><td>79.48718</td></tr></table><br/></div></div>"
      ],
      "text/plain": [
       "<IPython.core.display.HTML object>"
      ]
     },
     "metadata": {},
     "output_type": "display_data"
    },
    {
     "data": {
      "text/html": [
       " View run <strong style=\"color:#cdcd00\">Transfer Learning phase_12-08-2024_14:16:02</strong> at: <a href='https://wandb.ai/d-hadjikazemi-queen-mary-university-of-london/FTL%20one%20class/runs/yw1e9m8e' target=\"_blank\">https://wandb.ai/d-hadjikazemi-queen-mary-university-of-london/FTL%20one%20class/runs/yw1e9m8e</a><br/> View project at: <a href='https://wandb.ai/d-hadjikazemi-queen-mary-university-of-london/FTL%20one%20class' target=\"_blank\">https://wandb.ai/d-hadjikazemi-queen-mary-university-of-london/FTL%20one%20class</a><br/>Synced 6 W&B file(s), 0 media file(s), 0 artifact file(s) and 0 other file(s)"
      ],
      "text/plain": [
       "<IPython.core.display.HTML object>"
      ]
     },
     "metadata": {},
     "output_type": "display_data"
    },
    {
     "data": {
      "text/html": [
       "Find logs at: <code>./wandb/run-20240812_141611-yw1e9m8e/logs</code>"
      ],
      "text/plain": [
       "<IPython.core.display.HTML object>"
      ]
     },
     "metadata": {},
     "output_type": "display_data"
    },
    {
     "data": {
      "text/html": [
       "The new W&B backend becomes opt-out in version 0.18.0; try it out with `wandb.require(\"core\")`! See https://wandb.me/wandb-core for more information."
      ],
      "text/plain": [
       "<IPython.core.display.HTML object>"
      ]
     },
     "metadata": {},
     "output_type": "display_data"
    },
    {
     "data": {
      "image/png": "[encoded data removed]",
      "text/plain": [
       "<Figure size 640x480 with 1 Axes>"
      ]
     },
     "metadata": {},
     "output_type": "display_data"
    }
   ],
   "source": [
    "losses_transfer = []\n",
    "accuracies_transfer = []\n",
    "for epoch in range(1):\n",
    "    train(net, azure_train_loaders_transfer, azure_val_loaders_transfer, configuration, configuration['epochs'], name= \"transfer\")\n",
    "    loss, accuracy = test(net, azure_val_loaders_transfer, configuration)\n",
    "    losses_transfer.append(loss)\n",
    "    accuracies_transfer.append(int(accuracy))\n",
    "    print(f\"Epoch {epoch+1}: validation loss {loss}, accuracy {accuracy}\")\n",
    "# plt.plot(accuracies)\n",
    "losses_transfer, accuracy_transfer = test(net, testloader, configuration=configuration)\n",
    "print(f\"Final test set performance:\\n\\tloss {loss}\\n\\taccuracy {accuracy}\")\n",
    "wandb.finish()"
   ]
  },
  {
   "cell_type": "markdown",
   "metadata": {},
   "source": [
    "trainloader = train_loaders[1]\n",
    "valloader = val_loaders[1]\n",
    "testloader = test_loaders[1]\n",
    "net = Neural_Network().to(device)\n",
    "losses = []\n",
    "accuracies = []\n",
    "for epoch in range(1):\n",
    "    train(net, trainloader, testloader, configuration, configuration['epochs'])\n",
    "    loss, accuracy = test(net, valloader, configuration)\n",
    "    losses.append(loss)\n",
    "    accuracies.append(int(accuracy))\n",
    "    print(f\"Epoch {epoch+1}: validation loss {loss}, accuracy {accuracy}\")\n",
    "<!-- # plt.plot(accuracies) -->\n",
    "loss, accuracy = test(net, testloader, configuration=configuration)\n",
    "print(f\"Final test set performance:\\n\\tloss {loss}\\n\\taccuracy {accuracy}\")"
   ]
  },
  {
   "cell_type": "markdown",
   "metadata": {},
   "source": [
    "## Federated Learning"
   ]
  },
  {
   "cell_type": "code",
   "execution_count": 10,
   "metadata": {},
   "outputs": [
    {
     "data": {
      "application/vnd.jupyter.widget-view+json": {
       "model_id": "50512d0184724a8bbad30f181edf6b8f",
       "version_major": 2,
       "version_minor": 0
      },
      "text/plain": [
       "VBox(children=(Label(value='Waiting for wandb.init()...\\r'), FloatProgress(value=0.011112865399465793, max=1.0…"
      ]
     },
     "metadata": {},
     "output_type": "display_data"
    },
    {
     "data": {
      "text/html": [
       "wandb version 0.17.6 is available!  To upgrade, please run:\n",
       " $ pip install wandb --upgrade"
      ],
      "text/plain": [
       "<IPython.core.display.HTML object>"
      ]
     },
     "metadata": {},
     "output_type": "display_data"
    },
    {
     "data": {
      "text/html": [
       "Tracking run with wandb version 0.17.4"
      ],
      "text/plain": [
       "<IPython.core.display.HTML object>"
      ]
     },
     "metadata": {},
     "output_type": "display_data"
    },
    {
     "data": {
      "text/html": [
       "Run data is saved locally in <code>/home/diba/wandb/run-20240812_141620-kfmlpmo1</code>"
      ],
      "text/plain": [
       "<IPython.core.display.HTML object>"
      ]
     },
     "metadata": {},
     "output_type": "display_data"
    },
    {
     "data": {
      "text/html": [
       "Syncing run <strong><a href='https://wandb.ai/d-hadjikazemi-queen-mary-university-of-london/FTL%20one%20class/runs/kfmlpmo1' target=\"_blank\">federated learning phase_12-08-2024_14:16:02</a></strong> to <a href='https://wandb.ai/d-hadjikazemi-queen-mary-university-of-london/FTL%20one%20class' target=\"_blank\">Weights & Biases</a> (<a href='https://wandb.me/run' target=\"_blank\">docs</a>)<br/>"
      ],
      "text/plain": [
       "<IPython.core.display.HTML object>"
      ]
     },
     "metadata": {},
     "output_type": "display_data"
    },
    {
     "data": {
      "text/html": [
       " View project at <a href='https://wandb.ai/d-hadjikazemi-queen-mary-university-of-london/FTL%20one%20class' target=\"_blank\">https://wandb.ai/d-hadjikazemi-queen-mary-university-of-london/FTL%20one%20class</a>"
      ],
      "text/plain": [
       "<IPython.core.display.HTML object>"
      ]
     },
     "metadata": {},
     "output_type": "display_data"
    },
    {
     "data": {
      "text/html": [
       " View run at <a href='https://wandb.ai/d-hadjikazemi-queen-mary-university-of-london/FTL%20one%20class/runs/kfmlpmo1' target=\"_blank\">https://wandb.ai/d-hadjikazemi-queen-mary-university-of-london/FTL%20one%20class/runs/kfmlpmo1</a>"
      ],
      "text/plain": [
       "<IPython.core.display.HTML object>"
      ]
     },
     "metadata": {},
     "output_type": "display_data"
    },
    {
     "data": {
      "text/html": [
       "<button onClick=\"this.nextSibling.style.display='block';this.style.display='none';\">Display W&B run</button><iframe src='https://wandb.ai/d-hadjikazemi-queen-mary-university-of-london/FTL%20one%20class/runs/kfmlpmo1?jupyter=true' style='border:none;width:100%;height:420px;display:none;'></iframe>"
      ],
      "text/plain": [
       "<wandb.sdk.wandb_run.Run at 0x7f94afe8de40>"
      ]
     },
     "execution_count": 10,
     "metadata": {},
     "output_type": "execute_result"
    }
   ],
   "source": [
    "wandb.init(\n",
    "    # set the wandb project where this run will be logged\n",
    "    project=\"FTL one class\",\n",
    "    name= \"federated learning phase_{}\".format(date_time),\n",
    "    # track hyperparameters and run metadata\n",
    "    config={\n",
    "    \"learning_rate\": 0.0001,\n",
    "    \"architecture\": \"CNN\",\n",
    "    \"epochs\": 100,\n",
    "    \"batch_size\": 64,\n",
    "    \"decay\":0,\n",
    "    'dropout': 0.0,\n",
    "    \"learning_rate_TL\": 0.0001,\n",
    "    \"batch_size_TL\": 64,\n",
    "    \"decay_TL\":1e-5,\n",
    "    'num_rounds_TL': 40, \n",
    "    'epochs_TL': 100,\n",
    "    'dropout_TL': 0.001,\n",
    "    \"learning_rate_FL\": 0.0001,\n",
    "    \"batch_size_FL\": 64,\n",
    "    \"decay_FL\": 1e-5,\n",
    "    'num_rounds_FL': 50, \n",
    "    'epochs_FL': 100,\n",
    "    'dropout_FL': 0.001\n",
    "    }\n",
    ")"
   ]
  },
  {
   "cell_type": "code",
   "execution_count": 11,
   "metadata": {},
   "outputs": [],
   "source": [
    "# Define the CNN architecture\n",
    "class Neural_Network_FL(nn.Module):\n",
    "    def __init__(self):\n",
    "        super(Neural_Network_FL, self).__init__()\n",
    "        self.conv1 = nn.Conv1d(in_channels=4, out_channels=8, kernel_size=5)\n",
    "        self.conv2 = nn.Conv1d(in_channels=8, out_channels=8, kernel_size=5)\n",
    "        self.pool = nn.MaxPool1d(kernel_size=2, padding=0, stride=1)\n",
    "        # the size of the out channels x number  of nodes \n",
    "        self.fc1 = nn.Linear(328, 200)\n",
    "        self.fc2 = nn.Linear(200, 2)\n",
    "        self.flatten = nn.Flatten()\n",
    "        self.relu = nn.ReLU()\n",
    "        self.dropout = nn.Dropout(configuration['dropout'])\n",
    "        self.sigmoid = nn.Sigmoid()\n",
    "\n",
    "    def forward(self, x):\n",
    "        x = self.relu(self.conv1(x))\n",
    "        x = self.relu(self.conv2(x))\n",
    "        x = self.dropout(x)\n",
    "        x = self.pool(x)\n",
    "        x = self.flatten(x)\n",
    "        x = self.relu(self.fc1(x))\n",
    "        x - self.dropout(x)\n",
    "        x = self.sigmoid(self.fc2(x))\n",
    "        return x"
   ]
  },
  {
   "cell_type": "code",
   "execution_count": 12,
   "metadata": {},
   "outputs": [],
   "source": [
    "def train_FL(model, train_loaders,test_loader, config, epochs):\n",
    "    loss = nn.CrossEntropyLoss()\n",
    "    optimizer = torch.optim.Adam(model.parameters(), lr=config['learning_rate'], weight_decay=config['decay'])\n",
    "    losses = [] # Stores the loss for each training batch\n",
    "    train_accs = [] # Stores the training accuracy after each epoch\n",
    "    test_accs = []\n",
    "    \n",
    "    for epoch in range(epochs):\n",
    "        print(f'\\nEpoch {epoch + 1}/{epochs}')\n",
    "        total, epoch_loss = 0, 0.0\n",
    "        model.train() # This is necessary because batch normalization behaves differently between training and evaluation\n",
    "        \n",
    "        for X, y in train_loaders:\n",
    "            X, y = X.to(device), y.to(device) # Moves data to `device`\n",
    "            logits = model(X) # Computes the logits for the batch of images `X`\n",
    "            l = loss(logits, y) # Computes the loss given the `logits` and the class vector `y`\n",
    "            optimizer.zero_grad() # Zeroes the gradients stored in the model parameters\n",
    "            l.backward() # Computes the gradient of the loss `l` with respect to the model parameters\n",
    "\n",
    "            optimizer.step() # Updates the model parameters based on the gradients stored inside them\n",
    "            epoch_loss += l\n",
    "            \n",
    "        model.eval() # This is necessary because batch normalization behaves differently between training and evaluation\n",
    "        train_acc = evaluate_metric(model, train_loaders, correct)\n",
    "        train_accs.append(train_acc)\n",
    "        test_acc = evaluate_metric(model, test_loader, correct)\n",
    "        test_accs.append(test_acc)\n",
    "        print(f'Epoch {epoch+1}: Training accuracy: {train_accs[-1]} Testing accuracy: {test_accs[-1]}.') # Computes and displays training/testing dataset accuracy.\n",
    "    plt.plot(list(map(lambda x: x.cpu(),train_accs)), label='Training accuracy')\n",
    "    plt.plot(list(map(lambda x: x.cpu(),test_accs)), label='Validation accuracy')\n",
    "    plt.title('accuracies')\n",
    "    plt.legend()\n"
   ]
  },
  {
   "cell_type": "code",
   "execution_count": 13,
   "metadata": {},
   "outputs": [],
   "source": [
    "def get_parameters(model):\n",
    "    # Return model parameters as a list of NumPy ndarrays, excluding parameters of BN layers when using FedBN\n",
    "    return [val.cpu().numpy() for name, val in model.state_dict().items() if ('bn1' not in name and 'bn2' not in name)]\n",
    "\n",
    "def set_parameters(model, parameters):\n",
    "    # Set model parameters from a list of NumPy ndarrays\n",
    "    keys = [k for k in model.state_dict().keys() if 'bn' not in k]\n",
    "    params_dict = zip(keys, parameters)\n",
    "    state_dict = OrderedDict({k: torch.tensor(v) for k, v in params_dict})\n",
    "    model.load_state_dict(state_dict, strict=False)\n",
    "\n",
    "net_FL = Neural_Network_FL().to(device)\n",
    "parameters_centralized = get_parameters(net)\n",
    "set_parameters(net_FL, parameters_centralized)\n",
    "step = 0"
   ]
  },
  {
   "cell_type": "code",
   "execution_count": 14,
   "metadata": {},
   "outputs": [],
   "source": [
    "class FlowerClient(fl.client.NumPyClient):\n",
    "    def __init__(self, net, trainloader, valloader, configuration):\n",
    "        self.net = net\n",
    "        self.trainloader = trainloader\n",
    "        self.valloader = valloader\n",
    "\n",
    "    def get_parameters(self, config):\n",
    "        return get_parameters(self.net)\n",
    "\n",
    "    def fit(self, parameters, config):\n",
    "        set_parameters(self.net, parameters)\n",
    "        train_FL(self.net, self.trainloader,self.valloader,configuration, configuration['epochs_FL'])\n",
    "        return get_parameters(self.net), len(self.trainloader), {}\n",
    "\n",
    "    def evaluate(self, parameters, config):\n",
    "        set_parameters(self.net, parameters)\n",
    "        loss, accuracy = test(self.net, self.valloader, configuration)\n",
    "        return float(loss), len(self.valloader), {\"accuracy\": float(accuracy)}\n",
    "    \n",
    "\n",
    "def client_fn(cid) -> FlowerClient:\n",
    "    net = Neural_Network().to(device)\n",
    "    trainloader = azure_train_loaders[int(cid)]\n",
    "    valloader = azure_val_loaders[int(cid)]\n",
    "    return FlowerClient(net_FL, trainloader, valloader, configuration).to_client()\n"
   ]
  },
  {
   "cell_type": "code",
   "execution_count": 15,
   "metadata": {},
   "outputs": [
    {
     "name": "stderr",
     "output_type": "stream",
     "text": [
      "\u001b[93mWARNING \u001b[0m:   \n",
      "Setting `min_available_clients` lower than `min_fit_clients` or\n",
      "`min_evaluate_clients` can cause the server to fail when there are too few clients\n",
      "connected to the server. `min_available_clients` must be set to a value larger\n",
      "than or equal to the values of `min_fit_clients` and `min_evaluate_clients`.\n",
      "\n",
      "\u001b[92mINFO \u001b[0m:      Starting Flower simulation, config: num_rounds=50, no round_timeout\n",
      "2024-08-12 14:16:25,258\tINFO worker.py:1621 -- Started a local Ray instance.\n",
      "\u001b[92mINFO \u001b[0m:      Flower VCE: Ray initialized with resources: {'CPU': 32.0, 'node:__internal_head__': 1.0, 'node:192.168.1.146': 1.0, 'memory': 122093650125.0, 'object_store_memory': 56611564339.0, 'GPU': 2.0, 'accelerator_type:G': 1.0}\n",
      "\u001b[92mINFO \u001b[0m:      Optimize your simulation with Flower VCE: https://flower.ai/docs/framework/how-to-run-simulations.html\n",
      "\u001b[92mINFO \u001b[0m:      Flower VCE: Resources for each Virtual Client: {'num_cpus': 1, 'num_gpus': 1.0}\n",
      "\u001b[92mINFO \u001b[0m:      Flower VCE: Creating VirtualClientEngineActorPool with 2 actors\n",
      "\u001b[92mINFO \u001b[0m:      [INIT]\n",
      "\u001b[92mINFO \u001b[0m:      Using initial global parameters provided by strategy\n",
      "\u001b[92mINFO \u001b[0m:      Evaluating initial global parameters\n",
      "\u001b[92mINFO \u001b[0m:      initial parameters (loss, other metrics): 0.0702885010025718, {'accuracy': tensor(49.9285, device='cuda:0')}\n",
      "\u001b[92mINFO \u001b[0m:      \n",
      "\u001b[92mINFO \u001b[0m:      [ROUND 1]\n",
      "\u001b[92mINFO \u001b[0m:      configure_fit: strategy sampled 3 clients (out of 3)\n"
     ]
    },
    {
     "name": "stdout",
     "output_type": "stream",
     "text": [
      "Server-side evaluation loss 0.0702885010025718 / accuracy 49.928470611572266\n",
      "\u001b[2m\u001b[36m(ClientAppActor pid=2290805)\u001b[0m \n",
      "\u001b[2m\u001b[36m(ClientAppActor pid=2290805)\u001b[0m Epoch 1/100\n",
      "\u001b[2m\u001b[36m(ClientAppActor pid=2290805)\u001b[0m Epoch 1: Training accuracy: 50.299400329589844 Testing accuracy: 45.50898361206055.\n",
      "\u001b[2m\u001b[36m(ClientAppActor pid=2290805)\u001b[0m Epoch 2: Training accuracy: 50.299400329589844 Testing accuracy: 45.50898361206055.\n",
      "\u001b[2m\u001b[36m(ClientAppActor pid=2290805)\u001b[0m Epoch 3: Training accuracy: 50.299400329589844 Testing accuracy: 45.50898361206055.\n",
      "\u001b[2m\u001b[36m(ClientAppActor pid=2290805)\u001b[0m Epoch 4: Training accuracy: 50.299400329589844 Testing accuracy: 45.50898361206055.\n",
      "\u001b[2m\u001b[36m(ClientAppActor pid=2290805)\u001b[0m \u001b[32m [repeated 280x across cluster] (Ray deduplicates logs by default. Set RAY_DEDUP_LOGS=0 to disable log deduplication, or see https://docs.ray.io/en/master/ray-observability/ray-logging.html#log-deduplication for more options.)\u001b[0m\n",
      "\u001b[2m\u001b[36m(ClientAppActor pid=2290805)\u001b[0m Epoch 81/100\u001b[32m [repeated 280x across cluster]\u001b[0m\n",
      "\u001b[2m\u001b[36m(ClientAppActor pid=2290805)\u001b[0m Epoch 87: Training accuracy: 50.72463607788086 Testing accuracy: 48.79227066040039.\u001b[32m [repeated 283x across cluster]\u001b[0m\n"
     ]
    },
    {
     "name": "stderr",
     "output_type": "stream",
     "text": [
      "\u001b[92mINFO \u001b[0m:      aggregate_fit: received 3 results and 0 failures\n",
      "\u001b[93mWARNING \u001b[0m:   No fit_metrics_aggregation_fn provided\n",
      "\u001b[92mINFO \u001b[0m:      fit progress: (1, 0.06296704574064775, {'accuracy': tensor(49.9285, device='cuda:0')}, 7.068868450005539)\n",
      "\u001b[92mINFO \u001b[0m:      configure_evaluate: strategy sampled 1 clients (out of 3)\n",
      "\u001b[92mINFO \u001b[0m:      aggregate_evaluate: received 1 results and 0 failures\n",
      "\u001b[92mINFO \u001b[0m:      \n",
      "\u001b[92mINFO \u001b[0m:      [ROUND 2]\n",
      "\u001b[92mINFO \u001b[0m:      configure_fit: strategy sampled 3 clients (out of 3)\n"
     ]
    },
    {
     "name": "stdout",
     "output_type": "stream",
     "text": [
      "Server-side evaluation loss 0.06296704574064775 / accuracy 49.928470611572266\n",
      "\u001b[2m\u001b[36m(ClientAppActor pid=2290805)\u001b[0m \u001b[32m [repeated 282x across cluster]\u001b[0m\n",
      "\u001b[2m\u001b[36m(ClientAppActor pid=2290805)\u001b[0m Epoch 63/100\u001b[32m [repeated 282x across cluster]\u001b[0m\n",
      "\u001b[2m\u001b[36m(ClientAppActor pid=2290805)\u001b[0m Epoch 69: Training accuracy: 50.72463607788086 Testing accuracy: 48.79227066040039.\u001b[32m [repeated 282x across cluster]\u001b[0m\n"
     ]
    },
    {
     "name": "stderr",
     "output_type": "stream",
     "text": [
      "\u001b[92mINFO \u001b[0m:      aggregate_fit: received 3 results and 0 failures\n",
      "\u001b[92mINFO \u001b[0m:      fit progress: (2, 0.06283263726667924, {'accuracy': tensor(49.9285, device='cuda:0')}, 12.673706745961681)\n",
      "\u001b[92mINFO \u001b[0m:      configure_evaluate: strategy sampled 1 clients (out of 3)\n",
      "\u001b[92mINFO \u001b[0m:      aggregate_evaluate: received 1 results and 0 failures\n",
      "\u001b[92mINFO \u001b[0m:      \n",
      "\u001b[92mINFO \u001b[0m:      [ROUND 3]\n",
      "\u001b[92mINFO \u001b[0m:      configure_fit: strategy sampled 3 clients (out of 3)\n"
     ]
    },
    {
     "name": "stdout",
     "output_type": "stream",
     "text": [
      "Server-side evaluation loss 0.06283263726667924 / accuracy 49.928470611572266\n",
      "\u001b[2m\u001b[36m(ClientAppActor pid=2290804)\u001b[0m \u001b[32m [repeated 294x across cluster]\u001b[0m\n",
      "\u001b[2m\u001b[36m(ClientAppActor pid=2290804)\u001b[0m Epoch 57/100\u001b[32m [repeated 294x across cluster]\u001b[0m\n",
      "\u001b[2m\u001b[36m(ClientAppActor pid=2290804)\u001b[0m Epoch 65: Training accuracy: 61.97604751586914 Testing accuracy: 58.68263626098633.\u001b[32m [repeated 296x across cluster]\u001b[0m\n"
     ]
    },
    {
     "name": "stderr",
     "output_type": "stream",
     "text": [
      "\u001b[92mINFO \u001b[0m:      aggregate_fit: received 3 results and 0 failures\n",
      "\u001b[92mINFO \u001b[0m:      fit progress: (3, 0.061996649612079964, {'accuracy': tensor(73.1044, device='cuda:0')}, 17.685091070015915)\n",
      "\u001b[92mINFO \u001b[0m:      configure_evaluate: strategy sampled 1 clients (out of 3)\n",
      "\u001b[92mINFO \u001b[0m:      aggregate_evaluate: received 1 results and 0 failures\n",
      "\u001b[92mINFO \u001b[0m:      \n",
      "\u001b[92mINFO \u001b[0m:      [ROUND 4]\n",
      "\u001b[92mINFO \u001b[0m:      configure_fit: strategy sampled 3 clients (out of 3)\n"
     ]
    },
    {
     "name": "stdout",
     "output_type": "stream",
     "text": [
      "Server-side evaluation loss 0.061996649612079964 / accuracy 73.10443115234375\n",
      "\u001b[2m\u001b[36m(ClientAppActor pid=2290804)\u001b[0m \u001b[32m [repeated 296x across cluster]\u001b[0m\n",
      "\u001b[2m\u001b[36m(ClientAppActor pid=2290804)\u001b[0m Epoch 53/100\u001b[32m [repeated 296x across cluster]\u001b[0m\n",
      "\u001b[2m\u001b[36m(ClientAppActor pid=2290804)\u001b[0m Epoch 59: Training accuracy: 66.78743743896484 Testing accuracy: 68.1159439086914.\u001b[32m [repeated 294x across cluster]\u001b[0m\n"
     ]
    },
    {
     "name": "stderr",
     "output_type": "stream",
     "text": [
      "\u001b[92mINFO \u001b[0m:      aggregate_fit: received 3 results and 0 failures\n",
      "\u001b[92mINFO \u001b[0m:      fit progress: (4, 0.058676925572482025, {'accuracy': tensor(71.6738, device='cuda:0')}, 23.13118555105757)\n",
      "\u001b[92mINFO \u001b[0m:      configure_evaluate: strategy sampled 1 clients (out of 3)\n",
      "\u001b[92mINFO \u001b[0m:      aggregate_evaluate: received 1 results and 0 failures\n",
      "\u001b[92mINFO \u001b[0m:      \n",
      "\u001b[92mINFO \u001b[0m:      [ROUND 5]\n",
      "\u001b[92mINFO \u001b[0m:      configure_fit: strategy sampled 3 clients (out of 3)\n"
     ]
    },
    {
     "name": "stdout",
     "output_type": "stream",
     "text": [
      "Server-side evaluation loss 0.058676925572482025 / accuracy 71.67382049560547\n",
      "\u001b[2m\u001b[36m(ClientAppActor pid=2290805)\u001b[0m \u001b[32m [repeated 282x across cluster]\u001b[0m\n",
      "\u001b[2m\u001b[36m(ClientAppActor pid=2290805)\u001b[0m Epoch 35/100\u001b[32m [repeated 282x across cluster]\u001b[0m\n",
      "\u001b[2m\u001b[36m(ClientAppActor pid=2290805)\u001b[0m Epoch 41: Training accuracy: 75.9661865234375 Testing accuracy: 78.26087188720703.\u001b[32m [repeated 282x across cluster]\u001b[0m\n"
     ]
    },
    {
     "name": "stderr",
     "output_type": "stream",
     "text": [
      "\u001b[92mINFO \u001b[0m:      aggregate_fit: received 3 results and 0 failures\n",
      "\u001b[92mINFO \u001b[0m:      fit progress: (5, 0.05420827865600586, {'accuracy': tensor(77.2532, device='cuda:0')}, 28.770188388065435)\n",
      "\u001b[92mINFO \u001b[0m:      configure_evaluate: strategy sampled 1 clients (out of 3)\n",
      "\u001b[92mINFO \u001b[0m:      aggregate_evaluate: received 1 results and 0 failures\n",
      "\u001b[92mINFO \u001b[0m:      \n",
      "\u001b[92mINFO \u001b[0m:      [ROUND 6]\n",
      "\u001b[92mINFO \u001b[0m:      configure_fit: strategy sampled 3 clients (out of 3)\n"
     ]
    },
    {
     "name": "stdout",
     "output_type": "stream",
     "text": [
      "Server-side evaluation loss 0.05420827865600586 / accuracy 77.25321960449219\n",
      "\u001b[2m\u001b[36m(ClientAppActor pid=2290805)\u001b[0m \u001b[32m [repeated 285x across cluster]\u001b[0m\n",
      "\u001b[2m\u001b[36m(ClientAppActor pid=2290805)\u001b[0m Epoch 21/100\u001b[32m [repeated 285x across cluster]\u001b[0m\n",
      "\u001b[2m\u001b[36m(ClientAppActor pid=2290805)\u001b[0m Epoch 28: Training accuracy: 75.07396697998047 Testing accuracy: 75.7396469116211.\u001b[32m [repeated 287x across cluster]\u001b[0m\n"
     ]
    },
    {
     "name": "stderr",
     "output_type": "stream",
     "text": [
      "\u001b[92mINFO \u001b[0m:      aggregate_fit: received 3 results and 0 failures\n",
      "\u001b[92mINFO \u001b[0m:      fit progress: (6, 0.05098881504752419, {'accuracy': tensor(76.1087, device='cuda:0')}, 33.89781239605509)\n",
      "\u001b[92mINFO \u001b[0m:      configure_evaluate: strategy sampled 1 clients (out of 3)\n",
      "\u001b[92mINFO \u001b[0m:      aggregate_evaluate: received 1 results and 0 failures\n",
      "\u001b[92mINFO \u001b[0m:      \n",
      "\u001b[92mINFO \u001b[0m:      [ROUND 7]\n",
      "\u001b[92mINFO \u001b[0m:      configure_fit: strategy sampled 3 clients (out of 3)\n"
     ]
    },
    {
     "name": "stdout",
     "output_type": "stream",
     "text": [
      "Server-side evaluation loss 0.05098881504752419 / accuracy 76.10872650146484\n",
      "\u001b[2m\u001b[36m(ClientAppActor pid=2290805)\u001b[0m \u001b[32m [repeated 295x across cluster]\u001b[0m\n",
      "\u001b[2m\u001b[36m(ClientAppActor pid=2290805)\u001b[0m Epoch 98/100\u001b[32m [repeated 295x across cluster]\u001b[0m\n",
      "\u001b[2m\u001b[36m(ClientAppActor pid=2290804)\u001b[0m Epoch 29: Training accuracy: 70.95808410644531 Testing accuracy: 66.4670639038086.\u001b[32m [repeated 301x across cluster]\u001b[0m\n"
     ]
    },
    {
     "name": "stderr",
     "output_type": "stream",
     "text": [
      "\u001b[92mINFO \u001b[0m:      aggregate_fit: received 3 results and 0 failures\n",
      "\u001b[92mINFO \u001b[0m:      fit progress: (7, 0.04924242063002153, {'accuracy': tensor(78.1116, device='cuda:0')}, 38.8647531879833)\n",
      "\u001b[92mINFO \u001b[0m:      configure_evaluate: strategy sampled 1 clients (out of 3)\n",
      "\u001b[92mINFO \u001b[0m:      aggregate_evaluate: received 1 results and 0 failures\n",
      "\u001b[92mINFO \u001b[0m:      \n",
      "\u001b[92mINFO \u001b[0m:      [ROUND 8]\n",
      "\u001b[92mINFO \u001b[0m:      configure_fit: strategy sampled 3 clients (out of 3)\n"
     ]
    },
    {
     "name": "stdout",
     "output_type": "stream",
     "text": [
      "Server-side evaluation loss 0.04924242063002153 / accuracy 78.11158752441406\n",
      "\u001b[2m\u001b[36m(ClientAppActor pid=2290805)\u001b[0m \u001b[32m [repeated 307x across cluster]\u001b[0m\n",
      "\u001b[2m\u001b[36m(ClientAppActor pid=2290805)\u001b[0m Epoch 100/100\u001b[32m [repeated 307x across cluster]\u001b[0m\n",
      "\u001b[2m\u001b[36m(ClientAppActor pid=2290804)\u001b[0m Epoch 33: Training accuracy: 76.10946655273438 Testing accuracy: 75.7396469116211.\u001b[32m [repeated 304x across cluster]\u001b[0m\n"
     ]
    },
    {
     "name": "stderr",
     "output_type": "stream",
     "text": [
      "\u001b[92mINFO \u001b[0m:      aggregate_fit: received 3 results and 0 failures\n",
      "\u001b[92mINFO \u001b[0m:      fit progress: (8, 0.0484279990196228, {'accuracy': tensor(78.5408, device='cuda:0')}, 43.89919655804988)\n",
      "\u001b[92mINFO \u001b[0m:      configure_evaluate: strategy sampled 1 clients (out of 3)\n",
      "\u001b[92mINFO \u001b[0m:      aggregate_evaluate: received 1 results and 0 failures\n",
      "\u001b[92mINFO \u001b[0m:      \n",
      "\u001b[92mINFO \u001b[0m:      [ROUND 9]\n",
      "\u001b[92mINFO \u001b[0m:      configure_fit: strategy sampled 3 clients (out of 3)\n"
     ]
    },
    {
     "name": "stdout",
     "output_type": "stream",
     "text": [
      "Server-side evaluation loss 0.0484279990196228 / accuracy 78.540771484375\n",
      "\u001b[2m\u001b[36m(ClientAppActor pid=2290805)\u001b[0m \u001b[32m [repeated 302x across cluster]\u001b[0m\n",
      "\u001b[2m\u001b[36m(ClientAppActor pid=2290805)\u001b[0m Epoch 23/100\u001b[32m [repeated 301x across cluster]\u001b[0m\n",
      "\u001b[2m\u001b[36m(ClientAppActor pid=2290805)\u001b[0m Epoch 30: Training accuracy: 72.82933807373047 Testing accuracy: 67.6646728515625.\u001b[32m [repeated 297x across cluster]\u001b[0m\n"
     ]
    },
    {
     "name": "stderr",
     "output_type": "stream",
     "text": [
      "\u001b[92mINFO \u001b[0m:      aggregate_fit: received 3 results and 0 failures\n",
      "\u001b[92mINFO \u001b[0m:      fit progress: (9, 0.048204595392400566, {'accuracy': tensor(76.3949, device='cuda:0')}, 49.03728506504558)\n",
      "\u001b[92mINFO \u001b[0m:      configure_evaluate: strategy sampled 1 clients (out of 3)\n",
      "\u001b[92mINFO \u001b[0m:      aggregate_evaluate: received 1 results and 0 failures\n",
      "\u001b[92mINFO \u001b[0m:      \n",
      "\u001b[92mINFO \u001b[0m:      [ROUND 10]\n",
      "\u001b[92mINFO \u001b[0m:      configure_fit: strategy sampled 3 clients (out of 3)\n"
     ]
    },
    {
     "name": "stdout",
     "output_type": "stream",
     "text": [
      "Server-side evaluation loss 0.048204595392400566 / accuracy 76.39485168457031\n",
      "\u001b[2m\u001b[36m(ClientAppActor pid=2290804)\u001b[0m \u001b[32m [repeated 301x across cluster]\u001b[0m\n",
      "\u001b[2m\u001b[36m(ClientAppActor pid=2290804)\u001b[0m Epoch 24/100\u001b[32m [repeated 301x across cluster]\u001b[0m\n",
      "\u001b[2m\u001b[36m(ClientAppActor pid=2290804)\u001b[0m Epoch 30: Training accuracy: 76.6908187866211 Testing accuracy: 80.1932373046875.\u001b[32m [repeated 300x across cluster]\u001b[0m\n"
     ]
    },
    {
     "name": "stderr",
     "output_type": "stream",
     "text": [
      "\u001b[92mINFO \u001b[0m:      aggregate_fit: received 3 results and 0 failures\n",
      "\u001b[92mINFO \u001b[0m:      fit progress: (10, 0.04784378138455478, {'accuracy': tensor(76.1087, device='cuda:0')}, 54.510825903038494)\n",
      "\u001b[92mINFO \u001b[0m:      configure_evaluate: strategy sampled 1 clients (out of 3)\n",
      "\u001b[92mINFO \u001b[0m:      aggregate_evaluate: received 1 results and 0 failures\n",
      "\u001b[92mINFO \u001b[0m:      \n",
      "\u001b[92mINFO \u001b[0m:      [ROUND 11]\n",
      "\u001b[92mINFO \u001b[0m:      configure_fit: strategy sampled 3 clients (out of 3)\n"
     ]
    },
    {
     "name": "stdout",
     "output_type": "stream",
     "text": [
      "Server-side evaluation loss 0.04784378138455478 / accuracy 76.10872650146484\n",
      "\u001b[2m\u001b[36m(ClientAppActor pid=2290805)\u001b[0m \u001b[32m [repeated 272x across cluster]\u001b[0m\n",
      "\u001b[2m\u001b[36m(ClientAppActor pid=2290805)\u001b[0m Epoch 90/100\u001b[32m [repeated 272x across cluster]\u001b[0m\n",
      "\u001b[2m\u001b[36m(ClientAppActor pid=2290805)\u001b[0m Epoch 95: Training accuracy: 77.5362319946289 Testing accuracy: 80.1932373046875.\u001b[32m [repeated 278x across cluster]\u001b[0m\n"
     ]
    },
    {
     "name": "stderr",
     "output_type": "stream",
     "text": [
      "\u001b[92mINFO \u001b[0m:      aggregate_fit: received 3 results and 0 failures\n",
      "\u001b[92mINFO \u001b[0m:      fit progress: (11, 0.0474217263135043, {'accuracy': tensor(77.9685, device='cuda:0')}, 59.51897382806055)\n",
      "\u001b[92mINFO \u001b[0m:      configure_evaluate: strategy sampled 1 clients (out of 3)\n",
      "\u001b[92mINFO \u001b[0m:      aggregate_evaluate: received 1 results and 0 failures\n",
      "\u001b[92mINFO \u001b[0m:      \n",
      "\u001b[92mINFO \u001b[0m:      [ROUND 12]\n",
      "\u001b[92mINFO \u001b[0m:      configure_fit: strategy sampled 3 clients (out of 3)\n"
     ]
    },
    {
     "name": "stdout",
     "output_type": "stream",
     "text": [
      "Server-side evaluation loss 0.0474217263135043 / accuracy 77.9685287475586\n",
      "\u001b[2m\u001b[36m(ClientAppActor pid=2290805)\u001b[0m \u001b[32m [repeated 307x across cluster]\u001b[0m\n",
      "\u001b[2m\u001b[36m(ClientAppActor pid=2290805)\u001b[0m Epoch 93/100\u001b[32m [repeated 307x across cluster]\u001b[0m\n",
      "\u001b[2m\u001b[36m(ClientAppActor pid=2290805)\u001b[0m Epoch 98: Training accuracy: 77.35507202148438 Testing accuracy: 81.64250946044922.\u001b[32m [repeated 307x across cluster]\u001b[0m\n"
     ]
    },
    {
     "name": "stderr",
     "output_type": "stream",
     "text": [
      "\u001b[92mINFO \u001b[0m:      aggregate_fit: received 3 results and 0 failures\n",
      "\u001b[92mINFO \u001b[0m:      fit progress: (12, 0.04795556176792492, {'accuracy': tensor(79.2561, device='cuda:0')}, 64.62938481697347)\n",
      "\u001b[92mINFO \u001b[0m:      configure_evaluate: strategy sampled 1 clients (out of 3)\n",
      "\u001b[92mINFO \u001b[0m:      aggregate_evaluate: received 1 results and 0 failures\n",
      "\u001b[92mINFO \u001b[0m:      \n",
      "\u001b[92mINFO \u001b[0m:      [ROUND 13]\n",
      "\u001b[92mINFO \u001b[0m:      configure_fit: strategy sampled 3 clients (out of 3)\n"
     ]
    },
    {
     "name": "stdout",
     "output_type": "stream",
     "text": [
      "Server-side evaluation loss 0.04795556176792492 / accuracy 79.2560806274414\n",
      "\u001b[2m\u001b[36m(ClientAppActor pid=2290805)\u001b[0m \u001b[32m [repeated 293x across cluster]\u001b[0m\n",
      "\u001b[2m\u001b[36m(ClientAppActor pid=2290805)\u001b[0m Epoch 90/100\u001b[32m [repeated 293x across cluster]\u001b[0m\n",
      "\u001b[2m\u001b[36m(ClientAppActor pid=2290805)\u001b[0m Epoch 95: Training accuracy: 77.77777862548828 Testing accuracy: 80.1932373046875.\u001b[32m [repeated 293x across cluster]\u001b[0m\n"
     ]
    },
    {
     "name": "stderr",
     "output_type": "stream",
     "text": [
      "\u001b[92mINFO \u001b[0m:      aggregate_fit: received 3 results and 0 failures\n",
      "\u001b[92mINFO \u001b[0m:      fit progress: (13, 0.04750477183948864, {'accuracy': tensor(79.3991, device='cuda:0')}, 69.70845175697468)\n",
      "\u001b[92mINFO \u001b[0m:      configure_evaluate: strategy sampled 1 clients (out of 3)\n",
      "\u001b[92mINFO \u001b[0m:      aggregate_evaluate: received 1 results and 0 failures\n",
      "\u001b[92mINFO \u001b[0m:      \n",
      "\u001b[92mINFO \u001b[0m:      [ROUND 14]\n",
      "\u001b[92mINFO \u001b[0m:      configure_fit: strategy sampled 3 clients (out of 3)\n"
     ]
    },
    {
     "name": "stdout",
     "output_type": "stream",
     "text": [
      "Server-side evaluation loss 0.04750477183948864 / accuracy 79.39913940429688\n",
      "\u001b[2m\u001b[36m(ClientAppActor pid=2290805)\u001b[0m \u001b[32m [repeated 300x across cluster]\u001b[0m\n",
      "\u001b[2m\u001b[36m(ClientAppActor pid=2290805)\u001b[0m Epoch 90/100\u001b[32m [repeated 300x across cluster]\u001b[0m\n",
      "\u001b[2m\u001b[36m(ClientAppActor pid=2290805)\u001b[0m Epoch 96: Training accuracy: 77.95893859863281 Testing accuracy: 81.159423828125.\u001b[32m [repeated 301x across cluster]\u001b[0m\n"
     ]
    },
    {
     "name": "stderr",
     "output_type": "stream",
     "text": [
      "\u001b[92mINFO \u001b[0m:      aggregate_fit: received 3 results and 0 failures\n",
      "\u001b[92mINFO \u001b[0m:      fit progress: (14, 0.046866303140466865, {'accuracy': tensor(77.5393, device='cuda:0')}, 74.74540034902748)\n",
      "\u001b[92mINFO \u001b[0m:      configure_evaluate: strategy sampled 1 clients (out of 3)\n",
      "\u001b[92mINFO \u001b[0m:      aggregate_evaluate: received 1 results and 0 failures\n",
      "\u001b[92mINFO \u001b[0m:      \n",
      "\u001b[92mINFO \u001b[0m:      [ROUND 15]\n",
      "\u001b[92mINFO \u001b[0m:      configure_fit: strategy sampled 3 clients (out of 3)\n"
     ]
    },
    {
     "name": "stdout",
     "output_type": "stream",
     "text": [
      "Server-side evaluation loss 0.046866303140466865 / accuracy 77.53934478759766\n",
      "\u001b[2m\u001b[36m(ClientAppActor pid=2290804)\u001b[0m \u001b[32m [repeated 318x across cluster]\u001b[0m\n",
      "\u001b[2m\u001b[36m(ClientAppActor pid=2290804)\u001b[0m Epoch 13/100\u001b[32m [repeated 317x across cluster]\u001b[0m\n",
      "\u001b[2m\u001b[36m(ClientAppActor pid=2290804)\u001b[0m Epoch 19: Training accuracy: 76.44927215576172 Testing accuracy: 80.1932373046875.\u001b[32m [repeated 310x across cluster]\u001b[0m\n"
     ]
    },
    {
     "name": "stderr",
     "output_type": "stream",
     "text": [
      "\u001b[92mINFO \u001b[0m:      aggregate_fit: received 3 results and 0 failures\n",
      "\u001b[92mINFO \u001b[0m:      fit progress: (15, 0.0468182617967779, {'accuracy': tensor(77.8255, device='cuda:0')}, 80.19267635804135)\n",
      "\u001b[92mINFO \u001b[0m:      configure_evaluate: strategy sampled 1 clients (out of 3)\n",
      "\u001b[92mINFO \u001b[0m:      aggregate_evaluate: received 1 results and 0 failures\n",
      "\u001b[92mINFO \u001b[0m:      \n",
      "\u001b[92mINFO \u001b[0m:      [ROUND 16]\n",
      "\u001b[92mINFO \u001b[0m:      configure_fit: strategy sampled 3 clients (out of 3)\n"
     ]
    },
    {
     "name": "stdout",
     "output_type": "stream",
     "text": [
      "Server-side evaluation loss 0.0468182617967779 / accuracy 77.8254623413086\n",
      "\u001b[2m\u001b[36m(ClientAppActor pid=2290805)\u001b[0m \u001b[32m [repeated 261x across cluster]\u001b[0m\n",
      "\u001b[2m\u001b[36m(ClientAppActor pid=2290805)\u001b[0m Epoch 96/100\u001b[32m [repeated 261x across cluster]\u001b[0m\n",
      "\u001b[2m\u001b[36m(ClientAppActor pid=2290805)\u001b[0m Epoch 2: Training accuracy: 76.12275695800781 Testing accuracy: 73.05389404296875.\u001b[32m [repeated 267x across cluster]\u001b[0m\n"
     ]
    },
    {
     "name": "stderr",
     "output_type": "stream",
     "text": [
      "\u001b[92mINFO \u001b[0m:      aggregate_fit: received 3 results and 0 failures\n",
      "\u001b[92mINFO \u001b[0m:      fit progress: (16, 0.046689813787286934, {'accuracy': tensor(77.3963, device='cuda:0')}, 85.25374152499717)\n",
      "\u001b[92mINFO \u001b[0m:      configure_evaluate: strategy sampled 1 clients (out of 3)\n",
      "\u001b[92mINFO \u001b[0m:      aggregate_evaluate: received 1 results and 0 failures\n",
      "\u001b[92mINFO \u001b[0m:      \n",
      "\u001b[92mINFO \u001b[0m:      [ROUND 17]\n",
      "\u001b[92mINFO \u001b[0m:      configure_fit: strategy sampled 3 clients (out of 3)\n"
     ]
    },
    {
     "name": "stdout",
     "output_type": "stream",
     "text": [
      "Server-side evaluation loss 0.046689813787286934 / accuracy 77.39627838134766\n",
      "\u001b[2m\u001b[36m(ClientAppActor pid=2290805)\u001b[0m \u001b[32m [repeated 304x across cluster]\u001b[0m\n",
      "\u001b[2m\u001b[36m(ClientAppActor pid=2290805)\u001b[0m Epoch 100/100\u001b[32m [repeated 304x across cluster]\u001b[0m\n",
      "\u001b[2m\u001b[36m(ClientAppActor pid=2290805)\u001b[0m Epoch 7: Training accuracy: 77.36686706542969 Testing accuracy: 76.33135986328125.\u001b[32m [repeated 304x across cluster]\u001b[0m\n"
     ]
    },
    {
     "name": "stderr",
     "output_type": "stream",
     "text": [
      "\u001b[92mINFO \u001b[0m:      aggregate_fit: received 3 results and 0 failures\n",
      "\u001b[92mINFO \u001b[0m:      fit progress: (17, 0.04657218673012473, {'accuracy': tensor(78.8269, device='cuda:0')}, 90.35666680999566)\n",
      "\u001b[92mINFO \u001b[0m:      configure_evaluate: strategy sampled 1 clients (out of 3)\n",
      "\u001b[92mINFO \u001b[0m:      aggregate_evaluate: received 1 results and 0 failures\n",
      "\u001b[92mINFO \u001b[0m:      \n",
      "\u001b[92mINFO \u001b[0m:      [ROUND 18]\n",
      "\u001b[92mINFO \u001b[0m:      configure_fit: strategy sampled 3 clients (out of 3)\n"
     ]
    },
    {
     "name": "stdout",
     "output_type": "stream",
     "text": [
      "Server-side evaluation loss 0.04657218673012473 / accuracy 78.82689666748047\n",
      "\u001b[2m\u001b[36m(ClientAppActor pid=2290805)\u001b[0m \u001b[32m [repeated 314x across cluster]\u001b[0m\n",
      "\u001b[2m\u001b[36m(ClientAppActor pid=2290805)\u001b[0m Epoch 96/100\u001b[32m [repeated 314x across cluster]\u001b[0m\n",
      "\u001b[2m\u001b[36m(ClientAppActor pid=2290805)\u001b[0m Epoch 100: Training accuracy: 77.5147933959961 Testing accuracy: 75.1479263305664.\u001b[32m [repeated 312x across cluster]\u001b[0m\n"
     ]
    },
    {
     "name": "stderr",
     "output_type": "stream",
     "text": [
      "\u001b[92mINFO \u001b[0m:      aggregate_fit: received 3 results and 0 failures\n",
      "\u001b[92mINFO \u001b[0m:      fit progress: (18, 0.04650547287680886, {'accuracy': tensor(78.9700, device='cuda:0')}, 95.88108465599362)\n",
      "\u001b[92mINFO \u001b[0m:      configure_evaluate: strategy sampled 1 clients (out of 3)\n",
      "\u001b[92mINFO \u001b[0m:      aggregate_evaluate: received 1 results and 0 failures\n",
      "\u001b[92mINFO \u001b[0m:      \n",
      "\u001b[92mINFO \u001b[0m:      [ROUND 19]\n",
      "\u001b[92mINFO \u001b[0m:      configure_fit: strategy sampled 3 clients (out of 3)\n"
     ]
    },
    {
     "name": "stdout",
     "output_type": "stream",
     "text": [
      "Server-side evaluation loss 0.04650547287680886 / accuracy 78.96995544433594\n",
      "\u001b[2m\u001b[36m(ClientAppActor pid=2290805)\u001b[0m \u001b[32m [repeated 253x across cluster]\u001b[0m\n",
      "\u001b[2m\u001b[36m(ClientAppActor pid=2290805)\u001b[0m Epoch 81/100\u001b[32m [repeated 253x across cluster]\u001b[0m\n",
      "\u001b[2m\u001b[36m(ClientAppActor pid=2290805)\u001b[0m Epoch 87: Training accuracy: 77.84431457519531 Testing accuracy: 76.04790496826172.\u001b[32m [repeated 254x across cluster]\u001b[0m\n"
     ]
    },
    {
     "name": "stderr",
     "output_type": "stream",
     "text": [
      "\u001b[92mINFO \u001b[0m:      aggregate_fit: received 3 results and 0 failures\n",
      "\u001b[92mINFO \u001b[0m:      fit progress: (19, 0.046353600241921165, {'accuracy': tensor(77.9685, device='cuda:0')}, 101.06096675305162)\n",
      "\u001b[92mINFO \u001b[0m:      configure_evaluate: strategy sampled 1 clients (out of 3)\n",
      "\u001b[92mINFO \u001b[0m:      aggregate_evaluate: received 1 results and 0 failures\n",
      "\u001b[92mINFO \u001b[0m:      \n",
      "\u001b[92mINFO \u001b[0m:      [ROUND 20]\n",
      "\u001b[92mINFO \u001b[0m:      configure_fit: strategy sampled 3 clients (out of 3)\n"
     ]
    },
    {
     "name": "stdout",
     "output_type": "stream",
     "text": [
      "Server-side evaluation loss 0.046353600241921165 / accuracy 77.9685287475586\n",
      "\u001b[2m\u001b[36m(ClientAppActor pid=2290805)\u001b[0m \u001b[32m [repeated 305x across cluster]\u001b[0m\n",
      "\u001b[2m\u001b[36m(ClientAppActor pid=2290805)\u001b[0m Epoch 76/100\u001b[32m [repeated 305x across cluster]\u001b[0m\n",
      "\u001b[2m\u001b[36m(ClientAppActor pid=2290805)\u001b[0m Epoch 83: Training accuracy: 78.25444030761719 Testing accuracy: 77.5147933959961.\u001b[32m [repeated 309x across cluster]\u001b[0m\n"
     ]
    },
    {
     "name": "stderr",
     "output_type": "stream",
     "text": [
      "\u001b[92mINFO \u001b[0m:      aggregate_fit: received 3 results and 0 failures\n",
      "\u001b[92mINFO \u001b[0m:      fit progress: (20, 0.04629501429471103, {'accuracy': tensor(78.2546, device='cuda:0')}, 106.65537588705774)\n",
      "\u001b[92mINFO \u001b[0m:      configure_evaluate: strategy sampled 1 clients (out of 3)\n",
      "\u001b[92mINFO \u001b[0m:      aggregate_evaluate: received 1 results and 0 failures\n",
      "\u001b[92mINFO \u001b[0m:      \n",
      "\u001b[92mINFO \u001b[0m:      [ROUND 21]\n",
      "\u001b[92mINFO \u001b[0m:      configure_fit: strategy sampled 3 clients (out of 3)\n"
     ]
    },
    {
     "name": "stdout",
     "output_type": "stream",
     "text": [
      "Server-side evaluation loss 0.04629501429471103 / accuracy 78.25464630126953\n",
      "\u001b[2m\u001b[36m(ClientAppActor pid=2290805)\u001b[0m \u001b[32m [repeated 258x across cluster]\u001b[0m\n",
      "\u001b[2m\u001b[36m(ClientAppActor pid=2290805)\u001b[0m Epoch 54/100\u001b[32m [repeated 258x across cluster]\u001b[0m\n",
      "\u001b[2m\u001b[36m(ClientAppActor pid=2290805)\u001b[0m Epoch 61: Training accuracy: 78.55029296875 Testing accuracy: 81.0650863647461.\u001b[32m [repeated 258x across cluster]\u001b[0m\n"
     ]
    },
    {
     "name": "stderr",
     "output_type": "stream",
     "text": [
      "\u001b[92mINFO \u001b[0m:      aggregate_fit: received 3 results and 0 failures\n",
      "\u001b[92mINFO \u001b[0m:      fit progress: (21, 0.046178693121129814, {'accuracy': tensor(77.5393, device='cuda:0')}, 112.1013089340413)\n",
      "\u001b[92mINFO \u001b[0m:      configure_evaluate: strategy sampled 1 clients (out of 3)\n",
      "\u001b[92mINFO \u001b[0m:      aggregate_evaluate: received 1 results and 0 failures\n",
      "\u001b[92mINFO \u001b[0m:      \n",
      "\u001b[92mINFO \u001b[0m:      [ROUND 22]\n",
      "\u001b[92mINFO \u001b[0m:      configure_fit: strategy sampled 3 clients (out of 3)\n"
     ]
    },
    {
     "name": "stdout",
     "output_type": "stream",
     "text": [
      "Server-side evaluation loss 0.046178693121129814 / accuracy 77.53934478759766\n",
      "\u001b[2m\u001b[36m(ClientAppActor pid=2290805)\u001b[0m \u001b[32m [repeated 272x across cluster]\u001b[0m\n",
      "\u001b[2m\u001b[36m(ClientAppActor pid=2290805)\u001b[0m Epoch 42/100\u001b[32m [repeated 272x across cluster]\u001b[0m\n",
      "\u001b[2m\u001b[36m(ClientAppActor pid=2290805)\u001b[0m Epoch 49: Training accuracy: 78.81736755371094 Testing accuracy: 76.04790496826172.\u001b[32m [repeated 271x across cluster]\u001b[0m\n"
     ]
    },
    {
     "name": "stderr",
     "output_type": "stream",
     "text": [
      "\u001b[92mINFO \u001b[0m:      aggregate_fit: received 3 results and 0 failures\n",
      "\u001b[92mINFO \u001b[0m:      fit progress: (22, 0.046241212974895134, {'accuracy': tensor(77.6824, device='cuda:0')}, 117.7206507769879)\n",
      "\u001b[92mINFO \u001b[0m:      configure_evaluate: strategy sampled 1 clients (out of 3)\n",
      "\u001b[92mINFO \u001b[0m:      aggregate_evaluate: received 1 results and 0 failures\n",
      "\u001b[92mINFO \u001b[0m:      \n",
      "\u001b[92mINFO \u001b[0m:      [ROUND 23]\n",
      "\u001b[92mINFO \u001b[0m:      configure_fit: strategy sampled 3 clients (out of 3)\n"
     ]
    },
    {
     "name": "stdout",
     "output_type": "stream",
     "text": [
      "Server-side evaluation loss 0.046241212974895134 / accuracy 77.68240356445312\n",
      "\u001b[2m\u001b[36m(ClientAppActor pid=2290805)\u001b[0m \u001b[32m [repeated 252x across cluster]\u001b[0m\n",
      "\u001b[2m\u001b[36m(ClientAppActor pid=2290805)\u001b[0m Epoch 16/100\u001b[32m [repeated 252x across cluster]\u001b[0m\n",
      "\u001b[2m\u001b[36m(ClientAppActor pid=2290805)\u001b[0m Epoch 22: Training accuracy: 78.38164520263672 Testing accuracy: 81.64250946044922.\u001b[32m [repeated 251x across cluster]\u001b[0m\n"
     ]
    },
    {
     "name": "stderr",
     "output_type": "stream",
     "text": [
      "\u001b[92mINFO \u001b[0m:      aggregate_fit: received 3 results and 0 failures\n",
      "\u001b[92mINFO \u001b[0m:      fit progress: (23, 0.04612740061499856, {'accuracy': tensor(77.6824, device='cuda:0')}, 122.71198756899685)\n",
      "\u001b[92mINFO \u001b[0m:      configure_evaluate: strategy sampled 1 clients (out of 3)\n",
      "\u001b[92mINFO \u001b[0m:      aggregate_evaluate: received 1 results and 0 failures\n",
      "\u001b[92mINFO \u001b[0m:      \n",
      "\u001b[92mINFO \u001b[0m:      [ROUND 24]\n",
      "\u001b[92mINFO \u001b[0m:      configure_fit: strategy sampled 3 clients (out of 3)\n"
     ]
    },
    {
     "name": "stdout",
     "output_type": "stream",
     "text": [
      "Server-side evaluation loss 0.04612740061499856 / accuracy 77.68240356445312\n",
      "\u001b[2m\u001b[36m(ClientAppActor pid=2290805)\u001b[0m \u001b[32m [repeated 308x across cluster]\u001b[0m\n",
      "\u001b[2m\u001b[36m(ClientAppActor pid=2290805)\u001b[0m Epoch 23/100\u001b[32m [repeated 308x across cluster]\u001b[0m\n",
      "\u001b[2m\u001b[36m(ClientAppActor pid=2290805)\u001b[0m Epoch 29: Training accuracy: 78.69822692871094 Testing accuracy: 79.88166046142578.\u001b[32m [repeated 307x across cluster]\u001b[0m\n"
     ]
    },
    {
     "name": "stderr",
     "output_type": "stream",
     "text": [
      "\u001b[92mINFO \u001b[0m:      aggregate_fit: received 3 results and 0 failures\n",
      "\u001b[92mINFO \u001b[0m:      fit progress: (24, 0.046128251335837624, {'accuracy': tensor(77.8255, device='cuda:0')}, 127.82887996605132)\n",
      "\u001b[92mINFO \u001b[0m:      configure_evaluate: strategy sampled 1 clients (out of 3)\n",
      "\u001b[92mINFO \u001b[0m:      aggregate_evaluate: received 1 results and 0 failures\n",
      "\u001b[92mINFO \u001b[0m:      \n",
      "\u001b[92mINFO \u001b[0m:      [ROUND 25]\n",
      "\u001b[92mINFO \u001b[0m:      configure_fit: strategy sampled 3 clients (out of 3)\n"
     ]
    },
    {
     "name": "stdout",
     "output_type": "stream",
     "text": [
      "Server-side evaluation loss 0.046128251335837624 / accuracy 77.8254623413086\n",
      "\u001b[2m\u001b[36m(ClientAppActor pid=2290805)\u001b[0m \u001b[32m [repeated 298x across cluster]\u001b[0m\n",
      "\u001b[2m\u001b[36m(ClientAppActor pid=2290805)\u001b[0m Epoch 23/100\u001b[32m [repeated 298x across cluster]\u001b[0m\n",
      "\u001b[2m\u001b[36m(ClientAppActor pid=2290805)\u001b[0m Epoch 30: Training accuracy: 78.81736755371094 Testing accuracy: 76.04790496826172.\u001b[32m [repeated 299x across cluster]\u001b[0m\n"
     ]
    },
    {
     "name": "stderr",
     "output_type": "stream",
     "text": [
      "\u001b[92mINFO \u001b[0m:      aggregate_fit: received 3 results and 0 failures\n",
      "\u001b[92mINFO \u001b[0m:      fit progress: (25, 0.04607174071398648, {'accuracy': tensor(78.8269, device='cuda:0')}, 132.96926523605362)\n",
      "\u001b[92mINFO \u001b[0m:      configure_evaluate: strategy sampled 1 clients (out of 3)\n",
      "\u001b[92mINFO \u001b[0m:      aggregate_evaluate: received 1 results and 0 failures\n",
      "\u001b[92mINFO \u001b[0m:      \n",
      "\u001b[92mINFO \u001b[0m:      [ROUND 26]\n",
      "\u001b[92mINFO \u001b[0m:      configure_fit: strategy sampled 3 clients (out of 3)\n"
     ]
    },
    {
     "name": "stdout",
     "output_type": "stream",
     "text": [
      "Server-side evaluation loss 0.04607174071398648 / accuracy 78.82689666748047\n",
      "\u001b[2m\u001b[36m(ClientAppActor pid=2290805)\u001b[0m \u001b[32m [repeated 296x across cluster]\u001b[0m\n",
      "\u001b[2m\u001b[36m(ClientAppActor pid=2290805)\u001b[0m Epoch 17/100\u001b[32m [repeated 296x across cluster]\u001b[0m\n",
      "\u001b[2m\u001b[36m(ClientAppActor pid=2290805)\u001b[0m Epoch 23: Training accuracy: 78.20048522949219 Testing accuracy: 80.67633056640625.\u001b[32m [repeated 296x across cluster]\u001b[0m\n"
     ]
    },
    {
     "name": "stderr",
     "output_type": "stream",
     "text": [
      "\u001b[92mINFO \u001b[0m:      aggregate_fit: received 3 results and 0 failures\n",
      "\u001b[92mINFO \u001b[0m:      fit progress: (26, 0.046396428888494316, {'accuracy': tensor(79.3991, device='cuda:0')}, 138.0881594370585)\n",
      "\u001b[92mINFO \u001b[0m:      configure_evaluate: strategy sampled 1 clients (out of 3)\n",
      "\u001b[92mINFO \u001b[0m:      aggregate_evaluate: received 1 results and 0 failures\n",
      "\u001b[92mINFO \u001b[0m:      \n",
      "\u001b[92mINFO \u001b[0m:      [ROUND 27]\n",
      "\u001b[92mINFO \u001b[0m:      configure_fit: strategy sampled 3 clients (out of 3)\n"
     ]
    },
    {
     "name": "stdout",
     "output_type": "stream",
     "text": [
      "Server-side evaluation loss 0.046396428888494316 / accuracy 79.39913940429688\n",
      "\u001b[2m\u001b[36m(ClientAppActor pid=2290805)\u001b[0m \u001b[32m [repeated 292x across cluster]\u001b[0m\n",
      "\u001b[2m\u001b[36m(ClientAppActor pid=2290805)\u001b[0m Epoch 13/100\u001b[32m [repeated 292x across cluster]\u001b[0m\n",
      "\u001b[2m\u001b[36m(ClientAppActor pid=2290805)\u001b[0m Epoch 19: Training accuracy: 78.5024185180664 Testing accuracy: 80.67633056640625.\u001b[32m [repeated 292x across cluster]\u001b[0m\n"
     ]
    },
    {
     "name": "stderr",
     "output_type": "stream",
     "text": [
      "\u001b[92mINFO \u001b[0m:      aggregate_fit: received 3 results and 0 failures\n",
      "\u001b[92mINFO \u001b[0m:      fit progress: (27, 0.04680752754211426, {'accuracy': tensor(79.6853, device='cuda:0')}, 143.19312615902163)\n",
      "\u001b[92mINFO \u001b[0m:      configure_evaluate: strategy sampled 1 clients (out of 3)\n",
      "\u001b[92mINFO \u001b[0m:      aggregate_evaluate: received 1 results and 0 failures\n",
      "\u001b[92mINFO \u001b[0m:      \n",
      "\u001b[92mINFO \u001b[0m:      [ROUND 28]\n",
      "\u001b[92mINFO \u001b[0m:      configure_fit: strategy sampled 3 clients (out of 3)\n"
     ]
    },
    {
     "name": "stdout",
     "output_type": "stream",
     "text": [
      "Server-side evaluation loss 0.04680752754211426 / accuracy 79.68526458740234\n",
      "\u001b[2m\u001b[36m(ClientAppActor pid=2290805)\u001b[0m \u001b[32m [repeated 298x across cluster]\u001b[0m\n",
      "\u001b[2m\u001b[36m(ClientAppActor pid=2290805)\u001b[0m Epoch 13/100\u001b[32m [repeated 298x across cluster]\u001b[0m\n",
      "\u001b[2m\u001b[36m(ClientAppActor pid=2290805)\u001b[0m Epoch 18: Training accuracy: 78.5024185180664 Testing accuracy: 80.1932373046875.\u001b[32m [repeated 297x across cluster]\u001b[0m\n"
     ]
    },
    {
     "name": "stderr",
     "output_type": "stream",
     "text": [
      "\u001b[92mINFO \u001b[0m:      aggregate_fit: received 3 results and 0 failures\n",
      "\u001b[92mINFO \u001b[0m:      fit progress: (28, 0.046412630514665085, {'accuracy': tensor(79.5422, device='cuda:0')}, 148.24145346006844)\n",
      "\u001b[92mINFO \u001b[0m:      configure_evaluate: strategy sampled 1 clients (out of 3)\n",
      "\u001b[92mINFO \u001b[0m:      aggregate_evaluate: received 1 results and 0 failures\n",
      "\u001b[92mINFO \u001b[0m:      \n",
      "\u001b[92mINFO \u001b[0m:      [ROUND 29]\n",
      "\u001b[92mINFO \u001b[0m:      configure_fit: strategy sampled 3 clients (out of 3)\n"
     ]
    },
    {
     "name": "stdout",
     "output_type": "stream",
     "text": [
      "Server-side evaluation loss 0.046412630514665085 / accuracy 79.54220581054688\n",
      "\u001b[2m\u001b[36m(ClientAppActor pid=2290805)\u001b[0m \u001b[32m [repeated 304x across cluster]\u001b[0m\n",
      "\u001b[2m\u001b[36m(ClientAppActor pid=2290805)\u001b[0m Epoch 16/100\u001b[32m [repeated 304x across cluster]\u001b[0m\n",
      "\u001b[2m\u001b[36m(ClientAppActor pid=2290805)\u001b[0m Epoch 24: Training accuracy: 78.29341125488281 Testing accuracy: 73.05389404296875.\u001b[32m [repeated 307x across cluster]\u001b[0m\n"
     ]
    },
    {
     "name": "stderr",
     "output_type": "stream",
     "text": [
      "\u001b[92mINFO \u001b[0m:      aggregate_fit: received 3 results and 0 failures\n",
      "\u001b[92mINFO \u001b[0m:      fit progress: (29, 0.04674697464162653, {'accuracy': tensor(79.6853, device='cuda:0')}, 153.88405063003302)\n",
      "\u001b[92mINFO \u001b[0m:      configure_evaluate: strategy sampled 1 clients (out of 3)\n",
      "\u001b[92mINFO \u001b[0m:      aggregate_evaluate: received 1 results and 0 failures\n",
      "\u001b[92mINFO \u001b[0m:      \n",
      "\u001b[92mINFO \u001b[0m:      [ROUND 30]\n",
      "\u001b[92mINFO \u001b[0m:      configure_fit: strategy sampled 3 clients (out of 3)\n"
     ]
    },
    {
     "name": "stdout",
     "output_type": "stream",
     "text": [
      "\u001b[2m\u001b[36m(ClientAppActor pid=2290805)\u001b[0m \u001b[32m [repeated 270x across cluster]\u001b[0m\n",
      "\u001b[2m\u001b[36m(ClientAppActor pid=2290805)\u001b[0m Epoch 98/100\u001b[32m [repeated 270x across cluster]\u001b[0m\n",
      "Server-side evaluation loss 0.04674697464162653 / accuracy 79.68526458740234\n",
      "\u001b[2m\u001b[36m(ClientAppActor pid=2290805)\u001b[0m Epoch 1: Training accuracy: 78.32125854492188 Testing accuracy: 81.159423828125.\u001b[32m [repeated 258x across cluster]\u001b[0m\n"
     ]
    },
    {
     "name": "stderr",
     "output_type": "stream",
     "text": [
      "\u001b[92mINFO \u001b[0m:      aggregate_fit: received 3 results and 0 failures\n",
      "\u001b[92mINFO \u001b[0m:      fit progress: (30, 0.04600277272137729, {'accuracy': tensor(78.1116, device='cuda:0')}, 158.8643548199907)\n",
      "\u001b[92mINFO \u001b[0m:      configure_evaluate: strategy sampled 1 clients (out of 3)\n",
      "\u001b[92mINFO \u001b[0m:      aggregate_evaluate: received 1 results and 0 failures\n",
      "\u001b[92mINFO \u001b[0m:      \n",
      "\u001b[92mINFO \u001b[0m:      [ROUND 31]\n",
      "\u001b[92mINFO \u001b[0m:      configure_fit: strategy sampled 3 clients (out of 3)\n"
     ]
    },
    {
     "name": "stdout",
     "output_type": "stream",
     "text": [
      "\u001b[2m\u001b[36m(ClientAppActor pid=2290804)\u001b[0m \u001b[32m [repeated 302x across cluster]\u001b[0m\n",
      "\u001b[2m\u001b[36m(ClientAppActor pid=2290804)\u001b[0m Epoch 100/100\u001b[32m [repeated 302x across cluster]\u001b[0m\n",
      "Server-side evaluation loss 0.04600277272137729 / accuracy 78.11158752441406\n",
      "\u001b[2m\u001b[36m(ClientAppActor pid=2290805)\u001b[0m Epoch 5: Training accuracy: 77.88461303710938 Testing accuracy: 76.33135986328125.\u001b[32m [repeated 306x across cluster]\u001b[0m\n",
      "\u001b[2m\u001b[36m(ClientAppActor pid=2290804)\u001b[0m \u001b[32m [repeated 286x across cluster]\u001b[0m\n",
      "\u001b[2m\u001b[36m(ClientAppActor pid=2290804)\u001b[0m Epoch 86/100\u001b[32m [repeated 286x across cluster]\u001b[0m\n",
      "\u001b[2m\u001b[36m(ClientAppActor pid=2290804)\u001b[0m Epoch 92: Training accuracy: 79.04589080810547 Testing accuracy: 82.60869598388672.\u001b[32m [repeated 285x across cluster]\u001b[0m\n"
     ]
    },
    {
     "name": "stderr",
     "output_type": "stream",
     "text": [
      "\u001b[92mINFO \u001b[0m:      aggregate_fit: received 3 results and 0 failures\n",
      "\u001b[92mINFO \u001b[0m:      fit progress: (31, 0.04597823728214611, {'accuracy': tensor(77.9685, device='cuda:0')}, 164.43310384999495)\n",
      "\u001b[92mINFO \u001b[0m:      configure_evaluate: strategy sampled 1 clients (out of 3)\n",
      "\u001b[92mINFO \u001b[0m:      aggregate_evaluate: received 1 results and 0 failures\n",
      "\u001b[92mINFO \u001b[0m:      \n",
      "\u001b[92mINFO \u001b[0m:      [ROUND 32]\n",
      "\u001b[92mINFO \u001b[0m:      configure_fit: strategy sampled 3 clients (out of 3)\n"
     ]
    },
    {
     "name": "stdout",
     "output_type": "stream",
     "text": [
      "Server-side evaluation loss 0.04597823728214611 / accuracy 77.9685287475586\n",
      "\u001b[2m\u001b[36m(ClientAppActor pid=2290804)\u001b[0m \u001b[32m [repeated 283x across cluster]\u001b[0m\n",
      "\u001b[2m\u001b[36m(ClientAppActor pid=2290804)\u001b[0m Epoch 69/100\u001b[32m [repeated 283x across cluster]\u001b[0m\n",
      "\u001b[2m\u001b[36m(ClientAppActor pid=2290804)\u001b[0m Epoch 75: Training accuracy: 79.40821075439453 Testing accuracy: 83.09178924560547.\u001b[32m [repeated 283x across cluster]\u001b[0m\n"
     ]
    },
    {
     "name": "stderr",
     "output_type": "stream",
     "text": [
      "\u001b[92mINFO \u001b[0m:      aggregate_fit: received 3 results and 0 failures\n",
      "\u001b[92mINFO \u001b[0m:      fit progress: (32, 0.04608245871283791, {'accuracy': tensor(79.6853, device='cuda:0')}, 169.95584744797088)\n",
      "\u001b[92mINFO \u001b[0m:      configure_evaluate: strategy sampled 1 clients (out of 3)\n",
      "\u001b[92mINFO \u001b[0m:      aggregate_evaluate: received 1 results and 0 failures\n",
      "\u001b[92mINFO \u001b[0m:      \n",
      "\u001b[92mINFO \u001b[0m:      [ROUND 33]\n",
      "\u001b[92mINFO \u001b[0m:      configure_fit: strategy sampled 3 clients (out of 3)\n"
     ]
    },
    {
     "name": "stdout",
     "output_type": "stream",
     "text": [
      "Server-side evaluation loss 0.04608245871283791 / accuracy 79.68526458740234\n",
      "\u001b[2m\u001b[36m(ClientAppActor pid=2290805)\u001b[0m \u001b[32m [repeated 283x across cluster]\u001b[0m\n",
      "\u001b[2m\u001b[36m(ClientAppActor pid=2290805)\u001b[0m Epoch 52/100\u001b[32m [repeated 283x across cluster]\u001b[0m\n",
      "\u001b[2m\u001b[36m(ClientAppActor pid=2290805)\u001b[0m Epoch 58: Training accuracy: 78.86473083496094 Testing accuracy: 83.09178924560547.\u001b[32m [repeated 283x across cluster]\u001b[0m\n"
     ]
    },
    {
     "name": "stderr",
     "output_type": "stream",
     "text": [
      "\u001b[92mINFO \u001b[0m:      aggregate_fit: received 3 results and 0 failures\n",
      "\u001b[92mINFO \u001b[0m:      fit progress: (33, 0.04588958350094882, {'accuracy': tensor(78.5408, device='cuda:0')}, 175.577333490015)\n",
      "\u001b[92mINFO \u001b[0m:      configure_evaluate: strategy sampled 1 clients (out of 3)\n",
      "\u001b[92mINFO \u001b[0m:      aggregate_evaluate: received 1 results and 0 failures\n",
      "\u001b[92mINFO \u001b[0m:      \n",
      "\u001b[92mINFO \u001b[0m:      [ROUND 34]\n",
      "\u001b[92mINFO \u001b[0m:      configure_fit: strategy sampled 3 clients (out of 3)\n"
     ]
    },
    {
     "name": "stdout",
     "output_type": "stream",
     "text": [
      "Server-side evaluation loss 0.04588958350094882 / accuracy 78.540771484375\n",
      "\u001b[2m\u001b[36m(ClientAppActor pid=2290805)\u001b[0m \u001b[32m [repeated 287x across cluster]\u001b[0m\n",
      "\u001b[2m\u001b[36m(ClientAppActor pid=2290805)\u001b[0m Epoch 39/100\u001b[32m [repeated 287x across cluster]\u001b[0m\n",
      "\u001b[2m\u001b[36m(ClientAppActor pid=2290805)\u001b[0m Epoch 46: Training accuracy: 77.29290008544922 Testing accuracy: 79.2899398803711.\u001b[32m [repeated 288x across cluster]\u001b[0m\n"
     ]
    },
    {
     "name": "stderr",
     "output_type": "stream",
     "text": [
      "\u001b[92mINFO \u001b[0m:      aggregate_fit: received 3 results and 0 failures\n",
      "\u001b[92mINFO \u001b[0m:      fit progress: (34, 0.04619074409658259, {'accuracy': tensor(77.3963, device='cuda:0')}, 180.73659136204515)\n",
      "\u001b[92mINFO \u001b[0m:      configure_evaluate: strategy sampled 1 clients (out of 3)\n",
      "\u001b[92mINFO \u001b[0m:      aggregate_evaluate: received 1 results and 0 failures\n",
      "\u001b[92mINFO \u001b[0m:      \n",
      "\u001b[92mINFO \u001b[0m:      [ROUND 35]\n",
      "\u001b[92mINFO \u001b[0m:      configure_fit: strategy sampled 3 clients (out of 3)\n"
     ]
    },
    {
     "name": "stdout",
     "output_type": "stream",
     "text": [
      "Server-side evaluation loss 0.04619074409658259 / accuracy 77.39627838134766\n",
      "\u001b[2m\u001b[36m(ClientAppActor pid=2290804)\u001b[0m \u001b[32m [repeated 302x across cluster]\u001b[0m\n",
      "\u001b[2m\u001b[36m(ClientAppActor pid=2290804)\u001b[0m Epoch 41/100\u001b[32m [repeated 302x across cluster]\u001b[0m\n",
      "\u001b[2m\u001b[36m(ClientAppActor pid=2290804)\u001b[0m Epoch 48: Training accuracy: 79.80769348144531 Testing accuracy: 78.69822692871094.\u001b[32m [repeated 302x across cluster]\u001b[0m\n"
     ]
    },
    {
     "name": "stderr",
     "output_type": "stream",
     "text": [
      "\u001b[92mINFO \u001b[0m:      aggregate_fit: received 3 results and 0 failures\n",
      "\u001b[92mINFO \u001b[0m:      fit progress: (35, 0.046207915652881966, {'accuracy': tensor(79.5422, device='cuda:0')}, 185.74713922606315)\n",
      "\u001b[92mINFO \u001b[0m:      configure_evaluate: strategy sampled 1 clients (out of 3)\n",
      "\u001b[92mINFO \u001b[0m:      aggregate_evaluate: received 1 results and 0 failures\n",
      "\u001b[92mINFO \u001b[0m:      \n",
      "\u001b[92mINFO \u001b[0m:      [ROUND 36]\n",
      "\u001b[92mINFO \u001b[0m:      configure_fit: strategy sampled 3 clients (out of 3)\n"
     ]
    },
    {
     "name": "stdout",
     "output_type": "stream",
     "text": [
      "Server-side evaluation loss 0.046207915652881966 / accuracy 79.54220581054688\n",
      "\u001b[2m\u001b[36m(ClientAppActor pid=2290804)\u001b[0m \u001b[32m [repeated 295x across cluster]\u001b[0m\n",
      "\u001b[2m\u001b[36m(ClientAppActor pid=2290804)\u001b[0m Epoch 36/100\u001b[32m [repeated 295x across cluster]\u001b[0m\n",
      "\u001b[2m\u001b[36m(ClientAppActor pid=2290804)\u001b[0m Epoch 42: Training accuracy: 77.95893859863281 Testing accuracy: 76.81159210205078.\u001b[32m [repeated 294x across cluster]\u001b[0m\n"
     ]
    },
    {
     "name": "stderr",
     "output_type": "stream",
     "text": [
      "\u001b[92mINFO \u001b[0m:      aggregate_fit: received 3 results and 0 failures\n",
      "\u001b[92mINFO \u001b[0m:      fit progress: (36, 0.0461396954276345, {'accuracy': tensor(79.8283, device='cuda:0')}, 191.32923698204104)\n",
      "\u001b[92mINFO \u001b[0m:      configure_evaluate: strategy sampled 1 clients (out of 3)\n",
      "\u001b[92mINFO \u001b[0m:      aggregate_evaluate: received 1 results and 0 failures\n",
      "\u001b[92mINFO \u001b[0m:      \n",
      "\u001b[92mINFO \u001b[0m:      [ROUND 37]\n",
      "\u001b[92mINFO \u001b[0m:      configure_fit: strategy sampled 3 clients (out of 3)\n"
     ]
    },
    {
     "name": "stdout",
     "output_type": "stream",
     "text": [
      "Server-side evaluation loss 0.0461396954276345 / accuracy 79.82832336425781\n",
      "\u001b[2m\u001b[36m(ClientAppActor pid=2290805)\u001b[0m \u001b[32m [repeated 278x across cluster]\u001b[0m\n",
      "\u001b[2m\u001b[36m(ClientAppActor pid=2290805)\u001b[0m Epoch 16/100\u001b[32m [repeated 278x across cluster]\u001b[0m\n",
      "\u001b[2m\u001b[36m(ClientAppActor pid=2290805)\u001b[0m Epoch 23: Training accuracy: 78.66766357421875 Testing accuracy: 71.25748443603516.\u001b[32m [repeated 281x across cluster]\u001b[0m\n"
     ]
    },
    {
     "name": "stderr",
     "output_type": "stream",
     "text": [
      "\u001b[92mINFO \u001b[0m:      aggregate_fit: received 3 results and 0 failures\n",
      "\u001b[92mINFO \u001b[0m:      fit progress: (37, 0.046336927197196266, {'accuracy': tensor(79.5422, device='cuda:0')}, 196.4911881829612)\n",
      "\u001b[92mINFO \u001b[0m:      configure_evaluate: strategy sampled 1 clients (out of 3)\n",
      "\u001b[92mINFO \u001b[0m:      aggregate_evaluate: received 1 results and 0 failures\n",
      "\u001b[92mINFO \u001b[0m:      \n",
      "\u001b[92mINFO \u001b[0m:      [ROUND 38]\n",
      "\u001b[92mINFO \u001b[0m:      configure_fit: strategy sampled 3 clients (out of 3)\n"
     ]
    },
    {
     "name": "stdout",
     "output_type": "stream",
     "text": [
      "Server-side evaluation loss 0.046336927197196266 / accuracy 79.54220581054688\n",
      "\u001b[2m\u001b[36m(ClientAppActor pid=2290805)\u001b[0m \u001b[32m [repeated 298x across cluster]\u001b[0m\n",
      "\u001b[2m\u001b[36m(ClientAppActor pid=2290805)\u001b[0m Epoch 97/100\u001b[32m [repeated 298x across cluster]\u001b[0m\n",
      "\u001b[2m\u001b[36m(ClientAppActor pid=2290805)\u001b[0m Epoch 100: Training accuracy: 78.5024185180664 Testing accuracy: 77.29468536376953.\u001b[32m [repeated 299x across cluster]\u001b[0m\n"
     ]
    },
    {
     "name": "stderr",
     "output_type": "stream",
     "text": [
      "\u001b[92mINFO \u001b[0m:      aggregate_fit: received 3 results and 0 failures\n",
      "\u001b[92mINFO \u001b[0m:      fit progress: (38, 0.04588765447789973, {'accuracy': tensor(77.9685, device='cuda:0')}, 201.51584773801733)\n",
      "\u001b[92mINFO \u001b[0m:      configure_evaluate: strategy sampled 1 clients (out of 3)\n",
      "\u001b[92mINFO \u001b[0m:      aggregate_evaluate: received 1 results and 0 failures\n",
      "\u001b[92mINFO \u001b[0m:      \n",
      "\u001b[92mINFO \u001b[0m:      [ROUND 39]\n",
      "\u001b[92mINFO \u001b[0m:      configure_fit: strategy sampled 3 clients (out of 3)\n"
     ]
    },
    {
     "name": "stdout",
     "output_type": "stream",
     "text": [
      "Server-side evaluation loss 0.04588765447789973 / accuracy 77.9685287475586\n",
      "\u001b[2m\u001b[36m(ClientAppActor pid=2290805)\u001b[0m \u001b[32m [repeated 301x across cluster]\u001b[0m\n",
      "\u001b[2m\u001b[36m(ClientAppActor pid=2290805)\u001b[0m Epoch 98/100\u001b[32m [repeated 301x across cluster]\u001b[0m\n",
      "\u001b[2m\u001b[36m(ClientAppActor pid=2290804)\u001b[0m Epoch 27: Training accuracy: 78.59281158447266 Testing accuracy: 72.45509338378906.\u001b[32m [repeated 305x across cluster]\u001b[0m\n"
     ]
    },
    {
     "name": "stderr",
     "output_type": "stream",
     "text": [
      "\u001b[92mINFO \u001b[0m:      aggregate_fit: received 3 results and 0 failures\n",
      "\u001b[92mINFO \u001b[0m:      fit progress: (39, 0.04591284014961936, {'accuracy': tensor(78.2546, device='cuda:0')}, 206.55699636705685)\n",
      "\u001b[92mINFO \u001b[0m:      configure_evaluate: strategy sampled 1 clients (out of 3)\n",
      "\u001b[92mINFO \u001b[0m:      aggregate_evaluate: received 1 results and 0 failures\n",
      "\u001b[92mINFO \u001b[0m:      \n",
      "\u001b[92mINFO \u001b[0m:      [ROUND 40]\n",
      "\u001b[92mINFO \u001b[0m:      configure_fit: strategy sampled 3 clients (out of 3)\n"
     ]
    },
    {
     "name": "stdout",
     "output_type": "stream",
     "text": [
      "Server-side evaluation loss 0.04591284014961936 / accuracy 78.25464630126953\n",
      "\u001b[2m\u001b[36m(ClientAppActor pid=2290805)\u001b[0m \u001b[32m [repeated 299x across cluster]\u001b[0m\n",
      "\u001b[2m\u001b[36m(ClientAppActor pid=2290805)\u001b[0m Epoch 98/100\u001b[32m [repeated 299x across cluster]\u001b[0m\n",
      "\u001b[2m\u001b[36m(ClientAppActor pid=2290804)\u001b[0m Epoch 26: Training accuracy: 78.66766357421875 Testing accuracy: 73.65269470214844.\u001b[32m [repeated 299x across cluster]\u001b[0m\n"
     ]
    },
    {
     "name": "stderr",
     "output_type": "stream",
     "text": [
      "\u001b[92mINFO \u001b[0m:      aggregate_fit: received 3 results and 0 failures\n",
      "\u001b[92mINFO \u001b[0m:      fit progress: (40, 0.046001331372694534, {'accuracy': tensor(80.1144, device='cuda:0')}, 211.64859912497923)\n",
      "\u001b[92mINFO \u001b[0m:      configure_evaluate: strategy sampled 1 clients (out of 3)\n",
      "\u001b[92mINFO \u001b[0m:      aggregate_evaluate: received 1 results and 0 failures\n",
      "\u001b[92mINFO \u001b[0m:      \n",
      "\u001b[92mINFO \u001b[0m:      [ROUND 41]\n",
      "\u001b[92mINFO \u001b[0m:      configure_fit: strategy sampled 3 clients (out of 3)\n"
     ]
    },
    {
     "name": "stdout",
     "output_type": "stream",
     "text": [
      "Server-side evaluation loss 0.046001331372694534 / accuracy 80.11444854736328\n",
      "\u001b[2m\u001b[36m(ClientAppActor pid=2290805)\u001b[0m \u001b[32m [repeated 304x across cluster]\u001b[0m\n",
      "\u001b[2m\u001b[36m(ClientAppActor pid=2290805)\u001b[0m Epoch 18/100\u001b[32m [repeated 304x across cluster]\u001b[0m\n",
      "\u001b[2m\u001b[36m(ClientAppActor pid=2290805)\u001b[0m Epoch 25: Training accuracy: 79.11676788330078 Testing accuracy: 72.45509338378906.\u001b[32m [repeated 299x across cluster]\u001b[0m\n"
     ]
    },
    {
     "name": "stderr",
     "output_type": "stream",
     "text": [
      "\u001b[92mINFO \u001b[0m:      aggregate_fit: received 3 results and 0 failures\n",
      "\u001b[92mINFO \u001b[0m:      fit progress: (41, 0.046311779455705124, {'accuracy': tensor(78.3977, device='cuda:0')}, 216.86131659697276)\n",
      "\u001b[92mINFO \u001b[0m:      configure_evaluate: strategy sampled 1 clients (out of 3)\n",
      "\u001b[92mINFO \u001b[0m:      aggregate_evaluate: received 1 results and 0 failures\n",
      "\u001b[92mINFO \u001b[0m:      \n",
      "\u001b[92mINFO \u001b[0m:      [ROUND 42]\n",
      "\u001b[92mINFO \u001b[0m:      configure_fit: strategy sampled 3 clients (out of 3)\n"
     ]
    },
    {
     "name": "stdout",
     "output_type": "stream",
     "text": [
      "Server-side evaluation loss 0.046311779455705124 / accuracy 78.39771270751953\n",
      "\u001b[2m\u001b[36m(ClientAppActor pid=2290805)\u001b[0m \u001b[32m [repeated 292x across cluster]\u001b[0m\n",
      "\u001b[2m\u001b[36m(ClientAppActor pid=2290805)\u001b[0m Epoch 15/100\u001b[32m [repeated 292x across cluster]\u001b[0m\n",
      "\u001b[2m\u001b[36m(ClientAppActor pid=2290805)\u001b[0m Epoch 22: Training accuracy: 79.56586456298828 Testing accuracy: 74.85029602050781.\u001b[32m [repeated 296x across cluster]\u001b[0m\n"
     ]
    },
    {
     "name": "stderr",
     "output_type": "stream",
     "text": [
      "\u001b[92mINFO \u001b[0m:      aggregate_fit: received 3 results and 0 failures\n",
      "\u001b[92mINFO \u001b[0m:      fit progress: (42, 0.04581570625305176, {'accuracy': tensor(80.2575, device='cuda:0')}, 221.97934520302806)\n",
      "\u001b[92mINFO \u001b[0m:      configure_evaluate: strategy sampled 1 clients (out of 3)\n",
      "\u001b[92mINFO \u001b[0m:      aggregate_evaluate: received 1 results and 0 failures\n",
      "\u001b[92mINFO \u001b[0m:      \n",
      "\u001b[92mINFO \u001b[0m:      [ROUND 43]\n",
      "\u001b[92mINFO \u001b[0m:      configure_fit: strategy sampled 3 clients (out of 3)\n"
     ]
    },
    {
     "name": "stdout",
     "output_type": "stream",
     "text": [
      "Server-side evaluation loss 0.04581570625305176 / accuracy 80.25750732421875\n",
      "\u001b[2m\u001b[36m(ClientAppActor pid=2290805)\u001b[0m \u001b[32m [repeated 295x across cluster]\u001b[0m\n",
      "\u001b[2m\u001b[36m(ClientAppActor pid=2290805)\u001b[0m Epoch 94/100\u001b[32m [repeated 295x across cluster]\u001b[0m\n",
      "\u001b[2m\u001b[36m(ClientAppActor pid=2290805)\u001b[0m Epoch 99: Training accuracy: 79.46859741210938 Testing accuracy: 84.05796813964844.\u001b[32m [repeated 294x across cluster]\u001b[0m\n"
     ]
    },
    {
     "name": "stderr",
     "output_type": "stream",
     "text": [
      "\u001b[92mINFO \u001b[0m:      aggregate_fit: received 3 results and 0 failures\n",
      "\u001b[92mINFO \u001b[0m:      fit progress: (43, 0.045835386623035775, {'accuracy': tensor(80.4006, device='cuda:0')}, 227.07359597506002)\n",
      "\u001b[92mINFO \u001b[0m:      configure_evaluate: strategy sampled 1 clients (out of 3)\n",
      "\u001b[92mINFO \u001b[0m:      aggregate_evaluate: received 1 results and 0 failures\n",
      "\u001b[92mINFO \u001b[0m:      \n",
      "\u001b[92mINFO \u001b[0m:      [ROUND 44]\n",
      "\u001b[92mINFO \u001b[0m:      configure_fit: strategy sampled 3 clients (out of 3)\n"
     ]
    },
    {
     "name": "stdout",
     "output_type": "stream",
     "text": [
      "Server-side evaluation loss 0.045835386623035775 / accuracy 80.40057373046875\n",
      "\u001b[2m\u001b[36m(ClientAppActor pid=2290804)\u001b[0m \u001b[32m [repeated 308x across cluster]\u001b[0m\n",
      "\u001b[2m\u001b[36m(ClientAppActor pid=2290804)\u001b[0m Epoch 11/100\u001b[32m [repeated 308x across cluster]\u001b[0m\n",
      "\u001b[2m\u001b[36m(ClientAppActor pid=2290804)\u001b[0m Epoch 17: Training accuracy: 80.67633056640625 Testing accuracy: 82.60869598388672.\u001b[32m [repeated 302x across cluster]\u001b[0m\n"
     ]
    },
    {
     "name": "stderr",
     "output_type": "stream",
     "text": [
      "\u001b[92mINFO \u001b[0m:      aggregate_fit: received 3 results and 0 failures\n",
      "\u001b[92mINFO \u001b[0m:      fit progress: (44, 0.04650611227208918, {'accuracy': tensor(79.6853, device='cuda:0')}, 232.70092379697599)\n",
      "\u001b[92mINFO \u001b[0m:      configure_evaluate: strategy sampled 1 clients (out of 3)\n",
      "\u001b[92mINFO \u001b[0m:      aggregate_evaluate: received 1 results and 0 failures\n",
      "\u001b[92mINFO \u001b[0m:      \n",
      "\u001b[92mINFO \u001b[0m:      [ROUND 45]\n",
      "\u001b[92mINFO \u001b[0m:      configure_fit: strategy sampled 3 clients (out of 3)\n"
     ]
    },
    {
     "name": "stdout",
     "output_type": "stream",
     "text": [
      "Server-side evaluation loss 0.04650611227208918 / accuracy 79.68526458740234\n",
      "\u001b[2m\u001b[36m(ClientAppActor pid=2290805)\u001b[0m \u001b[32m [repeated 264x across cluster]\u001b[0m\n",
      "\u001b[2m\u001b[36m(ClientAppActor pid=2290805)\u001b[0m Epoch 90/100\u001b[32m [repeated 264x across cluster]\u001b[0m\n",
      "\u001b[2m\u001b[36m(ClientAppActor pid=2290805)\u001b[0m Epoch 96: Training accuracy: 80.1646728515625 Testing accuracy: 76.04790496826172.\u001b[32m [repeated 271x across cluster]\u001b[0m\n"
     ]
    },
    {
     "name": "stderr",
     "output_type": "stream",
     "text": [
      "\u001b[92mINFO \u001b[0m:      aggregate_fit: received 3 results and 0 failures\n",
      "\u001b[92mINFO \u001b[0m:      fit progress: (45, 0.04557746106928045, {'accuracy': tensor(78.9700, device='cuda:0')}, 238.51106880197767)\n",
      "\u001b[92mINFO \u001b[0m:      configure_evaluate: strategy sampled 1 clients (out of 3)\n",
      "\u001b[92mINFO \u001b[0m:      aggregate_evaluate: received 1 results and 0 failures\n",
      "\u001b[92mINFO \u001b[0m:      \n",
      "\u001b[92mINFO \u001b[0m:      [ROUND 46]\n",
      "\u001b[92mINFO \u001b[0m:      configure_fit: strategy sampled 3 clients (out of 3)\n"
     ]
    },
    {
     "name": "stdout",
     "output_type": "stream",
     "text": [
      "Server-side evaluation loss 0.04557746106928045 / accuracy 78.96995544433594\n",
      "\u001b[2m\u001b[36m(ClientAppActor pid=2290805)\u001b[0m \u001b[32m [repeated 239x across cluster]\u001b[0m\n",
      "\u001b[2m\u001b[36m(ClientAppActor pid=2290805)\u001b[0m Epoch 64/100\u001b[32m [repeated 239x across cluster]\u001b[0m\n",
      "\u001b[2m\u001b[36m(ClientAppActor pid=2290805)\u001b[0m Epoch 71: Training accuracy: 80.01496887207031 Testing accuracy: 75.44910430908203.\u001b[32m [repeated 237x across cluster]\u001b[0m\n"
     ]
    },
    {
     "name": "stderr",
     "output_type": "stream",
     "text": [
      "\u001b[92mINFO \u001b[0m:      aggregate_fit: received 3 results and 0 failures\n",
      "\u001b[92mINFO \u001b[0m:      fit progress: (46, 0.04576647823507136, {'accuracy': tensor(78.3977, device='cuda:0')}, 243.78332658298314)\n",
      "\u001b[92mINFO \u001b[0m:      configure_evaluate: strategy sampled 1 clients (out of 3)\n",
      "\u001b[92mINFO \u001b[0m:      aggregate_evaluate: received 1 results and 0 failures\n",
      "\u001b[92mINFO \u001b[0m:      \n",
      "\u001b[92mINFO \u001b[0m:      [ROUND 47]\n",
      "\u001b[92mINFO \u001b[0m:      configure_fit: strategy sampled 3 clients (out of 3)\n"
     ]
    },
    {
     "name": "stdout",
     "output_type": "stream",
     "text": [
      "Server-side evaluation loss 0.04576647823507136 / accuracy 78.39771270751953\n",
      "\u001b[2m\u001b[36m(ClientAppActor pid=2290805)\u001b[0m \u001b[32m [repeated 296x across cluster]\u001b[0m\n",
      "\u001b[2m\u001b[36m(ClientAppActor pid=2290805)\u001b[0m Epoch 57/100\u001b[32m [repeated 296x across cluster]\u001b[0m\n",
      "\u001b[2m\u001b[36m(ClientAppActor pid=2290805)\u001b[0m Epoch 63: Training accuracy: 78.443115234375 Testing accuracy: 74.25149536132812.\u001b[32m [repeated 298x across cluster]\u001b[0m\n"
     ]
    },
    {
     "name": "stderr",
     "output_type": "stream",
     "text": [
      "\u001b[92mINFO \u001b[0m:      aggregate_fit: received 3 results and 0 failures\n",
      "\u001b[92mINFO \u001b[0m:      fit progress: (47, 0.04573589563369751, {'accuracy': tensor(78.5408, device='cuda:0')}, 249.45699501002673)\n",
      "\u001b[92mINFO \u001b[0m:      configure_evaluate: strategy sampled 1 clients (out of 3)\n",
      "\u001b[92mINFO \u001b[0m:      aggregate_evaluate: received 1 results and 0 failures\n",
      "\u001b[92mINFO \u001b[0m:      \n",
      "\u001b[92mINFO \u001b[0m:      [ROUND 48]\n",
      "\u001b[92mINFO \u001b[0m:      configure_fit: strategy sampled 3 clients (out of 3)\n"
     ]
    },
    {
     "name": "stdout",
     "output_type": "stream",
     "text": [
      "Server-side evaluation loss 0.04573589563369751 / accuracy 78.540771484375\n",
      "\u001b[2m\u001b[36m(ClientAppActor pid=2290805)\u001b[0m \u001b[32m [repeated 247x across cluster]\u001b[0m\n",
      "\u001b[2m\u001b[36m(ClientAppActor pid=2290805)\u001b[0m Epoch 27/100\u001b[32m [repeated 247x across cluster]\u001b[0m\n",
      "\u001b[2m\u001b[36m(ClientAppActor pid=2290805)\u001b[0m Epoch 32: Training accuracy: 77.89855194091797 Testing accuracy: 82.12560272216797.\u001b[32m [repeated 246x across cluster]\u001b[0m\n"
     ]
    },
    {
     "name": "stderr",
     "output_type": "stream",
     "text": [
      "\u001b[92mINFO \u001b[0m:      aggregate_fit: received 3 results and 0 failures\n",
      "\u001b[92mINFO \u001b[0m:      fit progress: (48, 0.04544894803654064, {'accuracy': tensor(79.6853, device='cuda:0')}, 254.6330062840134)\n",
      "\u001b[92mINFO \u001b[0m:      configure_evaluate: strategy sampled 1 clients (out of 3)\n",
      "\u001b[92mINFO \u001b[0m:      aggregate_evaluate: received 1 results and 0 failures\n",
      "\u001b[92mINFO \u001b[0m:      \n",
      "\u001b[92mINFO \u001b[0m:      [ROUND 49]\n",
      "\u001b[92mINFO \u001b[0m:      configure_fit: strategy sampled 3 clients (out of 3)\n"
     ]
    },
    {
     "name": "stdout",
     "output_type": "stream",
     "text": [
      "Server-side evaluation loss 0.04544894803654064 / accuracy 79.68526458740234\n",
      "\u001b[2m\u001b[36m(ClientAppActor pid=2290805)\u001b[0m \u001b[32m [repeated 294x across cluster]\u001b[0m\n",
      "\u001b[2m\u001b[36m(ClientAppActor pid=2290805)\u001b[0m Epoch 24/100\u001b[32m [repeated 294x across cluster]\u001b[0m\n",
      "\u001b[2m\u001b[36m(ClientAppActor pid=2290805)\u001b[0m Epoch 28: Training accuracy: 80.25362396240234 Testing accuracy: 81.159423828125.\u001b[32m [repeated 292x across cluster]\u001b[0m\n"
     ]
    },
    {
     "name": "stderr",
     "output_type": "stream",
     "text": [
      "\u001b[92mINFO \u001b[0m:      aggregate_fit: received 3 results and 0 failures\n",
      "\u001b[92mINFO \u001b[0m:      fit progress: (49, 0.04629606008529663, {'accuracy': tensor(79.8283, device='cuda:0')}, 259.7152490289882)\n",
      "\u001b[92mINFO \u001b[0m:      configure_evaluate: strategy sampled 1 clients (out of 3)\n",
      "\u001b[92mINFO \u001b[0m:      aggregate_evaluate: received 1 results and 0 failures\n",
      "\u001b[92mINFO \u001b[0m:      \n",
      "\u001b[92mINFO \u001b[0m:      [ROUND 50]\n",
      "\u001b[92mINFO \u001b[0m:      configure_fit: strategy sampled 3 clients (out of 3)\n"
     ]
    },
    {
     "name": "stdout",
     "output_type": "stream",
     "text": [
      "Server-side evaluation loss 0.04629606008529663 / accuracy 79.82832336425781\n",
      "\u001b[2m\u001b[36m(ClientAppActor pid=2290805)\u001b[0m \u001b[32m [repeated 299x across cluster]\u001b[0m\n",
      "\u001b[2m\u001b[36m(ClientAppActor pid=2290805)\u001b[0m Epoch 29/100\u001b[32m [repeated 299x across cluster]\u001b[0m\n",
      "\u001b[2m\u001b[36m(ClientAppActor pid=2290805)\u001b[0m Epoch 36: Training accuracy: 79.88166046142578 Testing accuracy: 79.88166046142578.\u001b[32m [repeated 302x across cluster]\u001b[0m\n"
     ]
    },
    {
     "name": "stderr",
     "output_type": "stream",
     "text": [
      "\u001b[92mINFO \u001b[0m:      aggregate_fit: received 3 results and 0 failures\n",
      "\u001b[92mINFO \u001b[0m:      fit progress: (50, 0.04565087231722745, {'accuracy': tensor(80.2575, device='cuda:0')}, 264.9892334090546)\n",
      "\u001b[92mINFO \u001b[0m:      configure_evaluate: strategy sampled 1 clients (out of 3)\n",
      "\u001b[92mINFO \u001b[0m:      aggregate_evaluate: received 1 results and 0 failures\n",
      "\u001b[92mINFO \u001b[0m:      \n",
      "\u001b[92mINFO \u001b[0m:      [SUMMARY]\n",
      "\u001b[92mINFO \u001b[0m:      Run finished 50 rounds in 265.01s\n",
      "\u001b[92mINFO \u001b[0m:      History (loss, distributed):\n",
      "\u001b[92mINFO \u001b[0m:      \t('\\tround 1: 0.23089496294657388\\n'\n",
      "\u001b[92mINFO \u001b[0m:      \t '\\tround 2: 0.23076327641805014\\n'\n",
      "\u001b[92mINFO \u001b[0m:      \t '\\tround 3: 0.1701204478740692\\n'\n",
      "\u001b[92mINFO \u001b[0m:      \t '\\tround 4: 0.1589573472738266\\n'\n",
      "\u001b[92mINFO \u001b[0m:      \t '\\tround 5: 0.19918213287989298\\n'\n",
      "\u001b[92mINFO \u001b[0m:      \t '\\tround 6: 0.18714425961176553\\n'\n",
      "\u001b[92mINFO \u001b[0m:      \t '\\tround 7: 0.20153995354970297\\n'\n",
      "\u001b[92mINFO \u001b[0m:      \t '\\tround 8: 0.11951801180839539\\n'\n",
      "\u001b[92mINFO \u001b[0m:      \t '\\tround 9: 0.20659043391545615\\n'\n",
      "\u001b[92mINFO \u001b[0m:      \t '\\tround 10: 0.1247025728225708\\n'\n",
      "\u001b[92mINFO \u001b[0m:      \t '\\tround 11: 0.12112300097942352\\n'\n",
      "\u001b[92mINFO \u001b[0m:      \t '\\tround 12: 0.18223506212234497\\n'\n",
      "\u001b[92mINFO \u001b[0m:      \t '\\tround 13: 0.12555031478405\\n'\n",
      "\u001b[92mINFO \u001b[0m:      \t '\\tround 14: 0.1808632810910543\\n'\n",
      "\u001b[92mINFO \u001b[0m:      \t '\\tround 15: 0.1773890256881714\\n'\n",
      "\u001b[92mINFO \u001b[0m:      \t '\\tround 16: 0.17657160758972168\\n'\n",
      "\u001b[92mINFO \u001b[0m:      \t '\\tround 17: 0.13054406642913818\\n'\n",
      "\u001b[92mINFO \u001b[0m:      \t '\\tround 18: 0.1911704738934835\\n'\n",
      "\u001b[92mINFO \u001b[0m:      \t '\\tround 19: 0.1881802280743917\\n'\n",
      "\u001b[92mINFO \u001b[0m:      \t '\\tround 20: 0.16557574272155762\\n'\n",
      "\u001b[92mINFO \u001b[0m:      \t '\\tround 21: 0.18868031104405722\\n'\n",
      "\u001b[92mINFO \u001b[0m:      \t '\\tround 22: 0.17371145884195963\\n'\n",
      "\u001b[92mINFO \u001b[0m:      \t '\\tround 23: 0.1423405110836029\\n'\n",
      "\u001b[92mINFO \u001b[0m:      \t '\\tround 24: 0.12521876394748688\\n'\n",
      "\u001b[92mINFO \u001b[0m:      \t '\\tround 25: 0.16845834255218506\\n'\n",
      "\u001b[92mINFO \u001b[0m:      \t '\\tround 26: 0.16453672448794046\\n'\n",
      "\u001b[92mINFO \u001b[0m:      \t '\\tround 27: 0.19668656587600708\\n'\n",
      "\u001b[92mINFO \u001b[0m:      \t '\\tround 28: 0.12231487035751343\\n'\n",
      "\u001b[92mINFO \u001b[0m:      \t '\\tround 29: 0.11872826516628265\\n'\n",
      "\u001b[92mINFO \u001b[0m:      \t '\\tround 30: 0.16841973861058554\\n'\n",
      "\u001b[92mINFO \u001b[0m:      \t '\\tround 31: 0.11546006798744202\\n'\n",
      "\u001b[92mINFO \u001b[0m:      \t '\\tround 32: 0.18633548418680826\\n'\n",
      "\u001b[92mINFO \u001b[0m:      \t '\\tround 33: 0.1715824007987976\\n'\n",
      "\u001b[92mINFO \u001b[0m:      \t '\\tround 34: 0.17787603537241617\\n'\n",
      "\u001b[92mINFO \u001b[0m:      \t '\\tround 35: 0.15182135502497354\\n'\n",
      "\u001b[92mINFO \u001b[0m:      \t '\\tround 36: 0.12161901593208313\\n'\n",
      "\u001b[92mINFO \u001b[0m:      \t '\\tround 37: 0.1286340355873108\\n'\n",
      "\u001b[92mINFO \u001b[0m:      \t '\\tround 38: 0.17115130027135214\\n'\n",
      "\u001b[92mINFO \u001b[0m:      \t '\\tround 39: 0.17696030934651694\\n'\n",
      "\u001b[92mINFO \u001b[0m:      \t '\\tround 40: 0.1818857192993164\\n'\n",
      "\u001b[92mINFO \u001b[0m:      \t '\\tround 41: 0.13221314549446106\\n'\n",
      "\u001b[92mINFO \u001b[0m:      \t '\\tround 42: 0.16597670316696167\\n'\n",
      "\u001b[92mINFO \u001b[0m:      \t '\\tround 43: 0.12255126982927322\\n'\n",
      "\u001b[92mINFO \u001b[0m:      \t '\\tround 44: 0.11203258484601974\\n'\n",
      "\u001b[92mINFO \u001b[0m:      \t '\\tround 45: 0.16750027736028036\\n'\n",
      "\u001b[92mINFO \u001b[0m:      \t '\\tround 46: 0.18721572558085123\\n'\n",
      "\u001b[92mINFO \u001b[0m:      \t '\\tround 47: 0.1413419097661972\\n'\n",
      "\u001b[92mINFO \u001b[0m:      \t '\\tround 48: 0.1719451347986857\\n'\n",
      "\u001b[92mINFO \u001b[0m:      \t '\\tround 49: 0.10136916488409042\\n'\n",
      "\u001b[92mINFO \u001b[0m:      \t '\\tround 50: 0.1860051949818929\\n')History (loss, centralized):\n",
      "\u001b[92mINFO \u001b[0m:      \t('\\tround 0: 0.0702885010025718\\n'\n",
      "\u001b[92mINFO \u001b[0m:      \t '\\tround 1: 0.06296704574064775\\n'\n",
      "\u001b[92mINFO \u001b[0m:      \t '\\tround 2: 0.06283263726667924\\n'\n",
      "\u001b[92mINFO \u001b[0m:      \t '\\tround 3: 0.061996649612079964\\n'\n",
      "\u001b[92mINFO \u001b[0m:      \t '\\tround 4: 0.058676925572482025\\n'\n",
      "\u001b[92mINFO \u001b[0m:      \t '\\tround 5: 0.05420827865600586\\n'\n",
      "\u001b[92mINFO \u001b[0m:      \t '\\tround 6: 0.05098881504752419\\n'\n",
      "\u001b[92mINFO \u001b[0m:      \t '\\tround 7: 0.04924242063002153\\n'\n",
      "\u001b[92mINFO \u001b[0m:      \t '\\tround 8: 0.0484279990196228\\n'\n",
      "\u001b[92mINFO \u001b[0m:      \t '\\tround 9: 0.048204595392400566\\n'\n",
      "\u001b[92mINFO \u001b[0m:      \t '\\tround 10: 0.04784378138455478\\n'\n",
      "\u001b[92mINFO \u001b[0m:      \t '\\tround 11: 0.0474217263135043\\n'\n",
      "\u001b[92mINFO \u001b[0m:      \t '\\tround 12: 0.04795556176792492\\n'\n",
      "\u001b[92mINFO \u001b[0m:      \t '\\tround 13: 0.04750477183948864\\n'\n",
      "\u001b[92mINFO \u001b[0m:      \t '\\tround 14: 0.046866303140466865\\n'\n",
      "\u001b[92mINFO \u001b[0m:      \t '\\tround 15: 0.0468182617967779\\n'\n",
      "\u001b[92mINFO \u001b[0m:      \t '\\tround 16: 0.046689813787286934\\n'\n",
      "\u001b[92mINFO \u001b[0m:      \t '\\tround 17: 0.04657218673012473\\n'\n",
      "\u001b[92mINFO \u001b[0m:      \t '\\tround 18: 0.04650547287680886\\n'\n",
      "\u001b[92mINFO \u001b[0m:      \t '\\tround 19: 0.046353600241921165\\n'\n",
      "\u001b[92mINFO \u001b[0m:      \t '\\tround 20: 0.04629501429471103\\n'\n",
      "\u001b[92mINFO \u001b[0m:      \t '\\tround 21: 0.046178693121129814\\n'\n",
      "\u001b[92mINFO \u001b[0m:      \t '\\tround 22: 0.046241212974895134\\n'\n",
      "\u001b[92mINFO \u001b[0m:      \t '\\tround 23: 0.04612740061499856\\n'\n",
      "\u001b[92mINFO \u001b[0m:      \t '\\tround 24: 0.046128251335837624\\n'\n",
      "\u001b[92mINFO \u001b[0m:      \t '\\tround 25: 0.04607174071398648\\n'\n",
      "\u001b[92mINFO \u001b[0m:      \t '\\tround 26: 0.046396428888494316\\n'\n",
      "\u001b[92mINFO \u001b[0m:      \t '\\tround 27: 0.04680752754211426\\n'\n",
      "\u001b[92mINFO \u001b[0m:      \t '\\tround 28: 0.046412630514665085\\n'\n",
      "\u001b[92mINFO \u001b[0m:      \t '\\tround 29: 0.04674697464162653\\n'\n",
      "\u001b[92mINFO \u001b[0m:      \t '\\tround 30: 0.04600277272137729\\n'\n",
      "\u001b[92mINFO \u001b[0m:      \t '\\tround 31: 0.04597823728214611\\n'\n",
      "\u001b[92mINFO \u001b[0m:      \t '\\tround 32: 0.04608245871283791\\n'\n",
      "\u001b[92mINFO \u001b[0m:      \t '\\tround 33: 0.04588958350094882\\n'\n",
      "\u001b[92mINFO \u001b[0m:      \t '\\tround 34: 0.04619074409658259\\n'\n",
      "\u001b[92mINFO \u001b[0m:      \t '\\tround 35: 0.046207915652881966\\n'\n",
      "\u001b[92mINFO \u001b[0m:      \t '\\tround 36: 0.0461396954276345\\n'\n",
      "\u001b[92mINFO \u001b[0m:      \t '\\tround 37: 0.046336927197196266\\n'\n",
      "\u001b[92mINFO \u001b[0m:      \t '\\tround 38: 0.04588765447789973\\n'\n",
      "\u001b[92mINFO \u001b[0m:      \t '\\tround 39: 0.04591284014961936\\n'\n",
      "\u001b[92mINFO \u001b[0m:      \t '\\tround 40: 0.046001331372694534\\n'\n",
      "\u001b[92mINFO \u001b[0m:      \t '\\tround 41: 0.046311779455705124\\n'\n",
      "\u001b[92mINFO \u001b[0m:      \t '\\tround 42: 0.04581570625305176\\n'\n",
      "\u001b[92mINFO \u001b[0m:      \t '\\tround 43: 0.045835386623035775\\n'\n",
      "\u001b[92mINFO \u001b[0m:      \t '\\tround 44: 0.04650611227208918\\n'\n",
      "\u001b[92mINFO \u001b[0m:      \t '\\tround 45: 0.04557746106928045\\n'\n",
      "\u001b[92mINFO \u001b[0m:      \t '\\tround 46: 0.04576647823507136\\n'\n",
      "\u001b[92mINFO \u001b[0m:      \t '\\tround 47: 0.04573589563369751\\n'\n",
      "\u001b[92mINFO \u001b[0m:      \t '\\tround 48: 0.04544894803654064\\n'\n",
      "\u001b[92mINFO \u001b[0m:      \t '\\tround 49: 0.04629606008529663\\n'\n",
      "\u001b[92mINFO \u001b[0m:      \t '\\tround 50: 0.04565087231722745\\n')History (metrics, distributed, evaluate):\n",
      "\u001b[92mINFO \u001b[0m:      \t{'accuracy': [(1, 50.8875732421875),\n",
      "\u001b[92mINFO \u001b[0m:      \t              (2, 46.107784271240234),\n",
      "\u001b[92mINFO \u001b[0m:      \t              (3, 77.29468536376953),\n",
      "\u001b[92mINFO \u001b[0m:      \t              (4, 72.94686126708984),\n",
      "\u001b[92mINFO \u001b[0m:      \t              (5, 74.55621337890625),\n",
      "\u001b[92mINFO \u001b[0m:      \t              (6, 74.55621337890625),\n",
      "\u001b[92mINFO \u001b[0m:      \t              (7, 78.10650634765625),\n",
      "\u001b[92mINFO \u001b[0m:      \t              (8, 77.77777862548828),\n",
      "\u001b[92mINFO \u001b[0m:      \t              (9, 70.05988311767578),\n",
      "\u001b[92mINFO \u001b[0m:      \t              (10, 77.77777862548828),\n",
      "\u001b[92mINFO \u001b[0m:      \t              (11, 80.1932373046875),\n",
      "\u001b[92mINFO \u001b[0m:      \t              (12, 74.25149536132812),\n",
      "\u001b[92mINFO \u001b[0m:      \t              (13, 80.67633056640625),\n",
      "\u001b[92mINFO \u001b[0m:      \t              (14, 75.1479263305664),\n",
      "\u001b[92mINFO \u001b[0m:      \t              (15, 74.25149536132812),\n",
      "\u001b[92mINFO \u001b[0m:      \t              (16, 71.85628509521484),\n",
      "\u001b[92mINFO \u001b[0m:      \t              (17, 80.1932373046875),\n",
      "\u001b[92mINFO \u001b[0m:      \t              (18, 76.33135986328125),\n",
      "\u001b[92mINFO \u001b[0m:      \t              (19, 76.33135986328125),\n",
      "\u001b[92mINFO \u001b[0m:      \t              (20, 75.7396469116211),\n",
      "\u001b[92mINFO \u001b[0m:      \t              (21, 72.45509338378906),\n",
      "\u001b[92mINFO \u001b[0m:      \t              (22, 76.33135986328125),\n",
      "\u001b[92mINFO \u001b[0m:      \t              (23, 77.77777862548828),\n",
      "\u001b[92mINFO \u001b[0m:      \t              (24, 77.77777862548828),\n",
      "\u001b[92mINFO \u001b[0m:      \t              (25, 76.33135986328125),\n",
      "\u001b[92mINFO \u001b[0m:      \t              (26, 80.47337341308594),\n",
      "\u001b[92mINFO \u001b[0m:      \t              (27, 73.05389404296875),\n",
      "\u001b[92mINFO \u001b[0m:      \t              (28, 81.159423828125),\n",
      "\u001b[92mINFO \u001b[0m:      \t              (29, 80.67633056640625),\n",
      "\u001b[92mINFO \u001b[0m:      \t              (30, 77.5147933959961),\n",
      "\u001b[92mINFO \u001b[0m:      \t              (31, 78.26087188720703),\n",
      "\u001b[92mINFO \u001b[0m:      \t              (32, 79.88166046142578),\n",
      "\u001b[92mINFO \u001b[0m:      \t              (33, 78.10650634765625),\n",
      "\u001b[92mINFO \u001b[0m:      \t              (34, 71.85628509521484),\n",
      "\u001b[92mINFO \u001b[0m:      \t              (35, 79.2899398803711),\n",
      "\u001b[92mINFO \u001b[0m:      \t              (36, 82.12560272216797),\n",
      "\u001b[92mINFO \u001b[0m:      \t              (37, 81.64250946044922),\n",
      "\u001b[92mINFO \u001b[0m:      \t              (38, 78.10650634765625),\n",
      "\u001b[92mINFO \u001b[0m:      \t              (39, 72.45509338378906),\n",
      "\u001b[92mINFO \u001b[0m:      \t              (40, 79.88166046142578),\n",
      "\u001b[92mINFO \u001b[0m:      \t              (41, 76.81159210205078),\n",
      "\u001b[92mINFO \u001b[0m:      \t              (42, 79.88166046142578),\n",
      "\u001b[92mINFO \u001b[0m:      \t              (43, 82.12560272216797),\n",
      "\u001b[92mINFO \u001b[0m:      \t              (44, 82.60869598388672),\n",
      "\u001b[92mINFO \u001b[0m:      \t              (45, 79.88166046142578),\n",
      "\u001b[92mINFO \u001b[0m:      \t              (46, 72.45509338378906),\n",
      "\u001b[92mINFO \u001b[0m:      \t              (47, 77.29468536376953),\n",
      "\u001b[92mINFO \u001b[0m:      \t              (48, 73.65269470214844),\n",
      "\u001b[92mINFO \u001b[0m:      \t              (49, 83.57488250732422),\n",
      "\u001b[92mINFO \u001b[0m:      \t              (50, 73.65269470214844)]}History (metrics, centralized):\n",
      "\u001b[92mINFO \u001b[0m:      \t{'accuracy': [(0, tensor(49.9285, device='cuda:0')),\n",
      "\u001b[92mINFO \u001b[0m:      \t              (1, tensor(49.9285, device='cuda:0')),\n",
      "\u001b[92mINFO \u001b[0m:      \t              (2, tensor(49.9285, device='cuda:0')),\n",
      "\u001b[92mINFO \u001b[0m:      \t              (3, tensor(73.1044, device='cuda:0')),\n",
      "\u001b[92mINFO \u001b[0m:      \t              (4, tensor(71.6738, device='cuda:0')),\n",
      "\u001b[92mINFO \u001b[0m:      \t              (5, tensor(77.2532, device='cuda:0')),\n",
      "\u001b[92mINFO \u001b[0m:      \t              (6, tensor(76.1087, device='cuda:0')),\n",
      "\u001b[92mINFO \u001b[0m:      \t              (7, tensor(78.1116, device='cuda:0')),\n",
      "\u001b[92mINFO \u001b[0m:      \t              (8, tensor(78.5408, device='cuda:0')),\n",
      "\u001b[92mINFO \u001b[0m:      \t              (9, tensor(76.3949, device='cuda:0')),\n",
      "\u001b[92mINFO \u001b[0m:      \t              (10, tensor(76.1087, device='cuda:0')),\n",
      "\u001b[92mINFO \u001b[0m:      \t              (11, tensor(77.9685, device='cuda:0')),\n",
      "\u001b[92mINFO \u001b[0m:      \t              (12, tensor(79.2561, device='cuda:0')),\n",
      "\u001b[92mINFO \u001b[0m:      \t              (13, tensor(79.3991, device='cuda:0')),\n",
      "\u001b[92mINFO \u001b[0m:      \t              (14, tensor(77.5393, device='cuda:0')),\n",
      "\u001b[92mINFO \u001b[0m:      \t              (15, tensor(77.8255, device='cuda:0')),\n",
      "\u001b[92mINFO \u001b[0m:      \t              (16, tensor(77.3963, device='cuda:0')),\n",
      "\u001b[92mINFO \u001b[0m:      \t              (17, tensor(78.8269, device='cuda:0')),\n",
      "\u001b[92mINFO \u001b[0m:      \t              (18, tensor(78.9700, device='cuda:0')),\n",
      "\u001b[92mINFO \u001b[0m:      \t              (19, tensor(77.9685, device='cuda:0')),\n",
      "\u001b[92mINFO \u001b[0m:      \t              (20, tensor(78.2546, device='cuda:0')),\n",
      "\u001b[92mINFO \u001b[0m:      \t              (21, tensor(77.5393, device='cuda:0')),\n",
      "\u001b[92mINFO \u001b[0m:      \t              (22, tensor(77.6824, device='cuda:0')),\n",
      "\u001b[92mINFO \u001b[0m:      \t              (23, tensor(77.6824, device='cuda:0')),\n",
      "\u001b[92mINFO \u001b[0m:      \t              (24, tensor(77.8255, device='cuda:0')),\n",
      "\u001b[92mINFO \u001b[0m:      \t              (25, tensor(78.8269, device='cuda:0')),\n",
      "\u001b[92mINFO \u001b[0m:      \t              (26, tensor(79.3991, device='cuda:0')),\n",
      "\u001b[92mINFO \u001b[0m:      \t              (27, tensor(79.6853, device='cuda:0')),\n",
      "\u001b[92mINFO \u001b[0m:      \t              (28, tensor(79.5422, device='cuda:0')),\n",
      "\u001b[92mINFO \u001b[0m:      \t              (29, tensor(79.6853, device='cuda:0')),\n",
      "\u001b[92mINFO \u001b[0m:      \t              (30, tensor(78.1116, device='cuda:0')),\n",
      "\u001b[92mINFO \u001b[0m:      \t              (31, tensor(77.9685, device='cuda:0')),\n",
      "\u001b[92mINFO \u001b[0m:      \t              (32, tensor(79.6853, device='cuda:0')),\n",
      "\u001b[92mINFO \u001b[0m:      \t              (33, tensor(78.5408, device='cuda:0')),\n",
      "\u001b[92mINFO \u001b[0m:      \t              (34, tensor(77.3963, device='cuda:0')),\n",
      "\u001b[92mINFO \u001b[0m:      \t              (35, tensor(79.5422, device='cuda:0')),\n",
      "\u001b[92mINFO \u001b[0m:      \t              (36, tensor(79.8283, device='cuda:0')),\n",
      "\u001b[92mINFO \u001b[0m:      \t              (37, tensor(79.5422, device='cuda:0')),\n",
      "\u001b[92mINFO \u001b[0m:      \t              (38, tensor(77.9685, device='cuda:0')),\n",
      "\u001b[92mINFO \u001b[0m:      \t              (39, tensor(78.2546, device='cuda:0')),\n",
      "\u001b[92mINFO \u001b[0m:      \t              (40, tensor(80.1144, device='cuda:0')),\n",
      "\u001b[92mINFO \u001b[0m:      \t              (41, tensor(78.3977, device='cuda:0')),\n",
      "\u001b[92mINFO \u001b[0m:      \t              (42, tensor(80.2575, device='cuda:0')),\n",
      "\u001b[92mINFO \u001b[0m:      \t              (43, tensor(80.4006, device='cuda:0')),\n",
      "\u001b[92mINFO \u001b[0m:      \t              (44, tensor(79.6853, device='cuda:0')),\n",
      "\u001b[92mINFO \u001b[0m:      \t              (45, tensor(78.9700, device='cuda:0')),\n",
      "\u001b[92mINFO \u001b[0m:      \t              (46, tensor(78.3977, device='cuda:0')),\n",
      "\u001b[92mINFO \u001b[0m:      \t              (47, tensor(78.5408, device='cuda:0')),\n",
      "\u001b[92mINFO \u001b[0m:      \t              (48, tensor(79.6853, device='cuda:0')),\n",
      "\u001b[92mINFO \u001b[0m:      \t              (49, tensor(79.8283, device='cuda:0')),\n",
      "\u001b[92mINFO \u001b[0m:      \t              (50, tensor(80.2575, device='cuda:0'))]}\n",
      "\u001b[92mINFO \u001b[0m:      \n"
     ]
    },
    {
     "name": "stdout",
     "output_type": "stream",
     "text": [
      "Server-side evaluation loss 0.04565087231722745 / accuracy 80.25750732421875\n"
     ]
    }
   ],
   "source": [
    "# client will be allocated 1x CPU and 0x GPUs\n",
    "if device.type == 'cuda':\n",
    "    # here we are assigning an entire GPU for each client.\n",
    "    client_resources = {\"num_cpus\": 1, \"num_gpus\": 1.0}\n",
    "    # Refer to our documentation for more details about Flower Simulations\n",
    "    # and how to setup these `client_resources`.\n",
    "    \n",
    "# The `evaluate` function will be called by Flower after every round\n",
    "fl_acc = []\n",
    "def evaluate(server_round,parameters,config):\n",
    "    testloader = azure_test_loader\n",
    "    set_parameters(net_FL, parameters)  # Update model with the latest parameters\n",
    "    loss, accuracy = test(net_FL, testloader, configuration)\n",
    "    print(f\"Server-side evaluation loss {loss} / accuracy {accuracy}\")\n",
    "    fl_acc.append(accuracy)\n",
    "    metrics = {'FL loss': loss,\n",
    "               \"FL accuracy\": accuracy}\n",
    "    wandb.log(metrics)\n",
    "    return loss, {\"accuracy\": accuracy}\n",
    "\n",
    "def weighted_average(metrics):\n",
    "    # Multiply accuracy of each client by number of examples used\n",
    "    accuracies = [num_examples * m[\"accuracy\"] for num_examples, m in metrics]\n",
    "    examples = [num_examples for num_examples, _ in metrics]\n",
    "\n",
    "    # Aggregate and return custom metric (weighted average)\n",
    "    return {\"accuracy\": sum(accuracies) / sum(examples)}\n",
    "params = get_parameters(net_FL)\n",
    "strategy = fl.server.strategy.FedAvg(\n",
    "    fraction_fit=1,\n",
    "    fraction_evaluate=0.5,\n",
    "    min_fit_clients=2,\n",
    "    min_evaluate_clients=1,\n",
    "    min_available_clients=1,\n",
    "    evaluate_fn=evaluate,\n",
    "    initial_parameters= ndarrays_to_parameters(params),\n",
    "    evaluate_metrics_aggregation_fn=weighted_average # <-- pass the metric aggregation function\n",
    ")\n",
    "# Start simulation\n",
    "history = fl.simulation.start_simulation(\n",
    "    client_fn=client_fn,\n",
    "    num_clients=3,\n",
    "    config=fl.server.ServerConfig(num_rounds=configuration['num_rounds_FL']),\n",
    "    strategy=strategy,\n",
    "    client_resources=client_resources,\n",
    ")"
   ]
  },
  {
   "cell_type": "code",
   "execution_count": 16,
   "metadata": {},
   "outputs": [
    {
     "data": {
      "text/plain": [
       "Text(0.5, 0, 'Rounds')"
      ]
     },
     "execution_count": 16,
     "metadata": {},
     "output_type": "execute_result"
    },
    {
     "data": {
      "image/png": "[encoded data removed]",
      "text/plain": [
       "<Figure size 640x480 with 1 Axes>"
      ]
     },
     "metadata": {},
     "output_type": "display_data"
    },
    {
     "name": "stderr",
     "output_type": "stream",
     "text": [
      "wandb: Network error (ConnectTimeout), entering retry loop.\n",
      "*** SIGTERM received at time=1723468919 on cpu 4 ***\n",
      "PC: @     0x7f96a9caae2e  (unknown)  epoll_wait\n",
      "    @     0x7f96a9bc7520  (unknown)  (unknown)\n",
      "[2024-08-12 14:21:59,355 E 2289594 2289594] logging.cc:361: *** SIGTERM received at time=1723468919 on cpu 4 ***\n",
      "[2024-08-12 14:21:59,355 E 2289594 2289594] logging.cc:361: PC: @     0x7f96a9caae2e  (unknown)  epoll_wait\n",
      "[2024-08-12 14:21:59,355 E 2289594 2289594] logging.cc:361:     @     0x7f96a9bc7520  (unknown)  (unknown)\n"
     ]
    }
   ],
   "source": [
    "fl_acc\n",
    "f = []\n",
    "for i in fl_acc:\n",
    "    f.append(float(i))\n",
    "plt.plot(f)\n",
    "plt.title('Federated Transfer Learning test accuracies')\n",
    "plt.ylabel('Accuracies')\n",
    "plt.xlabel('Rounds')"
   ]
  }
 ],
 "metadata": {
  "kernelspec": {
   "display_name": "Python 3 (ipykernel)",
   "language": "python",
   "name": "python3"
  },
  "language_info": {
   "codemirror_mode": {
    "name": "ipython",
    "version": 3
   },
   "file_extension": ".py",
   "mimetype": "text/x-python",
   "name": "python",
   "nbconvert_exporter": "python",
   "pygments_lexer": "ipython3",
   "version": "3.10.0"
  }
 },
 "nbformat": 4,
 "nbformat_minor": 2
}
