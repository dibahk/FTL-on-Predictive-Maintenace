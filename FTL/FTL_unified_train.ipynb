{
 "cells": [
  {
   "cell_type": "code",
   "execution_count": 1,
   "metadata": {},
   "outputs": [
    {
     "name": "stdout",
     "output_type": "stream",
     "text": [
      "Using cuda.\n"
     ]
    }
   ],
   "source": [
    "%matplotlib inline\n",
    "import matplotlib.pyplot as plt\n",
    "import torchvision\n",
    "from torch.utils.data import TensorDataset, random_split, DataLoader\n",
    "import torch.nn as nn\n",
    "import time\n",
    "import wandb\n",
    "from sklearn.metrics import accuracy_score\n",
    "from imblearn.over_sampling import SMOTE\n",
    "import torch\n",
    "from datetime import datetime\n",
    "from collections import OrderedDict\n",
    "from sklearn.decomposition import PCA\n",
    "import flwr as fl\n",
    "from flwr.common import Metrics \n",
    "from time import gmtime, strftime\n",
    "from flwr.server.strategy import FedAvg, FedAdagrad, FedProx\n",
    "from flwr.common import ndarrays_to_parameters, NDArrays, Scalar, Context\n",
    "\n",
    "now = datetime.now() # current date and time\n",
    "date_time = now.strftime(\"%d-%m-%Y_%H:%M:%S\")\n",
    "device = torch.device('cuda' if torch.cuda.is_available() else 'cpu')\n",
    "print(f'Using {device}.')"
   ]
  },
  {
   "cell_type": "code",
   "execution_count": 2,
   "metadata": {},
   "outputs": [
    {
     "name": "stderr",
     "output_type": "stream",
     "text": [
      "\u001b[34m\u001b[1mwandb\u001b[0m: Currently logged in as: \u001b[33md-hadjikazemi\u001b[0m (\u001b[33md-hadjikazemi-queen-mary-university-of-london\u001b[0m). Use \u001b[1m`wandb login --relogin`\u001b[0m to force relogin\n",
      "/home/diba/miniconda3/envs/FTL/lib/python3.10/site-packages/wandb/sdk/lib/ipython.py:77: DeprecationWarning: Importing display from IPython.core.display is deprecated since IPython 7.14, please import from IPython display\n",
      "  from IPython.core.display import HTML, display  # type: ignore\n"
     ]
    },
    {
     "data": {
      "text/html": [
       "wandb version 0.17.6 is available!  To upgrade, please run:\n",
       " $ pip install wandb --upgrade"
      ],
      "text/plain": [
       "<IPython.core.display.HTML object>"
      ]
     },
     "metadata": {},
     "output_type": "display_data"
    },
    {
     "data": {
      "text/html": [
       "Tracking run with wandb version 0.17.4"
      ],
      "text/plain": [
       "<IPython.core.display.HTML object>"
      ]
     },
     "metadata": {},
     "output_type": "display_data"
    },
    {
     "data": {
      "text/html": [
       "Run data is saved locally in <code>/home/diba/wandb/run-20240812_104503-52vathx0</code>"
      ],
      "text/plain": [
       "<IPython.core.display.HTML object>"
      ]
     },
     "metadata": {},
     "output_type": "display_data"
    },
    {
     "data": {
      "text/html": [
       "Syncing run <strong><a href='https://wandb.ai/d-hadjikazemi-queen-mary-university-of-london/FTL%20unified/runs/52vathx0' target=\"_blank\">5 parts_12-08-2024_10:45:01</a></strong> to <a href='https://wandb.ai/d-hadjikazemi-queen-mary-university-of-london/FTL%20unified' target=\"_blank\">Weights & Biases</a> (<a href='https://wandb.me/run' target=\"_blank\">docs</a>)<br/>"
      ],
      "text/plain": [
       "<IPython.core.display.HTML object>"
      ]
     },
     "metadata": {},
     "output_type": "display_data"
    },
    {
     "data": {
      "text/html": [
       " View project at <a href='https://wandb.ai/d-hadjikazemi-queen-mary-university-of-london/FTL%20unified' target=\"_blank\">https://wandb.ai/d-hadjikazemi-queen-mary-university-of-london/FTL%20unified</a>"
      ],
      "text/plain": [
       "<IPython.core.display.HTML object>"
      ]
     },
     "metadata": {},
     "output_type": "display_data"
    },
    {
     "data": {
      "text/html": [
       " View run at <a href='https://wandb.ai/d-hadjikazemi-queen-mary-university-of-london/FTL%20unified/runs/52vathx0' target=\"_blank\">https://wandb.ai/d-hadjikazemi-queen-mary-university-of-london/FTL%20unified/runs/52vathx0</a>"
      ],
      "text/plain": [
       "<IPython.core.display.HTML object>"
      ]
     },
     "metadata": {},
     "output_type": "display_data"
    }
   ],
   "source": [
    "wandb.init(\n",
    "    # set the wandb project where this run will be logged\n",
    "    project=\"FTL unified\",\n",
    "    name= \"5 parts_{}\".format(date_time),\n",
    "    # track hyperparameters and run metadata\n",
    "    config={\n",
    "    \"learning_rate\": 0.0001,\n",
    "    \"architecture\": \"CNN\",\n",
    "    \"epochs\": 100,\n",
    "    \"batch_size\": 64,\n",
    "    \"decay\":0,\n",
    "    'dropout': 0.001,\n",
    "    \"learning_rate_FL\": 0.0001,\n",
    "    \"batch_size_FL\": 64,\n",
    "    \"decay_FL\": 1e-5,\n",
    "    'num_rounds_FL': 100, \n",
    "    'epochs_FL': 100,\n",
    "    'dropout_FL': 0.001\n",
    "    }\n",
    ")\n",
    "\n",
    "configuration  = dict(wandb.config)\n",
    "\n",
    "\n",
    "def data_loading_AZURE(data_paths, label_paths, batch_size, train_ratio=0.8, val_ratio=0.05, transfer_ratio= 0.4):\n",
    "    trainloader = []\n",
    "    valloader = []\n",
    "    traindata_list = []\n",
    "    trainlabel_list = []\n",
    "    valdata_list = []\n",
    "    vallabel_list = []\n",
    "    testdata_list = []\n",
    "    testlabels_list = []\n",
    "    for i in range(len(data_paths)):\n",
    "        # importing from paths\n",
    "        data = torch.load(data_paths[i])\n",
    "        labels = torch.load(label_paths[i])\n",
    "        data = nn.functional.normalize(data, dim=1)\n",
    "        # reshaping the dataset so  the channels will be the second dimension.\n",
    "        data = data.permute(0, 2, 1)\n",
    "        n_samples, n_channels, n_features = data.shape\n",
    "        X_reshaped = data.reshape(n_samples, -1) \n",
    "        # Apply SMOTE\n",
    "        smote = SMOTE(sampling_strategy='minority')\n",
    "        data_resampled, labels_resampled = smote.fit_resample(X_reshaped, labels)\n",
    "        # Reshape X_resampled back to 3D\n",
    "        data_resampled = data_resampled.reshape(-1, n_channels, n_features)\n",
    "        data_resampled = torch.tensor(data_resampled)\n",
    "        labels_resampled = torch.tensor(labels_resampled)\n",
    "        dataset = TensorDataset(data_resampled, labels_resampled)\n",
    "        test_ratio = 1 - (train_ratio + val_ratio)\n",
    "        print(test_ratio)\n",
    "        test_size = int(test_ratio * len(dataset))\n",
    "        print(test_size)\n",
    "        transfer_size = int((len(dataset) - test_size)*transfer_ratio)\n",
    "        train_size_t = int(train_ratio * transfer_size)\n",
    "        val_size_t = transfer_size - train_size_t\n",
    "        centralized_size = len(dataset) - (transfer_size + test_size)\n",
    "        train_size = int(centralized_size * train_ratio)\n",
    "        val_size = centralized_size - train_size\n",
    "\n",
    "        train_dataset, val_dataset, test_dataset, train_dataset_transfer, val_dataset_transfer = random_split(dataset, [train_size, val_size, test_size, train_size_t, val_size_t])\n",
    "\n",
    "        trainloader.append(DataLoader(train_dataset, batch_size=batch_size, shuffle=True))\n",
    "        valloader.append(DataLoader(val_dataset, batch_size=batch_size, shuffle=True))\n",
    "\n",
    "        traindata_list.append(train_dataset_transfer.dataset.tensors[0][train_dataset_transfer.indices])\n",
    "        trainlabel_list.append(train_dataset_transfer.dataset.tensors[1][train_dataset_transfer.indices])\n",
    "        valdata_list.append(val_dataset_transfer.dataset.tensors[0][val_dataset_transfer.indices])\n",
    "        vallabel_list.append(val_dataset_transfer.dataset.tensors[1][val_dataset_transfer.indices])\n",
    "        testdata_list.append(test_dataset.dataset.tensors[0][test_dataset.indices])\n",
    "        testlabels_list.append(test_dataset.dataset.tensors[1][test_dataset.indices])\n",
    "\n",
    "    traindata = torch.cat(traindata_list, dim=0)\n",
    "    trainlabels = torch.cat(trainlabel_list, dim=0)\n",
    "    valdata = torch.cat(valdata_list, dim=0)\n",
    "    vallabels = torch.cat(vallabel_list, dim=0)\n",
    "    testdata = torch.cat(testdata_list, dim=0)\n",
    "    testlabels = torch.cat(testlabels_list, dim=0)\n",
    "    \n",
    "    # Create a DataLoader for the combined test data\n",
    "    trainloader_transfer = DataLoader(TensorDataset(traindata, trainlabels), batch_size=batch_size, shuffle=False)\n",
    "    valloader_transfer = DataLoader(TensorDataset(valdata, vallabels), batch_size=batch_size, shuffle=False)\n",
    "    testloader = DataLoader(TensorDataset(testdata, testlabels), batch_size=batch_size, shuffle=False)\n",
    "    \n",
    "    return trainloader, valloader, testloader, trainloader_transfer, valloader_transfer\n",
    "\n",
    "def data_loading_NASA(data_path, label_path, batch_size, train_ratio=0.8, val_ratio = 0.5):\n",
    "    data = torch.load(data_path)\n",
    "    labels = torch.load(label_path)\n",
    "    data = nn.functional.normalize(data, dim=1)\n",
    "    # reshaping the dataset so  the channels will be the second dimension.\n",
    "    data = data.permute(0, 2, 1)\n",
    "    print(data.size())\n",
    "\n",
    "    def pca_reduction(data, n_components=4):\n",
    "        data_reshaped = data.reshape(-1, data.shape[1])\n",
    "\n",
    "        # Apply PCA\n",
    "        pca = PCA(n_components=n_components)\n",
    "        \n",
    "        data_reduced = pca.fit_transform(data_reshaped)\n",
    "\n",
    "        # Reshape back to (samples, n_components, time_steps)\n",
    "        data_reduced = data_reduced.reshape(data.shape[0], n_components, data.shape[2])\n",
    "\n",
    "        return data_reduced\n",
    "    print(data.dtype)\n",
    "    data = pca_reduction(data, n_components=4)\n",
    "    data =(torch.from_numpy(data)).float()\n",
    "    n_samples, n_channels, n_features = data.shape\n",
    "    X_reshaped = data.reshape(n_samples, -1) \n",
    "    \n",
    "    n_samples, n_channels, n_features = data.shape\n",
    "    X_reshaped = data.reshape(n_samples, -1) \n",
    "    \n",
    "    # Apply SMOTE\n",
    "    smote = SMOTE(sampling_strategy='minority')\n",
    "    data_resampled, labels_resampled = smote.fit_resample(X_reshaped, labels)\n",
    "    print((labels_resampled==1).sum())\n",
    "    # Reshape X_resampled back to 3D\n",
    "    data_resampled = data_resampled.reshape(-1, n_channels, n_features)\n",
    "    print(data_resampled.shape)\n",
    "    data_resampled = torch.tensor(data_resampled)\n",
    "    labels_resampled = torch.tensor(labels_resampled)\n",
    "    dataset = TensorDataset(data_resampled, labels_resampled)\n",
    "    train_size = int(train_ratio * len(dataset))\n",
    "    test_size = len(dataset) - train_size\n",
    "    val_size = int(val_ratio * test_size)\n",
    "    test_size = test_size - val_size\n",
    "    train_dataset, val_dataset, test_dataset = random_split(dataset, [train_size, val_size, test_size])\n",
    "    return DataLoader(train_dataset, batch_size=batch_size, shuffle=True), DataLoader(val_dataset, batch_size=batch_size, shuffle=True), DataLoader(test_dataset, batch_size=batch_size, shuffle=False)\n"
   ]
  },
  {
   "cell_type": "code",
   "execution_count": 3,
   "metadata": {},
   "outputs": [],
   "source": [
    "# Define the CNN architecture\n",
    "class Neural_Network(nn.Module):\n",
    "    def __init__(self):\n",
    "        super(Neural_Network, self).__init__()\n",
    "        self.conv1 = nn.Conv1d(in_channels=4, out_channels=8, kernel_size=5)\n",
    "        self.bn1 = nn.BatchNorm1d(8)\n",
    "        self.conv2 = nn.Conv1d(in_channels=8, out_channels=8, kernel_size=5)\n",
    "        self.bn2 = nn.BatchNorm1d(8)\n",
    "        self.pool = nn.MaxPool1d(kernel_size=2, padding=0, stride=1)\n",
    "        # the size of the out channels x number  of nodes \n",
    "        self.fc1 = nn.Linear(328, 200)\n",
    "        self.fc2 = nn.Linear(200, 2)\n",
    "        self.flatten = nn.Flatten()\n",
    "        self.relu = nn.ReLU()\n",
    "        self.dropout = nn.Dropout(configuration['dropout'])\n",
    "        self.sigmoid = nn.Sigmoid()\n",
    "\n",
    "    def forward(self, x):\n",
    "        # x = self.relu(self.conv1(x))\n",
    "        # x = self.relu(self.conv2(x))\n",
    "        x = self.relu(self.bn1(self.conv1(x)))\n",
    "        x = self.relu(self.bn2(self.conv2(x)))\n",
    "        x = self.dropout(x)\n",
    "        x = self.pool(x)\n",
    "        x = self.flatten(x)\n",
    "        x = self.relu(self.fc1(x))\n",
    "        x - self.dropout(x)\n",
    "        x = self.sigmoid(self.fc2(x))\n",
    "        return x"
   ]
  },
  {
   "cell_type": "code",
   "execution_count": 4,
   "metadata": {},
   "outputs": [],
   "source": [
    "def correct(logits, y):\n",
    "    y_hat = logits.argmax(axis=1) # Finds the column with the highest value for each row of `logits`.\n",
    "    return (y_hat == y).float().sum() # Computes the number of times that `y_hat` and `y` match.\n",
    "\n",
    "def evaluate_metric(model, data_iter, metric):\n",
    "    \"\"\"Compute the average `metric` of the model on a dataset.\"\"\"\n",
    "    c = torch.tensor(0.).to(device)\n",
    "    n = torch.tensor(0.).to(device)\n",
    "    for X, y in data_iter:\n",
    "        X, y = X.to(device), y.to(device) # Moves data to `device`\n",
    "        logits = model(X)\n",
    "        c += metric(logits, y)\n",
    "        n += len(y)\n",
    "    return c*100 / n\n"
   ]
  },
  {
   "cell_type": "code",
   "execution_count": 5,
   "metadata": {},
   "outputs": [
    {
     "name": "stdout",
     "output_type": "stream",
     "text": [
      "torch.Size([848, 24, 50])\n",
      "torch.float32\n",
      "685\n",
      "(1370, 4, 50)\n"
     ]
    }
   ],
   "source": [
    "def train(model, train_loaders,test_loader, config, epochs):\n",
    "    loss = nn.CrossEntropyLoss()\n",
    "    optimizer = torch.optim.Adam(model.parameters(), lr=config['learning_rate'], weight_decay=config['decay'])\n",
    "    losses = [] # Stores the loss for each training batch\n",
    "    train_accs = [] # Stores the training accuracy after each epoch\n",
    "    test_accs = []\n",
    "    for epoch in range(epochs):\n",
    "        print(f'\\nEpoch {epoch + 1}/{epochs}')\n",
    "        total, epoch_loss = 0, 0.0\n",
    "        model.train() # This is necessary because batch normalization behaves differently between training and evaluation\n",
    "        \n",
    "        for X, y in train_loaders:\n",
    "            X, y = X.to(device), y.to(device) # Moves data to `device`\n",
    "            logits = model(X) # Computes the logits for the batch of images `X`\n",
    "            l = loss(logits, y) # Computes the loss given the `logits` and the class vector `y`\n",
    "            optimizer.zero_grad() # Zeroes the gradients stored in the model parameters\n",
    "            l.backward() # Computes the gradient of the loss `l` with respect to the model parameters\n",
    "\n",
    "            optimizer.step() # Updates the model parameters based on the gradients stored inside them\n",
    "            epoch_loss += l\n",
    "            \n",
    "        model.eval() # This is necessary because batch normalization behaves differently between training and evaluation\n",
    "        train_acc = evaluate_metric(model, train_loaders, correct)\n",
    "        train_accs.append(train_acc)\n",
    "        test_acc = evaluate_metric(model, test_loader, correct)\n",
    "        test_accs.append(test_acc)\n",
    "        print(f'Epoch {epoch+1}: Training accuracy: {train_accs[-1]} Testing accuracy: {test_accs[-1]}.') # Computes and displays training/testing dataset accuracy.\n",
    "    plt.plot(list(map(lambda x: x.cpu(),train_accs)), label='Training accuracy')\n",
    "    plt.plot(list(map(lambda x: x.cpu(),test_accs)), label='Validation accuracy')\n",
    "    plt.title('accuracies')\n",
    "    plt.legend()\n",
    "\n",
    "def test(model, test_loaders,  configuration):\n",
    "    loss = nn.CrossEntropyLoss()\n",
    "    test_accs = []\n",
    "    optimizer = torch.optim.Adam(model.parameters(), lr=configuration['learning_rate'], weight_decay=configuration['decay'])\n",
    "    test_acc = []\n",
    "    l = 0.0\n",
    "    model.eval() # This is necessary because batch normalization behaves differently between training and evaluation\n",
    "    for X, y in test_loaders:    \n",
    "        X, y = X.to(device), y.to(device) # Moves data to `device`\n",
    "        logits = model(X)\n",
    "        l = loss(logits, y).item()\n",
    "        test_acc = evaluate_metric(model, test_loaders, correct)\n",
    "        test_accs.append(test_acc)\n",
    "        \n",
    "        # wandb.log({\"test_acc\": test_acc})\n",
    "        l /= len(test_loaders)\n",
    "        end_time = time.perf_counter()\n",
    "        # print('Testing accuracy: {test_accs[-1]}.')\n",
    "        return l, test_acc\n",
    "\n",
    "NASA = data_loading_NASA(data_path='NASA_data_50.pt', label_path= 'NASA_label_50.pt', batch_size= configuration['batch_size'])"
   ]
  },
  {
   "cell_type": "code",
   "execution_count": 6,
   "metadata": {},
   "outputs": [
    {
     "name": "stdout",
     "output_type": "stream",
     "text": [
      "\n",
      "Epoch 1/100\n",
      "Epoch 1: Training accuracy: 48.9963493347168 Testing accuracy: 56.20438003540039.\n",
      "\n",
      "Epoch 2/100\n",
      "Epoch 2: Training accuracy: 55.20072937011719 Testing accuracy: 47.445255279541016.\n",
      "\n",
      "Epoch 3/100\n",
      "Epoch 3: Training accuracy: 59.215328216552734 Testing accuracy: 43.79561996459961.\n",
      "\n",
      "Epoch 4/100\n",
      "Epoch 4: Training accuracy: 59.580291748046875 Testing accuracy: 48.1751823425293.\n",
      "\n",
      "Epoch 5/100\n",
      "Epoch 5: Training accuracy: 65.41970825195312 Testing accuracy: 44.52554702758789.\n",
      "\n",
      "Epoch 6/100\n",
      "Epoch 6: Training accuracy: 63.68613052368164 Testing accuracy: 45.25547409057617.\n",
      "\n",
      "Epoch 7/100\n",
      "Epoch 7: Training accuracy: 65.78466796875 Testing accuracy: 50.36496353149414.\n",
      "\n",
      "Epoch 8/100\n",
      "Epoch 8: Training accuracy: 67.88320922851562 Testing accuracy: 51.09489059448242.\n",
      "\n",
      "Epoch 9/100\n",
      "Epoch 9: Training accuracy: 66.51459503173828 Testing accuracy: 50.36496353149414.\n",
      "\n",
      "Epoch 10/100\n",
      "Epoch 10: Training accuracy: 67.06204223632812 Testing accuracy: 49.63503646850586.\n",
      "\n",
      "Epoch 11/100\n",
      "Epoch 11: Training accuracy: 69.52555084228516 Testing accuracy: 56.93430709838867.\n",
      "\n",
      "Epoch 12/100\n",
      "Epoch 12: Training accuracy: 70.34671783447266 Testing accuracy: 60.58394241333008.\n",
      "\n",
      "Epoch 13/100\n",
      "Epoch 13: Training accuracy: 71.44160461425781 Testing accuracy: 59.8540153503418.\n",
      "\n",
      "Epoch 14/100\n",
      "Epoch 14: Training accuracy: 71.07664489746094 Testing accuracy: 60.58394241333008.\n",
      "\n",
      "Epoch 15/100\n",
      "Epoch 15: Training accuracy: 71.25912475585938 Testing accuracy: 63.5036506652832.\n",
      "\n",
      "Epoch 16/100\n",
      "Epoch 16: Training accuracy: 71.44160461425781 Testing accuracy: 65.69342803955078.\n",
      "\n",
      "Epoch 17/100\n",
      "Epoch 17: Training accuracy: 73.08393859863281 Testing accuracy: 62.77372360229492.\n",
      "\n",
      "Epoch 18/100\n",
      "Epoch 18: Training accuracy: 72.9926986694336 Testing accuracy: 62.77372360229492.\n",
      "\n",
      "Epoch 19/100\n",
      "Epoch 19: Training accuracy: 74.08759307861328 Testing accuracy: 62.77372360229492.\n",
      "\n",
      "Epoch 20/100\n",
      "Epoch 20: Training accuracy: 74.36131286621094 Testing accuracy: 62.77372360229492.\n",
      "\n",
      "Epoch 21/100\n",
      "Epoch 21: Training accuracy: 75.18247985839844 Testing accuracy: 62.77372360229492.\n",
      "\n",
      "Epoch 22/100\n",
      "Epoch 22: Training accuracy: 76.00364685058594 Testing accuracy: 62.77372360229492.\n",
      "\n",
      "Epoch 23/100\n",
      "Epoch 23: Training accuracy: 76.642333984375 Testing accuracy: 63.5036506652832.\n",
      "\n",
      "Epoch 24/100\n",
      "Epoch 24: Training accuracy: 76.55109405517578 Testing accuracy: 64.9635009765625.\n",
      "\n",
      "Epoch 25/100\n",
      "Epoch 25: Training accuracy: 76.91606140136719 Testing accuracy: 64.23357391357422.\n",
      "\n",
      "Epoch 26/100\n",
      "Epoch 26: Training accuracy: 77.4635009765625 Testing accuracy: 62.04379653930664.\n",
      "\n",
      "Epoch 27/100\n",
      "Epoch 27: Training accuracy: 77.8284683227539 Testing accuracy: 65.69342803955078.\n",
      "\n",
      "Epoch 28/100\n",
      "Epoch 28: Training accuracy: 78.74087524414062 Testing accuracy: 64.23357391357422.\n",
      "\n",
      "Epoch 29/100\n",
      "Epoch 29: Training accuracy: 79.01459503173828 Testing accuracy: 65.69342803955078.\n",
      "\n",
      "Epoch 30/100\n",
      "Epoch 30: Training accuracy: 78.92335510253906 Testing accuracy: 65.69342803955078.\n",
      "\n",
      "Epoch 31/100\n",
      "Epoch 31: Training accuracy: 79.4708023071289 Testing accuracy: 67.15328216552734.\n",
      "\n",
      "Epoch 32/100\n",
      "Epoch 32: Training accuracy: 80.10948944091797 Testing accuracy: 64.9635009765625.\n",
      "\n",
      "Epoch 33/100\n",
      "Epoch 33: Training accuracy: 79.92700958251953 Testing accuracy: 68.6131362915039.\n",
      "\n",
      "Epoch 34/100\n",
      "Epoch 34: Training accuracy: 80.93065643310547 Testing accuracy: 64.9635009765625.\n",
      "\n",
      "Epoch 35/100\n",
      "Epoch 35: Training accuracy: 81.47810363769531 Testing accuracy: 67.88320922851562.\n",
      "\n",
      "Epoch 36/100\n",
      "Epoch 36: Training accuracy: 81.84306335449219 Testing accuracy: 67.15328216552734.\n",
      "\n",
      "Epoch 37/100\n",
      "Epoch 37: Training accuracy: 82.02555084228516 Testing accuracy: 66.42335510253906.\n",
      "\n",
      "Epoch 38/100\n",
      "Epoch 38: Training accuracy: 81.75182342529297 Testing accuracy: 70.80291748046875.\n",
      "\n",
      "Epoch 39/100\n",
      "Epoch 39: Training accuracy: 81.75182342529297 Testing accuracy: 67.15328216552734.\n",
      "\n",
      "Epoch 40/100\n",
      "Epoch 40: Training accuracy: 83.0291976928711 Testing accuracy: 70.07299041748047.\n",
      "\n",
      "Epoch 41/100\n",
      "Epoch 41: Training accuracy: 83.94160461425781 Testing accuracy: 68.6131362915039.\n",
      "\n",
      "Epoch 42/100\n",
      "Epoch 42: Training accuracy: 84.21533203125 Testing accuracy: 70.80291748046875.\n",
      "\n",
      "Epoch 43/100\n",
      "Epoch 43: Training accuracy: 84.76277160644531 Testing accuracy: 71.53284454345703.\n",
      "\n",
      "Epoch 44/100\n",
      "Epoch 44: Training accuracy: 84.21533203125 Testing accuracy: 70.80291748046875.\n",
      "\n",
      "Epoch 45/100\n",
      "Epoch 45: Training accuracy: 84.94525909423828 Testing accuracy: 72.26277160644531.\n",
      "\n",
      "Epoch 46/100\n",
      "Epoch 46: Training accuracy: 85.40145874023438 Testing accuracy: 72.9926986694336.\n",
      "\n",
      "Epoch 47/100\n",
      "Epoch 47: Training accuracy: 86.04014587402344 Testing accuracy: 75.18247985839844.\n",
      "\n",
      "Epoch 48/100\n",
      "Epoch 48: Training accuracy: 85.94890594482422 Testing accuracy: 73.72262573242188.\n",
      "\n",
      "Epoch 49/100\n",
      "Epoch 49: Training accuracy: 86.22262573242188 Testing accuracy: 75.18247985839844.\n",
      "\n",
      "Epoch 50/100\n",
      "Epoch 50: Training accuracy: 86.95255279541016 Testing accuracy: 76.642333984375.\n",
      "\n",
      "Epoch 51/100\n",
      "Epoch 51: Training accuracy: 86.77007293701172 Testing accuracy: 74.45255279541016.\n",
      "\n",
      "Epoch 52/100\n",
      "Epoch 52: Training accuracy: 87.04379272460938 Testing accuracy: 73.72262573242188.\n",
      "\n",
      "Epoch 53/100\n",
      "Epoch 53: Training accuracy: 86.95255279541016 Testing accuracy: 77.37226104736328.\n",
      "\n",
      "Epoch 54/100\n",
      "Epoch 54: Training accuracy: 85.76642608642578 Testing accuracy: 70.07299041748047.\n",
      "\n",
      "Epoch 55/100\n",
      "Epoch 55: Training accuracy: 87.86495971679688 Testing accuracy: 77.37226104736328.\n",
      "\n",
      "Epoch 56/100\n",
      "Epoch 56: Training accuracy: 88.50364685058594 Testing accuracy: 78.83211517333984.\n",
      "\n",
      "Epoch 57/100\n",
      "Epoch 57: Training accuracy: 87.86495971679688 Testing accuracy: 75.18247985839844.\n",
      "\n",
      "Epoch 58/100\n",
      "Epoch 58: Training accuracy: 88.77737426757812 Testing accuracy: 79.56204223632812.\n",
      "\n",
      "Epoch 59/100\n",
      "Epoch 59: Training accuracy: 88.50364685058594 Testing accuracy: 81.02189636230469.\n",
      "\n",
      "Epoch 60/100\n",
      "Epoch 60: Training accuracy: 87.86495971679688 Testing accuracy: 75.18247985839844.\n",
      "\n",
      "Epoch 61/100\n",
      "Epoch 61: Training accuracy: 89.5073013305664 Testing accuracy: 77.37226104736328.\n",
      "\n",
      "Epoch 62/100\n",
      "Epoch 62: Training accuracy: 89.68978118896484 Testing accuracy: 80.2919692993164.\n",
      "\n",
      "Epoch 63/100\n",
      "Epoch 63: Training accuracy: 89.87226104736328 Testing accuracy: 79.56204223632812.\n",
      "\n",
      "Epoch 64/100\n",
      "Epoch 64: Training accuracy: 89.5073013305664 Testing accuracy: 77.37226104736328.\n",
      "\n",
      "Epoch 65/100\n",
      "Epoch 65: Training accuracy: 89.59854125976562 Testing accuracy: 75.91240692138672.\n",
      "\n",
      "Epoch 66/100\n",
      "Epoch 66: Training accuracy: 90.69342803955078 Testing accuracy: 81.02189636230469.\n",
      "\n",
      "Epoch 67/100\n",
      "Epoch 67: Training accuracy: 89.142333984375 Testing accuracy: 74.45255279541016.\n",
      "\n",
      "Epoch 68/100\n",
      "Epoch 68: Training accuracy: 90.51094818115234 Testing accuracy: 78.83211517333984.\n",
      "\n",
      "Epoch 69/100\n",
      "Epoch 69: Training accuracy: 90.78466796875 Testing accuracy: 81.02189636230469.\n",
      "\n",
      "Epoch 70/100\n",
      "Epoch 70: Training accuracy: 89.9635009765625 Testing accuracy: 78.10218811035156.\n",
      "\n",
      "Epoch 71/100\n",
      "Epoch 71: Training accuracy: 91.60584259033203 Testing accuracy: 81.75182342529297.\n",
      "\n",
      "Epoch 72/100\n",
      "Epoch 72: Training accuracy: 91.78832244873047 Testing accuracy: 83.94160461425781.\n",
      "\n",
      "Epoch 73/100\n",
      "Epoch 73: Training accuracy: 90.69342803955078 Testing accuracy: 78.10218811035156.\n",
      "\n",
      "Epoch 74/100\n",
      "Epoch 74: Training accuracy: 91.69708251953125 Testing accuracy: 82.48175048828125.\n",
      "\n",
      "Epoch 75/100\n",
      "Epoch 75: Training accuracy: 92.06204223632812 Testing accuracy: 81.75182342529297.\n",
      "\n",
      "Epoch 76/100\n",
      "Epoch 76: Training accuracy: 91.33211517333984 Testing accuracy: 80.2919692993164.\n",
      "\n",
      "Epoch 77/100\n",
      "Epoch 77: Training accuracy: 91.87956237792969 Testing accuracy: 81.02189636230469.\n",
      "\n",
      "Epoch 78/100\n",
      "Epoch 78: Training accuracy: 91.87956237792969 Testing accuracy: 81.75182342529297.\n",
      "\n",
      "Epoch 79/100\n",
      "Epoch 79: Training accuracy: 92.51824951171875 Testing accuracy: 83.21167755126953.\n",
      "\n",
      "Epoch 80/100\n",
      "Epoch 80: Training accuracy: 92.24452209472656 Testing accuracy: 80.2919692993164.\n",
      "\n",
      "Epoch 81/100\n",
      "Epoch 81: Training accuracy: 92.33576965332031 Testing accuracy: 81.02189636230469.\n",
      "\n",
      "Epoch 82/100\n",
      "Epoch 82: Training accuracy: 92.51824951171875 Testing accuracy: 81.75182342529297.\n",
      "\n",
      "Epoch 83/100\n",
      "Epoch 83: Training accuracy: 92.88320922851562 Testing accuracy: 80.2919692993164.\n",
      "\n",
      "Epoch 84/100\n",
      "Epoch 84: Training accuracy: 92.97444915771484 Testing accuracy: 84.6715316772461.\n",
      "\n",
      "Epoch 85/100\n",
      "Epoch 85: Training accuracy: 93.15693664550781 Testing accuracy: 83.21167755126953.\n",
      "\n",
      "Epoch 86/100\n",
      "Epoch 86: Training accuracy: 92.60948944091797 Testing accuracy: 78.10218811035156.\n",
      "\n",
      "Epoch 87/100\n",
      "Epoch 87: Training accuracy: 92.33576965332031 Testing accuracy: 79.56204223632812.\n",
      "\n",
      "Epoch 88/100\n",
      "Epoch 88: Training accuracy: 93.43065643310547 Testing accuracy: 83.94160461425781.\n",
      "\n",
      "Epoch 89/100\n",
      "Epoch 89: Training accuracy: 93.52189636230469 Testing accuracy: 83.21167755126953.\n",
      "\n",
      "Epoch 90/100\n",
      "Epoch 90: Training accuracy: 93.70437622070312 Testing accuracy: 83.21167755126953.\n",
      "\n",
      "Epoch 91/100\n",
      "Epoch 91: Training accuracy: 93.43065643310547 Testing accuracy: 78.83211517333984.\n",
      "\n",
      "Epoch 92/100\n",
      "Epoch 92: Training accuracy: 94.06934356689453 Testing accuracy: 83.94160461425781.\n",
      "\n",
      "Epoch 93/100\n",
      "Epoch 93: Training accuracy: 94.06934356689453 Testing accuracy: 81.02189636230469.\n",
      "\n",
      "Epoch 94/100\n",
      "Epoch 94: Training accuracy: 94.06934356689453 Testing accuracy: 81.02189636230469.\n",
      "\n",
      "Epoch 95/100\n",
      "Epoch 95: Training accuracy: 94.25182342529297 Testing accuracy: 83.94160461425781.\n",
      "\n",
      "Epoch 96/100\n",
      "Epoch 96: Training accuracy: 94.16058349609375 Testing accuracy: 83.94160461425781.\n",
      "\n",
      "Epoch 97/100\n",
      "Epoch 97: Training accuracy: 93.97810363769531 Testing accuracy: 80.2919692993164.\n",
      "\n",
      "Epoch 98/100\n",
      "Epoch 98: Training accuracy: 94.25182342529297 Testing accuracy: 82.48175048828125.\n",
      "\n",
      "Epoch 99/100\n",
      "Epoch 99: Training accuracy: 93.70437622070312 Testing accuracy: 80.2919692993164.\n",
      "\n",
      "Epoch 100/100\n",
      "Epoch 100: Training accuracy: 94.4343032836914 Testing accuracy: 83.21167755126953.\n",
      "Epoch 1: validation loss 0.15857096513112387, accuracy 83.21167755126953\n",
      "Final test set performance:\n",
      "\tloss 0.19617301225662231\n",
      "\taccuracy 81.75182342529297\n"
     ]
    },
    {
     "data": {
      "image/png": "[encoded data removed]",
      "text/plain": [
       "<Figure size 640x480 with 1 Axes>"
      ]
     },
     "metadata": {},
     "output_type": "display_data"
    }
   ],
   "source": [
    "trainloader = NASA[0]\n",
    "valloader = NASA[1]\n",
    "testloader = NASA[2]\n",
    "net = Neural_Network().to(device)\n",
    "losses = []\n",
    "accuracies = []\n",
    "for epoch in range(1):\n",
    "    train(net, trainloader, valloader, configuration, configuration['epochs'])\n",
    "    loss, accuracy = test(net, valloader, configuration)\n",
    "    losses.append(loss)\n",
    "    accuracies.append(int(accuracy))\n",
    "    print(f\"Epoch {epoch+1}: validation loss {loss}, accuracy {accuracy}\")\n",
    "# plt.plot(accuracies)\n",
    "loss, accuracy = test(net, testloader, configuration=configuration)\n",
    "\n",
    "print(f\"Final test set performance:\\n\\tloss {loss}\\n\\taccuracy {accuracy}\")"
   ]
  },
  {
   "cell_type": "markdown",
   "metadata": {},
   "source": [
    "## transfer learning"
   ]
  },
  {
   "cell_type": "code",
   "execution_count": 7,
   "metadata": {},
   "outputs": [
    {
     "name": "stdout",
     "output_type": "stream",
     "text": [
      "0.1499999999999999\n",
      "250\n",
      "0.1499999999999999\n",
      "233\n",
      "0.1499999999999999\n",
      "310\n",
      "0.1499999999999999\n",
      "253\n"
     ]
    }
   ],
   "source": [
    "azure_data_paths = ['AZURE_data_1.pt', 'AZURE_data_2.pt','AZURE_data_3.pt','AZURE_data_4.pt']\n",
    "azure_label_paths = ['AZURE_label_1.pt','AZURE_label_2.pt','AZURE_label_3.pt','AZURE_label_4.pt']\n",
    "azure_train_loaders, azure_val_loaders, azure_test_loader, azure_train_loaders_transfer, azure_val_loaders_transfer = data_loading_AZURE(azure_data_paths, azure_label_paths, batch_size=configuration['batch_size_FL'])"
   ]
  },
  {
   "cell_type": "code",
   "execution_count": 8,
   "metadata": {},
   "outputs": [
    {
     "name": "stdout",
     "output_type": "stream",
     "text": [
      "\n",
      "Epoch 1/100\n",
      "Epoch 1: Training accuracy: 51.05263137817383 Testing accuracy: 53.99159622192383.\n",
      "\n",
      "Epoch 2/100\n",
      "Epoch 2: Training accuracy: 58.31578826904297 Testing accuracy: 60.29411697387695.\n",
      "\n",
      "Epoch 3/100\n",
      "Epoch 3: Training accuracy: 62.05263137817383 Testing accuracy: 62.81512451171875.\n",
      "\n",
      "Epoch 4/100\n",
      "Epoch 4: Training accuracy: 64.57894897460938 Testing accuracy: 64.28571319580078.\n",
      "\n",
      "Epoch 5/100\n",
      "Epoch 5: Training accuracy: 67.7368392944336 Testing accuracy: 65.75630187988281.\n",
      "\n",
      "Epoch 6/100\n",
      "Epoch 6: Training accuracy: 69.47368621826172 Testing accuracy: 67.64705657958984.\n",
      "\n",
      "Epoch 7/100\n",
      "Epoch 7: Training accuracy: 70.84210205078125 Testing accuracy: 67.43697357177734.\n",
      "\n",
      "Epoch 8/100\n",
      "Epoch 8: Training accuracy: 72.84210205078125 Testing accuracy: 69.5378189086914.\n",
      "\n",
      "Epoch 9/100\n",
      "Epoch 9: Training accuracy: 73.7368392944336 Testing accuracy: 72.05882263183594.\n",
      "\n",
      "Epoch 10/100\n",
      "Epoch 10: Training accuracy: 75.0526351928711 Testing accuracy: 72.68907928466797.\n",
      "\n",
      "Epoch 11/100\n",
      "Epoch 11: Training accuracy: 75.89473724365234 Testing accuracy: 72.47898864746094.\n",
      "\n",
      "Epoch 12/100\n",
      "Epoch 12: Training accuracy: 76.68421173095703 Testing accuracy: 73.31932830810547.\n",
      "\n",
      "Epoch 13/100\n",
      "Epoch 13: Training accuracy: 76.7368392944336 Testing accuracy: 72.89916229248047.\n",
      "\n",
      "Epoch 14/100\n",
      "Epoch 14: Training accuracy: 78.0526351928711 Testing accuracy: 73.94957733154297.\n",
      "\n",
      "Epoch 15/100\n",
      "Epoch 15: Training accuracy: 78.36842346191406 Testing accuracy: 73.94957733154297.\n",
      "\n",
      "Epoch 16/100\n",
      "Epoch 16: Training accuracy: 78.78947448730469 Testing accuracy: 74.7899169921875.\n",
      "\n",
      "Epoch 17/100\n",
      "Epoch 17: Training accuracy: 79.36842346191406 Testing accuracy: 74.7899169921875.\n",
      "\n",
      "Epoch 18/100\n",
      "Epoch 18: Training accuracy: 79.9473648071289 Testing accuracy: 75.420166015625.\n",
      "\n",
      "Epoch 19/100\n",
      "Epoch 19: Training accuracy: 80.21052551269531 Testing accuracy: 75.84033966064453.\n",
      "\n",
      "Epoch 20/100\n",
      "Epoch 20: Training accuracy: 80.2631607055664 Testing accuracy: 75.6302490234375.\n",
      "\n",
      "Epoch 21/100\n",
      "Epoch 21: Training accuracy: 80.31578826904297 Testing accuracy: 75.420166015625.\n",
      "\n",
      "Epoch 22/100\n",
      "Epoch 22: Training accuracy: 80.68421173095703 Testing accuracy: 76.26050567626953.\n",
      "\n",
      "Epoch 23/100\n",
      "Epoch 23: Training accuracy: 80.47368621826172 Testing accuracy: 75.420166015625.\n",
      "\n",
      "Epoch 24/100\n",
      "Epoch 24: Training accuracy: 81.0 Testing accuracy: 76.05042266845703.\n",
      "\n",
      "Epoch 25/100\n",
      "Epoch 25: Training accuracy: 81.57894897460938 Testing accuracy: 76.26050567626953.\n",
      "\n",
      "Epoch 26/100\n",
      "Epoch 26: Training accuracy: 81.57894897460938 Testing accuracy: 76.47058868408203.\n",
      "\n",
      "Epoch 27/100\n",
      "Epoch 27: Training accuracy: 81.63157653808594 Testing accuracy: 75.6302490234375.\n",
      "\n",
      "Epoch 28/100\n",
      "Epoch 28: Training accuracy: 81.68421173095703 Testing accuracy: 74.7899169921875.\n",
      "\n",
      "Epoch 29/100\n",
      "Epoch 29: Training accuracy: 82.47368621826172 Testing accuracy: 76.89075469970703.\n",
      "\n",
      "Epoch 30/100\n",
      "Epoch 30: Training accuracy: 82.31578826904297 Testing accuracy: 76.05042266845703.\n",
      "\n",
      "Epoch 31/100\n",
      "Epoch 31: Training accuracy: 82.68421173095703 Testing accuracy: 76.26050567626953.\n",
      "\n",
      "Epoch 32/100\n",
      "Epoch 32: Training accuracy: 82.78947448730469 Testing accuracy: 76.26050567626953.\n",
      "\n",
      "Epoch 33/100\n",
      "Epoch 33: Training accuracy: 83.0 Testing accuracy: 76.68067169189453.\n",
      "\n",
      "Epoch 34/100\n",
      "Epoch 34: Training accuracy: 82.89473724365234 Testing accuracy: 76.68067169189453.\n",
      "\n",
      "Epoch 35/100\n",
      "Epoch 35: Training accuracy: 82.63157653808594 Testing accuracy: 74.579833984375.\n",
      "\n",
      "Epoch 36/100\n",
      "Epoch 36: Training accuracy: 83.57894897460938 Testing accuracy: 76.47058868408203.\n",
      "\n",
      "Epoch 37/100\n",
      "Epoch 37: Training accuracy: 83.84210205078125 Testing accuracy: 75.6302490234375.\n",
      "\n",
      "Epoch 38/100\n",
      "Epoch 38: Training accuracy: 83.0 Testing accuracy: 75.0.\n",
      "\n",
      "Epoch 39/100\n",
      "Epoch 39: Training accuracy: 84.0526351928711 Testing accuracy: 75.84033966064453.\n",
      "\n",
      "Epoch 40/100\n",
      "Epoch 40: Training accuracy: 83.7368392944336 Testing accuracy: 75.84033966064453.\n",
      "\n",
      "Epoch 41/100\n",
      "Epoch 41: Training accuracy: 84.10526275634766 Testing accuracy: 75.84033966064453.\n",
      "\n",
      "Epoch 42/100\n",
      "Epoch 42: Training accuracy: 84.10526275634766 Testing accuracy: 75.420166015625.\n",
      "\n",
      "Epoch 43/100\n",
      "Epoch 43: Training accuracy: 83.89473724365234 Testing accuracy: 74.7899169921875.\n",
      "\n",
      "Epoch 44/100\n",
      "Epoch 44: Training accuracy: 84.0526351928711 Testing accuracy: 76.05042266845703.\n",
      "\n",
      "Epoch 45/100\n",
      "Epoch 45: Training accuracy: 84.36842346191406 Testing accuracy: 76.05042266845703.\n",
      "\n",
      "Epoch 46/100\n",
      "Epoch 46: Training accuracy: 83.9473648071289 Testing accuracy: 74.7899169921875.\n",
      "\n",
      "Epoch 47/100\n",
      "Epoch 47: Training accuracy: 84.68421173095703 Testing accuracy: 76.05042266845703.\n",
      "\n",
      "Epoch 48/100\n",
      "Epoch 48: Training accuracy: 84.84210205078125 Testing accuracy: 76.05042266845703.\n",
      "\n",
      "Epoch 49/100\n",
      "Epoch 49: Training accuracy: 84.21052551269531 Testing accuracy: 75.0.\n",
      "\n",
      "Epoch 50/100\n",
      "Epoch 50: Training accuracy: 83.52631378173828 Testing accuracy: 73.94957733154297.\n",
      "\n",
      "Epoch 51/100\n",
      "Epoch 51: Training accuracy: 84.84210205078125 Testing accuracy: 75.6302490234375.\n",
      "\n",
      "Epoch 52/100\n",
      "Epoch 52: Training accuracy: 85.0 Testing accuracy: 76.05042266845703.\n",
      "\n",
      "Epoch 53/100\n",
      "Epoch 53: Training accuracy: 84.9473648071289 Testing accuracy: 75.84033966064453.\n",
      "\n",
      "Epoch 54/100\n",
      "Epoch 54: Training accuracy: 84.15789794921875 Testing accuracy: 73.73949432373047.\n",
      "\n",
      "Epoch 55/100\n",
      "Epoch 55: Training accuracy: 85.0 Testing accuracy: 75.420166015625.\n",
      "\n",
      "Epoch 56/100\n",
      "Epoch 56: Training accuracy: 84.52631378173828 Testing accuracy: 75.2100830078125.\n",
      "\n",
      "Epoch 57/100\n",
      "Epoch 57: Training accuracy: 85.36842346191406 Testing accuracy: 75.420166015625.\n",
      "\n",
      "Epoch 58/100\n",
      "Epoch 58: Training accuracy: 84.9473648071289 Testing accuracy: 76.26050567626953.\n",
      "\n",
      "Epoch 59/100\n",
      "Epoch 59: Training accuracy: 85.42105102539062 Testing accuracy: 75.420166015625.\n",
      "\n",
      "Epoch 60/100\n",
      "Epoch 60: Training accuracy: 85.36842346191406 Testing accuracy: 75.420166015625.\n",
      "\n",
      "Epoch 61/100\n",
      "Epoch 61: Training accuracy: 84.47368621826172 Testing accuracy: 73.94957733154297.\n",
      "\n",
      "Epoch 62/100\n",
      "Epoch 62: Training accuracy: 85.21052551269531 Testing accuracy: 75.420166015625.\n",
      "\n",
      "Epoch 63/100\n",
      "Epoch 63: Training accuracy: 85.47368621826172 Testing accuracy: 75.84033966064453.\n",
      "\n",
      "Epoch 64/100\n",
      "Epoch 64: Training accuracy: 85.52631378173828 Testing accuracy: 76.26050567626953.\n",
      "\n",
      "Epoch 65/100\n",
      "Epoch 65: Training accuracy: 85.21052551269531 Testing accuracy: 75.0.\n",
      "\n",
      "Epoch 66/100\n",
      "Epoch 66: Training accuracy: 85.21052551269531 Testing accuracy: 75.2100830078125.\n",
      "\n",
      "Epoch 67/100\n",
      "Epoch 67: Training accuracy: 85.68421173095703 Testing accuracy: 75.6302490234375.\n",
      "\n",
      "Epoch 68/100\n",
      "Epoch 68: Training accuracy: 84.47368621826172 Testing accuracy: 73.52941131591797.\n",
      "\n",
      "Epoch 69/100\n",
      "Epoch 69: Training accuracy: 85.21052551269531 Testing accuracy: 74.3697509765625.\n",
      "\n",
      "Epoch 70/100\n",
      "Epoch 70: Training accuracy: 85.68421173095703 Testing accuracy: 75.420166015625.\n",
      "\n",
      "Epoch 71/100\n",
      "Epoch 71: Training accuracy: 85.7368392944336 Testing accuracy: 75.6302490234375.\n",
      "\n",
      "Epoch 72/100\n",
      "Epoch 72: Training accuracy: 84.52631378173828 Testing accuracy: 73.52941131591797.\n",
      "\n",
      "Epoch 73/100\n",
      "Epoch 73: Training accuracy: 83.68421173095703 Testing accuracy: 73.73949432373047.\n",
      "\n",
      "Epoch 74/100\n",
      "Epoch 74: Training accuracy: 85.84210205078125 Testing accuracy: 75.2100830078125.\n",
      "\n",
      "Epoch 75/100\n",
      "Epoch 75: Training accuracy: 85.63157653808594 Testing accuracy: 75.2100830078125.\n",
      "\n",
      "Epoch 76/100\n",
      "Epoch 76: Training accuracy: 85.0526351928711 Testing accuracy: 74.579833984375.\n",
      "\n",
      "Epoch 77/100\n",
      "Epoch 77: Training accuracy: 84.31578826904297 Testing accuracy: 73.10924530029297.\n",
      "\n",
      "Epoch 78/100\n",
      "Epoch 78: Training accuracy: 84.57894897460938 Testing accuracy: 74.3697509765625.\n",
      "\n",
      "Epoch 79/100\n",
      "Epoch 79: Training accuracy: 85.7368392944336 Testing accuracy: 75.6302490234375.\n",
      "\n",
      "Epoch 80/100\n",
      "Epoch 80: Training accuracy: 85.89473724365234 Testing accuracy: 75.420166015625.\n",
      "\n",
      "Epoch 81/100\n",
      "Epoch 81: Training accuracy: 85.63157653808594 Testing accuracy: 75.0.\n",
      "\n",
      "Epoch 82/100\n",
      "Epoch 82: Training accuracy: 85.21052551269531 Testing accuracy: 74.7899169921875.\n",
      "\n",
      "Epoch 83/100\n",
      "Epoch 83: Training accuracy: 85.78947448730469 Testing accuracy: 75.2100830078125.\n",
      "\n",
      "Epoch 84/100\n",
      "Epoch 84: Training accuracy: 85.21052551269531 Testing accuracy: 73.73949432373047.\n",
      "\n",
      "Epoch 85/100\n",
      "Epoch 85: Training accuracy: 85.15789794921875 Testing accuracy: 73.94957733154297.\n",
      "\n",
      "Epoch 86/100\n",
      "Epoch 86: Training accuracy: 86.0526351928711 Testing accuracy: 75.2100830078125.\n",
      "\n",
      "Epoch 87/100\n",
      "Epoch 87: Training accuracy: 85.36842346191406 Testing accuracy: 74.3697509765625.\n",
      "\n",
      "Epoch 88/100\n",
      "Epoch 88: Training accuracy: 85.52631378173828 Testing accuracy: 74.7899169921875.\n",
      "\n",
      "Epoch 89/100\n",
      "Epoch 89: Training accuracy: 85.7368392944336 Testing accuracy: 75.0.\n",
      "\n",
      "Epoch 90/100\n",
      "Epoch 90: Training accuracy: 85.84210205078125 Testing accuracy: 76.47058868408203.\n",
      "\n",
      "Epoch 91/100\n",
      "Epoch 91: Training accuracy: 85.63157653808594 Testing accuracy: 73.94957733154297.\n",
      "\n",
      "Epoch 92/100\n",
      "Epoch 92: Training accuracy: 85.2631607055664 Testing accuracy: 73.94957733154297.\n",
      "\n",
      "Epoch 93/100\n",
      "Epoch 93: Training accuracy: 86.10526275634766 Testing accuracy: 75.2100830078125.\n",
      "\n",
      "Epoch 94/100\n",
      "Epoch 94: Training accuracy: 86.0 Testing accuracy: 74.579833984375.\n",
      "\n",
      "Epoch 95/100\n",
      "Epoch 95: Training accuracy: 84.42105102539062 Testing accuracy: 73.10924530029297.\n",
      "\n",
      "Epoch 96/100\n",
      "Epoch 96: Training accuracy: 86.36842346191406 Testing accuracy: 75.420166015625.\n",
      "\n",
      "Epoch 97/100\n",
      "Epoch 97: Training accuracy: 84.31578826904297 Testing accuracy: 72.68907928466797.\n",
      "\n",
      "Epoch 98/100\n",
      "Epoch 98: Training accuracy: 84.2631607055664 Testing accuracy: 72.68907928466797.\n",
      "\n",
      "Epoch 99/100\n",
      "Epoch 99: Training accuracy: 86.10526275634766 Testing accuracy: 75.0.\n",
      "\n",
      "Epoch 100/100\n",
      "Epoch 100: Training accuracy: 86.2631607055664 Testing accuracy: 75.0.\n",
      "Epoch 1: validation loss 0.06742573529481888, accuracy 75.0\n",
      "Final test set performance:\n",
      "\tloss 0.06742573529481888\n",
      "\taccuracy 75.0\n"
     ]
    },
    {
     "data": {
      "image/png": "[encoded data removed]",
      "text/plain": [
       "<Figure size 640x480 with 1 Axes>"
      ]
     },
     "metadata": {},
     "output_type": "display_data"
    }
   ],
   "source": [
    "losses_transfer = []\n",
    "accuracies_transfer = []\n",
    "for epoch in range(1):\n",
    "    train(net, azure_train_loaders_transfer, azure_val_loaders_transfer, configuration, configuration['epochs'])\n",
    "    loss, accuracy = test(net, azure_val_loaders_transfer, configuration)\n",
    "    losses_transfer.append(loss)\n",
    "    accuracies_transfer.append(int(accuracy))\n",
    "    print(f\"Epoch {epoch+1}: validation loss {loss}, accuracy {accuracy}\")\n",
    "# plt.plot(accuracies)\n",
    "losses_transfer, accuracy_transfer = test(net, testloader, configuration=configuration)\n",
    "\n",
    "print(f\"Final test set performance:\\n\\tloss {loss}\\n\\taccuracy {accuracy}\")"
   ]
  },
  {
   "cell_type": "markdown",
   "metadata": {},
   "source": [
    "trainloader = train_loaders[1]\n",
    "valloader = val_loaders[1]\n",
    "testloader = test_loaders[1]\n",
    "net = Neural_Network().to(device)\n",
    "losses = []\n",
    "accuracies = []\n",
    "for epoch in range(1):\n",
    "    train(net, trainloader, testloader, configuration, configuration['epochs'])\n",
    "    loss, accuracy = test(net, valloader, configuration)\n",
    "    losses.append(loss)\n",
    "    accuracies.append(int(accuracy))\n",
    "    print(f\"Epoch {epoch+1}: validation loss {loss}, accuracy {accuracy}\")\n",
    "<!-- # plt.plot(accuracies) -->\n",
    "loss, accuracy = test(net, testloader, configuration=configuration)\n",
    "print(f\"Final test set performance:\\n\\tloss {loss}\\n\\taccuracy {accuracy}\")"
   ]
  },
  {
   "cell_type": "markdown",
   "metadata": {},
   "source": [
    "## Federated Learning"
   ]
  },
  {
   "cell_type": "code",
   "execution_count": 9,
   "metadata": {},
   "outputs": [],
   "source": [
    "# Define the CNN architecture\n",
    "class Neural_Network_FL(nn.Module):\n",
    "    def __init__(self):\n",
    "        super(Neural_Network_FL, self).__init__()\n",
    "        self.conv1 = nn.Conv1d(in_channels=4, out_channels=8, kernel_size=5)\n",
    "        self.conv2 = nn.Conv1d(in_channels=8, out_channels=8, kernel_size=5)\n",
    "        self.pool = nn.MaxPool1d(kernel_size=2, padding=0, stride=1)\n",
    "        # the size of the out channels x number  of nodes \n",
    "        self.fc1 = nn.Linear(328, 200)\n",
    "        self.fc2 = nn.Linear(200, 2)\n",
    "        self.flatten = nn.Flatten()\n",
    "        self.relu = nn.ReLU()\n",
    "        self.dropout = nn.Dropout(configuration['dropout'])\n",
    "        self.sigmoid = nn.Sigmoid()\n",
    "\n",
    "    def forward(self, x):\n",
    "        x = self.relu(self.conv1(x))\n",
    "        x = self.relu(self.conv2(x))\n",
    "        x = self.dropout(x)\n",
    "        x = self.pool(x)\n",
    "        x = self.flatten(x)\n",
    "        x = self.relu(self.fc1(x))\n",
    "        x - self.dropout(x)\n",
    "        x = self.sigmoid(self.fc2(x))\n",
    "        return x"
   ]
  },
  {
   "cell_type": "code",
   "execution_count": 10,
   "metadata": {},
   "outputs": [],
   "source": [
    "def get_parameters(model):\n",
    "    # Return model parameters as a list of NumPy ndarrays, excluding parameters of BN layers when using FedBN\n",
    "    return [val.cpu().numpy() for name, val in model.state_dict().items() if ('bn1' not in name and 'bn2' not in name)]\n",
    "\n",
    "def set_parameters(model, parameters):\n",
    "    # Set model parameters from a list of NumPy ndarrays\n",
    "    keys = [k for k in model.state_dict().keys() if 'bn' not in k]\n",
    "    params_dict = zip(keys, parameters)\n",
    "    state_dict = OrderedDict({k: torch.tensor(v) for k, v in params_dict})\n",
    "    model.load_state_dict(state_dict, strict=False)\n",
    "\n",
    "net_FL = Neural_Network_FL().to(device)\n",
    "parameters_centralized = get_parameters(net)\n",
    "set_parameters(net_FL, parameters_centralized)"
   ]
  },
  {
   "cell_type": "code",
   "execution_count": 11,
   "metadata": {},
   "outputs": [],
   "source": [
    "class FlowerClient(fl.client.NumPyClient):\n",
    "    def __init__(self, net, trainloader, valloader, configuration):\n",
    "        self.net = net\n",
    "        self.trainloader = trainloader\n",
    "        self.valloader = valloader\n",
    "\n",
    "    def get_parameters(self, config):\n",
    "        return get_parameters(self.net)\n",
    "\n",
    "    def fit(self, parameters, config):\n",
    "        set_parameters(self.net, parameters)\n",
    "        train(self.net, self.trainloader,self.valloader,configuration, configuration['epochs_FL'])\n",
    "        return get_parameters(self.net), len(self.trainloader), {}\n",
    "\n",
    "    def evaluate(self, parameters, config):\n",
    "        set_parameters(self.net, parameters)\n",
    "        loss, accuracy = test(self.net, self.valloader, configuration)\n",
    "        return float(loss), len(self.valloader), {\"accuracy\": float(accuracy)}\n",
    "    \n",
    "\n",
    "def client_fn(cid) -> FlowerClient:\n",
    "    net = Neural_Network().to(device)\n",
    "    trainloader = azure_train_loaders[int(cid)]\n",
    "    valloader = azure_val_loaders[int(cid)]\n",
    "    return FlowerClient(net_FL, trainloader, valloader, configuration).to_client()\n"
   ]
  },
  {
   "cell_type": "code",
   "execution_count": 12,
   "metadata": {},
   "outputs": [
    {
     "name": "stderr",
     "output_type": "stream",
     "text": [
      "\u001b[93mWARNING \u001b[0m:   \n",
      "Setting `min_available_clients` lower than `min_fit_clients` or\n",
      "`min_evaluate_clients` can cause the server to fail when there are too few clients\n",
      "connected to the server. `min_available_clients` must be set to a value larger\n",
      "than or equal to the values of `min_fit_clients` and `min_evaluate_clients`.\n",
      "\n",
      "\u001b[92mINFO \u001b[0m:      Starting Flower simulation, config: num_rounds=100, no round_timeout\n",
      "2024-08-12 10:45:13,928\tINFO worker.py:1621 -- Started a local Ray instance.\n",
      "\u001b[92mINFO \u001b[0m:      Flower VCE: Ray initialized with resources: {'CPU': 32.0, 'object_store_memory': 58281440870.0, 'node:192.168.1.146': 1.0, 'memory': 125990028698.0, 'node:__internal_head__': 1.0, 'accelerator_type:G': 1.0, 'GPU': 2.0}\n",
      "\u001b[92mINFO \u001b[0m:      Optimize your simulation with Flower VCE: https://flower.ai/docs/framework/how-to-run-simulations.html\n",
      "\u001b[92mINFO \u001b[0m:      Flower VCE: Resources for each Virtual Client: {'num_cpus': 1, 'num_gpus': 1.0}\n",
      "\u001b[92mINFO \u001b[0m:      Flower VCE: Creating VirtualClientEngineActorPool with 2 actors\n",
      "\u001b[92mINFO \u001b[0m:      [INIT]\n",
      "\u001b[92mINFO \u001b[0m:      Using initial global parameters provided by strategy\n",
      "\u001b[92mINFO \u001b[0m:      Evaluating initial global parameters\n",
      "\u001b[92mINFO \u001b[0m:      initial parameters (loss, other metrics): 0.04951255812364466, {'accuracy': tensor(48.9484, device='cuda:0')}\n",
      "\u001b[92mINFO \u001b[0m:      \n",
      "\u001b[92mINFO \u001b[0m:      [ROUND 1]\n",
      "\u001b[92mINFO \u001b[0m:      configure_fit: strategy sampled 4 clients (out of 4)\n"
     ]
    },
    {
     "name": "stdout",
     "output_type": "stream",
     "text": [
      "Server-side evaluation loss 0.04951255812364466 / accuracy 48.9483757019043\n",
      "\u001b[2m\u001b[36m(ClientAppActor pid=2226288)\u001b[0m \n",
      "\u001b[2m\u001b[36m(ClientAppActor pid=2226288)\u001b[0m Epoch 1/100\n",
      "\u001b[2m\u001b[36m(ClientAppActor pid=2226287)\u001b[0m Epoch 1: Training accuracy: 50.36710739135742 Testing accuracy: 46.198829650878906.\n",
      "\u001b[2m\u001b[36m(ClientAppActor pid=2226287)\u001b[0m Epoch 2: Training accuracy: 50.36710739135742 Testing accuracy: 46.198829650878906.\n"
     ]
    },
    {
     "name": "stderr",
     "output_type": "stream",
     "text": [
      "\u001b[92mINFO \u001b[0m:      aggregate_fit: received 4 results and 0 failures\n",
      "\u001b[93mWARNING \u001b[0m:   No fit_metrics_aggregation_fn provided\n",
      "\u001b[92mINFO \u001b[0m:      fit progress: (1, 0.041037541978499466, {'accuracy': tensor(48.9484, device='cuda:0')}, 4.6689589460147545)\n",
      "\u001b[92mINFO \u001b[0m:      configure_evaluate: strategy sampled 2 clients (out of 4)\n",
      "\u001b[92mINFO \u001b[0m:      aggregate_evaluate: received 2 results and 0 failures\n",
      "\u001b[92mINFO \u001b[0m:      \n",
      "\u001b[92mINFO \u001b[0m:      [ROUND 2]\n",
      "\u001b[92mINFO \u001b[0m:      configure_fit: strategy sampled 4 clients (out of 4)\n"
     ]
    },
    {
     "name": "stdout",
     "output_type": "stream",
     "text": [
      "Server-side evaluation loss 0.041037541978499466 / accuracy 48.9483757019043\n",
      "\u001b[2m\u001b[36m(ClientAppActor pid=2226288)\u001b[0m \u001b[32m [repeated 604x across cluster] (Ray deduplicates logs by default. Set RAY_DEDUP_LOGS=0 to disable log deduplication, or see https://docs.ray.io/en/master/ray-observability/ray-logging.html#log-deduplication for more options.)\u001b[0m\n",
      "\u001b[2m\u001b[36m(ClientAppActor pid=2226288)\u001b[0m Epoch 15/100\u001b[32m [repeated 604x across cluster]\u001b[0m\n",
      "\u001b[2m\u001b[36m(ClientAppActor pid=2226288)\u001b[0m Epoch 22: Training accuracy: 51.96232223510742 Testing accuracy: 50.625.\u001b[32m [repeated 615x across cluster]\u001b[0m\n"
     ]
    },
    {
     "name": "stderr",
     "output_type": "stream",
     "text": [
      "\u001b[92mINFO \u001b[0m:      aggregate_fit: received 4 results and 0 failures\n",
      "\u001b[92mINFO \u001b[0m:      fit progress: (2, 0.040974683621350455, {'accuracy': tensor(48.9484, device='cuda:0')}, 7.839910870068707)\n",
      "\u001b[92mINFO \u001b[0m:      configure_evaluate: strategy sampled 2 clients (out of 4)\n",
      "\u001b[92mINFO \u001b[0m:      aggregate_evaluate: received 2 results and 0 failures\n",
      "\u001b[92mINFO \u001b[0m:      \n",
      "\u001b[92mINFO \u001b[0m:      [ROUND 3]\n",
      "\u001b[92mINFO \u001b[0m:      configure_fit: strategy sampled 4 clients (out of 4)\n"
     ]
    },
    {
     "name": "stdout",
     "output_type": "stream",
     "text": [
      "Server-side evaluation loss 0.040974683621350455 / accuracy 48.9483757019043\n"
     ]
    },
    {
     "name": "stderr",
     "output_type": "stream",
     "text": [
      "\u001b[92mINFO \u001b[0m:      aggregate_fit: received 4 results and 0 failures\n",
      "\u001b[92mINFO \u001b[0m:      fit progress: (3, 0.04084171617732329, {'accuracy': tensor(53.4417, device='cuda:0')}, 11.017956758034416)\n",
      "\u001b[92mINFO \u001b[0m:      configure_evaluate: strategy sampled 2 clients (out of 4)\n",
      "\u001b[92mINFO \u001b[0m:      aggregate_evaluate: received 2 results and 0 failures\n",
      "\u001b[92mINFO \u001b[0m:      \n",
      "\u001b[92mINFO \u001b[0m:      [ROUND 4]\n",
      "\u001b[92mINFO \u001b[0m:      configure_fit: strategy sampled 4 clients (out of 4)\n"
     ]
    },
    {
     "name": "stdout",
     "output_type": "stream",
     "text": [
      "Server-side evaluation loss 0.04084171617732329 / accuracy 53.441680908203125\n",
      "\u001b[2m\u001b[36m(ClientAppActor pid=2226288)\u001b[0m \u001b[32m [repeated 640x across cluster]\u001b[0m\n",
      "\u001b[2m\u001b[36m(ClientAppActor pid=2226288)\u001b[0m Epoch 29/100\u001b[32m [repeated 640x across cluster]\u001b[0m\n",
      "\u001b[2m\u001b[36m(ClientAppActor pid=2226288)\u001b[0m Epoch 35: Training accuracy: 52.11930847167969 Testing accuracy: 50.625.\u001b[32m [repeated 639x across cluster]\u001b[0m\n"
     ]
    },
    {
     "name": "stderr",
     "output_type": "stream",
     "text": [
      "\u001b[92mINFO \u001b[0m:      aggregate_fit: received 4 results and 0 failures\n",
      "\u001b[92mINFO \u001b[0m:      fit progress: (4, 0.04086611551396987, {'accuracy': tensor(56.4054, device='cuda:0')}, 14.158185450010933)\n",
      "\u001b[92mINFO \u001b[0m:      configure_evaluate: strategy sampled 2 clients (out of 4)\n",
      "\u001b[92mINFO \u001b[0m:      aggregate_evaluate: received 2 results and 0 failures\n",
      "\u001b[92mINFO \u001b[0m:      \n",
      "\u001b[92mINFO \u001b[0m:      [ROUND 5]\n",
      "\u001b[92mINFO \u001b[0m:      configure_fit: strategy sampled 4 clients (out of 4)\n"
     ]
    },
    {
     "name": "stdout",
     "output_type": "stream",
     "text": [
      "Server-side evaluation loss 0.04086611551396987 / accuracy 56.40535354614258\n",
      "\u001b[2m\u001b[36m(ClientAppActor pid=2226288)\u001b[0m \u001b[32m [repeated 673x across cluster]\u001b[0m\n",
      "\u001b[2m\u001b[36m(ClientAppActor pid=2226288)\u001b[0m Epoch 69/100\u001b[32m [repeated 673x across cluster]\u001b[0m\n",
      "\u001b[2m\u001b[36m(ClientAppActor pid=2226288)\u001b[0m Epoch 76: Training accuracy: 72.0565185546875 Testing accuracy: 70.0.\u001b[32m [repeated 674x across cluster]\u001b[0m\n"
     ]
    },
    {
     "name": "stderr",
     "output_type": "stream",
     "text": [
      "\u001b[92mINFO \u001b[0m:      aggregate_fit: received 4 results and 0 failures\n",
      "\u001b[92mINFO \u001b[0m:      fit progress: (5, 0.04048906704958748, {'accuracy': tensor(66.9216, device='cuda:0')}, 17.341988409054466)\n",
      "\u001b[92mINFO \u001b[0m:      configure_evaluate: strategy sampled 2 clients (out of 4)\n",
      "\u001b[92mINFO \u001b[0m:      aggregate_evaluate: received 2 results and 0 failures\n",
      "\u001b[92mINFO \u001b[0m:      \n",
      "\u001b[92mINFO \u001b[0m:      [ROUND 6]\n",
      "\u001b[92mINFO \u001b[0m:      configure_fit: strategy sampled 4 clients (out of 4)\n"
     ]
    },
    {
     "name": "stdout",
     "output_type": "stream",
     "text": [
      "Server-side evaluation loss 0.04048906704958748 / accuracy 66.9216079711914\n"
     ]
    },
    {
     "name": "stderr",
     "output_type": "stream",
     "text": [
      "\u001b[92mINFO \u001b[0m:      aggregate_fit: received 4 results and 0 failures\n",
      "\u001b[92mINFO \u001b[0m:      fit progress: (6, 0.03968727939269122, {'accuracy': tensor(68.3556, device='cuda:0')}, 20.412326805992052)\n",
      "\u001b[92mINFO \u001b[0m:      configure_evaluate: strategy sampled 2 clients (out of 4)\n",
      "\u001b[92mINFO \u001b[0m:      aggregate_evaluate: received 2 results and 0 failures\n",
      "\u001b[92mINFO \u001b[0m:      \n",
      "\u001b[92mINFO \u001b[0m:      [ROUND 7]\n",
      "\u001b[92mINFO \u001b[0m:      configure_fit: strategy sampled 4 clients (out of 4)\n"
     ]
    },
    {
     "name": "stdout",
     "output_type": "stream",
     "text": [
      "Server-side evaluation loss 0.03968727939269122 / accuracy 68.35564422607422\n",
      "\u001b[2m\u001b[36m(ClientAppActor pid=2226288)\u001b[0m \u001b[32m [repeated 643x across cluster]\u001b[0m\n",
      "\u001b[2m\u001b[36m(ClientAppActor pid=2226288)\u001b[0m Epoch 84/100\u001b[32m [repeated 643x across cluster]\u001b[0m\n",
      "\u001b[2m\u001b[36m(ClientAppActor pid=2226288)\u001b[0m Epoch 90: Training accuracy: 67.25403594970703 Testing accuracy: 68.42105102539062.\u001b[32m [repeated 642x across cluster]\u001b[0m\n"
     ]
    },
    {
     "name": "stderr",
     "output_type": "stream",
     "text": [
      "\u001b[92mINFO \u001b[0m:      aggregate_fit: received 4 results and 0 failures\n",
      "\u001b[92mINFO \u001b[0m:      fit progress: (7, 0.03927895952673519, {'accuracy': tensor(68.3556, device='cuda:0')}, 23.6974048219854)\n",
      "\u001b[92mINFO \u001b[0m:      configure_evaluate: strategy sampled 2 clients (out of 4)\n",
      "\u001b[92mINFO \u001b[0m:      aggregate_evaluate: received 2 results and 0 failures\n",
      "\u001b[92mINFO \u001b[0m:      \n",
      "\u001b[92mINFO \u001b[0m:      [ROUND 8]\n",
      "\u001b[92mINFO \u001b[0m:      configure_fit: strategy sampled 4 clients (out of 4)\n"
     ]
    },
    {
     "name": "stdout",
     "output_type": "stream",
     "text": [
      "Server-side evaluation loss 0.03927895952673519 / accuracy 68.35564422607422\n",
      "\u001b[2m\u001b[36m(ClientAppActor pid=2226288)\u001b[0m \u001b[32m [repeated 621x across cluster]\u001b[0m\n",
      "\u001b[2m\u001b[36m(ClientAppActor pid=2226288)\u001b[0m Epoch 82/100\u001b[32m [repeated 621x across cluster]\u001b[0m\n",
      "\u001b[2m\u001b[36m(ClientAppActor pid=2226288)\u001b[0m Epoch 88: Training accuracy: 69.13043212890625 Testing accuracy: 68.78612518310547.\u001b[32m [repeated 616x across cluster]\u001b[0m\n"
     ]
    },
    {
     "name": "stderr",
     "output_type": "stream",
     "text": [
      "\u001b[92mINFO \u001b[0m:      aggregate_fit: received 4 results and 0 failures\n",
      "\u001b[92mINFO \u001b[0m:      fit progress: (8, 0.039250531617332905, {'accuracy': tensor(68.0688, device='cuda:0')}, 27.010721786064096)\n",
      "\u001b[92mINFO \u001b[0m:      configure_evaluate: strategy sampled 2 clients (out of 4)\n",
      "\u001b[92mINFO \u001b[0m:      aggregate_evaluate: received 2 results and 0 failures\n",
      "\u001b[92mINFO \u001b[0m:      \n",
      "\u001b[92mINFO \u001b[0m:      [ROUND 9]\n",
      "\u001b[92mINFO \u001b[0m:      configure_fit: strategy sampled 4 clients (out of 4)\n"
     ]
    },
    {
     "name": "stdout",
     "output_type": "stream",
     "text": [
      "Server-side evaluation loss 0.039250531617332905 / accuracy 68.06883239746094\n"
     ]
    },
    {
     "name": "stderr",
     "output_type": "stream",
     "text": [
      "\u001b[92mINFO \u001b[0m:      aggregate_fit: received 4 results and 0 failures\n",
      "\u001b[92mINFO \u001b[0m:      fit progress: (9, 0.038811154225293326, {'accuracy': tensor(68.2600, device='cuda:0')}, 30.2824385400163)\n",
      "\u001b[92mINFO \u001b[0m:      configure_evaluate: strategy sampled 2 clients (out of 4)\n",
      "\u001b[92mINFO \u001b[0m:      aggregate_evaluate: received 2 results and 0 failures\n",
      "\u001b[92mINFO \u001b[0m:      \n",
      "\u001b[92mINFO \u001b[0m:      [ROUND 10]\n",
      "\u001b[92mINFO \u001b[0m:      configure_fit: strategy sampled 4 clients (out of 4)\n"
     ]
    },
    {
     "name": "stdout",
     "output_type": "stream",
     "text": [
      "Server-side evaluation loss 0.038811154225293326 / accuracy 68.26004028320312\n",
      "\u001b[2m\u001b[36m(ClientAppActor pid=2226288)\u001b[0m \u001b[32m [repeated 620x across cluster]\u001b[0m\n",
      "\u001b[2m\u001b[36m(ClientAppActor pid=2226288)\u001b[0m Epoch 5/100\u001b[32m [repeated 620x across cluster]\u001b[0m\n",
      "\u001b[2m\u001b[36m(ClientAppActor pid=2226288)\u001b[0m Epoch 11: Training accuracy: 69.71014404296875 Testing accuracy: 71.67630004882812.\u001b[32m [repeated 623x across cluster]\u001b[0m\n"
     ]
    },
    {
     "name": "stderr",
     "output_type": "stream",
     "text": [
      "\u001b[92mINFO \u001b[0m:      aggregate_fit: received 4 results and 0 failures\n",
      "\u001b[92mINFO \u001b[0m:      fit progress: (10, 0.0382733099600848, {'accuracy': tensor(69.1205, device='cuda:0')}, 33.52925741102081)\n",
      "\u001b[92mINFO \u001b[0m:      configure_evaluate: strategy sampled 2 clients (out of 4)\n",
      "\u001b[92mINFO \u001b[0m:      aggregate_evaluate: received 2 results and 0 failures\n",
      "\u001b[92mINFO \u001b[0m:      \n",
      "\u001b[92mINFO \u001b[0m:      [ROUND 11]\n",
      "\u001b[92mINFO \u001b[0m:      configure_fit: strategy sampled 4 clients (out of 4)\n"
     ]
    },
    {
     "name": "stdout",
     "output_type": "stream",
     "text": [
      "Server-side evaluation loss 0.0382733099600848 / accuracy 69.1204605102539\n"
     ]
    },
    {
     "name": "stderr",
     "output_type": "stream",
     "text": [
      "\u001b[92mINFO \u001b[0m:      aggregate_fit: received 4 results and 0 failures\n",
      "\u001b[92mINFO \u001b[0m:      fit progress: (11, 0.03777405444313498, {'accuracy': tensor(69.0249, device='cuda:0')}, 36.759897813084535)\n",
      "\u001b[92mINFO \u001b[0m:      configure_evaluate: strategy sampled 2 clients (out of 4)\n",
      "\u001b[92mINFO \u001b[0m:      aggregate_evaluate: received 2 results and 0 failures\n",
      "\u001b[92mINFO \u001b[0m:      \n",
      "\u001b[92mINFO \u001b[0m:      [ROUND 12]\n",
      "\u001b[92mINFO \u001b[0m:      configure_fit: strategy sampled 4 clients (out of 4)\n"
     ]
    },
    {
     "name": "stdout",
     "output_type": "stream",
     "text": [
      "Server-side evaluation loss 0.03777405444313498 / accuracy 69.02485656738281\n",
      "\u001b[2m\u001b[36m(ClientAppActor pid=2226288)\u001b[0m \u001b[32m [repeated 601x across cluster]\u001b[0m\n",
      "\u001b[2m\u001b[36m(ClientAppActor pid=2226288)\u001b[0m Epoch 3/100\u001b[32m [repeated 601x across cluster]\u001b[0m\n",
      "\u001b[2m\u001b[36m(ClientAppActor pid=2226288)\u001b[0m Epoch 10: Training accuracy: 72.68445587158203 Testing accuracy: 69.375.\u001b[32m [repeated 600x across cluster]\u001b[0m\n"
     ]
    },
    {
     "name": "stderr",
     "output_type": "stream",
     "text": [
      "\u001b[92mINFO \u001b[0m:      aggregate_fit: received 4 results and 0 failures\n",
      "\u001b[92mINFO \u001b[0m:      fit progress: (12, 0.03821747793870814, {'accuracy': tensor(70.2677, device='cuda:0')}, 39.969633977045305)\n",
      "\u001b[92mINFO \u001b[0m:      configure_evaluate: strategy sampled 2 clients (out of 4)\n",
      "\u001b[92mINFO \u001b[0m:      aggregate_evaluate: received 2 results and 0 failures\n",
      "\u001b[92mINFO \u001b[0m:      \n",
      "\u001b[92mINFO \u001b[0m:      [ROUND 13]\n",
      "\u001b[92mINFO \u001b[0m:      configure_fit: strategy sampled 4 clients (out of 4)\n"
     ]
    },
    {
     "name": "stdout",
     "output_type": "stream",
     "text": [
      "Server-side evaluation loss 0.03821747793870814 / accuracy 70.26768493652344\n",
      "\u001b[2m\u001b[36m(ClientAppActor pid=2226288)\u001b[0m \u001b[32m [repeated 635x across cluster]\u001b[0m\n",
      "\u001b[2m\u001b[36m(ClientAppActor pid=2226288)\u001b[0m Epoch 33/100\u001b[32m [repeated 635x across cluster]\u001b[0m\n",
      "\u001b[2m\u001b[36m(ClientAppActor pid=2226288)\u001b[0m Epoch 39: Training accuracy: 72.17391204833984 Testing accuracy: 69.94219970703125.\u001b[32m [repeated 640x across cluster]\u001b[0m\n"
     ]
    },
    {
     "name": "stderr",
     "output_type": "stream",
     "text": [
      "\u001b[92mINFO \u001b[0m:      aggregate_fit: received 4 results and 0 failures\n",
      "\u001b[92mINFO \u001b[0m:      fit progress: (13, 0.03690511338851031, {'accuracy': tensor(70.3633, device='cuda:0')}, 43.067543687997386)\n",
      "\u001b[92mINFO \u001b[0m:      configure_evaluate: strategy sampled 2 clients (out of 4)\n",
      "\u001b[92mINFO \u001b[0m:      aggregate_evaluate: received 2 results and 0 failures\n",
      "\u001b[92mINFO \u001b[0m:      \n",
      "\u001b[92mINFO \u001b[0m:      [ROUND 14]\n",
      "\u001b[92mINFO \u001b[0m:      configure_fit: strategy sampled 4 clients (out of 4)\n"
     ]
    },
    {
     "name": "stdout",
     "output_type": "stream",
     "text": [
      "Server-side evaluation loss 0.03690511338851031 / accuracy 70.36328887939453\n"
     ]
    },
    {
     "name": "stderr",
     "output_type": "stream",
     "text": [
      "\u001b[92mINFO \u001b[0m:      aggregate_fit: received 4 results and 0 failures\n",
      "\u001b[92mINFO \u001b[0m:      fit progress: (14, 0.03649711608886719, {'accuracy': tensor(70.5545, device='cuda:0')}, 46.25704485701863)\n",
      "\u001b[92mINFO \u001b[0m:      configure_evaluate: strategy sampled 2 clients (out of 4)\n",
      "\u001b[92mINFO \u001b[0m:      aggregate_evaluate: received 2 results and 0 failures\n",
      "\u001b[92mINFO \u001b[0m:      \n",
      "\u001b[92mINFO \u001b[0m:      [ROUND 15]\n",
      "\u001b[92mINFO \u001b[0m:      configure_fit: strategy sampled 4 clients (out of 4)\n"
     ]
    },
    {
     "name": "stdout",
     "output_type": "stream",
     "text": [
      "Server-side evaluation loss 0.03649711608886719 / accuracy 70.55449676513672\n",
      "\u001b[2m\u001b[36m(ClientAppActor pid=2226288)\u001b[0m \u001b[32m [repeated 636x across cluster]\u001b[0m\n",
      "\u001b[2m\u001b[36m(ClientAppActor pid=2226288)\u001b[0m Epoch 44/100\u001b[32m [repeated 636x across cluster]\u001b[0m\n",
      "\u001b[2m\u001b[36m(ClientAppActor pid=2226288)\u001b[0m Epoch 50: Training accuracy: 70.72463989257812 Testing accuracy: 71.0982666015625.\u001b[32m [repeated 634x across cluster]\u001b[0m\n"
     ]
    },
    {
     "name": "stderr",
     "output_type": "stream",
     "text": [
      "\u001b[92mINFO \u001b[0m:      aggregate_fit: received 4 results and 0 failures\n",
      "\u001b[92mINFO \u001b[0m:      fit progress: (15, 0.036313926472383386, {'accuracy': tensor(70.5545, device='cuda:0')}, 49.375236422987655)\n",
      "\u001b[92mINFO \u001b[0m:      configure_evaluate: strategy sampled 2 clients (out of 4)\n",
      "\u001b[92mINFO \u001b[0m:      aggregate_evaluate: received 2 results and 0 failures\n",
      "\u001b[92mINFO \u001b[0m:      \n",
      "\u001b[92mINFO \u001b[0m:      [ROUND 16]\n",
      "\u001b[92mINFO \u001b[0m:      configure_fit: strategy sampled 4 clients (out of 4)\n"
     ]
    },
    {
     "name": "stdout",
     "output_type": "stream",
     "text": [
      "Server-side evaluation loss 0.036313926472383386 / accuracy 70.55449676513672\n",
      "\u001b[2m\u001b[36m(ClientAppActor pid=2226288)\u001b[0m \u001b[32m [repeated 666x across cluster]\u001b[0m\n",
      "\u001b[2m\u001b[36m(ClientAppActor pid=2226288)\u001b[0m Epoch 61/100\u001b[32m [repeated 666x across cluster]\u001b[0m\n",
      "\u001b[2m\u001b[36m(ClientAppActor pid=2226288)\u001b[0m Epoch 65: Training accuracy: 76.30331420898438 Testing accuracy: 67.92453002929688.\u001b[32m [repeated 666x across cluster]\u001b[0m\n"
     ]
    },
    {
     "name": "stderr",
     "output_type": "stream",
     "text": [
      "\u001b[92mINFO \u001b[0m:      aggregate_fit: received 4 results and 0 failures\n",
      "\u001b[92mINFO \u001b[0m:      fit progress: (16, 0.03611676482593312, {'accuracy': tensor(71.3193, device='cuda:0')}, 52.66967208101414)\n",
      "\u001b[92mINFO \u001b[0m:      configure_evaluate: strategy sampled 2 clients (out of 4)\n",
      "\u001b[92mINFO \u001b[0m:      aggregate_evaluate: received 2 results and 0 failures\n",
      "\u001b[92mINFO \u001b[0m:      \n",
      "\u001b[92mINFO \u001b[0m:      [ROUND 17]\n",
      "\u001b[92mINFO \u001b[0m:      configure_fit: strategy sampled 4 clients (out of 4)\n"
     ]
    },
    {
     "name": "stdout",
     "output_type": "stream",
     "text": [
      "Server-side evaluation loss 0.03611676482593312 / accuracy 71.3193130493164\n"
     ]
    },
    {
     "name": "stderr",
     "output_type": "stream",
     "text": [
      "\u001b[92mINFO \u001b[0m:      aggregate_fit: received 4 results and 0 failures\n",
      "\u001b[92mINFO \u001b[0m:      fit progress: (17, 0.035599224707659555, {'accuracy': tensor(70.9369, device='cuda:0')}, 55.78819623403251)\n",
      "\u001b[92mINFO \u001b[0m:      configure_evaluate: strategy sampled 2 clients (out of 4)\n",
      "\u001b[92mINFO \u001b[0m:      aggregate_evaluate: received 2 results and 0 failures\n",
      "\u001b[92mINFO \u001b[0m:      \n",
      "\u001b[92mINFO \u001b[0m:      [ROUND 18]\n",
      "\u001b[92mINFO \u001b[0m:      configure_fit: strategy sampled 4 clients (out of 4)\n"
     ]
    },
    {
     "name": "stdout",
     "output_type": "stream",
     "text": [
      "Server-side evaluation loss 0.035599224707659555 / accuracy 70.93690490722656\n",
      "\u001b[2m\u001b[36m(ClientAppActor pid=2226288)\u001b[0m \u001b[32m [repeated 597x across cluster]\u001b[0m\n",
      "\u001b[2m\u001b[36m(ClientAppActor pid=2226288)\u001b[0m Epoch 63/100\u001b[32m [repeated 597x across cluster]\u001b[0m\n",
      "\u001b[2m\u001b[36m(ClientAppActor pid=2226288)\u001b[0m Epoch 68: Training accuracy: 77.36966705322266 Testing accuracy: 68.86792755126953.\u001b[32m [repeated 598x across cluster]\u001b[0m\n"
     ]
    },
    {
     "name": "stderr",
     "output_type": "stream",
     "text": [
      "\u001b[92mINFO \u001b[0m:      aggregate_fit: received 4 results and 0 failures\n",
      "\u001b[92mINFO \u001b[0m:      fit progress: (18, 0.03589479712878957, {'accuracy': tensor(72.6577, device='cuda:0')}, 58.94051943602972)\n",
      "\u001b[92mINFO \u001b[0m:      configure_evaluate: strategy sampled 2 clients (out of 4)\n",
      "\u001b[92mINFO \u001b[0m:      aggregate_evaluate: received 2 results and 0 failures\n",
      "\u001b[92mINFO \u001b[0m:      \n",
      "\u001b[92mINFO \u001b[0m:      [ROUND 19]\n",
      "\u001b[92mINFO \u001b[0m:      configure_fit: strategy sampled 4 clients (out of 4)\n"
     ]
    },
    {
     "name": "stdout",
     "output_type": "stream",
     "text": [
      "Server-side evaluation loss 0.03589479712878957 / accuracy 72.65774536132812\n"
     ]
    },
    {
     "name": "stderr",
     "output_type": "stream",
     "text": [
      "\u001b[92mINFO \u001b[0m:      aggregate_fit: received 4 results and 0 failures\n",
      "\u001b[92mINFO \u001b[0m:      fit progress: (19, 0.03603058352189906, {'accuracy': tensor(72.5621, device='cuda:0')}, 62.10988914198242)\n",
      "\u001b[92mINFO \u001b[0m:      configure_evaluate: strategy sampled 2 clients (out of 4)\n",
      "\u001b[92mINFO \u001b[0m:      aggregate_evaluate: received 2 results and 0 failures\n",
      "\u001b[92mINFO \u001b[0m:      \n",
      "\u001b[92mINFO \u001b[0m:      [ROUND 20]\n",
      "\u001b[92mINFO \u001b[0m:      configure_fit: strategy sampled 4 clients (out of 4)\n"
     ]
    },
    {
     "name": "stdout",
     "output_type": "stream",
     "text": [
      "\u001b[2m\u001b[36m(ClientAppActor pid=2226287)\u001b[0m \u001b[32m [repeated 659x across cluster]\u001b[0m\n",
      "\u001b[2m\u001b[36m(ClientAppActor pid=2226287)\u001b[0m Epoch 96/100\u001b[32m [repeated 659x across cluster]\u001b[0m\n",
      "Server-side evaluation loss 0.03603058352189906 / accuracy 72.56214141845703\n",
      "\u001b[2m\u001b[36m(ClientAppActor pid=2226287)\u001b[0m Epoch 100: Training accuracy: 74.49275207519531 Testing accuracy: 73.98844146728516.\u001b[32m [repeated 651x across cluster]\u001b[0m\n"
     ]
    },
    {
     "name": "stderr",
     "output_type": "stream",
     "text": [
      "\u001b[92mINFO \u001b[0m:      aggregate_fit: received 4 results and 0 failures\n",
      "\u001b[92mINFO \u001b[0m:      fit progress: (20, 0.03505601251826567, {'accuracy': tensor(72.4665, device='cuda:0')}, 65.3704409210477)\n",
      "\u001b[92mINFO \u001b[0m:      configure_evaluate: strategy sampled 2 clients (out of 4)\n",
      "\u001b[92mINFO \u001b[0m:      aggregate_evaluate: received 2 results and 0 failures\n",
      "\u001b[92mINFO \u001b[0m:      \n",
      "\u001b[92mINFO \u001b[0m:      [ROUND 21]\n",
      "\u001b[92mINFO \u001b[0m:      configure_fit: strategy sampled 4 clients (out of 4)\n"
     ]
    },
    {
     "name": "stdout",
     "output_type": "stream",
     "text": [
      "Server-side evaluation loss 0.03505601251826567 / accuracy 72.46653747558594\n",
      "\u001b[2m\u001b[36m(ClientAppActor pid=2226288)\u001b[0m \u001b[32m [repeated 632x across cluster]\u001b[0m\n",
      "\u001b[2m\u001b[36m(ClientAppActor pid=2226288)\u001b[0m Epoch 14/100\u001b[32m [repeated 632x across cluster]\u001b[0m\n",
      "\u001b[2m\u001b[36m(ClientAppActor pid=2226288)\u001b[0m Epoch 20: Training accuracy: 76.23188781738281 Testing accuracy: 75.1445083618164.\u001b[32m [repeated 638x across cluster]\u001b[0m\n"
     ]
    },
    {
     "name": "stderr",
     "output_type": "stream",
     "text": [
      "\u001b[92mINFO \u001b[0m:      aggregate_fit: received 4 results and 0 failures\n",
      "\u001b[92mINFO \u001b[0m:      fit progress: (21, 0.03473745023503023, {'accuracy': tensor(72.8489, device='cuda:0')}, 68.57230967003852)\n",
      "\u001b[92mINFO \u001b[0m:      configure_evaluate: strategy sampled 2 clients (out of 4)\n",
      "\u001b[92mINFO \u001b[0m:      aggregate_evaluate: received 2 results and 0 failures\n",
      "\u001b[92mINFO \u001b[0m:      \n",
      "\u001b[92mINFO \u001b[0m:      [ROUND 22]\n",
      "\u001b[92mINFO \u001b[0m:      configure_fit: strategy sampled 4 clients (out of 4)\n"
     ]
    },
    {
     "name": "stdout",
     "output_type": "stream",
     "text": [
      "Server-side evaluation loss 0.03473745023503023 / accuracy 72.84894561767578\n"
     ]
    },
    {
     "name": "stderr",
     "output_type": "stream",
     "text": [
      "\u001b[92mINFO \u001b[0m:      aggregate_fit: received 4 results and 0 failures\n",
      "\u001b[92mINFO \u001b[0m:      fit progress: (22, 0.034545281354118794, {'accuracy': tensor(72.8489, device='cuda:0')}, 71.68659017898608)\n",
      "\u001b[92mINFO \u001b[0m:      configure_evaluate: strategy sampled 2 clients (out of 4)\n",
      "\u001b[92mINFO \u001b[0m:      aggregate_evaluate: received 2 results and 0 failures\n",
      "\u001b[92mINFO \u001b[0m:      \n",
      "\u001b[92mINFO \u001b[0m:      [ROUND 23]\n",
      "\u001b[92mINFO \u001b[0m:      configure_fit: strategy sampled 4 clients (out of 4)\n"
     ]
    },
    {
     "name": "stdout",
     "output_type": "stream",
     "text": [
      "Server-side evaluation loss 0.034545281354118794 / accuracy 72.84894561767578\n",
      "\u001b[2m\u001b[36m(ClientAppActor pid=2226288)\u001b[0m \u001b[32m [repeated 628x across cluster]\u001b[0m\n",
      "\u001b[2m\u001b[36m(ClientAppActor pid=2226288)\u001b[0m Epoch 34/100\u001b[32m [repeated 628x across cluster]\u001b[0m\n",
      "\u001b[2m\u001b[36m(ClientAppActor pid=2226287)\u001b[0m Epoch 28: Training accuracy: 76.81159210205078 Testing accuracy: 74.56647491455078.\u001b[32m [repeated 623x across cluster]\u001b[0m\n"
     ]
    },
    {
     "name": "stderr",
     "output_type": "stream",
     "text": [
      "\u001b[92mINFO \u001b[0m:      aggregate_fit: received 4 results and 0 failures\n",
      "\u001b[92mINFO \u001b[0m:      fit progress: (23, 0.03441432994954726, {'accuracy': tensor(73.3270, device='cuda:0')}, 74.92515332007315)\n",
      "\u001b[92mINFO \u001b[0m:      configure_evaluate: strategy sampled 2 clients (out of 4)\n",
      "\u001b[92mINFO \u001b[0m:      aggregate_evaluate: received 2 results and 0 failures\n",
      "\u001b[92mINFO \u001b[0m:      \n",
      "\u001b[92mINFO \u001b[0m:      [ROUND 24]\n",
      "\u001b[92mINFO \u001b[0m:      configure_fit: strategy sampled 4 clients (out of 4)\n"
     ]
    },
    {
     "name": "stdout",
     "output_type": "stream",
     "text": [
      "Server-side evaluation loss 0.03441432994954726 / accuracy 73.32695770263672\n",
      "\u001b[2m\u001b[36m(ClientAppActor pid=2226288)\u001b[0m \u001b[32m [repeated 641x across cluster]\u001b[0m\n",
      "\u001b[2m\u001b[36m(ClientAppActor pid=2226288)\u001b[0m Epoch 38/100\u001b[32m [repeated 641x across cluster]\u001b[0m\n",
      "\u001b[2m\u001b[36m(ClientAppActor pid=2226288)\u001b[0m Epoch 37: Training accuracy: 76.7660903930664 Testing accuracy: 75.0.\u001b[32m [repeated 634x across cluster]\u001b[0m\n"
     ]
    },
    {
     "name": "stderr",
     "output_type": "stream",
     "text": [
      "\u001b[92mINFO \u001b[0m:      aggregate_fit: received 4 results and 0 failures\n",
      "\u001b[92mINFO \u001b[0m:      fit progress: (24, 0.03438063228831572, {'accuracy': tensor(73.7094, device='cuda:0')}, 78.0891539810691)\n",
      "\u001b[92mINFO \u001b[0m:      configure_evaluate: strategy sampled 2 clients (out of 4)\n",
      "\u001b[92mINFO \u001b[0m:      aggregate_evaluate: received 2 results and 0 failures\n",
      "\u001b[92mINFO \u001b[0m:      \n",
      "\u001b[92mINFO \u001b[0m:      [ROUND 25]\n",
      "\u001b[92mINFO \u001b[0m:      configure_fit: strategy sampled 4 clients (out of 4)\n"
     ]
    },
    {
     "name": "stdout",
     "output_type": "stream",
     "text": [
      "Server-side evaluation loss 0.03438063228831572 / accuracy 73.70936584472656\n"
     ]
    },
    {
     "name": "stderr",
     "output_type": "stream",
     "text": [
      "\u001b[92mINFO \u001b[0m:      aggregate_fit: received 4 results and 0 failures\n",
      "\u001b[92mINFO \u001b[0m:      fit progress: (25, 0.0338901912464815, {'accuracy': tensor(72.9445, device='cuda:0')}, 81.18592586100567)\n",
      "\u001b[92mINFO \u001b[0m:      configure_evaluate: strategy sampled 2 clients (out of 4)\n",
      "\u001b[92mINFO \u001b[0m:      aggregate_evaluate: received 2 results and 0 failures\n",
      "\u001b[92mINFO \u001b[0m:      \n",
      "\u001b[92mINFO \u001b[0m:      [ROUND 26]\n",
      "\u001b[92mINFO \u001b[0m:      configure_fit: strategy sampled 4 clients (out of 4)\n"
     ]
    },
    {
     "name": "stdout",
     "output_type": "stream",
     "text": [
      "Server-side evaluation loss 0.0338901912464815 / accuracy 72.94454956054688\n",
      "\u001b[2m\u001b[36m(ClientAppActor pid=2226288)\u001b[0m \u001b[32m [repeated 664x across cluster]\u001b[0m\n",
      "\u001b[2m\u001b[36m(ClientAppActor pid=2226288)\u001b[0m Epoch 79/100\u001b[32m [repeated 664x across cluster]\u001b[0m\n",
      "\u001b[2m\u001b[36m(ClientAppActor pid=2226288)\u001b[0m Epoch 78: Training accuracy: 76.94567108154297 Testing accuracy: 74.85379791259766.\u001b[32m [repeated 664x across cluster]\u001b[0m\n"
     ]
    },
    {
     "name": "stderr",
     "output_type": "stream",
     "text": [
      "\u001b[92mINFO \u001b[0m:      aggregate_fit: received 4 results and 0 failures\n",
      "\u001b[92mINFO \u001b[0m:      fit progress: (26, 0.0340194491779103, {'accuracy': tensor(74.2830, device='cuda:0')}, 84.55807090108283)\n",
      "\u001b[92mINFO \u001b[0m:      configure_evaluate: strategy sampled 2 clients (out of 4)\n",
      "\u001b[92mINFO \u001b[0m:      aggregate_evaluate: received 2 results and 0 failures\n",
      "\u001b[92mINFO \u001b[0m:      \n",
      "\u001b[92mINFO \u001b[0m:      [ROUND 27]\n",
      "\u001b[92mINFO \u001b[0m:      configure_fit: strategy sampled 4 clients (out of 4)\n"
     ]
    },
    {
     "name": "stdout",
     "output_type": "stream",
     "text": [
      "Server-side evaluation loss 0.0340194491779103 / accuracy 74.2829818725586\n",
      "\u001b[2m\u001b[36m(ClientAppActor pid=2226288)\u001b[0m \u001b[32m [repeated 606x across cluster]\u001b[0m\n",
      "\u001b[2m\u001b[36m(ClientAppActor pid=2226288)\u001b[0m Epoch 99/100\u001b[32m [repeated 606x across cluster]\u001b[0m\n",
      "\u001b[2m\u001b[36m(ClientAppActor pid=2226288)\u001b[0m Epoch 98: Training accuracy: 78.49293518066406 Testing accuracy: 73.75.\u001b[32m [repeated 606x across cluster]\u001b[0m\n"
     ]
    },
    {
     "name": "stderr",
     "output_type": "stream",
     "text": [
      "\u001b[92mINFO \u001b[0m:      aggregate_fit: received 4 results and 0 failures\n",
      "\u001b[92mINFO \u001b[0m:      fit progress: (27, 0.03406390021829044, {'accuracy': tensor(74.5698, device='cuda:0')}, 87.8347384360386)\n",
      "\u001b[92mINFO \u001b[0m:      configure_evaluate: strategy sampled 2 clients (out of 4)\n",
      "\u001b[92mINFO \u001b[0m:      aggregate_evaluate: received 2 results and 0 failures\n",
      "\u001b[92mINFO \u001b[0m:      \n",
      "\u001b[92mINFO \u001b[0m:      [ROUND 28]\n",
      "\u001b[92mINFO \u001b[0m:      configure_fit: strategy sampled 4 clients (out of 4)\n"
     ]
    },
    {
     "name": "stdout",
     "output_type": "stream",
     "text": [
      "Server-side evaluation loss 0.03406390021829044 / accuracy 74.56978607177734\n"
     ]
    },
    {
     "name": "stderr",
     "output_type": "stream",
     "text": [
      "\u001b[92mINFO \u001b[0m:      aggregate_fit: received 4 results and 0 failures\n",
      "\u001b[92mINFO \u001b[0m:      fit progress: (28, 0.033613930730258715, {'accuracy': tensor(71.9885, device='cuda:0')}, 90.93854388105683)\n",
      "\u001b[92mINFO \u001b[0m:      configure_evaluate: strategy sampled 2 clients (out of 4)\n",
      "\u001b[92mINFO \u001b[0m:      aggregate_evaluate: received 2 results and 0 failures\n",
      "\u001b[92mINFO \u001b[0m:      \n",
      "\u001b[92mINFO \u001b[0m:      [ROUND 29]\n",
      "\u001b[92mINFO \u001b[0m:      configure_fit: strategy sampled 4 clients (out of 4)\n"
     ]
    },
    {
     "name": "stdout",
     "output_type": "stream",
     "text": [
      "Server-side evaluation loss 0.033613930730258715 / accuracy 71.988525390625\n",
      "\u001b[2m\u001b[36m(ClientAppActor pid=2226288)\u001b[0m \u001b[32m [repeated 631x across cluster]\u001b[0m\n",
      "\u001b[2m\u001b[36m(ClientAppActor pid=2226288)\u001b[0m Epoch 4/100\u001b[32m [repeated 631x across cluster]\u001b[0m\n",
      "\u001b[2m\u001b[36m(ClientAppActor pid=2226288)\u001b[0m Epoch 3: Training accuracy: 79.3838882446289 Testing accuracy: 73.11320495605469.\u001b[32m [repeated 631x across cluster]\u001b[0m\n"
     ]
    },
    {
     "name": "stderr",
     "output_type": "stream",
     "text": [
      "\u001b[92mINFO \u001b[0m:      aggregate_fit: received 4 results and 0 failures\n",
      "\u001b[92mINFO \u001b[0m:      fit progress: (29, 0.03395822468925925, {'accuracy': tensor(75.0478, device='cuda:0')}, 94.1622539490927)\n",
      "\u001b[92mINFO \u001b[0m:      configure_evaluate: strategy sampled 2 clients (out of 4)\n",
      "\u001b[92mINFO \u001b[0m:      aggregate_evaluate: received 2 results and 0 failures\n",
      "\u001b[92mINFO \u001b[0m:      \n",
      "\u001b[92mINFO \u001b[0m:      [ROUND 30]\n",
      "\u001b[92mINFO \u001b[0m:      configure_fit: strategy sampled 4 clients (out of 4)\n"
     ]
    },
    {
     "name": "stdout",
     "output_type": "stream",
     "text": [
      "Server-side evaluation loss 0.03395822468925925 / accuracy 75.04779815673828\n"
     ]
    },
    {
     "name": "stderr",
     "output_type": "stream",
     "text": [
      "\u001b[92mINFO \u001b[0m:      aggregate_fit: received 4 results and 0 failures\n",
      "\u001b[92mINFO \u001b[0m:      fit progress: (30, 0.03373304535360897, {'accuracy': tensor(74.2830, device='cuda:0')}, 97.48403474804945)\n",
      "\u001b[92mINFO \u001b[0m:      configure_evaluate: strategy sampled 2 clients (out of 4)\n",
      "\u001b[92mINFO \u001b[0m:      aggregate_evaluate: received 2 results and 0 failures\n",
      "\u001b[92mINFO \u001b[0m:      \n",
      "\u001b[92mINFO \u001b[0m:      [ROUND 31]\n",
      "\u001b[92mINFO \u001b[0m:      configure_fit: strategy sampled 4 clients (out of 4)\n"
     ]
    },
    {
     "name": "stdout",
     "output_type": "stream",
     "text": [
      "\u001b[2m\u001b[36m(ClientAppActor pid=2226288)\u001b[0m \u001b[32m [repeated 602x across cluster]\u001b[0m\n",
      "\u001b[2m\u001b[36m(ClientAppActor pid=2226288)\u001b[0m Epoch 100/100\u001b[32m [repeated 602x across cluster]\u001b[0m\n",
      "\u001b[2m\u001b[36m(ClientAppActor pid=2226288)\u001b[0m Epoch 100: Training accuracy: 79.4419937133789 Testing accuracy: 76.60818481445312.\u001b[32m [repeated 604x across cluster]\u001b[0m\n",
      "Server-side evaluation loss 0.03373304535360897 / accuracy 74.2829818725586\n"
     ]
    },
    {
     "name": "stderr",
     "output_type": "stream",
     "text": [
      "\u001b[92mINFO \u001b[0m:      aggregate_fit: received 4 results and 0 failures\n",
      "\u001b[92mINFO \u001b[0m:      fit progress: (31, 0.033916518968694354, {'accuracy': tensor(75.2390, device='cuda:0')}, 100.62230570300017)\n",
      "\u001b[92mINFO \u001b[0m:      configure_evaluate: strategy sampled 2 clients (out of 4)\n",
      "\u001b[92mINFO \u001b[0m:      aggregate_evaluate: received 2 results and 0 failures\n",
      "\u001b[92mINFO \u001b[0m:      \n",
      "\u001b[92mINFO \u001b[0m:      [ROUND 32]\n",
      "\u001b[92mINFO \u001b[0m:      configure_fit: strategy sampled 4 clients (out of 4)\n"
     ]
    },
    {
     "name": "stdout",
     "output_type": "stream",
     "text": [
      "Server-side evaluation loss 0.033916518968694354 / accuracy 75.23900604248047\n",
      "\u001b[2m\u001b[36m(ClientAppActor pid=2226288)\u001b[0m \u001b[32m [repeated 658x across cluster]\u001b[0m\n",
      "\u001b[2m\u001b[36m(ClientAppActor pid=2226288)\u001b[0m Epoch 23/100\u001b[32m [repeated 658x across cluster]\u001b[0m\n",
      "\u001b[2m\u001b[36m(ClientAppActor pid=2226288)\u001b[0m Epoch 22: Training accuracy: 77.13269805908203 Testing accuracy: 69.81131744384766.\u001b[32m [repeated 656x across cluster]\u001b[0m\n"
     ]
    },
    {
     "name": "stderr",
     "output_type": "stream",
     "text": [
      "\u001b[92mINFO \u001b[0m:      aggregate_fit: received 4 results and 0 failures\n",
      "\u001b[92mINFO \u001b[0m:      fit progress: (32, 0.033845694626078886, {'accuracy': tensor(75.2390, device='cuda:0')}, 104.02363142103422)\n",
      "\u001b[92mINFO \u001b[0m:      configure_evaluate: strategy sampled 2 clients (out of 4)\n",
      "\u001b[92mINFO \u001b[0m:      aggregate_evaluate: received 2 results and 0 failures\n",
      "\u001b[92mINFO \u001b[0m:      \n",
      "\u001b[92mINFO \u001b[0m:      [ROUND 33]\n",
      "\u001b[92mINFO \u001b[0m:      configure_fit: strategy sampled 4 clients (out of 4)\n"
     ]
    },
    {
     "name": "stdout",
     "output_type": "stream",
     "text": [
      "Server-side evaluation loss 0.033845694626078886 / accuracy 75.23900604248047\n"
     ]
    },
    {
     "name": "stderr",
     "output_type": "stream",
     "text": [
      "\u001b[92mINFO \u001b[0m:      aggregate_fit: received 4 results and 0 failures\n",
      "\u001b[92mINFO \u001b[0m:      fit progress: (33, 0.03497405613169951, {'accuracy': tensor(74.3786, device='cuda:0')}, 107.28209228499327)\n",
      "\u001b[92mINFO \u001b[0m:      configure_evaluate: strategy sampled 2 clients (out of 4)\n",
      "\u001b[92mINFO \u001b[0m:      aggregate_evaluate: received 2 results and 0 failures\n",
      "\u001b[92mINFO \u001b[0m:      \n",
      "\u001b[92mINFO \u001b[0m:      [ROUND 34]\n",
      "\u001b[92mINFO \u001b[0m:      configure_fit: strategy sampled 4 clients (out of 4)\n"
     ]
    },
    {
     "name": "stdout",
     "output_type": "stream",
     "text": [
      "Server-side evaluation loss 0.03497405613169951 / accuracy 74.37858581542969\n",
      "\u001b[2m\u001b[36m(ClientAppActor pid=2226288)\u001b[0m \u001b[32m [repeated 569x across cluster]\u001b[0m\n",
      "\u001b[2m\u001b[36m(ClientAppActor pid=2226288)\u001b[0m Epoch 17/100\u001b[32m [repeated 569x across cluster]\u001b[0m\n",
      "\u001b[2m\u001b[36m(ClientAppActor pid=2226288)\u001b[0m Epoch 16: Training accuracy: 77.09251403808594 Testing accuracy: 74.26900482177734.\u001b[32m [repeated 569x across cluster]\u001b[0m\n"
     ]
    },
    {
     "name": "stderr",
     "output_type": "stream",
     "text": [
      "\u001b[92mINFO \u001b[0m:      aggregate_fit: received 4 results and 0 failures\n",
      "\u001b[92mINFO \u001b[0m:      fit progress: (34, 0.0339425381492166, {'accuracy': tensor(75.4302, device='cuda:0')}, 110.57250206707977)\n",
      "\u001b[92mINFO \u001b[0m:      configure_evaluate: strategy sampled 2 clients (out of 4)\n",
      "\u001b[92mINFO \u001b[0m:      aggregate_evaluate: received 2 results and 0 failures\n",
      "\u001b[92mINFO \u001b[0m:      \n",
      "\u001b[92mINFO \u001b[0m:      [ROUND 35]\n",
      "\u001b[92mINFO \u001b[0m:      configure_fit: strategy sampled 4 clients (out of 4)\n"
     ]
    },
    {
     "name": "stdout",
     "output_type": "stream",
     "text": [
      "Server-side evaluation loss 0.0339425381492166 / accuracy 75.43021392822266\n",
      "\u001b[2m\u001b[36m(ClientAppActor pid=2226288)\u001b[0m \u001b[32m [repeated 635x across cluster]\u001b[0m\n",
      "\u001b[2m\u001b[36m(ClientAppActor pid=2226288)\u001b[0m Epoch 16/100\u001b[32m [repeated 635x across cluster]\u001b[0m\n",
      "\u001b[2m\u001b[36m(ClientAppActor pid=2226288)\u001b[0m Epoch 15: Training accuracy: 78.12041473388672 Testing accuracy: 75.4385986328125.\u001b[32m [repeated 635x across cluster]\u001b[0m\n"
     ]
    },
    {
     "name": "stderr",
     "output_type": "stream",
     "text": [
      "\u001b[92mINFO \u001b[0m:      aggregate_fit: received 4 results and 0 failures\n",
      "\u001b[92mINFO \u001b[0m:      fit progress: (35, 0.033852247630848604, {'accuracy': tensor(75.4302, device='cuda:0')}, 113.87853519408964)\n",
      "\u001b[92mINFO \u001b[0m:      configure_evaluate: strategy sampled 2 clients (out of 4)\n",
      "\u001b[92mINFO \u001b[0m:      aggregate_evaluate: received 2 results and 0 failures\n",
      "\u001b[92mINFO \u001b[0m:      \n",
      "\u001b[92mINFO \u001b[0m:      [ROUND 36]\n",
      "\u001b[92mINFO \u001b[0m:      configure_fit: strategy sampled 4 clients (out of 4)\n"
     ]
    },
    {
     "name": "stdout",
     "output_type": "stream",
     "text": [
      "Server-side evaluation loss 0.033852247630848604 / accuracy 75.43021392822266\n"
     ]
    },
    {
     "name": "stderr",
     "output_type": "stream",
     "text": [
      "\u001b[92mINFO \u001b[0m:      aggregate_fit: received 4 results and 0 failures\n",
      "\u001b[92mINFO \u001b[0m:      fit progress: (36, 0.0339117821525125, {'accuracy': tensor(74.1874, device='cuda:0')}, 117.26503409305587)\n",
      "\u001b[92mINFO \u001b[0m:      configure_evaluate: strategy sampled 2 clients (out of 4)\n",
      "\u001b[92mINFO \u001b[0m:      aggregate_evaluate: received 2 results and 0 failures\n",
      "\u001b[92mINFO \u001b[0m:      \n",
      "\u001b[92mINFO \u001b[0m:      [ROUND 37]\n",
      "\u001b[92mINFO \u001b[0m:      configure_fit: strategy sampled 4 clients (out of 4)\n"
     ]
    },
    {
     "name": "stdout",
     "output_type": "stream",
     "text": [
      "Server-side evaluation loss 0.0339117821525125 / accuracy 74.1873779296875\n",
      "\u001b[2m\u001b[36m(ClientAppActor pid=2226288)\u001b[0m \u001b[32m [repeated 586x across cluster]\u001b[0m\n",
      "\u001b[2m\u001b[36m(ClientAppActor pid=2226288)\u001b[0m Epoch 24/100\u001b[32m [repeated 586x across cluster]\u001b[0m\n",
      "\u001b[2m\u001b[36m(ClientAppActor pid=2226288)\u001b[0m Epoch 23: Training accuracy: 80.45023345947266 Testing accuracy: 74.05660247802734.\u001b[32m [repeated 586x across cluster]\u001b[0m\n"
     ]
    },
    {
     "name": "stderr",
     "output_type": "stream",
     "text": [
      "\u001b[92mINFO \u001b[0m:      aggregate_fit: received 4 results and 0 failures\n",
      "\u001b[92mINFO \u001b[0m:      fit progress: (37, 0.03393824661479277, {'accuracy': tensor(75.4302, device='cuda:0')}, 120.47894492198247)\n",
      "\u001b[92mINFO \u001b[0m:      configure_evaluate: strategy sampled 2 clients (out of 4)\n",
      "\u001b[92mINFO \u001b[0m:      aggregate_evaluate: received 2 results and 0 failures\n",
      "\u001b[92mINFO \u001b[0m:      \n",
      "\u001b[92mINFO \u001b[0m:      [ROUND 38]\n",
      "\u001b[92mINFO \u001b[0m:      configure_fit: strategy sampled 4 clients (out of 4)\n"
     ]
    },
    {
     "name": "stdout",
     "output_type": "stream",
     "text": [
      "Server-side evaluation loss 0.03393824661479277 / accuracy 75.43021392822266\n",
      "\u001b[2m\u001b[36m(ClientAppActor pid=2226288)\u001b[0m \u001b[32m [repeated 649x across cluster]\u001b[0m\n",
      "\u001b[2m\u001b[36m(ClientAppActor pid=2226288)\u001b[0m Epoch 37/100\u001b[32m [repeated 649x across cluster]\u001b[0m\n",
      "\u001b[2m\u001b[36m(ClientAppActor pid=2226288)\u001b[0m Epoch 36: Training accuracy: 80.69073486328125 Testing accuracy: 76.25.\u001b[32m [repeated 649x across cluster]\u001b[0m\n"
     ]
    },
    {
     "name": "stderr",
     "output_type": "stream",
     "text": [
      "\u001b[92mINFO \u001b[0m:      aggregate_fit: received 4 results and 0 failures\n",
      "\u001b[92mINFO \u001b[0m:      fit progress: (38, 0.0340612530708313, {'accuracy': tensor(75.5258, device='cuda:0')}, 123.76063807704486)\n",
      "\u001b[92mINFO \u001b[0m:      configure_evaluate: strategy sampled 2 clients (out of 4)\n",
      "\u001b[92mINFO \u001b[0m:      aggregate_evaluate: received 2 results and 0 failures\n",
      "\u001b[92mINFO \u001b[0m:      \n",
      "\u001b[92mINFO \u001b[0m:      [ROUND 39]\n",
      "\u001b[92mINFO \u001b[0m:      configure_fit: strategy sampled 4 clients (out of 4)\n"
     ]
    },
    {
     "name": "stdout",
     "output_type": "stream",
     "text": [
      "Server-side evaluation loss 0.0340612530708313 / accuracy 75.52581024169922\n"
     ]
    },
    {
     "name": "stderr",
     "output_type": "stream",
     "text": [
      "\u001b[92mINFO \u001b[0m:      aggregate_fit: received 4 results and 0 failures\n",
      "\u001b[92mINFO \u001b[0m:      fit progress: (39, 0.03407557221019969, {'accuracy': tensor(75.3346, device='cuda:0')}, 127.07637455908116)\n",
      "\u001b[92mINFO \u001b[0m:      configure_evaluate: strategy sampled 2 clients (out of 4)\n",
      "\u001b[92mINFO \u001b[0m:      aggregate_evaluate: received 2 results and 0 failures\n",
      "\u001b[92mINFO \u001b[0m:      \n",
      "\u001b[92mINFO \u001b[0m:      [ROUND 40]\n",
      "\u001b[92mINFO \u001b[0m:      configure_fit: strategy sampled 4 clients (out of 4)\n"
     ]
    },
    {
     "name": "stdout",
     "output_type": "stream",
     "text": [
      "Server-side evaluation loss 0.03407557221019969 / accuracy 75.33460998535156\n",
      "\u001b[2m\u001b[36m(ClientAppActor pid=2226288)\u001b[0m \u001b[32m [repeated 602x across cluster]\u001b[0m\n",
      "\u001b[2m\u001b[36m(ClientAppActor pid=2226288)\u001b[0m Epoch 50/100\u001b[32m [repeated 602x across cluster]\u001b[0m\n",
      "\u001b[2m\u001b[36m(ClientAppActor pid=2226288)\u001b[0m Epoch 49: Training accuracy: 79.56521606445312 Testing accuracy: 78.61271667480469.\u001b[32m [repeated 602x across cluster]\u001b[0m\n"
     ]
    },
    {
     "name": "stderr",
     "output_type": "stream",
     "text": [
      "\u001b[92mINFO \u001b[0m:      aggregate_fit: received 4 results and 0 failures\n",
      "\u001b[92mINFO \u001b[0m:      fit progress: (40, 0.03408456199309405, {'accuracy': tensor(75.4302, device='cuda:0')}, 130.2339534360217)\n",
      "\u001b[92mINFO \u001b[0m:      configure_evaluate: strategy sampled 2 clients (out of 4)\n",
      "\u001b[92mINFO \u001b[0m:      aggregate_evaluate: received 2 results and 0 failures\n",
      "\u001b[92mINFO \u001b[0m:      \n",
      "\u001b[92mINFO \u001b[0m:      [ROUND 41]\n",
      "\u001b[92mINFO \u001b[0m:      configure_fit: strategy sampled 4 clients (out of 4)\n"
     ]
    },
    {
     "name": "stdout",
     "output_type": "stream",
     "text": [
      "Server-side evaluation loss 0.03408456199309405 / accuracy 75.43021392822266\n",
      "\u001b[2m\u001b[36m(ClientAppActor pid=2226288)\u001b[0m \u001b[32m [repeated 651x across cluster]\u001b[0m\n",
      "\u001b[2m\u001b[36m(ClientAppActor pid=2226288)\u001b[0m Epoch 56/100\u001b[32m [repeated 651x across cluster]\u001b[0m\n",
      "\u001b[2m\u001b[36m(ClientAppActor pid=2226288)\u001b[0m Epoch 55: Training accuracy: 81.59420013427734 Testing accuracy: 78.03468322753906.\u001b[32m [repeated 651x across cluster]\u001b[0m\n"
     ]
    },
    {
     "name": "stderr",
     "output_type": "stream",
     "text": [
      "\u001b[92mINFO \u001b[0m:      aggregate_fit: received 4 results and 0 failures\n",
      "\u001b[92mINFO \u001b[0m:      fit progress: (41, 0.03409343957901001, {'accuracy': tensor(75.7170, device='cuda:0')}, 133.60333280602936)\n",
      "\u001b[92mINFO \u001b[0m:      configure_evaluate: strategy sampled 2 clients (out of 4)\n",
      "\u001b[92mINFO \u001b[0m:      aggregate_evaluate: received 2 results and 0 failures\n",
      "\u001b[92mINFO \u001b[0m:      \n",
      "\u001b[92mINFO \u001b[0m:      [ROUND 42]\n",
      "\u001b[92mINFO \u001b[0m:      configure_fit: strategy sampled 4 clients (out of 4)\n"
     ]
    },
    {
     "name": "stdout",
     "output_type": "stream",
     "text": [
      "Server-side evaluation loss 0.03409343957901001 / accuracy 75.7170181274414\n"
     ]
    },
    {
     "name": "stderr",
     "output_type": "stream",
     "text": [
      "\u001b[92mINFO \u001b[0m:      aggregate_fit: received 4 results and 0 failures\n",
      "\u001b[92mINFO \u001b[0m:      fit progress: (42, 0.03414211553685805, {'accuracy': tensor(75.7170, device='cuda:0')}, 136.9586790089961)\n",
      "\u001b[92mINFO \u001b[0m:      configure_evaluate: strategy sampled 2 clients (out of 4)\n",
      "\u001b[92mINFO \u001b[0m:      aggregate_evaluate: received 2 results and 0 failures\n",
      "\u001b[92mINFO \u001b[0m:      \n",
      "\u001b[92mINFO \u001b[0m:      [ROUND 43]\n",
      "\u001b[92mINFO \u001b[0m:      configure_fit: strategy sampled 4 clients (out of 4)\n"
     ]
    },
    {
     "name": "stdout",
     "output_type": "stream",
     "text": [
      "Server-side evaluation loss 0.03414211553685805 / accuracy 75.7170181274414\n",
      "\u001b[2m\u001b[36m(ClientAppActor pid=2226288)\u001b[0m \u001b[32m [repeated 572x across cluster]\u001b[0m\n",
      "\u001b[2m\u001b[36m(ClientAppActor pid=2226288)\u001b[0m Epoch 73/100\u001b[32m [repeated 572x across cluster]\u001b[0m\n",
      "\u001b[2m\u001b[36m(ClientAppActor pid=2226288)\u001b[0m Epoch 72: Training accuracy: 81.47566986083984 Testing accuracy: 75.0.\u001b[32m [repeated 572x across cluster]\u001b[0m\n"
     ]
    },
    {
     "name": "stderr",
     "output_type": "stream",
     "text": [
      "\u001b[92mINFO \u001b[0m:      aggregate_fit: received 4 results and 0 failures\n",
      "\u001b[92mINFO \u001b[0m:      fit progress: (43, 0.03434797946144553, {'accuracy': tensor(74.3786, device='cuda:0')}, 140.21405838802457)\n",
      "\u001b[92mINFO \u001b[0m:      configure_evaluate: strategy sampled 2 clients (out of 4)\n",
      "\u001b[92mINFO \u001b[0m:      aggregate_evaluate: received 2 results and 0 failures\n",
      "\u001b[92mINFO \u001b[0m:      \n",
      "\u001b[92mINFO \u001b[0m:      [ROUND 44]\n",
      "\u001b[92mINFO \u001b[0m:      configure_fit: strategy sampled 4 clients (out of 4)\n"
     ]
    },
    {
     "name": "stdout",
     "output_type": "stream",
     "text": [
      "Server-side evaluation loss 0.03434797946144553 / accuracy 74.37858581542969\n",
      "\u001b[2m\u001b[36m(ClientAppActor pid=2226288)\u001b[0m \u001b[32m [repeated 638x across cluster]\u001b[0m\n",
      "\u001b[2m\u001b[36m(ClientAppActor pid=2226288)\u001b[0m Epoch 97/100\u001b[32m [repeated 638x across cluster]\u001b[0m\n",
      "\u001b[2m\u001b[36m(ClientAppActor pid=2226288)\u001b[0m Epoch 96: Training accuracy: 80.17620849609375 Testing accuracy: 77.77777862548828.\u001b[32m [repeated 638x across cluster]\u001b[0m\n"
     ]
    },
    {
     "name": "stderr",
     "output_type": "stream",
     "text": [
      "\u001b[92mINFO \u001b[0m:      aggregate_fit: received 4 results and 0 failures\n",
      "\u001b[92mINFO \u001b[0m:      fit progress: (44, 0.03414681729148416, {'accuracy': tensor(75.9082, device='cuda:0')}, 143.49615425406955)\n",
      "\u001b[92mINFO \u001b[0m:      configure_evaluate: strategy sampled 2 clients (out of 4)\n",
      "\u001b[92mINFO \u001b[0m:      aggregate_evaluate: received 2 results and 0 failures\n",
      "\u001b[92mINFO \u001b[0m:      \n",
      "\u001b[92mINFO \u001b[0m:      [ROUND 45]\n",
      "\u001b[92mINFO \u001b[0m:      configure_fit: strategy sampled 4 clients (out of 4)\n"
     ]
    },
    {
     "name": "stdout",
     "output_type": "stream",
     "text": [
      "Server-side evaluation loss 0.03414681729148416 / accuracy 75.90821838378906\n"
     ]
    },
    {
     "name": "stderr",
     "output_type": "stream",
     "text": [
      "\u001b[92mINFO \u001b[0m:      aggregate_fit: received 4 results and 0 failures\n",
      "\u001b[92mINFO \u001b[0m:      fit progress: (45, 0.034161104875452375, {'accuracy': tensor(75.9082, device='cuda:0')}, 146.71873851504643)\n",
      "\u001b[92mINFO \u001b[0m:      configure_evaluate: strategy sampled 2 clients (out of 4)\n",
      "\u001b[92mINFO \u001b[0m:      aggregate_evaluate: received 2 results and 0 failures\n",
      "\u001b[92mINFO \u001b[0m:      \n",
      "\u001b[92mINFO \u001b[0m:      [ROUND 46]\n",
      "\u001b[92mINFO \u001b[0m:      configure_fit: strategy sampled 4 clients (out of 4)\n"
     ]
    },
    {
     "name": "stdout",
     "output_type": "stream",
     "text": [
      "Server-side evaluation loss 0.034161104875452375 / accuracy 75.90821838378906\n",
      "\u001b[2m\u001b[36m(ClientAppActor pid=2226288)\u001b[0m \u001b[32m [repeated 631x across cluster]\u001b[0m\n",
      "\u001b[2m\u001b[36m(ClientAppActor pid=2226288)\u001b[0m Epoch 98/100\u001b[32m [repeated 631x across cluster]\u001b[0m\n",
      "\u001b[2m\u001b[36m(ClientAppActor pid=2226288)\u001b[0m Epoch 97: Training accuracy: 82.4637680053711 Testing accuracy: 78.03468322753906.\u001b[32m [repeated 631x across cluster]\u001b[0m\n"
     ]
    },
    {
     "name": "stderr",
     "output_type": "stream",
     "text": [
      "\u001b[92mINFO \u001b[0m:      aggregate_fit: received 4 results and 0 failures\n",
      "\u001b[92mINFO \u001b[0m:      fit progress: (46, 0.034330501275904035, {'accuracy': tensor(75.3346, device='cuda:0')}, 150.08378970902413)\n",
      "\u001b[92mINFO \u001b[0m:      configure_evaluate: strategy sampled 2 clients (out of 4)\n",
      "\u001b[92mINFO \u001b[0m:      aggregate_evaluate: received 2 results and 0 failures\n",
      "\u001b[92mINFO \u001b[0m:      \n",
      "\u001b[92mINFO \u001b[0m:      [ROUND 47]\n",
      "\u001b[92mINFO \u001b[0m:      configure_fit: strategy sampled 4 clients (out of 4)\n"
     ]
    },
    {
     "name": "stdout",
     "output_type": "stream",
     "text": [
      "Server-side evaluation loss 0.034330501275904035 / accuracy 75.33460998535156\n"
     ]
    },
    {
     "name": "stderr",
     "output_type": "stream",
     "text": [
      "\u001b[92mINFO \u001b[0m:      aggregate_fit: received 4 results and 0 failures\n",
      "\u001b[92mINFO \u001b[0m:      fit progress: (47, 0.03427239025340361, {'accuracy': tensor(75.4302, device='cuda:0')}, 153.3016298210714)\n",
      "\u001b[92mINFO \u001b[0m:      configure_evaluate: strategy sampled 2 clients (out of 4)\n",
      "\u001b[92mINFO \u001b[0m:      aggregate_evaluate: received 2 results and 0 failures\n",
      "\u001b[92mINFO \u001b[0m:      \n",
      "\u001b[92mINFO \u001b[0m:      [ROUND 48]\n",
      "\u001b[92mINFO \u001b[0m:      configure_fit: strategy sampled 4 clients (out of 4)\n"
     ]
    },
    {
     "name": "stdout",
     "output_type": "stream",
     "text": [
      "\u001b[2m\u001b[36m(ClientAppActor pid=2226288)\u001b[0m \u001b[32m [repeated 607x across cluster]\u001b[0m\n",
      "\u001b[2m\u001b[36m(ClientAppActor pid=2226288)\u001b[0m Epoch 98/100\u001b[32m [repeated 607x across cluster]\u001b[0m\n",
      "\u001b[2m\u001b[36m(ClientAppActor pid=2226288)\u001b[0m Epoch 97: Training accuracy: 82.88854217529297 Testing accuracy: 76.25.\u001b[32m [repeated 608x across cluster]\u001b[0m\n",
      "Server-side evaluation loss 0.03427239025340361 / accuracy 75.43021392822266\n"
     ]
    },
    {
     "name": "stderr",
     "output_type": "stream",
     "text": [
      "\u001b[92mINFO \u001b[0m:      aggregate_fit: received 4 results and 0 failures\n",
      "\u001b[92mINFO \u001b[0m:      fit progress: (48, 0.034183291827931124, {'accuracy': tensor(75.9082, device='cuda:0')}, 156.70838542305864)\n",
      "\u001b[92mINFO \u001b[0m:      configure_evaluate: strategy sampled 2 clients (out of 4)\n",
      "\u001b[92mINFO \u001b[0m:      aggregate_evaluate: received 2 results and 0 failures\n",
      "\u001b[92mINFO \u001b[0m:      \n",
      "\u001b[92mINFO \u001b[0m:      [ROUND 49]\n",
      "\u001b[92mINFO \u001b[0m:      configure_fit: strategy sampled 4 clients (out of 4)\n"
     ]
    },
    {
     "name": "stdout",
     "output_type": "stream",
     "text": [
      "Server-side evaluation loss 0.034183291827931124 / accuracy 75.90821838378906\n",
      "\u001b[2m\u001b[36m(ClientAppActor pid=2226288)\u001b[0m \u001b[32m [repeated 614x across cluster]\u001b[0m\n",
      "\u001b[2m\u001b[36m(ClientAppActor pid=2226288)\u001b[0m Epoch 6/100\u001b[32m [repeated 614x across cluster]\u001b[0m\n",
      "\u001b[2m\u001b[36m(ClientAppActor pid=2226288)\u001b[0m Epoch 5: Training accuracy: 82.81990814208984 Testing accuracy: 74.52830505371094.\u001b[32m [repeated 613x across cluster]\u001b[0m\n"
     ]
    },
    {
     "name": "stderr",
     "output_type": "stream",
     "text": [
      "\u001b[92mINFO \u001b[0m:      aggregate_fit: received 4 results and 0 failures\n",
      "\u001b[92mINFO \u001b[0m:      fit progress: (49, 0.03421719985849717, {'accuracy': tensor(75.7170, device='cuda:0')}, 160.04458161199)\n",
      "\u001b[92mINFO \u001b[0m:      configure_evaluate: strategy sampled 2 clients (out of 4)\n",
      "\u001b[92mINFO \u001b[0m:      aggregate_evaluate: received 2 results and 0 failures\n",
      "\u001b[92mINFO \u001b[0m:      \n",
      "\u001b[92mINFO \u001b[0m:      [ROUND 50]\n",
      "\u001b[92mINFO \u001b[0m:      configure_fit: strategy sampled 4 clients (out of 4)\n"
     ]
    },
    {
     "name": "stdout",
     "output_type": "stream",
     "text": [
      "Server-side evaluation loss 0.03421719985849717 / accuracy 75.7170181274414\n"
     ]
    },
    {
     "name": "stderr",
     "output_type": "stream",
     "text": [
      "\u001b[92mINFO \u001b[0m:      aggregate_fit: received 4 results and 0 failures\n",
      "\u001b[92mINFO \u001b[0m:      fit progress: (50, 0.03412102250491872, {'accuracy': tensor(76.0038, device='cuda:0')}, 163.45856228703633)\n",
      "\u001b[92mINFO \u001b[0m:      configure_evaluate: strategy sampled 2 clients (out of 4)\n",
      "\u001b[92mINFO \u001b[0m:      aggregate_evaluate: received 2 results and 0 failures\n",
      "\u001b[92mINFO \u001b[0m:      \n",
      "\u001b[92mINFO \u001b[0m:      [ROUND 51]\n",
      "\u001b[92mINFO \u001b[0m:      configure_fit: strategy sampled 4 clients (out of 4)\n"
     ]
    },
    {
     "name": "stdout",
     "output_type": "stream",
     "text": [
      "\u001b[2m\u001b[36m(ClientAppActor pid=2226288)\u001b[0m \u001b[32m [repeated 588x across cluster]\u001b[0m\n",
      "\u001b[2m\u001b[36m(ClientAppActor pid=2226288)\u001b[0m Epoch 100/100\u001b[32m [repeated 588x across cluster]\u001b[0m\n",
      "\u001b[2m\u001b[36m(ClientAppActor pid=2226288)\u001b[0m Epoch 100: Training accuracy: 82.4644546508789 Testing accuracy: 77.83018493652344.\u001b[32m [repeated 590x across cluster]\u001b[0m\n",
      "Server-side evaluation loss 0.03412102250491872 / accuracy 76.00382232666016\n"
     ]
    },
    {
     "name": "stderr",
     "output_type": "stream",
     "text": [
      "\u001b[92mINFO \u001b[0m:      aggregate_fit: received 4 results and 0 failures\n",
      "\u001b[92mINFO \u001b[0m:      fit progress: (51, 0.0341179230633904, {'accuracy': tensor(76.0994, device='cuda:0')}, 166.6763328310335)\n",
      "\u001b[92mINFO \u001b[0m:      configure_evaluate: strategy sampled 2 clients (out of 4)\n",
      "\u001b[92mINFO \u001b[0m:      aggregate_evaluate: received 2 results and 0 failures\n",
      "\u001b[92mINFO \u001b[0m:      \n",
      "\u001b[92mINFO \u001b[0m:      [ROUND 52]\n",
      "\u001b[92mINFO \u001b[0m:      configure_fit: strategy sampled 4 clients (out of 4)\n"
     ]
    },
    {
     "name": "stdout",
     "output_type": "stream",
     "text": [
      "Server-side evaluation loss 0.0341179230633904 / accuracy 76.09942626953125\n",
      "\u001b[2m\u001b[36m(ClientAppActor pid=2226288)\u001b[0m \u001b[32m [repeated 619x across cluster]\u001b[0m\n",
      "\u001b[2m\u001b[36m(ClientAppActor pid=2226288)\u001b[0m Epoch 25/100\u001b[32m [repeated 619x across cluster]\u001b[0m\n",
      "\u001b[2m\u001b[36m(ClientAppActor pid=2226288)\u001b[0m Epoch 24: Training accuracy: 81.73912811279297 Testing accuracy: 77.45664978027344.\u001b[32m [repeated 617x across cluster]\u001b[0m\n"
     ]
    },
    {
     "name": "stderr",
     "output_type": "stream",
     "text": [
      "\u001b[92mINFO \u001b[0m:      aggregate_fit: received 4 results and 0 failures\n",
      "\u001b[92mINFO \u001b[0m:      fit progress: (52, 0.03413997327580171, {'accuracy': tensor(76.0994, device='cuda:0')}, 169.87929823703598)\n",
      "\u001b[92mINFO \u001b[0m:      configure_evaluate: strategy sampled 2 clients (out of 4)\n",
      "\u001b[92mINFO \u001b[0m:      aggregate_evaluate: received 2 results and 0 failures\n",
      "\u001b[92mINFO \u001b[0m:      \n",
      "\u001b[92mINFO \u001b[0m:      [ROUND 53]\n",
      "\u001b[92mINFO \u001b[0m:      configure_fit: strategy sampled 4 clients (out of 4)\n"
     ]
    },
    {
     "name": "stdout",
     "output_type": "stream",
     "text": [
      "Server-side evaluation loss 0.03413997327580171 / accuracy 76.09942626953125\n"
     ]
    },
    {
     "name": "stderr",
     "output_type": "stream",
     "text": [
      "\u001b[92mINFO \u001b[0m:      aggregate_fit: received 4 results and 0 failures\n",
      "\u001b[92mINFO \u001b[0m:      fit progress: (53, 0.034113077556385714, {'accuracy': tensor(76.0038, device='cuda:0')}, 173.2819466550136)\n",
      "\u001b[92mINFO \u001b[0m:      configure_evaluate: strategy sampled 2 clients (out of 4)\n",
      "\u001b[92mINFO \u001b[0m:      aggregate_evaluate: received 2 results and 0 failures\n",
      "\u001b[92mINFO \u001b[0m:      \n",
      "\u001b[92mINFO \u001b[0m:      [ROUND 54]\n",
      "\u001b[92mINFO \u001b[0m:      configure_fit: strategy sampled 4 clients (out of 4)\n"
     ]
    },
    {
     "name": "stdout",
     "output_type": "stream",
     "text": [
      "Server-side evaluation loss 0.034113077556385714 / accuracy 76.00382232666016\n",
      "\u001b[2m\u001b[36m(ClientAppActor pid=2226288)\u001b[0m \u001b[32m [repeated 601x across cluster]\u001b[0m\n",
      "\u001b[2m\u001b[36m(ClientAppActor pid=2226288)\u001b[0m Epoch 13/100\u001b[32m [repeated 601x across cluster]\u001b[0m\n",
      "\u001b[2m\u001b[36m(ClientAppActor pid=2226288)\u001b[0m Epoch 12: Training accuracy: 82.31884002685547 Testing accuracy: 78.61271667480469.\u001b[32m [repeated 601x across cluster]\u001b[0m\n"
     ]
    },
    {
     "name": "stderr",
     "output_type": "stream",
     "text": [
      "\u001b[92mINFO \u001b[0m:      aggregate_fit: received 4 results and 0 failures\n",
      "\u001b[92mINFO \u001b[0m:      fit progress: (54, 0.03408985979416791, {'accuracy': tensor(76.2906, device='cuda:0')}, 176.61681095708627)\n",
      "\u001b[92mINFO \u001b[0m:      configure_evaluate: strategy sampled 2 clients (out of 4)\n",
      "\u001b[92mINFO \u001b[0m:      aggregate_evaluate: received 2 results and 0 failures\n",
      "\u001b[92mINFO \u001b[0m:      \n",
      "\u001b[92mINFO \u001b[0m:      [ROUND 55]\n",
      "\u001b[92mINFO \u001b[0m:      configure_fit: strategy sampled 4 clients (out of 4)\n"
     ]
    },
    {
     "name": "stdout",
     "output_type": "stream",
     "text": [
      "Server-side evaluation loss 0.03408985979416791 / accuracy 76.29063415527344\n",
      "\u001b[2m\u001b[36m(ClientAppActor pid=2226288)\u001b[0m \u001b[32m [repeated 613x across cluster]\u001b[0m\n",
      "\u001b[2m\u001b[36m(ClientAppActor pid=2226288)\u001b[0m Epoch 1/100\u001b[32m [repeated 613x across cluster]\u001b[0m\n",
      "\u001b[2m\u001b[36m(ClientAppActor pid=2226287)\u001b[0m Epoch 31: Training accuracy: 81.3043441772461 Testing accuracy: 79.19075012207031.\u001b[32m [repeated 613x across cluster]\u001b[0m\n"
     ]
    },
    {
     "name": "stderr",
     "output_type": "stream",
     "text": [
      "\u001b[92mINFO \u001b[0m:      aggregate_fit: received 4 results and 0 failures\n",
      "\u001b[92mINFO \u001b[0m:      fit progress: (55, 0.03402624761357027, {'accuracy': tensor(76.2906, device='cuda:0')}, 180.05802638304885)\n",
      "\u001b[92mINFO \u001b[0m:      configure_evaluate: strategy sampled 2 clients (out of 4)\n",
      "\u001b[92mINFO \u001b[0m:      aggregate_evaluate: received 2 results and 0 failures\n",
      "\u001b[92mINFO \u001b[0m:      \n",
      "\u001b[92mINFO \u001b[0m:      [ROUND 56]\n",
      "\u001b[92mINFO \u001b[0m:      configure_fit: strategy sampled 4 clients (out of 4)\n"
     ]
    },
    {
     "name": "stdout",
     "output_type": "stream",
     "text": [
      "Server-side evaluation loss 0.03402624761357027 / accuracy 76.29063415527344\n"
     ]
    },
    {
     "name": "stderr",
     "output_type": "stream",
     "text": [
      "\u001b[92mINFO \u001b[0m:      aggregate_fit: received 4 results and 0 failures\n",
      "\u001b[92mINFO \u001b[0m:      fit progress: (56, 0.03442892958136166, {'accuracy': tensor(74.4742, device='cuda:0')}, 183.35124782205094)\n",
      "\u001b[92mINFO \u001b[0m:      configure_evaluate: strategy sampled 2 clients (out of 4)\n",
      "\u001b[92mINFO \u001b[0m:      aggregate_evaluate: received 2 results and 0 failures\n",
      "\u001b[92mINFO \u001b[0m:      \n",
      "\u001b[92mINFO \u001b[0m:      [ROUND 57]\n",
      "\u001b[92mINFO \u001b[0m:      configure_fit: strategy sampled 4 clients (out of 4)\n"
     ]
    },
    {
     "name": "stdout",
     "output_type": "stream",
     "text": [
      "Server-side evaluation loss 0.03442892958136166 / accuracy 74.47418975830078\n",
      "\u001b[2m\u001b[36m(ClientAppActor pid=2226288)\u001b[0m \u001b[32m [repeated 607x across cluster]\u001b[0m\n",
      "\u001b[2m\u001b[36m(ClientAppActor pid=2226288)\u001b[0m Epoch 22/100\u001b[32m [repeated 606x across cluster]\u001b[0m\n",
      "\u001b[2m\u001b[36m(ClientAppActor pid=2226288)\u001b[0m Epoch 21: Training accuracy: 82.60869598388672 Testing accuracy: 78.03468322753906.\u001b[32m [repeated 606x across cluster]\u001b[0m\n"
     ]
    },
    {
     "name": "stderr",
     "output_type": "stream",
     "text": [
      "\u001b[92mINFO \u001b[0m:      aggregate_fit: received 4 results and 0 failures\n",
      "\u001b[92mINFO \u001b[0m:      fit progress: (57, 0.033962961505441105, {'accuracy': tensor(76.1950, device='cuda:0')}, 186.77741958200932)\n",
      "\u001b[92mINFO \u001b[0m:      configure_evaluate: strategy sampled 2 clients (out of 4)\n",
      "\u001b[92mINFO \u001b[0m:      aggregate_evaluate: received 2 results and 0 failures\n",
      "\u001b[92mINFO \u001b[0m:      \n",
      "\u001b[92mINFO \u001b[0m:      [ROUND 58]\n",
      "\u001b[92mINFO \u001b[0m:      configure_fit: strategy sampled 4 clients (out of 4)\n"
     ]
    },
    {
     "name": "stdout",
     "output_type": "stream",
     "text": [
      "Server-side evaluation loss 0.033962961505441105 / accuracy 76.19503021240234\n",
      "\u001b[2m\u001b[36m(ClientAppActor pid=2226288)\u001b[0m \u001b[32m [repeated 602x across cluster]\u001b[0m\n",
      "\u001b[2m\u001b[36m(ClientAppActor pid=2226288)\u001b[0m Epoch 5/100\u001b[32m [repeated 602x across cluster]\u001b[0m\n",
      "\u001b[2m\u001b[36m(ClientAppActor pid=2226288)\u001b[0m Epoch 4: Training accuracy: 79.88252258300781 Testing accuracy: 77.77777862548828.\u001b[32m [repeated 602x across cluster]\u001b[0m\n"
     ]
    },
    {
     "name": "stderr",
     "output_type": "stream",
     "text": [
      "\u001b[92mINFO \u001b[0m:      aggregate_fit: received 4 results and 0 failures\n",
      "\u001b[92mINFO \u001b[0m:      fit progress: (58, 0.03390516603694243, {'accuracy': tensor(76.2906, device='cuda:0')}, 190.0969608160667)\n",
      "\u001b[92mINFO \u001b[0m:      configure_evaluate: strategy sampled 2 clients (out of 4)\n",
      "\u001b[92mINFO \u001b[0m:      aggregate_evaluate: received 2 results and 0 failures\n",
      "\u001b[92mINFO \u001b[0m:      \n",
      "\u001b[92mINFO \u001b[0m:      [ROUND 59]\n",
      "\u001b[92mINFO \u001b[0m:      configure_fit: strategy sampled 4 clients (out of 4)\n"
     ]
    },
    {
     "name": "stdout",
     "output_type": "stream",
     "text": [
      "Server-side evaluation loss 0.03390516603694243 / accuracy 76.29063415527344\n"
     ]
    },
    {
     "name": "stderr",
     "output_type": "stream",
     "text": [
      "\u001b[92mINFO \u001b[0m:      aggregate_fit: received 4 results and 0 failures\n",
      "\u001b[92mINFO \u001b[0m:      fit progress: (59, 0.03416392733069027, {'accuracy': tensor(75.5258, device='cuda:0')}, 193.4072137119947)\n",
      "\u001b[92mINFO \u001b[0m:      configure_evaluate: strategy sampled 2 clients (out of 4)\n",
      "\u001b[92mINFO \u001b[0m:      aggregate_evaluate: received 2 results and 0 failures\n",
      "\u001b[92mINFO \u001b[0m:      \n",
      "\u001b[92mINFO \u001b[0m:      [ROUND 60]\n",
      "\u001b[92mINFO \u001b[0m:      configure_fit: strategy sampled 4 clients (out of 4)\n"
     ]
    },
    {
     "name": "stdout",
     "output_type": "stream",
     "text": [
      "Server-side evaluation loss 0.03416392733069027 / accuracy 75.52581024169922\n",
      "\u001b[2m\u001b[36m(ClientAppActor pid=2226288)\u001b[0m \u001b[32m [repeated 602x across cluster]\u001b[0m\n",
      "\u001b[2m\u001b[36m(ClientAppActor pid=2226288)\u001b[0m Epoch 26/100\u001b[32m [repeated 602x across cluster]\u001b[0m\n",
      "\u001b[2m\u001b[36m(ClientAppActor pid=2226288)\u001b[0m Epoch 25: Training accuracy: 83.83045196533203 Testing accuracy: 76.25.\u001b[32m [repeated 602x across cluster]\u001b[0m\n"
     ]
    },
    {
     "name": "stderr",
     "output_type": "stream",
     "text": [
      "\u001b[92mINFO \u001b[0m:      aggregate_fit: received 4 results and 0 failures\n",
      "\u001b[92mINFO \u001b[0m:      fit progress: (60, 0.0338094900636112, {'accuracy': tensor(76.2906, device='cuda:0')}, 196.65054931503255)\n",
      "\u001b[92mINFO \u001b[0m:      configure_evaluate: strategy sampled 2 clients (out of 4)\n",
      "\u001b[92mINFO \u001b[0m:      aggregate_evaluate: received 2 results and 0 failures\n",
      "\u001b[92mINFO \u001b[0m:      \n",
      "\u001b[92mINFO \u001b[0m:      [ROUND 61]\n",
      "\u001b[92mINFO \u001b[0m:      configure_fit: strategy sampled 4 clients (out of 4)\n"
     ]
    },
    {
     "name": "stdout",
     "output_type": "stream",
     "text": [
      "Server-side evaluation loss 0.0338094900636112 / accuracy 76.29063415527344\n",
      "\u001b[2m\u001b[36m(ClientAppActor pid=2226288)\u001b[0m \u001b[32m [repeated 632x across cluster]\u001b[0m\n",
      "\u001b[2m\u001b[36m(ClientAppActor pid=2226288)\u001b[0m Epoch 39/100\u001b[32m [repeated 632x across cluster]\u001b[0m\n",
      "\u001b[2m\u001b[36m(ClientAppActor pid=2226288)\u001b[0m Epoch 38: Training accuracy: 81.159423828125 Testing accuracy: 79.19075012207031.\u001b[32m [repeated 632x across cluster]\u001b[0m\n"
     ]
    },
    {
     "name": "stderr",
     "output_type": "stream",
     "text": [
      "\u001b[92mINFO \u001b[0m:      aggregate_fit: received 4 results and 0 failures\n",
      "\u001b[92mINFO \u001b[0m:      fit progress: (61, 0.03392523176529828, {'accuracy': tensor(76.2906, device='cuda:0')}, 199.85822033300065)\n",
      "\u001b[92mINFO \u001b[0m:      configure_evaluate: strategy sampled 2 clients (out of 4)\n",
      "\u001b[92mINFO \u001b[0m:      aggregate_evaluate: received 2 results and 0 failures\n",
      "\u001b[92mINFO \u001b[0m:      \n",
      "\u001b[92mINFO \u001b[0m:      [ROUND 62]\n",
      "\u001b[92mINFO \u001b[0m:      configure_fit: strategy sampled 4 clients (out of 4)\n"
     ]
    },
    {
     "name": "stdout",
     "output_type": "stream",
     "text": [
      "Server-side evaluation loss 0.03392523176529828 / accuracy 76.29063415527344\n"
     ]
    },
    {
     "name": "stderr",
     "output_type": "stream",
     "text": [
      "\u001b[92mINFO \u001b[0m:      aggregate_fit: received 4 results and 0 failures\n",
      "\u001b[92mINFO \u001b[0m:      fit progress: (62, 0.03395904863581938, {'accuracy': tensor(75.7170, device='cuda:0')}, 203.29163342202082)\n",
      "\u001b[92mINFO \u001b[0m:      configure_evaluate: strategy sampled 2 clients (out of 4)\n",
      "\u001b[92mINFO \u001b[0m:      aggregate_evaluate: received 2 results and 0 failures\n",
      "\u001b[92mINFO \u001b[0m:      \n",
      "\u001b[92mINFO \u001b[0m:      [ROUND 63]\n",
      "\u001b[92mINFO \u001b[0m:      configure_fit: strategy sampled 4 clients (out of 4)\n"
     ]
    },
    {
     "name": "stdout",
     "output_type": "stream",
     "text": [
      "Server-side evaluation loss 0.03395904863581938 / accuracy 75.7170181274414\n",
      "\u001b[2m\u001b[36m(ClientAppActor pid=2226288)\u001b[0m \u001b[32m [repeated 579x across cluster]\u001b[0m\n",
      "\u001b[2m\u001b[36m(ClientAppActor pid=2226288)\u001b[0m Epoch 33/100\u001b[32m [repeated 579x across cluster]\u001b[0m\n",
      "\u001b[2m\u001b[36m(ClientAppActor pid=2226288)\u001b[0m Epoch 32: Training accuracy: 82.31884002685547 Testing accuracy: 79.76878356933594.\u001b[32m [repeated 579x across cluster]\u001b[0m\n"
     ]
    },
    {
     "name": "stderr",
     "output_type": "stream",
     "text": [
      "\u001b[92mINFO \u001b[0m:      aggregate_fit: received 4 results and 0 failures\n",
      "\u001b[92mINFO \u001b[0m:      fit progress: (63, 0.033880942008074594, {'accuracy': tensor(75.9082, device='cuda:0')}, 206.5009110670071)\n",
      "\u001b[92mINFO \u001b[0m:      configure_evaluate: strategy sampled 2 clients (out of 4)\n",
      "\u001b[92mINFO \u001b[0m:      aggregate_evaluate: received 2 results and 0 failures\n",
      "\u001b[92mINFO \u001b[0m:      \n",
      "\u001b[92mINFO \u001b[0m:      [ROUND 64]\n",
      "\u001b[92mINFO \u001b[0m:      configure_fit: strategy sampled 4 clients (out of 4)\n"
     ]
    },
    {
     "name": "stdout",
     "output_type": "stream",
     "text": [
      "Server-side evaluation loss 0.033880942008074594 / accuracy 75.90821838378906\n",
      "\u001b[2m\u001b[36m(ClientAppActor pid=2226288)\u001b[0m \u001b[32m [repeated 662x across cluster]\u001b[0m\n",
      "\u001b[2m\u001b[36m(ClientAppActor pid=2226288)\u001b[0m Epoch 56/100\u001b[32m [repeated 662x across cluster]\u001b[0m\n",
      "\u001b[2m\u001b[36m(ClientAppActor pid=2226288)\u001b[0m Epoch 55: Training accuracy: 83.8862533569336 Testing accuracy: 76.88679504394531.\u001b[32m [repeated 662x across cluster]\u001b[0m\n"
     ]
    },
    {
     "name": "stderr",
     "output_type": "stream",
     "text": [
      "\u001b[92mINFO \u001b[0m:      aggregate_fit: received 4 results and 0 failures\n",
      "\u001b[92mINFO \u001b[0m:      fit progress: (64, 0.03509032025056727, {'accuracy': tensor(74.2830, device='cuda:0')}, 209.82584066409618)\n",
      "\u001b[92mINFO \u001b[0m:      configure_evaluate: strategy sampled 2 clients (out of 4)\n",
      "\u001b[92mINFO \u001b[0m:      aggregate_evaluate: received 2 results and 0 failures\n",
      "\u001b[92mINFO \u001b[0m:      \n",
      "\u001b[92mINFO \u001b[0m:      [ROUND 65]\n",
      "\u001b[92mINFO \u001b[0m:      configure_fit: strategy sampled 4 clients (out of 4)\n"
     ]
    },
    {
     "name": "stdout",
     "output_type": "stream",
     "text": [
      "Server-side evaluation loss 0.03509032025056727 / accuracy 74.2829818725586\n"
     ]
    },
    {
     "name": "stderr",
     "output_type": "stream",
     "text": [
      "\u001b[92mINFO \u001b[0m:      aggregate_fit: received 4 results and 0 failures\n",
      "\u001b[92mINFO \u001b[0m:      fit progress: (65, 0.034256013000712675, {'accuracy': tensor(74.9522, device='cuda:0')}, 213.1425354030216)\n",
      "\u001b[92mINFO \u001b[0m:      configure_evaluate: strategy sampled 2 clients (out of 4)\n",
      "\u001b[92mINFO \u001b[0m:      aggregate_evaluate: received 2 results and 0 failures\n",
      "\u001b[92mINFO \u001b[0m:      \n",
      "\u001b[92mINFO \u001b[0m:      [ROUND 66]\n",
      "\u001b[92mINFO \u001b[0m:      configure_fit: strategy sampled 4 clients (out of 4)\n"
     ]
    },
    {
     "name": "stdout",
     "output_type": "stream",
     "text": [
      "Server-side evaluation loss 0.034256013000712675 / accuracy 74.95220184326172\n",
      "\u001b[2m\u001b[36m(ClientAppActor pid=2226288)\u001b[0m \u001b[32m [repeated 591x across cluster]\u001b[0m\n",
      "\u001b[2m\u001b[36m(ClientAppActor pid=2226288)\u001b[0m Epoch 56/100\u001b[32m [repeated 591x across cluster]\u001b[0m\n",
      "\u001b[2m\u001b[36m(ClientAppActor pid=2226288)\u001b[0m Epoch 55: Training accuracy: 82.52569580078125 Testing accuracy: 78.9473648071289.\u001b[32m [repeated 591x across cluster]\u001b[0m\n"
     ]
    },
    {
     "name": "stderr",
     "output_type": "stream",
     "text": [
      "\u001b[92mINFO \u001b[0m:      aggregate_fit: received 4 results and 0 failures\n",
      "\u001b[92mINFO \u001b[0m:      fit progress: (66, 0.03369299103231991, {'accuracy': tensor(76.2906, device='cuda:0')}, 216.43317860807292)\n",
      "\u001b[92mINFO \u001b[0m:      configure_evaluate: strategy sampled 2 clients (out of 4)\n",
      "\u001b[92mINFO \u001b[0m:      aggregate_evaluate: received 2 results and 0 failures\n",
      "\u001b[92mINFO \u001b[0m:      \n",
      "\u001b[92mINFO \u001b[0m:      [ROUND 67]\n",
      "\u001b[92mINFO \u001b[0m:      configure_fit: strategy sampled 4 clients (out of 4)\n"
     ]
    },
    {
     "name": "stdout",
     "output_type": "stream",
     "text": [
      "Server-side evaluation loss 0.03369299103231991 / accuracy 76.29063415527344\n",
      "\u001b[2m\u001b[36m(ClientAppActor pid=2226288)\u001b[0m \u001b[32m [repeated 641x across cluster]\u001b[0m\n",
      "\u001b[2m\u001b[36m(ClientAppActor pid=2226288)\u001b[0m Epoch 69/100\u001b[32m [repeated 641x across cluster]\u001b[0m\n",
      "\u001b[2m\u001b[36m(ClientAppActor pid=2226288)\u001b[0m Epoch 68: Training accuracy: 83.53080749511719 Testing accuracy: 77.35848999023438.\u001b[32m [repeated 641x across cluster]\u001b[0m\n"
     ]
    },
    {
     "name": "stderr",
     "output_type": "stream",
     "text": [
      "\u001b[92mINFO \u001b[0m:      aggregate_fit: received 4 results and 0 failures\n",
      "\u001b[92mINFO \u001b[0m:      fit progress: (67, 0.03407717452329748, {'accuracy': tensor(75.7170, device='cuda:0')}, 219.6931375580607)\n",
      "\u001b[92mINFO \u001b[0m:      configure_evaluate: strategy sampled 2 clients (out of 4)\n",
      "\u001b[92mINFO \u001b[0m:      aggregate_evaluate: received 2 results and 0 failures\n",
      "\u001b[92mINFO \u001b[0m:      \n",
      "\u001b[92mINFO \u001b[0m:      [ROUND 68]\n",
      "\u001b[92mINFO \u001b[0m:      configure_fit: strategy sampled 4 clients (out of 4)\n"
     ]
    },
    {
     "name": "stdout",
     "output_type": "stream",
     "text": [
      "Server-side evaluation loss 0.03407717452329748 / accuracy 75.7170181274414\n"
     ]
    },
    {
     "name": "stderr",
     "output_type": "stream",
     "text": [
      "\u001b[92mINFO \u001b[0m:      aggregate_fit: received 4 results and 0 failures\n",
      "\u001b[92mINFO \u001b[0m:      fit progress: (68, 0.03357723179985495, {'accuracy': tensor(76.2906, device='cuda:0')}, 223.1562618900789)\n",
      "\u001b[92mINFO \u001b[0m:      configure_evaluate: strategy sampled 2 clients (out of 4)\n",
      "\u001b[92mINFO \u001b[0m:      aggregate_evaluate: received 2 results and 0 failures\n",
      "\u001b[92mINFO \u001b[0m:      \n",
      "\u001b[92mINFO \u001b[0m:      [ROUND 69]\n",
      "\u001b[92mINFO \u001b[0m:      configure_fit: strategy sampled 4 clients (out of 4)\n"
     ]
    },
    {
     "name": "stdout",
     "output_type": "stream",
     "text": [
      "Server-side evaluation loss 0.03357723179985495 / accuracy 76.29063415527344\n",
      "\u001b[2m\u001b[36m(ClientAppActor pid=2226288)\u001b[0m \u001b[32m [repeated 592x across cluster]\u001b[0m\n",
      "\u001b[2m\u001b[36m(ClientAppActor pid=2226288)\u001b[0m Epoch 75/100\u001b[32m [repeated 592x across cluster]\u001b[0m\n",
      "\u001b[2m\u001b[36m(ClientAppActor pid=2226288)\u001b[0m Epoch 74: Training accuracy: 84.92935943603516 Testing accuracy: 76.875.\u001b[32m [repeated 592x across cluster]\u001b[0m\n"
     ]
    },
    {
     "name": "stderr",
     "output_type": "stream",
     "text": [
      "\u001b[92mINFO \u001b[0m:      aggregate_fit: received 4 results and 0 failures\n",
      "\u001b[92mINFO \u001b[0m:      fit progress: (69, 0.03355507990893196, {'accuracy': tensor(76.2906, device='cuda:0')}, 226.51972907804884)\n",
      "\u001b[92mINFO \u001b[0m:      configure_evaluate: strategy sampled 2 clients (out of 4)\n",
      "\u001b[92mINFO \u001b[0m:      aggregate_evaluate: received 2 results and 0 failures\n",
      "\u001b[92mINFO \u001b[0m:      \n",
      "\u001b[92mINFO \u001b[0m:      [ROUND 70]\n",
      "\u001b[92mINFO \u001b[0m:      configure_fit: strategy sampled 4 clients (out of 4)\n"
     ]
    },
    {
     "name": "stdout",
     "output_type": "stream",
     "text": [
      "Server-side evaluation loss 0.03355507990893196 / accuracy 76.29063415527344\n",
      "\u001b[2m\u001b[36m(ClientAppActor pid=2226288)\u001b[0m \u001b[32m [repeated 594x across cluster]\u001b[0m\n",
      "\u001b[2m\u001b[36m(ClientAppActor pid=2226288)\u001b[0m Epoch 54/100\u001b[32m [repeated 594x across cluster]\u001b[0m\n",
      "\u001b[2m\u001b[36m(ClientAppActor pid=2226288)\u001b[0m Epoch 53: Training accuracy: 82.37885284423828 Testing accuracy: 76.60818481445312.\u001b[32m [repeated 594x across cluster]\u001b[0m\n"
     ]
    },
    {
     "name": "stderr",
     "output_type": "stream",
     "text": [
      "\u001b[92mINFO \u001b[0m:      aggregate_fit: received 4 results and 0 failures\n",
      "\u001b[92mINFO \u001b[0m:      fit progress: (70, 0.03362006299635943, {'accuracy': tensor(76.2906, device='cuda:0')}, 229.89605470898096)\n",
      "\u001b[92mINFO \u001b[0m:      configure_evaluate: strategy sampled 2 clients (out of 4)\n",
      "\u001b[92mINFO \u001b[0m:      aggregate_evaluate: received 2 results and 0 failures\n",
      "\u001b[92mINFO \u001b[0m:      \n",
      "\u001b[92mINFO \u001b[0m:      [ROUND 71]\n",
      "\u001b[92mINFO \u001b[0m:      configure_fit: strategy sampled 4 clients (out of 4)\n"
     ]
    },
    {
     "name": "stdout",
     "output_type": "stream",
     "text": [
      "Server-side evaluation loss 0.03362006299635943 / accuracy 76.29063415527344\n"
     ]
    },
    {
     "name": "stderr",
     "output_type": "stream",
     "text": [
      "\u001b[92mINFO \u001b[0m:      aggregate_fit: received 4 results and 0 failures\n",
      "\u001b[92mINFO \u001b[0m:      fit progress: (71, 0.033925943514880014, {'accuracy': tensor(76.4818, device='cuda:0')}, 233.21859604201745)\n",
      "\u001b[92mINFO \u001b[0m:      configure_evaluate: strategy sampled 2 clients (out of 4)\n",
      "\u001b[92mINFO \u001b[0m:      aggregate_evaluate: received 2 results and 0 failures\n",
      "\u001b[92mINFO \u001b[0m:      \n",
      "\u001b[92mINFO \u001b[0m:      [ROUND 72]\n",
      "\u001b[92mINFO \u001b[0m:      configure_fit: strategy sampled 4 clients (out of 4)\n"
     ]
    },
    {
     "name": "stdout",
     "output_type": "stream",
     "text": [
      "Server-side evaluation loss 0.033925943514880014 / accuracy 76.4818344116211\n",
      "\u001b[2m\u001b[36m(ClientAppActor pid=2226288)\u001b[0m \u001b[32m [repeated 613x across cluster]\u001b[0m\n",
      "\u001b[2m\u001b[36m(ClientAppActor pid=2226288)\u001b[0m Epoch 79/100\u001b[32m [repeated 613x across cluster]\u001b[0m\n",
      "\u001b[2m\u001b[36m(ClientAppActor pid=2226288)\u001b[0m Epoch 78: Training accuracy: 84.77236938476562 Testing accuracy: 76.875.\u001b[32m [repeated 613x across cluster]\u001b[0m\n"
     ]
    },
    {
     "name": "stderr",
     "output_type": "stream",
     "text": [
      "\u001b[92mINFO \u001b[0m:      aggregate_fit: received 4 results and 0 failures\n",
      "\u001b[92mINFO \u001b[0m:      fit progress: (72, 0.033888252342448515, {'accuracy': tensor(76.5774, device='cuda:0')}, 236.4567412530305)\n",
      "\u001b[92mINFO \u001b[0m:      configure_evaluate: strategy sampled 2 clients (out of 4)\n",
      "\u001b[92mINFO \u001b[0m:      aggregate_evaluate: received 2 results and 0 failures\n",
      "\u001b[92mINFO \u001b[0m:      \n",
      "\u001b[92mINFO \u001b[0m:      [ROUND 73]\n",
      "\u001b[92mINFO \u001b[0m:      configure_fit: strategy sampled 4 clients (out of 4)\n"
     ]
    },
    {
     "name": "stdout",
     "output_type": "stream",
     "text": [
      "Server-side evaluation loss 0.033888252342448515 / accuracy 76.57743835449219\n",
      "\u001b[2m\u001b[36m(ClientAppActor pid=2226288)\u001b[0m \u001b[32m [repeated 616x across cluster]\u001b[0m\n",
      "\u001b[2m\u001b[36m(ClientAppActor pid=2226288)\u001b[0m Epoch 92/100\u001b[32m [repeated 616x across cluster]\u001b[0m\n",
      "\u001b[2m\u001b[36m(ClientAppActor pid=2226288)\u001b[0m Epoch 91: Training accuracy: 84.92935943603516 Testing accuracy: 75.625.\u001b[32m [repeated 616x across cluster]\u001b[0m\n"
     ]
    },
    {
     "name": "stderr",
     "output_type": "stream",
     "text": [
      "\u001b[92mINFO \u001b[0m:      aggregate_fit: received 4 results and 0 failures\n",
      "\u001b[92mINFO \u001b[0m:      fit progress: (73, 0.03379344940185547, {'accuracy': tensor(76.3862, device='cuda:0')}, 239.8232544750208)\n",
      "\u001b[92mINFO \u001b[0m:      configure_evaluate: strategy sampled 2 clients (out of 4)\n",
      "\u001b[92mINFO \u001b[0m:      aggregate_evaluate: received 2 results and 0 failures\n",
      "\u001b[92mINFO \u001b[0m:      \n",
      "\u001b[92mINFO \u001b[0m:      [ROUND 74]\n",
      "\u001b[92mINFO \u001b[0m:      configure_fit: strategy sampled 4 clients (out of 4)\n"
     ]
    },
    {
     "name": "stdout",
     "output_type": "stream",
     "text": [
      "Server-side evaluation loss 0.03379344940185547 / accuracy 76.38623046875\n"
     ]
    },
    {
     "name": "stderr",
     "output_type": "stream",
     "text": [
      "\u001b[92mINFO \u001b[0m:      aggregate_fit: received 4 results and 0 failures\n",
      "\u001b[92mINFO \u001b[0m:      fit progress: (74, 0.03405178995693431, {'accuracy': tensor(76.3862, device='cuda:0')}, 243.26879825198557)\n",
      "\u001b[92mINFO \u001b[0m:      configure_evaluate: strategy sampled 2 clients (out of 4)\n",
      "\u001b[92mINFO \u001b[0m:      aggregate_evaluate: received 2 results and 0 failures\n",
      "\u001b[92mINFO \u001b[0m:      \n",
      "\u001b[92mINFO \u001b[0m:      [ROUND 75]\n",
      "\u001b[92mINFO \u001b[0m:      configure_fit: strategy sampled 4 clients (out of 4)\n"
     ]
    },
    {
     "name": "stdout",
     "output_type": "stream",
     "text": [
      "Server-side evaluation loss 0.03405178995693431 / accuracy 76.38623046875\n",
      "\u001b[2m\u001b[36m(ClientAppActor pid=2226288)\u001b[0m \u001b[32m [repeated 580x across cluster]\u001b[0m\n",
      "\u001b[2m\u001b[36m(ClientAppActor pid=2226288)\u001b[0m Epoch 74/100\u001b[32m [repeated 580x across cluster]\u001b[0m\n",
      "\u001b[2m\u001b[36m(ClientAppActor pid=2226288)\u001b[0m Epoch 73: Training accuracy: 82.31884002685547 Testing accuracy: 77.45664978027344.\u001b[32m [repeated 580x across cluster]\u001b[0m\n"
     ]
    },
    {
     "name": "stderr",
     "output_type": "stream",
     "text": [
      "\u001b[92mINFO \u001b[0m:      aggregate_fit: received 4 results and 0 failures\n",
      "\u001b[92mINFO \u001b[0m:      fit progress: (75, 0.03338521017747767, {'accuracy': tensor(76.6730, device='cuda:0')}, 246.66859000199474)\n",
      "\u001b[92mINFO \u001b[0m:      configure_evaluate: strategy sampled 2 clients (out of 4)\n",
      "\u001b[92mINFO \u001b[0m:      aggregate_evaluate: received 2 results and 0 failures\n",
      "\u001b[92mINFO \u001b[0m:      \n",
      "\u001b[92mINFO \u001b[0m:      [ROUND 76]\n",
      "\u001b[92mINFO \u001b[0m:      configure_fit: strategy sampled 4 clients (out of 4)\n"
     ]
    },
    {
     "name": "stdout",
     "output_type": "stream",
     "text": [
      "Server-side evaluation loss 0.03338521017747767 / accuracy 76.67304229736328\n",
      "\u001b[2m\u001b[36m(ClientAppActor pid=2226288)\u001b[0m \u001b[32m [repeated 622x across cluster]\u001b[0m\n",
      "\u001b[2m\u001b[36m(ClientAppActor pid=2226288)\u001b[0m Epoch 93/100\u001b[32m [repeated 622x across cluster]\u001b[0m\n",
      "\u001b[2m\u001b[36m(ClientAppActor pid=2226288)\u001b[0m Epoch 92: Training accuracy: 85.24333190917969 Testing accuracy: 77.5.\u001b[32m [repeated 622x across cluster]\u001b[0m\n"
     ]
    },
    {
     "name": "stderr",
     "output_type": "stream",
     "text": [
      "\u001b[92mINFO \u001b[0m:      aggregate_fit: received 4 results and 0 failures\n",
      "\u001b[92mINFO \u001b[0m:      fit progress: (76, 0.03434689605937285, {'accuracy': tensor(75.6214, device='cuda:0')}, 249.98358623299282)\n",
      "\u001b[92mINFO \u001b[0m:      configure_evaluate: strategy sampled 2 clients (out of 4)\n",
      "\u001b[92mINFO \u001b[0m:      aggregate_evaluate: received 2 results and 0 failures\n",
      "\u001b[92mINFO \u001b[0m:      \n",
      "\u001b[92mINFO \u001b[0m:      [ROUND 77]\n",
      "\u001b[92mINFO \u001b[0m:      configure_fit: strategy sampled 4 clients (out of 4)\n"
     ]
    },
    {
     "name": "stdout",
     "output_type": "stream",
     "text": [
      "Server-side evaluation loss 0.03434689605937285 / accuracy 75.62141418457031\n"
     ]
    },
    {
     "name": "stderr",
     "output_type": "stream",
     "text": [
      "\u001b[92mINFO \u001b[0m:      aggregate_fit: received 4 results and 0 failures\n",
      "\u001b[92mINFO \u001b[0m:      fit progress: (77, 0.03363662256914027, {'accuracy': tensor(76.3862, device='cuda:0')}, 253.41683537408244)\n",
      "\u001b[92mINFO \u001b[0m:      configure_evaluate: strategy sampled 2 clients (out of 4)\n",
      "\u001b[92mINFO \u001b[0m:      aggregate_evaluate: received 2 results and 0 failures\n",
      "\u001b[92mINFO \u001b[0m:      \n",
      "\u001b[92mINFO \u001b[0m:      [ROUND 78]\n",
      "\u001b[92mINFO \u001b[0m:      configure_fit: strategy sampled 4 clients (out of 4)\n"
     ]
    },
    {
     "name": "stdout",
     "output_type": "stream",
     "text": [
      "Server-side evaluation loss 0.03363662256914027 / accuracy 76.38623046875\n",
      "\u001b[2m\u001b[36m(ClientAppActor pid=2226288)\u001b[0m \u001b[32m [repeated 593x across cluster]\u001b[0m\n",
      "\u001b[2m\u001b[36m(ClientAppActor pid=2226288)\u001b[0m Epoch 78/100\u001b[32m [repeated 593x across cluster]\u001b[0m\n",
      "\u001b[2m\u001b[36m(ClientAppActor pid=2226288)\u001b[0m Epoch 77: Training accuracy: 83.55359649658203 Testing accuracy: 78.9473648071289.\u001b[32m [repeated 593x across cluster]\u001b[0m\n"
     ]
    },
    {
     "name": "stderr",
     "output_type": "stream",
     "text": [
      "\u001b[92mINFO \u001b[0m:      aggregate_fit: received 4 results and 0 failures\n",
      "\u001b[92mINFO \u001b[0m:      fit progress: (78, 0.033697215949787813, {'accuracy': tensor(76.4818, device='cuda:0')}, 256.65921060403343)\n",
      "\u001b[92mINFO \u001b[0m:      configure_evaluate: strategy sampled 2 clients (out of 4)\n",
      "\u001b[92mINFO \u001b[0m:      aggregate_evaluate: received 2 results and 0 failures\n",
      "\u001b[92mINFO \u001b[0m:      \n",
      "\u001b[92mINFO \u001b[0m:      [ROUND 79]\n",
      "\u001b[92mINFO \u001b[0m:      configure_fit: strategy sampled 4 clients (out of 4)\n"
     ]
    },
    {
     "name": "stdout",
     "output_type": "stream",
     "text": [
      "Server-side evaluation loss 0.033697215949787813 / accuracy 76.4818344116211\n",
      "\u001b[2m\u001b[36m(ClientAppActor pid=2226287)\u001b[0m \u001b[32m [repeated 624x across cluster]\u001b[0m\n",
      "\u001b[2m\u001b[36m(ClientAppActor pid=2226287)\u001b[0m Epoch 82/100\u001b[32m [repeated 624x across cluster]\u001b[0m\n",
      "\u001b[2m\u001b[36m(ClientAppActor pid=2226287)\u001b[0m Epoch 81: Training accuracy: 83.11306762695312 Testing accuracy: 77.19298553466797.\u001b[32m [repeated 625x across cluster]\u001b[0m\n"
     ]
    },
    {
     "name": "stderr",
     "output_type": "stream",
     "text": [
      "\u001b[92mINFO \u001b[0m:      aggregate_fit: received 4 results and 0 failures\n",
      "\u001b[92mINFO \u001b[0m:      fit progress: (79, 0.03394440342398251, {'accuracy': tensor(76.3862, device='cuda:0')}, 260.02775520598516)\n",
      "\u001b[92mINFO \u001b[0m:      configure_evaluate: strategy sampled 2 clients (out of 4)\n",
      "\u001b[92mINFO \u001b[0m:      aggregate_evaluate: received 2 results and 0 failures\n",
      "\u001b[92mINFO \u001b[0m:      \n",
      "\u001b[92mINFO \u001b[0m:      [ROUND 80]\n",
      "\u001b[92mINFO \u001b[0m:      configure_fit: strategy sampled 4 clients (out of 4)\n"
     ]
    },
    {
     "name": "stdout",
     "output_type": "stream",
     "text": [
      "Server-side evaluation loss 0.03394440342398251 / accuracy 76.38623046875\n"
     ]
    },
    {
     "name": "stderr",
     "output_type": "stream",
     "text": [
      "\u001b[92mINFO \u001b[0m:      aggregate_fit: received 4 results and 0 failures\n",
      "\u001b[92mINFO \u001b[0m:      fit progress: (80, 0.033531083780176496, {'accuracy': tensor(76.3862, device='cuda:0')}, 263.47045817098115)\n",
      "\u001b[92mINFO \u001b[0m:      configure_evaluate: strategy sampled 2 clients (out of 4)\n",
      "\u001b[92mINFO \u001b[0m:      aggregate_evaluate: received 2 results and 0 failures\n",
      "\u001b[92mINFO \u001b[0m:      \n",
      "\u001b[92mINFO \u001b[0m:      [ROUND 81]\n",
      "\u001b[92mINFO \u001b[0m:      configure_fit: strategy sampled 4 clients (out of 4)\n"
     ]
    },
    {
     "name": "stdout",
     "output_type": "stream",
     "text": [
      "Server-side evaluation loss 0.033531083780176496 / accuracy 76.38623046875\n",
      "\u001b[2m\u001b[36m(ClientAppActor pid=2226288)\u001b[0m \u001b[32m [repeated 586x across cluster]\u001b[0m\n",
      "\u001b[2m\u001b[36m(ClientAppActor pid=2226288)\u001b[0m Epoch 85/100\u001b[32m [repeated 586x across cluster]\u001b[0m\n",
      "\u001b[2m\u001b[36m(ClientAppActor pid=2226288)\u001b[0m Epoch 84: Training accuracy: 81.49779510498047 Testing accuracy: 76.60818481445312.\u001b[32m [repeated 585x across cluster]\u001b[0m\n"
     ]
    },
    {
     "name": "stderr",
     "output_type": "stream",
     "text": [
      "\u001b[92mINFO \u001b[0m:      aggregate_fit: received 4 results and 0 failures\n",
      "\u001b[92mINFO \u001b[0m:      fit progress: (81, 0.03362132170621086, {'accuracy': tensor(76.8642, device='cuda:0')}, 266.81065369502176)\n",
      "\u001b[92mINFO \u001b[0m:      configure_evaluate: strategy sampled 2 clients (out of 4)\n",
      "\u001b[92mINFO \u001b[0m:      aggregate_evaluate: received 2 results and 0 failures\n",
      "\u001b[92mINFO \u001b[0m:      \n",
      "\u001b[92mINFO \u001b[0m:      [ROUND 82]\n",
      "\u001b[92mINFO \u001b[0m:      configure_fit: strategy sampled 4 clients (out of 4)\n"
     ]
    },
    {
     "name": "stdout",
     "output_type": "stream",
     "text": [
      "Server-side evaluation loss 0.03362132170621086 / accuracy 76.86424255371094\n",
      "\u001b[2m\u001b[36m(ClientAppActor pid=2226287)\u001b[0m \u001b[32m [repeated 620x across cluster]\u001b[0m\n",
      "\u001b[2m\u001b[36m(ClientAppActor pid=2226287)\u001b[0m Epoch 88/100\u001b[32m [repeated 620x across cluster]\u001b[0m\n",
      "\u001b[2m\u001b[36m(ClientAppActor pid=2226287)\u001b[0m Epoch 87: Training accuracy: 82.96622467041016 Testing accuracy: 77.77777862548828.\u001b[32m [repeated 621x across cluster]\u001b[0m\n"
     ]
    },
    {
     "name": "stderr",
     "output_type": "stream",
     "text": [
      "\u001b[92mINFO \u001b[0m:      aggregate_fit: received 4 results and 0 failures\n",
      "\u001b[92mINFO \u001b[0m:      fit progress: (82, 0.03430771827697754, {'accuracy': tensor(76.0038, device='cuda:0')}, 270.14618647203315)\n",
      "\u001b[92mINFO \u001b[0m:      configure_evaluate: strategy sampled 2 clients (out of 4)\n",
      "\u001b[92mINFO \u001b[0m:      aggregate_evaluate: received 2 results and 0 failures\n",
      "\u001b[92mINFO \u001b[0m:      \n",
      "\u001b[92mINFO \u001b[0m:      [ROUND 83]\n",
      "\u001b[92mINFO \u001b[0m:      configure_fit: strategy sampled 4 clients (out of 4)\n"
     ]
    },
    {
     "name": "stdout",
     "output_type": "stream",
     "text": [
      "Server-side evaluation loss 0.03430771827697754 / accuracy 76.00382232666016\n"
     ]
    },
    {
     "name": "stderr",
     "output_type": "stream",
     "text": [
      "\u001b[92mINFO \u001b[0m:      aggregate_fit: received 4 results and 0 failures\n",
      "\u001b[92mINFO \u001b[0m:      fit progress: (83, 0.03462876642451567, {'accuracy': tensor(75.6214, device='cuda:0')}, 273.4062437780667)\n",
      "\u001b[92mINFO \u001b[0m:      configure_evaluate: strategy sampled 2 clients (out of 4)\n",
      "\u001b[92mINFO \u001b[0m:      aggregate_evaluate: received 2 results and 0 failures\n",
      "\u001b[92mINFO \u001b[0m:      \n",
      "\u001b[92mINFO \u001b[0m:      [ROUND 84]\n",
      "\u001b[92mINFO \u001b[0m:      configure_fit: strategy sampled 4 clients (out of 4)\n"
     ]
    },
    {
     "name": "stdout",
     "output_type": "stream",
     "text": [
      "Server-side evaluation loss 0.03462876642451567 / accuracy 75.62141418457031\n",
      "\u001b[2m\u001b[36m(ClientAppActor pid=2226288)\u001b[0m \u001b[32m [repeated 583x across cluster]\u001b[0m\n",
      "\u001b[2m\u001b[36m(ClientAppActor pid=2226288)\u001b[0m Epoch 97/100\u001b[32m [repeated 583x across cluster]\u001b[0m\n",
      "\u001b[2m\u001b[36m(ClientAppActor pid=2226288)\u001b[0m Epoch 96: Training accuracy: 83.700439453125 Testing accuracy: 80.70175170898438.\u001b[32m [repeated 582x across cluster]\u001b[0m\n"
     ]
    },
    {
     "name": "stderr",
     "output_type": "stream",
     "text": [
      "\u001b[92mINFO \u001b[0m:      aggregate_fit: received 4 results and 0 failures\n",
      "\u001b[92mINFO \u001b[0m:      fit progress: (84, 0.03454926084069645, {'accuracy': tensor(75.7170, device='cuda:0')}, 276.7875100610545)\n",
      "\u001b[92mINFO \u001b[0m:      configure_evaluate: strategy sampled 2 clients (out of 4)\n",
      "\u001b[92mINFO \u001b[0m:      aggregate_evaluate: received 2 results and 0 failures\n",
      "\u001b[92mINFO \u001b[0m:      \n",
      "\u001b[92mINFO \u001b[0m:      [ROUND 85]\n",
      "\u001b[92mINFO \u001b[0m:      configure_fit: strategy sampled 4 clients (out of 4)\n"
     ]
    },
    {
     "name": "stdout",
     "output_type": "stream",
     "text": [
      "Server-side evaluation loss 0.03454926084069645 / accuracy 75.7170181274414\n",
      "\u001b[2m\u001b[36m(ClientAppActor pid=2226287)\u001b[0m \u001b[32m [repeated 624x across cluster]\u001b[0m\n",
      "\u001b[2m\u001b[36m(ClientAppActor pid=2226287)\u001b[0m Epoch 95/100\u001b[32m [repeated 624x across cluster]\u001b[0m\n",
      "\u001b[2m\u001b[36m(ClientAppActor pid=2226287)\u001b[0m Epoch 94: Training accuracy: 82.96622467041016 Testing accuracy: 77.77777862548828.\u001b[32m [repeated 625x across cluster]\u001b[0m\n"
     ]
    },
    {
     "name": "stderr",
     "output_type": "stream",
     "text": [
      "\u001b[92mINFO \u001b[0m:      aggregate_fit: received 4 results and 0 failures\n",
      "\u001b[92mINFO \u001b[0m:      fit progress: (85, 0.03354921060449937, {'accuracy': tensor(76.5774, device='cuda:0')}, 280.143225972075)\n",
      "\u001b[92mINFO \u001b[0m:      configure_evaluate: strategy sampled 2 clients (out of 4)\n",
      "\u001b[92mINFO \u001b[0m:      aggregate_evaluate: received 2 results and 0 failures\n",
      "\u001b[92mINFO \u001b[0m:      \n",
      "\u001b[92mINFO \u001b[0m:      [ROUND 86]\n",
      "\u001b[92mINFO \u001b[0m:      configure_fit: strategy sampled 4 clients (out of 4)\n"
     ]
    },
    {
     "name": "stdout",
     "output_type": "stream",
     "text": [
      "Server-side evaluation loss 0.03354921060449937 / accuracy 76.57743835449219\n"
     ]
    },
    {
     "name": "stderr",
     "output_type": "stream",
     "text": [
      "\u001b[92mINFO \u001b[0m:      aggregate_fit: received 4 results and 0 failures\n",
      "\u001b[92mINFO \u001b[0m:      fit progress: (86, 0.0342066252932829, {'accuracy': tensor(76.3862, device='cuda:0')}, 283.59716528409626)\n",
      "\u001b[92mINFO \u001b[0m:      configure_evaluate: strategy sampled 2 clients (out of 4)\n",
      "\u001b[92mINFO \u001b[0m:      aggregate_evaluate: received 2 results and 0 failures\n",
      "\u001b[92mINFO \u001b[0m:      \n",
      "\u001b[92mINFO \u001b[0m:      [ROUND 87]\n",
      "\u001b[92mINFO \u001b[0m:      configure_fit: strategy sampled 4 clients (out of 4)\n"
     ]
    },
    {
     "name": "stdout",
     "output_type": "stream",
     "text": [
      "Server-side evaluation loss 0.0342066252932829 / accuracy 76.38623046875\n",
      "\u001b[2m\u001b[36m(ClientAppActor pid=2226288)\u001b[0m \u001b[32m [repeated 596x across cluster]\u001b[0m\n",
      "\u001b[2m\u001b[36m(ClientAppActor pid=2226288)\u001b[0m Epoch 98/100\u001b[32m [repeated 596x across cluster]\u001b[0m\n",
      "\u001b[2m\u001b[36m(ClientAppActor pid=2226288)\u001b[0m Epoch 97: Training accuracy: 84.1409683227539 Testing accuracy: 80.70175170898438.\u001b[32m [repeated 595x across cluster]\u001b[0m\n"
     ]
    },
    {
     "name": "stderr",
     "output_type": "stream",
     "text": [
      "\u001b[92mINFO \u001b[0m:      aggregate_fit: received 4 results and 0 failures\n",
      "\u001b[92mINFO \u001b[0m:      fit progress: (87, 0.03462346161113066, {'accuracy': tensor(76.0038, device='cuda:0')}, 287.06778275908437)\n",
      "\u001b[92mINFO \u001b[0m:      configure_evaluate: strategy sampled 2 clients (out of 4)\n",
      "\u001b[92mINFO \u001b[0m:      aggregate_evaluate: received 2 results and 0 failures\n",
      "\u001b[92mINFO \u001b[0m:      \n",
      "\u001b[92mINFO \u001b[0m:      [ROUND 88]\n",
      "\u001b[92mINFO \u001b[0m:      configure_fit: strategy sampled 4 clients (out of 4)\n"
     ]
    },
    {
     "name": "stdout",
     "output_type": "stream",
     "text": [
      "Server-side evaluation loss 0.03462346161113066 / accuracy 76.00382232666016\n",
      "\u001b[2m\u001b[36m(ClientAppActor pid=2226287)\u001b[0m \u001b[32m [repeated 599x across cluster]\u001b[0m\n",
      "\u001b[2m\u001b[36m(ClientAppActor pid=2226287)\u001b[0m Epoch 90/100\u001b[32m [repeated 599x across cluster]\u001b[0m\n",
      "\u001b[2m\u001b[36m(ClientAppActor pid=2226288)\u001b[0m Epoch 100: Training accuracy: 84.58149719238281 Testing accuracy: 78.9473648071289.\u001b[32m [repeated 600x across cluster]\u001b[0m\n"
     ]
    },
    {
     "name": "stderr",
     "output_type": "stream",
     "text": [
      "\u001b[92mINFO \u001b[0m:      aggregate_fit: received 4 results and 0 failures\n",
      "\u001b[92mINFO \u001b[0m:      fit progress: (88, 0.03382023292429307, {'accuracy': tensor(76.3862, device='cuda:0')}, 290.37467972398736)\n",
      "\u001b[92mINFO \u001b[0m:      configure_evaluate: strategy sampled 2 clients (out of 4)\n",
      "\u001b[92mINFO \u001b[0m:      aggregate_evaluate: received 2 results and 0 failures\n",
      "\u001b[92mINFO \u001b[0m:      \n",
      "\u001b[92mINFO \u001b[0m:      [ROUND 89]\n",
      "\u001b[92mINFO \u001b[0m:      configure_fit: strategy sampled 4 clients (out of 4)\n"
     ]
    },
    {
     "name": "stdout",
     "output_type": "stream",
     "text": [
      "Server-side evaluation loss 0.03382023292429307 / accuracy 76.38623046875\n"
     ]
    },
    {
     "name": "stderr",
     "output_type": "stream",
     "text": [
      "\u001b[92mINFO \u001b[0m:      aggregate_fit: received 4 results and 0 failures\n",
      "\u001b[92mINFO \u001b[0m:      fit progress: (89, 0.03466414353426765, {'accuracy': tensor(75.8126, device='cuda:0')}, 293.7482321370626)\n",
      "\u001b[92mINFO \u001b[0m:      configure_evaluate: strategy sampled 2 clients (out of 4)\n",
      "\u001b[92mINFO \u001b[0m:      aggregate_evaluate: received 2 results and 0 failures\n",
      "\u001b[92mINFO \u001b[0m:      \n",
      "\u001b[92mINFO \u001b[0m:      [ROUND 90]\n",
      "\u001b[92mINFO \u001b[0m:      configure_fit: strategy sampled 4 clients (out of 4)\n"
     ]
    },
    {
     "name": "stdout",
     "output_type": "stream",
     "text": [
      "Server-side evaluation loss 0.03466414353426765 / accuracy 75.8126220703125\n",
      "\u001b[2m\u001b[36m(ClientAppActor pid=2226287)\u001b[0m \u001b[32m [repeated 610x across cluster]\u001b[0m\n",
      "\u001b[2m\u001b[36m(ClientAppActor pid=2226287)\u001b[0m Epoch 100/100\u001b[32m [repeated 610x across cluster]\u001b[0m\n",
      "\u001b[2m\u001b[36m(ClientAppActor pid=2226287)\u001b[0m Epoch 100: Training accuracy: 83.91304016113281 Testing accuracy: 80.92485809326172.\u001b[32m [repeated 611x across cluster]\u001b[0m\n"
     ]
    },
    {
     "name": "stderr",
     "output_type": "stream",
     "text": [
      "\u001b[92mINFO \u001b[0m:      aggregate_fit: received 4 results and 0 failures\n",
      "\u001b[92mINFO \u001b[0m:      fit progress: (90, 0.03390145652434405, {'accuracy': tensor(76.6730, device='cuda:0')}, 297.0947625800036)\n",
      "\u001b[92mINFO \u001b[0m:      configure_evaluate: strategy sampled 2 clients (out of 4)\n",
      "\u001b[92mINFO \u001b[0m:      aggregate_evaluate: received 2 results and 0 failures\n",
      "\u001b[92mINFO \u001b[0m:      \n",
      "\u001b[92mINFO \u001b[0m:      [ROUND 91]\n",
      "\u001b[92mINFO \u001b[0m:      configure_fit: strategy sampled 4 clients (out of 4)\n"
     ]
    },
    {
     "name": "stdout",
     "output_type": "stream",
     "text": [
      "Server-side evaluation loss 0.03390145652434405 / accuracy 76.67304229736328\n"
     ]
    },
    {
     "name": "stderr",
     "output_type": "stream",
     "text": [
      "\u001b[92mINFO \u001b[0m:      aggregate_fit: received 4 results and 0 failures\n",
      "\u001b[92mINFO \u001b[0m:      fit progress: (91, 0.0335693078882554, {'accuracy': tensor(76.6730, device='cuda:0')}, 300.50606358400546)\n",
      "\u001b[92mINFO \u001b[0m:      configure_evaluate: strategy sampled 2 clients (out of 4)\n"
     ]
    },
    {
     "name": "stdout",
     "output_type": "stream",
     "text": [
      "\u001b[2m\u001b[36m(ClientAppActor pid=2226287)\u001b[0m \u001b[32m [repeated 590x across cluster]\u001b[0m\n",
      "\u001b[2m\u001b[36m(ClientAppActor pid=2226287)\u001b[0m Epoch 90/100\u001b[32m [repeated 590x across cluster]\u001b[0m\n",
      "\u001b[2m\u001b[36m(ClientAppActor pid=2226287)\u001b[0m Epoch 89: Training accuracy: 83.0434799194336 Testing accuracy: 82.08092498779297.\u001b[32m [repeated 589x across cluster]\u001b[0m\n",
      "Server-side evaluation loss 0.0335693078882554 / accuracy 76.67304229736328\n"
     ]
    },
    {
     "name": "stderr",
     "output_type": "stream",
     "text": [
      "\u001b[92mINFO \u001b[0m:      aggregate_evaluate: received 2 results and 0 failures\n",
      "\u001b[92mINFO \u001b[0m:      \n",
      "\u001b[92mINFO \u001b[0m:      [ROUND 92]\n",
      "\u001b[92mINFO \u001b[0m:      configure_fit: strategy sampled 4 clients (out of 4)\n",
      "\u001b[92mINFO \u001b[0m:      aggregate_fit: received 4 results and 0 failures\n",
      "\u001b[92mINFO \u001b[0m:      fit progress: (92, 0.03439478313221651, {'accuracy': tensor(76.4818, device='cuda:0')}, 303.91929713007994)\n",
      "\u001b[92mINFO \u001b[0m:      configure_evaluate: strategy sampled 2 clients (out of 4)\n",
      "\u001b[92mINFO \u001b[0m:      aggregate_evaluate: received 2 results and 0 failures\n",
      "\u001b[92mINFO \u001b[0m:      \n",
      "\u001b[92mINFO \u001b[0m:      [ROUND 93]\n",
      "\u001b[92mINFO \u001b[0m:      configure_fit: strategy sampled 4 clients (out of 4)\n"
     ]
    },
    {
     "name": "stdout",
     "output_type": "stream",
     "text": [
      "Server-side evaluation loss 0.03439478313221651 / accuracy 76.4818344116211\n",
      "\u001b[2m\u001b[36m(ClientAppActor pid=2226288)\u001b[0m \u001b[32m [repeated 593x across cluster]\u001b[0m\n",
      "\u001b[2m\u001b[36m(ClientAppActor pid=2226288)\u001b[0m Epoch 5/100\u001b[32m [repeated 593x across cluster]\u001b[0m\n",
      "\u001b[2m\u001b[36m(ClientAppActor pid=2226288)\u001b[0m Epoch 4: Training accuracy: 83.18840789794922 Testing accuracy: 77.45664978027344.\u001b[32m [repeated 592x across cluster]\u001b[0m\n"
     ]
    },
    {
     "name": "stderr",
     "output_type": "stream",
     "text": [
      "\u001b[92mINFO \u001b[0m:      aggregate_fit: received 4 results and 0 failures\n",
      "\u001b[92mINFO \u001b[0m:      fit progress: (93, 0.03442091801587273, {'accuracy': tensor(76.2906, device='cuda:0')}, 307.3072076269891)\n",
      "\u001b[92mINFO \u001b[0m:      configure_evaluate: strategy sampled 2 clients (out of 4)\n",
      "\u001b[92mINFO \u001b[0m:      aggregate_evaluate: received 2 results and 0 failures\n",
      "\u001b[92mINFO \u001b[0m:      \n",
      "\u001b[92mINFO \u001b[0m:      [ROUND 94]\n",
      "\u001b[92mINFO \u001b[0m:      configure_fit: strategy sampled 4 clients (out of 4)\n"
     ]
    },
    {
     "name": "stdout",
     "output_type": "stream",
     "text": [
      "Server-side evaluation loss 0.03442091801587273 / accuracy 76.29063415527344\n",
      "\u001b[2m\u001b[36m(ClientAppActor pid=2226288)\u001b[0m \u001b[32m [repeated 605x across cluster]\u001b[0m\n",
      "\u001b[2m\u001b[36m(ClientAppActor pid=2226288)\u001b[0m Epoch 88/100\u001b[32m [repeated 605x across cluster]\u001b[0m\n",
      "\u001b[2m\u001b[36m(ClientAppActor pid=2226288)\u001b[0m Epoch 87: Training accuracy: 85.07109069824219 Testing accuracy: 80.18868255615234.\u001b[32m [repeated 606x across cluster]\u001b[0m\n"
     ]
    },
    {
     "name": "stderr",
     "output_type": "stream",
     "text": [
      "\u001b[92mINFO \u001b[0m:      aggregate_fit: received 4 results and 0 failures\n",
      "\u001b[92mINFO \u001b[0m:      fit progress: (94, 0.03352714987362132, {'accuracy': tensor(76.4818, device='cuda:0')}, 310.78667205001693)\n",
      "\u001b[92mINFO \u001b[0m:      configure_evaluate: strategy sampled 2 clients (out of 4)\n",
      "\u001b[92mINFO \u001b[0m:      aggregate_evaluate: received 2 results and 0 failures\n",
      "\u001b[92mINFO \u001b[0m:      \n",
      "\u001b[92mINFO \u001b[0m:      [ROUND 95]\n",
      "\u001b[92mINFO \u001b[0m:      configure_fit: strategy sampled 4 clients (out of 4)\n"
     ]
    },
    {
     "name": "stdout",
     "output_type": "stream",
     "text": [
      "Server-side evaluation loss 0.03352714987362132 / accuracy 76.4818344116211\n"
     ]
    },
    {
     "name": "stderr",
     "output_type": "stream",
     "text": [
      "\u001b[92mINFO \u001b[0m:      aggregate_fit: received 4 results and 0 failures\n",
      "\u001b[92mINFO \u001b[0m:      fit progress: (95, 0.034692164729623234, {'accuracy': tensor(76.0038, device='cuda:0')}, 314.17211116303224)\n",
      "\u001b[92mINFO \u001b[0m:      configure_evaluate: strategy sampled 2 clients (out of 4)\n",
      "\u001b[92mINFO \u001b[0m:      aggregate_evaluate: received 2 results and 0 failures\n",
      "\u001b[92mINFO \u001b[0m:      \n",
      "\u001b[92mINFO \u001b[0m:      [ROUND 96]\n",
      "\u001b[92mINFO \u001b[0m:      configure_fit: strategy sampled 4 clients (out of 4)\n"
     ]
    },
    {
     "name": "stdout",
     "output_type": "stream",
     "text": [
      "Server-side evaluation loss 0.034692164729623234 / accuracy 76.00382232666016\n",
      "\u001b[2m\u001b[36m(ClientAppActor pid=2226288)\u001b[0m \u001b[32m [repeated 582x across cluster]\u001b[0m\n",
      "\u001b[2m\u001b[36m(ClientAppActor pid=2226288)\u001b[0m Epoch 100/100\u001b[32m [repeated 582x across cluster]\u001b[0m\n",
      "\u001b[2m\u001b[36m(ClientAppActor pid=2226288)\u001b[0m Epoch 99: Training accuracy: 86.65620422363281 Testing accuracy: 76.875.\u001b[32m [repeated 581x across cluster]\u001b[0m\n"
     ]
    },
    {
     "name": "stderr",
     "output_type": "stream",
     "text": [
      "\u001b[92mINFO \u001b[0m:      aggregate_fit: received 4 results and 0 failures\n",
      "\u001b[92mINFO \u001b[0m:      fit progress: (96, 0.0340566494885613, {'accuracy': tensor(76.4818, device='cuda:0')}, 317.5772676760098)\n",
      "\u001b[92mINFO \u001b[0m:      configure_evaluate: strategy sampled 2 clients (out of 4)\n",
      "\u001b[92mINFO \u001b[0m:      aggregate_evaluate: received 2 results and 0 failures\n",
      "\u001b[92mINFO \u001b[0m:      \n",
      "\u001b[92mINFO \u001b[0m:      [ROUND 97]\n",
      "\u001b[92mINFO \u001b[0m:      configure_fit: strategy sampled 4 clients (out of 4)\n"
     ]
    },
    {
     "name": "stdout",
     "output_type": "stream",
     "text": [
      "Server-side evaluation loss 0.0340566494885613 / accuracy 76.4818344116211\n",
      "\u001b[2m\u001b[36m(ClientAppActor pid=2226288)\u001b[0m \u001b[32m [repeated 596x across cluster]\u001b[0m\n",
      "\u001b[2m\u001b[36m(ClientAppActor pid=2226288)\u001b[0m Epoch 66/100\u001b[32m [repeated 596x across cluster]\u001b[0m\n",
      "\u001b[2m\u001b[36m(ClientAppActor pid=2226288)\u001b[0m Epoch 65: Training accuracy: 84.34782409667969 Testing accuracy: 78.61271667480469.\u001b[32m [repeated 597x across cluster]\u001b[0m\n"
     ]
    },
    {
     "name": "stderr",
     "output_type": "stream",
     "text": [
      "\u001b[92mINFO \u001b[0m:      aggregate_fit: received 4 results and 0 failures\n",
      "\u001b[92mINFO \u001b[0m:      fit progress: (97, 0.03400177464765661, {'accuracy': tensor(76.5774, device='cuda:0')}, 321.0733852030244)\n",
      "\u001b[92mINFO \u001b[0m:      configure_evaluate: strategy sampled 2 clients (out of 4)\n",
      "\u001b[92mINFO \u001b[0m:      aggregate_evaluate: received 2 results and 0 failures\n",
      "\u001b[92mINFO \u001b[0m:      \n",
      "\u001b[92mINFO \u001b[0m:      [ROUND 98]\n",
      "\u001b[92mINFO \u001b[0m:      configure_fit: strategy sampled 4 clients (out of 4)\n"
     ]
    },
    {
     "name": "stdout",
     "output_type": "stream",
     "text": [
      "Server-side evaluation loss 0.03400177464765661 / accuracy 76.57743835449219\n"
     ]
    },
    {
     "name": "stderr",
     "output_type": "stream",
     "text": [
      "\u001b[92mINFO \u001b[0m:      aggregate_fit: received 4 results and 0 failures\n",
      "\u001b[92mINFO \u001b[0m:      fit progress: (98, 0.034676779718960035, {'accuracy': tensor(76.0994, device='cuda:0')}, 324.2659661520738)\n",
      "\u001b[92mINFO \u001b[0m:      configure_evaluate: strategy sampled 2 clients (out of 4)\n",
      "\u001b[92mINFO \u001b[0m:      aggregate_evaluate: received 2 results and 0 failures\n",
      "\u001b[92mINFO \u001b[0m:      \n",
      "\u001b[92mINFO \u001b[0m:      [ROUND 99]\n",
      "\u001b[92mINFO \u001b[0m:      configure_fit: strategy sampled 4 clients (out of 4)\n"
     ]
    },
    {
     "name": "stdout",
     "output_type": "stream",
     "text": [
      "Server-side evaluation loss 0.034676779718960035 / accuracy 76.09942626953125\n",
      "\u001b[2m\u001b[36m(ClientAppActor pid=2226288)\u001b[0m \u001b[32m [repeated 603x across cluster]\u001b[0m\n",
      "\u001b[2m\u001b[36m(ClientAppActor pid=2226288)\u001b[0m Epoch 94/100\u001b[32m [repeated 603x across cluster]\u001b[0m\n",
      "\u001b[2m\u001b[36m(ClientAppActor pid=2226288)\u001b[0m Epoch 93: Training accuracy: 86.02825927734375 Testing accuracy: 75.0.\u001b[32m [repeated 602x across cluster]\u001b[0m\n"
     ]
    },
    {
     "name": "stderr",
     "output_type": "stream",
     "text": [
      "\u001b[92mINFO \u001b[0m:      aggregate_fit: received 4 results and 0 failures\n",
      "\u001b[92mINFO \u001b[0m:      fit progress: (99, 0.03462307593401741, {'accuracy': tensor(76.0994, device='cuda:0')}, 327.63510623702314)\n",
      "\u001b[92mINFO \u001b[0m:      configure_evaluate: strategy sampled 2 clients (out of 4)\n",
      "\u001b[92mINFO \u001b[0m:      aggregate_evaluate: received 2 results and 0 failures\n",
      "\u001b[92mINFO \u001b[0m:      \n",
      "\u001b[92mINFO \u001b[0m:      [ROUND 100]\n",
      "\u001b[92mINFO \u001b[0m:      configure_fit: strategy sampled 4 clients (out of 4)\n"
     ]
    },
    {
     "name": "stdout",
     "output_type": "stream",
     "text": [
      "Server-side evaluation loss 0.03462307593401741 / accuracy 76.09942626953125\n",
      "\u001b[2m\u001b[36m(ClientAppActor pid=2226288)\u001b[0m \u001b[32m [repeated 599x across cluster]\u001b[0m\n",
      "\u001b[2m\u001b[36m(ClientAppActor pid=2226288)\u001b[0m Epoch 99/100\u001b[32m [repeated 599x across cluster]\u001b[0m\n",
      "\u001b[2m\u001b[36m(ClientAppActor pid=2226288)\u001b[0m Epoch 98: Training accuracy: 84.28781127929688 Testing accuracy: 78.3625717163086.\u001b[32m [repeated 599x across cluster]\u001b[0m\n"
     ]
    },
    {
     "name": "stderr",
     "output_type": "stream",
     "text": [
      "\u001b[92mINFO \u001b[0m:      aggregate_fit: received 4 results and 0 failures\n",
      "\u001b[92mINFO \u001b[0m:      fit progress: (100, 0.03411823511123657, {'accuracy': tensor(76.3862, device='cuda:0')}, 331.0703082840191)\n",
      "\u001b[92mINFO \u001b[0m:      configure_evaluate: strategy sampled 2 clients (out of 4)\n",
      "\u001b[92mINFO \u001b[0m:      aggregate_evaluate: received 2 results and 0 failures\n",
      "\u001b[92mINFO \u001b[0m:      \n",
      "\u001b[92mINFO \u001b[0m:      [SUMMARY]\n",
      "\u001b[92mINFO \u001b[0m:      Run finished 100 rounds in 331.10s\n",
      "\u001b[92mINFO \u001b[0m:      History (loss, distributed):\n",
      "\u001b[92mINFO \u001b[0m:      \t('\\tround 1: 0.1986502068383353\\n'\n",
      "\u001b[92mINFO \u001b[0m:      \t '\\tround 2: 0.19785889557429723\\n'\n",
      "\u001b[92mINFO \u001b[0m:      \t '\\tround 3: 0.2295591433842977\\n'\n",
      "\u001b[92mINFO \u001b[0m:      \t '\\tround 4: 0.19589764731270926\\n'\n",
      "\u001b[92mINFO \u001b[0m:      \t '\\tround 5: 0.19236281939915248\\n'\n",
      "\u001b[92mINFO \u001b[0m:      \t '\\tround 6: 0.18511117356164114\\n'\n",
      "\u001b[92mINFO \u001b[0m:      \t '\\tround 7: 0.21353353063265482\\n'\n",
      "\u001b[92mINFO \u001b[0m:      \t '\\tround 8: 0.1798017280442374\\n'\n",
      "\u001b[92mINFO \u001b[0m:      \t '\\tround 9: 0.20613235235214233\\n'\n",
      "\u001b[92mINFO \u001b[0m:      \t '\\tround 10: 0.1737751535006932\\n'\n",
      "\u001b[92mINFO \u001b[0m:      \t '\\tround 11: 0.1964877943197886\\n'\n",
      "\u001b[92mINFO \u001b[0m:      \t '\\tround 12: 0.20398114124933878\\n'\n",
      "\u001b[92mINFO \u001b[0m:      \t '\\tround 13: 0.20237542192141214\\n'\n",
      "\u001b[92mINFO \u001b[0m:      \t '\\tround 14: 0.18701409300168356\\n'\n",
      "\u001b[92mINFO \u001b[0m:      \t '\\tround 15: 0.16459717069353377\\n'\n",
      "\u001b[92mINFO \u001b[0m:      \t '\\tround 16: 0.19580049316088358\\n'\n",
      "\u001b[92mINFO \u001b[0m:      \t '\\tround 17: 0.16686724764960154\\n'\n",
      "\u001b[92mINFO \u001b[0m:      \t '\\tround 18: 0.20317596197128296\\n'\n",
      "\u001b[92mINFO \u001b[0m:      \t '\\tround 19: 0.16576407636914933\\n'\n",
      "\u001b[92mINFO \u001b[0m:      \t '\\tround 20: 0.1669021419116429\\n'\n",
      "\u001b[92mINFO \u001b[0m:      \t '\\tround 21: 0.18077615896860758\\n'\n",
      "\u001b[92mINFO \u001b[0m:      \t '\\tround 22: 0.19203117489814758\\n'\n",
      "\u001b[92mINFO \u001b[0m:      \t '\\tround 23: 0.1803468962510427\\n'\n",
      "\u001b[92mINFO \u001b[0m:      \t '\\tround 24: 0.1646507978439331\\n'\n",
      "\u001b[92mINFO \u001b[0m:      \t '\\tround 25: 0.19250152508417764\\n'\n",
      "\u001b[92mINFO \u001b[0m:      \t '\\tround 26: 0.16105770213263376\\n'\n",
      "\u001b[92mINFO \u001b[0m:      \t '\\tround 27: 0.15700823068618774\\n'\n",
      "\u001b[92mINFO \u001b[0m:      \t '\\tround 28: 0.16158507551465714\\n'\n",
      "\u001b[92mINFO \u001b[0m:      \t '\\tround 29: 0.15357744693756104\\n'\n",
      "\u001b[92mINFO \u001b[0m:      \t '\\tround 30: 0.14848601818084717\\n'\n",
      "\u001b[92mINFO \u001b[0m:      \t '\\tround 31: 0.1546217714037214\\n'\n",
      "\u001b[92mINFO \u001b[0m:      \t '\\tround 32: 0.1692425778933934\\n'\n",
      "\u001b[92mINFO \u001b[0m:      \t '\\tround 33: 0.1618007251194545\\n'\n",
      "\u001b[92mINFO \u001b[0m:      \t '\\tround 34: 0.17882339159647623\\n'\n",
      "\u001b[92mINFO \u001b[0m:      \t '\\tround 35: 0.1801336109638214\\n'\n",
      "\u001b[92mINFO \u001b[0m:      \t '\\tround 36: 0.19032296538352966\\n'\n",
      "\u001b[92mINFO \u001b[0m:      \t '\\tround 37: 0.17341811316353933\\n'\n",
      "\u001b[92mINFO \u001b[0m:      \t '\\tround 38: 0.15861140830176218\\n'\n",
      "\u001b[92mINFO \u001b[0m:      \t '\\tround 39: 0.15613025852612086\\n'\n",
      "\u001b[92mINFO \u001b[0m:      \t '\\tround 40: 0.1690062199320112\\n'\n",
      "\u001b[92mINFO \u001b[0m:      \t '\\tround 41: 0.16129143748964583\\n'\n",
      "\u001b[92mINFO \u001b[0m:      \t '\\tround 42: 0.15431749820709229\\n'\n",
      "\u001b[92mINFO \u001b[0m:      \t '\\tround 43: 0.14660104257719858\\n'\n",
      "\u001b[92mINFO \u001b[0m:      \t '\\tround 44: 0.17951308687527975\\n'\n",
      "\u001b[92mINFO \u001b[0m:      \t '\\tround 45: 0.168437089238848\\n'\n",
      "\u001b[92mINFO \u001b[0m:      \t '\\tround 46: 0.1687316099802653\\n'\n",
      "\u001b[92mINFO \u001b[0m:      \t '\\tround 47: 0.17295841375986734\\n'\n",
      "\u001b[92mINFO \u001b[0m:      \t '\\tround 48: 0.17132745683193207\\n'\n",
      "\u001b[92mINFO \u001b[0m:      \t '\\tround 49: 0.15362370865685598\\n'\n",
      "\u001b[92mINFO \u001b[0m:      \t '\\tround 50: 0.14151038442339217\\n'\n",
      "\u001b[92mINFO \u001b[0m:      \t '\\tround 51: 0.18020302057266235\\n'\n",
      "\u001b[92mINFO \u001b[0m:      \t '\\tround 52: 0.14955041238239833\\n'\n",
      "\u001b[92mINFO \u001b[0m:      \t '\\tround 53: 0.18085614840189615\\n'\n",
      "\u001b[92mINFO \u001b[0m:      \t '\\tround 54: 0.1706185738245646\\n'\n",
      "\u001b[92mINFO \u001b[0m:      \t '\\tround 55: 0.14456803458077566\\n'\n",
      "\u001b[92mINFO \u001b[0m:      \t '\\tround 56: 0.14887979200908116\\n'\n",
      "\u001b[92mINFO \u001b[0m:      \t '\\tround 57: 0.1592157142502921\\n'\n",
      "\u001b[92mINFO \u001b[0m:      \t '\\tround 58: 0.17728175719579062\\n'\n",
      "\u001b[92mINFO \u001b[0m:      \t '\\tround 59: 0.1612278719743093\\n'\n",
      "\u001b[92mINFO \u001b[0m:      \t '\\tround 60: 0.18137921392917633\\n'\n",
      "\u001b[92mINFO \u001b[0m:      \t '\\tround 61: 0.15296015569141932\\n'\n",
      "\u001b[92mINFO \u001b[0m:      \t '\\tround 62: 0.18744942545890808\\n'\n",
      "\u001b[92mINFO \u001b[0m:      \t '\\tround 63: 0.162833571434021\\n'\n",
      "\u001b[92mINFO \u001b[0m:      \t '\\tround 64: 0.15603005034582956\\n'\n",
      "\u001b[92mINFO \u001b[0m:      \t '\\tround 65: 0.1511547565460205\\n'\n",
      "\u001b[92mINFO \u001b[0m:      \t '\\tround 66: 0.1562252640724182\\n'\n",
      "\u001b[92mINFO \u001b[0m:      \t '\\tround 67: 0.14432219096592494\\n'\n",
      "\u001b[92mINFO \u001b[0m:      \t '\\tround 68: 0.150918470961707\\n'\n",
      "\u001b[92mINFO \u001b[0m:      \t '\\tround 69: 0.16912701725959778\\n'\n",
      "\u001b[92mINFO \u001b[0m:      \t '\\tround 70: 0.14768267103603908\\n'\n",
      "\u001b[92mINFO \u001b[0m:      \t '\\tround 71: 0.1508275270462036\\n'\n",
      "\u001b[92mINFO \u001b[0m:      \t '\\tround 72: 0.15212173121316092\\n'\n",
      "\u001b[92mINFO \u001b[0m:      \t '\\tround 73: 0.17392340302467346\\n'\n",
      "\u001b[92mINFO \u001b[0m:      \t '\\tround 74: 0.16403434106281825\\n'\n",
      "\u001b[92mINFO \u001b[0m:      \t '\\tround 75: 0.1591233809789022\\n'\n",
      "\u001b[92mINFO \u001b[0m:      \t '\\tround 76: 0.16567031045754751\\n'\n",
      "\u001b[92mINFO \u001b[0m:      \t '\\tround 77: 0.16240106026331583\\n'\n",
      "\u001b[92mINFO \u001b[0m:      \t '\\tround 78: 0.15157831140926906\\n'\n",
      "\u001b[92mINFO \u001b[0m:      \t '\\tround 79: 0.14632966688701085\\n'\n",
      "\u001b[92mINFO \u001b[0m:      \t '\\tround 80: 0.1606843216078622\\n'\n",
      "\u001b[92mINFO \u001b[0m:      \t '\\tround 81: 0.1615822265545527\\n'\n",
      "\u001b[92mINFO \u001b[0m:      \t '\\tround 82: 0.18305461605389914\\n'\n",
      "\u001b[92mINFO \u001b[0m:      \t '\\tround 83: 0.157425786058108\\n'\n",
      "\u001b[92mINFO \u001b[0m:      \t '\\tround 84: 0.14233349902289255\\n'\n",
      "\u001b[92mINFO \u001b[0m:      \t '\\tround 85: 0.17583535611629486\\n'\n",
      "\u001b[92mINFO \u001b[0m:      \t '\\tround 86: 0.18105356891949972\\n'\n",
      "\u001b[92mINFO \u001b[0m:      \t '\\tround 87: 0.17485242088635763\\n'\n",
      "\u001b[92mINFO \u001b[0m:      \t '\\tround 88: 0.1543712786265782\\n'\n",
      "\u001b[92mINFO \u001b[0m:      \t '\\tround 89: 0.17226981123288473\\n'\n",
      "\u001b[92mINFO \u001b[0m:      \t '\\tround 90: 0.16248811994280135\\n'\n",
      "\u001b[92mINFO \u001b[0m:      \t '\\tround 91: 0.14321999890463694\\n'\n",
      "\u001b[92mINFO \u001b[0m:      \t '\\tround 92: 0.15241707222802298\\n'\n",
      "\u001b[92mINFO \u001b[0m:      \t '\\tround 93: 0.1612874468167623\\n'\n",
      "\u001b[92mINFO \u001b[0m:      \t '\\tround 94: 0.18552828828493753\\n'\n",
      "\u001b[92mINFO \u001b[0m:      \t '\\tround 95: 0.14744926350457327\\n'\n",
      "\u001b[92mINFO \u001b[0m:      \t '\\tround 96: 0.17718778053919473\\n'\n",
      "\u001b[92mINFO \u001b[0m:      \t '\\tround 97: 0.1832620402177175\\n'\n",
      "\u001b[92mINFO \u001b[0m:      \t '\\tround 98: 0.18011037011941275\\n'\n",
      "\u001b[92mINFO \u001b[0m:      \t '\\tround 99: 0.13971948197909764\\n'\n",
      "\u001b[92mINFO \u001b[0m:      \t '\\tround 100: 0.1726214438676834\\n')History (loss, centralized):\n",
      "\u001b[92mINFO \u001b[0m:      \t('\\tround 0: 0.04951255812364466\\n'\n",
      "\u001b[92mINFO \u001b[0m:      \t '\\tround 1: 0.041037541978499466\\n'\n",
      "\u001b[92mINFO \u001b[0m:      \t '\\tround 2: 0.040974683621350455\\n'\n",
      "\u001b[92mINFO \u001b[0m:      \t '\\tround 3: 0.04084171617732329\\n'\n",
      "\u001b[92mINFO \u001b[0m:      \t '\\tround 4: 0.04086611551396987\\n'\n",
      "\u001b[92mINFO \u001b[0m:      \t '\\tround 5: 0.04048906704958748\\n'\n",
      "\u001b[92mINFO \u001b[0m:      \t '\\tround 6: 0.03968727939269122\\n'\n",
      "\u001b[92mINFO \u001b[0m:      \t '\\tround 7: 0.03927895952673519\\n'\n",
      "\u001b[92mINFO \u001b[0m:      \t '\\tround 8: 0.039250531617332905\\n'\n",
      "\u001b[92mINFO \u001b[0m:      \t '\\tround 9: 0.038811154225293326\\n'\n",
      "\u001b[92mINFO \u001b[0m:      \t '\\tround 10: 0.0382733099600848\\n'\n",
      "\u001b[92mINFO \u001b[0m:      \t '\\tround 11: 0.03777405444313498\\n'\n",
      "\u001b[92mINFO \u001b[0m:      \t '\\tround 12: 0.03821747793870814\\n'\n",
      "\u001b[92mINFO \u001b[0m:      \t '\\tround 13: 0.03690511338851031\\n'\n",
      "\u001b[92mINFO \u001b[0m:      \t '\\tround 14: 0.03649711608886719\\n'\n",
      "\u001b[92mINFO \u001b[0m:      \t '\\tround 15: 0.036313926472383386\\n'\n",
      "\u001b[92mINFO \u001b[0m:      \t '\\tround 16: 0.03611676482593312\\n'\n",
      "\u001b[92mINFO \u001b[0m:      \t '\\tround 17: 0.035599224707659555\\n'\n",
      "\u001b[92mINFO \u001b[0m:      \t '\\tround 18: 0.03589479712878957\\n'\n",
      "\u001b[92mINFO \u001b[0m:      \t '\\tround 19: 0.03603058352189906\\n'\n",
      "\u001b[92mINFO \u001b[0m:      \t '\\tround 20: 0.03505601251826567\\n'\n",
      "\u001b[92mINFO \u001b[0m:      \t '\\tround 21: 0.03473745023503023\\n'\n",
      "\u001b[92mINFO \u001b[0m:      \t '\\tround 22: 0.034545281354118794\\n'\n",
      "\u001b[92mINFO \u001b[0m:      \t '\\tround 23: 0.03441432994954726\\n'\n",
      "\u001b[92mINFO \u001b[0m:      \t '\\tround 24: 0.03438063228831572\\n'\n",
      "\u001b[92mINFO \u001b[0m:      \t '\\tround 25: 0.0338901912464815\\n'\n",
      "\u001b[92mINFO \u001b[0m:      \t '\\tround 26: 0.0340194491779103\\n'\n",
      "\u001b[92mINFO \u001b[0m:      \t '\\tround 27: 0.03406390021829044\\n'\n",
      "\u001b[92mINFO \u001b[0m:      \t '\\tround 28: 0.033613930730258715\\n'\n",
      "\u001b[92mINFO \u001b[0m:      \t '\\tround 29: 0.03395822468925925\\n'\n",
      "\u001b[92mINFO \u001b[0m:      \t '\\tround 30: 0.03373304535360897\\n'\n",
      "\u001b[92mINFO \u001b[0m:      \t '\\tround 31: 0.033916518968694354\\n'\n",
      "\u001b[92mINFO \u001b[0m:      \t '\\tround 32: 0.033845694626078886\\n'\n",
      "\u001b[92mINFO \u001b[0m:      \t '\\tround 33: 0.03497405613169951\\n'\n",
      "\u001b[92mINFO \u001b[0m:      \t '\\tround 34: 0.0339425381492166\\n'\n",
      "\u001b[92mINFO \u001b[0m:      \t '\\tround 35: 0.033852247630848604\\n'\n",
      "\u001b[92mINFO \u001b[0m:      \t '\\tround 36: 0.0339117821525125\\n'\n",
      "\u001b[92mINFO \u001b[0m:      \t '\\tround 37: 0.03393824661479277\\n'\n",
      "\u001b[92mINFO \u001b[0m:      \t '\\tround 38: 0.0340612530708313\\n'\n",
      "\u001b[92mINFO \u001b[0m:      \t '\\tround 39: 0.03407557221019969\\n'\n",
      "\u001b[92mINFO \u001b[0m:      \t '\\tround 40: 0.03408456199309405\\n'\n",
      "\u001b[92mINFO \u001b[0m:      \t '\\tround 41: 0.03409343957901001\\n'\n",
      "\u001b[92mINFO \u001b[0m:      \t '\\tround 42: 0.03414211553685805\\n'\n",
      "\u001b[92mINFO \u001b[0m:      \t '\\tround 43: 0.03434797946144553\\n'\n",
      "\u001b[92mINFO \u001b[0m:      \t '\\tround 44: 0.03414681729148416\\n'\n",
      "\u001b[92mINFO \u001b[0m:      \t '\\tround 45: 0.034161104875452375\\n'\n",
      "\u001b[92mINFO \u001b[0m:      \t '\\tround 46: 0.034330501275904035\\n'\n",
      "\u001b[92mINFO \u001b[0m:      \t '\\tround 47: 0.03427239025340361\\n'\n",
      "\u001b[92mINFO \u001b[0m:      \t '\\tround 48: 0.034183291827931124\\n'\n",
      "\u001b[92mINFO \u001b[0m:      \t '\\tround 49: 0.03421719985849717\\n'\n",
      "\u001b[92mINFO \u001b[0m:      \t '\\tround 50: 0.03412102250491872\\n'\n",
      "\u001b[92mINFO \u001b[0m:      \t '\\tround 51: 0.0341179230633904\\n'\n",
      "\u001b[92mINFO \u001b[0m:      \t '\\tround 52: 0.03413997327580171\\n'\n",
      "\u001b[92mINFO \u001b[0m:      \t '\\tround 53: 0.034113077556385714\\n'\n",
      "\u001b[92mINFO \u001b[0m:      \t '\\tround 54: 0.03408985979416791\\n'\n",
      "\u001b[92mINFO \u001b[0m:      \t '\\tround 55: 0.03402624761357027\\n'\n",
      "\u001b[92mINFO \u001b[0m:      \t '\\tround 56: 0.03442892958136166\\n'\n",
      "\u001b[92mINFO \u001b[0m:      \t '\\tround 57: 0.033962961505441105\\n'\n",
      "\u001b[92mINFO \u001b[0m:      \t '\\tround 58: 0.03390516603694243\\n'\n",
      "\u001b[92mINFO \u001b[0m:      \t '\\tround 59: 0.03416392733069027\\n'\n",
      "\u001b[92mINFO \u001b[0m:      \t '\\tround 60: 0.0338094900636112\\n'\n",
      "\u001b[92mINFO \u001b[0m:      \t '\\tround 61: 0.03392523176529828\\n'\n",
      "\u001b[92mINFO \u001b[0m:      \t '\\tround 62: 0.03395904863581938\\n'\n",
      "\u001b[92mINFO \u001b[0m:      \t '\\tround 63: 0.033880942008074594\\n'\n",
      "\u001b[92mINFO \u001b[0m:      \t '\\tround 64: 0.03509032025056727\\n'\n",
      "\u001b[92mINFO \u001b[0m:      \t '\\tround 65: 0.034256013000712675\\n'\n",
      "\u001b[92mINFO \u001b[0m:      \t '\\tround 66: 0.03369299103231991\\n'\n",
      "\u001b[92mINFO \u001b[0m:      \t '\\tround 67: 0.03407717452329748\\n'\n",
      "\u001b[92mINFO \u001b[0m:      \t '\\tround 68: 0.03357723179985495\\n'\n",
      "\u001b[92mINFO \u001b[0m:      \t '\\tround 69: 0.03355507990893196\\n'\n",
      "\u001b[92mINFO \u001b[0m:      \t '\\tround 70: 0.03362006299635943\\n'\n",
      "\u001b[92mINFO \u001b[0m:      \t '\\tround 71: 0.033925943514880014\\n'\n",
      "\u001b[92mINFO \u001b[0m:      \t '\\tround 72: 0.033888252342448515\\n'\n",
      "\u001b[92mINFO \u001b[0m:      \t '\\tround 73: 0.03379344940185547\\n'\n",
      "\u001b[92mINFO \u001b[0m:      \t '\\tround 74: 0.03405178995693431\\n'\n",
      "\u001b[92mINFO \u001b[0m:      \t '\\tround 75: 0.03338521017747767\\n'\n",
      "\u001b[92mINFO \u001b[0m:      \t '\\tround 76: 0.03434689605937285\\n'\n",
      "\u001b[92mINFO \u001b[0m:      \t '\\tround 77: 0.03363662256914027\\n'\n",
      "\u001b[92mINFO \u001b[0m:      \t '\\tround 78: 0.033697215949787813\\n'\n",
      "\u001b[92mINFO \u001b[0m:      \t '\\tround 79: 0.03394440342398251\\n'\n",
      "\u001b[92mINFO \u001b[0m:      \t '\\tround 80: 0.033531083780176496\\n'\n",
      "\u001b[92mINFO \u001b[0m:      \t '\\tround 81: 0.03362132170621086\\n'\n",
      "\u001b[92mINFO \u001b[0m:      \t '\\tround 82: 0.03430771827697754\\n'\n",
      "\u001b[92mINFO \u001b[0m:      \t '\\tround 83: 0.03462876642451567\\n'\n",
      "\u001b[92mINFO \u001b[0m:      \t '\\tround 84: 0.03454926084069645\\n'\n",
      "\u001b[92mINFO \u001b[0m:      \t '\\tround 85: 0.03354921060449937\\n'\n",
      "\u001b[92mINFO \u001b[0m:      \t '\\tround 86: 0.0342066252932829\\n'\n",
      "\u001b[92mINFO \u001b[0m:      \t '\\tround 87: 0.03462346161113066\\n'\n",
      "\u001b[92mINFO \u001b[0m:      \t '\\tround 88: 0.03382023292429307\\n'\n",
      "\u001b[92mINFO \u001b[0m:      \t '\\tround 89: 0.03466414353426765\\n'\n",
      "\u001b[92mINFO \u001b[0m:      \t '\\tround 90: 0.03390145652434405\\n'\n",
      "\u001b[92mINFO \u001b[0m:      \t '\\tround 91: 0.0335693078882554\\n'\n",
      "\u001b[92mINFO \u001b[0m:      \t '\\tround 92: 0.03439478313221651\\n'\n",
      "\u001b[92mINFO \u001b[0m:      \t '\\tround 93: 0.03442091801587273\\n'\n",
      "\u001b[92mINFO \u001b[0m:      \t '\\tround 94: 0.03352714987362132\\n'\n",
      "\u001b[92mINFO \u001b[0m:      \t '\\tround 95: 0.034692164729623234\\n'\n",
      "\u001b[92mINFO \u001b[0m:      \t '\\tround 96: 0.0340566494885613\\n'\n",
      "\u001b[92mINFO \u001b[0m:      \t '\\tround 97: 0.03400177464765661\\n'\n",
      "\u001b[92mINFO \u001b[0m:      \t '\\tround 98: 0.034676779718960035\\n'\n",
      "\u001b[92mINFO \u001b[0m:      \t '\\tround 99: 0.03462307593401741\\n'\n",
      "\u001b[92mINFO \u001b[0m:      \t '\\tround 100: 0.03411823511123657\\n')History (metrics, distributed, evaluate):\n",
      "\u001b[92mINFO \u001b[0m:      \t{'accuracy': [(1, 48.92014857700893),\n",
      "\u001b[92mINFO \u001b[0m:      \t              (2, 47.0232184273856),\n",
      "\u001b[92mINFO \u001b[0m:      \t              (3, 55.339595794677734),\n",
      "\u001b[92mINFO \u001b[0m:      \t              (4, 59.671495710100444),\n",
      "\u001b[92mINFO \u001b[0m:      \t              (5, 64.24286815098354),\n",
      "\u001b[92mINFO \u001b[0m:      \t              (6, 68.00242941720145),\n",
      "\u001b[92mINFO \u001b[0m:      \t              (7, 70.64361572265625),\n",
      "\u001b[92mINFO \u001b[0m:      \t              (8, 67.34761483328683),\n",
      "\u001b[92mINFO \u001b[0m:      \t              (9, 69.18500518798828),\n",
      "\u001b[92mINFO \u001b[0m:      \t              (10, 68.8123299734933),\n",
      "\u001b[92mINFO \u001b[0m:      \t              (11, 70.92248916625977),\n",
      "\u001b[92mINFO \u001b[0m:      \t              (12, 68.30781173706055),\n",
      "\u001b[92mINFO \u001b[0m:      \t              (13, 71.50728225708008),\n",
      "\u001b[92mINFO \u001b[0m:      \t              (14, 71.19761657714844),\n",
      "\u001b[92mINFO \u001b[0m:      \t              (15, 69.24107578822544),\n",
      "\u001b[92mINFO \u001b[0m:      \t              (16, 71.61001586914062),\n",
      "\u001b[92mINFO \u001b[0m:      \t              (17, 69.88712855747768),\n",
      "\u001b[92mINFO \u001b[0m:      \t              (18, 72.67349243164062),\n",
      "\u001b[92mINFO \u001b[0m:      \t              (19, 71.54679216657367),\n",
      "\u001b[92mINFO \u001b[0m:      \t              (20, 70.96987479073661),\n",
      "\u001b[92mINFO \u001b[0m:      \t              (21, 73.84573745727539),\n",
      "\u001b[92mINFO \u001b[0m:      \t              (22, 73.53323745727539),\n",
      "\u001b[92mINFO \u001b[0m:      \t              (23, 74.11127090454102),\n",
      "\u001b[92mINFO \u001b[0m:      \t              (24, 73.94014086042132),\n",
      "\u001b[92mINFO \u001b[0m:      \t              (25, 74.99915313720703),\n",
      "\u001b[92mINFO \u001b[0m:      \t              (26, 72.51146480015346),\n",
      "\u001b[92mINFO \u001b[0m:      \t              (27, 73.51397378104073),\n",
      "\u001b[92mINFO \u001b[0m:      \t              (28, 72.63605499267578),\n",
      "\u001b[92mINFO \u001b[0m:      \t              (29, 74.66151428222656),\n",
      "\u001b[92mINFO \u001b[0m:      \t              (30, 75.20059858049665),\n",
      "\u001b[92mINFO \u001b[0m:      \t              (31, 74.34151349748883),\n",
      "\u001b[92mINFO \u001b[0m:      \t              (32, 74.19137573242188),\n",
      "\u001b[92mINFO \u001b[0m:      \t              (33, 74.73046003069196),\n",
      "\u001b[92mINFO \u001b[0m:      \t              (34, 76.51734161376953),\n",
      "\u001b[92mINFO \u001b[0m:      \t              (35, 77.90623092651367),\n",
      "\u001b[92mINFO \u001b[0m:      \t              (36, 77.14234161376953),\n",
      "\u001b[92mINFO \u001b[0m:      \t              (37, 74.68332999093192),\n",
      "\u001b[92mINFO \u001b[0m:      \t              (38, 76.77422441755023),\n",
      "\u001b[92mINFO \u001b[0m:      \t              (39, 75.6703109741211),\n",
      "\u001b[92mINFO \u001b[0m:      \t              (40, 76.52649579729352),\n",
      "\u001b[92mINFO \u001b[0m:      \t              (41, 76.52649579729352),\n",
      "\u001b[92mINFO \u001b[0m:      \t              (42, 75.51376560756138),\n",
      "\u001b[92mINFO \u001b[0m:      \t              (43, 73.85289001464844),\n",
      "\u001b[92mINFO \u001b[0m:      \t              (44, 77.09537506103516),\n",
      "\u001b[92mINFO \u001b[0m:      \t              (45, 75.26785714285714),\n",
      "\u001b[92mINFO \u001b[0m:      \t              (46, 76.40899276733398),\n",
      "\u001b[92mINFO \u001b[0m:      \t              (47, 77.11885833740234),\n",
      "\u001b[92mINFO \u001b[0m:      \t              (48, 77.3062858581543),\n",
      "\u001b[92mINFO \u001b[0m:      \t              (49, 76.69172777448382),\n",
      "\u001b[92mINFO \u001b[0m:      \t              (50, 76.79603576660156),\n",
      "\u001b[92mINFO \u001b[0m:      \t              (51, 79.06905746459961),\n",
      "\u001b[92mINFO \u001b[0m:      \t              (52, 76.52649579729352),\n",
      "\u001b[92mINFO \u001b[0m:      \t              (53, 77.59868240356445),\n",
      "\u001b[92mINFO \u001b[0m:      \t              (54, 77.57858276367188),\n",
      "\u001b[92mINFO \u001b[0m:      \t              (55, 74.99831717354911),\n",
      "\u001b[92mINFO \u001b[0m:      \t              (56, 75.24422563825335),\n",
      "\u001b[92mINFO \u001b[0m:      \t              (57, 75.26953996930804),\n",
      "\u001b[92mINFO \u001b[0m:      \t              (58, 76.97368240356445),\n",
      "\u001b[92mINFO \u001b[0m:      \t              (59, 77.91118240356445),\n",
      "\u001b[92mINFO \u001b[0m:      \t              (60, 77.26608276367188),\n",
      "\u001b[92mINFO \u001b[0m:      \t              (61, 75.26785714285714),\n",
      "\u001b[92mINFO \u001b[0m:      \t              (62, 78.34537506103516),\n",
      "\u001b[92mINFO \u001b[0m:      \t              (63, 76.77422441755023),\n",
      "\u001b[92mINFO \u001b[0m:      \t              (64, 74.95286996023995),\n",
      "\u001b[92mINFO \u001b[0m:      \t              (65, 76.61051286969867),\n",
      "\u001b[92mINFO \u001b[0m:      \t              (66, 78.00160653250558),\n",
      "\u001b[92mINFO \u001b[0m:      \t              (67, 77.2308120727539),\n",
      "\u001b[92mINFO \u001b[0m:      \t              (68, 78.00160653250558),\n",
      "\u001b[92mINFO \u001b[0m:      \t              (69, 80.8099250793457),\n",
      "\u001b[92mINFO \u001b[0m:      \t              (70, 78.79131644112724),\n",
      "\u001b[92mINFO \u001b[0m:      \t              (71, 78.36966160365513),\n",
      "\u001b[92mINFO \u001b[0m:      \t              (72, 78.36966160365513),\n",
      "\u001b[92mINFO \u001b[0m:      \t              (73, 80.81668472290039),\n",
      "\u001b[92mINFO \u001b[0m:      \t              (74, 77.15127999441964),\n",
      "\u001b[92mINFO \u001b[0m:      \t              (75, 80.22512817382812),\n",
      "\u001b[92mINFO \u001b[0m:      \t              (76, 79.06905746459961),\n",
      "\u001b[92mINFO \u001b[0m:      \t              (77, 81.10570526123047),\n",
      "\u001b[92mINFO \u001b[0m:      \t              (78, 78.63920157296317),\n",
      "\u001b[92mINFO \u001b[0m:      \t              (79, 77.50035204206195),\n",
      "\u001b[92mINFO \u001b[0m:      \t              (80, 79.0419453212193),\n",
      "\u001b[92mINFO \u001b[0m:      \t              (81, 80.81330490112305),\n",
      "\u001b[92mINFO \u001b[0m:      \t              (82, 78.32189178466797),\n",
      "\u001b[92mINFO \u001b[0m:      \t              (83, 79.93949127197266),\n",
      "\u001b[92mINFO \u001b[0m:      \t              (84, 77.83057730538505),\n",
      "\u001b[92mINFO \u001b[0m:      \t              (85, 81.38795852661133),\n",
      "\u001b[92mINFO \u001b[0m:      \t              (86, 78.29840850830078),\n",
      "\u001b[92mINFO \u001b[0m:      \t              (87, 79.64709091186523),\n",
      "\u001b[92mINFO \u001b[0m:      \t              (88, 76.61388288225446),\n",
      "\u001b[92mINFO \u001b[0m:      \t              (89, 77.91118240356445),\n",
      "\u001b[92mINFO \u001b[0m:      \t              (90, 77.42250714983258),\n",
      "\u001b[92mINFO \u001b[0m:      \t              (91, 79.11285073416573),\n",
      "\u001b[92mINFO \u001b[0m:      \t              (92, 77.76989637102399),\n",
      "\u001b[92mINFO \u001b[0m:      \t              (93, 80.80654525756836),\n",
      "\u001b[92mINFO \u001b[0m:      \t              (94, 81.09894180297852),\n",
      "\u001b[92mINFO \u001b[0m:      \t              (95, 77.50035204206195),\n",
      "\u001b[92mINFO \u001b[0m:      \t              (96, 77.89108276367188),\n",
      "\u001b[92mINFO \u001b[0m:      \t              (97, 77.89108276367188),\n",
      "\u001b[92mINFO \u001b[0m:      \t              (98, 79.4544792175293),\n",
      "\u001b[92mINFO \u001b[0m:      \t              (99, 79.36057935442243),\n",
      "\u001b[92mINFO \u001b[0m:      \t              (100, 81.09894180297852)]}History (metrics, centralized):\n",
      "\u001b[92mINFO \u001b[0m:      \t{'accuracy': [(0, tensor(48.9484, device='cuda:0')),\n",
      "\u001b[92mINFO \u001b[0m:      \t              (1, tensor(48.9484, device='cuda:0')),\n",
      "\u001b[92mINFO \u001b[0m:      \t              (2, tensor(48.9484, device='cuda:0')),\n",
      "\u001b[92mINFO \u001b[0m:      \t              (3, tensor(53.4417, device='cuda:0')),\n",
      "\u001b[92mINFO \u001b[0m:      \t              (4, tensor(56.4054, device='cuda:0')),\n",
      "\u001b[92mINFO \u001b[0m:      \t              (5, tensor(66.9216, device='cuda:0')),\n",
      "\u001b[92mINFO \u001b[0m:      \t              (6, tensor(68.3556, device='cuda:0')),\n",
      "\u001b[92mINFO \u001b[0m:      \t              (7, tensor(68.3556, device='cuda:0')),\n",
      "\u001b[92mINFO \u001b[0m:      \t              (8, tensor(68.0688, device='cuda:0')),\n",
      "\u001b[92mINFO \u001b[0m:      \t              (9, tensor(68.2600, device='cuda:0')),\n",
      "\u001b[92mINFO \u001b[0m:      \t              (10, tensor(69.1205, device='cuda:0')),\n",
      "\u001b[92mINFO \u001b[0m:      \t              (11, tensor(69.0249, device='cuda:0')),\n",
      "\u001b[92mINFO \u001b[0m:      \t              (12, tensor(70.2677, device='cuda:0')),\n",
      "\u001b[92mINFO \u001b[0m:      \t              (13, tensor(70.3633, device='cuda:0')),\n",
      "\u001b[92mINFO \u001b[0m:      \t              (14, tensor(70.5545, device='cuda:0')),\n",
      "\u001b[92mINFO \u001b[0m:      \t              (15, tensor(70.5545, device='cuda:0')),\n",
      "\u001b[92mINFO \u001b[0m:      \t              (16, tensor(71.3193, device='cuda:0')),\n",
      "\u001b[92mINFO \u001b[0m:      \t              (17, tensor(70.9369, device='cuda:0')),\n",
      "\u001b[92mINFO \u001b[0m:      \t              (18, tensor(72.6577, device='cuda:0')),\n",
      "\u001b[92mINFO \u001b[0m:      \t              (19, tensor(72.5621, device='cuda:0')),\n",
      "\u001b[92mINFO \u001b[0m:      \t              (20, tensor(72.4665, device='cuda:0')),\n",
      "\u001b[92mINFO \u001b[0m:      \t              (21, tensor(72.8489, device='cuda:0')),\n",
      "\u001b[92mINFO \u001b[0m:      \t              (22, tensor(72.8489, device='cuda:0')),\n",
      "\u001b[92mINFO \u001b[0m:      \t              (23, tensor(73.3270, device='cuda:0')),\n",
      "\u001b[92mINFO \u001b[0m:      \t              (24, tensor(73.7094, device='cuda:0')),\n",
      "\u001b[92mINFO \u001b[0m:      \t              (25, tensor(72.9445, device='cuda:0')),\n",
      "\u001b[92mINFO \u001b[0m:      \t              (26, tensor(74.2830, device='cuda:0')),\n",
      "\u001b[92mINFO \u001b[0m:      \t              (27, tensor(74.5698, device='cuda:0')),\n",
      "\u001b[92mINFO \u001b[0m:      \t              (28, tensor(71.9885, device='cuda:0')),\n",
      "\u001b[92mINFO \u001b[0m:      \t              (29, tensor(75.0478, device='cuda:0')),\n",
      "\u001b[92mINFO \u001b[0m:      \t              (30, tensor(74.2830, device='cuda:0')),\n",
      "\u001b[92mINFO \u001b[0m:      \t              (31, tensor(75.2390, device='cuda:0')),\n",
      "\u001b[92mINFO \u001b[0m:      \t              (32, tensor(75.2390, device='cuda:0')),\n",
      "\u001b[92mINFO \u001b[0m:      \t              (33, tensor(74.3786, device='cuda:0')),\n",
      "\u001b[92mINFO \u001b[0m:      \t              (34, tensor(75.4302, device='cuda:0')),\n",
      "\u001b[92mINFO \u001b[0m:      \t              (35, tensor(75.4302, device='cuda:0')),\n",
      "\u001b[92mINFO \u001b[0m:      \t              (36, tensor(74.1874, device='cuda:0')),\n",
      "\u001b[92mINFO \u001b[0m:      \t              (37, tensor(75.4302, device='cuda:0')),\n",
      "\u001b[92mINFO \u001b[0m:      \t              (38, tensor(75.5258, device='cuda:0')),\n",
      "\u001b[92mINFO \u001b[0m:      \t              (39, tensor(75.3346, device='cuda:0')),\n",
      "\u001b[92mINFO \u001b[0m:      \t              (40, tensor(75.4302, device='cuda:0')),\n",
      "\u001b[92mINFO \u001b[0m:      \t              (41, tensor(75.7170, device='cuda:0')),\n",
      "\u001b[92mINFO \u001b[0m:      \t              (42, tensor(75.7170, device='cuda:0')),\n",
      "\u001b[92mINFO \u001b[0m:      \t              (43, tensor(74.3786, device='cuda:0')),\n",
      "\u001b[92mINFO \u001b[0m:      \t              (44, tensor(75.9082, device='cuda:0')),\n",
      "\u001b[92mINFO \u001b[0m:      \t              (45, tensor(75.9082, device='cuda:0')),\n",
      "\u001b[92mINFO \u001b[0m:      \t              (46, tensor(75.3346, device='cuda:0')),\n",
      "\u001b[92mINFO \u001b[0m:      \t              (47, tensor(75.4302, device='cuda:0')),\n",
      "\u001b[92mINFO \u001b[0m:      \t              (48, tensor(75.9082, device='cuda:0')),\n",
      "\u001b[92mINFO \u001b[0m:      \t              (49, tensor(75.7170, device='cuda:0')),\n",
      "\u001b[92mINFO \u001b[0m:      \t              (50, tensor(76.0038, device='cuda:0')),\n",
      "\u001b[92mINFO \u001b[0m:      \t              (51, tensor(76.0994, device='cuda:0')),\n",
      "\u001b[92mINFO \u001b[0m:      \t              (52, tensor(76.0994, device='cuda:0')),\n",
      "\u001b[92mINFO \u001b[0m:      \t              (53, tensor(76.0038, device='cuda:0')),\n",
      "\u001b[92mINFO \u001b[0m:      \t              (54, tensor(76.2906, device='cuda:0')),\n",
      "\u001b[92mINFO \u001b[0m:      \t              (55, tensor(76.2906, device='cuda:0')),\n",
      "\u001b[92mINFO \u001b[0m:      \t              (56, tensor(74.4742, device='cuda:0')),\n",
      "\u001b[92mINFO \u001b[0m:      \t              (57, tensor(76.1950, device='cuda:0')),\n",
      "\u001b[92mINFO \u001b[0m:      \t              (58, tensor(76.2906, device='cuda:0')),\n",
      "\u001b[92mINFO \u001b[0m:      \t              (59, tensor(75.5258, device='cuda:0')),\n",
      "\u001b[92mINFO \u001b[0m:      \t              (60, tensor(76.2906, device='cuda:0')),\n",
      "\u001b[92mINFO \u001b[0m:      \t              (61, tensor(76.2906, device='cuda:0')),\n",
      "\u001b[92mINFO \u001b[0m:      \t              (62, tensor(75.7170, device='cuda:0')),\n",
      "\u001b[92mINFO \u001b[0m:      \t              (63, tensor(75.9082, device='cuda:0')),\n",
      "\u001b[92mINFO \u001b[0m:      \t              (64, tensor(74.2830, device='cuda:0')),\n",
      "\u001b[92mINFO \u001b[0m:      \t              (65, tensor(74.9522, device='cuda:0')),\n",
      "\u001b[92mINFO \u001b[0m:      \t              (66, tensor(76.2906, device='cuda:0')),\n",
      "\u001b[92mINFO \u001b[0m:      \t              (67, tensor(75.7170, device='cuda:0')),\n",
      "\u001b[92mINFO \u001b[0m:      \t              (68, tensor(76.2906, device='cuda:0')),\n",
      "\u001b[92mINFO \u001b[0m:      \t              (69, tensor(76.2906, device='cuda:0')),\n",
      "\u001b[92mINFO \u001b[0m:      \t              (70, tensor(76.2906, device='cuda:0')),\n",
      "\u001b[92mINFO \u001b[0m:      \t              (71, tensor(76.4818, device='cuda:0')),\n",
      "\u001b[92mINFO \u001b[0m:      \t              (72, tensor(76.5774, device='cuda:0')),\n",
      "\u001b[92mINFO \u001b[0m:      \t              (73, tensor(76.3862, device='cuda:0')),\n",
      "\u001b[92mINFO \u001b[0m:      \t              (74, tensor(76.3862, device='cuda:0')),\n",
      "\u001b[92mINFO \u001b[0m:      \t              (75, tensor(76.6730, device='cuda:0')),\n",
      "\u001b[92mINFO \u001b[0m:      \t              (76, tensor(75.6214, device='cuda:0')),\n",
      "\u001b[92mINFO \u001b[0m:      \t              (77, tensor(76.3862, device='cuda:0')),\n",
      "\u001b[92mINFO \u001b[0m:      \t              (78, tensor(76.4818, device='cuda:0')),\n",
      "\u001b[92mINFO \u001b[0m:      \t              (79, tensor(76.3862, device='cuda:0')),\n",
      "\u001b[92mINFO \u001b[0m:      \t              (80, tensor(76.3862, device='cuda:0')),\n",
      "\u001b[92mINFO \u001b[0m:      \t              (81, tensor(76.8642, device='cuda:0')),\n",
      "\u001b[92mINFO \u001b[0m:      \t              (82, tensor(76.0038, device='cuda:0')),\n",
      "\u001b[92mINFO \u001b[0m:      \t              (83, tensor(75.6214, device='cuda:0')),\n",
      "\u001b[92mINFO \u001b[0m:      \t              (84, tensor(75.7170, device='cuda:0')),\n",
      "\u001b[92mINFO \u001b[0m:      \t              (85, tensor(76.5774, device='cuda:0')),\n",
      "\u001b[92mINFO \u001b[0m:      \t              (86, tensor(76.3862, device='cuda:0')),\n",
      "\u001b[92mINFO \u001b[0m:      \t              (87, tensor(76.0038, device='cuda:0')),\n",
      "\u001b[92mINFO \u001b[0m:      \t              (88, tensor(76.3862, device='cuda:0')),\n",
      "\u001b[92mINFO \u001b[0m:      \t              (89, tensor(75.8126, device='cuda:0')),\n",
      "\u001b[92mINFO \u001b[0m:      \t              (90, tensor(76.6730, device='cuda:0')),\n",
      "\u001b[92mINFO \u001b[0m:      \t              (91, tensor(76.6730, device='cuda:0')),\n",
      "\u001b[92mINFO \u001b[0m:      \t              (92, tensor(76.4818, device='cuda:0')),\n",
      "\u001b[92mINFO \u001b[0m:      \t              (93, tensor(76.2906, device='cuda:0')),\n",
      "\u001b[92mINFO \u001b[0m:      \t              (94, tensor(76.4818, device='cuda:0')),\n",
      "\u001b[92mINFO \u001b[0m:      \t              (95, tensor(76.0038, device='cuda:0')),\n",
      "\u001b[92mINFO \u001b[0m:      \t              (96, tensor(76.4818, device='cuda:0')),\n",
      "\u001b[92mINFO \u001b[0m:      \t              (97, tensor(76.5774, device='cuda:0')),\n",
      "\u001b[92mINFO \u001b[0m:      \t              (98, tensor(76.0994, device='cuda:0')),\n",
      "\u001b[92mINFO \u001b[0m:      \t              (99, tensor(76.0994, device='cuda:0')),\n",
      "\u001b[92mINFO \u001b[0m:      \t              (100, tensor(76.3862, device='cuda:0'))]}\n",
      "\u001b[92mINFO \u001b[0m:      \n"
     ]
    },
    {
     "name": "stdout",
     "output_type": "stream",
     "text": [
      "Server-side evaluation loss 0.03411823511123657 / accuracy 76.38623046875\n"
     ]
    }
   ],
   "source": [
    "# client will be allocated 1x CPU and 0x GPUs\n",
    "if device.type == 'cuda':\n",
    "    # here we are assigning an entire GPU for each client.\n",
    "    client_resources = {\"num_cpus\": 1, \"num_gpus\": 1.0}\n",
    "    # Refer to our documentation for more details about Flower Simulations\n",
    "    # and how to setup these `client_resources`.\n",
    "    \n",
    "# The `evaluate` function will be called by Flower after every round\n",
    "fl_acc = []\n",
    "def evaluate(server_round,parameters,config,):\n",
    "    testloader = azure_test_loader\n",
    "    set_parameters(net_FL, parameters)  # Update model with the latest parameters\n",
    "    loss, accuracy = test(net_FL, testloader, configuration)\n",
    "    print(f\"Server-side evaluation loss {loss} / accuracy {accuracy}\")\n",
    "    fl_acc.append(accuracy)\n",
    "    metrics = {'FL loss': loss,\n",
    "               \"FL accuracy\": accuracy}\n",
    "    wandb.log(metrics)\n",
    "    return loss, {\"accuracy\": accuracy}\n",
    "\n",
    "def weighted_average(metrics):\n",
    "    # Multiply accuracy of each client by number of examples used\n",
    "    accuracies = [num_examples * m[\"accuracy\"] for num_examples, m in metrics]\n",
    "    examples = [num_examples for num_examples, _ in metrics]\n",
    "\n",
    "    # Aggregate and return custom metric (weighted average)\n",
    "    return {\"accuracy\": sum(accuracies) / sum(examples)}\n",
    "params = get_parameters(net_FL)\n",
    "strategy = fl.server.strategy.FedAvg(\n",
    "    fraction_fit=1,\n",
    "    fraction_evaluate=0.5,\n",
    "    min_fit_clients=2,\n",
    "    min_evaluate_clients=1,\n",
    "    min_available_clients=1,\n",
    "    evaluate_fn=evaluate,\n",
    "    initial_parameters= ndarrays_to_parameters(params),\n",
    "    evaluate_metrics_aggregation_fn=weighted_average # <-- pass the metric aggregation function\n",
    ")\n",
    "# Start simulation\n",
    "history = fl.simulation.start_simulation(\n",
    "    client_fn=client_fn,\n",
    "    num_clients=4,\n",
    "    config=fl.server.ServerConfig(num_rounds=configuration['num_rounds_FL']),\n",
    "    strategy=strategy,\n",
    "    client_resources=client_resources,\n",
    ")"
   ]
  },
  {
   "cell_type": "code",
   "execution_count": 13,
   "metadata": {},
   "outputs": [
    {
     "data": {
      "text/plain": [
       "Text(0.5, 0, 'Rounds')"
      ]
     },
     "execution_count": 13,
     "metadata": {},
     "output_type": "execute_result"
    },
    {
     "data": {
      "image/png": "[encoded data removed]",
      "text/plain": [
       "<Figure size 640x480 with 1 Axes>"
      ]
     },
     "metadata": {},
     "output_type": "display_data"
    }
   ],
   "source": [
    "fl_acc\n",
    "f = []\n",
    "for i in fl_acc:\n",
    "    f.append(float(i))\n",
    "plt.plot(f)\n",
    "plt.title('Federated Transfer Learning test accuracies')\n",
    "plt.ylabel('Accuracies')\n",
    "plt.xlabel('Rounds')"
   ]
  }
 ],
 "metadata": {
  "kernelspec": {
   "display_name": "Python 3 (ipykernel)",
   "language": "python",
   "name": "python3"
  },
  "language_info": {
   "codemirror_mode": {
    "name": "ipython",
    "version": 3
   },
   "file_extension": ".py",
   "mimetype": "text/x-python",
   "name": "python",
   "nbconvert_exporter": "python",
   "pygments_lexer": "ipython3",
   "version": "3.10.0"
  }
 },
 "nbformat": 4,
 "nbformat_minor": 2
}
