{
 "cells": [
  {
   "cell_type": "code",
   "execution_count": 1,
   "metadata": {},
   "outputs": [
    {
     "name": "stdout",
     "output_type": "stream",
     "text": [
      "Using cuda.\n"
     ]
    }
   ],
   "source": [
    "%matplotlib inline\n",
    "import matplotlib.pyplot as plt\n",
    "import torchvision\n",
    "from torch.utils.data import TensorDataset, random_split, DataLoader\n",
    "import torch.nn as nn\n",
    "import time\n",
    "import wandb\n",
    "from sklearn.metrics import accuracy_score\n",
    "from imblearn.over_sampling import SMOTE\n",
    "import torch\n",
    "from datetime import datetime\n",
    "from collections import OrderedDict\n",
    "from sklearn.decomposition import PCA\n",
    "import flwr as fl\n",
    "import random\n",
    "from flwr.common import Metrics \n",
    "from time import gmtime, strftime\n",
    "from flwr.server.strategy import FedAvg, FedAdagrad, FedProx\n",
    "from flwr.common import ndarrays_to_parameters, NDArrays, Scalar, Context\n",
    "\n",
    "now = datetime.now() # current date and time\n",
    "date_time = now.strftime(\"%d-%m-%Y_%H:%M:%S\")\n",
    "device = torch.device('cuda' if torch.cuda.is_available() else 'cpu')\n",
    "print(f'Using {device}.')"
   ]
  },
  {
   "cell_type": "code",
   "execution_count": 2,
   "metadata": {},
   "outputs": [
    {
     "name": "stderr",
     "output_type": "stream",
     "text": [
      "\u001b[34m\u001b[1mwandb\u001b[0m: Currently logged in as: \u001b[33md-hadjikazemi\u001b[0m (\u001b[33md-hadjikazemi-queen-mary-university-of-london\u001b[0m). Use \u001b[1m`wandb login --relogin`\u001b[0m to force relogin\n",
      "/home/diba/miniconda3/envs/FTL/lib/python3.10/site-packages/wandb/sdk/lib/ipython.py:77: DeprecationWarning: Importing display from IPython.core.display is deprecated since IPython 7.14, please import from IPython display\n",
      "  from IPython.core.display import HTML, display  # type: ignore\n"
     ]
    },
    {
     "data": {
      "text/html": [
       "wandb version 0.17.6 is available!  To upgrade, please run:\n",
       " $ pip install wandb --upgrade"
      ],
      "text/plain": [
       "<IPython.core.display.HTML object>"
      ]
     },
     "metadata": {},
     "output_type": "display_data"
    },
    {
     "data": {
      "text/html": [
       "Tracking run with wandb version 0.17.4"
      ],
      "text/plain": [
       "<IPython.core.display.HTML object>"
      ]
     },
     "metadata": {},
     "output_type": "display_data"
    },
    {
     "data": {
      "text/html": [
       "Run data is saved locally in <code>/home/diba/wandb/run-20240812_155209-y6x3az9p</code>"
      ],
      "text/plain": [
       "<IPython.core.display.HTML object>"
      ]
     },
     "metadata": {},
     "output_type": "display_data"
    },
    {
     "data": {
      "text/html": [
       "Syncing run <strong><a href='https://wandb.ai/d-hadjikazemi-queen-mary-university-of-london/FTL%20unified/runs/y6x3az9p' target=\"_blank\">centralized training_12-08-2024_15:52:08</a></strong> to <a href='https://wandb.ai/d-hadjikazemi-queen-mary-university-of-london/FTL%20unified' target=\"_blank\">Weights & Biases</a> (<a href='https://wandb.me/run' target=\"_blank\">docs</a>)<br/>"
      ],
      "text/plain": [
       "<IPython.core.display.HTML object>"
      ]
     },
     "metadata": {},
     "output_type": "display_data"
    },
    {
     "data": {
      "text/html": [
       " View project at <a href='https://wandb.ai/d-hadjikazemi-queen-mary-university-of-london/FTL%20unified' target=\"_blank\">https://wandb.ai/d-hadjikazemi-queen-mary-university-of-london/FTL%20unified</a>"
      ],
      "text/plain": [
       "<IPython.core.display.HTML object>"
      ]
     },
     "metadata": {},
     "output_type": "display_data"
    },
    {
     "data": {
      "text/html": [
       " View run at <a href='https://wandb.ai/d-hadjikazemi-queen-mary-university-of-london/FTL%20unified/runs/y6x3az9p' target=\"_blank\">https://wandb.ai/d-hadjikazemi-queen-mary-university-of-london/FTL%20unified/runs/y6x3az9p</a>"
      ],
      "text/plain": [
       "<IPython.core.display.HTML object>"
      ]
     },
     "metadata": {},
     "output_type": "display_data"
    }
   ],
   "source": [
    "wandb.init(\n",
    "    # set the wandb project where this run will be logged\n",
    "    project=\"FTL unified\",\n",
    "    name= \"centralized training_{}\".format(date_time),\n",
    "    # track hyperparameters and run metadata\n",
    "    config={\n",
    "    \"learning_rate\": 0.0001,\n",
    "    \"architecture\": \"CNN\",\n",
    "    \"epochs\": 100,\n",
    "    \"batch_size\": 64,\n",
    "    \"decay\":0,\n",
    "    'dropout': 0.001,\n",
    "    \"learning_rate_FL\": 0.0001,\n",
    "    \"batch_size_FL\": 64,\n",
    "    \"decay_FL\": 1e-5,\n",
    "    'num_rounds_FL': 50, \n",
    "    'epochs_FL': 100,\n",
    "    'dropout_FL': 0.001\n",
    "    }\n",
    ")\n",
    "\n",
    "configuration  = dict(wandb.config)\n",
    "\n",
    "def data_loading_AZURE(data_paths, label_paths, batch_size, train_ratio=0.8, val_ratio=0.05, transfer_ratio= 0.4):\n",
    "    trainloader = []\n",
    "    valloader = []\n",
    "    traindata_list = []\n",
    "    trainlabel_list = []\n",
    "    valdata_list = []\n",
    "    vallabel_list = []\n",
    "    testdata_list = []\n",
    "    testlabels_list = []\n",
    "    for i in range(len(data_paths)):\n",
    "        # importing from paths\n",
    "        data = torch.load(data_paths[i])\n",
    "        labels = torch.load(label_paths[i])\n",
    "        data = nn.functional.normalize(data, dim=1)\n",
    "        # reshaping the dataset so  the channels will be the second dimension.\n",
    "        data = data.permute(0, 2, 1)\n",
    "        n_samples, n_channels, n_features = data.shape\n",
    "        X_reshaped = data.reshape(n_samples, -1) \n",
    "        # Apply SMOTE\n",
    "        smote = SMOTE(sampling_strategy='minority')\n",
    "        data_resampled, labels_resampled = smote.fit_resample(X_reshaped, labels)\n",
    "        # Reshape X_resampled back to 3D\n",
    "        data_resampled = data_resampled.reshape(-1, n_channels, n_features)\n",
    "        data_resampled = torch.tensor(data_resampled)\n",
    "        labels_resampled = torch.tensor(labels_resampled)\n",
    "        dataset = TensorDataset(data_resampled, labels_resampled)\n",
    "        test_ratio = 1 - (train_ratio + val_ratio)\n",
    "        print(test_ratio)\n",
    "        test_size = int(test_ratio * len(dataset))\n",
    "        print(test_size)\n",
    "        transfer_size = int((len(dataset) - test_size)*transfer_ratio)\n",
    "        train_size_t = int(train_ratio * transfer_size)\n",
    "        val_size_t = transfer_size - train_size_t\n",
    "        centralized_size = len(dataset) - (transfer_size + test_size)\n",
    "        train_size = int(centralized_size * train_ratio)\n",
    "        val_size = centralized_size - train_size\n",
    "\n",
    "        train_dataset, val_dataset, test_dataset, train_dataset_transfer, val_dataset_transfer = random_split(dataset, [train_size, val_size, test_size, train_size_t, val_size_t])\n",
    "\n",
    "        trainloader.append(DataLoader(train_dataset, batch_size=batch_size, shuffle=True))\n",
    "        valloader.append(DataLoader(val_dataset, batch_size=batch_size, shuffle=True))\n",
    "\n",
    "        traindata_list.append(train_dataset_transfer.dataset.tensors[0][train_dataset_transfer.indices])\n",
    "        trainlabel_list.append(train_dataset_transfer.dataset.tensors[1][train_dataset_transfer.indices])\n",
    "        valdata_list.append(val_dataset_transfer.dataset.tensors[0][val_dataset_transfer.indices])\n",
    "        vallabel_list.append(val_dataset_transfer.dataset.tensors[1][val_dataset_transfer.indices])\n",
    "        testdata_list.append(test_dataset.dataset.tensors[0][test_dataset.indices])\n",
    "        testlabels_list.append(test_dataset.dataset.tensors[1][test_dataset.indices])\n",
    "\n",
    "    traindata = torch.cat(traindata_list, dim=0)\n",
    "    trainlabels = torch.cat(trainlabel_list, dim=0)\n",
    "    valdata = torch.cat(valdata_list, dim=0)\n",
    "    vallabels = torch.cat(vallabel_list, dim=0)\n",
    "    testdata = torch.cat(testdata_list, dim=0)\n",
    "    testlabels = torch.cat(testlabels_list, dim=0)\n",
    "    \n",
    "    # Create a DataLoader for the combined test data\n",
    "    trainloader_transfer = DataLoader(TensorDataset(traindata, trainlabels), batch_size=batch_size, shuffle=False)\n",
    "    valloader_transfer = DataLoader(TensorDataset(valdata, vallabels), batch_size=batch_size, shuffle=False)\n",
    "    testloader = DataLoader(TensorDataset(testdata, testlabels), batch_size=batch_size, shuffle=False)\n",
    "    \n",
    "    return trainloader, valloader, testloader, trainloader_transfer, valloader_transfer\n",
    "\n",
    "def data_loading_NASA(data_path, label_path, batch_size, train_ratio=0.8, val_ratio = 0.5):\n",
    "    data = torch.load(data_path)\n",
    "    labels = torch.load(label_path)\n",
    "    data = nn.functional.normalize(data, dim=1)\n",
    "    # reshaping the dataset so  the channels will be the second dimension.\n",
    "    data = data.permute(0, 2, 1)\n",
    "    print(data.size())\n",
    "\n",
    "    def pca_reduction(data, n_components=4):\n",
    "        data_reshaped = data.reshape(-1, data.shape[1])\n",
    "\n",
    "        # Apply PCA\n",
    "        pca = PCA(n_components=n_components)\n",
    "        \n",
    "        data_reduced = pca.fit_transform(data_reshaped)\n",
    "\n",
    "        # Reshape back to (samples, n_components, time_steps)\n",
    "        data_reduced = data_reduced.reshape(data.shape[0], n_components, data.shape[2])\n",
    "\n",
    "        return data_reduced\n",
    "    print(data.dtype)\n",
    "    data = pca_reduction(data, n_components=4)\n",
    "    data =(torch.from_numpy(data)).float()\n",
    "    n_samples, n_channels, n_features = data.shape\n",
    "    X_reshaped = data.reshape(n_samples, -1) \n",
    "    \n",
    "    n_samples, n_channels, n_features = data.shape\n",
    "    X_reshaped = data.reshape(n_samples, -1) \n",
    "    \n",
    "    # Apply SMOTE\n",
    "    smote = SMOTE(sampling_strategy='minority')\n",
    "    data_resampled, labels_resampled = smote.fit_resample(X_reshaped, labels)\n",
    "    print((labels_resampled==1).sum())\n",
    "    # Reshape X_resampled back to 3D\n",
    "    data_resampled = data_resampled.reshape(-1, n_channels, n_features)\n",
    "    print(data_resampled.shape)\n",
    "    data_resampled = torch.tensor(data_resampled)\n",
    "    labels_resampled = torch.tensor(labels_resampled)\n",
    "    dataset = TensorDataset(data_resampled, labels_resampled)\n",
    "    train_size = int(train_ratio * len(dataset))\n",
    "    test_size = len(dataset) - train_size\n",
    "    val_size = int(val_ratio * test_size)\n",
    "    test_size = test_size - val_size\n",
    "    train_dataset, val_dataset, test_dataset = random_split(dataset, [train_size, val_size, test_size])\n",
    "    return DataLoader(train_dataset, batch_size=batch_size, shuffle=True), DataLoader(val_dataset, batch_size=batch_size, shuffle=True), DataLoader(test_dataset, batch_size=batch_size, shuffle=False)\n"
   ]
  },
  {
   "cell_type": "code",
   "execution_count": 3,
   "metadata": {},
   "outputs": [],
   "source": [
    "# Define the CNN architecture\n",
    "class Neural_Network(nn.Module):\n",
    "    def __init__(self):\n",
    "        super(Neural_Network, self).__init__()\n",
    "        self.conv1 = nn.Conv1d(in_channels=4, out_channels=8, kernel_size=5)\n",
    "        self.bn1 = nn.BatchNorm1d(8)\n",
    "        self.conv2 = nn.Conv1d(in_channels=8, out_channels=8, kernel_size=5)\n",
    "        self.bn2 = nn.BatchNorm1d(8)\n",
    "        self.pool = nn.MaxPool1d(kernel_size=2, padding=0, stride=1)\n",
    "        # the size of the out channels x number  of nodes \n",
    "        self.fc1 = nn.Linear(328, 200)\n",
    "        self.fc2 = nn.Linear(200, 2)\n",
    "        self.flatten = nn.Flatten()\n",
    "        self.relu = nn.ReLU()\n",
    "        self.dropout = nn.Dropout(configuration['dropout'])\n",
    "        self.sigmoid = nn.Sigmoid()\n",
    "\n",
    "    def forward(self, x):\n",
    "        # x = self.relu(self.conv1(x))\n",
    "        # x = self.relu(self.conv2(x))\n",
    "        x = self.relu(self.bn1(self.conv1(x)))\n",
    "        x = self.relu(self.bn2(self.conv2(x)))\n",
    "        x = self.dropout(x)\n",
    "        x = self.pool(x)\n",
    "        x = self.flatten(x)\n",
    "        x = self.relu(self.fc1(x))\n",
    "        x - self.dropout(x)\n",
    "        x = self.sigmoid(self.fc2(x))\n",
    "        return x"
   ]
  },
  {
   "cell_type": "code",
   "execution_count": 4,
   "metadata": {},
   "outputs": [],
   "source": [
    "def correct(logits, y):\n",
    "    y_hat = logits.argmax(axis=1) # Finds the column with the highest value for each row of `logits`.\n",
    "    return (y_hat == y).float().sum() # Computes the number of times that `y_hat` and `y` match.\n",
    "\n",
    "def evaluate_metric(model, data_iter, metric):\n",
    "    \"\"\"Compute the average `metric` of the model on a dataset.\"\"\"\n",
    "    c = torch.tensor(0.).to(device)\n",
    "    n = torch.tensor(0.).to(device)\n",
    "    for X, y in data_iter:\n",
    "        X, y = X.to(device), y.to(device) # Moves data to `device`\n",
    "        logits = model(X)\n",
    "        c += metric(logits, y)\n",
    "        n += len(y)\n",
    "    return c*100 / n\n"
   ]
  },
  {
   "cell_type": "code",
   "execution_count": 5,
   "metadata": {},
   "outputs": [
    {
     "name": "stdout",
     "output_type": "stream",
     "text": [
      "torch.Size([848, 24, 50])\n",
      "torch.float32\n",
      "685\n",
      "(1370, 4, 50)\n"
     ]
    }
   ],
   "source": [
    "def train(model, train_loaders,test_loader, config, epochs, name):\n",
    "    loss = nn.CrossEntropyLoss()\n",
    "    optimizer = torch.optim.Adam(model.parameters(), lr=config['learning_rate'], weight_decay=config['decay'])\n",
    "    losses = [] # Stores the loss for each training batch\n",
    "    train_accs = [] # Stores the training accuracy after each epoch\n",
    "    test_accs = []\n",
    "    for epoch in range(epochs):\n",
    "        print(f'\\nEpoch {epoch + 1}/{epochs}')\n",
    "        total, epoch_loss = 0, 0.0\n",
    "        model.train() # This is necessary because batch normalization behaves differently between training and evaluation\n",
    "        \n",
    "        for X, y in train_loaders:\n",
    "            X, y = X.to(device), y.to(device) # Moves data to `device`\n",
    "            logits = model(X) # Computes the logits for the batch of images `X`\n",
    "            l = loss(logits, y) # Computes the loss given the `logits` and the class vector `y`\n",
    "            optimizer.zero_grad() # Zeroes the gradients stored in the model parameters\n",
    "            l.backward() # Computes the gradient of the loss `l` with respect to the model parameters\n",
    "\n",
    "            optimizer.step() # Updates the model parameters based on the gradients stored inside them\n",
    "            epoch_loss += l\n",
    "            \n",
    "        model.eval() # This is necessary because batch normalization behaves differently between training and evaluation\n",
    "        train_acc = evaluate_metric(model, train_loaders, correct)\n",
    "        train_accs.append(train_acc)\n",
    "        test_acc = evaluate_metric(model, test_loader, correct)\n",
    "        test_accs.append(test_acc)\n",
    "        wandb.log({f'{name} training accuracy': train_acc,\n",
    "                   f'{name} validationaccuracy': test_acc})\n",
    "        print(f'Epoch {epoch+1}: Training accuracy: {train_accs[-1]} Testing accuracy: {test_accs[-1]}.') # Computes and displays training/testing dataset accuracy.\n",
    "    plt.plot(list(map(lambda x: x.cpu(),train_accs)), label='Training accuracy')\n",
    "    plt.plot(list(map(lambda x: x.cpu(),test_accs)), label='Validation accuracy')\n",
    "    plt.title('accuracies')\n",
    "    plt.legend()\n",
    "def test(model, test_loaders,  configuration):\n",
    "    loss = nn.CrossEntropyLoss()\n",
    "    test_accs = []\n",
    "    optimizer = torch.optim.Adam(model.parameters(), lr=configuration['learning_rate'], weight_decay=configuration['decay'])\n",
    "    test_acc = []\n",
    "    l = 0.0\n",
    "    model.eval() # This is necessary because batch normalization behaves differently between training and evaluation\n",
    "    for X, y in test_loaders:    \n",
    "        X, y = X.to(device), y.to(device) # Moves data to `device`\n",
    "        logits = model(X)\n",
    "        l = loss(logits, y).item()\n",
    "        test_acc = evaluate_metric(model, test_loaders, correct)\n",
    "        test_accs.append(test_acc)\n",
    "        \n",
    "        # wandb.log({\"test_acc\": test_acc})\n",
    "        l /= len(test_loaders)\n",
    "        end_time = time.perf_counter()\n",
    "        # print('Testing accuracy: {test_accs[-1]}.')\n",
    "        return l, test_acc\n",
    "\n",
    "NASA = data_loading_NASA(data_path='NASA_data_50.pt', label_path= 'NASA_label_50.pt', batch_size= configuration['batch_size'])"
   ]
  },
  {
   "cell_type": "code",
   "execution_count": 6,
   "metadata": {},
   "outputs": [
    {
     "name": "stdout",
     "output_type": "stream",
     "text": [
      "\n",
      "Epoch 1/100\n",
      "Epoch 1: Training accuracy: 51.0036506652832 Testing accuracy: 43.79561996459961.\n",
      "\n",
      "Epoch 2/100\n",
      "Epoch 2: Training accuracy: 51.733577728271484 Testing accuracy: 46.715328216552734.\n",
      "\n",
      "Epoch 3/100\n",
      "Epoch 3: Training accuracy: 52.73722457885742 Testing accuracy: 47.445255279541016.\n",
      "\n",
      "Epoch 4/100\n",
      "Epoch 4: Training accuracy: 63.22992706298828 Testing accuracy: 57.66423416137695.\n",
      "\n",
      "Epoch 5/100\n",
      "Epoch 5: Training accuracy: 60.94890594482422 Testing accuracy: 56.93430709838867.\n",
      "\n",
      "Epoch 6/100\n",
      "Epoch 6: Training accuracy: 59.39781188964844 Testing accuracy: 52.554744720458984.\n",
      "\n",
      "Epoch 7/100\n",
      "Epoch 7: Training accuracy: 64.32481384277344 Testing accuracy: 56.20438003540039.\n",
      "\n",
      "Epoch 8/100\n",
      "Epoch 8: Training accuracy: 63.3211669921875 Testing accuracy: 54.01459884643555.\n",
      "\n",
      "Epoch 9/100\n",
      "Epoch 9: Training accuracy: 59.8540153503418 Testing accuracy: 52.554744720458984.\n",
      "\n",
      "Epoch 10/100\n",
      "Epoch 10: Training accuracy: 68.6131362915039 Testing accuracy: 54.74452590942383.\n",
      "\n",
      "Epoch 11/100\n",
      "Epoch 11: Training accuracy: 68.33941650390625 Testing accuracy: 53.284671783447266.\n",
      "\n",
      "Epoch 12/100\n",
      "Epoch 12: Training accuracy: 71.62408447265625 Testing accuracy: 56.93430709838867.\n",
      "\n",
      "Epoch 13/100\n",
      "Epoch 13: Training accuracy: 72.81021881103516 Testing accuracy: 57.66423416137695.\n",
      "\n",
      "Epoch 14/100\n",
      "Epoch 14: Training accuracy: 71.89781188964844 Testing accuracy: 56.20438003540039.\n",
      "\n",
      "Epoch 15/100\n",
      "Epoch 15: Training accuracy: 74.08759307861328 Testing accuracy: 59.124088287353516.\n",
      "\n",
      "Epoch 16/100\n",
      "Epoch 16: Training accuracy: 73.90511322021484 Testing accuracy: 62.04379653930664.\n",
      "\n",
      "Epoch 17/100\n",
      "Epoch 17: Training accuracy: 73.99635314941406 Testing accuracy: 59.124088287353516.\n",
      "\n",
      "Epoch 18/100\n",
      "Epoch 18: Training accuracy: 73.72262573242188 Testing accuracy: 60.58394241333008.\n",
      "\n",
      "Epoch 19/100\n",
      "Epoch 19: Training accuracy: 74.81752014160156 Testing accuracy: 62.04379653930664.\n",
      "\n",
      "Epoch 20/100\n",
      "Epoch 20: Training accuracy: 74.45255279541016 Testing accuracy: 64.23357391357422.\n",
      "\n",
      "Epoch 21/100\n",
      "Epoch 21: Training accuracy: 75.27371978759766 Testing accuracy: 63.5036506652832.\n",
      "\n",
      "Epoch 22/100\n",
      "Epoch 22: Training accuracy: 75.18247985839844 Testing accuracy: 63.5036506652832.\n",
      "\n",
      "Epoch 23/100\n",
      "Epoch 23: Training accuracy: 75.63868713378906 Testing accuracy: 62.77372360229492.\n",
      "\n",
      "Epoch 24/100\n",
      "Epoch 24: Training accuracy: 75.0 Testing accuracy: 64.23357391357422.\n",
      "\n",
      "Epoch 25/100\n",
      "Epoch 25: Training accuracy: 75.91240692138672 Testing accuracy: 62.77372360229492.\n",
      "\n",
      "Epoch 26/100\n",
      "Epoch 26: Training accuracy: 75.63868713378906 Testing accuracy: 63.5036506652832.\n",
      "\n",
      "Epoch 27/100\n",
      "Epoch 27: Training accuracy: 76.1861343383789 Testing accuracy: 62.77372360229492.\n",
      "\n",
      "Epoch 28/100\n",
      "Epoch 28: Training accuracy: 76.45985412597656 Testing accuracy: 63.5036506652832.\n",
      "\n",
      "Epoch 29/100\n",
      "Epoch 29: Training accuracy: 76.642333984375 Testing accuracy: 64.9635009765625.\n",
      "\n",
      "Epoch 30/100\n",
      "Epoch 30: Training accuracy: 77.09854125976562 Testing accuracy: 62.77372360229492.\n",
      "\n",
      "Epoch 31/100\n",
      "Epoch 31: Training accuracy: 77.55474090576172 Testing accuracy: 62.77372360229492.\n",
      "\n",
      "Epoch 32/100\n",
      "Epoch 32: Training accuracy: 77.28102111816406 Testing accuracy: 64.23357391357422.\n",
      "\n",
      "Epoch 33/100\n",
      "Epoch 33: Training accuracy: 78.10218811035156 Testing accuracy: 67.15328216552734.\n",
      "\n",
      "Epoch 34/100\n",
      "Epoch 34: Training accuracy: 78.6496353149414 Testing accuracy: 64.9635009765625.\n",
      "\n",
      "Epoch 35/100\n",
      "Epoch 35: Training accuracy: 78.37591552734375 Testing accuracy: 64.9635009765625.\n",
      "\n",
      "Epoch 36/100\n",
      "Epoch 36: Training accuracy: 79.37956237792969 Testing accuracy: 65.69342803955078.\n",
      "\n",
      "Epoch 37/100\n",
      "Epoch 37: Training accuracy: 79.4708023071289 Testing accuracy: 69.34306335449219.\n",
      "\n",
      "Epoch 38/100\n",
      "Epoch 38: Training accuracy: 79.4708023071289 Testing accuracy: 67.15328216552734.\n",
      "\n",
      "Epoch 39/100\n",
      "Epoch 39: Training accuracy: 79.83576965332031 Testing accuracy: 65.69342803955078.\n",
      "\n",
      "Epoch 40/100\n",
      "Epoch 40: Training accuracy: 81.20437622070312 Testing accuracy: 65.69342803955078.\n",
      "\n",
      "Epoch 41/100\n",
      "Epoch 41: Training accuracy: 80.93065643310547 Testing accuracy: 69.34306335449219.\n",
      "\n",
      "Epoch 42/100\n",
      "Epoch 42: Training accuracy: 81.56934356689453 Testing accuracy: 68.6131362915039.\n",
      "\n",
      "Epoch 43/100\n",
      "Epoch 43: Training accuracy: 82.2080307006836 Testing accuracy: 67.15328216552734.\n",
      "\n",
      "Epoch 44/100\n",
      "Epoch 44: Training accuracy: 81.66058349609375 Testing accuracy: 71.53284454345703.\n",
      "\n",
      "Epoch 45/100\n",
      "Epoch 45: Training accuracy: 82.2080307006836 Testing accuracy: 68.6131362915039.\n",
      "\n",
      "Epoch 46/100\n",
      "Epoch 46: Training accuracy: 81.75182342529297 Testing accuracy: 70.80291748046875.\n",
      "\n",
      "Epoch 47/100\n",
      "Epoch 47: Training accuracy: 83.12043762207031 Testing accuracy: 70.07299041748047.\n",
      "\n",
      "Epoch 48/100\n",
      "Epoch 48: Training accuracy: 82.57299041748047 Testing accuracy: 72.26277160644531.\n",
      "\n",
      "Epoch 49/100\n",
      "Epoch 49: Training accuracy: 83.94160461425781 Testing accuracy: 71.53284454345703.\n",
      "\n",
      "Epoch 50/100\n",
      "Epoch 50: Training accuracy: 83.30291748046875 Testing accuracy: 72.9926986694336.\n",
      "\n",
      "Epoch 51/100\n",
      "Epoch 51: Training accuracy: 84.48905181884766 Testing accuracy: 73.72262573242188.\n",
      "\n",
      "Epoch 52/100\n",
      "Epoch 52: Training accuracy: 84.39781188964844 Testing accuracy: 73.72262573242188.\n",
      "\n",
      "Epoch 53/100\n",
      "Epoch 53: Training accuracy: 84.85401153564453 Testing accuracy: 70.80291748046875.\n",
      "\n",
      "Epoch 54/100\n",
      "Epoch 54: Training accuracy: 84.76277160644531 Testing accuracy: 72.9926986694336.\n",
      "\n",
      "Epoch 55/100\n",
      "Epoch 55: Training accuracy: 85.21897888183594 Testing accuracy: 72.26277160644531.\n",
      "\n",
      "Epoch 56/100\n",
      "Epoch 56: Training accuracy: 85.76642608642578 Testing accuracy: 71.53284454345703.\n",
      "\n",
      "Epoch 57/100\n",
      "Epoch 57: Training accuracy: 85.21897888183594 Testing accuracy: 71.53284454345703.\n",
      "\n",
      "Epoch 58/100\n",
      "Epoch 58: Training accuracy: 86.13138580322266 Testing accuracy: 72.9926986694336.\n",
      "\n",
      "Epoch 59/100\n",
      "Epoch 59: Training accuracy: 86.40511322021484 Testing accuracy: 73.72262573242188.\n",
      "\n",
      "Epoch 60/100\n",
      "Epoch 60: Training accuracy: 86.3138656616211 Testing accuracy: 73.72262573242188.\n",
      "\n",
      "Epoch 61/100\n",
      "Epoch 61: Training accuracy: 87.22628021240234 Testing accuracy: 72.9926986694336.\n",
      "\n",
      "Epoch 62/100\n",
      "Epoch 62: Training accuracy: 87.04379272460938 Testing accuracy: 73.72262573242188.\n",
      "\n",
      "Epoch 63/100\n",
      "Epoch 63: Training accuracy: 87.04379272460938 Testing accuracy: 73.72262573242188.\n",
      "\n",
      "Epoch 64/100\n",
      "Epoch 64: Training accuracy: 88.04744720458984 Testing accuracy: 72.9926986694336.\n",
      "\n",
      "Epoch 65/100\n",
      "Epoch 65: Training accuracy: 88.04744720458984 Testing accuracy: 74.45255279541016.\n",
      "\n",
      "Epoch 66/100\n",
      "Epoch 66: Training accuracy: 87.5 Testing accuracy: 74.45255279541016.\n",
      "\n",
      "Epoch 67/100\n",
      "Epoch 67: Training accuracy: 88.04744720458984 Testing accuracy: 75.18247985839844.\n",
      "\n",
      "Epoch 68/100\n",
      "Epoch 68: Training accuracy: 87.40876007080078 Testing accuracy: 75.18247985839844.\n",
      "\n",
      "Epoch 69/100\n",
      "Epoch 69: Training accuracy: 88.59488677978516 Testing accuracy: 75.91240692138672.\n",
      "\n",
      "Epoch 70/100\n",
      "Epoch 70: Training accuracy: 88.50364685058594 Testing accuracy: 75.91240692138672.\n",
      "\n",
      "Epoch 71/100\n",
      "Epoch 71: Training accuracy: 88.6861343383789 Testing accuracy: 75.91240692138672.\n",
      "\n",
      "Epoch 72/100\n",
      "Epoch 72: Training accuracy: 88.41240692138672 Testing accuracy: 76.642333984375.\n",
      "\n",
      "Epoch 73/100\n",
      "Epoch 73: Training accuracy: 88.95985412597656 Testing accuracy: 75.91240692138672.\n",
      "\n",
      "Epoch 74/100\n",
      "Epoch 74: Training accuracy: 89.59854125976562 Testing accuracy: 75.18247985839844.\n",
      "\n",
      "Epoch 75/100\n",
      "Epoch 75: Training accuracy: 89.32481384277344 Testing accuracy: 77.37226104736328.\n",
      "\n",
      "Epoch 76/100\n",
      "Epoch 76: Training accuracy: 89.68978118896484 Testing accuracy: 75.18247985839844.\n",
      "\n",
      "Epoch 77/100\n",
      "Epoch 77: Training accuracy: 89.78102111816406 Testing accuracy: 75.91240692138672.\n",
      "\n",
      "Epoch 78/100\n",
      "Epoch 78: Training accuracy: 89.87226104736328 Testing accuracy: 77.37226104736328.\n",
      "\n",
      "Epoch 79/100\n",
      "Epoch 79: Training accuracy: 89.87226104736328 Testing accuracy: 75.91240692138672.\n",
      "\n",
      "Epoch 80/100\n",
      "Epoch 80: Training accuracy: 90.05474090576172 Testing accuracy: 75.18247985839844.\n",
      "\n",
      "Epoch 81/100\n",
      "Epoch 81: Training accuracy: 90.23722839355469 Testing accuracy: 76.642333984375.\n",
      "\n",
      "Epoch 82/100\n",
      "Epoch 82: Training accuracy: 90.51094818115234 Testing accuracy: 75.91240692138672.\n",
      "\n",
      "Epoch 83/100\n",
      "Epoch 83: Training accuracy: 89.78102111816406 Testing accuracy: 76.642333984375.\n",
      "\n",
      "Epoch 84/100\n",
      "Epoch 84: Training accuracy: 90.69342803955078 Testing accuracy: 77.37226104736328.\n",
      "\n",
      "Epoch 85/100\n",
      "Epoch 85: Training accuracy: 90.96715545654297 Testing accuracy: 75.18247985839844.\n",
      "\n",
      "Epoch 86/100\n",
      "Epoch 86: Training accuracy: 90.96715545654297 Testing accuracy: 78.10218811035156.\n",
      "\n",
      "Epoch 87/100\n",
      "Epoch 87: Training accuracy: 90.05474090576172 Testing accuracy: 78.83211517333984.\n",
      "\n",
      "Epoch 88/100\n",
      "Epoch 88: Training accuracy: 91.78832244873047 Testing accuracy: 77.37226104736328.\n",
      "\n",
      "Epoch 89/100\n",
      "Epoch 89: Training accuracy: 91.42335510253906 Testing accuracy: 77.37226104736328.\n",
      "\n",
      "Epoch 90/100\n",
      "Epoch 90: Training accuracy: 91.60584259033203 Testing accuracy: 78.10218811035156.\n",
      "\n",
      "Epoch 91/100\n",
      "Epoch 91: Training accuracy: 91.42335510253906 Testing accuracy: 76.642333984375.\n",
      "\n",
      "Epoch 92/100\n",
      "Epoch 92: Training accuracy: 91.60584259033203 Testing accuracy: 78.83211517333984.\n",
      "\n",
      "Epoch 93/100\n",
      "Epoch 93: Training accuracy: 91.9708023071289 Testing accuracy: 77.37226104736328.\n",
      "\n",
      "Epoch 94/100\n",
      "Epoch 94: Training accuracy: 91.60584259033203 Testing accuracy: 78.10218811035156.\n",
      "\n",
      "Epoch 95/100\n",
      "Epoch 95: Training accuracy: 92.06204223632812 Testing accuracy: 78.10218811035156.\n",
      "\n",
      "Epoch 96/100\n",
      "Epoch 96: Training accuracy: 91.24087524414062 Testing accuracy: 78.10218811035156.\n",
      "\n",
      "Epoch 97/100\n",
      "Epoch 97: Training accuracy: 91.24087524414062 Testing accuracy: 78.83211517333984.\n",
      "\n",
      "Epoch 98/100\n",
      "Epoch 98: Training accuracy: 91.69708251953125 Testing accuracy: 78.83211517333984.\n",
      "\n",
      "Epoch 99/100\n",
      "Epoch 99: Training accuracy: 92.24452209472656 Testing accuracy: 77.37226104736328.\n",
      "\n",
      "Epoch 100/100\n",
      "Epoch 100: Training accuracy: 92.42700958251953 Testing accuracy: 77.37226104736328.\n",
      "Epoch 1: validation loss 0.19023833672205606, accuracy 77.37226104736328\n",
      "Final test set performance:\n",
      "\tloss 0.18638171752293906\n",
      "\taccuracy 78.10218811035156\n"
     ]
    },
    {
     "name": "stderr",
     "output_type": "stream",
     "text": [
      "/home/diba/miniconda3/envs/FTL/lib/python3.10/site-packages/wandb/sdk/lib/ipython.py:89: DeprecationWarning: Importing display from IPython.core.display is deprecated since IPython 7.14, please import from IPython display\n",
      "  from IPython.core.display import display\n"
     ]
    },
    {
     "data": {
      "application/vnd.jupyter.widget-view+json": {
       "model_id": "a25dd40e8d6947ee978493f11c04be6f",
       "version_major": 2,
       "version_minor": 0
      },
      "text/plain": [
       "VBox(children=(Label(value='0.004 MB of 0.004 MB uploaded\\r'), FloatProgress(value=1.0, max=1.0)))"
      ]
     },
     "metadata": {},
     "output_type": "display_data"
    },
    {
     "data": {
      "text/html": [
       "<style>\n",
       "    table.wandb td:nth-child(1) { padding: 0 10px; text-align: left ; width: auto;} td:nth-child(2) {text-align: left ; width: 100%}\n",
       "    .wandb-row { display: flex; flex-direction: row; flex-wrap: wrap; justify-content: flex-start; width: 100% }\n",
       "    .wandb-col { display: flex; flex-direction: column; flex-basis: 100%; flex: 1; padding: 10px; }\n",
       "    </style>\n",
       "<div class=\"wandb-row\"><div class=\"wandb-col\"><h3>Run history:</h3><br/><table class=\"wandb\"><tr><td>centralized training accuracy</td><td>▁▁▂▃▄▅▅▅▅▅▅▅▅▆▆▆▆▆▆▇▇▇▇▇▇▇▇▇▇███████████</td></tr><tr><td>centralized validationaccuracy</td><td>▁▂▃▃▃▄▅▄▅▅▅▅▅▅▅▅▆▇▆▇▇▇▇▇▇▇▇▇█▇▇▇▇███████</td></tr></table><br/></div><div class=\"wandb-col\"><h3>Run summary:</h3><br/><table class=\"wandb\"><tr><td>centralized training accuracy</td><td>92.42701</td></tr><tr><td>centralized validationaccuracy</td><td>77.37226</td></tr></table><br/></div></div>"
      ],
      "text/plain": [
       "<IPython.core.display.HTML object>"
      ]
     },
     "metadata": {},
     "output_type": "display_data"
    },
    {
     "data": {
      "text/html": [
       " View run <strong style=\"color:#cdcd00\">centralized training_12-08-2024_15:52:08</strong> at: <a href='https://wandb.ai/d-hadjikazemi-queen-mary-university-of-london/FTL%20unified/runs/y6x3az9p' target=\"_blank\">https://wandb.ai/d-hadjikazemi-queen-mary-university-of-london/FTL%20unified/runs/y6x3az9p</a><br/> View project at: <a href='https://wandb.ai/d-hadjikazemi-queen-mary-university-of-london/FTL%20unified' target=\"_blank\">https://wandb.ai/d-hadjikazemi-queen-mary-university-of-london/FTL%20unified</a><br/>Synced 6 W&B file(s), 0 media file(s), 0 artifact file(s) and 0 other file(s)"
      ],
      "text/plain": [
       "<IPython.core.display.HTML object>"
      ]
     },
     "metadata": {},
     "output_type": "display_data"
    },
    {
     "data": {
      "text/html": [
       "Find logs at: <code>./wandb/run-20240812_155209-y6x3az9p/logs</code>"
      ],
      "text/plain": [
       "<IPython.core.display.HTML object>"
      ]
     },
     "metadata": {},
     "output_type": "display_data"
    },
    {
     "data": {
      "text/html": [
       "The new W&B backend becomes opt-out in version 0.18.0; try it out with `wandb.require(\"core\")`! See https://wandb.me/wandb-core for more information."
      ],
      "text/plain": [
       "<IPython.core.display.HTML object>"
      ]
     },
     "metadata": {},
     "output_type": "display_data"
    },
    {
     "data": {
      "image/png": "[encoded data removed]",
      "text/plain": [
       "<Figure size 640x480 with 1 Axes>"
      ]
     },
     "metadata": {},
     "output_type": "display_data"
    }
   ],
   "source": [
    "trainloader = NASA[0]\n",
    "valloader = NASA[1]\n",
    "testloader = NASA[2]\n",
    "net = Neural_Network().to(device)\n",
    "losses = []\n",
    "accuracies = []\n",
    "for epoch in range(1):\n",
    "    train(net, trainloader, valloader, configuration, configuration['epochs'], name= 'centralized')\n",
    "    loss, accuracy = test(net, valloader, configuration)\n",
    "    losses.append(loss)\n",
    "    accuracies.append(int(accuracy))\n",
    "    print(f\"Epoch {epoch+1}: validation loss {loss}, accuracy {accuracy}\")\n",
    "# plt.plot(accuracies)\n",
    "loss, accuracy = test(net, testloader, configuration=configuration)\n",
    "\n",
    "print(f\"Final test set performance:\\n\\tloss {loss}\\n\\taccuracy {accuracy}\")\n",
    "wandb.finish()"
   ]
  },
  {
   "cell_type": "markdown",
   "metadata": {},
   "source": [
    "## transfer learning"
   ]
  },
  {
   "cell_type": "code",
   "execution_count": 7,
   "metadata": {},
   "outputs": [
    {
     "name": "stdout",
     "output_type": "stream",
     "text": [
      "0.1499999999999999\n",
      "250\n",
      "0.1499999999999999\n",
      "233\n",
      "0.1499999999999999\n",
      "310\n",
      "0.1499999999999999\n",
      "253\n"
     ]
    }
   ],
   "source": [
    "azure_data_paths = ['AZURE_data_1.pt', 'AZURE_data_2.pt','AZURE_data_3.pt','AZURE_data_4.pt']\n",
    "azure_label_paths = ['AZURE_label_1.pt','AZURE_label_2.pt','AZURE_label_3.pt','AZURE_label_4.pt']\n",
    "azure_train_loaders, azure_val_loaders, azure_test_loader, azure_train_loaders_transfer, azure_val_loaders_transfer = data_loading_AZURE(azure_data_paths, azure_label_paths, batch_size=configuration['batch_size_FL'])"
   ]
  },
  {
   "cell_type": "code",
   "execution_count": 8,
   "metadata": {},
   "outputs": [
    {
     "name": "stderr",
     "output_type": "stream",
     "text": [
      "/home/diba/miniconda3/envs/FTL/lib/python3.10/site-packages/wandb/sdk/lib/ipython.py:89: DeprecationWarning: Importing display from IPython.core.display is deprecated since IPython 7.14, please import from IPython display\n",
      "  from IPython.core.display import display\n"
     ]
    },
    {
     "data": {
      "application/vnd.jupyter.widget-view+json": {
       "model_id": "2592a2051c7c438e9ef32deb122c07b1",
       "version_major": 2,
       "version_minor": 0
      },
      "text/plain": [
       "VBox(children=(Label(value='Waiting for wandb.init()...\\r'), FloatProgress(value=0.011113644621541931, max=1.0…"
      ]
     },
     "metadata": {},
     "output_type": "display_data"
    },
    {
     "data": {
      "text/html": [
       "wandb version 0.17.6 is available!  To upgrade, please run:\n",
       " $ pip install wandb --upgrade"
      ],
      "text/plain": [
       "<IPython.core.display.HTML object>"
      ]
     },
     "metadata": {},
     "output_type": "display_data"
    },
    {
     "data": {
      "text/html": [
       "Tracking run with wandb version 0.17.4"
      ],
      "text/plain": [
       "<IPython.core.display.HTML object>"
      ]
     },
     "metadata": {},
     "output_type": "display_data"
    },
    {
     "data": {
      "text/html": [
       "Run data is saved locally in <code>/home/diba/wandb/run-20240812_155217-r3s7xamm</code>"
      ],
      "text/plain": [
       "<IPython.core.display.HTML object>"
      ]
     },
     "metadata": {},
     "output_type": "display_data"
    },
    {
     "data": {
      "text/html": [
       "Syncing run <strong><a href='https://wandb.ai/d-hadjikazemi-queen-mary-university-of-london/FTL%20unified/runs/r3s7xamm' target=\"_blank\">transfer learning phase_12-08-2024_15:52:08</a></strong> to <a href='https://wandb.ai/d-hadjikazemi-queen-mary-university-of-london/FTL%20unified' target=\"_blank\">Weights & Biases</a> (<a href='https://wandb.me/run' target=\"_blank\">docs</a>)<br/>"
      ],
      "text/plain": [
       "<IPython.core.display.HTML object>"
      ]
     },
     "metadata": {},
     "output_type": "display_data"
    },
    {
     "data": {
      "text/html": [
       " View project at <a href='https://wandb.ai/d-hadjikazemi-queen-mary-university-of-london/FTL%20unified' target=\"_blank\">https://wandb.ai/d-hadjikazemi-queen-mary-university-of-london/FTL%20unified</a>"
      ],
      "text/plain": [
       "<IPython.core.display.HTML object>"
      ]
     },
     "metadata": {},
     "output_type": "display_data"
    },
    {
     "data": {
      "text/html": [
       " View run at <a href='https://wandb.ai/d-hadjikazemi-queen-mary-university-of-london/FTL%20unified/runs/r3s7xamm' target=\"_blank\">https://wandb.ai/d-hadjikazemi-queen-mary-university-of-london/FTL%20unified/runs/r3s7xamm</a>"
      ],
      "text/plain": [
       "<IPython.core.display.HTML object>"
      ]
     },
     "metadata": {},
     "output_type": "display_data"
    }
   ],
   "source": [
    "wandb.init(\n",
    "    # set the wandb project where this run will be logged\n",
    "    project=\"FTL unified\",\n",
    "    name= \"transfer learning phase_{}\".format(date_time),\n",
    "    # track hyperparameters and run metadata\n",
    "    config={\n",
    "    \"learning_rate\": 0.0001,\n",
    "    \"architecture\": \"CNN\",\n",
    "    \"epochs\": 100,\n",
    "    \"batch_size\": 64,\n",
    "    \"decay\":0,\n",
    "    'dropout': 0.001,\n",
    "    \"learning_rate_FL\": 0.0001,\n",
    "    \"batch_size_FL\": 64,\n",
    "    \"decay_FL\": 1e-5,\n",
    "    'num_rounds_FL': 50, \n",
    "    'epochs_FL': 100,\n",
    "    'dropout_FL': 0.001\n",
    "    }\n",
    ")\n",
    "\n",
    "configuration  = dict(wandb.config)"
   ]
  },
  {
   "cell_type": "code",
   "execution_count": 9,
   "metadata": {},
   "outputs": [
    {
     "name": "stdout",
     "output_type": "stream",
     "text": [
      "\n",
      "Epoch 1/100\n",
      "Epoch 1: Training accuracy: 52.05263137817383 Testing accuracy: 50.630252838134766.\n",
      "\n",
      "Epoch 2/100\n",
      "Epoch 2: Training accuracy: 64.63157653808594 Testing accuracy: 60.29411697387695.\n",
      "\n",
      "Epoch 3/100\n",
      "Epoch 3: Training accuracy: 68.10526275634766 Testing accuracy: 64.49579620361328.\n",
      "\n",
      "Epoch 4/100\n",
      "Epoch 4: Training accuracy: 70.9473648071289 Testing accuracy: 67.01680755615234.\n",
      "\n",
      "Epoch 5/100\n",
      "Epoch 5: Training accuracy: 72.68421173095703 Testing accuracy: 67.43697357177734.\n",
      "\n",
      "Epoch 6/100\n",
      "Epoch 6: Training accuracy: 73.84210205078125 Testing accuracy: 68.48739624023438.\n",
      "\n",
      "Epoch 7/100\n",
      "Epoch 7: Training accuracy: 74.84210205078125 Testing accuracy: 69.9579849243164.\n",
      "\n",
      "Epoch 8/100\n",
      "Epoch 8: Training accuracy: 75.47368621826172 Testing accuracy: 70.5882339477539.\n",
      "\n",
      "Epoch 9/100\n",
      "Epoch 9: Training accuracy: 76.7368392944336 Testing accuracy: 71.42857360839844.\n",
      "\n",
      "Epoch 10/100\n",
      "Epoch 10: Training accuracy: 77.42105102539062 Testing accuracy: 71.21849060058594.\n",
      "\n",
      "Epoch 11/100\n",
      "Epoch 11: Training accuracy: 77.78947448730469 Testing accuracy: 72.47898864746094.\n",
      "\n",
      "Epoch 12/100\n",
      "Epoch 12: Training accuracy: 77.42105102539062 Testing accuracy: 72.47898864746094.\n",
      "\n",
      "Epoch 13/100\n",
      "Epoch 13: Training accuracy: 78.9473648071289 Testing accuracy: 71.63865661621094.\n",
      "\n",
      "Epoch 14/100\n",
      "Epoch 14: Training accuracy: 78.42105102539062 Testing accuracy: 72.68907928466797.\n",
      "\n",
      "Epoch 15/100\n",
      "Epoch 15: Training accuracy: 78.89473724365234 Testing accuracy: 73.10924530029297.\n",
      "\n",
      "Epoch 16/100\n",
      "Epoch 16: Training accuracy: 78.15789794921875 Testing accuracy: 71.42857360839844.\n",
      "\n",
      "Epoch 17/100\n",
      "Epoch 17: Training accuracy: 79.89473724365234 Testing accuracy: 73.52941131591797.\n",
      "\n",
      "Epoch 18/100\n",
      "Epoch 18: Training accuracy: 79.9473648071289 Testing accuracy: 72.68907928466797.\n",
      "\n",
      "Epoch 19/100\n",
      "Epoch 19: Training accuracy: 79.9473648071289 Testing accuracy: 71.84873962402344.\n",
      "\n",
      "Epoch 20/100\n",
      "Epoch 20: Training accuracy: 80.78947448730469 Testing accuracy: 73.52941131591797.\n",
      "\n",
      "Epoch 21/100\n",
      "Epoch 21: Training accuracy: 80.15789794921875 Testing accuracy: 71.21849060058594.\n",
      "\n",
      "Epoch 22/100\n",
      "Epoch 22: Training accuracy: 80.89473724365234 Testing accuracy: 72.05882263183594.\n",
      "\n",
      "Epoch 23/100\n",
      "Epoch 23: Training accuracy: 81.57894897460938 Testing accuracy: 73.52941131591797.\n",
      "\n",
      "Epoch 24/100\n",
      "Epoch 24: Training accuracy: 81.68421173095703 Testing accuracy: 72.26890563964844.\n",
      "\n",
      "Epoch 25/100\n",
      "Epoch 25: Training accuracy: 81.36842346191406 Testing accuracy: 72.47898864746094.\n",
      "\n",
      "Epoch 26/100\n",
      "Epoch 26: Training accuracy: 81.84210205078125 Testing accuracy: 72.47898864746094.\n",
      "\n",
      "Epoch 27/100\n",
      "Epoch 27: Training accuracy: 81.9473648071289 Testing accuracy: 72.47898864746094.\n",
      "\n",
      "Epoch 28/100\n",
      "Epoch 28: Training accuracy: 82.15789794921875 Testing accuracy: 72.47898864746094.\n",
      "\n",
      "Epoch 29/100\n",
      "Epoch 29: Training accuracy: 82.10526275634766 Testing accuracy: 72.05882263183594.\n",
      "\n",
      "Epoch 30/100\n",
      "Epoch 30: Training accuracy: 82.36842346191406 Testing accuracy: 72.05882263183594.\n",
      "\n",
      "Epoch 31/100\n",
      "Epoch 31: Training accuracy: 82.78947448730469 Testing accuracy: 72.05882263183594.\n",
      "\n",
      "Epoch 32/100\n",
      "Epoch 32: Training accuracy: 82.84210205078125 Testing accuracy: 72.68907928466797.\n",
      "\n",
      "Epoch 33/100\n",
      "Epoch 33: Training accuracy: 83.10526275634766 Testing accuracy: 72.26890563964844.\n",
      "\n",
      "Epoch 34/100\n",
      "Epoch 34: Training accuracy: 83.0526351928711 Testing accuracy: 72.47898864746094.\n",
      "\n",
      "Epoch 35/100\n",
      "Epoch 35: Training accuracy: 82.7368392944336 Testing accuracy: 72.68907928466797.\n",
      "\n",
      "Epoch 36/100\n",
      "Epoch 36: Training accuracy: 83.63157653808594 Testing accuracy: 72.68907928466797.\n",
      "\n",
      "Epoch 37/100\n",
      "Epoch 37: Training accuracy: 83.0526351928711 Testing accuracy: 71.84873962402344.\n",
      "\n",
      "Epoch 38/100\n",
      "Epoch 38: Training accuracy: 83.21052551269531 Testing accuracy: 73.10924530029297.\n",
      "\n",
      "Epoch 39/100\n",
      "Epoch 39: Training accuracy: 83.84210205078125 Testing accuracy: 71.84873962402344.\n",
      "\n",
      "Epoch 40/100\n",
      "Epoch 40: Training accuracy: 83.7368392944336 Testing accuracy: 72.26890563964844.\n",
      "\n",
      "Epoch 41/100\n",
      "Epoch 41: Training accuracy: 83.7368392944336 Testing accuracy: 72.26890563964844.\n",
      "\n",
      "Epoch 42/100\n",
      "Epoch 42: Training accuracy: 84.0 Testing accuracy: 72.05882263183594.\n",
      "\n",
      "Epoch 43/100\n",
      "Epoch 43: Training accuracy: 82.68421173095703 Testing accuracy: 71.42857360839844.\n",
      "\n",
      "Epoch 44/100\n",
      "Epoch 44: Training accuracy: 84.10526275634766 Testing accuracy: 71.21849060058594.\n",
      "\n",
      "Epoch 45/100\n",
      "Epoch 45: Training accuracy: 84.10526275634766 Testing accuracy: 71.84873962402344.\n",
      "\n",
      "Epoch 46/100\n",
      "Epoch 46: Training accuracy: 84.31578826904297 Testing accuracy: 72.26890563964844.\n",
      "\n",
      "Epoch 47/100\n",
      "Epoch 47: Training accuracy: 84.47368621826172 Testing accuracy: 72.26890563964844.\n",
      "\n",
      "Epoch 48/100\n",
      "Epoch 48: Training accuracy: 83.10526275634766 Testing accuracy: 71.42857360839844.\n",
      "\n",
      "Epoch 49/100\n",
      "Epoch 49: Training accuracy: 84.84210205078125 Testing accuracy: 72.26890563964844.\n",
      "\n",
      "Epoch 50/100\n",
      "Epoch 50: Training accuracy: 84.89473724365234 Testing accuracy: 73.94957733154297.\n",
      "\n",
      "Epoch 51/100\n",
      "Epoch 51: Training accuracy: 84.89473724365234 Testing accuracy: 72.26890563964844.\n",
      "\n",
      "Epoch 52/100\n",
      "Epoch 52: Training accuracy: 85.21052551269531 Testing accuracy: 72.89916229248047.\n",
      "\n",
      "Epoch 53/100\n",
      "Epoch 53: Training accuracy: 85.31578826904297 Testing accuracy: 73.10924530029297.\n",
      "\n",
      "Epoch 54/100\n",
      "Epoch 54: Training accuracy: 85.21052551269531 Testing accuracy: 73.73949432373047.\n",
      "\n",
      "Epoch 55/100\n",
      "Epoch 55: Training accuracy: 84.57894897460938 Testing accuracy: 71.84873962402344.\n",
      "\n",
      "Epoch 56/100\n",
      "Epoch 56: Training accuracy: 85.31578826904297 Testing accuracy: 72.47898864746094.\n",
      "\n",
      "Epoch 57/100\n",
      "Epoch 57: Training accuracy: 85.57894897460938 Testing accuracy: 72.47898864746094.\n",
      "\n",
      "Epoch 58/100\n",
      "Epoch 58: Training accuracy: 84.10526275634766 Testing accuracy: 71.63865661621094.\n",
      "\n",
      "Epoch 59/100\n",
      "Epoch 59: Training accuracy: 84.89473724365234 Testing accuracy: 71.84873962402344.\n",
      "\n",
      "Epoch 60/100\n",
      "Epoch 60: Training accuracy: 85.31578826904297 Testing accuracy: 72.26890563964844.\n",
      "\n",
      "Epoch 61/100\n",
      "Epoch 61: Training accuracy: 85.57894897460938 Testing accuracy: 73.10924530029297.\n",
      "\n",
      "Epoch 62/100\n",
      "Epoch 62: Training accuracy: 85.7368392944336 Testing accuracy: 72.68907928466797.\n",
      "\n",
      "Epoch 63/100\n",
      "Epoch 63: Training accuracy: 85.68421173095703 Testing accuracy: 73.31932830810547.\n",
      "\n",
      "Epoch 64/100\n",
      "Epoch 64: Training accuracy: 85.68421173095703 Testing accuracy: 74.579833984375.\n",
      "\n",
      "Epoch 65/100\n",
      "Epoch 65: Training accuracy: 86.0526351928711 Testing accuracy: 73.10924530029297.\n",
      "\n",
      "Epoch 66/100\n",
      "Epoch 66: Training accuracy: 86.0 Testing accuracy: 73.10924530029297.\n",
      "\n",
      "Epoch 67/100\n",
      "Epoch 67: Training accuracy: 85.84210205078125 Testing accuracy: 73.10924530029297.\n",
      "\n",
      "Epoch 68/100\n",
      "Epoch 68: Training accuracy: 85.9473648071289 Testing accuracy: 73.10924530029297.\n",
      "\n",
      "Epoch 69/100\n",
      "Epoch 69: Training accuracy: 84.84210205078125 Testing accuracy: 72.47898864746094.\n",
      "\n",
      "Epoch 70/100\n",
      "Epoch 70: Training accuracy: 86.0526351928711 Testing accuracy: 73.73949432373047.\n",
      "\n",
      "Epoch 71/100\n",
      "Epoch 71: Training accuracy: 85.89473724365234 Testing accuracy: 73.31932830810547.\n",
      "\n",
      "Epoch 72/100\n",
      "Epoch 72: Training accuracy: 85.36842346191406 Testing accuracy: 72.89916229248047.\n",
      "\n",
      "Epoch 73/100\n",
      "Epoch 73: Training accuracy: 84.57894897460938 Testing accuracy: 72.68907928466797.\n",
      "\n",
      "Epoch 74/100\n",
      "Epoch 74: Training accuracy: 85.84210205078125 Testing accuracy: 72.68907928466797.\n",
      "\n",
      "Epoch 75/100\n",
      "Epoch 75: Training accuracy: 86.15789794921875 Testing accuracy: 73.52941131591797.\n",
      "\n",
      "Epoch 76/100\n",
      "Epoch 76: Training accuracy: 84.68421173095703 Testing accuracy: 73.10924530029297.\n",
      "\n",
      "Epoch 77/100\n",
      "Epoch 77: Training accuracy: 85.47368621826172 Testing accuracy: 72.89916229248047.\n",
      "\n",
      "Epoch 78/100\n",
      "Epoch 78: Training accuracy: 86.0526351928711 Testing accuracy: 73.52941131591797.\n",
      "\n",
      "Epoch 79/100\n",
      "Epoch 79: Training accuracy: 84.89473724365234 Testing accuracy: 72.68907928466797.\n",
      "\n",
      "Epoch 80/100\n",
      "Epoch 80: Training accuracy: 86.2631607055664 Testing accuracy: 73.52941131591797.\n",
      "\n",
      "Epoch 81/100\n",
      "Epoch 81: Training accuracy: 86.2631607055664 Testing accuracy: 73.73949432373047.\n",
      "\n",
      "Epoch 82/100\n",
      "Epoch 82: Training accuracy: 86.15789794921875 Testing accuracy: 73.73949432373047.\n",
      "\n",
      "Epoch 83/100\n",
      "Epoch 83: Training accuracy: 86.21052551269531 Testing accuracy: 73.73949432373047.\n",
      "\n",
      "Epoch 84/100\n",
      "Epoch 84: Training accuracy: 85.84210205078125 Testing accuracy: 72.89916229248047.\n",
      "\n",
      "Epoch 85/100\n",
      "Epoch 85: Training accuracy: 86.15789794921875 Testing accuracy: 73.31932830810547.\n",
      "\n",
      "Epoch 86/100\n",
      "Epoch 86: Training accuracy: 86.2631607055664 Testing accuracy: 73.73949432373047.\n",
      "\n",
      "Epoch 87/100\n",
      "Epoch 87: Training accuracy: 86.36842346191406 Testing accuracy: 73.94957733154297.\n",
      "\n",
      "Epoch 88/100\n",
      "Epoch 88: Training accuracy: 86.10526275634766 Testing accuracy: 74.15966033935547.\n",
      "\n",
      "Epoch 89/100\n",
      "Epoch 89: Training accuracy: 84.78947448730469 Testing accuracy: 72.68907928466797.\n",
      "\n",
      "Epoch 90/100\n",
      "Epoch 90: Training accuracy: 86.52631378173828 Testing accuracy: 73.10924530029297.\n",
      "\n",
      "Epoch 91/100\n",
      "Epoch 91: Training accuracy: 86.47368621826172 Testing accuracy: 73.52941131591797.\n",
      "\n",
      "Epoch 92/100\n",
      "Epoch 92: Training accuracy: 85.15789794921875 Testing accuracy: 72.68907928466797.\n",
      "\n",
      "Epoch 93/100\n",
      "Epoch 93: Training accuracy: 86.36842346191406 Testing accuracy: 73.73949432373047.\n",
      "\n",
      "Epoch 94/100\n",
      "Epoch 94: Training accuracy: 86.31578826904297 Testing accuracy: 73.31932830810547.\n",
      "\n",
      "Epoch 95/100\n",
      "Epoch 95: Training accuracy: 86.47368621826172 Testing accuracy: 73.10924530029297.\n",
      "\n",
      "Epoch 96/100\n",
      "Epoch 96: Training accuracy: 85.68421173095703 Testing accuracy: 73.31932830810547.\n",
      "\n",
      "Epoch 97/100\n",
      "Epoch 97: Training accuracy: 86.47368621826172 Testing accuracy: 73.73949432373047.\n",
      "\n",
      "Epoch 98/100\n",
      "Epoch 98: Training accuracy: 86.47368621826172 Testing accuracy: 73.94957733154297.\n",
      "\n",
      "Epoch 99/100\n",
      "Epoch 99: Training accuracy: 84.9473648071289 Testing accuracy: 72.89916229248047.\n",
      "\n",
      "Epoch 100/100\n",
      "Epoch 100: Training accuracy: 85.31578826904297 Testing accuracy: 73.31932830810547.\n",
      "Epoch 1: validation loss 0.0716211199760437, accuracy 73.31932830810547\n",
      "Final test set performance:\n",
      "\tloss 0.0716211199760437\n",
      "\taccuracy 73.31932830810547\n"
     ]
    },
    {
     "data": {
      "application/vnd.jupyter.widget-view+json": {
       "model_id": "6415ff5bd737411aa545b6ef79c2ddd6",
       "version_major": 2,
       "version_minor": 0
      },
      "text/plain": [
       "VBox(children=(Label(value='0.004 MB of 0.004 MB uploaded\\r'), FloatProgress(value=1.0, max=1.0)))"
      ]
     },
     "metadata": {},
     "output_type": "display_data"
    },
    {
     "data": {
      "text/html": [
       "<style>\n",
       "    table.wandb td:nth-child(1) { padding: 0 10px; text-align: left ; width: auto;} td:nth-child(2) {text-align: left ; width: 100%}\n",
       "    .wandb-row { display: flex; flex-direction: row; flex-wrap: wrap; justify-content: flex-start; width: 100% }\n",
       "    .wandb-col { display: flex; flex-direction: column; flex-basis: 100%; flex: 1; padding: 10px; }\n",
       "    </style>\n",
       "<div class=\"wandb-row\"><div class=\"wandb-col\"><h3>Run history:</h3><br/><table class=\"wandb\"><tr><td>transfer training accuracy</td><td>▁▄▅▆▆▆▆▇▇▇▇▇▇▇▇▇▇███████████████████████</td></tr><tr><td>transfer validationaccuracy</td><td>▁▅▆▇▇▇▇▇▇█▇▇▇▇▇▇▇▇▇▇▇█▇▇███▇█▇█▇███▇▇███</td></tr></table><br/></div><div class=\"wandb-col\"><h3>Run summary:</h3><br/><table class=\"wandb\"><tr><td>transfer training accuracy</td><td>85.31579</td></tr><tr><td>transfer validationaccuracy</td><td>73.31933</td></tr></table><br/></div></div>"
      ],
      "text/plain": [
       "<IPython.core.display.HTML object>"
      ]
     },
     "metadata": {},
     "output_type": "display_data"
    },
    {
     "data": {
      "text/html": [
       " View run <strong style=\"color:#cdcd00\">transfer learning phase_12-08-2024_15:52:08</strong> at: <a href='https://wandb.ai/d-hadjikazemi-queen-mary-university-of-london/FTL%20unified/runs/r3s7xamm' target=\"_blank\">https://wandb.ai/d-hadjikazemi-queen-mary-university-of-london/FTL%20unified/runs/r3s7xamm</a><br/> View project at: <a href='https://wandb.ai/d-hadjikazemi-queen-mary-university-of-london/FTL%20unified' target=\"_blank\">https://wandb.ai/d-hadjikazemi-queen-mary-university-of-london/FTL%20unified</a><br/>Synced 6 W&B file(s), 0 media file(s), 0 artifact file(s) and 0 other file(s)"
      ],
      "text/plain": [
       "<IPython.core.display.HTML object>"
      ]
     },
     "metadata": {},
     "output_type": "display_data"
    },
    {
     "data": {
      "text/html": [
       "Find logs at: <code>./wandb/run-20240812_155217-r3s7xamm/logs</code>"
      ],
      "text/plain": [
       "<IPython.core.display.HTML object>"
      ]
     },
     "metadata": {},
     "output_type": "display_data"
    },
    {
     "data": {
      "text/html": [
       "The new W&B backend becomes opt-out in version 0.18.0; try it out with `wandb.require(\"core\")`! See https://wandb.me/wandb-core for more information."
      ],
      "text/plain": [
       "<IPython.core.display.HTML object>"
      ]
     },
     "metadata": {},
     "output_type": "display_data"
    },
    {
     "data": {
      "image/png": "[encoded data removed]",
      "text/plain": [
       "<Figure size 640x480 with 1 Axes>"
      ]
     },
     "metadata": {},
     "output_type": "display_data"
    }
   ],
   "source": [
    "losses_transfer = []\n",
    "accuracies_transfer = []\n",
    "for epoch in range(1):\n",
    "    train(net, azure_train_loaders_transfer, azure_val_loaders_transfer, configuration, configuration['epochs'], name= 'transfer')\n",
    "    loss, accuracy = test(net, azure_val_loaders_transfer, configuration)\n",
    "    losses_transfer.append(loss)\n",
    "    accuracies_transfer.append(int(accuracy))\n",
    "    print(f\"Epoch {epoch+1}: validation loss {loss}, accuracy {accuracy}\")\n",
    "# plt.plot(accuracies)\n",
    "losses_transfer, accuracy_transfer = test(net, testloader, configuration=configuration)\n",
    "\n",
    "print(f\"Final test set performance:\\n\\tloss {loss}\\n\\taccuracy {accuracy}\")\n",
    "wandb.finish()"
   ]
  },
  {
   "cell_type": "markdown",
   "metadata": {},
   "source": [
    "trainloader = train_loaders[1]\n",
    "valloader = val_loaders[1]\n",
    "testloader = test_loaders[1]\n",
    "net = Neural_Network().to(device)\n",
    "losses = []\n",
    "accuracies = []\n",
    "for epoch in range(1):\n",
    "    train(net, trainloader, testloader, configuration, configuration['epochs'])\n",
    "    loss, accuracy = test(net, valloader, configuration)\n",
    "    losses.append(loss)\n",
    "    accuracies.append(int(accuracy))\n",
    "    print(f\"Epoch {epoch+1}: validation loss {loss}, accuracy {accuracy}\")\n",
    "<!-- # plt.plot(accuracies) -->\n",
    "loss, accuracy = test(net, testloader, configuration=configuration)\n",
    "print(f\"Final test set performance:\\n\\tloss {loss}\\n\\taccuracy {accuracy}\")"
   ]
  },
  {
   "cell_type": "markdown",
   "metadata": {},
   "source": [
    "## Federated Learning"
   ]
  },
  {
   "cell_type": "code",
   "execution_count": 10,
   "metadata": {},
   "outputs": [
    {
     "data": {
      "application/vnd.jupyter.widget-view+json": {
       "model_id": "6db3bfc8ab504df7a5530485f3aa62dc",
       "version_major": 2,
       "version_minor": 0
      },
      "text/plain": [
       "VBox(children=(Label(value='Waiting for wandb.init()...\\r'), FloatProgress(value=0.011113812766658763, max=1.0…"
      ]
     },
     "metadata": {},
     "output_type": "display_data"
    },
    {
     "data": {
      "text/html": [
       "wandb version 0.17.6 is available!  To upgrade, please run:\n",
       " $ pip install wandb --upgrade"
      ],
      "text/plain": [
       "<IPython.core.display.HTML object>"
      ]
     },
     "metadata": {},
     "output_type": "display_data"
    },
    {
     "data": {
      "text/html": [
       "Tracking run with wandb version 0.17.4"
      ],
      "text/plain": [
       "<IPython.core.display.HTML object>"
      ]
     },
     "metadata": {},
     "output_type": "display_data"
    },
    {
     "data": {
      "text/html": [
       "Run data is saved locally in <code>/home/diba/wandb/run-20240812_155229-54kmvqdq</code>"
      ],
      "text/plain": [
       "<IPython.core.display.HTML object>"
      ]
     },
     "metadata": {},
     "output_type": "display_data"
    },
    {
     "data": {
      "text/html": [
       "Syncing run <strong><a href='https://wandb.ai/d-hadjikazemi-queen-mary-university-of-london/FTL%20unified/runs/54kmvqdq' target=\"_blank\">federated learning phase_12-08-2024_15:52:08</a></strong> to <a href='https://wandb.ai/d-hadjikazemi-queen-mary-university-of-london/FTL%20unified' target=\"_blank\">Weights & Biases</a> (<a href='https://wandb.me/run' target=\"_blank\">docs</a>)<br/>"
      ],
      "text/plain": [
       "<IPython.core.display.HTML object>"
      ]
     },
     "metadata": {},
     "output_type": "display_data"
    },
    {
     "data": {
      "text/html": [
       " View project at <a href='https://wandb.ai/d-hadjikazemi-queen-mary-university-of-london/FTL%20unified' target=\"_blank\">https://wandb.ai/d-hadjikazemi-queen-mary-university-of-london/FTL%20unified</a>"
      ],
      "text/plain": [
       "<IPython.core.display.HTML object>"
      ]
     },
     "metadata": {},
     "output_type": "display_data"
    },
    {
     "data": {
      "text/html": [
       " View run at <a href='https://wandb.ai/d-hadjikazemi-queen-mary-university-of-london/FTL%20unified/runs/54kmvqdq' target=\"_blank\">https://wandb.ai/d-hadjikazemi-queen-mary-university-of-london/FTL%20unified/runs/54kmvqdq</a>"
      ],
      "text/plain": [
       "<IPython.core.display.HTML object>"
      ]
     },
     "metadata": {},
     "output_type": "display_data"
    }
   ],
   "source": [
    "wandb.init(\n",
    "    # set the wandb project where this run will be logged\n",
    "    project=\"FTL unified\",\n",
    "    name= \"federated learning phase_{}\".format(date_time),\n",
    "    # track hyperparameters and run metadata\n",
    "    config={\n",
    "    \"learning_rate\": 0.0001,\n",
    "    \"architecture\": \"CNN\",\n",
    "    \"epochs\": 100,\n",
    "    \"batch_size\": 64,\n",
    "    \"decay\":0,\n",
    "    'dropout': 0.001,\n",
    "    \"learning_rate_FL\": 0.0001,\n",
    "    \"batch_size_FL\": 64,\n",
    "    \"decay_FL\": 1e-5,\n",
    "    'num_rounds_FL': 50, \n",
    "    'epochs_FL': 100,\n",
    "    'dropout_FL': 0.001\n",
    "    }\n",
    ")\n",
    "\n",
    "configuration  = dict(wandb.config)"
   ]
  },
  {
   "cell_type": "code",
   "execution_count": 11,
   "metadata": {},
   "outputs": [],
   "source": [
    "# Define the CNN architecture\n",
    "class Neural_Network_FL(nn.Module):\n",
    "    def __init__(self):\n",
    "        super(Neural_Network_FL, self).__init__()\n",
    "        self.conv1 = nn.Conv1d(in_channels=4, out_channels=8, kernel_size=5)\n",
    "        self.conv2 = nn.Conv1d(in_channels=8, out_channels=8, kernel_size=5)\n",
    "        self.pool = nn.MaxPool1d(kernel_size=2, padding=0, stride=1)\n",
    "        # the size of the out channels x number  of nodes \n",
    "        self.fc1 = nn.Linear(328, 200)\n",
    "        self.fc2 = nn.Linear(200, 2)\n",
    "        self.flatten = nn.Flatten()\n",
    "        self.relu = nn.ReLU()\n",
    "        self.dropout = nn.Dropout(configuration['dropout'])\n",
    "        self.sigmoid = nn.Sigmoid()\n",
    "\n",
    "    def forward(self, x):\n",
    "        x = self.relu(self.conv1(x))\n",
    "        x = self.relu(self.conv2(x))\n",
    "        x = self.dropout(x)\n",
    "        x = self.pool(x)\n",
    "        x = self.flatten(x)\n",
    "        x = self.relu(self.fc1(x))\n",
    "        x - self.dropout(x)\n",
    "        x = self.sigmoid(self.fc2(x))\n",
    "        return x"
   ]
  },
  {
   "cell_type": "code",
   "execution_count": 12,
   "metadata": {},
   "outputs": [],
   "source": [
    "def train_FL(model, train_loaders,test_loader, config, epochs):\n",
    "    loss = nn.CrossEntropyLoss()\n",
    "    optimizer = torch.optim.Adam(model.parameters(), lr=config['learning_rate'], weight_decay=config['decay'])\n",
    "    losses = [] # Stores the loss for each training batch\n",
    "    train_accs = [] # Stores the training accuracy after each epoch\n",
    "    test_accs = []\n",
    "    \n",
    "    for epoch in range(epochs):\n",
    "        print(f'\\nEpoch {epoch + 1}/{epochs}')\n",
    "        total, epoch_loss = 0, 0.0\n",
    "        model.train() # This is necessary because batch normalization behaves differently between training and evaluation\n",
    "        \n",
    "        for X, y in train_loaders:\n",
    "            X, y = X.to(device), y.to(device) # Moves data to `device`\n",
    "            logits = model(X) # Computes the logits for the batch of images `X`\n",
    "            l = loss(logits, y) # Computes the loss given the `logits` and the class vector `y`\n",
    "            optimizer.zero_grad() # Zeroes the gradients stored in the model parameters\n",
    "            l.backward() # Computes the gradient of the loss `l` with respect to the model parameters\n",
    "\n",
    "            optimizer.step() # Updates the model parameters based on the gradients stored inside them\n",
    "            epoch_loss += l\n",
    "            \n",
    "        model.eval() # This is necessary because batch normalization behaves differently between training and evaluation\n",
    "        train_acc = evaluate_metric(model, train_loaders, correct)\n",
    "        train_accs.append(train_acc)\n",
    "        test_acc = evaluate_metric(model, test_loader, correct)\n",
    "        test_accs.append(test_acc)\n",
    "        print(f'Epoch {epoch+1}: Training accuracy: {train_accs[-1]} Testing accuracy: {test_accs[-1]}.') # Computes and displays training/testing dataset accuracy.\n",
    "    plt.plot(list(map(lambda x: x.cpu(),train_accs)), label='Training accuracy')\n",
    "    plt.plot(list(map(lambda x: x.cpu(),test_accs)), label='Validation accuracy')\n",
    "    plt.title('accuracies')\n",
    "    plt.legend()\n"
   ]
  },
  {
   "cell_type": "code",
   "execution_count": 13,
   "metadata": {},
   "outputs": [],
   "source": [
    "def get_parameters(model):\n",
    "    # Return model parameters as a list of NumPy ndarrays, excluding parameters of BN layers when using FedBN\n",
    "    return [val.cpu().numpy() for name, val in model.state_dict().items() if ('bn1' not in name and 'bn2' not in name)]\n",
    "\n",
    "def set_parameters(model, parameters):\n",
    "    # Set model parameters from a list of NumPy ndarrays\n",
    "    keys = [k for k in model.state_dict().keys() if 'bn' not in k]\n",
    "    params_dict = zip(keys, parameters)\n",
    "    state_dict = OrderedDict({k: torch.tensor(v) for k, v in params_dict})\n",
    "    model.load_state_dict(state_dict, strict=False)\n",
    "\n",
    "net_FL = Neural_Network_FL().to(device)\n",
    "parameters_centralized = get_parameters(net)\n",
    "set_parameters(net_FL, parameters_centralized)"
   ]
  },
  {
   "cell_type": "code",
   "execution_count": 14,
   "metadata": {},
   "outputs": [],
   "source": [
    "class FlowerClient(fl.client.NumPyClient):\n",
    "    def __init__(self, net, trainloader, valloader, configuration):\n",
    "        self.net = net\n",
    "        self.trainloader = trainloader\n",
    "        self.valloader = valloader\n",
    "\n",
    "    def get_parameters(self, config):\n",
    "        return get_parameters(self.net)\n",
    "\n",
    "    def fit(self, parameters, config):\n",
    "        set_parameters(self.net, parameters)\n",
    "        train_FL(self.net, self.trainloader,self.valloader,configuration, configuration['epochs_FL'])\n",
    "        return get_parameters(self.net), len(self.trainloader), {}\n",
    "\n",
    "    def evaluate(self, parameters, config):\n",
    "        set_parameters(self.net, parameters)\n",
    "        loss, accuracy = test(self.net, self.valloader, configuration)\n",
    "        return float(loss), len(self.valloader), {\"accuracy\": float(accuracy)}\n",
    "    \n",
    "\n",
    "def client_fn(cid) -> FlowerClient:\n",
    "    net = Neural_Network().to(device)\n",
    "    trainloader = azure_train_loaders[int(cid)]\n",
    "    valloader = azure_val_loaders[int(cid)]\n",
    "    return FlowerClient(net_FL, trainloader, valloader, configuration).to_client()\n"
   ]
  },
  {
   "cell_type": "code",
   "execution_count": 15,
   "metadata": {},
   "outputs": [
    {
     "name": "stderr",
     "output_type": "stream",
     "text": [
      "\u001b[93mWARNING \u001b[0m:   \n",
      "Setting `min_available_clients` lower than `min_fit_clients` or\n",
      "`min_evaluate_clients` can cause the server to fail when there are too few clients\n",
      "connected to the server. `min_available_clients` must be set to a value larger\n",
      "than or equal to the values of `min_fit_clients` and `min_evaluate_clients`.\n",
      "\n",
      "\u001b[92mINFO \u001b[0m:      Starting Flower simulation, config: num_rounds=50, no round_timeout\n",
      "2024-08-12 15:52:34,001\tINFO worker.py:1621 -- Started a local Ray instance.\n",
      "\u001b[92mINFO \u001b[0m:      Flower VCE: Ray initialized with resources: {'object_store_memory': 58118660505.0, 'node:__internal_head__': 1.0, 'accelerator_type:G': 1.0, 'GPU': 2.0, 'CPU': 32.0, 'node:192.168.1.146': 1.0, 'memory': 125610207847.0}\n",
      "\u001b[92mINFO \u001b[0m:      Optimize your simulation with Flower VCE: https://flower.ai/docs/framework/how-to-run-simulations.html\n",
      "\u001b[92mINFO \u001b[0m:      Flower VCE: Resources for each Virtual Client: {'num_cpus': 1, 'num_gpus': 1.0}\n",
      "\u001b[92mINFO \u001b[0m:      Flower VCE: Creating VirtualClientEngineActorPool with 2 actors\n",
      "\u001b[92mINFO \u001b[0m:      [INIT]\n",
      "\u001b[92mINFO \u001b[0m:      Using initial global parameters provided by strategy\n",
      "\u001b[92mINFO \u001b[0m:      Evaluating initial global parameters\n",
      "\u001b[92mINFO \u001b[0m:      initial parameters (loss, other metrics): 0.04860447785433601, {'accuracy': tensor(49.4264, device='cuda:0')}\n",
      "\u001b[92mINFO \u001b[0m:      \n",
      "\u001b[92mINFO \u001b[0m:      [ROUND 1]\n",
      "\u001b[92mINFO \u001b[0m:      configure_fit: strategy sampled 4 clients (out of 4)\n"
     ]
    },
    {
     "name": "stdout",
     "output_type": "stream",
     "text": [
      "Server-side evaluation loss 0.04860447785433601 / accuracy 49.426387786865234\n",
      "\u001b[2m\u001b[36m(ClientAppActor pid=2312932)\u001b[0m \n",
      "\u001b[2m\u001b[36m(ClientAppActor pid=2312932)\u001b[0m Epoch 1/100\n",
      "\u001b[2m\u001b[36m(ClientAppActor pid=2312932)\u001b[0m Epoch 1: Training accuracy: 51.42180252075195 Testing accuracy: 48.58490753173828.\n",
      "\u001b[2m\u001b[36m(ClientAppActor pid=2312932)\u001b[0m Epoch 2: Training accuracy: 51.42180252075195 Testing accuracy: 48.58490753173828.\n",
      "\u001b[2m\u001b[36m(ClientAppActor pid=2312932)\u001b[0m Epoch 3: Training accuracy: 51.42180252075195 Testing accuracy: 48.58490753173828.\n",
      "\u001b[2m\u001b[36m(ClientAppActor pid=2312932)\u001b[0m Epoch 4: Training accuracy: 51.42180252075195 Testing accuracy: 48.58490753173828.\n",
      "\u001b[2m\u001b[36m(ClientAppActor pid=2312932)\u001b[0m Epoch 5: Training accuracy: 51.42180252075195 Testing accuracy: 48.58490753173828.\n",
      "\u001b[2m\u001b[36m(ClientAppActor pid=2312932)\u001b[0m Epoch 6: Training accuracy: 51.42180252075195 Testing accuracy: 48.58490753173828.\n",
      "\u001b[2m\u001b[36m(ClientAppActor pid=2312932)\u001b[0m Epoch 7: Training accuracy: 51.42180252075195 Testing accuracy: 48.58490753173828.\n",
      "\u001b[2m\u001b[36m(ClientAppActor pid=2312932)\u001b[0m Epoch 8: Training accuracy: 51.42180252075195 Testing accuracy: 48.58490753173828.\n"
     ]
    },
    {
     "name": "stderr",
     "output_type": "stream",
     "text": [
      "\u001b[92mINFO \u001b[0m:      aggregate_fit: received 4 results and 0 failures\n",
      "\u001b[93mWARNING \u001b[0m:   No fit_metrics_aggregation_fn provided\n",
      "\u001b[92mINFO \u001b[0m:      fit progress: (1, 0.040785838575924147, {'accuracy': tensor(49.4264, device='cuda:0')}, 4.549421048955992)\n",
      "\u001b[92mINFO \u001b[0m:      configure_evaluate: strategy sampled 2 clients (out of 4)\n",
      "\u001b[92mINFO \u001b[0m:      aggregate_evaluate: received 2 results and 0 failures\n",
      "\u001b[92mINFO \u001b[0m:      \n",
      "\u001b[92mINFO \u001b[0m:      [ROUND 2]\n",
      "\u001b[92mINFO \u001b[0m:      configure_fit: strategy sampled 4 clients (out of 4)\n"
     ]
    },
    {
     "name": "stdout",
     "output_type": "stream",
     "text": [
      "Server-side evaluation loss 0.040785838575924147 / accuracy 49.426387786865234\n",
      "\u001b[2m\u001b[36m(ClientAppActor pid=2312932)\u001b[0m \u001b[32m [repeated 615x across cluster] (Ray deduplicates logs by default. Set RAY_DEDUP_LOGS=0 to disable log deduplication, or see https://docs.ray.io/en/master/ray-observability/ray-logging.html#log-deduplication for more options.)\u001b[0m\n",
      "\u001b[2m\u001b[36m(ClientAppActor pid=2312932)\u001b[0m Epoch 100/100\u001b[32m [repeated 615x across cluster]\u001b[0m\n",
      "\u001b[2m\u001b[36m(ClientAppActor pid=2312932)\u001b[0m Epoch 13: Training accuracy: 50.869564056396484 Testing accuracy: 52.02312088012695.\u001b[32m [repeated 636x across cluster]\u001b[0m\n"
     ]
    },
    {
     "name": "stderr",
     "output_type": "stream",
     "text": [
      "\u001b[92mINFO \u001b[0m:      aggregate_fit: received 4 results and 0 failures\n",
      "\u001b[92mINFO \u001b[0m:      fit progress: (2, 0.04077709773007561, {'accuracy': tensor(49.4264, device='cuda:0')}, 7.747532713925466)\n",
      "\u001b[92mINFO \u001b[0m:      configure_evaluate: strategy sampled 2 clients (out of 4)\n",
      "\u001b[92mINFO \u001b[0m:      aggregate_evaluate: received 2 results and 0 failures\n",
      "\u001b[92mINFO \u001b[0m:      \n",
      "\u001b[92mINFO \u001b[0m:      [ROUND 3]\n",
      "\u001b[92mINFO \u001b[0m:      configure_fit: strategy sampled 4 clients (out of 4)\n"
     ]
    },
    {
     "name": "stdout",
     "output_type": "stream",
     "text": [
      "Server-side evaluation loss 0.04077709773007561 / accuracy 49.426387786865234\n"
     ]
    },
    {
     "name": "stderr",
     "output_type": "stream",
     "text": [
      "\u001b[92mINFO \u001b[0m:      aggregate_fit: received 4 results and 0 failures\n",
      "\u001b[92mINFO \u001b[0m:      fit progress: (3, 0.040745272355921125, {'accuracy': tensor(49.2352, device='cuda:0')}, 10.943483177921735)\n",
      "\u001b[92mINFO \u001b[0m:      configure_evaluate: strategy sampled 2 clients (out of 4)\n",
      "\u001b[92mINFO \u001b[0m:      aggregate_evaluate: received 2 results and 0 failures\n",
      "\u001b[92mINFO \u001b[0m:      \n",
      "\u001b[92mINFO \u001b[0m:      [ROUND 4]\n",
      "\u001b[92mINFO \u001b[0m:      configure_fit: strategy sampled 4 clients (out of 4)\n"
     ]
    },
    {
     "name": "stdout",
     "output_type": "stream",
     "text": [
      "Server-side evaluation loss 0.040745272355921125 / accuracy 49.23517990112305\n",
      "\u001b[2m\u001b[36m(ClientAppActor pid=2312932)\u001b[0m \u001b[32m [repeated 635x across cluster]\u001b[0m\n",
      "\u001b[2m\u001b[36m(ClientAppActor pid=2312932)\u001b[0m Epoch 26/100\u001b[32m [repeated 635x across cluster]\u001b[0m\n",
      "\u001b[2m\u001b[36m(ClientAppActor pid=2312932)\u001b[0m Epoch 37: Training accuracy: 51.42180252075195 Testing accuracy: 48.58490753173828.\u001b[32m [repeated 632x across cluster]\u001b[0m\n"
     ]
    },
    {
     "name": "stderr",
     "output_type": "stream",
     "text": [
      "\u001b[92mINFO \u001b[0m:      aggregate_fit: received 4 results and 0 failures\n",
      "\u001b[92mINFO \u001b[0m:      fit progress: (4, 0.04051454978830674, {'accuracy': tensor(63.7667, device='cuda:0')}, 14.090957740903832)\n",
      "\u001b[92mINFO \u001b[0m:      configure_evaluate: strategy sampled 2 clients (out of 4)\n",
      "\u001b[92mINFO \u001b[0m:      aggregate_evaluate: received 2 results and 0 failures\n",
      "\u001b[92mINFO \u001b[0m:      \n",
      "\u001b[92mINFO \u001b[0m:      [ROUND 5]\n",
      "\u001b[92mINFO \u001b[0m:      configure_fit: strategy sampled 4 clients (out of 4)\n"
     ]
    },
    {
     "name": "stdout",
     "output_type": "stream",
     "text": [
      "Server-side evaluation loss 0.04051454978830674 / accuracy 63.76673126220703\n",
      "\u001b[2m\u001b[36m(ClientAppActor pid=2312932)\u001b[0m \u001b[32m [repeated 675x across cluster]\u001b[0m\n",
      "\u001b[2m\u001b[36m(ClientAppActor pid=2312932)\u001b[0m Epoch 59/100\u001b[32m [repeated 675x across cluster]\u001b[0m\n",
      "\u001b[2m\u001b[36m(ClientAppActor pid=2312932)\u001b[0m Epoch 70: Training accuracy: 64.4549789428711 Testing accuracy: 63.20754623413086.\u001b[32m [repeated 673x across cluster]\u001b[0m\n"
     ]
    },
    {
     "name": "stderr",
     "output_type": "stream",
     "text": [
      "\u001b[92mINFO \u001b[0m:      aggregate_fit: received 4 results and 0 failures\n",
      "\u001b[92mINFO \u001b[0m:      fit progress: (5, 0.03957390434601728, {'accuracy': tensor(72.6577, device='cuda:0')}, 17.256644191918895)\n",
      "\u001b[92mINFO \u001b[0m:      configure_evaluate: strategy sampled 2 clients (out of 4)\n",
      "\u001b[92mINFO \u001b[0m:      aggregate_evaluate: received 2 results and 0 failures\n",
      "\u001b[92mINFO \u001b[0m:      \n",
      "\u001b[92mINFO \u001b[0m:      [ROUND 6]\n",
      "\u001b[92mINFO \u001b[0m:      configure_fit: strategy sampled 4 clients (out of 4)\n"
     ]
    },
    {
     "name": "stdout",
     "output_type": "stream",
     "text": [
      "Server-side evaluation loss 0.03957390434601728 / accuracy 72.65774536132812\n"
     ]
    },
    {
     "name": "stderr",
     "output_type": "stream",
     "text": [
      "\u001b[92mINFO \u001b[0m:      aggregate_fit: received 4 results and 0 failures\n",
      "\u001b[92mINFO \u001b[0m:      fit progress: (6, 0.03767301405177397, {'accuracy': tensor(74.2830, device='cuda:0')}, 20.394956572912633)\n",
      "\u001b[92mINFO \u001b[0m:      configure_evaluate: strategy sampled 2 clients (out of 4)\n",
      "\u001b[92mINFO \u001b[0m:      aggregate_evaluate: received 2 results and 0 failures\n",
      "\u001b[92mINFO \u001b[0m:      \n",
      "\u001b[92mINFO \u001b[0m:      [ROUND 7]\n",
      "\u001b[92mINFO \u001b[0m:      configure_fit: strategy sampled 4 clients (out of 4)\n"
     ]
    },
    {
     "name": "stdout",
     "output_type": "stream",
     "text": [
      "Server-side evaluation loss 0.03767301405177397 / accuracy 74.2829818725586\n",
      "\u001b[2m\u001b[36m(ClientAppActor pid=2312932)\u001b[0m \u001b[32m [repeated 610x across cluster]\u001b[0m\n",
      "\u001b[2m\u001b[36m(ClientAppActor pid=2312932)\u001b[0m Epoch 64/100\u001b[32m [repeated 610x across cluster]\u001b[0m\n",
      "\u001b[2m\u001b[36m(ClientAppActor pid=2312932)\u001b[0m Epoch 74: Training accuracy: 74.05213165283203 Testing accuracy: 72.16981506347656.\u001b[32m [repeated 611x across cluster]\u001b[0m\n"
     ]
    },
    {
     "name": "stderr",
     "output_type": "stream",
     "text": [
      "\u001b[92mINFO \u001b[0m:      aggregate_fit: received 4 results and 0 failures\n",
      "\u001b[92mINFO \u001b[0m:      fit progress: (7, 0.03556669810239006, {'accuracy': tensor(74.5698, device='cuda:0')}, 23.576474718982354)\n",
      "\u001b[92mINFO \u001b[0m:      configure_evaluate: strategy sampled 2 clients (out of 4)\n",
      "\u001b[92mINFO \u001b[0m:      aggregate_evaluate: received 2 results and 0 failures\n",
      "\u001b[92mINFO \u001b[0m:      \n",
      "\u001b[92mINFO \u001b[0m:      [ROUND 8]\n",
      "\u001b[92mINFO \u001b[0m:      configure_fit: strategy sampled 4 clients (out of 4)\n"
     ]
    },
    {
     "name": "stdout",
     "output_type": "stream",
     "text": [
      "Server-side evaluation loss 0.03556669810239006 / accuracy 74.56978607177734\n"
     ]
    },
    {
     "name": "stderr",
     "output_type": "stream",
     "text": [
      "\u001b[92mINFO \u001b[0m:      aggregate_fit: received 4 results and 0 failures\n"
     ]
    },
    {
     "name": "stdout",
     "output_type": "stream",
     "text": [
      "\u001b[2m\u001b[36m(ClientAppActor pid=2312932)\u001b[0m \u001b[32m [repeated 653x across cluster]\u001b[0m\n",
      "\u001b[2m\u001b[36m(ClientAppActor pid=2312932)\u001b[0m Epoch 89/100\u001b[32m [repeated 653x across cluster]\u001b[0m\n"
     ]
    },
    {
     "name": "stderr",
     "output_type": "stream",
     "text": [
      "\u001b[92mINFO \u001b[0m:      fit progress: (8, 0.033864406978382784, {'accuracy': tensor(74.8566, device='cuda:0')}, 26.75273396994453)\n",
      "\u001b[92mINFO \u001b[0m:      configure_evaluate: strategy sampled 2 clients (out of 4)\n",
      "\u001b[92mINFO \u001b[0m:      aggregate_evaluate: received 2 results and 0 failures\n",
      "\u001b[92mINFO \u001b[0m:      \n",
      "\u001b[92mINFO \u001b[0m:      [ROUND 9]\n",
      "\u001b[92mINFO \u001b[0m:      configure_fit: strategy sampled 4 clients (out of 4)\n"
     ]
    },
    {
     "name": "stdout",
     "output_type": "stream",
     "text": [
      "\u001b[2m\u001b[36m(ClientAppActor pid=2312932)\u001b[0m Epoch 100: Training accuracy: 74.28910064697266 Testing accuracy: 73.58490753173828.\u001b[32m [repeated 640x across cluster]\u001b[0m\n",
      "Server-side evaluation loss 0.033864406978382784 / accuracy 74.85659790039062\n"
     ]
    },
    {
     "name": "stderr",
     "output_type": "stream",
     "text": [
      "\u001b[92mINFO \u001b[0m:      aggregate_fit: received 4 results and 0 failures\n",
      "\u001b[92mINFO \u001b[0m:      fit progress: (9, 0.032457846052506394, {'accuracy': tensor(73.9962, device='cuda:0')}, 29.866551181999967)\n",
      "\u001b[92mINFO \u001b[0m:      configure_evaluate: strategy sampled 2 clients (out of 4)\n",
      "\u001b[92mINFO \u001b[0m:      aggregate_evaluate: received 2 results and 0 failures\n",
      "\u001b[92mINFO \u001b[0m:      \n",
      "\u001b[92mINFO \u001b[0m:      [ROUND 10]\n",
      "\u001b[92mINFO \u001b[0m:      configure_fit: strategy sampled 4 clients (out of 4)\n"
     ]
    },
    {
     "name": "stdout",
     "output_type": "stream",
     "text": [
      "Server-side evaluation loss 0.032457846052506394 / accuracy 73.99617767333984\n",
      "\u001b[2m\u001b[36m(ClientAppActor pid=2312932)\u001b[0m \u001b[32m [repeated 641x across cluster]\u001b[0m\n",
      "\u001b[2m\u001b[36m(ClientAppActor pid=2312932)\u001b[0m Epoch 17/100\u001b[32m [repeated 641x across cluster]\u001b[0m\n",
      "\u001b[2m\u001b[36m(ClientAppActor pid=2312932)\u001b[0m Epoch 29: Training accuracy: 73.93364715576172 Testing accuracy: 76.41509246826172.\u001b[32m [repeated 657x across cluster]\u001b[0m\n"
     ]
    },
    {
     "name": "stderr",
     "output_type": "stream",
     "text": [
      "\u001b[92mINFO \u001b[0m:      aggregate_fit: received 4 results and 0 failures\n",
      "\u001b[92mINFO \u001b[0m:      fit progress: (10, 0.03220673869637882, {'accuracy': tensor(75.1434, device='cuda:0')}, 33.08353783690836)\n",
      "\u001b[92mINFO \u001b[0m:      configure_evaluate: strategy sampled 2 clients (out of 4)\n",
      "\u001b[92mINFO \u001b[0m:      aggregate_evaluate: received 2 results and 0 failures\n",
      "\u001b[92mINFO \u001b[0m:      \n",
      "\u001b[92mINFO \u001b[0m:      [ROUND 11]\n",
      "\u001b[92mINFO \u001b[0m:      configure_fit: strategy sampled 4 clients (out of 4)\n"
     ]
    },
    {
     "name": "stdout",
     "output_type": "stream",
     "text": [
      "Server-side evaluation loss 0.03220673869637882 / accuracy 75.14340209960938\n"
     ]
    },
    {
     "name": "stderr",
     "output_type": "stream",
     "text": [
      "\u001b[92mINFO \u001b[0m:      aggregate_fit: received 4 results and 0 failures\n",
      "\u001b[92mINFO \u001b[0m:      fit progress: (11, 0.031277642530553484, {'accuracy': tensor(73.9006, device='cuda:0')}, 36.33689658297226)\n",
      "\u001b[92mINFO \u001b[0m:      configure_evaluate: strategy sampled 2 clients (out of 4)\n",
      "\u001b[92mINFO \u001b[0m:      aggregate_evaluate: received 2 results and 0 failures\n",
      "\u001b[92mINFO \u001b[0m:      \n",
      "\u001b[92mINFO \u001b[0m:      [ROUND 12]\n",
      "\u001b[92mINFO \u001b[0m:      configure_fit: strategy sampled 4 clients (out of 4)\n"
     ]
    },
    {
     "name": "stdout",
     "output_type": "stream",
     "text": [
      "Server-side evaluation loss 0.031277642530553484 / accuracy 73.90057373046875\n",
      "\u001b[2m\u001b[36m(ClientAppActor pid=2312932)\u001b[0m \u001b[32m [repeated 602x across cluster]\u001b[0m\n",
      "\u001b[2m\u001b[36m(ClientAppActor pid=2312932)\u001b[0m Epoch 19/100\u001b[32m [repeated 602x across cluster]\u001b[0m\n",
      "\u001b[2m\u001b[36m(ClientAppActor pid=2312932)\u001b[0m Epoch 33: Training accuracy: 76.52173614501953 Testing accuracy: 69.94219970703125.\u001b[32m [repeated 604x across cluster]\u001b[0m\n"
     ]
    },
    {
     "name": "stderr",
     "output_type": "stream",
     "text": [
      "\u001b[92mINFO \u001b[0m:      aggregate_fit: received 4 results and 0 failures\n",
      "\u001b[92mINFO \u001b[0m:      fit progress: (12, 0.03146512017530553, {'accuracy': tensor(74.9522, device='cuda:0')}, 39.50001303991303)\n",
      "\u001b[92mINFO \u001b[0m:      configure_evaluate: strategy sampled 2 clients (out of 4)\n",
      "\u001b[92mINFO \u001b[0m:      aggregate_evaluate: received 2 results and 0 failures\n",
      "\u001b[92mINFO \u001b[0m:      \n",
      "\u001b[92mINFO \u001b[0m:      [ROUND 13]\n",
      "\u001b[92mINFO \u001b[0m:      configure_fit: strategy sampled 4 clients (out of 4)\n"
     ]
    },
    {
     "name": "stdout",
     "output_type": "stream",
     "text": [
      "Server-side evaluation loss 0.03146512017530553 / accuracy 74.95220184326172\n",
      "\u001b[2m\u001b[36m(ClientAppActor pid=2312932)\u001b[0m \u001b[32m [repeated 640x across cluster]\u001b[0m\n",
      "\u001b[2m\u001b[36m(ClientAppActor pid=2312932)\u001b[0m Epoch 57/100\u001b[32m [repeated 640x across cluster]\u001b[0m\n",
      "\u001b[2m\u001b[36m(ClientAppActor pid=2312932)\u001b[0m Epoch 72: Training accuracy: 75.66719055175781 Testing accuracy: 75.0.\u001b[32m [repeated 640x across cluster]\u001b[0m\n"
     ]
    },
    {
     "name": "stderr",
     "output_type": "stream",
     "text": [
      "\u001b[92mINFO \u001b[0m:      aggregate_fit: received 4 results and 0 failures\n",
      "\u001b[92mINFO \u001b[0m:      fit progress: (13, 0.031283557415008545, {'accuracy': tensor(74.9522, device='cuda:0')}, 42.792353190947324)\n",
      "\u001b[92mINFO \u001b[0m:      configure_evaluate: strategy sampled 2 clients (out of 4)\n",
      "\u001b[92mINFO \u001b[0m:      aggregate_evaluate: received 2 results and 0 failures\n",
      "\u001b[92mINFO \u001b[0m:      \n",
      "\u001b[92mINFO \u001b[0m:      [ROUND 14]\n",
      "\u001b[92mINFO \u001b[0m:      configure_fit: strategy sampled 4 clients (out of 4)\n"
     ]
    },
    {
     "name": "stdout",
     "output_type": "stream",
     "text": [
      "Server-side evaluation loss 0.031283557415008545 / accuracy 74.95220184326172\n"
     ]
    },
    {
     "name": "stderr",
     "output_type": "stream",
     "text": [
      "\u001b[92mINFO \u001b[0m:      aggregate_fit: received 4 results and 0 failures\n",
      "\u001b[92mINFO \u001b[0m:      fit progress: (14, 0.0313113016240737, {'accuracy': tensor(74.8566, device='cuda:0')}, 45.89597038796637)\n",
      "\u001b[92mINFO \u001b[0m:      configure_evaluate: strategy sampled 2 clients (out of 4)\n",
      "\u001b[92mINFO \u001b[0m:      aggregate_evaluate: received 2 results and 0 failures\n",
      "\u001b[92mINFO \u001b[0m:      \n",
      "\u001b[92mINFO \u001b[0m:      [ROUND 15]\n",
      "\u001b[92mINFO \u001b[0m:      configure_fit: strategy sampled 4 clients (out of 4)\n"
     ]
    },
    {
     "name": "stdout",
     "output_type": "stream",
     "text": [
      "Server-side evaluation loss 0.0313113016240737 / accuracy 74.85659790039062\n",
      "\u001b[2m\u001b[36m(ClientAppActor pid=2312932)\u001b[0m \u001b[32m [repeated 620x across cluster]\u001b[0m\n",
      "\u001b[2m\u001b[36m(ClientAppActor pid=2312932)\u001b[0m Epoch 57/100\u001b[32m [repeated 620x across cluster]\u001b[0m\n",
      "\u001b[2m\u001b[36m(ClientAppActor pid=2312932)\u001b[0m Epoch 72: Training accuracy: 74.41130065917969 Testing accuracy: 76.875.\u001b[32m [repeated 616x across cluster]\u001b[0m\n"
     ]
    },
    {
     "name": "stderr",
     "output_type": "stream",
     "text": [
      "\u001b[92mINFO \u001b[0m:      aggregate_fit: received 4 results and 0 failures\n",
      "\u001b[92mINFO \u001b[0m:      fit progress: (15, 0.03115560727960923, {'accuracy': tensor(75.1434, device='cuda:0')}, 49.16860096191522)\n",
      "\u001b[92mINFO \u001b[0m:      configure_evaluate: strategy sampled 2 clients (out of 4)\n",
      "\u001b[92mINFO \u001b[0m:      aggregate_evaluate: received 2 results and 0 failures\n",
      "\u001b[92mINFO \u001b[0m:      \n",
      "\u001b[92mINFO \u001b[0m:      [ROUND 16]\n",
      "\u001b[92mINFO \u001b[0m:      configure_fit: strategy sampled 4 clients (out of 4)\n"
     ]
    },
    {
     "name": "stdout",
     "output_type": "stream",
     "text": [
      "Server-side evaluation loss 0.03115560727960923 / accuracy 75.14340209960938\n",
      "\u001b[2m\u001b[36m(ClientAppActor pid=2312932)\u001b[0m \u001b[32m [repeated 656x across cluster]\u001b[0m\n",
      "\u001b[2m\u001b[36m(ClientAppActor pid=2312932)\u001b[0m Epoch 69/100\u001b[32m [repeated 656x across cluster]\u001b[0m\n",
      "\u001b[2m\u001b[36m(ClientAppActor pid=2312932)\u001b[0m Epoch 80: Training accuracy: 74.76303100585938 Testing accuracy: 76.88679504394531.\u001b[32m [repeated 657x across cluster]\u001b[0m\n"
     ]
    },
    {
     "name": "stderr",
     "output_type": "stream",
     "text": [
      "\u001b[92mINFO \u001b[0m:      aggregate_fit: received 4 results and 0 failures\n",
      "\u001b[92mINFO \u001b[0m:      fit progress: (16, 0.03132843620636884, {'accuracy': tensor(75.7170, device='cuda:0')}, 52.33134141692426)\n",
      "\u001b[92mINFO \u001b[0m:      configure_evaluate: strategy sampled 2 clients (out of 4)\n",
      "\u001b[92mINFO \u001b[0m:      aggregate_evaluate: received 2 results and 0 failures\n",
      "\u001b[92mINFO \u001b[0m:      \n",
      "\u001b[92mINFO \u001b[0m:      [ROUND 17]\n",
      "\u001b[92mINFO \u001b[0m:      configure_fit: strategy sampled 4 clients (out of 4)\n"
     ]
    },
    {
     "name": "stdout",
     "output_type": "stream",
     "text": [
      "Server-side evaluation loss 0.03132843620636884 / accuracy 75.7170181274414\n"
     ]
    },
    {
     "name": "stderr",
     "output_type": "stream",
     "text": [
      "\u001b[92mINFO \u001b[0m:      aggregate_fit: received 4 results and 0 failures\n",
      "\u001b[92mINFO \u001b[0m:      fit progress: (17, 0.030725598335266113, {'accuracy': tensor(74.6654, device='cuda:0')}, 55.71127033489756)\n",
      "\u001b[92mINFO \u001b[0m:      configure_evaluate: strategy sampled 2 clients (out of 4)\n",
      "\u001b[92mINFO \u001b[0m:      aggregate_evaluate: received 2 results and 0 failures\n",
      "\u001b[92mINFO \u001b[0m:      \n",
      "\u001b[92mINFO \u001b[0m:      [ROUND 18]\n",
      "\u001b[92mINFO \u001b[0m:      configure_fit: strategy sampled 4 clients (out of 4)\n"
     ]
    },
    {
     "name": "stdout",
     "output_type": "stream",
     "text": [
      "Server-side evaluation loss 0.030725598335266113 / accuracy 74.66539001464844\n",
      "\u001b[2m\u001b[36m(ClientAppActor pid=2312932)\u001b[0m \u001b[32m [repeated 605x across cluster]\u001b[0m\n",
      "\u001b[2m\u001b[36m(ClientAppActor pid=2312932)\u001b[0m Epoch 80/100\u001b[32m [repeated 605x across cluster]\u001b[0m\n",
      "\u001b[2m\u001b[36m(ClientAppActor pid=2312932)\u001b[0m Epoch 93: Training accuracy: 78.56094360351562 Testing accuracy: 77.19298553466797.\u001b[32m [repeated 607x across cluster]\u001b[0m\n"
     ]
    },
    {
     "name": "stderr",
     "output_type": "stream",
     "text": [
      "\u001b[92mINFO \u001b[0m:      aggregate_fit: received 4 results and 0 failures\n",
      "\u001b[92mINFO \u001b[0m:      fit progress: (18, 0.03082538001677569, {'accuracy': tensor(75.1434, device='cuda:0')}, 58.9253935739398)\n",
      "\u001b[92mINFO \u001b[0m:      configure_evaluate: strategy sampled 2 clients (out of 4)\n",
      "\u001b[92mINFO \u001b[0m:      aggregate_evaluate: received 2 results and 0 failures\n",
      "\u001b[92mINFO \u001b[0m:      \n",
      "\u001b[92mINFO \u001b[0m:      [ROUND 19]\n",
      "\u001b[92mINFO \u001b[0m:      configure_fit: strategy sampled 4 clients (out of 4)\n"
     ]
    },
    {
     "name": "stdout",
     "output_type": "stream",
     "text": [
      "Server-side evaluation loss 0.03082538001677569 / accuracy 75.14340209960938\n",
      "\u001b[2m\u001b[36m(ClientAppActor pid=2312935)\u001b[0m \u001b[32m [repeated 626x across cluster]\u001b[0m\n",
      "\u001b[2m\u001b[36m(ClientAppActor pid=2312935)\u001b[0m Epoch 79/100\u001b[32m [repeated 626x across cluster]\u001b[0m\n"
     ]
    },
    {
     "name": "stderr",
     "output_type": "stream",
     "text": [
      "\u001b[92mINFO \u001b[0m:      aggregate_fit: received 4 results and 0 failures\n"
     ]
    },
    {
     "name": "stdout",
     "output_type": "stream",
     "text": [
      "\u001b[2m\u001b[36m(ClientAppActor pid=2312935)\u001b[0m Epoch 89: Training accuracy: 77.48815155029297 Testing accuracy: 76.88679504394531.\u001b[32m [repeated 608x across cluster]\u001b[0m\n"
     ]
    },
    {
     "name": "stderr",
     "output_type": "stream",
     "text": [
      "\u001b[92mINFO \u001b[0m:      fit progress: (19, 0.030914303134469426, {'accuracy': tensor(75.9082, device='cuda:0')}, 62.26935000496451)\n",
      "\u001b[92mINFO \u001b[0m:      configure_evaluate: strategy sampled 2 clients (out of 4)\n",
      "\u001b[92mINFO \u001b[0m:      aggregate_evaluate: received 2 results and 0 failures\n",
      "\u001b[92mINFO \u001b[0m:      \n",
      "\u001b[92mINFO \u001b[0m:      [ROUND 20]\n",
      "\u001b[92mINFO \u001b[0m:      configure_fit: strategy sampled 4 clients (out of 4)\n"
     ]
    },
    {
     "name": "stdout",
     "output_type": "stream",
     "text": [
      "Server-side evaluation loss 0.030914303134469426 / accuracy 75.90821838378906\n"
     ]
    },
    {
     "name": "stderr",
     "output_type": "stream",
     "text": [
      "\u001b[92mINFO \u001b[0m:      aggregate_fit: received 4 results and 0 failures\n",
      "\u001b[92mINFO \u001b[0m:      fit progress: (20, 0.030831684084499583, {'accuracy': tensor(75.8126, device='cuda:0')}, 65.403779500979)\n",
      "\u001b[92mINFO \u001b[0m:      configure_evaluate: strategy sampled 2 clients (out of 4)\n",
      "\u001b[92mINFO \u001b[0m:      aggregate_evaluate: received 2 results and 0 failures\n",
      "\u001b[92mINFO \u001b[0m:      \n",
      "\u001b[92mINFO \u001b[0m:      [ROUND 21]\n",
      "\u001b[92mINFO \u001b[0m:      configure_fit: strategy sampled 4 clients (out of 4)\n"
     ]
    },
    {
     "name": "stdout",
     "output_type": "stream",
     "text": [
      "Server-side evaluation loss 0.030831684084499583 / accuracy 75.8126220703125\n",
      "\u001b[2m\u001b[36m(ClientAppActor pid=2312932)\u001b[0m \u001b[32m [repeated 600x across cluster]\u001b[0m\n",
      "\u001b[2m\u001b[36m(ClientAppActor pid=2312932)\u001b[0m Epoch 3/100\u001b[32m [repeated 600x across cluster]\u001b[0m\n",
      "\u001b[2m\u001b[36m(ClientAppActor pid=2312932)\u001b[0m Epoch 18: Training accuracy: 77.23704528808594 Testing accuracy: 75.625.\u001b[32m [repeated 615x across cluster]\u001b[0m\n"
     ]
    },
    {
     "name": "stderr",
     "output_type": "stream",
     "text": [
      "\u001b[92mINFO \u001b[0m:      aggregate_fit: received 4 results and 0 failures\n",
      "\u001b[92mINFO \u001b[0m:      fit progress: (21, 0.030870451646692613, {'accuracy': tensor(75.9082, device='cuda:0')}, 68.755100623006)\n",
      "\u001b[92mINFO \u001b[0m:      configure_evaluate: strategy sampled 2 clients (out of 4)\n",
      "\u001b[92mINFO \u001b[0m:      aggregate_evaluate: received 2 results and 0 failures\n",
      "\u001b[92mINFO \u001b[0m:      \n",
      "\u001b[92mINFO \u001b[0m:      [ROUND 22]\n",
      "\u001b[92mINFO \u001b[0m:      configure_fit: strategy sampled 4 clients (out of 4)\n"
     ]
    },
    {
     "name": "stdout",
     "output_type": "stream",
     "text": [
      "Server-side evaluation loss 0.030870451646692613 / accuracy 75.90821838378906\n"
     ]
    },
    {
     "name": "stderr",
     "output_type": "stream",
     "text": [
      "\u001b[92mINFO \u001b[0m:      aggregate_fit: received 4 results and 0 failures\n",
      "\u001b[92mINFO \u001b[0m:      fit progress: (22, 0.03086607947069056, {'accuracy': tensor(75.8126, device='cuda:0')}, 72.03141822398175)\n",
      "\u001b[92mINFO \u001b[0m:      configure_evaluate: strategy sampled 2 clients (out of 4)\n",
      "\u001b[92mINFO \u001b[0m:      aggregate_evaluate: received 2 results and 0 failures\n",
      "\u001b[92mINFO \u001b[0m:      \n",
      "\u001b[92mINFO \u001b[0m:      [ROUND 23]\n",
      "\u001b[92mINFO \u001b[0m:      configure_fit: strategy sampled 4 clients (out of 4)\n"
     ]
    },
    {
     "name": "stdout",
     "output_type": "stream",
     "text": [
      "\u001b[2m\u001b[36m(ClientAppActor pid=2312935)\u001b[0m \u001b[32m [repeated 620x across cluster]\u001b[0m\n",
      "\u001b[2m\u001b[36m(ClientAppActor pid=2312935)\u001b[0m Epoch 99/100\u001b[32m [repeated 620x across cluster]\u001b[0m\n",
      "Server-side evaluation loss 0.03086607947069056 / accuracy 75.8126220703125\n",
      "\u001b[2m\u001b[36m(ClientAppActor pid=2312932)\u001b[0m Epoch 5: Training accuracy: 77.25118255615234 Testing accuracy: 76.88679504394531.\u001b[32m [repeated 601x across cluster]\u001b[0m\n"
     ]
    },
    {
     "name": "stderr",
     "output_type": "stream",
     "text": [
      "\u001b[92mINFO \u001b[0m:      aggregate_fit: received 4 results and 0 failures\n",
      "\u001b[92mINFO \u001b[0m:      fit progress: (23, 0.030715710976544547, {'accuracy': tensor(75.1434, device='cuda:0')}, 75.29988196899649)\n",
      "\u001b[92mINFO \u001b[0m:      configure_evaluate: strategy sampled 2 clients (out of 4)\n",
      "\u001b[92mINFO \u001b[0m:      aggregate_evaluate: received 2 results and 0 failures\n",
      "\u001b[92mINFO \u001b[0m:      \n",
      "\u001b[92mINFO \u001b[0m:      [ROUND 24]\n",
      "\u001b[92mINFO \u001b[0m:      configure_fit: strategy sampled 4 clients (out of 4)\n"
     ]
    },
    {
     "name": "stdout",
     "output_type": "stream",
     "text": [
      "Server-side evaluation loss 0.030715710976544547 / accuracy 75.14340209960938\n",
      "\u001b[2m\u001b[36m(ClientAppActor pid=2312932)\u001b[0m \u001b[32m [repeated 622x across cluster]\u001b[0m\n",
      "\u001b[2m\u001b[36m(ClientAppActor pid=2312932)\u001b[0m Epoch 30/100\u001b[32m [repeated 622x across cluster]\u001b[0m\n",
      "\u001b[2m\u001b[36m(ClientAppActor pid=2312932)\u001b[0m Epoch 44: Training accuracy: 77.82608795166016 Testing accuracy: 65.89595031738281.\u001b[32m [repeated 639x across cluster]\u001b[0m\n"
     ]
    },
    {
     "name": "stderr",
     "output_type": "stream",
     "text": [
      "\u001b[92mINFO \u001b[0m:      aggregate_fit: received 4 results and 0 failures\n",
      "\u001b[92mINFO \u001b[0m:      fit progress: (24, 0.030830733916338754, {'accuracy': tensor(76.0994, device='cuda:0')}, 78.58232224499807)\n",
      "\u001b[92mINFO \u001b[0m:      configure_evaluate: strategy sampled 2 clients (out of 4)\n",
      "\u001b[92mINFO \u001b[0m:      aggregate_evaluate: received 2 results and 0 failures\n",
      "\u001b[92mINFO \u001b[0m:      \n",
      "\u001b[92mINFO \u001b[0m:      [ROUND 25]\n",
      "\u001b[92mINFO \u001b[0m:      configure_fit: strategy sampled 4 clients (out of 4)\n"
     ]
    },
    {
     "name": "stdout",
     "output_type": "stream",
     "text": [
      "Server-side evaluation loss 0.030830733916338754 / accuracy 76.09942626953125\n"
     ]
    },
    {
     "name": "stderr",
     "output_type": "stream",
     "text": [
      "\u001b[92mINFO \u001b[0m:      aggregate_fit: received 4 results and 0 failures\n",
      "\u001b[92mINFO \u001b[0m:      fit progress: (25, 0.030710974160362694, {'accuracy': tensor(74.4742, device='cuda:0')}, 81.6672738409834)\n",
      "\u001b[92mINFO \u001b[0m:      configure_evaluate: strategy sampled 2 clients (out of 4)\n",
      "\u001b[92mINFO \u001b[0m:      aggregate_evaluate: received 2 results and 0 failures\n",
      "\u001b[92mINFO \u001b[0m:      \n",
      "\u001b[92mINFO \u001b[0m:      [ROUND 26]\n",
      "\u001b[92mINFO \u001b[0m:      configure_fit: strategy sampled 4 clients (out of 4)\n"
     ]
    },
    {
     "name": "stdout",
     "output_type": "stream",
     "text": [
      "Server-side evaluation loss 0.030710974160362694 / accuracy 74.47418975830078\n",
      "\u001b[2m\u001b[36m(ClientAppActor pid=2312932)\u001b[0m \u001b[32m [repeated 632x across cluster]\u001b[0m\n",
      "\u001b[2m\u001b[36m(ClientAppActor pid=2312932)\u001b[0m Epoch 30/100\u001b[32m [repeated 632x across cluster]\u001b[0m\n",
      "\u001b[2m\u001b[36m(ClientAppActor pid=2312932)\u001b[0m Epoch 44: Training accuracy: 77.68115997314453 Testing accuracy: 68.78612518310547.\u001b[32m [repeated 637x across cluster]\u001b[0m\n"
     ]
    },
    {
     "name": "stderr",
     "output_type": "stream",
     "text": [
      "\u001b[92mINFO \u001b[0m:      aggregate_fit: received 4 results and 0 failures\n",
      "\u001b[92mINFO \u001b[0m:      fit progress: (26, 0.030815594336565805, {'accuracy': tensor(75.9082, device='cuda:0')}, 85.08870379789732)\n",
      "\u001b[92mINFO \u001b[0m:      configure_evaluate: strategy sampled 2 clients (out of 4)\n",
      "\u001b[92mINFO \u001b[0m:      aggregate_evaluate: received 2 results and 0 failures\n",
      "\u001b[92mINFO \u001b[0m:      \n",
      "\u001b[92mINFO \u001b[0m:      [ROUND 27]\n",
      "\u001b[92mINFO \u001b[0m:      configure_fit: strategy sampled 4 clients (out of 4)\n"
     ]
    },
    {
     "name": "stdout",
     "output_type": "stream",
     "text": [
      "Server-side evaluation loss 0.030815594336565805 / accuracy 75.90821838378906\n",
      "\u001b[2m\u001b[36m(ClientAppActor pid=2312932)\u001b[0m \u001b[32m [repeated 623x across cluster]\u001b[0m\n",
      "\u001b[2m\u001b[36m(ClientAppActor pid=2312932)\u001b[0m Epoch 27/100\u001b[32m [repeated 623x across cluster]\u001b[0m\n",
      "\u001b[2m\u001b[36m(ClientAppActor pid=2312932)\u001b[0m Epoch 41: Training accuracy: 77.82608795166016 Testing accuracy: 68.20809173583984.\u001b[32m [repeated 622x across cluster]\u001b[0m\n"
     ]
    },
    {
     "name": "stderr",
     "output_type": "stream",
     "text": [
      "\u001b[92mINFO \u001b[0m:      aggregate_fit: received 4 results and 0 failures\n",
      "\u001b[92mINFO \u001b[0m:      fit progress: (27, 0.030919930514167335, {'accuracy': tensor(76.7686, device='cuda:0')}, 88.29450815892778)\n",
      "\u001b[92mINFO \u001b[0m:      configure_evaluate: strategy sampled 2 clients (out of 4)\n",
      "\u001b[92mINFO \u001b[0m:      aggregate_evaluate: received 2 results and 0 failures\n",
      "\u001b[92mINFO \u001b[0m:      \n",
      "\u001b[92mINFO \u001b[0m:      [ROUND 28]\n",
      "\u001b[92mINFO \u001b[0m:      configure_fit: strategy sampled 4 clients (out of 4)\n"
     ]
    },
    {
     "name": "stdout",
     "output_type": "stream",
     "text": [
      "Server-side evaluation loss 0.030919930514167335 / accuracy 76.76864624023438\n"
     ]
    },
    {
     "name": "stderr",
     "output_type": "stream",
     "text": [
      "\u001b[92mINFO \u001b[0m:      aggregate_fit: received 4 results and 0 failures\n",
      "\u001b[92mINFO \u001b[0m:      fit progress: (28, 0.030800889520084158, {'accuracy': tensor(73.7094, device='cuda:0')}, 91.50883560196962)\n",
      "\u001b[92mINFO \u001b[0m:      configure_evaluate: strategy sampled 2 clients (out of 4)\n",
      "\u001b[92mINFO \u001b[0m:      aggregate_evaluate: received 2 results and 0 failures\n",
      "\u001b[92mINFO \u001b[0m:      \n",
      "\u001b[92mINFO \u001b[0m:      [ROUND 29]\n",
      "\u001b[92mINFO \u001b[0m:      configure_fit: strategy sampled 4 clients (out of 4)\n"
     ]
    },
    {
     "name": "stdout",
     "output_type": "stream",
     "text": [
      "Server-side evaluation loss 0.030800889520084158 / accuracy 73.70936584472656\n",
      "\u001b[2m\u001b[36m(ClientAppActor pid=2312932)\u001b[0m \u001b[32m [repeated 616x across cluster]\u001b[0m\n",
      "\u001b[2m\u001b[36m(ClientAppActor pid=2312932)\u001b[0m Epoch 45/100\u001b[32m [repeated 616x across cluster]\u001b[0m\n",
      "\u001b[2m\u001b[36m(ClientAppActor pid=2312932)\u001b[0m Epoch 56: Training accuracy: 78.43601989746094 Testing accuracy: 76.88679504394531.\u001b[32m [repeated 613x across cluster]\u001b[0m\n"
     ]
    },
    {
     "name": "stderr",
     "output_type": "stream",
     "text": [
      "\u001b[92mINFO \u001b[0m:      aggregate_fit: received 4 results and 0 failures\n",
      "\u001b[92mINFO \u001b[0m:      fit progress: (29, 0.03082248042611515, {'accuracy': tensor(74.6654, device='cuda:0')}, 94.69647710793652)\n",
      "\u001b[92mINFO \u001b[0m:      configure_evaluate: strategy sampled 2 clients (out of 4)\n",
      "\u001b[92mINFO \u001b[0m:      aggregate_evaluate: received 2 results and 0 failures\n",
      "\u001b[92mINFO \u001b[0m:      \n",
      "\u001b[92mINFO \u001b[0m:      [ROUND 30]\n",
      "\u001b[92mINFO \u001b[0m:      configure_fit: strategy sampled 4 clients (out of 4)\n"
     ]
    },
    {
     "name": "stdout",
     "output_type": "stream",
     "text": [
      "Server-side evaluation loss 0.03082248042611515 / accuracy 74.66539001464844\n",
      "\u001b[2m\u001b[36m(ClientAppActor pid=2312932)\u001b[0m \u001b[32m [repeated 673x across cluster]\u001b[0m\n",
      "\u001b[2m\u001b[36m(ClientAppActor pid=2312932)\u001b[0m Epoch 100/100\u001b[32m [repeated 673x across cluster]\u001b[0m\n",
      "\u001b[2m\u001b[36m(ClientAppActor pid=2312935)\u001b[0m Epoch 81: Training accuracy: 77.60663604736328 Testing accuracy: 76.41509246826172.\u001b[32m [repeated 665x across cluster]\u001b[0m\n"
     ]
    },
    {
     "name": "stderr",
     "output_type": "stream",
     "text": [
      "\u001b[92mINFO \u001b[0m:      aggregate_fit: received 4 results and 0 failures\n",
      "\u001b[92mINFO \u001b[0m:      fit progress: (30, 0.0308611603344188, {'accuracy': tensor(73.5182, device='cuda:0')}, 97.98274293891154)\n",
      "\u001b[92mINFO \u001b[0m:      configure_evaluate: strategy sampled 2 clients (out of 4)\n",
      "\u001b[92mINFO \u001b[0m:      aggregate_evaluate: received 2 results and 0 failures\n",
      "\u001b[92mINFO \u001b[0m:      \n",
      "\u001b[92mINFO \u001b[0m:      [ROUND 31]\n",
      "\u001b[92mINFO \u001b[0m:      configure_fit: strategy sampled 4 clients (out of 4)\n"
     ]
    },
    {
     "name": "stdout",
     "output_type": "stream",
     "text": [
      "Server-side evaluation loss 0.0308611603344188 / accuracy 73.5181655883789\n"
     ]
    },
    {
     "name": "stderr",
     "output_type": "stream",
     "text": [
      "\u001b[92mINFO \u001b[0m:      aggregate_fit: received 4 results and 0 failures\n",
      "\u001b[92mINFO \u001b[0m:      fit progress: (31, 0.03090038720299216, {'accuracy': tensor(75.8126, device='cuda:0')}, 101.17885131796356)\n",
      "\u001b[92mINFO \u001b[0m:      configure_evaluate: strategy sampled 2 clients (out of 4)\n",
      "\u001b[92mINFO \u001b[0m:      aggregate_evaluate: received 2 results and 0 failures\n",
      "\u001b[92mINFO \u001b[0m:      \n",
      "\u001b[92mINFO \u001b[0m:      [ROUND 32]\n",
      "\u001b[92mINFO \u001b[0m:      configure_fit: strategy sampled 4 clients (out of 4)\n"
     ]
    },
    {
     "name": "stdout",
     "output_type": "stream",
     "text": [
      "Server-side evaluation loss 0.03090038720299216 / accuracy 75.8126220703125\n",
      "\u001b[2m\u001b[36m(ClientAppActor pid=2312932)\u001b[0m \u001b[32m [repeated 582x across cluster]\u001b[0m\n",
      "\u001b[2m\u001b[36m(ClientAppActor pid=2312932)\u001b[0m Epoch 85/100\u001b[32m [repeated 582x across cluster]\u001b[0m\n",
      "\u001b[2m\u001b[36m(ClientAppActor pid=2312932)\u001b[0m Epoch 99: Training accuracy: 79.88252258300781 Testing accuracy: 80.70175170898438.\u001b[32m [repeated 591x across cluster]\u001b[0m\n"
     ]
    },
    {
     "name": "stderr",
     "output_type": "stream",
     "text": [
      "\u001b[92mINFO \u001b[0m:      aggregate_fit: received 4 results and 0 failures\n",
      "\u001b[92mINFO \u001b[0m:      fit progress: (32, 0.03097238961388083, {'accuracy': tensor(76.1950, device='cuda:0')}, 104.50565609789919)\n",
      "\u001b[92mINFO \u001b[0m:      configure_evaluate: strategy sampled 2 clients (out of 4)\n",
      "\u001b[92mINFO \u001b[0m:      aggregate_evaluate: received 2 results and 0 failures\n",
      "\u001b[92mINFO \u001b[0m:      \n",
      "\u001b[92mINFO \u001b[0m:      [ROUND 33]\n",
      "\u001b[92mINFO \u001b[0m:      configure_fit: strategy sampled 4 clients (out of 4)\n"
     ]
    },
    {
     "name": "stdout",
     "output_type": "stream",
     "text": [
      "Server-side evaluation loss 0.03097238961388083 / accuracy 76.19503021240234\n",
      "\u001b[2m\u001b[36m(ClientAppActor pid=2312935)\u001b[0m \u001b[32m [repeated 632x across cluster]\u001b[0m\n",
      "\u001b[2m\u001b[36m(ClientAppActor pid=2312935)\u001b[0m Epoch 79/100\u001b[32m [repeated 632x across cluster]\u001b[0m\n",
      "\u001b[2m\u001b[36m(ClientAppActor pid=2312935)\u001b[0m Epoch 90: Training accuracy: 77.7251205444336 Testing accuracy: 76.41509246826172.\u001b[32m [repeated 618x across cluster]\u001b[0m\n"
     ]
    },
    {
     "name": "stderr",
     "output_type": "stream",
     "text": [
      "\u001b[92mINFO \u001b[0m:      aggregate_fit: received 4 results and 0 failures\n",
      "\u001b[92mINFO \u001b[0m:      fit progress: (33, 0.031014414394603056, {'accuracy': tensor(76.1950, device='cuda:0')}, 107.9441150429193)\n",
      "\u001b[92mINFO \u001b[0m:      configure_evaluate: strategy sampled 2 clients (out of 4)\n",
      "\u001b[92mINFO \u001b[0m:      aggregate_evaluate: received 2 results and 0 failures\n",
      "\u001b[92mINFO \u001b[0m:      \n",
      "\u001b[92mINFO \u001b[0m:      [ROUND 34]\n",
      "\u001b[92mINFO \u001b[0m:      configure_fit: strategy sampled 4 clients (out of 4)\n"
     ]
    },
    {
     "name": "stdout",
     "output_type": "stream",
     "text": [
      "Server-side evaluation loss 0.031014414394603056 / accuracy 76.19503021240234\n"
     ]
    },
    {
     "name": "stderr",
     "output_type": "stream",
     "text": [
      "\u001b[92mINFO \u001b[0m:      aggregate_fit: received 4 results and 0 failures\n",
      "\u001b[92mINFO \u001b[0m:      fit progress: (34, 0.03101634278016932, {'accuracy': tensor(76.2906, device='cuda:0')}, 111.27878424199298)\n",
      "\u001b[92mINFO \u001b[0m:      configure_evaluate: strategy sampled 2 clients (out of 4)\n",
      "\u001b[92mINFO \u001b[0m:      aggregate_evaluate: received 2 results and 0 failures\n",
      "\u001b[92mINFO \u001b[0m:      \n",
      "\u001b[92mINFO \u001b[0m:      [ROUND 35]\n",
      "\u001b[92mINFO \u001b[0m:      configure_fit: strategy sampled 4 clients (out of 4)\n"
     ]
    },
    {
     "name": "stdout",
     "output_type": "stream",
     "text": [
      "Server-side evaluation loss 0.03101634278016932 / accuracy 76.29063415527344\n",
      "\u001b[2m\u001b[36m(ClientAppActor pid=2312932)\u001b[0m \u001b[32m [repeated 598x across cluster]\u001b[0m\n",
      "\u001b[2m\u001b[36m(ClientAppActor pid=2312932)\u001b[0m Epoch 94/100\u001b[32m [repeated 598x across cluster]\u001b[0m\n",
      "\u001b[2m\u001b[36m(ClientAppActor pid=2312932)\u001b[0m Epoch 6: Training accuracy: 77.864990234375 Testing accuracy: 74.375.\u001b[32m [repeated 613x across cluster]\u001b[0m\n"
     ]
    },
    {
     "name": "stderr",
     "output_type": "stream",
     "text": [
      "\u001b[92mINFO \u001b[0m:      aggregate_fit: received 4 results and 0 failures\n",
      "\u001b[92mINFO \u001b[0m:      fit progress: (35, 0.03106118300381829, {'accuracy': tensor(76.0038, device='cuda:0')}, 114.63965466700029)\n",
      "\u001b[92mINFO \u001b[0m:      configure_evaluate: strategy sampled 2 clients (out of 4)\n",
      "\u001b[92mINFO \u001b[0m:      aggregate_evaluate: received 2 results and 0 failures\n",
      "\u001b[92mINFO \u001b[0m:      \n",
      "\u001b[92mINFO \u001b[0m:      [ROUND 36]\n",
      "\u001b[92mINFO \u001b[0m:      configure_fit: strategy sampled 4 clients (out of 4)\n"
     ]
    },
    {
     "name": "stdout",
     "output_type": "stream",
     "text": [
      "Server-side evaluation loss 0.03106118300381829 / accuracy 76.00382232666016\n"
     ]
    },
    {
     "name": "stderr",
     "output_type": "stream",
     "text": [
      "\u001b[92mINFO \u001b[0m:      aggregate_fit: received 4 results and 0 failures\n"
     ]
    },
    {
     "name": "stdout",
     "output_type": "stream",
     "text": [
      "\u001b[2m\u001b[36m(ClientAppActor pid=2312935)\u001b[0m \u001b[32m [repeated 614x across cluster]\u001b[0m\n",
      "\u001b[2m\u001b[36m(ClientAppActor pid=2312935)\u001b[0m Epoch 91/100\u001b[32m [repeated 614x across cluster]\u001b[0m\n"
     ]
    },
    {
     "name": "stderr",
     "output_type": "stream",
     "text": [
      "\u001b[92mINFO \u001b[0m:      fit progress: (36, 0.03111394713906681, {'accuracy': tensor(76.2906, device='cuda:0')}, 117.91081064101309)\n",
      "\u001b[92mINFO \u001b[0m:      configure_evaluate: strategy sampled 2 clients (out of 4)\n",
      "\u001b[92mINFO \u001b[0m:      aggregate_evaluate: received 2 results and 0 failures\n",
      "\u001b[92mINFO \u001b[0m:      \n",
      "\u001b[92mINFO \u001b[0m:      [ROUND 37]\n",
      "\u001b[92mINFO \u001b[0m:      configure_fit: strategy sampled 4 clients (out of 4)\n"
     ]
    },
    {
     "name": "stdout",
     "output_type": "stream",
     "text": [
      "Server-side evaluation loss 0.03111394713906681 / accuracy 76.29063415527344\n",
      "\u001b[2m\u001b[36m(ClientAppActor pid=2312935)\u001b[0m Epoch 100: Training accuracy: 77.36966705322266 Testing accuracy: 74.05660247802734.\u001b[32m [repeated 597x across cluster]\u001b[0m\n"
     ]
    },
    {
     "name": "stderr",
     "output_type": "stream",
     "text": [
      "\u001b[92mINFO \u001b[0m:      aggregate_fit: received 4 results and 0 failures\n",
      "\u001b[92mINFO \u001b[0m:      fit progress: (37, 0.03130494847017176, {'accuracy': tensor(77.0555, device='cuda:0')}, 121.02785202290397)\n",
      "\u001b[92mINFO \u001b[0m:      configure_evaluate: strategy sampled 2 clients (out of 4)\n",
      "\u001b[92mINFO \u001b[0m:      aggregate_evaluate: received 2 results and 0 failures\n",
      "\u001b[92mINFO \u001b[0m:      \n",
      "\u001b[92mINFO \u001b[0m:      [ROUND 38]\n",
      "\u001b[92mINFO \u001b[0m:      configure_fit: strategy sampled 4 clients (out of 4)\n"
     ]
    },
    {
     "name": "stdout",
     "output_type": "stream",
     "text": [
      "Server-side evaluation loss 0.03130494847017176 / accuracy 77.05545043945312\n",
      "\u001b[2m\u001b[36m(ClientAppActor pid=2312932)\u001b[0m \u001b[32m [repeated 631x across cluster]\u001b[0m\n",
      "\u001b[2m\u001b[36m(ClientAppActor pid=2312932)\u001b[0m Epoch 100/100\u001b[32m [repeated 631x across cluster]\u001b[0m\n",
      "\u001b[2m\u001b[36m(ClientAppActor pid=2312932)\u001b[0m Epoch 12: Training accuracy: 79.4419937133789 Testing accuracy: 76.60818481445312.\u001b[32m [repeated 646x across cluster]\u001b[0m\n"
     ]
    },
    {
     "name": "stderr",
     "output_type": "stream",
     "text": [
      "\u001b[92mINFO \u001b[0m:      aggregate_fit: received 4 results and 0 failures\n",
      "\u001b[92mINFO \u001b[0m:      fit progress: (38, 0.031313710352953744, {'accuracy': tensor(77.0555, device='cuda:0')}, 124.30345883395057)\n",
      "\u001b[92mINFO \u001b[0m:      configure_evaluate: strategy sampled 2 clients (out of 4)\n",
      "\u001b[92mINFO \u001b[0m:      aggregate_evaluate: received 2 results and 0 failures\n",
      "\u001b[92mINFO \u001b[0m:      \n",
      "\u001b[92mINFO \u001b[0m:      [ROUND 39]\n",
      "\u001b[92mINFO \u001b[0m:      configure_fit: strategy sampled 4 clients (out of 4)\n"
     ]
    },
    {
     "name": "stdout",
     "output_type": "stream",
     "text": [
      "Server-side evaluation loss 0.031313710352953744 / accuracy 77.05545043945312\n"
     ]
    },
    {
     "name": "stderr",
     "output_type": "stream",
     "text": [
      "\u001b[92mINFO \u001b[0m:      aggregate_fit: received 4 results and 0 failures\n",
      "\u001b[92mINFO \u001b[0m:      fit progress: (39, 0.031233026700861314, {'accuracy': tensor(76.6730, device='cuda:0')}, 127.55012674001046)\n",
      "\u001b[92mINFO \u001b[0m:      configure_evaluate: strategy sampled 2 clients (out of 4)\n",
      "\u001b[92mINFO \u001b[0m:      aggregate_evaluate: received 2 results and 0 failures\n",
      "\u001b[92mINFO \u001b[0m:      \n",
      "\u001b[92mINFO \u001b[0m:      [ROUND 40]\n",
      "\u001b[92mINFO \u001b[0m:      configure_fit: strategy sampled 4 clients (out of 4)\n"
     ]
    },
    {
     "name": "stdout",
     "output_type": "stream",
     "text": [
      "Server-side evaluation loss 0.031233026700861314 / accuracy 76.67304229736328\n",
      "\u001b[2m\u001b[36m(ClientAppActor pid=2312932)\u001b[0m \u001b[32m [repeated 615x across cluster]\u001b[0m\n",
      "\u001b[2m\u001b[36m(ClientAppActor pid=2312932)\u001b[0m Epoch 23/100\u001b[32m [repeated 615x across cluster]\u001b[0m\n",
      "\u001b[2m\u001b[36m(ClientAppActor pid=2312932)\u001b[0m Epoch 39: Training accuracy: 78.33595275878906 Testing accuracy: 73.125.\u001b[32m [repeated 620x across cluster]\u001b[0m\n"
     ]
    },
    {
     "name": "stderr",
     "output_type": "stream",
     "text": [
      "\u001b[92mINFO \u001b[0m:      aggregate_fit: received 4 results and 0 failures\n",
      "\u001b[92mINFO \u001b[0m:      fit progress: (40, 0.03139588061500998, {'accuracy': tensor(76.7686, device='cuda:0')}, 130.68243239994626)\n",
      "\u001b[92mINFO \u001b[0m:      configure_evaluate: strategy sampled 2 clients (out of 4)\n",
      "\u001b[92mINFO \u001b[0m:      aggregate_evaluate: received 2 results and 0 failures\n",
      "\u001b[92mINFO \u001b[0m:      \n",
      "\u001b[92mINFO \u001b[0m:      [ROUND 41]\n",
      "\u001b[92mINFO \u001b[0m:      configure_fit: strategy sampled 4 clients (out of 4)\n"
     ]
    },
    {
     "name": "stdout",
     "output_type": "stream",
     "text": [
      "Server-side evaluation loss 0.03139588061500998 / accuracy 76.76864624023438\n",
      "\u001b[2m\u001b[36m(ClientAppActor pid=2312932)\u001b[0m \u001b[32m [repeated 636x across cluster]\u001b[0m\n",
      "\u001b[2m\u001b[36m(ClientAppActor pid=2312932)\u001b[0m Epoch 21/100\u001b[32m [repeated 636x across cluster]\u001b[0m\n",
      "\u001b[2m\u001b[36m(ClientAppActor pid=2312932)\u001b[0m Epoch 35: Training accuracy: 76.3768081665039 Testing accuracy: 71.67630004882812.\u001b[32m [repeated 635x across cluster]\u001b[0m\n"
     ]
    },
    {
     "name": "stderr",
     "output_type": "stream",
     "text": [
      "\u001b[92mINFO \u001b[0m:      aggregate_fit: received 4 results and 0 failures\n",
      "\u001b[92mINFO \u001b[0m:      fit progress: (41, 0.031145474489997414, {'accuracy': tensor(75.8126, device='cuda:0')}, 134.01666947791819)\n",
      "\u001b[92mINFO \u001b[0m:      configure_evaluate: strategy sampled 2 clients (out of 4)\n",
      "\u001b[92mINFO \u001b[0m:      aggregate_evaluate: received 2 results and 0 failures\n",
      "\u001b[92mINFO \u001b[0m:      \n",
      "\u001b[92mINFO \u001b[0m:      [ROUND 42]\n",
      "\u001b[92mINFO \u001b[0m:      configure_fit: strategy sampled 4 clients (out of 4)\n"
     ]
    },
    {
     "name": "stdout",
     "output_type": "stream",
     "text": [
      "Server-side evaluation loss 0.031145474489997414 / accuracy 75.8126220703125\n"
     ]
    },
    {
     "name": "stderr",
     "output_type": "stream",
     "text": [
      "\u001b[92mINFO \u001b[0m:      aggregate_fit: received 4 results and 0 failures\n",
      "\u001b[92mINFO \u001b[0m:      fit progress: (42, 0.03145870741675882, {'accuracy': tensor(76.9598, device='cuda:0')}, 137.3186704859836)\n",
      "\u001b[92mINFO \u001b[0m:      configure_evaluate: strategy sampled 2 clients (out of 4)\n",
      "\u001b[92mINFO \u001b[0m:      aggregate_evaluate: received 2 results and 0 failures\n",
      "\u001b[92mINFO \u001b[0m:      \n",
      "\u001b[92mINFO \u001b[0m:      [ROUND 43]\n",
      "\u001b[92mINFO \u001b[0m:      configure_fit: strategy sampled 4 clients (out of 4)\n"
     ]
    },
    {
     "name": "stdout",
     "output_type": "stream",
     "text": [
      "Server-side evaluation loss 0.03145870741675882 / accuracy 76.95984649658203\n",
      "\u001b[2m\u001b[36m(ClientAppActor pid=2312932)\u001b[0m \u001b[32m [repeated 609x across cluster]\u001b[0m\n",
      "\u001b[2m\u001b[36m(ClientAppActor pid=2312932)\u001b[0m Epoch 51/100\u001b[32m [repeated 609x across cluster]\u001b[0m\n",
      "\u001b[2m\u001b[36m(ClientAppActor pid=2312932)\u001b[0m Epoch 67: Training accuracy: 77.7080078125 Testing accuracy: 74.375.\u001b[32m [repeated 608x across cluster]\u001b[0m\n"
     ]
    },
    {
     "name": "stderr",
     "output_type": "stream",
     "text": [
      "\u001b[92mINFO \u001b[0m:      aggregate_fit: received 4 results and 0 failures\n",
      "\u001b[92mINFO \u001b[0m:      fit progress: (43, 0.03129399874631096, {'accuracy': tensor(76.3862, device='cuda:0')}, 140.6296432929812)\n",
      "\u001b[92mINFO \u001b[0m:      configure_evaluate: strategy sampled 2 clients (out of 4)\n",
      "\u001b[92mINFO \u001b[0m:      aggregate_evaluate: received 2 results and 0 failures\n",
      "\u001b[92mINFO \u001b[0m:      \n",
      "\u001b[92mINFO \u001b[0m:      [ROUND 44]\n",
      "\u001b[92mINFO \u001b[0m:      configure_fit: strategy sampled 4 clients (out of 4)\n"
     ]
    },
    {
     "name": "stdout",
     "output_type": "stream",
     "text": [
      "Server-side evaluation loss 0.03129399874631096 / accuracy 76.38623046875\n",
      "\u001b[2m\u001b[36m(ClientAppActor pid=2312932)\u001b[0m \u001b[32m [repeated 631x across cluster]\u001b[0m\n",
      "\u001b[2m\u001b[36m(ClientAppActor pid=2312932)\u001b[0m Epoch 59/100\u001b[32m [repeated 631x across cluster]\u001b[0m\n",
      "\u001b[2m\u001b[36m(ClientAppActor pid=2312932)\u001b[0m Epoch 70: Training accuracy: 76.540283203125 Testing accuracy: 73.58490753173828.\u001b[32m [repeated 629x across cluster]\u001b[0m\n"
     ]
    },
    {
     "name": "stderr",
     "output_type": "stream",
     "text": [
      "\u001b[92mINFO \u001b[0m:      aggregate_fit: received 4 results and 0 failures\n",
      "\u001b[92mINFO \u001b[0m:      fit progress: (44, 0.03129460881738102, {'accuracy': tensor(76.0994, device='cuda:0')}, 143.83642419299576)\n",
      "\u001b[92mINFO \u001b[0m:      configure_evaluate: strategy sampled 2 clients (out of 4)\n",
      "\u001b[92mINFO \u001b[0m:      aggregate_evaluate: received 2 results and 0 failures\n",
      "\u001b[92mINFO \u001b[0m:      \n",
      "\u001b[92mINFO \u001b[0m:      [ROUND 45]\n",
      "\u001b[92mINFO \u001b[0m:      configure_fit: strategy sampled 4 clients (out of 4)\n"
     ]
    },
    {
     "name": "stdout",
     "output_type": "stream",
     "text": [
      "Server-side evaluation loss 0.03129460881738102 / accuracy 76.09942626953125\n"
     ]
    },
    {
     "name": "stderr",
     "output_type": "stream",
     "text": [
      "\u001b[92mINFO \u001b[0m:      aggregate_fit: received 4 results and 0 failures\n",
      "\u001b[92mINFO \u001b[0m:      fit progress: (45, 0.031541361528284406, {'accuracy': tensor(77.0555, device='cuda:0')}, 147.18570913397707)\n",
      "\u001b[92mINFO \u001b[0m:      configure_evaluate: strategy sampled 2 clients (out of 4)\n",
      "\u001b[92mINFO \u001b[0m:      aggregate_evaluate: received 2 results and 0 failures\n",
      "\u001b[92mINFO \u001b[0m:      \n",
      "\u001b[92mINFO \u001b[0m:      [ROUND 46]\n",
      "\u001b[92mINFO \u001b[0m:      configure_fit: strategy sampled 4 clients (out of 4)\n"
     ]
    },
    {
     "name": "stdout",
     "output_type": "stream",
     "text": [
      "Server-side evaluation loss 0.031541361528284406 / accuracy 77.05545043945312\n",
      "\u001b[2m\u001b[36m(ClientAppActor pid=2312932)\u001b[0m \u001b[32m [repeated 621x across cluster]\u001b[0m\n",
      "\u001b[2m\u001b[36m(ClientAppActor pid=2312932)\u001b[0m Epoch 75/100\u001b[32m [repeated 621x across cluster]\u001b[0m\n",
      "\u001b[2m\u001b[36m(ClientAppActor pid=2312932)\u001b[0m Epoch 91: Training accuracy: 79.59183502197266 Testing accuracy: 73.75.\u001b[32m [repeated 625x across cluster]\u001b[0m\n"
     ]
    },
    {
     "name": "stderr",
     "output_type": "stream",
     "text": [
      "\u001b[92mINFO \u001b[0m:      aggregate_fit: received 4 results and 0 failures\n",
      "\u001b[92mINFO \u001b[0m:      fit progress: (46, 0.0313686868723701, {'accuracy': tensor(76.2906, device='cuda:0')}, 150.41337847500108)\n",
      "\u001b[92mINFO \u001b[0m:      configure_evaluate: strategy sampled 2 clients (out of 4)\n",
      "\u001b[92mINFO \u001b[0m:      aggregate_evaluate: received 2 results and 0 failures\n",
      "\u001b[92mINFO \u001b[0m:      \n",
      "\u001b[92mINFO \u001b[0m:      [ROUND 47]\n",
      "\u001b[92mINFO \u001b[0m:      configure_fit: strategy sampled 4 clients (out of 4)\n"
     ]
    },
    {
     "name": "stdout",
     "output_type": "stream",
     "text": [
      "Server-side evaluation loss 0.0313686868723701 / accuracy 76.29063415527344\n",
      "\u001b[2m\u001b[36m(ClientAppActor pid=2312932)\u001b[0m \u001b[32m [repeated 645x across cluster]\u001b[0m\n",
      "\u001b[2m\u001b[36m(ClientAppActor pid=2312932)\u001b[0m Epoch 80/100\u001b[32m [repeated 645x across cluster]\u001b[0m\n"
     ]
    },
    {
     "name": "stderr",
     "output_type": "stream",
     "text": [
      "\u001b[92mINFO \u001b[0m:      aggregate_fit: received 4 results and 0 failures\n",
      "\u001b[92mINFO \u001b[0m:      fit progress: (47, 0.03253695193459006, {'accuracy': tensor(76.2906, device='cuda:0')}, 153.68508712400217)\n",
      "\u001b[92mINFO \u001b[0m:      configure_evaluate: strategy sampled 2 clients (out of 4)\n"
     ]
    },
    {
     "name": "stdout",
     "output_type": "stream",
     "text": [
      "\u001b[2m\u001b[36m(ClientAppActor pid=2312932)\u001b[0m Epoch 90: Training accuracy: 74.88151550292969 Testing accuracy: 75.94339752197266.\u001b[32m [repeated 627x across cluster]\u001b[0m\n",
      "Server-side evaluation loss 0.03253695193459006 / accuracy 76.29063415527344\n"
     ]
    },
    {
     "name": "stderr",
     "output_type": "stream",
     "text": [
      "\u001b[92mINFO \u001b[0m:      aggregate_evaluate: received 2 results and 0 failures\n",
      "\u001b[92mINFO \u001b[0m:      \n",
      "\u001b[92mINFO \u001b[0m:      [ROUND 48]\n",
      "\u001b[92mINFO \u001b[0m:      configure_fit: strategy sampled 4 clients (out of 4)\n",
      "\u001b[92mINFO \u001b[0m:      aggregate_fit: received 4 results and 0 failures\n",
      "\u001b[92mINFO \u001b[0m:      fit progress: (48, 0.03165783952264225, {'accuracy': tensor(77.2467, device='cuda:0')}, 157.00210098491516)\n",
      "\u001b[92mINFO \u001b[0m:      configure_evaluate: strategy sampled 2 clients (out of 4)\n",
      "\u001b[92mINFO \u001b[0m:      aggregate_evaluate: received 2 results and 0 failures\n",
      "\u001b[92mINFO \u001b[0m:      \n",
      "\u001b[92mINFO \u001b[0m:      [ROUND 49]\n",
      "\u001b[92mINFO \u001b[0m:      configure_fit: strategy sampled 4 clients (out of 4)\n"
     ]
    },
    {
     "name": "stdout",
     "output_type": "stream",
     "text": [
      "Server-side evaluation loss 0.03165783952264225 / accuracy 77.24665069580078\n",
      "\u001b[2m\u001b[36m(ClientAppActor pid=2312932)\u001b[0m \u001b[32m [repeated 603x across cluster]\u001b[0m\n",
      "\u001b[2m\u001b[36m(ClientAppActor pid=2312932)\u001b[0m Epoch 100/100\u001b[32m [repeated 603x across cluster]\u001b[0m\n",
      "\u001b[2m\u001b[36m(ClientAppActor pid=2312932)\u001b[0m Epoch 8: Training accuracy: 76.42179870605469 Testing accuracy: 76.88679504394531.\u001b[32m [repeated 614x across cluster]\u001b[0m\n"
     ]
    },
    {
     "name": "stderr",
     "output_type": "stream",
     "text": [
      "\u001b[92mINFO \u001b[0m:      aggregate_fit: received 4 results and 0 failures\n",
      "\u001b[92mINFO \u001b[0m:      fit progress: (49, 0.03138756401398603, {'accuracy': tensor(75.2390, device='cuda:0')}, 160.13134335901123)\n",
      "\u001b[92mINFO \u001b[0m:      configure_evaluate: strategy sampled 2 clients (out of 4)\n",
      "\u001b[92mINFO \u001b[0m:      aggregate_evaluate: received 2 results and 0 failures\n",
      "\u001b[92mINFO \u001b[0m:      \n",
      "\u001b[92mINFO \u001b[0m:      [ROUND 50]\n",
      "\u001b[92mINFO \u001b[0m:      configure_fit: strategy sampled 4 clients (out of 4)\n"
     ]
    },
    {
     "name": "stdout",
     "output_type": "stream",
     "text": [
      "Server-side evaluation loss 0.03138756401398603 / accuracy 75.23900604248047\n"
     ]
    },
    {
     "name": "stderr",
     "output_type": "stream",
     "text": [
      "\u001b[92mINFO \u001b[0m:      aggregate_fit: received 4 results and 0 failures\n",
      "\u001b[92mINFO \u001b[0m:      fit progress: (50, 0.031642412438112145, {'accuracy': tensor(77.2467, device='cuda:0')}, 163.46506122895516)\n",
      "\u001b[92mINFO \u001b[0m:      configure_evaluate: strategy sampled 2 clients (out of 4)\n",
      "\u001b[92mINFO \u001b[0m:      aggregate_evaluate: received 2 results and 0 failures\n",
      "\u001b[92mINFO \u001b[0m:      \n",
      "\u001b[92mINFO \u001b[0m:      [SUMMARY]\n",
      "\u001b[92mINFO \u001b[0m:      Run finished 50 rounds in 163.50s\n"
     ]
    },
    {
     "name": "stdout",
     "output_type": "stream",
     "text": [
      "\u001b[2m\u001b[36m(ClientAppActor pid=2312935)\u001b[0m \u001b[32m [repeated 612x across cluster]\u001b[0m\n",
      "\u001b[2m\u001b[36m(ClientAppActor pid=2312935)\u001b[0m Epoch 94/100\u001b[32m [repeated 612x across cluster]\u001b[0m\n",
      "Server-side evaluation loss 0.031642412438112145 / accuracy 77.24665069580078\n"
     ]
    },
    {
     "name": "stderr",
     "output_type": "stream",
     "text": [
      "\u001b[92mINFO \u001b[0m:      History (loss, distributed):\n",
      "\u001b[92mINFO \u001b[0m:      \t('\\tround 1: 0.23124159375826517\\n'\n",
      "\u001b[92mINFO \u001b[0m:      \t '\\tround 2: 0.19788219247545516\\n'\n",
      "\u001b[92mINFO \u001b[0m:      \t '\\tround 3: 0.2308987577756246\\n'\n",
      "\u001b[92mINFO \u001b[0m:      \t '\\tround 4: 0.22997260093688965\\n'\n",
      "\u001b[92mINFO \u001b[0m:      \t '\\tround 5: 0.2245245079199473\\n'\n",
      "\u001b[92mINFO \u001b[0m:      \t '\\tround 6: 0.2114583949247996\\n'\n",
      "\u001b[92mINFO \u001b[0m:      \t '\\tround 7: 0.17636303390775407\\n'\n",
      "\u001b[92mINFO \u001b[0m:      \t '\\tround 8: 0.16462179592677526\\n'\n",
      "\u001b[92mINFO \u001b[0m:      \t '\\tround 9: 0.17472559213638306\\n'\n",
      "\u001b[92mINFO \u001b[0m:      \t '\\tround 10: 0.16427961417606898\\n'\n",
      "\u001b[92mINFO \u001b[0m:      \t '\\tround 11: 0.20256271958351135\\n'\n",
      "\u001b[92mINFO \u001b[0m:      \t '\\tround 12: 0.18092875679334006\\n'\n",
      "\u001b[92mINFO \u001b[0m:      \t '\\tround 13: 0.16197559663227626\\n'\n",
      "\u001b[92mINFO \u001b[0m:      \t '\\tround 14: 0.14923231090818131\\n'\n",
      "\u001b[92mINFO \u001b[0m:      \t '\\tround 15: 0.18627438942591348\\n'\n",
      "\u001b[92mINFO \u001b[0m:      \t '\\tround 16: 0.15423194851194108\\n'\n",
      "\u001b[92mINFO \u001b[0m:      \t '\\tround 17: 0.17050009114401682\\n'\n",
      "\u001b[92mINFO \u001b[0m:      \t '\\tround 18: 0.1690016140540441\\n'\n",
      "\u001b[92mINFO \u001b[0m:      \t '\\tround 19: 0.15878157104764665\\n'\n",
      "\u001b[92mINFO \u001b[0m:      \t '\\tround 20: 0.1947789490222931\\n'\n",
      "\u001b[92mINFO \u001b[0m:      \t '\\tround 21: 0.1463505710874285\\n'\n",
      "\u001b[92mINFO \u001b[0m:      \t '\\tround 22: 0.15143283775874547\\n'\n",
      "\u001b[92mINFO \u001b[0m:      \t '\\tround 23: 0.15454093047550746\\n'\n",
      "\u001b[92mINFO \u001b[0m:      \t '\\tround 24: 0.14343167202813284\\n'\n",
      "\u001b[92mINFO \u001b[0m:      \t '\\tround 25: 0.19528242945671082\\n'\n",
      "\u001b[92mINFO \u001b[0m:      \t '\\tround 26: 0.18571382761001587\\n'\n",
      "\u001b[92mINFO \u001b[0m:      \t '\\tround 27: 0.19546183943748474\\n'\n",
      "\u001b[92mINFO \u001b[0m:      \t '\\tround 28: 0.1933278739452362\\n'\n",
      "\u001b[92mINFO \u001b[0m:      \t '\\tround 29: 0.19685741265614828\\n'\n",
      "\u001b[92mINFO \u001b[0m:      \t '\\tround 30: 0.19977309306462607\\n'\n",
      "\u001b[92mINFO \u001b[0m:      \t '\\tround 31: 0.19027191400527954\\n'\n",
      "\u001b[92mINFO \u001b[0m:      \t '\\tround 32: 0.16090901408876693\\n'\n",
      "\u001b[92mINFO \u001b[0m:      \t '\\tround 33: 0.18702479203542074\\n'\n",
      "\u001b[92mINFO \u001b[0m:      \t '\\tround 34: 0.18040419618288675\\n'\n",
      "\u001b[92mINFO \u001b[0m:      \t '\\tround 35: 0.184259295463562\\n'\n",
      "\u001b[92mINFO \u001b[0m:      \t '\\tround 36: 0.1500358751841954\\n'\n",
      "\u001b[92mINFO \u001b[0m:      \t '\\tround 37: 0.1527085644858224\\n'\n",
      "\u001b[92mINFO \u001b[0m:      \t '\\tround 38: 0.16987013816833496\\n'\n",
      "\u001b[92mINFO \u001b[0m:      \t '\\tround 39: 0.17819265524546304\\n'\n",
      "\u001b[92mINFO \u001b[0m:      \t '\\tround 40: 0.15820701633180892\\n'\n",
      "\u001b[92mINFO \u001b[0m:      \t '\\tround 41: 0.16296218122754777\\n'\n",
      "\u001b[92mINFO \u001b[0m:      \t '\\tround 42: 0.18711688121159872\\n'\n",
      "\u001b[92mINFO \u001b[0m:      \t '\\tround 43: 0.14012496386255538\\n'\n",
      "\u001b[92mINFO \u001b[0m:      \t '\\tround 44: 0.18615766366322836\\n'\n",
      "\u001b[92mINFO \u001b[0m:      \t '\\tround 45: 0.18109155694643655\\n'\n",
      "\u001b[92mINFO \u001b[0m:      \t '\\tround 46: 0.1572572078023638\\n'\n",
      "\u001b[92mINFO \u001b[0m:      \t '\\tround 47: 0.18208853403727213\\n'\n",
      "\u001b[92mINFO \u001b[0m:      \t '\\tround 48: 0.19031732281049094\\n'\n",
      "\u001b[92mINFO \u001b[0m:      \t '\\tround 49: 0.20348939299583435\\n'\n",
      "\u001b[92mINFO \u001b[0m:      \t '\\tround 50: 0.1962668796380361\\n')History (loss, centralized):\n",
      "\u001b[92mINFO \u001b[0m:      \t('\\tround 0: 0.04860447785433601\\n'\n",
      "\u001b[92mINFO \u001b[0m:      \t '\\tround 1: 0.040785838575924147\\n'\n",
      "\u001b[92mINFO \u001b[0m:      \t '\\tround 2: 0.04077709773007561\\n'\n",
      "\u001b[92mINFO \u001b[0m:      \t '\\tround 3: 0.040745272355921125\\n'\n",
      "\u001b[92mINFO \u001b[0m:      \t '\\tround 4: 0.04051454978830674\\n'\n",
      "\u001b[92mINFO \u001b[0m:      \t '\\tround 5: 0.03957390434601728\\n'\n",
      "\u001b[92mINFO \u001b[0m:      \t '\\tround 6: 0.03767301405177397\\n'\n",
      "\u001b[92mINFO \u001b[0m:      \t '\\tround 7: 0.03556669810239006\\n'\n",
      "\u001b[92mINFO \u001b[0m:      \t '\\tround 8: 0.033864406978382784\\n'\n",
      "\u001b[92mINFO \u001b[0m:      \t '\\tround 9: 0.032457846052506394\\n'\n",
      "\u001b[92mINFO \u001b[0m:      \t '\\tround 10: 0.03220673869637882\\n'\n",
      "\u001b[92mINFO \u001b[0m:      \t '\\tround 11: 0.031277642530553484\\n'\n",
      "\u001b[92mINFO \u001b[0m:      \t '\\tround 12: 0.03146512017530553\\n'\n",
      "\u001b[92mINFO \u001b[0m:      \t '\\tround 13: 0.031283557415008545\\n'\n",
      "\u001b[92mINFO \u001b[0m:      \t '\\tround 14: 0.0313113016240737\\n'\n",
      "\u001b[92mINFO \u001b[0m:      \t '\\tround 15: 0.03115560727960923\\n'\n",
      "\u001b[92mINFO \u001b[0m:      \t '\\tround 16: 0.03132843620636884\\n'\n",
      "\u001b[92mINFO \u001b[0m:      \t '\\tround 17: 0.030725598335266113\\n'\n",
      "\u001b[92mINFO \u001b[0m:      \t '\\tround 18: 0.03082538001677569\\n'\n",
      "\u001b[92mINFO \u001b[0m:      \t '\\tround 19: 0.030914303134469426\\n'\n",
      "\u001b[92mINFO \u001b[0m:      \t '\\tround 20: 0.030831684084499583\\n'\n",
      "\u001b[92mINFO \u001b[0m:      \t '\\tround 21: 0.030870451646692613\\n'\n",
      "\u001b[92mINFO \u001b[0m:      \t '\\tround 22: 0.03086607947069056\\n'\n",
      "\u001b[92mINFO \u001b[0m:      \t '\\tround 23: 0.030715710976544547\\n'\n",
      "\u001b[92mINFO \u001b[0m:      \t '\\tround 24: 0.030830733916338754\\n'\n",
      "\u001b[92mINFO \u001b[0m:      \t '\\tround 25: 0.030710974160362694\\n'\n",
      "\u001b[92mINFO \u001b[0m:      \t '\\tround 26: 0.030815594336565805\\n'\n",
      "\u001b[92mINFO \u001b[0m:      \t '\\tround 27: 0.030919930514167335\\n'\n",
      "\u001b[92mINFO \u001b[0m:      \t '\\tround 28: 0.030800889520084158\\n'\n",
      "\u001b[92mINFO \u001b[0m:      \t '\\tround 29: 0.03082248042611515\\n'\n",
      "\u001b[92mINFO \u001b[0m:      \t '\\tround 30: 0.0308611603344188\\n'\n",
      "\u001b[92mINFO \u001b[0m:      \t '\\tround 31: 0.03090038720299216\\n'\n",
      "\u001b[92mINFO \u001b[0m:      \t '\\tround 32: 0.03097238961388083\\n'\n",
      "\u001b[92mINFO \u001b[0m:      \t '\\tround 33: 0.031014414394603056\\n'\n",
      "\u001b[92mINFO \u001b[0m:      \t '\\tround 34: 0.03101634278016932\\n'\n",
      "\u001b[92mINFO \u001b[0m:      \t '\\tround 35: 0.03106118300381829\\n'\n",
      "\u001b[92mINFO \u001b[0m:      \t '\\tround 36: 0.03111394713906681\\n'\n",
      "\u001b[92mINFO \u001b[0m:      \t '\\tround 37: 0.03130494847017176\\n'\n",
      "\u001b[92mINFO \u001b[0m:      \t '\\tround 38: 0.031313710352953744\\n'\n",
      "\u001b[92mINFO \u001b[0m:      \t '\\tround 39: 0.031233026700861314\\n'\n",
      "\u001b[92mINFO \u001b[0m:      \t '\\tround 40: 0.03139588061500998\\n'\n",
      "\u001b[92mINFO \u001b[0m:      \t '\\tround 41: 0.031145474489997414\\n'\n",
      "\u001b[92mINFO \u001b[0m:      \t '\\tround 42: 0.03145870741675882\\n'\n",
      "\u001b[92mINFO \u001b[0m:      \t '\\tround 43: 0.03129399874631096\\n'\n",
      "\u001b[92mINFO \u001b[0m:      \t '\\tround 44: 0.03129460881738102\\n'\n",
      "\u001b[92mINFO \u001b[0m:      \t '\\tround 45: 0.031541361528284406\\n'\n",
      "\u001b[92mINFO \u001b[0m:      \t '\\tround 46: 0.0313686868723701\\n'\n",
      "\u001b[92mINFO \u001b[0m:      \t '\\tround 47: 0.03253695193459006\\n'\n",
      "\u001b[92mINFO \u001b[0m:      \t '\\tround 48: 0.03165783952264225\\n'\n",
      "\u001b[92mINFO \u001b[0m:      \t '\\tround 49: 0.03138756401398603\\n'\n",
      "\u001b[92mINFO \u001b[0m:      \t '\\tround 50: 0.031642412438112145\\n')History (metrics, distributed, evaluate):\n",
      "\u001b[92mINFO \u001b[0m:      \t{'accuracy': [(1, 49.30093955993652),\n",
      "\u001b[92mINFO \u001b[0m:      \t              (2, 48.32432392665318),\n",
      "\u001b[92mINFO \u001b[0m:      \t              (3, 50.43352508544922),\n",
      "\u001b[92mINFO \u001b[0m:      \t              (4, 64.38583755493164),\n",
      "\u001b[92mINFO \u001b[0m:      \t              (5, 72.40475845336914),\n",
      "\u001b[92mINFO \u001b[0m:      \t              (6, 73.48501586914062),\n",
      "\u001b[92mINFO \u001b[0m:      \t              (7, 72.85666765485492),\n",
      "\u001b[92mINFO \u001b[0m:      \t              (8, 73.16404506138393),\n",
      "\u001b[92mINFO \u001b[0m:      \t              (9, 75.80357142857143),\n",
      "\u001b[92mINFO \u001b[0m:      \t              (10, 75.80188860212054),\n",
      "\u001b[92mINFO \u001b[0m:      \t              (11, 67.16864395141602),\n",
      "\u001b[92mINFO \u001b[0m:      \t              (12, 73.79751586914062),\n",
      "\u001b[92mINFO \u001b[0m:      \t              (13, 75.80525425502232),\n",
      "\u001b[92mINFO \u001b[0m:      \t              (14, 73.99158041817802),\n",
      "\u001b[92mINFO \u001b[0m:      \t              (15, 73.1926155090332),\n",
      "\u001b[92mINFO \u001b[0m:      \t              (16, 74.47392054966518),\n",
      "\u001b[92mINFO \u001b[0m:      \t              (17, 72.40234919956752),\n",
      "\u001b[92mINFO \u001b[0m:      \t              (18, 72.90021896362305),\n",
      "\u001b[92mINFO \u001b[0m:      \t              (19, 73.66280800955636),\n",
      "\u001b[92mINFO \u001b[0m:      \t              (20, 72.49457931518555),\n",
      "\u001b[92mINFO \u001b[0m:      \t              (21, 76.34602573939732),\n",
      "\u001b[92mINFO \u001b[0m:      \t              (22, 76.34602573939732),\n",
      "\u001b[92mINFO \u001b[0m:      \t              (23, 76.61556570870536),\n",
      "\u001b[92mINFO \u001b[0m:      \t              (24, 75.53908429827008),\n",
      "\u001b[92mINFO \u001b[0m:      \t              (25, 71.62752914428711),\n",
      "\u001b[92mINFO \u001b[0m:      \t              (26, 73.17251586914062),\n",
      "\u001b[92mINFO \u001b[0m:      \t              (27, 72.83056259155273),\n",
      "\u001b[92mINFO \u001b[0m:      \t              (28, 71.04949569702148),\n",
      "\u001b[92mINFO \u001b[0m:      \t              (29, 71.91654586791992),\n",
      "\u001b[92mINFO \u001b[0m:      \t              (30, 70.73699569702148),\n",
      "\u001b[92mINFO \u001b[0m:      \t              (31, 72.31542587280273),\n",
      "\u001b[92mINFO \u001b[0m:      \t              (32, 76.8834228515625),\n",
      "\u001b[92mINFO \u001b[0m:      \t              (33, 73.79751586914062),\n",
      "\u001b[92mINFO \u001b[0m:      \t              (34, 74.38230895996094),\n",
      "\u001b[92mINFO \u001b[0m:      \t              (35, 74.38230895996094),\n",
      "\u001b[92mINFO \u001b[0m:      \t              (36, 76.8834228515625),\n",
      "\u001b[92mINFO \u001b[0m:      \t              (37, 76.03442491803851),\n",
      "\u001b[92mINFO \u001b[0m:      \t              (38, 74.44961983816964),\n",
      "\u001b[92mINFO \u001b[0m:      \t              (39, 73.40859985351562),\n",
      "\u001b[92mINFO \u001b[0m:      \t              (40, 74.69734845842633),\n",
      "\u001b[92mINFO \u001b[0m:      \t              (41, 73.6846193586077),\n",
      "\u001b[92mINFO \u001b[0m:      \t              (42, 71.8098258972168),\n",
      "\u001b[92mINFO \u001b[0m:      \t              (43, 76.88174002511161),\n",
      "\u001b[92mINFO \u001b[0m:      \t              (44, 73.79751586914062),\n",
      "\u001b[92mINFO \u001b[0m:      \t              (45, 74.96710586547852),\n",
      "\u001b[92mINFO \u001b[0m:      \t              (46, 77.15296282087054),\n",
      "\u001b[92mINFO \u001b[0m:      \t              (47, 75.60084915161133),\n",
      "\u001b[92mINFO \u001b[0m:      \t              (48, 74.96710586547852),\n",
      "\u001b[92mINFO \u001b[0m:      \t              (49, 69.48754501342773),\n",
      "\u001b[92mINFO \u001b[0m:      \t              (50, 73.69761657714844)]}History (metrics, centralized):\n",
      "\u001b[92mINFO \u001b[0m:      \t{'accuracy': [(0, tensor(49.4264, device='cuda:0')),\n",
      "\u001b[92mINFO \u001b[0m:      \t              (1, tensor(49.4264, device='cuda:0')),\n",
      "\u001b[92mINFO \u001b[0m:      \t              (2, tensor(49.4264, device='cuda:0')),\n",
      "\u001b[92mINFO \u001b[0m:      \t              (3, tensor(49.2352, device='cuda:0')),\n",
      "\u001b[92mINFO \u001b[0m:      \t              (4, tensor(63.7667, device='cuda:0')),\n",
      "\u001b[92mINFO \u001b[0m:      \t              (5, tensor(72.6577, device='cuda:0')),\n",
      "\u001b[92mINFO \u001b[0m:      \t              (6, tensor(74.2830, device='cuda:0')),\n",
      "\u001b[92mINFO \u001b[0m:      \t              (7, tensor(74.5698, device='cuda:0')),\n",
      "\u001b[92mINFO \u001b[0m:      \t              (8, tensor(74.8566, device='cuda:0')),\n",
      "\u001b[92mINFO \u001b[0m:      \t              (9, tensor(73.9962, device='cuda:0')),\n",
      "\u001b[92mINFO \u001b[0m:      \t              (10, tensor(75.1434, device='cuda:0')),\n",
      "\u001b[92mINFO \u001b[0m:      \t              (11, tensor(73.9006, device='cuda:0')),\n",
      "\u001b[92mINFO \u001b[0m:      \t              (12, tensor(74.9522, device='cuda:0')),\n",
      "\u001b[92mINFO \u001b[0m:      \t              (13, tensor(74.9522, device='cuda:0')),\n",
      "\u001b[92mINFO \u001b[0m:      \t              (14, tensor(74.8566, device='cuda:0')),\n",
      "\u001b[92mINFO \u001b[0m:      \t              (15, tensor(75.1434, device='cuda:0')),\n",
      "\u001b[92mINFO \u001b[0m:      \t              (16, tensor(75.7170, device='cuda:0')),\n",
      "\u001b[92mINFO \u001b[0m:      \t              (17, tensor(74.6654, device='cuda:0')),\n",
      "\u001b[92mINFO \u001b[0m:      \t              (18, tensor(75.1434, device='cuda:0')),\n",
      "\u001b[92mINFO \u001b[0m:      \t              (19, tensor(75.9082, device='cuda:0')),\n",
      "\u001b[92mINFO \u001b[0m:      \t              (20, tensor(75.8126, device='cuda:0')),\n",
      "\u001b[92mINFO \u001b[0m:      \t              (21, tensor(75.9082, device='cuda:0')),\n",
      "\u001b[92mINFO \u001b[0m:      \t              (22, tensor(75.8126, device='cuda:0')),\n",
      "\u001b[92mINFO \u001b[0m:      \t              (23, tensor(75.1434, device='cuda:0')),\n",
      "\u001b[92mINFO \u001b[0m:      \t              (24, tensor(76.0994, device='cuda:0')),\n",
      "\u001b[92mINFO \u001b[0m:      \t              (25, tensor(74.4742, device='cuda:0')),\n",
      "\u001b[92mINFO \u001b[0m:      \t              (26, tensor(75.9082, device='cuda:0')),\n",
      "\u001b[92mINFO \u001b[0m:      \t              (27, tensor(76.7686, device='cuda:0')),\n",
      "\u001b[92mINFO \u001b[0m:      \t              (28, tensor(73.7094, device='cuda:0')),\n",
      "\u001b[92mINFO \u001b[0m:      \t              (29, tensor(74.6654, device='cuda:0')),\n",
      "\u001b[92mINFO \u001b[0m:      \t              (30, tensor(73.5182, device='cuda:0')),\n",
      "\u001b[92mINFO \u001b[0m:      \t              (31, tensor(75.8126, device='cuda:0')),\n",
      "\u001b[92mINFO \u001b[0m:      \t              (32, tensor(76.1950, device='cuda:0')),\n",
      "\u001b[92mINFO \u001b[0m:      \t              (33, tensor(76.1950, device='cuda:0')),\n",
      "\u001b[92mINFO \u001b[0m:      \t              (34, tensor(76.2906, device='cuda:0')),\n",
      "\u001b[92mINFO \u001b[0m:      \t              (35, tensor(76.0038, device='cuda:0')),\n",
      "\u001b[92mINFO \u001b[0m:      \t              (36, tensor(76.2906, device='cuda:0')),\n",
      "\u001b[92mINFO \u001b[0m:      \t              (37, tensor(77.0555, device='cuda:0')),\n",
      "\u001b[92mINFO \u001b[0m:      \t              (38, tensor(77.0555, device='cuda:0')),\n",
      "\u001b[92mINFO \u001b[0m:      \t              (39, tensor(76.6730, device='cuda:0')),\n",
      "\u001b[92mINFO \u001b[0m:      \t              (40, tensor(76.7686, device='cuda:0')),\n",
      "\u001b[92mINFO \u001b[0m:      \t              (41, tensor(75.8126, device='cuda:0')),\n",
      "\u001b[92mINFO \u001b[0m:      \t              (42, tensor(76.9598, device='cuda:0')),\n",
      "\u001b[92mINFO \u001b[0m:      \t              (43, tensor(76.3862, device='cuda:0')),\n",
      "\u001b[92mINFO \u001b[0m:      \t              (44, tensor(76.0994, device='cuda:0')),\n",
      "\u001b[92mINFO \u001b[0m:      \t              (45, tensor(77.0555, device='cuda:0')),\n",
      "\u001b[92mINFO \u001b[0m:      \t              (46, tensor(76.2906, device='cuda:0')),\n",
      "\u001b[92mINFO \u001b[0m:      \t              (47, tensor(76.2906, device='cuda:0')),\n",
      "\u001b[92mINFO \u001b[0m:      \t              (48, tensor(77.2467, device='cuda:0')),\n",
      "\u001b[92mINFO \u001b[0m:      \t              (49, tensor(75.2390, device='cuda:0')),\n",
      "\u001b[92mINFO \u001b[0m:      \t              (50, tensor(77.2467, device='cuda:0'))]}\n",
      "\u001b[92mINFO \u001b[0m:      \n"
     ]
    },
    {
     "name": "stdout",
     "output_type": "stream",
     "text": [
      "\u001b[2m\u001b[36m(ClientAppActor pid=2312935)\u001b[0m Epoch 100: Training accuracy: 78.90995025634766 Testing accuracy: 75.94339752197266.\u001b[32m [repeated 596x across cluster]\u001b[0m\n"
     ]
    }
   ],
   "source": [
    "# client will be allocated 1x CPU and 0x GPUs\n",
    "if device.type == 'cuda':\n",
    "    # here we are assigning an entire GPU for each client.\n",
    "    client_resources = {\"num_cpus\": 1, \"num_gpus\": 1.0}\n",
    "    # Refer to our documentation for more details about Flower Simulations\n",
    "    # and how to setup these `client_resources`.\n",
    "    \n",
    "# The `evaluate` function will be called by Flower after every round\n",
    "fl_acc = []\n",
    "def evaluate(server_round,parameters,config,):\n",
    "    testloader = azure_test_loader\n",
    "    set_parameters(net_FL, parameters)  # Update model with the latest parameters\n",
    "    loss, accuracy = test(net_FL, testloader, configuration)\n",
    "    print(f\"Server-side evaluation loss {loss} / accuracy {accuracy}\")\n",
    "    fl_acc.append(accuracy)\n",
    "    metrics = {'FL loss': loss,\n",
    "               \"FL accuracy\": accuracy}\n",
    "    wandb.log(metrics)\n",
    "    return loss, {\"accuracy\": accuracy}\n",
    "\n",
    "def weighted_average(metrics):\n",
    "    # Multiply accuracy of each client by number of examples used\n",
    "    accuracies = [num_examples * m[\"accuracy\"] for num_examples, m in metrics]\n",
    "    examples = [num_examples for num_examples, _ in metrics]\n",
    "\n",
    "    # Aggregate and return custom metric (weighted average)\n",
    "    return {\"accuracy\": sum(accuracies) / sum(examples)}\n",
    "params = get_parameters(net_FL)\n",
    "strategy = fl.server.strategy.FedAvg(\n",
    "    fraction_fit=1,\n",
    "    fraction_evaluate=0.5,\n",
    "    min_fit_clients=2,\n",
    "    min_evaluate_clients=1,\n",
    "    min_available_clients=1,\n",
    "    evaluate_fn=evaluate,\n",
    "    initial_parameters= ndarrays_to_parameters(params),\n",
    "    evaluate_metrics_aggregation_fn=weighted_average # <-- pass the metric aggregation function\n",
    ")\n",
    "# Start simulation\n",
    "history = fl.simulation.start_simulation(\n",
    "    client_fn=client_fn,\n",
    "    num_clients=4,\n",
    "    config=fl.server.ServerConfig(num_rounds=configuration['num_rounds_FL']),\n",
    "    strategy=strategy,\n",
    "    client_resources=client_resources,\n",
    ")"
   ]
  },
  {
   "cell_type": "code",
   "execution_count": 16,
   "metadata": {},
   "outputs": [
    {
     "data": {
      "text/plain": [
       "Text(0.5, 0, 'Rounds')"
      ]
     },
     "execution_count": 16,
     "metadata": {},
     "output_type": "execute_result"
    },
    {
     "data": {
      "image/png": "[encoded data removed]",
      "text/plain": [
       "<Figure size 640x480 with 1 Axes>"
      ]
     },
     "metadata": {},
     "output_type": "display_data"
    }
   ],
   "source": [
    "fl_acc\n",
    "f = []\n",
    "for i in fl_acc:\n",
    "    f.append(float(i))\n",
    "plt.plot(f)\n",
    "plt.title('Federated Transfer Learning test accuracies')\n",
    "plt.ylabel('Accuracies')\n",
    "plt.xlabel('Rounds')"
   ]
  }
 ],
 "metadata": {
  "kernelspec": {
   "display_name": "Python 3 (ipykernel)",
   "language": "python",
   "name": "python3"
  },
  "language_info": {
   "codemirror_mode": {
    "name": "ipython",
    "version": 3
   },
   "file_extension": ".py",
   "mimetype": "text/x-python",
   "name": "python",
   "nbconvert_exporter": "python",
   "pygments_lexer": "ipython3",
   "version": "3.10.0"
  }
 },
 "nbformat": 4,
 "nbformat_minor": 2
}
