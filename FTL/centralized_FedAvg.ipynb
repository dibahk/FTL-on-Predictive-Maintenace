{
 "cells": [
  {
   "cell_type": "code",
   "execution_count": 1,
   "metadata": {},
   "outputs": [
    {
     "name": "stdout",
     "output_type": "stream",
     "text": [
      "Using cuda.\n"
     ]
    }
   ],
   "source": [
    "%matplotlib inline\n",
    "import matplotlib.pyplot as plt\n",
    "import torchvision\n",
    "from torch.utils.data import TensorDataset, random_split, DataLoader\n",
    "import torch.nn as nn\n",
    "import time\n",
    "import wandb\n",
    "from sklearn.metrics import accuracy_score\n",
    "from imblearn.over_sampling import SMOTE\n",
    "import torch\n",
    "from datetime import datetime\n",
    "from collections import OrderedDict\n",
    "from sklearn.decomposition import PCA\n",
    "import flwr as fl\n",
    "from flwr.common import Metrics \n",
    "from time import gmtime, strftime\n",
    "from flwr.server.strategy import FedAvg, FedAdagrad, FedProx\n",
    "from flwr.common import ndarrays_to_parameters, NDArrays, Scalar, Context\n",
    "\n",
    "now = datetime.now() # current date and time\n",
    "date_time = now.strftime(\"%d-%m-%Y_%H:%M:%S\")\n",
    "device = torch.device('cuda' if torch.cuda.is_available() else 'cpu')\n",
    "print(f'Using {device}.')"
   ]
  },
  {
   "cell_type": "code",
   "execution_count": 2,
   "metadata": {},
   "outputs": [
    {
     "name": "stderr",
     "output_type": "stream",
     "text": [
      "\u001b[34m\u001b[1mwandb\u001b[0m: Currently logged in as: \u001b[33md-hadjikazemi\u001b[0m (\u001b[33md-hadjikazemi-queen-mary-university-of-london\u001b[0m). Use \u001b[1m`wandb login --relogin`\u001b[0m to force relogin\n",
      "/home/diba/miniconda3/envs/FTL/lib/python3.10/site-packages/wandb/sdk/lib/ipython.py:77: DeprecationWarning: Importing display from IPython.core.display is deprecated since IPython 7.14, please import from IPython display\n",
      "  from IPython.core.display import HTML, display  # type: ignore\n"
     ]
    },
    {
     "data": {
      "text/html": [
       "wandb version 0.17.6 is available!  To upgrade, please run:\n",
       " $ pip install wandb --upgrade"
      ],
      "text/plain": [
       "<IPython.core.display.HTML object>"
      ]
     },
     "metadata": {},
     "output_type": "display_data"
    },
    {
     "data": {
      "text/html": [
       "Tracking run with wandb version 0.17.4"
      ],
      "text/plain": [
       "<IPython.core.display.HTML object>"
      ]
     },
     "metadata": {},
     "output_type": "display_data"
    },
    {
     "data": {
      "text/html": [
       "Run data is saved locally in <code>/home/diba/wandb/run-20240809_220929-mgc0qzz7</code>"
      ],
      "text/plain": [
       "<IPython.core.display.HTML object>"
      ]
     },
     "metadata": {},
     "output_type": "display_data"
    },
    {
     "data": {
      "text/html": [
       "Syncing run <strong><a href='https://wandb.ai/d-hadjikazemi-queen-mary-university-of-london/FL/runs/mgc0qzz7' target=\"_blank\">without batch normalization_FedAvg_09-08-2024_22:09:28</a></strong> to <a href='https://wandb.ai/d-hadjikazemi-queen-mary-university-of-london/FL' target=\"_blank\">Weights & Biases</a> (<a href='https://wandb.me/run' target=\"_blank\">docs</a>)<br/>"
      ],
      "text/plain": [
       "<IPython.core.display.HTML object>"
      ]
     },
     "metadata": {},
     "output_type": "display_data"
    },
    {
     "data": {
      "text/html": [
       " View project at <a href='https://wandb.ai/d-hadjikazemi-queen-mary-university-of-london/FL' target=\"_blank\">https://wandb.ai/d-hadjikazemi-queen-mary-university-of-london/FL</a>"
      ],
      "text/plain": [
       "<IPython.core.display.HTML object>"
      ]
     },
     "metadata": {},
     "output_type": "display_data"
    },
    {
     "data": {
      "text/html": [
       " View run at <a href='https://wandb.ai/d-hadjikazemi-queen-mary-university-of-london/FL/runs/mgc0qzz7' target=\"_blank\">https://wandb.ai/d-hadjikazemi-queen-mary-university-of-london/FL/runs/mgc0qzz7</a>"
      ],
      "text/plain": [
       "<IPython.core.display.HTML object>"
      ]
     },
     "metadata": {},
     "output_type": "display_data"
    }
   ],
   "source": [
    "wandb.init(\n",
    "    # set the wandb project where this run will be logged\n",
    "    project=\"FL\",\n",
    "    name= \"without batch normalization_FedAvg_{}\".format(date_time),\n",
    "    # track hyperparameters and run metadata\n",
    "    config={\n",
    "    \"learning_rate\": 0.0001,\n",
    "    \"architecture\": \"CNN\",\n",
    "    \"epochs\": 100,\n",
    "    \"loss\": nn.BCELoss(),\n",
    "    \"batch_size\": 64,\n",
    "    \"decay\":1e-5,\n",
    "    'dropout': 0.1,\n",
    "    \"learning_rate_FL\": 0.0001,\n",
    "    \"batch_size_FL\": 64,\n",
    "    \"decay_FL\":1e-5,\n",
    "    'num_rounds_FL': 40, \n",
    "    'epochs_FL': 100,\n",
    "    'dropout_FL': 0.001\n",
    "    \n",
    "    }\n",
    ")\n",
    "\n",
    "configuration  = dict(wandb.config)\n",
    "\n",
    "\n",
    "def data_loading_AZURE(data_path, label_path, batch_size, train_ratio=0.8, val_ratio=0.5):\n",
    "    data = torch.load(data_path)\n",
    "    labels = torch.load(label_path)\n",
    "    data = nn.functional.normalize(data, dim=1)\n",
    "    print((labels==1).sum())\n",
    "    # reshaping the dataset so  the channels will be the second dimension.\n",
    "    data = data.permute(0, 2, 1)\n",
    "    print(data.size())\n",
    "    n_samples, n_channels, n_features = data.shape\n",
    "    X_reshaped = data.reshape(n_samples, -1) \n",
    "    # Apply SMOTE\n",
    "    smote = SMOTE(sampling_strategy='minority')\n",
    "    data_resampled, labels_resampled = smote.fit_resample(X_reshaped, labels)\n",
    "    # Reshape X_resampled back to 3D\n",
    "    data_resampled = data_resampled.reshape(-1, n_channels, n_features)\n",
    "    print(data_resampled.shape)\n",
    "    data_resampled = torch.tensor(data_resampled)\n",
    "    labels_resampled = torch.tensor(labels_resampled)\n",
    "    dataset = TensorDataset(data_resampled, labels_resampled)\n",
    "    train_size = int(train_ratio * len(dataset))\n",
    "    test_size = len(dataset) - train_size\n",
    "    val_size = int(val_ratio * test_size)\n",
    "    test_size = test_size - val_size\n",
    "\n",
    "    train_dataset, val_dataset, test_dataset = random_split(dataset, [train_size, val_size, test_size])\n",
    "    return DataLoader(train_dataset, batch_size=batch_size, shuffle=True), DataLoader(val_dataset, batch_size=batch_size, shuffle=True), DataLoader(test_dataset, batch_size=batch_size, shuffle=False)\n",
    "\n",
    "def data_loading_NASA(data_path, label_path, batch_size, train_ratio=0.8, val_ratio = 0.5):\n",
    "    data = torch.load(data_path)\n",
    "    labels = torch.load(label_path)\n",
    "    data = nn.functional.normalize(data, dim=1)\n",
    "    # reshaping the dataset so  the channels will be the second dimension.\n",
    "    data = data.permute(0, 2, 1)\n",
    "    print(data.size())\n",
    "\n",
    "    def pca_reduction(data, n_components=4):\n",
    "        data_reshaped = data.reshape(-1, data.shape[1])\n",
    "\n",
    "        # Apply PCA\n",
    "        pca = PCA(n_components=n_components)\n",
    "        \n",
    "        data_reduced = pca.fit_transform(data_reshaped)\n",
    "\n",
    "        # Reshape back to (samples, n_components, time_steps)\n",
    "        data_reduced = data_reduced.reshape(data.shape[0], n_components, data.shape[2])\n",
    "\n",
    "        return data_reduced\n",
    "    print(data.dtype)\n",
    "    data = pca_reduction(data, n_components=4)\n",
    "    data =(torch.from_numpy(data)).float()\n",
    "    n_samples, n_channels, n_features = data.shape\n",
    "    X_reshaped = data.reshape(n_samples, -1) \n",
    "    \n",
    "    n_samples, n_channels, n_features = data.shape\n",
    "    X_reshaped = data.reshape(n_samples, -1) \n",
    "    \n",
    "    # Apply SMOTE\n",
    "    smote = SMOTE(sampling_strategy='minority')\n",
    "    data_resampled, labels_resampled = smote.fit_resample(X_reshaped, labels)\n",
    "    print((labels_resampled==1).sum())\n",
    "    # Reshape X_resampled back to 3D\n",
    "    data_resampled = data_resampled.reshape(-1, n_channels, n_features)\n",
    "    print(data_resampled.shape)\n",
    "    data_resampled = torch.tensor(data_resampled)\n",
    "    labels_resampled = torch.tensor(labels_resampled)\n",
    "    dataset = TensorDataset(data_resampled, labels_resampled)\n",
    "    train_size = int(train_ratio * len(dataset))\n",
    "    test_size = len(dataset) - train_size\n",
    "    val_size = int(val_ratio * test_size)\n",
    "    test_size = test_size - val_size\n",
    "    train_dataset, val_dataset, test_dataset = random_split(dataset, [train_size, val_size, test_size])\n",
    "    return DataLoader(train_dataset, batch_size=batch_size, shuffle=True), DataLoader(val_dataset, batch_size=batch_size, shuffle=True), DataLoader(test_dataset, batch_size=batch_size, shuffle=False)\n"
   ]
  },
  {
   "cell_type": "code",
   "execution_count": 3,
   "metadata": {},
   "outputs": [],
   "source": [
    "# Define the CNN architecture\n",
    "class SimpleCNN(nn.Module):\n",
    "    def __init__(self):\n",
    "        super(SimpleCNN, self).__init__()\n",
    "        # self.conv0 = nn.Conv1d(in_channels=24, out_channels=4, kernel_size=3)\n",
    "        # self.bn0 = nn.BatchNorm1d(4)\n",
    "        self.conv1 = nn.Conv1d(in_channels=4, out_channels=8, kernel_size=5)\n",
    "        self.bn1 = nn.BatchNorm1d(8)\n",
    "        self.conv2 = nn.Conv1d(in_channels=8, out_channels=8, kernel_size=5)\n",
    "        self.bn2 = nn.BatchNorm1d(8)\n",
    "        self.pool = nn.MaxPool1d(kernel_size=2, padding=0, stride=1)\n",
    "        # the size of the out channels x number  of nodes \n",
    "        self.fc1 = nn.Linear(328, 200)\n",
    "        self.fc2 = nn.Linear(200, 2)\n",
    "        self.flatten = nn.Flatten()\n",
    "        self.relu = nn.ReLU()\n",
    "        self.dropout = nn.Dropout(configuration['dropout'])\n",
    "        self.sigmoid = nn.Sigmoid()\n",
    "\n",
    "    def forward(self, x):\n",
    "        # x = self.relu(self.conv0(x))\n",
    "        x = self.relu(self.conv1(x))\n",
    "        x = self.relu(self.conv2(x))\n",
    "        # x = self.relu(self.bn1(self.conv1(x)))\n",
    "        # x = self.relu(self.bn2(self.conv2(x)))\n",
    "        x = self.dropout(x)\n",
    "        x = self.pool(x)\n",
    "        x = self.flatten(x)\n",
    "        x = self.relu(self.fc1(x))\n",
    "        x - self.dropout(x)\n",
    "        x = self.sigmoid(self.fc2(x))\n",
    "        return x"
   ]
  },
  {
   "cell_type": "code",
   "execution_count": 4,
   "metadata": {},
   "outputs": [],
   "source": [
    "def correct(logits, y):\n",
    "    y_hat = logits.argmax(axis=1) # Finds the column with the highest value for each row of `logits`.\n",
    "    return (y_hat == y).float().sum() # Computes the number of times that `y_hat` and `y` match.\n",
    "\n",
    "def evaluate_metric(model, data_iter, metric):\n",
    "    \"\"\"Compute the average `metric` of the model on a dataset.\"\"\"\n",
    "    c = torch.tensor(0.).to(device)\n",
    "    n = torch.tensor(0.).to(device)\n",
    "    for X, y in data_iter:\n",
    "        X, y = X.to(device), y.to(device) # Moves data to `device`\n",
    "        logits = model(X)\n",
    "        c += metric(logits, y)\n",
    "        n += len(y)\n",
    "    return c*100 / n\n"
   ]
  },
  {
   "cell_type": "code",
   "execution_count": 5,
   "metadata": {},
   "outputs": [
    {
     "name": "stdout",
     "output_type": "stream",
     "text": [
      "torch.Size([848, 24, 50])\n",
      "torch.float32\n",
      "685\n",
      "(1370, 4, 50)\n",
      "tensor(76)\n",
      "torch.Size([836, 4, 50])\n",
      "(1520, 4, 50)\n"
     ]
    }
   ],
   "source": [
    "def train(model, train_loaders,test_loader, config, epochs, decay, dropout):\n",
    "    loss = nn.CrossEntropyLoss()\n",
    "    optimizer = torch.optim.Adam(model.parameters(), lr=config['learning_rate'], weight_decay=config['decay'])\n",
    "    losses = [] # Stores the loss for each training batch\n",
    "    train_accs = [] # Stores the training accuracy after each epoch\n",
    "    test_accs = []\n",
    "    for epoch in range(epochs):\n",
    "        print(f'\\nEpoch {epoch + 1}/{epochs}')\n",
    "        total, epoch_loss = 0, 0.0\n",
    "        model.train() # This is necessary because batch normalization behaves differently between training and evaluation\n",
    "        \n",
    "        for X, y in train_loaders:\n",
    "            X, y = X.to(device), y.to(device) # Moves data to `device`\n",
    "            logits = model(X) # Computes the logits for the batch of images `X`\n",
    "            l = loss(logits, y) # Computes the loss given the `logits` and the class vector `y`\n",
    "            optimizer.zero_grad() # Zeroes the gradients stored in the model parameters\n",
    "            l.backward() # Computes the gradient of the loss `l` with respect to the model parameters\n",
    "\n",
    "            optimizer.step() # Updates the model parameters based on the gradients stored inside them\n",
    "            epoch_loss += l\n",
    "            # train_loss = float(l)\n",
    "            # losses.append(train_loss) # Stores the loss for this batch\n",
    "        model.eval() # This is necessary because batch normalization behaves differently between training and evaluation\n",
    "        train_acc = evaluate_metric(model, train_loaders, correct)\n",
    "        train_accs.append(train_acc)\n",
    "        test_acc = evaluate_metric(model, test_loader, correct)\n",
    "        test_accs.append(test_acc)\n",
    "    #     print(f'Epoch {epoch+1}: Training accuracy: {train_accs[-1]} Testing accuracy: {test_accs[-1]}.') # Computes and displays training/testing dataset accuracy.\n",
    "    # print(train_accs)\n",
    "    plt.plot(list(map(lambda x: x.cpu(),train_accs)), label='Training accuracy')\n",
    "    plt.plot(list(map(lambda x: x.cpu(),test_accs)), label='Validation accuracy')\n",
    "    plt.title('accuracies')\n",
    "    plt.legend()\n",
    "\n",
    "def test(model, test_loaders,  configuration):\n",
    "    loss = nn.CrossEntropyLoss()\n",
    "    test_accs = []\n",
    "    optimizer = torch.optim.Adam(model.parameters(), lr=configuration['learning_rate'], weight_decay=configuration['decay'])\n",
    "    test_acc = []\n",
    "    l = 0.0\n",
    "    model.eval() # This is necessary because batch normalization behaves differently between training and evaluation\n",
    "    for X, y in test_loaders:    \n",
    "        X, y = X.to(device), y.to(device) # Moves data to `device`\n",
    "        logits = model(X)\n",
    "        l = loss(logits, y).item()\n",
    "        test_acc = evaluate_metric(model, test_loaders, correct)\n",
    "        test_accs.append(test_acc)\n",
    "        \n",
    "        # wandb.log({\"test_acc\": test_acc})\n",
    "        l /= len(test_loaders)\n",
    "        end_time = time.perf_counter()\n",
    "        # print('Testing accuracy: {test_accs[-1]}.')\n",
    "        return l, test_acc\n",
    "\n",
    "NASA = data_loading_NASA(data_path='NASA_data_50.pt', label_path= 'NASA_label_50.pt', batch_size= configuration['batch_size'])\n",
    "AZURE = data_loading_AZURE(data_path='AZURE_data_50.pt', label_path='AZURE_label_50.pt', batch_size= configuration['batch_size'])\n",
    "# train_loaders = [NASA[0], AZURE[0]]\n",
    "# val_loaders = [NASA[1], AZURE[1]]\n",
    "# test_loaders = [NASA[2], AZURE[2]]"
   ]
  },
  {
   "cell_type": "code",
   "execution_count": 6,
   "metadata": {},
   "outputs": [
    {
     "name": "stdout",
     "output_type": "stream",
     "text": [
      "tensor(167)\n",
      "torch.Size([1002, 4, 50])\n",
      "(1670, 4, 50)\n",
      "tensor(156)\n",
      "torch.Size([936, 4, 50])\n",
      "(1560, 4, 50)\n",
      "tensor(207)\n",
      "torch.Size([1242, 4, 50])\n",
      "(2070, 4, 50)\n",
      "tensor(169)\n",
      "torch.Size([1014, 4, 50])\n",
      "(1690, 4, 50)\n"
     ]
    }
   ],
   "source": [
    "azure1 = data_loading_AZURE('AZURE_data_1.pt', 'AZURE_label_1.pt', batch_size=configuration['batch_size_FL'])\n",
    "azure2 = data_loading_AZURE('AZURE_data_2.pt', 'AZURE_label_2.pt', batch_size=configuration['batch_size_FL'])\n",
    "azure3 = data_loading_AZURE('AZURE_data_3.pt', 'AZURE_label_3.pt', batch_size=configuration['batch_size_FL'])\n",
    "azure4 = data_loading_AZURE('AZURE_data_4.pt', 'AZURE_label_4.pt', batch_size=configuration['batch_size_FL'])\n",
    "train_loaders = [azure1[0], azure2[0], azure3[0], azure4[0]]\n",
    "val_loaders = [azure1[1], azure2[1], azure3[1], azure4[1]]\n",
    "test_loaders = [azure1[2], azure2[2], azure3[2], azure4[2]]\n"
   ]
  },
  {
   "cell_type": "code",
   "execution_count": 7,
   "metadata": {},
   "outputs": [
    {
     "name": "stdout",
     "output_type": "stream",
     "text": [
      "\n",
      "Epoch 1/100\n",
      "\n",
      "Epoch 2/100\n",
      "\n",
      "Epoch 3/100\n",
      "\n",
      "Epoch 4/100\n",
      "\n",
      "Epoch 5/100\n",
      "\n",
      "Epoch 6/100\n",
      "\n",
      "Epoch 7/100\n",
      "\n",
      "Epoch 8/100\n",
      "\n",
      "Epoch 9/100\n",
      "\n",
      "Epoch 10/100\n",
      "\n",
      "Epoch 11/100\n",
      "\n",
      "Epoch 12/100\n",
      "\n",
      "Epoch 13/100\n",
      "\n",
      "Epoch 14/100\n",
      "\n",
      "Epoch 15/100\n",
      "\n",
      "Epoch 16/100\n",
      "\n",
      "Epoch 17/100\n",
      "\n",
      "Epoch 18/100\n",
      "\n",
      "Epoch 19/100\n",
      "\n",
      "Epoch 20/100\n",
      "\n",
      "Epoch 21/100\n",
      "\n",
      "Epoch 22/100\n",
      "\n",
      "Epoch 23/100\n",
      "\n",
      "Epoch 24/100\n",
      "\n",
      "Epoch 25/100\n",
      "\n",
      "Epoch 26/100\n",
      "\n",
      "Epoch 27/100\n",
      "\n",
      "Epoch 28/100\n",
      "\n",
      "Epoch 29/100\n",
      "\n",
      "Epoch 30/100\n",
      "\n",
      "Epoch 31/100\n",
      "\n",
      "Epoch 32/100\n",
      "\n",
      "Epoch 33/100\n",
      "\n",
      "Epoch 34/100\n",
      "\n",
      "Epoch 35/100\n",
      "\n",
      "Epoch 36/100\n",
      "\n",
      "Epoch 37/100\n",
      "\n",
      "Epoch 38/100\n",
      "\n",
      "Epoch 39/100\n",
      "\n",
      "Epoch 40/100\n",
      "\n",
      "Epoch 41/100\n",
      "\n",
      "Epoch 42/100\n",
      "\n",
      "Epoch 43/100\n",
      "\n",
      "Epoch 44/100\n",
      "\n",
      "Epoch 45/100\n",
      "\n",
      "Epoch 46/100\n",
      "\n",
      "Epoch 47/100\n",
      "\n",
      "Epoch 48/100\n",
      "\n",
      "Epoch 49/100\n",
      "\n",
      "Epoch 50/100\n",
      "\n",
      "Epoch 51/100\n",
      "\n",
      "Epoch 52/100\n",
      "\n",
      "Epoch 53/100\n",
      "\n",
      "Epoch 54/100\n",
      "\n",
      "Epoch 55/100\n",
      "\n",
      "Epoch 56/100\n",
      "\n",
      "Epoch 57/100\n",
      "\n",
      "Epoch 58/100\n",
      "\n",
      "Epoch 59/100\n",
      "\n",
      "Epoch 60/100\n",
      "\n",
      "Epoch 61/100\n",
      "\n",
      "Epoch 62/100\n",
      "\n",
      "Epoch 63/100\n",
      "\n",
      "Epoch 64/100\n",
      "\n",
      "Epoch 65/100\n",
      "\n",
      "Epoch 66/100\n",
      "\n",
      "Epoch 67/100\n",
      "\n",
      "Epoch 68/100\n",
      "\n",
      "Epoch 69/100\n",
      "\n",
      "Epoch 70/100\n",
      "\n",
      "Epoch 71/100\n",
      "\n",
      "Epoch 72/100\n",
      "\n",
      "Epoch 73/100\n",
      "\n",
      "Epoch 74/100\n",
      "\n",
      "Epoch 75/100\n",
      "\n",
      "Epoch 76/100\n",
      "\n",
      "Epoch 77/100\n",
      "\n",
      "Epoch 78/100\n",
      "\n",
      "Epoch 79/100\n",
      "\n",
      "Epoch 80/100\n",
      "\n",
      "Epoch 81/100\n",
      "\n",
      "Epoch 82/100\n",
      "\n",
      "Epoch 83/100\n",
      "\n",
      "Epoch 84/100\n",
      "\n",
      "Epoch 85/100\n",
      "\n",
      "Epoch 86/100\n",
      "\n",
      "Epoch 87/100\n",
      "\n",
      "Epoch 88/100\n",
      "\n",
      "Epoch 89/100\n",
      "\n",
      "Epoch 90/100\n",
      "\n",
      "Epoch 91/100\n",
      "\n",
      "Epoch 92/100\n",
      "\n",
      "Epoch 93/100\n",
      "\n",
      "Epoch 94/100\n",
      "\n",
      "Epoch 95/100\n",
      "\n",
      "Epoch 96/100\n",
      "\n",
      "Epoch 97/100\n",
      "\n",
      "Epoch 98/100\n",
      "\n",
      "Epoch 99/100\n",
      "\n",
      "Epoch 100/100\n",
      "Epoch 1: validation loss 0.22943836450576782, accuracy 51.09489059448242\n",
      "Final test set performance:\n",
      "\tloss 0.22683846950531006\n",
      "\taccuracy 63.5036506652832\n"
     ]
    },
    {
     "data": {
      "image/png": "[encoded data removed]",
      "text/plain": [
       "<Figure size 640x480 with 1 Axes>"
      ]
     },
     "metadata": {},
     "output_type": "display_data"
    }
   ],
   "source": [
    "# trainloader = train_loaders[0]\n",
    "# valloader = val_loaders[0]\n",
    "# testloader = test_loaders[0]\n",
    "trainloader = NASA[0]\n",
    "valloader = NASA[1]\n",
    "testloader = NASA[2]\n",
    "net = SimpleCNN().to(device)\n",
    "losses = []\n",
    "accuracies = []\n",
    "for epoch in range(1):\n",
    "    train(net, trainloader, testloader, configuration, configuration['epochs'], configuration['decay'], configuration['dropout'])\n",
    "    loss, accuracy = test(net, valloader, configuration)\n",
    "    losses.append(loss)\n",
    "    accuracies.append(int(accuracy))\n",
    "    print(f\"Epoch {epoch+1}: validation loss {loss}, accuracy {accuracy}\")\n",
    "# plt.plot(accuracies)\n",
    "loss, accuracy = test(net, testloader, configuration=configuration)\n",
    "\n",
    "print(f\"Final test set performance:\\n\\tloss {loss}\\n\\taccuracy {accuracy}\")"
   ]
  },
  {
   "cell_type": "code",
   "execution_count": 8,
   "metadata": {},
   "outputs": [
    {
     "name": "stdout",
     "output_type": "stream",
     "text": [
      "\n",
      "Epoch 1/100\n",
      "\n",
      "Epoch 2/100\n",
      "\n",
      "Epoch 3/100\n",
      "\n",
      "Epoch 4/100\n",
      "\n",
      "Epoch 5/100\n",
      "\n",
      "Epoch 6/100\n",
      "\n",
      "Epoch 7/100\n",
      "\n",
      "Epoch 8/100\n",
      "\n",
      "Epoch 9/100\n",
      "\n",
      "Epoch 10/100\n",
      "\n",
      "Epoch 11/100\n",
      "\n",
      "Epoch 12/100\n",
      "\n",
      "Epoch 13/100\n",
      "\n",
      "Epoch 14/100\n",
      "\n",
      "Epoch 15/100\n",
      "\n",
      "Epoch 16/100\n",
      "\n",
      "Epoch 17/100\n",
      "\n",
      "Epoch 18/100\n",
      "\n",
      "Epoch 19/100\n",
      "\n",
      "Epoch 20/100\n",
      "\n",
      "Epoch 21/100\n",
      "\n",
      "Epoch 22/100\n",
      "\n",
      "Epoch 23/100\n",
      "\n",
      "Epoch 24/100\n",
      "\n",
      "Epoch 25/100\n",
      "\n",
      "Epoch 26/100\n",
      "\n",
      "Epoch 27/100\n",
      "\n",
      "Epoch 28/100\n",
      "\n",
      "Epoch 29/100\n",
      "\n",
      "Epoch 30/100\n",
      "\n",
      "Epoch 31/100\n",
      "\n",
      "Epoch 32/100\n",
      "\n",
      "Epoch 33/100\n",
      "\n",
      "Epoch 34/100\n",
      "\n",
      "Epoch 35/100\n",
      "\n",
      "Epoch 36/100\n",
      "\n",
      "Epoch 37/100\n",
      "\n",
      "Epoch 38/100\n",
      "\n",
      "Epoch 39/100\n",
      "\n",
      "Epoch 40/100\n",
      "\n",
      "Epoch 41/100\n",
      "\n",
      "Epoch 42/100\n",
      "\n",
      "Epoch 43/100\n",
      "\n",
      "Epoch 44/100\n",
      "\n",
      "Epoch 45/100\n",
      "\n",
      "Epoch 46/100\n",
      "\n",
      "Epoch 47/100\n",
      "\n",
      "Epoch 48/100\n",
      "\n",
      "Epoch 49/100\n",
      "\n",
      "Epoch 50/100\n",
      "\n",
      "Epoch 51/100\n",
      "\n",
      "Epoch 52/100\n",
      "\n",
      "Epoch 53/100\n",
      "\n",
      "Epoch 54/100\n",
      "\n",
      "Epoch 55/100\n",
      "\n",
      "Epoch 56/100\n",
      "\n",
      "Epoch 57/100\n",
      "\n",
      "Epoch 58/100\n",
      "\n",
      "Epoch 59/100\n",
      "\n",
      "Epoch 60/100\n",
      "\n",
      "Epoch 61/100\n",
      "\n",
      "Epoch 62/100\n",
      "\n",
      "Epoch 63/100\n",
      "\n",
      "Epoch 64/100\n",
      "\n",
      "Epoch 65/100\n",
      "\n",
      "Epoch 66/100\n",
      "\n",
      "Epoch 67/100\n",
      "\n",
      "Epoch 68/100\n",
      "\n",
      "Epoch 69/100\n",
      "\n",
      "Epoch 70/100\n",
      "\n",
      "Epoch 71/100\n",
      "\n",
      "Epoch 72/100\n",
      "\n",
      "Epoch 73/100\n",
      "\n",
      "Epoch 74/100\n",
      "\n",
      "Epoch 75/100\n",
      "\n",
      "Epoch 76/100\n",
      "\n",
      "Epoch 77/100\n",
      "\n",
      "Epoch 78/100\n",
      "\n",
      "Epoch 79/100\n",
      "\n",
      "Epoch 80/100\n",
      "\n",
      "Epoch 81/100\n",
      "\n",
      "Epoch 82/100\n",
      "\n",
      "Epoch 83/100\n",
      "\n",
      "Epoch 84/100\n",
      "\n",
      "Epoch 85/100\n",
      "\n",
      "Epoch 86/100\n",
      "\n",
      "Epoch 87/100\n",
      "\n",
      "Epoch 88/100\n",
      "\n",
      "Epoch 89/100\n",
      "\n",
      "Epoch 90/100\n",
      "\n",
      "Epoch 91/100\n",
      "\n",
      "Epoch 92/100\n",
      "\n",
      "Epoch 93/100\n",
      "\n",
      "Epoch 94/100\n",
      "\n",
      "Epoch 95/100\n",
      "\n",
      "Epoch 96/100\n",
      "\n",
      "Epoch 97/100\n",
      "\n",
      "Epoch 98/100\n",
      "\n",
      "Epoch 99/100\n",
      "\n",
      "Epoch 100/100\n"
     ]
    },
    {
     "data": {
      "image/png": "[encoded data removed]",
      "text/plain": [
       "<Figure size 640x480 with 1 Axes>"
      ]
     },
     "metadata": {},
     "output_type": "display_data"
    }
   ],
   "source": [
    "a =  train(net, trainloader, valloader, configuration,  configuration['epochs'], configuration['decay'], configuration['dropout'])\n"
   ]
  },
  {
   "cell_type": "markdown",
   "metadata": {},
   "source": [
    "## transfer learning"
   ]
  },
  {
   "cell_type": "code",
   "execution_count": 9,
   "metadata": {},
   "outputs": [
    {
     "name": "stdout",
     "output_type": "stream",
     "text": [
      "\n",
      "Epoch 1/100\n",
      "\n",
      "Epoch 2/100\n",
      "\n",
      "Epoch 3/100\n",
      "\n",
      "Epoch 4/100\n",
      "\n",
      "Epoch 5/100\n",
      "\n",
      "Epoch 6/100\n",
      "\n",
      "Epoch 7/100\n",
      "\n",
      "Epoch 8/100\n",
      "\n",
      "Epoch 9/100\n",
      "\n",
      "Epoch 10/100\n",
      "\n",
      "Epoch 11/100\n",
      "\n",
      "Epoch 12/100\n",
      "\n",
      "Epoch 13/100\n",
      "\n",
      "Epoch 14/100\n",
      "\n",
      "Epoch 15/100\n",
      "\n",
      "Epoch 16/100\n",
      "\n",
      "Epoch 17/100\n",
      "\n",
      "Epoch 18/100\n",
      "\n",
      "Epoch 19/100\n",
      "\n",
      "Epoch 20/100\n",
      "\n",
      "Epoch 21/100\n",
      "\n",
      "Epoch 22/100\n",
      "\n",
      "Epoch 23/100\n",
      "\n",
      "Epoch 24/100\n",
      "\n",
      "Epoch 25/100\n",
      "\n",
      "Epoch 26/100\n",
      "\n",
      "Epoch 27/100\n",
      "\n",
      "Epoch 28/100\n",
      "\n",
      "Epoch 29/100\n",
      "\n",
      "Epoch 30/100\n",
      "\n",
      "Epoch 31/100\n",
      "\n",
      "Epoch 32/100\n",
      "\n",
      "Epoch 33/100\n",
      "\n",
      "Epoch 34/100\n",
      "\n",
      "Epoch 35/100\n",
      "\n",
      "Epoch 36/100\n",
      "\n",
      "Epoch 37/100\n",
      "\n",
      "Epoch 38/100\n",
      "\n",
      "Epoch 39/100\n",
      "\n",
      "Epoch 40/100\n",
      "\n",
      "Epoch 41/100\n",
      "\n",
      "Epoch 42/100\n",
      "\n",
      "Epoch 43/100\n",
      "\n",
      "Epoch 44/100\n",
      "\n",
      "Epoch 45/100\n",
      "\n",
      "Epoch 46/100\n",
      "\n",
      "Epoch 47/100\n",
      "\n",
      "Epoch 48/100\n",
      "\n",
      "Epoch 49/100\n",
      "\n",
      "Epoch 50/100\n",
      "\n",
      "Epoch 51/100\n",
      "\n",
      "Epoch 52/100\n",
      "\n",
      "Epoch 53/100\n",
      "\n",
      "Epoch 54/100\n",
      "\n",
      "Epoch 55/100\n",
      "\n",
      "Epoch 56/100\n",
      "\n",
      "Epoch 57/100\n",
      "\n",
      "Epoch 58/100\n",
      "\n",
      "Epoch 59/100\n",
      "\n",
      "Epoch 60/100\n",
      "\n",
      "Epoch 61/100\n",
      "\n",
      "Epoch 62/100\n",
      "\n",
      "Epoch 63/100\n",
      "\n",
      "Epoch 64/100\n",
      "\n",
      "Epoch 65/100\n",
      "\n",
      "Epoch 66/100\n",
      "\n",
      "Epoch 67/100\n",
      "\n",
      "Epoch 68/100\n",
      "\n",
      "Epoch 69/100\n",
      "\n",
      "Epoch 70/100\n",
      "\n",
      "Epoch 71/100\n",
      "\n",
      "Epoch 72/100\n",
      "\n",
      "Epoch 73/100\n",
      "\n",
      "Epoch 74/100\n",
      "\n",
      "Epoch 75/100\n",
      "\n",
      "Epoch 76/100\n",
      "\n",
      "Epoch 77/100\n",
      "\n",
      "Epoch 78/100\n",
      "\n",
      "Epoch 79/100\n",
      "\n",
      "Epoch 80/100\n",
      "\n",
      "Epoch 81/100\n",
      "\n",
      "Epoch 82/100\n",
      "\n",
      "Epoch 83/100\n",
      "\n",
      "Epoch 84/100\n",
      "\n",
      "Epoch 85/100\n",
      "\n",
      "Epoch 86/100\n",
      "\n",
      "Epoch 87/100\n",
      "\n",
      "Epoch 88/100\n",
      "\n",
      "Epoch 89/100\n",
      "\n",
      "Epoch 90/100\n",
      "\n",
      "Epoch 91/100\n",
      "\n",
      "Epoch 92/100\n",
      "\n",
      "Epoch 93/100\n",
      "\n",
      "Epoch 94/100\n",
      "\n",
      "Epoch 95/100\n",
      "\n",
      "Epoch 96/100\n",
      "\n",
      "Epoch 97/100\n",
      "\n",
      "Epoch 98/100\n",
      "\n",
      "Epoch 99/100\n",
      "\n",
      "Epoch 100/100\n",
      "Epoch 1: validation loss 0.23082810640335083, accuracy 49.342105865478516\n",
      "Final test set performance:\n",
      "\tloss 0.2300483783086141\n",
      "\taccuracy 55.921051025390625\n"
     ]
    },
    {
     "data": {
      "image/png": "[encoded data removed]",
      "text/plain": [
       "<Figure size 640x480 with 1 Axes>"
      ]
     },
     "metadata": {},
     "output_type": "display_data"
    }
   ],
   "source": [
    "testloader = AZURE[2]\n",
    "trainloader = AZURE[0]\n",
    "valloader = AZURE[1]\n",
    "configuration2={\n",
    "    \"learning_rate\": 0.0001,\n",
    "    \"architecture\": \"CNN\",\n",
    "    \"epochs\": 100,\n",
    "    \"loss\": nn.BCELoss(),\n",
    "    \"batch_size\": 64,\n",
    "    \"decay\":1e-5,\n",
    "    'dropout': 0.1,\n",
    "    'number of machines': 20\n",
    "}\n",
    "losses = []\n",
    "accuracies = []\n",
    "for epoch in range(1):\n",
    "    train(net, trainloader, testloader, configuration2, configuration2['epochs'], configuration2['decay'], configuration2['dropout'])\n",
    "    loss, accuracy = test(net, valloader, configuration)\n",
    "    losses.append(loss)\n",
    "    accuracies.append(int(accuracy))\n",
    "    print(f\"Epoch {epoch+1}: validation loss {loss}, accuracy {accuracy}\")\n",
    "plt.plot(accuracies)\n",
    "loss, accuracy = test(net, testloader, configuration=configuration)\n",
    "\n",
    "print(f\"Final test set performance:\\n\\tloss {loss}\\n\\taccuracy {accuracy}\")"
   ]
  },
  {
   "cell_type": "markdown",
   "metadata": {},
   "source": [
    "trainloader = train_loaders[1]\n",
    "valloader = val_loaders[1]\n",
    "testloader = test_loaders[1]\n",
    "net = SimpleCNN().to(device)\n",
    "losses = []\n",
    "accuracies = []\n",
    "for epoch in range(1):\n",
    "    train(net, trainloader, testloader, configuration, configuration['epochs'])\n",
    "    loss, accuracy = test(net, valloader, configuration)\n",
    "    losses.append(loss)\n",
    "    accuracies.append(int(accuracy))\n",
    "    print(f\"Epoch {epoch+1}: validation loss {loss}, accuracy {accuracy}\")\n",
    "<!-- # plt.plot(accuracies) -->\n",
    "loss, accuracy = test(net, testloader, configuration=configuration)\n",
    "print(f\"Final test set performance:\\n\\tloss {loss}\\n\\taccuracy {accuracy}\")"
   ]
  },
  {
   "cell_type": "code",
   "execution_count": 10,
   "metadata": {},
   "outputs": [
    {
     "data": {
      "text/plain": [
       "(0.2300483783086141, tensor(55.9211, device='cuda:0'))"
      ]
     },
     "execution_count": 10,
     "metadata": {},
     "output_type": "execute_result"
    }
   ],
   "source": [
    "test(net, testloader, configuration)"
   ]
  },
  {
   "cell_type": "markdown",
   "metadata": {},
   "source": [
    "## Federated Learning"
   ]
  },
  {
   "cell_type": "markdown",
   "metadata": {},
   "source": [
    "importing azure dataset"
   ]
  },
  {
   "cell_type": "code",
   "execution_count": 11,
   "metadata": {},
   "outputs": [
    {
     "name": "stdout",
     "output_type": "stream",
     "text": [
      "conv1.weight\n",
      "conv1.bias\n",
      "bn1.weight\n",
      "bn1.bias\n",
      "bn1.running_mean\n",
      "bn1.running_var\n",
      "bn1.num_batches_tracked\n",
      "conv2.weight\n",
      "conv2.bias\n",
      "bn2.weight\n",
      "bn2.bias\n",
      "bn2.running_mean\n",
      "bn2.running_var\n",
      "bn2.num_batches_tracked\n",
      "fc1.weight\n",
      "fc1.bias\n",
      "fc2.weight\n",
      "fc2.bias\n"
     ]
    }
   ],
   "source": [
    "for name, val in net.state_dict().items():\n",
    "    \n",
    "    print(name)"
   ]
  },
  {
   "cell_type": "code",
   "execution_count": 12,
   "metadata": {},
   "outputs": [
    {
     "name": "stdout",
     "output_type": "stream",
     "text": [
      "conv1.weight\n",
      "conv1.bias\n",
      "conv2.weight\n",
      "conv2.bias\n",
      "fc1.weight\n",
      "fc1.bias\n",
      "fc2.weight\n",
      "fc2.bias\n"
     ]
    },
    {
     "data": {
      "text/plain": [
       "True"
      ]
     },
     "execution_count": 12,
     "metadata": {},
     "output_type": "execute_result"
    }
   ],
   "source": [
    "for name, val in net.state_dict().items():\n",
    "    if ('bn1' not in name and 'bn2' not in name):\n",
    "        print(name)\n",
    "\n",
    "'bn1' in 'bn1.bias'"
   ]
  },
  {
   "cell_type": "code",
   "execution_count": 13,
   "metadata": {},
   "outputs": [],
   "source": [
    "def get_parameters(model):\n",
    "    # Return model parameters as a list of NumPy ndarrays, excluding parameters of BN layers when using FedBN\n",
    "    return [val.cpu().numpy() for name, val in model.state_dict().items() if ('bn1' not in name and 'bn2' not in name)]\n",
    "\n",
    "def set_parameters(model, parameters):\n",
    "    # Set model parameters from a list of NumPy ndarrays\n",
    "    keys = [k for k in model.state_dict().keys() if 'bn' not in k]\n",
    "    params_dict = zip(keys, parameters)\n",
    "    state_dict = OrderedDict({k: torch.tensor(v) for k, v in params_dict})\n",
    "    model.load_state_dict(state_dict, strict=False)\n",
    "\n",
    "\n",
    "class FlowerClient(fl.client.NumPyClient):\n",
    "    def __init__(self, net, trainloader, valloader, configuration):\n",
    "        self.net = net\n",
    "        self.trainloader = trainloader\n",
    "        self.valloader = valloader\n",
    "\n",
    "    def get_parameters(self, config):\n",
    "        return get_parameters(self.net)\n",
    "\n",
    "    def fit(self, parameters, config):\n",
    "        set_parameters(self.net, parameters)\n",
    "        train(self.net, self.trainloader,self.valloader,configuration, configuration['epochs_FL'], configuration['decay_FL'], configuration['dropout'])\n",
    "        return get_parameters(self.net), len(self.trainloader), {}\n",
    "\n",
    "    def evaluate(self, parameters, config):\n",
    "        set_parameters(self.net, parameters)\n",
    "        loss, accuracy = test(self.net, self.valloader, configuration)\n",
    "        return float(loss), len(self.valloader), {\"accuracy\": float(accuracy)}\n",
    "    \n",
    "\n",
    "def client_fn(cid) -> FlowerClient:\n",
    "    net = SimpleCNN().to(device)\n",
    "    trainloader = train_loaders[int(cid)]\n",
    "    valloader = val_loaders[int(cid)]\n",
    "    return FlowerClient(net, trainloader, valloader, configuration).to_client()\n"
   ]
  },
  {
   "cell_type": "code",
   "execution_count": 14,
   "metadata": {},
   "outputs": [
    {
     "name": "stderr",
     "output_type": "stream",
     "text": [
      "\u001b[93mWARNING \u001b[0m:   \n",
      "Setting `min_available_clients` lower than `min_fit_clients` or\n",
      "`min_evaluate_clients` can cause the server to fail when there are too few clients\n",
      "connected to the server. `min_available_clients` must be set to a value larger\n",
      "than or equal to the values of `min_fit_clients` and `min_evaluate_clients`.\n",
      "\n",
      "\u001b[92mINFO \u001b[0m:      Starting Flower simulation, config: num_rounds=40, no round_timeout\n",
      "2024-08-09 22:09:44,763\tINFO worker.py:1621 -- Started a local Ray instance.\n",
      "\u001b[92mINFO \u001b[0m:      Flower VCE: Ray initialized with resources: {'CPU': 32.0, 'node:__internal_head__': 1.0, 'node:192.168.1.146': 1.0, 'memory': 111070212301.0, 'accelerator_type:G': 1.0, 'GPU': 2.0, 'object_store_memory': 51887233843.0}\n",
      "\u001b[92mINFO \u001b[0m:      Optimize your simulation with Flower VCE: https://flower.ai/docs/framework/how-to-run-simulations.html\n",
      "\u001b[92mINFO \u001b[0m:      Flower VCE: Resources for each Virtual Client: {'num_cpus': 1, 'num_gpus': 1.0}\n",
      "\u001b[92mINFO \u001b[0m:      Flower VCE: Creating VirtualClientEngineActorPool with 2 actors\n",
      "\u001b[92mINFO \u001b[0m:      [INIT]\n",
      "\u001b[92mINFO \u001b[0m:      Using initial global parameters provided by strategy\n",
      "\u001b[92mINFO \u001b[0m:      Evaluating initial global parameters\n",
      "\u001b[92mINFO \u001b[0m:      initial parameters (loss, other metrics): 0.23111782471338907, {'accuracy': tensor(50.8982, device='cuda:0')}\n",
      "\u001b[92mINFO \u001b[0m:      \n",
      "\u001b[92mINFO \u001b[0m:      [ROUND 1]\n",
      "\u001b[92mINFO \u001b[0m:      configure_fit: strategy sampled 4 clients (out of 4)\n"
     ]
    },
    {
     "name": "stdout",
     "output_type": "stream",
     "text": [
      "Server-side evaluation loss 0.23111782471338907 / accuracy 50.8982048034668\n",
      "\u001b[2m\u001b[36m(ClientAppActor pid=1498132)\u001b[0m \n",
      "\u001b[2m\u001b[36m(ClientAppActor pid=1498132)\u001b[0m Epoch 1/100\n",
      "\u001b[2m\u001b[36m(ClientAppActor pid=1498132)\u001b[0m \u001b[32m [repeated 169x across cluster] (Ray deduplicates logs by default. Set RAY_DEDUP_LOGS=0 to disable log deduplication, or see https://docs.ray.io/en/master/ray-observability/ray-logging.html#log-deduplication for more options.)\u001b[0m\n",
      "\u001b[2m\u001b[36m(ClientAppActor pid=1498132)\u001b[0m Epoch 88/100\u001b[32m [repeated 169x across cluster]\u001b[0m\n",
      "\u001b[2m\u001b[36m(ClientAppActor pid=1498132)\u001b[0m \u001b[32m [repeated 163x across cluster]\u001b[0m\n",
      "\u001b[2m\u001b[36m(ClientAppActor pid=1498132)\u001b[0m Epoch 74/100\u001b[32m [repeated 163x across cluster]\u001b[0m\n"
     ]
    },
    {
     "name": "stderr",
     "output_type": "stream",
     "text": [
      "\u001b[92mINFO \u001b[0m:      aggregate_fit: received 4 results and 0 failures\n",
      "\u001b[93mWARNING \u001b[0m:   No fit_metrics_aggregation_fn provided\n",
      "\u001b[92mINFO \u001b[0m:      fit progress: (1, 0.23030471801757812, {'accuracy': tensor(60.4790, device='cuda:0')}, 14.82646933401702)\n",
      "\u001b[92mINFO \u001b[0m:      configure_evaluate: strategy sampled 2 clients (out of 4)\n",
      "\u001b[92mINFO \u001b[0m:      aggregate_evaluate: received 2 results and 0 failures\n",
      "\u001b[92mINFO \u001b[0m:      \n",
      "\u001b[92mINFO \u001b[0m:      [ROUND 2]\n",
      "\u001b[92mINFO \u001b[0m:      configure_fit: strategy sampled 4 clients (out of 4)\n"
     ]
    },
    {
     "name": "stdout",
     "output_type": "stream",
     "text": [
      "Server-side evaluation loss 0.23030471801757812 / accuracy 60.479042053222656\n",
      "\u001b[2m\u001b[36m(ClientAppActor pid=1498132)\u001b[0m \u001b[32m [repeated 142x across cluster]\u001b[0m\n",
      "\u001b[2m\u001b[36m(ClientAppActor pid=1498132)\u001b[0m Epoch 39/100\u001b[32m [repeated 142x across cluster]\u001b[0m\n",
      "\u001b[2m\u001b[36m(ClientAppActor pid=1498132)\u001b[0m \u001b[32m [repeated 165x across cluster]\u001b[0m\n",
      "\u001b[2m\u001b[36m(ClientAppActor pid=1498132)\u001b[0m Epoch 19/100\u001b[32m [repeated 165x across cluster]\u001b[0m\n",
      "\u001b[2m\u001b[36m(ClientAppActor pid=1498132)\u001b[0m \u001b[32m [repeated 156x across cluster]\u001b[0m\n",
      "\u001b[2m\u001b[36m(ClientAppActor pid=1498132)\u001b[0m Epoch 96/100\u001b[32m [repeated 156x across cluster]\u001b[0m\n"
     ]
    },
    {
     "name": "stderr",
     "output_type": "stream",
     "text": [
      "\u001b[92mINFO \u001b[0m:      aggregate_fit: received 4 results and 0 failures\n",
      "\u001b[92mINFO \u001b[0m:      fit progress: (2, 0.22258122762044272, {'accuracy': tensor(73.6527, device='cuda:0')}, 27.47595089301467)\n",
      "\u001b[92mINFO \u001b[0m:      configure_evaluate: strategy sampled 2 clients (out of 4)\n",
      "\u001b[92mINFO \u001b[0m:      aggregate_evaluate: received 2 results and 0 failures\n",
      "\u001b[92mINFO \u001b[0m:      \n",
      "\u001b[92mINFO \u001b[0m:      [ROUND 3]\n",
      "\u001b[92mINFO \u001b[0m:      configure_fit: strategy sampled 4 clients (out of 4)\n"
     ]
    },
    {
     "name": "stdout",
     "output_type": "stream",
     "text": [
      "Server-side evaluation loss 0.22258122762044272 / accuracy 73.65269470214844\n",
      "\u001b[2m\u001b[36m(ClientAppActor pid=1498132)\u001b[0m \u001b[32m [repeated 135x across cluster]\u001b[0m\n",
      "\u001b[2m\u001b[36m(ClientAppActor pid=1498132)\u001b[0m Epoch 53/100\u001b[32m [repeated 135x across cluster]\u001b[0m\n",
      "\u001b[2m\u001b[36m(ClientAppActor pid=1498132)\u001b[0m \u001b[32m [repeated 165x across cluster]\u001b[0m\n",
      "\u001b[2m\u001b[36m(ClientAppActor pid=1498132)\u001b[0m Epoch 28/100\u001b[32m [repeated 165x across cluster]\u001b[0m\n"
     ]
    },
    {
     "name": "stderr",
     "output_type": "stream",
     "text": [
      "\u001b[92mINFO \u001b[0m:      aggregate_fit: received 4 results and 0 failures\n",
      "\u001b[92mINFO \u001b[0m:      fit progress: (3, 0.21195038159688315, {'accuracy': tensor(73.6527, device='cuda:0')}, 41.187575739983004)\n",
      "\u001b[92mINFO \u001b[0m:      configure_evaluate: strategy sampled 2 clients (out of 4)\n",
      "\u001b[92mINFO \u001b[0m:      aggregate_evaluate: received 2 results and 0 failures\n",
      "\u001b[92mINFO \u001b[0m:      \n",
      "\u001b[92mINFO \u001b[0m:      [ROUND 4]\n",
      "\u001b[92mINFO \u001b[0m:      configure_fit: strategy sampled 4 clients (out of 4)\n"
     ]
    },
    {
     "name": "stdout",
     "output_type": "stream",
     "text": [
      "Server-side evaluation loss 0.21195038159688315 / accuracy 73.65269470214844\n",
      "\u001b[2m\u001b[36m(ClientAppActor pid=1498132)\u001b[0m \u001b[32m [repeated 138x across cluster]\u001b[0m\n",
      "\u001b[2m\u001b[36m(ClientAppActor pid=1498132)\u001b[0m Epoch 21/100\u001b[32m [repeated 138x across cluster]\u001b[0m\n",
      "\u001b[2m\u001b[36m(ClientAppActor pid=1498132)\u001b[0m \u001b[32m [repeated 166x across cluster]\u001b[0m\n",
      "\u001b[2m\u001b[36m(ClientAppActor pid=1498132)\u001b[0m Epoch 11/100\u001b[32m [repeated 166x across cluster]\u001b[0m\n",
      "\u001b[2m\u001b[36m(ClientAppActor pid=1498133)\u001b[0m \u001b[32m [repeated 179x across cluster]\u001b[0m\n",
      "\u001b[2m\u001b[36m(ClientAppActor pid=1498133)\u001b[0m Epoch 79/100\u001b[32m [repeated 179x across cluster]\u001b[0m\n"
     ]
    },
    {
     "name": "stderr",
     "output_type": "stream",
     "text": [
      "\u001b[92mINFO \u001b[0m:      aggregate_fit: received 4 results and 0 failures\n",
      "\u001b[92mINFO \u001b[0m:      fit progress: (4, 0.20569362243016562, {'accuracy': tensor(73.6527, device='cuda:0')}, 53.68304033001186)\n",
      "\u001b[92mINFO \u001b[0m:      configure_evaluate: strategy sampled 2 clients (out of 4)\n",
      "\u001b[92mINFO \u001b[0m:      aggregate_evaluate: received 2 results and 0 failures\n",
      "\u001b[92mINFO \u001b[0m:      \n",
      "\u001b[92mINFO \u001b[0m:      [ROUND 5]\n",
      "\u001b[92mINFO \u001b[0m:      configure_fit: strategy sampled 4 clients (out of 4)\n"
     ]
    },
    {
     "name": "stdout",
     "output_type": "stream",
     "text": [
      "Server-side evaluation loss 0.20569362243016562 / accuracy 73.65269470214844\n",
      "\u001b[2m\u001b[36m(ClientAppActor pid=1498132)\u001b[0m \u001b[32m [repeated 148x across cluster]\u001b[0m\n",
      "\u001b[2m\u001b[36m(ClientAppActor pid=1498132)\u001b[0m Epoch 75/100\u001b[32m [repeated 148x across cluster]\u001b[0m\n",
      "\u001b[2m\u001b[36m(ClientAppActor pid=1498133)\u001b[0m \u001b[32m [repeated 164x across cluster]\u001b[0m\n",
      "\u001b[2m\u001b[36m(ClientAppActor pid=1498133)\u001b[0m Epoch 32/100\u001b[32m [repeated 164x across cluster]\u001b[0m\n"
     ]
    },
    {
     "name": "stderr",
     "output_type": "stream",
     "text": [
      "\u001b[92mINFO \u001b[0m:      aggregate_fit: received 4 results and 0 failures\n",
      "\u001b[92mINFO \u001b[0m:      fit progress: (5, 0.20102993647257486, {'accuracy': tensor(74.8503, device='cuda:0')}, 66.45849385898327)\n",
      "\u001b[92mINFO \u001b[0m:      configure_evaluate: strategy sampled 2 clients (out of 4)\n",
      "\u001b[92mINFO \u001b[0m:      aggregate_evaluate: received 2 results and 0 failures\n",
      "\u001b[92mINFO \u001b[0m:      \n",
      "\u001b[92mINFO \u001b[0m:      [ROUND 6]\n",
      "\u001b[92mINFO \u001b[0m:      configure_fit: strategy sampled 4 clients (out of 4)\n"
     ]
    },
    {
     "name": "stdout",
     "output_type": "stream",
     "text": [
      "Server-side evaluation loss 0.20102993647257486 / accuracy 74.85029602050781\n",
      "\u001b[2m\u001b[36m(ClientAppActor pid=1498132)\u001b[0m \u001b[32m [repeated 137x across cluster]\u001b[0m\n",
      "\u001b[2m\u001b[36m(ClientAppActor pid=1498132)\u001b[0m Epoch 13/100\u001b[32m [repeated 137x across cluster]\u001b[0m\n",
      "\u001b[2m\u001b[36m(ClientAppActor pid=1498132)\u001b[0m \u001b[32m [repeated 163x across cluster]\u001b[0m\n",
      "\u001b[2m\u001b[36m(ClientAppActor pid=1498132)\u001b[0m Epoch 93/100\u001b[32m [repeated 163x across cluster]\u001b[0m\n",
      "\u001b[2m\u001b[36m(ClientAppActor pid=1498132)\u001b[0m \u001b[32m [repeated 197x across cluster]\u001b[0m\n",
      "\u001b[2m\u001b[36m(ClientAppActor pid=1498132)\u001b[0m Epoch 90/100\u001b[32m [repeated 197x across cluster]\u001b[0m\n"
     ]
    },
    {
     "name": "stderr",
     "output_type": "stream",
     "text": [
      "\u001b[92mINFO \u001b[0m:      aggregate_fit: received 4 results and 0 failures\n",
      "\u001b[92mINFO \u001b[0m:      fit progress: (6, 0.20028074582417807, {'accuracy': tensor(74.8503, device='cuda:0')}, 78.12927870603744)\n",
      "\u001b[92mINFO \u001b[0m:      configure_evaluate: strategy sampled 2 clients (out of 4)\n",
      "\u001b[92mINFO \u001b[0m:      aggregate_evaluate: received 2 results and 0 failures\n",
      "\u001b[92mINFO \u001b[0m:      \n",
      "\u001b[92mINFO \u001b[0m:      [ROUND 7]\n",
      "\u001b[92mINFO \u001b[0m:      configure_fit: strategy sampled 4 clients (out of 4)\n"
     ]
    },
    {
     "name": "stdout",
     "output_type": "stream",
     "text": [
      "Server-side evaluation loss 0.20028074582417807 / accuracy 74.85029602050781\n",
      "\u001b[2m\u001b[36m(ClientAppActor pid=1498132)\u001b[0m \u001b[32m [repeated 154x across cluster]\u001b[0m\n",
      "\u001b[2m\u001b[36m(ClientAppActor pid=1498132)\u001b[0m Epoch 65/100\u001b[32m [repeated 154x across cluster]\u001b[0m\n",
      "\u001b[2m\u001b[36m(ClientAppActor pid=1498132)\u001b[0m \u001b[32m [repeated 154x across cluster]\u001b[0m\n",
      "\u001b[2m\u001b[36m(ClientAppActor pid=1498132)\u001b[0m Epoch 42/100\u001b[32m [repeated 154x across cluster]\u001b[0m\n"
     ]
    },
    {
     "name": "stderr",
     "output_type": "stream",
     "text": [
      "\u001b[92mINFO \u001b[0m:      aggregate_fit: received 4 results and 0 failures\n",
      "\u001b[92mINFO \u001b[0m:      fit progress: (7, 0.20113678773244223, {'accuracy': tensor(74.2515, device='cuda:0')}, 91.25184007402277)\n",
      "\u001b[92mINFO \u001b[0m:      configure_evaluate: strategy sampled 2 clients (out of 4)\n",
      "\u001b[92mINFO \u001b[0m:      aggregate_evaluate: received 2 results and 0 failures\n",
      "\u001b[92mINFO \u001b[0m:      \n",
      "\u001b[92mINFO \u001b[0m:      [ROUND 8]\n",
      "\u001b[92mINFO \u001b[0m:      configure_fit: strategy sampled 4 clients (out of 4)\n"
     ]
    },
    {
     "name": "stdout",
     "output_type": "stream",
     "text": [
      "Server-side evaluation loss 0.20113678773244223 / accuracy 74.25149536132812\n",
      "\u001b[2m\u001b[36m(ClientAppActor pid=1498132)\u001b[0m \u001b[32m [repeated 150x across cluster]\u001b[0m\n",
      "\u001b[2m\u001b[36m(ClientAppActor pid=1498132)\u001b[0m Epoch 26/100\u001b[32m [repeated 150x across cluster]\u001b[0m\n",
      "\u001b[2m\u001b[36m(ClientAppActor pid=1498132)\u001b[0m \u001b[32m [repeated 160x across cluster]\u001b[0m\n",
      "\u001b[2m\u001b[36m(ClientAppActor pid=1498132)\u001b[0m Epoch 9/100\u001b[32m [repeated 160x across cluster]\u001b[0m\n",
      "\u001b[2m\u001b[36m(ClientAppActor pid=1498132)\u001b[0m \u001b[32m [repeated 147x across cluster]\u001b[0m\n",
      "\u001b[2m\u001b[36m(ClientAppActor pid=1498132)\u001b[0m Epoch 80/100\u001b[32m [repeated 147x across cluster]\u001b[0m\n"
     ]
    },
    {
     "name": "stderr",
     "output_type": "stream",
     "text": [
      "\u001b[92mINFO \u001b[0m:      aggregate_fit: received 4 results and 0 failures\n",
      "\u001b[92mINFO \u001b[0m:      fit progress: (8, 0.1969719926516215, {'accuracy': tensor(76.0479, device='cuda:0')}, 104.68645359500078)\n",
      "\u001b[92mINFO \u001b[0m:      configure_evaluate: strategy sampled 2 clients (out of 4)\n",
      "\u001b[92mINFO \u001b[0m:      aggregate_evaluate: received 2 results and 0 failures\n",
      "\u001b[92mINFO \u001b[0m:      \n",
      "\u001b[92mINFO \u001b[0m:      [ROUND 9]\n",
      "\u001b[92mINFO \u001b[0m:      configure_fit: strategy sampled 4 clients (out of 4)\n"
     ]
    },
    {
     "name": "stdout",
     "output_type": "stream",
     "text": [
      "Server-side evaluation loss 0.1969719926516215 / accuracy 76.04790496826172\n",
      "\u001b[2m\u001b[36m(ClientAppActor pid=1498132)\u001b[0m \u001b[32m [repeated 136x across cluster]\u001b[0m\n",
      "\u001b[2m\u001b[36m(ClientAppActor pid=1498132)\u001b[0m Epoch 41/100\u001b[32m [repeated 136x across cluster]\u001b[0m\n",
      "\u001b[2m\u001b[36m(ClientAppActor pid=1498132)\u001b[0m \u001b[32m [repeated 142x across cluster]\u001b[0m\n",
      "\u001b[2m\u001b[36m(ClientAppActor pid=1498132)\u001b[0m Epoch 2/100\u001b[32m [repeated 142x across cluster]\u001b[0m\n",
      "\u001b[2m\u001b[36m(ClientAppActor pid=1498132)\u001b[0m \u001b[32m [repeated 154x across cluster]\u001b[0m\n",
      "\u001b[2m\u001b[36m(ClientAppActor pid=1498132)\u001b[0m Epoch 85/100\u001b[32m [repeated 154x across cluster]\u001b[0m\n"
     ]
    },
    {
     "name": "stderr",
     "output_type": "stream",
     "text": [
      "\u001b[92mINFO \u001b[0m:      aggregate_fit: received 4 results and 0 failures\n",
      "\u001b[92mINFO \u001b[0m:      fit progress: (9, 0.195194939772288, {'accuracy': tensor(76.0479, device='cuda:0')}, 119.00270791200455)\n",
      "\u001b[92mINFO \u001b[0m:      configure_evaluate: strategy sampled 2 clients (out of 4)\n",
      "\u001b[92mINFO \u001b[0m:      aggregate_evaluate: received 2 results and 0 failures\n",
      "\u001b[92mINFO \u001b[0m:      \n",
      "\u001b[92mINFO \u001b[0m:      [ROUND 10]\n",
      "\u001b[92mINFO \u001b[0m:      configure_fit: strategy sampled 4 clients (out of 4)\n"
     ]
    },
    {
     "name": "stdout",
     "output_type": "stream",
     "text": [
      "Server-side evaluation loss 0.195194939772288 / accuracy 76.04790496826172\n",
      "\u001b[2m\u001b[36m(ClientAppActor pid=1498132)\u001b[0m \u001b[32m [repeated 133x across cluster]\u001b[0m\n",
      "\u001b[2m\u001b[36m(ClientAppActor pid=1498132)\u001b[0m Epoch 69/100\u001b[32m [repeated 133x across cluster]\u001b[0m\n",
      "\u001b[2m\u001b[36m(ClientAppActor pid=1498132)\u001b[0m \u001b[32m [repeated 145x across cluster]\u001b[0m\n",
      "\u001b[2m\u001b[36m(ClientAppActor pid=1498132)\u001b[0m Epoch 48/100\u001b[32m [repeated 145x across cluster]\u001b[0m\n"
     ]
    },
    {
     "name": "stderr",
     "output_type": "stream",
     "text": [
      "\u001b[92mINFO \u001b[0m:      aggregate_fit: received 4 results and 0 failures\n",
      "\u001b[92mINFO \u001b[0m:      fit progress: (10, 0.1937244733174642, {'accuracy': tensor(75.4491, device='cuda:0')}, 132.55567346903263)\n",
      "\u001b[92mINFO \u001b[0m:      configure_evaluate: strategy sampled 2 clients (out of 4)\n",
      "\u001b[92mINFO \u001b[0m:      aggregate_evaluate: received 2 results and 0 failures\n",
      "\u001b[92mINFO \u001b[0m:      \n",
      "\u001b[92mINFO \u001b[0m:      [ROUND 11]\n",
      "\u001b[92mINFO \u001b[0m:      configure_fit: strategy sampled 4 clients (out of 4)\n"
     ]
    },
    {
     "name": "stdout",
     "output_type": "stream",
     "text": [
      "Server-side evaluation loss 0.1937244733174642 / accuracy 75.44910430908203\n",
      "\u001b[2m\u001b[36m(ClientAppActor pid=1498132)\u001b[0m \u001b[32m [repeated 150x across cluster]\u001b[0m\n",
      "\u001b[2m\u001b[36m(ClientAppActor pid=1498132)\u001b[0m Epoch 6/100\u001b[32m [repeated 150x across cluster]\u001b[0m\n",
      "\u001b[2m\u001b[36m(ClientAppActor pid=1498132)\u001b[0m \u001b[32m [repeated 149x across cluster]\u001b[0m\n",
      "\u001b[2m\u001b[36m(ClientAppActor pid=1498132)\u001b[0m Epoch 73/100\u001b[32m [repeated 149x across cluster]\u001b[0m\n",
      "\u001b[2m\u001b[36m(ClientAppActor pid=1498132)\u001b[0m \u001b[32m [repeated 159x across cluster]\u001b[0m\n",
      "\u001b[2m\u001b[36m(ClientAppActor pid=1498132)\u001b[0m Epoch 54/100\u001b[32m [repeated 159x across cluster]\u001b[0m\n"
     ]
    },
    {
     "name": "stderr",
     "output_type": "stream",
     "text": [
      "\u001b[92mINFO \u001b[0m:      aggregate_fit: received 4 results and 0 failures\n",
      "\u001b[92mINFO \u001b[0m:      fit progress: (11, 0.19151494900385538, {'accuracy': tensor(75.4491, device='cuda:0')}, 146.05509566300316)\n",
      "\u001b[92mINFO \u001b[0m:      configure_evaluate: strategy sampled 2 clients (out of 4)\n",
      "\u001b[92mINFO \u001b[0m:      aggregate_evaluate: received 2 results and 0 failures\n",
      "\u001b[92mINFO \u001b[0m:      \n",
      "\u001b[92mINFO \u001b[0m:      [ROUND 12]\n",
      "\u001b[92mINFO \u001b[0m:      configure_fit: strategy sampled 4 clients (out of 4)\n"
     ]
    },
    {
     "name": "stdout",
     "output_type": "stream",
     "text": [
      "Server-side evaluation loss 0.19151494900385538 / accuracy 75.44910430908203\n",
      "\u001b[2m\u001b[36m(ClientAppActor pid=1498132)\u001b[0m \u001b[32m [repeated 139x across cluster]\u001b[0m\n",
      "\u001b[2m\u001b[36m(ClientAppActor pid=1498132)\u001b[0m Epoch 29/100\u001b[32m [repeated 139x across cluster]\u001b[0m\n",
      "\u001b[2m\u001b[36m(ClientAppActor pid=1498132)\u001b[0m \u001b[32m [repeated 164x across cluster]\u001b[0m\n",
      "\u001b[2m\u001b[36m(ClientAppActor pid=1498132)\u001b[0m Epoch 3/100\u001b[32m [repeated 164x across cluster]\u001b[0m\n",
      "\u001b[2m\u001b[36m(ClientAppActor pid=1498132)\u001b[0m \u001b[32m [repeated 171x across cluster]\u001b[0m\n",
      "\u001b[2m\u001b[36m(ClientAppActor pid=1498132)\u001b[0m Epoch 95/100\u001b[32m [repeated 171x across cluster]\u001b[0m\n"
     ]
    },
    {
     "name": "stderr",
     "output_type": "stream",
     "text": [
      "\u001b[92mINFO \u001b[0m:      aggregate_fit: received 4 results and 0 failures\n",
      "\u001b[92mINFO \u001b[0m:      fit progress: (12, 0.19050858418146768, {'accuracy': tensor(76.0479, device='cuda:0')}, 158.70853810402332)\n",
      "\u001b[92mINFO \u001b[0m:      configure_evaluate: strategy sampled 2 clients (out of 4)\n",
      "\u001b[92mINFO \u001b[0m:      aggregate_evaluate: received 2 results and 0 failures\n",
      "\u001b[92mINFO \u001b[0m:      \n",
      "\u001b[92mINFO \u001b[0m:      [ROUND 13]\n",
      "\u001b[92mINFO \u001b[0m:      configure_fit: strategy sampled 4 clients (out of 4)\n"
     ]
    },
    {
     "name": "stdout",
     "output_type": "stream",
     "text": [
      "Server-side evaluation loss 0.19050858418146768 / accuracy 76.04790496826172\n",
      "\u001b[2m\u001b[36m(ClientAppActor pid=1498132)\u001b[0m \u001b[32m [repeated 152x across cluster]\u001b[0m\n",
      "\u001b[2m\u001b[36m(ClientAppActor pid=1498132)\u001b[0m Epoch 71/100\u001b[32m [repeated 151x across cluster]\u001b[0m\n",
      "\u001b[2m\u001b[36m(ClientAppActor pid=1498132)\u001b[0m \u001b[32m [repeated 150x across cluster]\u001b[0m\n",
      "\u001b[2m\u001b[36m(ClientAppActor pid=1498132)\u001b[0m Epoch 44/100\u001b[32m [repeated 150x across cluster]\u001b[0m\n"
     ]
    },
    {
     "name": "stderr",
     "output_type": "stream",
     "text": [
      "\u001b[92mINFO \u001b[0m:      aggregate_fit: received 4 results and 0 failures\n",
      "\u001b[92mINFO \u001b[0m:      fit progress: (13, 0.1905296246210734, {'accuracy': tensor(76.0479, device='cuda:0')}, 171.61198779201368)\n",
      "\u001b[92mINFO \u001b[0m:      configure_evaluate: strategy sampled 2 clients (out of 4)\n",
      "\u001b[92mINFO \u001b[0m:      aggregate_evaluate: received 2 results and 0 failures\n",
      "\u001b[92mINFO \u001b[0m:      \n",
      "\u001b[92mINFO \u001b[0m:      [ROUND 14]\n",
      "\u001b[92mINFO \u001b[0m:      configure_fit: strategy sampled 4 clients (out of 4)\n"
     ]
    },
    {
     "name": "stdout",
     "output_type": "stream",
     "text": [
      "Server-side evaluation loss 0.1905296246210734 / accuracy 76.04790496826172\n",
      "\u001b[2m\u001b[36m(ClientAppActor pid=1498132)\u001b[0m \u001b[32m [repeated 174x across cluster]\u001b[0m\n",
      "\u001b[2m\u001b[36m(ClientAppActor pid=1498132)\u001b[0m Epoch 41/100\u001b[32m [repeated 174x across cluster]\u001b[0m\n",
      "\u001b[2m\u001b[36m(ClientAppActor pid=1498132)\u001b[0m \u001b[32m [repeated 167x across cluster]\u001b[0m\n",
      "\u001b[2m\u001b[36m(ClientAppActor pid=1498132)\u001b[0m Epoch 35/100\u001b[32m [repeated 167x across cluster]\u001b[0m\n",
      "\u001b[2m\u001b[36m(ClientAppActor pid=1498133)\u001b[0m \u001b[32m [repeated 135x across cluster]\u001b[0m\n",
      "\u001b[2m\u001b[36m(ClientAppActor pid=1498133)\u001b[0m Epoch 72/100\u001b[32m [repeated 135x across cluster]\u001b[0m\n"
     ]
    },
    {
     "name": "stderr",
     "output_type": "stream",
     "text": [
      "\u001b[92mINFO \u001b[0m:      aggregate_fit: received 4 results and 0 failures\n",
      "\u001b[92mINFO \u001b[0m:      fit progress: (14, 0.19106843074162802, {'accuracy': tensor(76.0479, device='cuda:0')}, 185.54469474300276)\n",
      "\u001b[92mINFO \u001b[0m:      configure_evaluate: strategy sampled 2 clients (out of 4)\n",
      "\u001b[92mINFO \u001b[0m:      aggregate_evaluate: received 2 results and 0 failures\n",
      "\u001b[92mINFO \u001b[0m:      \n",
      "\u001b[92mINFO \u001b[0m:      [ROUND 15]\n",
      "\u001b[92mINFO \u001b[0m:      configure_fit: strategy sampled 4 clients (out of 4)\n"
     ]
    },
    {
     "name": "stdout",
     "output_type": "stream",
     "text": [
      "Server-side evaluation loss 0.19106843074162802 / accuracy 76.04790496826172\n",
      "\u001b[2m\u001b[36m(ClientAppActor pid=1498132)\u001b[0m \u001b[32m [repeated 139x across cluster]\u001b[0m\n",
      "\u001b[2m\u001b[36m(ClientAppActor pid=1498132)\u001b[0m Epoch 58/100\u001b[32m [repeated 139x across cluster]\u001b[0m\n",
      "\u001b[2m\u001b[36m(ClientAppActor pid=1498132)\u001b[0m \u001b[32m [repeated 156x across cluster]\u001b[0m\n",
      "\u001b[2m\u001b[36m(ClientAppActor pid=1498132)\u001b[0m Epoch 40/100\u001b[32m [repeated 156x across cluster]\u001b[0m\n",
      "\u001b[2m\u001b[36m(ClientAppActor pid=1498133)\u001b[0m \u001b[32m [repeated 129x across cluster]\u001b[0m\n",
      "\u001b[2m\u001b[36m(ClientAppActor pid=1498133)\u001b[0m Epoch 96/100\u001b[32m [repeated 129x across cluster]\u001b[0m\n"
     ]
    },
    {
     "name": "stderr",
     "output_type": "stream",
     "text": [
      "\u001b[92mINFO \u001b[0m:      aggregate_fit: received 4 results and 0 failures\n",
      "\u001b[92mINFO \u001b[0m:      fit progress: (15, 0.19050631920496622, {'accuracy': tensor(76.0479, device='cuda:0')}, 199.0421856379835)\n",
      "\u001b[92mINFO \u001b[0m:      configure_evaluate: strategy sampled 2 clients (out of 4)\n",
      "\u001b[92mINFO \u001b[0m:      aggregate_evaluate: received 2 results and 0 failures\n",
      "\u001b[92mINFO \u001b[0m:      \n",
      "\u001b[92mINFO \u001b[0m:      [ROUND 16]\n",
      "\u001b[92mINFO \u001b[0m:      configure_fit: strategy sampled 4 clients (out of 4)\n"
     ]
    },
    {
     "name": "stdout",
     "output_type": "stream",
     "text": [
      "Server-side evaluation loss 0.19050631920496622 / accuracy 76.04790496826172\n",
      "\u001b[2m\u001b[36m(ClientAppActor pid=1498132)\u001b[0m \u001b[32m [repeated 149x across cluster]\u001b[0m\n",
      "\u001b[2m\u001b[36m(ClientAppActor pid=1498132)\u001b[0m Epoch 92/100\u001b[32m [repeated 149x across cluster]\u001b[0m\n",
      "\u001b[2m\u001b[36m(ClientAppActor pid=1498132)\u001b[0m \u001b[32m [repeated 173x across cluster]\u001b[0m\n",
      "\u001b[2m\u001b[36m(ClientAppActor pid=1498132)\u001b[0m Epoch 86/100\u001b[32m [repeated 173x across cluster]\u001b[0m\n"
     ]
    },
    {
     "name": "stderr",
     "output_type": "stream",
     "text": [
      "\u001b[92mINFO \u001b[0m:      aggregate_fit: received 4 results and 0 failures\n",
      "\u001b[92mINFO \u001b[0m:      fit progress: (16, 0.18813570340474448, {'accuracy': tensor(76.0479, device='cuda:0')}, 212.01474080403568)\n",
      "\u001b[92mINFO \u001b[0m:      configure_evaluate: strategy sampled 2 clients (out of 4)\n",
      "\u001b[92mINFO \u001b[0m:      aggregate_evaluate: received 2 results and 0 failures\n",
      "\u001b[92mINFO \u001b[0m:      \n",
      "\u001b[92mINFO \u001b[0m:      [ROUND 17]\n",
      "\u001b[92mINFO \u001b[0m:      configure_fit: strategy sampled 4 clients (out of 4)\n"
     ]
    },
    {
     "name": "stdout",
     "output_type": "stream",
     "text": [
      "Server-side evaluation loss 0.18813570340474448 / accuracy 76.04790496826172\n",
      "\u001b[2m\u001b[36m(ClientAppActor pid=1498132)\u001b[0m \u001b[32m [repeated 152x across cluster]\u001b[0m\n",
      "\u001b[2m\u001b[36m(ClientAppActor pid=1498132)\u001b[0m Epoch 37/100\u001b[32m [repeated 152x across cluster]\u001b[0m\n",
      "\u001b[2m\u001b[36m(ClientAppActor pid=1498132)\u001b[0m \u001b[32m [repeated 191x across cluster]\u001b[0m\n",
      "\u001b[2m\u001b[36m(ClientAppActor pid=1498132)\u001b[0m Epoch 32/100\u001b[32m [repeated 191x across cluster]\u001b[0m\n"
     ]
    },
    {
     "name": "stderr",
     "output_type": "stream",
     "text": [
      "\u001b[92mINFO \u001b[0m:      aggregate_fit: received 4 results and 0 failures\n",
      "\u001b[92mINFO \u001b[0m:      fit progress: (17, 0.18939046065012613, {'accuracy': tensor(76.0479, device='cuda:0')}, 222.8146725090337)\n",
      "\u001b[92mINFO \u001b[0m:      configure_evaluate: strategy sampled 2 clients (out of 4)\n",
      "\u001b[92mINFO \u001b[0m:      aggregate_evaluate: received 2 results and 0 failures\n",
      "\u001b[92mINFO \u001b[0m:      \n",
      "\u001b[92mINFO \u001b[0m:      [ROUND 18]\n",
      "\u001b[92mINFO \u001b[0m:      configure_fit: strategy sampled 4 clients (out of 4)\n"
     ]
    },
    {
     "name": "stdout",
     "output_type": "stream",
     "text": [
      "Server-side evaluation loss 0.18939046065012613 / accuracy 76.04790496826172\n",
      "\u001b[2m\u001b[36m(ClientAppActor pid=1498132)\u001b[0m \u001b[32m [repeated 185x across cluster]\u001b[0m\n",
      "\u001b[2m\u001b[36m(ClientAppActor pid=1498132)\u001b[0m Epoch 28/100\u001b[32m [repeated 185x across cluster]\u001b[0m\n",
      "\u001b[2m\u001b[36m(ClientAppActor pid=1498132)\u001b[0m \u001b[32m [repeated 261x across cluster]\u001b[0m\n",
      "\u001b[2m\u001b[36m(ClientAppActor pid=1498132)\u001b[0m Epoch 75/100\u001b[32m [repeated 261x across cluster]\u001b[0m\n"
     ]
    },
    {
     "name": "stderr",
     "output_type": "stream",
     "text": [
      "\u001b[92mINFO \u001b[0m:      aggregate_fit: received 4 results and 0 failures\n",
      "\u001b[92mINFO \u001b[0m:      fit progress: (18, 0.18906056880950928, {'accuracy': tensor(77.2455, device='cuda:0')}, 231.119577030011)\n",
      "\u001b[92mINFO \u001b[0m:      configure_evaluate: strategy sampled 2 clients (out of 4)\n",
      "\u001b[92mINFO \u001b[0m:      aggregate_evaluate: received 2 results and 0 failures\n",
      "\u001b[92mINFO \u001b[0m:      \n",
      "\u001b[92mINFO \u001b[0m:      [ROUND 19]\n",
      "\u001b[92mINFO \u001b[0m:      configure_fit: strategy sampled 4 clients (out of 4)\n"
     ]
    },
    {
     "name": "stdout",
     "output_type": "stream",
     "text": [
      "Server-side evaluation loss 0.18906056880950928 / accuracy 77.2455062866211\n",
      "\u001b[2m\u001b[36m(ClientAppActor pid=1498132)\u001b[0m \u001b[32m [repeated 275x across cluster]\u001b[0m\n",
      "\u001b[2m\u001b[36m(ClientAppActor pid=1498132)\u001b[0m Epoch 3/100\u001b[32m [repeated 275x across cluster]\u001b[0m\n"
     ]
    },
    {
     "name": "stderr",
     "output_type": "stream",
     "text": [
      "\u001b[92mINFO \u001b[0m:      aggregate_fit: received 4 results and 0 failures\n",
      "\u001b[92mINFO \u001b[0m:      fit progress: (19, 0.18695072333017984, {'accuracy': tensor(76.0479, device='cuda:0')}, 238.88477880699793)\n",
      "\u001b[92mINFO \u001b[0m:      configure_evaluate: strategy sampled 2 clients (out of 4)\n",
      "\u001b[92mINFO \u001b[0m:      aggregate_evaluate: received 2 results and 0 failures\n",
      "\u001b[92mINFO \u001b[0m:      \n",
      "\u001b[92mINFO \u001b[0m:      [ROUND 20]\n",
      "\u001b[92mINFO \u001b[0m:      configure_fit: strategy sampled 4 clients (out of 4)\n"
     ]
    },
    {
     "name": "stdout",
     "output_type": "stream",
     "text": [
      "Server-side evaluation loss 0.18695072333017984 / accuracy 76.04790496826172\n",
      "\u001b[2m\u001b[36m(ClientAppActor pid=1498132)\u001b[0m \u001b[32m [repeated 222x across cluster]\u001b[0m\n",
      "\u001b[2m\u001b[36m(ClientAppActor pid=1498132)\u001b[0m Epoch 4/100\u001b[32m [repeated 222x across cluster]\u001b[0m\n",
      "\u001b[2m\u001b[36m(ClientAppActor pid=1498132)\u001b[0m \u001b[32m [repeated 300x across cluster]\u001b[0m\n",
      "\u001b[2m\u001b[36m(ClientAppActor pid=1498132)\u001b[0m Epoch 56/100\u001b[32m [repeated 300x across cluster]\u001b[0m\n"
     ]
    },
    {
     "name": "stderr",
     "output_type": "stream",
     "text": [
      "\u001b[92mINFO \u001b[0m:      aggregate_fit: received 4 results and 0 failures\n",
      "\u001b[92mINFO \u001b[0m:      fit progress: (20, 0.18734633922576904, {'accuracy': tensor(76.0479, device='cuda:0')}, 245.6342071199906)\n",
      "\u001b[92mINFO \u001b[0m:      configure_evaluate: strategy sampled 2 clients (out of 4)\n",
      "\u001b[92mINFO \u001b[0m:      aggregate_evaluate: received 2 results and 0 failures\n",
      "\u001b[92mINFO \u001b[0m:      \n",
      "\u001b[92mINFO \u001b[0m:      [ROUND 21]\n",
      "\u001b[92mINFO \u001b[0m:      configure_fit: strategy sampled 4 clients (out of 4)\n"
     ]
    },
    {
     "name": "stdout",
     "output_type": "stream",
     "text": [
      "Server-side evaluation loss 0.18734633922576904 / accuracy 76.04790496826172\n",
      "\u001b[2m\u001b[36m(ClientAppActor pid=1498132)\u001b[0m \u001b[32m [repeated 292x across cluster]\u001b[0m\n",
      "\u001b[2m\u001b[36m(ClientAppActor pid=1498132)\u001b[0m Epoch 18/100\u001b[32m [repeated 292x across cluster]\u001b[0m\n"
     ]
    },
    {
     "name": "stderr",
     "output_type": "stream",
     "text": [
      "\u001b[92mINFO \u001b[0m:      aggregate_fit: received 4 results and 0 failures\n",
      "\u001b[92mINFO \u001b[0m:      fit progress: (21, 0.18657100200653076, {'accuracy': tensor(76.0479, device='cuda:0')}, 253.18820822803536)\n",
      "\u001b[92mINFO \u001b[0m:      configure_evaluate: strategy sampled 2 clients (out of 4)\n",
      "\u001b[92mINFO \u001b[0m:      aggregate_evaluate: received 2 results and 0 failures\n",
      "\u001b[92mINFO \u001b[0m:      \n",
      "\u001b[92mINFO \u001b[0m:      [ROUND 22]\n",
      "\u001b[92mINFO \u001b[0m:      configure_fit: strategy sampled 4 clients (out of 4)\n"
     ]
    },
    {
     "name": "stdout",
     "output_type": "stream",
     "text": [
      "Server-side evaluation loss 0.18657100200653076 / accuracy 76.04790496826172\n",
      "\u001b[2m\u001b[36m(ClientAppActor pid=1498132)\u001b[0m \u001b[32m [repeated 266x across cluster]\u001b[0m\n",
      "\u001b[2m\u001b[36m(ClientAppActor pid=1498132)\u001b[0m Epoch 34/100\u001b[32m [repeated 266x across cluster]\u001b[0m\n",
      "\u001b[2m\u001b[36m(ClientAppActor pid=1498132)\u001b[0m \u001b[32m [repeated 310x across cluster]\u001b[0m\n",
      "\u001b[2m\u001b[36m(ClientAppActor pid=1498132)\u001b[0m Epoch 92/100\u001b[32m [repeated 310x across cluster]\u001b[0m\n"
     ]
    },
    {
     "name": "stderr",
     "output_type": "stream",
     "text": [
      "\u001b[92mINFO \u001b[0m:      aggregate_fit: received 4 results and 0 failures\n",
      "\u001b[92mINFO \u001b[0m:      fit progress: (22, 0.18667248884836832, {'accuracy': tensor(76.6467, device='cuda:0')}, 259.915574602026)\n",
      "\u001b[92mINFO \u001b[0m:      configure_evaluate: strategy sampled 2 clients (out of 4)\n",
      "\u001b[92mINFO \u001b[0m:      aggregate_evaluate: received 2 results and 0 failures\n",
      "\u001b[92mINFO \u001b[0m:      \n",
      "\u001b[92mINFO \u001b[0m:      [ROUND 23]\n",
      "\u001b[92mINFO \u001b[0m:      configure_fit: strategy sampled 4 clients (out of 4)\n"
     ]
    },
    {
     "name": "stdout",
     "output_type": "stream",
     "text": [
      "Server-side evaluation loss 0.18667248884836832 / accuracy 76.6467056274414\n",
      "\u001b[2m\u001b[36m(ClientAppActor pid=1498132)\u001b[0m \u001b[32m [repeated 270x across cluster]\u001b[0m\n",
      "\u001b[2m\u001b[36m(ClientAppActor pid=1498132)\u001b[0m Epoch 21/100\u001b[32m [repeated 269x across cluster]\u001b[0m\n"
     ]
    },
    {
     "name": "stderr",
     "output_type": "stream",
     "text": [
      "\u001b[92mINFO \u001b[0m:      aggregate_fit: received 4 results and 0 failures\n",
      "\u001b[92mINFO \u001b[0m:      fit progress: (23, 0.19008952379226685, {'accuracy': tensor(74.2515, device='cuda:0')}, 266.8442966330331)\n",
      "\u001b[92mINFO \u001b[0m:      configure_evaluate: strategy sampled 2 clients (out of 4)\n",
      "\u001b[92mINFO \u001b[0m:      aggregate_evaluate: received 2 results and 0 failures\n",
      "\u001b[92mINFO \u001b[0m:      \n",
      "\u001b[92mINFO \u001b[0m:      [ROUND 24]\n",
      "\u001b[92mINFO \u001b[0m:      configure_fit: strategy sampled 4 clients (out of 4)\n"
     ]
    },
    {
     "name": "stdout",
     "output_type": "stream",
     "text": [
      "Server-side evaluation loss 0.19008952379226685 / accuracy 74.25149536132812\n",
      "\u001b[2m\u001b[36m(ClientAppActor pid=1498132)\u001b[0m \u001b[32m [repeated 294x across cluster]\u001b[0m\n",
      "\u001b[2m\u001b[36m(ClientAppActor pid=1498132)\u001b[0m Epoch 82/100\u001b[32m [repeated 294x across cluster]\u001b[0m\n",
      "\u001b[2m\u001b[36m(ClientAppActor pid=1498133)\u001b[0m \u001b[32m [repeated 257x across cluster]\u001b[0m\n",
      "\u001b[2m\u001b[36m(ClientAppActor pid=1498133)\u001b[0m Epoch 92/100\u001b[32m [repeated 257x across cluster]\u001b[0m\n"
     ]
    },
    {
     "name": "stderr",
     "output_type": "stream",
     "text": [
      "\u001b[92mINFO \u001b[0m:      aggregate_fit: received 4 results and 0 failures\n",
      "\u001b[92mINFO \u001b[0m:      fit progress: (24, 0.1847361922264099, {'accuracy': tensor(76.6467, device='cuda:0')}, 274.7424093710142)\n",
      "\u001b[92mINFO \u001b[0m:      configure_evaluate: strategy sampled 2 clients (out of 4)\n",
      "\u001b[92mINFO \u001b[0m:      aggregate_evaluate: received 2 results and 0 failures\n",
      "\u001b[92mINFO \u001b[0m:      \n",
      "\u001b[92mINFO \u001b[0m:      [ROUND 25]\n",
      "\u001b[92mINFO \u001b[0m:      configure_fit: strategy sampled 4 clients (out of 4)\n"
     ]
    },
    {
     "name": "stdout",
     "output_type": "stream",
     "text": [
      "Server-side evaluation loss 0.1847361922264099 / accuracy 76.6467056274414\n",
      "\u001b[2m\u001b[36m(ClientAppActor pid=1498132)\u001b[0m \u001b[32m [repeated 275x across cluster]\u001b[0m\n",
      "\u001b[2m\u001b[36m(ClientAppActor pid=1498132)\u001b[0m Epoch 59/100\u001b[32m [repeated 275x across cluster]\u001b[0m\n"
     ]
    },
    {
     "name": "stderr",
     "output_type": "stream",
     "text": [
      "\u001b[92mINFO \u001b[0m:      aggregate_fit: received 4 results and 0 failures\n",
      "\u001b[92mINFO \u001b[0m:      fit progress: (25, 0.18500224749247232, {'accuracy': tensor(76.6467, device='cuda:0')}, 282.21362278802553)\n",
      "\u001b[92mINFO \u001b[0m:      configure_evaluate: strategy sampled 2 clients (out of 4)\n",
      "\u001b[92mINFO \u001b[0m:      aggregate_evaluate: received 2 results and 0 failures\n",
      "\u001b[92mINFO \u001b[0m:      \n",
      "\u001b[92mINFO \u001b[0m:      [ROUND 26]\n",
      "\u001b[92mINFO \u001b[0m:      configure_fit: strategy sampled 4 clients (out of 4)\n"
     ]
    },
    {
     "name": "stdout",
     "output_type": "stream",
     "text": [
      "Server-side evaluation loss 0.18500224749247232 / accuracy 76.6467056274414\n",
      "\u001b[2m\u001b[36m(ClientAppActor pid=1498132)\u001b[0m \u001b[32m [repeated 264x across cluster]\u001b[0m\n",
      "\u001b[2m\u001b[36m(ClientAppActor pid=1498132)\u001b[0m Epoch 82/100\u001b[32m [repeated 264x across cluster]\u001b[0m\n",
      "\u001b[2m\u001b[36m(ClientAppActor pid=1498133)\u001b[0m \u001b[32m [repeated 251x across cluster]\u001b[0m\n",
      "\u001b[2m\u001b[36m(ClientAppActor pid=1498133)\u001b[0m Epoch 82/100\u001b[32m [repeated 251x across cluster]\u001b[0m\n"
     ]
    },
    {
     "name": "stderr",
     "output_type": "stream",
     "text": [
      "\u001b[92mINFO \u001b[0m:      aggregate_fit: received 4 results and 0 failures\n",
      "\u001b[92mINFO \u001b[0m:      fit progress: (26, 0.18419510126113892, {'accuracy': tensor(77.2455, device='cuda:0')}, 290.19100273103686)\n",
      "\u001b[92mINFO \u001b[0m:      configure_evaluate: strategy sampled 2 clients (out of 4)\n",
      "\u001b[92mINFO \u001b[0m:      aggregate_evaluate: received 2 results and 0 failures\n",
      "\u001b[92mINFO \u001b[0m:      \n",
      "\u001b[92mINFO \u001b[0m:      [ROUND 27]\n",
      "\u001b[92mINFO \u001b[0m:      configure_fit: strategy sampled 4 clients (out of 4)\n"
     ]
    },
    {
     "name": "stdout",
     "output_type": "stream",
     "text": [
      "Server-side evaluation loss 0.18419510126113892 / accuracy 77.2455062866211\n",
      "\u001b[2m\u001b[36m(ClientAppActor pid=1498132)\u001b[0m \u001b[32m [repeated 284x across cluster]\u001b[0m\n",
      "\u001b[2m\u001b[36m(ClientAppActor pid=1498132)\u001b[0m Epoch 37/100\u001b[32m [repeated 284x across cluster]\u001b[0m\n"
     ]
    },
    {
     "name": "stderr",
     "output_type": "stream",
     "text": [
      "\u001b[92mINFO \u001b[0m:      aggregate_fit: received 4 results and 0 failures\n",
      "\u001b[92mINFO \u001b[0m:      fit progress: (27, 0.18390554189682007, {'accuracy': tensor(76.0479, device='cuda:0')}, 297.06615243898705)\n",
      "\u001b[92mINFO \u001b[0m:      configure_evaluate: strategy sampled 2 clients (out of 4)\n",
      "\u001b[92mINFO \u001b[0m:      aggregate_evaluate: received 2 results and 0 failures\n",
      "\u001b[92mINFO \u001b[0m:      \n",
      "\u001b[92mINFO \u001b[0m:      [ROUND 28]\n",
      "\u001b[92mINFO \u001b[0m:      configure_fit: strategy sampled 4 clients (out of 4)\n"
     ]
    },
    {
     "name": "stdout",
     "output_type": "stream",
     "text": [
      "Server-side evaluation loss 0.18390554189682007 / accuracy 76.04790496826172\n",
      "\u001b[2m\u001b[36m(ClientAppActor pid=1498132)\u001b[0m \u001b[32m [repeated 283x across cluster]\u001b[0m\n",
      "\u001b[2m\u001b[36m(ClientAppActor pid=1498132)\u001b[0m Epoch 72/100\u001b[32m [repeated 283x across cluster]\u001b[0m\n"
     ]
    },
    {
     "name": "stderr",
     "output_type": "stream",
     "text": [
      "\u001b[92mINFO \u001b[0m:      aggregate_fit: received 4 results and 0 failures\n",
      "\u001b[92mINFO \u001b[0m:      fit progress: (28, 0.18308478593826294, {'accuracy': tensor(76.6467, device='cuda:0')}, 303.7542294570012)\n",
      "\u001b[92mINFO \u001b[0m:      configure_evaluate: strategy sampled 2 clients (out of 4)\n",
      "\u001b[92mINFO \u001b[0m:      aggregate_evaluate: received 2 results and 0 failures\n",
      "\u001b[92mINFO \u001b[0m:      \n",
      "\u001b[92mINFO \u001b[0m:      [ROUND 29]\n",
      "\u001b[92mINFO \u001b[0m:      configure_fit: strategy sampled 4 clients (out of 4)\n"
     ]
    },
    {
     "name": "stdout",
     "output_type": "stream",
     "text": [
      "Server-side evaluation loss 0.18308478593826294 / accuracy 76.6467056274414\n",
      "\u001b[2m\u001b[36m(ClientAppActor pid=1498132)\u001b[0m \u001b[32m [repeated 305x across cluster]\u001b[0m\n",
      "\u001b[2m\u001b[36m(ClientAppActor pid=1498132)\u001b[0m Epoch 35/100\u001b[32m [repeated 305x across cluster]\u001b[0m\n",
      "\u001b[2m\u001b[36m(ClientAppActor pid=1498133)\u001b[0m \u001b[32m [repeated 300x across cluster]\u001b[0m\n",
      "\u001b[2m\u001b[36m(ClientAppActor pid=1498133)\u001b[0m Epoch 54/100\u001b[32m [repeated 300x across cluster]\u001b[0m\n"
     ]
    },
    {
     "name": "stderr",
     "output_type": "stream",
     "text": [
      "\u001b[92mINFO \u001b[0m:      aggregate_fit: received 4 results and 0 failures\n",
      "\u001b[92mINFO \u001b[0m:      fit progress: (29, 0.1844878395398458, {'accuracy': tensor(77.2455, device='cuda:0')}, 311.3986795429955)\n",
      "\u001b[92mINFO \u001b[0m:      configure_evaluate: strategy sampled 2 clients (out of 4)\n",
      "\u001b[92mINFO \u001b[0m:      aggregate_evaluate: received 2 results and 0 failures\n",
      "\u001b[92mINFO \u001b[0m:      \n",
      "\u001b[92mINFO \u001b[0m:      [ROUND 30]\n",
      "\u001b[92mINFO \u001b[0m:      configure_fit: strategy sampled 4 clients (out of 4)\n"
     ]
    },
    {
     "name": "stdout",
     "output_type": "stream",
     "text": [
      "Server-side evaluation loss 0.1844878395398458 / accuracy 77.2455062866211\n",
      "\u001b[2m\u001b[36m(ClientAppActor pid=1498132)\u001b[0m \u001b[32m [repeated 242x across cluster]\u001b[0m\n",
      "\u001b[2m\u001b[36m(ClientAppActor pid=1498132)\u001b[0m Epoch 17/100\u001b[32m [repeated 242x across cluster]\u001b[0m\n"
     ]
    },
    {
     "name": "stderr",
     "output_type": "stream",
     "text": [
      "\u001b[92mINFO \u001b[0m:      aggregate_fit: received 4 results and 0 failures\n",
      "\u001b[92mINFO \u001b[0m:      fit progress: (30, 0.18443745374679565, {'accuracy': tensor(76.6467, device='cuda:0')}, 319.02820113598136)\n",
      "\u001b[92mINFO \u001b[0m:      configure_evaluate: strategy sampled 2 clients (out of 4)\n",
      "\u001b[92mINFO \u001b[0m:      aggregate_evaluate: received 2 results and 0 failures\n",
      "\u001b[92mINFO \u001b[0m:      \n",
      "\u001b[92mINFO \u001b[0m:      [ROUND 31]\n",
      "\u001b[92mINFO \u001b[0m:      configure_fit: strategy sampled 4 clients (out of 4)\n"
     ]
    },
    {
     "name": "stdout",
     "output_type": "stream",
     "text": [
      "Server-side evaluation loss 0.18443745374679565 / accuracy 76.6467056274414\n",
      "\u001b[2m\u001b[36m(ClientAppActor pid=1498132)\u001b[0m \u001b[32m [repeated 266x across cluster]\u001b[0m\n",
      "\u001b[2m\u001b[36m(ClientAppActor pid=1498132)\u001b[0m Epoch 36/100\u001b[32m [repeated 266x across cluster]\u001b[0m\n",
      "\u001b[2m\u001b[36m(ClientAppActor pid=1498132)\u001b[0m \u001b[32m [repeated 300x across cluster]\u001b[0m\n",
      "\u001b[2m\u001b[36m(ClientAppActor pid=1498132)\u001b[0m Epoch 95/100\u001b[32m [repeated 300x across cluster]\u001b[0m\n"
     ]
    },
    {
     "name": "stderr",
     "output_type": "stream",
     "text": [
      "\u001b[92mINFO \u001b[0m:      aggregate_fit: received 4 results and 0 failures\n",
      "\u001b[92mINFO \u001b[0m:      fit progress: (31, 0.18419528007507324, {'accuracy': tensor(74.8503, device='cuda:0')}, 326.0103837320348)\n",
      "\u001b[92mINFO \u001b[0m:      configure_evaluate: strategy sampled 2 clients (out of 4)\n",
      "\u001b[92mINFO \u001b[0m:      aggregate_evaluate: received 2 results and 0 failures\n",
      "\u001b[92mINFO \u001b[0m:      \n",
      "\u001b[92mINFO \u001b[0m:      [ROUND 32]\n",
      "\u001b[92mINFO \u001b[0m:      configure_fit: strategy sampled 4 clients (out of 4)\n"
     ]
    },
    {
     "name": "stdout",
     "output_type": "stream",
     "text": [
      "Server-side evaluation loss 0.18419528007507324 / accuracy 74.85029602050781\n",
      "\u001b[2m\u001b[36m(ClientAppActor pid=1498132)\u001b[0m \u001b[32m [repeated 268x across cluster]\u001b[0m\n",
      "\u001b[2m\u001b[36m(ClientAppActor pid=1498132)\u001b[0m Epoch 14/100\u001b[32m [repeated 268x across cluster]\u001b[0m\n"
     ]
    },
    {
     "name": "stderr",
     "output_type": "stream",
     "text": [
      "\u001b[92mINFO \u001b[0m:      aggregate_fit: received 4 results and 0 failures\n",
      "\u001b[92mINFO \u001b[0m:      fit progress: (32, 0.18380371729532877, {'accuracy': tensor(76.6467, device='cuda:0')}, 332.7993686480331)\n",
      "\u001b[92mINFO \u001b[0m:      configure_evaluate: strategy sampled 2 clients (out of 4)\n",
      "\u001b[92mINFO \u001b[0m:      aggregate_evaluate: received 2 results and 0 failures\n",
      "\u001b[92mINFO \u001b[0m:      \n",
      "\u001b[92mINFO \u001b[0m:      [ROUND 33]\n",
      "\u001b[92mINFO \u001b[0m:      configure_fit: strategy sampled 4 clients (out of 4)\n"
     ]
    },
    {
     "name": "stdout",
     "output_type": "stream",
     "text": [
      "Server-side evaluation loss 0.18380371729532877 / accuracy 76.6467056274414\n",
      "\u001b[2m\u001b[36m(ClientAppActor pid=1498132)\u001b[0m \u001b[32m [repeated 305x across cluster]\u001b[0m\n",
      "\u001b[2m\u001b[36m(ClientAppActor pid=1498132)\u001b[0m Epoch 74/100\u001b[32m [repeated 305x across cluster]\u001b[0m\n"
     ]
    },
    {
     "name": "stderr",
     "output_type": "stream",
     "text": [
      "\u001b[92mINFO \u001b[0m:      aggregate_fit: received 4 results and 0 failures\n",
      "\u001b[92mINFO \u001b[0m:      fit progress: (33, 0.18335084120432535, {'accuracy': tensor(75.4491, device='cuda:0')}, 339.48319869302213)\n",
      "\u001b[92mINFO \u001b[0m:      configure_evaluate: strategy sampled 2 clients (out of 4)\n",
      "\u001b[92mINFO \u001b[0m:      aggregate_evaluate: received 2 results and 0 failures\n",
      "\u001b[92mINFO \u001b[0m:      \n",
      "\u001b[92mINFO \u001b[0m:      [ROUND 34]\n",
      "\u001b[92mINFO \u001b[0m:      configure_fit: strategy sampled 4 clients (out of 4)\n"
     ]
    },
    {
     "name": "stdout",
     "output_type": "stream",
     "text": [
      "Server-side evaluation loss 0.18335084120432535 / accuracy 75.44910430908203\n",
      "\u001b[2m\u001b[36m(ClientAppActor pid=1498132)\u001b[0m \u001b[32m [repeated 291x across cluster]\u001b[0m\n",
      "\u001b[2m\u001b[36m(ClientAppActor pid=1498132)\u001b[0m Epoch 15/100\u001b[32m [repeated 291x across cluster]\u001b[0m\n",
      "\u001b[2m\u001b[36m(ClientAppActor pid=1498132)\u001b[0m \u001b[32m [repeated 304x across cluster]\u001b[0m\n",
      "\u001b[2m\u001b[36m(ClientAppActor pid=1498132)\u001b[0m Epoch 71/100\u001b[32m [repeated 304x across cluster]\u001b[0m\n"
     ]
    },
    {
     "name": "stderr",
     "output_type": "stream",
     "text": [
      "\u001b[92mINFO \u001b[0m:      aggregate_fit: received 4 results and 0 failures\n",
      "\u001b[92mINFO \u001b[0m:      fit progress: (34, 0.1823994517326355, {'accuracy': tensor(76.0479, device='cuda:0')}, 346.4531692180317)\n",
      "\u001b[92mINFO \u001b[0m:      configure_evaluate: strategy sampled 2 clients (out of 4)\n",
      "\u001b[92mINFO \u001b[0m:      aggregate_evaluate: received 2 results and 0 failures\n",
      "\u001b[92mINFO \u001b[0m:      \n",
      "\u001b[92mINFO \u001b[0m:      [ROUND 35]\n",
      "\u001b[92mINFO \u001b[0m:      configure_fit: strategy sampled 4 clients (out of 4)\n"
     ]
    },
    {
     "name": "stdout",
     "output_type": "stream",
     "text": [
      "Server-side evaluation loss 0.1823994517326355 / accuracy 76.04790496826172\n",
      "\u001b[2m\u001b[36m(ClientAppActor pid=1498132)\u001b[0m \u001b[32m [repeated 299x across cluster]\u001b[0m\n",
      "\u001b[2m\u001b[36m(ClientAppActor pid=1498132)\u001b[0m Epoch 25/100\u001b[32m [repeated 299x across cluster]\u001b[0m\n"
     ]
    },
    {
     "name": "stderr",
     "output_type": "stream",
     "text": [
      "\u001b[92mINFO \u001b[0m:      aggregate_fit: received 4 results and 0 failures\n",
      "\u001b[92mINFO \u001b[0m:      fit progress: (35, 0.18274521827697754, {'accuracy': tensor(75.4491, device='cuda:0')}, 353.2983769940329)\n",
      "\u001b[92mINFO \u001b[0m:      configure_evaluate: strategy sampled 2 clients (out of 4)\n",
      "\u001b[92mINFO \u001b[0m:      aggregate_evaluate: received 2 results and 0 failures\n",
      "\u001b[92mINFO \u001b[0m:      \n",
      "\u001b[92mINFO \u001b[0m:      [ROUND 36]\n",
      "\u001b[92mINFO \u001b[0m:      configure_fit: strategy sampled 4 clients (out of 4)\n"
     ]
    },
    {
     "name": "stdout",
     "output_type": "stream",
     "text": [
      "Server-side evaluation loss 0.18274521827697754 / accuracy 75.44910430908203\n",
      "\u001b[2m\u001b[36m(ClientAppActor pid=1498132)\u001b[0m \u001b[32m [repeated 280x across cluster]\u001b[0m\n",
      "\u001b[2m\u001b[36m(ClientAppActor pid=1498132)\u001b[0m Epoch 53/100\u001b[32m [repeated 280x across cluster]\u001b[0m\n"
     ]
    },
    {
     "name": "stderr",
     "output_type": "stream",
     "text": [
      "\u001b[92mINFO \u001b[0m:      aggregate_fit: received 4 results and 0 failures\n",
      "\u001b[92mINFO \u001b[0m:      fit progress: (36, 0.18421332041422525, {'accuracy': tensor(76.6467, device='cuda:0')}, 359.71188498300035)\n",
      "\u001b[92mINFO \u001b[0m:      configure_evaluate: strategy sampled 2 clients (out of 4)\n",
      "\u001b[92mINFO \u001b[0m:      aggregate_evaluate: received 2 results and 0 failures\n",
      "\u001b[92mINFO \u001b[0m:      \n",
      "\u001b[92mINFO \u001b[0m:      [ROUND 37]\n",
      "\u001b[92mINFO \u001b[0m:      configure_fit: strategy sampled 4 clients (out of 4)\n"
     ]
    },
    {
     "name": "stdout",
     "output_type": "stream",
     "text": [
      "Server-side evaluation loss 0.18421332041422525 / accuracy 76.6467056274414\n",
      "\u001b[2m\u001b[36m(ClientAppActor pid=1498132)\u001b[0m \u001b[32m [repeated 322x across cluster]\u001b[0m\n",
      "\u001b[2m\u001b[36m(ClientAppActor pid=1498132)\u001b[0m Epoch 20/100\u001b[32m [repeated 322x across cluster]\u001b[0m\n",
      "\u001b[2m\u001b[36m(ClientAppActor pid=1498133)\u001b[0m \u001b[32m [repeated 333x across cluster]\u001b[0m\n",
      "\u001b[2m\u001b[36m(ClientAppActor pid=1498133)\u001b[0m Epoch 64/100\u001b[32m [repeated 333x across cluster]\u001b[0m\n"
     ]
    },
    {
     "name": "stderr",
     "output_type": "stream",
     "text": [
      "\u001b[92mINFO \u001b[0m:      aggregate_fit: received 4 results and 0 failures\n",
      "\u001b[92mINFO \u001b[0m:      fit progress: (37, 0.18276484807332358, {'accuracy': tensor(75.4491, device='cuda:0')}, 366.3305343450047)\n",
      "\u001b[92mINFO \u001b[0m:      configure_evaluate: strategy sampled 2 clients (out of 4)\n",
      "\u001b[92mINFO \u001b[0m:      aggregate_evaluate: received 2 results and 0 failures\n",
      "\u001b[92mINFO \u001b[0m:      \n",
      "\u001b[92mINFO \u001b[0m:      [ROUND 38]\n",
      "\u001b[92mINFO \u001b[0m:      configure_fit: strategy sampled 4 clients (out of 4)\n"
     ]
    },
    {
     "name": "stdout",
     "output_type": "stream",
     "text": [
      "Server-side evaluation loss 0.18276484807332358 / accuracy 75.44910430908203\n",
      "\u001b[2m\u001b[36m(ClientAppActor pid=1498132)\u001b[0m \u001b[32m [repeated 286x across cluster]\u001b[0m\n",
      "\u001b[2m\u001b[36m(ClientAppActor pid=1498132)\u001b[0m Epoch 23/100\u001b[32m [repeated 286x across cluster]\u001b[0m\n"
     ]
    },
    {
     "name": "stderr",
     "output_type": "stream",
     "text": [
      "\u001b[92mINFO \u001b[0m:      aggregate_fit: received 4 results and 0 failures\n",
      "\u001b[92mINFO \u001b[0m:      fit progress: (38, 0.18549625078837076, {'accuracy': tensor(77.2455, device='cuda:0')}, 372.442143694032)\n",
      "\u001b[92mINFO \u001b[0m:      configure_evaluate: strategy sampled 2 clients (out of 4)\n",
      "\u001b[92mINFO \u001b[0m:      aggregate_evaluate: received 2 results and 0 failures\n",
      "\u001b[92mINFO \u001b[0m:      \n",
      "\u001b[92mINFO \u001b[0m:      [ROUND 39]\n",
      "\u001b[92mINFO \u001b[0m:      configure_fit: strategy sampled 4 clients (out of 4)\n"
     ]
    },
    {
     "name": "stdout",
     "output_type": "stream",
     "text": [
      "Server-side evaluation loss 0.18549625078837076 / accuracy 77.2455062866211\n",
      "\u001b[2m\u001b[36m(ClientAppActor pid=1498132)\u001b[0m \u001b[32m [repeated 328x across cluster]\u001b[0m\n",
      "\u001b[2m\u001b[36m(ClientAppActor pid=1498132)\u001b[0m Epoch 88/100\u001b[32m [repeated 328x across cluster]\u001b[0m\n"
     ]
    },
    {
     "name": "stderr",
     "output_type": "stream",
     "text": [
      "\u001b[92mINFO \u001b[0m:      aggregate_fit: received 4 results and 0 failures\n",
      "\u001b[92mINFO \u001b[0m:      fit progress: (39, 0.18455741802851358, {'accuracy': tensor(76.0479, device='cuda:0')}, 378.55816331401)\n",
      "\u001b[92mINFO \u001b[0m:      configure_evaluate: strategy sampled 2 clients (out of 4)\n",
      "\u001b[92mINFO \u001b[0m:      aggregate_evaluate: received 2 results and 0 failures\n",
      "\u001b[92mINFO \u001b[0m:      \n",
      "\u001b[92mINFO \u001b[0m:      [ROUND 40]\n",
      "\u001b[92mINFO \u001b[0m:      configure_fit: strategy sampled 4 clients (out of 4)\n"
     ]
    },
    {
     "name": "stdout",
     "output_type": "stream",
     "text": [
      "Server-side evaluation loss 0.18455741802851358 / accuracy 76.04790496826172\n",
      "\u001b[2m\u001b[36m(ClientAppActor pid=1498132)\u001b[0m \u001b[32m [repeated 342x across cluster]\u001b[0m\n",
      "\u001b[2m\u001b[36m(ClientAppActor pid=1498132)\u001b[0m Epoch 70/100\u001b[32m [repeated 342x across cluster]\u001b[0m\n"
     ]
    },
    {
     "name": "stderr",
     "output_type": "stream",
     "text": [
      "\u001b[92mINFO \u001b[0m:      aggregate_fit: received 4 results and 0 failures\n",
      "\u001b[92mINFO \u001b[0m:      fit progress: (40, 0.18500099579493204, {'accuracy': tensor(76.6467, device='cuda:0')}, 385.19965571002103)\n",
      "\u001b[92mINFO \u001b[0m:      configure_evaluate: strategy sampled 2 clients (out of 4)\n",
      "\u001b[92mINFO \u001b[0m:      aggregate_evaluate: received 2 results and 0 failures\n",
      "\u001b[92mINFO \u001b[0m:      \n",
      "\u001b[92mINFO \u001b[0m:      [SUMMARY]\n",
      "\u001b[92mINFO \u001b[0m:      Run finished 40 rounds in 385.23s\n",
      "\u001b[92mINFO \u001b[0m:      History (loss, distributed):\n",
      "\u001b[92mINFO \u001b[0m:      \t('\\tround 1: 0.1975485852786473\\n'\n",
      "\u001b[92mINFO \u001b[0m:      \t '\\tround 2: 0.22204802433649698\\n'\n",
      "\u001b[92mINFO \u001b[0m:      \t '\\tround 3: 0.2042383054892222\\n'\n",
      "\u001b[92mINFO \u001b[0m:      \t '\\tround 4: 0.1709546446800232\\n'\n",
      "\u001b[92mINFO \u001b[0m:      \t '\\tround 5: 0.17289468220302037\\n'\n",
      "\u001b[92mINFO \u001b[0m:      \t '\\tround 6: 0.17332016570227488\\n'\n",
      "\u001b[92mINFO \u001b[0m:      \t '\\tround 7: 0.17080421958650863\\n'\n",
      "\u001b[92mINFO \u001b[0m:      \t '\\tround 8: 0.16858298437935965\\n'\n",
      "\u001b[92mINFO \u001b[0m:      \t '\\tround 9: 0.16988611221313477\\n'\n",
      "\u001b[92mINFO \u001b[0m:      \t '\\tround 10: 0.17501323563711985\\n'\n",
      "\u001b[92mINFO \u001b[0m:      \t '\\tround 11: 0.19394806027412415\\n'\n",
      "\u001b[92mINFO \u001b[0m:      \t '\\tround 12: 0.1856155296166738\\n'\n",
      "\u001b[92mINFO \u001b[0m:      \t '\\tround 13: 0.17289225260416666\\n'\n",
      "\u001b[92mINFO \u001b[0m:      \t '\\tround 14: 0.19073382019996643\\n'\n",
      "\u001b[92mINFO \u001b[0m:      \t '\\tround 15: 0.19023647904396057\\n'\n",
      "\u001b[92mINFO \u001b[0m:      \t '\\tround 16: 0.18161510427792868\\n'\n",
      "\u001b[92mINFO \u001b[0m:      \t '\\tround 17: 0.1915789246559143\\n'\n",
      "\u001b[92mINFO \u001b[0m:      \t '\\tround 18: 0.17136592524392263\\n'\n",
      "\u001b[92mINFO \u001b[0m:      \t '\\tround 19: 0.1510004997253418\\n'\n",
      "\u001b[92mINFO \u001b[0m:      \t '\\tround 20: 0.16695291655404226\\n'\n",
      "\u001b[92mINFO \u001b[0m:      \t '\\tround 21: 0.16407499143055507\\n'\n",
      "\u001b[92mINFO \u001b[0m:      \t '\\tround 22: 0.16474432604653494\\n'\n",
      "\u001b[92mINFO \u001b[0m:      \t '\\tround 23: 0.15765666961669922\\n'\n",
      "\u001b[92mINFO \u001b[0m:      \t '\\tround 24: 0.17963667710622153\\n'\n",
      "\u001b[92mINFO \u001b[0m:      \t '\\tround 25: 0.1526357020650591\\n'\n",
      "\u001b[92mINFO \u001b[0m:      \t '\\tround 26: 0.17770230770111084\\n'\n",
      "\u001b[92mINFO \u001b[0m:      \t '\\tround 27: 0.15666860342025757\\n'\n",
      "\u001b[92mINFO \u001b[0m:      \t '\\tround 28: 0.18597614765167236\\n'\n",
      "\u001b[92mINFO \u001b[0m:      \t '\\tround 29: 0.1560493963105338\\n'\n",
      "\u001b[92mINFO \u001b[0m:      \t '\\tround 30: 0.1892147958278656\\n'\n",
      "\u001b[92mINFO \u001b[0m:      \t '\\tround 31: 0.1580109851700919\\n'\n",
      "\u001b[92mINFO \u001b[0m:      \t '\\tround 32: 0.19005771478017172\\n'\n",
      "\u001b[92mINFO \u001b[0m:      \t '\\tround 33: 0.1946137249469757\\n'\n",
      "\u001b[92mINFO \u001b[0m:      \t '\\tround 34: 0.18644959727923074\\n'\n",
      "\u001b[92mINFO \u001b[0m:      \t '\\tround 35: 0.18190320332845053\\n'\n",
      "\u001b[92mINFO \u001b[0m:      \t '\\tround 36: 0.16304314988000052\\n'\n",
      "\u001b[92mINFO \u001b[0m:      \t '\\tround 37: 0.16941176993506296\\n'\n",
      "\u001b[92mINFO \u001b[0m:      \t '\\tround 38: 0.16025738205228532\\n'\n",
      "\u001b[92mINFO \u001b[0m:      \t '\\tround 39: 0.1620528953416007\\n'\n",
      "\u001b[92mINFO \u001b[0m:      \t '\\tround 40: 0.1632359368460519\\n')History (loss, centralized):\n",
      "\u001b[92mINFO \u001b[0m:      \t('\\tround 0: 0.23111782471338907\\n'\n",
      "\u001b[92mINFO \u001b[0m:      \t '\\tround 1: 0.23030471801757812\\n'\n",
      "\u001b[92mINFO \u001b[0m:      \t '\\tround 2: 0.22258122762044272\\n'\n",
      "\u001b[92mINFO \u001b[0m:      \t '\\tround 3: 0.21195038159688315\\n'\n",
      "\u001b[92mINFO \u001b[0m:      \t '\\tround 4: 0.20569362243016562\\n'\n",
      "\u001b[92mINFO \u001b[0m:      \t '\\tround 5: 0.20102993647257486\\n'\n",
      "\u001b[92mINFO \u001b[0m:      \t '\\tround 6: 0.20028074582417807\\n'\n",
      "\u001b[92mINFO \u001b[0m:      \t '\\tround 7: 0.20113678773244223\\n'\n",
      "\u001b[92mINFO \u001b[0m:      \t '\\tround 8: 0.1969719926516215\\n'\n",
      "\u001b[92mINFO \u001b[0m:      \t '\\tround 9: 0.195194939772288\\n'\n",
      "\u001b[92mINFO \u001b[0m:      \t '\\tround 10: 0.1937244733174642\\n'\n",
      "\u001b[92mINFO \u001b[0m:      \t '\\tround 11: 0.19151494900385538\\n'\n",
      "\u001b[92mINFO \u001b[0m:      \t '\\tround 12: 0.19050858418146768\\n'\n",
      "\u001b[92mINFO \u001b[0m:      \t '\\tround 13: 0.1905296246210734\\n'\n",
      "\u001b[92mINFO \u001b[0m:      \t '\\tround 14: 0.19106843074162802\\n'\n",
      "\u001b[92mINFO \u001b[0m:      \t '\\tround 15: 0.19050631920496622\\n'\n",
      "\u001b[92mINFO \u001b[0m:      \t '\\tround 16: 0.18813570340474448\\n'\n",
      "\u001b[92mINFO \u001b[0m:      \t '\\tround 17: 0.18939046065012613\\n'\n",
      "\u001b[92mINFO \u001b[0m:      \t '\\tround 18: 0.18906056880950928\\n'\n",
      "\u001b[92mINFO \u001b[0m:      \t '\\tround 19: 0.18695072333017984\\n'\n",
      "\u001b[92mINFO \u001b[0m:      \t '\\tround 20: 0.18734633922576904\\n'\n",
      "\u001b[92mINFO \u001b[0m:      \t '\\tround 21: 0.18657100200653076\\n'\n",
      "\u001b[92mINFO \u001b[0m:      \t '\\tround 22: 0.18667248884836832\\n'\n",
      "\u001b[92mINFO \u001b[0m:      \t '\\tround 23: 0.19008952379226685\\n'\n",
      "\u001b[92mINFO \u001b[0m:      \t '\\tround 24: 0.1847361922264099\\n'\n",
      "\u001b[92mINFO \u001b[0m:      \t '\\tround 25: 0.18500224749247232\\n'\n",
      "\u001b[92mINFO \u001b[0m:      \t '\\tround 26: 0.18419510126113892\\n'\n",
      "\u001b[92mINFO \u001b[0m:      \t '\\tround 27: 0.18390554189682007\\n'\n",
      "\u001b[92mINFO \u001b[0m:      \t '\\tround 28: 0.18308478593826294\\n'\n",
      "\u001b[92mINFO \u001b[0m:      \t '\\tround 29: 0.1844878395398458\\n'\n",
      "\u001b[92mINFO \u001b[0m:      \t '\\tround 30: 0.18443745374679565\\n'\n",
      "\u001b[92mINFO \u001b[0m:      \t '\\tround 31: 0.18419528007507324\\n'\n",
      "\u001b[92mINFO \u001b[0m:      \t '\\tround 32: 0.18380371729532877\\n'\n",
      "\u001b[92mINFO \u001b[0m:      \t '\\tround 33: 0.18335084120432535\\n'\n",
      "\u001b[92mINFO \u001b[0m:      \t '\\tround 34: 0.1823994517326355\\n'\n",
      "\u001b[92mINFO \u001b[0m:      \t '\\tround 35: 0.18274521827697754\\n'\n",
      "\u001b[92mINFO \u001b[0m:      \t '\\tround 36: 0.18421332041422525\\n'\n",
      "\u001b[92mINFO \u001b[0m:      \t '\\tround 37: 0.18276484807332358\\n'\n",
      "\u001b[92mINFO \u001b[0m:      \t '\\tround 38: 0.18549625078837076\\n'\n",
      "\u001b[92mINFO \u001b[0m:      \t '\\tround 39: 0.18455741802851358\\n'\n",
      "\u001b[92mINFO \u001b[0m:      \t '\\tround 40: 0.18500099579493204\\n')History (metrics, distributed, evaluate):\n",
      "\u001b[92mINFO \u001b[0m:      \t{'accuracy': [(1, 58.890501839774),\n",
      "\u001b[92mINFO \u001b[0m:      \t              (2, 70.60686492919922),\n",
      "\u001b[92mINFO \u001b[0m:      \t              (3, 69.66643524169922),\n",
      "\u001b[92mINFO \u001b[0m:      \t              (4, 70.80214255196708),\n",
      "\u001b[92mINFO \u001b[0m:      \t              (5, 67.3931405203683),\n",
      "\u001b[92mINFO \u001b[0m:      \t              (6, 69.5341796875),\n",
      "\u001b[92mINFO \u001b[0m:      \t              (7, 72.46005031040737),\n",
      "\u001b[92mINFO \u001b[0m:      \t              (8, 73.27599770682198),\n",
      "\u001b[92mINFO \u001b[0m:      \t              (9, 73.99982670375279),\n",
      "\u001b[92mINFO \u001b[0m:      \t              (10, 70.57101331438336),\n",
      "\u001b[92mINFO \u001b[0m:      \t              (11, 72.0440788269043),\n",
      "\u001b[92mINFO \u001b[0m:      \t              (12, 71.44881820678711),\n",
      "\u001b[92mINFO \u001b[0m:      \t              (13, 75.78113174438477),\n",
      "\u001b[92mINFO \u001b[0m:      \t              (14, 71.77021789550781),\n",
      "\u001b[92mINFO \u001b[0m:      \t              (15, 77.02095794677734),\n",
      "\u001b[92mINFO \u001b[0m:      \t              (16, 72.04053115844727),\n",
      "\u001b[92mINFO \u001b[0m:      \t              (17, 72.14004135131836),\n",
      "\u001b[92mINFO \u001b[0m:      \t              (18, 71.1006578717913),\n",
      "\u001b[92mINFO \u001b[0m:      \t              (19, 73.55338069370815),\n",
      "\u001b[92mINFO \u001b[0m:      \t              (20, 71.89839172363281),\n",
      "\u001b[92mINFO \u001b[0m:      \t              (21, 72.72256905691964),\n",
      "\u001b[92mINFO \u001b[0m:      \t              (22, 71.28686959402901),\n",
      "\u001b[92mINFO \u001b[0m:      \t              (23, 74.10415322440011),\n",
      "\u001b[92mINFO \u001b[0m:      \t              (24, 74.86181259155273),\n",
      "\u001b[92mINFO \u001b[0m:      \t              (25, 75.06519099644252),\n",
      "\u001b[92mINFO \u001b[0m:      \t              (26, 74.90403747558594),\n",
      "\u001b[92mINFO \u001b[0m:      \t              (27, 72.45049394880023),\n",
      "\u001b[92mINFO \u001b[0m:      \t              (28, 73.24950790405273),\n",
      "\u001b[92mINFO \u001b[0m:      \t              (29, 75.85450090680804),\n",
      "\u001b[92mINFO \u001b[0m:      \t              (30, 72.36193466186523),\n",
      "\u001b[92mINFO \u001b[0m:      \t              (31, 73.00525229317802),\n",
      "\u001b[92mINFO \u001b[0m:      \t              (32, 72.3126220703125),\n",
      "\u001b[92mINFO \u001b[0m:      \t              (33, 74.71388626098633),\n",
      "\u001b[92mINFO \u001b[0m:      \t              (34, 72.60848236083984),\n",
      "\u001b[92mINFO \u001b[0m:      \t              (35, 74.71388626098633),\n",
      "\u001b[92mINFO \u001b[0m:      \t              (36, 73.174314226423),\n",
      "\u001b[92mINFO \u001b[0m:      \t              (37, 73.0039302280971),\n",
      "\u001b[92mINFO \u001b[0m:      \t              (38, 77.15707288469586),\n",
      "\u001b[92mINFO \u001b[0m:      \t              (39, 74.21114785330636),\n",
      "\u001b[92mINFO \u001b[0m:      \t              (40, 76.36775861467633)]}History (metrics, centralized):\n",
      "\u001b[92mINFO \u001b[0m:      \t{'accuracy': [(0, tensor(50.8982, device='cuda:0')),\n",
      "\u001b[92mINFO \u001b[0m:      \t              (1, tensor(60.4790, device='cuda:0')),\n",
      "\u001b[92mINFO \u001b[0m:      \t              (2, tensor(73.6527, device='cuda:0')),\n",
      "\u001b[92mINFO \u001b[0m:      \t              (3, tensor(73.6527, device='cuda:0')),\n",
      "\u001b[92mINFO \u001b[0m:      \t              (4, tensor(73.6527, device='cuda:0')),\n",
      "\u001b[92mINFO \u001b[0m:      \t              (5, tensor(74.8503, device='cuda:0')),\n",
      "\u001b[92mINFO \u001b[0m:      \t              (6, tensor(74.8503, device='cuda:0')),\n",
      "\u001b[92mINFO \u001b[0m:      \t              (7, tensor(74.2515, device='cuda:0')),\n",
      "\u001b[92mINFO \u001b[0m:      \t              (8, tensor(76.0479, device='cuda:0')),\n",
      "\u001b[92mINFO \u001b[0m:      \t              (9, tensor(76.0479, device='cuda:0')),\n",
      "\u001b[92mINFO \u001b[0m:      \t              (10, tensor(75.4491, device='cuda:0')),\n",
      "\u001b[92mINFO \u001b[0m:      \t              (11, tensor(75.4491, device='cuda:0')),\n",
      "\u001b[92mINFO \u001b[0m:      \t              (12, tensor(76.0479, device='cuda:0')),\n",
      "\u001b[92mINFO \u001b[0m:      \t              (13, tensor(76.0479, device='cuda:0')),\n",
      "\u001b[92mINFO \u001b[0m:      \t              (14, tensor(76.0479, device='cuda:0')),\n",
      "\u001b[92mINFO \u001b[0m:      \t              (15, tensor(76.0479, device='cuda:0')),\n",
      "\u001b[92mINFO \u001b[0m:      \t              (16, tensor(76.0479, device='cuda:0')),\n",
      "\u001b[92mINFO \u001b[0m:      \t              (17, tensor(76.0479, device='cuda:0')),\n",
      "\u001b[92mINFO \u001b[0m:      \t              (18, tensor(77.2455, device='cuda:0')),\n",
      "\u001b[92mINFO \u001b[0m:      \t              (19, tensor(76.0479, device='cuda:0')),\n",
      "\u001b[92mINFO \u001b[0m:      \t              (20, tensor(76.0479, device='cuda:0')),\n",
      "\u001b[92mINFO \u001b[0m:      \t              (21, tensor(76.0479, device='cuda:0')),\n",
      "\u001b[92mINFO \u001b[0m:      \t              (22, tensor(76.6467, device='cuda:0')),\n",
      "\u001b[92mINFO \u001b[0m:      \t              (23, tensor(74.2515, device='cuda:0')),\n",
      "\u001b[92mINFO \u001b[0m:      \t              (24, tensor(76.6467, device='cuda:0')),\n",
      "\u001b[92mINFO \u001b[0m:      \t              (25, tensor(76.6467, device='cuda:0')),\n",
      "\u001b[92mINFO \u001b[0m:      \t              (26, tensor(77.2455, device='cuda:0')),\n",
      "\u001b[92mINFO \u001b[0m:      \t              (27, tensor(76.0479, device='cuda:0')),\n",
      "\u001b[92mINFO \u001b[0m:      \t              (28, tensor(76.6467, device='cuda:0')),\n",
      "\u001b[92mINFO \u001b[0m:      \t              (29, tensor(77.2455, device='cuda:0')),\n",
      "\u001b[92mINFO \u001b[0m:      \t              (30, tensor(76.6467, device='cuda:0')),\n",
      "\u001b[92mINFO \u001b[0m:      \t              (31, tensor(74.8503, device='cuda:0')),\n",
      "\u001b[92mINFO \u001b[0m:      \t              (32, tensor(76.6467, device='cuda:0')),\n",
      "\u001b[92mINFO \u001b[0m:      \t              (33, tensor(75.4491, device='cuda:0')),\n",
      "\u001b[92mINFO \u001b[0m:      \t              (34, tensor(76.0479, device='cuda:0')),\n",
      "\u001b[92mINFO \u001b[0m:      \t              (35, tensor(75.4491, device='cuda:0')),\n",
      "\u001b[92mINFO \u001b[0m:      \t              (36, tensor(76.6467, device='cuda:0')),\n",
      "\u001b[92mINFO \u001b[0m:      \t              (37, tensor(75.4491, device='cuda:0')),\n",
      "\u001b[92mINFO \u001b[0m:      \t              (38, tensor(77.2455, device='cuda:0')),\n",
      "\u001b[92mINFO \u001b[0m:      \t              (39, tensor(76.0479, device='cuda:0')),\n",
      "\u001b[92mINFO \u001b[0m:      \t              (40, tensor(76.6467, device='cuda:0'))]}\n",
      "\u001b[92mINFO \u001b[0m:      \n"
     ]
    },
    {
     "name": "stdout",
     "output_type": "stream",
     "text": [
      "Server-side evaluation loss 0.18500099579493204 / accuracy 76.6467056274414\n"
     ]
    }
   ],
   "source": [
    "\n",
    "# client will be allocated 1x CPU and 0x GPUs\n",
    "if device.type == 'cuda':\n",
    "    # here we are assigning an entire GPU for each client.\n",
    "    client_resources = {\"num_cpus\": 1, \"num_gpus\": 1.0}\n",
    "    # Refer to our documentation for more details about Flower Simulations\n",
    "    # and how to setup these `client_resources`.\n",
    "    \n",
    "# The `evaluate` function will be called by Flower after every round\n",
    "fl_acc = []\n",
    "def evaluate(server_round,parameters,config,):\n",
    "    net = SimpleCNN().to(device)\n",
    "    testloader = test_loaders[0]\n",
    "    set_parameters(net, parameters)  # Update model with the latest parameters\n",
    "    loss, accuracy = test(net, testloader, configuration)\n",
    "    print(f\"Server-side evaluation loss {loss} / accuracy {accuracy}\")\n",
    "    fl_acc.append(accuracy)\n",
    "    metrics = {'FL loss': loss,\n",
    "               \"FL accuracy\": accuracy}\n",
    "    wandb.log(metrics)\n",
    "    return loss, {\"accuracy\": accuracy}\n",
    "\n",
    "def weighted_average(metrics):\n",
    "    # Multiply accuracy of each client by number of examples used\n",
    "    accuracies = [num_examples * m[\"accuracy\"] for num_examples, m in metrics]\n",
    "    examples = [num_examples for num_examples, _ in metrics]\n",
    "\n",
    "    # Aggregate and return custom metric (weighted average)\n",
    "    return {\"accuracy\": sum(accuracies) / sum(examples)}\n",
    "params = get_parameters(SimpleCNN())\n",
    "strategy = fl.server.strategy.FedAvg(\n",
    "    fraction_fit=1,\n",
    "    fraction_evaluate=0.5,\n",
    "    min_fit_clients=2,\n",
    "    min_evaluate_clients=1,\n",
    "    min_available_clients=1,\n",
    "    evaluate_fn=evaluate,\n",
    "    initial_parameters= ndarrays_to_parameters(params),\n",
    "    evaluate_metrics_aggregation_fn=weighted_average # <-- pass the metric aggregation function\n",
    ")\n",
    "# Start simulation\n",
    "history = fl.simulation.start_simulation(\n",
    "    client_fn=client_fn,\n",
    "    num_clients=4,\n",
    "    config=fl.server.ServerConfig(num_rounds=configuration['num_rounds_FL']),\n",
    "    strategy=strategy,\n",
    "    client_resources=client_resources,\n",
    ")"
   ]
  },
  {
   "cell_type": "code",
   "execution_count": 15,
   "metadata": {},
   "outputs": [
    {
     "data": {
      "text/plain": [
       "[<matplotlib.lines.Line2D at 0x7f47966a6ef0>]"
      ]
     },
     "execution_count": 15,
     "metadata": {},
     "output_type": "execute_result"
    },
    {
     "data": {
      "image/png": "[encoded data removed]",
      "text/plain": [
       "<Figure size 640x480 with 1 Axes>"
      ]
     },
     "metadata": {},
     "output_type": "display_data"
    }
   ],
   "source": [
    "fl_acc\n",
    "f = []\n",
    "for i in fl_acc:\n",
    "    f.append(float(i))\n",
    "plt.plot(f)"
   ]
  },
  {
   "cell_type": "markdown",
   "metadata": {},
   "source": [
    "# client will be allocated 1x CPU and 0x GPUs\n",
    "if device.type == 'cuda':\n",
    "    # here we are assigning an entire GPU for each client.\n",
    "    client_resources = {\"num_cpus\": 1, \"num_gpus\": 1.0}\n",
    "    # Refer to our documentation for more details about Flower Simulations\n",
    "    # and how to setup these `client_resources`.\n",
    "def weighted_average(metrics) -> Metrics:\n",
    "    # Multiply accuracy of each client by number of examples used\n",
    "    accuracies = [num_examples * m[\"accuracy\"] for num_examples, m in metrics]\n",
    "    examples = [num_examples for num_examples, _ in metrics]\n",
    "\n",
    "    # Aggregate and return custom metric (weighted average)\n",
    "    return {\"accuracy\": sum(accuracies) / sum(examples)}\n",
    "# Create FedAvg strategy\n",
    "strategy = fl.server.strategy.FedAvg(\n",
    "    fraction_fit=1.0,\n",
    "    fraction_evaluate=0.5,\n",
    "    min_fit_clients=2,\n",
    "    min_evaluate_clients=2,\n",
    "    min_available_clients=2,\n",
    "    evaluate_metrics_aggregation_fn=weighted_average,  # <-- pass the metric aggregation function\n",
    ")\n",
    "\n",
    "# Start simulation\n",
    "fl.simulation.start_simulation(\n",
    "    client_fn=client_fn,\n",
    "    num_clients=2,\n",
    "    config=fl.server.ServerConfig(num_rounds=50),\n",
    "    strategy=strategy,\n",
    "    # client_resources=client_resources,\n",
    ")"
   ]
  },
  {
   "cell_type": "markdown",
   "metadata": {},
   "source": [
    "# client will be allocated 1x CPU and 0x GPUs\n",
    "if device.type == 'cuda':\n",
    "    # here we are assigning an entire GPU for each client.\n",
    "    client_resources = {\"num_cpus\": 1, \"num_gpus\": 1.0}\n",
    "    # Refer to our documentation for more details about Flower Simulations\n",
    "    # and how to setup these `client_resources`.\n",
    "\n",
    "fl.simulation.start_simulation(\n",
    "    client_fn=client_fn,\n",
    "    num_clients=2,\n",
    "    config=fl.server.ServerConfig(num_rounds=5),\n",
    "    strategy=fl.server.strategy.FedAvg(),\n",
    "    client_resources=client_resources\n",
    ")"
   ]
  },
  {
   "cell_type": "code",
   "execution_count": null,
   "metadata": {},
   "outputs": [],
   "source": []
  }
 ],
 "metadata": {
  "kernelspec": {
   "display_name": "Python 3 (ipykernel)",
   "language": "python",
   "name": "python3"
  },
  "language_info": {
   "codemirror_mode": {
    "name": "ipython",
    "version": 3
   },
   "file_extension": ".py",
   "mimetype": "text/x-python",
   "name": "python",
   "nbconvert_exporter": "python",
   "pygments_lexer": "ipython3",
   "version": "3.10.0"
  }
 },
 "nbformat": 4,
 "nbformat_minor": 2
}
