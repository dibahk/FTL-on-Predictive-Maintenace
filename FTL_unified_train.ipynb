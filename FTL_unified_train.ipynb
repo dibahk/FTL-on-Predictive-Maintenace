{
 "cells": [
  {
   "cell_type": "code",
   "execution_count": 1,
   "metadata": {},
   "outputs": [
    {
     "name": "stdout",
     "output_type": "stream",
     "text": [
      "Using cuda.\n"
     ]
    }
   ],
   "source": [
    "%matplotlib inline\n",
    "import matplotlib.pyplot as plt\n",
    "import torchvision\n",
    "from torch.utils.data import TensorDataset, random_split, DataLoader\n",
    "import torch.nn as nn\n",
    "import time\n",
    "import wandb\n",
    "from sklearn.metrics import accuracy_score\n",
    "from imblearn.over_sampling import SMOTE\n",
    "import torch\n",
    "from datetime import datetime\n",
    "from collections import OrderedDict\n",
    "from sklearn.decomposition import PCA\n",
    "import flwr as fl\n",
    "import random\n",
    "from flwr.common import Metrics \n",
    "from time import gmtime, strftime\n",
    "from flwr.server.strategy import FedAvg, FedAdagrad, FedProx\n",
    "from flwr.common import ndarrays_to_parameters, NDArrays, Scalar, Context\n",
    "\n",
    "now = datetime.now() # current date and time\n",
    "date_time = now.strftime(\"%d-%m-%Y_%H:%M:%S\")\n",
    "device = torch.device('cuda' if torch.cuda.is_available() else 'cpu')\n",
    "print(f'Using {device}.')"
   ]
  },
  {
   "cell_type": "code",
   "execution_count": 2,
   "metadata": {},
   "outputs": [
    {
     "name": "stderr",
     "output_type": "stream",
     "text": [
      "\u001b[34m\u001b[1mwandb\u001b[0m: Currently logged in as: \u001b[33md-hadjikazemi\u001b[0m (\u001b[33md-hadjikazemi-queen-mary-university-of-london\u001b[0m). Use \u001b[1m`wandb login --relogin`\u001b[0m to force relogin\n",
      "/home/diba/miniconda3/envs/FTL/lib/python3.10/site-packages/wandb/sdk/lib/ipython.py:77: DeprecationWarning: Importing display from IPython.core.display is deprecated since IPython 7.14, please import from IPython display\n",
      "  from IPython.core.display import HTML, display  # type: ignore\n"
     ]
    },
    {
     "data": {
      "text/html": [
       "wandb version 0.17.7 is available!  To upgrade, please run:\n",
       " $ pip install wandb --upgrade"
      ],
      "text/plain": [
       "<IPython.core.display.HTML object>"
      ]
     },
     "metadata": {},
     "output_type": "display_data"
    },
    {
     "data": {
      "text/html": [
       "Tracking run with wandb version 0.17.4"
      ],
      "text/plain": [
       "<IPython.core.display.HTML object>"
      ]
     },
     "metadata": {},
     "output_type": "display_data"
    },
    {
     "data": {
      "text/html": [
       "Run data is saved locally in <code>/home/diba/wandb/run-20240818_204259-itfaokid</code>"
      ],
      "text/plain": [
       "<IPython.core.display.HTML object>"
      ]
     },
     "metadata": {},
     "output_type": "display_data"
    },
    {
     "data": {
      "text/html": [
       "Syncing run <strong><a href='https://wandb.ai/d-hadjikazemi-queen-mary-university-of-london/FTL%20unified/runs/itfaokid' target=\"_blank\">centralized training_18-08-2024_20:42:58</a></strong> to <a href='https://wandb.ai/d-hadjikazemi-queen-mary-university-of-london/FTL%20unified' target=\"_blank\">Weights & Biases</a> (<a href='https://wandb.me/run' target=\"_blank\">docs</a>)<br/>"
      ],
      "text/plain": [
       "<IPython.core.display.HTML object>"
      ]
     },
     "metadata": {},
     "output_type": "display_data"
    },
    {
     "data": {
      "text/html": [
       " View project at <a href='https://wandb.ai/d-hadjikazemi-queen-mary-university-of-london/FTL%20unified' target=\"_blank\">https://wandb.ai/d-hadjikazemi-queen-mary-university-of-london/FTL%20unified</a>"
      ],
      "text/plain": [
       "<IPython.core.display.HTML object>"
      ]
     },
     "metadata": {},
     "output_type": "display_data"
    },
    {
     "data": {
      "text/html": [
       " View run at <a href='https://wandb.ai/d-hadjikazemi-queen-mary-university-of-london/FTL%20unified/runs/itfaokid' target=\"_blank\">https://wandb.ai/d-hadjikazemi-queen-mary-university-of-london/FTL%20unified/runs/itfaokid</a>"
      ],
      "text/plain": [
       "<IPython.core.display.HTML object>"
      ]
     },
     "metadata": {},
     "output_type": "display_data"
    }
   ],
   "source": [
    "wandb.init(\n",
    "    # set the wandb project where this run will be logged\n",
    "    project=\"FTL unified\",\n",
    "    name= \"centralized training_{}\".format(date_time),\n",
    "    # track hyperparameters and run metadata\n",
    "    config={\n",
    "    \"learning_rate\": 0.001,\n",
    "    \"architecture\": \"CNN\",\n",
    "    \"epochs\": 100,\n",
    "    \"batch_size\": 64,\n",
    "    \"decay\":0,\n",
    "    'dropout': 0.01,\n",
    "    \"learning_rate_FL\": 0.0001,\n",
    "    \"batch_size_FL\": 64,\n",
    "    \"decay_FL\": 1e-5,\n",
    "    'num_rounds_FL': 50, \n",
    "    'epochs_FL': 100,\n",
    "    'dropout_FL': 0.001\n",
    "    }\n",
    ")\n",
    "\n",
    "configuration  = dict(wandb.config)\n",
    "\n",
    "def data_loading_AZURE(data_paths, label_paths, batch_size, train_ratio=0.8, val_ratio=0.05, transfer_ratio= 0.4):\n",
    "    trainloader = []\n",
    "    valloader = []\n",
    "    traindata_list = []\n",
    "    trainlabel_list = []\n",
    "    valdata_list = []\n",
    "    vallabel_list = []\n",
    "    testdata_list = []\n",
    "    testlabels_list = []\n",
    "    for i in range(len(data_paths)):\n",
    "        # importing from paths\n",
    "        data = torch.load(data_paths[i])\n",
    "        labels = torch.load(label_paths[i])\n",
    "        data = nn.functional.normalize(data, dim=1)\n",
    "        # reshaping the dataset so  the channels will be the second dimension.\n",
    "        data = data.permute(0, 2, 1)\n",
    "        n_samples, n_channels, n_features = data.shape\n",
    "        X_reshaped = data.reshape(n_samples, -1) \n",
    "        # Apply SMOTE\n",
    "        smote = SMOTE(sampling_strategy='minority')\n",
    "        data_resampled, labels_resampled = smote.fit_resample(X_reshaped, labels)\n",
    "        # Reshape X_resampled back to 3D\n",
    "        data_resampled = data_resampled.reshape(-1, n_channels, n_features)\n",
    "        data_resampled = torch.tensor(data_resampled)\n",
    "        labels_resampled = torch.tensor(labels_resampled)\n",
    "        dataset = TensorDataset(data_resampled, labels_resampled)\n",
    "        test_ratio = 1 - (train_ratio + val_ratio)\n",
    "        print(test_ratio)\n",
    "        test_size = int(test_ratio * len(dataset))\n",
    "        print(test_size)\n",
    "        transfer_size = int((len(dataset) - test_size)*transfer_ratio)\n",
    "        train_size_t = int(train_ratio * transfer_size)\n",
    "        val_size_t = transfer_size - train_size_t\n",
    "        centralized_size = len(dataset) - (transfer_size + test_size)\n",
    "        train_size = int(centralized_size * train_ratio)\n",
    "        val_size = centralized_size - train_size\n",
    "        print(f\"client {i}\")\n",
    "        print(f\"train size = {train_size}\")\n",
    "        print(f\"validation size = {val_size}\")\n",
    "        print(f\"test set = {test_size}\")\n",
    "        print(f\"train transfer size = {train_size_t}\")\n",
    "        print(f\"validation transfer size = {val_size_t}\")\n",
    "        train_dataset, val_dataset, test_dataset, train_dataset_transfer, val_dataset_transfer = random_split(dataset, [train_size, val_size, test_size, train_size_t, val_size_t])\n",
    "\n",
    "        trainloader.append(DataLoader(train_dataset, batch_size=batch_size, shuffle=True))\n",
    "        valloader.append(DataLoader(val_dataset, batch_size=batch_size, shuffle=True))\n",
    "\n",
    "        traindata_list.append(train_dataset_transfer.dataset.tensors[0][train_dataset_transfer.indices])\n",
    "        trainlabel_list.append(train_dataset_transfer.dataset.tensors[1][train_dataset_transfer.indices])\n",
    "        valdata_list.append(val_dataset_transfer.dataset.tensors[0][val_dataset_transfer.indices])\n",
    "        vallabel_list.append(val_dataset_transfer.dataset.tensors[1][val_dataset_transfer.indices])\n",
    "        testdata_list.append(test_dataset.dataset.tensors[0][test_dataset.indices])\n",
    "        testlabels_list.append(test_dataset.dataset.tensors[1][test_dataset.indices])\n",
    "\n",
    "    traindata = torch.cat(traindata_list, dim=0)\n",
    "    trainlabels = torch.cat(trainlabel_list, dim=0)\n",
    "    valdata = torch.cat(valdata_list, dim=0)\n",
    "    vallabels = torch.cat(vallabel_list, dim=0)\n",
    "    testdata = torch.cat(testdata_list, dim=0)\n",
    "    testlabels = torch.cat(testlabels_list, dim=0)\n",
    "    \n",
    "    # Create a DataLoader for the combined test data\n",
    "    trainloader_transfer = DataLoader(TensorDataset(traindata, trainlabels), batch_size=batch_size, shuffle=False)\n",
    "    valloader_transfer = DataLoader(TensorDataset(valdata, vallabels), batch_size=batch_size, shuffle=False)\n",
    "    testloader = DataLoader(TensorDataset(testdata, testlabels), batch_size=batch_size, shuffle=False)\n",
    "    \n",
    "    return trainloader, valloader, testloader, trainloader_transfer, valloader_transfer\n",
    "\n",
    "def data_loading_NASA(data_path, label_path, batch_size, train_ratio=0.8, val_ratio = 0.5):\n",
    "    data = torch.load(data_path)\n",
    "    labels = torch.load(label_path)\n",
    "    data = nn.functional.normalize(data, dim=1)\n",
    "    # reshaping the dataset so  the channels will be the second dimension.\n",
    "    data = data.permute(0, 2, 1)\n",
    "    print(data.size())\n",
    "\n",
    "    def pca_reduction(data, n_components=4):\n",
    "        data_reshaped = data.reshape(-1, data.shape[1])\n",
    "\n",
    "        # Apply PCA\n",
    "        pca = PCA(n_components=n_components)\n",
    "        \n",
    "        data_reduced = pca.fit_transform(data_reshaped)\n",
    "\n",
    "        # Reshape back to (samples, n_components, time_steps)\n",
    "        data_reduced = data_reduced.reshape(data.shape[0], n_components, data.shape[2])\n",
    "\n",
    "        return data_reduced\n",
    "    print(data.dtype)\n",
    "    data = pca_reduction(data, n_components=4)\n",
    "    data =(torch.from_numpy(data)).float()\n",
    "    n_samples, n_channels, n_features = data.shape\n",
    "    X_reshaped = data.reshape(n_samples, -1) \n",
    "    \n",
    "    n_samples, n_channels, n_features = data.shape\n",
    "    X_reshaped = data.reshape(n_samples, -1) \n",
    "    \n",
    "    # Apply SMOTE\n",
    "    smote = SMOTE(sampling_strategy='minority')\n",
    "    data_resampled, labels_resampled = smote.fit_resample(X_reshaped, labels)\n",
    "    print((labels_resampled==1).sum())\n",
    "    # Reshape X_resampled back to 3D\n",
    "    data_resampled = data_resampled.reshape(-1, n_channels, n_features)\n",
    "    print(data_resampled.shape)\n",
    "    data_resampled = torch.tensor(data_resampled)\n",
    "    labels_resampled = torch.tensor(labels_resampled)\n",
    "    dataset = TensorDataset(data_resampled, labels_resampled)\n",
    "    train_size = int(train_ratio * len(dataset))\n",
    "    test_size = len(dataset) - train_size\n",
    "    val_size = int(val_ratio * test_size)\n",
    "    test_size = test_size - val_size\n",
    "    train_dataset, val_dataset, test_dataset = random_split(dataset, [train_size, val_size, test_size])\n",
    "    return DataLoader(train_dataset, batch_size=batch_size, shuffle=True), DataLoader(val_dataset, batch_size=batch_size, shuffle=True), DataLoader(test_dataset, batch_size=batch_size, shuffle=False)\n"
   ]
  },
  {
   "cell_type": "code",
   "execution_count": 3,
   "metadata": {},
   "outputs": [],
   "source": [
    "# Define the CNN architecture\n",
    "class Neural_Network(nn.Module):\n",
    "    def __init__(self):\n",
    "        super(Neural_Network, self).__init__()\n",
    "        self.conv1 = nn.Conv1d(in_channels=4, out_channels=8, kernel_size=5)\n",
    "        self.bn1 = nn.BatchNorm1d(8)\n",
    "        self.conv2 = nn.Conv1d(in_channels=8, out_channels=8, kernel_size=5)\n",
    "        self.bn2 = nn.BatchNorm1d(8)\n",
    "        self.pool = nn.MaxPool1d(kernel_size=2, padding=0, stride=1)\n",
    "        # the size of the out channels x number  of nodes \n",
    "        self.fc1 = nn.Linear(328, 200)\n",
    "        self.fc2 = nn.Linear(200, 2)\n",
    "        self.flatten = nn.Flatten()\n",
    "        self.relu = nn.ReLU()\n",
    "        self.dropout = nn.Dropout(configuration['dropout'])\n",
    "        self.sigmoid = nn.Sigmoid()\n",
    "\n",
    "    def forward(self, x):\n",
    "        x = self.relu(self.bn1(self.conv1(x)))\n",
    "        x = self.relu(self.bn2(self.conv2(x)))\n",
    "        x = self.dropout(x)\n",
    "        x = self.pool(x)\n",
    "        x = self.flatten(x)\n",
    "        x = self.relu(self.fc1(x))\n",
    "        x - self.dropout(x)\n",
    "        x = self.sigmoid(self.fc2(x))\n",
    "        return x"
   ]
  },
  {
   "cell_type": "code",
   "execution_count": 4,
   "metadata": {},
   "outputs": [],
   "source": [
    "def correct(logits, y):\n",
    "    y_hat = logits.argmax(axis=1) # Finds the column with the highest value for each row of `logits`.\n",
    "    return (y_hat == y).float().sum() # Computes the number of times that `y_hat` and `y` match.\n",
    "\n",
    "def evaluate_metric(model, data_iter, metric):\n",
    "    \"\"\"Compute the average `metric` of the model on a dataset.\"\"\"\n",
    "    c = torch.tensor(0.).to(device)\n",
    "    n = torch.tensor(0.).to(device)\n",
    "    for X, y in data_iter:\n",
    "        X, y = X.to(device), y.to(device) # Moves data to `device`\n",
    "        logits = model(X)\n",
    "        c += metric(logits, y)\n",
    "        n += len(y)\n",
    "    return c*100 / n\n"
   ]
  },
  {
   "cell_type": "code",
   "execution_count": 5,
   "metadata": {},
   "outputs": [
    {
     "name": "stdout",
     "output_type": "stream",
     "text": [
      "torch.Size([848, 24, 50])\n",
      "torch.float32\n",
      "685\n",
      "(1370, 4, 50)\n"
     ]
    }
   ],
   "source": [
    "def train(model, train_loaders,test_loader, config, epochs, name):\n",
    "    loss = nn.CrossEntropyLoss()\n",
    "    optimizer = torch.optim.Adam(model.parameters(), lr=config['learning_rate'], weight_decay=config['decay'])\n",
    "    losses = [] # Stores the loss for each training batch\n",
    "    train_accs = [] # Stores the training accuracy after each epoch\n",
    "    test_accs = []\n",
    "    for epoch in range(epochs):\n",
    "        print(f'\\nEpoch {epoch + 1}/{epochs}')\n",
    "        total, epoch_loss = 0, 0.0\n",
    "        model.train() # This is necessary because batch normalization behaves differently between training and evaluation\n",
    "        \n",
    "        for X, y in train_loaders:\n",
    "            X, y = X.to(device), y.to(device) # Moves data to `device`\n",
    "            logits = model(X) # Computes the logits for the batch of images `X`\n",
    "            l = loss(logits, y) # Computes the loss given the `logits` and the class vector `y`\n",
    "            optimizer.zero_grad() # Zeroes the gradients stored in the model parameters\n",
    "            l.backward() # Computes the gradient of the loss `l` with respect to the model parameters\n",
    "\n",
    "            optimizer.step() # Updates the model parameters based on the gradients stored inside them\n",
    "            epoch_loss += l\n",
    "            \n",
    "        model.eval() # This is necessary because batch normalization behaves differently between training and evaluation\n",
    "        train_acc = evaluate_metric(model, train_loaders, correct)\n",
    "        train_accs.append(train_acc)\n",
    "        test_acc = evaluate_metric(model, test_loader, correct)\n",
    "        test_accs.append(test_acc)\n",
    "        wandb.log({f'{name} training accuracy': train_acc,\n",
    "                   f'{name} validationaccuracy': test_acc})\n",
    "        print(f'Epoch {epoch+1}: Training accuracy: {train_accs[-1]} Testing accuracy: {test_accs[-1]}.') # Computes and displays training/testing dataset accuracy.\n",
    "    plt.plot(list(map(lambda x: x.cpu(),train_accs)), label='Training accuracy')\n",
    "    plt.plot(list(map(lambda x: x.cpu(),test_accs)), label='Validation accuracy')\n",
    "    plt.title('accuracies')\n",
    "    plt.legend()\n",
    "def test(model, test_loaders,  configuration):\n",
    "    loss = nn.CrossEntropyLoss()\n",
    "    test_accs = []\n",
    "    optimizer = torch.optim.Adam(model.parameters(), lr=configuration['learning_rate'], weight_decay=configuration['decay'])\n",
    "    test_acc = []\n",
    "    l = 0.0\n",
    "    model.eval() # This is necessary because batch normalization behaves differently between training and evaluation\n",
    "    for X, y in test_loaders:    \n",
    "        X, y = X.to(device), y.to(device) # Moves data to `device`\n",
    "        logits = model(X)\n",
    "        l = loss(logits, y).item()\n",
    "        test_acc = evaluate_metric(model, test_loaders, correct)\n",
    "        test_accs.append(test_acc)\n",
    "        \n",
    "        # wandb.log({\"test_acc\": test_acc})\n",
    "        l /= len(test_loaders)\n",
    "        end_time = time.perf_counter()\n",
    "        # print('Testing accuracy: {test_accs[-1]}.')\n",
    "        return l, test_acc\n",
    "\n",
    "NASA = data_loading_NASA(data_path='NASA_data_50.pt', label_path= 'NASA_label_50.pt', batch_size= configuration['batch_size'])"
   ]
  },
  {
   "cell_type": "code",
   "execution_count": 6,
   "metadata": {},
   "outputs": [
    {
     "name": "stdout",
     "output_type": "stream",
     "text": [
      "\n",
      "Epoch 1/100\n",
      "Epoch 1: Training accuracy: 51.0036506652832 Testing accuracy: 53.284671783447266.\n",
      "\n",
      "Epoch 2/100\n",
      "Epoch 2: Training accuracy: 56.84306716918945 Testing accuracy: 49.63503646850586.\n",
      "\n",
      "Epoch 3/100\n",
      "Epoch 3: Training accuracy: 63.22992706298828 Testing accuracy: 55.47445297241211.\n",
      "\n",
      "Epoch 4/100\n",
      "Epoch 4: Training accuracy: 72.35401153564453 Testing accuracy: 64.23357391357422.\n",
      "\n",
      "Epoch 5/100\n",
      "Epoch 5: Training accuracy: 75.54744720458984 Testing accuracy: 64.9635009765625.\n",
      "\n",
      "Epoch 6/100\n",
      "Epoch 6: Training accuracy: 78.37591552734375 Testing accuracy: 68.6131362915039.\n",
      "\n",
      "Epoch 7/100\n",
      "Epoch 7: Training accuracy: 79.37956237792969 Testing accuracy: 65.69342803955078.\n",
      "\n",
      "Epoch 8/100\n",
      "Epoch 8: Training accuracy: 83.12043762207031 Testing accuracy: 72.26277160644531.\n",
      "\n",
      "Epoch 9/100\n",
      "Epoch 9: Training accuracy: 84.39781188964844 Testing accuracy: 73.72262573242188.\n",
      "\n",
      "Epoch 10/100\n",
      "Epoch 10: Training accuracy: 81.29562377929688 Testing accuracy: 75.91240692138672.\n",
      "\n",
      "Epoch 11/100\n",
      "Epoch 11: Training accuracy: 85.4926986694336 Testing accuracy: 73.72262573242188.\n",
      "\n",
      "Epoch 12/100\n",
      "Epoch 12: Training accuracy: 88.77737426757812 Testing accuracy: 79.56204223632812.\n",
      "\n",
      "Epoch 13/100\n",
      "Epoch 13: Training accuracy: 86.77007293701172 Testing accuracy: 74.45255279541016.\n",
      "\n",
      "Epoch 14/100\n",
      "Epoch 14: Training accuracy: 89.87226104736328 Testing accuracy: 82.48175048828125.\n",
      "\n",
      "Epoch 15/100\n",
      "Epoch 15: Training accuracy: 85.67518615722656 Testing accuracy: 72.9926986694336.\n",
      "\n",
      "Epoch 16/100\n",
      "Epoch 16: Training accuracy: 90.51094818115234 Testing accuracy: 80.2919692993164.\n",
      "\n",
      "Epoch 17/100\n",
      "Epoch 17: Training accuracy: 90.60218811035156 Testing accuracy: 78.10218811035156.\n",
      "\n",
      "Epoch 18/100\n",
      "Epoch 18: Training accuracy: 92.24452209472656 Testing accuracy: 77.37226104736328.\n",
      "\n",
      "Epoch 19/100\n",
      "Epoch 19: Training accuracy: 87.40876007080078 Testing accuracy: 75.18247985839844.\n",
      "\n",
      "Epoch 20/100\n",
      "Epoch 20: Training accuracy: 93.97810363769531 Testing accuracy: 78.83211517333984.\n",
      "\n",
      "Epoch 21/100\n",
      "Epoch 21: Training accuracy: 93.70437622070312 Testing accuracy: 82.48175048828125.\n",
      "\n",
      "Epoch 22/100\n",
      "Epoch 22: Training accuracy: 94.25182342529297 Testing accuracy: 81.02189636230469.\n",
      "\n",
      "Epoch 23/100\n",
      "Epoch 23: Training accuracy: 94.98175048828125 Testing accuracy: 82.48175048828125.\n",
      "\n",
      "Epoch 24/100\n",
      "Epoch 24: Training accuracy: 92.33576965332031 Testing accuracy: 78.10218811035156.\n",
      "\n",
      "Epoch 25/100\n",
      "Epoch 25: Training accuracy: 95.34671783447266 Testing accuracy: 82.48175048828125.\n",
      "\n",
      "Epoch 26/100\n",
      "Epoch 26: Training accuracy: 95.25547790527344 Testing accuracy: 83.21167755126953.\n",
      "\n",
      "Epoch 27/100\n",
      "Epoch 27: Training accuracy: 95.5291976928711 Testing accuracy: 83.21167755126953.\n",
      "\n",
      "Epoch 28/100\n",
      "Epoch 28: Training accuracy: 95.34671783447266 Testing accuracy: 81.75182342529297.\n",
      "\n",
      "Epoch 29/100\n",
      "Epoch 29: Training accuracy: 95.34671783447266 Testing accuracy: 80.2919692993164.\n",
      "\n",
      "Epoch 30/100\n",
      "Epoch 30: Training accuracy: 95.80291748046875 Testing accuracy: 81.75182342529297.\n",
      "\n",
      "Epoch 31/100\n",
      "Epoch 31: Training accuracy: 94.61679077148438 Testing accuracy: 79.56204223632812.\n",
      "\n",
      "Epoch 32/100\n",
      "Epoch 32: Training accuracy: 96.44160461425781 Testing accuracy: 82.48175048828125.\n",
      "\n",
      "Epoch 33/100\n",
      "Epoch 33: Training accuracy: 96.53284454345703 Testing accuracy: 81.02189636230469.\n",
      "\n",
      "Epoch 34/100\n",
      "Epoch 34: Training accuracy: 96.25912475585938 Testing accuracy: 81.75182342529297.\n",
      "\n",
      "Epoch 35/100\n",
      "Epoch 35: Training accuracy: 95.07299041748047 Testing accuracy: 79.56204223632812.\n",
      "\n",
      "Epoch 36/100\n",
      "Epoch 36: Training accuracy: 95.89415740966797 Testing accuracy: 81.75182342529297.\n",
      "\n",
      "Epoch 37/100\n",
      "Epoch 37: Training accuracy: 96.16788482666016 Testing accuracy: 81.02189636230469.\n",
      "\n",
      "Epoch 38/100\n",
      "Epoch 38: Training accuracy: 96.71533203125 Testing accuracy: 82.48175048828125.\n",
      "\n",
      "Epoch 39/100\n",
      "Epoch 39: Training accuracy: 96.71533203125 Testing accuracy: 83.21167755126953.\n",
      "\n",
      "Epoch 40/100\n",
      "Epoch 40: Training accuracy: 95.89415740966797 Testing accuracy: 80.2919692993164.\n",
      "\n",
      "Epoch 41/100\n",
      "Epoch 41: Training accuracy: 96.62408447265625 Testing accuracy: 83.21167755126953.\n",
      "\n",
      "Epoch 42/100\n",
      "Epoch 42: Training accuracy: 96.53284454345703 Testing accuracy: 79.56204223632812.\n",
      "\n",
      "Epoch 43/100\n",
      "Epoch 43: Training accuracy: 96.3503646850586 Testing accuracy: 83.94160461425781.\n",
      "\n",
      "Epoch 44/100\n",
      "Epoch 44: Training accuracy: 96.89781188964844 Testing accuracy: 81.75182342529297.\n",
      "\n",
      "Epoch 45/100\n",
      "Epoch 45: Training accuracy: 95.80291748046875 Testing accuracy: 79.56204223632812.\n",
      "\n",
      "Epoch 46/100\n",
      "Epoch 46: Training accuracy: 96.80657196044922 Testing accuracy: 80.2919692993164.\n",
      "\n",
      "Epoch 47/100\n",
      "Epoch 47: Training accuracy: 96.98905181884766 Testing accuracy: 81.02189636230469.\n",
      "\n",
      "Epoch 48/100\n",
      "Epoch 48: Training accuracy: 97.44525909423828 Testing accuracy: 83.21167755126953.\n",
      "\n",
      "Epoch 49/100\n",
      "Epoch 49: Training accuracy: 97.26277160644531 Testing accuracy: 82.48175048828125.\n",
      "\n",
      "Epoch 50/100\n",
      "Epoch 50: Training accuracy: 96.89781188964844 Testing accuracy: 84.6715316772461.\n",
      "\n",
      "Epoch 51/100\n",
      "Epoch 51: Training accuracy: 97.5364990234375 Testing accuracy: 85.40145874023438.\n",
      "\n",
      "Epoch 52/100\n",
      "Epoch 52: Training accuracy: 96.07664489746094 Testing accuracy: 83.21167755126953.\n",
      "\n",
      "Epoch 53/100\n",
      "Epoch 53: Training accuracy: 97.62773895263672 Testing accuracy: 84.6715316772461.\n",
      "\n",
      "Epoch 54/100\n",
      "Epoch 54: Training accuracy: 97.62773895263672 Testing accuracy: 83.21167755126953.\n",
      "\n",
      "Epoch 55/100\n",
      "Epoch 55: Training accuracy: 96.98905181884766 Testing accuracy: 78.83211517333984.\n",
      "\n",
      "Epoch 56/100\n",
      "Epoch 56: Training accuracy: 97.35401153564453 Testing accuracy: 84.6715316772461.\n",
      "\n",
      "Epoch 57/100\n",
      "Epoch 57: Training accuracy: 97.62773895263672 Testing accuracy: 83.94160461425781.\n",
      "\n",
      "Epoch 58/100\n",
      "Epoch 58: Training accuracy: 97.71897888183594 Testing accuracy: 81.02189636230469.\n",
      "\n",
      "Epoch 59/100\n",
      "Epoch 59: Training accuracy: 97.26277160644531 Testing accuracy: 81.75182342529297.\n",
      "\n",
      "Epoch 60/100\n",
      "Epoch 60: Training accuracy: 97.1715316772461 Testing accuracy: 83.21167755126953.\n",
      "\n",
      "Epoch 61/100\n",
      "Epoch 61: Training accuracy: 96.89781188964844 Testing accuracy: 83.94160461425781.\n",
      "\n",
      "Epoch 62/100\n",
      "Epoch 62: Training accuracy: 97.44525909423828 Testing accuracy: 82.48175048828125.\n",
      "\n",
      "Epoch 63/100\n",
      "Epoch 63: Training accuracy: 97.62773895263672 Testing accuracy: 81.02189636230469.\n",
      "\n",
      "Epoch 64/100\n",
      "Epoch 64: Training accuracy: 97.44525909423828 Testing accuracy: 83.94160461425781.\n",
      "\n",
      "Epoch 65/100\n",
      "Epoch 65: Training accuracy: 97.71897888183594 Testing accuracy: 85.40145874023438.\n",
      "\n",
      "Epoch 66/100\n",
      "Epoch 66: Training accuracy: 97.81021881103516 Testing accuracy: 81.02189636230469.\n",
      "\n",
      "Epoch 67/100\n",
      "Epoch 67: Training accuracy: 97.81021881103516 Testing accuracy: 83.21167755126953.\n",
      "\n",
      "Epoch 68/100\n",
      "Epoch 68: Training accuracy: 97.81021881103516 Testing accuracy: 82.48175048828125.\n",
      "\n",
      "Epoch 69/100\n",
      "Epoch 69: Training accuracy: 97.5364990234375 Testing accuracy: 83.21167755126953.\n",
      "\n",
      "Epoch 70/100\n",
      "Epoch 70: Training accuracy: 97.90145874023438 Testing accuracy: 85.40145874023438.\n",
      "\n",
      "Epoch 71/100\n",
      "Epoch 71: Training accuracy: 98.08393859863281 Testing accuracy: 84.6715316772461.\n",
      "\n",
      "Epoch 72/100\n",
      "Epoch 72: Training accuracy: 97.9926986694336 Testing accuracy: 83.94160461425781.\n",
      "\n",
      "Epoch 73/100\n",
      "Epoch 73: Training accuracy: 96.62408447265625 Testing accuracy: 83.94160461425781.\n",
      "\n",
      "Epoch 74/100\n",
      "Epoch 74: Training accuracy: 97.90145874023438 Testing accuracy: 84.6715316772461.\n",
      "\n",
      "Epoch 75/100\n",
      "Epoch 75: Training accuracy: 97.81021881103516 Testing accuracy: 83.21167755126953.\n",
      "\n",
      "Epoch 76/100\n",
      "Epoch 76: Training accuracy: 98.08393859863281 Testing accuracy: 84.6715316772461.\n",
      "\n",
      "Epoch 77/100\n",
      "Epoch 77: Training accuracy: 98.17518615722656 Testing accuracy: 84.6715316772461.\n",
      "\n",
      "Epoch 78/100\n",
      "Epoch 78: Training accuracy: 98.08393859863281 Testing accuracy: 83.21167755126953.\n",
      "\n",
      "Epoch 79/100\n",
      "Epoch 79: Training accuracy: 98.357666015625 Testing accuracy: 84.6715316772461.\n",
      "\n",
      "Epoch 80/100\n",
      "Epoch 80: Training accuracy: 97.9926986694336 Testing accuracy: 86.13138580322266.\n",
      "\n",
      "Epoch 81/100\n",
      "Epoch 81: Training accuracy: 98.357666015625 Testing accuracy: 84.6715316772461.\n",
      "\n",
      "Epoch 82/100\n",
      "Epoch 82: Training accuracy: 97.35401153564453 Testing accuracy: 79.56204223632812.\n",
      "\n",
      "Epoch 83/100\n",
      "Epoch 83: Training accuracy: 98.17518615722656 Testing accuracy: 83.21167755126953.\n",
      "\n",
      "Epoch 84/100\n",
      "Epoch 84: Training accuracy: 97.90145874023438 Testing accuracy: 86.86131286621094.\n",
      "\n",
      "Epoch 85/100\n",
      "Epoch 85: Training accuracy: 97.71897888183594 Testing accuracy: 83.94160461425781.\n",
      "\n",
      "Epoch 86/100\n",
      "Epoch 86: Training accuracy: 98.26642608642578 Testing accuracy: 82.48175048828125.\n",
      "\n",
      "Epoch 87/100\n",
      "Epoch 87: Training accuracy: 98.357666015625 Testing accuracy: 81.75182342529297.\n",
      "\n",
      "Epoch 88/100\n",
      "Epoch 88: Training accuracy: 98.357666015625 Testing accuracy: 83.21167755126953.\n",
      "\n",
      "Epoch 89/100\n",
      "Epoch 89: Training accuracy: 97.90145874023438 Testing accuracy: 83.21167755126953.\n",
      "\n",
      "Epoch 90/100\n",
      "Epoch 90: Training accuracy: 98.26642608642578 Testing accuracy: 83.94160461425781.\n",
      "\n",
      "Epoch 91/100\n",
      "Epoch 91: Training accuracy: 98.357666015625 Testing accuracy: 83.94160461425781.\n",
      "\n",
      "Epoch 92/100\n",
      "Epoch 92: Training accuracy: 98.357666015625 Testing accuracy: 81.02189636230469.\n",
      "\n",
      "Epoch 93/100\n",
      "Epoch 93: Training accuracy: 97.90145874023438 Testing accuracy: 85.40145874023438.\n",
      "\n",
      "Epoch 94/100\n",
      "Epoch 94: Training accuracy: 98.26642608642578 Testing accuracy: 85.40145874023438.\n",
      "\n",
      "Epoch 95/100\n",
      "Epoch 95: Training accuracy: 98.357666015625 Testing accuracy: 84.6715316772461.\n",
      "\n",
      "Epoch 96/100\n",
      "Epoch 96: Training accuracy: 98.26642608642578 Testing accuracy: 83.21167755126953.\n",
      "\n",
      "Epoch 97/100\n",
      "Epoch 97: Training accuracy: 98.26642608642578 Testing accuracy: 82.48175048828125.\n",
      "\n",
      "Epoch 98/100\n",
      "Epoch 98: Training accuracy: 98.17518615722656 Testing accuracy: 81.75182342529297.\n",
      "\n",
      "Epoch 99/100\n",
      "Epoch 99: Training accuracy: 98.26642608642578 Testing accuracy: 81.75182342529297.\n",
      "\n",
      "Epoch 100/100\n",
      "Epoch 100: Training accuracy: 98.26642608642578 Testing accuracy: 84.6715316772461.\n",
      "Epoch 1: Test loss 0.14381425579388937, accuracy 86.86131286621094\n",
      "Final test set performance:\n",
      "\tloss 0.14381425579388937\n",
      "\taccuracy 86.86131286621094\n"
     ]
    },
    {
     "name": "stderr",
     "output_type": "stream",
     "text": [
      "/home/diba/miniconda3/envs/FTL/lib/python3.10/site-packages/wandb/sdk/lib/ipython.py:89: DeprecationWarning: Importing display from IPython.core.display is deprecated since IPython 7.14, please import from IPython display\n",
      "  from IPython.core.display import display\n"
     ]
    },
    {
     "data": {
      "application/vnd.jupyter.widget-view+json": {
       "model_id": "e3ddd873d8574b17937af084bd0418e1",
       "version_major": 2,
       "version_minor": 0
      },
      "text/plain": [
       "VBox(children=(Label(value='0.004 MB of 0.004 MB uploaded\\r'), FloatProgress(value=1.0, max=1.0)))"
      ]
     },
     "metadata": {},
     "output_type": "display_data"
    },
    {
     "data": {
      "text/html": [
       "<style>\n",
       "    table.wandb td:nth-child(1) { padding: 0 10px; text-align: left ; width: auto;} td:nth-child(2) {text-align: left ; width: 100%}\n",
       "    .wandb-row { display: flex; flex-direction: row; flex-wrap: wrap; justify-content: flex-start; width: 100% }\n",
       "    .wandb-col { display: flex; flex-direction: column; flex-basis: 100%; flex: 1; padding: 10px; }\n",
       "    </style>\n",
       "<div class=\"wandb-row\"><div class=\"wandb-col\"><h3>Run history:</h3><br/><table class=\"wandb\"><tr><td>centralized training accuracy</td><td>▁▃▅▆▆▆▇▇▇███▇███████████████████████████</td></tr><tr><td>centralized validationaccuracy</td><td>▁▁▄▅▅▅▇▆▇▇▇▇▆▇▇▇▇▇▇▇█▇█▇▇▇▇▇▇███▆█▇▇▇█▇█</td></tr></table><br/></div><div class=\"wandb-col\"><h3>Run summary:</h3><br/><table class=\"wandb\"><tr><td>centralized training accuracy</td><td>98.26643</td></tr><tr><td>centralized validationaccuracy</td><td>84.67153</td></tr></table><br/></div></div>"
      ],
      "text/plain": [
       "<IPython.core.display.HTML object>"
      ]
     },
     "metadata": {},
     "output_type": "display_data"
    },
    {
     "data": {
      "text/html": [
       " View run <strong style=\"color:#cdcd00\">centralized training_18-08-2024_20:42:58</strong> at: <a href='https://wandb.ai/d-hadjikazemi-queen-mary-university-of-london/FTL%20unified/runs/itfaokid' target=\"_blank\">https://wandb.ai/d-hadjikazemi-queen-mary-university-of-london/FTL%20unified/runs/itfaokid</a><br/> View project at: <a href='https://wandb.ai/d-hadjikazemi-queen-mary-university-of-london/FTL%20unified' target=\"_blank\">https://wandb.ai/d-hadjikazemi-queen-mary-university-of-london/FTL%20unified</a><br/>Synced 6 W&B file(s), 0 media file(s), 0 artifact file(s) and 0 other file(s)"
      ],
      "text/plain": [
       "<IPython.core.display.HTML object>"
      ]
     },
     "metadata": {},
     "output_type": "display_data"
    },
    {
     "data": {
      "text/html": [
       "Find logs at: <code>./wandb/run-20240818_204259-itfaokid/logs</code>"
      ],
      "text/plain": [
       "<IPython.core.display.HTML object>"
      ]
     },
     "metadata": {},
     "output_type": "display_data"
    },
    {
     "data": {
      "text/html": [
       "The new W&B backend becomes opt-out in version 0.18.0; try it out with `wandb.require(\"core\")`! See https://wandb.me/wandb-core for more information."
      ],
      "text/plain": [
       "<IPython.core.display.HTML object>"
      ]
     },
     "metadata": {},
     "output_type": "display_data"
    },
    {
     "data": {
      "image/png": "[encoded data removed]",
      "text/plain": [
       "<Figure size 640x480 with 1 Axes>"
      ]
     },
     "metadata": {},
     "output_type": "display_data"
    }
   ],
   "source": [
    "trainloader = NASA[0]\n",
    "valloader = NASA[1]\n",
    "testloader = NASA[2]\n",
    "net = Neural_Network().to(device)\n",
    "losses = []\n",
    "accuracies = []\n",
    "for epoch in range(1):\n",
    "    train(net, trainloader, valloader, configuration, configuration['epochs'], name= 'centralized')\n",
    "    loss, accuracy = test(net, testloader, configuration)\n",
    "    print(f\"Epoch {epoch+1}: Test loss {loss}, accuracy {accuracy}\")\n",
    "# plt.plot(accuracies)\n",
    "loss, accuracy = test(net, testloader, configuration=configuration)\n",
    "\n",
    "print(f\"Final test set performance:\\n\\tloss {loss}\\n\\taccuracy {accuracy}\")\n",
    "wandb.finish()"
   ]
  },
  {
   "cell_type": "markdown",
   "metadata": {},
   "source": [
    "# Federated Learning"
   ]
  },
  {
   "cell_type": "code",
   "execution_count": 7,
   "metadata": {},
   "outputs": [
    {
     "name": "stdout",
     "output_type": "stream",
     "text": [
      "0.1499999999999999\n",
      "250\n",
      "client 0\n",
      "train size = 681\n",
      "validation size = 171\n",
      "test set = 250\n",
      "train transfer size = 454\n",
      "validation transfer size = 114\n",
      "0.1499999999999999\n",
      "233\n",
      "client 1\n",
      "train size = 637\n",
      "validation size = 160\n",
      "test set = 233\n",
      "train transfer size = 424\n",
      "validation transfer size = 106\n",
      "0.1499999999999999\n",
      "310\n",
      "client 2\n",
      "train size = 844\n",
      "validation size = 212\n",
      "test set = 310\n",
      "train transfer size = 563\n",
      "validation transfer size = 141\n",
      "0.1499999999999999\n",
      "253\n",
      "client 3\n",
      "train size = 690\n",
      "validation size = 173\n",
      "test set = 253\n",
      "train transfer size = 459\n",
      "validation transfer size = 115\n"
     ]
    }
   ],
   "source": [
    "azure_data_paths = ['AZURE_data_1.pt', 'AZURE_data_2.pt','AZURE_data_3.pt','AZURE_data_4.pt']\n",
    "azure_label_paths = ['AZURE_label_1.pt','AZURE_label_2.pt','AZURE_label_3.pt','AZURE_label_4.pt']\n",
    "azure_train_loaders, azure_val_loaders, azure_test_loader, azure_train_loaders_transfer, azure_val_loaders_transfer = data_loading_AZURE(azure_data_paths, azure_label_paths, batch_size=configuration['batch_size_FL'])"
   ]
  },
  {
   "cell_type": "code",
   "execution_count": 8,
   "metadata": {},
   "outputs": [
    {
     "name": "stderr",
     "output_type": "stream",
     "text": [
      "/home/diba/miniconda3/envs/FTL/lib/python3.10/site-packages/wandb/sdk/lib/ipython.py:77: DeprecationWarning: Importing display from IPython.core.display is deprecated since IPython 7.14, please import from IPython display\n",
      "  from IPython.core.display import HTML, display  # type: ignore\n"
     ]
    },
    {
     "data": {
      "text/html": [
       "wandb version 0.17.7 is available!  To upgrade, please run:\n",
       " $ pip install wandb --upgrade"
      ],
      "text/plain": [
       "<IPython.core.display.HTML object>"
      ]
     },
     "metadata": {},
     "output_type": "display_data"
    },
    {
     "data": {
      "text/html": [
       "Tracking run with wandb version 0.17.4"
      ],
      "text/plain": [
       "<IPython.core.display.HTML object>"
      ]
     },
     "metadata": {},
     "output_type": "display_data"
    },
    {
     "data": {
      "text/html": [
       "Run data is saved locally in <code>/home/diba/wandb/run-20240818_204323-5nrz60iy</code>"
      ],
      "text/plain": [
       "<IPython.core.display.HTML object>"
      ]
     },
     "metadata": {},
     "output_type": "display_data"
    },
    {
     "data": {
      "text/html": [
       "Syncing run <strong><a href='https://wandb.ai/d-hadjikazemi-queen-mary-university-of-london/FL%20unified/runs/5nrz60iy' target=\"_blank\">federated learning phase_18-08-2024_20:42:58</a></strong> to <a href='https://wandb.ai/d-hadjikazemi-queen-mary-university-of-london/FL%20unified' target=\"_blank\">Weights & Biases</a> (<a href='https://wandb.me/run' target=\"_blank\">docs</a>)<br/>"
      ],
      "text/plain": [
       "<IPython.core.display.HTML object>"
      ]
     },
     "metadata": {},
     "output_type": "display_data"
    },
    {
     "data": {
      "text/html": [
       " View project at <a href='https://wandb.ai/d-hadjikazemi-queen-mary-university-of-london/FL%20unified' target=\"_blank\">https://wandb.ai/d-hadjikazemi-queen-mary-university-of-london/FL%20unified</a>"
      ],
      "text/plain": [
       "<IPython.core.display.HTML object>"
      ]
     },
     "metadata": {},
     "output_type": "display_data"
    },
    {
     "data": {
      "text/html": [
       " View run at <a href='https://wandb.ai/d-hadjikazemi-queen-mary-university-of-london/FL%20unified/runs/5nrz60iy' target=\"_blank\">https://wandb.ai/d-hadjikazemi-queen-mary-university-of-london/FL%20unified/runs/5nrz60iy</a>"
      ],
      "text/plain": [
       "<IPython.core.display.HTML object>"
      ]
     },
     "metadata": {},
     "output_type": "display_data"
    },
    {
     "data": {
      "text/html": [
       "<button onClick=\"this.nextSibling.style.display='block';this.style.display='none';\">Display W&B run</button><iframe src='https://wandb.ai/d-hadjikazemi-queen-mary-university-of-london/FL%20unified/runs/5nrz60iy?jupyter=true' style='border:none;width:100%;height:420px;display:none;'></iframe>"
      ],
      "text/plain": [
       "<wandb.sdk.wandb_run.Run at 0x7f6260d69120>"
      ]
     },
     "execution_count": 8,
     "metadata": {},
     "output_type": "execute_result"
    }
   ],
   "source": [
    "wandb.init(\n",
    "    # set the wandb project where this run will be logged\n",
    "    project=\"FL unified\",\n",
    "    name= \"federated learning phase_{}\".format(date_time),\n",
    "    # track hyperparameters and run metadata\n",
    "    config=configuration\n",
    ")\n"
   ]
  },
  {
   "cell_type": "code",
   "execution_count": 9,
   "metadata": {},
   "outputs": [],
   "source": [
    "# Define the CNN architecture\n",
    "class Neural_Network_FL(nn.Module):\n",
    "    def __init__(self):\n",
    "        super(Neural_Network_FL, self).__init__()\n",
    "        self.conv1 = nn.Conv1d(in_channels=4, out_channels=8, kernel_size=5)\n",
    "        self.conv2 = nn.Conv1d(in_channels=8, out_channels=8, kernel_size=5)\n",
    "        self.pool = nn.MaxPool1d(kernel_size=2, padding=0, stride=1)\n",
    "        # the size of the out channels x number  of nodes \n",
    "        self.fc1 = nn.Linear(328, 200)\n",
    "        self.fc2 = nn.Linear(200, 2)\n",
    "        self.flatten = nn.Flatten()\n",
    "        self.relu = nn.ReLU()\n",
    "        self.dropout = nn.Dropout(configuration['dropout'])\n",
    "        self.sigmoid = nn.Sigmoid()\n",
    "\n",
    "    def forward(self, x):\n",
    "        x = self.relu(self.conv1(x))\n",
    "        x = self.relu(self.conv2(x))\n",
    "        x = self.dropout(x)\n",
    "        x = self.pool(x)\n",
    "        x = self.flatten(x)\n",
    "        x = self.relu(self.fc1(x))\n",
    "        x - self.dropout(x)\n",
    "        x = self.sigmoid(self.fc2(x))\n",
    "        return x"
   ]
  },
  {
   "cell_type": "code",
   "execution_count": 10,
   "metadata": {},
   "outputs": [],
   "source": [
    "def train_FL(model, train_loaders,test_loader, config, epochs):\n",
    "    loss = nn.CrossEntropyLoss()\n",
    "    optimizer = torch.optim.Adam(model.parameters(), lr=config['learning_rate'], weight_decay=config['decay'])\n",
    "    losses = [] # Stores the loss for each training batch\n",
    "    train_accs = [] # Stores the training accuracy after each epoch\n",
    "    test_accs = []\n",
    "    \n",
    "    for epoch in range(epochs):\n",
    "        print(f'\\nEpoch {epoch + 1}/{epochs}')\n",
    "        total, epoch_loss = 0, 0.0\n",
    "        model.train() # This is necessary because batch normalization behaves differently between training and evaluation\n",
    "        \n",
    "        for X, y in train_loaders:\n",
    "            X, y = X.to(device), y.to(device) # Moves data to `device`\n",
    "            logits = model(X) # Computes the logits for the batch of images `X`\n",
    "            l = loss(logits, y) # Computes the loss given the `logits` and the class vector `y`\n",
    "            optimizer.zero_grad() # Zeroes the gradients stored in the model parameters\n",
    "            l.backward() # Computes the gradient of the loss `l` with respect to the model parameters\n",
    "\n",
    "            optimizer.step() # Updates the model parameters based on the gradients stored inside them\n",
    "            epoch_loss += l\n",
    "            \n",
    "        model.eval() # This is necessary because batch normalization behaves differently between training and evaluation\n",
    "        train_acc = evaluate_metric(model, train_loaders, correct)\n",
    "        train_accs.append(train_acc)\n",
    "        test_acc = evaluate_metric(model, test_loader, correct)\n",
    "        test_accs.append(test_acc)\n",
    "        print(f'Epoch {epoch+1}: Training accuracy: {train_accs[-1]} Testing accuracy: {test_accs[-1]}.') # Computes and displays training/testing dataset accuracy.\n",
    "    plt.plot(list(map(lambda x: x.cpu(),train_accs)), label='Training accuracy')\n",
    "    plt.plot(list(map(lambda x: x.cpu(),test_accs)), label='Validation accuracy')\n",
    "    plt.title('accuracies')\n",
    "    plt.legend()\n"
   ]
  },
  {
   "cell_type": "code",
   "execution_count": 11,
   "metadata": {},
   "outputs": [],
   "source": [
    "def get_parameters(model):\n",
    "    # Return model parameters as a list of NumPy ndarrays, excluding parameters of BN layers when using FedBN\n",
    "    return [val.cpu().numpy() for name, val in model.state_dict().items() if ('bn1' not in name and 'bn2' not in name)]\n",
    "\n",
    "def set_parameters(model, parameters):\n",
    "    # Set model parameters from a list of NumPy ndarrays\n",
    "    keys = [k for k in model.state_dict().keys() if 'bn' not in k]\n",
    "    params_dict = zip(keys, parameters)\n",
    "    state_dict = OrderedDict({k: torch.tensor(v) for k, v in params_dict})\n",
    "    model.load_state_dict(state_dict, strict=False)\n",
    "\n",
    "net_FL = Neural_Network_FL().to(device)\n",
    "parameters_centralized = get_parameters(net)\n",
    "set_parameters(net_FL, parameters_centralized)"
   ]
  },
  {
   "cell_type": "code",
   "execution_count": 12,
   "metadata": {},
   "outputs": [],
   "source": [
    "class FlowerClient(fl.client.NumPyClient):\n",
    "    def __init__(self, net, trainloader, valloader, configuration):\n",
    "        self.net = net\n",
    "        self.trainloader = trainloader\n",
    "        self.valloader = valloader\n",
    "\n",
    "    def get_parameters(self, config):\n",
    "        return get_parameters(self.net)\n",
    "\n",
    "    def fit(self, parameters, config):\n",
    "        set_parameters(self.net, parameters)\n",
    "        train_FL(self.net, self.trainloader,self.valloader,configuration, configuration['epochs_FL'])\n",
    "        return get_parameters(self.net), len(self.trainloader), {}\n",
    "\n",
    "    def evaluate(self, parameters, config):\n",
    "        set_parameters(self.net, parameters)\n",
    "        loss, accuracy = test(self.net, self.valloader, configuration)\n",
    "        return float(loss), len(self.valloader), {\"accuracy\": float(accuracy)}\n",
    "    \n",
    "\n",
    "def client_fn(cid) -> FlowerClient:\n",
    "    net = Neural_Network().to(device)\n",
    "    trainloader = azure_train_loaders[int(cid)]\n",
    "    valloader = azure_val_loaders[int(cid)]\n",
    "    return FlowerClient(net_FL, trainloader, valloader, configuration).to_client()\n"
   ]
  },
  {
   "cell_type": "code",
   "execution_count": 13,
   "metadata": {},
   "outputs": [
    {
     "name": "stderr",
     "output_type": "stream",
     "text": [
      "\u001b[93mWARNING \u001b[0m:   \n",
      "Setting `min_available_clients` lower than `min_fit_clients` or\n",
      "`min_evaluate_clients` can cause the server to fail when there are too few clients\n",
      "connected to the server. `min_available_clients` must be set to a value larger\n",
      "than or equal to the values of `min_fit_clients` and `min_evaluate_clients`.\n",
      "\n",
      "\u001b[92mINFO \u001b[0m:      Starting Flower simulation, config: num_rounds=50, no round_timeout\n",
      "2024-08-18 20:43:27,813\tINFO worker.py:1621 -- Started a local Ray instance.\n",
      "\u001b[92mINFO \u001b[0m:      Flower VCE: Ray initialized with resources: {'node:__internal_head__': 1.0, 'object_store_memory': 49327849881.0, 'CPU': 32.0, 'node:192.168.1.146': 1.0, 'memory': 105098316391.0, 'accelerator_type:G': 1.0, 'GPU': 2.0}\n",
      "\u001b[92mINFO \u001b[0m:      Optimize your simulation with Flower VCE: https://flower.ai/docs/framework/how-to-run-simulations.html\n",
      "\u001b[92mINFO \u001b[0m:      Flower VCE: Resources for each Virtual Client: {'num_cpus': 1, 'num_gpus': 1.0}\n",
      "\u001b[92mINFO \u001b[0m:      Flower VCE: Creating VirtualClientEngineActorPool with 2 actors\n",
      "\u001b[92mINFO \u001b[0m:      [INIT]\n",
      "\u001b[92mINFO \u001b[0m:      Using initial global parameters provided by strategy\n",
      "\u001b[92mINFO \u001b[0m:      Evaluating initial global parameters\n",
      "\u001b[92mINFO \u001b[0m:      initial parameters (loss, other metrics): 0.04324009137995103, {'accuracy': tensor(49.5220, device='cuda:0')}\n",
      "\u001b[92mINFO \u001b[0m:      \n",
      "\u001b[92mINFO \u001b[0m:      [ROUND 1]\n",
      "\u001b[92mINFO \u001b[0m:      configure_fit: strategy sampled 4 clients (out of 4)\n"
     ]
    },
    {
     "name": "stdout",
     "output_type": "stream",
     "text": [
      "Server-side evaluation loss 0.04324009137995103 / accuracy 49.52198791503906\n",
      "\u001b[2m\u001b[36m(ClientAppActor pid=1208103)\u001b[0m \n",
      "\u001b[2m\u001b[36m(ClientAppActor pid=1208103)\u001b[0m Epoch 1/100\n",
      "\u001b[2m\u001b[36m(ClientAppActor pid=1208102)\u001b[0m Epoch 1: Training accuracy: 48.665618896484375 Testing accuracy: 51.25.\n",
      "\u001b[2m\u001b[36m(ClientAppActor pid=1208102)\u001b[0m Epoch 2: Training accuracy: 51.334381103515625 Testing accuracy: 48.75.\n",
      "\u001b[2m\u001b[36m(ClientAppActor pid=1208102)\u001b[0m Epoch 3: Training accuracy: 51.334381103515625 Testing accuracy: 48.75.\n",
      "\u001b[2m\u001b[36m(ClientAppActor pid=1208102)\u001b[0m Epoch 4: Training accuracy: 51.334381103515625 Testing accuracy: 48.75.\n",
      "\u001b[2m\u001b[36m(ClientAppActor pid=1208102)\u001b[0m Epoch 5: Training accuracy: 50.86342239379883 Testing accuracy: 50.0.\n",
      "\u001b[2m\u001b[36m(ClientAppActor pid=1208102)\u001b[0m Epoch 6: Training accuracy: 51.334381103515625 Testing accuracy: 48.75.\n",
      "\u001b[2m\u001b[36m(ClientAppActor pid=1208102)\u001b[0m Epoch 7: Training accuracy: 51.334381103515625 Testing accuracy: 48.75.\n",
      "\u001b[2m\u001b[36m(ClientAppActor pid=1208102)\u001b[0m Epoch 8: Training accuracy: 51.334381103515625 Testing accuracy: 48.75.\n",
      "\u001b[2m\u001b[36m(ClientAppActor pid=1208102)\u001b[0m Epoch 9: Training accuracy: 51.334381103515625 Testing accuracy: 48.75.\n",
      "\u001b[2m\u001b[36m(ClientAppActor pid=1208102)\u001b[0m Epoch 10: Training accuracy: 49.9215087890625 Testing accuracy: 53.125.\n",
      "\u001b[2m\u001b[36m(ClientAppActor pid=1208102)\u001b[0m Epoch 11: Training accuracy: 51.334381103515625 Testing accuracy: 48.75.\n",
      "\u001b[2m\u001b[36m(ClientAppActor pid=1208102)\u001b[0m Epoch 12: Training accuracy: 51.334381103515625 Testing accuracy: 48.75.\n",
      "\u001b[2m\u001b[36m(ClientAppActor pid=1208102)\u001b[0m Epoch 13: Training accuracy: 52.590267181396484 Testing accuracy: 50.625.\n",
      "\u001b[2m\u001b[36m(ClientAppActor pid=1208102)\u001b[0m Epoch 14: Training accuracy: 51.334381103515625 Testing accuracy: 48.75.\n",
      "\u001b[2m\u001b[36m(ClientAppActor pid=1208103)\u001b[0m \u001b[32m [repeated 141x across cluster] (Ray deduplicates logs by default. Set RAY_DEDUP_LOGS=0 to disable log deduplication, or see https://docs.ray.io/en/master/ray-observability/ray-logging.html#log-deduplication for more options.)\u001b[0m\n",
      "\u001b[2m\u001b[36m(ClientAppActor pid=1208103)\u001b[0m Epoch 20/100\u001b[32m [repeated 141x across cluster]\u001b[0m\n",
      "\u001b[2m\u001b[36m(ClientAppActor pid=1208102)\u001b[0m Epoch 23: Training accuracy: 50.710899353027344 Testing accuracy: 48.11320877075195.\u001b[32m [repeated 128x across cluster]\u001b[0m\n",
      "\u001b[2m\u001b[36m(ClientAppActor pid=1208102)\u001b[0m \u001b[32m [repeated 45x across cluster]\u001b[0m\n",
      "\u001b[2m\u001b[36m(ClientAppActor pid=1208102)\u001b[0m Epoch 56/100\u001b[32m [repeated 45x across cluster]\u001b[0m\n",
      "\u001b[2m\u001b[36m(ClientAppActor pid=1208103)\u001b[0m Epoch 32: Training accuracy: 52.60869598388672 Testing accuracy: 47.39884567260742.\u001b[32m [repeated 46x across cluster]\u001b[0m\n",
      "\u001b[2m\u001b[36m(ClientAppActor pid=1208103)\u001b[0m \u001b[32m [repeated 54x across cluster]\u001b[0m\n",
      "\u001b[2m\u001b[36m(ClientAppActor pid=1208103)\u001b[0m Epoch 51/100\u001b[32m [repeated 54x across cluster]\u001b[0m\n",
      "\u001b[2m\u001b[36m(ClientAppActor pid=1208102)\u001b[0m Epoch 98: Training accuracy: 73.22274780273438 Testing accuracy: 66.98113250732422.\u001b[32m [repeated 61x across cluster]\u001b[0m\n",
      "\u001b[2m\u001b[36m(ClientAppActor pid=1208102)\u001b[0m \u001b[32m [repeated 64x across cluster]\u001b[0m\n",
      "\u001b[2m\u001b[36m(ClientAppActor pid=1208102)\u001b[0m Epoch 31/100\u001b[32m [repeated 64x across cluster]\u001b[0m\n",
      "\u001b[2m\u001b[36m(ClientAppActor pid=1208103)\u001b[0m Epoch 76: Training accuracy: 68.840576171875 Testing accuracy: 59.53757095336914.\u001b[32m [repeated 59x across cluster]\u001b[0m\n",
      "\u001b[2m\u001b[36m(ClientAppActor pid=1208102)\u001b[0m \u001b[32m [repeated 48x across cluster]\u001b[0m\n",
      "\u001b[2m\u001b[36m(ClientAppActor pid=1208102)\u001b[0m Epoch 53/100\u001b[32m [repeated 48x across cluster]\u001b[0m\n",
      "\u001b[2m\u001b[36m(ClientAppActor pid=1208102)\u001b[0m Epoch 53: Training accuracy: 62.11453628540039 Testing accuracy: 61.403507232666016.\u001b[32m [repeated 45x across cluster]\u001b[0m\n",
      "\u001b[2m\u001b[36m(ClientAppActor pid=1208102)\u001b[0m \u001b[32m [repeated 14x across cluster]\u001b[0m\n",
      "\u001b[2m\u001b[36m(ClientAppActor pid=1208102)\u001b[0m Epoch 67/100\u001b[32m [repeated 14x across cluster]\u001b[0m\n",
      "\u001b[2m\u001b[36m(ClientAppActor pid=1208102)\u001b[0m Epoch 68: Training accuracy: 62.5550651550293 Testing accuracy: 54.970760345458984.\u001b[32m [repeated 15x across cluster]\u001b[0m\n",
      "\u001b[2m\u001b[36m(ClientAppActor pid=1208102)\u001b[0m \u001b[32m [repeated 15x across cluster]\u001b[0m\n",
      "\u001b[2m\u001b[36m(ClientAppActor pid=1208102)\u001b[0m Epoch 82/100\u001b[32m [repeated 15x across cluster]\u001b[0m\n",
      "\u001b[2m\u001b[36m(ClientAppActor pid=1208102)\u001b[0m Epoch 82: Training accuracy: 64.6108627319336 Testing accuracy: 53.801170349121094.\u001b[32m [repeated 14x across cluster]\u001b[0m\n",
      "\u001b[2m\u001b[36m(ClientAppActor pid=1208102)\u001b[0m \u001b[32m [repeated 17x across cluster]\u001b[0m\n",
      "\u001b[2m\u001b[36m(ClientAppActor pid=1208102)\u001b[0m Epoch 99/100\u001b[32m [repeated 17x across cluster]\u001b[0m\n",
      "\u001b[2m\u001b[36m(ClientAppActor pid=1208102)\u001b[0m Epoch 99: Training accuracy: 66.37297821044922 Testing accuracy: 58.479530334472656.\u001b[32m [repeated 17x across cluster]\u001b[0m\n"
     ]
    },
    {
     "name": "stderr",
     "output_type": "stream",
     "text": [
      "\u001b[92mINFO \u001b[0m:      aggregate_fit: received 4 results and 0 failures\n",
      "\u001b[93mWARNING \u001b[0m:   No fit_metrics_aggregation_fn provided\n",
      "\u001b[92mINFO \u001b[0m:      fit progress: (1, 0.041565782883588004, {'accuracy': tensor(50.4780, device='cuda:0')}, 44.15287465399888)\n",
      "\u001b[92mINFO \u001b[0m:      configure_evaluate: strategy sampled 2 clients (out of 4)\n"
     ]
    },
    {
     "name": "stdout",
     "output_type": "stream",
     "text": [
      "Server-side evaluation loss 0.041565782883588004 / accuracy 50.47801208496094\n"
     ]
    },
    {
     "name": "stderr",
     "output_type": "stream",
     "text": [
      "\u001b[92mINFO \u001b[0m:      aggregate_evaluate: received 2 results and 0 failures\n",
      "\u001b[92mINFO \u001b[0m:      \n",
      "\u001b[92mINFO \u001b[0m:      [ROUND 2]\n",
      "\u001b[92mINFO \u001b[0m:      configure_fit: strategy sampled 4 clients (out of 4)\n"
     ]
    },
    {
     "name": "stdout",
     "output_type": "stream",
     "text": [
      "\u001b[2m\u001b[36m(ClientAppActor pid=1208103)\u001b[0m \u001b[32m [repeated 18x across cluster]\u001b[0m\n",
      "\u001b[2m\u001b[36m(ClientAppActor pid=1208103)\u001b[0m Epoch 8/100\u001b[32m [repeated 18x across cluster]\u001b[0m\n",
      "\u001b[2m\u001b[36m(ClientAppActor pid=1208102)\u001b[0m Epoch 10: Training accuracy: 69.13043212890625 Testing accuracy: 69.3641586303711.\u001b[32m [repeated 18x across cluster]\u001b[0m\n",
      "\u001b[2m\u001b[36m(ClientAppActor pid=1208103)\u001b[0m \u001b[32m [repeated 29x across cluster]\u001b[0m\n",
      "\u001b[2m\u001b[36m(ClientAppActor pid=1208103)\u001b[0m Epoch 19/100\u001b[32m [repeated 29x across cluster]\u001b[0m\n",
      "\u001b[2m\u001b[36m(ClientAppActor pid=1208102)\u001b[0m Epoch 28: Training accuracy: 75.65217590332031 Testing accuracy: 75.1445083618164.\u001b[32m [repeated 29x across cluster]\u001b[0m\n",
      "\u001b[2m\u001b[36m(ClientAppActor pid=1208102)\u001b[0m \u001b[32m [repeated 39x across cluster]\u001b[0m\n",
      "\u001b[2m\u001b[36m(ClientAppActor pid=1208102)\u001b[0m Epoch 54/100\u001b[32m [repeated 39x across cluster]\u001b[0m\n",
      "\u001b[2m\u001b[36m(ClientAppActor pid=1208103)\u001b[0m Epoch 31: Training accuracy: 54.038177490234375 Testing accuracy: 54.970760345458984.\u001b[32m [repeated 38x across cluster]\u001b[0m\n",
      "\u001b[2m\u001b[36m(ClientAppActor pid=1208103)\u001b[0m \u001b[32m [repeated 41x across cluster]\u001b[0m\n",
      "\u001b[2m\u001b[36m(ClientAppActor pid=1208103)\u001b[0m Epoch 49/100\u001b[32m [repeated 41x across cluster]\u001b[0m\n",
      "\u001b[2m\u001b[36m(ClientAppActor pid=1208103)\u001b[0m Epoch 48: Training accuracy: 75.91777038574219 Testing accuracy: 71.92982482910156.\u001b[32m [repeated 40x across cluster]\u001b[0m\n",
      "\u001b[2m\u001b[36m(ClientAppActor pid=1208102)\u001b[0m \u001b[32m [repeated 42x across cluster]\u001b[0m\n",
      "\u001b[2m\u001b[36m(ClientAppActor pid=1208102)\u001b[0m Epoch 2/100\u001b[32m [repeated 42x across cluster]\u001b[0m\n",
      "\u001b[2m\u001b[36m(ClientAppActor pid=1208102)\u001b[0m Epoch 1: Training accuracy: 61.224491119384766 Testing accuracy: 60.625.\u001b[32m [repeated 42x across cluster]\u001b[0m\n",
      "\u001b[2m\u001b[36m(ClientAppActor pid=1208103)\u001b[0m \u001b[32m [repeated 57x across cluster]\u001b[0m\n",
      "\u001b[2m\u001b[36m(ClientAppActor pid=1208103)\u001b[0m Epoch 83/100\u001b[32m [repeated 57x across cluster]\u001b[0m\n",
      "\u001b[2m\u001b[36m(ClientAppActor pid=1208103)\u001b[0m Epoch 82: Training accuracy: 63.43612289428711 Testing accuracy: 61.403507232666016.\u001b[32m [repeated 57x across cluster]\u001b[0m\n",
      "\u001b[2m\u001b[36m(ClientAppActor pid=1208102)\u001b[0m \u001b[32m [repeated 90x across cluster]\u001b[0m\n",
      "\u001b[2m\u001b[36m(ClientAppActor pid=1208102)\u001b[0m Epoch 15/100\u001b[32m [repeated 90x across cluster]\u001b[0m\n",
      "\u001b[2m\u001b[36m(ClientAppActor pid=1208102)\u001b[0m Epoch 14: Training accuracy: 71.20853424072266 Testing accuracy: 68.86792755126953.\u001b[32m [repeated 90x across cluster]\u001b[0m\n",
      "\u001b[2m\u001b[36m(ClientAppActor pid=1208102)\u001b[0m \u001b[32m [repeated 50x across cluster]\u001b[0m\n",
      "\u001b[2m\u001b[36m(ClientAppActor pid=1208102)\u001b[0m Epoch 65/100\u001b[32m [repeated 50x across cluster]\u001b[0m\n",
      "\u001b[2m\u001b[36m(ClientAppActor pid=1208102)\u001b[0m Epoch 64: Training accuracy: 57.81990432739258 Testing accuracy: 57.54716873168945.\u001b[32m [repeated 51x across cluster]\u001b[0m\n"
     ]
    },
    {
     "name": "stderr",
     "output_type": "stream",
     "text": [
      "\u001b[92mINFO \u001b[0m:      aggregate_fit: received 4 results and 0 failures\n",
      "\u001b[92mINFO \u001b[0m:      fit progress: (2, 0.03472979980356553, {'accuracy': tensor(65.3920, device='cuda:0')}, 88.30187314600335)\n",
      "\u001b[92mINFO \u001b[0m:      configure_evaluate: strategy sampled 2 clients (out of 4)\n"
     ]
    },
    {
     "name": "stdout",
     "output_type": "stream",
     "text": [
      "Server-side evaluation loss 0.03472979980356553 / accuracy 65.3919677734375\n"
     ]
    },
    {
     "name": "stderr",
     "output_type": "stream",
     "text": [
      "\u001b[92mINFO \u001b[0m:      aggregate_evaluate: received 2 results and 0 failures\n",
      "\u001b[92mINFO \u001b[0m:      \n",
      "\u001b[92mINFO \u001b[0m:      [ROUND 3]\n",
      "\u001b[92mINFO \u001b[0m:      configure_fit: strategy sampled 4 clients (out of 4)\n"
     ]
    },
    {
     "name": "stdout",
     "output_type": "stream",
     "text": [
      "\u001b[2m\u001b[36m(ClientAppActor pid=1208102)\u001b[0m \u001b[32m [repeated 37x across cluster]\u001b[0m\n",
      "\u001b[2m\u001b[36m(ClientAppActor pid=1208102)\u001b[0m Epoch 2/100\u001b[32m [repeated 37x across cluster]\u001b[0m\n",
      "\u001b[2m\u001b[36m(ClientAppActor pid=1208102)\u001b[0m Epoch 1: Training accuracy: 74.05213165283203 Testing accuracy: 70.28302001953125.\u001b[32m [repeated 37x across cluster]\u001b[0m\n",
      "\u001b[2m\u001b[36m(ClientAppActor pid=1208103)\u001b[0m \u001b[32m [repeated 39x across cluster]\u001b[0m\n",
      "\u001b[2m\u001b[36m(ClientAppActor pid=1208103)\u001b[0m Epoch 13/100\u001b[32m [repeated 39x across cluster]\u001b[0m\n",
      "\u001b[2m\u001b[36m(ClientAppActor pid=1208103)\u001b[0m Epoch 12: Training accuracy: 77.82672882080078 Testing accuracy: 76.60818481445312.\u001b[32m [repeated 38x across cluster]\u001b[0m\n",
      "\u001b[2m\u001b[36m(ClientAppActor pid=1208103)\u001b[0m \u001b[32m [repeated 30x across cluster]\u001b[0m\n",
      "\u001b[2m\u001b[36m(ClientAppActor pid=1208103)\u001b[0m Epoch 24/100\u001b[32m [repeated 30x across cluster]\u001b[0m\n",
      "\u001b[2m\u001b[36m(ClientAppActor pid=1208103)\u001b[0m Epoch 23: Training accuracy: 73.56828308105469 Testing accuracy: 71.92982482910156.\u001b[32m [repeated 30x across cluster]\u001b[0m\n",
      "\u001b[2m\u001b[36m(ClientAppActor pid=1208103)\u001b[0m \u001b[32m [repeated 27x across cluster]\u001b[0m\n",
      "\u001b[2m\u001b[36m(ClientAppActor pid=1208103)\u001b[0m Epoch 35/100\u001b[32m [repeated 27x across cluster]\u001b[0m\n",
      "\u001b[2m\u001b[36m(ClientAppActor pid=1208103)\u001b[0m Epoch 34: Training accuracy: 75.77092742919922 Testing accuracy: 74.85379791259766.\u001b[32m [repeated 27x across cluster]\u001b[0m\n",
      "\u001b[2m\u001b[36m(ClientAppActor pid=1208102)\u001b[0m \u001b[32m [repeated 27x across cluster]\u001b[0m\n",
      "\u001b[2m\u001b[36m(ClientAppActor pid=1208102)\u001b[0m Epoch 80/100\u001b[32m [repeated 27x across cluster]\u001b[0m\n",
      "\u001b[2m\u001b[36m(ClientAppActor pid=1208102)\u001b[0m Epoch 79: Training accuracy: 80.21327209472656 Testing accuracy: 73.58490753173828.\u001b[32m [repeated 27x across cluster]\u001b[0m\n",
      "\u001b[2m\u001b[36m(ClientAppActor pid=1208102)\u001b[0m \u001b[32m [repeated 34x across cluster]\u001b[0m\n",
      "\u001b[2m\u001b[36m(ClientAppActor pid=1208102)\u001b[0m Epoch 2/100\u001b[32m [repeated 34x across cluster]\u001b[0m\n",
      "\u001b[2m\u001b[36m(ClientAppActor pid=1208102)\u001b[0m Epoch 1: Training accuracy: 73.1554183959961 Testing accuracy: 70.0.\u001b[32m [repeated 34x across cluster]\u001b[0m\n",
      "\u001b[2m\u001b[36m(ClientAppActor pid=1208102)\u001b[0m \u001b[32m [repeated 48x across cluster]\u001b[0m\n",
      "\u001b[2m\u001b[36m(ClientAppActor pid=1208102)\u001b[0m Epoch 40/100\u001b[32m [repeated 48x across cluster]\u001b[0m\n",
      "\u001b[2m\u001b[36m(ClientAppActor pid=1208102)\u001b[0m Epoch 39: Training accuracy: 74.72527313232422 Testing accuracy: 68.125.\u001b[32m [repeated 48x across cluster]\u001b[0m\n",
      "\u001b[2m\u001b[36m(ClientAppActor pid=1208103)\u001b[0m \u001b[32m [repeated 55x across cluster]\u001b[0m\n",
      "\u001b[2m\u001b[36m(ClientAppActor pid=1208103)\u001b[0m Epoch 82/100\u001b[32m [repeated 55x across cluster]\u001b[0m\n",
      "\u001b[2m\u001b[36m(ClientAppActor pid=1208103)\u001b[0m Epoch 81: Training accuracy: 77.82672882080078 Testing accuracy: 71.92982482910156.\u001b[32m [repeated 55x across cluster]\u001b[0m\n",
      "\u001b[2m\u001b[36m(ClientAppActor pid=1208102)\u001b[0m \u001b[32m [repeated 55x across cluster]\u001b[0m\n",
      "\u001b[2m\u001b[36m(ClientAppActor pid=1208102)\u001b[0m Epoch 17/100\u001b[32m [repeated 55x across cluster]\u001b[0m\n",
      "\u001b[2m\u001b[36m(ClientAppActor pid=1208102)\u001b[0m Epoch 16: Training accuracy: 76.3768081665039 Testing accuracy: 75.72254180908203.\u001b[32m [repeated 56x across cluster]\u001b[0m\n",
      "\u001b[2m\u001b[36m(ClientAppActor pid=1208102)\u001b[0m \u001b[32m [repeated 22x across cluster]\u001b[0m\n",
      "\u001b[2m\u001b[36m(ClientAppActor pid=1208102)\u001b[0m Epoch 39/100\u001b[32m [repeated 22x across cluster]\u001b[0m\n",
      "\u001b[2m\u001b[36m(ClientAppActor pid=1208102)\u001b[0m Epoch 38: Training accuracy: 80.72463989257812 Testing accuracy: 73.98844146728516.\u001b[32m [repeated 22x across cluster]\u001b[0m\n",
      "\u001b[2m\u001b[36m(ClientAppActor pid=1208102)\u001b[0m \u001b[32m [repeated 26x across cluster]\u001b[0m\n",
      "\u001b[2m\u001b[36m(ClientAppActor pid=1208102)\u001b[0m Epoch 65/100\u001b[32m [repeated 26x across cluster]\u001b[0m\n",
      "\u001b[2m\u001b[36m(ClientAppActor pid=1208102)\u001b[0m Epoch 64: Training accuracy: 79.71014404296875 Testing accuracy: 76.30057525634766.\u001b[32m [repeated 26x across cluster]\u001b[0m\n",
      "\u001b[2m\u001b[36m(ClientAppActor pid=1208102)\u001b[0m \u001b[32m [repeated 23x across cluster]\u001b[0m\n",
      "\u001b[2m\u001b[36m(ClientAppActor pid=1208102)\u001b[0m Epoch 88/100\u001b[32m [repeated 23x across cluster]\u001b[0m\n",
      "\u001b[2m\u001b[36m(ClientAppActor pid=1208102)\u001b[0m Epoch 87: Training accuracy: 82.89855194091797 Testing accuracy: 69.94219970703125.\u001b[32m [repeated 23x across cluster]\u001b[0m\n"
     ]
    },
    {
     "name": "stderr",
     "output_type": "stream",
     "text": [
      "\u001b[92mINFO \u001b[0m:      aggregate_fit: received 4 results and 0 failures\n",
      "\u001b[92mINFO \u001b[0m:      fit progress: (3, 0.03279493486180025, {'accuracy': tensor(72.2753, device='cuda:0')}, 147.45727477299806)\n",
      "\u001b[92mINFO \u001b[0m:      configure_evaluate: strategy sampled 2 clients (out of 4)\n"
     ]
    },
    {
     "name": "stdout",
     "output_type": "stream",
     "text": [
      "Server-side evaluation loss 0.03279493486180025 / accuracy 72.27533721923828\n"
     ]
    },
    {
     "name": "stderr",
     "output_type": "stream",
     "text": [
      "\u001b[92mINFO \u001b[0m:      aggregate_evaluate: received 2 results and 0 failures\n",
      "\u001b[92mINFO \u001b[0m:      \n",
      "\u001b[92mINFO \u001b[0m:      [ROUND 4]\n",
      "\u001b[92mINFO \u001b[0m:      configure_fit: strategy sampled 4 clients (out of 4)\n"
     ]
    },
    {
     "name": "stdout",
     "output_type": "stream",
     "text": [
      "\u001b[2m\u001b[36m(ClientAppActor pid=1208103)\u001b[0m \u001b[32m [repeated 33x across cluster]\u001b[0m\n",
      "\u001b[2m\u001b[36m(ClientAppActor pid=1208103)\u001b[0m Epoch 8/100\u001b[32m [repeated 33x across cluster]\u001b[0m\n",
      "\u001b[2m\u001b[36m(ClientAppActor pid=1208103)\u001b[0m Epoch 7: Training accuracy: 76.23188781738281 Testing accuracy: 73.98844146728516.\u001b[32m [repeated 32x across cluster]\u001b[0m\n",
      "\u001b[2m\u001b[36m(ClientAppActor pid=1208102)\u001b[0m \u001b[32m [repeated 37x across cluster]\u001b[0m\n",
      "\u001b[2m\u001b[36m(ClientAppActor pid=1208102)\u001b[0m Epoch 35/100\u001b[32m [repeated 37x across cluster]\u001b[0m\n",
      "\u001b[2m\u001b[36m(ClientAppActor pid=1208102)\u001b[0m Epoch 34: Training accuracy: 74.74302673339844 Testing accuracy: 71.92982482910156.\u001b[32m [repeated 37x across cluster]\u001b[0m\n",
      "\u001b[2m\u001b[36m(ClientAppActor pid=1208102)\u001b[0m \u001b[32m [repeated 24x across cluster]\u001b[0m\n",
      "\u001b[2m\u001b[36m(ClientAppActor pid=1208102)\u001b[0m Epoch 49/100\u001b[32m [repeated 24x across cluster]\u001b[0m\n",
      "\u001b[2m\u001b[36m(ClientAppActor pid=1208102)\u001b[0m Epoch 48: Training accuracy: 82.37885284423828 Testing accuracy: 76.60818481445312.\u001b[32m [repeated 24x across cluster]\u001b[0m\n",
      "\u001b[2m\u001b[36m(ClientAppActor pid=1208103)\u001b[0m \u001b[32m [repeated 27x across cluster]\u001b[0m\n",
      "\u001b[2m\u001b[36m(ClientAppActor pid=1208103)\u001b[0m Epoch 46/100\u001b[32m [repeated 27x across cluster]\u001b[0m\n",
      "\u001b[2m\u001b[36m(ClientAppActor pid=1208103)\u001b[0m Epoch 45: Training accuracy: 84.34782409667969 Testing accuracy: 75.72254180908203.\u001b[32m [repeated 27x across cluster]\u001b[0m\n",
      "\u001b[2m\u001b[36m(ClientAppActor pid=1208103)\u001b[0m \u001b[32m [repeated 26x across cluster]\u001b[0m\n",
      "\u001b[2m\u001b[36m(ClientAppActor pid=1208103)\u001b[0m Epoch 56/100\u001b[32m [repeated 26x across cluster]\u001b[0m\n",
      "\u001b[2m\u001b[36m(ClientAppActor pid=1208103)\u001b[0m Epoch 55: Training accuracy: 84.78260803222656 Testing accuracy: 76.30057525634766.\u001b[32m [repeated 26x across cluster]\u001b[0m\n",
      "\u001b[2m\u001b[36m(ClientAppActor pid=1208102)\u001b[0m \u001b[32m [repeated 27x across cluster]\u001b[0m\n",
      "\u001b[2m\u001b[36m(ClientAppActor pid=1208102)\u001b[0m Epoch 94/100\u001b[32m [repeated 27x across cluster]\u001b[0m\n",
      "\u001b[2m\u001b[36m(ClientAppActor pid=1208102)\u001b[0m Epoch 93: Training accuracy: 82.67253875732422 Testing accuracy: 75.4385986328125.\u001b[32m [repeated 27x across cluster]\u001b[0m\n",
      "\u001b[2m\u001b[36m(ClientAppActor pid=1208103)\u001b[0m \u001b[32m [repeated 23x across cluster]\u001b[0m\n",
      "\u001b[2m\u001b[36m(ClientAppActor pid=1208103)\u001b[0m Epoch 79/100\u001b[32m [repeated 23x across cluster]\u001b[0m\n",
      "\u001b[2m\u001b[36m(ClientAppActor pid=1208103)\u001b[0m Epoch 78: Training accuracy: 85.07246398925781 Testing accuracy: 73.41040802001953.\u001b[32m [repeated 23x across cluster]\u001b[0m\n",
      "\u001b[2m\u001b[36m(ClientAppActor pid=1208103)\u001b[0m \u001b[32m [repeated 26x across cluster]\u001b[0m\n",
      "\u001b[2m\u001b[36m(ClientAppActor pid=1208103)\u001b[0m Epoch 92/100\u001b[32m [repeated 26x across cluster]\u001b[0m\n",
      "\u001b[2m\u001b[36m(ClientAppActor pid=1208103)\u001b[0m Epoch 91: Training accuracy: 85.94203186035156 Testing accuracy: 72.83236694335938.\u001b[32m [repeated 26x across cluster]\u001b[0m\n",
      "\u001b[2m\u001b[36m(ClientAppActor pid=1208102)\u001b[0m \u001b[32m [repeated 22x across cluster]\u001b[0m\n",
      "\u001b[2m\u001b[36m(ClientAppActor pid=1208102)\u001b[0m Epoch 32/100\u001b[32m [repeated 22x across cluster]\u001b[0m\n",
      "\u001b[2m\u001b[36m(ClientAppActor pid=1208102)\u001b[0m Epoch 31: Training accuracy: 81.16114044189453 Testing accuracy: 73.58490753173828.\u001b[32m [repeated 22x across cluster]\u001b[0m\n",
      "\u001b[2m\u001b[36m(ClientAppActor pid=1208102)\u001b[0m \u001b[32m [repeated 25x across cluster]\u001b[0m\n",
      "\u001b[2m\u001b[36m(ClientAppActor pid=1208102)\u001b[0m Epoch 44/100\u001b[32m [repeated 25x across cluster]\u001b[0m\n",
      "\u001b[2m\u001b[36m(ClientAppActor pid=1208102)\u001b[0m Epoch 43: Training accuracy: 78.79146575927734 Testing accuracy: 67.92453002929688.\u001b[32m [repeated 25x across cluster]\u001b[0m\n",
      "\u001b[2m\u001b[36m(ClientAppActor pid=1208103)\u001b[0m \u001b[32m [repeated 24x across cluster]\u001b[0m\n",
      "\u001b[2m\u001b[36m(ClientAppActor pid=1208103)\u001b[0m Epoch 26/100\u001b[32m [repeated 24x across cluster]\u001b[0m\n",
      "\u001b[2m\u001b[36m(ClientAppActor pid=1208103)\u001b[0m Epoch 25: Training accuracy: 80.21977996826172 Testing accuracy: 77.5.\u001b[32m [repeated 24x across cluster]\u001b[0m\n",
      "\u001b[2m\u001b[36m(ClientAppActor pid=1208102)\u001b[0m \u001b[32m [repeated 27x across cluster]\u001b[0m\n",
      "\u001b[2m\u001b[36m(ClientAppActor pid=1208102)\u001b[0m Epoch 68/100\u001b[32m [repeated 27x across cluster]\u001b[0m\n",
      "\u001b[2m\u001b[36m(ClientAppActor pid=1208102)\u001b[0m Epoch 67: Training accuracy: 80.45023345947266 Testing accuracy: 75.0.\u001b[32m [repeated 27x across cluster]\u001b[0m\n",
      "\u001b[2m\u001b[36m(ClientAppActor pid=1208103)\u001b[0m \u001b[32m [repeated 29x across cluster]\u001b[0m\n",
      "\u001b[2m\u001b[36m(ClientAppActor pid=1208103)\u001b[0m Epoch 57/100\u001b[32m [repeated 29x across cluster]\u001b[0m\n",
      "\u001b[2m\u001b[36m(ClientAppActor pid=1208103)\u001b[0m Epoch 56: Training accuracy: 80.84772491455078 Testing accuracy: 74.375.\u001b[32m [repeated 29x across cluster]\u001b[0m\n",
      "\u001b[2m\u001b[36m(ClientAppActor pid=1208103)\u001b[0m \u001b[32m [repeated 38x across cluster]\u001b[0m\n",
      "\u001b[2m\u001b[36m(ClientAppActor pid=1208103)\u001b[0m Epoch 76/100\u001b[32m [repeated 38x across cluster]\u001b[0m\n",
      "\u001b[2m\u001b[36m(ClientAppActor pid=1208103)\u001b[0m Epoch 75: Training accuracy: 81.94662475585938 Testing accuracy: 77.5.\u001b[32m [repeated 39x across cluster]\u001b[0m\n"
     ]
    },
    {
     "name": "stderr",
     "output_type": "stream",
     "text": [
      "\u001b[92mINFO \u001b[0m:      aggregate_fit: received 4 results and 0 failures\n",
      "\u001b[92mINFO \u001b[0m:      fit progress: (4, 0.03255872866686653, {'accuracy': tensor(73.4226, device='cuda:0')}, 222.39692576200468)\n",
      "\u001b[92mINFO \u001b[0m:      configure_evaluate: strategy sampled 2 clients (out of 4)\n",
      "\u001b[92mINFO \u001b[0m:      aggregate_evaluate: received 2 results and 0 failures\n",
      "\u001b[92mINFO \u001b[0m:      \n",
      "\u001b[92mINFO \u001b[0m:      [ROUND 5]\n",
      "\u001b[92mINFO \u001b[0m:      configure_fit: strategy sampled 4 clients (out of 4)\n"
     ]
    },
    {
     "name": "stdout",
     "output_type": "stream",
     "text": [
      "Server-side evaluation loss 0.03255872866686653 / accuracy 73.42256164550781\n",
      "\u001b[2m\u001b[36m(ClientAppActor pid=1208103)\u001b[0m \u001b[32m [repeated 34x across cluster]\u001b[0m\n",
      "\u001b[2m\u001b[36m(ClientAppActor pid=1208103)\u001b[0m Epoch 2/100\u001b[32m [repeated 34x across cluster]\u001b[0m\n",
      "\u001b[2m\u001b[36m(ClientAppActor pid=1208103)\u001b[0m Epoch 1: Training accuracy: 72.2748794555664 Testing accuracy: 65.5660400390625.\u001b[32m [repeated 33x across cluster]\u001b[0m\n",
      "\u001b[2m\u001b[36m(ClientAppActor pid=1208102)\u001b[0m \u001b[32m [repeated 145x across cluster]\u001b[0m\n",
      "\u001b[2m\u001b[36m(ClientAppActor pid=1208102)\u001b[0m Epoch 37/100\u001b[32m [repeated 145x across cluster]\u001b[0m\n",
      "\u001b[2m\u001b[36m(ClientAppActor pid=1208102)\u001b[0m Epoch 36: Training accuracy: 83.3594970703125 Testing accuracy: 78.75.\u001b[32m [repeated 145x across cluster]\u001b[0m\n",
      "\u001b[2m\u001b[36m(ClientAppActor pid=1208103)\u001b[0m \u001b[32m [repeated 61x across cluster]\u001b[0m\n",
      "\u001b[2m\u001b[36m(ClientAppActor pid=1208103)\u001b[0m Epoch 35/100\u001b[32m [repeated 61x across cluster]\u001b[0m\n",
      "\u001b[2m\u001b[36m(ClientAppActor pid=1208103)\u001b[0m Epoch 34: Training accuracy: 83.8862533569336 Testing accuracy: 76.41509246826172.\u001b[32m [repeated 61x across cluster]\u001b[0m\n",
      "\u001b[2m\u001b[36m(ClientAppActor pid=1208102)\u001b[0m \u001b[32m [repeated 64x across cluster]\u001b[0m\n",
      "\u001b[2m\u001b[36m(ClientAppActor pid=1208102)\u001b[0m Epoch 32/100\u001b[32m [repeated 64x across cluster]\u001b[0m\n",
      "\u001b[2m\u001b[36m(ClientAppActor pid=1208102)\u001b[0m Epoch 31: Training accuracy: 80.76358032226562 Testing accuracy: 77.77777862548828.\u001b[32m [repeated 64x across cluster]\u001b[0m\n",
      "\u001b[2m\u001b[36m(ClientAppActor pid=1208102)\u001b[0m \u001b[32m [repeated 63x across cluster]\u001b[0m\n",
      "\u001b[2m\u001b[36m(ClientAppActor pid=1208102)\u001b[0m Epoch 79/100\u001b[32m [repeated 63x across cluster]\u001b[0m\n",
      "\u001b[2m\u001b[36m(ClientAppActor pid=1208102)\u001b[0m Epoch 78: Training accuracy: 84.43465423583984 Testing accuracy: 75.4385986328125.\u001b[32m [repeated 63x across cluster]\u001b[0m\n",
      "\u001b[2m\u001b[36m(ClientAppActor pid=1208103)\u001b[0m \u001b[32m [repeated 41x across cluster]\u001b[0m\n",
      "\u001b[2m\u001b[36m(ClientAppActor pid=1208103)\u001b[0m Epoch 84/100\u001b[32m [repeated 41x across cluster]\u001b[0m\n",
      "\u001b[2m\u001b[36m(ClientAppActor pid=1208103)\u001b[0m Epoch 83: Training accuracy: 81.51658630371094 Testing accuracy: 75.0.\u001b[32m [repeated 42x across cluster]\u001b[0m\n"
     ]
    },
    {
     "name": "stderr",
     "output_type": "stream",
     "text": [
      "\u001b[92mINFO \u001b[0m:      aggregate_fit: received 4 results and 0 failures\n",
      "\u001b[92mINFO \u001b[0m:      fit progress: (5, 0.03170698881149292, {'accuracy': tensor(75.0478, device='cuda:0')}, 253.21213522700418)\n",
      "\u001b[92mINFO \u001b[0m:      configure_evaluate: strategy sampled 2 clients (out of 4)\n",
      "\u001b[92mINFO \u001b[0m:      aggregate_evaluate: received 2 results and 0 failures\n",
      "\u001b[92mINFO \u001b[0m:      \n",
      "\u001b[92mINFO \u001b[0m:      [ROUND 6]\n",
      "\u001b[92mINFO \u001b[0m:      configure_fit: strategy sampled 4 clients (out of 4)\n"
     ]
    },
    {
     "name": "stdout",
     "output_type": "stream",
     "text": [
      "Server-side evaluation loss 0.03170698881149292 / accuracy 75.04779815673828\n",
      "\u001b[2m\u001b[36m(ClientAppActor pid=1208102)\u001b[0m \u001b[32m [repeated 17x across cluster]\u001b[0m\n",
      "\u001b[2m\u001b[36m(ClientAppActor pid=1208102)\u001b[0m Epoch 1/100\u001b[32m [repeated 17x across cluster]\u001b[0m\n",
      "\u001b[2m\u001b[36m(ClientAppActor pid=1208103)\u001b[0m Epoch 100: Training accuracy: 79.3838882446289 Testing accuracy: 71.69811248779297.\u001b[32m [repeated 17x across cluster]\u001b[0m\n",
      "\u001b[2m\u001b[36m(ClientAppActor pid=1208102)\u001b[0m \u001b[32m [repeated 37x across cluster]\u001b[0m\n",
      "\u001b[2m\u001b[36m(ClientAppActor pid=1208102)\u001b[0m Epoch 20/100\u001b[32m [repeated 37x across cluster]\u001b[0m\n",
      "\u001b[2m\u001b[36m(ClientAppActor pid=1208102)\u001b[0m Epoch 19: Training accuracy: 82.4637680053711 Testing accuracy: 76.87861633300781.\u001b[32m [repeated 36x across cluster]\u001b[0m\n",
      "\u001b[2m\u001b[36m(ClientAppActor pid=1208103)\u001b[0m \u001b[32m [repeated 24x across cluster]\u001b[0m\n",
      "\u001b[2m\u001b[36m(ClientAppActor pid=1208103)\u001b[0m Epoch 27/100\u001b[32m [repeated 24x across cluster]\u001b[0m\n",
      "\u001b[2m\u001b[36m(ClientAppActor pid=1208103)\u001b[0m Epoch 26: Training accuracy: 83.53080749511719 Testing accuracy: 77.35848999023438.\u001b[32m [repeated 24x across cluster]\u001b[0m\n",
      "\u001b[2m\u001b[36m(ClientAppActor pid=1208102)\u001b[0m \u001b[32m [repeated 32x across cluster]\u001b[0m\n",
      "\u001b[2m\u001b[36m(ClientAppActor pid=1208102)\u001b[0m Epoch 57/100\u001b[32m [repeated 32x across cluster]\u001b[0m\n",
      "\u001b[2m\u001b[36m(ClientAppActor pid=1208102)\u001b[0m Epoch 56: Training accuracy: 83.6231918334961 Testing accuracy: 74.56647491455078.\u001b[32m [repeated 32x across cluster]\u001b[0m\n",
      "\u001b[2m\u001b[36m(ClientAppActor pid=1208102)\u001b[0m \u001b[32m [repeated 35x across cluster]\u001b[0m\n",
      "\u001b[2m\u001b[36m(ClientAppActor pid=1208102)\u001b[0m Epoch 78/100\u001b[32m [repeated 35x across cluster]\u001b[0m\n",
      "\u001b[2m\u001b[36m(ClientAppActor pid=1208102)\u001b[0m Epoch 77: Training accuracy: 85.79710388183594 Testing accuracy: 72.83236694335938.\u001b[32m [repeated 35x across cluster]\u001b[0m\n",
      "\u001b[2m\u001b[36m(ClientAppActor pid=1208102)\u001b[0m \u001b[32m [repeated 41x across cluster]\u001b[0m\n",
      "\u001b[2m\u001b[36m(ClientAppActor pid=1208102)\u001b[0m Epoch 5/100\u001b[32m [repeated 41x across cluster]\u001b[0m\n",
      "\u001b[2m\u001b[36m(ClientAppActor pid=1208102)\u001b[0m Epoch 4: Training accuracy: 77.09251403808594 Testing accuracy: 77.77777862548828.\u001b[32m [repeated 41x across cluster]\u001b[0m\n",
      "\u001b[2m\u001b[36m(ClientAppActor pid=1208102)\u001b[0m \u001b[32m [repeated 39x across cluster]\u001b[0m\n",
      "\u001b[2m\u001b[36m(ClientAppActor pid=1208102)\u001b[0m Epoch 30/100\u001b[32m [repeated 39x across cluster]\u001b[0m\n",
      "\u001b[2m\u001b[36m(ClientAppActor pid=1208102)\u001b[0m Epoch 29: Training accuracy: 82.81938171386719 Testing accuracy: 77.19298553466797.\u001b[32m [repeated 39x across cluster]\u001b[0m\n",
      "\u001b[2m\u001b[36m(ClientAppActor pid=1208103)\u001b[0m \u001b[32m [repeated 22x across cluster]\u001b[0m\n",
      "\u001b[2m\u001b[36m(ClientAppActor pid=1208103)\u001b[0m Epoch 89/100\u001b[32m [repeated 22x across cluster]\u001b[0m\n",
      "\u001b[2m\u001b[36m(ClientAppActor pid=1208103)\u001b[0m Epoch 88: Training accuracy: 85.5450210571289 Testing accuracy: 75.0.\u001b[32m [repeated 22x across cluster]\u001b[0m\n",
      "\u001b[2m\u001b[36m(ClientAppActor pid=1208103)\u001b[0m \u001b[32m [repeated 28x across cluster]\u001b[0m\n",
      "\u001b[2m\u001b[36m(ClientAppActor pid=1208103)\u001b[0m Epoch 1/100\u001b[32m [repeated 28x across cluster]\u001b[0m\n",
      "\u001b[2m\u001b[36m(ClientAppActor pid=1208103)\u001b[0m Epoch 100: Training accuracy: 82.70142364501953 Testing accuracy: 68.86792755126953.\u001b[32m [repeated 28x across cluster]\u001b[0m\n",
      "\u001b[2m\u001b[36m(ClientAppActor pid=1208103)\u001b[0m \u001b[32m [repeated 29x across cluster]\u001b[0m\n",
      "\u001b[2m\u001b[36m(ClientAppActor pid=1208103)\u001b[0m Epoch 15/100\u001b[32m [repeated 29x across cluster]\u001b[0m\n",
      "\u001b[2m\u001b[36m(ClientAppActor pid=1208103)\u001b[0m Epoch 14: Training accuracy: 81.00470733642578 Testing accuracy: 77.5.\u001b[32m [repeated 29x across cluster]\u001b[0m\n",
      "\u001b[2m\u001b[36m(ClientAppActor pid=1208103)\u001b[0m \u001b[32m [repeated 31x across cluster]\u001b[0m\n",
      "\u001b[2m\u001b[36m(ClientAppActor pid=1208103)\u001b[0m Epoch 31/100\u001b[32m [repeated 31x across cluster]\u001b[0m\n",
      "\u001b[2m\u001b[36m(ClientAppActor pid=1208103)\u001b[0m Epoch 30: Training accuracy: 81.31867980957031 Testing accuracy: 78.75.\u001b[32m [repeated 31x across cluster]\u001b[0m\n",
      "\u001b[2m\u001b[36m(ClientAppActor pid=1208103)\u001b[0m \u001b[32m [repeated 29x across cluster]\u001b[0m\n",
      "\u001b[2m\u001b[36m(ClientAppActor pid=1208103)\u001b[0m Epoch 48/100\u001b[32m [repeated 29x across cluster]\u001b[0m\n",
      "\u001b[2m\u001b[36m(ClientAppActor pid=1208103)\u001b[0m Epoch 47: Training accuracy: 76.7660903930664 Testing accuracy: 71.25.\u001b[32m [repeated 30x across cluster]\u001b[0m\n",
      "\u001b[2m\u001b[36m(ClientAppActor pid=1208103)\u001b[0m \u001b[32m [repeated 14x across cluster]\u001b[0m\n",
      "\u001b[2m\u001b[36m(ClientAppActor pid=1208103)\u001b[0m Epoch 62/100\u001b[32m [repeated 14x across cluster]\u001b[0m\n",
      "\u001b[2m\u001b[36m(ClientAppActor pid=1208103)\u001b[0m Epoch 61: Training accuracy: 81.47566986083984 Testing accuracy: 76.875.\u001b[32m [repeated 14x across cluster]\u001b[0m\n",
      "\u001b[2m\u001b[36m(ClientAppActor pid=1208103)\u001b[0m \u001b[32m [repeated 17x across cluster]\u001b[0m\n",
      "\u001b[2m\u001b[36m(ClientAppActor pid=1208103)\u001b[0m Epoch 79/100\u001b[32m [repeated 17x across cluster]\u001b[0m\n",
      "\u001b[2m\u001b[36m(ClientAppActor pid=1208103)\u001b[0m Epoch 78: Training accuracy: 84.92935943603516 Testing accuracy: 79.375.\u001b[32m [repeated 17x across cluster]\u001b[0m\n",
      "\u001b[2m\u001b[36m(ClientAppActor pid=1208103)\u001b[0m \u001b[32m [repeated 16x across cluster]\u001b[0m\n",
      "\u001b[2m\u001b[36m(ClientAppActor pid=1208103)\u001b[0m Epoch 95/100\u001b[32m [repeated 16x across cluster]\u001b[0m\n",
      "\u001b[2m\u001b[36m(ClientAppActor pid=1208103)\u001b[0m Epoch 94: Training accuracy: 83.2025146484375 Testing accuracy: 77.5.\u001b[32m [repeated 16x across cluster]\u001b[0m\n"
     ]
    },
    {
     "name": "stderr",
     "output_type": "stream",
     "text": [
      "\u001b[92mINFO \u001b[0m:      aggregate_fit: received 4 results and 0 failures\n",
      "\u001b[92mINFO \u001b[0m:      fit progress: (6, 0.03257578260758344, {'accuracy': tensor(74.1874, device='cuda:0')}, 327.5982695190032)\n",
      "\u001b[92mINFO \u001b[0m:      configure_evaluate: strategy sampled 2 clients (out of 4)\n"
     ]
    },
    {
     "name": "stdout",
     "output_type": "stream",
     "text": [
      "Server-side evaluation loss 0.03257578260758344 / accuracy 74.1873779296875\n"
     ]
    },
    {
     "name": "stderr",
     "output_type": "stream",
     "text": [
      "\u001b[92mINFO \u001b[0m:      aggregate_evaluate: received 2 results and 0 failures\n",
      "\u001b[92mINFO \u001b[0m:      \n",
      "\u001b[92mINFO \u001b[0m:      [ROUND 7]\n",
      "\u001b[92mINFO \u001b[0m:      configure_fit: strategy sampled 4 clients (out of 4)\n"
     ]
    },
    {
     "name": "stdout",
     "output_type": "stream",
     "text": [
      "\u001b[2m\u001b[36m(ClientAppActor pid=1208102)\u001b[0m \u001b[32m [repeated 21x across cluster]\u001b[0m\n",
      "\u001b[2m\u001b[36m(ClientAppActor pid=1208102)\u001b[0m Epoch 10/100\u001b[32m [repeated 21x across cluster]\u001b[0m\n",
      "\u001b[2m\u001b[36m(ClientAppActor pid=1208102)\u001b[0m Epoch 9: Training accuracy: 81.27961730957031 Testing accuracy: 75.94339752197266.\u001b[32m [repeated 20x across cluster]\u001b[0m\n",
      "\u001b[2m\u001b[36m(ClientAppActor pid=1208102)\u001b[0m \u001b[32m [repeated 43x across cluster]\u001b[0m\n",
      "\u001b[2m\u001b[36m(ClientAppActor pid=1208102)\u001b[0m Epoch 38/100\u001b[32m [repeated 43x across cluster]\u001b[0m\n",
      "\u001b[2m\u001b[36m(ClientAppActor pid=1208102)\u001b[0m Epoch 37: Training accuracy: 83.6492919921875 Testing accuracy: 76.41509246826172.\u001b[32m [repeated 43x across cluster]\u001b[0m\n",
      "\u001b[2m\u001b[36m(ClientAppActor pid=1208103)\u001b[0m \u001b[32m [repeated 226x across cluster]\u001b[0m\n",
      "\u001b[2m\u001b[36m(ClientAppActor pid=1208103)\u001b[0m Epoch 35/100\u001b[32m [repeated 226x across cluster]\u001b[0m\n",
      "\u001b[2m\u001b[36m(ClientAppActor pid=1208103)\u001b[0m Epoch 34: Training accuracy: 82.52569580078125 Testing accuracy: 76.02339172363281.\u001b[32m [repeated 226x across cluster]\u001b[0m\n",
      "\u001b[2m\u001b[36m(ClientAppActor pid=1208103)\u001b[0m \u001b[32m [repeated 74x across cluster]\u001b[0m\n",
      "\u001b[2m\u001b[36m(ClientAppActor pid=1208103)\u001b[0m Epoch 59/100\u001b[32m [repeated 74x across cluster]\u001b[0m\n",
      "\u001b[2m\u001b[36m(ClientAppActor pid=1208103)\u001b[0m Epoch 58: Training accuracy: 84.87518310546875 Testing accuracy: 74.85379791259766.\u001b[32m [repeated 75x across cluster]\u001b[0m\n",
      "\u001b[2m\u001b[36m(ClientAppActor pid=1208103)\u001b[0m \u001b[32m [repeated 25x across cluster]\u001b[0m\n",
      "\u001b[2m\u001b[36m(ClientAppActor pid=1208103)\u001b[0m Epoch 84/100\u001b[32m [repeated 25x across cluster]\u001b[0m\n",
      "\u001b[2m\u001b[36m(ClientAppActor pid=1208103)\u001b[0m Epoch 83: Training accuracy: 84.1409683227539 Testing accuracy: 74.26900482177734.\u001b[32m [repeated 25x across cluster]\u001b[0m\n"
     ]
    },
    {
     "name": "stderr",
     "output_type": "stream",
     "text": [
      "\u001b[92mINFO \u001b[0m:      aggregate_fit: received 4 results and 0 failures\n",
      "\u001b[92mINFO \u001b[0m:      fit progress: (7, 0.03150271668153651, {'accuracy': tensor(75.4302, device='cuda:0')}, 356.23888259299565)\n",
      "\u001b[92mINFO \u001b[0m:      configure_evaluate: strategy sampled 2 clients (out of 4)\n"
     ]
    },
    {
     "name": "stdout",
     "output_type": "stream",
     "text": [
      "Server-side evaluation loss 0.03150271668153651 / accuracy 75.43021392822266\n"
     ]
    },
    {
     "name": "stderr",
     "output_type": "stream",
     "text": [
      "\u001b[92mINFO \u001b[0m:      aggregate_evaluate: received 2 results and 0 failures\n",
      "\u001b[92mINFO \u001b[0m:      \n",
      "\u001b[92mINFO \u001b[0m:      [ROUND 8]\n",
      "\u001b[92mINFO \u001b[0m:      configure_fit: strategy sampled 4 clients (out of 4)\n"
     ]
    },
    {
     "name": "stdout",
     "output_type": "stream",
     "text": [
      "\u001b[2m\u001b[36m(ClientAppActor pid=1208103)\u001b[0m \u001b[32m [repeated 17x across cluster]\u001b[0m\n",
      "\u001b[2m\u001b[36m(ClientAppActor pid=1208103)\u001b[0m Epoch 1/100\u001b[32m [repeated 17x across cluster]\u001b[0m\n",
      "\u001b[2m\u001b[36m(ClientAppActor pid=1208103)\u001b[0m Epoch 100: Training accuracy: 84.43465423583984 Testing accuracy: 74.85379791259766.\u001b[32m [repeated 17x across cluster]\u001b[0m\n",
      "\u001b[2m\u001b[36m(ClientAppActor pid=1208103)\u001b[0m \u001b[32m [repeated 49x across cluster]\u001b[0m\n",
      "\u001b[2m\u001b[36m(ClientAppActor pid=1208103)\u001b[0m Epoch 20/100\u001b[32m [repeated 49x across cluster]\u001b[0m\n",
      "\u001b[2m\u001b[36m(ClientAppActor pid=1208103)\u001b[0m Epoch 19: Training accuracy: 82.96622467041016 Testing accuracy: 78.3625717163086.\u001b[32m [repeated 48x across cluster]\u001b[0m\n",
      "\u001b[2m\u001b[36m(ClientAppActor pid=1208102)\u001b[0m \u001b[32m [repeated 52x across cluster]\u001b[0m\n",
      "\u001b[2m\u001b[36m(ClientAppActor pid=1208102)\u001b[0m Epoch 63/100\u001b[32m [repeated 52x across cluster]\u001b[0m\n",
      "\u001b[2m\u001b[36m(ClientAppActor pid=1208102)\u001b[0m Epoch 62: Training accuracy: 86.7298583984375 Testing accuracy: 76.88679504394531.\u001b[32m [repeated 52x across cluster]\u001b[0m\n",
      "\u001b[2m\u001b[36m(ClientAppActor pid=1208102)\u001b[0m \u001b[32m [repeated 56x across cluster]\u001b[0m\n",
      "\u001b[2m\u001b[36m(ClientAppActor pid=1208102)\u001b[0m Epoch 99/100\u001b[32m [repeated 56x across cluster]\u001b[0m\n",
      "\u001b[2m\u001b[36m(ClientAppActor pid=1208102)\u001b[0m Epoch 98: Training accuracy: 83.53080749511719 Testing accuracy: 71.2264175415039.\u001b[32m [repeated 56x across cluster]\u001b[0m\n",
      "\u001b[2m\u001b[36m(ClientAppActor pid=1208103)\u001b[0m \u001b[32m [repeated 57x across cluster]\u001b[0m\n",
      "\u001b[2m\u001b[36m(ClientAppActor pid=1208103)\u001b[0m Epoch 78/100\u001b[32m [repeated 57x across cluster]\u001b[0m\n",
      "\u001b[2m\u001b[36m(ClientAppActor pid=1208103)\u001b[0m Epoch 77: Training accuracy: 85.75624084472656 Testing accuracy: 77.19298553466797.\u001b[32m [repeated 57x across cluster]\u001b[0m\n",
      "\u001b[2m\u001b[36m(ClientAppActor pid=1208102)\u001b[0m \u001b[32m [repeated 60x across cluster]\u001b[0m\n",
      "\u001b[2m\u001b[36m(ClientAppActor pid=1208102)\u001b[0m Epoch 78/100\u001b[32m [repeated 60x across cluster]\u001b[0m\n",
      "\u001b[2m\u001b[36m(ClientAppActor pid=1208102)\u001b[0m Epoch 77: Training accuracy: 84.3014144897461 Testing accuracy: 77.5.\u001b[32m [repeated 60x across cluster]\u001b[0m\n",
      "\u001b[2m\u001b[36m(ClientAppActor pid=1208103)\u001b[0m \u001b[32m [repeated 40x across cluster]\u001b[0m\n",
      "\u001b[2m\u001b[36m(ClientAppActor pid=1208103)\u001b[0m Epoch 15/100\u001b[32m [repeated 40x across cluster]\u001b[0m\n",
      "\u001b[2m\u001b[36m(ClientAppActor pid=1208103)\u001b[0m Epoch 14: Training accuracy: 83.33333587646484 Testing accuracy: 76.30057525634766.\u001b[32m [repeated 41x across cluster]\u001b[0m\n"
     ]
    },
    {
     "name": "stderr",
     "output_type": "stream",
     "text": [
      "\u001b[92mINFO \u001b[0m:      aggregate_fit: received 4 results and 0 failures\n",
      "\u001b[92mINFO \u001b[0m:      fit progress: (8, 0.03244777637369493, {'accuracy': tensor(73.0402, device='cuda:0')}, 389.3499053620035)\n",
      "\u001b[92mINFO \u001b[0m:      configure_evaluate: strategy sampled 2 clients (out of 4)\n",
      "\u001b[92mINFO \u001b[0m:      aggregate_evaluate: received 2 results and 0 failures\n",
      "\u001b[92mINFO \u001b[0m:      \n",
      "\u001b[92mINFO \u001b[0m:      [ROUND 9]\n",
      "\u001b[92mINFO \u001b[0m:      configure_fit: strategy sampled 4 clients (out of 4)\n"
     ]
    },
    {
     "name": "stdout",
     "output_type": "stream",
     "text": [
      "Server-side evaluation loss 0.03244777637369493 / accuracy 73.04015350341797\n",
      "\u001b[2m\u001b[36m(ClientAppActor pid=1208103)\u001b[0m \u001b[32m [repeated 230x across cluster]\u001b[0m\n",
      "\u001b[2m\u001b[36m(ClientAppActor pid=1208103)\u001b[0m Epoch 9/100\u001b[32m [repeated 230x across cluster]\u001b[0m\n",
      "\u001b[2m\u001b[36m(ClientAppActor pid=1208103)\u001b[0m Epoch 8: Training accuracy: 81.16114044189453 Testing accuracy: 72.64151000976562.\u001b[32m [repeated 229x across cluster]\u001b[0m\n",
      "\u001b[2m\u001b[36m(ClientAppActor pid=1208103)\u001b[0m \u001b[32m [repeated 42x across cluster]\u001b[0m\n",
      "\u001b[2m\u001b[36m(ClientAppActor pid=1208103)\u001b[0m Epoch 25/100\u001b[32m [repeated 42x across cluster]\u001b[0m\n",
      "\u001b[2m\u001b[36m(ClientAppActor pid=1208103)\u001b[0m Epoch 24: Training accuracy: 84.47867584228516 Testing accuracy: 77.35848999023438.\u001b[32m [repeated 42x across cluster]\u001b[0m\n",
      "\u001b[2m\u001b[36m(ClientAppActor pid=1208102)\u001b[0m \u001b[32m [repeated 42x across cluster]\u001b[0m\n",
      "\u001b[2m\u001b[36m(ClientAppActor pid=1208102)\u001b[0m Epoch 91/100\u001b[32m [repeated 42x across cluster]\u001b[0m\n",
      "\u001b[2m\u001b[36m(ClientAppActor pid=1208102)\u001b[0m Epoch 90: Training accuracy: 87.24637603759766 Testing accuracy: 75.1445083618164.\u001b[32m [repeated 42x across cluster]\u001b[0m\n",
      "\u001b[2m\u001b[36m(ClientAppActor pid=1208103)\u001b[0m \u001b[32m [repeated 20x across cluster]\u001b[0m\n",
      "\u001b[2m\u001b[36m(ClientAppActor pid=1208103)\u001b[0m Epoch 47/100\u001b[32m [repeated 20x across cluster]\u001b[0m\n",
      "\u001b[2m\u001b[36m(ClientAppActor pid=1208103)\u001b[0m Epoch 46: Training accuracy: 85.78199005126953 Testing accuracy: 76.88679504394531.\u001b[32m [repeated 20x across cluster]\u001b[0m\n",
      "\u001b[2m\u001b[36m(ClientAppActor pid=1208103)\u001b[0m \u001b[32m [repeated 25x across cluster]\u001b[0m\n",
      "\u001b[2m\u001b[36m(ClientAppActor pid=1208103)\u001b[0m Epoch 56/100\u001b[32m [repeated 25x across cluster]\u001b[0m\n",
      "\u001b[2m\u001b[36m(ClientAppActor pid=1208103)\u001b[0m Epoch 55: Training accuracy: 81.87203979492188 Testing accuracy: 68.39622497558594.\u001b[32m [repeated 25x across cluster]\u001b[0m\n",
      "\u001b[2m\u001b[36m(ClientAppActor pid=1208102)\u001b[0m \u001b[32m [repeated 25x across cluster]\u001b[0m\n",
      "\u001b[2m\u001b[36m(ClientAppActor pid=1208102)\u001b[0m Epoch 35/100\u001b[32m [repeated 25x across cluster]\u001b[0m\n",
      "\u001b[2m\u001b[36m(ClientAppActor pid=1208102)\u001b[0m Epoch 34: Training accuracy: 81.7914810180664 Testing accuracy: 74.85379791259766.\u001b[32m [repeated 25x across cluster]\u001b[0m\n",
      "\u001b[2m\u001b[36m(ClientAppActor pid=1208103)\u001b[0m \u001b[32m [repeated 23x across cluster]\u001b[0m\n",
      "\u001b[2m\u001b[36m(ClientAppActor pid=1208103)\u001b[0m Epoch 75/100\u001b[32m [repeated 23x across cluster]\u001b[0m\n",
      "\u001b[2m\u001b[36m(ClientAppActor pid=1208103)\u001b[0m Epoch 74: Training accuracy: 86.25592041015625 Testing accuracy: 75.0.\u001b[32m [repeated 23x across cluster]\u001b[0m\n",
      "\u001b[2m\u001b[36m(ClientAppActor pid=1208103)\u001b[0m \u001b[32m [repeated 26x across cluster]\u001b[0m\n",
      "\u001b[2m\u001b[36m(ClientAppActor pid=1208103)\u001b[0m Epoch 83/100\u001b[32m [repeated 26x across cluster]\u001b[0m\n",
      "\u001b[2m\u001b[36m(ClientAppActor pid=1208103)\u001b[0m Epoch 82: Training accuracy: 86.37440490722656 Testing accuracy: 75.94339752197266.\u001b[32m [repeated 26x across cluster]\u001b[0m\n",
      "\u001b[2m\u001b[36m(ClientAppActor pid=1208102)\u001b[0m \u001b[32m [repeated 25x across cluster]\u001b[0m\n",
      "\u001b[2m\u001b[36m(ClientAppActor pid=1208102)\u001b[0m Epoch 81/100\u001b[32m [repeated 25x across cluster]\u001b[0m\n",
      "\u001b[2m\u001b[36m(ClientAppActor pid=1208102)\u001b[0m Epoch 80: Training accuracy: 84.58149719238281 Testing accuracy: 76.60818481445312.\u001b[32m [repeated 25x across cluster]\u001b[0m\n",
      "\u001b[2m\u001b[36m(ClientAppActor pid=1208102)\u001b[0m \u001b[32m [repeated 21x across cluster]\u001b[0m\n",
      "\u001b[2m\u001b[36m(ClientAppActor pid=1208102)\u001b[0m Epoch 94/100\u001b[32m [repeated 21x across cluster]\u001b[0m\n",
      "\u001b[2m\u001b[36m(ClientAppActor pid=1208102)\u001b[0m Epoch 93: Training accuracy: 83.84728240966797 Testing accuracy: 71.92982482910156.\u001b[32m [repeated 21x across cluster]\u001b[0m\n"
     ]
    },
    {
     "name": "stderr",
     "output_type": "stream",
     "text": [
      "\u001b[92mINFO \u001b[0m:      aggregate_fit: received 4 results and 0 failures\n",
      "\u001b[92mINFO \u001b[0m:      fit progress: (9, 0.030813203138463637, {'accuracy': tensor(74.7610, device='cuda:0')}, 440.0679098690016)\n",
      "\u001b[92mINFO \u001b[0m:      configure_evaluate: strategy sampled 2 clients (out of 4)\n"
     ]
    },
    {
     "name": "stdout",
     "output_type": "stream",
     "text": [
      "Server-side evaluation loss 0.030813203138463637 / accuracy 74.76099395751953\n"
     ]
    },
    {
     "name": "stderr",
     "output_type": "stream",
     "text": [
      "\u001b[92mINFO \u001b[0m:      aggregate_evaluate: received 2 results and 0 failures\n",
      "\u001b[92mINFO \u001b[0m:      \n",
      "\u001b[92mINFO \u001b[0m:      [ROUND 10]\n",
      "\u001b[92mINFO \u001b[0m:      configure_fit: strategy sampled 4 clients (out of 4)\n"
     ]
    },
    {
     "name": "stdout",
     "output_type": "stream",
     "text": [
      "\u001b[2m\u001b[36m(ClientAppActor pid=1208102)\u001b[0m \u001b[32m [repeated 20x across cluster]\u001b[0m\n",
      "\u001b[2m\u001b[36m(ClientAppActor pid=1208102)\u001b[0m Epoch 7/100\u001b[32m [repeated 20x across cluster]\u001b[0m\n",
      "\u001b[2m\u001b[36m(ClientAppActor pid=1208102)\u001b[0m Epoch 6: Training accuracy: 82.31884002685547 Testing accuracy: 76.30057525634766.\u001b[32m [repeated 20x across cluster]\u001b[0m\n",
      "\u001b[2m\u001b[36m(ClientAppActor pid=1208103)\u001b[0m \u001b[32m [repeated 28x across cluster]\u001b[0m\n",
      "\u001b[2m\u001b[36m(ClientAppActor pid=1208103)\u001b[0m Epoch 19/100\u001b[32m [repeated 28x across cluster]\u001b[0m\n",
      "\u001b[2m\u001b[36m(ClientAppActor pid=1208103)\u001b[0m Epoch 18: Training accuracy: 83.67346954345703 Testing accuracy: 78.75.\u001b[32m [repeated 28x across cluster]\u001b[0m\n",
      "\u001b[2m\u001b[36m(ClientAppActor pid=1208103)\u001b[0m \u001b[32m [repeated 26x across cluster]\u001b[0m\n",
      "\u001b[2m\u001b[36m(ClientAppActor pid=1208103)\u001b[0m Epoch 32/100\u001b[32m [repeated 26x across cluster]\u001b[0m\n",
      "\u001b[2m\u001b[36m(ClientAppActor pid=1208103)\u001b[0m Epoch 31: Training accuracy: 83.3594970703125 Testing accuracy: 78.125.\u001b[32m [repeated 26x across cluster]\u001b[0m\n",
      "\u001b[2m\u001b[36m(ClientAppActor pid=1208102)\u001b[0m \u001b[32m [repeated 28x across cluster]\u001b[0m\n",
      "\u001b[2m\u001b[36m(ClientAppActor pid=1208102)\u001b[0m Epoch 53/100\u001b[32m [repeated 28x across cluster]\u001b[0m\n",
      "\u001b[2m\u001b[36m(ClientAppActor pid=1208102)\u001b[0m Epoch 52: Training accuracy: 86.81159210205078 Testing accuracy: 72.83236694335938.\u001b[32m [repeated 28x across cluster]\u001b[0m\n",
      "\u001b[2m\u001b[36m(ClientAppActor pid=1208103)\u001b[0m \u001b[32m [repeated 27x across cluster]\u001b[0m\n",
      "\u001b[2m\u001b[36m(ClientAppActor pid=1208103)\u001b[0m Epoch 56/100\u001b[32m [repeated 27x across cluster]\u001b[0m\n",
      "\u001b[2m\u001b[36m(ClientAppActor pid=1208103)\u001b[0m Epoch 55: Training accuracy: 84.14442443847656 Testing accuracy: 78.125.\u001b[32m [repeated 27x across cluster]\u001b[0m\n",
      "\u001b[2m\u001b[36m(ClientAppActor pid=1208102)\u001b[0m \u001b[32m [repeated 33x across cluster]\u001b[0m\n",
      "\u001b[2m\u001b[36m(ClientAppActor pid=1208102)\u001b[0m Epoch 87/100\u001b[32m [repeated 33x across cluster]\u001b[0m\n",
      "\u001b[2m\u001b[36m(ClientAppActor pid=1208102)\u001b[0m Epoch 86: Training accuracy: 86.81159210205078 Testing accuracy: 71.67630004882812.\u001b[32m [repeated 33x across cluster]\u001b[0m\n",
      "\u001b[2m\u001b[36m(ClientAppActor pid=1208103)\u001b[0m \u001b[32m [repeated 90x across cluster]\u001b[0m\n",
      "\u001b[2m\u001b[36m(ClientAppActor pid=1208103)\u001b[0m Epoch 87/100\u001b[32m [repeated 90x across cluster]\u001b[0m\n",
      "\u001b[2m\u001b[36m(ClientAppActor pid=1208103)\u001b[0m Epoch 86: Training accuracy: 85.40031433105469 Testing accuracy: 77.5.\u001b[32m [repeated 90x across cluster]\u001b[0m\n"
     ]
    },
    {
     "name": "stderr",
     "output_type": "stream",
     "text": [
      "\u001b[92mINFO \u001b[0m:      aggregate_fit: received 4 results and 0 failures\n",
      "\u001b[92mINFO \u001b[0m:      fit progress: (10, 0.030676480601815617, {'accuracy': tensor(74.8566, device='cuda:0')}, 479.13559837099456)\n",
      "\u001b[92mINFO \u001b[0m:      configure_evaluate: strategy sampled 2 clients (out of 4)\n"
     ]
    },
    {
     "name": "stdout",
     "output_type": "stream",
     "text": [
      "\u001b[2m\u001b[36m(ClientAppActor pid=1208102)\u001b[0m \u001b[32m [repeated 154x across cluster]\u001b[0m\n",
      "\u001b[2m\u001b[36m(ClientAppActor pid=1208102)\u001b[0m Epoch 100/100\u001b[32m [repeated 154x across cluster]\u001b[0m\n",
      "\u001b[2m\u001b[36m(ClientAppActor pid=1208102)\u001b[0m Epoch 100: Training accuracy: 86.7298583984375 Testing accuracy: 78.30188751220703.\u001b[32m [repeated 156x across cluster]\u001b[0m\n",
      "Server-side evaluation loss 0.030676480601815617 / accuracy 74.85659790039062\n"
     ]
    },
    {
     "name": "stderr",
     "output_type": "stream",
     "text": [
      "\u001b[92mINFO \u001b[0m:      aggregate_evaluate: received 2 results and 0 failures\n",
      "\u001b[92mINFO \u001b[0m:      \n",
      "\u001b[92mINFO \u001b[0m:      [ROUND 11]\n",
      "\u001b[92mINFO \u001b[0m:      configure_fit: strategy sampled 4 clients (out of 4)\n"
     ]
    },
    {
     "name": "stdout",
     "output_type": "stream",
     "text": [
      "\u001b[2m\u001b[36m(ClientAppActor pid=1208102)\u001b[0m \u001b[32m [repeated 63x across cluster]\u001b[0m\n",
      "\u001b[2m\u001b[36m(ClientAppActor pid=1208102)\u001b[0m Epoch 52/100\u001b[32m [repeated 63x across cluster]\u001b[0m\n",
      "\u001b[2m\u001b[36m(ClientAppActor pid=1208102)\u001b[0m Epoch 51: Training accuracy: 84.36019134521484 Testing accuracy: 76.41509246826172.\u001b[32m [repeated 61x across cluster]\u001b[0m\n",
      "\u001b[2m\u001b[36m(ClientAppActor pid=1208102)\u001b[0m \u001b[32m [repeated 47x across cluster]\u001b[0m\n",
      "\u001b[2m\u001b[36m(ClientAppActor pid=1208102)\u001b[0m Epoch 89/100\u001b[32m [repeated 47x across cluster]\u001b[0m\n",
      "\u001b[2m\u001b[36m(ClientAppActor pid=1208102)\u001b[0m Epoch 88: Training accuracy: 81.39810180664062 Testing accuracy: 75.94339752197266.\u001b[32m [repeated 47x across cluster]\u001b[0m\n",
      "\u001b[2m\u001b[36m(ClientAppActor pid=1208102)\u001b[0m \u001b[32m [repeated 43x across cluster]\u001b[0m\n",
      "\u001b[2m\u001b[36m(ClientAppActor pid=1208102)\u001b[0m Epoch 19/100\u001b[32m [repeated 43x across cluster]\u001b[0m\n",
      "\u001b[2m\u001b[36m(ClientAppActor pid=1208102)\u001b[0m Epoch 18: Training accuracy: 85.36231994628906 Testing accuracy: 76.30057525634766.\u001b[32m [repeated 43x across cluster]\u001b[0m\n",
      "\u001b[2m\u001b[36m(ClientAppActor pid=1208103)\u001b[0m \u001b[32m [repeated 42x across cluster]\u001b[0m\n",
      "\u001b[2m\u001b[36m(ClientAppActor pid=1208103)\u001b[0m Epoch 44/100\u001b[32m [repeated 42x across cluster]\u001b[0m\n",
      "\u001b[2m\u001b[36m(ClientAppActor pid=1208103)\u001b[0m Epoch 43: Training accuracy: 81.64463806152344 Testing accuracy: 77.19298553466797.\u001b[32m [repeated 42x across cluster]\u001b[0m\n",
      "\u001b[2m\u001b[36m(ClientAppActor pid=1208103)\u001b[0m \u001b[32m [repeated 54x across cluster]\u001b[0m\n",
      "\u001b[2m\u001b[36m(ClientAppActor pid=1208103)\u001b[0m Epoch 61/100\u001b[32m [repeated 54x across cluster]\u001b[0m\n",
      "\u001b[2m\u001b[36m(ClientAppActor pid=1208103)\u001b[0m Epoch 60: Training accuracy: 85.02202606201172 Testing accuracy: 80.70175170898438.\u001b[32m [repeated 54x across cluster]\u001b[0m\n",
      "\u001b[2m\u001b[36m(ClientAppActor pid=1208103)\u001b[0m \u001b[32m [repeated 52x across cluster]\u001b[0m\n",
      "\u001b[2m\u001b[36m(ClientAppActor pid=1208103)\u001b[0m Epoch 81/100\u001b[32m [repeated 52x across cluster]\u001b[0m\n",
      "\u001b[2m\u001b[36m(ClientAppActor pid=1208103)\u001b[0m Epoch 80: Training accuracy: 81.3509521484375 Testing accuracy: 76.02339172363281.\u001b[32m [repeated 52x across cluster]\u001b[0m\n",
      "\u001b[2m\u001b[36m(ClientAppActor pid=1208102)\u001b[0m \u001b[32m [repeated 57x across cluster]\u001b[0m\n",
      "\u001b[2m\u001b[36m(ClientAppActor pid=1208102)\u001b[0m Epoch 59/100\u001b[32m [repeated 57x across cluster]\u001b[0m\n",
      "\u001b[2m\u001b[36m(ClientAppActor pid=1208102)\u001b[0m Epoch 58: Training accuracy: 83.3594970703125 Testing accuracy: 77.5.\u001b[32m [repeated 57x across cluster]\u001b[0m\n"
     ]
    },
    {
     "name": "stderr",
     "output_type": "stream",
     "text": [
      "\u001b[92mINFO \u001b[0m:      aggregate_fit: received 4 results and 0 failures\n",
      "\u001b[92mINFO \u001b[0m:      fit progress: (11, 0.029574289041406968, {'accuracy': tensor(76.4818, device='cuda:0')}, 518.5840076680033)\n",
      "\u001b[92mINFO \u001b[0m:      configure_evaluate: strategy sampled 2 clients (out of 4)\n"
     ]
    },
    {
     "name": "stdout",
     "output_type": "stream",
     "text": [
      "Server-side evaluation loss 0.029574289041406968 / accuracy 76.4818344116211\n"
     ]
    },
    {
     "name": "stderr",
     "output_type": "stream",
     "text": [
      "\u001b[92mINFO \u001b[0m:      aggregate_evaluate: received 2 results and 0 failures\n",
      "\u001b[92mINFO \u001b[0m:      \n",
      "\u001b[92mINFO \u001b[0m:      [ROUND 12]\n",
      "\u001b[92mINFO \u001b[0m:      configure_fit: strategy sampled 4 clients (out of 4)\n"
     ]
    },
    {
     "name": "stdout",
     "output_type": "stream",
     "text": [
      "\u001b[2m\u001b[36m(ClientAppActor pid=1208102)\u001b[0m \u001b[32m [repeated 90x across cluster]\u001b[0m\n",
      "\u001b[2m\u001b[36m(ClientAppActor pid=1208102)\u001b[0m Epoch 45/100\u001b[32m [repeated 90x across cluster]\u001b[0m\n",
      "\u001b[2m\u001b[36m(ClientAppActor pid=1208102)\u001b[0m Epoch 44: Training accuracy: 84.14442443847656 Testing accuracy: 80.625.\u001b[32m [repeated 90x across cluster]\u001b[0m\n",
      "\u001b[2m\u001b[36m(ClientAppActor pid=1208102)\u001b[0m \u001b[32m [repeated 319x across cluster]\u001b[0m\n",
      "\u001b[2m\u001b[36m(ClientAppActor pid=1208102)\u001b[0m Epoch 67/100\u001b[32m [repeated 319x across cluster]\u001b[0m\n",
      "\u001b[2m\u001b[36m(ClientAppActor pid=1208102)\u001b[0m Epoch 66: Training accuracy: 85.21739196777344 Testing accuracy: 72.83236694335938.\u001b[32m [repeated 320x across cluster]\u001b[0m\n",
      "\u001b[2m\u001b[36m(ClientAppActor pid=1208102)\u001b[0m \u001b[32m [repeated 28x across cluster]\u001b[0m\n",
      "\u001b[2m\u001b[36m(ClientAppActor pid=1208102)\u001b[0m Epoch 95/100\u001b[32m [repeated 28x across cluster]\u001b[0m\n",
      "\u001b[2m\u001b[36m(ClientAppActor pid=1208102)\u001b[0m Epoch 94: Training accuracy: 86.66666412353516 Testing accuracy: 73.41040802001953.\u001b[32m [repeated 28x across cluster]\u001b[0m\n"
     ]
    },
    {
     "name": "stderr",
     "output_type": "stream",
     "text": [
      "\u001b[92mINFO \u001b[0m:      aggregate_fit: received 4 results and 0 failures\n",
      "\u001b[92mINFO \u001b[0m:      fit progress: (12, 0.030545641394222483, {'accuracy': tensor(75.3346, device='cuda:0')}, 530.952972138999)\n",
      "\u001b[92mINFO \u001b[0m:      configure_evaluate: strategy sampled 2 clients (out of 4)\n"
     ]
    },
    {
     "name": "stdout",
     "output_type": "stream",
     "text": [
      "Server-side evaluation loss 0.030545641394222483 / accuracy 75.33460998535156\n"
     ]
    },
    {
     "name": "stderr",
     "output_type": "stream",
     "text": [
      "\u001b[92mINFO \u001b[0m:      aggregate_evaluate: received 2 results and 0 failures\n",
      "\u001b[92mINFO \u001b[0m:      \n",
      "\u001b[92mINFO \u001b[0m:      [ROUND 13]\n",
      "\u001b[92mINFO \u001b[0m:      configure_fit: strategy sampled 4 clients (out of 4)\n"
     ]
    },
    {
     "name": "stdout",
     "output_type": "stream",
     "text": [
      "\u001b[2m\u001b[36m(ClientAppActor pid=1208103)\u001b[0m \u001b[32m [repeated 36x across cluster]\u001b[0m\n",
      "\u001b[2m\u001b[36m(ClientAppActor pid=1208103)\u001b[0m Epoch 12/100\u001b[32m [repeated 36x across cluster]\u001b[0m\n",
      "\u001b[2m\u001b[36m(ClientAppActor pid=1208103)\u001b[0m Epoch 11: Training accuracy: 84.28781127929688 Testing accuracy: 78.3625717163086.\u001b[32m [repeated 35x across cluster]\u001b[0m\n",
      "\u001b[2m\u001b[36m(ClientAppActor pid=1208102)\u001b[0m \u001b[32m [repeated 25x across cluster]\u001b[0m\n",
      "\u001b[2m\u001b[36m(ClientAppActor pid=1208102)\u001b[0m Epoch 34/100\u001b[32m [repeated 25x across cluster]\u001b[0m\n",
      "\u001b[2m\u001b[36m(ClientAppActor pid=1208102)\u001b[0m Epoch 33: Training accuracy: 86.3768081665039 Testing accuracy: 74.56647491455078.\u001b[32m [repeated 25x across cluster]\u001b[0m\n",
      "\u001b[2m\u001b[36m(ClientAppActor pid=1208103)\u001b[0m \u001b[32m [repeated 28x across cluster]\u001b[0m\n",
      "\u001b[2m\u001b[36m(ClientAppActor pid=1208103)\u001b[0m Epoch 34/100\u001b[32m [repeated 28x across cluster]\u001b[0m\n",
      "\u001b[2m\u001b[36m(ClientAppActor pid=1208103)\u001b[0m Epoch 33: Training accuracy: 83.84728240966797 Testing accuracy: 80.70175170898438.\u001b[32m [repeated 28x across cluster]\u001b[0m\n",
      "\u001b[2m\u001b[36m(ClientAppActor pid=1208103)\u001b[0m \u001b[32m [repeated 24x across cluster]\u001b[0m\n",
      "\u001b[2m\u001b[36m(ClientAppActor pid=1208103)\u001b[0m Epoch 45/100\u001b[32m [repeated 24x across cluster]\u001b[0m\n",
      "\u001b[2m\u001b[36m(ClientAppActor pid=1208103)\u001b[0m Epoch 44: Training accuracy: 84.28781127929688 Testing accuracy: 79.53216552734375.\u001b[32m [repeated 24x across cluster]\u001b[0m\n",
      "\u001b[2m\u001b[36m(ClientAppActor pid=1208103)\u001b[0m \u001b[32m [repeated 28x across cluster]\u001b[0m\n",
      "\u001b[2m\u001b[36m(ClientAppActor pid=1208103)\u001b[0m Epoch 58/100\u001b[32m [repeated 28x across cluster]\u001b[0m\n",
      "\u001b[2m\u001b[36m(ClientAppActor pid=1208103)\u001b[0m Epoch 57: Training accuracy: 85.16886901855469 Testing accuracy: 80.11695861816406.\u001b[32m [repeated 28x across cluster]\u001b[0m\n",
      "\u001b[2m\u001b[36m(ClientAppActor pid=1208103)\u001b[0m \u001b[32m [repeated 27x across cluster]\u001b[0m\n",
      "\u001b[2m\u001b[36m(ClientAppActor pid=1208103)\u001b[0m Epoch 70/100\u001b[32m [repeated 27x across cluster]\u001b[0m\n",
      "\u001b[2m\u001b[36m(ClientAppActor pid=1208103)\u001b[0m Epoch 69: Training accuracy: 86.19676971435547 Testing accuracy: 80.70175170898438.\u001b[32m [repeated 27x across cluster]\u001b[0m\n",
      "\u001b[2m\u001b[36m(ClientAppActor pid=1208103)\u001b[0m \u001b[32m [repeated 28x across cluster]\u001b[0m\n",
      "\u001b[2m\u001b[36m(ClientAppActor pid=1208103)\u001b[0m Epoch 86/100\u001b[32m [repeated 28x across cluster]\u001b[0m\n",
      "\u001b[2m\u001b[36m(ClientAppActor pid=1208103)\u001b[0m Epoch 85: Training accuracy: 86.19676971435547 Testing accuracy: 80.70175170898438.\u001b[32m [repeated 28x across cluster]\u001b[0m\n",
      "\u001b[2m\u001b[36m(ClientAppActor pid=1208102)\u001b[0m \u001b[32m [repeated 25x across cluster]\u001b[0m\n",
      "\u001b[2m\u001b[36m(ClientAppActor pid=1208102)\u001b[0m Epoch 18/100\u001b[32m [repeated 25x across cluster]\u001b[0m\n",
      "\u001b[2m\u001b[36m(ClientAppActor pid=1208102)\u001b[0m Epoch 17: Training accuracy: 84.59715270996094 Testing accuracy: 76.41509246826172.\u001b[32m [repeated 25x across cluster]\u001b[0m\n",
      "\u001b[2m\u001b[36m(ClientAppActor pid=1208102)\u001b[0m \u001b[32m [repeated 28x across cluster]\u001b[0m\n",
      "\u001b[2m\u001b[36m(ClientAppActor pid=1208102)\u001b[0m Epoch 30/100\u001b[32m [repeated 28x across cluster]\u001b[0m\n",
      "\u001b[2m\u001b[36m(ClientAppActor pid=1208102)\u001b[0m Epoch 29: Training accuracy: 85.1895751953125 Testing accuracy: 75.0.\u001b[32m [repeated 28x across cluster]\u001b[0m\n",
      "\u001b[2m\u001b[36m(ClientAppActor pid=1208103)\u001b[0m \u001b[32m [repeated 29x across cluster]\u001b[0m\n",
      "\u001b[2m\u001b[36m(ClientAppActor pid=1208103)\u001b[0m Epoch 29/100\u001b[32m [repeated 29x across cluster]\u001b[0m\n",
      "\u001b[2m\u001b[36m(ClientAppActor pid=1208103)\u001b[0m Epoch 28: Training accuracy: 84.77236938476562 Testing accuracy: 80.625.\u001b[32m [repeated 29x across cluster]\u001b[0m\n",
      "\u001b[2m\u001b[36m(ClientAppActor pid=1208102)\u001b[0m \u001b[32m [repeated 33x across cluster]\u001b[0m\n",
      "\u001b[2m\u001b[36m(ClientAppActor pid=1208102)\u001b[0m Epoch 62/100\u001b[32m [repeated 33x across cluster]\u001b[0m\n",
      "\u001b[2m\u001b[36m(ClientAppActor pid=1208102)\u001b[0m Epoch 61: Training accuracy: 87.0853042602539 Testing accuracy: 77.35848999023438.\u001b[32m [repeated 33x across cluster]\u001b[0m\n",
      "\u001b[2m\u001b[36m(ClientAppActor pid=1208103)\u001b[0m \u001b[32m [repeated 34x across cluster]\u001b[0m\n",
      "\u001b[2m\u001b[36m(ClientAppActor pid=1208103)\u001b[0m Epoch 62/100\u001b[32m [repeated 34x across cluster]\u001b[0m\n",
      "\u001b[2m\u001b[36m(ClientAppActor pid=1208103)\u001b[0m Epoch 61: Training accuracy: 83.51648712158203 Testing accuracy: 79.375.\u001b[32m [repeated 34x across cluster]\u001b[0m\n",
      "\u001b[2m\u001b[36m(ClientAppActor pid=1208103)\u001b[0m \u001b[32m [repeated 36x across cluster]\u001b[0m\n",
      "\u001b[2m\u001b[36m(ClientAppActor pid=1208103)\u001b[0m Epoch 76/100\u001b[32m [repeated 36x across cluster]\u001b[0m\n",
      "\u001b[2m\u001b[36m(ClientAppActor pid=1208103)\u001b[0m Epoch 75: Training accuracy: 84.61538696289062 Testing accuracy: 79.375.\u001b[32m [repeated 37x across cluster]\u001b[0m\n"
     ]
    },
    {
     "name": "stderr",
     "output_type": "stream",
     "text": [
      "\u001b[92mINFO \u001b[0m:      aggregate_fit: received 4 results and 0 failures\n",
      "\u001b[92mINFO \u001b[0m:      fit progress: (13, 0.030196274028104896, {'accuracy': tensor(76.2906, device='cuda:0')}, 601.7216741690063)\n",
      "\u001b[92mINFO \u001b[0m:      configure_evaluate: strategy sampled 2 clients (out of 4)\n"
     ]
    },
    {
     "name": "stdout",
     "output_type": "stream",
     "text": [
      "\u001b[2m\u001b[36m(ClientAppActor pid=1208103)\u001b[0m \u001b[32m [repeated 24x across cluster]\u001b[0m\n",
      "\u001b[2m\u001b[36m(ClientAppActor pid=1208103)\u001b[0m Epoch 100/100\u001b[32m [repeated 24x across cluster]\u001b[0m\n",
      "\u001b[2m\u001b[36m(ClientAppActor pid=1208103)\u001b[0m Epoch 99: Training accuracy: 85.08634185791016 Testing accuracy: 80.625.\u001b[32m [repeated 24x across cluster]\u001b[0m\n",
      "Server-side evaluation loss 0.030196274028104896 / accuracy 76.29063415527344\n"
     ]
    },
    {
     "name": "stderr",
     "output_type": "stream",
     "text": [
      "\u001b[92mINFO \u001b[0m:      aggregate_evaluate: received 2 results and 0 failures\n",
      "\u001b[92mINFO \u001b[0m:      \n",
      "\u001b[92mINFO \u001b[0m:      [ROUND 14]\n",
      "\u001b[92mINFO \u001b[0m:      configure_fit: strategy sampled 4 clients (out of 4)\n"
     ]
    },
    {
     "name": "stdout",
     "output_type": "stream",
     "text": [
      "\u001b[2m\u001b[36m(ClientAppActor pid=1208103)\u001b[0m \u001b[32m [repeated 194x across cluster]\u001b[0m\n",
      "\u001b[2m\u001b[36m(ClientAppActor pid=1208103)\u001b[0m Epoch 24/100\u001b[32m [repeated 194x across cluster]\u001b[0m\n",
      "\u001b[2m\u001b[36m(ClientAppActor pid=1208103)\u001b[0m Epoch 23: Training accuracy: 84.43465423583984 Testing accuracy: 80.70175170898438.\u001b[32m [repeated 193x across cluster]\u001b[0m\n",
      "\u001b[2m\u001b[36m(ClientAppActor pid=1208102)\u001b[0m \u001b[32m [repeated 68x across cluster]\u001b[0m\n",
      "\u001b[2m\u001b[36m(ClientAppActor pid=1208102)\u001b[0m Epoch 24/100\u001b[32m [repeated 68x across cluster]\u001b[0m\n",
      "\u001b[2m\u001b[36m(ClientAppActor pid=1208102)\u001b[0m Epoch 23: Training accuracy: 86.66666412353516 Testing accuracy: 75.72254180908203.\u001b[32m [repeated 68x across cluster]\u001b[0m\n",
      "\u001b[2m\u001b[36m(ClientAppActor pid=1208103)\u001b[0m \u001b[32m [repeated 63x across cluster]\u001b[0m\n",
      "\u001b[2m\u001b[36m(ClientAppActor pid=1208103)\u001b[0m Epoch 64/100\u001b[32m [repeated 63x across cluster]\u001b[0m\n",
      "\u001b[2m\u001b[36m(ClientAppActor pid=1208103)\u001b[0m Epoch 63: Training accuracy: 85.46255493164062 Testing accuracy: 81.28655242919922.\u001b[32m [repeated 63x across cluster]\u001b[0m\n",
      "\u001b[2m\u001b[36m(ClientAppActor pid=1208103)\u001b[0m \u001b[32m [repeated 63x across cluster]\u001b[0m\n",
      "\u001b[2m\u001b[36m(ClientAppActor pid=1208103)\u001b[0m Epoch 98/100\u001b[32m [repeated 63x across cluster]\u001b[0m\n",
      "\u001b[2m\u001b[36m(ClientAppActor pid=1208103)\u001b[0m Epoch 97: Training accuracy: 86.34361267089844 Testing accuracy: 77.77777862548828.\u001b[32m [repeated 63x across cluster]\u001b[0m\n"
     ]
    },
    {
     "name": "stderr",
     "output_type": "stream",
     "text": [
      "\u001b[92mINFO \u001b[0m:      aggregate_fit: received 4 results and 0 failures\n",
      "\u001b[92mINFO \u001b[0m:      fit progress: (14, 0.03059246259577134, {'accuracy': tensor(75.5258, device='cuda:0')}, 626.3318509139935)\n",
      "\u001b[92mINFO \u001b[0m:      configure_evaluate: strategy sampled 2 clients (out of 4)\n"
     ]
    },
    {
     "name": "stdout",
     "output_type": "stream",
     "text": [
      "Server-side evaluation loss 0.03059246259577134 / accuracy 75.52581024169922\n"
     ]
    },
    {
     "name": "stderr",
     "output_type": "stream",
     "text": [
      "\u001b[92mINFO \u001b[0m:      aggregate_evaluate: received 2 results and 0 failures\n",
      "\u001b[92mINFO \u001b[0m:      \n",
      "\u001b[92mINFO \u001b[0m:      [ROUND 15]\n",
      "\u001b[92mINFO \u001b[0m:      configure_fit: strategy sampled 4 clients (out of 4)\n"
     ]
    },
    {
     "name": "stdout",
     "output_type": "stream",
     "text": [
      "\u001b[2m\u001b[36m(ClientAppActor pid=1208102)\u001b[0m \u001b[32m [repeated 13x across cluster]\u001b[0m\n",
      "\u001b[2m\u001b[36m(ClientAppActor pid=1208102)\u001b[0m Epoch 1/100\u001b[32m [repeated 13x across cluster]\u001b[0m\n",
      "\u001b[2m\u001b[36m(ClientAppActor pid=1208102)\u001b[0m Epoch 100: Training accuracy: 88.1159439086914 Testing accuracy: 72.25433349609375.\u001b[32m [repeated 14x across cluster]\u001b[0m\n",
      "\u001b[2m\u001b[36m(ClientAppActor pid=1208103)\u001b[0m \u001b[32m [repeated 24x across cluster]\u001b[0m\n",
      "\u001b[2m\u001b[36m(ClientAppActor pid=1208103)\u001b[0m Epoch 12/100\u001b[32m [repeated 24x across cluster]\u001b[0m\n",
      "\u001b[2m\u001b[36m(ClientAppActor pid=1208103)\u001b[0m Epoch 11: Training accuracy: 80.61673736572266 Testing accuracy: 80.70175170898438.\u001b[32m [repeated 23x across cluster]\u001b[0m\n",
      "\u001b[2m\u001b[36m(ClientAppActor pid=1208103)\u001b[0m \u001b[32m [repeated 23x across cluster]\u001b[0m\n",
      "\u001b[2m\u001b[36m(ClientAppActor pid=1208103)\u001b[0m Epoch 23/100\u001b[32m [repeated 23x across cluster]\u001b[0m\n",
      "\u001b[2m\u001b[36m(ClientAppActor pid=1208103)\u001b[0m Epoch 22: Training accuracy: 85.6093978881836 Testing accuracy: 80.70175170898438.\u001b[32m [repeated 23x across cluster]\u001b[0m\n",
      "\u001b[2m\u001b[36m(ClientAppActor pid=1208103)\u001b[0m \u001b[32m [repeated 23x across cluster]\u001b[0m\n",
      "\u001b[2m\u001b[36m(ClientAppActor pid=1208103)\u001b[0m Epoch 35/100\u001b[32m [repeated 23x across cluster]\u001b[0m\n",
      "\u001b[2m\u001b[36m(ClientAppActor pid=1208103)\u001b[0m Epoch 34: Training accuracy: 83.99412536621094 Testing accuracy: 80.70175170898438.\u001b[32m [repeated 23x across cluster]\u001b[0m\n",
      "\u001b[2m\u001b[36m(ClientAppActor pid=1208103)\u001b[0m \u001b[32m [repeated 24x across cluster]\u001b[0m\n",
      "\u001b[2m\u001b[36m(ClientAppActor pid=1208103)\u001b[0m Epoch 46/100\u001b[32m [repeated 24x across cluster]\u001b[0m\n",
      "\u001b[2m\u001b[36m(ClientAppActor pid=1208103)\u001b[0m Epoch 45: Training accuracy: 85.31571197509766 Testing accuracy: 81.28655242919922.\u001b[32m [repeated 24x across cluster]\u001b[0m\n",
      "\u001b[2m\u001b[36m(ClientAppActor pid=1208103)\u001b[0m \u001b[32m [repeated 24x across cluster]\u001b[0m\n",
      "\u001b[2m\u001b[36m(ClientAppActor pid=1208103)\u001b[0m Epoch 58/100\u001b[32m [repeated 24x across cluster]\u001b[0m\n",
      "\u001b[2m\u001b[36m(ClientAppActor pid=1208103)\u001b[0m Epoch 57: Training accuracy: 85.75624084472656 Testing accuracy: 80.70175170898438.\u001b[32m [repeated 24x across cluster]\u001b[0m\n",
      "\u001b[2m\u001b[36m(ClientAppActor pid=1208103)\u001b[0m \u001b[32m [repeated 23x across cluster]\u001b[0m\n",
      "\u001b[2m\u001b[36m(ClientAppActor pid=1208103)\u001b[0m Epoch 69/100\u001b[32m [repeated 23x across cluster]\u001b[0m\n",
      "\u001b[2m\u001b[36m(ClientAppActor pid=1208103)\u001b[0m Epoch 68: Training accuracy: 86.19676971435547 Testing accuracy: 80.11695861816406.\u001b[32m [repeated 23x across cluster]\u001b[0m\n",
      "\u001b[2m\u001b[36m(ClientAppActor pid=1208103)\u001b[0m \u001b[32m [repeated 32x across cluster]\u001b[0m\n",
      "\u001b[2m\u001b[36m(ClientAppActor pid=1208103)\u001b[0m Epoch 84/100\u001b[32m [repeated 32x across cluster]\u001b[0m\n",
      "\u001b[2m\u001b[36m(ClientAppActor pid=1208103)\u001b[0m Epoch 83: Training accuracy: 84.28781127929688 Testing accuracy: 77.77777862548828.\u001b[32m [repeated 32x across cluster]\u001b[0m\n",
      "\u001b[2m\u001b[36m(ClientAppActor pid=1208103)\u001b[0m \u001b[32m [repeated 36x across cluster]\u001b[0m\n",
      "\u001b[2m\u001b[36m(ClientAppActor pid=1208103)\u001b[0m Epoch 1/100\u001b[32m [repeated 36x across cluster]\u001b[0m\n",
      "\u001b[2m\u001b[36m(ClientAppActor pid=1208103)\u001b[0m Epoch 100: Training accuracy: 85.31571197509766 Testing accuracy: 81.87134552001953.\u001b[32m [repeated 36x across cluster]\u001b[0m\n",
      "\u001b[2m\u001b[36m(ClientAppActor pid=1208103)\u001b[0m \u001b[32m [repeated 47x across cluster]\u001b[0m\n",
      "\u001b[2m\u001b[36m(ClientAppActor pid=1208103)\u001b[0m Epoch 18/100\u001b[32m [repeated 47x across cluster]\u001b[0m\n",
      "\u001b[2m\u001b[36m(ClientAppActor pid=1208103)\u001b[0m Epoch 17: Training accuracy: 85.36231994628906 Testing accuracy: 75.1445083618164.\u001b[32m [repeated 47x across cluster]\u001b[0m\n",
      "\u001b[2m\u001b[36m(ClientAppActor pid=1208103)\u001b[0m \u001b[32m [repeated 42x across cluster]\u001b[0m\n",
      "\u001b[2m\u001b[36m(ClientAppActor pid=1208103)\u001b[0m Epoch 34/100\u001b[32m [repeated 42x across cluster]\u001b[0m\n",
      "\u001b[2m\u001b[36m(ClientAppActor pid=1208103)\u001b[0m Epoch 33: Training accuracy: 87.10144805908203 Testing accuracy: 72.83236694335938.\u001b[32m [repeated 42x across cluster]\u001b[0m\n",
      "\u001b[2m\u001b[36m(ClientAppActor pid=1208103)\u001b[0m \u001b[32m [repeated 25x across cluster]\u001b[0m\n",
      "\u001b[2m\u001b[36m(ClientAppActor pid=1208103)\u001b[0m Epoch 44/100\u001b[32m [repeated 25x across cluster]\u001b[0m\n",
      "\u001b[2m\u001b[36m(ClientAppActor pid=1208103)\u001b[0m Epoch 43: Training accuracy: 86.9565200805664 Testing accuracy: 71.67630004882812.\u001b[32m [repeated 25x across cluster]\u001b[0m\n",
      "\u001b[2m\u001b[36m(ClientAppActor pid=1208102)\u001b[0m \u001b[32m [repeated 30x across cluster]\u001b[0m\n",
      "\u001b[2m\u001b[36m(ClientAppActor pid=1208102)\u001b[0m Epoch 97/100\u001b[32m [repeated 30x across cluster]\u001b[0m\n",
      "\u001b[2m\u001b[36m(ClientAppActor pid=1208102)\u001b[0m Epoch 96: Training accuracy: 84.61538696289062 Testing accuracy: 78.125.\u001b[32m [repeated 30x across cluster]\u001b[0m\n",
      "\u001b[2m\u001b[36m(ClientAppActor pid=1208103)\u001b[0m \u001b[32m [repeated 16x across cluster]\u001b[0m\n",
      "\u001b[2m\u001b[36m(ClientAppActor pid=1208103)\u001b[0m Epoch 70/100\u001b[32m [repeated 16x across cluster]\u001b[0m\n",
      "\u001b[2m\u001b[36m(ClientAppActor pid=1208103)\u001b[0m Epoch 69: Training accuracy: 87.24637603759766 Testing accuracy: 75.1445083618164.\u001b[32m [repeated 17x across cluster]\u001b[0m\n",
      "\u001b[2m\u001b[36m(ClientAppActor pid=1208103)\u001b[0m \u001b[32m [repeated 16x across cluster]\u001b[0m\n",
      "\u001b[2m\u001b[36m(ClientAppActor pid=1208103)\u001b[0m Epoch 86/100\u001b[32m [repeated 16x across cluster]\u001b[0m\n",
      "\u001b[2m\u001b[36m(ClientAppActor pid=1208103)\u001b[0m Epoch 85: Training accuracy: 87.97101593017578 Testing accuracy: 76.30057525634766.\u001b[32m [repeated 16x across cluster]\u001b[0m\n"
     ]
    },
    {
     "name": "stderr",
     "output_type": "stream",
     "text": [
      "\u001b[92mINFO \u001b[0m:      aggregate_fit: received 4 results and 0 failures\n",
      "\u001b[92mINFO \u001b[0m:      fit progress: (15, 0.030354983666363883, {'accuracy': tensor(75.7170, device='cuda:0')}, 703.5556127150048)\n",
      "\u001b[92mINFO \u001b[0m:      configure_evaluate: strategy sampled 2 clients (out of 4)\n"
     ]
    },
    {
     "name": "stdout",
     "output_type": "stream",
     "text": [
      "Server-side evaluation loss 0.030354983666363883 / accuracy 75.7170181274414\n"
     ]
    },
    {
     "name": "stderr",
     "output_type": "stream",
     "text": [
      "\u001b[92mINFO \u001b[0m:      aggregate_evaluate: received 2 results and 0 failures\n",
      "\u001b[92mINFO \u001b[0m:      \n",
      "\u001b[92mINFO \u001b[0m:      [ROUND 16]\n",
      "\u001b[92mINFO \u001b[0m:      configure_fit: strategy sampled 4 clients (out of 4)\n"
     ]
    },
    {
     "name": "stdout",
     "output_type": "stream",
     "text": [
      "\u001b[2m\u001b[36m(ClientAppActor pid=1208103)\u001b[0m \u001b[32m [repeated 19x across cluster]\u001b[0m\n",
      "\u001b[2m\u001b[36m(ClientAppActor pid=1208103)\u001b[0m Epoch 3/100\u001b[32m [repeated 19x across cluster]\u001b[0m\n",
      "\u001b[2m\u001b[36m(ClientAppActor pid=1208103)\u001b[0m Epoch 2: Training accuracy: 80.02936553955078 Testing accuracy: 81.87134552001953.\u001b[32m [repeated 18x across cluster]\u001b[0m\n",
      "\u001b[2m\u001b[36m(ClientAppActor pid=1208102)\u001b[0m \u001b[32m [repeated 42x across cluster]\u001b[0m\n",
      "\u001b[2m\u001b[36m(ClientAppActor pid=1208102)\u001b[0m Epoch 24/100\u001b[32m [repeated 42x across cluster]\u001b[0m\n",
      "\u001b[2m\u001b[36m(ClientAppActor pid=1208102)\u001b[0m Epoch 23: Training accuracy: 83.33333587646484 Testing accuracy: 72.83236694335938.\u001b[32m [repeated 42x across cluster]\u001b[0m\n",
      "\u001b[2m\u001b[36m(ClientAppActor pid=1208103)\u001b[0m \u001b[32m [repeated 38x across cluster]\u001b[0m\n",
      "\u001b[2m\u001b[36m(ClientAppActor pid=1208103)\u001b[0m Epoch 42/100\u001b[32m [repeated 38x across cluster]\u001b[0m\n",
      "\u001b[2m\u001b[36m(ClientAppActor pid=1208103)\u001b[0m Epoch 41: Training accuracy: 84.28781127929688 Testing accuracy: 78.9473648071289.\u001b[32m [repeated 38x across cluster]\u001b[0m\n",
      "\u001b[2m\u001b[36m(ClientAppActor pid=1208103)\u001b[0m \u001b[32m [repeated 57x across cluster]\u001b[0m\n",
      "\u001b[2m\u001b[36m(ClientAppActor pid=1208103)\u001b[0m Epoch 78/100\u001b[32m [repeated 57x across cluster]\u001b[0m\n",
      "\u001b[2m\u001b[36m(ClientAppActor pid=1208103)\u001b[0m Epoch 77: Training accuracy: 86.34361267089844 Testing accuracy: 80.70175170898438.\u001b[32m [repeated 57x across cluster]\u001b[0m\n",
      "\u001b[2m\u001b[36m(ClientAppActor pid=1208103)\u001b[0m \u001b[32m [repeated 52x across cluster]\u001b[0m\n",
      "\u001b[2m\u001b[36m(ClientAppActor pid=1208103)\u001b[0m Epoch 11/100\u001b[32m [repeated 52x across cluster]\u001b[0m\n",
      "\u001b[2m\u001b[36m(ClientAppActor pid=1208103)\u001b[0m Epoch 10: Training accuracy: 82.57456970214844 Testing accuracy: 77.5.\u001b[32m [repeated 52x across cluster]\u001b[0m\n"
     ]
    },
    {
     "name": "stderr",
     "output_type": "stream",
     "text": [
      "\u001b[92mINFO \u001b[0m:      aggregate_fit: received 4 results and 0 failures\n",
      "\u001b[92mINFO \u001b[0m:      fit progress: (16, 0.03149332018459544, {'accuracy': tensor(75.2390, device='cuda:0')}, 728.8770902179967)\n",
      "\u001b[92mINFO \u001b[0m:      configure_evaluate: strategy sampled 2 clients (out of 4)\n",
      "\u001b[92mINFO \u001b[0m:      aggregate_evaluate: received 2 results and 0 failures\n",
      "\u001b[92mINFO \u001b[0m:      \n",
      "\u001b[92mINFO \u001b[0m:      [ROUND 17]\n",
      "\u001b[92mINFO \u001b[0m:      configure_fit: strategy sampled 4 clients (out of 4)\n"
     ]
    },
    {
     "name": "stdout",
     "output_type": "stream",
     "text": [
      "Server-side evaluation loss 0.03149332018459544 / accuracy 75.23900604248047\n",
      "\u001b[2m\u001b[36m(ClientAppActor pid=1208103)\u001b[0m \u001b[32m [repeated 260x across cluster]\u001b[0m\n",
      "\u001b[2m\u001b[36m(ClientAppActor pid=1208103)\u001b[0m Epoch 42/100\u001b[32m [repeated 260x across cluster]\u001b[0m\n",
      "\u001b[2m\u001b[36m(ClientAppActor pid=1208103)\u001b[0m Epoch 41: Training accuracy: 82.70142364501953 Testing accuracy: 77.35848999023438.\u001b[32m [repeated 260x across cluster]\u001b[0m\n",
      "\u001b[2m\u001b[36m(ClientAppActor pid=1208103)\u001b[0m \u001b[32m [repeated 316x across cluster]\u001b[0m\n",
      "\u001b[2m\u001b[36m(ClientAppActor pid=1208103)\u001b[0m Epoch 91/100\u001b[32m [repeated 316x across cluster]\u001b[0m\n",
      "\u001b[2m\u001b[36m(ClientAppActor pid=1208103)\u001b[0m Epoch 90: Training accuracy: 83.76811218261719 Testing accuracy: 72.83236694335938.\u001b[32m [repeated 316x across cluster]\u001b[0m\n"
     ]
    },
    {
     "name": "stderr",
     "output_type": "stream",
     "text": [
      "\u001b[92mINFO \u001b[0m:      aggregate_fit: received 4 results and 0 failures\n",
      "\u001b[92mINFO \u001b[0m:      fit progress: (17, 0.031614328131956214, {'accuracy': tensor(75.2390, device='cuda:0')}, 735.2967961709946)\n",
      "\u001b[92mINFO \u001b[0m:      configure_evaluate: strategy sampled 2 clients (out of 4)\n",
      "\u001b[92mINFO \u001b[0m:      aggregate_evaluate: received 2 results and 0 failures\n",
      "\u001b[92mINFO \u001b[0m:      \n",
      "\u001b[92mINFO \u001b[0m:      [ROUND 18]\n",
      "\u001b[92mINFO \u001b[0m:      configure_fit: strategy sampled 4 clients (out of 4)\n"
     ]
    },
    {
     "name": "stdout",
     "output_type": "stream",
     "text": [
      "Server-side evaluation loss 0.031614328131956214 / accuracy 75.23900604248047\n",
      "\u001b[2m\u001b[36m(ClientAppActor pid=1208102)\u001b[0m \u001b[32m [repeated 191x across cluster]\u001b[0m\n",
      "\u001b[2m\u001b[36m(ClientAppActor pid=1208102)\u001b[0m Epoch 64/100\u001b[32m [repeated 191x across cluster]\u001b[0m\n",
      "\u001b[2m\u001b[36m(ClientAppActor pid=1208102)\u001b[0m Epoch 63: Training accuracy: 87.97101593017578 Testing accuracy: 71.67630004882812.\u001b[32m [repeated 191x across cluster]\u001b[0m\n",
      "\u001b[2m\u001b[36m(ClientAppActor pid=1208102)\u001b[0m \u001b[32m [repeated 24x across cluster]\u001b[0m\n",
      "\u001b[2m\u001b[36m(ClientAppActor pid=1208102)\u001b[0m Epoch 78/100\u001b[32m [repeated 24x across cluster]\u001b[0m\n",
      "\u001b[2m\u001b[36m(ClientAppActor pid=1208102)\u001b[0m Epoch 77: Training accuracy: 87.5362319946289 Testing accuracy: 73.98844146728516.\u001b[32m [repeated 24x across cluster]\u001b[0m\n",
      "\u001b[2m\u001b[36m(ClientAppActor pid=1208103)\u001b[0m \u001b[32m [repeated 29x across cluster]\u001b[0m\n",
      "\u001b[2m\u001b[36m(ClientAppActor pid=1208103)\u001b[0m Epoch 20/100\u001b[32m [repeated 29x across cluster]\u001b[0m\n",
      "\u001b[2m\u001b[36m(ClientAppActor pid=1208103)\u001b[0m Epoch 19: Training accuracy: 85.31571197509766 Testing accuracy: 80.11695861816406.\u001b[32m [repeated 29x across cluster]\u001b[0m\n",
      "\u001b[2m\u001b[36m(ClientAppActor pid=1208103)\u001b[0m \u001b[32m [repeated 24x across cluster]\u001b[0m\n",
      "\u001b[2m\u001b[36m(ClientAppActor pid=1208103)\u001b[0m Epoch 30/100\u001b[32m [repeated 24x across cluster]\u001b[0m\n",
      "\u001b[2m\u001b[36m(ClientAppActor pid=1208103)\u001b[0m Epoch 29: Training accuracy: 85.16886901855469 Testing accuracy: 77.77777862548828.\u001b[32m [repeated 24x across cluster]\u001b[0m\n",
      "\u001b[2m\u001b[36m(ClientAppActor pid=1208102)\u001b[0m \u001b[32m [repeated 24x across cluster]\u001b[0m\n",
      "\u001b[2m\u001b[36m(ClientAppActor pid=1208102)\u001b[0m Epoch 20/100\u001b[32m [repeated 24x across cluster]\u001b[0m\n",
      "\u001b[2m\u001b[36m(ClientAppActor pid=1208102)\u001b[0m Epoch 19: Training accuracy: 86.7298583984375 Testing accuracy: 77.83018493652344.\u001b[32m [repeated 24x across cluster]\u001b[0m\n",
      "\u001b[2m\u001b[36m(ClientAppActor pid=1208103)\u001b[0m \u001b[32m [repeated 23x across cluster]\u001b[0m\n",
      "\u001b[2m\u001b[36m(ClientAppActor pid=1208103)\u001b[0m Epoch 53/100\u001b[32m [repeated 23x across cluster]\u001b[0m\n",
      "\u001b[2m\u001b[36m(ClientAppActor pid=1208103)\u001b[0m Epoch 52: Training accuracy: 86.19676971435547 Testing accuracy: 81.87134552001953.\u001b[32m [repeated 23x across cluster]\u001b[0m\n",
      "\u001b[2m\u001b[36m(ClientAppActor pid=1208102)\u001b[0m \u001b[32m [repeated 29x across cluster]\u001b[0m\n",
      "\u001b[2m\u001b[36m(ClientAppActor pid=1208102)\u001b[0m Epoch 50/100\u001b[32m [repeated 29x across cluster]\u001b[0m\n",
      "\u001b[2m\u001b[36m(ClientAppActor pid=1208102)\u001b[0m Epoch 49: Training accuracy: 80.45023345947266 Testing accuracy: 76.88679504394531.\u001b[32m [repeated 29x across cluster]\u001b[0m\n",
      "\u001b[2m\u001b[36m(ClientAppActor pid=1208103)\u001b[0m \u001b[32m [repeated 30x across cluster]\u001b[0m\n",
      "\u001b[2m\u001b[36m(ClientAppActor pid=1208103)\u001b[0m Epoch 75/100\u001b[32m [repeated 30x across cluster]\u001b[0m\n",
      "\u001b[2m\u001b[36m(ClientAppActor pid=1208103)\u001b[0m Epoch 74: Training accuracy: 86.93098449707031 Testing accuracy: 81.87134552001953.\u001b[32m [repeated 30x across cluster]\u001b[0m\n",
      "\u001b[2m\u001b[36m(ClientAppActor pid=1208103)\u001b[0m \u001b[32m [repeated 29x across cluster]\u001b[0m\n",
      "\u001b[2m\u001b[36m(ClientAppActor pid=1208103)\u001b[0m Epoch 87/100\u001b[32m [repeated 29x across cluster]\u001b[0m\n",
      "\u001b[2m\u001b[36m(ClientAppActor pid=1208103)\u001b[0m Epoch 86: Training accuracy: 86.19676971435547 Testing accuracy: 81.28655242919922.\u001b[32m [repeated 29x across cluster]\u001b[0m\n",
      "\u001b[2m\u001b[36m(ClientAppActor pid=1208103)\u001b[0m \u001b[32m [repeated 25x across cluster]\u001b[0m\n",
      "\u001b[2m\u001b[36m(ClientAppActor pid=1208103)\u001b[0m Epoch 98/100\u001b[32m [repeated 25x across cluster]\u001b[0m\n",
      "\u001b[2m\u001b[36m(ClientAppActor pid=1208103)\u001b[0m Epoch 97: Training accuracy: 85.16886901855469 Testing accuracy: 80.70175170898438.\u001b[32m [repeated 26x across cluster]\u001b[0m\n"
     ]
    },
    {
     "name": "stderr",
     "output_type": "stream",
     "text": [
      "\u001b[92mINFO \u001b[0m:      aggregate_fit: received 4 results and 0 failures\n",
      "\u001b[92mINFO \u001b[0m:      fit progress: (18, 0.031839079716626334, {'accuracy': tensor(75.5258, device='cuda:0')}, 788.2030220529996)\n",
      "\u001b[92mINFO \u001b[0m:      configure_evaluate: strategy sampled 2 clients (out of 4)\n"
     ]
    },
    {
     "name": "stdout",
     "output_type": "stream",
     "text": [
      "Server-side evaluation loss 0.031839079716626334 / accuracy 75.52581024169922\n"
     ]
    },
    {
     "name": "stderr",
     "output_type": "stream",
     "text": [
      "\u001b[92mINFO \u001b[0m:      aggregate_evaluate: received 2 results and 0 failures\n",
      "\u001b[92mINFO \u001b[0m:      \n",
      "\u001b[92mINFO \u001b[0m:      [ROUND 19]\n",
      "\u001b[92mINFO \u001b[0m:      configure_fit: strategy sampled 4 clients (out of 4)\n"
     ]
    },
    {
     "name": "stdout",
     "output_type": "stream",
     "text": [
      "\u001b[2m\u001b[36m(ClientAppActor pid=1208103)\u001b[0m \u001b[32m [repeated 20x across cluster]\u001b[0m\n",
      "\u001b[2m\u001b[36m(ClientAppActor pid=1208103)\u001b[0m Epoch 8/100\u001b[32m [repeated 20x across cluster]\u001b[0m\n",
      "\u001b[2m\u001b[36m(ClientAppActor pid=1208103)\u001b[0m Epoch 7: Training accuracy: 80.53375244140625 Testing accuracy: 76.875.\u001b[32m [repeated 19x across cluster]\u001b[0m\n",
      "\u001b[2m\u001b[36m(ClientAppActor pid=1208102)\u001b[0m \u001b[32m [repeated 30x across cluster]\u001b[0m\n",
      "\u001b[2m\u001b[36m(ClientAppActor pid=1208102)\u001b[0m Epoch 29/100\u001b[32m [repeated 30x across cluster]\u001b[0m\n",
      "\u001b[2m\u001b[36m(ClientAppActor pid=1208102)\u001b[0m Epoch 28: Training accuracy: 86.01895904541016 Testing accuracy: 75.94339752197266.\u001b[32m [repeated 30x across cluster]\u001b[0m\n",
      "\u001b[2m\u001b[36m(ClientAppActor pid=1208102)\u001b[0m \u001b[32m [repeated 75x across cluster]\u001b[0m\n",
      "\u001b[2m\u001b[36m(ClientAppActor pid=1208102)\u001b[0m Epoch 87/100\u001b[32m [repeated 75x across cluster]\u001b[0m\n",
      "\u001b[2m\u001b[36m(ClientAppActor pid=1208102)\u001b[0m Epoch 86: Training accuracy: 87.0853042602539 Testing accuracy: 75.94339752197266.\u001b[32m [repeated 75x across cluster]\u001b[0m\n",
      "\u001b[2m\u001b[36m(ClientAppActor pid=1208102)\u001b[0m \u001b[32m [repeated 184x across cluster]\u001b[0m\n",
      "\u001b[2m\u001b[36m(ClientAppActor pid=1208102)\u001b[0m Epoch 52/100\u001b[32m [repeated 184x across cluster]\u001b[0m\n",
      "\u001b[2m\u001b[36m(ClientAppActor pid=1208102)\u001b[0m Epoch 51: Training accuracy: 87.39130401611328 Testing accuracy: 72.25433349609375.\u001b[32m [repeated 184x across cluster]\u001b[0m\n",
      "\u001b[2m\u001b[36m(ClientAppActor pid=1208103)\u001b[0m \u001b[32m [repeated 63x across cluster]\u001b[0m\n",
      "\u001b[2m\u001b[36m(ClientAppActor pid=1208103)\u001b[0m Epoch 70/100\u001b[32m [repeated 63x across cluster]\u001b[0m\n",
      "\u001b[2m\u001b[36m(ClientAppActor pid=1208103)\u001b[0m Epoch 69: Training accuracy: 85.71428680419922 Testing accuracy: 80.0.\u001b[32m [repeated 64x across cluster]\u001b[0m\n",
      "\u001b[2m\u001b[36m(ClientAppActor pid=1208103)\u001b[0m \u001b[32m [repeated 11x across cluster]\u001b[0m\n",
      "\u001b[2m\u001b[36m(ClientAppActor pid=1208103)\u001b[0m Epoch 81/100\u001b[32m [repeated 11x across cluster]\u001b[0m\n",
      "\u001b[2m\u001b[36m(ClientAppActor pid=1208103)\u001b[0m Epoch 80: Training accuracy: 85.08634185791016 Testing accuracy: 78.125.\u001b[32m [repeated 11x across cluster]\u001b[0m\n",
      "\u001b[2m\u001b[36m(ClientAppActor pid=1208103)\u001b[0m \u001b[32m [repeated 13x across cluster]\u001b[0m\n",
      "\u001b[2m\u001b[36m(ClientAppActor pid=1208103)\u001b[0m Epoch 94/100\u001b[32m [repeated 13x across cluster]\u001b[0m\n",
      "\u001b[2m\u001b[36m(ClientAppActor pid=1208103)\u001b[0m Epoch 93: Training accuracy: 85.24333190917969 Testing accuracy: 79.375.\u001b[32m [repeated 13x across cluster]\u001b[0m\n"
     ]
    },
    {
     "name": "stderr",
     "output_type": "stream",
     "text": [
      "\u001b[92mINFO \u001b[0m:      aggregate_fit: received 4 results and 0 failures\n",
      "\u001b[92mINFO \u001b[0m:      fit progress: (19, 0.02928040483418633, {'accuracy': tensor(76.4818, device='cuda:0')}, 826.3156606340053)\n",
      "\u001b[92mINFO \u001b[0m:      configure_evaluate: strategy sampled 2 clients (out of 4)\n"
     ]
    },
    {
     "name": "stdout",
     "output_type": "stream",
     "text": [
      "Server-side evaluation loss 0.02928040483418633 / accuracy 76.4818344116211\n"
     ]
    },
    {
     "name": "stderr",
     "output_type": "stream",
     "text": [
      "\u001b[92mINFO \u001b[0m:      aggregate_evaluate: received 2 results and 0 failures\n",
      "\u001b[92mINFO \u001b[0m:      \n",
      "\u001b[92mINFO \u001b[0m:      [ROUND 20]\n",
      "\u001b[92mINFO \u001b[0m:      configure_fit: strategy sampled 4 clients (out of 4)\n"
     ]
    },
    {
     "name": "stdout",
     "output_type": "stream",
     "text": [
      "\u001b[2m\u001b[36m(ClientAppActor pid=1208102)\u001b[0m \u001b[32m [repeated 16x across cluster]\u001b[0m\n",
      "\u001b[2m\u001b[36m(ClientAppActor pid=1208102)\u001b[0m Epoch 8/100\u001b[32m [repeated 16x across cluster]\u001b[0m\n",
      "\u001b[2m\u001b[36m(ClientAppActor pid=1208102)\u001b[0m Epoch 7: Training accuracy: 83.84728240966797 Testing accuracy: 80.70175170898438.\u001b[32m [repeated 15x across cluster]\u001b[0m\n",
      "\u001b[2m\u001b[36m(ClientAppActor pid=1208102)\u001b[0m \u001b[32m [repeated 43x across cluster]\u001b[0m\n",
      "\u001b[2m\u001b[36m(ClientAppActor pid=1208102)\u001b[0m Epoch 42/100\u001b[32m [repeated 43x across cluster]\u001b[0m\n",
      "\u001b[2m\u001b[36m(ClientAppActor pid=1208102)\u001b[0m Epoch 41: Training accuracy: 86.4904556274414 Testing accuracy: 81.28655242919922.\u001b[32m [repeated 43x across cluster]\u001b[0m\n",
      "\u001b[2m\u001b[36m(ClientAppActor pid=1208102)\u001b[0m \u001b[32m [repeated 42x across cluster]\u001b[0m\n",
      "\u001b[2m\u001b[36m(ClientAppActor pid=1208102)\u001b[0m Epoch 75/100\u001b[32m [repeated 42x across cluster]\u001b[0m\n",
      "\u001b[2m\u001b[36m(ClientAppActor pid=1208102)\u001b[0m Epoch 74: Training accuracy: 85.16886901855469 Testing accuracy: 81.87134552001953.\u001b[32m [repeated 42x across cluster]\u001b[0m\n",
      "\u001b[2m\u001b[36m(ClientAppActor pid=1208103)\u001b[0m \u001b[32m [repeated 45x across cluster]\u001b[0m\n",
      "\u001b[2m\u001b[36m(ClientAppActor pid=1208103)\u001b[0m Epoch 29/100\u001b[32m [repeated 45x across cluster]\u001b[0m\n",
      "\u001b[2m\u001b[36m(ClientAppActor pid=1208103)\u001b[0m Epoch 28: Training accuracy: 85.66350555419922 Testing accuracy: 75.0.\u001b[32m [repeated 45x across cluster]\u001b[0m\n",
      "\u001b[2m\u001b[36m(ClientAppActor pid=1208102)\u001b[0m \u001b[32m [repeated 42x across cluster]\u001b[0m\n",
      "\u001b[2m\u001b[36m(ClientAppActor pid=1208102)\u001b[0m Epoch 44/100\u001b[32m [repeated 42x across cluster]\u001b[0m\n",
      "\u001b[2m\u001b[36m(ClientAppActor pid=1208102)\u001b[0m Epoch 43: Training accuracy: 82.75362396240234 Testing accuracy: 73.98844146728516.\u001b[32m [repeated 42x across cluster]\u001b[0m\n",
      "\u001b[2m\u001b[36m(ClientAppActor pid=1208103)\u001b[0m \u001b[32m [repeated 181x across cluster]\u001b[0m\n",
      "\u001b[2m\u001b[36m(ClientAppActor pid=1208103)\u001b[0m Epoch 62/100\u001b[32m [repeated 180x across cluster]\u001b[0m\n",
      "\u001b[2m\u001b[36m(ClientAppActor pid=1208103)\u001b[0m Epoch 61: Training accuracy: 87.0853042602539 Testing accuracy: 75.94339752197266.\u001b[32m [repeated 181x across cluster]\u001b[0m\n"
     ]
    },
    {
     "name": "stderr",
     "output_type": "stream",
     "text": [
      "\u001b[92mINFO \u001b[0m:      aggregate_fit: received 4 results and 0 failures\n",
      "\u001b[92mINFO \u001b[0m:      fit progress: (20, 0.03015639852075016, {'accuracy': tensor(76.1950, device='cuda:0')}, 855.1047279269987)\n",
      "\u001b[92mINFO \u001b[0m:      configure_evaluate: strategy sampled 2 clients (out of 4)\n",
      "\u001b[92mINFO \u001b[0m:      aggregate_evaluate: received 2 results and 0 failures\n",
      "\u001b[92mINFO \u001b[0m:      \n",
      "\u001b[92mINFO \u001b[0m:      [ROUND 21]\n",
      "\u001b[92mINFO \u001b[0m:      configure_fit: strategy sampled 4 clients (out of 4)\n"
     ]
    },
    {
     "name": "stdout",
     "output_type": "stream",
     "text": [
      "Server-side evaluation loss 0.03015639852075016 / accuracy 76.19503021240234\n",
      "\u001b[2m\u001b[36m(ClientAppActor pid=1208103)\u001b[0m \u001b[32m [repeated 225x across cluster]\u001b[0m\n",
      "\u001b[2m\u001b[36m(ClientAppActor pid=1208103)\u001b[0m Epoch 15/100\u001b[32m [repeated 225x across cluster]\u001b[0m\n",
      "\u001b[2m\u001b[36m(ClientAppActor pid=1208103)\u001b[0m Epoch 14: Training accuracy: 86.52173614501953 Testing accuracy: 75.1445083618164.\u001b[32m [repeated 224x across cluster]\u001b[0m\n",
      "\u001b[2m\u001b[36m(ClientAppActor pid=1208102)\u001b[0m \u001b[32m [repeated 67x across cluster]\u001b[0m\n",
      "\u001b[2m\u001b[36m(ClientAppActor pid=1208102)\u001b[0m Epoch 92/100\u001b[32m [repeated 67x across cluster]\u001b[0m\n",
      "\u001b[2m\u001b[36m(ClientAppActor pid=1208102)\u001b[0m Epoch 91: Training accuracy: 87.20378875732422 Testing accuracy: 76.41509246826172.\u001b[32m [repeated 67x across cluster]\u001b[0m\n",
      "\u001b[2m\u001b[36m(ClientAppActor pid=1208102)\u001b[0m \u001b[32m [repeated 22x across cluster]\u001b[0m\n",
      "\u001b[2m\u001b[36m(ClientAppActor pid=1208102)\u001b[0m Epoch 4/100\u001b[32m [repeated 22x across cluster]\u001b[0m\n",
      "\u001b[2m\u001b[36m(ClientAppActor pid=1208102)\u001b[0m Epoch 3: Training accuracy: 81.16169738769531 Testing accuracy: 78.125.\u001b[32m [repeated 22x across cluster]\u001b[0m\n",
      "\u001b[2m\u001b[36m(ClientAppActor pid=1208103)\u001b[0m \u001b[32m [repeated 28x across cluster]\u001b[0m\n",
      "\u001b[2m\u001b[36m(ClientAppActor pid=1208103)\u001b[0m Epoch 85/100\u001b[32m [repeated 28x across cluster]\u001b[0m\n",
      "\u001b[2m\u001b[36m(ClientAppActor pid=1208103)\u001b[0m Epoch 84: Training accuracy: 87.68115997314453 Testing accuracy: 73.98844146728516.\u001b[32m [repeated 28x across cluster]\u001b[0m\n",
      "\u001b[2m\u001b[36m(ClientAppActor pid=1208103)\u001b[0m \u001b[32m [repeated 27x across cluster]\u001b[0m\n",
      "\u001b[2m\u001b[36m(ClientAppActor pid=1208103)\u001b[0m Epoch 95/100\u001b[32m [repeated 27x across cluster]\u001b[0m\n",
      "\u001b[2m\u001b[36m(ClientAppActor pid=1208103)\u001b[0m Epoch 94: Training accuracy: 88.40579986572266 Testing accuracy: 75.72254180908203.\u001b[32m [repeated 27x across cluster]\u001b[0m\n",
      "\u001b[2m\u001b[36m(ClientAppActor pid=1208102)\u001b[0m \u001b[32m [repeated 21x across cluster]\u001b[0m\n",
      "\u001b[2m\u001b[36m(ClientAppActor pid=1208102)\u001b[0m Epoch 52/100\u001b[32m [repeated 21x across cluster]\u001b[0m\n",
      "\u001b[2m\u001b[36m(ClientAppActor pid=1208102)\u001b[0m Epoch 51: Training accuracy: 85.40031433105469 Testing accuracy: 80.625.\u001b[32m [repeated 22x across cluster]\u001b[0m\n",
      "\u001b[2m\u001b[36m(ClientAppActor pid=1208102)\u001b[0m \u001b[32m [repeated 15x across cluster]\u001b[0m\n",
      "\u001b[2m\u001b[36m(ClientAppActor pid=1208102)\u001b[0m Epoch 67/100\u001b[32m [repeated 15x across cluster]\u001b[0m\n",
      "\u001b[2m\u001b[36m(ClientAppActor pid=1208102)\u001b[0m Epoch 66: Training accuracy: 84.92935943603516 Testing accuracy: 78.75.\u001b[32m [repeated 15x across cluster]\u001b[0m\n",
      "\u001b[2m\u001b[36m(ClientAppActor pid=1208102)\u001b[0m \u001b[32m [repeated 17x across cluster]\u001b[0m\n",
      "\u001b[2m\u001b[36m(ClientAppActor pid=1208102)\u001b[0m Epoch 84/100\u001b[32m [repeated 17x across cluster]\u001b[0m\n",
      "\u001b[2m\u001b[36m(ClientAppActor pid=1208102)\u001b[0m Epoch 83: Training accuracy: 85.55729675292969 Testing accuracy: 79.375.\u001b[32m [repeated 17x across cluster]\u001b[0m\n",
      "\u001b[2m\u001b[36m(ClientAppActor pid=1208102)\u001b[0m \u001b[32m [repeated 16x across cluster]\u001b[0m\n",
      "\u001b[2m\u001b[36m(ClientAppActor pid=1208102)\u001b[0m Epoch 100/100\u001b[32m [repeated 16x across cluster]\u001b[0m\n",
      "\u001b[2m\u001b[36m(ClientAppActor pid=1208102)\u001b[0m Epoch 99: Training accuracy: 85.55729675292969 Testing accuracy: 80.0.\u001b[32m [repeated 16x across cluster]\u001b[0m\n"
     ]
    },
    {
     "name": "stderr",
     "output_type": "stream",
     "text": [
      "\u001b[92mINFO \u001b[0m:      aggregate_fit: received 4 results and 0 failures\n",
      "\u001b[92mINFO \u001b[0m:      fit progress: (21, 0.029957631055046532, {'accuracy': tensor(76.2906, device='cuda:0')}, 899.809242214993)\n",
      "\u001b[92mINFO \u001b[0m:      configure_evaluate: strategy sampled 2 clients (out of 4)\n"
     ]
    },
    {
     "name": "stdout",
     "output_type": "stream",
     "text": [
      "Server-side evaluation loss 0.029957631055046532 / accuracy 76.29063415527344\n"
     ]
    },
    {
     "name": "stderr",
     "output_type": "stream",
     "text": [
      "\u001b[92mINFO \u001b[0m:      aggregate_evaluate: received 2 results and 0 failures\n",
      "\u001b[92mINFO \u001b[0m:      \n",
      "\u001b[92mINFO \u001b[0m:      [ROUND 22]\n",
      "\u001b[92mINFO \u001b[0m:      configure_fit: strategy sampled 4 clients (out of 4)\n"
     ]
    },
    {
     "name": "stdout",
     "output_type": "stream",
     "text": [
      "\u001b[2m\u001b[36m(ClientAppActor pid=1208102)\u001b[0m \u001b[32m [repeated 19x across cluster]\u001b[0m\n",
      "\u001b[2m\u001b[36m(ClientAppActor pid=1208102)\u001b[0m Epoch 9/100\u001b[32m [repeated 19x across cluster]\u001b[0m\n",
      "\u001b[2m\u001b[36m(ClientAppActor pid=1208102)\u001b[0m Epoch 8: Training accuracy: 85.90047454833984 Testing accuracy: 76.88679504394531.\u001b[32m [repeated 18x across cluster]\u001b[0m\n",
      "\u001b[2m\u001b[36m(ClientAppActor pid=1208103)\u001b[0m \u001b[32m [repeated 23x across cluster]\u001b[0m\n",
      "\u001b[2m\u001b[36m(ClientAppActor pid=1208103)\u001b[0m Epoch 21/100\u001b[32m [repeated 23x across cluster]\u001b[0m\n",
      "\u001b[2m\u001b[36m(ClientAppActor pid=1208103)\u001b[0m Epoch 20: Training accuracy: 84.28781127929688 Testing accuracy: 81.87134552001953.\u001b[32m [repeated 23x across cluster]\u001b[0m\n",
      "\u001b[2m\u001b[36m(ClientAppActor pid=1208103)\u001b[0m \u001b[32m [repeated 26x across cluster]\u001b[0m\n",
      "\u001b[2m\u001b[36m(ClientAppActor pid=1208103)\u001b[0m Epoch 33/100\u001b[32m [repeated 26x across cluster]\u001b[0m\n",
      "\u001b[2m\u001b[36m(ClientAppActor pid=1208103)\u001b[0m Epoch 32: Training accuracy: 85.46255493164062 Testing accuracy: 79.53216552734375.\u001b[32m [repeated 26x across cluster]\u001b[0m\n",
      "\u001b[2m\u001b[36m(ClientAppActor pid=1208102)\u001b[0m \u001b[32m [repeated 21x across cluster]\u001b[0m\n",
      "\u001b[2m\u001b[36m(ClientAppActor pid=1208102)\u001b[0m Epoch 46/100\u001b[32m [repeated 21x across cluster]\u001b[0m\n",
      "\u001b[2m\u001b[36m(ClientAppActor pid=1208102)\u001b[0m Epoch 45: Training accuracy: 86.37440490722656 Testing accuracy: 75.94339752197266.\u001b[32m [repeated 21x across cluster]\u001b[0m\n",
      "\u001b[2m\u001b[36m(ClientAppActor pid=1208103)\u001b[0m \u001b[32m [repeated 27x across cluster]\u001b[0m\n",
      "\u001b[2m\u001b[36m(ClientAppActor pid=1208103)\u001b[0m Epoch 56/100\u001b[32m [repeated 27x across cluster]\u001b[0m\n",
      "\u001b[2m\u001b[36m(ClientAppActor pid=1208103)\u001b[0m Epoch 55: Training accuracy: 86.4904556274414 Testing accuracy: 78.9473648071289.\u001b[32m [repeated 27x across cluster]\u001b[0m\n",
      "\u001b[2m\u001b[36m(ClientAppActor pid=1208103)\u001b[0m \u001b[32m [repeated 36x across cluster]\u001b[0m\n",
      "\u001b[2m\u001b[36m(ClientAppActor pid=1208103)\u001b[0m Epoch 71/100\u001b[32m [repeated 36x across cluster]\u001b[0m\n",
      "\u001b[2m\u001b[36m(ClientAppActor pid=1208103)\u001b[0m Epoch 70: Training accuracy: 86.34361267089844 Testing accuracy: 76.60818481445312.\u001b[32m [repeated 36x across cluster]\u001b[0m\n",
      "\u001b[2m\u001b[36m(ClientAppActor pid=1208103)\u001b[0m \u001b[32m [repeated 37x across cluster]\u001b[0m\n",
      "\u001b[2m\u001b[36m(ClientAppActor pid=1208103)\u001b[0m Epoch 89/100\u001b[32m [repeated 37x across cluster]\u001b[0m\n",
      "\u001b[2m\u001b[36m(ClientAppActor pid=1208103)\u001b[0m Epoch 88: Training accuracy: 85.6093978881836 Testing accuracy: 80.11695861816406.\u001b[32m [repeated 37x across cluster]\u001b[0m\n",
      "\u001b[2m\u001b[36m(ClientAppActor pid=1208102)\u001b[0m \u001b[32m [repeated 86x across cluster]\u001b[0m\n",
      "\u001b[2m\u001b[36m(ClientAppActor pid=1208102)\u001b[0m Epoch 70/100\u001b[32m [repeated 86x across cluster]\u001b[0m\n",
      "\u001b[2m\u001b[36m(ClientAppActor pid=1208102)\u001b[0m Epoch 69: Training accuracy: 80.69073486328125 Testing accuracy: 78.75.\u001b[32m [repeated 86x across cluster]\u001b[0m\n",
      "\u001b[2m\u001b[36m(ClientAppActor pid=1208103)\u001b[0m \u001b[32m [repeated 43x across cluster]\u001b[0m\n",
      "\u001b[2m\u001b[36m(ClientAppActor pid=1208103)\u001b[0m Epoch 18/100\u001b[32m [repeated 43x across cluster]\u001b[0m\n",
      "\u001b[2m\u001b[36m(ClientAppActor pid=1208103)\u001b[0m Epoch 17: Training accuracy: 85.36231994628906 Testing accuracy: 74.56647491455078.\u001b[32m [repeated 44x across cluster]\u001b[0m\n",
      "\u001b[2m\u001b[36m(ClientAppActor pid=1208103)\u001b[0m \u001b[32m [repeated 12x across cluster]\u001b[0m\n",
      "\u001b[2m\u001b[36m(ClientAppActor pid=1208103)\u001b[0m Epoch 30/100\u001b[32m [repeated 12x across cluster]\u001b[0m\n",
      "\u001b[2m\u001b[36m(ClientAppActor pid=1208103)\u001b[0m Epoch 29: Training accuracy: 87.97101593017578 Testing accuracy: 71.67630004882812.\u001b[32m [repeated 12x across cluster]\u001b[0m\n",
      "\u001b[2m\u001b[36m(ClientAppActor pid=1208103)\u001b[0m \u001b[32m [repeated 15x across cluster]\u001b[0m\n",
      "\u001b[2m\u001b[36m(ClientAppActor pid=1208103)\u001b[0m Epoch 45/100\u001b[32m [repeated 15x across cluster]\u001b[0m\n",
      "\u001b[2m\u001b[36m(ClientAppActor pid=1208103)\u001b[0m Epoch 44: Training accuracy: 87.82608795166016 Testing accuracy: 75.72254180908203.\u001b[32m [repeated 15x across cluster]\u001b[0m\n",
      "\u001b[2m\u001b[36m(ClientAppActor pid=1208103)\u001b[0m \u001b[32m [repeated 15x across cluster]\u001b[0m\n",
      "\u001b[2m\u001b[36m(ClientAppActor pid=1208103)\u001b[0m Epoch 60/100\u001b[32m [repeated 15x across cluster]\u001b[0m\n",
      "\u001b[2m\u001b[36m(ClientAppActor pid=1208103)\u001b[0m Epoch 59: Training accuracy: 81.59420013427734 Testing accuracy: 73.41040802001953.\u001b[32m [repeated 15x across cluster]\u001b[0m\n",
      "\u001b[2m\u001b[36m(ClientAppActor pid=1208103)\u001b[0m \u001b[32m [repeated 14x across cluster]\u001b[0m\n",
      "\u001b[2m\u001b[36m(ClientAppActor pid=1208103)\u001b[0m Epoch 74/100\u001b[32m [repeated 14x across cluster]\u001b[0m\n",
      "\u001b[2m\u001b[36m(ClientAppActor pid=1208103)\u001b[0m Epoch 73: Training accuracy: 87.97101593017578 Testing accuracy: 75.72254180908203.\u001b[32m [repeated 14x across cluster]\u001b[0m\n",
      "\u001b[2m\u001b[36m(ClientAppActor pid=1208103)\u001b[0m \u001b[32m [repeated 18x across cluster]\u001b[0m\n",
      "\u001b[2m\u001b[36m(ClientAppActor pid=1208103)\u001b[0m Epoch 92/100\u001b[32m [repeated 18x across cluster]\u001b[0m\n",
      "\u001b[2m\u001b[36m(ClientAppActor pid=1208103)\u001b[0m Epoch 91: Training accuracy: 88.55072784423828 Testing accuracy: 75.1445083618164.\u001b[32m [repeated 18x across cluster]\u001b[0m\n"
     ]
    },
    {
     "name": "stderr",
     "output_type": "stream",
     "text": [
      "\u001b[92mINFO \u001b[0m:      aggregate_fit: received 4 results and 0 failures\n",
      "\u001b[92mINFO \u001b[0m:      fit progress: (22, 0.029798767145942238, {'accuracy': tensor(76.3862, device='cuda:0')}, 974.3711680849956)\n",
      "\u001b[92mINFO \u001b[0m:      configure_evaluate: strategy sampled 2 clients (out of 4)\n",
      "\u001b[92mINFO \u001b[0m:      aggregate_evaluate: received 2 results and 0 failures\n",
      "\u001b[92mINFO \u001b[0m:      \n",
      "\u001b[92mINFO \u001b[0m:      [ROUND 23]\n",
      "\u001b[92mINFO \u001b[0m:      configure_fit: strategy sampled 4 clients (out of 4)\n"
     ]
    },
    {
     "name": "stdout",
     "output_type": "stream",
     "text": [
      "Server-side evaluation loss 0.029798767145942238 / accuracy 76.38623046875\n",
      "\u001b[2m\u001b[36m(ClientAppActor pid=1208103)\u001b[0m \u001b[32m [repeated 43x across cluster]\u001b[0m\n",
      "\u001b[2m\u001b[36m(ClientAppActor pid=1208103)\u001b[0m Epoch 20/100\u001b[32m [repeated 43x across cluster]\u001b[0m\n",
      "\u001b[2m\u001b[36m(ClientAppActor pid=1208103)\u001b[0m Epoch 19: Training accuracy: 85.08634185791016 Testing accuracy: 80.625.\u001b[32m [repeated 42x across cluster]\u001b[0m\n",
      "\u001b[2m\u001b[36m(ClientAppActor pid=1208103)\u001b[0m \u001b[32m [repeated 33x across cluster]\u001b[0m\n",
      "\u001b[2m\u001b[36m(ClientAppActor pid=1208103)\u001b[0m Epoch 37/100\u001b[32m [repeated 33x across cluster]\u001b[0m\n",
      "\u001b[2m\u001b[36m(ClientAppActor pid=1208103)\u001b[0m Epoch 36: Training accuracy: 84.61538696289062 Testing accuracy: 78.75.\u001b[32m [repeated 33x across cluster]\u001b[0m\n",
      "\u001b[2m\u001b[36m(ClientAppActor pid=1208102)\u001b[0m \u001b[32m [repeated 42x across cluster]\u001b[0m\n",
      "\u001b[2m\u001b[36m(ClientAppActor pid=1208102)\u001b[0m Epoch 55/100\u001b[32m [repeated 42x across cluster]\u001b[0m\n",
      "\u001b[2m\u001b[36m(ClientAppActor pid=1208102)\u001b[0m Epoch 54: Training accuracy: 88.40579986572266 Testing accuracy: 71.0982666015625.\u001b[32m [repeated 42x across cluster]\u001b[0m\n",
      "\u001b[2m\u001b[36m(ClientAppActor pid=1208103)\u001b[0m \u001b[32m [repeated 43x across cluster]\u001b[0m\n",
      "\u001b[2m\u001b[36m(ClientAppActor pid=1208103)\u001b[0m Epoch 75/100\u001b[32m [repeated 43x across cluster]\u001b[0m\n",
      "\u001b[2m\u001b[36m(ClientAppActor pid=1208103)\u001b[0m Epoch 74: Training accuracy: 85.71428680419922 Testing accuracy: 78.75.\u001b[32m [repeated 43x across cluster]\u001b[0m\n",
      "\u001b[2m\u001b[36m(ClientAppActor pid=1208102)\u001b[0m \u001b[32m [repeated 55x across cluster]\u001b[0m\n",
      "\u001b[2m\u001b[36m(ClientAppActor pid=1208102)\u001b[0m Epoch 15/100\u001b[32m [repeated 55x across cluster]\u001b[0m\n",
      "\u001b[2m\u001b[36m(ClientAppActor pid=1208102)\u001b[0m Epoch 14: Training accuracy: 86.84834289550781 Testing accuracy: 77.35848999023438.\u001b[32m [repeated 55x across cluster]\u001b[0m\n",
      "\u001b[2m\u001b[36m(ClientAppActor pid=1208103)\u001b[0m \u001b[32m [repeated 37x across cluster]\u001b[0m\n",
      "\u001b[2m\u001b[36m(ClientAppActor pid=1208103)\u001b[0m Epoch 6/100\u001b[32m [repeated 37x across cluster]\u001b[0m\n",
      "\u001b[2m\u001b[36m(ClientAppActor pid=1208103)\u001b[0m Epoch 5: Training accuracy: 83.99412536621094 Testing accuracy: 81.28655242919922.\u001b[32m [repeated 37x across cluster]\u001b[0m\n",
      "\u001b[2m\u001b[36m(ClientAppActor pid=1208103)\u001b[0m \u001b[32m [repeated 30x across cluster]\u001b[0m\n",
      "\u001b[2m\u001b[36m(ClientAppActor pid=1208103)\u001b[0m Epoch 16/100\u001b[32m [repeated 30x across cluster]\u001b[0m\n",
      "\u001b[2m\u001b[36m(ClientAppActor pid=1208103)\u001b[0m Epoch 15: Training accuracy: 85.6093978881836 Testing accuracy: 80.70175170898438.\u001b[32m [repeated 30x across cluster]\u001b[0m\n",
      "\u001b[2m\u001b[36m(ClientAppActor pid=1208102)\u001b[0m \u001b[32m [repeated 31x across cluster]\u001b[0m\n",
      "\u001b[2m\u001b[36m(ClientAppActor pid=1208102)\u001b[0m Epoch 78/100\u001b[32m [repeated 31x across cluster]\u001b[0m\n",
      "\u001b[2m\u001b[36m(ClientAppActor pid=1208102)\u001b[0m Epoch 77: Training accuracy: 85.78199005126953 Testing accuracy: 77.35848999023438.\u001b[32m [repeated 31x across cluster]\u001b[0m\n",
      "\u001b[2m\u001b[36m(ClientAppActor pid=1208103)\u001b[0m \u001b[32m [repeated 28x across cluster]\u001b[0m\n",
      "\u001b[2m\u001b[36m(ClientAppActor pid=1208103)\u001b[0m Epoch 39/100\u001b[32m [repeated 28x across cluster]\u001b[0m\n",
      "\u001b[2m\u001b[36m(ClientAppActor pid=1208103)\u001b[0m Epoch 38: Training accuracy: 85.75624084472656 Testing accuracy: 79.53216552734375.\u001b[32m [repeated 28x across cluster]\u001b[0m\n",
      "\u001b[2m\u001b[36m(ClientAppActor pid=1208103)\u001b[0m \u001b[32m [repeated 18x across cluster]\u001b[0m\n",
      "\u001b[2m\u001b[36m(ClientAppActor pid=1208103)\u001b[0m Epoch 52/100\u001b[32m [repeated 18x across cluster]\u001b[0m\n",
      "\u001b[2m\u001b[36m(ClientAppActor pid=1208103)\u001b[0m Epoch 51: Training accuracy: 86.34361267089844 Testing accuracy: 80.70175170898438.\u001b[32m [repeated 19x across cluster]\u001b[0m\n",
      "\u001b[2m\u001b[36m(ClientAppActor pid=1208103)\u001b[0m \u001b[32m [repeated 10x across cluster]\u001b[0m\n",
      "\u001b[2m\u001b[36m(ClientAppActor pid=1208103)\u001b[0m Epoch 62/100\u001b[32m [repeated 10x across cluster]\u001b[0m\n",
      "\u001b[2m\u001b[36m(ClientAppActor pid=1208103)\u001b[0m Epoch 61: Training accuracy: 87.07782745361328 Testing accuracy: 80.11695861816406.\u001b[32m [repeated 10x across cluster]\u001b[0m\n",
      "\u001b[2m\u001b[36m(ClientAppActor pid=1208103)\u001b[0m \u001b[32m [repeated 13x across cluster]\u001b[0m\n",
      "\u001b[2m\u001b[36m(ClientAppActor pid=1208103)\u001b[0m Epoch 75/100\u001b[32m [repeated 13x across cluster]\u001b[0m\n",
      "\u001b[2m\u001b[36m(ClientAppActor pid=1208103)\u001b[0m Epoch 74: Training accuracy: 84.28781127929688 Testing accuracy: 78.9473648071289.\u001b[32m [repeated 13x across cluster]\u001b[0m\n",
      "\u001b[2m\u001b[36m(ClientAppActor pid=1208103)\u001b[0m \u001b[32m [repeated 11x across cluster]\u001b[0m\n",
      "\u001b[2m\u001b[36m(ClientAppActor pid=1208103)\u001b[0m Epoch 86/100\u001b[32m [repeated 11x across cluster]\u001b[0m\n",
      "\u001b[2m\u001b[36m(ClientAppActor pid=1208103)\u001b[0m Epoch 85: Training accuracy: 86.93098449707031 Testing accuracy: 78.9473648071289.\u001b[32m [repeated 11x across cluster]\u001b[0m\n",
      "\u001b[2m\u001b[36m(ClientAppActor pid=1208103)\u001b[0m \u001b[32m [repeated 11x across cluster]\u001b[0m\n",
      "\u001b[2m\u001b[36m(ClientAppActor pid=1208103)\u001b[0m Epoch 97/100\u001b[32m [repeated 11x across cluster]\u001b[0m\n",
      "\u001b[2m\u001b[36m(ClientAppActor pid=1208103)\u001b[0m Epoch 96: Training accuracy: 85.16886901855469 Testing accuracy: 80.70175170898438.\u001b[32m [repeated 11x across cluster]\u001b[0m\n"
     ]
    },
    {
     "name": "stderr",
     "output_type": "stream",
     "text": [
      "\u001b[92mINFO \u001b[0m:      aggregate_fit: received 4 results and 0 failures\n",
      "\u001b[92mINFO \u001b[0m:      fit progress: (23, 0.032964776544009936, {'accuracy': tensor(74.0918, device='cuda:0')}, 1046.9667260499991)\n",
      "\u001b[92mINFO \u001b[0m:      configure_evaluate: strategy sampled 2 clients (out of 4)\n"
     ]
    },
    {
     "name": "stdout",
     "output_type": "stream",
     "text": [
      "Server-side evaluation loss 0.032964776544009936 / accuracy 74.09178161621094\n"
     ]
    },
    {
     "name": "stderr",
     "output_type": "stream",
     "text": [
      "\u001b[92mINFO \u001b[0m:      aggregate_evaluate: received 2 results and 0 failures\n",
      "\u001b[92mINFO \u001b[0m:      \n",
      "\u001b[92mINFO \u001b[0m:      [ROUND 24]\n",
      "\u001b[92mINFO \u001b[0m:      configure_fit: strategy sampled 4 clients (out of 4)\n"
     ]
    },
    {
     "name": "stdout",
     "output_type": "stream",
     "text": [
      "\u001b[2m\u001b[36m(ClientAppActor pid=1208102)\u001b[0m \u001b[32m [repeated 64x across cluster]\u001b[0m\n",
      "\u001b[2m\u001b[36m(ClientAppActor pid=1208102)\u001b[0m Epoch 55/100\u001b[32m [repeated 64x across cluster]\u001b[0m\n",
      "\u001b[2m\u001b[36m(ClientAppActor pid=1208102)\u001b[0m Epoch 54: Training accuracy: 83.6492919921875 Testing accuracy: 77.83018493652344.\u001b[32m [repeated 63x across cluster]\u001b[0m\n",
      "\u001b[2m\u001b[36m(ClientAppActor pid=1208102)\u001b[0m \u001b[32m [repeated 185x across cluster]\u001b[0m\n",
      "\u001b[2m\u001b[36m(ClientAppActor pid=1208102)\u001b[0m Epoch 23/100\u001b[32m [repeated 185x across cluster]\u001b[0m\n",
      "\u001b[2m\u001b[36m(ClientAppActor pid=1208102)\u001b[0m Epoch 22: Training accuracy: 86.4904556274414 Testing accuracy: 81.28655242919922.\u001b[32m [repeated 185x across cluster]\u001b[0m\n",
      "\u001b[2m\u001b[36m(ClientAppActor pid=1208103)\u001b[0m \u001b[32m [repeated 94x across cluster]\u001b[0m\n",
      "\u001b[2m\u001b[36m(ClientAppActor pid=1208103)\u001b[0m Epoch 40/100\u001b[32m [repeated 94x across cluster]\u001b[0m\n",
      "\u001b[2m\u001b[36m(ClientAppActor pid=1208103)\u001b[0m Epoch 39: Training accuracy: 86.9565200805664 Testing accuracy: 74.56647491455078.\u001b[32m [repeated 95x across cluster]\u001b[0m\n",
      "\u001b[2m\u001b[36m(ClientAppActor pid=1208103)\u001b[0m \u001b[32m [repeated 10x across cluster]\u001b[0m\n",
      "\u001b[2m\u001b[36m(ClientAppActor pid=1208103)\u001b[0m Epoch 50/100\u001b[32m [repeated 10x across cluster]\u001b[0m\n",
      "\u001b[2m\u001b[36m(ClientAppActor pid=1208103)\u001b[0m Epoch 49: Training accuracy: 87.82608795166016 Testing accuracy: 69.94219970703125.\u001b[32m [repeated 10x across cluster]\u001b[0m\n",
      "\u001b[2m\u001b[36m(ClientAppActor pid=1208103)\u001b[0m \u001b[32m [repeated 11x across cluster]\u001b[0m\n",
      "\u001b[2m\u001b[36m(ClientAppActor pid=1208103)\u001b[0m Epoch 61/100\u001b[32m [repeated 11x across cluster]\u001b[0m\n",
      "\u001b[2m\u001b[36m(ClientAppActor pid=1208103)\u001b[0m Epoch 60: Training accuracy: 87.97101593017578 Testing accuracy: 69.94219970703125.\u001b[32m [repeated 11x across cluster]\u001b[0m\n",
      "\u001b[2m\u001b[36m(ClientAppActor pid=1208103)\u001b[0m \u001b[32m [repeated 12x across cluster]\u001b[0m\n",
      "\u001b[2m\u001b[36m(ClientAppActor pid=1208103)\u001b[0m Epoch 73/100\u001b[32m [repeated 12x across cluster]\u001b[0m\n",
      "\u001b[2m\u001b[36m(ClientAppActor pid=1208103)\u001b[0m Epoch 72: Training accuracy: 88.1159439086914 Testing accuracy: 74.56647491455078.\u001b[32m [repeated 12x across cluster]\u001b[0m\n",
      "\u001b[2m\u001b[36m(ClientAppActor pid=1208103)\u001b[0m \u001b[32m [repeated 12x across cluster]\u001b[0m\n",
      "\u001b[2m\u001b[36m(ClientAppActor pid=1208103)\u001b[0m Epoch 85/100\u001b[32m [repeated 12x across cluster]\u001b[0m\n",
      "\u001b[2m\u001b[36m(ClientAppActor pid=1208103)\u001b[0m Epoch 84: Training accuracy: 87.97101593017578 Testing accuracy: 72.83236694335938.\u001b[32m [repeated 12x across cluster]\u001b[0m\n",
      "\u001b[2m\u001b[36m(ClientAppActor pid=1208103)\u001b[0m \u001b[32m [repeated 13x across cluster]\u001b[0m\n",
      "\u001b[2m\u001b[36m(ClientAppActor pid=1208103)\u001b[0m Epoch 98/100\u001b[32m [repeated 13x across cluster]\u001b[0m\n",
      "\u001b[2m\u001b[36m(ClientAppActor pid=1208103)\u001b[0m Epoch 97: Training accuracy: 88.1159439086914 Testing accuracy: 70.52023315429688.\u001b[32m [repeated 13x across cluster]\u001b[0m\n"
     ]
    },
    {
     "name": "stderr",
     "output_type": "stream",
     "text": [
      "\u001b[92mINFO \u001b[0m:      aggregate_fit: received 4 results and 0 failures\n",
      "\u001b[92mINFO \u001b[0m:      fit progress: (24, 0.03173742925419527, {'accuracy': tensor(74.7610, device='cuda:0')}, 1086.812326351006)\n",
      "\u001b[92mINFO \u001b[0m:      configure_evaluate: strategy sampled 2 clients (out of 4)\n",
      "\u001b[92mINFO \u001b[0m:      aggregate_evaluate: received 2 results and 0 failures\n",
      "\u001b[92mINFO \u001b[0m:      \n",
      "\u001b[92mINFO \u001b[0m:      [ROUND 25]\n",
      "\u001b[92mINFO \u001b[0m:      configure_fit: strategy sampled 4 clients (out of 4)\n"
     ]
    },
    {
     "name": "stdout",
     "output_type": "stream",
     "text": [
      "Server-side evaluation loss 0.03173742925419527 / accuracy 74.76099395751953\n",
      "\u001b[2m\u001b[36m(ClientAppActor pid=1208103)\u001b[0m \u001b[32m [repeated 53x across cluster]\u001b[0m\n",
      "\u001b[2m\u001b[36m(ClientAppActor pid=1208103)\u001b[0m Epoch 21/100\u001b[32m [repeated 53x across cluster]\u001b[0m\n",
      "\u001b[2m\u001b[36m(ClientAppActor pid=1208103)\u001b[0m Epoch 20: Training accuracy: 85.24333190917969 Testing accuracy: 79.375.\u001b[32m [repeated 52x across cluster]\u001b[0m\n",
      "\u001b[2m\u001b[36m(ClientAppActor pid=1208102)\u001b[0m \u001b[32m [repeated 50x across cluster]\u001b[0m\n",
      "\u001b[2m\u001b[36m(ClientAppActor pid=1208102)\u001b[0m Epoch 47/100\u001b[32m [repeated 50x across cluster]\u001b[0m\n",
      "\u001b[2m\u001b[36m(ClientAppActor pid=1208102)\u001b[0m Epoch 46: Training accuracy: 86.61137390136719 Testing accuracy: 74.05660247802734.\u001b[32m [repeated 50x across cluster]\u001b[0m\n",
      "\u001b[2m\u001b[36m(ClientAppActor pid=1208103)\u001b[0m \u001b[32m [repeated 33x across cluster]\u001b[0m\n",
      "\u001b[2m\u001b[36m(ClientAppActor pid=1208103)\u001b[0m Epoch 72/100\u001b[32m [repeated 33x across cluster]\u001b[0m\n",
      "\u001b[2m\u001b[36m(ClientAppActor pid=1208103)\u001b[0m Epoch 71: Training accuracy: 85.24333190917969 Testing accuracy: 80.0.\u001b[32m [repeated 33x across cluster]\u001b[0m\n",
      "\u001b[2m\u001b[36m(ClientAppActor pid=1208103)\u001b[0m \u001b[32m [repeated 37x across cluster]\u001b[0m\n",
      "\u001b[2m\u001b[36m(ClientAppActor pid=1208103)\u001b[0m Epoch 91/100\u001b[32m [repeated 37x across cluster]\u001b[0m\n",
      "\u001b[2m\u001b[36m(ClientAppActor pid=1208103)\u001b[0m Epoch 90: Training accuracy: 85.40031433105469 Testing accuracy: 76.875.\u001b[32m [repeated 37x across cluster]\u001b[0m\n",
      "\u001b[2m\u001b[36m(ClientAppActor pid=1208102)\u001b[0m \u001b[32m [repeated 38x across cluster]\u001b[0m\n",
      "\u001b[2m\u001b[36m(ClientAppActor pid=1208102)\u001b[0m Epoch 1/100\u001b[32m [repeated 38x across cluster]\u001b[0m\n",
      "\u001b[2m\u001b[36m(ClientAppActor pid=1208102)\u001b[0m Epoch 100: Training accuracy: 86.84834289550781 Testing accuracy: 74.05660247802734.\u001b[32m [repeated 38x across cluster]\u001b[0m\n",
      "\u001b[2m\u001b[36m(ClientAppActor pid=1208102)\u001b[0m \u001b[32m [repeated 45x across cluster]\u001b[0m\n",
      "\u001b[2m\u001b[36m(ClientAppActor pid=1208102)\u001b[0m Epoch 29/100\u001b[32m [repeated 45x across cluster]\u001b[0m\n",
      "\u001b[2m\u001b[36m(ClientAppActor pid=1208102)\u001b[0m Epoch 28: Training accuracy: 86.0499267578125 Testing accuracy: 79.53216552734375.\u001b[32m [repeated 45x across cluster]\u001b[0m\n",
      "\u001b[2m\u001b[36m(ClientAppActor pid=1208102)\u001b[0m \u001b[32m [repeated 24x across cluster]\u001b[0m\n",
      "\u001b[2m\u001b[36m(ClientAppActor pid=1208102)\u001b[0m Epoch 43/100\u001b[32m [repeated 24x across cluster]\u001b[0m\n",
      "\u001b[2m\u001b[36m(ClientAppActor pid=1208102)\u001b[0m Epoch 42: Training accuracy: 86.78414154052734 Testing accuracy: 82.45613861083984.\u001b[32m [repeated 24x across cluster]\u001b[0m\n",
      "\u001b[2m\u001b[36m(ClientAppActor pid=1208103)\u001b[0m \u001b[32m [repeated 27x across cluster]\u001b[0m\n",
      "\u001b[2m\u001b[36m(ClientAppActor pid=1208103)\u001b[0m Epoch 48/100\u001b[32m [repeated 27x across cluster]\u001b[0m\n",
      "\u001b[2m\u001b[36m(ClientAppActor pid=1208103)\u001b[0m Epoch 47: Training accuracy: 88.6956558227539 Testing accuracy: 72.25433349609375.\u001b[32m [repeated 27x across cluster]\u001b[0m\n",
      "\u001b[2m\u001b[36m(ClientAppActor pid=1208102)\u001b[0m \u001b[32m [repeated 24x across cluster]\u001b[0m\n",
      "\u001b[2m\u001b[36m(ClientAppActor pid=1208102)\u001b[0m Epoch 72/100\u001b[32m [repeated 24x across cluster]\u001b[0m\n",
      "\u001b[2m\u001b[36m(ClientAppActor pid=1208102)\u001b[0m Epoch 71: Training accuracy: 85.75624084472656 Testing accuracy: 79.53216552734375.\u001b[32m [repeated 24x across cluster]\u001b[0m\n",
      "\u001b[2m\u001b[36m(ClientAppActor pid=1208103)\u001b[0m \u001b[32m [repeated 26x across cluster]\u001b[0m\n",
      "\u001b[2m\u001b[36m(ClientAppActor pid=1208103)\u001b[0m Epoch 70/100\u001b[32m [repeated 26x across cluster]\u001b[0m\n",
      "\u001b[2m\u001b[36m(ClientAppActor pid=1208103)\u001b[0m Epoch 69: Training accuracy: 87.97101593017578 Testing accuracy: 73.98844146728516.\u001b[32m [repeated 26x across cluster]\u001b[0m\n",
      "\u001b[2m\u001b[36m(ClientAppActor pid=1208103)\u001b[0m \u001b[32m [repeated 26x across cluster]\u001b[0m\n",
      "\u001b[2m\u001b[36m(ClientAppActor pid=1208103)\u001b[0m Epoch 81/100\u001b[32m [repeated 26x across cluster]\u001b[0m\n",
      "\u001b[2m\u001b[36m(ClientAppActor pid=1208103)\u001b[0m Epoch 80: Training accuracy: 88.26087188720703 Testing accuracy: 70.52023315429688.\u001b[32m [repeated 27x across cluster]\u001b[0m\n",
      "\u001b[2m\u001b[36m(ClientAppActor pid=1208103)\u001b[0m \u001b[32m [repeated 12x across cluster]\u001b[0m\n",
      "\u001b[2m\u001b[36m(ClientAppActor pid=1208103)\u001b[0m Epoch 93/100\u001b[32m [repeated 12x across cluster]\u001b[0m\n",
      "\u001b[2m\u001b[36m(ClientAppActor pid=1208103)\u001b[0m Epoch 92: Training accuracy: 88.40579986572266 Testing accuracy: 73.98844146728516.\u001b[32m [repeated 12x across cluster]\u001b[0m\n"
     ]
    },
    {
     "name": "stderr",
     "output_type": "stream",
     "text": [
      "\u001b[92mINFO \u001b[0m:      aggregate_fit: received 4 results and 0 failures\n",
      "\u001b[92mINFO \u001b[0m:      fit progress: (25, 0.03217901903040269, {'accuracy': tensor(75.0478, device='cuda:0')}, 1152.0814663339988)\n",
      "\u001b[92mINFO \u001b[0m:      configure_evaluate: strategy sampled 2 clients (out of 4)\n"
     ]
    },
    {
     "name": "stdout",
     "output_type": "stream",
     "text": [
      "Server-side evaluation loss 0.03217901903040269 / accuracy 75.04779815673828\n"
     ]
    },
    {
     "name": "stderr",
     "output_type": "stream",
     "text": [
      "\u001b[92mINFO \u001b[0m:      aggregate_evaluate: received 2 results and 0 failures\n",
      "\u001b[92mINFO \u001b[0m:      \n",
      "\u001b[92mINFO \u001b[0m:      [ROUND 26]\n",
      "\u001b[92mINFO \u001b[0m:      configure_fit: strategy sampled 4 clients (out of 4)\n"
     ]
    },
    {
     "name": "stdout",
     "output_type": "stream",
     "text": [
      "\u001b[2m\u001b[36m(ClientAppActor pid=1208103)\u001b[0m \u001b[32m [repeated 9x across cluster]\u001b[0m\n",
      "\u001b[2m\u001b[36m(ClientAppActor pid=1208103)\u001b[0m Epoch 1/100\u001b[32m [repeated 9x across cluster]\u001b[0m\n",
      "\u001b[2m\u001b[36m(ClientAppActor pid=1208103)\u001b[0m Epoch 100: Training accuracy: 85.94203186035156 Testing accuracy: 69.3641586303711.\u001b[32m [repeated 8x across cluster]\u001b[0m\n",
      "\u001b[2m\u001b[36m(ClientAppActor pid=1208102)\u001b[0m \u001b[32m [repeated 26x across cluster]\u001b[0m\n",
      "\u001b[2m\u001b[36m(ClientAppActor pid=1208102)\u001b[0m Epoch 16/100\u001b[32m [repeated 26x across cluster]\u001b[0m\n",
      "\u001b[2m\u001b[36m(ClientAppActor pid=1208102)\u001b[0m Epoch 15: Training accuracy: 85.02202606201172 Testing accuracy: 82.45613861083984.\u001b[32m [repeated 26x across cluster]\u001b[0m\n",
      "\u001b[2m\u001b[36m(ClientAppActor pid=1208103)\u001b[0m \u001b[32m [repeated 31x across cluster]\u001b[0m\n",
      "\u001b[2m\u001b[36m(ClientAppActor pid=1208103)\u001b[0m Epoch 25/100\u001b[32m [repeated 31x across cluster]\u001b[0m\n",
      "\u001b[2m\u001b[36m(ClientAppActor pid=1208103)\u001b[0m Epoch 24: Training accuracy: 86.23188781738281 Testing accuracy: 74.56647491455078.\u001b[32m [repeated 31x across cluster]\u001b[0m\n",
      "\u001b[2m\u001b[36m(ClientAppActor pid=1208103)\u001b[0m \u001b[32m [repeated 33x across cluster]\u001b[0m\n",
      "\u001b[2m\u001b[36m(ClientAppActor pid=1208103)\u001b[0m Epoch 39/100\u001b[32m [repeated 33x across cluster]\u001b[0m\n",
      "\u001b[2m\u001b[36m(ClientAppActor pid=1208103)\u001b[0m Epoch 38: Training accuracy: 88.1159439086914 Testing accuracy: 69.3641586303711.\u001b[32m [repeated 33x across cluster]\u001b[0m\n",
      "\u001b[2m\u001b[36m(ClientAppActor pid=1208102)\u001b[0m \u001b[32m [repeated 36x across cluster]\u001b[0m\n",
      "\u001b[2m\u001b[36m(ClientAppActor pid=1208102)\u001b[0m Epoch 75/100\u001b[32m [repeated 36x across cluster]\u001b[0m\n",
      "\u001b[2m\u001b[36m(ClientAppActor pid=1208102)\u001b[0m Epoch 74: Training accuracy: 86.78414154052734 Testing accuracy: 80.11695861816406.\u001b[32m [repeated 36x across cluster]\u001b[0m\n",
      "\u001b[2m\u001b[36m(ClientAppActor pid=1208103)\u001b[0m \u001b[32m [repeated 73x across cluster]\u001b[0m\n",
      "\u001b[2m\u001b[36m(ClientAppActor pid=1208103)\u001b[0m Epoch 88/100\u001b[32m [repeated 73x across cluster]\u001b[0m\n",
      "\u001b[2m\u001b[36m(ClientAppActor pid=1208103)\u001b[0m Epoch 87: Training accuracy: 87.68115997314453 Testing accuracy: 73.41040802001953.\u001b[32m [repeated 73x across cluster]\u001b[0m\n",
      "\u001b[2m\u001b[36m(ClientAppActor pid=1208102)\u001b[0m \u001b[32m [repeated 153x across cluster]\u001b[0m\n",
      "\u001b[2m\u001b[36m(ClientAppActor pid=1208102)\u001b[0m Epoch 54/100\u001b[32m [repeated 153x across cluster]\u001b[0m\n",
      "\u001b[2m\u001b[36m(ClientAppActor pid=1208102)\u001b[0m Epoch 53: Training accuracy: 87.0853042602539 Testing accuracy: 76.88679504394531.\u001b[32m [repeated 154x across cluster]\u001b[0m\n"
     ]
    },
    {
     "name": "stderr",
     "output_type": "stream",
     "text": [
      "\u001b[92mINFO \u001b[0m:      aggregate_fit: received 4 results and 0 failures\n",
      "\u001b[92mINFO \u001b[0m:      fit progress: (26, 0.029295036021400902, {'accuracy': tensor(76.9598, device='cuda:0')}, 1186.0530315799988)\n",
      "\u001b[92mINFO \u001b[0m:      configure_evaluate: strategy sampled 2 clients (out of 4)\n",
      "\u001b[92mINFO \u001b[0m:      aggregate_evaluate: received 2 results and 0 failures\n",
      "\u001b[92mINFO \u001b[0m:      \n",
      "\u001b[92mINFO \u001b[0m:      [ROUND 27]\n",
      "\u001b[92mINFO \u001b[0m:      configure_fit: strategy sampled 4 clients (out of 4)\n"
     ]
    },
    {
     "name": "stdout",
     "output_type": "stream",
     "text": [
      "Server-side evaluation loss 0.029295036021400902 / accuracy 76.95984649658203\n",
      "\u001b[2m\u001b[36m(ClientAppActor pid=1208103)\u001b[0m \u001b[32m [repeated 70x across cluster]\u001b[0m\n",
      "\u001b[2m\u001b[36m(ClientAppActor pid=1208103)\u001b[0m Epoch 16/100\u001b[32m [repeated 70x across cluster]\u001b[0m\n",
      "\u001b[2m\u001b[36m(ClientAppActor pid=1208103)\u001b[0m Epoch 15: Training accuracy: 86.52173614501953 Testing accuracy: 72.25433349609375.\u001b[32m [repeated 69x across cluster]\u001b[0m\n",
      "\u001b[2m\u001b[36m(ClientAppActor pid=1208103)\u001b[0m \u001b[32m [repeated 27x across cluster]\u001b[0m\n",
      "\u001b[2m\u001b[36m(ClientAppActor pid=1208103)\u001b[0m Epoch 30/100\u001b[32m [repeated 27x across cluster]\u001b[0m\n",
      "\u001b[2m\u001b[36m(ClientAppActor pid=1208103)\u001b[0m Epoch 29: Training accuracy: 88.26087188720703 Testing accuracy: 69.3641586303711.\u001b[32m [repeated 27x across cluster]\u001b[0m\n",
      "\u001b[2m\u001b[36m(ClientAppActor pid=1208102)\u001b[0m \u001b[32m [repeated 22x across cluster]\u001b[0m\n",
      "\u001b[2m\u001b[36m(ClientAppActor pid=1208102)\u001b[0m Epoch 33/100\u001b[32m [repeated 22x across cluster]\u001b[0m\n",
      "\u001b[2m\u001b[36m(ClientAppActor pid=1208102)\u001b[0m Epoch 32: Training accuracy: 87.55924224853516 Testing accuracy: 77.83018493652344.\u001b[32m [repeated 22x across cluster]\u001b[0m\n",
      "\u001b[2m\u001b[36m(ClientAppActor pid=1208102)\u001b[0m \u001b[32m [repeated 24x across cluster]\u001b[0m\n",
      "\u001b[2m\u001b[36m(ClientAppActor pid=1208102)\u001b[0m Epoch 45/100\u001b[32m [repeated 24x across cluster]\u001b[0m\n",
      "\u001b[2m\u001b[36m(ClientAppActor pid=1208102)\u001b[0m Epoch 44: Training accuracy: 87.44075775146484 Testing accuracy: 76.88679504394531.\u001b[32m [repeated 24x across cluster]\u001b[0m\n",
      "\u001b[2m\u001b[36m(ClientAppActor pid=1208103)\u001b[0m \u001b[32m [repeated 22x across cluster]\u001b[0m\n",
      "\u001b[2m\u001b[36m(ClientAppActor pid=1208103)\u001b[0m Epoch 63/100\u001b[32m [repeated 22x across cluster]\u001b[0m\n",
      "\u001b[2m\u001b[36m(ClientAppActor pid=1208103)\u001b[0m Epoch 62: Training accuracy: 88.55072784423828 Testing accuracy: 73.98844146728516.\u001b[32m [repeated 22x across cluster]\u001b[0m\n",
      "\u001b[2m\u001b[36m(ClientAppActor pid=1208102)\u001b[0m \u001b[32m [repeated 23x across cluster]\u001b[0m\n",
      "\u001b[2m\u001b[36m(ClientAppActor pid=1208102)\u001b[0m Epoch 68/100\u001b[32m [repeated 23x across cluster]\u001b[0m\n",
      "\u001b[2m\u001b[36m(ClientAppActor pid=1208102)\u001b[0m Epoch 67: Training accuracy: 86.96682739257812 Testing accuracy: 76.88679504394531.\u001b[32m [repeated 23x across cluster]\u001b[0m\n",
      "\u001b[2m\u001b[36m(ClientAppActor pid=1208103)\u001b[0m \u001b[32m [repeated 26x across cluster]\u001b[0m\n",
      "\u001b[2m\u001b[36m(ClientAppActor pid=1208103)\u001b[0m Epoch 85/100\u001b[32m [repeated 26x across cluster]\u001b[0m\n",
      "\u001b[2m\u001b[36m(ClientAppActor pid=1208103)\u001b[0m Epoch 84: Training accuracy: 88.1159439086914 Testing accuracy: 73.98844146728516.\u001b[32m [repeated 26x across cluster]\u001b[0m\n",
      "\u001b[2m\u001b[36m(ClientAppActor pid=1208102)\u001b[0m \u001b[32m [repeated 29x across cluster]\u001b[0m\n",
      "\u001b[2m\u001b[36m(ClientAppActor pid=1208102)\u001b[0m Epoch 1/100\u001b[32m [repeated 29x across cluster]\u001b[0m\n",
      "\u001b[2m\u001b[36m(ClientAppActor pid=1208102)\u001b[0m Epoch 100: Training accuracy: 87.32227325439453 Testing accuracy: 75.94339752197266.\u001b[32m [repeated 29x across cluster]\u001b[0m\n",
      "\u001b[2m\u001b[36m(ClientAppActor pid=1208103)\u001b[0m \u001b[32m [repeated 32x across cluster]\u001b[0m\n",
      "\u001b[2m\u001b[36m(ClientAppActor pid=1208103)\u001b[0m Epoch 7/100\u001b[32m [repeated 32x across cluster]\u001b[0m\n",
      "\u001b[2m\u001b[36m(ClientAppActor pid=1208103)\u001b[0m Epoch 6: Training accuracy: 84.14442443847656 Testing accuracy: 78.125.\u001b[32m [repeated 32x across cluster]\u001b[0m\n",
      "\u001b[2m\u001b[36m(ClientAppActor pid=1208102)\u001b[0m \u001b[32m [repeated 33x across cluster]\u001b[0m\n",
      "\u001b[2m\u001b[36m(ClientAppActor pid=1208102)\u001b[0m Epoch 43/100\u001b[32m [repeated 33x across cluster]\u001b[0m\n",
      "\u001b[2m\u001b[36m(ClientAppActor pid=1208102)\u001b[0m Epoch 42: Training accuracy: 87.07782745361328 Testing accuracy: 81.28655242919922.\u001b[32m [repeated 33x across cluster]\u001b[0m\n",
      "\u001b[2m\u001b[36m(ClientAppActor pid=1208103)\u001b[0m \u001b[32m [repeated 31x across cluster]\u001b[0m\n",
      "\u001b[2m\u001b[36m(ClientAppActor pid=1208103)\u001b[0m Epoch 31/100\u001b[32m [repeated 31x across cluster]\u001b[0m\n",
      "\u001b[2m\u001b[36m(ClientAppActor pid=1208103)\u001b[0m Epoch 30: Training accuracy: 85.55729675292969 Testing accuracy: 80.625.\u001b[32m [repeated 31x across cluster]\u001b[0m\n",
      "\u001b[2m\u001b[36m(ClientAppActor pid=1208102)\u001b[0m \u001b[32m [repeated 49x across cluster]\u001b[0m\n",
      "\u001b[2m\u001b[36m(ClientAppActor pid=1208102)\u001b[0m Epoch 99/100\u001b[32m [repeated 49x across cluster]\u001b[0m\n",
      "\u001b[2m\u001b[36m(ClientAppActor pid=1208102)\u001b[0m Epoch 98: Training accuracy: 87.07782745361328 Testing accuracy: 80.11695861816406.\u001b[32m [repeated 49x across cluster]\u001b[0m\n",
      "\u001b[2m\u001b[36m(ClientAppActor pid=1208103)\u001b[0m \u001b[32m [repeated 21x across cluster]\u001b[0m\n",
      "\u001b[2m\u001b[36m(ClientAppActor pid=1208103)\u001b[0m Epoch 63/100\u001b[32m [repeated 21x across cluster]\u001b[0m\n",
      "\u001b[2m\u001b[36m(ClientAppActor pid=1208103)\u001b[0m Epoch 62: Training accuracy: 85.71428680419922 Testing accuracy: 79.375.\u001b[32m [repeated 22x across cluster]\u001b[0m\n",
      "\u001b[2m\u001b[36m(ClientAppActor pid=1208103)\u001b[0m \u001b[32m [repeated 18x across cluster]\u001b[0m\n",
      "\u001b[2m\u001b[36m(ClientAppActor pid=1208103)\u001b[0m Epoch 81/100\u001b[32m [repeated 18x across cluster]\u001b[0m\n",
      "\u001b[2m\u001b[36m(ClientAppActor pid=1208103)\u001b[0m Epoch 80: Training accuracy: 85.24333190917969 Testing accuracy: 81.25.\u001b[32m [repeated 18x across cluster]\u001b[0m\n",
      "\u001b[2m\u001b[36m(ClientAppActor pid=1208103)\u001b[0m \u001b[32m [repeated 14x across cluster]\u001b[0m\n",
      "\u001b[2m\u001b[36m(ClientAppActor pid=1208103)\u001b[0m Epoch 95/100\u001b[32m [repeated 14x across cluster]\u001b[0m\n",
      "\u001b[2m\u001b[36m(ClientAppActor pid=1208103)\u001b[0m Epoch 94: Training accuracy: 85.08634185791016 Testing accuracy: 78.125.\u001b[32m [repeated 14x across cluster]\u001b[0m\n"
     ]
    },
    {
     "name": "stderr",
     "output_type": "stream",
     "text": [
      "\u001b[92mINFO \u001b[0m:      aggregate_fit: received 4 results and 0 failures\n",
      "\u001b[92mINFO \u001b[0m:      fit progress: (27, 0.03212496462990256, {'accuracy': tensor(74.8566, device='cuda:0')}, 1262.965127988995)\n",
      "\u001b[92mINFO \u001b[0m:      configure_evaluate: strategy sampled 2 clients (out of 4)\n"
     ]
    },
    {
     "name": "stdout",
     "output_type": "stream",
     "text": [
      "Server-side evaluation loss 0.03212496462990256 / accuracy 74.85659790039062\n"
     ]
    },
    {
     "name": "stderr",
     "output_type": "stream",
     "text": [
      "\u001b[92mINFO \u001b[0m:      aggregate_evaluate: received 2 results and 0 failures\n",
      "\u001b[92mINFO \u001b[0m:      \n",
      "\u001b[92mINFO \u001b[0m:      [ROUND 28]\n",
      "\u001b[92mINFO \u001b[0m:      configure_fit: strategy sampled 4 clients (out of 4)\n"
     ]
    },
    {
     "name": "stdout",
     "output_type": "stream",
     "text": [
      "\u001b[2m\u001b[36m(ClientAppActor pid=1208102)\u001b[0m \u001b[32m [repeated 27x across cluster]\u001b[0m\n",
      "\u001b[2m\u001b[36m(ClientAppActor pid=1208102)\u001b[0m Epoch 12/100\u001b[32m [repeated 27x across cluster]\u001b[0m\n",
      "\u001b[2m\u001b[36m(ClientAppActor pid=1208102)\u001b[0m Epoch 11: Training accuracy: 86.96682739257812 Testing accuracy: 77.83018493652344.\u001b[32m [repeated 26x across cluster]\u001b[0m\n",
      "\u001b[2m\u001b[36m(ClientAppActor pid=1208102)\u001b[0m \u001b[32m [repeated 44x across cluster]\u001b[0m\n",
      "\u001b[2m\u001b[36m(ClientAppActor pid=1208102)\u001b[0m Epoch 43/100\u001b[32m [repeated 44x across cluster]\u001b[0m\n",
      "\u001b[2m\u001b[36m(ClientAppActor pid=1208102)\u001b[0m Epoch 42: Training accuracy: 87.44075775146484 Testing accuracy: 78.7735824584961.\u001b[32m [repeated 44x across cluster]\u001b[0m\n",
      "\u001b[2m\u001b[36m(ClientAppActor pid=1208102)\u001b[0m \u001b[32m [repeated 48x across cluster]\u001b[0m\n",
      "\u001b[2m\u001b[36m(ClientAppActor pid=1208102)\u001b[0m Epoch 75/100\u001b[32m [repeated 48x across cluster]\u001b[0m\n",
      "\u001b[2m\u001b[36m(ClientAppActor pid=1208102)\u001b[0m Epoch 74: Training accuracy: 83.05686950683594 Testing accuracy: 76.41509246826172.\u001b[32m [repeated 48x across cluster]\u001b[0m\n",
      "\u001b[2m\u001b[36m(ClientAppActor pid=1208102)\u001b[0m \u001b[32m [repeated 42x across cluster]\u001b[0m\n",
      "\u001b[2m\u001b[36m(ClientAppActor pid=1208102)\u001b[0m Epoch 3/100\u001b[32m [repeated 42x across cluster]\u001b[0m\n",
      "\u001b[2m\u001b[36m(ClientAppActor pid=1208102)\u001b[0m Epoch 2: Training accuracy: 80.02936553955078 Testing accuracy: 77.19298553466797.\u001b[32m [repeated 42x across cluster]\u001b[0m\n",
      "\u001b[2m\u001b[36m(ClientAppActor pid=1208103)\u001b[0m \u001b[32m [repeated 48x across cluster]\u001b[0m\n",
      "\u001b[2m\u001b[36m(ClientAppActor pid=1208103)\u001b[0m Epoch 69/100\u001b[32m [repeated 48x across cluster]\u001b[0m\n",
      "\u001b[2m\u001b[36m(ClientAppActor pid=1208103)\u001b[0m Epoch 68: Training accuracy: 83.2025146484375 Testing accuracy: 79.375.\u001b[32m [repeated 48x across cluster]\u001b[0m\n",
      "\u001b[2m\u001b[36m(ClientAppActor pid=1208102)\u001b[0m \u001b[32m [repeated 66x across cluster]\u001b[0m\n",
      "\u001b[2m\u001b[36m(ClientAppActor pid=1208102)\u001b[0m Epoch 81/100\u001b[32m [repeated 66x across cluster]\u001b[0m\n",
      "\u001b[2m\u001b[36m(ClientAppActor pid=1208102)\u001b[0m Epoch 80: Training accuracy: 86.63729858398438 Testing accuracy: 74.85379791259766.\u001b[32m [repeated 66x across cluster]\u001b[0m\n"
     ]
    },
    {
     "name": "stderr",
     "output_type": "stream",
     "text": [
      "\u001b[92mINFO \u001b[0m:      aggregate_fit: received 4 results and 0 failures\n",
      "\u001b[92mINFO \u001b[0m:      fit progress: (28, 0.03219116084715899, {'accuracy': tensor(74.4742, device='cuda:0')}, 1295.8015940159967)\n",
      "\u001b[92mINFO \u001b[0m:      configure_evaluate: strategy sampled 2 clients (out of 4)\n",
      "\u001b[92mINFO \u001b[0m:      aggregate_evaluate: received 2 results and 0 failures\n",
      "\u001b[92mINFO \u001b[0m:      \n",
      "\u001b[92mINFO \u001b[0m:      [ROUND 29]\n",
      "\u001b[92mINFO \u001b[0m:      configure_fit: strategy sampled 4 clients (out of 4)\n"
     ]
    },
    {
     "name": "stdout",
     "output_type": "stream",
     "text": [
      "Server-side evaluation loss 0.03219116084715899 / accuracy 74.47418975830078\n",
      "\u001b[2m\u001b[36m(ClientAppActor pid=1208103)\u001b[0m \u001b[32m [repeated 139x across cluster]\u001b[0m\n",
      "\u001b[2m\u001b[36m(ClientAppActor pid=1208103)\u001b[0m Epoch 3/100\u001b[32m [repeated 139x across cluster]\u001b[0m\n",
      "\u001b[2m\u001b[36m(ClientAppActor pid=1208103)\u001b[0m Epoch 2: Training accuracy: 84.78260803222656 Testing accuracy: 72.83236694335938.\u001b[32m [repeated 139x across cluster]\u001b[0m\n",
      "\u001b[2m\u001b[36m(ClientAppActor pid=1208102)\u001b[0m \u001b[32m [repeated 308x across cluster]\u001b[0m\n",
      "\u001b[2m\u001b[36m(ClientAppActor pid=1208102)\u001b[0m Epoch 17/100\u001b[32m [repeated 308x across cluster]\u001b[0m\n",
      "\u001b[2m\u001b[36m(ClientAppActor pid=1208102)\u001b[0m Epoch 16: Training accuracy: 86.63729858398438 Testing accuracy: 77.77777862548828.\u001b[32m [repeated 309x across cluster]\u001b[0m\n",
      "\u001b[2m\u001b[36m(ClientAppActor pid=1208102)\u001b[0m \u001b[32m [repeated 27x across cluster]\u001b[0m\n",
      "\u001b[2m\u001b[36m(ClientAppActor pid=1208102)\u001b[0m Epoch 44/100\u001b[32m [repeated 27x across cluster]\u001b[0m\n",
      "\u001b[2m\u001b[36m(ClientAppActor pid=1208102)\u001b[0m Epoch 43: Training accuracy: 86.63729858398438 Testing accuracy: 78.3625717163086.\u001b[32m [repeated 27x across cluster]\u001b[0m\n",
      "\u001b[2m\u001b[36m(ClientAppActor pid=1208102)\u001b[0m \u001b[32m [repeated 13x across cluster]\u001b[0m\n",
      "\u001b[2m\u001b[36m(ClientAppActor pid=1208102)\u001b[0m Epoch 57/100\u001b[32m [repeated 13x across cluster]\u001b[0m\n",
      "\u001b[2m\u001b[36m(ClientAppActor pid=1208102)\u001b[0m Epoch 56: Training accuracy: 86.93098449707031 Testing accuracy: 76.02339172363281.\u001b[32m [repeated 13x across cluster]\u001b[0m\n",
      "\u001b[2m\u001b[36m(ClientAppActor pid=1208102)\u001b[0m \u001b[32m [repeated 16x across cluster]\u001b[0m\n",
      "\u001b[2m\u001b[36m(ClientAppActor pid=1208102)\u001b[0m Epoch 73/100\u001b[32m [repeated 16x across cluster]\u001b[0m\n",
      "\u001b[2m\u001b[36m(ClientAppActor pid=1208102)\u001b[0m Epoch 72: Training accuracy: 86.93098449707031 Testing accuracy: 76.02339172363281.\u001b[32m [repeated 16x across cluster]\u001b[0m\n",
      "\u001b[2m\u001b[36m(ClientAppActor pid=1208102)\u001b[0m \u001b[32m [repeated 17x across cluster]\u001b[0m\n",
      "\u001b[2m\u001b[36m(ClientAppActor pid=1208102)\u001b[0m Epoch 90/100\u001b[32m [repeated 17x across cluster]\u001b[0m\n",
      "\u001b[2m\u001b[36m(ClientAppActor pid=1208102)\u001b[0m Epoch 89: Training accuracy: 86.63729858398438 Testing accuracy: 76.02339172363281.\u001b[32m [repeated 17x across cluster]\u001b[0m\n"
     ]
    },
    {
     "name": "stderr",
     "output_type": "stream",
     "text": [
      "\u001b[92mINFO \u001b[0m:      aggregate_fit: received 4 results and 0 failures\n",
      "\u001b[92mINFO \u001b[0m:      fit progress: (29, 0.033168424578274, {'accuracy': tensor(73.4226, device='cuda:0')}, 1326.7365554489952)\n",
      "\u001b[92mINFO \u001b[0m:      configure_evaluate: strategy sampled 2 clients (out of 4)\n"
     ]
    },
    {
     "name": "stdout",
     "output_type": "stream",
     "text": [
      "Server-side evaluation loss 0.033168424578274 / accuracy 73.42256164550781\n"
     ]
    },
    {
     "name": "stderr",
     "output_type": "stream",
     "text": [
      "\u001b[92mINFO \u001b[0m:      aggregate_evaluate: received 2 results and 0 failures\n",
      "\u001b[92mINFO \u001b[0m:      \n",
      "\u001b[92mINFO \u001b[0m:      [ROUND 30]\n",
      "\u001b[92mINFO \u001b[0m:      configure_fit: strategy sampled 4 clients (out of 4)\n"
     ]
    },
    {
     "name": "stdout",
     "output_type": "stream",
     "text": [
      "\u001b[2m\u001b[36m(ClientAppActor pid=1208102)\u001b[0m \u001b[32m [repeated 11x across cluster]\u001b[0m\n",
      "\u001b[2m\u001b[36m(ClientAppActor pid=1208102)\u001b[0m Epoch 1/100\u001b[32m [repeated 11x across cluster]\u001b[0m\n",
      "\u001b[2m\u001b[36m(ClientAppActor pid=1208102)\u001b[0m Epoch 100: Training accuracy: 85.31571197509766 Testing accuracy: 77.77777862548828.\u001b[32m [repeated 11x across cluster]\u001b[0m\n",
      "\u001b[2m\u001b[36m(ClientAppActor pid=1208102)\u001b[0m \u001b[32m [repeated 23x across cluster]\u001b[0m\n",
      "\u001b[2m\u001b[36m(ClientAppActor pid=1208102)\u001b[0m Epoch 16/100\u001b[32m [repeated 23x across cluster]\u001b[0m\n",
      "\u001b[2m\u001b[36m(ClientAppActor pid=1208102)\u001b[0m Epoch 15: Training accuracy: 84.92935943603516 Testing accuracy: 78.125.\u001b[32m [repeated 22x across cluster]\u001b[0m\n",
      "\u001b[2m\u001b[36m(ClientAppActor pid=1208102)\u001b[0m \u001b[32m [repeated 27x across cluster]\u001b[0m\n",
      "\u001b[2m\u001b[36m(ClientAppActor pid=1208102)\u001b[0m Epoch 33/100\u001b[32m [repeated 27x across cluster]\u001b[0m\n",
      "\u001b[2m\u001b[36m(ClientAppActor pid=1208102)\u001b[0m Epoch 32: Training accuracy: 86.18524169921875 Testing accuracy: 79.375.\u001b[32m [repeated 27x across cluster]\u001b[0m\n",
      "\u001b[2m\u001b[36m(ClientAppActor pid=1208102)\u001b[0m \u001b[32m [repeated 24x across cluster]\u001b[0m\n",
      "\u001b[2m\u001b[36m(ClientAppActor pid=1208102)\u001b[0m Epoch 49/100\u001b[32m [repeated 24x across cluster]\u001b[0m\n",
      "\u001b[2m\u001b[36m(ClientAppActor pid=1208102)\u001b[0m Epoch 48: Training accuracy: 85.55729675292969 Testing accuracy: 79.375.\u001b[32m [repeated 24x across cluster]\u001b[0m\n",
      "\u001b[2m\u001b[36m(ClientAppActor pid=1208103)\u001b[0m \u001b[32m [repeated 26x across cluster]\u001b[0m\n",
      "\u001b[2m\u001b[36m(ClientAppActor pid=1208103)\u001b[0m Epoch 37/100\u001b[32m [repeated 26x across cluster]\u001b[0m\n",
      "\u001b[2m\u001b[36m(ClientAppActor pid=1208103)\u001b[0m Epoch 36: Training accuracy: 87.32227325439453 Testing accuracy: 77.83018493652344.\u001b[32m [repeated 26x across cluster]\u001b[0m\n",
      "\u001b[2m\u001b[36m(ClientAppActor pid=1208102)\u001b[0m \u001b[32m [repeated 25x across cluster]\u001b[0m\n",
      "\u001b[2m\u001b[36m(ClientAppActor pid=1208102)\u001b[0m Epoch 82/100\u001b[32m [repeated 25x across cluster]\u001b[0m\n",
      "\u001b[2m\u001b[36m(ClientAppActor pid=1208102)\u001b[0m Epoch 81: Training accuracy: 84.61538696289062 Testing accuracy: 79.375.\u001b[32m [repeated 25x across cluster]\u001b[0m\n",
      "\u001b[2m\u001b[36m(ClientAppActor pid=1208103)\u001b[0m \u001b[32m [repeated 26x across cluster]\u001b[0m\n",
      "\u001b[2m\u001b[36m(ClientAppActor pid=1208103)\u001b[0m Epoch 55/100\u001b[32m [repeated 26x across cluster]\u001b[0m\n",
      "\u001b[2m\u001b[36m(ClientAppActor pid=1208103)\u001b[0m Epoch 54: Training accuracy: 86.01895904541016 Testing accuracy: 76.88679504394531.\u001b[32m [repeated 26x across cluster]\u001b[0m\n",
      "\u001b[2m\u001b[36m(ClientAppActor pid=1208103)\u001b[0m \u001b[32m [repeated 22x across cluster]\u001b[0m\n",
      "\u001b[2m\u001b[36m(ClientAppActor pid=1208103)\u001b[0m Epoch 63/100\u001b[32m [repeated 22x across cluster]\u001b[0m\n",
      "\u001b[2m\u001b[36m(ClientAppActor pid=1208103)\u001b[0m Epoch 62: Training accuracy: 86.84834289550781 Testing accuracy: 76.88679504394531.\u001b[32m [repeated 22x across cluster]\u001b[0m\n",
      "\u001b[2m\u001b[36m(ClientAppActor pid=1208102)\u001b[0m \u001b[32m [repeated 27x across cluster]\u001b[0m\n",
      "\u001b[2m\u001b[36m(ClientAppActor pid=1208102)\u001b[0m Epoch 29/100\u001b[32m [repeated 27x across cluster]\u001b[0m\n",
      "\u001b[2m\u001b[36m(ClientAppActor pid=1208102)\u001b[0m Epoch 28: Training accuracy: 88.26087188720703 Testing accuracy: 73.41040802001953.\u001b[32m [repeated 27x across cluster]\u001b[0m\n",
      "\u001b[2m\u001b[36m(ClientAppActor pid=1208102)\u001b[0m \u001b[32m [repeated 51x across cluster]\u001b[0m\n",
      "\u001b[2m\u001b[36m(ClientAppActor pid=1208102)\u001b[0m Epoch 70/100\u001b[32m [repeated 51x across cluster]\u001b[0m\n",
      "\u001b[2m\u001b[36m(ClientAppActor pid=1208102)\u001b[0m Epoch 69: Training accuracy: 87.97101593017578 Testing accuracy: 73.98844146728516.\u001b[32m [repeated 51x across cluster]\u001b[0m\n",
      "\u001b[2m\u001b[36m(ClientAppActor pid=1208102)\u001b[0m \u001b[32m [repeated 69x across cluster]\u001b[0m\n",
      "\u001b[2m\u001b[36m(ClientAppActor pid=1208102)\u001b[0m Epoch 22/100\u001b[32m [repeated 69x across cluster]\u001b[0m\n",
      "\u001b[2m\u001b[36m(ClientAppActor pid=1208102)\u001b[0m Epoch 21: Training accuracy: 86.4904556274414 Testing accuracy: 76.60818481445312.\u001b[32m [repeated 69x across cluster]\u001b[0m\n",
      "\u001b[2m\u001b[36m(ClientAppActor pid=1208102)\u001b[0m \u001b[32m [repeated 60x across cluster]\u001b[0m\n",
      "\u001b[2m\u001b[36m(ClientAppActor pid=1208102)\u001b[0m Epoch 81/100\u001b[32m [repeated 60x across cluster]\u001b[0m\n",
      "\u001b[2m\u001b[36m(ClientAppActor pid=1208102)\u001b[0m Epoch 80: Training accuracy: 85.02202606201172 Testing accuracy: 76.60818481445312.\u001b[32m [repeated 61x across cluster]\u001b[0m\n"
     ]
    },
    {
     "name": "stderr",
     "output_type": "stream",
     "text": [
      "\u001b[92mINFO \u001b[0m:      aggregate_fit: received 4 results and 0 failures\n",
      "\u001b[92mINFO \u001b[0m:      fit progress: (30, 0.02952083068735459, {'accuracy': tensor(77.0555, device='cuda:0')}, 1385.9665783050004)\n",
      "\u001b[92mINFO \u001b[0m:      configure_evaluate: strategy sampled 2 clients (out of 4)\n"
     ]
    },
    {
     "name": "stdout",
     "output_type": "stream",
     "text": [
      "Server-side evaluation loss 0.02952083068735459 / accuracy 77.05545043945312\n"
     ]
    },
    {
     "name": "stderr",
     "output_type": "stream",
     "text": [
      "\u001b[92mINFO \u001b[0m:      aggregate_evaluate: received 2 results and 0 failures\n",
      "\u001b[92mINFO \u001b[0m:      \n",
      "\u001b[92mINFO \u001b[0m:      [ROUND 31]\n",
      "\u001b[92mINFO \u001b[0m:      configure_fit: strategy sampled 4 clients (out of 4)\n"
     ]
    },
    {
     "name": "stdout",
     "output_type": "stream",
     "text": [
      "\u001b[2m\u001b[36m(ClientAppActor pid=1208103)\u001b[0m \u001b[32m [repeated 35x across cluster]\u001b[0m\n",
      "\u001b[2m\u001b[36m(ClientAppActor pid=1208103)\u001b[0m Epoch 7/100\u001b[32m [repeated 35x across cluster]\u001b[0m\n",
      "\u001b[2m\u001b[36m(ClientAppActor pid=1208103)\u001b[0m Epoch 6: Training accuracy: 85.79710388183594 Testing accuracy: 70.52023315429688.\u001b[32m [repeated 34x across cluster]\u001b[0m\n",
      "\u001b[2m\u001b[36m(ClientAppActor pid=1208103)\u001b[0m \u001b[32m [repeated 40x across cluster]\u001b[0m\n",
      "\u001b[2m\u001b[36m(ClientAppActor pid=1208103)\u001b[0m Epoch 21/100\u001b[32m [repeated 40x across cluster]\u001b[0m\n",
      "\u001b[2m\u001b[36m(ClientAppActor pid=1208103)\u001b[0m Epoch 20: Training accuracy: 88.1159439086914 Testing accuracy: 69.94219970703125.\u001b[32m [repeated 40x across cluster]\u001b[0m\n",
      "\u001b[2m\u001b[36m(ClientAppActor pid=1208102)\u001b[0m \u001b[32m [repeated 38x across cluster]\u001b[0m\n",
      "\u001b[2m\u001b[36m(ClientAppActor pid=1208102)\u001b[0m Epoch 60/100\u001b[32m [repeated 38x across cluster]\u001b[0m\n",
      "\u001b[2m\u001b[36m(ClientAppActor pid=1208102)\u001b[0m Epoch 59: Training accuracy: 85.55729675292969 Testing accuracy: 78.75.\u001b[32m [repeated 38x across cluster]\u001b[0m\n",
      "\u001b[2m\u001b[36m(ClientAppActor pid=1208103)\u001b[0m \u001b[32m [repeated 52x across cluster]\u001b[0m\n",
      "\u001b[2m\u001b[36m(ClientAppActor pid=1208103)\u001b[0m Epoch 61/100\u001b[32m [repeated 52x across cluster]\u001b[0m\n",
      "\u001b[2m\u001b[36m(ClientAppActor pid=1208103)\u001b[0m Epoch 60: Training accuracy: 88.1159439086914 Testing accuracy: 72.83236694335938.\u001b[32m [repeated 52x across cluster]\u001b[0m\n",
      "\u001b[2m\u001b[36m(ClientAppActor pid=1208103)\u001b[0m \u001b[32m [repeated 63x across cluster]\u001b[0m\n",
      "\u001b[2m\u001b[36m(ClientAppActor pid=1208103)\u001b[0m Epoch 99/100\u001b[32m [repeated 63x across cluster]\u001b[0m\n",
      "\u001b[2m\u001b[36m(ClientAppActor pid=1208103)\u001b[0m Epoch 98: Training accuracy: 87.24637603759766 Testing accuracy: 72.83236694335938.\u001b[32m [repeated 63x across cluster]\u001b[0m\n",
      "\u001b[2m\u001b[36m(ClientAppActor pid=1208102)\u001b[0m \u001b[32m [repeated 34x across cluster]\u001b[0m\n",
      "\u001b[2m\u001b[36m(ClientAppActor pid=1208102)\u001b[0m Epoch 25/100\u001b[32m [repeated 34x across cluster]\u001b[0m\n",
      "\u001b[2m\u001b[36m(ClientAppActor pid=1208102)\u001b[0m Epoch 24: Training accuracy: 87.44075775146484 Testing accuracy: 78.7735824584961.\u001b[32m [repeated 34x across cluster]\u001b[0m\n",
      "\u001b[2m\u001b[36m(ClientAppActor pid=1208103)\u001b[0m \u001b[32m [repeated 23x across cluster]\u001b[0m\n",
      "\u001b[2m\u001b[36m(ClientAppActor pid=1208103)\u001b[0m Epoch 30/100\u001b[32m [repeated 23x across cluster]\u001b[0m\n",
      "\u001b[2m\u001b[36m(ClientAppActor pid=1208103)\u001b[0m Epoch 29: Training accuracy: 85.90308380126953 Testing accuracy: 77.77777862548828.\u001b[32m [repeated 23x across cluster]\u001b[0m\n",
      "\u001b[2m\u001b[36m(ClientAppActor pid=1208102)\u001b[0m \u001b[32m [repeated 23x across cluster]\u001b[0m\n",
      "\u001b[2m\u001b[36m(ClientAppActor pid=1208102)\u001b[0m Epoch 49/100\u001b[32m [repeated 23x across cluster]\u001b[0m\n",
      "\u001b[2m\u001b[36m(ClientAppActor pid=1208102)\u001b[0m Epoch 48: Training accuracy: 86.13744354248047 Testing accuracy: 77.35848999023438.\u001b[32m [repeated 23x across cluster]\u001b[0m\n",
      "\u001b[2m\u001b[36m(ClientAppActor pid=1208102)\u001b[0m \u001b[32m [repeated 25x across cluster]\u001b[0m\n",
      "\u001b[2m\u001b[36m(ClientAppActor pid=1208102)\u001b[0m Epoch 62/100\u001b[32m [repeated 25x across cluster]\u001b[0m\n",
      "\u001b[2m\u001b[36m(ClientAppActor pid=1208102)\u001b[0m Epoch 61: Training accuracy: 87.0853042602539 Testing accuracy: 77.35848999023438.\u001b[32m [repeated 25x across cluster]\u001b[0m\n",
      "\u001b[2m\u001b[36m(ClientAppActor pid=1208103)\u001b[0m \u001b[32m [repeated 21x across cluster]\u001b[0m\n",
      "\u001b[2m\u001b[36m(ClientAppActor pid=1208103)\u001b[0m Epoch 63/100\u001b[32m [repeated 21x across cluster]\u001b[0m\n",
      "\u001b[2m\u001b[36m(ClientAppActor pid=1208103)\u001b[0m Epoch 62: Training accuracy: 86.34361267089844 Testing accuracy: 75.4385986328125.\u001b[32m [repeated 21x across cluster]\u001b[0m\n",
      "\u001b[2m\u001b[36m(ClientAppActor pid=1208102)\u001b[0m \u001b[32m [repeated 33x across cluster]\u001b[0m\n",
      "\u001b[2m\u001b[36m(ClientAppActor pid=1208102)\u001b[0m Epoch 91/100\u001b[32m [repeated 33x across cluster]\u001b[0m\n",
      "\u001b[2m\u001b[36m(ClientAppActor pid=1208102)\u001b[0m Epoch 90: Training accuracy: 85.4265365600586 Testing accuracy: 72.64151000976562.\u001b[32m [repeated 33x across cluster]\u001b[0m\n",
      "\u001b[2m\u001b[36m(ClientAppActor pid=1208103)\u001b[0m \u001b[32m [repeated 31x across cluster]\u001b[0m\n",
      "\u001b[2m\u001b[36m(ClientAppActor pid=1208103)\u001b[0m Epoch 99/100\u001b[32m [repeated 31x across cluster]\u001b[0m\n",
      "\u001b[2m\u001b[36m(ClientAppActor pid=1208103)\u001b[0m Epoch 98: Training accuracy: 86.93098449707031 Testing accuracy: 75.4385986328125.\u001b[32m [repeated 32x across cluster]\u001b[0m\n"
     ]
    },
    {
     "name": "stderr",
     "output_type": "stream",
     "text": [
      "\u001b[92mINFO \u001b[0m:      aggregate_fit: received 4 results and 0 failures\n",
      "\u001b[92mINFO \u001b[0m:      fit progress: (31, 0.02992003454881556, {'accuracy': tensor(75.8126, device='cuda:0')}, 1446.147510543)\n",
      "\u001b[92mINFO \u001b[0m:      configure_evaluate: strategy sampled 2 clients (out of 4)\n",
      "\u001b[92mINFO \u001b[0m:      aggregate_evaluate: received 2 results and 0 failures\n",
      "\u001b[92mINFO \u001b[0m:      \n",
      "\u001b[92mINFO \u001b[0m:      [ROUND 32]\n",
      "\u001b[92mINFO \u001b[0m:      configure_fit: strategy sampled 4 clients (out of 4)\n"
     ]
    },
    {
     "name": "stdout",
     "output_type": "stream",
     "text": [
      "Server-side evaluation loss 0.02992003454881556 / accuracy 75.8126220703125\n",
      "\u001b[2m\u001b[36m(ClientAppActor pid=1208102)\u001b[0m \u001b[32m [repeated 47x across cluster]\u001b[0m\n",
      "\u001b[2m\u001b[36m(ClientAppActor pid=1208102)\u001b[0m Epoch 25/100\u001b[32m [repeated 47x across cluster]\u001b[0m\n",
      "\u001b[2m\u001b[36m(ClientAppActor pid=1208102)\u001b[0m Epoch 24: Training accuracy: 86.18524169921875 Testing accuracy: 81.25.\u001b[32m [repeated 46x across cluster]\u001b[0m\n",
      "\u001b[2m\u001b[36m(ClientAppActor pid=1208102)\u001b[0m \u001b[32m [repeated 45x across cluster]\u001b[0m\n",
      "\u001b[2m\u001b[36m(ClientAppActor pid=1208102)\u001b[0m Epoch 49/100\u001b[32m [repeated 45x across cluster]\u001b[0m\n",
      "\u001b[2m\u001b[36m(ClientAppActor pid=1208102)\u001b[0m Epoch 48: Training accuracy: 83.98744201660156 Testing accuracy: 79.375.\u001b[32m [repeated 45x across cluster]\u001b[0m\n",
      "\u001b[2m\u001b[36m(ClientAppActor pid=1208102)\u001b[0m \u001b[32m [repeated 30x across cluster]\u001b[0m\n",
      "\u001b[2m\u001b[36m(ClientAppActor pid=1208102)\u001b[0m Epoch 64/100\u001b[32m [repeated 30x across cluster]\u001b[0m\n",
      "\u001b[2m\u001b[36m(ClientAppActor pid=1208102)\u001b[0m Epoch 63: Training accuracy: 84.3014144897461 Testing accuracy: 78.75.\u001b[32m [repeated 30x across cluster]\u001b[0m\n",
      "\u001b[2m\u001b[36m(ClientAppActor pid=1208102)\u001b[0m \u001b[32m [repeated 30x across cluster]\u001b[0m\n",
      "\u001b[2m\u001b[36m(ClientAppActor pid=1208102)\u001b[0m Epoch 81/100\u001b[32m [repeated 30x across cluster]\u001b[0m\n",
      "\u001b[2m\u001b[36m(ClientAppActor pid=1208102)\u001b[0m Epoch 80: Training accuracy: 84.4583969116211 Testing accuracy: 78.75.\u001b[32m [repeated 30x across cluster]\u001b[0m\n",
      "\u001b[2m\u001b[36m(ClientAppActor pid=1208102)\u001b[0m \u001b[32m [repeated 33x across cluster]\u001b[0m\n",
      "\u001b[2m\u001b[36m(ClientAppActor pid=1208102)\u001b[0m Epoch 98/100\u001b[32m [repeated 33x across cluster]\u001b[0m\n",
      "\u001b[2m\u001b[36m(ClientAppActor pid=1208102)\u001b[0m Epoch 97: Training accuracy: 84.92935943603516 Testing accuracy: 79.375.\u001b[32m [repeated 33x across cluster]\u001b[0m\n",
      "\u001b[2m\u001b[36m(ClientAppActor pid=1208102)\u001b[0m \u001b[32m [repeated 32x across cluster]\u001b[0m\n",
      "\u001b[2m\u001b[36m(ClientAppActor pid=1208102)\u001b[0m Epoch 11/100\u001b[32m [repeated 32x across cluster]\u001b[0m\n",
      "\u001b[2m\u001b[36m(ClientAppActor pid=1208102)\u001b[0m Epoch 10: Training accuracy: 86.34361267089844 Testing accuracy: 79.53216552734375.\u001b[32m [repeated 32x across cluster]\u001b[0m\n",
      "\u001b[2m\u001b[36m(ClientAppActor pid=1208103)\u001b[0m \u001b[32m [repeated 34x across cluster]\u001b[0m\n",
      "\u001b[2m\u001b[36m(ClientAppActor pid=1208103)\u001b[0m Epoch 24/100\u001b[32m [repeated 34x across cluster]\u001b[0m\n",
      "\u001b[2m\u001b[36m(ClientAppActor pid=1208103)\u001b[0m Epoch 23: Training accuracy: 87.55924224853516 Testing accuracy: 77.35848999023438.\u001b[32m [repeated 34x across cluster]\u001b[0m\n",
      "\u001b[2m\u001b[36m(ClientAppActor pid=1208102)\u001b[0m \u001b[32m [repeated 32x across cluster]\u001b[0m\n",
      "\u001b[2m\u001b[36m(ClientAppActor pid=1208102)\u001b[0m Epoch 42/100\u001b[32m [repeated 32x across cluster]\u001b[0m\n",
      "\u001b[2m\u001b[36m(ClientAppActor pid=1208102)\u001b[0m Epoch 41: Training accuracy: 82.52569580078125 Testing accuracy: 74.85379791259766.\u001b[32m [repeated 32x across cluster]\u001b[0m\n",
      "\u001b[2m\u001b[36m(ClientAppActor pid=1208102)\u001b[0m \u001b[32m [repeated 27x across cluster]\u001b[0m\n",
      "\u001b[2m\u001b[36m(ClientAppActor pid=1208102)\u001b[0m Epoch 55/100\u001b[32m [repeated 27x across cluster]\u001b[0m\n",
      "\u001b[2m\u001b[36m(ClientAppActor pid=1208102)\u001b[0m Epoch 54: Training accuracy: 87.07782745361328 Testing accuracy: 80.70175170898438.\u001b[32m [repeated 27x across cluster]\u001b[0m\n",
      "\u001b[2m\u001b[36m(ClientAppActor pid=1208102)\u001b[0m \u001b[32m [repeated 38x across cluster]\u001b[0m\n",
      "\u001b[2m\u001b[36m(ClientAppActor pid=1208102)\u001b[0m Epoch 76/100\u001b[32m [repeated 38x across cluster]\u001b[0m\n",
      "\u001b[2m\u001b[36m(ClientAppActor pid=1208102)\u001b[0m Epoch 75: Training accuracy: 81.05726623535156 Testing accuracy: 71.34503173828125.\u001b[32m [repeated 38x across cluster]\u001b[0m\n",
      "\u001b[2m\u001b[36m(ClientAppActor pid=1208103)\u001b[0m \u001b[32m [repeated 39x across cluster]\u001b[0m\n",
      "\u001b[2m\u001b[36m(ClientAppActor pid=1208103)\u001b[0m Epoch 88/100\u001b[32m [repeated 39x across cluster]\u001b[0m\n",
      "\u001b[2m\u001b[36m(ClientAppActor pid=1208103)\u001b[0m Epoch 87: Training accuracy: 86.49288940429688 Testing accuracy: 75.0.\u001b[32m [repeated 39x across cluster]\u001b[0m\n"
     ]
    },
    {
     "name": "stderr",
     "output_type": "stream",
     "text": [
      "\u001b[92mINFO \u001b[0m:      aggregate_fit: received 4 results and 0 failures\n",
      "\u001b[92mINFO \u001b[0m:      fit progress: (32, 0.03110820405623492, {'accuracy': tensor(75.4302, device='cuda:0')}, 1505.978873718006)\n",
      "\u001b[92mINFO \u001b[0m:      configure_evaluate: strategy sampled 2 clients (out of 4)\n",
      "\u001b[92mINFO \u001b[0m:      aggregate_evaluate: received 2 results and 0 failures\n",
      "\u001b[92mINFO \u001b[0m:      \n",
      "\u001b[92mINFO \u001b[0m:      [ROUND 33]\n",
      "\u001b[92mINFO \u001b[0m:      configure_fit: strategy sampled 4 clients (out of 4)\n"
     ]
    },
    {
     "name": "stdout",
     "output_type": "stream",
     "text": [
      "Server-side evaluation loss 0.03110820405623492 / accuracy 75.43021392822266\n",
      "\u001b[2m\u001b[36m(ClientAppActor pid=1208103)\u001b[0m \u001b[32m [repeated 46x across cluster]\u001b[0m\n",
      "\u001b[2m\u001b[36m(ClientAppActor pid=1208103)\u001b[0m Epoch 17/100\u001b[32m [repeated 46x across cluster]\u001b[0m\n",
      "\u001b[2m\u001b[36m(ClientAppActor pid=1208103)\u001b[0m Epoch 16: Training accuracy: 86.4904556274414 Testing accuracy: 79.53216552734375.\u001b[32m [repeated 46x across cluster]\u001b[0m\n",
      "\u001b[2m\u001b[36m(ClientAppActor pid=1208103)\u001b[0m \u001b[32m [repeated 150x across cluster]\u001b[0m\n",
      "\u001b[2m\u001b[36m(ClientAppActor pid=1208103)\u001b[0m Epoch 82/100\u001b[32m [repeated 150x across cluster]\u001b[0m\n",
      "\u001b[2m\u001b[36m(ClientAppActor pid=1208103)\u001b[0m Epoch 81: Training accuracy: 87.22467041015625 Testing accuracy: 78.9473648071289.\u001b[32m [repeated 151x across cluster]\u001b[0m\n",
      "\u001b[2m\u001b[36m(ClientAppActor pid=1208103)\u001b[0m \u001b[32m [repeated 136x across cluster]\u001b[0m\n",
      "\u001b[2m\u001b[36m(ClientAppActor pid=1208103)\u001b[0m Epoch 18/100\u001b[32m [repeated 136x across cluster]\u001b[0m\n",
      "\u001b[2m\u001b[36m(ClientAppActor pid=1208103)\u001b[0m Epoch 17: Training accuracy: 87.32227325439453 Testing accuracy: 77.35848999023438.\u001b[32m [repeated 136x across cluster]\u001b[0m\n",
      "\u001b[2m\u001b[36m(ClientAppActor pid=1208103)\u001b[0m \u001b[32m [repeated 17x across cluster]\u001b[0m\n",
      "\u001b[2m\u001b[36m(ClientAppActor pid=1208103)\u001b[0m Epoch 35/100\u001b[32m [repeated 17x across cluster]\u001b[0m\n",
      "\u001b[2m\u001b[36m(ClientAppActor pid=1208103)\u001b[0m Epoch 34: Training accuracy: 87.32227325439453 Testing accuracy: 75.94339752197266.\u001b[32m [repeated 17x across cluster]\u001b[0m\n",
      "\u001b[2m\u001b[36m(ClientAppActor pid=1208103)\u001b[0m \u001b[32m [repeated 31x across cluster]\u001b[0m\n",
      "\u001b[2m\u001b[36m(ClientAppActor pid=1208103)\u001b[0m Epoch 66/100\u001b[32m [repeated 31x across cluster]\u001b[0m\n",
      "\u001b[2m\u001b[36m(ClientAppActor pid=1208103)\u001b[0m Epoch 65: Training accuracy: 86.13744354248047 Testing accuracy: 77.83018493652344.\u001b[32m [repeated 31x across cluster]\u001b[0m\n",
      "\u001b[2m\u001b[36m(ClientAppActor pid=1208103)\u001b[0m \u001b[32m [repeated 13x across cluster]\u001b[0m\n",
      "\u001b[2m\u001b[36m(ClientAppActor pid=1208103)\u001b[0m Epoch 79/100\u001b[32m [repeated 13x across cluster]\u001b[0m\n",
      "\u001b[2m\u001b[36m(ClientAppActor pid=1208103)\u001b[0m Epoch 78: Training accuracy: 86.96682739257812 Testing accuracy: 75.0.\u001b[32m [repeated 13x across cluster]\u001b[0m\n",
      "\u001b[2m\u001b[36m(ClientAppActor pid=1208103)\u001b[0m \u001b[32m [repeated 8x across cluster]\u001b[0m\n",
      "\u001b[2m\u001b[36m(ClientAppActor pid=1208103)\u001b[0m Epoch 87/100\u001b[32m [repeated 8x across cluster]\u001b[0m\n",
      "\u001b[2m\u001b[36m(ClientAppActor pid=1208103)\u001b[0m Epoch 86: Training accuracy: 85.5450210571289 Testing accuracy: 77.83018493652344.\u001b[32m [repeated 8x across cluster]\u001b[0m\n",
      "\u001b[2m\u001b[36m(ClientAppActor pid=1208103)\u001b[0m \u001b[32m [repeated 9x across cluster]\u001b[0m\n",
      "\u001b[2m\u001b[36m(ClientAppActor pid=1208103)\u001b[0m Epoch 96/100\u001b[32m [repeated 9x across cluster]\u001b[0m\n",
      "\u001b[2m\u001b[36m(ClientAppActor pid=1208103)\u001b[0m Epoch 95: Training accuracy: 83.41232299804688 Testing accuracy: 71.69811248779297.\u001b[32m [repeated 9x across cluster]\u001b[0m\n"
     ]
    },
    {
     "name": "stderr",
     "output_type": "stream",
     "text": [
      "\u001b[92mINFO \u001b[0m:      aggregate_fit: received 4 results and 0 failures\n",
      "\u001b[92mINFO \u001b[0m:      fit progress: (33, 0.0300788774209864, {'accuracy': tensor(75.2390, device='cuda:0')}, 1546.6625437640032)\n",
      "\u001b[92mINFO \u001b[0m:      configure_evaluate: strategy sampled 2 clients (out of 4)\n"
     ]
    },
    {
     "name": "stdout",
     "output_type": "stream",
     "text": [
      "Server-side evaluation loss 0.0300788774209864 / accuracy 75.23900604248047\n"
     ]
    },
    {
     "name": "stderr",
     "output_type": "stream",
     "text": [
      "\u001b[92mINFO \u001b[0m:      aggregate_evaluate: received 2 results and 0 failures\n",
      "\u001b[92mINFO \u001b[0m:      \n",
      "\u001b[92mINFO \u001b[0m:      [ROUND 34]\n",
      "\u001b[92mINFO \u001b[0m:      configure_fit: strategy sampled 4 clients (out of 4)\n"
     ]
    },
    {
     "name": "stdout",
     "output_type": "stream",
     "text": [
      "\u001b[2m\u001b[36m(ClientAppActor pid=1208103)\u001b[0m \u001b[32m [repeated 14x across cluster]\u001b[0m\n",
      "\u001b[2m\u001b[36m(ClientAppActor pid=1208103)\u001b[0m Epoch 4/100\u001b[32m [repeated 14x across cluster]\u001b[0m\n",
      "\u001b[2m\u001b[36m(ClientAppActor pid=1208103)\u001b[0m Epoch 3: Training accuracy: 82.81938171386719 Testing accuracy: 78.3625717163086.\u001b[32m [repeated 13x across cluster]\u001b[0m\n",
      "\u001b[2m\u001b[36m(ClientAppActor pid=1208102)\u001b[0m \u001b[32m [repeated 27x across cluster]\u001b[0m\n",
      "\u001b[2m\u001b[36m(ClientAppActor pid=1208102)\u001b[0m Epoch 22/100\u001b[32m [repeated 27x across cluster]\u001b[0m\n",
      "\u001b[2m\u001b[36m(ClientAppActor pid=1208102)\u001b[0m Epoch 21: Training accuracy: 84.61538696289062 Testing accuracy: 79.375.\u001b[32m [repeated 27x across cluster]\u001b[0m\n",
      "\u001b[2m\u001b[36m(ClientAppActor pid=1208102)\u001b[0m \u001b[32m [repeated 28x across cluster]\u001b[0m\n",
      "\u001b[2m\u001b[36m(ClientAppActor pid=1208102)\u001b[0m Epoch 39/100\u001b[32m [repeated 28x across cluster]\u001b[0m\n",
      "\u001b[2m\u001b[36m(ClientAppActor pid=1208102)\u001b[0m Epoch 38: Training accuracy: 85.71428680419922 Testing accuracy: 80.0.\u001b[32m [repeated 28x across cluster]\u001b[0m\n",
      "\u001b[2m\u001b[36m(ClientAppActor pid=1208103)\u001b[0m \u001b[32m [repeated 27x across cluster]\u001b[0m\n",
      "\u001b[2m\u001b[36m(ClientAppActor pid=1208103)\u001b[0m Epoch 38/100\u001b[32m [repeated 27x across cluster]\u001b[0m\n",
      "\u001b[2m\u001b[36m(ClientAppActor pid=1208103)\u001b[0m Epoch 37: Training accuracy: 86.78414154052734 Testing accuracy: 78.3625717163086.\u001b[32m [repeated 27x across cluster]\u001b[0m\n",
      "\u001b[2m\u001b[36m(ClientAppActor pid=1208102)\u001b[0m \u001b[32m [repeated 35x across cluster]\u001b[0m\n",
      "\u001b[2m\u001b[36m(ClientAppActor pid=1208102)\u001b[0m Epoch 77/100\u001b[32m [repeated 35x across cluster]\u001b[0m\n",
      "\u001b[2m\u001b[36m(ClientAppActor pid=1208102)\u001b[0m Epoch 76: Training accuracy: 85.40031433105469 Testing accuracy: 78.125.\u001b[32m [repeated 35x across cluster]\u001b[0m\n",
      "\u001b[2m\u001b[36m(ClientAppActor pid=1208103)\u001b[0m \u001b[32m [repeated 42x across cluster]\u001b[0m\n",
      "\u001b[2m\u001b[36m(ClientAppActor pid=1208103)\u001b[0m Epoch 68/100\u001b[32m [repeated 42x across cluster]\u001b[0m\n",
      "\u001b[2m\u001b[36m(ClientAppActor pid=1208103)\u001b[0m Epoch 67: Training accuracy: 87.81204223632812 Testing accuracy: 74.85379791259766.\u001b[32m [repeated 42x across cluster]\u001b[0m\n",
      "\u001b[2m\u001b[36m(ClientAppActor pid=1208103)\u001b[0m \u001b[32m [repeated 42x across cluster]\u001b[0m\n",
      "\u001b[2m\u001b[36m(ClientAppActor pid=1208103)\u001b[0m Epoch 85/100\u001b[32m [repeated 42x across cluster]\u001b[0m\n",
      "\u001b[2m\u001b[36m(ClientAppActor pid=1208103)\u001b[0m Epoch 84: Training accuracy: 86.4904556274414 Testing accuracy: 77.77777862548828.\u001b[32m [repeated 42x across cluster]\u001b[0m\n",
      "\u001b[2m\u001b[36m(ClientAppActor pid=1208103)\u001b[0m \u001b[32m [repeated 45x across cluster]\u001b[0m\n",
      "\u001b[2m\u001b[36m(ClientAppActor pid=1208103)\u001b[0m Epoch 1/100\u001b[32m [repeated 45x across cluster]\u001b[0m\n",
      "\u001b[2m\u001b[36m(ClientAppActor pid=1208102)\u001b[0m Epoch 54: Training accuracy: 86.3768081665039 Testing accuracy: 73.98844146728516.\u001b[32m [repeated 45x across cluster]\u001b[0m\n",
      "\u001b[2m\u001b[36m(ClientAppActor pid=1208102)\u001b[0m \u001b[32m [repeated 28x across cluster]\u001b[0m\n",
      "\u001b[2m\u001b[36m(ClientAppActor pid=1208102)\u001b[0m Epoch 73/100\u001b[32m [repeated 28x across cluster]\u001b[0m\n",
      "\u001b[2m\u001b[36m(ClientAppActor pid=1208102)\u001b[0m Epoch 72: Training accuracy: 88.6956558227539 Testing accuracy: 72.25433349609375.\u001b[32m [repeated 28x across cluster]\u001b[0m\n",
      "\u001b[2m\u001b[36m(ClientAppActor pid=1208103)\u001b[0m \u001b[32m [repeated 36x across cluster]\u001b[0m\n",
      "\u001b[2m\u001b[36m(ClientAppActor pid=1208103)\u001b[0m Epoch 20/100\u001b[32m [repeated 36x across cluster]\u001b[0m\n",
      "\u001b[2m\u001b[36m(ClientAppActor pid=1208103)\u001b[0m Epoch 19: Training accuracy: 87.44075775146484 Testing accuracy: 76.88679504394531.\u001b[32m [repeated 37x across cluster]\u001b[0m\n",
      "\u001b[2m\u001b[36m(ClientAppActor pid=1208103)\u001b[0m \u001b[32m [repeated 10x across cluster]\u001b[0m\n",
      "\u001b[2m\u001b[36m(ClientAppActor pid=1208103)\u001b[0m Epoch 30/100\u001b[32m [repeated 10x across cluster]\u001b[0m\n",
      "\u001b[2m\u001b[36m(ClientAppActor pid=1208103)\u001b[0m Epoch 29: Training accuracy: 87.44075775146484 Testing accuracy: 77.35848999023438.\u001b[32m [repeated 10x across cluster]\u001b[0m\n",
      "\u001b[2m\u001b[36m(ClientAppActor pid=1208103)\u001b[0m \u001b[32m [repeated 9x across cluster]\u001b[0m\n",
      "\u001b[2m\u001b[36m(ClientAppActor pid=1208103)\u001b[0m Epoch 39/100\u001b[32m [repeated 9x across cluster]\u001b[0m\n",
      "\u001b[2m\u001b[36m(ClientAppActor pid=1208103)\u001b[0m Epoch 38: Training accuracy: 86.37440490722656 Testing accuracy: 75.94339752197266.\u001b[32m [repeated 9x across cluster]\u001b[0m\n",
      "\u001b[2m\u001b[36m(ClientAppActor pid=1208103)\u001b[0m \u001b[32m [repeated 9x across cluster]\u001b[0m\n",
      "\u001b[2m\u001b[36m(ClientAppActor pid=1208103)\u001b[0m Epoch 48/100\u001b[32m [repeated 9x across cluster]\u001b[0m\n",
      "\u001b[2m\u001b[36m(ClientAppActor pid=1208103)\u001b[0m Epoch 47: Training accuracy: 86.37440490722656 Testing accuracy: 75.94339752197266.\u001b[32m [repeated 9x across cluster]\u001b[0m\n",
      "\u001b[2m\u001b[36m(ClientAppActor pid=1208103)\u001b[0m \u001b[32m [repeated 12x across cluster]\u001b[0m\n",
      "\u001b[2m\u001b[36m(ClientAppActor pid=1208103)\u001b[0m Epoch 60/100\u001b[32m [repeated 12x across cluster]\u001b[0m\n",
      "\u001b[2m\u001b[36m(ClientAppActor pid=1208103)\u001b[0m Epoch 59: Training accuracy: 86.61137390136719 Testing accuracy: 75.47169494628906.\u001b[32m [repeated 12x across cluster]\u001b[0m\n",
      "\u001b[2m\u001b[36m(ClientAppActor pid=1208103)\u001b[0m \u001b[32m [repeated 11x across cluster]\u001b[0m\n",
      "\u001b[2m\u001b[36m(ClientAppActor pid=1208103)\u001b[0m Epoch 71/100\u001b[32m [repeated 11x across cluster]\u001b[0m\n",
      "\u001b[2m\u001b[36m(ClientAppActor pid=1208103)\u001b[0m Epoch 70: Training accuracy: 87.44075775146484 Testing accuracy: 76.41509246826172.\u001b[32m [repeated 11x across cluster]\u001b[0m\n",
      "\u001b[2m\u001b[36m(ClientAppActor pid=1208103)\u001b[0m \u001b[32m [repeated 11x across cluster]\u001b[0m\n",
      "\u001b[2m\u001b[36m(ClientAppActor pid=1208103)\u001b[0m Epoch 82/100\u001b[32m [repeated 11x across cluster]\u001b[0m\n",
      "\u001b[2m\u001b[36m(ClientAppActor pid=1208103)\u001b[0m Epoch 81: Training accuracy: 85.66350555419922 Testing accuracy: 76.88679504394531.\u001b[32m [repeated 11x across cluster]\u001b[0m\n",
      "\u001b[2m\u001b[36m(ClientAppActor pid=1208103)\u001b[0m \u001b[32m [repeated 16x across cluster]\u001b[0m\n",
      "\u001b[2m\u001b[36m(ClientAppActor pid=1208103)\u001b[0m Epoch 98/100\u001b[32m [repeated 16x across cluster]\u001b[0m\n",
      "\u001b[2m\u001b[36m(ClientAppActor pid=1208103)\u001b[0m Epoch 97: Training accuracy: 86.7298583984375 Testing accuracy: 74.52830505371094.\u001b[32m [repeated 16x across cluster]\u001b[0m\n"
     ]
    },
    {
     "name": "stderr",
     "output_type": "stream",
     "text": [
      "\u001b[92mINFO \u001b[0m:      aggregate_fit: received 4 results and 0 failures\n",
      "\u001b[92mINFO \u001b[0m:      fit progress: (34, 0.03118113910450655, {'accuracy': tensor(74.5698, device='cuda:0')}, 1632.4975270019931)\n",
      "\u001b[92mINFO \u001b[0m:      configure_evaluate: strategy sampled 2 clients (out of 4)\n",
      "\u001b[92mINFO \u001b[0m:      aggregate_evaluate: received 2 results and 0 failures\n",
      "\u001b[92mINFO \u001b[0m:      \n",
      "\u001b[92mINFO \u001b[0m:      [ROUND 35]\n",
      "\u001b[92mINFO \u001b[0m:      configure_fit: strategy sampled 4 clients (out of 4)\n"
     ]
    },
    {
     "name": "stdout",
     "output_type": "stream",
     "text": [
      "Server-side evaluation loss 0.03118113910450655 / accuracy 74.56978607177734\n",
      "\u001b[2m\u001b[36m(ClientAppActor pid=1208103)\u001b[0m \u001b[32m [repeated 167x across cluster]\u001b[0m\n",
      "\u001b[2m\u001b[36m(ClientAppActor pid=1208103)\u001b[0m Epoch 44/100\u001b[32m [repeated 167x across cluster]\u001b[0m\n",
      "\u001b[2m\u001b[36m(ClientAppActor pid=1208103)\u001b[0m Epoch 43: Training accuracy: 88.1159439086914 Testing accuracy: 71.67630004882812.\u001b[32m [repeated 166x across cluster]\u001b[0m\n",
      "\u001b[2m\u001b[36m(ClientAppActor pid=1208102)\u001b[0m \u001b[32m [repeated 78x across cluster]\u001b[0m\n",
      "\u001b[2m\u001b[36m(ClientAppActor pid=1208102)\u001b[0m Epoch 80/100\u001b[32m [repeated 78x across cluster]\u001b[0m\n",
      "\u001b[2m\u001b[36m(ClientAppActor pid=1208102)\u001b[0m Epoch 79: Training accuracy: 84.77236938476562 Testing accuracy: 79.375.\u001b[32m [repeated 78x across cluster]\u001b[0m\n",
      "\u001b[2m\u001b[36m(ClientAppActor pid=1208103)\u001b[0m \u001b[32m [repeated 60x across cluster]\u001b[0m\n",
      "\u001b[2m\u001b[36m(ClientAppActor pid=1208103)\u001b[0m Epoch 84/100\u001b[32m [repeated 60x across cluster]\u001b[0m\n",
      "\u001b[2m\u001b[36m(ClientAppActor pid=1208103)\u001b[0m Epoch 83: Training accuracy: 88.1159439086914 Testing accuracy: 71.67630004882812.\u001b[32m [repeated 60x across cluster]\u001b[0m\n",
      "\u001b[2m\u001b[36m(ClientAppActor pid=1208102)\u001b[0m \u001b[32m [repeated 55x across cluster]\u001b[0m\n",
      "\u001b[2m\u001b[36m(ClientAppActor pid=1208102)\u001b[0m Epoch 58/100\u001b[32m [repeated 55x across cluster]\u001b[0m\n",
      "\u001b[2m\u001b[36m(ClientAppActor pid=1208102)\u001b[0m Epoch 57: Training accuracy: 85.16886901855469 Testing accuracy: 76.60818481445312.\u001b[32m [repeated 56x across cluster]\u001b[0m\n"
     ]
    },
    {
     "name": "stderr",
     "output_type": "stream",
     "text": [
      "\u001b[92mINFO \u001b[0m:      aggregate_fit: received 4 results and 0 failures\n",
      "\u001b[92mINFO \u001b[0m:      fit progress: (35, 0.03102797971052282, {'accuracy': tensor(74.3786, device='cuda:0')}, 1656.668089151004)\n",
      "\u001b[92mINFO \u001b[0m:      configure_evaluate: strategy sampled 2 clients (out of 4)\n"
     ]
    },
    {
     "name": "stdout",
     "output_type": "stream",
     "text": [
      "Server-side evaluation loss 0.03102797971052282 / accuracy 74.37858581542969\n"
     ]
    },
    {
     "name": "stderr",
     "output_type": "stream",
     "text": [
      "\u001b[92mINFO \u001b[0m:      aggregate_evaluate: received 2 results and 0 failures\n",
      "\u001b[92mINFO \u001b[0m:      \n",
      "\u001b[92mINFO \u001b[0m:      [ROUND 36]\n",
      "\u001b[92mINFO \u001b[0m:      configure_fit: strategy sampled 4 clients (out of 4)\n"
     ]
    },
    {
     "name": "stdout",
     "output_type": "stream",
     "text": [
      "\u001b[2m\u001b[36m(ClientAppActor pid=1208102)\u001b[0m \u001b[32m [repeated 43x across cluster]\u001b[0m\n",
      "\u001b[2m\u001b[36m(ClientAppActor pid=1208102)\u001b[0m Epoch 1/100\u001b[32m [repeated 43x across cluster]\u001b[0m\n",
      "\u001b[2m\u001b[36m(ClientAppActor pid=1208102)\u001b[0m Epoch 100: Training accuracy: 87.81204223632812 Testing accuracy: 76.02339172363281.\u001b[32m [repeated 43x across cluster]\u001b[0m\n",
      "\u001b[2m\u001b[36m(ClientAppActor pid=1208103)\u001b[0m \u001b[32m [repeated 56x across cluster]\u001b[0m\n",
      "\u001b[2m\u001b[36m(ClientAppActor pid=1208103)\u001b[0m Epoch 23/100\u001b[32m [repeated 56x across cluster]\u001b[0m\n",
      "\u001b[2m\u001b[36m(ClientAppActor pid=1208103)\u001b[0m Epoch 22: Training accuracy: 87.5362319946289 Testing accuracy: 71.67630004882812.\u001b[32m [repeated 55x across cluster]\u001b[0m\n",
      "\u001b[2m\u001b[36m(ClientAppActor pid=1208103)\u001b[0m \u001b[32m [repeated 56x across cluster]\u001b[0m\n",
      "\u001b[2m\u001b[36m(ClientAppActor pid=1208103)\u001b[0m Epoch 42/100\u001b[32m [repeated 56x across cluster]\u001b[0m\n",
      "\u001b[2m\u001b[36m(ClientAppActor pid=1208103)\u001b[0m Epoch 41: Training accuracy: 88.55072784423828 Testing accuracy: 70.52023315429688.\u001b[32m [repeated 56x across cluster]\u001b[0m\n",
      "\u001b[2m\u001b[36m(ClientAppActor pid=1208102)\u001b[0m \u001b[32m [repeated 52x across cluster]\u001b[0m\n",
      "\u001b[2m\u001b[36m(ClientAppActor pid=1208102)\u001b[0m Epoch 98/100\u001b[32m [repeated 52x across cluster]\u001b[0m\n",
      "\u001b[2m\u001b[36m(ClientAppActor pid=1208102)\u001b[0m Epoch 97: Training accuracy: 85.55729675292969 Testing accuracy: 77.5.\u001b[32m [repeated 52x across cluster]\u001b[0m\n",
      "\u001b[2m\u001b[36m(ClientAppActor pid=1208103)\u001b[0m \u001b[32m [repeated 37x across cluster]\u001b[0m\n",
      "\u001b[2m\u001b[36m(ClientAppActor pid=1208103)\u001b[0m Epoch 83/100\u001b[32m [repeated 37x across cluster]\u001b[0m\n",
      "\u001b[2m\u001b[36m(ClientAppActor pid=1208103)\u001b[0m Epoch 82: Training accuracy: 88.40579986572266 Testing accuracy: 75.1445083618164.\u001b[32m [repeated 37x across cluster]\u001b[0m\n",
      "\u001b[2m\u001b[36m(ClientAppActor pid=1208102)\u001b[0m \u001b[32m [repeated 39x across cluster]\u001b[0m\n",
      "\u001b[2m\u001b[36m(ClientAppActor pid=1208102)\u001b[0m Epoch 41/100\u001b[32m [repeated 39x across cluster]\u001b[0m\n",
      "\u001b[2m\u001b[36m(ClientAppActor pid=1208102)\u001b[0m Epoch 40: Training accuracy: 86.93098449707031 Testing accuracy: 77.77777862548828.\u001b[32m [repeated 39x across cluster]\u001b[0m\n",
      "\u001b[2m\u001b[36m(ClientAppActor pid=1208102)\u001b[0m \u001b[32m [repeated 42x across cluster]\u001b[0m\n",
      "\u001b[2m\u001b[36m(ClientAppActor pid=1208102)\u001b[0m Epoch 70/100\u001b[32m [repeated 42x across cluster]\u001b[0m\n",
      "\u001b[2m\u001b[36m(ClientAppActor pid=1208102)\u001b[0m Epoch 69: Training accuracy: 87.22467041015625 Testing accuracy: 76.02339172363281.\u001b[32m [repeated 42x across cluster]\u001b[0m\n",
      "\u001b[2m\u001b[36m(ClientAppActor pid=1208102)\u001b[0m \u001b[32m [repeated 36x across cluster]\u001b[0m\n",
      "\u001b[2m\u001b[36m(ClientAppActor pid=1208102)\u001b[0m Epoch 94/100\u001b[32m [repeated 36x across cluster]\u001b[0m\n",
      "\u001b[2m\u001b[36m(ClientAppActor pid=1208102)\u001b[0m Epoch 93: Training accuracy: 86.4904556274414 Testing accuracy: 76.02339172363281.\u001b[32m [repeated 36x across cluster]\u001b[0m\n",
      "\u001b[2m\u001b[36m(ClientAppActor pid=1208103)\u001b[0m \u001b[32m [repeated 15x across cluster]\u001b[0m\n",
      "\u001b[2m\u001b[36m(ClientAppActor pid=1208103)\u001b[0m Epoch 34/100\u001b[32m [repeated 15x across cluster]\u001b[0m\n",
      "\u001b[2m\u001b[36m(ClientAppActor pid=1208103)\u001b[0m Epoch 33: Training accuracy: 87.44075775146484 Testing accuracy: 78.30188751220703.\u001b[32m [repeated 16x across cluster]\u001b[0m\n",
      "\u001b[2m\u001b[36m(ClientAppActor pid=1208103)\u001b[0m \u001b[32m [repeated 12x across cluster]\u001b[0m\n",
      "\u001b[2m\u001b[36m(ClientAppActor pid=1208103)\u001b[0m Epoch 46/100\u001b[32m [repeated 12x across cluster]\u001b[0m\n",
      "\u001b[2m\u001b[36m(ClientAppActor pid=1208103)\u001b[0m Epoch 45: Training accuracy: 87.67772674560547 Testing accuracy: 78.7735824584961.\u001b[32m [repeated 12x across cluster]\u001b[0m\n",
      "\u001b[2m\u001b[36m(ClientAppActor pid=1208103)\u001b[0m \u001b[32m [repeated 12x across cluster]\u001b[0m\n",
      "\u001b[2m\u001b[36m(ClientAppActor pid=1208103)\u001b[0m Epoch 58/100\u001b[32m [repeated 12x across cluster]\u001b[0m\n",
      "\u001b[2m\u001b[36m(ClientAppActor pid=1208103)\u001b[0m Epoch 57: Training accuracy: 85.78199005126953 Testing accuracy: 75.0.\u001b[32m [repeated 12x across cluster]\u001b[0m\n",
      "\u001b[2m\u001b[36m(ClientAppActor pid=1208103)\u001b[0m \u001b[32m [repeated 12x across cluster]\u001b[0m\n",
      "\u001b[2m\u001b[36m(ClientAppActor pid=1208103)\u001b[0m Epoch 70/100\u001b[32m [repeated 12x across cluster]\u001b[0m\n",
      "\u001b[2m\u001b[36m(ClientAppActor pid=1208103)\u001b[0m Epoch 69: Training accuracy: 86.61137390136719 Testing accuracy: 78.30188751220703.\u001b[32m [repeated 12x across cluster]\u001b[0m\n",
      "\u001b[2m\u001b[36m(ClientAppActor pid=1208103)\u001b[0m \u001b[32m [repeated 11x across cluster]\u001b[0m\n",
      "\u001b[2m\u001b[36m(ClientAppActor pid=1208103)\u001b[0m Epoch 81/100\u001b[32m [repeated 11x across cluster]\u001b[0m\n",
      "\u001b[2m\u001b[36m(ClientAppActor pid=1208103)\u001b[0m Epoch 80: Training accuracy: 87.44075775146484 Testing accuracy: 79.24528503417969.\u001b[32m [repeated 11x across cluster]\u001b[0m\n",
      "\u001b[2m\u001b[36m(ClientAppActor pid=1208103)\u001b[0m \u001b[32m [repeated 11x across cluster]\u001b[0m\n",
      "\u001b[2m\u001b[36m(ClientAppActor pid=1208103)\u001b[0m Epoch 92/100\u001b[32m [repeated 11x across cluster]\u001b[0m\n",
      "\u001b[2m\u001b[36m(ClientAppActor pid=1208103)\u001b[0m Epoch 91: Training accuracy: 87.20378875732422 Testing accuracy: 77.35848999023438.\u001b[32m [repeated 11x across cluster]\u001b[0m\n"
     ]
    },
    {
     "name": "stderr",
     "output_type": "stream",
     "text": [
      "\u001b[92mINFO \u001b[0m:      aggregate_fit: received 4 results and 0 failures\n",
      "\u001b[92mINFO \u001b[0m:      fit progress: (36, 0.032145268776837516, {'accuracy': tensor(73.9962, device='cuda:0')}, 1727.827795492005)\n",
      "\u001b[92mINFO \u001b[0m:      configure_evaluate: strategy sampled 2 clients (out of 4)\n"
     ]
    },
    {
     "name": "stdout",
     "output_type": "stream",
     "text": [
      "Server-side evaluation loss 0.032145268776837516 / accuracy 73.99617767333984\n"
     ]
    },
    {
     "name": "stderr",
     "output_type": "stream",
     "text": [
      "\u001b[92mINFO \u001b[0m:      aggregate_evaluate: received 2 results and 0 failures\n",
      "\u001b[92mINFO \u001b[0m:      \n",
      "\u001b[92mINFO \u001b[0m:      [ROUND 37]\n",
      "\u001b[92mINFO \u001b[0m:      configure_fit: strategy sampled 4 clients (out of 4)\n"
     ]
    },
    {
     "name": "stdout",
     "output_type": "stream",
     "text": [
      "\u001b[2m\u001b[36m(ClientAppActor pid=1208102)\u001b[0m \u001b[32m [repeated 10x across cluster]\u001b[0m\n",
      "\u001b[2m\u001b[36m(ClientAppActor pid=1208102)\u001b[0m Epoch 1/100\u001b[32m [repeated 10x across cluster]\u001b[0m\n",
      "\u001b[2m\u001b[36m(ClientAppActor pid=1208103)\u001b[0m Epoch 100: Training accuracy: 87.67772674560547 Testing accuracy: 77.35848999023438.\u001b[32m [repeated 9x across cluster]\u001b[0m\n",
      "\u001b[2m\u001b[36m(ClientAppActor pid=1208103)\u001b[0m \u001b[32m [repeated 33x across cluster]\u001b[0m\n",
      "\u001b[2m\u001b[36m(ClientAppActor pid=1208103)\u001b[0m Epoch 19/100\u001b[32m [repeated 33x across cluster]\u001b[0m\n",
      "\u001b[2m\u001b[36m(ClientAppActor pid=1208103)\u001b[0m Epoch 18: Training accuracy: 86.02825927734375 Testing accuracy: 78.75.\u001b[32m [repeated 33x across cluster]\u001b[0m\n",
      "\u001b[2m\u001b[36m(ClientAppActor pid=1208103)\u001b[0m \u001b[32m [repeated 37x across cluster]\u001b[0m\n",
      "\u001b[2m\u001b[36m(ClientAppActor pid=1208103)\u001b[0m Epoch 40/100\u001b[32m [repeated 37x across cluster]\u001b[0m\n",
      "\u001b[2m\u001b[36m(ClientAppActor pid=1208103)\u001b[0m Epoch 39: Training accuracy: 85.24333190917969 Testing accuracy: 78.125.\u001b[32m [repeated 37x across cluster]\u001b[0m\n",
      "\u001b[2m\u001b[36m(ClientAppActor pid=1208103)\u001b[0m \u001b[32m [repeated 36x across cluster]\u001b[0m\n",
      "\u001b[2m\u001b[36m(ClientAppActor pid=1208103)\u001b[0m Epoch 62/100\u001b[32m [repeated 36x across cluster]\u001b[0m\n",
      "\u001b[2m\u001b[36m(ClientAppActor pid=1208103)\u001b[0m Epoch 61: Training accuracy: 84.77236938476562 Testing accuracy: 78.75.\u001b[32m [repeated 36x across cluster]\u001b[0m\n",
      "\u001b[2m\u001b[36m(ClientAppActor pid=1208103)\u001b[0m \u001b[32m [repeated 171x across cluster]\u001b[0m\n",
      "\u001b[2m\u001b[36m(ClientAppActor pid=1208103)\u001b[0m Epoch 85/100\u001b[32m [repeated 171x across cluster]\u001b[0m\n",
      "\u001b[2m\u001b[36m(ClientAppActor pid=1208103)\u001b[0m Epoch 84: Training accuracy: 82.73155212402344 Testing accuracy: 76.875.\u001b[32m [repeated 171x across cluster]\u001b[0m\n"
     ]
    },
    {
     "name": "stderr",
     "output_type": "stream",
     "text": [
      "\u001b[92mINFO \u001b[0m:      aggregate_fit: received 4 results and 0 failures\n",
      "\u001b[92mINFO \u001b[0m:      fit progress: (37, 0.03009293359868667, {'accuracy': tensor(75.6214, device='cuda:0')}, 1751.636115057001)\n",
      "\u001b[92mINFO \u001b[0m:      configure_evaluate: strategy sampled 2 clients (out of 4)\n",
      "\u001b[92mINFO \u001b[0m:      aggregate_evaluate: received 2 results and 0 failures\n",
      "\u001b[92mINFO \u001b[0m:      \n",
      "\u001b[92mINFO \u001b[0m:      [ROUND 38]\n",
      "\u001b[92mINFO \u001b[0m:      configure_fit: strategy sampled 4 clients (out of 4)\n"
     ]
    },
    {
     "name": "stdout",
     "output_type": "stream",
     "text": [
      "Server-side evaluation loss 0.03009293359868667 / accuracy 75.62141418457031\n",
      "\u001b[2m\u001b[36m(ClientAppActor pid=1208103)\u001b[0m \u001b[32m [repeated 229x across cluster]\u001b[0m\n",
      "\u001b[2m\u001b[36m(ClientAppActor pid=1208103)\u001b[0m Epoch 29/100\u001b[32m [repeated 229x across cluster]\u001b[0m\n",
      "\u001b[2m\u001b[36m(ClientAppActor pid=1208103)\u001b[0m Epoch 28: Training accuracy: 87.5362319946289 Testing accuracy: 71.67630004882812.\u001b[32m [repeated 229x across cluster]\u001b[0m\n",
      "\u001b[2m\u001b[36m(ClientAppActor pid=1208102)\u001b[0m \u001b[32m [repeated 216x across cluster]\u001b[0m\n",
      "\u001b[2m\u001b[36m(ClientAppActor pid=1208102)\u001b[0m Epoch 93/100\u001b[32m [repeated 216x across cluster]\u001b[0m\n",
      "\u001b[2m\u001b[36m(ClientAppActor pid=1208102)\u001b[0m Epoch 92: Training accuracy: 86.63729858398438 Testing accuracy: 75.4385986328125.\u001b[32m [repeated 216x across cluster]\u001b[0m\n",
      "\u001b[2m\u001b[36m(ClientAppActor pid=1208103)\u001b[0m \u001b[32m [repeated 18x across cluster]\u001b[0m\n",
      "\u001b[2m\u001b[36m(ClientAppActor pid=1208103)\u001b[0m Epoch 42/100\u001b[32m [repeated 18x across cluster]\u001b[0m\n",
      "\u001b[2m\u001b[36m(ClientAppActor pid=1208103)\u001b[0m Epoch 41: Training accuracy: 87.44075775146484 Testing accuracy: 77.35848999023438.\u001b[32m [repeated 19x across cluster]\u001b[0m\n",
      "\u001b[2m\u001b[36m(ClientAppActor pid=1208103)\u001b[0m \u001b[32m [repeated 9x across cluster]\u001b[0m\n",
      "\u001b[2m\u001b[36m(ClientAppActor pid=1208103)\u001b[0m Epoch 51/100\u001b[32m [repeated 9x across cluster]\u001b[0m\n",
      "\u001b[2m\u001b[36m(ClientAppActor pid=1208103)\u001b[0m Epoch 50: Training accuracy: 87.44075775146484 Testing accuracy: 77.83018493652344.\u001b[32m [repeated 9x across cluster]\u001b[0m\n",
      "\u001b[2m\u001b[36m(ClientAppActor pid=1208103)\u001b[0m \u001b[32m [repeated 10x across cluster]\u001b[0m\n",
      "\u001b[2m\u001b[36m(ClientAppActor pid=1208103)\u001b[0m Epoch 61/100\u001b[32m [repeated 10x across cluster]\u001b[0m\n",
      "\u001b[2m\u001b[36m(ClientAppActor pid=1208103)\u001b[0m Epoch 60: Training accuracy: 86.25592041015625 Testing accuracy: 77.35848999023438.\u001b[32m [repeated 10x across cluster]\u001b[0m\n",
      "\u001b[2m\u001b[36m(ClientAppActor pid=1208103)\u001b[0m \u001b[32m [repeated 8x across cluster]\u001b[0m\n",
      "\u001b[2m\u001b[36m(ClientAppActor pid=1208103)\u001b[0m Epoch 69/100\u001b[32m [repeated 8x across cluster]\u001b[0m\n",
      "\u001b[2m\u001b[36m(ClientAppActor pid=1208103)\u001b[0m Epoch 68: Training accuracy: 85.78199005126953 Testing accuracy: 74.52830505371094.\u001b[32m [repeated 8x across cluster]\u001b[0m\n",
      "\u001b[2m\u001b[36m(ClientAppActor pid=1208103)\u001b[0m \u001b[32m [repeated 10x across cluster]\u001b[0m\n",
      "\u001b[2m\u001b[36m(ClientAppActor pid=1208103)\u001b[0m Epoch 79/100\u001b[32m [repeated 10x across cluster]\u001b[0m\n",
      "\u001b[2m\u001b[36m(ClientAppActor pid=1208103)\u001b[0m Epoch 78: Training accuracy: 85.90047454833984 Testing accuracy: 73.11320495605469.\u001b[32m [repeated 10x across cluster]\u001b[0m\n",
      "\u001b[2m\u001b[36m(ClientAppActor pid=1208103)\u001b[0m \u001b[32m [repeated 8x across cluster]\u001b[0m\n",
      "\u001b[2m\u001b[36m(ClientAppActor pid=1208103)\u001b[0m Epoch 87/100\u001b[32m [repeated 8x across cluster]\u001b[0m\n",
      "\u001b[2m\u001b[36m(ClientAppActor pid=1208103)\u001b[0m Epoch 86: Training accuracy: 87.55924224853516 Testing accuracy: 77.83018493652344.\u001b[32m [repeated 8x across cluster]\u001b[0m\n",
      "\u001b[2m\u001b[36m(ClientAppActor pid=1208103)\u001b[0m \u001b[32m [repeated 10x across cluster]\u001b[0m\n",
      "\u001b[2m\u001b[36m(ClientAppActor pid=1208103)\u001b[0m Epoch 97/100\u001b[32m [repeated 10x across cluster]\u001b[0m\n",
      "\u001b[2m\u001b[36m(ClientAppActor pid=1208103)\u001b[0m Epoch 96: Training accuracy: 87.55924224853516 Testing accuracy: 78.7735824584961.\u001b[32m [repeated 10x across cluster]\u001b[0m\n"
     ]
    },
    {
     "name": "stderr",
     "output_type": "stream",
     "text": [
      "\u001b[92mINFO \u001b[0m:      aggregate_fit: received 4 results and 0 failures\n",
      "\u001b[92mINFO \u001b[0m:      fit progress: (38, 0.028600301812676823, {'accuracy': tensor(77.0555, device='cuda:0')}, 1798.5798770480033)\n",
      "\u001b[92mINFO \u001b[0m:      configure_evaluate: strategy sampled 2 clients (out of 4)\n"
     ]
    },
    {
     "name": "stdout",
     "output_type": "stream",
     "text": [
      "Server-side evaluation loss 0.028600301812676823 / accuracy 77.05545043945312\n"
     ]
    },
    {
     "name": "stderr",
     "output_type": "stream",
     "text": [
      "\u001b[92mINFO \u001b[0m:      aggregate_evaluate: received 2 results and 0 failures\n",
      "\u001b[92mINFO \u001b[0m:      \n",
      "\u001b[92mINFO \u001b[0m:      [ROUND 39]\n",
      "\u001b[92mINFO \u001b[0m:      configure_fit: strategy sampled 4 clients (out of 4)\n"
     ]
    },
    {
     "name": "stdout",
     "output_type": "stream",
     "text": [
      "\u001b[2m\u001b[36m(ClientAppActor pid=1208102)\u001b[0m \u001b[32m [repeated 11x across cluster]\u001b[0m\n",
      "\u001b[2m\u001b[36m(ClientAppActor pid=1208102)\u001b[0m Epoch 5/100\u001b[32m [repeated 11x across cluster]\u001b[0m\n",
      "\u001b[2m\u001b[36m(ClientAppActor pid=1208102)\u001b[0m Epoch 4: Training accuracy: 87.10144805908203 Testing accuracy: 72.83236694335938.\u001b[32m [repeated 10x across cluster]\u001b[0m\n",
      "\u001b[2m\u001b[36m(ClientAppActor pid=1208103)\u001b[0m \u001b[32m [repeated 27x across cluster]\u001b[0m\n",
      "\u001b[2m\u001b[36m(ClientAppActor pid=1208103)\u001b[0m Epoch 16/100\u001b[32m [repeated 27x across cluster]\u001b[0m\n",
      "\u001b[2m\u001b[36m(ClientAppActor pid=1208103)\u001b[0m Epoch 15: Training accuracy: 86.93098449707031 Testing accuracy: 76.02339172363281.\u001b[32m [repeated 27x across cluster]\u001b[0m\n",
      "\u001b[2m\u001b[36m(ClientAppActor pid=1208102)\u001b[0m \u001b[32m [repeated 26x across cluster]\u001b[0m\n",
      "\u001b[2m\u001b[36m(ClientAppActor pid=1208102)\u001b[0m Epoch 35/100\u001b[32m [repeated 26x across cluster]\u001b[0m\n",
      "\u001b[2m\u001b[36m(ClientAppActor pid=1208102)\u001b[0m Epoch 34: Training accuracy: 88.26087188720703 Testing accuracy: 72.25433349609375.\u001b[32m [repeated 26x across cluster]\u001b[0m\n",
      "\u001b[2m\u001b[36m(ClientAppActor pid=1208103)\u001b[0m \u001b[32m [repeated 26x across cluster]\u001b[0m\n",
      "\u001b[2m\u001b[36m(ClientAppActor pid=1208103)\u001b[0m Epoch 39/100\u001b[32m [repeated 26x across cluster]\u001b[0m\n",
      "\u001b[2m\u001b[36m(ClientAppActor pid=1208103)\u001b[0m Epoch 38: Training accuracy: 86.63729858398438 Testing accuracy: 78.9473648071289.\u001b[32m [repeated 26x across cluster]\u001b[0m\n",
      "\u001b[2m\u001b[36m(ClientAppActor pid=1208102)\u001b[0m \u001b[32m [repeated 58x across cluster]\u001b[0m\n",
      "\u001b[2m\u001b[36m(ClientAppActor pid=1208102)\u001b[0m Epoch 97/100\u001b[32m [repeated 58x across cluster]\u001b[0m\n",
      "\u001b[2m\u001b[36m(ClientAppActor pid=1208102)\u001b[0m Epoch 96: Training accuracy: 87.82608795166016 Testing accuracy: 72.25433349609375.\u001b[32m [repeated 58x across cluster]\u001b[0m\n",
      "\u001b[2m\u001b[36m(ClientAppActor pid=1208102)\u001b[0m \u001b[32m [repeated 84x across cluster]\u001b[0m\n",
      "\u001b[2m\u001b[36m(ClientAppActor pid=1208102)\u001b[0m Epoch 66/100\u001b[32m [repeated 84x across cluster]\u001b[0m\n",
      "\u001b[2m\u001b[36m(ClientAppActor pid=1208102)\u001b[0m Epoch 65: Training accuracy: 84.4583969116211 Testing accuracy: 78.125.\u001b[32m [repeated 84x across cluster]\u001b[0m\n",
      "\u001b[2m\u001b[36m(ClientAppActor pid=1208102)\u001b[0m \u001b[32m [repeated 129x across cluster]\u001b[0m\n",
      "\u001b[2m\u001b[36m(ClientAppActor pid=1208102)\u001b[0m Epoch 78/100\u001b[32m [repeated 129x across cluster]\u001b[0m\n",
      "\u001b[2m\u001b[36m(ClientAppActor pid=1208102)\u001b[0m Epoch 77: Training accuracy: 87.55924224853516 Testing accuracy: 78.30188751220703.\u001b[32m [repeated 129x across cluster]\u001b[0m\n",
      "\u001b[2m\u001b[36m(ClientAppActor pid=1208103)\u001b[0m \u001b[32m [repeated 38x across cluster]\u001b[0m\n",
      "\u001b[2m\u001b[36m(ClientAppActor pid=1208103)\u001b[0m Epoch 96/100\u001b[32m [repeated 38x across cluster]\u001b[0m\n",
      "\u001b[2m\u001b[36m(ClientAppActor pid=1208103)\u001b[0m Epoch 95: Training accuracy: 87.07782745361328 Testing accuracy: 80.11695861816406.\u001b[32m [repeated 39x across cluster]\u001b[0m\n"
     ]
    },
    {
     "name": "stderr",
     "output_type": "stream",
     "text": [
      "\u001b[92mINFO \u001b[0m:      aggregate_fit: received 4 results and 0 failures\n",
      "\u001b[92mINFO \u001b[0m:      fit progress: (39, 0.029401328633813298, {'accuracy': tensor(76.0994, device='cuda:0')}, 1839.6213144619978)\n",
      "\u001b[92mINFO \u001b[0m:      configure_evaluate: strategy sampled 2 clients (out of 4)\n"
     ]
    },
    {
     "name": "stdout",
     "output_type": "stream",
     "text": [
      "Server-side evaluation loss 0.029401328633813298 / accuracy 76.09942626953125\n"
     ]
    },
    {
     "name": "stderr",
     "output_type": "stream",
     "text": [
      "\u001b[92mINFO \u001b[0m:      aggregate_evaluate: received 2 results and 0 failures\n",
      "\u001b[92mINFO \u001b[0m:      \n",
      "\u001b[92mINFO \u001b[0m:      [ROUND 40]\n",
      "\u001b[92mINFO \u001b[0m:      configure_fit: strategy sampled 4 clients (out of 4)\n"
     ]
    },
    {
     "name": "stdout",
     "output_type": "stream",
     "text": [
      "\u001b[2m\u001b[36m(ClientAppActor pid=1208103)\u001b[0m \u001b[32m [repeated 21x across cluster]\u001b[0m\n",
      "\u001b[2m\u001b[36m(ClientAppActor pid=1208103)\u001b[0m Epoch 4/100\u001b[32m [repeated 21x across cluster]\u001b[0m\n",
      "\u001b[2m\u001b[36m(ClientAppActor pid=1208103)\u001b[0m Epoch 3: Training accuracy: 86.81159210205078 Testing accuracy: 75.72254180908203.\u001b[32m [repeated 20x across cluster]\u001b[0m\n",
      "\u001b[2m\u001b[36m(ClientAppActor pid=1208103)\u001b[0m \u001b[32m [repeated 49x across cluster]\u001b[0m\n",
      "\u001b[2m\u001b[36m(ClientAppActor pid=1208103)\u001b[0m Epoch 16/100\u001b[32m [repeated 49x across cluster]\u001b[0m\n",
      "\u001b[2m\u001b[36m(ClientAppActor pid=1208103)\u001b[0m Epoch 15: Training accuracy: 88.26087188720703 Testing accuracy: 69.94219970703125.\u001b[32m [repeated 49x across cluster]\u001b[0m\n",
      "\u001b[2m\u001b[36m(ClientAppActor pid=1208103)\u001b[0m \u001b[32m [repeated 43x across cluster]\u001b[0m\n",
      "\u001b[2m\u001b[36m(ClientAppActor pid=1208103)\u001b[0m Epoch 26/100\u001b[32m [repeated 43x across cluster]\u001b[0m\n",
      "\u001b[2m\u001b[36m(ClientAppActor pid=1208103)\u001b[0m Epoch 25: Training accuracy: 88.55072784423828 Testing accuracy: 69.94219970703125.\u001b[32m [repeated 43x across cluster]\u001b[0m\n",
      "\u001b[2m\u001b[36m(ClientAppActor pid=1208103)\u001b[0m \u001b[32m [repeated 43x across cluster]\u001b[0m\n",
      "\u001b[2m\u001b[36m(ClientAppActor pid=1208103)\u001b[0m Epoch 38/100\u001b[32m [repeated 43x across cluster]\u001b[0m\n",
      "\u001b[2m\u001b[36m(ClientAppActor pid=1208103)\u001b[0m Epoch 37: Training accuracy: 87.97101593017578 Testing accuracy: 70.52023315429688.\u001b[32m [repeated 43x across cluster]\u001b[0m\n",
      "\u001b[2m\u001b[36m(ClientAppActor pid=1208103)\u001b[0m \u001b[32m [repeated 41x across cluster]\u001b[0m\n",
      "\u001b[2m\u001b[36m(ClientAppActor pid=1208103)\u001b[0m Epoch 48/100\u001b[32m [repeated 41x across cluster]\u001b[0m\n",
      "\u001b[2m\u001b[36m(ClientAppActor pid=1208103)\u001b[0m Epoch 47: Training accuracy: 86.23188781738281 Testing accuracy: 72.25433349609375.\u001b[32m [repeated 41x across cluster]\u001b[0m\n",
      "\u001b[2m\u001b[36m(ClientAppActor pid=1208102)\u001b[0m \u001b[32m [repeated 37x across cluster]\u001b[0m\n",
      "\u001b[2m\u001b[36m(ClientAppActor pid=1208102)\u001b[0m Epoch 71/100\u001b[32m [repeated 37x across cluster]\u001b[0m\n",
      "\u001b[2m\u001b[36m(ClientAppActor pid=1208102)\u001b[0m Epoch 70: Training accuracy: 86.01895904541016 Testing accuracy: 73.58490753173828.\u001b[32m [repeated 37x across cluster]\u001b[0m\n",
      "\u001b[2m\u001b[36m(ClientAppActor pid=1208102)\u001b[0m \u001b[32m [repeated 39x across cluster]\u001b[0m\n",
      "\u001b[2m\u001b[36m(ClientAppActor pid=1208102)\u001b[0m Epoch 100/100\u001b[32m [repeated 39x across cluster]\u001b[0m\n",
      "\u001b[2m\u001b[36m(ClientAppActor pid=1208102)\u001b[0m Epoch 100: Training accuracy: 85.66350555419922 Testing accuracy: 74.52830505371094.\u001b[32m [repeated 40x across cluster]\u001b[0m\n"
     ]
    },
    {
     "name": "stderr",
     "output_type": "stream",
     "text": [
      "\u001b[92mINFO \u001b[0m:      aggregate_fit: received 4 results and 0 failures\n",
      "\u001b[92mINFO \u001b[0m:      fit progress: (40, 0.03338148313410142, {'accuracy': tensor(72.9445, device='cuda:0')}, 1877.213329029997)\n",
      "\u001b[92mINFO \u001b[0m:      configure_evaluate: strategy sampled 2 clients (out of 4)\n",
      "\u001b[92mINFO \u001b[0m:      aggregate_evaluate: received 2 results and 0 failures\n",
      "\u001b[92mINFO \u001b[0m:      \n",
      "\u001b[92mINFO \u001b[0m:      [ROUND 41]\n",
      "\u001b[92mINFO \u001b[0m:      configure_fit: strategy sampled 4 clients (out of 4)\n"
     ]
    },
    {
     "name": "stdout",
     "output_type": "stream",
     "text": [
      "Server-side evaluation loss 0.03338148313410142 / accuracy 72.94454956054688\n",
      "\u001b[2m\u001b[36m(ClientAppActor pid=1208103)\u001b[0m \u001b[32m [repeated 132x across cluster]\u001b[0m\n",
      "\u001b[2m\u001b[36m(ClientAppActor pid=1208103)\u001b[0m Epoch 1/100\u001b[32m [repeated 132x across cluster]\u001b[0m\n",
      "\u001b[2m\u001b[36m(ClientAppActor pid=1208102)\u001b[0m Epoch 100: Training accuracy: 85.90308380126953 Testing accuracy: 74.26900482177734.\u001b[32m [repeated 132x across cluster]\u001b[0m\n",
      "\u001b[2m\u001b[36m(ClientAppActor pid=1208103)\u001b[0m \u001b[32m [repeated 234x across cluster]\u001b[0m\n",
      "\u001b[2m\u001b[36m(ClientAppActor pid=1208103)\u001b[0m Epoch 63/100\u001b[32m [repeated 234x across cluster]\u001b[0m\n",
      "\u001b[2m\u001b[36m(ClientAppActor pid=1208103)\u001b[0m Epoch 62: Training accuracy: 87.22467041015625 Testing accuracy: 77.77777862548828.\u001b[32m [repeated 233x across cluster]\u001b[0m\n",
      "\u001b[2m\u001b[36m(ClientAppActor pid=1208103)\u001b[0m \u001b[32m [repeated 99x across cluster]\u001b[0m\n",
      "\u001b[2m\u001b[36m(ClientAppActor pid=1208103)\u001b[0m Epoch 92/100\u001b[32m [repeated 99x across cluster]\u001b[0m\n",
      "\u001b[2m\u001b[36m(ClientAppActor pid=1208103)\u001b[0m Epoch 91: Training accuracy: 86.63729858398438 Testing accuracy: 74.85379791259766.\u001b[32m [repeated 99x across cluster]\u001b[0m\n",
      "\u001b[2m\u001b[36m(ClientAppActor pid=1208102)\u001b[0m \u001b[32m [repeated 35x across cluster]\u001b[0m\n",
      "\u001b[2m\u001b[36m(ClientAppActor pid=1208102)\u001b[0m Epoch 69/100\u001b[32m [repeated 35x across cluster]\u001b[0m\n",
      "\u001b[2m\u001b[36m(ClientAppActor pid=1208102)\u001b[0m Epoch 68: Training accuracy: 87.20378875732422 Testing accuracy: 77.35848999023438.\u001b[32m [repeated 36x across cluster]\u001b[0m\n",
      "\u001b[2m\u001b[36m(ClientAppActor pid=1208102)\u001b[0m \u001b[32m [repeated 13x across cluster]\u001b[0m\n",
      "\u001b[2m\u001b[36m(ClientAppActor pid=1208102)\u001b[0m Epoch 82/100\u001b[32m [repeated 13x across cluster]\u001b[0m\n",
      "\u001b[2m\u001b[36m(ClientAppActor pid=1208102)\u001b[0m Epoch 81: Training accuracy: 86.61137390136719 Testing accuracy: 77.35848999023438.\u001b[32m [repeated 13x across cluster]\u001b[0m\n",
      "\u001b[2m\u001b[36m(ClientAppActor pid=1208102)\u001b[0m \u001b[32m [repeated 13x across cluster]\u001b[0m\n",
      "\u001b[2m\u001b[36m(ClientAppActor pid=1208102)\u001b[0m Epoch 95/100\u001b[32m [repeated 13x across cluster]\u001b[0m\n",
      "\u001b[2m\u001b[36m(ClientAppActor pid=1208102)\u001b[0m Epoch 94: Training accuracy: 85.07109069824219 Testing accuracy: 75.0.\u001b[32m [repeated 13x across cluster]\u001b[0m\n"
     ]
    },
    {
     "name": "stderr",
     "output_type": "stream",
     "text": [
      "\u001b[92mINFO \u001b[0m:      aggregate_fit: received 4 results and 0 failures\n",
      "\u001b[92mINFO \u001b[0m:      fit progress: (41, 0.029909333762000587, {'accuracy': tensor(75.7170, device='cuda:0')}, 1906.7100374019938)\n",
      "\u001b[92mINFO \u001b[0m:      configure_evaluate: strategy sampled 2 clients (out of 4)\n"
     ]
    },
    {
     "name": "stdout",
     "output_type": "stream",
     "text": [
      "Server-side evaluation loss 0.029909333762000587 / accuracy 75.7170181274414\n"
     ]
    },
    {
     "name": "stderr",
     "output_type": "stream",
     "text": [
      "\u001b[92mINFO \u001b[0m:      aggregate_evaluate: received 2 results and 0 failures\n",
      "\u001b[92mINFO \u001b[0m:      \n",
      "\u001b[92mINFO \u001b[0m:      [ROUND 42]\n",
      "\u001b[92mINFO \u001b[0m:      configure_fit: strategy sampled 4 clients (out of 4)\n"
     ]
    },
    {
     "name": "stdout",
     "output_type": "stream",
     "text": [
      "\u001b[2m\u001b[36m(ClientAppActor pid=1208102)\u001b[0m \u001b[32m [repeated 12x across cluster]\u001b[0m\n",
      "\u001b[2m\u001b[36m(ClientAppActor pid=1208102)\u001b[0m Epoch 4/100\u001b[32m [repeated 12x across cluster]\u001b[0m\n",
      "\u001b[2m\u001b[36m(ClientAppActor pid=1208102)\u001b[0m Epoch 3: Training accuracy: 84.4583969116211 Testing accuracy: 80.0.\u001b[32m [repeated 11x across cluster]\u001b[0m\n",
      "\u001b[2m\u001b[36m(ClientAppActor pid=1208103)\u001b[0m \u001b[32m [repeated 27x across cluster]\u001b[0m\n",
      "\u001b[2m\u001b[36m(ClientAppActor pid=1208103)\u001b[0m Epoch 13/100\u001b[32m [repeated 27x across cluster]\u001b[0m\n",
      "\u001b[2m\u001b[36m(ClientAppActor pid=1208103)\u001b[0m Epoch 12: Training accuracy: 85.6093978881836 Testing accuracy: 81.87134552001953.\u001b[32m [repeated 27x across cluster]\u001b[0m\n",
      "\u001b[2m\u001b[36m(ClientAppActor pid=1208103)\u001b[0m \u001b[32m [repeated 31x across cluster]\u001b[0m\n",
      "\u001b[2m\u001b[36m(ClientAppActor pid=1208103)\u001b[0m Epoch 26/100\u001b[32m [repeated 31x across cluster]\u001b[0m\n",
      "\u001b[2m\u001b[36m(ClientAppActor pid=1208103)\u001b[0m Epoch 25: Training accuracy: 85.90308380126953 Testing accuracy: 77.19298553466797.\u001b[32m [repeated 31x across cluster]\u001b[0m\n",
      "\u001b[2m\u001b[36m(ClientAppActor pid=1208103)\u001b[0m \u001b[32m [repeated 24x across cluster]\u001b[0m\n",
      "\u001b[2m\u001b[36m(ClientAppActor pid=1208103)\u001b[0m Epoch 36/100\u001b[32m [repeated 24x across cluster]\u001b[0m\n",
      "\u001b[2m\u001b[36m(ClientAppActor pid=1208103)\u001b[0m Epoch 35: Training accuracy: 86.93098449707031 Testing accuracy: 77.19298553466797.\u001b[32m [repeated 24x across cluster]\u001b[0m\n",
      "\u001b[2m\u001b[36m(ClientAppActor pid=1208103)\u001b[0m \u001b[32m [repeated 29x across cluster]\u001b[0m\n",
      "\u001b[2m\u001b[36m(ClientAppActor pid=1208103)\u001b[0m Epoch 48/100\u001b[32m [repeated 29x across cluster]\u001b[0m\n",
      "\u001b[2m\u001b[36m(ClientAppActor pid=1208103)\u001b[0m Epoch 47: Training accuracy: 85.46255493164062 Testing accuracy: 78.9473648071289.\u001b[32m [repeated 29x across cluster]\u001b[0m\n",
      "\u001b[2m\u001b[36m(ClientAppActor pid=1208102)\u001b[0m \u001b[32m [repeated 27x across cluster]\u001b[0m\n",
      "\u001b[2m\u001b[36m(ClientAppActor pid=1208102)\u001b[0m Epoch 87/100\u001b[32m [repeated 27x across cluster]\u001b[0m\n",
      "\u001b[2m\u001b[36m(ClientAppActor pid=1208102)\u001b[0m Epoch 86: Training accuracy: 85.08634185791016 Testing accuracy: 78.125.\u001b[32m [repeated 27x across cluster]\u001b[0m\n",
      "\u001b[2m\u001b[36m(ClientAppActor pid=1208103)\u001b[0m \u001b[32m [repeated 26x across cluster]\u001b[0m\n",
      "\u001b[2m\u001b[36m(ClientAppActor pid=1208103)\u001b[0m Epoch 70/100\u001b[32m [repeated 26x across cluster]\u001b[0m\n",
      "\u001b[2m\u001b[36m(ClientAppActor pid=1208103)\u001b[0m Epoch 69: Training accuracy: 87.37151336669922 Testing accuracy: 76.60818481445312.\u001b[32m [repeated 26x across cluster]\u001b[0m\n",
      "\u001b[2m\u001b[36m(ClientAppActor pid=1208103)\u001b[0m \u001b[32m [repeated 26x across cluster]\u001b[0m\n",
      "\u001b[2m\u001b[36m(ClientAppActor pid=1208103)\u001b[0m Epoch 83/100\u001b[32m [repeated 26x across cluster]\u001b[0m\n",
      "\u001b[2m\u001b[36m(ClientAppActor pid=1208103)\u001b[0m Epoch 82: Training accuracy: 86.19676971435547 Testing accuracy: 78.3625717163086.\u001b[32m [repeated 26x across cluster]\u001b[0m\n",
      "\u001b[2m\u001b[36m(ClientAppActor pid=1208102)\u001b[0m \u001b[32m [repeated 36x across cluster]\u001b[0m\n",
      "\u001b[2m\u001b[36m(ClientAppActor pid=1208102)\u001b[0m Epoch 33/100\u001b[32m [repeated 36x across cluster]\u001b[0m\n",
      "\u001b[2m\u001b[36m(ClientAppActor pid=1208102)\u001b[0m Epoch 32: Training accuracy: 87.20378875732422 Testing accuracy: 77.35848999023438.\u001b[32m [repeated 36x across cluster]\u001b[0m\n",
      "\u001b[2m\u001b[36m(ClientAppActor pid=1208103)\u001b[0m \u001b[32m [repeated 35x across cluster]\u001b[0m\n",
      "\u001b[2m\u001b[36m(ClientAppActor pid=1208103)\u001b[0m Epoch 17/100\u001b[32m [repeated 35x across cluster]\u001b[0m\n",
      "\u001b[2m\u001b[36m(ClientAppActor pid=1208103)\u001b[0m Epoch 16: Training accuracy: 87.97101593017578 Testing accuracy: 72.83236694335938.\u001b[32m [repeated 35x across cluster]\u001b[0m\n",
      "\u001b[2m\u001b[36m(ClientAppActor pid=1208102)\u001b[0m \u001b[32m [repeated 52x across cluster]\u001b[0m\n",
      "\u001b[2m\u001b[36m(ClientAppActor pid=1208102)\u001b[0m Epoch 87/100\u001b[32m [repeated 52x across cluster]\u001b[0m\n",
      "\u001b[2m\u001b[36m(ClientAppActor pid=1208102)\u001b[0m Epoch 86: Training accuracy: 87.0853042602539 Testing accuracy: 78.30188751220703.\u001b[32m [repeated 52x across cluster]\u001b[0m\n",
      "\u001b[2m\u001b[36m(ClientAppActor pid=1208103)\u001b[0m \u001b[32m [repeated 26x across cluster]\u001b[0m\n",
      "\u001b[2m\u001b[36m(ClientAppActor pid=1208103)\u001b[0m Epoch 46/100\u001b[32m [repeated 26x across cluster]\u001b[0m\n",
      "\u001b[2m\u001b[36m(ClientAppActor pid=1208103)\u001b[0m Epoch 45: Training accuracy: 87.82608795166016 Testing accuracy: 72.83236694335938.\u001b[32m [repeated 27x across cluster]\u001b[0m\n",
      "\u001b[2m\u001b[36m(ClientAppActor pid=1208103)\u001b[0m \u001b[32m [repeated 11x across cluster]\u001b[0m\n",
      "\u001b[2m\u001b[36m(ClientAppActor pid=1208103)\u001b[0m Epoch 57/100\u001b[32m [repeated 11x across cluster]\u001b[0m\n",
      "\u001b[2m\u001b[36m(ClientAppActor pid=1208103)\u001b[0m Epoch 56: Training accuracy: 87.97101593017578 Testing accuracy: 71.67630004882812.\u001b[32m [repeated 11x across cluster]\u001b[0m\n",
      "\u001b[2m\u001b[36m(ClientAppActor pid=1208103)\u001b[0m \u001b[32m [repeated 13x across cluster]\u001b[0m\n",
      "\u001b[2m\u001b[36m(ClientAppActor pid=1208103)\u001b[0m Epoch 70/100\u001b[32m [repeated 13x across cluster]\u001b[0m\n",
      "\u001b[2m\u001b[36m(ClientAppActor pid=1208103)\u001b[0m Epoch 69: Training accuracy: 88.6956558227539 Testing accuracy: 71.67630004882812.\u001b[32m [repeated 13x across cluster]\u001b[0m\n",
      "\u001b[2m\u001b[36m(ClientAppActor pid=1208103)\u001b[0m \u001b[32m [repeated 15x across cluster]\u001b[0m\n",
      "\u001b[2m\u001b[36m(ClientAppActor pid=1208103)\u001b[0m Epoch 85/100\u001b[32m [repeated 15x across cluster]\u001b[0m\n",
      "\u001b[2m\u001b[36m(ClientAppActor pid=1208103)\u001b[0m Epoch 84: Training accuracy: 86.81159210205078 Testing accuracy: 73.98844146728516.\u001b[32m [repeated 15x across cluster]\u001b[0m\n",
      "\u001b[2m\u001b[36m(ClientAppActor pid=1208103)\u001b[0m \u001b[32m [repeated 12x across cluster]\u001b[0m\n",
      "\u001b[2m\u001b[36m(ClientAppActor pid=1208103)\u001b[0m Epoch 97/100\u001b[32m [repeated 12x across cluster]\u001b[0m\n",
      "\u001b[2m\u001b[36m(ClientAppActor pid=1208103)\u001b[0m Epoch 96: Training accuracy: 88.26087188720703 Testing accuracy: 72.83236694335938.\u001b[32m [repeated 12x across cluster]\u001b[0m\n"
     ]
    },
    {
     "name": "stderr",
     "output_type": "stream",
     "text": [
      "\u001b[92mINFO \u001b[0m:      aggregate_fit: received 4 results and 0 failures\n",
      "\u001b[92mINFO \u001b[0m:      fit progress: (42, 0.03295310455210069, {'accuracy': tensor(73.8050, device='cuda:0')}, 1987.1877020139946)\n",
      "\u001b[92mINFO \u001b[0m:      configure_evaluate: strategy sampled 2 clients (out of 4)\n"
     ]
    },
    {
     "name": "stdout",
     "output_type": "stream",
     "text": [
      "Server-side evaluation loss 0.03295310455210069 / accuracy 73.80496978759766\n"
     ]
    },
    {
     "name": "stderr",
     "output_type": "stream",
     "text": [
      "\u001b[92mINFO \u001b[0m:      aggregate_evaluate: received 2 results and 0 failures\n",
      "\u001b[92mINFO \u001b[0m:      \n",
      "\u001b[92mINFO \u001b[0m:      [ROUND 43]\n",
      "\u001b[92mINFO \u001b[0m:      configure_fit: strategy sampled 4 clients (out of 4)\n"
     ]
    },
    {
     "name": "stdout",
     "output_type": "stream",
     "text": [
      "\u001b[2m\u001b[36m(ClientAppActor pid=1208102)\u001b[0m \u001b[32m [repeated 50x across cluster]\u001b[0m\n",
      "\u001b[2m\u001b[36m(ClientAppActor pid=1208102)\u001b[0m Epoch 39/100\u001b[32m [repeated 50x across cluster]\u001b[0m\n",
      "\u001b[2m\u001b[36m(ClientAppActor pid=1208102)\u001b[0m Epoch 38: Training accuracy: 82.23200988769531 Testing accuracy: 75.4385986328125.\u001b[32m [repeated 49x across cluster]\u001b[0m\n",
      "\u001b[2m\u001b[36m(ClientAppActor pid=1208102)\u001b[0m \u001b[32m [repeated 50x across cluster]\u001b[0m\n",
      "\u001b[2m\u001b[36m(ClientAppActor pid=1208102)\u001b[0m Epoch 78/100\u001b[32m [repeated 50x across cluster]\u001b[0m\n",
      "\u001b[2m\u001b[36m(ClientAppActor pid=1208102)\u001b[0m Epoch 77: Training accuracy: 86.78414154052734 Testing accuracy: 76.02339172363281.\u001b[32m [repeated 50x across cluster]\u001b[0m\n",
      "\u001b[2m\u001b[36m(ClientAppActor pid=1208103)\u001b[0m \u001b[32m [repeated 131x across cluster]\u001b[0m\n",
      "\u001b[2m\u001b[36m(ClientAppActor pid=1208103)\u001b[0m Epoch 36/100\u001b[32m [repeated 131x across cluster]\u001b[0m\n",
      "\u001b[2m\u001b[36m(ClientAppActor pid=1208103)\u001b[0m Epoch 35: Training accuracy: 87.55924224853516 Testing accuracy: 77.35848999023438.\u001b[32m [repeated 131x across cluster]\u001b[0m\n"
     ]
    },
    {
     "name": "stderr",
     "output_type": "stream",
     "text": [
      "\u001b[92mINFO \u001b[0m:      aggregate_fit: received 4 results and 0 failures\n",
      "\u001b[92mINFO \u001b[0m:      fit progress: (43, 0.029221357668147367, {'accuracy': tensor(76.7686, device='cuda:0')}, 2003.3489597720036)\n",
      "\u001b[92mINFO \u001b[0m:      configure_evaluate: strategy sampled 2 clients (out of 4)\n",
      "\u001b[92mINFO \u001b[0m:      aggregate_evaluate: received 2 results and 0 failures\n",
      "\u001b[92mINFO \u001b[0m:      \n",
      "\u001b[92mINFO \u001b[0m:      [ROUND 44]\n",
      "\u001b[92mINFO \u001b[0m:      configure_fit: strategy sampled 4 clients (out of 4)\n"
     ]
    },
    {
     "name": "stdout",
     "output_type": "stream",
     "text": [
      "Server-side evaluation loss 0.029221357668147367 / accuracy 76.76864624023438\n",
      "\u001b[2m\u001b[36m(ClientAppActor pid=1208103)\u001b[0m \u001b[32m [repeated 361x across cluster]\u001b[0m\n",
      "\u001b[2m\u001b[36m(ClientAppActor pid=1208103)\u001b[0m Epoch 30/100\u001b[32m [repeated 361x across cluster]\u001b[0m\n",
      "\u001b[2m\u001b[36m(ClientAppActor pid=1208103)\u001b[0m Epoch 29: Training accuracy: 87.97101593017578 Testing accuracy: 73.41040802001953.\u001b[32m [repeated 361x across cluster]\u001b[0m\n",
      "\u001b[2m\u001b[36m(ClientAppActor pid=1208103)\u001b[0m \u001b[32m [repeated 70x across cluster]\u001b[0m\n",
      "\u001b[2m\u001b[36m(ClientAppActor pid=1208103)\u001b[0m Epoch 68/100\u001b[32m [repeated 70x across cluster]\u001b[0m\n",
      "\u001b[2m\u001b[36m(ClientAppActor pid=1208103)\u001b[0m Epoch 67: Training accuracy: 88.6956558227539 Testing accuracy: 69.94219970703125.\u001b[32m [repeated 70x across cluster]\u001b[0m\n",
      "\u001b[2m\u001b[36m(ClientAppActor pid=1208102)\u001b[0m \u001b[32m [repeated 35x across cluster]\u001b[0m\n",
      "\u001b[2m\u001b[36m(ClientAppActor pid=1208102)\u001b[0m Epoch 11/100\u001b[32m [repeated 35x across cluster]\u001b[0m\n",
      "\u001b[2m\u001b[36m(ClientAppActor pid=1208102)\u001b[0m Epoch 10: Training accuracy: 87.44075775146484 Testing accuracy: 77.35848999023438.\u001b[32m [repeated 35x across cluster]\u001b[0m\n",
      "\u001b[2m\u001b[36m(ClientAppActor pid=1208102)\u001b[0m \u001b[32m [repeated 22x across cluster]\u001b[0m\n",
      "\u001b[2m\u001b[36m(ClientAppActor pid=1208102)\u001b[0m Epoch 23/100\u001b[32m [repeated 22x across cluster]\u001b[0m\n",
      "\u001b[2m\u001b[36m(ClientAppActor pid=1208102)\u001b[0m Epoch 22: Training accuracy: 87.79621124267578 Testing accuracy: 78.30188751220703.\u001b[32m [repeated 22x across cluster]\u001b[0m\n",
      "\u001b[2m\u001b[36m(ClientAppActor pid=1208102)\u001b[0m \u001b[32m [repeated 18x across cluster]\u001b[0m\n",
      "\u001b[2m\u001b[36m(ClientAppActor pid=1208102)\u001b[0m Epoch 34/100\u001b[32m [repeated 18x across cluster]\u001b[0m\n",
      "\u001b[2m\u001b[36m(ClientAppActor pid=1208102)\u001b[0m Epoch 33: Training accuracy: 87.55924224853516 Testing accuracy: 78.30188751220703.\u001b[32m [repeated 19x across cluster]\u001b[0m\n",
      "\u001b[2m\u001b[36m(ClientAppActor pid=1208102)\u001b[0m \u001b[32m [repeated 13x across cluster]\u001b[0m\n",
      "\u001b[2m\u001b[36m(ClientAppActor pid=1208102)\u001b[0m Epoch 47/100\u001b[32m [repeated 13x across cluster]\u001b[0m\n",
      "\u001b[2m\u001b[36m(ClientAppActor pid=1208102)\u001b[0m Epoch 46: Training accuracy: 86.84834289550781 Testing accuracy: 77.35848999023438.\u001b[32m [repeated 13x across cluster]\u001b[0m\n",
      "\u001b[2m\u001b[36m(ClientAppActor pid=1208102)\u001b[0m \u001b[32m [repeated 13x across cluster]\u001b[0m\n",
      "\u001b[2m\u001b[36m(ClientAppActor pid=1208102)\u001b[0m Epoch 60/100\u001b[32m [repeated 13x across cluster]\u001b[0m\n",
      "\u001b[2m\u001b[36m(ClientAppActor pid=1208102)\u001b[0m Epoch 59: Training accuracy: 87.55924224853516 Testing accuracy: 76.88679504394531.\u001b[32m [repeated 13x across cluster]\u001b[0m\n",
      "\u001b[2m\u001b[36m(ClientAppActor pid=1208102)\u001b[0m \u001b[32m [repeated 10x across cluster]\u001b[0m\n",
      "\u001b[2m\u001b[36m(ClientAppActor pid=1208102)\u001b[0m Epoch 70/100\u001b[32m [repeated 10x across cluster]\u001b[0m\n",
      "\u001b[2m\u001b[36m(ClientAppActor pid=1208102)\u001b[0m Epoch 69: Training accuracy: 87.44075775146484 Testing accuracy: 76.41509246826172.\u001b[32m [repeated 10x across cluster]\u001b[0m\n",
      "\u001b[2m\u001b[36m(ClientAppActor pid=1208102)\u001b[0m \u001b[32m [repeated 13x across cluster]\u001b[0m\n",
      "\u001b[2m\u001b[36m(ClientAppActor pid=1208102)\u001b[0m Epoch 83/100\u001b[32m [repeated 13x across cluster]\u001b[0m\n",
      "\u001b[2m\u001b[36m(ClientAppActor pid=1208102)\u001b[0m Epoch 82: Training accuracy: 87.32227325439453 Testing accuracy: 78.30188751220703.\u001b[32m [repeated 13x across cluster]\u001b[0m\n",
      "\u001b[2m\u001b[36m(ClientAppActor pid=1208102)\u001b[0m \u001b[32m [repeated 12x across cluster]\u001b[0m\n",
      "\u001b[2m\u001b[36m(ClientAppActor pid=1208102)\u001b[0m Epoch 95/100\u001b[32m [repeated 12x across cluster]\u001b[0m\n",
      "\u001b[2m\u001b[36m(ClientAppActor pid=1208102)\u001b[0m Epoch 94: Training accuracy: 87.67772674560547 Testing accuracy: 75.94339752197266.\u001b[32m [repeated 12x across cluster]\u001b[0m\n"
     ]
    },
    {
     "name": "stderr",
     "output_type": "stream",
     "text": [
      "\u001b[92mINFO \u001b[0m:      aggregate_fit: received 4 results and 0 failures\n",
      "\u001b[92mINFO \u001b[0m:      fit progress: (44, 0.028622588690589455, {'accuracy': tensor(75.7170, device='cuda:0')}, 2055.440835468995)\n",
      "\u001b[92mINFO \u001b[0m:      configure_evaluate: strategy sampled 2 clients (out of 4)\n"
     ]
    },
    {
     "name": "stdout",
     "output_type": "stream",
     "text": [
      "Server-side evaluation loss 0.028622588690589455 / accuracy 75.7170181274414\n"
     ]
    },
    {
     "name": "stderr",
     "output_type": "stream",
     "text": [
      "\u001b[92mINFO \u001b[0m:      aggregate_evaluate: received 2 results and 0 failures\n",
      "\u001b[92mINFO \u001b[0m:      \n",
      "\u001b[92mINFO \u001b[0m:      [ROUND 45]\n",
      "\u001b[92mINFO \u001b[0m:      configure_fit: strategy sampled 4 clients (out of 4)\n"
     ]
    },
    {
     "name": "stdout",
     "output_type": "stream",
     "text": [
      "\u001b[2m\u001b[36m(ClientAppActor pid=1208102)\u001b[0m \u001b[32m [repeated 13x across cluster]\u001b[0m\n",
      "\u001b[2m\u001b[36m(ClientAppActor pid=1208102)\u001b[0m Epoch 4/100\u001b[32m [repeated 13x across cluster]\u001b[0m\n",
      "\u001b[2m\u001b[36m(ClientAppActor pid=1208102)\u001b[0m Epoch 3: Training accuracy: 87.32227325439453 Testing accuracy: 77.83018493652344.\u001b[32m [repeated 12x across cluster]\u001b[0m\n",
      "\u001b[2m\u001b[36m(ClientAppActor pid=1208103)\u001b[0m \u001b[32m [repeated 29x across cluster]\u001b[0m\n",
      "\u001b[2m\u001b[36m(ClientAppActor pid=1208103)\u001b[0m Epoch 21/100\u001b[32m [repeated 29x across cluster]\u001b[0m\n",
      "\u001b[2m\u001b[36m(ClientAppActor pid=1208103)\u001b[0m Epoch 20: Training accuracy: 87.9588851928711 Testing accuracy: 77.77777862548828.\u001b[32m [repeated 29x across cluster]\u001b[0m\n",
      "\u001b[2m\u001b[36m(ClientAppActor pid=1208103)\u001b[0m \u001b[32m [repeated 24x across cluster]\u001b[0m\n",
      "\u001b[2m\u001b[36m(ClientAppActor pid=1208103)\u001b[0m Epoch 34/100\u001b[32m [repeated 24x across cluster]\u001b[0m\n",
      "\u001b[2m\u001b[36m(ClientAppActor pid=1208103)\u001b[0m Epoch 33: Training accuracy: 87.51835632324219 Testing accuracy: 80.70175170898438.\u001b[32m [repeated 24x across cluster]\u001b[0m\n",
      "\u001b[2m\u001b[36m(ClientAppActor pid=1208102)\u001b[0m \u001b[32m [repeated 27x across cluster]\u001b[0m\n",
      "\u001b[2m\u001b[36m(ClientAppActor pid=1208102)\u001b[0m Epoch 40/100\u001b[32m [repeated 27x across cluster]\u001b[0m\n",
      "\u001b[2m\u001b[36m(ClientAppActor pid=1208102)\u001b[0m Epoch 39: Training accuracy: 87.55924224853516 Testing accuracy: 77.83018493652344.\u001b[32m [repeated 27x across cluster]\u001b[0m\n",
      "\u001b[2m\u001b[36m(ClientAppActor pid=1208103)\u001b[0m \u001b[32m [repeated 35x across cluster]\u001b[0m\n",
      "\u001b[2m\u001b[36m(ClientAppActor pid=1208103)\u001b[0m Epoch 67/100\u001b[32m [repeated 35x across cluster]\u001b[0m\n",
      "\u001b[2m\u001b[36m(ClientAppActor pid=1208103)\u001b[0m Epoch 66: Training accuracy: 87.07782745361328 Testing accuracy: 76.02339172363281.\u001b[32m [repeated 35x across cluster]\u001b[0m\n",
      "\u001b[2m\u001b[36m(ClientAppActor pid=1208103)\u001b[0m \u001b[32m [repeated 44x across cluster]\u001b[0m\n",
      "\u001b[2m\u001b[36m(ClientAppActor pid=1208103)\u001b[0m Epoch 94/100\u001b[32m [repeated 44x across cluster]\u001b[0m\n",
      "\u001b[2m\u001b[36m(ClientAppActor pid=1208103)\u001b[0m Epoch 93: Training accuracy: 86.93098449707031 Testing accuracy: 76.02339172363281.\u001b[32m [repeated 44x across cluster]\u001b[0m\n",
      "\u001b[2m\u001b[36m(ClientAppActor pid=1208103)\u001b[0m \u001b[32m [repeated 47x across cluster]\u001b[0m\n",
      "\u001b[2m\u001b[36m(ClientAppActor pid=1208103)\u001b[0m Epoch 19/100\u001b[32m [repeated 47x across cluster]\u001b[0m\n",
      "\u001b[2m\u001b[36m(ClientAppActor pid=1208103)\u001b[0m Epoch 18: Training accuracy: 87.5362319946289 Testing accuracy: 71.0982666015625.\u001b[32m [repeated 47x across cluster]\u001b[0m\n",
      "\u001b[2m\u001b[36m(ClientAppActor pid=1208102)\u001b[0m \u001b[32m [repeated 48x across cluster]\u001b[0m\n",
      "\u001b[2m\u001b[36m(ClientAppActor pid=1208102)\u001b[0m Epoch 23/100\u001b[32m [repeated 48x across cluster]\u001b[0m\n",
      "\u001b[2m\u001b[36m(ClientAppActor pid=1208102)\u001b[0m Epoch 22: Training accuracy: 84.77236938476562 Testing accuracy: 76.25.\u001b[32m [repeated 48x across cluster]\u001b[0m\n",
      "\u001b[2m\u001b[36m(ClientAppActor pid=1208102)\u001b[0m \u001b[32m [repeated 42x across cluster]\u001b[0m\n",
      "\u001b[2m\u001b[36m(ClientAppActor pid=1208102)\u001b[0m Epoch 46/100\u001b[32m [repeated 42x across cluster]\u001b[0m\n",
      "\u001b[2m\u001b[36m(ClientAppActor pid=1208102)\u001b[0m Epoch 45: Training accuracy: 85.40031433105469 Testing accuracy: 78.125.\u001b[32m [repeated 42x across cluster]\u001b[0m\n",
      "\u001b[2m\u001b[36m(ClientAppActor pid=1208103)\u001b[0m \u001b[32m [repeated 39x across cluster]\u001b[0m\n",
      "\u001b[2m\u001b[36m(ClientAppActor pid=1208103)\u001b[0m Epoch 76/100\u001b[32m [repeated 39x across cluster]\u001b[0m\n",
      "\u001b[2m\u001b[36m(ClientAppActor pid=1208103)\u001b[0m Epoch 75: Training accuracy: 88.840576171875 Testing accuracy: 71.0982666015625.\u001b[32m [repeated 39x across cluster]\u001b[0m\n",
      "\u001b[2m\u001b[36m(ClientAppActor pid=1208102)\u001b[0m \u001b[32m [repeated 41x across cluster]\u001b[0m\n",
      "\u001b[2m\u001b[36m(ClientAppActor pid=1208102)\u001b[0m Epoch 90/100\u001b[32m [repeated 41x across cluster]\u001b[0m\n",
      "\u001b[2m\u001b[36m(ClientAppActor pid=1208102)\u001b[0m Epoch 89: Training accuracy: 85.55729675292969 Testing accuracy: 79.375.\u001b[32m [repeated 41x across cluster]\u001b[0m\n"
     ]
    },
    {
     "name": "stderr",
     "output_type": "stream",
     "text": [
      "\u001b[92mINFO \u001b[0m:      aggregate_fit: received 4 results and 0 failures\n",
      "\u001b[92mINFO \u001b[0m:      fit progress: (45, 0.030837150181041044, {'accuracy': tensor(75.6214, device='cuda:0')}, 2111.747446794994)\n",
      "\u001b[92mINFO \u001b[0m:      configure_evaluate: strategy sampled 2 clients (out of 4)\n"
     ]
    },
    {
     "name": "stdout",
     "output_type": "stream",
     "text": [
      "Server-side evaluation loss 0.030837150181041044 / accuracy 75.62141418457031\n"
     ]
    },
    {
     "name": "stderr",
     "output_type": "stream",
     "text": [
      "\u001b[92mINFO \u001b[0m:      aggregate_evaluate: received 2 results and 0 failures\n",
      "\u001b[92mINFO \u001b[0m:      \n",
      "\u001b[92mINFO \u001b[0m:      [ROUND 46]\n",
      "\u001b[92mINFO \u001b[0m:      configure_fit: strategy sampled 4 clients (out of 4)\n"
     ]
    },
    {
     "name": "stdout",
     "output_type": "stream",
     "text": [
      "\u001b[2m\u001b[36m(ClientAppActor pid=1208102)\u001b[0m \u001b[32m [repeated 29x across cluster]\u001b[0m\n",
      "\u001b[2m\u001b[36m(ClientAppActor pid=1208102)\u001b[0m Epoch 8/100\u001b[32m [repeated 29x across cluster]\u001b[0m\n",
      "\u001b[2m\u001b[36m(ClientAppActor pid=1208102)\u001b[0m Epoch 7: Training accuracy: 86.93098449707031 Testing accuracy: 78.9473648071289.\u001b[32m [repeated 29x across cluster]\u001b[0m\n",
      "\u001b[2m\u001b[36m(ClientAppActor pid=1208103)\u001b[0m \u001b[32m [repeated 39x across cluster]\u001b[0m\n",
      "\u001b[2m\u001b[36m(ClientAppActor pid=1208103)\u001b[0m Epoch 26/100\u001b[32m [repeated 39x across cluster]\u001b[0m\n",
      "\u001b[2m\u001b[36m(ClientAppActor pid=1208103)\u001b[0m Epoch 25: Training accuracy: 88.1159439086914 Testing accuracy: 71.67630004882812.\u001b[32m [repeated 39x across cluster]\u001b[0m\n",
      "\u001b[2m\u001b[36m(ClientAppActor pid=1208103)\u001b[0m \u001b[32m [repeated 52x across cluster]\u001b[0m\n",
      "\u001b[2m\u001b[36m(ClientAppActor pid=1208103)\u001b[0m Epoch 58/100\u001b[32m [repeated 52x across cluster]\u001b[0m\n",
      "\u001b[2m\u001b[36m(ClientAppActor pid=1208103)\u001b[0m Epoch 57: Training accuracy: 85.94203186035156 Testing accuracy: 71.67630004882812.\u001b[32m [repeated 52x across cluster]\u001b[0m\n",
      "\u001b[2m\u001b[36m(ClientAppActor pid=1208102)\u001b[0m \u001b[32m [repeated 63x across cluster]\u001b[0m\n",
      "\u001b[2m\u001b[36m(ClientAppActor pid=1208102)\u001b[0m Epoch 75/100\u001b[32m [repeated 63x across cluster]\u001b[0m\n",
      "\u001b[2m\u001b[36m(ClientAppActor pid=1208102)\u001b[0m Epoch 74: Training accuracy: 87.66519927978516 Testing accuracy: 78.3625717163086.\u001b[32m [repeated 63x across cluster]\u001b[0m\n",
      "\u001b[2m\u001b[36m(ClientAppActor pid=1208102)\u001b[0m \u001b[32m [repeated 26x across cluster]\u001b[0m\n",
      "\u001b[2m\u001b[36m(ClientAppActor pid=1208102)\u001b[0m Epoch 90/100\u001b[32m [repeated 26x across cluster]\u001b[0m\n",
      "\u001b[2m\u001b[36m(ClientAppActor pid=1208102)\u001b[0m Epoch 89: Training accuracy: 87.51835632324219 Testing accuracy: 76.02339172363281.\u001b[32m [repeated 26x across cluster]\u001b[0m\n",
      "\u001b[2m\u001b[36m(ClientAppActor pid=1208103)\u001b[0m \u001b[32m [repeated 34x across cluster]\u001b[0m\n",
      "\u001b[2m\u001b[36m(ClientAppActor pid=1208103)\u001b[0m Epoch 16/100\u001b[32m [repeated 34x across cluster]\u001b[0m\n",
      "\u001b[2m\u001b[36m(ClientAppActor pid=1208103)\u001b[0m Epoch 15: Training accuracy: 87.44075775146484 Testing accuracy: 78.7735824584961.\u001b[32m [repeated 34x across cluster]\u001b[0m\n",
      "\u001b[2m\u001b[36m(ClientAppActor pid=1208102)\u001b[0m \u001b[32m [repeated 38x across cluster]\u001b[0m\n",
      "\u001b[2m\u001b[36m(ClientAppActor pid=1208102)\u001b[0m Epoch 36/100\u001b[32m [repeated 38x across cluster]\u001b[0m\n",
      "\u001b[2m\u001b[36m(ClientAppActor pid=1208102)\u001b[0m Epoch 35: Training accuracy: 85.87126922607422 Testing accuracy: 78.75.\u001b[32m [repeated 38x across cluster]\u001b[0m\n",
      "\u001b[2m\u001b[36m(ClientAppActor pid=1208103)\u001b[0m \u001b[32m [repeated 44x across cluster]\u001b[0m\n",
      "\u001b[2m\u001b[36m(ClientAppActor pid=1208103)\u001b[0m Epoch 43/100\u001b[32m [repeated 44x across cluster]\u001b[0m\n",
      "\u001b[2m\u001b[36m(ClientAppActor pid=1208103)\u001b[0m Epoch 42: Training accuracy: 86.96682739257812 Testing accuracy: 78.30188751220703.\u001b[32m [repeated 44x across cluster]\u001b[0m\n",
      "\u001b[2m\u001b[36m(ClientAppActor pid=1208103)\u001b[0m \u001b[32m [repeated 36x across cluster]\u001b[0m\n",
      "\u001b[2m\u001b[36m(ClientAppActor pid=1208103)\u001b[0m Epoch 55/100\u001b[32m [repeated 36x across cluster]\u001b[0m\n",
      "\u001b[2m\u001b[36m(ClientAppActor pid=1208103)\u001b[0m Epoch 54: Training accuracy: 86.13744354248047 Testing accuracy: 77.35848999023438.\u001b[32m [repeated 36x across cluster]\u001b[0m\n",
      "\u001b[2m\u001b[36m(ClientAppActor pid=1208103)\u001b[0m \u001b[32m [repeated 18x across cluster]\u001b[0m\n",
      "\u001b[2m\u001b[36m(ClientAppActor pid=1208103)\u001b[0m Epoch 63/100\u001b[32m [repeated 18x across cluster]\u001b[0m\n",
      "\u001b[2m\u001b[36m(ClientAppActor pid=1208103)\u001b[0m Epoch 62: Training accuracy: 87.67772674560547 Testing accuracy: 76.88679504394531.\u001b[32m [repeated 19x across cluster]\u001b[0m\n",
      "\u001b[2m\u001b[36m(ClientAppActor pid=1208103)\u001b[0m \u001b[32m [repeated 10x across cluster]\u001b[0m\n",
      "\u001b[2m\u001b[36m(ClientAppActor pid=1208103)\u001b[0m Epoch 73/100\u001b[32m [repeated 10x across cluster]\u001b[0m\n",
      "\u001b[2m\u001b[36m(ClientAppActor pid=1208103)\u001b[0m Epoch 72: Training accuracy: 87.67772674560547 Testing accuracy: 77.35848999023438.\u001b[32m [repeated 10x across cluster]\u001b[0m\n",
      "\u001b[2m\u001b[36m(ClientAppActor pid=1208103)\u001b[0m \u001b[32m [repeated 9x across cluster]\u001b[0m\n",
      "\u001b[2m\u001b[36m(ClientAppActor pid=1208103)\u001b[0m Epoch 82/100\u001b[32m [repeated 9x across cluster]\u001b[0m\n",
      "\u001b[2m\u001b[36m(ClientAppActor pid=1208103)\u001b[0m Epoch 81: Training accuracy: 87.79621124267578 Testing accuracy: 77.83018493652344.\u001b[32m [repeated 9x across cluster]\u001b[0m\n",
      "\u001b[2m\u001b[36m(ClientAppActor pid=1208103)\u001b[0m \u001b[32m [repeated 9x across cluster]\u001b[0m\n",
      "\u001b[2m\u001b[36m(ClientAppActor pid=1208103)\u001b[0m Epoch 91/100\u001b[32m [repeated 9x across cluster]\u001b[0m\n",
      "\u001b[2m\u001b[36m(ClientAppActor pid=1208103)\u001b[0m Epoch 90: Training accuracy: 86.7298583984375 Testing accuracy: 75.47169494628906.\u001b[32m [repeated 9x across cluster]\u001b[0m\n",
      "\u001b[2m\u001b[36m(ClientAppActor pid=1208103)\u001b[0m \u001b[32m [repeated 9x across cluster]\u001b[0m\n",
      "\u001b[2m\u001b[36m(ClientAppActor pid=1208103)\u001b[0m Epoch 100/100\u001b[32m [repeated 9x across cluster]\u001b[0m\n",
      "\u001b[2m\u001b[36m(ClientAppActor pid=1208103)\u001b[0m Epoch 99: Training accuracy: 85.4265365600586 Testing accuracy: 74.52830505371094.\u001b[32m [repeated 9x across cluster]\u001b[0m\n"
     ]
    },
    {
     "name": "stderr",
     "output_type": "stream",
     "text": [
      "\u001b[92mINFO \u001b[0m:      aggregate_fit: received 4 results and 0 failures\n",
      "\u001b[92mINFO \u001b[0m:      fit progress: (46, 0.030260373564327463, {'accuracy': tensor(75.3346, device='cuda:0')}, 2181.3726309030026)\n",
      "\u001b[92mINFO \u001b[0m:      configure_evaluate: strategy sampled 2 clients (out of 4)\n"
     ]
    },
    {
     "name": "stdout",
     "output_type": "stream",
     "text": [
      "Server-side evaluation loss 0.030260373564327463 / accuracy 75.33460998535156\n"
     ]
    },
    {
     "name": "stderr",
     "output_type": "stream",
     "text": [
      "\u001b[92mINFO \u001b[0m:      aggregate_evaluate: received 2 results and 0 failures\n",
      "\u001b[92mINFO \u001b[0m:      \n",
      "\u001b[92mINFO \u001b[0m:      [ROUND 47]\n",
      "\u001b[92mINFO \u001b[0m:      configure_fit: strategy sampled 4 clients (out of 4)\n"
     ]
    },
    {
     "name": "stdout",
     "output_type": "stream",
     "text": [
      "\u001b[2m\u001b[36m(ClientAppActor pid=1208102)\u001b[0m \u001b[32m [repeated 20x across cluster]\u001b[0m\n",
      "\u001b[2m\u001b[36m(ClientAppActor pid=1208102)\u001b[0m Epoch 13/100\u001b[32m [repeated 20x across cluster]\u001b[0m\n",
      "\u001b[2m\u001b[36m(ClientAppActor pid=1208102)\u001b[0m Epoch 12: Training accuracy: 85.55729675292969 Testing accuracy: 75.625.\u001b[32m [repeated 19x across cluster]\u001b[0m\n",
      "\u001b[2m\u001b[36m(ClientAppActor pid=1208103)\u001b[0m \u001b[32m [repeated 30x across cluster]\u001b[0m\n",
      "\u001b[2m\u001b[36m(ClientAppActor pid=1208103)\u001b[0m Epoch 16/100\u001b[32m [repeated 30x across cluster]\u001b[0m\n",
      "\u001b[2m\u001b[36m(ClientAppActor pid=1208103)\u001b[0m Epoch 15: Training accuracy: 87.44075775146484 Testing accuracy: 78.30188751220703.\u001b[32m [repeated 30x across cluster]\u001b[0m\n",
      "\u001b[2m\u001b[36m(ClientAppActor pid=1208103)\u001b[0m \u001b[32m [repeated 30x across cluster]\u001b[0m\n",
      "\u001b[2m\u001b[36m(ClientAppActor pid=1208103)\u001b[0m Epoch 25/100\u001b[32m [repeated 30x across cluster]\u001b[0m\n",
      "\u001b[2m\u001b[36m(ClientAppActor pid=1208103)\u001b[0m Epoch 24: Training accuracy: 85.90047454833984 Testing accuracy: 75.0.\u001b[32m [repeated 30x across cluster]\u001b[0m\n",
      "\u001b[2m\u001b[36m(ClientAppActor pid=1208102)\u001b[0m \u001b[32m [repeated 36x across cluster]\u001b[0m\n",
      "\u001b[2m\u001b[36m(ClientAppActor pid=1208102)\u001b[0m Epoch 83/100\u001b[32m [repeated 36x across cluster]\u001b[0m\n",
      "\u001b[2m\u001b[36m(ClientAppActor pid=1208102)\u001b[0m Epoch 82: Training accuracy: 85.40031433105469 Testing accuracy: 80.0.\u001b[32m [repeated 36x across cluster]\u001b[0m\n",
      "\u001b[2m\u001b[36m(ClientAppActor pid=1208102)\u001b[0m \u001b[32m [repeated 42x across cluster]\u001b[0m\n",
      "\u001b[2m\u001b[36m(ClientAppActor pid=1208102)\u001b[0m Epoch 16/100\u001b[32m [repeated 42x across cluster]\u001b[0m\n",
      "\u001b[2m\u001b[36m(ClientAppActor pid=1208102)\u001b[0m Epoch 15: Training accuracy: 85.75624084472656 Testing accuracy: 80.70175170898438.\u001b[32m [repeated 42x across cluster]\u001b[0m\n",
      "\u001b[2m\u001b[36m(ClientAppActor pid=1208102)\u001b[0m \u001b[32m [repeated 126x across cluster]\u001b[0m\n",
      "\u001b[2m\u001b[36m(ClientAppActor pid=1208102)\u001b[0m Epoch 32/100\u001b[32m [repeated 126x across cluster]\u001b[0m\n",
      "\u001b[2m\u001b[36m(ClientAppActor pid=1208102)\u001b[0m Epoch 31: Training accuracy: 88.26087188720703 Testing accuracy: 71.0982666015625.\u001b[32m [repeated 126x across cluster]\u001b[0m\n",
      "\u001b[2m\u001b[36m(ClientAppActor pid=1208103)\u001b[0m \u001b[32m [repeated 82x across cluster]\u001b[0m\n",
      "\u001b[2m\u001b[36m(ClientAppActor pid=1208103)\u001b[0m Epoch 66/100\u001b[32m [repeated 82x across cluster]\u001b[0m\n",
      "\u001b[2m\u001b[36m(ClientAppActor pid=1208103)\u001b[0m Epoch 65: Training accuracy: 86.96682739257812 Testing accuracy: 78.30188751220703.\u001b[32m [repeated 83x across cluster]\u001b[0m\n",
      "\u001b[2m\u001b[36m(ClientAppActor pid=1208103)\u001b[0m \u001b[32m [repeated 14x across cluster]\u001b[0m\n",
      "\u001b[2m\u001b[36m(ClientAppActor pid=1208103)\u001b[0m Epoch 80/100\u001b[32m [repeated 14x across cluster]\u001b[0m\n",
      "\u001b[2m\u001b[36m(ClientAppActor pid=1208103)\u001b[0m Epoch 79: Training accuracy: 87.55924224853516 Testing accuracy: 77.35848999023438.\u001b[32m [repeated 14x across cluster]\u001b[0m\n",
      "\u001b[2m\u001b[36m(ClientAppActor pid=1208103)\u001b[0m \u001b[32m [repeated 9x across cluster]\u001b[0m\n",
      "\u001b[2m\u001b[36m(ClientAppActor pid=1208103)\u001b[0m Epoch 89/100\u001b[32m [repeated 9x across cluster]\u001b[0m\n",
      "\u001b[2m\u001b[36m(ClientAppActor pid=1208103)\u001b[0m Epoch 88: Training accuracy: 86.7298583984375 Testing accuracy: 77.35848999023438.\u001b[32m [repeated 9x across cluster]\u001b[0m\n",
      "\u001b[2m\u001b[36m(ClientAppActor pid=1208103)\u001b[0m \u001b[32m [repeated 10x across cluster]\u001b[0m\n",
      "\u001b[2m\u001b[36m(ClientAppActor pid=1208103)\u001b[0m Epoch 99/100\u001b[32m [repeated 10x across cluster]\u001b[0m\n",
      "\u001b[2m\u001b[36m(ClientAppActor pid=1208103)\u001b[0m Epoch 98: Training accuracy: 87.0853042602539 Testing accuracy: 78.7735824584961.\u001b[32m [repeated 10x across cluster]\u001b[0m\n"
     ]
    },
    {
     "name": "stderr",
     "output_type": "stream",
     "text": [
      "\u001b[92mINFO \u001b[0m:      aggregate_fit: received 4 results and 0 failures\n",
      "\u001b[92mINFO \u001b[0m:      fit progress: (47, 0.0327680040808285, {'accuracy': tensor(73.2314, device='cuda:0')}, 2233.537379108995)\n",
      "\u001b[92mINFO \u001b[0m:      configure_evaluate: strategy sampled 2 clients (out of 4)\n"
     ]
    },
    {
     "name": "stdout",
     "output_type": "stream",
     "text": [
      "Server-side evaluation loss 0.0327680040808285 / accuracy 73.23135375976562\n"
     ]
    },
    {
     "name": "stderr",
     "output_type": "stream",
     "text": [
      "\u001b[92mINFO \u001b[0m:      aggregate_evaluate: received 2 results and 0 failures\n",
      "\u001b[92mINFO \u001b[0m:      \n",
      "\u001b[92mINFO \u001b[0m:      [ROUND 48]\n",
      "\u001b[92mINFO \u001b[0m:      configure_fit: strategy sampled 4 clients (out of 4)\n"
     ]
    },
    {
     "name": "stdout",
     "output_type": "stream",
     "text": [
      "\u001b[2m\u001b[36m(ClientAppActor pid=1208102)\u001b[0m \u001b[32m [repeated 36x across cluster]\u001b[0m\n",
      "\u001b[2m\u001b[36m(ClientAppActor pid=1208102)\u001b[0m Epoch 28/100\u001b[32m [repeated 36x across cluster]\u001b[0m\n",
      "\u001b[2m\u001b[36m(ClientAppActor pid=1208102)\u001b[0m Epoch 27: Training accuracy: 84.92935943603516 Testing accuracy: 78.75.\u001b[32m [repeated 35x across cluster]\u001b[0m\n",
      "\u001b[2m\u001b[36m(ClientAppActor pid=1208102)\u001b[0m \u001b[32m [repeated 47x across cluster]\u001b[0m\n",
      "\u001b[2m\u001b[36m(ClientAppActor pid=1208102)\u001b[0m Epoch 63/100\u001b[32m [repeated 47x across cluster]\u001b[0m\n",
      "\u001b[2m\u001b[36m(ClientAppActor pid=1208102)\u001b[0m Epoch 62: Training accuracy: 85.55729675292969 Testing accuracy: 78.125.\u001b[32m [repeated 47x across cluster]\u001b[0m\n",
      "\u001b[2m\u001b[36m(ClientAppActor pid=1208102)\u001b[0m \u001b[32m [repeated 46x across cluster]\u001b[0m\n",
      "\u001b[2m\u001b[36m(ClientAppActor pid=1208102)\u001b[0m Epoch 98/100\u001b[32m [repeated 46x across cluster]\u001b[0m\n",
      "\u001b[2m\u001b[36m(ClientAppActor pid=1208102)\u001b[0m Epoch 97: Training accuracy: 85.40031433105469 Testing accuracy: 79.375.\u001b[32m [repeated 46x across cluster]\u001b[0m\n",
      "\u001b[2m\u001b[36m(ClientAppActor pid=1208103)\u001b[0m \u001b[32m [repeated 43x across cluster]\u001b[0m\n",
      "\u001b[2m\u001b[36m(ClientAppActor pid=1208103)\u001b[0m Epoch 41/100\u001b[32m [repeated 43x across cluster]\u001b[0m\n",
      "\u001b[2m\u001b[36m(ClientAppActor pid=1208103)\u001b[0m Epoch 40: Training accuracy: 87.0853042602539 Testing accuracy: 76.88679504394531.\u001b[32m [repeated 43x across cluster]\u001b[0m\n",
      "\u001b[2m\u001b[36m(ClientAppActor pid=1208102)\u001b[0m \u001b[32m [repeated 44x across cluster]\u001b[0m\n",
      "\u001b[2m\u001b[36m(ClientAppActor pid=1208102)\u001b[0m Epoch 63/100\u001b[32m [repeated 44x across cluster]\u001b[0m\n",
      "\u001b[2m\u001b[36m(ClientAppActor pid=1208102)\u001b[0m Epoch 62: Training accuracy: 87.39130401611328 Testing accuracy: 71.0982666015625.\u001b[32m [repeated 44x across cluster]\u001b[0m\n",
      "\u001b[2m\u001b[36m(ClientAppActor pid=1208103)\u001b[0m \u001b[32m [repeated 149x across cluster]\u001b[0m\n",
      "\u001b[2m\u001b[36m(ClientAppActor pid=1208103)\u001b[0m Epoch 64/100\u001b[32m [repeated 149x across cluster]\u001b[0m\n",
      "\u001b[2m\u001b[36m(ClientAppActor pid=1208103)\u001b[0m Epoch 63: Training accuracy: 87.67772674560547 Testing accuracy: 78.7735824584961.\u001b[32m [repeated 150x across cluster]\u001b[0m\n"
     ]
    },
    {
     "name": "stderr",
     "output_type": "stream",
     "text": [
      "\u001b[92mINFO \u001b[0m:      aggregate_fit: received 4 results and 0 failures\n",
      "\u001b[92mINFO \u001b[0m:      fit progress: (48, 0.029998092090382296, {'accuracy': tensor(76.3862, device='cuda:0')}, 2267.1844903419988)\n",
      "\u001b[92mINFO \u001b[0m:      configure_evaluate: strategy sampled 2 clients (out of 4)\n",
      "\u001b[92mINFO \u001b[0m:      aggregate_evaluate: received 2 results and 0 failures\n",
      "\u001b[92mINFO \u001b[0m:      \n",
      "\u001b[92mINFO \u001b[0m:      [ROUND 49]\n",
      "\u001b[92mINFO \u001b[0m:      configure_fit: strategy sampled 4 clients (out of 4)\n"
     ]
    },
    {
     "name": "stdout",
     "output_type": "stream",
     "text": [
      "Server-side evaluation loss 0.029998092090382296 / accuracy 76.38623046875\n",
      "\u001b[2m\u001b[36m(ClientAppActor pid=1208103)\u001b[0m \u001b[32m [repeated 62x across cluster]\u001b[0m\n",
      "\u001b[2m\u001b[36m(ClientAppActor pid=1208103)\u001b[0m Epoch 6/100\u001b[32m [repeated 62x across cluster]\u001b[0m\n",
      "\u001b[2m\u001b[36m(ClientAppActor pid=1208103)\u001b[0m Epoch 5: Training accuracy: 86.93098449707031 Testing accuracy: 76.02339172363281.\u001b[32m [repeated 61x across cluster]\u001b[0m\n",
      "\u001b[2m\u001b[36m(ClientAppActor pid=1208102)\u001b[0m \u001b[32m [repeated 156x across cluster]\u001b[0m\n",
      "\u001b[2m\u001b[36m(ClientAppActor pid=1208102)\u001b[0m Epoch 41/100\u001b[32m [repeated 156x across cluster]\u001b[0m\n",
      "\u001b[2m\u001b[36m(ClientAppActor pid=1208102)\u001b[0m Epoch 40: Training accuracy: 88.6956558227539 Testing accuracy: 69.94219970703125.\u001b[32m [repeated 156x across cluster]\u001b[0m\n",
      "\u001b[2m\u001b[36m(ClientAppActor pid=1208102)\u001b[0m \u001b[32m [repeated 81x across cluster]\u001b[0m\n",
      "\u001b[2m\u001b[36m(ClientAppActor pid=1208102)\u001b[0m Epoch 78/100\u001b[32m [repeated 81x across cluster]\u001b[0m\n",
      "\u001b[2m\u001b[36m(ClientAppActor pid=1208102)\u001b[0m Epoch 77: Training accuracy: 88.840576171875 Testing accuracy: 74.56647491455078.\u001b[32m [repeated 81x across cluster]\u001b[0m\n",
      "\u001b[2m\u001b[36m(ClientAppActor pid=1208102)\u001b[0m \u001b[32m [repeated 45x across cluster]\u001b[0m\n",
      "\u001b[2m\u001b[36m(ClientAppActor pid=1208102)\u001b[0m Epoch 100/100\u001b[32m [repeated 45x across cluster]\u001b[0m\n",
      "\u001b[2m\u001b[36m(ClientAppActor pid=1208102)\u001b[0m Epoch 100: Training accuracy: 88.6956558227539 Testing accuracy: 71.67630004882812.\u001b[32m [repeated 46x across cluster]\u001b[0m\n",
      "\u001b[2m\u001b[36m(ClientAppActor pid=1208103)\u001b[0m \u001b[32m [repeated 10x across cluster]\u001b[0m\n",
      "\u001b[2m\u001b[36m(ClientAppActor pid=1208103)\u001b[0m Epoch 18/100\u001b[32m [repeated 10x across cluster]\u001b[0m\n",
      "\u001b[2m\u001b[36m(ClientAppActor pid=1208103)\u001b[0m Epoch 17: Training accuracy: 87.44075775146484 Testing accuracy: 78.7735824584961.\u001b[32m [repeated 10x across cluster]\u001b[0m\n",
      "\u001b[2m\u001b[36m(ClientAppActor pid=1208103)\u001b[0m \u001b[32m [repeated 9x across cluster]\u001b[0m\n",
      "\u001b[2m\u001b[36m(ClientAppActor pid=1208103)\u001b[0m Epoch 27/100\u001b[32m [repeated 9x across cluster]\u001b[0m\n",
      "\u001b[2m\u001b[36m(ClientAppActor pid=1208103)\u001b[0m Epoch 26: Training accuracy: 85.4265365600586 Testing accuracy: 75.0.\u001b[32m [repeated 9x across cluster]\u001b[0m\n",
      "\u001b[2m\u001b[36m(ClientAppActor pid=1208103)\u001b[0m \u001b[32m [repeated 9x across cluster]\u001b[0m\n",
      "\u001b[2m\u001b[36m(ClientAppActor pid=1208103)\u001b[0m Epoch 36/100\u001b[32m [repeated 9x across cluster]\u001b[0m\n",
      "\u001b[2m\u001b[36m(ClientAppActor pid=1208103)\u001b[0m Epoch 35: Training accuracy: 87.67772674560547 Testing accuracy: 77.35848999023438.\u001b[32m [repeated 9x across cluster]\u001b[0m\n",
      "\u001b[2m\u001b[36m(ClientAppActor pid=1208103)\u001b[0m \u001b[32m [repeated 9x across cluster]\u001b[0m\n",
      "\u001b[2m\u001b[36m(ClientAppActor pid=1208103)\u001b[0m Epoch 45/100\u001b[32m [repeated 9x across cluster]\u001b[0m\n",
      "\u001b[2m\u001b[36m(ClientAppActor pid=1208103)\u001b[0m Epoch 44: Training accuracy: 86.96682739257812 Testing accuracy: 77.35848999023438.\u001b[32m [repeated 9x across cluster]\u001b[0m\n",
      "\u001b[2m\u001b[36m(ClientAppActor pid=1208103)\u001b[0m \u001b[32m [repeated 10x across cluster]\u001b[0m\n",
      "\u001b[2m\u001b[36m(ClientAppActor pid=1208103)\u001b[0m Epoch 55/100\u001b[32m [repeated 10x across cluster]\u001b[0m\n",
      "\u001b[2m\u001b[36m(ClientAppActor pid=1208103)\u001b[0m Epoch 54: Training accuracy: 87.67772674560547 Testing accuracy: 77.35848999023438.\u001b[32m [repeated 10x across cluster]\u001b[0m\n",
      "\u001b[2m\u001b[36m(ClientAppActor pid=1208103)\u001b[0m \u001b[32m [repeated 9x across cluster]\u001b[0m\n",
      "\u001b[2m\u001b[36m(ClientAppActor pid=1208103)\u001b[0m Epoch 64/100\u001b[32m [repeated 9x across cluster]\u001b[0m\n",
      "\u001b[2m\u001b[36m(ClientAppActor pid=1208103)\u001b[0m Epoch 63: Training accuracy: 87.67772674560547 Testing accuracy: 76.88679504394531.\u001b[32m [repeated 9x across cluster]\u001b[0m\n",
      "\u001b[2m\u001b[36m(ClientAppActor pid=1208103)\u001b[0m \u001b[32m [repeated 9x across cluster]\u001b[0m\n",
      "\u001b[2m\u001b[36m(ClientAppActor pid=1208103)\u001b[0m Epoch 73/100\u001b[32m [repeated 9x across cluster]\u001b[0m\n",
      "\u001b[2m\u001b[36m(ClientAppActor pid=1208103)\u001b[0m Epoch 72: Training accuracy: 87.32227325439453 Testing accuracy: 76.41509246826172.\u001b[32m [repeated 9x across cluster]\u001b[0m\n",
      "\u001b[2m\u001b[36m(ClientAppActor pid=1208103)\u001b[0m \u001b[32m [repeated 9x across cluster]\u001b[0m\n",
      "\u001b[2m\u001b[36m(ClientAppActor pid=1208103)\u001b[0m Epoch 82/100\u001b[32m [repeated 9x across cluster]\u001b[0m\n",
      "\u001b[2m\u001b[36m(ClientAppActor pid=1208103)\u001b[0m Epoch 81: Training accuracy: 87.20378875732422 Testing accuracy: 78.30188751220703.\u001b[32m [repeated 9x across cluster]\u001b[0m\n",
      "\u001b[2m\u001b[36m(ClientAppActor pid=1208103)\u001b[0m \u001b[32m [repeated 11x across cluster]\u001b[0m\n",
      "\u001b[2m\u001b[36m(ClientAppActor pid=1208103)\u001b[0m Epoch 93/100\u001b[32m [repeated 11x across cluster]\u001b[0m\n",
      "\u001b[2m\u001b[36m(ClientAppActor pid=1208103)\u001b[0m Epoch 92: Training accuracy: 87.67772674560547 Testing accuracy: 77.83018493652344.\u001b[32m [repeated 11x across cluster]\u001b[0m\n"
     ]
    },
    {
     "name": "stderr",
     "output_type": "stream",
     "text": [
      "\u001b[92mINFO \u001b[0m:      aggregate_fit: received 4 results and 0 failures\n",
      "\u001b[92mINFO \u001b[0m:      fit progress: (49, 0.028026160071877873, {'accuracy': tensor(77.1511, device='cuda:0')}, 2334.085712856002)\n",
      "\u001b[92mINFO \u001b[0m:      configure_evaluate: strategy sampled 2 clients (out of 4)\n"
     ]
    },
    {
     "name": "stdout",
     "output_type": "stream",
     "text": [
      "Server-side evaluation loss 0.028026160071877873 / accuracy 77.15105438232422\n"
     ]
    },
    {
     "name": "stderr",
     "output_type": "stream",
     "text": [
      "\u001b[92mINFO \u001b[0m:      aggregate_evaluate: received 2 results and 0 failures\n",
      "\u001b[92mINFO \u001b[0m:      \n",
      "\u001b[92mINFO \u001b[0m:      [ROUND 50]\n",
      "\u001b[92mINFO \u001b[0m:      configure_fit: strategy sampled 4 clients (out of 4)\n"
     ]
    },
    {
     "name": "stdout",
     "output_type": "stream",
     "text": [
      "\u001b[2m\u001b[36m(ClientAppActor pid=1208102)\u001b[0m \u001b[32m [repeated 19x across cluster]\u001b[0m\n",
      "\u001b[2m\u001b[36m(ClientAppActor pid=1208102)\u001b[0m Epoch 6/100\u001b[32m [repeated 19x across cluster]\u001b[0m\n",
      "\u001b[2m\u001b[36m(ClientAppActor pid=1208102)\u001b[0m Epoch 5: Training accuracy: 87.44075775146484 Testing accuracy: 75.94339752197266.\u001b[32m [repeated 18x across cluster]\u001b[0m\n",
      "\u001b[2m\u001b[36m(ClientAppActor pid=1208102)\u001b[0m \u001b[32m [repeated 38x across cluster]\u001b[0m\n",
      "\u001b[2m\u001b[36m(ClientAppActor pid=1208102)\u001b[0m Epoch 27/100\u001b[32m [repeated 38x across cluster]\u001b[0m\n",
      "\u001b[2m\u001b[36m(ClientAppActor pid=1208102)\u001b[0m Epoch 26: Training accuracy: 86.01895904541016 Testing accuracy: 75.47169494628906.\u001b[32m [repeated 38x across cluster]\u001b[0m\n",
      "\u001b[2m\u001b[36m(ClientAppActor pid=1208103)\u001b[0m \u001b[32m [repeated 39x across cluster]\u001b[0m\n",
      "\u001b[2m\u001b[36m(ClientAppActor pid=1208103)\u001b[0m Epoch 41/100\u001b[32m [repeated 39x across cluster]\u001b[0m\n",
      "\u001b[2m\u001b[36m(ClientAppActor pid=1208103)\u001b[0m Epoch 40: Training accuracy: 87.5362319946289 Testing accuracy: 71.67630004882812.\u001b[32m [repeated 39x across cluster]\u001b[0m\n",
      "\u001b[2m\u001b[36m(ClientAppActor pid=1208102)\u001b[0m \u001b[32m [repeated 26x across cluster]\u001b[0m\n",
      "\u001b[2m\u001b[36m(ClientAppActor pid=1208102)\u001b[0m Epoch 63/100\u001b[32m [repeated 26x across cluster]\u001b[0m\n",
      "\u001b[2m\u001b[36m(ClientAppActor pid=1208102)\u001b[0m Epoch 62: Training accuracy: 86.49288940429688 Testing accuracy: 76.41509246826172.\u001b[32m [repeated 26x across cluster]\u001b[0m\n",
      "\u001b[2m\u001b[36m(ClientAppActor pid=1208103)\u001b[0m \u001b[32m [repeated 33x across cluster]\u001b[0m\n",
      "\u001b[2m\u001b[36m(ClientAppActor pid=1208103)\u001b[0m Epoch 68/100\u001b[32m [repeated 33x across cluster]\u001b[0m\n",
      "\u001b[2m\u001b[36m(ClientAppActor pid=1208103)\u001b[0m Epoch 67: Training accuracy: 88.840576171875 Testing accuracy: 71.67630004882812.\u001b[32m [repeated 33x across cluster]\u001b[0m\n",
      "\u001b[2m\u001b[36m(ClientAppActor pid=1208102)\u001b[0m \u001b[32m [repeated 30x across cluster]\u001b[0m\n",
      "\u001b[2m\u001b[36m(ClientAppActor pid=1208102)\u001b[0m Epoch 98/100\u001b[32m [repeated 30x across cluster]\u001b[0m\n",
      "\u001b[2m\u001b[36m(ClientAppActor pid=1208102)\u001b[0m Epoch 97: Training accuracy: 87.32227325439453 Testing accuracy: 76.88679504394531.\u001b[32m [repeated 30x across cluster]\u001b[0m\n",
      "\u001b[2m\u001b[36m(ClientAppActor pid=1208103)\u001b[0m \u001b[32m [repeated 35x across cluster]\u001b[0m\n",
      "\u001b[2m\u001b[36m(ClientAppActor pid=1208103)\u001b[0m Epoch 97/100\u001b[32m [repeated 35x across cluster]\u001b[0m\n",
      "\u001b[2m\u001b[36m(ClientAppActor pid=1208103)\u001b[0m Epoch 96: Training accuracy: 87.97101593017578 Testing accuracy: 72.25433349609375.\u001b[32m [repeated 35x across cluster]\u001b[0m\n",
      "\u001b[2m\u001b[36m(ClientAppActor pid=1208103)\u001b[0m \u001b[32m [repeated 43x across cluster]\u001b[0m\n",
      "\u001b[2m\u001b[36m(ClientAppActor pid=1208103)\u001b[0m Epoch 20/100\u001b[32m [repeated 43x across cluster]\u001b[0m\n",
      "\u001b[2m\u001b[36m(ClientAppActor pid=1208103)\u001b[0m Epoch 19: Training accuracy: 85.08634185791016 Testing accuracy: 76.875.\u001b[32m [repeated 43x across cluster]\u001b[0m\n",
      "\u001b[2m\u001b[36m(ClientAppActor pid=1208103)\u001b[0m \u001b[32m [repeated 43x across cluster]\u001b[0m\n",
      "\u001b[2m\u001b[36m(ClientAppActor pid=1208103)\u001b[0m Epoch 43/100\u001b[32m [repeated 43x across cluster]\u001b[0m\n",
      "\u001b[2m\u001b[36m(ClientAppActor pid=1208103)\u001b[0m Epoch 42: Training accuracy: 85.40031433105469 Testing accuracy: 78.75.\u001b[32m [repeated 43x across cluster]\u001b[0m\n",
      "\u001b[2m\u001b[36m(ClientAppActor pid=1208103)\u001b[0m \u001b[32m [repeated 40x across cluster]\u001b[0m\n",
      "\u001b[2m\u001b[36m(ClientAppActor pid=1208103)\u001b[0m Epoch 62/100\u001b[32m [repeated 40x across cluster]\u001b[0m\n",
      "\u001b[2m\u001b[36m(ClientAppActor pid=1208103)\u001b[0m Epoch 61: Training accuracy: 86.18524169921875 Testing accuracy: 77.5.\u001b[32m [repeated 40x across cluster]\u001b[0m\n",
      "\u001b[2m\u001b[36m(ClientAppActor pid=1208103)\u001b[0m \u001b[32m [repeated 40x across cluster]\u001b[0m\n",
      "\u001b[2m\u001b[36m(ClientAppActor pid=1208103)\u001b[0m Epoch 83/100\u001b[32m [repeated 40x across cluster]\u001b[0m\n",
      "\u001b[2m\u001b[36m(ClientAppActor pid=1208103)\u001b[0m Epoch 82: Training accuracy: 85.87126922607422 Testing accuracy: 79.375.\u001b[32m [repeated 40x across cluster]\u001b[0m\n"
     ]
    },
    {
     "name": "stderr",
     "output_type": "stream",
     "text": [
      "\u001b[92mINFO \u001b[0m:      aggregate_fit: received 4 results and 0 failures\n",
      "\u001b[92mINFO \u001b[0m:      fit progress: (50, 0.029574341633740592, {'accuracy': tensor(76.7686, device='cuda:0')}, 2391.505198779996)\n",
      "\u001b[92mINFO \u001b[0m:      configure_evaluate: strategy sampled 2 clients (out of 4)\n"
     ]
    },
    {
     "name": "stdout",
     "output_type": "stream",
     "text": [
      "Server-side evaluation loss 0.029574341633740592 / accuracy 76.76864624023438\n"
     ]
    },
    {
     "name": "stderr",
     "output_type": "stream",
     "text": [
      "\u001b[92mINFO \u001b[0m:      aggregate_evaluate: received 2 results and 0 failures\n",
      "\u001b[92mINFO \u001b[0m:      \n",
      "\u001b[92mINFO \u001b[0m:      [SUMMARY]\n",
      "\u001b[92mINFO \u001b[0m:      Run finished 50 rounds in 2391.82s\n",
      "\u001b[92mINFO \u001b[0m:      History (loss, distributed):\n",
      "\u001b[92mINFO \u001b[0m:      \t('\\tround 1: 0.1974455714225769\\n'\n",
      "\u001b[92mINFO \u001b[0m:      \t '\\tround 2: 0.16800934076309204\\n'\n",
      "\u001b[92mINFO \u001b[0m:      \t '\\tround 3: 0.16644856759480067\\n'\n",
      "\u001b[92mINFO \u001b[0m:      \t '\\tround 4: 0.1628292202949524\\n'\n",
      "\u001b[92mINFO \u001b[0m:      \t '\\tround 5: 0.16819550593694052\\n'\n",
      "\u001b[92mINFO \u001b[0m:      \t '\\tround 6: 0.14907354967934744\\n'\n",
      "\u001b[92mINFO \u001b[0m:      \t '\\tround 7: 0.18022119998931885\\n'\n",
      "\u001b[92mINFO \u001b[0m:      \t '\\tround 8: 0.16539391449519567\\n'\n",
      "\u001b[92mINFO \u001b[0m:      \t '\\tround 9: 0.17637879649798074\\n'\n",
      "\u001b[92mINFO \u001b[0m:      \t '\\tround 10: 0.19331402579943338\\n'\n",
      "\u001b[92mINFO \u001b[0m:      \t '\\tround 11: 0.17616403102874756\\n'\n",
      "\u001b[92mINFO \u001b[0m:      \t '\\tround 12: 0.14427929265158518\\n'\n",
      "\u001b[92mINFO \u001b[0m:      \t '\\tround 13: 0.15532561710902623\\n'\n",
      "\u001b[92mINFO \u001b[0m:      \t '\\tround 14: 0.1613363971312841\\n'\n",
      "\u001b[92mINFO \u001b[0m:      \t '\\tround 15: 0.18973915775616965\\n'\n",
      "\u001b[92mINFO \u001b[0m:      \t '\\tround 16: 0.15883096059163412\\n'\n",
      "\u001b[92mINFO \u001b[0m:      \t '\\tround 17: 0.17872437834739685\\n'\n",
      "\u001b[92mINFO \u001b[0m:      \t '\\tround 18: 0.1726175844669342\\n'\n",
      "\u001b[92mINFO \u001b[0m:      \t '\\tround 19: 0.18272541960080466\\n'\n",
      "\u001b[92mINFO \u001b[0m:      \t '\\tround 20: 0.1810060739517212\\n'\n",
      "\u001b[92mINFO \u001b[0m:      \t '\\tround 21: 0.15914343936102732\\n'\n",
      "\u001b[92mINFO \u001b[0m:      \t '\\tround 22: 0.1672691454490026\\n'\n",
      "\u001b[92mINFO \u001b[0m:      \t '\\tround 23: 0.1855311095714569\\n'\n",
      "\u001b[92mINFO \u001b[0m:      \t '\\tround 24: 0.1824629803498586\\n'\n",
      "\u001b[92mINFO \u001b[0m:      \t '\\tround 25: 0.17591654260953268\\n'\n",
      "\u001b[92mINFO \u001b[0m:      \t '\\tround 26: 0.170938178896904\\n'\n",
      "\u001b[92mINFO \u001b[0m:      \t '\\tround 27: 0.17448597153027853\\n'\n",
      "\u001b[92mINFO \u001b[0m:      \t '\\tround 28: 0.15146506684167044\\n'\n",
      "\u001b[92mINFO \u001b[0m:      \t '\\tround 29: 0.15366427387510026\\n'\n",
      "\u001b[92mINFO \u001b[0m:      \t '\\tround 30: 0.15956364359174455\\n'\n",
      "\u001b[92mINFO \u001b[0m:      \t '\\tround 31: 0.1946226159731547\\n'\n",
      "\u001b[92mINFO \u001b[0m:      \t '\\tround 32: 0.1420185353074755\\n'\n",
      "\u001b[92mINFO \u001b[0m:      \t '\\tround 33: 0.17564632495244345\\n'\n",
      "\u001b[92mINFO \u001b[0m:      \t '\\tround 34: 0.16389487470899308\\n'\n",
      "\u001b[92mINFO \u001b[0m:      \t '\\tround 35: 0.15410440308707102\\n'\n",
      "\u001b[92mINFO \u001b[0m:      \t '\\tround 36: 0.1808565855026245\\n'\n",
      "\u001b[92mINFO \u001b[0m:      \t '\\tround 37: 0.15657544987542288\\n'\n",
      "\u001b[92mINFO \u001b[0m:      \t '\\tround 38: 0.1534880484853472\\n'\n",
      "\u001b[92mINFO \u001b[0m:      \t '\\tround 39: 0.16799823443094888\\n'\n",
      "\u001b[92mINFO \u001b[0m:      \t '\\tround 40: 0.1823977530002594\\n'\n",
      "\u001b[92mINFO \u001b[0m:      \t '\\tround 41: 0.1801187346378962\\n'\n",
      "\u001b[92mINFO \u001b[0m:      \t '\\tround 42: 0.15137329271861485\\n'\n",
      "\u001b[92mINFO \u001b[0m:      \t '\\tround 43: 0.17605629563331604\\n'\n",
      "\u001b[92mINFO \u001b[0m:      \t '\\tround 44: 0.17883771657943726\\n'\n",
      "\u001b[92mINFO \u001b[0m:      \t '\\tround 45: 0.1668864403452192\\n'\n",
      "\u001b[92mINFO \u001b[0m:      \t '\\tround 46: 0.14027506113052368\\n'\n",
      "\u001b[92mINFO \u001b[0m:      \t '\\tround 47: 0.17529919743537903\\n'\n",
      "\u001b[92mINFO \u001b[0m:      \t '\\tround 48: 0.15140507050922938\\n'\n",
      "\u001b[92mINFO \u001b[0m:      \t '\\tround 49: 0.14740123919078282\\n'\n",
      "\u001b[92mINFO \u001b[0m:      \t '\\tround 50: 0.13989267178944179\\n')History (loss, centralized):\n",
      "\u001b[92mINFO \u001b[0m:      \t('\\tround 0: 0.04324009137995103\\n'\n",
      "\u001b[92mINFO \u001b[0m:      \t '\\tround 1: 0.041565782883588004\\n'\n",
      "\u001b[92mINFO \u001b[0m:      \t '\\tround 2: 0.03472979980356553\\n'\n",
      "\u001b[92mINFO \u001b[0m:      \t '\\tround 3: 0.03279493486180025\\n'\n",
      "\u001b[92mINFO \u001b[0m:      \t '\\tround 4: 0.03255872866686653\\n'\n",
      "\u001b[92mINFO \u001b[0m:      \t '\\tround 5: 0.03170698881149292\\n'\n",
      "\u001b[92mINFO \u001b[0m:      \t '\\tround 6: 0.03257578260758344\\n'\n",
      "\u001b[92mINFO \u001b[0m:      \t '\\tround 7: 0.03150271668153651\\n'\n",
      "\u001b[92mINFO \u001b[0m:      \t '\\tround 8: 0.03244777637369493\\n'\n",
      "\u001b[92mINFO \u001b[0m:      \t '\\tround 9: 0.030813203138463637\\n'\n",
      "\u001b[92mINFO \u001b[0m:      \t '\\tround 10: 0.030676480601815617\\n'\n",
      "\u001b[92mINFO \u001b[0m:      \t '\\tround 11: 0.029574289041406968\\n'\n",
      "\u001b[92mINFO \u001b[0m:      \t '\\tround 12: 0.030545641394222483\\n'\n",
      "\u001b[92mINFO \u001b[0m:      \t '\\tround 13: 0.030196274028104896\\n'\n",
      "\u001b[92mINFO \u001b[0m:      \t '\\tround 14: 0.03059246259577134\\n'\n",
      "\u001b[92mINFO \u001b[0m:      \t '\\tround 15: 0.030354983666363883\\n'\n",
      "\u001b[92mINFO \u001b[0m:      \t '\\tround 16: 0.03149332018459544\\n'\n",
      "\u001b[92mINFO \u001b[0m:      \t '\\tround 17: 0.031614328131956214\\n'\n",
      "\u001b[92mINFO \u001b[0m:      \t '\\tround 18: 0.031839079716626334\\n'\n",
      "\u001b[92mINFO \u001b[0m:      \t '\\tround 19: 0.02928040483418633\\n'\n",
      "\u001b[92mINFO \u001b[0m:      \t '\\tround 20: 0.03015639852075016\\n'\n",
      "\u001b[92mINFO \u001b[0m:      \t '\\tround 21: 0.029957631055046532\\n'\n",
      "\u001b[92mINFO \u001b[0m:      \t '\\tround 22: 0.029798767145942238\\n'\n",
      "\u001b[92mINFO \u001b[0m:      \t '\\tround 23: 0.032964776544009936\\n'\n",
      "\u001b[92mINFO \u001b[0m:      \t '\\tround 24: 0.03173742925419527\\n'\n",
      "\u001b[92mINFO \u001b[0m:      \t '\\tround 25: 0.03217901903040269\\n'\n",
      "\u001b[92mINFO \u001b[0m:      \t '\\tround 26: 0.029295036021400902\\n'\n",
      "\u001b[92mINFO \u001b[0m:      \t '\\tround 27: 0.03212496462990256\\n'\n",
      "\u001b[92mINFO \u001b[0m:      \t '\\tround 28: 0.03219116084715899\\n'\n",
      "\u001b[92mINFO \u001b[0m:      \t '\\tround 29: 0.033168424578274\\n'\n",
      "\u001b[92mINFO \u001b[0m:      \t '\\tround 30: 0.02952083068735459\\n'\n",
      "\u001b[92mINFO \u001b[0m:      \t '\\tround 31: 0.02992003454881556\\n'\n",
      "\u001b[92mINFO \u001b[0m:      \t '\\tround 32: 0.03110820405623492\\n'\n",
      "\u001b[92mINFO \u001b[0m:      \t '\\tround 33: 0.0300788774209864\\n'\n",
      "\u001b[92mINFO \u001b[0m:      \t '\\tround 34: 0.03118113910450655\\n'\n",
      "\u001b[92mINFO \u001b[0m:      \t '\\tround 35: 0.03102797971052282\\n'\n",
      "\u001b[92mINFO \u001b[0m:      \t '\\tround 36: 0.032145268776837516\\n'\n",
      "\u001b[92mINFO \u001b[0m:      \t '\\tround 37: 0.03009293359868667\\n'\n",
      "\u001b[92mINFO \u001b[0m:      \t '\\tround 38: 0.028600301812676823\\n'\n",
      "\u001b[92mINFO \u001b[0m:      \t '\\tround 39: 0.029401328633813298\\n'\n",
      "\u001b[92mINFO \u001b[0m:      \t '\\tround 40: 0.03338148313410142\\n'\n",
      "\u001b[92mINFO \u001b[0m:      \t '\\tround 41: 0.029909333762000587\\n'\n",
      "\u001b[92mINFO \u001b[0m:      \t '\\tround 42: 0.03295310455210069\\n'\n",
      "\u001b[92mINFO \u001b[0m:      \t '\\tround 43: 0.029221357668147367\\n'\n",
      "\u001b[92mINFO \u001b[0m:      \t '\\tround 44: 0.028622588690589455\\n'\n",
      "\u001b[92mINFO \u001b[0m:      \t '\\tround 45: 0.030837150181041044\\n'\n",
      "\u001b[92mINFO \u001b[0m:      \t '\\tround 46: 0.030260373564327463\\n'\n",
      "\u001b[92mINFO \u001b[0m:      \t '\\tround 47: 0.0327680040808285\\n'\n",
      "\u001b[92mINFO \u001b[0m:      \t '\\tround 48: 0.029998092090382296\\n'\n",
      "\u001b[92mINFO \u001b[0m:      \t '\\tround 49: 0.028026160071877873\\n'\n",
      "\u001b[92mINFO \u001b[0m:      \t '\\tround 50: 0.029574341633740592\\n')History (metrics, distributed, evaluate):\n",
      "\u001b[92mINFO \u001b[0m:      \t{'accuracy': [(1, 51.34602355957031),\n",
      "\u001b[92mINFO \u001b[0m:      \t              (2, 64.84607696533203),\n",
      "\u001b[92mINFO \u001b[0m:      \t              (3, 71.76886858258929),\n",
      "\u001b[92mINFO \u001b[0m:      \t              (4, 71.23146711077008),\n",
      "\u001b[92mINFO \u001b[0m:      \t              (5, 78.19524765014648),\n",
      "\u001b[92mINFO \u001b[0m:      \t              (6, 69.08524431501117),\n",
      "\u001b[92mINFO \u001b[0m:      \t              (7, 77.07189178466797),\n",
      "\u001b[92mINFO \u001b[0m:      \t              (8, 69.88881574358258),\n",
      "\u001b[92mINFO \u001b[0m:      \t              (9, 77.02903747558594),\n",
      "\u001b[92mINFO \u001b[0m:      \t              (10, 75.91582489013672),\n",
      "\u001b[92mINFO \u001b[0m:      \t              (11, 76.6812858581543),\n",
      "\u001b[92mINFO \u001b[0m:      \t              (12, 74.72877284458706),\n",
      "\u001b[92mINFO \u001b[0m:      \t              (13, 77.14790998186383),\n",
      "\u001b[92mINFO \u001b[0m:      \t              (14, 78.26388931274414),\n",
      "\u001b[92mINFO \u001b[0m:      \t              (15, 78.53618240356445),\n",
      "\u001b[92mINFO \u001b[0m:      \t              (16, 76.74340057373047),\n",
      "\u001b[92mINFO \u001b[0m:      \t              (17, 77.3248176574707),\n",
      "\u001b[92mINFO \u001b[0m:      \t              (18, 76.74159240722656),\n",
      "\u001b[92mINFO \u001b[0m:      \t              (19, 77.91299057006836),\n",
      "\u001b[92mINFO \u001b[0m:      \t              (20, 76.54082489013672),\n",
      "\u001b[92mINFO \u001b[0m:      \t              (21, 77.2308120727539),\n",
      "\u001b[92mINFO \u001b[0m:      \t              (22, 77.55847930908203),\n",
      "\u001b[92mINFO \u001b[0m:      \t              (23, 75.9393081665039),\n",
      "\u001b[92mINFO \u001b[0m:      \t              (24, 77.89108276367188),\n",
      "\u001b[92mINFO \u001b[0m:      \t              (25, 74.47073745727539),\n",
      "\u001b[92mINFO \u001b[0m:      \t              (26, 75.36127090454102),\n",
      "\u001b[92mINFO \u001b[0m:      \t              (27, 77.28618240356445),\n",
      "\u001b[92mINFO \u001b[0m:      \t              (28, 74.73046003069196),\n",
      "\u001b[92mINFO \u001b[0m:      \t              (29, 75.18797084263393),\n",
      "\u001b[92mINFO \u001b[0m:      \t              (30, 76.3660136631557),\n",
      "\u001b[92mINFO \u001b[0m:      \t              (31, 75.36127090454102),\n",
      "\u001b[92mINFO \u001b[0m:      \t              (32, 78.02052525111607),\n",
      "\u001b[92mINFO \u001b[0m:      \t              (33, 76.75691986083984),\n",
      "\u001b[92mINFO \u001b[0m:      \t              (34, 74.81420353480748),\n",
      "\u001b[92mINFO \u001b[0m:      \t              (35, 77.50035204206195),\n",
      "\u001b[92mINFO \u001b[0m:      \t              (36, 75.76388931274414),\n",
      "\u001b[92mINFO \u001b[0m:      \t              (37, 75.80862426757812),\n",
      "\u001b[92mINFO \u001b[0m:      \t              (38, 78.8102308000837),\n",
      "\u001b[92mINFO \u001b[0m:      \t              (39, 77.89108276367188),\n",
      "\u001b[92mINFO \u001b[0m:      \t              (40, 74.71013641357422),\n",
      "\u001b[92mINFO \u001b[0m:      \t              (41, 76.92377090454102),\n",
      "\u001b[92mINFO \u001b[0m:      \t              (42, 74.91843087332589),\n",
      "\u001b[92mINFO \u001b[0m:      \t              (43, 75.74422073364258),\n",
      "\u001b[92mINFO \u001b[0m:      \t              (44, 78.78837585449219),\n",
      "\u001b[92mINFO \u001b[0m:      \t              (45, 75.89237213134766),\n",
      "\u001b[92mINFO \u001b[0m:      \t              (46, 77.68699428013393),\n",
      "\u001b[92mINFO \u001b[0m:      \t              (47, 74.28179931640625),\n",
      "\u001b[92mINFO \u001b[0m:      \t              (48, 77.98269217354911),\n",
      "\u001b[92mINFO \u001b[0m:      \t              (49, 78.22607857840401),\n",
      "\u001b[92mINFO \u001b[0m:      \t              (50, 77.41745431082589)]}History (metrics, centralized):\n",
      "\u001b[92mINFO \u001b[0m:      \t{'accuracy': [(0, tensor(49.5220, device='cuda:0')),\n",
      "\u001b[92mINFO \u001b[0m:      \t              (1, tensor(50.4780, device='cuda:0')),\n",
      "\u001b[92mINFO \u001b[0m:      \t              (2, tensor(65.3920, device='cuda:0')),\n",
      "\u001b[92mINFO \u001b[0m:      \t              (3, tensor(72.2753, device='cuda:0')),\n",
      "\u001b[92mINFO \u001b[0m:      \t              (4, tensor(73.4226, device='cuda:0')),\n",
      "\u001b[92mINFO \u001b[0m:      \t              (5, tensor(75.0478, device='cuda:0')),\n",
      "\u001b[92mINFO \u001b[0m:      \t              (6, tensor(74.1874, device='cuda:0')),\n",
      "\u001b[92mINFO \u001b[0m:      \t              (7, tensor(75.4302, device='cuda:0')),\n",
      "\u001b[92mINFO \u001b[0m:      \t              (8, tensor(73.0402, device='cuda:0')),\n",
      "\u001b[92mINFO \u001b[0m:      \t              (9, tensor(74.7610, device='cuda:0')),\n",
      "\u001b[92mINFO \u001b[0m:      \t              (10, tensor(74.8566, device='cuda:0')),\n",
      "\u001b[92mINFO \u001b[0m:      \t              (11, tensor(76.4818, device='cuda:0')),\n",
      "\u001b[92mINFO \u001b[0m:      \t              (12, tensor(75.3346, device='cuda:0')),\n",
      "\u001b[92mINFO \u001b[0m:      \t              (13, tensor(76.2906, device='cuda:0')),\n",
      "\u001b[92mINFO \u001b[0m:      \t              (14, tensor(75.5258, device='cuda:0')),\n",
      "\u001b[92mINFO \u001b[0m:      \t              (15, tensor(75.7170, device='cuda:0')),\n",
      "\u001b[92mINFO \u001b[0m:      \t              (16, tensor(75.2390, device='cuda:0')),\n",
      "\u001b[92mINFO \u001b[0m:      \t              (17, tensor(75.2390, device='cuda:0')),\n",
      "\u001b[92mINFO \u001b[0m:      \t              (18, tensor(75.5258, device='cuda:0')),\n",
      "\u001b[92mINFO \u001b[0m:      \t              (19, tensor(76.4818, device='cuda:0')),\n",
      "\u001b[92mINFO \u001b[0m:      \t              (20, tensor(76.1950, device='cuda:0')),\n",
      "\u001b[92mINFO \u001b[0m:      \t              (21, tensor(76.2906, device='cuda:0')),\n",
      "\u001b[92mINFO \u001b[0m:      \t              (22, tensor(76.3862, device='cuda:0')),\n",
      "\u001b[92mINFO \u001b[0m:      \t              (23, tensor(74.0918, device='cuda:0')),\n",
      "\u001b[92mINFO \u001b[0m:      \t              (24, tensor(74.7610, device='cuda:0')),\n",
      "\u001b[92mINFO \u001b[0m:      \t              (25, tensor(75.0478, device='cuda:0')),\n",
      "\u001b[92mINFO \u001b[0m:      \t              (26, tensor(76.9598, device='cuda:0')),\n",
      "\u001b[92mINFO \u001b[0m:      \t              (27, tensor(74.8566, device='cuda:0')),\n",
      "\u001b[92mINFO \u001b[0m:      \t              (28, tensor(74.4742, device='cuda:0')),\n",
      "\u001b[92mINFO \u001b[0m:      \t              (29, tensor(73.4226, device='cuda:0')),\n",
      "\u001b[92mINFO \u001b[0m:      \t              (30, tensor(77.0555, device='cuda:0')),\n",
      "\u001b[92mINFO \u001b[0m:      \t              (31, tensor(75.8126, device='cuda:0')),\n",
      "\u001b[92mINFO \u001b[0m:      \t              (32, tensor(75.4302, device='cuda:0')),\n",
      "\u001b[92mINFO \u001b[0m:      \t              (33, tensor(75.2390, device='cuda:0')),\n",
      "\u001b[92mINFO \u001b[0m:      \t              (34, tensor(74.5698, device='cuda:0')),\n",
      "\u001b[92mINFO \u001b[0m:      \t              (35, tensor(74.3786, device='cuda:0')),\n",
      "\u001b[92mINFO \u001b[0m:      \t              (36, tensor(73.9962, device='cuda:0')),\n",
      "\u001b[92mINFO \u001b[0m:      \t              (37, tensor(75.6214, device='cuda:0')),\n",
      "\u001b[92mINFO \u001b[0m:      \t              (38, tensor(77.0555, device='cuda:0')),\n",
      "\u001b[92mINFO \u001b[0m:      \t              (39, tensor(76.0994, device='cuda:0')),\n",
      "\u001b[92mINFO \u001b[0m:      \t              (40, tensor(72.9445, device='cuda:0')),\n",
      "\u001b[92mINFO \u001b[0m:      \t              (41, tensor(75.7170, device='cuda:0')),\n",
      "\u001b[92mINFO \u001b[0m:      \t              (42, tensor(73.8050, device='cuda:0')),\n",
      "\u001b[92mINFO \u001b[0m:      \t              (43, tensor(76.7686, device='cuda:0')),\n",
      "\u001b[92mINFO \u001b[0m:      \t              (44, tensor(75.7170, device='cuda:0')),\n",
      "\u001b[92mINFO \u001b[0m:      \t              (45, tensor(75.6214, device='cuda:0')),\n",
      "\u001b[92mINFO \u001b[0m:      \t              (46, tensor(75.3346, device='cuda:0')),\n",
      "\u001b[92mINFO \u001b[0m:      \t              (47, tensor(73.2314, device='cuda:0')),\n",
      "\u001b[92mINFO \u001b[0m:      \t              (48, tensor(76.3862, device='cuda:0')),\n",
      "\u001b[92mINFO \u001b[0m:      \t              (49, tensor(77.1511, device='cuda:0')),\n",
      "\u001b[92mINFO \u001b[0m:      \t              (50, tensor(76.7686, device='cuda:0'))]}\n",
      "\u001b[92mINFO \u001b[0m:      \n"
     ]
    }
   ],
   "source": [
    "# client will be allocated 1x CPU and 0x GPUs\n",
    "if device.type == 'cuda':\n",
    "    # here we are assigning an entire GPU for each client.\n",
    "    client_resources = {\"num_cpus\": 1, \"num_gpus\": 1.0}\n",
    "    # Refer to our documentation for more details about Flower Simulations\n",
    "    # and how to setup these `client_resources`.\n",
    "    \n",
    "# The `evaluate` function will be called by Flower after every round\n",
    "fl_acc = []\n",
    "def evaluate(server_round,parameters,config,):\n",
    "    testloader = azure_test_loader\n",
    "    set_parameters(net_FL, parameters)  # Update model with the latest parameters\n",
    "    loss, accuracy = test(net_FL, testloader, configuration)\n",
    "    print(f\"Server-side evaluation loss {loss} / accuracy {accuracy}\")\n",
    "    fl_acc.append(accuracy)\n",
    "    metrics = {'FL loss': loss,\n",
    "               \"FL accuracy\": accuracy}\n",
    "    wandb.log(metrics)\n",
    "    return loss, {\"accuracy\": accuracy}\n",
    "\n",
    "def weighted_average(metrics):\n",
    "    # Multiply accuracy of each client by number of examples used\n",
    "    accuracies = [num_examples * m[\"accuracy\"] for num_examples, m in metrics]\n",
    "    examples = [num_examples for num_examples, _ in metrics]\n",
    "\n",
    "    # Aggregate and return custom metric (weighted average)\n",
    "    return {\"accuracy\": sum(accuracies) / sum(examples)}\n",
    "params = get_parameters(net_FL)\n",
    "strategy = fl.server.strategy.FedAvg(\n",
    "    fraction_fit=1,\n",
    "    fraction_evaluate=0.5,\n",
    "    min_fit_clients=2,\n",
    "    min_evaluate_clients=1,\n",
    "    min_available_clients=1,\n",
    "    evaluate_fn=evaluate,\n",
    "    initial_parameters= ndarrays_to_parameters(params),\n",
    "    evaluate_metrics_aggregation_fn=weighted_average # <-- pass the metric aggregation function\n",
    ")\n",
    "# Start simulation\n",
    "history = fl.simulation.start_simulation(\n",
    "    client_fn=client_fn,\n",
    "    num_clients=4,\n",
    "    config=fl.server.ServerConfig(num_rounds=configuration['num_rounds_FL']),\n",
    "    strategy=strategy,\n",
    "    client_resources=client_resources,\n",
    ")"
   ]
  },
  {
   "cell_type": "code",
   "execution_count": 14,
   "metadata": {},
   "outputs": [
    {
     "data": {
      "text/plain": [
       "Text(0.5, 0, 'Rounds')"
      ]
     },
     "execution_count": 14,
     "metadata": {},
     "output_type": "execute_result"
    },
    {
     "data": {
      "image/png": "[encoded data removed]",
      "text/plain": [
       "<Figure size 640x480 with 1 Axes>"
      ]
     },
     "metadata": {},
     "output_type": "display_data"
    }
   ],
   "source": [
    "f = []\n",
    "for i in fl_acc:\n",
    "    f.append(float(i))\n",
    "plt.plot(f)\n",
    "plt.title('Federated Learning test accuracies')\n",
    "plt.ylabel('Accuracies')\n",
    "plt.xlabel('Rounds')"
   ]
  },
  {
   "cell_type": "code",
   "execution_count": 15,
   "metadata": {},
   "outputs": [
    {
     "data": {
      "text/plain": [
       "tensor(77.1511, device='cuda:0')"
      ]
     },
     "execution_count": 15,
     "metadata": {},
     "output_type": "execute_result"
    }
   ],
   "source": [
    "max(fl_acc)"
   ]
  },
  {
   "cell_type": "markdown",
   "metadata": {},
   "source": [
    "## transfer learning"
   ]
  },
  {
   "cell_type": "code",
   "execution_count": 16,
   "metadata": {},
   "outputs": [
    {
     "name": "stderr",
     "output_type": "stream",
     "text": [
      "/home/diba/miniconda3/envs/FTL/lib/python3.10/site-packages/wandb/sdk/lib/ipython.py:77: DeprecationWarning: Importing display from IPython.core.display is deprecated since IPython 7.14, please import from IPython display\n",
      "  from IPython.core.display import HTML, display  # type: ignore\n"
     ]
    },
    {
     "data": {
      "text/html": [
       "Finishing last run (ID:5nrz60iy) before initializing another..."
      ],
      "text/plain": [
       "<IPython.core.display.HTML object>"
      ]
     },
     "metadata": {},
     "output_type": "display_data"
    },
    {
     "data": {
      "application/vnd.jupyter.widget-view+json": {
       "model_id": "838a46c10d694bfb98761a0368ab10fd",
       "version_major": 2,
       "version_minor": 0
      },
      "text/plain": [
       "VBox(children=(Label(value='0.004 MB of 0.004 MB uploaded\\r'), FloatProgress(value=1.0, max=1.0)))"
      ]
     },
     "metadata": {},
     "output_type": "display_data"
    },
    {
     "data": {
      "text/html": [
       "<style>\n",
       "    table.wandb td:nth-child(1) { padding: 0 10px; text-align: left ; width: auto;} td:nth-child(2) {text-align: left ; width: 100%}\n",
       "    .wandb-row { display: flex; flex-direction: row; flex-wrap: wrap; justify-content: flex-start; width: 100% }\n",
       "    .wandb-col { display: flex; flex-direction: column; flex-basis: 100%; flex: 1; padding: 10px; }\n",
       "    </style>\n",
       "<div class=\"wandb-row\"><div class=\"wandb-col\"><h3>Run history:</h3><br/><table class=\"wandb\"><tr><td>FL accuracy</td><td>▁▁▅▇▇▇█▇▇█████████▇▇▇█▇▇███▇▇████▇███▇██</td></tr><tr><td>FL loss</td><td>█▇▄▃▂▃▂▃▂▁▂▂▂▂▂▁▂▂▃▃▃▁▃▃▁▂▂▂▂▂▁▁▂▃▁▁▂▃▂▁</td></tr></table><br/></div><div class=\"wandb-col\"><h3>Run summary:</h3><br/><table class=\"wandb\"><tr><td>FL accuracy</td><td>76.76865</td></tr><tr><td>FL loss</td><td>0.02957</td></tr></table><br/></div></div>"
      ],
      "text/plain": [
       "<IPython.core.display.HTML object>"
      ]
     },
     "metadata": {},
     "output_type": "display_data"
    },
    {
     "data": {
      "text/html": [
       " View run <strong style=\"color:#cdcd00\">federated learning phase_18-08-2024_20:42:58</strong> at: <a href='https://wandb.ai/d-hadjikazemi-queen-mary-university-of-london/FL%20unified/runs/5nrz60iy' target=\"_blank\">https://wandb.ai/d-hadjikazemi-queen-mary-university-of-london/FL%20unified/runs/5nrz60iy</a><br/> View project at: <a href='https://wandb.ai/d-hadjikazemi-queen-mary-university-of-london/FL%20unified' target=\"_blank\">https://wandb.ai/d-hadjikazemi-queen-mary-university-of-london/FL%20unified</a><br/>Synced 6 W&B file(s), 0 media file(s), 0 artifact file(s) and 0 other file(s)"
      ],
      "text/plain": [
       "<IPython.core.display.HTML object>"
      ]
     },
     "metadata": {},
     "output_type": "display_data"
    },
    {
     "data": {
      "text/html": [
       "Find logs at: <code>./wandb/run-20240818_204323-5nrz60iy/logs</code>"
      ],
      "text/plain": [
       "<IPython.core.display.HTML object>"
      ]
     },
     "metadata": {},
     "output_type": "display_data"
    },
    {
     "data": {
      "text/html": [
       "The new W&B backend becomes opt-out in version 0.18.0; try it out with `wandb.require(\"core\")`! See https://wandb.me/wandb-core for more information."
      ],
      "text/plain": [
       "<IPython.core.display.HTML object>"
      ]
     },
     "metadata": {},
     "output_type": "display_data"
    },
    {
     "data": {
      "text/html": [
       "Successfully finished last run (ID:5nrz60iy). Initializing new run:<br/>"
      ],
      "text/plain": [
       "<IPython.core.display.HTML object>"
      ]
     },
     "metadata": {},
     "output_type": "display_data"
    },
    {
     "data": {
      "application/vnd.jupyter.widget-view+json": {
       "model_id": "fad383321e87417da5d408339c7e2fba",
       "version_major": 2,
       "version_minor": 0
      },
      "text/plain": [
       "VBox(children=(Label(value='Waiting for wandb.init()...\\r'), FloatProgress(value=0.011112750600053308, max=1.0…"
      ]
     },
     "metadata": {},
     "output_type": "display_data"
    },
    {
     "data": {
      "text/html": [
       "wandb version 0.17.7 is available!  To upgrade, please run:\n",
       " $ pip install wandb --upgrade"
      ],
      "text/plain": [
       "<IPython.core.display.HTML object>"
      ]
     },
     "metadata": {},
     "output_type": "display_data"
    },
    {
     "data": {
      "text/html": [
       "Tracking run with wandb version 0.17.4"
      ],
      "text/plain": [
       "<IPython.core.display.HTML object>"
      ]
     },
     "metadata": {},
     "output_type": "display_data"
    },
    {
     "data": {
      "text/html": [
       "Run data is saved locally in <code>/home/diba/wandb/run-20240818_212322-nefcyruj</code>"
      ],
      "text/plain": [
       "<IPython.core.display.HTML object>"
      ]
     },
     "metadata": {},
     "output_type": "display_data"
    },
    {
     "data": {
      "text/html": [
       "Syncing run <strong><a href='https://wandb.ai/d-hadjikazemi-queen-mary-university-of-london/FTL%20unified/runs/nefcyruj' target=\"_blank\">transfer learning phase_18-08-2024_20:42:58</a></strong> to <a href='https://wandb.ai/d-hadjikazemi-queen-mary-university-of-london/FTL%20unified' target=\"_blank\">Weights & Biases</a> (<a href='https://wandb.me/run' target=\"_blank\">docs</a>)<br/>"
      ],
      "text/plain": [
       "<IPython.core.display.HTML object>"
      ]
     },
     "metadata": {},
     "output_type": "display_data"
    },
    {
     "data": {
      "text/html": [
       " View project at <a href='https://wandb.ai/d-hadjikazemi-queen-mary-university-of-london/FTL%20unified' target=\"_blank\">https://wandb.ai/d-hadjikazemi-queen-mary-university-of-london/FTL%20unified</a>"
      ],
      "text/plain": [
       "<IPython.core.display.HTML object>"
      ]
     },
     "metadata": {},
     "output_type": "display_data"
    },
    {
     "data": {
      "text/html": [
       " View run at <a href='https://wandb.ai/d-hadjikazemi-queen-mary-university-of-london/FTL%20unified/runs/nefcyruj' target=\"_blank\">https://wandb.ai/d-hadjikazemi-queen-mary-university-of-london/FTL%20unified/runs/nefcyruj</a>"
      ],
      "text/plain": [
       "<IPython.core.display.HTML object>"
      ]
     },
     "metadata": {},
     "output_type": "display_data"
    }
   ],
   "source": [
    "wandb.init(\n",
    "    # set the wandb project where this run will be logged\n",
    "    project=\"FTL unified\",\n",
    "    name= \"transfer learning phase_{}\".format(date_time),\n",
    "    # track hyperparameters and run metadata\n",
    "    config= {\n",
    "    \"learning_rate\": 0.0001,\n",
    "    \"architecture\": \"CNN\",\n",
    "    \"epochs\": 100,\n",
    "    \"batch_size\": 64,\n",
    "    \"decay\":0,\n",
    "    'dropout': 0.001,\n",
    "    \"learning_rate_FL\": 0.0001,\n",
    "    \"batch_size_FL\": 64,\n",
    "    \"decay_FL\": 1e-5,\n",
    "    'num_rounds_FL': 50, \n",
    "    'epochs_FL': 100,\n",
    "    'dropout_FL': 0.001\n",
    "    }\n",
    ")\n",
    "configuration_TL = dict(wandb.config)\n"
   ]
  },
  {
   "cell_type": "code",
   "execution_count": 17,
   "metadata": {},
   "outputs": [
    {
     "name": "stdout",
     "output_type": "stream",
     "text": [
      "\n",
      "Epoch 1/100\n",
      "Epoch 1: Training accuracy: 50.0 Testing accuracy: 49.159664154052734.\n",
      "\n",
      "Epoch 2/100\n",
      "Epoch 2: Training accuracy: 57.105262756347656 Testing accuracy: 54.20167922973633.\n",
      "\n",
      "Epoch 3/100\n",
      "Epoch 3: Training accuracy: 60.78947448730469 Testing accuracy: 57.35293960571289.\n",
      "\n",
      "Epoch 4/100\n",
      "Epoch 4: Training accuracy: 63.05263137817383 Testing accuracy: 58.40336227416992.\n",
      "\n",
      "Epoch 5/100\n",
      "Epoch 5: Training accuracy: 65.31578826904297 Testing accuracy: 59.66386413574219.\n",
      "\n",
      "Epoch 6/100\n",
      "Epoch 6: Training accuracy: 67.47368621826172 Testing accuracy: 61.764705657958984.\n",
      "\n",
      "Epoch 7/100\n",
      "Epoch 7: Training accuracy: 69.21052551269531 Testing accuracy: 61.554622650146484.\n",
      "\n",
      "Epoch 8/100\n",
      "Epoch 8: Training accuracy: 70.0 Testing accuracy: 63.025211334228516.\n",
      "\n",
      "Epoch 9/100\n",
      "Epoch 9: Training accuracy: 71.31578826904297 Testing accuracy: 63.025211334228516.\n",
      "\n",
      "Epoch 10/100\n",
      "Epoch 10: Training accuracy: 73.0526351928711 Testing accuracy: 65.75630187988281.\n",
      "\n",
      "Epoch 11/100\n",
      "Epoch 11: Training accuracy: 73.2631607055664 Testing accuracy: 65.54621887207031.\n",
      "\n",
      "Epoch 12/100\n",
      "Epoch 12: Training accuracy: 73.36842346191406 Testing accuracy: 66.59664154052734.\n",
      "\n",
      "Epoch 13/100\n",
      "Epoch 13: Training accuracy: 73.52631378173828 Testing accuracy: 68.06723022460938.\n",
      "\n",
      "Epoch 14/100\n",
      "Epoch 14: Training accuracy: 74.52631378173828 Testing accuracy: 68.06723022460938.\n",
      "\n",
      "Epoch 15/100\n",
      "Epoch 15: Training accuracy: 76.0 Testing accuracy: 67.43697357177734.\n",
      "\n",
      "Epoch 16/100\n",
      "Epoch 16: Training accuracy: 75.2631607055664 Testing accuracy: 67.22689056396484.\n",
      "\n",
      "Epoch 17/100\n",
      "Epoch 17: Training accuracy: 76.84210205078125 Testing accuracy: 67.85713958740234.\n",
      "\n",
      "Epoch 18/100\n",
      "Epoch 18: Training accuracy: 76.84210205078125 Testing accuracy: 69.11764526367188.\n",
      "\n",
      "Epoch 19/100\n",
      "Epoch 19: Training accuracy: 78.21052551269531 Testing accuracy: 68.48739624023438.\n",
      "\n",
      "Epoch 20/100\n",
      "Epoch 20: Training accuracy: 78.2631607055664 Testing accuracy: 68.48739624023438.\n",
      "\n",
      "Epoch 21/100\n",
      "Epoch 21: Training accuracy: 76.21052551269531 Testing accuracy: 69.5378189086914.\n",
      "\n",
      "Epoch 22/100\n",
      "Epoch 22: Training accuracy: 77.57894897460938 Testing accuracy: 70.1680679321289.\n",
      "\n",
      "Epoch 23/100\n",
      "Epoch 23: Training accuracy: 78.52631378173828 Testing accuracy: 69.7479019165039.\n",
      "\n",
      "Epoch 24/100\n",
      "Epoch 24: Training accuracy: 78.68421173095703 Testing accuracy: 70.7983169555664.\n",
      "\n",
      "Epoch 25/100\n",
      "Epoch 25: Training accuracy: 80.36842346191406 Testing accuracy: 69.7479019165039.\n",
      "\n",
      "Epoch 26/100\n",
      "Epoch 26: Training accuracy: 79.89473724365234 Testing accuracy: 70.3781509399414.\n",
      "\n",
      "Epoch 27/100\n",
      "Epoch 27: Training accuracy: 79.57894897460938 Testing accuracy: 71.0083999633789.\n",
      "\n",
      "Epoch 28/100\n",
      "Epoch 28: Training accuracy: 80.63157653808594 Testing accuracy: 71.0083999633789.\n",
      "\n",
      "Epoch 29/100\n",
      "Epoch 29: Training accuracy: 78.36842346191406 Testing accuracy: 69.9579849243164.\n",
      "\n",
      "Epoch 30/100\n",
      "Epoch 30: Training accuracy: 80.2631607055664 Testing accuracy: 70.7983169555664.\n",
      "\n",
      "Epoch 31/100\n",
      "Epoch 31: Training accuracy: 79.0 Testing accuracy: 70.5882339477539.\n",
      "\n",
      "Epoch 32/100\n",
      "Epoch 32: Training accuracy: 81.15789794921875 Testing accuracy: 71.63865661621094.\n",
      "\n",
      "Epoch 33/100\n",
      "Epoch 33: Training accuracy: 80.42105102539062 Testing accuracy: 71.42857360839844.\n",
      "\n",
      "Epoch 34/100\n",
      "Epoch 34: Training accuracy: 81.2631607055664 Testing accuracy: 71.0083999633789.\n",
      "\n",
      "Epoch 35/100\n",
      "Epoch 35: Training accuracy: 81.10526275634766 Testing accuracy: 72.05882263183594.\n",
      "\n",
      "Epoch 36/100\n",
      "Epoch 36: Training accuracy: 81.42105102539062 Testing accuracy: 71.84873962402344.\n",
      "\n",
      "Epoch 37/100\n",
      "Epoch 37: Training accuracy: 79.89473724365234 Testing accuracy: 71.0083999633789.\n",
      "\n",
      "Epoch 38/100\n",
      "Epoch 38: Training accuracy: 81.21052551269531 Testing accuracy: 72.47898864746094.\n",
      "\n",
      "Epoch 39/100\n",
      "Epoch 39: Training accuracy: 81.31578826904297 Testing accuracy: 71.84873962402344.\n",
      "\n",
      "Epoch 40/100\n",
      "Epoch 40: Training accuracy: 81.9473648071289 Testing accuracy: 71.63865661621094.\n",
      "\n",
      "Epoch 41/100\n",
      "Epoch 41: Training accuracy: 82.0526351928711 Testing accuracy: 71.21849060058594.\n",
      "\n",
      "Epoch 42/100\n",
      "Epoch 42: Training accuracy: 82.10526275634766 Testing accuracy: 71.63865661621094.\n",
      "\n",
      "Epoch 43/100\n",
      "Epoch 43: Training accuracy: 82.2631607055664 Testing accuracy: 71.42857360839844.\n",
      "\n",
      "Epoch 44/100\n",
      "Epoch 44: Training accuracy: 82.57894897460938 Testing accuracy: 71.42857360839844.\n",
      "\n",
      "Epoch 45/100\n",
      "Epoch 45: Training accuracy: 82.57894897460938 Testing accuracy: 71.42857360839844.\n",
      "\n",
      "Epoch 46/100\n",
      "Epoch 46: Training accuracy: 81.0526351928711 Testing accuracy: 71.21849060058594.\n",
      "\n",
      "Epoch 47/100\n",
      "Epoch 47: Training accuracy: 82.9473648071289 Testing accuracy: 71.21849060058594.\n",
      "\n",
      "Epoch 48/100\n",
      "Epoch 48: Training accuracy: 81.9473648071289 Testing accuracy: 71.42857360839844.\n",
      "\n",
      "Epoch 49/100\n",
      "Epoch 49: Training accuracy: 80.42105102539062 Testing accuracy: 70.3781509399414.\n",
      "\n",
      "Epoch 50/100\n",
      "Epoch 50: Training accuracy: 80.89473724365234 Testing accuracy: 70.7983169555664.\n",
      "\n",
      "Epoch 51/100\n",
      "Epoch 51: Training accuracy: 83.10526275634766 Testing accuracy: 71.0083999633789.\n",
      "\n",
      "Epoch 52/100\n",
      "Epoch 52: Training accuracy: 82.89473724365234 Testing accuracy: 71.21849060058594.\n",
      "\n",
      "Epoch 53/100\n",
      "Epoch 53: Training accuracy: 81.9473648071289 Testing accuracy: 71.0083999633789.\n",
      "\n",
      "Epoch 54/100\n",
      "Epoch 54: Training accuracy: 81.15789794921875 Testing accuracy: 71.0083999633789.\n",
      "\n",
      "Epoch 55/100\n",
      "Epoch 55: Training accuracy: 82.84210205078125 Testing accuracy: 71.63865661621094.\n",
      "\n",
      "Epoch 56/100\n",
      "Epoch 56: Training accuracy: 81.63157653808594 Testing accuracy: 71.0083999633789.\n",
      "\n",
      "Epoch 57/100\n",
      "Epoch 57: Training accuracy: 83.21052551269531 Testing accuracy: 71.0083999633789.\n",
      "\n",
      "Epoch 58/100\n",
      "Epoch 58: Training accuracy: 81.68421173095703 Testing accuracy: 70.3781509399414.\n",
      "\n",
      "Epoch 59/100\n",
      "Epoch 59: Training accuracy: 78.68421173095703 Testing accuracy: 69.9579849243164.\n",
      "\n",
      "Epoch 60/100\n",
      "Epoch 60: Training accuracy: 80.9473648071289 Testing accuracy: 70.1680679321289.\n",
      "\n",
      "Epoch 61/100\n",
      "Epoch 61: Training accuracy: 83.36842346191406 Testing accuracy: 71.21849060058594.\n",
      "\n",
      "Epoch 62/100\n",
      "Epoch 62: Training accuracy: 83.63157653808594 Testing accuracy: 71.84873962402344.\n",
      "\n",
      "Epoch 63/100\n",
      "Epoch 63: Training accuracy: 83.47368621826172 Testing accuracy: 71.0083999633789.\n",
      "\n",
      "Epoch 64/100\n",
      "Epoch 64: Training accuracy: 83.15789794921875 Testing accuracy: 70.1680679321289.\n",
      "\n",
      "Epoch 65/100\n",
      "Epoch 65: Training accuracy: 80.68421173095703 Testing accuracy: 70.3781509399414.\n",
      "\n",
      "Epoch 66/100\n",
      "Epoch 66: Training accuracy: 83.47368621826172 Testing accuracy: 70.7983169555664.\n",
      "\n",
      "Epoch 67/100\n",
      "Epoch 67: Training accuracy: 83.0526351928711 Testing accuracy: 71.21849060058594.\n",
      "\n",
      "Epoch 68/100\n",
      "Epoch 68: Training accuracy: 81.84210205078125 Testing accuracy: 70.3781509399414.\n",
      "\n",
      "Epoch 69/100\n",
      "Epoch 69: Training accuracy: 83.42105102539062 Testing accuracy: 70.5882339477539.\n",
      "\n",
      "Epoch 70/100\n",
      "Epoch 70: Training accuracy: 82.36842346191406 Testing accuracy: 70.7983169555664.\n",
      "\n",
      "Epoch 71/100\n",
      "Epoch 71: Training accuracy: 83.15789794921875 Testing accuracy: 70.7983169555664.\n",
      "\n",
      "Epoch 72/100\n",
      "Epoch 72: Training accuracy: 81.2631607055664 Testing accuracy: 69.7479019165039.\n",
      "\n",
      "Epoch 73/100\n",
      "Epoch 73: Training accuracy: 83.78947448730469 Testing accuracy: 71.21849060058594.\n",
      "\n",
      "Epoch 74/100\n",
      "Epoch 74: Training accuracy: 83.21052551269531 Testing accuracy: 71.63865661621094.\n",
      "\n",
      "Epoch 75/100\n",
      "Epoch 75: Training accuracy: 83.68421173095703 Testing accuracy: 70.5882339477539.\n",
      "\n",
      "Epoch 76/100\n",
      "Epoch 76: Training accuracy: 83.68421173095703 Testing accuracy: 70.5882339477539.\n",
      "\n",
      "Epoch 77/100\n",
      "Epoch 77: Training accuracy: 82.0 Testing accuracy: 69.9579849243164.\n",
      "\n",
      "Epoch 78/100\n",
      "Epoch 78: Training accuracy: 81.7368392944336 Testing accuracy: 69.9579849243164.\n",
      "\n",
      "Epoch 79/100\n",
      "Epoch 79: Training accuracy: 83.89473724365234 Testing accuracy: 70.5882339477539.\n",
      "\n",
      "Epoch 80/100\n",
      "Epoch 80: Training accuracy: 83.47368621826172 Testing accuracy: 70.5882339477539.\n",
      "\n",
      "Epoch 81/100\n",
      "Epoch 81: Training accuracy: 80.7368392944336 Testing accuracy: 69.32772827148438.\n",
      "\n",
      "Epoch 82/100\n",
      "Epoch 82: Training accuracy: 83.78947448730469 Testing accuracy: 70.5882339477539.\n",
      "\n",
      "Epoch 83/100\n",
      "Epoch 83: Training accuracy: 83.78947448730469 Testing accuracy: 70.5882339477539.\n",
      "\n",
      "Epoch 84/100\n",
      "Epoch 84: Training accuracy: 84.42105102539062 Testing accuracy: 70.7983169555664.\n",
      "\n",
      "Epoch 85/100\n",
      "Epoch 85: Training accuracy: 84.52631378173828 Testing accuracy: 71.0083999633789.\n",
      "\n",
      "Epoch 86/100\n",
      "Epoch 86: Training accuracy: 84.0 Testing accuracy: 70.7983169555664.\n",
      "\n",
      "Epoch 87/100\n",
      "Epoch 87: Training accuracy: 83.31578826904297 Testing accuracy: 70.7983169555664.\n",
      "\n",
      "Epoch 88/100\n",
      "Epoch 88: Training accuracy: 84.0526351928711 Testing accuracy: 71.0083999633789.\n",
      "\n",
      "Epoch 89/100\n",
      "Epoch 89: Training accuracy: 84.31578826904297 Testing accuracy: 71.0083999633789.\n",
      "\n",
      "Epoch 90/100\n",
      "Epoch 90: Training accuracy: 83.9473648071289 Testing accuracy: 70.5882339477539.\n",
      "\n",
      "Epoch 91/100\n",
      "Epoch 91: Training accuracy: 84.2631607055664 Testing accuracy: 71.0083999633789.\n",
      "\n",
      "Epoch 92/100\n",
      "Epoch 92: Training accuracy: 81.57894897460938 Testing accuracy: 69.9579849243164.\n",
      "\n",
      "Epoch 93/100\n",
      "Epoch 93: Training accuracy: 83.15789794921875 Testing accuracy: 70.3781509399414.\n",
      "\n",
      "Epoch 94/100\n",
      "Epoch 94: Training accuracy: 83.9473648071289 Testing accuracy: 70.3781509399414.\n",
      "\n",
      "Epoch 95/100\n",
      "Epoch 95: Training accuracy: 83.78947448730469 Testing accuracy: 70.1680679321289.\n",
      "\n",
      "Epoch 96/100\n",
      "Epoch 96: Training accuracy: 84.0 Testing accuracy: 70.7983169555664.\n",
      "\n",
      "Epoch 97/100\n",
      "Epoch 97: Training accuracy: 84.0526351928711 Testing accuracy: 70.5882339477539.\n",
      "\n",
      "Epoch 98/100\n",
      "Epoch 98: Training accuracy: 84.52631378173828 Testing accuracy: 71.42857360839844.\n",
      "\n",
      "Epoch 99/100\n",
      "Epoch 99: Training accuracy: 84.42105102539062 Testing accuracy: 71.84873962402344.\n",
      "\n",
      "Epoch 100/100\n",
      "Epoch 100: Training accuracy: 83.7368392944336 Testing accuracy: 69.9579849243164.\n",
      "Epoch 1: validation loss 0.03431232536540312, accuracy 74.56978607177734\n",
      "Final test set performance:\n",
      "\tloss 0.03431232536540312\n",
      "\taccuracy 74.56978607177734\n"
     ]
    },
    {
     "data": {
      "application/vnd.jupyter.widget-view+json": {
       "model_id": "3a24f4708bff4b7ab24edefa5aedee36",
       "version_major": 2,
       "version_minor": 0
      },
      "text/plain": [
       "VBox(children=(Label(value='0.004 MB of 0.004 MB uploaded\\r'), FloatProgress(value=1.0, max=1.0)))"
      ]
     },
     "metadata": {},
     "output_type": "display_data"
    },
    {
     "data": {
      "text/html": [
       "<style>\n",
       "    table.wandb td:nth-child(1) { padding: 0 10px; text-align: left ; width: auto;} td:nth-child(2) {text-align: left ; width: 100%}\n",
       "    .wandb-row { display: flex; flex-direction: row; flex-wrap: wrap; justify-content: flex-start; width: 100% }\n",
       "    .wandb-col { display: flex; flex-direction: column; flex-basis: 100%; flex: 1; padding: 10px; }\n",
       "    </style>\n",
       "<div class=\"wandb-row\"><div class=\"wandb-col\"><h3>Run history:</h3><br/><table class=\"wandb\"><tr><td>transfer training accuracy</td><td>▁▃▅▅▆▆▆▆▆▇▇▇▇▇▇▇██▇▇█▇▇▇████▇███████▇███</td></tr><tr><td>transfer validationaccuracy</td><td>▁▄▅▅▆▇▇▇▇▇█████████████▇█▇██▇█▇█████▇██▇</td></tr></table><br/></div><div class=\"wandb-col\"><h3>Run summary:</h3><br/><table class=\"wandb\"><tr><td>transfer training accuracy</td><td>83.73684</td></tr><tr><td>transfer validationaccuracy</td><td>69.95798</td></tr></table><br/></div></div>"
      ],
      "text/plain": [
       "<IPython.core.display.HTML object>"
      ]
     },
     "metadata": {},
     "output_type": "display_data"
    },
    {
     "data": {
      "text/html": [
       " View run <strong style=\"color:#cdcd00\">transfer learning phase_18-08-2024_20:42:58</strong> at: <a href='https://wandb.ai/d-hadjikazemi-queen-mary-university-of-london/FTL%20unified/runs/nefcyruj' target=\"_blank\">https://wandb.ai/d-hadjikazemi-queen-mary-university-of-london/FTL%20unified/runs/nefcyruj</a><br/> View project at: <a href='https://wandb.ai/d-hadjikazemi-queen-mary-university-of-london/FTL%20unified' target=\"_blank\">https://wandb.ai/d-hadjikazemi-queen-mary-university-of-london/FTL%20unified</a><br/>Synced 6 W&B file(s), 0 media file(s), 0 artifact file(s) and 0 other file(s)"
      ],
      "text/plain": [
       "<IPython.core.display.HTML object>"
      ]
     },
     "metadata": {},
     "output_type": "display_data"
    },
    {
     "data": {
      "text/html": [
       "Find logs at: <code>./wandb/run-20240818_212322-nefcyruj/logs</code>"
      ],
      "text/plain": [
       "<IPython.core.display.HTML object>"
      ]
     },
     "metadata": {},
     "output_type": "display_data"
    },
    {
     "data": {
      "text/html": [
       "The new W&B backend becomes opt-out in version 0.18.0; try it out with `wandb.require(\"core\")`! See https://wandb.me/wandb-core for more information."
      ],
      "text/plain": [
       "<IPython.core.display.HTML object>"
      ]
     },
     "metadata": {},
     "output_type": "display_data"
    },
    {
     "data": {
      "image/png": "[encoded data removed]",
      "text/plain": [
       "<Figure size 640x480 with 1 Axes>"
      ]
     },
     "metadata": {},
     "output_type": "display_data"
    }
   ],
   "source": [
    "losses_transfer = []\n",
    "accuracies_transfer = []\n",
    "for epoch in range(1):\n",
    "    train(net, azure_train_loaders_transfer, azure_val_loaders_transfer, configuration_TL, configuration_TL['epochs'], name= 'transfer')\n",
    "    loss, accuracy = test(net, azure_test_loader, configuration_TL)\n",
    "    print(f\"Epoch {epoch+1}: validation loss {loss}, accuracy {accuracy}\")\n",
    "# plt.plot(accuracies)\n",
    "losses_transfer, accuracy_transfer = test(net, testloader, configuration=configuration_TL)\n",
    "\n",
    "print(f\"Final test set performance:\\n\\tloss {loss}\\n\\taccuracy {accuracy}\")\n",
    "wandb.finish()"
   ]
  },
  {
   "cell_type": "markdown",
   "metadata": {},
   "source": [
    "## Federated Transfer Learning"
   ]
  },
  {
   "cell_type": "code",
   "execution_count": 18,
   "metadata": {},
   "outputs": [
    {
     "data": {
      "application/vnd.jupyter.widget-view+json": {
       "model_id": "6364527e16c1414da207b02330ea3d96",
       "version_major": 2,
       "version_minor": 0
      },
      "text/plain": [
       "VBox(children=(Label(value='Waiting for wandb.init()...\\r'), FloatProgress(value=0.011112464433406584, max=1.0…"
      ]
     },
     "metadata": {},
     "output_type": "display_data"
    },
    {
     "data": {
      "text/html": [
       "wandb version 0.17.7 is available!  To upgrade, please run:\n",
       " $ pip install wandb --upgrade"
      ],
      "text/plain": [
       "<IPython.core.display.HTML object>"
      ]
     },
     "metadata": {},
     "output_type": "display_data"
    },
    {
     "data": {
      "text/html": [
       "Tracking run with wandb version 0.17.4"
      ],
      "text/plain": [
       "<IPython.core.display.HTML object>"
      ]
     },
     "metadata": {},
     "output_type": "display_data"
    },
    {
     "data": {
      "text/html": [
       "Run data is saved locally in <code>/home/diba/wandb/run-20240818_212436-j88qos6n</code>"
      ],
      "text/plain": [
       "<IPython.core.display.HTML object>"
      ]
     },
     "metadata": {},
     "output_type": "display_data"
    },
    {
     "data": {
      "text/html": [
       "Syncing run <strong><a href='https://wandb.ai/d-hadjikazemi-queen-mary-university-of-london/FTL%20unified/runs/j88qos6n' target=\"_blank\">federated transfer learning phase_18-08-2024_20:42:58</a></strong> to <a href='https://wandb.ai/d-hadjikazemi-queen-mary-university-of-london/FTL%20unified' target=\"_blank\">Weights & Biases</a> (<a href='https://wandb.me/run' target=\"_blank\">docs</a>)<br/>"
      ],
      "text/plain": [
       "<IPython.core.display.HTML object>"
      ]
     },
     "metadata": {},
     "output_type": "display_data"
    },
    {
     "data": {
      "text/html": [
       " View project at <a href='https://wandb.ai/d-hadjikazemi-queen-mary-university-of-london/FTL%20unified' target=\"_blank\">https://wandb.ai/d-hadjikazemi-queen-mary-university-of-london/FTL%20unified</a>"
      ],
      "text/plain": [
       "<IPython.core.display.HTML object>"
      ]
     },
     "metadata": {},
     "output_type": "display_data"
    },
    {
     "data": {
      "text/html": [
       " View run at <a href='https://wandb.ai/d-hadjikazemi-queen-mary-university-of-london/FTL%20unified/runs/j88qos6n' target=\"_blank\">https://wandb.ai/d-hadjikazemi-queen-mary-university-of-london/FTL%20unified/runs/j88qos6n</a>"
      ],
      "text/plain": [
       "<IPython.core.display.HTML object>"
      ]
     },
     "metadata": {},
     "output_type": "display_data"
    },
    {
     "data": {
      "text/html": [
       "<button onClick=\"this.nextSibling.style.display='block';this.style.display='none';\">Display W&B run</button><iframe src='https://wandb.ai/d-hadjikazemi-queen-mary-university-of-london/FTL%20unified/runs/j88qos6n?jupyter=true' style='border:none;width:100%;height:420px;display:none;'></iframe>"
      ],
      "text/plain": [
       "<wandb.sdk.wandb_run.Run at 0x7f62b4524130>"
      ]
     },
     "execution_count": 18,
     "metadata": {},
     "output_type": "execute_result"
    }
   ],
   "source": [
    "wandb.init(\n",
    "    # set the wandb project where this run will be logged\n",
    "    project=\"FTL unified\",\n",
    "    name= \"federated transfer learning phase_{}\".format(date_time),\n",
    "    # track hyperparameters and run metadata\n",
    "    config= configuration\n",
    ")\n"
   ]
  },
  {
   "cell_type": "code",
   "execution_count": 19,
   "metadata": {},
   "outputs": [],
   "source": [
    "def get_parameters(model):\n",
    "    # Return model parameters as a list of NumPy ndarrays, excluding parameters of BN layers when using FedBN\n",
    "    return [val.cpu().numpy() for name, val in model.state_dict().items() if ('bn1' not in name and 'bn2' not in name)]\n",
    "\n",
    "def set_parameters(model, parameters):\n",
    "    # Set model parameters from a list of NumPy ndarrays\n",
    "    keys = [k for k in model.state_dict().keys() if 'bn' not in k]\n",
    "    params_dict = zip(keys, parameters)\n",
    "    state_dict = OrderedDict({k: torch.tensor(v) for k, v in params_dict})\n",
    "    model.load_state_dict(state_dict, strict=False)\n",
    "\n",
    "net_FTL = Neural_Network_FL().to(device)\n",
    "parameters_centralized = get_parameters(net)\n",
    "set_parameters(net_FTL, parameters_centralized)"
   ]
  },
  {
   "cell_type": "code",
   "execution_count": 20,
   "metadata": {},
   "outputs": [],
   "source": [
    "class FlowerClient(fl.client.NumPyClient):\n",
    "    def __init__(self, net, trainloader, valloader, configuration):\n",
    "        self.net = net\n",
    "        self.trainloader = trainloader\n",
    "        self.valloader = valloader\n",
    "\n",
    "    def get_parameters(self, config):\n",
    "        return get_parameters(self.net)\n",
    "\n",
    "    def fit(self, parameters, config):\n",
    "        set_parameters(self.net, parameters)\n",
    "        train_FL(self.net, self.trainloader,self.valloader,configuration, configuration['epochs_FL'])\n",
    "        return get_parameters(self.net), len(self.trainloader), {}\n",
    "\n",
    "    def evaluate(self, parameters, config):\n",
    "        set_parameters(self.net, parameters)\n",
    "        loss, accuracy = test(self.net, self.valloader, configuration)\n",
    "        return float(loss), len(self.valloader), {\"accuracy\": float(accuracy)}\n",
    "    \n",
    "\n",
    "def client_fn(cid) -> FlowerClient:\n",
    "    net = Neural_Network().to(device)\n",
    "    trainloader = azure_train_loaders[int(cid)]\n",
    "    valloader = azure_val_loaders[int(cid)]\n",
    "    return FlowerClient(net_FTL, trainloader, valloader, configuration).to_client()\n"
   ]
  },
  {
   "cell_type": "code",
   "execution_count": 21,
   "metadata": {},
   "outputs": [
    {
     "name": "stderr",
     "output_type": "stream",
     "text": [
      "\u001b[93mWARNING \u001b[0m:   \n",
      "Setting `min_available_clients` lower than `min_fit_clients` or\n",
      "`min_evaluate_clients` can cause the server to fail when there are too few clients\n",
      "connected to the server. `min_available_clients` must be set to a value larger\n",
      "than or equal to the values of `min_fit_clients` and `min_evaluate_clients`.\n",
      "\n",
      "\u001b[92mINFO \u001b[0m:      Starting Flower simulation, config: num_rounds=50, no round_timeout\n",
      "2024-08-18 21:24:42,847\tINFO worker.py:1621 -- Started a local Ray instance.\n",
      "\u001b[92mINFO \u001b[0m:      Flower VCE: Ray initialized with resources: {'CPU': 32.0, 'node:__internal_head__': 1.0, 'memory': 105385518080.0, 'node:192.168.1.146': 1.0, 'object_store_memory': 49450936320.0, 'accelerator_type:G': 1.0, 'GPU': 2.0}\n",
      "\u001b[92mINFO \u001b[0m:      Optimize your simulation with Flower VCE: https://flower.ai/docs/framework/how-to-run-simulations.html\n",
      "\u001b[92mINFO \u001b[0m:      Flower VCE: Resources for each Virtual Client: {'num_cpus': 1, 'num_gpus': 1.0}\n",
      "\u001b[92mINFO \u001b[0m:      Flower VCE: Creating VirtualClientEngineActorPool with 2 actors\n",
      "\u001b[92mINFO \u001b[0m:      [INIT]\n",
      "\u001b[92mINFO \u001b[0m:      Using initial global parameters provided by strategy\n",
      "\u001b[92mINFO \u001b[0m:      Evaluating initial global parameters\n",
      "\u001b[92mINFO \u001b[0m:      initial parameters (loss, other metrics): 0.04561318720088286, {'accuracy': tensor(49.5220, device='cuda:0')}\n",
      "\u001b[92mINFO \u001b[0m:      \n",
      "\u001b[92mINFO \u001b[0m:      [ROUND 1]\n",
      "\u001b[92mINFO \u001b[0m:      configure_fit: strategy sampled 4 clients (out of 4)\n"
     ]
    },
    {
     "name": "stdout",
     "output_type": "stream",
     "text": [
      "Server-side evaluation loss 0.04561318720088286 / accuracy 49.52198791503906\n",
      "\u001b[2m\u001b[36m(ClientAppActor pid=1215791)\u001b[0m \n",
      "\u001b[2m\u001b[36m(ClientAppActor pid=1215791)\u001b[0m Epoch 1/100\n",
      "\u001b[2m\u001b[36m(ClientAppActor pid=1215791)\u001b[0m Epoch 1: Training accuracy: 47.39130401611328 Testing accuracy: 51.44508743286133.\n",
      "\u001b[2m\u001b[36m(ClientAppActor pid=1215791)\u001b[0m Epoch 2: Training accuracy: 52.60869598388672 Testing accuracy: 48.55491256713867.\n",
      "\u001b[2m\u001b[36m(ClientAppActor pid=1215791)\u001b[0m Epoch 3: Training accuracy: 52.60869598388672 Testing accuracy: 48.55491256713867.\n",
      "\u001b[2m\u001b[36m(ClientAppActor pid=1215791)\u001b[0m Epoch 4: Training accuracy: 52.60869598388672 Testing accuracy: 48.55491256713867.\n",
      "\u001b[2m\u001b[36m(ClientAppActor pid=1215791)\u001b[0m Epoch 5: Training accuracy: 52.60869598388672 Testing accuracy: 48.55491256713867.\n",
      "\u001b[2m\u001b[36m(ClientAppActor pid=1215791)\u001b[0m Epoch 6: Training accuracy: 52.60869598388672 Testing accuracy: 48.55491256713867.\n",
      "\u001b[2m\u001b[36m(ClientAppActor pid=1215791)\u001b[0m Epoch 7: Training accuracy: 52.60869598388672 Testing accuracy: 48.55491256713867.\n",
      "\u001b[2m\u001b[36m(ClientAppActor pid=1215791)\u001b[0m Epoch 8: Training accuracy: 52.60869598388672 Testing accuracy: 48.55491256713867.\n",
      "\u001b[2m\u001b[36m(ClientAppActor pid=1215791)\u001b[0m Epoch 9: Training accuracy: 52.60869598388672 Testing accuracy: 48.55491256713867.\n",
      "\u001b[2m\u001b[36m(ClientAppActor pid=1215791)\u001b[0m Epoch 10: Training accuracy: 52.60869598388672 Testing accuracy: 48.55491256713867.\n",
      "\u001b[2m\u001b[36m(ClientAppActor pid=1215791)\u001b[0m Epoch 11: Training accuracy: 52.60869598388672 Testing accuracy: 48.55491256713867.\n",
      "\u001b[2m\u001b[36m(ClientAppActor pid=1215791)\u001b[0m Epoch 12: Training accuracy: 52.60869598388672 Testing accuracy: 48.55491256713867.\n",
      "\u001b[2m\u001b[36m(ClientAppActor pid=1215791)\u001b[0m Epoch 13: Training accuracy: 52.60869598388672 Testing accuracy: 48.55491256713867.\n",
      "\u001b[2m\u001b[36m(ClientAppActor pid=1215791)\u001b[0m Epoch 14: Training accuracy: 52.60869598388672 Testing accuracy: 48.55491256713867.\n",
      "\u001b[2m\u001b[36m(ClientAppActor pid=1215791)\u001b[0m Epoch 15: Training accuracy: 52.60869598388672 Testing accuracy: 48.55491256713867.\n",
      "\u001b[2m\u001b[36m(ClientAppActor pid=1215791)\u001b[0m Epoch 16: Training accuracy: 52.60869598388672 Testing accuracy: 48.55491256713867.\n",
      "\u001b[2m\u001b[36m(ClientAppActor pid=1215791)\u001b[0m Epoch 17: Training accuracy: 52.60869598388672 Testing accuracy: 48.55491256713867.\n",
      "\u001b[2m\u001b[36m(ClientAppActor pid=1215791)\u001b[0m Epoch 18: Training accuracy: 52.60869598388672 Testing accuracy: 48.55491256713867.\n",
      "\u001b[2m\u001b[36m(ClientAppActor pid=1215791)\u001b[0m Epoch 19: Training accuracy: 52.60869598388672 Testing accuracy: 48.55491256713867.\n",
      "\u001b[2m\u001b[36m(ClientAppActor pid=1215791)\u001b[0m Epoch 20: Training accuracy: 52.60869598388672 Testing accuracy: 48.55491256713867.\n",
      "\u001b[2m\u001b[36m(ClientAppActor pid=1215791)\u001b[0m Epoch 21: Training accuracy: 52.60869598388672 Testing accuracy: 48.55491256713867.\n",
      "\u001b[2m\u001b[36m(ClientAppActor pid=1215791)\u001b[0m \u001b[32m [repeated 60x across cluster]\u001b[0m\n",
      "\u001b[2m\u001b[36m(ClientAppActor pid=1215791)\u001b[0m Epoch 51/100\u001b[32m [repeated 60x across cluster]\u001b[0m\n",
      "\u001b[2m\u001b[36m(ClientAppActor pid=1215791)\u001b[0m Epoch 54: Training accuracy: 52.60869598388672 Testing accuracy: 48.55491256713867.\u001b[32m [repeated 43x across cluster]\u001b[0m\n",
      "\u001b[2m\u001b[36m(ClientAppActor pid=1215791)\u001b[0m \u001b[32m [repeated 43x across cluster]\u001b[0m\n",
      "\u001b[2m\u001b[36m(ClientAppActor pid=1215791)\u001b[0m Epoch 84/100\u001b[32m [repeated 43x across cluster]\u001b[0m\n",
      "\u001b[2m\u001b[36m(ClientAppActor pid=1215791)\u001b[0m Epoch 86: Training accuracy: 69.71014404296875 Testing accuracy: 62.4277458190918.\u001b[32m [repeated 42x across cluster]\u001b[0m\n",
      "\u001b[2m\u001b[36m(ClientAppActor pid=1215791)\u001b[0m \u001b[32m [repeated 44x across cluster]\u001b[0m\n",
      "\u001b[2m\u001b[36m(ClientAppActor pid=1215791)\u001b[0m Epoch 16/100\u001b[32m [repeated 44x across cluster]\u001b[0m\n",
      "\u001b[2m\u001b[36m(ClientAppActor pid=1215791)\u001b[0m Epoch 22: Training accuracy: 51.334381103515625 Testing accuracy: 48.75.\u001b[32m [repeated 48x across cluster]\u001b[0m\n",
      "\u001b[2m\u001b[36m(ClientAppActor pid=1215791)\u001b[0m \u001b[32m [repeated 49x across cluster]\u001b[0m\n",
      "\u001b[2m\u001b[36m(ClientAppActor pid=1215791)\u001b[0m Epoch 56/100\u001b[32m [repeated 49x across cluster]\u001b[0m\n",
      "\u001b[2m\u001b[36m(ClientAppActor pid=1215791)\u001b[0m Epoch 61: Training accuracy: 51.334381103515625 Testing accuracy: 48.75.\u001b[32m [repeated 49x across cluster]\u001b[0m\n",
      "\u001b[2m\u001b[36m(ClientAppActor pid=1215791)\u001b[0m \u001b[32m [repeated 47x across cluster]\u001b[0m\n",
      "\u001b[2m\u001b[36m(ClientAppActor pid=1215791)\u001b[0m Epoch 91/100\u001b[32m [repeated 47x across cluster]\u001b[0m\n",
      "\u001b[2m\u001b[36m(ClientAppActor pid=1215791)\u001b[0m Epoch 96: Training accuracy: 60.125587463378906 Testing accuracy: 55.625.\u001b[32m [repeated 47x across cluster]\u001b[0m\n",
      "\u001b[2m\u001b[36m(ClientAppActor pid=1215791)\u001b[0m \u001b[32m [repeated 41x across cluster]\u001b[0m\n",
      "\u001b[2m\u001b[36m(ClientAppActor pid=1215791)\u001b[0m Epoch 22/100\u001b[32m [repeated 41x across cluster]\u001b[0m\n",
      "\u001b[2m\u001b[36m(ClientAppActor pid=1215791)\u001b[0m Epoch 25: Training accuracy: 50.710899353027344 Testing accuracy: 48.11320877075195.\u001b[32m [repeated 39x across cluster]\u001b[0m\n",
      "\u001b[2m\u001b[36m(ClientAppActor pid=1215791)\u001b[0m \u001b[32m [repeated 37x across cluster]\u001b[0m\n",
      "\u001b[2m\u001b[36m(ClientAppActor pid=1215791)\u001b[0m Epoch 48/100\u001b[32m [repeated 37x across cluster]\u001b[0m\n",
      "\u001b[2m\u001b[36m(ClientAppActor pid=1215791)\u001b[0m Epoch 54: Training accuracy: 49.64455032348633 Testing accuracy: 51.88679122924805.\u001b[32m [repeated 41x across cluster]\u001b[0m\n",
      "\u001b[2m\u001b[36m(ClientAppActor pid=1215792)\u001b[0m \u001b[32m [repeated 74x across cluster]\u001b[0m\n",
      "\u001b[2m\u001b[36m(ClientAppActor pid=1215792)\u001b[0m Epoch 96/100\u001b[32m [repeated 74x across cluster]\u001b[0m\n"
     ]
    },
    {
     "name": "stderr",
     "output_type": "stream",
     "text": [
      "\u001b[92mINFO \u001b[0m:      aggregate_fit: received 4 results and 0 failures\n",
      "\u001b[93mWARNING \u001b[0m:   No fit_metrics_aggregation_fn provided\n",
      "\u001b[92mINFO \u001b[0m:      fit progress: (1, 0.039693537880392635, {'accuracy': tensor(56.4054, device='cuda:0')}, 42.702647509009694)\n",
      "\u001b[92mINFO \u001b[0m:      configure_evaluate: strategy sampled 2 clients (out of 4)\n",
      "\u001b[92mINFO \u001b[0m:      aggregate_evaluate: received 2 results and 0 failures\n",
      "\u001b[92mINFO \u001b[0m:      \n",
      "\u001b[92mINFO \u001b[0m:      [ROUND 2]\n",
      "\u001b[92mINFO \u001b[0m:      configure_fit: strategy sampled 4 clients (out of 4)\n"
     ]
    },
    {
     "name": "stdout",
     "output_type": "stream",
     "text": [
      "Server-side evaluation loss 0.039693537880392635 / accuracy 56.40535354614258\n",
      "\u001b[2m\u001b[36m(ClientAppActor pid=1215792)\u001b[0m Epoch 100: Training accuracy: 66.22613525390625 Testing accuracy: 63.74269104003906.\u001b[32m [repeated 70x across cluster]\u001b[0m\n",
      "\u001b[2m\u001b[36m(ClientAppActor pid=1215791)\u001b[0m \u001b[32m [repeated 132x across cluster]\u001b[0m\n",
      "\u001b[2m\u001b[36m(ClientAppActor pid=1215791)\u001b[0m Epoch 1/100\u001b[32m [repeated 132x across cluster]\u001b[0m\n",
      "\u001b[2m\u001b[36m(ClientAppActor pid=1215791)\u001b[0m Epoch 5: Training accuracy: 68.13509368896484 Testing accuracy: 71.92982482910156.\u001b[32m [repeated 133x across cluster]\u001b[0m\n",
      "\u001b[2m\u001b[36m(ClientAppActor pid=1215791)\u001b[0m \u001b[32m [repeated 53x across cluster]\u001b[0m\n",
      "\u001b[2m\u001b[36m(ClientAppActor pid=1215791)\u001b[0m Epoch 41/100\u001b[32m [repeated 53x across cluster]\u001b[0m\n",
      "\u001b[2m\u001b[36m(ClientAppActor pid=1215791)\u001b[0m Epoch 45: Training accuracy: 74.30249786376953 Testing accuracy: 71.92982482910156.\u001b[32m [repeated 58x across cluster]\u001b[0m\n",
      "\u001b[2m\u001b[36m(ClientAppActor pid=1215791)\u001b[0m \u001b[32m [repeated 55x across cluster]\u001b[0m\n",
      "\u001b[2m\u001b[36m(ClientAppActor pid=1215791)\u001b[0m Epoch 79/100\u001b[32m [repeated 55x across cluster]\u001b[0m\n",
      "\u001b[2m\u001b[36m(ClientAppActor pid=1215791)\u001b[0m Epoch 99: Training accuracy: 77.09251403808594 Testing accuracy: 71.34503173828125.\u001b[32m [repeated 74x across cluster]\u001b[0m\n",
      "\u001b[2m\u001b[36m(ClientAppActor pid=1215791)\u001b[0m \u001b[32m [repeated 80x across cluster]\u001b[0m\n",
      "\u001b[2m\u001b[36m(ClientAppActor pid=1215791)\u001b[0m Epoch 27/100\u001b[32m [repeated 80x across cluster]\u001b[0m\n",
      "\u001b[2m\u001b[36m(ClientAppActor pid=1215792)\u001b[0m Epoch 97: Training accuracy: 77.13269805908203 Testing accuracy: 69.81131744384766.\u001b[32m [repeated 65x across cluster]\u001b[0m\n",
      "\u001b[2m\u001b[36m(ClientAppActor pid=1215791)\u001b[0m \u001b[32m [repeated 30x across cluster]\u001b[0m\n",
      "\u001b[2m\u001b[36m(ClientAppActor pid=1215791)\u001b[0m Epoch 46/100\u001b[32m [repeated 30x across cluster]\u001b[0m\n",
      "\u001b[2m\u001b[36m(ClientAppActor pid=1215791)\u001b[0m Epoch 48: Training accuracy: 76.29513549804688 Testing accuracy: 74.375.\u001b[32m [repeated 18x across cluster]\u001b[0m\n",
      "\u001b[2m\u001b[36m(ClientAppActor pid=1215791)\u001b[0m \u001b[32m [repeated 18x across cluster]\u001b[0m\n",
      "\u001b[2m\u001b[36m(ClientAppActor pid=1215791)\u001b[0m Epoch 64/100\u001b[32m [repeated 18x across cluster]\u001b[0m\n",
      "\u001b[2m\u001b[36m(ClientAppActor pid=1215791)\u001b[0m Epoch 65: Training accuracy: 70.01570129394531 Testing accuracy: 68.125.\u001b[32m [repeated 17x across cluster]\u001b[0m\n",
      "\u001b[2m\u001b[36m(ClientAppActor pid=1215791)\u001b[0m \u001b[32m [repeated 16x across cluster]\u001b[0m\n",
      "\u001b[2m\u001b[36m(ClientAppActor pid=1215791)\u001b[0m Epoch 80/100\u001b[32m [repeated 16x across cluster]\u001b[0m\n",
      "\u001b[2m\u001b[36m(ClientAppActor pid=1215791)\u001b[0m Epoch 82: Training accuracy: 78.49293518066406 Testing accuracy: 74.375.\u001b[32m [repeated 17x across cluster]\u001b[0m\n",
      "\u001b[2m\u001b[36m(ClientAppActor pid=1215791)\u001b[0m \u001b[32m [repeated 15x across cluster]\u001b[0m\n",
      "\u001b[2m\u001b[36m(ClientAppActor pid=1215791)\u001b[0m Epoch 95/100\u001b[32m [repeated 15x across cluster]\u001b[0m\n",
      "\u001b[2m\u001b[36m(ClientAppActor pid=1215791)\u001b[0m Epoch 97: Training accuracy: 80.06279754638672 Testing accuracy: 76.25.\u001b[32m [repeated 15x across cluster]\u001b[0m\n"
     ]
    },
    {
     "name": "stderr",
     "output_type": "stream",
     "text": [
      "\u001b[92mINFO \u001b[0m:      aggregate_fit: received 4 results and 0 failures\n",
      "\u001b[92mINFO \u001b[0m:      fit progress: (2, 0.03520810604095459, {'accuracy': tensor(68.2600, device='cuda:0')}, 84.52067201099999)\n",
      "\u001b[92mINFO \u001b[0m:      configure_evaluate: strategy sampled 2 clients (out of 4)\n"
     ]
    },
    {
     "name": "stdout",
     "output_type": "stream",
     "text": [
      "Server-side evaluation loss 0.03520810604095459 / accuracy 68.26004028320312\n"
     ]
    },
    {
     "name": "stderr",
     "output_type": "stream",
     "text": [
      "\u001b[92mINFO \u001b[0m:      aggregate_evaluate: received 2 results and 0 failures\n",
      "\u001b[92mINFO \u001b[0m:      \n",
      "\u001b[92mINFO \u001b[0m:      [ROUND 3]\n",
      "\u001b[92mINFO \u001b[0m:      configure_fit: strategy sampled 4 clients (out of 4)\n"
     ]
    },
    {
     "name": "stdout",
     "output_type": "stream",
     "text": [
      "\u001b[2m\u001b[36m(ClientAppActor pid=1215791)\u001b[0m \u001b[32m [repeated 19x across cluster]\u001b[0m\n",
      "\u001b[2m\u001b[36m(ClientAppActor pid=1215791)\u001b[0m Epoch 8/100\u001b[32m [repeated 19x across cluster]\u001b[0m\n",
      "\u001b[2m\u001b[36m(ClientAppActor pid=1215791)\u001b[0m Epoch 9: Training accuracy: 74.15565490722656 Testing accuracy: 72.51461791992188.\u001b[32m [repeated 19x across cluster]\u001b[0m\n",
      "\u001b[2m\u001b[36m(ClientAppActor pid=1215791)\u001b[0m \u001b[32m [repeated 26x across cluster]\u001b[0m\n",
      "\u001b[2m\u001b[36m(ClientAppActor pid=1215791)\u001b[0m Epoch 23/100\u001b[32m [repeated 26x across cluster]\u001b[0m\n",
      "\u001b[2m\u001b[36m(ClientAppActor pid=1215791)\u001b[0m Epoch 25: Training accuracy: 72.98091125488281 Testing accuracy: 71.92982482910156.\u001b[32m [repeated 27x across cluster]\u001b[0m\n",
      "\u001b[2m\u001b[36m(ClientAppActor pid=1215791)\u001b[0m \u001b[32m [repeated 35x across cluster]\u001b[0m\n",
      "\u001b[2m\u001b[36m(ClientAppActor pid=1215791)\u001b[0m Epoch 44/100\u001b[32m [repeated 35x across cluster]\u001b[0m\n",
      "\u001b[2m\u001b[36m(ClientAppActor pid=1215791)\u001b[0m Epoch 48: Training accuracy: 74.8898696899414 Testing accuracy: 71.92982482910156.\u001b[32m [repeated 38x across cluster]\u001b[0m\n",
      "\u001b[2m\u001b[36m(ClientAppActor pid=1215791)\u001b[0m \u001b[32m [repeated 39x across cluster]\u001b[0m\n",
      "\u001b[2m\u001b[36m(ClientAppActor pid=1215791)\u001b[0m Epoch 66/100\u001b[32m [repeated 39x across cluster]\u001b[0m\n",
      "\u001b[2m\u001b[36m(ClientAppActor pid=1215791)\u001b[0m Epoch 70: Training accuracy: 73.71512603759766 Testing accuracy: 71.92982482910156.\u001b[32m [repeated 40x across cluster]\u001b[0m\n",
      "\u001b[2m\u001b[36m(ClientAppActor pid=1215791)\u001b[0m \u001b[32m [repeated 45x across cluster]\u001b[0m\n",
      "\u001b[2m\u001b[36m(ClientAppActor pid=1215791)\u001b[0m Epoch 93/100\u001b[32m [repeated 45x across cluster]\u001b[0m\n",
      "\u001b[2m\u001b[36m(ClientAppActor pid=1215792)\u001b[0m Epoch 69: Training accuracy: 78.6956558227539 Testing accuracy: 72.25433349609375.\u001b[32m [repeated 46x across cluster]\u001b[0m\n",
      "\u001b[2m\u001b[36m(ClientAppActor pid=1215791)\u001b[0m \u001b[32m [repeated 46x across cluster]\u001b[0m\n",
      "\u001b[2m\u001b[36m(ClientAppActor pid=1215791)\u001b[0m Epoch 23/100\u001b[32m [repeated 46x across cluster]\u001b[0m\n",
      "\u001b[2m\u001b[36m(ClientAppActor pid=1215791)\u001b[0m Epoch 28: Training accuracy: 78.33595275878906 Testing accuracy: 75.0.\u001b[32m [repeated 46x across cluster]\u001b[0m\n",
      "\u001b[2m\u001b[36m(ClientAppActor pid=1215791)\u001b[0m \u001b[32m [repeated 29x across cluster]\u001b[0m\n",
      "\u001b[2m\u001b[36m(ClientAppActor pid=1215791)\u001b[0m Epoch 40/100\u001b[32m [repeated 29x across cluster]\u001b[0m\n",
      "\u001b[2m\u001b[36m(ClientAppActor pid=1215791)\u001b[0m Epoch 42: Training accuracy: 78.17896270751953 Testing accuracy: 75.0.\u001b[32m [repeated 24x across cluster]\u001b[0m\n",
      "\u001b[2m\u001b[36m(ClientAppActor pid=1215792)\u001b[0m \u001b[32m [repeated 28x across cluster]\u001b[0m\n",
      "\u001b[2m\u001b[36m(ClientAppActor pid=1215792)\u001b[0m Epoch 5/100\u001b[32m [repeated 28x across cluster]\u001b[0m\n",
      "\u001b[2m\u001b[36m(ClientAppActor pid=1215791)\u001b[0m Epoch 60: Training accuracy: 80.37676239013672 Testing accuracy: 75.625.\u001b[32m [repeated 29x across cluster]\u001b[0m\n",
      "\u001b[2m\u001b[36m(ClientAppActor pid=1215791)\u001b[0m \u001b[32m [repeated 24x across cluster]\u001b[0m\n",
      "\u001b[2m\u001b[36m(ClientAppActor pid=1215791)\u001b[0m Epoch 73/100\u001b[32m [repeated 24x across cluster]\u001b[0m\n",
      "\u001b[2m\u001b[36m(ClientAppActor pid=1215791)\u001b[0m Epoch 78: Training accuracy: 76.29513549804688 Testing accuracy: 71.25.\u001b[32m [repeated 26x across cluster]\u001b[0m\n",
      "\u001b[2m\u001b[36m(ClientAppActor pid=1215791)\u001b[0m \u001b[32m [repeated 26x across cluster]\u001b[0m\n",
      "\u001b[2m\u001b[36m(ClientAppActor pid=1215791)\u001b[0m Epoch 90/100\u001b[32m [repeated 26x across cluster]\u001b[0m\n",
      "\u001b[2m\u001b[36m(ClientAppActor pid=1215791)\u001b[0m Epoch 92: Training accuracy: 80.06279754638672 Testing accuracy: 71.875.\u001b[32m [repeated 23x across cluster]\u001b[0m\n",
      "\u001b[2m\u001b[36m(ClientAppActor pid=1215792)\u001b[0m \u001b[32m [repeated 20x across cluster]\u001b[0m\n",
      "\u001b[2m\u001b[36m(ClientAppActor pid=1215792)\u001b[0m Epoch 32/100\u001b[32m [repeated 20x across cluster]\u001b[0m\n",
      "\u001b[2m\u001b[36m(ClientAppActor pid=1215792)\u001b[0m Epoch 32: Training accuracy: 77.96208190917969 Testing accuracy: 72.16981506347656.\u001b[32m [repeated 17x across cluster]\u001b[0m\n",
      "\u001b[2m\u001b[36m(ClientAppActor pid=1215792)\u001b[0m \u001b[32m [repeated 9x across cluster]\u001b[0m\n",
      "\u001b[2m\u001b[36m(ClientAppActor pid=1215792)\u001b[0m Epoch 41/100\u001b[32m [repeated 9x across cluster]\u001b[0m\n",
      "\u001b[2m\u001b[36m(ClientAppActor pid=1215792)\u001b[0m Epoch 42: Training accuracy: 78.08056640625 Testing accuracy: 71.69811248779297.\u001b[32m [repeated 10x across cluster]\u001b[0m\n",
      "\u001b[2m\u001b[36m(ClientAppActor pid=1215792)\u001b[0m \u001b[32m [repeated 9x across cluster]\u001b[0m\n",
      "\u001b[2m\u001b[36m(ClientAppActor pid=1215792)\u001b[0m Epoch 50/100\u001b[32m [repeated 9x across cluster]\u001b[0m\n",
      "\u001b[2m\u001b[36m(ClientAppActor pid=1215792)\u001b[0m Epoch 50: Training accuracy: 73.22274780273438 Testing accuracy: 69.81131744384766.\u001b[32m [repeated 8x across cluster]\u001b[0m\n",
      "\u001b[2m\u001b[36m(ClientAppActor pid=1215792)\u001b[0m \u001b[32m [repeated 15x across cluster]\u001b[0m\n",
      "\u001b[2m\u001b[36m(ClientAppActor pid=1215792)\u001b[0m Epoch 65/100\u001b[32m [repeated 15x across cluster]\u001b[0m\n",
      "\u001b[2m\u001b[36m(ClientAppActor pid=1215792)\u001b[0m Epoch 66: Training accuracy: 76.06635284423828 Testing accuracy: 71.2264175415039.\u001b[32m [repeated 16x across cluster]\u001b[0m\n",
      "\u001b[2m\u001b[36m(ClientAppActor pid=1215792)\u001b[0m \u001b[32m [repeated 15x across cluster]\u001b[0m\n",
      "\u001b[2m\u001b[36m(ClientAppActor pid=1215792)\u001b[0m Epoch 80/100\u001b[32m [repeated 15x across cluster]\u001b[0m\n",
      "\u001b[2m\u001b[36m(ClientAppActor pid=1215792)\u001b[0m Epoch 83: Training accuracy: 80.33175659179688 Testing accuracy: 70.75471496582031.\u001b[32m [repeated 17x across cluster]\u001b[0m\n",
      "\u001b[2m\u001b[36m(ClientAppActor pid=1215792)\u001b[0m \u001b[32m [repeated 16x across cluster]\u001b[0m\n",
      "\u001b[2m\u001b[36m(ClientAppActor pid=1215792)\u001b[0m Epoch 96/100\u001b[32m [repeated 16x across cluster]\u001b[0m\n",
      "\u001b[2m\u001b[36m(ClientAppActor pid=1215792)\u001b[0m Epoch 97: Training accuracy: 80.33175659179688 Testing accuracy: 69.81131744384766.\u001b[32m [repeated 14x across cluster]\u001b[0m\n"
     ]
    },
    {
     "name": "stderr",
     "output_type": "stream",
     "text": [
      "\u001b[92mINFO \u001b[0m:      aggregate_fit: received 4 results and 0 failures\n",
      "\u001b[92mINFO \u001b[0m:      fit progress: (3, 0.03430942577474257, {'accuracy': tensor(70.8413, device='cuda:0')}, 166.04794866300654)\n",
      "\u001b[92mINFO \u001b[0m:      configure_evaluate: strategy sampled 2 clients (out of 4)\n",
      "\u001b[92mINFO \u001b[0m:      aggregate_evaluate: received 2 results and 0 failures\n",
      "\u001b[92mINFO \u001b[0m:      \n",
      "\u001b[92mINFO \u001b[0m:      [ROUND 4]\n",
      "\u001b[92mINFO \u001b[0m:      configure_fit: strategy sampled 4 clients (out of 4)\n"
     ]
    },
    {
     "name": "stdout",
     "output_type": "stream",
     "text": [
      "Server-side evaluation loss 0.03430942577474257 / accuracy 70.84130096435547\n",
      "\u001b[2m\u001b[36m(ClientAppActor pid=1215791)\u001b[0m \u001b[32m [repeated 271x across cluster]\u001b[0m\n",
      "\u001b[2m\u001b[36m(ClientAppActor pid=1215791)\u001b[0m Epoch 1/100\u001b[32m [repeated 271x across cluster]\u001b[0m\n",
      "\u001b[2m\u001b[36m(ClientAppActor pid=1215791)\u001b[0m Epoch 3: Training accuracy: 75.07246398925781 Testing accuracy: 75.72254180908203.\u001b[32m [repeated 273x across cluster]\u001b[0m\n",
      "\u001b[2m\u001b[36m(ClientAppActor pid=1215791)\u001b[0m \u001b[32m [repeated 41x across cluster]\u001b[0m\n",
      "\u001b[2m\u001b[36m(ClientAppActor pid=1215791)\u001b[0m Epoch 28/100\u001b[32m [repeated 41x across cluster]\u001b[0m\n",
      "\u001b[2m\u001b[36m(ClientAppActor pid=1215791)\u001b[0m Epoch 31: Training accuracy: 71.3043441772461 Testing accuracy: 71.67630004882812.\u001b[32m [repeated 42x across cluster]\u001b[0m\n",
      "\u001b[2m\u001b[36m(ClientAppActor pid=1215792)\u001b[0m \u001b[32m [repeated 41x across cluster]\u001b[0m\n",
      "\u001b[2m\u001b[36m(ClientAppActor pid=1215792)\u001b[0m Epoch 94/100\u001b[32m [repeated 41x across cluster]\u001b[0m\n",
      "\u001b[2m\u001b[36m(ClientAppActor pid=1215791)\u001b[0m Epoch 57: Training accuracy: 79.27536010742188 Testing accuracy: 75.1445083618164.\u001b[32m [repeated 39x across cluster]\u001b[0m\n",
      "\u001b[2m\u001b[36m(ClientAppActor pid=1215791)\u001b[0m \u001b[32m [repeated 20x across cluster]\u001b[0m\n",
      "\u001b[2m\u001b[36m(ClientAppActor pid=1215791)\u001b[0m Epoch 69/100\u001b[32m [repeated 20x across cluster]\u001b[0m\n",
      "\u001b[2m\u001b[36m(ClientAppActor pid=1215791)\u001b[0m Epoch 71: Training accuracy: 78.55072784423828 Testing accuracy: 70.52023315429688.\u001b[32m [repeated 20x across cluster]\u001b[0m\n",
      "\u001b[2m\u001b[36m(ClientAppActor pid=1215791)\u001b[0m \u001b[32m [repeated 15x across cluster]\u001b[0m\n",
      "\u001b[2m\u001b[36m(ClientAppActor pid=1215791)\u001b[0m Epoch 84/100\u001b[32m [repeated 15x across cluster]\u001b[0m\n",
      "\u001b[2m\u001b[36m(ClientAppActor pid=1215791)\u001b[0m Epoch 85: Training accuracy: 83.33333587646484 Testing accuracy: 73.41040802001953.\u001b[32m [repeated 14x across cluster]\u001b[0m\n",
      "\u001b[2m\u001b[36m(ClientAppActor pid=1215791)\u001b[0m \u001b[32m [repeated 16x across cluster]\u001b[0m\n",
      "\u001b[2m\u001b[36m(ClientAppActor pid=1215791)\u001b[0m Epoch 100/100\u001b[32m [repeated 16x across cluster]\u001b[0m\n"
     ]
    },
    {
     "name": "stderr",
     "output_type": "stream",
     "text": [
      "\u001b[92mINFO \u001b[0m:      aggregate_fit: received 4 results and 0 failures\n",
      "\u001b[92mINFO \u001b[0m:      fit progress: (4, 0.03423414861454683, {'accuracy': tensor(72.5621, device='cuda:0')}, 196.36619810700358)\n",
      "\u001b[92mINFO \u001b[0m:      configure_evaluate: strategy sampled 2 clients (out of 4)\n"
     ]
    },
    {
     "name": "stdout",
     "output_type": "stream",
     "text": [
      "Server-side evaluation loss 0.03423414861454683 / accuracy 72.56214141845703\n"
     ]
    },
    {
     "name": "stderr",
     "output_type": "stream",
     "text": [
      "\u001b[92mINFO \u001b[0m:      aggregate_evaluate: received 2 results and 0 failures\n",
      "\u001b[92mINFO \u001b[0m:      \n",
      "\u001b[92mINFO \u001b[0m:      [ROUND 5]\n",
      "\u001b[92mINFO \u001b[0m:      configure_fit: strategy sampled 4 clients (out of 4)\n"
     ]
    },
    {
     "name": "stdout",
     "output_type": "stream",
     "text": [
      "\u001b[2m\u001b[36m(ClientAppActor pid=1215791)\u001b[0m Epoch 100: Training accuracy: 83.47826385498047 Testing accuracy: 74.56647491455078.\u001b[32m [repeated 15x across cluster]\u001b[0m\n",
      "\u001b[2m\u001b[36m(ClientAppActor pid=1215792)\u001b[0m \u001b[32m [repeated 20x across cluster]\u001b[0m\n",
      "\u001b[2m\u001b[36m(ClientAppActor pid=1215792)\u001b[0m Epoch 10/100\u001b[32m [repeated 20x across cluster]\u001b[0m\n",
      "\u001b[2m\u001b[36m(ClientAppActor pid=1215791)\u001b[0m Epoch 14: Training accuracy: 73.71512603759766 Testing accuracy: 73.68421173095703.\u001b[32m [repeated 26x across cluster]\u001b[0m\n",
      "\u001b[2m\u001b[36m(ClientAppActor pid=1215791)\u001b[0m \u001b[32m [repeated 29x across cluster]\u001b[0m\n",
      "\u001b[2m\u001b[36m(ClientAppActor pid=1215791)\u001b[0m Epoch 27/100\u001b[32m [repeated 29x across cluster]\u001b[0m\n",
      "\u001b[2m\u001b[36m(ClientAppActor pid=1215792)\u001b[0m Epoch 24: Training accuracy: 80.06279754638672 Testing accuracy: 76.875.\u001b[32m [repeated 26x across cluster]\u001b[0m\n",
      "\u001b[2m\u001b[36m(ClientAppActor pid=1215792)\u001b[0m \u001b[32m [repeated 28x across cluster]\u001b[0m\n",
      "\u001b[2m\u001b[36m(ClientAppActor pid=1215792)\u001b[0m Epoch 35/100\u001b[32m [repeated 28x across cluster]\u001b[0m\n",
      "\u001b[2m\u001b[36m(ClientAppActor pid=1215791)\u001b[0m Epoch 45: Training accuracy: 74.74302673339844 Testing accuracy: 72.51461791992188.\u001b[32m [repeated 30x across cluster]\u001b[0m\n",
      "\u001b[2m\u001b[36m(ClientAppActor pid=1215792)\u001b[0m \u001b[32m [repeated 26x across cluster]\u001b[0m\n",
      "\u001b[2m\u001b[36m(ClientAppActor pid=1215792)\u001b[0m Epoch 47/100\u001b[32m [repeated 26x across cluster]\u001b[0m\n",
      "\u001b[2m\u001b[36m(ClientAppActor pid=1215792)\u001b[0m Epoch 49: Training accuracy: 73.62637329101562 Testing accuracy: 73.125.\u001b[32m [repeated 26x across cluster]\u001b[0m\n",
      "\u001b[2m\u001b[36m(ClientAppActor pid=1215791)\u001b[0m \u001b[32m [repeated 28x across cluster]\u001b[0m\n",
      "\u001b[2m\u001b[36m(ClientAppActor pid=1215791)\u001b[0m Epoch 71/100\u001b[32m [repeated 28x across cluster]\u001b[0m\n",
      "\u001b[2m\u001b[36m(ClientAppActor pid=1215791)\u001b[0m Epoch 75: Training accuracy: 79.29515075683594 Testing accuracy: 70.7602310180664.\u001b[32m [repeated 29x across cluster]\u001b[0m\n",
      "\u001b[2m\u001b[36m(ClientAppActor pid=1215791)\u001b[0m \u001b[32m [repeated 26x across cluster]\u001b[0m\n",
      "\u001b[2m\u001b[36m(ClientAppActor pid=1215791)\u001b[0m Epoch 86/100\u001b[32m [repeated 26x across cluster]\u001b[0m\n",
      "\u001b[2m\u001b[36m(ClientAppActor pid=1215791)\u001b[0m Epoch 90: Training accuracy: 79.4419937133789 Testing accuracy: 72.51461791992188.\u001b[32m [repeated 26x across cluster]\u001b[0m\n",
      "\u001b[2m\u001b[36m(ClientAppActor pid=1215792)\u001b[0m \u001b[32m [repeated 26x across cluster]\u001b[0m\n",
      "\u001b[2m\u001b[36m(ClientAppActor pid=1215792)\u001b[0m Epoch 83/100\u001b[32m [repeated 26x across cluster]\u001b[0m\n",
      "\u001b[2m\u001b[36m(ClientAppActor pid=1215791)\u001b[0m Epoch 3: Training accuracy: 77.48815155029297 Testing accuracy: 70.28302001953125.\u001b[32m [repeated 26x across cluster]\u001b[0m\n",
      "\u001b[2m\u001b[36m(ClientAppActor pid=1215791)\u001b[0m \u001b[32m [repeated 24x across cluster]\u001b[0m\n",
      "\u001b[2m\u001b[36m(ClientAppActor pid=1215791)\u001b[0m Epoch 12/100\u001b[32m [repeated 24x across cluster]\u001b[0m\n",
      "\u001b[2m\u001b[36m(ClientAppActor pid=1215791)\u001b[0m Epoch 15: Training accuracy: 77.7251205444336 Testing accuracy: 69.81131744384766.\u001b[32m [repeated 23x across cluster]\u001b[0m\n",
      "\u001b[2m\u001b[36m(ClientAppActor pid=1215791)\u001b[0m \u001b[32m [repeated 22x across cluster]\u001b[0m\n",
      "\u001b[2m\u001b[36m(ClientAppActor pid=1215791)\u001b[0m Epoch 24/100\u001b[32m [repeated 22x across cluster]\u001b[0m\n",
      "\u001b[2m\u001b[36m(ClientAppActor pid=1215792)\u001b[0m Epoch 10: Training accuracy: 77.5362319946289 Testing accuracy: 78.03468322753906.\u001b[32m [repeated 24x across cluster]\u001b[0m\n",
      "\u001b[2m\u001b[36m(ClientAppActor pid=1215792)\u001b[0m \u001b[32m [repeated 29x across cluster]\u001b[0m\n",
      "\u001b[2m\u001b[36m(ClientAppActor pid=1215792)\u001b[0m Epoch 23/100\u001b[32m [repeated 29x across cluster]\u001b[0m\n",
      "\u001b[2m\u001b[36m(ClientAppActor pid=1215791)\u001b[0m Epoch 41: Training accuracy: 79.2654037475586 Testing accuracy: 71.69811248779297.\u001b[32m [repeated 32x across cluster]\u001b[0m\n",
      "\u001b[2m\u001b[36m(ClientAppActor pid=1215791)\u001b[0m \u001b[32m [repeated 39x across cluster]\u001b[0m\n",
      "\u001b[2m\u001b[36m(ClientAppActor pid=1215791)\u001b[0m Epoch 55/100\u001b[32m [repeated 39x across cluster]\u001b[0m\n",
      "\u001b[2m\u001b[36m(ClientAppActor pid=1215791)\u001b[0m Epoch 63: Training accuracy: 79.97630310058594 Testing accuracy: 72.16981506347656.\u001b[32m [repeated 44x across cluster]\u001b[0m\n",
      "\u001b[2m\u001b[36m(ClientAppActor pid=1215792)\u001b[0m \u001b[32m [repeated 71x across cluster]\u001b[0m\n",
      "\u001b[2m\u001b[36m(ClientAppActor pid=1215792)\u001b[0m Epoch 68/100\u001b[32m [repeated 71x across cluster]\u001b[0m\n",
      "\u001b[2m\u001b[36m(ClientAppActor pid=1215792)\u001b[0m Epoch 75: Training accuracy: 82.89855194091797 Testing accuracy: 75.1445083618164.\u001b[32m [repeated 63x across cluster]\u001b[0m\n",
      "\u001b[2m\u001b[36m(ClientAppActor pid=1215792)\u001b[0m \u001b[32m [repeated 18x across cluster]\u001b[0m\n",
      "\u001b[2m\u001b[36m(ClientAppActor pid=1215792)\u001b[0m Epoch 86/100\u001b[32m [repeated 18x across cluster]\u001b[0m\n",
      "\u001b[2m\u001b[36m(ClientAppActor pid=1215792)\u001b[0m Epoch 89: Training accuracy: 83.76811218261719 Testing accuracy: 75.1445083618164.\u001b[32m [repeated 14x across cluster]\u001b[0m\n"
     ]
    },
    {
     "name": "stderr",
     "output_type": "stream",
     "text": [
      "\u001b[92mINFO \u001b[0m:      aggregate_fit: received 4 results and 0 failures\n",
      "\u001b[92mINFO \u001b[0m:      fit progress: (5, 0.03370464198729571, {'accuracy': tensor(73.7094, device='cuda:0')}, 265.8290397039964)\n",
      "\u001b[92mINFO \u001b[0m:      configure_evaluate: strategy sampled 2 clients (out of 4)\n",
      "\u001b[92mINFO \u001b[0m:      aggregate_evaluate: received 2 results and 0 failures\n",
      "\u001b[92mINFO \u001b[0m:      \n",
      "\u001b[92mINFO \u001b[0m:      [ROUND 6]\n",
      "\u001b[92mINFO \u001b[0m:      configure_fit: strategy sampled 4 clients (out of 4)\n"
     ]
    },
    {
     "name": "stdout",
     "output_type": "stream",
     "text": [
      "Server-side evaluation loss 0.03370464198729571 / accuracy 73.70936584472656\n",
      "\u001b[2m\u001b[36m(ClientAppActor pid=1215791)\u001b[0m \u001b[32m [repeated 48x across cluster]\u001b[0m\n",
      "\u001b[2m\u001b[36m(ClientAppActor pid=1215791)\u001b[0m Epoch 25/100\u001b[32m [repeated 48x across cluster]\u001b[0m\n",
      "\u001b[2m\u001b[36m(ClientAppActor pid=1215792)\u001b[0m Epoch 18: Training accuracy: 75.77092742919922 Testing accuracy: 71.34503173828125.\u001b[32m [repeated 58x across cluster]\u001b[0m\n",
      "\u001b[2m\u001b[36m(ClientAppActor pid=1215791)\u001b[0m \u001b[32m [repeated 56x across cluster]\u001b[0m\n",
      "\u001b[2m\u001b[36m(ClientAppActor pid=1215791)\u001b[0m Epoch 50/100\u001b[32m [repeated 56x across cluster]\u001b[0m\n",
      "\u001b[2m\u001b[36m(ClientAppActor pid=1215791)\u001b[0m Epoch 53: Training accuracy: 78.17896270751953 Testing accuracy: 75.625.\u001b[32m [repeated 48x across cluster]\u001b[0m\n",
      "\u001b[2m\u001b[36m(ClientAppActor pid=1215791)\u001b[0m \u001b[32m [repeated 26x across cluster]\u001b[0m\n",
      "\u001b[2m\u001b[36m(ClientAppActor pid=1215791)\u001b[0m Epoch 65/100\u001b[32m [repeated 26x across cluster]\u001b[0m\n",
      "\u001b[2m\u001b[36m(ClientAppActor pid=1215792)\u001b[0m Epoch 54: Training accuracy: 79.58883666992188 Testing accuracy: 70.1754379272461.\u001b[32m [repeated 27x across cluster]\u001b[0m\n",
      "\u001b[2m\u001b[36m(ClientAppActor pid=1215791)\u001b[0m \u001b[32m [repeated 27x across cluster]\u001b[0m\n",
      "\u001b[2m\u001b[36m(ClientAppActor pid=1215791)\u001b[0m Epoch 81/100\u001b[32m [repeated 27x across cluster]\u001b[0m\n",
      "\u001b[2m\u001b[36m(ClientAppActor pid=1215791)\u001b[0m Epoch 84: Training accuracy: 81.63265228271484 Testing accuracy: 77.5.\u001b[32m [repeated 26x across cluster]\u001b[0m\n",
      "\u001b[2m\u001b[36m(ClientAppActor pid=1215791)\u001b[0m \u001b[32m [repeated 28x across cluster]\u001b[0m\n",
      "\u001b[2m\u001b[36m(ClientAppActor pid=1215791)\u001b[0m Epoch 97/100\u001b[32m [repeated 28x across cluster]\u001b[0m\n",
      "\u001b[2m\u001b[36m(ClientAppActor pid=1215791)\u001b[0m Epoch 100: Training accuracy: 83.3594970703125 Testing accuracy: 78.125.\u001b[32m [repeated 28x across cluster]\u001b[0m\n",
      "\u001b[2m\u001b[36m(ClientAppActor pid=1215792)\u001b[0m \u001b[32m [repeated 25x across cluster]\u001b[0m\n",
      "\u001b[2m\u001b[36m(ClientAppActor pid=1215792)\u001b[0m Epoch 86/100\u001b[32m [repeated 25x across cluster]\u001b[0m\n",
      "\u001b[2m\u001b[36m(ClientAppActor pid=1215791)\u001b[0m Epoch 12: Training accuracy: 79.02843475341797 Testing accuracy: 71.69811248779297.\u001b[32m [repeated 23x across cluster]\u001b[0m\n",
      "\u001b[2m\u001b[36m(ClientAppActor pid=1215792)\u001b[0m \u001b[32m [repeated 24x across cluster]\u001b[0m\n",
      "\u001b[2m\u001b[36m(ClientAppActor pid=1215792)\u001b[0m Epoch 98/100\u001b[32m [repeated 24x across cluster]\u001b[0m\n",
      "\u001b[2m\u001b[36m(ClientAppActor pid=1215792)\u001b[0m Epoch 100: Training accuracy: 80.61673736572266 Testing accuracy: 73.09941864013672.\u001b[32m [repeated 25x across cluster]\u001b[0m\n",
      "\u001b[2m\u001b[36m(ClientAppActor pid=1215792)\u001b[0m \u001b[32m [repeated 21x across cluster]\u001b[0m\n",
      "\u001b[2m\u001b[36m(ClientAppActor pid=1215792)\u001b[0m Epoch 8/100\u001b[32m [repeated 21x across cluster]\u001b[0m\n",
      "\u001b[2m\u001b[36m(ClientAppActor pid=1215791)\u001b[0m Epoch 36: Training accuracy: 77.8436050415039 Testing accuracy: 68.86792755126953.\u001b[32m [repeated 21x across cluster]\u001b[0m\n",
      "\u001b[2m\u001b[36m(ClientAppActor pid=1215791)\u001b[0m \u001b[32m [repeated 25x across cluster]\u001b[0m\n",
      "\u001b[2m\u001b[36m(ClientAppActor pid=1215791)\u001b[0m Epoch 46/100\u001b[32m [repeated 25x across cluster]\u001b[0m\n",
      "\u001b[2m\u001b[36m(ClientAppActor pid=1215792)\u001b[0m Epoch 23: Training accuracy: 79.13043212890625 Testing accuracy: 73.98844146728516.\u001b[32m [repeated 25x across cluster]\u001b[0m\n",
      "\u001b[2m\u001b[36m(ClientAppActor pid=1215791)\u001b[0m \u001b[32m [repeated 25x across cluster]\u001b[0m\n",
      "\u001b[2m\u001b[36m(ClientAppActor pid=1215791)\u001b[0m Epoch 58/100\u001b[32m [repeated 25x across cluster]\u001b[0m\n",
      "\u001b[2m\u001b[36m(ClientAppActor pid=1215791)\u001b[0m Epoch 62: Training accuracy: 81.16114044189453 Testing accuracy: 74.52830505371094.\u001b[32m [repeated 27x across cluster]\u001b[0m\n",
      "\u001b[2m\u001b[36m(ClientAppActor pid=1215791)\u001b[0m \u001b[32m [repeated 37x across cluster]\u001b[0m\n",
      "\u001b[2m\u001b[36m(ClientAppActor pid=1215791)\u001b[0m Epoch 78/100\u001b[32m [repeated 37x across cluster]\u001b[0m\n",
      "\u001b[2m\u001b[36m(ClientAppActor pid=1215791)\u001b[0m Epoch 81: Training accuracy: 81.16114044189453 Testing accuracy: 73.58490753173828.\u001b[32m [repeated 37x across cluster]\u001b[0m\n",
      "\u001b[2m\u001b[36m(ClientAppActor pid=1215792)\u001b[0m \u001b[32m [repeated 40x across cluster]\u001b[0m\n",
      "\u001b[2m\u001b[36m(ClientAppActor pid=1215792)\u001b[0m Epoch 68/100\u001b[32m [repeated 40x across cluster]\u001b[0m\n",
      "\u001b[2m\u001b[36m(ClientAppActor pid=1215792)\u001b[0m Epoch 71: Training accuracy: 84.63768005371094 Testing accuracy: 76.87861633300781.\u001b[32m [repeated 37x across cluster]\u001b[0m\n",
      "\u001b[2m\u001b[36m(ClientAppActor pid=1215792)\u001b[0m \u001b[32m [repeated 17x across cluster]\u001b[0m\n",
      "\u001b[2m\u001b[36m(ClientAppActor pid=1215792)\u001b[0m Epoch 85/100\u001b[32m [repeated 17x across cluster]\u001b[0m\n",
      "\u001b[2m\u001b[36m(ClientAppActor pid=1215792)\u001b[0m Epoch 87: Training accuracy: 84.20289611816406 Testing accuracy: 76.30057525634766.\u001b[32m [repeated 16x across cluster]\u001b[0m\n",
      "\u001b[2m\u001b[36m(ClientAppActor pid=1215792)\u001b[0m \u001b[32m [repeated 11x across cluster]\u001b[0m\n",
      "\u001b[2m\u001b[36m(ClientAppActor pid=1215792)\u001b[0m Epoch 96/100\u001b[32m [repeated 11x across cluster]\u001b[0m\n",
      "\u001b[2m\u001b[36m(ClientAppActor pid=1215792)\u001b[0m Epoch 97: Training accuracy: 85.36231994628906 Testing accuracy: 77.45664978027344.\u001b[32m [repeated 10x across cluster]\u001b[0m\n"
     ]
    },
    {
     "name": "stderr",
     "output_type": "stream",
     "text": [
      "\u001b[92mINFO \u001b[0m:      aggregate_fit: received 4 results and 0 failures\n",
      "\u001b[92mINFO \u001b[0m:      fit progress: (6, 0.03222810520845301, {'accuracy': tensor(74.2830, device='cuda:0')}, 337.910161066)\n",
      "\u001b[92mINFO \u001b[0m:      configure_evaluate: strategy sampled 2 clients (out of 4)\n"
     ]
    },
    {
     "name": "stdout",
     "output_type": "stream",
     "text": [
      "Server-side evaluation loss 0.03222810520845301 / accuracy 74.2829818725586\n"
     ]
    },
    {
     "name": "stderr",
     "output_type": "stream",
     "text": [
      "\u001b[92mINFO \u001b[0m:      aggregate_evaluate: received 2 results and 0 failures\n",
      "\u001b[92mINFO \u001b[0m:      \n",
      "\u001b[92mINFO \u001b[0m:      [ROUND 7]\n",
      "\u001b[92mINFO \u001b[0m:      configure_fit: strategy sampled 4 clients (out of 4)\n"
     ]
    },
    {
     "name": "stdout",
     "output_type": "stream",
     "text": [
      "\u001b[2m\u001b[36m(ClientAppActor pid=1215791)\u001b[0m \u001b[32m [repeated 17x across cluster]\u001b[0m\n",
      "\u001b[2m\u001b[36m(ClientAppActor pid=1215791)\u001b[0m Epoch 9/100\u001b[32m [repeated 17x across cluster]\u001b[0m\n",
      "\u001b[2m\u001b[36m(ClientAppActor pid=1215791)\u001b[0m Epoch 11: Training accuracy: 78.70777893066406 Testing accuracy: 74.85379791259766.\u001b[32m [repeated 19x across cluster]\u001b[0m\n",
      "\u001b[2m\u001b[36m(ClientAppActor pid=1215791)\u001b[0m \u001b[32m [repeated 36x across cluster]\u001b[0m\n",
      "\u001b[2m\u001b[36m(ClientAppActor pid=1215791)\u001b[0m Epoch 36/100\u001b[32m [repeated 36x across cluster]\u001b[0m\n",
      "\u001b[2m\u001b[36m(ClientAppActor pid=1215791)\u001b[0m Epoch 42: Training accuracy: 77.82672882080078 Testing accuracy: 74.26900482177734.\u001b[32m [repeated 39x across cluster]\u001b[0m\n",
      "\u001b[2m\u001b[36m(ClientAppActor pid=1215791)\u001b[0m \u001b[32m [repeated 43x across cluster]\u001b[0m\n",
      "\u001b[2m\u001b[36m(ClientAppActor pid=1215791)\u001b[0m Epoch 70/100\u001b[32m [repeated 43x across cluster]\u001b[0m\n",
      "\u001b[2m\u001b[36m(ClientAppActor pid=1215791)\u001b[0m Epoch 74: Training accuracy: 81.20410919189453 Testing accuracy: 74.85379791259766.\u001b[32m [repeated 42x across cluster]\u001b[0m\n",
      "\u001b[2m\u001b[36m(ClientAppActor pid=1215791)\u001b[0m \u001b[32m [repeated 41x across cluster]\u001b[0m\n",
      "\u001b[2m\u001b[36m(ClientAppActor pid=1215791)\u001b[0m Epoch 3/100\u001b[32m [repeated 41x across cluster]\u001b[0m\n",
      "\u001b[2m\u001b[36m(ClientAppActor pid=1215791)\u001b[0m Epoch 7: Training accuracy: 80.21977996826172 Testing accuracy: 76.875.\u001b[32m [repeated 40x across cluster]\u001b[0m\n",
      "\u001b[2m\u001b[36m(ClientAppActor pid=1215791)\u001b[0m \u001b[32m [repeated 45x across cluster]\u001b[0m\n",
      "\u001b[2m\u001b[36m(ClientAppActor pid=1215791)\u001b[0m Epoch 38/100\u001b[32m [repeated 45x across cluster]\u001b[0m\n",
      "\u001b[2m\u001b[36m(ClientAppActor pid=1215791)\u001b[0m Epoch 45: Training accuracy: 75.98116302490234 Testing accuracy: 73.75.\u001b[32m [repeated 48x across cluster]\u001b[0m\n",
      "\u001b[2m\u001b[36m(ClientAppActor pid=1215791)\u001b[0m \u001b[32m [repeated 47x across cluster]\u001b[0m\n",
      "\u001b[2m\u001b[36m(ClientAppActor pid=1215791)\u001b[0m Epoch 76/100\u001b[32m [repeated 47x across cluster]\u001b[0m\n",
      "\u001b[2m\u001b[36m(ClientAppActor pid=1215791)\u001b[0m Epoch 80: Training accuracy: 83.3594970703125 Testing accuracy: 76.875.\u001b[32m [repeated 45x across cluster]\u001b[0m\n",
      "\u001b[2m\u001b[36m(ClientAppActor pid=1215791)\u001b[0m \u001b[32m [repeated 48x across cluster]\u001b[0m\n",
      "\u001b[2m\u001b[36m(ClientAppActor pid=1215791)\u001b[0m Epoch 13/100\u001b[32m [repeated 48x across cluster]\u001b[0m\n",
      "\u001b[2m\u001b[36m(ClientAppActor pid=1215791)\u001b[0m Epoch 16: Training accuracy: 75.21739196777344 Testing accuracy: 74.56647491455078.\u001b[32m [repeated 47x across cluster]\u001b[0m\n"
     ]
    },
    {
     "name": "stderr",
     "output_type": "stream",
     "text": [
      "\u001b[92mINFO \u001b[0m:      aggregate_fit: received 4 results and 0 failures\n",
      "\u001b[92mINFO \u001b[0m:      fit progress: (7, 0.032539371181936824, {'accuracy': tensor(74.6654, device='cuda:0')}, 374.23463779099984)\n",
      "\u001b[92mINFO \u001b[0m:      configure_evaluate: strategy sampled 2 clients (out of 4)\n",
      "\u001b[92mINFO \u001b[0m:      aggregate_evaluate: received 2 results and 0 failures\n",
      "\u001b[92mINFO \u001b[0m:      \n",
      "\u001b[92mINFO \u001b[0m:      [ROUND 8]\n",
      "\u001b[92mINFO \u001b[0m:      configure_fit: strategy sampled 4 clients (out of 4)\n"
     ]
    },
    {
     "name": "stdout",
     "output_type": "stream",
     "text": [
      "Server-side evaluation loss 0.032539371181936824 / accuracy 74.66539001464844\n",
      "\u001b[2m\u001b[36m(ClientAppActor pid=1215792)\u001b[0m \u001b[32m [repeated 239x across cluster]\u001b[0m\n",
      "\u001b[2m\u001b[36m(ClientAppActor pid=1215792)\u001b[0m Epoch 68/100\u001b[32m [repeated 239x across cluster]\u001b[0m\n",
      "\u001b[2m\u001b[36m(ClientAppActor pid=1215791)\u001b[0m Epoch 47: Training accuracy: 80.76358032226562 Testing accuracy: 76.02339172363281.\u001b[32m [repeated 264x across cluster]\u001b[0m\n",
      "\u001b[2m\u001b[36m(ClientAppActor pid=1215791)\u001b[0m \u001b[32m [repeated 65x across cluster]\u001b[0m\n",
      "\u001b[2m\u001b[36m(ClientAppActor pid=1215791)\u001b[0m Epoch 67/100\u001b[32m [repeated 65x across cluster]\u001b[0m\n",
      "\u001b[2m\u001b[36m(ClientAppActor pid=1215791)\u001b[0m Epoch 70: Training accuracy: 79.4419937133789 Testing accuracy: 76.02339172363281.\u001b[32m [repeated 40x across cluster]\u001b[0m\n",
      "\u001b[2m\u001b[36m(ClientAppActor pid=1215792)\u001b[0m \u001b[32m [repeated 41x across cluster]\u001b[0m\n",
      "\u001b[2m\u001b[36m(ClientAppActor pid=1215792)\u001b[0m Epoch 24/100\u001b[32m [repeated 41x across cluster]\u001b[0m\n",
      "\u001b[2m\u001b[36m(ClientAppActor pid=1215791)\u001b[0m Epoch 97: Training accuracy: 77.53304290771484 Testing accuracy: 74.85379791259766.\u001b[32m [repeated 40x across cluster]\u001b[0m\n",
      "\u001b[2m\u001b[36m(ClientAppActor pid=1215791)\u001b[0m \u001b[32m [repeated 37x across cluster]\u001b[0m\n",
      "\u001b[2m\u001b[36m(ClientAppActor pid=1215791)\u001b[0m Epoch 19/100\u001b[32m [repeated 37x across cluster]\u001b[0m\n",
      "\u001b[2m\u001b[36m(ClientAppActor pid=1215791)\u001b[0m Epoch 19: Training accuracy: 81.8840560913086 Testing accuracy: 75.1445083618164.\u001b[32m [repeated 34x across cluster]\u001b[0m\n",
      "\u001b[2m\u001b[36m(ClientAppActor pid=1215791)\u001b[0m \u001b[32m [repeated 24x across cluster]\u001b[0m\n",
      "\u001b[2m\u001b[36m(ClientAppActor pid=1215791)\u001b[0m Epoch 35/100\u001b[32m [repeated 24x across cluster]\u001b[0m\n",
      "\u001b[2m\u001b[36m(ClientAppActor pid=1215791)\u001b[0m Epoch 37: Training accuracy: 83.76811218261719 Testing accuracy: 76.87861633300781.\u001b[32m [repeated 26x across cluster]\u001b[0m\n",
      "\u001b[2m\u001b[36m(ClientAppActor pid=1215791)\u001b[0m \u001b[32m [repeated 29x across cluster]\u001b[0m\n",
      "\u001b[2m\u001b[36m(ClientAppActor pid=1215791)\u001b[0m Epoch 54/100\u001b[32m [repeated 29x across cluster]\u001b[0m\n",
      "\u001b[2m\u001b[36m(ClientAppActor pid=1215791)\u001b[0m Epoch 54: Training accuracy: 85.36231994628906 Testing accuracy: 76.30057525634766.\u001b[32m [repeated 27x across cluster]\u001b[0m\n",
      "\u001b[2m\u001b[36m(ClientAppActor pid=1215792)\u001b[0m \u001b[32m [repeated 31x across cluster]\u001b[0m\n",
      "\u001b[2m\u001b[36m(ClientAppActor pid=1215792)\u001b[0m Epoch 63/100\u001b[32m [repeated 31x across cluster]\u001b[0m\n",
      "\u001b[2m\u001b[36m(ClientAppActor pid=1215791)\u001b[0m Epoch 77: Training accuracy: 85.07246398925781 Testing accuracy: 74.56647491455078.\u001b[32m [repeated 31x across cluster]\u001b[0m\n",
      "\u001b[2m\u001b[36m(ClientAppActor pid=1215791)\u001b[0m \u001b[32m [repeated 32x across cluster]\u001b[0m\n",
      "\u001b[2m\u001b[36m(ClientAppActor pid=1215791)\u001b[0m Epoch 99/100\u001b[32m [repeated 32x across cluster]\u001b[0m\n",
      "\u001b[2m\u001b[36m(ClientAppActor pid=1215791)\u001b[0m Epoch 99: Training accuracy: 86.52173614501953 Testing accuracy: 74.56647491455078.\u001b[32m [repeated 32x across cluster]\u001b[0m\n",
      "\u001b[2m\u001b[36m(ClientAppActor pid=1215792)\u001b[0m \u001b[32m [repeated 10x across cluster]\u001b[0m\n",
      "\u001b[2m\u001b[36m(ClientAppActor pid=1215792)\u001b[0m Epoch 81/100\u001b[32m [repeated 10x across cluster]\u001b[0m\n",
      "\u001b[2m\u001b[36m(ClientAppActor pid=1215792)\u001b[0m Epoch 81: Training accuracy: 84.36019134521484 Testing accuracy: 73.58490753173828.\u001b[32m [repeated 10x across cluster]\u001b[0m\n",
      "\u001b[2m\u001b[36m(ClientAppActor pid=1215792)\u001b[0m \u001b[32m [repeated 10x across cluster]\u001b[0m\n",
      "\u001b[2m\u001b[36m(ClientAppActor pid=1215792)\u001b[0m Epoch 91/100\u001b[32m [repeated 10x across cluster]\u001b[0m\n",
      "\u001b[2m\u001b[36m(ClientAppActor pid=1215792)\u001b[0m Epoch 91: Training accuracy: 76.42179870605469 Testing accuracy: 71.69811248779297.\u001b[32m [repeated 10x across cluster]\u001b[0m\n",
      "\u001b[2m\u001b[36m(ClientAppActor pid=1215792)\u001b[0m \u001b[32m [repeated 8x across cluster]\u001b[0m\n",
      "\u001b[2m\u001b[36m(ClientAppActor pid=1215792)\u001b[0m Epoch 99/100\u001b[32m [repeated 8x across cluster]\u001b[0m\n",
      "\u001b[2m\u001b[36m(ClientAppActor pid=1215792)\u001b[0m Epoch 99: Training accuracy: 84.36019134521484 Testing accuracy: 72.16981506347656.\u001b[32m [repeated 8x across cluster]\u001b[0m\n"
     ]
    },
    {
     "name": "stderr",
     "output_type": "stream",
     "text": [
      "\u001b[92mINFO \u001b[0m:      aggregate_fit: received 4 results and 0 failures\n",
      "\u001b[92mINFO \u001b[0m:      fit progress: (8, 0.03301083340364344, {'accuracy': tensor(74.0918, device='cuda:0')}, 428.8419402639993)\n",
      "\u001b[92mINFO \u001b[0m:      configure_evaluate: strategy sampled 2 clients (out of 4)\n"
     ]
    },
    {
     "name": "stdout",
     "output_type": "stream",
     "text": [
      "Server-side evaluation loss 0.03301083340364344 / accuracy 74.09178161621094\n"
     ]
    },
    {
     "name": "stderr",
     "output_type": "stream",
     "text": [
      "\u001b[92mINFO \u001b[0m:      aggregate_evaluate: received 2 results and 0 failures\n",
      "\u001b[92mINFO \u001b[0m:      \n",
      "\u001b[92mINFO \u001b[0m:      [ROUND 9]\n",
      "\u001b[92mINFO \u001b[0m:      configure_fit: strategy sampled 4 clients (out of 4)\n"
     ]
    },
    {
     "name": "stdout",
     "output_type": "stream",
     "text": [
      "\u001b[2m\u001b[36m(ClientAppActor pid=1215791)\u001b[0m \u001b[32m [repeated 24x across cluster]\u001b[0m\n",
      "\u001b[2m\u001b[36m(ClientAppActor pid=1215791)\u001b[0m Epoch 15/100\u001b[32m [repeated 24x across cluster]\u001b[0m\n",
      "\u001b[2m\u001b[36m(ClientAppActor pid=1215792)\u001b[0m Epoch 9: Training accuracy: 78.33595275878906 Testing accuracy: 77.5.\u001b[32m [repeated 26x across cluster]\u001b[0m\n",
      "\u001b[2m\u001b[36m(ClientAppActor pid=1215791)\u001b[0m \u001b[32m [repeated 31x across cluster]\u001b[0m\n",
      "\u001b[2m\u001b[36m(ClientAppActor pid=1215791)\u001b[0m Epoch 34/100\u001b[32m [repeated 31x across cluster]\u001b[0m\n",
      "\u001b[2m\u001b[36m(ClientAppActor pid=1215791)\u001b[0m Epoch 35: Training accuracy: 80.02936553955078 Testing accuracy: 77.19298553466797.\u001b[32m [repeated 30x across cluster]\u001b[0m\n",
      "\u001b[2m\u001b[36m(ClientAppActor pid=1215791)\u001b[0m \u001b[32m [repeated 35x across cluster]\u001b[0m\n",
      "\u001b[2m\u001b[36m(ClientAppActor pid=1215791)\u001b[0m Epoch 57/100\u001b[32m [repeated 35x across cluster]\u001b[0m\n",
      "\u001b[2m\u001b[36m(ClientAppActor pid=1215791)\u001b[0m Epoch 58: Training accuracy: 81.64463806152344 Testing accuracy: 76.60818481445312.\u001b[32m [repeated 35x across cluster]\u001b[0m\n",
      "\u001b[2m\u001b[36m(ClientAppActor pid=1215791)\u001b[0m \u001b[32m [repeated 132x across cluster]\u001b[0m\n",
      "\u001b[2m\u001b[36m(ClientAppActor pid=1215791)\u001b[0m Epoch 72/100\u001b[32m [repeated 132x across cluster]\u001b[0m\n",
      "\u001b[2m\u001b[36m(ClientAppActor pid=1215791)\u001b[0m Epoch 87: Training accuracy: 84.47867584228516 Testing accuracy: 71.2264175415039.\u001b[32m [repeated 147x across cluster]\u001b[0m\n",
      "\u001b[2m\u001b[36m(ClientAppActor pid=1215792)\u001b[0m \u001b[32m [repeated 157x across cluster]\u001b[0m\n",
      "\u001b[2m\u001b[36m(ClientAppActor pid=1215792)\u001b[0m Epoch 78/100\u001b[32m [repeated 157x across cluster]\u001b[0m\n",
      "\u001b[2m\u001b[36m(ClientAppActor pid=1215792)\u001b[0m Epoch 79: Training accuracy: 79.27786254882812 Testing accuracy: 74.375.\u001b[32m [repeated 142x across cluster]\u001b[0m\n"
     ]
    },
    {
     "name": "stderr",
     "output_type": "stream",
     "text": [
      "\u001b[92mINFO \u001b[0m:      aggregate_fit: received 4 results and 0 failures\n",
      "\u001b[92mINFO \u001b[0m:      fit progress: (9, 0.033947264446931726, {'accuracy': tensor(72.6577, device='cuda:0')}, 458.22631038099644)\n",
      "\u001b[92mINFO \u001b[0m:      configure_evaluate: strategy sampled 2 clients (out of 4)\n"
     ]
    },
    {
     "name": "stdout",
     "output_type": "stream",
     "text": [
      "Server-side evaluation loss 0.033947264446931726 / accuracy 72.65774536132812\n"
     ]
    },
    {
     "name": "stderr",
     "output_type": "stream",
     "text": [
      "\u001b[92mINFO \u001b[0m:      aggregate_evaluate: received 2 results and 0 failures\n",
      "\u001b[92mINFO \u001b[0m:      \n",
      "\u001b[92mINFO \u001b[0m:      [ROUND 10]\n",
      "\u001b[92mINFO \u001b[0m:      configure_fit: strategy sampled 4 clients (out of 4)\n"
     ]
    },
    {
     "name": "stdout",
     "output_type": "stream",
     "text": [
      "\u001b[2m\u001b[36m(ClientAppActor pid=1215791)\u001b[0m \u001b[32m [repeated 23x across cluster]\u001b[0m\n",
      "\u001b[2m\u001b[36m(ClientAppActor pid=1215791)\u001b[0m Epoch 1/100\u001b[32m [repeated 23x across cluster]\u001b[0m\n",
      "\u001b[2m\u001b[36m(ClientAppActor pid=1215792)\u001b[0m Epoch 100: Training accuracy: 81.00470733642578 Testing accuracy: 76.25.\u001b[32m [repeated 21x across cluster]\u001b[0m\n",
      "\u001b[2m\u001b[36m(ClientAppActor pid=1215791)\u001b[0m \u001b[32m [repeated 55x across cluster]\u001b[0m\n",
      "\u001b[2m\u001b[36m(ClientAppActor pid=1215791)\u001b[0m Epoch 34/100\u001b[32m [repeated 55x across cluster]\u001b[0m\n",
      "\u001b[2m\u001b[36m(ClientAppActor pid=1215791)\u001b[0m Epoch 33: Training accuracy: 84.12322235107422 Testing accuracy: 73.58490753173828.\u001b[32m [repeated 54x across cluster]\u001b[0m\n",
      "\u001b[2m\u001b[36m(ClientAppActor pid=1215791)\u001b[0m \u001b[32m [repeated 50x across cluster]\u001b[0m\n",
      "\u001b[2m\u001b[36m(ClientAppActor pid=1215791)\u001b[0m Epoch 61/100\u001b[32m [repeated 50x across cluster]\u001b[0m\n",
      "\u001b[2m\u001b[36m(ClientAppActor pid=1215791)\u001b[0m Epoch 60: Training accuracy: 84.24170684814453 Testing accuracy: 72.16981506347656.\u001b[32m [repeated 50x across cluster]\u001b[0m\n",
      "\u001b[2m\u001b[36m(ClientAppActor pid=1215792)\u001b[0m \u001b[32m [repeated 55x across cluster]\u001b[0m\n",
      "\u001b[2m\u001b[36m(ClientAppActor pid=1215792)\u001b[0m Epoch 77/100\u001b[32m [repeated 55x across cluster]\u001b[0m\n",
      "\u001b[2m\u001b[36m(ClientAppActor pid=1215792)\u001b[0m Epoch 76: Training accuracy: 81.93832397460938 Testing accuracy: 73.09941864013672.\u001b[32m [repeated 55x across cluster]\u001b[0m\n",
      "\u001b[2m\u001b[36m(ClientAppActor pid=1215792)\u001b[0m \u001b[32m [repeated 23x across cluster]\u001b[0m\n",
      "\u001b[2m\u001b[36m(ClientAppActor pid=1215792)\u001b[0m Epoch 89/100\u001b[32m [repeated 23x across cluster]\u001b[0m\n",
      "\u001b[2m\u001b[36m(ClientAppActor pid=1215792)\u001b[0m Epoch 88: Training accuracy: 82.96622467041016 Testing accuracy: 75.4385986328125.\u001b[32m [repeated 23x across cluster]\u001b[0m\n",
      "\u001b[2m\u001b[36m(ClientAppActor pid=1215791)\u001b[0m \u001b[32m [repeated 23x across cluster]\u001b[0m\n",
      "\u001b[2m\u001b[36m(ClientAppActor pid=1215791)\u001b[0m Epoch 8/100\u001b[32m [repeated 23x across cluster]\u001b[0m\n",
      "\u001b[2m\u001b[36m(ClientAppActor pid=1215791)\u001b[0m Epoch 7: Training accuracy: 80.5797119140625 Testing accuracy: 76.30057525634766.\u001b[32m [repeated 23x across cluster]\u001b[0m\n",
      "\u001b[2m\u001b[36m(ClientAppActor pid=1215791)\u001b[0m \u001b[32m [repeated 28x across cluster]\u001b[0m\n",
      "\u001b[2m\u001b[36m(ClientAppActor pid=1215791)\u001b[0m Epoch 24/100\u001b[32m [repeated 28x across cluster]\u001b[0m\n",
      "\u001b[2m\u001b[36m(ClientAppActor pid=1215791)\u001b[0m Epoch 23: Training accuracy: 84.05796813964844 Testing accuracy: 75.1445083618164.\u001b[32m [repeated 28x across cluster]\u001b[0m\n",
      "\u001b[2m\u001b[36m(ClientAppActor pid=1215791)\u001b[0m \u001b[32m [repeated 26x across cluster]\u001b[0m\n",
      "\u001b[2m\u001b[36m(ClientAppActor pid=1215791)\u001b[0m Epoch 38/100\u001b[32m [repeated 26x across cluster]\u001b[0m\n",
      "\u001b[2m\u001b[36m(ClientAppActor pid=1215791)\u001b[0m Epoch 37: Training accuracy: 82.17391204833984 Testing accuracy: 73.41040802001953.\u001b[32m [repeated 26x across cluster]\u001b[0m\n",
      "\u001b[2m\u001b[36m(ClientAppActor pid=1215791)\u001b[0m \u001b[32m [repeated 28x across cluster]\u001b[0m\n",
      "\u001b[2m\u001b[36m(ClientAppActor pid=1215791)\u001b[0m Epoch 53/100\u001b[32m [repeated 28x across cluster]\u001b[0m\n",
      "\u001b[2m\u001b[36m(ClientAppActor pid=1215791)\u001b[0m Epoch 52: Training accuracy: 81.44927215576172 Testing accuracy: 73.41040802001953.\u001b[32m [repeated 28x across cluster]\u001b[0m\n",
      "\u001b[2m\u001b[36m(ClientAppActor pid=1215791)\u001b[0m \u001b[32m [repeated 30x across cluster]\u001b[0m\n",
      "\u001b[2m\u001b[36m(ClientAppActor pid=1215791)\u001b[0m Epoch 72/100\u001b[32m [repeated 30x across cluster]\u001b[0m\n",
      "\u001b[2m\u001b[36m(ClientAppActor pid=1215791)\u001b[0m Epoch 71: Training accuracy: 83.76811218261719 Testing accuracy: 74.56647491455078.\u001b[32m [repeated 30x across cluster]\u001b[0m\n",
      "\u001b[2m\u001b[36m(ClientAppActor pid=1215791)\u001b[0m \u001b[32m [repeated 43x across cluster]\u001b[0m\n",
      "\u001b[2m\u001b[36m(ClientAppActor pid=1215791)\u001b[0m Epoch 100/100\u001b[32m [repeated 43x across cluster]\u001b[0m\n",
      "\u001b[2m\u001b[36m(ClientAppActor pid=1215791)\u001b[0m Epoch 99: Training accuracy: 85.50724792480469 Testing accuracy: 72.83236694335938.\u001b[32m [repeated 43x across cluster]\u001b[0m\n",
      "\u001b[2m\u001b[36m(ClientAppActor pid=1215792)\u001b[0m \u001b[32m [repeated 20x across cluster]\u001b[0m\n",
      "\u001b[2m\u001b[36m(ClientAppActor pid=1215792)\u001b[0m Epoch 82/100\u001b[32m [repeated 20x across cluster]\u001b[0m\n",
      "\u001b[2m\u001b[36m(ClientAppActor pid=1215792)\u001b[0m Epoch 81: Training accuracy: 82.10360717773438 Testing accuracy: 76.25.\u001b[32m [repeated 21x across cluster]\u001b[0m\n"
     ]
    },
    {
     "name": "stderr",
     "output_type": "stream",
     "text": [
      "\u001b[92mINFO \u001b[0m:      aggregate_fit: received 4 results and 0 failures\n",
      "\u001b[92mINFO \u001b[0m:      fit progress: (10, 0.034958818379570454, {'accuracy': tensor(71.3193, device='cuda:0')}, 520.2201611100027)\n",
      "\u001b[92mINFO \u001b[0m:      configure_evaluate: strategy sampled 2 clients (out of 4)\n"
     ]
    },
    {
     "name": "stdout",
     "output_type": "stream",
     "text": [
      "\u001b[2m\u001b[36m(ClientAppActor pid=1215792)\u001b[0m \u001b[32m [repeated 18x across cluster]\u001b[0m\n",
      "\u001b[2m\u001b[36m(ClientAppActor pid=1215792)\u001b[0m Epoch 100/100\u001b[32m [repeated 18x across cluster]\u001b[0m\n",
      "\u001b[2m\u001b[36m(ClientAppActor pid=1215792)\u001b[0m Epoch 100: Training accuracy: 84.77236938476562 Testing accuracy: 77.5.\u001b[32m [repeated 19x across cluster]\u001b[0m\n",
      "Server-side evaluation loss 0.034958818379570454 / accuracy 71.3193130493164\n"
     ]
    },
    {
     "name": "stderr",
     "output_type": "stream",
     "text": [
      "\u001b[92mINFO \u001b[0m:      aggregate_evaluate: received 2 results and 0 failures\n",
      "\u001b[92mINFO \u001b[0m:      \n",
      "\u001b[92mINFO \u001b[0m:      [ROUND 11]\n",
      "\u001b[92mINFO \u001b[0m:      configure_fit: strategy sampled 4 clients (out of 4)\n"
     ]
    },
    {
     "name": "stdout",
     "output_type": "stream",
     "text": [
      "\u001b[2m\u001b[36m(ClientAppActor pid=1215791)\u001b[0m \u001b[32m [repeated 47x across cluster]\u001b[0m\n",
      "\u001b[2m\u001b[36m(ClientAppActor pid=1215791)\u001b[0m Epoch 32/100\u001b[32m [repeated 47x across cluster]\u001b[0m\n",
      "\u001b[2m\u001b[36m(ClientAppActor pid=1215791)\u001b[0m Epoch 31: Training accuracy: 82.10900115966797 Testing accuracy: 71.69811248779297.\u001b[32m [repeated 45x across cluster]\u001b[0m\n",
      "\u001b[2m\u001b[36m(ClientAppActor pid=1215791)\u001b[0m \u001b[32m [repeated 29x across cluster]\u001b[0m\n",
      "\u001b[2m\u001b[36m(ClientAppActor pid=1215791)\u001b[0m Epoch 50/100\u001b[32m [repeated 29x across cluster]\u001b[0m\n",
      "\u001b[2m\u001b[36m(ClientAppActor pid=1215791)\u001b[0m Epoch 49: Training accuracy: 83.29383850097656 Testing accuracy: 75.0.\u001b[32m [repeated 29x across cluster]\u001b[0m\n",
      "\u001b[2m\u001b[36m(ClientAppActor pid=1215791)\u001b[0m \u001b[32m [repeated 30x across cluster]\u001b[0m\n",
      "\u001b[2m\u001b[36m(ClientAppActor pid=1215791)\u001b[0m Epoch 67/100\u001b[32m [repeated 30x across cluster]\u001b[0m\n",
      "\u001b[2m\u001b[36m(ClientAppActor pid=1215791)\u001b[0m Epoch 66: Training accuracy: 84.47867584228516 Testing accuracy: 70.28302001953125.\u001b[32m [repeated 30x across cluster]\u001b[0m\n",
      "\u001b[2m\u001b[36m(ClientAppActor pid=1215791)\u001b[0m \u001b[32m [repeated 28x across cluster]\u001b[0m\n",
      "\u001b[2m\u001b[36m(ClientAppActor pid=1215791)\u001b[0m Epoch 84/100\u001b[32m [repeated 28x across cluster]\u001b[0m\n",
      "\u001b[2m\u001b[36m(ClientAppActor pid=1215791)\u001b[0m Epoch 83: Training accuracy: 81.75355529785156 Testing accuracy: 73.11320495605469.\u001b[32m [repeated 28x across cluster]\u001b[0m\n",
      "\u001b[2m\u001b[36m(ClientAppActor pid=1215791)\u001b[0m \u001b[32m [repeated 39x across cluster]\u001b[0m\n",
      "\u001b[2m\u001b[36m(ClientAppActor pid=1215791)\u001b[0m Epoch 10/100\u001b[32m [repeated 39x across cluster]\u001b[0m\n",
      "\u001b[2m\u001b[36m(ClientAppActor pid=1215791)\u001b[0m Epoch 9: Training accuracy: 80.61673736572266 Testing accuracy: 74.85379791259766.\u001b[32m [repeated 39x across cluster]\u001b[0m\n",
      "\u001b[2m\u001b[36m(ClientAppActor pid=1215791)\u001b[0m \u001b[32m [repeated 46x across cluster]\u001b[0m\n",
      "\u001b[2m\u001b[36m(ClientAppActor pid=1215791)\u001b[0m Epoch 45/100\u001b[32m [repeated 46x across cluster]\u001b[0m\n",
      "\u001b[2m\u001b[36m(ClientAppActor pid=1215791)\u001b[0m Epoch 44: Training accuracy: 82.52569580078125 Testing accuracy: 76.60818481445312.\u001b[32m [repeated 46x across cluster]\u001b[0m\n",
      "\u001b[2m\u001b[36m(ClientAppActor pid=1215791)\u001b[0m \u001b[32m [repeated 57x across cluster]\u001b[0m\n",
      "\u001b[2m\u001b[36m(ClientAppActor pid=1215791)\u001b[0m Epoch 89/100\u001b[32m [repeated 57x across cluster]\u001b[0m\n",
      "\u001b[2m\u001b[36m(ClientAppActor pid=1215791)\u001b[0m Epoch 88: Training accuracy: 81.3509521484375 Testing accuracy: 76.02339172363281.\u001b[32m [repeated 57x across cluster]\u001b[0m\n",
      "\u001b[2m\u001b[36m(ClientAppActor pid=1215791)\u001b[0m \u001b[32m [repeated 58x across cluster]\u001b[0m\n",
      "\u001b[2m\u001b[36m(ClientAppActor pid=1215791)\u001b[0m Epoch 37/100\u001b[32m [repeated 58x across cluster]\u001b[0m\n",
      "\u001b[2m\u001b[36m(ClientAppActor pid=1215791)\u001b[0m Epoch 36: Training accuracy: 85.79710388183594 Testing accuracy: 76.87861633300781.\u001b[32m [repeated 58x across cluster]\u001b[0m\n",
      "\u001b[2m\u001b[36m(ClientAppActor pid=1215791)\u001b[0m \u001b[32m [repeated 43x across cluster]\u001b[0m\n",
      "\u001b[2m\u001b[36m(ClientAppActor pid=1215791)\u001b[0m Epoch 77/100\u001b[32m [repeated 43x across cluster]\u001b[0m\n",
      "\u001b[2m\u001b[36m(ClientAppActor pid=1215791)\u001b[0m Epoch 76: Training accuracy: 79.71014404296875 Testing accuracy: 73.41040802001953.\u001b[32m [repeated 44x across cluster]\u001b[0m\n"
     ]
    },
    {
     "name": "stderr",
     "output_type": "stream",
     "text": [
      "\u001b[92mINFO \u001b[0m:      aggregate_fit: received 4 results and 0 failures\n",
      "\u001b[92mINFO \u001b[0m:      fit progress: (11, 0.03391737797681023, {'accuracy': tensor(73.7094, device='cuda:0')}, 568.9852894570067)\n",
      "\u001b[92mINFO \u001b[0m:      configure_evaluate: strategy sampled 2 clients (out of 4)\n"
     ]
    },
    {
     "name": "stdout",
     "output_type": "stream",
     "text": [
      "Server-side evaluation loss 0.03391737797681023 / accuracy 73.70936584472656\n"
     ]
    },
    {
     "name": "stderr",
     "output_type": "stream",
     "text": [
      "\u001b[92mINFO \u001b[0m:      aggregate_evaluate: received 2 results and 0 failures\n",
      "\u001b[92mINFO \u001b[0m:      \n",
      "\u001b[92mINFO \u001b[0m:      [ROUND 12]\n",
      "\u001b[92mINFO \u001b[0m:      configure_fit: strategy sampled 4 clients (out of 4)\n"
     ]
    },
    {
     "name": "stdout",
     "output_type": "stream",
     "text": [
      "\u001b[2m\u001b[36m(ClientAppActor pid=1215791)\u001b[0m \u001b[32m [repeated 93x across cluster]\u001b[0m\n",
      "\u001b[2m\u001b[36m(ClientAppActor pid=1215791)\u001b[0m Epoch 66/100\u001b[32m [repeated 93x across cluster]\u001b[0m\n",
      "\u001b[2m\u001b[36m(ClientAppActor pid=1215791)\u001b[0m Epoch 65: Training accuracy: 84.95260620117188 Testing accuracy: 73.11320495605469.\u001b[32m [repeated 92x across cluster]\u001b[0m\n",
      "\u001b[2m\u001b[36m(ClientAppActor pid=1215791)\u001b[0m \u001b[32m [repeated 238x across cluster]\u001b[0m\n",
      "\u001b[2m\u001b[36m(ClientAppActor pid=1215791)\u001b[0m Epoch 84/100\u001b[32m [repeated 238x across cluster]\u001b[0m\n",
      "\u001b[2m\u001b[36m(ClientAppActor pid=1215791)\u001b[0m Epoch 83: Training accuracy: 71.6593246459961 Testing accuracy: 70.1754379272461.\u001b[32m [repeated 238x across cluster]\u001b[0m\n",
      "\u001b[2m\u001b[36m(ClientAppActor pid=1215792)\u001b[0m \u001b[32m [repeated 55x across cluster]\u001b[0m\n",
      "\u001b[2m\u001b[36m(ClientAppActor pid=1215792)\u001b[0m Epoch 63/100\u001b[32m [repeated 55x across cluster]\u001b[0m\n",
      "\u001b[2m\u001b[36m(ClientAppActor pid=1215792)\u001b[0m Epoch 62: Training accuracy: 72.89855194091797 Testing accuracy: 69.94219970703125.\u001b[32m [repeated 56x across cluster]\u001b[0m\n",
      "\u001b[2m\u001b[36m(ClientAppActor pid=1215792)\u001b[0m \u001b[32m [repeated 18x across cluster]\u001b[0m\n",
      "\u001b[2m\u001b[36m(ClientAppActor pid=1215792)\u001b[0m Epoch 81/100\u001b[32m [repeated 18x across cluster]\u001b[0m\n",
      "\u001b[2m\u001b[36m(ClientAppActor pid=1215792)\u001b[0m Epoch 80: Training accuracy: 84.34782409667969 Testing accuracy: 74.56647491455078.\u001b[32m [repeated 18x across cluster]\u001b[0m\n"
     ]
    },
    {
     "name": "stderr",
     "output_type": "stream",
     "text": [
      "\u001b[92mINFO \u001b[0m:      aggregate_fit: received 4 results and 0 failures\n",
      "\u001b[92mINFO \u001b[0m:      fit progress: (12, 0.0341080532354467, {'accuracy': tensor(74.2830, device='cuda:0')}, 591.3511005089968)\n",
      "\u001b[92mINFO \u001b[0m:      configure_evaluate: strategy sampled 2 clients (out of 4)\n"
     ]
    },
    {
     "name": "stdout",
     "output_type": "stream",
     "text": [
      "Server-side evaluation loss 0.0341080532354467 / accuracy 74.2829818725586\n"
     ]
    },
    {
     "name": "stderr",
     "output_type": "stream",
     "text": [
      "\u001b[92mINFO \u001b[0m:      aggregate_evaluate: received 2 results and 0 failures\n",
      "\u001b[92mINFO \u001b[0m:      \n",
      "\u001b[92mINFO \u001b[0m:      [ROUND 13]\n",
      "\u001b[92mINFO \u001b[0m:      configure_fit: strategy sampled 4 clients (out of 4)\n"
     ]
    },
    {
     "name": "stdout",
     "output_type": "stream",
     "text": [
      "\u001b[2m\u001b[36m(ClientAppActor pid=1215791)\u001b[0m \u001b[32m [repeated 20x across cluster]\u001b[0m\n",
      "\u001b[2m\u001b[36m(ClientAppActor pid=1215791)\u001b[0m Epoch 1/100\u001b[32m [repeated 20x across cluster]\u001b[0m\n",
      "\u001b[2m\u001b[36m(ClientAppActor pid=1215792)\u001b[0m Epoch 100: Training accuracy: 86.81159210205078 Testing accuracy: 74.56647491455078.\u001b[32m [repeated 20x across cluster]\u001b[0m\n",
      "\u001b[2m\u001b[36m(ClientAppActor pid=1215791)\u001b[0m \u001b[32m [repeated 57x across cluster]\u001b[0m\n",
      "\u001b[2m\u001b[36m(ClientAppActor pid=1215791)\u001b[0m Epoch 41/100\u001b[32m [repeated 57x across cluster]\u001b[0m\n",
      "\u001b[2m\u001b[36m(ClientAppActor pid=1215791)\u001b[0m Epoch 40: Training accuracy: 85.79710388183594 Testing accuracy: 77.45664978027344.\u001b[32m [repeated 56x across cluster]\u001b[0m\n",
      "\u001b[2m\u001b[36m(ClientAppActor pid=1215791)\u001b[0m \u001b[32m [repeated 53x across cluster]\u001b[0m\n",
      "\u001b[2m\u001b[36m(ClientAppActor pid=1215791)\u001b[0m Epoch 77/100\u001b[32m [repeated 53x across cluster]\u001b[0m\n",
      "\u001b[2m\u001b[36m(ClientAppActor pid=1215791)\u001b[0m Epoch 76: Training accuracy: 85.79710388183594 Testing accuracy: 75.1445083618164.\u001b[32m [repeated 53x across cluster]\u001b[0m\n",
      "\u001b[2m\u001b[36m(ClientAppActor pid=1215792)\u001b[0m \u001b[32m [repeated 48x across cluster]\u001b[0m\n",
      "\u001b[2m\u001b[36m(ClientAppActor pid=1215792)\u001b[0m Epoch 50/100\u001b[32m [repeated 48x across cluster]\u001b[0m\n",
      "\u001b[2m\u001b[36m(ClientAppActor pid=1215792)\u001b[0m Epoch 49: Training accuracy: 84.59715270996094 Testing accuracy: 75.47169494628906.\u001b[32m [repeated 48x across cluster]\u001b[0m\n",
      "\u001b[2m\u001b[36m(ClientAppActor pid=1215791)\u001b[0m \u001b[32m [repeated 53x across cluster]\u001b[0m\n",
      "\u001b[2m\u001b[36m(ClientAppActor pid=1215791)\u001b[0m Epoch 46/100\u001b[32m [repeated 53x across cluster]\u001b[0m\n",
      "\u001b[2m\u001b[36m(ClientAppActor pid=1215791)\u001b[0m Epoch 45: Training accuracy: 83.3594970703125 Testing accuracy: 79.375.\u001b[32m [repeated 53x across cluster]\u001b[0m\n",
      "\u001b[2m\u001b[36m(ClientAppActor pid=1215791)\u001b[0m \u001b[32m [repeated 135x across cluster]\u001b[0m\n",
      "\u001b[2m\u001b[36m(ClientAppActor pid=1215791)\u001b[0m Epoch 62/100\u001b[32m [repeated 135x across cluster]\u001b[0m\n",
      "\u001b[2m\u001b[36m(ClientAppActor pid=1215791)\u001b[0m Epoch 61: Training accuracy: 83.55359649658203 Testing accuracy: 75.4385986328125.\u001b[32m [repeated 135x across cluster]\u001b[0m\n"
     ]
    },
    {
     "name": "stderr",
     "output_type": "stream",
     "text": [
      "\u001b[92mINFO \u001b[0m:      aggregate_fit: received 4 results and 0 failures\n",
      "\u001b[92mINFO \u001b[0m:      fit progress: (13, 0.03445644238415886, {'accuracy': tensor(73.9962, device='cuda:0')}, 619.2137510290049)\n",
      "\u001b[92mINFO \u001b[0m:      configure_evaluate: strategy sampled 2 clients (out of 4)\n"
     ]
    },
    {
     "name": "stdout",
     "output_type": "stream",
     "text": [
      "Server-side evaluation loss 0.03445644238415886 / accuracy 73.99617767333984\n"
     ]
    },
    {
     "name": "stderr",
     "output_type": "stream",
     "text": [
      "\u001b[92mINFO \u001b[0m:      aggregate_evaluate: received 2 results and 0 failures\n",
      "\u001b[92mINFO \u001b[0m:      \n",
      "\u001b[92mINFO \u001b[0m:      [ROUND 14]\n",
      "\u001b[92mINFO \u001b[0m:      configure_fit: strategy sampled 4 clients (out of 4)\n"
     ]
    },
    {
     "name": "stdout",
     "output_type": "stream",
     "text": [
      "\u001b[2m\u001b[36m(ClientAppActor pid=1215791)\u001b[0m \u001b[32m [repeated 72x across cluster]\u001b[0m\n",
      "\u001b[2m\u001b[36m(ClientAppActor pid=1215791)\u001b[0m Epoch 11/100\u001b[32m [repeated 72x across cluster]\u001b[0m\n",
      "\u001b[2m\u001b[36m(ClientAppActor pid=1215791)\u001b[0m Epoch 10: Training accuracy: 80.9104232788086 Testing accuracy: 73.09941864013672.\u001b[32m [repeated 72x across cluster]\u001b[0m\n",
      "\u001b[2m\u001b[36m(ClientAppActor pid=1215791)\u001b[0m \u001b[32m [repeated 44x across cluster]\u001b[0m\n",
      "\u001b[2m\u001b[36m(ClientAppActor pid=1215791)\u001b[0m Epoch 37/100\u001b[32m [repeated 44x across cluster]\u001b[0m\n",
      "\u001b[2m\u001b[36m(ClientAppActor pid=1215791)\u001b[0m Epoch 36: Training accuracy: 81.64463806152344 Testing accuracy: 76.60818481445312.\u001b[32m [repeated 44x across cluster]\u001b[0m\n",
      "\u001b[2m\u001b[36m(ClientAppActor pid=1215791)\u001b[0m \u001b[32m [repeated 47x across cluster]\u001b[0m\n",
      "\u001b[2m\u001b[36m(ClientAppActor pid=1215791)\u001b[0m Epoch 67/100\u001b[32m [repeated 47x across cluster]\u001b[0m\n",
      "\u001b[2m\u001b[36m(ClientAppActor pid=1215791)\u001b[0m Epoch 66: Training accuracy: 83.84728240966797 Testing accuracy: 74.26900482177734.\u001b[32m [repeated 47x across cluster]\u001b[0m\n",
      "\u001b[2m\u001b[36m(ClientAppActor pid=1215791)\u001b[0m \u001b[32m [repeated 27x across cluster]\u001b[0m\n",
      "\u001b[2m\u001b[36m(ClientAppActor pid=1215791)\u001b[0m Epoch 82/100\u001b[32m [repeated 27x across cluster]\u001b[0m\n",
      "\u001b[2m\u001b[36m(ClientAppActor pid=1215791)\u001b[0m Epoch 81: Training accuracy: 83.11306762695312 Testing accuracy: 76.02339172363281.\u001b[32m [repeated 27x across cluster]\u001b[0m\n",
      "\u001b[2m\u001b[36m(ClientAppActor pid=1215792)\u001b[0m \u001b[32m [repeated 29x across cluster]\u001b[0m\n",
      "\u001b[2m\u001b[36m(ClientAppActor pid=1215792)\u001b[0m Epoch 68/100\u001b[32m [repeated 29x across cluster]\u001b[0m\n",
      "\u001b[2m\u001b[36m(ClientAppActor pid=1215792)\u001b[0m Epoch 67: Training accuracy: 81.8840560913086 Testing accuracy: 73.41040802001953.\u001b[32m [repeated 29x across cluster]\u001b[0m\n",
      "\u001b[2m\u001b[36m(ClientAppActor pid=1215791)\u001b[0m \u001b[32m [repeated 21x across cluster]\u001b[0m\n",
      "\u001b[2m\u001b[36m(ClientAppActor pid=1215791)\u001b[0m Epoch 9/100\u001b[32m [repeated 21x across cluster]\u001b[0m\n",
      "\u001b[2m\u001b[36m(ClientAppActor pid=1215791)\u001b[0m Epoch 8: Training accuracy: 77.60663604736328 Testing accuracy: 71.2264175415039.\u001b[32m [repeated 21x across cluster]\u001b[0m\n",
      "\u001b[2m\u001b[36m(ClientAppActor pid=1215792)\u001b[0m \u001b[32m [repeated 26x across cluster]\u001b[0m\n",
      "\u001b[2m\u001b[36m(ClientAppActor pid=1215792)\u001b[0m Epoch 91/100\u001b[32m [repeated 26x across cluster]\u001b[0m\n",
      "\u001b[2m\u001b[36m(ClientAppActor pid=1215792)\u001b[0m Epoch 90: Training accuracy: 85.94203186035156 Testing accuracy: 71.67630004882812.\u001b[32m [repeated 26x across cluster]\u001b[0m\n",
      "\u001b[2m\u001b[36m(ClientAppActor pid=1215791)\u001b[0m \u001b[32m [repeated 22x across cluster]\u001b[0m\n",
      "\u001b[2m\u001b[36m(ClientAppActor pid=1215791)\u001b[0m Epoch 35/100\u001b[32m [repeated 22x across cluster]\u001b[0m\n",
      "\u001b[2m\u001b[36m(ClientAppActor pid=1215791)\u001b[0m Epoch 34: Training accuracy: 84.83412170410156 Testing accuracy: 75.94339752197266.\u001b[32m [repeated 23x across cluster]\u001b[0m\n",
      "\u001b[2m\u001b[36m(ClientAppActor pid=1215792)\u001b[0m \u001b[32m [repeated 24x across cluster]\u001b[0m\n",
      "\u001b[2m\u001b[36m(ClientAppActor pid=1215792)\u001b[0m Epoch 14/100\u001b[32m [repeated 24x across cluster]\u001b[0m\n",
      "\u001b[2m\u001b[36m(ClientAppActor pid=1215792)\u001b[0m Epoch 13: Training accuracy: 82.57456970214844 Testing accuracy: 79.375.\u001b[32m [repeated 23x across cluster]\u001b[0m\n",
      "\u001b[2m\u001b[36m(ClientAppActor pid=1215791)\u001b[0m \u001b[32m [repeated 24x across cluster]\u001b[0m\n",
      "\u001b[2m\u001b[36m(ClientAppActor pid=1215791)\u001b[0m Epoch 59/100\u001b[32m [repeated 24x across cluster]\u001b[0m\n",
      "\u001b[2m\u001b[36m(ClientAppActor pid=1215791)\u001b[0m Epoch 58: Training accuracy: 86.01895904541016 Testing accuracy: 75.47169494628906.\u001b[32m [repeated 24x across cluster]\u001b[0m\n",
      "\u001b[2m\u001b[36m(ClientAppActor pid=1215791)\u001b[0m \u001b[32m [repeated 27x across cluster]\u001b[0m\n",
      "\u001b[2m\u001b[36m(ClientAppActor pid=1215791)\u001b[0m Epoch 72/100\u001b[32m [repeated 27x across cluster]\u001b[0m\n",
      "\u001b[2m\u001b[36m(ClientAppActor pid=1215791)\u001b[0m Epoch 71: Training accuracy: 80.9241714477539 Testing accuracy: 69.81131744384766.\u001b[32m [repeated 27x across cluster]\u001b[0m\n",
      "\u001b[2m\u001b[36m(ClientAppActor pid=1215791)\u001b[0m \u001b[32m [repeated 21x across cluster]\u001b[0m\n",
      "\u001b[2m\u001b[36m(ClientAppActor pid=1215791)\u001b[0m Epoch 82/100\u001b[32m [repeated 21x across cluster]\u001b[0m\n",
      "\u001b[2m\u001b[36m(ClientAppActor pid=1215791)\u001b[0m Epoch 81: Training accuracy: 81.39810180664062 Testing accuracy: 70.28302001953125.\u001b[32m [repeated 21x across cluster]\u001b[0m\n",
      "\u001b[2m\u001b[36m(ClientAppActor pid=1215791)\u001b[0m \u001b[32m [repeated 25x across cluster]\u001b[0m\n",
      "\u001b[2m\u001b[36m(ClientAppActor pid=1215791)\u001b[0m Epoch 95/100\u001b[32m [repeated 25x across cluster]\u001b[0m\n",
      "\u001b[2m\u001b[36m(ClientAppActor pid=1215791)\u001b[0m Epoch 94: Training accuracy: 84.47867584228516 Testing accuracy: 70.75471496582031.\u001b[32m [repeated 25x across cluster]\u001b[0m\n",
      "\u001b[2m\u001b[36m(ClientAppActor pid=1215792)\u001b[0m \u001b[32m [repeated 18x across cluster]\u001b[0m\n",
      "\u001b[2m\u001b[36m(ClientAppActor pid=1215792)\u001b[0m Epoch 74/100\u001b[32m [repeated 18x across cluster]\u001b[0m\n",
      "\u001b[2m\u001b[36m(ClientAppActor pid=1215792)\u001b[0m Epoch 73: Training accuracy: 85.71428680419922 Testing accuracy: 78.125.\u001b[32m [repeated 19x across cluster]\u001b[0m\n",
      "\u001b[2m\u001b[36m(ClientAppActor pid=1215792)\u001b[0m \u001b[32m [repeated 17x across cluster]\u001b[0m\n",
      "\u001b[2m\u001b[36m(ClientAppActor pid=1215792)\u001b[0m Epoch 91/100\u001b[32m [repeated 17x across cluster]\u001b[0m\n",
      "\u001b[2m\u001b[36m(ClientAppActor pid=1215792)\u001b[0m Epoch 90: Training accuracy: 83.04552459716797 Testing accuracy: 76.25.\u001b[32m [repeated 17x across cluster]\u001b[0m\n"
     ]
    },
    {
     "name": "stderr",
     "output_type": "stream",
     "text": [
      "\u001b[92mINFO \u001b[0m:      aggregate_fit: received 4 results and 0 failures\n",
      "\u001b[92mINFO \u001b[0m:      fit progress: (14, 0.034759381238152, {'accuracy': tensor(72.5621, device='cuda:0')}, 698.7685244870081)\n",
      "\u001b[92mINFO \u001b[0m:      configure_evaluate: strategy sampled 2 clients (out of 4)\n"
     ]
    },
    {
     "name": "stdout",
     "output_type": "stream",
     "text": [
      "Server-side evaluation loss 0.034759381238152 / accuracy 72.56214141845703\n"
     ]
    },
    {
     "name": "stderr",
     "output_type": "stream",
     "text": [
      "\u001b[92mINFO \u001b[0m:      aggregate_evaluate: received 2 results and 0 failures\n",
      "\u001b[92mINFO \u001b[0m:      \n",
      "\u001b[92mINFO \u001b[0m:      [ROUND 15]\n",
      "\u001b[92mINFO \u001b[0m:      configure_fit: strategy sampled 4 clients (out of 4)\n"
     ]
    },
    {
     "name": "stdout",
     "output_type": "stream",
     "text": [
      "\u001b[2m\u001b[36m(ClientAppActor pid=1215791)\u001b[0m \u001b[32m [repeated 49x across cluster]\u001b[0m\n",
      "\u001b[2m\u001b[36m(ClientAppActor pid=1215791)\u001b[0m Epoch 38/100\u001b[32m [repeated 49x across cluster]\u001b[0m\n",
      "\u001b[2m\u001b[36m(ClientAppActor pid=1215791)\u001b[0m Epoch 37: Training accuracy: 85.36231994628906 Testing accuracy: 74.56647491455078.\u001b[32m [repeated 48x across cluster]\u001b[0m\n",
      "\u001b[2m\u001b[36m(ClientAppActor pid=1215791)\u001b[0m \u001b[32m [repeated 233x across cluster]\u001b[0m\n",
      "\u001b[2m\u001b[36m(ClientAppActor pid=1215791)\u001b[0m Epoch 35/100\u001b[32m [repeated 233x across cluster]\u001b[0m\n",
      "\u001b[2m\u001b[36m(ClientAppActor pid=1215791)\u001b[0m Epoch 34: Training accuracy: 84.3014144897461 Testing accuracy: 78.75.\u001b[32m [repeated 233x across cluster]\u001b[0m\n",
      "\u001b[2m\u001b[36m(ClientAppActor pid=1215792)\u001b[0m \u001b[32m [repeated 118x across cluster]\u001b[0m\n",
      "\u001b[2m\u001b[36m(ClientAppActor pid=1215792)\u001b[0m Epoch 91/100\u001b[32m [repeated 118x across cluster]\u001b[0m\n",
      "\u001b[2m\u001b[36m(ClientAppActor pid=1215792)\u001b[0m Epoch 90: Training accuracy: 84.43465423583984 Testing accuracy: 73.68421173095703.\u001b[32m [repeated 119x across cluster]\u001b[0m\n"
     ]
    },
    {
     "name": "stderr",
     "output_type": "stream",
     "text": [
      "\u001b[92mINFO \u001b[0m:      aggregate_fit: received 4 results and 0 failures\n",
      "\u001b[92mINFO \u001b[0m:      fit progress: (15, 0.033119808225070727, {'accuracy': tensor(74.6654, device='cuda:0')}, 713.6637654020014)\n",
      "\u001b[92mINFO \u001b[0m:      configure_evaluate: strategy sampled 2 clients (out of 4)\n"
     ]
    },
    {
     "name": "stdout",
     "output_type": "stream",
     "text": [
      "Server-side evaluation loss 0.033119808225070727 / accuracy 74.66539001464844\n"
     ]
    },
    {
     "name": "stderr",
     "output_type": "stream",
     "text": [
      "\u001b[92mINFO \u001b[0m:      aggregate_evaluate: received 2 results and 0 failures\n",
      "\u001b[92mINFO \u001b[0m:      \n",
      "\u001b[92mINFO \u001b[0m:      [ROUND 16]\n",
      "\u001b[92mINFO \u001b[0m:      configure_fit: strategy sampled 4 clients (out of 4)\n"
     ]
    },
    {
     "name": "stdout",
     "output_type": "stream",
     "text": [
      "\u001b[2m\u001b[36m(ClientAppActor pid=1215792)\u001b[0m \u001b[32m [repeated 25x across cluster]\u001b[0m\n",
      "\u001b[2m\u001b[36m(ClientAppActor pid=1215792)\u001b[0m Epoch 10/100\u001b[32m [repeated 25x across cluster]\u001b[0m\n",
      "\u001b[2m\u001b[36m(ClientAppActor pid=1215792)\u001b[0m Epoch 9: Training accuracy: 82.3459701538086 Testing accuracy: 75.94339752197266.\u001b[32m [repeated 24x across cluster]\u001b[0m\n",
      "\u001b[2m\u001b[36m(ClientAppActor pid=1215791)\u001b[0m \u001b[32m [repeated 49x across cluster]\u001b[0m\n",
      "\u001b[2m\u001b[36m(ClientAppActor pid=1215791)\u001b[0m Epoch 42/100\u001b[32m [repeated 49x across cluster]\u001b[0m\n",
      "\u001b[2m\u001b[36m(ClientAppActor pid=1215791)\u001b[0m Epoch 41: Training accuracy: 75.18355560302734 Testing accuracy: 68.42105102539062.\u001b[32m [repeated 49x across cluster]\u001b[0m\n",
      "\u001b[2m\u001b[36m(ClientAppActor pid=1215791)\u001b[0m \u001b[32m [repeated 57x across cluster]\u001b[0m\n",
      "\u001b[2m\u001b[36m(ClientAppActor pid=1215791)\u001b[0m Epoch 82/100\u001b[32m [repeated 57x across cluster]\u001b[0m\n",
      "\u001b[2m\u001b[36m(ClientAppActor pid=1215791)\u001b[0m Epoch 81: Training accuracy: 83.700439453125 Testing accuracy: 75.4385986328125.\u001b[32m [repeated 57x across cluster]\u001b[0m\n",
      "\u001b[2m\u001b[36m(ClientAppActor pid=1215791)\u001b[0m \u001b[32m [repeated 51x across cluster]\u001b[0m\n",
      "\u001b[2m\u001b[36m(ClientAppActor pid=1215791)\u001b[0m Epoch 16/100\u001b[32m [repeated 51x across cluster]\u001b[0m\n",
      "\u001b[2m\u001b[36m(ClientAppActor pid=1215791)\u001b[0m Epoch 15: Training accuracy: 82.88854217529297 Testing accuracy: 76.25.\u001b[32m [repeated 51x across cluster]\u001b[0m\n",
      "\u001b[2m\u001b[36m(ClientAppActor pid=1215791)\u001b[0m \u001b[32m [repeated 50x across cluster]\u001b[0m\n",
      "\u001b[2m\u001b[36m(ClientAppActor pid=1215791)\u001b[0m Epoch 50/100\u001b[32m [repeated 50x across cluster]\u001b[0m\n",
      "\u001b[2m\u001b[36m(ClientAppActor pid=1215791)\u001b[0m Epoch 49: Training accuracy: 80.37676239013672 Testing accuracy: 75.0.\u001b[32m [repeated 50x across cluster]\u001b[0m\n",
      "\u001b[2m\u001b[36m(ClientAppActor pid=1215791)\u001b[0m \u001b[32m [repeated 52x across cluster]\u001b[0m\n",
      "\u001b[2m\u001b[36m(ClientAppActor pid=1215791)\u001b[0m Epoch 86/100\u001b[32m [repeated 52x across cluster]\u001b[0m\n",
      "\u001b[2m\u001b[36m(ClientAppActor pid=1215791)\u001b[0m Epoch 85: Training accuracy: 85.08634185791016 Testing accuracy: 78.75.\u001b[32m [repeated 52x across cluster]\u001b[0m\n",
      "\u001b[2m\u001b[36m(ClientAppActor pid=1215791)\u001b[0m \u001b[32m [repeated 119x across cluster]\u001b[0m\n",
      "\u001b[2m\u001b[36m(ClientAppActor pid=1215791)\u001b[0m Epoch 94/100\u001b[32m [repeated 119x across cluster]\u001b[0m\n",
      "\u001b[2m\u001b[36m(ClientAppActor pid=1215791)\u001b[0m Epoch 93: Training accuracy: 82.17391204833984 Testing accuracy: 71.0982666015625.\u001b[32m [repeated 120x across cluster]\u001b[0m\n"
     ]
    },
    {
     "name": "stderr",
     "output_type": "stream",
     "text": [
      "\u001b[92mINFO \u001b[0m:      aggregate_fit: received 4 results and 0 failures\n",
      "\u001b[92mINFO \u001b[0m:      fit progress: (16, 0.03367615797940422, {'accuracy': tensor(73.9006, device='cuda:0')}, 745.7568334149983)\n",
      "\u001b[92mINFO \u001b[0m:      configure_evaluate: strategy sampled 2 clients (out of 4)\n",
      "\u001b[92mINFO \u001b[0m:      aggregate_evaluate: received 2 results and 0 failures\n",
      "\u001b[92mINFO \u001b[0m:      \n",
      "\u001b[92mINFO \u001b[0m:      [ROUND 17]\n",
      "\u001b[92mINFO \u001b[0m:      configure_fit: strategy sampled 4 clients (out of 4)\n"
     ]
    },
    {
     "name": "stdout",
     "output_type": "stream",
     "text": [
      "Server-side evaluation loss 0.03367615797940422 / accuracy 73.90057373046875\n",
      "\u001b[2m\u001b[36m(ClientAppActor pid=1215791)\u001b[0m \u001b[32m [repeated 325x across cluster]\u001b[0m\n",
      "\u001b[2m\u001b[36m(ClientAppActor pid=1215791)\u001b[0m Epoch 42/100\u001b[32m [repeated 325x across cluster]\u001b[0m\n",
      "\u001b[2m\u001b[36m(ClientAppActor pid=1215791)\u001b[0m Epoch 41: Training accuracy: 86.25592041015625 Testing accuracy: 74.52830505371094.\u001b[32m [repeated 324x across cluster]\u001b[0m\n",
      "\u001b[2m\u001b[36m(ClientAppActor pid=1215791)\u001b[0m \u001b[32m [repeated 43x across cluster]\u001b[0m\n",
      "\u001b[2m\u001b[36m(ClientAppActor pid=1215791)\u001b[0m Epoch 62/100\u001b[32m [repeated 43x across cluster]\u001b[0m\n",
      "\u001b[2m\u001b[36m(ClientAppActor pid=1215791)\u001b[0m Epoch 61: Training accuracy: 85.4265365600586 Testing accuracy: 74.52830505371094.\u001b[32m [repeated 44x across cluster]\u001b[0m\n",
      "\u001b[2m\u001b[36m(ClientAppActor pid=1215791)\u001b[0m \u001b[32m [repeated 11x across cluster]\u001b[0m\n",
      "\u001b[2m\u001b[36m(ClientAppActor pid=1215791)\u001b[0m Epoch 73/100\u001b[32m [repeated 11x across cluster]\u001b[0m\n",
      "\u001b[2m\u001b[36m(ClientAppActor pid=1215791)\u001b[0m Epoch 72: Training accuracy: 86.96682739257812 Testing accuracy: 74.52830505371094.\u001b[32m [repeated 11x across cluster]\u001b[0m\n",
      "\u001b[2m\u001b[36m(ClientAppActor pid=1215791)\u001b[0m \u001b[32m [repeated 12x across cluster]\u001b[0m\n",
      "\u001b[2m\u001b[36m(ClientAppActor pid=1215791)\u001b[0m Epoch 85/100\u001b[32m [repeated 12x across cluster]\u001b[0m\n",
      "\u001b[2m\u001b[36m(ClientAppActor pid=1215791)\u001b[0m Epoch 84: Training accuracy: 87.0853042602539 Testing accuracy: 75.0.\u001b[32m [repeated 12x across cluster]\u001b[0m\n",
      "\u001b[2m\u001b[36m(ClientAppActor pid=1215791)\u001b[0m \u001b[32m [repeated 13x across cluster]\u001b[0m\n",
      "\u001b[2m\u001b[36m(ClientAppActor pid=1215791)\u001b[0m Epoch 98/100\u001b[32m [repeated 13x across cluster]\u001b[0m\n",
      "\u001b[2m\u001b[36m(ClientAppActor pid=1215791)\u001b[0m Epoch 97: Training accuracy: 84.83412170410156 Testing accuracy: 74.05660247802734.\u001b[32m [repeated 13x across cluster]\u001b[0m\n"
     ]
    },
    {
     "name": "stderr",
     "output_type": "stream",
     "text": [
      "\u001b[92mINFO \u001b[0m:      aggregate_fit: received 4 results and 0 failures\n",
      "\u001b[92mINFO \u001b[0m:      fit progress: (17, 0.03439816306619083, {'accuracy': tensor(73.7094, device='cuda:0')}, 772.9867450949969)\n",
      "\u001b[92mINFO \u001b[0m:      configure_evaluate: strategy sampled 2 clients (out of 4)\n"
     ]
    },
    {
     "name": "stdout",
     "output_type": "stream",
     "text": [
      "Server-side evaluation loss 0.03439816306619083 / accuracy 73.70936584472656\n"
     ]
    },
    {
     "name": "stderr",
     "output_type": "stream",
     "text": [
      "\u001b[92mINFO \u001b[0m:      aggregate_evaluate: received 2 results and 0 failures\n",
      "\u001b[92mINFO \u001b[0m:      \n",
      "\u001b[92mINFO \u001b[0m:      [ROUND 18]\n",
      "\u001b[92mINFO \u001b[0m:      configure_fit: strategy sampled 4 clients (out of 4)\n"
     ]
    },
    {
     "name": "stdout",
     "output_type": "stream",
     "text": [
      "\u001b[2m\u001b[36m(ClientAppActor pid=1215791)\u001b[0m \u001b[32m [repeated 15x across cluster]\u001b[0m\n",
      "\u001b[2m\u001b[36m(ClientAppActor pid=1215791)\u001b[0m Epoch 8/100\u001b[32m [repeated 15x across cluster]\u001b[0m\n",
      "\u001b[2m\u001b[36m(ClientAppActor pid=1215791)\u001b[0m Epoch 7: Training accuracy: 81.78964233398438 Testing accuracy: 75.625.\u001b[32m [repeated 14x across cluster]\u001b[0m\n",
      "\u001b[2m\u001b[36m(ClientAppActor pid=1215791)\u001b[0m \u001b[32m [repeated 26x across cluster]\u001b[0m\n",
      "\u001b[2m\u001b[36m(ClientAppActor pid=1215791)\u001b[0m Epoch 26/100\u001b[32m [repeated 26x across cluster]\u001b[0m\n",
      "\u001b[2m\u001b[36m(ClientAppActor pid=1215791)\u001b[0m Epoch 25: Training accuracy: 80.21977996826172 Testing accuracy: 74.375.\u001b[32m [repeated 26x across cluster]\u001b[0m\n",
      "\u001b[2m\u001b[36m(ClientAppActor pid=1215791)\u001b[0m \u001b[32m [repeated 27x across cluster]\u001b[0m\n",
      "\u001b[2m\u001b[36m(ClientAppActor pid=1215791)\u001b[0m Epoch 42/100\u001b[32m [repeated 27x across cluster]\u001b[0m\n",
      "\u001b[2m\u001b[36m(ClientAppActor pid=1215791)\u001b[0m Epoch 41: Training accuracy: 82.2605972290039 Testing accuracy: 75.625.\u001b[32m [repeated 27x across cluster]\u001b[0m\n",
      "\u001b[2m\u001b[36m(ClientAppActor pid=1215791)\u001b[0m \u001b[32m [repeated 26x across cluster]\u001b[0m\n",
      "\u001b[2m\u001b[36m(ClientAppActor pid=1215791)\u001b[0m Epoch 57/100\u001b[32m [repeated 26x across cluster]\u001b[0m\n",
      "\u001b[2m\u001b[36m(ClientAppActor pid=1215791)\u001b[0m Epoch 56: Training accuracy: 85.40031433105469 Testing accuracy: 78.75.\u001b[32m [repeated 26x across cluster]\u001b[0m\n",
      "\u001b[2m\u001b[36m(ClientAppActor pid=1215791)\u001b[0m \u001b[32m [repeated 28x across cluster]\u001b[0m\n",
      "\u001b[2m\u001b[36m(ClientAppActor pid=1215791)\u001b[0m Epoch 74/100\u001b[32m [repeated 28x across cluster]\u001b[0m\n",
      "\u001b[2m\u001b[36m(ClientAppActor pid=1215791)\u001b[0m Epoch 73: Training accuracy: 85.87126922607422 Testing accuracy: 77.5.\u001b[32m [repeated 28x across cluster]\u001b[0m\n",
      "\u001b[2m\u001b[36m(ClientAppActor pid=1215791)\u001b[0m \u001b[32m [repeated 27x across cluster]\u001b[0m\n",
      "\u001b[2m\u001b[36m(ClientAppActor pid=1215791)\u001b[0m Epoch 89/100\u001b[32m [repeated 27x across cluster]\u001b[0m\n",
      "\u001b[2m\u001b[36m(ClientAppActor pid=1215791)\u001b[0m Epoch 88: Training accuracy: 84.92935943603516 Testing accuracy: 76.875.\u001b[32m [repeated 27x across cluster]\u001b[0m\n",
      "\u001b[2m\u001b[36m(ClientAppActor pid=1215791)\u001b[0m \u001b[32m [repeated 30x across cluster]\u001b[0m\n",
      "\u001b[2m\u001b[36m(ClientAppActor pid=1215791)\u001b[0m Epoch 8/100\u001b[32m [repeated 30x across cluster]\u001b[0m\n",
      "\u001b[2m\u001b[36m(ClientAppActor pid=1215791)\u001b[0m Epoch 7: Training accuracy: 82.31884002685547 Testing accuracy: 73.41040802001953.\u001b[32m [repeated 30x across cluster]\u001b[0m\n",
      "\u001b[2m\u001b[36m(ClientAppActor pid=1215791)\u001b[0m \u001b[32m [repeated 31x across cluster]\u001b[0m\n",
      "\u001b[2m\u001b[36m(ClientAppActor pid=1215791)\u001b[0m Epoch 28/100\u001b[32m [repeated 31x across cluster]\u001b[0m\n",
      "\u001b[2m\u001b[36m(ClientAppActor pid=1215791)\u001b[0m Epoch 27: Training accuracy: 86.66666412353516 Testing accuracy: 73.41040802001953.\u001b[32m [repeated 31x across cluster]\u001b[0m\n",
      "\u001b[2m\u001b[36m(ClientAppActor pid=1215791)\u001b[0m \u001b[32m [repeated 69x across cluster]\u001b[0m\n",
      "\u001b[2m\u001b[36m(ClientAppActor pid=1215791)\u001b[0m Epoch 84/100\u001b[32m [repeated 69x across cluster]\u001b[0m\n",
      "\u001b[2m\u001b[36m(ClientAppActor pid=1215791)\u001b[0m Epoch 83: Training accuracy: 86.3768081665039 Testing accuracy: 72.25433349609375.\u001b[32m [repeated 69x across cluster]\u001b[0m\n",
      "\u001b[2m\u001b[36m(ClientAppActor pid=1215792)\u001b[0m \u001b[32m [repeated 72x across cluster]\u001b[0m\n",
      "\u001b[2m\u001b[36m(ClientAppActor pid=1215792)\u001b[0m Epoch 49/100\u001b[32m [repeated 72x across cluster]\u001b[0m\n",
      "\u001b[2m\u001b[36m(ClientAppActor pid=1215792)\u001b[0m Epoch 48: Training accuracy: 84.72834014892578 Testing accuracy: 74.26900482177734.\u001b[32m [repeated 73x across cluster]\u001b[0m\n"
     ]
    },
    {
     "name": "stderr",
     "output_type": "stream",
     "text": [
      "\u001b[92mINFO \u001b[0m:      aggregate_fit: received 4 results and 0 failures\n",
      "\u001b[92mINFO \u001b[0m:      fit progress: (18, 0.033426779157975144, {'accuracy': tensor(74.0918, device='cuda:0')}, 824.5488113949978)\n",
      "\u001b[92mINFO \u001b[0m:      configure_evaluate: strategy sampled 2 clients (out of 4)\n",
      "\u001b[92mINFO \u001b[0m:      aggregate_evaluate: received 2 results and 0 failures\n",
      "\u001b[92mINFO \u001b[0m:      \n",
      "\u001b[92mINFO \u001b[0m:      [ROUND 19]\n",
      "\u001b[92mINFO \u001b[0m:      configure_fit: strategy sampled 4 clients (out of 4)\n"
     ]
    },
    {
     "name": "stdout",
     "output_type": "stream",
     "text": [
      "Server-side evaluation loss 0.033426779157975144 / accuracy 74.09178161621094\n",
      "\u001b[2m\u001b[36m(ClientAppActor pid=1215792)\u001b[0m \u001b[32m [repeated 143x across cluster]\u001b[0m\n",
      "\u001b[2m\u001b[36m(ClientAppActor pid=1215792)\u001b[0m Epoch 51/100\u001b[32m [repeated 143x across cluster]\u001b[0m\n",
      "\u001b[2m\u001b[36m(ClientAppActor pid=1215792)\u001b[0m Epoch 50: Training accuracy: 87.82608795166016 Testing accuracy: 74.56647491455078.\u001b[32m [repeated 142x across cluster]\u001b[0m\n",
      "\u001b[2m\u001b[36m(ClientAppActor pid=1215792)\u001b[0m \u001b[32m [repeated 22x across cluster]\u001b[0m\n",
      "\u001b[2m\u001b[36m(ClientAppActor pid=1215792)\u001b[0m Epoch 62/100\u001b[32m [repeated 22x across cluster]\u001b[0m\n",
      "\u001b[2m\u001b[36m(ClientAppActor pid=1215792)\u001b[0m Epoch 61: Training accuracy: 87.10144805908203 Testing accuracy: 72.25433349609375.\u001b[32m [repeated 22x across cluster]\u001b[0m\n",
      "\u001b[2m\u001b[36m(ClientAppActor pid=1215791)\u001b[0m \u001b[32m [repeated 25x across cluster]\u001b[0m\n",
      "\u001b[2m\u001b[36m(ClientAppActor pid=1215791)\u001b[0m Epoch 65/100\u001b[32m [repeated 25x across cluster]\u001b[0m\n",
      "\u001b[2m\u001b[36m(ClientAppActor pid=1215791)\u001b[0m Epoch 64: Training accuracy: 84.47867584228516 Testing accuracy: 69.3396224975586.\u001b[32m [repeated 25x across cluster]\u001b[0m\n",
      "\u001b[2m\u001b[36m(ClientAppActor pid=1215791)\u001b[0m \u001b[32m [repeated 23x across cluster]\u001b[0m\n",
      "\u001b[2m\u001b[36m(ClientAppActor pid=1215791)\u001b[0m Epoch 78/100\u001b[32m [repeated 23x across cluster]\u001b[0m\n",
      "\u001b[2m\u001b[36m(ClientAppActor pid=1215791)\u001b[0m Epoch 77: Training accuracy: 83.76776885986328 Testing accuracy: 70.28302001953125.\u001b[32m [repeated 23x across cluster]\u001b[0m\n",
      "\u001b[2m\u001b[36m(ClientAppActor pid=1215791)\u001b[0m \u001b[32m [repeated 24x across cluster]\u001b[0m\n",
      "\u001b[2m\u001b[36m(ClientAppActor pid=1215791)\u001b[0m Epoch 89/100\u001b[32m [repeated 24x across cluster]\u001b[0m\n",
      "\u001b[2m\u001b[36m(ClientAppActor pid=1215791)\u001b[0m Epoch 88: Training accuracy: 84.83412170410156 Testing accuracy: 73.11320495605469.\u001b[32m [repeated 24x across cluster]\u001b[0m\n",
      "\u001b[2m\u001b[36m(ClientAppActor pid=1215792)\u001b[0m \u001b[32m [repeated 22x across cluster]\u001b[0m\n",
      "\u001b[2m\u001b[36m(ClientAppActor pid=1215792)\u001b[0m Epoch 8/100\u001b[32m [repeated 22x across cluster]\u001b[0m\n",
      "\u001b[2m\u001b[36m(ClientAppActor pid=1215791)\u001b[0m Epoch 100: Training accuracy: 87.44075775146484 Testing accuracy: 73.58490753173828.\u001b[32m [repeated 23x across cluster]\u001b[0m\n",
      "\u001b[2m\u001b[36m(ClientAppActor pid=1215791)\u001b[0m \u001b[32m [repeated 28x across cluster]\u001b[0m\n",
      "\u001b[2m\u001b[36m(ClientAppActor pid=1215791)\u001b[0m Epoch 16/100\u001b[32m [repeated 28x across cluster]\u001b[0m\n",
      "\u001b[2m\u001b[36m(ClientAppActor pid=1215791)\u001b[0m Epoch 15: Training accuracy: 83.11306762695312 Testing accuracy: 75.4385986328125.\u001b[32m [repeated 27x across cluster]\u001b[0m\n",
      "\u001b[2m\u001b[36m(ClientAppActor pid=1215792)\u001b[0m \u001b[32m [repeated 27x across cluster]\u001b[0m\n",
      "\u001b[2m\u001b[36m(ClientAppActor pid=1215792)\u001b[0m Epoch 33/100\u001b[32m [repeated 27x across cluster]\u001b[0m\n",
      "\u001b[2m\u001b[36m(ClientAppActor pid=1215792)\u001b[0m Epoch 32: Training accuracy: 83.83045196533203 Testing accuracy: 77.5.\u001b[32m [repeated 27x across cluster]\u001b[0m\n",
      "\u001b[2m\u001b[36m(ClientAppActor pid=1215792)\u001b[0m \u001b[32m [repeated 26x across cluster]\u001b[0m\n",
      "\u001b[2m\u001b[36m(ClientAppActor pid=1215792)\u001b[0m Epoch 45/100\u001b[32m [repeated 26x across cluster]\u001b[0m\n",
      "\u001b[2m\u001b[36m(ClientAppActor pid=1215792)\u001b[0m Epoch 44: Training accuracy: 77.39403533935547 Testing accuracy: 70.625.\u001b[32m [repeated 26x across cluster]\u001b[0m\n",
      "\u001b[2m\u001b[36m(ClientAppActor pid=1215791)\u001b[0m \u001b[32m [repeated 27x across cluster]\u001b[0m\n",
      "\u001b[2m\u001b[36m(ClientAppActor pid=1215791)\u001b[0m Epoch 60/100\u001b[32m [repeated 27x across cluster]\u001b[0m\n",
      "\u001b[2m\u001b[36m(ClientAppActor pid=1215791)\u001b[0m Epoch 59: Training accuracy: 85.16886901855469 Testing accuracy: 73.68421173095703.\u001b[32m [repeated 27x across cluster]\u001b[0m\n",
      "\u001b[2m\u001b[36m(ClientAppActor pid=1215791)\u001b[0m \u001b[32m [repeated 27x across cluster]\u001b[0m\n",
      "\u001b[2m\u001b[36m(ClientAppActor pid=1215791)\u001b[0m Epoch 74/100\u001b[32m [repeated 27x across cluster]\u001b[0m\n",
      "\u001b[2m\u001b[36m(ClientAppActor pid=1215791)\u001b[0m Epoch 73: Training accuracy: 85.16886901855469 Testing accuracy: 73.68421173095703.\u001b[32m [repeated 27x across cluster]\u001b[0m\n",
      "\u001b[2m\u001b[36m(ClientAppActor pid=1215792)\u001b[0m \u001b[32m [repeated 27x across cluster]\u001b[0m\n",
      "\u001b[2m\u001b[36m(ClientAppActor pid=1215792)\u001b[0m Epoch 81/100\u001b[32m [repeated 27x across cluster]\u001b[0m\n",
      "\u001b[2m\u001b[36m(ClientAppActor pid=1215792)\u001b[0m Epoch 80: Training accuracy: 84.92935943603516 Testing accuracy: 76.25.\u001b[32m [repeated 27x across cluster]\u001b[0m\n",
      "\u001b[2m\u001b[36m(ClientAppActor pid=1215792)\u001b[0m \u001b[32m [repeated 24x across cluster]\u001b[0m\n",
      "\u001b[2m\u001b[36m(ClientAppActor pid=1215792)\u001b[0m Epoch 94/100\u001b[32m [repeated 24x across cluster]\u001b[0m\n",
      "\u001b[2m\u001b[36m(ClientAppActor pid=1215792)\u001b[0m Epoch 93: Training accuracy: 86.97016906738281 Testing accuracy: 80.0.\u001b[32m [repeated 25x across cluster]\u001b[0m\n"
     ]
    },
    {
     "name": "stderr",
     "output_type": "stream",
     "text": [
      "\u001b[92mINFO \u001b[0m:      aggregate_fit: received 4 results and 0 failures\n",
      "\u001b[92mINFO \u001b[0m:      fit progress: (19, 0.03358770118040197, {'accuracy': tensor(73.5182, device='cuda:0')}, 893.0582553230051)\n",
      "\u001b[92mINFO \u001b[0m:      configure_evaluate: strategy sampled 2 clients (out of 4)\n"
     ]
    },
    {
     "name": "stdout",
     "output_type": "stream",
     "text": [
      "Server-side evaluation loss 0.03358770118040197 / accuracy 73.5181655883789\n"
     ]
    },
    {
     "name": "stderr",
     "output_type": "stream",
     "text": [
      "\u001b[92mINFO \u001b[0m:      aggregate_evaluate: received 2 results and 0 failures\n",
      "\u001b[92mINFO \u001b[0m:      \n",
      "\u001b[92mINFO \u001b[0m:      [ROUND 20]\n",
      "\u001b[92mINFO \u001b[0m:      configure_fit: strategy sampled 4 clients (out of 4)\n"
     ]
    },
    {
     "name": "stdout",
     "output_type": "stream",
     "text": [
      "\u001b[2m\u001b[36m(ClientAppActor pid=1215791)\u001b[0m \u001b[32m [repeated 16x across cluster]\u001b[0m\n",
      "\u001b[2m\u001b[36m(ClientAppActor pid=1215791)\u001b[0m Epoch 7/100\u001b[32m [repeated 16x across cluster]\u001b[0m\n",
      "\u001b[2m\u001b[36m(ClientAppActor pid=1215791)\u001b[0m Epoch 6: Training accuracy: 82.08516693115234 Testing accuracy: 76.02339172363281.\u001b[32m [repeated 15x across cluster]\u001b[0m\n",
      "\u001b[2m\u001b[36m(ClientAppActor pid=1215792)\u001b[0m \u001b[32m [repeated 42x across cluster]\u001b[0m\n",
      "\u001b[2m\u001b[36m(ClientAppActor pid=1215792)\u001b[0m Epoch 22/100\u001b[32m [repeated 42x across cluster]\u001b[0m\n",
      "\u001b[2m\u001b[36m(ClientAppActor pid=1215792)\u001b[0m Epoch 21: Training accuracy: 86.66666412353516 Testing accuracy: 71.67630004882812.\u001b[32m [repeated 42x across cluster]\u001b[0m\n",
      "\u001b[2m\u001b[36m(ClientAppActor pid=1215791)\u001b[0m \u001b[32m [repeated 75x across cluster]\u001b[0m\n",
      "\u001b[2m\u001b[36m(ClientAppActor pid=1215791)\u001b[0m Epoch 55/100\u001b[32m [repeated 75x across cluster]\u001b[0m\n",
      "\u001b[2m\u001b[36m(ClientAppActor pid=1215791)\u001b[0m Epoch 54: Training accuracy: 85.02202606201172 Testing accuracy: 75.4385986328125.\u001b[32m [repeated 75x across cluster]\u001b[0m\n",
      "\u001b[2m\u001b[36m(ClientAppActor pid=1215791)\u001b[0m \u001b[32m [repeated 73x across cluster]\u001b[0m\n",
      "\u001b[2m\u001b[36m(ClientAppActor pid=1215791)\u001b[0m Epoch 92/100\u001b[32m [repeated 73x across cluster]\u001b[0m\n",
      "\u001b[2m\u001b[36m(ClientAppActor pid=1215791)\u001b[0m Epoch 91: Training accuracy: 85.46255493164062 Testing accuracy: 75.4385986328125.\u001b[32m [repeated 73x across cluster]\u001b[0m\n",
      "\u001b[2m\u001b[36m(ClientAppActor pid=1215792)\u001b[0m \u001b[32m [repeated 54x across cluster]\u001b[0m\n",
      "\u001b[2m\u001b[36m(ClientAppActor pid=1215792)\u001b[0m Epoch 30/100\u001b[32m [repeated 54x across cluster]\u001b[0m\n",
      "\u001b[2m\u001b[36m(ClientAppActor pid=1215792)\u001b[0m Epoch 29: Training accuracy: 85.87126922607422 Testing accuracy: 79.375.\u001b[32m [repeated 54x across cluster]\u001b[0m\n",
      "\u001b[2m\u001b[36m(ClientAppActor pid=1215792)\u001b[0m \u001b[32m [repeated 59x across cluster]\u001b[0m\n",
      "\u001b[2m\u001b[36m(ClientAppActor pid=1215792)\u001b[0m Epoch 57/100\u001b[32m [repeated 59x across cluster]\u001b[0m\n",
      "\u001b[2m\u001b[36m(ClientAppActor pid=1215792)\u001b[0m Epoch 56: Training accuracy: 86.81318664550781 Testing accuracy: 80.0.\u001b[32m [repeated 59x across cluster]\u001b[0m\n",
      "\u001b[2m\u001b[36m(ClientAppActor pid=1215792)\u001b[0m \u001b[32m [repeated 55x across cluster]\u001b[0m\n",
      "\u001b[2m\u001b[36m(ClientAppActor pid=1215792)\u001b[0m Epoch 84/100\u001b[32m [repeated 55x across cluster]\u001b[0m\n",
      "\u001b[2m\u001b[36m(ClientAppActor pid=1215792)\u001b[0m Epoch 83: Training accuracy: 86.34223175048828 Testing accuracy: 78.75.\u001b[32m [repeated 55x across cluster]\u001b[0m\n",
      "\u001b[2m\u001b[36m(ClientAppActor pid=1215792)\u001b[0m \u001b[32m [repeated 26x across cluster]\u001b[0m\n",
      "\u001b[2m\u001b[36m(ClientAppActor pid=1215792)\u001b[0m Epoch 96/100\u001b[32m [repeated 26x across cluster]\u001b[0m\n",
      "\u001b[2m\u001b[36m(ClientAppActor pid=1215792)\u001b[0m Epoch 95: Training accuracy: 86.49921417236328 Testing accuracy: 77.5.\u001b[32m [repeated 26x across cluster]\u001b[0m\n"
     ]
    },
    {
     "name": "stderr",
     "output_type": "stream",
     "text": [
      "\u001b[92mINFO \u001b[0m:      aggregate_fit: received 4 results and 0 failures\n",
      "\u001b[92mINFO \u001b[0m:      fit progress: (20, 0.033403589445001935, {'accuracy': tensor(73.5182, device='cuda:0')}, 932.3643001210003)\n",
      "\u001b[92mINFO \u001b[0m:      configure_evaluate: strategy sampled 2 clients (out of 4)\n"
     ]
    },
    {
     "name": "stdout",
     "output_type": "stream",
     "text": [
      "Server-side evaluation loss 0.033403589445001935 / accuracy 73.5181655883789\n"
     ]
    },
    {
     "name": "stderr",
     "output_type": "stream",
     "text": [
      "\u001b[92mINFO \u001b[0m:      aggregate_evaluate: received 2 results and 0 failures\n",
      "\u001b[92mINFO \u001b[0m:      \n",
      "\u001b[92mINFO \u001b[0m:      [ROUND 21]\n",
      "\u001b[92mINFO \u001b[0m:      configure_fit: strategy sampled 4 clients (out of 4)\n"
     ]
    },
    {
     "name": "stdout",
     "output_type": "stream",
     "text": [
      "\u001b[2m\u001b[36m(ClientAppActor pid=1215791)\u001b[0m \u001b[32m [repeated 17x across cluster]\u001b[0m\n",
      "\u001b[2m\u001b[36m(ClientAppActor pid=1215791)\u001b[0m Epoch 7/100\u001b[32m [repeated 17x across cluster]\u001b[0m\n",
      "\u001b[2m\u001b[36m(ClientAppActor pid=1215791)\u001b[0m Epoch 6: Training accuracy: 80.84772491455078 Testing accuracy: 76.25.\u001b[32m [repeated 17x across cluster]\u001b[0m\n",
      "\u001b[2m\u001b[36m(ClientAppActor pid=1215791)\u001b[0m \u001b[32m [repeated 29x across cluster]\u001b[0m\n",
      "\u001b[2m\u001b[36m(ClientAppActor pid=1215791)\u001b[0m Epoch 24/100\u001b[32m [repeated 29x across cluster]\u001b[0m\n",
      "\u001b[2m\u001b[36m(ClientAppActor pid=1215791)\u001b[0m Epoch 23: Training accuracy: 83.3594970703125 Testing accuracy: 76.25.\u001b[32m [repeated 29x across cluster]\u001b[0m\n",
      "\u001b[2m\u001b[36m(ClientAppActor pid=1215791)\u001b[0m \u001b[32m [repeated 28x across cluster]\u001b[0m\n",
      "\u001b[2m\u001b[36m(ClientAppActor pid=1215791)\u001b[0m Epoch 41/100\u001b[32m [repeated 28x across cluster]\u001b[0m\n",
      "\u001b[2m\u001b[36m(ClientAppActor pid=1215791)\u001b[0m Epoch 40: Training accuracy: 77.23704528808594 Testing accuracy: 73.75.\u001b[32m [repeated 28x across cluster]\u001b[0m\n",
      "\u001b[2m\u001b[36m(ClientAppActor pid=1215792)\u001b[0m \u001b[32m [repeated 26x across cluster]\u001b[0m\n",
      "\u001b[2m\u001b[36m(ClientAppActor pid=1215792)\u001b[0m Epoch 39/100\u001b[32m [repeated 26x across cluster]\u001b[0m\n",
      "\u001b[2m\u001b[36m(ClientAppActor pid=1215792)\u001b[0m Epoch 38: Training accuracy: 86.66666412353516 Testing accuracy: 73.98844146728516.\u001b[32m [repeated 26x across cluster]\u001b[0m\n",
      "\u001b[2m\u001b[36m(ClientAppActor pid=1215791)\u001b[0m \u001b[32m [repeated 28x across cluster]\u001b[0m\n",
      "\u001b[2m\u001b[36m(ClientAppActor pid=1215791)\u001b[0m Epoch 73/100\u001b[32m [repeated 28x across cluster]\u001b[0m\n",
      "\u001b[2m\u001b[36m(ClientAppActor pid=1215791)\u001b[0m Epoch 72: Training accuracy: 86.34223175048828 Testing accuracy: 78.125.\u001b[32m [repeated 28x across cluster]\u001b[0m\n",
      "\u001b[2m\u001b[36m(ClientAppActor pid=1215792)\u001b[0m \u001b[32m [repeated 34x across cluster]\u001b[0m\n",
      "\u001b[2m\u001b[36m(ClientAppActor pid=1215792)\u001b[0m Epoch 67/100\u001b[32m [repeated 34x across cluster]\u001b[0m\n",
      "\u001b[2m\u001b[36m(ClientAppActor pid=1215792)\u001b[0m Epoch 66: Training accuracy: 84.49275207519531 Testing accuracy: 71.0982666015625.\u001b[32m [repeated 34x across cluster]\u001b[0m\n",
      "\u001b[2m\u001b[36m(ClientAppActor pid=1215792)\u001b[0m \u001b[32m [repeated 50x across cluster]\u001b[0m\n",
      "\u001b[2m\u001b[36m(ClientAppActor pid=1215792)\u001b[0m Epoch 94/100\u001b[32m [repeated 50x across cluster]\u001b[0m\n",
      "\u001b[2m\u001b[36m(ClientAppActor pid=1215792)\u001b[0m Epoch 93: Training accuracy: 88.6956558227539 Testing accuracy: 73.41040802001953.\u001b[32m [repeated 50x across cluster]\u001b[0m\n",
      "\u001b[2m\u001b[36m(ClientAppActor pid=1215791)\u001b[0m \u001b[32m [repeated 48x across cluster]\u001b[0m\n",
      "\u001b[2m\u001b[36m(ClientAppActor pid=1215791)\u001b[0m Epoch 39/100\u001b[32m [repeated 48x across cluster]\u001b[0m\n",
      "\u001b[2m\u001b[36m(ClientAppActor pid=1215791)\u001b[0m Epoch 38: Training accuracy: 84.87518310546875 Testing accuracy: 73.68421173095703.\u001b[32m [repeated 48x across cluster]\u001b[0m\n",
      "\u001b[2m\u001b[36m(ClientAppActor pid=1215791)\u001b[0m \u001b[32m [repeated 46x across cluster]\u001b[0m\n",
      "\u001b[2m\u001b[36m(ClientAppActor pid=1215791)\u001b[0m Epoch 65/100\u001b[32m [repeated 46x across cluster]\u001b[0m\n",
      "\u001b[2m\u001b[36m(ClientAppActor pid=1215791)\u001b[0m Epoch 64: Training accuracy: 85.02202606201172 Testing accuracy: 75.4385986328125.\u001b[32m [repeated 46x across cluster]\u001b[0m\n",
      "\u001b[2m\u001b[36m(ClientAppActor pid=1215791)\u001b[0m \u001b[32m [repeated 24x across cluster]\u001b[0m\n",
      "\u001b[2m\u001b[36m(ClientAppActor pid=1215791)\u001b[0m Epoch 78/100\u001b[32m [repeated 24x across cluster]\u001b[0m\n",
      "\u001b[2m\u001b[36m(ClientAppActor pid=1215791)\u001b[0m Epoch 77: Training accuracy: 84.72834014892578 Testing accuracy: 71.92982482910156.\u001b[32m [repeated 24x across cluster]\u001b[0m\n",
      "\u001b[2m\u001b[36m(ClientAppActor pid=1215791)\u001b[0m \u001b[32m [repeated 28x across cluster]\u001b[0m\n",
      "\u001b[2m\u001b[36m(ClientAppActor pid=1215791)\u001b[0m Epoch 94/100\u001b[32m [repeated 28x across cluster]\u001b[0m\n",
      "\u001b[2m\u001b[36m(ClientAppActor pid=1215791)\u001b[0m Epoch 93: Training accuracy: 85.31571197509766 Testing accuracy: 72.51461791992188.\u001b[32m [repeated 28x across cluster]\u001b[0m\n",
      "\u001b[2m\u001b[36m(ClientAppActor pid=1215792)\u001b[0m \u001b[32m [repeated 18x across cluster]\u001b[0m\n",
      "\u001b[2m\u001b[36m(ClientAppActor pid=1215792)\u001b[0m Epoch 70/100\u001b[32m [repeated 18x across cluster]\u001b[0m\n",
      "\u001b[2m\u001b[36m(ClientAppActor pid=1215792)\u001b[0m Epoch 69: Training accuracy: 86.7298583984375 Testing accuracy: 74.05660247802734.\u001b[32m [repeated 19x across cluster]\u001b[0m\n",
      "\u001b[2m\u001b[36m(ClientAppActor pid=1215792)\u001b[0m \u001b[32m [repeated 11x across cluster]\u001b[0m\n",
      "\u001b[2m\u001b[36m(ClientAppActor pid=1215792)\u001b[0m Epoch 81/100\u001b[32m [repeated 11x across cluster]\u001b[0m\n",
      "\u001b[2m\u001b[36m(ClientAppActor pid=1215792)\u001b[0m Epoch 80: Training accuracy: 85.1895751953125 Testing accuracy: 72.64151000976562.\u001b[32m [repeated 11x across cluster]\u001b[0m\n",
      "\u001b[2m\u001b[36m(ClientAppActor pid=1215792)\u001b[0m \u001b[32m [repeated 12x across cluster]\u001b[0m\n",
      "\u001b[2m\u001b[36m(ClientAppActor pid=1215792)\u001b[0m Epoch 93/100\u001b[32m [repeated 12x across cluster]\u001b[0m\n",
      "\u001b[2m\u001b[36m(ClientAppActor pid=1215792)\u001b[0m Epoch 92: Training accuracy: 87.44075775146484 Testing accuracy: 75.94339752197266.\u001b[32m [repeated 12x across cluster]\u001b[0m\n"
     ]
    },
    {
     "name": "stderr",
     "output_type": "stream",
     "text": [
      "\u001b[92mINFO \u001b[0m:      aggregate_fit: received 4 results and 0 failures\n",
      "\u001b[92mINFO \u001b[0m:      fit progress: (21, 0.032855686019448674, {'accuracy': tensor(74.6654, device='cuda:0')}, 1006.4658749350056)\n",
      "\u001b[92mINFO \u001b[0m:      configure_evaluate: strategy sampled 2 clients (out of 4)\n"
     ]
    },
    {
     "name": "stdout",
     "output_type": "stream",
     "text": [
      "Server-side evaluation loss 0.032855686019448674 / accuracy 74.66539001464844\n"
     ]
    },
    {
     "name": "stderr",
     "output_type": "stream",
     "text": [
      "\u001b[92mINFO \u001b[0m:      aggregate_evaluate: received 2 results and 0 failures\n",
      "\u001b[92mINFO \u001b[0m:      \n",
      "\u001b[92mINFO \u001b[0m:      [ROUND 22]\n",
      "\u001b[92mINFO \u001b[0m:      configure_fit: strategy sampled 4 clients (out of 4)\n"
     ]
    },
    {
     "name": "stdout",
     "output_type": "stream",
     "text": [
      "\u001b[2m\u001b[36m(ClientAppActor pid=1215791)\u001b[0m \u001b[32m [repeated 16x across cluster]\u001b[0m\n",
      "\u001b[2m\u001b[36m(ClientAppActor pid=1215791)\u001b[0m Epoch 7/100\u001b[32m [repeated 16x across cluster]\u001b[0m\n",
      "\u001b[2m\u001b[36m(ClientAppActor pid=1215791)\u001b[0m Epoch 6: Training accuracy: 84.24170684814453 Testing accuracy: 74.05660247802734.\u001b[32m [repeated 15x across cluster]\u001b[0m\n",
      "\u001b[2m\u001b[36m(ClientAppActor pid=1215792)\u001b[0m \u001b[32m [repeated 46x across cluster]\u001b[0m\n",
      "\u001b[2m\u001b[36m(ClientAppActor pid=1215792)\u001b[0m Epoch 20/100\u001b[32m [repeated 46x across cluster]\u001b[0m\n",
      "\u001b[2m\u001b[36m(ClientAppActor pid=1215792)\u001b[0m Epoch 19: Training accuracy: 86.02825927734375 Testing accuracy: 79.375.\u001b[32m [repeated 46x across cluster]\u001b[0m\n",
      "\u001b[2m\u001b[36m(ClientAppActor pid=1215792)\u001b[0m \u001b[32m [repeated 47x across cluster]\u001b[0m\n",
      "\u001b[2m\u001b[36m(ClientAppActor pid=1215792)\u001b[0m Epoch 40/100\u001b[32m [repeated 47x across cluster]\u001b[0m\n",
      "\u001b[2m\u001b[36m(ClientAppActor pid=1215792)\u001b[0m Epoch 39: Training accuracy: 86.81318664550781 Testing accuracy: 78.75.\u001b[32m [repeated 47x across cluster]\u001b[0m\n",
      "\u001b[2m\u001b[36m(ClientAppActor pid=1215792)\u001b[0m \u001b[32m [repeated 269x across cluster]\u001b[0m\n",
      "\u001b[2m\u001b[36m(ClientAppActor pid=1215792)\u001b[0m Epoch 71/100\u001b[32m [repeated 269x across cluster]\u001b[0m\n",
      "\u001b[2m\u001b[36m(ClientAppActor pid=1215792)\u001b[0m Epoch 70: Training accuracy: 85.46255493164062 Testing accuracy: 74.26900482177734.\u001b[32m [repeated 270x across cluster]\u001b[0m\n",
      "\u001b[2m\u001b[36m(ClientAppActor pid=1215792)\u001b[0m \u001b[32m [repeated 23x across cluster]\u001b[0m\n",
      "\u001b[2m\u001b[36m(ClientAppActor pid=1215792)\u001b[0m Epoch 94/100\u001b[32m [repeated 23x across cluster]\u001b[0m\n",
      "\u001b[2m\u001b[36m(ClientAppActor pid=1215792)\u001b[0m Epoch 93: Training accuracy: 86.0499267578125 Testing accuracy: 75.4385986328125.\u001b[32m [repeated 23x across cluster]\u001b[0m\n"
     ]
    },
    {
     "name": "stderr",
     "output_type": "stream",
     "text": [
      "\u001b[92mINFO \u001b[0m:      aggregate_fit: received 4 results and 0 failures\n",
      "\u001b[92mINFO \u001b[0m:      fit progress: (22, 0.033980180235470045, {'accuracy': tensor(72.6577, device='cuda:0')}, 1030.4904060990084)\n",
      "\u001b[92mINFO \u001b[0m:      configure_evaluate: strategy sampled 2 clients (out of 4)\n"
     ]
    },
    {
     "name": "stdout",
     "output_type": "stream",
     "text": [
      "Server-side evaluation loss 0.033980180235470045 / accuracy 72.65774536132812\n"
     ]
    },
    {
     "name": "stderr",
     "output_type": "stream",
     "text": [
      "\u001b[92mINFO \u001b[0m:      aggregate_evaluate: received 2 results and 0 failures\n",
      "\u001b[92mINFO \u001b[0m:      \n",
      "\u001b[92mINFO \u001b[0m:      [ROUND 23]\n",
      "\u001b[92mINFO \u001b[0m:      configure_fit: strategy sampled 4 clients (out of 4)\n"
     ]
    },
    {
     "name": "stdout",
     "output_type": "stream",
     "text": [
      "\u001b[2m\u001b[36m(ClientAppActor pid=1215791)\u001b[0m \u001b[32m [repeated 27x across cluster]\u001b[0m\n",
      "\u001b[2m\u001b[36m(ClientAppActor pid=1215791)\u001b[0m Epoch 12/100\u001b[32m [repeated 27x across cluster]\u001b[0m\n",
      "\u001b[2m\u001b[36m(ClientAppActor pid=1215791)\u001b[0m Epoch 11: Training accuracy: 86.7298583984375 Testing accuracy: 73.58490753173828.\u001b[32m [repeated 26x across cluster]\u001b[0m\n",
      "\u001b[2m\u001b[36m(ClientAppActor pid=1215792)\u001b[0m \u001b[32m [repeated 33x across cluster]\u001b[0m\n",
      "\u001b[2m\u001b[36m(ClientAppActor pid=1215792)\u001b[0m Epoch 25/100\u001b[32m [repeated 33x across cluster]\u001b[0m\n",
      "\u001b[2m\u001b[36m(ClientAppActor pid=1215792)\u001b[0m Epoch 24: Training accuracy: 86.18524169921875 Testing accuracy: 78.125.\u001b[32m [repeated 33x across cluster]\u001b[0m\n",
      "\u001b[2m\u001b[36m(ClientAppActor pid=1215791)\u001b[0m \u001b[32m [repeated 21x across cluster]\u001b[0m\n",
      "\u001b[2m\u001b[36m(ClientAppActor pid=1215791)\u001b[0m Epoch 40/100\u001b[32m [repeated 21x across cluster]\u001b[0m\n",
      "\u001b[2m\u001b[36m(ClientAppActor pid=1215791)\u001b[0m Epoch 39: Training accuracy: 86.37440490722656 Testing accuracy: 73.58490753173828.\u001b[32m [repeated 21x across cluster]\u001b[0m\n",
      "\u001b[2m\u001b[36m(ClientAppActor pid=1215791)\u001b[0m \u001b[32m [repeated 27x across cluster]\u001b[0m\n",
      "\u001b[2m\u001b[36m(ClientAppActor pid=1215791)\u001b[0m Epoch 53/100\u001b[32m [repeated 27x across cluster]\u001b[0m\n",
      "\u001b[2m\u001b[36m(ClientAppActor pid=1215791)\u001b[0m Epoch 52: Training accuracy: 86.37440490722656 Testing accuracy: 72.64151000976562.\u001b[32m [repeated 27x across cluster]\u001b[0m\n",
      "\u001b[2m\u001b[36m(ClientAppActor pid=1215792)\u001b[0m \u001b[32m [repeated 24x across cluster]\u001b[0m\n",
      "\u001b[2m\u001b[36m(ClientAppActor pid=1215792)\u001b[0m Epoch 61/100\u001b[32m [repeated 24x across cluster]\u001b[0m\n",
      "\u001b[2m\u001b[36m(ClientAppActor pid=1215792)\u001b[0m Epoch 60: Training accuracy: 86.18524169921875 Testing accuracy: 78.125.\u001b[32m [repeated 24x across cluster]\u001b[0m\n",
      "\u001b[2m\u001b[36m(ClientAppActor pid=1215791)\u001b[0m \u001b[32m [repeated 30x across cluster]\u001b[0m\n",
      "\u001b[2m\u001b[36m(ClientAppActor pid=1215791)\u001b[0m Epoch 78/100\u001b[32m [repeated 30x across cluster]\u001b[0m\n",
      "\u001b[2m\u001b[36m(ClientAppActor pid=1215791)\u001b[0m Epoch 77: Training accuracy: 85.07109069824219 Testing accuracy: 73.58490753173828.\u001b[32m [repeated 30x across cluster]\u001b[0m\n",
      "\u001b[2m\u001b[36m(ClientAppActor pid=1215792)\u001b[0m \u001b[32m [repeated 27x across cluster]\u001b[0m\n",
      "\u001b[2m\u001b[36m(ClientAppActor pid=1215792)\u001b[0m Epoch 95/100\u001b[32m [repeated 27x across cluster]\u001b[0m\n",
      "\u001b[2m\u001b[36m(ClientAppActor pid=1215792)\u001b[0m Epoch 94: Training accuracy: 87.12715911865234 Testing accuracy: 79.375.\u001b[32m [repeated 27x across cluster]\u001b[0m\n",
      "\u001b[2m\u001b[36m(ClientAppActor pid=1215792)\u001b[0m \u001b[32m [repeated 23x across cluster]\u001b[0m\n",
      "\u001b[2m\u001b[36m(ClientAppActor pid=1215792)\u001b[0m Epoch 6/100\u001b[32m [repeated 23x across cluster]\u001b[0m\n",
      "\u001b[2m\u001b[36m(ClientAppActor pid=1215791)\u001b[0m Epoch 100: Training accuracy: 85.78199005126953 Testing accuracy: 73.58490753173828.\u001b[32m [repeated 24x across cluster]\u001b[0m\n",
      "\u001b[2m\u001b[36m(ClientAppActor pid=1215791)\u001b[0m \u001b[32m [repeated 31x across cluster]\u001b[0m\n",
      "\u001b[2m\u001b[36m(ClientAppActor pid=1215791)\u001b[0m Epoch 15/100\u001b[32m [repeated 31x across cluster]\u001b[0m\n",
      "\u001b[2m\u001b[36m(ClientAppActor pid=1215791)\u001b[0m Epoch 14: Training accuracy: 84.72834014892578 Testing accuracy: 74.85379791259766.\u001b[32m [repeated 30x across cluster]\u001b[0m\n",
      "\u001b[2m\u001b[36m(ClientAppActor pid=1215792)\u001b[0m \u001b[32m [repeated 29x across cluster]\u001b[0m\n",
      "\u001b[2m\u001b[36m(ClientAppActor pid=1215792)\u001b[0m Epoch 36/100\u001b[32m [repeated 29x across cluster]\u001b[0m\n",
      "\u001b[2m\u001b[36m(ClientAppActor pid=1215792)\u001b[0m Epoch 35: Training accuracy: 87.82608795166016 Testing accuracy: 74.56647491455078.\u001b[32m [repeated 29x across cluster]\u001b[0m\n",
      "\u001b[2m\u001b[36m(ClientAppActor pid=1215791)\u001b[0m \u001b[32m [repeated 29x across cluster]\u001b[0m\n",
      "\u001b[2m\u001b[36m(ClientAppActor pid=1215791)\u001b[0m Epoch 44/100\u001b[32m [repeated 29x across cluster]\u001b[0m\n",
      "\u001b[2m\u001b[36m(ClientAppActor pid=1215791)\u001b[0m Epoch 43: Training accuracy: 85.6093978881836 Testing accuracy: 73.68421173095703.\u001b[32m [repeated 29x across cluster]\u001b[0m\n",
      "\u001b[2m\u001b[36m(ClientAppActor pid=1215791)\u001b[0m \u001b[32m [repeated 36x across cluster]\u001b[0m\n",
      "\u001b[2m\u001b[36m(ClientAppActor pid=1215791)\u001b[0m Epoch 59/100\u001b[32m [repeated 36x across cluster]\u001b[0m\n",
      "\u001b[2m\u001b[36m(ClientAppActor pid=1215791)\u001b[0m Epoch 58: Training accuracy: 83.700439453125 Testing accuracy: 72.51461791992188.\u001b[32m [repeated 36x across cluster]\u001b[0m\n",
      "\u001b[2m\u001b[36m(ClientAppActor pid=1215791)\u001b[0m \u001b[32m [repeated 38x across cluster]\u001b[0m\n",
      "\u001b[2m\u001b[36m(ClientAppActor pid=1215791)\u001b[0m Epoch 76/100\u001b[32m [repeated 38x across cluster]\u001b[0m\n",
      "\u001b[2m\u001b[36m(ClientAppActor pid=1215791)\u001b[0m Epoch 75: Training accuracy: 85.31571197509766 Testing accuracy: 73.68421173095703.\u001b[32m [repeated 38x across cluster]\u001b[0m\n"
     ]
    },
    {
     "name": "stderr",
     "output_type": "stream",
     "text": [
      "\u001b[92mINFO \u001b[0m:      aggregate_fit: received 4 results and 0 failures\n",
      "\u001b[92mINFO \u001b[0m:      fit progress: (23, 0.03114180705126594, {'accuracy': tensor(76.0038, device='cuda:0')}, 1100.4788437670068)\n",
      "\u001b[92mINFO \u001b[0m:      configure_evaluate: strategy sampled 2 clients (out of 4)\n",
      "\u001b[92mINFO \u001b[0m:      aggregate_evaluate: received 2 results and 0 failures\n",
      "\u001b[92mINFO \u001b[0m:      \n",
      "\u001b[92mINFO \u001b[0m:      [ROUND 24]\n",
      "\u001b[92mINFO \u001b[0m:      configure_fit: strategy sampled 4 clients (out of 4)\n"
     ]
    },
    {
     "name": "stdout",
     "output_type": "stream",
     "text": [
      "Server-side evaluation loss 0.03114180705126594 / accuracy 76.00382232666016\n",
      "\u001b[2m\u001b[36m(ClientAppActor pid=1215791)\u001b[0m \u001b[32m [repeated 32x across cluster]\u001b[0m\n",
      "\u001b[2m\u001b[36m(ClientAppActor pid=1215791)\u001b[0m Epoch 1/100\u001b[32m [repeated 32x across cluster]\u001b[0m\n",
      "\u001b[2m\u001b[36m(ClientAppActor pid=1215791)\u001b[0m Epoch 100: Training accuracy: 85.31571197509766 Testing accuracy: 74.26900482177734.\u001b[32m [repeated 33x across cluster]\u001b[0m\n",
      "\u001b[2m\u001b[36m(ClientAppActor pid=1215791)\u001b[0m \u001b[32m [repeated 163x across cluster]\u001b[0m\n",
      "\u001b[2m\u001b[36m(ClientAppActor pid=1215791)\u001b[0m Epoch 53/100\u001b[32m [repeated 163x across cluster]\u001b[0m\n",
      "\u001b[2m\u001b[36m(ClientAppActor pid=1215791)\u001b[0m Epoch 52: Training accuracy: 87.5362319946289 Testing accuracy: 74.56647491455078.\u001b[32m [repeated 162x across cluster]\u001b[0m\n",
      "\u001b[2m\u001b[36m(ClientAppActor pid=1215792)\u001b[0m \u001b[32m [repeated 114x across cluster]\u001b[0m\n",
      "\u001b[2m\u001b[36m(ClientAppActor pid=1215792)\u001b[0m Epoch 94/100\u001b[32m [repeated 114x across cluster]\u001b[0m\n",
      "\u001b[2m\u001b[36m(ClientAppActor pid=1215792)\u001b[0m Epoch 93: Training accuracy: 86.25592041015625 Testing accuracy: 73.11320495605469.\u001b[32m [repeated 114x across cluster]\u001b[0m\n",
      "\u001b[2m\u001b[36m(ClientAppActor pid=1215792)\u001b[0m \u001b[32m [repeated 48x across cluster]\u001b[0m\n",
      "\u001b[2m\u001b[36m(ClientAppActor pid=1215792)\u001b[0m Epoch 26/100\u001b[32m [repeated 48x across cluster]\u001b[0m\n",
      "\u001b[2m\u001b[36m(ClientAppActor pid=1215792)\u001b[0m Epoch 25: Training accuracy: 85.6093978881836 Testing accuracy: 74.85379791259766.\u001b[32m [repeated 49x across cluster]\u001b[0m\n",
      "\u001b[2m\u001b[36m(ClientAppActor pid=1215792)\u001b[0m \u001b[32m [repeated 33x across cluster]\u001b[0m\n",
      "\u001b[2m\u001b[36m(ClientAppActor pid=1215792)\u001b[0m Epoch 59/100\u001b[32m [repeated 33x across cluster]\u001b[0m\n",
      "\u001b[2m\u001b[36m(ClientAppActor pid=1215792)\u001b[0m Epoch 58: Training accuracy: 85.6093978881836 Testing accuracy: 73.09941864013672.\u001b[32m [repeated 33x across cluster]\u001b[0m\n",
      "\u001b[2m\u001b[36m(ClientAppActor pid=1215792)\u001b[0m \u001b[32m [repeated 32x across cluster]\u001b[0m\n",
      "\u001b[2m\u001b[36m(ClientAppActor pid=1215792)\u001b[0m Epoch 91/100\u001b[32m [repeated 32x across cluster]\u001b[0m\n",
      "\u001b[2m\u001b[36m(ClientAppActor pid=1215792)\u001b[0m Epoch 90: Training accuracy: 86.4904556274414 Testing accuracy: 74.26900482177734.\u001b[32m [repeated 32x across cluster]\u001b[0m\n"
     ]
    },
    {
     "name": "stderr",
     "output_type": "stream",
     "text": [
      "\u001b[92mINFO \u001b[0m:      aggregate_fit: received 4 results and 0 failures\n",
      "\u001b[92mINFO \u001b[0m:      fit progress: (24, 0.033137198756722844, {'accuracy': tensor(73.0402, device='cuda:0')}, 1127.6704862930055)\n",
      "\u001b[92mINFO \u001b[0m:      configure_evaluate: strategy sampled 2 clients (out of 4)\n"
     ]
    },
    {
     "name": "stdout",
     "output_type": "stream",
     "text": [
      "Server-side evaluation loss 0.033137198756722844 / accuracy 73.04015350341797\n"
     ]
    },
    {
     "name": "stderr",
     "output_type": "stream",
     "text": [
      "\u001b[92mINFO \u001b[0m:      aggregate_evaluate: received 2 results and 0 failures\n",
      "\u001b[92mINFO \u001b[0m:      \n",
      "\u001b[92mINFO \u001b[0m:      [ROUND 25]\n",
      "\u001b[92mINFO \u001b[0m:      configure_fit: strategy sampled 4 clients (out of 4)\n"
     ]
    },
    {
     "name": "stdout",
     "output_type": "stream",
     "text": [
      "\u001b[2m\u001b[36m(ClientAppActor pid=1215792)\u001b[0m \u001b[32m [repeated 43x across cluster]\u001b[0m\n",
      "\u001b[2m\u001b[36m(ClientAppActor pid=1215792)\u001b[0m Epoch 24/100\u001b[32m [repeated 43x across cluster]\u001b[0m\n",
      "\u001b[2m\u001b[36m(ClientAppActor pid=1215792)\u001b[0m Epoch 23: Training accuracy: 87.82608795166016 Testing accuracy: 75.72254180908203.\u001b[32m [repeated 42x across cluster]\u001b[0m\n",
      "\u001b[2m\u001b[36m(ClientAppActor pid=1215792)\u001b[0m \u001b[32m [repeated 55x across cluster]\u001b[0m\n",
      "\u001b[2m\u001b[36m(ClientAppActor pid=1215792)\u001b[0m Epoch 55/100\u001b[32m [repeated 55x across cluster]\u001b[0m\n",
      "\u001b[2m\u001b[36m(ClientAppActor pid=1215792)\u001b[0m Epoch 54: Training accuracy: 87.10144805908203 Testing accuracy: 74.56647491455078.\u001b[32m [repeated 55x across cluster]\u001b[0m\n",
      "\u001b[2m\u001b[36m(ClientAppActor pid=1215792)\u001b[0m \u001b[32m [repeated 48x across cluster]\u001b[0m\n",
      "\u001b[2m\u001b[36m(ClientAppActor pid=1215792)\u001b[0m Epoch 83/100\u001b[32m [repeated 48x across cluster]\u001b[0m\n",
      "\u001b[2m\u001b[36m(ClientAppActor pid=1215792)\u001b[0m Epoch 82: Training accuracy: 83.76811218261719 Testing accuracy: 71.67630004882812.\u001b[32m [repeated 48x across cluster]\u001b[0m\n",
      "\u001b[2m\u001b[36m(ClientAppActor pid=1215791)\u001b[0m \u001b[32m [repeated 30x across cluster]\u001b[0m\n",
      "\u001b[2m\u001b[36m(ClientAppActor pid=1215791)\u001b[0m Epoch 72/100\u001b[32m [repeated 30x across cluster]\u001b[0m\n",
      "\u001b[2m\u001b[36m(ClientAppActor pid=1215791)\u001b[0m Epoch 71: Training accuracy: 85.90047454833984 Testing accuracy: 70.28302001953125.\u001b[32m [repeated 30x across cluster]\u001b[0m\n",
      "\u001b[2m\u001b[36m(ClientAppActor pid=1215791)\u001b[0m \u001b[32m [repeated 37x across cluster]\u001b[0m\n",
      "\u001b[2m\u001b[36m(ClientAppActor pid=1215791)\u001b[0m Epoch 92/100\u001b[32m [repeated 37x across cluster]\u001b[0m\n",
      "\u001b[2m\u001b[36m(ClientAppActor pid=1215791)\u001b[0m Epoch 91: Training accuracy: 87.55924224853516 Testing accuracy: 73.11320495605469.\u001b[32m [repeated 37x across cluster]\u001b[0m\n",
      "\u001b[2m\u001b[36m(ClientAppActor pid=1215791)\u001b[0m \u001b[32m [repeated 40x across cluster]\u001b[0m\n",
      "\u001b[2m\u001b[36m(ClientAppActor pid=1215791)\u001b[0m Epoch 13/100\u001b[32m [repeated 40x across cluster]\u001b[0m\n",
      "\u001b[2m\u001b[36m(ClientAppActor pid=1215791)\u001b[0m Epoch 12: Training accuracy: 83.700439453125 Testing accuracy: 74.26900482177734.\u001b[32m [repeated 40x across cluster]\u001b[0m\n",
      "\u001b[2m\u001b[36m(ClientAppActor pid=1215792)\u001b[0m \u001b[32m [repeated 70x across cluster]\u001b[0m\n",
      "\u001b[2m\u001b[36m(ClientAppActor pid=1215792)\u001b[0m Epoch 50/100\u001b[32m [repeated 70x across cluster]\u001b[0m\n",
      "\u001b[2m\u001b[36m(ClientAppActor pid=1215792)\u001b[0m Epoch 49: Training accuracy: 86.34223175048828 Testing accuracy: 79.375.\u001b[32m [repeated 70x across cluster]\u001b[0m\n",
      "\u001b[2m\u001b[36m(ClientAppActor pid=1215792)\u001b[0m \u001b[32m [repeated 33x across cluster]\u001b[0m\n",
      "\u001b[2m\u001b[36m(ClientAppActor pid=1215792)\u001b[0m Epoch 61/100\u001b[32m [repeated 33x across cluster]\u001b[0m\n",
      "\u001b[2m\u001b[36m(ClientAppActor pid=1215792)\u001b[0m Epoch 60: Training accuracy: 85.55729675292969 Testing accuracy: 78.75.\u001b[32m [repeated 33x across cluster]\u001b[0m\n",
      "\u001b[2m\u001b[36m(ClientAppActor pid=1215792)\u001b[0m \u001b[32m [repeated 27x across cluster]\u001b[0m\n",
      "\u001b[2m\u001b[36m(ClientAppActor pid=1215792)\u001b[0m Epoch 74/100\u001b[32m [repeated 27x across cluster]\u001b[0m\n",
      "\u001b[2m\u001b[36m(ClientAppActor pid=1215792)\u001b[0m Epoch 73: Training accuracy: 86.49921417236328 Testing accuracy: 79.375.\u001b[32m [repeated 28x across cluster]\u001b[0m\n",
      "\u001b[2m\u001b[36m(ClientAppActor pid=1215792)\u001b[0m \u001b[32m [repeated 12x across cluster]\u001b[0m\n",
      "\u001b[2m\u001b[36m(ClientAppActor pid=1215792)\u001b[0m Epoch 86/100\u001b[32m [repeated 12x across cluster]\u001b[0m\n",
      "\u001b[2m\u001b[36m(ClientAppActor pid=1215792)\u001b[0m Epoch 85: Training accuracy: 86.34223175048828 Testing accuracy: 76.25.\u001b[32m [repeated 12x across cluster]\u001b[0m\n",
      "\u001b[2m\u001b[36m(ClientAppActor pid=1215792)\u001b[0m \u001b[32m [repeated 13x across cluster]\u001b[0m\n",
      "\u001b[2m\u001b[36m(ClientAppActor pid=1215792)\u001b[0m Epoch 99/100\u001b[32m [repeated 13x across cluster]\u001b[0m\n",
      "\u001b[2m\u001b[36m(ClientAppActor pid=1215792)\u001b[0m Epoch 98: Training accuracy: 86.97016906738281 Testing accuracy: 77.5.\u001b[32m [repeated 13x across cluster]\u001b[0m\n"
     ]
    },
    {
     "name": "stderr",
     "output_type": "stream",
     "text": [
      "\u001b[92mINFO \u001b[0m:      aggregate_fit: received 4 results and 0 failures\n",
      "\u001b[92mINFO \u001b[0m:      fit progress: (25, 0.03347342855790082, {'accuracy': tensor(72.6577, device='cuda:0')}, 1183.6067162079999)\n",
      "\u001b[92mINFO \u001b[0m:      configure_evaluate: strategy sampled 2 clients (out of 4)\n"
     ]
    },
    {
     "name": "stdout",
     "output_type": "stream",
     "text": [
      "Server-side evaluation loss 0.03347342855790082 / accuracy 72.65774536132812\n"
     ]
    },
    {
     "name": "stderr",
     "output_type": "stream",
     "text": [
      "\u001b[92mINFO \u001b[0m:      aggregate_evaluate: received 2 results and 0 failures\n",
      "\u001b[92mINFO \u001b[0m:      \n",
      "\u001b[92mINFO \u001b[0m:      [ROUND 26]\n",
      "\u001b[92mINFO \u001b[0m:      configure_fit: strategy sampled 4 clients (out of 4)\n"
     ]
    },
    {
     "name": "stdout",
     "output_type": "stream",
     "text": [
      "\u001b[2m\u001b[36m(ClientAppActor pid=1215791)\u001b[0m \u001b[32m [repeated 35x across cluster]\u001b[0m\n",
      "\u001b[2m\u001b[36m(ClientAppActor pid=1215791)\u001b[0m Epoch 27/100\u001b[32m [repeated 35x across cluster]\u001b[0m\n",
      "\u001b[2m\u001b[36m(ClientAppActor pid=1215791)\u001b[0m Epoch 26: Training accuracy: 88.1159439086914 Testing accuracy: 75.1445083618164.\u001b[32m [repeated 34x across cluster]\u001b[0m\n",
      "\u001b[2m\u001b[36m(ClientAppActor pid=1215791)\u001b[0m \u001b[32m [repeated 52x across cluster]\u001b[0m\n",
      "\u001b[2m\u001b[36m(ClientAppActor pid=1215791)\u001b[0m Epoch 66/100\u001b[32m [repeated 52x across cluster]\u001b[0m\n",
      "\u001b[2m\u001b[36m(ClientAppActor pid=1215791)\u001b[0m Epoch 65: Training accuracy: 83.33333587646484 Testing accuracy: 69.3641586303711.\u001b[32m [repeated 52x across cluster]\u001b[0m\n",
      "\u001b[2m\u001b[36m(ClientAppActor pid=1215791)\u001b[0m \u001b[32m [repeated 57x across cluster]\u001b[0m\n",
      "\u001b[2m\u001b[36m(ClientAppActor pid=1215791)\u001b[0m Epoch 12/100\u001b[32m [repeated 57x across cluster]\u001b[0m\n",
      "\u001b[2m\u001b[36m(ClientAppActor pid=1215791)\u001b[0m Epoch 11: Training accuracy: 83.84728240966797 Testing accuracy: 74.85379791259766.\u001b[32m [repeated 57x across cluster]\u001b[0m\n",
      "\u001b[2m\u001b[36m(ClientAppActor pid=1215791)\u001b[0m \u001b[32m [repeated 41x across cluster]\u001b[0m\n",
      "\u001b[2m\u001b[36m(ClientAppActor pid=1215791)\u001b[0m Epoch 42/100\u001b[32m [repeated 41x across cluster]\u001b[0m\n",
      "\u001b[2m\u001b[36m(ClientAppActor pid=1215791)\u001b[0m Epoch 41: Training accuracy: 85.16886901855469 Testing accuracy: 73.68421173095703.\u001b[32m [repeated 41x across cluster]\u001b[0m\n",
      "\u001b[2m\u001b[36m(ClientAppActor pid=1215791)\u001b[0m \u001b[32m [repeated 155x across cluster]\u001b[0m\n",
      "\u001b[2m\u001b[36m(ClientAppActor pid=1215791)\u001b[0m Epoch 85/100\u001b[32m [repeated 155x across cluster]\u001b[0m\n",
      "\u001b[2m\u001b[36m(ClientAppActor pid=1215791)\u001b[0m Epoch 84: Training accuracy: 87.67772674560547 Testing accuracy: 73.58490753173828.\u001b[32m [repeated 155x across cluster]\u001b[0m\n",
      "\u001b[2m\u001b[36m(ClientAppActor pid=1215792)\u001b[0m \u001b[32m [repeated 32x across cluster]\u001b[0m\n",
      "\u001b[2m\u001b[36m(ClientAppActor pid=1215792)\u001b[0m Epoch 71/100\u001b[32m [repeated 32x across cluster]\u001b[0m\n",
      "\u001b[2m\u001b[36m(ClientAppActor pid=1215792)\u001b[0m Epoch 70: Training accuracy: 85.71428680419922 Testing accuracy: 76.875.\u001b[32m [repeated 33x across cluster]\u001b[0m\n",
      "\u001b[2m\u001b[36m(ClientAppActor pid=1215792)\u001b[0m \u001b[32m [repeated 28x across cluster]\u001b[0m\n",
      "\u001b[2m\u001b[36m(ClientAppActor pid=1215792)\u001b[0m Epoch 99/100\u001b[32m [repeated 28x across cluster]\u001b[0m\n",
      "\u001b[2m\u001b[36m(ClientAppActor pid=1215792)\u001b[0m Epoch 98: Training accuracy: 86.49921417236328 Testing accuracy: 77.5.\u001b[32m [repeated 28x across cluster]\u001b[0m\n"
     ]
    },
    {
     "name": "stderr",
     "output_type": "stream",
     "text": [
      "\u001b[92mINFO \u001b[0m:      aggregate_fit: received 4 results and 0 failures\n",
      "\u001b[92mINFO \u001b[0m:      fit progress: (26, 0.032760862041922176, {'accuracy': tensor(74.9522, device='cuda:0')}, 1218.1016927710007)\n",
      "\u001b[92mINFO \u001b[0m:      configure_evaluate: strategy sampled 2 clients (out of 4)\n",
      "\u001b[92mINFO \u001b[0m:      aggregate_evaluate: received 2 results and 0 failures\n",
      "\u001b[92mINFO \u001b[0m:      \n",
      "\u001b[92mINFO \u001b[0m:      [ROUND 27]\n",
      "\u001b[92mINFO \u001b[0m:      configure_fit: strategy sampled 4 clients (out of 4)\n"
     ]
    },
    {
     "name": "stdout",
     "output_type": "stream",
     "text": [
      "Server-side evaluation loss 0.032760862041922176 / accuracy 74.95220184326172\n",
      "\u001b[2m\u001b[36m(ClientAppActor pid=1215791)\u001b[0m \u001b[32m [repeated 146x across cluster]\u001b[0m\n",
      "\u001b[2m\u001b[36m(ClientAppActor pid=1215791)\u001b[0m Epoch 29/100\u001b[32m [repeated 146x across cluster]\u001b[0m\n",
      "\u001b[2m\u001b[36m(ClientAppActor pid=1215791)\u001b[0m Epoch 28: Training accuracy: 87.5362319946289 Testing accuracy: 73.98844146728516.\u001b[32m [repeated 145x across cluster]\u001b[0m\n",
      "\u001b[2m\u001b[36m(ClientAppActor pid=1215791)\u001b[0m \u001b[32m [repeated 48x across cluster]\u001b[0m\n",
      "\u001b[2m\u001b[36m(ClientAppActor pid=1215791)\u001b[0m Epoch 68/100\u001b[32m [repeated 48x across cluster]\u001b[0m\n",
      "\u001b[2m\u001b[36m(ClientAppActor pid=1215791)\u001b[0m Epoch 67: Training accuracy: 88.26087188720703 Testing accuracy: 73.98844146728516.\u001b[32m [repeated 48x across cluster]\u001b[0m\n",
      "\u001b[2m\u001b[36m(ClientAppActor pid=1215791)\u001b[0m \u001b[32m [repeated 53x across cluster]\u001b[0m\n",
      "\u001b[2m\u001b[36m(ClientAppActor pid=1215791)\u001b[0m Epoch 1/100\u001b[32m [repeated 53x across cluster]\u001b[0m\n",
      "\u001b[2m\u001b[36m(ClientAppActor pid=1215792)\u001b[0m Epoch 44: Training accuracy: 87.20378875732422 Testing accuracy: 74.52830505371094.\u001b[32m [repeated 53x across cluster]\u001b[0m\n",
      "\u001b[2m\u001b[36m(ClientAppActor pid=1215792)\u001b[0m \u001b[32m [repeated 40x across cluster]\u001b[0m\n",
      "\u001b[2m\u001b[36m(ClientAppActor pid=1215792)\u001b[0m Epoch 66/100\u001b[32m [repeated 40x across cluster]\u001b[0m\n",
      "\u001b[2m\u001b[36m(ClientAppActor pid=1215792)\u001b[0m Epoch 65: Training accuracy: 87.55924224853516 Testing accuracy: 73.58490753173828.\u001b[32m [repeated 40x across cluster]\u001b[0m\n",
      "\u001b[2m\u001b[36m(ClientAppActor pid=1215791)\u001b[0m \u001b[32m [repeated 22x across cluster]\u001b[0m\n",
      "\u001b[2m\u001b[36m(ClientAppActor pid=1215791)\u001b[0m Epoch 35/100\u001b[32m [repeated 22x across cluster]\u001b[0m\n",
      "\u001b[2m\u001b[36m(ClientAppActor pid=1215791)\u001b[0m Epoch 34: Training accuracy: 76.3582992553711 Testing accuracy: 67.83625793457031.\u001b[32m [repeated 22x across cluster]\u001b[0m\n",
      "\u001b[2m\u001b[36m(ClientAppActor pid=1215791)\u001b[0m \u001b[32m [repeated 24x across cluster]\u001b[0m\n",
      "\u001b[2m\u001b[36m(ClientAppActor pid=1215791)\u001b[0m Epoch 49/100\u001b[32m [repeated 24x across cluster]\u001b[0m\n",
      "\u001b[2m\u001b[36m(ClientAppActor pid=1215791)\u001b[0m Epoch 48: Training accuracy: 86.0499267578125 Testing accuracy: 73.09941864013672.\u001b[32m [repeated 24x across cluster]\u001b[0m\n",
      "\u001b[2m\u001b[36m(ClientAppActor pid=1215792)\u001b[0m \u001b[32m [repeated 23x across cluster]\u001b[0m\n",
      "\u001b[2m\u001b[36m(ClientAppActor pid=1215792)\u001b[0m Epoch 92/100\u001b[32m [repeated 23x across cluster]\u001b[0m\n",
      "\u001b[2m\u001b[36m(ClientAppActor pid=1215792)\u001b[0m Epoch 91: Training accuracy: 86.25592041015625 Testing accuracy: 69.81131744384766.\u001b[32m [repeated 23x across cluster]\u001b[0m\n",
      "\u001b[2m\u001b[36m(ClientAppActor pid=1215791)\u001b[0m \u001b[32m [repeated 25x across cluster]\u001b[0m\n",
      "\u001b[2m\u001b[36m(ClientAppActor pid=1215791)\u001b[0m Epoch 80/100\u001b[32m [repeated 25x across cluster]\u001b[0m\n",
      "\u001b[2m\u001b[36m(ClientAppActor pid=1215791)\u001b[0m Epoch 79: Training accuracy: 85.75624084472656 Testing accuracy: 72.51461791992188.\u001b[32m [repeated 26x across cluster]\u001b[0m\n",
      "\u001b[2m\u001b[36m(ClientAppActor pid=1215791)\u001b[0m \u001b[32m [repeated 14x across cluster]\u001b[0m\n",
      "\u001b[2m\u001b[36m(ClientAppActor pid=1215791)\u001b[0m Epoch 94/100\u001b[32m [repeated 14x across cluster]\u001b[0m\n",
      "\u001b[2m\u001b[36m(ClientAppActor pid=1215791)\u001b[0m Epoch 93: Training accuracy: 85.90308380126953 Testing accuracy: 73.68421173095703.\u001b[32m [repeated 14x across cluster]\u001b[0m\n"
     ]
    },
    {
     "name": "stderr",
     "output_type": "stream",
     "text": [
      "\u001b[92mINFO \u001b[0m:      aggregate_fit: received 4 results and 0 failures\n",
      "\u001b[92mINFO \u001b[0m:      fit progress: (27, 0.03252387397429522, {'accuracy': tensor(74.6654, device='cuda:0')}, 1266.3218621590058)\n",
      "\u001b[92mINFO \u001b[0m:      configure_evaluate: strategy sampled 2 clients (out of 4)\n"
     ]
    },
    {
     "name": "stdout",
     "output_type": "stream",
     "text": [
      "Server-side evaluation loss 0.03252387397429522 / accuracy 74.66539001464844\n"
     ]
    },
    {
     "name": "stderr",
     "output_type": "stream",
     "text": [
      "\u001b[92mINFO \u001b[0m:      aggregate_evaluate: received 2 results and 0 failures\n",
      "\u001b[92mINFO \u001b[0m:      \n",
      "\u001b[92mINFO \u001b[0m:      [ROUND 28]\n",
      "\u001b[92mINFO \u001b[0m:      configure_fit: strategy sampled 4 clients (out of 4)\n"
     ]
    },
    {
     "name": "stdout",
     "output_type": "stream",
     "text": [
      "\u001b[2m\u001b[36m(ClientAppActor pid=1215791)\u001b[0m \u001b[32m [repeated 16x across cluster]\u001b[0m\n",
      "\u001b[2m\u001b[36m(ClientAppActor pid=1215791)\u001b[0m Epoch 6/100\u001b[32m [repeated 16x across cluster]\u001b[0m\n",
      "\u001b[2m\u001b[36m(ClientAppActor pid=1215791)\u001b[0m Epoch 5: Training accuracy: 82.73155212402344 Testing accuracy: 76.25.\u001b[32m [repeated 15x across cluster]\u001b[0m\n",
      "\u001b[2m\u001b[36m(ClientAppActor pid=1215791)\u001b[0m \u001b[32m [repeated 31x across cluster]\u001b[0m\n",
      "\u001b[2m\u001b[36m(ClientAppActor pid=1215791)\u001b[0m Epoch 23/100\u001b[32m [repeated 31x across cluster]\u001b[0m\n",
      "\u001b[2m\u001b[36m(ClientAppActor pid=1215791)\u001b[0m Epoch 22: Training accuracy: 86.65620422363281 Testing accuracy: 79.375.\u001b[32m [repeated 31x across cluster]\u001b[0m\n",
      "\u001b[2m\u001b[36m(ClientAppActor pid=1215791)\u001b[0m \u001b[32m [repeated 42x across cluster]\u001b[0m\n",
      "\u001b[2m\u001b[36m(ClientAppActor pid=1215791)\u001b[0m Epoch 48/100\u001b[32m [repeated 42x across cluster]\u001b[0m\n",
      "\u001b[2m\u001b[36m(ClientAppActor pid=1215791)\u001b[0m Epoch 47: Training accuracy: 86.02825927734375 Testing accuracy: 76.25.\u001b[32m [repeated 42x across cluster]\u001b[0m\n",
      "\u001b[2m\u001b[36m(ClientAppActor pid=1215791)\u001b[0m \u001b[32m [repeated 51x across cluster]\u001b[0m\n",
      "\u001b[2m\u001b[36m(ClientAppActor pid=1215791)\u001b[0m Epoch 73/100\u001b[32m [repeated 51x across cluster]\u001b[0m\n",
      "\u001b[2m\u001b[36m(ClientAppActor pid=1215791)\u001b[0m Epoch 72: Training accuracy: 82.4175796508789 Testing accuracy: 74.375.\u001b[32m [repeated 51x across cluster]\u001b[0m\n",
      "\u001b[2m\u001b[36m(ClientAppActor pid=1215791)\u001b[0m \u001b[32m [repeated 65x across cluster]\u001b[0m\n",
      "\u001b[2m\u001b[36m(ClientAppActor pid=1215791)\u001b[0m Epoch 12/100\u001b[32m [repeated 65x across cluster]\u001b[0m\n",
      "\u001b[2m\u001b[36m(ClientAppActor pid=1215791)\u001b[0m Epoch 11: Training accuracy: 86.81159210205078 Testing accuracy: 75.1445083618164.\u001b[32m [repeated 65x across cluster]\u001b[0m\n",
      "\u001b[2m\u001b[36m(ClientAppActor pid=1215791)\u001b[0m \u001b[32m [repeated 62x across cluster]\u001b[0m\n",
      "\u001b[2m\u001b[36m(ClientAppActor pid=1215791)\u001b[0m Epoch 55/100\u001b[32m [repeated 62x across cluster]\u001b[0m\n",
      "\u001b[2m\u001b[36m(ClientAppActor pid=1215791)\u001b[0m Epoch 54: Training accuracy: 88.55072784423828 Testing accuracy: 75.1445083618164.\u001b[32m [repeated 62x across cluster]\u001b[0m\n",
      "\u001b[2m\u001b[36m(ClientAppActor pid=1215791)\u001b[0m \u001b[32m [repeated 32x across cluster]\u001b[0m\n",
      "\u001b[2m\u001b[36m(ClientAppActor pid=1215791)\u001b[0m Epoch 77/100\u001b[32m [repeated 32x across cluster]\u001b[0m\n",
      "\u001b[2m\u001b[36m(ClientAppActor pid=1215791)\u001b[0m Epoch 76: Training accuracy: 88.1159439086914 Testing accuracy: 71.67630004882812.\u001b[32m [repeated 32x across cluster]\u001b[0m\n",
      "\u001b[2m\u001b[36m(ClientAppActor pid=1215791)\u001b[0m \u001b[32m [repeated 33x across cluster]\u001b[0m\n",
      "\u001b[2m\u001b[36m(ClientAppActor pid=1215791)\u001b[0m Epoch 97/100\u001b[32m [repeated 33x across cluster]\u001b[0m\n",
      "\u001b[2m\u001b[36m(ClientAppActor pid=1215791)\u001b[0m Epoch 96: Training accuracy: 86.08695983886719 Testing accuracy: 68.78612518310547.\u001b[32m [repeated 33x across cluster]\u001b[0m\n",
      "\u001b[2m\u001b[36m(ClientAppActor pid=1215792)\u001b[0m \u001b[32m [repeated 16x across cluster]\u001b[0m\n",
      "\u001b[2m\u001b[36m(ClientAppActor pid=1215792)\u001b[0m Epoch 42/100\u001b[32m [repeated 16x across cluster]\u001b[0m\n",
      "\u001b[2m\u001b[36m(ClientAppActor pid=1215792)\u001b[0m Epoch 41: Training accuracy: 87.20378875732422 Testing accuracy: 71.2264175415039.\u001b[32m [repeated 17x across cluster]\u001b[0m\n",
      "\u001b[2m\u001b[36m(ClientAppActor pid=1215792)\u001b[0m \u001b[32m [repeated 10x across cluster]\u001b[0m\n",
      "\u001b[2m\u001b[36m(ClientAppActor pid=1215792)\u001b[0m Epoch 52/100\u001b[32m [repeated 10x across cluster]\u001b[0m\n",
      "\u001b[2m\u001b[36m(ClientAppActor pid=1215792)\u001b[0m Epoch 51: Training accuracy: 87.55924224853516 Testing accuracy: 75.0.\u001b[32m [repeated 10x across cluster]\u001b[0m\n",
      "\u001b[2m\u001b[36m(ClientAppActor pid=1215792)\u001b[0m \u001b[32m [repeated 12x across cluster]\u001b[0m\n",
      "\u001b[2m\u001b[36m(ClientAppActor pid=1215792)\u001b[0m Epoch 64/100\u001b[32m [repeated 12x across cluster]\u001b[0m\n",
      "\u001b[2m\u001b[36m(ClientAppActor pid=1215792)\u001b[0m Epoch 63: Training accuracy: 85.90047454833984 Testing accuracy: 71.2264175415039.\u001b[32m [repeated 12x across cluster]\u001b[0m\n",
      "\u001b[2m\u001b[36m(ClientAppActor pid=1215792)\u001b[0m \u001b[32m [repeated 13x across cluster]\u001b[0m\n",
      "\u001b[2m\u001b[36m(ClientAppActor pid=1215792)\u001b[0m Epoch 77/100\u001b[32m [repeated 13x across cluster]\u001b[0m\n",
      "\u001b[2m\u001b[36m(ClientAppActor pid=1215792)\u001b[0m Epoch 76: Training accuracy: 85.90047454833984 Testing accuracy: 73.11320495605469.\u001b[32m [repeated 13x across cluster]\u001b[0m\n",
      "\u001b[2m\u001b[36m(ClientAppActor pid=1215792)\u001b[0m \u001b[32m [repeated 15x across cluster]\u001b[0m\n",
      "\u001b[2m\u001b[36m(ClientAppActor pid=1215792)\u001b[0m Epoch 92/100\u001b[32m [repeated 15x across cluster]\u001b[0m\n",
      "\u001b[2m\u001b[36m(ClientAppActor pid=1215792)\u001b[0m Epoch 91: Training accuracy: 86.01895904541016 Testing accuracy: 70.28302001953125.\u001b[32m [repeated 15x across cluster]\u001b[0m\n"
     ]
    },
    {
     "name": "stderr",
     "output_type": "stream",
     "text": [
      "\u001b[92mINFO \u001b[0m:      aggregate_fit: received 4 results and 0 failures\n",
      "\u001b[92mINFO \u001b[0m:      fit progress: (28, 0.03277634522494148, {'accuracy': tensor(73.7094, device='cuda:0')}, 1333.095901755005)\n",
      "\u001b[92mINFO \u001b[0m:      configure_evaluate: strategy sampled 2 clients (out of 4)\n"
     ]
    },
    {
     "name": "stdout",
     "output_type": "stream",
     "text": [
      "Server-side evaluation loss 0.03277634522494148 / accuracy 73.70936584472656\n"
     ]
    },
    {
     "name": "stderr",
     "output_type": "stream",
     "text": [
      "\u001b[92mINFO \u001b[0m:      aggregate_evaluate: received 2 results and 0 failures\n",
      "\u001b[92mINFO \u001b[0m:      \n",
      "\u001b[92mINFO \u001b[0m:      [ROUND 29]\n",
      "\u001b[92mINFO \u001b[0m:      configure_fit: strategy sampled 4 clients (out of 4)\n"
     ]
    },
    {
     "name": "stdout",
     "output_type": "stream",
     "text": [
      "\u001b[2m\u001b[36m(ClientAppActor pid=1215791)\u001b[0m \u001b[32m [repeated 23x across cluster]\u001b[0m\n",
      "\u001b[2m\u001b[36m(ClientAppActor pid=1215791)\u001b[0m Epoch 8/100\u001b[32m [repeated 23x across cluster]\u001b[0m\n",
      "\u001b[2m\u001b[36m(ClientAppActor pid=1215791)\u001b[0m Epoch 7: Training accuracy: 86.52173614501953 Testing accuracy: 76.30057525634766.\u001b[32m [repeated 22x across cluster]\u001b[0m\n",
      "\u001b[2m\u001b[36m(ClientAppActor pid=1215791)\u001b[0m \u001b[32m [repeated 61x across cluster]\u001b[0m\n",
      "\u001b[2m\u001b[36m(ClientAppActor pid=1215791)\u001b[0m Epoch 38/100\u001b[32m [repeated 61x across cluster]\u001b[0m\n",
      "\u001b[2m\u001b[36m(ClientAppActor pid=1215791)\u001b[0m Epoch 37: Training accuracy: 88.26087188720703 Testing accuracy: 72.83236694335938.\u001b[32m [repeated 61x across cluster]\u001b[0m\n",
      "\u001b[2m\u001b[36m(ClientAppActor pid=1215791)\u001b[0m \u001b[32m [repeated 273x across cluster]\u001b[0m\n",
      "\u001b[2m\u001b[36m(ClientAppActor pid=1215791)\u001b[0m Epoch 91/100\u001b[32m [repeated 273x across cluster]\u001b[0m\n",
      "\u001b[2m\u001b[36m(ClientAppActor pid=1215791)\u001b[0m Epoch 90: Training accuracy: 87.44075775146484 Testing accuracy: 74.05660247802734.\u001b[32m [repeated 273x across cluster]\u001b[0m\n"
     ]
    },
    {
     "name": "stderr",
     "output_type": "stream",
     "text": [
      "\u001b[92mINFO \u001b[0m:      aggregate_fit: received 4 results and 0 failures\n",
      "\u001b[92mINFO \u001b[0m:      fit progress: (29, 0.03192980149213005, {'accuracy': tensor(74.5698, device='cuda:0')}, 1346.8293976340065)\n",
      "\u001b[92mINFO \u001b[0m:      configure_evaluate: strategy sampled 2 clients (out of 4)\n",
      "\u001b[92mINFO \u001b[0m:      aggregate_evaluate: received 2 results and 0 failures\n",
      "\u001b[92mINFO \u001b[0m:      \n",
      "\u001b[92mINFO \u001b[0m:      [ROUND 30]\n",
      "\u001b[92mINFO \u001b[0m:      configure_fit: strategy sampled 4 clients (out of 4)\n"
     ]
    },
    {
     "name": "stdout",
     "output_type": "stream",
     "text": [
      "Server-side evaluation loss 0.03192980149213005 / accuracy 74.56978607177734\n",
      "\u001b[2m\u001b[36m(ClientAppActor pid=1215791)\u001b[0m \u001b[32m [repeated 153x across cluster]\u001b[0m\n",
      "\u001b[2m\u001b[36m(ClientAppActor pid=1215791)\u001b[0m Epoch 35/100\u001b[32m [repeated 153x across cluster]\u001b[0m\n",
      "\u001b[2m\u001b[36m(ClientAppActor pid=1215791)\u001b[0m Epoch 34: Training accuracy: 87.44075775146484 Testing accuracy: 74.05660247802734.\u001b[32m [repeated 153x across cluster]\u001b[0m\n",
      "\u001b[2m\u001b[36m(ClientAppActor pid=1215791)\u001b[0m \u001b[32m [repeated 22x across cluster]\u001b[0m\n",
      "\u001b[2m\u001b[36m(ClientAppActor pid=1215791)\u001b[0m Epoch 46/100\u001b[32m [repeated 22x across cluster]\u001b[0m\n",
      "\u001b[2m\u001b[36m(ClientAppActor pid=1215791)\u001b[0m Epoch 45: Training accuracy: 86.37440490722656 Testing accuracy: 72.64151000976562.\u001b[32m [repeated 22x across cluster]\u001b[0m\n",
      "\u001b[2m\u001b[36m(ClientAppActor pid=1215791)\u001b[0m \u001b[32m [repeated 27x across cluster]\u001b[0m\n",
      "\u001b[2m\u001b[36m(ClientAppActor pid=1215791)\u001b[0m Epoch 59/100\u001b[32m [repeated 27x across cluster]\u001b[0m\n",
      "\u001b[2m\u001b[36m(ClientAppActor pid=1215791)\u001b[0m Epoch 58: Training accuracy: 86.84834289550781 Testing accuracy: 72.16981506347656.\u001b[32m [repeated 27x across cluster]\u001b[0m\n",
      "\u001b[2m\u001b[36m(ClientAppActor pid=1215792)\u001b[0m \u001b[32m [repeated 23x across cluster]\u001b[0m\n",
      "\u001b[2m\u001b[36m(ClientAppActor pid=1215792)\u001b[0m Epoch 3/100\u001b[32m [repeated 23x across cluster]\u001b[0m\n",
      "\u001b[2m\u001b[36m(ClientAppActor pid=1215792)\u001b[0m Epoch 2: Training accuracy: 85.50724792480469 Testing accuracy: 77.45664978027344.\u001b[32m [repeated 23x across cluster]\u001b[0m\n",
      "\u001b[2m\u001b[36m(ClientAppActor pid=1215791)\u001b[0m \u001b[32m [repeated 24x across cluster]\u001b[0m\n",
      "\u001b[2m\u001b[36m(ClientAppActor pid=1215791)\u001b[0m Epoch 83/100\u001b[32m [repeated 24x across cluster]\u001b[0m\n",
      "\u001b[2m\u001b[36m(ClientAppActor pid=1215791)\u001b[0m Epoch 82: Training accuracy: 86.01895904541016 Testing accuracy: 71.69811248779297.\u001b[32m [repeated 24x across cluster]\u001b[0m\n",
      "\u001b[2m\u001b[36m(ClientAppActor pid=1215792)\u001b[0m \u001b[32m [repeated 22x across cluster]\u001b[0m\n",
      "\u001b[2m\u001b[36m(ClientAppActor pid=1215792)\u001b[0m Epoch 26/100\u001b[32m [repeated 22x across cluster]\u001b[0m\n",
      "\u001b[2m\u001b[36m(ClientAppActor pid=1215792)\u001b[0m Epoch 25: Training accuracy: 88.6956558227539 Testing accuracy: 74.56647491455078.\u001b[32m [repeated 22x across cluster]\u001b[0m\n",
      "\u001b[2m\u001b[36m(ClientAppActor pid=1215791)\u001b[0m \u001b[32m [repeated 24x across cluster]\u001b[0m\n",
      "\u001b[2m\u001b[36m(ClientAppActor pid=1215791)\u001b[0m Epoch 7/100\u001b[32m [repeated 24x across cluster]\u001b[0m\n",
      "\u001b[2m\u001b[36m(ClientAppActor pid=1215791)\u001b[0m Epoch 6: Training accuracy: 83.99412536621094 Testing accuracy: 75.4385986328125.\u001b[32m [repeated 24x across cluster]\u001b[0m\n",
      "\u001b[2m\u001b[36m(ClientAppActor pid=1215791)\u001b[0m \u001b[32m [repeated 25x across cluster]\u001b[0m\n",
      "\u001b[2m\u001b[36m(ClientAppActor pid=1215791)\u001b[0m Epoch 22/100\u001b[32m [repeated 25x across cluster]\u001b[0m\n",
      "\u001b[2m\u001b[36m(ClientAppActor pid=1215791)\u001b[0m Epoch 21: Training accuracy: 85.6093978881836 Testing accuracy: 73.68421173095703.\u001b[32m [repeated 25x across cluster]\u001b[0m\n",
      "\u001b[2m\u001b[36m(ClientAppActor pid=1215791)\u001b[0m \u001b[32m [repeated 28x across cluster]\u001b[0m\n",
      "\u001b[2m\u001b[36m(ClientAppActor pid=1215791)\u001b[0m Epoch 37/100\u001b[32m [repeated 28x across cluster]\u001b[0m\n",
      "\u001b[2m\u001b[36m(ClientAppActor pid=1215791)\u001b[0m Epoch 36: Training accuracy: 86.19676971435547 Testing accuracy: 74.26900482177734.\u001b[32m [repeated 28x across cluster]\u001b[0m\n",
      "\u001b[2m\u001b[36m(ClientAppActor pid=1215791)\u001b[0m \u001b[32m [repeated 25x across cluster]\u001b[0m\n",
      "\u001b[2m\u001b[36m(ClientAppActor pid=1215791)\u001b[0m Epoch 52/100\u001b[32m [repeated 25x across cluster]\u001b[0m\n",
      "\u001b[2m\u001b[36m(ClientAppActor pid=1215791)\u001b[0m Epoch 51: Training accuracy: 86.19676971435547 Testing accuracy: 73.09941864013672.\u001b[32m [repeated 25x across cluster]\u001b[0m\n",
      "\u001b[2m\u001b[36m(ClientAppActor pid=1215792)\u001b[0m \u001b[32m [repeated 29x across cluster]\u001b[0m\n",
      "\u001b[2m\u001b[36m(ClientAppActor pid=1215792)\u001b[0m Epoch 83/100\u001b[32m [repeated 29x across cluster]\u001b[0m\n",
      "\u001b[2m\u001b[36m(ClientAppActor pid=1215792)\u001b[0m Epoch 82: Training accuracy: 87.68115997314453 Testing accuracy: 75.1445083618164.\u001b[32m [repeated 29x across cluster]\u001b[0m\n",
      "\u001b[2m\u001b[36m(ClientAppActor pid=1215791)\u001b[0m \u001b[32m [repeated 23x across cluster]\u001b[0m\n",
      "\u001b[2m\u001b[36m(ClientAppActor pid=1215791)\u001b[0m Epoch 82/100\u001b[32m [repeated 23x across cluster]\u001b[0m\n",
      "\u001b[2m\u001b[36m(ClientAppActor pid=1215791)\u001b[0m Epoch 81: Training accuracy: 85.6093978881836 Testing accuracy: 73.68421173095703.\u001b[32m [repeated 23x across cluster]\u001b[0m\n"
     ]
    },
    {
     "name": "stderr",
     "output_type": "stream",
     "text": [
      "\u001b[92mINFO \u001b[0m:      aggregate_fit: received 4 results and 0 failures\n",
      "\u001b[92mINFO \u001b[0m:      fit progress: (30, 0.031946841408224666, {'accuracy': tensor(74.3786, device='cuda:0')}, 1412.1565802499972)\n",
      "\u001b[92mINFO \u001b[0m:      configure_evaluate: strategy sampled 2 clients (out of 4)\n"
     ]
    },
    {
     "name": "stdout",
     "output_type": "stream",
     "text": [
      "Server-side evaluation loss 0.031946841408224666 / accuracy 74.37858581542969\n"
     ]
    },
    {
     "name": "stderr",
     "output_type": "stream",
     "text": [
      "\u001b[92mINFO \u001b[0m:      aggregate_evaluate: received 2 results and 0 failures\n",
      "\u001b[92mINFO \u001b[0m:      \n",
      "\u001b[92mINFO \u001b[0m:      [ROUND 31]\n",
      "\u001b[92mINFO \u001b[0m:      configure_fit: strategy sampled 4 clients (out of 4)\n"
     ]
    },
    {
     "name": "stdout",
     "output_type": "stream",
     "text": [
      "\u001b[2m\u001b[36m(ClientAppActor pid=1215791)\u001b[0m \u001b[32m [repeated 35x across cluster]\u001b[0m\n",
      "\u001b[2m\u001b[36m(ClientAppActor pid=1215791)\u001b[0m Epoch 8/100\u001b[32m [repeated 35x across cluster]\u001b[0m\n",
      "\u001b[2m\u001b[36m(ClientAppActor pid=1215791)\u001b[0m Epoch 7: Training accuracy: 87.5362319946289 Testing accuracy: 76.87861633300781.\u001b[32m [repeated 35x across cluster]\u001b[0m\n",
      "\u001b[2m\u001b[36m(ClientAppActor pid=1215791)\u001b[0m \u001b[32m [repeated 187x across cluster]\u001b[0m\n",
      "\u001b[2m\u001b[36m(ClientAppActor pid=1215791)\u001b[0m Epoch 81/100\u001b[32m [repeated 187x across cluster]\u001b[0m\n",
      "\u001b[2m\u001b[36m(ClientAppActor pid=1215791)\u001b[0m Epoch 80: Training accuracy: 87.79621124267578 Testing accuracy: 72.16981506347656.\u001b[32m [repeated 187x across cluster]\u001b[0m\n",
      "\u001b[2m\u001b[36m(ClientAppActor pid=1215792)\u001b[0m \u001b[32m [repeated 139x across cluster]\u001b[0m\n",
      "\u001b[2m\u001b[36m(ClientAppActor pid=1215792)\u001b[0m Epoch 35/100\u001b[32m [repeated 139x across cluster]\u001b[0m\n",
      "\u001b[2m\u001b[36m(ClientAppActor pid=1215792)\u001b[0m Epoch 34: Training accuracy: 85.24333190917969 Testing accuracy: 78.75.\u001b[32m [repeated 140x across cluster]\u001b[0m\n",
      "\u001b[2m\u001b[36m(ClientAppActor pid=1215792)\u001b[0m \u001b[32m [repeated 18x across cluster]\u001b[0m\n",
      "\u001b[2m\u001b[36m(ClientAppActor pid=1215792)\u001b[0m Epoch 53/100\u001b[32m [repeated 18x across cluster]\u001b[0m\n",
      "\u001b[2m\u001b[36m(ClientAppActor pid=1215792)\u001b[0m Epoch 52: Training accuracy: 87.12715911865234 Testing accuracy: 78.75.\u001b[32m [repeated 18x across cluster]\u001b[0m\n",
      "\u001b[2m\u001b[36m(ClientAppActor pid=1215792)\u001b[0m \u001b[32m [repeated 11x across cluster]\u001b[0m\n",
      "\u001b[2m\u001b[36m(ClientAppActor pid=1215792)\u001b[0m Epoch 64/100\u001b[32m [repeated 11x across cluster]\u001b[0m\n",
      "\u001b[2m\u001b[36m(ClientAppActor pid=1215792)\u001b[0m Epoch 63: Training accuracy: 86.65620422363281 Testing accuracy: 77.5.\u001b[32m [repeated 11x across cluster]\u001b[0m\n",
      "\u001b[2m\u001b[36m(ClientAppActor pid=1215792)\u001b[0m \u001b[32m [repeated 13x across cluster]\u001b[0m\n",
      "\u001b[2m\u001b[36m(ClientAppActor pid=1215792)\u001b[0m Epoch 77/100\u001b[32m [repeated 13x across cluster]\u001b[0m\n",
      "\u001b[2m\u001b[36m(ClientAppActor pid=1215792)\u001b[0m Epoch 76: Training accuracy: 85.08634185791016 Testing accuracy: 74.375.\u001b[32m [repeated 13x across cluster]\u001b[0m\n",
      "\u001b[2m\u001b[36m(ClientAppActor pid=1215792)\u001b[0m \u001b[32m [repeated 11x across cluster]\u001b[0m\n",
      "\u001b[2m\u001b[36m(ClientAppActor pid=1215792)\u001b[0m Epoch 88/100\u001b[32m [repeated 11x across cluster]\u001b[0m\n",
      "\u001b[2m\u001b[36m(ClientAppActor pid=1215792)\u001b[0m Epoch 87: Training accuracy: 86.65620422363281 Testing accuracy: 78.125.\u001b[32m [repeated 11x across cluster]\u001b[0m\n"
     ]
    },
    {
     "name": "stderr",
     "output_type": "stream",
     "text": [
      "\u001b[92mINFO \u001b[0m:      aggregate_fit: received 4 results and 0 failures\n",
      "\u001b[92mINFO \u001b[0m:      fit progress: (31, 0.03203623785692103, {'accuracy': tensor(74.8566, device='cuda:0')}, 1449.6373240520043)\n",
      "\u001b[92mINFO \u001b[0m:      configure_evaluate: strategy sampled 2 clients (out of 4)\n"
     ]
    },
    {
     "name": "stdout",
     "output_type": "stream",
     "text": [
      "\u001b[2m\u001b[36m(ClientAppActor pid=1215792)\u001b[0m \u001b[32m [repeated 12x across cluster]\u001b[0m\n",
      "\u001b[2m\u001b[36m(ClientAppActor pid=1215792)\u001b[0m Epoch 100/100\u001b[32m [repeated 12x across cluster]\u001b[0m\n",
      "\u001b[2m\u001b[36m(ClientAppActor pid=1215792)\u001b[0m Epoch 100: Training accuracy: 85.40031433105469 Testing accuracy: 76.25.\u001b[32m [repeated 13x across cluster]\u001b[0m\n",
      "Server-side evaluation loss 0.03203623785692103 / accuracy 74.85659790039062\n"
     ]
    },
    {
     "name": "stderr",
     "output_type": "stream",
     "text": [
      "\u001b[92mINFO \u001b[0m:      aggregate_evaluate: received 2 results and 0 failures\n",
      "\u001b[92mINFO \u001b[0m:      \n",
      "\u001b[92mINFO \u001b[0m:      [ROUND 32]\n",
      "\u001b[92mINFO \u001b[0m:      configure_fit: strategy sampled 4 clients (out of 4)\n"
     ]
    },
    {
     "name": "stdout",
     "output_type": "stream",
     "text": [
      "\u001b[2m\u001b[36m(ClientAppActor pid=1215791)\u001b[0m \u001b[32m [repeated 41x across cluster]\u001b[0m\n",
      "\u001b[2m\u001b[36m(ClientAppActor pid=1215791)\u001b[0m Epoch 34/100\u001b[32m [repeated 41x across cluster]\u001b[0m\n",
      "\u001b[2m\u001b[36m(ClientAppActor pid=1215791)\u001b[0m Epoch 33: Training accuracy: 76.94567108154297 Testing accuracy: 70.1754379272461.\u001b[32m [repeated 39x across cluster]\u001b[0m\n",
      "\u001b[2m\u001b[36m(ClientAppActor pid=1215791)\u001b[0m \u001b[32m [repeated 47x across cluster]\u001b[0m\n",
      "\u001b[2m\u001b[36m(ClientAppActor pid=1215791)\u001b[0m Epoch 71/100\u001b[32m [repeated 47x across cluster]\u001b[0m\n",
      "\u001b[2m\u001b[36m(ClientAppActor pid=1215791)\u001b[0m Epoch 70: Training accuracy: 86.4904556274414 Testing accuracy: 73.68421173095703.\u001b[32m [repeated 47x across cluster]\u001b[0m\n",
      "\u001b[2m\u001b[36m(ClientAppActor pid=1215791)\u001b[0m \u001b[32m [repeated 41x across cluster]\u001b[0m\n",
      "\u001b[2m\u001b[36m(ClientAppActor pid=1215791)\u001b[0m Epoch 3/100\u001b[32m [repeated 41x across cluster]\u001b[0m\n",
      "\u001b[2m\u001b[36m(ClientAppActor pid=1215791)\u001b[0m Epoch 2: Training accuracy: 81.3043441772461 Testing accuracy: 74.56647491455078.\u001b[32m [repeated 41x across cluster]\u001b[0m\n",
      "\u001b[2m\u001b[36m(ClientAppActor pid=1215791)\u001b[0m \u001b[32m [repeated 119x across cluster]\u001b[0m\n",
      "\u001b[2m\u001b[36m(ClientAppActor pid=1215791)\u001b[0m Epoch 9/100\u001b[32m [repeated 119x across cluster]\u001b[0m\n",
      "\u001b[2m\u001b[36m(ClientAppActor pid=1215791)\u001b[0m Epoch 8: Training accuracy: 84.4583969116211 Testing accuracy: 78.125.\u001b[32m [repeated 119x across cluster]\u001b[0m\n",
      "\u001b[2m\u001b[36m(ClientAppActor pid=1215792)\u001b[0m \u001b[32m [repeated 132x across cluster]\u001b[0m\n",
      "\u001b[2m\u001b[36m(ClientAppActor pid=1215792)\u001b[0m Epoch 80/100\u001b[32m [repeated 132x across cluster]\u001b[0m\n",
      "\u001b[2m\u001b[36m(ClientAppActor pid=1215792)\u001b[0m Epoch 79: Training accuracy: 87.55924224853516 Testing accuracy: 75.0.\u001b[32m [repeated 133x across cluster]\u001b[0m\n"
     ]
    },
    {
     "name": "stderr",
     "output_type": "stream",
     "text": [
      "\u001b[92mINFO \u001b[0m:      aggregate_fit: received 4 results and 0 failures\n",
      "\u001b[92mINFO \u001b[0m:      fit progress: (32, 0.03262832234887516, {'accuracy': tensor(73.7094, device='cuda:0')}, 1477.4545442030067)\n",
      "\u001b[92mINFO \u001b[0m:      configure_evaluate: strategy sampled 2 clients (out of 4)\n",
      "\u001b[92mINFO \u001b[0m:      aggregate_evaluate: received 2 results and 0 failures\n",
      "\u001b[92mINFO \u001b[0m:      \n",
      "\u001b[92mINFO \u001b[0m:      [ROUND 33]\n",
      "\u001b[92mINFO \u001b[0m:      configure_fit: strategy sampled 4 clients (out of 4)\n"
     ]
    },
    {
     "name": "stdout",
     "output_type": "stream",
     "text": [
      "Server-side evaluation loss 0.03262832234887516 / accuracy 73.70936584472656\n",
      "\u001b[2m\u001b[36m(ClientAppActor pid=1215792)\u001b[0m \u001b[32m [repeated 113x across cluster]\u001b[0m\n",
      "\u001b[2m\u001b[36m(ClientAppActor pid=1215792)\u001b[0m Epoch 30/100\u001b[32m [repeated 113x across cluster]\u001b[0m\n",
      "\u001b[2m\u001b[36m(ClientAppActor pid=1215792)\u001b[0m Epoch 29: Training accuracy: 87.12715911865234 Testing accuracy: 77.5.\u001b[32m [repeated 112x across cluster]\u001b[0m\n",
      "\u001b[2m\u001b[36m(ClientAppActor pid=1215792)\u001b[0m \u001b[32m [repeated 35x across cluster]\u001b[0m\n",
      "\u001b[2m\u001b[36m(ClientAppActor pid=1215792)\u001b[0m Epoch 49/100\u001b[32m [repeated 35x across cluster]\u001b[0m\n",
      "\u001b[2m\u001b[36m(ClientAppActor pid=1215792)\u001b[0m Epoch 48: Training accuracy: 87.12715911865234 Testing accuracy: 76.875.\u001b[32m [repeated 35x across cluster]\u001b[0m\n",
      "\u001b[2m\u001b[36m(ClientAppActor pid=1215792)\u001b[0m \u001b[32m [repeated 23x across cluster]\u001b[0m\n",
      "\u001b[2m\u001b[36m(ClientAppActor pid=1215792)\u001b[0m Epoch 62/100\u001b[32m [repeated 23x across cluster]\u001b[0m\n",
      "\u001b[2m\u001b[36m(ClientAppActor pid=1215792)\u001b[0m Epoch 61: Training accuracy: 86.18524169921875 Testing accuracy: 77.5.\u001b[32m [repeated 23x across cluster]\u001b[0m\n",
      "\u001b[2m\u001b[36m(ClientAppActor pid=1215792)\u001b[0m \u001b[32m [repeated 24x across cluster]\u001b[0m\n",
      "\u001b[2m\u001b[36m(ClientAppActor pid=1215792)\u001b[0m Epoch 73/100\u001b[32m [repeated 24x across cluster]\u001b[0m\n",
      "\u001b[2m\u001b[36m(ClientAppActor pid=1215792)\u001b[0m Epoch 72: Training accuracy: 86.65620422363281 Testing accuracy: 77.5.\u001b[32m [repeated 24x across cluster]\u001b[0m\n",
      "\u001b[2m\u001b[36m(ClientAppActor pid=1215792)\u001b[0m \u001b[32m [repeated 27x across cluster]\u001b[0m\n",
      "\u001b[2m\u001b[36m(ClientAppActor pid=1215792)\u001b[0m Epoch 86/100\u001b[32m [repeated 27x across cluster]\u001b[0m\n",
      "\u001b[2m\u001b[36m(ClientAppActor pid=1215792)\u001b[0m Epoch 85: Training accuracy: 86.65620422363281 Testing accuracy: 75.625.\u001b[32m [repeated 27x across cluster]\u001b[0m\n",
      "\u001b[2m\u001b[36m(ClientAppActor pid=1215792)\u001b[0m \u001b[32m [repeated 28x across cluster]\u001b[0m\n",
      "\u001b[2m\u001b[36m(ClientAppActor pid=1215792)\u001b[0m Epoch 98/100\u001b[32m [repeated 28x across cluster]\u001b[0m\n",
      "\u001b[2m\u001b[36m(ClientAppActor pid=1215792)\u001b[0m Epoch 97: Training accuracy: 86.34223175048828 Testing accuracy: 76.875.\u001b[32m [repeated 28x across cluster]\u001b[0m\n",
      "\u001b[2m\u001b[36m(ClientAppActor pid=1215791)\u001b[0m \u001b[32m [repeated 25x across cluster]\u001b[0m\n",
      "\u001b[2m\u001b[36m(ClientAppActor pid=1215791)\u001b[0m Epoch 47/100\u001b[32m [repeated 25x across cluster]\u001b[0m\n",
      "\u001b[2m\u001b[36m(ClientAppActor pid=1215791)\u001b[0m Epoch 46: Training accuracy: 85.75624084472656 Testing accuracy: 71.92982482910156.\u001b[32m [repeated 25x across cluster]\u001b[0m\n",
      "\u001b[2m\u001b[36m(ClientAppActor pid=1215792)\u001b[0m \u001b[32m [repeated 27x across cluster]\u001b[0m\n",
      "\u001b[2m\u001b[36m(ClientAppActor pid=1215792)\u001b[0m Epoch 20/100\u001b[32m [repeated 27x across cluster]\u001b[0m\n",
      "\u001b[2m\u001b[36m(ClientAppActor pid=1215792)\u001b[0m Epoch 19: Training accuracy: 86.66666412353516 Testing accuracy: 72.83236694335938.\u001b[32m [repeated 27x across cluster]\u001b[0m\n",
      "\u001b[2m\u001b[36m(ClientAppActor pid=1215792)\u001b[0m \u001b[32m [repeated 26x across cluster]\u001b[0m\n",
      "\u001b[2m\u001b[36m(ClientAppActor pid=1215792)\u001b[0m Epoch 31/100\u001b[32m [repeated 26x across cluster]\u001b[0m\n",
      "\u001b[2m\u001b[36m(ClientAppActor pid=1215792)\u001b[0m Epoch 30: Training accuracy: 88.26087188720703 Testing accuracy: 75.1445083618164.\u001b[32m [repeated 26x across cluster]\u001b[0m\n",
      "\u001b[2m\u001b[36m(ClientAppActor pid=1215791)\u001b[0m \u001b[32m [repeated 24x across cluster]\u001b[0m\n",
      "\u001b[2m\u001b[36m(ClientAppActor pid=1215791)\u001b[0m Epoch 91/100\u001b[32m [repeated 24x across cluster]\u001b[0m\n",
      "\u001b[2m\u001b[36m(ClientAppActor pid=1215791)\u001b[0m Epoch 90: Training accuracy: 86.34361267089844 Testing accuracy: 73.68421173095703.\u001b[32m [repeated 24x across cluster]\u001b[0m\n",
      "\u001b[2m\u001b[36m(ClientAppActor pid=1215792)\u001b[0m \u001b[32m [repeated 22x across cluster]\u001b[0m\n",
      "\u001b[2m\u001b[36m(ClientAppActor pid=1215792)\u001b[0m Epoch 54/100\u001b[32m [repeated 22x across cluster]\u001b[0m\n",
      "\u001b[2m\u001b[36m(ClientAppActor pid=1215792)\u001b[0m Epoch 53: Training accuracy: 85.50724792480469 Testing accuracy: 72.25433349609375.\u001b[32m [repeated 23x across cluster]\u001b[0m\n",
      "\u001b[2m\u001b[36m(ClientAppActor pid=1215792)\u001b[0m \u001b[32m [repeated 10x across cluster]\u001b[0m\n",
      "\u001b[2m\u001b[36m(ClientAppActor pid=1215792)\u001b[0m Epoch 64/100\u001b[32m [repeated 10x across cluster]\u001b[0m\n",
      "\u001b[2m\u001b[36m(ClientAppActor pid=1215792)\u001b[0m Epoch 63: Training accuracy: 89.27536010742188 Testing accuracy: 74.56647491455078.\u001b[32m [repeated 10x across cluster]\u001b[0m\n",
      "\u001b[2m\u001b[36m(ClientAppActor pid=1215792)\u001b[0m \u001b[32m [repeated 12x across cluster]\u001b[0m\n",
      "\u001b[2m\u001b[36m(ClientAppActor pid=1215792)\u001b[0m Epoch 76/100\u001b[32m [repeated 12x across cluster]\u001b[0m\n",
      "\u001b[2m\u001b[36m(ClientAppActor pid=1215792)\u001b[0m Epoch 75: Training accuracy: 88.40579986572266 Testing accuracy: 73.98844146728516.\u001b[32m [repeated 12x across cluster]\u001b[0m\n",
      "\u001b[2m\u001b[36m(ClientAppActor pid=1215792)\u001b[0m \u001b[32m [repeated 14x across cluster]\u001b[0m\n",
      "\u001b[2m\u001b[36m(ClientAppActor pid=1215792)\u001b[0m Epoch 90/100\u001b[32m [repeated 14x across cluster]\u001b[0m\n",
      "\u001b[2m\u001b[36m(ClientAppActor pid=1215792)\u001b[0m Epoch 89: Training accuracy: 88.6956558227539 Testing accuracy: 75.1445083618164.\u001b[32m [repeated 14x across cluster]\u001b[0m\n"
     ]
    },
    {
     "name": "stderr",
     "output_type": "stream",
     "text": [
      "\u001b[92mINFO \u001b[0m:      aggregate_fit: received 4 results and 0 failures\n",
      "\u001b[92mINFO \u001b[0m:      fit progress: (33, 0.03145020498948939, {'accuracy': tensor(74.7610, device='cuda:0')}, 1549.971215491998)\n",
      "\u001b[92mINFO \u001b[0m:      configure_evaluate: strategy sampled 2 clients (out of 4)\n"
     ]
    },
    {
     "name": "stdout",
     "output_type": "stream",
     "text": [
      "Server-side evaluation loss 0.03145020498948939 / accuracy 74.76099395751953\n"
     ]
    },
    {
     "name": "stderr",
     "output_type": "stream",
     "text": [
      "\u001b[92mINFO \u001b[0m:      aggregate_evaluate: received 2 results and 0 failures\n",
      "\u001b[92mINFO \u001b[0m:      \n",
      "\u001b[92mINFO \u001b[0m:      [ROUND 34]\n",
      "\u001b[92mINFO \u001b[0m:      configure_fit: strategy sampled 4 clients (out of 4)\n"
     ]
    },
    {
     "name": "stdout",
     "output_type": "stream",
     "text": [
      "\u001b[2m\u001b[36m(ClientAppActor pid=1215791)\u001b[0m \u001b[32m [repeated 33x across cluster]\u001b[0m\n",
      "\u001b[2m\u001b[36m(ClientAppActor pid=1215791)\u001b[0m Epoch 19/100\u001b[32m [repeated 33x across cluster]\u001b[0m\n",
      "\u001b[2m\u001b[36m(ClientAppActor pid=1215791)\u001b[0m Epoch 18: Training accuracy: 84.58149719238281 Testing accuracy: 75.4385986328125.\u001b[32m [repeated 32x across cluster]\u001b[0m\n",
      "\u001b[2m\u001b[36m(ClientAppActor pid=1215791)\u001b[0m \u001b[32m [repeated 98x across cluster]\u001b[0m\n",
      "\u001b[2m\u001b[36m(ClientAppActor pid=1215791)\u001b[0m Epoch 3/100\u001b[32m [repeated 98x across cluster]\u001b[0m\n",
      "\u001b[2m\u001b[36m(ClientAppActor pid=1215791)\u001b[0m Epoch 2: Training accuracy: 85.07246398925781 Testing accuracy: 76.30057525634766.\u001b[32m [repeated 98x across cluster]\u001b[0m\n",
      "\u001b[2m\u001b[36m(ClientAppActor pid=1215791)\u001b[0m \u001b[32m [repeated 44x across cluster]\u001b[0m\n",
      "\u001b[2m\u001b[36m(ClientAppActor pid=1215791)\u001b[0m Epoch 39/100\u001b[32m [repeated 44x across cluster]\u001b[0m\n",
      "\u001b[2m\u001b[36m(ClientAppActor pid=1215791)\u001b[0m Epoch 38: Training accuracy: 88.6956558227539 Testing accuracy: 75.1445083618164.\u001b[32m [repeated 44x across cluster]\u001b[0m\n",
      "\u001b[2m\u001b[36m(ClientAppActor pid=1215791)\u001b[0m \u001b[32m [repeated 40x across cluster]\u001b[0m\n",
      "\u001b[2m\u001b[36m(ClientAppActor pid=1215791)\u001b[0m Epoch 71/100\u001b[32m [repeated 40x across cluster]\u001b[0m\n",
      "\u001b[2m\u001b[36m(ClientAppActor pid=1215791)\u001b[0m Epoch 70: Training accuracy: 88.98550415039062 Testing accuracy: 72.83236694335938.\u001b[32m [repeated 40x across cluster]\u001b[0m\n",
      "\u001b[2m\u001b[36m(ClientAppActor pid=1215791)\u001b[0m \u001b[32m [repeated 46x across cluster]\u001b[0m\n",
      "\u001b[2m\u001b[36m(ClientAppActor pid=1215791)\u001b[0m Epoch 7/100\u001b[32m [repeated 46x across cluster]\u001b[0m\n",
      "\u001b[2m\u001b[36m(ClientAppActor pid=1215791)\u001b[0m Epoch 6: Training accuracy: 84.92935943603516 Testing accuracy: 79.375.\u001b[32m [repeated 46x across cluster]\u001b[0m\n",
      "\u001b[2m\u001b[36m(ClientAppActor pid=1215791)\u001b[0m \u001b[32m [repeated 45x across cluster]\u001b[0m\n",
      "\u001b[2m\u001b[36m(ClientAppActor pid=1215791)\u001b[0m Epoch 44/100\u001b[32m [repeated 45x across cluster]\u001b[0m\n",
      "\u001b[2m\u001b[36m(ClientAppActor pid=1215791)\u001b[0m Epoch 43: Training accuracy: 86.97016906738281 Testing accuracy: 77.5.\u001b[32m [repeated 45x across cluster]\u001b[0m\n",
      "\u001b[2m\u001b[36m(ClientAppActor pid=1215791)\u001b[0m \u001b[32m [repeated 48x across cluster]\u001b[0m\n",
      "\u001b[2m\u001b[36m(ClientAppActor pid=1215791)\u001b[0m Epoch 83/100\u001b[32m [repeated 48x across cluster]\u001b[0m\n",
      "\u001b[2m\u001b[36m(ClientAppActor pid=1215791)\u001b[0m Epoch 82: Training accuracy: 81.00470733642578 Testing accuracy: 76.25.\u001b[32m [repeated 48x across cluster]\u001b[0m\n",
      "\u001b[2m\u001b[36m(ClientAppActor pid=1215792)\u001b[0m \u001b[32m [repeated 26x across cluster]\u001b[0m\n",
      "\u001b[2m\u001b[36m(ClientAppActor pid=1215792)\u001b[0m Epoch 70/100\u001b[32m [repeated 26x across cluster]\u001b[0m\n",
      "\u001b[2m\u001b[36m(ClientAppActor pid=1215792)\u001b[0m Epoch 69: Training accuracy: 87.55924224853516 Testing accuracy: 74.05660247802734.\u001b[32m [repeated 27x across cluster]\u001b[0m\n",
      "\u001b[2m\u001b[36m(ClientAppActor pid=1215792)\u001b[0m \u001b[32m [repeated 13x across cluster]\u001b[0m\n",
      "\u001b[2m\u001b[36m(ClientAppActor pid=1215792)\u001b[0m Epoch 83/100\u001b[32m [repeated 13x across cluster]\u001b[0m\n",
      "\u001b[2m\u001b[36m(ClientAppActor pid=1215792)\u001b[0m Epoch 82: Training accuracy: 86.84834289550781 Testing accuracy: 72.16981506347656.\u001b[32m [repeated 13x across cluster]\u001b[0m\n"
     ]
    },
    {
     "name": "stderr",
     "output_type": "stream",
     "text": [
      "\u001b[92mINFO \u001b[0m:      aggregate_fit: received 4 results and 0 failures\n",
      "\u001b[92mINFO \u001b[0m:      fit progress: (34, 0.03333754399243523, {'accuracy': tensor(73.9006, device='cuda:0')}, 1596.8646118080069)\n",
      "\u001b[92mINFO \u001b[0m:      configure_evaluate: strategy sampled 2 clients (out of 4)\n",
      "\u001b[92mINFO \u001b[0m:      aggregate_evaluate: received 2 results and 0 failures\n",
      "\u001b[92mINFO \u001b[0m:      \n",
      "\u001b[92mINFO \u001b[0m:      [ROUND 35]\n",
      "\u001b[92mINFO \u001b[0m:      configure_fit: strategy sampled 4 clients (out of 4)\n"
     ]
    },
    {
     "name": "stdout",
     "output_type": "stream",
     "text": [
      "Server-side evaluation loss 0.03333754399243523 / accuracy 73.90057373046875\n",
      "\u001b[2m\u001b[36m(ClientAppActor pid=1215791)\u001b[0m \u001b[32m [repeated 71x across cluster]\u001b[0m\n",
      "\u001b[2m\u001b[36m(ClientAppActor pid=1215791)\u001b[0m Epoch 43/100\u001b[32m [repeated 71x across cluster]\u001b[0m\n",
      "\u001b[2m\u001b[36m(ClientAppActor pid=1215791)\u001b[0m Epoch 42: Training accuracy: 87.28414154052734 Testing accuracy: 76.875.\u001b[32m [repeated 70x across cluster]\u001b[0m\n",
      "\u001b[2m\u001b[36m(ClientAppActor pid=1215791)\u001b[0m \u001b[32m [repeated 307x across cluster]\u001b[0m\n",
      "\u001b[2m\u001b[36m(ClientAppActor pid=1215791)\u001b[0m Epoch 61/100\u001b[32m [repeated 307x across cluster]\u001b[0m\n",
      "\u001b[2m\u001b[36m(ClientAppActor pid=1215791)\u001b[0m Epoch 60: Training accuracy: 85.6093978881836 Testing accuracy: 73.09941864013672.\u001b[32m [repeated 308x across cluster]\u001b[0m\n",
      "\u001b[2m\u001b[36m(ClientAppActor pid=1215791)\u001b[0m \u001b[32m [repeated 28x across cluster]\u001b[0m\n",
      "\u001b[2m\u001b[36m(ClientAppActor pid=1215791)\u001b[0m Epoch 89/100\u001b[32m [repeated 28x across cluster]\u001b[0m\n",
      "\u001b[2m\u001b[36m(ClientAppActor pid=1215791)\u001b[0m Epoch 88: Training accuracy: 86.0499267578125 Testing accuracy: 72.51461791992188.\u001b[32m [repeated 28x across cluster]\u001b[0m\n"
     ]
    },
    {
     "name": "stderr",
     "output_type": "stream",
     "text": [
      "\u001b[92mINFO \u001b[0m:      aggregate_fit: received 4 results and 0 failures\n",
      "\u001b[92mINFO \u001b[0m:      fit progress: (35, 0.03107204507378971, {'accuracy': tensor(75.1434, device='cuda:0')}, 1612.993723150008)\n",
      "\u001b[92mINFO \u001b[0m:      configure_evaluate: strategy sampled 2 clients (out of 4)\n"
     ]
    },
    {
     "name": "stdout",
     "output_type": "stream",
     "text": [
      "Server-side evaluation loss 0.03107204507378971 / accuracy 75.14340209960938\n"
     ]
    },
    {
     "name": "stderr",
     "output_type": "stream",
     "text": [
      "\u001b[92mINFO \u001b[0m:      aggregate_evaluate: received 2 results and 0 failures\n",
      "\u001b[92mINFO \u001b[0m:      \n",
      "\u001b[92mINFO \u001b[0m:      [ROUND 36]\n",
      "\u001b[92mINFO \u001b[0m:      configure_fit: strategy sampled 4 clients (out of 4)\n"
     ]
    },
    {
     "name": "stdout",
     "output_type": "stream",
     "text": [
      "\u001b[2m\u001b[36m(ClientAppActor pid=1215791)\u001b[0m \u001b[32m [repeated 12x across cluster]\u001b[0m\n",
      "\u001b[2m\u001b[36m(ClientAppActor pid=1215791)\u001b[0m Epoch 1/100\u001b[32m [repeated 12x across cluster]\u001b[0m\n",
      "\u001b[2m\u001b[36m(ClientAppActor pid=1215791)\u001b[0m Epoch 100: Training accuracy: 86.34361267089844 Testing accuracy: 71.92982482910156.\u001b[32m [repeated 12x across cluster]\u001b[0m\n",
      "\u001b[2m\u001b[36m(ClientAppActor pid=1215791)\u001b[0m \u001b[32m [repeated 29x across cluster]\u001b[0m\n",
      "\u001b[2m\u001b[36m(ClientAppActor pid=1215791)\u001b[0m Epoch 17/100\u001b[32m [repeated 29x across cluster]\u001b[0m\n",
      "\u001b[2m\u001b[36m(ClientAppActor pid=1215791)\u001b[0m Epoch 16: Training accuracy: 88.40579986572266 Testing accuracy: 73.98844146728516.\u001b[32m [repeated 28x across cluster]\u001b[0m\n",
      "\u001b[2m\u001b[36m(ClientAppActor pid=1215791)\u001b[0m \u001b[32m [repeated 25x across cluster]\u001b[0m\n",
      "\u001b[2m\u001b[36m(ClientAppActor pid=1215791)\u001b[0m Epoch 32/100\u001b[32m [repeated 25x across cluster]\u001b[0m\n",
      "\u001b[2m\u001b[36m(ClientAppActor pid=1215791)\u001b[0m Epoch 31: Training accuracy: 88.26087188720703 Testing accuracy: 74.56647491455078.\u001b[32m [repeated 25x across cluster]\u001b[0m\n",
      "\u001b[2m\u001b[36m(ClientAppActor pid=1215791)\u001b[0m \u001b[32m [repeated 26x across cluster]\u001b[0m\n",
      "\u001b[2m\u001b[36m(ClientAppActor pid=1215791)\u001b[0m Epoch 46/100\u001b[32m [repeated 26x across cluster]\u001b[0m\n",
      "\u001b[2m\u001b[36m(ClientAppActor pid=1215791)\u001b[0m Epoch 45: Training accuracy: 89.13043212890625 Testing accuracy: 74.56647491455078.\u001b[32m [repeated 26x across cluster]\u001b[0m\n",
      "\u001b[2m\u001b[36m(ClientAppActor pid=1215791)\u001b[0m \u001b[32m [repeated 27x across cluster]\u001b[0m\n",
      "\u001b[2m\u001b[36m(ClientAppActor pid=1215791)\u001b[0m Epoch 62/100\u001b[32m [repeated 27x across cluster]\u001b[0m\n",
      "\u001b[2m\u001b[36m(ClientAppActor pid=1215791)\u001b[0m Epoch 61: Training accuracy: 88.840576171875 Testing accuracy: 72.83236694335938.\u001b[32m [repeated 27x across cluster]\u001b[0m\n",
      "\u001b[2m\u001b[36m(ClientAppActor pid=1215791)\u001b[0m \u001b[32m [repeated 29x across cluster]\u001b[0m\n",
      "\u001b[2m\u001b[36m(ClientAppActor pid=1215791)\u001b[0m Epoch 75/100\u001b[32m [repeated 29x across cluster]\u001b[0m\n",
      "\u001b[2m\u001b[36m(ClientAppActor pid=1215791)\u001b[0m Epoch 74: Training accuracy: 85.21739196777344 Testing accuracy: 73.41040802001953.\u001b[32m [repeated 29x across cluster]\u001b[0m\n",
      "\u001b[2m\u001b[36m(ClientAppActor pid=1215791)\u001b[0m \u001b[32m [repeated 29x across cluster]\u001b[0m\n",
      "\u001b[2m\u001b[36m(ClientAppActor pid=1215791)\u001b[0m Epoch 91/100\u001b[32m [repeated 29x across cluster]\u001b[0m\n",
      "\u001b[2m\u001b[36m(ClientAppActor pid=1215791)\u001b[0m Epoch 90: Training accuracy: 88.98550415039062 Testing accuracy: 73.98844146728516.\u001b[32m [repeated 29x across cluster]\u001b[0m\n",
      "\u001b[2m\u001b[36m(ClientAppActor pid=1215791)\u001b[0m \u001b[32m [repeated 30x across cluster]\u001b[0m\n",
      "\u001b[2m\u001b[36m(ClientAppActor pid=1215791)\u001b[0m Epoch 6/100\u001b[32m [repeated 30x across cluster]\u001b[0m\n",
      "\u001b[2m\u001b[36m(ClientAppActor pid=1215791)\u001b[0m Epoch 5: Training accuracy: 83.83045196533203 Testing accuracy: 75.0.\u001b[32m [repeated 30x across cluster]\u001b[0m\n",
      "\u001b[2m\u001b[36m(ClientAppActor pid=1215791)\u001b[0m \u001b[32m [repeated 29x across cluster]\u001b[0m\n",
      "\u001b[2m\u001b[36m(ClientAppActor pid=1215791)\u001b[0m Epoch 21/100\u001b[32m [repeated 29x across cluster]\u001b[0m\n",
      "\u001b[2m\u001b[36m(ClientAppActor pid=1215791)\u001b[0m Epoch 20: Training accuracy: 85.71428680419922 Testing accuracy: 74.375.\u001b[32m [repeated 29x across cluster]\u001b[0m\n",
      "\u001b[2m\u001b[36m(ClientAppActor pid=1215791)\u001b[0m \u001b[32m [repeated 27x across cluster]\u001b[0m\n",
      "\u001b[2m\u001b[36m(ClientAppActor pid=1215791)\u001b[0m Epoch 37/100\u001b[32m [repeated 27x across cluster]\u001b[0m\n",
      "\u001b[2m\u001b[36m(ClientAppActor pid=1215791)\u001b[0m Epoch 36: Training accuracy: 85.55729675292969 Testing accuracy: 75.625.\u001b[32m [repeated 27x across cluster]\u001b[0m\n",
      "\u001b[2m\u001b[36m(ClientAppActor pid=1215791)\u001b[0m \u001b[32m [repeated 28x across cluster]\u001b[0m\n",
      "\u001b[2m\u001b[36m(ClientAppActor pid=1215791)\u001b[0m Epoch 54/100\u001b[32m [repeated 28x across cluster]\u001b[0m\n",
      "\u001b[2m\u001b[36m(ClientAppActor pid=1215791)\u001b[0m Epoch 53: Training accuracy: 85.40031433105469 Testing accuracy: 77.5.\u001b[32m [repeated 28x across cluster]\u001b[0m\n",
      "\u001b[2m\u001b[36m(ClientAppActor pid=1215791)\u001b[0m \u001b[32m [repeated 30x across cluster]\u001b[0m\n",
      "\u001b[2m\u001b[36m(ClientAppActor pid=1215791)\u001b[0m Epoch 68/100\u001b[32m [repeated 30x across cluster]\u001b[0m\n",
      "\u001b[2m\u001b[36m(ClientAppActor pid=1215791)\u001b[0m Epoch 67: Training accuracy: 87.12715911865234 Testing accuracy: 76.875.\u001b[32m [repeated 30x across cluster]\u001b[0m\n",
      "\u001b[2m\u001b[36m(ClientAppActor pid=1215792)\u001b[0m \u001b[32m [repeated 46x across cluster]\u001b[0m\n",
      "\u001b[2m\u001b[36m(ClientAppActor pid=1215792)\u001b[0m Epoch 64/100\u001b[32m [repeated 46x across cluster]\u001b[0m\n",
      "\u001b[2m\u001b[36m(ClientAppActor pid=1215792)\u001b[0m Epoch 63: Training accuracy: 87.55924224853516 Testing accuracy: 73.58490753173828.\u001b[32m [repeated 46x across cluster]\u001b[0m\n",
      "\u001b[2m\u001b[36m(ClientAppActor pid=1215792)\u001b[0m \u001b[32m [repeated 29x across cluster]\u001b[0m\n",
      "\u001b[2m\u001b[36m(ClientAppActor pid=1215792)\u001b[0m Epoch 85/100\u001b[32m [repeated 29x across cluster]\u001b[0m\n",
      "\u001b[2m\u001b[36m(ClientAppActor pid=1215792)\u001b[0m Epoch 84: Training accuracy: 87.0853042602539 Testing accuracy: 70.75471496582031.\u001b[32m [repeated 30x across cluster]\u001b[0m\n"
     ]
    },
    {
     "name": "stderr",
     "output_type": "stream",
     "text": [
      "\u001b[92mINFO \u001b[0m:      aggregate_fit: received 4 results and 0 failures\n",
      "\u001b[92mINFO \u001b[0m:      fit progress: (36, 0.03194190824733061, {'accuracy': tensor(74.2830, device='cuda:0')}, 1684.6065783390077)\n",
      "\u001b[92mINFO \u001b[0m:      configure_evaluate: strategy sampled 2 clients (out of 4)\n",
      "\u001b[92mINFO \u001b[0m:      aggregate_evaluate: received 2 results and 0 failures\n",
      "\u001b[92mINFO \u001b[0m:      \n",
      "\u001b[92mINFO \u001b[0m:      [ROUND 37]\n",
      "\u001b[92mINFO \u001b[0m:      configure_fit: strategy sampled 4 clients (out of 4)\n"
     ]
    },
    {
     "name": "stdout",
     "output_type": "stream",
     "text": [
      "Server-side evaluation loss 0.03194190824733061 / accuracy 74.2829818725586\n",
      "\u001b[2m\u001b[36m(ClientAppActor pid=1215791)\u001b[0m \u001b[32m [repeated 19x across cluster]\u001b[0m\n",
      "\u001b[2m\u001b[36m(ClientAppActor pid=1215791)\u001b[0m Epoch 3/100\u001b[32m [repeated 19x across cluster]\u001b[0m\n",
      "\u001b[2m\u001b[36m(ClientAppActor pid=1215791)\u001b[0m Epoch 2: Training accuracy: 84.1409683227539 Testing accuracy: 76.02339172363281.\u001b[32m [repeated 18x across cluster]\u001b[0m\n",
      "\u001b[2m\u001b[36m(ClientAppActor pid=1215792)\u001b[0m \u001b[32m [repeated 57x across cluster]\u001b[0m\n",
      "\u001b[2m\u001b[36m(ClientAppActor pid=1215792)\u001b[0m Epoch 14/100\u001b[32m [repeated 57x across cluster]\u001b[0m\n",
      "\u001b[2m\u001b[36m(ClientAppActor pid=1215792)\u001b[0m Epoch 13: Training accuracy: 87.97101593017578 Testing accuracy: 72.25433349609375.\u001b[32m [repeated 57x across cluster]\u001b[0m\n",
      "\u001b[2m\u001b[36m(ClientAppActor pid=1215791)\u001b[0m \u001b[32m [repeated 53x across cluster]\u001b[0m\n",
      "\u001b[2m\u001b[36m(ClientAppActor pid=1215791)\u001b[0m Epoch 85/100\u001b[32m [repeated 53x across cluster]\u001b[0m\n",
      "\u001b[2m\u001b[36m(ClientAppActor pid=1215791)\u001b[0m Epoch 84: Training accuracy: 84.1409683227539 Testing accuracy: 73.68421173095703.\u001b[32m [repeated 53x across cluster]\u001b[0m\n",
      "\u001b[2m\u001b[36m(ClientAppActor pid=1215791)\u001b[0m \u001b[32m [repeated 69x across cluster]\u001b[0m\n",
      "\u001b[2m\u001b[36m(ClientAppActor pid=1215791)\u001b[0m Epoch 37/100\u001b[32m [repeated 69x across cluster]\u001b[0m\n",
      "\u001b[2m\u001b[36m(ClientAppActor pid=1215791)\u001b[0m Epoch 36: Training accuracy: 87.12715911865234 Testing accuracy: 76.25.\u001b[32m [repeated 69x across cluster]\u001b[0m\n",
      "\u001b[2m\u001b[36m(ClientAppActor pid=1215791)\u001b[0m \u001b[32m [repeated 55x across cluster]\u001b[0m\n",
      "\u001b[2m\u001b[36m(ClientAppActor pid=1215791)\u001b[0m Epoch 74/100\u001b[32m [repeated 55x across cluster]\u001b[0m\n",
      "\u001b[2m\u001b[36m(ClientAppActor pid=1215791)\u001b[0m Epoch 73: Training accuracy: 86.49921417236328 Testing accuracy: 78.125.\u001b[32m [repeated 55x across cluster]\u001b[0m\n",
      "\u001b[2m\u001b[36m(ClientAppActor pid=1215791)\u001b[0m \u001b[32m [repeated 58x across cluster]\u001b[0m\n",
      "\u001b[2m\u001b[36m(ClientAppActor pid=1215791)\u001b[0m Epoch 9/100\u001b[32m [repeated 58x across cluster]\u001b[0m\n",
      "\u001b[2m\u001b[36m(ClientAppActor pid=1215791)\u001b[0m Epoch 8: Training accuracy: 87.44075775146484 Testing accuracy: 72.64151000976562.\u001b[32m [repeated 58x across cluster]\u001b[0m\n",
      "\u001b[2m\u001b[36m(ClientAppActor pid=1215791)\u001b[0m \u001b[32m [repeated 39x across cluster]\u001b[0m\n",
      "\u001b[2m\u001b[36m(ClientAppActor pid=1215791)\u001b[0m Epoch 35/100\u001b[32m [repeated 39x across cluster]\u001b[0m\n",
      "\u001b[2m\u001b[36m(ClientAppActor pid=1215791)\u001b[0m Epoch 34: Training accuracy: 88.03317260742188 Testing accuracy: 73.11320495605469.\u001b[32m [repeated 40x across cluster]\u001b[0m\n",
      "\u001b[2m\u001b[36m(ClientAppActor pid=1215791)\u001b[0m \u001b[32m [repeated 17x across cluster]\u001b[0m\n",
      "\u001b[2m\u001b[36m(ClientAppActor pid=1215791)\u001b[0m Epoch 52/100\u001b[32m [repeated 17x across cluster]\u001b[0m\n",
      "\u001b[2m\u001b[36m(ClientAppActor pid=1215791)\u001b[0m Epoch 51: Training accuracy: 87.67772674560547 Testing accuracy: 72.64151000976562.\u001b[32m [repeated 17x across cluster]\u001b[0m\n",
      "\u001b[2m\u001b[36m(ClientAppActor pid=1215791)\u001b[0m \u001b[32m [repeated 16x across cluster]\u001b[0m\n",
      "\u001b[2m\u001b[36m(ClientAppActor pid=1215791)\u001b[0m Epoch 68/100\u001b[32m [repeated 16x across cluster]\u001b[0m\n",
      "\u001b[2m\u001b[36m(ClientAppActor pid=1215791)\u001b[0m Epoch 67: Training accuracy: 88.15165710449219 Testing accuracy: 72.16981506347656.\u001b[32m [repeated 16x across cluster]\u001b[0m\n",
      "\u001b[2m\u001b[36m(ClientAppActor pid=1215791)\u001b[0m \u001b[32m [repeated 18x across cluster]\u001b[0m\n",
      "\u001b[2m\u001b[36m(ClientAppActor pid=1215791)\u001b[0m Epoch 86/100\u001b[32m [repeated 18x across cluster]\u001b[0m\n",
      "\u001b[2m\u001b[36m(ClientAppActor pid=1215791)\u001b[0m Epoch 85: Training accuracy: 87.44075775146484 Testing accuracy: 71.69811248779297.\u001b[32m [repeated 18x across cluster]\u001b[0m\n"
     ]
    },
    {
     "name": "stderr",
     "output_type": "stream",
     "text": [
      "\u001b[92mINFO \u001b[0m:      aggregate_fit: received 4 results and 0 failures\n",
      "\u001b[92mINFO \u001b[0m:      fit progress: (37, 0.03190425213645486, {'accuracy': tensor(74.5698, device='cuda:0')}, 1734.9504833050014)\n",
      "\u001b[92mINFO \u001b[0m:      configure_evaluate: strategy sampled 2 clients (out of 4)\n"
     ]
    },
    {
     "name": "stdout",
     "output_type": "stream",
     "text": [
      "Server-side evaluation loss 0.03190425213645486 / accuracy 74.56978607177734\n"
     ]
    },
    {
     "name": "stderr",
     "output_type": "stream",
     "text": [
      "\u001b[92mINFO \u001b[0m:      aggregate_evaluate: received 2 results and 0 failures\n",
      "\u001b[92mINFO \u001b[0m:      \n",
      "\u001b[92mINFO \u001b[0m:      [ROUND 38]\n",
      "\u001b[92mINFO \u001b[0m:      configure_fit: strategy sampled 4 clients (out of 4)\n"
     ]
    },
    {
     "name": "stdout",
     "output_type": "stream",
     "text": [
      "\u001b[2m\u001b[36m(ClientAppActor pid=1215791)\u001b[0m \u001b[32m [repeated 22x across cluster]\u001b[0m\n",
      "\u001b[2m\u001b[36m(ClientAppActor pid=1215791)\u001b[0m Epoch 5/100\u001b[32m [repeated 22x across cluster]\u001b[0m\n",
      "\u001b[2m\u001b[36m(ClientAppActor pid=1215791)\u001b[0m Epoch 4: Training accuracy: 86.9565200805664 Testing accuracy: 76.87861633300781.\u001b[32m [repeated 21x across cluster]\u001b[0m\n",
      "\u001b[2m\u001b[36m(ClientAppActor pid=1215791)\u001b[0m \u001b[32m [repeated 45x across cluster]\u001b[0m\n",
      "\u001b[2m\u001b[36m(ClientAppActor pid=1215791)\u001b[0m Epoch 33/100\u001b[32m [repeated 45x across cluster]\u001b[0m\n",
      "\u001b[2m\u001b[36m(ClientAppActor pid=1215791)\u001b[0m Epoch 32: Training accuracy: 87.68115997314453 Testing accuracy: 75.1445083618164.\u001b[32m [repeated 45x across cluster]\u001b[0m\n",
      "\u001b[2m\u001b[36m(ClientAppActor pid=1215791)\u001b[0m \u001b[32m [repeated 24x across cluster]\u001b[0m\n",
      "\u001b[2m\u001b[36m(ClientAppActor pid=1215791)\u001b[0m Epoch 46/100\u001b[32m [repeated 24x across cluster]\u001b[0m\n",
      "\u001b[2m\u001b[36m(ClientAppActor pid=1215791)\u001b[0m Epoch 45: Training accuracy: 86.66666412353516 Testing accuracy: 69.94219970703125.\u001b[32m [repeated 24x across cluster]\u001b[0m\n",
      "\u001b[2m\u001b[36m(ClientAppActor pid=1215792)\u001b[0m \u001b[32m [repeated 28x across cluster]\u001b[0m\n",
      "\u001b[2m\u001b[36m(ClientAppActor pid=1215792)\u001b[0m Epoch 43/100\u001b[32m [repeated 28x across cluster]\u001b[0m\n",
      "\u001b[2m\u001b[36m(ClientAppActor pid=1215792)\u001b[0m Epoch 42: Training accuracy: 85.46255493164062 Testing accuracy: 74.26900482177734.\u001b[32m [repeated 28x across cluster]\u001b[0m\n",
      "\u001b[2m\u001b[36m(ClientAppActor pid=1215791)\u001b[0m \u001b[32m [repeated 25x across cluster]\u001b[0m\n",
      "\u001b[2m\u001b[36m(ClientAppActor pid=1215791)\u001b[0m Epoch 77/100\u001b[32m [repeated 25x across cluster]\u001b[0m\n",
      "\u001b[2m\u001b[36m(ClientAppActor pid=1215791)\u001b[0m Epoch 76: Training accuracy: 89.27536010742188 Testing accuracy: 74.56647491455078.\u001b[32m [repeated 25x across cluster]\u001b[0m\n",
      "\u001b[2m\u001b[36m(ClientAppActor pid=1215791)\u001b[0m \u001b[32m [repeated 26x across cluster]\u001b[0m\n",
      "\u001b[2m\u001b[36m(ClientAppActor pid=1215791)\u001b[0m Epoch 91/100\u001b[32m [repeated 26x across cluster]\u001b[0m\n",
      "\u001b[2m\u001b[36m(ClientAppActor pid=1215791)\u001b[0m Epoch 90: Training accuracy: 89.71014404296875 Testing accuracy: 73.41040802001953.\u001b[32m [repeated 26x across cluster]\u001b[0m\n",
      "\u001b[2m\u001b[36m(ClientAppActor pid=1215791)\u001b[0m \u001b[32m [repeated 26x across cluster]\u001b[0m\n",
      "\u001b[2m\u001b[36m(ClientAppActor pid=1215791)\u001b[0m Epoch 6/100\u001b[32m [repeated 26x across cluster]\u001b[0m\n",
      "\u001b[2m\u001b[36m(ClientAppActor pid=1215791)\u001b[0m Epoch 5: Training accuracy: 85.08634185791016 Testing accuracy: 81.875.\u001b[32m [repeated 26x across cluster]\u001b[0m\n",
      "\u001b[2m\u001b[36m(ClientAppActor pid=1215791)\u001b[0m \u001b[32m [repeated 28x across cluster]\u001b[0m\n",
      "\u001b[2m\u001b[36m(ClientAppActor pid=1215791)\u001b[0m Epoch 23/100\u001b[32m [repeated 28x across cluster]\u001b[0m\n",
      "\u001b[2m\u001b[36m(ClientAppActor pid=1215791)\u001b[0m Epoch 22: Training accuracy: 85.71428680419922 Testing accuracy: 77.5.\u001b[32m [repeated 28x across cluster]\u001b[0m\n",
      "\u001b[2m\u001b[36m(ClientAppActor pid=1215792)\u001b[0m \u001b[32m [repeated 26x across cluster]\u001b[0m\n",
      "\u001b[2m\u001b[36m(ClientAppActor pid=1215792)\u001b[0m Epoch 99/100\u001b[32m [repeated 26x across cluster]\u001b[0m\n",
      "\u001b[2m\u001b[36m(ClientAppActor pid=1215792)\u001b[0m Epoch 98: Training accuracy: 86.93098449707031 Testing accuracy: 73.09941864013672.\u001b[32m [repeated 26x across cluster]\u001b[0m\n",
      "\u001b[2m\u001b[36m(ClientAppActor pid=1215792)\u001b[0m \u001b[32m [repeated 27x across cluster]\u001b[0m\n",
      "\u001b[2m\u001b[36m(ClientAppActor pid=1215792)\u001b[0m Epoch 8/100\u001b[32m [repeated 27x across cluster]\u001b[0m\n",
      "\u001b[2m\u001b[36m(ClientAppActor pid=1215792)\u001b[0m Epoch 7: Training accuracy: 87.67772674560547 Testing accuracy: 72.16981506347656.\u001b[32m [repeated 27x across cluster]\u001b[0m\n",
      "\u001b[2m\u001b[36m(ClientAppActor pid=1215792)\u001b[0m \u001b[32m [repeated 25x across cluster]\u001b[0m\n",
      "\u001b[2m\u001b[36m(ClientAppActor pid=1215792)\u001b[0m Epoch 17/100\u001b[32m [repeated 25x across cluster]\u001b[0m\n",
      "\u001b[2m\u001b[36m(ClientAppActor pid=1215792)\u001b[0m Epoch 16: Training accuracy: 87.44075775146484 Testing accuracy: 73.11320495605469.\u001b[32m [repeated 25x across cluster]\u001b[0m\n",
      "\u001b[2m\u001b[36m(ClientAppActor pid=1215791)\u001b[0m \u001b[32m [repeated 25x across cluster]\u001b[0m\n",
      "\u001b[2m\u001b[36m(ClientAppActor pid=1215791)\u001b[0m Epoch 87/100\u001b[32m [repeated 25x across cluster]\u001b[0m\n",
      "\u001b[2m\u001b[36m(ClientAppActor pid=1215791)\u001b[0m Epoch 86: Training accuracy: 86.18524169921875 Testing accuracy: 76.875.\u001b[32m [repeated 25x across cluster]\u001b[0m\n",
      "\u001b[2m\u001b[36m(ClientAppActor pid=1215792)\u001b[0m \u001b[32m [repeated 22x across cluster]\u001b[0m\n",
      "\u001b[2m\u001b[36m(ClientAppActor pid=1215792)\u001b[0m Epoch 35/100\u001b[32m [repeated 22x across cluster]\u001b[0m\n",
      "\u001b[2m\u001b[36m(ClientAppActor pid=1215792)\u001b[0m Epoch 34: Training accuracy: 87.9146957397461 Testing accuracy: 72.64151000976562.\u001b[32m [repeated 23x across cluster]\u001b[0m\n",
      "\u001b[2m\u001b[36m(ClientAppActor pid=1215792)\u001b[0m \u001b[32m [repeated 9x across cluster]\u001b[0m\n",
      "\u001b[2m\u001b[36m(ClientAppActor pid=1215792)\u001b[0m Epoch 44/100\u001b[32m [repeated 9x across cluster]\u001b[0m\n",
      "\u001b[2m\u001b[36m(ClientAppActor pid=1215792)\u001b[0m Epoch 43: Training accuracy: 86.84834289550781 Testing accuracy: 70.75471496582031.\u001b[32m [repeated 9x across cluster]\u001b[0m\n",
      "\u001b[2m\u001b[36m(ClientAppActor pid=1215792)\u001b[0m \u001b[32m [repeated 10x across cluster]\u001b[0m\n",
      "\u001b[2m\u001b[36m(ClientAppActor pid=1215792)\u001b[0m Epoch 54/100\u001b[32m [repeated 10x across cluster]\u001b[0m\n",
      "\u001b[2m\u001b[36m(ClientAppActor pid=1215792)\u001b[0m Epoch 53: Training accuracy: 88.03317260742188 Testing accuracy: 73.11320495605469.\u001b[32m [repeated 10x across cluster]\u001b[0m\n",
      "\u001b[2m\u001b[36m(ClientAppActor pid=1215792)\u001b[0m \u001b[32m [repeated 14x across cluster]\u001b[0m\n",
      "\u001b[2m\u001b[36m(ClientAppActor pid=1215792)\u001b[0m Epoch 68/100\u001b[32m [repeated 14x across cluster]\u001b[0m\n",
      "\u001b[2m\u001b[36m(ClientAppActor pid=1215792)\u001b[0m Epoch 67: Training accuracy: 88.15165710449219 Testing accuracy: 73.11320495605469.\u001b[32m [repeated 14x across cluster]\u001b[0m\n",
      "\u001b[2m\u001b[36m(ClientAppActor pid=1215792)\u001b[0m \u001b[32m [repeated 14x across cluster]\u001b[0m\n",
      "\u001b[2m\u001b[36m(ClientAppActor pid=1215792)\u001b[0m Epoch 82/100\u001b[32m [repeated 14x across cluster]\u001b[0m\n",
      "\u001b[2m\u001b[36m(ClientAppActor pid=1215792)\u001b[0m Epoch 81: Training accuracy: 87.67772674560547 Testing accuracy: 72.64151000976562.\u001b[32m [repeated 14x across cluster]\u001b[0m\n",
      "\u001b[2m\u001b[36m(ClientAppActor pid=1215792)\u001b[0m \u001b[32m [repeated 9x across cluster]\u001b[0m\n",
      "\u001b[2m\u001b[36m(ClientAppActor pid=1215792)\u001b[0m Epoch 91/100\u001b[32m [repeated 9x across cluster]\u001b[0m\n",
      "\u001b[2m\u001b[36m(ClientAppActor pid=1215792)\u001b[0m Epoch 90: Training accuracy: 83.53080749511719 Testing accuracy: 67.45282745361328.\u001b[32m [repeated 9x across cluster]\u001b[0m\n"
     ]
    },
    {
     "name": "stderr",
     "output_type": "stream",
     "text": [
      "\u001b[92mINFO \u001b[0m:      aggregate_fit: received 4 results and 0 failures\n",
      "\u001b[92mINFO \u001b[0m:      fit progress: (38, 0.032058491426355695, {'accuracy': tensor(74.1874, device='cuda:0')}, 1827.3531828209962)\n",
      "\u001b[92mINFO \u001b[0m:      configure_evaluate: strategy sampled 2 clients (out of 4)\n"
     ]
    },
    {
     "name": "stdout",
     "output_type": "stream",
     "text": [
      "Server-side evaluation loss 0.032058491426355695 / accuracy 74.1873779296875\n"
     ]
    },
    {
     "name": "stderr",
     "output_type": "stream",
     "text": [
      "\u001b[92mINFO \u001b[0m:      aggregate_evaluate: received 2 results and 0 failures\n",
      "\u001b[92mINFO \u001b[0m:      \n",
      "\u001b[92mINFO \u001b[0m:      [ROUND 39]\n",
      "\u001b[92mINFO \u001b[0m:      configure_fit: strategy sampled 4 clients (out of 4)\n"
     ]
    },
    {
     "name": "stdout",
     "output_type": "stream",
     "text": [
      "\u001b[2m\u001b[36m(ClientAppActor pid=1215791)\u001b[0m \u001b[32m [repeated 26x across cluster]\u001b[0m\n",
      "\u001b[2m\u001b[36m(ClientAppActor pid=1215791)\u001b[0m Epoch 12/100\u001b[32m [repeated 26x across cluster]\u001b[0m\n",
      "\u001b[2m\u001b[36m(ClientAppActor pid=1215791)\u001b[0m Epoch 11: Training accuracy: 83.83045196533203 Testing accuracy: 75.625.\u001b[32m [repeated 25x across cluster]\u001b[0m\n",
      "\u001b[2m\u001b[36m(ClientAppActor pid=1215791)\u001b[0m \u001b[32m [repeated 80x across cluster]\u001b[0m\n",
      "\u001b[2m\u001b[36m(ClientAppActor pid=1215791)\u001b[0m Epoch 64/100\u001b[32m [repeated 80x across cluster]\u001b[0m\n",
      "\u001b[2m\u001b[36m(ClientAppActor pid=1215791)\u001b[0m Epoch 63: Training accuracy: 86.65620422363281 Testing accuracy: 77.5.\u001b[32m [repeated 80x across cluster]\u001b[0m\n",
      "\u001b[2m\u001b[36m(ClientAppActor pid=1215791)\u001b[0m \u001b[32m [repeated 38x across cluster]\u001b[0m\n",
      "\u001b[2m\u001b[36m(ClientAppActor pid=1215791)\u001b[0m Epoch 84/100\u001b[32m [repeated 38x across cluster]\u001b[0m\n",
      "\u001b[2m\u001b[36m(ClientAppActor pid=1215791)\u001b[0m Epoch 83: Training accuracy: 86.81318664550781 Testing accuracy: 77.5.\u001b[32m [repeated 38x across cluster]\u001b[0m\n",
      "\u001b[2m\u001b[36m(ClientAppActor pid=1215791)\u001b[0m \u001b[32m [repeated 25x across cluster]\u001b[0m\n",
      "\u001b[2m\u001b[36m(ClientAppActor pid=1215791)\u001b[0m Epoch 1/100\u001b[32m [repeated 25x across cluster]\u001b[0m\n",
      "\u001b[2m\u001b[36m(ClientAppActor pid=1215792)\u001b[0m Epoch 58: Training accuracy: 87.79621124267578 Testing accuracy: 71.2264175415039.\u001b[32m [repeated 25x across cluster]\u001b[0m\n",
      "\u001b[2m\u001b[36m(ClientAppActor pid=1215791)\u001b[0m \u001b[32m [repeated 27x across cluster]\u001b[0m\n",
      "\u001b[2m\u001b[36m(ClientAppActor pid=1215791)\u001b[0m Epoch 18/100\u001b[32m [repeated 27x across cluster]\u001b[0m\n",
      "\u001b[2m\u001b[36m(ClientAppActor pid=1215791)\u001b[0m Epoch 17: Training accuracy: 84.87518310546875 Testing accuracy: 72.51461791992188.\u001b[32m [repeated 27x across cluster]\u001b[0m\n",
      "\u001b[2m\u001b[36m(ClientAppActor pid=1215791)\u001b[0m \u001b[32m [repeated 21x across cluster]\u001b[0m\n",
      "\u001b[2m\u001b[36m(ClientAppActor pid=1215791)\u001b[0m Epoch 31/100\u001b[32m [repeated 21x across cluster]\u001b[0m\n",
      "\u001b[2m\u001b[36m(ClientAppActor pid=1215791)\u001b[0m Epoch 30: Training accuracy: 86.34361267089844 Testing accuracy: 74.85379791259766.\u001b[32m [repeated 21x across cluster]\u001b[0m\n",
      "\u001b[2m\u001b[36m(ClientAppActor pid=1215792)\u001b[0m \u001b[32m [repeated 25x across cluster]\u001b[0m\n",
      "\u001b[2m\u001b[36m(ClientAppActor pid=1215792)\u001b[0m Epoch 87/100\u001b[32m [repeated 25x across cluster]\u001b[0m\n",
      "\u001b[2m\u001b[36m(ClientAppActor pid=1215792)\u001b[0m Epoch 86: Training accuracy: 87.79621124267578 Testing accuracy: 73.11320495605469.\u001b[32m [repeated 25x across cluster]\u001b[0m\n",
      "\u001b[2m\u001b[36m(ClientAppActor pid=1215791)\u001b[0m \u001b[32m [repeated 24x across cluster]\u001b[0m\n",
      "\u001b[2m\u001b[36m(ClientAppActor pid=1215791)\u001b[0m Epoch 62/100\u001b[32m [repeated 24x across cluster]\u001b[0m\n",
      "\u001b[2m\u001b[36m(ClientAppActor pid=1215791)\u001b[0m Epoch 61: Training accuracy: 85.6093978881836 Testing accuracy: 73.68421173095703.\u001b[32m [repeated 24x across cluster]\u001b[0m\n",
      "\u001b[2m\u001b[36m(ClientAppActor pid=1215791)\u001b[0m \u001b[32m [repeated 26x across cluster]\u001b[0m\n",
      "\u001b[2m\u001b[36m(ClientAppActor pid=1215791)\u001b[0m Epoch 76/100\u001b[32m [repeated 26x across cluster]\u001b[0m\n",
      "\u001b[2m\u001b[36m(ClientAppActor pid=1215791)\u001b[0m Epoch 75: Training accuracy: 86.78414154052734 Testing accuracy: 74.85379791259766.\u001b[32m [repeated 26x across cluster]\u001b[0m\n",
      "\u001b[2m\u001b[36m(ClientAppActor pid=1215792)\u001b[0m \u001b[32m [repeated 41x across cluster]\u001b[0m\n",
      "\u001b[2m\u001b[36m(ClientAppActor pid=1215792)\u001b[0m Epoch 26/100\u001b[32m [repeated 41x across cluster]\u001b[0m\n",
      "\u001b[2m\u001b[36m(ClientAppActor pid=1215792)\u001b[0m Epoch 25: Training accuracy: 89.4202880859375 Testing accuracy: 73.98844146728516.\u001b[32m [repeated 41x across cluster]\u001b[0m\n",
      "\u001b[2m\u001b[36m(ClientAppActor pid=1215792)\u001b[0m \u001b[32m [repeated 20x across cluster]\u001b[0m\n",
      "\u001b[2m\u001b[36m(ClientAppActor pid=1215792)\u001b[0m Epoch 44/100\u001b[32m [repeated 20x across cluster]\u001b[0m\n",
      "\u001b[2m\u001b[36m(ClientAppActor pid=1215792)\u001b[0m Epoch 43: Training accuracy: 88.26087188720703 Testing accuracy: 72.83236694335938.\u001b[32m [repeated 21x across cluster]\u001b[0m\n",
      "\u001b[2m\u001b[36m(ClientAppActor pid=1215792)\u001b[0m \u001b[32m [repeated 18x across cluster]\u001b[0m\n",
      "\u001b[2m\u001b[36m(ClientAppActor pid=1215792)\u001b[0m Epoch 62/100\u001b[32m [repeated 18x across cluster]\u001b[0m\n",
      "\u001b[2m\u001b[36m(ClientAppActor pid=1215792)\u001b[0m Epoch 61: Training accuracy: 88.1159439086914 Testing accuracy: 73.41040802001953.\u001b[32m [repeated 18x across cluster]\u001b[0m\n",
      "\u001b[2m\u001b[36m(ClientAppActor pid=1215792)\u001b[0m \u001b[32m [repeated 14x across cluster]\u001b[0m\n",
      "\u001b[2m\u001b[36m(ClientAppActor pid=1215792)\u001b[0m Epoch 76/100\u001b[32m [repeated 14x across cluster]\u001b[0m\n",
      "\u001b[2m\u001b[36m(ClientAppActor pid=1215792)\u001b[0m Epoch 75: Training accuracy: 88.98550415039062 Testing accuracy: 73.98844146728516.\u001b[32m [repeated 14x across cluster]\u001b[0m\n",
      "\u001b[2m\u001b[36m(ClientAppActor pid=1215792)\u001b[0m \u001b[32m [repeated 10x across cluster]\u001b[0m\n",
      "\u001b[2m\u001b[36m(ClientAppActor pid=1215792)\u001b[0m Epoch 86/100\u001b[32m [repeated 10x across cluster]\u001b[0m\n",
      "\u001b[2m\u001b[36m(ClientAppActor pid=1215792)\u001b[0m Epoch 85: Training accuracy: 88.1159439086914 Testing accuracy: 73.98844146728516.\u001b[32m [repeated 10x across cluster]\u001b[0m\n",
      "\u001b[2m\u001b[36m(ClientAppActor pid=1215792)\u001b[0m \u001b[32m [repeated 13x across cluster]\u001b[0m\n",
      "\u001b[2m\u001b[36m(ClientAppActor pid=1215792)\u001b[0m Epoch 99/100\u001b[32m [repeated 13x across cluster]\u001b[0m\n",
      "\u001b[2m\u001b[36m(ClientAppActor pid=1215792)\u001b[0m Epoch 98: Training accuracy: 88.840576171875 Testing accuracy: 73.41040802001953.\u001b[32m [repeated 13x across cluster]\u001b[0m\n"
     ]
    },
    {
     "name": "stderr",
     "output_type": "stream",
     "text": [
      "\u001b[92mINFO \u001b[0m:      aggregate_fit: received 4 results and 0 failures\n",
      "\u001b[92mINFO \u001b[0m:      fit progress: (39, 0.032583261237424964, {'accuracy': tensor(74.0918, device='cuda:0')}, 1903.695471169005)\n",
      "\u001b[92mINFO \u001b[0m:      configure_evaluate: strategy sampled 2 clients (out of 4)\n"
     ]
    },
    {
     "name": "stdout",
     "output_type": "stream",
     "text": [
      "Server-side evaluation loss 0.032583261237424964 / accuracy 74.09178161621094\n"
     ]
    },
    {
     "name": "stderr",
     "output_type": "stream",
     "text": [
      "\u001b[92mINFO \u001b[0m:      aggregate_evaluate: received 2 results and 0 failures\n",
      "\u001b[92mINFO \u001b[0m:      \n",
      "\u001b[92mINFO \u001b[0m:      [ROUND 40]\n",
      "\u001b[92mINFO \u001b[0m:      configure_fit: strategy sampled 4 clients (out of 4)\n"
     ]
    },
    {
     "name": "stdout",
     "output_type": "stream",
     "text": [
      "\u001b[2m\u001b[36m(ClientAppActor pid=1215792)\u001b[0m \u001b[32m [repeated 17x across cluster]\u001b[0m\n",
      "\u001b[2m\u001b[36m(ClientAppActor pid=1215792)\u001b[0m Epoch 7/100\u001b[32m [repeated 17x across cluster]\u001b[0m\n",
      "\u001b[2m\u001b[36m(ClientAppActor pid=1215792)\u001b[0m Epoch 6: Training accuracy: 86.0499267578125 Testing accuracy: 74.85379791259766.\u001b[32m [repeated 16x across cluster]\u001b[0m\n",
      "\u001b[2m\u001b[36m(ClientAppActor pid=1215791)\u001b[0m \u001b[32m [repeated 23x across cluster]\u001b[0m\n",
      "\u001b[2m\u001b[36m(ClientAppActor pid=1215791)\u001b[0m Epoch 21/100\u001b[32m [repeated 23x across cluster]\u001b[0m\n",
      "\u001b[2m\u001b[36m(ClientAppActor pid=1215791)\u001b[0m Epoch 20: Training accuracy: 87.79621124267578 Testing accuracy: 73.58490753173828.\u001b[32m [repeated 23x across cluster]\u001b[0m\n",
      "\u001b[2m\u001b[36m(ClientAppActor pid=1215791)\u001b[0m \u001b[32m [repeated 27x across cluster]\u001b[0m\n",
      "\u001b[2m\u001b[36m(ClientAppActor pid=1215791)\u001b[0m Epoch 37/100\u001b[32m [repeated 27x across cluster]\u001b[0m\n",
      "\u001b[2m\u001b[36m(ClientAppActor pid=1215791)\u001b[0m Epoch 36: Training accuracy: 87.9146957397461 Testing accuracy: 73.58490753173828.\u001b[32m [repeated 27x across cluster]\u001b[0m\n",
      "\u001b[2m\u001b[36m(ClientAppActor pid=1215791)\u001b[0m \u001b[32m [repeated 33x across cluster]\u001b[0m\n",
      "\u001b[2m\u001b[36m(ClientAppActor pid=1215791)\u001b[0m Epoch 55/100\u001b[32m [repeated 33x across cluster]\u001b[0m\n",
      "\u001b[2m\u001b[36m(ClientAppActor pid=1215791)\u001b[0m Epoch 54: Training accuracy: 86.96682739257812 Testing accuracy: 71.2264175415039.\u001b[32m [repeated 33x across cluster]\u001b[0m\n",
      "\u001b[2m\u001b[36m(ClientAppActor pid=1215791)\u001b[0m \u001b[32m [repeated 58x across cluster]\u001b[0m\n",
      "\u001b[2m\u001b[36m(ClientAppActor pid=1215791)\u001b[0m Epoch 98/100\u001b[32m [repeated 58x across cluster]\u001b[0m\n",
      "\u001b[2m\u001b[36m(ClientAppActor pid=1215791)\u001b[0m Epoch 97: Training accuracy: 88.03317260742188 Testing accuracy: 72.16981506347656.\u001b[32m [repeated 58x across cluster]\u001b[0m\n",
      "\u001b[2m\u001b[36m(ClientAppActor pid=1215791)\u001b[0m \u001b[32m [repeated 50x across cluster]\u001b[0m\n",
      "\u001b[2m\u001b[36m(ClientAppActor pid=1215791)\u001b[0m Epoch 35/100\u001b[32m [repeated 50x across cluster]\u001b[0m\n",
      "\u001b[2m\u001b[36m(ClientAppActor pid=1215791)\u001b[0m Epoch 34: Training accuracy: 89.27536010742188 Testing accuracy: 72.25433349609375.\u001b[32m [repeated 50x across cluster]\u001b[0m\n",
      "\u001b[2m\u001b[36m(ClientAppActor pid=1215791)\u001b[0m \u001b[32m [repeated 53x across cluster]\u001b[0m\n",
      "\u001b[2m\u001b[36m(ClientAppActor pid=1215791)\u001b[0m Epoch 73/100\u001b[32m [repeated 53x across cluster]\u001b[0m\n",
      "\u001b[2m\u001b[36m(ClientAppActor pid=1215791)\u001b[0m Epoch 72: Training accuracy: 88.98550415039062 Testing accuracy: 71.67630004882812.\u001b[32m [repeated 53x across cluster]\u001b[0m\n"
     ]
    },
    {
     "name": "stderr",
     "output_type": "stream",
     "text": [
      "\u001b[92mINFO \u001b[0m:      aggregate_fit: received 4 results and 0 failures\n",
      "\u001b[92mINFO \u001b[0m:      fit progress: (40, 0.03276623347226311, {'accuracy': tensor(73.9006, device='cuda:0')}, 1942.5387151500036)\n",
      "\u001b[92mINFO \u001b[0m:      configure_evaluate: strategy sampled 2 clients (out of 4)\n",
      "\u001b[92mINFO \u001b[0m:      aggregate_evaluate: received 2 results and 0 failures\n",
      "\u001b[92mINFO \u001b[0m:      \n",
      "\u001b[92mINFO \u001b[0m:      [ROUND 41]\n",
      "\u001b[92mINFO \u001b[0m:      configure_fit: strategy sampled 4 clients (out of 4)\n"
     ]
    },
    {
     "name": "stdout",
     "output_type": "stream",
     "text": [
      "Server-side evaluation loss 0.03276623347226311 / accuracy 73.90057373046875\n",
      "\u001b[2m\u001b[36m(ClientAppActor pid=1215791)\u001b[0m \u001b[32m [repeated 153x across cluster]\u001b[0m\n",
      "\u001b[2m\u001b[36m(ClientAppActor pid=1215791)\u001b[0m Epoch 12/100\u001b[32m [repeated 153x across cluster]\u001b[0m\n",
      "\u001b[2m\u001b[36m(ClientAppActor pid=1215791)\u001b[0m Epoch 11: Training accuracy: 86.81318664550781 Testing accuracy: 77.5.\u001b[32m [repeated 153x across cluster]\u001b[0m\n",
      "\u001b[2m\u001b[36m(ClientAppActor pid=1215791)\u001b[0m \u001b[32m [repeated 201x across cluster]\u001b[0m\n",
      "\u001b[2m\u001b[36m(ClientAppActor pid=1215791)\u001b[0m Epoch 77/100\u001b[32m [repeated 201x across cluster]\u001b[0m\n",
      "\u001b[2m\u001b[36m(ClientAppActor pid=1215791)\u001b[0m Epoch 76: Training accuracy: 87.9146957397461 Testing accuracy: 71.2264175415039.\u001b[32m [repeated 201x across cluster]\u001b[0m\n",
      "\u001b[2m\u001b[36m(ClientAppActor pid=1215791)\u001b[0m \u001b[32m [repeated 131x across cluster]\u001b[0m\n",
      "\u001b[2m\u001b[36m(ClientAppActor pid=1215791)\u001b[0m Epoch 73/100\u001b[32m [repeated 131x across cluster]\u001b[0m\n",
      "\u001b[2m\u001b[36m(ClientAppActor pid=1215791)\u001b[0m Epoch 72: Training accuracy: 86.78414154052734 Testing accuracy: 76.02339172363281.\u001b[32m [repeated 131x across cluster]\u001b[0m\n",
      "\u001b[2m\u001b[36m(ClientAppActor pid=1215792)\u001b[0m \u001b[32m [repeated 50x across cluster]\u001b[0m\n",
      "\u001b[2m\u001b[36m(ClientAppActor pid=1215792)\u001b[0m Epoch 95/100\u001b[32m [repeated 50x across cluster]\u001b[0m\n",
      "\u001b[2m\u001b[36m(ClientAppActor pid=1215792)\u001b[0m Epoch 94: Training accuracy: 90.14492797851562 Testing accuracy: 75.72254180908203.\u001b[32m [repeated 51x across cluster]\u001b[0m\n"
     ]
    },
    {
     "name": "stderr",
     "output_type": "stream",
     "text": [
      "\u001b[92mINFO \u001b[0m:      aggregate_fit: received 4 results and 0 failures\n",
      "\u001b[92mINFO \u001b[0m:      fit progress: (41, 0.033357606214635516, {'accuracy': tensor(73.8050, device='cuda:0')}, 1960.365163815004)\n",
      "\u001b[92mINFO \u001b[0m:      configure_evaluate: strategy sampled 2 clients (out of 4)\n"
     ]
    },
    {
     "name": "stdout",
     "output_type": "stream",
     "text": [
      "Server-side evaluation loss 0.033357606214635516 / accuracy 73.80496978759766\n"
     ]
    },
    {
     "name": "stderr",
     "output_type": "stream",
     "text": [
      "\u001b[92mINFO \u001b[0m:      aggregate_evaluate: received 2 results and 0 failures\n",
      "\u001b[92mINFO \u001b[0m:      \n",
      "\u001b[92mINFO \u001b[0m:      [ROUND 42]\n",
      "\u001b[92mINFO \u001b[0m:      configure_fit: strategy sampled 4 clients (out of 4)\n"
     ]
    },
    {
     "name": "stdout",
     "output_type": "stream",
     "text": [
      "\u001b[2m\u001b[36m(ClientAppActor pid=1215791)\u001b[0m \u001b[32m [repeated 37x across cluster]\u001b[0m\n",
      "\u001b[2m\u001b[36m(ClientAppActor pid=1215791)\u001b[0m Epoch 16/100\u001b[32m [repeated 37x across cluster]\u001b[0m\n",
      "\u001b[2m\u001b[36m(ClientAppActor pid=1215791)\u001b[0m Epoch 15: Training accuracy: 87.55924224853516 Testing accuracy: 73.11320495605469.\u001b[32m [repeated 36x across cluster]\u001b[0m\n",
      "\u001b[2m\u001b[36m(ClientAppActor pid=1215791)\u001b[0m \u001b[32m [repeated 45x across cluster]\u001b[0m\n",
      "\u001b[2m\u001b[36m(ClientAppActor pid=1215791)\u001b[0m Epoch 42/100\u001b[32m [repeated 45x across cluster]\u001b[0m\n",
      "\u001b[2m\u001b[36m(ClientAppActor pid=1215791)\u001b[0m Epoch 41: Training accuracy: 87.44075775146484 Testing accuracy: 73.11320495605469.\u001b[32m [repeated 45x across cluster]\u001b[0m\n",
      "\u001b[2m\u001b[36m(ClientAppActor pid=1215792)\u001b[0m \u001b[32m [repeated 48x across cluster]\u001b[0m\n",
      "\u001b[2m\u001b[36m(ClientAppActor pid=1215792)\u001b[0m Epoch 56/100\u001b[32m [repeated 48x across cluster]\u001b[0m\n",
      "\u001b[2m\u001b[36m(ClientAppActor pid=1215792)\u001b[0m Epoch 55: Training accuracy: 86.81318664550781 Testing accuracy: 75.625.\u001b[32m [repeated 48x across cluster]\u001b[0m\n",
      "\u001b[2m\u001b[36m(ClientAppActor pid=1215792)\u001b[0m \u001b[32m [repeated 61x across cluster]\u001b[0m\n",
      "\u001b[2m\u001b[36m(ClientAppActor pid=1215792)\u001b[0m Epoch 90/100\u001b[32m [repeated 61x across cluster]\u001b[0m\n",
      "\u001b[2m\u001b[36m(ClientAppActor pid=1215792)\u001b[0m Epoch 89: Training accuracy: 86.97016906738281 Testing accuracy: 75.0.\u001b[32m [repeated 61x across cluster]\u001b[0m\n",
      "\u001b[2m\u001b[36m(ClientAppActor pid=1215791)\u001b[0m \u001b[32m [repeated 25x across cluster]\u001b[0m\n",
      "\u001b[2m\u001b[36m(ClientAppActor pid=1215791)\u001b[0m Epoch 10/100\u001b[32m [repeated 25x across cluster]\u001b[0m\n",
      "\u001b[2m\u001b[36m(ClientAppActor pid=1215791)\u001b[0m Epoch 9: Training accuracy: 89.27536010742188 Testing accuracy: 75.72254180908203.\u001b[32m [repeated 25x across cluster]\u001b[0m\n",
      "\u001b[2m\u001b[36m(ClientAppActor pid=1215791)\u001b[0m \u001b[32m [repeated 26x across cluster]\u001b[0m\n",
      "\u001b[2m\u001b[36m(ClientAppActor pid=1215791)\u001b[0m Epoch 25/100\u001b[32m [repeated 26x across cluster]\u001b[0m\n",
      "\u001b[2m\u001b[36m(ClientAppActor pid=1215791)\u001b[0m Epoch 24: Training accuracy: 88.55072784423828 Testing accuracy: 75.1445083618164.\u001b[32m [repeated 26x across cluster]\u001b[0m\n",
      "\u001b[2m\u001b[36m(ClientAppActor pid=1215792)\u001b[0m \u001b[32m [repeated 38x across cluster]\u001b[0m\n",
      "\u001b[2m\u001b[36m(ClientAppActor pid=1215792)\u001b[0m Epoch 29/100\u001b[32m [repeated 38x across cluster]\u001b[0m\n",
      "\u001b[2m\u001b[36m(ClientAppActor pid=1215792)\u001b[0m Epoch 28: Training accuracy: 86.93098449707031 Testing accuracy: 73.68421173095703.\u001b[32m [repeated 38x across cluster]\u001b[0m\n",
      "\u001b[2m\u001b[36m(ClientAppActor pid=1215791)\u001b[0m \u001b[32m [repeated 39x across cluster]\u001b[0m\n",
      "\u001b[2m\u001b[36m(ClientAppActor pid=1215791)\u001b[0m Epoch 68/100\u001b[32m [repeated 39x across cluster]\u001b[0m\n",
      "\u001b[2m\u001b[36m(ClientAppActor pid=1215791)\u001b[0m Epoch 67: Training accuracy: 87.97101593017578 Testing accuracy: 75.1445083618164.\u001b[32m [repeated 39x across cluster]\u001b[0m\n",
      "\u001b[2m\u001b[36m(ClientAppActor pid=1215791)\u001b[0m \u001b[32m [repeated 46x across cluster]\u001b[0m\n",
      "\u001b[2m\u001b[36m(ClientAppActor pid=1215791)\u001b[0m Epoch 97/100\u001b[32m [repeated 46x across cluster]\u001b[0m\n",
      "\u001b[2m\u001b[36m(ClientAppActor pid=1215791)\u001b[0m Epoch 96: Training accuracy: 89.56521606445312 Testing accuracy: 73.98844146728516.\u001b[32m [repeated 46x across cluster]\u001b[0m\n",
      "\u001b[2m\u001b[36m(ClientAppActor pid=1215792)\u001b[0m \u001b[32m [repeated 20x across cluster]\u001b[0m\n",
      "\u001b[2m\u001b[36m(ClientAppActor pid=1215792)\u001b[0m Epoch 80/100\u001b[32m [repeated 20x across cluster]\u001b[0m\n",
      "\u001b[2m\u001b[36m(ClientAppActor pid=1215792)\u001b[0m Epoch 79: Training accuracy: 86.78414154052734 Testing accuracy: 74.26900482177734.\u001b[32m [repeated 21x across cluster]\u001b[0m\n",
      "\u001b[2m\u001b[36m(ClientAppActor pid=1215792)\u001b[0m \u001b[32m [repeated 10x across cluster]\u001b[0m\n",
      "\u001b[2m\u001b[36m(ClientAppActor pid=1215792)\u001b[0m Epoch 90/100\u001b[32m [repeated 10x across cluster]\u001b[0m\n",
      "\u001b[2m\u001b[36m(ClientAppActor pid=1215792)\u001b[0m Epoch 89: Training accuracy: 85.46255493164062 Testing accuracy: 74.26900482177734.\u001b[32m [repeated 10x across cluster]\u001b[0m\n"
     ]
    },
    {
     "name": "stderr",
     "output_type": "stream",
     "text": [
      "\u001b[92mINFO \u001b[0m:      aggregate_fit: received 4 results and 0 failures\n",
      "\u001b[92mINFO \u001b[0m:      fit progress: (42, 0.032684101777918195, {'accuracy': tensor(73.5182, device='cuda:0')}, 2019.390719197996)\n",
      "\u001b[92mINFO \u001b[0m:      configure_evaluate: strategy sampled 2 clients (out of 4)\n"
     ]
    },
    {
     "name": "stdout",
     "output_type": "stream",
     "text": [
      "Server-side evaluation loss 0.032684101777918195 / accuracy 73.5181655883789\n"
     ]
    },
    {
     "name": "stderr",
     "output_type": "stream",
     "text": [
      "\u001b[92mINFO \u001b[0m:      aggregate_evaluate: received 2 results and 0 failures\n",
      "\u001b[92mINFO \u001b[0m:      \n",
      "\u001b[92mINFO \u001b[0m:      [ROUND 43]\n",
      "\u001b[92mINFO \u001b[0m:      configure_fit: strategy sampled 4 clients (out of 4)\n"
     ]
    },
    {
     "name": "stdout",
     "output_type": "stream",
     "text": [
      "\u001b[2m\u001b[36m(ClientAppActor pid=1215791)\u001b[0m \u001b[32m [repeated 11x across cluster]\u001b[0m\n",
      "\u001b[2m\u001b[36m(ClientAppActor pid=1215791)\u001b[0m Epoch 1/100\u001b[32m [repeated 11x across cluster]\u001b[0m\n",
      "\u001b[2m\u001b[36m(ClientAppActor pid=1215792)\u001b[0m Epoch 100: Training accuracy: 85.90308380126953 Testing accuracy: 72.51461791992188.\u001b[32m [repeated 11x across cluster]\u001b[0m\n",
      "\u001b[2m\u001b[36m(ClientAppActor pid=1215791)\u001b[0m \u001b[32m [repeated 25x across cluster]\u001b[0m\n",
      "\u001b[2m\u001b[36m(ClientAppActor pid=1215791)\u001b[0m Epoch 18/100\u001b[32m [repeated 25x across cluster]\u001b[0m\n",
      "\u001b[2m\u001b[36m(ClientAppActor pid=1215791)\u001b[0m Epoch 17: Training accuracy: 86.34223175048828 Testing accuracy: 76.25.\u001b[32m [repeated 24x across cluster]\u001b[0m\n",
      "\u001b[2m\u001b[36m(ClientAppActor pid=1215791)\u001b[0m \u001b[32m [repeated 25x across cluster]\u001b[0m\n",
      "\u001b[2m\u001b[36m(ClientAppActor pid=1215791)\u001b[0m Epoch 33/100\u001b[32m [repeated 25x across cluster]\u001b[0m\n",
      "\u001b[2m\u001b[36m(ClientAppActor pid=1215791)\u001b[0m Epoch 32: Training accuracy: 86.97016906738281 Testing accuracy: 76.25.\u001b[32m [repeated 25x across cluster]\u001b[0m\n",
      "\u001b[2m\u001b[36m(ClientAppActor pid=1215791)\u001b[0m \u001b[32m [repeated 24x across cluster]\u001b[0m\n",
      "\u001b[2m\u001b[36m(ClientAppActor pid=1215791)\u001b[0m Epoch 49/100\u001b[32m [repeated 24x across cluster]\u001b[0m\n",
      "\u001b[2m\u001b[36m(ClientAppActor pid=1215791)\u001b[0m Epoch 48: Training accuracy: 86.81318664550781 Testing accuracy: 77.5.\u001b[32m [repeated 24x across cluster]\u001b[0m\n",
      "\u001b[2m\u001b[36m(ClientAppActor pid=1215791)\u001b[0m \u001b[32m [repeated 27x across cluster]\u001b[0m\n",
      "\u001b[2m\u001b[36m(ClientAppActor pid=1215791)\u001b[0m Epoch 66/100\u001b[32m [repeated 27x across cluster]\u001b[0m\n",
      "\u001b[2m\u001b[36m(ClientAppActor pid=1215791)\u001b[0m Epoch 65: Training accuracy: 86.49921417236328 Testing accuracy: 76.25.\u001b[32m [repeated 27x across cluster]\u001b[0m\n",
      "\u001b[2m\u001b[36m(ClientAppActor pid=1215791)\u001b[0m \u001b[32m [repeated 24x across cluster]\u001b[0m\n",
      "\u001b[2m\u001b[36m(ClientAppActor pid=1215791)\u001b[0m Epoch 82/100\u001b[32m [repeated 24x across cluster]\u001b[0m\n",
      "\u001b[2m\u001b[36m(ClientAppActor pid=1215791)\u001b[0m Epoch 81: Training accuracy: 86.49921417236328 Testing accuracy: 76.875.\u001b[32m [repeated 24x across cluster]\u001b[0m\n",
      "\u001b[2m\u001b[36m(ClientAppActor pid=1215791)\u001b[0m \u001b[32m [repeated 28x across cluster]\u001b[0m\n",
      "\u001b[2m\u001b[36m(ClientAppActor pid=1215791)\u001b[0m Epoch 98/100\u001b[32m [repeated 28x across cluster]\u001b[0m\n",
      "\u001b[2m\u001b[36m(ClientAppActor pid=1215791)\u001b[0m Epoch 97: Training accuracy: 87.12715911865234 Testing accuracy: 77.5.\u001b[32m [repeated 28x across cluster]\u001b[0m\n",
      "\u001b[2m\u001b[36m(ClientAppActor pid=1215792)\u001b[0m \u001b[32m [repeated 27x across cluster]\u001b[0m\n",
      "\u001b[2m\u001b[36m(ClientAppActor pid=1215792)\u001b[0m Epoch 68/100\u001b[32m [repeated 27x across cluster]\u001b[0m\n",
      "\u001b[2m\u001b[36m(ClientAppActor pid=1215792)\u001b[0m Epoch 67: Training accuracy: 87.44075775146484 Testing accuracy: 72.16981506347656.\u001b[32m [repeated 27x across cluster]\u001b[0m\n",
      "\u001b[2m\u001b[36m(ClientAppActor pid=1215791)\u001b[0m \u001b[32m [repeated 31x across cluster]\u001b[0m\n",
      "\u001b[2m\u001b[36m(ClientAppActor pid=1215791)\u001b[0m Epoch 33/100\u001b[32m [repeated 31x across cluster]\u001b[0m\n",
      "\u001b[2m\u001b[36m(ClientAppActor pid=1215791)\u001b[0m Epoch 32: Training accuracy: 85.46255493164062 Testing accuracy: 74.26900482177734.\u001b[32m [repeated 31x across cluster]\u001b[0m\n",
      "\u001b[2m\u001b[36m(ClientAppActor pid=1215792)\u001b[0m \u001b[32m [repeated 32x across cluster]\u001b[0m\n",
      "\u001b[2m\u001b[36m(ClientAppActor pid=1215792)\u001b[0m Epoch 93/100\u001b[32m [repeated 32x across cluster]\u001b[0m\n",
      "\u001b[2m\u001b[36m(ClientAppActor pid=1215792)\u001b[0m Epoch 92: Training accuracy: 86.13744354248047 Testing accuracy: 72.64151000976562.\u001b[32m [repeated 32x across cluster]\u001b[0m\n",
      "\u001b[2m\u001b[36m(ClientAppActor pid=1215792)\u001b[0m \u001b[32m [repeated 121x across cluster]\u001b[0m\n",
      "\u001b[2m\u001b[36m(ClientAppActor pid=1215792)\u001b[0m Epoch 65/100\u001b[32m [repeated 121x across cluster]\u001b[0m\n",
      "\u001b[2m\u001b[36m(ClientAppActor pid=1215792)\u001b[0m Epoch 64: Training accuracy: 87.82608795166016 Testing accuracy: 71.0982666015625.\u001b[32m [repeated 122x across cluster]\u001b[0m\n"
     ]
    },
    {
     "name": "stderr",
     "output_type": "stream",
     "text": [
      "\u001b[92mINFO \u001b[0m:      aggregate_fit: received 4 results and 0 failures\n",
      "\u001b[92mINFO \u001b[0m:      fit progress: (43, 0.032771927468916946, {'accuracy': tensor(74.8566, device='cuda:0')}, 2072.641297715003)\n",
      "\u001b[92mINFO \u001b[0m:      configure_evaluate: strategy sampled 2 clients (out of 4)\n",
      "\u001b[92mINFO \u001b[0m:      aggregate_evaluate: received 2 results and 0 failures\n",
      "\u001b[92mINFO \u001b[0m:      \n",
      "\u001b[92mINFO \u001b[0m:      [ROUND 44]\n",
      "\u001b[92mINFO \u001b[0m:      configure_fit: strategy sampled 4 clients (out of 4)\n"
     ]
    },
    {
     "name": "stdout",
     "output_type": "stream",
     "text": [
      "Server-side evaluation loss 0.032771927468916946 / accuracy 74.85659790039062\n",
      "\u001b[2m\u001b[36m(ClientAppActor pid=1215791)\u001b[0m \u001b[32m [repeated 261x across cluster]\u001b[0m\n",
      "\u001b[2m\u001b[36m(ClientAppActor pid=1215791)\u001b[0m Epoch 45/100\u001b[32m [repeated 261x across cluster]\u001b[0m\n",
      "\u001b[2m\u001b[36m(ClientAppActor pid=1215791)\u001b[0m Epoch 44: Training accuracy: 86.49921417236328 Testing accuracy: 76.25.\u001b[32m [repeated 260x across cluster]\u001b[0m\n",
      "\u001b[2m\u001b[36m(ClientAppActor pid=1215791)\u001b[0m \u001b[32m [repeated 156x across cluster]\u001b[0m\n",
      "\u001b[2m\u001b[36m(ClientAppActor pid=1215791)\u001b[0m Epoch 91/100\u001b[32m [repeated 156x across cluster]\u001b[0m\n",
      "\u001b[2m\u001b[36m(ClientAppActor pid=1215791)\u001b[0m Epoch 90: Training accuracy: 87.12715911865234 Testing accuracy: 76.875.\u001b[32m [repeated 156x across cluster]\u001b[0m\n"
     ]
    },
    {
     "name": "stderr",
     "output_type": "stream",
     "text": [
      "\u001b[92mINFO \u001b[0m:      aggregate_fit: received 4 results and 0 failures\n",
      "\u001b[92mINFO \u001b[0m:      fit progress: (44, 0.0327493758762584, {'accuracy': tensor(74.5698, device='cuda:0')}, 2084.817235834009)\n",
      "\u001b[92mINFO \u001b[0m:      configure_evaluate: strategy sampled 2 clients (out of 4)\n"
     ]
    },
    {
     "name": "stdout",
     "output_type": "stream",
     "text": [
      "Server-side evaluation loss 0.0327493758762584 / accuracy 74.56978607177734\n"
     ]
    },
    {
     "name": "stderr",
     "output_type": "stream",
     "text": [
      "\u001b[92mINFO \u001b[0m:      aggregate_evaluate: received 2 results and 0 failures\n",
      "\u001b[92mINFO \u001b[0m:      \n",
      "\u001b[92mINFO \u001b[0m:      [ROUND 45]\n",
      "\u001b[92mINFO \u001b[0m:      configure_fit: strategy sampled 4 clients (out of 4)\n"
     ]
    },
    {
     "name": "stdout",
     "output_type": "stream",
     "text": [
      "\u001b[2m\u001b[36m(ClientAppActor pid=1215792)\u001b[0m \u001b[32m [repeated 47x across cluster]\u001b[0m\n",
      "\u001b[2m\u001b[36m(ClientAppActor pid=1215792)\u001b[0m Epoch 16/100\u001b[32m [repeated 47x across cluster]\u001b[0m\n",
      "\u001b[2m\u001b[36m(ClientAppActor pid=1215792)\u001b[0m Epoch 15: Training accuracy: 84.43465423583984 Testing accuracy: 74.85379791259766.\u001b[32m [repeated 47x across cluster]\u001b[0m\n",
      "\u001b[2m\u001b[36m(ClientAppActor pid=1215792)\u001b[0m \u001b[32m [repeated 60x across cluster]\u001b[0m\n",
      "\u001b[2m\u001b[36m(ClientAppActor pid=1215792)\u001b[0m Epoch 49/100\u001b[32m [repeated 60x across cluster]\u001b[0m\n",
      "\u001b[2m\u001b[36m(ClientAppActor pid=1215792)\u001b[0m Epoch 48: Training accuracy: 86.0499267578125 Testing accuracy: 73.09941864013672.\u001b[32m [repeated 60x across cluster]\u001b[0m\n",
      "\u001b[2m\u001b[36m(ClientAppActor pid=1215791)\u001b[0m \u001b[32m [repeated 23x across cluster]\u001b[0m\n",
      "\u001b[2m\u001b[36m(ClientAppActor pid=1215791)\u001b[0m Epoch 53/100\u001b[32m [repeated 23x across cluster]\u001b[0m\n",
      "\u001b[2m\u001b[36m(ClientAppActor pid=1215791)\u001b[0m Epoch 52: Training accuracy: 87.20378875732422 Testing accuracy: 73.11320495605469.\u001b[32m [repeated 23x across cluster]\u001b[0m\n",
      "\u001b[2m\u001b[36m(ClientAppActor pid=1215791)\u001b[0m \u001b[32m [repeated 25x across cluster]\u001b[0m\n",
      "\u001b[2m\u001b[36m(ClientAppActor pid=1215791)\u001b[0m Epoch 65/100\u001b[32m [repeated 25x across cluster]\u001b[0m\n",
      "\u001b[2m\u001b[36m(ClientAppActor pid=1215791)\u001b[0m Epoch 64: Training accuracy: 87.44075775146484 Testing accuracy: 71.2264175415039.\u001b[32m [repeated 25x across cluster]\u001b[0m\n",
      "\u001b[2m\u001b[36m(ClientAppActor pid=1215792)\u001b[0m \u001b[32m [repeated 23x across cluster]\u001b[0m\n",
      "\u001b[2m\u001b[36m(ClientAppActor pid=1215792)\u001b[0m Epoch 83/100\u001b[32m [repeated 23x across cluster]\u001b[0m\n",
      "\u001b[2m\u001b[36m(ClientAppActor pid=1215792)\u001b[0m Epoch 82: Training accuracy: 86.78414154052734 Testing accuracy: 74.26900482177734.\u001b[32m [repeated 23x across cluster]\u001b[0m\n",
      "\u001b[2m\u001b[36m(ClientAppActor pid=1215791)\u001b[0m \u001b[32m [repeated 24x across cluster]\u001b[0m\n",
      "\u001b[2m\u001b[36m(ClientAppActor pid=1215791)\u001b[0m Epoch 89/100\u001b[32m [repeated 24x across cluster]\u001b[0m\n",
      "\u001b[2m\u001b[36m(ClientAppActor pid=1215791)\u001b[0m Epoch 88: Training accuracy: 86.13744354248047 Testing accuracy: 69.81131744384766.\u001b[32m [repeated 24x across cluster]\u001b[0m\n",
      "\u001b[2m\u001b[36m(ClientAppActor pid=1215792)\u001b[0m \u001b[32m [repeated 22x across cluster]\u001b[0m\n",
      "\u001b[2m\u001b[36m(ClientAppActor pid=1215792)\u001b[0m Epoch 6/100\u001b[32m [repeated 22x across cluster]\u001b[0m\n",
      "\u001b[2m\u001b[36m(ClientAppActor pid=1215792)\u001b[0m Epoch 5: Training accuracy: 85.71428680419922 Testing accuracy: 81.875.\u001b[32m [repeated 22x across cluster]\u001b[0m\n",
      "\u001b[2m\u001b[36m(ClientAppActor pid=1215791)\u001b[0m \u001b[32m [repeated 27x across cluster]\u001b[0m\n",
      "\u001b[2m\u001b[36m(ClientAppActor pid=1215791)\u001b[0m Epoch 15/100\u001b[32m [repeated 27x across cluster]\u001b[0m\n",
      "\u001b[2m\u001b[36m(ClientAppActor pid=1215791)\u001b[0m Epoch 14: Training accuracy: 89.13043212890625 Testing accuracy: 71.67630004882812.\u001b[32m [repeated 27x across cluster]\u001b[0m\n",
      "\u001b[2m\u001b[36m(ClientAppActor pid=1215791)\u001b[0m \u001b[32m [repeated 26x across cluster]\u001b[0m\n",
      "\u001b[2m\u001b[36m(ClientAppActor pid=1215791)\u001b[0m Epoch 29/100\u001b[32m [repeated 26x across cluster]\u001b[0m\n",
      "\u001b[2m\u001b[36m(ClientAppActor pid=1215791)\u001b[0m Epoch 28: Training accuracy: 87.82608795166016 Testing accuracy: 71.67630004882812.\u001b[32m [repeated 26x across cluster]\u001b[0m\n",
      "\u001b[2m\u001b[36m(ClientAppActor pid=1215791)\u001b[0m \u001b[32m [repeated 32x across cluster]\u001b[0m\n",
      "\u001b[2m\u001b[36m(ClientAppActor pid=1215791)\u001b[0m Epoch 48/100\u001b[32m [repeated 32x across cluster]\u001b[0m\n",
      "\u001b[2m\u001b[36m(ClientAppActor pid=1215791)\u001b[0m Epoch 47: Training accuracy: 89.4202880859375 Testing accuracy: 75.1445083618164.\u001b[32m [repeated 32x across cluster]\u001b[0m\n",
      "\u001b[2m\u001b[36m(ClientAppActor pid=1215792)\u001b[0m \u001b[32m [repeated 40x across cluster]\u001b[0m\n",
      "\u001b[2m\u001b[36m(ClientAppActor pid=1215792)\u001b[0m Epoch 60/100\u001b[32m [repeated 40x across cluster]\u001b[0m\n",
      "\u001b[2m\u001b[36m(ClientAppActor pid=1215792)\u001b[0m Epoch 59: Training accuracy: 87.12715911865234 Testing accuracy: 75.625.\u001b[32m [repeated 40x across cluster]\u001b[0m\n",
      "\u001b[2m\u001b[36m(ClientAppActor pid=1215792)\u001b[0m \u001b[32m [repeated 42x across cluster]\u001b[0m\n",
      "\u001b[2m\u001b[36m(ClientAppActor pid=1215792)\u001b[0m Epoch 79/100\u001b[32m [repeated 42x across cluster]\u001b[0m\n",
      "\u001b[2m\u001b[36m(ClientAppActor pid=1215792)\u001b[0m Epoch 78: Training accuracy: 86.97016906738281 Testing accuracy: 78.125.\u001b[32m [repeated 42x across cluster]\u001b[0m\n",
      "\u001b[2m\u001b[36m(ClientAppActor pid=1215792)\u001b[0m \u001b[32m [repeated 24x across cluster]\u001b[0m\n",
      "\u001b[2m\u001b[36m(ClientAppActor pid=1215792)\u001b[0m Epoch 97/100\u001b[32m [repeated 24x across cluster]\u001b[0m\n",
      "\u001b[2m\u001b[36m(ClientAppActor pid=1215792)\u001b[0m Epoch 96: Training accuracy: 86.81318664550781 Testing accuracy: 76.875.\u001b[32m [repeated 25x across cluster]\u001b[0m\n"
     ]
    },
    {
     "name": "stderr",
     "output_type": "stream",
     "text": [
      "\u001b[92mINFO \u001b[0m:      aggregate_fit: received 4 results and 0 failures\n",
      "\u001b[92mINFO \u001b[0m:      fit progress: (45, 0.03258250040166518, {'accuracy': tensor(75.0478, device='cuda:0')}, 2150.7777508230065)\n",
      "\u001b[92mINFO \u001b[0m:      configure_evaluate: strategy sampled 2 clients (out of 4)\n"
     ]
    },
    {
     "name": "stdout",
     "output_type": "stream",
     "text": [
      "Server-side evaluation loss 0.03258250040166518 / accuracy 75.04779815673828\n"
     ]
    },
    {
     "name": "stderr",
     "output_type": "stream",
     "text": [
      "\u001b[92mINFO \u001b[0m:      aggregate_evaluate: received 2 results and 0 failures\n",
      "\u001b[92mINFO \u001b[0m:      \n",
      "\u001b[92mINFO \u001b[0m:      [ROUND 46]\n",
      "\u001b[92mINFO \u001b[0m:      configure_fit: strategy sampled 4 clients (out of 4)\n"
     ]
    },
    {
     "name": "stdout",
     "output_type": "stream",
     "text": [
      "\u001b[2m\u001b[36m(ClientAppActor pid=1215792)\u001b[0m \u001b[32m [repeated 25x across cluster]\u001b[0m\n",
      "\u001b[2m\u001b[36m(ClientAppActor pid=1215792)\u001b[0m Epoch 10/100\u001b[32m [repeated 25x across cluster]\u001b[0m\n",
      "\u001b[2m\u001b[36m(ClientAppActor pid=1215792)\u001b[0m Epoch 9: Training accuracy: 86.65620422363281 Testing accuracy: 79.375.\u001b[32m [repeated 24x across cluster]\u001b[0m\n",
      "\u001b[2m\u001b[36m(ClientAppActor pid=1215791)\u001b[0m \u001b[32m [repeated 37x across cluster]\u001b[0m\n",
      "\u001b[2m\u001b[36m(ClientAppActor pid=1215791)\u001b[0m Epoch 37/100\u001b[32m [repeated 37x across cluster]\u001b[0m\n",
      "\u001b[2m\u001b[36m(ClientAppActor pid=1215791)\u001b[0m Epoch 36: Training accuracy: 85.6093978881836 Testing accuracy: 74.26900482177734.\u001b[32m [repeated 37x across cluster]\u001b[0m\n",
      "\u001b[2m\u001b[36m(ClientAppActor pid=1215791)\u001b[0m \u001b[32m [repeated 39x across cluster]\u001b[0m\n",
      "\u001b[2m\u001b[36m(ClientAppActor pid=1215791)\u001b[0m Epoch 55/100\u001b[32m [repeated 39x across cluster]\u001b[0m\n",
      "\u001b[2m\u001b[36m(ClientAppActor pid=1215791)\u001b[0m Epoch 54: Training accuracy: 86.34361267089844 Testing accuracy: 74.26900482177734.\u001b[32m [repeated 39x across cluster]\u001b[0m\n",
      "\u001b[2m\u001b[36m(ClientAppActor pid=1215791)\u001b[0m \u001b[32m [repeated 52x across cluster]\u001b[0m\n",
      "\u001b[2m\u001b[36m(ClientAppActor pid=1215791)\u001b[0m Epoch 86/100\u001b[32m [repeated 52x across cluster]\u001b[0m\n",
      "\u001b[2m\u001b[36m(ClientAppActor pid=1215791)\u001b[0m Epoch 85: Training accuracy: 86.0499267578125 Testing accuracy: 74.26900482177734.\u001b[32m [repeated 52x across cluster]\u001b[0m\n",
      "\u001b[2m\u001b[36m(ClientAppActor pid=1215791)\u001b[0m \u001b[32m [repeated 52x across cluster]\u001b[0m\n",
      "\u001b[2m\u001b[36m(ClientAppActor pid=1215791)\u001b[0m Epoch 17/100\u001b[32m [repeated 52x across cluster]\u001b[0m\n",
      "\u001b[2m\u001b[36m(ClientAppActor pid=1215791)\u001b[0m Epoch 16: Training accuracy: 89.13043212890625 Testing accuracy: 75.1445083618164.\u001b[32m [repeated 52x across cluster]\u001b[0m\n",
      "\u001b[2m\u001b[36m(ClientAppActor pid=1215791)\u001b[0m \u001b[32m [repeated 54x across cluster]\u001b[0m\n",
      "\u001b[2m\u001b[36m(ClientAppActor pid=1215791)\u001b[0m Epoch 51/100\u001b[32m [repeated 54x across cluster]\u001b[0m\n",
      "\u001b[2m\u001b[36m(ClientAppActor pid=1215791)\u001b[0m Epoch 50: Training accuracy: 88.840576171875 Testing accuracy: 73.98844146728516.\u001b[32m [repeated 54x across cluster]\u001b[0m\n",
      "\u001b[2m\u001b[36m(ClientAppActor pid=1215791)\u001b[0m \u001b[32m [repeated 57x across cluster]\u001b[0m\n",
      "\u001b[2m\u001b[36m(ClientAppActor pid=1215791)\u001b[0m Epoch 92/100\u001b[32m [repeated 57x across cluster]\u001b[0m\n",
      "\u001b[2m\u001b[36m(ClientAppActor pid=1215791)\u001b[0m Epoch 91: Training accuracy: 87.68115997314453 Testing accuracy: 69.94219970703125.\u001b[32m [repeated 57x across cluster]\u001b[0m\n",
      "\u001b[2m\u001b[36m(ClientAppActor pid=1215792)\u001b[0m \u001b[32m [repeated 34x across cluster]\u001b[0m\n",
      "\u001b[2m\u001b[36m(ClientAppActor pid=1215792)\u001b[0m Epoch 47/100\u001b[32m [repeated 34x across cluster]\u001b[0m\n",
      "\u001b[2m\u001b[36m(ClientAppActor pid=1215792)\u001b[0m Epoch 46: Training accuracy: 88.15165710449219 Testing accuracy: 73.58490753173828.\u001b[32m [repeated 35x across cluster]\u001b[0m\n",
      "\u001b[2m\u001b[36m(ClientAppActor pid=1215792)\u001b[0m \u001b[32m [repeated 11x across cluster]\u001b[0m\n",
      "\u001b[2m\u001b[36m(ClientAppActor pid=1215792)\u001b[0m Epoch 58/100\u001b[32m [repeated 11x across cluster]\u001b[0m\n",
      "\u001b[2m\u001b[36m(ClientAppActor pid=1215792)\u001b[0m Epoch 57: Training accuracy: 87.9146957397461 Testing accuracy: 72.16981506347656.\u001b[32m [repeated 11x across cluster]\u001b[0m\n",
      "\u001b[2m\u001b[36m(ClientAppActor pid=1215792)\u001b[0m \u001b[32m [repeated 15x across cluster]\u001b[0m\n",
      "\u001b[2m\u001b[36m(ClientAppActor pid=1215792)\u001b[0m Epoch 73/100\u001b[32m [repeated 15x across cluster]\u001b[0m\n",
      "\u001b[2m\u001b[36m(ClientAppActor pid=1215792)\u001b[0m Epoch 72: Training accuracy: 87.67772674560547 Testing accuracy: 73.11320495605469.\u001b[32m [repeated 15x across cluster]\u001b[0m\n",
      "\u001b[2m\u001b[36m(ClientAppActor pid=1215792)\u001b[0m \u001b[32m [repeated 14x across cluster]\u001b[0m\n",
      "\u001b[2m\u001b[36m(ClientAppActor pid=1215792)\u001b[0m Epoch 87/100\u001b[32m [repeated 14x across cluster]\u001b[0m\n",
      "\u001b[2m\u001b[36m(ClientAppActor pid=1215792)\u001b[0m Epoch 86: Training accuracy: 87.32227325439453 Testing accuracy: 72.64151000976562.\u001b[32m [repeated 14x across cluster]\u001b[0m\n",
      "\u001b[2m\u001b[36m(ClientAppActor pid=1215792)\u001b[0m \u001b[32m [repeated 13x across cluster]\u001b[0m\n",
      "\u001b[2m\u001b[36m(ClientAppActor pid=1215792)\u001b[0m Epoch 100/100\u001b[32m [repeated 13x across cluster]\u001b[0m\n",
      "\u001b[2m\u001b[36m(ClientAppActor pid=1215792)\u001b[0m Epoch 99: Training accuracy: 88.15165710449219 Testing accuracy: 71.2264175415039.\u001b[32m [repeated 13x across cluster]\u001b[0m\n"
     ]
    },
    {
     "name": "stderr",
     "output_type": "stream",
     "text": [
      "\u001b[92mINFO \u001b[0m:      aggregate_fit: received 4 results and 0 failures\n",
      "\u001b[92mINFO \u001b[0m:      fit progress: (46, 0.032143592834472656, {'accuracy': tensor(74.6654, device='cuda:0')}, 2212.357004532998)\n",
      "\u001b[92mINFO \u001b[0m:      configure_evaluate: strategy sampled 2 clients (out of 4)\n"
     ]
    },
    {
     "name": "stdout",
     "output_type": "stream",
     "text": [
      "Server-side evaluation loss 0.032143592834472656 / accuracy 74.66539001464844\n"
     ]
    },
    {
     "name": "stderr",
     "output_type": "stream",
     "text": [
      "\u001b[92mINFO \u001b[0m:      aggregate_evaluate: received 2 results and 0 failures\n",
      "\u001b[92mINFO \u001b[0m:      \n",
      "\u001b[92mINFO \u001b[0m:      [ROUND 47]\n",
      "\u001b[92mINFO \u001b[0m:      configure_fit: strategy sampled 4 clients (out of 4)\n"
     ]
    },
    {
     "name": "stdout",
     "output_type": "stream",
     "text": [
      "\u001b[2m\u001b[36m(ClientAppActor pid=1215791)\u001b[0m \u001b[32m [repeated 18x across cluster]\u001b[0m\n",
      "\u001b[2m\u001b[36m(ClientAppActor pid=1215791)\u001b[0m Epoch 11/100\u001b[32m [repeated 18x across cluster]\u001b[0m\n",
      "\u001b[2m\u001b[36m(ClientAppActor pid=1215791)\u001b[0m Epoch 10: Training accuracy: 87.12715911865234 Testing accuracy: 78.75.\u001b[32m [repeated 17x across cluster]\u001b[0m\n",
      "\u001b[2m\u001b[36m(ClientAppActor pid=1215791)\u001b[0m \u001b[32m [repeated 29x across cluster]\u001b[0m\n",
      "\u001b[2m\u001b[36m(ClientAppActor pid=1215791)\u001b[0m Epoch 28/100\u001b[32m [repeated 29x across cluster]\u001b[0m\n",
      "\u001b[2m\u001b[36m(ClientAppActor pid=1215791)\u001b[0m Epoch 27: Training accuracy: 87.28414154052734 Testing accuracy: 78.125.\u001b[32m [repeated 29x across cluster]\u001b[0m\n",
      "\u001b[2m\u001b[36m(ClientAppActor pid=1215792)\u001b[0m \u001b[32m [repeated 28x across cluster]\u001b[0m\n",
      "\u001b[2m\u001b[36m(ClientAppActor pid=1215792)\u001b[0m Epoch 30/100\u001b[32m [repeated 28x across cluster]\u001b[0m\n",
      "\u001b[2m\u001b[36m(ClientAppActor pid=1215792)\u001b[0m Epoch 29: Training accuracy: 89.13043212890625 Testing accuracy: 71.0982666015625.\u001b[32m [repeated 28x across cluster]\u001b[0m\n",
      "\u001b[2m\u001b[36m(ClientAppActor pid=1215791)\u001b[0m \u001b[32m [repeated 26x across cluster]\u001b[0m\n",
      "\u001b[2m\u001b[36m(ClientAppActor pid=1215791)\u001b[0m Epoch 59/100\u001b[32m [repeated 26x across cluster]\u001b[0m\n",
      "\u001b[2m\u001b[36m(ClientAppActor pid=1215791)\u001b[0m Epoch 58: Training accuracy: 87.12715911865234 Testing accuracy: 76.25.\u001b[32m [repeated 26x across cluster]\u001b[0m\n",
      "\u001b[2m\u001b[36m(ClientAppActor pid=1215791)\u001b[0m \u001b[32m [repeated 28x across cluster]\u001b[0m\n",
      "\u001b[2m\u001b[36m(ClientAppActor pid=1215791)\u001b[0m Epoch 77/100\u001b[32m [repeated 28x across cluster]\u001b[0m\n",
      "\u001b[2m\u001b[36m(ClientAppActor pid=1215791)\u001b[0m Epoch 76: Training accuracy: 85.55729675292969 Testing accuracy: 78.75.\u001b[32m [repeated 28x across cluster]\u001b[0m\n",
      "\u001b[2m\u001b[36m(ClientAppActor pid=1215792)\u001b[0m \u001b[32m [repeated 30x across cluster]\u001b[0m\n",
      "\u001b[2m\u001b[36m(ClientAppActor pid=1215792)\u001b[0m Epoch 65/100\u001b[32m [repeated 30x across cluster]\u001b[0m\n",
      "\u001b[2m\u001b[36m(ClientAppActor pid=1215792)\u001b[0m Epoch 64: Training accuracy: 88.98550415039062 Testing accuracy: 72.25433349609375.\u001b[32m [repeated 30x across cluster]\u001b[0m\n",
      "\u001b[2m\u001b[36m(ClientAppActor pid=1215792)\u001b[0m \u001b[32m [repeated 22x across cluster]\u001b[0m\n",
      "\u001b[2m\u001b[36m(ClientAppActor pid=1215792)\u001b[0m Epoch 76/100\u001b[32m [repeated 22x across cluster]\u001b[0m\n",
      "\u001b[2m\u001b[36m(ClientAppActor pid=1215792)\u001b[0m Epoch 75: Training accuracy: 89.4202880859375 Testing accuracy: 72.25433349609375.\u001b[32m [repeated 22x across cluster]\u001b[0m\n",
      "\u001b[2m\u001b[36m(ClientAppActor pid=1215792)\u001b[0m \u001b[32m [repeated 24x across cluster]\u001b[0m\n",
      "\u001b[2m\u001b[36m(ClientAppActor pid=1215792)\u001b[0m Epoch 87/100\u001b[32m [repeated 24x across cluster]\u001b[0m\n",
      "\u001b[2m\u001b[36m(ClientAppActor pid=1215792)\u001b[0m Epoch 86: Training accuracy: 88.6956558227539 Testing accuracy: 74.56647491455078.\u001b[32m [repeated 24x across cluster]\u001b[0m\n",
      "\u001b[2m\u001b[36m(ClientAppActor pid=1215791)\u001b[0m \u001b[32m [repeated 28x across cluster]\u001b[0m\n",
      "\u001b[2m\u001b[36m(ClientAppActor pid=1215791)\u001b[0m Epoch 36/100\u001b[32m [repeated 28x across cluster]\u001b[0m\n",
      "\u001b[2m\u001b[36m(ClientAppActor pid=1215791)\u001b[0m Epoch 35: Training accuracy: 86.61137390136719 Testing accuracy: 70.28302001953125.\u001b[32m [repeated 28x across cluster]\u001b[0m\n",
      "\u001b[2m\u001b[36m(ClientAppActor pid=1215791)\u001b[0m \u001b[32m [repeated 27x across cluster]\u001b[0m\n",
      "\u001b[2m\u001b[36m(ClientAppActor pid=1215791)\u001b[0m Epoch 52/100\u001b[32m [repeated 27x across cluster]\u001b[0m\n",
      "\u001b[2m\u001b[36m(ClientAppActor pid=1215791)\u001b[0m Epoch 51: Training accuracy: 85.90047454833984 Testing accuracy: 72.64151000976562.\u001b[32m [repeated 27x across cluster]\u001b[0m\n",
      "\u001b[2m\u001b[36m(ClientAppActor pid=1215791)\u001b[0m \u001b[32m [repeated 28x across cluster]\u001b[0m\n",
      "\u001b[2m\u001b[36m(ClientAppActor pid=1215791)\u001b[0m Epoch 69/100\u001b[32m [repeated 28x across cluster]\u001b[0m\n",
      "\u001b[2m\u001b[36m(ClientAppActor pid=1215791)\u001b[0m Epoch 68: Training accuracy: 88.03317260742188 Testing accuracy: 74.05660247802734.\u001b[32m [repeated 28x across cluster]\u001b[0m\n",
      "\u001b[2m\u001b[36m(ClientAppActor pid=1215791)\u001b[0m \u001b[32m [repeated 43x across cluster]\u001b[0m\n",
      "\u001b[2m\u001b[36m(ClientAppActor pid=1215791)\u001b[0m Epoch 100/100\u001b[32m [repeated 43x across cluster]\u001b[0m\n",
      "\u001b[2m\u001b[36m(ClientAppActor pid=1215791)\u001b[0m Epoch 99: Training accuracy: 88.03317260742188 Testing accuracy: 72.16981506347656.\u001b[32m [repeated 43x across cluster]\u001b[0m\n",
      "\u001b[2m\u001b[36m(ClientAppActor pid=1215792)\u001b[0m \u001b[32m [repeated 17x across cluster]\u001b[0m\n",
      "\u001b[2m\u001b[36m(ClientAppActor pid=1215792)\u001b[0m Epoch 48/100\u001b[32m [repeated 17x across cluster]\u001b[0m\n",
      "\u001b[2m\u001b[36m(ClientAppActor pid=1215792)\u001b[0m Epoch 47: Training accuracy: 86.63729858398438 Testing accuracy: 74.85379791259766.\u001b[32m [repeated 18x across cluster]\u001b[0m\n",
      "\u001b[2m\u001b[36m(ClientAppActor pid=1215792)\u001b[0m \u001b[32m [repeated 17x across cluster]\u001b[0m\n",
      "\u001b[2m\u001b[36m(ClientAppActor pid=1215792)\u001b[0m Epoch 65/100\u001b[32m [repeated 17x across cluster]\u001b[0m\n",
      "\u001b[2m\u001b[36m(ClientAppActor pid=1215792)\u001b[0m Epoch 64: Training accuracy: 86.4904556274414 Testing accuracy: 73.68421173095703.\u001b[32m [repeated 17x across cluster]\u001b[0m\n",
      "\u001b[2m\u001b[36m(ClientAppActor pid=1215792)\u001b[0m \u001b[32m [repeated 14x across cluster]\u001b[0m\n",
      "\u001b[2m\u001b[36m(ClientAppActor pid=1215792)\u001b[0m Epoch 79/100\u001b[32m [repeated 14x across cluster]\u001b[0m\n",
      "\u001b[2m\u001b[36m(ClientAppActor pid=1215792)\u001b[0m Epoch 78: Training accuracy: 86.34361267089844 Testing accuracy: 73.68421173095703.\u001b[32m [repeated 14x across cluster]\u001b[0m\n",
      "\u001b[2m\u001b[36m(ClientAppActor pid=1215792)\u001b[0m \u001b[32m [repeated 12x across cluster]\u001b[0m\n",
      "\u001b[2m\u001b[36m(ClientAppActor pid=1215792)\u001b[0m Epoch 91/100\u001b[32m [repeated 12x across cluster]\u001b[0m\n",
      "\u001b[2m\u001b[36m(ClientAppActor pid=1215792)\u001b[0m Epoch 90: Training accuracy: 84.87518310546875 Testing accuracy: 73.68421173095703.\u001b[32m [repeated 12x across cluster]\u001b[0m\n"
     ]
    },
    {
     "name": "stderr",
     "output_type": "stream",
     "text": [
      "\u001b[92mINFO \u001b[0m:      aggregate_fit: received 4 results and 0 failures\n",
      "\u001b[92mINFO \u001b[0m:      fit progress: (47, 0.03202626284431009, {'accuracy': tensor(75.1434, device='cuda:0')}, 2297.6205254030065)\n",
      "\u001b[92mINFO \u001b[0m:      configure_evaluate: strategy sampled 2 clients (out of 4)\n"
     ]
    },
    {
     "name": "stdout",
     "output_type": "stream",
     "text": [
      "Server-side evaluation loss 0.03202626284431009 / accuracy 75.14340209960938\n"
     ]
    },
    {
     "name": "stderr",
     "output_type": "stream",
     "text": [
      "\u001b[92mINFO \u001b[0m:      aggregate_evaluate: received 2 results and 0 failures\n",
      "\u001b[92mINFO \u001b[0m:      \n",
      "\u001b[92mINFO \u001b[0m:      [ROUND 48]\n",
      "\u001b[92mINFO \u001b[0m:      configure_fit: strategy sampled 4 clients (out of 4)\n"
     ]
    },
    {
     "name": "stdout",
     "output_type": "stream",
     "text": [
      "\u001b[2m\u001b[36m(ClientAppActor pid=1215791)\u001b[0m \u001b[32m [repeated 21x across cluster]\u001b[0m\n",
      "\u001b[2m\u001b[36m(ClientAppActor pid=1215791)\u001b[0m Epoch 9/100\u001b[32m [repeated 21x across cluster]\u001b[0m\n",
      "\u001b[2m\u001b[36m(ClientAppActor pid=1215791)\u001b[0m Epoch 8: Training accuracy: 88.15165710449219 Testing accuracy: 72.64151000976562.\u001b[32m [repeated 20x across cluster]\u001b[0m\n",
      "\u001b[2m\u001b[36m(ClientAppActor pid=1215791)\u001b[0m \u001b[32m [repeated 49x across cluster]\u001b[0m\n",
      "\u001b[2m\u001b[36m(ClientAppActor pid=1215791)\u001b[0m Epoch 37/100\u001b[32m [repeated 49x across cluster]\u001b[0m\n",
      "\u001b[2m\u001b[36m(ClientAppActor pid=1215791)\u001b[0m Epoch 36: Training accuracy: 88.15165710449219 Testing accuracy: 73.58490753173828.\u001b[32m [repeated 49x across cluster]\u001b[0m\n",
      "\u001b[2m\u001b[36m(ClientAppActor pid=1215792)\u001b[0m \u001b[32m [repeated 46x across cluster]\u001b[0m\n",
      "\u001b[2m\u001b[36m(ClientAppActor pid=1215792)\u001b[0m Epoch 45/100\u001b[32m [repeated 46x across cluster]\u001b[0m\n",
      "\u001b[2m\u001b[36m(ClientAppActor pid=1215792)\u001b[0m Epoch 44: Training accuracy: 86.4904556274414 Testing accuracy: 75.4385986328125.\u001b[32m [repeated 46x across cluster]\u001b[0m\n",
      "\u001b[2m\u001b[36m(ClientAppActor pid=1215791)\u001b[0m \u001b[32m [repeated 44x across cluster]\u001b[0m\n",
      "\u001b[2m\u001b[36m(ClientAppActor pid=1215791)\u001b[0m Epoch 89/100\u001b[32m [repeated 44x across cluster]\u001b[0m\n",
      "\u001b[2m\u001b[36m(ClientAppActor pid=1215791)\u001b[0m Epoch 88: Training accuracy: 87.67772674560547 Testing accuracy: 72.64151000976562.\u001b[32m [repeated 44x across cluster]\u001b[0m\n",
      "\u001b[2m\u001b[36m(ClientAppActor pid=1215792)\u001b[0m \u001b[32m [repeated 51x across cluster]\u001b[0m\n",
      "\u001b[2m\u001b[36m(ClientAppActor pid=1215792)\u001b[0m Epoch 84/100\u001b[32m [repeated 51x across cluster]\u001b[0m\n",
      "\u001b[2m\u001b[36m(ClientAppActor pid=1215792)\u001b[0m Epoch 83: Training accuracy: 86.93098449707031 Testing accuracy: 74.85379791259766.\u001b[32m [repeated 51x across cluster]\u001b[0m\n",
      "\u001b[2m\u001b[36m(ClientAppActor pid=1215792)\u001b[0m \u001b[32m [repeated 141x across cluster]\u001b[0m\n",
      "\u001b[2m\u001b[36m(ClientAppActor pid=1215792)\u001b[0m Epoch 43/100\u001b[32m [repeated 141x across cluster]\u001b[0m\n",
      "\u001b[2m\u001b[36m(ClientAppActor pid=1215792)\u001b[0m Epoch 42: Training accuracy: 87.12715911865234 Testing accuracy: 76.875.\u001b[32m [repeated 142x across cluster]\u001b[0m\n"
     ]
    },
    {
     "name": "stderr",
     "output_type": "stream",
     "text": [
      "\u001b[92mINFO \u001b[0m:      aggregate_fit: received 4 results and 0 failures\n",
      "\u001b[92mINFO \u001b[0m:      fit progress: (48, 0.032363786416895246, {'accuracy': tensor(74.7610, device='cuda:0')}, 2327.827960146009)\n",
      "\u001b[92mINFO \u001b[0m:      configure_evaluate: strategy sampled 2 clients (out of 4)\n",
      "\u001b[92mINFO \u001b[0m:      aggregate_evaluate: received 2 results and 0 failures\n",
      "\u001b[92mINFO \u001b[0m:      \n",
      "\u001b[92mINFO \u001b[0m:      [ROUND 49]\n",
      "\u001b[92mINFO \u001b[0m:      configure_fit: strategy sampled 4 clients (out of 4)\n"
     ]
    },
    {
     "name": "stdout",
     "output_type": "stream",
     "text": [
      "Server-side evaluation loss 0.032363786416895246 / accuracy 74.76099395751953\n",
      "\u001b[2m\u001b[36m(ClientAppActor pid=1215791)\u001b[0m \u001b[32m [repeated 174x across cluster]\u001b[0m\n",
      "\u001b[2m\u001b[36m(ClientAppActor pid=1215791)\u001b[0m Epoch 56/100\u001b[32m [repeated 174x across cluster]\u001b[0m\n",
      "\u001b[2m\u001b[36m(ClientAppActor pid=1215791)\u001b[0m Epoch 55: Training accuracy: 87.9146957397461 Testing accuracy: 72.16981506347656.\u001b[32m [repeated 173x across cluster]\u001b[0m\n",
      "\u001b[2m\u001b[36m(ClientAppActor pid=1215791)\u001b[0m \u001b[32m [repeated 51x across cluster]\u001b[0m\n",
      "\u001b[2m\u001b[36m(ClientAppActor pid=1215791)\u001b[0m Epoch 77/100\u001b[32m [repeated 51x across cluster]\u001b[0m\n",
      "\u001b[2m\u001b[36m(ClientAppActor pid=1215791)\u001b[0m Epoch 76: Training accuracy: 87.67772674560547 Testing accuracy: 72.16981506347656.\u001b[32m [repeated 51x across cluster]\u001b[0m\n",
      "\u001b[2m\u001b[36m(ClientAppActor pid=1215791)\u001b[0m \u001b[32m [repeated 24x across cluster]\u001b[0m\n",
      "\u001b[2m\u001b[36m(ClientAppActor pid=1215791)\u001b[0m Epoch 89/100\u001b[32m [repeated 24x across cluster]\u001b[0m\n",
      "\u001b[2m\u001b[36m(ClientAppActor pid=1215791)\u001b[0m Epoch 88: Training accuracy: 88.03317260742188 Testing accuracy: 73.11320495605469.\u001b[32m [repeated 24x across cluster]\u001b[0m\n",
      "\u001b[2m\u001b[36m(ClientAppActor pid=1215791)\u001b[0m \u001b[32m [repeated 23x across cluster]\u001b[0m\n",
      "\u001b[2m\u001b[36m(ClientAppActor pid=1215791)\u001b[0m Epoch 1/100\u001b[32m [repeated 23x across cluster]\u001b[0m\n",
      "\u001b[2m\u001b[36m(ClientAppActor pid=1215792)\u001b[0m Epoch 13: Training accuracy: 86.81318664550781 Testing accuracy: 77.5.\u001b[32m [repeated 23x across cluster]\u001b[0m\n",
      "\u001b[2m\u001b[36m(ClientAppActor pid=1215791)\u001b[0m \u001b[32m [repeated 27x across cluster]\u001b[0m\n",
      "\u001b[2m\u001b[36m(ClientAppActor pid=1215791)\u001b[0m Epoch 15/100\u001b[32m [repeated 27x across cluster]\u001b[0m\n",
      "\u001b[2m\u001b[36m(ClientAppActor pid=1215791)\u001b[0m Epoch 14: Training accuracy: 86.0499267578125 Testing accuracy: 74.26900482177734.\u001b[32m [repeated 27x across cluster]\u001b[0m\n",
      "\u001b[2m\u001b[36m(ClientAppActor pid=1215791)\u001b[0m \u001b[32m [repeated 29x across cluster]\u001b[0m\n",
      "\u001b[2m\u001b[36m(ClientAppActor pid=1215791)\u001b[0m Epoch 31/100\u001b[32m [repeated 29x across cluster]\u001b[0m\n",
      "\u001b[2m\u001b[36m(ClientAppActor pid=1215791)\u001b[0m Epoch 30: Training accuracy: 86.78414154052734 Testing accuracy: 73.09941864013672.\u001b[32m [repeated 29x across cluster]\u001b[0m\n",
      "\u001b[2m\u001b[36m(ClientAppActor pid=1215791)\u001b[0m \u001b[32m [repeated 29x across cluster]\u001b[0m\n",
      "\u001b[2m\u001b[36m(ClientAppActor pid=1215791)\u001b[0m Epoch 48/100\u001b[32m [repeated 29x across cluster]\u001b[0m\n",
      "\u001b[2m\u001b[36m(ClientAppActor pid=1215791)\u001b[0m Epoch 47: Training accuracy: 86.78414154052734 Testing accuracy: 76.02339172363281.\u001b[32m [repeated 29x across cluster]\u001b[0m\n",
      "\u001b[2m\u001b[36m(ClientAppActor pid=1215791)\u001b[0m \u001b[32m [repeated 26x across cluster]\u001b[0m\n",
      "\u001b[2m\u001b[36m(ClientAppActor pid=1215791)\u001b[0m Epoch 62/100\u001b[32m [repeated 26x across cluster]\u001b[0m\n",
      "\u001b[2m\u001b[36m(ClientAppActor pid=1215791)\u001b[0m Epoch 61: Training accuracy: 86.63729858398438 Testing accuracy: 74.85379791259766.\u001b[32m [repeated 26x across cluster]\u001b[0m\n",
      "\u001b[2m\u001b[36m(ClientAppActor pid=1215792)\u001b[0m \u001b[32m [repeated 28x across cluster]\u001b[0m\n",
      "\u001b[2m\u001b[36m(ClientAppActor pid=1215792)\u001b[0m Epoch 78/100\u001b[32m [repeated 28x across cluster]\u001b[0m\n",
      "\u001b[2m\u001b[36m(ClientAppActor pid=1215792)\u001b[0m Epoch 77: Training accuracy: 86.97016906738281 Testing accuracy: 76.875.\u001b[32m [repeated 28x across cluster]\u001b[0m\n",
      "\u001b[2m\u001b[36m(ClientAppActor pid=1215792)\u001b[0m \u001b[32m [repeated 26x across cluster]\u001b[0m\n",
      "\u001b[2m\u001b[36m(ClientAppActor pid=1215792)\u001b[0m Epoch 89/100\u001b[32m [repeated 26x across cluster]\u001b[0m\n",
      "\u001b[2m\u001b[36m(ClientAppActor pid=1215792)\u001b[0m Epoch 88: Training accuracy: 86.81318664550781 Testing accuracy: 75.625.\u001b[32m [repeated 26x across cluster]\u001b[0m\n"
     ]
    },
    {
     "name": "stderr",
     "output_type": "stream",
     "text": [
      "\u001b[92mINFO \u001b[0m:      aggregate_fit: received 4 results and 0 failures\n",
      "\u001b[92mINFO \u001b[0m:      fit progress: (49, 0.032955141628489774, {'accuracy': tensor(74.5698, device='cuda:0')}, 2381.554672254002)\n",
      "\u001b[92mINFO \u001b[0m:      configure_evaluate: strategy sampled 2 clients (out of 4)\n"
     ]
    },
    {
     "name": "stdout",
     "output_type": "stream",
     "text": [
      "Server-side evaluation loss 0.032955141628489774 / accuracy 74.56978607177734\n"
     ]
    },
    {
     "name": "stderr",
     "output_type": "stream",
     "text": [
      "\u001b[92mINFO \u001b[0m:      aggregate_evaluate: received 2 results and 0 failures\n",
      "\u001b[92mINFO \u001b[0m:      \n",
      "\u001b[92mINFO \u001b[0m:      [ROUND 50]\n",
      "\u001b[92mINFO \u001b[0m:      configure_fit: strategy sampled 4 clients (out of 4)\n"
     ]
    },
    {
     "name": "stdout",
     "output_type": "stream",
     "text": [
      "\u001b[2m\u001b[36m(ClientAppActor pid=1215791)\u001b[0m \u001b[32m [repeated 21x across cluster]\u001b[0m\n",
      "\u001b[2m\u001b[36m(ClientAppActor pid=1215791)\u001b[0m Epoch 1/100\u001b[32m [repeated 21x across cluster]\u001b[0m\n",
      "\u001b[2m\u001b[36m(ClientAppActor pid=1215792)\u001b[0m Epoch 100: Training accuracy: 86.34223175048828 Testing accuracy: 75.625.\u001b[32m [repeated 22x across cluster]\u001b[0m\n",
      "\u001b[2m\u001b[36m(ClientAppActor pid=1215792)\u001b[0m \u001b[32m [repeated 27x across cluster]\u001b[0m\n",
      "\u001b[2m\u001b[36m(ClientAppActor pid=1215792)\u001b[0m Epoch 12/100\u001b[32m [repeated 27x across cluster]\u001b[0m\n",
      "\u001b[2m\u001b[36m(ClientAppActor pid=1215792)\u001b[0m Epoch 11: Training accuracy: 86.65620422363281 Testing accuracy: 77.5.\u001b[32m [repeated 26x across cluster]\u001b[0m\n",
      "\u001b[2m\u001b[36m(ClientAppActor pid=1215791)\u001b[0m \u001b[32m [repeated 29x across cluster]\u001b[0m\n",
      "\u001b[2m\u001b[36m(ClientAppActor pid=1215791)\u001b[0m Epoch 33/100\u001b[32m [repeated 29x across cluster]\u001b[0m\n",
      "\u001b[2m\u001b[36m(ClientAppActor pid=1215791)\u001b[0m Epoch 32: Training accuracy: 86.63729858398438 Testing accuracy: 71.34503173828125.\u001b[32m [repeated 29x across cluster]\u001b[0m\n",
      "\u001b[2m\u001b[36m(ClientAppActor pid=1215791)\u001b[0m \u001b[32m [repeated 43x across cluster]\u001b[0m\n",
      "\u001b[2m\u001b[36m(ClientAppActor pid=1215791)\u001b[0m Epoch 61/100\u001b[32m [repeated 43x across cluster]\u001b[0m\n",
      "\u001b[2m\u001b[36m(ClientAppActor pid=1215791)\u001b[0m Epoch 60: Training accuracy: 87.37151336669922 Testing accuracy: 74.26900482177734.\u001b[32m [repeated 43x across cluster]\u001b[0m\n",
      "\u001b[2m\u001b[36m(ClientAppActor pid=1215791)\u001b[0m \u001b[32m [repeated 45x across cluster]\u001b[0m\n",
      "\u001b[2m\u001b[36m(ClientAppActor pid=1215791)\u001b[0m Epoch 87/100\u001b[32m [repeated 45x across cluster]\u001b[0m\n",
      "\u001b[2m\u001b[36m(ClientAppActor pid=1215791)\u001b[0m Epoch 86: Training accuracy: 87.07782745361328 Testing accuracy: 74.26900482177734.\u001b[32m [repeated 45x across cluster]\u001b[0m\n",
      "\u001b[2m\u001b[36m(ClientAppActor pid=1215791)\u001b[0m \u001b[32m [repeated 74x across cluster]\u001b[0m\n",
      "\u001b[2m\u001b[36m(ClientAppActor pid=1215791)\u001b[0m Epoch 43/100\u001b[32m [repeated 74x across cluster]\u001b[0m\n",
      "\u001b[2m\u001b[36m(ClientAppActor pid=1215791)\u001b[0m Epoch 42: Training accuracy: 90.0 Testing accuracy: 73.98844146728516.\u001b[32m [repeated 74x across cluster]\u001b[0m\n",
      "\u001b[2m\u001b[36m(ClientAppActor pid=1215791)\u001b[0m \u001b[32m [repeated 90x across cluster]\u001b[0m\n",
      "\u001b[2m\u001b[36m(ClientAppActor pid=1215791)\u001b[0m Epoch 18/100\u001b[32m [repeated 90x across cluster]\u001b[0m\n",
      "\u001b[2m\u001b[36m(ClientAppActor pid=1215791)\u001b[0m Epoch 17: Training accuracy: 86.37440490722656 Testing accuracy: 71.2264175415039.\u001b[32m [repeated 90x across cluster]\u001b[0m\n",
      "\u001b[2m\u001b[36m(ClientAppActor pid=1215791)\u001b[0m \u001b[32m [repeated 41x across cluster]\u001b[0m\n",
      "\u001b[2m\u001b[36m(ClientAppActor pid=1215791)\u001b[0m Epoch 50/100\u001b[32m [repeated 41x across cluster]\u001b[0m\n",
      "\u001b[2m\u001b[36m(ClientAppActor pid=1215791)\u001b[0m Epoch 49: Training accuracy: 87.9146957397461 Testing accuracy: 74.05660247802734.\u001b[32m [repeated 42x across cluster]\u001b[0m\n",
      "\u001b[2m\u001b[36m(ClientAppActor pid=1215791)\u001b[0m \u001b[32m [repeated 38x across cluster]\u001b[0m\n",
      "\u001b[2m\u001b[36m(ClientAppActor pid=1215791)\u001b[0m Epoch 88/100\u001b[32m [repeated 38x across cluster]\u001b[0m\n",
      "\u001b[2m\u001b[36m(ClientAppActor pid=1215791)\u001b[0m Epoch 87: Training accuracy: 87.67772674560547 Testing accuracy: 72.16981506347656.\u001b[32m [repeated 38x across cluster]\u001b[0m\n"
     ]
    },
    {
     "name": "stderr",
     "output_type": "stream",
     "text": [
      "\u001b[92mINFO \u001b[0m:      aggregate_fit: received 4 results and 0 failures\n",
      "\u001b[92mINFO \u001b[0m:      fit progress: (50, 0.03248522562139174, {'accuracy': tensor(74.4742, device='cuda:0')}, 2425.473985019009)\n",
      "\u001b[92mINFO \u001b[0m:      configure_evaluate: strategy sampled 2 clients (out of 4)\n"
     ]
    },
    {
     "name": "stdout",
     "output_type": "stream",
     "text": [
      "Server-side evaluation loss 0.03248522562139174 / accuracy 74.47418975830078\n"
     ]
    },
    {
     "name": "stderr",
     "output_type": "stream",
     "text": [
      "\u001b[92mINFO \u001b[0m:      aggregate_evaluate: received 2 results and 0 failures\n",
      "\u001b[92mINFO \u001b[0m:      \n",
      "\u001b[92mINFO \u001b[0m:      [SUMMARY]\n",
      "\u001b[92mINFO \u001b[0m:      Run finished 50 rounds in 2425.91s\n",
      "\u001b[92mINFO \u001b[0m:      History (loss, distributed):\n",
      "\u001b[92mINFO \u001b[0m:      \t('\\tround 1: 0.22775418559710184\\n'\n",
      "\u001b[92mINFO \u001b[0m:      \t '\\tround 2: 0.1963195502758026\\n'\n",
      "\u001b[92mINFO \u001b[0m:      \t '\\tround 3: 0.1802973747253418\\n'\n",
      "\u001b[92mINFO \u001b[0m:      \t '\\tround 4: 0.19152194261550903\\n'\n",
      "\u001b[92mINFO \u001b[0m:      \t '\\tround 5: 0.18459036946296692\\n'\n",
      "\u001b[92mINFO \u001b[0m:      \t '\\tround 6: 0.15452843407789865\\n'\n",
      "\u001b[92mINFO \u001b[0m:      \t '\\tround 7: 0.17190009355545044\\n'\n",
      "\u001b[92mINFO \u001b[0m:      \t '\\tround 8: 0.18188375234603882\\n'\n",
      "\u001b[92mINFO \u001b[0m:      \t '\\tround 9: 0.17448746164639792\\n'\n",
      "\u001b[92mINFO \u001b[0m:      \t '\\tround 10: 0.16724134343011038\\n'\n",
      "\u001b[92mINFO \u001b[0m:      \t '\\tround 11: 0.17963624000549316\\n'\n",
      "\u001b[92mINFO \u001b[0m:      \t '\\tround 12: 0.14807396275656565\\n'\n",
      "\u001b[92mINFO \u001b[0m:      \t '\\tround 13: 0.17393056551615396\\n'\n",
      "\u001b[92mINFO \u001b[0m:      \t '\\tround 14: 0.17445746064186096\\n'\n",
      "\u001b[92mINFO \u001b[0m:      \t '\\tround 15: 0.1900919278462728\\n'\n",
      "\u001b[92mINFO \u001b[0m:      \t '\\tround 16: 0.1651607666696821\\n'\n",
      "\u001b[92mINFO \u001b[0m:      \t '\\tround 17: 0.17682358622550964\\n'\n",
      "\u001b[92mINFO \u001b[0m:      \t '\\tround 18: 0.15915544543947494\\n'\n",
      "\u001b[92mINFO \u001b[0m:      \t '\\tround 19: 0.15547031164169312\\n'\n",
      "\u001b[92mINFO \u001b[0m:      \t '\\tround 20: 0.1644875236919948\\n'\n",
      "\u001b[92mINFO \u001b[0m:      \t '\\tround 21: 0.17878636717796326\\n'\n",
      "\u001b[92mINFO \u001b[0m:      \t '\\tround 22: 0.17779064178466797\\n'\n",
      "\u001b[92mINFO \u001b[0m:      \t '\\tround 23: 0.16209159578595841\\n'\n",
      "\u001b[92mINFO \u001b[0m:      \t '\\tround 24: 0.15180561372212\\n'\n",
      "\u001b[92mINFO \u001b[0m:      \t '\\tround 25: 0.1921091377735138\\n'\n",
      "\u001b[92mINFO \u001b[0m:      \t '\\tround 26: 0.1790100634098053\\n'\n",
      "\u001b[92mINFO \u001b[0m:      \t '\\tround 27: 0.15539320026125228\\n'\n",
      "\u001b[92mINFO \u001b[0m:      \t '\\tround 28: 0.1897540291150411\\n'\n",
      "\u001b[92mINFO \u001b[0m:      \t '\\tround 29: 0.16780655724661692\\n'\n",
      "\u001b[92mINFO \u001b[0m:      \t '\\tround 30: 0.16021490948540823\\n'\n",
      "\u001b[92mINFO \u001b[0m:      \t '\\tround 31: 0.17309741179148355\\n'\n",
      "\u001b[92mINFO \u001b[0m:      \t '\\tround 32: 0.18696399529774985\\n'\n",
      "\u001b[92mINFO \u001b[0m:      \t '\\tround 33: 0.16134064538138254\\n'\n",
      "\u001b[92mINFO \u001b[0m:      \t '\\tround 34: 0.16543528863361903\\n'\n",
      "\u001b[92mINFO \u001b[0m:      \t '\\tround 35: 0.16441914013453893\\n'\n",
      "\u001b[92mINFO \u001b[0m:      \t '\\tround 36: 0.14881854823657445\\n'\n",
      "\u001b[92mINFO \u001b[0m:      \t '\\tround 37: 0.18133512139320374\\n'\n",
      "\u001b[92mINFO \u001b[0m:      \t '\\tround 38: 0.1521351592881339\\n'\n",
      "\u001b[92mINFO \u001b[0m:      \t '\\tround 39: 0.19209869702657065\\n'\n",
      "\u001b[92mINFO \u001b[0m:      \t '\\tround 40: 0.16455239057540894\\n'\n",
      "\u001b[92mINFO \u001b[0m:      \t '\\tround 41: 0.19293851653734842\\n'\n",
      "\u001b[92mINFO \u001b[0m:      \t '\\tround 42: 0.18593923250834146\\n'\n",
      "\u001b[92mINFO \u001b[0m:      \t '\\tround 43: 0.20003757874170938\\n'\n",
      "\u001b[92mINFO \u001b[0m:      \t '\\tround 44: 0.15336917979376657\\n'\n",
      "\u001b[92mINFO \u001b[0m:      \t '\\tround 45: 0.1674496361187526\\n'\n",
      "\u001b[92mINFO \u001b[0m:      \t '\\tround 46: 0.15236946514674596\\n'\n",
      "\u001b[92mINFO \u001b[0m:      \t '\\tround 47: 0.15926465817860194\\n'\n",
      "\u001b[92mINFO \u001b[0m:      \t '\\tround 48: 0.1589747326714652\\n'\n",
      "\u001b[92mINFO \u001b[0m:      \t '\\tround 49: 0.15471518891198294\\n'\n",
      "\u001b[92mINFO \u001b[0m:      \t '\\tround 50: 0.14937594107219151\\n')History (loss, centralized):\n",
      "\u001b[92mINFO \u001b[0m:      \t('\\tround 0: 0.04561318720088286\\n'\n",
      "\u001b[92mINFO \u001b[0m:      \t '\\tround 1: 0.039693537880392635\\n'\n",
      "\u001b[92mINFO \u001b[0m:      \t '\\tround 2: 0.03520810604095459\\n'\n",
      "\u001b[92mINFO \u001b[0m:      \t '\\tround 3: 0.03430942577474257\\n'\n",
      "\u001b[92mINFO \u001b[0m:      \t '\\tround 4: 0.03423414861454683\\n'\n",
      "\u001b[92mINFO \u001b[0m:      \t '\\tround 5: 0.03370464198729571\\n'\n",
      "\u001b[92mINFO \u001b[0m:      \t '\\tround 6: 0.03222810520845301\\n'\n",
      "\u001b[92mINFO \u001b[0m:      \t '\\tround 7: 0.032539371181936824\\n'\n",
      "\u001b[92mINFO \u001b[0m:      \t '\\tround 8: 0.03301083340364344\\n'\n",
      "\u001b[92mINFO \u001b[0m:      \t '\\tround 9: 0.033947264446931726\\n'\n",
      "\u001b[92mINFO \u001b[0m:      \t '\\tround 10: 0.034958818379570454\\n'\n",
      "\u001b[92mINFO \u001b[0m:      \t '\\tround 11: 0.03391737797681023\\n'\n",
      "\u001b[92mINFO \u001b[0m:      \t '\\tround 12: 0.0341080532354467\\n'\n",
      "\u001b[92mINFO \u001b[0m:      \t '\\tround 13: 0.03445644238415886\\n'\n",
      "\u001b[92mINFO \u001b[0m:      \t '\\tround 14: 0.034759381238152\\n'\n",
      "\u001b[92mINFO \u001b[0m:      \t '\\tround 15: 0.033119808225070727\\n'\n",
      "\u001b[92mINFO \u001b[0m:      \t '\\tround 16: 0.03367615797940422\\n'\n",
      "\u001b[92mINFO \u001b[0m:      \t '\\tround 17: 0.03439816306619083\\n'\n",
      "\u001b[92mINFO \u001b[0m:      \t '\\tround 18: 0.033426779157975144\\n'\n",
      "\u001b[92mINFO \u001b[0m:      \t '\\tround 19: 0.03358770118040197\\n'\n",
      "\u001b[92mINFO \u001b[0m:      \t '\\tround 20: 0.033403589445001935\\n'\n",
      "\u001b[92mINFO \u001b[0m:      \t '\\tround 21: 0.032855686019448674\\n'\n",
      "\u001b[92mINFO \u001b[0m:      \t '\\tround 22: 0.033980180235470045\\n'\n",
      "\u001b[92mINFO \u001b[0m:      \t '\\tround 23: 0.03114180705126594\\n'\n",
      "\u001b[92mINFO \u001b[0m:      \t '\\tround 24: 0.033137198756722844\\n'\n",
      "\u001b[92mINFO \u001b[0m:      \t '\\tround 25: 0.03347342855790082\\n'\n",
      "\u001b[92mINFO \u001b[0m:      \t '\\tround 26: 0.032760862041922176\\n'\n",
      "\u001b[92mINFO \u001b[0m:      \t '\\tround 27: 0.03252387397429522\\n'\n",
      "\u001b[92mINFO \u001b[0m:      \t '\\tround 28: 0.03277634522494148\\n'\n",
      "\u001b[92mINFO \u001b[0m:      \t '\\tround 29: 0.03192980149213005\\n'\n",
      "\u001b[92mINFO \u001b[0m:      \t '\\tround 30: 0.031946841408224666\\n'\n",
      "\u001b[92mINFO \u001b[0m:      \t '\\tround 31: 0.03203623785692103\\n'\n",
      "\u001b[92mINFO \u001b[0m:      \t '\\tround 32: 0.03262832234887516\\n'\n",
      "\u001b[92mINFO \u001b[0m:      \t '\\tround 33: 0.03145020498948939\\n'\n",
      "\u001b[92mINFO \u001b[0m:      \t '\\tround 34: 0.03333754399243523\\n'\n",
      "\u001b[92mINFO \u001b[0m:      \t '\\tround 35: 0.03107204507378971\\n'\n",
      "\u001b[92mINFO \u001b[0m:      \t '\\tround 36: 0.03194190824733061\\n'\n",
      "\u001b[92mINFO \u001b[0m:      \t '\\tround 37: 0.03190425213645486\\n'\n",
      "\u001b[92mINFO \u001b[0m:      \t '\\tround 38: 0.032058491426355695\\n'\n",
      "\u001b[92mINFO \u001b[0m:      \t '\\tround 39: 0.032583261237424964\\n'\n",
      "\u001b[92mINFO \u001b[0m:      \t '\\tround 40: 0.03276623347226311\\n'\n",
      "\u001b[92mINFO \u001b[0m:      \t '\\tround 41: 0.033357606214635516\\n'\n",
      "\u001b[92mINFO \u001b[0m:      \t '\\tround 42: 0.032684101777918195\\n'\n",
      "\u001b[92mINFO \u001b[0m:      \t '\\tround 43: 0.032771927468916946\\n'\n",
      "\u001b[92mINFO \u001b[0m:      \t '\\tround 44: 0.0327493758762584\\n'\n",
      "\u001b[92mINFO \u001b[0m:      \t '\\tround 45: 0.03258250040166518\\n'\n",
      "\u001b[92mINFO \u001b[0m:      \t '\\tround 46: 0.032143592834472656\\n'\n",
      "\u001b[92mINFO \u001b[0m:      \t '\\tround 47: 0.03202626284431009\\n'\n",
      "\u001b[92mINFO \u001b[0m:      \t '\\tround 48: 0.032363786416895246\\n'\n",
      "\u001b[92mINFO \u001b[0m:      \t '\\tround 49: 0.032955141628489774\\n'\n",
      "\u001b[92mINFO \u001b[0m:      \t '\\tround 50: 0.03248522562139174\\n')History (metrics, distributed, evaluate):\n",
      "\u001b[92mINFO \u001b[0m:      \t{'accuracy': [(1, 56.44736862182617),\n",
      "\u001b[92mINFO \u001b[0m:      \t              (2, 73.46278762817383),\n",
      "\u001b[92mINFO \u001b[0m:      \t              (3, 74.40759658813477),\n",
      "\u001b[92mINFO \u001b[0m:      \t              (4, 75.0018081665039),\n",
      "\u001b[92mINFO \u001b[0m:      \t              (5, 77.09537506103516),\n",
      "\u001b[92mINFO \u001b[0m:      \t              (6, 75.27803421020508),\n",
      "\u001b[92mINFO \u001b[0m:      \t              (7, 75.53558131626674),\n",
      "\u001b[92mINFO \u001b[0m:      \t              (8, 75.5116958618164),\n",
      "\u001b[92mINFO \u001b[0m:      \t              (9, 75.40823745727539),\n",
      "\u001b[92mINFO \u001b[0m:      \t              (10, 73.92183140345982),\n",
      "\u001b[92mINFO \u001b[0m:      \t              (11, 76.74340057373047),\n",
      "\u001b[92mINFO \u001b[0m:      \t              (12, 74.8995121547154),\n",
      "\u001b[92mINFO \u001b[0m:      \t              (13, 76.16198348999023),\n",
      "\u001b[92mINFO \u001b[0m:      \t              (14, 75.65028762817383),\n",
      "\u001b[92mINFO \u001b[0m:      \t              (15, 76.45100402832031),\n",
      "\u001b[92mINFO \u001b[0m:      \t              (16, 75.41968209402901),\n",
      "\u001b[92mINFO \u001b[0m:      \t              (17, 75.17909240722656),\n",
      "\u001b[92mINFO \u001b[0m:      \t              (18, 76.52649579729352),\n",
      "\u001b[92mINFO \u001b[0m:      \t              (19, 74.73046003069196),\n",
      "\u001b[92mINFO \u001b[0m:      \t              (20, 74.73046003069196),\n",
      "\u001b[92mINFO \u001b[0m:      \t              (21, 75.84429931640625),\n",
      "\u001b[92mINFO \u001b[0m:      \t              (22, 75.2847900390625),\n",
      "\u001b[92mINFO \u001b[0m:      \t              (23, 75.26603698730469),\n",
      "\u001b[92mINFO \u001b[0m:      \t              (24, 73.11489432198661),\n",
      "\u001b[92mINFO \u001b[0m:      \t              (25, 74.41436004638672),\n",
      "\u001b[92mINFO \u001b[0m:      \t              (26, 75.96278762817383),\n",
      "\u001b[92mINFO \u001b[0m:      \t              (27, 72.81884220668248),\n",
      "\u001b[92mINFO \u001b[0m:      \t              (28, 74.70337677001953),\n",
      "\u001b[92mINFO \u001b[0m:      \t              (29, 74.45741271972656),\n",
      "\u001b[92mINFO \u001b[0m:      \t              (30, 74.99649701799665),\n",
      "\u001b[92mINFO \u001b[0m:      \t              (31, 76.61127090454102),\n",
      "\u001b[92mINFO \u001b[0m:      \t              (32, 75.3847541809082),\n",
      "\u001b[92mINFO \u001b[0m:      \t              (33, 75.53066144670758),\n",
      "\u001b[92mINFO \u001b[0m:      \t              (34, 72.04804338727679),\n",
      "\u001b[92mINFO \u001b[0m:      \t              (35, 74.47922079903739),\n",
      "\u001b[92mINFO \u001b[0m:      \t              (36, 75.26617431640625),\n",
      "\u001b[92mINFO \u001b[0m:      \t              (37, 74.40759658813477),\n",
      "\u001b[92mINFO \u001b[0m:      \t              (38, 73.395751953125),\n",
      "\u001b[92mINFO \u001b[0m:      \t              (39, 73.79751586914062),\n",
      "\u001b[92mINFO \u001b[0m:      \t              (40, 72.62496076311383),\n",
      "\u001b[92mINFO \u001b[0m:      \t              (41, 75.6972541809082),\n",
      "\u001b[92mINFO \u001b[0m:      \t              (42, 73.79751586914062),\n",
      "\u001b[92mINFO \u001b[0m:      \t              (43, 73.53378677368164),\n",
      "\u001b[92mINFO \u001b[0m:      \t              (44, 75.28784942626953),\n",
      "\u001b[92mINFO \u001b[0m:      \t              (45, 75.53558131626674),\n",
      "\u001b[92mINFO \u001b[0m:      \t              (46, 76.00922284807477),\n",
      "\u001b[92mINFO \u001b[0m:      \t              (47, 74.14424569266183),\n",
      "\u001b[92mINFO \u001b[0m:      \t              (48, 75.25606427873883),\n",
      "\u001b[92mINFO \u001b[0m:      \t              (49, 75.26111711774554),\n",
      "\u001b[92mINFO \u001b[0m:      \t              (50, 73.96195220947266)]}History (metrics, centralized):\n",
      "\u001b[92mINFO \u001b[0m:      \t{'accuracy': [(0, tensor(49.5220, device='cuda:0')),\n",
      "\u001b[92mINFO \u001b[0m:      \t              (1, tensor(56.4054, device='cuda:0')),\n",
      "\u001b[92mINFO \u001b[0m:      \t              (2, tensor(68.2600, device='cuda:0')),\n",
      "\u001b[92mINFO \u001b[0m:      \t              (3, tensor(70.8413, device='cuda:0')),\n",
      "\u001b[92mINFO \u001b[0m:      \t              (4, tensor(72.5621, device='cuda:0')),\n",
      "\u001b[92mINFO \u001b[0m:      \t              (5, tensor(73.7094, device='cuda:0')),\n",
      "\u001b[92mINFO \u001b[0m:      \t              (6, tensor(74.2830, device='cuda:0')),\n",
      "\u001b[92mINFO \u001b[0m:      \t              (7, tensor(74.6654, device='cuda:0')),\n",
      "\u001b[92mINFO \u001b[0m:      \t              (8, tensor(74.0918, device='cuda:0')),\n",
      "\u001b[92mINFO \u001b[0m:      \t              (9, tensor(72.6577, device='cuda:0')),\n",
      "\u001b[92mINFO \u001b[0m:      \t              (10, tensor(71.3193, device='cuda:0')),\n",
      "\u001b[92mINFO \u001b[0m:      \t              (11, tensor(73.7094, device='cuda:0')),\n",
      "\u001b[92mINFO \u001b[0m:      \t              (12, tensor(74.2830, device='cuda:0')),\n",
      "\u001b[92mINFO \u001b[0m:      \t              (13, tensor(73.9962, device='cuda:0')),\n",
      "\u001b[92mINFO \u001b[0m:      \t              (14, tensor(72.5621, device='cuda:0')),\n",
      "\u001b[92mINFO \u001b[0m:      \t              (15, tensor(74.6654, device='cuda:0')),\n",
      "\u001b[92mINFO \u001b[0m:      \t              (16, tensor(73.9006, device='cuda:0')),\n",
      "\u001b[92mINFO \u001b[0m:      \t              (17, tensor(73.7094, device='cuda:0')),\n",
      "\u001b[92mINFO \u001b[0m:      \t              (18, tensor(74.0918, device='cuda:0')),\n",
      "\u001b[92mINFO \u001b[0m:      \t              (19, tensor(73.5182, device='cuda:0')),\n",
      "\u001b[92mINFO \u001b[0m:      \t              (20, tensor(73.5182, device='cuda:0')),\n",
      "\u001b[92mINFO \u001b[0m:      \t              (21, tensor(74.6654, device='cuda:0')),\n",
      "\u001b[92mINFO \u001b[0m:      \t              (22, tensor(72.6577, device='cuda:0')),\n",
      "\u001b[92mINFO \u001b[0m:      \t              (23, tensor(76.0038, device='cuda:0')),\n",
      "\u001b[92mINFO \u001b[0m:      \t              (24, tensor(73.0402, device='cuda:0')),\n",
      "\u001b[92mINFO \u001b[0m:      \t              (25, tensor(72.6577, device='cuda:0')),\n",
      "\u001b[92mINFO \u001b[0m:      \t              (26, tensor(74.9522, device='cuda:0')),\n",
      "\u001b[92mINFO \u001b[0m:      \t              (27, tensor(74.6654, device='cuda:0')),\n",
      "\u001b[92mINFO \u001b[0m:      \t              (28, tensor(73.7094, device='cuda:0')),\n",
      "\u001b[92mINFO \u001b[0m:      \t              (29, tensor(74.5698, device='cuda:0')),\n",
      "\u001b[92mINFO \u001b[0m:      \t              (30, tensor(74.3786, device='cuda:0')),\n",
      "\u001b[92mINFO \u001b[0m:      \t              (31, tensor(74.8566, device='cuda:0')),\n",
      "\u001b[92mINFO \u001b[0m:      \t              (32, tensor(73.7094, device='cuda:0')),\n",
      "\u001b[92mINFO \u001b[0m:      \t              (33, tensor(74.7610, device='cuda:0')),\n",
      "\u001b[92mINFO \u001b[0m:      \t              (34, tensor(73.9006, device='cuda:0')),\n",
      "\u001b[92mINFO \u001b[0m:      \t              (35, tensor(75.1434, device='cuda:0')),\n",
      "\u001b[92mINFO \u001b[0m:      \t              (36, tensor(74.2830, device='cuda:0')),\n",
      "\u001b[92mINFO \u001b[0m:      \t              (37, tensor(74.5698, device='cuda:0')),\n",
      "\u001b[92mINFO \u001b[0m:      \t              (38, tensor(74.1874, device='cuda:0')),\n",
      "\u001b[92mINFO \u001b[0m:      \t              (39, tensor(74.0918, device='cuda:0')),\n",
      "\u001b[92mINFO \u001b[0m:      \t              (40, tensor(73.9006, device='cuda:0')),\n",
      "\u001b[92mINFO \u001b[0m:      \t              (41, tensor(73.8050, device='cuda:0')),\n",
      "\u001b[92mINFO \u001b[0m:      \t              (42, tensor(73.5182, device='cuda:0')),\n",
      "\u001b[92mINFO \u001b[0m:      \t              (43, tensor(74.8566, device='cuda:0')),\n",
      "\u001b[92mINFO \u001b[0m:      \t              (44, tensor(74.5698, device='cuda:0')),\n",
      "\u001b[92mINFO \u001b[0m:      \t              (45, tensor(75.0478, device='cuda:0')),\n",
      "\u001b[92mINFO \u001b[0m:      \t              (46, tensor(74.6654, device='cuda:0')),\n",
      "\u001b[92mINFO \u001b[0m:      \t              (47, tensor(75.1434, device='cuda:0')),\n",
      "\u001b[92mINFO \u001b[0m:      \t              (48, tensor(74.7610, device='cuda:0')),\n",
      "\u001b[92mINFO \u001b[0m:      \t              (49, tensor(74.5698, device='cuda:0')),\n",
      "\u001b[92mINFO \u001b[0m:      \t              (50, tensor(74.4742, device='cuda:0'))]}\n",
      "\u001b[92mINFO \u001b[0m:      \n"
     ]
    }
   ],
   "source": [
    "# client will be allocated 1x CPU and 0x GPUs\n",
    "if device.type == 'cuda':\n",
    "    # here we are assigning an entire GPU for each client.\n",
    "    client_resources = {\"num_cpus\": 1, \"num_gpus\": 1.0}\n",
    "    # Refer to our documentation for more details about Flower Simulations\n",
    "    # and how to setup these `client_resources`.\n",
    "    \n",
    "# The `evaluate` function will be called by Flower after every round\n",
    "ftl_acc = []\n",
    "def evaluate(server_round,parameters,config,):\n",
    "    testloader = azure_test_loader\n",
    "    set_parameters(net_FTL, parameters)  # Update model with the latest parameters\n",
    "    loss, accuracy = test(net_FTL, testloader, configuration)\n",
    "    print(f\"Server-side evaluation loss {loss} / accuracy {accuracy}\")\n",
    "    ftl_acc.append(accuracy)\n",
    "    metrics = {'FTL loss': loss,\n",
    "               \"FTL accuracy\": accuracy}\n",
    "    wandb.log(metrics)\n",
    "    return loss, {\"accuracy\": accuracy}\n",
    "\n",
    "def weighted_average(metrics):\n",
    "    # Multiply accuracy of each client by number of examples used\n",
    "    accuracies = [num_examples * m[\"accuracy\"] for num_examples, m in metrics]\n",
    "    examples = [num_examples for num_examples, _ in metrics]\n",
    "\n",
    "    # Aggregate and return custom metric (weighted average)\n",
    "    return {\"accuracy\": sum(accuracies) / sum(examples)}\n",
    "params = get_parameters(net_FTL)\n",
    "strategy = fl.server.strategy.FedAvg(\n",
    "    fraction_fit=1,\n",
    "    fraction_evaluate=0.5,\n",
    "    min_fit_clients=2,\n",
    "    min_evaluate_clients=1,\n",
    "    min_available_clients=1,\n",
    "    evaluate_fn=evaluate,\n",
    "    initial_parameters= ndarrays_to_parameters(params),\n",
    "    evaluate_metrics_aggregation_fn=weighted_average # <-- pass the metric aggregation function\n",
    ")\n",
    "# Start simulation\n",
    "history = fl.simulation.start_simulation(\n",
    "    client_fn=client_fn,\n",
    "    num_clients=4,\n",
    "    config=fl.server.ServerConfig(num_rounds=configuration['num_rounds_FL']),\n",
    "    strategy=strategy,\n",
    "    client_resources=client_resources,\n",
    ")"
   ]
  },
  {
   "cell_type": "code",
   "execution_count": 22,
   "metadata": {},
   "outputs": [
    {
     "data": {
      "text/plain": [
       "Text(0.5, 0, 'Rounds')"
      ]
     },
     "execution_count": 22,
     "metadata": {},
     "output_type": "execute_result"
    },
    {
     "data": {
      "image/png": "[encoded data removed]",
      "text/plain": [
       "<Figure size 640x480 with 1 Axes>"
      ]
     },
     "metadata": {},
     "output_type": "display_data"
    }
   ],
   "source": [
    "f = []\n",
    "for i in ftl_acc:\n",
    "    f.append(float(i))\n",
    "plt.plot(f)\n",
    "plt.title('Federated Transfer Learning test accuracies')\n",
    "plt.ylabel('Accuracies')\n",
    "plt.xlabel('Rounds')"
   ]
  },
  {
   "cell_type": "code",
   "execution_count": 23,
   "metadata": {},
   "outputs": [
    {
     "data": {
      "text/plain": [
       "tensor(76.0038, device='cuda:0')"
      ]
     },
     "execution_count": 23,
     "metadata": {},
     "output_type": "execute_result"
    }
   ],
   "source": [
    "max(ftl_acc)"
   ]
  },
  {
   "cell_type": "code",
   "execution_count": null,
   "metadata": {},
   "outputs": [],
   "source": []
  }
 ],
 "metadata": {
  "kernelspec": {
   "display_name": "Python 3 (ipykernel)",
   "language": "python",
   "name": "python3"
  }
 },
 "nbformat": 4,
 "nbformat_minor": 2
}
